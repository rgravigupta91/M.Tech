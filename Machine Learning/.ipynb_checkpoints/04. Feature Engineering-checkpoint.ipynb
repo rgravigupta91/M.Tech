{
 "cells": [
  {
   "cell_type": "raw",
   "id": "676145c3-2520-410c-abe4-414a2c24324a",
   "metadata": {},
   "source": [
    "Feature Engineering\n",
    "    Freature Transformation\n",
    "        Missing Value Imputation\n",
    "        Handling Categorical Features\n",
    "        Outlier Detection\n",
    "        Feature Scaling\n",
    "    Feature Construction\n",
    "    Feature Selection\n",
    "    Feature Extraction"
   ]
  }
 ],
 "metadata": {
  "kernelspec": {
   "display_name": "Python 3 (ipykernel)",
   "language": "python",
   "name": "python3"
  },
  "language_info": {
   "codemirror_mode": {
    "name": "ipython",
    "version": 3
   },
   "file_extension": ".py",
   "mimetype": "text/x-python",
   "name": "python",
   "nbconvert_exporter": "python",
   "pygments_lexer": "ipython3",
   "version": "3.11.7"
  }
 },
 "nbformat": 4,
 "nbformat_minor": 5
}
