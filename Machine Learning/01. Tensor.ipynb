{
 "cells": [
  {
   "cell_type": "code",
   "execution_count": 1,
   "id": "76c0023b-741d-4439-83ab-00bd76602ec6",
   "metadata": {},
   "outputs": [],
   "source": [
    "import numpy as np"
   ]
  },
  {
   "cell_type": "markdown",
   "id": "fdab48ad-5ff9-496c-9dcb-08fbd8e49322",
   "metadata": {},
   "source": [
    "#### Tensor: \n",
    "is a container for Numbers"
   ]
  },
  {
   "cell_type": "markdown",
   "id": "64867d88-6aeb-4602-9b77-115feed0005c",
   "metadata": {},
   "source": [
    "### 0D Tensor"
   ]
  },
  {
   "cell_type": "code",
   "execution_count": 2,
   "id": "3f0c1599-27e0-4fcc-8840-181b5811c48c",
   "metadata": {},
   "outputs": [],
   "source": [
    "a = np.array(4)"
   ]
  },
  {
   "cell_type": "code",
   "execution_count": 3,
   "id": "adcc0000-d8a9-4315-a9b8-57df693ab577",
   "metadata": {},
   "outputs": [
    {
     "data": {
      "text/plain": [
       "array(4)"
      ]
     },
     "execution_count": 3,
     "metadata": {},
     "output_type": "execute_result"
    }
   ],
   "source": [
    "a"
   ]
  },
  {
   "cell_type": "code",
   "execution_count": 5,
   "id": "8d457838-b8e0-47ac-b4da-48b12490040c",
   "metadata": {},
   "outputs": [
    {
     "data": {
      "text/plain": [
       "0"
      ]
     },
     "execution_count": 5,
     "metadata": {},
     "output_type": "execute_result"
    }
   ],
   "source": [
    "a.ndim"
   ]
  },
  {
   "cell_type": "markdown",
   "id": "ef21c2b9-4d77-4b71-a2f5-ed4a51678ed7",
   "metadata": {},
   "source": [
    "### 1D Tensor"
   ]
  },
  {
   "cell_type": "code",
   "execution_count": 6,
   "id": "ed2de515-baf7-4661-9c9f-3f3850a27e6f",
   "metadata": {},
   "outputs": [],
   "source": [
    "arr = np.array([12,3,4])"
   ]
  },
  {
   "cell_type": "code",
   "execution_count": 7,
   "id": "a6a82208-3861-4d64-b49b-4e0de2681821",
   "metadata": {},
   "outputs": [
    {
     "data": {
      "text/plain": [
       "array([12,  3,  4])"
      ]
     },
     "execution_count": 7,
     "metadata": {},
     "output_type": "execute_result"
    }
   ],
   "source": [
    "arr"
   ]
  },
  {
   "cell_type": "code",
   "execution_count": 8,
   "id": "e13f4809-1ebe-46db-89a1-79ea7799cc4e",
   "metadata": {},
   "outputs": [
    {
     "data": {
      "text/plain": [
       "1"
      ]
     },
     "execution_count": 8,
     "metadata": {},
     "output_type": "execute_result"
    }
   ],
   "source": [
    "arr.ndim"
   ]
  },
  {
   "cell_type": "markdown",
   "id": "40f04600-3edd-48f8-bb2c-9d209d13dc30",
   "metadata": {},
   "source": [
    "### 2D Tensor"
   ]
  },
  {
   "cell_type": "code",
   "execution_count": 9,
   "id": "9712818c-135f-43f2-968d-4f945f07f46f",
   "metadata": {},
   "outputs": [],
   "source": [
    "mat = np.array([[1,2,3],[4,5,6],[7,8,9]])"
   ]
  },
  {
   "cell_type": "code",
   "execution_count": 10,
   "id": "f617e67c-0b9e-4365-a059-81b743fbf82a",
   "metadata": {},
   "outputs": [
    {
     "data": {
      "text/plain": [
       "array([[1, 2, 3],\n",
       "       [4, 5, 6],\n",
       "       [7, 8, 9]])"
      ]
     },
     "execution_count": 10,
     "metadata": {},
     "output_type": "execute_result"
    }
   ],
   "source": [
    "mat"
   ]
  },
  {
   "cell_type": "code",
   "execution_count": 11,
   "id": "9e2c2daa-c1b0-41b2-ba12-66c5720d91b9",
   "metadata": {},
   "outputs": [
    {
     "data": {
      "text/plain": [
       "2"
      ]
     },
     "execution_count": 11,
     "metadata": {},
     "output_type": "execute_result"
    }
   ],
   "source": [
    "mat.ndim"
   ]
  },
  {
   "cell_type": "markdown",
   "id": "73d11990-1cce-4fa6-b815-5438e0a03059",
   "metadata": {},
   "source": [
    "### Rank, Axis and Shape"
   ]
  },
  {
   "cell_type": "markdown",
   "id": "828183e5-1f6c-402f-bd63-92bcdcae0008",
   "metadata": {},
   "source": [
    "No of Axis = Rank = No. of Dimension"
   ]
  },
  {
   "cell_type": "code",
   "execution_count": 12,
   "id": "19a98df7-61ea-48b6-b0a4-0758a8f3e820",
   "metadata": {},
   "outputs": [
    {
     "data": {
      "text/plain": [
       "(3, 3)"
      ]
     },
     "execution_count": 12,
     "metadata": {},
     "output_type": "execute_result"
    }
   ],
   "source": [
    "mat.shape"
   ]
  },
  {
   "cell_type": "code",
   "execution_count": 13,
   "id": "c64e6fc3-8368-4079-adc9-07266f565ea7",
   "metadata": {},
   "outputs": [
    {
     "data": {
      "text/plain": [
       "9"
      ]
     },
     "execution_count": 13,
     "metadata": {},
     "output_type": "execute_result"
    }
   ],
   "source": [
    "mat.size"
   ]
  },
  {
   "cell_type": "code",
   "execution_count": null,
   "id": "54b20624-046f-4fb7-968e-94f79a1bf369",
   "metadata": {},
   "outputs": [],
   "source": []
  }
 ],
 "metadata": {
  "kernelspec": {
   "display_name": "Python 3 (ipykernel)",
   "language": "python",
   "name": "python3"
  },
  "language_info": {
   "codemirror_mode": {
    "name": "ipython",
    "version": 3
   },
   "file_extension": ".py",
   "mimetype": "text/x-python",
   "name": "python",
   "nbconvert_exporter": "python",
   "pygments_lexer": "ipython3",
   "version": "3.11.7"
  }
 },
 "nbformat": 4,
 "nbformat_minor": 5
}
