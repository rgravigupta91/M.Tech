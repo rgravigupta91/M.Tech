{
 "cells": [
  {
   "cell_type": "markdown",
   "id": "6ac6371f-ac5c-47c0-88c2-f04fd5df525f",
   "metadata": {},
   "source": [
    "<ul>Feature Engineering</ul>\n",
    "<li>Freature Transformation</li>\n",
    "    1. Missing Value Imputation<br/>\n",
    "    2. Handling Categorical Features<br/>\n",
    "    3. Outlier Detection<br/>\n",
    "    4. Feature Scaling\n",
    "<li>Feature Construction</li>\n",
    "<li>Feature Selection</li>\n",
    "<li>Feature Extraction</li>"
   ]
  },
  {
   "cell_type": "code",
   "execution_count": null,
   "id": "7ce8d781-138b-4e2a-8236-4875e6a30ce1",
   "metadata": {},
   "outputs": [],
   "source": [
    " "
   ]
  }
 ],
 "metadata": {
  "kernelspec": {
   "display_name": "Python 3 (ipykernel)",
   "language": "python",
   "name": "python3"
  },
  "language_info": {
   "codemirror_mode": {
    "name": "ipython",
    "version": 3
   },
   "file_extension": ".py",
   "mimetype": "text/x-python",
   "name": "python",
   "nbconvert_exporter": "python",
   "pygments_lexer": "ipython3",
   "version": "3.12.0"
  }
 },
 "nbformat": 4,
 "nbformat_minor": 5
}
