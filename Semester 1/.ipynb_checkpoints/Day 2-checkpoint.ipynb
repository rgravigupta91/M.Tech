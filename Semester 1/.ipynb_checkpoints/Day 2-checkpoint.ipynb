{
 "cells": [
  {
   "cell_type": "markdown",
   "id": "52ffb5ec",
   "metadata": {},
   "source": [
    "# Jan 07, 2024"
   ]
  },
  {
   "cell_type": "markdown",
   "id": "3d9d987b",
   "metadata": {},
   "source": [
    "# Dictionary"
   ]
  },
  {
   "cell_type": "code",
   "execution_count": 8,
   "id": "9b35da53",
   "metadata": {},
   "outputs": [
    {
     "name": "stdout",
     "output_type": "stream",
     "text": [
      "<class 'zip'>\n",
      "<zip object at 0x000001CD162FED00>\n"
     ]
    }
   ],
   "source": [
    "klist = ['Bank','Branch','City']\n",
    "vlist = ['Axis','MG Road','Bangalore']\n",
    "\n",
    "z = zip(klist,vlist)      # Iterator: can be accessed only once. and z will be empty after that\n",
    "print(type(z))\n",
    "print(z)"
   ]
  },
  {
   "cell_type": "code",
   "execution_count": 9,
   "id": "0a63d333",
   "metadata": {},
   "outputs": [
    {
     "data": {
      "text/plain": [
       "[('Bank', 'Axis'), ('Branch', 'MG Road'), ('City', 'Bangalore')]"
      ]
     },
     "execution_count": 9,
     "metadata": {},
     "output_type": "execute_result"
    }
   ],
   "source": [
    "list(z)"
   ]
  },
  {
   "cell_type": "code",
   "execution_count": 10,
   "id": "2f46b9d2",
   "metadata": {},
   "outputs": [
    {
     "data": {
      "text/plain": [
       "[]"
      ]
     },
     "execution_count": 10,
     "metadata": {},
     "output_type": "execute_result"
    }
   ],
   "source": [
    "list(z)"
   ]
  },
  {
   "cell_type": "code",
   "execution_count": 11,
   "id": "30aee4f3",
   "metadata": {},
   "outputs": [
    {
     "name": "stdout",
     "output_type": "stream",
     "text": [
      "{'Bank': 'Axis', 'Branch': 'MG Road', 'City': 'Bangalore'}\n"
     ]
    }
   ],
   "source": [
    "klist = ['Bank','Branch','City']\n",
    "vlist = ['Axis','MG Road','Bangalore']\n",
    "\n",
    "md1 = dict(zip(klist,vlist))\n",
    "print(md1)"
   ]
  },
  {
   "cell_type": "markdown",
   "id": "aec0f1ab",
   "metadata": {},
   "source": [
    "# Set"
   ]
  },
  {
   "cell_type": "markdown",
   "id": "d14c7813",
   "metadata": {},
   "source": [
    "- unordered collection of immutable items\n",
    "- Every element is unique ( no duplicates )"
   ]
  },
  {
   "cell_type": "code",
   "execution_count": 12,
   "id": "6b0d3d06",
   "metadata": {},
   "outputs": [
    {
     "name": "stdout",
     "output_type": "stream",
     "text": [
      "<class 'set'>\n",
      "{0, 1, 2, 3, 4, 5, 6, 8}\n",
      "8\n"
     ]
    }
   ],
   "source": [
    "ms1 = { 2,4,6,8,0,2,6,5,3,8,1}\n",
    "print(type(ms1))\n",
    "print(ms1)\n",
    "print(len(ms1))"
   ]
  },
  {
   "cell_type": "code",
   "execution_count": 14,
   "id": "01bb6184",
   "metadata": {},
   "outputs": [
    {
     "name": "stdout",
     "output_type": "stream",
     "text": [
      "<class 'dict'>\n",
      "<class 'set'>\n"
     ]
    }
   ],
   "source": [
    "md2 = {}\n",
    "ms2 = set()\n",
    "\n",
    "print(type(md2))\n",
    "print(type(ms2))"
   ]
  },
  {
   "cell_type": "code",
   "execution_count": 15,
   "id": "bcdcd6b3",
   "metadata": {},
   "outputs": [
    {
     "name": "stdout",
     "output_type": "stream",
     "text": [
      "{2, 3, 'Hello', 5, 7}\n"
     ]
    }
   ],
   "source": [
    "ms3 = {2,3,5,7,'Hello'}\n",
    "print(ms3)"
   ]
  },
  {
   "cell_type": "code",
   "execution_count": 16,
   "id": "9d4bab26",
   "metadata": {},
   "outputs": [
    {
     "name": "stdout",
     "output_type": "stream",
     "text": [
      "Help on class set in module builtins:\n",
      "\n",
      "class set(object)\n",
      " |  set() -> new empty set object\n",
      " |  set(iterable) -> new set object\n",
      " |  \n",
      " |  Build an unordered collection of unique elements.\n",
      " |  \n",
      " |  Methods defined here:\n",
      " |  \n",
      " |  __and__(self, value, /)\n",
      " |      Return self&value.\n",
      " |  \n",
      " |  __contains__(...)\n",
      " |      x.__contains__(y) <==> y in x.\n",
      " |  \n",
      " |  __eq__(self, value, /)\n",
      " |      Return self==value.\n",
      " |  \n",
      " |  __ge__(self, value, /)\n",
      " |      Return self>=value.\n",
      " |  \n",
      " |  __getattribute__(self, name, /)\n",
      " |      Return getattr(self, name).\n",
      " |  \n",
      " |  __gt__(self, value, /)\n",
      " |      Return self>value.\n",
      " |  \n",
      " |  __iand__(self, value, /)\n",
      " |      Return self&=value.\n",
      " |  \n",
      " |  __init__(self, /, *args, **kwargs)\n",
      " |      Initialize self.  See help(type(self)) for accurate signature.\n",
      " |  \n",
      " |  __ior__(self, value, /)\n",
      " |      Return self|=value.\n",
      " |  \n",
      " |  __isub__(self, value, /)\n",
      " |      Return self-=value.\n",
      " |  \n",
      " |  __iter__(self, /)\n",
      " |      Implement iter(self).\n",
      " |  \n",
      " |  __ixor__(self, value, /)\n",
      " |      Return self^=value.\n",
      " |  \n",
      " |  __le__(self, value, /)\n",
      " |      Return self<=value.\n",
      " |  \n",
      " |  __len__(self, /)\n",
      " |      Return len(self).\n",
      " |  \n",
      " |  __lt__(self, value, /)\n",
      " |      Return self<value.\n",
      " |  \n",
      " |  __ne__(self, value, /)\n",
      " |      Return self!=value.\n",
      " |  \n",
      " |  __or__(self, value, /)\n",
      " |      Return self|value.\n",
      " |  \n",
      " |  __rand__(self, value, /)\n",
      " |      Return value&self.\n",
      " |  \n",
      " |  __reduce__(...)\n",
      " |      Return state information for pickling.\n",
      " |  \n",
      " |  __repr__(self, /)\n",
      " |      Return repr(self).\n",
      " |  \n",
      " |  __ror__(self, value, /)\n",
      " |      Return value|self.\n",
      " |  \n",
      " |  __rsub__(self, value, /)\n",
      " |      Return value-self.\n",
      " |  \n",
      " |  __rxor__(self, value, /)\n",
      " |      Return value^self.\n",
      " |  \n",
      " |  __sizeof__(...)\n",
      " |      S.__sizeof__() -> size of S in memory, in bytes\n",
      " |  \n",
      " |  __sub__(self, value, /)\n",
      " |      Return self-value.\n",
      " |  \n",
      " |  __xor__(self, value, /)\n",
      " |      Return self^value.\n",
      " |  \n",
      " |  add(...)\n",
      " |      Add an element to a set.\n",
      " |      \n",
      " |      This has no effect if the element is already present.\n",
      " |  \n",
      " |  clear(...)\n",
      " |      Remove all elements from this set.\n",
      " |  \n",
      " |  copy(...)\n",
      " |      Return a shallow copy of a set.\n",
      " |  \n",
      " |  difference(...)\n",
      " |      Return the difference of two or more sets as a new set.\n",
      " |      \n",
      " |      (i.e. all elements that are in this set but not the others.)\n",
      " |  \n",
      " |  difference_update(...)\n",
      " |      Remove all elements of another set from this set.\n",
      " |  \n",
      " |  discard(...)\n",
      " |      Remove an element from a set if it is a member.\n",
      " |      \n",
      " |      Unlike set.remove(), the discard() method does not raise\n",
      " |      an exception when an element is missing from the set.\n",
      " |  \n",
      " |  intersection(...)\n",
      " |      Return the intersection of two sets as a new set.\n",
      " |      \n",
      " |      (i.e. all elements that are in both sets.)\n",
      " |  \n",
      " |  intersection_update(...)\n",
      " |      Update a set with the intersection of itself and another.\n",
      " |  \n",
      " |  isdisjoint(...)\n",
      " |      Return True if two sets have a null intersection.\n",
      " |  \n",
      " |  issubset(...)\n",
      " |      Report whether another set contains this set.\n",
      " |  \n",
      " |  issuperset(...)\n",
      " |      Report whether this set contains another set.\n",
      " |  \n",
      " |  pop(...)\n",
      " |      Remove and return an arbitrary set element.\n",
      " |      Raises KeyError if the set is empty.\n",
      " |  \n",
      " |  remove(...)\n",
      " |      Remove an element from a set; it must be a member.\n",
      " |      \n",
      " |      If the element is not a member, raise a KeyError.\n",
      " |  \n",
      " |  symmetric_difference(...)\n",
      " |      Return the symmetric difference of two sets as a new set.\n",
      " |      \n",
      " |      (i.e. all elements that are in exactly one of the sets.)\n",
      " |  \n",
      " |  symmetric_difference_update(...)\n",
      " |      Update a set with the symmetric difference of itself and another.\n",
      " |  \n",
      " |  union(...)\n",
      " |      Return the union of sets as a new set.\n",
      " |      \n",
      " |      (i.e. all elements that are in either set.)\n",
      " |  \n",
      " |  update(...)\n",
      " |      Update a set with the union of itself and others.\n",
      " |  \n",
      " |  ----------------------------------------------------------------------\n",
      " |  Class methods defined here:\n",
      " |  \n",
      " |  __class_getitem__(...) from builtins.type\n",
      " |      See PEP 585\n",
      " |  \n",
      " |  ----------------------------------------------------------------------\n",
      " |  Static methods defined here:\n",
      " |  \n",
      " |  __new__(*args, **kwargs) from builtins.type\n",
      " |      Create and return a new object.  See help(type) for accurate signature.\n",
      " |  \n",
      " |  ----------------------------------------------------------------------\n",
      " |  Data and other attributes defined here:\n",
      " |  \n",
      " |  __hash__ = None\n",
      "\n"
     ]
    }
   ],
   "source": [
    "help(set)"
   ]
  },
  {
   "cell_type": "code",
   "execution_count": 17,
   "id": "9e982b21",
   "metadata": {},
   "outputs": [
    {
     "name": "stdout",
     "output_type": "stream",
     "text": [
      "Help on method_descriptor:\n",
      "\n",
      "pop(...)\n",
      "    Remove and return an arbitrary set element.\n",
      "    Raises KeyError if the set is empty.\n",
      "\n"
     ]
    }
   ],
   "source": [
    "help(set.pop)"
   ]
  },
  {
   "cell_type": "code",
   "execution_count": 18,
   "id": "0250bae8",
   "metadata": {},
   "outputs": [
    {
     "data": {
      "text/plain": [
       "2"
      ]
     },
     "execution_count": 18,
     "metadata": {},
     "output_type": "execute_result"
    }
   ],
   "source": [
    "ms3.pop()"
   ]
  },
  {
   "cell_type": "code",
   "execution_count": 19,
   "id": "6148cc9f",
   "metadata": {},
   "outputs": [
    {
     "data": {
      "text/plain": [
       "3"
      ]
     },
     "execution_count": 19,
     "metadata": {},
     "output_type": "execute_result"
    }
   ],
   "source": [
    "ms3.pop()"
   ]
  },
  {
   "cell_type": "code",
   "execution_count": 20,
   "id": "6b42e973",
   "metadata": {},
   "outputs": [
    {
     "data": {
      "text/plain": [
       "'Hello'"
      ]
     },
     "execution_count": 20,
     "metadata": {},
     "output_type": "execute_result"
    }
   ],
   "source": [
    "ms3.pop()"
   ]
  },
  {
   "cell_type": "code",
   "execution_count": 21,
   "id": "10dbc1d7",
   "metadata": {},
   "outputs": [
    {
     "data": {
      "text/plain": [
       "5"
      ]
     },
     "execution_count": 21,
     "metadata": {},
     "output_type": "execute_result"
    }
   ],
   "source": [
    "ms3.pop()"
   ]
  },
  {
   "cell_type": "code",
   "execution_count": 22,
   "id": "30f58de7",
   "metadata": {},
   "outputs": [
    {
     "data": {
      "text/plain": [
       "7"
      ]
     },
     "execution_count": 22,
     "metadata": {},
     "output_type": "execute_result"
    }
   ],
   "source": [
    "ms3.pop()"
   ]
  },
  {
   "cell_type": "code",
   "execution_count": 23,
   "id": "ffef7ce0",
   "metadata": {},
   "outputs": [
    {
     "ename": "KeyError",
     "evalue": "'pop from an empty set'",
     "output_type": "error",
     "traceback": [
      "\u001b[1;31m---------------------------------------------------------------------------\u001b[0m",
      "\u001b[1;31mKeyError\u001b[0m                                  Traceback (most recent call last)",
      "Cell \u001b[1;32mIn[23], line 1\u001b[0m\n\u001b[1;32m----> 1\u001b[0m ms3\u001b[38;5;241m.\u001b[39mpop()\n",
      "\u001b[1;31mKeyError\u001b[0m: 'pop from an empty set'"
     ]
    }
   ],
   "source": [
    "ms3.pop()"
   ]
  },
  {
   "cell_type": "code",
   "execution_count": 24,
   "id": "70072648",
   "metadata": {},
   "outputs": [
    {
     "data": {
      "text/plain": [
       "set()"
      ]
     },
     "execution_count": 24,
     "metadata": {},
     "output_type": "execute_result"
    }
   ],
   "source": [
    "ms2"
   ]
  },
  {
   "cell_type": "code",
   "execution_count": 25,
   "id": "8433546b",
   "metadata": {},
   "outputs": [
    {
     "name": "stdout",
     "output_type": "stream",
     "text": [
      "set()\n"
     ]
    }
   ],
   "source": [
    "print(ms2)"
   ]
  },
  {
   "cell_type": "code",
   "execution_count": 26,
   "id": "6f36fec5",
   "metadata": {},
   "outputs": [
    {
     "name": "stdout",
     "output_type": "stream",
     "text": [
      "set()\n"
     ]
    }
   ],
   "source": [
    "print(ms3)"
   ]
  },
  {
   "cell_type": "code",
   "execution_count": 27,
   "id": "d20b6763",
   "metadata": {},
   "outputs": [
    {
     "name": "stdout",
     "output_type": "stream",
     "text": [
      "{0, 1, 2, 3, 4, 5, 6, 8}\n"
     ]
    }
   ],
   "source": [
    "print(ms1)"
   ]
  },
  {
   "cell_type": "code",
   "execution_count": 29,
   "id": "c80ab4b4",
   "metadata": {},
   "outputs": [
    {
     "name": "stdout",
     "output_type": "stream",
     "text": [
      "1980351730112\n",
      "1980351730112\n"
     ]
    }
   ],
   "source": [
    "ms4 = ms1\n",
    "\n",
    "print(id(ms1))\n",
    "print(id(ms4))"
   ]
  },
  {
   "cell_type": "code",
   "execution_count": 30,
   "id": "9a242a9a",
   "metadata": {},
   "outputs": [
    {
     "name": "stdout",
     "output_type": "stream",
     "text": [
      "1980351730112\n",
      "1980351730784\n"
     ]
    }
   ],
   "source": [
    "ms5 = ms1.copy()\n",
    "\n",
    "print(id(ms1))\n",
    "print(id(ms5))"
   ]
  },
  {
   "cell_type": "code",
   "execution_count": 31,
   "id": "6c6cdc71",
   "metadata": {},
   "outputs": [],
   "source": [
    "ml1 = list(md1)"
   ]
  },
  {
   "cell_type": "code",
   "execution_count": 32,
   "id": "72774b47",
   "metadata": {},
   "outputs": [
    {
     "data": {
      "text/plain": [
       "['Bank', 'Branch', 'City']"
      ]
     },
     "execution_count": 32,
     "metadata": {},
     "output_type": "execute_result"
    }
   ],
   "source": [
    "ml1"
   ]
  },
  {
   "cell_type": "code",
   "execution_count": 33,
   "id": "b5f37fce",
   "metadata": {},
   "outputs": [],
   "source": [
    "ms6 = set(ml1)"
   ]
  },
  {
   "cell_type": "code",
   "execution_count": 34,
   "id": "782f606e",
   "metadata": {},
   "outputs": [
    {
     "data": {
      "text/plain": [
       "{'Bank', 'Branch', 'City'}"
      ]
     },
     "execution_count": 34,
     "metadata": {},
     "output_type": "execute_result"
    }
   ],
   "source": [
    "ms6"
   ]
  },
  {
   "cell_type": "code",
   "execution_count": 35,
   "id": "66302c2e",
   "metadata": {},
   "outputs": [],
   "source": [
    "ms7 = set(md1)"
   ]
  },
  {
   "cell_type": "code",
   "execution_count": 36,
   "id": "ed54c0a7",
   "metadata": {},
   "outputs": [
    {
     "data": {
      "text/plain": [
       "{'Bank', 'Branch', 'City'}"
      ]
     },
     "execution_count": 36,
     "metadata": {},
     "output_type": "execute_result"
    }
   ],
   "source": [
    "ms7"
   ]
  },
  {
   "cell_type": "code",
   "execution_count": 37,
   "id": "76dc804f",
   "metadata": {},
   "outputs": [
    {
     "data": {
      "text/plain": [
       "{'Bank': 'Axis', 'Branch': 'MG Road', 'City': 'Bangalore'}"
      ]
     },
     "execution_count": 37,
     "metadata": {},
     "output_type": "execute_result"
    }
   ],
   "source": [
    "md1"
   ]
  },
  {
   "cell_type": "code",
   "execution_count": 49,
   "id": "2129a151",
   "metadata": {},
   "outputs": [],
   "source": [
    "ms1 = {1,3,5,7,9,4,6}\n",
    "ms2 = {2,4,6,8,9,0,2,3}"
   ]
  },
  {
   "cell_type": "code",
   "execution_count": 40,
   "id": "6ac99752",
   "metadata": {},
   "outputs": [
    {
     "data": {
      "text/plain": [
       "{1, 3, 4, 5, 6, 7, 9}"
      ]
     },
     "execution_count": 40,
     "metadata": {},
     "output_type": "execute_result"
    }
   ],
   "source": [
    "ms1"
   ]
  },
  {
   "cell_type": "code",
   "execution_count": 41,
   "id": "953839bd",
   "metadata": {},
   "outputs": [
    {
     "data": {
      "text/plain": [
       "{0, 2, 3, 4, 6, 8, 9}"
      ]
     },
     "execution_count": 41,
     "metadata": {},
     "output_type": "execute_result"
    }
   ],
   "source": [
    "ms2"
   ]
  },
  {
   "cell_type": "code",
   "execution_count": 42,
   "id": "c2cafa1f",
   "metadata": {},
   "outputs": [
    {
     "data": {
      "text/plain": [
       "{0, 1, 2, 3, 4, 5, 6, 7, 8, 9}"
      ]
     },
     "execution_count": 42,
     "metadata": {},
     "output_type": "execute_result"
    }
   ],
   "source": [
    "ms1.union(ms2)"
   ]
  },
  {
   "cell_type": "code",
   "execution_count": 43,
   "id": "6f5c3cae",
   "metadata": {},
   "outputs": [
    {
     "data": {
      "text/plain": [
       "{3, 4, 6, 9}"
      ]
     },
     "execution_count": 43,
     "metadata": {},
     "output_type": "execute_result"
    }
   ],
   "source": [
    "ms1.intersection(ms2)"
   ]
  },
  {
   "cell_type": "code",
   "execution_count": 44,
   "id": "712285e1",
   "metadata": {},
   "outputs": [
    {
     "ename": "AttributeError",
     "evalue": "'set' object has no attribute 'xor'",
     "output_type": "error",
     "traceback": [
      "\u001b[1;31m---------------------------------------------------------------------------\u001b[0m",
      "\u001b[1;31mAttributeError\u001b[0m                            Traceback (most recent call last)",
      "Cell \u001b[1;32mIn[44], line 1\u001b[0m\n\u001b[1;32m----> 1\u001b[0m ms1\u001b[38;5;241m.\u001b[39mxor(ms2)\n",
      "\u001b[1;31mAttributeError\u001b[0m: 'set' object has no attribute 'xor'"
     ]
    }
   ],
   "source": [
    "ms1.xor(ms2)"
   ]
  },
  {
   "cell_type": "code",
   "execution_count": 47,
   "id": "23636d1a",
   "metadata": {},
   "outputs": [
    {
     "data": {
      "text/plain": [
       "{0, 1, 2, 5, 7, 8}"
      ]
     },
     "execution_count": 47,
     "metadata": {},
     "output_type": "execute_result"
    }
   ],
   "source": [
    "ns1 = ms1.symmetric_difference(ms2)\n",
    "ns1"
   ]
  },
  {
   "cell_type": "code",
   "execution_count": 50,
   "id": "377a5ba7",
   "metadata": {},
   "outputs": [
    {
     "name": "stdout",
     "output_type": "stream",
     "text": [
      "{1, 3, 4, 5, 6, 7, 9}\n",
      "{0, 2, 3, 4, 6, 8, 9}\n"
     ]
    }
   ],
   "source": [
    "print(ms1)\n",
    "print(ms2)"
   ]
  },
  {
   "cell_type": "code",
   "execution_count": 51,
   "id": "1159a47b",
   "metadata": {},
   "outputs": [],
   "source": [
    "ms1.symmetric_difference_update(ms2)"
   ]
  },
  {
   "cell_type": "code",
   "execution_count": 52,
   "id": "2eedf868",
   "metadata": {},
   "outputs": [
    {
     "data": {
      "text/plain": [
       "{0, 1, 2, 5, 7, 8}"
      ]
     },
     "execution_count": 52,
     "metadata": {},
     "output_type": "execute_result"
    }
   ],
   "source": [
    "ms1"
   ]
  },
  {
   "cell_type": "code",
   "execution_count": 53,
   "id": "62ef30a2",
   "metadata": {},
   "outputs": [
    {
     "data": {
      "text/plain": [
       "'3.11.5 | packaged by Anaconda, Inc. | (main, Sep 11 2023, 13:26:23) [MSC v.1916 64 bit (AMD64)]'"
      ]
     },
     "execution_count": 53,
     "metadata": {},
     "output_type": "execute_result"
    }
   ],
   "source": [
    "import sys\n",
    "sys.version"
   ]
  },
  {
   "cell_type": "markdown",
   "id": "b58c7c0d",
   "metadata": {},
   "source": [
    "# Decision Making"
   ]
  },
  {
   "cell_type": "code",
   "execution_count": 54,
   "id": "46ecbd0f",
   "metadata": {},
   "outputs": [
    {
     "name": "stdout",
     "output_type": "stream",
     "text": [
      "Voter\n"
     ]
    }
   ],
   "source": [
    "age = 26\n",
    "\n",
    "if age >= 18:\n",
    "    result = 'Voter'\n",
    "else:\n",
    "    result = 'Invalid Voter'\n",
    "    \n",
    "print(result)"
   ]
  },
  {
   "cell_type": "code",
   "execution_count": 55,
   "id": "cd5f2ce4",
   "metadata": {},
   "outputs": [
    {
     "name": "stdout",
     "output_type": "stream",
     "text": [
      "Voter\n"
     ]
    }
   ],
   "source": [
    "age = 26\n",
    "\n",
    "result = 'Voter' if age >= 18 else 'Invalid Voter'\n",
    "    \n",
    "print(result)"
   ]
  },
  {
   "cell_type": "markdown",
   "id": "eeda5000",
   "metadata": {},
   "source": [
    "def temp_check(temp):            # Try this in one liner\n",
    "    if temp > 99:\n",
    "        return 'Hot'\n",
    "    elif temp > 60:\n",
    "        return 'Normal'\n",
    "    else:\n",
    "        return 'Cold'\n",
    "    \n",
    "temp = int(input('Enter Temperature : '))\n",
    "print(temp_check(temp))"
   ]
  },
  {
   "cell_type": "code",
   "execution_count": 56,
   "id": "8ee5c224",
   "metadata": {},
   "outputs": [
    {
     "name": "stdout",
     "output_type": "stream",
     "text": [
      "Normal\n"
     ]
    }
   ],
   "source": [
    "temp = 67\n",
    "\n",
    "result = 'Hot' if temp > 99 else 'Cold' if temp < 60 else 'Normal'    \n",
    "\n",
    "print(result)"
   ]
  },
  {
   "cell_type": "code",
   "execution_count": 57,
   "id": "e9a8c2df",
   "metadata": {},
   "outputs": [
    {
     "name": "stdout",
     "output_type": "stream",
     "text": [
      "Hot\n"
     ]
    }
   ],
   "source": [
    "temp = 999\n",
    "\n",
    "result = 'Hot' if temp > 99 else 'Cold' if temp < 60 else 'Normal'    \n",
    "\n",
    "print(result)"
   ]
  },
  {
   "cell_type": "code",
   "execution_count": 58,
   "id": "d85fcfee",
   "metadata": {},
   "outputs": [
    {
     "name": "stdout",
     "output_type": "stream",
     "text": [
      "Cold\n"
     ]
    }
   ],
   "source": [
    "temp =23\n",
    "\n",
    "result = 'Hot' if temp > 99 else 'Cold' if temp < 60 else 'Normal'    \n",
    "\n",
    "print(result)"
   ]
  },
  {
   "cell_type": "markdown",
   "id": "49ff996f",
   "metadata": {},
   "source": [
    "# Range"
   ]
  },
  {
   "cell_type": "markdown",
   "id": "13faef67",
   "metadata": {},
   "source": [
    "range(END)\n",
    "range(START,END)\n",
    "range(START,END,STEP_SIZE)"
   ]
  },
  {
   "cell_type": "code",
   "execution_count": 59,
   "id": "c2a2b8de",
   "metadata": {},
   "outputs": [
    {
     "name": "stdout",
     "output_type": "stream",
     "text": [
      "<class 'range'>\n",
      "10\n",
      "range(0, 10)\n"
     ]
    }
   ],
   "source": [
    "r = range(10)\n",
    "print(type(r))\n",
    "print(len(r))\n",
    "print(r)"
   ]
  },
  {
   "cell_type": "code",
   "execution_count": 60,
   "id": "56d34ee5",
   "metadata": {},
   "outputs": [
    {
     "data": {
      "text/plain": [
       "[0, 1, 2, 3, 4, 5, 6, 7, 8, 9]"
      ]
     },
     "execution_count": 60,
     "metadata": {},
     "output_type": "execute_result"
    }
   ],
   "source": [
    "list(r)"
   ]
  },
  {
   "cell_type": "code",
   "execution_count": 61,
   "id": "389c4f79",
   "metadata": {},
   "outputs": [
    {
     "data": {
      "text/plain": [
       "[10, 12, 14, 16, 18, 20, 22, 24, 26, 28]"
      ]
     },
     "execution_count": 61,
     "metadata": {},
     "output_type": "execute_result"
    }
   ],
   "source": [
    "list(range(10,30,2))"
   ]
  },
  {
   "cell_type": "code",
   "execution_count": 62,
   "id": "bf711717",
   "metadata": {},
   "outputs": [
    {
     "data": {
      "text/plain": [
       "48"
      ]
     },
     "execution_count": 62,
     "metadata": {},
     "output_type": "execute_result"
    }
   ],
   "source": [
    "import sys\n",
    "sys.getsizeof(r)                # it returns number iof bytes stored in memory for the object"
   ]
  },
  {
   "cell_type": "code",
   "execution_count": 64,
   "id": "66e69e27",
   "metadata": {},
   "outputs": [
    {
     "data": {
      "text/plain": [
       "48"
      ]
     },
     "execution_count": 64,
     "metadata": {},
     "output_type": "execute_result"
    }
   ],
   "source": [
    "r1 = range(1000)\n",
    "sys.getsizeof(r1)               # it does not create all the valuees. rather, it creates, start, end and step size. \n",
    "                                # So size o range will be according to it."
   ]
  },
  {
   "cell_type": "code",
   "execution_count": 65,
   "id": "2eddb4f1",
   "metadata": {},
   "outputs": [
    {
     "data": {
      "text/plain": [
       "999"
      ]
     },
     "execution_count": 65,
     "metadata": {},
     "output_type": "execute_result"
    }
   ],
   "source": [
    "r1[-1]"
   ]
  },
  {
   "cell_type": "code",
   "execution_count": 68,
   "id": "24f1d4e5",
   "metadata": {},
   "outputs": [
    {
     "ename": "IndexError",
     "evalue": "range object index out of range",
     "output_type": "error",
     "traceback": [
      "\u001b[1;31m---------------------------------------------------------------------------\u001b[0m",
      "\u001b[1;31mIndexError\u001b[0m                                Traceback (most recent call last)",
      "Cell \u001b[1;32mIn[68], line 1\u001b[0m\n\u001b[1;32m----> 1\u001b[0m r1[\u001b[38;5;241m-\u001b[39m\u001b[38;5;241m9999\u001b[39m]\n",
      "\u001b[1;31mIndexError\u001b[0m: range object index out of range"
     ]
    }
   ],
   "source": [
    "r1[-9999]"
   ]
  },
  {
   "cell_type": "code",
   "execution_count": 69,
   "id": "99a79452",
   "metadata": {},
   "outputs": [
    {
     "data": {
      "text/plain": [
       "0"
      ]
     },
     "execution_count": 69,
     "metadata": {},
     "output_type": "execute_result"
    }
   ],
   "source": [
    "r1[-1000]"
   ]
  },
  {
   "cell_type": "markdown",
   "id": "758e8dbc",
   "metadata": {},
   "source": [
    "# Looping"
   ]
  },
  {
   "cell_type": "markdown",
   "id": "0e706b29",
   "metadata": {},
   "source": [
    "While Loop\n",
    "For Loop"
   ]
  },
  {
   "cell_type": "code",
   "execution_count": 71,
   "id": "66e42df6",
   "metadata": {},
   "outputs": [
    {
     "name": "stdout",
     "output_type": "stream",
     "text": [
      "10\n",
      "12\n",
      "14\n",
      "16\n",
      "18\n",
      "20\n",
      "22\n",
      "24\n",
      "26\n",
      "28\n",
      "30\n",
      "Done\n"
     ]
    }
   ],
   "source": [
    "lcount = 10\n",
    "while lcount <= 30:\n",
    "    print(lcount)\n",
    "    lcount += 2\n",
    "print('Done')"
   ]
  },
  {
   "cell_type": "code",
   "execution_count": 72,
   "id": "00a5c60e",
   "metadata": {},
   "outputs": [
    {
     "name": "stdout",
     "output_type": "stream",
     "text": [
      "10__::__20__::__30EOF"
     ]
    }
   ],
   "source": [
    "print(10,20,30, sep='__::__', end='EOF')"
   ]
  },
  {
   "cell_type": "code",
   "execution_count": 75,
   "id": "f5a5657d",
   "metadata": {},
   "outputs": [
    {
     "name": "stdout",
     "output_type": "stream",
     "text": [
      "p y t h o n "
     ]
    }
   ],
   "source": [
    "for letter in \"python\":                        # for Loop exits when STOP_ITERATION is raised.\n",
    "    print(letter, end = ' ')"
   ]
  },
  {
   "cell_type": "code",
   "execution_count": 76,
   "id": "b6e3220d",
   "metadata": {},
   "outputs": [
    {
     "data": {
      "text/plain": [
       "['ArithmeticError',\n",
       " 'AssertionError',\n",
       " 'AttributeError',\n",
       " 'BaseException',\n",
       " 'BaseExceptionGroup',\n",
       " 'BlockingIOError',\n",
       " 'BrokenPipeError',\n",
       " 'BufferError',\n",
       " 'BytesWarning',\n",
       " 'ChildProcessError',\n",
       " 'ConnectionAbortedError',\n",
       " 'ConnectionError',\n",
       " 'ConnectionRefusedError',\n",
       " 'ConnectionResetError',\n",
       " 'DeprecationWarning',\n",
       " 'EOFError',\n",
       " 'Ellipsis',\n",
       " 'EncodingWarning',\n",
       " 'EnvironmentError',\n",
       " 'Exception',\n",
       " 'ExceptionGroup',\n",
       " 'False',\n",
       " 'FileExistsError',\n",
       " 'FileNotFoundError',\n",
       " 'FloatingPointError',\n",
       " 'FutureWarning',\n",
       " 'GeneratorExit',\n",
       " 'IOError',\n",
       " 'ImportError',\n",
       " 'ImportWarning',\n",
       " 'IndentationError',\n",
       " 'IndexError',\n",
       " 'InterruptedError',\n",
       " 'IsADirectoryError',\n",
       " 'KeyError',\n",
       " 'KeyboardInterrupt',\n",
       " 'LookupError',\n",
       " 'MemoryError',\n",
       " 'ModuleNotFoundError',\n",
       " 'NameError',\n",
       " 'None',\n",
       " 'NotADirectoryError',\n",
       " 'NotImplemented',\n",
       " 'NotImplementedError',\n",
       " 'OSError',\n",
       " 'OverflowError',\n",
       " 'PendingDeprecationWarning',\n",
       " 'PermissionError',\n",
       " 'ProcessLookupError',\n",
       " 'RecursionError',\n",
       " 'ReferenceError',\n",
       " 'ResourceWarning',\n",
       " 'RuntimeError',\n",
       " 'RuntimeWarning',\n",
       " 'StopAsyncIteration',\n",
       " 'StopIteration',\n",
       " 'SyntaxError',\n",
       " 'SyntaxWarning',\n",
       " 'SystemError',\n",
       " 'SystemExit',\n",
       " 'TabError',\n",
       " 'TimeoutError',\n",
       " 'True',\n",
       " 'TypeError',\n",
       " 'UnboundLocalError',\n",
       " 'UnicodeDecodeError',\n",
       " 'UnicodeEncodeError',\n",
       " 'UnicodeError',\n",
       " 'UnicodeTranslateError',\n",
       " 'UnicodeWarning',\n",
       " 'UserWarning',\n",
       " 'ValueError',\n",
       " 'Warning',\n",
       " 'WindowsError',\n",
       " 'ZeroDivisionError',\n",
       " '__IPYTHON__',\n",
       " '__build_class__',\n",
       " '__debug__',\n",
       " '__doc__',\n",
       " '__import__',\n",
       " '__loader__',\n",
       " '__name__',\n",
       " '__package__',\n",
       " '__spec__',\n",
       " 'abs',\n",
       " 'aiter',\n",
       " 'all',\n",
       " 'anext',\n",
       " 'any',\n",
       " 'ascii',\n",
       " 'bin',\n",
       " 'bool',\n",
       " 'breakpoint',\n",
       " 'bytearray',\n",
       " 'bytes',\n",
       " 'callable',\n",
       " 'chr',\n",
       " 'classmethod',\n",
       " 'compile',\n",
       " 'complex',\n",
       " 'copyright',\n",
       " 'credits',\n",
       " 'delattr',\n",
       " 'dict',\n",
       " 'dir',\n",
       " 'display',\n",
       " 'divmod',\n",
       " 'enumerate',\n",
       " 'eval',\n",
       " 'exec',\n",
       " 'execfile',\n",
       " 'filter',\n",
       " 'float',\n",
       " 'format',\n",
       " 'frozenset',\n",
       " 'get_ipython',\n",
       " 'getattr',\n",
       " 'globals',\n",
       " 'hasattr',\n",
       " 'hash',\n",
       " 'help',\n",
       " 'hex',\n",
       " 'id',\n",
       " 'input',\n",
       " 'int',\n",
       " 'isinstance',\n",
       " 'issubclass',\n",
       " 'iter',\n",
       " 'len',\n",
       " 'license',\n",
       " 'list',\n",
       " 'locals',\n",
       " 'map',\n",
       " 'max',\n",
       " 'memoryview',\n",
       " 'min',\n",
       " 'next',\n",
       " 'object',\n",
       " 'oct',\n",
       " 'open',\n",
       " 'ord',\n",
       " 'pow',\n",
       " 'print',\n",
       " 'property',\n",
       " 'range',\n",
       " 'repr',\n",
       " 'reversed',\n",
       " 'round',\n",
       " 'runfile',\n",
       " 'set',\n",
       " 'setattr',\n",
       " 'slice',\n",
       " 'sorted',\n",
       " 'staticmethod',\n",
       " 'str',\n",
       " 'sum',\n",
       " 'super',\n",
       " 'tuple',\n",
       " 'type',\n",
       " 'vars',\n",
       " 'zip']"
      ]
     },
     "execution_count": 76,
     "metadata": {},
     "output_type": "execute_result"
    }
   ],
   "source": [
    "dir(__builtin__)"
   ]
  },
  {
   "cell_type": "code",
   "execution_count": 78,
   "id": "a1e27093",
   "metadata": {},
   "outputs": [
    {
     "name": "stdout",
     "output_type": "stream",
     "text": [
      "o, o, a, a, i, e, e, "
     ]
    }
   ],
   "source": [
    "for char in 'PythonforDataScience':\n",
    "    if char in 'aeiouAEIOU':\n",
    "        print(char, end=', ')"
   ]
  },
  {
   "cell_type": "code",
   "execution_count": 79,
   "id": "deeeea7c",
   "metadata": {},
   "outputs": [
    {
     "name": "stdout",
     "output_type": "stream",
     "text": [
      "0, 1, 2, 3, 4, 5, 6, 7, 8, 9, "
     ]
    }
   ],
   "source": [
    "for num in range(10):\n",
    "    print(num, end=', ')"
   ]
  },
  {
   "cell_type": "code",
   "execution_count": 80,
   "id": "2c8b0cd8",
   "metadata": {},
   "outputs": [
    {
     "name": "stdout",
     "output_type": "stream",
     "text": [
      "0, 2, 4, 6, 8, 10, 12, 14, 16, 18, 20, 22, 24, 26, 28, 30, 32, 34, 36, 38, 40, 42, 44, 46, 48, 50, 52, 54, 56, 58, 60, 62, 64, 66, 68, 70, 72, 74, 76, 78, 80, 82, 84, 86, 88, 90, 92, 94, 96, 98, "
     ]
    }
   ],
   "source": [
    "for num in range(0,100,2):\n",
    "    print(num, end=', ')"
   ]
  },
  {
   "cell_type": "code",
   "execution_count": 81,
   "id": "4f2d4036",
   "metadata": {},
   "outputs": [
    {
     "data": {
      "text/plain": [
       "{'Bank': 'Axis', 'Branch': 'MG Road', 'City': 'Bangalore'}"
      ]
     },
     "execution_count": 81,
     "metadata": {},
     "output_type": "execute_result"
    }
   ],
   "source": [
    "# Dictionary Looping\n",
    "md1"
   ]
  },
  {
   "cell_type": "code",
   "execution_count": 82,
   "id": "161fe56a",
   "metadata": {},
   "outputs": [
    {
     "name": "stdout",
     "output_type": "stream",
     "text": [
      "Bank, Branch, City, "
     ]
    }
   ],
   "source": [
    "for k in md1:\n",
    "    print(k, end=', ')"
   ]
  },
  {
   "cell_type": "code",
   "execution_count": 84,
   "id": "1461194a",
   "metadata": {},
   "outputs": [
    {
     "name": "stdout",
     "output_type": "stream",
     "text": [
      "Bank : Axis\n",
      "Branch : MG Road\n",
      "City : Bangalore\n"
     ]
    }
   ],
   "source": [
    "for k in md1:\n",
    "    print(k, md1[k], sep=' : ')"
   ]
  },
  {
   "cell_type": "code",
   "execution_count": 85,
   "id": "2c07bea6",
   "metadata": {},
   "outputs": [
    {
     "name": "stdout",
     "output_type": "stream",
     "text": [
      "10\n",
      "20\n"
     ]
    }
   ],
   "source": [
    "a, b = 10, 20\n",
    "print(a)\n",
    "print(b)"
   ]
  },
  {
   "cell_type": "code",
   "execution_count": 86,
   "id": "7c1851bf",
   "metadata": {},
   "outputs": [
    {
     "name": "stdout",
     "output_type": "stream",
     "text": [
      "(10, 20)\n"
     ]
    }
   ],
   "source": [
    "a = 10, 20\n",
    "print(a)"
   ]
  },
  {
   "cell_type": "code",
   "execution_count": 87,
   "id": "ccc0c7dd",
   "metadata": {},
   "outputs": [
    {
     "ename": "ValueError",
     "evalue": "too many values to unpack (expected 2)",
     "output_type": "error",
     "traceback": [
      "\u001b[1;31m---------------------------------------------------------------------------\u001b[0m",
      "\u001b[1;31mValueError\u001b[0m                                Traceback (most recent call last)",
      "Cell \u001b[1;32mIn[87], line 1\u001b[0m\n\u001b[1;32m----> 1\u001b[0m a, b \u001b[38;5;241m=\u001b[39m \u001b[38;5;241m10\u001b[39m,\u001b[38;5;241m20\u001b[39m, \u001b[38;5;241m30\u001b[39m\n",
      "\u001b[1;31mValueError\u001b[0m: too many values to unpack (expected 2)"
     ]
    }
   ],
   "source": [
    "a, b = 10,20, 30"
   ]
  },
  {
   "cell_type": "code",
   "execution_count": 89,
   "id": "e04a9736",
   "metadata": {},
   "outputs": [
    {
     "name": "stdout",
     "output_type": "stream",
     "text": [
      "(10, 20)\n"
     ]
    }
   ],
   "source": [
    "a = (10,20)\n",
    "print(a)"
   ]
  },
  {
   "cell_type": "code",
   "execution_count": 90,
   "id": "5f35e85a",
   "metadata": {},
   "outputs": [
    {
     "name": "stdout",
     "output_type": "stream",
     "text": [
      "10 20\n"
     ]
    }
   ],
   "source": [
    "a, b = (10,20)                # Unpacking\n",
    "print(a, b)"
   ]
  },
  {
   "cell_type": "code",
   "execution_count": 91,
   "id": "148b5822",
   "metadata": {},
   "outputs": [
    {
     "ename": "ValueError",
     "evalue": "too many values to unpack (expected 2)",
     "output_type": "error",
     "traceback": [
      "\u001b[1;31m---------------------------------------------------------------------------\u001b[0m",
      "\u001b[1;31mValueError\u001b[0m                                Traceback (most recent call last)",
      "Cell \u001b[1;32mIn[91], line 1\u001b[0m\n\u001b[1;32m----> 1\u001b[0m a, b \u001b[38;5;241m=\u001b[39m (\u001b[38;5;241m10\u001b[39m,\u001b[38;5;241m20\u001b[39m,\u001b[38;5;241m30\u001b[39m,\u001b[38;5;241m40\u001b[39m)\n",
      "\u001b[1;31mValueError\u001b[0m: too many values to unpack (expected 2)"
     ]
    }
   ],
   "source": [
    "a, b = (10,20,30,40)"
   ]
  },
  {
   "cell_type": "code",
   "execution_count": 92,
   "id": "a9a7dbdd",
   "metadata": {},
   "outputs": [
    {
     "name": "stdout",
     "output_type": "stream",
     "text": [
      "Bank\n",
      "Branch\n",
      "City\n"
     ]
    }
   ],
   "source": [
    "for k in md1:\n",
    "    print(k)"
   ]
  },
  {
   "cell_type": "code",
   "execution_count": 94,
   "id": "fe50484a",
   "metadata": {},
   "outputs": [
    {
     "name": "stdout",
     "output_type": "stream",
     "text": [
      "Bank\n",
      "Branch\n",
      "City\n"
     ]
    }
   ],
   "source": [
    "for k in md1.keys():\n",
    "    print(k)"
   ]
  },
  {
   "cell_type": "code",
   "execution_count": 95,
   "id": "e64a2a4f",
   "metadata": {},
   "outputs": [
    {
     "name": "stdout",
     "output_type": "stream",
     "text": [
      "Axis\n",
      "MG Road\n",
      "Bangalore\n"
     ]
    }
   ],
   "source": [
    "for v in md1.values():\n",
    "    print(v)"
   ]
  },
  {
   "cell_type": "code",
   "execution_count": 96,
   "id": "82d5fb1a",
   "metadata": {},
   "outputs": [
    {
     "name": "stdout",
     "output_type": "stream",
     "text": [
      "('Bank', 'Axis')\n",
      "('Branch', 'MG Road')\n",
      "('City', 'Bangalore')\n"
     ]
    }
   ],
   "source": [
    "for k in md1.items():\n",
    "    print(k)"
   ]
  },
  {
   "cell_type": "code",
   "execution_count": 98,
   "id": "80fbba64",
   "metadata": {},
   "outputs": [
    {
     "name": "stdout",
     "output_type": "stream",
     "text": [
      "Bank : Axis\n",
      "Branch : MG Road\n",
      "City : Bangalore\n"
     ]
    }
   ],
   "source": [
    "for k, v in md1.items():\n",
    "    print(k,v, sep=' : ')"
   ]
  },
  {
   "cell_type": "code",
   "execution_count": 99,
   "id": "35c662a9",
   "metadata": {},
   "outputs": [
    {
     "ename": "ValueError",
     "evalue": "too many values to unpack (expected 2)",
     "output_type": "error",
     "traceback": [
      "\u001b[1;31m---------------------------------------------------------------------------\u001b[0m",
      "\u001b[1;31mValueError\u001b[0m                                Traceback (most recent call last)",
      "Cell \u001b[1;32mIn[99], line 1\u001b[0m\n\u001b[1;32m----> 1\u001b[0m \u001b[38;5;28;01mfor\u001b[39;00m k, v \u001b[38;5;129;01min\u001b[39;00m md1:\n\u001b[0;32m      2\u001b[0m     \u001b[38;5;28mprint\u001b[39m(k,v, sep\u001b[38;5;241m=\u001b[39m\u001b[38;5;124m'\u001b[39m\u001b[38;5;124m : \u001b[39m\u001b[38;5;124m'\u001b[39m)\n",
      "\u001b[1;31mValueError\u001b[0m: too many values to unpack (expected 2)"
     ]
    }
   ],
   "source": [
    "for k, v in md1:\n",
    "    print(k,v, sep=' : ')"
   ]
  },
  {
   "cell_type": "markdown",
   "id": "ac9552c6",
   "metadata": {},
   "source": [
    "Break\n",
    "Continue"
   ]
  },
  {
   "cell_type": "markdown",
   "id": "c394d9ec",
   "metadata": {},
   "source": [
    "# Enumerate"
   ]
  },
  {
   "cell_type": "code",
   "execution_count": 101,
   "id": "ae74bbe5",
   "metadata": {},
   "outputs": [
    {
     "name": "stdout",
     "output_type": "stream",
     "text": [
      "<class 'enumerate'>\n",
      "<enumerate object at 0x000001CD16FBD030>\n",
      "[(0, 'P'), (1, 'y'), (2, 't'), (3, 'h'), (4, 'o'), (5, 'n')]\n",
      "[]\n"
     ]
    }
   ],
   "source": [
    "ms1 = 'Python'\n",
    "e = enumerate(ms1)\n",
    "print(type(e))\n",
    "print(e)\n",
    "print(list(e))\n",
    "print(list(e))"
   ]
  },
  {
   "cell_type": "code",
   "execution_count": 102,
   "id": "8aa447c7",
   "metadata": {},
   "outputs": [
    {
     "name": "stdout",
     "output_type": "stream",
     "text": [
      "4 o\n",
      "7 o\n",
      "10 a\n",
      "12 a\n",
      "15 i\n",
      "16 e\n",
      "19 e\n",
      "[4, 7, 10, 12, 15, 16, 19]\n"
     ]
    }
   ],
   "source": [
    "ms1 = 'PythonforDataScience'\n",
    "list_of_indices = []\n",
    "for index, value in enumerate(ms1):\n",
    "    if value in 'aeiouAEIOU':\n",
    "        print(index, value)\n",
    "        list_of_indices.append(index)\n",
    "        \n",
    "print(list_of_indices)"
   ]
  },
  {
   "cell_type": "markdown",
   "id": "74374de0",
   "metadata": {},
   "source": [
    "# Functions"
   ]
  },
  {
   "cell_type": "code",
   "execution_count": null,
   "id": "8e23a3f3",
   "metadata": {},
   "outputs": [],
   "source": [
    "# Rule_1: While defining aa function, required_parameters must be specified before default_parameters"
   ]
  },
  {
   "cell_type": "code",
   "execution_count": null,
   "id": "861921dd",
   "metadata": {},
   "outputs": [],
   "source": [
    "# Rule_2: While calling a function, positionally mapped values must be before parameter-keyword mapping based values"
   ]
  },
  {
   "cell_type": "code",
   "execution_count": null,
   "id": "a3269c68",
   "metadata": {},
   "outputs": [],
   "source": [
    "# Rule_3: A Variable Tuple container, can be populated only by passing values in positional style"
   ]
  },
  {
   "cell_type": "code",
   "execution_count": null,
   "id": "130cc1f6",
   "metadata": {},
   "outputs": [],
   "source": [
    "# Rule_4: If the function has a variable dict, it must be specified only in the end"
   ]
  },
  {
   "cell_type": "code",
   "execution_count": 103,
   "id": "ea6894ef",
   "metadata": {},
   "outputs": [],
   "source": [
    "def mf12(r0,r1,*args, d0=111, d1 = 222, **kwargs):         ## IDEAL Signature\n",
    "    print(\"r0\", r0)\n",
    "    print(\"r1\", r1)\n",
    "    print(\"args\", args)\n",
    "    print(\"d0\", d0)\n",
    "    print(\"d1\", d1)\n",
    "    print(\"kwargs\", kwargs)"
   ]
  },
  {
   "cell_type": "code",
   "execution_count": 107,
   "id": "acee2045",
   "metadata": {},
   "outputs": [
    {
     "name": "stdout",
     "output_type": "stream",
     "text": [
      "r0 10\n",
      "r1 20\n",
      "args (30, 40, 50, 'Hello')\n",
      "d0 111\n",
      "d1 222\n",
      "kwargs {'d2': 300, 'd3': 892, 'd4': 'Hello'}\n"
     ]
    }
   ],
   "source": [
    "mf12(10,20,30,40,50,'Hello',d0=555,d1=666, d2=300,d3=892, d4='Hello')"
   ]
  },
  {
   "cell_type": "code",
   "execution_count": null,
   "id": "8fe9c6da",
   "metadata": {},
   "outputs": [],
   "source": [
    "# A variable dict can be populated only in "
   ]
  },
  {
   "cell_type": "markdown",
   "id": "e7c1a251",
   "metadata": {},
   "source": [
    "# Lambda"
   ]
  },
  {
   "cell_type": "code",
   "execution_count": 108,
   "id": "1a0b86c1",
   "metadata": {},
   "outputs": [
    {
     "name": "stdout",
     "output_type": "stream",
     "text": [
      "30\n",
      "<class 'function'>\n"
     ]
    }
   ],
   "source": [
    "addsum = lambda p0, p1 : p0 + p1\n",
    "\n",
    "ms = addsum(10,20)\n",
    "print(ms)\n",
    "print(type(addsum))"
   ]
  },
  {
   "cell_type": "code",
   "execution_count": 110,
   "id": "6b258a2a",
   "metadata": {},
   "outputs": [
    {
     "name": "stdout",
     "output_type": "stream",
     "text": [
      "True\n",
      "False\n",
      "False\n",
      "True\n"
     ]
    }
   ],
   "source": [
    "isEven = lambda num : (num%2) == 0\n",
    "isOdd  = lambda num : (num%2) != 0\n",
    "\n",
    "print(isEven(20))\n",
    "print(isEven(21))\n",
    "print(isOdd(20))\n",
    "print(isOdd(21))"
   ]
  },
  {
   "cell_type": "code",
   "execution_count": 112,
   "id": "b01bb90b",
   "metadata": {},
   "outputs": [
    {
     "name": "stdout",
     "output_type": "stream",
     "text": [
      "Even\n",
      "Odd\n"
     ]
    }
   ],
   "source": [
    "CheckOddEven = lambda num : 'Even' if ( num % 2 ) == 0 else 'Odd'\n",
    "\n",
    "print(CheckOddEven(20))\n",
    "print(CheckOddEven(21))"
   ]
  },
  {
   "cell_type": "code",
   "execution_count": 113,
   "id": "c91c7656",
   "metadata": {},
   "outputs": [
    {
     "name": "stdout",
     "output_type": "stream",
     "text": [
      "Hot\n",
      "Normal\n",
      "Cold\n"
     ]
    }
   ],
   "source": [
    "tempCheck = lambda temp : 'Hot' if temp > 99 else 'Cold' if temp < 60 else 'Normal'\n",
    "\n",
    "print(tempCheck(100))\n",
    "print(tempCheck(70))\n",
    "print(tempCheck(20))"
   ]
  },
  {
   "cell_type": "code",
   "execution_count": 114,
   "id": "db13d34e",
   "metadata": {},
   "outputs": [
    {
     "data": {
      "text/plain": [
       "5000"
      ]
     },
     "execution_count": 114,
     "metadata": {},
     "output_type": "execute_result"
    }
   ],
   "source": [
    "kmlist = [1,2,3,4,5]\n",
    "\n",
    "km2m = lambda km : km * 1000\n",
    "\n",
    "km2m(5)"
   ]
  },
  {
   "cell_type": "code",
   "execution_count": 115,
   "id": "2c450ddd",
   "metadata": {},
   "outputs": [
    {
     "name": "stdout",
     "output_type": "stream",
     "text": [
      "<class 'map'>\n",
      "<map object at 0x000001CD17009CC0>\n",
      "[1000, 2000, 3000, 4000, 5000]\n",
      "[]\n"
     ]
    }
   ],
   "source": [
    "m = map(km2m, kmlist)\n",
    "print(type(m))\n",
    "print(m)\n",
    "print(list(m))\n",
    "print(list(m))"
   ]
  },
  {
   "cell_type": "code",
   "execution_count": 116,
   "id": "52e1aa5f",
   "metadata": {},
   "outputs": [
    {
     "name": "stdout",
     "output_type": "stream",
     "text": [
      "<class 'map'>\n",
      "<map object at 0x000001CD1700B6D0>\n",
      "[1000, 2000, 3000, 4000, 5000]\n",
      "[]\n"
     ]
    }
   ],
   "source": [
    "m = map(lambda m: m*1000, kmlist)    # Anonymus uses of Lambda Function\n",
    "print(type(m))\n",
    "print(m)\n",
    "print(list(m))\n",
    "print(list(m))"
   ]
  },
  {
   "cell_type": "code",
   "execution_count": 117,
   "id": "aa3f05d5",
   "metadata": {},
   "outputs": [
    {
     "name": "stdout",
     "output_type": "stream",
     "text": [
      "[186, 194, 185]\n"
     ]
    }
   ],
   "source": [
    "mmarks = [98,97,96]\n",
    "emarks = [88,97,89]\n",
    "\n",
    "tmarks = list(map(lambda m,e: m+e, mmarks, emarks))\n",
    "\n",
    "print(tmarks)"
   ]
  },
  {
   "cell_type": "markdown",
   "id": "d5389f8a",
   "metadata": {},
   "source": [
    "# NameSpace"
   ]
  },
  {
   "cell_type": "code",
   "execution_count": 120,
   "id": "abada909",
   "metadata": {},
   "outputs": [
    {
     "name": "stdout",
     "output_type": "stream",
     "text": [
      "1 111 222\n",
      "{'v3': 333, 'v4': 444}\n",
      "2 999 222 888 333 444\n",
      "3 999 222 888\n"
     ]
    }
   ],
   "source": [
    "g1 = 111\n",
    "g2 = 222\n",
    "\n",
    "def mf15(v3):\n",
    "    v4 = 444\n",
    "    global g1\n",
    "    global g3\n",
    "    \n",
    "    g1 = 999\n",
    "    g3 = 888\n",
    "    \n",
    "    local_name_space = locals()\n",
    "    print(local_name_space)\n",
    "    print(2,g1,g2,g3,v3,v4)\n",
    "    \n",
    "print(1,g1,g2)\n",
    "mf15(333)\n",
    "print(3,g1,g2,g3)"
   ]
  },
  {
   "cell_type": "markdown",
   "id": "5da55504",
   "metadata": {},
   "source": [
    "# Recursion"
   ]
  },
  {
   "cell_type": "code",
   "execution_count": 122,
   "id": "503aa8f6",
   "metadata": {},
   "outputs": [
    {
     "data": {
      "text/plain": [
       "120"
      ]
     },
     "execution_count": 122,
     "metadata": {},
     "output_type": "execute_result"
    }
   ],
   "source": [
    "def fact(num):\n",
    "    if num == 0: return 1\n",
    "    return num * fact(num - 1)\n",
    "\n",
    "fact(5)"
   ]
  },
  {
   "cell_type": "code",
   "execution_count": 123,
   "id": "0876c1eb",
   "metadata": {},
   "outputs": [
    {
     "name": "stdout",
     "output_type": "stream",
     "text": [
      "120\n",
      "720\n"
     ]
    }
   ],
   "source": [
    "fact1 = lambda num : 1 if num == 0 else num * fact1(num - 1)\n",
    "print(fact1(5))\n",
    "print(fact1(6))"
   ]
  },
  {
   "cell_type": "code",
   "execution_count": 126,
   "id": "11f3a9fc",
   "metadata": {},
   "outputs": [],
   "source": [
    "def fib(n):\n",
    "    if n <= 1:\n",
    "        return n\n",
    "    return fib(n-1) + fib(n-2)"
   ]
  },
  {
   "cell_type": "code",
   "execution_count": 127,
   "id": "1e56c44b",
   "metadata": {},
   "outputs": [
    {
     "name": "stdout",
     "output_type": "stream",
     "text": [
      "0 1 1 2 3 5 8 13 21 34 "
     ]
    }
   ],
   "source": [
    "for i in range(10):\n",
    "    \n",
    "    print(fib(i), end = ' ')"
   ]
  },
  {
   "cell_type": "markdown",
   "id": "48e42b68",
   "metadata": {},
   "source": [
    "# List Comprehension"
   ]
  },
  {
   "cell_type": "code",
   "execution_count": 131,
   "id": "8e1dcab3",
   "metadata": {},
   "outputs": [
    {
     "name": "stdout",
     "output_type": "stream",
     "text": [
      "[1, 4, 9, 16, 25]\n"
     ]
    }
   ],
   "source": [
    "sqlist1 = []\n",
    "\n",
    "for num in range(1,6):\n",
    "    result = num ** 2\n",
    "    sqlist1.append(result)\n",
    "    \n",
    "print(sqlist1)"
   ]
  },
  {
   "cell_type": "code",
   "execution_count": 133,
   "id": "7f02a69c",
   "metadata": {},
   "outputs": [
    {
     "name": "stdout",
     "output_type": "stream",
     "text": [
      "[1, 4, 9, 16, 25]\n"
     ]
    }
   ],
   "source": [
    "sqlist2 = [ num**2 for num in range(1,6)]\n",
    "print(sqlist2)"
   ]
  },
  {
   "cell_type": "code",
   "execution_count": null,
   "id": "0a5d37fb",
   "metadata": {},
   "outputs": [],
   "source": []
  },
  {
   "cell_type": "code",
   "execution_count": 135,
   "id": "07f9ec2b",
   "metadata": {},
   "outputs": [
    {
     "name": "stdout",
     "output_type": "stream",
     "text": [
      "[0, 4, 16, 36, 64]\n"
     ]
    }
   ],
   "source": [
    "evsqlist2 = [ num**2 for num in range(1,10) if num%2==0]\n",
    "print(evsqlist2)"
   ]
  },
  {
   "cell_type": "code",
   "execution_count": 136,
   "id": "5e744c52",
   "metadata": {},
   "outputs": [
    {
     "name": "stdout",
     "output_type": "stream",
     "text": [
      "[(3, 'Odd'), (6, 'Even'), (9, 'Odd'), (12, 'Even'), (15, 'Odd'), (18, 'Even'), (21, 'Odd'), (24, 'Even'), (27, 'Odd')]\n"
     ]
    }
   ],
   "source": [
    "eolist = []\n",
    "\n",
    "for i in range(1,30):\n",
    "    if i%3 == 0:\n",
    "        if i%2 == 0:\n",
    "            result = (i,'Even')\n",
    "        else:\n",
    "            result = (i,'Odd')\n",
    "        eolist.append(result)\n",
    "\n",
    "print(eolist)"
   ]
  },
  {
   "cell_type": "code",
   "execution_count": 137,
   "id": "05086b00",
   "metadata": {},
   "outputs": [
    {
     "data": {
      "text/plain": [
       "[(3, 'Odd'),\n",
       " (6, 'Even'),\n",
       " (9, 'Odd'),\n",
       " (12, 'Even'),\n",
       " (15, 'Odd'),\n",
       " (18, 'Even'),\n",
       " (21, 'Odd'),\n",
       " (24, 'Even'),\n",
       " (27, 'Odd')]"
      ]
     },
     "execution_count": 137,
     "metadata": {},
     "output_type": "execute_result"
    }
   ],
   "source": [
    "eolist1 = [ (i,'Even') if i%2 == 0  else (i,'Odd') for i in range(1,30) if i%3 == 0 ]\n",
    "eolist1"
   ]
  },
  {
   "cell_type": "code",
   "execution_count": 138,
   "id": "144e3f9d",
   "metadata": {},
   "outputs": [
    {
     "data": {
      "text/plain": [
       "[(3, 'Odd'),\n",
       " (6, 'Even'),\n",
       " (9, 'Odd'),\n",
       " (12, 'Even'),\n",
       " (15, 'Odd'),\n",
       " (18, 'Even'),\n",
       " (21, 'Odd'),\n",
       " (24, 'Even'),\n",
       " (27, 'Odd')]"
      ]
     },
     "execution_count": 138,
     "metadata": {},
     "output_type": "execute_result"
    }
   ],
   "source": [
    "eolist2 = [ (i,'Even' if i%2 == 0  else 'Odd') for i in range(1,30) if i%3 == 0 ]\n",
    "eolist2"
   ]
  },
  {
   "cell_type": "code",
   "execution_count": 139,
   "id": "348f648c",
   "metadata": {},
   "outputs": [
    {
     "name": "stdout",
     "output_type": "stream",
     "text": [
      "[('a', 1), ('a', 2), ('a', 3), ('b', 1), ('b', 2), ('b', 3), ('c', 1), ('c', 2), ('c', 3)]\n"
     ]
    }
   ],
   "source": [
    "## DIY: Dict and Set comprehension\n",
    "list1 = ['a','b','c']\n",
    "list2 = [1,2,3]\n",
    "\n",
    "clist1 = []\n",
    "\n",
    "for i in list1:\n",
    "    for j in list2:\n",
    "        result = (i,j)\n",
    "        clist1.append(result)\n",
    "        \n",
    "print(clist1)"
   ]
  },
  {
   "cell_type": "code",
   "execution_count": 141,
   "id": "fab9572e",
   "metadata": {},
   "outputs": [
    {
     "name": "stdout",
     "output_type": "stream",
     "text": [
      "[('a', 1), ('a', 2), ('a', 3), ('b', 1), ('b', 2), ('b', 3), ('c', 1), ('c', 2), ('c', 3)]\n"
     ]
    }
   ],
   "source": [
    "## DIY: Dict and Set comprehension\n",
    "list1 = ['a','b','c']\n",
    "list2 = [1,2,3]\n",
    "\n",
    "clist1 = [ (i,j) for i in list1 for j in list2]\n",
    "      \n",
    "print(clist1)"
   ]
  },
  {
   "cell_type": "code",
   "execution_count": null,
   "id": "e3d53384",
   "metadata": {},
   "outputs": [],
   "source": [
    "fib2 = lambda n: n if "
   ]
  },
  {
   "cell_type": "markdown",
   "id": "8c6de110",
   "metadata": {},
   "source": [
    "# Numpy"
   ]
  },
  {
   "cell_type": "code",
   "execution_count": 142,
   "id": "c76bda84",
   "metadata": {},
   "outputs": [],
   "source": [
    "import numpy as np"
   ]
  },
  {
   "cell_type": "markdown",
   "id": "4c54b9a4",
   "metadata": {},
   "source": [
    "# Array Creation"
   ]
  },
  {
   "cell_type": "code",
   "execution_count": 149,
   "id": "ea3c0903",
   "metadata": {},
   "outputs": [
    {
     "name": "stdout",
     "output_type": "stream",
     "text": [
      "<class 'numpy.ndarray'>\n",
      "ndim 1\n",
      "shape (6,)\n",
      "size 6\n",
      "itemsize 4\n",
      "dtype int32\n",
      "[ 11  22  33  44  55 360]\n"
     ]
    }
   ],
   "source": [
    "mylist1 = [11,22,33,44,55]\n",
    "\n",
    "n5 = np.array(mylist1)\n",
    "\n",
    "\n",
    "print(type(n5))\n",
    "print('ndim',n5.ndim)\n",
    "print('shape',n5.shape)\n",
    "print('size',n5.size)\n",
    "print('itemsize',n5.itemsize)\n",
    "print('dtype',n5.dtype)\n",
    "print(n5)"
   ]
  },
  {
   "cell_type": "code",
   "execution_count": 150,
   "id": "cd22acba",
   "metadata": {},
   "outputs": [
    {
     "name": "stdout",
     "output_type": "stream",
     "text": [
      "<class 'numpy.ndarray'>\n",
      "ndim 1\n",
      "shape (6,)\n",
      "size 6\n",
      "itemsize 1\n",
      "dtype int8\n",
      "[11 22 33 44 55  4]\n"
     ]
    },
    {
     "name": "stderr",
     "output_type": "stream",
     "text": [
      "C:\\Users\\Ravi\\AppData\\Local\\Temp\\ipykernel_14100\\1779104530.py:3: DeprecationWarning: NumPy will stop allowing conversion of out-of-bound Python integers to integer arrays.  The conversion of 260 to int8 will fail in the future.\n",
      "For the old behavior, usually:\n",
      "    np.array(value).astype(dtype)`\n",
      "will give the desired result (the cast overflows).\n",
      "  n5 = np.array(mylist1, dtype=np.int8)\n"
     ]
    }
   ],
   "source": [
    "mylist1 = [11,22,33,44,55,260]\n",
    "\n",
    "n5 = np.array(mylist1, dtype=np.int8)\n",
    "\n",
    "\n",
    "print(type(n5))\n",
    "print('ndim',n5.ndim)\n",
    "print('shape',n5.shape)\n",
    "print('size',n5.size)\n",
    "print('itemsize',n5.itemsize)\n",
    "print('dtype',n5.dtype)\n",
    "print(n5)"
   ]
  },
  {
   "cell_type": "code",
   "execution_count": 151,
   "id": "0eb88b6c",
   "metadata": {},
   "outputs": [
    {
     "name": "stdout",
     "output_type": "stream",
     "text": [
      "<class 'numpy.ndarray'>\n",
      "ndim 1\n",
      "shape (5,)\n",
      "size 5\n",
      "itemsize 4\n",
      "dtype int32\n",
      "[11 22 33 44 55]\n"
     ]
    }
   ],
   "source": [
    "mylist1 = [11,22,33,44,55]\n",
    "\n",
    "n5 = np.array(mylist1)\n",
    "\n",
    "\n",
    "print(type(n5))\n",
    "print('ndim',n5.ndim)\n",
    "print('shape',n5.shape)\n",
    "print('size',n5.size)\n",
    "print('itemsize',n5.itemsize)\n",
    "print('dtype',n5.dtype)\n",
    "print(n5)"
   ]
  },
  {
   "cell_type": "code",
   "execution_count": 152,
   "id": "9368b38b",
   "metadata": {},
   "outputs": [
    {
     "name": "stdout",
     "output_type": "stream",
     "text": [
      "[65 75 85 66 76]\n",
      "[75 85 95 76 86]\n"
     ]
    }
   ],
   "source": [
    "mylist2 = [65, 75, 85, 66, 76]\n",
    "\n",
    "n5 = np.array(mylist2)\n",
    "print(n5)\n",
    "print(n5+10)"
   ]
  },
  {
   "cell_type": "code",
   "execution_count": 154,
   "id": "0512e6a9",
   "metadata": {},
   "outputs": [
    {
     "data": {
      "text/plain": [
       "array([10, 13, 10,  9,  9, 14])"
      ]
     },
     "execution_count": 154,
     "metadata": {},
     "output_type": "execute_result"
    }
   ],
   "source": [
    "high = [470,475,480,482,478,485]\n",
    "low  = [460,462,470,473,469,471]\n",
    "\n",
    "nhigh = np.array(high)\n",
    "nlow  = np.array(low)\n",
    "\n",
    "nvolatile = nhigh-nlow\n",
    "nvolatile"
   ]
  },
  {
   "cell_type": "code",
   "execution_count": 155,
   "id": "7203d910",
   "metadata": {},
   "outputs": [
    {
     "name": "stdout",
     "output_type": "stream",
     "text": [
      "[10 13 10  9  9 14]\n"
     ]
    }
   ],
   "source": [
    "print(nvolatile)"
   ]
  },
  {
   "cell_type": "markdown",
   "id": "6cd029b6",
   "metadata": {},
   "source": [
    "# 2 Dimensional Matrix"
   ]
  },
  {
   "cell_type": "code",
   "execution_count": 156,
   "id": "f48d5f00",
   "metadata": {},
   "outputs": [],
   "source": [
    "mylist3 = [\n",
    "    [111,222,333],\n",
    "    [444,555,666]\n",
    "]"
   ]
  },
  {
   "cell_type": "code",
   "execution_count": 157,
   "id": "04ba5e37",
   "metadata": {},
   "outputs": [],
   "source": [
    "n23 = np.array(mylist3)"
   ]
  },
  {
   "cell_type": "code",
   "execution_count": 159,
   "id": "2c0fd2c3",
   "metadata": {},
   "outputs": [
    {
     "name": "stdout",
     "output_type": "stream",
     "text": [
      "<class 'numpy.ndarray'>\n",
      "ndim 2\n",
      "shape (2, 3)\n",
      "size 6\n",
      "itemsize 4\n",
      "dtype int32\n",
      "[[111 222 333]\n",
      " [444 555 666]]\n"
     ]
    }
   ],
   "source": [
    "print(type(n23))\n",
    "print('ndim',n23.ndim)\n",
    "print('shape',n23.shape)\n",
    "print('size',n23.size)\n",
    "print('itemsize',n23.itemsize)\n",
    "print('dtype',n23.dtype)\n",
    "print(n23)"
   ]
  },
  {
   "cell_type": "code",
   "execution_count": 160,
   "id": "40499786",
   "metadata": {},
   "outputs": [
    {
     "data": {
      "text/plain": [
       "array([[86, 39, 40, 69],\n",
       "       [47, 38, 81, 99],\n",
       "       [60, 28, 32, 46],\n",
       "       [75, 54, 86, 29],\n",
       "       [51, 67, 79, 39],\n",
       "       [60, 62, 63, 29]])"
      ]
     },
     "execution_count": 160,
     "metadata": {},
     "output_type": "execute_result"
    }
   ],
   "source": [
    "# create a 6x4 array using Numpy with numbers between 10 and 100\n",
    "n64 = np.random.randint(low=10, high=100, size=(6,4))\n",
    "n64"
   ]
  },
  {
   "cell_type": "code",
   "execution_count": 161,
   "id": "e496703e",
   "metadata": {},
   "outputs": [
    {
     "data": {
      "text/plain": [
       "array([[93, 50, 83, 64],\n",
       "       [41, 86, 49, 35],\n",
       "       [61, 16, 55, 22],\n",
       "       [59, 76, 85, 95],\n",
       "       [79, 74, 22, 31],\n",
       "       [58, 51, 89, 72]])"
      ]
     },
     "execution_count": 161,
     "metadata": {},
     "output_type": "execute_result"
    }
   ],
   "source": [
    "# create a 6x4 array using Numpy with numbers between 10 and 100\n",
    "np.random.seed(23)                                              # ax2 + bx + c\n",
    "n64 = np.random.randint(low=10, high=100, size=(6,4))\n",
    "n64"
   ]
  },
  {
   "cell_type": "code",
   "execution_count": 162,
   "id": "e2b866dc",
   "metadata": {},
   "outputs": [
    {
     "data": {
      "text/plain": [
       "array([0, 1, 2, 3, 4, 5, 6, 7, 8, 9])"
      ]
     },
     "execution_count": 162,
     "metadata": {},
     "output_type": "execute_result"
    }
   ],
   "source": [
    "np.arange(10)                           # arange always returns 1 dimensional array"
   ]
  },
  {
   "cell_type": "code",
   "execution_count": 163,
   "id": "014396a2",
   "metadata": {},
   "outputs": [
    {
     "data": {
      "text/plain": [
       "array([10, 11, 12, 13, 14, 15, 16, 17, 18, 19])"
      ]
     },
     "execution_count": 163,
     "metadata": {},
     "output_type": "execute_result"
    }
   ],
   "source": [
    "np.arange(10,20)"
   ]
  },
  {
   "cell_type": "code",
   "execution_count": 164,
   "id": "944440e7",
   "metadata": {},
   "outputs": [
    {
     "data": {
      "text/plain": [
       "array([10, 12, 14, 16, 18, 20, 22, 24, 26, 28])"
      ]
     },
     "execution_count": 164,
     "metadata": {},
     "output_type": "execute_result"
    }
   ],
   "source": [
    "np.arange(10,30,2)"
   ]
  },
  {
   "cell_type": "code",
   "execution_count": 165,
   "id": "b4a55b96",
   "metadata": {},
   "outputs": [
    {
     "data": {
      "text/plain": [
       "array([10,  8,  6,  4,  2])"
      ]
     },
     "execution_count": 165,
     "metadata": {},
     "output_type": "execute_result"
    }
   ],
   "source": [
    "np.arange(10,1,-2)"
   ]
  },
  {
   "cell_type": "code",
   "execution_count": 167,
   "id": "7e3c18cc",
   "metadata": {},
   "outputs": [
    {
     "data": {
      "text/plain": [
       "array([10.1 , 33.55, 57.  , 80.45])"
      ]
     },
     "execution_count": 167,
     "metadata": {},
     "output_type": "execute_result"
    }
   ],
   "source": [
    "np.arange(10.1,99.99,23.45)"
   ]
  },
  {
   "cell_type": "code",
   "execution_count": 168,
   "id": "526d71c2",
   "metadata": {},
   "outputs": [
    {
     "data": {
      "text/plain": [
       "array([[ 0,  1,  2,  3],\n",
       "       [ 4,  5,  6,  7],\n",
       "       [ 8,  9, 10, 11],\n",
       "       [12, 13, 14, 15],\n",
       "       [16, 17, 18, 19],\n",
       "       [20, 21, 22, 23]])"
      ]
     },
     "execution_count": 168,
     "metadata": {},
     "output_type": "execute_result"
    }
   ],
   "source": [
    "n64 = np.arange(24).reshape(6,4)\n",
    "n64"
   ]
  },
  {
   "cell_type": "code",
   "execution_count": 169,
   "id": "bf3c57fd",
   "metadata": {},
   "outputs": [
    {
     "data": {
      "text/plain": [
       "array([[[ 0,  1,  2,  3],\n",
       "        [ 4,  5,  6,  7],\n",
       "        [ 8,  9, 10, 11]],\n",
       "\n",
       "       [[12, 13, 14, 15],\n",
       "        [16, 17, 18, 19],\n",
       "        [20, 21, 22, 23]]])"
      ]
     },
     "execution_count": 169,
     "metadata": {},
     "output_type": "execute_result"
    }
   ],
   "source": [
    "n64.reshape(2,3,4)"
   ]
  },
  {
   "cell_type": "markdown",
   "id": "d7ac712f",
   "metadata": {},
   "source": [
    "# Matrix Operations"
   ]
  },
  {
   "cell_type": "code",
   "execution_count": null,
   "id": "0f82dd32",
   "metadata": {},
   "outputs": [],
   "source": []
  }
 ],
 "metadata": {
  "kernelspec": {
   "display_name": "Python 3 (ipykernel)",
   "language": "python",
   "name": "python3"
  },
  "language_info": {
   "codemirror_mode": {
    "name": "ipython",
    "version": 3
   },
   "file_extension": ".py",
   "mimetype": "text/x-python",
   "name": "python",
   "nbconvert_exporter": "python",
   "pygments_lexer": "ipython3",
   "version": "3.11.5"
  }
 },
 "nbformat": 4,
 "nbformat_minor": 5
}
