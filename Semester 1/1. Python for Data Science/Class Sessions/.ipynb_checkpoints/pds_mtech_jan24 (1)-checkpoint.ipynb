{
 "cells": [
  {
   "cell_type": "markdown",
   "id": "8e5efd35",
   "metadata": {},
   "source": [
    "# 06/Jan/2024"
   ]
  },
  {
   "cell_type": "markdown",
   "id": "8bd1ac41",
   "metadata": {},
   "source": [
    "# Python for Data Science.  "
   ]
  },
  {
   "cell_type": "markdown",
   "id": "2de29f1e",
   "metadata": {},
   "source": [
    "1.  Write  a Code to print hello world"
   ]
  },
  {
   "cell_type": "code",
   "execution_count": null,
   "id": "572bcc44",
   "metadata": {},
   "outputs": [],
   "source": [
    "print('Hello World')"
   ]
  },
  {
   "cell_type": "code",
   "execution_count": null,
   "id": "eb07b53d",
   "metadata": {},
   "outputs": [],
   "source": [
    "print('HW')  #  Line Comment\n",
    "#  entire line commented  print('HW')\n",
    "print('NSE # Mumbai')\n",
    "\n",
    "exchange = \"BSE\";  print(exchange)\n",
    "\n",
    "usd = \"Dollar: $\";  rupee = '\\u20B9'\n",
    "\n",
    "print(usd, rupee)"
   ]
  },
  {
   "cell_type": "code",
   "execution_count": null,
   "id": "579e7286",
   "metadata": {},
   "outputs": [],
   "source": [
    "print(\"a \\# b\")"
   ]
  },
  {
   "cell_type": "code",
   "execution_count": null,
   "id": "6867518c",
   "metadata": {},
   "outputs": [],
   "source": [
    "print(\"a\\nb\")"
   ]
  },
  {
   "cell_type": "code",
   "execution_count": null,
   "id": "eb48ab36",
   "metadata": {},
   "outputs": [],
   "source": [
    "print(usd)"
   ]
  },
  {
   "cell_type": "code",
   "execution_count": null,
   "id": "72e37e2a",
   "metadata": {},
   "outputs": [],
   "source": [
    "print(rupee)"
   ]
  },
  {
   "cell_type": "code",
   "execution_count": null,
   "id": "026a17fc",
   "metadata": {},
   "outputs": [],
   "source": [
    "print(usd, rupee)"
   ]
  },
  {
   "cell_type": "code",
   "execution_count": null,
   "id": "a7157d3c",
   "metadata": {},
   "outputs": [],
   "source": [
    "exchange = 'NSE'\n",
    "print(exchange)"
   ]
  },
  {
   "cell_type": "code",
   "execution_count": null,
   "id": "f211364f",
   "metadata": {},
   "outputs": [],
   "source": [
    "exchange = 'nse is \n",
    "in mumbai. bse\n",
    "also in mumbai'"
   ]
  },
  {
   "cell_type": "code",
   "execution_count": null,
   "id": "b5234e18",
   "metadata": {},
   "outputs": [],
   "source": [
    "exchange = '''  nse is\n",
    "in mumbai. bse is also\n",
    "in Mumbai\n",
    "'''"
   ]
  },
  {
   "cell_type": "code",
   "execution_count": null,
   "id": "e11f2453",
   "metadata": {},
   "outputs": [],
   "source": [
    "print(exchange)"
   ]
  },
  {
   "cell_type": "code",
   "execution_count": null,
   "id": "31d9776c",
   "metadata": {},
   "outputs": [],
   "source": [
    "e1 = 'NSE'\n",
    "'''\n",
    "NSE is \n",
    "in Mumbai.  Block Comments\n",
    "'''\n",
    "\n",
    "print(e1)"
   ]
  },
  {
   "cell_type": "code",
   "execution_count": null,
   "id": "3ded9f60",
   "metadata": {},
   "outputs": [],
   "source": [
    "e1 = 20\n",
    "E1 = 30\n",
    "\n",
    "print(e1, E1)"
   ]
  },
  {
   "cell_type": "code",
   "execution_count": null,
   "id": "42b55fee",
   "metadata": {},
   "outputs": [],
   "source": [
    "91e1 = 'NSE'"
   ]
  },
  {
   "cell_type": "code",
   "execution_count": null,
   "id": "8082ee1d",
   "metadata": {},
   "outputs": [],
   "source": [
    "stock$ex = 'BSE'"
   ]
  },
  {
   "cell_type": "code",
   "execution_count": null,
   "id": "616a0b76",
   "metadata": {},
   "outputs": [],
   "source": [
    "if = 20"
   ]
  },
  {
   "cell_type": "code",
   "execution_count": null,
   "id": "94500d50",
   "metadata": {},
   "outputs": [],
   "source": [
    "import keyword\n",
    "print(keyword.kwlist)"
   ]
  },
  {
   "cell_type": "code",
   "execution_count": null,
   "id": "f88c64a7",
   "metadata": {},
   "outputs": [],
   "source": [
    "keyword.kwlist"
   ]
  },
  {
   "cell_type": "markdown",
   "id": "f5a0423e",
   "metadata": {},
   "source": [
    "Indentation"
   ]
  },
  {
   "cell_type": "code",
   "execution_count": null,
   "id": "c9af2a3b",
   "metadata": {},
   "outputs": [],
   "source": [
    "sensor = 0\n",
    "\n",
    "\n",
    "if sensor == 0:\n",
    "    print('Sensor is OFF')\n",
    "    print('Switch Motor OFF')\n",
    "else:\n",
    "    print('Sensor is ON')\n",
    "    print('Switch Motor ON')\n",
    "    \n",
    "print('Done') "
   ]
  },
  {
   "cell_type": "code",
   "execution_count": null,
   "id": "6f954f2c",
   "metadata": {},
   "outputs": [],
   "source": [
    "sensor = 0\n",
    "\n",
    "\n",
    "if sensor == 0:\n",
    "    print('Sensor is OFF')\n",
    "    print('Switch Motor OFF')\n",
    "else:\n",
    "        print('Sensor is ON')\n",
    "         print('Switch Motor ON')\n",
    "    \n",
    "print('Done') "
   ]
  },
  {
   "cell_type": "code",
   "execution_count": null,
   "id": "19fad534",
   "metadata": {},
   "outputs": [],
   "source": [
    "abcd = 2000\n",
    "print(abcd)\n",
    "print(type(abcd))\n",
    "print(id(abcd))"
   ]
  },
  {
   "cell_type": "code",
   "execution_count": null,
   "id": "c62968ce",
   "metadata": {},
   "outputs": [],
   "source": [
    "abcd = 'hello'\n",
    "print(abcd)\n",
    "print(type(abcd))\n",
    "print(id(abcd))"
   ]
  },
  {
   "cell_type": "code",
   "execution_count": null,
   "id": "9ead2698",
   "metadata": {},
   "outputs": [],
   "source": [
    "a = 2000\n",
    "b = 2000\n",
    "\n",
    "print(a,b)\n",
    "\n",
    "print(id(a))\n",
    "print(id(b))"
   ]
  },
  {
   "cell_type": "code",
   "execution_count": null,
   "id": "9785beac",
   "metadata": {},
   "outputs": [],
   "source": [
    "a = 200\n",
    "b = 200\n",
    "\n",
    "print(a,b)\n",
    "\n",
    "print(id(a))\n",
    "print(id(b))"
   ]
  },
  {
   "cell_type": "code",
   "execution_count": null,
   "id": "44a01be8",
   "metadata": {},
   "outputs": [],
   "source": [
    "##   integers -5 to 256 are prefixed at  boot_time"
   ]
  },
  {
   "cell_type": "code",
   "execution_count": null,
   "id": "7b57dd84",
   "metadata": {},
   "outputs": [],
   "source": [
    "a = 200\n",
    "b = 200\n",
    "\n",
    "print(a,b)\n",
    "\n",
    "print(id(a))\n",
    "print(id(b))\n",
    "\n",
    "b = b + 500\n",
    "print(b)\n",
    "print(id(b))"
   ]
  },
  {
   "cell_type": "code",
   "execution_count": null,
   "id": "bbb2116b",
   "metadata": {},
   "outputs": [],
   "source": [
    "##  in python, there is no contract bn the variable and the memory location."
   ]
  },
  {
   "cell_type": "code",
   "execution_count": null,
   "id": "54905caf",
   "metadata": {},
   "outputs": [],
   "source": [
    "print('hello')"
   ]
  },
  {
   "cell_type": "code",
   "execution_count": null,
   "id": "1afb6f91",
   "metadata": {},
   "outputs": [],
   "source": [
    "print = 20"
   ]
  },
  {
   "cell_type": "code",
   "execution_count": null,
   "id": "5da156c0",
   "metadata": {},
   "outputs": [],
   "source": [
    "print('Hello')  ##  20('hello')"
   ]
  },
  {
   "cell_type": "code",
   "execution_count": null,
   "id": "07f08270",
   "metadata": {},
   "outputs": [],
   "source": [
    "print('print')"
   ]
  },
  {
   "cell_type": "code",
   "execution_count": null,
   "id": "3cc2a1e2",
   "metadata": {},
   "outputs": [],
   "source": [
    "print(print)"
   ]
  },
  {
   "cell_type": "code",
   "execution_count": null,
   "id": "9386eef2",
   "metadata": {},
   "outputs": [],
   "source": [
    "print(id(print))"
   ]
  },
  {
   "cell_type": "code",
   "execution_count": null,
   "id": "44caf9c9",
   "metadata": {},
   "outputs": [],
   "source": [
    "a = 20\n",
    "print(id(20))"
   ]
  },
  {
   "cell_type": "code",
   "execution_count": null,
   "id": "af7ed28e",
   "metadata": {},
   "outputs": [],
   "source": [
    "print = 20\n",
    "id(print)"
   ]
  },
  {
   "cell_type": "code",
   "execution_count": null,
   "id": "ac304187",
   "metadata": {},
   "outputs": [],
   "source": [
    "print('hello')"
   ]
  },
  {
   "cell_type": "code",
   "execution_count": null,
   "id": "e25e7542",
   "metadata": {},
   "outputs": [],
   "source": [
    "print(dir(__builtins__))"
   ]
  },
  {
   "cell_type": "code",
   "execution_count": null,
   "id": "95cfe257",
   "metadata": {},
   "outputs": [],
   "source": [
    "print(dir(str))"
   ]
  },
  {
   "cell_type": "code",
   "execution_count": null,
   "id": "76f43b96",
   "metadata": {},
   "outputs": [],
   "source": [
    "a = 2345\n",
    "b = 2345\n",
    "c = 2345\n",
    "print(a,b,c)\n",
    "\n",
    "print(id(a), id(b), id(c))"
   ]
  },
  {
   "cell_type": "code",
   "execution_count": null,
   "id": "ebddce17",
   "metadata": {},
   "outputs": [],
   "source": [
    "a = b = c= 2345\n",
    "\n",
    "print(a,b,c)\n",
    "\n",
    "print(id(a), id(b), id(c))"
   ]
  },
  {
   "cell_type": "code",
   "execution_count": null,
   "id": "3dcc84b7",
   "metadata": {},
   "outputs": [],
   "source": [
    "v0,v1,v2 = 20,30,40  ##  positional mapping\n",
    "print(v0,v1,v2)"
   ]
  },
  {
   "cell_type": "code",
   "execution_count": null,
   "id": "e02fe9fd",
   "metadata": {},
   "outputs": [],
   "source": [
    "v0,v1,v2 = 20,30\n",
    "print(v0,v1,v2)"
   ]
  },
  {
   "cell_type": "code",
   "execution_count": null,
   "id": "3d242de4",
   "metadata": {},
   "outputs": [],
   "source": [
    "ms1 = input('Enter Marks: ')\n",
    "print(ms1)\n",
    "print(type(ms1))\n",
    "\n",
    "print(ms1+5)"
   ]
  },
  {
   "cell_type": "code",
   "execution_count": null,
   "id": "029c2f90",
   "metadata": {},
   "outputs": [],
   "source": [
    "ms1 = input('Enter Marks: ')\n",
    "print(ms1)\n",
    "print(type(ms1))\n",
    "\n",
    "num = int(ms1)\n",
    "print(num)\n",
    "print(type(num))\n",
    "\n",
    "print(num+5)"
   ]
  },
  {
   "cell_type": "code",
   "execution_count": null,
   "id": "a5f82030",
   "metadata": {},
   "outputs": [],
   "source": [
    "int(\"898\")"
   ]
  },
  {
   "cell_type": "code",
   "execution_count": null,
   "id": "aa67ab56",
   "metadata": {},
   "outputs": [],
   "source": [
    "int('hello')"
   ]
  },
  {
   "cell_type": "code",
   "execution_count": null,
   "id": "9e5e0b9d",
   "metadata": {},
   "outputs": [],
   "source": [
    "int(\"89.76\")"
   ]
  },
  {
   "cell_type": "code",
   "execution_count": null,
   "id": "e1d02e83",
   "metadata": {},
   "outputs": [],
   "source": [
    "float(\"98.76\")"
   ]
  },
  {
   "cell_type": "code",
   "execution_count": null,
   "id": "98f1ecc6",
   "metadata": {},
   "outputs": [],
   "source": [
    "int(78.65)"
   ]
  },
  {
   "cell_type": "code",
   "execution_count": null,
   "id": "c3cb3bec",
   "metadata": {},
   "outputs": [],
   "source": [
    "float(78)"
   ]
  },
  {
   "cell_type": "code",
   "execution_count": null,
   "id": "0c4ed07b",
   "metadata": {},
   "outputs": [],
   "source": [
    "m1 = int(input('Enter Marks: '))\n",
    "print(m1+5)"
   ]
  },
  {
   "cell_type": "code",
   "execution_count": null,
   "id": "64ef872d",
   "metadata": {},
   "outputs": [],
   "source": [
    "int(\"two\")"
   ]
  },
  {
   "cell_type": "code",
   "execution_count": null,
   "id": "f3dfba28",
   "metadata": {},
   "outputs": [],
   "source": [
    "m1 = input('Enter Marks: ')\n",
    "print(m1+5)"
   ]
  },
  {
   "cell_type": "code",
   "execution_count": null,
   "id": "3a005478",
   "metadata": {},
   "outputs": [],
   "source": [
    "2**3"
   ]
  },
  {
   "cell_type": "code",
   "execution_count": null,
   "id": "416a15b3",
   "metadata": {},
   "outputs": [],
   "source": [
    "2*3"
   ]
  },
  {
   "cell_type": "code",
   "execution_count": null,
   "id": "3753ae91",
   "metadata": {},
   "outputs": [],
   "source": [
    "a = 5\n",
    "not(a)"
   ]
  },
  {
   "cell_type": "code",
   "execution_count": null,
   "id": "0b056696",
   "metadata": {},
   "outputs": [],
   "source": [
    "bool(a)"
   ]
  },
  {
   "cell_type": "code",
   "execution_count": null,
   "id": "7d6e1702",
   "metadata": {},
   "outputs": [],
   "source": [
    "not(True)"
   ]
  },
  {
   "cell_type": "code",
   "execution_count": null,
   "id": "96b1027a",
   "metadata": {},
   "outputs": [],
   "source": [
    "not(False)"
   ]
  },
  {
   "cell_type": "code",
   "execution_count": null,
   "id": "4335ee2a",
   "metadata": {},
   "outputs": [],
   "source": [
    "bool(10)"
   ]
  },
  {
   "cell_type": "code",
   "execution_count": null,
   "id": "e96ceb8f",
   "metadata": {},
   "outputs": [],
   "source": [
    "bool(-10)"
   ]
  },
  {
   "cell_type": "code",
   "execution_count": null,
   "id": "ad6e0672",
   "metadata": {},
   "outputs": [],
   "source": [
    "bool(0)"
   ]
  },
  {
   "cell_type": "code",
   "execution_count": null,
   "id": "b373b176",
   "metadata": {},
   "outputs": [],
   "source": [
    "bool('True')"
   ]
  },
  {
   "cell_type": "code",
   "execution_count": null,
   "id": "766c2365",
   "metadata": {},
   "outputs": [],
   "source": [
    "bool('False')"
   ]
  },
  {
   "cell_type": "code",
   "execution_count": null,
   "id": "0125f119",
   "metadata": {},
   "outputs": [],
   "source": [
    "bool('')"
   ]
  },
  {
   "cell_type": "code",
   "execution_count": null,
   "id": "ecaddfc1",
   "metadata": {},
   "outputs": [],
   "source": [
    "print(type(True))"
   ]
  },
  {
   "cell_type": "code",
   "execution_count": null,
   "id": "07947c50",
   "metadata": {},
   "outputs": [],
   "source": [
    "int(True)"
   ]
  },
  {
   "cell_type": "code",
   "execution_count": null,
   "id": "c71ed3c3",
   "metadata": {},
   "outputs": [],
   "source": [
    "int(False)"
   ]
  },
  {
   "cell_type": "code",
   "execution_count": null,
   "id": "098f1351",
   "metadata": {},
   "outputs": [],
   "source": [
    "int(bool(1000))"
   ]
  },
  {
   "cell_type": "code",
   "execution_count": null,
   "id": "4cc1d9be",
   "metadata": {},
   "outputs": [],
   "source": [
    "a = 17\n",
    "b = 5"
   ]
  },
  {
   "cell_type": "code",
   "execution_count": null,
   "id": "8d77bc10",
   "metadata": {},
   "outputs": [],
   "source": [
    "a/b"
   ]
  },
  {
   "cell_type": "code",
   "execution_count": null,
   "id": "a49378a5",
   "metadata": {},
   "outputs": [],
   "source": [
    "a//b  ##  evaluates the quotient"
   ]
  },
  {
   "cell_type": "code",
   "execution_count": null,
   "id": "0539f8ea",
   "metadata": {},
   "outputs": [],
   "source": [
    "a%b    # evaluates remainder.  modulus operator"
   ]
  },
  {
   "cell_type": "code",
   "execution_count": null,
   "id": "6d6abe7c",
   "metadata": {},
   "outputs": [],
   "source": [
    "def calci1(p0,p1):\n",
    "    s = p0 + p1\n",
    "    \n",
    "    return s\n",
    "\n",
    "s1 = calci1(20,30)\n",
    "print(s1)"
   ]
  },
  {
   "cell_type": "code",
   "execution_count": null,
   "id": "d98f0142",
   "metadata": {},
   "outputs": [],
   "source": [
    "\n",
    "def calci2(p0,p1):\n",
    "    s = p0 + p1\n",
    "    #return None\n",
    "\n",
    "s1 = calci2(20,30)\n",
    "print(s1)\n",
    "print(type(s1))"
   ]
  },
  {
   "cell_type": "code",
   "execution_count": null,
   "id": "2d8ff754",
   "metadata": {},
   "outputs": [],
   "source": [
    "def calci3(p0,p1):\n",
    "    s = p0 + p1\n",
    "    d = p0 - p1\n",
    "    \n",
    "    return s,d  ##  multiple returns are possible\n",
    "\n",
    "s1,d1 = calci3(20,30)\n",
    "print(s1,d1)"
   ]
  },
  {
   "cell_type": "code",
   "execution_count": null,
   "id": "907d28c0",
   "metadata": {},
   "outputs": [],
   "source": [
    "help(calci3)"
   ]
  },
  {
   "cell_type": "code",
   "execution_count": null,
   "id": "0a6d9759",
   "metadata": {},
   "outputs": [],
   "source": [
    "def calci4(p0,p1):\n",
    "    '''\n",
    "      This function takes 2 numbers,\n",
    "      it adds and finds diff\n",
    "      it returns sum and diff\n",
    "      .DocString\n",
    "    '''\n",
    "    s = p0 + p1\n",
    "    d = p0 - p1\n",
    "    '''\n",
    "    will return\n",
    "    now\n",
    "    '''\n",
    "    \n",
    "    return s,d  ##  multiple returns are possible"
   ]
  },
  {
   "cell_type": "code",
   "execution_count": null,
   "id": "6b0631ce",
   "metadata": {},
   "outputs": [],
   "source": [
    "s1,d1 = calci4(20,30)\n",
    "print(s1,d1)"
   ]
  },
  {
   "cell_type": "code",
   "execution_count": null,
   "id": "03eee01b",
   "metadata": {},
   "outputs": [],
   "source": [
    "help(calci4)"
   ]
  },
  {
   "cell_type": "code",
   "execution_count": null,
   "id": "e21ca3ca",
   "metadata": {},
   "outputs": [],
   "source": [
    "def tempCheck(temperature):\n",
    "    if temperature > 99:\n",
    "        return 'Hot'\n",
    "    elif temperature < 60:\n",
    "        return 'Cold'\n",
    "    else:\n",
    "        return 'Right'\n",
    "\n",
    "feel = tempCheck(89);  print(feel)\n",
    "feel = tempCheck(899); print(feel)\n",
    "feel = tempCheck(9);   print(feel)"
   ]
  },
  {
   "cell_type": "code",
   "execution_count": null,
   "id": "d92e4854",
   "metadata": {},
   "outputs": [],
   "source": [
    "curtemp = int(input('Get temperature: '))\n",
    "feel = tempCheck(curtemp)\n",
    "print(curtemp, feel)"
   ]
  },
  {
   "cell_type": "code",
   "execution_count": null,
   "id": "97e89d25",
   "metadata": {},
   "outputs": [],
   "source": [
    "def isTrouble(curHour1, talking1):\n",
    "    if talking1:\n",
    "        if (curHour1 >= 20)  or (curHour1 <= 7):\n",
    "            return True\n",
    "        \n",
    "    return False\n",
    "\n",
    "def isTrouble(curHour1, talking1):\n",
    "    if (talking1) and ((curHour1 >= 20)  or (curHour1 <= 7) ):\n",
    "            return True\n",
    "        \n",
    "    return False\n",
    "    \n",
    "curHour = 22; talking = True;  \n",
    "feel = isTrouble(curHour, talking)\n",
    "print(curHour, talking, feel)\n",
    "\n",
    "curHour = 2; talking = True;  \n",
    "feel = isTrouble(curHour, talking)\n",
    "print(curHour, talking, feel)\n",
    "\n",
    "curHour = 12; talking = True;  \n",
    "feel = isTrouble(curHour, talking)\n",
    "print(curHour, talking, feel)\n",
    "\n",
    "curHour = 22; talking = False;  \n",
    "feel = isTrouble(curHour, talking)\n",
    "print(curHour, talking, feel)"
   ]
  },
  {
   "cell_type": "markdown",
   "id": "06ca1b99",
   "metadata": {},
   "source": [
    "# Strings"
   ]
  },
  {
   "cell_type": "code",
   "execution_count": null,
   "id": "4a07c247",
   "metadata": {},
   "outputs": [],
   "source": [
    "ms1 = 'PYTHON'"
   ]
  },
  {
   "cell_type": "code",
   "execution_count": null,
   "id": "ad6e0c55",
   "metadata": {},
   "outputs": [],
   "source": [
    "print(ms1)\n",
    "print(type(ms1))\n",
    "print(len(ms1))"
   ]
  },
  {
   "cell_type": "code",
   "execution_count": null,
   "id": "eb233100",
   "metadata": {},
   "outputs": [],
   "source": [
    "ms1[0]"
   ]
  },
  {
   "cell_type": "code",
   "execution_count": null,
   "id": "1cb1a723",
   "metadata": {},
   "outputs": [],
   "source": [
    "ms1[0] = 'J'"
   ]
  },
  {
   "cell_type": "code",
   "execution_count": null,
   "id": "eb4a1cef",
   "metadata": {},
   "outputs": [],
   "source": [
    "ms1 = 'python'\n",
    "print(ms1)\n",
    "print(id(ms1))\n",
    "ms1 = ms1 + 'data'\n",
    "print(ms1)\n",
    "print(id(ms1))"
   ]
  },
  {
   "cell_type": "code",
   "execution_count": null,
   "id": "951fb535",
   "metadata": {},
   "outputs": [],
   "source": [
    "ms1 = 'pythondatascience'\n",
    "print(ms1)\n",
    "\n",
    "print(ms1[2:10:3])"
   ]
  },
  {
   "cell_type": "code",
   "execution_count": null,
   "id": "23b7e3fa",
   "metadata": {},
   "outputs": [],
   "source": [
    "'hello' + 'world'"
   ]
  },
  {
   "cell_type": "code",
   "execution_count": null,
   "id": "1ef46b17",
   "metadata": {},
   "outputs": [],
   "source": [
    "'hello' * 3"
   ]
  },
  {
   "cell_type": "code",
   "execution_count": null,
   "id": "b22e2a7b",
   "metadata": {},
   "outputs": [],
   "source": [
    "'hello' * 'world'"
   ]
  },
  {
   "cell_type": "code",
   "execution_count": null,
   "id": "ed500480",
   "metadata": {},
   "outputs": [],
   "source": [
    "'a' in 'aeiou'"
   ]
  },
  {
   "cell_type": "code",
   "execution_count": null,
   "id": "e35ad09c",
   "metadata": {},
   "outputs": [],
   "source": [
    "'z' in 'aeiou'"
   ]
  },
  {
   "cell_type": "code",
   "execution_count": null,
   "id": "6a614f95",
   "metadata": {},
   "outputs": [],
   "source": [
    "print(dir(str))"
   ]
  },
  {
   "cell_type": "code",
   "execution_count": null,
   "id": "16ab40a0",
   "metadata": {},
   "outputs": [],
   "source": [
    "help(str.replace)"
   ]
  },
  {
   "cell_type": "code",
   "execution_count": null,
   "id": "862f5e63",
   "metadata": {},
   "outputs": [],
   "source": [
    "ms1 = 'king RING sing'\n",
    "\n",
    "ns1 = ms1.replace('ng', 'ms')\n",
    "\n",
    "print(ns1)"
   ]
  },
  {
   "cell_type": "code",
   "execution_count": null,
   "id": "ae739aeb",
   "metadata": {},
   "outputs": [],
   "source": [
    "ms1 = 'king RING sing'\n",
    "\n",
    "ns1 = ms1.replace('ng', 'ms')\n",
    "\n",
    "print(ns1)"
   ]
  },
  {
   "cell_type": "code",
   "execution_count": null,
   "id": "20a48d89",
   "metadata": {},
   "outputs": [],
   "source": [
    "ms1 = 'king RING sing'\n",
    "\n",
    "ns1 = ms1.replace('ng', 'ms', 1)\n",
    "\n",
    "print(ns1)"
   ]
  },
  {
   "cell_type": "code",
   "execution_count": null,
   "id": "1b24f8fb",
   "metadata": {},
   "outputs": [],
   "source": [
    "help(str)"
   ]
  },
  {
   "cell_type": "code",
   "execution_count": null,
   "id": "7080c238",
   "metadata": {},
   "outputs": [],
   "source": [
    "help(ms1.__class__)"
   ]
  },
  {
   "cell_type": "code",
   "execution_count": null,
   "id": "a318f14c",
   "metadata": {},
   "outputs": [],
   "source": [
    "'hello'.__class__"
   ]
  },
  {
   "cell_type": "code",
   "execution_count": null,
   "id": "09e63b37",
   "metadata": {},
   "outputs": [],
   "source": [
    "a = 20\n",
    "a.__class__"
   ]
  },
  {
   "cell_type": "code",
   "execution_count": null,
   "id": "e8ffcda0",
   "metadata": {},
   "outputs": [],
   "source": [
    "ms1"
   ]
  },
  {
   "cell_type": "code",
   "execution_count": null,
   "id": "50f5c42c",
   "metadata": {},
   "outputs": [],
   "source": [
    "ns1 = ms1.replace('g','*',1).replace('G','@')\n",
    "print(ns1)"
   ]
  },
  {
   "cell_type": "code",
   "execution_count": null,
   "id": "b6c06c38",
   "metadata": {},
   "outputs": [],
   "source": [
    "'find' in dir(str)"
   ]
  },
  {
   "cell_type": "code",
   "execution_count": null,
   "id": "6656c47a",
   "metadata": {},
   "outputs": [],
   "source": [
    "help(str.find)"
   ]
  },
  {
   "cell_type": "code",
   "execution_count": null,
   "id": "a436c868",
   "metadata": {},
   "outputs": [],
   "source": [
    "ms1 = 'nationalstockexchange'\n",
    "\n",
    "if ms1.find('d') == -1:\n",
    "    print('Substring Not found')\n",
    "    \n",
    "print(ms1.find('d'))"
   ]
  },
  {
   "cell_type": "code",
   "execution_count": null,
   "id": "a400653e",
   "metadata": {},
   "outputs": [],
   "source": [
    "ms1 = 'nationalstockexchange'\n",
    "ms1.find('a')"
   ]
  },
  {
   "cell_type": "code",
   "execution_count": null,
   "id": "6014b2ba",
   "metadata": {},
   "outputs": [],
   "source": [
    "ms1.find('a',10,20)"
   ]
  },
  {
   "cell_type": "code",
   "execution_count": null,
   "id": "503baada",
   "metadata": {},
   "outputs": [],
   "source": [
    "ms1.find('ang',10,20)"
   ]
  },
  {
   "cell_type": "code",
   "execution_count": null,
   "id": "fc85b403",
   "metadata": {},
   "outputs": [],
   "source": [
    "ms1.find('any',10,20)"
   ]
  },
  {
   "cell_type": "code",
   "execution_count": null,
   "id": "12fad8af",
   "metadata": {},
   "outputs": [],
   "source": [
    "ms1[10:20]"
   ]
  },
  {
   "cell_type": "code",
   "execution_count": null,
   "id": "2c61eafa",
   "metadata": {},
   "outputs": [],
   "source": [
    "ms1.rfind('a')"
   ]
  },
  {
   "cell_type": "code",
   "execution_count": null,
   "id": "62a5021f",
   "metadata": {},
   "outputs": [],
   "source": [
    "\"2023\".isdigit()"
   ]
  },
  {
   "cell_type": "code",
   "execution_count": null,
   "id": "5970f110",
   "metadata": {},
   "outputs": [],
   "source": [
    "\"abcd123\".isdigit()"
   ]
  },
  {
   "cell_type": "code",
   "execution_count": null,
   "id": "7ee00249",
   "metadata": {},
   "outputs": [],
   "source": [
    "'abcd'.isalnum()"
   ]
  },
  {
   "cell_type": "code",
   "execution_count": null,
   "id": "08ae90a6",
   "metadata": {},
   "outputs": [],
   "source": [
    "ms1 = 'World Health Org'\n",
    "\n",
    "r = ms1.split()\n",
    "print(type(r))\n",
    "print(r)"
   ]
  },
  {
   "cell_type": "code",
   "execution_count": null,
   "id": "1ba4f032",
   "metadata": {},
   "outputs": [],
   "source": [
    "ms1 = 'World Health Org'\n",
    "\n",
    "r = ms1.split(None,1)\n",
    "print(type(r))\n",
    "print(r)"
   ]
  },
  {
   "cell_type": "code",
   "execution_count": null,
   "id": "ddfe3e05",
   "metadata": {},
   "outputs": [],
   "source": [
    "ms1 = 'World Health Org'\n",
    "\n",
    "r = ms1.split(maxsplit=1)\n",
    "print(type(r))\n",
    "print(r)"
   ]
  },
  {
   "cell_type": "code",
   "execution_count": null,
   "id": "099d92d0",
   "metadata": {},
   "outputs": [],
   "source": [
    "ms1 = 'World_Health_Org'\n",
    "\n",
    "r = ms1.split('_')\n",
    "print(type(r))\n",
    "print(r)"
   ]
  },
  {
   "cell_type": "code",
   "execution_count": null,
   "id": "76a950a0",
   "metadata": {},
   "outputs": [],
   "source": [
    "ms1 = 'World_Health_Org'\n",
    "\n",
    "r = ms1.split()\n",
    "print(type(r))\n",
    "print(r)"
   ]
  },
  {
   "cell_type": "code",
   "execution_count": null,
   "id": "b7194f02",
   "metadata": {},
   "outputs": [],
   "source": [
    "list_of_strings = ['python', 'data', 'science']\n",
    "\n",
    "joining_sep = '_'\n",
    "\n",
    "ns1 = joining_sep.join(list_of_strings)\n",
    "print(ns1)"
   ]
  },
  {
   "cell_type": "code",
   "execution_count": null,
   "id": "b4d68eb3",
   "metadata": {},
   "outputs": [],
   "source": [
    "list_of_strings = ['python', 'data', 'science']\n",
    "\n",
    "ns1 = '::'.join(list_of_strings)\n",
    "print(ns1)"
   ]
  },
  {
   "cell_type": "code",
   "execution_count": null,
   "id": "4613aac4",
   "metadata": {},
   "outputs": [],
   "source": [
    "list_of_strings = ['python', 'data', 'science']\n",
    "\n",
    "ns1 = ''.join(list_of_strings)\n",
    "print(ns1)"
   ]
  },
  {
   "cell_type": "code",
   "execution_count": null,
   "id": "8d800255",
   "metadata": {},
   "outputs": [],
   "source": [
    "list_of_strings = ['python', 'data', 'science']\n",
    "\n",
    "ns1 = '_PES_'.join(list_of_strings)\n",
    "print(ns1)"
   ]
  },
  {
   "cell_type": "raw",
   "id": "3aedb03d",
   "metadata": {},
   "source": [
    "Average Math Marks of 50 students is 97.65 in this exam"
   ]
  },
  {
   "cell_type": "code",
   "execution_count": null,
   "id": "7ab90f1e",
   "metadata": {},
   "outputs": [],
   "source": [
    "sub = 'Science'; num = 55; avg = 98.76\n",
    "\n",
    "#unconstrained formatting\n",
    "ns1 = 'Average {} marks of {} students is {} in exam'.format(sub,num,avg)\n",
    "print(ns1)"
   ]
  },
  {
   "cell_type": "code",
   "execution_count": null,
   "id": "5e485dc7",
   "metadata": {},
   "outputs": [],
   "source": [
    "sub = 'Science'; num = 55; avg = 98.76\n",
    "\n",
    "ns1 = 'Average {} marks of {} students is {} in exam'.format(sub,num)\n",
    "print(ns1)"
   ]
  },
  {
   "cell_type": "code",
   "execution_count": null,
   "id": "c2b5a7a4",
   "metadata": {},
   "outputs": [],
   "source": [
    "sub = 'Science'; num = 55; avg = 98.76\n",
    "\n",
    "# formatting\n",
    "ns1 = 'Average {:s} marks of {:d} students is {:.1f} exam'.format(sub,num,avg)\n",
    "print(ns1)"
   ]
  },
  {
   "cell_type": "code",
   "execution_count": null,
   "id": "8f659be9",
   "metadata": {},
   "outputs": [],
   "source": [
    "sub = 'Science'; num = 55; avg = 98.76\n",
    "\n",
    "# datatype constraint formatting\n",
    "ns1 = 'Average {:s} marks of {:d} students is {:f} exam'.format(num,sub,avg)\n",
    "print(ns1)"
   ]
  },
  {
   "cell_type": "code",
   "execution_count": null,
   "id": "33a82d40",
   "metadata": {},
   "outputs": [],
   "source": [
    "help('FORMATTING')"
   ]
  },
  {
   "cell_type": "code",
   "execution_count": null,
   "id": "c184357b",
   "metadata": {},
   "outputs": [],
   "source": [
    "sub = 'Science'; num = 55; avg = 98.76\n",
    "\n",
    "# replacement index and data type constraint formatting\n",
    "ns1 = 'Average {1:s} marks of {0:d} students is {2:f} exam'.format(num,sub,avg)\n",
    "print(ns1)"
   ]
  },
  {
   "cell_type": "code",
   "execution_count": null,
   "id": "d07748ed",
   "metadata": {},
   "outputs": [],
   "source": [
    "sub = 'Science'; num = 55; avg = 98.76\n",
    "\n",
    "# replacement index constraint formatting\n",
    "ns1 = 'Average {1} marks of {0} students is {2} exam'.format(num,sub,avg)\n",
    "print(ns1)"
   ]
  },
  {
   "cell_type": "code",
   "execution_count": null,
   "id": "7528ee3d",
   "metadata": {},
   "outputs": [],
   "source": [
    "sub = 'Science'; num = 55; avg = 98.76\n",
    "\n",
    "# replacement index constraint formatting\n",
    "ns1 = 'Average {1} marks of {1} students is {1} exam'.format(num,sub,avg)\n",
    "print(ns1)"
   ]
  },
  {
   "cell_type": "code",
   "execution_count": null,
   "id": "ae36c2b2",
   "metadata": {},
   "outputs": [],
   "source": [
    "ns1 = \"s{:04d}e\".format(23)\n",
    "print(ns1)"
   ]
  },
  {
   "cell_type": "code",
   "execution_count": null,
   "id": "c898fe5c",
   "metadata": {},
   "outputs": [],
   "source": [
    "ns1 = \"s{:s}e\".format('PYTHON');  print(ns1)"
   ]
  },
  {
   "cell_type": "code",
   "execution_count": null,
   "id": "4bf51197",
   "metadata": {},
   "outputs": [],
   "source": [
    "ns1 = \"s{:10s}e\".format('PYTHON');  print(ns1)"
   ]
  },
  {
   "cell_type": "code",
   "execution_count": null,
   "id": "33f29de7",
   "metadata": {},
   "outputs": [],
   "source": [
    "ns1 = \"s{:<10s}e\".format('PYTHON');  print(ns1)"
   ]
  },
  {
   "cell_type": "code",
   "execution_count": null,
   "id": "bb873f5a",
   "metadata": {},
   "outputs": [],
   "source": [
    "ns1 = \"s{:>10s}e\".format('PYTHON');  print(ns1)"
   ]
  },
  {
   "cell_type": "code",
   "execution_count": null,
   "id": "e155b7b3",
   "metadata": {},
   "outputs": [],
   "source": [
    "ns1 = \"s{:^10s}e\".format('PYTHON');  print(ns1)"
   ]
  },
  {
   "cell_type": "code",
   "execution_count": null,
   "id": "d8f8417f",
   "metadata": {},
   "outputs": [],
   "source": [
    "ns1 = \"s{:*^10s}e\".format('PYTHOND');  print(ns1)"
   ]
  },
  {
   "cell_type": "code",
   "execution_count": null,
   "id": "4a1519a3",
   "metadata": {},
   "outputs": [],
   "source": [
    "ns1 = \"s{:*^10s}e\".format('PYTHONDATASCIENCE');  print(ns1)"
   ]
  },
  {
   "cell_type": "code",
   "execution_count": null,
   "id": "1c146354",
   "metadata": {},
   "outputs": [],
   "source": [
    "for i in range(0,10):\n",
    "    print(\"{}\".format('*' * i))"
   ]
  },
  {
   "cell_type": "code",
   "execution_count": null,
   "id": "01e41647",
   "metadata": {},
   "outputs": [],
   "source": [
    "for i in range(1,10,2):\n",
    "    print(\"{:^10s}\".format('*' * i))"
   ]
  },
  {
   "cell_type": "code",
   "execution_count": null,
   "id": "6e793a9f",
   "metadata": {},
   "outputs": [],
   "source": [
    "for i in range(1,10,2):\n",
    "    print(\"{:<10s}\".format('*' * i))"
   ]
  },
  {
   "cell_type": "code",
   "execution_count": null,
   "id": "dca53082",
   "metadata": {},
   "outputs": [],
   "source": [
    "for i in range(1,10,2):\n",
    "    print(\"{:>10s}\".format('*' * i))"
   ]
  },
  {
   "cell_type": "code",
   "execution_count": null,
   "id": "04597c0c",
   "metadata": {},
   "outputs": [],
   "source": [
    "list(range(1,10,2))"
   ]
  },
  {
   "cell_type": "code",
   "execution_count": null,
   "id": "f0c51df1",
   "metadata": {},
   "outputs": [],
   "source": [
    "print('StockExchange')"
   ]
  },
  {
   "cell_type": "code",
   "execution_count": null,
   "id": "620d18ba",
   "metadata": {},
   "outputs": [],
   "source": [
    "print('Stock\\nExchange')"
   ]
  },
  {
   "cell_type": "code",
   "execution_count": null,
   "id": "9a6dab98",
   "metadata": {},
   "outputs": [],
   "source": [
    "print('Stock\\tExchange')"
   ]
  },
  {
   "cell_type": "code",
   "execution_count": null,
   "id": "0254db1b",
   "metadata": {},
   "outputs": [],
   "source": [
    "print('Stock\\bExchange')"
   ]
  },
  {
   "cell_type": "code",
   "execution_count": null,
   "id": "77438ea4",
   "metadata": {},
   "outputs": [],
   "source": [
    "print('StockExchange\\rMumbai')"
   ]
  },
  {
   "cell_type": "code",
   "execution_count": null,
   "id": "bef9da0b",
   "metadata": {},
   "outputs": [],
   "source": [
    "print(\"c:\\tiger\")"
   ]
  },
  {
   "cell_type": "code",
   "execution_count": null,
   "id": "8bb5cbcb",
   "metadata": {},
   "outputs": [],
   "source": [
    "print(\"c:\\\\tiger\")"
   ]
  },
  {
   "cell_type": "code",
   "execution_count": null,
   "id": "231b97de",
   "metadata": {},
   "outputs": [],
   "source": [
    "print(\"c:\\wiger\")"
   ]
  },
  {
   "cell_type": "markdown",
   "id": "4d55bed2",
   "metadata": {},
   "source": [
    "# List"
   ]
  },
  {
   "cell_type": "code",
   "execution_count": null,
   "id": "e65baecf",
   "metadata": {},
   "outputs": [],
   "source": [
    "mlist1 = list('python')\n",
    "print(mlist1)\n",
    "print(type(mlist1))\n",
    "print(len(mlist1))"
   ]
  },
  {
   "cell_type": "code",
   "execution_count": null,
   "id": "2dd1d926",
   "metadata": {},
   "outputs": [],
   "source": [
    "mlist1 = list('pythondatascience')\n",
    "print(mlist1)"
   ]
  },
  {
   "cell_type": "code",
   "execution_count": null,
   "id": "2b913ed8",
   "metadata": {},
   "outputs": [],
   "source": [
    "print(mlist1[2:20:3])"
   ]
  },
  {
   "cell_type": "code",
   "execution_count": null,
   "id": "86fa7e4d",
   "metadata": {},
   "outputs": [],
   "source": [
    "print(mlist1[::-1])"
   ]
  },
  {
   "cell_type": "code",
   "execution_count": null,
   "id": "38ad0ece",
   "metadata": {},
   "outputs": [],
   "source": [
    "[1,2,3] + [4,5,6]"
   ]
  },
  {
   "cell_type": "code",
   "execution_count": null,
   "id": "075740ff",
   "metadata": {},
   "outputs": [],
   "source": [
    "[1,2,3] * 4"
   ]
  },
  {
   "cell_type": "code",
   "execution_count": null,
   "id": "95e3dd20",
   "metadata": {},
   "outputs": [],
   "source": [
    "aclist = [123,456,789]\n",
    "123 in aclist"
   ]
  },
  {
   "cell_type": "raw",
   "id": "ab1581e3",
   "metadata": {},
   "source": [
    "1 2 3\n",
    "4 5 6"
   ]
  },
  {
   "cell_type": "code",
   "execution_count": null,
   "id": "ebf4680d",
   "metadata": {},
   "outputs": [],
   "source": [
    "mylist23 = [\n",
    "    [1,2,3],\n",
    "    [4,5,6]\n",
    "]\n",
    "\n",
    "print(mylist23)"
   ]
  },
  {
   "cell_type": "code",
   "execution_count": null,
   "id": "044aa328",
   "metadata": {},
   "outputs": [],
   "source": [
    "print(dir(list))"
   ]
  },
  {
   "cell_type": "code",
   "execution_count": null,
   "id": "3616cadf",
   "metadata": {},
   "outputs": [],
   "source": [
    "mylist1 = [1,2,3,4,5,6]\n",
    "print(mylist1)\n",
    "\n",
    "a = mylist1.append(222)\n",
    "print(a)\n",
    "\n",
    "print(mylist1)"
   ]
  },
  {
   "cell_type": "code",
   "execution_count": null,
   "id": "51f44461",
   "metadata": {},
   "outputs": [],
   "source": [
    "mylist1 = [1,2,3,4,5,6]\n",
    "print(mylist1)\n",
    "\n",
    "mylist1.append(222)\n",
    "print(mylist1)"
   ]
  },
  {
   "cell_type": "code",
   "execution_count": null,
   "id": "7b0717ca",
   "metadata": {},
   "outputs": [],
   "source": [
    "mylist1 = [1,2,3,4,5,6]\n",
    "print(mylist1)\n",
    "\n",
    "mylist1.append( [111,222,333] )\n",
    "print(mylist1)"
   ]
  },
  {
   "cell_type": "code",
   "execution_count": null,
   "id": "b6bf8df5",
   "metadata": {},
   "outputs": [],
   "source": [
    "mylist1 = [1,2,3,4,5,6]\n",
    "print(mylist1)\n",
    "\n",
    "mylist1.extend( [111,222,333, 'Hello'] )\n",
    "print(mylist1)"
   ]
  },
  {
   "cell_type": "code",
   "execution_count": null,
   "id": "893650e0",
   "metadata": {},
   "outputs": [],
   "source": [
    "mylist1 = [1,2,3,4,5,6]\n",
    "print(mylist1)\n",
    "\n",
    "mylist1.insert(0,222)\n",
    "print(mylist1)"
   ]
  },
  {
   "cell_type": "code",
   "execution_count": null,
   "id": "ad047e91",
   "metadata": {},
   "outputs": [],
   "source": [
    "mylist1 = [1,2,3,4,5,6]\n",
    "print(mylist1)\n",
    "\n",
    "mylist1.insert(-1,222)\n",
    "print(mylist1)"
   ]
  },
  {
   "cell_type": "code",
   "execution_count": null,
   "id": "af4951df",
   "metadata": {},
   "outputs": [],
   "source": [
    "mylist1 = [1,2,3,4,5,6]\n",
    "print(mylist1)\n",
    "\n",
    "mylist2 = [111,222,333]\n",
    "print(mylist2)\n",
    "\n",
    "mylist1.append(mylist2)\n",
    "\n",
    "print(mylist1)"
   ]
  },
  {
   "cell_type": "code",
   "execution_count": null,
   "id": "803799be",
   "metadata": {},
   "outputs": [],
   "source": [
    "mylist1 = [1,2,3,4,5,6]\n",
    "print(mylist1)\n",
    "\n",
    "r = mylist1.pop()\n",
    "print(r)\n",
    "\n",
    "print(mylist1)"
   ]
  },
  {
   "cell_type": "code",
   "execution_count": null,
   "id": "ca14a435",
   "metadata": {},
   "outputs": [],
   "source": [
    "mylist1 = [1,2,3,4,5,6]\n",
    "print(mylist1)\n",
    "\n",
    "r = mylist1.pop(1)\n",
    "print(r)\n",
    "\n",
    "print(mylist1)"
   ]
  },
  {
   "cell_type": "code",
   "execution_count": null,
   "id": "cfd99b25",
   "metadata": {},
   "outputs": [],
   "source": [
    "mylist1 = list('pythondatascience')\n",
    "print(mylist1)\n",
    "\n",
    "mylist1.remove('a')\n",
    "print(mylist1)"
   ]
  },
  {
   "cell_type": "code",
   "execution_count": null,
   "id": "d517e95d",
   "metadata": {},
   "outputs": [],
   "source": [
    "mylist1 = list('pythondatascience')\n",
    "print(mylist1)\n",
    "\n",
    "mylist1.remove('z')\n",
    "print(mylist1)"
   ]
  },
  {
   "cell_type": "code",
   "execution_count": null,
   "id": "71febe3f",
   "metadata": {},
   "outputs": [],
   "source": [
    "mylist1 = list('pythondatascience')\n",
    "print(mylist1)\n",
    "\n",
    "while 'a' in mylist1:\n",
    "    mylist1.remove('a')\n",
    "    \n",
    "print(mylist1)"
   ]
  },
  {
   "cell_type": "code",
   "execution_count": null,
   "id": "61563725",
   "metadata": {},
   "outputs": [],
   "source": [
    "mylist1 = list('pythondatascience')\n",
    "print(mylist1)\n",
    "\n",
    "print(mylist1.index('a'))\n",
    "print(mylist1.count('a'))"
   ]
  },
  {
   "cell_type": "code",
   "execution_count": null,
   "id": "121ca718",
   "metadata": {},
   "outputs": [],
   "source": [
    "mylist1 = [44,33,11,66,55]\n",
    "print(max(mylist1))\n",
    "print(min(mylist1))"
   ]
  },
  {
   "cell_type": "code",
   "execution_count": null,
   "id": "b22569b2",
   "metadata": {},
   "outputs": [],
   "source": [
    "mylist1 = list('python')\n",
    "print(max(mylist1))\n",
    "print(min(mylist1))"
   ]
  },
  {
   "cell_type": "code",
   "execution_count": null,
   "id": "d830e11f",
   "metadata": {},
   "outputs": [],
   "source": [
    "ord('p')"
   ]
  },
  {
   "cell_type": "code",
   "execution_count": null,
   "id": "27e30453",
   "metadata": {},
   "outputs": [],
   "source": [
    "ord('a')"
   ]
  },
  {
   "cell_type": "code",
   "execution_count": null,
   "id": "8689a4b1",
   "metadata": {},
   "outputs": [],
   "source": [
    "chr(97)"
   ]
  },
  {
   "cell_type": "code",
   "execution_count": null,
   "id": "c726d05c",
   "metadata": {},
   "outputs": [],
   "source": [
    "chr(0x20b9)"
   ]
  },
  {
   "cell_type": "code",
   "execution_count": null,
   "id": "9bdc3345",
   "metadata": {},
   "outputs": [],
   "source": [
    "mylist1 = list('python')\n",
    "print(mylist1)\n",
    "mylist1.clear()\n",
    "print(mylist1)"
   ]
  },
  {
   "cell_type": "code",
   "execution_count": null,
   "id": "35a8f56b",
   "metadata": {},
   "outputs": [],
   "source": [
    "mylist1 = [11,22,33]\n",
    "mylist2 = mylist1   ##  created a View to the same list\n",
    "print(id(mylist1))\n",
    "print(id(mylist2))\n",
    "print(mylist1)\n",
    "print(mylist2)\n",
    "\n",
    "mylist2[0] = 'Hello'\n",
    "\n",
    "print(mylist1)\n",
    "print(mylist2)"
   ]
  },
  {
   "cell_type": "code",
   "execution_count": null,
   "id": "065ab478",
   "metadata": {},
   "outputs": [],
   "source": [
    "mylist1 == mylist2"
   ]
  },
  {
   "cell_type": "code",
   "execution_count": null,
   "id": "fa944c9e",
   "metadata": {},
   "outputs": [],
   "source": [
    "mylist1 is mylist2"
   ]
  },
  {
   "cell_type": "code",
   "execution_count": null,
   "id": "08e5453a",
   "metadata": {},
   "outputs": [],
   "source": [
    "mylist1 = [11,22,33]\n",
    "mylist2 = mylist1.copy()   ##  created a copy of the same list\n",
    "print(id(mylist1))\n",
    "print(id(mylist2))\n",
    "print(mylist1)\n",
    "print(mylist2)\n",
    "\n",
    "mylist2[0] = 'Hello'\n",
    "\n",
    "print(mylist1)\n",
    "print(mylist2)"
   ]
  },
  {
   "cell_type": "code",
   "execution_count": null,
   "id": "4820e960",
   "metadata": {},
   "outputs": [],
   "source": [
    "mylist1 = [11,22,33]\n",
    "mylist1.reverse()\n",
    "print(mylist1)"
   ]
  },
  {
   "cell_type": "markdown",
   "id": "d18a9202",
   "metadata": {},
   "source": [
    "# List Sort"
   ]
  },
  {
   "cell_type": "code",
   "execution_count": null,
   "id": "6d6b2cc0",
   "metadata": {},
   "outputs": [],
   "source": [
    "mylist1 = [22,11,77,66,55]\n",
    "mylist1.sort()\n",
    "print(mylist1)"
   ]
  },
  {
   "cell_type": "code",
   "execution_count": null,
   "id": "649fb5b1",
   "metadata": {},
   "outputs": [],
   "source": [
    "mylist1 = [22,11,77,66,55]\n",
    "mylist1.sort(reverse=True)\n",
    "print(mylist1)"
   ]
  },
  {
   "cell_type": "code",
   "execution_count": null,
   "id": "93b1f002",
   "metadata": {},
   "outputs": [],
   "source": [
    "mylist1 = list('python')\n",
    "print(mylist1)\n",
    "mylist1.sort()\n",
    "print(mylist1)"
   ]
  },
  {
   "cell_type": "code",
   "execution_count": null,
   "id": "6ea4df80",
   "metadata": {},
   "outputs": [],
   "source": [
    "mylist1 = [22,11,77,66,55,'hello',[666,777,888], 44]\n",
    "mylist1.sort()\n",
    "print(mylist1)"
   ]
  },
  {
   "cell_type": "code",
   "execution_count": null,
   "id": "5b21ffa7",
   "metadata": {},
   "outputs": [],
   "source": [
    "23 > 'a'"
   ]
  },
  {
   "cell_type": "code",
   "execution_count": null,
   "id": "59449b62",
   "metadata": {},
   "outputs": [],
   "source": [
    "mylist1 = [22,11,77,66,55,'hello',[666,777,888], 44]\n",
    "mylist1.sort()\n",
    "print(mylist1)"
   ]
  },
  {
   "cell_type": "code",
   "execution_count": null,
   "id": "4ca55ed2",
   "metadata": {},
   "outputs": [],
   "source": [
    "isinstance(20,int)"
   ]
  },
  {
   "cell_type": "code",
   "execution_count": null,
   "id": "1847d314",
   "metadata": {},
   "outputs": [],
   "source": [
    "isinstance('hello',int)"
   ]
  },
  {
   "cell_type": "code",
   "execution_count": null,
   "id": "fea418b6",
   "metadata": {},
   "outputs": [],
   "source": [
    "isinstance(20.45,  (int,float)  )"
   ]
  },
  {
   "cell_type": "code",
   "execution_count": null,
   "id": "6b796f28",
   "metadata": {},
   "outputs": [],
   "source": [
    "def keysort(obj):\n",
    "    if isinstance(obj, (int,float) ):\n",
    "        return obj\n",
    "    \n",
    "    if isinstance(obj, (str,list) ):\n",
    "        return len(obj)\n",
    "    \n",
    "    return 1000\n",
    "\n",
    "mylist1 = [2.45,11,77,66,55,'hello',[666,777,888], 44, (666,999)]\n",
    "mylist1.sort(key=keysort)\n",
    "print(mylist1)"
   ]
  },
  {
   "cell_type": "markdown",
   "id": "53211379",
   "metadata": {},
   "source": [
    "# Tuple"
   ]
  },
  {
   "cell_type": "code",
   "execution_count": null,
   "id": "2972f109",
   "metadata": {},
   "outputs": [],
   "source": [
    "mt1 = (1,2,3)\n",
    "print(type(mt1))\n",
    "print(len(mt1))\n",
    "print(mt1)"
   ]
  },
  {
   "cell_type": "code",
   "execution_count": null,
   "id": "fad7a302",
   "metadata": {},
   "outputs": [],
   "source": [
    "mt1 = (111)\n",
    "print(type(mt1))\n",
    "print(mt1)"
   ]
  },
  {
   "cell_type": "code",
   "execution_count": null,
   "id": "8bec1d09",
   "metadata": {},
   "outputs": [],
   "source": [
    "mt1 = (111*4) + (2*3)\n",
    "print(type(mt1))\n",
    "print(mt1)"
   ]
  },
  {
   "cell_type": "code",
   "execution_count": null,
   "id": "b1f373f0",
   "metadata": {},
   "outputs": [],
   "source": [
    "mt1 = (111,)\n",
    "print(type(mt1))\n",
    "print(mt1)"
   ]
  },
  {
   "cell_type": "code",
   "execution_count": null,
   "id": "7d7e71d6",
   "metadata": {},
   "outputs": [],
   "source": [
    "mt1 = tuple([111])\n",
    "print(mt1)"
   ]
  },
  {
   "cell_type": "code",
   "execution_count": null,
   "id": "59b2efeb",
   "metadata": {},
   "outputs": [],
   "source": [
    "mt1 = tuple('python')\n",
    "mt1"
   ]
  },
  {
   "cell_type": "code",
   "execution_count": null,
   "id": "148d979c",
   "metadata": {},
   "outputs": [],
   "source": [
    "print(dir(tuple))"
   ]
  },
  {
   "cell_type": "code",
   "execution_count": null,
   "id": "e074e66f",
   "metadata": {},
   "outputs": [],
   "source": [
    "mt1 = tuple('pythondata')"
   ]
  },
  {
   "cell_type": "code",
   "execution_count": null,
   "id": "f003f26c",
   "metadata": {},
   "outputs": [],
   "source": [
    "mt1.index('a')"
   ]
  },
  {
   "cell_type": "code",
   "execution_count": null,
   "id": "362eafe2",
   "metadata": {},
   "outputs": [],
   "source": [
    "mt1.count('a')"
   ]
  },
  {
   "cell_type": "code",
   "execution_count": null,
   "id": "d7f4954c",
   "metadata": {},
   "outputs": [],
   "source": [
    "mt1 = (11,22,55,44)\n",
    "templist = list(mt1)\n",
    "templist.append(55)\n",
    "mt1 = tuple(templist)\n",
    "print(mt1)"
   ]
  },
  {
   "cell_type": "markdown",
   "id": "d96be7d3",
   "metadata": {},
   "source": [
    "# Dictionary"
   ]
  },
  {
   "cell_type": "code",
   "execution_count": null,
   "id": "d0285662",
   "metadata": {},
   "outputs": [],
   "source": [
    "md1 = {'Bank':'SBI', 'Branch':'MGROAD', 'City':'Delhi', 91:'India'}\n",
    "print(type(md1))\n",
    "print(len(md1))\n",
    "print(md1)"
   ]
  },
  {
   "cell_type": "code",
   "execution_count": null,
   "id": "2c0936e5",
   "metadata": {},
   "outputs": [],
   "source": [
    "md1[0]"
   ]
  },
  {
   "cell_type": "code",
   "execution_count": null,
   "id": "cd82ca07",
   "metadata": {},
   "outputs": [],
   "source": [
    "md1[91]"
   ]
  },
  {
   "cell_type": "code",
   "execution_count": null,
   "id": "f6139cf3",
   "metadata": {},
   "outputs": [],
   "source": [
    "md1['Bank']"
   ]
  },
  {
   "cell_type": "code",
   "execution_count": null,
   "id": "38bc6725",
   "metadata": {},
   "outputs": [],
   "source": [
    "md1['Bank'] = 'Axis'"
   ]
  },
  {
   "cell_type": "code",
   "execution_count": null,
   "id": "0038dbf6",
   "metadata": {},
   "outputs": [],
   "source": [
    "md1"
   ]
  },
  {
   "cell_type": "code",
   "execution_count": null,
   "id": "a5210f97",
   "metadata": {},
   "outputs": [],
   "source": [
    "md1['State']"
   ]
  },
  {
   "cell_type": "code",
   "execution_count": null,
   "id": "43c77c6b",
   "metadata": {},
   "outputs": [],
   "source": [
    "md1['State'] = 'Delhi'"
   ]
  },
  {
   "cell_type": "code",
   "execution_count": null,
   "id": "a00c7afc",
   "metadata": {},
   "outputs": [],
   "source": [
    "md1"
   ]
  },
  {
   "cell_type": "code",
   "execution_count": null,
   "id": "d7ebb4a0",
   "metadata": {},
   "outputs": [],
   "source": [
    "print(md1)"
   ]
  },
  {
   "cell_type": "code",
   "execution_count": null,
   "id": "6eb682ff",
   "metadata": {},
   "outputs": [],
   "source": [
    "md1 = {'Bank':'SBI', \n",
    "       'Branch':'MGROAD', \n",
    "       'City':'Delhi', \n",
    "       'State':'Delhi',\n",
    "      'Bank':'Axis'}\n",
    "\n",
    "print(md1)"
   ]
  },
  {
   "cell_type": "code",
   "execution_count": null,
   "id": "67b25202",
   "metadata": {},
   "outputs": [],
   "source": [
    "del md1['City']"
   ]
  },
  {
   "cell_type": "code",
   "execution_count": null,
   "id": "362857b8",
   "metadata": {},
   "outputs": [],
   "source": [
    "md1"
   ]
  },
  {
   "cell_type": "code",
   "execution_count": null,
   "id": "0bb5228c",
   "metadata": {},
   "outputs": [],
   "source": [
    "hash('PYTHON')"
   ]
  },
  {
   "cell_type": "code",
   "execution_count": null,
   "id": "2f83a54f",
   "metadata": {},
   "outputs": [],
   "source": [
    "hash('python')"
   ]
  },
  {
   "cell_type": "code",
   "execution_count": null,
   "id": "f2e1409f",
   "metadata": {},
   "outputs": [],
   "source": [
    "hash(\"PYTHO\")"
   ]
  },
  {
   "cell_type": "code",
   "execution_count": null,
   "id": "50ee977e",
   "metadata": {},
   "outputs": [],
   "source": [
    "print(dir(dict))"
   ]
  },
  {
   "cell_type": "code",
   "execution_count": null,
   "id": "b5a017f3",
   "metadata": {},
   "outputs": [],
   "source": [
    "md1 = {'Bank':'SBI', 'Branch':'MGROAD', 'City':'Delhi'}\n",
    "print(md1)\n",
    "\n",
    "k = md1.keys()\n",
    "print(k)  ##  list-like\n",
    "print(type(k))\n",
    "\n",
    "keylist = list(k)\n",
    "print(keylist)"
   ]
  },
  {
   "cell_type": "code",
   "execution_count": null,
   "id": "808a425c",
   "metadata": {},
   "outputs": [],
   "source": [
    "k[0]"
   ]
  },
  {
   "cell_type": "code",
   "execution_count": null,
   "id": "93be4e9c",
   "metadata": {},
   "outputs": [],
   "source": [
    "md1 = {'Bank':'SBI', 'Branch':'MGROAD', 'City':'Delhi'}\n",
    "print(md1)\n",
    "\n",
    "v = md1.values()\n",
    "print(v)  ##  list-like\n",
    "print(type(v))\n",
    "\n",
    "valuelist = list(v)\n",
    "print(valuelist)"
   ]
  },
  {
   "cell_type": "code",
   "execution_count": null,
   "id": "ab3c3ac0",
   "metadata": {},
   "outputs": [],
   "source": [
    "md1 = {'Bank':'SBI', 'Branch':'MGROAD', 'City':'Delhi'}\n",
    "print(md1)\n",
    "\n",
    "kv = md1.items()\n",
    "print(kv)  ##  list-like\n",
    "print(type(kv))\n",
    "\n",
    "keyvaluelist = list(kv)\n",
    "print(keyvaluelist)"
   ]
  },
  {
   "cell_type": "code",
   "execution_count": null,
   "id": "015723d5",
   "metadata": {},
   "outputs": [],
   "source": [
    "md1 = {'Bank':'SBI', 'Branch':'MGROAD', 'City':'Delhi'}\n",
    "print(md1)\n",
    "\n",
    "r = md1.get('Branch')\n",
    "print(r)"
   ]
  },
  {
   "cell_type": "code",
   "execution_count": null,
   "id": "d1a2505c",
   "metadata": {},
   "outputs": [],
   "source": [
    "md1 = {'Bank':'SBI', 'Branch':'MGROAD', 'City':'Delhi'}\n",
    "print(md1)\n",
    "\n",
    "r = md1.get('State')\n",
    "print(r)"
   ]
  },
  {
   "cell_type": "code",
   "execution_count": null,
   "id": "756a5bdf",
   "metadata": {},
   "outputs": [],
   "source": [
    "md1 = {'Bank':'SBI', 'Branch':'MGROAD', 'City':'Delhi'}\n",
    "print(md1)\n",
    "\n",
    "r = md1.get('State', 'Unknown')\n",
    "print(r)"
   ]
  },
  {
   "cell_type": "code",
   "execution_count": null,
   "id": "7399280a",
   "metadata": {},
   "outputs": [],
   "source": [
    "md1 = {'Bank':'SBI', 'Branch':'MGROAD', 'City':'Delhi'}\n",
    "print(md1)\n",
    "\n",
    "r = md1.get('Bank', 'Unknown')\n",
    "print(r)\n",
    "\n",
    "r = md1.get('State', 'Unknown')\n",
    "print(r)"
   ]
  },
  {
   "cell_type": "code",
   "execution_count": null,
   "id": "2faa6bab",
   "metadata": {},
   "outputs": [],
   "source": [
    "md1 = {'Bank':'SBI', 'Branch':'MGROAD', 'City':'Delhi'}\n",
    "print(md1)\n",
    "\n",
    "r = md1.pop('Bank')\n",
    "print(r)\n",
    "\n",
    "print(md1)"
   ]
  },
  {
   "cell_type": "code",
   "execution_count": null,
   "id": "f15e7fe6",
   "metadata": {},
   "outputs": [],
   "source": [
    "md1 = {'Bank':'SBI', 'Branch':'MGROAD', 'City':'Delhi'}\n",
    "print(md1)\n",
    "\n",
    "r = md1.pop('State')\n",
    "print(r)\n",
    "\n",
    "print(md1)"
   ]
  },
  {
   "cell_type": "code",
   "execution_count": null,
   "id": "7f3bfc6b",
   "metadata": {},
   "outputs": [],
   "source": [
    "md1 = {'Bank':'SBI', 'Branch':'MGROAD', 'City':'Delhi'}\n",
    "print(md1)\n",
    "\n",
    "r = md1.pop('State', 'Key Not Present')\n",
    "print(r)\n",
    "\n",
    "print(md1)"
   ]
  },
  {
   "cell_type": "code",
   "execution_count": null,
   "id": "cf83b99a",
   "metadata": {},
   "outputs": [],
   "source": [
    "md1 = {'Bank':'SBI', 'Branch':'MGROAD', 'City':'Delhi'}\n",
    "print(md1)\n",
    "\n",
    "r = md1.pop('Bank', 'Key Not Present')\n",
    "print(r)\n",
    "\n",
    "print(md1)"
   ]
  },
  {
   "cell_type": "code",
   "execution_count": null,
   "id": "c89a5627",
   "metadata": {},
   "outputs": [],
   "source": [
    "md1 = {'Bank':'SBI', 'Branch':'MGROAD', 'City':'Delhi'}\n",
    "print(md1)\n",
    "\n",
    "md2 = {'Bank':'Axis', 'State':'Delhi'}\n",
    "print(md2)\n",
    "\n",
    "md1.update(md2)\n",
    "print(md1)"
   ]
  },
  {
   "cell_type": "code",
   "execution_count": null,
   "id": "63f5e38b",
   "metadata": {},
   "outputs": [],
   "source": [
    "md1 = {'Bank':'SBI', 'Branch':'MGROAD', 'City':'Delhi'}\n",
    "print(md1)\n",
    "\n",
    "md1.update([('Bank','ICICI'),('State','Delhi')])\n",
    "print(md1)"
   ]
  },
  {
   "cell_type": "code",
   "execution_count": null,
   "id": "37f013ee",
   "metadata": {},
   "outputs": [],
   "source": [
    "md1 = {'Bank':'SBI', 'Branch':'MGROAD', 'City':'Delhi'}\n",
    "print(md1)\n",
    "\n",
    "r = md1.setdefault('Bank')\n",
    "print(r)\n",
    "\n",
    "print(md1)"
   ]
  },
  {
   "cell_type": "code",
   "execution_count": null,
   "id": "c000e57f",
   "metadata": {},
   "outputs": [],
   "source": [
    "md1 = {'Bank':'SBI', 'Branch':'MGROAD', 'City':'Delhi'}\n",
    "print(md1)\n",
    "\n",
    "r = md1.setdefault('State')\n",
    "print(r)\n",
    "\n",
    "print(md1)"
   ]
  },
  {
   "cell_type": "code",
   "execution_count": null,
   "id": "ab29aa0b",
   "metadata": {},
   "outputs": [],
   "source": [
    "md1 = {'Bank':'SBI', 'Branch':'MGROAD', 'City':'Delhi'}\n",
    "print(md1)\n",
    "\n",
    "r = md1.setdefault('State', 'Delhi')\n",
    "print(r)\n",
    "\n",
    "print(md1)"
   ]
  },
  {
   "cell_type": "code",
   "execution_count": null,
   "id": "38251417",
   "metadata": {},
   "outputs": [],
   "source": [
    "md1 = {'Bank':'SBI', 'Branch':'MGROAD', 'City':'Delhi'}\n",
    "print(md1)\n",
    "\n",
    "r = md1.setdefault('Bank', 'Delhi')\n",
    "print(r)\n",
    "\n",
    "print(md1)"
   ]
  },
  {
   "cell_type": "markdown",
   "id": "031826bc",
   "metadata": {},
   "source": [
    "# 7/Jan/2024"
   ]
  },
  {
   "cell_type": "code",
   "execution_count": null,
   "id": "9c5f48b6",
   "metadata": {},
   "outputs": [],
   "source": [
    "klist = ['Bank','Branch','City']\n",
    "vlist = ['Axis', 'MGROAD', 'Delhi']\n",
    "\n",
    "kvlist = [('Bank','Axis'),('Branch','MGROAD'),('City','Delhi')]\n",
    "md1 = dict(kvlist)\n",
    "md1"
   ]
  },
  {
   "cell_type": "code",
   "execution_count": null,
   "id": "d693b1a1",
   "metadata": {},
   "outputs": [],
   "source": [
    "klist = ['Bank','Branch','City']\n",
    "vlist = ['Axis', 'MGROAD', 'Delhi']\n",
    "\n",
    "z = zip(klist, vlist)\n",
    "print(type(z))\n",
    "print(z)  ##  ITERATOR. One time temporary Read only Consummable\n",
    "\n",
    "kvlist = list(z)\n",
    "print(kvlist)\n",
    "print(list(z))\n",
    "print(list(z))"
   ]
  },
  {
   "cell_type": "code",
   "execution_count": null,
   "id": "8751ac90",
   "metadata": {},
   "outputs": [],
   "source": [
    "klist = ['Bank','Branch','City']\n",
    "vlist = ['Axis', 'MGROAD', 'Delhi']\n",
    "\n",
    "z = zip(klist, vlist)\n",
    "print(type(z))\n",
    "print(z)\n",
    "\n",
    "md1 = dict(z)\n",
    "print(md1)"
   ]
  },
  {
   "cell_type": "code",
   "execution_count": null,
   "id": "57577d4d",
   "metadata": {},
   "outputs": [],
   "source": [
    "klist = ['Bank','Branch','City']\n",
    "vlist = ['Axis', 'MGROAD', 'Delhi']\n",
    "\n",
    "md1 = dict(zip(klist,vlist))\n",
    "print(md1)"
   ]
  },
  {
   "cell_type": "code",
   "execution_count": null,
   "id": "1c7f16b2",
   "metadata": {},
   "outputs": [],
   "source": [
    "m1 = [98,97,96]\n",
    "s1 = [88,87,86]\n",
    "e1 = [78,77,76,75]\n",
    "\n",
    "list(zip(m1,s1,e1))"
   ]
  },
  {
   "cell_type": "code",
   "execution_count": null,
   "id": "dd1e2a83",
   "metadata": {},
   "outputs": [],
   "source": [
    "print(md1)"
   ]
  },
  {
   "cell_type": "markdown",
   "id": "bc91c4f8",
   "metadata": {},
   "source": [
    "# SET"
   ]
  },
  {
   "cell_type": "code",
   "execution_count": null,
   "id": "daf422b8",
   "metadata": {},
   "outputs": [],
   "source": [
    "ms1 = {2,4,6,8,10,2,4}\n",
    "print(type(ms1))\n",
    "print(ms1)\n",
    "print(len(ms1))"
   ]
  },
  {
   "cell_type": "code",
   "execution_count": null,
   "id": "b4f86678",
   "metadata": {},
   "outputs": [],
   "source": [
    "ms1 = {}\n",
    "print(type(ms1))"
   ]
  },
  {
   "cell_type": "code",
   "execution_count": null,
   "id": "af8288b1",
   "metadata": {},
   "outputs": [],
   "source": [
    "ms1 = set()\n",
    "print(type(ms1))"
   ]
  },
  {
   "cell_type": "code",
   "execution_count": null,
   "id": "f520ca79",
   "metadata": {},
   "outputs": [],
   "source": [
    "print(dir(ms1))"
   ]
  },
  {
   "cell_type": "code",
   "execution_count": null,
   "id": "d85a5fa8",
   "metadata": {},
   "outputs": [],
   "source": [
    "ms1.add(20)\n",
    "ms1.add(22)\n",
    "ms1.add(23)\n",
    "\n",
    "ms1"
   ]
  },
  {
   "cell_type": "code",
   "execution_count": null,
   "id": "e695c016",
   "metadata": {},
   "outputs": [],
   "source": [
    "ms1 = set('pythondatascience')\n",
    "ms1"
   ]
  },
  {
   "cell_type": "code",
   "execution_count": null,
   "id": "ea5ca311",
   "metadata": {},
   "outputs": [],
   "source": [
    "ms1 = {2,4,6,'hello'}\n",
    "print(ms1)"
   ]
  },
  {
   "cell_type": "code",
   "execution_count": null,
   "id": "fbda8010",
   "metadata": {},
   "outputs": [],
   "source": [
    "ms1 = set('pythondatascience')\n",
    "print(ms1)\n",
    "r = ms1"
   ]
  },
  {
   "cell_type": "code",
   "execution_count": null,
   "id": "584f5c90",
   "metadata": {},
   "outputs": [],
   "source": [
    "ms1 = set('pythondatascience')\n",
    "print(ms1)\n",
    "ms1[0]"
   ]
  },
  {
   "cell_type": "code",
   "execution_count": null,
   "id": "cbb19e6e",
   "metadata": {},
   "outputs": [],
   "source": [
    "ms1 = set('pythonatascience')\n",
    "print(ms1)\n",
    "ms1.pop()"
   ]
  },
  {
   "cell_type": "code",
   "execution_count": null,
   "id": "175ce52f",
   "metadata": {},
   "outputs": [],
   "source": [
    "ms1 = {'pythondatascience'}\n",
    "print(ms1)\n",
    "ms1.pop()"
   ]
  },
  {
   "cell_type": "code",
   "execution_count": null,
   "id": "24236647",
   "metadata": {},
   "outputs": [],
   "source": [
    "ms1 = {1,3,5,7,9,2,4,6}\n",
    "ms2 = {2,4,6,8,10,12,14}\n",
    "\n",
    "ms1.union(ms2)"
   ]
  },
  {
   "cell_type": "code",
   "execution_count": null,
   "id": "2cbff422",
   "metadata": {},
   "outputs": [],
   "source": [
    "ms1 = {1,3,5,7,9,2,4,6}\n",
    "ms2 = {2,4,6,8,10,12,14}\n",
    "\n",
    "ms1.intersection(ms2)"
   ]
  },
  {
   "cell_type": "code",
   "execution_count": null,
   "id": "36d68e90",
   "metadata": {},
   "outputs": [],
   "source": [
    "ms1-ms2"
   ]
  },
  {
   "cell_type": "code",
   "execution_count": null,
   "id": "b6fc2b6d",
   "metadata": {},
   "outputs": [],
   "source": [
    "ms1 = {1,3,5,7,9,2,4,6}\n",
    "ms2 = {2,4,6,8,10,12,14}\n",
    "ns1 = ms1.symmetric_difference(ms2)\n",
    "print(ns1)\n",
    "print(ms1)\n",
    "print(ms2)"
   ]
  },
  {
   "cell_type": "code",
   "execution_count": null,
   "id": "6510b719",
   "metadata": {},
   "outputs": [],
   "source": [
    "ms1 = {1,3,5,7,9,2,4,6}\n",
    "ms2 = {2,4,6,8,10,12,14}\n",
    "ns1 = ms1.symmetric_difference_update(ms2)\n",
    "print(ns1)\n",
    "print(ms1)\n",
    "print(ms2)"
   ]
  },
  {
   "cell_type": "code",
   "execution_count": null,
   "id": "13397493",
   "metadata": {},
   "outputs": [],
   "source": [
    "ms1 = {1,3,5,7,9,2,4,6}\n",
    "ms2 = {2,4,6,8,10,12,14}\n",
    "print(ms1.difference(ms2))\n",
    "print(ms1-ms2)"
   ]
  },
  {
   "cell_type": "code",
   "execution_count": null,
   "id": "1a2f660d",
   "metadata": {},
   "outputs": [],
   "source": [
    "ms1 = {1,3,5,7,9,2,4,6}\n",
    "ms2 = {2,4,6,8,10,12,14}\n",
    "\n",
    "print(dir(ms1))"
   ]
  },
  {
   "cell_type": "code",
   "execution_count": null,
   "id": "a3aa1678",
   "metadata": {},
   "outputs": [],
   "source": [
    "ms1 = {1,3,5,7,9,2,4,6}\n",
    "ms2 = {2,4,6,8,10,12,14}\n",
    "\n",
    "ms1.update(ms2)"
   ]
  },
  {
   "cell_type": "code",
   "execution_count": null,
   "id": "fb20116e",
   "metadata": {},
   "outputs": [],
   "source": [
    "ms1"
   ]
  },
  {
   "cell_type": "code",
   "execution_count": null,
   "id": "b5815c53",
   "metadata": {},
   "outputs": [],
   "source": [
    "import sys\n",
    "\n",
    "sys.version"
   ]
  },
  {
   "cell_type": "markdown",
   "id": "8fe26095",
   "metadata": {},
   "source": [
    "# Decision Making"
   ]
  },
  {
   "cell_type": "code",
   "execution_count": null,
   "id": "8ccd2911",
   "metadata": {},
   "outputs": [],
   "source": [
    "age = 26\n",
    "\n",
    "if age >= 18:\n",
    "    result = 'Voter'\n",
    "else:\n",
    "    result = 'Invalid_Voter'\n",
    "    \n",
    "print(age,result)"
   ]
  },
  {
   "cell_type": "code",
   "execution_count": null,
   "id": "2374d99c",
   "metadata": {},
   "outputs": [],
   "source": [
    "age = 26\n",
    "\n",
    "result = 'Voter' if age >= 18 else 'Invalid_voter'\n",
    "\n",
    "print(age,result)"
   ]
  },
  {
   "cell_type": "raw",
   "id": "968523e6",
   "metadata": {},
   "source": [
    "def tempCheck(temperature):\n",
    "    if temperature > 99:\n",
    "        return 'Hot'\n",
    "    elif temperature < 60:\n",
    "        return 'Cold'\n",
    "    else:\n",
    "        return 'Right'"
   ]
  },
  {
   "cell_type": "code",
   "execution_count": null,
   "id": "0055985c",
   "metadata": {},
   "outputs": [],
   "source": [
    "def tempCheck1(temperature):\n",
    "    result = 'Hot' if temperature >= 99 else 'Cold' if temperature<=60 else 'Normal'\n",
    "    return result"
   ]
  },
  {
   "cell_type": "code",
   "execution_count": null,
   "id": "d83cb8e5",
   "metadata": {},
   "outputs": [],
   "source": [
    "temperature = 69\n",
    "\n",
    "if temperature >= 99:\n",
    "    result = 'Hot'\n",
    "else:\n",
    "    if temperature <= 60:\n",
    "        result = 'Cold'\n",
    "    else:\n",
    "        result = 'Normal'\n",
    "        \n",
    "print(temperature, result)"
   ]
  },
  {
   "cell_type": "code",
   "execution_count": null,
   "id": "69c81b10",
   "metadata": {},
   "outputs": [],
   "source": [
    "temperature = 9\n",
    "\n",
    "result = 'H' if temperature >= 99 else 'C' if temperature<=60 else 'N'\n",
    "print(temperature, result)"
   ]
  },
  {
   "cell_type": "code",
   "execution_count": null,
   "id": "9f20e305",
   "metadata": {},
   "outputs": [],
   "source": [
    "temperature = 9\n",
    "\n",
    "result = 'Hot' if temperature >= 99 else 'Cold' if temperature<=60 \n",
    "else 'Normal'\n",
    "print(temperature, result)"
   ]
  },
  {
   "cell_type": "markdown",
   "id": "87bf1420",
   "metadata": {},
   "source": [
    "# Range"
   ]
  },
  {
   "cell_type": "code",
   "execution_count": null,
   "id": "542cb56e",
   "metadata": {},
   "outputs": [],
   "source": [
    "r = range(10)\n",
    "print(type(r))\n",
    "print(len(r))\n",
    "print(r)\n",
    "print(list(r))"
   ]
  },
  {
   "cell_type": "code",
   "execution_count": null,
   "id": "041dd2f7",
   "metadata": {},
   "outputs": [],
   "source": [
    "list(range(10))"
   ]
  },
  {
   "cell_type": "code",
   "execution_count": null,
   "id": "2d0e4041",
   "metadata": {},
   "outputs": [],
   "source": [
    "list(range(10,20))"
   ]
  },
  {
   "cell_type": "code",
   "execution_count": null,
   "id": "bfce79a9",
   "metadata": {},
   "outputs": [],
   "source": [
    "list(range(10,20,2))"
   ]
  },
  {
   "cell_type": "code",
   "execution_count": null,
   "id": "a3d879b1",
   "metadata": {},
   "outputs": [],
   "source": [
    "import sys\n",
    "\n",
    "sys.getsizeof(r)"
   ]
  },
  {
   "cell_type": "code",
   "execution_count": null,
   "id": "9c27cc05",
   "metadata": {},
   "outputs": [],
   "source": [
    "r = range(100000000000)\n",
    "sys.getsizeof(r)"
   ]
  },
  {
   "cell_type": "code",
   "execution_count": null,
   "id": "a448eb88",
   "metadata": {},
   "outputs": [],
   "source": [
    "r = range(100)\n",
    "sys.getsizeof(r)"
   ]
  },
  {
   "cell_type": "code",
   "execution_count": null,
   "id": "922be6b6",
   "metadata": {},
   "outputs": [],
   "source": [
    "templist = list(range(10000000))\n",
    "sys.getsizeof(templist)"
   ]
  },
  {
   "cell_type": "code",
   "execution_count": null,
   "id": "2e2653be",
   "metadata": {},
   "outputs": [],
   "source": [
    "r = range(100000000)"
   ]
  },
  {
   "cell_type": "code",
   "execution_count": null,
   "id": "c24d830a",
   "metadata": {},
   "outputs": [],
   "source": [
    "r[0]"
   ]
  },
  {
   "cell_type": "code",
   "execution_count": null,
   "id": "ed12350e",
   "metadata": {},
   "outputs": [],
   "source": [
    "r[-1]"
   ]
  },
  {
   "cell_type": "code",
   "execution_count": null,
   "id": "d83d083c",
   "metadata": {},
   "outputs": [],
   "source": [
    "a = 20"
   ]
  },
  {
   "cell_type": "code",
   "execution_count": null,
   "id": "3d415fd3",
   "metadata": {},
   "outputs": [],
   "source": [
    "sys.getsizeof(a)"
   ]
  },
  {
   "cell_type": "markdown",
   "id": "5c75d823",
   "metadata": {},
   "source": [
    "# Loops"
   ]
  },
  {
   "cell_type": "code",
   "execution_count": null,
   "id": "d6b953f0",
   "metadata": {},
   "outputs": [],
   "source": [
    "lcount = 10\n",
    "\n",
    "while lcount <= 30:\n",
    "    print(lcount, end = ', ')\n",
    "    lcount = lcount + 2\n",
    "    \n",
    "print('Done')"
   ]
  },
  {
   "cell_type": "code",
   "execution_count": null,
   "id": "f38d0469",
   "metadata": {},
   "outputs": [],
   "source": [
    "print(10,20,30,'Hello', sep='__::__')"
   ]
  },
  {
   "cell_type": "code",
   "execution_count": null,
   "id": "bcf376e5",
   "metadata": {},
   "outputs": [],
   "source": [
    "print(10,20,30,'Hello', sep='pds')"
   ]
  },
  {
   "cell_type": "code",
   "execution_count": null,
   "id": "0b26586e",
   "metadata": {},
   "outputs": [],
   "source": [
    "for letter in \"python\":\n",
    "    print(letter)\n",
    "    \n",
    "print('Done')"
   ]
  },
  {
   "cell_type": "code",
   "execution_count": null,
   "id": "23491c45",
   "metadata": {},
   "outputs": [],
   "source": [
    "# for loop exits when STOP_ITERATION is raised."
   ]
  },
  {
   "cell_type": "code",
   "execution_count": null,
   "id": "ae707b85",
   "metadata": {},
   "outputs": [],
   "source": [
    "import keyword\n",
    "print(keyword.kwlist)"
   ]
  },
  {
   "cell_type": "code",
   "execution_count": null,
   "id": "9999d0ee",
   "metadata": {},
   "outputs": [],
   "source": [
    "print(10)\n",
    "raise(ValueError('I raise an Exception'))\n",
    "print(20)"
   ]
  },
  {
   "cell_type": "code",
   "execution_count": null,
   "id": "c445fb23",
   "metadata": {},
   "outputs": [],
   "source": [
    "for i in range(10):\n",
    "    print(i, end=', ')"
   ]
  },
  {
   "cell_type": "code",
   "execution_count": null,
   "id": "2a1dfdc9",
   "metadata": {},
   "outputs": [],
   "source": [
    "for i in range(10):\n",
    "    \n",
    "    if i%2 == 0:        \n",
    "        print(i, end=', ')"
   ]
  },
  {
   "cell_type": "code",
   "execution_count": null,
   "id": "d51cf2de",
   "metadata": {},
   "outputs": [],
   "source": [
    "for char in \"pythondataSCIENCE\":\n",
    "    if char in \"aeiouAEIOU\":\n",
    "        print(char, end=' ')"
   ]
  },
  {
   "cell_type": "code",
   "execution_count": null,
   "id": "93153dfc",
   "metadata": {},
   "outputs": [],
   "source": [
    "md1 = {'Bank':'SBI', 'Branch':'MGROAD', 'City':'Delhi'}\n",
    "\n",
    "for k in md1:\n",
    "    print(k, md1[k])"
   ]
  },
  {
   "cell_type": "code",
   "execution_count": null,
   "id": "9068c260",
   "metadata": {},
   "outputs": [],
   "source": [
    "md1 = {'Bank':'SBI', 'Branch':'MGROAD', 'City':'Delhi'}\n",
    "\n",
    "for k in md1.keys():\n",
    "    print(k)"
   ]
  },
  {
   "cell_type": "code",
   "execution_count": null,
   "id": "3edb03f1",
   "metadata": {},
   "outputs": [],
   "source": [
    "md1 = {'Bank':'SBI', 'Branch':'MGROAD', 'City':'Delhi'}\n",
    "\n",
    "for v in md1.values():\n",
    "    print(v)"
   ]
  },
  {
   "cell_type": "code",
   "execution_count": null,
   "id": "b84afd0f",
   "metadata": {},
   "outputs": [],
   "source": [
    "md1 = {'Bank':'SBI', 'Branch':'MGROAD', 'City':'Delhi'}\n",
    "\n",
    "for kv in md1.items():\n",
    "    print(kv)"
   ]
  },
  {
   "cell_type": "code",
   "execution_count": null,
   "id": "4ec4350d",
   "metadata": {},
   "outputs": [],
   "source": [
    "md1 = {'Bank':'SBI', 'Branch':'MGROAD', 'City':'Delhi'}\n",
    "\n",
    "for k, v in md1.items():\n",
    "    print(k, v)"
   ]
  },
  {
   "cell_type": "code",
   "execution_count": null,
   "id": "843d0e2a",
   "metadata": {},
   "outputs": [],
   "source": [
    "a,b = 10,20\n",
    "print(a,b)"
   ]
  },
  {
   "cell_type": "code",
   "execution_count": null,
   "id": "80b7652b",
   "metadata": {},
   "outputs": [],
   "source": [
    "a = 10,20,30,40,50  ##  packing into a tuple\n",
    "print(a)"
   ]
  },
  {
   "cell_type": "code",
   "execution_count": null,
   "id": "fa9a6f49",
   "metadata": {},
   "outputs": [],
   "source": [
    "a,b = 10,20,30,40,50"
   ]
  },
  {
   "cell_type": "code",
   "execution_count": null,
   "id": "a7835ada",
   "metadata": {},
   "outputs": [],
   "source": [
    "a = (10,20)\n",
    "print(a)"
   ]
  },
  {
   "cell_type": "code",
   "execution_count": null,
   "id": "bc8a3403",
   "metadata": {},
   "outputs": [],
   "source": [
    "a,b = (10,20)   ## unpacking\n",
    "print(a,b)"
   ]
  },
  {
   "cell_type": "code",
   "execution_count": null,
   "id": "478cce85",
   "metadata": {},
   "outputs": [],
   "source": [
    "a,b = (10,20,30,40)"
   ]
  },
  {
   "cell_type": "code",
   "execution_count": null,
   "id": "2697cfb8",
   "metadata": {},
   "outputs": [],
   "source": [
    "a,b,c,d = (10,20,30,40)\n",
    "print(a,b,c,d)"
   ]
  },
  {
   "cell_type": "code",
   "execution_count": null,
   "id": "ffd51a47",
   "metadata": {},
   "outputs": [],
   "source": [
    "md1 = {'Bank':'SBI', 'Branch':'MGROAD', 'City':'Delhi'}\n",
    "\n",
    "for k, v in md1.items():  ##  on the fly unpacking of tuple into k and v\n",
    "    print(k, v)"
   ]
  },
  {
   "cell_type": "code",
   "execution_count": null,
   "id": "094f0f7b",
   "metadata": {},
   "outputs": [],
   "source": [
    "a,b,c,d = [10,20,30,40]\n",
    "print(a,b,c,d)"
   ]
  },
  {
   "cell_type": "code",
   "execution_count": null,
   "id": "1d234d4b",
   "metadata": {},
   "outputs": [],
   "source": [
    "for letter in 'python':\n",
    "    if letter == 'h':\n",
    "        break\n",
    "    print(letter)"
   ]
  },
  {
   "cell_type": "code",
   "execution_count": null,
   "id": "9f1ce783",
   "metadata": {},
   "outputs": [],
   "source": [
    "for letter in 'python':\n",
    "    if letter == 'h':\n",
    "        continue\n",
    "    print(letter)"
   ]
  },
  {
   "cell_type": "code",
   "execution_count": null,
   "id": "f7ddea4a",
   "metadata": {},
   "outputs": [],
   "source": [
    "##  While loop based break and continue."
   ]
  },
  {
   "cell_type": "code",
   "execution_count": null,
   "id": "1648a1a0",
   "metadata": {},
   "outputs": [],
   "source": [
    "ms1 = 'python'\n",
    "e = enumerate(ms1)\n",
    "print(type(e))\n",
    "print(e)\n",
    "print(list(e))\n",
    "print(list(e))"
   ]
  },
  {
   "cell_type": "code",
   "execution_count": null,
   "id": "18dc30a8",
   "metadata": {},
   "outputs": [],
   "source": [
    "for index, value in enumerate('python'):\n",
    "    print(index, value)"
   ]
  },
  {
   "cell_type": "code",
   "execution_count": null,
   "id": "2810cd74",
   "metadata": {},
   "outputs": [],
   "source": [
    "ms1 = 'pythondatascience'\n",
    "\n",
    "for index,value in enumerate(ms1):\n",
    "    if value in \"aeiouAEIOU\":\n",
    "        print(index, value)"
   ]
  },
  {
   "cell_type": "code",
   "execution_count": null,
   "id": "bc1fdd7e",
   "metadata": {},
   "outputs": [],
   "source": [
    "ms1 = 'pythondatascienceexam'\n",
    "\n",
    "def find_all_indices(input_str, input_char):\n",
    "    list_of_indices = []\n",
    "    \n",
    "    for index,value in enumerate(input_str):\n",
    "        if value == input_char:\n",
    "            #print(index, value)\n",
    "            temp_tuple = (index, value)\n",
    "            list_of_indices.append(temp_tuple)\n",
    "    return list_of_indices\n",
    "\n",
    "print(find_all_indices(ms1,'e'))       "
   ]
  },
  {
   "cell_type": "code",
   "execution_count": null,
   "id": "462df8c9",
   "metadata": {},
   "outputs": [],
   "source": [
    "ms1 = 'pythondatascienceexam'\n",
    "\n",
    "def find_all_indices_of_vowels(input_str):\n",
    "    list_of_indices = []\n",
    "    \n",
    "    for index,value in enumerate(input_str):\n",
    "        if value in \"aeiouAEIOU\":\n",
    "            #print(index, value)\n",
    "            temp_tuple = (index, value)\n",
    "            list_of_indices.append(temp_tuple)\n",
    "    return list_of_indices\n",
    "\n",
    "print(find_all_indices_of_vowels(ms1))   "
   ]
  },
  {
   "cell_type": "markdown",
   "id": "7e084055",
   "metadata": {},
   "source": [
    "# Function"
   ]
  },
  {
   "cell_type": "code",
   "execution_count": null,
   "id": "9f22e029",
   "metadata": {},
   "outputs": [],
   "source": [
    "def mf1(r0,r1):\n",
    "    print(r0,r1)"
   ]
  },
  {
   "cell_type": "code",
   "execution_count": null,
   "id": "50b888e9",
   "metadata": {},
   "outputs": [],
   "source": [
    "mf1()"
   ]
  },
  {
   "cell_type": "code",
   "execution_count": null,
   "id": "cd724f4f",
   "metadata": {},
   "outputs": [],
   "source": [
    "mf1(10)"
   ]
  },
  {
   "cell_type": "code",
   "execution_count": null,
   "id": "04bc742f",
   "metadata": {},
   "outputs": [],
   "source": [
    "mf1(10,20)"
   ]
  },
  {
   "cell_type": "code",
   "execution_count": null,
   "id": "36dba0e1",
   "metadata": {},
   "outputs": [],
   "source": [
    "mf1(10,20,30)"
   ]
  },
  {
   "cell_type": "code",
   "execution_count": null,
   "id": "1913a170",
   "metadata": {},
   "outputs": [],
   "source": [
    "def mf2(r0,d0=100):\n",
    "    print(r0,d0)"
   ]
  },
  {
   "cell_type": "code",
   "execution_count": null,
   "id": "7a22c281",
   "metadata": {},
   "outputs": [],
   "source": [
    "mf2()"
   ]
  },
  {
   "cell_type": "code",
   "execution_count": null,
   "id": "0f3d1db8",
   "metadata": {},
   "outputs": [],
   "source": [
    "mf2(200)"
   ]
  },
  {
   "cell_type": "code",
   "execution_count": null,
   "id": "04bef473",
   "metadata": {},
   "outputs": [],
   "source": [
    "mf2(200,300)"
   ]
  },
  {
   "cell_type": "code",
   "execution_count": null,
   "id": "d02d1136",
   "metadata": {},
   "outputs": [],
   "source": [
    "def mf3(d0=100, r0):\n",
    "    print(r0,d0)"
   ]
  },
  {
   "cell_type": "code",
   "execution_count": null,
   "id": "c78449db",
   "metadata": {},
   "outputs": [],
   "source": [
    "#RULE_1: While defining a function, required_parmeters must be \n",
    "# specified before default_parameters"
   ]
  },
  {
   "cell_type": "code",
   "execution_count": null,
   "id": "1dcfa53b",
   "metadata": {},
   "outputs": [],
   "source": [
    "def mf4(r0,r1):\n",
    "    print(r0,r1)"
   ]
  },
  {
   "cell_type": "code",
   "execution_count": null,
   "id": "f62d37e3",
   "metadata": {},
   "outputs": [],
   "source": [
    "mf4(10,20)"
   ]
  },
  {
   "cell_type": "code",
   "execution_count": null,
   "id": "059e3143",
   "metadata": {},
   "outputs": [],
   "source": [
    "mf4(r1=100, r0=200)"
   ]
  },
  {
   "cell_type": "code",
   "execution_count": null,
   "id": "1b783a72",
   "metadata": {},
   "outputs": [],
   "source": [
    "mf4(10,r1=300)"
   ]
  },
  {
   "cell_type": "code",
   "execution_count": null,
   "id": "9fd0241f",
   "metadata": {},
   "outputs": [],
   "source": [
    "mf4(r0=100, 300)"
   ]
  },
  {
   "cell_type": "code",
   "execution_count": null,
   "id": "eb1b689a",
   "metadata": {},
   "outputs": [],
   "source": [
    "##RULE_2: While calling a function, positionally mapped values must be \n",
    "## passed before parameter-keyword mapping based values"
   ]
  },
  {
   "cell_type": "code",
   "execution_count": null,
   "id": "a8571bbb",
   "metadata": {},
   "outputs": [],
   "source": [
    "mf4(10,20,r0=300)"
   ]
  },
  {
   "cell_type": "code",
   "execution_count": null,
   "id": "46449e36",
   "metadata": {},
   "outputs": [],
   "source": [
    "mf4(r0=10-1, r1=20)"
   ]
  },
  {
   "cell_type": "code",
   "execution_count": null,
   "id": "3ad5a1e4",
   "metadata": {},
   "outputs": [],
   "source": [
    "mf4(100,)"
   ]
  },
  {
   "cell_type": "code",
   "execution_count": null,
   "id": "e53719f5",
   "metadata": {},
   "outputs": [],
   "source": [
    "def mf5(args):\n",
    "    print(args)\n",
    "    print(type(args))"
   ]
  },
  {
   "cell_type": "code",
   "execution_count": null,
   "id": "3e8c8a46",
   "metadata": {},
   "outputs": [],
   "source": [
    "mf5(10)"
   ]
  },
  {
   "cell_type": "code",
   "execution_count": null,
   "id": "45c4bc8e",
   "metadata": {},
   "outputs": [],
   "source": [
    "mf5(10,20,30)"
   ]
  },
  {
   "cell_type": "code",
   "execution_count": null,
   "id": "4243ecb8",
   "metadata": {},
   "outputs": [],
   "source": [
    "def mf6(*args):\n",
    "    print(args)\n",
    "    print(type(args))"
   ]
  },
  {
   "cell_type": "code",
   "execution_count": null,
   "id": "e5da1a9e",
   "metadata": {},
   "outputs": [],
   "source": [
    "mf6(10)"
   ]
  },
  {
   "cell_type": "code",
   "execution_count": null,
   "id": "fbacc7b8",
   "metadata": {},
   "outputs": [],
   "source": [
    "mf6(10,20,'Hello',30)"
   ]
  },
  {
   "cell_type": "code",
   "execution_count": null,
   "id": "8c45ab8d",
   "metadata": {},
   "outputs": [],
   "source": [
    "def mf7(r0,r1,*args):  ##  variable tuple container\n",
    "    print(\"r0\", r0)\n",
    "    print(\"r1\", r1)\n",
    "    print(\"args\", args)"
   ]
  },
  {
   "cell_type": "code",
   "execution_count": null,
   "id": "2a670c4f",
   "metadata": {},
   "outputs": [],
   "source": [
    "mf7(10,20,30,40,50)"
   ]
  },
  {
   "cell_type": "code",
   "execution_count": null,
   "id": "a9ca6ebf",
   "metadata": {},
   "outputs": [],
   "source": [
    "def mf8(*args, r0,r1):\n",
    "    print(\"r0\", r0)\n",
    "    print(\"r1\", r1)\n",
    "    print(\"args\", args)"
   ]
  },
  {
   "cell_type": "code",
   "execution_count": null,
   "id": "c47d4344",
   "metadata": {},
   "outputs": [],
   "source": [
    "mf8(10,20,30,40,50)"
   ]
  },
  {
   "cell_type": "code",
   "execution_count": null,
   "id": "6ce0ac6b",
   "metadata": {},
   "outputs": [],
   "source": [
    "mf8(10,20,30,40,50,r1='Hello',r0=999)"
   ]
  },
  {
   "cell_type": "code",
   "execution_count": null,
   "id": "ff71b442",
   "metadata": {},
   "outputs": [],
   "source": [
    "def mf9(r0,r1,**kwargs):   ##  variable dict container\n",
    "    print(\"r0\", r0)\n",
    "    print(\"r1\", r1)\n",
    "    print(\"kwargs\", kwargs)"
   ]
  },
  {
   "cell_type": "code",
   "execution_count": null,
   "id": "0014a977",
   "metadata": {},
   "outputs": [],
   "source": [
    "mf9(10,20)"
   ]
  },
  {
   "cell_type": "code",
   "execution_count": null,
   "id": "e76d7b44",
   "metadata": {},
   "outputs": [],
   "source": [
    "mf9(10,20,30)"
   ]
  },
  {
   "cell_type": "code",
   "execution_count": null,
   "id": "bf0f6b2e",
   "metadata": {},
   "outputs": [],
   "source": [
    "mf9(10,20,a=30,b=40)"
   ]
  },
  {
   "cell_type": "code",
   "execution_count": null,
   "id": "760d5d91",
   "metadata": {},
   "outputs": [],
   "source": [
    "def mf10(r0,r1,d0=100,**kwargs):   ##  variable dict container\n",
    "    print(\"r0\", r0)\n",
    "    print(\"r1\", r1)\n",
    "    print(\"d0\", d0)\n",
    "    print(\"kwargs\", kwargs)"
   ]
  },
  {
   "cell_type": "code",
   "execution_count": null,
   "id": "78a69eed",
   "metadata": {},
   "outputs": [],
   "source": [
    "mf10(10,20,d0=30,d1=40)"
   ]
  },
  {
   "cell_type": "code",
   "execution_count": null,
   "id": "2f3b8df4",
   "metadata": {},
   "outputs": [],
   "source": [
    "def mf11(r0,r1,d0=100): \n",
    "    print(\"r0\", r0)\n",
    "    print(\"r1\", r1)\n",
    "    print(\"d0\", d0)"
   ]
  },
  {
   "cell_type": "code",
   "execution_count": null,
   "id": "b3583d66",
   "metadata": {},
   "outputs": [],
   "source": [
    "mf11(10,20,d0=30,d1=40)"
   ]
  },
  {
   "cell_type": "code",
   "execution_count": null,
   "id": "e0d40c04",
   "metadata": {},
   "outputs": [],
   "source": [
    "def mf12(r0,r1,*args, d0=111, d1=222, **kwargs):  ## IDEAL Signature\n",
    "    print(\"r0\", r0)\n",
    "    print(\"r1\", r1)\n",
    "    print(\"args\", args)\n",
    "    print(\"d0\", d0)\n",
    "    print(\"d1\", d1)\n",
    "    print(\"kwargs\", kwargs)"
   ]
  },
  {
   "cell_type": "code",
   "execution_count": null,
   "id": "11b9ff22",
   "metadata": {},
   "outputs": [],
   "source": [
    "mf12(10,20,30,40,50,d1=333,d2=555,d3=666, d4='hello')"
   ]
  },
  {
   "cell_type": "code",
   "execution_count": null,
   "id": "ba879eae",
   "metadata": {},
   "outputs": [],
   "source": [
    "d2=1000\n",
    "mf12(10,20,30,40,50,(d2,),[555,'hello'],d1=333,d3=666, d4='hello')"
   ]
  },
  {
   "cell_type": "code",
   "execution_count": null,
   "id": "57f7deac",
   "metadata": {},
   "outputs": [],
   "source": [
    "def mf13(r0,r1,d0=111, d1=222,*args,  **kwargs):\n",
    "    print(\"r0\", r0)\n",
    "    print(\"r1\", r1)\n",
    "    print(\"args\", args)\n",
    "    print(\"d0\", d0)\n",
    "    print(\"d1\", d1)\n",
    "    print(\"kwargs\", kwargs)"
   ]
  },
  {
   "cell_type": "code",
   "execution_count": null,
   "id": "e6a765ce",
   "metadata": {},
   "outputs": [],
   "source": [
    "mf13(10,20,30,40,50,'Hello',d2=555,d3=666)"
   ]
  },
  {
   "cell_type": "code",
   "execution_count": null,
   "id": "d67ad02f",
   "metadata": {},
   "outputs": [],
   "source": [
    "mf13(10,20,30,40,50,'Hello',d2=555,d3=666, kwargs={'a':20, 'b':30} )"
   ]
  },
  {
   "cell_type": "code",
   "execution_count": null,
   "id": "4ce73fa0",
   "metadata": {},
   "outputs": [],
   "source": [
    "## RULE_3: A Variable Tuple container, can be populated only\n",
    "# by passing values in positonal style"
   ]
  },
  {
   "cell_type": "code",
   "execution_count": null,
   "id": "e690f752",
   "metadata": {},
   "outputs": [],
   "source": [
    "## RULE_4: If the function has a variable dict, \n",
    "## it must be specified only in the end.\n",
    "## A Variable dict can be populated only in parameter-keyword style"
   ]
  },
  {
   "cell_type": "markdown",
   "id": "6f7754c8",
   "metadata": {},
   "source": [
    "# LAMBDA"
   ]
  },
  {
   "cell_type": "code",
   "execution_count": null,
   "id": "baab1dec",
   "metadata": {},
   "outputs": [],
   "source": [
    "def isEven1(num):\n",
    "    return num%2 == 0\n",
    "\n",
    "print(isEven1(20))\n",
    "print(isEven1(23))"
   ]
  },
  {
   "cell_type": "code",
   "execution_count": null,
   "id": "5ed85c46",
   "metadata": {},
   "outputs": [],
   "source": [
    "print(type(isEven1))"
   ]
  },
  {
   "cell_type": "code",
   "execution_count": null,
   "id": "a53a7f00",
   "metadata": {},
   "outputs": [],
   "source": [
    "isEven2 = lambda num : (num%2) == 0\n",
    "\n",
    "print(isEven2(20))\n",
    "print(isEven2(23))"
   ]
  },
  {
   "cell_type": "code",
   "execution_count": null,
   "id": "9f4b5716",
   "metadata": {},
   "outputs": [],
   "source": [
    "isOdd2 = lambda num : (num%2) != 0\n",
    "\n",
    "print(isOdd2(20))\n",
    "print(isOdd2(23))"
   ]
  },
  {
   "cell_type": "code",
   "execution_count": null,
   "id": "3d137bb0",
   "metadata": {},
   "outputs": [],
   "source": [
    "def isEvenOdd1(num):\n",
    "    if num%2 == 0:\n",
    "        result = 'Even'\n",
    "    else:\n",
    "        result = 'Odd'\n",
    "        \n",
    "    return result\n",
    "\n",
    "print(isEvenOdd1(20))\n",
    "print(isEvenOdd1(23))"
   ]
  },
  {
   "cell_type": "code",
   "execution_count": null,
   "id": "02e79536",
   "metadata": {},
   "outputs": [],
   "source": [
    "isEvenOdd2 = lambda num: 'Even' if num%2 == 0 else 'Odd'\n",
    "\n",
    "print(isEvenOdd2(20))\n",
    "print(isEvenOdd2(23))"
   ]
  },
  {
   "cell_type": "code",
   "execution_count": null,
   "id": "03043f67",
   "metadata": {},
   "outputs": [],
   "source": [
    "meadd = lambda m,e: m+e\n",
    "meadd(e=100,m=90)"
   ]
  },
  {
   "cell_type": "code",
   "execution_count": null,
   "id": "2583cc06",
   "metadata": {},
   "outputs": [],
   "source": [
    "print(type(isEvenOdd2))"
   ]
  },
  {
   "cell_type": "code",
   "execution_count": null,
   "id": "b98e0c55",
   "metadata": {},
   "outputs": [],
   "source": [
    "tempCheck2 = lambda t1: 'Hot' if t1>99 else 'Cold' if t1<60 else 'Normal'\n",
    "\n",
    "print(tempCheck2(999))\n",
    "print(tempCheck2(89))\n",
    "print(tempCheck2(59))"
   ]
  },
  {
   "cell_type": "code",
   "execution_count": null,
   "id": "309bcde4",
   "metadata": {},
   "outputs": [],
   "source": [
    "kmlist = [1,2,3,4,5]\n",
    "\n",
    "km2m = lambda km: km*1000\n",
    "\n",
    "km2m(5)"
   ]
  },
  {
   "cell_type": "code",
   "execution_count": null,
   "id": "0ddd4ff5",
   "metadata": {},
   "outputs": [],
   "source": [
    "kmlist = [1,2,3,4,5]\n",
    "\n",
    "km2m = lambda km: km*1000\n",
    "\n",
    "m = map(km2m, kmlist)\n",
    "print(type(m))\n",
    "print(m)\n",
    "print(list(m))\n",
    "print(list(m))\n",
    "print(list(m))\n",
    "\n",
    "print(km2m(20))"
   ]
  },
  {
   "cell_type": "code",
   "execution_count": null,
   "id": "98367c44",
   "metadata": {},
   "outputs": [],
   "source": [
    "m = map(lambda m: m*100 ,  [1,2,3,4,5])\n",
    "print(type(m))\n",
    "print(m)\n",
    "print(list(m))"
   ]
  },
  {
   "cell_type": "code",
   "execution_count": null,
   "id": "b686d201",
   "metadata": {},
   "outputs": [],
   "source": [
    "mmarks = [98,97,96]\n",
    "emarks = [88,87,86,85]\n",
    "\n",
    "tmarks = list(map(lambda m,e: m+e, mmarks, emarks))\n",
    "tmarks"
   ]
  },
  {
   "cell_type": "markdown",
   "id": "c4613500",
   "metadata": {},
   "source": [
    "# NameSpace"
   ]
  },
  {
   "cell_type": "code",
   "execution_count": null,
   "id": "948866a1",
   "metadata": {},
   "outputs": [],
   "source": [
    "g1 = 111\n",
    "g2 = 222\n",
    "\n",
    "def mf22(v3):\n",
    "    global g1\n",
    "    global g3\n",
    "    \n",
    "    v4 = 444\n",
    "    g1 = 999\n",
    "    g3 = 888\n",
    "    \n",
    "    local_name_space = locals()\n",
    "    print(local_name_space)\n",
    "    print(2, g1,g2,g3, v3,v4)\n",
    "    \n",
    "print(1, g1,g2)\n",
    "mf22(333)\n",
    "print(3, g1,g2,g3)"
   ]
  },
  {
   "cell_type": "code",
   "execution_count": null,
   "id": "087fd662",
   "metadata": {},
   "outputs": [],
   "source": [
    "g1 = 111\n",
    "g2 = 222\n",
    "\n",
    "def mf23(g4):\n",
    "    global g1\n",
    "    global g3\n",
    "    global g4 #error\n",
    "    \n",
    "    v4 = 444\n",
    "    g1 = 999\n",
    "    g3 = 888\n",
    "    \n",
    "    local_name_space = locals()\n",
    "    print(local_name_space)\n",
    "    print(2, g1,g2,g3, g4,v4)\n",
    "    \n",
    "print(1, g1,g2)\n",
    "mf23(333)\n",
    "print(3, g1,g2,g3)"
   ]
  },
  {
   "cell_type": "markdown",
   "id": "87b16894",
   "metadata": {},
   "source": [
    "# Recursion"
   ]
  },
  {
   "cell_type": "code",
   "execution_count": null,
   "id": "7ace22b4",
   "metadata": {},
   "outputs": [],
   "source": [
    "def fact(n):\n",
    "    if n == 0:\n",
    "        return 1  #  Base Case\n",
    "    \n",
    "    return n * fact(n-1)\n",
    "\n",
    "print(fact(5))\n",
    "print(fact(6))"
   ]
  },
  {
   "cell_type": "code",
   "execution_count": null,
   "id": "9378039b",
   "metadata": {},
   "outputs": [],
   "source": [
    "fact1 = lambda n : 1 if n==0 else (n * fact1(n-1))\n",
    "print(fact1(5))\n",
    "print(fact1(6))"
   ]
  },
  {
   "cell_type": "code",
   "execution_count": null,
   "id": "f6042a2a",
   "metadata": {},
   "outputs": [],
   "source": [
    "def fib(n):\n",
    "    if n <= 1:\n",
    "        return n\n",
    "    \n",
    "    return fib(n-1) + fib(n-2)"
   ]
  },
  {
   "cell_type": "code",
   "execution_count": null,
   "id": "25309062",
   "metadata": {},
   "outputs": [],
   "source": [
    "for i in range(10):\n",
    "    print(fib(i), end = ' ')"
   ]
  },
  {
   "cell_type": "code",
   "execution_count": null,
   "id": "23efa918",
   "metadata": {},
   "outputs": [],
   "source": [
    "fib2 = lambda n: n if n<=1 else (fib2(n-1)+fib2(n-2))\n",
    "for i in range(10):\n",
    "    print(fib2(i), end = ' ')"
   ]
  },
  {
   "cell_type": "markdown",
   "id": "e01131d4",
   "metadata": {},
   "source": [
    "# List Comprehension"
   ]
  },
  {
   "cell_type": "code",
   "execution_count": null,
   "id": "6eaa346c",
   "metadata": {},
   "outputs": [],
   "source": [
    "sqlist1 = []\n",
    "\n",
    "for num in range(1,6):\n",
    "    result = num ** 2\n",
    "    sqlist1.append(result)\n",
    "    \n",
    "print(sqlist1)"
   ]
  },
  {
   "cell_type": "code",
   "execution_count": null,
   "id": "cabbe88d",
   "metadata": {},
   "outputs": [],
   "source": [
    "sqlist2 = [ num**2    for num in range(1,6)  ]\n",
    "print(sqlist2)"
   ]
  },
  {
   "cell_type": "code",
   "execution_count": null,
   "id": "194fee68",
   "metadata": {},
   "outputs": [],
   "source": [
    "evsqlist1 = []\n",
    "\n",
    "for num in range(1,10):\n",
    "    if num%2 == 0:\n",
    "        result = num ** 2\n",
    "        evsqlist1.append(result)\n",
    "    \n",
    "print(evsqlist1)"
   ]
  },
  {
   "cell_type": "code",
   "execution_count": null,
   "id": "551f2420",
   "metadata": {},
   "outputs": [],
   "source": [
    "evsqlist2 = [num ** 2  for num in range(1,10)   if num%2 == 0  ]\n",
    "print(evsqlist2)"
   ]
  },
  {
   "cell_type": "code",
   "execution_count": null,
   "id": "e574d08f",
   "metadata": {},
   "outputs": [],
   "source": [
    "eo3list1 = []\n",
    "\n",
    "for i in range(1,30):\n",
    "    if i%3 == 0:\n",
    "        if i%2 == 0:\n",
    "            result = (i,'Even')\n",
    "        else:\n",
    "            result = (i,'Odd')\n",
    "        \n",
    "        eo3list1.append(result)\n",
    "        \n",
    "print(eo3list1)"
   ]
  },
  {
   "cell_type": "code",
   "execution_count": null,
   "id": "c14c8cb6",
   "metadata": {},
   "outputs": [],
   "source": [
    "eo3list2 = [(i,'Even') if i%2==0 else (i,'Odd')  \n",
    "            for i in range(1,30) \n",
    "            if i%3 == 0]\n",
    "print(eo3list2)"
   ]
  },
  {
   "cell_type": "code",
   "execution_count": null,
   "id": "679da059",
   "metadata": {},
   "outputs": [],
   "source": [
    "eo3list3 = [ (i,'Even' if i%2==0 else 'Odd')  \n",
    "            for i in range(1,50) \n",
    "            if i%5 == 0 if i%3==0]\n",
    "print(eo3list3)"
   ]
  },
  {
   "cell_type": "raw",
   "id": "551b7ae9",
   "metadata": {},
   "source": [
    "Grammer # 1\n",
    "\n",
    "final_list = [ <2.result_expression>      <1.for loop> ]\n",
    "control_flow:  1,2  1,2  1ends\n",
    "\n",
    "\n",
    "Grammer # 2\n",
    "\n",
    "final_list = [ <3.result_expression>    <1.for loop> <2. Gating_Condition>]\n",
    "control_flow:  1,2t,3  1,2f  1,2t,3   1ends"
   ]
  },
  {
   "cell_type": "code",
   "execution_count": null,
   "id": "6f733308",
   "metadata": {},
   "outputs": [],
   "source": [
    "##  DIY: Dict and Set comprehension"
   ]
  },
  {
   "cell_type": "code",
   "execution_count": null,
   "id": "100e4cae",
   "metadata": {},
   "outputs": [],
   "source": [
    "list1 = ['a','b','c']\n",
    "list2 = [1,2,3]\n",
    "\n",
    "clist1 = []\n",
    "\n",
    "for i in list1:\n",
    "    for j in list2:\n",
    "        result = (i,j)\n",
    "        clist1.append(result)\n",
    "        \n",
    "print(clist1)"
   ]
  },
  {
   "cell_type": "code",
   "execution_count": null,
   "id": "b4999a7a",
   "metadata": {},
   "outputs": [],
   "source": [
    "list1 = ['a','b','c']\n",
    "list2 = [1,2,3]\n",
    "clist2 = [ (i,j) for i in list1   for j in list2]\n",
    "print(clist2)"
   ]
  },
  {
   "cell_type": "code",
   "execution_count": null,
   "id": "557d9ae5",
   "metadata": {},
   "outputs": [],
   "source": [
    "fib2 = lambda n: n if n<=1 else (fib2(n-1)+fib2(n-2))\n",
    "fib20list = [fib2(i) for i in range(20)]\n",
    "print(fib20list)"
   ]
  },
  {
   "cell_type": "code",
   "execution_count": null,
   "id": "c532b81e",
   "metadata": {},
   "outputs": [],
   "source": []
  }
 ],
 "metadata": {
  "kernelspec": {
   "display_name": "Python 3 (ipykernel)",
   "language": "python",
   "name": "python3"
  },
  "language_info": {
   "codemirror_mode": {
    "name": "ipython",
    "version": 3
   },
   "file_extension": ".py",
   "mimetype": "text/x-python",
   "name": "python",
   "nbconvert_exporter": "python",
   "pygments_lexer": "ipython3",
   "version": "3.11.5"
  }
 },
 "nbformat": 4,
 "nbformat_minor": 5
}
