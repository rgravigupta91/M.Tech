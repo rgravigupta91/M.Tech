{
 "cells": [
  {
   "cell_type": "markdown",
   "id": "31c27995",
   "metadata": {},
   "source": [
    "# NUMPY"
   ]
  },
  {
   "cell_type": "markdown",
   "id": "1749c846",
   "metadata": {},
   "source": [
    "# 7/Jan/2024"
   ]
  },
  {
   "cell_type": "code",
   "execution_count": null,
   "id": "b009d587",
   "metadata": {},
   "outputs": [],
   "source": [
    "import numpy as np"
   ]
  },
  {
   "cell_type": "markdown",
   "id": "c7efdab1",
   "metadata": {},
   "source": [
    "# Array Creation"
   ]
  },
  {
   "cell_type": "code",
   "execution_count": null,
   "id": "4003550d",
   "metadata": {},
   "outputs": [],
   "source": [
    "mylist1 = [11,22,33,44.78,55]\n",
    "\n",
    "n5 = np.array(mylist1)\n",
    "print(type(n5))\n",
    "print('ndim',n5.ndim)\n",
    "print('shape',n5.shape)\n",
    "print('size',n5.size)\n",
    "print('itemsize',n5.itemsize)\n",
    "print('dtype',n5.dtype)\n",
    "print(n5)"
   ]
  },
  {
   "cell_type": "code",
   "execution_count": null,
   "id": "ee2bcd3b",
   "metadata": {},
   "outputs": [],
   "source": [
    "n5"
   ]
  },
  {
   "cell_type": "code",
   "execution_count": null,
   "id": "49c61129",
   "metadata": {},
   "outputs": [],
   "source": [
    "mylist1 = [11,22,33,260,55]\n",
    "\n",
    "n5 = np.array(mylist1, dtype=np.int16)\n",
    "print(type(n5))\n",
    "print('ndim',n5.ndim)\n",
    "print('shape',n5.shape)\n",
    "print('size',n5.size)\n",
    "print('itemsize',n5.itemsize)\n",
    "print('dtype',n5.dtype)\n",
    "print(n5)"
   ]
  },
  {
   "cell_type": "code",
   "execution_count": null,
   "id": "77a0cafb",
   "metadata": {},
   "outputs": [],
   "source": [
    "mylist1 = [65,75,85,66,76]\n",
    "\n",
    "n5 = np.array(mylist1)\n",
    "print(n5)\n",
    "print(n5+10)"
   ]
  },
  {
   "cell_type": "code",
   "execution_count": null,
   "id": "6dd881df",
   "metadata": {},
   "outputs": [],
   "source": [
    "high = [470,460,450,480,430]\n",
    "low = [430,420,445,475,425]\n",
    "\n",
    "nhigh = np.array(high)\n",
    "nlow = np.array(low)\n",
    "nvolatile = nhigh-nlow\n",
    "nvolatile"
   ]
  },
  {
   "cell_type": "code",
   "execution_count": null,
   "id": "6d5059cf",
   "metadata": {},
   "outputs": [],
   "source": [
    "print(nvolatile)"
   ]
  },
  {
   "cell_type": "markdown",
   "id": "6e13620d",
   "metadata": {},
   "source": [
    "Create 2 dim matrix"
   ]
  },
  {
   "cell_type": "raw",
   "id": "641ef9e4",
   "metadata": {},
   "source": [
    "111 222 333\n",
    "444 555 666"
   ]
  },
  {
   "cell_type": "code",
   "execution_count": null,
   "id": "c7a40d7e",
   "metadata": {},
   "outputs": [],
   "source": [
    "mylist1 = [\n",
    "    [111,222,333],\n",
    "    [444,555,666]\n",
    "]"
   ]
  },
  {
   "cell_type": "code",
   "execution_count": null,
   "id": "e1bb7427",
   "metadata": {},
   "outputs": [],
   "source": [
    "n23 = np.array(mylist1)\n",
    "print(type(n23))\n",
    "print('ndim',n23.ndim)\n",
    "print('shape',n23.shape)\n",
    "print('size',n23.size)\n",
    "print('itemsize',n23.itemsize)\n",
    "print('dtype',n23.dtype)\n",
    "print(n23)\n",
    "n23"
   ]
  },
  {
   "cell_type": "code",
   "execution_count": null,
   "id": "2f87cdd2",
   "metadata": {},
   "outputs": [],
   "source": [
    "np.random.seed(23)\n",
    "n64 = np.random.randint(low=10, high=100, size=(6,4))##, dtype=np.int32)\n",
    "n64"
   ]
  },
  {
   "cell_type": "code",
   "execution_count": null,
   "id": "a56da9f2",
   "metadata": {},
   "outputs": [],
   "source": [
    "n1 = np.arange(10)\n",
    "n1"
   ]
  },
  {
   "cell_type": "code",
   "execution_count": null,
   "id": "4ba82a4e",
   "metadata": {},
   "outputs": [],
   "source": [
    "np.arange(10)"
   ]
  },
  {
   "cell_type": "code",
   "execution_count": null,
   "id": "f80e9d84",
   "metadata": {},
   "outputs": [],
   "source": [
    "np.arange(10,20)"
   ]
  },
  {
   "cell_type": "code",
   "execution_count": null,
   "id": "bf737fe0",
   "metadata": {},
   "outputs": [],
   "source": [
    "np.arange(10,30,2)"
   ]
  },
  {
   "cell_type": "code",
   "execution_count": null,
   "id": "523e5bdd",
   "metadata": {},
   "outputs": [],
   "source": [
    "np.arange(10.1, 99.99, 23.45)"
   ]
  },
  {
   "cell_type": "code",
   "execution_count": null,
   "id": "03ab5cc3",
   "metadata": {},
   "outputs": [],
   "source": [
    "np.arange(10,1,-2)"
   ]
  },
  {
   "cell_type": "code",
   "execution_count": null,
   "id": "9105a5d4",
   "metadata": {},
   "outputs": [],
   "source": [
    "n = np.arange(10.1, 20.1, 0.1)\n",
    "n"
   ]
  },
  {
   "cell_type": "code",
   "execution_count": null,
   "id": "5047a019",
   "metadata": {},
   "outputs": [],
   "source": [
    "n[-2]"
   ]
  },
  {
   "cell_type": "code",
   "execution_count": null,
   "id": "6f9fdb95",
   "metadata": {},
   "outputs": [],
   "source": [
    "n64 = np.arange(24)\n",
    "print(n64.ndim)\n",
    "n64"
   ]
  },
  {
   "cell_type": "code",
   "execution_count": null,
   "id": "45590497",
   "metadata": {},
   "outputs": [],
   "source": [
    "n64.reshape(6,4)"
   ]
  },
  {
   "cell_type": "code",
   "execution_count": null,
   "id": "f32b98fc",
   "metadata": {},
   "outputs": [],
   "source": [
    "n64 = np.arange(24).reshape(6,4)\n",
    "n64"
   ]
  },
  {
   "cell_type": "code",
   "execution_count": null,
   "id": "5385524f",
   "metadata": {},
   "outputs": [],
   "source": [
    "n64.reshape(4,6)"
   ]
  },
  {
   "cell_type": "code",
   "execution_count": null,
   "id": "b875dae0",
   "metadata": {},
   "outputs": [],
   "source": [
    "n64.reshape(2,12)"
   ]
  },
  {
   "cell_type": "code",
   "execution_count": null,
   "id": "e7887128",
   "metadata": {},
   "outputs": [],
   "source": [
    "n234 = n64.reshape(2,3,4)\n",
    "print(n234.shape)\n",
    "n234"
   ]
  },
  {
   "cell_type": "markdown",
   "id": "e0d91be3",
   "metadata": {},
   "source": [
    "Operations"
   ]
  },
  {
   "cell_type": "code",
   "execution_count": null,
   "id": "e24cf166",
   "metadata": {},
   "outputs": [],
   "source": [
    "n34a = np.arange(1,13).reshape(3,4)\n",
    "n34a"
   ]
  },
  {
   "cell_type": "code",
   "execution_count": null,
   "id": "0a20f527",
   "metadata": {},
   "outputs": [],
   "source": [
    "n34b = np.arange(101,113).reshape(3,4)\n",
    "n34b"
   ]
  },
  {
   "cell_type": "code",
   "execution_count": null,
   "id": "5f284ed0",
   "metadata": {},
   "outputs": [],
   "source": [
    "n34a+n34b"
   ]
  },
  {
   "cell_type": "code",
   "execution_count": null,
   "id": "1e2ff1e3",
   "metadata": {},
   "outputs": [],
   "source": [
    "n34a*n34b"
   ]
  },
  {
   "cell_type": "code",
   "execution_count": null,
   "id": "ee9fd25a",
   "metadata": {},
   "outputs": [],
   "source": [
    "n34a-n34b"
   ]
  },
  {
   "cell_type": "code",
   "execution_count": null,
   "id": "d4b52061",
   "metadata": {},
   "outputs": [],
   "source": [
    "n34a@n34b  ##  Matrix Multiplication"
   ]
  },
  {
   "cell_type": "code",
   "execution_count": null,
   "id": "0aeaa408",
   "metadata": {},
   "outputs": [],
   "source": [
    "# MxN  NxK  =  MxK"
   ]
  },
  {
   "cell_type": "code",
   "execution_count": null,
   "id": "4c5afcd4",
   "metadata": {},
   "outputs": [],
   "source": [
    "n43 = n34b.T    ##  transpose\n",
    "n43"
   ]
  },
  {
   "cell_type": "code",
   "execution_count": null,
   "id": "85788583",
   "metadata": {},
   "outputs": [],
   "source": [
    "n34a@n43  ##  typical matrix multiplication"
   ]
  },
  {
   "cell_type": "markdown",
   "id": "20054c9e",
   "metadata": {},
   "source": [
    "# Matrix Access"
   ]
  },
  {
   "cell_type": "code",
   "execution_count": null,
   "id": "ac7fb685",
   "metadata": {},
   "outputs": [],
   "source": [
    "np.random.seed(23)\n",
    "n89 = np.random.randint(low=10, high=100, size=(8,9))\n",
    "n89"
   ]
  },
  {
   "cell_type": "code",
   "execution_count": null,
   "id": "cead122f",
   "metadata": {},
   "outputs": [],
   "source": [
    "n89[0]"
   ]
  },
  {
   "cell_type": "code",
   "execution_count": null,
   "id": "b60688e5",
   "metadata": {},
   "outputs": [],
   "source": [
    "n89[0,0]"
   ]
  },
  {
   "cell_type": "code",
   "execution_count": null,
   "id": "63e7a1e4",
   "metadata": {},
   "outputs": [],
   "source": [
    "n89[-1]"
   ]
  },
  {
   "cell_type": "code",
   "execution_count": null,
   "id": "c9d79935",
   "metadata": {},
   "outputs": [],
   "source": [
    "n89[-1,-1]"
   ]
  },
  {
   "cell_type": "code",
   "execution_count": null,
   "id": "0e97a067",
   "metadata": {},
   "outputs": [],
   "source": [
    "n89[0][0]"
   ]
  },
  {
   "cell_type": "code",
   "execution_count": null,
   "id": "50b30ed9",
   "metadata": {},
   "outputs": [],
   "source": [
    "n89[0,0]"
   ]
  },
  {
   "cell_type": "code",
   "execution_count": null,
   "id": "d2b706ba",
   "metadata": {},
   "outputs": [],
   "source": [
    "n89"
   ]
  },
  {
   "cell_type": "code",
   "execution_count": null,
   "id": "3e94f939",
   "metadata": {},
   "outputs": [],
   "source": [
    "n89[1:5]"
   ]
  },
  {
   "cell_type": "code",
   "execution_count": null,
   "id": "775c4372",
   "metadata": {},
   "outputs": [],
   "source": [
    "n89[2:6, 2:8]"
   ]
  },
  {
   "cell_type": "code",
   "execution_count": null,
   "id": "45d18914",
   "metadata": {},
   "outputs": [],
   "source": [
    "n89[1:6:2,  3:7]"
   ]
  },
  {
   "cell_type": "code",
   "execution_count": null,
   "id": "3a7e685b",
   "metadata": {},
   "outputs": [],
   "source": [
    "n89[:, 3:6]"
   ]
  },
  {
   "cell_type": "code",
   "execution_count": null,
   "id": "c82549d3",
   "metadata": {},
   "outputs": [],
   "source": [
    "n89[3, 3:7]"
   ]
  },
  {
   "cell_type": "code",
   "execution_count": null,
   "id": "ce85b3be",
   "metadata": {},
   "outputs": [],
   "source": [
    "n89[  [1,3,-1,-2]  ]"
   ]
  },
  {
   "cell_type": "code",
   "execution_count": null,
   "id": "25b1787f",
   "metadata": {},
   "outputs": [],
   "source": [
    "n89[  [1,3,-1,-2] , 3:6 ]"
   ]
  },
  {
   "cell_type": "code",
   "execution_count": null,
   "id": "c54e8c9b",
   "metadata": {},
   "outputs": [],
   "source": [
    "n89"
   ]
  },
  {
   "cell_type": "code",
   "execution_count": null,
   "id": "f5796751",
   "metadata": {},
   "outputs": [],
   "source": [
    "n89[ [0,2,3,4] , [0,2,3,-1]  ]"
   ]
  },
  {
   "cell_type": "code",
   "execution_count": null,
   "id": "5710ccdb",
   "metadata": {},
   "outputs": [],
   "source": [
    "list(zip([0,2,3,4] , [0,2,3,-1]))"
   ]
  },
  {
   "cell_type": "raw",
   "id": "c76c516e",
   "metadata": {},
   "source": [
    "Access Grammer\n",
    "\n",
    "n89[row_index]\n",
    "n89[row_index, col_index]\n",
    "\n",
    "n89[row_slice]\n",
    "n89[row_slice, col_slice]\n",
    "\n",
    "n89[ [list of row indices] ]\n",
    "\n",
    "\n",
    "n89[ [list of row indices] , [list of col indices]] # values based on zip\n",
    "\n",
    "combo of all of above\n",
    "\n",
    "n89[boolean matrix of same shape as n89]"
   ]
  },
  {
   "cell_type": "code",
   "execution_count": null,
   "id": "0f9d58d2",
   "metadata": {},
   "outputs": [],
   "source": [
    "n89"
   ]
  },
  {
   "cell_type": "code",
   "execution_count": null,
   "id": "0303b1af",
   "metadata": {},
   "outputs": [],
   "source": [
    "mask1 = n89 % 2 == 0\n",
    "mask1"
   ]
  },
  {
   "cell_type": "code",
   "execution_count": null,
   "id": "44341340",
   "metadata": {},
   "outputs": [],
   "source": [
    "n89[mask1]"
   ]
  },
  {
   "cell_type": "code",
   "execution_count": null,
   "id": "9c654f22",
   "metadata": {},
   "outputs": [],
   "source": [
    "n89[n89%2 ==0]"
   ]
  },
  {
   "cell_type": "code",
   "execution_count": null,
   "id": "9826d029",
   "metadata": {},
   "outputs": [],
   "source": [
    "n89[n89%2!=0]"
   ]
  },
  {
   "cell_type": "code",
   "execution_count": null,
   "id": "479c925e",
   "metadata": {},
   "outputs": [],
   "source": [
    "n89"
   ]
  },
  {
   "cell_type": "code",
   "execution_count": null,
   "id": "962e31c5",
   "metadata": {},
   "outputs": [],
   "source": [
    "n89[n89*2]"
   ]
  },
  {
   "cell_type": "code",
   "execution_count": null,
   "id": "bae1ca11",
   "metadata": {},
   "outputs": [],
   "source": [
    "n89*2"
   ]
  },
  {
   "cell_type": "code",
   "execution_count": null,
   "id": "3839d9d0",
   "metadata": {},
   "outputs": [],
   "source": [
    "n89mask = np.random.randint(low=0, high=2, size=(8,9))\n",
    "n89mask"
   ]
  },
  {
   "cell_type": "code",
   "execution_count": null,
   "id": "16e49522",
   "metadata": {},
   "outputs": [],
   "source": [
    "n89[n89mask]"
   ]
  },
  {
   "cell_type": "code",
   "execution_count": null,
   "id": "6b17539c",
   "metadata": {},
   "outputs": [],
   "source": [
    "n89"
   ]
  },
  {
   "cell_type": "code",
   "execution_count": null,
   "id": "5d4a98a7",
   "metadata": {},
   "outputs": [],
   "source": [
    "n89"
   ]
  },
  {
   "cell_type": "code",
   "execution_count": null,
   "id": "341f1861",
   "metadata": {},
   "outputs": [],
   "source": [
    "n89[n89%2==0]"
   ]
  },
  {
   "cell_type": "code",
   "execution_count": null,
   "id": "6eaaad6e",
   "metadata": {},
   "outputs": [],
   "source": [
    "mask1 = n89%2 == 0\n",
    "mask1"
   ]
  },
  {
   "cell_type": "code",
   "execution_count": null,
   "id": "e4efbcc2",
   "metadata": {},
   "outputs": [],
   "source": [
    "mask2 = n89 > 50\n",
    "mask2"
   ]
  },
  {
   "cell_type": "code",
   "execution_count": null,
   "id": "0b863d69",
   "metadata": {},
   "outputs": [],
   "source": [
    "final_mask = mask1 & mask2\n",
    "final_mask"
   ]
  },
  {
   "cell_type": "code",
   "execution_count": null,
   "id": "130463b1",
   "metadata": {},
   "outputs": [],
   "source": [
    "n89[final_mask]"
   ]
  },
  {
   "cell_type": "code",
   "execution_count": null,
   "id": "f25e435c",
   "metadata": {},
   "outputs": [],
   "source": [
    "n89[ (n89%2==0) & (n89>50)]"
   ]
  },
  {
   "cell_type": "code",
   "execution_count": null,
   "id": "6d997396",
   "metadata": {},
   "outputs": [],
   "source": [
    "n89"
   ]
  },
  {
   "cell_type": "code",
   "execution_count": null,
   "id": "67b51474",
   "metadata": {},
   "outputs": [],
   "source": [
    "n89[  ((n89<25) | (n89>75))  & (n89%2==0) ]"
   ]
  },
  {
   "cell_type": "code",
   "execution_count": null,
   "id": "ae22dd33",
   "metadata": {},
   "outputs": [],
   "source": [
    "for i in n89:\n",
    "    print(i)"
   ]
  },
  {
   "cell_type": "code",
   "execution_count": null,
   "id": "b73347c4",
   "metadata": {},
   "outputs": [],
   "source": [
    "for i in np.ndenumerate(n89):\n",
    "    print(i)"
   ]
  },
  {
   "cell_type": "code",
   "execution_count": null,
   "id": "97ad4beb",
   "metadata": {},
   "outputs": [],
   "source": [
    "for index, value in np.ndenumerate(n89):\n",
    "    print(index, value)"
   ]
  },
  {
   "cell_type": "code",
   "execution_count": null,
   "id": "712e21ab",
   "metadata": {},
   "outputs": [],
   "source": [
    "for element in np.nditer(n89):\n",
    "    print(element)"
   ]
  },
  {
   "cell_type": "code",
   "execution_count": null,
   "id": "b7e964c7",
   "metadata": {},
   "outputs": [],
   "source": [
    "n89"
   ]
  },
  {
   "cell_type": "code",
   "execution_count": null,
   "id": "afd4df45",
   "metadata": {},
   "outputs": [],
   "source": [
    "n89[0,0] = 999\n",
    "n89"
   ]
  },
  {
   "cell_type": "code",
   "execution_count": null,
   "id": "7a736541",
   "metadata": {},
   "outputs": [],
   "source": [
    "n89[2:5] = 999\n",
    "n89"
   ]
  },
  {
   "cell_type": "code",
   "execution_count": null,
   "id": "68c8a5a0",
   "metadata": {},
   "outputs": [],
   "source": [
    "n89[n89<50] "
   ]
  },
  {
   "cell_type": "code",
   "execution_count": null,
   "id": "d867b56c",
   "metadata": {},
   "outputs": [],
   "source": [
    "n89[n89<50]  = 0"
   ]
  },
  {
   "cell_type": "code",
   "execution_count": null,
   "id": "2d5264ff",
   "metadata": {},
   "outputs": [],
   "source": [
    "n89"
   ]
  },
  {
   "cell_type": "code",
   "execution_count": null,
   "id": "8e1c6f02",
   "metadata": {},
   "outputs": [],
   "source": [
    "np.random.seed(23)\n",
    "n89 = np.random.randint(low=10, high=100, size=(8,9))\n",
    "n89"
   ]
  },
  {
   "cell_type": "code",
   "execution_count": null,
   "id": "d930bf40",
   "metadata": {},
   "outputs": [],
   "source": [
    "n89[n89<50] = 0\n",
    "n89"
   ]
  },
  {
   "cell_type": "code",
   "execution_count": null,
   "id": "0a352a91",
   "metadata": {},
   "outputs": [],
   "source": [
    "np.random.seed(23)\n",
    "n89 = np.random.randint(low=10, high=100, size=(8,9))\n",
    "n89"
   ]
  },
  {
   "cell_type": "code",
   "execution_count": null,
   "id": "66a65b9e",
   "metadata": {},
   "outputs": [],
   "source": [
    "n89[2:5] = np.arange(27).reshape(3,9)\n",
    "n89"
   ]
  },
  {
   "cell_type": "code",
   "execution_count": null,
   "id": "723eeaa2",
   "metadata": {},
   "outputs": [],
   "source": [
    "import matplotlib.pyplot as plt"
   ]
  },
  {
   "cell_type": "code",
   "execution_count": null,
   "id": "15b53ca1",
   "metadata": {},
   "outputs": [],
   "source": [
    "n1 = np.random.rand(100,100)  ##  uniform dist\n",
    "print(n1.shape)\n",
    "print(n1.min())\n",
    "print(n1.max())\n",
    "print(n1.mean())\n",
    "#plt.scatter(n1, n1.T)\n",
    "plt.hist(n1)\n",
    "plt.show()"
   ]
  },
  {
   "cell_type": "code",
   "execution_count": null,
   "id": "e766f968",
   "metadata": {},
   "outputs": [],
   "source": [
    "n2 = np.random.randn(100,100)  ##  norm dist\n",
    "print(n2.shape)\n",
    "print(n2.min())\n",
    "print(n2.max())\n",
    "print(n2.mean())\n",
    "plt.hist(n2)\n",
    "plt.show()"
   ]
  },
  {
   "cell_type": "code",
   "execution_count": null,
   "id": "28c20b49",
   "metadata": {},
   "outputs": [],
   "source": []
  }
 ],
 "metadata": {
  "kernelspec": {
   "display_name": "Python 3 (ipykernel)",
   "language": "python",
   "name": "python3"
  },
  "language_info": {
   "codemirror_mode": {
    "name": "ipython",
    "version": 3
   },
   "file_extension": ".py",
   "mimetype": "text/x-python",
   "name": "python",
   "nbconvert_exporter": "python",
   "pygments_lexer": "ipython3",
   "version": "3.11.5"
  }
 },
 "nbformat": 4,
 "nbformat_minor": 5
}
