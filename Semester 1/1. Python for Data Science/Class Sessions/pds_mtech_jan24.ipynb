{
 "cells": [
  {
   "cell_type": "markdown",
   "id": "8e5efd35",
   "metadata": {},
   "source": [
    "# 06/Jan/2024"
   ]
  },
  {
   "cell_type": "markdown",
   "id": "8bd1ac41",
   "metadata": {},
   "source": [
    "# Python for Data Science.  "
   ]
  },
  {
   "cell_type": "markdown",
   "id": "2de29f1e",
   "metadata": {},
   "source": [
    "1.  Write  a Code to print hello world"
   ]
  },
  {
   "cell_type": "code",
   "execution_count": null,
   "id": "572bcc44",
   "metadata": {},
   "outputs": [],
   "source": [
    "print('Hello World')"
   ]
  },
  {
   "cell_type": "code",
   "execution_count": null,
   "id": "eb07b53d",
   "metadata": {},
   "outputs": [],
   "source": [
    "print('HW')  #  Line Comment\n",
    "#  entire line commented  print('HW')\n",
    "print('NSE # Mumbai')\n",
    "\n",
    "exchange = \"BSE\";  print(exchange)\n",
    "\n",
    "usd = \"Dollar: $\";  rupee = '\\u20B9'\n",
    "\n",
    "print(usd, rupee)"
   ]
  },
  {
   "cell_type": "code",
   "execution_count": null,
   "id": "579e7286",
   "metadata": {},
   "outputs": [],
   "source": [
    "print(\"a \\# b\")"
   ]
  },
  {
   "cell_type": "code",
   "execution_count": null,
   "id": "6867518c",
   "metadata": {},
   "outputs": [],
   "source": [
    "print(\"a\\nb\")"
   ]
  },
  {
   "cell_type": "code",
   "execution_count": null,
   "id": "eb48ab36",
   "metadata": {},
   "outputs": [],
   "source": [
    "print(usd)"
   ]
  },
  {
   "cell_type": "code",
   "execution_count": null,
   "id": "72e37e2a",
   "metadata": {},
   "outputs": [],
   "source": [
    "print(rupee)"
   ]
  },
  {
   "cell_type": "code",
   "execution_count": null,
   "id": "026a17fc",
   "metadata": {},
   "outputs": [],
   "source": [
    "print(usd, rupee)"
   ]
  },
  {
   "cell_type": "code",
   "execution_count": null,
   "id": "a7157d3c",
   "metadata": {},
   "outputs": [],
   "source": [
    "exchange = 'NSE'\n",
    "print(exchange)"
   ]
  },
  {
   "cell_type": "code",
   "execution_count": null,
   "id": "f211364f",
   "metadata": {},
   "outputs": [],
   "source": [
    "exchange = 'nse is \n",
    "in mumbai. bse\n",
    "also in mumbai'"
   ]
  },
  {
   "cell_type": "code",
   "execution_count": null,
   "id": "b5234e18",
   "metadata": {},
   "outputs": [],
   "source": [
    "exchange = '''  nse is\n",
    "in mumbai. bse is also\n",
    "in Mumbai\n",
    "'''"
   ]
  },
  {
   "cell_type": "code",
   "execution_count": null,
   "id": "e11f2453",
   "metadata": {},
   "outputs": [],
   "source": [
    "print(exchange)"
   ]
  },
  {
   "cell_type": "code",
   "execution_count": null,
   "id": "31d9776c",
   "metadata": {},
   "outputs": [],
   "source": [
    "e1 = 'NSE'\n",
    "'''\n",
    "NSE is \n",
    "in Mumbai.  Block Comments\n",
    "'''\n",
    "\n",
    "print(e1)"
   ]
  },
  {
   "cell_type": "code",
   "execution_count": null,
   "id": "3ded9f60",
   "metadata": {},
   "outputs": [],
   "source": [
    "e1 = 20\n",
    "E1 = 30\n",
    "\n",
    "print(e1, E1)"
   ]
  },
  {
   "cell_type": "code",
   "execution_count": null,
   "id": "42b55fee",
   "metadata": {},
   "outputs": [],
   "source": [
    "91e1 = 'NSE'"
   ]
  },
  {
   "cell_type": "code",
   "execution_count": null,
   "id": "8082ee1d",
   "metadata": {},
   "outputs": [],
   "source": [
    "stock$ex = 'BSE'"
   ]
  },
  {
   "cell_type": "code",
   "execution_count": null,
   "id": "616a0b76",
   "metadata": {},
   "outputs": [],
   "source": [
    "if = 20"
   ]
  },
  {
   "cell_type": "code",
   "execution_count": null,
   "id": "94500d50",
   "metadata": {},
   "outputs": [],
   "source": [
    "import keyword\n",
    "print(keyword.kwlist)"
   ]
  },
  {
   "cell_type": "code",
   "execution_count": null,
   "id": "f88c64a7",
   "metadata": {},
   "outputs": [],
   "source": [
    "keyword.kwlist"
   ]
  },
  {
   "cell_type": "markdown",
   "id": "f5a0423e",
   "metadata": {},
   "source": [
    "Indentation"
   ]
  },
  {
   "cell_type": "code",
   "execution_count": null,
   "id": "c9af2a3b",
   "metadata": {},
   "outputs": [],
   "source": [
    "sensor = 0\n",
    "\n",
    "\n",
    "if sensor == 0:\n",
    "    print('Sensor is OFF')\n",
    "    print('Switch Motor OFF')\n",
    "else:\n",
    "    print('Sensor is ON')\n",
    "    print('Switch Motor ON')\n",
    "    \n",
    "print('Done') "
   ]
  },
  {
   "cell_type": "code",
   "execution_count": null,
   "id": "6f954f2c",
   "metadata": {},
   "outputs": [],
   "source": [
    "sensor = 0\n",
    "\n",
    "\n",
    "if sensor == 0:\n",
    "    print('Sensor is OFF')\n",
    "    print('Switch Motor OFF')\n",
    "else:\n",
    "        print('Sensor is ON')\n",
    "         print('Switch Motor ON')\n",
    "    \n",
    "print('Done') "
   ]
  },
  {
   "cell_type": "code",
   "execution_count": null,
   "id": "19fad534",
   "metadata": {},
   "outputs": [],
   "source": [
    "abcd = 2000\n",
    "print(abcd)\n",
    "print(type(abcd))\n",
    "print(id(abcd))"
   ]
  },
  {
   "cell_type": "code",
   "execution_count": null,
   "id": "c62968ce",
   "metadata": {},
   "outputs": [],
   "source": [
    "abcd = 'hello'\n",
    "print(abcd)\n",
    "print(type(abcd))\n",
    "print(id(abcd))"
   ]
  },
  {
   "cell_type": "code",
   "execution_count": null,
   "id": "9ead2698",
   "metadata": {},
   "outputs": [],
   "source": [
    "a = 2000\n",
    "b = 2000\n",
    "\n",
    "print(a,b)\n",
    "\n",
    "print(id(a))\n",
    "print(id(b))"
   ]
  },
  {
   "cell_type": "code",
   "execution_count": null,
   "id": "9785beac",
   "metadata": {},
   "outputs": [],
   "source": [
    "a = 200\n",
    "b = 200\n",
    "\n",
    "print(a,b)\n",
    "\n",
    "print(id(a))\n",
    "print(id(b))"
   ]
  },
  {
   "cell_type": "code",
   "execution_count": null,
   "id": "44a01be8",
   "metadata": {},
   "outputs": [],
   "source": [
    "##   integers -5 to 256 are prefixed at  boot_time"
   ]
  },
  {
   "cell_type": "code",
   "execution_count": null,
   "id": "7b57dd84",
   "metadata": {},
   "outputs": [],
   "source": [
    "a = 200\n",
    "b = 200\n",
    "\n",
    "print(a,b)\n",
    "\n",
    "print(id(a))\n",
    "print(id(b))\n",
    "\n",
    "b = b + 500\n",
    "print(b)\n",
    "print(id(b))"
   ]
  },
  {
   "cell_type": "code",
   "execution_count": null,
   "id": "bbb2116b",
   "metadata": {},
   "outputs": [],
   "source": [
    "##  in python, there is no contract bn the variable and the memory location."
   ]
  },
  {
   "cell_type": "code",
   "execution_count": null,
   "id": "54905caf",
   "metadata": {},
   "outputs": [],
   "source": [
    "print('hello')"
   ]
  },
  {
   "cell_type": "code",
   "execution_count": null,
   "id": "1afb6f91",
   "metadata": {},
   "outputs": [],
   "source": [
    "print = 20"
   ]
  },
  {
   "cell_type": "code",
   "execution_count": null,
   "id": "5da156c0",
   "metadata": {},
   "outputs": [],
   "source": [
    "print('Hello')  ##  20('hello')"
   ]
  },
  {
   "cell_type": "code",
   "execution_count": null,
   "id": "07f08270",
   "metadata": {},
   "outputs": [],
   "source": [
    "print('print')"
   ]
  },
  {
   "cell_type": "code",
   "execution_count": null,
   "id": "3cc2a1e2",
   "metadata": {},
   "outputs": [],
   "source": [
    "print(print)"
   ]
  },
  {
   "cell_type": "code",
   "execution_count": null,
   "id": "9386eef2",
   "metadata": {},
   "outputs": [],
   "source": [
    "print(id(print))"
   ]
  },
  {
   "cell_type": "code",
   "execution_count": null,
   "id": "44caf9c9",
   "metadata": {},
   "outputs": [],
   "source": [
    "a = 20\n",
    "print(id(20))"
   ]
  },
  {
   "cell_type": "code",
   "execution_count": null,
   "id": "af7ed28e",
   "metadata": {},
   "outputs": [],
   "source": [
    "print = 20\n",
    "id(print)"
   ]
  },
  {
   "cell_type": "code",
   "execution_count": null,
   "id": "ac304187",
   "metadata": {},
   "outputs": [],
   "source": [
    "print('hello')"
   ]
  },
  {
   "cell_type": "code",
   "execution_count": null,
   "id": "e25e7542",
   "metadata": {},
   "outputs": [],
   "source": [
    "print(dir(__builtins__))"
   ]
  },
  {
   "cell_type": "code",
   "execution_count": null,
   "id": "95cfe257",
   "metadata": {},
   "outputs": [],
   "source": [
    "print(dir(str))"
   ]
  },
  {
   "cell_type": "code",
   "execution_count": null,
   "id": "76f43b96",
   "metadata": {},
   "outputs": [],
   "source": [
    "a = 2345\n",
    "b = 2345\n",
    "c = 2345\n",
    "print(a,b,c)\n",
    "\n",
    "print(id(a), id(b), id(c))"
   ]
  },
  {
   "cell_type": "code",
   "execution_count": null,
   "id": "ebddce17",
   "metadata": {},
   "outputs": [],
   "source": [
    "a = b = c= 2345\n",
    "\n",
    "print(a,b,c)\n",
    "\n",
    "print(id(a), id(b), id(c))"
   ]
  },
  {
   "cell_type": "code",
   "execution_count": null,
   "id": "3dcc84b7",
   "metadata": {},
   "outputs": [],
   "source": [
    "v0,v1,v2 = 20,30,40  ##  positional mapping\n",
    "print(v0,v1,v2)"
   ]
  },
  {
   "cell_type": "code",
   "execution_count": null,
   "id": "e02fe9fd",
   "metadata": {},
   "outputs": [],
   "source": [
    "v0,v1,v2 = 20,30\n",
    "print(v0,v1,v2)"
   ]
  },
  {
   "cell_type": "code",
   "execution_count": null,
   "id": "3d242de4",
   "metadata": {},
   "outputs": [],
   "source": [
    "ms1 = input('Enter Marks: ')\n",
    "print(ms1)\n",
    "print(type(ms1))\n",
    "\n",
    "print(ms1+5)"
   ]
  },
  {
   "cell_type": "code",
   "execution_count": null,
   "id": "029c2f90",
   "metadata": {},
   "outputs": [],
   "source": [
    "ms1 = input('Enter Marks: ')\n",
    "print(ms1)\n",
    "print(type(ms1))\n",
    "\n",
    "num = int(ms1)\n",
    "print(num)\n",
    "print(type(num))\n",
    "\n",
    "print(num+5)"
   ]
  },
  {
   "cell_type": "code",
   "execution_count": null,
   "id": "a5f82030",
   "metadata": {},
   "outputs": [],
   "source": [
    "int(\"898\")"
   ]
  },
  {
   "cell_type": "code",
   "execution_count": null,
   "id": "aa67ab56",
   "metadata": {},
   "outputs": [],
   "source": [
    "int('hello')"
   ]
  },
  {
   "cell_type": "code",
   "execution_count": null,
   "id": "9e5e0b9d",
   "metadata": {},
   "outputs": [],
   "source": [
    "int(\"89.76\")"
   ]
  },
  {
   "cell_type": "code",
   "execution_count": null,
   "id": "e1d02e83",
   "metadata": {},
   "outputs": [],
   "source": [
    "float(\"98.76\")"
   ]
  },
  {
   "cell_type": "code",
   "execution_count": null,
   "id": "98f1ecc6",
   "metadata": {},
   "outputs": [],
   "source": [
    "int(78.65)"
   ]
  },
  {
   "cell_type": "code",
   "execution_count": null,
   "id": "c3cb3bec",
   "metadata": {},
   "outputs": [],
   "source": [
    "float(78)"
   ]
  },
  {
   "cell_type": "code",
   "execution_count": null,
   "id": "0c4ed07b",
   "metadata": {},
   "outputs": [],
   "source": [
    "m1 = int(input('Enter Marks: '))\n",
    "print(m1+5)"
   ]
  },
  {
   "cell_type": "code",
   "execution_count": null,
   "id": "64ef872d",
   "metadata": {},
   "outputs": [],
   "source": [
    "int(\"two\")"
   ]
  },
  {
   "cell_type": "code",
   "execution_count": null,
   "id": "f3dfba28",
   "metadata": {},
   "outputs": [],
   "source": [
    "m1 = input('Enter Marks: ')\n",
    "print(m1+5)"
   ]
  },
  {
   "cell_type": "code",
   "execution_count": null,
   "id": "3a005478",
   "metadata": {},
   "outputs": [],
   "source": [
    "2**3"
   ]
  },
  {
   "cell_type": "code",
   "execution_count": null,
   "id": "416a15b3",
   "metadata": {},
   "outputs": [],
   "source": [
    "2*3"
   ]
  },
  {
   "cell_type": "code",
   "execution_count": null,
   "id": "3753ae91",
   "metadata": {},
   "outputs": [],
   "source": [
    "a = 5\n",
    "not(a)"
   ]
  },
  {
   "cell_type": "code",
   "execution_count": null,
   "id": "0b056696",
   "metadata": {},
   "outputs": [],
   "source": [
    "bool(a)"
   ]
  },
  {
   "cell_type": "code",
   "execution_count": null,
   "id": "7d6e1702",
   "metadata": {},
   "outputs": [],
   "source": [
    "not(True)"
   ]
  },
  {
   "cell_type": "code",
   "execution_count": null,
   "id": "96b1027a",
   "metadata": {},
   "outputs": [],
   "source": [
    "not(False)"
   ]
  },
  {
   "cell_type": "code",
   "execution_count": null,
   "id": "4335ee2a",
   "metadata": {},
   "outputs": [],
   "source": [
    "bool(10)"
   ]
  },
  {
   "cell_type": "code",
   "execution_count": null,
   "id": "e96ceb8f",
   "metadata": {},
   "outputs": [],
   "source": [
    "bool(-10)"
   ]
  },
  {
   "cell_type": "code",
   "execution_count": null,
   "id": "ad6e0672",
   "metadata": {},
   "outputs": [],
   "source": [
    "bool(0)"
   ]
  },
  {
   "cell_type": "code",
   "execution_count": null,
   "id": "b373b176",
   "metadata": {},
   "outputs": [],
   "source": [
    "bool('True')"
   ]
  },
  {
   "cell_type": "code",
   "execution_count": null,
   "id": "766c2365",
   "metadata": {},
   "outputs": [],
   "source": [
    "bool('False')"
   ]
  },
  {
   "cell_type": "code",
   "execution_count": null,
   "id": "0125f119",
   "metadata": {},
   "outputs": [],
   "source": [
    "bool('')"
   ]
  },
  {
   "cell_type": "code",
   "execution_count": null,
   "id": "ecaddfc1",
   "metadata": {},
   "outputs": [],
   "source": [
    "print(type(True))"
   ]
  },
  {
   "cell_type": "code",
   "execution_count": null,
   "id": "07947c50",
   "metadata": {},
   "outputs": [],
   "source": [
    "int(True)"
   ]
  },
  {
   "cell_type": "code",
   "execution_count": null,
   "id": "c71ed3c3",
   "metadata": {},
   "outputs": [],
   "source": [
    "int(False)"
   ]
  },
  {
   "cell_type": "code",
   "execution_count": null,
   "id": "098f1351",
   "metadata": {},
   "outputs": [],
   "source": [
    "int(bool(1000))"
   ]
  },
  {
   "cell_type": "code",
   "execution_count": null,
   "id": "4cc1d9be",
   "metadata": {},
   "outputs": [],
   "source": [
    "a = 17\n",
    "b = 5"
   ]
  },
  {
   "cell_type": "code",
   "execution_count": null,
   "id": "8d77bc10",
   "metadata": {},
   "outputs": [],
   "source": [
    "a/b"
   ]
  },
  {
   "cell_type": "code",
   "execution_count": null,
   "id": "a49378a5",
   "metadata": {},
   "outputs": [],
   "source": [
    "a//b  ##  evaluates the quotient"
   ]
  },
  {
   "cell_type": "code",
   "execution_count": null,
   "id": "0539f8ea",
   "metadata": {},
   "outputs": [],
   "source": [
    "a%b    # evaluates remainder.  modulus operator"
   ]
  },
  {
   "cell_type": "code",
   "execution_count": null,
   "id": "6d6abe7c",
   "metadata": {},
   "outputs": [],
   "source": [
    "def calci1(p0,p1):\n",
    "    s = p0 + p1\n",
    "    \n",
    "    return s\n",
    "\n",
    "s1 = calci1(20,30)\n",
    "print(s1)"
   ]
  },
  {
   "cell_type": "code",
   "execution_count": null,
   "id": "d98f0142",
   "metadata": {},
   "outputs": [],
   "source": [
    "\n",
    "def calci2(p0,p1):\n",
    "    s = p0 + p1\n",
    "    #return None\n",
    "\n",
    "s1 = calci2(20,30)\n",
    "print(s1)\n",
    "print(type(s1))"
   ]
  },
  {
   "cell_type": "code",
   "execution_count": null,
   "id": "2d8ff754",
   "metadata": {},
   "outputs": [],
   "source": [
    "def calci3(p0,p1):\n",
    "    s = p0 + p1\n",
    "    d = p0 - p1\n",
    "    \n",
    "    return s,d  ##  multiple returns are possible\n",
    "\n",
    "s1,d1 = calci3(20,30)\n",
    "print(s1,d1)"
   ]
  },
  {
   "cell_type": "code",
   "execution_count": null,
   "id": "907d28c0",
   "metadata": {},
   "outputs": [],
   "source": [
    "help(calci3)"
   ]
  },
  {
   "cell_type": "code",
   "execution_count": null,
   "id": "0a6d9759",
   "metadata": {},
   "outputs": [],
   "source": [
    "def calci4(p0,p1):\n",
    "    '''\n",
    "      This function takes 2 numbers,\n",
    "      it adds and finds diff\n",
    "      it returns sum and diff\n",
    "      .DocString\n",
    "    '''\n",
    "    s = p0 + p1\n",
    "    d = p0 - p1\n",
    "    '''\n",
    "    will return\n",
    "    now\n",
    "    '''\n",
    "    \n",
    "    return s,d  ##  multiple returns are possible"
   ]
  },
  {
   "cell_type": "code",
   "execution_count": null,
   "id": "6b0631ce",
   "metadata": {},
   "outputs": [],
   "source": [
    "s1,d1 = calci4(20,30)\n",
    "print(s1,d1)"
   ]
  },
  {
   "cell_type": "code",
   "execution_count": null,
   "id": "03eee01b",
   "metadata": {},
   "outputs": [],
   "source": [
    "help(calci4)"
   ]
  },
  {
   "cell_type": "code",
   "execution_count": null,
   "id": "e21ca3ca",
   "metadata": {},
   "outputs": [],
   "source": [
    "def tempCheck(temperature):\n",
    "    if temperature > 99:\n",
    "        return 'Hot'\n",
    "    elif temperature < 60:\n",
    "        return 'Cold'\n",
    "    else:\n",
    "        return 'Right'\n",
    "\n",
    "feel = tempCheck(89);  print(feel)\n",
    "feel = tempCheck(899); print(feel)\n",
    "feel = tempCheck(9);   print(feel)"
   ]
  },
  {
   "cell_type": "code",
   "execution_count": null,
   "id": "d92e4854",
   "metadata": {},
   "outputs": [],
   "source": [
    "curtemp = int(input('Get temperature: '))\n",
    "feel = tempCheck(curtemp)\n",
    "print(curtemp, feel)"
   ]
  },
  {
   "cell_type": "code",
   "execution_count": null,
   "id": "97e89d25",
   "metadata": {},
   "outputs": [],
   "source": [
    "def isTrouble(curHour1, talking1):\n",
    "    if talking1:\n",
    "        if (curHour1 >= 20)  or (curHour1 <= 7):\n",
    "            return True\n",
    "        \n",
    "    return False\n",
    "\n",
    "def isTrouble(curHour1, talking1):\n",
    "    if (talking1) and ((curHour1 >= 20)  or (curHour1 <= 7) ):\n",
    "            return True\n",
    "        \n",
    "    return False\n",
    "    \n",
    "curHour = 22; talking = True;  \n",
    "feel = isTrouble(curHour, talking)\n",
    "print(curHour, talking, feel)\n",
    "\n",
    "curHour = 2; talking = True;  \n",
    "feel = isTrouble(curHour, talking)\n",
    "print(curHour, talking, feel)\n",
    "\n",
    "curHour = 12; talking = True;  \n",
    "feel = isTrouble(curHour, talking)\n",
    "print(curHour, talking, feel)\n",
    "\n",
    "curHour = 22; talking = False;  \n",
    "feel = isTrouble(curHour, talking)\n",
    "print(curHour, talking, feel)"
   ]
  },
  {
   "cell_type": "markdown",
   "id": "06ca1b99",
   "metadata": {},
   "source": [
    "# Strings"
   ]
  },
  {
   "cell_type": "code",
   "execution_count": null,
   "id": "4a07c247",
   "metadata": {},
   "outputs": [],
   "source": [
    "ms1 = 'PYTHON'"
   ]
  },
  {
   "cell_type": "code",
   "execution_count": null,
   "id": "ad6e0c55",
   "metadata": {},
   "outputs": [],
   "source": [
    "print(ms1)\n",
    "print(type(ms1))\n",
    "print(len(ms1))"
   ]
  },
  {
   "cell_type": "code",
   "execution_count": null,
   "id": "eb233100",
   "metadata": {},
   "outputs": [],
   "source": [
    "ms1[0]"
   ]
  },
  {
   "cell_type": "code",
   "execution_count": null,
   "id": "1cb1a723",
   "metadata": {},
   "outputs": [],
   "source": [
    "ms1[0] = 'J'"
   ]
  },
  {
   "cell_type": "code",
   "execution_count": null,
   "id": "eb4a1cef",
   "metadata": {},
   "outputs": [],
   "source": [
    "ms1 = 'python'\n",
    "print(ms1)\n",
    "print(id(ms1))\n",
    "ms1 = ms1 + 'data'\n",
    "print(ms1)\n",
    "print(id(ms1))"
   ]
  },
  {
   "cell_type": "code",
   "execution_count": null,
   "id": "951fb535",
   "metadata": {},
   "outputs": [],
   "source": [
    "ms1 = 'pythondatascience'\n",
    "print(ms1)\n",
    "\n",
    "print(ms1[2:10:3])"
   ]
  },
  {
   "cell_type": "code",
   "execution_count": null,
   "id": "23b7e3fa",
   "metadata": {},
   "outputs": [],
   "source": [
    "'hello' + 'world'"
   ]
  },
  {
   "cell_type": "code",
   "execution_count": null,
   "id": "1ef46b17",
   "metadata": {},
   "outputs": [],
   "source": [
    "'hello' * 3"
   ]
  },
  {
   "cell_type": "code",
   "execution_count": null,
   "id": "b22e2a7b",
   "metadata": {},
   "outputs": [],
   "source": [
    "'hello' * 'world'"
   ]
  },
  {
   "cell_type": "code",
   "execution_count": null,
   "id": "ed500480",
   "metadata": {},
   "outputs": [],
   "source": [
    "'a' in 'aeiou'"
   ]
  },
  {
   "cell_type": "code",
   "execution_count": null,
   "id": "e35ad09c",
   "metadata": {},
   "outputs": [],
   "source": [
    "'z' in 'aeiou'"
   ]
  },
  {
   "cell_type": "code",
   "execution_count": null,
   "id": "6a614f95",
   "metadata": {},
   "outputs": [],
   "source": [
    "print(dir(str))"
   ]
  },
  {
   "cell_type": "code",
   "execution_count": null,
   "id": "16ab40a0",
   "metadata": {},
   "outputs": [],
   "source": [
    "help(str.replace)"
   ]
  },
  {
   "cell_type": "code",
   "execution_count": null,
   "id": "862f5e63",
   "metadata": {},
   "outputs": [],
   "source": [
    "ms1 = 'king RING sing'\n",
    "\n",
    "ns1 = ms1.replace('ng', 'ms')\n",
    "\n",
    "print(ns1)"
   ]
  },
  {
   "cell_type": "code",
   "execution_count": null,
   "id": "ae739aeb",
   "metadata": {},
   "outputs": [],
   "source": [
    "ms1 = 'king RING sing'\n",
    "\n",
    "ns1 = ms1.replace('ng', 'ms')\n",
    "\n",
    "print(ns1)"
   ]
  },
  {
   "cell_type": "code",
   "execution_count": null,
   "id": "20a48d89",
   "metadata": {},
   "outputs": [],
   "source": [
    "ms1 = 'king RING sing'\n",
    "\n",
    "ns1 = ms1.replace('ng', 'ms', 1)\n",
    "\n",
    "print(ns1)"
   ]
  },
  {
   "cell_type": "code",
   "execution_count": null,
   "id": "1b24f8fb",
   "metadata": {},
   "outputs": [],
   "source": [
    "help(str)"
   ]
  },
  {
   "cell_type": "code",
   "execution_count": null,
   "id": "7080c238",
   "metadata": {},
   "outputs": [],
   "source": [
    "help(ms1.__class__)"
   ]
  },
  {
   "cell_type": "code",
   "execution_count": null,
   "id": "a318f14c",
   "metadata": {},
   "outputs": [],
   "source": [
    "'hello'.__class__"
   ]
  },
  {
   "cell_type": "code",
   "execution_count": null,
   "id": "09e63b37",
   "metadata": {},
   "outputs": [],
   "source": [
    "a = 20\n",
    "a.__class__"
   ]
  },
  {
   "cell_type": "code",
   "execution_count": null,
   "id": "e8ffcda0",
   "metadata": {},
   "outputs": [],
   "source": [
    "ms1"
   ]
  },
  {
   "cell_type": "code",
   "execution_count": null,
   "id": "50f5c42c",
   "metadata": {},
   "outputs": [],
   "source": [
    "ns1 = ms1.replace('g','*',1).replace('G','@')\n",
    "print(ns1)"
   ]
  },
  {
   "cell_type": "code",
   "execution_count": null,
   "id": "b6c06c38",
   "metadata": {},
   "outputs": [],
   "source": [
    "'find' in dir(str)"
   ]
  },
  {
   "cell_type": "code",
   "execution_count": null,
   "id": "6656c47a",
   "metadata": {},
   "outputs": [],
   "source": [
    "help(str.find)"
   ]
  },
  {
   "cell_type": "code",
   "execution_count": null,
   "id": "a436c868",
   "metadata": {},
   "outputs": [],
   "source": [
    "ms1 = 'nationalstockexchange'\n",
    "\n",
    "if ms1.find('d') == -1:\n",
    "    print('Substring Not found')\n",
    "    \n",
    "print(ms1.find('d'))"
   ]
  },
  {
   "cell_type": "code",
   "execution_count": null,
   "id": "a400653e",
   "metadata": {},
   "outputs": [],
   "source": [
    "ms1 = 'nationalstockexchange'\n",
    "ms1.find('a')"
   ]
  },
  {
   "cell_type": "code",
   "execution_count": null,
   "id": "6014b2ba",
   "metadata": {},
   "outputs": [],
   "source": [
    "ms1.find('a',10,20)"
   ]
  },
  {
   "cell_type": "code",
   "execution_count": null,
   "id": "503baada",
   "metadata": {},
   "outputs": [],
   "source": [
    "ms1.find('ang',10,20)"
   ]
  },
  {
   "cell_type": "code",
   "execution_count": null,
   "id": "fc85b403",
   "metadata": {},
   "outputs": [],
   "source": [
    "ms1.find('any',10,20)"
   ]
  },
  {
   "cell_type": "code",
   "execution_count": null,
   "id": "12fad8af",
   "metadata": {},
   "outputs": [],
   "source": [
    "ms1[10:20]"
   ]
  },
  {
   "cell_type": "code",
   "execution_count": null,
   "id": "2c61eafa",
   "metadata": {},
   "outputs": [],
   "source": [
    "ms1.rfind('a')"
   ]
  },
  {
   "cell_type": "code",
   "execution_count": null,
   "id": "62a5021f",
   "metadata": {},
   "outputs": [],
   "source": [
    "\"2023\".isdigit()"
   ]
  },
  {
   "cell_type": "code",
   "execution_count": null,
   "id": "5970f110",
   "metadata": {},
   "outputs": [],
   "source": [
    "\"abcd123\".isdigit()"
   ]
  },
  {
   "cell_type": "code",
   "execution_count": null,
   "id": "7ee00249",
   "metadata": {},
   "outputs": [],
   "source": [
    "'abcd'.isalnum()"
   ]
  },
  {
   "cell_type": "code",
   "execution_count": null,
   "id": "08ae90a6",
   "metadata": {},
   "outputs": [],
   "source": [
    "ms1 = 'World Health Org'\n",
    "\n",
    "r = ms1.split()\n",
    "print(type(r))\n",
    "print(r)"
   ]
  },
  {
   "cell_type": "code",
   "execution_count": null,
   "id": "1ba4f032",
   "metadata": {},
   "outputs": [],
   "source": [
    "ms1 = 'World Health Org'\n",
    "\n",
    "r = ms1.split(None,1)\n",
    "print(type(r))\n",
    "print(r)"
   ]
  },
  {
   "cell_type": "code",
   "execution_count": null,
   "id": "ddfe3e05",
   "metadata": {},
   "outputs": [],
   "source": [
    "ms1 = 'World Health Org'\n",
    "\n",
    "r = ms1.split(maxsplit=1)\n",
    "print(type(r))\n",
    "print(r)"
   ]
  },
  {
   "cell_type": "code",
   "execution_count": null,
   "id": "099d92d0",
   "metadata": {},
   "outputs": [],
   "source": [
    "ms1 = 'World_Health_Org'\n",
    "\n",
    "r = ms1.split('_')\n",
    "print(type(r))\n",
    "print(r)"
   ]
  },
  {
   "cell_type": "code",
   "execution_count": null,
   "id": "76a950a0",
   "metadata": {},
   "outputs": [],
   "source": [
    "ms1 = 'World_Health_Org'\n",
    "\n",
    "r = ms1.split()\n",
    "print(type(r))\n",
    "print(r)"
   ]
  },
  {
   "cell_type": "code",
   "execution_count": null,
   "id": "b7194f02",
   "metadata": {},
   "outputs": [],
   "source": [
    "list_of_strings = ['python', 'data', 'science']\n",
    "\n",
    "joining_sep = '_'\n",
    "\n",
    "ns1 = joining_sep.join(list_of_strings)\n",
    "print(ns1)"
   ]
  },
  {
   "cell_type": "code",
   "execution_count": null,
   "id": "b4d68eb3",
   "metadata": {},
   "outputs": [],
   "source": [
    "list_of_strings = ['python', 'data', 'science']\n",
    "\n",
    "ns1 = '::'.join(list_of_strings)\n",
    "print(ns1)"
   ]
  },
  {
   "cell_type": "code",
   "execution_count": null,
   "id": "4613aac4",
   "metadata": {},
   "outputs": [],
   "source": [
    "list_of_strings = ['python', 'data', 'science']\n",
    "\n",
    "ns1 = ''.join(list_of_strings)\n",
    "print(ns1)"
   ]
  },
  {
   "cell_type": "code",
   "execution_count": null,
   "id": "8d800255",
   "metadata": {},
   "outputs": [],
   "source": [
    "list_of_strings = ['python', 'data', 'science']\n",
    "\n",
    "ns1 = '_PES_'.join(list_of_strings)\n",
    "print(ns1)"
   ]
  },
  {
   "cell_type": "raw",
   "id": "3aedb03d",
   "metadata": {},
   "source": [
    "Average Math Marks of 50 students is 97.65 in this exam"
   ]
  },
  {
   "cell_type": "code",
   "execution_count": null,
   "id": "7ab90f1e",
   "metadata": {},
   "outputs": [],
   "source": [
    "sub = 'Science'; num = 55; avg = 98.76\n",
    "\n",
    "#unconstrained formatting\n",
    "ns1 = 'Average {} marks of {} students is {} in exam'.format(sub,num,avg)\n",
    "print(ns1)"
   ]
  },
  {
   "cell_type": "code",
   "execution_count": null,
   "id": "5e485dc7",
   "metadata": {},
   "outputs": [],
   "source": [
    "sub = 'Science'; num = 55; avg = 98.76\n",
    "\n",
    "ns1 = 'Average {} marks of {} students is {} in exam'.format(sub,num)\n",
    "print(ns1)"
   ]
  },
  {
   "cell_type": "code",
   "execution_count": null,
   "id": "c2b5a7a4",
   "metadata": {},
   "outputs": [],
   "source": [
    "sub = 'Science'; num = 55; avg = 98.76\n",
    "\n",
    "# formatting\n",
    "ns1 = 'Average {:s} marks of {:d} students is {:.1f} exam'.format(sub,num,avg)\n",
    "print(ns1)"
   ]
  },
  {
   "cell_type": "code",
   "execution_count": null,
   "id": "8f659be9",
   "metadata": {},
   "outputs": [],
   "source": [
    "sub = 'Science'; num = 55; avg = 98.76\n",
    "\n",
    "# datatype constraint formatting\n",
    "ns1 = 'Average {:s} marks of {:d} students is {:f} exam'.format(num,sub,avg)\n",
    "print(ns1)"
   ]
  },
  {
   "cell_type": "code",
   "execution_count": null,
   "id": "33a82d40",
   "metadata": {},
   "outputs": [],
   "source": [
    "help('FORMATTING')"
   ]
  },
  {
   "cell_type": "code",
   "execution_count": null,
   "id": "c184357b",
   "metadata": {},
   "outputs": [],
   "source": [
    "sub = 'Science'; num = 55; avg = 98.76\n",
    "\n",
    "# replacement index and data type constraint formatting\n",
    "ns1 = 'Average {1:s} marks of {0:d} students is {2:f} exam'.format(num,sub,avg)\n",
    "print(ns1)"
   ]
  },
  {
   "cell_type": "code",
   "execution_count": null,
   "id": "d07748ed",
   "metadata": {},
   "outputs": [],
   "source": [
    "sub = 'Science'; num = 55; avg = 98.76\n",
    "\n",
    "# replacement index constraint formatting\n",
    "ns1 = 'Average {1} marks of {0} students is {2} exam'.format(num,sub,avg)\n",
    "print(ns1)"
   ]
  },
  {
   "cell_type": "code",
   "execution_count": null,
   "id": "7528ee3d",
   "metadata": {},
   "outputs": [],
   "source": [
    "sub = 'Science'; num = 55; avg = 98.76\n",
    "\n",
    "# replacement index constraint formatting\n",
    "ns1 = 'Average {1} marks of {1} students is {1} exam'.format(num,sub,avg)\n",
    "print(ns1)"
   ]
  },
  {
   "cell_type": "code",
   "execution_count": null,
   "id": "ae36c2b2",
   "metadata": {},
   "outputs": [],
   "source": [
    "ns1 = \"s{:04d}e\".format(23)\n",
    "print(ns1)"
   ]
  },
  {
   "cell_type": "code",
   "execution_count": null,
   "id": "c898fe5c",
   "metadata": {},
   "outputs": [],
   "source": [
    "ns1 = \"s{:s}e\".format('PYTHON');  print(ns1)"
   ]
  },
  {
   "cell_type": "code",
   "execution_count": null,
   "id": "4bf51197",
   "metadata": {},
   "outputs": [],
   "source": [
    "ns1 = \"s{:10s}e\".format('PYTHON');  print(ns1)"
   ]
  },
  {
   "cell_type": "code",
   "execution_count": null,
   "id": "33f29de7",
   "metadata": {},
   "outputs": [],
   "source": [
    "ns1 = \"s{:<10s}e\".format('PYTHON');  print(ns1)"
   ]
  },
  {
   "cell_type": "code",
   "execution_count": null,
   "id": "bb873f5a",
   "metadata": {},
   "outputs": [],
   "source": [
    "ns1 = \"s{:>10s}e\".format('PYTHON');  print(ns1)"
   ]
  },
  {
   "cell_type": "code",
   "execution_count": null,
   "id": "e155b7b3",
   "metadata": {},
   "outputs": [],
   "source": [
    "ns1 = \"s{:^10s}e\".format('PYTHON');  print(ns1)"
   ]
  },
  {
   "cell_type": "code",
   "execution_count": null,
   "id": "d8f8417f",
   "metadata": {},
   "outputs": [],
   "source": [
    "ns1 = \"s{:*^10s}e\".format('PYTHOND');  print(ns1)"
   ]
  },
  {
   "cell_type": "code",
   "execution_count": null,
   "id": "4a1519a3",
   "metadata": {},
   "outputs": [],
   "source": [
    "ns1 = \"s{:*^10s}e\".format('PYTHONDATASCIENCE');  print(ns1)"
   ]
  },
  {
   "cell_type": "code",
   "execution_count": null,
   "id": "1c146354",
   "metadata": {},
   "outputs": [],
   "source": [
    "for i in range(0,10):\n",
    "    print(\"{}\".format('*' * i))"
   ]
  },
  {
   "cell_type": "code",
   "execution_count": null,
   "id": "01e41647",
   "metadata": {},
   "outputs": [],
   "source": [
    "for i in range(1,10,2):\n",
    "    print(\"{:^10s}\".format('*' * i))"
   ]
  },
  {
   "cell_type": "code",
   "execution_count": null,
   "id": "6e793a9f",
   "metadata": {},
   "outputs": [],
   "source": [
    "for i in range(1,10,2):\n",
    "    print(\"{:<10s}\".format('*' * i))"
   ]
  },
  {
   "cell_type": "code",
   "execution_count": null,
   "id": "dca53082",
   "metadata": {},
   "outputs": [],
   "source": [
    "for i in range(1,10,2):\n",
    "    print(\"{:>10s}\".format('*' * i))"
   ]
  },
  {
   "cell_type": "code",
   "execution_count": null,
   "id": "04597c0c",
   "metadata": {},
   "outputs": [],
   "source": [
    "list(range(1,10,2))"
   ]
  },
  {
   "cell_type": "code",
   "execution_count": null,
   "id": "f0c51df1",
   "metadata": {},
   "outputs": [],
   "source": [
    "print('StockExchange')"
   ]
  },
  {
   "cell_type": "code",
   "execution_count": null,
   "id": "620d18ba",
   "metadata": {},
   "outputs": [],
   "source": [
    "print('Stock\\nExchange')"
   ]
  },
  {
   "cell_type": "code",
   "execution_count": null,
   "id": "9a6dab98",
   "metadata": {},
   "outputs": [],
   "source": [
    "print('Stock\\tExchange')"
   ]
  },
  {
   "cell_type": "code",
   "execution_count": null,
   "id": "0254db1b",
   "metadata": {},
   "outputs": [],
   "source": [
    "print('Stock\\bExchange')"
   ]
  },
  {
   "cell_type": "code",
   "execution_count": null,
   "id": "77438ea4",
   "metadata": {},
   "outputs": [],
   "source": [
    "print('StockExchange\\rMumbai')"
   ]
  },
  {
   "cell_type": "code",
   "execution_count": null,
   "id": "bef9da0b",
   "metadata": {},
   "outputs": [],
   "source": [
    "print(\"c:\\tiger\")"
   ]
  },
  {
   "cell_type": "code",
   "execution_count": null,
   "id": "8bb5cbcb",
   "metadata": {},
   "outputs": [],
   "source": [
    "print(\"c:\\\\tiger\")"
   ]
  },
  {
   "cell_type": "code",
   "execution_count": null,
   "id": "231b97de",
   "metadata": {},
   "outputs": [],
   "source": [
    "print(\"c:\\wiger\")"
   ]
  },
  {
   "cell_type": "markdown",
   "id": "4d55bed2",
   "metadata": {},
   "source": [
    "# List"
   ]
  },
  {
   "cell_type": "code",
   "execution_count": null,
   "id": "e65baecf",
   "metadata": {},
   "outputs": [],
   "source": [
    "mlist1 = list('python')\n",
    "print(mlist1)\n",
    "print(type(mlist1))\n",
    "print(len(mlist1))"
   ]
  },
  {
   "cell_type": "code",
   "execution_count": null,
   "id": "2dd1d926",
   "metadata": {},
   "outputs": [],
   "source": [
    "mlist1 = list('pythondatascience')\n",
    "print(mlist1)"
   ]
  },
  {
   "cell_type": "code",
   "execution_count": null,
   "id": "2b913ed8",
   "metadata": {},
   "outputs": [],
   "source": [
    "print(mlist1[2:20:3])"
   ]
  },
  {
   "cell_type": "code",
   "execution_count": null,
   "id": "86fa7e4d",
   "metadata": {},
   "outputs": [],
   "source": [
    "print(mlist1[::-1])"
   ]
  },
  {
   "cell_type": "code",
   "execution_count": null,
   "id": "38ad0ece",
   "metadata": {},
   "outputs": [],
   "source": [
    "[1,2,3] + [4,5,6]"
   ]
  },
  {
   "cell_type": "code",
   "execution_count": null,
   "id": "075740ff",
   "metadata": {},
   "outputs": [],
   "source": [
    "[1,2,3] * 4"
   ]
  },
  {
   "cell_type": "code",
   "execution_count": null,
   "id": "95e3dd20",
   "metadata": {},
   "outputs": [],
   "source": [
    "aclist = [123,456,789]\n",
    "123 in aclist"
   ]
  },
  {
   "cell_type": "raw",
   "id": "ab1581e3",
   "metadata": {},
   "source": [
    "1 2 3\n",
    "4 5 6"
   ]
  },
  {
   "cell_type": "code",
   "execution_count": null,
   "id": "ebf4680d",
   "metadata": {},
   "outputs": [],
   "source": [
    "mylist23 = [\n",
    "    [1,2,3],\n",
    "    [4,5,6]\n",
    "]\n",
    "\n",
    "print(mylist23)"
   ]
  },
  {
   "cell_type": "code",
   "execution_count": null,
   "id": "044aa328",
   "metadata": {},
   "outputs": [],
   "source": [
    "print(dir(list))"
   ]
  },
  {
   "cell_type": "code",
   "execution_count": null,
   "id": "3616cadf",
   "metadata": {},
   "outputs": [],
   "source": [
    "mylist1 = [1,2,3,4,5,6]\n",
    "print(mylist1)\n",
    "\n",
    "a = mylist1.append(222)\n",
    "print(a)\n",
    "\n",
    "print(mylist1)"
   ]
  },
  {
   "cell_type": "code",
   "execution_count": null,
   "id": "51f44461",
   "metadata": {},
   "outputs": [],
   "source": [
    "mylist1 = [1,2,3,4,5,6]\n",
    "print(mylist1)\n",
    "\n",
    "mylist1.append(222)\n",
    "print(mylist1)"
   ]
  },
  {
   "cell_type": "code",
   "execution_count": null,
   "id": "7b0717ca",
   "metadata": {},
   "outputs": [],
   "source": [
    "mylist1 = [1,2,3,4,5,6]\n",
    "print(mylist1)\n",
    "\n",
    "mylist1.append( [111,222,333] )\n",
    "print(mylist1)"
   ]
  },
  {
   "cell_type": "code",
   "execution_count": null,
   "id": "b6bf8df5",
   "metadata": {},
   "outputs": [],
   "source": [
    "mylist1 = [1,2,3,4,5,6]\n",
    "print(mylist1)\n",
    "\n",
    "mylist1.extend( [111,222,333, 'Hello'] )\n",
    "print(mylist1)"
   ]
  },
  {
   "cell_type": "code",
   "execution_count": null,
   "id": "893650e0",
   "metadata": {},
   "outputs": [],
   "source": [
    "mylist1 = [1,2,3,4,5,6]\n",
    "print(mylist1)\n",
    "\n",
    "mylist1.insert(0,222)\n",
    "print(mylist1)"
   ]
  },
  {
   "cell_type": "code",
   "execution_count": null,
   "id": "ad047e91",
   "metadata": {},
   "outputs": [],
   "source": [
    "mylist1 = [1,2,3,4,5,6]\n",
    "print(mylist1)\n",
    "\n",
    "mylist1.insert(-1,222)\n",
    "print(mylist1)"
   ]
  },
  {
   "cell_type": "code",
   "execution_count": null,
   "id": "af4951df",
   "metadata": {},
   "outputs": [],
   "source": [
    "mylist1 = [1,2,3,4,5,6]\n",
    "print(mylist1)\n",
    "\n",
    "mylist2 = [111,222,333]\n",
    "print(mylist2)\n",
    "\n",
    "mylist1.append(mylist2)\n",
    "\n",
    "print(mylist1)"
   ]
  },
  {
   "cell_type": "code",
   "execution_count": null,
   "id": "803799be",
   "metadata": {},
   "outputs": [],
   "source": [
    "mylist1 = [1,2,3,4,5,6]\n",
    "print(mylist1)\n",
    "\n",
    "r = mylist1.pop()\n",
    "print(r)\n",
    "\n",
    "print(mylist1)"
   ]
  },
  {
   "cell_type": "code",
   "execution_count": null,
   "id": "ca14a435",
   "metadata": {},
   "outputs": [],
   "source": [
    "mylist1 = [1,2,3,4,5,6]\n",
    "print(mylist1)\n",
    "\n",
    "r = mylist1.pop(1)\n",
    "print(r)\n",
    "\n",
    "print(mylist1)"
   ]
  },
  {
   "cell_type": "code",
   "execution_count": null,
   "id": "cfd99b25",
   "metadata": {},
   "outputs": [],
   "source": [
    "mylist1 = list('pythondatascience')\n",
    "print(mylist1)\n",
    "\n",
    "mylist1.remove('a')\n",
    "print(mylist1)"
   ]
  },
  {
   "cell_type": "code",
   "execution_count": null,
   "id": "d517e95d",
   "metadata": {},
   "outputs": [],
   "source": [
    "mylist1 = list('pythondatascience')\n",
    "print(mylist1)\n",
    "\n",
    "mylist1.remove('z')\n",
    "print(mylist1)"
   ]
  },
  {
   "cell_type": "code",
   "execution_count": null,
   "id": "71febe3f",
   "metadata": {},
   "outputs": [],
   "source": [
    "mylist1 = list('pythondatascience')\n",
    "print(mylist1)\n",
    "\n",
    "while 'a' in mylist1:\n",
    "    mylist1.remove('a')\n",
    "    \n",
    "print(mylist1)"
   ]
  },
  {
   "cell_type": "code",
   "execution_count": null,
   "id": "61563725",
   "metadata": {},
   "outputs": [],
   "source": [
    "mylist1 = list('pythondatascience')\n",
    "print(mylist1)\n",
    "\n",
    "print(mylist1.index('a'))\n",
    "print(mylist1.count('a'))"
   ]
  },
  {
   "cell_type": "code",
   "execution_count": null,
   "id": "121ca718",
   "metadata": {},
   "outputs": [],
   "source": [
    "mylist1 = [44,33,11,66,55]\n",
    "print(max(mylist1))\n",
    "print(min(mylist1))"
   ]
  },
  {
   "cell_type": "code",
   "execution_count": null,
   "id": "b22569b2",
   "metadata": {},
   "outputs": [],
   "source": [
    "mylist1 = list('python')\n",
    "print(max(mylist1))\n",
    "print(min(mylist1))"
   ]
  },
  {
   "cell_type": "code",
   "execution_count": null,
   "id": "d830e11f",
   "metadata": {},
   "outputs": [],
   "source": [
    "ord('p')"
   ]
  },
  {
   "cell_type": "code",
   "execution_count": null,
   "id": "27e30453",
   "metadata": {},
   "outputs": [],
   "source": [
    "ord('a')"
   ]
  },
  {
   "cell_type": "code",
   "execution_count": null,
   "id": "8689a4b1",
   "metadata": {},
   "outputs": [],
   "source": [
    "chr(97)"
   ]
  },
  {
   "cell_type": "code",
   "execution_count": null,
   "id": "c726d05c",
   "metadata": {},
   "outputs": [],
   "source": [
    "chr(0x20b9)"
   ]
  },
  {
   "cell_type": "code",
   "execution_count": null,
   "id": "9bdc3345",
   "metadata": {},
   "outputs": [],
   "source": [
    "mylist1 = list('python')\n",
    "print(mylist1)\n",
    "mylist1.clear()\n",
    "print(mylist1)"
   ]
  },
  {
   "cell_type": "code",
   "execution_count": null,
   "id": "35a8f56b",
   "metadata": {},
   "outputs": [],
   "source": [
    "mylist1 = [11,22,33]\n",
    "mylist2 = mylist1   ##  created a View to the same list\n",
    "print(id(mylist1))\n",
    "print(id(mylist2))\n",
    "print(mylist1)\n",
    "print(mylist2)\n",
    "\n",
    "mylist2[0] = 'Hello'\n",
    "\n",
    "print(mylist1)\n",
    "print(mylist2)"
   ]
  },
  {
   "cell_type": "code",
   "execution_count": null,
   "id": "065ab478",
   "metadata": {},
   "outputs": [],
   "source": [
    "mylist1 == mylist2"
   ]
  },
  {
   "cell_type": "code",
   "execution_count": null,
   "id": "fa944c9e",
   "metadata": {},
   "outputs": [],
   "source": [
    "mylist1 is mylist2"
   ]
  },
  {
   "cell_type": "code",
   "execution_count": null,
   "id": "08e5453a",
   "metadata": {},
   "outputs": [],
   "source": [
    "mylist1 = [11,22,33]\n",
    "mylist2 = mylist1.copy()   ##  created a copy of the same list\n",
    "print(id(mylist1))\n",
    "print(id(mylist2))\n",
    "print(mylist1)\n",
    "print(mylist2)\n",
    "\n",
    "mylist2[0] = 'Hello'\n",
    "\n",
    "print(mylist1)\n",
    "print(mylist2)"
   ]
  },
  {
   "cell_type": "code",
   "execution_count": null,
   "id": "4820e960",
   "metadata": {},
   "outputs": [],
   "source": [
    "mylist1 = [11,22,33]\n",
    "mylist1.reverse()\n",
    "print(mylist1)"
   ]
  },
  {
   "cell_type": "markdown",
   "id": "d18a9202",
   "metadata": {},
   "source": [
    "# List Sort"
   ]
  },
  {
   "cell_type": "code",
   "execution_count": null,
   "id": "6d6b2cc0",
   "metadata": {},
   "outputs": [],
   "source": [
    "mylist1 = [22,11,77,66,55]\n",
    "mylist1.sort()\n",
    "print(mylist1)"
   ]
  },
  {
   "cell_type": "code",
   "execution_count": null,
   "id": "649fb5b1",
   "metadata": {},
   "outputs": [],
   "source": [
    "mylist1 = [22,11,77,66,55]\n",
    "mylist1.sort(reverse=True)\n",
    "print(mylist1)"
   ]
  },
  {
   "cell_type": "code",
   "execution_count": null,
   "id": "93b1f002",
   "metadata": {},
   "outputs": [],
   "source": [
    "mylist1 = list('python')\n",
    "print(mylist1)\n",
    "mylist1.sort()\n",
    "print(mylist1)"
   ]
  },
  {
   "cell_type": "code",
   "execution_count": null,
   "id": "6ea4df80",
   "metadata": {},
   "outputs": [],
   "source": [
    "mylist1 = [22,11,77,66,55,'hello',[666,777,888], 44]\n",
    "mylist1.sort()\n",
    "print(mylist1)"
   ]
  },
  {
   "cell_type": "code",
   "execution_count": null,
   "id": "5b21ffa7",
   "metadata": {},
   "outputs": [],
   "source": [
    "23 > 'a'"
   ]
  },
  {
   "cell_type": "code",
   "execution_count": null,
   "id": "59449b62",
   "metadata": {},
   "outputs": [],
   "source": [
    "mylist1 = [22,11,77,66,55,'hello',[666,777,888], 44]\n",
    "mylist1.sort()\n",
    "print(mylist1)"
   ]
  },
  {
   "cell_type": "code",
   "execution_count": null,
   "id": "4ca55ed2",
   "metadata": {},
   "outputs": [],
   "source": [
    "isinstance(20,int)"
   ]
  },
  {
   "cell_type": "code",
   "execution_count": null,
   "id": "1847d314",
   "metadata": {},
   "outputs": [],
   "source": [
    "isinstance('hello',int)"
   ]
  },
  {
   "cell_type": "code",
   "execution_count": null,
   "id": "fea418b6",
   "metadata": {},
   "outputs": [],
   "source": [
    "isinstance(20.45,  (int,float)  )"
   ]
  },
  {
   "cell_type": "code",
   "execution_count": null,
   "id": "6b796f28",
   "metadata": {},
   "outputs": [],
   "source": [
    "def keysort(obj):\n",
    "    if isinstance(obj, (int,float) ):\n",
    "        return obj\n",
    "    \n",
    "    if isinstance(obj, (str,list) ):\n",
    "        return len(obj)\n",
    "    \n",
    "    return 1000\n",
    "\n",
    "mylist1 = [2.45,11,77,66,55,'hello',[666,777,888], 44, (666,999)]\n",
    "mylist1.sort(key=keysort)\n",
    "print(mylist1)"
   ]
  },
  {
   "cell_type": "markdown",
   "id": "53211379",
   "metadata": {},
   "source": [
    "# Tuple"
   ]
  },
  {
   "cell_type": "code",
   "execution_count": null,
   "id": "2972f109",
   "metadata": {},
   "outputs": [],
   "source": [
    "mt1 = (1,2,3)\n",
    "print(type(mt1))\n",
    "print(len(mt1))\n",
    "print(mt1)"
   ]
  },
  {
   "cell_type": "code",
   "execution_count": null,
   "id": "fad7a302",
   "metadata": {},
   "outputs": [],
   "source": [
    "mt1 = (111)\n",
    "print(type(mt1))\n",
    "print(mt1)"
   ]
  },
  {
   "cell_type": "code",
   "execution_count": null,
   "id": "8bec1d09",
   "metadata": {},
   "outputs": [],
   "source": [
    "mt1 = (111*4) + (2*3)\n",
    "print(type(mt1))\n",
    "print(mt1)"
   ]
  },
  {
   "cell_type": "code",
   "execution_count": null,
   "id": "b1f373f0",
   "metadata": {},
   "outputs": [],
   "source": [
    "mt1 = (111,)\n",
    "print(type(mt1))\n",
    "print(mt1)"
   ]
  },
  {
   "cell_type": "code",
   "execution_count": null,
   "id": "7d7e71d6",
   "metadata": {},
   "outputs": [],
   "source": [
    "mt1 = tuple([111])\n",
    "print(mt1)"
   ]
  },
  {
   "cell_type": "code",
   "execution_count": null,
   "id": "59b2efeb",
   "metadata": {},
   "outputs": [],
   "source": [
    "mt1 = tuple('python')\n",
    "mt1"
   ]
  },
  {
   "cell_type": "code",
   "execution_count": null,
   "id": "148d979c",
   "metadata": {},
   "outputs": [],
   "source": [
    "print(dir(tuple))"
   ]
  },
  {
   "cell_type": "code",
   "execution_count": null,
   "id": "e074e66f",
   "metadata": {},
   "outputs": [],
   "source": [
    "mt1 = tuple('pythondata')"
   ]
  },
  {
   "cell_type": "code",
   "execution_count": null,
   "id": "f003f26c",
   "metadata": {},
   "outputs": [],
   "source": [
    "mt1.index('a')"
   ]
  },
  {
   "cell_type": "code",
   "execution_count": null,
   "id": "362eafe2",
   "metadata": {},
   "outputs": [],
   "source": [
    "mt1.count('a')"
   ]
  },
  {
   "cell_type": "code",
   "execution_count": null,
   "id": "d7f4954c",
   "metadata": {},
   "outputs": [],
   "source": [
    "mt1 = (11,22,55,44)\n",
    "templist = list(mt1)\n",
    "templist.append(55)\n",
    "mt1 = tuple(templist)\n",
    "print(mt1)"
   ]
  },
  {
   "cell_type": "markdown",
   "id": "d96be7d3",
   "metadata": {},
   "source": [
    "# Dictionary"
   ]
  },
  {
   "cell_type": "code",
   "execution_count": null,
   "id": "d0285662",
   "metadata": {},
   "outputs": [],
   "source": [
    "md1 = {'Bank':'SBI', 'Branch':'MGROAD', 'City':'Delhi', 91:'India'}\n",
    "print(type(md1))\n",
    "print(len(md1))\n",
    "print(md1)"
   ]
  },
  {
   "cell_type": "code",
   "execution_count": null,
   "id": "2c0936e5",
   "metadata": {},
   "outputs": [],
   "source": [
    "md1[0]"
   ]
  },
  {
   "cell_type": "code",
   "execution_count": null,
   "id": "cd82ca07",
   "metadata": {},
   "outputs": [],
   "source": [
    "md1[91]"
   ]
  },
  {
   "cell_type": "code",
   "execution_count": null,
   "id": "f6139cf3",
   "metadata": {},
   "outputs": [],
   "source": [
    "md1['Bank']"
   ]
  },
  {
   "cell_type": "code",
   "execution_count": null,
   "id": "38bc6725",
   "metadata": {},
   "outputs": [],
   "source": [
    "md1['Bank'] = 'Axis'"
   ]
  },
  {
   "cell_type": "code",
   "execution_count": null,
   "id": "0038dbf6",
   "metadata": {},
   "outputs": [],
   "source": [
    "md1"
   ]
  },
  {
   "cell_type": "code",
   "execution_count": null,
   "id": "a5210f97",
   "metadata": {},
   "outputs": [],
   "source": [
    "md1['State']"
   ]
  },
  {
   "cell_type": "code",
   "execution_count": null,
   "id": "43c77c6b",
   "metadata": {},
   "outputs": [],
   "source": [
    "md1['State'] = 'Delhi'"
   ]
  },
  {
   "cell_type": "code",
   "execution_count": null,
   "id": "a00c7afc",
   "metadata": {},
   "outputs": [],
   "source": [
    "md1"
   ]
  },
  {
   "cell_type": "code",
   "execution_count": null,
   "id": "d7ebb4a0",
   "metadata": {},
   "outputs": [],
   "source": [
    "print(md1)"
   ]
  },
  {
   "cell_type": "code",
   "execution_count": null,
   "id": "6eb682ff",
   "metadata": {},
   "outputs": [],
   "source": [
    "md1 = {'Bank':'SBI', \n",
    "       'Branch':'MGROAD', \n",
    "       'City':'Delhi', \n",
    "       'State':'Delhi',\n",
    "      'Bank':'Axis'}\n",
    "\n",
    "print(md1)"
   ]
  },
  {
   "cell_type": "code",
   "execution_count": null,
   "id": "67b25202",
   "metadata": {},
   "outputs": [],
   "source": [
    "del md1['City']"
   ]
  },
  {
   "cell_type": "code",
   "execution_count": null,
   "id": "362857b8",
   "metadata": {},
   "outputs": [],
   "source": [
    "md1"
   ]
  },
  {
   "cell_type": "code",
   "execution_count": null,
   "id": "0bb5228c",
   "metadata": {},
   "outputs": [],
   "source": [
    "hash('PYTHON')"
   ]
  },
  {
   "cell_type": "code",
   "execution_count": null,
   "id": "2f83a54f",
   "metadata": {},
   "outputs": [],
   "source": [
    "hash('python')"
   ]
  },
  {
   "cell_type": "code",
   "execution_count": null,
   "id": "f2e1409f",
   "metadata": {},
   "outputs": [],
   "source": [
    "hash(\"PYTHO\")"
   ]
  },
  {
   "cell_type": "code",
   "execution_count": null,
   "id": "50ee977e",
   "metadata": {},
   "outputs": [],
   "source": [
    "print(dir(dict))"
   ]
  },
  {
   "cell_type": "code",
   "execution_count": null,
   "id": "b5a017f3",
   "metadata": {},
   "outputs": [],
   "source": [
    "md1 = {'Bank':'SBI', 'Branch':'MGROAD', 'City':'Delhi'}\n",
    "print(md1)\n",
    "\n",
    "k = md1.keys()\n",
    "print(k)  ##  list-like\n",
    "print(type(k))\n",
    "\n",
    "keylist = list(k)\n",
    "print(keylist)"
   ]
  },
  {
   "cell_type": "code",
   "execution_count": null,
   "id": "808a425c",
   "metadata": {},
   "outputs": [],
   "source": [
    "k[0]"
   ]
  },
  {
   "cell_type": "code",
   "execution_count": null,
   "id": "93be4e9c",
   "metadata": {},
   "outputs": [],
   "source": [
    "md1 = {'Bank':'SBI', 'Branch':'MGROAD', 'City':'Delhi'}\n",
    "print(md1)\n",
    "\n",
    "v = md1.values()\n",
    "print(v)  ##  list-like\n",
    "print(type(v))\n",
    "\n",
    "valuelist = list(v)\n",
    "print(valuelist)"
   ]
  },
  {
   "cell_type": "code",
   "execution_count": null,
   "id": "ab3c3ac0",
   "metadata": {},
   "outputs": [],
   "source": [
    "md1 = {'Bank':'SBI', 'Branch':'MGROAD', 'City':'Delhi'}\n",
    "print(md1)\n",
    "\n",
    "kv = md1.items()\n",
    "print(kv)  ##  list-like\n",
    "print(type(kv))\n",
    "\n",
    "keyvaluelist = list(kv)\n",
    "print(keyvaluelist)"
   ]
  },
  {
   "cell_type": "code",
   "execution_count": null,
   "id": "015723d5",
   "metadata": {},
   "outputs": [],
   "source": [
    "md1 = {'Bank':'SBI', 'Branch':'MGROAD', 'City':'Delhi'}\n",
    "print(md1)\n",
    "\n",
    "r = md1.get('Branch')\n",
    "print(r)"
   ]
  },
  {
   "cell_type": "code",
   "execution_count": null,
   "id": "d1a2505c",
   "metadata": {},
   "outputs": [],
   "source": [
    "md1 = {'Bank':'SBI', 'Branch':'MGROAD', 'City':'Delhi'}\n",
    "print(md1)\n",
    "\n",
    "r = md1.get('State')\n",
    "print(r)"
   ]
  },
  {
   "cell_type": "code",
   "execution_count": null,
   "id": "756a5bdf",
   "metadata": {},
   "outputs": [],
   "source": [
    "md1 = {'Bank':'SBI', 'Branch':'MGROAD', 'City':'Delhi'}\n",
    "print(md1)\n",
    "\n",
    "r = md1.get('State', 'Unknown')\n",
    "print(r)"
   ]
  },
  {
   "cell_type": "code",
   "execution_count": null,
   "id": "7399280a",
   "metadata": {},
   "outputs": [],
   "source": [
    "md1 = {'Bank':'SBI', 'Branch':'MGROAD', 'City':'Delhi'}\n",
    "print(md1)\n",
    "\n",
    "r = md1.get('Bank', 'Unknown')\n",
    "print(r)\n",
    "\n",
    "r = md1.get('State', 'Unknown')\n",
    "print(r)"
   ]
  },
  {
   "cell_type": "code",
   "execution_count": null,
   "id": "2faa6bab",
   "metadata": {},
   "outputs": [],
   "source": [
    "md1 = {'Bank':'SBI', 'Branch':'MGROAD', 'City':'Delhi'}\n",
    "print(md1)\n",
    "\n",
    "r = md1.pop('Bank')\n",
    "print(r)\n",
    "\n",
    "print(md1)"
   ]
  },
  {
   "cell_type": "code",
   "execution_count": null,
   "id": "f15e7fe6",
   "metadata": {},
   "outputs": [],
   "source": [
    "md1 = {'Bank':'SBI', 'Branch':'MGROAD', 'City':'Delhi'}\n",
    "print(md1)\n",
    "\n",
    "r = md1.pop('State')\n",
    "print(r)\n",
    "\n",
    "print(md1)"
   ]
  },
  {
   "cell_type": "code",
   "execution_count": null,
   "id": "7f3bfc6b",
   "metadata": {},
   "outputs": [],
   "source": [
    "md1 = {'Bank':'SBI', 'Branch':'MGROAD', 'City':'Delhi'}\n",
    "print(md1)\n",
    "\n",
    "r = md1.pop('State', 'Key Not Present')\n",
    "print(r)\n",
    "\n",
    "print(md1)"
   ]
  },
  {
   "cell_type": "code",
   "execution_count": null,
   "id": "cf83b99a",
   "metadata": {},
   "outputs": [],
   "source": [
    "md1 = {'Bank':'SBI', 'Branch':'MGROAD', 'City':'Delhi'}\n",
    "print(md1)\n",
    "\n",
    "r = md1.pop('Bank', 'Key Not Present')\n",
    "print(r)\n",
    "\n",
    "print(md1)"
   ]
  },
  {
   "cell_type": "code",
   "execution_count": null,
   "id": "c89a5627",
   "metadata": {},
   "outputs": [],
   "source": [
    "md1 = {'Bank':'SBI', 'Branch':'MGROAD', 'City':'Delhi'}\n",
    "print(md1)\n",
    "\n",
    "md2 = {'Bank':'Axis', 'State':'Delhi'}\n",
    "print(md2)\n",
    "\n",
    "md1.update(md2)\n",
    "print(md1)"
   ]
  },
  {
   "cell_type": "code",
   "execution_count": null,
   "id": "63f5e38b",
   "metadata": {},
   "outputs": [],
   "source": [
    "md1 = {'Bank':'SBI', 'Branch':'MGROAD', 'City':'Delhi'}\n",
    "print(md1)\n",
    "\n",
    "md1.update([('Bank','ICICI'),('State','Delhi')])\n",
    "print(md1)"
   ]
  },
  {
   "cell_type": "code",
   "execution_count": null,
   "id": "37f013ee",
   "metadata": {},
   "outputs": [],
   "source": [
    "md1 = {'Bank':'SBI', 'Branch':'MGROAD', 'City':'Delhi'}\n",
    "print(md1)\n",
    "\n",
    "r = md1.setdefault('Bank')\n",
    "print(r)\n",
    "\n",
    "print(md1)"
   ]
  },
  {
   "cell_type": "code",
   "execution_count": null,
   "id": "c000e57f",
   "metadata": {},
   "outputs": [],
   "source": [
    "md1 = {'Bank':'SBI', 'Branch':'MGROAD', 'City':'Delhi'}\n",
    "print(md1)\n",
    "\n",
    "r = md1.setdefault('State')\n",
    "print(r)\n",
    "\n",
    "print(md1)"
   ]
  },
  {
   "cell_type": "code",
   "execution_count": null,
   "id": "ab29aa0b",
   "metadata": {},
   "outputs": [],
   "source": [
    "md1 = {'Bank':'SBI', 'Branch':'MGROAD', 'City':'Delhi'}\n",
    "print(md1)\n",
    "\n",
    "r = md1.setdefault('State', 'Delhi')\n",
    "print(r)\n",
    "\n",
    "print(md1)"
   ]
  },
  {
   "cell_type": "code",
   "execution_count": null,
   "id": "38251417",
   "metadata": {},
   "outputs": [],
   "source": [
    "md1 = {'Bank':'SBI', 'Branch':'MGROAD', 'City':'Delhi'}\n",
    "print(md1)\n",
    "\n",
    "r = md1.setdefault('Bank', 'Delhi')\n",
    "print(r)\n",
    "\n",
    "print(md1)"
   ]
  },
  {
   "cell_type": "code",
   "execution_count": null,
   "id": "55f55d15",
   "metadata": {},
   "outputs": [],
   "source": []
  }
 ],
 "metadata": {
  "kernelspec": {
   "display_name": "Python 3 (ipykernel)",
   "language": "python",
   "name": "python3"
  },
  "language_info": {
   "codemirror_mode": {
    "name": "ipython",
    "version": 3
   },
   "file_extension": ".py",
   "mimetype": "text/x-python",
   "name": "python",
   "nbconvert_exporter": "python",
   "pygments_lexer": "ipython3",
   "version": "3.11.7"
  }
 },
 "nbformat": 4,
 "nbformat_minor": 5
}
