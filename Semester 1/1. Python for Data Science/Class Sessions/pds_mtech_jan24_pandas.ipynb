{
 "cells": [
  {
   "cell_type": "markdown",
   "id": "7fd635e3",
   "metadata": {},
   "source": [
    "# Pandas"
   ]
  },
  {
   "cell_type": "markdown",
   "id": "1957403f",
   "metadata": {},
   "source": [
    "# 20/Jan/2024"
   ]
  },
  {
   "cell_type": "code",
   "execution_count": null,
   "id": "92cdd12e",
   "metadata": {},
   "outputs": [],
   "source": [
    "import pandas as pd"
   ]
  },
  {
   "cell_type": "markdown",
   "id": "fcbb0054",
   "metadata": {},
   "source": [
    "# Series"
   ]
  },
  {
   "cell_type": "raw",
   "id": "4d42b881",
   "metadata": {},
   "source": [
    "Tata     100\n",
    "Birla    200\n",
    "Wipro    300\n",
    "ITC      400\n",
    "Reliance 500"
   ]
  },
  {
   "cell_type": "code",
   "execution_count": null,
   "id": "585a9e26",
   "metadata": {},
   "outputs": [],
   "source": [
    "import os\n",
    "os.getcwd()"
   ]
  },
  {
   "cell_type": "code",
   "execution_count": null,
   "id": "56586b04",
   "metadata": {},
   "outputs": [],
   "source": [
    "!dir"
   ]
  },
  {
   "cell_type": "code",
   "execution_count": null,
   "id": "a283cdce",
   "metadata": {},
   "outputs": [],
   "source": [
    "## unlabelled Series\n",
    "mylist1 = [100,200,300,400,500]\n",
    "ps1 = pd.Series(mylist1)\n",
    "print(type(ps1))\n",
    "print(ps1.shape)\n",
    "print(ps1.dtype)"
   ]
  },
  {
   "cell_type": "code",
   "execution_count": null,
   "id": "f128c45d",
   "metadata": {},
   "outputs": [],
   "source": [
    "ps1"
   ]
  },
  {
   "cell_type": "code",
   "execution_count": null,
   "id": "a7c0a0c4",
   "metadata": {},
   "outputs": [],
   "source": [
    "ps1[3]"
   ]
  },
  {
   "cell_type": "code",
   "execution_count": null,
   "id": "8765584b",
   "metadata": {},
   "outputs": [],
   "source": [
    "ps1['Wipro']"
   ]
  },
  {
   "cell_type": "code",
   "execution_count": null,
   "id": "42446b5c",
   "metadata": {},
   "outputs": [],
   "source": [
    "ps1.index"
   ]
  },
  {
   "cell_type": "code",
   "execution_count": null,
   "id": "4c381dd1",
   "metadata": {},
   "outputs": [],
   "source": [
    "## labelled Series\n",
    "mylist1 = [100,200,300,400,500]\n",
    "labels = ['Tata', 'Birla','Wipro','ITC', 'Wipro']\n",
    "\n",
    "ps1 = pd.Series(mylist1, index=labels)\n",
    "print(type(ps1))\n",
    "print(ps1.shape)\n",
    "print(ps1.dtype)\n",
    "ps1"
   ]
  },
  {
   "cell_type": "code",
   "execution_count": null,
   "id": "3559c50f",
   "metadata": {},
   "outputs": [],
   "source": [
    "ps1.index"
   ]
  },
  {
   "cell_type": "code",
   "execution_count": null,
   "id": "598852ae",
   "metadata": {},
   "outputs": [],
   "source": [
    "ps1['Wipro']"
   ]
  },
  {
   "cell_type": "code",
   "execution_count": null,
   "id": "a07e2a53",
   "metadata": {},
   "outputs": [],
   "source": [
    "ps1.count()"
   ]
  },
  {
   "cell_type": "code",
   "execution_count": null,
   "id": "7d92ba78",
   "metadata": {},
   "outputs": [],
   "source": [
    "ps1.value_counts()"
   ]
  },
  {
   "cell_type": "code",
   "execution_count": null,
   "id": "6c21f738",
   "metadata": {},
   "outputs": [],
   "source": [
    "## labelled Series\n",
    "mylist1 = [100,200,300,400,300]\n",
    "labels = ['Tata', 'Birla','Wipro','ITC', 'Reliance']\n",
    "\n",
    "ps1 = pd.Series(mylist1, index=labels)\n",
    "print(type(ps1))\n",
    "print(ps1.shape)\n",
    "print(ps1.dtype)\n",
    "ps1"
   ]
  },
  {
   "cell_type": "code",
   "execution_count": null,
   "id": "e8d825ed",
   "metadata": {},
   "outputs": [],
   "source": [
    "md1 = {'Tata':100, 'Birla':200, 'Wipro':300}\n",
    "\n",
    "ps2 = pd.Series(md1)\n",
    "ps2"
   ]
  },
  {
   "cell_type": "code",
   "execution_count": null,
   "id": "a77066cf",
   "metadata": {},
   "outputs": [],
   "source": [
    "ps2.index"
   ]
  },
  {
   "cell_type": "code",
   "execution_count": null,
   "id": "9451a188",
   "metadata": {},
   "outputs": [],
   "source": [
    "ps2.values"
   ]
  },
  {
   "cell_type": "code",
   "execution_count": null,
   "id": "39a561d3",
   "metadata": {},
   "outputs": [],
   "source": [
    "print(type(ps2.values))"
   ]
  },
  {
   "cell_type": "code",
   "execution_count": null,
   "id": "08224067",
   "metadata": {},
   "outputs": [],
   "source": [
    "ps2.keys()"
   ]
  },
  {
   "cell_type": "code",
   "execution_count": null,
   "id": "83eac58c",
   "metadata": {},
   "outputs": [],
   "source": [
    "ps2.index"
   ]
  },
  {
   "cell_type": "markdown",
   "id": "24a0e196",
   "metadata": {},
   "source": [
    "# DataFrame"
   ]
  },
  {
   "cell_type": "raw",
   "id": "394aa84f",
   "metadata": {},
   "source": [
    "        Rev Exp HQ\n",
    "Tata    100 95  'Mum'\n",
    "Birla   200 195 'Kol'\n",
    "Wipro   300 295 'Blr'\n",
    "ITC     400 395 'Kol'\n",
    "MRF     500 495 'Che'"
   ]
  },
  {
   "cell_type": "code",
   "execution_count": null,
   "id": "5d7fe203",
   "metadata": {},
   "outputs": [],
   "source": [
    "mylist53 = [\n",
    "    [100, 95, 'Mum'],\n",
    "    [200 ,195, 'Kol'],\n",
    "    [300, 295, 'Blr'],\n",
    "    [400, 395, 'Kol'],\n",
    "    [500, 495, 'Che']\n",
    "]\n",
    "\n",
    "row_labels = ['Tata','Birla','Wipro','ITC','MRF']\n",
    "col_labels = ['Rev','Exp','HQ']"
   ]
  },
  {
   "cell_type": "code",
   "execution_count": null,
   "id": "6d3b0f03",
   "metadata": {},
   "outputs": [],
   "source": [
    "df1 = pd.DataFrame(mylist53)\n",
    "print(type(df1))\n",
    "print(df1.shape)\n",
    "df1"
   ]
  },
  {
   "cell_type": "code",
   "execution_count": null,
   "id": "89365826",
   "metadata": {},
   "outputs": [],
   "source": [
    "df2 = pd.DataFrame(mylist53, index=row_labels, columns=col_labels)\n",
    "df2"
   ]
  },
  {
   "cell_type": "code",
   "execution_count": null,
   "id": "d0777e05",
   "metadata": {},
   "outputs": [],
   "source": [
    "df2.index"
   ]
  },
  {
   "cell_type": "code",
   "execution_count": null,
   "id": "bcbe43ba",
   "metadata": {},
   "outputs": [],
   "source": [
    "df2.columns"
   ]
  },
  {
   "cell_type": "code",
   "execution_count": null,
   "id": "b80da820",
   "metadata": {},
   "outputs": [],
   "source": [
    "df2"
   ]
  },
  {
   "cell_type": "code",
   "execution_count": null,
   "id": "b12752ea",
   "metadata": {},
   "outputs": [],
   "source": [
    "md2 = {\n",
    "    'Rev': [100,200,300,400,500],\n",
    "    'Exp': [95,195,295,395,495],\n",
    "    'HQ': ['Mum','Kol','Blr','Kol','Che']\n",
    "}\n",
    "df2 = pd.DataFrame(md2, index = row_labels)\n",
    "df2"
   ]
  },
  {
   "cell_type": "code",
   "execution_count": null,
   "id": "d062d2b1",
   "metadata": {},
   "outputs": [],
   "source": [
    "df1 = pd.read_csv('C:/Users/classroom/Documents/Python Scripts/mtech_blr_jan24_pds/lds1.csv')\n",
    "df1"
   ]
  },
  {
   "cell_type": "code",
   "execution_count": null,
   "id": "48f06a0d",
   "metadata": {},
   "outputs": [],
   "source": [
    "df1 = pd.read_csv('lds1.csv')\n",
    "df1"
   ]
  },
  {
   "cell_type": "code",
   "execution_count": null,
   "id": "6f901c8b",
   "metadata": {},
   "outputs": [],
   "source": [
    "df1.shape"
   ]
  },
  {
   "cell_type": "code",
   "execution_count": null,
   "id": "9052452f",
   "metadata": {},
   "outputs": [],
   "source": [
    "df1.head()"
   ]
  },
  {
   "cell_type": "code",
   "execution_count": null,
   "id": "fda417cc",
   "metadata": {},
   "outputs": [],
   "source": [
    "df1.tail(3)"
   ]
  },
  {
   "cell_type": "code",
   "execution_count": null,
   "id": "73a393c3",
   "metadata": {},
   "outputs": [],
   "source": [
    "df1.info()"
   ]
  },
  {
   "cell_type": "code",
   "execution_count": null,
   "id": "c289ada1",
   "metadata": {},
   "outputs": [],
   "source": [
    "df1.Vol.dtype"
   ]
  },
  {
   "cell_type": "code",
   "execution_count": null,
   "id": "a7c72ffc",
   "metadata": {},
   "outputs": [],
   "source": [
    "import sys"
   ]
  },
  {
   "cell_type": "code",
   "execution_count": null,
   "id": "e1174ac3",
   "metadata": {},
   "outputs": [],
   "source": [
    "sys.getsizeof(df1)"
   ]
  },
  {
   "cell_type": "code",
   "execution_count": null,
   "id": "f0d00d5e",
   "metadata": {},
   "outputs": [],
   "source": [
    "df1.values"
   ]
  },
  {
   "cell_type": "code",
   "execution_count": null,
   "id": "877d2d8d",
   "metadata": {},
   "outputs": [],
   "source": [
    "print(dir(df1)) # existing cols are added as object attributes"
   ]
  },
  {
   "cell_type": "code",
   "execution_count": null,
   "id": "af837437",
   "metadata": {},
   "outputs": [],
   "source": [
    "df1.Vol"
   ]
  },
  {
   "cell_type": "code",
   "execution_count": null,
   "id": "6abd61dc",
   "metadata": {},
   "outputs": [],
   "source": [
    "print(type(df1.Vol))"
   ]
  },
  {
   "cell_type": "code",
   "execution_count": null,
   "id": "784c8a88",
   "metadata": {},
   "outputs": [],
   "source": [
    "df1['Vol']"
   ]
  },
  {
   "cell_type": "code",
   "execution_count": null,
   "id": "6e186650",
   "metadata": {},
   "outputs": [],
   "source": [
    "r = df1.describe()\n",
    "print(type(r))\n",
    "r"
   ]
  },
  {
   "cell_type": "code",
   "execution_count": null,
   "id": "3c1dce98",
   "metadata": {},
   "outputs": [],
   "source": [
    "r.columns"
   ]
  },
  {
   "cell_type": "code",
   "execution_count": null,
   "id": "bd592314",
   "metadata": {},
   "outputs": [],
   "source": [
    "r.index"
   ]
  },
  {
   "cell_type": "code",
   "execution_count": null,
   "id": "fd57a19d",
   "metadata": {
    "scrolled": true
   },
   "outputs": [],
   "source": [
    "df1.describe(include='all')"
   ]
  },
  {
   "cell_type": "code",
   "execution_count": null,
   "id": "7462df0b",
   "metadata": {},
   "outputs": [],
   "source": [
    "df1.Sector.value_counts()"
   ]
  },
  {
   "cell_type": "code",
   "execution_count": null,
   "id": "f04902f3",
   "metadata": {},
   "outputs": [],
   "source": [
    "print(type(np.NaN))"
   ]
  },
  {
   "cell_type": "code",
   "execution_count": null,
   "id": "706d75bd",
   "metadata": {},
   "outputs": [],
   "source": [
    "import numpy as np"
   ]
  },
  {
   "cell_type": "code",
   "execution_count": null,
   "id": "7699b86d",
   "metadata": {},
   "outputs": [],
   "source": [
    "df1.describe(include='object')"
   ]
  },
  {
   "cell_type": "code",
   "execution_count": null,
   "id": "60725b1a",
   "metadata": {},
   "outputs": [],
   "source": [
    "df1.describe(include=np.int64)"
   ]
  },
  {
   "cell_type": "code",
   "execution_count": null,
   "id": "9fcabdbb",
   "metadata": {},
   "outputs": [],
   "source": [
    "df1"
   ]
  },
  {
   "cell_type": "code",
   "execution_count": null,
   "id": "cb354003",
   "metadata": {},
   "outputs": [],
   "source": [
    "df1['Zone'] = np.NaN"
   ]
  },
  {
   "cell_type": "code",
   "execution_count": null,
   "id": "41eb1da3",
   "metadata": {},
   "outputs": [],
   "source": [
    "df1"
   ]
  },
  {
   "cell_type": "code",
   "execution_count": null,
   "id": "f24cc2f2",
   "metadata": {},
   "outputs": [],
   "source": [
    "df1"
   ]
  },
  {
   "cell_type": "code",
   "execution_count": null,
   "id": "4e02fd6f",
   "metadata": {},
   "outputs": [],
   "source": [
    "df1 = pd.read_csv('lds1.csv')\n",
    "df1"
   ]
  },
  {
   "cell_type": "code",
   "execution_count": null,
   "id": "b33ac4a4",
   "metadata": {},
   "outputs": [],
   "source": [
    "df1.to_excel('file1.xlsx')"
   ]
  },
  {
   "cell_type": "code",
   "execution_count": null,
   "id": "801a3f2c",
   "metadata": {},
   "outputs": [],
   "source": [
    "df1.to_json('file1.json')"
   ]
  },
  {
   "cell_type": "code",
   "execution_count": null,
   "id": "a7985022",
   "metadata": {},
   "outputs": [],
   "source": [
    "r = df1.to_html()\n",
    "print(type(r))\n",
    "r"
   ]
  },
  {
   "cell_type": "code",
   "execution_count": null,
   "id": "8da02aa8",
   "metadata": {},
   "outputs": [],
   "source": [
    "# Writing multiple dataframes into an html file.\n",
    "\n",
    "f = open('temp.html','w')\n",
    "f.write(df1.to_html())\n",
    "f.write(df1.to_html())\n",
    "f.close()\n",
    "\n",
    "pd.read_html('temp.html', index_col=0) # list of 2 dataframes"
   ]
  },
  {
   "cell_type": "code",
   "execution_count": null,
   "id": "74ad7049",
   "metadata": {},
   "outputs": [],
   "source": [
    "df1.to_csv('file1.csv')"
   ]
  },
  {
   "cell_type": "code",
   "execution_count": null,
   "id": "cfa63448",
   "metadata": {},
   "outputs": [],
   "source": [
    "df2 = pd.read_csv('file1.csv', index_col=0)\n",
    "df2"
   ]
  },
  {
   "cell_type": "code",
   "execution_count": null,
   "id": "8abea802",
   "metadata": {},
   "outputs": [],
   "source": [
    "pd.read_excel('file1.xlsx', index_col=0)"
   ]
  },
  {
   "cell_type": "code",
   "execution_count": null,
   "id": "a1b1aaed",
   "metadata": {},
   "outputs": [],
   "source": [
    "pd.read_json('file1.json')"
   ]
  },
  {
   "cell_type": "code",
   "execution_count": null,
   "id": "894f5f13",
   "metadata": {},
   "outputs": [],
   "source": [
    "pd.read_html('file1.html', index_col=0)[0]"
   ]
  },
  {
   "cell_type": "markdown",
   "id": "461eab9b",
   "metadata": {},
   "source": [
    "# Access"
   ]
  },
  {
   "cell_type": "code",
   "execution_count": null,
   "id": "28e6e9d6",
   "metadata": {},
   "outputs": [],
   "source": [
    "df1 = pd.read_csv('lds1.csv')\n",
    "df1"
   ]
  },
  {
   "cell_type": "markdown",
   "id": "9c5d0db9",
   "metadata": {},
   "source": [
    "Direct Mode"
   ]
  },
  {
   "cell_type": "code",
   "execution_count": null,
   "id": "8507a59b",
   "metadata": {},
   "outputs": [],
   "source": [
    "df1['Vol']"
   ]
  },
  {
   "cell_type": "code",
   "execution_count": null,
   "id": "84cdb100",
   "metadata": {},
   "outputs": [],
   "source": [
    "df1.Vol"
   ]
  },
  {
   "cell_type": "code",
   "execution_count": null,
   "id": "d406c964",
   "metadata": {},
   "outputs": [],
   "source": [
    "df1['Deccan_Sporting']"
   ]
  },
  {
   "cell_type": "code",
   "execution_count": null,
   "id": "5211e1d6",
   "metadata": {},
   "outputs": [],
   "source": [
    "df1.Vol['Deccan_Sporting']"
   ]
  },
  {
   "cell_type": "code",
   "execution_count": null,
   "id": "8444071d",
   "metadata": {},
   "outputs": [],
   "source": [
    "df1['Vol']['Deccan_Sporting']"
   ]
  },
  {
   "cell_type": "code",
   "execution_count": null,
   "id": "51335fd7",
   "metadata": {},
   "outputs": [],
   "source": [
    "df1[0]"
   ]
  },
  {
   "cell_type": "code",
   "execution_count": null,
   "id": "82dedf41",
   "metadata": {},
   "outputs": [],
   "source": [
    "df1['Vol'][0]"
   ]
  },
  {
   "cell_type": "code",
   "execution_count": null,
   "id": "8a8b622b",
   "metadata": {},
   "outputs": [],
   "source": [
    "df1[ ['Vol','Rev','GST','Started','HQ'] ]"
   ]
  },
  {
   "cell_type": "code",
   "execution_count": null,
   "id": "2b6e81c1",
   "metadata": {},
   "outputs": [],
   "source": [
    "df1['Rev':'GST']"
   ]
  },
  {
   "cell_type": "code",
   "execution_count": null,
   "id": "a907cd6a",
   "metadata": {},
   "outputs": [],
   "source": [
    "df1"
   ]
  },
  {
   "cell_type": "code",
   "execution_count": null,
   "id": "8276e9e8",
   "metadata": {},
   "outputs": [],
   "source": [
    "df1['NCR_Leagles': 'Bombay_Finance' : 2]"
   ]
  },
  {
   "cell_type": "code",
   "execution_count": null,
   "id": "f81e91c9",
   "metadata": {},
   "outputs": [],
   "source": [
    "df1['NCR_Leagles': 'Bombay_Finance']"
   ]
  },
  {
   "cell_type": "code",
   "execution_count": null,
   "id": "78c9bab7",
   "metadata": {},
   "outputs": [],
   "source": [
    "df1['NCR_Leagles': 'NCR_Leagles']"
   ]
  },
  {
   "cell_type": "code",
   "execution_count": null,
   "id": "fb9c02de",
   "metadata": {},
   "outputs": [],
   "source": [
    "df1[2:6]  ##  6 is not included. endpoint is False"
   ]
  },
  {
   "cell_type": "code",
   "execution_count": null,
   "id": "8f8297cc",
   "metadata": {},
   "outputs": [],
   "source": [
    "df1['NCR_Leagles': 'NCR_Leagles']['Vol']"
   ]
  },
  {
   "cell_type": "markdown",
   "id": "6c90532e",
   "metadata": {},
   "source": [
    "# Integer Labelled Access  .iloc"
   ]
  },
  {
   "cell_type": "code",
   "execution_count": null,
   "id": "8aa8cb3b",
   "metadata": {},
   "outputs": [],
   "source": [
    "df1"
   ]
  },
  {
   "cell_type": "code",
   "execution_count": null,
   "id": "a34426b0",
   "metadata": {},
   "outputs": [],
   "source": [
    "df1.iloc[0]"
   ]
  },
  {
   "cell_type": "code",
   "execution_count": null,
   "id": "1259f78e",
   "metadata": {},
   "outputs": [],
   "source": [
    "df1.iloc[0,0]"
   ]
  },
  {
   "cell_type": "code",
   "execution_count": null,
   "id": "b2054a24",
   "metadata": {},
   "outputs": [],
   "source": [
    "df1.iloc[2:6]"
   ]
  },
  {
   "cell_type": "code",
   "execution_count": null,
   "id": "8a810e12",
   "metadata": {},
   "outputs": [],
   "source": [
    "df1.iloc[2:6, 2:9]"
   ]
  },
  {
   "cell_type": "code",
   "execution_count": null,
   "id": "ea72cfc4",
   "metadata": {},
   "outputs": [],
   "source": []
  },
  {
   "cell_type": "code",
   "execution_count": null,
   "id": "f9f5668f",
   "metadata": {},
   "outputs": [],
   "source": [
    "df1[2:6]"
   ]
  },
  {
   "cell_type": "code",
   "execution_count": null,
   "id": "c70bbb32",
   "metadata": {},
   "outputs": [],
   "source": [
    "df1[2:6] [2:9]"
   ]
  },
  {
   "cell_type": "code",
   "execution_count": null,
   "id": "f386c715",
   "metadata": {},
   "outputs": [],
   "source": [
    "df1.iloc[0][5]"
   ]
  },
  {
   "cell_type": "code",
   "execution_count": null,
   "id": "523cc0b0",
   "metadata": {},
   "outputs": [],
   "source": []
  },
  {
   "cell_type": "code",
   "execution_count": null,
   "id": "db7676f2",
   "metadata": {},
   "outputs": [],
   "source": [
    "df1.iloc[ [0,1,-2,-1]  ]"
   ]
  },
  {
   "cell_type": "code",
   "execution_count": null,
   "id": "f2a37de4",
   "metadata": {},
   "outputs": [],
   "source": [
    "df1.iloc[ [0,1,-2,-1] , [1,2,3,-2,-1] ]"
   ]
  },
  {
   "cell_type": "code",
   "execution_count": null,
   "id": "1c988f34",
   "metadata": {},
   "outputs": [],
   "source": [
    "ps1 = df1.Vol\n",
    "ps1"
   ]
  },
  {
   "cell_type": "code",
   "execution_count": null,
   "id": "93db8759",
   "metadata": {},
   "outputs": [],
   "source": [
    "ps1.to_csv('temp.csv')"
   ]
  },
  {
   "cell_type": "code",
   "execution_count": null,
   "id": "5ba891ef",
   "metadata": {},
   "outputs": [],
   "source": [
    "ps2 = pd.read_csv('temp.csv', index_col=0)"
   ]
  },
  {
   "cell_type": "code",
   "execution_count": null,
   "id": "8cb0bd73",
   "metadata": {},
   "outputs": [],
   "source": [
    "df1.iloc[:, 2:5]"
   ]
  },
  {
   "cell_type": "code",
   "execution_count": null,
   "id": "0c93ff1d",
   "metadata": {},
   "outputs": [],
   "source": [
    "r = df1.iloc[:, 2]\n",
    "print(type(r))\n",
    "r"
   ]
  },
  {
   "cell_type": "code",
   "execution_count": null,
   "id": "12ee30f9",
   "metadata": {},
   "outputs": [],
   "source": [
    "r = df1.iloc[:, [2]] \n",
    "print(type(r))\n",
    "r"
   ]
  },
  {
   "cell_type": "code",
   "execution_count": null,
   "id": "480b001d",
   "metadata": {},
   "outputs": [],
   "source": [
    "df1.iloc[:, 2:3]"
   ]
  },
  {
   "cell_type": "code",
   "execution_count": null,
   "id": "3d93dbcb",
   "metadata": {},
   "outputs": [],
   "source": [
    "df1.iloc[[2,3,6,7]]"
   ]
  },
  {
   "cell_type": "raw",
   "id": "c0e3f917",
   "metadata": {},
   "source": [
    "Grammer for Access\n",
    "\n",
    "1. Direct Access\n",
    "2. integer location based access\n",
    "3. label based Access\n",
    "\n",
    "\n",
    "Direct Access\n",
    "\n",
    "    df1['col_label_only']  OR  df1.col_label_only\n",
    "\n",
    "    df1[  [list of col_labels_only]  ] \n",
    "\n",
    "    df1[ slice of row_labels_only ] with endpoint = True\n",
    "    df1[ slice of row_n_indices_only ] with endpoint = False\n",
    "    \n",
    "Integer Location Based Access\n",
    "    df1.iloc[ row_n_index ]\n",
    "    df1.iloc[ row_n_index, col_n_index ]\n",
    "    \n",
    "    df1.iloc[ row_n_slice ]\n",
    "    df1.iloc[ row_n_slice, col_n_slice ]\n",
    "    \n",
    "    df1.iloc[ row_n_list ]\n",
    "    df1.iloc[ row_n_list, col_n_list ]\n",
    "    \n",
    "    combo of above\n",
    "    \n",
    "Label  Based Access\n",
    "    df1.loc[ row_label ]\n",
    "    df1.loc[ row_label, col_label ]\n",
    "    \n",
    "    df1.loc[ row_label_slice ]\n",
    "    df1.loc[ row_label_slice, col_label_slice ]\n",
    "    \n",
    "    df1.loc[ row_label_list ]\n",
    "    df1.loc[ row_label_list, col_label_list ]\n",
    "    \n",
    "    combo of above"
   ]
  },
  {
   "cell_type": "code",
   "execution_count": null,
   "id": "a6544205",
   "metadata": {},
   "outputs": [],
   "source": [
    "df1.index"
   ]
  },
  {
   "cell_type": "code",
   "execution_count": null,
   "id": "a6bef2e3",
   "metadata": {},
   "outputs": [],
   "source": [
    "df1.columns"
   ]
  },
  {
   "cell_type": "code",
   "execution_count": null,
   "id": "b20bdc24",
   "metadata": {},
   "outputs": [],
   "source": [
    "df1.loc['Kolkata_FMCG']"
   ]
  },
  {
   "cell_type": "code",
   "execution_count": null,
   "id": "c6fa2600",
   "metadata": {},
   "outputs": [],
   "source": [
    "df1.loc['Kolkata_FMCG', 'EmpCnt']"
   ]
  },
  {
   "cell_type": "code",
   "execution_count": null,
   "id": "cc231a05",
   "metadata": {},
   "outputs": [],
   "source": [
    "df1.loc['NCR_Leagles':'Indi_Services']"
   ]
  },
  {
   "cell_type": "code",
   "execution_count": null,
   "id": "0a50af5c",
   "metadata": {},
   "outputs": [],
   "source": [
    "df1.loc['NCR_Leagles':'Indi_Services' , 'Rev':'EmpCnt']"
   ]
  },
  {
   "cell_type": "code",
   "execution_count": null,
   "id": "0ae46ba4",
   "metadata": {},
   "outputs": [],
   "source": [
    "df1.index"
   ]
  },
  {
   "cell_type": "code",
   "execution_count": null,
   "id": "ef31ed7e",
   "metadata": {},
   "outputs": [],
   "source": [
    "df1.loc[  ['Deccan_Sporting', 'Kolkata_FMCG','Chennai_Shipping', 'Eastern_Estates']]"
   ]
  },
  {
   "cell_type": "code",
   "execution_count": null,
   "id": "7206fc46",
   "metadata": {},
   "outputs": [],
   "source": [
    "df1.loc[  ['Deccan_Sporting', 'Kolkata_FMCG','Chennai_Shipping', 'Eastern_Estates']  , \n",
    "        ['HQ','MNC','Vol']  ]"
   ]
  },
  {
   "cell_type": "code",
   "execution_count": null,
   "id": "f241f0e5",
   "metadata": {},
   "outputs": [],
   "source": [
    "df1.columns"
   ]
  },
  {
   "cell_type": "code",
   "execution_count": null,
   "id": "cd67db71",
   "metadata": {},
   "outputs": [],
   "source": [
    "df1.columns.str.startswith('S')"
   ]
  },
  {
   "cell_type": "code",
   "execution_count": null,
   "id": "8a068e0c",
   "metadata": {},
   "outputs": [],
   "source": [
    "df1.columns[df1.columns.str.startswith('S')]"
   ]
  },
  {
   "cell_type": "code",
   "execution_count": null,
   "id": "0629aa96",
   "metadata": {},
   "outputs": [],
   "source": [
    "df1.loc[:,df1.columns[df1.columns.str.startswith('S')] ]"
   ]
  },
  {
   "cell_type": "markdown",
   "id": "bfe37ff9",
   "metadata": {},
   "source": [
    "Conditional Access"
   ]
  },
  {
   "cell_type": "code",
   "execution_count": null,
   "id": "86e90c0c",
   "metadata": {},
   "outputs": [],
   "source": [
    "df1"
   ]
  },
  {
   "cell_type": "code",
   "execution_count": null,
   "id": "c4354c89",
   "metadata": {},
   "outputs": [],
   "source": [
    "df1.Vol.mean()"
   ]
  },
  {
   "cell_type": "code",
   "execution_count": null,
   "id": "7d0753f6",
   "metadata": {},
   "outputs": [],
   "source": [
    "series_mask1 = df1.Vol > df1.Vol.mean()\n",
    "series_mask1"
   ]
  },
  {
   "cell_type": "code",
   "execution_count": null,
   "id": "9af39442",
   "metadata": {},
   "outputs": [],
   "source": [
    "df1[series_mask1]"
   ]
  },
  {
   "cell_type": "code",
   "execution_count": null,
   "id": "8536e16e",
   "metadata": {},
   "outputs": [],
   "source": [
    "df1[df1.Vol > df1.Vol.mean()]"
   ]
  },
  {
   "cell_type": "code",
   "execution_count": null,
   "id": "924c1a84",
   "metadata": {},
   "outputs": [],
   "source": [
    "df1[  (df1.Vol > df1.Vol.mean())  &  (df1.GST == 'Goods') ]"
   ]
  },
  {
   "cell_type": "code",
   "execution_count": null,
   "id": "362e8917",
   "metadata": {},
   "outputs": [],
   "source": [
    "df1[  (df1.Vol > df1.Vol.mean()) ]"
   ]
  },
  {
   "cell_type": "code",
   "execution_count": null,
   "id": "45d086a7",
   "metadata": {},
   "outputs": [],
   "source": [
    "df1.loc[  (df1.Vol > df1.Vol.mean()) , 'EmpCnt']"
   ]
  },
  {
   "cell_type": "code",
   "execution_count": null,
   "id": "6288c188",
   "metadata": {},
   "outputs": [],
   "source": [
    "df1.loc[  (df1.Vol > df1.Vol.mean()) , ['EmpCnt']]"
   ]
  },
  {
   "cell_type": "code",
   "execution_count": null,
   "id": "b6fa3723",
   "metadata": {},
   "outputs": [],
   "source": [
    "df1.loc[  (df1.Vol > df1.Vol.mean()) , ['EmpCnt','MNC']]"
   ]
  },
  {
   "cell_type": "code",
   "execution_count": null,
   "id": "b0e0f78b",
   "metadata": {},
   "outputs": [],
   "source": [
    "df1.loc[ df1.Rev > df1.Rev.mean() ,  'Sector':'HQ']"
   ]
  },
  {
   "cell_type": "code",
   "execution_count": null,
   "id": "0121ed15",
   "metadata": {},
   "outputs": [],
   "source": [
    "df1.loc[ df1.Rev > df1.Rev.mean() ,  'Rev':'HQ']"
   ]
  },
  {
   "cell_type": "code",
   "execution_count": null,
   "id": "4d6a9cb7",
   "metadata": {},
   "outputs": [],
   "source": [
    "df1.Rev.mean()"
   ]
  },
  {
   "cell_type": "code",
   "execution_count": null,
   "id": "80435d82",
   "metadata": {},
   "outputs": [],
   "source": [
    "df1['Profit'] = df1.Rev - df1.Exp"
   ]
  },
  {
   "cell_type": "code",
   "execution_count": null,
   "id": "9cf1b8b8",
   "metadata": {},
   "outputs": [],
   "source": [
    "df1"
   ]
  },
  {
   "cell_type": "code",
   "execution_count": null,
   "id": "d3aa387b",
   "metadata": {},
   "outputs": [],
   "source": [
    "df1.Profit"
   ]
  },
  {
   "cell_type": "code",
   "execution_count": null,
   "id": "afe1f2be",
   "metadata": {},
   "outputs": [],
   "source": [
    "df1.loc[df1.Rev > df1.Rev.mean(), 'Rev'] = 999\n",
    "df1"
   ]
  },
  {
   "cell_type": "code",
   "execution_count": null,
   "id": "5dfedf60",
   "metadata": {},
   "outputs": [],
   "source": [
    "df1"
   ]
  },
  {
   "cell_type": "markdown",
   "id": "80b1f92d",
   "metadata": {},
   "source": [
    "# Insert"
   ]
  },
  {
   "cell_type": "code",
   "execution_count": null,
   "id": "a6176281",
   "metadata": {},
   "outputs": [],
   "source": [
    "df1 = pd.read_csv('lds1.csv')\n",
    "df1.insert(loc=3,  column='Profit',  value=df1.Rev - df1.Exp)\n",
    "df1"
   ]
  },
  {
   "cell_type": "markdown",
   "id": "6bc268bc",
   "metadata": {},
   "source": [
    "# MAP"
   ]
  },
  {
   "cell_type": "code",
   "execution_count": null,
   "id": "813e1f62",
   "metadata": {},
   "outputs": [],
   "source": [
    "df1 = pd.read_csv('lds1.csv')\n",
    "df1"
   ]
  },
  {
   "cell_type": "code",
   "execution_count": null,
   "id": "f316df1e",
   "metadata": {},
   "outputs": [],
   "source": [
    "md1 = {'Hyd':'SZ', 'NCR':'NZ','Mum':'WZ','Kol':'EZ','Blr':'SZ','CHE':'SZ'}"
   ]
  },
  {
   "cell_type": "code",
   "execution_count": null,
   "id": "b18587a2",
   "metadata": {},
   "outputs": [],
   "source": [
    "df1['Zone'] = df1.HQ.map(md1)\n",
    "df1"
   ]
  },
  {
   "cell_type": "raw",
   "id": "e54de8cf",
   "metadata": {},
   "source": [
    "<930  'Average_Sales'\n",
    " 'Good_Sales'\n",
    ">960  'Excellent_Sales'"
   ]
  },
  {
   "cell_type": "code",
   "execution_count": null,
   "id": "ebf35108",
   "metadata": {},
   "outputs": [],
   "source": [
    "df1 = pd.read_csv('lds1.csv')\n",
    "\n",
    "def sales_performance(vol_sales):\n",
    "    if vol_sales < 930:\n",
    "        return 'Average'\n",
    "    elif vol_sales > 960:\n",
    "        return 'Excellent'\n",
    "    else:\n",
    "        return 'Good'\n",
    "    \n",
    "df1['Sales_Performance'] = df1.Vol.map(sales_performance)\n",
    "df1"
   ]
  },
  {
   "cell_type": "code",
   "execution_count": null,
   "id": "7bce9ece",
   "metadata": {},
   "outputs": [],
   "source": [
    "df1['Sales_Performance1'] = df1.Vol.map(lambda s: 'E' if s > 960 else 'A' if s < 930 else 'G')\n",
    "df1"
   ]
  },
  {
   "cell_type": "markdown",
   "id": "c8cd652a",
   "metadata": {},
   "source": [
    "# Drop"
   ]
  },
  {
   "cell_type": "code",
   "execution_count": null,
   "id": "e5df2922",
   "metadata": {},
   "outputs": [],
   "source": [
    "df1 = pd.read_csv('lds1.csv')\n",
    "df1"
   ]
  },
  {
   "cell_type": "code",
   "execution_count": null,
   "id": "30567db5",
   "metadata": {},
   "outputs": [],
   "source": [
    "df1.drop(index=['Indi_Services','Eastern_Estates'], \n",
    "         columns=['Vol','Rev','GST'], inplace=True)"
   ]
  },
  {
   "cell_type": "markdown",
   "id": "0a664a76",
   "metadata": {},
   "source": [
    "# Rename of Labels"
   ]
  },
  {
   "cell_type": "code",
   "execution_count": null,
   "id": "fd071b3b",
   "metadata": {},
   "outputs": [],
   "source": [
    "df1 = pd.read_csv('lds1.csv')\n",
    "df1"
   ]
  },
  {
   "cell_type": "code",
   "execution_count": null,
   "id": "46658c18",
   "metadata": {},
   "outputs": [],
   "source": [
    "df2 = df1.rename(index={'Bangalore_Breweries':'UB', 'Indi_Services':'IR'},\n",
    "          columns={'Vol':'Volume'})\n",
    "df2"
   ]
  },
  {
   "cell_type": "markdown",
   "id": "93079d41",
   "metadata": {},
   "source": [
    "# Replace of Values"
   ]
  },
  {
   "cell_type": "code",
   "execution_count": null,
   "id": "4b427cb6",
   "metadata": {},
   "outputs": [],
   "source": [
    "df1 = pd.read_csv('lds1.csv')\n",
    "df1"
   ]
  },
  {
   "cell_type": "code",
   "execution_count": null,
   "id": "8956baa0",
   "metadata": {},
   "outputs": [],
   "source": [
    "df1.Sector.replace('Pub','Public', inplace=True)\n",
    "df1"
   ]
  },
  {
   "cell_type": "code",
   "execution_count": null,
   "id": "a5f29d27",
   "metadata": {},
   "outputs": [],
   "source": [
    "df1.Sector.replace({'Pub':'Public', 'Pvt':'Private'}, inplace=True)\n",
    "df1"
   ]
  },
  {
   "cell_type": "markdown",
   "id": "938792e4",
   "metadata": {},
   "source": [
    "# Sorting"
   ]
  },
  {
   "cell_type": "code",
   "execution_count": null,
   "id": "790588de",
   "metadata": {},
   "outputs": [],
   "source": [
    "df1 = pd.read_csv('lds1.csv')\n",
    "df1"
   ]
  },
  {
   "cell_type": "code",
   "execution_count": null,
   "id": "08b2710a",
   "metadata": {},
   "outputs": [],
   "source": [
    "df1.sort_index(axis=0,ascending=True)"
   ]
  },
  {
   "cell_type": "code",
   "execution_count": null,
   "id": "0801ac22",
   "metadata": {},
   "outputs": [],
   "source": [
    "df1.sort_index(axis=1,ascending=True, inplace=False)"
   ]
  },
  {
   "cell_type": "code",
   "execution_count": null,
   "id": "b7542771",
   "metadata": {},
   "outputs": [],
   "source": [
    "df1.sort_index(axis=0,ascending=True).sort_index(axis=1,ascending=True)"
   ]
  },
  {
   "cell_type": "code",
   "execution_count": null,
   "id": "fce58c6e",
   "metadata": {},
   "outputs": [],
   "source": [
    "df1"
   ]
  },
  {
   "cell_type": "code",
   "execution_count": null,
   "id": "50cc47da",
   "metadata": {},
   "outputs": [],
   "source": [
    "df1.sort_values(by='Vol',axis=0, ascending=True)"
   ]
  },
  {
   "cell_type": "code",
   "execution_count": null,
   "id": "6535e6d3",
   "metadata": {},
   "outputs": [],
   "source": [
    "df1"
   ]
  },
  {
   "cell_type": "code",
   "execution_count": null,
   "id": "af996028",
   "metadata": {},
   "outputs": [],
   "source": [
    "df1.sort_values(by=['Vol','Rev'],axis=0, ascending=[True,False])"
   ]
  },
  {
   "cell_type": "code",
   "execution_count": null,
   "id": "93397c06",
   "metadata": {},
   "outputs": [],
   "source": [
    "df1"
   ]
  },
  {
   "cell_type": "code",
   "execution_count": null,
   "id": "5f0f13f2",
   "metadata": {},
   "outputs": [],
   "source": [
    "df1.sort_values(by='Bombay_Finance',axis=1, ascending=True)"
   ]
  },
  {
   "cell_type": "code",
   "execution_count": null,
   "id": "b2a9881d",
   "metadata": {},
   "outputs": [],
   "source": [
    "df1.select_dtypes(include='number').sort_values(by='NCR_Leagles',\n",
    "                                                axis=1, ascending=True)"
   ]
  },
  {
   "cell_type": "markdown",
   "id": "7e5ed4d2",
   "metadata": {},
   "source": [
    "# Pivot Table"
   ]
  },
  {
   "cell_type": "code",
   "execution_count": null,
   "id": "cf32b15d",
   "metadata": {},
   "outputs": [],
   "source": [
    "df1 = pd.read_csv('lds1.csv')\n",
    "df1"
   ]
  },
  {
   "cell_type": "code",
   "execution_count": null,
   "id": "fa1bee2f",
   "metadata": {},
   "outputs": [],
   "source": [
    "dfp = pd.pivot_table(df1, index='Sector', values='Vol',aggfunc='mean')\n",
    "dfp"
   ]
  },
  {
   "cell_type": "code",
   "execution_count": null,
   "id": "7c4b76cd",
   "metadata": {},
   "outputs": [],
   "source": [
    "dfp = pd.pivot_table(df1, index=['Sector','GST'], values='Vol',aggfunc=['mean','count'])\n",
    "dfp"
   ]
  },
  {
   "cell_type": "code",
   "execution_count": null,
   "id": "9853208e",
   "metadata": {},
   "outputs": [],
   "source": [
    "dfp = pd.pivot_table(df1, index=['Sector','GST'], values=['Vol','Rev'],aggfunc=['mean','count'])\n",
    "dfp"
   ]
  },
  {
   "cell_type": "code",
   "execution_count": null,
   "id": "a7b8edfb",
   "metadata": {},
   "outputs": [],
   "source": [
    "dfp.index"
   ]
  },
  {
   "cell_type": "code",
   "execution_count": null,
   "id": "96299993",
   "metadata": {},
   "outputs": [],
   "source": [
    "dfp.columns"
   ]
  },
  {
   "cell_type": "code",
   "execution_count": null,
   "id": "c17fd317",
   "metadata": {},
   "outputs": [],
   "source": [
    "dfp = pd.pivot_table(df1, index='Sector',columns='GST', values='Vol',aggfunc='mean')\n",
    "dfp"
   ]
  },
  {
   "cell_type": "code",
   "execution_count": null,
   "id": "6548ae3e",
   "metadata": {},
   "outputs": [],
   "source": [
    "dfp = pd.pivot_table(df1, index='Sector',columns='GST', values=['Vol','Rev'],aggfunc='mean')\n",
    "dfp"
   ]
  },
  {
   "cell_type": "code",
   "execution_count": null,
   "id": "17380b60",
   "metadata": {},
   "outputs": [],
   "source": [
    "dfp.columns"
   ]
  },
  {
   "cell_type": "code",
   "execution_count": null,
   "id": "6a62f0a2",
   "metadata": {},
   "outputs": [],
   "source": [
    "dfp.loc['Pub', ('Rev', 'Services')]"
   ]
  },
  {
   "cell_type": "code",
   "execution_count": null,
   "id": "f3ba9a23",
   "metadata": {},
   "outputs": [],
   "source": [
    "dfp = pd.pivot_table(df1, index='Sector',columns='GST', values='Vol',aggfunc=np.mean)\n",
    "dfp"
   ]
  },
  {
   "cell_type": "code",
   "execution_count": null,
   "id": "74717d05",
   "metadata": {},
   "outputs": [],
   "source": [
    "dfp = pd.pivot_table(df1, index='Sector',values='Vol',aggfunc=['min','max'])\n",
    "dfp"
   ]
  },
  {
   "cell_type": "code",
   "execution_count": null,
   "id": "a1fe2ba5",
   "metadata": {},
   "outputs": [],
   "source": [
    "def minmaxdiff(series):\n",
    "    print(series)\n",
    "    diff = series.max() - series.min()\n",
    "    \n",
    "    return diff"
   ]
  },
  {
   "cell_type": "code",
   "execution_count": null,
   "id": "d1aff144",
   "metadata": {},
   "outputs": [],
   "source": [
    "minmaxdiff(df1.Vol)"
   ]
  },
  {
   "cell_type": "code",
   "execution_count": null,
   "id": "344119e5",
   "metadata": {},
   "outputs": [],
   "source": [
    "dfp = pd.pivot_table(df1, index='Sector',values='Vol',aggfunc=['min',max,minmaxdiff])\n",
    "dfp"
   ]
  },
  {
   "cell_type": "code",
   "execution_count": null,
   "id": "3dbe5d70",
   "metadata": {},
   "outputs": [],
   "source": [
    "dfp = pd.pivot_table(df1, index='Sector',values='Vol',\n",
    "                     aggfunc=['min','max',lambda s: s.max()-s.min()])\n",
    "dfp"
   ]
  },
  {
   "cell_type": "code",
   "execution_count": null,
   "id": "6cb1cdf8",
   "metadata": {},
   "outputs": [],
   "source": [
    "dfp = pd.pivot_table(df1, index='Sector',values='Vol',aggfunc=minmaxdiff)\n",
    "dfp"
   ]
  },
  {
   "cell_type": "markdown",
   "id": "ff696966",
   "metadata": {},
   "source": [
    "# Groupby"
   ]
  },
  {
   "cell_type": "code",
   "execution_count": null,
   "id": "795fad27",
   "metadata": {},
   "outputs": [],
   "source": [
    "df1 = pd.read_csv('lds1.csv')\n",
    "df1"
   ]
  },
  {
   "cell_type": "code",
   "execution_count": null,
   "id": "ee52c691",
   "metadata": {},
   "outputs": [],
   "source": [
    "dfg = df1.groupby(by='Sector')\n",
    "print(type(dfg))"
   ]
  },
  {
   "cell_type": "code",
   "execution_count": null,
   "id": "10753800",
   "metadata": {},
   "outputs": [],
   "source": [
    "for value in dfg:\n",
    "    print(value)\n",
    "    print()"
   ]
  },
  {
   "cell_type": "code",
   "execution_count": null,
   "id": "d57a584d",
   "metadata": {},
   "outputs": [],
   "source": [
    "for value in dfg:\n",
    "    print(value[0])\n",
    "    print(value[1])\n",
    "    print()"
   ]
  },
  {
   "cell_type": "code",
   "execution_count": null,
   "id": "dbd09012",
   "metadata": {},
   "outputs": [],
   "source": [
    "df1.Sector.value_counts()"
   ]
  },
  {
   "cell_type": "code",
   "execution_count": null,
   "id": "a1d61b63",
   "metadata": {},
   "outputs": [],
   "source": [
    "df1.groupby(by='Sector')['Vol'].mean()"
   ]
  },
  {
   "cell_type": "code",
   "execution_count": null,
   "id": "e7e3b2de",
   "metadata": {},
   "outputs": [],
   "source": [
    "## SAC.  Split, Apply, Combine"
   ]
  },
  {
   "cell_type": "code",
   "execution_count": null,
   "id": "26e16614",
   "metadata": {},
   "outputs": [],
   "source": [
    "df1.groupby(by='Sector')['Vol'].agg(['mean','sum'])"
   ]
  },
  {
   "cell_type": "code",
   "execution_count": null,
   "id": "102bed18",
   "metadata": {},
   "outputs": [],
   "source": [
    "df1.groupby(by='Sector')[['Vol','Rev']].agg(['mean','sum'])"
   ]
  },
  {
   "cell_type": "code",
   "execution_count": null,
   "id": "78c9ad0c",
   "metadata": {},
   "outputs": [],
   "source": [
    "concat, merge, multiindex creation, stack, unstack, melt, duplicate, missing data analysis, "
   ]
  }
 ],
 "metadata": {
  "kernelspec": {
   "display_name": "Python 3 (ipykernel)",
   "language": "python",
   "name": "python3"
  },
  "language_info": {
   "codemirror_mode": {
    "name": "ipython",
    "version": 3
   },
   "file_extension": ".py",
   "mimetype": "text/x-python",
   "name": "python",
   "nbconvert_exporter": "python",
   "pygments_lexer": "ipython3",
   "version": "3.11.7"
  }
 },
 "nbformat": 4,
 "nbformat_minor": 5
}
