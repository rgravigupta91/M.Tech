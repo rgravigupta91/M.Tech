{
 "cells": [
  {
   "cell_type": "markdown",
   "id": "29082f07",
   "metadata": {},
   "source": [
    "# Jan 06, 2024"
   ]
  },
  {
   "cell_type": "code",
   "execution_count": 2,
   "id": "bbc7da3c",
   "metadata": {},
   "outputs": [
    {
     "name": "stdout",
     "output_type": "stream",
     "text": [
      "Hello World\n"
     ]
    }
   ],
   "source": [
    "print('Hello World')"
   ]
  },
  {
   "cell_type": "code",
   "execution_count": 1,
   "id": "c090b4fd",
   "metadata": {},
   "outputs": [
    {
     "name": "stdout",
     "output_type": "stream",
     "text": [
      "\n",
      "Note: you may need to restart the kernel to use updated packages.\n"
     ]
    },
    {
     "name": "stderr",
     "output_type": "stream",
     "text": [
      "Traceback (most recent call last):\n",
      "  File \"C:\\Python\\anaconda3\\Lib\\site-packages\\conda\\exception_handler.py\", line 17, in __call__\n",
      "    return func(*args, **kwargs)\n",
      "           ^^^^^^^^^^^^^^^^^^^^^\n",
      "  File \"C:\\Python\\anaconda3\\Lib\\site-packages\\conda\\cli\\main.py\", line 54, in main_subshell\n",
      "    parser = generate_parser(add_help=True)\n",
      "             ^^^^^^^^^^^^^^^^^^^^^^^^^^^^^^\n",
      "  File \"C:\\Python\\anaconda3\\Lib\\site-packages\\conda\\cli\\conda_argparse.py\", line 115, in generate_parser\n",
      "    configure_parser_create(sub_parsers)\n",
      "  File \"C:\\Python\\anaconda3\\Lib\\site-packages\\conda\\cli\\conda_argparse.py\", line 767, in configure_parser_create\n",
      "    add_parser_solver(solver_mode_options)\n",
      "  File \"C:\\Python\\anaconda3\\Lib\\site-packages\\conda\\cli\\conda_argparse.py\", line 1975, in add_parser_solver\n",
      "    solver.name for solver in context.plugin_manager.get_hook_results(\"solvers\")\n",
      "                              ^^^^^^^^^^^^^^^^^^^^^^\n",
      "  File \"C:\\Python\\anaconda3\\Lib\\site-packages\\conda\\base\\context.py\", line 492, in plugin_manager\n",
      "    from ..plugins.manager import get_plugin_manager\n",
      "  File \"C:\\Python\\anaconda3\\Lib\\site-packages\\conda\\plugins\\__init__.py\", line 28, in <module>\n",
      "    from .hookspec import hookimpl  # noqa: F401\n",
      "    ^^^^^^^^^^^^^^^^^^^^^^^^^^^^^^\n",
      "  File \"C:\\Python\\anaconda3\\Lib\\site-packages\\conda\\plugins\\hookspec.py\", line 16, in <module>\n",
      "    from .types import (\n",
      "  File \"C:\\Python\\anaconda3\\Lib\\site-packages\\conda\\plugins\\types.py\", line 15, in <module>\n",
      "    from ..core.solve import Solver\n",
      "  File \"C:\\Python\\anaconda3\\Lib\\site-packages\\conda\\core\\solve.py\", line 30, in <module>\n",
      "    from ..exceptions import (\n",
      "  File \"C:\\Python\\anaconda3\\Lib\\site-packages\\conda\\exceptions.py\", line 15, in <module>\n",
      "    import requests\n",
      "  File \"C:\\Python\\anaconda3\\Lib\\site-packages\\requests\\__init__.py\", line 147, in <module>\n",
      "    from . import packages, utils\n",
      "  File \"C:\\Python\\anaconda3\\Lib\\site-packages\\requests\\utils.py\", line 24, in <module>\n",
      "    from . import certs\n",
      "  File \"C:\\Python\\anaconda3\\Lib\\site-packages\\requests\\certs.py\", line 14, in <module>\n",
      "    from certifi import where\n",
      "ImportError: cannot import name 'where' from 'certifi' (unknown location)\n",
      "\n",
      "During handling of the above exception, another exception occurred:\n",
      "\n",
      "Traceback (most recent call last):\n",
      "  File \"C:\\Python\\anaconda3\\Scripts\\conda-script.py\", line 12, in <module>\n",
      "    sys.exit(main())\n",
      "             ^^^^^^\n",
      "  File \"C:\\Python\\anaconda3\\Lib\\site-packages\\conda\\cli\\main.py\", line 109, in main\n",
      "    return conda_exception_handler(main, *args, **kwargs)\n",
      "           ^^^^^^^^^^^^^^^^^^^^^^^^^^^^^^^^^^^^^^^^^^^^^^\n",
      "  File \"C:\\Python\\anaconda3\\Lib\\site-packages\\conda\\exception_handler.py\", line 389, in conda_exception_handler\n",
      "    return_value = exception_handler(func, *args, **kwargs)\n",
      "                   ^^^^^^^^^^^^^^^^^^^^^^^^^^^^^^^^^^^^^^^^\n",
      "  File \"C:\\Python\\anaconda3\\Lib\\site-packages\\conda\\exception_handler.py\", line 20, in __call__\n",
      "    return self.handle_exception(exc_val, exc_tb)\n",
      "           ^^^^^^^^^^^^^^^^^^^^^^^^^^^^^^^^^^^^^^\n",
      "  File \"C:\\Python\\anaconda3\\Lib\\site-packages\\conda\\exception_handler.py\", line 52, in handle_exception\n",
      "    from .exceptions import (\n",
      "  File \"C:\\Python\\anaconda3\\Lib\\site-packages\\conda\\exceptions.py\", line 15, in <module>\n",
      "    import requests\n",
      "  File \"C:\\Python\\anaconda3\\Lib\\site-packages\\requests\\__init__.py\", line 147, in <module>\n",
      "    from . import packages, utils\n",
      "  File \"C:\\Python\\anaconda3\\Lib\\site-packages\\requests\\utils.py\", line 24, in <module>\n",
      "    from . import certs\n",
      "  File \"C:\\Python\\anaconda3\\Lib\\site-packages\\requests\\certs.py\", line 14, in <module>\n",
      "    from certifi import where\n",
      "ImportError: cannot import name 'where' from 'certifi' (unknown location)\n"
     ]
    }
   ],
   "source": [
    "conda install numpy"
   ]
  },
  {
   "cell_type": "markdown",
   "id": "4cf422f4",
   "metadata": {},
   "source": [
    "# Keywords"
   ]
  },
  {
   "cell_type": "code",
   "execution_count": 8,
   "id": "eaa5df7f",
   "metadata": {},
   "outputs": [
    {
     "name": "stdout",
     "output_type": "stream",
     "text": [
      "['False', 'None', 'True', 'and', 'as', 'assert', 'async', 'await', 'break', 'class', 'continue', 'def', 'del', 'elif', 'else', 'except', 'finally', 'for', 'from', 'global', 'if', 'import', 'in', 'is', 'lambda', 'nonlocal', 'not', 'or', 'pass', 'raise', 'return', 'try', 'while', 'with', 'yield']\n"
     ]
    }
   ],
   "source": [
    "import keyword\n",
    "print(keyword.kwlist)"
   ]
  },
  {
   "cell_type": "code",
   "execution_count": 9,
   "id": "062c42d8",
   "metadata": {},
   "outputs": [
    {
     "data": {
      "text/plain": [
       "['False',\n",
       " 'None',\n",
       " 'True',\n",
       " 'and',\n",
       " 'as',\n",
       " 'assert',\n",
       " 'async',\n",
       " 'await',\n",
       " 'break',\n",
       " 'class',\n",
       " 'continue',\n",
       " 'def',\n",
       " 'del',\n",
       " 'elif',\n",
       " 'else',\n",
       " 'except',\n",
       " 'finally',\n",
       " 'for',\n",
       " 'from',\n",
       " 'global',\n",
       " 'if',\n",
       " 'import',\n",
       " 'in',\n",
       " 'is',\n",
       " 'lambda',\n",
       " 'nonlocal',\n",
       " 'not',\n",
       " 'or',\n",
       " 'pass',\n",
       " 'raise',\n",
       " 'return',\n",
       " 'try',\n",
       " 'while',\n",
       " 'with',\n",
       " 'yield']"
      ]
     },
     "execution_count": 9,
     "metadata": {},
     "output_type": "execute_result"
    }
   ],
   "source": [
    "keyword.kwlist"
   ]
  },
  {
   "cell_type": "markdown",
   "id": "c664a1aa",
   "metadata": {},
   "source": [
    "# Builtin Functions"
   ]
  },
  {
   "cell_type": "code",
   "execution_count": 22,
   "id": "93793d7d",
   "metadata": {},
   "outputs": [
    {
     "name": "stdout",
     "output_type": "stream",
     "text": [
      "['ArithmeticError', 'AssertionError', 'AttributeError', 'BaseException', 'BaseExceptionGroup', 'BlockingIOError', 'BrokenPipeError', 'BufferError', 'BytesWarning', 'ChildProcessError', 'ConnectionAbortedError', 'ConnectionError', 'ConnectionRefusedError', 'ConnectionResetError', 'DeprecationWarning', 'EOFError', 'Ellipsis', 'EncodingWarning', 'EnvironmentError', 'Exception', 'ExceptionGroup', 'False', 'FileExistsError', 'FileNotFoundError', 'FloatingPointError', 'FutureWarning', 'GeneratorExit', 'IOError', 'ImportError', 'ImportWarning', 'IndentationError', 'IndexError', 'InterruptedError', 'IsADirectoryError', 'KeyError', 'KeyboardInterrupt', 'LookupError', 'MemoryError', 'ModuleNotFoundError', 'NameError', 'None', 'NotADirectoryError', 'NotImplemented', 'NotImplementedError', 'OSError', 'OverflowError', 'PendingDeprecationWarning', 'PermissionError', 'ProcessLookupError', 'RecursionError', 'ReferenceError', 'ResourceWarning', 'RuntimeError', 'RuntimeWarning', 'StopAsyncIteration', 'StopIteration', 'SyntaxError', 'SyntaxWarning', 'SystemError', 'SystemExit', 'TabError', 'TimeoutError', 'True', 'TypeError', 'UnboundLocalError', 'UnicodeDecodeError', 'UnicodeEncodeError', 'UnicodeError', 'UnicodeTranslateError', 'UnicodeWarning', 'UserWarning', 'ValueError', 'Warning', 'WindowsError', 'ZeroDivisionError', '__IPYTHON__', '__build_class__', '__debug__', '__doc__', '__import__', '__loader__', '__name__', '__package__', '__spec__', 'abs', 'aiter', 'all', 'anext', 'any', 'ascii', 'bin', 'bool', 'breakpoint', 'bytearray', 'bytes', 'callable', 'chr', 'classmethod', 'compile', 'complex', 'copyright', 'credits', 'delattr', 'dict', 'dir', 'display', 'divmod', 'enumerate', 'eval', 'exec', 'execfile', 'filter', 'float', 'format', 'frozenset', 'get_ipython', 'getattr', 'globals', 'hasattr', 'hash', 'help', 'hex', 'id', 'input', 'int', 'isinstance', 'issubclass', 'iter', 'len', 'license', 'list', 'locals', 'map', 'max', 'memoryview', 'min', 'next', 'object', 'oct', 'open', 'ord', 'pow', 'print', 'property', 'range', 'repr', 'reversed', 'round', 'runfile', 'set', 'setattr', 'slice', 'sorted', 'staticmethod', 'str', 'sum', 'super', 'tuple', 'type', 'vars', 'zip']\n"
     ]
    }
   ],
   "source": [
    "print(dir(__builtins__))"
   ]
  },
  {
   "cell_type": "code",
   "execution_count": 23,
   "id": "4a6d3739",
   "metadata": {},
   "outputs": [
    {
     "name": "stdout",
     "output_type": "stream",
     "text": [
      "['__abs__', '__add__', '__and__', '__bool__', '__ceil__', '__class__', '__delattr__', '__dir__', '__divmod__', '__doc__', '__eq__', '__float__', '__floor__', '__floordiv__', '__format__', '__ge__', '__getattribute__', '__getnewargs__', '__getstate__', '__gt__', '__hash__', '__index__', '__init__', '__init_subclass__', '__int__', '__invert__', '__le__', '__lshift__', '__lt__', '__mod__', '__mul__', '__ne__', '__neg__', '__new__', '__or__', '__pos__', '__pow__', '__radd__', '__rand__', '__rdivmod__', '__reduce__', '__reduce_ex__', '__repr__', '__rfloordiv__', '__rlshift__', '__rmod__', '__rmul__', '__ror__', '__round__', '__rpow__', '__rrshift__', '__rshift__', '__rsub__', '__rtruediv__', '__rxor__', '__setattr__', '__sizeof__', '__str__', '__sub__', '__subclasshook__', '__truediv__', '__trunc__', '__xor__', 'as_integer_ratio', 'bit_count', 'bit_length', 'conjugate', 'denominator', 'from_bytes', 'imag', 'numerator', 'real', 'to_bytes']\n"
     ]
    }
   ],
   "source": [
    "print(dir(int))"
   ]
  },
  {
   "cell_type": "code",
   "execution_count": 24,
   "id": "7066bd0f",
   "metadata": {},
   "outputs": [
    {
     "name": "stdout",
     "output_type": "stream",
     "text": [
      "['__add__', '__class__', '__contains__', '__delattr__', '__dir__', '__doc__', '__eq__', '__format__', '__ge__', '__getattribute__', '__getitem__', '__getnewargs__', '__getstate__', '__gt__', '__hash__', '__init__', '__init_subclass__', '__iter__', '__le__', '__len__', '__lt__', '__mod__', '__mul__', '__ne__', '__new__', '__reduce__', '__reduce_ex__', '__repr__', '__rmod__', '__rmul__', '__setattr__', '__sizeof__', '__str__', '__subclasshook__', 'capitalize', 'casefold', 'center', 'count', 'encode', 'endswith', 'expandtabs', 'find', 'format', 'format_map', 'index', 'isalnum', 'isalpha', 'isascii', 'isdecimal', 'isdigit', 'isidentifier', 'islower', 'isnumeric', 'isprintable', 'isspace', 'istitle', 'isupper', 'join', 'ljust', 'lower', 'lstrip', 'maketrans', 'partition', 'removeprefix', 'removesuffix', 'replace', 'rfind', 'rindex', 'rjust', 'rpartition', 'rsplit', 'rstrip', 'split', 'splitlines', 'startswith', 'strip', 'swapcase', 'title', 'translate', 'upper', 'zfill']\n"
     ]
    }
   ],
   "source": [
    "print(dir(str))"
   ]
  },
  {
   "cell_type": "markdown",
   "id": "10d7eabc",
   "metadata": {},
   "source": [
    "# Strings"
   ]
  },
  {
   "cell_type": "code",
   "execution_count": 4,
   "id": "8ea03124",
   "metadata": {},
   "outputs": [
    {
     "name": "stdout",
     "output_type": "stream",
     "text": [
      "Nation stock Exchange\n",
      "BSE # Mumbai\n",
      "Dollar: $ Rupee: ₹\n"
     ]
    }
   ],
   "source": [
    "print('Nation stock Exchange')    # comment starts\n",
    "#print('state stock exchange') # full line comment\n",
    "print(\"BSE # Mumbai\")    # hash within \" \": literal quote\n",
    "\n",
    "usd = 'Dollar: $'; inr = \"Rupee: \\u20B9\"\n",
    "print(usd, inr)"
   ]
  },
  {
   "cell_type": "code",
   "execution_count": 7,
   "id": "5d2f02ab",
   "metadata": {},
   "outputs": [
    {
     "name": "stdout",
     "output_type": "stream",
     "text": [
      "NSE\n",
      "National Stock exchange, and\n",
      "    Bombay Stock exchange\n"
     ]
    }
   ],
   "source": [
    "exchange = 'NSE'    # strings starting with a single quote must end with a single quote in the same line\n",
    "exchanges = \"\"\"National Stock exchange, and\n",
    "    Bombay Stock exchange\"\"\"      # Multi line strings can be defined using 3 single quotes or 3 double quotes (it also maintains the indentation)\n",
    "print(exchange)\n",
    "print(exchanges)"
   ]
  },
  {
   "cell_type": "markdown",
   "id": "4ca1392e",
   "metadata": {},
   "source": [
    "# Variable Names"
   ]
  },
  {
   "cell_type": "code",
   "execution_count": null,
   "id": "36826c4b",
   "metadata": {},
   "outputs": [],
   "source": []
  },
  {
   "cell_type": "markdown",
   "id": "b3ebf7ce",
   "metadata": {},
   "source": [
    "# Syntax: Indentation for code Block"
   ]
  },
  {
   "cell_type": "code",
   "execution_count": 10,
   "id": "20bdb6e4",
   "metadata": {},
   "outputs": [
    {
     "name": "stdout",
     "output_type": "stream",
     "text": [
      "Sensor is Disabled\n"
     ]
    }
   ],
   "source": [
    "sensor = 0\n",
    "if sensor == 0:\n",
    "    print(\"Sensor is Disabled\")\n",
    "else:\n",
    "    print(\"Sensor is Enabled\")"
   ]
  },
  {
   "cell_type": "markdown",
   "id": "7f26db88",
   "metadata": {},
   "source": [
    "# Syntax: Assignment of Value"
   ]
  },
  {
   "cell_type": "markdown",
   "id": "fb44e795",
   "metadata": {},
   "source": [
    "- No Seperate Declaration Phase.\n",
    "- Memory allocated as soon as definition.\n",
    "-"
   ]
  },
  {
   "cell_type": "code",
   "execution_count": 15,
   "id": "b1a3255f",
   "metadata": {},
   "outputs": [
    {
     "name": "stdout",
     "output_type": "stream",
     "text": [
      "2000\n"
     ]
    }
   ],
   "source": [
    "abcd = 2000\n",
    "print(abcd)"
   ]
  },
  {
   "cell_type": "code",
   "execution_count": 16,
   "id": "07bb600d",
   "metadata": {},
   "outputs": [
    {
     "name": "stdout",
     "output_type": "stream",
     "text": [
      "<class 'int'>\n",
      "1653045682832\n"
     ]
    }
   ],
   "source": [
    "print(type(abcd))\n",
    "print(id(abcd))"
   ]
  },
  {
   "cell_type": "code",
   "execution_count": 17,
   "id": "6e50c1f4",
   "metadata": {},
   "outputs": [
    {
     "name": "stdout",
     "output_type": "stream",
     "text": [
      "Any String\n"
     ]
    }
   ],
   "source": [
    "abcd = 'Any String'\n",
    "print(abcd)"
   ]
  },
  {
   "cell_type": "code",
   "execution_count": 18,
   "id": "e6e55b36",
   "metadata": {},
   "outputs": [
    {
     "name": "stdout",
     "output_type": "stream",
     "text": [
      "<class 'str'>\n",
      "1653045828784\n"
     ]
    }
   ],
   "source": [
    "print(type(abcd))\n",
    "print(id(abcd))"
   ]
  },
  {
   "cell_type": "code",
   "execution_count": 19,
   "id": "3f1f6102",
   "metadata": {},
   "outputs": [
    {
     "name": "stdout",
     "output_type": "stream",
     "text": [
      "2000 2000\n",
      "1653045682608 1653045682512\n"
     ]
    }
   ],
   "source": [
    "a = 2000\n",
    "b = 2000\n",
    "\n",
    "print(a, b)\n",
    "print(id(a), id(b))"
   ]
  },
  {
   "cell_type": "code",
   "execution_count": 20,
   "id": "ab98db20",
   "metadata": {},
   "outputs": [
    {
     "name": "stdout",
     "output_type": "stream",
     "text": [
      "200 200\n",
      "140719256677384 140719256677384\n"
     ]
    }
   ],
   "source": [
    "# Integers -5 to 256 are pre-defined at boot_time (will share same adddress)\n",
    "a = 200\n",
    "b = 200\n",
    "\n",
    "print(a, b)\n",
    "print(id(a), id(b))"
   ]
  },
  {
   "cell_type": "code",
   "execution_count": 21,
   "id": "099719cc",
   "metadata": {},
   "outputs": [
    {
     "name": "stdout",
     "output_type": "stream",
     "text": [
      "1653045682512\n",
      "1653045682480\n"
     ]
    }
   ],
   "source": [
    "# Every calculation result is atored at a different location and the variable starts pointing to a different memory location\n",
    "c = 2000\n",
    "print(id(c))\n",
    "c = c + 1\n",
    "print(id(c))"
   ]
  },
  {
   "cell_type": "markdown",
   "id": "a6bbe181",
   "metadata": {},
   "source": [
    "There is no contract between the variable and the memory location"
   ]
  },
  {
   "cell_type": "code",
   "execution_count": 25,
   "id": "8c019005",
   "metadata": {},
   "outputs": [
    {
     "name": "stdout",
     "output_type": "stream",
     "text": [
      "2345 2345 2345\n",
      "1653045682544 1653045682864 1653045682768\n"
     ]
    }
   ],
   "source": [
    "a = 2345\n",
    "b = 2345\n",
    "c = 2345\n",
    "print(a, b, c)\n",
    "print(id(a), id(b), id(c)) # creates different variables"
   ]
  },
  {
   "cell_type": "code",
   "execution_count": 26,
   "id": "86a16062",
   "metadata": {},
   "outputs": [
    {
     "name": "stdout",
     "output_type": "stream",
     "text": [
      "2345 2345 2345\n",
      "1653045682960 1653045682960 1653045682960\n"
     ]
    }
   ],
   "source": [
    "a = b = c = 2345\n",
    "print(a, b, c)\n",
    "print(id(a), id(b), id(c)) # sharing same variable"
   ]
  },
  {
   "cell_type": "code",
   "execution_count": 31,
   "id": "d55420fb",
   "metadata": {},
   "outputs": [
    {
     "name": "stdout",
     "output_type": "stream",
     "text": [
      "20 30 40\n"
     ]
    }
   ],
   "source": [
    "v0, v1, v2 = 20, 30, 40   # positional mapping\n",
    "print(v0, v1, v2)   "
   ]
  },
  {
   "cell_type": "markdown",
   "id": "c7b076f3",
   "metadata": {},
   "source": [
    "# Input"
   ]
  },
  {
   "cell_type": "code",
   "execution_count": 32,
   "id": "5e6ef2cb",
   "metadata": {},
   "outputs": [
    {
     "name": "stdout",
     "output_type": "stream",
     "text": [
      "Enter Marks : 33\n",
      "33\n",
      "<class 'str'>\n"
     ]
    }
   ],
   "source": [
    "ms1 = input('Enter Marks : ')     # input takes input only as a string\n",
    "print(ms1)\n",
    "print(type(ms1))"
   ]
  },
  {
   "cell_type": "code",
   "execution_count": 33,
   "id": "6573dcb6",
   "metadata": {},
   "outputs": [
    {
     "name": "stdout",
     "output_type": "stream",
     "text": [
      "Enter Marks : 11\n",
      "11\n",
      "<class 'int'>\n"
     ]
    }
   ],
   "source": [
    "ms1 = input('Enter Marks : ')   \n",
    "num = int(ms1)       # convert string to int\n",
    "print(num)\n",
    "print(type(num))"
   ]
  },
  {
   "cell_type": "code",
   "execution_count": 34,
   "id": "e194e2d8",
   "metadata": {},
   "outputs": [
    {
     "name": "stdout",
     "output_type": "stream",
     "text": [
      "Enter Marks : 23\n",
      "23\n",
      "<class 'int'>\n"
     ]
    }
   ],
   "source": [
    "ms1 = int(input('Enter Marks : '))     # one line conversion at the time of input\n",
    "print(ms1)\n",
    "print(type(ms1))"
   ]
  },
  {
   "cell_type": "code",
   "execution_count": 49,
   "id": "9cf5d511",
   "metadata": {
    "scrolled": true
   },
   "outputs": [
    {
     "name": "stdout",
     "output_type": "stream",
     "text": [
      "23 23.0\n"
     ]
    }
   ],
   "source": [
    "print(int(23), float(23))"
   ]
  },
  {
   "cell_type": "markdown",
   "id": "9068397e",
   "metadata": {},
   "source": [
    "Operators:\n",
    "    Arithematic\n",
    "    Assignment\n",
    "    Relational\n",
    "    Logicaal\n",
    "    Bitwise"
   ]
  },
  {
   "cell_type": "code",
   "execution_count": 37,
   "id": "58a6edc5",
   "metadata": {},
   "outputs": [],
   "source": [
    "x = 5\n",
    "y = 2\n"
   ]
  },
  {
   "cell_type": "code",
   "execution_count": 38,
   "id": "2cc1c1e8",
   "metadata": {},
   "outputs": [
    {
     "data": {
      "text/plain": [
       "2.5"
      ]
     },
     "execution_count": 38,
     "metadata": {},
     "output_type": "execute_result"
    }
   ],
   "source": [
    "x / y    # Quotient"
   ]
  },
  {
   "cell_type": "code",
   "execution_count": 39,
   "id": "55909687",
   "metadata": {},
   "outputs": [
    {
     "data": {
      "text/plain": [
       "2"
      ]
     },
     "execution_count": 39,
     "metadata": {},
     "output_type": "execute_result"
    }
   ],
   "source": [
    "x // y   # Integer Quotient"
   ]
  },
  {
   "cell_type": "code",
   "execution_count": 40,
   "id": "30519ffc",
   "metadata": {},
   "outputs": [
    {
     "data": {
      "text/plain": [
       "1"
      ]
     },
     "execution_count": 40,
     "metadata": {},
     "output_type": "execute_result"
    }
   ],
   "source": [
    "x % y     # Remainder"
   ]
  },
  {
   "cell_type": "markdown",
   "id": "977c1de3",
   "metadata": {},
   "source": [
    "# Functions"
   ]
  },
  {
   "cell_type": "code",
   "execution_count": 44,
   "id": "b3f84068",
   "metadata": {},
   "outputs": [
    {
     "name": "stdout",
     "output_type": "stream",
     "text": [
      "5\n"
     ]
    }
   ],
   "source": [
    "def myFunction(param1, param2):\n",
    "    output = param1 + param2\n",
    "    return output                   # by default it returns None\n",
    "\n",
    "print(myFunction(2,3))"
   ]
  },
  {
   "cell_type": "code",
   "execution_count": 45,
   "id": "0dd45056",
   "metadata": {},
   "outputs": [
    {
     "name": "stdout",
     "output_type": "stream",
     "text": [
      "70 30\n"
     ]
    }
   ],
   "source": [
    "def calc1(param1, param2):\n",
    "    sum = param1 + param2\n",
    "    diff = param1 - param2\n",
    "    return sum, diff\n",
    "\n",
    "a, b = calc1(50, 20)\n",
    "print(a, b)"
   ]
  },
  {
   "cell_type": "code",
   "execution_count": 46,
   "id": "26cf3fd0",
   "metadata": {},
   "outputs": [
    {
     "name": "stdout",
     "output_type": "stream",
     "text": [
      "70 30\n"
     ]
    }
   ],
   "source": [
    "def calc2(param1, param2):\n",
    "    \"\"\"This is a simple calculator which returns summation and difference between 2 numbers\"\"\"\n",
    "    sum = param1 + param2\n",
    "    diff = param1 - param2\n",
    "    \"This is not a help Doc. Only the string starting at first line in the function is considered as help doc\"\n",
    "    return sum, diff\n",
    "\n",
    "a, b = calc2(50, 20)\n",
    "print(a, b)"
   ]
  },
  {
   "cell_type": "code",
   "execution_count": 48,
   "id": "2a0d8c0f",
   "metadata": {},
   "outputs": [
    {
     "name": "stdout",
     "output_type": "stream",
     "text": [
      "Help on function calc2 in module __main__:\n",
      "\n",
      "calc2(param1, param2)\n",
      "    This is a simple calculator which returns summation and difference between 2 numbers\n",
      "\n"
     ]
    }
   ],
   "source": [
    "help(calc2)"
   ]
  },
  {
   "cell_type": "code",
   "execution_count": 52,
   "id": "773efa19",
   "metadata": {},
   "outputs": [
    {
     "name": "stdout",
     "output_type": "stream",
     "text": [
      "Enter Temperature : 45\n",
      "Cold\n"
     ]
    }
   ],
   "source": [
    "def temp_check(temp):\n",
    "    if temp > 99:\n",
    "        return 'Hot'\n",
    "    elif temp > 60:\n",
    "        return 'Normal'\n",
    "    else:\n",
    "        return 'Cold'\n",
    "    \n",
    "temp = int(input('Enter Temperature : '))\n",
    "print(temp_check(temp))\n"
   ]
  },
  {
   "cell_type": "code",
   "execution_count": 58,
   "id": "0739f9ea",
   "metadata": {},
   "outputs": [
    {
     "name": "stdout",
     "output_type": "stream",
     "text": [
      "Is Parrot talking 0 or 11\n",
      "Enter Hour90\n",
      "True\n"
     ]
    }
   ],
   "source": [
    "def isTrouble(parrot, hour):\n",
    "    if parrot:\n",
    "        if hour >= 20 or hour <= 7:\n",
    "            return True\n",
    "        \n",
    "    return False\n",
    "\n",
    "print(isTrouble(int(input('Is Parrot talking 0 or 1')),int(input('Enter Hour'))))"
   ]
  },
  {
   "cell_type": "markdown",
   "id": "7189c5d9",
   "metadata": {},
   "source": [
    "# Builtin Data Types"
   ]
  },
  {
   "cell_type": "markdown",
   "id": "0bda59af",
   "metadata": {},
   "source": [
    "Strings"
   ]
  },
  {
   "cell_type": "code",
   "execution_count": 59,
   "id": "3a77b2aa",
   "metadata": {},
   "outputs": [],
   "source": [
    "msg1 = 'Python'"
   ]
  },
  {
   "cell_type": "code",
   "execution_count": 60,
   "id": "22268265",
   "metadata": {},
   "outputs": [
    {
     "data": {
      "text/plain": [
       "'P'"
      ]
     },
     "execution_count": 60,
     "metadata": {},
     "output_type": "execute_result"
    }
   ],
   "source": [
    "msg1[0]"
   ]
  },
  {
   "cell_type": "code",
   "execution_count": 61,
   "id": "c0f50ab3",
   "metadata": {},
   "outputs": [
    {
     "ename": "TypeError",
     "evalue": "'str' object does not support item assignment",
     "output_type": "error",
     "traceback": [
      "\u001b[1;31m---------------------------------------------------------------------------\u001b[0m",
      "\u001b[1;31mTypeError\u001b[0m                                 Traceback (most recent call last)",
      "Cell \u001b[1;32mIn[61], line 1\u001b[0m\n\u001b[1;32m----> 1\u001b[0m msg1[\u001b[38;5;241m0\u001b[39m] \u001b[38;5;241m=\u001b[39m \u001b[38;5;124m'\u001b[39m\u001b[38;5;124mQ\u001b[39m\u001b[38;5;124m'\u001b[39m\n",
      "\u001b[1;31mTypeError\u001b[0m: 'str' object does not support item assignment"
     ]
    }
   ],
   "source": [
    "msg1[0] = 'Q'"
   ]
  },
  {
   "cell_type": "markdown",
   "id": "28a3c1c9",
   "metadata": {},
   "source": [
    "#String Slicing"
   ]
  },
  {
   "cell_type": "code",
   "execution_count": 62,
   "id": "cb7f5510",
   "metadata": {},
   "outputs": [
    {
     "data": {
      "text/plain": [
       "'t'"
      ]
     },
     "execution_count": 62,
     "metadata": {},
     "output_type": "execute_result"
    }
   ],
   "source": [
    "msg1[-4]"
   ]
  },
  {
   "cell_type": "code",
   "execution_count": 65,
   "id": "3a1a0200",
   "metadata": {},
   "outputs": [
    {
     "ename": "IndexError",
     "evalue": "string index out of range",
     "output_type": "error",
     "traceback": [
      "\u001b[1;31m---------------------------------------------------------------------------\u001b[0m",
      "\u001b[1;31mIndexError\u001b[0m                                Traceback (most recent call last)",
      "Cell \u001b[1;32mIn[65], line 1\u001b[0m\n\u001b[1;32m----> 1\u001b[0m msg1[\u001b[38;5;241m-\u001b[39m\u001b[38;5;241m7\u001b[39m]\n",
      "\u001b[1;31mIndexError\u001b[0m: string index out of range"
     ]
    }
   ],
   "source": [
    "msg1[-7]"
   ]
  },
  {
   "cell_type": "code",
   "execution_count": 64,
   "id": "7f456aa7",
   "metadata": {},
   "outputs": [
    {
     "data": {
      "text/plain": [
       "'P'"
      ]
     },
     "execution_count": 64,
     "metadata": {},
     "output_type": "execute_result"
    }
   ],
   "source": [
    "msg1[-6]"
   ]
  },
  {
   "cell_type": "code",
   "execution_count": 66,
   "id": "1d4792d7",
   "metadata": {},
   "outputs": [
    {
     "ename": "IndexError",
     "evalue": "string index out of range",
     "output_type": "error",
     "traceback": [
      "\u001b[1;31m---------------------------------------------------------------------------\u001b[0m",
      "\u001b[1;31mIndexError\u001b[0m                                Traceback (most recent call last)",
      "Cell \u001b[1;32mIn[66], line 1\u001b[0m\n\u001b[1;32m----> 1\u001b[0m msg1[\u001b[38;5;241m7\u001b[39m]\n",
      "\u001b[1;31mIndexError\u001b[0m: string index out of range"
     ]
    }
   ],
   "source": [
    "msg1[7]"
   ]
  },
  {
   "cell_type": "code",
   "execution_count": 67,
   "id": "a0739c29",
   "metadata": {},
   "outputs": [
    {
     "data": {
      "text/plain": [
       "'tho'"
      ]
     },
     "execution_count": 67,
     "metadata": {},
     "output_type": "execute_result"
    }
   ],
   "source": [
    "msg1[2:5]"
   ]
  },
  {
   "cell_type": "code",
   "execution_count": 68,
   "id": "96bbb1f1",
   "metadata": {},
   "outputs": [
    {
     "data": {
      "text/plain": [
       "'yhn'"
      ]
     },
     "execution_count": 68,
     "metadata": {},
     "output_type": "execute_result"
    }
   ],
   "source": [
    "msg1[1:6:2]"
   ]
  },
  {
   "cell_type": "code",
   "execution_count": 69,
   "id": "0cb726b9",
   "metadata": {},
   "outputs": [],
   "source": [
    "mystring = 'ABCDEFGHIJKL'"
   ]
  },
  {
   "cell_type": "code",
   "execution_count": 70,
   "id": "4bb69e2d",
   "metadata": {},
   "outputs": [
    {
     "data": {
      "text/plain": [
       "'EFGHIJ'"
      ]
     },
     "execution_count": 70,
     "metadata": {},
     "output_type": "execute_result"
    }
   ],
   "source": [
    "mystring[-8:-2]"
   ]
  },
  {
   "cell_type": "code",
   "execution_count": 71,
   "id": "f8c63369",
   "metadata": {},
   "outputs": [
    {
     "data": {
      "text/plain": [
       "'ABCDEFGHIJKL'"
      ]
     },
     "execution_count": 71,
     "metadata": {},
     "output_type": "execute_result"
    }
   ],
   "source": [
    "mystring[:]"
   ]
  },
  {
   "cell_type": "code",
   "execution_count": 72,
   "id": "e6d083a7",
   "metadata": {},
   "outputs": [
    {
     "data": {
      "text/plain": [
       "''"
      ]
     },
     "execution_count": 72,
     "metadata": {},
     "output_type": "execute_result"
    }
   ],
   "source": [
    "mystring[-2:2]"
   ]
  },
  {
   "cell_type": "code",
   "execution_count": 73,
   "id": "8cfdf691",
   "metadata": {},
   "outputs": [
    {
     "data": {
      "text/plain": [
       "'CDEFGHIJ'"
      ]
     },
     "execution_count": 73,
     "metadata": {},
     "output_type": "execute_result"
    }
   ],
   "source": [
    "mystring[2:-2]"
   ]
  },
  {
   "cell_type": "code",
   "execution_count": 74,
   "id": "1d581dec",
   "metadata": {},
   "outputs": [
    {
     "name": "stdout",
     "output_type": "stream",
     "text": [
      "HelloHelloHello\n"
     ]
    }
   ],
   "source": [
    "var1 = \"Hello\"\n",
    "print(var1 * 3)"
   ]
  },
  {
   "cell_type": "code",
   "execution_count": 75,
   "id": "306acc01",
   "metadata": {},
   "outputs": [
    {
     "data": {
      "text/plain": [
       "True"
      ]
     },
     "execution_count": 75,
     "metadata": {},
     "output_type": "execute_result"
    }
   ],
   "source": [
    "'CDE' in mystring"
   ]
  },
  {
   "cell_type": "code",
   "execution_count": 76,
   "id": "edeb1744",
   "metadata": {},
   "outputs": [
    {
     "data": {
      "text/plain": [
       "False"
      ]
     },
     "execution_count": 76,
     "metadata": {},
     "output_type": "execute_result"
    }
   ],
   "source": [
    "'CDE' not in mystring"
   ]
  },
  {
   "cell_type": "code",
   "execution_count": 77,
   "id": "e5e31aa8",
   "metadata": {},
   "outputs": [
    {
     "name": "stdout",
     "output_type": "stream",
     "text": [
      "['__add__', '__class__', '__contains__', '__delattr__', '__dir__', '__doc__', '__eq__', '__format__', '__ge__', '__getattribute__', '__getitem__', '__getnewargs__', '__getstate__', '__gt__', '__hash__', '__init__', '__init_subclass__', '__iter__', '__le__', '__len__', '__lt__', '__mod__', '__mul__', '__ne__', '__new__', '__reduce__', '__reduce_ex__', '__repr__', '__rmod__', '__rmul__', '__setattr__', '__sizeof__', '__str__', '__subclasshook__', 'capitalize', 'casefold', 'center', 'count', 'encode', 'endswith', 'expandtabs', 'find', 'format', 'format_map', 'index', 'isalnum', 'isalpha', 'isascii', 'isdecimal', 'isdigit', 'isidentifier', 'islower', 'isnumeric', 'isprintable', 'isspace', 'istitle', 'isupper', 'join', 'ljust', 'lower', 'lstrip', 'maketrans', 'partition', 'removeprefix', 'removesuffix', 'replace', 'rfind', 'rindex', 'rjust', 'rpartition', 'rsplit', 'rstrip', 'split', 'splitlines', 'startswith', 'strip', 'swapcase', 'title', 'translate', 'upper', 'zfill']\n"
     ]
    }
   ],
   "source": [
    "print(dir(str))"
   ]
  },
  {
   "cell_type": "code",
   "execution_count": 78,
   "id": "fad944d6",
   "metadata": {},
   "outputs": [
    {
     "name": "stdout",
     "output_type": "stream",
     "text": [
      "Help on method_descriptor:\n",
      "\n",
      "replace(self, old, new, count=-1, /)\n",
      "    Return a copy with all occurrences of substring old replaced by new.\n",
      "    \n",
      "      count\n",
      "        Maximum number of occurrences to replace.\n",
      "        -1 (the default value) means replace all occurrences.\n",
      "    \n",
      "    If the optional argument count is given, only the first count occurrences are\n",
      "    replaced.\n",
      "\n"
     ]
    }
   ],
   "source": [
    "help(str.replace)"
   ]
  },
  {
   "cell_type": "code",
   "execution_count": 79,
   "id": "6674aa66",
   "metadata": {},
   "outputs": [
    {
     "data": {
      "text/plain": [
       "'ABCDEFGHIJKLMNOPQRSTUVWXYZ'"
      ]
     },
     "execution_count": 79,
     "metadata": {},
     "output_type": "execute_result"
    }
   ],
   "source": [
    "mystring.replace('L','LMNOPQRSTUVWXYZ')"
   ]
  },
  {
   "cell_type": "code",
   "execution_count": 80,
   "id": "ab221bc0",
   "metadata": {},
   "outputs": [
    {
     "data": {
      "text/plain": [
       "'ABCDEFGHIJKL'"
      ]
     },
     "execution_count": 80,
     "metadata": {},
     "output_type": "execute_result"
    }
   ],
   "source": [
    "mystring"
   ]
  },
  {
   "cell_type": "code",
   "execution_count": 81,
   "id": "f154c49e",
   "metadata": {},
   "outputs": [
    {
     "data": {
      "text/plain": [
       "str"
      ]
     },
     "execution_count": 81,
     "metadata": {},
     "output_type": "execute_result"
    }
   ],
   "source": [
    "\"Hello\".__class__"
   ]
  },
  {
   "cell_type": "code",
   "execution_count": 82,
   "id": "40d47f68",
   "metadata": {},
   "outputs": [
    {
     "ename": "SyntaxError",
     "evalue": "invalid decimal literal (3699228128.py, line 1)",
     "output_type": "error",
     "traceback": [
      "\u001b[1;36m  Cell \u001b[1;32mIn[82], line 1\u001b[1;36m\u001b[0m\n\u001b[1;33m    20.__class_\u001b[0m\n\u001b[1;37m      ^\u001b[0m\n\u001b[1;31mSyntaxError\u001b[0m\u001b[1;31m:\u001b[0m invalid decimal literal\n"
     ]
    }
   ],
   "source": [
    "20.__class_"
   ]
  },
  {
   "cell_type": "code",
   "execution_count": 83,
   "id": "70738bc0",
   "metadata": {},
   "outputs": [
    {
     "data": {
      "text/plain": [
       "int"
      ]
     },
     "execution_count": 83,
     "metadata": {},
     "output_type": "execute_result"
    }
   ],
   "source": [
    "a = 20\n",
    "a.__class__"
   ]
  },
  {
   "cell_type": "code",
   "execution_count": 84,
   "id": "2cfacc15",
   "metadata": {},
   "outputs": [
    {
     "data": {
      "text/plain": [
       "'kin* RIN# sin* Pin#'"
      ]
     },
     "execution_count": 84,
     "metadata": {},
     "output_type": "execute_result"
    }
   ],
   "source": [
    "mystr1 = \"king RING sing PinG\"\n",
    "mystr1.replace('g','*').replace('G','#')    # binding multiple methods in sequence is called as piping. "
   ]
  },
  {
   "cell_type": "code",
   "execution_count": 90,
   "id": "350abdb6",
   "metadata": {},
   "outputs": [
    {
     "data": {
      "text/plain": [
       "'kin* RIN# sin* Pin#'"
      ]
     },
     "execution_count": 90,
     "metadata": {},
     "output_type": "execute_result"
    }
   ],
   "source": [
    "mystr1 = \"king RING sing PinG\"\n",
    "mystr1.replace('g','*').replace('G','#')    # Sequence is, first come first serve"
   ]
  },
  {
   "cell_type": "code",
   "execution_count": 91,
   "id": "09b649da",
   "metadata": {},
   "outputs": [
    {
     "name": "stdout",
     "output_type": "stream",
     "text": [
      "Help on method_descriptor:\n",
      "\n",
      "find(...)\n",
      "    S.find(sub[, start[, end]]) -> int\n",
      "    \n",
      "    Return the lowest index in S where substring sub is found,\n",
      "    such that sub is contained within S[start:end].  Optional\n",
      "    arguments start and end are interpreted as in slice notation.\n",
      "    \n",
      "    Return -1 on failure.\n",
      "\n"
     ]
    }
   ],
   "source": [
    "help(str.find)"
   ]
  },
  {
   "cell_type": "code",
   "execution_count": 94,
   "id": "9f12ea58",
   "metadata": {},
   "outputs": [
    {
     "data": {
      "text/plain": [
       "2"
      ]
     },
     "execution_count": 94,
     "metadata": {},
     "output_type": "execute_result"
    }
   ],
   "source": [
    "mystr2 = 'This is a simple statement'\n",
    "mystr2.find('is')"
   ]
  },
  {
   "cell_type": "code",
   "execution_count": 95,
   "id": "d960ff1a",
   "metadata": {},
   "outputs": [
    {
     "name": "stdout",
     "output_type": "stream",
     "text": [
      "Help on method_descriptor:\n",
      "\n",
      "rfind(...)\n",
      "    S.rfind(sub[, start[, end]]) -> int\n",
      "    \n",
      "    Return the highest index in S where substring sub is found,\n",
      "    such that sub is contained within S[start:end].  Optional\n",
      "    arguments start and end are interpreted as in slice notation.\n",
      "    \n",
      "    Return -1 on failure.\n",
      "\n"
     ]
    }
   ],
   "source": [
    "help(str.rfind)"
   ]
  },
  {
   "cell_type": "code",
   "execution_count": 96,
   "id": "abdef2c9",
   "metadata": {},
   "outputs": [
    {
     "data": {
      "text/plain": [
       "1"
      ]
     },
     "execution_count": 96,
     "metadata": {},
     "output_type": "execute_result"
    }
   ],
   "source": [
    "mystr3 = \"king ring sing ping\"\n",
    "mystr3.find('ing')"
   ]
  },
  {
   "cell_type": "code",
   "execution_count": 97,
   "id": "9a16dc39",
   "metadata": {},
   "outputs": [
    {
     "data": {
      "text/plain": [
       "16"
      ]
     },
     "execution_count": 97,
     "metadata": {},
     "output_type": "execute_result"
    }
   ],
   "source": [
    "mystr3.rfind('ing')"
   ]
  },
  {
   "cell_type": "code",
   "execution_count": 98,
   "id": "4de6e610",
   "metadata": {},
   "outputs": [
    {
     "data": {
      "text/plain": [
       "2"
      ]
     },
     "execution_count": 98,
     "metadata": {},
     "output_type": "execute_result"
    }
   ],
   "source": [
    "mystr4 = \"NationaL stOck ExchAnge\"\n",
    "\n",
    "mystr4.count('a')"
   ]
  },
  {
   "cell_type": "code",
   "execution_count": 100,
   "id": "8f83008d",
   "metadata": {},
   "outputs": [
    {
     "data": {
      "text/plain": [
       "'national stock exchange'"
      ]
     },
     "execution_count": 100,
     "metadata": {},
     "output_type": "execute_result"
    }
   ],
   "source": [
    "mystr4.lower()"
   ]
  },
  {
   "cell_type": "code",
   "execution_count": 101,
   "id": "16b8eed2",
   "metadata": {},
   "outputs": [
    {
     "data": {
      "text/plain": [
       "'NATIONAL STOCK EXCHANGE'"
      ]
     },
     "execution_count": 101,
     "metadata": {},
     "output_type": "execute_result"
    }
   ],
   "source": [
    "mystr4.upper()"
   ]
  },
  {
   "cell_type": "code",
   "execution_count": 102,
   "id": "5f575982",
   "metadata": {},
   "outputs": [
    {
     "data": {
      "text/plain": [
       "'National stock exchange'"
      ]
     },
     "execution_count": 102,
     "metadata": {},
     "output_type": "execute_result"
    }
   ],
   "source": [
    "mystr4.capitalize()"
   ]
  },
  {
   "cell_type": "code",
   "execution_count": 103,
   "id": "0a76add6",
   "metadata": {},
   "outputs": [
    {
     "data": {
      "text/plain": [
       "'National Stock Exchange'"
      ]
     },
     "execution_count": 103,
     "metadata": {},
     "output_type": "execute_result"
    }
   ],
   "source": [
    "mystr4.title()"
   ]
  },
  {
   "cell_type": "code",
   "execution_count": 107,
   "id": "a05883e2",
   "metadata": {},
   "outputs": [
    {
     "data": {
      "text/plain": [
       "'nATIONAl SToCK eXCHaNGE'"
      ]
     },
     "execution_count": 107,
     "metadata": {},
     "output_type": "execute_result"
    }
   ],
   "source": [
    "mystr4.swapcase()"
   ]
  },
  {
   "cell_type": "code",
   "execution_count": 104,
   "id": "22821e2a",
   "metadata": {},
   "outputs": [
    {
     "name": "stdout",
     "output_type": "stream",
     "text": [
      "True\n"
     ]
    }
   ],
   "source": [
    "print(\"1234\".isdigit())"
   ]
  },
  {
   "cell_type": "code",
   "execution_count": 105,
   "id": "c17de814",
   "metadata": {},
   "outputs": [
    {
     "name": "stdout",
     "output_type": "stream",
     "text": [
      "True\n"
     ]
    }
   ],
   "source": [
    "print(\"Ravi\".isalpha())"
   ]
  },
  {
   "cell_type": "code",
   "execution_count": 106,
   "id": "93a79e61",
   "metadata": {},
   "outputs": [
    {
     "name": "stdout",
     "output_type": "stream",
     "text": [
      "True\n"
     ]
    }
   ],
   "source": [
    "print(\"Ravi123\".isalnum())"
   ]
  },
  {
   "cell_type": "code",
   "execution_count": 108,
   "id": "4afe04fe",
   "metadata": {},
   "outputs": [
    {
     "name": "stdout",
     "output_type": "stream",
     "text": [
      "Help on method_descriptor:\n",
      "\n",
      "split(self, /, sep=None, maxsplit=-1)\n",
      "    Return a list of the substrings in the string, using sep as the separator string.\n",
      "    \n",
      "      sep\n",
      "        The separator used to split the string.\n",
      "    \n",
      "        When set to None (the default value), will split on any whitespace\n",
      "        character (including \\\\n \\\\r \\\\t \\\\f and spaces) and will discard\n",
      "        empty strings from the result.\n",
      "      maxsplit\n",
      "        Maximum number of splits (starting from the left).\n",
      "        -1 (the default value) means no limit.\n",
      "    \n",
      "    Note, str.split() is mainly useful for data that has been intentionally\n",
      "    delimited.  With natural text that includes punctuation, consider using\n",
      "    the regular expression module.\n",
      "\n"
     ]
    }
   ],
   "source": [
    "help(str.split)"
   ]
  },
  {
   "cell_type": "code",
   "execution_count": 109,
   "id": "4365eeaa",
   "metadata": {},
   "outputs": [
    {
     "data": {
      "text/plain": [
       "['NationaL', 'stOck', 'ExchAnge']"
      ]
     },
     "execution_count": 109,
     "metadata": {},
     "output_type": "execute_result"
    }
   ],
   "source": [
    "mystr4.split()"
   ]
  },
  {
   "cell_type": "code",
   "execution_count": 110,
   "id": "d0918c58",
   "metadata": {},
   "outputs": [
    {
     "data": {
      "text/plain": [
       "['NationaL stOck ExchAnge']"
      ]
     },
     "execution_count": 110,
     "metadata": {},
     "output_type": "execute_result"
    }
   ],
   "source": [
    "mystr4.split('/')"
   ]
  },
  {
   "cell_type": "code",
   "execution_count": 111,
   "id": "4c500900",
   "metadata": {},
   "outputs": [
    {
     "data": {
      "text/plain": [
       "['N', 'tion', 'L stOck ExchAnge']"
      ]
     },
     "execution_count": 111,
     "metadata": {},
     "output_type": "execute_result"
    }
   ],
   "source": [
    "mystr4.split('a')"
   ]
  },
  {
   "cell_type": "code",
   "execution_count": 112,
   "id": "78081ccf",
   "metadata": {},
   "outputs": [
    {
     "data": {
      "text/plain": [
       "['N', 'tionaL stOck ExchAnge']"
      ]
     },
     "execution_count": 112,
     "metadata": {},
     "output_type": "execute_result"
    }
   ],
   "source": [
    "mystr4.split('a', 1)"
   ]
  },
  {
   "cell_type": "code",
   "execution_count": 113,
   "id": "91ee0d60",
   "metadata": {},
   "outputs": [
    {
     "data": {
      "text/plain": [
       "['NationaL', 'stOck ExchAnge']"
      ]
     },
     "execution_count": 113,
     "metadata": {},
     "output_type": "execute_result"
    }
   ],
   "source": [
    "mystr4.split(maxsplit = 1)"
   ]
  },
  {
   "cell_type": "code",
   "execution_count": 114,
   "id": "1b42891d",
   "metadata": {},
   "outputs": [
    {
     "name": "stdout",
     "output_type": "stream",
     "text": [
      "Help on method_descriptor:\n",
      "\n",
      "join(self, iterable, /)\n",
      "    Concatenate any number of strings.\n",
      "    \n",
      "    The string whose method is called is inserted in between each given string.\n",
      "    The result is returned as a new string.\n",
      "    \n",
      "    Example: '.'.join(['ab', 'pq', 'rs']) -> 'ab.pq.rs'\n",
      "\n"
     ]
    }
   ],
   "source": [
    "help(str.join)"
   ]
  },
  {
   "cell_type": "code",
   "execution_count": 116,
   "id": "3de56867",
   "metadata": {},
   "outputs": [
    {
     "data": {
      "text/plain": [
       "'Ravi + Manyata + Maanvi'"
      ]
     },
     "execution_count": 116,
     "metadata": {},
     "output_type": "execute_result"
    }
   ],
   "source": [
    "mylist1 = ['Ravi','Manyata','Maanvi']\n",
    "' + '.join(mylist1)"
   ]
  },
  {
   "cell_type": "code",
   "execution_count": 117,
   "id": "384217d7",
   "metadata": {},
   "outputs": [
    {
     "data": {
      "text/plain": [
       "'Average Data Science marks of 50 students is 89.23 in exam'"
      ]
     },
     "execution_count": 117,
     "metadata": {},
     "output_type": "execute_result"
    }
   ],
   "source": [
    "sub = \"Data Science\"\n",
    "avg = 89.23\n",
    "num = 50\n",
    "\n",
    "# unconstraints formatting\n",
    "ns1 = 'Average {} marks of {} students is {} in exam'.format(sub,num,avg)\n",
    "ns1"
   ]
  },
  {
   "cell_type": "code",
   "execution_count": 118,
   "id": "ffb86772",
   "metadata": {},
   "outputs": [
    {
     "data": {
      "text/plain": [
       "'Average Data Science marks of 50 students is 89.230000 in exam'"
      ]
     },
     "execution_count": 118,
     "metadata": {},
     "output_type": "execute_result"
    }
   ],
   "source": [
    "#formatting\n",
    "ns2 = 'Average {:s} marks of {:d} students is {:f} in exam'.format(sub,num,avg)\n",
    "ns2"
   ]
  },
  {
   "cell_type": "code",
   "execution_count": 119,
   "id": "e71a1683",
   "metadata": {},
   "outputs": [
    {
     "ename": "ValueError",
     "evalue": "Unknown format code 's' for object of type 'int'",
     "output_type": "error",
     "traceback": [
      "\u001b[1;31m---------------------------------------------------------------------------\u001b[0m",
      "\u001b[1;31mValueError\u001b[0m                                Traceback (most recent call last)",
      "Cell \u001b[1;32mIn[119], line 2\u001b[0m\n\u001b[0;32m      1\u001b[0m \u001b[38;5;66;03m#formatting\u001b[39;00m\n\u001b[1;32m----> 2\u001b[0m ns2 \u001b[38;5;241m=\u001b[39m \u001b[38;5;124m'\u001b[39m\u001b[38;5;124mAverage \u001b[39m\u001b[38;5;132;01m{:s}\u001b[39;00m\u001b[38;5;124m marks of \u001b[39m\u001b[38;5;132;01m{:d}\u001b[39;00m\u001b[38;5;124m students is \u001b[39m\u001b[38;5;132;01m{:f}\u001b[39;00m\u001b[38;5;124m in exam\u001b[39m\u001b[38;5;124m'\u001b[39m\u001b[38;5;241m.\u001b[39mformat(num,sub,avg)\n\u001b[0;32m      3\u001b[0m ns2\n",
      "\u001b[1;31mValueError\u001b[0m: Unknown format code 's' for object of type 'int'"
     ]
    }
   ],
   "source": [
    "#formatting\n",
    "ns3 = 'Average {:s} marks of {:d} students is {:f} in exam'.format(num,sub,avg)\n",
    "ns3"
   ]
  },
  {
   "cell_type": "code",
   "execution_count": 120,
   "id": "1c727573",
   "metadata": {},
   "outputs": [
    {
     "data": {
      "text/plain": [
       "'Average Data Science marks of 50 students is 89.230000 in exam'"
      ]
     },
     "execution_count": 120,
     "metadata": {},
     "output_type": "execute_result"
    }
   ],
   "source": [
    "# replacement index and data type constraint formatting\n",
    "ns4 = 'Average {1:s} marks of {0:d} students is {2:f} in exam'.format(num,sub,avg)\n",
    "ns4"
   ]
  },
  {
   "cell_type": "code",
   "execution_count": 121,
   "id": "dcaf44b4",
   "metadata": {},
   "outputs": [
    {
     "data": {
      "text/plain": [
       "'Average Data Science marks of 50 students is 89.230000 in exam'"
      ]
     },
     "execution_count": 121,
     "metadata": {},
     "output_type": "execute_result"
    }
   ],
   "source": [
    "# replacement index constraint formatting\n",
    "ns5 = 'Average {1} marks of {0} students is {2} in exam'.format(num,sub,avg)\n",
    "ns5"
   ]
  },
  {
   "cell_type": "code",
   "execution_count": 123,
   "id": "124757a9",
   "metadata": {},
   "outputs": [
    {
     "data": {
      "text/plain": [
       "'sPython    e'"
      ]
     },
     "execution_count": 123,
     "metadata": {},
     "output_type": "execute_result"
    }
   ],
   "source": [
    "ns6 = \"Python\"\n",
    "\n",
    "\"s{:10s}e\".format(ns6)"
   ]
  },
  {
   "cell_type": "code",
   "execution_count": 124,
   "id": "ffe047f1",
   "metadata": {},
   "outputs": [
    {
     "data": {
      "text/plain": [
       "'sPython    e'"
      ]
     },
     "execution_count": 124,
     "metadata": {},
     "output_type": "execute_result"
    }
   ],
   "source": [
    "\"s{:<10s}e\".format(ns6)"
   ]
  },
  {
   "cell_type": "code",
   "execution_count": 125,
   "id": "b9781079",
   "metadata": {},
   "outputs": [
    {
     "data": {
      "text/plain": [
       "'s    Pythone'"
      ]
     },
     "execution_count": 125,
     "metadata": {},
     "output_type": "execute_result"
    }
   ],
   "source": [
    "\"s{:>10s}e\".format(ns6)"
   ]
  },
  {
   "cell_type": "code",
   "execution_count": 126,
   "id": "101b82b4",
   "metadata": {},
   "outputs": [
    {
     "data": {
      "text/plain": [
       "'s  Python  e'"
      ]
     },
     "execution_count": 126,
     "metadata": {},
     "output_type": "execute_result"
    }
   ],
   "source": [
    "\"s{:^10s}e\".format(ns6)"
   ]
  },
  {
   "cell_type": "code",
   "execution_count": 127,
   "id": "6ef16dcf",
   "metadata": {},
   "outputs": [
    {
     "ename": "ValueError",
     "evalue": "Invalid format specifier '*10s' for object of type 'str'",
     "output_type": "error",
     "traceback": [
      "\u001b[1;31m---------------------------------------------------------------------------\u001b[0m",
      "\u001b[1;31mValueError\u001b[0m                                Traceback (most recent call last)",
      "Cell \u001b[1;32mIn[127], line 1\u001b[0m\n\u001b[1;32m----> 1\u001b[0m \u001b[38;5;124m\"\u001b[39m\u001b[38;5;124ms\u001b[39m\u001b[38;5;124m{\u001b[39m\u001b[38;5;124m:*10s}e\u001b[39m\u001b[38;5;124m\"\u001b[39m\u001b[38;5;241m.\u001b[39mformat(ns6)\n",
      "\u001b[1;31mValueError\u001b[0m: Invalid format specifier '*10s' for object of type 'str'"
     ]
    }
   ],
   "source": [
    "\"s{:*10s}e\".format(ns6)"
   ]
  },
  {
   "cell_type": "code",
   "execution_count": 129,
   "id": "9d904943",
   "metadata": {},
   "outputs": [
    {
     "data": {
      "text/plain": [
       "'s****Pythone'"
      ]
     },
     "execution_count": 129,
     "metadata": {},
     "output_type": "execute_result"
    }
   ],
   "source": [
    "\"s{:*>10s}e\".format(ns6)"
   ]
  },
  {
   "cell_type": "code",
   "execution_count": 131,
   "id": "1479f028",
   "metadata": {},
   "outputs": [
    {
     "data": {
      "text/plain": [
       "'sPython****e'"
      ]
     },
     "execution_count": 131,
     "metadata": {},
     "output_type": "execute_result"
    }
   ],
   "source": [
    "\"s{:*<10s}e\".format(ns6)"
   ]
  },
  {
   "cell_type": "code",
   "execution_count": 132,
   "id": "4cc95628",
   "metadata": {},
   "outputs": [
    {
     "name": "stdout",
     "output_type": "stream",
     "text": [
      "*\n",
      "***\n",
      "*****\n",
      "*******\n",
      "*********\n"
     ]
    }
   ],
   "source": [
    "for i in range(1,10,2):\n",
    "    print(\"{}\".format('*'*i))"
   ]
  },
  {
   "cell_type": "code",
   "execution_count": 133,
   "id": "572e0c90",
   "metadata": {},
   "outputs": [
    {
     "name": "stdout",
     "output_type": "stream",
     "text": [
      "*\n",
      "***\n",
      "*****\n",
      "*******\n",
      "*********\n"
     ]
    }
   ],
   "source": [
    "for i in range(1,10,2):\n",
    "    print(\"{:^s}\".format('*'*i))"
   ]
  },
  {
   "cell_type": "code",
   "execution_count": 134,
   "id": "dea3a984",
   "metadata": {},
   "outputs": [
    {
     "name": "stdout",
     "output_type": "stream",
     "text": [
      "    *     \n",
      "   ***    \n",
      "  *****   \n",
      " *******  \n",
      "********* \n"
     ]
    }
   ],
   "source": [
    "for i in range(1,10,2):\n",
    "    print(\"{:^10s}\".format('*'*i))"
   ]
  },
  {
   "cell_type": "markdown",
   "id": "09d169dc",
   "metadata": {},
   "source": [
    "Escape Sequences"
   ]
  },
  {
   "cell_type": "code",
   "execution_count": 135,
   "id": "91d63c5f",
   "metadata": {},
   "outputs": [
    {
     "name": "stdout",
     "output_type": "stream",
     "text": [
      "Stock Exchange\n"
     ]
    }
   ],
   "source": [
    "print('Stock Exchange')"
   ]
  },
  {
   "cell_type": "code",
   "execution_count": 137,
   "id": "6cbafd83",
   "metadata": {},
   "outputs": [
    {
     "name": "stdout",
     "output_type": "stream",
     "text": [
      "Stock\n",
      "Exchange\n"
     ]
    }
   ],
   "source": [
    "print('Stock\\nExchange')"
   ]
  },
  {
   "cell_type": "code",
   "execution_count": 138,
   "id": "53439a61",
   "metadata": {},
   "outputs": [
    {
     "name": "stdout",
     "output_type": "stream",
     "text": [
      "Stock\tExchange\n"
     ]
    }
   ],
   "source": [
    "print('Stock\\tExchange')"
   ]
  },
  {
   "cell_type": "code",
   "execution_count": 139,
   "id": "4d46dfca",
   "metadata": {},
   "outputs": [
    {
     "name": "stdout",
     "output_type": "stream",
     "text": [
      "Stock\\Exchange\n"
     ]
    }
   ],
   "source": [
    "print('Stock\\Exchange')"
   ]
  },
  {
   "cell_type": "code",
   "execution_count": 140,
   "id": "753a2270",
   "metadata": {},
   "outputs": [
    {
     "name": "stdout",
     "output_type": "stream",
     "text": [
      "Stock\\Exchange\n"
     ]
    }
   ],
   "source": [
    "print('Stock\\\\Exchange')"
   ]
  },
  {
   "cell_type": "code",
   "execution_count": 141,
   "id": "375e91bc",
   "metadata": {},
   "outputs": [
    {
     "name": "stdout",
     "output_type": "stream",
     "text": [
      "Stock\trading\n"
     ]
    }
   ],
   "source": [
    "print('Stock\\trading')"
   ]
  },
  {
   "cell_type": "code",
   "execution_count": 142,
   "id": "b5d931ea",
   "metadata": {},
   "outputs": [
    {
     "name": "stdout",
     "output_type": "stream",
     "text": [
      "Stock\bExchange\n"
     ]
    }
   ],
   "source": [
    "print('Stock\\bExchange')"
   ]
  },
  {
   "cell_type": "code",
   "execution_count": 143,
   "id": "43d49868",
   "metadata": {},
   "outputs": [
    {
     "name": "stdout",
     "output_type": "stream",
     "text": [
      "Stock\r",
      "Exchange\n"
     ]
    }
   ],
   "source": [
    "print('Stock\\rExchange')"
   ]
  },
  {
   "cell_type": "code",
   "execution_count": 144,
   "id": "5ec42717",
   "metadata": {},
   "outputs": [
    {
     "name": "stdout",
     "output_type": "stream",
     "text": [
      "Exchange\r",
      "Stock\n"
     ]
    }
   ],
   "source": [
    "print('Exchange\\rStock')"
   ]
  },
  {
   "cell_type": "code",
   "execution_count": 145,
   "id": "9363afb3",
   "metadata": {},
   "outputs": [
    {
     "name": "stdout",
     "output_type": "stream",
     "text": [
      "c:\tiger\n"
     ]
    }
   ],
   "source": [
    "print('c:\\tiger')"
   ]
  },
  {
   "cell_type": "code",
   "execution_count": 146,
   "id": "ee1cc8a8",
   "metadata": {},
   "outputs": [
    {
     "name": "stdout",
     "output_type": "stream",
     "text": [
      "c:\\tiger\n"
     ]
    }
   ],
   "source": [
    "print('c:\\\\tiger')"
   ]
  },
  {
   "cell_type": "markdown",
   "id": "d30929a2",
   "metadata": {},
   "source": [
    "# Lists"
   ]
  },
  {
   "cell_type": "code",
   "execution_count": 149,
   "id": "059239fc",
   "metadata": {},
   "outputs": [
    {
     "name": "stdout",
     "output_type": "stream",
     "text": [
      "['P', 'y', 't', 'h', 'o', 'n', '_', 'F', 'o', 'r', '_', 'D', 'a', 't', 'a', '_', 'S', 'c', 'i', 'e', 'n', 'c', 'e']\n",
      "<class 'list'>\n",
      "23\n"
     ]
    }
   ],
   "source": [
    "mlist1 = list('Python_For_Data_Science')\n",
    "print(mlist1)\n",
    "print(type(mlist1))\n",
    "print(len(mlist1))"
   ]
  },
  {
   "cell_type": "markdown",
   "id": "b72cf937",
   "metadata": {},
   "source": [
    "mlist1[24]"
   ]
  },
  {
   "cell_type": "code",
   "execution_count": 150,
   "id": "221c6452",
   "metadata": {},
   "outputs": [
    {
     "ename": "IndexError",
     "evalue": "list index out of range",
     "output_type": "error",
     "traceback": [
      "\u001b[1;31m---------------------------------------------------------------------------\u001b[0m",
      "\u001b[1;31mIndexError\u001b[0m                                Traceback (most recent call last)",
      "Cell \u001b[1;32mIn[150], line 1\u001b[0m\n\u001b[1;32m----> 1\u001b[0m mlist1[\u001b[38;5;241m24\u001b[39m]\n",
      "\u001b[1;31mIndexError\u001b[0m: list index out of range"
     ]
    }
   ],
   "source": [
    "mlist1[24]"
   ]
  },
  {
   "cell_type": "code",
   "execution_count": 151,
   "id": "8f02869d",
   "metadata": {},
   "outputs": [],
   "source": [
    "mylist1 = [\"ABC\", \"DEF\", \"GHIJ\"]\n",
    "mylist2 = [ 123, 456,  789 ]"
   ]
  },
  {
   "cell_type": "code",
   "execution_count": 152,
   "id": "06fae8ba",
   "metadata": {},
   "outputs": [
    {
     "data": {
      "text/plain": [
       "['ABC', 'DEF', 'GHIJ', 123, 456, 789]"
      ]
     },
     "execution_count": 152,
     "metadata": {},
     "output_type": "execute_result"
    }
   ],
   "source": [
    "mylist1 + mylist2"
   ]
  },
  {
   "cell_type": "code",
   "execution_count": 153,
   "id": "97e100e6",
   "metadata": {},
   "outputs": [
    {
     "data": {
      "text/plain": [
       "['ABC', 'DEF', 'GHIJ', 'ABC', 'DEF', 'GHIJ']"
      ]
     },
     "execution_count": 153,
     "metadata": {},
     "output_type": "execute_result"
    }
   ],
   "source": [
    "mylist1 * 2"
   ]
  },
  {
   "cell_type": "code",
   "execution_count": 154,
   "id": "c235f61b",
   "metadata": {},
   "outputs": [
    {
     "data": {
      "text/plain": [
       "[456]"
      ]
     },
     "execution_count": 154,
     "metadata": {},
     "output_type": "execute_result"
    }
   ],
   "source": [
    "mylist2[1:2]"
   ]
  },
  {
   "cell_type": "code",
   "execution_count": 155,
   "id": "82eb4d4f",
   "metadata": {},
   "outputs": [
    {
     "data": {
      "text/plain": [
       "True"
      ]
     },
     "execution_count": 155,
     "metadata": {},
     "output_type": "execute_result"
    }
   ],
   "source": [
    "123 in mylist2"
   ]
  },
  {
   "cell_type": "code",
   "execution_count": 156,
   "id": "c0a18f02",
   "metadata": {},
   "outputs": [],
   "source": [
    "matrix34 = [[11,12,13,14],[15,16,17,18],[19,20,21,22]]"
   ]
  },
  {
   "cell_type": "code",
   "execution_count": 157,
   "id": "08cd284a",
   "metadata": {},
   "outputs": [
    {
     "data": {
      "text/plain": [
       "16"
      ]
     },
     "execution_count": 157,
     "metadata": {},
     "output_type": "execute_result"
    }
   ],
   "source": [
    "matrix34[1][1]"
   ]
  },
  {
   "cell_type": "code",
   "execution_count": 158,
   "id": "e2b15a8a",
   "metadata": {},
   "outputs": [
    {
     "data": {
      "text/plain": [
       "['__add__',\n",
       " '__class__',\n",
       " '__class_getitem__',\n",
       " '__contains__',\n",
       " '__delattr__',\n",
       " '__delitem__',\n",
       " '__dir__',\n",
       " '__doc__',\n",
       " '__eq__',\n",
       " '__format__',\n",
       " '__ge__',\n",
       " '__getattribute__',\n",
       " '__getitem__',\n",
       " '__getstate__',\n",
       " '__gt__',\n",
       " '__hash__',\n",
       " '__iadd__',\n",
       " '__imul__',\n",
       " '__init__',\n",
       " '__init_subclass__',\n",
       " '__iter__',\n",
       " '__le__',\n",
       " '__len__',\n",
       " '__lt__',\n",
       " '__mul__',\n",
       " '__ne__',\n",
       " '__new__',\n",
       " '__reduce__',\n",
       " '__reduce_ex__',\n",
       " '__repr__',\n",
       " '__reversed__',\n",
       " '__rmul__',\n",
       " '__setattr__',\n",
       " '__setitem__',\n",
       " '__sizeof__',\n",
       " '__str__',\n",
       " '__subclasshook__',\n",
       " 'append',\n",
       " 'clear',\n",
       " 'copy',\n",
       " 'count',\n",
       " 'extend',\n",
       " 'index',\n",
       " 'insert',\n",
       " 'pop',\n",
       " 'remove',\n",
       " 'reverse',\n",
       " 'sort']"
      ]
     },
     "execution_count": 158,
     "metadata": {},
     "output_type": "execute_result"
    }
   ],
   "source": [
    "dir(list)"
   ]
  },
  {
   "cell_type": "code",
   "execution_count": 159,
   "id": "54b2bdb6",
   "metadata": {},
   "outputs": [
    {
     "name": "stdout",
     "output_type": "stream",
     "text": [
      "1653047183616\n"
     ]
    }
   ],
   "source": [
    "print(id(mylist1))"
   ]
  },
  {
   "cell_type": "code",
   "execution_count": 160,
   "id": "77146f91",
   "metadata": {},
   "outputs": [],
   "source": [
    "mylist1.append(24)"
   ]
  },
  {
   "cell_type": "code",
   "execution_count": 161,
   "id": "e8cd30ac",
   "metadata": {},
   "outputs": [
    {
     "name": "stdout",
     "output_type": "stream",
     "text": [
      "1653047183616\n"
     ]
    }
   ],
   "source": [
    "print(id(mylist1))"
   ]
  },
  {
   "cell_type": "code",
   "execution_count": 162,
   "id": "7abf9b32",
   "metadata": {},
   "outputs": [],
   "source": [
    "mylist1.append([1,2,3])"
   ]
  },
  {
   "cell_type": "code",
   "execution_count": 163,
   "id": "90670237",
   "metadata": {},
   "outputs": [
    {
     "data": {
      "text/plain": [
       "['ABC', 'DEF', 'GHIJ', 24, [1, 2, 3]]"
      ]
     },
     "execution_count": 163,
     "metadata": {},
     "output_type": "execute_result"
    }
   ],
   "source": [
    "mylist1"
   ]
  },
  {
   "cell_type": "code",
   "execution_count": 164,
   "id": "c3a765a1",
   "metadata": {},
   "outputs": [
    {
     "data": {
      "text/plain": [
       "[1, 2, 3]"
      ]
     },
     "execution_count": 164,
     "metadata": {},
     "output_type": "execute_result"
    }
   ],
   "source": [
    "mylist1.pop()"
   ]
  },
  {
   "cell_type": "code",
   "execution_count": 165,
   "id": "1b7ee6b2",
   "metadata": {},
   "outputs": [
    {
     "data": {
      "text/plain": [
       "['ABC', 'DEF', 'GHIJ', 24]"
      ]
     },
     "execution_count": 165,
     "metadata": {},
     "output_type": "execute_result"
    }
   ],
   "source": [
    "mylist1"
   ]
  },
  {
   "cell_type": "code",
   "execution_count": 166,
   "id": "95a059cd",
   "metadata": {},
   "outputs": [
    {
     "data": {
      "text/plain": [
       "24"
      ]
     },
     "execution_count": 166,
     "metadata": {},
     "output_type": "execute_result"
    }
   ],
   "source": [
    "mylist1.pop()"
   ]
  },
  {
   "cell_type": "code",
   "execution_count": 167,
   "id": "9d68e03f",
   "metadata": {},
   "outputs": [
    {
     "data": {
      "text/plain": [
       "['ABC', 'DEF', 'GHIJ']"
      ]
     },
     "execution_count": 167,
     "metadata": {},
     "output_type": "execute_result"
    }
   ],
   "source": [
    "mylist1"
   ]
  },
  {
   "cell_type": "code",
   "execution_count": 168,
   "id": "7d9b0150",
   "metadata": {},
   "outputs": [],
   "source": [
    "mylist1.extend(['KLM','NOPQ','RSTU','VWX','YZ'])"
   ]
  },
  {
   "cell_type": "code",
   "execution_count": 169,
   "id": "d28fabac",
   "metadata": {},
   "outputs": [
    {
     "data": {
      "text/plain": [
       "['ABC', 'DEF', 'GHIJ', 'KLM', 'NOPQ', 'RSTU', 'VWX', 'YZ']"
      ]
     },
     "execution_count": 169,
     "metadata": {},
     "output_type": "execute_result"
    }
   ],
   "source": [
    "mylist1"
   ]
  },
  {
   "cell_type": "code",
   "execution_count": 171,
   "id": "fd8d4e9f",
   "metadata": {},
   "outputs": [],
   "source": [
    "mylist1.insert(3, 'check')"
   ]
  },
  {
   "cell_type": "code",
   "execution_count": 172,
   "id": "568fac8d",
   "metadata": {},
   "outputs": [
    {
     "data": {
      "text/plain": [
       "['ABC', 'DEF', 'GHIJ', 'check', 'check', 'KLM', 'NOPQ', 'RSTU', 'VWX', 'YZ']"
      ]
     },
     "execution_count": 172,
     "metadata": {},
     "output_type": "execute_result"
    }
   ],
   "source": [
    "mylist1"
   ]
  },
  {
   "cell_type": "code",
   "execution_count": 173,
   "id": "02ef136e",
   "metadata": {},
   "outputs": [
    {
     "ename": "ValueError",
     "evalue": "list.remove(x): x not in list",
     "output_type": "error",
     "traceback": [
      "\u001b[1;31m---------------------------------------------------------------------------\u001b[0m",
      "\u001b[1;31mValueError\u001b[0m                                Traceback (most recent call last)",
      "Cell \u001b[1;32mIn[173], line 1\u001b[0m\n\u001b[1;32m----> 1\u001b[0m mylist1\u001b[38;5;241m.\u001b[39mremove(\u001b[38;5;241m3\u001b[39m)\n",
      "\u001b[1;31mValueError\u001b[0m: list.remove(x): x not in list"
     ]
    }
   ],
   "source": [
    "mylist1.remove(3)"
   ]
  },
  {
   "cell_type": "code",
   "execution_count": 174,
   "id": "d86fa4a4",
   "metadata": {},
   "outputs": [],
   "source": [
    "mylist1.remove('check')"
   ]
  },
  {
   "cell_type": "code",
   "execution_count": 175,
   "id": "e95d94b4",
   "metadata": {},
   "outputs": [
    {
     "data": {
      "text/plain": [
       "['ABC', 'DEF', 'GHIJ', 'check', 'KLM', 'NOPQ', 'RSTU', 'VWX', 'YZ']"
      ]
     },
     "execution_count": 175,
     "metadata": {},
     "output_type": "execute_result"
    }
   ],
   "source": [
    "mylist1"
   ]
  },
  {
   "cell_type": "code",
   "execution_count": 177,
   "id": "ced22491",
   "metadata": {},
   "outputs": [],
   "source": [
    "mylist1.remove('check')"
   ]
  },
  {
   "cell_type": "code",
   "execution_count": 178,
   "id": "435405a7",
   "metadata": {},
   "outputs": [
    {
     "data": {
      "text/plain": [
       "['ABC', 'DEF', 'GHIJ', 'KLM', 'NOPQ', 'RSTU', 'VWX', 'YZ']"
      ]
     },
     "execution_count": 178,
     "metadata": {},
     "output_type": "execute_result"
    }
   ],
   "source": [
    "mylist1"
   ]
  },
  {
   "cell_type": "code",
   "execution_count": 180,
   "id": "89d11037",
   "metadata": {},
   "outputs": [],
   "source": [
    "mylist1.reverse()"
   ]
  },
  {
   "cell_type": "code",
   "execution_count": 181,
   "id": "c7540db4",
   "metadata": {},
   "outputs": [
    {
     "data": {
      "text/plain": [
       "['YZ', 'VWX', 'RSTU', 'NOPQ', 'KLM', 'GHIJ', 'DEF', 'ABC']"
      ]
     },
     "execution_count": 181,
     "metadata": {},
     "output_type": "execute_result"
    }
   ],
   "source": [
    "mylist1"
   ]
  },
  {
   "cell_type": "code",
   "execution_count": 182,
   "id": "4affb341",
   "metadata": {},
   "outputs": [
    {
     "ename": "ValueError",
     "evalue": "3 is not in list",
     "output_type": "error",
     "traceback": [
      "\u001b[1;31m---------------------------------------------------------------------------\u001b[0m",
      "\u001b[1;31mValueError\u001b[0m                                Traceback (most recent call last)",
      "Cell \u001b[1;32mIn[182], line 1\u001b[0m\n\u001b[1;32m----> 1\u001b[0m mylist1\u001b[38;5;241m.\u001b[39mindex(\u001b[38;5;241m3\u001b[39m)\n",
      "\u001b[1;31mValueError\u001b[0m: 3 is not in list"
     ]
    }
   ],
   "source": [
    "mylist1.index(3)"
   ]
  },
  {
   "cell_type": "code",
   "execution_count": 183,
   "id": "f0bdbad5",
   "metadata": {},
   "outputs": [
    {
     "data": {
      "text/plain": [
       "7"
      ]
     },
     "execution_count": 183,
     "metadata": {},
     "output_type": "execute_result"
    }
   ],
   "source": [
    "mylist1.index('ABC')"
   ]
  },
  {
   "cell_type": "code",
   "execution_count": 184,
   "id": "71678aad",
   "metadata": {},
   "outputs": [
    {
     "ename": "TypeError",
     "evalue": "slice indices must be integers or have an __index__ method",
     "output_type": "error",
     "traceback": [
      "\u001b[1;31m---------------------------------------------------------------------------\u001b[0m",
      "\u001b[1;31mTypeError\u001b[0m                                 Traceback (most recent call last)",
      "Cell \u001b[1;32mIn[184], line 1\u001b[0m\n\u001b[1;32m----> 1\u001b[0m mylist1\u001b[38;5;241m.\u001b[39mindex(\u001b[38;5;124m'\u001b[39m\u001b[38;5;124mYZ\u001b[39m\u001b[38;5;124m'\u001b[39m,\u001b[38;5;124m'\u001b[39m\u001b[38;5;124mABC\u001b[39m\u001b[38;5;124m'\u001b[39m)\n",
      "\u001b[1;31mTypeError\u001b[0m: slice indices must be integers or have an __index__ method"
     ]
    }
   ],
   "source": [
    "mylist1.index('YZ','ABC')"
   ]
  },
  {
   "cell_type": "code",
   "execution_count": 185,
   "id": "6919a5af",
   "metadata": {},
   "outputs": [
    {
     "ename": "TypeError",
     "evalue": "slice indices must be integers or have an __index__ method",
     "output_type": "error",
     "traceback": [
      "\u001b[1;31m---------------------------------------------------------------------------\u001b[0m",
      "\u001b[1;31mTypeError\u001b[0m                                 Traceback (most recent call last)",
      "Cell \u001b[1;32mIn[185], line 1\u001b[0m\n\u001b[1;32m----> 1\u001b[0m \u001b[38;5;28mprint\u001b[39m(mylist1\u001b[38;5;241m.\u001b[39mindex(\u001b[38;5;124m'\u001b[39m\u001b[38;5;124mYZ\u001b[39m\u001b[38;5;124m'\u001b[39m,\u001b[38;5;124m'\u001b[39m\u001b[38;5;124mABC\u001b[39m\u001b[38;5;124m'\u001b[39m))\n",
      "\u001b[1;31mTypeError\u001b[0m: slice indices must be integers or have an __index__ method"
     ]
    }
   ],
   "source": [
    "print(mylist1.index('YZ','ABC'))"
   ]
  },
  {
   "cell_type": "code",
   "execution_count": 188,
   "id": "87108877",
   "metadata": {},
   "outputs": [
    {
     "data": {
      "text/plain": [
       "97"
      ]
     },
     "execution_count": 188,
     "metadata": {},
     "output_type": "execute_result"
    }
   ],
   "source": [
    "ord('a')    # Ordinal Value"
   ]
  },
  {
   "cell_type": "code",
   "execution_count": 187,
   "id": "99a581f0",
   "metadata": {},
   "outputs": [
    {
     "data": {
      "text/plain": [
       "65"
      ]
     },
     "execution_count": 187,
     "metadata": {},
     "output_type": "execute_result"
    }
   ],
   "source": [
    "ord('A')"
   ]
  },
  {
   "cell_type": "code",
   "execution_count": 189,
   "id": "2c2be2ca",
   "metadata": {},
   "outputs": [
    {
     "data": {
      "text/plain": [
       "'a'"
      ]
     },
     "execution_count": 189,
     "metadata": {},
     "output_type": "execute_result"
    }
   ],
   "source": [
    "chr(97)"
   ]
  },
  {
   "cell_type": "code",
   "execution_count": 190,
   "id": "b7e1e506",
   "metadata": {},
   "outputs": [
    {
     "data": {
      "text/plain": [
       "'₹'"
      ]
     },
     "execution_count": 190,
     "metadata": {},
     "output_type": "execute_result"
    }
   ],
   "source": [
    "chr(0x20B9)   # Unicode is input and it prints the associated character"
   ]
  },
  {
   "cell_type": "code",
   "execution_count": 191,
   "id": "f198d789",
   "metadata": {},
   "outputs": [
    {
     "data": {
      "text/plain": [
       "'YZ'"
      ]
     },
     "execution_count": 191,
     "metadata": {},
     "output_type": "execute_result"
    }
   ],
   "source": [
    "max(mylist1)"
   ]
  },
  {
   "cell_type": "code",
   "execution_count": 192,
   "id": "0a3848cc",
   "metadata": {},
   "outputs": [
    {
     "data": {
      "text/plain": [
       "'ABC'"
      ]
     },
     "execution_count": 192,
     "metadata": {},
     "output_type": "execute_result"
    }
   ],
   "source": [
    "min(mylist1)"
   ]
  },
  {
   "cell_type": "code",
   "execution_count": 193,
   "id": "b0e590e8",
   "metadata": {},
   "outputs": [],
   "source": [
    "mylist3 = [11,22,33]\n",
    "mylist4 = mylist3    # creates another view of the same list"
   ]
  },
  {
   "cell_type": "code",
   "execution_count": 194,
   "id": "499994b1",
   "metadata": {},
   "outputs": [
    {
     "data": {
      "text/plain": [
       "1653039015872"
      ]
     },
     "execution_count": 194,
     "metadata": {},
     "output_type": "execute_result"
    }
   ],
   "source": [
    "id(mylist3)"
   ]
  },
  {
   "cell_type": "code",
   "execution_count": 195,
   "id": "046a5276",
   "metadata": {},
   "outputs": [
    {
     "data": {
      "text/plain": [
       "1653039015872"
      ]
     },
     "execution_count": 195,
     "metadata": {},
     "output_type": "execute_result"
    }
   ],
   "source": [
    "id(mylist4)"
   ]
  },
  {
   "cell_type": "code",
   "execution_count": 197,
   "id": "03db08ec",
   "metadata": {},
   "outputs": [],
   "source": [
    "mylist4.append(44)"
   ]
  },
  {
   "cell_type": "code",
   "execution_count": 198,
   "id": "e0955e8f",
   "metadata": {},
   "outputs": [
    {
     "data": {
      "text/plain": [
       "[11, 22, 33, 44]"
      ]
     },
     "execution_count": 198,
     "metadata": {},
     "output_type": "execute_result"
    }
   ],
   "source": [
    "mylist3"
   ]
  },
  {
   "cell_type": "code",
   "execution_count": 199,
   "id": "cef9ba36",
   "metadata": {},
   "outputs": [
    {
     "data": {
      "text/plain": [
       "True"
      ]
     },
     "execution_count": 199,
     "metadata": {},
     "output_type": "execute_result"
    }
   ],
   "source": [
    "mylist3 is mylist4"
   ]
  },
  {
   "cell_type": "code",
   "execution_count": 200,
   "id": "6823605b",
   "metadata": {},
   "outputs": [],
   "source": [
    "mylist5 = mylist4.copy()"
   ]
  },
  {
   "cell_type": "code",
   "execution_count": 201,
   "id": "13764577",
   "metadata": {},
   "outputs": [],
   "source": [
    "mylist5.append(55)"
   ]
  },
  {
   "cell_type": "code",
   "execution_count": 202,
   "id": "79e04dfb",
   "metadata": {},
   "outputs": [
    {
     "data": {
      "text/plain": [
       "[11, 22, 33, 44]"
      ]
     },
     "execution_count": 202,
     "metadata": {},
     "output_type": "execute_result"
    }
   ],
   "source": [
    "mylist4"
   ]
  },
  {
   "cell_type": "code",
   "execution_count": 203,
   "id": "ac028928",
   "metadata": {},
   "outputs": [
    {
     "data": {
      "text/plain": [
       "[11, 22, 33, 44, 55]"
      ]
     },
     "execution_count": 203,
     "metadata": {},
     "output_type": "execute_result"
    }
   ],
   "source": [
    "mylist5"
   ]
  },
  {
   "cell_type": "code",
   "execution_count": 205,
   "id": "a00b5540",
   "metadata": {},
   "outputs": [],
   "source": [
    "def append_in_list(list,item):\n",
    "    list.append(item)\n",
    "    \n",
    "append_in_list(mylist5,66)"
   ]
  },
  {
   "cell_type": "code",
   "execution_count": 206,
   "id": "ee36f1cc",
   "metadata": {},
   "outputs": [
    {
     "data": {
      "text/plain": [
       "[11, 22, 33, 44, 55, 66]"
      ]
     },
     "execution_count": 206,
     "metadata": {},
     "output_type": "execute_result"
    }
   ],
   "source": [
    "mylist5"
   ]
  },
  {
   "cell_type": "code",
   "execution_count": 207,
   "id": "9b60921b",
   "metadata": {},
   "outputs": [],
   "source": [
    "mylist5.sort(reverse=True)"
   ]
  },
  {
   "cell_type": "code",
   "execution_count": 208,
   "id": "581b1732",
   "metadata": {},
   "outputs": [
    {
     "data": {
      "text/plain": [
       "[66, 55, 44, 33, 22, 11]"
      ]
     },
     "execution_count": 208,
     "metadata": {},
     "output_type": "execute_result"
    }
   ],
   "source": [
    "mylist5"
   ]
  },
  {
   "cell_type": "code",
   "execution_count": 209,
   "id": "0c221a3f",
   "metadata": {},
   "outputs": [
    {
     "data": {
      "text/plain": [
       "6"
      ]
     },
     "execution_count": 209,
     "metadata": {},
     "output_type": "execute_result"
    }
   ],
   "source": [
    "len(mylist5)"
   ]
  },
  {
   "cell_type": "code",
   "execution_count": 214,
   "id": "300b63ed",
   "metadata": {},
   "outputs": [
    {
     "data": {
      "text/plain": [
       "True"
      ]
     },
     "execution_count": 214,
     "metadata": {},
     "output_type": "execute_result"
    }
   ],
   "source": [
    "isinstance(23, int)"
   ]
  },
  {
   "cell_type": "code",
   "execution_count": 215,
   "id": "00b917e3",
   "metadata": {},
   "outputs": [
    {
     "data": {
      "text/plain": [
       "True"
      ]
     },
     "execution_count": 215,
     "metadata": {},
     "output_type": "execute_result"
    }
   ],
   "source": [
    "isinstance(23, ( int, float ))"
   ]
  },
  {
   "cell_type": "code",
   "execution_count": 216,
   "id": "efa2fed9",
   "metadata": {},
   "outputs": [
    {
     "data": {
      "text/plain": [
       "False"
      ]
     },
     "execution_count": 216,
     "metadata": {},
     "output_type": "execute_result"
    }
   ],
   "source": [
    "isinstance(23.67, int)"
   ]
  },
  {
   "cell_type": "code",
   "execution_count": 217,
   "id": "ebd8fa55",
   "metadata": {},
   "outputs": [
    {
     "data": {
      "text/plain": [
       "True"
      ]
     },
     "execution_count": 217,
     "metadata": {},
     "output_type": "execute_result"
    }
   ],
   "source": [
    "isinstance([], list)"
   ]
  },
  {
   "cell_type": "code",
   "execution_count": 212,
   "id": "7c68832a",
   "metadata": {},
   "outputs": [],
   "source": [
    "def keysort(obj):\n",
    "    if isinstance(obj, (int, float)):\n",
    "        return obj\n",
    "    if isinstance(obj, (str, list)):\n",
    "        return len(obj)\n",
    "    \n",
    "    return 1000\n",
    "\n",
    "\n",
    "mylist6 = [ 22, 77,44, 11, 'hello', [ 123, 456, 789 ], (555,888,333)]\n",
    "mylist6.sort(key = keysort)"
   ]
  },
  {
   "cell_type": "code",
   "execution_count": 213,
   "id": "e46a2bfa",
   "metadata": {},
   "outputs": [
    {
     "data": {
      "text/plain": [
       "[[123, 456, 789], 'hello', 11, 22, 44, 77, (555, 888, 333)]"
      ]
     },
     "execution_count": 213,
     "metadata": {},
     "output_type": "execute_result"
    }
   ],
   "source": [
    "mylist6"
   ]
  },
  {
   "cell_type": "markdown",
   "id": "81b73bb8",
   "metadata": {},
   "source": [
    "# Tuple "
   ]
  },
  {
   "cell_type": "code",
   "execution_count": 218,
   "id": "b52c88ce",
   "metadata": {},
   "outputs": [
    {
     "name": "stdout",
     "output_type": "stream",
     "text": [
      "<class 'tuple'>\n",
      "3\n",
      "(123, 456, 789)\n"
     ]
    }
   ],
   "source": [
    "mt1 = (123,456,789)\n",
    "\n",
    "print(type(mt1))\n",
    "print(len(mt1))\n",
    "print(mt1)"
   ]
  },
  {
   "cell_type": "code",
   "execution_count": 220,
   "id": "25b291fa",
   "metadata": {},
   "outputs": [
    {
     "name": "stdout",
     "output_type": "stream",
     "text": [
      "<class 'int'>\n",
      "123\n"
     ]
    }
   ],
   "source": [
    "mt1 = (123)\n",
    "\n",
    "print(type(mt1))\n",
    "print(mt1)"
   ]
  },
  {
   "cell_type": "code",
   "execution_count": 222,
   "id": "5f84152b",
   "metadata": {},
   "outputs": [
    {
     "name": "stdout",
     "output_type": "stream",
     "text": [
      "<class 'tuple'>\n",
      "1\n",
      "(123,)\n"
     ]
    }
   ],
   "source": [
    "mt1 = (123,)        # for single element tuple, we must include one comma\n",
    "\n",
    "print(type(mt1))\n",
    "print(len(mt1))\n",
    "print(mt1)"
   ]
  },
  {
   "cell_type": "code",
   "execution_count": 223,
   "id": "db9838d1",
   "metadata": {},
   "outputs": [
    {
     "name": "stdout",
     "output_type": "stream",
     "text": [
      "['__add__', '__class__', '__class_getitem__', '__contains__', '__delattr__', '__dir__', '__doc__', '__eq__', '__format__', '__ge__', '__getattribute__', '__getitem__', '__getnewargs__', '__getstate__', '__gt__', '__hash__', '__init__', '__init_subclass__', '__iter__', '__le__', '__len__', '__lt__', '__mul__', '__ne__', '__new__', '__reduce__', '__reduce_ex__', '__repr__', '__rmul__', '__setattr__', '__sizeof__', '__str__', '__subclasshook__', 'count', 'index']\n"
     ]
    }
   ],
   "source": [
    "print(dir(tuple))"
   ]
  },
  {
   "cell_type": "markdown",
   "id": "71e489fe",
   "metadata": {},
   "source": [
    "# Dictionary"
   ]
  },
  {
   "cell_type": "code",
   "execution_count": 224,
   "id": "2f77f359",
   "metadata": {},
   "outputs": [],
   "source": [
    "md1 = {\"Name\":\"Ravi\", \"Branch\": \"MG Road\", \"City\":\"Ballia\",91:\"India\"}"
   ]
  },
  {
   "cell_type": "code",
   "execution_count": 225,
   "id": "a7ce23df",
   "metadata": {},
   "outputs": [
    {
     "name": "stdout",
     "output_type": "stream",
     "text": [
      "['__class__', '__class_getitem__', '__contains__', '__delattr__', '__delitem__', '__dir__', '__doc__', '__eq__', '__format__', '__ge__', '__getattribute__', '__getitem__', '__getstate__', '__gt__', '__hash__', '__init__', '__init_subclass__', '__ior__', '__iter__', '__le__', '__len__', '__lt__', '__ne__', '__new__', '__or__', '__reduce__', '__reduce_ex__', '__repr__', '__reversed__', '__ror__', '__setattr__', '__setitem__', '__sizeof__', '__str__', '__subclasshook__', 'clear', 'copy', 'fromkeys', 'get', 'items', 'keys', 'pop', 'popitem', 'setdefault', 'update', 'values']\n"
     ]
    }
   ],
   "source": [
    "print(dir(dict))"
   ]
  },
  {
   "cell_type": "code",
   "execution_count": 226,
   "id": "1f694acb",
   "metadata": {},
   "outputs": [],
   "source": [
    "md1[\"PIN\"] = \"277208\""
   ]
  },
  {
   "cell_type": "code",
   "execution_count": 227,
   "id": "9c84d15d",
   "metadata": {},
   "outputs": [
    {
     "data": {
      "text/plain": [
       "{'Name': 'Ravi',\n",
       " 'Branch': 'MG Road',\n",
       " 'City': 'Ballia',\n",
       " 91: 'India',\n",
       " 'PIN': '277208'}"
      ]
     },
     "execution_count": 227,
     "metadata": {},
     "output_type": "execute_result"
    }
   ],
   "source": [
    "md1"
   ]
  },
  {
   "cell_type": "code",
   "execution_count": 230,
   "id": "7b0c841b",
   "metadata": {},
   "outputs": [],
   "source": [
    "md1[\"Balance\"] = 0"
   ]
  },
  {
   "cell_type": "code",
   "execution_count": 231,
   "id": "02a09b46",
   "metadata": {},
   "outputs": [
    {
     "data": {
      "text/plain": [
       "{'Name': 'Ravi',\n",
       " 'Branch': 'MG Road',\n",
       " 'City': 'Ballia',\n",
       " 91: 'India',\n",
       " 'PIN': '277208',\n",
       " 'Balance': 0}"
      ]
     },
     "execution_count": 231,
     "metadata": {},
     "output_type": "execute_result"
    }
   ],
   "source": [
    "md1"
   ]
  },
  {
   "cell_type": "code",
   "execution_count": 232,
   "id": "a803210a",
   "metadata": {},
   "outputs": [],
   "source": [
    "md1[\"Balance\"] += 500"
   ]
  },
  {
   "cell_type": "code",
   "execution_count": 233,
   "id": "68166a30",
   "metadata": {},
   "outputs": [
    {
     "data": {
      "text/plain": [
       "{'Name': 'Ravi',\n",
       " 'Branch': 'MG Road',\n",
       " 'City': 'Ballia',\n",
       " 91: 'India',\n",
       " 'PIN': '277208',\n",
       " 'Balance': 500}"
      ]
     },
     "execution_count": 233,
     "metadata": {},
     "output_type": "execute_result"
    }
   ],
   "source": [
    "md1"
   ]
  },
  {
   "cell_type": "code",
   "execution_count": 235,
   "id": "7f23c148",
   "metadata": {},
   "outputs": [],
   "source": [
    "del md1['Branch']"
   ]
  },
  {
   "cell_type": "code",
   "execution_count": 236,
   "id": "d846e3cd",
   "metadata": {},
   "outputs": [
    {
     "data": {
      "text/plain": [
       "{'Name': 'Ravi',\n",
       " 'City': 'Ballia',\n",
       " 91: 'India',\n",
       " 'PIN': '277208',\n",
       " 'Balance': 500}"
      ]
     },
     "execution_count": 236,
     "metadata": {},
     "output_type": "execute_result"
    }
   ],
   "source": [
    "md1"
   ]
  },
  {
   "cell_type": "code",
   "execution_count": 237,
   "id": "25f1b865",
   "metadata": {},
   "outputs": [],
   "source": [
    "md1.clear()"
   ]
  },
  {
   "cell_type": "code",
   "execution_count": 238,
   "id": "f0b4eb68",
   "metadata": {},
   "outputs": [
    {
     "data": {
      "text/plain": [
       "{}"
      ]
     },
     "execution_count": 238,
     "metadata": {},
     "output_type": "execute_result"
    }
   ],
   "source": [
    "md1"
   ]
  },
  {
   "cell_type": "code",
   "execution_count": 234,
   "id": "86de8ec6",
   "metadata": {},
   "outputs": [
    {
     "data": {
      "text/plain": [
       "453689473274202079"
      ]
     },
     "execution_count": 234,
     "metadata": {},
     "output_type": "execute_result"
    }
   ],
   "source": [
    "hash('Python')"
   ]
  },
  {
   "cell_type": "code",
   "execution_count": 239,
   "id": "62e801e6",
   "metadata": {},
   "outputs": [],
   "source": [
    "md2 = {\"Name\":\"Ravi\", \"Branch\": \"MG Road\", \"City\":\"Ballia\",91:\"India\"}"
   ]
  },
  {
   "cell_type": "code",
   "execution_count": 242,
   "id": "41d90d99",
   "metadata": {},
   "outputs": [],
   "source": [
    "k = md2.keys\n",
    "v = md2.values\n",
    "kv = md2.items"
   ]
  },
  {
   "cell_type": "code",
   "execution_count": 244,
   "id": "c76e1573",
   "metadata": {},
   "outputs": [
    {
     "name": "stdout",
     "output_type": "stream",
     "text": [
      "<built-in method keys of dict object at 0x00000180E17C8280>\n",
      "<built-in method values of dict object at 0x00000180E17C8280>\n",
      "<built-in method items of dict object at 0x00000180E17C8280>\n"
     ]
    }
   ],
   "source": [
    "print(k)\n",
    "print(v)\n",
    "print(kv)"
   ]
  },
  {
   "cell_type": "code",
   "execution_count": 245,
   "id": "ba104b43",
   "metadata": {},
   "outputs": [
    {
     "name": "stdout",
     "output_type": "stream",
     "text": [
      "<class 'builtin_function_or_method'>\n",
      "<class 'builtin_function_or_method'>\n",
      "<class 'builtin_function_or_method'>\n"
     ]
    }
   ],
   "source": [
    "print(type(k))\n",
    "print(type(v))\n",
    "print(type(kv))"
   ]
  },
  {
   "cell_type": "code",
   "execution_count": 246,
   "id": "8a8d21ab",
   "metadata": {},
   "outputs": [
    {
     "data": {
      "text/plain": [
       "'MG Road'"
      ]
     },
     "execution_count": 246,
     "metadata": {},
     "output_type": "execute_result"
    }
   ],
   "source": [
    "md2.get(\"Branch\")"
   ]
  },
  {
   "cell_type": "code",
   "execution_count": 248,
   "id": "9d2259a4",
   "metadata": {},
   "outputs": [],
   "source": [
    "md2.get(\"State\")"
   ]
  },
  {
   "cell_type": "code",
   "execution_count": 249,
   "id": "7ce85bf2",
   "metadata": {},
   "outputs": [
    {
     "data": {
      "text/plain": [
       "'Unknown'"
      ]
     },
     "execution_count": 249,
     "metadata": {},
     "output_type": "execute_result"
    }
   ],
   "source": [
    "md2.get(\"State\", \"Unknown\")"
   ]
  },
  {
   "cell_type": "code",
   "execution_count": 250,
   "id": "f9b8069d",
   "metadata": {},
   "outputs": [
    {
     "data": {
      "text/plain": [
       "{'Name': 'Ravi', 'Branch': 'MG Road', 'City': 'Ballia', 91: 'India'}"
      ]
     },
     "execution_count": 250,
     "metadata": {},
     "output_type": "execute_result"
    }
   ],
   "source": [
    "md2"
   ]
  },
  {
   "cell_type": "code",
   "execution_count": 251,
   "id": "a7bb6347",
   "metadata": {},
   "outputs": [],
   "source": [
    "md3 = {'Branch': 'GT Road', 'State': 'Uttar Pradesh'}"
   ]
  },
  {
   "cell_type": "code",
   "execution_count": 252,
   "id": "4700f8d4",
   "metadata": {},
   "outputs": [],
   "source": [
    "md2.update(md3)"
   ]
  },
  {
   "cell_type": "code",
   "execution_count": 253,
   "id": "1ac04b5b",
   "metadata": {},
   "outputs": [
    {
     "data": {
      "text/plain": [
       "{'Name': 'Ravi',\n",
       " 'Branch': 'GT Road',\n",
       " 'City': 'Ballia',\n",
       " 91: 'India',\n",
       " 'State': 'Uttar Pradesh'}"
      ]
     },
     "execution_count": 253,
     "metadata": {},
     "output_type": "execute_result"
    }
   ],
   "source": [
    "md2"
   ]
  },
  {
   "cell_type": "code",
   "execution_count": 254,
   "id": "a04c61df",
   "metadata": {},
   "outputs": [],
   "source": [
    "md2.update([('Bank','ICICI'),('State', 'UP')])"
   ]
  },
  {
   "cell_type": "code",
   "execution_count": 255,
   "id": "b21bd301",
   "metadata": {},
   "outputs": [
    {
     "data": {
      "text/plain": [
       "{'Name': 'Ravi',\n",
       " 'Branch': 'GT Road',\n",
       " 'City': 'Ballia',\n",
       " 91: 'India',\n",
       " 'State': 'UP',\n",
       " 'Bank': 'ICICI'}"
      ]
     },
     "execution_count": 255,
     "metadata": {},
     "output_type": "execute_result"
    }
   ],
   "source": [
    "md2"
   ]
  },
  {
   "cell_type": "code",
   "execution_count": 256,
   "id": "61d47c58",
   "metadata": {},
   "outputs": [
    {
     "data": {
      "text/plain": [
       "'Ravi'"
      ]
     },
     "execution_count": 256,
     "metadata": {},
     "output_type": "execute_result"
    }
   ],
   "source": [
    "md2.setdefault('Name')"
   ]
  },
  {
   "cell_type": "code",
   "execution_count": 257,
   "id": "053854cd",
   "metadata": {},
   "outputs": [],
   "source": [
    "md2.setdefault('Country')"
   ]
  },
  {
   "cell_type": "code",
   "execution_count": 258,
   "id": "b458acd3",
   "metadata": {},
   "outputs": [],
   "source": [
    "md2.setdefault('Country', 'India')"
   ]
  },
  {
   "cell_type": "code",
   "execution_count": 259,
   "id": "0a534a0f",
   "metadata": {},
   "outputs": [],
   "source": [
    "del md2['Country']"
   ]
  },
  {
   "cell_type": "code",
   "execution_count": 260,
   "id": "01bd9db9",
   "metadata": {},
   "outputs": [
    {
     "data": {
      "text/plain": [
       "'India'"
      ]
     },
     "execution_count": 260,
     "metadata": {},
     "output_type": "execute_result"
    }
   ],
   "source": [
    "md2.setdefault('Country', 'India')"
   ]
  },
  {
   "cell_type": "code",
   "execution_count": null,
   "id": "a40732a9",
   "metadata": {},
   "outputs": [],
   "source": []
  }
 ],
 "metadata": {
  "kernelspec": {
   "display_name": "Python 3 (ipykernel)",
   "language": "python",
   "name": "python3"
  },
  "language_info": {
   "codemirror_mode": {
    "name": "ipython",
    "version": 3
   },
   "file_extension": ".py",
   "mimetype": "text/x-python",
   "name": "python",
   "nbconvert_exporter": "python",
   "pygments_lexer": "ipython3",
   "version": "3.11.7"
  }
 },
 "nbformat": 4,
 "nbformat_minor": 5
}
