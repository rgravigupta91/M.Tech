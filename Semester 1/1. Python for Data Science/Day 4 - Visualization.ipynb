{
 "cells": [
  {
   "cell_type": "markdown",
   "id": "11c425db",
   "metadata": {},
   "source": [
    "# Visualization"
   ]
  },
  {
   "cell_type": "code",
   "execution_count": null,
   "id": "301d101f",
   "metadata": {},
   "outputs": [],
   "source": [
    "import pandas as pd\n",
    "import numpy as np\n",
    "\n",
    "import matplotlib.pyplot as plt"
   ]
  },
  {
   "cell_type": "code",
   "execution_count": null,
   "id": "770f26f0",
   "metadata": {},
   "outputs": [],
   "source": [
    "df1 = pd.read_csv('./Data/lds41.csv')\n",
    "df1"
   ]
  },
  {
   "cell_type": "markdown",
   "id": "88248c98",
   "metadata": {},
   "source": [
    "# Scatter Plot"
   ]
  },
  {
   "cell_type": "code",
   "execution_count": null,
   "id": "a0155c03",
   "metadata": {},
   "outputs": [],
   "source": [
    "x1 = np.arange(5)\n",
    "x1"
   ]
  },
  {
   "cell_type": "code",
   "execution_count": null,
   "id": "0533ebd6",
   "metadata": {},
   "outputs": [],
   "source": [
    "y1 = x1 * 2\n",
    "y2 = x1 ** 2"
   ]
  },
  {
   "cell_type": "code",
   "execution_count": null,
   "id": "2092e9ae",
   "metadata": {},
   "outputs": [],
   "source": [
    "plt.scatter(x=x1, y = y1)\n",
    "plt.show()"
   ]
  },
  {
   "cell_type": "code",
   "execution_count": null,
   "id": "e131f3b6",
   "metadata": {},
   "outputs": [],
   "source": [
    "plt.scatter(x=x1, y = y2)\n",
    "plt.show()"
   ]
  },
  {
   "cell_type": "code",
   "execution_count": null,
   "id": "ddac2f4b",
   "metadata": {},
   "outputs": [],
   "source": [
    "plt.scatter(x=x1, y=y2, color='red')\n",
    "plt.show()"
   ]
  },
  {
   "cell_type": "code",
   "execution_count": null,
   "id": "5dafd775",
   "metadata": {},
   "outputs": [],
   "source": [
    "plt.scatter(x=x1, y=y1,)\n",
    "plt.scatter(x=x1, y=y2, color='red')\n",
    "plt.show()"
   ]
  },
  {
   "cell_type": "code",
   "execution_count": null,
   "id": "14e3babf",
   "metadata": {},
   "outputs": [],
   "source": [
    "plt.figure(figsize=(4,3), dpi=100)\n",
    "plt.scatter(x=x1, y=y1, color='#5587ff')\n",
    "plt.scatter(x=x1, y=y2, color='red')\n",
    "plt.show()"
   ]
  },
  {
   "cell_type": "code",
   "execution_count": null,
   "id": "c9a0852e",
   "metadata": {},
   "outputs": [],
   "source": [
    "plt.figure(figsize=(4,3), dpi=100)\n",
    "plt.scatter(x=x1, y=y1, color='#5587ff', label = 'Linear')\n",
    "plt.scatter(x=x1, y=y2, color='red', label = 'Expo', marker='D')\n",
    "plt.xlabel('x axis')\n",
    "plt.ylabel('y axis')\n",
    "plt.title('Linear Expo Plot')\n",
    "plt.legend()\n",
    "plt.show()"
   ]
  },
  {
   "cell_type": "code",
   "execution_count": null,
   "id": "dd584db7",
   "metadata": {},
   "outputs": [],
   "source": [
    "plt.figure(figsize=(4,3), dpi=100)\n",
    "plt.scatter(x=x1, y=y1, color='#5587ff', label = 'Linear')\n",
    "plt.scatter(x=x1, y=y2, color='red', label = 'Expo', marker='D')\n",
    "plt.xlabel('x axis')\n",
    "plt.ylabel('y axis')\n",
    "plt.title('Linear Expo Plot')\n",
    "plt.legend()\n",
    "#plt.xticks([1,2,3])\n",
    "#plt.yticks([1,2,3])\n",
    "plt.xticks(np.linspace(x1.min(), x1.max(),5))\n",
    "plt.tight_layout()\n",
    "plt.savefig('leplot.png')\n",
    "plt.show()"
   ]
  },
  {
   "cell_type": "code",
   "execution_count": null,
   "id": "5e743e80",
   "metadata": {},
   "outputs": [],
   "source": [
    "plt.scatter(x=x1, y=y1, s=y2)"
   ]
  },
  {
   "cell_type": "code",
   "execution_count": null,
   "id": "6138a981",
   "metadata": {},
   "outputs": [],
   "source": [
    "plt.figure(figsize=(4,3), dpi=100)\n",
    "plt.scatter(x=x1, y=y1)\n",
    "plt.text(x=2,y=2,s='Hello')\n",
    "plt.show()"
   ]
  },
  {
   "cell_type": "code",
   "execution_count": null,
   "id": "c8a200a9",
   "metadata": {},
   "outputs": [],
   "source": [
    "plt.figure(figsize=(4,3), dpi=100)\n",
    "plt.scatter(x=x1, y=y1)\n",
    "plt.text(x=2,y=2,s=str([2,2]))\n",
    "plt.show()"
   ]
  },
  {
   "cell_type": "code",
   "execution_count": null,
   "id": "d6deccdc",
   "metadata": {},
   "outputs": [],
   "source": [
    "plt.figure(figsize=(4,3), dpi=100)\n",
    "plt.scatter(x=x1, y=y1)\n",
    "\n",
    "for xc, yc in zip(x1,y1):\n",
    "    plt.text(x=xc,y=yc,s=str([xc,yc]))\n",
    "plt.show()"
   ]
  },
  {
   "cell_type": "code",
   "execution_count": null,
   "id": "d8941a9b",
   "metadata": {},
   "outputs": [],
   "source": [
    "plt.figure(figsize=(4,3), dpi=100)\n",
    "plt.scatter(x=df1.wt, y=df1.mpg)\n",
    "plt.show()"
   ]
  },
  {
   "cell_type": "code",
   "execution_count": null,
   "id": "4c843dbb",
   "metadata": {},
   "outputs": [],
   "source": [
    "df1.plot('wt','mpg',kind='scatter',figsize=(4,3))\n",
    "plt.show()"
   ]
  },
  {
   "cell_type": "code",
   "execution_count": null,
   "id": "9a042813",
   "metadata": {},
   "outputs": [],
   "source": [
    "df1.plot('wt','mpg',kind='line',figsize=(4,3))\n",
    "plt.show()"
   ]
  },
  {
   "cell_type": "code",
   "execution_count": null,
   "id": "76dab2e6",
   "metadata": {},
   "outputs": [],
   "source": [
    "df1.plot('wt','mpg',kind='bar',figsize=(4,3))\n",
    "plt.show()"
   ]
  },
  {
   "cell_type": "code",
   "execution_count": null,
   "id": "cb0917a2",
   "metadata": {},
   "outputs": [],
   "source": [
    "df1.gear.value_counts()"
   ]
  },
  {
   "cell_type": "raw",
   "id": "cfe8f045",
   "metadata": {},
   "source": [
    "line, boxplot, bar, hist, pie\n",
    "scatter, swarm, strip, hist, kde, rug, joint, pair, heatmap, reg, box, violin"
   ]
  },
  {
   "cell_type": "markdown",
   "id": "75b98c11",
   "metadata": {},
   "source": [
    "# Line Plot"
   ]
  },
  {
   "cell_type": "code",
   "execution_count": null,
   "id": "e1c7c0bf",
   "metadata": {},
   "outputs": [],
   "source": [
    "plt.plot(df1.wt, df1.mpg, marker='*', linestyle='dashed')\n",
    "plt.show()"
   ]
  },
  {
   "cell_type": "code",
   "execution_count": null,
   "id": "0fc371e7",
   "metadata": {},
   "outputs": [],
   "source": [
    "df1.plot(x='wt', y='mpg',kind='line',marker='*')\n",
    "plt.show()"
   ]
  },
  {
   "cell_type": "code",
   "execution_count": null,
   "id": "7864d407",
   "metadata": {},
   "outputs": [],
   "source": [
    "plt.plot(df1.wt, df1.hp, marker='*', linestyle='dashed',label='wt_hp')\n",
    "plt.plot(df1.wt, df1.mpg, marker='*', linestyle='dashed',label='wt_mpg')\n",
    "plt.legend()\n",
    "plt.show()"
   ]
  },
  {
   "cell_type": "code",
   "execution_count": null,
   "id": "87e11a76",
   "metadata": {},
   "outputs": [],
   "source": [
    "df1.plot(x='wt',y=['hp','mpg'], kind='line',marker='*',figsize=(6,4))\n",
    "plt.ylabel('Y axis')\n",
    "plt.show()"
   ]
  },
  {
   "cell_type": "code",
   "execution_count": null,
   "id": "0fd678b5",
   "metadata": {},
   "outputs": [],
   "source": [
    "df1.head()"
   ]
  },
  {
   "cell_type": "code",
   "execution_count": null,
   "id": "1a86af25",
   "metadata": {},
   "outputs": [],
   "source": [
    "df1[:1].plot(x='wt',y='mpg', kind='line',marker='*',figsize=(6,4))\n",
    "plt.show()"
   ]
  },
  {
   "cell_type": "code",
   "execution_count": null,
   "id": "44c46026",
   "metadata": {},
   "outputs": [],
   "source": [
    "df1[:2].plot(x='wt',y='mpg', kind='line',marker='*',figsize=(6,4))\n",
    "plt.show()"
   ]
  },
  {
   "cell_type": "code",
   "execution_count": null,
   "id": "b91c4af9",
   "metadata": {},
   "outputs": [],
   "source": [
    "df1[:3].plot(x='wt',y='mpg', kind='line',marker='*',figsize=(6,4))\n",
    "plt.show()"
   ]
  },
  {
   "cell_type": "code",
   "execution_count": null,
   "id": "8c4bec56",
   "metadata": {},
   "outputs": [],
   "source": [
    "df1.sort_values(by='wt').plot(x='wt',y='mpg', kind='line',marker='*',figsize=(6,4))\n",
    "plt.show()"
   ]
  },
  {
   "cell_type": "code",
   "execution_count": null,
   "id": "40d0c9c2",
   "metadata": {},
   "outputs": [],
   "source": [
    "cnames = ['Tata','Birla','Wipro']\n",
    "e1count = [100,200,300]\n",
    "e2count = [125,150,175]"
   ]
  },
  {
   "cell_type": "code",
   "execution_count": null,
   "id": "d5f89f64",
   "metadata": {},
   "outputs": [],
   "source": [
    "plt.figure(figsize=(3,2), dpi=100)\n",
    "plt.bar(x=cnames, height=e1count, color='red')\n",
    "plt.bar(x=cnames, height=e2count,  color='blue')"
   ]
  },
  {
   "cell_type": "code",
   "execution_count": null,
   "id": "b7ca9bb9",
   "metadata": {},
   "outputs": [],
   "source": [
    "plt.figure(figsize=(3,2), dpi=100)\n",
    "plt.bar(x=cnames, height=e1count, color='red')\n",
    "plt.bar(x=cnames, height=e2count, bottom=e1count, color='blue')"
   ]
  },
  {
   "cell_type": "code",
   "execution_count": null,
   "id": "17a5646e",
   "metadata": {},
   "outputs": [],
   "source": [
    "plt.figure(figsize=(3,2), dpi=100)\n",
    "plt.bar(x=cnames, height= e1count, color='red')\n",
    "#plt.bar(x=cnames, height=e2count,  color='blue')"
   ]
  },
  {
   "cell_type": "code",
   "execution_count": null,
   "id": "8f75ee5f",
   "metadata": {},
   "outputs": [],
   "source": [
    "plt.figure(figsize=(3,2), dpi=100)\n",
    "plt.bar(x=cnames, height= e1count, color='red', width=1)"
   ]
  },
  {
   "cell_type": "code",
   "execution_count": null,
   "id": "2770e707",
   "metadata": {},
   "outputs": [],
   "source": [
    "plt.figure(figsize=(3,2), dpi=100)\n",
    "plt.bar(x=cnames, height= e1count, color='red', width=0.4)"
   ]
  },
  {
   "cell_type": "code",
   "execution_count": null,
   "id": "1df2bc68",
   "metadata": {},
   "outputs": [],
   "source": [
    "plt.figure(figsize=(3,2), dpi=100)\n",
    "xt = np.arange(len(cnames))\n",
    "plt.bar(x=xt, height= e1count, color='red', width=0.4)\n",
    "plt.bar(x=xt+0.4, height= e2count, color='blue', width=0.4)"
   ]
  },
  {
   "cell_type": "code",
   "execution_count": null,
   "id": "353d61cb",
   "metadata": {},
   "outputs": [],
   "source": [
    "plt.figure(figsize=(3,2), dpi=100)\n",
    "xt = np.arange(len(cnames))\n",
    "plt.bar(x=xt, height= e1count, color='#ff9b00', width=0.4)\n",
    "plt.bar(x=xt+0.4, height= e2count, color='blue', width=0.4)\n",
    "plt.xticks(xt+0.2,cnames)\n",
    "plt.show()"
   ]
  },
  {
   "cell_type": "code",
   "execution_count": null,
   "id": "2d15ab47",
   "metadata": {},
   "outputs": [],
   "source": [
    "plt.rcParams['figure.figsize'] = (4,3)"
   ]
  },
  {
   "cell_type": "code",
   "execution_count": null,
   "id": "b58be342",
   "metadata": {},
   "outputs": [],
   "source": [
    "plt.bar(x=df1.index, height=df1.mpg)\n",
    "plt.xticks(df1.index, df1.model, rotation=90)\n",
    "plt.tight_layout()\n",
    "plt.show()"
   ]
  },
  {
   "cell_type": "code",
   "execution_count": null,
   "id": "3fb2c5c8",
   "metadata": {},
   "outputs": [],
   "source": [
    "df1.index"
   ]
  },
  {
   "cell_type": "code",
   "execution_count": null,
   "id": "fc3ec9fa",
   "metadata": {},
   "outputs": [],
   "source": [
    "df1.mpg"
   ]
  },
  {
   "cell_type": "code",
   "execution_count": null,
   "id": "d807ba88",
   "metadata": {},
   "outputs": [],
   "source": [
    "df1.model"
   ]
  },
  {
   "cell_type": "code",
   "execution_count": null,
   "id": "5441b8ec",
   "metadata": {},
   "outputs": [],
   "source": [
    "vc = df1.gear.value_counts()\n",
    "vc"
   ]
  },
  {
   "cell_type": "code",
   "execution_count": null,
   "id": "fc0e08d4",
   "metadata": {},
   "outputs": [],
   "source": [
    "vc.plot(kind='bar', width=.1)"
   ]
  },
  {
   "cell_type": "markdown",
   "id": "d6ea7f1e",
   "metadata": {},
   "source": [
    "# Histogram"
   ]
  },
  {
   "cell_type": "code",
   "execution_count": null,
   "id": "b166e638",
   "metadata": {},
   "outputs": [],
   "source": [
    "plt.hist(df1.mpg, rwidth=.9)"
   ]
  },
  {
   "cell_type": "code",
   "execution_count": null,
   "id": "dd0d2e83",
   "metadata": {},
   "outputs": [],
   "source": [
    "df1.mpg.min()"
   ]
  },
  {
   "cell_type": "code",
   "execution_count": null,
   "id": "1e465fbb",
   "metadata": {},
   "outputs": [],
   "source": [
    "df1.mpg.max()"
   ]
  },
  {
   "cell_type": "markdown",
   "id": "8da476d0",
   "metadata": {},
   "source": [
    "# Box Plot"
   ]
  },
  {
   "cell_type": "code",
   "execution_count": null,
   "id": "7db98805",
   "metadata": {},
   "outputs": [],
   "source": [
    "v1 = list(range(200,300))\n",
    "plt.boxplot(v1)\n",
    "plt.show()"
   ]
  },
  {
   "cell_type": "code",
   "execution_count": null,
   "id": "f5fb6fa4",
   "metadata": {},
   "outputs": [],
   "source": [
    "v1 = list(range(200,300))\n",
    "v1.append(20)\n",
    "v1.append(30)\n",
    "v1.append(500)\n",
    "plt.boxplot(v1)\n",
    "plt.show()"
   ]
  },
  {
   "cell_type": "code",
   "execution_count": null,
   "id": "4cecdd15",
   "metadata": {},
   "outputs": [],
   "source": [
    "q2 = np.quantile(v1,0.5)\n",
    "q1 = np.quantile(v1,0.25)\n",
    "q3 = np.quantile(v1,0.75)\n",
    "\n",
    "iqr = q3 - q1\n",
    "\n",
    "wishker_low_fence = q1 - ( 1.5* iqr )\n",
    "wishker_high_fence = q3 + ( 1.5 * iqr )\n",
    "\n",
    "print('Q1    :',q1)\n",
    "print('Q2    :',q2)\n",
    "print('Q3    :',q3)\n",
    "print('IQR   :',iqr)\n",
    "print('LOW   :',wishker_low_fence)\n",
    "print('HIGH  :',wishker_high_fence)\n",
    "\n",
    "plt.boxplot(v1)\n",
    "plt.show()\n",
    "#plt.text(1,whisker_high_fence, str(wishker_high_fence))"
   ]
  },
  {
   "cell_type": "markdown",
   "id": "278da718",
   "metadata": {},
   "source": [
    "# Seaborn"
   ]
  },
  {
   "cell_type": "code",
   "execution_count": null,
   "id": "c6736243",
   "metadata": {},
   "outputs": [],
   "source": [
    "import seaborn as sns"
   ]
  },
  {
   "cell_type": "markdown",
   "id": "c8f6bfba",
   "metadata": {},
   "source": [
    "# Scatter Family"
   ]
  },
  {
   "cell_type": "code",
   "execution_count": null,
   "id": "cbce99b4",
   "metadata": {},
   "outputs": [],
   "source": [
    "x1 = [1,2,3,1,2,3,1,2,3]\n",
    "y1 = [4,5,6,4,5,6,4,5,6]\n",
    "\n",
    "\n",
    "sns.scatterplot(x=x1, y=y1)"
   ]
  },
  {
   "cell_type": "code",
   "execution_count": null,
   "id": "e0a95755",
   "metadata": {},
   "outputs": [],
   "source": [
    "sns.stripplot(x=x1, y=y1)"
   ]
  },
  {
   "cell_type": "code",
   "execution_count": null,
   "id": "7a5e183c",
   "metadata": {},
   "outputs": [],
   "source": [
    "sns.swarmplot(x=x1, y=y1)"
   ]
  },
  {
   "cell_type": "code",
   "execution_count": null,
   "id": "153a74c1",
   "metadata": {},
   "outputs": [],
   "source": [
    "sns.swarmplot(data=df1, x='gear', y='mpg', hue='am')"
   ]
  },
  {
   "cell_type": "markdown",
   "id": "6d79a41e",
   "metadata": {},
   "source": [
    "# Distribution Plot"
   ]
  },
  {
   "cell_type": "code",
   "execution_count": null,
   "id": "dc4b16f1",
   "metadata": {},
   "outputs": [],
   "source": [
    "sns.distplot(a=df1.mpg)"
   ]
  },
  {
   "cell_type": "code",
   "execution_count": null,
   "id": "f6da2885",
   "metadata": {},
   "outputs": [],
   "source": [
    "sns.distplot(a=df1.mpg, hist=True, kde=True, rug=True)"
   ]
  },
  {
   "cell_type": "code",
   "execution_count": null,
   "id": "3d674191",
   "metadata": {},
   "outputs": [],
   "source": [
    "sns.distplot(a=df1.mpg, rug=True)"
   ]
  },
  {
   "cell_type": "code",
   "execution_count": null,
   "id": "b7e61918",
   "metadata": {},
   "outputs": [],
   "source": [
    "sns.histplot(df1.mpg)"
   ]
  },
  {
   "cell_type": "code",
   "execution_count": null,
   "id": "45bc69fc",
   "metadata": {},
   "outputs": [],
   "source": [
    "sns.histplot(df1.mpg, bins=10)"
   ]
  },
  {
   "cell_type": "code",
   "execution_count": null,
   "id": "09de014f",
   "metadata": {},
   "outputs": [],
   "source": [
    "sns.boxplot(data=df1.mpg)"
   ]
  },
  {
   "cell_type": "code",
   "execution_count": null,
   "id": "0abf1fa1",
   "metadata": {},
   "outputs": [],
   "source": [
    "sns.boxplot(data=df1, x='gear', y='mpg')"
   ]
  },
  {
   "cell_type": "code",
   "execution_count": null,
   "id": "8f10ff72",
   "metadata": {},
   "outputs": [],
   "source": [
    "sns.boxplot(data=df1, x='gear', y='mpg', hue='am')"
   ]
  },
  {
   "cell_type": "code",
   "execution_count": null,
   "id": "da2c540b",
   "metadata": {},
   "outputs": [],
   "source": [
    "sns.violinplot(df1.mpg)"
   ]
  },
  {
   "cell_type": "code",
   "execution_count": null,
   "id": "1205c51f",
   "metadata": {},
   "outputs": [],
   "source": [
    "sns.violinplot(data=df1, x='gear', y='mpg', hue='am')"
   ]
  },
  {
   "cell_type": "markdown",
   "id": "ca54fac9",
   "metadata": {},
   "source": [
    "# Regression Plot"
   ]
  },
  {
   "cell_type": "code",
   "execution_count": null,
   "id": "657b17d2",
   "metadata": {},
   "outputs": [],
   "source": [
    "sns.regplot(data=df1, x='wt', y='mpg')"
   ]
  },
  {
   "cell_type": "markdown",
   "id": "6f4e4a9f",
   "metadata": {},
   "source": [
    "# Multi Plots"
   ]
  },
  {
   "cell_type": "code",
   "execution_count": null,
   "id": "038b96e1",
   "metadata": {},
   "outputs": [],
   "source": [
    "df2 = df1[['mpg','hp','disp','wt','cyl']]\n",
    "df2"
   ]
  },
  {
   "cell_type": "code",
   "execution_count": null,
   "id": "e2974003",
   "metadata": {},
   "outputs": [],
   "source": [
    "sns.pairplot(df2)"
   ]
  },
  {
   "cell_type": "code",
   "execution_count": null,
   "id": "80b232db",
   "metadata": {},
   "outputs": [],
   "source": [
    "sns.pairplot(df2, kind='reg')"
   ]
  },
  {
   "cell_type": "code",
   "execution_count": null,
   "id": "6ea49433",
   "metadata": {},
   "outputs": [],
   "source": [
    "sns.jointplot(df2)"
   ]
  },
  {
   "cell_type": "code",
   "execution_count": null,
   "id": "cb170cc2",
   "metadata": {},
   "outputs": [],
   "source": [
    "sns.jointplot(data=df2, x='wt', y='mpg')"
   ]
  },
  {
   "cell_type": "code",
   "execution_count": null,
   "id": "53adc6d6",
   "metadata": {},
   "outputs": [],
   "source": [
    "df2"
   ]
  },
  {
   "cell_type": "code",
   "execution_count": null,
   "id": "537840b5",
   "metadata": {},
   "outputs": [],
   "source": [
    "cmat = df2.corr()\n",
    "cmat"
   ]
  },
  {
   "cell_type": "code",
   "execution_count": null,
   "id": "b9b4d702",
   "metadata": {},
   "outputs": [],
   "source": [
    "cmat = df1.select_dtypes(include='number').corr()"
   ]
  },
  {
   "cell_type": "code",
   "execution_count": null,
   "id": "07aa0fc6",
   "metadata": {},
   "outputs": [],
   "source": [
    "cmat"
   ]
  },
  {
   "cell_type": "code",
   "execution_count": null,
   "id": "6fae90fa",
   "metadata": {},
   "outputs": [],
   "source": [
    "plt.figure(figsize=(6,4))\n",
    "sns.heatmap(cmat)"
   ]
  },
  {
   "cell_type": "code",
   "execution_count": null,
   "id": "38af5b0f",
   "metadata": {},
   "outputs": [],
   "source": [
    "plt.figure(figsize=(6,4))\n",
    "sns.heatmap(cmat, annot=True)"
   ]
  },
  {
   "cell_type": "code",
   "execution_count": null,
   "id": "7c1dcc3f",
   "metadata": {},
   "outputs": [],
   "source": [
    "plt.figure(figsize=(6,4))\n",
    "sns.heatmap(cmat, annot=True, cmap='rainbow')"
   ]
  },
  {
   "cell_type": "code",
   "execution_count": null,
   "id": "82a1d7b4",
   "metadata": {},
   "outputs": [],
   "source": [
    "print(plt.colormaps())"
   ]
  },
  {
   "cell_type": "markdown",
   "id": "99d68c8e",
   "metadata": {},
   "source": [
    "# Bar Plot "
   ]
  },
  {
   "cell_type": "code",
   "execution_count": null,
   "id": "5af666d0",
   "metadata": {},
   "outputs": [],
   "source": [
    "sns.barplot(df1.mpg)"
   ]
  },
  {
   "cell_type": "code",
   "execution_count": null,
   "id": "3fd070a2",
   "metadata": {},
   "outputs": [],
   "source": [
    "df1['mpg'].mean()"
   ]
  },
  {
   "cell_type": "code",
   "execution_count": null,
   "id": "7009fb84",
   "metadata": {},
   "outputs": [],
   "source": [
    "sns.__version__"
   ]
  },
  {
   "cell_type": "markdown",
   "id": "34a4e672",
   "metadata": {},
   "source": [
    "# Pie Chart"
   ]
  },
  {
   "cell_type": "code",
   "execution_count": null,
   "id": "08369ccc",
   "metadata": {},
   "outputs": [],
   "source": [
    "vc = df1.gear.value_counts()\n",
    "vc"
   ]
  },
  {
   "cell_type": "code",
   "execution_count": null,
   "id": "0a9cf050",
   "metadata": {},
   "outputs": [],
   "source": [
    "vc.plot(kind='pie',autopct='%.2f',radius=1)"
   ]
  },
  {
   "cell_type": "markdown",
   "id": "e54e1a20",
   "metadata": {},
   "source": [
    "# Rank"
   ]
  },
  {
   "cell_type": "raw",
   "id": "f39bb68d",
   "metadata": {},
   "source": [
    "\n",
    "        Dense          First          Min          Max          Avg\n",
    "--------------------------------------------------------------------------------\n",
    "55          5          7          7          7          7 \n",
    "75          3          3          3          4          3.5\n",
    "65          4          5          5          6          5.5\n",
    "75          3          4          3          4          3.5\n",
    "95          1          1          1          1          1\n",
    "65          4          6          5          6          5.5\n",
    "85          2          2          2          2          2"
   ]
  },
  {
   "cell_type": "code",
   "execution_count": null,
   "id": "370e9218",
   "metadata": {},
   "outputs": [],
   "source": [
    "df1 = pd.read_csv('./Data/lds1.csv')\n",
    "df1.Vol.rank()"
   ]
  },
  {
   "cell_type": "code",
   "execution_count": null,
   "id": "6e978e24",
   "metadata": {},
   "outputs": [],
   "source": [
    "df1.Vol.rank(ascending=True)"
   ]
  },
  {
   "cell_type": "code",
   "execution_count": null,
   "id": "267a9ebc",
   "metadata": {},
   "outputs": [],
   "source": [
    "df1.Vol.rank(ascending=False)"
   ]
  },
  {
   "cell_type": "code",
   "execution_count": null,
   "id": "21ce8a66",
   "metadata": {},
   "outputs": [],
   "source": [
    "df1.Vol.rank(ascending=True, method='dense')"
   ]
  },
  {
   "cell_type": "code",
   "execution_count": null,
   "id": "328d08dd",
   "metadata": {},
   "outputs": [],
   "source": [
    "df1.Vol.rank(ascending=True, method='min')"
   ]
  },
  {
   "cell_type": "code",
   "execution_count": null,
   "id": "40b60102",
   "metadata": {},
   "outputs": [],
   "source": [
    "df1.Vol.rank(ascending=True, method='max')"
   ]
  },
  {
   "cell_type": "code",
   "execution_count": null,
   "id": "962aaada",
   "metadata": {},
   "outputs": [],
   "source": [
    "df1.Vol.rank(ascending=True, method='first')"
   ]
  },
  {
   "cell_type": "code",
   "execution_count": null,
   "id": "850b42f7",
   "metadata": {},
   "outputs": [],
   "source": [
    "df1.Vol.rank(ascending=True, method='first')"
   ]
  },
  {
   "cell_type": "code",
   "execution_count": null,
   "id": "bcd81a4c",
   "metadata": {},
   "outputs": [],
   "source": [
    "df1.Vol.rank(ascending=True, method='average')"
   ]
  },
  {
   "cell_type": "code",
   "execution_count": null,
   "id": "cf3acd8e",
   "metadata": {},
   "outputs": [],
   "source": []
  }
 ],
 "metadata": {
  "kernelspec": {
   "display_name": "Python 3 (ipykernel)",
   "language": "python",
   "name": "python3"
  },
  "language_info": {
   "codemirror_mode": {
    "name": "ipython",
    "version": 3
   },
   "file_extension": ".py",
   "mimetype": "text/x-python",
   "name": "python",
   "nbconvert_exporter": "python",
   "pygments_lexer": "ipython3",
   "version": "3.11.5"
  }
 },
 "nbformat": 4,
 "nbformat_minor": 5
}
