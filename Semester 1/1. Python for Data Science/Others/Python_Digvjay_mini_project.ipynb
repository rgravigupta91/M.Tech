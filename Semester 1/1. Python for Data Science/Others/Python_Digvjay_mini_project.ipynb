{
 "cells": [
  {
   "cell_type": "code",
   "execution_count": 1,
   "id": "9c2762a8-f0dd-4f23-9879-fd317ad1b9c4",
   "metadata": {
    "execution": {
     "iopub.execute_input": "2024-06-15T12:53:57.283788Z",
     "iopub.status.busy": "2024-06-15T12:53:57.283788Z",
     "iopub.status.idle": "2024-06-15T12:54:01.487524Z",
     "shell.execute_reply": "2024-06-15T12:54:01.487524Z",
     "shell.execute_reply.started": "2024-06-15T12:53:57.283788Z"
    }
   },
   "outputs": [],
   "source": [
    "import pandas as pd\n",
    "import numpy as np\n",
    "import matplotlib.pyplot as plt\n",
    "import seaborn as sns\n",
    "import warnings\n",
    "warnings.filterwarnings('ignore')"
   ]
  },
  {
   "cell_type": "code",
   "execution_count": 2,
   "id": "9726e0a4-5140-41e8-95ad-4dbdae6f383a",
   "metadata": {
    "execution": {
     "iopub.execute_input": "2024-06-15T12:54:01.493559Z",
     "iopub.status.busy": "2024-06-15T12:54:01.492252Z",
     "iopub.status.idle": "2024-06-15T12:54:01.548496Z",
     "shell.execute_reply": "2024-06-15T12:54:01.547495Z",
     "shell.execute_reply.started": "2024-06-15T12:54:01.493559Z"
    }
   },
   "outputs": [
    {
     "data": {
      "text/html": [
       "<div>\n",
       "<style scoped>\n",
       "    .dataframe tbody tr th:only-of-type {\n",
       "        vertical-align: middle;\n",
       "    }\n",
       "\n",
       "    .dataframe tbody tr th {\n",
       "        vertical-align: top;\n",
       "    }\n",
       "\n",
       "    .dataframe thead th {\n",
       "        text-align: right;\n",
       "    }\n",
       "</style>\n",
       "<table border=\"1\" class=\"dataframe\">\n",
       "  <thead>\n",
       "    <tr style=\"text-align: right;\">\n",
       "      <th></th>\n",
       "      <th>age</th>\n",
       "      <th>job</th>\n",
       "      <th>marital</th>\n",
       "      <th>education</th>\n",
       "      <th>default</th>\n",
       "      <th>balance</th>\n",
       "      <th>housing</th>\n",
       "      <th>loan</th>\n",
       "      <th>contact</th>\n",
       "      <th>day</th>\n",
       "      <th>month</th>\n",
       "      <th>duration</th>\n",
       "      <th>campaign</th>\n",
       "      <th>pdays</th>\n",
       "      <th>previous</th>\n",
       "      <th>poutcome</th>\n",
       "      <th>y</th>\n",
       "    </tr>\n",
       "  </thead>\n",
       "  <tbody>\n",
       "    <tr>\n",
       "      <th>0</th>\n",
       "      <td>30</td>\n",
       "      <td>unemployed</td>\n",
       "      <td>married</td>\n",
       "      <td>primary</td>\n",
       "      <td>no</td>\n",
       "      <td>1787</td>\n",
       "      <td>no</td>\n",
       "      <td>no</td>\n",
       "      <td>cellular</td>\n",
       "      <td>19</td>\n",
       "      <td>oct</td>\n",
       "      <td>79</td>\n",
       "      <td>1</td>\n",
       "      <td>-1</td>\n",
       "      <td>0</td>\n",
       "      <td>unknown</td>\n",
       "      <td>no</td>\n",
       "    </tr>\n",
       "    <tr>\n",
       "      <th>1</th>\n",
       "      <td>33</td>\n",
       "      <td>services</td>\n",
       "      <td>married</td>\n",
       "      <td>secondary</td>\n",
       "      <td>no</td>\n",
       "      <td>4789</td>\n",
       "      <td>yes</td>\n",
       "      <td>yes</td>\n",
       "      <td>cellular</td>\n",
       "      <td>11</td>\n",
       "      <td>may</td>\n",
       "      <td>220</td>\n",
       "      <td>1</td>\n",
       "      <td>339</td>\n",
       "      <td>4</td>\n",
       "      <td>failure</td>\n",
       "      <td>no</td>\n",
       "    </tr>\n",
       "    <tr>\n",
       "      <th>2</th>\n",
       "      <td>35</td>\n",
       "      <td>management</td>\n",
       "      <td>single</td>\n",
       "      <td>tertiary</td>\n",
       "      <td>no</td>\n",
       "      <td>1350</td>\n",
       "      <td>yes</td>\n",
       "      <td>no</td>\n",
       "      <td>cellular</td>\n",
       "      <td>16</td>\n",
       "      <td>apr</td>\n",
       "      <td>185</td>\n",
       "      <td>1</td>\n",
       "      <td>330</td>\n",
       "      <td>1</td>\n",
       "      <td>failure</td>\n",
       "      <td>no</td>\n",
       "    </tr>\n",
       "    <tr>\n",
       "      <th>3</th>\n",
       "      <td>30</td>\n",
       "      <td>management</td>\n",
       "      <td>married</td>\n",
       "      <td>tertiary</td>\n",
       "      <td>no</td>\n",
       "      <td>1476</td>\n",
       "      <td>yes</td>\n",
       "      <td>yes</td>\n",
       "      <td>unknown</td>\n",
       "      <td>3</td>\n",
       "      <td>jun</td>\n",
       "      <td>199</td>\n",
       "      <td>4</td>\n",
       "      <td>-1</td>\n",
       "      <td>0</td>\n",
       "      <td>unknown</td>\n",
       "      <td>no</td>\n",
       "    </tr>\n",
       "    <tr>\n",
       "      <th>4</th>\n",
       "      <td>59</td>\n",
       "      <td>blue-collar</td>\n",
       "      <td>married</td>\n",
       "      <td>secondary</td>\n",
       "      <td>no</td>\n",
       "      <td>0</td>\n",
       "      <td>yes</td>\n",
       "      <td>no</td>\n",
       "      <td>unknown</td>\n",
       "      <td>5</td>\n",
       "      <td>may</td>\n",
       "      <td>226</td>\n",
       "      <td>1</td>\n",
       "      <td>-1</td>\n",
       "      <td>0</td>\n",
       "      <td>unknown</td>\n",
       "      <td>no</td>\n",
       "    </tr>\n",
       "  </tbody>\n",
       "</table>\n",
       "</div>"
      ],
      "text/plain": [
       "   age          job  marital  education default  balance housing loan  \\\n",
       "0   30   unemployed  married    primary      no     1787      no   no   \n",
       "1   33     services  married  secondary      no     4789     yes  yes   \n",
       "2   35   management   single   tertiary      no     1350     yes   no   \n",
       "3   30   management  married   tertiary      no     1476     yes  yes   \n",
       "4   59  blue-collar  married  secondary      no        0     yes   no   \n",
       "\n",
       "    contact  day month  duration  campaign  pdays  previous poutcome   y  \n",
       "0  cellular   19   oct        79         1     -1         0  unknown  no  \n",
       "1  cellular   11   may       220         1    339         4  failure  no  \n",
       "2  cellular   16   apr       185         1    330         1  failure  no  \n",
       "3   unknown    3   jun       199         4     -1         0  unknown  no  \n",
       "4   unknown    5   may       226         1     -1         0  unknown  no  "
      ]
     },
     "execution_count": 2,
     "metadata": {},
     "output_type": "execute_result"
    }
   ],
   "source": [
    "bank_data = pd.read_csv(\"bank.csv\")\n",
    "bank_data.head()"
   ]
  },
  {
   "cell_type": "markdown",
   "id": "50b0d2fa-2102-46c4-928a-d494d4954f52",
   "metadata": {},
   "source": [
    "2. Make the data proper to make use of data for analysis\r\n",
    "\r\n",
    "A. Identify the Features data types before entering into the analysis\r\n",
    "\r\n",
    "B. .Convert the datatypes which are wrongly identified according to the business(domain). Kindly use the User Defined function and loop to convert the data types once.\r\n",
    "\r\n",
    "C. Find and Remove missing if any. Use visualization to find the missing values or Use general method to find the missing values.\r\n",
    "\r\n",
    "D. Find duplicates (if necessary)"
   ]
  },
  {
   "cell_type": "code",
   "execution_count": 3,
   "id": "aa3c6a86-5cf8-4797-bc2f-7aaefbd0b21b",
   "metadata": {
    "execution": {
     "iopub.execute_input": "2024-06-15T12:54:01.550104Z",
     "iopub.status.busy": "2024-06-15T12:54:01.549498Z",
     "iopub.status.idle": "2024-06-15T12:54:01.559202Z",
     "shell.execute_reply": "2024-06-15T12:54:01.558202Z",
     "shell.execute_reply.started": "2024-06-15T12:54:01.550104Z"
    }
   },
   "outputs": [
    {
     "data": {
      "text/plain": [
       "(4521, 17)"
      ]
     },
     "execution_count": 3,
     "metadata": {},
     "output_type": "execute_result"
    }
   ],
   "source": [
    "bank_data.shape"
   ]
  },
  {
   "cell_type": "code",
   "execution_count": 4,
   "id": "dd0bbd64-cede-4fcb-b503-46dc9ac4939d",
   "metadata": {
    "execution": {
     "iopub.execute_input": "2024-06-15T12:54:01.561203Z",
     "iopub.status.busy": "2024-06-15T12:54:01.560202Z",
     "iopub.status.idle": "2024-06-15T12:54:01.567773Z",
     "shell.execute_reply": "2024-06-15T12:54:01.566772Z",
     "shell.execute_reply.started": "2024-06-15T12:54:01.561203Z"
    }
   },
   "outputs": [],
   "source": [
    "def change_balance(df, cols, dt):\n",
    "    for i in cols:\n",
    "        df[i] = df[i].astype(dt)"
   ]
  },
  {
   "cell_type": "code",
   "execution_count": 5,
   "id": "3db71aca-b120-4cf5-a142-dcdb8efb4189",
   "metadata": {
    "execution": {
     "iopub.execute_input": "2024-06-15T12:54:01.569776Z",
     "iopub.status.busy": "2024-06-15T12:54:01.568773Z",
     "iopub.status.idle": "2024-06-15T12:54:01.579402Z",
     "shell.execute_reply": "2024-06-15T12:54:01.579402Z",
     "shell.execute_reply.started": "2024-06-15T12:54:01.569776Z"
    }
   },
   "outputs": [],
   "source": [
    "change_balance(bank_data,[\"balance\"],float)"
   ]
  },
  {
   "cell_type": "code",
   "execution_count": 6,
   "id": "adf9540d-adc4-4a6b-b0ba-139b1c4ee359",
   "metadata": {
    "execution": {
     "iopub.execute_input": "2024-06-15T12:54:01.579402Z",
     "iopub.status.busy": "2024-06-15T12:54:01.579402Z",
     "iopub.status.idle": "2024-06-15T12:54:01.608336Z",
     "shell.execute_reply": "2024-06-15T12:54:01.607335Z",
     "shell.execute_reply.started": "2024-06-15T12:54:01.579402Z"
    }
   },
   "outputs": [
    {
     "data": {
      "text/html": [
       "<div>\n",
       "<style scoped>\n",
       "    .dataframe tbody tr th:only-of-type {\n",
       "        vertical-align: middle;\n",
       "    }\n",
       "\n",
       "    .dataframe tbody tr th {\n",
       "        vertical-align: top;\n",
       "    }\n",
       "\n",
       "    .dataframe thead th {\n",
       "        text-align: right;\n",
       "    }\n",
       "</style>\n",
       "<table border=\"1\" class=\"dataframe\">\n",
       "  <thead>\n",
       "    <tr style=\"text-align: right;\">\n",
       "      <th></th>\n",
       "      <th>age</th>\n",
       "      <th>job</th>\n",
       "      <th>marital</th>\n",
       "      <th>education</th>\n",
       "      <th>default</th>\n",
       "      <th>balance</th>\n",
       "      <th>housing</th>\n",
       "      <th>loan</th>\n",
       "      <th>contact</th>\n",
       "      <th>day</th>\n",
       "      <th>month</th>\n",
       "      <th>duration</th>\n",
       "      <th>campaign</th>\n",
       "      <th>pdays</th>\n",
       "      <th>previous</th>\n",
       "      <th>poutcome</th>\n",
       "      <th>y</th>\n",
       "    </tr>\n",
       "  </thead>\n",
       "  <tbody>\n",
       "    <tr>\n",
       "      <th>0</th>\n",
       "      <td>30</td>\n",
       "      <td>unemployed</td>\n",
       "      <td>married</td>\n",
       "      <td>primary</td>\n",
       "      <td>no</td>\n",
       "      <td>1787.0</td>\n",
       "      <td>no</td>\n",
       "      <td>no</td>\n",
       "      <td>cellular</td>\n",
       "      <td>19</td>\n",
       "      <td>oct</td>\n",
       "      <td>79</td>\n",
       "      <td>1</td>\n",
       "      <td>-1</td>\n",
       "      <td>0</td>\n",
       "      <td>unknown</td>\n",
       "      <td>no</td>\n",
       "    </tr>\n",
       "    <tr>\n",
       "      <th>1</th>\n",
       "      <td>33</td>\n",
       "      <td>services</td>\n",
       "      <td>married</td>\n",
       "      <td>secondary</td>\n",
       "      <td>no</td>\n",
       "      <td>4789.0</td>\n",
       "      <td>yes</td>\n",
       "      <td>yes</td>\n",
       "      <td>cellular</td>\n",
       "      <td>11</td>\n",
       "      <td>may</td>\n",
       "      <td>220</td>\n",
       "      <td>1</td>\n",
       "      <td>339</td>\n",
       "      <td>4</td>\n",
       "      <td>failure</td>\n",
       "      <td>no</td>\n",
       "    </tr>\n",
       "    <tr>\n",
       "      <th>2</th>\n",
       "      <td>35</td>\n",
       "      <td>management</td>\n",
       "      <td>single</td>\n",
       "      <td>tertiary</td>\n",
       "      <td>no</td>\n",
       "      <td>1350.0</td>\n",
       "      <td>yes</td>\n",
       "      <td>no</td>\n",
       "      <td>cellular</td>\n",
       "      <td>16</td>\n",
       "      <td>apr</td>\n",
       "      <td>185</td>\n",
       "      <td>1</td>\n",
       "      <td>330</td>\n",
       "      <td>1</td>\n",
       "      <td>failure</td>\n",
       "      <td>no</td>\n",
       "    </tr>\n",
       "    <tr>\n",
       "      <th>3</th>\n",
       "      <td>30</td>\n",
       "      <td>management</td>\n",
       "      <td>married</td>\n",
       "      <td>tertiary</td>\n",
       "      <td>no</td>\n",
       "      <td>1476.0</td>\n",
       "      <td>yes</td>\n",
       "      <td>yes</td>\n",
       "      <td>unknown</td>\n",
       "      <td>3</td>\n",
       "      <td>jun</td>\n",
       "      <td>199</td>\n",
       "      <td>4</td>\n",
       "      <td>-1</td>\n",
       "      <td>0</td>\n",
       "      <td>unknown</td>\n",
       "      <td>no</td>\n",
       "    </tr>\n",
       "    <tr>\n",
       "      <th>4</th>\n",
       "      <td>59</td>\n",
       "      <td>blue-collar</td>\n",
       "      <td>married</td>\n",
       "      <td>secondary</td>\n",
       "      <td>no</td>\n",
       "      <td>0.0</td>\n",
       "      <td>yes</td>\n",
       "      <td>no</td>\n",
       "      <td>unknown</td>\n",
       "      <td>5</td>\n",
       "      <td>may</td>\n",
       "      <td>226</td>\n",
       "      <td>1</td>\n",
       "      <td>-1</td>\n",
       "      <td>0</td>\n",
       "      <td>unknown</td>\n",
       "      <td>no</td>\n",
       "    </tr>\n",
       "  </tbody>\n",
       "</table>\n",
       "</div>"
      ],
      "text/plain": [
       "   age          job  marital  education default  balance housing loan  \\\n",
       "0   30   unemployed  married    primary      no   1787.0      no   no   \n",
       "1   33     services  married  secondary      no   4789.0     yes  yes   \n",
       "2   35   management   single   tertiary      no   1350.0     yes   no   \n",
       "3   30   management  married   tertiary      no   1476.0     yes  yes   \n",
       "4   59  blue-collar  married  secondary      no      0.0     yes   no   \n",
       "\n",
       "    contact  day month  duration  campaign  pdays  previous poutcome   y  \n",
       "0  cellular   19   oct        79         1     -1         0  unknown  no  \n",
       "1  cellular   11   may       220         1    339         4  failure  no  \n",
       "2  cellular   16   apr       185         1    330         1  failure  no  \n",
       "3   unknown    3   jun       199         4     -1         0  unknown  no  \n",
       "4   unknown    5   may       226         1     -1         0  unknown  no  "
      ]
     },
     "execution_count": 6,
     "metadata": {},
     "output_type": "execute_result"
    }
   ],
   "source": [
    "bank_data.head()"
   ]
  },
  {
   "cell_type": "code",
   "execution_count": 7,
   "id": "bbccc452-80d7-47c2-a7c7-d3f549588553",
   "metadata": {
    "execution": {
     "iopub.execute_input": "2024-06-15T12:54:01.611339Z",
     "iopub.status.busy": "2024-06-15T12:54:01.610338Z",
     "iopub.status.idle": "2024-06-15T12:54:01.622678Z",
     "shell.execute_reply": "2024-06-15T12:54:01.622678Z",
     "shell.execute_reply.started": "2024-06-15T12:54:01.611339Z"
    }
   },
   "outputs": [
    {
     "data": {
      "text/plain": [
       "age            int64\n",
       "job           object\n",
       "marital       object\n",
       "education     object\n",
       "default       object\n",
       "balance      float64\n",
       "housing       object\n",
       "loan          object\n",
       "contact       object\n",
       "day            int64\n",
       "month         object\n",
       "duration       int64\n",
       "campaign       int64\n",
       "pdays          int64\n",
       "previous       int64\n",
       "poutcome      object\n",
       "y             object\n",
       "dtype: object"
      ]
     },
     "execution_count": 7,
     "metadata": {},
     "output_type": "execute_result"
    }
   ],
   "source": [
    "bank_data.dtypes"
   ]
  },
  {
   "cell_type": "code",
   "execution_count": 8,
   "id": "c1ccbc04-041e-40f4-87ce-a1236ed25db6",
   "metadata": {
    "execution": {
     "iopub.execute_input": "2024-06-15T12:54:01.622678Z",
     "iopub.status.busy": "2024-06-15T12:54:01.622678Z",
     "iopub.status.idle": "2024-06-15T12:54:01.661608Z",
     "shell.execute_reply": "2024-06-15T12:54:01.660608Z",
     "shell.execute_reply.started": "2024-06-15T12:54:01.622678Z"
    }
   },
   "outputs": [
    {
     "data": {
      "text/html": [
       "<div>\n",
       "<style scoped>\n",
       "    .dataframe tbody tr th:only-of-type {\n",
       "        vertical-align: middle;\n",
       "    }\n",
       "\n",
       "    .dataframe tbody tr th {\n",
       "        vertical-align: top;\n",
       "    }\n",
       "\n",
       "    .dataframe thead th {\n",
       "        text-align: right;\n",
       "    }\n",
       "</style>\n",
       "<table border=\"1\" class=\"dataframe\">\n",
       "  <thead>\n",
       "    <tr style=\"text-align: right;\">\n",
       "      <th></th>\n",
       "      <th>age</th>\n",
       "      <th>job</th>\n",
       "      <th>marital</th>\n",
       "      <th>education</th>\n",
       "      <th>default</th>\n",
       "      <th>balance</th>\n",
       "      <th>housing</th>\n",
       "      <th>loan</th>\n",
       "      <th>contact</th>\n",
       "      <th>day</th>\n",
       "      <th>month</th>\n",
       "      <th>duration</th>\n",
       "      <th>campaign</th>\n",
       "      <th>pdays</th>\n",
       "      <th>previous</th>\n",
       "      <th>poutcome</th>\n",
       "      <th>y</th>\n",
       "    </tr>\n",
       "  </thead>\n",
       "  <tbody>\n",
       "    <tr>\n",
       "      <th>0</th>\n",
       "      <td>False</td>\n",
       "      <td>False</td>\n",
       "      <td>False</td>\n",
       "      <td>False</td>\n",
       "      <td>False</td>\n",
       "      <td>False</td>\n",
       "      <td>False</td>\n",
       "      <td>False</td>\n",
       "      <td>False</td>\n",
       "      <td>False</td>\n",
       "      <td>False</td>\n",
       "      <td>False</td>\n",
       "      <td>False</td>\n",
       "      <td>False</td>\n",
       "      <td>False</td>\n",
       "      <td>False</td>\n",
       "      <td>False</td>\n",
       "    </tr>\n",
       "    <tr>\n",
       "      <th>1</th>\n",
       "      <td>False</td>\n",
       "      <td>False</td>\n",
       "      <td>False</td>\n",
       "      <td>False</td>\n",
       "      <td>False</td>\n",
       "      <td>False</td>\n",
       "      <td>False</td>\n",
       "      <td>False</td>\n",
       "      <td>False</td>\n",
       "      <td>False</td>\n",
       "      <td>False</td>\n",
       "      <td>False</td>\n",
       "      <td>False</td>\n",
       "      <td>False</td>\n",
       "      <td>False</td>\n",
       "      <td>False</td>\n",
       "      <td>False</td>\n",
       "    </tr>\n",
       "    <tr>\n",
       "      <th>2</th>\n",
       "      <td>False</td>\n",
       "      <td>False</td>\n",
       "      <td>False</td>\n",
       "      <td>False</td>\n",
       "      <td>False</td>\n",
       "      <td>False</td>\n",
       "      <td>False</td>\n",
       "      <td>False</td>\n",
       "      <td>False</td>\n",
       "      <td>False</td>\n",
       "      <td>False</td>\n",
       "      <td>False</td>\n",
       "      <td>False</td>\n",
       "      <td>False</td>\n",
       "      <td>False</td>\n",
       "      <td>False</td>\n",
       "      <td>False</td>\n",
       "    </tr>\n",
       "    <tr>\n",
       "      <th>3</th>\n",
       "      <td>False</td>\n",
       "      <td>False</td>\n",
       "      <td>False</td>\n",
       "      <td>False</td>\n",
       "      <td>False</td>\n",
       "      <td>False</td>\n",
       "      <td>False</td>\n",
       "      <td>False</td>\n",
       "      <td>False</td>\n",
       "      <td>False</td>\n",
       "      <td>False</td>\n",
       "      <td>False</td>\n",
       "      <td>False</td>\n",
       "      <td>False</td>\n",
       "      <td>False</td>\n",
       "      <td>False</td>\n",
       "      <td>False</td>\n",
       "    </tr>\n",
       "    <tr>\n",
       "      <th>4</th>\n",
       "      <td>False</td>\n",
       "      <td>False</td>\n",
       "      <td>False</td>\n",
       "      <td>False</td>\n",
       "      <td>False</td>\n",
       "      <td>False</td>\n",
       "      <td>False</td>\n",
       "      <td>False</td>\n",
       "      <td>False</td>\n",
       "      <td>False</td>\n",
       "      <td>False</td>\n",
       "      <td>False</td>\n",
       "      <td>False</td>\n",
       "      <td>False</td>\n",
       "      <td>False</td>\n",
       "      <td>False</td>\n",
       "      <td>False</td>\n",
       "    </tr>\n",
       "    <tr>\n",
       "      <th>...</th>\n",
       "      <td>...</td>\n",
       "      <td>...</td>\n",
       "      <td>...</td>\n",
       "      <td>...</td>\n",
       "      <td>...</td>\n",
       "      <td>...</td>\n",
       "      <td>...</td>\n",
       "      <td>...</td>\n",
       "      <td>...</td>\n",
       "      <td>...</td>\n",
       "      <td>...</td>\n",
       "      <td>...</td>\n",
       "      <td>...</td>\n",
       "      <td>...</td>\n",
       "      <td>...</td>\n",
       "      <td>...</td>\n",
       "      <td>...</td>\n",
       "    </tr>\n",
       "    <tr>\n",
       "      <th>4516</th>\n",
       "      <td>False</td>\n",
       "      <td>False</td>\n",
       "      <td>False</td>\n",
       "      <td>False</td>\n",
       "      <td>False</td>\n",
       "      <td>False</td>\n",
       "      <td>False</td>\n",
       "      <td>False</td>\n",
       "      <td>False</td>\n",
       "      <td>False</td>\n",
       "      <td>False</td>\n",
       "      <td>False</td>\n",
       "      <td>False</td>\n",
       "      <td>False</td>\n",
       "      <td>False</td>\n",
       "      <td>False</td>\n",
       "      <td>False</td>\n",
       "    </tr>\n",
       "    <tr>\n",
       "      <th>4517</th>\n",
       "      <td>False</td>\n",
       "      <td>False</td>\n",
       "      <td>False</td>\n",
       "      <td>False</td>\n",
       "      <td>False</td>\n",
       "      <td>False</td>\n",
       "      <td>False</td>\n",
       "      <td>False</td>\n",
       "      <td>False</td>\n",
       "      <td>False</td>\n",
       "      <td>False</td>\n",
       "      <td>False</td>\n",
       "      <td>False</td>\n",
       "      <td>False</td>\n",
       "      <td>False</td>\n",
       "      <td>False</td>\n",
       "      <td>False</td>\n",
       "    </tr>\n",
       "    <tr>\n",
       "      <th>4518</th>\n",
       "      <td>False</td>\n",
       "      <td>False</td>\n",
       "      <td>False</td>\n",
       "      <td>False</td>\n",
       "      <td>False</td>\n",
       "      <td>False</td>\n",
       "      <td>False</td>\n",
       "      <td>False</td>\n",
       "      <td>False</td>\n",
       "      <td>False</td>\n",
       "      <td>False</td>\n",
       "      <td>False</td>\n",
       "      <td>False</td>\n",
       "      <td>False</td>\n",
       "      <td>False</td>\n",
       "      <td>False</td>\n",
       "      <td>False</td>\n",
       "    </tr>\n",
       "    <tr>\n",
       "      <th>4519</th>\n",
       "      <td>False</td>\n",
       "      <td>False</td>\n",
       "      <td>False</td>\n",
       "      <td>False</td>\n",
       "      <td>False</td>\n",
       "      <td>False</td>\n",
       "      <td>False</td>\n",
       "      <td>False</td>\n",
       "      <td>False</td>\n",
       "      <td>False</td>\n",
       "      <td>False</td>\n",
       "      <td>False</td>\n",
       "      <td>False</td>\n",
       "      <td>False</td>\n",
       "      <td>False</td>\n",
       "      <td>False</td>\n",
       "      <td>False</td>\n",
       "    </tr>\n",
       "    <tr>\n",
       "      <th>4520</th>\n",
       "      <td>False</td>\n",
       "      <td>False</td>\n",
       "      <td>False</td>\n",
       "      <td>False</td>\n",
       "      <td>False</td>\n",
       "      <td>False</td>\n",
       "      <td>False</td>\n",
       "      <td>False</td>\n",
       "      <td>False</td>\n",
       "      <td>False</td>\n",
       "      <td>False</td>\n",
       "      <td>False</td>\n",
       "      <td>False</td>\n",
       "      <td>False</td>\n",
       "      <td>False</td>\n",
       "      <td>False</td>\n",
       "      <td>False</td>\n",
       "    </tr>\n",
       "  </tbody>\n",
       "</table>\n",
       "<p>4521 rows × 17 columns</p>\n",
       "</div>"
      ],
      "text/plain": [
       "        age    job  marital  education  default  balance  housing   loan  \\\n",
       "0     False  False    False      False    False    False    False  False   \n",
       "1     False  False    False      False    False    False    False  False   \n",
       "2     False  False    False      False    False    False    False  False   \n",
       "3     False  False    False      False    False    False    False  False   \n",
       "4     False  False    False      False    False    False    False  False   \n",
       "...     ...    ...      ...        ...      ...      ...      ...    ...   \n",
       "4516  False  False    False      False    False    False    False  False   \n",
       "4517  False  False    False      False    False    False    False  False   \n",
       "4518  False  False    False      False    False    False    False  False   \n",
       "4519  False  False    False      False    False    False    False  False   \n",
       "4520  False  False    False      False    False    False    False  False   \n",
       "\n",
       "      contact    day  month  duration  campaign  pdays  previous  poutcome  \\\n",
       "0       False  False  False     False     False  False     False     False   \n",
       "1       False  False  False     False     False  False     False     False   \n",
       "2       False  False  False     False     False  False     False     False   \n",
       "3       False  False  False     False     False  False     False     False   \n",
       "4       False  False  False     False     False  False     False     False   \n",
       "...       ...    ...    ...       ...       ...    ...       ...       ...   \n",
       "4516    False  False  False     False     False  False     False     False   \n",
       "4517    False  False  False     False     False  False     False     False   \n",
       "4518    False  False  False     False     False  False     False     False   \n",
       "4519    False  False  False     False     False  False     False     False   \n",
       "4520    False  False  False     False     False  False     False     False   \n",
       "\n",
       "          y  \n",
       "0     False  \n",
       "1     False  \n",
       "2     False  \n",
       "3     False  \n",
       "4     False  \n",
       "...     ...  \n",
       "4516  False  \n",
       "4517  False  \n",
       "4518  False  \n",
       "4519  False  \n",
       "4520  False  \n",
       "\n",
       "[4521 rows x 17 columns]"
      ]
     },
     "execution_count": 8,
     "metadata": {},
     "output_type": "execute_result"
    }
   ],
   "source": [
    "bank_data.isna()"
   ]
  },
  {
   "cell_type": "code",
   "execution_count": 9,
   "id": "9559d26e-393f-48f5-88d5-d25f943c9221",
   "metadata": {
    "execution": {
     "iopub.execute_input": "2024-06-15T12:54:01.663611Z",
     "iopub.status.busy": "2024-06-15T12:54:01.663611Z",
     "iopub.status.idle": "2024-06-15T12:54:01.684531Z",
     "shell.execute_reply": "2024-06-15T12:54:01.683531Z",
     "shell.execute_reply.started": "2024-06-15T12:54:01.663611Z"
    }
   },
   "outputs": [
    {
     "data": {
      "text/plain": [
       "age          1\n",
       "job          1\n",
       "marital      1\n",
       "education    1\n",
       "default      1\n",
       "balance      1\n",
       "housing      1\n",
       "loan         1\n",
       "contact      1\n",
       "day          1\n",
       "month        1\n",
       "duration     1\n",
       "campaign     1\n",
       "pdays        1\n",
       "previous     1\n",
       "poutcome     1\n",
       "y            1\n",
       "dtype: int64"
      ]
     },
     "execution_count": 9,
     "metadata": {},
     "output_type": "execute_result"
    }
   ],
   "source": [
    "bank_data.isna().nunique()"
   ]
  },
  {
   "cell_type": "code",
   "execution_count": 10,
   "id": "ce0af66e-779c-431f-99f9-bf083feb1f0a",
   "metadata": {
    "execution": {
     "iopub.execute_input": "2024-06-15T12:54:01.687532Z",
     "iopub.status.busy": "2024-06-15T12:54:01.686531Z",
     "iopub.status.idle": "2024-06-15T12:54:02.464139Z",
     "shell.execute_reply": "2024-06-15T12:54:02.464139Z",
     "shell.execute_reply.started": "2024-06-15T12:54:01.687532Z"
    }
   },
   "outputs": [
    {
     "name": "stdout",
     "output_type": "stream",
     "text": [
      "From the analysis we see that there is no any missing values the data is clean.\n"
     ]
    },
    {
     "data": {
      "image/png": "[encoded data removed]",
      "text/plain": [
       "<Figure size 640x480 with 2 Axes>"
      ]
     },
     "metadata": {},
     "output_type": "display_data"
    }
   ],
   "source": [
    "sns.heatmap(bank_data.isna(),cmap=\"rainbow\")\n",
    "print(\"From the analysis we see that there is no any missing values the data is clean.\")"
   ]
  },
  {
   "cell_type": "code",
   "execution_count": 11,
   "id": "5c5de70f-0f74-4db4-96b9-10cd24ccf469",
   "metadata": {
    "execution": {
     "iopub.execute_input": "2024-06-15T12:54:02.464139Z",
     "iopub.status.busy": "2024-06-15T12:54:02.464139Z",
     "iopub.status.idle": "2024-06-15T12:54:02.488781Z",
     "shell.execute_reply": "2024-06-15T12:54:02.488781Z",
     "shell.execute_reply.started": "2024-06-15T12:54:02.464139Z"
    }
   },
   "outputs": [
    {
     "data": {
      "text/html": [
       "<div>\n",
       "<style scoped>\n",
       "    .dataframe tbody tr th:only-of-type {\n",
       "        vertical-align: middle;\n",
       "    }\n",
       "\n",
       "    .dataframe tbody tr th {\n",
       "        vertical-align: top;\n",
       "    }\n",
       "\n",
       "    .dataframe thead th {\n",
       "        text-align: right;\n",
       "    }\n",
       "</style>\n",
       "<table border=\"1\" class=\"dataframe\">\n",
       "  <thead>\n",
       "    <tr style=\"text-align: right;\">\n",
       "      <th></th>\n",
       "      <th>age</th>\n",
       "      <th>job</th>\n",
       "      <th>marital</th>\n",
       "      <th>education</th>\n",
       "      <th>default</th>\n",
       "      <th>balance</th>\n",
       "      <th>housing</th>\n",
       "      <th>loan</th>\n",
       "      <th>contact</th>\n",
       "      <th>day</th>\n",
       "      <th>month</th>\n",
       "      <th>duration</th>\n",
       "      <th>campaign</th>\n",
       "      <th>pdays</th>\n",
       "      <th>previous</th>\n",
       "      <th>poutcome</th>\n",
       "      <th>y</th>\n",
       "    </tr>\n",
       "  </thead>\n",
       "  <tbody>\n",
       "  </tbody>\n",
       "</table>\n",
       "</div>"
      ],
      "text/plain": [
       "Empty DataFrame\n",
       "Columns: [age, job, marital, education, default, balance, housing, loan, contact, day, month, duration, campaign, pdays, previous, poutcome, y]\n",
       "Index: []"
      ]
     },
     "execution_count": 11,
     "metadata": {},
     "output_type": "execute_result"
    }
   ],
   "source": [
    "bank_data[bank_data.duplicated()]"
   ]
  },
  {
   "cell_type": "markdown",
   "id": "9fa9f373-7d8a-4177-ae7c-26d8ec2de869",
   "metadata": {},
   "source": [
    "3. Find the average balance of the customer who belongs to the subscribed customer and non-subscribed customer and also use a related plot to show them in visualization."
   ]
  },
  {
   "cell_type": "code",
   "execution_count": 12,
   "id": "584bbf77-2a6c-49c3-adb0-14126c214bd7",
   "metadata": {
    "execution": {
     "iopub.execute_input": "2024-06-15T12:54:02.491806Z",
     "iopub.status.busy": "2024-06-15T12:54:02.491806Z",
     "iopub.status.idle": "2024-06-15T12:54:02.507615Z",
     "shell.execute_reply": "2024-06-15T12:54:02.506612Z",
     "shell.execute_reply.started": "2024-06-15T12:54:02.491806Z"
    }
   },
   "outputs": [
    {
     "data": {
      "text/html": [
       "<div>\n",
       "<style scoped>\n",
       "    .dataframe tbody tr th:only-of-type {\n",
       "        vertical-align: middle;\n",
       "    }\n",
       "\n",
       "    .dataframe tbody tr th {\n",
       "        vertical-align: top;\n",
       "    }\n",
       "\n",
       "    .dataframe thead th {\n",
       "        text-align: right;\n",
       "    }\n",
       "</style>\n",
       "<table border=\"1\" class=\"dataframe\">\n",
       "  <thead>\n",
       "    <tr style=\"text-align: right;\">\n",
       "      <th></th>\n",
       "      <th>balance</th>\n",
       "    </tr>\n",
       "    <tr>\n",
       "      <th>y</th>\n",
       "      <th></th>\n",
       "    </tr>\n",
       "  </thead>\n",
       "  <tbody>\n",
       "    <tr>\n",
       "      <th>no</th>\n",
       "      <td>1403.211750</td>\n",
       "    </tr>\n",
       "    <tr>\n",
       "      <th>yes</th>\n",
       "      <td>1571.955854</td>\n",
       "    </tr>\n",
       "  </tbody>\n",
       "</table>\n",
       "</div>"
      ],
      "text/plain": [
       "         balance\n",
       "y               \n",
       "no   1403.211750\n",
       "yes  1571.955854"
      ]
     },
     "execution_count": 12,
     "metadata": {},
     "output_type": "execute_result"
    }
   ],
   "source": [
    "pd.DataFrame(bank_data.groupby(by='y')['balance'].mean())"
   ]
  },
  {
   "cell_type": "code",
   "execution_count": 13,
   "id": "342f422f-3a7f-4331-9e47-6f49d4b9fc2c",
   "metadata": {
    "execution": {
     "iopub.execute_input": "2024-06-15T12:54:02.510614Z",
     "iopub.status.busy": "2024-06-15T12:54:02.509614Z",
     "iopub.status.idle": "2024-06-15T12:54:02.642925Z",
     "shell.execute_reply": "2024-06-15T12:54:02.642925Z",
     "shell.execute_reply.started": "2024-06-15T12:54:02.509614Z"
    }
   },
   "outputs": [
    {
     "data": {
      "image/png": "[encoded data removed]",
      "text/plain": [
       "<Figure size 640x480 with 1 Axes>"
      ]
     },
     "metadata": {},
     "output_type": "display_data"
    }
   ],
   "source": [
    "plt.bar(x=['subscribe','non-subscribe'] ,\n",
    "         height = bank_data.groupby(by='y')['balance'].mean())\n",
    "\n",
    "plt.show()"
   ]
  },
  {
   "cell_type": "markdown",
   "id": "5db9900c-511c-4e24-a3a6-bbcae59557e6",
   "metadata": {},
   "source": [
    "4. Use a pie plot to find the distribution(frequency) of the education. Make sure to add labels and show the percentage of each education distribution."
   ]
  },
  {
   "cell_type": "code",
   "execution_count": 14,
   "id": "64470754-4677-4ff0-b7dc-338816d39e08",
   "metadata": {
    "execution": {
     "iopub.execute_input": "2024-06-15T12:54:02.647142Z",
     "iopub.status.busy": "2024-06-15T12:54:02.646185Z",
     "iopub.status.idle": "2024-06-15T12:54:02.745240Z",
     "shell.execute_reply": "2024-06-15T12:54:02.743280Z",
     "shell.execute_reply.started": "2024-06-15T12:54:02.647142Z"
    }
   },
   "outputs": [
    {
     "data": {
      "image/png": "[encoded data removed]",
      "text/plain": [
       "<Figure size 640x480 with 1 Axes>"
      ]
     },
     "metadata": {},
     "output_type": "display_data"
    },
    {
     "data": {
      "text/html": [
       "<div>\n",
       "<style scoped>\n",
       "    .dataframe tbody tr th:only-of-type {\n",
       "        vertical-align: middle;\n",
       "    }\n",
       "\n",
       "    .dataframe tbody tr th {\n",
       "        vertical-align: top;\n",
       "    }\n",
       "\n",
       "    .dataframe thead th {\n",
       "        text-align: right;\n",
       "    }\n",
       "</style>\n",
       "<table border=\"1\" class=\"dataframe\">\n",
       "  <thead>\n",
       "    <tr style=\"text-align: right;\">\n",
       "      <th></th>\n",
       "      <th>balance</th>\n",
       "    </tr>\n",
       "    <tr>\n",
       "      <th>y</th>\n",
       "      <th></th>\n",
       "    </tr>\n",
       "  </thead>\n",
       "  <tbody>\n",
       "    <tr>\n",
       "      <th>no</th>\n",
       "      <td>1403.211750</td>\n",
       "    </tr>\n",
       "    <tr>\n",
       "      <th>yes</th>\n",
       "      <td>1571.955854</td>\n",
       "    </tr>\n",
       "  </tbody>\n",
       "</table>\n",
       "</div>"
      ],
      "text/plain": [
       "         balance\n",
       "y               \n",
       "no   1403.211750\n",
       "yes  1571.955854"
      ]
     },
     "execution_count": 14,
     "metadata": {},
     "output_type": "execute_result"
    }
   ],
   "source": [
    "plt.pie(labels=['subscribe','non-subscribe'] ,\n",
    "         x=  bank_data.groupby(by='y')['balance'].mean(),autopct='%.4f')\n",
    "plt.show()\n",
    "\n",
    "\n",
    "pd.DataFrame(bank_data.groupby(by='y')['balance'].mean())"
   ]
  },
  {
   "cell_type": "code",
   "execution_count": 15,
   "id": "361eb0db-6b5a-4ea4-b7be-08da2b9e5057",
   "metadata": {
    "execution": {
     "iopub.execute_input": "2024-06-15T12:54:02.747310Z",
     "iopub.status.busy": "2024-06-15T12:54:02.747310Z",
     "iopub.status.idle": "2024-06-15T12:54:02.757452Z",
     "shell.execute_reply": "2024-06-15T12:54:02.756098Z",
     "shell.execute_reply.started": "2024-06-15T12:54:02.747310Z"
    }
   },
   "outputs": [],
   "source": [
    "value_count = bank_data.value_counts(['education'])"
   ]
  },
  {
   "cell_type": "code",
   "execution_count": 16,
   "id": "ce261a19-1366-473c-83f6-0909a97db578",
   "metadata": {
    "execution": {
     "iopub.execute_input": "2024-06-15T12:54:02.759298Z",
     "iopub.status.busy": "2024-06-15T12:54:02.759298Z",
     "iopub.status.idle": "2024-06-15T12:54:02.892085Z",
     "shell.execute_reply": "2024-06-15T12:54:02.890879Z",
     "shell.execute_reply.started": "2024-06-15T12:54:02.759298Z"
    }
   },
   "outputs": [
    {
     "data": {
      "image/png": "[encoded data removed]",
      "text/plain": [
       "<Figure size 640x480 with 1 Axes>"
      ]
     },
     "metadata": {},
     "output_type": "display_data"
    },
    {
     "data": {
      "text/html": [
       "<div>\n",
       "<style scoped>\n",
       "    .dataframe tbody tr th:only-of-type {\n",
       "        vertical-align: middle;\n",
       "    }\n",
       "\n",
       "    .dataframe tbody tr th {\n",
       "        vertical-align: top;\n",
       "    }\n",
       "\n",
       "    .dataframe thead th {\n",
       "        text-align: right;\n",
       "    }\n",
       "</style>\n",
       "<table border=\"1\" class=\"dataframe\">\n",
       "  <thead>\n",
       "    <tr style=\"text-align: right;\">\n",
       "      <th></th>\n",
       "      <th>balance</th>\n",
       "    </tr>\n",
       "    <tr>\n",
       "      <th>education</th>\n",
       "      <th></th>\n",
       "    </tr>\n",
       "  </thead>\n",
       "  <tbody>\n",
       "    <tr>\n",
       "      <th>primary</th>\n",
       "      <td>1411.544248</td>\n",
       "    </tr>\n",
       "    <tr>\n",
       "      <th>secondary</th>\n",
       "      <td>1196.814397</td>\n",
       "    </tr>\n",
       "    <tr>\n",
       "      <th>tertiary</th>\n",
       "      <td>1775.423704</td>\n",
       "    </tr>\n",
       "    <tr>\n",
       "      <th>unknown</th>\n",
       "      <td>1701.245989</td>\n",
       "    </tr>\n",
       "  </tbody>\n",
       "</table>\n",
       "</div>"
      ],
      "text/plain": [
       "               balance\n",
       "education             \n",
       "primary    1411.544248\n",
       "secondary  1196.814397\n",
       "tertiary   1775.423704\n",
       "unknown    1701.245989"
      ]
     },
     "execution_count": 16,
     "metadata": {},
     "output_type": "execute_result"
    }
   ],
   "source": [
    "plt.pie(labels=value_count.index ,\n",
    "         x=  value_count.values,autopct='%.4f')\n",
    "plt.show()\n",
    "\n",
    "pd.DataFrame(bank_data.groupby(by='education')['balance'].mean())"
   ]
  },
  {
   "cell_type": "markdown",
   "id": "c3839644-387f-4d5f-8816-1de644035e6e",
   "metadata": {},
   "source": [
    "5. Create a function that should be able to create a new feature(Variable) called season using the month column"
   ]
  },
  {
   "cell_type": "code",
   "execution_count": 17,
   "id": "7e4406f0-ea06-4945-8711-57b8b244068a",
   "metadata": {
    "execution": {
     "iopub.execute_input": "2024-06-15T12:54:02.893459Z",
     "iopub.status.busy": "2024-06-15T12:54:02.893459Z",
     "iopub.status.idle": "2024-06-15T12:54:02.925588Z",
     "shell.execute_reply": "2024-06-15T12:54:02.924589Z",
     "shell.execute_reply.started": "2024-06-15T12:54:02.893459Z"
    }
   },
   "outputs": [
    {
     "data": {
      "text/html": [
       "<div>\n",
       "<style scoped>\n",
       "    .dataframe tbody tr th:only-of-type {\n",
       "        vertical-align: middle;\n",
       "    }\n",
       "\n",
       "    .dataframe tbody tr th {\n",
       "        vertical-align: top;\n",
       "    }\n",
       "\n",
       "    .dataframe thead th {\n",
       "        text-align: right;\n",
       "    }\n",
       "</style>\n",
       "<table border=\"1\" class=\"dataframe\">\n",
       "  <thead>\n",
       "    <tr style=\"text-align: right;\">\n",
       "      <th></th>\n",
       "      <th>age</th>\n",
       "      <th>job</th>\n",
       "      <th>marital</th>\n",
       "      <th>education</th>\n",
       "      <th>default</th>\n",
       "      <th>balance</th>\n",
       "      <th>housing</th>\n",
       "      <th>loan</th>\n",
       "      <th>contact</th>\n",
       "      <th>day</th>\n",
       "      <th>month</th>\n",
       "      <th>duration</th>\n",
       "      <th>campaign</th>\n",
       "      <th>pdays</th>\n",
       "      <th>previous</th>\n",
       "      <th>poutcome</th>\n",
       "      <th>y</th>\n",
       "      <th>season</th>\n",
       "    </tr>\n",
       "  </thead>\n",
       "  <tbody>\n",
       "    <tr>\n",
       "      <th>0</th>\n",
       "      <td>30</td>\n",
       "      <td>unemployed</td>\n",
       "      <td>married</td>\n",
       "      <td>primary</td>\n",
       "      <td>no</td>\n",
       "      <td>1787.0</td>\n",
       "      <td>no</td>\n",
       "      <td>no</td>\n",
       "      <td>cellular</td>\n",
       "      <td>19</td>\n",
       "      <td>oct</td>\n",
       "      <td>79</td>\n",
       "      <td>1</td>\n",
       "      <td>-1</td>\n",
       "      <td>0</td>\n",
       "      <td>unknown</td>\n",
       "      <td>no</td>\n",
       "      <td>autumn</td>\n",
       "    </tr>\n",
       "    <tr>\n",
       "      <th>1</th>\n",
       "      <td>33</td>\n",
       "      <td>services</td>\n",
       "      <td>married</td>\n",
       "      <td>secondary</td>\n",
       "      <td>no</td>\n",
       "      <td>4789.0</td>\n",
       "      <td>yes</td>\n",
       "      <td>yes</td>\n",
       "      <td>cellular</td>\n",
       "      <td>11</td>\n",
       "      <td>may</td>\n",
       "      <td>220</td>\n",
       "      <td>1</td>\n",
       "      <td>339</td>\n",
       "      <td>4</td>\n",
       "      <td>failure</td>\n",
       "      <td>no</td>\n",
       "      <td>summer</td>\n",
       "    </tr>\n",
       "    <tr>\n",
       "      <th>2</th>\n",
       "      <td>35</td>\n",
       "      <td>management</td>\n",
       "      <td>single</td>\n",
       "      <td>tertiary</td>\n",
       "      <td>no</td>\n",
       "      <td>1350.0</td>\n",
       "      <td>yes</td>\n",
       "      <td>no</td>\n",
       "      <td>cellular</td>\n",
       "      <td>16</td>\n",
       "      <td>apr</td>\n",
       "      <td>185</td>\n",
       "      <td>1</td>\n",
       "      <td>330</td>\n",
       "      <td>1</td>\n",
       "      <td>failure</td>\n",
       "      <td>no</td>\n",
       "      <td>spring</td>\n",
       "    </tr>\n",
       "    <tr>\n",
       "      <th>3</th>\n",
       "      <td>30</td>\n",
       "      <td>management</td>\n",
       "      <td>married</td>\n",
       "      <td>tertiary</td>\n",
       "      <td>no</td>\n",
       "      <td>1476.0</td>\n",
       "      <td>yes</td>\n",
       "      <td>yes</td>\n",
       "      <td>unknown</td>\n",
       "      <td>3</td>\n",
       "      <td>jun</td>\n",
       "      <td>199</td>\n",
       "      <td>4</td>\n",
       "      <td>-1</td>\n",
       "      <td>0</td>\n",
       "      <td>unknown</td>\n",
       "      <td>no</td>\n",
       "      <td>summer</td>\n",
       "    </tr>\n",
       "    <tr>\n",
       "      <th>4</th>\n",
       "      <td>59</td>\n",
       "      <td>blue-collar</td>\n",
       "      <td>married</td>\n",
       "      <td>secondary</td>\n",
       "      <td>no</td>\n",
       "      <td>0.0</td>\n",
       "      <td>yes</td>\n",
       "      <td>no</td>\n",
       "      <td>unknown</td>\n",
       "      <td>5</td>\n",
       "      <td>may</td>\n",
       "      <td>226</td>\n",
       "      <td>1</td>\n",
       "      <td>-1</td>\n",
       "      <td>0</td>\n",
       "      <td>unknown</td>\n",
       "      <td>no</td>\n",
       "      <td>summer</td>\n",
       "    </tr>\n",
       "  </tbody>\n",
       "</table>\n",
       "</div>"
      ],
      "text/plain": [
       "   age          job  marital  education default  balance housing loan  \\\n",
       "0   30   unemployed  married    primary      no   1787.0      no   no   \n",
       "1   33     services  married  secondary      no   4789.0     yes  yes   \n",
       "2   35   management   single   tertiary      no   1350.0     yes   no   \n",
       "3   30   management  married   tertiary      no   1476.0     yes  yes   \n",
       "4   59  blue-collar  married  secondary      no      0.0     yes   no   \n",
       "\n",
       "    contact  day month  duration  campaign  pdays  previous poutcome   y  \\\n",
       "0  cellular   19   oct        79         1     -1         0  unknown  no   \n",
       "1  cellular   11   may       220         1    339         4  failure  no   \n",
       "2  cellular   16   apr       185         1    330         1  failure  no   \n",
       "3   unknown    3   jun       199         4     -1         0  unknown  no   \n",
       "4   unknown    5   may       226         1     -1         0  unknown  no   \n",
       "\n",
       "   season  \n",
       "0  autumn  \n",
       "1  summer  \n",
       "2  spring  \n",
       "3  summer  \n",
       "4  summer  "
      ]
     },
     "execution_count": 17,
     "metadata": {},
     "output_type": "execute_result"
    }
   ],
   "source": [
    "def add_seasons(df, mon_col):\n",
    "    season_dic = {'jan':'winter', 'feb':'winter', 'mar':'spring', 'apr':'spring', 'may':'summer', 'jun':'summer',\n",
    "                  'jul':'summer', 'aug':'spring', 'sep':'autumn', 'oct':'autumn', 'nov':'autumn', 'dec':'winter'}\n",
    "    df['season'] = df[mon_col].map(season_dic)\n",
    "\n",
    "add_seasons(bank_data,'month')\n",
    "bank_data.head()"
   ]
  },
  {
   "cell_type": "markdown",
   "id": "73dc3994-3b61-4c13-947a-e53bcc75e5ac",
   "metadata": {},
   "source": [
    "6. Use the count plot with a variable that you created in the above question and also the Y variable to find the class distribution"
   ]
  },
  {
   "cell_type": "code",
   "execution_count": 18,
   "id": "9b4c99ad-f5f8-4348-a60d-b8250d7bac88",
   "metadata": {
    "execution": {
     "iopub.execute_input": "2024-06-15T12:54:02.927589Z",
     "iopub.status.busy": "2024-06-15T12:54:02.927589Z",
     "iopub.status.idle": "2024-06-15T12:54:03.122319Z",
     "shell.execute_reply": "2024-06-15T12:54:03.121318Z",
     "shell.execute_reply.started": "2024-06-15T12:54:02.927589Z"
    }
   },
   "outputs": [
    {
     "data": {
      "image/png": "[encoded data removed]",
      "text/plain": [
       "<Figure size 640x480 with 1 Axes>"
      ]
     },
     "metadata": {},
     "output_type": "display_data"
    },
    {
     "data": {
      "text/html": [
       "<div>\n",
       "<style scoped>\n",
       "    .dataframe tbody tr th:only-of-type {\n",
       "        vertical-align: middle;\n",
       "    }\n",
       "\n",
       "    .dataframe tbody tr th {\n",
       "        vertical-align: top;\n",
       "    }\n",
       "\n",
       "    .dataframe thead th {\n",
       "        text-align: right;\n",
       "    }\n",
       "</style>\n",
       "<table border=\"1\" class=\"dataframe\">\n",
       "  <thead>\n",
       "    <tr style=\"text-align: right;\">\n",
       "      <th></th>\n",
       "      <th>balance</th>\n",
       "    </tr>\n",
       "    <tr>\n",
       "      <th>season</th>\n",
       "      <th></th>\n",
       "    </tr>\n",
       "  </thead>\n",
       "  <tbody>\n",
       "    <tr>\n",
       "      <th>autumn</th>\n",
       "      <td>2522.773512</td>\n",
       "    </tr>\n",
       "    <tr>\n",
       "      <th>spring</th>\n",
       "      <td>1545.615385</td>\n",
       "    </tr>\n",
       "    <tr>\n",
       "      <th>summer</th>\n",
       "      <td>1177.162808</td>\n",
       "    </tr>\n",
       "    <tr>\n",
       "      <th>winter</th>\n",
       "      <td>1304.287179</td>\n",
       "    </tr>\n",
       "  </tbody>\n",
       "</table>\n",
       "</div>"
      ],
      "text/plain": [
       "            balance\n",
       "season             \n",
       "autumn  2522.773512\n",
       "spring  1545.615385\n",
       "summer  1177.162808\n",
       "winter  1304.287179"
      ]
     },
     "execution_count": 18,
     "metadata": {},
     "output_type": "execute_result"
    }
   ],
   "source": [
    "sns.countplot(bank_data,x='season',hue=bank_data.y)\n",
    "plt.show()\n",
    "\n",
    "pd.DataFrame(bank_data.groupby(by='season')['balance'].mean())"
   ]
  },
  {
   "cell_type": "markdown",
   "id": "9b9c34bc-1c20-479b-8b42-b3d379a13f8b",
   "metadata": {},
   "source": [
    "7. Use the Pdays feature and find does it cause any effect on the subscription of the term using the bar plot."
   ]
  },
  {
   "cell_type": "code",
   "execution_count": 19,
   "id": "69631d5a-7166-46f1-a391-c1a24a1abf96",
   "metadata": {
    "execution": {
     "iopub.execute_input": "2024-06-15T12:54:03.124320Z",
     "iopub.status.busy": "2024-06-15T12:54:03.124320Z",
     "iopub.status.idle": "2024-06-15T12:54:03.388901Z",
     "shell.execute_reply": "2024-06-15T12:54:03.387889Z",
     "shell.execute_reply.started": "2024-06-15T12:54:03.124320Z"
    }
   },
   "outputs": [
    {
     "data": {
      "image/png": "[encoded data removed]",
      "text/plain": [
       "<Figure size 640x480 with 1 Axes>"
      ]
     },
     "metadata": {},
     "output_type": "display_data"
    }
   ],
   "source": [
    "sns.barplot(data=bank_data,x='y',y='pdays')\n",
    "plt.show()"
   ]
  },
  {
   "cell_type": "markdown",
   "id": "ff1c2423-c3e3-4161-8181-f8ebcd92f69f",
   "metadata": {},
   "source": [
    "8. Replace the -1 as nan values for the P-days store."
   ]
  },
  {
   "cell_type": "code",
   "execution_count": 20,
   "id": "b712db10-9ef6-4e0e-ad09-c38276a0e213",
   "metadata": {
    "execution": {
     "iopub.execute_input": "2024-06-15T12:54:03.391844Z",
     "iopub.status.busy": "2024-06-15T12:54:03.390844Z",
     "iopub.status.idle": "2024-06-15T12:54:03.423468Z",
     "shell.execute_reply": "2024-06-15T12:54:03.422465Z",
     "shell.execute_reply.started": "2024-06-15T12:54:03.391844Z"
    }
   },
   "outputs": [
    {
     "data": {
      "text/html": [
       "<div>\n",
       "<style scoped>\n",
       "    .dataframe tbody tr th:only-of-type {\n",
       "        vertical-align: middle;\n",
       "    }\n",
       "\n",
       "    .dataframe tbody tr th {\n",
       "        vertical-align: top;\n",
       "    }\n",
       "\n",
       "    .dataframe thead th {\n",
       "        text-align: right;\n",
       "    }\n",
       "</style>\n",
       "<table border=\"1\" class=\"dataframe\">\n",
       "  <thead>\n",
       "    <tr style=\"text-align: right;\">\n",
       "      <th></th>\n",
       "      <th>age</th>\n",
       "      <th>job</th>\n",
       "      <th>marital</th>\n",
       "      <th>education</th>\n",
       "      <th>default</th>\n",
       "      <th>balance</th>\n",
       "      <th>housing</th>\n",
       "      <th>loan</th>\n",
       "      <th>contact</th>\n",
       "      <th>day</th>\n",
       "      <th>month</th>\n",
       "      <th>duration</th>\n",
       "      <th>campaign</th>\n",
       "      <th>pdays</th>\n",
       "      <th>previous</th>\n",
       "      <th>poutcome</th>\n",
       "      <th>y</th>\n",
       "      <th>season</th>\n",
       "    </tr>\n",
       "  </thead>\n",
       "  <tbody>\n",
       "    <tr>\n",
       "      <th>0</th>\n",
       "      <td>30</td>\n",
       "      <td>unemployed</td>\n",
       "      <td>married</td>\n",
       "      <td>primary</td>\n",
       "      <td>no</td>\n",
       "      <td>1787.0</td>\n",
       "      <td>no</td>\n",
       "      <td>no</td>\n",
       "      <td>cellular</td>\n",
       "      <td>19</td>\n",
       "      <td>oct</td>\n",
       "      <td>79</td>\n",
       "      <td>1</td>\n",
       "      <td>NaN</td>\n",
       "      <td>0</td>\n",
       "      <td>unknown</td>\n",
       "      <td>no</td>\n",
       "      <td>autumn</td>\n",
       "    </tr>\n",
       "    <tr>\n",
       "      <th>1</th>\n",
       "      <td>33</td>\n",
       "      <td>services</td>\n",
       "      <td>married</td>\n",
       "      <td>secondary</td>\n",
       "      <td>no</td>\n",
       "      <td>4789.0</td>\n",
       "      <td>yes</td>\n",
       "      <td>yes</td>\n",
       "      <td>cellular</td>\n",
       "      <td>11</td>\n",
       "      <td>may</td>\n",
       "      <td>220</td>\n",
       "      <td>1</td>\n",
       "      <td>339.0</td>\n",
       "      <td>4</td>\n",
       "      <td>failure</td>\n",
       "      <td>no</td>\n",
       "      <td>summer</td>\n",
       "    </tr>\n",
       "    <tr>\n",
       "      <th>2</th>\n",
       "      <td>35</td>\n",
       "      <td>management</td>\n",
       "      <td>single</td>\n",
       "      <td>tertiary</td>\n",
       "      <td>no</td>\n",
       "      <td>1350.0</td>\n",
       "      <td>yes</td>\n",
       "      <td>no</td>\n",
       "      <td>cellular</td>\n",
       "      <td>16</td>\n",
       "      <td>apr</td>\n",
       "      <td>185</td>\n",
       "      <td>1</td>\n",
       "      <td>330.0</td>\n",
       "      <td>1</td>\n",
       "      <td>failure</td>\n",
       "      <td>no</td>\n",
       "      <td>spring</td>\n",
       "    </tr>\n",
       "    <tr>\n",
       "      <th>3</th>\n",
       "      <td>30</td>\n",
       "      <td>management</td>\n",
       "      <td>married</td>\n",
       "      <td>tertiary</td>\n",
       "      <td>no</td>\n",
       "      <td>1476.0</td>\n",
       "      <td>yes</td>\n",
       "      <td>yes</td>\n",
       "      <td>unknown</td>\n",
       "      <td>3</td>\n",
       "      <td>jun</td>\n",
       "      <td>199</td>\n",
       "      <td>4</td>\n",
       "      <td>NaN</td>\n",
       "      <td>0</td>\n",
       "      <td>unknown</td>\n",
       "      <td>no</td>\n",
       "      <td>summer</td>\n",
       "    </tr>\n",
       "    <tr>\n",
       "      <th>4</th>\n",
       "      <td>59</td>\n",
       "      <td>blue-collar</td>\n",
       "      <td>married</td>\n",
       "      <td>secondary</td>\n",
       "      <td>no</td>\n",
       "      <td>0.0</td>\n",
       "      <td>yes</td>\n",
       "      <td>no</td>\n",
       "      <td>unknown</td>\n",
       "      <td>5</td>\n",
       "      <td>may</td>\n",
       "      <td>226</td>\n",
       "      <td>1</td>\n",
       "      <td>NaN</td>\n",
       "      <td>0</td>\n",
       "      <td>unknown</td>\n",
       "      <td>no</td>\n",
       "      <td>summer</td>\n",
       "    </tr>\n",
       "  </tbody>\n",
       "</table>\n",
       "</div>"
      ],
      "text/plain": [
       "   age          job  marital  education default  balance housing loan  \\\n",
       "0   30   unemployed  married    primary      no   1787.0      no   no   \n",
       "1   33     services  married  secondary      no   4789.0     yes  yes   \n",
       "2   35   management   single   tertiary      no   1350.0     yes   no   \n",
       "3   30   management  married   tertiary      no   1476.0     yes  yes   \n",
       "4   59  blue-collar  married  secondary      no      0.0     yes   no   \n",
       "\n",
       "    contact  day month  duration  campaign  pdays  previous poutcome   y  \\\n",
       "0  cellular   19   oct        79         1    NaN         0  unknown  no   \n",
       "1  cellular   11   may       220         1  339.0         4  failure  no   \n",
       "2  cellular   16   apr       185         1  330.0         1  failure  no   \n",
       "3   unknown    3   jun       199         4    NaN         0  unknown  no   \n",
       "4   unknown    5   may       226         1    NaN         0  unknown  no   \n",
       "\n",
       "   season  \n",
       "0  autumn  \n",
       "1  summer  \n",
       "2  spring  \n",
       "3  summer  \n",
       "4  summer  "
      ]
     },
     "execution_count": 20,
     "metadata": {},
     "output_type": "execute_result"
    }
   ],
   "source": [
    "bank_data.pdays.replace(-1,np.nan,inplace=True)\n",
    "bank_data.head()"
   ]
  },
  {
   "cell_type": "markdown",
   "id": "eab3ebad-3d48-462d-b596-2b8c2d1d4f10",
   "metadata": {},
   "source": [
    "9. Once you are done with question number 8, do the same analysis as question number 7. And observe the difference between question number 7 and question number 9."
   ]
  },
  {
   "cell_type": "code",
   "execution_count": 21,
   "id": "24fbe192-95a9-46c1-9887-95a874ae7f92",
   "metadata": {
    "execution": {
     "iopub.execute_input": "2024-06-15T12:54:03.425469Z",
     "iopub.status.busy": "2024-06-15T12:54:03.424465Z",
     "iopub.status.idle": "2024-06-15T12:54:03.750505Z",
     "shell.execute_reply": "2024-06-15T12:54:03.750505Z",
     "shell.execute_reply.started": "2024-06-15T12:54:03.425469Z"
    }
   },
   "outputs": [
    {
     "data": {
      "image/png": "[encoded data removed]",
      "text/plain": [
       "<Figure size 640x480 with 1 Axes>"
      ]
     },
     "metadata": {},
     "output_type": "display_data"
    }
   ],
   "source": [
    "sns.barplot(data=bank_data,x='y',y='pdays')\n",
    "plt.show()"
   ]
  },
  {
   "cell_type": "markdown",
   "id": "40be654d-a1cf-456b-9981-2106f49c1edb",
   "metadata": {},
   "source": [
    "10. Does the customer take the term subscription who has less than 0 balance?\r\n",
    "\r\n",
    "Hint: Use any kind of plot which would you the related information to this question."
   ]
  },
  {
   "cell_type": "code",
   "execution_count": 22,
   "id": "22969601-8879-43c4-86ed-f66576bc45bb",
   "metadata": {
    "execution": {
     "iopub.execute_input": "2024-06-15T12:54:03.754372Z",
     "iopub.status.busy": "2024-06-15T12:54:03.753365Z",
     "iopub.status.idle": "2024-06-15T12:54:03.849309Z",
     "shell.execute_reply": "2024-06-15T12:54:03.849309Z",
     "shell.execute_reply.started": "2024-06-15T12:54:03.754372Z"
    }
   },
   "outputs": [
    {
     "data": {
      "image/png": "[encoded data removed]",
      "text/plain": [
       "<Figure size 640x480 with 1 Axes>"
      ]
     },
     "metadata": {},
     "output_type": "display_data"
    }
   ],
   "source": [
    "less_than_zero = bank_data[bank_data.balance<0].y\n",
    "plt.pie(labels=less_than_zero.value_counts().index ,\n",
    "         x=  less_than_zero.value_counts(),autopct='%.4f')\n",
    "plt.show()\n"
   ]
  },
  {
   "cell_type": "markdown",
   "id": "d322aabf-91d9-4123-8a27-121d81ebe270",
   "metadata": {},
   "source": [
    "11. Use Pivot table to find the maximum balance for each type of job"
   ]
  },
  {
   "cell_type": "code",
   "execution_count": 23,
   "id": "430cad1a-4a34-44cf-beb5-048099da6387",
   "metadata": {
    "execution": {
     "iopub.execute_input": "2024-06-15T12:54:03.853522Z",
     "iopub.status.busy": "2024-06-15T12:54:03.853466Z",
     "iopub.status.idle": "2024-06-15T12:54:03.876386Z",
     "shell.execute_reply": "2024-06-15T12:54:03.876386Z",
     "shell.execute_reply.started": "2024-06-15T12:54:03.853522Z"
    }
   },
   "outputs": [
    {
     "data": {
      "text/html": [
       "<div>\n",
       "<style scoped>\n",
       "    .dataframe tbody tr th:only-of-type {\n",
       "        vertical-align: middle;\n",
       "    }\n",
       "\n",
       "    .dataframe tbody tr th {\n",
       "        vertical-align: top;\n",
       "    }\n",
       "\n",
       "    .dataframe thead th {\n",
       "        text-align: right;\n",
       "    }\n",
       "</style>\n",
       "<table border=\"1\" class=\"dataframe\">\n",
       "  <thead>\n",
       "    <tr style=\"text-align: right;\">\n",
       "      <th></th>\n",
       "      <th>balance</th>\n",
       "    </tr>\n",
       "    <tr>\n",
       "      <th>job</th>\n",
       "      <th></th>\n",
       "    </tr>\n",
       "  </thead>\n",
       "  <tbody>\n",
       "    <tr>\n",
       "      <th>admin.</th>\n",
       "      <td>22171.0</td>\n",
       "    </tr>\n",
       "    <tr>\n",
       "      <th>blue-collar</th>\n",
       "      <td>16353.0</td>\n",
       "    </tr>\n",
       "    <tr>\n",
       "      <th>entrepreneur</th>\n",
       "      <td>42045.0</td>\n",
       "    </tr>\n",
       "    <tr>\n",
       "      <th>housemaid</th>\n",
       "      <td>26965.0</td>\n",
       "    </tr>\n",
       "    <tr>\n",
       "      <th>management</th>\n",
       "      <td>27359.0</td>\n",
       "    </tr>\n",
       "    <tr>\n",
       "      <th>retired</th>\n",
       "      <td>71188.0</td>\n",
       "    </tr>\n",
       "    <tr>\n",
       "      <th>self-employed</th>\n",
       "      <td>16430.0</td>\n",
       "    </tr>\n",
       "    <tr>\n",
       "      <th>services</th>\n",
       "      <td>26394.0</td>\n",
       "    </tr>\n",
       "    <tr>\n",
       "      <th>student</th>\n",
       "      <td>11555.0</td>\n",
       "    </tr>\n",
       "    <tr>\n",
       "      <th>technician</th>\n",
       "      <td>27733.0</td>\n",
       "    </tr>\n",
       "    <tr>\n",
       "      <th>unemployed</th>\n",
       "      <td>9019.0</td>\n",
       "    </tr>\n",
       "    <tr>\n",
       "      <th>unknown</th>\n",
       "      <td>7337.0</td>\n",
       "    </tr>\n",
       "  </tbody>\n",
       "</table>\n",
       "</div>"
      ],
      "text/plain": [
       "               balance\n",
       "job                   \n",
       "admin.         22171.0\n",
       "blue-collar    16353.0\n",
       "entrepreneur   42045.0\n",
       "housemaid      26965.0\n",
       "management     27359.0\n",
       "retired        71188.0\n",
       "self-employed  16430.0\n",
       "services       26394.0\n",
       "student        11555.0\n",
       "technician     27733.0\n",
       "unemployed      9019.0\n",
       "unknown         7337.0"
      ]
     },
     "execution_count": 23,
     "metadata": {},
     "output_type": "execute_result"
    }
   ],
   "source": [
    "max_balance = pd.pivot_table(bank_data, index='job',values='balance', aggfunc='max')\n",
    "max_balance"
   ]
  },
  {
   "cell_type": "markdown",
   "id": "7c00e438-4947-4c90-9042-ed846f73781e",
   "metadata": {},
   "source": [
    "12. Use the Age, balance, and Y column to plot the scatter plot and find what kind of relationship Age and balance had, and See the points which belong 0 and 1 class and how they are distributed."
   ]
  },
  {
   "cell_type": "code",
   "execution_count": 24,
   "id": "32e8be95-fb1e-432b-8b61-4c6a132e5264",
   "metadata": {
    "execution": {
     "iopub.execute_input": "2024-06-15T12:54:03.876386Z",
     "iopub.status.busy": "2024-06-15T12:54:03.876386Z",
     "iopub.status.idle": "2024-06-15T12:54:04.202657Z",
     "shell.execute_reply": "2024-06-15T12:54:04.201139Z",
     "shell.execute_reply.started": "2024-06-15T12:54:03.876386Z"
    }
   },
   "outputs": [
    {
     "data": {
      "image/png": "[encoded data removed]",
      "text/plain": [
       "<Figure size 640x480 with 1 Axes>"
      ]
     },
     "metadata": {},
     "output_type": "display_data"
    }
   ],
   "source": [
    "class_yes = bank_data[bank_data.y == 'yes']\n",
    "class_no = bank_data[bank_data.y == 'no']\n",
    "\n",
    "plt.scatter(class_yes['age'],class_yes['balance'],label='YES')\n",
    "plt.scatter(class_no['age'],class_no['balance'],label='NO')\n",
    "plt.title(\"AGE VS BALANCE\")\n",
    "plt.xlabel('AGE')\n",
    "plt.ylabel('BALANCE')\n",
    "plt.legend()\n",
    "plt.show()"
   ]
  },
  {
   "cell_type": "markdown",
   "id": "9bf5da04-c001-4793-9c8a-cc20e440771c",
   "metadata": {},
   "source": [
    "13. Use the violin plot and also the box plot to find the distribution of the balance for each class of the Y column. And try to tell why we have a Violin plot and Box plot both rather than one."
   ]
  },
  {
   "cell_type": "code",
   "execution_count": 25,
   "id": "ba848955-a1be-4210-be51-06ab8812b484",
   "metadata": {
    "execution": {
     "iopub.execute_input": "2024-06-15T12:54:04.205719Z",
     "iopub.status.busy": "2024-06-15T12:54:04.202657Z",
     "iopub.status.idle": "2024-06-15T12:54:04.577724Z",
     "shell.execute_reply": "2024-06-15T12:54:04.577724Z",
     "shell.execute_reply.started": "2024-06-15T12:54:04.205719Z"
    }
   },
   "outputs": [
    {
     "data": {
      "image/png": "[encoded data removed]",
      "text/plain": [
       "<Figure size 640x480 with 1 Axes>"
      ]
     },
     "metadata": {},
     "output_type": "display_data"
    },
    {
     "data": {
      "image/png": "[encoded data removed]",
      "text/plain": [
       "<Figure size 640x480 with 1 Axes>"
      ]
     },
     "metadata": {},
     "output_type": "display_data"
    },
    {
     "name": "stdout",
     "output_type": "stream",
     "text": [
      "In violin distribution we can see the density of the Data\n",
      "While in boxplot we can see the values of the data and also the outlisers present in the data\n"
     ]
    }
   ],
   "source": [
    "\n",
    "sns.violinplot(x=bank_data.balance,y=bank_data.y)\n",
    "plt.show()\n",
    "sns.boxplot(x=bank_data.balance,y=bank_data.y)\n",
    "plt.show()\n",
    "\n",
    "print(\"In violin distribution we can see the density of the Data\")\n",
    "print(\"While in boxplot we can see the values of the data and also the outlisers present in the data\")"
   ]
  },
  {
   "cell_type": "markdown",
   "id": "ae820caa-c113-43e7-9108-7d434c7594e0",
   "metadata": {},
   "source": [
    "14. Use a pie plot to know the Proportion(distribution) of the defaulters and non-defaulters.\r\n",
    "\r\n",
    "Note: Try to explore more parameters that are there in the pie-plot method"
   ]
  },
  {
   "cell_type": "code",
   "execution_count": 26,
   "id": "4bb8d573-dfe9-4dcd-8ba0-6b96b3fe9be0",
   "metadata": {
    "execution": {
     "iopub.execute_input": "2024-06-15T12:54:04.586799Z",
     "iopub.status.busy": "2024-06-15T12:54:04.585800Z",
     "iopub.status.idle": "2024-06-15T12:54:04.692280Z",
     "shell.execute_reply": "2024-06-15T12:54:04.692280Z",
     "shell.execute_reply.started": "2024-06-15T12:54:04.586799Z"
    }
   },
   "outputs": [
    {
     "data": {
      "image/png": "[encoded data removed]",
      "text/plain": [
       "<Figure size 640x480 with 1 Axes>"
      ]
     },
     "metadata": {},
     "output_type": "display_data"
    },
    {
     "name": "stdout",
     "output_type": "stream",
     "text": [
      "In pie chart we can see the ther are 1.68% defaulters \n"
     ]
    }
   ],
   "source": [
    "plt.pie(labels=bank_data.default.value_counts().index,\n",
    "        x=bank_data.default.value_counts(),autopct=\"%.2f\")\n",
    "plt.title(\"Number of Defaulters\")\n",
    "plt.show()\n",
    "print(\"In pie chart we can see the ther are 1.68% defaulters \")"
   ]
  },
  {
   "cell_type": "markdown",
   "id": "659d68e1-abde-439f-aee1-b242eb157a0d",
   "metadata": {},
   "source": [
    "15. Use Box plot and strip plot to know the distribution of the Pdays with respect to Y classes and differentiate both plots."
   ]
  },
  {
   "cell_type": "code",
   "execution_count": 27,
   "id": "83b1b5cf-1dbf-4fef-beab-7a6161608937",
   "metadata": {
    "execution": {
     "iopub.execute_input": "2024-06-15T12:54:04.695919Z",
     "iopub.status.busy": "2024-06-15T12:54:04.692280Z",
     "iopub.status.idle": "2024-06-15T12:54:04.979685Z",
     "shell.execute_reply": "2024-06-15T12:54:04.979685Z",
     "shell.execute_reply.started": "2024-06-15T12:54:04.695919Z"
    }
   },
   "outputs": [
    {
     "data": {
      "image/png": "[encoded data removed]",
      "text/plain": [
       "<Figure size 640x480 with 1 Axes>"
      ]
     },
     "metadata": {},
     "output_type": "display_data"
    },
    {
     "data": {
      "image/png": "[encoded data removed]",
      "text/plain": [
       "<Figure size 640x480 with 1 Axes>"
      ]
     },
     "metadata": {},
     "output_type": "display_data"
    },
    {
     "name": "stdout",
     "output_type": "stream",
     "text": [
      "While in boxplot we can see the distribution of the data of Subscribers and non-subscribers and also the outlisers are present in the data\n",
      "in the strip plot we can see the Subscribers are less while non-subscribers data are more close to 100\n"
     ]
    }
   ],
   "source": [
    "sns.boxplot(x=bank_data.pdays,y=bank_data.y)\n",
    "plt.show()\n",
    "sns.stripplot(x=bank_data.pdays, y=bank_data.y)\n",
    "plt.show()\n",
    "\n",
    "print(\"While in boxplot we can see the distribution of the data of Subscribers and non-subscribers and also the outlisers are present in the data\")\n",
    "print(\"in the strip plot we can see the Subscribers are less while non-subscribers data are more close to 100\")"
   ]
  },
  {
   "cell_type": "code",
   "execution_count": null,
   "id": "eda0b53f-0d79-4a29-8356-b6bfa14e2d39",
   "metadata": {},
   "outputs": [],
   "source": []
  }
 ],
 "metadata": {
  "kernelspec": {
   "display_name": "Python 3 (ipykernel)",
   "language": "python",
   "name": "python3"
  },
  "language_info": {
   "codemirror_mode": {
    "name": "ipython",
    "version": 3
   },
   "file_extension": ".py",
   "mimetype": "text/x-python",
   "name": "python",
   "nbconvert_exporter": "python",
   "pygments_lexer": "ipython3",
   "version": "3.11.7"
  }
 },
 "nbformat": 4,
 "nbformat_minor": 5
}
