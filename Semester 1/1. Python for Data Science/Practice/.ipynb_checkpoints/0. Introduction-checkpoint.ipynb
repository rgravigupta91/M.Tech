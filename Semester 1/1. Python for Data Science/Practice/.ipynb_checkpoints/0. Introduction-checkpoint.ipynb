{
 "cells": [
  {
   "cell_type": "code",
   "execution_count": 1,
   "id": "21499c4d-f82d-448f-9fd9-4ca95fdebb12",
   "metadata": {},
   "outputs": [],
   "source": [
    "name = 'Ravi'\n",
    "age = 35\n",
    "height = 5.7\n",
    "a = True\n",
    "b = complex(2,3)"
   ]
  },
  {
   "cell_type": "code",
   "execution_count": 3,
   "id": "e5a43bf1-425e-4309-9a7a-9eb05fc16f1a",
   "metadata": {},
   "outputs": [
    {
     "name": "stdout",
     "output_type": "stream",
     "text": [
      "<class 'str'>\n",
      "<class 'int'>\n",
      "<class 'float'>\n",
      "<class 'bool'>\n",
      "<class 'complex'>\n"
     ]
    }
   ],
   "source": [
    "print(type(name))\n",
    "print(type(age))\n",
    "print(type(height))\n",
    "print(type(a))\n",
    "print(type(b))"
   ]
  },
  {
   "cell_type": "code",
   "execution_count": 5,
   "id": "f03ca86b-161e-4a4d-a87e-c806fef8e2fd",
   "metadata": {},
   "outputs": [
    {
     "name": "stdout",
     "output_type": "stream",
     "text": [
      "2.0\n",
      "3.0\n"
     ]
    }
   ],
   "source": [
    "print(b.real)\n",
    "print(b.imag)"
   ]
  },
  {
   "cell_type": "markdown",
   "id": "5caf33fa-7fc1-4475-a969-74482abd5b8e",
   "metadata": {},
   "source": [
    "# Data Types"
   ]
  },
  {
   "cell_type": "markdown",
   "id": "9b3ec4cf-61e7-4f6c-b7e4-55e135a1d50c",
   "metadata": {},
   "source": [
    "1. Numeric : Int, Float, Complex\n",
    "2. String\n",
    "3. Boolean\n",
    "4. None\n",
    "5. Collection : List, Tuple, Dictionary, Set"
   ]
  },
  {
   "cell_type": "markdown",
   "id": "85b64c10-4e50-4660-935e-265f2ac64fec",
   "metadata": {},
   "source": [
    "# Operators"
   ]
  },
  {
   "cell_type": "markdown",
   "id": "1d2b66e6-4f2d-42fd-b6d6-e50b0d93d568",
   "metadata": {},
   "source": [
    "1. Arithmetic Operator  : +, -, *, /, %, **\n",
    "2. Relational operators : <, <=, >, >=, ==, !=\n",
    "3. Bitwise Operators    : &, |\n",
    "4. Assignment Operators : =\n",
    "5. Logical Operators    : AND, OR, NOT\n",
    "6. Special Operators    :\n",
    "7. Membership Operator  : in, not in"
   ]
  },
  {
   "cell_type": "code",
   "execution_count": 6,
   "id": "666934f0-3d2a-4321-953f-d4f88b629969",
   "metadata": {},
   "outputs": [],
   "source": [
    "# Assignment Operators\n",
    "a = 12\n",
    "b = 2"
   ]
  },
  {
   "cell_type": "code",
   "execution_count": 8,
   "id": "0bb975fe-095c-4c6b-b767-54d171cd977a",
   "metadata": {},
   "outputs": [
    {
     "name": "stdout",
     "output_type": "stream",
     "text": [
      "14\n",
      "10\n",
      "24\n",
      "6.0\n",
      "0\n",
      "144\n"
     ]
    }
   ],
   "source": [
    "# Arithmetic Operators\n",
    "print(a+b)\n",
    "print(a-b)\n",
    "print(a*b)\n",
    "print(a/b)\n",
    "print(a%b)\n",
    "print(a**b)"
   ]
  },
  {
   "cell_type": "code",
   "execution_count": 9,
   "id": "94957186-e86a-4155-bf35-e4405159f2d5",
   "metadata": {},
   "outputs": [
    {
     "name": "stdout",
     "output_type": "stream",
     "text": [
      "IndiaIndiaIndia\n"
     ]
    }
   ],
   "source": [
    "value = 'India'\n",
    "print(value*3)"
   ]
  },
  {
   "cell_type": "code",
   "execution_count": 11,
   "id": "6bb63a51-cdc6-4648-8079-69333423b062",
   "metadata": {},
   "outputs": [
    {
     "data": {
      "text/plain": [
       "2"
      ]
     },
     "execution_count": 11,
     "metadata": {},
     "output_type": "execute_result"
    }
   ],
   "source": [
    "# Only quotient part\n",
    "a = 5 // 2\n",
    "a"
   ]
  },
  {
   "cell_type": "code",
   "execution_count": 13,
   "id": "e62afef5-18ad-471c-8e64-c3a30e583b1a",
   "metadata": {},
   "outputs": [
    {
     "name": "stdin",
     "output_type": "stream",
     "text": [
      "Enter your name :  Ravi\n"
     ]
    },
    {
     "name": "stdout",
     "output_type": "stream",
     "text": [
      "Welcome,  Ravi\n"
     ]
    }
   ],
   "source": [
    "# Input will always return string value. Need to type casted explicitly if required\n",
    "yourname = input(\"Enter your name : \")\n",
    "print(\"Welcome, \",yourname)"
   ]
  },
  {
   "cell_type": "code",
   "execution_count": 15,
   "id": "e697ba1a-a240-41aa-8f62-f95a282d6c36",
   "metadata": {},
   "outputs": [
    {
     "name": "stdout",
     "output_type": "stream",
     "text": [
      "True\n",
      "False\n"
     ]
    }
   ],
   "source": [
    "# Membership Operator\n",
    "a = [1,2,3,4,5,6,7,8,9]\n",
    "\n",
    "print( 4 in a )\n",
    "print( 4 not in a )"
   ]
  },
  {
   "cell_type": "markdown",
   "id": "e329658c-55f4-4c5e-8f72-ba5eea4de0e6",
   "metadata": {},
   "source": [
    "# Data Slicing"
   ]
  },
  {
   "cell_type": "code",
   "execution_count": 16,
   "id": "23b65736-ac53-4264-a55a-c19c00fac7b5",
   "metadata": {},
   "outputs": [],
   "source": [
    "a = 'This is a string'"
   ]
  },
  {
   "cell_type": "code",
   "execution_count": 17,
   "id": "15a0f216-882f-47c6-b601-1effd3c19167",
   "metadata": {},
   "outputs": [
    {
     "data": {
      "text/plain": [
       "'T'"
      ]
     },
     "execution_count": 17,
     "metadata": {},
     "output_type": "execute_result"
    }
   ],
   "source": [
    "a[0]"
   ]
  },
  {
   "cell_type": "code",
   "execution_count": 18,
   "id": "2e1a0e5d-7036-46de-b352-8df5ed3f0d5d",
   "metadata": {},
   "outputs": [
    {
     "data": {
      "text/plain": [
       "'This is a string'"
      ]
     },
     "execution_count": 18,
     "metadata": {},
     "output_type": "execute_result"
    }
   ],
   "source": [
    "a[:]"
   ]
  },
  {
   "cell_type": "code",
   "execution_count": 19,
   "id": "c2c69c20-0a7e-4062-b826-7ddf23dac4fb",
   "metadata": {},
   "outputs": [
    {
     "data": {
      "text/plain": [
       "'This is a string'"
      ]
     },
     "execution_count": 19,
     "metadata": {},
     "output_type": "execute_result"
    }
   ],
   "source": [
    "a[:len(a)]"
   ]
  },
  {
   "cell_type": "code",
   "execution_count": 20,
   "id": "ef159496-4443-4efb-b578-7640e85b65ab",
   "metadata": {},
   "outputs": [
    {
     "data": {
      "text/plain": [
       "'is '"
      ]
     },
     "execution_count": 20,
     "metadata": {},
     "output_type": "execute_result"
    }
   ],
   "source": [
    "a[2:5]"
   ]
  },
  {
   "cell_type": "code",
   "execution_count": 21,
   "id": "6157ff6e-6250-4a26-97b1-ba9aba11b5fc",
   "metadata": {},
   "outputs": [
    {
     "data": {
      "text/plain": [
       "'This is a strin'"
      ]
     },
     "execution_count": 21,
     "metadata": {},
     "output_type": "execute_result"
    }
   ],
   "source": [
    "a[:-1]"
   ]
  },
  {
   "cell_type": "code",
   "execution_count": 22,
   "id": "cf606d75-d89b-4aa8-92c8-9e4e1359c680",
   "metadata": {},
   "outputs": [
    {
     "data": {
      "text/plain": [
       "'g'"
      ]
     },
     "execution_count": 22,
     "metadata": {},
     "output_type": "execute_result"
    }
   ],
   "source": [
    "a[-1]"
   ]
  },
  {
   "cell_type": "code",
   "execution_count": 23,
   "id": "73fedbca-aec6-437f-a983-0e7210ff20be",
   "metadata": {},
   "outputs": [
    {
     "data": {
      "text/plain": [
       "'gnirts a si sihT'"
      ]
     },
     "execution_count": 23,
     "metadata": {},
     "output_type": "execute_result"
    }
   ],
   "source": [
    "a[::-1]"
   ]
  },
  {
   "cell_type": "code",
   "execution_count": 24,
   "id": "61e7f665-afc1-4c30-ab84-bf7b8cc10144",
   "metadata": {},
   "outputs": [
    {
     "data": {
      "text/plain": [
       "'i'"
      ]
     },
     "execution_count": 24,
     "metadata": {},
     "output_type": "execute_result"
    }
   ],
   "source": [
    "a[::-1][2]"
   ]
  },
  {
   "cell_type": "markdown",
   "id": "befccd9f-2fb3-4991-a1d2-9004e34724bb",
   "metadata": {},
   "source": [
    "#  String Handling"
   ]
  },
  {
   "cell_type": "code",
   "execution_count": 25,
   "id": "d0a3d5fb-c5aa-47fc-9359-9985c3c40050",
   "metadata": {},
   "outputs": [
    {
     "data": {
      "text/plain": [
       "'Thiy iy a ytring'"
      ]
     },
     "execution_count": 25,
     "metadata": {},
     "output_type": "execute_result"
    }
   ],
   "source": [
    "a.replace('s','y')"
   ]
  },
  {
   "cell_type": "code",
   "execution_count": 26,
   "id": "5f782ba0-aa42-4e25-9edc-29e86d0806ec",
   "metadata": {},
   "outputs": [
    {
     "data": {
      "text/plain": [
       "'THIS IS A STRING'"
      ]
     },
     "execution_count": 26,
     "metadata": {},
     "output_type": "execute_result"
    }
   ],
   "source": [
    "a.upper()"
   ]
  },
  {
   "cell_type": "code",
   "execution_count": 27,
   "id": "0a33e97e-dfd8-4fd1-ab6d-2fa74ab81fcb",
   "metadata": {},
   "outputs": [
    {
     "data": {
      "text/plain": [
       "'this is a string'"
      ]
     },
     "execution_count": 27,
     "metadata": {},
     "output_type": "execute_result"
    }
   ],
   "source": [
    "a.lower()"
   ]
  },
  {
   "cell_type": "code",
   "execution_count": 28,
   "id": "1085bff8-5e08-4f26-bda0-b66c9e6d7a9a",
   "metadata": {},
   "outputs": [
    {
     "data": {
      "text/plain": [
       "'This Is A String'"
      ]
     },
     "execution_count": 28,
     "metadata": {},
     "output_type": "execute_result"
    }
   ],
   "source": [
    "a.title()"
   ]
  },
  {
   "cell_type": "code",
   "execution_count": 29,
   "id": "15d831fa-0202-4b5c-8187-ad2e8bce9ef5",
   "metadata": {},
   "outputs": [
    {
     "data": {
      "text/plain": [
       "'This is a string'"
      ]
     },
     "execution_count": 29,
     "metadata": {},
     "output_type": "execute_result"
    }
   ],
   "source": [
    "a"
   ]
  },
  {
   "cell_type": "code",
   "execution_count": 30,
   "id": "6748484e-dbf4-4ebc-a9b8-8719ca0050b8",
   "metadata": {},
   "outputs": [],
   "source": [
    "s1 = '08', '03', '2000'"
   ]
  },
  {
   "cell_type": "code",
   "execution_count": 31,
   "id": "17efd008-acf2-4db4-afba-5c5131bd292d",
   "metadata": {},
   "outputs": [
    {
     "data": {
      "text/plain": [
       "('08', '03', '2000')"
      ]
     },
     "execution_count": 31,
     "metadata": {},
     "output_type": "execute_result"
    }
   ],
   "source": [
    "s1"
   ]
  },
  {
   "cell_type": "code",
   "execution_count": 33,
   "id": "f7e3d7df-3210-4918-8c90-85d9716c994c",
   "metadata": {},
   "outputs": [
    {
     "data": {
      "text/plain": [
       "'08-03-2000'"
      ]
     },
     "execution_count": 33,
     "metadata": {},
     "output_type": "execute_result"
    }
   ],
   "source": [
    "sep = '-'\n",
    "date = sep.join(s1)\n",
    "date"
   ]
  },
  {
   "cell_type": "code",
   "execution_count": 36,
   "id": "f64d36b9-a449-48df-8982-3e6d0d1206d4",
   "metadata": {},
   "outputs": [
    {
     "data": {
      "text/plain": [
       "['08', '03', '2000']"
      ]
     },
     "execution_count": 36,
     "metadata": {},
     "output_type": "execute_result"
    }
   ],
   "source": [
    "list1 = date.split('-')\n",
    "list1"
   ]
  },
  {
   "cell_type": "code",
   "execution_count": 37,
   "id": "f2d7ee69-fdd4-4474-ae14-af269c1abdcc",
   "metadata": {},
   "outputs": [
    {
     "data": {
      "text/plain": [
       "'08-03-2000'"
      ]
     },
     "execution_count": 37,
     "metadata": {},
     "output_type": "execute_result"
    }
   ],
   "source": [
    "sep.join(list1)"
   ]
  },
  {
   "cell_type": "code",
   "execution_count": 38,
   "id": "4c2e69ff-22a9-4382-b7db-5066e30c5682",
   "metadata": {},
   "outputs": [
    {
     "data": {
      "text/plain": [
       "'This is a string'"
      ]
     },
     "execution_count": 38,
     "metadata": {},
     "output_type": "execute_result"
    }
   ],
   "source": [
    "a = \"**This is a string**\"\n",
    "a.strip('*')"
   ]
  },
  {
   "cell_type": "markdown",
   "id": "5ddd93f6-c82e-4695-a826-55e1ec019135",
   "metadata": {},
   "source": [
    "# Lists"
   ]
  },
  {
   "cell_type": "code",
   "execution_count": 46,
   "id": "cf7ca215-5c7e-4fbf-b2e1-81cf1aa1bf7f",
   "metadata": {},
   "outputs": [
    {
     "data": {
      "text/plain": [
       "[0, 1, 2, 3, 4, 5, 6, 7, 8, 9, 10, 11, 12, 13, 14, 15, 16, 17, 18, 19]"
      ]
     },
     "execution_count": 46,
     "metadata": {},
     "output_type": "execute_result"
    }
   ],
   "source": [
    "a = list(range(20))\n",
    "b = ['Python','Scala','Spark']\n",
    "a"
   ]
  },
  {
   "cell_type": "code",
   "execution_count": 49,
   "id": "6e30bb0e-4596-4093-a0c2-27daf810c009",
   "metadata": {},
   "outputs": [
    {
     "data": {
      "text/plain": [
       "[0,\n",
       " 1,\n",
       " 2,\n",
       " 3,\n",
       " 4,\n",
       " 5,\n",
       " 6,\n",
       " 7,\n",
       " 8,\n",
       " 9,\n",
       " 10,\n",
       " 11,\n",
       " 12,\n",
       " 13,\n",
       " 14,\n",
       " 15,\n",
       " 16,\n",
       " 17,\n",
       " 18,\n",
       " 19,\n",
       " 'Python',\n",
       " 'Scala',\n",
       " 'Spark']"
      ]
     },
     "execution_count": 49,
     "metadata": {},
     "output_type": "execute_result"
    }
   ],
   "source": [
    "a+b"
   ]
  },
  {
   "cell_type": "code",
   "execution_count": 51,
   "id": "e8a7f5f3-75f3-4256-bd7e-5461da79a0a4",
   "metadata": {},
   "outputs": [
    {
     "data": {
      "text/plain": [
       "[0, 1, 2, 3, 4, 5, 6, 7, 8, 9, 10, 11, 12, 13, 14, 15, 16, 17, 18, 19]"
      ]
     },
     "execution_count": 51,
     "metadata": {},
     "output_type": "execute_result"
    }
   ],
   "source": [
    "a.sort()   # This will mak changes to actual list\n",
    "a"
   ]
  },
  {
   "cell_type": "code",
   "execution_count": 53,
   "id": "8d601223-8aa6-482d-872f-b44306405210",
   "metadata": {},
   "outputs": [
    {
     "data": {
      "text/plain": [
       "[19, 18, 17, 16, 15, 14, 13, 12, 11, 10, 9, 8, 7, 6, 5, 4, 3, 2, 1, 0]"
      ]
     },
     "execution_count": 53,
     "metadata": {},
     "output_type": "execute_result"
    }
   ],
   "source": [
    "a.sort(reverse=True)\n",
    "a"
   ]
  },
  {
   "cell_type": "code",
   "execution_count": 58,
   "id": "8dc0b8ce-4394-4319-9a87-7affcb4e5801",
   "metadata": {},
   "outputs": [
    {
     "data": {
      "text/plain": [
       "[0, 1, 2, 3, 4, 5, 6, 7, 8, 9, 10, 11, 12, 13, 14, 15, 16, 17, 18, 19]"
      ]
     },
     "execution_count": 58,
     "metadata": {},
     "output_type": "execute_result"
    }
   ],
   "source": [
    "sorted(a)               # This will return a new list keeping original list as same"
   ]
  },
  {
   "cell_type": "code",
   "execution_count": 59,
   "id": "72fe9cea-a7e1-4ef9-8589-22d72ff824d4",
   "metadata": {},
   "outputs": [
    {
     "data": {
      "text/plain": [
       "[19, 18, 17, 16, 15, 14, 13, 12, 11, 10, 9, 8, 7, 6, 5, 4, 3, 2, 1, 0]"
      ]
     },
     "execution_count": 59,
     "metadata": {},
     "output_type": "execute_result"
    }
   ],
   "source": [
    "sorted(a, reverse=True)"
   ]
  },
  {
   "cell_type": "code",
   "execution_count": 60,
   "id": "16f4fcfd-8a4b-453a-9de5-a640730689f0",
   "metadata": {},
   "outputs": [
    {
     "data": {
      "text/plain": [
       "[19, 18, 17, 16, 15, 14, 13, 12, 11, 10, 9, 8, 7, 6, 5, 4, 3, 2, 1, 0, 20]"
      ]
     },
     "execution_count": 60,
     "metadata": {},
     "output_type": "execute_result"
    }
   ],
   "source": [
    "a.append(20)\n",
    "a"
   ]
  },
  {
   "cell_type": "code",
   "execution_count": 61,
   "id": "38d5f8f5-f730-41ae-b277-1fce9814c29a",
   "metadata": {},
   "outputs": [],
   "source": [
    "a.sort()"
   ]
  },
  {
   "cell_type": "code",
   "execution_count": 62,
   "id": "e38a5867-2fba-4037-9af4-aaf76e726ecd",
   "metadata": {},
   "outputs": [
    {
     "data": {
      "text/plain": [
       "[0, 1, 2, 3, 4, 5, 6, 7, 8, 9, 10, 11, 12, 13, 14, 15, 16, 17, 18, 19, 20]"
      ]
     },
     "execution_count": 62,
     "metadata": {},
     "output_type": "execute_result"
    }
   ],
   "source": [
    "a"
   ]
  },
  {
   "cell_type": "code",
   "execution_count": 63,
   "id": "6dc21502-3e16-437c-b864-687fbe6fb84e",
   "metadata": {},
   "outputs": [
    {
     "data": {
      "text/plain": [
       "20"
      ]
     },
     "execution_count": 63,
     "metadata": {},
     "output_type": "execute_result"
    }
   ],
   "source": [
    "max(a)"
   ]
  },
  {
   "cell_type": "code",
   "execution_count": 64,
   "id": "1dabc30f-f191-40ad-822c-8aed9b20b770",
   "metadata": {},
   "outputs": [
    {
     "data": {
      "text/plain": [
       "0"
      ]
     },
     "execution_count": 64,
     "metadata": {},
     "output_type": "execute_result"
    }
   ],
   "source": [
    "min(a)"
   ]
  },
  {
   "cell_type": "code",
   "execution_count": 65,
   "id": "6b3d25d3-5b20-4206-9e1f-446e603c8bdf",
   "metadata": {},
   "outputs": [],
   "source": [
    "a1 = a.copy()"
   ]
  },
  {
   "cell_type": "code",
   "execution_count": 66,
   "id": "9baf85e0-8e48-4a5d-8c21-393c4fa8152b",
   "metadata": {},
   "outputs": [
    {
     "data": {
      "text/plain": [
       "[0, 1, 2, 3, 4, 5, 6, 7, 8, 9, 10, 11, 12, 13, 14, 15, 16, 17, 18, 19, 20]"
      ]
     },
     "execution_count": 66,
     "metadata": {},
     "output_type": "execute_result"
    }
   ],
   "source": [
    "a1"
   ]
  },
  {
   "cell_type": "code",
   "execution_count": 67,
   "id": "613d023e-ed0e-46a4-8ee2-2fe5223322e7",
   "metadata": {},
   "outputs": [],
   "source": [
    "a1.clear()"
   ]
  },
  {
   "cell_type": "code",
   "execution_count": 68,
   "id": "a2415a3a-ecd3-4f9a-be83-c4d795da890e",
   "metadata": {},
   "outputs": [
    {
     "data": {
      "text/plain": [
       "[]"
      ]
     },
     "execution_count": 68,
     "metadata": {},
     "output_type": "execute_result"
    }
   ],
   "source": [
    "a1"
   ]
  },
  {
   "cell_type": "code",
   "execution_count": 69,
   "id": "e349191d-c8f4-4378-b9b3-ad090f1e82fa",
   "metadata": {},
   "outputs": [],
   "source": [
    "del a1"
   ]
  },
  {
   "cell_type": "code",
   "execution_count": 70,
   "id": "563bfdf6-0de4-4eab-af5b-8f90ad2c6aea",
   "metadata": {},
   "outputs": [
    {
     "ename": "NameError",
     "evalue": "name 'a1' is not defined",
     "output_type": "error",
     "traceback": [
      "\u001b[1;31m---------------------------------------------------------------------------\u001b[0m",
      "\u001b[1;31mNameError\u001b[0m                                 Traceback (most recent call last)",
      "Cell \u001b[1;32mIn[70], line 1\u001b[0m\n\u001b[1;32m----> 1\u001b[0m a1\n",
      "\u001b[1;31mNameError\u001b[0m: name 'a1' is not defined"
     ]
    }
   ],
   "source": [
    "a1"
   ]
  },
  {
   "cell_type": "code",
   "execution_count": 72,
   "id": "ac301325-ce5b-4602-932d-53d830736229",
   "metadata": {},
   "outputs": [
    {
     "data": {
      "text/plain": [
       "1"
      ]
     },
     "execution_count": 72,
     "metadata": {},
     "output_type": "execute_result"
    }
   ],
   "source": [
    "a.count(1)"
   ]
  },
  {
   "cell_type": "code",
   "execution_count": 73,
   "id": "ceedd151-e928-4f82-8511-7c9ad7d6c33b",
   "metadata": {},
   "outputs": [],
   "source": [
    "a1 = [21,22,23,24,25]"
   ]
  },
  {
   "cell_type": "code",
   "execution_count": 74,
   "id": "120648eb-0ac9-4148-a4a0-bee285d9e2a5",
   "metadata": {},
   "outputs": [],
   "source": [
    "a.extend(a1)"
   ]
  },
  {
   "cell_type": "code",
   "execution_count": 75,
   "id": "45993eda-a5b7-47a3-b906-aec922f574e4",
   "metadata": {},
   "outputs": [
    {
     "data": {
      "text/plain": [
       "[0,\n",
       " 1,\n",
       " 2,\n",
       " 3,\n",
       " 4,\n",
       " 5,\n",
       " 6,\n",
       " 7,\n",
       " 8,\n",
       " 9,\n",
       " 10,\n",
       " 11,\n",
       " 12,\n",
       " 13,\n",
       " 14,\n",
       " 15,\n",
       " 16,\n",
       " 17,\n",
       " 18,\n",
       " 19,\n",
       " 20,\n",
       " 21,\n",
       " 22,\n",
       " 23,\n",
       " 24,\n",
       " 25]"
      ]
     },
     "execution_count": 75,
     "metadata": {},
     "output_type": "execute_result"
    }
   ],
   "source": [
    "a"
   ]
  },
  {
   "cell_type": "code",
   "execution_count": 76,
   "id": "20ad1514-b96d-4487-a911-11bb05606b6a",
   "metadata": {},
   "outputs": [
    {
     "data": {
      "text/plain": [
       "22"
      ]
     },
     "execution_count": 76,
     "metadata": {},
     "output_type": "execute_result"
    }
   ],
   "source": [
    "a.index(22)"
   ]
  },
  {
   "cell_type": "code",
   "execution_count": 77,
   "id": "9eb92535-3dc7-41f2-a42f-c4163ae8005c",
   "metadata": {},
   "outputs": [],
   "source": [
    "a.insert(26,26)"
   ]
  },
  {
   "cell_type": "code",
   "execution_count": 78,
   "id": "55d704e9-12a6-42e0-a563-440244790737",
   "metadata": {},
   "outputs": [
    {
     "data": {
      "text/plain": [
       "[0,\n",
       " 1,\n",
       " 2,\n",
       " 3,\n",
       " 4,\n",
       " 5,\n",
       " 6,\n",
       " 7,\n",
       " 8,\n",
       " 9,\n",
       " 10,\n",
       " 11,\n",
       " 12,\n",
       " 13,\n",
       " 14,\n",
       " 15,\n",
       " 16,\n",
       " 17,\n",
       " 18,\n",
       " 19,\n",
       " 20,\n",
       " 21,\n",
       " 22,\n",
       " 23,\n",
       " 24,\n",
       " 25,\n",
       " 26]"
      ]
     },
     "execution_count": 78,
     "metadata": {},
     "output_type": "execute_result"
    }
   ],
   "source": [
    "a"
   ]
  },
  {
   "cell_type": "code",
   "execution_count": 79,
   "id": "54205530-eb61-40e4-81bd-6d127dc11955",
   "metadata": {},
   "outputs": [
    {
     "name": "stdout",
     "output_type": "stream",
     "text": [
      "26\n",
      "[0, 1, 2, 3, 4, 5, 6, 7, 8, 9, 10, 11, 12, 13, 14, 15, 16, 17, 18, 19, 20, 21, 22, 23, 24, 25]\n"
     ]
    }
   ],
   "source": [
    "return_value = a.pop()\n",
    "print(return_value)\n",
    "print(a)"
   ]
  },
  {
   "cell_type": "code",
   "execution_count": 81,
   "id": "01846aa4-23ab-48e8-90bb-13df1e1d2bf9",
   "metadata": {},
   "outputs": [
    {
     "name": "stdout",
     "output_type": "stream",
     "text": [
      "25\n",
      "[0, 1, 2, 3, 4, 5, 6, 7, 8, 9, 10, 11, 12, 13, 14, 15, 16, 17, 18, 19, 20, 21, 22, 23, 24]\n"
     ]
    }
   ],
   "source": [
    "return_value = a.pop()\n",
    "print(return_value)\n",
    "print(a)"
   ]
  },
  {
   "cell_type": "code",
   "execution_count": 83,
   "id": "86136415-ccc5-4873-9027-34f0f7a1bbc8",
   "metadata": {},
   "outputs": [
    {
     "name": "stdout",
     "output_type": "stream",
     "text": [
      "24\n",
      "[0, 1, 2, 3, 4, 5, 6, 7, 8, 9, 10, 11, 12, 13, 14, 15, 16, 17, 18, 19, 20, 21, 22, 23]\n"
     ]
    }
   ],
   "source": [
    "return_value = a.pop()\n",
    "print(return_value)\n",
    "print(a)"
   ]
  },
  {
   "cell_type": "code",
   "execution_count": 85,
   "id": "db8bf8ee-86da-4fa9-87af-e3e51f3ea8d4",
   "metadata": {},
   "outputs": [
    {
     "name": "stdout",
     "output_type": "stream",
     "text": [
      "23\n",
      "[0, 1, 2, 3, 4, 5, 6, 7, 8, 9, 10, 11, 12, 13, 14, 15, 16, 17, 18, 19, 20, 21, 22]\n"
     ]
    }
   ],
   "source": [
    "return_value = a.pop()\n",
    "print(return_value)\n",
    "print(a)"
   ]
  },
  {
   "cell_type": "code",
   "execution_count": 87,
   "id": "09175c89-6516-4a8d-a530-cf6e722c97e2",
   "metadata": {},
   "outputs": [
    {
     "name": "stdout",
     "output_type": "stream",
     "text": [
      "22\n",
      "[0, 1, 2, 3, 4, 5, 6, 7, 8, 9, 10, 11, 12, 13, 14, 15, 16, 17, 18, 19, 20, 21]\n"
     ]
    }
   ],
   "source": [
    "return_value = a.pop()\n",
    "print(return_value)\n",
    "print(a)"
   ]
  },
  {
   "cell_type": "code",
   "execution_count": 88,
   "id": "f79bd7ae-74a5-4a69-959e-d1ae040b4754",
   "metadata": {},
   "outputs": [
    {
     "data": {
      "text/plain": [
       "[0, 1, 2, 3, 4, 5, 6, 7, 8, 9, 10, 11, 12, 13, 14, 15, 16, 17, 18, 19, 20, 21]"
      ]
     },
     "execution_count": 88,
     "metadata": {},
     "output_type": "execute_result"
    }
   ],
   "source": [
    "a"
   ]
  },
  {
   "cell_type": "code",
   "execution_count": 89,
   "id": "396c1178-7d68-4f79-9d1b-5a88bee5445d",
   "metadata": {},
   "outputs": [
    {
     "name": "stdout",
     "output_type": "stream",
     "text": [
      "3\n",
      "[0, 1, 2, 4, 5, 6, 7, 8, 9, 10, 11, 12, 13, 14, 15, 16, 17, 18, 19, 20, 21]\n"
     ]
    }
   ],
   "source": [
    "return_value = a.pop(3)                         # Accepts position else pop's out the last one\n",
    "print(return_value)\n",
    "print(a)"
   ]
  },
  {
   "cell_type": "code",
   "execution_count": 90,
   "id": "0daab532-0ce0-4520-8d46-6d7e4ae991bc",
   "metadata": {},
   "outputs": [
    {
     "name": "stdout",
     "output_type": "stream",
     "text": [
      "4\n",
      "[0, 1, 2, 5, 6, 7, 8, 9, 10, 11, 12, 13, 14, 15, 16, 17, 18, 19, 20, 21]\n"
     ]
    }
   ],
   "source": [
    "return_value = a.pop(3)                      \n",
    "print(return_value)\n",
    "print(a)"
   ]
  },
  {
   "cell_type": "code",
   "execution_count": 91,
   "id": "c0c20a1b-e129-4eda-97f7-d0f19a5151e4",
   "metadata": {},
   "outputs": [],
   "source": [
    "a.remove(10)                                   # Accepts element"
   ]
  },
  {
   "cell_type": "code",
   "execution_count": 95,
   "id": "b05ace98-2f8a-40f1-855c-5e9a36bbf5b4",
   "metadata": {},
   "outputs": [
    {
     "ename": "ValueError",
     "evalue": "list.remove(x): x not in list",
     "output_type": "error",
     "traceback": [
      "\u001b[1;31m---------------------------------------------------------------------------\u001b[0m",
      "\u001b[1;31mValueError\u001b[0m                                Traceback (most recent call last)",
      "Cell \u001b[1;32mIn[95], line 1\u001b[0m\n\u001b[1;32m----> 1\u001b[0m a\u001b[38;5;241m.\u001b[39mremove(\u001b[38;5;241m50\u001b[39m)\n",
      "\u001b[1;31mValueError\u001b[0m: list.remove(x): x not in list"
     ]
    }
   ],
   "source": [
    "a.remove(50)"
   ]
  },
  {
   "cell_type": "code",
   "execution_count": 99,
   "id": "e69a8e43-cc6e-4348-b596-189655295d46",
   "metadata": {},
   "outputs": [
    {
     "data": {
      "text/plain": [
       "[21, 20, 19, 18, 17, 16, 15, 14, 13, 12, 11, 9, 8, 7, 6, 5, 2, 1, 0]"
      ]
     },
     "execution_count": 99,
     "metadata": {},
     "output_type": "execute_result"
    }
   ],
   "source": [
    "a.reverse()\n",
    "a"
   ]
  },
  {
   "cell_type": "markdown",
   "id": "b7d95ada-f324-4643-bf44-bc6716d7e94b",
   "metadata": {},
   "source": [
    "# Tuple"
   ]
  },
  {
   "cell_type": "code",
   "execution_count": 100,
   "id": "777cdff5-f1a5-4287-b209-7c370cebb2db",
   "metadata": {},
   "outputs": [],
   "source": [
    "tuple1 = tuple(range(10))"
   ]
  },
  {
   "cell_type": "code",
   "execution_count": 101,
   "id": "1b69e768-0f00-4e07-be67-6dcdecf360c0",
   "metadata": {},
   "outputs": [
    {
     "data": {
      "text/plain": [
       "(0, 1, 2, 3, 4, 5, 6, 7, 8, 9)"
      ]
     },
     "execution_count": 101,
     "metadata": {},
     "output_type": "execute_result"
    }
   ],
   "source": [
    "tuple1"
   ]
  },
  {
   "cell_type": "code",
   "execution_count": 103,
   "id": "876c9ce6-0222-463b-9523-b0e8e42a21b7",
   "metadata": {},
   "outputs": [
    {
     "data": {
      "text/plain": [
       "(10, 11, 12, 13, 14, 15, 16, 17, 18, 19, 20)"
      ]
     },
     "execution_count": 103,
     "metadata": {},
     "output_type": "execute_result"
    }
   ],
   "source": [
    "tuple2 = tuple(range(10,21))\n",
    "tuple2"
   ]
  },
  {
   "cell_type": "code",
   "execution_count": 104,
   "id": "cb4e335e-1ed1-441f-aedc-d848d8c59f02",
   "metadata": {},
   "outputs": [
    {
     "data": {
      "text/plain": [
       "(0, 1, 2, 3, 4, 5, 6, 7, 8, 9, 10, 11, 12, 13, 14, 15, 16, 17, 18, 19, 20)"
      ]
     },
     "execution_count": 104,
     "metadata": {},
     "output_type": "execute_result"
    }
   ],
   "source": [
    "tuple1+tuple2"
   ]
  },
  {
   "cell_type": "code",
   "execution_count": 112,
   "id": "aabe8fe8-cca4-4221-8782-9f82542a9b4b",
   "metadata": {},
   "outputs": [
    {
     "name": "stdout",
     "output_type": "stream",
     "text": [
      "0\n",
      "9\n",
      "(0, 1, 2)\n",
      "(9, 8, 7, 6, 5, 4, 3, 2, 1, 0)\n",
      "(0, 1, 2, 3, 4, 5, 6, 7, 8, 9, 0, 1, 2, 3, 4, 5, 6, 7, 8, 9)\n",
      "True\n",
      "10\n",
      "[9, 8, 7, 6, 5, 4, 3, 2, 1, 0]\n"
     ]
    }
   ],
   "source": [
    "print(min(tuple1))\n",
    "print(max(tuple1))\n",
    "print(tuple1[:3])\n",
    "print(tuple1[::-1])\n",
    "print(tuple1*2)\n",
    "print(2 in tuple1)\n",
    "print(len(tuple1))\n",
    "print(sorted(tuple1, reverse = True ))"
   ]
  },
  {
   "cell_type": "markdown",
   "id": "36a321a5-a532-4c00-883e-ff074aa8b3f5",
   "metadata": {},
   "source": [
    "# Dictionary"
   ]
  },
  {
   "cell_type": "code",
   "execution_count": 113,
   "id": "c5720dbe-722a-424d-8d54-11b1f7fb79d8",
   "metadata": {},
   "outputs": [],
   "source": [
    "books = {\n",
    "    \"R\" : 480,\n",
    "    \"Python\" : 300,\n",
    "    \"PySpark\" : 479,\n",
    "    \"Scala\" : 275\n",
    "}"
   ]
  },
  {
   "cell_type": "code",
   "execution_count": 114,
   "id": "0aadd7cb-3e58-4a8f-84e4-1226204c56d9",
   "metadata": {},
   "outputs": [
    {
     "name": "stdout",
     "output_type": "stream",
     "text": [
      "{'R': 480, 'Python': 300, 'PySpark': 479, 'Scala': 275}\n"
     ]
    }
   ],
   "source": [
    "print(books)"
   ]
  },
  {
   "cell_type": "code",
   "execution_count": 115,
   "id": "3d7e2d13-8d8b-4343-ad29-56a198bd92f3",
   "metadata": {},
   "outputs": [],
   "source": [
    "books[\"Hadoop\"] = 350"
   ]
  },
  {
   "cell_type": "code",
   "execution_count": 116,
   "id": "0715b049-75a1-4c70-8163-c50e456c74f5",
   "metadata": {},
   "outputs": [
    {
     "data": {
      "text/plain": [
       "{'R': 480, 'Python': 300, 'PySpark': 479, 'Scala': 275, 'Hadoop': 350}"
      ]
     },
     "execution_count": 116,
     "metadata": {},
     "output_type": "execute_result"
    }
   ],
   "source": [
    "books"
   ]
  },
  {
   "cell_type": "code",
   "execution_count": 117,
   "id": "c0b22487-8244-4611-8dca-606ddbfe8095",
   "metadata": {},
   "outputs": [],
   "source": [
    "del books['Scala']"
   ]
  },
  {
   "cell_type": "code",
   "execution_count": 118,
   "id": "10e557c0-26dd-4b1e-a7d7-e409e4dd1ba1",
   "metadata": {},
   "outputs": [
    {
     "data": {
      "text/plain": [
       "{'R': 480, 'Python': 300, 'PySpark': 479, 'Hadoop': 350}"
      ]
     },
     "execution_count": 118,
     "metadata": {},
     "output_type": "execute_result"
    }
   ],
   "source": [
    "books"
   ]
  },
  {
   "cell_type": "code",
   "execution_count": 119,
   "id": "5cc11b59-c7a5-4527-9f81-a4385a75c2c2",
   "metadata": {},
   "outputs": [
    {
     "data": {
      "text/plain": [
       "4"
      ]
     },
     "execution_count": 119,
     "metadata": {},
     "output_type": "execute_result"
    }
   ],
   "source": [
    "len(books)"
   ]
  },
  {
   "cell_type": "code",
   "execution_count": 121,
   "id": "b0a4c801-f243-413a-b29d-913bf90cceb3",
   "metadata": {},
   "outputs": [
    {
     "name": "stdin",
     "output_type": "stream",
     "text": [
      "Enter any Text This is a sample text A quick Brown Fox Jumps over the Lazy Dog\n"
     ]
    },
    {
     "data": {
      "text/plain": [
       "{'This': 1,\n",
       " 'is': 1,\n",
       " 'a': 1,\n",
       " 'sample': 1,\n",
       " 'text': 1,\n",
       " 'A': 1,\n",
       " 'quick': 1,\n",
       " 'Brown': 1,\n",
       " 'Fox': 1,\n",
       " 'Jumps': 1,\n",
       " 'over': 1,\n",
       " 'the': 1,\n",
       " 'Lazy': 1,\n",
       " 'Dog': 1}"
      ]
     },
     "execution_count": 121,
     "metadata": {},
     "output_type": "execute_result"
    }
   ],
   "source": [
    "my_text = input(\"Enter any Text\")\n",
    "my_dict = {}\n",
    "for word in my_text.split():\n",
    "    if word not in my_dict:\n",
    "        my_dict[word] = 1\n",
    "    else:\n",
    "        my_dict[word] += 1\n",
    "my_dict\n",
    "    "
   ]
  },
  {
   "cell_type": "markdown",
   "id": "99af4462-7e76-4ceb-bdc7-47606e959daa",
   "metadata": {},
   "source": [
    "## Default Dictionary"
   ]
  },
  {
   "cell_type": "code",
   "execution_count": 123,
   "id": "3df75813-9139-4e56-a66c-85ac3dddeeab",
   "metadata": {},
   "outputs": [
    {
     "name": "stdin",
     "output_type": "stream",
     "text": [
      "Enter your text :  This is a sample text a qiock brown fox jumps over the lazy dog\n"
     ]
    },
    {
     "data": {
      "text/plain": [
       "defaultdict(int,\n",
       "            {'This': 1,\n",
       "             'is': 1,\n",
       "             'a': 2,\n",
       "             'sample': 1,\n",
       "             'text': 1,\n",
       "             'qiock': 1,\n",
       "             'brown': 1,\n",
       "             'fox': 1,\n",
       "             'jumps': 1,\n",
       "             'over': 1,\n",
       "             'the': 1,\n",
       "             'lazy': 1,\n",
       "             'dog': 1})"
      ]
     },
     "execution_count": 123,
     "metadata": {},
     "output_type": "execute_result"
    }
   ],
   "source": [
    "from collections import defaultdict\n",
    "my_dictionary = defaultdict(int)\n",
    "my_text = input(\"Enter your text : \")\n",
    "\n",
    "for word in my_text.split():\n",
    "    my_dictionary[word] += 1\n",
    "\n",
    "my_dictionary"
   ]
  },
  {
   "cell_type": "code",
   "execution_count": 124,
   "id": "170e4b25-1ab9-40dd-8169-da55fec42f71",
   "metadata": {},
   "outputs": [
    {
     "name": "stdout",
     "output_type": "stream",
     "text": [
      "('This', 1)\n",
      "('is', 1)\n",
      "('a', 2)\n",
      "('sample', 1)\n",
      "('text', 1)\n",
      "('qiock', 1)\n",
      "('brown', 1)\n",
      "('fox', 1)\n",
      "('jumps', 1)\n",
      "('over', 1)\n",
      "('the', 1)\n",
      "('lazy', 1)\n",
      "('dog', 1)\n"
     ]
    }
   ],
   "source": [
    "for item in my_dictionary.items():\n",
    "    print(item)"
   ]
  },
  {
   "cell_type": "code",
   "execution_count": 126,
   "id": "10febd0e-bd57-4b8b-85e6-34126627d314",
   "metadata": {},
   "outputs": [
    {
     "name": "stdout",
     "output_type": "stream",
     "text": [
      "This\n",
      "is\n",
      "a\n",
      "sample\n",
      "text\n",
      "qiock\n",
      "brown\n",
      "fox\n",
      "jumps\n",
      "over\n",
      "the\n",
      "lazy\n",
      "dog\n"
     ]
    }
   ],
   "source": [
    "for key in my_dictionary.keys():\n",
    "    print(key)"
   ]
  },
  {
   "cell_type": "code",
   "execution_count": 127,
   "id": "2d5116b8-3a96-4654-a936-30c3ce0a0306",
   "metadata": {},
   "outputs": [
    {
     "name": "stdout",
     "output_type": "stream",
     "text": [
      "1\n",
      "1\n",
      "2\n",
      "1\n",
      "1\n",
      "1\n",
      "1\n",
      "1\n",
      "1\n",
      "1\n",
      "1\n",
      "1\n",
      "1\n"
     ]
    }
   ],
   "source": [
    "for value in my_dictionary.values():\n",
    "    print(value)"
   ]
  },
  {
   "cell_type": "code",
   "execution_count": 128,
   "id": "b34a5bf1-161f-4bcf-a916-e70c174a3583",
   "metadata": {},
   "outputs": [
    {
     "name": "stdout",
     "output_type": "stream",
     "text": [
      "This  :  1\n",
      "is  :  1\n",
      "a  :  2\n",
      "sample  :  1\n",
      "text  :  1\n",
      "qiock  :  1\n",
      "brown  :  1\n",
      "fox  :  1\n",
      "jumps  :  1\n",
      "over  :  1\n",
      "the  :  1\n",
      "lazy  :  1\n",
      "dog  :  1\n"
     ]
    }
   ],
   "source": [
    "for key, value in my_dictionary.items():\n",
    "    print(key,\" : \",value)"
   ]
  },
  {
   "cell_type": "code",
   "execution_count": 132,
   "id": "a835552e-70cc-4357-b32b-4f89b02fd975",
   "metadata": {},
   "outputs": [
    {
     "data": {
      "text/plain": [
       "{'name': None, 'age': None, 'sex': None}"
      ]
     },
     "execution_count": 132,
     "metadata": {},
     "output_type": "execute_result"
    }
   ],
   "source": [
    "seq = ('name', 'age', 'sex')\n",
    "dict1 = dict.fromkeys(seq)  # Assigns None Value\n",
    "dict1"
   ]
  },
  {
   "cell_type": "code",
   "execution_count": 133,
   "id": "bc7f2acc-51b8-4924-a599-622860db756d",
   "metadata": {},
   "outputs": [
    {
     "data": {
      "text/plain": [
       "{'name': 10, 'age': 10, 'sex': 10}"
      ]
     },
     "execution_count": 133,
     "metadata": {},
     "output_type": "execute_result"
    }
   ],
   "source": [
    "dict1 = dict.fromkeys(seq, 10)  # Assigns default value 10\n",
    "dict1"
   ]
  },
  {
   "cell_type": "code",
   "execution_count": 134,
   "id": "8cde4357-4daf-483c-a786-5929edb16e24",
   "metadata": {},
   "outputs": [
    {
     "data": {
      "text/plain": [
       "10"
      ]
     },
     "execution_count": 134,
     "metadata": {},
     "output_type": "execute_result"
    }
   ],
   "source": [
    "dict1.get('age')"
   ]
  },
  {
   "cell_type": "code",
   "execution_count": 135,
   "id": "68668e81-13d1-4992-8605-19f0a60d0634",
   "metadata": {},
   "outputs": [
    {
     "data": {
      "text/plain": [
       "'Variable not available'"
      ]
     },
     "execution_count": 135,
     "metadata": {},
     "output_type": "execute_result"
    }
   ],
   "source": [
    "dict1.get('gender', 'Variable not available')"
   ]
  },
  {
   "cell_type": "code",
   "execution_count": 136,
   "id": "97143c1c-84b6-474d-987c-71aab2868e66",
   "metadata": {},
   "outputs": [
    {
     "name": "stdout",
     "output_type": "stream",
     "text": [
      "None\n",
      "{'name': 10, 'age': 10, 'sex': 10, 'salary': None}\n"
     ]
    }
   ],
   "source": [
    "salary = dict1.setdefault('salary')\n",
    "print(salary)\n",
    "print(dict1)"
   ]
  },
  {
   "cell_type": "code",
   "execution_count": 137,
   "id": "c3ef3bd6-3a70-48aa-8a1e-27d20b545bed",
   "metadata": {},
   "outputs": [
    {
     "name": "stdout",
     "output_type": "stream",
     "text": [
      "5000\n",
      "{'name': 10, 'age': 10, 'sex': 10, 'salary': None, 'incentive': 5000}\n"
     ]
    }
   ],
   "source": [
    "incentive = dict1.setdefault('incentive',5000)\n",
    "print(incentive)\n",
    "print(dict1)"
   ]
  },
  {
   "cell_type": "code",
   "execution_count": 139,
   "id": "70b42d29-d156-4754-87cb-6fcbe5898802",
   "metadata": {},
   "outputs": [],
   "source": [
    "dict1 = {1: 'One', 2:'Three', 3:'Five'}\n",
    "\n",
    "dict2 = {2:'Two',3:'Three',4:'Four'}"
   ]
  },
  {
   "cell_type": "code",
   "execution_count": 140,
   "id": "acc1f1d2-0d43-4630-9a78-1917b280808d",
   "metadata": {},
   "outputs": [
    {
     "name": "stdout",
     "output_type": "stream",
     "text": [
      "{1: 'One', 2: 'Three', 3: 'Five'}\n",
      "{2: 'Two', 3: 'Three', 4: 'Four'}\n"
     ]
    }
   ],
   "source": [
    "print(dict1)\n",
    "print(dict2)"
   ]
  },
  {
   "cell_type": "code",
   "execution_count": 141,
   "id": "cd9acba3-3c08-48a6-9dea-ee4415167ff3",
   "metadata": {},
   "outputs": [],
   "source": [
    "dict1.update(dict2)"
   ]
  },
  {
   "cell_type": "code",
   "execution_count": 143,
   "id": "fae0ac1d-3457-4c69-9f1f-68fc81e80765",
   "metadata": {},
   "outputs": [
    {
     "data": {
      "text/plain": [
       "{1: 'One', 2: 'Two', 3: 'Three', 4: 'Four'}"
      ]
     },
     "execution_count": 143,
     "metadata": {},
     "output_type": "execute_result"
    }
   ],
   "source": [
    "dict1"
   ]
  },
  {
   "cell_type": "markdown",
   "id": "e593f0a8-217a-48a7-b39d-1e99e9651c87",
   "metadata": {},
   "source": [
    "# Set"
   ]
  },
  {
   "cell_type": "code",
   "execution_count": 144,
   "id": "7c865032-d12f-46bc-a228-57ecfcffc08c",
   "metadata": {},
   "outputs": [],
   "source": [
    "sentence1 = \"There is nothing new in the world except history you do not know\"\n",
    "sentence2 = \"with the new day comes new strength and new thoughts\"\n",
    "\n",
    "set1 = set(sentence1.split())\n",
    "set2 = set(sentence2.split())"
   ]
  },
  {
   "cell_type": "code",
   "execution_count": 146,
   "id": "8fec87d5-57fc-4d18-af13-c52109cfcc32",
   "metadata": {},
   "outputs": [
    {
     "name": "stdout",
     "output_type": "stream",
     "text": [
      "{'history', 'do', 'not', 'There', 'except', 'world', 'you', 'new', 'in', 'know', 'the', 'is', 'nothing'}\n",
      "{'strength', 'with', 'new', 'and', 'thoughts', 'the', 'day', 'comes'}\n",
      "Common Words :  {'new', 'the'}\n",
      "Number of common words :  2\n",
      "Unique words :  {'do', 'strength', 'you', 'in', 'know', 'thoughts', 'is', 'comes', 'nothing', 'history', 'not', 'with', 'There', 'except', 'world', 'new', 'and', 'the', 'day'}\n",
      "Number of unique words :  19\n"
     ]
    }
   ],
   "source": [
    "print(set1)\n",
    "print(set2)\n",
    "print('Common Words : ',set1.intersection(set2))\n",
    "print(\"Number of common words : \",len(set1.intersection(set2)))\n",
    "\n",
    "print(\"Unique words : \",set1.union(set2))\n",
    "print(\"Number of unique words : \",len(set1.union(set2)))"
   ]
  },
  {
   "cell_type": "code",
   "execution_count": 149,
   "id": "c3fc4b23-3c1a-46ae-8b51-4c04294aa624",
   "metadata": {},
   "outputs": [
    {
     "name": "stdout",
     "output_type": "stream",
     "text": [
      "{'history', 'do', 'not', 'except', 'There', 'world', 'you', 'in', 'know', 'is', 'nothing'}\n"
     ]
    }
   ],
   "source": [
    "print(set1 - set2)                    # Difference"
   ]
  },
  {
   "cell_type": "code",
   "execution_count": 150,
   "id": "5ebe3792-b298-4480-85fc-86c88a532f63",
   "metadata": {},
   "outputs": [
    {
     "name": "stdout",
     "output_type": "stream",
     "text": [
      "{'do', 'strength', 'you', 'in', 'know', 'thoughts', 'is', 'comes', 'nothing', 'history', 'not', 'with', 'There', 'except', 'world', 'and', 'day'}\n"
     ]
    }
   ],
   "source": [
    "print(set1.union(set2) - set1.intersection(set2))          # Symmetric Difference"
   ]
  },
  {
   "cell_type": "markdown",
   "id": "475bdbcc-9ef0-4e87-bdc6-c70933705b57",
   "metadata": {},
   "source": [
    "# List Comprehension"
   ]
  },
  {
   "cell_type": "code",
   "execution_count": 153,
   "id": "ea99ca33-c2d2-4421-9eb2-475422876372",
   "metadata": {},
   "outputs": [
    {
     "data": {
      "text/plain": [
       "[0, 1, 4, 9, 16, 25, 36, 49, 64, 81]"
      ]
     },
     "execution_count": 153,
     "metadata": {},
     "output_type": "execute_result"
    }
   ],
   "source": [
    "num_squares = [i*i for i in range(10)]\n",
    "num_squares"
   ]
  },
  {
   "cell_type": "code",
   "execution_count": 154,
   "id": "71efe6b9-8862-4ae0-8f97-2dc7b775d9b6",
   "metadata": {},
   "outputs": [
    {
     "data": {
      "text/plain": [
       "[0, 9, 36, 81]"
      ]
     },
     "execution_count": 154,
     "metadata": {},
     "output_type": "execute_result"
    }
   ],
   "source": [
    "num_squares = [i*i for i in range(10) if i % 3 == 0 ]\n",
    "num_squares"
   ]
  },
  {
   "cell_type": "code",
   "execution_count": 156,
   "id": "4546e22b-4a04-4596-9e66-96564b95d941",
   "metadata": {},
   "outputs": [
    {
     "name": "stdout",
     "output_type": "stream",
     "text": [
      "['1', '2', '3', '4', '5']\n"
     ]
    }
   ],
   "source": [
    "my_string = \"Hello 12345 Python\"\n",
    "num = [x for x in my_string if x.isdigit()]\n",
    "print(num)"
   ]
  },
  {
   "cell_type": "code",
   "execution_count": 161,
   "id": "63182c7a-a419-48e8-bccc-fec863afae56",
   "metadata": {},
   "outputs": [
    {
     "name": "stdout",
     "output_type": "stream",
     "text": [
      "['Orange', 'Yellow', 'Blue', 'Red', 'Green']\n",
      "[3, 3, 2, 1, 0]\n"
     ]
    }
   ],
   "source": [
    "my_color = ['Orange', 'Yellow', 'Blue', 'Red', 'Green']\n",
    "\n",
    "color_indicator = [0 if color == 'Green' else 1 if color == 'Red' else 2 if color == 'Blue' else 3 for color in my_color]\n",
    "print(my_color)\n",
    "print(color_indicator)"
   ]
  },
  {
   "cell_type": "markdown",
   "id": "7123fc6d-ca58-494e-a314-58c2dafbd441",
   "metadata": {},
   "source": [
    "# Functions"
   ]
  },
  {
   "cell_type": "code",
   "execution_count": 164,
   "id": "611ce0d0-5a59-4c64-94f8-9bd9d18d4d65",
   "metadata": {},
   "outputs": [],
   "source": [
    "def dailyTemperature(*temp):             # Variable-length arguments\n",
    "    for var in temp:\n",
    "        print(var)"
   ]
  },
  {
   "cell_type": "code",
   "execution_count": 165,
   "id": "71e3e0c2-f14f-4f6b-a49c-f556710e7bf8",
   "metadata": {},
   "outputs": [
    {
     "name": "stdout",
     "output_type": "stream",
     "text": [
      "10\n",
      "20\n",
      "30\n",
      "40\n"
     ]
    }
   ],
   "source": [
    "dailyTemperature(10,20,30,40)"
   ]
  },
  {
   "cell_type": "code",
   "execution_count": 166,
   "id": "0acccc9c-c366-4f09-a00d-3dc7f9c3ca9b",
   "metadata": {},
   "outputs": [],
   "source": [
    "def my_function(**krgs):              # Variable-length keyword arguments\n",
    "    for k, v in krgs.items():\n",
    "        print(k,' = ',v)"
   ]
  },
  {
   "cell_type": "code",
   "execution_count": 167,
   "id": "8e8e2c71-aa50-4093-a456-db08dc946cb0",
   "metadata": {},
   "outputs": [
    {
     "name": "stdout",
     "output_type": "stream",
     "text": [
      "firstname  =  Ravi\n",
      "secondname  =  Allen\n",
      "salary  =  10000\n",
      "pf  =  345\n",
      "goodperformer  =  True\n"
     ]
    }
   ],
   "source": [
    "my_function(firstname='Ravi', secondname='Allen',salary=10000, pf=345, goodperformer=True)"
   ]
  },
  {
   "cell_type": "markdown",
   "id": "22e60c37-654a-4cc7-8301-d6e8a1abc07e",
   "metadata": {},
   "source": [
    "### Lambda Function"
   ]
  },
  {
   "cell_type": "code",
   "execution_count": 168,
   "id": "d673ba5b-71cf-46e2-bc81-1f92b8f1efae",
   "metadata": {},
   "outputs": [],
   "source": [
    "fun = lambda x,y: x if x>y else y"
   ]
  },
  {
   "cell_type": "code",
   "execution_count": 169,
   "id": "3cfe64b0-8a34-4ab9-8598-11b1cbae3a83",
   "metadata": {},
   "outputs": [
    {
     "name": "stdout",
     "output_type": "stream",
     "text": [
      "4\n"
     ]
    }
   ],
   "source": [
    "print(fun(3,4))"
   ]
  },
  {
   "cell_type": "code",
   "execution_count": 170,
   "id": "8ff37f4c-1a94-4827-8bdd-b551d64fcce7",
   "metadata": {},
   "outputs": [],
   "source": [
    "sample_list = [1,2,3,4,5]"
   ]
  },
  {
   "cell_type": "code",
   "execution_count": 171,
   "id": "cda040df-e3d2-4d71-967f-92416b985502",
   "metadata": {},
   "outputs": [
    {
     "data": {
      "text/plain": [
       "[2, 4, 6, 8, 10]"
      ]
     },
     "execution_count": 171,
     "metadata": {},
     "output_type": "execute_result"
    }
   ],
   "source": [
    "seq1 = list(map(lambda x: x*2, sample_list))\n",
    "seq1"
   ]
  },
  {
   "cell_type": "code",
   "execution_count": 172,
   "id": "c1d9a263-5023-42b7-a8c8-677f785a8b6d",
   "metadata": {},
   "outputs": [
    {
     "data": {
      "text/plain": [
       "[2, 4]"
      ]
     },
     "execution_count": 172,
     "metadata": {},
     "output_type": "execute_result"
    }
   ],
   "source": [
    "seq1 = list(filter(lambda x: x%2 == 0, sample_list))\n",
    "seq1"
   ]
  },
  {
   "cell_type": "code",
   "execution_count": 175,
   "id": "78ea8272-5cf6-4b1d-a331-a4f8b7e1280a",
   "metadata": {},
   "outputs": [
    {
     "data": {
      "text/plain": [
       "15"
      ]
     },
     "execution_count": 175,
     "metadata": {},
     "output_type": "execute_result"
    }
   ],
   "source": [
    "from functools import reduce\n",
    "\n",
    "seq1 = reduce(lambda a,b: a+b, sample_list)\n",
    "seq1"
   ]
  },
  {
   "cell_type": "code",
   "execution_count": 176,
   "id": "f4a83520-d6ec-4021-a21e-67664276dcee",
   "metadata": {},
   "outputs": [
    {
     "data": {
      "text/plain": [
       "5"
      ]
     },
     "execution_count": 176,
     "metadata": {},
     "output_type": "execute_result"
    }
   ],
   "source": [
    "seq1 = reduce(lambda x,y: x if x>y else y, sample_list)\n",
    "seq1"
   ]
  },
  {
   "cell_type": "code",
   "execution_count": 177,
   "id": "361f61ff-7b39-4616-bda8-ea4b4cb90b7d",
   "metadata": {},
   "outputs": [
    {
     "data": {
      "text/plain": [
       "[1, 3, 6, 10, 15]"
      ]
     },
     "execution_count": 177,
     "metadata": {},
     "output_type": "execute_result"
    }
   ],
   "source": [
    "from itertools import accumulate\n",
    "\n",
    "seq1 = list(accumulate(sample_list, lambda x,y : x+y ))\n",
    "seq1"
   ]
  },
  {
   "cell_type": "code",
   "execution_count": null,
   "id": "4c2f3e1e-378f-42da-a1b1-c9034cdf2512",
   "metadata": {},
   "outputs": [],
   "source": []
  }
 ],
 "metadata": {
  "kernelspec": {
   "display_name": "Python 3 (ipykernel)",
   "language": "python",
   "name": "python3"
  },
  "language_info": {
   "codemirror_mode": {
    "name": "ipython",
    "version": 3
   },
   "file_extension": ".py",
   "mimetype": "text/x-python",
   "name": "python",
   "nbconvert_exporter": "python",
   "pygments_lexer": "ipython3",
   "version": "3.11.7"
  }
 },
 "nbformat": 4,
 "nbformat_minor": 5
}
