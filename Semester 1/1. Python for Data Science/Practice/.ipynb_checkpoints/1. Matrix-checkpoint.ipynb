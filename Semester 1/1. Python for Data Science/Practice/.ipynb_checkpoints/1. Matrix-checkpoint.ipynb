{
 "cells": [
  {
   "cell_type": "code",
   "execution_count": 2,
   "id": "3c8c1ca6",
   "metadata": {},
   "outputs": [],
   "source": [
    "import numpy as np"
   ]
  },
  {
   "cell_type": "code",
   "execution_count": 5,
   "id": "3af111af",
   "metadata": {},
   "outputs": [],
   "source": [
    "matrix1 = np.array([[1, 2, 3, 4], \n",
    "    [5, 6, 7, 8],\n",
    "    [9, 10, 11, 12]])\n",
    "\n",
    "matrix2 = np.array([[1, 2, 3, 4], \n",
    "    [5, 6, 7, 8],\n",
    "    [9, 10, 11, 12]])"
   ]
  },
  {
   "cell_type": "markdown",
   "id": "b8007d44",
   "metadata": {},
   "source": [
    "# Addition"
   ]
  },
  {
   "cell_type": "code",
   "execution_count": 6,
   "id": "eed943a2",
   "metadata": {},
   "outputs": [
    {
     "name": "stdout",
     "output_type": "stream",
     "text": [
      "[[ 2  4  6  8]\n",
      " [10 12 14 16]\n",
      " [18 20 22 24]]\n"
     ]
    }
   ],
   "source": [
    "print(np.add(matrix1, matrix2))"
   ]
  },
  {
   "cell_type": "markdown",
   "id": "dd802bae",
   "metadata": {},
   "source": [
    "# Subtract"
   ]
  },
  {
   "cell_type": "code",
   "execution_count": 7,
   "id": "a037a0ab",
   "metadata": {},
   "outputs": [
    {
     "name": "stdout",
     "output_type": "stream",
     "text": [
      "[[0 0 0 0]\n",
      " [0 0 0 0]\n",
      " [0 0 0 0]]\n"
     ]
    }
   ],
   "source": [
    "print( np.subtract( matrix1, matrix2) )"
   ]
  },
  {
   "cell_type": "markdown",
   "id": "e470d1e8",
   "metadata": {},
   "source": [
    "# Divide"
   ]
  },
  {
   "cell_type": "code",
   "execution_count": 8,
   "id": "0ea181e0",
   "metadata": {},
   "outputs": [
    {
     "name": "stdout",
     "output_type": "stream",
     "text": [
      "[[1. 1. 1. 1.]\n",
      " [1. 1. 1. 1.]\n",
      " [1. 1. 1. 1.]]\n"
     ]
    }
   ],
   "source": [
    "print(np.divide(matrix1, matrix2))"
   ]
  },
  {
   "cell_type": "markdown",
   "id": "c9d900b8",
   "metadata": {},
   "source": [
    "# Multiplication"
   ]
  },
  {
   "cell_type": "code",
   "execution_count": 9,
   "id": "2a203a83",
   "metadata": {},
   "outputs": [],
   "source": [
    "# multiply() :- This function is used to perform element wise matrix multiplication. \n",
    "# dot() :- This function is used to compute the matrix multiplication, rather than element wise multiplication."
   ]
  },
  {
   "cell_type": "code",
   "execution_count": 10,
   "id": "a8e89605",
   "metadata": {},
   "outputs": [
    {
     "name": "stdout",
     "output_type": "stream",
     "text": [
      "[[  1   4   9  16]\n",
      " [ 25  36  49  64]\n",
      " [ 81 100 121 144]]\n"
     ]
    }
   ],
   "source": [
    "print(np.multiply(matrix1, matrix2))"
   ]
  },
  {
   "cell_type": "code",
   "execution_count": 11,
   "id": "7484045f",
   "metadata": {},
   "outputs": [
    {
     "data": {
      "text/plain": [
       "array([[ 1,  2,  3,  4],\n",
       "       [ 5,  6,  7,  8],\n",
       "       [ 9, 10, 11, 12]])"
      ]
     },
     "execution_count": 11,
     "metadata": {},
     "output_type": "execute_result"
    }
   ],
   "source": [
    "matrix1"
   ]
  },
  {
   "cell_type": "code",
   "execution_count": 12,
   "id": "96ece031",
   "metadata": {},
   "outputs": [
    {
     "name": "stdout",
     "output_type": "stream",
     "text": [
      "[[ 1  5  9]\n",
      " [ 2  6 10]\n",
      " [ 3  7 11]\n",
      " [ 4  8 12]]\n"
     ]
    }
   ],
   "source": [
    "matrix3 = matrix2.T\n",
    "print(matrix3)"
   ]
  },
  {
   "cell_type": "code",
   "execution_count": 13,
   "id": "40bf7121",
   "metadata": {},
   "outputs": [
    {
     "name": "stdout",
     "output_type": "stream",
     "text": [
      "[[ 30  70 110]\n",
      " [ 70 174 278]\n",
      " [110 278 446]]\n"
     ]
    }
   ],
   "source": [
    "print(np.dot(matrix1, matrix3))"
   ]
  },
  {
   "cell_type": "markdown",
   "id": "3d5a398d",
   "metadata": {},
   "source": [
    "# Sqrt, Sum, T"
   ]
  },
  {
   "cell_type": "code",
   "execution_count": 14,
   "id": "0b29a1c3",
   "metadata": {},
   "outputs": [
    {
     "name": "stdout",
     "output_type": "stream",
     "text": [
      "The element wise square root is : \n",
      "[[1.         1.41421356]\n",
      " [2.         2.23606798]]\n",
      "The summation of all matrix element is : \n",
      "34\n",
      "The column wise summation of all matrix  is : \n",
      "[16 18]\n",
      "The row wise summation of all matrix  is : \n",
      "[15 19]\n",
      "The transpose of given matrix is : \n",
      "[[1 4]\n",
      " [2 5]]\n"
     ]
    }
   ],
   "source": [
    "# Python code to demonstrate matrix operations \n",
    "# sqrt(), sum() and \"T\" \n",
    "  \n",
    "# importing numpy for matrix operations \n",
    "import numpy \n",
    "  \n",
    "# initializing matrices \n",
    "x = numpy.array([[1, 2], [4, 5]]) \n",
    "y = numpy.array([[7, 8], [9, 10]]) \n",
    "  \n",
    "# using sqrt() to print the square root of matrix \n",
    "print (\"The element wise square root is : \") \n",
    "print (numpy.sqrt(x)) \n",
    "  \n",
    "# using sum() to print summation of all elements of matrix \n",
    "print (\"The summation of all matrix element is : \") \n",
    "print (numpy.sum(y)) \n",
    "  \n",
    "# using sum(axis=0) to print summation of all columns of matrix \n",
    "print (\"The column wise summation of all matrix  is : \") \n",
    "print (numpy.sum(y,axis=0)) \n",
    "  \n",
    "# using sum(axis=1) to print summation of all columns of matrix \n",
    "print (\"The row wise summation of all matrix  is : \") \n",
    "print (numpy.sum(y,axis=1)) \n",
    "  \n",
    "# using \"T\" to transpose the matrix \n",
    "print (\"The transpose of given matrix is : \") \n",
    "print (x.T) "
   ]
  },
  {
   "cell_type": "markdown",
   "id": "6725b3a3",
   "metadata": {},
   "source": [
    "# Transpose"
   ]
  },
  {
   "cell_type": "code",
   "execution_count": 15,
   "id": "73a2dc88",
   "metadata": {},
   "outputs": [
    {
     "name": "stdout",
     "output_type": "stream",
     "text": [
      "Transpose of matrix\n",
      " [[ 1  2  3  4]\n",
      " [ 5  6  7  8]\n",
      " [ 9 10 11 12]] \n",
      "is\n",
      " [[ 1  5  9]\n",
      " [ 2  6 10]\n",
      " [ 3  7 11]\n",
      " [ 4  8 12]]\n"
     ]
    }
   ],
   "source": [
    "print('Transpose of matrix\\n', matrix1, '\\nis\\n', matrix1.T)"
   ]
  },
  {
   "cell_type": "code",
   "execution_count": 16,
   "id": "b322c362",
   "metadata": {},
   "outputs": [],
   "source": [
    "def isSquarematrix(A):\n",
    "    shape = A.shape\n",
    "    if shape[0] == shape[1]:\n",
    "        return True\n",
    "    else:\n",
    "        return False"
   ]
  },
  {
   "cell_type": "code",
   "execution_count": 17,
   "id": "be74b33a",
   "metadata": {},
   "outputs": [],
   "source": [
    "def matrixTrace(A):\n",
    "    if not isSquarematrix(A):\n",
    "        raise Exception('Not a square matrix')\n",
    "    sum = 0\n",
    "    for i in range(A.shape[0]):\n",
    "        sum += A[i][i]\n",
    "    return sum"
   ]
  },
  {
   "cell_type": "code",
   "execution_count": 18,
   "id": "7ae2ba2e",
   "metadata": {},
   "outputs": [
    {
     "data": {
      "text/plain": [
       "6"
      ]
     },
     "execution_count": 18,
     "metadata": {},
     "output_type": "execute_result"
    }
   ],
   "source": [
    "matrixTrace(x)"
   ]
  },
  {
   "cell_type": "code",
   "execution_count": 19,
   "id": "3f00137b",
   "metadata": {},
   "outputs": [],
   "source": [
    "def isRowMatrix(A):\n",
    "    if A.shape[0] == 1:\n",
    "        return True\n",
    "    else:\n",
    "        return False"
   ]
  },
  {
   "cell_type": "code",
   "execution_count": 20,
   "id": "0443bd06",
   "metadata": {},
   "outputs": [
    {
     "data": {
      "text/plain": [
       "False"
      ]
     },
     "execution_count": 20,
     "metadata": {},
     "output_type": "execute_result"
    }
   ],
   "source": [
    "isRowMatrix(x)"
   ]
  },
  {
   "cell_type": "code",
   "execution_count": 21,
   "id": "155de665",
   "metadata": {},
   "outputs": [],
   "source": [
    "A = np.array([[1,2,3]])"
   ]
  },
  {
   "cell_type": "code",
   "execution_count": 22,
   "id": "9bffec87",
   "metadata": {},
   "outputs": [
    {
     "data": {
      "text/plain": [
       "True"
      ]
     },
     "execution_count": 22,
     "metadata": {},
     "output_type": "execute_result"
    }
   ],
   "source": [
    "isRowMatrix(A)"
   ]
  },
  {
   "cell_type": "code",
   "execution_count": 23,
   "id": "65394790",
   "metadata": {},
   "outputs": [],
   "source": [
    "def isColumnMatrix(A):\n",
    "    if A.shape[1] == 1:\n",
    "        return True\n",
    "    else:\n",
    "        return False"
   ]
  },
  {
   "cell_type": "code",
   "execution_count": 24,
   "id": "1b14420e",
   "metadata": {},
   "outputs": [
    {
     "data": {
      "text/plain": [
       "False"
      ]
     },
     "execution_count": 24,
     "metadata": {},
     "output_type": "execute_result"
    }
   ],
   "source": [
    "isColumnMatrix(A)"
   ]
  },
  {
   "cell_type": "code",
   "execution_count": 25,
   "id": "d4933e4c",
   "metadata": {},
   "outputs": [
    {
     "data": {
      "text/plain": [
       "True"
      ]
     },
     "execution_count": 25,
     "metadata": {},
     "output_type": "execute_result"
    }
   ],
   "source": [
    "isColumnMatrix(A.T)"
   ]
  },
  {
   "cell_type": "code",
   "execution_count": 26,
   "id": "37fbf533",
   "metadata": {},
   "outputs": [
    {
     "data": {
      "text/plain": [
       "False"
      ]
     },
     "execution_count": 26,
     "metadata": {},
     "output_type": "execute_result"
    }
   ],
   "source": [
    "isSquarematrix(A)"
   ]
  },
  {
   "cell_type": "code",
   "execution_count": 27,
   "id": "61d7fdd1",
   "metadata": {},
   "outputs": [
    {
     "data": {
      "text/plain": [
       "True"
      ]
     },
     "execution_count": 27,
     "metadata": {},
     "output_type": "execute_result"
    }
   ],
   "source": [
    "isSquarematrix(x)"
   ]
  },
  {
   "cell_type": "code",
   "execution_count": 28,
   "id": "cb620f03",
   "metadata": {},
   "outputs": [],
   "source": [
    "def isDiagonalMatrix(A):\n",
    "    if not isSquarematrix(A):\n",
    "        raise Exception('Not a Square Matrix')\n",
    "    \n",
    "    for i in range(A.shape[0]):\n",
    "        for j in range(A.shape[1]):\n",
    "            if A[i][j] !=0 and i != j:\n",
    "                return False\n",
    "    return True"
   ]
  },
  {
   "cell_type": "code",
   "execution_count": 29,
   "id": "1e75ad76",
   "metadata": {},
   "outputs": [],
   "source": [
    "diag = np.array([[1,0,0],[0,3,0],[0,0,5]])"
   ]
  },
  {
   "cell_type": "code",
   "execution_count": 30,
   "id": "7203e3de",
   "metadata": {},
   "outputs": [
    {
     "data": {
      "text/plain": [
       "True"
      ]
     },
     "execution_count": 30,
     "metadata": {},
     "output_type": "execute_result"
    }
   ],
   "source": [
    "isDiagonalMatrix(diag)"
   ]
  },
  {
   "cell_type": "code",
   "execution_count": 31,
   "id": "1a4c9365",
   "metadata": {},
   "outputs": [],
   "source": [
    "def isIdentityMatrix(A):\n",
    "    if isDiagonalMatrix(A):\n",
    "        for i in range(A.shape[0]):\n",
    "            if A[i][i] != 1:\n",
    "                return False    \n",
    "        return True\n",
    "    else:\n",
    "        raise Exception('Not a Diagonal Matrix')"
   ]
  },
  {
   "cell_type": "code",
   "execution_count": 32,
   "id": "565d4dd2",
   "metadata": {},
   "outputs": [
    {
     "ename": "Exception",
     "evalue": "Not a Square Matrix",
     "output_type": "error",
     "traceback": [
      "\u001b[1;31m---------------------------------------------------------------------------\u001b[0m",
      "\u001b[1;31mException\u001b[0m                                 Traceback (most recent call last)",
      "Cell \u001b[1;32mIn[32], line 1\u001b[0m\n\u001b[1;32m----> 1\u001b[0m isIdentityMatrix(matrix1)\n",
      "Cell \u001b[1;32mIn[31], line 2\u001b[0m, in \u001b[0;36misIdentityMatrix\u001b[1;34m(A)\u001b[0m\n\u001b[0;32m      1\u001b[0m \u001b[38;5;28;01mdef\u001b[39;00m \u001b[38;5;21misIdentityMatrix\u001b[39m(A):\n\u001b[1;32m----> 2\u001b[0m     \u001b[38;5;28;01mif\u001b[39;00m isDiagonalMatrix(A):\n\u001b[0;32m      3\u001b[0m         \u001b[38;5;28;01mfor\u001b[39;00m i \u001b[38;5;129;01min\u001b[39;00m \u001b[38;5;28mrange\u001b[39m(A\u001b[38;5;241m.\u001b[39mshape[\u001b[38;5;241m0\u001b[39m]):\n\u001b[0;32m      4\u001b[0m             \u001b[38;5;28;01mif\u001b[39;00m A[i][i] \u001b[38;5;241m!=\u001b[39m \u001b[38;5;241m1\u001b[39m:\n",
      "Cell \u001b[1;32mIn[28], line 3\u001b[0m, in \u001b[0;36misDiagonalMatrix\u001b[1;34m(A)\u001b[0m\n\u001b[0;32m      1\u001b[0m \u001b[38;5;28;01mdef\u001b[39;00m \u001b[38;5;21misDiagonalMatrix\u001b[39m(A):\n\u001b[0;32m      2\u001b[0m     \u001b[38;5;28;01mif\u001b[39;00m \u001b[38;5;129;01mnot\u001b[39;00m isSquarematrix(A):\n\u001b[1;32m----> 3\u001b[0m         \u001b[38;5;28;01mraise\u001b[39;00m \u001b[38;5;167;01mException\u001b[39;00m(\u001b[38;5;124m'\u001b[39m\u001b[38;5;124mNot a Square Matrix\u001b[39m\u001b[38;5;124m'\u001b[39m)\n\u001b[0;32m      5\u001b[0m     \u001b[38;5;28;01mfor\u001b[39;00m i \u001b[38;5;129;01min\u001b[39;00m \u001b[38;5;28mrange\u001b[39m(A\u001b[38;5;241m.\u001b[39mshape[\u001b[38;5;241m0\u001b[39m]):\n\u001b[0;32m      6\u001b[0m         \u001b[38;5;28;01mfor\u001b[39;00m j \u001b[38;5;129;01min\u001b[39;00m \u001b[38;5;28mrange\u001b[39m(A\u001b[38;5;241m.\u001b[39mshape[\u001b[38;5;241m1\u001b[39m]):\n",
      "\u001b[1;31mException\u001b[0m: Not a Square Matrix"
     ]
    }
   ],
   "source": [
    "isIdentityMatrix(matrix1)"
   ]
  },
  {
   "cell_type": "code",
   "execution_count": 33,
   "id": "e8f8e86f",
   "metadata": {},
   "outputs": [
    {
     "data": {
      "text/plain": [
       "False"
      ]
     },
     "execution_count": 33,
     "metadata": {},
     "output_type": "execute_result"
    }
   ],
   "source": [
    "isDiagonalMatrix(x)\n",
    "#isIdentityMatrix(x)"
   ]
  },
  {
   "cell_type": "code",
   "execution_count": 34,
   "id": "38d47fad",
   "metadata": {},
   "outputs": [
    {
     "data": {
      "text/plain": [
       "False"
      ]
     },
     "execution_count": 34,
     "metadata": {},
     "output_type": "execute_result"
    }
   ],
   "source": [
    "isIdentityMatrix(diag)"
   ]
  },
  {
   "cell_type": "code",
   "execution_count": null,
   "id": "a8924e26",
   "metadata": {},
   "outputs": [],
   "source": []
  },
  {
   "cell_type": "code",
   "execution_count": 35,
   "id": "1f421331",
   "metadata": {},
   "outputs": [
    {
     "ename": "Exception",
     "evalue": "Not a Diagonal Matrix",
     "output_type": "error",
     "traceback": [
      "\u001b[1;31m---------------------------------------------------------------------------\u001b[0m",
      "\u001b[1;31mException\u001b[0m                                 Traceback (most recent call last)",
      "Cell \u001b[1;32mIn[35], line 1\u001b[0m\n\u001b[1;32m----> 1\u001b[0m isIdentityMatrix(x)\n",
      "Cell \u001b[1;32mIn[31], line 8\u001b[0m, in \u001b[0;36misIdentityMatrix\u001b[1;34m(A)\u001b[0m\n\u001b[0;32m      6\u001b[0m     \u001b[38;5;28;01mreturn\u001b[39;00m \u001b[38;5;28;01mTrue\u001b[39;00m\n\u001b[0;32m      7\u001b[0m \u001b[38;5;28;01melse\u001b[39;00m:\n\u001b[1;32m----> 8\u001b[0m     \u001b[38;5;28;01mraise\u001b[39;00m \u001b[38;5;167;01mException\u001b[39;00m(\u001b[38;5;124m'\u001b[39m\u001b[38;5;124mNot a Diagonal Matrix\u001b[39m\u001b[38;5;124m'\u001b[39m)\n",
      "\u001b[1;31mException\u001b[0m: Not a Diagonal Matrix"
     ]
    }
   ],
   "source": [
    "isIdentityMatrix(x)"
   ]
  },
  {
   "cell_type": "code",
   "execution_count": 36,
   "id": "04adb299",
   "metadata": {},
   "outputs": [
    {
     "data": {
      "text/plain": [
       "array([[1, 0, 0],\n",
       "       [0, 3, 0],\n",
       "       [0, 0, 5]])"
      ]
     },
     "execution_count": 36,
     "metadata": {},
     "output_type": "execute_result"
    }
   ],
   "source": [
    "diag"
   ]
  },
  {
   "cell_type": "code",
   "execution_count": 37,
   "id": "e82cfe8f",
   "metadata": {},
   "outputs": [],
   "source": [
    "# to get an Identity Matrix of size n\n",
    "identity = np.eye(3)\n",
    "#identity = np.array([[1,0,0],[0,1,0],[0,0,1]])"
   ]
  },
  {
   "cell_type": "code",
   "execution_count": 38,
   "id": "c4807ce7",
   "metadata": {},
   "outputs": [
    {
     "data": {
      "text/plain": [
       "True"
      ]
     },
     "execution_count": 38,
     "metadata": {},
     "output_type": "execute_result"
    }
   ],
   "source": [
    "isIdentityMatrix(identity)"
   ]
  },
  {
   "cell_type": "code",
   "execution_count": 133,
   "id": "a3329e02",
   "metadata": {},
   "outputs": [],
   "source": [
    "def isSymmetricMatrix(A):\n",
    "    if isSquarematrix(A):\n",
    "        return np.alltrue(A == A.T)\n",
    "    else:\n",
    "        raise Exception('Not a Square Matrix')"
   ]
  },
  {
   "cell_type": "code",
   "execution_count": 126,
   "id": "3a55f333",
   "metadata": {},
   "outputs": [
    {
     "ename": "ValueError",
     "evalue": "The truth value of an array with more than one element is ambiguous. Use a.any() or a.all()",
     "output_type": "error",
     "traceback": [
      "\u001b[1;31m---------------------------------------------------------------------------\u001b[0m",
      "\u001b[1;31mValueError\u001b[0m                                Traceback (most recent call last)",
      "Cell \u001b[1;32mIn[126], line 1\u001b[0m\n\u001b[1;32m----> 1\u001b[0m \u001b[38;5;28;01mif\u001b[39;00m identity \u001b[38;5;241m==\u001b[39m identity:\n\u001b[0;32m      2\u001b[0m     \u001b[38;5;28mprint\u001b[39m(\u001b[38;5;124m'\u001b[39m\u001b[38;5;124mEqual\u001b[39m\u001b[38;5;124m'\u001b[39m)\n\u001b[0;32m      3\u001b[0m \u001b[38;5;28;01melse\u001b[39;00m:\n",
      "\u001b[1;31mValueError\u001b[0m: The truth value of an array with more than one element is ambiguous. Use a.any() or a.all()"
     ]
    }
   ],
   "source": [
    "if identity == identity:\n",
    "    print('Equal')\n",
    "else:\n",
    "    print('Not Equal')"
   ]
  },
  {
   "cell_type": "code",
   "execution_count": 134,
   "id": "32932de3",
   "metadata": {},
   "outputs": [
    {
     "data": {
      "text/plain": [
       "True"
      ]
     },
     "execution_count": 134,
     "metadata": {},
     "output_type": "execute_result"
    }
   ],
   "source": [
    "isSymmetricMatrix(identity)"
   ]
  },
  {
   "cell_type": "code",
   "execution_count": 135,
   "id": "29730ba9",
   "metadata": {},
   "outputs": [
    {
     "data": {
      "text/plain": [
       "False"
      ]
     },
     "execution_count": 135,
     "metadata": {},
     "output_type": "execute_result"
    }
   ],
   "source": [
    "isSymmetricMatrix(x)"
   ]
  },
  {
   "cell_type": "code",
   "execution_count": 136,
   "id": "ea99f02f",
   "metadata": {},
   "outputs": [
    {
     "data": {
      "text/plain": [
       "True"
      ]
     },
     "execution_count": 136,
     "metadata": {},
     "output_type": "execute_result"
    }
   ],
   "source": [
    "isSymmetricMatrix(diag)"
   ]
  },
  {
   "cell_type": "code",
   "execution_count": 137,
   "id": "acac05be",
   "metadata": {},
   "outputs": [],
   "source": [
    "def isSkewSymmetricMatrix(A):\n",
    "    if isSquarematrix(A):\n",
    "        return np.alltrue(A*-1 == A.T)\n",
    "    else:\n",
    "        raise Exception('Not a Square Matrix')"
   ]
  },
  {
   "cell_type": "code",
   "execution_count": 138,
   "id": "7b34b88d",
   "metadata": {},
   "outputs": [
    {
     "data": {
      "text/plain": [
       "False"
      ]
     },
     "execution_count": 138,
     "metadata": {},
     "output_type": "execute_result"
    }
   ],
   "source": [
    "isSkewSymmetricMatrix(diag)"
   ]
  },
  {
   "cell_type": "code",
   "execution_count": 139,
   "id": "87f4576f",
   "metadata": {},
   "outputs": [],
   "source": [
    "skew = np.array([[0,1,-2],[-1,0,3],[2,-3,0]])"
   ]
  },
  {
   "cell_type": "code",
   "execution_count": 140,
   "id": "a07a85a0",
   "metadata": {},
   "outputs": [
    {
     "data": {
      "text/plain": [
       "True"
      ]
     },
     "execution_count": 140,
     "metadata": {},
     "output_type": "execute_result"
    }
   ],
   "source": [
    "isSkewSymmetricMatrix(skew)"
   ]
  },
  {
   "cell_type": "code",
   "execution_count": 142,
   "id": "fbdc7f70",
   "metadata": {},
   "outputs": [
    {
     "ename": "ValueError",
     "evalue": "The truth value of an array with more than one element is ambiguous. Use a.any() or a.all()",
     "output_type": "error",
     "traceback": [
      "\u001b[1;31m---------------------------------------------------------------------------\u001b[0m",
      "\u001b[1;31mValueError\u001b[0m                                Traceback (most recent call last)",
      "Cell \u001b[1;32mIn[142], line 1\u001b[0m\n\u001b[1;32m----> 1\u001b[0m \u001b[38;5;28;01mif\u001b[39;00m identity\u001b[38;5;241m==\u001b[39midentity:\n\u001b[0;32m      2\u001b[0m     \u001b[38;5;28mprint\u001b[39m(\u001b[38;5;124m'\u001b[39m\u001b[38;5;124mMatrices are identical\u001b[39m\u001b[38;5;124m'\u001b[39m)\n",
      "\u001b[1;31mValueError\u001b[0m: The truth value of an array with more than one element is ambiguous. Use a.any() or a.all()"
     ]
    }
   ],
   "source": [
    "if identity==identity:\n",
    "    print('Matrices are identical')"
   ]
  },
  {
   "cell_type": "code",
   "execution_count": 143,
   "id": "f5d0ca71",
   "metadata": {},
   "outputs": [
    {
     "ename": "SyntaxError",
     "evalue": "incomplete input (385937429.py, line 2)",
     "output_type": "error",
     "traceback": [
      "\u001b[1;36m  Cell \u001b[1;32mIn[143], line 2\u001b[1;36m\u001b[0m\n\u001b[1;33m    \u001b[0m\n\u001b[1;37m    ^\u001b[0m\n\u001b[1;31mSyntaxError\u001b[0m\u001b[1;31m:\u001b[0m incomplete input\n"
     ]
    }
   ],
   "source": [
    "def matrixRank():\n",
    "    "
   ]
  },
  {
   "cell_type": "code",
   "execution_count": 41,
   "id": "a2f483c8",
   "metadata": {},
   "outputs": [],
   "source": [
    "def matrixDeterminant2(A):\n",
    "    return A[0][0]*A[1][1] - A[1][0]*A[0][1]"
   ]
  },
  {
   "cell_type": "code",
   "execution_count": 99,
   "id": "7809680d",
   "metadata": {},
   "outputs": [],
   "source": [
    "def matrixDeterminant(A):\n",
    "    if isSquarematrix(A):\n",
    "        shape = A.shape[0]\n",
    "        match shape:\n",
    "            case 2:\n",
    "                # code for dimension 2\n",
    "                return matrixDeterminant2(A)\n",
    "            case _:\n",
    "                sum = 0\n",
    "                for i in range(shape):\n",
    "                    sum += A[0][i]*((-1)**(2+i)) * matrixDeterminant(np.delete(np.delete(A,0,axis=0),i,axis=1))\n",
    "                return sum"
   ]
  },
  {
   "cell_type": "code",
   "execution_count": 60,
   "id": "7d193e5d",
   "metadata": {},
   "outputs": [
    {
     "data": {
      "text/plain": [
       "-3"
      ]
     },
     "execution_count": 60,
     "metadata": {},
     "output_type": "execute_result"
    }
   ],
   "source": [
    "matrixDeterminant(x)"
   ]
  },
  {
   "cell_type": "code",
   "execution_count": 61,
   "id": "3f961521",
   "metadata": {},
   "outputs": [],
   "source": [
    "matrix4 = np.array([[9,2,3],[5,-1,6],[4,0,-2]])"
   ]
  },
  {
   "cell_type": "code",
   "execution_count": 90,
   "id": "df97d4e7",
   "metadata": {},
   "outputs": [
    {
     "name": "stdout",
     "output_type": "stream",
     "text": [
      "2\n",
      "-9\n",
      "1\n",
      "2\n"
     ]
    }
   ],
   "source": [
    "i = 0\n",
    "A = matrix4\n",
    "print(matrixDeterminant2(np.delete(np.delete(A,0,axis=0),i,axis=1)))\n",
    "print(A[0][i]*(-1**(2+i)))\n",
    "print(((-1)**(2+i)))"
   ]
  },
  {
   "cell_type": "code",
   "execution_count": 100,
   "id": "f9dbcf53",
   "metadata": {},
   "outputs": [
    {
     "data": {
      "text/plain": [
       "98"
      ]
     },
     "execution_count": 100,
     "metadata": {},
     "output_type": "execute_result"
    }
   ],
   "source": [
    "matrixDeterminant(matrix4)"
   ]
  },
  {
   "cell_type": "code",
   "execution_count": 101,
   "id": "a039b345",
   "metadata": {},
   "outputs": [],
   "source": [
    "matrix5 = np.array([[4,3,2,2],[0,1,-3,3],[0,-1,3,3],[0,3,1,1]])"
   ]
  },
  {
   "cell_type": "code",
   "execution_count": 102,
   "id": "273cebd1",
   "metadata": {},
   "outputs": [
    {
     "data": {
      "text/plain": [
       "-240"
      ]
     },
     "execution_count": 102,
     "metadata": {},
     "output_type": "execute_result"
    }
   ],
   "source": [
    "matrixDeterminant(matrix5)"
   ]
  },
  {
   "cell_type": "code",
   "execution_count": 126,
   "id": "98cb0024",
   "metadata": {},
   "outputs": [
    {
     "data": {
      "text/plain": [
       "-240.0000000000002"
      ]
     },
     "execution_count": 126,
     "metadata": {},
     "output_type": "execute_result"
    }
   ],
   "source": [
    "np.linalg.det(matrix5)"
   ]
  },
  {
   "cell_type": "code",
   "execution_count": 52,
   "id": "c5ba4621",
   "metadata": {},
   "outputs": [
    {
     "data": {
      "text/plain": [
       "array([[1, 2, 3, 4],\n",
       "       [5, 6, 7, 8]])"
      ]
     },
     "execution_count": 52,
     "metadata": {},
     "output_type": "execute_result"
    }
   ],
   "source": [
    "np.delete(matrix1,2,axis=0)"
   ]
  },
  {
   "cell_type": "code",
   "execution_count": 107,
   "id": "b8cf6525",
   "metadata": {},
   "outputs": [],
   "source": [
    "def isSingularMatrix(A):\n",
    "    if matrixDeterminant(A) == 0:\n",
    "        return True\n",
    "    else:\n",
    "        return False"
   ]
  },
  {
   "cell_type": "code",
   "execution_count": null,
   "id": "11c9dbd7",
   "metadata": {},
   "outputs": [],
   "source": [
    "def minorMatrix(A):"
   ]
  },
  {
   "cell_type": "code",
   "execution_count": 108,
   "id": "fa6cc2be",
   "metadata": {},
   "outputs": [
    {
     "data": {
      "text/plain": [
       "array([[1., 0., 0.],\n",
       "       [0., 1., 0.],\n",
       "       [0., 0., 1.]])"
      ]
     },
     "execution_count": 108,
     "metadata": {},
     "output_type": "execute_result"
    }
   ],
   "source": [
    "np.identity(3)"
   ]
  },
  {
   "cell_type": "code",
   "execution_count": 109,
   "id": "3e7d34f9",
   "metadata": {},
   "outputs": [
    {
     "data": {
      "text/plain": [
       "array([[1., 0., 0.],\n",
       "       [0., 1., 0.],\n",
       "       [0., 0., 1.]])"
      ]
     },
     "execution_count": 109,
     "metadata": {},
     "output_type": "execute_result"
    }
   ],
   "source": [
    "np.eye(3)"
   ]
  },
  {
   "cell_type": "code",
   "execution_count": null,
   "id": "c2b9fd22",
   "metadata": {},
   "outputs": [],
   "source": [
    "def matrixCofactor(A):"
   ]
  },
  {
   "cell_type": "code",
   "execution_count": 110,
   "id": "07b2f8cb",
   "metadata": {},
   "outputs": [
    {
     "data": {
      "text/plain": [
       "array([[-5, -4, -3, -3],\n",
       "       [-1, -2,  2, -4],\n",
       "       [-1,  0, -4, -4],\n",
       "       [-1, -4, -2, -2]])"
      ]
     },
     "execution_count": 110,
     "metadata": {},
     "output_type": "execute_result"
    }
   ],
   "source": [
    "np.invert(matrix5)"
   ]
  },
  {
   "cell_type": "code",
   "execution_count": 114,
   "id": "0ef171a9",
   "metadata": {},
   "outputs": [
    {
     "data": {
      "text/plain": [
       "array([[ 4.,  3.,  2.,  2.],\n",
       "       [-0.,  1., -3.,  3.],\n",
       "       [ 0., -1.,  3.,  3.],\n",
       "       [ 0.,  3.,  1.,  1.]])"
      ]
     },
     "execution_count": 114,
     "metadata": {},
     "output_type": "execute_result"
    }
   ],
   "source": [
    "np.linalg.inv(np.linalg.inv(matrix5))"
   ]
  },
  {
   "cell_type": "code",
   "execution_count": 115,
   "id": "6c7500f9",
   "metadata": {},
   "outputs": [
    {
     "data": {
      "text/plain": [
       "array([[ 4,  3,  2,  2],\n",
       "       [ 0,  1, -3,  3],\n",
       "       [ 0, -1,  3,  3],\n",
       "       [ 0,  3,  1,  1]])"
      ]
     },
     "execution_count": 115,
     "metadata": {},
     "output_type": "execute_result"
    }
   ],
   "source": [
    "matrix5"
   ]
  },
  {
   "cell_type": "code",
   "execution_count": null,
   "id": "68824349",
   "metadata": {},
   "outputs": [],
   "source": [
    "def matrixAdjoint(A):"
   ]
  },
  {
   "cell_type": "code",
   "execution_count": null,
   "id": "a617368b",
   "metadata": {},
   "outputs": [],
   "source": [
    "def matrixInverse(A):"
   ]
  },
  {
   "cell_type": "code",
   "execution_count": null,
   "id": "26846f2e",
   "metadata": {},
   "outputs": [],
   "source": [
    "def eigenValues(A):"
   ]
  },
  {
   "cell_type": "code",
   "execution_count": null,
   "id": "6cc20f4f",
   "metadata": {},
   "outputs": [],
   "source": [
    "def eigenVector(A):"
   ]
  },
  {
   "cell_type": "code",
   "execution_count": 122,
   "id": "cc6ad6bc",
   "metadata": {},
   "outputs": [],
   "source": [
    "eigenvalues, eigenvectors = np.linalg.eig(matrix5)"
   ]
  },
  {
   "cell_type": "code",
   "execution_count": 123,
   "id": "eb3f155d",
   "metadata": {},
   "outputs": [
    {
     "data": {
      "text/plain": [
       "array([ 4.        +0.j        , -3.22959047+0.j        ,\n",
       "        4.11479523+1.28322528j,  4.11479523-1.28322528j])"
      ]
     },
     "execution_count": 123,
     "metadata": {},
     "output_type": "execute_result"
    }
   ],
   "source": [
    "eigenvalues"
   ]
  },
  {
   "cell_type": "code",
   "execution_count": 124,
   "id": "bde38400",
   "metadata": {},
   "outputs": [
    {
     "data": {
      "text/plain": [
       "array([[ 1.        +0.j        , -0.23098768+0.j        ,\n",
       "        -0.90099322+0.j        , -0.90099322-0.j        ],\n",
       "       [ 0.        +0.j        ,  0.68252498+0.j        ,\n",
       "         0.15943693-0.20238253j,  0.15943693+0.20238253j],\n",
       "       [ 0.        +0.j        ,  0.38672638+0.j        ,\n",
       "        -0.27148776-0.06629298j, -0.27148776+0.06629298j],\n",
       "       [ 0.        +0.j        , -0.57554066+0.j        ,\n",
       "        -0.0193825 -0.20822186j, -0.0193825 +0.20822186j]])"
      ]
     },
     "execution_count": 124,
     "metadata": {},
     "output_type": "execute_result"
    }
   ],
   "source": [
    "eigenvectors"
   ]
  },
  {
   "cell_type": "code",
   "execution_count": 125,
   "id": "e37ba225",
   "metadata": {},
   "outputs": [
    {
     "data": {
      "text/plain": [
       "array([[ 4,  3,  2,  2],\n",
       "       [ 0,  1, -3,  3],\n",
       "       [ 0, -1,  3,  3],\n",
       "       [ 0,  3,  1,  1]])"
      ]
     },
     "execution_count": 125,
     "metadata": {},
     "output_type": "execute_result"
    }
   ],
   "source": [
    "matrix5"
   ]
  },
  {
   "cell_type": "code",
   "execution_count": 163,
   "id": "b9683b5a",
   "metadata": {},
   "outputs": [],
   "source": [
    "e = np.array([[3,1],[0,2]])\n",
    "evalue, evector = np.linalg.eig(e) "
   ]
  },
  {
   "cell_type": "code",
   "execution_count": 164,
   "id": "7a724b44",
   "metadata": {},
   "outputs": [
    {
     "data": {
      "text/plain": [
       "array([3., 2.])"
      ]
     },
     "execution_count": 164,
     "metadata": {},
     "output_type": "execute_result"
    }
   ],
   "source": [
    "evalue"
   ]
  },
  {
   "cell_type": "code",
   "execution_count": 158,
   "id": "f65a482e",
   "metadata": {},
   "outputs": [
    {
     "data": {
      "text/plain": [
       "array([[ 1.        , -0.70710678],\n",
       "       [ 0.        ,  0.70710678]])"
      ]
     },
     "execution_count": 158,
     "metadata": {},
     "output_type": "execute_result"
    }
   ],
   "source": [
    "evector"
   ]
  },
  {
   "cell_type": "code",
   "execution_count": 196,
   "id": "7dbd1bba",
   "metadata": {},
   "outputs": [],
   "source": [
    "B = np.array([[1],[-1]])"
   ]
  },
  {
   "cell_type": "code",
   "execution_count": 198,
   "id": "2675d6df",
   "metadata": {},
   "outputs": [
    {
     "data": {
      "text/plain": [
       "array([[ 2],\n",
       "       [-2]])"
      ]
     },
     "execution_count": 198,
     "metadata": {},
     "output_type": "execute_result"
    }
   ],
   "source": [
    "np.dot(e,B)"
   ]
  },
  {
   "cell_type": "code",
   "execution_count": 187,
   "id": "818cf688",
   "metadata": {},
   "outputs": [
    {
     "data": {
      "text/plain": [
       "array([[1],\n",
       "       [1]])"
      ]
     },
     "execution_count": 187,
     "metadata": {},
     "output_type": "execute_result"
    }
   ],
   "source": [
    "B"
   ]
  },
  {
   "cell_type": "code",
   "execution_count": 188,
   "id": "792be2d4",
   "metadata": {},
   "outputs": [
    {
     "data": {
      "text/plain": [
       "(2, 1)"
      ]
     },
     "execution_count": 188,
     "metadata": {},
     "output_type": "execute_result"
    }
   ],
   "source": [
    "B.shape"
   ]
  },
  {
   "cell_type": "code",
   "execution_count": 176,
   "id": "c0e9a9b7",
   "metadata": {},
   "outputs": [
    {
     "data": {
      "text/plain": [
       "array([[3, 1],\n",
       "       [0, 2]])"
      ]
     },
     "execution_count": 176,
     "metadata": {},
     "output_type": "execute_result"
    }
   ],
   "source": [
    "e"
   ]
  },
  {
   "cell_type": "code",
   "execution_count": 162,
   "id": "590fc304",
   "metadata": {},
   "outputs": [
    {
     "data": {
      "text/plain": [
       "array([[3, 0],\n",
       "       [1, 2]])"
      ]
     },
     "execution_count": 162,
     "metadata": {},
     "output_type": "execute_result"
    }
   ],
   "source": [
    "e.T"
   ]
  },
  {
   "cell_type": "code",
   "execution_count": 166,
   "id": "da99930b",
   "metadata": {},
   "outputs": [
    {
     "data": {
      "text/plain": [
       "array([1.58578644, 1.41421356])"
      ]
     },
     "execution_count": 166,
     "metadata": {},
     "output_type": "execute_result"
    }
   ],
   "source": [
    "np.dot(evector,evalue)"
   ]
  },
  {
   "cell_type": "code",
   "execution_count": 167,
   "id": "8fd74064",
   "metadata": {},
   "outputs": [
    {
     "data": {
      "text/plain": [
       "array([3., 2.])"
      ]
     },
     "execution_count": 167,
     "metadata": {},
     "output_type": "execute_result"
    }
   ],
   "source": [
    "evalue"
   ]
  },
  {
   "cell_type": "code",
   "execution_count": 168,
   "id": "b8cce539",
   "metadata": {},
   "outputs": [
    {
     "data": {
      "text/plain": [
       "array([[ 1.        , -0.70710678],\n",
       "       [ 0.        ,  0.70710678]])"
      ]
     },
     "execution_count": 168,
     "metadata": {},
     "output_type": "execute_result"
    }
   ],
   "source": [
    "evector"
   ]
  },
  {
   "cell_type": "code",
   "execution_count": 169,
   "id": "3023b338",
   "metadata": {},
   "outputs": [
    {
     "data": {
      "text/plain": [
       "array([ 3.        , -0.70710678])"
      ]
     },
     "execution_count": 169,
     "metadata": {},
     "output_type": "execute_result"
    }
   ],
   "source": [
    "np.dot(evalue,evector)"
   ]
  },
  {
   "cell_type": "code",
   "execution_count": 170,
   "id": "3373280f",
   "metadata": {},
   "outputs": [
    {
     "data": {
      "text/plain": [
       "(2,)"
      ]
     },
     "execution_count": 170,
     "metadata": {},
     "output_type": "execute_result"
    }
   ],
   "source": [
    "evalue.shape"
   ]
  },
  {
   "cell_type": "code",
   "execution_count": 171,
   "id": "dd79ba95",
   "metadata": {},
   "outputs": [
    {
     "data": {
      "text/plain": [
       "(2, 2)"
      ]
     },
     "execution_count": 171,
     "metadata": {},
     "output_type": "execute_result"
    }
   ],
   "source": [
    "evector.shape"
   ]
  },
  {
   "cell_type": "code",
   "execution_count": 199,
   "id": "8f7fc9d2",
   "metadata": {},
   "outputs": [
    {
     "data": {
      "text/plain": [
       "6"
      ]
     },
     "execution_count": 199,
     "metadata": {},
     "output_type": "execute_result"
    }
   ],
   "source": [
    "matrixDeterminant(e)"
   ]
  },
  {
   "cell_type": "code",
   "execution_count": 200,
   "id": "aad8a6c1",
   "metadata": {},
   "outputs": [
    {
     "data": {
      "text/plain": [
       "array([[ 9,  2,  3],\n",
       "       [ 5, -1,  6],\n",
       "       [ 4,  0, -2]])"
      ]
     },
     "execution_count": 200,
     "metadata": {},
     "output_type": "execute_result"
    }
   ],
   "source": [
    "A"
   ]
  },
  {
   "cell_type": "code",
   "execution_count": 202,
   "id": "09f625d5",
   "metadata": {},
   "outputs": [
    {
     "data": {
      "text/plain": [
       "array([[ 9.00000000e+00,  2.00000000e+00,  3.00000000e+00],\n",
       "       [ 5.00000000e+00, -1.00000000e+00,  6.00000000e+00],\n",
       "       [ 4.00000000e+00,  5.55111512e-17, -2.00000000e+00]])"
      ]
     },
     "execution_count": 202,
     "metadata": {},
     "output_type": "execute_result"
    }
   ],
   "source": [
    "np.dot(A,np.dot(A,np.linalg.inv(A)))"
   ]
  },
  {
   "cell_type": "code",
   "execution_count": 203,
   "id": "d8ef7058",
   "metadata": {},
   "outputs": [
    {
     "data": {
      "text/plain": [
       "array([[ 9.00000000e+00,  2.00000000e+00,  3.00000000e+00],\n",
       "       [ 5.00000000e+00, -1.00000000e+00,  6.00000000e+00],\n",
       "       [ 4.00000000e+00, -2.22044605e-16, -2.00000000e+00]])"
      ]
     },
     "execution_count": 203,
     "metadata": {},
     "output_type": "execute_result"
    }
   ],
   "source": [
    "np.dot(np.dot(np.linalg.inv(A),A),A)"
   ]
  },
  {
   "cell_type": "code",
   "execution_count": 216,
   "id": "57afda19",
   "metadata": {},
   "outputs": [],
   "source": [
    "AE = np.linalg.eig(matrix4)"
   ]
  },
  {
   "cell_type": "code",
   "execution_count": 208,
   "id": "caaa9217",
   "metadata": {},
   "outputs": [
    {
     "data": {
      "text/plain": [
       "(array([11.05392034+0.j        , -2.52696017+1.57483498j,\n",
       "        -2.52696017-1.57483498j]),\n",
       " array([[ 0.84043844+0.j        , -0.10905469-0.09952899j,\n",
       "         -0.10905469+0.09952899j],\n",
       "        [ 0.47680437+0.j        ,  0.92289176+0.j        ,\n",
       "          0.92289176-0.j        ],\n",
       "        [ 0.25752829+0.j        , -0.14399092+0.32517453j,\n",
       "         -0.14399092-0.32517453j]]))"
      ]
     },
     "execution_count": 208,
     "metadata": {},
     "output_type": "execute_result"
    }
   ],
   "source": [
    "AE"
   ]
  },
  {
   "cell_type": "code",
   "execution_count": 206,
   "id": "6fe8c04e",
   "metadata": {},
   "outputs": [
    {
     "ename": "ValueError",
     "evalue": "setting an array element with a sequence. The requested array has an inhomogeneous shape after 2 dimensions. The detected shape was (2, 3) + inhomogeneous part.",
     "output_type": "error",
     "traceback": [
      "\u001b[1;31m---------------------------------------------------------------------------\u001b[0m",
      "\u001b[1;31mValueError\u001b[0m                                Traceback (most recent call last)",
      "Cell \u001b[1;32mIn[206], line 1\u001b[0m\n\u001b[1;32m----> 1\u001b[0m np\u001b[38;5;241m.\u001b[39mdot(np\u001b[38;5;241m.\u001b[39mdot(np\u001b[38;5;241m.\u001b[39mlinalg\u001b[38;5;241m.\u001b[39minv(AE),A),AE)\n",
      "File \u001b[1;32m<__array_function__ internals>:200\u001b[0m, in \u001b[0;36minv\u001b[1;34m(*args, **kwargs)\u001b[0m\n",
      "File \u001b[1;32mC:\\Python\\anaconda3\\Lib\\site-packages\\numpy\\linalg\\linalg.py:531\u001b[0m, in \u001b[0;36minv\u001b[1;34m(a)\u001b[0m\n\u001b[0;32m    469\u001b[0m \u001b[38;5;129m@array_function_dispatch\u001b[39m(_unary_dispatcher)\n\u001b[0;32m    470\u001b[0m \u001b[38;5;28;01mdef\u001b[39;00m \u001b[38;5;21minv\u001b[39m(a):\n\u001b[0;32m    471\u001b[0m \u001b[38;5;250m    \u001b[39m\u001b[38;5;124;03m\"\"\"\u001b[39;00m\n\u001b[0;32m    472\u001b[0m \u001b[38;5;124;03m    Compute the (multiplicative) inverse of a matrix.\u001b[39;00m\n\u001b[0;32m    473\u001b[0m \n\u001b[1;32m   (...)\u001b[0m\n\u001b[0;32m    529\u001b[0m \n\u001b[0;32m    530\u001b[0m \u001b[38;5;124;03m    \"\"\"\u001b[39;00m\n\u001b[1;32m--> 531\u001b[0m     a, wrap \u001b[38;5;241m=\u001b[39m _makearray(a)\n\u001b[0;32m    532\u001b[0m     _assert_stacked_2d(a)\n\u001b[0;32m    533\u001b[0m     _assert_stacked_square(a)\n",
      "File \u001b[1;32mC:\\Python\\anaconda3\\Lib\\site-packages\\numpy\\linalg\\linalg.py:113\u001b[0m, in \u001b[0;36m_makearray\u001b[1;34m(a)\u001b[0m\n\u001b[0;32m    112\u001b[0m \u001b[38;5;28;01mdef\u001b[39;00m \u001b[38;5;21m_makearray\u001b[39m(a):\n\u001b[1;32m--> 113\u001b[0m     new \u001b[38;5;241m=\u001b[39m asarray(a)\n\u001b[0;32m    114\u001b[0m     wrap \u001b[38;5;241m=\u001b[39m \u001b[38;5;28mgetattr\u001b[39m(a, \u001b[38;5;124m\"\u001b[39m\u001b[38;5;124m__array_prepare__\u001b[39m\u001b[38;5;124m\"\u001b[39m, new\u001b[38;5;241m.\u001b[39m__array_wrap__)\n\u001b[0;32m    115\u001b[0m     \u001b[38;5;28;01mreturn\u001b[39;00m new, wrap\n",
      "\u001b[1;31mValueError\u001b[0m: setting an array element with a sequence. The requested array has an inhomogeneous shape after 2 dimensions. The detected shape was (2, 3) + inhomogeneous part."
     ]
    }
   ],
   "source": [
    "np.dot(np.dot(np.linalg.inv(AE),A),AE)"
   ]
  },
  {
   "cell_type": "code",
   "execution_count": 217,
   "id": "ed7e6eda",
   "metadata": {},
   "outputs": [],
   "source": [
    "matrix6 = matrix4"
   ]
  },
  {
   "cell_type": "code",
   "execution_count": 223,
   "id": "a1fca32c",
   "metadata": {},
   "outputs": [],
   "source": [
    "AE = np.linalg.eig(matrix6)"
   ]
  },
  {
   "cell_type": "code",
   "execution_count": 224,
   "id": "faa4f9f4",
   "metadata": {},
   "outputs": [
    {
     "data": {
      "text/plain": [
       "(array([11.64964978+0.j       ,  0.17517511+1.6993694j,\n",
       "         0.17517511-1.6993694j]),\n",
       " array([[ 0.77472947+0.j        ,  0.17785651+0.16698976j,\n",
       "          0.17785651-0.16698976j],\n",
       "        [ 0.54466632+0.j        , -0.88731395+0.j        ,\n",
       "         -0.88731395-0.j        ],\n",
       "        [ 0.32114304+0.j        , -0.02623399-0.3904705j ,\n",
       "         -0.02623399+0.3904705j ]]))"
      ]
     },
     "execution_count": 224,
     "metadata": {},
     "output_type": "execute_result"
    }
   ],
   "source": [
    "AE"
   ]
  },
  {
   "cell_type": "code",
   "execution_count": null,
   "id": "0275db73",
   "metadata": {},
   "outputs": [],
   "source": []
  }
 ],
 "metadata": {
  "kernelspec": {
   "display_name": "Python 3 (ipykernel)",
   "language": "python",
   "name": "python3"
  },
  "language_info": {
   "codemirror_mode": {
    "name": "ipython",
    "version": 3
   },
   "file_extension": ".py",
   "mimetype": "text/x-python",
   "name": "python",
   "nbconvert_exporter": "python",
   "pygments_lexer": "ipython3",
   "version": "3.11.7"
  }
 },
 "nbformat": 4,
 "nbformat_minor": 5
}
