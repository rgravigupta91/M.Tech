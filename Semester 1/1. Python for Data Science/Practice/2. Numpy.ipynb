{
 "cells": [
  {
   "cell_type": "code",
   "execution_count": 1,
   "id": "c4e08181",
   "metadata": {},
   "outputs": [],
   "source": [
    "import numpy as np"
   ]
  },
  {
   "cell_type": "markdown",
   "id": "aa5d309f",
   "metadata": {},
   "source": [
    "# Numpy Arrays"
   ]
  },
  {
   "cell_type": "code",
   "execution_count": 2,
   "id": "9b792ae2",
   "metadata": {},
   "outputs": [],
   "source": [
    "arr_str = [\"Mercedes\", \"BMW\", \"Audi\", \"Ferrari\", \"Tesla\"]\n",
    "arr_num = [5, 4, 6, 7, 3]"
   ]
  },
  {
   "cell_type": "code",
   "execution_count": 3,
   "id": "760f72aa",
   "metadata": {},
   "outputs": [],
   "source": [
    "np_arr_str = np.array(arr_str)\n",
    "np_arr_num = np.array(arr_num)"
   ]
  },
  {
   "cell_type": "code",
   "execution_count": 4,
   "id": "505b61c3",
   "metadata": {},
   "outputs": [
    {
     "name": "stdout",
     "output_type": "stream",
     "text": [
      "Numpy Array (arr_str) ['Mercedes' 'BMW' 'Audi' 'Ferrari' 'Tesla']\n",
      "Numpy Array (arr_num) [5 4 6 7 3]\n"
     ]
    }
   ],
   "source": [
    "print(\"Numpy Array (arr_str)\", np_arr_str)\n",
    "print(\"Numpy Array (arr_num)\", np_arr_num)"
   ]
  },
  {
   "cell_type": "code",
   "execution_count": 5,
   "id": "3705db1a",
   "metadata": {},
   "outputs": [
    {
     "name": "stdout",
     "output_type": "stream",
     "text": [
      "Data type of arr_str :  <class 'list'>\n",
      "Data type of arr_num :  <class 'list'>\n",
      "Data type of np_arr_str :  <class 'numpy.ndarray'>\n",
      "Data type of np_arr_num :  <class 'numpy.ndarray'>\n"
     ]
    }
   ],
   "source": [
    "# printing the data type of lists\n",
    "print(\"Data type of arr_str : \", type(arr_str))\n",
    "print(\"Data type of arr_num : \", type(arr_num))\n",
    "\n",
    "# printing the data type after conversion of lists to array\n",
    "print(\"Data type of np_arr_str : \", type(np_arr_str))\n",
    "print(\"Data type of np_arr_num : \", type(np_arr_num))"
   ]
  },
  {
   "cell_type": "code",
   "execution_count": 6,
   "id": "23a0def5",
   "metadata": {},
   "outputs": [],
   "source": [
    "# Creating a numpy array from tuple\n",
    "tuple_a = (1, 2, 3, 5, 4)\n",
    "\n",
    "np_arr_tup = np.array(tuple_a)"
   ]
  },
  {
   "cell_type": "code",
   "execution_count": 7,
   "id": "eb884f14",
   "metadata": {},
   "outputs": [
    {
     "name": "stdout",
     "output_type": "stream",
     "text": [
      "Data type of tuple_a :  <class 'tuple'>\n",
      "Data type of np_arr_tup :  <class 'numpy.ndarray'>\n"
     ]
    }
   ],
   "source": [
    "# print the types of numpy array and tuples\n",
    "print(\"Data type of tuple_a : \", type(tuple_a))\n",
    "print(\"Data type of np_arr_tup : \", type(np_arr_tup))"
   ]
  },
  {
   "cell_type": "code",
   "execution_count": 8,
   "id": "2b978677",
   "metadata": {},
   "outputs": [
    {
     "data": {
      "text/plain": [
       "array([[1, 2, 3],\n",
       "       [4, 5, 6],\n",
       "       [7, 8, 9]])"
      ]
     },
     "execution_count": 8,
     "metadata": {},
     "output_type": "execute_result"
    }
   ],
   "source": [
    "matrix = np.array([[1, 2, 3], [4, 5, 6], [7, 8, 9]])\n",
    "matrix"
   ]
  },
  {
   "cell_type": "code",
   "execution_count": 9,
   "id": "410ae5c7",
   "metadata": {},
   "outputs": [
    {
     "name": "stdout",
     "output_type": "stream",
     "text": [
      "Data type of matrix :  <class 'numpy.ndarray'>\n"
     ]
    }
   ],
   "source": [
    "print(\"Data type of matrix : \", type(matrix))"
   ]
  },
  {
   "cell_type": "code",
   "execution_count": 10,
   "id": "6dfe54db-0081-4475-a10f-dbbfc7cec1d8",
   "metadata": {},
   "outputs": [
    {
     "name": "stdout",
     "output_type": "stream",
     "text": [
      "Size :  9\n",
      "Item Size :  4\n",
      "Shape :  (3, 3)\n",
      "nth Dimension :  2\n",
      "Data Type :  int32\n"
     ]
    }
   ],
   "source": [
    "print('Size : ',matrix.size)\n",
    "print('Item Size : ',matrix.itemsize)\n",
    "print('Shape : ',matrix.shape)\n",
    "print('nth Dimension : ',matrix.ndim)\n",
    "print('Data Type : ',matrix.dtype)"
   ]
  },
  {
   "cell_type": "markdown",
   "id": "dadf0c81",
   "metadata": {},
   "source": [
    "# Numpy Functions"
   ]
  },
  {
   "cell_type": "code",
   "execution_count": 11,
   "id": "f27efae8",
   "metadata": {},
   "outputs": [
    {
     "data": {
      "text/plain": [
       "[0, 1, 2, 3, 4, 5, 6, 7, 8, 9]"
      ]
     },
     "execution_count": 11,
     "metadata": {},
     "output_type": "execute_result"
    }
   ],
   "source": [
    "list(range(0, 10))       # Conventional python list from range. It excludes last number. 10 in this case"
   ]
  },
  {
   "cell_type": "code",
   "execution_count": 12,
   "id": "c019efff",
   "metadata": {},
   "outputs": [
    {
     "data": {
      "text/plain": [
       "array([0, 1, 2, 3, 4, 5, 6, 7, 8, 9])"
      ]
     },
     "execution_count": 12,
     "metadata": {},
     "output_type": "execute_result"
    }
   ],
   "source": [
    "arr1 = np.arange(start = 0, stop = 10) # similar to lists from range in numpy. It also excludes last number\n",
    "arr1"
   ]
  },
  {
   "cell_type": "code",
   "execution_count": 13,
   "id": "35ff99ed",
   "metadata": {},
   "outputs": [
    {
     "data": {
      "text/plain": [
       "array([0, 1, 2, 3, 4, 5, 6, 7, 8, 9])"
      ]
     },
     "execution_count": 13,
     "metadata": {},
     "output_type": "execute_result"
    }
   ],
   "source": [
    "arr2 = np.arange(0, 10)               # numpy range can be written in shorter form as\n",
    "arr2"
   ]
  },
  {
   "cell_type": "code",
   "execution_count": 14,
   "id": "ec0504ba",
   "metadata": {},
   "outputs": [
    {
     "data": {
      "text/plain": [
       "array([ 0,  5, 10, 15])"
      ]
     },
     "execution_count": 14,
     "metadata": {},
     "output_type": "execute_result"
    }
   ],
   "source": [
    "arr3 = np.arange(start = 0, stop = 20, step = 5)\n",
    "arr3"
   ]
  },
  {
   "cell_type": "markdown",
   "id": "7ebb88ff",
   "metadata": {},
   "source": [
    "Using np.linspace() function\n",
    "    - The np.linspace() function returns numbers which are evenly distributed with respect to interval. Here the start and stop both are included.\n",
    "    - It has the following parameters:\n",
    "        1. start : start of interval range. By default start = 0\n",
    "        2. stop  : end of interval range\n",
    "        3. num   : No. of samples to generate. By default num = 50"
   ]
  },
  {
   "cell_type": "code",
   "execution_count": 15,
   "id": "9119b4c9",
   "metadata": {},
   "outputs": [
    {
     "data": {
      "text/plain": [
       "array([0.        , 0.10204082, 0.20408163, 0.30612245, 0.40816327,\n",
       "       0.51020408, 0.6122449 , 0.71428571, 0.81632653, 0.91836735,\n",
       "       1.02040816, 1.12244898, 1.2244898 , 1.32653061, 1.42857143,\n",
       "       1.53061224, 1.63265306, 1.73469388, 1.83673469, 1.93877551,\n",
       "       2.04081633, 2.14285714, 2.24489796, 2.34693878, 2.44897959,\n",
       "       2.55102041, 2.65306122, 2.75510204, 2.85714286, 2.95918367,\n",
       "       3.06122449, 3.16326531, 3.26530612, 3.36734694, 3.46938776,\n",
       "       3.57142857, 3.67346939, 3.7755102 , 3.87755102, 3.97959184,\n",
       "       4.08163265, 4.18367347, 4.28571429, 4.3877551 , 4.48979592,\n",
       "       4.59183673, 4.69387755, 4.79591837, 4.89795918, 5.        ])"
      ]
     },
     "execution_count": 15,
     "metadata": {},
     "output_type": "execute_result"
    }
   ],
   "source": [
    "matrix2 = np.linspace(\n",
    "    0, 5\n",
    ")   # by default 50 evenly spaced values will be generated between 0 and 5\n",
    "\n",
    "matrix2"
   ]
  },
  {
   "cell_type": "code",
   "execution_count": 16,
   "id": "b749071a",
   "metadata": {},
   "outputs": [
    {
     "data": {
      "text/plain": [
       "array([10.        , 11.11111111, 12.22222222, 13.33333333, 14.44444444,\n",
       "       15.55555556, 16.66666667, 17.77777778, 18.88888889, 20.        ])"
      ]
     },
     "execution_count": 16,
     "metadata": {},
     "output_type": "execute_result"
    }
   ],
   "source": [
    "matrix3 = np.linspace(10, 20, 10)\n",
    "matrix3"
   ]
  },
  {
   "cell_type": "code",
   "execution_count": 17,
   "id": "fd9040f8",
   "metadata": {},
   "outputs": [
    {
     "name": "stdout",
     "output_type": "stream",
     "text": [
      "<class 'numpy.ndarray'>\n"
     ]
    }
   ],
   "source": [
    "print(type(matrix3))"
   ]
  },
  {
   "cell_type": "markdown",
   "id": "2e50c3f2",
   "metadata": {},
   "source": [
    "Using np.zeros()\n",
    "- The np.zeros() is a function for creating a matrix and performimg matrix operations in NumPy\n",
    "- It returns a matrix filled with zeros of the given shape\n",
    "- It has the following parameters:\n",
    "    1. shape : Number of rows and columns in the output matrix\n",
    "    2. dtype: data type of the elements in the matrix, by default the value is set to float"
   ]
  },
  {
   "cell_type": "code",
   "execution_count": 18,
   "id": "b13e7602",
   "metadata": {},
   "outputs": [
    {
     "data": {
      "text/plain": [
       "array([[0., 0., 0., 0., 0.],\n",
       "       [0., 0., 0., 0., 0.],\n",
       "       [0., 0., 0., 0., 0.]])"
      ]
     },
     "execution_count": 18,
     "metadata": {},
     "output_type": "execute_result"
    }
   ],
   "source": [
    "matrix4 = np.zeros([3,5])\n",
    "matrix4"
   ]
  },
  {
   "cell_type": "code",
   "execution_count": 19,
   "id": "d3d21fae",
   "metadata": {},
   "outputs": [
    {
     "data": {
      "text/plain": [
       "array([[0, 0, 0, 0, 0],\n",
       "       [0, 0, 0, 0, 0],\n",
       "       [0, 0, 0, 0, 0],\n",
       "       [0, 0, 0, 0, 0]])"
      ]
     },
     "execution_count": 19,
     "metadata": {},
     "output_type": "execute_result"
    }
   ],
   "source": [
    "matrix5 = np.zeros([4,5], dtype='int')\n",
    "matrix5"
   ]
  },
  {
   "cell_type": "markdown",
   "id": "251a485f",
   "metadata": {},
   "source": [
    "Using np.ones()\n",
    "- The np.ones() is another function for creating a matrix and performimg matrix operations in NumPy\n",
    "- It returns a matrix of given shape and type, filled with ones\n",
    "- It has the following parameters:\n",
    "    1. shape : Number of rows and columns in the output matrix\n",
    "    2. dtype: data type of the elements in the matrix, by default the value is set to float"
   ]
  },
  {
   "cell_type": "code",
   "execution_count": 21,
   "id": "e8c4f51d",
   "metadata": {},
   "outputs": [
    {
     "data": {
      "text/plain": [
       "array([[1, 1, 1, 1, 1],\n",
       "       [1, 1, 1, 1, 1],\n",
       "       [1, 1, 1, 1, 1]])"
      ]
     },
     "execution_count": 21,
     "metadata": {},
     "output_type": "execute_result"
    }
   ],
   "source": [
    "matrix6 = np.ones([3,5],'int')\n",
    "matrix6"
   ]
  },
  {
   "cell_type": "code",
   "execution_count": 22,
   "id": "89b9caab",
   "metadata": {},
   "outputs": [
    {
     "data": {
      "text/plain": [
       "array([[1, 1, 1, 1, 1],\n",
       "       [1, 1, 1, 1, 1],\n",
       "       [1, 1, 1, 1, 1]])"
      ]
     },
     "execution_count": 22,
     "metadata": {},
     "output_type": "execute_result"
    }
   ],
   "source": [
    "matrix7 = np.ones([3,5],'int','F')\n",
    "matrix7"
   ]
  },
  {
   "cell_type": "code",
   "execution_count": 23,
   "id": "e514d1e4",
   "metadata": {},
   "outputs": [],
   "source": [
    "matrix6[1,3] = 7\n",
    "matrix7[1,3] = 7"
   ]
  },
  {
   "cell_type": "code",
   "execution_count": 24,
   "id": "e4249576",
   "metadata": {},
   "outputs": [
    {
     "data": {
      "text/plain": [
       "array([[1, 1, 1, 1, 1],\n",
       "       [1, 1, 1, 7, 1],\n",
       "       [1, 1, 1, 1, 1]])"
      ]
     },
     "execution_count": 24,
     "metadata": {},
     "output_type": "execute_result"
    }
   ],
   "source": [
    "matrix6"
   ]
  },
  {
   "cell_type": "code",
   "execution_count": 25,
   "id": "9ba47448",
   "metadata": {},
   "outputs": [
    {
     "data": {
      "text/plain": [
       "array([[1, 1, 1, 1, 1],\n",
       "       [1, 1, 1, 7, 1],\n",
       "       [1, 1, 1, 1, 1]])"
      ]
     },
     "execution_count": 25,
     "metadata": {},
     "output_type": "execute_result"
    }
   ],
   "source": [
    "matrix7"
   ]
  },
  {
   "cell_type": "code",
   "execution_count": 26,
   "id": "17acd54d",
   "metadata": {},
   "outputs": [
    {
     "data": {
      "text/plain": [
       "array([[[1., 1., 1., 1., 1.],\n",
       "        [1., 1., 1., 1., 1.],\n",
       "        [1., 1., 1., 1., 1.],\n",
       "        [1., 1., 1., 1., 1.]],\n",
       "\n",
       "       [[1., 1., 1., 1., 1.],\n",
       "        [1., 1., 1., 1., 1.],\n",
       "        [1., 1., 1., 1., 1.],\n",
       "        [1., 1., 1., 1., 1.]],\n",
       "\n",
       "       [[1., 1., 1., 1., 1.],\n",
       "        [1., 1., 1., 1., 1.],\n",
       "        [1., 1., 1., 1., 1.],\n",
       "        [1., 1., 1., 1., 1.]]])"
      ]
     },
     "execution_count": 26,
     "metadata": {},
     "output_type": "execute_result"
    }
   ],
   "source": [
    "matrix8 = np.ones([3,4,5])\n",
    "matrix8"
   ]
  },
  {
   "cell_type": "code",
   "execution_count": 27,
   "id": "eee4d6de",
   "metadata": {},
   "outputs": [
    {
     "data": {
      "text/plain": [
       "array([[1, 0, 0, 0, 0],\n",
       "       [0, 1, 0, 0, 0],\n",
       "       [0, 0, 1, 0, 0],\n",
       "       [0, 0, 0, 1, 0],\n",
       "       [0, 0, 0, 0, 1]])"
      ]
     },
     "execution_count": 27,
     "metadata": {},
     "output_type": "execute_result"
    }
   ],
   "source": [
    "matrix9 = np.eye(5, dtype= 'int')\n",
    "matrix9"
   ]
  },
  {
   "cell_type": "code",
   "execution_count": 28,
   "id": "bcf7628a-9626-4713-9129-e395cfd82321",
   "metadata": {},
   "outputs": [
    {
     "data": {
      "text/plain": [
       "array([[1, 0, 0, 0, 0],\n",
       "       [0, 1, 0, 0, 0],\n",
       "       [0, 0, 1, 0, 0],\n",
       "       [0, 0, 0, 1, 0],\n",
       "       [0, 0, 0, 0, 1]])"
      ]
     },
     "execution_count": 28,
     "metadata": {},
     "output_type": "execute_result"
    }
   ],
   "source": [
    "matrix10 = np.identity(5, dtype='int')\n",
    "matrix10"
   ]
  },
  {
   "cell_type": "code",
   "execution_count": 29,
   "id": "e6632057",
   "metadata": {},
   "outputs": [
    {
     "data": {
      "text/plain": [
       "array([ 0.20642048,  1.07198585,  0.91962753, -0.15776084, -1.24199852,\n",
       "       -0.82498226, -0.04538835, -0.13672342,  0.97932901, -0.8761836 ])"
      ]
     },
     "execution_count": 29,
     "metadata": {},
     "output_type": "execute_result"
    }
   ],
   "source": [
    "rand_arr = np.random.randn(10)\n",
    "rand_arr"
   ]
  },
  {
   "cell_type": "code",
   "execution_count": 30,
   "id": "16cb1a27",
   "metadata": {},
   "outputs": [
    {
     "data": {
      "text/plain": [
       "array([ True,  True,  True, False, False, False, False, False,  True,\n",
       "       False])"
      ]
     },
     "execution_count": 30,
     "metadata": {},
     "output_type": "execute_result"
    }
   ],
   "source": [
    "rand_arr > 0"
   ]
  },
  {
   "cell_type": "code",
   "execution_count": 31,
   "id": "ba8f3880",
   "metadata": {},
   "outputs": [
    {
     "data": {
      "text/plain": [
       "array([0.20642048, 1.07198585, 0.91962753, 0.97932901])"
      ]
     },
     "execution_count": 31,
     "metadata": {},
     "output_type": "execute_result"
    }
   ],
   "source": [
    "rand_arr[rand_arr > 0]"
   ]
  },
  {
   "cell_type": "markdown",
   "id": "cb724135",
   "metadata": {},
   "source": [
    "#### Reshape"
   ]
  },
  {
   "cell_type": "code",
   "execution_count": 32,
   "id": "9bf09627",
   "metadata": {},
   "outputs": [
    {
     "data": {
      "text/plain": [
       "array([[7, 2, 9, 4, 1],\n",
       "       [3, 3, 3, 4, 7]])"
      ]
     },
     "execution_count": 32,
     "metadata": {},
     "output_type": "execute_result"
    }
   ],
   "source": [
    "randint_matrix1 = np.random.randint(1,10,10).reshape(2,5)\n",
    "\n",
    "randint_matrix1"
   ]
  },
  {
   "cell_type": "code",
   "execution_count": 33,
   "id": "d284f815",
   "metadata": {},
   "outputs": [
    {
     "data": {
      "text/plain": [
       "array([[12, 14, 18, 19, 19],\n",
       "       [18, 19, 19, 16, 17]])"
      ]
     },
     "execution_count": 33,
     "metadata": {},
     "output_type": "execute_result"
    }
   ],
   "source": [
    "randint_matrix2 = np.random.randint(10,20,10).reshape(2,5)\n",
    "\n",
    "randint_matrix2"
   ]
  },
  {
   "cell_type": "code",
   "execution_count": 55,
   "id": "da42ab47",
   "metadata": {},
   "outputs": [
    {
     "name": "stdout",
     "output_type": "stream",
     "text": [
      "[0.12260424 0.39658488 0.99951167 ... 0.4446406  0.07231165 0.20229507]\n",
      "[-2.13438152 -0.80140489  1.43953739 ... -0.9831879   0.49265365\n",
      " -0.03609847]\n"
     ]
    }
   ],
   "source": [
    "random_array = np.random.rand(100000)      # This will generate an array with uniform distribution.\n",
    "normal_array = np.random.randn(100000)     # This will generate an array with Normal Distribution where Std. is 1 and mean is 0 (THis assumption will be true with large arrays)\n",
    "\n",
    "\n",
    "print(random_array)\n",
    "print(normal_array)"
   ]
  },
  {
   "cell_type": "code",
   "execution_count": 56,
   "id": "1f610e64-c720-4ecb-8546-a0b97c7ca57f",
   "metadata": {},
   "outputs": [
    {
     "name": "stdout",
     "output_type": "stream",
     "text": [
      "Random Array Mean :  0.5003926971916318\n",
      "Random Array Standard Deviation :  0.2891435108815212\n"
     ]
    }
   ],
   "source": [
    "print('Random Array Mean : ',random_array.mean())\n",
    "print('Random Array Standard Deviation : ',random_array.std())"
   ]
  },
  {
   "cell_type": "code",
   "execution_count": 57,
   "id": "625fc44d-3207-48fb-932b-3ab99fb94a4e",
   "metadata": {},
   "outputs": [
    {
     "name": "stdout",
     "output_type": "stream",
     "text": [
      "Normal Array Mean :  0.004336193772450543\n",
      "Normal Array Standard Deviation :  1.0010815077117396\n"
     ]
    }
   ],
   "source": [
    "print('Normal Array Mean : ',normal_array.mean())\n",
    "print('Normal Array Standard Deviation : ',normal_array.std())"
   ]
  },
  {
   "cell_type": "code",
   "execution_count": 58,
   "id": "7ed8190b-89b6-4051-85f9-febdc32019cf",
   "metadata": {},
   "outputs": [],
   "source": [
    "import matplotlib.pyplot as plt\n",
    "import seaborn as sns"
   ]
  },
  {
   "cell_type": "code",
   "execution_count": 64,
   "id": "ea5313d5-e719-4370-8e59-1258919d0ed0",
   "metadata": {},
   "outputs": [
    {
     "name": "stderr",
     "output_type": "stream",
     "text": [
      "C:\\Python\\Anaconda3\\Lib\\site-packages\\seaborn\\_oldcore.py:1119: FutureWarning: use_inf_as_na option is deprecated and will be removed in a future version. Convert inf values to NaN before operating instead.\n",
      "  with pd.option_context('mode.use_inf_as_na', True):\n"
     ]
    },
    {
     "data": {
      "text/plain": [
       "<Figure size 500x500 with 0 Axes>"
      ]
     },
     "metadata": {},
     "output_type": "display_data"
    },
    {
     "data": {
      "image/png": "[encoded data removed]",
      "text/plain": [
       "<Figure size 500x500 with 1 Axes>"
      ]
     },
     "metadata": {},
     "output_type": "display_data"
    }
   ],
   "source": [
    "plt.figure(figsize=(5,5))\n",
    "\n",
    "sns.displot(random_array, kind='kde')\n",
    "\n",
    "plt.show()"
   ]
  },
  {
   "cell_type": "code",
   "execution_count": 65,
   "id": "66949894-a24a-4403-a5b3-893ea120d37c",
   "metadata": {},
   "outputs": [
    {
     "name": "stderr",
     "output_type": "stream",
     "text": [
      "C:\\Python\\Anaconda3\\Lib\\site-packages\\seaborn\\_oldcore.py:1119: FutureWarning: use_inf_as_na option is deprecated and will be removed in a future version. Convert inf values to NaN before operating instead.\n",
      "  with pd.option_context('mode.use_inf_as_na', True):\n"
     ]
    },
    {
     "data": {
      "text/plain": [
       "<Figure size 500x500 with 0 Axes>"
      ]
     },
     "metadata": {},
     "output_type": "display_data"
    },
    {
     "data": {
      "image/png": "[encoded data removed]",
      "text/plain": [
       "<Figure size 500x500 with 1 Axes>"
      ]
     },
     "metadata": {},
     "output_type": "display_data"
    }
   ],
   "source": [
    "plt.figure(figsize=(5,5))\n",
    "\n",
    "sns.displot(normal_array,kind='kde')\n",
    "\n",
    "plt.show()"
   ]
  },
  {
   "cell_type": "code",
   "execution_count": 3,
   "id": "e70671eb-ad04-47f2-a6a5-03bc6df8afeb",
   "metadata": {},
   "outputs": [
    {
     "name": "stdout",
     "output_type": "stream",
     "text": [
      "(20,)\n",
      "(2, 10)\n"
     ]
    }
   ],
   "source": [
    "original_array = np.random.randint(0,100,20)\n",
    "reshaped_array = original_array.reshape(2,10)\n",
    "\n",
    "print(original_array.shape)\n",
    "print(reshaped_array.shape)"
   ]
  },
  {
   "cell_type": "code",
   "execution_count": 72,
   "id": "4db6c6d6-ac83-4036-aa5e-ac11bb261b2f",
   "metadata": {},
   "outputs": [
    {
     "name": "stdout",
     "output_type": "stream",
     "text": [
      "Boolean Output :  [False  True  True False False  True]\n",
      "age greater than 18 :  [45 22 25]\n"
     ]
    }
   ],
   "source": [
    "age = np.array([13,45,22,6,14,25])\n",
    "\n",
    "print('Boolean Output : ', age > 18)\n",
    "print('age greater than 18 : ',age[age>18])"
   ]
  },
  {
   "cell_type": "markdown",
   "id": "bf5e8798-8517-4954-9111-32b7b4ab4800",
   "metadata": {},
   "source": [
    "### Arithmetic Operation on arrays"
   ]
  },
  {
   "cell_type": "code",
   "execution_count": 76,
   "id": "64dd5a09-8ba5-4f6d-8e2f-44da1c73eb91",
   "metadata": {},
   "outputs": [
    {
     "name": "stdout",
     "output_type": "stream",
     "text": [
      "[12 16 10  8]\n",
      "[-4 -2  0  4]\n"
     ]
    }
   ],
   "source": [
    "array1 = np.array([4,7,5,6])\n",
    "array2 = np.array([8,9,5,2])\n",
    "\n",
    "sum = array1 + array2\n",
    "print(sum)\n",
    "\n",
    "sub = array1- array2\n",
    "print(sub)"
   ]
  },
  {
   "cell_type": "code",
   "execution_count": 78,
   "id": "59328e75-b8ab-4d8a-83aa-eecca8c0b2d4",
   "metadata": {},
   "outputs": [
    {
     "data": {
      "text/plain": [
       "array([[ 4,  0,  2],\n",
       "       [ 8, -6,  0],\n",
       "       [ 0, 20, -3]])"
      ]
     },
     "execution_count": 78,
     "metadata": {},
     "output_type": "execute_result"
    }
   ],
   "source": [
    "m1 = np.array([[1,0,2],[4,-2,3],[0,5,1]])\n",
    "m2 = np.array([[4,0,1],[2,3,0],[1,4,-3]])\n",
    "\n",
    "prod = m1 * m2\n",
    "prod"
   ]
  },
  {
   "cell_type": "code",
   "execution_count": 79,
   "id": "6c9df8d1-3fad-4a3d-a8b9-6d74dcacad0e",
   "metadata": {},
   "outputs": [
    {
     "data": {
      "text/plain": [
       "array([[ 6,  8, -5],\n",
       "       [15,  6, -5],\n",
       "       [11, 19, -3]])"
      ]
     },
     "execution_count": 79,
     "metadata": {},
     "output_type": "execute_result"
    }
   ],
   "source": [
    "m1.dot(m2)"
   ]
  },
  {
   "cell_type": "code",
   "execution_count": 82,
   "id": "44edcb09-44b3-4043-bb86-24cebbce9ffd",
   "metadata": {},
   "outputs": [
    {
     "name": "stdout",
     "output_type": "stream",
     "text": [
      "Sum :  14\n",
      "Min :  -2\n",
      "Max :  5\n",
      "Mean :  1.5555555555555556\n"
     ]
    }
   ],
   "source": [
    "print('Sum : ',m1.sum())\n",
    "print('Min : ',m1.min())\n",
    "print('Max : ',m1.max())\n",
    "print('Mean : ',m1.mean())"
   ]
  },
  {
   "cell_type": "code",
   "execution_count": 84,
   "id": "772eb612-5b6b-4586-9f22-3e19ac7c5e32",
   "metadata": {},
   "outputs": [
    {
     "name": "stdout",
     "output_type": "stream",
     "text": [
      "Squared Array : \n",
      " [[ 1  0  4]\n",
      " [16  4  9]\n",
      " [ 0 25  1]]\n"
     ]
    }
   ],
   "source": [
    "print('Squared Array : \\n',np.power(m1,2))"
   ]
  },
  {
   "cell_type": "code",
   "execution_count": 88,
   "id": "0bce8d62-b05c-43ff-b92e-9e86b68f7bcc",
   "metadata": {},
   "outputs": [
    {
     "name": "stdout",
     "output_type": "stream",
     "text": [
      "Row wise concatenation : \n",
      " [[ 1  0  2]\n",
      " [ 4 -2  3]\n",
      " [ 0  5  1]\n",
      " [ 4  0  1]\n",
      " [ 2  3  0]\n",
      " [ 1  4 -3]]\n",
      "Column wise concatenation : \n",
      " [[ 1  0  2  4  0  1]\n",
      " [ 4 -2  3  2  3  0]\n",
      " [ 0  5  1  1  4 -3]]\n"
     ]
    }
   ],
   "source": [
    "print('Row wise concatenation : \\n',np.concatenate([m1,m2]))\n",
    "print('Column wise concatenation : \\n',np.concatenate([m1,m2],axis = 1))"
   ]
  },
  {
   "cell_type": "markdown",
   "id": "8d69c945-76a9-413f-a487-cf257b8f387b",
   "metadata": {},
   "source": [
    "### Stacking"
   ]
  },
  {
   "cell_type": "code",
   "execution_count": 91,
   "id": "2afe9f0b-db16-492d-b5c8-c2f76336d55e",
   "metadata": {},
   "outputs": [
    {
     "name": "stdout",
     "output_type": "stream",
     "text": [
      "stacked Array : \n",
      " [[[ 1  0  2]\n",
      "  [ 4 -2  3]\n",
      "  [ 0  5  1]]\n",
      "\n",
      " [[ 4  0  1]\n",
      "  [ 2  3  0]\n",
      "  [ 1  4 -3]]]\n",
      "dimension :  3\n"
     ]
    }
   ],
   "source": [
    "print('stacked Array : \\n',np.stack([m1,m2]))\n",
    "print('dimension : ',np.ndim(np.stack([m1,m2])))"
   ]
  },
  {
   "cell_type": "code",
   "execution_count": 92,
   "id": "0ee1b352-a1f5-455e-8975-33fdc2170915",
   "metadata": {},
   "outputs": [
    {
     "name": "stdout",
     "output_type": "stream",
     "text": [
      "Horizontal stacked Array : \n",
      " [[ 1  0  2  4  0  1]\n",
      " [ 4 -2  3  2  3  0]\n",
      " [ 0  5  1  1  4 -3]]\n",
      "dimension :  2\n"
     ]
    }
   ],
   "source": [
    "print('Horizontal stacked Array : \\n',np.hstack([m1,m2]))\n",
    "print('dimension : ',np.ndim(np.hstack([m1,m2])))"
   ]
  },
  {
   "cell_type": "code",
   "execution_count": 93,
   "id": "8001b32d-5437-404e-aa38-117c86db1eb0",
   "metadata": {},
   "outputs": [
    {
     "name": "stdout",
     "output_type": "stream",
     "text": [
      "Vertical stacked Array : \n",
      " [[ 1  0  2]\n",
      " [ 4 -2  3]\n",
      " [ 0  5  1]\n",
      " [ 4  0  1]\n",
      " [ 2  3  0]\n",
      " [ 1  4 -3]]\n",
      "dimension :  2\n"
     ]
    }
   ],
   "source": [
    "print('Vertical stacked Array : \\n',np.vstack([m1,m2]))\n",
    "print('dimension : ',np.ndim(np.vstack([m1,m2])))"
   ]
  },
  {
   "cell_type": "code",
   "execution_count": 95,
   "id": "20d366a4-c5b6-4288-b930-182a66ec5e0f",
   "metadata": {},
   "outputs": [
    {
     "data": {
      "text/plain": [
       "array([[ 1,  0,  2],\n",
       "       [ 4, -2,  3],\n",
       "       [ 0,  5,  1]])"
      ]
     },
     "execution_count": 95,
     "metadata": {},
     "output_type": "execute_result"
    }
   ],
   "source": [
    "m1"
   ]
  },
  {
   "cell_type": "code",
   "execution_count": 96,
   "id": "50b070e3-8c81-4516-90a8-b21788903e9d",
   "metadata": {},
   "outputs": [
    {
     "data": {
      "text/plain": [
       "array([[ 4,  0,  1],\n",
       "       [ 2,  3,  0],\n",
       "       [ 1,  4, -3]])"
      ]
     },
     "execution_count": 96,
     "metadata": {},
     "output_type": "execute_result"
    }
   ],
   "source": [
    "m2"
   ]
  },
  {
   "cell_type": "code",
   "execution_count": 97,
   "id": "1ccd2f4b-7f55-4a46-9506-44b686670cfc",
   "metadata": {},
   "outputs": [
    {
     "name": "stdout",
     "output_type": "stream",
     "text": [
      "Depth stacked Array : \n",
      " [[[ 1  4]\n",
      "  [ 0  0]\n",
      "  [ 2  1]]\n",
      "\n",
      " [[ 4  2]\n",
      "  [-2  3]\n",
      "  [ 3  0]]\n",
      "\n",
      " [[ 0  1]\n",
      "  [ 5  4]\n",
      "  [ 1 -3]]]\n",
      "dimension :  3\n",
      "shape :  (3, 3, 2)\n"
     ]
    }
   ],
   "source": [
    "print('Depth stacked Array : \\n',np.dstack([m1,m2]))\n",
    "print('dimension : ',np.ndim(np.dstack([m1,m2])))\n",
    "print('shape : ',np.dstack([m1,m2]).shape)"
   ]
  },
  {
   "cell_type": "markdown",
   "id": "e4d387ba-f3b7-4468-8225-de22eb815b85",
   "metadata": {},
   "source": [
    "### Splitting"
   ]
  },
  {
   "cell_type": "code",
   "execution_count": 100,
   "id": "2644b673-4753-48d8-890f-9e6e71a29d55",
   "metadata": {},
   "outputs": [
    {
     "data": {
      "text/plain": [
       "array([0, 1, 2, 3, 4, 5, 6, 7, 8])"
      ]
     },
     "execution_count": 100,
     "metadata": {},
     "output_type": "execute_result"
    }
   ],
   "source": [
    "arr = np.arange(9)\n",
    "arr"
   ]
  },
  {
   "cell_type": "code",
   "execution_count": 106,
   "id": "2cb62686-0200-484d-acf5-bc82b9853c54",
   "metadata": {},
   "outputs": [
    {
     "name": "stdout",
     "output_type": "stream",
     "text": [
      "3 sub-arrays of equal length : \n",
      " [array([0, 1, 2]), array([3, 4, 5]), array([6, 7, 8])]\n"
     ]
    }
   ],
   "source": [
    "print('3 sub-arrays of equal length : \\n',np.split(arr,3))"
   ]
  },
  {
   "cell_type": "code",
   "execution_count": 104,
   "id": "013209a6-f070-41cc-9600-68150a0d6759",
   "metadata": {},
   "outputs": [
    {
     "name": "stdout",
     "output_type": "stream",
     "text": [
      "splitting of an array at specific indices : \n",
      " [array([0]), array([1, 2]), array([3, 4, 5, 6, 7, 8])]\n"
     ]
    }
   ],
   "source": [
    "print('splitting of an array at specific indices : \\n',np.split(arr,[1,3]))"
   ]
  },
  {
   "cell_type": "code",
   "execution_count": 107,
   "id": "5bd0d228-b69f-4c46-9090-43ef0815c5b1",
   "metadata": {},
   "outputs": [
    {
     "name": "stdout",
     "output_type": "stream",
     "text": [
      "[ 1 16  4 36  9 25]\n"
     ]
    }
   ],
   "source": [
    "num = np.array([1,4,2,6,3,5])\n",
    "\n",
    "for value in np.nditer(num, op_flags=['readwrite']):\n",
    "    value[...] = value ** 2\n",
    "\n",
    "print(num)"
   ]
  },
  {
   "cell_type": "code",
   "execution_count": null,
   "id": "216f5142-e715-450e-9b01-389449e7ceba",
   "metadata": {},
   "outputs": [],
   "source": []
  }
 ],
 "metadata": {
  "kernelspec": {
   "display_name": "Python 3 (ipykernel)",
   "language": "python",
   "name": "python3"
  },
  "language_info": {
   "codemirror_mode": {
    "name": "ipython",
    "version": 3
   },
   "file_extension": ".py",
   "mimetype": "text/x-python",
   "name": "python",
   "nbconvert_exporter": "python",
   "pygments_lexer": "ipython3",
   "version": "3.11.7"
  }
 },
 "nbformat": 4,
 "nbformat_minor": 5
}
