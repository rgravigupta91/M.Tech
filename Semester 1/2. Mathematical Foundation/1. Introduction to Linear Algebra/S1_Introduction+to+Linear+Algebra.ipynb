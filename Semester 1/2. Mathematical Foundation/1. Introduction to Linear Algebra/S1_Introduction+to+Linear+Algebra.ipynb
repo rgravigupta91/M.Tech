{
 "cells": [
  {
   "cell_type": "markdown",
   "metadata": {
    "id": "kcYGx9SVlKCT"
   },
   "source": [
    "- Introduction\n",
    "\n",
    "- Vecotrs (Row and Column vectors)\n",
    "\n",
    "- Vector properties and operations\n",
    "\n",
    "- Matrix properties and operations\n",
    "\n",
    "- Linear Independence\n"
   ]
  },
  {
   "cell_type": "markdown",
   "metadata": {
    "id": "uC-neQVOZZQJ"
   },
   "source": [
    "The python package to use for all the linear algebra concepts here is numpy and scipy - Scientific Python which has a dedicated linear algebra module for most of the operations in linear algebra. "
   ]
  },
  {
   "cell_type": "code",
   "execution_count": null,
   "metadata": {
    "id": "iakMxQQ1ZZQK"
   },
   "outputs": [],
   "source": [
    "import numpy as np\n",
    "import scipy.linalg as la"
   ]
  },
  {
   "cell_type": "markdown",
   "metadata": {
    "id": "vgzUew69ZZQR"
   },
   "source": [
    "Numpy array can be used to create a vector - both row and column vectors."
   ]
  },
  {
   "cell_type": "markdown",
   "metadata": {
    "id": "cj4vNeROGlvJ"
   },
   "source": [
    "### Row Vector\n",
    "\\begin{align}\n",
    "    a &= \\begin{bmatrix}\n",
    "           1&2&3&4&5&6 \\\\\n",
    "           \\end{bmatrix}\n",
    "  \\end{align}"
   ]
  },
  {
   "cell_type": "code",
   "execution_count": 4,
   "metadata": {
    "colab": {
     "base_uri": "https://localhost:8080/",
     "height": 34
    },
    "executionInfo": {
     "elapsed": 2822,
     "status": "ok",
     "timestamp": 1587629656218,
     "user": {
      "displayName": "Sudha B G",
      "photoUrl": "",
      "userId": "11454725486752146023"
     },
     "user_tz": -330
    },
    "id": "2cJeu6ZbZZQS",
    "outputId": "56891482-72fd-438d-af8f-5934ac092863"
   },
   "outputs": [
    {
     "name": "stdout",
     "output_type": "stream",
     "text": [
      "[1 2 3 4 5 6]\n"
     ]
    }
   ],
   "source": [
    "a = np.array([1, 2, 3, 4, 5, 6])  # 6 dimesional vector \n",
    "print(a)"
   ]
  },
  {
   "cell_type": "markdown",
   "metadata": {
    "id": "KZIbNObwHAw1"
   },
   "source": [
    "The shape and type of the vectors can be checked using array_name.shape and type(array_name)"
   ]
  },
  {
   "cell_type": "code",
   "execution_count": 5,
   "metadata": {
    "colab": {
     "base_uri": "https://localhost:8080/",
     "height": 34
    },
    "executionInfo": {
     "elapsed": 2050,
     "status": "ok",
     "timestamp": 1587629893553,
     "user": {
      "displayName": "Sudha B G",
      "photoUrl": "",
      "userId": "11454725486752146023"
     },
     "user_tz": -330
    },
    "id": "tNLAD-boHRL8",
    "outputId": "f6ad7cc2-6520-49f4-a3d4-016d2c7b0a7d"
   },
   "outputs": [
    {
     "data": {
      "text/plain": [
       "(6,)"
      ]
     },
     "execution_count": 5,
     "metadata": {},
     "output_type": "execute_result"
    }
   ],
   "source": [
    "a.shape"
   ]
  },
  {
   "cell_type": "code",
   "execution_count": 6,
   "metadata": {
    "id": "ij3W8aORowBr",
    "outputId": "0268b6a2-6752-41fc-ed6c-abfa0ca09265"
   },
   "outputs": [
    {
     "data": {
      "text/plain": [
       "numpy.ndarray"
      ]
     },
     "execution_count": 6,
     "metadata": {},
     "output_type": "execute_result"
    }
   ],
   "source": [
    "type(a)"
   ]
  },
  {
   "cell_type": "code",
   "execution_count": 7,
   "metadata": {},
   "outputs": [
    {
     "data": {
      "text/plain": [
       "array([1, 2, 3, 4, 5, 6])"
      ]
     },
     "execution_count": 7,
     "metadata": {},
     "output_type": "execute_result"
    }
   ],
   "source": [
    "a.transpose()"
   ]
  },
  {
   "cell_type": "code",
   "execution_count": 8,
   "metadata": {},
   "outputs": [
    {
     "data": {
      "text/plain": [
       "91"
      ]
     },
     "execution_count": 8,
     "metadata": {},
     "output_type": "execute_result"
    }
   ],
   "source": [
    "a.dot(a.transpose())  # dot product of a with a "
   ]
  },
  {
   "cell_type": "markdown",
   "metadata": {
    "id": "DZu4VAZZK8oo"
   },
   "source": [
    "As seen from above, the shape is 6 since there are 6 elements and the type is an n-dimensional numpy array."
   ]
  },
  {
   "cell_type": "markdown",
   "metadata": {
    "id": "osTUfbw6GrTX"
   },
   "source": [
    "### Column Vector\n",
    " \\begin{align}\n",
    "    a &= \\begin{bmatrix}\n",
    "           1 \\\\\n",
    "           2 \\\\\n",
    "           3 \\\\\n",
    "           4 \\\\\n",
    "           5 \\\\\n",
    "           6 \\\\\n",
    "         \\end{bmatrix}\n",
    "  \\end{align}"
   ]
  },
  {
   "cell_type": "code",
   "execution_count": 10,
   "metadata": {},
   "outputs": [
    {
     "data": {
      "text/plain": [
       "(6,)"
      ]
     },
     "execution_count": 10,
     "metadata": {},
     "output_type": "execute_result"
    }
   ],
   "source": [
    "a.shape"
   ]
  },
  {
   "cell_type": "code",
   "execution_count": 11,
   "metadata": {},
   "outputs": [
    {
     "data": {
      "text/plain": [
       "array([1, 2, 3, 4, 5, 6])"
      ]
     },
     "execution_count": 11,
     "metadata": {},
     "output_type": "execute_result"
    }
   ],
   "source": [
    "a"
   ]
  },
  {
   "cell_type": "code",
   "execution_count": 12,
   "metadata": {
    "colab": {
     "base_uri": "https://localhost:8080/",
     "height": 51
    },
    "executionInfo": {
     "elapsed": 1307,
     "status": "ok",
     "timestamp": 1587629774079,
     "user": {
      "displayName": "Sudha B G",
      "photoUrl": "",
      "userId": "11454725486752146023"
     },
     "user_tz": -330
    },
    "id": "zaaR7vBTZZQa",
    "outputId": "9f7b20cc-26e2-41f6-9b2a-a98da4269b24"
   },
   "outputs": [
    {
     "name": "stdout",
     "output_type": "stream",
     "text": [
      "[[1]\n",
      " [2]\n",
      " [3]\n",
      " [4]\n",
      " [5]\n",
      " [6]]\n"
     ]
    }
   ],
   "source": [
    "# we can force a to be a column vector\n",
    "a.shape=(6,1)\n",
    "print(a)"
   ]
  },
  {
   "cell_type": "code",
   "execution_count": 13,
   "metadata": {},
   "outputs": [
    {
     "data": {
      "text/plain": [
       "numpy.ndarray"
      ]
     },
     "execution_count": 13,
     "metadata": {},
     "output_type": "execute_result"
    }
   ],
   "source": [
    "type(a)"
   ]
  },
  {
   "cell_type": "code",
   "execution_count": null,
   "metadata": {},
   "outputs": [],
   "source": []
  },
  {
   "cell_type": "code",
   "execution_count": 14,
   "metadata": {
    "id": "pkRgWn54owBy",
    "outputId": "a5768fda-f1a0-4bcc-c275-eafc0e93add1"
   },
   "outputs": [
    {
     "name": "stdout",
     "output_type": "stream",
     "text": [
      "[[1 2 3 4 5 6]]\n"
     ]
    }
   ],
   "source": [
    "b=a.transpose()\n",
    "print(b)"
   ]
  },
  {
   "cell_type": "code",
   "execution_count": 29,
   "metadata": {},
   "outputs": [],
   "source": [
    "a.shape=(6, 1)"
   ]
  },
  {
   "cell_type": "code",
   "execution_count": 30,
   "metadata": {},
   "outputs": [
    {
     "data": {
      "text/plain": [
       "array([[1],\n",
       "       [2],\n",
       "       [3],\n",
       "       [4],\n",
       "       [5],\n",
       "       [6]])"
      ]
     },
     "execution_count": 30,
     "metadata": {},
     "output_type": "execute_result"
    }
   ],
   "source": [
    "a"
   ]
  },
  {
   "cell_type": "code",
   "execution_count": 31,
   "metadata": {},
   "outputs": [
    {
     "data": {
      "text/plain": [
       "array([[ 1,  2,  3,  4,  5,  6],\n",
       "       [ 2,  4,  6,  8, 10, 12],\n",
       "       [ 3,  6,  9, 12, 15, 18],\n",
       "       [ 4,  8, 12, 16, 20, 24],\n",
       "       [ 5, 10, 15, 20, 25, 30],\n",
       "       [ 6, 12, 18, 24, 30, 36]])"
      ]
     },
     "execution_count": 31,
     "metadata": {},
     "output_type": "execute_result"
    }
   ],
   "source": [
    "# This dot product can be thought of as product of two matrices\n",
    "# a is matirx of order 1 by 6( row vector)\n",
    "# b is a matrix of order 6 by 1( column vector)\n",
    "a.dot(b) # Resultant matrix of order 6 by 6"
   ]
  },
  {
   "cell_type": "markdown",
   "metadata": {},
   "source": [
    "## Addition substraction scalar multiplication of vectors"
   ]
  },
  {
   "cell_type": "code",
   "execution_count": 32,
   "metadata": {},
   "outputs": [
    {
     "name": "stdout",
     "output_type": "stream",
     "text": [
      "The addition is [3 6 9]\n",
      "The Substraction is [-1 -2 -3]\n",
      "The scalar multiplication is [2 4 6]\n"
     ]
    }
   ],
   "source": [
    "a = np.array([1, 2, 3])\n",
    "b = np.array([2, 4, 6])\n",
    "c = a + b # Addition of two vector\n",
    "d = a-b   # Substraction of vctors\n",
    "x = 2*a   # Scalar multiplication\n",
    "print(\"The addition is\",c)\n",
    "print(\"The Substraction is\",d)\n",
    "print(\"The scalar multiplication is\",x)"
   ]
  },
  {
   "cell_type": "markdown",
   "metadata": {
    "id": "vYcnCH-6KXcW"
   },
   "source": [
    "### Matrix Creation and manipulation"
   ]
  },
  {
   "cell_type": "code",
   "execution_count": 33,
   "metadata": {
    "colab": {
     "base_uri": "https://localhost:8080/",
     "height": 221
    },
    "executionInfo": {
     "elapsed": 2020,
     "status": "ok",
     "timestamp": 1587630881370,
     "user": {
      "displayName": "Sudha B G",
      "photoUrl": "",
      "userId": "11454725486752146023"
     },
     "user_tz": -330
    },
    "id": "u6SrqWy3ZZQn",
    "outputId": "1e875dd0-42c0-4670-ff40-fade1aa89a4f"
   },
   "outputs": [
    {
     "name": "stdout",
     "output_type": "stream",
     "text": [
      "[[0. 0. 0.]\n",
      " [0. 0. 0.]\n",
      " [0. 0. 0.]]\n"
     ]
    }
   ],
   "source": [
    "# Create a matrix with all zeros\n",
    "a = np.zeros((3,3))\n",
    "print (a)"
   ]
  },
  {
   "cell_type": "code",
   "execution_count": 34,
   "metadata": {
    "id": "jpRmoTO9owB5",
    "outputId": "b5d2dd86-190c-4cb0-a39f-1b21a7fd877e"
   },
   "outputs": [
    {
     "name": "stdout",
     "output_type": "stream",
     "text": [
      "[[1. 1. 1.]\n",
      " [1. 1. 1.]\n",
      " [1. 1. 1.]]\n"
     ]
    }
   ],
   "source": [
    "# Create a 3 x 3matrix with all ones\n",
    "b = np.ones((3,3))\n",
    "print (b)"
   ]
  },
  {
   "cell_type": "code",
   "execution_count": 35,
   "metadata": {
    "id": "LBXsMxXdowB9",
    "outputId": "ccd4f785-f934-4837-b96c-98bad44ae8fc"
   },
   "outputs": [
    {
     "name": "stdout",
     "output_type": "stream",
     "text": [
      "[[1.1 1.1 1.1]\n",
      " [1.1 1.1 1.1]\n",
      " [1.1 1.1 1.1]]\n"
     ]
    }
   ],
   "source": [
    "# Create a 3 x 3 matrix with the same constant 1.1\n",
    "c = np.full((3,3), 1.1)\n",
    "print (c)"
   ]
  },
  {
   "cell_type": "code",
   "execution_count": null,
   "metadata": {
    "id": "DbUcjS6uowB_",
    "outputId": "243135f0-5440-46c7-9cf7-209b84455d5c"
   },
   "outputs": [],
   "source": [
    "# Create a 3 x 3 matrix  with random values\n",
    "d = np.random.random((3,3))\n",
    "print (d)"
   ]
  },
  {
   "cell_type": "code",
   "execution_count": 36,
   "metadata": {
    "colab": {
     "base_uri": "https://localhost:8080/",
     "height": 68
    },
    "executionInfo": {
     "elapsed": 952,
     "status": "ok",
     "timestamp": 1587630968785,
     "user": {
      "displayName": "Sudha B G",
      "photoUrl": "",
      "userId": "11454725486752146023"
     },
     "user_tz": -330
    },
    "id": "QbVpXWq5ZZQq",
    "outputId": "98af4a52-2778-4986-c4eb-5cf8c41a0e86",
    "scrolled": true
   },
   "outputs": [
    {
     "name": "stdout",
     "output_type": "stream",
     "text": [
      "[[1 2]\n",
      " [3 4]\n",
      " [5 6]]\n"
     ]
    },
    {
     "data": {
      "text/plain": [
       "(3, 2)"
      ]
     },
     "execution_count": 36,
     "metadata": {},
     "output_type": "execute_result"
    }
   ],
   "source": [
    "# Create a matrix with all elements specified. Each list is a row.\n",
    "A=np.array([[1,2],[3,4],[5,6]])\n",
    "print (A)\n",
    "A.shape"
   ]
  },
  {
   "cell_type": "code",
   "execution_count": 37,
   "metadata": {
    "colab": {
     "base_uri": "https://localhost:8080/",
     "height": 34
    },
    "executionInfo": {
     "elapsed": 1219,
     "status": "ok",
     "timestamp": 1587630989445,
     "user": {
      "displayName": "Sudha B G",
      "photoUrl": "",
      "userId": "11454725486752146023"
     },
     "user_tz": -330
    },
    "id": "8LmvrKGmLj3N",
    "outputId": "312363ae-ecb7-4b38-c219-24cbc8c7abc2"
   },
   "outputs": [
    {
     "data": {
      "text/plain": [
       "numpy.ndarray"
      ]
     },
     "execution_count": 37,
     "metadata": {},
     "output_type": "execute_result"
    }
   ],
   "source": [
    "type(A)"
   ]
  },
  {
   "cell_type": "markdown",
   "metadata": {
    "id": "byDHoQtJLi_e"
   },
   "source": [
    "Higher dimensional matrix"
   ]
  },
  {
   "cell_type": "code",
   "execution_count": 38,
   "metadata": {
    "colab": {
     "base_uri": "https://localhost:8080/",
     "height": 51
    },
    "executionInfo": {
     "elapsed": 936,
     "status": "ok",
     "timestamp": 1587631105536,
     "user": {
      "displayName": "Sudha B G",
      "photoUrl": "",
      "userId": "11454725486752146023"
     },
     "user_tz": -330
    },
    "id": "FYeHi64kZZQy",
    "outputId": "3ce0f8d8-a8c1-4ca1-b3e6-afef4eca38b8"
   },
   "outputs": [
    {
     "data": {
      "text/plain": [
       "array([[ 1,  2,  3,  4],\n",
       "       [11, 12, 13, 14]])"
      ]
     },
     "execution_count": 38,
     "metadata": {},
     "output_type": "execute_result"
    }
   ],
   "source": [
    "# Create 2 x 4 matrix (2 rows and 4 columns )\n",
    "B=np.array([[1, 2, 3, 4], [11, 12, 13, 14]])\n",
    "B"
   ]
  },
  {
   "cell_type": "markdown",
   "metadata": {
    "id": "IE-2S3lGMFhG"
   },
   "source": [
    "The matrix B above is a rectangular matrix and of higher dimension. Let us check the shape of the matrix above."
   ]
  },
  {
   "cell_type": "code",
   "execution_count": 39,
   "metadata": {
    "colab": {
     "base_uri": "https://localhost:8080/",
     "height": 34
    },
    "executionInfo": {
     "elapsed": 2100,
     "status": "ok",
     "timestamp": 1587631181552,
     "user": {
      "displayName": "Sudha B G",
      "photoUrl": "",
      "userId": "11454725486752146023"
     },
     "user_tz": -330
    },
    "id": "_p1tnIgvMSjl",
    "outputId": "6401c90d-63a9-40b1-8bf1-283e21e6bd2a"
   },
   "outputs": [
    {
     "data": {
      "text/plain": [
       "(2, 4)"
      ]
     },
     "execution_count": 39,
     "metadata": {},
     "output_type": "execute_result"
    }
   ],
   "source": [
    "B.shape"
   ]
  },
  {
   "cell_type": "markdown",
   "metadata": {
    "id": "Lk_VxyBbMabM"
   },
   "source": [
    "#### Transpose of a matrix"
   ]
  },
  {
   "cell_type": "code",
   "execution_count": 40,
   "metadata": {
    "id": "KZN2fDrhowCN",
    "outputId": "adbcdfe0-7578-4b67-bdd4-a1bd9c3674c3"
   },
   "outputs": [
    {
     "data": {
      "text/plain": [
       "array([[1, 2],\n",
       "       [3, 4],\n",
       "       [5, 6]])"
      ]
     },
     "execution_count": 40,
     "metadata": {},
     "output_type": "execute_result"
    }
   ],
   "source": [
    "A"
   ]
  },
  {
   "cell_type": "code",
   "execution_count": 41,
   "metadata": {
    "colab": {
     "base_uri": "https://localhost:8080/",
     "height": 51
    },
    "executionInfo": {
     "elapsed": 2107,
     "status": "ok",
     "timestamp": 1587635629790,
     "user": {
      "displayName": "Sudha B G",
      "photoUrl": "",
      "userId": "11454725486752146023"
     },
     "user_tz": -330
    },
    "id": "gRNEM3ZDZZQ5",
    "outputId": "d3d5a20f-b1b8-4c3d-8a6d-3afaa7f7dee8"
   },
   "outputs": [
    {
     "data": {
      "text/plain": [
       "array([[1, 3, 5],\n",
       "       [2, 4, 6]])"
      ]
     },
     "execution_count": 41,
     "metadata": {},
     "output_type": "execute_result"
    }
   ],
   "source": [
    "# Transpose a matrix \n",
    "A.T"
   ]
  },
  {
   "cell_type": "markdown",
   "metadata": {
    "id": "2JO_pPhndZVx"
   },
   "source": [
    "The matrix changes shape such that the rows become columns and columns become rows."
   ]
  },
  {
   "cell_type": "markdown",
   "metadata": {
    "id": "-G6Iz7NcZZQ-"
   },
   "source": [
    "# Vector and Matrix Operations \n"
   ]
  },
  {
   "cell_type": "markdown",
   "metadata": {
    "id": "_XuNsCzL8yl6"
   },
   "source": [
    "### Magnitude of a vector / Vector norm\n",
    "\n",
    "The length of vector is called the magnitude / norm of the vector. \n",
    "\n",
    "There are Three norms - $L_1$ and $L_2$ and $L_\\infty$ norms.\n",
    "\n",
    "$L_1$ Norm - computes Manhattan distance $||u||_1 = |x_1|+|x_2|$\n",
    "\n",
    "$L_2$ Norm - computes Euclidean distance. By default, it uses the L2 norm. $||u||_2=\\sqrt(x_1^2+x_2^2)$ \n",
    "\n",
    "$L_\\infty$ Norm - computes Chebeyshev norm  is also known as chessboard distance, since in the game of chess the minimum number of moves needed by a king to go from one square on a chessboard to another equals the Chebyshev distance between the centers of the squares\n",
    "$||u||_\\infty = max $\\{|x_1|,|x_2|}\n",
    "\n",
    "For $L_1$ norm, the argument, ord = 1 should be passed. \n"
   ]
  },
  {
   "cell_type": "code",
   "execution_count": 42,
   "metadata": {
    "id": "t7GsujDK8xlJ"
   },
   "outputs": [],
   "source": [
    "u  = np.array([1,2,3,4,5])"
   ]
  },
  {
   "cell_type": "code",
   "execution_count": 43,
   "metadata": {
    "colab": {
     "base_uri": "https://localhost:8080/"
    },
    "executionInfo": {
     "elapsed": 803,
     "status": "ok",
     "timestamp": 1617068277587,
     "user": {
      "displayName": "Mallikarjuna Doddamane",
      "photoUrl": "https://lh3.googleusercontent.com/a-/AOh14GjOdnL6KUzzQMPHfk6as2xRMsOSbJoBMF9oJSaK=s64",
      "userId": "11697854241316775674"
     },
     "user_tz": -330
    },
    "id": "zVH5X2RzowCY",
    "outputId": "489fce03-c2a2-40be-c070-8b0794a31588"
   },
   "outputs": [
    {
     "data": {
      "text/plain": [
       "array([1, 2, 3, 4, 5])"
      ]
     },
     "execution_count": 43,
     "metadata": {},
     "output_type": "execute_result"
    }
   ],
   "source": [
    "u"
   ]
  },
  {
   "cell_type": "code",
   "execution_count": 55,
   "metadata": {},
   "outputs": [
    {
     "data": {
      "text/plain": [
       "7.416198487095663"
      ]
     },
     "execution_count": 55,
     "metadata": {},
     "output_type": "execute_result"
    }
   ],
   "source": [
    "math.sqrt(55.0)"
   ]
  },
  {
   "cell_type": "code",
   "execution_count": 54,
   "metadata": {},
   "outputs": [
    {
     "data": {
      "text/plain": [
       "55.0"
      ]
     },
     "execution_count": 54,
     "metadata": {},
     "output_type": "execute_result"
    }
   ],
   "source": [
    "5.477225575051661 * 5.477225575051661 + 25"
   ]
  },
  {
   "cell_type": "code",
   "execution_count": 44,
   "metadata": {
    "colab": {
     "base_uri": "https://localhost:8080/"
    },
    "executionInfo": {
     "elapsed": 819,
     "status": "ok",
     "timestamp": 1617068280847,
     "user": {
      "displayName": "Mallikarjuna Doddamane",
      "photoUrl": "https://lh3.googleusercontent.com/a-/AOh14GjOdnL6KUzzQMPHfk6as2xRMsOSbJoBMF9oJSaK=s64",
      "userId": "11697854241316775674"
     },
     "user_tz": -330
    },
    "id": "5TBXSR5IowCa",
    "outputId": "03b051ff-b8f6-4699-ad39-8048611dba09"
   },
   "outputs": [
    {
     "data": {
      "text/plain": [
       "7.416198487095663"
      ]
     },
     "execution_count": 44,
     "metadata": {},
     "output_type": "execute_result"
    }
   ],
   "source": [
    "np.linalg.norm(u) # Euclidean Distance L_2 norm"
   ]
  },
  {
   "cell_type": "code",
   "execution_count": 45,
   "metadata": {
    "colab": {
     "base_uri": "https://localhost:8080/"
    },
    "executionInfo": {
     "elapsed": 621,
     "status": "ok",
     "timestamp": 1617068291745,
     "user": {
      "displayName": "Mallikarjuna Doddamane",
      "photoUrl": "https://lh3.googleusercontent.com/a-/AOh14GjOdnL6KUzzQMPHfk6as2xRMsOSbJoBMF9oJSaK=s64",
      "userId": "11697854241316775674"
     },
     "user_tz": -330
    },
    "id": "PnJncx__owCc",
    "outputId": "0edb374e-8151-4d75-d1ab-4e5ad2976980"
   },
   "outputs": [
    {
     "data": {
      "text/plain": [
       "7.416198487095663"
      ]
     },
     "execution_count": 45,
     "metadata": {},
     "output_type": "execute_result"
    }
   ],
   "source": [
    "np.linalg.norm(u, ord=2)"
   ]
  },
  {
   "cell_type": "code",
   "execution_count": 46,
   "metadata": {
    "colab": {
     "base_uri": "https://localhost:8080/"
    },
    "executionInfo": {
     "elapsed": 801,
     "status": "ok",
     "timestamp": 1617068302830,
     "user": {
      "displayName": "Mallikarjuna Doddamane",
      "photoUrl": "https://lh3.googleusercontent.com/a-/AOh14GjOdnL6KUzzQMPHfk6as2xRMsOSbJoBMF9oJSaK=s64",
      "userId": "11697854241316775674"
     },
     "user_tz": -330
    },
    "id": "l_L2rSCuowCf",
    "outputId": "4a8ed20b-f9c3-4cce-f847-21057cf55012"
   },
   "outputs": [
    {
     "data": {
      "text/plain": [
       "15.0"
      ]
     },
     "execution_count": 46,
     "metadata": {},
     "output_type": "execute_result"
    }
   ],
   "source": [
    "np.linalg.norm(u, ord=1) # Manhattan Distance"
   ]
  },
  {
   "cell_type": "code",
   "execution_count": 56,
   "metadata": {},
   "outputs": [
    {
     "data": {
      "text/plain": [
       "5.0"
      ]
     },
     "execution_count": 56,
     "metadata": {},
     "output_type": "execute_result"
    }
   ],
   "source": [
    "np.linalg.norm(u, ord=np.inf)"
   ]
  },
  {
   "cell_type": "code",
   "execution_count": 57,
   "metadata": {},
   "outputs": [],
   "source": [
    "from scipy.spatial import distance"
   ]
  },
  {
   "cell_type": "code",
   "execution_count": 58,
   "metadata": {},
   "outputs": [
    {
     "data": {
      "text/plain": [
       "1"
      ]
     },
     "execution_count": 58,
     "metadata": {},
     "output_type": "execute_result"
    }
   ],
   "source": [
    "distance.chebyshev([1, 0, 0], [0, 1, 0]) # max{|1-0|,|0-1|,|0-0|}"
   ]
  },
  {
   "cell_type": "markdown",
   "metadata": {
    "id": "1rcWih_Qhiv4"
   },
   "source": [
    "## Matrix/Vector Algebra\n",
    "All the basic arithmetic operations can be performed on vectors of same length. \n",
    "\n",
    "Addition and Subtraction: \n",
    "Both addition and subtraction can be performed using numpy. It is elementwise addition and subtraction ('+' & '-')\n",
    "\n",
    "Vector Multiplication and Division: \n",
    "Both multiplication and division can be performed using numpy '*' and '/'."
   ]
  },
  {
   "cell_type": "code",
   "execution_count": 59,
   "metadata": {
    "id": "HGULM944jEXZ"
   },
   "outputs": [],
   "source": [
    "A=np.array([[1,2],[3,4],[5,6]]) # Matrix of order 2 by 2\n",
    "B=np.array([[11,12],[13,14],[15,16]]) # Matrix of order 2 by 2"
   ]
  },
  {
   "cell_type": "code",
   "execution_count": 60,
   "metadata": {
    "colab": {
     "base_uri": "https://localhost:8080/"
    },
    "executionInfo": {
     "elapsed": 853,
     "status": "ok",
     "timestamp": 1617068634182,
     "user": {
      "displayName": "Mallikarjuna Doddamane",
      "photoUrl": "https://lh3.googleusercontent.com/a-/AOh14GjOdnL6KUzzQMPHfk6as2xRMsOSbJoBMF9oJSaK=s64",
      "userId": "11697854241316775674"
     },
     "user_tz": -330
    },
    "id": "JhpU0myVowCl",
    "outputId": "0a3d78f3-6939-402a-91e7-c7d8920247b2"
   },
   "outputs": [
    {
     "data": {
      "text/plain": [
       "array([[12, 14],\n",
       "       [16, 18],\n",
       "       [20, 22]])"
      ]
     },
     "execution_count": 60,
     "metadata": {},
     "output_type": "execute_result"
    }
   ],
   "source": [
    "# Addition:\n",
    "C = A + B\n",
    "C   # matrix of order 2 by 2"
   ]
  },
  {
   "cell_type": "code",
   "execution_count": 61,
   "metadata": {
    "colab": {
     "base_uri": "https://localhost:8080/",
     "height": 68
    },
    "executionInfo": {
     "elapsed": 1012,
     "status": "ok",
     "timestamp": 1587637277491,
     "user": {
      "displayName": "Sudha B G",
      "photoUrl": "",
      "userId": "11454725486752146023"
     },
     "user_tz": -330
    },
    "id": "SU7PEmyCjcG3",
    "outputId": "c55d23cd-cb8f-43d8-a09b-04e82b0afe33"
   },
   "outputs": [
    {
     "data": {
      "text/plain": [
       "array([[-10, -10],\n",
       "       [-10, -10],\n",
       "       [-10, -10]])"
      ]
     },
     "execution_count": 61,
     "metadata": {},
     "output_type": "execute_result"
    }
   ],
   "source": [
    "# Subtraction:\n",
    "C= A-B\n",
    "C"
   ]
  },
  {
   "cell_type": "code",
   "execution_count": 64,
   "metadata": {},
   "outputs": [
    {
     "name": "stdout",
     "output_type": "stream",
     "text": [
      "[[1 2]\n",
      " [3 4]\n",
      " [5 6]]\n",
      "[[11 12]\n",
      " [13 14]\n",
      " [15 16]]\n"
     ]
    }
   ],
   "source": [
    "print(A)\n",
    "print(B)"
   ]
  },
  {
   "cell_type": "code",
   "execution_count": 62,
   "metadata": {
    "colab": {
     "base_uri": "https://localhost:8080/",
     "height": 68
    },
    "executionInfo": {
     "elapsed": 855,
     "status": "ok",
     "timestamp": 1587637313531,
     "user": {
      "displayName": "Sudha B G",
      "photoUrl": "",
      "userId": "11454725486752146023"
     },
     "user_tz": -330
    },
    "id": "HKzioIEFjnMZ",
    "outputId": "968b3b48-689b-4c03-80dd-40ed996da511"
   },
   "outputs": [
    {
     "data": {
      "text/plain": [
       "array([[11, 24],\n",
       "       [39, 56],\n",
       "       [75, 96]])"
      ]
     },
     "execution_count": 62,
     "metadata": {},
     "output_type": "execute_result"
    }
   ],
   "source": [
    "# Multiplication ( Component wise Multiplication-Hardmard Product)\n",
    "C = A * B\n",
    "C"
   ]
  },
  {
   "cell_type": "code",
   "execution_count": 65,
   "metadata": {},
   "outputs": [
    {
     "data": {
      "text/plain": [
       "0.09090909090909091"
      ]
     },
     "execution_count": 65,
     "metadata": {},
     "output_type": "execute_result"
    }
   ],
   "source": [
    "import numpy as np\n",
    "A=np.array([[1,2],[3,4],[5,6]])\n",
    "B=np.array([[11,12],[13,14],[15,16]])\n",
    "A[0,0]/B[0,0]"
   ]
  },
  {
   "cell_type": "code",
   "execution_count": 66,
   "metadata": {
    "colab": {
     "base_uri": "https://localhost:8080/",
     "height": 68
    },
    "executionInfo": {
     "elapsed": 1916,
     "status": "ok",
     "timestamp": 1587637354430,
     "user": {
      "displayName": "Sudha B G",
      "photoUrl": "",
      "userId": "11454725486752146023"
     },
     "user_tz": -330
    },
    "id": "dfbifGQNjnW8",
    "outputId": "d4134b93-0dd1-426b-e2fd-cf29d2a91f38"
   },
   "outputs": [
    {
     "data": {
      "text/plain": [
       "array([[0.09090909, 0.16666667],\n",
       "       [0.23076923, 0.28571429],\n",
       "       [0.33333333, 0.375     ]])"
      ]
     },
     "execution_count": 66,
     "metadata": {},
     "output_type": "execute_result"
    }
   ],
   "source": [
    "# Division is elementwise \n",
    "C=A/B\n",
    "C"
   ]
  },
  {
   "cell_type": "code",
   "execution_count": 67,
   "metadata": {},
   "outputs": [
    {
     "data": {
      "text/plain": [
       "array([[11, 24],\n",
       "       [39, 56],\n",
       "       [75, 96]])"
      ]
     },
     "execution_count": 67,
     "metadata": {},
     "output_type": "execute_result"
    }
   ],
   "source": [
    "A*B # element wise called Hardmard product"
   ]
  },
  {
   "cell_type": "markdown",
   "metadata": {
    "id": "7594kF6JhheC"
   },
   "source": [
    "## Dot product\n",
    "\n",
    "For 1-d arrays, the dot product/ inner product is defined using np.dot function.\n",
    "\n",
    "For 2-D arrays, it is matrix multiplication which is done using matmul or a @ b.\n",
    "\n",
    "If a scalar is multiplied with the vector, then it is equivalent to multiplying the scalar with all the elements of vector or matrix and using np.multiply (a, b) or a * b is preferred."
   ]
  },
  {
   "cell_type": "code",
   "execution_count": 68,
   "metadata": {
    "colab": {
     "base_uri": "https://localhost:8080/"
    },
    "executionInfo": {
     "elapsed": 785,
     "status": "ok",
     "timestamp": 1617068577136,
     "user": {
      "displayName": "Mallikarjuna Doddamane",
      "photoUrl": "https://lh3.googleusercontent.com/a-/AOh14GjOdnL6KUzzQMPHfk6as2xRMsOSbJoBMF9oJSaK=s64",
      "userId": "11697854241316775674"
     },
     "user_tz": -330
    },
    "id": "keBQckowZZQ-",
    "outputId": "9214d12d-c9a1-44af-b1ff-8abb5bd0f496"
   },
   "outputs": [
    {
     "data": {
      "text/plain": [
       "array([[1, 2],\n",
       "       [3, 4]])"
      ]
     },
     "execution_count": 68,
     "metadata": {},
     "output_type": "execute_result"
    }
   ],
   "source": [
    "a = [[1, 2], [3, 4]]     \n",
    "np.array(a)\n"
   ]
  },
  {
   "cell_type": "code",
   "execution_count": 69,
   "metadata": {
    "colab": {
     "base_uri": "https://localhost:8080/"
    },
    "executionInfo": {
     "elapsed": 619,
     "status": "ok",
     "timestamp": 1617068579583,
     "user": {
      "displayName": "Mallikarjuna Doddamane",
      "photoUrl": "https://lh3.googleusercontent.com/a-/AOh14GjOdnL6KUzzQMPHfk6as2xRMsOSbJoBMF9oJSaK=s64",
      "userId": "11697854241316775674"
     },
     "user_tz": -330
    },
    "id": "G9EnGhVzowCx",
    "outputId": "2e3272cf-69b9-4ccf-96a1-4470b6fd8b0b"
   },
   "outputs": [
    {
     "data": {
      "text/plain": [
       "array([[5, 6],\n",
       "       [7, 8]])"
      ]
     },
     "execution_count": 69,
     "metadata": {},
     "output_type": "execute_result"
    }
   ],
   "source": [
    "b = [[5, 6], [7, 8]]\n",
    "np.array(b)"
   ]
  },
  {
   "cell_type": "code",
   "execution_count": 73,
   "metadata": {},
   "outputs": [
    {
     "name": "stdout",
     "output_type": "stream",
     "text": [
      "[[1, 2], [3, 4]]\n",
      "[[5, 6], [7, 8]]\n"
     ]
    }
   ],
   "source": [
    "print(a)\n",
    "print(b)"
   ]
  },
  {
   "cell_type": "code",
   "execution_count": 74,
   "metadata": {
    "colab": {
     "base_uri": "https://localhost:8080/"
    },
    "executionInfo": {
     "elapsed": 975,
     "status": "ok",
     "timestamp": 1617068581840,
     "user": {
      "displayName": "Mallikarjuna Doddamane",
      "photoUrl": "https://lh3.googleusercontent.com/a-/AOh14GjOdnL6KUzzQMPHfk6as2xRMsOSbJoBMF9oJSaK=s64",
      "userId": "11697854241316775674"
     },
     "user_tz": -330
    },
    "id": "UtjxA5CoowC0",
    "outputId": "888734de-a9d8-48ea-bd53-2f600a157907"
   },
   "outputs": [
    {
     "data": {
      "text/plain": [
       "array([[19, 22],\n",
       "       [43, 50]])"
      ]
     },
     "execution_count": 74,
     "metadata": {},
     "output_type": "execute_result"
    }
   ],
   "source": [
    "# matrix-matrix multiplication\n",
    "np.dot(a, b)         #[[1*5+2*7, 1*6+2*8], \n",
    "                     # [3*5+4*7, 3*6+4*8]]"
   ]
  },
  {
   "cell_type": "markdown",
   "metadata": {},
   "source": [
    "# Cosine Similarity\n",
    "$cos(\\theta)= \\frac{u.v}{||u||||v||}$"
   ]
  },
  {
   "cell_type": "code",
   "execution_count": 75,
   "metadata": {},
   "outputs": [
    {
     "data": {
      "text/plain": [
       "array([0.00294932])"
      ]
     },
     "execution_count": 75,
     "metadata": {},
     "output_type": "execute_result"
    }
   ],
   "source": [
    "a = np.array([12000,34])\n",
    "b = np.array([174,1500000])\n",
    "cos_theta = np.dot(a,b)/[np.linalg.norm(a)*np.linalg.norm(b)] # Euclidean Distance]\n",
    "cos_theta"
   ]
  },
  {
   "cell_type": "code",
   "execution_count": 76,
   "metadata": {
    "colab": {
     "base_uri": "https://localhost:8080/"
    },
    "executionInfo": {
     "elapsed": 650,
     "status": "ok",
     "timestamp": 1617068643766,
     "user": {
      "displayName": "Mallikarjuna Doddamane",
      "photoUrl": "https://lh3.googleusercontent.com/a-/AOh14GjOdnL6KUzzQMPHfk6as2xRMsOSbJoBMF9oJSaK=s64",
      "userId": "11697854241316775674"
     },
     "user_tz": -330
    },
    "id": "45FeQFyVowC2",
    "outputId": "6513945d-8d1b-4710-d8fe-031ef559c4c1"
   },
   "outputs": [
    {
     "data": {
      "text/plain": [
       "array([12000,    34])"
      ]
     },
     "execution_count": 76,
     "metadata": {},
     "output_type": "execute_result"
    }
   ],
   "source": [
    "a"
   ]
  },
  {
   "cell_type": "code",
   "execution_count": 78,
   "metadata": {
    "colab": {
     "base_uri": "https://localhost:8080/"
    },
    "executionInfo": {
     "elapsed": 814,
     "status": "ok",
     "timestamp": 1617068646015,
     "user": {
      "displayName": "Mallikarjuna Doddamane",
      "photoUrl": "https://lh3.googleusercontent.com/a-/AOh14GjOdnL6KUzzQMPHfk6as2xRMsOSbJoBMF9oJSaK=s64",
      "userId": "11697854241316775674"
     },
     "user_tz": -330
    },
    "id": "m8iygHZHowC6",
    "outputId": "44b3ada2-b9fb-4645-89ad-4933b058ce9b"
   },
   "outputs": [
    {
     "data": {
      "text/plain": [
       "array([    174, 1500000])"
      ]
     },
     "execution_count": 78,
     "metadata": {},
     "output_type": "execute_result"
    }
   ],
   "source": [
    "b"
   ]
  },
  {
   "cell_type": "code",
   "execution_count": 79,
   "metadata": {},
   "outputs": [
    {
     "data": {
      "text/plain": [
       "53088000"
      ]
     },
     "execution_count": 79,
     "metadata": {},
     "output_type": "execute_result"
    }
   ],
   "source": [
    "np.dot(a,b)"
   ]
  },
  {
   "cell_type": "code",
   "execution_count": 84,
   "metadata": {},
   "outputs": [
    {
     "data": {
      "text/plain": [
       "12000.048166569999"
      ]
     },
     "execution_count": 84,
     "metadata": {},
     "output_type": "execute_result"
    }
   ],
   "source": [
    "np.linalg.norm(a)"
   ]
  },
  {
   "cell_type": "code",
   "execution_count": 86,
   "metadata": {},
   "outputs": [
    {
     "name": "stdout",
     "output_type": "stream",
     "text": [
      "12000.048166569999\n"
     ]
    }
   ],
   "source": [
    "print(math.sqrt(12000 * 12000 + 34 * 34 ))"
   ]
  },
  {
   "cell_type": "code",
   "execution_count": 81,
   "metadata": {},
   "outputs": [
    {
     "data": {
      "text/plain": [
       "1500000.010092"
      ]
     },
     "execution_count": 81,
     "metadata": {},
     "output_type": "execute_result"
    }
   ],
   "source": [
    "np.linalg.norm(b)"
   ]
  },
  {
   "cell_type": "code",
   "execution_count": 87,
   "metadata": {},
   "outputs": [
    {
     "name": "stdout",
     "output_type": "stream",
     "text": [
      "1500000.010092\n"
     ]
    }
   ],
   "source": [
    "print(math.sqrt(174 * 174 + 1500000 * 1500000))"
   ]
  },
  {
   "cell_type": "markdown",
   "metadata": {},
   "source": [
    "# Multiplication Error"
   ]
  },
  {
   "cell_type": "code",
   "execution_count": null,
   "metadata": {
    "colab": {
     "base_uri": "https://localhost:8080/",
     "height": 218
    },
    "executionInfo": {
     "elapsed": 810,
     "status": "error",
     "timestamp": 1617068648741,
     "user": {
      "displayName": "Mallikarjuna Doddamane",
      "photoUrl": "https://lh3.googleusercontent.com/a-/AOh14GjOdnL6KUzzQMPHfk6as2xRMsOSbJoBMF9oJSaK=s64",
      "userId": "11697854241316775674"
     },
     "user_tz": -330
    },
    "id": "iYe7ogyvZZRE",
    "outputId": "25a8a5e1-6f10-4d0a-ac50-ddd2c81846e9",
    "scrolled": true
   },
   "outputs": [],
   "source": [
    "# matrix-matrix multiplication\n",
    "np.dot(A,B)"
   ]
  },
  {
   "cell_type": "code",
   "execution_count": null,
   "metadata": {
    "colab": {
     "base_uri": "https://localhost:8080/",
     "height": 270
    },
    "executionInfo": {
     "elapsed": 825,
     "status": "error",
     "timestamp": 1617068668208,
     "user": {
      "displayName": "Mallikarjuna Doddamane",
      "photoUrl": "https://lh3.googleusercontent.com/a-/AOh14GjOdnL6KUzzQMPHfk6as2xRMsOSbJoBMF9oJSaK=s64",
      "userId": "11697854241316775674"
     },
     "user_tz": -330
    },
    "id": "kBqheDI0ZZRQ",
    "outputId": "05bb064d-9b46-4cbf-bc89-2795f8dd554b"
   },
   "outputs": [],
   "source": [
    "# matrix-matrix multiplication \n",
    "# size should match!\n",
    "np.dot(B,A)\n",
    "\n",
    "#A.B is not the same as B.A"
   ]
  },
  {
   "cell_type": "code",
   "execution_count": null,
   "metadata": {
    "id": "-NVPMf20ZZRe"
   },
   "outputs": [],
   "source": [
    "# coefficient matrix A and a vector b, The result is a vector\n",
    "A=np.array([[1, 2],[3, 4]])\n",
    "b=np.array([1, 2])"
   ]
  },
  {
   "cell_type": "code",
   "execution_count": null,
   "metadata": {
    "colab": {
     "base_uri": "https://localhost:8080/"
    },
    "executionInfo": {
     "elapsed": 828,
     "status": "ok",
     "timestamp": 1617068686312,
     "user": {
      "displayName": "Mallikarjuna Doddamane",
      "photoUrl": "https://lh3.googleusercontent.com/a-/AOh14GjOdnL6KUzzQMPHfk6as2xRMsOSbJoBMF9oJSaK=s64",
      "userId": "11697854241316775674"
     },
     "user_tz": -330
    },
    "id": "Uoj63bSzowDE",
    "outputId": "9c3049d5-1722-4494-bf9a-525c8026c32e"
   },
   "outputs": [],
   "source": [
    "np.dot(A,b)"
   ]
  },
  {
   "cell_type": "markdown",
   "metadata": {
    "id": "u_PcuU0lFJfG"
   },
   "source": [
    "### Scalar and Vector Projections\n",
    "- If u and v are two vectors then we define $proj_v(u)=\\frac{u.v}{||v||}$\n",
    "- We also define vector projection as \n",
    "$proj_v(u) = \\frac{u.v}{||v||^2}{v}$"
   ]
  },
  {
   "cell_type": "code",
   "execution_count": null,
   "metadata": {
    "id": "sRnvHLQcFI4I"
   },
   "outputs": [],
   "source": [
    "# Scalar Projection of u on v\n",
    "u = np.array([6, 7])\n",
    "v = np.array([5, -12])"
   ]
  },
  {
   "cell_type": "code",
   "execution_count": null,
   "metadata": {},
   "outputs": [],
   "source": [
    "u*v"
   ]
  },
  {
   "cell_type": "code",
   "execution_count": null,
   "metadata": {},
   "outputs": [],
   "source": [
    "np.dot(u,v)"
   ]
  },
  {
   "cell_type": "code",
   "execution_count": null,
   "metadata": {
    "colab": {
     "base_uri": "https://localhost:8080/"
    },
    "executionInfo": {
     "elapsed": 767,
     "status": "ok",
     "timestamp": 1617068702635,
     "user": {
      "displayName": "Mallikarjuna Doddamane",
      "photoUrl": "https://lh3.googleusercontent.com/a-/AOh14GjOdnL6KUzzQMPHfk6as2xRMsOSbJoBMF9oJSaK=s64",
      "userId": "11697854241316775674"
     },
     "user_tz": -330
    },
    "id": "kNxzYhw6owDK",
    "outputId": "fd21ddbc-07b8-49f2-b780-def1ec52a739"
   },
   "outputs": [],
   "source": [
    "sc_proj = np.dot(u, v) / np.linalg.norm(v)   # u.v/||v||\n",
    "sc_proj"
   ]
  },
  {
   "cell_type": "code",
   "execution_count": null,
   "metadata": {
    "colab": {
     "base_uri": "https://localhost:8080/"
    },
    "executionInfo": {
     "elapsed": 758,
     "status": "ok",
     "timestamp": 1617068730499,
     "user": {
      "displayName": "Mallikarjuna Doddamane",
      "photoUrl": "https://lh3.googleusercontent.com/a-/AOh14GjOdnL6KUzzQMPHfk6as2xRMsOSbJoBMF9oJSaK=s64",
      "userId": "11697854241316775674"
     },
     "user_tz": -330
    },
    "id": "ney9_fZf4BqD",
    "outputId": "d680eeaf-1ff6-4020-f328-e4a7cb56c37c"
   },
   "outputs": [],
   "source": [
    "# Vector projection of u on v\n",
    "vec_proj = (v * sc_proj)/ np.linalg.norm(v)   # (v * (np.dot(u,v)/np.linalg.norm(v)) / np.linalg.norm(v)  \n",
    "vec_proj"
   ]
  },
  {
   "cell_type": "code",
   "execution_count": null,
   "metadata": {
    "colab": {
     "base_uri": "https://localhost:8080/"
    },
    "executionInfo": {
     "elapsed": 792,
     "status": "ok",
     "timestamp": 1617068737158,
     "user": {
      "displayName": "Mallikarjuna Doddamane",
      "photoUrl": "https://lh3.googleusercontent.com/a-/AOh14GjOdnL6KUzzQMPHfk6as2xRMsOSbJoBMF9oJSaK=s64",
      "userId": "11697854241316775674"
     },
     "user_tz": -330
    },
    "id": "62wm07ARF6va",
    "outputId": "dcc373dd-e7c8-48c5-9d53-fbaec6ee5e89"
   },
   "outputs": [],
   "source": [
    "# Vector Projection (vector * scalar projection) / v norm\n",
    "\n",
    "u = np.array([1, 2, 3])   # vector u \n",
    "v = np.array([5, 6, 2])   # vector v: \n",
    "  \n",
    "vec_proj = v * (np.dot(u,v)/np.linalg.norm(v)) / np.linalg.norm(v)\n",
    "\n",
    "print(\"Projection of Vector u on Vector v is: \", vec_proj) \n"
   ]
  },
  {
   "cell_type": "markdown",
   "metadata": {
    "id": "eArOydbNls78"
   },
   "source": [
    "### Identity Matrix"
   ]
  },
  {
   "cell_type": "code",
   "execution_count": null,
   "metadata": {
    "colab": {
     "base_uri": "https://localhost:8080/"
    },
    "executionInfo": {
     "elapsed": 945,
     "status": "ok",
     "timestamp": 1617068742662,
     "user": {
      "displayName": "Mallikarjuna Doddamane",
      "photoUrl": "https://lh3.googleusercontent.com/a-/AOh14GjOdnL6KUzzQMPHfk6as2xRMsOSbJoBMF9oJSaK=s64",
      "userId": "11697854241316775674"
     },
     "user_tz": -330
    },
    "id": "u4xFKFSNZZRh",
    "outputId": "e15836fd-794f-4e96-e903-c0173547c3ad"
   },
   "outputs": [],
   "source": [
    "# identity matrix \n",
    "eye3 = np.eye(3)\n",
    "eye3"
   ]
  },
  {
   "cell_type": "markdown",
   "metadata": {
    "id": "8mYDdH5b7VDx"
   },
   "source": [
    "### Linear Combination (Weighted sum of two vectors)\n",
    "\n",
    "$$\n",
    "\\vec{u}=\n",
    "\\begin{bmatrix}\n",
    "    1 \\\\\\\\\n",
    "    3\n",
    "\\end{bmatrix}\n",
    "$$\n",
    "and\n",
    "\n",
    "$$\n",
    "\\vec{v}=\n",
    "\\begin{bmatrix}\n",
    "    2 \\\\\\\\\n",
    "    1\n",
    "\\end{bmatrix}\n",
    "$$ \n",
    "The linear combination of $\\vec{u}$ and $\\vec{v}$ is\n",
    "\n",
    "$$\n",
    "a\\vec{u}+b\\vec{v}= a\n",
    "\\begin{bmatrix}\n",
    "    1 \\\\\\\\\n",
    "    3\n",
    "\\end{bmatrix} + b\\begin{bmatrix}\n",
    "    2 \\\\\\\\\n",
    "    1\n",
    "\\end{bmatrix}\n",
    "$$\n",
    "if $a=2$ and $b=1$:\n",
    "\n",
    "$$\n",
    "2\\vec{u}+\\vec{v}= 2\n",
    "\\begin{bmatrix}\n",
    "    1 \\\\\\\\\n",
    "    3\n",
    "\\end{bmatrix} +\n",
    "\\begin{bmatrix}\n",
    "    2 \\\\\\\\\n",
    "    1\n",
    "\\end{bmatrix} =\n",
    "\\begin{bmatrix}\n",
    "    2 \\cdot 1 + 2 \\\\\\\\\n",
    "    2 \\cdot 3 + 1\n",
    "\\end{bmatrix} =\n",
    "\\begin{bmatrix}\n",
    "    4 \\\\\\\\\n",
    "    7\n",
    "\\end{bmatrix}\n",
    "$$"
   ]
  },
  {
   "cell_type": "markdown",
   "metadata": {
    "id": "idT7nDSTl4B1"
   },
   "source": [
    "### Linear Independence\n",
    "Check for linear combination of vectors. If it zero, then the set of vectors is linearly independent.\n",
    "\n",
    "The no. of linearly independent columns will determine the no. of solutions.\n",
    "\n",
    "Direction of two linearly dependent vectors is the same.\n",
    "\n",
    "Determine whether the vectors are linearly independent of each other to see if the vectors form a basis,\n",
    "\n",
    "or to determine how many independent equations there are, \n",
    "\n",
    "or to determine how many independent reactions there are.\n",
    "\n",
    "The set S =$\\{v_1, v_2, v_3\\}$ of vectors in R3 is linearly independent if the only solution of\n",
    "\n",
    "$c_1v_1 + c_2v_2 + c_3v_3 = 0 $\n",
    "is $c_1, c_2, c_3 = 0 $\n",
    "\n"
   ]
  },
  {
   "cell_type": "code",
   "execution_count": null,
   "metadata": {
    "id": "4oxKIJ48_xWk"
   },
   "outputs": [],
   "source": [
    "u = np.array([[1],[0]])\n",
    "v= np.array([[0],[1]])\n",
    "w = np.array([[2], [1]])"
   ]
  },
  {
   "cell_type": "code",
   "execution_count": null,
   "metadata": {
    "id": "RPvay0XK7Mpy",
    "outputId": "9012db2e-13c6-4a37-d8bd-eda2ae6293ac"
   },
   "outputs": [],
   "source": [
    "lin_combination = 2*u + 1*v\n",
    "lin_combination         # w is a linear combination of u and v [ w is in the span of u and v]"
   ]
  },
  {
   "cell_type": "markdown",
   "metadata": {
    "id": "ScrG-NpCwL-5"
   },
   "source": [
    "## Types of Matrices"
   ]
  },
  {
   "cell_type": "code",
   "execution_count": null,
   "metadata": {
    "colab": {
     "base_uri": "https://localhost:8080/"
    },
    "executionInfo": {
     "elapsed": 951,
     "status": "ok",
     "timestamp": 1617068797623,
     "user": {
      "displayName": "Mallikarjuna Doddamane",
      "photoUrl": "https://lh3.googleusercontent.com/a-/AOh14GjOdnL6KUzzQMPHfk6as2xRMsOSbJoBMF9oJSaK=s64",
      "userId": "11697854241316775674"
     },
     "user_tz": -330
    },
    "id": "yKzUEUbbwL-5",
    "outputId": "0ba6b189-93f5-4256-dc97-c2807b4fcf18"
   },
   "outputs": [],
   "source": [
    "from numpy import array\n",
    "# list of data\n",
    "data = [[11, 22],[33, 44],[55, 66]]\n",
    "# array of data\n",
    "data = array(data)\n",
    "print('Rows: %d' % data.shape[0])\n",
    "print('Cols: %d' % data.shape[1])"
   ]
  },
  {
   "cell_type": "code",
   "execution_count": null,
   "metadata": {
    "id": "rgL_DG0TwL-9"
   },
   "outputs": [],
   "source": [
    "# triangular matrices\n",
    "from numpy import array\n",
    "from numpy import tril\n",
    "from numpy import triu"
   ]
  },
  {
   "cell_type": "code",
   "execution_count": null,
   "metadata": {
    "colab": {
     "base_uri": "https://localhost:8080/"
    },
    "executionInfo": {
     "elapsed": 808,
     "status": "ok",
     "timestamp": 1617068793468,
     "user": {
      "displayName": "Mallikarjuna Doddamane",
      "photoUrl": "https://lh3.googleusercontent.com/a-/AOh14GjOdnL6KUzzQMPHfk6as2xRMsOSbJoBMF9oJSaK=s64",
      "userId": "11697854241316775674"
     },
     "user_tz": -330
    },
    "id": "LdgVyKxcowDk",
    "outputId": "12ba362f-15f4-4f9c-d6bc-abe931d5b78f"
   },
   "outputs": [],
   "source": [
    "# define square matrix\n",
    "M = array([\n",
    "[1, 2, 3],\n",
    "[4, 5, 6],\n",
    "[7, 8, 9]])\n",
    "print(M)"
   ]
  },
  {
   "cell_type": "code",
   "execution_count": null,
   "metadata": {
    "colab": {
     "base_uri": "https://localhost:8080/"
    },
    "executionInfo": {
     "elapsed": 798,
     "status": "ok",
     "timestamp": 1617068803795,
     "user": {
      "displayName": "Mallikarjuna Doddamane",
      "photoUrl": "https://lh3.googleusercontent.com/a-/AOh14GjOdnL6KUzzQMPHfk6as2xRMsOSbJoBMF9oJSaK=s64",
      "userId": "11697854241316775674"
     },
     "user_tz": -330
    },
    "id": "c2qt1biKowDm",
    "outputId": "3b94f40a-91d6-43de-cc56-5a8383244167"
   },
   "outputs": [],
   "source": [
    "# lower triangular matrix\n",
    "lower = tril(M)\n",
    "print(lower)"
   ]
  },
  {
   "cell_type": "code",
   "execution_count": null,
   "metadata": {
    "colab": {
     "base_uri": "https://localhost:8080/"
    },
    "executionInfo": {
     "elapsed": 773,
     "status": "ok",
     "timestamp": 1617068806929,
     "user": {
      "displayName": "Mallikarjuna Doddamane",
      "photoUrl": "https://lh3.googleusercontent.com/a-/AOh14GjOdnL6KUzzQMPHfk6as2xRMsOSbJoBMF9oJSaK=s64",
      "userId": "11697854241316775674"
     },
     "user_tz": -330
    },
    "id": "7RRzJPMLowDp",
    "outputId": "d07414c6-05e8-40a5-a4f3-29eeecf80f3b"
   },
   "outputs": [],
   "source": [
    "# upper triangular matrix\n",
    "upper = triu(M)\n",
    "print(upper)"
   ]
  },
  {
   "cell_type": "code",
   "execution_count": null,
   "metadata": {
    "id": "thanBRBVwL_A"
   },
   "outputs": [],
   "source": [
    "# diagonal matrix\n",
    "from numpy import array\n",
    "from numpy import diag"
   ]
  },
  {
   "cell_type": "code",
   "execution_count": null,
   "metadata": {
    "colab": {
     "base_uri": "https://localhost:8080/"
    },
    "executionInfo": {
     "elapsed": 765,
     "status": "ok",
     "timestamp": 1617068815140,
     "user": {
      "displayName": "Mallikarjuna Doddamane",
      "photoUrl": "https://lh3.googleusercontent.com/a-/AOh14GjOdnL6KUzzQMPHfk6as2xRMsOSbJoBMF9oJSaK=s64",
      "userId": "11697854241316775674"
     },
     "user_tz": -330
    },
    "id": "nPEvelB_owDu",
    "outputId": "4df670a6-5949-4fda-bb27-8438af847fe1"
   },
   "outputs": [],
   "source": [
    "# define square matrix\n",
    "M = array([\n",
    "[1, 2, 3],\n",
    "[4, 5, 6],\n",
    "[7, 8, 9]])\n",
    "print(M)"
   ]
  },
  {
   "cell_type": "code",
   "execution_count": null,
   "metadata": {
    "colab": {
     "base_uri": "https://localhost:8080/"
    },
    "executionInfo": {
     "elapsed": 851,
     "status": "ok",
     "timestamp": 1617068822302,
     "user": {
      "displayName": "Mallikarjuna Doddamane",
      "photoUrl": "https://lh3.googleusercontent.com/a-/AOh14GjOdnL6KUzzQMPHfk6as2xRMsOSbJoBMF9oJSaK=s64",
      "userId": "11697854241316775674"
     },
     "user_tz": -330
    },
    "id": "1rcNFzN4owDx",
    "outputId": "5ec350b6-e120-420e-a6e3-107a55db6ac2"
   },
   "outputs": [],
   "source": [
    "# extract diagonal vector\n",
    "d = diag(M)\n",
    "print(d)"
   ]
  },
  {
   "cell_type": "code",
   "execution_count": null,
   "metadata": {
    "colab": {
     "base_uri": "https://localhost:8080/"
    },
    "executionInfo": {
     "elapsed": 729,
     "status": "ok",
     "timestamp": 1617068828387,
     "user": {
      "displayName": "Mallikarjuna Doddamane",
      "photoUrl": "https://lh3.googleusercontent.com/a-/AOh14GjOdnL6KUzzQMPHfk6as2xRMsOSbJoBMF9oJSaK=s64",
      "userId": "11697854241316775674"
     },
     "user_tz": -330
    },
    "id": "kaS0Ck9sowD1",
    "outputId": "4a42b709-a16b-4fb5-d541-e45391f2df2f"
   },
   "outputs": [],
   "source": [
    "# create diagonal matrix from vector\n",
    "D = diag(d)\n",
    "print(D)"
   ]
  },
  {
   "cell_type": "code",
   "execution_count": null,
   "metadata": {
    "id": "i1GP34xAwL_D"
   },
   "outputs": [],
   "source": [
    "from numpy import identity"
   ]
  },
  {
   "cell_type": "code",
   "execution_count": null,
   "metadata": {
    "id": "pDv1Z3wvowD6",
    "outputId": "3785ef9a-8f09-447a-b923-3bc393bb0642"
   },
   "outputs": [],
   "source": [
    "I = identity(3)\n",
    "print(I)"
   ]
  },
  {
   "cell_type": "code",
   "execution_count": null,
   "metadata": {
    "id": "xckvPrSgf2je"
   },
   "outputs": [],
   "source": [
    "from numpy import array\n",
    "from numpy.linalg import inv"
   ]
  },
  {
   "cell_type": "markdown",
   "metadata": {},
   "source": [
    "- A matrix Q is called orthogonal if $ Q.Q^T= I$  or $Q^T= Q^{-1}$"
   ]
  },
  {
   "cell_type": "code",
   "execution_count": null,
   "metadata": {
    "colab": {
     "base_uri": "https://localhost:8080/"
    },
    "executionInfo": {
     "elapsed": 774,
     "status": "ok",
     "timestamp": 1617068840375,
     "user": {
      "displayName": "Mallikarjuna Doddamane",
      "photoUrl": "https://lh3.googleusercontent.com/a-/AOh14GjOdnL6KUzzQMPHfk6as2xRMsOSbJoBMF9oJSaK=s64",
      "userId": "11697854241316775674"
     },
     "user_tz": -330
    },
    "id": "EVD2bqegowEB",
    "outputId": "e0591538-4440-456c-b4fb-20bbeed1ca5c"
   },
   "outputs": [],
   "source": [
    "# define orthogonal matrix\n",
    "Q = array([ \n",
    "[2,-2, 1],\n",
    "[1, 2, 2],\n",
    "[2,-1, -2]])\n",
    "print(Q)"
   ]
  },
  {
   "cell_type": "code",
   "execution_count": null,
   "metadata": {
    "colab": {
     "base_uri": "https://localhost:8080/"
    },
    "executionInfo": {
     "elapsed": 755,
     "status": "ok",
     "timestamp": 1617068843764,
     "user": {
      "displayName": "Mallikarjuna Doddamane",
      "photoUrl": "https://lh3.googleusercontent.com/a-/AOh14GjOdnL6KUzzQMPHfk6as2xRMsOSbJoBMF9oJSaK=s64",
      "userId": "11697854241316775674"
     },
     "user_tz": -330
    },
    "id": "j4upSl3zowEF",
    "outputId": "da948d61-6388-4e1b-f2d3-99eed9d2469a"
   },
   "outputs": [],
   "source": [
    "# inverse equivalence\n",
    "V = inv(Q)\n",
    "#print(Q.T)\n",
    "print(V)"
   ]
  },
  {
   "cell_type": "code",
   "execution_count": null,
   "metadata": {
    "colab": {
     "base_uri": "https://localhost:8080/"
    },
    "executionInfo": {
     "elapsed": 801,
     "status": "ok",
     "timestamp": 1617068847929,
     "user": {
      "displayName": "Mallikarjuna Doddamane",
      "photoUrl": "https://lh3.googleusercontent.com/a-/AOh14GjOdnL6KUzzQMPHfk6as2xRMsOSbJoBMF9oJSaK=s64",
      "userId": "11697854241316775674"
     },
     "user_tz": -330
    },
    "id": "Rtuwo6PV7TVv",
    "outputId": "02d01c22-4533-4f96-ec70-ec54cea60f3c"
   },
   "outputs": [],
   "source": [
    "# identity equivalence\n",
    "I = Q.dot(Q.T)\n",
    "print(I)"
   ]
  },
  {
   "cell_type": "code",
   "execution_count": null,
   "metadata": {
    "colab": {
     "base_uri": "https://localhost:8080/"
    },
    "executionInfo": {
     "elapsed": 894,
     "status": "ok",
     "timestamp": 1617068863138,
     "user": {
      "displayName": "Mallikarjuna Doddamane",
      "photoUrl": "https://lh3.googleusercontent.com/a-/AOh14GjOdnL6KUzzQMPHfk6as2xRMsOSbJoBMF9oJSaK=s64",
      "userId": "11697854241316775674"
     },
     "user_tz": -330
    },
    "id": "j0_vfBf0owEM",
    "outputId": "3918027d-41b3-4824-9f3b-7853e22bf14d"
   },
   "outputs": [],
   "source": [
    "# define orthogonal matrix\n",
    "Q = array([ \n",
    "[2,-2],\n",
    "[1, 2]])\n",
    "print(Q)"
   ]
  },
  {
   "cell_type": "code",
   "execution_count": null,
   "metadata": {
    "colab": {
     "base_uri": "https://localhost:8080/"
    },
    "executionInfo": {
     "elapsed": 767,
     "status": "ok",
     "timestamp": 1617068872743,
     "user": {
      "displayName": "Mallikarjuna Doddamane",
      "photoUrl": "https://lh3.googleusercontent.com/a-/AOh14GjOdnL6KUzzQMPHfk6as2xRMsOSbJoBMF9oJSaK=s64",
      "userId": "11697854241316775674"
     },
     "user_tz": -330
    },
    "id": "XOC70wGiowEP",
    "outputId": "6c224805-4ea0-434e-c626-c5e0bf70cacf"
   },
   "outputs": [],
   "source": [
    "inv(Q)"
   ]
  },
  {
   "cell_type": "code",
   "execution_count": null,
   "metadata": {
    "colab": {
     "base_uri": "https://localhost:8080/"
    },
    "executionInfo": {
     "elapsed": 797,
     "status": "ok",
     "timestamp": 1617068885944,
     "user": {
      "displayName": "Mallikarjuna Doddamane",
      "photoUrl": "https://lh3.googleusercontent.com/a-/AOh14GjOdnL6KUzzQMPHfk6as2xRMsOSbJoBMF9oJSaK=s64",
      "userId": "11697854241316775674"
     },
     "user_tz": -330
    },
    "id": "gqx9xfRPowER",
    "outputId": "8543a73a-ece5-4ba4-f2d4-e4d963a30cf7"
   },
   "outputs": [],
   "source": [
    "Q.T"
   ]
  },
  {
   "cell_type": "code",
   "execution_count": null,
   "metadata": {
    "id": "HYeeB16_owET"
   },
   "outputs": [],
   "source": []
  }
 ],
 "metadata": {
  "anaconda-cloud": {},
  "colab": {
   "collapsed_sections": [],
   "name": "S0_Introduction to Linear Algebra.ipynb",
   "provenance": []
  },
  "kernelspec": {
   "display_name": "Python 3 (ipykernel)",
   "language": "python",
   "name": "python3"
  },
  "language_info": {
   "codemirror_mode": {
    "name": "ipython",
    "version": 3
   },
   "file_extension": ".py",
   "mimetype": "text/x-python",
   "name": "python",
   "nbconvert_exporter": "python",
   "pygments_lexer": "ipython3",
   "version": "3.11.5"
  }
 },
 "nbformat": 4,
 "nbformat_minor": 1
}
