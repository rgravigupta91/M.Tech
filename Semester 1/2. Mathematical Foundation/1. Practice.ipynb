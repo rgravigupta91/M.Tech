{
 "cells": [
  {
   "cell_type": "code",
   "execution_count": 1,
   "id": "3ff24f5a",
   "metadata": {},
   "outputs": [],
   "source": [
    "from scipy import stats"
   ]
  },
  {
   "cell_type": "markdown",
   "id": "e176224b",
   "metadata": {},
   "source": [
    "# Linear Regrassion Model"
   ]
  },
  {
   "cell_type": "code",
   "execution_count": 2,
   "id": "d7293218",
   "metadata": {},
   "outputs": [],
   "source": [
    "years = [0,5,10,15, 20, 25, 30, 35]"
   ]
  },
  {
   "cell_type": "code",
   "execution_count": 3,
   "id": "f078810d",
   "metadata": {},
   "outputs": [],
   "source": [
    "salary = [8.4, 9.1, 10.8, 12.3, 15.6, 18.2, 24.7, 25.4]"
   ]
  },
  {
   "cell_type": "code",
   "execution_count": 5,
   "id": "39524f2d",
   "metadata": {},
   "outputs": [
    {
     "data": {
      "text/plain": [
       "LinregressResult(slope=0.5297619047619048, intercept=6.291666666666666, rvalue=0.9693360501716467, pvalue=7.043401672175042e-05, stderr=0.05482828964528311, intercept_stderr=1.1468159567360137)"
      ]
     },
     "execution_count": 5,
     "metadata": {},
     "output_type": "execute_result"
    }
   ],
   "source": [
    "stats.linregress(years, salary)"
   ]
  },
  {
   "cell_type": "code",
   "execution_count": 6,
   "id": "125aa413",
   "metadata": {},
   "outputs": [
    {
     "ename": "ValueError",
     "evalue": "not enough values to unpack (expected 6, got 5)",
     "output_type": "error",
     "traceback": [
      "\u001b[1;31m---------------------------------------------------------------------------\u001b[0m",
      "\u001b[1;31mValueError\u001b[0m                                Traceback (most recent call last)",
      "Cell \u001b[1;32mIn[6], line 1\u001b[0m\n\u001b[1;32m----> 1\u001b[0m slope, intercept, r_value, p_value, std_error, intercept \u001b[38;5;241m=\u001b[39m stats\u001b[38;5;241m.\u001b[39mlinregress(years, salary)\n",
      "\u001b[1;31mValueError\u001b[0m: not enough values to unpack (expected 6, got 5)"
     ]
    }
   ],
   "source": [
    "slope, intercept, r_value, p_value, std_error, intercept = stats.linregress(years, salary)"
   ]
  },
  {
   "cell_type": "code",
   "execution_count": 7,
   "id": "af7b9ecc",
   "metadata": {},
   "outputs": [],
   "source": [
    "slope, intercept, r_value, p_value, std_error= stats.linregress(years, salary)"
   ]
  },
  {
   "cell_type": "code",
   "execution_count": 8,
   "id": "71ca5c79",
   "metadata": {},
   "outputs": [
    {
     "name": "stdout",
     "output_type": "stream",
     "text": [
      "0.5297619047619048\n",
      "6.291666666666666\n",
      "0.9693360501716467\n",
      "7.043401672175042e-05\n",
      "0.05482828964528311\n"
     ]
    }
   ],
   "source": [
    "print(slope)\n",
    "print(intercept)\n",
    "print(r_value)\n",
    "print(p_value)\n",
    "print(std_error)"
   ]
  },
  {
   "cell_type": "code",
   "execution_count": 10,
   "id": "f3f1dfa0",
   "metadata": {},
   "outputs": [],
   "source": [
    "#y = mx + c\n",
    "year = 45"
   ]
  },
  {
   "cell_type": "code",
   "execution_count": 11,
   "id": "636a00e1",
   "metadata": {},
   "outputs": [
    {
     "data": {
      "text/plain": [
       "30.13095238095238"
      ]
     },
     "execution_count": 11,
     "metadata": {},
     "output_type": "execute_result"
    }
   ],
   "source": [
    "slope*year + intercept"
   ]
  },
  {
   "cell_type": "markdown",
   "id": "46fc6663",
   "metadata": {},
   "source": [
    "# Error Calculation"
   ]
  },
  {
   "cell_type": "code",
   "execution_count": 12,
   "id": "5bf027ae",
   "metadata": {},
   "outputs": [
    {
     "data": {
      "text/plain": [
       "6.291666666666666"
      ]
     },
     "execution_count": 12,
     "metadata": {},
     "output_type": "execute_result"
    }
   ],
   "source": [
    "slope*0 + intercept"
   ]
  },
  {
   "cell_type": "code",
   "execution_count": 13,
   "id": "9df2b4eb",
   "metadata": {},
   "outputs": [],
   "source": [
    "import numpy as np"
   ]
  },
  {
   "cell_type": "code",
   "execution_count": 16,
   "id": "2630e0dd",
   "metadata": {},
   "outputs": [
    {
     "data": {
      "text/plain": [
       "array([ 6.29166667,  8.94047619, 11.58928571, 14.23809524, 16.88690476,\n",
       "       19.53571429, 22.18452381, 24.83333333])"
      ]
     },
     "execution_count": 16,
     "metadata": {},
     "output_type": "execute_result"
    }
   ],
   "source": [
    "slope * np.array(years) + intercept\n",
    "\n",
    "# salary = [8.4, 9.1, 10.8, 12.3, 15.6, 18.2, 24.7, 25.4]    - Actual Value"
   ]
  },
  {
   "cell_type": "code",
   "execution_count": 19,
   "id": "6296decb",
   "metadata": {},
   "outputs": [
    {
     "data": {
      "text/plain": [
       "array([-2.10833333, -0.15952381,  0.78928571,  1.93809524,  1.28690476,\n",
       "        1.33571429, -2.51547619, -0.56666667])"
      ]
     },
     "execution_count": 19,
     "metadata": {},
     "output_type": "execute_result"
    }
   ],
   "source": [
    "slope * np.array(years) + intercept - np.array(salary)"
   ]
  },
  {
   "cell_type": "code",
   "execution_count": 20,
   "id": "6ae341b7",
   "metadata": {},
   "outputs": [],
   "source": [
    "error = slope * np.array(years) + intercept - np.array(salary)"
   ]
  },
  {
   "cell_type": "code",
   "execution_count": 21,
   "id": "614a920b",
   "metadata": {},
   "outputs": [
    {
     "data": {
      "text/plain": [
       "10.69999999999999"
      ]
     },
     "execution_count": 21,
     "metadata": {},
     "output_type": "execute_result"
    }
   ],
   "source": [
    "sum(abs(error))"
   ]
  },
  {
   "cell_type": "code",
   "execution_count": null,
   "id": "b058fd12",
   "metadata": {},
   "outputs": [],
   "source": []
  },
  {
   "cell_type": "code",
   "execution_count": 31,
   "id": "64041e33",
   "metadata": {},
   "outputs": [],
   "source": [
    "p = np.array([[80, 40, 120],[60,30,120]])"
   ]
  },
  {
   "cell_type": "code",
   "execution_count": 32,
   "id": "13658039",
   "metadata": {},
   "outputs": [
    {
     "name": "stdout",
     "output_type": "stream",
     "text": [
      "[[ 80  40 120]\n",
      " [ 60  30 120]]\n"
     ]
    }
   ],
   "source": [
    "print(p)"
   ]
  },
  {
   "cell_type": "code",
   "execution_count": 34,
   "id": "00735091",
   "metadata": {},
   "outputs": [],
   "source": [
    "q = np.array([[1/2,1/5],[1/4,1/5],[1/4,3/5]])"
   ]
  },
  {
   "cell_type": "code",
   "execution_count": 35,
   "id": "63f2ba82",
   "metadata": {},
   "outputs": [
    {
     "data": {
      "text/plain": [
       "array([[80. , 96. ],\n",
       "       [67.5, 90. ]])"
      ]
     },
     "execution_count": 35,
     "metadata": {},
     "output_type": "execute_result"
    }
   ],
   "source": [
    "np.dot(p,q)"
   ]
  },
  {
   "cell_type": "markdown",
   "id": "8fecad98",
   "metadata": {},
   "source": [
    "# Linear Equations"
   ]
  },
  {
   "cell_type": "code",
   "execution_count": 36,
   "id": "a080db49",
   "metadata": {},
   "outputs": [],
   "source": [
    "# 0.2*x + 0.5*y + 0.3*z = 1950\n",
    "# 0.3*x + 0.4*y + 0.1*z = 1490\n",
    "# 0.1*x + 0.6*y + 0.4*z = 2160"
   ]
  },
  {
   "cell_type": "code",
   "execution_count": 41,
   "id": "80ac8eb4",
   "metadata": {},
   "outputs": [
    {
     "data": {
      "image/png": "[encoded data removed]",
      "text/latex": [
       "$\\displaystyle \\left\\{ x : 2000.0, \\  y : 1600.0, \\  z : 2500.0\\right\\}$"
      ],
      "text/plain": [
       "{x: 2000.0, y: 1600.0, z: 2500.0}"
      ]
     },
     "execution_count": 41,
     "metadata": {},
     "output_type": "execute_result"
    }
   ],
   "source": [
    "import sympy as sym\n",
    "sym.init_printing()\n",
    "x, y, z = sym.symbols('x,y,z')\n",
    "\n",
    "sym.solve([0.2*x + 0.5*y + 0.3*z - 1950,\n",
    "          0.3*x + 0.4*y + 0.1*z - 1490,\n",
    "          0.1*x + 0.6*y + 0.4*z - 2160],[x,y,z])"
   ]
  },
  {
   "cell_type": "code",
   "execution_count": 43,
   "id": "b48380cc",
   "metadata": {},
   "outputs": [],
   "source": [
    "dict1 = sym.solve([0.2*x + 0.5*y + 0.3*z - 1950,\n",
    "          0.3*x + 0.4*y + 0.1*z - 1490,\n",
    "          0.1*x + 0.6*y + 0.4*z - 2160],[x,y,z])"
   ]
  },
  {
   "cell_type": "code",
   "execution_count": 45,
   "id": "66ad903f",
   "metadata": {},
   "outputs": [
    {
     "name": "stdout",
     "output_type": "stream",
     "text": [
      "{x: 2000.00000000000, y: 1600.00000000000, z: 2500.00000000000}\n",
      "<class 'dict'>\n"
     ]
    }
   ],
   "source": [
    "print(dict1)\n",
    "print(type(dict1))"
   ]
  },
  {
   "cell_type": "code",
   "execution_count": 48,
   "id": "fc508616",
   "metadata": {},
   "outputs": [],
   "source": [
    "from scipy import linalg"
   ]
  },
  {
   "cell_type": "code",
   "execution_count": null,
   "id": "df870e02",
   "metadata": {},
   "outputs": [],
   "source": [
    "\"\"\"\n",
    "      x + 2*y + 3*z = 18\n",
    "    3*x +   y + 2*z = 23\n",
    "    2*x       +   z = 13\n",
    "\"\"\""
   ]
  },
  {
   "cell_type": "code",
   "execution_count": 49,
   "id": "f3b5eac6",
   "metadata": {},
   "outputs": [
    {
     "data": {
      "text/plain": [
       "array([5., 2., 3.])"
      ]
     },
     "execution_count": 49,
     "metadata": {},
     "output_type": "execute_result"
    }
   ],
   "source": [
    "a = np.array([[1,2,3],[3,1,2],[2,0,1]])\n",
    "b = np.array([18,23,13])\n",
    "\n",
    "np.dot(linalg.inv(a),b)"
   ]
  },
  {
   "cell_type": "code",
   "execution_count": null,
   "id": "2f4902fb",
   "metadata": {},
   "outputs": [],
   "source": []
  },
  {
   "cell_type": "code",
   "execution_count": null,
   "id": "4d68e7bf",
   "metadata": {},
   "outputs": [],
   "source": []
  }
 ],
 "metadata": {
  "kernelspec": {
   "display_name": "Python 3 (ipykernel)",
   "language": "python",
   "name": "python3"
  },
  "language_info": {
   "codemirror_mode": {
    "name": "ipython",
    "version": 3
   },
   "file_extension": ".py",
   "mimetype": "text/x-python",
   "name": "python",
   "nbconvert_exporter": "python",
   "pygments_lexer": "ipython3",
   "version": "3.11.7"
  }
 },
 "nbformat": 4,
 "nbformat_minor": 5
}
