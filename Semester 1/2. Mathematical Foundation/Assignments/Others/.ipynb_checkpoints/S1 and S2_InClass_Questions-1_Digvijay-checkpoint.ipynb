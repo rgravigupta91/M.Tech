{
 "cells": [
  {
   "cell_type": "code",
   "execution_count": 2,
   "metadata": {
    "colab": {},
    "colab_type": "code",
    "id": "iakMxQQ1ZZQK"
   },
   "outputs": [
    {
     "data": {
      "text/html": [
       "<details>\n",
       "<summary>Click to view session information</summary>\n",
       "<pre>\n",
       "-----\n",
       "numpy               1.26.4\n",
       "scipy               1.11.4\n",
       "session_info        1.0.0\n",
       "-----\n",
       "</pre>\n",
       "<details>\n",
       "<summary>Click to view modules imported as dependencies</summary>\n",
       "<pre>\n",
       "anyio                       NA\n",
       "asttokens                   NA\n",
       "attr                        23.1.0\n",
       "attrs                       23.1.0\n",
       "babel                       2.11.0\n",
       "brotli                      1.0.9\n",
       "certifi                     2024.02.02\n",
       "chardet                     4.0.0\n",
       "charset_normalizer          2.0.4\n",
       "colorama                    0.4.6\n",
       "comm                        0.1.2\n",
       "cython_runtime              NA\n",
       "dateutil                    2.8.2\n",
       "debugpy                     1.6.7\n",
       "decorator                   5.1.1\n",
       "executing                   0.8.3\n",
       "fastjsonschema              NA\n",
       "google                      NA\n",
       "idna                        3.4\n",
       "ipykernel                   6.28.0\n",
       "jedi                        0.18.1\n",
       "jinja2                      3.1.3\n",
       "json5                       NA\n",
       "jsonpointer                 2.1\n",
       "jsonschema                  4.19.2\n",
       "jsonschema_specifications   NA\n",
       "jupyter_events              0.8.0\n",
       "jupyter_server              2.10.0\n",
       "jupyterlab_server           2.25.1\n",
       "markupsafe                  2.1.3\n",
       "mkl                         2.4.0\n",
       "nbformat                    5.9.2\n",
       "overrides                   NA\n",
       "packaging                   23.1\n",
       "parso                       0.8.3\n",
       "pickleshare                 0.7.5\n",
       "pkg_resources               NA\n",
       "platformdirs                3.10.0\n",
       "prometheus_client           NA\n",
       "prompt_toolkit              3.0.43\n",
       "psutil                      5.9.0\n",
       "pure_eval                   0.2.2\n",
       "pydev_ipython               NA\n",
       "pydevconsole                NA\n",
       "pydevd                      2.9.5\n",
       "pydevd_file_utils           NA\n",
       "pydevd_plugins              NA\n",
       "pydevd_tracing              NA\n",
       "pygments                    2.15.1\n",
       "pythoncom                   NA\n",
       "pythonjsonlogger            NA\n",
       "pywin32_system32            NA\n",
       "pywintypes                  NA\n",
       "referencing                 NA\n",
       "requests                    2.31.0\n",
       "rfc3339_validator           0.1.4\n",
       "rfc3986_validator           0.1.1\n",
       "rpds                        NA\n",
       "ruamel                      NA\n",
       "send2trash                  NA\n",
       "six                         1.16.0\n",
       "sniffio                     1.3.0\n",
       "socks                       1.7.1\n",
       "sphinxcontrib               NA\n",
       "stack_data                  0.2.0\n",
       "tornado                     6.3.3\n",
       "traitlets                   5.7.1\n",
       "urllib3                     2.0.7\n",
       "wcwidth                     0.2.5\n",
       "websocket                   0.58.0\n",
       "win32api                    NA\n",
       "win32com                    NA\n",
       "win32con                    NA\n",
       "win32trace                  NA\n",
       "winerror                    NA\n",
       "yaml                        6.0.1\n",
       "zmq                         25.1.2\n",
       "zope                        NA\n",
       "zstandard                   0.19.0\n",
       "</pre>\n",
       "</details> <!-- seems like this ends pre, so might as well be explicit -->\n",
       "<pre>\n",
       "-----\n",
       "IPython             8.20.0\n",
       "jupyter_client      8.6.0\n",
       "jupyter_core        5.5.0\n",
       "jupyterlab          4.0.11\n",
       "notebook            7.0.8\n",
       "-----\n",
       "Python 3.11.7 | packaged by Anaconda, Inc. | (main, Dec 15 2023, 18:05:47) [MSC v.1916 64 bit (AMD64)]\n",
       "Windows-10-10.0.22621-SP0\n",
       "-----\n",
       "Session information updated at 2024-05-23 00:54\n",
       "</pre>\n",
       "</details>"
      ],
      "text/plain": [
       "<IPython.core.display.HTML object>"
      ]
     },
     "execution_count": 2,
     "metadata": {},
     "output_type": "execute_result"
    }
   ],
   "source": [
    "import numpy as np\n",
    "import scipy.linalg as la\n",
    "\n",
    "import session_info\n",
    "session_info.show()"
   ]
  },
  {
   "cell_type": "markdown",
   "metadata": {},
   "source": [
    "## Session 1 "
   ]
  },
  {
   "cell_type": "markdown",
   "metadata": {
    "colab_type": "text",
    "id": "4oIzWeCArwS3"
   },
   "source": [
    "### Creation of Vectors and Matrices"
   ]
  },
  {
   "cell_type": "markdown",
   "metadata": {
    "colab_type": "text",
    "id": "vgzUew69ZZQR"
   },
   "source": [
    "1. Create a row vector of natural numbers of size 4."
   ]
  },
  {
   "cell_type": "code",
   "execution_count": 10,
   "metadata": {},
   "outputs": [
    {
     "data": {
      "text/plain": [
       "array([1, 2, 3, 4])"
      ]
     },
     "execution_count": 10,
     "metadata": {},
     "output_type": "execute_result"
    }
   ],
   "source": [
    "vector = np.array([1,2,3,4])\n",
    "vector"
   ]
  },
  {
   "cell_type": "markdown",
   "metadata": {
    "colab_type": "text",
    "id": "vYcnCH-6KXcW"
   },
   "source": [
    "2. Create a 2 x 2 matrix of all zeros, all ones, all with a value of 4 and all with random values."
   ]
  },
  {
   "cell_type": "code",
   "execution_count": 18,
   "metadata": {},
   "outputs": [
    {
     "data": {
      "text/plain": [
       "array([[0., 0.],\n",
       "       [0., 0.]])"
      ]
     },
     "execution_count": 18,
     "metadata": {},
     "output_type": "execute_result"
    }
   ],
   "source": [
    "zero = np.zeros((2,2))\n",
    "zero"
   ]
  },
  {
   "cell_type": "code",
   "execution_count": 14,
   "metadata": {},
   "outputs": [
    {
     "data": {
      "text/plain": [
       "array([[1., 1.],\n",
       "       [1., 1.]])"
      ]
     },
     "execution_count": 14,
     "metadata": {},
     "output_type": "execute_result"
    }
   ],
   "source": [
    "one = np.ones((2,2))\n",
    "one"
   ]
  },
  {
   "cell_type": "code",
   "execution_count": 20,
   "metadata": {},
   "outputs": [
    {
     "data": {
      "text/plain": [
       "array([[4, 4],\n",
       "       [4, 4]])"
      ]
     },
     "execution_count": 20,
     "metadata": {},
     "output_type": "execute_result"
    }
   ],
   "source": [
    "four = np.full((2,2),4)\n",
    "four"
   ]
  },
  {
   "cell_type": "code",
   "execution_count": 25,
   "metadata": {},
   "outputs": [
    {
     "data": {
      "text/plain": [
       "array([[0.20653398, 0.53553677],\n",
       "       [0.77571288, 0.09910009]])"
      ]
     },
     "execution_count": 25,
     "metadata": {},
     "output_type": "execute_result"
    }
   ],
   "source": [
    "rand = np.random.rand(2,2)\n",
    "rand"
   ]
  },
  {
   "cell_type": "markdown",
   "metadata": {
    "colab_type": "text",
    "id": "-G6Iz7NcZZQ-"
   },
   "source": [
    "### Vector and Matrix Operations \n"
   ]
  },
  {
   "cell_type": "markdown",
   "metadata": {
    "colab_type": "text",
    "id": "_XuNsCzL8yl6"
   },
   "source": [
    "3. Find the magnitude/ L1 and L2 norm of the vector [4,6] and state which has a highest value.\n"
   ]
  },
  {
   "cell_type": "code",
   "execution_count": 26,
   "metadata": {},
   "outputs": [
    {
     "data": {
      "text/plain": [
       "10.0"
      ]
     },
     "execution_count": 26,
     "metadata": {},
     "output_type": "execute_result"
    }
   ],
   "source": [
    "x = np.array([4,6])\n",
    "y = np.linalg.norm(x, ord=1)\n",
    "y"
   ]
  },
  {
   "cell_type": "code",
   "execution_count": 27,
   "metadata": {},
   "outputs": [
    {
     "data": {
      "text/plain": [
       "7.211102550927978"
      ]
     },
     "execution_count": 27,
     "metadata": {},
     "output_type": "execute_result"
    }
   ],
   "source": [
    "y1 = np.linalg.norm(x,ord=2)\n",
    "y1"
   ]
  },
  {
   "cell_type": "code",
   "execution_count": 28,
   "metadata": {},
   "outputs": [
    {
     "name": "stdout",
     "output_type": "stream",
     "text": [
      "y is greater than y1\n"
     ]
    }
   ],
   "source": [
    "if y>y1:\n",
    "    print(\"y is greater than y1\")\n",
    "else:\n",
    "    print(\"y1 is greater than y\")"
   ]
  },
  {
   "cell_type": "markdown",
   "metadata": {
    "colab_type": "text",
    "id": "u_PcuU0lFJfG"
   },
   "source": [
    "### Scalar and Vector Projections\n",
    "5. Find the scalar and vector projections of the vector  u = 8i + 6j on vector v = i - 7j\n"
   ]
  },
  {
   "cell_type": "code",
   "execution_count": 29,
   "metadata": {},
   "outputs": [],
   "source": [
    "u = np.array([8,6])\n",
    "v = np.array([1,-7])"
   ]
  },
  {
   "cell_type": "code",
   "execution_count": 30,
   "metadata": {},
   "outputs": [],
   "source": [
    "scalar = np.dot(u,v)/np.linalg.norm(v)\n",
    "vector = v*scalar/np.linalg.norm(v)"
   ]
  },
  {
   "cell_type": "code",
   "execution_count": 31,
   "metadata": {},
   "outputs": [
    {
     "name": "stdout",
     "output_type": "stream",
     "text": [
      "the value of scalar -4.808326112068523\n",
      "the value of vector [-0.68  4.76]\n"
     ]
    }
   ],
   "source": [
    "print(f\"the value of scalar {scalar}\")\n",
    "print(f\"the value of vector {vector}\")"
   ]
  },
  {
   "cell_type": "markdown",
   "metadata": {
    "colab": {},
    "colab_type": "code",
    "id": "Rtuwo6PV7TVv"
   },
   "source": [
    "### Session 2\n",
    "\n"
   ]
  },
  {
   "cell_type": "code",
   "execution_count": 32,
   "metadata": {},
   "outputs": [],
   "source": [
    "import numpy as np\n",
    "import pandas as pd\n",
    "import matplotlib.pyplot as plt\n",
    "from PIL  import Image\n",
    "import scipy\n",
    "from skimage import data\n",
    "from numpy import *\n"
   ]
  },
  {
   "cell_type": "markdown",
   "metadata": {},
   "source": [
    "#### Q5. Find the Determinant for the following matrix. If B is a scaled matrix computed by scaling the matrix A, find the scale factor associated."
   ]
  },
  {
   "cell_type": "code",
   "execution_count": 34,
   "metadata": {},
   "outputs": [],
   "source": [
    "A = np.array([\n",
    "[10, 12, 13],\n",
    "[14, 15, 16],\n",
    "[17, 18, 19]])"
   ]
  },
  {
   "cell_type": "code",
   "execution_count": 35,
   "metadata": {},
   "outputs": [],
   "source": [
    "B=np.array([\n",
    "[30, 36, 39],\n",
    "[42, 45, 48],\n",
    "[51, 54, 57]])"
   ]
  },
  {
   "cell_type": "code",
   "execution_count": 48,
   "metadata": {},
   "outputs": [
    {
     "data": {
      "text/plain": [
       "(47.00000000000008, 0.0)"
      ]
     },
     "execution_count": 48,
     "metadata": {},
     "output_type": "execute_result"
    }
   ],
   "source": [
    "a1 = np.linalg.det(A)\n",
    "b1 = np.linalg.det(B)\n",
    "a1,b1"
   ]
  },
  {
   "cell_type": "code",
   "execution_count": 52,
   "metadata": {},
   "outputs": [],
   "source": [
    "scaled_matrix = np.dot(B,A)"
   ]
  },
  {
   "cell_type": "code",
   "execution_count": 53,
   "metadata": {},
   "outputs": [
    {
     "data": {
      "text/plain": [
       "array([[17,  8, 18],\n",
       "       [17,  8, 18],\n",
       "       [17,  8, 18]])"
      ]
     },
     "execution_count": 53,
     "metadata": {},
     "output_type": "execute_result"
    }
   ],
   "source": [
    "scaled_matrix"
   ]
  },
  {
   "cell_type": "markdown",
   "metadata": {},
   "source": [
    "#### Q6: If Matrix A and B are given, then find the matrix X from AX=B. "
   ]
  },
  {
   "cell_type": "code",
   "execution_count": 49,
   "metadata": {},
   "outputs": [],
   "source": [
    "A = np.array([\n",
    "[11, 12, 13],\n",
    "[11, 15, 14],\n",
    "[17, 11, 19]])\n",
    "\n",
    "B = np.array([[1, -1 , 1],[1, -1 , 1],[1, -1 , 1]])"
   ]
  },
  {
   "cell_type": "code",
   "execution_count": 50,
   "metadata": {},
   "outputs": [],
   "source": [
    "solution = np.linalg.solve(A,B)"
   ]
  },
  {
   "cell_type": "code",
   "execution_count": 51,
   "metadata": {},
   "outputs": [
    {
     "data": {
      "text/plain": [
       "array([[ 0.40425532, -0.40425532,  0.40425532],\n",
       "       [ 0.12765957, -0.12765957,  0.12765957],\n",
       "       [-0.38297872,  0.38297872, -0.38297872]])"
      ]
     },
     "execution_count": 51,
     "metadata": {},
     "output_type": "execute_result"
    }
   ],
   "source": [
    "solution"
   ]
  },
  {
   "cell_type": "markdown",
   "metadata": {},
   "source": [
    "### System of Linear equations"
   ]
  },
  {
   "cell_type": "markdown",
   "metadata": {},
   "source": [
    "#### Q7. Solve the following system and find x and y $$\\begin{pmatrix}\n",
    "1&2\\\\\n",
    "3&4\n",
    "\\end{pmatrix} \\begin{pmatrix}\n",
    "x\\\\\n",
    "y\n",
    "\\end{pmatrix} =\\begin{pmatrix}\n",
    "-1\\\\\n",
    "1\n",
    "\\end{pmatrix}$$"
   ]
  },
  {
   "cell_type": "raw",
   "metadata": {},
   "source": [
    "x + 2y = -1\n",
    "3x + 4y = 1"
   ]
  },
  {
   "cell_type": "code",
   "execution_count": 67,
   "metadata": {},
   "outputs": [],
   "source": [
    "import sympy as sym"
   ]
  },
  {
   "cell_type": "code",
   "execution_count": 69,
   "metadata": {},
   "outputs": [
    {
     "data": {
      "image/png": "[encoded data removed]",
      "text/latex": [
       "$\\displaystyle \\left\\{ x : 3, \\  y : -2\\right\\}$"
      ],
      "text/plain": [
       "{x: 3, y: -2}"
      ]
     },
     "execution_count": 69,
     "metadata": {},
     "output_type": "execute_result"
    }
   ],
   "source": [
    "sym.init_printing()\n",
    "x,y = sym.symbols('x,y')\n",
    "sol = sym.solve([\n",
    "    x + 2*y - -1,\n",
    "    3*x + 4*y - 1\n",
    "],[x,y])\n",
    "sol"
   ]
  },
  {
   "cell_type": "code",
   "execution_count": null,
   "metadata": {},
   "outputs": [],
   "source": []
  },
  {
   "cell_type": "markdown",
   "metadata": {},
   "source": [
    "### Gram-Schmidt Process"
   ]
  },
  {
   "cell_type": "markdown",
   "metadata": {},
   "source": [
    "#### Q8.Convert the following matrix to an orthogonal matrix using Gram Schmidt Process?\n",
    "\\begin{align}\n",
    "B = \\begin{bmatrix}\n",
    "12 & 13 & 14\\\\\n",
    "13 & 14 & 15\\\\\n",
    "15 & 16 & 13\n",
    "\\end{bmatrix}\n",
    "\\end{align}"
   ]
  },
  {
   "cell_type": "markdown",
   "metadata": {},
   "source": [
    "#hint: To check if a given matrix is orthogonal, first find the transpose of that matrix. \n",
    "#Then, multiply the given matrix with the transpose. \n",
    "#Now, if the product is an identity matrix, the given matrix is orthogonal, otherwise, not."
   ]
  },
  {
   "cell_type": "code",
   "execution_count": 54,
   "metadata": {},
   "outputs": [],
   "source": [
    "B = np.array([[12,13,14],[13,14,15],[15,16,13]])"
   ]
  },
  {
   "cell_type": "code",
   "execution_count": 66,
   "metadata": {},
   "outputs": [
    {
     "data": {
      "text/plain": [
       "(array([[-0.51735674,  0.66830212,  0.53452248],\n",
       "        [-0.5604698 ,  0.20740411, -0.80178373],\n",
       "        [-0.64669592, -0.71439192,  0.26726124]]),\n",
       " array([[-23.19482701, -24.91934946, -24.05708824],\n",
       "        [  0.        ,   0.1613143 ,   3.18019629],\n",
       "        [  0.        ,   0.        ,  -1.06904497]]))"
      ]
     },
     "execution_count": 66,
     "metadata": {},
     "output_type": "execute_result"
    }
   ],
   "source": [
    "def gram_smit(B):\n",
    "    Q,R = np.linalg.qr(B)\n",
    "    return Q, R\n",
    "gram_smit(B)"
   ]
  },
  {
   "cell_type": "markdown",
   "metadata": {},
   "source": [
    "### Eigen values "
   ]
  },
  {
   "cell_type": "markdown",
   "metadata": {},
   "source": [
    "#### Q9.Find eigen values and eigen vectors for \n",
    "\n",
    "\\begin{align}\n",
    "A = \\begin{bmatrix}\n",
    "2 & -1 & 0\\\\\n",
    "-1 & 2 & -1\\\\\n",
    "0 & -1 & 2\n",
    "\\end{bmatrix}\n",
    "\\end{align}"
   ]
  },
  {
   "cell_type": "code",
   "execution_count": 37,
   "metadata": {},
   "outputs": [],
   "source": [
    "matrix = np.array([[2,-1,0],[-1,2,-1],[0,-1,2]])"
   ]
  },
  {
   "cell_type": "code",
   "execution_count": 38,
   "metadata": {},
   "outputs": [],
   "source": [
    "eignvalue, eignvector = np.linalg.eig(matrix)"
   ]
  },
  {
   "cell_type": "code",
   "execution_count": 43,
   "metadata": {},
   "outputs": [
    {
     "data": {
      "text/plain": [
       "(array([3.41421356, 2.        , 0.58578644]),\n",
       " array([[-5.00000000e-01, -7.07106781e-01,  5.00000000e-01],\n",
       "        [ 7.07106781e-01,  4.19803081e-16,  7.07106781e-01],\n",
       "        [-5.00000000e-01,  7.07106781e-01,  5.00000000e-01]]))"
      ]
     },
     "execution_count": 43,
     "metadata": {},
     "output_type": "execute_result"
    }
   ],
   "source": [
    "eignvalue,eignvector"
   ]
  },
  {
   "cell_type": "code",
   "execution_count": null,
   "metadata": {},
   "outputs": [],
   "source": []
  }
 ],
 "metadata": {
  "anaconda-cloud": {},
  "colab": {
   "collapsed_sections": [],
   "name": "Inclass_Introduction_to_Linear_Algebra_Questions.ipynb",
   "provenance": []
  },
  "kernelspec": {
   "display_name": "Python 3 (ipykernel)",
   "language": "python",
   "name": "python3"
  },
  "language_info": {
   "codemirror_mode": {
    "name": "ipython",
    "version": 3
   },
   "file_extension": ".py",
   "mimetype": "text/x-python",
   "name": "python",
   "nbconvert_exporter": "python",
   "pygments_lexer": "ipython3",
   "version": "3.11.7"
  }
 },
 "nbformat": 4,
 "nbformat_minor": 4
}
