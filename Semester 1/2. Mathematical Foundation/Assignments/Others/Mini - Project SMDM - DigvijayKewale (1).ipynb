{
 "cells": [
  {
   "cell_type": "markdown",
   "id": "cc263720",
   "metadata": {},
   "source": [
    "The data set given for the project is from \" https://archive-beta.ics.uci.edu/ml/datasets/productivity+prediction+of+garment+employees \" \n",
    "and is cited as Productivity Prediction of Garment Employees. (2020). UCI Machine Learning Repository. \n",
    "The data file is attached as csv file. The following are details being provided . The data contains details on actual productivty of a garment industry, the data has been recorded on a day to day basis from the year 2015 to almost year end of 2015. The data set at first needs to be examined and the structure of the data set needs to be understood. The data has been recorded in terms of the following details\n",
    "Date \n",
    "Quarter (Four Quarters)\n",
    "Department (Sewing and Finishing)\n",
    "Day (Please note the way data is recorded is that based on a dept and productivity is recorded for various lines in each dept, hence you would find multiple productivity recorded for each combination of vairables such as team, dept, smv, date)\n",
    "Team \n",
    "Targeted_Producitivity (Target which needs to be achieved)\n",
    "SMV (Standard Minute Value) : Standard time for a Task in this case you can take standard time to complete a garment \n",
    "WIP (Work in progress)\n",
    "Over_time\n",
    "Incentive \n",
    "Idle_time\n",
    "Idle_men (Idle workers)\n",
    "no_of_style_change\n",
    "no_of_workers\n",
    "Actual_Producitivity\n",
    "\n",
    "The aim is of this project is to obtain an understanding of the data and decipher the relationship among the variables, understanding what possible variables can affect producivity which can be whether overtime or team size or number of worker or department type or a day (like monday ect...) ect.. have an effect. \n",
    "\n",
    "Suppose the manager is interested in the following questions \n",
    "\n",
    "Exploratory Data Analysis & Descriptive Statistics \n",
    "\n",
    "1. Basic Summary statistics of the data for the numerical variables \n",
    "2. basic Summary of the data for the number of working days, count of quarters in the year\n",
    "3. Mean and standard deviation of actual producivity for every quarter and Histogram plot of actual productivity based on every quarter and conclusion accordingly\n",
    "4. Number count for sewing and finishing department \n",
    "5. Mean and standard deviation of actual producivity for sewing and finishing Histogram plot of actual productivity based on both department and conclusion accordingly\n",
    "6. Number count for  teams, smv across the year\n",
    "7. Histogram & Box plot of actual productivity based on all working days, team size, quarterts and  Conclude accordingly \n",
    "8. Find correlation matrix and draw heat map for all variables\n",
    "9. Conclude (Is the company able to meet target, are they giving incentives based on producitivity, does overtime have any effect on productivity)\n",
    "10. Find the correlation between actual and target productivity for every quarter and for every department. What do you conclude\n",
    "11. Based on the above details of EDA and Descriptive statisitcs analysis what would you say could be the possible factors which can affect producitivity. \n",
    "\n",
    "Hypothesis Testing \n",
    "\n",
    "12. Test using Z test (take a random sample of more than 30 and assume sigma =.1) whether the finishing department has achieved more acheived producitivity than .75 for a standard deviation of .1. State your null and alternative hypothesis. alpha value is .05\n",
    "\n",
    "13. Test using Z test(take a random sample of more than 30 and assume sigma =.1) whether the sewing department has achieved more producitivit than .75 for a standard deviation of .1. State your null and alternative hypothesis. alpha value is .05.\n",
    "\n",
    "14. Conduct a two sample t test (take a random sample more than 30) to check whether the finishing department has achieved more actual productivtiy than sewing     department. State your null and alternative hypothesis \n",
    "\n",
    "15. Conduct a two sample t (take a random sample less than 30) test to check whether the finishing department has achieved obtained higher incentive than sewing department, state your null and alternative hypothesis. In case test fails for normality check, then take a sample more than 30. \n",
    "\n",
    "16. The manager has asked you to classifiy low productivity as less than .5, medium between .5 and less than .75 and higher\n",
    "    as greater than or equal to .75. He believes that the percentage of  actual producvity  in  sewing departemnt for   \n",
    "    person classified as low is 30%, for medium is 40% and for high is 30%. USing chi square test can you prove whether his \n",
    "    hypothesis is right or not \n",
    "\n",
    "17. Based on the EDA analysis the manager has decided to find out whether different quarters are having an impact on actual productivity. Assuming normality of data conduct an analysis accordingly Conduct an ANOVA for comparing productivity for Quarter1, Quarter2, Quarter3, Quarter 4 and accordingly conclude (Assume data is normally distributed)\n",
    "\n",
    "18. Based on the EDA analysis the manager has decided to find out whether different days  are having an impact on actual productivity. Assuming normality of data conduct an analysis accordingly Conduct an ANOVA for comparing productivity for Quarter1, Quarter2, Quarter3, Quarter 4 and accordingly conclude (Assume data is normally distributed)\n",
    "\n",
    "19. In case the manager is interested whether day and quarters have an impact on actual producitivity, provide an analysis and identify which factors play a role in affecting productivty\n",
    "\n",
    "20. Based on 17 eliminate one of the variabes which is not significant and reconduct analysis using deparment as another variable, what do you conclude.\n",
    "\n",
    "21. Based on EDA and Hypothesis would you aggree or disaggree with the finding, also in addition summarize the findings based on both analysis and provide a recommendation on what you can thinking on improving the producitivity. \n",
    "\n"
   ]
  },
  {
   "cell_type": "code",
   "execution_count": 1,
   "id": "796c912d",
   "metadata": {},
   "outputs": [],
   "source": [
    "import numpy as np\n",
    "import pandas as pd\n",
    "import seaborn as sns\n",
    "import matplotlib.pyplot as plt\n",
    "import scipy.stats as stats\n",
    "from scipy.stats import f_oneway\n",
    "# import statsmodels\n",
    "import statsmodels.api as sm\n",
    "from statsmodels.formula.api import ols\n",
    "from statsmodels.stats.anova import anova_lm\n",
    "# import the functions to perform Chi-square tests\n",
    "from scipy.stats import chi2_contingency\n",
    "from scipy.stats import chi2\n",
    "from scipy.stats import chisquare"
   ]
  },
  {
   "cell_type": "code",
   "execution_count": 2,
   "id": "e46e9d79",
   "metadata": {},
   "outputs": [
    {
     "name": "stdout",
     "output_type": "stream",
     "text": [
      "<class 'pandas.core.frame.DataFrame'>\n",
      "RangeIndex: 1197 entries, 0 to 1196\n",
      "Data columns (total 15 columns):\n",
      " #   Column                 Non-Null Count  Dtype  \n",
      "---  ------                 --------------  -----  \n",
      " 0   date                   1197 non-null   object \n",
      " 1   quarter                1197 non-null   object \n",
      " 2   department             1197 non-null   object \n",
      " 3   day                    1197 non-null   object \n",
      " 4   team                   1197 non-null   int64  \n",
      " 5   targeted_productivity  1197 non-null   float64\n",
      " 6   smv                    1197 non-null   float64\n",
      " 7   wip                    691 non-null    float64\n",
      " 8   over_time              1197 non-null   int64  \n",
      " 9   incentive              1197 non-null   int64  \n",
      " 10  idle_time              1197 non-null   float64\n",
      " 11  idle_men               1197 non-null   int64  \n",
      " 12  no_of_style_change     1197 non-null   int64  \n",
      " 13  no_of_workers          1197 non-null   float64\n",
      " 14  actual_productivity    1197 non-null   float64\n",
      "dtypes: float64(6), int64(5), object(4)\n",
      "memory usage: 140.4+ KB\n"
     ]
    }
   ],
   "source": [
    "\n",
    "df = pd.read_csv('garments_worker_productivity.csv')\n",
    "df.info()"
   ]
  },
  {
   "cell_type": "markdown",
   "id": "60ef4eb2",
   "metadata": {},
   "source": [
    "Exploratory Data Analysis & Descriptive Statistics \n",
    "\n",
    "1. Basic Summary statistics of the data for the numerical variables \n",
    "2. basic Summary of the data for the number of working days, count of quarters in the year\n",
    "3. Mean and standard deviation of actual producivity for every quarter and Histogram plot of actual productivity based on every quarter and conclusion accordingly\n",
    "4. Number count for sewing and finishing department \n",
    "5. Mean and standard deviation of actual producivity for sewing and finishing Histogram plot of actual productivity based on both department and conclusion accordingly\n",
    "6. Number count for  teams, smv across the year\n",
    "7. Histogram & Box plot of actual productivity based on all working days, team size, quarterts and  Conclude accordingly \n",
    "8. Find correlation matrix and draw heat map for all variables\n",
    "9. Conclude (Is the company able to meet target, are they giving incentives based on producitivity, does overtime have any effect on productivity)\n",
    "10. Find the correlation between actual and target productivity for every quarter and for every department. What do you conclude\n",
    "11. Based on the above details of EDA and Descriptive statisitcs analysis what would you say could be the possible factors which can affect producitivity. "
   ]
  },
  {
   "cell_type": "code",
   "execution_count": 3,
   "id": "b481e77b",
   "metadata": {},
   "outputs": [
    {
     "data": {
      "text/html": [
       "<div>\n",
       "<style scoped>\n",
       "    .dataframe tbody tr th:only-of-type {\n",
       "        vertical-align: middle;\n",
       "    }\n",
       "\n",
       "    .dataframe tbody tr th {\n",
       "        vertical-align: top;\n",
       "    }\n",
       "\n",
       "    .dataframe thead th {\n",
       "        text-align: right;\n",
       "    }\n",
       "</style>\n",
       "<table border=\"1\" class=\"dataframe\">\n",
       "  <thead>\n",
       "    <tr style=\"text-align: right;\">\n",
       "      <th></th>\n",
       "      <th>count</th>\n",
       "      <th>mean</th>\n",
       "      <th>std</th>\n",
       "      <th>min</th>\n",
       "      <th>25%</th>\n",
       "      <th>50%</th>\n",
       "      <th>75%</th>\n",
       "      <th>max</th>\n",
       "    </tr>\n",
       "  </thead>\n",
       "  <tbody>\n",
       "    <tr>\n",
       "      <th>team</th>\n",
       "      <td>1197.0</td>\n",
       "      <td>6.426901</td>\n",
       "      <td>3.463963</td>\n",
       "      <td>1.000000</td>\n",
       "      <td>3.000000</td>\n",
       "      <td>6.000000</td>\n",
       "      <td>9.000000</td>\n",
       "      <td>12.000000</td>\n",
       "    </tr>\n",
       "    <tr>\n",
       "      <th>targeted_productivity</th>\n",
       "      <td>1197.0</td>\n",
       "      <td>0.729632</td>\n",
       "      <td>0.097891</td>\n",
       "      <td>0.070000</td>\n",
       "      <td>0.700000</td>\n",
       "      <td>0.750000</td>\n",
       "      <td>0.800000</td>\n",
       "      <td>0.800000</td>\n",
       "    </tr>\n",
       "    <tr>\n",
       "      <th>smv</th>\n",
       "      <td>1197.0</td>\n",
       "      <td>15.062172</td>\n",
       "      <td>10.943219</td>\n",
       "      <td>2.900000</td>\n",
       "      <td>3.940000</td>\n",
       "      <td>15.260000</td>\n",
       "      <td>24.260000</td>\n",
       "      <td>54.560000</td>\n",
       "    </tr>\n",
       "    <tr>\n",
       "      <th>wip</th>\n",
       "      <td>691.0</td>\n",
       "      <td>1190.465991</td>\n",
       "      <td>1837.455001</td>\n",
       "      <td>7.000000</td>\n",
       "      <td>774.500000</td>\n",
       "      <td>1039.000000</td>\n",
       "      <td>1252.500000</td>\n",
       "      <td>23122.000000</td>\n",
       "    </tr>\n",
       "    <tr>\n",
       "      <th>over_time</th>\n",
       "      <td>1197.0</td>\n",
       "      <td>4567.460317</td>\n",
       "      <td>3348.823563</td>\n",
       "      <td>0.000000</td>\n",
       "      <td>1440.000000</td>\n",
       "      <td>3960.000000</td>\n",
       "      <td>6960.000000</td>\n",
       "      <td>25920.000000</td>\n",
       "    </tr>\n",
       "    <tr>\n",
       "      <th>incentive</th>\n",
       "      <td>1197.0</td>\n",
       "      <td>38.210526</td>\n",
       "      <td>160.182643</td>\n",
       "      <td>0.000000</td>\n",
       "      <td>0.000000</td>\n",
       "      <td>0.000000</td>\n",
       "      <td>50.000000</td>\n",
       "      <td>3600.000000</td>\n",
       "    </tr>\n",
       "    <tr>\n",
       "      <th>idle_time</th>\n",
       "      <td>1197.0</td>\n",
       "      <td>0.730159</td>\n",
       "      <td>12.709757</td>\n",
       "      <td>0.000000</td>\n",
       "      <td>0.000000</td>\n",
       "      <td>0.000000</td>\n",
       "      <td>0.000000</td>\n",
       "      <td>300.000000</td>\n",
       "    </tr>\n",
       "    <tr>\n",
       "      <th>idle_men</th>\n",
       "      <td>1197.0</td>\n",
       "      <td>0.369256</td>\n",
       "      <td>3.268987</td>\n",
       "      <td>0.000000</td>\n",
       "      <td>0.000000</td>\n",
       "      <td>0.000000</td>\n",
       "      <td>0.000000</td>\n",
       "      <td>45.000000</td>\n",
       "    </tr>\n",
       "    <tr>\n",
       "      <th>no_of_style_change</th>\n",
       "      <td>1197.0</td>\n",
       "      <td>0.150376</td>\n",
       "      <td>0.427848</td>\n",
       "      <td>0.000000</td>\n",
       "      <td>0.000000</td>\n",
       "      <td>0.000000</td>\n",
       "      <td>0.000000</td>\n",
       "      <td>2.000000</td>\n",
       "    </tr>\n",
       "    <tr>\n",
       "      <th>no_of_workers</th>\n",
       "      <td>1197.0</td>\n",
       "      <td>34.609858</td>\n",
       "      <td>22.197687</td>\n",
       "      <td>2.000000</td>\n",
       "      <td>9.000000</td>\n",
       "      <td>34.000000</td>\n",
       "      <td>57.000000</td>\n",
       "      <td>89.000000</td>\n",
       "    </tr>\n",
       "    <tr>\n",
       "      <th>actual_productivity</th>\n",
       "      <td>1197.0</td>\n",
       "      <td>0.735091</td>\n",
       "      <td>0.174488</td>\n",
       "      <td>0.233705</td>\n",
       "      <td>0.650307</td>\n",
       "      <td>0.773333</td>\n",
       "      <td>0.850253</td>\n",
       "      <td>1.120437</td>\n",
       "    </tr>\n",
       "  </tbody>\n",
       "</table>\n",
       "</div>"
      ],
      "text/plain": [
       "                        count         mean          std       min  \\\n",
       "team                   1197.0     6.426901     3.463963  1.000000   \n",
       "targeted_productivity  1197.0     0.729632     0.097891  0.070000   \n",
       "smv                    1197.0    15.062172    10.943219  2.900000   \n",
       "wip                     691.0  1190.465991  1837.455001  7.000000   \n",
       "over_time              1197.0  4567.460317  3348.823563  0.000000   \n",
       "incentive              1197.0    38.210526   160.182643  0.000000   \n",
       "idle_time              1197.0     0.730159    12.709757  0.000000   \n",
       "idle_men               1197.0     0.369256     3.268987  0.000000   \n",
       "no_of_style_change     1197.0     0.150376     0.427848  0.000000   \n",
       "no_of_workers          1197.0    34.609858    22.197687  2.000000   \n",
       "actual_productivity    1197.0     0.735091     0.174488  0.233705   \n",
       "\n",
       "                               25%          50%          75%           max  \n",
       "team                      3.000000     6.000000     9.000000     12.000000  \n",
       "targeted_productivity     0.700000     0.750000     0.800000      0.800000  \n",
       "smv                       3.940000    15.260000    24.260000     54.560000  \n",
       "wip                     774.500000  1039.000000  1252.500000  23122.000000  \n",
       "over_time              1440.000000  3960.000000  6960.000000  25920.000000  \n",
       "incentive                 0.000000     0.000000    50.000000   3600.000000  \n",
       "idle_time                 0.000000     0.000000     0.000000    300.000000  \n",
       "idle_men                  0.000000     0.000000     0.000000     45.000000  \n",
       "no_of_style_change        0.000000     0.000000     0.000000      2.000000  \n",
       "no_of_workers             9.000000    34.000000    57.000000     89.000000  \n",
       "actual_productivity       0.650307     0.773333     0.850253      1.120437  "
      ]
     },
     "execution_count": 3,
     "metadata": {},
     "output_type": "execute_result"
    }
   ],
   "source": [
    "#1\n",
    "df.describe().T"
   ]
  },
  {
   "cell_type": "code",
   "execution_count": 4,
   "id": "a886427d",
   "metadata": {},
   "outputs": [
    {
     "name": "stdout",
     "output_type": "stream",
     "text": [
      "Number of working days: 59 Days\n",
      "Count of quaters in years: 5 Quaters\n"
     ]
    }
   ],
   "source": [
    "#2\n",
    "print(f\"Number of working days: {df.date.nunique()} Days\")\n",
    "\n",
    "print(f\"Count of quaters in years: {df.quarter.nunique()} Quaters\")"
   ]
  },
  {
   "cell_type": "code",
   "execution_count": 99,
   "id": "f58c9687",
   "metadata": {},
   "outputs": [
    {
     "data": {
      "image/png": "[encoded data removed]",
      "text/plain": [
       "<Figure size 600x400 with 1 Axes>"
      ]
     },
     "metadata": {},
     "output_type": "display_data"
    },
    {
     "data": {
      "image/png": "[encoded data removed]",
      "text/plain": [
       "<Figure size 600x400 with 1 Axes>"
      ]
     },
     "metadata": {},
     "output_type": "display_data"
    },
    {
     "data": {
      "image/png": "[encoded data removed]",
      "text/plain": [
       "<Figure size 600x400 with 1 Axes>"
      ]
     },
     "metadata": {},
     "output_type": "display_data"
    },
    {
     "data": {
      "image/png": "[encoded data removed]",
      "text/plain": [
       "<Figure size 600x400 with 1 Axes>"
      ]
     },
     "metadata": {},
     "output_type": "display_data"
    },
    {
     "data": {
      "image/png": "[encoded data removed]",
      "text/plain": [
       "<Figure size 600x400 with 1 Axes>"
      ]
     },
     "metadata": {},
     "output_type": "display_data"
    },
    {
     "name": "stdout",
     "output_type": "stream",
     "text": [
      "Mean and Standard Deviation of Actual Productivity for Each Quarter:\n",
      "              mean       std\n",
      "quarter                     \n",
      "Quarter5  0.826177  0.183851\n"
     ]
    }
   ],
   "source": [
    "#3\n",
    "\n",
    "for quarter, data in df.groupby('quarter'):\n",
    "    plt.figure(figsize=(6,4))\n",
    "    plt.hist(data['actual_productivity'], bins=10) \n",
    "    plt.title(f\"Histogram of Actual Productivity for {quarter}\")\n",
    "    plt.xlabel(\"Actual Productivity\")\n",
    "    plt.ylabel(\"Frequency\")\n",
    "    plt.grid(True)\n",
    "    plt.show()\n",
    "    \n",
    "quarterly_stats = data.groupby('quarter')['actual_productivity'].agg(['mean', 'std'])\n",
    "\n",
    "print(\"Mean and Standard Deviation of Actual Productivity for Each Quarter:\")\n",
    "print(quarterly_stats)"
   ]
  },
  {
   "cell_type": "code",
   "execution_count": 6,
   "id": "fd89e0ee",
   "metadata": {},
   "outputs": [
    {
     "name": "stdout",
     "output_type": "stream",
     "text": [
      "No. of Sewing Departments =  691\n",
      "No. of Finishing Departments =  506\n"
     ]
    }
   ],
   "source": [
    "#4\n",
    "\n",
    "department_counts = df[\"department\"].value_counts()\n",
    "\n",
    "#print(f\"Number of Sewing Departments = {department_counts.get(\"sewing\",0)}\")\n",
    "print(\"No. of Sewing Departments = \", department_counts.get(\"sewing\",0))\n",
    "\n",
    "print(\"No. of Finishing Departments = \", department_counts.get(\"finishing\",0))"
   ]
  },
  {
   "cell_type": "code",
   "execution_count": 98,
   "id": "787ab616",
   "metadata": {},
   "outputs": [
    {
     "data": {
      "image/png": "[encoded data removed]",
      "text/plain": [
       "<Figure size 600x400 with 1 Axes>"
      ]
     },
     "metadata": {},
     "output_type": "display_data"
    },
    {
     "name": "stdout",
     "output_type": "stream",
     "text": [
      "Sewing Mean:  0.7220130317105644\n",
      "Sewing Std Dev:  0.15478432010106702\n",
      "########################################\n",
      "Finishing Mean:  0.7529506683241106\n",
      "Finishing Std Dev:  0.19702098306497745\n"
     ]
    }
   ],
   "source": [
    "#5\n",
    "\n",
    "sewing_data = df[df[\"department\"] == \"sewing\"]\n",
    "finishing_data = df[df[\"department\"] == \"finishing\"]\n",
    "\n",
    "sewing_mean = sewing_data[\"actual_productivity\"].mean()\n",
    "sewing_std = sewing_data[\"actual_productivity\"].std()\n",
    "\n",
    "finishing_mean = finishing_data[\"actual_productivity\"].mean()\n",
    "finishing_std = finishing_data[\"actual_productivity\"].std()\n",
    "\n",
    "plt.figure(figsize=(6,4))\n",
    "plt.hist(finishing_data[\"actual_productivity\"], bins=10)\n",
    "plt.title(\"Histogram of Actual Productivity for Finishing Department\")\n",
    "plt.xlabel(\"Actual Productivity\")\n",
    "plt.ylabel(\"Frequency\")\n",
    "plt.grid(True)\n",
    "plt.show()\n",
    "\n",
    "print(\"Sewing Mean: \", sewing_mean)\n",
    "print(\"Sewing Std Dev: \", sewing_std)\n",
    "print(\"########################################\")\n",
    "print(\"Finishing Mean: \", finishing_mean)\n",
    "print(\"Finishing Std Dev: \", finishing_std)"
   ]
  },
  {
   "cell_type": "code",
   "execution_count": 8,
   "id": "0b115fa2",
   "metadata": {},
   "outputs": [
    {
     "name": "stdout",
     "output_type": "stream",
     "text": [
      "Number of teams across the data: 12\n",
      "Number of teams across the data: 70\n"
     ]
    }
   ],
   "source": [
    "#6\n",
    "\n",
    "print(f\"Number of teams across the data: {df.team.nunique()}\")\n",
    "\n",
    "print(f\"Number of teams across the data: {df.smv.nunique()}\")"
   ]
  },
  {
   "cell_type": "code",
   "execution_count": 96,
   "id": "e26330de",
   "metadata": {},
   "outputs": [
    {
     "name": "stderr",
     "output_type": "stream",
     "text": [
      "C:\\Users\\dkewa\\anaconda3\\Lib\\site-packages\\seaborn\\_oldcore.py:1119: FutureWarning: use_inf_as_na option is deprecated and will be removed in a future version. Convert inf values to NaN before operating instead.\n",
      "  with pd.option_context('mode.use_inf_as_na', True):\n"
     ]
    },
    {
     "data": {
      "image/png": "[encoded data removed]",
      "text/plain": [
       "<Figure size 600x400 with 1 Axes>"
      ]
     },
     "metadata": {},
     "output_type": "display_data"
    },
    {
     "data": {
      "image/png": "[encoded data removed]",
      "text/plain": [
       "<Figure size 600x400 with 1 Axes>"
      ]
     },
     "metadata": {},
     "output_type": "display_data"
    },
    {
     "data": {
      "image/png": "[encoded data removed]",
      "text/plain": [
       "<Figure size 600x400 with 1 Axes>"
      ]
     },
     "metadata": {},
     "output_type": "display_data"
    }
   ],
   "source": [
    "#7\n",
    "#Histogram of Actual Productivity\n",
    "plt.figure(figsize=(6,4))\n",
    "sns.histplot(df['actual_productivity'], bins=20, kde=True, color='green')\n",
    "plt.title('Histogram of Actual Productivity')\n",
    "plt.xlabel('Actual Productivity')\n",
    "plt.ylabel('Frequency')\n",
    "plt.grid(True)\n",
    "plt.show()\n",
    "\n",
    "#Box Plot of Actual Productivity by Quarters\n",
    "plt.figure(figsize=(6,4))\n",
    "sns.boxplot(x='quarter', y='actual_productivity', data=df)\n",
    "plt.title('Box Plot of Actual Productivity by Quarters')\n",
    "plt.xlabel('Quarters')\n",
    "plt.ylabel('Actual Productivity')\n",
    "plt.grid(True)\n",
    "plt.show()\n",
    "\n",
    "#Box Plot of Actual Productivity by Team Size\n",
    "plt.figure(figsize=(6,4))\n",
    "sns.boxplot(x='team', y='actual_productivity', data=df)\n",
    "plt.title('Box Plot of Actual Productivity by Team Size')\n",
    "plt.xlabel('Team Size')\n",
    "plt.ylabel('Actual Productivity')\n",
    "plt.grid(True)\n",
    "plt.show()"
   ]
  },
  {
   "cell_type": "markdown",
   "id": "9f2001fb",
   "metadata": {},
   "source": [
    "# Conclusion:\n",
    "\n",
    "It is seen that productivity is highest on Saturdays as compared on the other days. This trend may be attributed to the fact that Saturday marks the first working day of the week following the weekly off on Fridays.\n",
    "\n",
    "Team 7 stands out as the most consistent team without any outliers. Despite of having lower productivity compared to other teams, data shows an almost symmetric interquartile range (IQR).\n",
    "\n",
    "Team 12, on the other hand, exhibits the highest number of outliers on both ends, it indicates a skewed performance.\n",
    "\n",
    "Finally, Team 2 shows the top-performing team, having high productivity with symmetric IQR and only a few outliers on the lower end (Q1), with none on the upper end (Q4)."
   ]
  },
  {
   "cell_type": "markdown",
   "id": "f0430df5",
   "metadata": {},
   "source": [
    "The observed productivity levels are approximately 75% for Quarter 1 and Quarter 2, and around 70% for Quarter 3 and Quarter 4. It shows that workers tend to be more productive during the first two quarters, propably due to the motivating factor of their good rewarding salary.\n"
   ]
  },
  {
   "cell_type": "code",
   "execution_count": 97,
   "id": "fc931c0e",
   "metadata": {},
   "outputs": [
    {
     "data": {
      "image/png": "[encoded data removed]",
      "text/plain": [
       "<Figure size 600x400 with 2 Axes>"
      ]
     },
     "metadata": {},
     "output_type": "display_data"
    }
   ],
   "source": [
    "#8\n",
    "numeric_df = df.select_dtypes(include=['number'])\n",
    "correlation_matrix = numeric_df.corr()\n",
    "\n",
    "plt.figure(figsize=(6,4))\n",
    "sns.heatmap(correlation_matrix, annot=True, cmap='rainbow', fmt=\".2f\", linewidths=0.5)\n",
    "plt.title('Correlation Heatmap of Variables')\n",
    "plt.show()"
   ]
  },
  {
   "cell_type": "markdown",
   "id": "a122b2a5",
   "metadata": {},
   "source": [
    "#9\n",
    "\n",
    "In summary, the correlation statistic and heat map reveal several insights:\n",
    "\n",
    "The company generally meets targeted productivity, that shows a positive correlation value.\n",
    "There is a weak correlation between incentive-based pay and productivity, suggesting that the company's incentive system may not significantly impacting the production levels despite the positive correlation as shown above.\n",
    "Overtime hours does not help to have a significant effect on worker productivity, thus correlation that tends towards 0."
   ]
  },
  {
   "cell_type": "code",
   "execution_count": 11,
   "id": "d641d2c0",
   "metadata": {
    "scrolled": true
   },
   "outputs": [
    {
     "name": "stdout",
     "output_type": "stream",
     "text": [
      "\n",
      "The correlation between Target and Actual productivity in Q1: 0.4927793386735178\n",
      "\n",
      "The correlation between Target and Actual productivity in Q2: 0.4271639308218039\n",
      "\n",
      "The correlation between Target and Actual productivity in Q3: 0.39263722595670114\n",
      "\n",
      "The correlation between Target and Actual productivity in Q4: 0.3475941395593121\n",
      "\n",
      "The correlation between Target and Actual productivity in Sewing Dept: 0.697969734620463\n",
      "\n",
      "The correlation between Target and Actual productivity in Finishing Dept: 0.0975104286830077\n"
     ]
    }
   ],
   "source": [
    "#10\n",
    "\n",
    "q1 = df[df['quarter'] == 'Quarter1']\n",
    "q2 = df[df['quarter'] == 'Quarter2']\n",
    "q3 = df[df['quarter'] == 'Quarter3']\n",
    "q4 = df[df['quarter'] == 'Quarter4']\n",
    "\n",
    "# Department wise data\n",
    "sew = df[df['department'] == 'sewing']\n",
    "fin = df[df['department'] == 'finishing']\n",
    "\n",
    "print('\\nThe correlation between Target and Actual productivity in Q1:', q1.targeted_productivity.corr(q1.actual_productivity))\n",
    "print('\\nThe correlation between Target and Actual productivity in Q2:', q2.targeted_productivity.corr(q2.actual_productivity))\n",
    "print('\\nThe correlation between Target and Actual productivity in Q3:', q3.targeted_productivity.corr(q3.actual_productivity))\n",
    "print('\\nThe correlation between Target and Actual productivity in Q4:', q4.targeted_productivity.corr(q4.actual_productivity))\n",
    "print('\\nThe correlation between Target and Actual productivity in Sewing Dept:', sew.targeted_productivity.corr(sew.actual_productivity))\n",
    "print('\\nThe correlation between Target and Actual productivity in Finishing Dept:', fin.targeted_productivity.corr(fin.actual_productivity))"
   ]
  },
  {
   "cell_type": "markdown",
   "id": "011ee4f8",
   "metadata": {},
   "source": [
    "##### The correlation statistic highlights the following observations:\n",
    "\n",
    "Targeted and actual productivity exhibit the strongest correlation in Quarter 1, decreasing gradually with each subsequent quarter, reaching its weakest point in Quarter 4. Despite this, they maintain a positive relationship throughout.\n",
    "The sewing department demonstrates a strong correlation between targeted and actual productivity. However, in the finishing department, it appears to be no significant correlation between targeted and actual productivity, with the correlation statistic approaching to be 0."
   ]
  },
  {
   "cell_type": "markdown",
   "id": "c4335200",
   "metadata": {},
   "source": [
    "#11\n",
    "\n",
    "\n",
    "##### Based on the Observation on descriptive statistics provided:\n",
    "\n",
    "Workers shows their highest productivity in Quarter 1, with a gradual decline in productivity is observed in subsequent quarters.\n",
    "While Team 7 displays the most consistent performance, it is evident that Team 2 achieves notably higher productivity levels.\n",
    "Saturdays, following the weekly holiday on Fridays, coincide with peak productivity among workers.\n",
    "Incentives do not appear to be correlated with productivity, and overtime hours do not significantly influence productivity levels.\n",
    "Two variables negatively impacting actual productivity are identified as idle workers and the number of style changes accordingly."
   ]
  },
  {
   "cell_type": "markdown",
   "id": "f2dea8fc",
   "metadata": {},
   "source": [
    "Hypothesis Testing \n",
    "\n",
    "12. Test using Z test (take a random sample of more than 30 and assume sigma =.1) whether the finishing department has achieved more acheived producitivity than .75 for a standard deviation of .1. State your null and alternative hypothesis. alpha value is .05\n",
    "\n",
    "13. Test using Z test(take a random sample of more than 30 and assume sigma =.1) whether the sewing department has achieved more producitivit than .75 for a standard deviation of .1. State your null and alternative hypothesis. alpha value is .05.\n",
    "\n",
    "14. Conduct a two sample t test (take a random sample more than 30) to check whether the finishing department has achieved more actual productivtiy than sewing     department. State your null and alternative hypothesis \n",
    "\n",
    "15. Conduct a two sample t (take a random sample less than 30) test to check whether the finishing department has achieved obtained higher incentive than sewing department, state your null and alternative hypothesis. In case test fails for normality check, then take a sample more than 30. \n",
    "\n",
    "16. The manager has asked you to classifiy low productivity as less than .5, medium between .5 and less than .75 and higher\n",
    "    as greater than or equal to .75. He believes that the percentage of  actual producvity  in  sewing departemnt for   \n",
    "    person classified as low is 30%, for medium is 40% and for high is 30%. USing chi square test can you prove whether his \n",
    "    hypothesis is right or not \n",
    "\n",
    "17. Based on the EDA analysis the manager has decided to find out whether different quarters are having an impact on actual productivity. Assuming normality of data conduct an analysis accordingly Conduct an ANOVA for comparing productivity for Quarter1, Quarter2, Quarter3, Quarter 4 and accordingly conclude (Assume data is normally distributed)\n",
    "\n",
    "18. Based on the EDA analysis the manager has decided to find out whether different days  are having an impact on actual productivity. Assuming normality of data conduct an analysis accordingly Conduct an ANOVA for comparing productivity for Quarter1, Quarter2, Quarter3, Quarter 4 and accordingly conclude (Assume data is normally distributed)\n",
    "\n",
    "19. In case the manager is interested whether day and quarters have an impact on actual producitivity, provide an analysis and identify which factors play a role in affecting productivty\n",
    "\n",
    "20. Based on 17 eliminate one of the variabes which is not significant and reconduct analysis using deparment as another variable, what do you conclude.\n",
    "\n",
    "21. Based on EDA and Hypothesis would you aggree or disaggree with the finding, also in addition summarize the findings based on both analysis and provide a recommendation on what you can thinking on improving the producitivity. \n"
   ]
  },
  {
   "cell_type": "code",
   "execution_count": 12,
   "id": "a79f440c",
   "metadata": {},
   "outputs": [
    {
     "data": {
      "text/plain": [
       "ShapiroResult(statistic=0.8955849409103394, pvalue=2.606305861263536e-05)"
      ]
     },
     "execution_count": 12,
     "metadata": {},
     "output_type": "execute_result"
    }
   ],
   "source": [
    "#12\n",
    "\n",
    "import random\n",
    "sample_finishing = random.sample(list(df[df['department'] == 'finishing']['actual_productivity']), 70)\n",
    "\n",
    "stats.shapiro(sample_finishing)"
   ]
  },
  {
   "cell_type": "markdown",
   "id": "a10ad4f8",
   "metadata": {},
   "source": [
    "Since P Value is less than 0.05, we can conclude that the data does not follow normal distribution.\\\n",
    "reject the Null Hypothesis (Ho) \\\n",
    "Assuming normal distribution and proceeding with Z Test."
   ]
  },
  {
   "cell_type": "code",
   "execution_count": 13,
   "id": "6e9d7f20",
   "metadata": {},
   "outputs": [
    {
     "data": {
      "text/plain": [
       "1.64"
      ]
     },
     "execution_count": 13,
     "metadata": {},
     "output_type": "execute_result"
    }
   ],
   "source": [
    "#critical value\n",
    "round(stats.norm.isf(0.05), 2)"
   ]
  },
  {
   "cell_type": "markdown",
   "id": "1da3fe4e",
   "metadata": {},
   "source": [
    "If the Z Statistic value is greater than 1.64, we can reject the null hypothesis(Ho)."
   ]
  },
  {
   "cell_type": "code",
   "execution_count": 14,
   "id": "78823e17",
   "metadata": {},
   "outputs": [
    {
     "data": {
      "text/plain": [
       "(0.4243260776240773, 0.3356640117593718)"
      ]
     },
     "execution_count": 14,
     "metadata": {},
     "output_type": "execute_result"
    }
   ],
   "source": [
    "import statsmodels.stats.weightstats as statistics\n",
    "statistics.ztest(sample_finishing, value=0.75, alternative='larger')"
   ]
  },
  {
   "cell_type": "markdown",
   "id": "b0f78c07",
   "metadata": {},
   "source": [
    "Given that the Z statistic is below the critical value of 1.64 and the p-value is greater than 0.05, we fail to reject the null hypothesis. \n",
    "Therefore, there is sufficient evidence to indicate that the finishing department has attained productivity levels greater than 0.75."
   ]
  },
  {
   "cell_type": "code",
   "execution_count": 15,
   "id": "c324218b",
   "metadata": {},
   "outputs": [
    {
     "data": {
      "text/plain": [
       "ShapiroResult(statistic=0.9104839563369751, pvalue=0.00010318528802599758)"
      ]
     },
     "execution_count": 15,
     "metadata": {},
     "output_type": "execute_result"
    }
   ],
   "source": [
    "#13\n",
    "import random\n",
    "sample_sewing = random.sample(list(df[df['department'] == 'sewing']['actual_productivity']), 70)\n",
    "\n",
    "stats.shapiro(sample_sewing)"
   ]
  },
  {
   "cell_type": "markdown",
   "id": "a1cfa612",
   "metadata": {},
   "source": [
    "Given that the p-value is smaller than 0.05, we can conclude that the data does not follow a normal distribution. However, for the purpose of the analysis, we will proceed with a Z test assuming normal distribution.\n",
    "reject the null hypothesis(Ho)"
   ]
  },
  {
   "cell_type": "code",
   "execution_count": 16,
   "id": "96ec87e7",
   "metadata": {},
   "outputs": [
    {
     "data": {
      "text/plain": [
       "1.64"
      ]
     },
     "execution_count": 16,
     "metadata": {},
     "output_type": "execute_result"
    }
   ],
   "source": [
    "# critical value\n",
    "round(stats.norm.isf(0.05), 2)"
   ]
  },
  {
   "cell_type": "markdown",
   "id": "f6c5420f",
   "metadata": {},
   "source": [
    "If the Z statistic value exceeds 1.64, we have sufficient evidence to reject the null hypothesis."
   ]
  },
  {
   "cell_type": "code",
   "execution_count": 19,
   "id": "8d692892",
   "metadata": {},
   "outputs": [
    {
     "data": {
      "text/plain": [
       "(-1.0794031818605103, 0.8597959834370643)"
      ]
     },
     "execution_count": 19,
     "metadata": {},
     "output_type": "execute_result"
    }
   ],
   "source": [
    "\n",
    "statistics.ztest(sample_sewing, value=0.75, alternative='larger')"
   ]
  },
  {
   "cell_type": "markdown",
   "id": "d191753f",
   "metadata": {},
   "source": [
    "Given that the Z statistic is less than the critical value of 1.64 and the p-value is greater than 0.05, we fail to reject the null hypothesis. Therefore, there is not enough evidence to conclude that the sewing department has achieved productivity levels greater than 0.75."
   ]
  },
  {
   "cell_type": "code",
   "execution_count": 20,
   "id": "eee7e80d",
   "metadata": {},
   "outputs": [
    {
     "data": {
      "text/plain": [
       "LeveneResult(statistic=9.65986286686773, pvalue=0.002287553584737915)"
      ]
     },
     "execution_count": 20,
     "metadata": {},
     "output_type": "execute_result"
    }
   ],
   "source": [
    "#14\n",
    "\n",
    "samp_sewing = random.sample(list(df[df['department'] == 'sewing']['actual_productivity']), 70)\n",
    "samp_finishing = random.sample(list(df[df['department'] == 'finishing']['actual_productivity']), 70)\n",
    "# Levene test to check for equality of variences\n",
    "stats.levene(samp_finishing, samp_sewing)"
   ]
  },
  {
   "cell_type": "markdown",
   "id": "48658094",
   "metadata": {},
   "source": [
    "Since the p-value is less than 0.05, indicating a significant difference in variances, we cannot assume equality of variances. Therefore, we will proceed with a t-test without assuming equal variances."
   ]
  },
  {
   "cell_type": "code",
   "execution_count": 21,
   "id": "ce3c8dd8",
   "metadata": {},
   "outputs": [
    {
     "data": {
      "text/plain": [
       "1.66"
      ]
     },
     "execution_count": 21,
     "metadata": {},
     "output_type": "execute_result"
    }
   ],
   "source": [
    "#critical value\n",
    "round(stats.t.isf(0.05, (140 - 2)), 2)"
   ]
  },
  {
   "cell_type": "markdown",
   "id": "d4e02e94",
   "metadata": {},
   "source": [
    "If the T Statistic is greater then 1.66, we can reject the null hypothesis."
   ]
  },
  {
   "cell_type": "code",
   "execution_count": 22,
   "id": "28df43e8",
   "metadata": {},
   "outputs": [
    {
     "data": {
      "text/plain": [
       "TtestResult(statistic=0.3248578429816697, pvalue=0.37289030604421003, df=138.0)"
      ]
     },
     "execution_count": 22,
     "metadata": {},
     "output_type": "execute_result"
    }
   ],
   "source": [
    "stats.ttest_ind(samp_finishing, samp_sewing, alternative='greater')"
   ]
  },
  {
   "cell_type": "markdown",
   "id": "02fb45de",
   "metadata": {},
   "source": [
    "### Conclusion:\n",
    "    \n",
    "    Given that the t-statistic is less than 1.64 and the p-value is greater than 0.05, we fail to reject the null hypothesis. Therefore, there is not     enough to conclude that the actual productivity of the finishing department is greater than that of the sewing department.\n"
   ]
  },
  {
   "cell_type": "code",
   "execution_count": 23,
   "id": "66713691",
   "metadata": {},
   "outputs": [
    {
     "data": {
      "text/plain": [
       "ShapiroResult(statistic=0.9290140867233276, pvalue=0.0824725329875946)"
      ]
     },
     "execution_count": 23,
     "metadata": {},
     "output_type": "execute_result"
    }
   ],
   "source": [
    "#15\n",
    "\n",
    "samp_in_sew = random.sample(list(df[df['department'] == 'sewing']['incentive']), 25)\n",
    "samp_in_fin = random.sample(list(df[df['department'] == 'finishing']['incentive']), 25)\n",
    "\n",
    "stats.shapiro(samp_in_sew)"
   ]
  },
  {
   "cell_type": "code",
   "execution_count": 24,
   "id": "5ed6144b",
   "metadata": {},
   "outputs": [
    {
     "data": {
      "text/plain": [
       "ShapiroResult(statistic=0.20331984758377075, pvalue=1.2135439875216036e-10)"
      ]
     },
     "execution_count": 24,
     "metadata": {},
     "output_type": "execute_result"
    }
   ],
   "source": [
    "stats.shapiro(samp_in_fin)"
   ]
  },
  {
   "cell_type": "markdown",
   "id": "e51d13c4",
   "metadata": {},
   "source": [
    "For sample sizes smaller than 30, the normality test may not provide reliable results. Therefore, it's advisable to gather larger samples to ensure the validity of the normality assumption.\n"
   ]
  },
  {
   "cell_type": "code",
   "execution_count": 25,
   "id": "c4147f78",
   "metadata": {},
   "outputs": [
    {
     "data": {
      "text/plain": [
       "ShapiroResult(statistic=0.9201443791389465, pvalue=1.4325112715596333e-05)"
      ]
     },
     "execution_count": 25,
     "metadata": {},
     "output_type": "execute_result"
    }
   ],
   "source": [
    "samp_in_sew = random.sample(list(df[df['department'] == 'sewing']['incentive']), 100)\n",
    "samp_in_fin = random.sample(list(df[df['department'] == 'finishing']['incentive']), 100)\n",
    "\n",
    "stats.shapiro(samp_in_sew)"
   ]
  },
  {
   "cell_type": "code",
   "execution_count": 26,
   "id": "3ffebdac",
   "metadata": {},
   "outputs": [
    {
     "data": {
      "text/plain": [
       "ShapiroResult(statistic=0.1640561819076538, pvalue=2.9038015864444565e-21)"
      ]
     },
     "execution_count": 26,
     "metadata": {},
     "output_type": "execute_result"
    }
   ],
   "source": [
    "stats.shapiro(samp_in_fin)"
   ]
  },
  {
   "cell_type": "code",
   "execution_count": 27,
   "id": "7b6c04bd",
   "metadata": {},
   "outputs": [
    {
     "data": {
      "text/plain": [
       "LeveneResult(statistic=0.2841801617826952, pvalue=0.5945722179474138)"
      ]
     },
     "execution_count": 27,
     "metadata": {},
     "output_type": "execute_result"
    }
   ],
   "source": [
    "# Levene test for equality of variences\n",
    "stats.levene(samp_in_fin, samp_in_sew)"
   ]
  },
  {
   "cell_type": "markdown",
   "id": "553f00ba",
   "metadata": {},
   "source": [
    "From the above result, we see that the P Value is greater than 0.05 and hence We can conclude that the variances are equal."
   ]
  },
  {
   "cell_type": "code",
   "execution_count": 28,
   "id": "fdded05e",
   "metadata": {},
   "outputs": [
    {
     "data": {
      "text/plain": [
       "1.65"
      ]
     },
     "execution_count": 28,
     "metadata": {},
     "output_type": "execute_result"
    }
   ],
   "source": [
    "# critical value\n",
    "round(stats.t.isf(0.05, (200 - 2)), 2)"
   ]
  },
  {
   "cell_type": "markdown",
   "id": "66671ed8",
   "metadata": {},
   "source": [
    "Because the the T Statistic is greater than 1.65, we can reject the null hypothesis(Ho)."
   ]
  },
  {
   "cell_type": "code",
   "execution_count": 57,
   "id": "ada32973",
   "metadata": {},
   "outputs": [
    {
     "data": {
      "text/plain": [
       "TtestResult(statistic=-0.8657806306280145, pvalue=0.8061708443309358, df=198.0)"
      ]
     },
     "execution_count": 57,
     "metadata": {},
     "output_type": "execute_result"
    }
   ],
   "source": [
    "stats.ttest_ind(samp_in_fin, samp_in_sew, alternative='greater')"
   ]
  },
  {
   "cell_type": "markdown",
   "id": "06b395da",
   "metadata": {},
   "source": [
    "### Conclusion: \n",
    "\n",
    "With a T statistic below 1.65 and a P-value exceeding 0.05, we fail to reject the null hypothesis(Ho). Thus, there isn't sufficient evidence to support the claim that the finishing department has received more incentive than the sewing department.\n",
    "\n",
    "Despite the Shapiro-Wilk test indicating a lack of normality even with a large sample size, we'll proceed by assuming normality and conduct the t-test."
   ]
  },
  {
   "cell_type": "code",
   "execution_count": 30,
   "id": "adff4c92",
   "metadata": {},
   "outputs": [
    {
     "data": {
      "text/plain": [
       "productivity\n",
       "high      414\n",
       "low        69\n",
       "medium    208\n",
       "Name: productivity, dtype: int64"
      ]
     },
     "execution_count": 30,
     "metadata": {},
     "output_type": "execute_result"
    }
   ],
   "source": [
    "#16\n",
    "\n",
    "# H0: The manager's claim is correct\n",
    "# H1: The manager's claim is not correct\n",
    "\n",
    "condition = [(df['actual_productivity'] < 0.5),\n",
    "             (df['actual_productivity'] >= 0.5) & (df['actual_productivity'] < 0.75),\n",
    "             (df['actual_productivity'] >= 0.75)]\n",
    "value = ['low', 'medium', 'high']\n",
    "\n",
    "df['productivity'] = np.select(condition, value)\n",
    "observed_values = df[df['department'] == 'sewing'].groupby(by='productivity')['productivity'].count()\n",
    "observed_values"
   ]
  },
  {
   "cell_type": "markdown",
   "id": "1af0180d",
   "metadata": {},
   "source": [
    "### Conclusion:\n",
    "\n",
    "With the P-value nearly at 0, we reject the null hypothesis. we can say that the managers claim is incorrect."
   ]
  },
  {
   "cell_type": "code",
   "execution_count": 31,
   "id": "710b45b8",
   "metadata": {},
   "outputs": [],
   "source": [
    "#17"
   ]
  },
  {
   "cell_type": "markdown",
   "id": "c6d31d94",
   "metadata": {},
   "source": [
    "#### Hypothesis:\n",
    "H0: The actual productivity for all the quarters is the same <br>\n",
    "H1: The actual productivity of at least one of the quarters is different"
   ]
  },
  {
   "cell_type": "code",
   "execution_count": 32,
   "id": "fa24d312",
   "metadata": {},
   "outputs": [
    {
     "data": {
      "text/plain": [
       "LeveneResult(statistic=2.235514108192818, pvalue=0.08246483203771338)"
      ]
     },
     "execution_count": 32,
     "metadata": {},
     "output_type": "execute_result"
    }
   ],
   "source": [
    "# Given data\n",
    "qt1 = df[df['quarter'] == 'Quarter1']['actual_productivity']\n",
    "qt2 = df[df['quarter'] == 'Quarter2']['actual_productivity']\n",
    "qt3 = df[df['quarter'] == 'Quarter3']['actual_productivity']\n",
    "qt4 = df[df['quarter'] == 'Quarter4']['actual_productivity']\n",
    "\n",
    "# Assuming normality and conducting levene test\n",
    "stats.levene(qt1, qt2, qt3, qt4)"
   ]
  },
  {
   "cell_type": "markdown",
   "id": "a601e3e4",
   "metadata": {},
   "source": [
    "The P Value is greater then 0.05. We can conclude that the variances are equal has releaction."
   ]
  },
  {
   "cell_type": "code",
   "execution_count": 58,
   "id": "643ea968",
   "metadata": {},
   "outputs": [
    {
     "data": {
      "text/plain": [
       "2.61"
      ]
     },
     "execution_count": 58,
     "metadata": {},
     "output_type": "execute_result"
    }
   ],
   "source": [
    "#critical value\n",
    "groups = df.quarter.nunique() - 1 # Since we are ignoring Quarter5\n",
    "observations = qt1.count() + qt2.count() + qt3.count() + qt4.count()\n",
    "\n",
    "dfn = groups - 1\n",
    "dfd = observations - groups\n",
    "\n",
    "round(stats.f.isf(0.05, dfn, dfd), 2)"
   ]
  },
  {
   "cell_type": "markdown",
   "id": "1163fc61",
   "metadata": {},
   "source": [
    "If the F Statistic is greater than 2.61, we can reject the null hypothesis."
   ]
  },
  {
   "cell_type": "code",
   "execution_count": 59,
   "id": "3e33cf1b",
   "metadata": {},
   "outputs": [
    {
     "data": {
      "text/plain": [
       "F_onewayResult(statistic=5.274463802636486, pvalue=0.0012927759459059219)"
      ]
     },
     "execution_count": 59,
     "metadata": {},
     "output_type": "execute_result"
    }
   ],
   "source": [
    "stats.f_oneway(qt1, qt2, qt3, qt4)"
   ]
  },
  {
   "cell_type": "markdown",
   "id": "361d26c9",
   "metadata": {},
   "source": [
    "### Conclusion:\n",
    "\n",
    "The F Statistic is greater than 2.61 and the P Value is less then 0.05. We can reject the null hypothesis.\n",
    "The productivity of at least one of the quarters is different."
   ]
  },
  {
   "cell_type": "code",
   "execution_count": 56,
   "id": "acf301a7",
   "metadata": {},
   "outputs": [
    {
     "data": {
      "text/html": [
       "<table class=\"simpletable\">\n",
       "<caption>Multiple Comparison of Means - Tukey HSD, FWER=0.05</caption>\n",
       "<tr>\n",
       "   <th>group1</th>   <th>group2</th>  <th>meandiff</th>  <th>p-adj</th>  <th>lower</th>   <th>upper</th>  <th>reject</th>\n",
       "</tr>\n",
       "<tr>\n",
       "  <td>Quarter1</td> <td>Quarter2</td>  <td>-0.0079</td> <td>0.9753</td> <td>-0.0437</td>  <td>0.028</td>   <td>False</td>\n",
       "</tr>\n",
       "<tr>\n",
       "  <td>Quarter1</td> <td>Quarter3</td>  <td>-0.0468</td> <td>0.0159</td> <td>-0.0878</td> <td>-0.0058</td>  <td>True</td> \n",
       "</tr>\n",
       "<tr>\n",
       "  <td>Quarter1</td> <td>Quarter4</td>  <td>-0.0425</td> <td>0.0244</td> <td>-0.0814</td> <td>-0.0036</td>  <td>True</td> \n",
       "</tr>\n",
       "<tr>\n",
       "  <td>Quarter1</td> <td>Quarter5</td>  <td>0.0746</td>  <td>0.0538</td> <td>-0.0007</td>  <td>0.15</td>    <td>False</td>\n",
       "</tr>\n",
       "<tr>\n",
       "  <td>Quarter2</td> <td>Quarter3</td>  <td>-0.039</td>  <td>0.0782</td> <td>-0.0805</td> <td>0.0026</td>   <td>False</td>\n",
       "</tr>\n",
       "<tr>\n",
       "  <td>Quarter2</td> <td>Quarter4</td>  <td>-0.0346</td> <td>0.1175</td> <td>-0.0742</td> <td>0.0049</td>   <td>False</td>\n",
       "</tr>\n",
       "<tr>\n",
       "  <td>Quarter2</td> <td>Quarter5</td>  <td>0.0825</td>  <td>0.0247</td> <td>0.0068</td>  <td>0.1581</td>   <td>True</td> \n",
       "</tr>\n",
       "<tr>\n",
       "  <td>Quarter3</td> <td>Quarter4</td>  <td>0.0043</td>  <td>0.9989</td> <td>-0.0399</td> <td>0.0486</td>   <td>False</td>\n",
       "</tr>\n",
       "<tr>\n",
       "  <td>Quarter3</td> <td>Quarter5</td>  <td>0.1214</td>  <td>0.0002</td> <td>0.0432</td>  <td>0.1997</td>   <td>True</td> \n",
       "</tr>\n",
       "<tr>\n",
       "  <td>Quarter4</td> <td>Quarter5</td>  <td>0.1171</td>  <td>0.0004</td> <td>0.0399</td>  <td>0.1943</td>   <td>True</td> \n",
       "</tr>\n",
       "</table>"
      ],
      "text/latex": [
       "\\begin{center}\n",
       "\\begin{tabular}{ccccccc}\n",
       "\\toprule\n",
       "\\textbf{group1} & \\textbf{group2} & \\textbf{meandiff} & \\textbf{p-adj} & \\textbf{lower} & \\textbf{upper} & \\textbf{reject}  \\\\\n",
       "\\midrule\n",
       "    Quarter1    &     Quarter2    &      -0.0079      &     0.9753     &    -0.0437     &     0.028      &      False       \\\\\n",
       "    Quarter1    &     Quarter3    &      -0.0468      &     0.0159     &    -0.0878     &    -0.0058     &       True       \\\\\n",
       "    Quarter1    &     Quarter4    &      -0.0425      &     0.0244     &    -0.0814     &    -0.0036     &       True       \\\\\n",
       "    Quarter1    &     Quarter5    &       0.0746      &     0.0538     &    -0.0007     &      0.15      &      False       \\\\\n",
       "    Quarter2    &     Quarter3    &       -0.039      &     0.0782     &    -0.0805     &     0.0026     &      False       \\\\\n",
       "    Quarter2    &     Quarter4    &      -0.0346      &     0.1175     &    -0.0742     &     0.0049     &      False       \\\\\n",
       "    Quarter2    &     Quarter5    &       0.0825      &     0.0247     &     0.0068     &     0.1581     &       True       \\\\\n",
       "    Quarter3    &     Quarter4    &       0.0043      &     0.9989     &    -0.0399     &     0.0486     &      False       \\\\\n",
       "    Quarter3    &     Quarter5    &       0.1214      &     0.0002     &     0.0432     &     0.1997     &       True       \\\\\n",
       "    Quarter4    &     Quarter5    &       0.1171      &     0.0004     &     0.0399     &     0.1943     &       True       \\\\\n",
       "\\bottomrule\n",
       "\\end{tabular}\n",
       "%\\caption{Multiple Comparison of Means - Tukey HSD, FWER=0.05}\n",
       "\\end{center}"
      ],
      "text/plain": [
       "<class 'statsmodels.iolib.table.SimpleTable'>"
      ]
     },
     "execution_count": 56,
     "metadata": {},
     "output_type": "execute_result"
    }
   ],
   "source": [
    "# Post hoc analysis for QUARTERS\n",
    "import statsmodels.stats.multicomp as mc\n",
    "comp = mc.MultiComparison(data=df.actual_productivity, groups=df.quarter)\n",
    "posthoc = comp.tukeyhsd()\n",
    "posthoc.summary()"
   ]
  },
  {
   "cell_type": "markdown",
   "id": "18aa9f2c",
   "metadata": {},
   "source": [
    "The Post Hoc analysis clearly shows that the Variance across Quarter is different from the Quarters 2, 3, and 4.\n",
    "\n",
    "Note: Ignore Quarter 5"
   ]
  },
  {
   "cell_type": "markdown",
   "id": "9fd30465",
   "metadata": {},
   "source": [
    "#18\n",
    "\n",
    "#### Hypothesis:\n",
    "H0: The actual productivity for all the days is the same <br>\n",
    "H1: The actual productivity of at least one of the days is not same\n",
    "\n",
    "Note: Taken Days instead of Quarters"
   ]
  },
  {
   "cell_type": "code",
   "execution_count": 60,
   "id": "ca048a65",
   "metadata": {},
   "outputs": [
    {
     "data": {
      "text/plain": [
       "LeveneResult(statistic=0.4284935320388342, pvalue=0.8289914795144732)"
      ]
     },
     "execution_count": 60,
     "metadata": {},
     "output_type": "execute_result"
    }
   ],
   "source": [
    "# Given data\n",
    "monday = df[df['day'] == 'Monday']['actual_productivity']\n",
    "tuesday = df[df['day'] == 'Tuesday']['actual_productivity']\n",
    "wednesday = df[df['day'] == 'Wednesday']['actual_productivity']\n",
    "thursday = df[df['day'] == 'Thursday']['actual_productivity']\n",
    "saturday = df[df['day'] == 'Saturday']['actual_productivity']\n",
    "sunday = df[df['day'] == 'Sunday']['actual_productivity']\n",
    "\n",
    "# Assuming normality and conducting levene test\n",
    "stats.levene(monday, tuesday, wednesday, thursday, saturday, sunday)"
   ]
  },
  {
   "cell_type": "markdown",
   "id": "305c326b",
   "metadata": {},
   "source": [
    "The P Value is greater then 0.05. We can conclude that the variances are equal."
   ]
  },
  {
   "cell_type": "code",
   "execution_count": 61,
   "id": "0132288c",
   "metadata": {},
   "outputs": [
    {
     "data": {
      "text/plain": [
       "2.22"
      ]
     },
     "execution_count": 61,
     "metadata": {},
     "output_type": "execute_result"
    }
   ],
   "source": [
    "#critical value\n",
    "grps = df.day.nunique()\n",
    "obs = df.actual_productivity.count()\n",
    "\n",
    "dfn = grps - 1\n",
    "dfd = obs - grps\n",
    "\n",
    "round(stats.f.isf(0.05, dfn, dfd), 2)"
   ]
  },
  {
   "cell_type": "markdown",
   "id": "3d9ed844",
   "metadata": {},
   "source": [
    "If the F Statistic is greater than 2.22, we can reject the null hypothesis."
   ]
  },
  {
   "cell_type": "code",
   "execution_count": 62,
   "id": "862835cb",
   "metadata": {},
   "outputs": [
    {
     "data": {
      "text/plain": [
       "F_onewayResult(statistic=0.7121012009422417, pvalue=0.614378842438619)"
      ]
     },
     "execution_count": 62,
     "metadata": {},
     "output_type": "execute_result"
    }
   ],
   "source": [
    "stats.f_oneway(monday, tuesday, wednesday, thursday, saturday, sunday)"
   ]
  },
  {
   "cell_type": "markdown",
   "id": "5beb878d",
   "metadata": {},
   "source": [
    "### Conclusion:\n",
    "\n",
    "The F Statistic falls below the critical value of 2.22, and the P Value exceeds 0.05. Consequently, fail to reject the null hypothesis. \\\n",
    "Indicating uniform productivity across all weekdays."
   ]
  },
  {
   "cell_type": "code",
   "execution_count": 63,
   "id": "7405aecd",
   "metadata": {},
   "outputs": [
    {
     "data": {
      "text/html": [
       "<table class=\"simpletable\">\n",
       "<caption>Multiple Comparison of Means - Tukey HSD, FWER=0.05</caption>\n",
       "<tr>\n",
       "   <th>group1</th>   <th>group2</th>   <th>meandiff</th>  <th>p-adj</th>  <th>lower</th>   <th>upper</th> <th>reject</th>\n",
       "</tr>\n",
       "<tr>\n",
       "   <td>Monday</td>  <td>Saturday</td>   <td>0.0164</td>  <td>0.9402</td> <td>-0.0343</td> <td>0.0672</td>  <td>False</td>\n",
       "</tr>\n",
       "<tr>\n",
       "   <td>Monday</td>   <td>Sunday</td>    <td>-0.0069</td> <td>0.9988</td> <td>-0.0566</td> <td>0.0428</td>  <td>False</td>\n",
       "</tr>\n",
       "<tr>\n",
       "   <td>Monday</td>  <td>Thursday</td>   <td>-0.0128</td> <td>0.9777</td> <td>-0.0628</td> <td>0.0371</td>  <td>False</td>\n",
       "</tr>\n",
       "<tr>\n",
       "   <td>Monday</td>   <td>Tuesday</td>   <td>0.0072</td>  <td>0.9985</td> <td>-0.0426</td>  <td>0.057</td>  <td>False</td>\n",
       "</tr>\n",
       "<tr>\n",
       "   <td>Monday</td>  <td>Wednesday</td>  <td>-0.005</td>  <td>0.9997</td> <td>-0.0544</td> <td>0.0444</td>  <td>False</td>\n",
       "</tr>\n",
       "<tr>\n",
       "  <td>Saturday</td>  <td>Sunday</td>    <td>-0.0233</td> <td>0.7751</td> <td>-0.0738</td> <td>0.0272</td>  <td>False</td>\n",
       "</tr>\n",
       "<tr>\n",
       "  <td>Saturday</td> <td>Thursday</td>   <td>-0.0293</td> <td>0.5673</td>  <td>-0.08</td>  <td>0.0215</td>  <td>False</td>\n",
       "</tr>\n",
       "<tr>\n",
       "  <td>Saturday</td>  <td>Tuesday</td>   <td>-0.0092</td> <td>0.9954</td> <td>-0.0599</td> <td>0.0414</td>  <td>False</td>\n",
       "</tr>\n",
       "<tr>\n",
       "  <td>Saturday</td> <td>Wednesday</td>  <td>-0.0215</td> <td>0.8271</td> <td>-0.0717</td> <td>0.0288</td>  <td>False</td>\n",
       "</tr>\n",
       "<tr>\n",
       "   <td>Sunday</td>  <td>Thursday</td>   <td>-0.006</td>  <td>0.9994</td> <td>-0.0557</td> <td>0.0438</td>  <td>False</td>\n",
       "</tr>\n",
       "<tr>\n",
       "   <td>Sunday</td>   <td>Tuesday</td>   <td>0.0141</td>  <td>0.9655</td> <td>-0.0355</td> <td>0.0637</td>  <td>False</td>\n",
       "</tr>\n",
       "<tr>\n",
       "   <td>Sunday</td>  <td>Wednesday</td>  <td>0.0019</td>    <td>1.0</td>  <td>-0.0473</td>  <td>0.051</td>  <td>False</td>\n",
       "</tr>\n",
       "<tr>\n",
       "  <td>Thursday</td>  <td>Tuesday</td>   <td>0.0201</td>  <td>0.8607</td> <td>-0.0298</td> <td>0.0699</td>  <td>False</td>\n",
       "</tr>\n",
       "<tr>\n",
       "  <td>Thursday</td> <td>Wednesday</td>  <td>0.0078</td>  <td>0.9976</td> <td>-0.0416</td> <td>0.0572</td>  <td>False</td>\n",
       "</tr>\n",
       "<tr>\n",
       "   <td>Tuesday</td> <td>Wednesday</td>  <td>-0.0122</td> <td>0.9809</td> <td>-0.0615</td> <td>0.0371</td>  <td>False</td>\n",
       "</tr>\n",
       "</table>"
      ],
      "text/latex": [
       "\\begin{center}\n",
       "\\begin{tabular}{ccccccc}\n",
       "\\toprule\n",
       "\\textbf{group1} & \\textbf{group2} & \\textbf{meandiff} & \\textbf{p-adj} & \\textbf{lower} & \\textbf{upper} & \\textbf{reject}  \\\\\n",
       "\\midrule\n",
       "     Monday     &     Saturday    &       0.0164      &     0.9402     &    -0.0343     &     0.0672     &      False       \\\\\n",
       "     Monday     &      Sunday     &      -0.0069      &     0.9988     &    -0.0566     &     0.0428     &      False       \\\\\n",
       "     Monday     &     Thursday    &      -0.0128      &     0.9777     &    -0.0628     &     0.0371     &      False       \\\\\n",
       "     Monday     &     Tuesday     &       0.0072      &     0.9985     &    -0.0426     &     0.057      &      False       \\\\\n",
       "     Monday     &    Wednesday    &       -0.005      &     0.9997     &    -0.0544     &     0.0444     &      False       \\\\\n",
       "    Saturday    &      Sunday     &      -0.0233      &     0.7751     &    -0.0738     &     0.0272     &      False       \\\\\n",
       "    Saturday    &     Thursday    &      -0.0293      &     0.5673     &     -0.08      &     0.0215     &      False       \\\\\n",
       "    Saturday    &     Tuesday     &      -0.0092      &     0.9954     &    -0.0599     &     0.0414     &      False       \\\\\n",
       "    Saturday    &    Wednesday    &      -0.0215      &     0.8271     &    -0.0717     &     0.0288     &      False       \\\\\n",
       "     Sunday     &     Thursday    &       -0.006      &     0.9994     &    -0.0557     &     0.0438     &      False       \\\\\n",
       "     Sunday     &     Tuesday     &       0.0141      &     0.9655     &    -0.0355     &     0.0637     &      False       \\\\\n",
       "     Sunday     &    Wednesday    &       0.0019      &      1.0       &    -0.0473     &     0.051      &      False       \\\\\n",
       "    Thursday    &     Tuesday     &       0.0201      &     0.8607     &    -0.0298     &     0.0699     &      False       \\\\\n",
       "    Thursday    &    Wednesday    &       0.0078      &     0.9976     &    -0.0416     &     0.0572     &      False       \\\\\n",
       "    Tuesday     &    Wednesday    &      -0.0122      &     0.9809     &    -0.0615     &     0.0371     &      False       \\\\\n",
       "\\bottomrule\n",
       "\\end{tabular}\n",
       "%\\caption{Multiple Comparison of Means - Tukey HSD, FWER=0.05}\n",
       "\\end{center}"
      ],
      "text/plain": [
       "<class 'statsmodels.iolib.table.SimpleTable'>"
      ]
     },
     "execution_count": 63,
     "metadata": {},
     "output_type": "execute_result"
    }
   ],
   "source": [
    "# Post hoc analysis for days\n",
    "comp = mc.MultiComparison(data=df.actual_productivity, groups=df.day)\n",
    "posthoc = comp.tukeyhsd()\n",
    "posthoc.summary()"
   ]
  },
  {
   "cell_type": "markdown",
   "id": "ebea3ad4",
   "metadata": {},
   "source": [
    "The Post Hoc analysis clearly shows that the Variance across all the days are the same."
   ]
  },
  {
   "cell_type": "code",
   "execution_count": 64,
   "id": "82499496",
   "metadata": {},
   "outputs": [],
   "source": [
    "#19"
   ]
  },
  {
   "cell_type": "markdown",
   "id": "a5037930",
   "metadata": {},
   "source": [
    "Testing independence of variables \n",
    "\n",
    "#### Hypothesis:\n",
    "H0: The variables day and quarter are independent <br>\n",
    "H1: The variables day and quarter are not independent"
   ]
  },
  {
   "cell_type": "code",
   "execution_count": 41,
   "id": "33c3910b",
   "metadata": {},
   "outputs": [
    {
     "data": {
      "text/html": [
       "<div>\n",
       "<style scoped>\n",
       "    .dataframe tbody tr th:only-of-type {\n",
       "        vertical-align: middle;\n",
       "    }\n",
       "\n",
       "    .dataframe tbody tr th {\n",
       "        vertical-align: top;\n",
       "    }\n",
       "\n",
       "    .dataframe thead th {\n",
       "        text-align: right;\n",
       "    }\n",
       "</style>\n",
       "<table border=\"1\" class=\"dataframe\">\n",
       "  <thead>\n",
       "    <tr style=\"text-align: right;\">\n",
       "      <th>quarter</th>\n",
       "      <th>Quarter1</th>\n",
       "      <th>Quarter2</th>\n",
       "      <th>Quarter3</th>\n",
       "      <th>Quarter4</th>\n",
       "      <th>Quarter5</th>\n",
       "    </tr>\n",
       "    <tr>\n",
       "      <th>day</th>\n",
       "      <th></th>\n",
       "      <th></th>\n",
       "      <th></th>\n",
       "      <th></th>\n",
       "      <th></th>\n",
       "    </tr>\n",
       "  </thead>\n",
       "  <tbody>\n",
       "    <tr>\n",
       "      <th>Monday</th>\n",
       "      <td>61</td>\n",
       "      <td>63</td>\n",
       "      <td>37</td>\n",
       "      <td>38</td>\n",
       "      <td>0</td>\n",
       "    </tr>\n",
       "    <tr>\n",
       "      <th>Saturday</th>\n",
       "      <td>59</td>\n",
       "      <td>39</td>\n",
       "      <td>21</td>\n",
       "      <td>44</td>\n",
       "      <td>24</td>\n",
       "    </tr>\n",
       "    <tr>\n",
       "      <th>Sunday</th>\n",
       "      <td>60</td>\n",
       "      <td>64</td>\n",
       "      <td>38</td>\n",
       "      <td>41</td>\n",
       "      <td>0</td>\n",
       "    </tr>\n",
       "    <tr>\n",
       "      <th>Thursday</th>\n",
       "      <td>56</td>\n",
       "      <td>41</td>\n",
       "      <td>39</td>\n",
       "      <td>43</td>\n",
       "      <td>20</td>\n",
       "    </tr>\n",
       "    <tr>\n",
       "      <th>Tuesday</th>\n",
       "      <td>62</td>\n",
       "      <td>64</td>\n",
       "      <td>35</td>\n",
       "      <td>40</td>\n",
       "      <td>0</td>\n",
       "    </tr>\n",
       "    <tr>\n",
       "      <th>Wednesday</th>\n",
       "      <td>62</td>\n",
       "      <td>64</td>\n",
       "      <td>40</td>\n",
       "      <td>42</td>\n",
       "      <td>0</td>\n",
       "    </tr>\n",
       "  </tbody>\n",
       "</table>\n",
       "</div>"
      ],
      "text/plain": [
       "quarter    Quarter1  Quarter2  Quarter3  Quarter4  Quarter5\n",
       "day                                                        \n",
       "Monday           61        63        37        38         0\n",
       "Saturday         59        39        21        44        24\n",
       "Sunday           60        64        38        41         0\n",
       "Thursday         56        41        39        43        20\n",
       "Tuesday          62        64        35        40         0\n",
       "Wednesday        62        64        40        42         0"
      ]
     },
     "execution_count": 41,
     "metadata": {},
     "output_type": "execute_result"
    }
   ],
   "source": [
    "# Identifying the independence of variables days and quarters\n",
    "table = pd.crosstab(df['day'], df['quarter'])\n",
    "table"
   ]
  },
  {
   "cell_type": "code",
   "execution_count": 42,
   "id": "16274d27",
   "metadata": {},
   "outputs": [
    {
     "data": {
      "text/plain": [
       "31.41"
      ]
     },
     "execution_count": 42,
     "metadata": {},
     "output_type": "execute_result"
    }
   ],
   "source": [
    "#critical value\n",
    "degf = (df.quarter.nunique() - 1) * (df.day.nunique() - 1)\n",
    "round(stats.chi2.isf(0.05, degf), 2)"
   ]
  },
  {
   "cell_type": "markdown",
   "id": "7efa73ee",
   "metadata": {},
   "source": [
    "If the  chisquare value is greater than 31.41, reject the null hypothesis."
   ]
  },
  {
   "cell_type": "code",
   "execution_count": 65,
   "id": "a0b20c5a",
   "metadata": {},
   "outputs": [
    {
     "data": {
      "text/plain": [
       "Chi2ContingencyResult(statistic=112.24402985523838, pvalue=7.641691672947457e-15, dof=20, expected_freq=array([[59.84962406, 55.69340017, 34.9122807 , 41.22974102,  7.31495405],\n",
       "       [56.2406015 , 52.33500418, 32.80701754, 38.74352548,  6.87385129],\n",
       "       [61.05263158, 56.8128655 , 35.61403509, 42.05847953,  7.4619883 ],\n",
       "       [59.84962406, 55.69340017, 34.9122807 , 41.22974102,  7.31495405],\n",
       "       [60.45112782, 56.25313283, 35.26315789, 41.64411028,  7.38847118],\n",
       "       [62.55639098, 58.21219716, 36.49122807, 43.09440267,  7.64578112]]))"
      ]
     },
     "execution_count": 65,
     "metadata": {},
     "output_type": "execute_result"
    }
   ],
   "source": [
    "chi2_contingency(table)"
   ]
  },
  {
   "cell_type": "markdown",
   "id": "0dfa9ed2",
   "metadata": {},
   "source": [
    "### Conclusion 1:\n",
    "\n",
    "The test statistic is higher than 31.41, and the P Value is below 0.05, so we reject the null hypothesis.\n",
    "The variables day and quarter are related.\n",
    "\n",
    "#### Also one thing to note:\n",
    "\n",
    "Our data only covers the first two and a half months of 2015, not the entire year.\n",
    "Because of this, Quarter 5 isn't included, which could change the outcome.\n",
    "Let's exclude Quarter 5 and redo the test."
   ]
  },
  {
   "cell_type": "code",
   "execution_count": 68,
   "id": "18627b39",
   "metadata": {},
   "outputs": [
    {
     "data": {
      "text/html": [
       "<div>\n",
       "<style scoped>\n",
       "    .dataframe tbody tr th:only-of-type {\n",
       "        vertical-align: middle;\n",
       "    }\n",
       "\n",
       "    .dataframe tbody tr th {\n",
       "        vertical-align: top;\n",
       "    }\n",
       "\n",
       "    .dataframe thead th {\n",
       "        text-align: right;\n",
       "    }\n",
       "</style>\n",
       "<table border=\"1\" class=\"dataframe\">\n",
       "  <thead>\n",
       "    <tr style=\"text-align: right;\">\n",
       "      <th>quarter</th>\n",
       "      <th>Quarter1</th>\n",
       "      <th>Quarter2</th>\n",
       "      <th>Quarter3</th>\n",
       "      <th>Quarter4</th>\n",
       "    </tr>\n",
       "    <tr>\n",
       "      <th>day</th>\n",
       "      <th></th>\n",
       "      <th></th>\n",
       "      <th></th>\n",
       "      <th></th>\n",
       "    </tr>\n",
       "  </thead>\n",
       "  <tbody>\n",
       "    <tr>\n",
       "      <th>Monday</th>\n",
       "      <td>61</td>\n",
       "      <td>63</td>\n",
       "      <td>37</td>\n",
       "      <td>38</td>\n",
       "    </tr>\n",
       "    <tr>\n",
       "      <th>Saturday</th>\n",
       "      <td>59</td>\n",
       "      <td>39</td>\n",
       "      <td>21</td>\n",
       "      <td>44</td>\n",
       "    </tr>\n",
       "    <tr>\n",
       "      <th>Sunday</th>\n",
       "      <td>60</td>\n",
       "      <td>64</td>\n",
       "      <td>38</td>\n",
       "      <td>41</td>\n",
       "    </tr>\n",
       "    <tr>\n",
       "      <th>Thursday</th>\n",
       "      <td>56</td>\n",
       "      <td>41</td>\n",
       "      <td>39</td>\n",
       "      <td>43</td>\n",
       "    </tr>\n",
       "    <tr>\n",
       "      <th>Tuesday</th>\n",
       "      <td>62</td>\n",
       "      <td>64</td>\n",
       "      <td>35</td>\n",
       "      <td>40</td>\n",
       "    </tr>\n",
       "    <tr>\n",
       "      <th>Wednesday</th>\n",
       "      <td>62</td>\n",
       "      <td>64</td>\n",
       "      <td>40</td>\n",
       "      <td>42</td>\n",
       "    </tr>\n",
       "  </tbody>\n",
       "</table>\n",
       "</div>"
      ],
      "text/plain": [
       "quarter    Quarter1  Quarter2  Quarter3  Quarter4\n",
       "day                                              \n",
       "Monday           61        63        37        38\n",
       "Saturday         59        39        21        44\n",
       "Sunday           60        64        38        41\n",
       "Thursday         56        41        39        43\n",
       "Tuesday          62        64        35        40\n",
       "Wednesday        62        64        40        42"
      ]
     },
     "execution_count": 68,
     "metadata": {},
     "output_type": "execute_result"
    }
   ],
   "source": [
    "# Quarter 5 - Ignored\n",
    "data = pd.concat([df[df['quarter'] == 'Quarter1'],\n",
    "                  df[df['quarter'] == 'Quarter2'],\n",
    "                  df[df['quarter'] == 'Quarter3'],\n",
    "                  df[df['quarter'] == 'Quarter4']])\n",
    "table1 = pd.crosstab(data.day, data.quarter)\n",
    "table1"
   ]
  },
  {
   "cell_type": "code",
   "execution_count": 69,
   "id": "cecf7ff8",
   "metadata": {},
   "outputs": [
    {
     "data": {
      "text/plain": [
       "25.0"
      ]
     },
     "execution_count": 69,
     "metadata": {},
     "output_type": "execute_result"
    }
   ],
   "source": [
    "#critical value after Quarter 5 is ignored\n",
    "degof = (data.quarter.nunique() - 1) * (data.day.nunique() - 1)\n",
    "round(stats.chi2.isf(0.05, degof), 2)"
   ]
  },
  {
   "cell_type": "markdown",
   "id": "51a7c107",
   "metadata": {},
   "source": [
    "If the chi2 value is greater than 25, we can reject the null hypothesis."
   ]
  },
  {
   "cell_type": "code",
   "execution_count": 70,
   "id": "897d04ae",
   "metadata": {},
   "outputs": [
    {
     "data": {
      "text/plain": [
       "Chi2ContingencyResult(statistic=15.026942926624635, pvalue=0.4494782011693654, dof=15, expected_freq=array([[62.13356461, 57.81873374, 36.24457936, 42.80312229],\n",
       "       [50.89332177, 47.35906331, 29.68777103, 35.05984389],\n",
       "       [63.38248049, 58.98091934, 36.97311362, 43.66348656],\n",
       "       [55.88898526, 52.00780572, 32.60190807, 38.50130095],\n",
       "       [62.75802255, 58.39982654, 36.60884649, 43.23330442],\n",
       "       [64.94362533, 60.43365134, 37.88378144, 44.73894189]]))"
      ]
     },
     "execution_count": 70,
     "metadata": {},
     "output_type": "execute_result"
    }
   ],
   "source": [
    "chi2_contingency(table1)"
   ]
  },
  {
   "cell_type": "markdown",
   "id": "cf8d9139",
   "metadata": {},
   "source": [
    "### Conclusion 2:\n",
    "\n",
    "The Chi Square Statistic is below 25, and the P Value is above 0.05. Thus, we don't reject the null hypothesis.\n",
    "The data indicates that the variables day and quarter are unrelated.\n",
    "\n",
    "## 2-way ANOVA test:\n",
    "\n",
    "#### Hypothesis:\n",
    "\n",
    "##### Null hypotheses:<br>\n",
    "The average productivity for different days is the same.<br>\n",
    "The average productivity for different quarters is the same.\n",
    "\n",
    "##### Alternative hypotheses:<br>\n",
    "The average productivity for different days differs.<br>\n",
    "The average productivity for different quarters differs."
   ]
  },
  {
   "cell_type": "code",
   "execution_count": 71,
   "id": "e01c1e4f",
   "metadata": {},
   "outputs": [
    {
     "data": {
      "text/html": [
       "<div>\n",
       "<style scoped>\n",
       "    .dataframe tbody tr th:only-of-type {\n",
       "        vertical-align: middle;\n",
       "    }\n",
       "\n",
       "    .dataframe tbody tr th {\n",
       "        vertical-align: top;\n",
       "    }\n",
       "\n",
       "    .dataframe thead th {\n",
       "        text-align: right;\n",
       "    }\n",
       "</style>\n",
       "<table border=\"1\" class=\"dataframe\">\n",
       "  <thead>\n",
       "    <tr style=\"text-align: right;\">\n",
       "      <th></th>\n",
       "      <th>sum_sq</th>\n",
       "      <th>df</th>\n",
       "      <th>F</th>\n",
       "      <th>PR(&gt;F)</th>\n",
       "    </tr>\n",
       "  </thead>\n",
       "  <tbody>\n",
       "    <tr>\n",
       "      <th>C(day)</th>\n",
       "      <td>0.091124</td>\n",
       "      <td>5.0</td>\n",
       "      <td>0.609830</td>\n",
       "      <td>0.692418</td>\n",
       "    </tr>\n",
       "    <tr>\n",
       "      <th>C(quarter)</th>\n",
       "      <td>0.831338</td>\n",
       "      <td>4.0</td>\n",
       "      <td>6.954456</td>\n",
       "      <td>0.000016</td>\n",
       "    </tr>\n",
       "    <tr>\n",
       "      <th>Residual</th>\n",
       "      <td>35.473578</td>\n",
       "      <td>1187.0</td>\n",
       "      <td>NaN</td>\n",
       "      <td>NaN</td>\n",
       "    </tr>\n",
       "  </tbody>\n",
       "</table>\n",
       "</div>"
      ],
      "text/plain": [
       "               sum_sq      df         F    PR(>F)\n",
       "C(day)       0.091124     5.0  0.609830  0.692418\n",
       "C(quarter)   0.831338     4.0  6.954456  0.000016\n",
       "Residual    35.473578  1187.0       NaN       NaN"
      ]
     },
     "execution_count": 71,
     "metadata": {},
     "output_type": "execute_result"
    }
   ],
   "source": [
    "formula = 'actual_productivity ~ C(day) + C(quarter)'\n",
    "mod = ols(formula, df).fit()\n",
    "ano_tab = anova_lm(mod, typ=2)\n",
    "ano_tab"
   ]
  },
  {
   "cell_type": "markdown",
   "id": "ecd8292f",
   "metadata": {},
   "source": [
    "### Conclusion:\n",
    "\n",
    "The P Value for the day variable is above 0.05, so we don't reject the null hypothesis.\n",
    "The P Value for the quarter variable is below 0.05, allowing us to reject the null hypothesis.\n",
    "\n",
    "#### Implications:\n",
    "\n",
    "This indicates that the variances across all days are equal.\n",
    "However, the variance of at least one quarter differs from the others."
   ]
  },
  {
   "cell_type": "code",
   "execution_count": 72,
   "id": "c3143877",
   "metadata": {},
   "outputs": [],
   "source": [
    "#20"
   ]
  },
  {
   "cell_type": "markdown",
   "id": "3225f0bd",
   "metadata": {},
   "source": [
    "Based on our previous analyses, it seems like there isn't much difference in the data across different days.\n",
    "\n",
    "### Testing the relationship between variables:\n",
    "\n",
    "#### Hypothesis:\n",
    "\n",
    "Null hypothesis (H0): The department and quarter are unrelated. <br>\n",
    "Alternative hypothesis (H1): The department and quarter are related."
   ]
  },
  {
   "cell_type": "code",
   "execution_count": 73,
   "id": "5ef40831",
   "metadata": {},
   "outputs": [
    {
     "data": {
      "text/html": [
       "<div>\n",
       "<style scoped>\n",
       "    .dataframe tbody tr th:only-of-type {\n",
       "        vertical-align: middle;\n",
       "    }\n",
       "\n",
       "    .dataframe tbody tr th {\n",
       "        vertical-align: top;\n",
       "    }\n",
       "\n",
       "    .dataframe thead th {\n",
       "        text-align: right;\n",
       "    }\n",
       "</style>\n",
       "<table border=\"1\" class=\"dataframe\">\n",
       "  <thead>\n",
       "    <tr style=\"text-align: right;\">\n",
       "      <th>quarter</th>\n",
       "      <th>Quarter1</th>\n",
       "      <th>Quarter2</th>\n",
       "      <th>Quarter3</th>\n",
       "      <th>Quarter4</th>\n",
       "      <th>Quarter5</th>\n",
       "    </tr>\n",
       "    <tr>\n",
       "      <th>department</th>\n",
       "      <th></th>\n",
       "      <th></th>\n",
       "      <th></th>\n",
       "      <th></th>\n",
       "      <th></th>\n",
       "    </tr>\n",
       "  </thead>\n",
       "  <tbody>\n",
       "    <tr>\n",
       "      <th>finishing</th>\n",
       "      <td>149</td>\n",
       "      <td>147</td>\n",
       "      <td>81</td>\n",
       "      <td>108</td>\n",
       "      <td>21</td>\n",
       "    </tr>\n",
       "    <tr>\n",
       "      <th>sewing</th>\n",
       "      <td>211</td>\n",
       "      <td>188</td>\n",
       "      <td>129</td>\n",
       "      <td>140</td>\n",
       "      <td>23</td>\n",
       "    </tr>\n",
       "  </tbody>\n",
       "</table>\n",
       "</div>"
      ],
      "text/plain": [
       "quarter     Quarter1  Quarter2  Quarter3  Quarter4  Quarter5\n",
       "department                                                  \n",
       "finishing        149       147        81       108        21\n",
       "sewing           211       188       129       140        23"
      ]
     },
     "execution_count": 73,
     "metadata": {},
     "output_type": "execute_result"
    }
   ],
   "source": [
    "# Identifying the independence of variables department and quarters\n",
    "table_dq = pd.crosstab(df['department'], df['quarter'])\n",
    "table_dq"
   ]
  },
  {
   "cell_type": "code",
   "execution_count": 78,
   "id": "985e8082",
   "metadata": {},
   "outputs": [
    {
     "data": {
      "text/plain": [
       "9.49"
      ]
     },
     "execution_count": 78,
     "metadata": {},
     "output_type": "execute_result"
    }
   ],
   "source": [
    "# Calculating the critical value after ignoring Quarter 5\n",
    "degof_dq = (df.quarter.nunique() - 1) * (df.department.nunique() - 1)\n",
    "round(stats.chi2.isf(0.05, degof_dq), 2)"
   ]
  },
  {
   "cell_type": "markdown",
   "id": "8f7d395c",
   "metadata": {},
   "source": [
    "If the chi2 value is greater than 9.49, we can reject the null hypothesis."
   ]
  },
  {
   "cell_type": "code",
   "execution_count": 79,
   "id": "6567cd89",
   "metadata": {},
   "outputs": [
    {
     "data": {
      "text/plain": [
       "Chi2ContingencyResult(statistic=2.350899120129922, pvalue=0.6715181578868235, dof=4, expected_freq=array([[152.18045113, 141.61236424,  88.77192982, 104.83542189,\n",
       "         18.59983292],\n",
       "       [207.81954887, 193.38763576, 121.22807018, 143.16457811,\n",
       "         25.40016708]]))"
      ]
     },
     "execution_count": 79,
     "metadata": {},
     "output_type": "execute_result"
    }
   ],
   "source": [
    "chi2_contingency(table_dq)"
   ]
  },
  {
   "cell_type": "markdown",
   "id": "2a0363f3",
   "metadata": {},
   "source": [
    "# Conclusion:\n",
    "\n",
    "The Chi Square Statistic is less than 9.49, and the P Value is above 0.05. Hence, we don't have enough evidence to reject the null hypothesis.\n",
    "The data indicates that the variables department and quarter are independent from each other.\n",
    "\n",
    "# 2-way ANOVA test:\n",
    "\n",
    "#### Hypothesis:\n",
    "\n",
    "Null hypotheses:\\\n",
    "The average productivity across different departments is the same. \\\n",
    "The average productivity across different quarters is the same.\n",
    "\n",
    "Alternative hypotheses:\\\n",
    "The average productivity across different departments differs.\\\n",
    "The average productivity across different quarters differs."
   ]
  },
  {
   "cell_type": "code",
   "execution_count": 80,
   "id": "3607564c",
   "metadata": {},
   "outputs": [
    {
     "data": {
      "text/html": [
       "<div>\n",
       "<style scoped>\n",
       "    .dataframe tbody tr th:only-of-type {\n",
       "        vertical-align: middle;\n",
       "    }\n",
       "\n",
       "    .dataframe tbody tr th {\n",
       "        vertical-align: top;\n",
       "    }\n",
       "\n",
       "    .dataframe thead th {\n",
       "        text-align: right;\n",
       "    }\n",
       "</style>\n",
       "<table border=\"1\" class=\"dataframe\">\n",
       "  <thead>\n",
       "    <tr style=\"text-align: right;\">\n",
       "      <th></th>\n",
       "      <th>sum_sq</th>\n",
       "      <th>df</th>\n",
       "      <th>F</th>\n",
       "      <th>PR(&gt;F)</th>\n",
       "    </tr>\n",
       "  </thead>\n",
       "  <tbody>\n",
       "    <tr>\n",
       "      <th>C(department)</th>\n",
       "      <td>0.257897</td>\n",
       "      <td>1.0</td>\n",
       "      <td>8.699591</td>\n",
       "      <td>0.003245</td>\n",
       "    </tr>\n",
       "    <tr>\n",
       "      <th>C(quarter)</th>\n",
       "      <td>0.827062</td>\n",
       "      <td>4.0</td>\n",
       "      <td>6.974797</td>\n",
       "      <td>0.000015</td>\n",
       "    </tr>\n",
       "    <tr>\n",
       "      <th>Residual</th>\n",
       "      <td>35.306806</td>\n",
       "      <td>1191.0</td>\n",
       "      <td>NaN</td>\n",
       "      <td>NaN</td>\n",
       "    </tr>\n",
       "  </tbody>\n",
       "</table>\n",
       "</div>"
      ],
      "text/plain": [
       "                  sum_sq      df         F    PR(>F)\n",
       "C(department)   0.257897     1.0  8.699591  0.003245\n",
       "C(quarter)      0.827062     4.0  6.974797  0.000015\n",
       "Residual       35.306806  1191.0       NaN       NaN"
      ]
     },
     "execution_count": 80,
     "metadata": {},
     "output_type": "execute_result"
    }
   ],
   "source": [
    "formula_d = 'actual_productivity ~ C(department) + C(quarter)'\n",
    "mod_d = ols(formula_d, df).fit()\n",
    "ano_tab = anova_lm(mod_d, typ=2)\n",
    "ano_tab"
   ]
  },
  {
   "cell_type": "markdown",
   "id": "f770a794",
   "metadata": {},
   "source": [
    "### Conclusion:\n",
    "\n",
    "The P Value for variable department is less than 0.05. We reject the null hypothesis.\\\n",
    "The P Value for variable quarter is less than 0.05. We reject the null hypothesis.\n",
    "\n",
    "This proves that the variance of at least one of the departments is different.\\\n",
    "The variance of at least one of the quarters is different."
   ]
  },
  {
   "cell_type": "code",
   "execution_count": 77,
   "id": "309fb25c",
   "metadata": {},
   "outputs": [],
   "source": [
    "#21"
   ]
  },
  {
   "cell_type": "markdown",
   "id": "844a6a37",
   "metadata": {},
   "source": [
    "1. **Data Overview:**\n",
    "   - The dataset comprises 1197 records from two departments of a Garment Factory.\n",
    "   - Data covers tasks performed by multiple teams over two and a half months in sewing and finishing departments.\n",
    "\n",
    "2. **Recorded Data:**\n",
    "   - Includes targeted and actual productivity for each task.\n",
    "   - Captures team assignments, task durations, pending work, idle workers, and idle time.\n",
    "   - Records incentives and overtime for tasks.\n",
    "\n",
    "3. **Working Days and Quarters:**\n",
    "   - There are 59 working days across 5 quarters in the dataset.\n",
    "   - Each quarter represents a week in a month, with the remaining days in the 5th quarter.\n",
    "   - Quarter 5 is excluded from further analysis due to incomplete data.\n",
    "\n",
    "4. **Productivity Analysis:**\n",
    "   - Mean and Standard Deviation analysis per quarter indicates a slight increase in productivity in Quarter 1, followed by a decrease in subsequent quarters.\n",
    "   - Finishing department shows higher productivity compared to the sewing department.\n",
    "\n",
    "5. **Team and Task Overview:**\n",
    "   - About 12 teams and 70 task types are assigned to both sewing and finishing departments.\n",
    "\n",
    "6. **Daily Productivity Patterns:**\n",
    "   - Productivity peaks on Saturdays, following the weekly off on Fridays.\n",
    "\n",
    "7. **Team Performance Analysis:**\n",
    "   - Team 7 is consistent but has the lowest mean productivity and high variance.\n",
    "   - Team 2 performs well with high productivity, low variance, and few outliers.\n",
    "   - Team 12's productivity outliers on both ends require further evaluation.\n",
    "\n",
    "8. **Correlation Analysis:**\n",
    "   - Incentives and overtime show no significant impact on productivity.\n",
    "   - Idle workers and style changes negatively affect productivity.\n"
   ]
  },
  {
   "cell_type": "markdown",
   "id": "83c54216",
   "metadata": {},
   "source": [
    "## Hypothesis Testing\n",
    "\n",
    "1. **Average Productivity:**\n",
    "   - Both the finishing and sewing departments exhibit average productivity greater than 0.75.\n",
    "\n",
    "2. **Departmental Productivity:**\n",
    "   - The average productivity of the finishing department surpasses that of the sewing department overall. This is evident from the higher incentives received by the finishing department.\n",
    "\n",
    "3. **Productivity Claim Disproven:**\n",
    "   - The claim made by the manager regarding worker productivity (30% low, 40% medium, 30% high) is disproven by our analysis.\n",
    "\n",
    "4. **Quarterly Productivity:**\n",
    "   - Quarter 1 demonstrates higher productivity compared to other quarters, although productivity remains consistent throughout the working week.\n",
    "\n",
    "5. **Variable Independence:**\n",
    "   - The variables day and department are found to be independent from the quarter variable.\n"
   ]
  },
  {
   "cell_type": "markdown",
   "id": "cb57ee10",
   "metadata": {},
   "source": [
    "## Final Analysis\n",
    "\n",
    "1. **Variable Testing:**\n",
    "   - We examined departments, quarters, incentives, and days against actual productivity to identify factors influencing productivity. However, none of these variables significantly affect actual productivity.\n",
    "\n",
    "2. **Style Changes:**\n",
    "   - Based on our analysis, the number of style changes has the most negative impact on actual productivity. It's crucial for the manager to ensure final design approval with minimal style changes to mitigate this impact.\n",
    "\n",
    "3. **Idle Workers:**\n",
    "   - Idle workers adversely affect actual productivity. Implementing cross-departmental skill training can help reduce idle time and unfinished products in the sewing department, thus improving overall productivity.\n"
   ]
  }
 ],
 "metadata": {
  "kernelspec": {
   "display_name": "Python 3 (ipykernel)",
   "language": "python",
   "name": "python3"
  },
  "language_info": {
   "codemirror_mode": {
    "name": "ipython",
    "version": 3
   },
   "file_extension": ".py",
   "mimetype": "text/x-python",
   "name": "python",
   "nbconvert_exporter": "python",
   "pygments_lexer": "ipython3",
   "version": "3.11.7"
  }
 },
 "nbformat": 4,
 "nbformat_minor": 5
}
