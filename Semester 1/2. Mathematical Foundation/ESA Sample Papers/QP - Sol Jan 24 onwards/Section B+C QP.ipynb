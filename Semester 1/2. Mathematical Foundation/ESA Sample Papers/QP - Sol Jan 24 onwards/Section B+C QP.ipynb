{
 "cells": [
  {
   "cell_type": "markdown",
   "metadata": {
    "id": "mHQtNe2KW8cw"
   },
   "source": [
    "## 2. Section B (40 marks)"
   ]
  },
  {
   "cell_type": "code",
   "execution_count": null,
   "metadata": {
    "id": "qITmcy2GapYv"
   },
   "outputs": [],
   "source": [
    "import numpy as np\n",
    "import numpy.linalg as la\n",
    "from numpy.linalg import inv ,det\n",
    "from numpy import linalg as LA\n",
    "import pandas as pd\n",
    "from sympy import Symbol, Derivative"
   ]
  },
  {
   "cell_type": "markdown",
   "metadata": {
    "id": "X530Rr08YfIj"
   },
   "source": [
    "(a) Consider the following matrix and answer the below 2 questions\n",
    "\\begin{align}\n",
    "A=\\begin{bmatrix}\n",
    "3\\\\\n",
    "2\\\\\n",
    "1\n",
    "\\end{bmatrix}\n",
    "\\end{align}\n",
    "\\begin{align}\n",
    "B=\\begin{bmatrix}\n",
    "-1\\\\\n",
    "3\\\\\n",
    "4\n",
    "\\end{bmatrix}\n",
    "\\end{align}\n",
    "\\begin{align}\n",
    "C=\\begin{bmatrix}\n",
    "5\\\\\n",
    "0\\\\\n",
    "1\n",
    "\\end{bmatrix}\n",
    "\\end{align}\n",
    "(i) Check whether the vectors are linearly independent and find the rank of the matrix. (4 marks)\n",
    "\n",
    "(ii) Check if this matrix is orthogonal. (3 marks)\n",
    "\n",
    "\n",
    "                              "
   ]
  },
  {
   "cell_type": "code",
   "execution_count": null,
   "metadata": {
    "id": "lvmAJ3ieSf-b"
   },
   "outputs": [],
   "source": []
  },
  {
   "cell_type": "markdown",
   "metadata": {
    "id": "s1jn7CzPazwn"
   },
   "source": [
    "(b) Find Eigen Values of $A$, $A^{2}$ and $A^{-1}$for\n",
    "\\begin{align}\n",
    "A=\\begin{bmatrix}\n",
    "4 & 3\\\\\n",
    "2 & 1\n",
    "\\end{bmatrix}\n",
    "\\end{align}\n",
    "\n",
    "(7 marks)"
   ]
  },
  {
   "cell_type": "code",
   "execution_count": null,
   "metadata": {
    "id": "Q9WES6KBSglg"
   },
   "outputs": [],
   "source": []
  },
  {
   "cell_type": "markdown",
   "metadata": {
    "id": "pnN2bP6ZcZi2"
   },
   "source": [
    "(c) Find the scalar and vector projections of the vector u = 8i + 6j on vector v = i - 7j  \n",
    "\n",
    "(6 marks )"
   ]
  },
  {
   "cell_type": "code",
   "execution_count": null,
   "metadata": {
    "id": "YnKAuQCzShAK"
   },
   "outputs": [],
   "source": []
  },
  {
   "cell_type": "markdown",
   "metadata": {
    "id": "U7XqD8TsctSk"
   },
   "source": [
    "(d) Find singular value decomposition of\n",
    "\\begin{align}\n",
    "A = \\begin{bmatrix}\n",
    "1 & 2\\\\\n",
    "3 & 4\\\\\n",
    "5 & 6\n",
    "\\end{bmatrix}\n",
    "\\end{align}\n",
    "\n",
    "(6 marks)"
   ]
  },
  {
   "cell_type": "code",
   "execution_count": null,
   "metadata": {
    "id": "eTEFFDhBShbu"
   },
   "outputs": [],
   "source": []
  },
  {
   "cell_type": "markdown",
   "metadata": {
    "id": "HgHEVDgthTtd"
   },
   "source": [
    "(e) Convert the following matrix to an orthogonal matrix using Gram Schmidt Process?\n",
    "\\begin{align}\n",
    "B = \\begin{bmatrix}\n",
    "1 & 1 & 1\\\\\n",
    "-1 & 0 & 1\\\\\n",
    "1 & 1 & 2\n",
    "\\end{bmatrix}\n",
    "\\end{align}\n",
    "\n",
    "(6 marks)"
   ]
  },
  {
   "cell_type": "code",
   "execution_count": null,
   "metadata": {
    "id": "mKb1HZ3iSiPK"
   },
   "outputs": [],
   "source": []
  },
  {
   "cell_type": "markdown",
   "metadata": {
    "id": "_AjRRz8YP3pA"
   },
   "source": [
    "(f) A=1111 B=01−11 C=−2100\n",
    "Check if the following are true or false:\n",
    "\n",
    "1. (BA + A) = (B + I)A, where I is the identity matrix.\n",
    "\n",
    "2. (A + B)C = AC + BC\n",
    "\n",
    "(8 marks)"
   ]
  },
  {
   "cell_type": "markdown",
   "metadata": {
    "id": "lXch-MdhpUzM"
   },
   "source": [
    "## Extra questions (5 to 6 marks)\n",
    "\n",
    "(1) Find out the minima of the following function for the interval ( -5, -2)\n",
    "$𝑓(x) =  x3 + 2x$\n",
    "\n",
    "(2) Find the critical points of the function  f(x)=x5−5x4+5x3−1\n",
    "\n",
    "(3) The revenue generation function of an IT company is 3000x - 20x2 + 200   rupees where x is the number of employees. Find out the marginal revenue generation when 10 employees are hired.\n",
    "\n",
    "(4) Calculate the angle between two given vectors. The two vectors are, a = i + 2j and b = 9 i + 3j\n",
    "\n",
    "(5) Verify the following for the matrix A and B and C\n",
    "-\n",
    "- $(AB)^{T}=B^{T}A^{T}$;\n",
    "- $(AB)^{-1}=B^{-1}A^{-1}$ ;\n",
    "- $A(B+C)= AB + AC$;\n",
    "- $(A^{T})^{-1}=(A^{-1})^{T}$;\n",
    "- $(A^{T}A)^{T}=A^{T}A$\n",
    "- $|C^{-1}|=\\frac{1}{|C|}$,\n",
    "\n",
    "\\begin{align} A = \\begin{bmatrix} 5 & 6 & 2\\\\ 4 & 7 & 1\\\\ 0 & 3 & 1 \\end{bmatrix} \\end{align},\n",
    "\n",
    "\\begin{align} B = \\begin{bmatrix} 1 & -2 & 1\\\\ 4 & 4 & 5\\\\ 5 & 5 & 1 \\end{bmatrix} \\end{align}\n",
    "\n",
    "\\begin{align} C = \\begin{bmatrix} 1 & 0 & 1\\\\ 4 & 1 & 0\\\\ 2 & 0 & 1 \\end{bmatrix} \\end{align}"
   ]
  },
  {
   "cell_type": "markdown",
   "metadata": {
    "id": "Rath4oaqiOcB"
   },
   "source": [
    "## 3. Section C (40 marks)\n",
    "\n",
    "\n",
    "3 questions max (15,15, 10 ) or 2 20 marks questions"
   ]
  },
  {
   "cell_type": "markdown",
   "metadata": {
    "id": "G8YNvhjliIx4"
   },
   "source": [
    "(a)Consider the image “Scene.jpg” and follow the below mentioned operations.\n",
    "1. Load the image and display\n",
    "2. Apply grayscale transformation\n",
    "3. Apply Gaussian blur filter\n",
    "4. Apply edge detection (Sobel filter)\n",
    "5. Rotate the image by 45 degrees\n",
    "6. Scale the image\n",
    "7. Translate the image\n",
    "\n",
    "\n",
    "10 marks"
   ]
  },
  {
   "cell_type": "code",
   "execution_count": null,
   "metadata": {
    "id": "o6H1IHrITDWw"
   },
   "outputs": [],
   "source": []
  },
  {
   "cell_type": "markdown",
   "metadata": {
    "id": "JoHVdNlwj8y0"
   },
   "source": [
    "(b) Apply PCA step by step on Iris dataset and find out the principal components that capture 95% variances.\n",
    "\n",
    " Step 1: Load the Iris dataset\n",
    "\n",
    " Step 2: Standardize the Data\n",
    "\n",
    " Step 3: Compute the Covariance Matrix\n",
    "\n",
    " Step 4: Compute the Eigenvectors and Eigenvalues\n",
    "\n",
    " Step 5: Select Principal Components\n",
    "    \n",
    "    Sort eigenvalues and eigenvectors in descending order\n",
    "    Select the top k eigenvectors based on the explained variance ratio  \n",
    "\n",
    " Step 6: Project Data onto Principal Components\n",
    "    \n",
    "    Display the explained variance ratio and cumulative explained variance ratio   \n",
    "\n",
    "(15 marks)"
   ]
  },
  {
   "cell_type": "code",
   "execution_count": null,
   "metadata": {
    "id": "xDPTFltITD5C"
   },
   "outputs": [],
   "source": []
  },
  {
   "cell_type": "markdown",
   "metadata": {
    "id": "HczEJyW2KnLG"
   },
   "source": [
    "3. Consider the data given below and fit a linear regression line y=ax+b using gradient descent.\n",
    "\n",
    "X\n",
    "0\n",
    "0.4\n",
    "0.6\n",
    "1\n",
    "\n",
    "Y\n",
    "0\n",
    "1\n",
    "0.48\n",
    "0.95\n",
    "\n",
    "Initialize the weights a and b to 0.8, 0.2 respectively.\n",
    "\n",
    "Update the weights such that the error is minimum using gradient descent.\n",
    "\n",
    "Use the function sum of squared errors $ y−y^2$ where $y^$ is the y-predicted value and y is the actual given y.\n",
    "\n",
    "Plot the linear regression line after updating the values of a and b in two iterations.\n",
    "\n",
    "(15 marks )"
   ]
  },
  {
   "cell_type": "code",
   "execution_count": null,
   "metadata": {
    "id": "J1_uyy0cTEik"
   },
   "outputs": [],
   "source": []
  },
  {
   "cell_type": "code",
   "execution_count": null,
   "metadata": {
    "id": "M4vZM8_XMIxq"
   },
   "outputs": [],
   "source": []
  }
 ],
 "metadata": {
  "colab": {
   "authorship_tag": "ABX9TyPR9LgR/b5EdDJ9tdcmjflM",
   "provenance": []
  },
  "kernelspec": {
   "display_name": "Python 3 (ipykernel)",
   "language": "python",
   "name": "python3"
  },
  "language_info": {
   "codemirror_mode": {
    "name": "ipython",
    "version": 3
   },
   "file_extension": ".py",
   "mimetype": "text/x-python",
   "name": "python",
   "nbconvert_exporter": "python",
   "pygments_lexer": "ipython3",
   "version": "3.11.7"
  }
 },
 "nbformat": 4,
 "nbformat_minor": 4
}
