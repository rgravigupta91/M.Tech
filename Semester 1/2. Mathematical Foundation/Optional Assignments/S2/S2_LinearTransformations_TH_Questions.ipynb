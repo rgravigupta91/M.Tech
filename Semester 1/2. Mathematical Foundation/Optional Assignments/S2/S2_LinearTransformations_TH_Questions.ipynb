{
 "cells": [
  {
   "cell_type": "markdown",
   "metadata": {
    "colab_type": "text",
    "id": "nc6ZJgy0mbyI"
   },
   "source": [
    "#Matrix transformations"
   ]
  },
  {
   "cell_type": "markdown",
   "metadata": {
    "colab_type": "text",
    "id": "g8s9nj4nmy4Z"
   },
   "source": [
    "1. For the given matrix scale by factor of 4 and rotate a matrix by 50 degree"
   ]
  },
  {
   "cell_type": "code",
   "execution_count": 1,
   "metadata": {
    "colab": {},
    "colab_type": "code",
    "executionInfo": {
     "elapsed": 1269,
     "status": "ok",
     "timestamp": 1594376229068,
     "user": {
      "displayName": "Sudha B G",
      "photoUrl": "",
      "userId": "11454725486752146023"
     },
     "user_tz": -330
    },
    "id": "6DiLNJ4TmwM6"
   },
   "outputs": [],
   "source": [
    "%matplotlib notebook\n",
    "import numpy as np\n",
    "import matplotlib.pyplot as plt\n",
    "\n",
    "def get_grid(x, y, homogenous=False):\n",
    "    coords = np.indices((x, y)).reshape(2, -1)\n",
    "    return np.vstack((coords, np.ones(coords.shape[1]))).astype(np.int) if homogenous else coords\n",
    "\n",
    "def grid_plotter(points, labels):\n",
    "    markers = ['o', 'x', 's', '^', 'p', 'v']\n",
    "    fig, ax = plt.subplots(figsize=(8,6))\n",
    "    for i, p in enumerate(points):\n",
    "        x, y = p[0], p[1]\n",
    "        ax.scatter(x, y, label=labels[i], marker=markers[i], alpha=0.8, s=100)\n",
    "    ax.legend(loc='lower right')\n",
    "    ax.set_xlim(-5, 5)\n",
    "    ax.set_ylim(-5, 5)\n",
    "\n",
    "    ax.grid(True)\n",
    "    plt.show()"
   ]
  },
  {
   "cell_type": "code",
   "execution_count": null,
   "metadata": {
    "colab": {},
    "colab_type": "code",
    "id": "cS0FGmlsRVTu"
   },
   "outputs": [],
   "source": [
    "# Define Transformations\n",
    "def get_rotation(angle):\n",
    "    angle = np.radians(angle)\n",
    "    return np.array([\n",
    "        [np.cos(angle), -np.sin(angle), 0],\n",
    "        [np.sin(angle),  np.cos(angle), 0],\n",
    "        [0, 0, 1]\n",
    "    ])\n",
    "\n",
    "\n",
    "def get_scale(s):\n",
    "    return np.array([\n",
    "        [s, 0, 0],\n",
    "        [0, s, 0],\n",
    "        [0, 0, 1]\n",
    "    ])\n",
    "\n",
    "R1 = get_rotation(50)\n",
    "S1 = get_scale(2)"
   ]
  },
  {
   "cell_type": "code",
   "execution_count": null,
   "metadata": {
    "colab": {
     "base_uri": "https://localhost:8080/",
     "height": 374
    },
    "colab_type": "code",
    "executionInfo": {
     "elapsed": 1341,
     "status": "ok",
     "timestamp": 1593852278635,
     "user": {
      "displayName": "Vishnu Murali",
      "photoUrl": "https://lh3.googleusercontent.com/a-/AOh14Gi9HFkIyK2pSuiQeQKuJ_g129BxLvMVLl9xboj8=s64",
      "userId": "16837812932775871984"
     },
     "user_tz": -330
    },
    "id": "KUVdOJ0pRt19",
    "outputId": "8ffb54c2-9d97-441a-cc96-5db45044e550"
   },
   "outputs": [
    {
     "data": {
      "image/png": "[encoded data removed]",
      "text/plain": [
       "<Figure size 576x432 with 1 Axes>"
      ]
     },
     "metadata": {
      "needs_background": "light",
      "tags": []
     },
     "output_type": "display_data"
    }
   ],
   "source": [
    "\n",
    "# Get sample coordinates\n",
    "coords = get_grid(2, 2, homogenous=True)\n",
    "\n",
    "# Apply transformation\n",
    "coords_rot = R1 @ coords\n",
    "coords_scale = S1 @ coords\n",
    "\n",
    "coords_composite1 = R1 @ S1 @ coords\n",
    "\n",
    "grid_plotter([coords, coords_rot, coords_scale, coords_composite1],\n",
    "             labels=['original', 'rotate135', 'scale(2)', 'rotate(50), scale(4)'])"
   ]
  },
  {
   "cell_type": "markdown",
   "metadata": {
    "colab_type": "text",
    "id": "XrADcyPJmjBe"
   },
   "source": [
    "#Matrix operations"
   ]
  },
  {
   "cell_type": "markdown",
   "metadata": {
    "colab_type": "text",
    "id": "sSHFq94uB0rV"
   },
   "source": [
    "2. For the given matrix A, find\n",
    "- determinant\n",
    "- rank\n",
    "- inverse\n",
    "- Eigen value"
   ]
  },
  {
   "cell_type": "code",
   "execution_count": null,
   "metadata": {
    "colab": {
     "base_uri": "https://localhost:8080/",
     "height": 72
    },
    "colab_type": "code",
    "executionInfo": {
     "elapsed": 916,
     "status": "ok",
     "timestamp": 1593853003394,
     "user": {
      "displayName": "Vishnu Murali",
      "photoUrl": "https://lh3.googleusercontent.com/a-/AOh14Gi9HFkIyK2pSuiQeQKuJ_g129BxLvMVLl9xboj8=s64",
      "userId": "16837812932775871984"
     },
     "user_tz": -330
    },
    "id": "E7SoJlyNZXS1",
    "outputId": "0a47314d-c198-4b58-fbfa-27498981f5b1"
   },
   "outputs": [
    {
     "name": "stdout",
     "output_type": "stream",
     "text": [
      "[[22 32 13]\n",
      " [14  5 16]\n",
      " [19 18 15]]\n"
     ]
    }
   ],
   "source": [
    "# matrix determinant\n",
    "from numpy import array\n",
    "from numpy.linalg import det\n",
    "from numpy.linalg import matrix_rank\n",
    "\n",
    "# define matrix\n",
    "A = array([\n",
    "[22, 32, 13],\n",
    "[14, 5, 16],\n",
    "[19, 18, 15]])\n",
    "\n",
    "print(A)"
   ]
  },
  {
   "cell_type": "code",
   "execution_count": null,
   "metadata": {
    "colab": {},
    "colab_type": "code",
    "id": "ynxfSbLpCc2U"
   },
   "outputs": [],
   "source": [
    "det = det(A)\n",
    "rank = matrix_rank(A)\n",
    "inv= np.linalg.inv(A)\n",
    "eigenvalues, eigenvectors = np.linalg.eig(A)"
   ]
  },
  {
   "cell_type": "code",
   "execution_count": null,
   "metadata": {
    "colab": {},
    "colab_type": "code",
    "id": "XRF1oMHODEXZ"
   },
   "outputs": [],
   "source": []
  },
  {
   "cell_type": "markdown",
   "metadata": {
    "colab_type": "text",
    "id": "nc_2vVXuOfHg"
   },
   "source": [
    "3. Convert the following matrix to an orthogonal matrix using Gram Schmidt Process."
   ]
  },
  {
   "cell_type": "code",
   "execution_count": 3,
   "metadata": {
    "colab": {
     "base_uri": "https://localhost:8080/",
     "height": 70
    },
    "colab_type": "code",
    "executionInfo": {
     "elapsed": 1067,
     "status": "ok",
     "timestamp": 1594376284913,
     "user": {
      "displayName": "Sudha B G",
      "photoUrl": "",
      "userId": "11454725486752146023"
     },
     "user_tz": -330
    },
    "id": "RuKIE7TCOg8N",
    "outputId": "4ea9a3d0-f096-401a-9617-091114a7015e"
   },
   "outputs": [
    {
     "data": {
      "text/plain": [
       "array([[9, 8, 7],\n",
       "       [6, 5, 4],\n",
       "       [3, 2, 1]])"
      ]
     },
     "execution_count": 3,
     "metadata": {
      "tags": []
     },
     "output_type": "execute_result"
    }
   ],
   "source": [
    "A = np.array([[9,8,7], [6,5,4], [3,2,1]])\n",
    "A"
   ]
  },
  {
   "cell_type": "code",
   "execution_count": null,
   "metadata": {
    "colab": {},
    "colab_type": "code",
    "id": "fWHtbbQTO3dF"
   },
   "outputs": [],
   "source": []
  },
  {
   "cell_type": "markdown",
   "metadata": {
    "colab_type": "text",
    "id": "dDQCzmJqO_r1"
   },
   "source": [
    "Check if the above matrix is orthogonal and if not, convert to an orthogonal matrix."
   ]
  },
  {
   "cell_type": "code",
   "execution_count": 4,
   "metadata": {
    "colab": {
     "base_uri": "https://localhost:8080/",
     "height": 70
    },
    "colab_type": "code",
    "executionInfo": {
     "elapsed": 1406,
     "status": "ok",
     "timestamp": 1594376361235,
     "user": {
      "displayName": "Sudha B G",
      "photoUrl": "",
      "userId": "11454725486752146023"
     },
     "user_tz": -330
    },
    "id": "GFVo8CUZPGtU",
    "outputId": "5e8b8b14-4e12-4de8-ab14-faf3f98822a0"
   },
   "outputs": [
    {
     "data": {
      "text/plain": [
       "array([[194, 122,  50],\n",
       "       [122,  77,  32],\n",
       "       [ 50,  32,  14]])"
      ]
     },
     "execution_count": 4,
     "metadata": {
      "tags": []
     },
     "output_type": "execute_result"
    }
   ],
   "source": [
    "A.dot(A.T)"
   ]
  },
  {
   "cell_type": "markdown",
   "metadata": {
    "colab_type": "text",
    "id": "sOnQ7IQbPZWd"
   },
   "source": [
    "since the inner/ dot product of A and A Transpose is not an identity matrix, the matrix A is not orthogonal."
   ]
  },
  {
   "cell_type": "code",
   "execution_count": null,
   "metadata": {
    "colab": {},
    "colab_type": "code",
    "id": "q9UfgNfqPauc"
   },
   "outputs": [],
   "source": [
    "# Gram Schmidt Process"
   ]
  },
  {
   "cell_type": "code",
   "execution_count": null,
   "metadata": {
    "colab": {},
    "colab_type": "code",
    "id": "LONqU1xHPLId"
   },
   "outputs": [],
   "source": []
  }
 ],
 "metadata": {
  "colab": {
   "collapsed_sections": [],
   "name": "take home.ipynb",
   "provenance": []
  },
  "kernelspec": {
   "display_name": "Python 3 (ipykernel)",
   "language": "python",
   "name": "python3"
  },
  "language_info": {
   "codemirror_mode": {
    "name": "ipython",
    "version": 3
   },
   "file_extension": ".py",
   "mimetype": "text/x-python",
   "name": "python",
   "nbconvert_exporter": "python",
   "pygments_lexer": "ipython3",
   "version": "3.11.7"
  }
 },
 "nbformat": 4,
 "nbformat_minor": 4
}
