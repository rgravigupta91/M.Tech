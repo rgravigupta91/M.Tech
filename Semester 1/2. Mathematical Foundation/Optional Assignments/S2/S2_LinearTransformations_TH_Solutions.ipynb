{
 "cells": [
  {
   "cell_type": "markdown",
   "metadata": {
    "colab_type": "text",
    "id": "nc6ZJgy0mbyI"
   },
   "source": [
    "#Matrix transformations"
   ]
  },
  {
   "cell_type": "markdown",
   "metadata": {
    "colab_type": "text",
    "id": "g8s9nj4nmy4Z"
   },
   "source": [
    "1. For the given coordinates, scale by factor of 4 and rotate a matrix by 50 degree"
   ]
  },
  {
   "cell_type": "code",
   "execution_count": 1,
   "metadata": {
    "colab": {},
    "colab_type": "code",
    "executionInfo": {
     "elapsed": 1658,
     "status": "ok",
     "timestamp": 1598451925344,
     "user": {
      "displayName": "Sudha B G",
      "photoUrl": "",
      "userId": "11454725486752146023"
     },
     "user_tz": -330
    },
    "id": "6DiLNJ4TmwM6"
   },
   "outputs": [],
   "source": [
    "%matplotlib notebook\n",
    "import numpy as np\n",
    "import pandas as pd\n",
    "import matplotlib.pyplot as plt\n",
    "from PIL  import Image\n",
    "import scipy\n",
    "from skimage import data\n",
    "from numpy import *\n",
    "\n",
    "def get_grid(x, y, homogenous=False):\n",
    "    coords = np.indices((x, y)).reshape(2, -1)\n",
    "    return np.vstack((coords, np.ones(coords.shape[1]))).astype(np.int) if homogenous else coords\n",
    "\n",
    "def grid_plotter(points, labels):\n",
    "    markers = ['o', 'x', 's', '^', 'p', 'v']\n",
    "    fig, ax = plt.subplots(figsize=(8,6))\n",
    "    for i, p in enumerate(points):\n",
    "        x, y = p[0], p[1]\n",
    "        ax.scatter(x, y, label=labels[i], marker=markers[i], alpha=0.8, s=100)\n",
    "    ax.legend(loc='lower right')\n",
    "    ax.set_xlim(-5, 5)\n",
    "    ax.set_ylim(-5, 5)\n",
    "\n",
    "    ax.grid(True)\n",
    "    plt.show()"
   ]
  },
  {
   "cell_type": "code",
   "execution_count": 2,
   "metadata": {
    "colab": {},
    "colab_type": "code",
    "executionInfo": {
     "elapsed": 1654,
     "status": "ok",
     "timestamp": 1598451925345,
     "user": {
      "displayName": "Sudha B G",
      "photoUrl": "",
      "userId": "11454725486752146023"
     },
     "user_tz": -330
    },
    "id": "cS0FGmlsRVTu"
   },
   "outputs": [],
   "source": [
    "# Define Transformations\n",
    "def get_rotation(angle):\n",
    "    angle = np.radians(angle)\n",
    "    return np.array([\n",
    "        [np.cos(angle), -np.sin(angle), 0],\n",
    "        [np.sin(angle),  np.cos(angle), 0],\n",
    "        [0, 0, 1]\n",
    "    ])\n",
    "\n",
    "\n",
    "def get_scale(s):\n",
    "    return np.array([\n",
    "        [s, 0, 0],\n",
    "        [0, s, 0],\n",
    "        [0, 0, 1]\n",
    "    ])\n"
   ]
  },
  {
   "cell_type": "code",
   "execution_count": 3,
   "metadata": {
    "colab": {},
    "colab_type": "code",
    "executionInfo": {
     "elapsed": 1652,
     "status": "ok",
     "timestamp": 1598451925346,
     "user": {
      "displayName": "Sudha B G",
      "photoUrl": "",
      "userId": "11454725486752146023"
     },
     "user_tz": -330
    },
    "id": "hCyrL7pPKAUB"
   },
   "outputs": [],
   "source": [
    "R1 = get_rotation(45)\n",
    "S1 = get_scale(3)"
   ]
  },
  {
   "cell_type": "code",
   "execution_count": 4,
   "metadata": {
    "colab": {
     "base_uri": "https://localhost:8080/",
     "height": 374
    },
    "colab_type": "code",
    "executionInfo": {
     "elapsed": 2513,
     "status": "ok",
     "timestamp": 1598451926220,
     "user": {
      "displayName": "Sudha B G",
      "photoUrl": "",
      "userId": "11454725486752146023"
     },
     "user_tz": -330
    },
    "id": "KUVdOJ0pRt19",
    "outputId": "3937f66f-28d9-4444-e062-75a4ebe8ad15"
   },
   "outputs": [
    {
     "data": {
      "image/png": "[encoded data removed]",
      "text/plain": [
       "<Figure size 576x432 with 1 Axes>"
      ]
     },
     "metadata": {
      "needs_background": "light",
      "tags": []
     },
     "output_type": "display_data"
    }
   ],
   "source": [
    "\n",
    "# Get sample coordinates\n",
    "coords = get_grid(2, 2, homogenous=True)\n",
    "\n",
    "# Apply transformation\n",
    "coords_rot = R1 @ coords\n",
    "coords_scale = S1 @ coords\n",
    "\n",
    "coords_composite1 = R1 @ S1 @ coords\n",
    "\n",
    "grid_plotter([coords, coords_rot, coords_scale, coords_composite1],\n",
    "             labels=['original', 'rotate135', 'scale(2)', 'rotate(50), scale(4)'])"
   ]
  },
  {
   "cell_type": "markdown",
   "metadata": {
    "colab_type": "text",
    "id": "XrADcyPJmjBe"
   },
   "source": [
    "#Matrix operations"
   ]
  },
  {
   "cell_type": "markdown",
   "metadata": {
    "colab_type": "text",
    "id": "sSHFq94uB0rV"
   },
   "source": [
    "2. For the given matrix A, find\n",
    "- determinant\n",
    "- rank\n",
    "- inverse\n",
    "- Eigen value"
   ]
  },
  {
   "cell_type": "code",
   "execution_count": 5,
   "metadata": {
    "colab": {
     "base_uri": "https://localhost:8080/",
     "height": 68
    },
    "colab_type": "code",
    "executionInfo": {
     "elapsed": 2499,
     "status": "ok",
     "timestamp": 1598451926222,
     "user": {
      "displayName": "Sudha B G",
      "photoUrl": "",
      "userId": "11454725486752146023"
     },
     "user_tz": -330
    },
    "id": "E7SoJlyNZXS1",
    "outputId": "93f6e3f6-1e37-4ba0-88c1-d99820d1bb35"
   },
   "outputs": [
    {
     "name": "stdout",
     "output_type": "stream",
     "text": [
      "[[22 32 13]\n",
      " [14  5 16]\n",
      " [19 18 15]]\n"
     ]
    }
   ],
   "source": [
    "# matrix determinant\n",
    "from numpy import array\n",
    "from numpy.linalg import det\n",
    "from numpy.linalg import matrix_rank\n",
    "\n",
    "# define matrix\n",
    "A = array([\n",
    "[22, 32, 13],\n",
    "[14, 5, 16],\n",
    "[19, 18, 15]])\n",
    "\n",
    "print(A)"
   ]
  },
  {
   "cell_type": "code",
   "execution_count": 6,
   "metadata": {
    "colab": {
     "base_uri": "https://localhost:8080/",
     "height": 34
    },
    "colab_type": "code",
    "executionInfo": {
     "elapsed": 2488,
     "status": "ok",
     "timestamp": 1598451926223,
     "user": {
      "displayName": "Sudha B G",
      "photoUrl": "",
      "userId": "11454725486752146023"
     },
     "user_tz": -330
    },
    "id": "ynxfSbLpCc2U",
    "outputId": "ae411c10-41a1-434b-af0b-08fda5fd5d2f"
   },
   "outputs": [
    {
     "data": {
      "text/plain": [
       "362.9999999999999"
      ]
     },
     "execution_count": 6,
     "metadata": {
      "tags": []
     },
     "output_type": "execute_result"
    }
   ],
   "source": [
    "#Determinant\n",
    "det(A)"
   ]
  },
  {
   "cell_type": "code",
   "execution_count": 7,
   "metadata": {
    "colab": {
     "base_uri": "https://localhost:8080/",
     "height": 34
    },
    "colab_type": "code",
    "executionInfo": {
     "elapsed": 2476,
     "status": "ok",
     "timestamp": 1598451926223,
     "user": {
      "displayName": "Sudha B G",
      "photoUrl": "",
      "userId": "11454725486752146023"
     },
     "user_tz": -330
    },
    "id": "XRF1oMHODEXZ",
    "outputId": "be617e43-c1c4-4f9c-a696-7c81eaac85ba"
   },
   "outputs": [
    {
     "name": "stdout",
     "output_type": "stream",
     "text": [
      "3\n"
     ]
    }
   ],
   "source": [
    "#Rank\n",
    "print(matrix_rank(A))"
   ]
  },
  {
   "cell_type": "code",
   "execution_count": 8,
   "metadata": {
    "colab": {
     "base_uri": "https://localhost:8080/",
     "height": 68
    },
    "colab_type": "code",
    "executionInfo": {
     "elapsed": 2464,
     "status": "ok",
     "timestamp": 1598451926224,
     "user": {
      "displayName": "Sudha B G",
      "photoUrl": "",
      "userId": "11454725486752146023"
     },
     "user_tz": -330
    },
    "id": "ysxoQnqNKAUm",
    "outputId": "a18410e1-96e6-4b0a-efc2-70dd344752ea"
   },
   "outputs": [
    {
     "data": {
      "text/plain": [
       "array([[-0.58677686, -0.67768595,  1.23140496],\n",
       "       [ 0.25895317,  0.22865014, -0.46831956],\n",
       "       [ 0.43250689,  0.58402204, -0.93112948]])"
      ]
     },
     "execution_count": 8,
     "metadata": {
      "tags": []
     },
     "output_type": "execute_result"
    }
   ],
   "source": [
    "#Inverse\n",
    "from numpy.linalg import inv\n",
    "inv(A)"
   ]
  },
  {
   "cell_type": "code",
   "execution_count": 9,
   "metadata": {
    "colab": {},
    "colab_type": "code",
    "executionInfo": {
     "elapsed": 2462,
     "status": "ok",
     "timestamp": 1598451926226,
     "user": {
      "displayName": "Sudha B G",
      "photoUrl": "",
      "userId": "11454725486752146023"
     },
     "user_tz": -330
    },
    "id": "WQKx9EThKAUq"
   },
   "outputs": [],
   "source": [
    "#Eigen_value\n",
    "import numpy as np\n",
    "import scipy.linalg as la"
   ]
  },
  {
   "cell_type": "code",
   "execution_count": 10,
   "metadata": {
    "colab": {
     "base_uri": "https://localhost:8080/",
     "height": 34
    },
    "colab_type": "code",
    "executionInfo": {
     "elapsed": 2451,
     "status": "ok",
     "timestamp": 1598451926226,
     "user": {
      "displayName": "Sudha B G",
      "photoUrl": "",
      "userId": "11454725486752146023"
     },
     "user_tz": -330
    },
    "id": "pEm-o41mKAUv",
    "outputId": "9fbf8818-d501-4225-9cb1-9648140eb3cc"
   },
   "outputs": [
    {
     "data": {
      "text/plain": [
       "array([51.26682346+0.j, -0.84027296+0.j, -8.4265505 +0.j])"
      ]
     },
     "execution_count": 10,
     "metadata": {
      "tags": []
     },
     "output_type": "execute_result"
    }
   ],
   "source": [
    "eigen_value,eigen_vector = la.eig(A)\n",
    "eigen_value"
   ]
  },
  {
   "cell_type": "code",
   "execution_count": 11,
   "metadata": {
    "colab": {
     "base_uri": "https://localhost:8080/",
     "height": 68
    },
    "colab_type": "code",
    "executionInfo": {
     "elapsed": 2441,
     "status": "ok",
     "timestamp": 1598451926227,
     "user": {
      "displayName": "Sudha B G",
      "photoUrl": "",
      "userId": "11454725486752146023"
     },
     "user_tz": -330
    },
    "id": "gBaBOBiIKAU1",
    "outputId": "d0a1aa1a-21ac-4603-d4fa-c0bddcddefa8"
   },
   "outputs": [
    {
     "data": {
      "text/plain": [
       "array([[-0.70653376, -0.76754065,  0.73929283],\n",
       "       [-0.4126179 ,  0.32288148, -0.66780726],\n",
       "       [-0.57494045,  0.55374082, -0.08648448]])"
      ]
     },
     "execution_count": 11,
     "metadata": {
      "tags": []
     },
     "output_type": "execute_result"
    }
   ],
   "source": [
    "eigen_vector"
   ]
  },
  {
   "cell_type": "markdown",
   "metadata": {
    "colab_type": "text",
    "id": "nc_2vVXuOfHg"
   },
   "source": [
    "3. Convert the following matrix to an orthogonal matrix using Gram Schmidt Process."
   ]
  },
  {
   "cell_type": "code",
   "execution_count": 12,
   "metadata": {
    "colab": {
     "base_uri": "https://localhost:8080/",
     "height": 68
    },
    "colab_type": "code",
    "executionInfo": {
     "elapsed": 2429,
     "status": "ok",
     "timestamp": 1598451926228,
     "user": {
      "displayName": "Sudha B G",
      "photoUrl": "",
      "userId": "11454725486752146023"
     },
     "user_tz": -330
    },
    "id": "RuKIE7TCOg8N",
    "outputId": "2757a850-dc58-44b7-c51e-32e6dd855c55"
   },
   "outputs": [
    {
     "data": {
      "text/plain": [
       "array([[9, 8, 7],\n",
       "       [6, 5, 4],\n",
       "       [3, 2, 1]])"
      ]
     },
     "execution_count": 12,
     "metadata": {
      "tags": []
     },
     "output_type": "execute_result"
    }
   ],
   "source": [
    "A = np.array([[9,8,7], [6,5,4], [3,2,1]])\n",
    "A"
   ]
  },
  {
   "cell_type": "code",
   "execution_count": 13,
   "metadata": {
    "colab": {
     "base_uri": "https://localhost:8080/",
     "height": 34
    },
    "colab_type": "code",
    "executionInfo": {
     "elapsed": 2418,
     "status": "ok",
     "timestamp": 1598451926228,
     "user": {
      "displayName": "Sudha B G",
      "photoUrl": "",
      "userId": "11454725486752146023"
     },
     "user_tz": -330
    },
    "id": "fWHtbbQTO3dF",
    "outputId": "8c48fa1f-0476-4658-a880-bfa3a669f64e"
   },
   "outputs": [
    {
     "data": {
      "text/plain": [
       "0.0"
      ]
     },
     "execution_count": 13,
     "metadata": {
      "tags": []
     },
     "output_type": "execute_result"
    }
   ],
   "source": [
    "det(A)"
   ]
  },
  {
   "cell_type": "code",
   "execution_count": 14,
   "metadata": {
    "colab": {},
    "colab_type": "code",
    "executionInfo": {
     "elapsed": 2415,
     "status": "ok",
     "timestamp": 1598451926229,
     "user": {
      "displayName": "Sudha B G",
      "photoUrl": "",
      "userId": "11454725486752146023"
     },
     "user_tz": -330
    },
    "id": "e-pzXl0cKAVQ"
   },
   "outputs": [],
   "source": [
    "## Since the determinant value is not equal to -1 or +1\n",
    "## It is not an orthogonal matrix"
   ]
  },
  {
   "cell_type": "markdown",
   "metadata": {
    "colab_type": "text",
    "id": "dDQCzmJqO_r1"
   },
   "source": [
    "Check if the above matrix is orthogonal and if not, convert to an orthogonal matrix."
   ]
  },
  {
   "cell_type": "code",
   "execution_count": 31,
   "metadata": {
    "colab": {
     "base_uri": "https://localhost:8080/",
     "height": 68
    },
    "colab_type": "code",
    "executionInfo": {
     "elapsed": 1468,
     "status": "ok",
     "timestamp": 1598453267442,
     "user": {
      "displayName": "Sudha B G",
      "photoUrl": "",
      "userId": "11454725486752146023"
     },
     "user_tz": -330
    },
    "id": "GFVo8CUZPGtU",
    "outputId": "70ee44aa-ff21-4b04-fdd0-dcafa71ad43b"
   },
   "outputs": [
    {
     "data": {
      "text/plain": [
       "array([[194, 122,  50],\n",
       "       [122,  77,  32],\n",
       "       [ 50,  32,  14]])"
      ]
     },
     "execution_count": 31,
     "metadata": {
      "tags": []
     },
     "output_type": "execute_result"
    }
   ],
   "source": [
    "A.dot(A.T)"
   ]
  },
  {
   "cell_type": "markdown",
   "metadata": {
    "colab_type": "text",
    "id": "sOnQ7IQbPZWd"
   },
   "source": [
    "since the inner/ dot product of A and A Transpose is not an identity matrix, the matrix A is not orthogonal."
   ]
  },
  {
   "cell_type": "code",
   "execution_count": 16,
   "metadata": {
    "colab": {},
    "colab_type": "code",
    "executionInfo": {
     "elapsed": 2401,
     "status": "ok",
     "timestamp": 1598451926230,
     "user": {
      "displayName": "Sudha B G",
      "photoUrl": "",
      "userId": "11454725486752146023"
     },
     "user_tz": -330
    },
    "id": "q9UfgNfqPauc"
   },
   "outputs": [],
   "source": [
    "# Gram Schmidt Process"
   ]
  },
  {
   "cell_type": "code",
   "execution_count": 17,
   "metadata": {
    "colab": {},
    "colab_type": "code",
    "executionInfo": {
     "elapsed": 2399,
     "status": "ok",
     "timestamp": 1598451926231,
     "user": {
      "displayName": "Sudha B G",
      "photoUrl": "",
      "userId": "11454725486752146023"
     },
     "user_tz": -330
    },
    "id": "LONqU1xHPLId"
   },
   "outputs": [],
   "source": [
    "u1,u2,u3=A[:,0],A[:,1],A[:,2]"
   ]
  },
  {
   "cell_type": "code",
   "execution_count": 30,
   "metadata": {
    "colab": {
     "base_uri": "https://localhost:8080/",
     "height": 34
    },
    "colab_type": "code",
    "executionInfo": {
     "elapsed": 1482,
     "status": "ok",
     "timestamp": 1598453258244,
     "user": {
      "displayName": "Sudha B G",
      "photoUrl": "",
      "userId": "11454725486752146023"
     },
     "user_tz": -330
    },
    "id": "HK74hhD-PQPh",
    "outputId": "7385f6a5-6be9-4387-f301-5b2464a6c66f"
   },
   "outputs": [
    {
     "data": {
      "text/plain": [
       "array([9, 6, 3])"
      ]
     },
     "execution_count": 30,
     "metadata": {
      "tags": []
     },
     "output_type": "execute_result"
    }
   ],
   "source": [
    "u1"
   ]
  },
  {
   "cell_type": "code",
   "execution_count": 18,
   "metadata": {
    "colab": {
     "base_uri": "https://localhost:8080/",
     "height": 34
    },
    "colab_type": "code",
    "executionInfo": {
     "elapsed": 2389,
     "status": "ok",
     "timestamp": 1598451926232,
     "user": {
      "displayName": "Sudha B G",
      "photoUrl": "",
      "userId": "11454725486752146023"
     },
     "user_tz": -330
    },
    "id": "8NR9GET7KAV1",
    "outputId": "3ec11110-e703-4c89-9ee6-1aaaa6878817"
   },
   "outputs": [
    {
     "data": {
      "text/plain": [
       "11.224972160321824"
      ]
     },
     "execution_count": 18,
     "metadata": {
      "tags": []
     },
     "output_type": "execute_result"
    }
   ],
   "source": [
    "mag_u1=np.linalg.norm(u1)\n",
    "mag_u1"
   ]
  },
  {
   "cell_type": "code",
   "execution_count": 19,
   "metadata": {
    "colab": {
     "base_uri": "https://localhost:8080/",
     "height": 34
    },
    "colab_type": "code",
    "executionInfo": {
     "elapsed": 2378,
     "status": "ok",
     "timestamp": 1598451926232,
     "user": {
      "displayName": "Sudha B G",
      "photoUrl": "",
      "userId": "11454725486752146023"
     },
     "user_tz": -330
    },
    "id": "McX5SF5hKAV7",
    "outputId": "78a0c46a-ed64-4ba0-ff20-acce2532c875"
   },
   "outputs": [
    {
     "data": {
      "text/plain": [
       "array([0.80178373, 0.53452248, 0.26726124])"
      ]
     },
     "execution_count": 19,
     "metadata": {
      "tags": []
     },
     "output_type": "execute_result"
    }
   ],
   "source": [
    "v1=u1/mag_u1\n",
    "v1"
   ]
  },
  {
   "cell_type": "code",
   "execution_count": 20,
   "metadata": {
    "colab": {
     "base_uri": "https://localhost:8080/",
     "height": 34
    },
    "colab_type": "code",
    "executionInfo": {
     "elapsed": 2368,
     "status": "ok",
     "timestamp": 1598451926234,
     "user": {
      "displayName": "Sudha B G",
      "photoUrl": "",
      "userId": "11454725486752146023"
     },
     "user_tz": -330
    },
    "id": "UjD6u3FnKAWE",
    "outputId": "f385d504-00fb-4c83-b953-ec579b6979ee"
   },
   "outputs": [
    {
     "data": {
      "text/plain": [
       "array([ 0.28571429, -0.14285714, -0.57142857])"
      ]
     },
     "execution_count": 20,
     "metadata": {
      "tags": []
     },
     "output_type": "execute_result"
    }
   ],
   "source": [
    "w2=u2-(u2.dot(v1))*v1\n",
    "w2"
   ]
  },
  {
   "cell_type": "code",
   "execution_count": 21,
   "metadata": {
    "colab": {
     "base_uri": "https://localhost:8080/",
     "height": 34
    },
    "colab_type": "code",
    "executionInfo": {
     "elapsed": 2358,
     "status": "ok",
     "timestamp": 1598451926236,
     "user": {
      "displayName": "Sudha B G",
      "photoUrl": "",
      "userId": "11454725486752146023"
     },
     "user_tz": -330
    },
    "id": "-1vrqu53KAWJ",
    "outputId": "4bc2a949-e608-4a82-c649-bdcaf84ea202"
   },
   "outputs": [
    {
     "data": {
      "text/plain": [
       "0.6546536707079773"
      ]
     },
     "execution_count": 21,
     "metadata": {
      "tags": []
     },
     "output_type": "execute_result"
    }
   ],
   "source": [
    "mag_w2=np.linalg.norm(w2)\n",
    "mag_w2"
   ]
  },
  {
   "cell_type": "code",
   "execution_count": 22,
   "metadata": {
    "colab": {
     "base_uri": "https://localhost:8080/",
     "height": 34
    },
    "colab_type": "code",
    "executionInfo": {
     "elapsed": 2348,
     "status": "ok",
     "timestamp": 1598451926238,
     "user": {
      "displayName": "Sudha B G",
      "photoUrl": "",
      "userId": "11454725486752146023"
     },
     "user_tz": -330
    },
    "id": "7WbiOHXAKAWS",
    "outputId": "fa6fb371-6691-473b-e3f7-bc9b4458538b"
   },
   "outputs": [
    {
     "data": {
      "text/plain": [
       "array([ 0.43643578, -0.21821789, -0.87287156])"
      ]
     },
     "execution_count": 22,
     "metadata": {
      "tags": []
     },
     "output_type": "execute_result"
    }
   ],
   "source": [
    "v2=w2/mag_w2\n",
    "v2"
   ]
  },
  {
   "cell_type": "code",
   "execution_count": null,
   "metadata": {
    "colab": {},
    "colab_type": "code",
    "id": "U4_C0A9rKsve"
   },
   "outputs": [],
   "source": [
    "w3=u3-(u3.dot(v1))*v1-(u3.dot(v2))*v2 "
   ]
  },
  {
   "cell_type": "code",
   "execution_count": 23,
   "metadata": {
    "colab": {
     "base_uri": "https://localhost:8080/",
     "height": 34
    },
    "colab_type": "code",
    "executionInfo": {
     "elapsed": 2332,
     "status": "ok",
     "timestamp": 1598451926239,
     "user": {
      "displayName": "Sudha B G",
      "photoUrl": "",
      "userId": "11454725486752146023"
     },
     "user_tz": -330
    },
    "id": "SOml1OzSKAWb",
    "outputId": "489202fd-aef2-473b-9bd4-c5e7aa6bc199"
   },
   "outputs": [
    {
     "data": {
      "text/plain": [
       "array([ 1.99840144e-15, -5.55111512e-17, -3.55271368e-15])"
      ]
     },
     "execution_count": 23,
     "metadata": {
      "tags": []
     },
     "output_type": "execute_result"
    }
   ],
   "source": [
    "w3=u3-(u3.dot(v1))*v1-(u3.dot(v2))*v2\n",
    "w3"
   ]
  },
  {
   "cell_type": "code",
   "execution_count": 24,
   "metadata": {
    "colab": {
     "base_uri": "https://localhost:8080/",
     "height": 34
    },
    "colab_type": "code",
    "executionInfo": {
     "elapsed": 2318,
     "status": "ok",
     "timestamp": 1598451926240,
     "user": {
      "displayName": "Sudha B G",
      "photoUrl": "",
      "userId": "11454725486752146023"
     },
     "user_tz": -330
    },
    "id": "vDlL4Kk-KAWj",
    "outputId": "b827b5fb-7d15-46db-8fd8-d24c256eaf94"
   },
   "outputs": [
    {
     "data": {
      "text/plain": [
       "4.07657507034135e-15"
      ]
     },
     "execution_count": 24,
     "metadata": {
      "tags": []
     },
     "output_type": "execute_result"
    }
   ],
   "source": [
    "mag_w3=np.linalg.norm(w3)\n",
    "mag_w3"
   ]
  },
  {
   "cell_type": "code",
   "execution_count": 25,
   "metadata": {
    "colab": {
     "base_uri": "https://localhost:8080/",
     "height": 34
    },
    "colab_type": "code",
    "executionInfo": {
     "elapsed": 2307,
     "status": "ok",
     "timestamp": 1598451926241,
     "user": {
      "displayName": "Sudha B G",
      "photoUrl": "",
      "userId": "11454725486752146023"
     },
     "user_tz": -330
    },
    "id": "iqXCgBJQKAWo",
    "outputId": "ff862081-5b99-42c4-9125-44d76043b9af"
   },
   "outputs": [
    {
     "data": {
      "text/plain": [
       "array([ 0.49021578, -0.01361711, -0.87149473])"
      ]
     },
     "execution_count": 25,
     "metadata": {
      "tags": []
     },
     "output_type": "execute_result"
    }
   ],
   "source": [
    "v3 = w3/mag_w3\n",
    "v3"
   ]
  },
  {
   "cell_type": "code",
   "execution_count": 26,
   "metadata": {
    "colab": {
     "base_uri": "https://localhost:8080/",
     "height": 68
    },
    "colab_type": "code",
    "executionInfo": {
     "elapsed": 2295,
     "status": "ok",
     "timestamp": 1598451926241,
     "user": {
      "displayName": "Sudha B G",
      "photoUrl": "",
      "userId": "11454725486752146023"
     },
     "user_tz": -330
    },
    "id": "sel7yJrrKAWz",
    "outputId": "a42b3ab3-e58c-4fea-8e54-5a8c28a24e2a"
   },
   "outputs": [
    {
     "data": {
      "text/plain": [
       "array([[ 0.80178373,  0.43643578,  0.49021578],\n",
       "       [ 0.53452248, -0.21821789, -0.01361711],\n",
       "       [ 0.26726124, -0.87287156, -0.87149473]])"
      ]
     },
     "execution_count": 26,
     "metadata": {
      "tags": []
     },
     "output_type": "execute_result"
    }
   ],
   "source": [
    "B=np.column_stack((v1,v2,v3))\n",
    "B"
   ]
  },
  {
   "cell_type": "code",
   "execution_count": 28,
   "metadata": {
    "colab": {},
    "colab_type": "code",
    "executionInfo": {
     "elapsed": 1461,
     "status": "ok",
     "timestamp": 1598453175487,
     "user": {
      "displayName": "Sudha B G",
      "photoUrl": "",
      "userId": "11454725486752146023"
     },
     "user_tz": -330
    },
    "id": "dBBrjyo1OsUz"
   },
   "outputs": [],
   "source": [
    "C = np.array([[0.8271,\t0.5201,\t0.2132],\n",
    "[-0.3864,\t0.2506,\t0.8876 ],\n",
    "[-0.7071,\t0,\t-0.7071]])\n"
   ]
  },
  {
   "cell_type": "code",
   "execution_count": 29,
   "metadata": {
    "colab": {
     "base_uri": "https://localhost:8080/",
     "height": 34
    },
    "colab_type": "code",
    "executionInfo": {
     "elapsed": 1213,
     "status": "ok",
     "timestamp": 1598453182042,
     "user": {
      "displayName": "Sudha B G",
      "photoUrl": "",
      "userId": "11454725486752146023"
     },
     "user_tz": -330
    },
    "id": "6RUvbimOKIE-",
    "outputId": "7a822ebc-d023-4703-d397-99d874119d1f"
   },
   "outputs": [
    {
     "data": {
      "text/plain": [
       "-0.5773123182539999"
      ]
     },
     "execution_count": 29,
     "metadata": {
      "tags": []
     },
     "output_type": "execute_result"
    }
   ],
   "source": [
    "det(C)"
   ]
  }
 ],
 "metadata": {
  "colab": {
   "collapsed_sections": [],
   "name": "S1_Linear Transformations_TH_Solutions.ipynb",
   "provenance": []
  },
  "kernelspec": {
   "display_name": "Python 3 (ipykernel)",
   "language": "python",
   "name": "python3"
  },
  "language_info": {
   "codemirror_mode": {
    "name": "ipython",
    "version": 3
   },
   "file_extension": ".py",
   "mimetype": "text/x-python",
   "name": "python",
   "nbconvert_exporter": "python",
   "pygments_lexer": "ipython3",
   "version": "3.11.7"
  }
 },
 "nbformat": 4,
 "nbformat_minor": 4
}
