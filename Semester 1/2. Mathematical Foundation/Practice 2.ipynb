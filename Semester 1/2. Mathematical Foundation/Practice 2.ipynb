{
 "cells": [
  {
   "cell_type": "markdown",
   "id": "b2d6a9bf",
   "metadata": {},
   "source": [
    "# Gradient Descent"
   ]
  },
  {
   "cell_type": "code",
   "execution_count": 1,
   "id": "5ca9994c",
   "metadata": {},
   "outputs": [],
   "source": [
    "import numpy as np"
   ]
  },
  {
   "cell_type": "code",
   "execution_count": 2,
   "id": "754c5caf",
   "metadata": {},
   "outputs": [],
   "source": [
    "def f(x):\n",
    "    return x**2 - 2"
   ]
  },
  {
   "cell_type": "code",
   "execution_count": 9,
   "id": "2debd11c",
   "metadata": {},
   "outputs": [],
   "source": [
    "def slopeFunction(f, x, h=0.1):\n",
    "    numerator = f(x+h) - f(x)\n",
    "    denominator = h\n",
    "    return numerator/denominator\n",
    "    "
   ]
  },
  {
   "cell_type": "code",
   "execution_count": 10,
   "id": "656bbd19",
   "metadata": {},
   "outputs": [],
   "source": [
    "def gradDesc(XOld, slope, alpha=0.1):\n",
    "    XNew = XOld - alpha*slope\n",
    "    return XNew"
   ]
  },
  {
   "cell_type": "code",
   "execution_count": 16,
   "id": "dd53726a",
   "metadata": {},
   "outputs": [
    {
     "name": "stdout",
     "output_type": "stream",
     "text": [
      "[-0.81 -1.9  -1.34  0.  ]\n",
      "[-0.66 -1.52 -1.57  1.  ]\n",
      "[-0.54 -1.22 -1.71  2.  ]\n",
      "[-0.44 -0.97 -1.81  3.  ]\n",
      "[-0.36 -0.78 -1.87  4.  ]\n",
      "[-0.3  -0.62 -1.91  5.  ]\n",
      "[-0.25 -0.5  -1.94  6.  ]\n",
      "[-0.21 -0.4  -1.96  7.  ]\n",
      "[-0.18 -0.32 -1.97  8.  ]\n",
      "[-0.15 -0.26 -1.98  9.  ]\n",
      "[-0.13 -0.2  -1.98 10.  ]\n",
      "[-0.12 -0.16 -1.99 11.  ]\n",
      "[-0.1  -0.13 -1.99 12.  ]\n",
      "[-0.09 -0.1  -1.99 13.  ]\n",
      "[-0.08 -0.08 -1.99 14.  ]\n",
      "[-0.08 -0.07 -1.99 15.  ]\n",
      "[-0.07 -0.05 -1.99 16.  ]\n",
      "[-0.07 -0.04 -2.   17.  ]\n",
      "[-0.06 -0.03 -2.   18.  ]\n",
      "[-0.06 -0.03 -2.   19.  ]\n",
      "[-0.06 -0.02 -2.   20.  ]\n",
      "[-6.0e-02 -2.0e-02 -2.0e+00  2.1e+01]\n",
      "[-6.0e-02 -1.0e-02 -2.0e+00  2.2e+01]\n",
      "[-5.0e-02 -1.0e-02 -2.0e+00  2.3e+01]\n",
      "[-5.0e-02 -1.0e-02 -2.0e+00  2.4e+01]\n",
      "Iteration 25\n"
     ]
    }
   ],
   "source": [
    "X0 = -1\n",
    "\n",
    "XOld = X0; XOldTemp = XOld; XNew = 0; i = 0\n",
    "while (abs(XNew - XOldTemp) > 0.001):\n",
    "    XOldTemp = XOld\n",
    "    slope = slopeFunction(f, XOld, 0.1)\n",
    "    XNew = gradDesc(XOld, slope)\n",
    "    print(np.round((XNew, slope, f(XNew), i), 2))\n",
    "    XOld = XNew\n",
    "    i = i + 1\n",
    "\n",
    "print('Iteration', i)"
   ]
  },
  {
   "cell_type": "code",
   "execution_count": null,
   "id": "bce2216d",
   "metadata": {},
   "outputs": [],
   "source": []
  }
 ],
 "metadata": {
  "kernelspec": {
   "display_name": "Python 3 (ipykernel)",
   "language": "python",
   "name": "python3"
  },
  "language_info": {
   "codemirror_mode": {
    "name": "ipython",
    "version": 3
   },
   "file_extension": ".py",
   "mimetype": "text/x-python",
   "name": "python",
   "nbconvert_exporter": "python",
   "pygments_lexer": "ipython3",
   "version": "3.11.7"
  }
 },
 "nbformat": 4,
 "nbformat_minor": 5
}
