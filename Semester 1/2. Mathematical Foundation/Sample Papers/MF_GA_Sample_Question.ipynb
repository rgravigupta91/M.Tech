{
 "cells": [
  {
   "cell_type": "markdown",
   "metadata": {
    "id": "EjthmslpnUOG"
   },
   "source": [
    "## Mathematical Foundations - Internal Assessment (40 marks)"
   ]
  },
  {
   "cell_type": "markdown",
   "metadata": {
    "id": "ey0ieQxXnbvd"
   },
   "source": [
    "## Question 1 (5 marks)"
   ]
  },
  {
   "cell_type": "markdown",
   "metadata": {
    "id": "N7TQexUJniN5"
   },
   "source": [
    "Calculate the following for the matrix A,B,C and D where I is 3 by 3 Identity matrix\n",
    "- $|A+I|$;\n",
    "- $BC$;\n",
    "- $AB$;\n",
    "- $A^{2}$\n",
    "- Value of $ D^{2}-5D-2I$\n",
    "\n",
    "\n",
    "\\begin{align}\n",
    "A = \\begin{bmatrix}\n",
    "5 & 6 & 2\\\\\n",
    "4 & 7 & 19\\\\\n",
    "0 & 3 & 12\n",
    "\\end{bmatrix}\n",
    "\\end{align}\n",
    "\n",
    "\\begin{align}\n",
    "B = \\begin{bmatrix}\n",
    "14 \\\\\n",
    "4 \\\\\n",
    "5 \n",
    "\\end{bmatrix}\n",
    "\\end{align}\n",
    "\n",
    "\\begin{align}\n",
    "C = \\begin{bmatrix}\n",
    "1 & 2 & 3\\\\\n",
    "\\end{bmatrix}\n",
    "\\end{align}\n",
    "\n",
    "\\begin{align}\n",
    "D = \\begin{bmatrix}\n",
    "1 & 2\\\\\n",
    "3 & 4 \\\\\n",
    "\\end{bmatrix}\n",
    "\\end{align}\n"
   ]
  },
  {
   "cell_type": "markdown",
   "metadata": {
    "id": "FnMCzZ88wYZk"
   },
   "source": [
    "## Question 2 (5 marks)"
   ]
  },
  {
   "cell_type": "markdown",
   "metadata": {
    "id": "cgOmVAqXrb6Z"
   },
   "source": [
    "Convert the following matrix to an orthogonal matrix using Gram Schmidt Process?\n",
    "\\begin{align}\n",
    "B = \\begin{bmatrix}\n",
    "1 & 7 & 9\\\\\n",
    "3 & 4 & 5\\\\\n",
    "1 & 2 & 1\n",
    "\\end{bmatrix}\n",
    "\\end{align}"
   ]
  },
  {
   "cell_type": "markdown",
   "metadata": {
    "id": "9kMPBWqnT1S0"
   },
   "source": [
    "# Question 3 (8 Marks)"
   ]
  },
  {
   "cell_type": "markdown",
   "metadata": {
    "id": "gTSn2x5_UBZ6"
   },
   "source": [
    "a) - Find Vector and  Projection of u on v\n",
    "- u = [6,7,8]\n",
    "- v= [2,3,-1]\n",
    "\n",
    "\n",
    "b) - Verify Q is orthogonal \n",
    "\n",
    "\\begin{align}\n",
    "Q=\\frac{1}{3} \\begin{bmatrix}\n",
    "2 & -2 & 1\\\\\n",
    "1 & 2 & 2\\\\\n",
    "2 & -1 & -2\n",
    "\\end{bmatrix}\n",
    "\\end{align}"
   ]
  },
  {
   "cell_type": "markdown",
   "metadata": {
    "id": "u7vB5MAPVo5X"
   },
   "source": [
    "# Question 4 ( 4 marks)"
   ]
  },
  {
   "cell_type": "markdown",
   "metadata": {
    "id": "qo8Nt2RnVw3u"
   },
   "source": [
    "Find the  covariance matrix for the following table\n",
    "![covar.PNG](data:image/png;base64,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)"
   ]
  },
  {
   "cell_type": "markdown",
   "metadata": {
    "id": "5L32NEIjWvkx"
   },
   "source": [
    "# Question 5 (4 Marks)"
   ]
  },
  {
   "cell_type": "markdown",
   "metadata": {
    "id": "4LgmTuc6WQpO"
   },
   "source": [
    "Find eigen values and eigen vectors for \n",
    "\n",
    "\\begin{align}\n",
    "A = \\begin{bmatrix}\n",
    "-2 & -4 & 2\\\\\n",
    "-2 & 1 & 2\\\\\n",
    "4 & 2 & 5\n",
    "\\end{bmatrix}\n",
    "\\end{align}"
   ]
  },
  {
   "cell_type": "markdown",
   "metadata": {
    "id": "chuerlqUe8tQ"
   },
   "source": [
    "# Question 6 (4 marks)"
   ]
  },
  {
   "cell_type": "markdown",
   "metadata": {
    "id": "3ScPBp8BfEgy"
   },
   "source": [
    "Find singular value decomposition of \n",
    "\\begin{align}\n",
    "A = \\begin{bmatrix}\n",
    "1 & 2\\\\ \n",
    "3 & 4\\\\ \n",
    "5 & 6\n",
    "\\end{bmatrix}\n",
    "\\end{align}"
   ]
  },
  {
   "cell_type": "markdown",
   "metadata": {
    "id": "U5eNZV-KgXlf"
   },
   "source": [
    "# Question 7 (8 Marks)"
   ]
  },
  {
   "cell_type": "markdown",
   "metadata": {
    "id": "7kiBH97igcbh"
   },
   "source": [
    "1. From sklearn.dataset import iris data\n",
    "2. Preprocess the data Preprocess the data by subtracting the mean and dividing by the standard deviation of each attribute value. The resulting data should be zero-mean with variance 1.\n",
    "3. Compute the covriance matrix \n",
    "4. Factorize the covariance matrix using singular value decomposition (SVD) and obtain the eigenvalues and eigenvectors.\n",
    "5. Find principle components."
   ]
  },
  {
   "cell_type": "markdown",
   "metadata": {},
   "source": [
    "# Question 8 (2 Marks)"
   ]
  },
  {
   "cell_type": "markdown",
   "metadata": {},
   "source": [
    "Solve the following system $$\\begin{pmatrix}\n",
    "1 &-1 & 1\\\\\n",
    "2 & 1 &-3\\\\\n",
    "1 & 1 & 1\n",
    "\\end{pmatrix}\\begin{pmatrix}\n",
    "x\\\\\n",
    "y\\\\\n",
    "z\n",
    "\\end{pmatrix} =\\begin{pmatrix}\n",
    "4\\\\\n",
    "0\\\\\n",
    "2\\\\\n",
    "\\end{pmatrix}$$"
   ]
  },
  {
   "cell_type": "code",
   "execution_count": null,
   "metadata": {},
   "outputs": [],
   "source": []
  }
 ],
 "metadata": {
  "colab": {
   "authorship_tag": "ABX9TyMGdWua1o7vB+v+mF0ShGPO",
   "name": "MTech_MF_Milan.ipynb",
   "provenance": []
  },
  "kernelspec": {
   "display_name": "Python 3 (ipykernel)",
   "language": "python",
   "name": "python3"
  },
  "language_info": {
   "codemirror_mode": {
    "name": "ipython",
    "version": 3
   },
   "file_extension": ".py",
   "mimetype": "text/x-python",
   "name": "python",
   "nbconvert_exporter": "python",
   "pygments_lexer": "ipython3",
   "version": "3.11.7"
  }
 },
 "nbformat": 4,
 "nbformat_minor": 4
}
