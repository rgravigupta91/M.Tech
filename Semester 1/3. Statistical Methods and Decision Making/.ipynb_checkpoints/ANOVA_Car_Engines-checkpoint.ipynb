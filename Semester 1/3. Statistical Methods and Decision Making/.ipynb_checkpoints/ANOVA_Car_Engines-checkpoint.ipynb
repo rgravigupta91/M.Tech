{
 "cells": [
  {
   "cell_type": "code",
   "execution_count": 1,
   "id": "39686539",
   "metadata": {},
   "outputs": [],
   "source": [
    "import numpy as np\n",
    "from scipy.stats import f_oneway"
   ]
  },
  {
   "cell_type": "code",
   "execution_count": 2,
   "id": "89a4a7c6",
   "metadata": {},
   "outputs": [],
   "source": [
    "# Sample data: three groups with some sample values\n",
    "group1 = np.array([143,185,186,129,137,91,149,132,121,124,186,194,92,183,95,117])\n",
    "group2 = np.array([98,186,135,107,109,100,200,128,176,130,142,124,163,181,139,189])\n",
    "group3 = np.array([165,94,167,163,122,134,164,117,195,169,178,115,185,123,115,189])"
   ]
  },
  {
   "cell_type": "code",
   "execution_count": null,
   "id": "b981c964",
   "metadata": {},
   "outputs": [],
   "source": [
    "# Formulat Hypothesis\n",
    "\n",
    "H0 -  Group1_Mean = Group2_Mean = Group3_Mean\n",
    "\n",
    "Ha - The three groups are significantly different"
   ]
  },
  {
   "cell_type": "code",
   "execution_count": 3,
   "id": "d2034443",
   "metadata": {},
   "outputs": [
    {
     "name": "stdout",
     "output_type": "stream",
     "text": [
      "F-Statistic: 0.24271275090175853\n",
      "P-Value: 0.7855171484911259\n"
     ]
    }
   ],
   "source": [
    "\n",
    "# Perform ANOVA\n",
    "f_statistic, p_value = f_oneway(group1, group2, group3)\n",
    "\n",
    "print(\"F-Statistic:\", f_statistic)\n",
    "print(\"P-Value:\", p_value)"
   ]
  },
  {
   "cell_type": "code",
   "execution_count": null,
   "id": "81fa6abf",
   "metadata": {},
   "outputs": [],
   "source": [
    "# Observation - P value is much larger than the threshold at 95% confidence i.e. 5% \n",
    "\n",
    "# Interpretation - The differences between the groups is not significant\n",
    "\n",
    "# Result - Fail to reject Null Hypothesis"
   ]
  }
 ],
 "metadata": {
  "kernelspec": {
   "display_name": "Python 3 (ipykernel)",
   "language": "python",
   "name": "python3"
  },
  "language_info": {
   "codemirror_mode": {
    "name": "ipython",
    "version": 3
   },
   "file_extension": ".py",
   "mimetype": "text/x-python",
   "name": "python",
   "nbconvert_exporter": "python",
   "pygments_lexer": "ipython3",
   "version": "3.11.5"
  }
 },
 "nbformat": 4,
 "nbformat_minor": 5
}
