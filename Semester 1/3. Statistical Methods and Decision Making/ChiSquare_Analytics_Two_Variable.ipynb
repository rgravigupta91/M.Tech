{
 "cells": [
  {
   "cell_type": "code",
   "execution_count": 3,
   "id": "cb45fefd",
   "metadata": {},
   "outputs": [],
   "source": [
    "import numpy as np\n",
    "from scipy.stats import chi2_contingency"
   ]
  },
  {
   "cell_type": "code",
   "execution_count": 4,
   "id": "1f2ef067",
   "metadata": {},
   "outputs": [],
   "source": [
    "# Sample data: a contingency table\n",
    "# Rows represent category of variable 1, columns represent category of variable 2\n",
    "# For example, consider this as data from a survey with two questions: \"group1 and group2\" and \"Preference for\"\n",
    "data = np.array([[10, 20, 30],  # e.g., group1 with Low, Medium, High preference\n",
    "                 [20, 15, 15]]) # e.g., group2 with Low, Medium, High preference"
   ]
  },
  {
   "cell_type": "code",
   "execution_count": 5,
   "id": "42d0b5c1",
   "metadata": {},
   "outputs": [],
   "source": [
    "# Formulat Hypothesis"
   ]
  },
  {
   "cell_type": "code",
   "execution_count": 6,
   "id": "acd01661",
   "metadata": {},
   "outputs": [],
   "source": [
    "# Perform the Chi-square test\n",
    "chi2_stat, p_val, dof, expected = chi2_contingency(data)\n"
   ]
  },
  {
   "cell_type": "code",
   "execution_count": 7,
   "id": "d1023415",
   "metadata": {},
   "outputs": [
    {
     "name": "stdout",
     "output_type": "stream",
     "text": [
      "Chi2 Statistic: 8.206349206349206, P-value: 0.01652014715610229\n",
      "Degrees of Freedom: 2\n",
      "Expected Frequencies:\n",
      "[[16.36363636 19.09090909 24.54545455]\n",
      " [13.63636364 15.90909091 20.45454545]]\n"
     ]
    }
   ],
   "source": [
    "# Observations\n",
    "\n",
    "print(f\"Chi2 Statistic: {chi2_stat}, P-value: {p_val}\")\n",
    "print(f\"Degrees of Freedom: {dof}\")\n",
    "print(\"Expected Frequencies:\")\n",
    "print(expected)"
   ]
  },
  {
   "cell_type": "code",
   "execution_count": 8,
   "id": "ae3d07d2",
   "metadata": {},
   "outputs": [],
   "source": [
    "# Interpretation"
   ]
  },
  {
   "cell_type": "code",
   "execution_count": null,
   "id": "bd6da95d",
   "metadata": {},
   "outputs": [],
   "source": []
  }
 ],
 "metadata": {
  "kernelspec": {
   "display_name": "Python 3 (ipykernel)",
   "language": "python",
   "name": "python3"
  },
  "language_info": {
   "codemirror_mode": {
    "name": "ipython",
    "version": 3
   },
   "file_extension": ".py",
   "mimetype": "text/x-python",
   "name": "python",
   "nbconvert_exporter": "python",
   "pygments_lexer": "ipython3",
   "version": "3.11.7"
  }
 },
 "nbformat": 4,
 "nbformat_minor": 5
}
