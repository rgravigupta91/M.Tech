{
 "cells": [
  {
   "cell_type": "markdown",
   "id": "cc263720",
   "metadata": {},
   "source": [
    "The data set given for the project is from \" https://archive-beta.ics.uci.edu/ml/datasets/productivity+prediction+of+garment+employees \" \n",
    "and is cited as Productivity Prediction of Garment Employees. (2020). UCI Machine Learning Repository. \n",
    "The data file is attached as csv file. The following are details being provided . The data contains details on actual productivty of a garment industry, the data has been recorded on a day to day basis from the year 2015 to almost year end of 2015. The data set at first needs to be examined and the structure of the data set needs to be understood. The data has been recorded in terms of the following details\n",
    "Date \n",
    "Quarter (Four Quarters)\n",
    "Department (Sewing and Finishing)\n",
    "Day (Please note the way data is recorded is that based on a dept and productivity is recorded for various lines in each dept, hence you would find multiple productivity recorded for each combination of vairables such as team, dept, smv, date)\n",
    "Team \n",
    "Targeted_Producitivity (Target which needs to be achieved)\n",
    "SMV (Standard Minute Value) : Standard time for a Task in this case you can take standard time to complete a garment \n",
    "WIP (Work in progress)\n",
    "Over_time\n",
    "Incentive \n",
    "Idle_time\n",
    "Idle_men (Idle workers)\n",
    "no_of_style_change\n",
    "no_of_workers\n",
    "Actual_Producitivity\n",
    "\n",
    "The aim is of this project is to obtain an understanding of the data and decipher the relationship among the variables, understanding what possible variables can affect producivity which can be whether overtime or team size or number of worker or department type or a day (like monday ect...) ect.. have an effect. \n",
    "\n",
    "Suppose the manager is interested in the following questions \n",
    "\n",
    "Exploratory Data Analysis & Descriptive Statistics \n",
    "\n",
    "1. Basic Summary statistics of the data for the numerical variables \n",
    "2. basic Summary of the data for the number of working days, count of quarters in the year\n",
    "3. Mean and standard deviation of actual producivity for every quarter and Histogram plot of actual productivity based on every quarter and conclusion accordingly\n",
    "4. Number count for sewing and finishing department \n",
    "5. Mean and standard deviation of actual producivity for sewing and finishing Histogram plot of actual productivity based on both department and conclusion accordingly\n",
    "6. Number count for  teams, smv across the year\n",
    "7. Histogram & Box plot of actual productivity based on all working days, team size, quarterts and  Conclude accordingly \n",
    "8. Find correlation matrix and draw heat map for all variables\n",
    "9. Conclude (Is the company able to meet target, are they giving incentives based on producitivity, does overtime have any effect on productivity)\n",
    "10. Find the correlation between actual and target productivity for every quarter and for every department. What do you conclude\n",
    "11. Based on the above details of EDA and Descriptive statisitcs analysis what would you say could be the possible factors which can affect producitivity. \n",
    "\n",
    "Hypothesis Testing \n",
    "\n",
    "12. Test using Z test (take a random sample of more than 30 and assume sigma =.1) whether the finishing department has achieved more acheived producitivity than .75 for a standard deviation of .1. State your null and alternative hypothesis. alpha value is .05\n",
    "\n",
    "13. Test using Z test(take a random sample of more than 30 and assume sigma =.1) whether the sewing department has achieved more producitivit than .75 for a standard deviation of .1. State your null and alternative hypothesis. alpha value is .05.\n",
    "\n",
    "14. Conduct a two sample t test (take a random sample more than 30) to check whether the finishing department has achieved more actual productivtiy than sewing     department. State your null and alternative hypothesis \n",
    "\n",
    "15. Conduct a two sample t (take a random sample less than 30) test to check whether the finishing department has achieved obtained higher incentive than sewing department, state your null and alternative hypothesis. In case test fails for normality check, then take a sample more than 30. \n",
    "\n",
    "16. The manager has asked you to classifiy low productivity as less than .5, medium between .5 and less than .75 and higher\n",
    "    as greater than or equal to .75. He believes that the percentage of  actual producvity  in  sewing departemnt for   \n",
    "    person classified as low is 30%, for medium is 40% and for high is 30%. USing chi square test can you prove whether his \n",
    "    hypothesis is right or not \n",
    "\n",
    "17. Based on the EDA analysis the manager has decided to find out whether different quarters are having an impact on actual productivity. Assuming normality of data conduct an analysis accordingly Conduct an ANOVA for comparing productivity for Quarter1, Quarter2, Quarter3, Quarter 4 and accordingly conclude (Assume data is normally distributed)\n",
    "\n",
    "18. Based on the EDA analysis the manager has decided to find out whether different days  are having an impact on actual productivity. Assuming normality of data conduct an analysis accordingly Conduct an ANOVA for comparing productivity for Quarter1, Quarter2, Quarter3, Quarter 4 and accordingly conclude (Assume data is normally distributed)\n",
    "\n",
    "19. In case the manager is interested whether day and quarters have an impact on actual producitivity, provide an analysis and identify which factors play a role in affecting productivty\n",
    "\n",
    "20. Based on 17 eliminate one of the variabes which is not significant and reconduct analysis using deparment as another variable, what do you conclude.\n",
    "\n",
    "21. Based on EDA and Hypothesis would you aggree or disaggree with the finding, also in addition summarize the findings based on both analysis and provide a recommendation on what you can thinking on improving the producitivity. \n",
    "\n"
   ]
  },
  {
   "cell_type": "markdown",
   "id": "aac9e4ea-b3bc-4154-bcb2-1ba26048dd31",
   "metadata": {},
   "source": [
    "# Import Libraries"
   ]
  },
  {
   "cell_type": "code",
   "execution_count": 1,
   "id": "796c912d",
   "metadata": {
    "tags": []
   },
   "outputs": [],
   "source": [
    "import numpy as np\n",
    "import pandas as pd\n",
    "import seaborn as sns\n",
    "import matplotlib.pyplot as plt\n",
    "import seaborn as sns\n",
    "import scipy.stats as stats\n",
    "from scipy.stats import f_oneway\n",
    "# import statsmodels\n",
    "import statsmodels.api as sm\n",
    "from statsmodels.formula.api import ols\n",
    "from statsmodels.stats.anova import anova_lm\n",
    "# import the functions to perform Chi-square tests\n",
    "from scipy.stats import chi2_contingency\n",
    "from scipy.stats import chi2\n",
    "from scipy.stats import chisquare"
   ]
  },
  {
   "cell_type": "markdown",
   "id": "a9507675-abfc-4fe6-8a90-0022bfe7fa2f",
   "metadata": {},
   "source": [
    "# Load the data"
   ]
  },
  {
   "cell_type": "code",
   "execution_count": 2,
   "id": "e46e9d79",
   "metadata": {
    "tags": []
   },
   "outputs": [
    {
     "data": {
      "text/html": [
       "<div>\n",
       "<style scoped>\n",
       "    .dataframe tbody tr th:only-of-type {\n",
       "        vertical-align: middle;\n",
       "    }\n",
       "\n",
       "    .dataframe tbody tr th {\n",
       "        vertical-align: top;\n",
       "    }\n",
       "\n",
       "    .dataframe thead th {\n",
       "        text-align: right;\n",
       "    }\n",
       "</style>\n",
       "<table border=\"1\" class=\"dataframe\">\n",
       "  <thead>\n",
       "    <tr style=\"text-align: right;\">\n",
       "      <th></th>\n",
       "      <th>date</th>\n",
       "      <th>quarter</th>\n",
       "      <th>department</th>\n",
       "      <th>day</th>\n",
       "      <th>team</th>\n",
       "      <th>targeted_productivity</th>\n",
       "      <th>smv</th>\n",
       "      <th>wip</th>\n",
       "      <th>over_time</th>\n",
       "      <th>incentive</th>\n",
       "      <th>idle_time</th>\n",
       "      <th>idle_men</th>\n",
       "      <th>no_of_style_change</th>\n",
       "      <th>no_of_workers</th>\n",
       "      <th>actual_productivity</th>\n",
       "    </tr>\n",
       "  </thead>\n",
       "  <tbody>\n",
       "    <tr>\n",
       "      <th>0</th>\n",
       "      <td>2015-01-01</td>\n",
       "      <td>Quarter1</td>\n",
       "      <td>sewing</td>\n",
       "      <td>Thursday</td>\n",
       "      <td>8</td>\n",
       "      <td>0.80</td>\n",
       "      <td>26.16</td>\n",
       "      <td>1108.0</td>\n",
       "      <td>7080</td>\n",
       "      <td>98</td>\n",
       "      <td>0.0</td>\n",
       "      <td>0</td>\n",
       "      <td>0</td>\n",
       "      <td>59.0</td>\n",
       "      <td>0.940725</td>\n",
       "    </tr>\n",
       "    <tr>\n",
       "      <th>1</th>\n",
       "      <td>2015-01-01</td>\n",
       "      <td>Quarter1</td>\n",
       "      <td>finishing</td>\n",
       "      <td>Thursday</td>\n",
       "      <td>1</td>\n",
       "      <td>0.75</td>\n",
       "      <td>3.94</td>\n",
       "      <td>NaN</td>\n",
       "      <td>960</td>\n",
       "      <td>0</td>\n",
       "      <td>0.0</td>\n",
       "      <td>0</td>\n",
       "      <td>0</td>\n",
       "      <td>8.0</td>\n",
       "      <td>0.886500</td>\n",
       "    </tr>\n",
       "    <tr>\n",
       "      <th>2</th>\n",
       "      <td>2015-01-01</td>\n",
       "      <td>Quarter1</td>\n",
       "      <td>sewing</td>\n",
       "      <td>Thursday</td>\n",
       "      <td>11</td>\n",
       "      <td>0.80</td>\n",
       "      <td>11.41</td>\n",
       "      <td>968.0</td>\n",
       "      <td>3660</td>\n",
       "      <td>50</td>\n",
       "      <td>0.0</td>\n",
       "      <td>0</td>\n",
       "      <td>0</td>\n",
       "      <td>30.5</td>\n",
       "      <td>0.800570</td>\n",
       "    </tr>\n",
       "    <tr>\n",
       "      <th>3</th>\n",
       "      <td>2015-01-01</td>\n",
       "      <td>Quarter1</td>\n",
       "      <td>sewing</td>\n",
       "      <td>Thursday</td>\n",
       "      <td>12</td>\n",
       "      <td>0.80</td>\n",
       "      <td>11.41</td>\n",
       "      <td>968.0</td>\n",
       "      <td>3660</td>\n",
       "      <td>50</td>\n",
       "      <td>0.0</td>\n",
       "      <td>0</td>\n",
       "      <td>0</td>\n",
       "      <td>30.5</td>\n",
       "      <td>0.800570</td>\n",
       "    </tr>\n",
       "    <tr>\n",
       "      <th>4</th>\n",
       "      <td>2015-01-01</td>\n",
       "      <td>Quarter1</td>\n",
       "      <td>sewing</td>\n",
       "      <td>Thursday</td>\n",
       "      <td>6</td>\n",
       "      <td>0.80</td>\n",
       "      <td>25.90</td>\n",
       "      <td>1170.0</td>\n",
       "      <td>1920</td>\n",
       "      <td>50</td>\n",
       "      <td>0.0</td>\n",
       "      <td>0</td>\n",
       "      <td>0</td>\n",
       "      <td>56.0</td>\n",
       "      <td>0.800382</td>\n",
       "    </tr>\n",
       "  </tbody>\n",
       "</table>\n",
       "</div>"
      ],
      "text/plain": [
       "        date   quarter department       day  team  targeted_productivity  \\\n",
       "0 2015-01-01  Quarter1     sewing  Thursday     8                   0.80   \n",
       "1 2015-01-01  Quarter1  finishing  Thursday     1                   0.75   \n",
       "2 2015-01-01  Quarter1     sewing  Thursday    11                   0.80   \n",
       "3 2015-01-01  Quarter1     sewing  Thursday    12                   0.80   \n",
       "4 2015-01-01  Quarter1     sewing  Thursday     6                   0.80   \n",
       "\n",
       "     smv     wip  over_time  incentive  idle_time  idle_men  \\\n",
       "0  26.16  1108.0       7080         98        0.0         0   \n",
       "1   3.94     NaN        960          0        0.0         0   \n",
       "2  11.41   968.0       3660         50        0.0         0   \n",
       "3  11.41   968.0       3660         50        0.0         0   \n",
       "4  25.90  1170.0       1920         50        0.0         0   \n",
       "\n",
       "   no_of_style_change  no_of_workers  actual_productivity  \n",
       "0                   0           59.0             0.940725  \n",
       "1                   0            8.0             0.886500  \n",
       "2                   0           30.5             0.800570  \n",
       "3                   0           30.5             0.800570  \n",
       "4                   0           56.0             0.800382  "
      ]
     },
     "execution_count": 2,
     "metadata": {},
     "output_type": "execute_result"
    }
   ],
   "source": [
    "df = pd.read_csv('garments_worker_productivity.csv')\n",
    "df['date'] = pd.to_datetime(df['date'].apply(lambda x:x.replace('/','-')),format = '%m-%d-%Y')\n",
    "df.head()"
   ]
  },
  {
   "cell_type": "code",
   "execution_count": 3,
   "id": "0fb6276b-4638-485d-807e-47d5fc4a048e",
   "metadata": {
    "tags": []
   },
   "outputs": [
    {
     "name": "stdout",
     "output_type": "stream",
     "text": [
      "<class 'pandas.core.frame.DataFrame'>\n",
      "RangeIndex: 1197 entries, 0 to 1196\n",
      "Data columns (total 15 columns):\n",
      " #   Column                 Non-Null Count  Dtype         \n",
      "---  ------                 --------------  -----         \n",
      " 0   date                   1197 non-null   datetime64[ns]\n",
      " 1   quarter                1197 non-null   object        \n",
      " 2   department             1197 non-null   object        \n",
      " 3   day                    1197 non-null   object        \n",
      " 4   team                   1197 non-null   int64         \n",
      " 5   targeted_productivity  1197 non-null   float64       \n",
      " 6   smv                    1197 non-null   float64       \n",
      " 7   wip                    691 non-null    float64       \n",
      " 8   over_time              1197 non-null   int64         \n",
      " 9   incentive              1197 non-null   int64         \n",
      " 10  idle_time              1197 non-null   float64       \n",
      " 11  idle_men               1197 non-null   int64         \n",
      " 12  no_of_style_change     1197 non-null   int64         \n",
      " 13  no_of_workers          1197 non-null   float64       \n",
      " 14  actual_productivity    1197 non-null   float64       \n",
      "dtypes: datetime64[ns](1), float64(6), int64(5), object(3)\n",
      "memory usage: 140.4+ KB\n"
     ]
    }
   ],
   "source": [
    "df.info()"
   ]
  },
  {
   "cell_type": "markdown",
   "id": "49add8b8-516f-466b-aece-1b6e563a6bcd",
   "metadata": {},
   "source": [
    "# EDA and descriptive statistics"
   ]
  },
  {
   "cell_type": "markdown",
   "id": "1034c0b2-2b2e-45c2-98df-029f19326051",
   "metadata": {},
   "source": [
    "1. Basic Summary statistics of the data for the numerical variables \n",
    "2. basic Summary of the data for the number of working days, count of quarters in the year\n",
    "3. Mean and standard deviation of actual producivity for every quarter and Histogram plot of actual productivity based on every quarter and conclusion accordingly\n",
    "4. Number count for sewing and finishing department \n",
    "5. Mean and standard deviation of actual producivity for sewing and finishing Histogram plot of actual productivity based on both department and conclusion accordingly\n",
    "6. Number count for  teams, smv across the year\n",
    "7. Histogram & Box plot of actual productivity based on all working days, team size, quarterts and  Conclude accordingly \n",
    "8. Find correlation matrix and draw heat map for all variables\n",
    "9. Conclude (Is the company able to meet target, are they giving incentives based on producitivity, does overtime have any effect on productivity)\n",
    "10. Find the correlation between actual and target productivity for every quarter and for every department. What do you conclude\n",
    "11. Based on the above details of EDA and Descriptive statisitcs analysis what would you say could be the possible factors which can affect producitivity. "
   ]
  },
  {
   "cell_type": "markdown",
   "id": "b7e54f3e-30ff-4bc0-9a07-b20879d6d4ba",
   "metadata": {},
   "source": [
    "### 1. Basic Summary statistics of the data for the numerical variables"
   ]
  },
  {
   "cell_type": "code",
   "execution_count": 4,
   "id": "b481e77b",
   "metadata": {
    "tags": []
   },
   "outputs": [
    {
     "data": {
      "text/html": [
       "<div>\n",
       "<style scoped>\n",
       "    .dataframe tbody tr th:only-of-type {\n",
       "        vertical-align: middle;\n",
       "    }\n",
       "\n",
       "    .dataframe tbody tr th {\n",
       "        vertical-align: top;\n",
       "    }\n",
       "\n",
       "    .dataframe thead th {\n",
       "        text-align: right;\n",
       "    }\n",
       "</style>\n",
       "<table border=\"1\" class=\"dataframe\">\n",
       "  <thead>\n",
       "    <tr style=\"text-align: right;\">\n",
       "      <th></th>\n",
       "      <th>count</th>\n",
       "      <th>mean</th>\n",
       "      <th>std</th>\n",
       "      <th>min</th>\n",
       "      <th>25%</th>\n",
       "      <th>50%</th>\n",
       "      <th>75%</th>\n",
       "      <th>max</th>\n",
       "    </tr>\n",
       "  </thead>\n",
       "  <tbody>\n",
       "    <tr>\n",
       "      <th>targeted_productivity</th>\n",
       "      <td>1197.0</td>\n",
       "      <td>0.730</td>\n",
       "      <td>0.098</td>\n",
       "      <td>0.070</td>\n",
       "      <td>0.70</td>\n",
       "      <td>0.750</td>\n",
       "      <td>0.80</td>\n",
       "      <td>0.80</td>\n",
       "    </tr>\n",
       "    <tr>\n",
       "      <th>smv</th>\n",
       "      <td>1197.0</td>\n",
       "      <td>15.062</td>\n",
       "      <td>10.943</td>\n",
       "      <td>2.900</td>\n",
       "      <td>3.94</td>\n",
       "      <td>15.260</td>\n",
       "      <td>24.26</td>\n",
       "      <td>54.56</td>\n",
       "    </tr>\n",
       "    <tr>\n",
       "      <th>wip</th>\n",
       "      <td>691.0</td>\n",
       "      <td>1190.466</td>\n",
       "      <td>1837.455</td>\n",
       "      <td>7.000</td>\n",
       "      <td>774.50</td>\n",
       "      <td>1039.000</td>\n",
       "      <td>1252.50</td>\n",
       "      <td>23122.00</td>\n",
       "    </tr>\n",
       "    <tr>\n",
       "      <th>over_time</th>\n",
       "      <td>1197.0</td>\n",
       "      <td>4567.460</td>\n",
       "      <td>3348.824</td>\n",
       "      <td>0.000</td>\n",
       "      <td>1440.00</td>\n",
       "      <td>3960.000</td>\n",
       "      <td>6960.00</td>\n",
       "      <td>25920.00</td>\n",
       "    </tr>\n",
       "    <tr>\n",
       "      <th>incentive</th>\n",
       "      <td>1197.0</td>\n",
       "      <td>38.211</td>\n",
       "      <td>160.183</td>\n",
       "      <td>0.000</td>\n",
       "      <td>0.00</td>\n",
       "      <td>0.000</td>\n",
       "      <td>50.00</td>\n",
       "      <td>3600.00</td>\n",
       "    </tr>\n",
       "    <tr>\n",
       "      <th>idle_time</th>\n",
       "      <td>1197.0</td>\n",
       "      <td>0.730</td>\n",
       "      <td>12.710</td>\n",
       "      <td>0.000</td>\n",
       "      <td>0.00</td>\n",
       "      <td>0.000</td>\n",
       "      <td>0.00</td>\n",
       "      <td>300.00</td>\n",
       "    </tr>\n",
       "    <tr>\n",
       "      <th>idle_men</th>\n",
       "      <td>1197.0</td>\n",
       "      <td>0.369</td>\n",
       "      <td>3.269</td>\n",
       "      <td>0.000</td>\n",
       "      <td>0.00</td>\n",
       "      <td>0.000</td>\n",
       "      <td>0.00</td>\n",
       "      <td>45.00</td>\n",
       "    </tr>\n",
       "    <tr>\n",
       "      <th>no_of_workers</th>\n",
       "      <td>1197.0</td>\n",
       "      <td>34.610</td>\n",
       "      <td>22.198</td>\n",
       "      <td>2.000</td>\n",
       "      <td>9.00</td>\n",
       "      <td>34.000</td>\n",
       "      <td>57.00</td>\n",
       "      <td>89.00</td>\n",
       "    </tr>\n",
       "    <tr>\n",
       "      <th>actual_productivity</th>\n",
       "      <td>1197.0</td>\n",
       "      <td>0.735</td>\n",
       "      <td>0.174</td>\n",
       "      <td>0.234</td>\n",
       "      <td>0.65</td>\n",
       "      <td>0.773</td>\n",
       "      <td>0.85</td>\n",
       "      <td>1.12</td>\n",
       "    </tr>\n",
       "  </tbody>\n",
       "</table>\n",
       "</div>"
      ],
      "text/plain": [
       "                        count      mean       std    min      25%       50%  \\\n",
       "targeted_productivity  1197.0     0.730     0.098  0.070     0.70     0.750   \n",
       "smv                    1197.0    15.062    10.943  2.900     3.94    15.260   \n",
       "wip                     691.0  1190.466  1837.455  7.000   774.50  1039.000   \n",
       "over_time              1197.0  4567.460  3348.824  0.000  1440.00  3960.000   \n",
       "incentive              1197.0    38.211   160.183  0.000     0.00     0.000   \n",
       "idle_time              1197.0     0.730    12.710  0.000     0.00     0.000   \n",
       "idle_men               1197.0     0.369     3.269  0.000     0.00     0.000   \n",
       "no_of_workers          1197.0    34.610    22.198  2.000     9.00    34.000   \n",
       "actual_productivity    1197.0     0.735     0.174  0.234     0.65     0.773   \n",
       "\n",
       "                           75%       max  \n",
       "targeted_productivity     0.80      0.80  \n",
       "smv                      24.26     54.56  \n",
       "wip                    1252.50  23122.00  \n",
       "over_time              6960.00  25920.00  \n",
       "incentive                50.00   3600.00  \n",
       "idle_time                 0.00    300.00  \n",
       "idle_men                  0.00     45.00  \n",
       "no_of_workers            57.00     89.00  \n",
       "actual_productivity       0.85      1.12  "
      ]
     },
     "execution_count": 4,
     "metadata": {},
     "output_type": "execute_result"
    }
   ],
   "source": [
    "df[['targeted_productivity','smv','wip','over_time','incentive','idle_time','idle_men','no_of_workers',\n",
    "    'actual_productivity']].describe().T.round(3)"
   ]
  },
  {
   "cell_type": "markdown",
   "id": "f1a85beb-7459-4a47-b30a-ce96b7b54c82",
   "metadata": {},
   "source": [
    "### 2. Basic summary of the data for the number of working days, count of quarters in the year"
   ]
  },
  {
   "cell_type": "code",
   "execution_count": 5,
   "id": "a886427d",
   "metadata": {
    "tags": []
   },
   "outputs": [
    {
     "data": {
      "text/plain": [
       "day\n",
       "Wednesday    208\n",
       "Sunday       203\n",
       "Tuesday      201\n",
       "Thursday     199\n",
       "Monday       199\n",
       "Saturday     187\n",
       "Name: count, dtype: int64"
      ]
     },
     "execution_count": 5,
     "metadata": {},
     "output_type": "execute_result"
    }
   ],
   "source": [
    "df['day'].value_counts()"
   ]
  },
  {
   "cell_type": "markdown",
   "id": "be19c668-7272-433e-9438-321318d991b5",
   "metadata": {},
   "source": [
    "All days except Friday are working days. Likely this data is from an Arab country."
   ]
  },
  {
   "cell_type": "code",
   "execution_count": 6,
   "id": "a3071d78-f0e7-4c58-b7e1-7b89aca1b6bd",
   "metadata": {
    "tags": []
   },
   "outputs": [
    {
     "data": {
      "text/plain": [
       "59"
      ]
     },
     "execution_count": 6,
     "metadata": {},
     "output_type": "execute_result"
    }
   ],
   "source": [
    "# Number of working days...\n",
    "df['date'].nunique()"
   ]
  },
  {
   "cell_type": "code",
   "execution_count": 7,
   "id": "15f39ed8-bfb7-4400-8ecd-dc01d2b998e0",
   "metadata": {
    "tags": []
   },
   "outputs": [
    {
     "data": {
      "text/plain": [
       "quarter\n",
       "Quarter1    360\n",
       "Quarter2    335\n",
       "Quarter4    248\n",
       "Quarter3    210\n",
       "Quarter5     44\n",
       "Name: count, dtype: int64"
      ]
     },
     "execution_count": 7,
     "metadata": {},
     "output_type": "execute_result"
    }
   ],
   "source": [
    "# Count of quarters...\n",
    "df['quarter'].value_counts()"
   ]
  },
  {
   "cell_type": "markdown",
   "id": "dbe8149b-b366-4cf3-8861-ddbd9d828185",
   "metadata": {},
   "source": [
    "To determine what the meaning of quarter is, map it to day of the month..."
   ]
  },
  {
   "cell_type": "code",
   "execution_count": 8,
   "id": "fdac7fb9-4da2-4ac4-a87d-57317cffcc80",
   "metadata": {
    "tags": []
   },
   "outputs": [
    {
     "data": {
      "text/html": [
       "<div>\n",
       "<style scoped>\n",
       "    .dataframe tbody tr th:only-of-type {\n",
       "        vertical-align: middle;\n",
       "    }\n",
       "\n",
       "    .dataframe tbody tr th {\n",
       "        vertical-align: top;\n",
       "    }\n",
       "\n",
       "    .dataframe thead th {\n",
       "        text-align: right;\n",
       "    }\n",
       "</style>\n",
       "<table border=\"1\" class=\"dataframe\">\n",
       "  <thead>\n",
       "    <tr style=\"text-align: right;\">\n",
       "      <th></th>\n",
       "      <th>days_of_month</th>\n",
       "    </tr>\n",
       "    <tr>\n",
       "      <th>quarter</th>\n",
       "      <th></th>\n",
       "    </tr>\n",
       "  </thead>\n",
       "  <tbody>\n",
       "    <tr>\n",
       "      <th>Quarter1</th>\n",
       "      <td>1,2,3,4,5,6,7</td>\n",
       "    </tr>\n",
       "    <tr>\n",
       "      <th>Quarter2</th>\n",
       "      <td>8,9,10,11,12,13,14</td>\n",
       "    </tr>\n",
       "    <tr>\n",
       "      <th>Quarter3</th>\n",
       "      <td>15,16,17,18,19,20,21</td>\n",
       "    </tr>\n",
       "    <tr>\n",
       "      <th>Quarter4</th>\n",
       "      <td>22,23,24,25,26,27,28</td>\n",
       "    </tr>\n",
       "    <tr>\n",
       "      <th>Quarter5</th>\n",
       "      <td>29,31</td>\n",
       "    </tr>\n",
       "  </tbody>\n",
       "</table>\n",
       "</div>"
      ],
      "text/plain": [
       "                 days_of_month\n",
       "quarter                       \n",
       "Quarter1         1,2,3,4,5,6,7\n",
       "Quarter2    8,9,10,11,12,13,14\n",
       "Quarter3  15,16,17,18,19,20,21\n",
       "Quarter4  22,23,24,25,26,27,28\n",
       "Quarter5                 29,31"
      ]
     },
     "execution_count": 8,
     "metadata": {},
     "output_type": "execute_result"
    }
   ],
   "source": [
    "#Quarter vs day_of_month...\n",
    "df.groupby('quarter')['date'].agg([('days_of_month',lambda x:','.join(x.dt.day.sort_values().unique().astype('str').tolist()))])"
   ]
  },
  {
   "cell_type": "markdown",
   "id": "cc90d81d-86fb-4f3c-b18c-0de37ca3075f",
   "metadata": {},
   "source": [
    "Thus we can see that the 'Quarter' corresponds to portions of the month. The first seven days of the month is the first quarter, the next seven days is second quarter and so on."
   ]
  },
  {
   "cell_type": "markdown",
   "id": "01de4f77-8c80-49e7-8c1b-9bbe41f74722",
   "metadata": {},
   "source": [
    "### 3. Mean and standard deviation of actual producivity for every quarter and Histogram plot of actual productivity based on every quarter and conclusion accordingly"
   ]
  },
  {
   "cell_type": "code",
   "execution_count": 9,
   "id": "f58c9687",
   "metadata": {
    "tags": []
   },
   "outputs": [
    {
     "data": {
      "text/html": [
       "<div>\n",
       "<style scoped>\n",
       "    .dataframe tbody tr th:only-of-type {\n",
       "        vertical-align: middle;\n",
       "    }\n",
       "\n",
       "    .dataframe tbody tr th {\n",
       "        vertical-align: top;\n",
       "    }\n",
       "\n",
       "    .dataframe thead th {\n",
       "        text-align: right;\n",
       "    }\n",
       "</style>\n",
       "<table border=\"1\" class=\"dataframe\">\n",
       "  <thead>\n",
       "    <tr style=\"text-align: right;\">\n",
       "      <th></th>\n",
       "      <th>mean</th>\n",
       "      <th>standard_deviation</th>\n",
       "    </tr>\n",
       "    <tr>\n",
       "      <th>quarter</th>\n",
       "      <th></th>\n",
       "      <th></th>\n",
       "    </tr>\n",
       "  </thead>\n",
       "  <tbody>\n",
       "    <tr>\n",
       "      <th>Quarter1</th>\n",
       "      <td>0.752</td>\n",
       "      <td>0.161</td>\n",
       "    </tr>\n",
       "    <tr>\n",
       "      <th>Quarter2</th>\n",
       "      <td>0.744</td>\n",
       "      <td>0.171</td>\n",
       "    </tr>\n",
       "    <tr>\n",
       "      <th>Quarter3</th>\n",
       "      <td>0.705</td>\n",
       "      <td>0.176</td>\n",
       "    </tr>\n",
       "    <tr>\n",
       "      <th>Quarter4</th>\n",
       "      <td>0.709</td>\n",
       "      <td>0.186</td>\n",
       "    </tr>\n",
       "    <tr>\n",
       "      <th>Quarter5</th>\n",
       "      <td>0.826</td>\n",
       "      <td>0.184</td>\n",
       "    </tr>\n",
       "  </tbody>\n",
       "</table>\n",
       "</div>"
      ],
      "text/plain": [
       "           mean  standard_deviation\n",
       "quarter                            \n",
       "Quarter1  0.752               0.161\n",
       "Quarter2  0.744               0.171\n",
       "Quarter3  0.705               0.176\n",
       "Quarter4  0.709               0.186\n",
       "Quarter5  0.826               0.184"
      ]
     },
     "execution_count": 9,
     "metadata": {},
     "output_type": "execute_result"
    }
   ],
   "source": [
    "df.groupby('quarter')['actual_productivity'].agg([('mean',lambda x:x.mean()),('standard_deviation', lambda x:x.std())]).round(3)"
   ]
  },
  {
   "cell_type": "markdown",
   "id": "bb3be571-efb1-4e07-8549-951f96dde8fb",
   "metadata": {},
   "source": [
    "We can see from the above table that mean is significantly higher for Quarter 5, but nearly same for Quarters 1-4."
   ]
  },
  {
   "cell_type": "code",
   "execution_count": 10,
   "id": "bd6c1226-ae8b-4697-a642-111b58725b5f",
   "metadata": {
    "tags": []
   },
   "outputs": [
    {
     "data": {
      "image/png": "[encoded data removed]",
      "text/plain": [
       "<Figure size 640x480 with 1 Axes>"
      ]
     },
     "metadata": {},
     "output_type": "display_data"
    }
   ],
   "source": [
    "ax = sns.histplot(data=df, x=\"actual_productivity\",kde = True)\n",
    "ax.set_title('Overall productivity histogram');"
   ]
  },
  {
   "cell_type": "markdown",
   "id": "43d7b671-8dae-4c2b-b739-fb082ff59899",
   "metadata": {},
   "source": [
    "Show KDE for each quarter (since histograms are more cluttered), to see the correlation between quarter and productivity"
   ]
  },
  {
   "cell_type": "code",
   "execution_count": 11,
   "id": "fa68805d-da43-48ab-bab6-a66eab48b050",
   "metadata": {
    "tags": []
   },
   "outputs": [
    {
     "data": {
      "image/png": "[encoded data removed]",
      "text/plain": [
       "<Figure size 640x480 with 1 Axes>"
      ]
     },
     "metadata": {},
     "output_type": "display_data"
    }
   ],
   "source": [
    "sns.kdeplot(data=df,x = 'actual_productivity',hue = 'quarter').set(title = 'KDE of productivity by Quarter');"
   ]
  },
  {
   "cell_type": "markdown",
   "id": "eec399e6-8933-4d1b-bb42-7d60036f7b5e",
   "metadata": {},
   "source": [
    "Separate out the quarters as a violin plot, for ease of interpretation:"
   ]
  },
  {
   "cell_type": "code",
   "execution_count": 12,
   "id": "59fdf6f2-b481-43f9-aaad-df6b975bc666",
   "metadata": {
    "tags": []
   },
   "outputs": [
    {
     "data": {
      "image/png": "[encoded data removed]",
      "text/plain": [
       "<Figure size 1000x600 with 1 Axes>"
      ]
     },
     "metadata": {},
     "output_type": "display_data"
    }
   ],
   "source": [
    "plt.figure(figsize=(10, 6))\n",
    "sns.violinplot(data = df,x = 'actual_productivity',y = 'quarter').set(title = 'Productivity by quarter');"
   ]
  },
  {
   "cell_type": "markdown",
   "id": "f9fdf8d1-4590-4d73-9012-885b4372b97c",
   "metadata": {},
   "source": [
    "From this plot we can see that the productivity is significanly higher for Q5 compared to all others.\\\n",
    "Among Q1-4, we have higher productivity for Q1-2 and lower productivity for quarters Q3-4."
   ]
  },
  {
   "cell_type": "markdown",
   "id": "dc3f1da8-67be-4a08-999e-b53b07faefd8",
   "metadata": {},
   "source": [
    "### 4. Number count for sewing and finishing department.."
   ]
  },
  {
   "cell_type": "code",
   "execution_count": 13,
   "id": "fd89e0ee",
   "metadata": {
    "tags": []
   },
   "outputs": [
    {
     "data": {
      "text/plain": [
       "department\n",
       "sewing       691\n",
       "finishing    506\n",
       "Name: count, dtype: int64"
      ]
     },
     "execution_count": 13,
     "metadata": {},
     "output_type": "execute_result"
    }
   ],
   "source": [
    "df['department'].value_counts()"
   ]
  },
  {
   "cell_type": "markdown",
   "id": "6d67b24f-1e2f-4bc5-8d80-0fcc742c1b73",
   "metadata": {},
   "source": [
    "### 5. Mean and standard deviation of actual producivity for sewing and finishing Histogram plot of actual productivity based on both department and conclusion accordingly"
   ]
  },
  {
   "cell_type": "code",
   "execution_count": 14,
   "id": "cd6928f3-76d7-4f09-8914-742d847215b2",
   "metadata": {
    "tags": []
   },
   "outputs": [
    {
     "data": {
      "text/html": [
       "<div>\n",
       "<style scoped>\n",
       "    .dataframe tbody tr th:only-of-type {\n",
       "        vertical-align: middle;\n",
       "    }\n",
       "\n",
       "    .dataframe tbody tr th {\n",
       "        vertical-align: top;\n",
       "    }\n",
       "\n",
       "    .dataframe thead th {\n",
       "        text-align: right;\n",
       "    }\n",
       "</style>\n",
       "<table border=\"1\" class=\"dataframe\">\n",
       "  <thead>\n",
       "    <tr style=\"text-align: right;\">\n",
       "      <th></th>\n",
       "      <th>mean</th>\n",
       "      <th>standard_deviation</th>\n",
       "    </tr>\n",
       "    <tr>\n",
       "      <th>department</th>\n",
       "      <th></th>\n",
       "      <th></th>\n",
       "    </tr>\n",
       "  </thead>\n",
       "  <tbody>\n",
       "    <tr>\n",
       "      <th>finishing</th>\n",
       "      <td>0.753</td>\n",
       "      <td>0.197</td>\n",
       "    </tr>\n",
       "    <tr>\n",
       "      <th>sewing</th>\n",
       "      <td>0.722</td>\n",
       "      <td>0.155</td>\n",
       "    </tr>\n",
       "  </tbody>\n",
       "</table>\n",
       "</div>"
      ],
      "text/plain": [
       "             mean  standard_deviation\n",
       "department                           \n",
       "finishing   0.753               0.197\n",
       "sewing      0.722               0.155"
      ]
     },
     "execution_count": 14,
     "metadata": {},
     "output_type": "execute_result"
    }
   ],
   "source": [
    "df.groupby('department')['actual_productivity'].agg([('mean',lambda x:x.mean()),('standard_deviation', lambda x:x.std())]).round(3)"
   ]
  },
  {
   "cell_type": "markdown",
   "id": "8bbdeeca-3682-4d6d-b6ab-643ed792de32",
   "metadata": {},
   "source": [
    "We find mean productivity for finishing department is higher than sewing, but standard deviation is also higher.\\\n",
    "Let's now do KDE plot:"
   ]
  },
  {
   "cell_type": "code",
   "execution_count": 15,
   "id": "5abf18e4-43ee-464e-8475-b903d89c4ddb",
   "metadata": {
    "tags": []
   },
   "outputs": [
    {
     "data": {
      "image/png": "[encoded data removed]",
      "text/plain": [
       "<Figure size 640x480 with 1 Axes>"
      ]
     },
     "metadata": {},
     "output_type": "display_data"
    }
   ],
   "source": [
    "sns.kdeplot(data=df,x = 'actual_productivity',hue = 'department').set(title = 'KDE of productivity by department')\n",
    "plt.show()"
   ]
  },
  {
   "cell_type": "markdown",
   "id": "0ed2e2a5-4ebe-4a05-881d-dba95da8cfe2",
   "metadata": {},
   "source": [
    "We can see from the graph that finishing department has higher productivty on average.\\\n",
    "Conclusion: productivty depends on department."
   ]
  },
  {
   "cell_type": "markdown",
   "id": "671dccdf-d2f1-4e8c-92c4-03c17642fadf",
   "metadata": {},
   "source": [
    "### 6. Number count for teams, smv across the year"
   ]
  },
  {
   "cell_type": "code",
   "execution_count": 16,
   "id": "3be9f11a-f85d-4701-9bae-be8455d05073",
   "metadata": {
    "tags": []
   },
   "outputs": [
    {
     "data": {
      "text/html": [
       "<div>\n",
       "<style scoped>\n",
       "    .dataframe tbody tr th:only-of-type {\n",
       "        vertical-align: middle;\n",
       "    }\n",
       "\n",
       "    .dataframe tbody tr th {\n",
       "        vertical-align: top;\n",
       "    }\n",
       "\n",
       "    .dataframe thead th {\n",
       "        text-align: right;\n",
       "    }\n",
       "</style>\n",
       "<table border=\"1\" class=\"dataframe\">\n",
       "  <thead>\n",
       "    <tr style=\"text-align: right;\">\n",
       "      <th></th>\n",
       "      <th>min_workers</th>\n",
       "      <th>max_workers</th>\n",
       "      <th>avg_no_of_workers</th>\n",
       "    </tr>\n",
       "    <tr>\n",
       "      <th>team</th>\n",
       "      <th></th>\n",
       "      <th></th>\n",
       "      <th></th>\n",
       "    </tr>\n",
       "  </thead>\n",
       "  <tbody>\n",
       "    <tr>\n",
       "      <th>1</th>\n",
       "      <td>2.0</td>\n",
       "      <td>59.0</td>\n",
       "      <td>35.043</td>\n",
       "    </tr>\n",
       "    <tr>\n",
       "      <th>2</th>\n",
       "      <td>8.0</td>\n",
       "      <td>59.0</td>\n",
       "      <td>34.624</td>\n",
       "    </tr>\n",
       "    <tr>\n",
       "      <th>3</th>\n",
       "      <td>7.0</td>\n",
       "      <td>60.0</td>\n",
       "      <td>39.521</td>\n",
       "    </tr>\n",
       "    <tr>\n",
       "      <th>4</th>\n",
       "      <td>8.0</td>\n",
       "      <td>60.0</td>\n",
       "      <td>38.200</td>\n",
       "    </tr>\n",
       "    <tr>\n",
       "      <th>5</th>\n",
       "      <td>2.0</td>\n",
       "      <td>60.0</td>\n",
       "      <td>39.382</td>\n",
       "    </tr>\n",
       "    <tr>\n",
       "      <th>6</th>\n",
       "      <td>5.0</td>\n",
       "      <td>89.0</td>\n",
       "      <td>25.170</td>\n",
       "    </tr>\n",
       "    <tr>\n",
       "      <th>7</th>\n",
       "      <td>8.0</td>\n",
       "      <td>60.0</td>\n",
       "      <td>37.099</td>\n",
       "    </tr>\n",
       "    <tr>\n",
       "      <th>8</th>\n",
       "      <td>4.0</td>\n",
       "      <td>60.0</td>\n",
       "      <td>33.491</td>\n",
       "    </tr>\n",
       "    <tr>\n",
       "      <th>9</th>\n",
       "      <td>2.0</td>\n",
       "      <td>59.0</td>\n",
       "      <td>35.212</td>\n",
       "    </tr>\n",
       "    <tr>\n",
       "      <th>10</th>\n",
       "      <td>8.0</td>\n",
       "      <td>58.5</td>\n",
       "      <td>35.295</td>\n",
       "    </tr>\n",
       "    <tr>\n",
       "      <th>11</th>\n",
       "      <td>5.0</td>\n",
       "      <td>58.0</td>\n",
       "      <td>38.739</td>\n",
       "    </tr>\n",
       "    <tr>\n",
       "      <th>12</th>\n",
       "      <td>8.0</td>\n",
       "      <td>59.0</td>\n",
       "      <td>23.919</td>\n",
       "    </tr>\n",
       "  </tbody>\n",
       "</table>\n",
       "</div>"
      ],
      "text/plain": [
       "      min_workers  max_workers  avg_no_of_workers\n",
       "team                                             \n",
       "1             2.0         59.0             35.043\n",
       "2             8.0         59.0             34.624\n",
       "3             7.0         60.0             39.521\n",
       "4             8.0         60.0             38.200\n",
       "5             2.0         60.0             39.382\n",
       "6             5.0         89.0             25.170\n",
       "7             8.0         60.0             37.099\n",
       "8             4.0         60.0             33.491\n",
       "9             2.0         59.0             35.212\n",
       "10            8.0         58.5             35.295\n",
       "11            5.0         58.0             38.739\n",
       "12            8.0         59.0             23.919"
      ]
     },
     "execution_count": 16,
     "metadata": {},
     "output_type": "execute_result"
    }
   ],
   "source": [
    "df.groupby('team')['no_of_workers'].agg([('min_workers',lambda x:x.min()),('max_workers',lambda x:x.max()),(\n",
    "    'avg_no_of_workers',lambda x:x.mean())]).round(3)"
   ]
  },
  {
   "cell_type": "markdown",
   "id": "8216040d-9cf6-471c-993e-5974e83b235f",
   "metadata": {},
   "source": [
    "There are 12 team, and the number of workers range from 2 - 60 depending on the day. \\\n",
    "The average number of workers per team range from ~24 for team twelve to ~39 for team five."
   ]
  },
  {
   "cell_type": "code",
   "execution_count": 17,
   "id": "ffdb2750-bfda-460d-8ff4-dc8fd022a676",
   "metadata": {
    "tags": []
   },
   "outputs": [
    {
     "data": {
      "text/html": [
       "<div>\n",
       "<style scoped>\n",
       "    .dataframe tbody tr th:only-of-type {\n",
       "        vertical-align: middle;\n",
       "    }\n",
       "\n",
       "    .dataframe tbody tr th {\n",
       "        vertical-align: top;\n",
       "    }\n",
       "\n",
       "    .dataframe thead th {\n",
       "        text-align: right;\n",
       "    }\n",
       "</style>\n",
       "<table border=\"1\" class=\"dataframe\">\n",
       "  <thead>\n",
       "    <tr style=\"text-align: right;\">\n",
       "      <th></th>\n",
       "      <th>mean</th>\n",
       "      <th>standard_deviation</th>\n",
       "    </tr>\n",
       "    <tr>\n",
       "      <th>team</th>\n",
       "      <th></th>\n",
       "      <th></th>\n",
       "    </tr>\n",
       "  </thead>\n",
       "  <tbody>\n",
       "    <tr>\n",
       "      <th>1</th>\n",
       "      <td>15.371</td>\n",
       "      <td>11.336</td>\n",
       "    </tr>\n",
       "    <tr>\n",
       "      <th>2</th>\n",
       "      <td>14.641</td>\n",
       "      <td>10.998</td>\n",
       "    </tr>\n",
       "    <tr>\n",
       "      <th>3</th>\n",
       "      <td>17.317</td>\n",
       "      <td>10.967</td>\n",
       "    </tr>\n",
       "    <tr>\n",
       "      <th>4</th>\n",
       "      <td>16.905</td>\n",
       "      <td>11.776</td>\n",
       "    </tr>\n",
       "    <tr>\n",
       "      <th>5</th>\n",
       "      <td>18.221</td>\n",
       "      <td>12.283</td>\n",
       "    </tr>\n",
       "    <tr>\n",
       "      <th>6</th>\n",
       "      <td>11.913</td>\n",
       "      <td>7.881</td>\n",
       "    </tr>\n",
       "    <tr>\n",
       "      <th>7</th>\n",
       "      <td>17.654</td>\n",
       "      <td>12.574</td>\n",
       "    </tr>\n",
       "    <tr>\n",
       "      <th>8</th>\n",
       "      <td>15.770</td>\n",
       "      <td>12.190</td>\n",
       "    </tr>\n",
       "    <tr>\n",
       "      <th>9</th>\n",
       "      <td>15.493</td>\n",
       "      <td>11.515</td>\n",
       "    </tr>\n",
       "    <tr>\n",
       "      <th>10</th>\n",
       "      <td>14.738</td>\n",
       "      <td>10.220</td>\n",
       "    </tr>\n",
       "    <tr>\n",
       "      <th>11</th>\n",
       "      <td>11.790</td>\n",
       "      <td>8.920</td>\n",
       "    </tr>\n",
       "    <tr>\n",
       "      <th>12</th>\n",
       "      <td>10.594</td>\n",
       "      <td>5.579</td>\n",
       "    </tr>\n",
       "  </tbody>\n",
       "</table>\n",
       "</div>"
      ],
      "text/plain": [
       "        mean  standard_deviation\n",
       "team                            \n",
       "1     15.371              11.336\n",
       "2     14.641              10.998\n",
       "3     17.317              10.967\n",
       "4     16.905              11.776\n",
       "5     18.221              12.283\n",
       "6     11.913               7.881\n",
       "7     17.654              12.574\n",
       "8     15.770              12.190\n",
       "9     15.493              11.515\n",
       "10    14.738              10.220\n",
       "11    11.790               8.920\n",
       "12    10.594               5.579"
      ]
     },
     "execution_count": 17,
     "metadata": {},
     "output_type": "execute_result"
    }
   ],
   "source": [
    "df.groupby('team')['smv'].agg([('mean',lambda x:x.mean()),('standard_deviation', lambda x:x.std())]).round(3)"
   ]
  },
  {
   "cell_type": "markdown",
   "id": "7efd6a8b-546d-4bd8-a177-a383ad024ae0",
   "metadata": {
    "tags": []
   },
   "source": [
    "We see a high variability of smv across teams, from 10-18. This shows that smv is is very disparate for different teams."
   ]
  },
  {
   "cell_type": "markdown",
   "id": "9e12b0db-7b2a-43cd-9e03-d7227c98768d",
   "metadata": {},
   "source": [
    "### 7. Histogram & Box plot of actual productivity based on all working days, team size, quarterts and Conclude accordingly"
   ]
  },
  {
   "cell_type": "markdown",
   "id": "96c8a90a-e351-4a8c-b41f-7ca7eba17f84",
   "metadata": {},
   "source": [
    "KDE plot of actual productivity across day of the week"
   ]
  },
  {
   "cell_type": "code",
   "execution_count": 18,
   "id": "4ba043e1-cdf9-4219-a0c3-3b7f0d0bb53c",
   "metadata": {
    "tags": []
   },
   "outputs": [
    {
     "data": {
      "image/png": "[encoded data removed]",
      "text/plain": [
       "<Figure size 640x480 with 1 Axes>"
      ]
     },
     "metadata": {},
     "output_type": "display_data"
    }
   ],
   "source": [
    "sns.kdeplot(data = df,x = 'actual_productivity',hue = 'day').set(title = 'Productivity by day of week');"
   ]
  },
  {
   "cell_type": "markdown",
   "id": "a803481a-4443-4a22-a85a-5927233e1368",
   "metadata": {},
   "source": [
    "The graphs almost completely overlap. From this we know there is no correlation between prductivity and the day of the week."
   ]
  },
  {
   "cell_type": "code",
   "execution_count": 19,
   "id": "0809c4ae-04ce-4b4a-b720-1c6089bfc6c3",
   "metadata": {
    "tags": []
   },
   "outputs": [
    {
     "data": {
      "text/html": [
       "<div>\n",
       "<style scoped>\n",
       "    .dataframe tbody tr th:only-of-type {\n",
       "        vertical-align: middle;\n",
       "    }\n",
       "\n",
       "    .dataframe tbody tr th {\n",
       "        vertical-align: top;\n",
       "    }\n",
       "\n",
       "    .dataframe thead th {\n",
       "        text-align: right;\n",
       "    }\n",
       "</style>\n",
       "<table border=\"1\" class=\"dataframe\">\n",
       "  <thead>\n",
       "    <tr style=\"text-align: right;\">\n",
       "      <th></th>\n",
       "      <th>avg_team_size</th>\n",
       "      <th>actual_productivity</th>\n",
       "    </tr>\n",
       "    <tr>\n",
       "      <th>team</th>\n",
       "      <th></th>\n",
       "      <th></th>\n",
       "    </tr>\n",
       "  </thead>\n",
       "  <tbody>\n",
       "    <tr>\n",
       "      <th>1</th>\n",
       "      <td>35.043</td>\n",
       "      <td>0.821</td>\n",
       "    </tr>\n",
       "    <tr>\n",
       "      <th>2</th>\n",
       "      <td>34.624</td>\n",
       "      <td>0.771</td>\n",
       "    </tr>\n",
       "    <tr>\n",
       "      <th>3</th>\n",
       "      <td>39.521</td>\n",
       "      <td>0.804</td>\n",
       "    </tr>\n",
       "    <tr>\n",
       "      <th>4</th>\n",
       "      <td>38.200</td>\n",
       "      <td>0.770</td>\n",
       "    </tr>\n",
       "    <tr>\n",
       "      <th>5</th>\n",
       "      <td>39.382</td>\n",
       "      <td>0.698</td>\n",
       "    </tr>\n",
       "    <tr>\n",
       "      <th>6</th>\n",
       "      <td>25.170</td>\n",
       "      <td>0.685</td>\n",
       "    </tr>\n",
       "    <tr>\n",
       "      <th>7</th>\n",
       "      <td>37.099</td>\n",
       "      <td>0.668</td>\n",
       "    </tr>\n",
       "    <tr>\n",
       "      <th>8</th>\n",
       "      <td>33.491</td>\n",
       "      <td>0.674</td>\n",
       "    </tr>\n",
       "    <tr>\n",
       "      <th>9</th>\n",
       "      <td>35.212</td>\n",
       "      <td>0.734</td>\n",
       "    </tr>\n",
       "    <tr>\n",
       "      <th>10</th>\n",
       "      <td>35.295</td>\n",
       "      <td>0.720</td>\n",
       "    </tr>\n",
       "    <tr>\n",
       "      <th>11</th>\n",
       "      <td>38.739</td>\n",
       "      <td>0.682</td>\n",
       "    </tr>\n",
       "    <tr>\n",
       "      <th>12</th>\n",
       "      <td>23.919</td>\n",
       "      <td>0.779</td>\n",
       "    </tr>\n",
       "  </tbody>\n",
       "</table>\n",
       "</div>"
      ],
      "text/plain": [
       "      avg_team_size  actual_productivity\n",
       "team                                    \n",
       "1            35.043                0.821\n",
       "2            34.624                0.771\n",
       "3            39.521                0.804\n",
       "4            38.200                0.770\n",
       "5            39.382                0.698\n",
       "6            25.170                0.685\n",
       "7            37.099                0.668\n",
       "8            33.491                0.674\n",
       "9            35.212                0.734\n",
       "10           35.295                0.720\n",
       "11           38.739                0.682\n",
       "12           23.919                0.779"
      ]
     },
     "execution_count": 19,
     "metadata": {},
     "output_type": "execute_result"
    }
   ],
   "source": [
    "size_productivity = df.groupby('team').agg({'no_of_workers':lambda x:x.mean(),'actual_productivity':lambda x:x.mean()}).round(3).rename(\n",
    "    columns = {'no_of_workers':'avg_team_size'})\n",
    "size_productivity"
   ]
  },
  {
   "cell_type": "code",
   "execution_count": 20,
   "id": "ac100c93-6cb5-4772-abcf-c6b7fff15188",
   "metadata": {
    "tags": []
   },
   "outputs": [
    {
     "data": {
      "image/png": "[encoded data removed]",
      "text/plain": [
       "<Figure size 640x480 with 1 Axes>"
      ]
     },
     "metadata": {},
     "output_type": "display_data"
    }
   ],
   "source": [
    "sns.regplot(data = size_productivity,x = 'avg_team_size',y = 'actual_productivity').set(title = 'Avg team size vs mean productivity');"
   ]
  },
  {
   "cell_type": "markdown",
   "id": "9b02850b-d08c-48a7-b791-9592d1e2c6ed",
   "metadata": {
    "tags": []
   },
   "source": [
    "From the above plot, it seems team size has no correlation with mean productivity.\\\n",
    "Also, plot the no_of_workers with actual_productivity"
   ]
  },
  {
   "cell_type": "code",
   "execution_count": 21,
   "id": "deafeef6-d098-4729-80c7-4b4af4fada53",
   "metadata": {
    "tags": []
   },
   "outputs": [
    {
     "data": {
      "image/png": "[encoded data removed]",
      "text/plain": [
       "<Figure size 640x480 with 1 Axes>"
      ]
     },
     "metadata": {},
     "output_type": "display_data"
    }
   ],
   "source": [
    "sns.regplot(df,x = 'no_of_workers',y = 'actual_productivity');"
   ]
  },
  {
   "cell_type": "markdown",
   "id": "61cd3b01-9a49-4652-b436-8e92e9a4f692",
   "metadata": {},
   "source": [
    "Again, there seens to be very little correlation. This is confirmed by the low Pearson coefficient:"
   ]
  },
  {
   "cell_type": "code",
   "execution_count": 22,
   "id": "68840d57-240b-4876-b1d4-63b33dec4cc3",
   "metadata": {
    "tags": []
   },
   "outputs": [
    {
     "data": {
      "text/plain": [
       "-0.058"
      ]
     },
     "execution_count": 22,
     "metadata": {},
     "output_type": "execute_result"
    }
   ],
   "source": [
    "pearson_corrcoeff,p_value = stats.pearsonr(df['no_of_workers'],df['actual_productivity'])\n",
    "round(pearson_corrcoeff,3)"
   ]
  },
  {
   "cell_type": "markdown",
   "id": "30b6655b-4f91-4df2-996a-df2af0e44190",
   "metadata": {},
   "source": [
    "### 8. Find correlation matrix and draw heat map for all variables"
   ]
  },
  {
   "cell_type": "code",
   "execution_count": 23,
   "id": "5e195d04-44b0-4c59-b5aa-056a8b8d983d",
   "metadata": {
    "tags": []
   },
   "outputs": [
    {
     "data": {
      "text/html": [
       "<div>\n",
       "<style scoped>\n",
       "    .dataframe tbody tr th:only-of-type {\n",
       "        vertical-align: middle;\n",
       "    }\n",
       "\n",
       "    .dataframe tbody tr th {\n",
       "        vertical-align: top;\n",
       "    }\n",
       "\n",
       "    .dataframe thead th {\n",
       "        text-align: right;\n",
       "    }\n",
       "</style>\n",
       "<table border=\"1\" class=\"dataframe\">\n",
       "  <thead>\n",
       "    <tr style=\"text-align: right;\">\n",
       "      <th></th>\n",
       "      <th>targeted_productivity</th>\n",
       "      <th>smv</th>\n",
       "      <th>wip</th>\n",
       "      <th>over_time</th>\n",
       "      <th>incentive</th>\n",
       "      <th>idle_time</th>\n",
       "      <th>idle_men</th>\n",
       "      <th>no_of_workers</th>\n",
       "      <th>actual_productivity</th>\n",
       "    </tr>\n",
       "  </thead>\n",
       "  <tbody>\n",
       "    <tr>\n",
       "      <th>targeted_productivity</th>\n",
       "      <td>1.0000</td>\n",
       "      <td>-0.0695</td>\n",
       "      <td>0.0621</td>\n",
       "      <td>-0.0886</td>\n",
       "      <td>0.0328</td>\n",
       "      <td>-0.0562</td>\n",
       "      <td>-0.0538</td>\n",
       "      <td>-0.0843</td>\n",
       "      <td>0.4216</td>\n",
       "    </tr>\n",
       "    <tr>\n",
       "      <th>smv</th>\n",
       "      <td>-0.0695</td>\n",
       "      <td>1.0000</td>\n",
       "      <td>-0.0378</td>\n",
       "      <td>0.6749</td>\n",
       "      <td>0.0326</td>\n",
       "      <td>0.0569</td>\n",
       "      <td>0.1059</td>\n",
       "      <td>0.9122</td>\n",
       "      <td>-0.1221</td>\n",
       "    </tr>\n",
       "    <tr>\n",
       "      <th>wip</th>\n",
       "      <td>0.0621</td>\n",
       "      <td>-0.0378</td>\n",
       "      <td>1.0000</td>\n",
       "      <td>0.0223</td>\n",
       "      <td>0.1672</td>\n",
       "      <td>-0.0263</td>\n",
       "      <td>-0.0487</td>\n",
       "      <td>0.0304</td>\n",
       "      <td>0.1311</td>\n",
       "    </tr>\n",
       "    <tr>\n",
       "      <th>over_time</th>\n",
       "      <td>-0.0886</td>\n",
       "      <td>0.6749</td>\n",
       "      <td>0.0223</td>\n",
       "      <td>1.0000</td>\n",
       "      <td>-0.0048</td>\n",
       "      <td>0.0310</td>\n",
       "      <td>-0.0179</td>\n",
       "      <td>0.7342</td>\n",
       "      <td>-0.0542</td>\n",
       "    </tr>\n",
       "    <tr>\n",
       "      <th>incentive</th>\n",
       "      <td>0.0328</td>\n",
       "      <td>0.0326</td>\n",
       "      <td>0.1672</td>\n",
       "      <td>-0.0048</td>\n",
       "      <td>1.0000</td>\n",
       "      <td>-0.0120</td>\n",
       "      <td>-0.0211</td>\n",
       "      <td>0.0492</td>\n",
       "      <td>0.0765</td>\n",
       "    </tr>\n",
       "    <tr>\n",
       "      <th>idle_time</th>\n",
       "      <td>-0.0562</td>\n",
       "      <td>0.0569</td>\n",
       "      <td>-0.0263</td>\n",
       "      <td>0.0310</td>\n",
       "      <td>-0.0120</td>\n",
       "      <td>1.0000</td>\n",
       "      <td>0.5591</td>\n",
       "      <td>0.0580</td>\n",
       "      <td>-0.0809</td>\n",
       "    </tr>\n",
       "    <tr>\n",
       "      <th>idle_men</th>\n",
       "      <td>-0.0538</td>\n",
       "      <td>0.1059</td>\n",
       "      <td>-0.0487</td>\n",
       "      <td>-0.0179</td>\n",
       "      <td>-0.0211</td>\n",
       "      <td>0.5591</td>\n",
       "      <td>1.0000</td>\n",
       "      <td>0.1069</td>\n",
       "      <td>-0.1817</td>\n",
       "    </tr>\n",
       "    <tr>\n",
       "      <th>no_of_workers</th>\n",
       "      <td>-0.0843</td>\n",
       "      <td>0.9122</td>\n",
       "      <td>0.0304</td>\n",
       "      <td>0.7342</td>\n",
       "      <td>0.0492</td>\n",
       "      <td>0.0580</td>\n",
       "      <td>0.1069</td>\n",
       "      <td>1.0000</td>\n",
       "      <td>-0.0580</td>\n",
       "    </tr>\n",
       "    <tr>\n",
       "      <th>actual_productivity</th>\n",
       "      <td>0.4216</td>\n",
       "      <td>-0.1221</td>\n",
       "      <td>0.1311</td>\n",
       "      <td>-0.0542</td>\n",
       "      <td>0.0765</td>\n",
       "      <td>-0.0809</td>\n",
       "      <td>-0.1817</td>\n",
       "      <td>-0.0580</td>\n",
       "      <td>1.0000</td>\n",
       "    </tr>\n",
       "  </tbody>\n",
       "</table>\n",
       "</div>"
      ],
      "text/plain": [
       "                       targeted_productivity     smv     wip  over_time  \\\n",
       "targeted_productivity                 1.0000 -0.0695  0.0621    -0.0886   \n",
       "smv                                  -0.0695  1.0000 -0.0378     0.6749   \n",
       "wip                                   0.0621 -0.0378  1.0000     0.0223   \n",
       "over_time                            -0.0886  0.6749  0.0223     1.0000   \n",
       "incentive                             0.0328  0.0326  0.1672    -0.0048   \n",
       "idle_time                            -0.0562  0.0569 -0.0263     0.0310   \n",
       "idle_men                             -0.0538  0.1059 -0.0487    -0.0179   \n",
       "no_of_workers                        -0.0843  0.9122  0.0304     0.7342   \n",
       "actual_productivity                   0.4216 -0.1221  0.1311    -0.0542   \n",
       "\n",
       "                       incentive  idle_time  idle_men  no_of_workers  \\\n",
       "targeted_productivity     0.0328    -0.0562   -0.0538        -0.0843   \n",
       "smv                       0.0326     0.0569    0.1059         0.9122   \n",
       "wip                       0.1672    -0.0263   -0.0487         0.0304   \n",
       "over_time                -0.0048     0.0310   -0.0179         0.7342   \n",
       "incentive                 1.0000    -0.0120   -0.0211         0.0492   \n",
       "idle_time                -0.0120     1.0000    0.5591         0.0580   \n",
       "idle_men                 -0.0211     0.5591    1.0000         0.1069   \n",
       "no_of_workers             0.0492     0.0580    0.1069         1.0000   \n",
       "actual_productivity       0.0765    -0.0809   -0.1817        -0.0580   \n",
       "\n",
       "                       actual_productivity  \n",
       "targeted_productivity               0.4216  \n",
       "smv                                -0.1221  \n",
       "wip                                 0.1311  \n",
       "over_time                          -0.0542  \n",
       "incentive                           0.0765  \n",
       "idle_time                          -0.0809  \n",
       "idle_men                           -0.1817  \n",
       "no_of_workers                      -0.0580  \n",
       "actual_productivity                 1.0000  "
      ]
     },
     "execution_count": 23,
     "metadata": {},
     "output_type": "execute_result"
    }
   ],
   "source": [
    "corr_mat = df[['targeted_productivity','smv','wip','over_time','incentive','idle_time','idle_men','no_of_workers',\n",
    "               'actual_productivity']].corr().round(4)\n",
    "corr_mat"
   ]
  },
  {
   "cell_type": "code",
   "execution_count": 24,
   "id": "3410c411-f8f2-4b6e-9333-d8dc0bd4681b",
   "metadata": {
    "tags": []
   },
   "outputs": [
    {
     "data": {
      "image/png": "[encoded data removed]",
      "text/plain": [
       "<Figure size 640x480 with 2 Axes>"
      ]
     },
     "metadata": {},
     "output_type": "display_data"
    }
   ],
   "source": [
    "sns.heatmap(np.abs(corr_mat),cmap = \"YlGnBu\").set(title = 'Correlation heatmap between the numerical variables');"
   ]
  },
  {
   "cell_type": "markdown",
   "id": "f110181b-1ec6-440d-9bc9-8f342febbcf4",
   "metadata": {},
   "source": [
    "From the above, we see strong positive correlation between smv, over_time and no_of_workers.\\\n",
    "Actual productivity is moderately correlated with targeted_productivity, and weakly correlated with SMV,WIP and idle_men."
   ]
  },
  {
   "cell_type": "markdown",
   "id": "ba1adbc0-98da-48f7-ad2d-ba3946ad25ad",
   "metadata": {},
   "source": [
    "### 9.Conclude (Is the company able to meet target, are they giving incentives based on producitivity, does overtime have any effect on productivity)"
   ]
  },
  {
   "cell_type": "markdown",
   "id": "bb55881b-2565-4874-b2e1-ecd9e64d2bd7",
   "metadata": {},
   "source": [
    "This distribution of targeted_porductivity is:"
   ]
  },
  {
   "cell_type": "code",
   "execution_count": 25,
   "id": "f4c2d1b1-7dd1-411b-8721-0d0f25c0c290",
   "metadata": {
    "tags": []
   },
   "outputs": [
    {
     "data": {
      "text/plain": [
       "targeted_productivity\n",
       "0.07      1\n",
       "0.35     27\n",
       "0.40      2\n",
       "0.50     49\n",
       "0.60     57\n",
       "0.65     63\n",
       "0.70    242\n",
       "0.75    216\n",
       "0.80    540\n",
       "Name: count, dtype: int64"
      ]
     },
     "execution_count": 25,
     "metadata": {},
     "output_type": "execute_result"
    }
   ],
   "source": [
    "df['targeted_productivity'].value_counts().sort_index()"
   ]
  },
  {
   "cell_type": "markdown",
   "id": "2defc721-6232-490f-92c2-96f178705da0",
   "metadata": {},
   "source": [
    "Remove the outliers of 0.07 and 0.40, and plot actual_productivity vs targeted productivity"
   ]
  },
  {
   "cell_type": "code",
   "execution_count": 26,
   "id": "05a5ff59-55f7-48a6-9b47-a488a68b9f05",
   "metadata": {
    "tags": []
   },
   "outputs": [
    {
     "data": {
      "image/png": "[encoded data removed]",
      "text/plain": [
       "<Figure size 640x480 with 1 Axes>"
      ]
     },
     "metadata": {},
     "output_type": "display_data"
    }
   ],
   "source": [
    "sns.violinplot(df.loc[~df['targeted_productivity'].isin([0.07,0.40])],x = 'targeted_productivity',y = 'actual_productivity').set(\n",
    "    title = 'Actual vs targeted productivity');"
   ]
  },
  {
   "cell_type": "markdown",
   "id": "94ad0de1-8596-4652-b85e-4a93bba9ef39",
   "metadata": {},
   "source": [
    "Let's look at the gap between actual and targeted productivity:"
   ]
  },
  {
   "cell_type": "code",
   "execution_count": 27,
   "id": "c22eda13-1bcb-4fcc-b980-bfd4e9ea1157",
   "metadata": {
    "tags": []
   },
   "outputs": [],
   "source": [
    "df['gap'] = df['actual_productivity'] - df['targeted_productivity']"
   ]
  },
  {
   "cell_type": "markdown",
   "id": "1690024f-6790-4c1d-b6c1-106e500bf726",
   "metadata": {},
   "source": [
    "Plot the gap as a histogram:"
   ]
  },
  {
   "cell_type": "code",
   "execution_count": 28,
   "id": "832415f7-2b51-4c68-92e1-3c82380dbe43",
   "metadata": {
    "tags": []
   },
   "outputs": [
    {
     "data": {
      "image/png": "[encoded data removed]",
      "text/plain": [
       "<Figure size 640x480 with 1 Axes>"
      ]
     },
     "metadata": {},
     "output_type": "display_data"
    }
   ],
   "source": [
    "sns.histplot(df,x = 'gap',kde = True).set(title = 'actual_productivity - targeted_productivity');"
   ]
  },
  {
   "cell_type": "code",
   "execution_count": 29,
   "id": "c44a3995-83e5-4942-87ee-8f09e389256d",
   "metadata": {
    "tags": []
   },
   "outputs": [
    {
     "data": {
      "text/plain": [
       "gap\n",
       "Met or exceeded the target    73.1\n",
       "Failed to meet target         26.9\n",
       "Name: proportion, dtype: float64"
      ]
     },
     "execution_count": 29,
     "metadata": {},
     "output_type": "execute_result"
    }
   ],
   "source": [
    "(df['gap']>=0).value_counts(normalize=True).round(4).rename({True:'Met or exceeded the target',False:'Failed to meet target'})*100"
   ]
  },
  {
   "cell_type": "markdown",
   "id": "a4f80cdc-d4a5-46fe-a67b-6ae1bbc13740",
   "metadata": {},
   "source": [
    "The target is met or exceeded in 73% of the instances and fails in 27%"
   ]
  },
  {
   "cell_type": "code",
   "execution_count": 30,
   "id": "9bd869f6-dd5e-4d55-890d-62adb966e02f",
   "metadata": {
    "tags": []
   },
   "outputs": [
    {
     "data": {
      "text/plain": [
       "(0.077, 0.008)"
      ]
     },
     "execution_count": 30,
     "metadata": {},
     "output_type": "execute_result"
    }
   ],
   "source": [
    "pearson_corrcoeff,p_value = stats.pearsonr(df['incentive'],df['actual_productivity'])\n",
    "round(pearson_corrcoeff,3),round(p_value,3)"
   ]
  },
  {
   "cell_type": "code",
   "execution_count": 31,
   "id": "c6b44337-f1c6-4572-a993-3071cdd102e4",
   "metadata": {
    "tags": []
   },
   "outputs": [
    {
     "data": {
      "text/plain": [
       "(0.217, 0.0)"
      ]
     },
     "execution_count": 31,
     "metadata": {},
     "output_type": "execute_result"
    }
   ],
   "source": [
    "spearman_corrcoeff,p_value = stats.spearmanr(df['incentive'],df['actual_productivity'])\n",
    "round(spearman_corrcoeff,3),round(p_value,3)"
   ]
  },
  {
   "cell_type": "markdown",
   "id": "0633752d-94ed-4881-ab34-0efc2a450044",
   "metadata": {
    "tags": []
   },
   "source": [
    "There is positive correlation between incentives and productivity (p-value<0.05, and thus the correlation is significant to 95% confidence). \\\n",
    "Thus incentive has some positive effect on productivity."
   ]
  },
  {
   "cell_type": "code",
   "execution_count": 32,
   "id": "894bdf33-c9d9-4648-a25f-f37fb1d8e229",
   "metadata": {
    "tags": []
   },
   "outputs": [
    {
     "data": {
      "text/plain": [
       "(-0.054, 0.061)"
      ]
     },
     "execution_count": 32,
     "metadata": {},
     "output_type": "execute_result"
    }
   ],
   "source": [
    "pearson_corrcoeff,p_value = stats.pearsonr(df['over_time'],df['actual_productivity'])\n",
    "round(pearson_corrcoeff,3),round(p_value,3)"
   ]
  },
  {
   "cell_type": "code",
   "execution_count": 33,
   "id": "7bec7d22-d619-40d8-8e4f-5fae241041bb",
   "metadata": {
    "tags": []
   },
   "outputs": [
    {
     "data": {
      "text/plain": [
       "(-0.076, 0.009)"
      ]
     },
     "execution_count": 33,
     "metadata": {},
     "output_type": "execute_result"
    }
   ],
   "source": [
    "spearman_corrcoeff,p_value = stats.spearmanr(df['over_time'],df['actual_productivity'])\n",
    "round(spearman_corrcoeff,3),round(p_value,3)"
   ]
  },
  {
   "cell_type": "markdown",
   "id": "1d82e427-85a9-4de3-98b1-fc427b89008e",
   "metadata": {},
   "source": [
    "There is a weak negative correlation between over_time and productivity, so working over_time reduces productivity, but the effect is minimal."
   ]
  },
  {
   "cell_type": "markdown",
   "id": "32cfb65f-1170-47af-ba0c-73697f41eccd",
   "metadata": {},
   "source": [
    "### 10. Find the correlation between actual and target productivity for every quarter and for every department. What do you conclude"
   ]
  },
  {
   "cell_type": "code",
   "execution_count": 34,
   "id": "e011b6cc-99b5-424e-9a82-b558e040ab52",
   "metadata": {
    "tags": []
   },
   "outputs": [
    {
     "data": {
      "text/html": [
       "<div>\n",
       "<style scoped>\n",
       "    .dataframe tbody tr th:only-of-type {\n",
       "        vertical-align: middle;\n",
       "    }\n",
       "\n",
       "    .dataframe tbody tr th {\n",
       "        vertical-align: top;\n",
       "    }\n",
       "\n",
       "    .dataframe thead tr th {\n",
       "        text-align: left;\n",
       "    }\n",
       "\n",
       "    .dataframe thead tr:last-of-type th {\n",
       "        text-align: right;\n",
       "    }\n",
       "</style>\n",
       "<table border=\"1\" class=\"dataframe\">\n",
       "  <thead>\n",
       "    <tr>\n",
       "      <th></th>\n",
       "      <th colspan=\"2\" halign=\"left\">actual_productivity</th>\n",
       "      <th colspan=\"2\" halign=\"left\">targeted_productivity</th>\n",
       "    </tr>\n",
       "    <tr>\n",
       "      <th></th>\n",
       "      <th>actual_productivity</th>\n",
       "      <th>targeted_productivity</th>\n",
       "      <th>actual_productivity</th>\n",
       "      <th>targeted_productivity</th>\n",
       "    </tr>\n",
       "    <tr>\n",
       "      <th>department</th>\n",
       "      <th></th>\n",
       "      <th></th>\n",
       "      <th></th>\n",
       "      <th></th>\n",
       "    </tr>\n",
       "  </thead>\n",
       "  <tbody>\n",
       "    <tr>\n",
       "      <th>finishing</th>\n",
       "      <td>1.0</td>\n",
       "      <td>0.09751</td>\n",
       "      <td>0.09751</td>\n",
       "      <td>1.0</td>\n",
       "    </tr>\n",
       "    <tr>\n",
       "      <th>sewing</th>\n",
       "      <td>1.0</td>\n",
       "      <td>0.69797</td>\n",
       "      <td>0.69797</td>\n",
       "      <td>1.0</td>\n",
       "    </tr>\n",
       "  </tbody>\n",
       "</table>\n",
       "</div>"
      ],
      "text/plain": [
       "           actual_productivity                       targeted_productivity  \\\n",
       "           actual_productivity targeted_productivity   actual_productivity   \n",
       "department                                                                   \n",
       "finishing                  1.0               0.09751               0.09751   \n",
       "sewing                     1.0               0.69797               0.69797   \n",
       "\n",
       "                                  \n",
       "           targeted_productivity  \n",
       "department                        \n",
       "finishing                    1.0  \n",
       "sewing                       1.0  "
      ]
     },
     "execution_count": 34,
     "metadata": {},
     "output_type": "execute_result"
    }
   ],
   "source": [
    "df.groupby('department')[['actual_productivity','targeted_productivity']].corr().unstack()"
   ]
  },
  {
   "cell_type": "markdown",
   "id": "e30e93d9-13e6-4362-a919-fe7646c1871e",
   "metadata": {},
   "source": [
    "Thus we have much higher correlation between actual and targeted productivity in the sewing department (0.7) as opposed to the finishing department (0.09)."
   ]
  },
  {
   "cell_type": "code",
   "execution_count": 35,
   "id": "bd12292b-d5a3-41e7-bc46-6065410fc395",
   "metadata": {
    "tags": []
   },
   "outputs": [
    {
     "data": {
      "text/html": [
       "<div>\n",
       "<style scoped>\n",
       "    .dataframe tbody tr th:only-of-type {\n",
       "        vertical-align: middle;\n",
       "    }\n",
       "\n",
       "    .dataframe tbody tr th {\n",
       "        vertical-align: top;\n",
       "    }\n",
       "\n",
       "    .dataframe thead tr th {\n",
       "        text-align: left;\n",
       "    }\n",
       "\n",
       "    .dataframe thead tr:last-of-type th {\n",
       "        text-align: right;\n",
       "    }\n",
       "</style>\n",
       "<table border=\"1\" class=\"dataframe\">\n",
       "  <thead>\n",
       "    <tr>\n",
       "      <th></th>\n",
       "      <th colspan=\"2\" halign=\"left\">actual_productivity</th>\n",
       "      <th colspan=\"2\" halign=\"left\">targeted_productivity</th>\n",
       "    </tr>\n",
       "    <tr>\n",
       "      <th></th>\n",
       "      <th>actual_productivity</th>\n",
       "      <th>targeted_productivity</th>\n",
       "      <th>actual_productivity</th>\n",
       "      <th>targeted_productivity</th>\n",
       "    </tr>\n",
       "    <tr>\n",
       "      <th>quarter</th>\n",
       "      <th></th>\n",
       "      <th></th>\n",
       "      <th></th>\n",
       "      <th></th>\n",
       "    </tr>\n",
       "  </thead>\n",
       "  <tbody>\n",
       "    <tr>\n",
       "      <th>Quarter1</th>\n",
       "      <td>1.0</td>\n",
       "      <td>0.492779</td>\n",
       "      <td>0.492779</td>\n",
       "      <td>1.0</td>\n",
       "    </tr>\n",
       "    <tr>\n",
       "      <th>Quarter2</th>\n",
       "      <td>1.0</td>\n",
       "      <td>0.427164</td>\n",
       "      <td>0.427164</td>\n",
       "      <td>1.0</td>\n",
       "    </tr>\n",
       "    <tr>\n",
       "      <th>Quarter3</th>\n",
       "      <td>1.0</td>\n",
       "      <td>0.392637</td>\n",
       "      <td>0.392637</td>\n",
       "      <td>1.0</td>\n",
       "    </tr>\n",
       "    <tr>\n",
       "      <th>Quarter4</th>\n",
       "      <td>1.0</td>\n",
       "      <td>0.347594</td>\n",
       "      <td>0.347594</td>\n",
       "      <td>1.0</td>\n",
       "    </tr>\n",
       "    <tr>\n",
       "      <th>Quarter5</th>\n",
       "      <td>1.0</td>\n",
       "      <td>0.479972</td>\n",
       "      <td>0.479972</td>\n",
       "      <td>1.0</td>\n",
       "    </tr>\n",
       "  </tbody>\n",
       "</table>\n",
       "</div>"
      ],
      "text/plain": [
       "         actual_productivity                       targeted_productivity  \\\n",
       "         actual_productivity targeted_productivity   actual_productivity   \n",
       "quarter                                                                    \n",
       "Quarter1                 1.0              0.492779              0.492779   \n",
       "Quarter2                 1.0              0.427164              0.427164   \n",
       "Quarter3                 1.0              0.392637              0.392637   \n",
       "Quarter4                 1.0              0.347594              0.347594   \n",
       "Quarter5                 1.0              0.479972              0.479972   \n",
       "\n",
       "                                \n",
       "         targeted_productivity  \n",
       "quarter                         \n",
       "Quarter1                   1.0  \n",
       "Quarter2                   1.0  \n",
       "Quarter3                   1.0  \n",
       "Quarter4                   1.0  \n",
       "Quarter5                   1.0  "
      ]
     },
     "execution_count": 35,
     "metadata": {},
     "output_type": "execute_result"
    }
   ],
   "source": [
    "df.groupby('quarter')[['actual_productivity','targeted_productivity']].corr().unstack()"
   ]
  },
  {
   "cell_type": "markdown",
   "id": "d68c6b7b-d450-4f40-a514-cddd45b2ec80",
   "metadata": {},
   "source": [
    "Here, there is not much variation between quarters. All have a moderate correlation between actual and targeted productivity ranging between 0.35 and 0.49"
   ]
  },
  {
   "cell_type": "markdown",
   "id": "d303801e-138c-4ebd-826b-682fe8b2b474",
   "metadata": {},
   "source": [
    "### 11. Based on the above details of EDA and Descriptive statisitcs analysis what would you say could be the possible factors which can affect producitivity."
   ]
  },
  {
   "cell_type": "markdown",
   "id": "d89bfd6b-cb48-4f40-8463-1057cd1d1e3f",
   "metadata": {},
   "source": [
    "Productivity is most affected by the following variables: department, idle_men, SMV, WIP, and incentive."
   ]
  },
  {
   "cell_type": "markdown",
   "id": "54c856a4-55e3-43d9-bb0e-5148a9190622",
   "metadata": {},
   "source": [
    "# Hypothesis Testing "
   ]
  },
  {
   "cell_type": "markdown",
   "id": "f2dea8fc",
   "metadata": {},
   "source": [
    "12. Test using Z test (take a random sample of more than 30 and assume sigma =.1) whether the finishing department has achieved more acheived producitivity than .75 for a standard deviation of .1. State your null and alternative hypothesis. alpha value is .05\n",
    "\n",
    "13. Test using Z test(take a random sample of more than 30 and assume sigma =.1) whether the sewing department has achieved more producitivit than .75 for a standard deviation of .1. State your null and alternative hypothesis. alpha value is .05.\n",
    "\n",
    "14. Conduct a two sample t test (take a random sample more than 30) to check whether the finishing department has achieved more actual productivtiy than sewing     department. State your null and alternative hypothesis \n",
    "\n",
    "15. Conduct a two sample t (take a random sample less than 30) test to check whether the finishing department has achieved obtained higher incentive than sewing department, state your null and alternative hypothesis. In case test fails for normality check, then take a sample more than 30. \n",
    "\n",
    "16. The manager has asked you to classifiy low productivity as less than .5, medium between .5 and less than .75 and higher\n",
    "    as greater than or equal to .75. He believes that the percentage of  actual producvity  in  sewing departemnt for   \n",
    "    person classified as low is 30%, for medium is 40% and for high is 30%. USing chi square test can you prove whether his \n",
    "    hypothesis is right or not \n",
    "\n",
    "17. Based on the EDA analysis the manager has decided to find out whether different quarters are having an impact on actual productivity. Assuming normality of data conduct an analysis accordingly Conduct an ANOVA for comparing productivity for Quarter1, Quarter2, Quarter3, Quarter 4 and accordingly conclude (Assume data is normally distributed)\n",
    "\n",
    "18. Based on the EDA analysis the manager has decided to find out whether different days  are having an impact on actual productivity. Assuming normality of data conduct an analysis accordingly Conduct an ANOVA for comparing productivity for Quarter1, Quarter2, Quarter3, Quarter 4 and accordingly conclude (Assume data is normally distributed)\n",
    "\n",
    "19. In case the manager is interested whether day and quarters have an impact on actual producitivity, provide an analysis and identify which factors play a role in affecting productivty\n",
    "\n",
    "20. Based on 17 eliminate one of the variabes which is not significant and reconduct analysis using deparment as another variable, what do you conclude.\n",
    "\n",
    "21. Based on EDA and Hypothesis would you aggree or disaggree with the finding, also in addition summarize the findings based on both analysis and provide a recommendation on what you can thinking on improving the producitivity. \n"
   ]
  },
  {
   "cell_type": "markdown",
   "id": "3fba860a-7483-4e90-a818-411a8296c48a",
   "metadata": {},
   "source": [
    "### 12. Test using Z test (take a random sample of more than 30 and assume sigma =.1) whether the finishing department has achieved more acheived producitivity than .75 for a standard deviation of .1. State your null and alternative hypothesis. alpha value is .05"
   ]
  },
  {
   "cell_type": "markdown",
   "id": "81945bc5-2fbe-471f-b553-1e717599bd2a",
   "metadata": {},
   "source": [
    "Let $\\mu$ be the mean productivity of the finishing department\n",
    "\n",
    "$H_0$: $\\mu \\leq 0$\\\n",
    "$H_a$: $\\mu > 0$"
   ]
  },
  {
   "cell_type": "code",
   "execution_count": 36,
   "id": "a2c86949-7793-47a4-b1e9-4eeb3827b9aa",
   "metadata": {
    "tags": []
   },
   "outputs": [
    {
     "data": {
      "text/plain": [
       "0.767"
      ]
     },
     "execution_count": 36,
     "metadata": {},
     "output_type": "execute_result"
    }
   ],
   "source": [
    "#Let's take a random sample from the finishing department:\n",
    "samp_size = 50\n",
    "rnd_samp = df.loc[df['department']=='finishing','actual_productivity'].sample(samp_size,random_state=0)\n",
    "\n",
    "#Sample mean\n",
    "sample_mean = rnd_samp.mean()\n",
    "round(sample_mean,3)"
   ]
  },
  {
   "cell_type": "markdown",
   "id": "84af11f7-d9b5-4ca9-a6e0-3c05088b9e83",
   "metadata": {},
   "source": [
    "Find the standard error with population mean and standard deviation:"
   ]
  },
  {
   "cell_type": "code",
   "execution_count": 37,
   "id": "b24b43a7-60a2-43e9-9015-91b1ff6c16ad",
   "metadata": {
    "tags": []
   },
   "outputs": [],
   "source": [
    "pop_mean = 0.75 #Given\n",
    "pop_std = 0.1 #Given\n",
    "std_err = pop_std/np.sqrt(samp_size)"
   ]
  },
  {
   "cell_type": "code",
   "execution_count": 38,
   "id": "cac97c05-6687-4c77-bacb-f749ce3fbb05",
   "metadata": {
    "tags": []
   },
   "outputs": [
    {
     "data": {
      "text/plain": [
       "1.223"
      ]
     },
     "execution_count": 38,
     "metadata": {},
     "output_type": "execute_result"
    }
   ],
   "source": [
    "z_sample = (sample_mean - pop_mean)/std_err\n",
    "round(z_sample,3)"
   ]
  },
  {
   "cell_type": "markdown",
   "id": "346671b4-17d2-45e0-9fd8-7c283f87a300",
   "metadata": {},
   "source": [
    "Find z-critical for an alpha value of 0.05:"
   ]
  },
  {
   "cell_type": "code",
   "execution_count": 39,
   "id": "b6ed0663-be47-45f4-b4d1-1d8b9b6363d9",
   "metadata": {
    "tags": []
   },
   "outputs": [
    {
     "data": {
      "text/plain": [
       "1.645"
      ]
     },
     "execution_count": 39,
     "metadata": {},
     "output_type": "execute_result"
    }
   ],
   "source": [
    "z_critical = stats.norm.isf(q=0.05) #One tailed test, so q=alpha\n",
    "round(z_critical,3)"
   ]
  },
  {
   "cell_type": "markdown",
   "id": "d900d7be-e122-4740-9fd0-ea81b25474c3",
   "metadata": {},
   "source": [
    "This tells us that the rejection region includes any z value greater than 1.645. \\\n",
    "Since the z_sample is 1.233, we **fail to reject** the null hypothesis."
   ]
  },
  {
   "cell_type": "markdown",
   "id": "2b1a6393-daf1-4bc6-affb-61c010e8803d",
   "metadata": {},
   "source": [
    "### 13. Test using Z test(take a random sample of more than 30 and assume sigma =.1) whether the sewing department has achieved more producitivit than .75 for a standard deviation of .1. State your null and alternative hypothesis. alpha value is .05"
   ]
  },
  {
   "cell_type": "markdown",
   "id": "3a5d6c1b-970e-4335-88e4-ae2d63de95cd",
   "metadata": {
    "tags": []
   },
   "source": [
    "Let $\\mu$ be the mean productivity of the sewing department\n",
    "\n",
    "$H_0$: $\\mu \\leq 0$\\\n",
    "$H_a$: $\\mu > 0$"
   ]
  },
  {
   "cell_type": "code",
   "execution_count": 40,
   "id": "3a96ee7f-fdff-4dcf-8e0a-e2c39ae22783",
   "metadata": {
    "tags": []
   },
   "outputs": [
    {
     "data": {
      "text/plain": [
       "0.757"
      ]
     },
     "execution_count": 40,
     "metadata": {},
     "output_type": "execute_result"
    }
   ],
   "source": [
    "#Let's take a random sample from the sewing department:\n",
    "samp_size = 50\n",
    "rnd_samp = df.loc[df['department']=='sewing','actual_productivity'].sample(samp_size,random_state=1)\n",
    "\n",
    "#Sample mean\n",
    "sample_mean = rnd_samp.mean()\n",
    "round(sample_mean,3)"
   ]
  },
  {
   "cell_type": "code",
   "execution_count": 41,
   "id": "b8fe9adf-7c28-4ad3-b54a-1ba13bf543fe",
   "metadata": {
    "tags": []
   },
   "outputs": [],
   "source": [
    "pop_mean = 0.75 #Given\n",
    "pop_std = 0.1 #Given\n",
    "std_err = pop_std/np.sqrt(samp_size)"
   ]
  },
  {
   "cell_type": "code",
   "execution_count": 42,
   "id": "d600463c-c7a3-49b6-88af-647699547618",
   "metadata": {
    "tags": []
   },
   "outputs": [
    {
     "data": {
      "text/plain": [
       "0.488"
      ]
     },
     "execution_count": 42,
     "metadata": {},
     "output_type": "execute_result"
    }
   ],
   "source": [
    "z_sample = (sample_mean - pop_mean)/std_err\n",
    "round(z_sample,3)"
   ]
  },
  {
   "cell_type": "markdown",
   "id": "dac8a702-1110-445b-b0f2-42170b50d9d6",
   "metadata": {},
   "source": [
    "Find z-critical for an alpha value of 0.05:"
   ]
  },
  {
   "cell_type": "code",
   "execution_count": 43,
   "id": "94ec08f5-568c-45c8-9252-5b6e4a0aa1e5",
   "metadata": {
    "tags": []
   },
   "outputs": [
    {
     "data": {
      "text/plain": [
       "1.645"
      ]
     },
     "execution_count": 43,
     "metadata": {},
     "output_type": "execute_result"
    }
   ],
   "source": [
    "z_critical = stats.norm.isf(q=0.05) #One tailed test, so q=alpha\n",
    "round(z_critical,3)"
   ]
  },
  {
   "cell_type": "markdown",
   "id": "aa26b02c-85d9-42dd-965e-5e90caaa7cce",
   "metadata": {},
   "source": [
    "This tells us that the rejection region includes any z value greater than 1.645. \\\n",
    "Since the z_sample is 0.488, we **fail to reject** the null hypothesis."
   ]
  },
  {
   "cell_type": "markdown",
   "id": "46189789-7d3c-418b-bd17-64bf600acf9a",
   "metadata": {},
   "source": [
    "### 14. Conduct a two sample t test (take a random sample more than 30) to check whether the finishing department has achieved more actual productivtiy than sewing department. State your null and alternative hypothesis"
   ]
  },
  {
   "cell_type": "markdown",
   "id": "66b4d0ef-76fa-4779-bea2-2e17528f7ae3",
   "metadata": {},
   "source": [
    "Let $\\mu_{s}$ be the mean productivty for the sewing department and $\\mu_{f}$ the mean productivity for the finishing department.\n",
    "\n",
    "$H_0$: $\\mu_{f} \\leq \\mu_{s}$ \\\n",
    "$H_a$: $\\mu_{f} > \\mu_{s}$"
   ]
  },
  {
   "cell_type": "code",
   "execution_count": 44,
   "id": "6ecb1c3a-9ad1-4736-863a-024cb7c9a0e9",
   "metadata": {},
   "outputs": [],
   "source": [
    "sewing_samp_size = 50\n",
    "finishing_samp_size = 40 #Some arbitrary numbers greater than 30..."
   ]
  },
  {
   "cell_type": "code",
   "execution_count": 45,
   "id": "92e06427-e5ca-4545-bd5e-ba0f202d79ad",
   "metadata": {},
   "outputs": [],
   "source": [
    "sewing_sample = df.loc[df['department']=='sewing','actual_productivity'].sample(sewing_samp_size,random_state=2)\n",
    "finishing_sample = df.loc[df['department']=='finishing','actual_productivity'].sample(finishing_samp_size,random_state=2)"
   ]
  },
  {
   "cell_type": "code",
   "execution_count": 46,
   "id": "2cc95b1d-7f12-44ca-9fd5-76049119fc98",
   "metadata": {},
   "outputs": [
    {
     "name": "stdout",
     "output_type": "stream",
     "text": [
      "Mean for sewing sample : 0.73\n",
      "Standard deviation for sewing sample : 0.17\n"
     ]
    }
   ],
   "source": [
    "mean_sewing_sample = np.mean(sewing_sample)\n",
    "std_sewing_sample = np.std(sewing_sample)\n",
    "print('Mean for sewing sample :', round(mean_sewing_sample,2))\n",
    "print('Standard deviation for sewing sample :',round(std_sewing_sample,2))"
   ]
  },
  {
   "cell_type": "code",
   "execution_count": 47,
   "id": "e3d9ecad-79b2-4548-9a08-6cfada826b0e",
   "metadata": {},
   "outputs": [
    {
     "name": "stdout",
     "output_type": "stream",
     "text": [
      "Mean for finishing sample : 0.76\n",
      "Standard deviation for finishing sample : 0.2\n"
     ]
    }
   ],
   "source": [
    "mean_finishing_sample = np.mean(finishing_sample)\n",
    "std_finishing_sample = np.std(finishing_sample)\n",
    "print('Mean for finishing sample :', round(mean_finishing_sample,2))\n",
    "print('Standard deviation for finishing sample :',round(std_finishing_sample,2))"
   ]
  },
  {
   "cell_type": "code",
   "execution_count": 48,
   "id": "21aa63e3-fcd0-4349-87fb-c7f5fc4cb79c",
   "metadata": {},
   "outputs": [
    {
     "data": {
      "text/plain": [
       "0.19"
      ]
     },
     "execution_count": 48,
     "metadata": {},
     "output_type": "execute_result"
    }
   ],
   "source": [
    "# Pooled standard deviation\n",
    "pooled_sd = np.sqrt((sewing_samp_size*std_sewing_sample**2 + finishing_samp_size*std_finishing_sample**2)/(sewing_samp_size+finishing_samp_size-2))\n",
    "round(pooled_sd,2)"
   ]
  },
  {
   "cell_type": "code",
   "execution_count": 49,
   "id": "c7336bac-3b1e-4485-bf7e-2aaf896684cf",
   "metadata": {},
   "outputs": [
    {
     "data": {
      "text/plain": [
       "0.0396"
      ]
     },
     "execution_count": 49,
     "metadata": {},
     "output_type": "execute_result"
    }
   ],
   "source": [
    "#Standard error\n",
    "std_err = pooled_sd*np.sqrt(1/sewing_samp_size+1/finishing_samp_size)\n",
    "round(std_err,4)"
   ]
  },
  {
   "cell_type": "code",
   "execution_count": 50,
   "id": "82725267-367d-4e1c-a8a3-0de70a1bfc1d",
   "metadata": {},
   "outputs": [
    {
     "data": {
      "text/plain": [
       "0.69"
      ]
     },
     "execution_count": 50,
     "metadata": {},
     "output_type": "execute_result"
    }
   ],
   "source": [
    "t_sample = (mean_finishing_sample - mean_sewing_sample)/std_err\n",
    "round(t_sample,2)"
   ]
  },
  {
   "cell_type": "code",
   "execution_count": 51,
   "id": "10b8fa1f-843e-4bbc-b1a6-92bfa20fe832",
   "metadata": {},
   "outputs": [
    {
     "data": {
      "text/plain": [
       "1.66"
      ]
     },
     "execution_count": 51,
     "metadata": {},
     "output_type": "execute_result"
    }
   ],
   "source": [
    "#Find t_critical for a significance of alpha=0.05\n",
    "t_critical = stats.t.isf(q = 0.05,df = sewing_samp_size + finishing_samp_size - 2)\n",
    "round(t_critical,2)"
   ]
  },
  {
   "cell_type": "markdown",
   "id": "ae6f8c25-2629-4198-8d23-32a42ce15fb8",
   "metadata": {},
   "source": [
    "The rejection region is t>1.66, but actual t is 0.69. So we fail to reject NH.\\\n",
    "Let's confirm this using the builtin ttest in scipy"
   ]
  },
  {
   "cell_type": "code",
   "execution_count": 52,
   "id": "5c680563-803b-4c97-b826-8304f7a7f17f",
   "metadata": {},
   "outputs": [
    {
     "data": {
      "text/plain": [
       "(0.69, 0.25)"
      ]
     },
     "execution_count": 52,
     "metadata": {},
     "output_type": "execute_result"
    }
   ],
   "source": [
    "t_sample,p_value = stats.ttest_ind(finishing_sample,sewing_sample, alternative='greater')\n",
    "round(t_sample,2),round(p_value,2)"
   ]
  },
  {
   "cell_type": "markdown",
   "id": "1f812879-0888-42b4-bce3-97a6cd033fe1",
   "metadata": {},
   "source": [
    "Again, we can see that the t_sample < 1.66 and p_value > 0.05 (alpha), so the NH is rejected.\\\n",
    "Conclusion: We cannot say that the finishing department has breater actual productivity than the sewing department."
   ]
  },
  {
   "cell_type": "markdown",
   "id": "225de4df-5c79-4bd4-a23e-616cee8e3e66",
   "metadata": {},
   "source": [
    "### 15. Conduct a two sample t (take a random sample less than 30) test to check whether the finishing department has achieved obtained higher incentive than sewing department, state your null and alternative hypothesis. In case test fails for normality check, then take a sample more than 30"
   ]
  },
  {
   "cell_type": "markdown",
   "id": "55398d5a-3ed9-46f0-912b-1e2e22c13285",
   "metadata": {},
   "source": [
    "Let $\\mu_{s}$ be the incentive for the sewing department and $\\mu_{f}$ the incentive for the finishing department.\n",
    "\n",
    "$H_0$: $\\mu_{f} \\leq \\mu_{s}$ \\\n",
    "$H_a$: $\\mu_{f} > \\mu_{s}$"
   ]
  },
  {
   "cell_type": "code",
   "execution_count": 53,
   "id": "69520a9d-0a13-4ecb-9456-9a49ebcb5aab",
   "metadata": {},
   "outputs": [],
   "source": [
    "sewing_samp_size = 25\n",
    "finishing_samp_size = 20 #Arbitrary numbers less than 30"
   ]
  },
  {
   "cell_type": "code",
   "execution_count": 54,
   "id": "f74ccb60-d1a5-4fc8-8990-270498124089",
   "metadata": {},
   "outputs": [],
   "source": [
    "sewing_sample = df.loc[df['department']=='sewing','incentive'].sample(sewing_samp_size,random_state=3)\n",
    "finishing_sample = df.loc[df['department']=='finishing','incentive'].sample(finishing_samp_size,random_state=3)"
   ]
  },
  {
   "cell_type": "code",
   "execution_count": 55,
   "id": "f523bde2-370a-4312-a8b6-bb443b24007e",
   "metadata": {},
   "outputs": [
    {
     "name": "stdout",
     "output_type": "stream",
     "text": [
      "0.0071\n"
     ]
    }
   ],
   "source": [
    "_,p_value = stats.shapiro(sewing_sample)\n",
    "print(round(p_value,4))"
   ]
  },
  {
   "cell_type": "markdown",
   "id": "ba63ad61-6310-421b-bdec-abddae400df0",
   "metadata": {},
   "source": [
    "Since the p-value is <0.05 for one or more sample, it fails the normality test. Let's take sample sizes > 30"
   ]
  },
  {
   "cell_type": "code",
   "execution_count": 56,
   "id": "981e8719-34d0-4176-9af8-5e2ba2fa8dd7",
   "metadata": {},
   "outputs": [],
   "source": [
    "sewing_samp_size = 50\n",
    "finishing_samp_size = 40 #Some arbitrary numbers greater than 30..."
   ]
  },
  {
   "cell_type": "code",
   "execution_count": 57,
   "id": "0d3b85b0-08a9-481f-bd95-f50ab4734296",
   "metadata": {},
   "outputs": [],
   "source": [
    "sewing_sample = df.loc[df['department']=='sewing','incentive'].sample(sewing_samp_size,random_state=3)\n",
    "finishing_sample = df.loc[df['department']=='finishing','incentive'].sample(finishing_samp_size,random_state=3)"
   ]
  },
  {
   "cell_type": "code",
   "execution_count": 58,
   "id": "63ae271c-ca12-4853-bc98-1e494e7ebcac",
   "metadata": {},
   "outputs": [
    {
     "name": "stdout",
     "output_type": "stream",
     "text": [
      "0.81\n"
     ]
    }
   ],
   "source": [
    "t_sample,p_value = stats.ttest_ind(finishing_sample,sewing_sample, alternative='greater')\n",
    "print(round(p_value,2))"
   ]
  },
  {
   "cell_type": "markdown",
   "id": "43a727b0-119f-4e64-accd-9b3ff3f6e7e2",
   "metadata": {},
   "source": [
    "Since this is > 0.05 (alpha), we fail to reject the NH.\\\n",
    "Conclusion: we cannot say that the finishing department has higher incentive than sewing department."
   ]
  },
  {
   "cell_type": "markdown",
   "id": "9f96c507-5f4f-423b-bf7b-a3a1e4e2ed4f",
   "metadata": {},
   "source": [
    "#### 16.The manager has asked you to classifiy low productivity as less than .5, medium between .5 and less than .75 and higher as greater than or equal to .75. He believes that the percentage of actual producvity in sewing departemnt for person classified as low is 30%, for medium is 40% and for high is 30%. USing chi square test can you prove whether his hypothesis is right or not"
   ]
  },
  {
   "cell_type": "markdown",
   "id": "6490c197-9cfc-4385-96a4-81190259ecc9",
   "metadata": {},
   "source": [
    "The null hypothesis is that percentage of actual productivity in 'low' category is 30%, medium is 40% and high is 50%."
   ]
  },
  {
   "cell_type": "code",
   "execution_count": 59,
   "id": "ba6ba561-5ba8-4edc-8383-89eefadcf6e7",
   "metadata": {},
   "outputs": [],
   "source": [
    "df['actual_productivity_grp'] = pd.cut(df['actual_productivity'],[0,0.5,0.75,np.inf],right=False,labels = ['low','medium','high'])"
   ]
  },
  {
   "cell_type": "code",
   "execution_count": 60,
   "id": "75804aae-4006-4dd8-b914-b708f67c4ebe",
   "metadata": {},
   "outputs": [
    {
     "data": {
      "text/plain": [
       "actual_productivity_grp\n",
       "low       133\n",
       "medium    348\n",
       "high      716\n",
       "Name: count, dtype: int64"
      ]
     },
     "execution_count": 60,
     "metadata": {},
     "output_type": "execute_result"
    }
   ],
   "source": [
    "observed = df['actual_productivity_grp'].value_counts().sort_index()\n",
    "observed"
   ]
  },
  {
   "cell_type": "code",
   "execution_count": 61,
   "id": "f16e610e-c4d3-4874-ad8e-fe5eed0e9eeb",
   "metadata": {},
   "outputs": [
    {
     "data": {
      "text/plain": [
       "actual_productivity_grp\n",
       "low       359.1\n",
       "medium    478.8\n",
       "high      359.1\n",
       "dtype: float64"
      ]
     },
     "execution_count": 61,
     "metadata": {},
     "output_type": "execute_result"
    }
   ],
   "source": [
    "expected = pd.Series([0.3,0.4,0.3],index = observed.index)*len(df)\n",
    "expected"
   ]
  },
  {
   "cell_type": "code",
   "execution_count": 62,
   "id": "4076c75d-393d-4f7f-a9f0-a286866f5d0a",
   "metadata": {},
   "outputs": [
    {
     "data": {
      "text/plain": [
       "532.81"
      ]
     },
     "execution_count": 62,
     "metadata": {},
     "output_type": "execute_result"
    }
   ],
   "source": [
    "chi_square_sample = ((observed - expected)**2/expected).sum()\n",
    "round(chi_square_sample,2)"
   ]
  },
  {
   "cell_type": "code",
   "execution_count": 63,
   "id": "6d1c9b24-2bb5-4492-bf5c-3dea7c46d5a8",
   "metadata": {},
   "outputs": [
    {
     "data": {
      "text/plain": [
       "5.99"
      ]
     },
     "execution_count": 63,
     "metadata": {},
     "output_type": "execute_result"
    }
   ],
   "source": [
    "chi_square_critical = chi2.isf(0.05,df = 2)\n",
    "round(chi_square_critical,2)"
   ]
  },
  {
   "cell_type": "markdown",
   "id": "76d4d0d6-d271-4ce4-a555-8ce44258fc46",
   "metadata": {},
   "source": [
    "Since the sample $\\chi^2$ is greater than the critical value at 0.05 significance, we reject the NH.\\\n",
    "Let's confirm this using builtin function in stats"
   ]
  },
  {
   "cell_type": "code",
   "execution_count": 64,
   "id": "ab19f36a-7ca9-4012-8d1b-1604ece41c94",
   "metadata": {},
   "outputs": [
    {
     "data": {
      "text/plain": [
       "532.81"
      ]
     },
     "execution_count": 64,
     "metadata": {},
     "output_type": "execute_result"
    }
   ],
   "source": [
    "chi_square_sample,p_value = chisquare(f_obs=observed.to_numpy(),f_exp=expected.to_numpy(),ddof = 2)\n",
    "round(chi_square_sample,2)"
   ]
  },
  {
   "cell_type": "markdown",
   "id": "28813920-6d19-467c-8ac4-4727408497ee",
   "metadata": {},
   "source": [
    "This is the same as we calculated, and is greater than the critical value, so we reject the hypothesis."
   ]
  },
  {
   "cell_type": "markdown",
   "id": "7d8e7c6b-43e1-4b10-86b4-6ae2a654d7ce",
   "metadata": {},
   "source": [
    "### 17. Based on the EDA analysis the manager has decided to find out whether different quarters are having an impact on actual productivity. Assuming normality of data conduct an analysis accordingly Conduct an ANOVA for comparing productivity for Quarter1, Quarter2, Quarter3, Quarter 4 and accordingly conclude (Assume data is normally distributed)"
   ]
  },
  {
   "cell_type": "markdown",
   "id": "472cbe5a-42f0-4fb5-a53c-1e7b4817d23d",
   "metadata": {},
   "source": [
    "The null and alternative hypotheses are defined as\n",
    "\n",
    "$H_{0}$: The averages of all quarters' producivity is the same.\\\n",
    "$H_{a}$: At least one quarter has a different average productivity."
   ]
  },
  {
   "cell_type": "code",
   "execution_count": 65,
   "id": "6e2ebdee-06dd-4fa6-a0cb-927010ee5127",
   "metadata": {},
   "outputs": [],
   "source": [
    "productivity_quarter_1 = df.loc[df['quarter']=='Quarter1','actual_productivity'].to_numpy()\n",
    "productivity_quarter_2 = df.loc[df['quarter']=='Quarter2','actual_productivity'].to_numpy()\n",
    "productivity_quarter_3 = df.loc[df['quarter']=='Quarter3','actual_productivity'].to_numpy()\n",
    "productivity_quarter_4 = df.loc[df['quarter']=='Quarter4','actual_productivity'].to_numpy()"
   ]
  },
  {
   "cell_type": "code",
   "execution_count": 66,
   "id": "97064b56-9b0f-43a4-8e4a-b5659e04ff6d",
   "metadata": {},
   "outputs": [],
   "source": [
    "# Group means...\n",
    "mean_quarter_1 = np.mean(productivity_quarter_1)\n",
    "mean_quarter_2 = np.mean(productivity_quarter_2)\n",
    "mean_quarter_3 = np.mean(productivity_quarter_3)\n",
    "mean_quarter_4 = np.mean(productivity_quarter_4)"
   ]
  },
  {
   "cell_type": "code",
   "execution_count": 67,
   "id": "58772da2-c22e-44d7-b566-6622169c2eca",
   "metadata": {},
   "outputs": [],
   "source": [
    "#Overall mean...\n",
    "overall_mean = np.mean(np.concatenate((productivity_quarter_1,productivity_quarter_2,productivity_quarter_3,productivity_quarter_4)))"
   ]
  },
  {
   "cell_type": "code",
   "execution_count": 68,
   "id": "2feebe36-0676-40bc-8d05-106abd37791e",
   "metadata": {},
   "outputs": [
    {
     "data": {
      "text/plain": [
       "0.47"
      ]
     },
     "execution_count": 68,
     "metadata": {},
     "output_type": "execute_result"
    }
   ],
   "source": [
    "#Find the sum of squares between groups...\n",
    "SSB = len(productivity_quarter_1)*(mean_quarter_1 - overall_mean)**2 + len(productivity_quarter_2)*(mean_quarter_2 - overall_mean)**2 + len(\n",
    "    productivity_quarter_3)*(mean_quarter_3 - overall_mean)**2 + len(productivity_quarter_4)*(mean_quarter_4 - overall_mean)**2\n",
    "round(SSB,2)"
   ]
  },
  {
   "cell_type": "code",
   "execution_count": 69,
   "id": "a3725c2a-8d22-4686-b04b-37a4348cedbc",
   "metadata": {},
   "outputs": [
    {
     "data": {
      "text/plain": [
       "34.11"
      ]
     },
     "execution_count": 69,
     "metadata": {},
     "output_type": "execute_result"
    }
   ],
   "source": [
    "#Sum of squares within groups...\n",
    "SSW = np.sum((productivity_quarter_1 - mean_quarter_1)**2) + np.sum((productivity_quarter_2 - mean_quarter_2)**2) + np.sum(\n",
    "    (productivity_quarter_3 - mean_quarter_3)**2) + np.sum((productivity_quarter_4 - mean_quarter_4)**2)\n",
    "round(SSW,2)"
   ]
  },
  {
   "cell_type": "code",
   "execution_count": 70,
   "id": "8f18cda6-a4e6-40cb-b9a7-e143c47c5793",
   "metadata": {},
   "outputs": [],
   "source": [
    "#Total sum of squares...\n",
    "SST = SSB + SSW"
   ]
  },
  {
   "cell_type": "code",
   "execution_count": 71,
   "id": "08561a04-2a63-4a7e-9a00-c783d37ffff3",
   "metadata": {},
   "outputs": [
    {
     "data": {
      "text/plain": [
       "1153"
      ]
     },
     "execution_count": 71,
     "metadata": {},
     "output_type": "execute_result"
    }
   ],
   "source": [
    "#Number of groups...\n",
    "k = 4\n",
    "#Total sample size...\n",
    "N = len(productivity_quarter_1) + len(productivity_quarter_2) + len(productivity_quarter_3) +  len(productivity_quarter_4)\n",
    "N"
   ]
  },
  {
   "cell_type": "code",
   "execution_count": 73,
   "id": "b7f24535-671d-46be-94a5-11a77c30858c",
   "metadata": {},
   "outputs": [],
   "source": [
    "#Mean squares between...\n",
    "MSB = SSB/(k-1)\n",
    "\n",
    "#Mean squares within...\n",
    "MSW = SSW/(N-k)"
   ]
  },
  {
   "cell_type": "markdown",
   "id": "c082e11d-2cb4-4279-9f5c-447705c9e722",
   "metadata": {},
   "source": [
    "Sample F-statistic"
   ]
  },
  {
   "cell_type": "code",
   "execution_count": 74,
   "id": "ccfdb6e8-45d5-4168-b3f5-b88b430f7fb8",
   "metadata": {},
   "outputs": [
    {
     "data": {
      "text/plain": [
       "5.27"
      ]
     },
     "execution_count": 74,
     "metadata": {},
     "output_type": "execute_result"
    }
   ],
   "source": [
    "f_sample = MSB/MSW\n",
    "round(f_sample,2)"
   ]
  },
  {
   "cell_type": "markdown",
   "id": "52943a2d-5646-42fa-b519-5beaf9b7c1a4",
   "metadata": {},
   "source": [
    "Find the critical F-statistic with signifcance of 0.05"
   ]
  },
  {
   "cell_type": "code",
   "execution_count": 72,
   "id": "c0bc4424-d0ba-4a32-b5de-cc4eb372ae3d",
   "metadata": {},
   "outputs": [
    {
     "data": {
      "text/plain": [
       "2.61"
      ]
     },
     "execution_count": 72,
     "metadata": {},
     "output_type": "execute_result"
    }
   ],
   "source": [
    "f_critical = stats.f.isf(0.05,dfn = k-1,dfd = N-k)\n",
    "round(f_critical,2)"
   ]
  },
  {
   "cell_type": "markdown",
   "id": "3e730293-ba32-444b-9a20-8a9c69d54e33",
   "metadata": {},
   "source": [
    "Since the sample F-statistic is greater than the critical value, we reject the null hypothesis.\\\n",
    "Let's confirm our calculation with the builtin stats function"
   ]
  },
  {
   "cell_type": "code",
   "execution_count": 75,
   "id": "b1214eec-ed72-48f6-a681-cf5b6a5ab3a9",
   "metadata": {},
   "outputs": [
    {
     "data": {
      "text/plain": [
       "5.27"
      ]
     },
     "execution_count": 75,
     "metadata": {},
     "output_type": "execute_result"
    }
   ],
   "source": [
    "f_sample,p_value = f_oneway(productivity_quarter_1,productivity_quarter_2,productivity_quarter_3,productivity_quarter_4)\n",
    "round(f_sample,2)"
   ]
  },
  {
   "cell_type": "code",
   "execution_count": 76,
   "id": "60ba68fa-40d0-4f42-8c36-d36586097c25",
   "metadata": {},
   "outputs": [
    {
     "data": {
      "text/plain": [
       "0.001"
      ]
     },
     "execution_count": 76,
     "metadata": {},
     "output_type": "execute_result"
    }
   ],
   "source": [
    "round(p_value,3)"
   ]
  },
  {
   "cell_type": "markdown",
   "id": "d76a9c24-e61b-4dc4-860a-47d9466ea70e",
   "metadata": {},
   "source": [
    "Again we see the sample F-statistic of 5.27, which falls in the rejection region, and a p-value < 0.05.\\\n",
    "Conclusion: The quarter has an impact on productivity."
   ]
  },
  {
   "cell_type": "markdown",
   "id": "17695e59-a2f6-424b-bf24-b139a1f0f131",
   "metadata": {},
   "source": [
    "### 18. Based on the EDA analysis the manager has decided to find out whether different days are having an impact on actual productivity. Assuming normality of data conduct an analysis accordingly Conduct an ANOVA for comparing productivity for Saturday, Sunday, Monday, Tuesday, Wednesday, Thursday and accordingly conclude (Assume data is normally distributed)"
   ]
  },
  {
   "cell_type": "markdown",
   "id": "4d0c6e66-5dcd-407e-8135-43d6172a8f0c",
   "metadata": {},
   "source": [
    "The null and alternative hypotheses are defined as\n",
    "\n",
    "$H_{0}$: The averages of all days' producivity is the same.\\\n",
    "$H_{a}$: At least one day has a different average productivity."
   ]
  },
  {
   "cell_type": "code",
   "execution_count": 77,
   "id": "b0e16542-f33f-410b-bf5e-b0200913caae",
   "metadata": {},
   "outputs": [],
   "source": [
    "productivity_saturday = df.loc[df['day']=='Saturday','actual_productivity'].to_numpy()\n",
    "productivity_sunday = df.loc[df['day']=='Sunday','actual_productivity'].to_numpy()\n",
    "productivity_monday = df.loc[df['day']=='Monday','actual_productivity'].to_numpy()\n",
    "productivity_tuesday = df.loc[df['day']=='Tuesday','actual_productivity'].to_numpy()\n",
    "productivity_wednesday = df.loc[df['day']=='Wednesday','actual_productivity'].to_numpy()\n",
    "productivity_thursday = df.loc[df['day']=='Thursday','actual_productivity'].to_numpy()"
   ]
  },
  {
   "cell_type": "code",
   "execution_count": 78,
   "id": "f7379838-7968-475b-b3d6-baca5e22174a",
   "metadata": {},
   "outputs": [
    {
     "data": {
      "text/plain": [
       "1197"
      ]
     },
     "execution_count": 78,
     "metadata": {},
     "output_type": "execute_result"
    }
   ],
   "source": [
    "#Number of groups...\n",
    "k = 6\n",
    "#Number of samples...\n",
    "N = len(df)\n",
    "N"
   ]
  },
  {
   "cell_type": "markdown",
   "id": "be81b96c-4b8e-450f-9806-359229701832",
   "metadata": {},
   "source": [
    "Find the critical F-statistic with significance 0.05"
   ]
  },
  {
   "cell_type": "code",
   "execution_count": 79,
   "id": "1420c28f-64aa-42cc-8e95-ae9f64e4910f",
   "metadata": {},
   "outputs": [
    {
     "data": {
      "text/plain": [
       "2.22"
      ]
     },
     "execution_count": 79,
     "metadata": {},
     "output_type": "execute_result"
    }
   ],
   "source": [
    "f_critical = stats.f.isf(q = 0.05,dfn = k-1,dfd = N-k)\n",
    "round(f_critical,2)"
   ]
  },
  {
   "cell_type": "markdown",
   "id": "74f1ce43-890d-4f8d-ab2b-4501d9b32958",
   "metadata": {},
   "source": [
    "Thus the rejection region is for F-statistic greater than 2.22"
   ]
  },
  {
   "cell_type": "code",
   "execution_count": 80,
   "id": "38010ebd-d3cd-470c-8a94-9de14e326995",
   "metadata": {},
   "outputs": [
    {
     "name": "stdout",
     "output_type": "stream",
     "text": [
      "0.71\n"
     ]
    }
   ],
   "source": [
    "f_sample,p_value = f_oneway(productivity_saturday,productivity_sunday,productivity_monday,productivity_tuesday,\n",
    "                            productivity_wednesday,productivity_thursday)\n",
    "print(round(f_sample,2))"
   ]
  },
  {
   "cell_type": "code",
   "execution_count": 81,
   "id": "23879e81-e3f6-446b-a572-a5a81469cab8",
   "metadata": {},
   "outputs": [
    {
     "data": {
      "text/plain": [
       "0.61"
      ]
     },
     "execution_count": 81,
     "metadata": {},
     "output_type": "execute_result"
    }
   ],
   "source": [
    "round(p_value,2)"
   ]
  },
  {
   "cell_type": "markdown",
   "id": "f0b2f563-93e5-4802-af84-14016cd0aec2",
   "metadata": {},
   "source": [
    "The F-statistic of the sample is less than the critical value, and the p_value>0.05, so we fail to reject the null hypothesis.\\\n",
    "Conclusion: The day of week has no impact on productivity."
   ]
  },
  {
   "cell_type": "markdown",
   "id": "b955aff1-78f0-49b2-94c0-f9017baa6749",
   "metadata": {},
   "source": [
    "### 19. In case the manager is interested whether day and quarters have an impact on actual producitivity, provide an analysis and identify which factors play a role in affecting productivity."
   ]
  },
  {
   "cell_type": "markdown",
   "id": "39d7b397-4e74-48cb-90af-231206319463",
   "metadata": {},
   "source": [
    "Let's remove quarter 5 from the analysis, since it has too few members."
   ]
  },
  {
   "cell_type": "code",
   "execution_count": 82,
   "id": "ceb556fb-a374-498a-93f8-4c449aaaf117",
   "metadata": {},
   "outputs": [],
   "source": [
    "df_slct = df.loc[df['quarter']!='Quarter5']"
   ]
  },
  {
   "cell_type": "code",
   "execution_count": 83,
   "id": "6a050c76-ff03-4501-9304-e8ca2fe8c37e",
   "metadata": {},
   "outputs": [],
   "source": [
    "model = ols('actual_productivity ~ C(quarter) + C(day) + C(quarter):C(day)', data=df_slct).fit()"
   ]
  },
  {
   "cell_type": "code",
   "execution_count": 84,
   "id": "c2593148-1754-4b48-ba66-3bb4c252f884",
   "metadata": {},
   "outputs": [
    {
     "data": {
      "text/html": [
       "<div>\n",
       "<style scoped>\n",
       "    .dataframe tbody tr th:only-of-type {\n",
       "        vertical-align: middle;\n",
       "    }\n",
       "\n",
       "    .dataframe tbody tr th {\n",
       "        vertical-align: top;\n",
       "    }\n",
       "\n",
       "    .dataframe thead th {\n",
       "        text-align: right;\n",
       "    }\n",
       "</style>\n",
       "<table border=\"1\" class=\"dataframe\">\n",
       "  <thead>\n",
       "    <tr style=\"text-align: right;\">\n",
       "      <th></th>\n",
       "      <th>sum_sq</th>\n",
       "      <th>df</th>\n",
       "      <th>F</th>\n",
       "      <th>PR(&gt;F)</th>\n",
       "    </tr>\n",
       "  </thead>\n",
       "  <tbody>\n",
       "    <tr>\n",
       "      <th>C(quarter)</th>\n",
       "      <td>0.452135</td>\n",
       "      <td>3.0</td>\n",
       "      <td>5.032012</td>\n",
       "      <td>0.001814</td>\n",
       "    </tr>\n",
       "    <tr>\n",
       "      <th>C(day)</th>\n",
       "      <td>0.066319</td>\n",
       "      <td>5.0</td>\n",
       "      <td>0.442853</td>\n",
       "      <td>0.818661</td>\n",
       "    </tr>\n",
       "    <tr>\n",
       "      <th>C(quarter):C(day)</th>\n",
       "      <td>0.230698</td>\n",
       "      <td>15.0</td>\n",
       "      <td>0.513509</td>\n",
       "      <td>0.934495</td>\n",
       "    </tr>\n",
       "    <tr>\n",
       "      <th>Residual</th>\n",
       "      <td>33.814230</td>\n",
       "      <td>1129.0</td>\n",
       "      <td>NaN</td>\n",
       "      <td>NaN</td>\n",
       "    </tr>\n",
       "  </tbody>\n",
       "</table>\n",
       "</div>"
      ],
      "text/plain": [
       "                      sum_sq      df         F    PR(>F)\n",
       "C(quarter)          0.452135     3.0  5.032012  0.001814\n",
       "C(day)              0.066319     5.0  0.442853  0.818661\n",
       "C(quarter):C(day)   0.230698    15.0  0.513509  0.934495\n",
       "Residual           33.814230  1129.0       NaN       NaN"
      ]
     },
     "execution_count": 84,
     "metadata": {},
     "output_type": "execute_result"
    }
   ],
   "source": [
    "# Perform two-way ANOVA\n",
    "anova_results = anova_lm(model, typ=2)\n",
    "anova_results"
   ]
  },
  {
   "cell_type": "markdown",
   "id": "c07ad61d-7c9e-4014-8d72-48cb3e94c7c5",
   "metadata": {},
   "source": [
    "Here we can see that quarter has an impact on productivity, but not day of the week, and also not their interaction."
   ]
  },
  {
   "cell_type": "markdown",
   "id": "4de069dd-336b-4886-a865-d2bb02e1ff1c",
   "metadata": {},
   "source": [
    "### 20. Based on 19 eliminate one of the variabes which is not significant and reconduct analysis using deparment as another variable, what do you conclude."
   ]
  },
  {
   "cell_type": "markdown",
   "id": "0e58268d-a68f-45dd-a574-462da010d88e",
   "metadata": {},
   "source": [
    "Instead of the day of week, include department:"
   ]
  },
  {
   "cell_type": "code",
   "execution_count": 85,
   "id": "7fdcc462-bb36-4712-9fe4-158872577a40",
   "metadata": {},
   "outputs": [],
   "source": [
    "model = ols('actual_productivity ~ C(quarter) + C(department) + C(quarter):C(department)', data=df).fit()"
   ]
  },
  {
   "cell_type": "code",
   "execution_count": 86,
   "id": "a2606586-82b3-42d5-8fb3-64130b42d82f",
   "metadata": {},
   "outputs": [
    {
     "data": {
      "text/html": [
       "<div>\n",
       "<style scoped>\n",
       "    .dataframe tbody tr th:only-of-type {\n",
       "        vertical-align: middle;\n",
       "    }\n",
       "\n",
       "    .dataframe tbody tr th {\n",
       "        vertical-align: top;\n",
       "    }\n",
       "\n",
       "    .dataframe thead th {\n",
       "        text-align: right;\n",
       "    }\n",
       "</style>\n",
       "<table border=\"1\" class=\"dataframe\">\n",
       "  <thead>\n",
       "    <tr style=\"text-align: right;\">\n",
       "      <th></th>\n",
       "      <th>sum_sq</th>\n",
       "      <th>df</th>\n",
       "      <th>F</th>\n",
       "      <th>PR(&gt;F)</th>\n",
       "    </tr>\n",
       "  </thead>\n",
       "  <tbody>\n",
       "    <tr>\n",
       "      <th>C(quarter)</th>\n",
       "      <td>0.827062</td>\n",
       "      <td>4.0</td>\n",
       "      <td>6.995282</td>\n",
       "      <td>0.000014</td>\n",
       "    </tr>\n",
       "    <tr>\n",
       "      <th>C(department)</th>\n",
       "      <td>0.257897</td>\n",
       "      <td>1.0</td>\n",
       "      <td>8.725141</td>\n",
       "      <td>0.003200</td>\n",
       "    </tr>\n",
       "    <tr>\n",
       "      <th>C(quarter):C(department)</th>\n",
       "      <td>0.221625</td>\n",
       "      <td>4.0</td>\n",
       "      <td>1.874499</td>\n",
       "      <td>0.112563</td>\n",
       "    </tr>\n",
       "    <tr>\n",
       "      <th>Residual</th>\n",
       "      <td>35.085181</td>\n",
       "      <td>1187.0</td>\n",
       "      <td>NaN</td>\n",
       "      <td>NaN</td>\n",
       "    </tr>\n",
       "  </tbody>\n",
       "</table>\n",
       "</div>"
      ],
      "text/plain": [
       "                             sum_sq      df         F    PR(>F)\n",
       "C(quarter)                 0.827062     4.0  6.995282  0.000014\n",
       "C(department)              0.257897     1.0  8.725141  0.003200\n",
       "C(quarter):C(department)   0.221625     4.0  1.874499  0.112563\n",
       "Residual                  35.085181  1187.0       NaN       NaN"
      ]
     },
     "execution_count": 86,
     "metadata": {},
     "output_type": "execute_result"
    }
   ],
   "source": [
    "anova_results = anova_lm(model, typ=2)\n",
    "anova_results"
   ]
  },
  {
   "cell_type": "markdown",
   "id": "0eb949ed-7645-4558-b7aa-314c1fef3751",
   "metadata": {},
   "source": [
    "Both quarter and department independently have an impact on productivity, but not their interaction."
   ]
  },
  {
   "cell_type": "markdown",
   "id": "3d62ac2a-c8db-47b5-a0a4-d2005c1a6cda",
   "metadata": {},
   "source": [
    "### 21. Based on EDA and Hypothesis would you agree or disagree with the finding, also in addition summarize the findings based on both analysis and provide a recommendation on what you can thinking on improving the producitivity."
   ]
  },
  {
   "cell_type": "markdown",
   "id": "163fcde1-9a4a-4f54-b2c8-171d2cd618d9",
   "metadata": {},
   "source": [
    "The above finding is exactly what we saw with the EDA analysis (see questions 3,5 and 7)."
   ]
  },
  {
   "cell_type": "markdown",
   "id": "d212bde1-d603-426d-be2f-2b303ab223a9",
   "metadata": {},
   "source": [
    "To improve productivity, we need to leverage the features that have an impact on productivity. For instance we must raise the targeted_productivity, decrease the number of idle_men (which is likely reducing the average productivity), also decrease the SMV (i.e. focus on speeding up the process). We specifically need to focus on improving the productivity of the sewing department, as it's lower than the finishing department."
   ]
  },
  {
   "cell_type": "code",
   "execution_count": null,
   "id": "329ce5e9-fdc7-422c-aed7-8d7d6ddfab73",
   "metadata": {},
   "outputs": [],
   "source": []
  }
 ],
 "metadata": {
  "kernelspec": {
   "display_name": "Python [conda env:py37]",
   "language": "python",
   "name": "conda-env-py37-py"
  },
  "language_info": {
   "codemirror_mode": {
    "name": "ipython",
    "version": 3
   },
   "file_extension": ".py",
   "mimetype": "text/x-python",
   "name": "python",
   "nbconvert_exporter": "python",
   "pygments_lexer": "ipython3",
   "version": "3.7.1"
  }
 },
 "nbformat": 4,
 "nbformat_minor": 5
}
