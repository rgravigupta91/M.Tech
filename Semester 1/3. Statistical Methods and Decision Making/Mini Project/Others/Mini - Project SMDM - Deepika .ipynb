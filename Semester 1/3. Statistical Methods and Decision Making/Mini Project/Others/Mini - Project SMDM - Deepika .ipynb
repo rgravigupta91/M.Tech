{
 "cells": [
  {
   "cell_type": "markdown",
   "id": "cc263720",
   "metadata": {},
   "source": [
    "The data set given for the project is from \" https://archive-beta.ics.uci.edu/ml/datasets/productivity+prediction+of+garment+employees \" \n",
    "and is cited as Productivity Prediction of Garment Employees. (2020). UCI Machine Learning Repository. \n",
    "The data file is attached as csv file. The following are details being provided . The data contains details on actual productivty of a garment industry, the data has been recorded on a day to day basis from the year 2015 to almost year end of 2015. The data set at first needs to be examined and the structure of the data set needs to be understood. The data has been recorded in terms of the following details\n",
    "Date \n",
    "Quarter (Four Quarters)\n",
    "Department (Sewing and Finishing)\n",
    "Day (Please note the way data is recorded is that based on a dept and productivity is recorded for various lines in each dept, hence you would find multiple productivity recorded for each combination of vairables such as team, dept, smv, date)\n",
    "Team \n",
    "Targeted_Producitivity (Target which needs to be achieved)\n",
    "SMV (Standard Minute Value) : Standard time for a Task in this case you can take standard time to complete a garment \n",
    "WIP (Work in progress)\n",
    "Over_time\n",
    "Incentive \n",
    "Idle_time\n",
    "Idle_men (Idle workers)\n",
    "no_of_style_change\n",
    "no_of_workers\n",
    "Actual_Producitivity\n",
    "\n",
    "The aim is of this project is to obtain an understanding of the data and decipher the relationship among the variables, understanding what possible variables can affect producivity which can be whether overtime or team size or number of worker or department type or a day (like monday ect...) ect.. have an effect. \n",
    "\n",
    "Suppose the manager is interested in the following questions \n",
    "\n",
    "Exploratory Data Analysis & Descriptive Statistics \n",
    "\n",
    "1. Basic Summary statistics of the data for the numerical variables \n",
    "2. basic Summary of the data for the number of working days, count of quarters in the year\n",
    "3. Mean and standard deviation of actual producivity for every quarter and Histogram plot of actual productivity based on every quarter and conclusion accordingly\n",
    "4. Number count for sewing and finishing department \n",
    "5. Mean and standard deviation of actual producivity for sewing and finishing Histogram plot of actual productivity based on both department and conclusion accordingly\n",
    "6. Number count for  teams, smv across the year\n",
    "7. Histogram & Box plot of actual productivity based on all working days, team size, quarterts and  Conclude accordingly \n",
    "8. Find correlation matrix and draw heat map for all variables\n",
    "9. Conclude (Is the company able to meet target, are they giving incentives based on producitivity, does overtime have any effect on productivity)\n",
    "10. Find the correlation between actual and target productivity for every quarter and for every department. What do you conclude\n",
    "11. Based on the above details of EDA and Descriptive statisitcs analysis what would you say could be the possible factors which can affect producitivity. \n",
    "\n",
    "Hypothesis Testing \n",
    "\n",
    "12. Test using Z test (take a random sample of more than 30 and assume sigma =.1) whether the finishing department has achieved more acheived producitivity than .75 for a standard deviation of .1. State your null and alternative hypothesis. alpha value is .05\n",
    "\n",
    "13. Test using Z test(take a random sample of more than 30 and assume sigma =.1) whether the sewing department has achieved more producitivit than .75 for a standard deviation of .1. State your null and alternative hypothesis. alpha value is .05.\n",
    "\n",
    "14. Conduct a two sample t test (take a random sample more than 30) to check whether the finishing department has achieved more actual productivtiy than sewing     department. State your null and alternative hypothesis \n",
    "\n",
    "15. Conduct a two sample t (take a random sample less than 30) test to check whether the finishing department has achieved obtained higher incentive than sewing department, state your null and alternative hypothesis. In case test fails for normality check, then take a sample more than 30. \n",
    "\n",
    "16. The manager has asked you to classifiy low productivity as less than .5, medium between .5 and less than .75 and higher\n",
    "    as greater than or equal to .75. He believes that the percentage of  actual producvity  in  sewing departemnt for   \n",
    "    person classified as low is 30%, for medium is 40% and for high is 30%. USing chi square test can you prove whether his \n",
    "    hypothesis is right or not \n",
    "\n",
    "17. Based on the EDA analysis the manager has decided to find out whether different quarters are having an impact on actual productivity. Assuming normality of data conduct an analysis accordingly Conduct an ANOVA for comparing productivity for Quarter1, Quarter2, Quarter3, Quarter 4 and accordingly conclude (Assume data is normally distributed)\n",
    "\n",
    "18. Based on the EDA analysis the manager has decided to find out whether different days  are having an impact on actual productivity. Assuming normality of data conduct an analysis accordingly Conduct an ANOVA for comparing productivity for Quarter1, Quarter2, Quarter3, Quarter 4 and accordingly conclude (Assume data is normally distributed)\n",
    "\n",
    "19. In case the manager is interested whether day and quarters have an impact on actual producitivity, provide an analysis and identify which factors play a role in affecting productivty\n",
    "\n",
    "20. Based on 17 eliminate one of the variabes which is not significant and reconduct analysis using deparment as another variable, what do you conclude.\n",
    "\n",
    "21. Based on EDA and Hypothesis would you aggree or disaggree with the finding, also in addition summarize the findings based on both analysis and provide a recommendation on what you can thinking on improving the producitivity. \n",
    "\n"
   ]
  },
  {
   "cell_type": "code",
   "execution_count": 1,
   "id": "796c912d",
   "metadata": {},
   "outputs": [],
   "source": [
    "import numpy as np\n",
    "import pandas as pd\n",
    "import seaborn as sns\n",
    "import matplotlib.pyplot as plt\n",
    "import scipy.stats as stats\n",
    "from scipy.stats import f_oneway\n",
    "# import statsmodels\n",
    "import statsmodels.api as sm\n",
    "from statsmodels.formula.api import ols\n",
    "from statsmodels.stats.anova import anova_lm\n",
    "# import the functions to perform Chi-square tests\n",
    "from scipy.stats import chi2_contingency\n",
    "from scipy.stats import chi2\n",
    "from scipy.stats import chisquare"
   ]
  },
  {
   "cell_type": "code",
   "execution_count": 4,
   "id": "e46e9d79",
   "metadata": {},
   "outputs": [
    {
     "data": {
      "text/html": [
       "<div>\n",
       "<style scoped>\n",
       "    .dataframe tbody tr th:only-of-type {\n",
       "        vertical-align: middle;\n",
       "    }\n",
       "\n",
       "    .dataframe tbody tr th {\n",
       "        vertical-align: top;\n",
       "    }\n",
       "\n",
       "    .dataframe thead th {\n",
       "        text-align: right;\n",
       "    }\n",
       "</style>\n",
       "<table border=\"1\" class=\"dataframe\">\n",
       "  <thead>\n",
       "    <tr style=\"text-align: right;\">\n",
       "      <th></th>\n",
       "      <th>date</th>\n",
       "      <th>quarter</th>\n",
       "      <th>department</th>\n",
       "      <th>day</th>\n",
       "      <th>team</th>\n",
       "      <th>targeted_productivity</th>\n",
       "      <th>smv</th>\n",
       "      <th>wip</th>\n",
       "      <th>over_time</th>\n",
       "      <th>incentive</th>\n",
       "      <th>idle_time</th>\n",
       "      <th>idle_men</th>\n",
       "      <th>no_of_style_change</th>\n",
       "      <th>no_of_workers</th>\n",
       "      <th>actual_productivity</th>\n",
       "    </tr>\n",
       "  </thead>\n",
       "  <tbody>\n",
       "    <tr>\n",
       "      <th>0</th>\n",
       "      <td>01-01-2015</td>\n",
       "      <td>Quarter1</td>\n",
       "      <td>sewing</td>\n",
       "      <td>Thursday</td>\n",
       "      <td>8</td>\n",
       "      <td>0.80</td>\n",
       "      <td>26.16</td>\n",
       "      <td>1108.0</td>\n",
       "      <td>7080</td>\n",
       "      <td>98</td>\n",
       "      <td>0.0</td>\n",
       "      <td>0</td>\n",
       "      <td>0</td>\n",
       "      <td>59.0</td>\n",
       "      <td>0.940725</td>\n",
       "    </tr>\n",
       "    <tr>\n",
       "      <th>1</th>\n",
       "      <td>01-01-2015</td>\n",
       "      <td>Quarter1</td>\n",
       "      <td>finishing</td>\n",
       "      <td>Thursday</td>\n",
       "      <td>1</td>\n",
       "      <td>0.75</td>\n",
       "      <td>3.94</td>\n",
       "      <td>NaN</td>\n",
       "      <td>960</td>\n",
       "      <td>0</td>\n",
       "      <td>0.0</td>\n",
       "      <td>0</td>\n",
       "      <td>0</td>\n",
       "      <td>8.0</td>\n",
       "      <td>0.886500</td>\n",
       "    </tr>\n",
       "    <tr>\n",
       "      <th>2</th>\n",
       "      <td>01-01-2015</td>\n",
       "      <td>Quarter1</td>\n",
       "      <td>sewing</td>\n",
       "      <td>Thursday</td>\n",
       "      <td>11</td>\n",
       "      <td>0.80</td>\n",
       "      <td>11.41</td>\n",
       "      <td>968.0</td>\n",
       "      <td>3660</td>\n",
       "      <td>50</td>\n",
       "      <td>0.0</td>\n",
       "      <td>0</td>\n",
       "      <td>0</td>\n",
       "      <td>30.5</td>\n",
       "      <td>0.800570</td>\n",
       "    </tr>\n",
       "    <tr>\n",
       "      <th>3</th>\n",
       "      <td>01-01-2015</td>\n",
       "      <td>Quarter1</td>\n",
       "      <td>sewing</td>\n",
       "      <td>Thursday</td>\n",
       "      <td>12</td>\n",
       "      <td>0.80</td>\n",
       "      <td>11.41</td>\n",
       "      <td>968.0</td>\n",
       "      <td>3660</td>\n",
       "      <td>50</td>\n",
       "      <td>0.0</td>\n",
       "      <td>0</td>\n",
       "      <td>0</td>\n",
       "      <td>30.5</td>\n",
       "      <td>0.800570</td>\n",
       "    </tr>\n",
       "    <tr>\n",
       "      <th>4</th>\n",
       "      <td>01-01-2015</td>\n",
       "      <td>Quarter1</td>\n",
       "      <td>sewing</td>\n",
       "      <td>Thursday</td>\n",
       "      <td>6</td>\n",
       "      <td>0.80</td>\n",
       "      <td>25.90</td>\n",
       "      <td>1170.0</td>\n",
       "      <td>1920</td>\n",
       "      <td>50</td>\n",
       "      <td>0.0</td>\n",
       "      <td>0</td>\n",
       "      <td>0</td>\n",
       "      <td>56.0</td>\n",
       "      <td>0.800382</td>\n",
       "    </tr>\n",
       "  </tbody>\n",
       "</table>\n",
       "</div>"
      ],
      "text/plain": [
       "         date   quarter department       day  team  targeted_productivity  \\\n",
       "0  01-01-2015  Quarter1     sewing  Thursday     8                   0.80   \n",
       "1  01-01-2015  Quarter1  finishing  Thursday     1                   0.75   \n",
       "2  01-01-2015  Quarter1     sewing  Thursday    11                   0.80   \n",
       "3  01-01-2015  Quarter1     sewing  Thursday    12                   0.80   \n",
       "4  01-01-2015  Quarter1     sewing  Thursday     6                   0.80   \n",
       "\n",
       "     smv     wip  over_time  incentive  idle_time  idle_men  \\\n",
       "0  26.16  1108.0       7080         98        0.0         0   \n",
       "1   3.94     NaN        960          0        0.0         0   \n",
       "2  11.41   968.0       3660         50        0.0         0   \n",
       "3  11.41   968.0       3660         50        0.0         0   \n",
       "4  25.90  1170.0       1920         50        0.0         0   \n",
       "\n",
       "   no_of_style_change  no_of_workers  actual_productivity  \n",
       "0                   0           59.0             0.940725  \n",
       "1                   0            8.0             0.886500  \n",
       "2                   0           30.5             0.800570  \n",
       "3                   0           30.5             0.800570  \n",
       "4                   0           56.0             0.800382  "
      ]
     },
     "execution_count": 4,
     "metadata": {},
     "output_type": "execute_result"
    }
   ],
   "source": [
    "# Fetch the data of garment employees/workers\n",
    "\n",
    "df_g_emps = pd.read_csv(\"garments_worker_productivity.csv\")\n",
    "df_g_emps.head()"
   ]
  },
  {
   "cell_type": "markdown",
   "id": "60ef4eb2",
   "metadata": {},
   "source": [
    "Exploratory Data Analysis & Descriptive Statistics \n",
    "\n",
    "1. Basic Summary statistics of the data for the numerical variables \n",
    "2. basic Summary of the data for the number of working days, count of quarters in the year\n",
    "3. Mean and standard deviation of actual producivity for every quarter and Histogram plot of actual productivity based on every quarter and conclusion accordingly\n",
    "4. Number count for sewing and finishing department \n",
    "5. Mean and standard deviation of actual producivity for sewing and finishing Histogram plot of actual productivity based on both department and conclusion accordingly\n",
    "6. Number count for  teams, smv across the year\n",
    "7. Histogram & Box plot of actual productivity based on all working days, team size, quarterts and  Conclude accordingly \n",
    "8. Find correlation matrix and draw heat map for all variables\n",
    "9. Conclude (Is the company able to meet target, are they giving incentives based on producitivity, does overtime have any effect on productivity)\n",
    "10. Find the correlation between actual and target productivity for every quarter and for every department. What do you conclude\n",
    "11. Based on the above details of EDA and Descriptive statisitcs analysis what would you say could be the possible factors which can affect producitivity. "
   ]
  },
  {
   "cell_type": "code",
   "execution_count": 5,
   "id": "b481e77b",
   "metadata": {},
   "outputs": [
    {
     "data": {
      "text/html": [
       "<div>\n",
       "<style scoped>\n",
       "    .dataframe tbody tr th:only-of-type {\n",
       "        vertical-align: middle;\n",
       "    }\n",
       "\n",
       "    .dataframe tbody tr th {\n",
       "        vertical-align: top;\n",
       "    }\n",
       "\n",
       "    .dataframe thead th {\n",
       "        text-align: right;\n",
       "    }\n",
       "</style>\n",
       "<table border=\"1\" class=\"dataframe\">\n",
       "  <thead>\n",
       "    <tr style=\"text-align: right;\">\n",
       "      <th></th>\n",
       "      <th>team</th>\n",
       "      <th>targeted_productivity</th>\n",
       "      <th>smv</th>\n",
       "      <th>wip</th>\n",
       "      <th>over_time</th>\n",
       "      <th>incentive</th>\n",
       "      <th>idle_time</th>\n",
       "      <th>idle_men</th>\n",
       "      <th>no_of_style_change</th>\n",
       "      <th>no_of_workers</th>\n",
       "      <th>actual_productivity</th>\n",
       "    </tr>\n",
       "  </thead>\n",
       "  <tbody>\n",
       "    <tr>\n",
       "      <th>count</th>\n",
       "      <td>1197.000000</td>\n",
       "      <td>1197.000000</td>\n",
       "      <td>1197.000000</td>\n",
       "      <td>691.000000</td>\n",
       "      <td>1197.000000</td>\n",
       "      <td>1197.000000</td>\n",
       "      <td>1197.000000</td>\n",
       "      <td>1197.000000</td>\n",
       "      <td>1197.000000</td>\n",
       "      <td>1197.000000</td>\n",
       "      <td>1197.000000</td>\n",
       "    </tr>\n",
       "    <tr>\n",
       "      <th>mean</th>\n",
       "      <td>6.426901</td>\n",
       "      <td>0.729632</td>\n",
       "      <td>15.062172</td>\n",
       "      <td>1190.465991</td>\n",
       "      <td>4567.460317</td>\n",
       "      <td>38.210526</td>\n",
       "      <td>0.730159</td>\n",
       "      <td>0.369256</td>\n",
       "      <td>0.150376</td>\n",
       "      <td>34.609858</td>\n",
       "      <td>0.735091</td>\n",
       "    </tr>\n",
       "    <tr>\n",
       "      <th>std</th>\n",
       "      <td>3.463963</td>\n",
       "      <td>0.097891</td>\n",
       "      <td>10.943219</td>\n",
       "      <td>1837.455001</td>\n",
       "      <td>3348.823563</td>\n",
       "      <td>160.182643</td>\n",
       "      <td>12.709757</td>\n",
       "      <td>3.268987</td>\n",
       "      <td>0.427848</td>\n",
       "      <td>22.197687</td>\n",
       "      <td>0.174488</td>\n",
       "    </tr>\n",
       "    <tr>\n",
       "      <th>min</th>\n",
       "      <td>1.000000</td>\n",
       "      <td>0.070000</td>\n",
       "      <td>2.900000</td>\n",
       "      <td>7.000000</td>\n",
       "      <td>0.000000</td>\n",
       "      <td>0.000000</td>\n",
       "      <td>0.000000</td>\n",
       "      <td>0.000000</td>\n",
       "      <td>0.000000</td>\n",
       "      <td>2.000000</td>\n",
       "      <td>0.233705</td>\n",
       "    </tr>\n",
       "    <tr>\n",
       "      <th>25%</th>\n",
       "      <td>3.000000</td>\n",
       "      <td>0.700000</td>\n",
       "      <td>3.940000</td>\n",
       "      <td>774.500000</td>\n",
       "      <td>1440.000000</td>\n",
       "      <td>0.000000</td>\n",
       "      <td>0.000000</td>\n",
       "      <td>0.000000</td>\n",
       "      <td>0.000000</td>\n",
       "      <td>9.000000</td>\n",
       "      <td>0.650307</td>\n",
       "    </tr>\n",
       "    <tr>\n",
       "      <th>50%</th>\n",
       "      <td>6.000000</td>\n",
       "      <td>0.750000</td>\n",
       "      <td>15.260000</td>\n",
       "      <td>1039.000000</td>\n",
       "      <td>3960.000000</td>\n",
       "      <td>0.000000</td>\n",
       "      <td>0.000000</td>\n",
       "      <td>0.000000</td>\n",
       "      <td>0.000000</td>\n",
       "      <td>34.000000</td>\n",
       "      <td>0.773333</td>\n",
       "    </tr>\n",
       "    <tr>\n",
       "      <th>75%</th>\n",
       "      <td>9.000000</td>\n",
       "      <td>0.800000</td>\n",
       "      <td>24.260000</td>\n",
       "      <td>1252.500000</td>\n",
       "      <td>6960.000000</td>\n",
       "      <td>50.000000</td>\n",
       "      <td>0.000000</td>\n",
       "      <td>0.000000</td>\n",
       "      <td>0.000000</td>\n",
       "      <td>57.000000</td>\n",
       "      <td>0.850253</td>\n",
       "    </tr>\n",
       "    <tr>\n",
       "      <th>max</th>\n",
       "      <td>12.000000</td>\n",
       "      <td>0.800000</td>\n",
       "      <td>54.560000</td>\n",
       "      <td>23122.000000</td>\n",
       "      <td>25920.000000</td>\n",
       "      <td>3600.000000</td>\n",
       "      <td>300.000000</td>\n",
       "      <td>45.000000</td>\n",
       "      <td>2.000000</td>\n",
       "      <td>89.000000</td>\n",
       "      <td>1.120437</td>\n",
       "    </tr>\n",
       "  </tbody>\n",
       "</table>\n",
       "</div>"
      ],
      "text/plain": [
       "              team  targeted_productivity          smv           wip  \\\n",
       "count  1197.000000            1197.000000  1197.000000    691.000000   \n",
       "mean      6.426901               0.729632    15.062172   1190.465991   \n",
       "std       3.463963               0.097891    10.943219   1837.455001   \n",
       "min       1.000000               0.070000     2.900000      7.000000   \n",
       "25%       3.000000               0.700000     3.940000    774.500000   \n",
       "50%       6.000000               0.750000    15.260000   1039.000000   \n",
       "75%       9.000000               0.800000    24.260000   1252.500000   \n",
       "max      12.000000               0.800000    54.560000  23122.000000   \n",
       "\n",
       "          over_time    incentive    idle_time     idle_men  \\\n",
       "count   1197.000000  1197.000000  1197.000000  1197.000000   \n",
       "mean    4567.460317    38.210526     0.730159     0.369256   \n",
       "std     3348.823563   160.182643    12.709757     3.268987   \n",
       "min        0.000000     0.000000     0.000000     0.000000   \n",
       "25%     1440.000000     0.000000     0.000000     0.000000   \n",
       "50%     3960.000000     0.000000     0.000000     0.000000   \n",
       "75%     6960.000000    50.000000     0.000000     0.000000   \n",
       "max    25920.000000  3600.000000   300.000000    45.000000   \n",
       "\n",
       "       no_of_style_change  no_of_workers  actual_productivity  \n",
       "count         1197.000000    1197.000000          1197.000000  \n",
       "mean             0.150376      34.609858             0.735091  \n",
       "std              0.427848      22.197687             0.174488  \n",
       "min              0.000000       2.000000             0.233705  \n",
       "25%              0.000000       9.000000             0.650307  \n",
       "50%              0.000000      34.000000             0.773333  \n",
       "75%              0.000000      57.000000             0.850253  \n",
       "max              2.000000      89.000000             1.120437  "
      ]
     },
     "execution_count": 5,
     "metadata": {},
     "output_type": "execute_result"
    }
   ],
   "source": [
    "#1 Basic Summary statistics of the data for the numerical variables\n",
    "df_g_emps.describe()"
   ]
  },
  {
   "cell_type": "code",
   "execution_count": 6,
   "id": "a886427d",
   "metadata": {},
   "outputs": [
    {
     "name": "stdout",
     "output_type": "stream",
     "text": [
      "Summary of the data for the number of working days:  59 Days\n",
      "Summary of the data for the count of quarters in the year:  5 Quarters\n"
     ]
    }
   ],
   "source": [
    "#2 basic Summary of the data for the number of working days, count of quarters in the year\n",
    "print('Summary of the data for the number of working days: ', df_g_emps.date.nunique(), 'Days')\n",
    "print('Summary of the data for the count of quarters in the year: ', df_g_emps.quarter.nunique(), 'Quarters')"
   ]
  },
  {
   "cell_type": "code",
   "execution_count": 7,
   "id": "f58c9687",
   "metadata": {},
   "outputs": [
    {
     "data": {
      "text/html": [
       "<div>\n",
       "<style scoped>\n",
       "    .dataframe tbody tr th:only-of-type {\n",
       "        vertical-align: middle;\n",
       "    }\n",
       "\n",
       "    .dataframe tbody tr th {\n",
       "        vertical-align: top;\n",
       "    }\n",
       "\n",
       "    .dataframe thead th {\n",
       "        text-align: right;\n",
       "    }\n",
       "</style>\n",
       "<table border=\"1\" class=\"dataframe\">\n",
       "  <thead>\n",
       "    <tr style=\"text-align: right;\">\n",
       "      <th></th>\n",
       "      <th>mean</th>\n",
       "      <th>std</th>\n",
       "    </tr>\n",
       "    <tr>\n",
       "      <th>quarter</th>\n",
       "      <th></th>\n",
       "      <th></th>\n",
       "    </tr>\n",
       "  </thead>\n",
       "  <tbody>\n",
       "    <tr>\n",
       "      <th>Quarter1</th>\n",
       "      <td>0.751560</td>\n",
       "      <td>0.161318</td>\n",
       "    </tr>\n",
       "    <tr>\n",
       "      <th>Quarter2</th>\n",
       "      <td>0.743710</td>\n",
       "      <td>0.171114</td>\n",
       "    </tr>\n",
       "    <tr>\n",
       "      <th>Quarter3</th>\n",
       "      <td>0.704759</td>\n",
       "      <td>0.175614</td>\n",
       "    </tr>\n",
       "    <tr>\n",
       "      <th>Quarter4</th>\n",
       "      <td>0.709067</td>\n",
       "      <td>0.185983</td>\n",
       "    </tr>\n",
       "    <tr>\n",
       "      <th>Quarter5</th>\n",
       "      <td>0.826177</td>\n",
       "      <td>0.183851</td>\n",
       "    </tr>\n",
       "  </tbody>\n",
       "</table>\n",
       "</div>"
      ],
      "text/plain": [
       "              mean       std\n",
       "quarter                     \n",
       "Quarter1  0.751560  0.161318\n",
       "Quarter2  0.743710  0.171114\n",
       "Quarter3  0.704759  0.175614\n",
       "Quarter4  0.709067  0.185983\n",
       "Quarter5  0.826177  0.183851"
      ]
     },
     "execution_count": 7,
     "metadata": {},
     "output_type": "execute_result"
    }
   ],
   "source": [
    "#3 Mean and standard deviation of actual producivity for every quarter and Histogram plot of actual productivity based on every \n",
    "# quarter and conclusion accordingly\n",
    "\n",
    "df_g_emps.groupby(by='quarter')['actual_productivity'].agg(['mean','std'])\n"
   ]
  },
  {
   "cell_type": "code",
   "execution_count": 8,
   "id": "af8abd80",
   "metadata": {},
   "outputs": [
    {
     "data": {
      "image/png": "[encoded data removed]",
      "text/plain": [
       "<Figure size 640x480 with 1 Axes>"
      ]
     },
     "metadata": {},
     "output_type": "display_data"
    }
   ],
   "source": [
    "sns.histplot(x=df_g_emps.quarter.unique(), y=df_g_emps.groupby(by='quarter')['actual_productivity'].mean())\n",
    "plt.ylim(0,1)\n",
    "plt.title('Actual Productivity per Quarter')\n",
    "plt.show()"
   ]
  },
  {
   "cell_type": "markdown",
   "id": "e036ff8c",
   "metadata": {},
   "source": [
    "Conclusion: In summary, we find that productivity levels are approximately 75% in Quarter 1 and Quarter 2, with a standard deviation of 0.16, while productivity dips slightly to around 70% in Quarter 3 and Quarter 4, with a standard deviation of 0.17.\n",
    "\n",
    "It appears that workers tend to be more productive during the first two quarters, possibly due to the motivating factor of their salary incentives.\n",
    "\n",
    "Note: Quarter 5 is excluded from analysis as it only spans three days and could skew the data."
   ]
  },
  {
   "cell_type": "code",
   "execution_count": null,
   "id": "fd89e0ee",
   "metadata": {},
   "outputs": [],
   "source": [
    "#4 Number count for sewing and finishing department"
   ]
  },
  {
   "cell_type": "code",
   "execution_count": 9,
   "id": "58d4e98e",
   "metadata": {},
   "outputs": [
    {
     "name": "stdout",
     "output_type": "stream",
     "text": [
      "The count of records per department are: \n"
     ]
    },
    {
     "data": {
      "text/plain": [
       "department\n",
       "finishing    506\n",
       "sewing       691\n",
       "Name: department, dtype: int64"
      ]
     },
     "execution_count": 9,
     "metadata": {},
     "output_type": "execute_result"
    }
   ],
   "source": [
    "print('The count of records per department are: ')\n",
    "df_g_emps.groupby('department')['department'].count()"
   ]
  },
  {
   "cell_type": "code",
   "execution_count": 62,
   "id": "787ab616",
   "metadata": {},
   "outputs": [
    {
     "name": "stdout",
     "output_type": "stream",
     "text": [
      "The Mean and Std Dev of actual productivity for each dept:\n"
     ]
    },
    {
     "data": {
      "text/html": [
       "<div>\n",
       "<style scoped>\n",
       "    .dataframe tbody tr th:only-of-type {\n",
       "        vertical-align: middle;\n",
       "    }\n",
       "\n",
       "    .dataframe tbody tr th {\n",
       "        vertical-align: top;\n",
       "    }\n",
       "\n",
       "    .dataframe thead th {\n",
       "        text-align: right;\n",
       "    }\n",
       "</style>\n",
       "<table border=\"1\" class=\"dataframe\">\n",
       "  <thead>\n",
       "    <tr style=\"text-align: right;\">\n",
       "      <th></th>\n",
       "      <th>mean</th>\n",
       "      <th>std</th>\n",
       "    </tr>\n",
       "    <tr>\n",
       "      <th>department</th>\n",
       "      <th></th>\n",
       "      <th></th>\n",
       "    </tr>\n",
       "  </thead>\n",
       "  <tbody>\n",
       "    <tr>\n",
       "      <th>finishing</th>\n",
       "      <td>0.752951</td>\n",
       "      <td>0.197021</td>\n",
       "    </tr>\n",
       "    <tr>\n",
       "      <th>sewing</th>\n",
       "      <td>0.722013</td>\n",
       "      <td>0.154784</td>\n",
       "    </tr>\n",
       "  </tbody>\n",
       "</table>\n",
       "</div>"
      ],
      "text/plain": [
       "                mean       std\n",
       "department                    \n",
       "finishing   0.752951  0.197021\n",
       "sewing      0.722013  0.154784"
      ]
     },
     "execution_count": 62,
     "metadata": {},
     "output_type": "execute_result"
    }
   ],
   "source": [
    "#5 Mean and standard deviation of actual producivity for sewing and \n",
    "# finishing Histogram plot of actual productivity based on both department and conclusion accordingly\n",
    "print('The Mean and Std Dev of actual productivity for each dept:')\n",
    "df_g_emps.groupby(by='department')['actual_productivity'].agg(['mean', 'std'])"
   ]
  },
  {
   "cell_type": "code",
   "execution_count": 12,
   "id": "6c4494c4",
   "metadata": {},
   "outputs": [
    {
     "data": {
      "image/png": "[encoded data removed]",
      "text/plain": [
       "<Figure size 640x480 with 1 Axes>"
      ]
     },
     "metadata": {},
     "output_type": "display_data"
    }
   ],
   "source": [
    "sns.histplot(x=df_g_emps.department.unique(),\n",
    "             y=[df_g_emps[df_g_emps['department'] == 'sewing']['actual_productivity'].mean(),\n",
    "                df_g_emps[df_g_emps['department'] == 'finishing']['actual_productivity'].mean()])\n",
    "plt.ylim(0,1)\n",
    "plt.title('Actual Productivity per Dept')\n",
    "plt.ylabel('Actual Productivity')\n",
    "plt.xlabel('Dept')\n",
    "plt.show()"
   ]
  },
  {
   "cell_type": "code",
   "execution_count": 63,
   "id": "23a663ef",
   "metadata": {},
   "outputs": [
    {
     "data": {
      "text/plain": [
       "array([207.3, 207.3, 276.4])"
      ]
     },
     "execution_count": 63,
     "metadata": {},
     "output_type": "execute_result"
    }
   ],
   "source": [
    "expected_percents = [0.30, 0.30, 0.40]\n",
    "expected_values = np.array(expected_percents) * df_g_emps[df_g_emps['department'] == 'sewing']['productivity'].count()\n",
    "expected_values"
   ]
  },
  {
   "cell_type": "code",
   "execution_count": 64,
   "id": "fc8d1099",
   "metadata": {},
   "outputs": [
    {
     "data": {
      "text/plain": [
       "Power_divergenceResult(statistic=315.2952243125905, pvalue=3.4238281264112183e-69)"
      ]
     },
     "execution_count": 64,
     "metadata": {},
     "output_type": "execute_result"
    }
   ],
   "source": [
    "chisquare(f_obs=observed_values, f_exp=expected_values)"
   ]
  },
  {
   "cell_type": "code",
   "execution_count": null,
   "id": "48913acb",
   "metadata": {},
   "outputs": [],
   "source": []
  },
  {
   "cell_type": "markdown",
   "id": "c19c9221",
   "metadata": {},
   "source": [
    "Conclusion:\n",
    "    In conclusion, the actual productivity in the finishing department is estimated to be around 75%, with a standard deviation of 0.19, while in the sewing department it's approximately 72%, with a standard deviation of 0.15.\n",
    "\n",
    "Based on these point estimates, it appears that the finishing department is more productive than the sewing department."
   ]
  },
  {
   "cell_type": "code",
   "execution_count": 14,
   "id": "0b115fa2",
   "metadata": {},
   "outputs": [
    {
     "name": "stdout",
     "output_type": "stream",
     "text": [
      "No. of teams across the data:  12\n",
      "No. of SMVs across the data:  70\n"
     ]
    }
   ],
   "source": [
    "#6 Number count for teams, smv across the year\n",
    "print('No. of teams across the data: ', df_g_emps.team.nunique())\n",
    "print('No. of SMVs across the data: ', df_g_emps.smv.nunique())"
   ]
  },
  {
   "cell_type": "code",
   "execution_count": 16,
   "id": "e26330de",
   "metadata": {},
   "outputs": [
    {
     "data": {
      "image/png": "[encoded data removed]",
      "text/plain": [
       "<Figure size 1600x500 with 2 Axes>"
      ]
     },
     "metadata": {},
     "output_type": "display_data"
    }
   ],
   "source": [
    "#7 Histogram & Box plot of actual productivity based on all working days, \n",
    "# team size, quarterts and Conclude accordingly\n",
    "# 1. working Days\n",
    "plt.figure(figsize=(16,5))\n",
    "plt.subplot(1,2,1)\n",
    "sns.histplot(x=sorted(df_g_emps.day.unique()), y=df_g_emps.groupby(by='day')['actual_productivity'].mean())\n",
    "plt.ylim(0,1)\n",
    "plt.subplot(1,2,2)\n",
    "sns.boxplot(x=df_g_emps.day, y=df_g_emps.actual_productivity)\n",
    "plt.suptitle('--- Actual productivity per working day ----')\n",
    "plt.show()"
   ]
  },
  {
   "cell_type": "markdown",
   "id": "8032dbaf",
   "metadata": {},
   "source": [
    "Conclusion: \n",
    "\n",
    "In conclusion, it is evident that productivity is highest on Saturdays compared to other days. This trend may be attributed to the fact that Saturday marks the first working day of the week following the weekly off on Fridays."
   ]
  },
  {
   "cell_type": "code",
   "execution_count": 17,
   "id": "47b413df",
   "metadata": {},
   "outputs": [
    {
     "data": {
      "image/png": "[encoded data removed]",
      "text/plain": [
       "<Figure size 1600x500 with 2 Axes>"
      ]
     },
     "metadata": {},
     "output_type": "display_data"
    }
   ],
   "source": [
    "# Team wise\n",
    "plt.figure(figsize=(16,5))\n",
    "plt.subplot(1,2,1)\n",
    "sns.histplot(x=sorted(df_g_emps.team.unique()), y=df_g_emps.groupby(by='team')['actual_productivity'].mean())\n",
    "plt.ylim(0,1)\n",
    "plt.subplot(1,2,2)\n",
    "sns.boxplot(x=df_g_emps.team, y=df_g_emps.actual_productivity)\n",
    "plt.suptitle('Actual productivity per team')\n",
    "plt.show()"
   ]
  },
  {
   "cell_type": "markdown",
   "id": "2fe82ae1",
   "metadata": {},
   "source": [
    "Conclusion:\n",
    "\n",
    "In conclusion, Team 7 stands out as the most consistent team without any outliers. Despite having lower productivity compared to other teams, their data shows an almost symmetric interquartile range (IQR).\n",
    "\n",
    "Team 12, on the other hand, exhibits the highest number of outliers on both ends, indicating a skewed performance.\n",
    "\n",
    "Finally, Team 2 emerges as the top-performing team, boasting high productivity, a symmetric IQR, and only a few outliers on the lower end (Q1), with none on the upper end (Q4)."
   ]
  },
  {
   "cell_type": "code",
   "execution_count": 20,
   "id": "d845ce8b",
   "metadata": {},
   "outputs": [
    {
     "data": {
      "image/png": "[encoded data removed]",
      "text/plain": [
       "<Figure size 1600x500 with 2 Axes>"
      ]
     },
     "metadata": {},
     "output_type": "display_data"
    }
   ],
   "source": [
    "# Quarter wise\n",
    "plt.figure(figsize=(16,5))\n",
    "plt.subplot(1,2,1)\n",
    "sns.histplot(x=sorted(df_g_emps.quarter.unique()), y=df_g_emps.groupby(by='quarter')['actual_productivity'].mean())\n",
    "plt.ylim(0,1)\n",
    "plt.subplot(1,2,2)\n",
    "sns.boxplot(x=df_g_emps.quarter, y=df_g_emps.actual_productivity)\n",
    "plt.suptitle('Actual productivity per quarter')\n",
    "plt.show()"
   ]
  },
  {
   "cell_type": "markdown",
   "id": "ebe58f1e",
   "metadata": {},
   "source": [
    "In conclusion, the observed productivity levels are approximately 75% for Quarter 1 and Quarter 2, and around 70% for Quarter 3 and Quarter 4. It appears that workers tend to be more productive during the first two quarters, possibly due to the motivating factor of their rewarding salary.\n",
    "\n",
    "Note: Quarter 5 is excluded from analysis as it spans only three days and could potentially skew the data."
   ]
  },
  {
   "cell_type": "code",
   "execution_count": 61,
   "id": "fc931c0e",
   "metadata": {},
   "outputs": [
    {
     "data": {
      "text/html": [
       "<div>\n",
       "<style scoped>\n",
       "    .dataframe tbody tr th:only-of-type {\n",
       "        vertical-align: middle;\n",
       "    }\n",
       "\n",
       "    .dataframe tbody tr th {\n",
       "        vertical-align: top;\n",
       "    }\n",
       "\n",
       "    .dataframe thead th {\n",
       "        text-align: right;\n",
       "    }\n",
       "</style>\n",
       "<table border=\"1\" class=\"dataframe\">\n",
       "  <thead>\n",
       "    <tr style=\"text-align: right;\">\n",
       "      <th></th>\n",
       "      <th>team</th>\n",
       "      <th>targeted_productivity</th>\n",
       "      <th>smv</th>\n",
       "      <th>wip</th>\n",
       "      <th>over_time</th>\n",
       "      <th>incentive</th>\n",
       "      <th>idle_time</th>\n",
       "      <th>idle_men</th>\n",
       "      <th>no_of_style_change</th>\n",
       "      <th>no_of_workers</th>\n",
       "      <th>actual_productivity</th>\n",
       "    </tr>\n",
       "  </thead>\n",
       "  <tbody>\n",
       "    <tr>\n",
       "      <th>team</th>\n",
       "      <td>1.000000</td>\n",
       "      <td>0.030274</td>\n",
       "      <td>-0.110011</td>\n",
       "      <td>-0.033474</td>\n",
       "      <td>-0.096737</td>\n",
       "      <td>-0.007674</td>\n",
       "      <td>0.003796</td>\n",
       "      <td>0.026974</td>\n",
       "      <td>-0.011194</td>\n",
       "      <td>-0.075113</td>\n",
       "      <td>-0.148753</td>\n",
       "    </tr>\n",
       "    <tr>\n",
       "      <th>targeted_productivity</th>\n",
       "      <td>0.030274</td>\n",
       "      <td>1.000000</td>\n",
       "      <td>-0.069489</td>\n",
       "      <td>0.062054</td>\n",
       "      <td>-0.088557</td>\n",
       "      <td>0.032768</td>\n",
       "      <td>-0.056181</td>\n",
       "      <td>-0.053818</td>\n",
       "      <td>-0.209294</td>\n",
       "      <td>-0.084288</td>\n",
       "      <td>0.421594</td>\n",
       "    </tr>\n",
       "    <tr>\n",
       "      <th>smv</th>\n",
       "      <td>-0.110011</td>\n",
       "      <td>-0.069489</td>\n",
       "      <td>1.000000</td>\n",
       "      <td>-0.037837</td>\n",
       "      <td>0.674887</td>\n",
       "      <td>0.032629</td>\n",
       "      <td>0.056863</td>\n",
       "      <td>0.105901</td>\n",
       "      <td>0.315388</td>\n",
       "      <td>0.912176</td>\n",
       "      <td>-0.122089</td>\n",
       "    </tr>\n",
       "    <tr>\n",
       "      <th>wip</th>\n",
       "      <td>-0.033474</td>\n",
       "      <td>0.062054</td>\n",
       "      <td>-0.037837</td>\n",
       "      <td>1.000000</td>\n",
       "      <td>0.022302</td>\n",
       "      <td>0.167210</td>\n",
       "      <td>-0.026299</td>\n",
       "      <td>-0.048718</td>\n",
       "      <td>-0.072357</td>\n",
       "      <td>0.030383</td>\n",
       "      <td>0.131147</td>\n",
       "    </tr>\n",
       "    <tr>\n",
       "      <th>over_time</th>\n",
       "      <td>-0.096737</td>\n",
       "      <td>-0.088557</td>\n",
       "      <td>0.674887</td>\n",
       "      <td>0.022302</td>\n",
       "      <td>1.000000</td>\n",
       "      <td>-0.004793</td>\n",
       "      <td>0.031038</td>\n",
       "      <td>-0.017913</td>\n",
       "      <td>0.059790</td>\n",
       "      <td>0.734164</td>\n",
       "      <td>-0.054206</td>\n",
       "    </tr>\n",
       "    <tr>\n",
       "      <th>incentive</th>\n",
       "      <td>-0.007674</td>\n",
       "      <td>0.032768</td>\n",
       "      <td>0.032629</td>\n",
       "      <td>0.167210</td>\n",
       "      <td>-0.004793</td>\n",
       "      <td>1.000000</td>\n",
       "      <td>-0.012024</td>\n",
       "      <td>-0.021140</td>\n",
       "      <td>-0.026607</td>\n",
       "      <td>0.049222</td>\n",
       "      <td>0.076538</td>\n",
       "    </tr>\n",
       "    <tr>\n",
       "      <th>idle_time</th>\n",
       "      <td>0.003796</td>\n",
       "      <td>-0.056181</td>\n",
       "      <td>0.056863</td>\n",
       "      <td>-0.026299</td>\n",
       "      <td>0.031038</td>\n",
       "      <td>-0.012024</td>\n",
       "      <td>1.000000</td>\n",
       "      <td>0.559146</td>\n",
       "      <td>-0.011598</td>\n",
       "      <td>0.058049</td>\n",
       "      <td>-0.080851</td>\n",
       "    </tr>\n",
       "    <tr>\n",
       "      <th>idle_men</th>\n",
       "      <td>0.026974</td>\n",
       "      <td>-0.053818</td>\n",
       "      <td>0.105901</td>\n",
       "      <td>-0.048718</td>\n",
       "      <td>-0.017913</td>\n",
       "      <td>-0.021140</td>\n",
       "      <td>0.559146</td>\n",
       "      <td>1.000000</td>\n",
       "      <td>0.133632</td>\n",
       "      <td>0.106946</td>\n",
       "      <td>-0.181734</td>\n",
       "    </tr>\n",
       "    <tr>\n",
       "      <th>no_of_style_change</th>\n",
       "      <td>-0.011194</td>\n",
       "      <td>-0.209294</td>\n",
       "      <td>0.315388</td>\n",
       "      <td>-0.072357</td>\n",
       "      <td>0.059790</td>\n",
       "      <td>-0.026607</td>\n",
       "      <td>-0.011598</td>\n",
       "      <td>0.133632</td>\n",
       "      <td>1.000000</td>\n",
       "      <td>0.327787</td>\n",
       "      <td>-0.207366</td>\n",
       "    </tr>\n",
       "    <tr>\n",
       "      <th>no_of_workers</th>\n",
       "      <td>-0.075113</td>\n",
       "      <td>-0.084288</td>\n",
       "      <td>0.912176</td>\n",
       "      <td>0.030383</td>\n",
       "      <td>0.734164</td>\n",
       "      <td>0.049222</td>\n",
       "      <td>0.058049</td>\n",
       "      <td>0.106946</td>\n",
       "      <td>0.327787</td>\n",
       "      <td>1.000000</td>\n",
       "      <td>-0.057991</td>\n",
       "    </tr>\n",
       "    <tr>\n",
       "      <th>actual_productivity</th>\n",
       "      <td>-0.148753</td>\n",
       "      <td>0.421594</td>\n",
       "      <td>-0.122089</td>\n",
       "      <td>0.131147</td>\n",
       "      <td>-0.054206</td>\n",
       "      <td>0.076538</td>\n",
       "      <td>-0.080851</td>\n",
       "      <td>-0.181734</td>\n",
       "      <td>-0.207366</td>\n",
       "      <td>-0.057991</td>\n",
       "      <td>1.000000</td>\n",
       "    </tr>\n",
       "  </tbody>\n",
       "</table>\n",
       "</div>"
      ],
      "text/plain": [
       "                           team  targeted_productivity       smv       wip  \\\n",
       "team                   1.000000               0.030274 -0.110011 -0.033474   \n",
       "targeted_productivity  0.030274               1.000000 -0.069489  0.062054   \n",
       "smv                   -0.110011              -0.069489  1.000000 -0.037837   \n",
       "wip                   -0.033474               0.062054 -0.037837  1.000000   \n",
       "over_time             -0.096737              -0.088557  0.674887  0.022302   \n",
       "incentive             -0.007674               0.032768  0.032629  0.167210   \n",
       "idle_time              0.003796              -0.056181  0.056863 -0.026299   \n",
       "idle_men               0.026974              -0.053818  0.105901 -0.048718   \n",
       "no_of_style_change    -0.011194              -0.209294  0.315388 -0.072357   \n",
       "no_of_workers         -0.075113              -0.084288  0.912176  0.030383   \n",
       "actual_productivity   -0.148753               0.421594 -0.122089  0.131147   \n",
       "\n",
       "                       over_time  incentive  idle_time  idle_men  \\\n",
       "team                   -0.096737  -0.007674   0.003796  0.026974   \n",
       "targeted_productivity  -0.088557   0.032768  -0.056181 -0.053818   \n",
       "smv                     0.674887   0.032629   0.056863  0.105901   \n",
       "wip                     0.022302   0.167210  -0.026299 -0.048718   \n",
       "over_time               1.000000  -0.004793   0.031038 -0.017913   \n",
       "incentive              -0.004793   1.000000  -0.012024 -0.021140   \n",
       "idle_time               0.031038  -0.012024   1.000000  0.559146   \n",
       "idle_men               -0.017913  -0.021140   0.559146  1.000000   \n",
       "no_of_style_change      0.059790  -0.026607  -0.011598  0.133632   \n",
       "no_of_workers           0.734164   0.049222   0.058049  0.106946   \n",
       "actual_productivity    -0.054206   0.076538  -0.080851 -0.181734   \n",
       "\n",
       "                       no_of_style_change  no_of_workers  actual_productivity  \n",
       "team                            -0.011194      -0.075113            -0.148753  \n",
       "targeted_productivity           -0.209294      -0.084288             0.421594  \n",
       "smv                              0.315388       0.912176            -0.122089  \n",
       "wip                             -0.072357       0.030383             0.131147  \n",
       "over_time                        0.059790       0.734164            -0.054206  \n",
       "incentive                       -0.026607       0.049222             0.076538  \n",
       "idle_time                       -0.011598       0.058049            -0.080851  \n",
       "idle_men                         0.133632       0.106946            -0.181734  \n",
       "no_of_style_change               1.000000       0.327787            -0.207366  \n",
       "no_of_workers                    0.327787       1.000000            -0.057991  \n",
       "actual_productivity             -0.207366      -0.057991             1.000000  "
      ]
     },
     "execution_count": 61,
     "metadata": {},
     "output_type": "execute_result"
    }
   ],
   "source": [
    "#8 Find correlation matrix and draw heat map for all variables\n",
    "\n",
    "heat = df_g_emps.corr(numeric_only=True)\n",
    "heat\n",
    "\n"
   ]
  },
  {
   "cell_type": "code",
   "execution_count": 22,
   "id": "433b2ae5",
   "metadata": {},
   "outputs": [
    {
     "data": {
      "image/png": "[encoded data removed]",
      "text/plain": [
       "<Figure size 640x480 with 2 Axes>"
      ]
     },
     "metadata": {},
     "output_type": "display_data"
    }
   ],
   "source": [
    "#sns.heatmap(heat, cmap='YlGnBu')\n",
    "sns.heatmap(heat, cmap='coolwarm')\n",
    "plt.title('Heat map - Correlation Matrix')\n",
    "plt.show()"
   ]
  },
  {
   "cell_type": "code",
   "execution_count": null,
   "id": "0d9b8267",
   "metadata": {},
   "outputs": [],
   "source": [
    "#9 Conclude (Is the company able to meet target, are they giving incentives based on producitivity, \n",
    "# does overtime have any effect on productivity)\n"
   ]
  },
  {
   "cell_type": "markdown",
   "id": "188969a2",
   "metadata": {},
   "source": [
    "In summary, the correlation statistic and heat map reveal several insights:\n",
    "\n",
    "The company generally meets targeted productivity, indicated by a positive correlation value.\n",
    "There is a weak correlation between incentive-based pay and productivity, suggesting that the company's incentive system may not significantly impact production levels despite the positive correlation.\n",
    "Overtime hours do not seem to have a significant effect on worker productivity, as indicated by a correlation that tends towards 0."
   ]
  },
  {
   "cell_type": "code",
   "execution_count": 26,
   "id": "d641d2c0",
   "metadata": {},
   "outputs": [
    {
     "name": "stdout",
     "output_type": "stream",
     "text": [
      "\n",
      "The correlation between Target and Actual productivity in Q1: 0.49277933867351814\n",
      "\n",
      "The correlation between Target and Actual productivity in Q2: 0.42716393082180437\n",
      "\n",
      "The correlation between Target and Actual productivity in Q3: 0.39263722595670103\n",
      "\n",
      "The correlation between Target and Actual productivity in Q4: 0.34759413955931234\n",
      "\n",
      "The correlation between Target and Actual productivity in Sewing Dept: 0.6979697346204635\n",
      "\n",
      "The correlation between Target and Actual productivity in Finishing Dept: 0.09751042868300777\n"
     ]
    }
   ],
   "source": [
    "#10 Find the correlation between actual and target productivity for every quarter \n",
    "# and for every department. What do you conclude\n",
    "# Quarter wise data\n",
    "\n",
    "q1 = df_g_emps[df_g_emps['quarter'] == 'Quarter1']\n",
    "q2 = df_g_emps[df_g_emps['quarter'] == 'Quarter2']\n",
    "q3 = df_g_emps[df_g_emps['quarter'] == 'Quarter3']\n",
    "q4 = df_g_emps[df_g_emps['quarter'] == 'Quarter4']\n",
    "\n",
    "# Department wise data\n",
    "sew = df_g_emps[df_g_emps['department'] == 'sewing']\n",
    "fin = df_g_emps[df_g_emps['department'] == 'finishing']\n",
    "\n",
    "print('\\nThe correlation between Target and Actual productivity in Q1:', q1.targeted_productivity.corr(q1.actual_productivity))\n",
    "print('\\nThe correlation between Target and Actual productivity in Q2:', q2.targeted_productivity.corr(q2.actual_productivity))\n",
    "print('\\nThe correlation between Target and Actual productivity in Q3:', q3.targeted_productivity.corr(q3.actual_productivity))\n",
    "print('\\nThe correlation between Target and Actual productivity in Q4:', q4.targeted_productivity.corr(q4.actual_productivity))\n",
    "print('\\nThe correlation between Target and Actual productivity in Sewing Dept:', sew.targeted_productivity.corr(sew.actual_productivity))\n",
    "print('\\nThe correlation between Target and Actual productivity in Finishing Dept:', fin.targeted_productivity.corr(fin.actual_productivity))"
   ]
  },
  {
   "cell_type": "markdown",
   "id": "38720acd",
   "metadata": {},
   "source": [
    "\n",
    "In conclusion, the correlation statistic highlights the following observations:\n",
    "\n",
    "Targeted and actual productivity exhibit the strongest correlation in Quarter 1, decreasing gradually with each subsequent quarter, reaching its weakest point in Quarter 4. Despite this, they maintain a positive relationship throughout.\n",
    "The sewing department demonstrates a strong correlation between targeted and actual productivity. However, in the finishing department, there appears to be no significant correlation between targeted and actual productivity, with the correlation statistic approaching 0."
   ]
  },
  {
   "cell_type": "code",
   "execution_count": null,
   "id": "3f83376a",
   "metadata": {},
   "outputs": [],
   "source": [
    "#11 Based on the above details of EDA and Descriptive statisitcs analysis what would you  \n",
    "# say could be the possible factors which can affect producitivity."
   ]
  },
  {
   "cell_type": "markdown",
   "id": "a0f03084",
   "metadata": {},
   "source": [
    "\n",
    "Based on the descriptive statistics provided:\n",
    "\n",
    "Workers exhibit their highest productivity in Quarter 1, with a gradual decline in productivity observed in subsequent quarters.\n",
    "While Team 7 displays the most consistent performance, it is evident that Team 2 achieves notably higher productivity levels.\n",
    "Saturdays, following the weekly holiday on Fridays, coincide with peak productivity among workers.\n",
    "Incentives do not appear to be correlated with productivity, and overtime hours do not significantly influence productivity levels.\n",
    "Two variables negatively impacting actual productivity are identified as idle workers and the number of style changes."
   ]
  },
  {
   "cell_type": "markdown",
   "id": "f2dea8fc",
   "metadata": {},
   "source": [
    "Hypothesis Testing \n",
    "\n",
    "12. Test using Z test (take a random sample of more than 30 and assume sigma =.1) whether the finishing department has achieved more acheived producitivity than .75 for a standard deviation of .1. State your null and alternative hypothesis. alpha value is .05\n",
    "\n",
    "13. Test using Z test(take a random sample of more than 30 and assume sigma =.1) whether the sewing department has achieved more producitivit than .75 for a standard deviation of .1. State your null and alternative hypothesis. alpha value is .05.\n",
    "\n",
    "14. Conduct a two sample t test (take a random sample more than 30) to check whether the finishing department has achieved more actual productivtiy than sewing     department. State your null and alternative hypothesis \n",
    "\n",
    "15. Conduct a two sample t (take a random sample less than 30) test to check whether the finishing department has achieved obtained higher incentive than sewing department, state your null and alternative hypothesis. In case test fails for normality check, then take a sample more than 30. \n",
    "\n",
    "16. The manager has asked you to classifiy low productivity as less than .5, medium between .5 and less than .75 and higher\n",
    "    as greater than or equal to .75. He believes that the percentage of  actual producvity  in  sewing departemnt for   \n",
    "    person classified as low is 30%, for medium is 40% and for high is 30%. USing chi square test can you prove whether his \n",
    "    hypothesis is right or not \n",
    "\n",
    "17. Based on the EDA analysis the manager has decided to find out whether different quarters are having an impact on actual productivity. Assuming normality of data conduct an analysis accordingly Conduct an ANOVA for comparing productivity for Quarter1, Quarter2, Quarter3, Quarter 4 and accordingly conclude (Assume data is normally distributed)\n",
    "\n",
    "18. Based on the EDA analysis the manager has decided to find out whether different days  are having an impact on actual productivity. Assuming normality of data conduct an analysis accordingly Conduct an ANOVA for comparing productivity for Quarter1, Quarter2, Quarter3, Quarter 4 and accordingly conclude (Assume data is normally distributed)\n",
    "\n",
    "19. In case the manager is interested whether day and quarters have an impact on actual producitivity, provide an analysis and identify which factors play a role in affecting productivty\n",
    "\n",
    "20. Based on 17 eliminate one of the variabes which is not significant and reconduct analysis using deparment as another variable, what do you conclude.\n",
    "\n",
    "21. Based on EDA and Hypothesis would you aggree or disaggree with the finding, also in addition summarize the findings based on both analysis and provide a recommendation on what you can thinking on improving the producitivity. \n"
   ]
  },
  {
   "cell_type": "code",
   "execution_count": 28,
   "id": "a79f440c",
   "metadata": {},
   "outputs": [
    {
     "data": {
      "text/plain": [
       "ShapiroResult(statistic=0.9067546129226685, pvalue=7.239233673317358e-05)"
      ]
     },
     "execution_count": 28,
     "metadata": {},
     "output_type": "execute_result"
    }
   ],
   "source": [
    "#12 Test using Z test (take a random sample of more than 30 and assume sigma =.1) whether the finishing department has achieved more acheived producitivity than .75 for a standard deviation of .1. \n",
    "# State your null and alternative hypothesis. alpha value is .05.\n",
    "\n",
    "import random\n",
    "sample_finishing = random.sample(list(df_g_emps[df_g_emps['department'] == 'finishing']['actual_productivity']), 70)\n",
    "\n",
    "stats.shapiro(sample_finishing)\n"
   ]
  },
  {
   "cell_type": "markdown",
   "id": "6f24e60c",
   "metadata": {},
   "source": [
    "Since the P Value is less than 0.05, we can conclude that the data does not follow normal distribution.\n",
    "\n",
    "Assuming normal distribution and proceeding with Z Test."
   ]
  },
  {
   "cell_type": "code",
   "execution_count": 29,
   "id": "4adf17da",
   "metadata": {},
   "outputs": [
    {
     "data": {
      "text/plain": [
       "1.64"
      ]
     },
     "execution_count": 29,
     "metadata": {},
     "output_type": "execute_result"
    }
   ],
   "source": [
    "# Calculating the Critical Value\n",
    "round(stats.norm.isf(0.05), 2)"
   ]
  },
  {
   "cell_type": "markdown",
   "id": "3448820b",
   "metadata": {},
   "source": [
    "If the Z Statistic value is greater than 1.64, we can reject the null hypothesis."
   ]
  },
  {
   "cell_type": "code",
   "execution_count": 32,
   "id": "e5b8b114",
   "metadata": {},
   "outputs": [
    {
     "data": {
      "text/plain": [
       "(-0.5289320413556324, 0.7015737030885058)"
      ]
     },
     "execution_count": 32,
     "metadata": {},
     "output_type": "execute_result"
    }
   ],
   "source": [
    "import statsmodels.stats.weightstats as stests\n",
    "stests.ztest(sample_finishing, value=0.75, alternative='larger')"
   ]
  },
  {
   "cell_type": "markdown",
   "id": "08c26e6e",
   "metadata": {},
   "source": [
    "Given that the Z statistic is below the critical value of 1.64 and the p-value exceeds 0.05, we do not reject the null hypothesis. Therefore, there is sufficient evidence to indicate that the finishing department has attained productivity levels greater than 0.75.\n"
   ]
  },
  {
   "cell_type": "code",
   "execution_count": null,
   "id": "0a3d0c44",
   "metadata": {},
   "outputs": [],
   "source": []
  },
  {
   "cell_type": "code",
   "execution_count": 34,
   "id": "c324218b",
   "metadata": {},
   "outputs": [
    {
     "data": {
      "text/plain": [
       "ShapiroResult(statistic=0.8819565773010254, pvalue=8.0649742812966e-06)"
      ]
     },
     "execution_count": 34,
     "metadata": {},
     "output_type": "execute_result"
    }
   ],
   "source": [
    "#13 Test using Z test(take a random sample of more than 30 and assume sigma =.1) whether the sewing department has achieved more producitivit than .75 for a standard deviation of .1. \n",
    "# State your null and alternative hypothesis. alpha value is .05.\n",
    "\n",
    "sample_sewing = random.sample(list(df_g_emps[df_g_emps['department'] == 'sewing']['actual_productivity']), 70)\n",
    "\n",
    "stats.shapiro(sample_sewing)"
   ]
  },
  {
   "cell_type": "markdown",
   "id": "13c203ab",
   "metadata": {},
   "source": [
    "Given that the p-value is less than 0.05, we can conclude that the data does not follow a normal distribution. However, for the purpose of the analysis, we will proceed with a Z test assuming normal distribution."
   ]
  },
  {
   "cell_type": "code",
   "execution_count": 36,
   "id": "5c5cd353",
   "metadata": {},
   "outputs": [
    {
     "data": {
      "text/plain": [
       "1.64"
      ]
     },
     "execution_count": 36,
     "metadata": {},
     "output_type": "execute_result"
    }
   ],
   "source": [
    "# Calculating the Critical Value\n",
    "round(stats.norm.isf(0.05), 2)"
   ]
  },
  {
   "cell_type": "markdown",
   "id": "8ec5cc24",
   "metadata": {},
   "source": [
    "If the Z statistic value exceeds 1.64, we have sufficient evidence to reject the null hypothesis."
   ]
  },
  {
   "cell_type": "code",
   "execution_count": 37,
   "id": "8aa976ba",
   "metadata": {},
   "outputs": [
    {
     "data": {
      "text/plain": [
       "(-1.4888536302392044, 0.9317370418460889)"
      ]
     },
     "execution_count": 37,
     "metadata": {},
     "output_type": "execute_result"
    }
   ],
   "source": [
    "stests.ztest(sample_sewing, value=0.75, alternative='larger')"
   ]
  },
  {
   "cell_type": "markdown",
   "id": "12f166ff",
   "metadata": {},
   "source": [
    "Given that the Z statistic is less than the critical value of 1.64 and the p-value is greater than 0.05, we fail to reject the null hypothesis. Therefore, there is not enough evidence to conclude that the sewing department has achieved productivity levels greater than 0.75.\n"
   ]
  },
  {
   "cell_type": "code",
   "execution_count": 60,
   "id": "eee7e80d",
   "metadata": {},
   "outputs": [
    {
     "data": {
      "text/plain": [
       "LeveneResult(statistic=9.494577990669786, pvalue=0.0024882915754839987)"
      ]
     },
     "execution_count": 60,
     "metadata": {},
     "output_type": "execute_result"
    }
   ],
   "source": [
    "#14\n",
    "samp_sewing = random.sample(list(df_g_emps[df_g_emps['department'] == 'sewing']['actual_productivity']), 70)\n",
    "samp_finishing = random.sample(list(df_g_emps[df_g_emps['department'] == 'finishing']['actual_productivity']), 70)\n",
    "# Levene test to check for equality of variences\n",
    "stats.levene(samp_finishing, samp_sewing)"
   ]
  },
  {
   "cell_type": "markdown",
   "id": "c1874657",
   "metadata": {},
   "source": [
    "\n",
    "Since the p-value is less than 0.05, indicating a significant difference in variances, we cannot assume equality of variances. Therefore, we will proceed with a t-test without assuming equal variances."
   ]
  },
  {
   "cell_type": "code",
   "execution_count": 40,
   "id": "2329045b",
   "metadata": {},
   "outputs": [
    {
     "data": {
      "text/plain": [
       "1.66"
      ]
     },
     "execution_count": 40,
     "metadata": {},
     "output_type": "execute_result"
    }
   ],
   "source": [
    "# Calculating the critical Value\n",
    "round(stats.t.isf(0.05, (140 - 2)), 2)"
   ]
  },
  {
   "cell_type": "markdown",
   "id": "2d264f7b",
   "metadata": {},
   "source": [
    "If the T Statistic is greater then 1.66, we can reject the null hypothesis."
   ]
  },
  {
   "cell_type": "code",
   "execution_count": 41,
   "id": "c8e21fb3",
   "metadata": {},
   "outputs": [
    {
     "data": {
      "text/plain": [
       "Ttest_indResult(statistic=1.4432178721725197, pvalue=0.07561261984070222)"
      ]
     },
     "execution_count": 41,
     "metadata": {},
     "output_type": "execute_result"
    }
   ],
   "source": [
    "stats.ttest_ind(samp_finishing, samp_sewing, alternative='greater')"
   ]
  },
  {
   "cell_type": "markdown",
   "id": "b68881c3",
   "metadata": {},
   "source": [
    "Conclusion:\n",
    "    \n",
    "    Given that the t-statistic is less than 1.64 and the p-value is greater than 0.05, we fail to reject the null hypothesis. Therefore, there is not enough evidence to conclude that the actual productivity of the finishing department is greater than that of the sewing department.\n",
    "\n",
    "\n",
    "\n",
    "\n",
    "\n",
    "\n"
   ]
  },
  {
   "cell_type": "code",
   "execution_count": 59,
   "id": "66713691",
   "metadata": {},
   "outputs": [],
   "source": [
    "#15\n",
    "\n",
    "samp_in_sew = random.sample(list(df_g_emps[df_g_emps['department'] == 'sewing']['incentive']), 25)\n",
    "samp_in_fin = random.sample(list(df_g_emps[df_g_emps['department'] == 'finishing']['incentive']), 25)"
   ]
  },
  {
   "cell_type": "code",
   "execution_count": 44,
   "id": "428f91e0",
   "metadata": {},
   "outputs": [
    {
     "data": {
      "text/plain": [
       "ShapiroResult(statistic=0.8749644756317139, pvalue=0.005449673626571894)"
      ]
     },
     "execution_count": 44,
     "metadata": {},
     "output_type": "execute_result"
    }
   ],
   "source": [
    "stats.shapiro(samp_in_sew)"
   ]
  },
  {
   "cell_type": "code",
   "execution_count": 45,
   "id": "ec1367d7",
   "metadata": {},
   "outputs": [
    {
     "name": "stderr",
     "output_type": "stream",
     "text": [
      "/Users/deepikakothamasu/anaconda3/lib/python3.11/site-packages/scipy/stats/_morestats.py:1813: UserWarning: Input data for shapiro has range zero. The results may not be accurate.\n",
      "  warnings.warn(\"Input data for shapiro has range zero. The results \"\n"
     ]
    },
    {
     "data": {
      "text/plain": [
       "ShapiroResult(statistic=1.0, pvalue=1.0)"
      ]
     },
     "execution_count": 45,
     "metadata": {},
     "output_type": "execute_result"
    }
   ],
   "source": [
    "stats.shapiro(samp_in_fin)"
   ]
  },
  {
   "cell_type": "markdown",
   "id": "c287f439",
   "metadata": {},
   "source": [
    "\n",
    "For sample sizes smaller than 30, the normality test may not provide reliable results. Therefore, it's advisable to gather larger samples to ensure the validity of the normality assumption.\n"
   ]
  },
  {
   "cell_type": "code",
   "execution_count": 58,
   "id": "5a979ad2",
   "metadata": {},
   "outputs": [],
   "source": [
    "samp_in_sew = random.sample(list(df_g_emps[df_g_emps['department'] == 'sewing']['incentive']), 100)\n",
    "samp_in_fin = random.sample(list(df_g_emps[df_g_emps['department'] == 'finishing']['incentive']), 100)"
   ]
  },
  {
   "cell_type": "code",
   "execution_count": 48,
   "id": "b31e753c",
   "metadata": {},
   "outputs": [
    {
     "data": {
      "text/plain": [
       "ShapiroResult(statistic=0.9556000232696533, pvalue=0.001977095380425453)"
      ]
     },
     "execution_count": 48,
     "metadata": {},
     "output_type": "execute_result"
    }
   ],
   "source": [
    "stats.shapiro(samp_in_sew)"
   ]
  },
  {
   "cell_type": "code",
   "execution_count": 49,
   "id": "4c928e8e",
   "metadata": {},
   "outputs": [
    {
     "data": {
      "text/plain": [
       "ShapiroResult(statistic=0.07519251108169556, pvalue=3.3711737281791994e-22)"
      ]
     },
     "execution_count": 49,
     "metadata": {},
     "output_type": "execute_result"
    }
   ],
   "source": [
    "stats.shapiro(samp_in_fin)"
   ]
  },
  {
   "cell_type": "code",
   "execution_count": 50,
   "id": "953393ea",
   "metadata": {},
   "outputs": [
    {
     "data": {
      "text/plain": [
       "LeveneResult(statistic=1.056033871485325, pvalue=0.30537526166843487)"
      ]
     },
     "execution_count": 50,
     "metadata": {},
     "output_type": "execute_result"
    }
   ],
   "source": [
    "# Levene test for equality of variences\n",
    "stats.levene(samp_in_fin, samp_in_sew)"
   ]
  },
  {
   "cell_type": "markdown",
   "id": "06128b58",
   "metadata": {},
   "source": [
    "From the above result, we see that the P Value is greater than 0.05 and hence We can conclude that the variances are equal."
   ]
  },
  {
   "cell_type": "code",
   "execution_count": 51,
   "id": "541ad3db",
   "metadata": {},
   "outputs": [
    {
     "data": {
      "text/plain": [
       "1.65"
      ]
     },
     "execution_count": 51,
     "metadata": {},
     "output_type": "execute_result"
    }
   ],
   "source": [
    "# Calculating the critical Value\n",
    "round(stats.t.isf(0.05, (200 - 2)), 2)"
   ]
  },
  {
   "cell_type": "markdown",
   "id": "eb457b50",
   "metadata": {},
   "source": [
    "Because the the T Statistic is greater than 1.65, we can now reject the null hypothesis."
   ]
  },
  {
   "cell_type": "code",
   "execution_count": 52,
   "id": "446ec002",
   "metadata": {},
   "outputs": [
    {
     "data": {
      "text/plain": [
       "Ttest_indResult(statistic=-3.6168930651437083, pvalue=0.9998108170996483)"
      ]
     },
     "execution_count": 52,
     "metadata": {},
     "output_type": "execute_result"
    }
   ],
   "source": [
    "stats.ttest_ind(samp_in_fin, samp_in_sew, alternative='greater')"
   ]
  },
  {
   "cell_type": "markdown",
   "id": "088aa824",
   "metadata": {},
   "source": [
    "\n",
    "In conclusion, with a T statistic below 1.65 and a P-value exceeding 0.05, we fail to reject the null hypothesis. Thus, there isn't sufficient evidence to support the claim that the finishing department has received more incentive than the sewing department."
   ]
  },
  {
   "cell_type": "markdown",
   "id": "dd100879",
   "metadata": {},
   "source": [
    "Despite the Shapiro-Wilk test indicating a lack of normality even with a large sample size, we'll proceed by assuming normality and conduct the t-test.\n"
   ]
  },
  {
   "cell_type": "code",
   "execution_count": 57,
   "id": "adff4c92",
   "metadata": {},
   "outputs": [
    {
     "data": {
      "text/plain": [
       "productivity\n",
       "high      414\n",
       "low        69\n",
       "medium    208\n",
       "Name: productivity, dtype: int64"
      ]
     },
     "execution_count": 57,
     "metadata": {},
     "output_type": "execute_result"
    }
   ],
   "source": [
    "#16 The manager has asked you to classifiy low productivity as less than .5, \n",
    "# medium between .5 and less than .75 and higher as greater than or equal to .75. \n",
    "# He believes that the percentage of actual producvity in sewing departemnt for person classified as low is 30%, for medium is 40% and for high is 30%. USing chi square test can you prove whether his hypothesis is right or not?\n",
    "\n",
    "# H0: The manager's claim is correct\n",
    "# H1: The manager's claim is not correct\n",
    "\n",
    "condition = [(df_g_emps['actual_productivity'] < 0.5),\n",
    "             (df_g_emps['actual_productivity'] >= 0.5) & (df_g_emps['actual_productivity'] < 0.75),\n",
    "             (df_g_emps['actual_productivity'] >= 0.75)]\n",
    "value = ['low', 'medium', 'high']\n",
    "\n",
    "df_g_emps['productivity'] = np.select(condition, value)\n",
    "observed_values = df_g_emps[df_g_emps['department'] == 'sewing'].groupby(by='productivity')['productivity'].count()\n",
    "observed_values\n"
   ]
  },
  {
   "cell_type": "markdown",
   "id": "50f242e9",
   "metadata": {},
   "source": [
    "\n",
    "In conclusion, with the P-value nearly at 0, we reject the null hypothesis. There is enough evidence to disprove the Manager's Claim.\n"
   ]
  },
  {
   "cell_type": "code",
   "execution_count": 1,
   "id": "710b45b8",
   "metadata": {},
   "outputs": [],
   "source": [
    "#17 Based on the EDA analysis the manager has decided to find out whether different quarters are having an impact on actual productivity. Assuming normality of data conduct an analysis accordingly Conduct an ANOVA for comparing productivity for Quarter1, Quarter2, Quarter3, Quarter 4 and \n",
    "# accordingly conclude (Assume data is normally distributed).\n",
    "\n"
   ]
  },
  {
   "cell_type": "markdown",
   "id": "e0b1febb",
   "metadata": {},
   "source": [
    "Hypothesis\n",
    "H0: The actual productivity for all the quarters is the same\n",
    "H1: The actual productivity of at least one of the quarters is different"
   ]
  },
  {
   "cell_type": "code",
   "execution_count": 65,
   "id": "2e677071",
   "metadata": {},
   "outputs": [],
   "source": [
    "# Given data\n",
    "qt1 = df_g_emps[df_g_emps['quarter'] == 'Quarter1']['actual_productivity']\n",
    "qt2 = df_g_emps[df_g_emps['quarter'] == 'Quarter2']['actual_productivity']\n",
    "qt3 = df_g_emps[df_g_emps['quarter'] == 'Quarter3']['actual_productivity']\n",
    "qt4 = df_g_emps[df_g_emps['quarter'] == 'Quarter4']['actual_productivity']"
   ]
  },
  {
   "cell_type": "code",
   "execution_count": 66,
   "id": "547f7a37",
   "metadata": {},
   "outputs": [
    {
     "data": {
      "text/plain": [
       "LeveneResult(statistic=2.235514108192818, pvalue=0.08246483203771338)"
      ]
     },
     "execution_count": 66,
     "metadata": {},
     "output_type": "execute_result"
    }
   ],
   "source": [
    "# Assuming normality and conducting levene test\n",
    "stats.levene(qt1, qt2, qt3, qt4)"
   ]
  },
  {
   "cell_type": "markdown",
   "id": "066e332d",
   "metadata": {},
   "source": [
    "The P Value is greater then 0.05. We can conclude that the variances are equal."
   ]
  },
  {
   "cell_type": "code",
   "execution_count": 67,
   "id": "91434b2a",
   "metadata": {},
   "outputs": [
    {
     "data": {
      "text/plain": [
       "2.61"
      ]
     },
     "execution_count": 67,
     "metadata": {},
     "output_type": "execute_result"
    }
   ],
   "source": [
    "# Calculating critical value\n",
    "groups = df_g_emps.quarter.nunique() - 1 # Since we are ignoring Quarter5\n",
    "observations = qt1.count() + qt2.count() + qt3.count() + qt4.count()\n",
    "\n",
    "dfn = groups - 1\n",
    "dfd = observations - groups\n",
    "\n",
    "round(stats.f.isf(0.05, dfn, dfd), 2)"
   ]
  },
  {
   "cell_type": "markdown",
   "id": "15cccad7",
   "metadata": {},
   "source": [
    "If the F Statistic is greater than 2.61, we can reject the null hypothesis."
   ]
  },
  {
   "cell_type": "code",
   "execution_count": 68,
   "id": "36bf7c46",
   "metadata": {},
   "outputs": [
    {
     "data": {
      "text/plain": [
       "F_onewayResult(statistic=5.274463802636486, pvalue=0.0012927759459059219)"
      ]
     },
     "execution_count": 68,
     "metadata": {},
     "output_type": "execute_result"
    }
   ],
   "source": [
    "stats.f_oneway(qt1, qt2, qt3, qt4)"
   ]
  },
  {
   "cell_type": "markdown",
   "id": "1291bd0f",
   "metadata": {},
   "source": [
    "Conclusion\n",
    "The F Statistic is greater than 2.61 and the P Value is less then 0.05. We can reject the null hypothesis.\n",
    "The productivity of at least one of the quarters is different."
   ]
  },
  {
   "cell_type": "code",
   "execution_count": 71,
   "id": "8de2bab0",
   "metadata": {},
   "outputs": [
    {
     "data": {
      "text/html": [
       "<table class=\"simpletable\">\n",
       "<caption>Multiple Comparison of Means - Tukey HSD, FWER=0.05</caption>\n",
       "<tr>\n",
       "   <th>group1</th>   <th>group2</th>  <th>meandiff</th>  <th>p-adj</th>  <th>lower</th>   <th>upper</th>  <th>reject</th>\n",
       "</tr>\n",
       "<tr>\n",
       "  <td>Quarter1</td> <td>Quarter2</td>  <td>-0.0079</td> <td>0.9753</td> <td>-0.0437</td>  <td>0.028</td>   <td>False</td>\n",
       "</tr>\n",
       "<tr>\n",
       "  <td>Quarter1</td> <td>Quarter3</td>  <td>-0.0468</td> <td>0.0159</td> <td>-0.0878</td> <td>-0.0058</td>  <td>True</td> \n",
       "</tr>\n",
       "<tr>\n",
       "  <td>Quarter1</td> <td>Quarter4</td>  <td>-0.0425</td> <td>0.0244</td> <td>-0.0814</td> <td>-0.0036</td>  <td>True</td> \n",
       "</tr>\n",
       "<tr>\n",
       "  <td>Quarter1</td> <td>Quarter5</td>  <td>0.0746</td>  <td>0.0538</td> <td>-0.0007</td>  <td>0.15</td>    <td>False</td>\n",
       "</tr>\n",
       "<tr>\n",
       "  <td>Quarter2</td> <td>Quarter3</td>  <td>-0.039</td>  <td>0.0782</td> <td>-0.0805</td> <td>0.0026</td>   <td>False</td>\n",
       "</tr>\n",
       "<tr>\n",
       "  <td>Quarter2</td> <td>Quarter4</td>  <td>-0.0346</td> <td>0.1175</td> <td>-0.0742</td> <td>0.0049</td>   <td>False</td>\n",
       "</tr>\n",
       "<tr>\n",
       "  <td>Quarter2</td> <td>Quarter5</td>  <td>0.0825</td>  <td>0.0247</td> <td>0.0068</td>  <td>0.1581</td>   <td>True</td> \n",
       "</tr>\n",
       "<tr>\n",
       "  <td>Quarter3</td> <td>Quarter4</td>  <td>0.0043</td>  <td>0.9989</td> <td>-0.0399</td> <td>0.0486</td>   <td>False</td>\n",
       "</tr>\n",
       "<tr>\n",
       "  <td>Quarter3</td> <td>Quarter5</td>  <td>0.1214</td>  <td>0.0002</td> <td>0.0432</td>  <td>0.1997</td>   <td>True</td> \n",
       "</tr>\n",
       "<tr>\n",
       "  <td>Quarter4</td> <td>Quarter5</td>  <td>0.1171</td>  <td>0.0004</td> <td>0.0399</td>  <td>0.1943</td>   <td>True</td> \n",
       "</tr>\n",
       "</table>"
      ],
      "text/latex": [
       "\\begin{center}\n",
       "\\begin{tabular}{ccccccc}\n",
       "\\toprule\n",
       "\\textbf{group1} & \\textbf{group2} & \\textbf{meandiff} & \\textbf{p-adj} & \\textbf{lower} & \\textbf{upper} & \\textbf{reject}  \\\\\n",
       "\\midrule\n",
       "    Quarter1    &     Quarter2    &      -0.0079      &     0.9753     &    -0.0437     &     0.028      &      False       \\\\\n",
       "    Quarter1    &     Quarter3    &      -0.0468      &     0.0159     &    -0.0878     &    -0.0058     &       True       \\\\\n",
       "    Quarter1    &     Quarter4    &      -0.0425      &     0.0244     &    -0.0814     &    -0.0036     &       True       \\\\\n",
       "    Quarter1    &     Quarter5    &       0.0746      &     0.0538     &    -0.0007     &      0.15      &      False       \\\\\n",
       "    Quarter2    &     Quarter3    &       -0.039      &     0.0782     &    -0.0805     &     0.0026     &      False       \\\\\n",
       "    Quarter2    &     Quarter4    &      -0.0346      &     0.1175     &    -0.0742     &     0.0049     &      False       \\\\\n",
       "    Quarter2    &     Quarter5    &       0.0825      &     0.0247     &     0.0068     &     0.1581     &       True       \\\\\n",
       "    Quarter3    &     Quarter4    &       0.0043      &     0.9989     &    -0.0399     &     0.0486     &      False       \\\\\n",
       "    Quarter3    &     Quarter5    &       0.1214      &     0.0002     &     0.0432     &     0.1997     &       True       \\\\\n",
       "    Quarter4    &     Quarter5    &       0.1171      &     0.0004     &     0.0399     &     0.1943     &       True       \\\\\n",
       "\\bottomrule\n",
       "\\end{tabular}\n",
       "%\\caption{Multiple Comparison of Means - Tukey HSD, FWER=0.05}\n",
       "\\end{center}"
      ],
      "text/plain": [
       "<class 'statsmodels.iolib.table.SimpleTable'>"
      ]
     },
     "execution_count": 71,
     "metadata": {},
     "output_type": "execute_result"
    }
   ],
   "source": [
    "# Post hoc analysis for quarters\n",
    "import statsmodels.stats.multicomp as mc\n",
    "comp = mc.MultiComparison(data=df_g_emps.actual_productivity, groups=df_g_emps.quarter)\n",
    "posthoc = comp.tukeyhsd()\n",
    "posthoc.summary()"
   ]
  },
  {
   "cell_type": "markdown",
   "id": "00305c31",
   "metadata": {},
   "source": [
    "The Post Hoc analysis clearly shows that the Variance across Quarter is different from the Quarters 2, 3, and 4.\n",
    "\n",
    "Note: Ignore Quarter 5"
   ]
  },
  {
   "cell_type": "code",
   "execution_count": null,
   "id": "4c775aa6",
   "metadata": {},
   "outputs": [],
   "source": []
  },
  {
   "cell_type": "code",
   "execution_count": 2,
   "id": "f89b45aa",
   "metadata": {},
   "outputs": [],
   "source": [
    "#18\n",
    "\n",
    "# Based on the EDA analysis the manager has decided to find out whether different days are having an impact on actual productivity. Assuming normality of data conduct an analysis accordingly Conduct an ANOVA for comparing productivity for Quarter1, Quarter2, Quarter3, Quarter 4 and accordingly conclude (Assume data is normally distributed)."
   ]
  },
  {
   "cell_type": "markdown",
   "id": "74f5f84e",
   "metadata": {},
   "source": [
    "The question should have been accross days instead of quarters\n",
    "Hypothesis\n",
    "H0: The actual productivity for all the days is the same\n",
    "H1: The actual productivity of at least one of the days is different\n"
   ]
  },
  {
   "cell_type": "code",
   "execution_count": 73,
   "id": "81e0224e",
   "metadata": {},
   "outputs": [],
   "source": [
    "# Given data\n",
    "monday = df_g_emps[df_g_emps['day'] == 'Monday']['actual_productivity']\n",
    "tuesday = df_g_emps[df_g_emps['day'] == 'Tuesday']['actual_productivity']\n",
    "wednesday = df_g_emps[df_g_emps['day'] == 'Wednesday']['actual_productivity']\n",
    "thursday = df_g_emps[df_g_emps['day'] == 'Thursday']['actual_productivity']\n",
    "saturday = df_g_emps[df_g_emps['day'] == 'Saturday']['actual_productivity']\n",
    "sunday = df_g_emps[df_g_emps['day'] == 'Sunday']['actual_productivity']"
   ]
  },
  {
   "cell_type": "code",
   "execution_count": 75,
   "id": "4cb15037",
   "metadata": {},
   "outputs": [
    {
     "data": {
      "text/plain": [
       "LeveneResult(statistic=0.4284935320388342, pvalue=0.8289914795144732)"
      ]
     },
     "execution_count": 75,
     "metadata": {},
     "output_type": "execute_result"
    }
   ],
   "source": [
    "# Assuming normality and conducting levene test\n",
    "stats.levene(monday, tuesday, wednesday, thursday, saturday, sunday)"
   ]
  },
  {
   "cell_type": "markdown",
   "id": "ba1ff890",
   "metadata": {},
   "source": [
    "The P Value is greater then 0.05. We can conclude that the variances are equal."
   ]
  },
  {
   "cell_type": "code",
   "execution_count": 78,
   "id": "fc1ef39a",
   "metadata": {},
   "outputs": [
    {
     "data": {
      "text/plain": [
       "2.22"
      ]
     },
     "execution_count": 78,
     "metadata": {},
     "output_type": "execute_result"
    }
   ],
   "source": [
    "# Calculating critical value\n",
    "grps = df_g_emps.day.nunique()\n",
    "obs = df_g_emps.actual_productivity.count()\n",
    "\n",
    "dfn = grps - 1\n",
    "dfd = obs - grps\n",
    "\n",
    "round(stats.f.isf(0.05, dfn, dfd), 2)"
   ]
  },
  {
   "cell_type": "markdown",
   "id": "cc6c049c",
   "metadata": {},
   "source": [
    "If the F Statistic is greater than 2.22, we can reject the null hypothesis."
   ]
  },
  {
   "cell_type": "code",
   "execution_count": 82,
   "id": "eaf7d7d2",
   "metadata": {},
   "outputs": [
    {
     "data": {
      "text/plain": [
       "F_onewayResult(statistic=0.7121012009422417, pvalue=0.614378842438619)"
      ]
     },
     "execution_count": 82,
     "metadata": {},
     "output_type": "execute_result"
    }
   ],
   "source": [
    "stats.f_oneway(monday, tuesday, wednesday, thursday, saturday, sunday)"
   ]
  },
  {
   "cell_type": "markdown",
   "id": "f13b155c",
   "metadata": {},
   "source": [
    "Conclusion\n",
    "\n",
    "The F Statistic falls below the critical value of 2.22, and the P Value exceeds 0.05. Consequently, we do not reject the null hypothesis. \n",
    "This suggests sufficient evidence indicating uniform productivity across all weekdays."
   ]
  },
  {
   "cell_type": "code",
   "execution_count": 85,
   "id": "3c13be8f",
   "metadata": {},
   "outputs": [
    {
     "data": {
      "text/html": [
       "<table class=\"simpletable\">\n",
       "<caption>Multiple Comparison of Means - Tukey HSD, FWER=0.05</caption>\n",
       "<tr>\n",
       "   <th>group1</th>   <th>group2</th>   <th>meandiff</th>  <th>p-adj</th>  <th>lower</th>   <th>upper</th> <th>reject</th>\n",
       "</tr>\n",
       "<tr>\n",
       "   <td>Monday</td>  <td>Saturday</td>   <td>0.0164</td>  <td>0.9402</td> <td>-0.0343</td> <td>0.0672</td>  <td>False</td>\n",
       "</tr>\n",
       "<tr>\n",
       "   <td>Monday</td>   <td>Sunday</td>    <td>-0.0069</td> <td>0.9988</td> <td>-0.0566</td> <td>0.0428</td>  <td>False</td>\n",
       "</tr>\n",
       "<tr>\n",
       "   <td>Monday</td>  <td>Thursday</td>   <td>-0.0128</td> <td>0.9777</td> <td>-0.0628</td> <td>0.0371</td>  <td>False</td>\n",
       "</tr>\n",
       "<tr>\n",
       "   <td>Monday</td>   <td>Tuesday</td>   <td>0.0072</td>  <td>0.9985</td> <td>-0.0426</td>  <td>0.057</td>  <td>False</td>\n",
       "</tr>\n",
       "<tr>\n",
       "   <td>Monday</td>  <td>Wednesday</td>  <td>-0.005</td>  <td>0.9997</td> <td>-0.0544</td> <td>0.0444</td>  <td>False</td>\n",
       "</tr>\n",
       "<tr>\n",
       "  <td>Saturday</td>  <td>Sunday</td>    <td>-0.0233</td> <td>0.7751</td> <td>-0.0738</td> <td>0.0272</td>  <td>False</td>\n",
       "</tr>\n",
       "<tr>\n",
       "  <td>Saturday</td> <td>Thursday</td>   <td>-0.0293</td> <td>0.5673</td>  <td>-0.08</td>  <td>0.0215</td>  <td>False</td>\n",
       "</tr>\n",
       "<tr>\n",
       "  <td>Saturday</td>  <td>Tuesday</td>   <td>-0.0092</td> <td>0.9954</td> <td>-0.0599</td> <td>0.0414</td>  <td>False</td>\n",
       "</tr>\n",
       "<tr>\n",
       "  <td>Saturday</td> <td>Wednesday</td>  <td>-0.0215</td> <td>0.8271</td> <td>-0.0717</td> <td>0.0288</td>  <td>False</td>\n",
       "</tr>\n",
       "<tr>\n",
       "   <td>Sunday</td>  <td>Thursday</td>   <td>-0.006</td>  <td>0.9994</td> <td>-0.0557</td> <td>0.0438</td>  <td>False</td>\n",
       "</tr>\n",
       "<tr>\n",
       "   <td>Sunday</td>   <td>Tuesday</td>   <td>0.0141</td>  <td>0.9655</td> <td>-0.0355</td> <td>0.0637</td>  <td>False</td>\n",
       "</tr>\n",
       "<tr>\n",
       "   <td>Sunday</td>  <td>Wednesday</td>  <td>0.0019</td>    <td>1.0</td>  <td>-0.0473</td>  <td>0.051</td>  <td>False</td>\n",
       "</tr>\n",
       "<tr>\n",
       "  <td>Thursday</td>  <td>Tuesday</td>   <td>0.0201</td>  <td>0.8607</td> <td>-0.0298</td> <td>0.0699</td>  <td>False</td>\n",
       "</tr>\n",
       "<tr>\n",
       "  <td>Thursday</td> <td>Wednesday</td>  <td>0.0078</td>  <td>0.9976</td> <td>-0.0416</td> <td>0.0572</td>  <td>False</td>\n",
       "</tr>\n",
       "<tr>\n",
       "   <td>Tuesday</td> <td>Wednesday</td>  <td>-0.0122</td> <td>0.9809</td> <td>-0.0615</td> <td>0.0371</td>  <td>False</td>\n",
       "</tr>\n",
       "</table>"
      ],
      "text/latex": [
       "\\begin{center}\n",
       "\\begin{tabular}{ccccccc}\n",
       "\\toprule\n",
       "\\textbf{group1} & \\textbf{group2} & \\textbf{meandiff} & \\textbf{p-adj} & \\textbf{lower} & \\textbf{upper} & \\textbf{reject}  \\\\\n",
       "\\midrule\n",
       "     Monday     &     Saturday    &       0.0164      &     0.9402     &    -0.0343     &     0.0672     &      False       \\\\\n",
       "     Monday     &      Sunday     &      -0.0069      &     0.9988     &    -0.0566     &     0.0428     &      False       \\\\\n",
       "     Monday     &     Thursday    &      -0.0128      &     0.9777     &    -0.0628     &     0.0371     &      False       \\\\\n",
       "     Monday     &     Tuesday     &       0.0072      &     0.9985     &    -0.0426     &     0.057      &      False       \\\\\n",
       "     Monday     &    Wednesday    &       -0.005      &     0.9997     &    -0.0544     &     0.0444     &      False       \\\\\n",
       "    Saturday    &      Sunday     &      -0.0233      &     0.7751     &    -0.0738     &     0.0272     &      False       \\\\\n",
       "    Saturday    &     Thursday    &      -0.0293      &     0.5673     &     -0.08      &     0.0215     &      False       \\\\\n",
       "    Saturday    &     Tuesday     &      -0.0092      &     0.9954     &    -0.0599     &     0.0414     &      False       \\\\\n",
       "    Saturday    &    Wednesday    &      -0.0215      &     0.8271     &    -0.0717     &     0.0288     &      False       \\\\\n",
       "     Sunday     &     Thursday    &       -0.006      &     0.9994     &    -0.0557     &     0.0438     &      False       \\\\\n",
       "     Sunday     &     Tuesday     &       0.0141      &     0.9655     &    -0.0355     &     0.0637     &      False       \\\\\n",
       "     Sunday     &    Wednesday    &       0.0019      &      1.0       &    -0.0473     &     0.051      &      False       \\\\\n",
       "    Thursday    &     Tuesday     &       0.0201      &     0.8607     &    -0.0298     &     0.0699     &      False       \\\\\n",
       "    Thursday    &    Wednesday    &       0.0078      &     0.9976     &    -0.0416     &     0.0572     &      False       \\\\\n",
       "    Tuesday     &    Wednesday    &      -0.0122      &     0.9809     &    -0.0615     &     0.0371     &      False       \\\\\n",
       "\\bottomrule\n",
       "\\end{tabular}\n",
       "%\\caption{Multiple Comparison of Means - Tukey HSD, FWER=0.05}\n",
       "\\end{center}"
      ],
      "text/plain": [
       "<class 'statsmodels.iolib.table.SimpleTable'>"
      ]
     },
     "execution_count": 85,
     "metadata": {},
     "output_type": "execute_result"
    }
   ],
   "source": [
    "# Post hoc analysis for days\n",
    "comp = mc.MultiComparison(data=df_g_emps.actual_productivity, groups=df_g_emps.day)\n",
    "posthoc = comp.tukeyhsd()\n",
    "posthoc.summary()"
   ]
  },
  {
   "cell_type": "markdown",
   "id": "02c390d9",
   "metadata": {},
   "source": [
    "The Post Hoc analysis clearly shows that the Variance across all the days are the same."
   ]
  },
  {
   "cell_type": "code",
   "execution_count": 76,
   "id": "82499496",
   "metadata": {},
   "outputs": [],
   "source": [
    "#19 In case the manager is interested whether day and quarters have an impact on actual producitivity, provide an analysis and \n",
    "# identify which factors play a role in affecting productivty.\n",
    "\n"
   ]
  },
  {
   "cell_type": "markdown",
   "id": "25f46366",
   "metadata": {},
   "source": [
    "Testing independence of variables \n",
    "\n",
    "Hypothesis\n",
    "H0: The variables day and quarter are independent\n",
    "H1: The variables day and quarter are not independent"
   ]
  },
  {
   "cell_type": "code",
   "execution_count": 88,
   "id": "08738117",
   "metadata": {},
   "outputs": [
    {
     "data": {
      "text/html": [
       "<div>\n",
       "<style scoped>\n",
       "    .dataframe tbody tr th:only-of-type {\n",
       "        vertical-align: middle;\n",
       "    }\n",
       "\n",
       "    .dataframe tbody tr th {\n",
       "        vertical-align: top;\n",
       "    }\n",
       "\n",
       "    .dataframe thead th {\n",
       "        text-align: right;\n",
       "    }\n",
       "</style>\n",
       "<table border=\"1\" class=\"dataframe\">\n",
       "  <thead>\n",
       "    <tr style=\"text-align: right;\">\n",
       "      <th>quarter</th>\n",
       "      <th>Quarter1</th>\n",
       "      <th>Quarter2</th>\n",
       "      <th>Quarter3</th>\n",
       "      <th>Quarter4</th>\n",
       "      <th>Quarter5</th>\n",
       "    </tr>\n",
       "    <tr>\n",
       "      <th>day</th>\n",
       "      <th></th>\n",
       "      <th></th>\n",
       "      <th></th>\n",
       "      <th></th>\n",
       "      <th></th>\n",
       "    </tr>\n",
       "  </thead>\n",
       "  <tbody>\n",
       "    <tr>\n",
       "      <th>Monday</th>\n",
       "      <td>61</td>\n",
       "      <td>63</td>\n",
       "      <td>37</td>\n",
       "      <td>38</td>\n",
       "      <td>0</td>\n",
       "    </tr>\n",
       "    <tr>\n",
       "      <th>Saturday</th>\n",
       "      <td>59</td>\n",
       "      <td>39</td>\n",
       "      <td>21</td>\n",
       "      <td>44</td>\n",
       "      <td>24</td>\n",
       "    </tr>\n",
       "    <tr>\n",
       "      <th>Sunday</th>\n",
       "      <td>60</td>\n",
       "      <td>64</td>\n",
       "      <td>38</td>\n",
       "      <td>41</td>\n",
       "      <td>0</td>\n",
       "    </tr>\n",
       "    <tr>\n",
       "      <th>Thursday</th>\n",
       "      <td>56</td>\n",
       "      <td>41</td>\n",
       "      <td>39</td>\n",
       "      <td>43</td>\n",
       "      <td>20</td>\n",
       "    </tr>\n",
       "    <tr>\n",
       "      <th>Tuesday</th>\n",
       "      <td>62</td>\n",
       "      <td>64</td>\n",
       "      <td>35</td>\n",
       "      <td>40</td>\n",
       "      <td>0</td>\n",
       "    </tr>\n",
       "    <tr>\n",
       "      <th>Wednesday</th>\n",
       "      <td>62</td>\n",
       "      <td>64</td>\n",
       "      <td>40</td>\n",
       "      <td>42</td>\n",
       "      <td>0</td>\n",
       "    </tr>\n",
       "  </tbody>\n",
       "</table>\n",
       "</div>"
      ],
      "text/plain": [
       "quarter    Quarter1  Quarter2  Quarter3  Quarter4  Quarter5\n",
       "day                                                        \n",
       "Monday           61        63        37        38         0\n",
       "Saturday         59        39        21        44        24\n",
       "Sunday           60        64        38        41         0\n",
       "Thursday         56        41        39        43        20\n",
       "Tuesday          62        64        35        40         0\n",
       "Wednesday        62        64        40        42         0"
      ]
     },
     "execution_count": 88,
     "metadata": {},
     "output_type": "execute_result"
    }
   ],
   "source": [
    "# Identifying the independence of variables days and quarters\n",
    "table = pd.crosstab(df_g_emps['day'], df_g_emps['quarter'])\n",
    "table"
   ]
  },
  {
   "cell_type": "code",
   "execution_count": 89,
   "id": "ce130088",
   "metadata": {},
   "outputs": [
    {
     "data": {
      "text/plain": [
       "31.41"
      ]
     },
     "execution_count": 89,
     "metadata": {},
     "output_type": "execute_result"
    }
   ],
   "source": [
    "# Calculating the critical value\n",
    "degf = (df_g_emps.quarter.nunique() - 1) * (df_g_emps.day.nunique() - 1)\n",
    "round(stats.chi2.isf(0.05, degf), 2)"
   ]
  },
  {
   "cell_type": "markdown",
   "id": "08313379",
   "metadata": {},
   "source": [
    "If the  chi2\n",
    "  value is greater than 31.41, we can reject the null hypothesis."
   ]
  },
  {
   "cell_type": "code",
   "execution_count": 91,
   "id": "9f537466",
   "metadata": {},
   "outputs": [
    {
     "data": {
      "text/plain": [
       "Chi2ContingencyResult(statistic=112.24402985523838, pvalue=7.641691672947457e-15, dof=20, expected_freq=array([[59.84962406, 55.69340017, 34.9122807 , 41.22974102,  7.31495405],\n",
       "       [56.2406015 , 52.33500418, 32.80701754, 38.74352548,  6.87385129],\n",
       "       [61.05263158, 56.8128655 , 35.61403509, 42.05847953,  7.4619883 ],\n",
       "       [59.84962406, 55.69340017, 34.9122807 , 41.22974102,  7.31495405],\n",
       "       [60.45112782, 56.25313283, 35.26315789, 41.64411028,  7.38847118],\n",
       "       [62.55639098, 58.21219716, 36.49122807, 43.09440267,  7.64578112]]))"
      ]
     },
     "execution_count": 91,
     "metadata": {},
     "output_type": "execute_result"
    }
   ],
   "source": [
    "chi2_contingency(table)"
   ]
  },
  {
   "cell_type": "markdown",
   "id": "e3988645",
   "metadata": {},
   "source": [
    "\n",
    "Conclusion 1:\n",
    "\n",
    "The test statistic is higher than 31.41, and the P Value is below 0.05, so we reject the null hypothesis.\n",
    "The variables day and quarter are related.\n",
    "\n",
    "Also one thing to note:\n",
    "\n",
    "Our data only covers the first two and a half months of 2015, not the entire year.\n",
    "Because of this, Quarter 5 isn't included, which could change the outcome.\n",
    "Let's exclude Quarter 5 and redo the test."
   ]
  },
  {
   "cell_type": "code",
   "execution_count": 93,
   "id": "9bde1bd9",
   "metadata": {},
   "outputs": [
    {
     "data": {
      "text/html": [
       "<div>\n",
       "<style scoped>\n",
       "    .dataframe tbody tr th:only-of-type {\n",
       "        vertical-align: middle;\n",
       "    }\n",
       "\n",
       "    .dataframe tbody tr th {\n",
       "        vertical-align: top;\n",
       "    }\n",
       "\n",
       "    .dataframe thead th {\n",
       "        text-align: right;\n",
       "    }\n",
       "</style>\n",
       "<table border=\"1\" class=\"dataframe\">\n",
       "  <thead>\n",
       "    <tr style=\"text-align: right;\">\n",
       "      <th>quarter</th>\n",
       "      <th>Quarter1</th>\n",
       "      <th>Quarter2</th>\n",
       "      <th>Quarter3</th>\n",
       "      <th>Quarter4</th>\n",
       "    </tr>\n",
       "    <tr>\n",
       "      <th>day</th>\n",
       "      <th></th>\n",
       "      <th></th>\n",
       "      <th></th>\n",
       "      <th></th>\n",
       "    </tr>\n",
       "  </thead>\n",
       "  <tbody>\n",
       "    <tr>\n",
       "      <th>Monday</th>\n",
       "      <td>61</td>\n",
       "      <td>63</td>\n",
       "      <td>37</td>\n",
       "      <td>38</td>\n",
       "    </tr>\n",
       "    <tr>\n",
       "      <th>Saturday</th>\n",
       "      <td>59</td>\n",
       "      <td>39</td>\n",
       "      <td>21</td>\n",
       "      <td>44</td>\n",
       "    </tr>\n",
       "    <tr>\n",
       "      <th>Sunday</th>\n",
       "      <td>60</td>\n",
       "      <td>64</td>\n",
       "      <td>38</td>\n",
       "      <td>41</td>\n",
       "    </tr>\n",
       "    <tr>\n",
       "      <th>Thursday</th>\n",
       "      <td>56</td>\n",
       "      <td>41</td>\n",
       "      <td>39</td>\n",
       "      <td>43</td>\n",
       "    </tr>\n",
       "    <tr>\n",
       "      <th>Tuesday</th>\n",
       "      <td>62</td>\n",
       "      <td>64</td>\n",
       "      <td>35</td>\n",
       "      <td>40</td>\n",
       "    </tr>\n",
       "    <tr>\n",
       "      <th>Wednesday</th>\n",
       "      <td>62</td>\n",
       "      <td>64</td>\n",
       "      <td>40</td>\n",
       "      <td>42</td>\n",
       "    </tr>\n",
       "  </tbody>\n",
       "</table>\n",
       "</div>"
      ],
      "text/plain": [
       "quarter    Quarter1  Quarter2  Quarter3  Quarter4\n",
       "day                                              \n",
       "Monday           61        63        37        38\n",
       "Saturday         59        39        21        44\n",
       "Sunday           60        64        38        41\n",
       "Thursday         56        41        39        43\n",
       "Tuesday          62        64        35        40\n",
       "Wednesday        62        64        40        42"
      ]
     },
     "execution_count": 93,
     "metadata": {},
     "output_type": "execute_result"
    }
   ],
   "source": [
    "# Ignoring Quarter 5\n",
    "data = pd.concat([df_g_emps[df_g_emps['quarter'] == 'Quarter1'],\n",
    "                  df_g_emps[df_g_emps['quarter'] == 'Quarter2'],\n",
    "                  df_g_emps[df_g_emps['quarter'] == 'Quarter3'],\n",
    "                  df_g_emps[df_g_emps['quarter'] == 'Quarter4']])\n",
    "table1 = pd.crosstab(data.day, data.quarter)\n",
    "table1"
   ]
  },
  {
   "cell_type": "code",
   "execution_count": 94,
   "id": "d597508d",
   "metadata": {},
   "outputs": [
    {
     "data": {
      "text/plain": [
       "25.0"
      ]
     },
     "execution_count": 94,
     "metadata": {},
     "output_type": "execute_result"
    }
   ],
   "source": [
    "# Calculating the critical value after ignoring Quarter 5\n",
    "degof = (data.quarter.nunique() - 1) * (data.day.nunique() - 1)\n",
    "round(stats.chi2.isf(0.05, degof), 2)"
   ]
  },
  {
   "cell_type": "markdown",
   "id": "941c2443",
   "metadata": {},
   "source": [
    "If the chi2 value is greater than 25, we can reject the null hypothesis."
   ]
  },
  {
   "cell_type": "code",
   "execution_count": 95,
   "id": "c8685819",
   "metadata": {},
   "outputs": [
    {
     "data": {
      "text/plain": [
       "Chi2ContingencyResult(statistic=15.026942926624635, pvalue=0.4494782011693654, dof=15, expected_freq=array([[62.13356461, 57.81873374, 36.24457936, 42.80312229],\n",
       "       [50.89332177, 47.35906331, 29.68777103, 35.05984389],\n",
       "       [63.38248049, 58.98091934, 36.97311362, 43.66348656],\n",
       "       [55.88898526, 52.00780572, 32.60190807, 38.50130095],\n",
       "       [62.75802255, 58.39982654, 36.60884649, 43.23330442],\n",
       "       [64.94362533, 60.43365134, 37.88378144, 44.73894189]]))"
      ]
     },
     "execution_count": 95,
     "metadata": {},
     "output_type": "execute_result"
    }
   ],
   "source": [
    "chi2_contingency(table1)"
   ]
  },
  {
   "cell_type": "markdown",
   "id": "dd4c3cbf",
   "metadata": {},
   "source": [
    "Conclusion 2:\n",
    "\n",
    "The Chi Square Statistic is below 25, and the P Value is above 0.05. Thus, we don't reject the null hypothesis.\n",
    "The data indicates that the variables day and quarter are unrelated.\n",
    "\n",
    "2-way ANOVA test:\n",
    "\n",
    "Hypothesis:\n",
    "\n",
    "Null hypotheses:\n",
    "The average productivity for different days is the same.\n",
    "The average productivity for different quarters is the same.\n",
    "\n",
    "Alternative hypotheses:\n",
    "The average productivity for different days differs.\n",
    "The average productivity for different quarters differs."
   ]
  },
  {
   "cell_type": "code",
   "execution_count": 96,
   "id": "8769cc67",
   "metadata": {},
   "outputs": [
    {
     "data": {
      "text/html": [
       "<div>\n",
       "<style scoped>\n",
       "    .dataframe tbody tr th:only-of-type {\n",
       "        vertical-align: middle;\n",
       "    }\n",
       "\n",
       "    .dataframe tbody tr th {\n",
       "        vertical-align: top;\n",
       "    }\n",
       "\n",
       "    .dataframe thead th {\n",
       "        text-align: right;\n",
       "    }\n",
       "</style>\n",
       "<table border=\"1\" class=\"dataframe\">\n",
       "  <thead>\n",
       "    <tr style=\"text-align: right;\">\n",
       "      <th></th>\n",
       "      <th>sum_sq</th>\n",
       "      <th>df</th>\n",
       "      <th>F</th>\n",
       "      <th>PR(&gt;F)</th>\n",
       "    </tr>\n",
       "  </thead>\n",
       "  <tbody>\n",
       "    <tr>\n",
       "      <th>C(day)</th>\n",
       "      <td>0.091124</td>\n",
       "      <td>5.0</td>\n",
       "      <td>0.609830</td>\n",
       "      <td>0.692418</td>\n",
       "    </tr>\n",
       "    <tr>\n",
       "      <th>C(quarter)</th>\n",
       "      <td>0.831338</td>\n",
       "      <td>4.0</td>\n",
       "      <td>6.954456</td>\n",
       "      <td>0.000016</td>\n",
       "    </tr>\n",
       "    <tr>\n",
       "      <th>Residual</th>\n",
       "      <td>35.473578</td>\n",
       "      <td>1187.0</td>\n",
       "      <td>NaN</td>\n",
       "      <td>NaN</td>\n",
       "    </tr>\n",
       "  </tbody>\n",
       "</table>\n",
       "</div>"
      ],
      "text/plain": [
       "               sum_sq      df         F    PR(>F)\n",
       "C(day)       0.091124     5.0  0.609830  0.692418\n",
       "C(quarter)   0.831338     4.0  6.954456  0.000016\n",
       "Residual    35.473578  1187.0       NaN       NaN"
      ]
     },
     "execution_count": 96,
     "metadata": {},
     "output_type": "execute_result"
    }
   ],
   "source": [
    "formula = 'actual_productivity ~ C(day) + C(quarter)'\n",
    "mod = ols(formula, df_g_emps).fit()\n",
    "ano_tab = anova_lm(mod, typ=2)\n",
    "ano_tab"
   ]
  },
  {
   "cell_type": "markdown",
   "id": "4f249a80",
   "metadata": {},
   "source": [
    "Conclusion:\n",
    "\n",
    "The P Value for the day variable is above 0.05, so we don't reject the null hypothesis.\n",
    "The P Value for the quarter variable is below 0.05, allowing us to reject the null hypothesis.\n",
    "Implications:\n",
    "\n",
    "This indicates that the variances across all days are equal.\n",
    "However, the variance of at least one quarter differs from the others."
   ]
  },
  {
   "cell_type": "code",
   "execution_count": null,
   "id": "2be5153b",
   "metadata": {},
   "outputs": [],
   "source": []
  },
  {
   "cell_type": "code",
   "execution_count": 97,
   "id": "a923ba6f",
   "metadata": {},
   "outputs": [],
   "source": [
    "#20 Based on 17 eliminate one of the variabes which is not significant and \n",
    "# reconduct analysis using deparment as another variable, what do you conclude.\n",
    "\n",
    "\n"
   ]
  },
  {
   "cell_type": "markdown",
   "id": "999ab499",
   "metadata": {},
   "source": [
    "Based on our previous analyses, it seems like there isn't much difference in the data across different days. Now, let's check if the department and quarter have any relationship or if they're completely unrelated.\n",
    "\n",
    "Testing the relationship between variables:\n",
    "\n",
    "Hypothesis:\n",
    "\n",
    "Null hypothesis (H0): The department and quarter are unrelated.\n",
    "Alternative hypothesis (H1): The department and quarter are related."
   ]
  },
  {
   "cell_type": "code",
   "execution_count": 98,
   "id": "28584232",
   "metadata": {},
   "outputs": [
    {
     "data": {
      "text/html": [
       "<div>\n",
       "<style scoped>\n",
       "    .dataframe tbody tr th:only-of-type {\n",
       "        vertical-align: middle;\n",
       "    }\n",
       "\n",
       "    .dataframe tbody tr th {\n",
       "        vertical-align: top;\n",
       "    }\n",
       "\n",
       "    .dataframe thead th {\n",
       "        text-align: right;\n",
       "    }\n",
       "</style>\n",
       "<table border=\"1\" class=\"dataframe\">\n",
       "  <thead>\n",
       "    <tr style=\"text-align: right;\">\n",
       "      <th>quarter</th>\n",
       "      <th>Quarter1</th>\n",
       "      <th>Quarter2</th>\n",
       "      <th>Quarter3</th>\n",
       "      <th>Quarter4</th>\n",
       "      <th>Quarter5</th>\n",
       "    </tr>\n",
       "    <tr>\n",
       "      <th>department</th>\n",
       "      <th></th>\n",
       "      <th></th>\n",
       "      <th></th>\n",
       "      <th></th>\n",
       "      <th></th>\n",
       "    </tr>\n",
       "  </thead>\n",
       "  <tbody>\n",
       "    <tr>\n",
       "      <th>finishing</th>\n",
       "      <td>149</td>\n",
       "      <td>147</td>\n",
       "      <td>81</td>\n",
       "      <td>108</td>\n",
       "      <td>21</td>\n",
       "    </tr>\n",
       "    <tr>\n",
       "      <th>sewing</th>\n",
       "      <td>211</td>\n",
       "      <td>188</td>\n",
       "      <td>129</td>\n",
       "      <td>140</td>\n",
       "      <td>23</td>\n",
       "    </tr>\n",
       "  </tbody>\n",
       "</table>\n",
       "</div>"
      ],
      "text/plain": [
       "quarter     Quarter1  Quarter2  Quarter3  Quarter4  Quarter5\n",
       "department                                                  \n",
       "finishing        149       147        81       108        21\n",
       "sewing           211       188       129       140        23"
      ]
     },
     "execution_count": 98,
     "metadata": {},
     "output_type": "execute_result"
    }
   ],
   "source": [
    "# Identifying the independence of variables department and quarters\n",
    "table_dq = pd.crosstab(df_g_emps['department'], df_g_emps['quarter'])\n",
    "table_dq"
   ]
  },
  {
   "cell_type": "code",
   "execution_count": 99,
   "id": "2900b4d0",
   "metadata": {},
   "outputs": [
    {
     "data": {
      "text/plain": [
       "9.49"
      ]
     },
     "execution_count": 99,
     "metadata": {},
     "output_type": "execute_result"
    }
   ],
   "source": [
    "# Calculating the critical value after ignoring Quarter 5\n",
    "degof_dq = (df_g_emps.quarter.nunique() - 1) * (df_g_emps.department.nunique() - 1)\n",
    "round(stats.chi2.isf(0.05, degof_dq), 2)"
   ]
  },
  {
   "cell_type": "markdown",
   "id": "4eebb75b",
   "metadata": {},
   "source": [
    "If the  𝑐ℎ𝑖2\n",
    "  value is greater than 9.49, we can reject the null hypothesis."
   ]
  },
  {
   "cell_type": "code",
   "execution_count": 100,
   "id": "0eba16c3",
   "metadata": {},
   "outputs": [
    {
     "data": {
      "text/plain": [
       "Chi2ContingencyResult(statistic=2.350899120129922, pvalue=0.6715181578868235, dof=4, expected_freq=array([[152.18045113, 141.61236424,  88.77192982, 104.83542189,\n",
       "         18.59983292],\n",
       "       [207.81954887, 193.38763576, 121.22807018, 143.16457811,\n",
       "         25.40016708]]))"
      ]
     },
     "execution_count": 100,
     "metadata": {},
     "output_type": "execute_result"
    }
   ],
   "source": [
    "chi2_contingency(table_dq)"
   ]
  },
  {
   "cell_type": "markdown",
   "id": "a49c99d2",
   "metadata": {},
   "source": [
    "Conclusion:\n",
    "\n",
    "The Chi Square Statistic is less than 9.49, and the P Value is above 0.05. Hence, we don't have enough evidence to reject the null hypothesis.\n",
    "The data indicates that the variables department and quarter are independent of each other.\n",
    "2-way ANOVA test:\n",
    "\n",
    "Hypothesis:\n",
    "Null hypotheses:\n",
    "The average productivity across different departments is the same.\n",
    "The average productivity across different quarters is the same.\n",
    "Alternative hypotheses:\n",
    "The average productivity across different departments differs.\n",
    "The average productivity across different quarters differs."
   ]
  },
  {
   "cell_type": "code",
   "execution_count": 101,
   "id": "d677ca66",
   "metadata": {},
   "outputs": [
    {
     "data": {
      "text/html": [
       "<div>\n",
       "<style scoped>\n",
       "    .dataframe tbody tr th:only-of-type {\n",
       "        vertical-align: middle;\n",
       "    }\n",
       "\n",
       "    .dataframe tbody tr th {\n",
       "        vertical-align: top;\n",
       "    }\n",
       "\n",
       "    .dataframe thead th {\n",
       "        text-align: right;\n",
       "    }\n",
       "</style>\n",
       "<table border=\"1\" class=\"dataframe\">\n",
       "  <thead>\n",
       "    <tr style=\"text-align: right;\">\n",
       "      <th></th>\n",
       "      <th>sum_sq</th>\n",
       "      <th>df</th>\n",
       "      <th>F</th>\n",
       "      <th>PR(&gt;F)</th>\n",
       "    </tr>\n",
       "  </thead>\n",
       "  <tbody>\n",
       "    <tr>\n",
       "      <th>C(department)</th>\n",
       "      <td>0.257897</td>\n",
       "      <td>1.0</td>\n",
       "      <td>8.699591</td>\n",
       "      <td>0.003245</td>\n",
       "    </tr>\n",
       "    <tr>\n",
       "      <th>C(quarter)</th>\n",
       "      <td>0.827062</td>\n",
       "      <td>4.0</td>\n",
       "      <td>6.974797</td>\n",
       "      <td>0.000015</td>\n",
       "    </tr>\n",
       "    <tr>\n",
       "      <th>Residual</th>\n",
       "      <td>35.306806</td>\n",
       "      <td>1191.0</td>\n",
       "      <td>NaN</td>\n",
       "      <td>NaN</td>\n",
       "    </tr>\n",
       "  </tbody>\n",
       "</table>\n",
       "</div>"
      ],
      "text/plain": [
       "                  sum_sq      df         F    PR(>F)\n",
       "C(department)   0.257897     1.0  8.699591  0.003245\n",
       "C(quarter)      0.827062     4.0  6.974797  0.000015\n",
       "Residual       35.306806  1191.0       NaN       NaN"
      ]
     },
     "execution_count": 101,
     "metadata": {},
     "output_type": "execute_result"
    }
   ],
   "source": [
    "formula_d = 'actual_productivity ~ C(department) + C(quarter)'\n",
    "mod_d = ols(formula_d, df_g_emps).fit()\n",
    "ano_tab = anova_lm(mod_d, typ=2)\n",
    "ano_tab"
   ]
  },
  {
   "cell_type": "markdown",
   "id": "15e2f14b",
   "metadata": {},
   "source": [
    "Conclusion\n",
    "The P Value for variable department is less than 0.05. We can reject the null hypothesis.\n",
    "The P Value for variable quarter is less than 0.05. We can reject the null hypothesis.\n",
    "\n",
    "This proves that the variance of at least one of the departments is different.\n",
    "The variance of at least one of the quarters is different."
   ]
  },
  {
   "cell_type": "code",
   "execution_count": null,
   "id": "309fb25c",
   "metadata": {},
   "outputs": [],
   "source": [
    "#21 Based on EDA and Hypothesis would you aggree or disaggree with the finding, \n",
    "# also in addition summarize the findings based on both analysis and provide a recommendation on what you can thinking on improving the producitivity.\n",
    "\n"
   ]
  },
  {
   "cell_type": "markdown",
   "id": "53b53e79",
   "metadata": {},
   "source": [
    "1. **Data Overview:**\n",
    "   - The dataset comprises 1197 records from two departments of a Garment Factory.\n",
    "   - Data covers tasks performed by multiple teams over two and a half months in sewing and finishing departments.\n",
    "\n",
    "2. **Recorded Data:**\n",
    "   - Includes targeted and actual productivity for each task.\n",
    "   - Captures team assignments, task durations, pending work, idle workers, and idle time.\n",
    "   - Records incentives and overtime for tasks.\n",
    "\n",
    "3. **Working Days and Quarters:**\n",
    "   - There are 59 working days across 5 quarters in the dataset.\n",
    "   - Each quarter represents a week in a month, with the remaining days in the 5th quarter.\n",
    "   - Quarter 5 is excluded from further analysis due to incomplete data.\n",
    "\n",
    "4. **Productivity Analysis:**\n",
    "   - Mean and Standard Deviation analysis per quarter indicates a slight increase in productivity in Quarter 1, followed by a decrease in subsequent quarters.\n",
    "   - Finishing department shows higher productivity compared to the sewing department.\n",
    "\n",
    "5. **Team and Task Overview:**\n",
    "   - About 12 teams and 70 task types are assigned to both sewing and finishing departments.\n",
    "\n",
    "6. **Daily Productivity Patterns:**\n",
    "   - Productivity peaks on Saturdays, following the weekly off on Fridays.\n",
    "\n",
    "7. **Team Performance Analysis:**\n",
    "   - Team 7 is consistent but has the lowest mean productivity and high variance.\n",
    "   - Team 2 performs well with high productivity, low variance, and few outliers.\n",
    "   - Team 12's productivity outliers on both ends require further evaluation.\n",
    "\n",
    "8. **Correlation Analysis:**\n",
    "   - Incentives and overtime show no significant impact on productivity.\n",
    "   - Idle workers and style changes negatively affect productivity.\n"
   ]
  },
  {
   "cell_type": "markdown",
   "id": "5e4d65cc",
   "metadata": {},
   "source": [
    "Hypothesis Testing\n",
    "\n",
    "1. **Average Productivity:**\n",
    "   - Both the finishing and sewing departments exhibit average productivity greater than 0.75.\n",
    "\n",
    "2. **Departmental Productivity:**\n",
    "   - The average productivity of the finishing department surpasses that of the sewing department overall. This is evident from the higher incentives received by the finishing department.\n",
    "\n",
    "3. **Productivity Claim Disproven:**\n",
    "   - The claim made by the manager regarding worker productivity (30% low, 40% medium, 30% high) is disproven by our analysis.\n",
    "\n",
    "4. **Quarterly Productivity:**\n",
    "   - Quarter 1 demonstrates higher productivity compared to other quarters, although productivity remains consistent throughout the working week.\n",
    "\n",
    "5. **Variable Independence:**\n",
    "   - The variables day and department are found to be independent from the quarter variable.\n"
   ]
  },
  {
   "cell_type": "markdown",
   "id": "2a417a74",
   "metadata": {},
   "source": [
    "Final Analysis\n",
    "\n",
    "1. **Variable Testing:**\n",
    "   - We examined departments, quarters, incentives, and days against actual productivity to identify factors influencing productivity. However, none of these variables significantly affect actual productivity.\n",
    "\n",
    "2. **Style Changes:**\n",
    "   - Based on our analysis, the number of style changes has the most negative impact on actual productivity. It's crucial for the manager to ensure final design approval with minimal style changes to mitigate this impact.\n",
    "\n",
    "3. **Idle Workers:**\n",
    "   - Idle workers adversely affect actual productivity. Implementing cross-departmental skill training can help reduce idle time and unfinished products in the sewing department, thus improving overall productivity.\n"
   ]
  },
  {
   "cell_type": "code",
   "execution_count": null,
   "id": "7f36696f",
   "metadata": {},
   "outputs": [],
   "source": [
    "### END OF MINI PROJECT ###"
   ]
  }
 ],
 "metadata": {
  "kernelspec": {
   "display_name": "Python 3 (ipykernel)",
   "language": "python",
   "name": "python3"
  },
  "language_info": {
   "codemirror_mode": {
    "name": "ipython",
    "version": 3
   },
   "file_extension": ".py",
   "mimetype": "text/x-python",
   "name": "python",
   "nbconvert_exporter": "python",
   "pygments_lexer": "ipython3",
   "version": "3.11.7"
  }
 },
 "nbformat": 4,
 "nbformat_minor": 5
}
