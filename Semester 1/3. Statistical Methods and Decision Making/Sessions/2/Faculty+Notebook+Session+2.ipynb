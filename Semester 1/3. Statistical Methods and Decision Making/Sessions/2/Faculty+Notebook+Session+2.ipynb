{
 "cells": [
  {
   "cell_type": "markdown",
   "metadata": {},
   "source": [
    "<table align=\"left\" width=100%>\n",
    "    <tr>\n",
    "        <td width=\"20%\">\n",
    "            <img src=\"faculty.png\">\n",
    "        </td>\n",
    "        <td>\n",
    "            <div align=\"center\">\n",
    "                <font color=\"#21618C\" size=8px>\n",
    "                  <b> Faculty Notebook <br> (Session 2) </b>\n",
    "                </font>\n",
    "            </div>\n",
    "        </td>\n",
    "    </tr>\n",
    "</table>"
   ]
  },
  {
   "cell_type": "markdown",
   "metadata": {},
   "source": [
    "## Table of Content\n",
    "\n",
    "1. **[Import Libraries](#lib)**\n",
    "2. **[Random Variable](#var)**\n",
    "    - 2.1 - **[Types of Random Variable](#rv)**\n",
    "3. **[Probability](#prob)**\n",
    "    - 3.1 - **[Conditional Probability](#cond)**\n",
    "        - 3.1.1 - **[Bayes' Theorem](#bayes)**"
   ]
  },
  {
   "cell_type": "markdown",
   "metadata": {},
   "source": [
    "<a id=\"lib\"></a>\n",
    "# 1. Import Libraries"
   ]
  },
  {
   "cell_type": "markdown",
   "metadata": {},
   "source": [
    "**Let us import the required libraries.**"
   ]
  },
  {
   "cell_type": "code",
   "execution_count": 1,
   "metadata": {},
   "outputs": [],
   "source": [
    "# import 'pandas' \n",
    "import pandas as pd \n",
    "\n",
    "# import 'numpy' \n",
    "import numpy as np\n",
    "\n",
    "# import subpackage of matplotlib\n",
    "import matplotlib.pyplot as plt\n",
    "from matplotlib import gridspec\n",
    "%matplotlib inline\n",
    "\n",
    "# import 'seaborn'\n",
    "import seaborn as sns\n",
    "\n",
    "# to suppress warnings \n",
    "from warnings import filterwarnings\n",
    "filterwarnings('ignore')\n",
    "\n",
    "# import 'factorial' from math library\n",
    "from math import factorial\n",
    "\n",
    "# import 'stats' package from scipy library\n",
    "from scipy import stats\n",
    "from scipy.stats import randint\n",
    "from scipy.stats import skewnorm\n",
    "\n",
    "# import 'random' to generate a random sample\n",
    "import random"
   ]
  },
  {
   "cell_type": "code",
   "execution_count": 2,
   "metadata": {},
   "outputs": [],
   "source": [
    "# set the plot size using 'rcParams'\n",
    "# once the plot size is set using 'rcParams', it sets the size of all the forthcoming plots in the file\n",
    "# pass width and height in inches to 'figure.figsize' \n",
    "plt.rcParams['figure.figsize'] = [15,8]"
   ]
  },
  {
   "cell_type": "markdown",
   "metadata": {},
   "source": [
    "The study of statistics is mainly divided into two parts: `Descriptive` and `Inferential`.\n",
    "\n",
    "Here we mainly focus on `Inferential Statistics`. Before that, let us recall the descriptive statistics methods learned as a part of exploratory data analysis."
   ]
  },
  {
   "cell_type": "markdown",
   "metadata": {},
   "source": [
    "<a id=\"var\"></a>\n",
    "# 2. Random Variable"
   ]
  },
  {
   "cell_type": "markdown",
   "metadata": {},
   "source": [
    "It is defined as a variable that takes all the possible values of a random experiment.\n",
    "\n",
    "### Example:\n",
    "\n",
    "    Consider rolling a die as a random experiment; then the random variable (X) takes the values 1, 2, 3, 4, 5, and 6.   "
   ]
  },
  {
   "cell_type": "markdown",
   "metadata": {},
   "source": [
    "<a id=\"rv\"></a>\n",
    "## 2.1 Types of Random Variable"
   ]
  },
  {
   "cell_type": "markdown",
   "metadata": {},
   "source": [
    "Two types of random variables:- discrete and continuous.\n",
    "\n",
    "`Discrete Random Variable`: A random variable that takes the finite or countably infinite number of values is called a discrete random variable. Let us study some of the examples of a discrete random variable:\n",
    "\n",
    "        1. Number of occupied car parking spots in the amusement park\n",
    "        2. Number of students selected in the exam hall\n",
    "        3. Number of home delivery orders taken by a restaurant in a day\n",
    "        4. Number of passengers passed through an airport's security check"
   ]
  },
  {
   "cell_type": "markdown",
   "metadata": {},
   "source": [
    "`Continuous Random Variable`: A random variable that takes an infinite number of values in a range is called a continuous random variable. Let us study some of the examples of a discrete random variable:\n",
    "\n",
    "        1. Weight of people registered for the fitness program\n",
    "        2. The diameter of the water pipe produced in a factory\n",
    "        3. The time between two consecutive bill payments in a supermarket\n",
    "        4. Mileage of a car"
   ]
  },
  {
   "cell_type": "markdown",
   "metadata": {},
   "source": [
    "<a id=\"prob\"></a>\n",
    "# 3. Probability"
   ]
  },
  {
   "cell_type": "markdown",
   "metadata": {},
   "source": [
    "An event is the outcome or collection of outcomes of an experiment. It is a subset of the `sample space`, which is defined as the set of all possible outcomes of an experiment. \n",
    "\n",
    "### Example: "
   ]
  },
  {
   "cell_type": "code",
   "execution_count": 3,
   "metadata": {},
   "outputs": [
    {
     "name": "stdout",
     "output_type": "stream",
     "text": [
      "A = {2}\n"
     ]
    }
   ],
   "source": [
    "# consider a set of first ten prime numbers\n",
    "sample_space = {2, 3, 5, 7, 11, 13, 17, 19, 23, 29}\n",
    "\n",
    "# consider an event A: Occurrence of even prime number\n",
    "A = set()\n",
    "\n",
    "# use the for loop to check the condition of even number on each element of the sample space\n",
    "for i in sample_space:\n",
    "    \n",
    "    # pass a condition to check whether the number is even\n",
    "    if (i%2 == 0):\n",
    "        \n",
    "        # add the number to 'A' if it is even\n",
    "        A.add(i)\n",
    "# print the set A\n",
    "print('A =', A)"
   ]
  },
  {
   "cell_type": "markdown",
   "metadata": {},
   "source": [
    "`Probability` is defined as the measure of the likelihood of an event to occur. Probability of occurrence of event A is denoted as `P(A)`. The probability of an event takes values between 0 and 1. The probability of sample space is always 1. \n",
    "\n",
    "The probability of complement of an event A is `P(A') = 1-P(A)`."
   ]
  },
  {
   "cell_type": "markdown",
   "metadata": {},
   "source": [
    "### Example:\n",
    "\n",
    "#### 1. If the letters of the word `AABRAAKAADAABRAA` are arranged at random, find the probability that 10 A's come consecutively in the word."
   ]
  },
  {
   "cell_type": "code",
   "execution_count": 4,
   "metadata": {},
   "outputs": [],
   "source": [
    "# set the frequency of each letter in the given word\n",
    "length_of_word = len(\"AABRAAKAADAABRAA\")\n",
    "No_of_A = 10\n",
    "No_of_B = 2\n",
    "No_of_R = 2\n",
    "No_of_K = 1\n",
    "No_of_D = 1"
   ]
  },
  {
   "cell_type": "markdown",
   "metadata": {},
   "source": [
    "If 10 A's come consecutively in the word, we consider 10 A's as one group ([AAAAAAAAAA]BRKDBR).\n",
    "\n",
    "Now the total number of letters is 6+1=7."
   ]
  },
  {
   "cell_type": "code",
   "execution_count": 5,
   "metadata": {},
   "outputs": [],
   "source": [
    "# number of words when all A's are together\n",
    "no_words_with_10A = factorial(7) / (factorial(No_of_B)*factorial(No_of_D)*factorial(No_of_K)*factorial(No_of_R))\n",
    "\n",
    "# total number of words using the letters of the word \"AABRAAKAADAABRAA\"\n",
    "total_words = factorial(length_of_word) /(factorial(No_of_A)*factorial(No_of_B)*factorial(No_of_D)*factorial(No_of_K)\n",
    "                                          *factorial(No_of_R))"
   ]
  },
  {
   "cell_type": "code",
   "execution_count": 6,
   "metadata": {},
   "outputs": [
    {
     "name": "stdout",
     "output_type": "stream",
     "text": [
      "The probability that 10 A's come consecutively in the word is 0.0008741258741258741\n"
     ]
    }
   ],
   "source": [
    "# the required probability is\n",
    "req_prob = (no_words_with_10A/total_words)\n",
    "print(\"The probability that 10 A's come consecutively in the word is\", req_prob)"
   ]
  },
  {
   "cell_type": "markdown",
   "metadata": {},
   "source": [
    "#### 2. If the letters of the word `AABRAAKAADAABRAA` are arranged at random, find the probability that 2 B's and 2 R's come together."
   ]
  },
  {
   "cell_type": "markdown",
   "metadata": {},
   "source": [
    "We consider 2 B's as 1 group and 2 R's as one group. Thus, the total letters will be 12 + 1 + 1 = 14."
   ]
  },
  {
   "cell_type": "code",
   "execution_count": 7,
   "metadata": {},
   "outputs": [],
   "source": [
    "# '\\' is used to continue the operation in next line\n",
    "# number of words when 2 B's and 2 R's come together\n",
    "no_words_with_2B_2R = (factorial(14) / (factorial(No_of_A)*factorial(No_of_D)*factorial(No_of_K))) * \\\n",
    "                      (factorial(4) / (factorial(2)*factorial(2)))\n",
    "\n",
    "# total number of words using the letters of the word \"AABRAAKAADAABRAA\"\n",
    "total_words = factorial(length_of_word) /(factorial(No_of_A)*factorial(No_of_B)*factorial(No_of_D)*factorial(No_of_K)\n",
    "                                          *factorial(No_of_R))"
   ]
  },
  {
   "cell_type": "code",
   "execution_count": 8,
   "metadata": {},
   "outputs": [
    {
     "name": "stdout",
     "output_type": "stream",
     "text": [
      "The probability that 2 B's and 2 R's come together is 0.1\n"
     ]
    }
   ],
   "source": [
    "# the required probability is\n",
    "req_prob = (no_words_with_2B_2R/total_words)\n",
    "print(\"The probability that 2 B's and 2 R's come together is\", req_prob)"
   ]
  },
  {
   "cell_type": "markdown",
   "metadata": {},
   "source": [
    "#### 3. A kitchen set contains 10 knives, 3 of which are defective. Two knives are drawn at random with replacement. What is the probability that none of the two knives will be defective?"
   ]
  },
  {
   "cell_type": "code",
   "execution_count": 9,
   "metadata": {},
   "outputs": [
    {
     "name": "stdout",
     "output_type": "stream",
     "text": [
      "The probability that none of the two knives is defective is 0.4666666666666667\n"
     ]
    }
   ],
   "source": [
    "# define a function to calculate combinations \n",
    "def combination(n, r):\n",
    "    result = factorial(n) / (factorial(r) * factorial(n-r))\n",
    "    return result\n",
    "\n",
    "# here 3 knives out of 10 are defective and 7 are not defective\n",
    "# probability of selecting two non defective knives\n",
    "probability = (combination(3, 0) * combination(7, 2)) / combination(10, 2)\n",
    "\n",
    "print(\"The probability that none of the two knives is defective is\", probability)"
   ]
  },
  {
   "cell_type": "markdown",
   "metadata": {},
   "source": [
    "#### 4. The new vaccine is to be tested on patients. There are 5 diabetic patients (have the same type of diabetes), 9 patients with a similar heart condition and 11 patients with the same liver condition. One patient is randomly chosen. What is the probability that the patient is not diabetic?"
   ]
  },
  {
   "cell_type": "code",
   "execution_count": 10,
   "metadata": {},
   "outputs": [
    {
     "name": "stdout",
     "output_type": "stream",
     "text": [
      "The probability that the selected patient is not diabetic is 0.8\n"
     ]
    }
   ],
   "source": [
    "# total number of patients \n",
    "no_patients = 25\n",
    "\n",
    "# probability of selecting a diabetic patient\n",
    "prob_diabetic = 5/25\n",
    "\n",
    "# we want to calculate the probability that the selected patient is not diabetic\n",
    "req_prob = 1 - prob_diabetic\n",
    "\n",
    "print('The probability that the selected patient is not diabetic is', req_prob)"
   ]
  },
  {
   "cell_type": "markdown",
   "metadata": {},
   "source": [
    "### Odds\n",
    "\n",
    "Probability can also be expressed in terms of `odds`. Odds is the ratio of the number of observations in favor of an event to the number of observations not in favor of an event. If odds in favor of event A are a:b then $P(A) = \\frac{a}{a+b}$"
   ]
  },
  {
   "cell_type": "markdown",
   "metadata": {},
   "source": [
    "### Example:\n",
    "\n",
    "#### 1. The odds that a New Yorker picked at random will be either overweight or obese are 14:11. What is the probability that the person is fit (is not overweight or obese)?"
   ]
  },
  {
   "cell_type": "code",
   "execution_count": 11,
   "metadata": {},
   "outputs": [
    {
     "name": "stdout",
     "output_type": "stream",
     "text": [
      "The probability that the person is fit is 0.43999999999999995\n"
     ]
    }
   ],
   "source": [
    "# here odds are 14:11  \n",
    "a = 14 \n",
    "b = 11\n",
    "\n",
    "# required probability is that the person is fit\n",
    "# let, A: The person is either overweight or obese\n",
    "# to find: P(A') = 1 - P(A)\n",
    "req_prob = 1 - (a/(a+b))\n",
    "\n",
    "print('The probability that the person is fit is', req_prob)"
   ]
  },
  {
   "cell_type": "markdown",
   "metadata": {},
   "source": [
    "<a id=\"cond\"></a>\n",
    "## 3.1 Conditional Probability"
   ]
  },
  {
   "cell_type": "markdown",
   "metadata": {},
   "source": [
    "Consider two events X and Y. The conditional probability of an event `X given Y` is the probability that event X will occur given that the event Y has already occurred. It is denoted by `P(X|Y)` and defined as:\n",
    "\n",
    "<p style='text-indent:25em'> <strong> $ P(X|Y) = \\frac{P(X \\cap Y)}{P(Y)} $</strong> </p>\n",
    "\n",
    "Where,<br>\n",
    "P(X $\\cap$ Y): the probability of the intersection of events X and Y<br>\n",
    "P(Y): Probability of an event Y \n",
    "\n",
    "If X and Y are `mutually exclusive` events, then P(X|Y) = 0. (since, P(X $\\cap$ Y) = 0) \n",
    "\n",
    "If X and Y are `independent` events, then P(X|Y) = P(X). (since, P(X $\\cap$ Y) = P(X).P(Y))"
   ]
  },
  {
   "cell_type": "markdown",
   "metadata": {},
   "source": [
    "### Example:\n",
    "\n",
    "#### 1. A random experiment results in an integer outcome from 21 to 30. Consider two events X and Y. \n",
    "        X: Occurrence of an even number\n",
    "        Y: Occurrence of a number divisible by 4\n",
    "        \n",
    "#### Calculate the probability that an even number will occur given that the number is divisible by 4."
   ]
  },
  {
   "cell_type": "code",
   "execution_count": 12,
   "metadata": {},
   "outputs": [
    {
     "name": "stdout",
     "output_type": "stream",
     "text": [
      "The probability that an even number will occur given that the number is divisible by 4 is 1.0\n"
     ]
    }
   ],
   "source": [
    "# given sample space \n",
    "samp_space = {21, 22, 23, 24, 25, 26, 27, 28, 29, 30}\n",
    "\n",
    "# event X: Occurrence of an even number\n",
    "X = {22, 24, 26, 28, 30}\n",
    "\n",
    "# event Y: Occurrence of a number divisible by 4\n",
    "Y = {24, 28}\n",
    "\n",
    "# to find: P(X|Y)\n",
    "\n",
    "Prob_X_inter_Y = 2/10\n",
    "\n",
    "Prob_Y = 2/10\n",
    "\n",
    "req_prob = Prob_X_inter_Y / Prob_Y\n",
    "\n",
    "print('The probability that an even number will occur given that the number is divisible by 4 is', req_prob)"
   ]
  },
  {
   "cell_type": "markdown",
   "metadata": {},
   "source": [
    "Since Y $\\subset$ X, P(X $\\cap$ Y) = P(Y) which implies the P(X|Y) = 1."
   ]
  },
  {
   "cell_type": "markdown",
   "metadata": {},
   "source": [
    "#### 2. A pair of fair dice is rolled. If the product of numbers that appear is 6, find the probability that the second die shows an even number?"
   ]
  },
  {
   "cell_type": "code",
   "execution_count": 13,
   "metadata": {},
   "outputs": [
    {
     "name": "stdout",
     "output_type": "stream",
     "text": [
      "The probability that the second die shows an even number given the product of numbers is 6: 0.5\n"
     ]
    }
   ],
   "source": [
    "# total number of elements in sample space\n",
    "samp_space = 36\n",
    "\n",
    "# consider an event A: Getting the product of numbers as 6\n",
    "# A = {(1,6), (2,3), (3,2), (6,1)}\n",
    "# number of elements for event A\n",
    "num_A = 4\n",
    "\n",
    "# consider an event B: Occurrence of an even number on a second die\n",
    "# B = {(1,2), (1,4), (1,6), (2,2), (2,4), (2,6), (3,2), (3,4), (3,6),\n",
    "#      (4,2), (4,4), (4,6), (5,2), (5,4), (5,6), (6,2), (6,4), (6,6)}\n",
    "# number of elements for event B\n",
    "num_B = 18\n",
    "\n",
    "# to find: P(B|A)\n",
    "# B ∩ A = {(1,6), (3,2)}\n",
    "# number of elements in B ∩ A\n",
    "num_B_inter_A = 2\n",
    "\n",
    "# calculate required probabilities\n",
    "prob_B_inter_A = 2/36\n",
    "prob_A = 4/36\n",
    "\n",
    "# caculate conditional probability\n",
    "req_prob = prob_B_inter_A / prob_A\n",
    "\n",
    "print('The probability that the second die shows an even number given the product of numbers is 6:', req_prob)"
   ]
  },
  {
   "cell_type": "markdown",
   "metadata": {},
   "source": [
    "<a id=\"bayes\"></a>\n",
    "### 3.1.1 Bayes' Theorem"
   ]
  },
  {
   "cell_type": "markdown",
   "metadata": {},
   "source": [
    "Bayes' theorem is based upon a conditional probability concept. It is used to update the probability of an event based on the information obtained from the event that has already occurred. It is also known as `Bayes' Law` or `Bayes' Rule`. It is given as: \n",
    "\n",
    "Consider two events X and Y.\n",
    "\n",
    "<p style='text-indent:25em'><strong>$P(Y|X) =\\frac{P(Y).P(X|Y)}{P(X)}$</strong></p>\n",
    "\n",
    "Where,<br>\n",
    "P(Y|X): Probability that event Y will occur given that event X has already occurred<br>\n",
    "P(X|Y): Probability that event X will occur given that event Y has already occurred<br>\n",
    "P(X), P(Y): Probability of event X and Y respectively"
   ]
  },
  {
   "cell_type": "markdown",
   "metadata": {},
   "source": [
    "### Example:\n",
    "<img src=\"matrix.png\", width = 350>"
   ]
  },
  {
   "cell_type": "markdown",
   "metadata": {
    "collapsed": true
   },
   "source": [
    "#### 1. What is the probability that a girl is chosen given that she likes pink color?"
   ]
  },
  {
   "cell_type": "code",
   "execution_count": 14,
   "metadata": {},
   "outputs": [
    {
     "name": "stdout",
     "output_type": "stream",
     "text": [
      "The probability that a girl is chosen given that she likes Pink is 0.88\n"
     ]
    }
   ],
   "source": [
    "# probability that the favorite color is pink given girl: P(Pink | Girl)\n",
    "prob_PgG = 70/120\n",
    "\n",
    "# probability of being a girl: P(Girl)\n",
    "prob_G = 120/190\n",
    "\n",
    "# probability that the favorite color is pink: P(Pink)\n",
    "prob_P = 80/190\n",
    "\n",
    "#  probability that a girl is chosen given that she likes pink color: P(Girl | Pink)\n",
    "# using Bayes' theorem\n",
    "Prob_GgP = (prob_PgG * prob_G) / prob_P\n",
    "\n",
    "# use 'round()' to round-off the value to 2 digits\n",
    "req_prob = round(Prob_GgP, 2)\n",
    "\n",
    "print('The probability that a girl is chosen given that she likes Pink is', req_prob)"
   ]
  },
  {
   "cell_type": "markdown",
   "metadata": {},
   "source": [
    "#### 2. In an armament production station, the explosion can occur due to short circuit, fault in the machinery, negligence of workers. From experience, the chances of these causes are 0.1, 0.3, 0.6 respectively. The chief engineer feels that an explosion can occur with probability:\n",
    "        1. 0.3 if there is a short circuit\n",
    "        2. 0.2 if there is a fault in the machinery\n",
    "        3. 0.25 if the workers are negligent\n",
    "#### Given that an explosion has occurred, determine the most likely cause of it?"
   ]
  },
  {
   "cell_type": "code",
   "execution_count": 15,
   "metadata": {},
   "outputs": [
    {
     "name": "stdout",
     "output_type": "stream",
     "text": [
      "prob_sc_exp 0.125\n",
      "prob_fm_exp 0.25\n",
      "prob_nw_exp 0.625\n"
     ]
    }
   ],
   "source": [
    "# probability that the explosion can occur due to short circuit\n",
    "prob_sc = 0.1\n",
    "\n",
    "# probability that the explosion can occur due to fault in the machinery\n",
    "prob_fm = 0.3\n",
    "\n",
    "# probability that the explosion can occur due to the negligence of workers\n",
    "prob_nw = 0.6\n",
    "\n",
    "# probability that explosion occurs given there is a short circuit\n",
    "prob_exp_sc = 0.3 \n",
    "\n",
    "# probability that explosion occurs given there is a fault in the machinery\n",
    "prob_exp_fm = 0.2\n",
    "\n",
    "# probability that explosion occurs given there is a negligence of workers\n",
    "prob_exp_nw = 0.25 \n",
    "\n",
    "# probability of explosion\n",
    "prob_exp = (prob_sc*prob_exp_sc) + (prob_fm*prob_exp_fm) + (prob_nw*prob_exp_nw)\n",
    "\n",
    "# use Bayes' theorem to calculate the probabilities of cause of explosion given there is an explosion\n",
    "prob_sc_exp = (prob_exp_sc * prob_sc) / prob_exp\n",
    "prob_fm_exp = (prob_exp_fm * prob_fm) / prob_exp\n",
    "prob_nw_exp = (prob_exp_nw * prob_nw) / prob_exp\n",
    "\n",
    "print('prob_sc_exp', prob_sc_exp)\n",
    "print('prob_fm_exp', prob_fm_exp)\n",
    "print('prob_nw_exp', prob_nw_exp)"
   ]
  },
  {
   "cell_type": "markdown",
   "metadata": {},
   "source": [
    "The negligence of workers is the most likely cause of an explosion in the factory. "
   ]
  }
 ],
 "metadata": {
  "kernelspec": {
   "display_name": "Python 3 (ipykernel)",
   "language": "python",
   "name": "python3"
  },
  "language_info": {
   "codemirror_mode": {
    "name": "ipython",
    "version": 3
   },
   "file_extension": ".py",
   "mimetype": "text/x-python",
   "name": "python",
   "nbconvert_exporter": "python",
   "pygments_lexer": "ipython3",
   "version": "3.10.7"
  }
 },
 "nbformat": 4,
 "nbformat_minor": 2
}
