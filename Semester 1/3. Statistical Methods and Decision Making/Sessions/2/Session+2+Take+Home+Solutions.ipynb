{
 "cells": [
  {
   "cell_type": "markdown",
   "metadata": {},
   "source": [
    "<table align=\"center\" width=100%>\n",
    "    <tr>\n",
    "        <td width=\"15%\">\n",
    "            <img src=\"homework.png\">\n",
    "        </td>\n",
    "        <td>\n",
    "            <div align=\"center\">\n",
    "                <font color=\"#21618C\" size=8px>\n",
    "                    <b> Take-Home <br>(Session 2)\n",
    "                    </b>\n",
    "                </font>\n",
    "            </div>\n",
    "        </td>\n",
    "    </tr>\n",
    "</table>"
   ]
  },
  {
   "cell_type": "markdown",
   "metadata": {},
   "source": [
    "**Import the required libraries**"
   ]
  },
  {
   "cell_type": "code",
   "execution_count": 1,
   "metadata": {},
   "outputs": [],
   "source": [
    "# import 'numpy' \n",
    "import numpy as np\n",
    "\n",
    "# to suppress warnings \n",
    "from warnings import filterwarnings\n",
    "filterwarnings('ignore')\n",
    "\n",
    "# import 'factorial' from math library\n",
    "from math import factorial\n",
    "\n",
    "# import 'stats' package from scipy library\n",
    "from scipy import stats\n",
    "\n",
    "# import 'random' to generate a random sample\n",
    "import random"
   ]
  },
  {
   "cell_type": "markdown",
   "metadata": {},
   "source": [
    "### Let's begin with some hands-on practice exercises"
   ]
  },
  {
   "cell_type": "markdown",
   "metadata": {
    "collapsed": true
   },
   "source": [
    "<table align=\"left\">\n",
    "    <tr>\n",
    "        <td width=\"6%\">\n",
    "            <img src=\"question_icon.png\">\n",
    "        </td>\n",
    "        <td>\n",
    "            <div align=\"left\", style=\"font-size:120%\">\n",
    "                <font color=\"#21618C\">\n",
    "                    <b>1. A gift package contains 4 sandalwood perfumes, 6 cherry blossom perfumes and 8 rose perfumes. Two perfumes are randomly selected. Calculate the probability that the sandalwood perfumes are not selected? </b>\n",
    "                </font>\n",
    "            </div>\n",
    "        </td>\n",
    "    </tr>\n",
    "</table>"
   ]
  },
  {
   "cell_type": "code",
   "execution_count": 2,
   "metadata": {},
   "outputs": [
    {
     "name": "stdout",
     "output_type": "stream",
     "text": [
      "The probability that none of the two perfumes is sandalwood: 0.5947712418300654\n"
     ]
    }
   ],
   "source": [
    "# A be the event of selecting 2 perfumes, none of which is sandalwood\n",
    "# to find: P(A)\n",
    "\n",
    "# total number of perfumes\n",
    "num = 4 + 6 + 8\n",
    "\n",
    "# define a function to calculate combinations \n",
    "def combination(n, r):\n",
    "    result = factorial(n) / (factorial(r) * factorial(n-r))\n",
    "    return result\n",
    "\n",
    "# total number of ways of selecting two perfumes\n",
    "total_ways = combination(num, 2)\n",
    "\n",
    "# select 2 perfumes such that none of which is sandalwood\n",
    "num_A = combination(14, 2)\n",
    "\n",
    "# required probability\n",
    "prob =  num_A / total_ways\n",
    "\n",
    "print('The probability that none of the two perfumes is sandalwood:', prob)"
   ]
  },
  {
   "cell_type": "markdown",
   "metadata": {
    "collapsed": true
   },
   "source": [
    "<table align=\"left\">\n",
    "    <tr>\n",
    "        <td width=\"6%\">\n",
    "            <img src=\"question_icon.png\">\n",
    "        </td>\n",
    "        <td>\n",
    "            <div align=\"left\", style=\"font-size:120%\">\n",
    "                <font color=\"#21618C\">\n",
    "                    <b>2. The students' committee had organized a fun gala at their school. Three friends Jack, Mark and Bran have participated in the bucketball game and successfully threw the ball in a bucket with the probability 0.65, 0.6, 0.7 respectively. What is the probability that Bran will miss the target given that Mark threw the ball successfully?</b>\n",
    "                </font>\n",
    "            </div>\n",
    "        </td>\n",
    "    </tr>\n",
    "</table>"
   ]
  },
  {
   "cell_type": "code",
   "execution_count": 3,
   "metadata": {},
   "outputs": [
    {
     "name": "stdout",
     "output_type": "stream",
     "text": [
      "The probability that Bran will miss the target given that Mark threw the ball successfully is: 0.30000000000000004\n"
     ]
    }
   ],
   "source": [
    "# given probabilities\n",
    "P_Jack = 0.65\n",
    "P_Mark = 0.6\n",
    "P_Bran = 0.7\n",
    "\n",
    "# let 'Bran_comp' be the event that Bran misses the target\n",
    "# to find: P(Bran_comp | Mark)\n",
    "# since the events that Jack, Mark and Bran successfully threw the balls is independent\n",
    "# i.e P(Bran_comp | Mark) = P(Bran_comp)\n",
    "P_Bran_comp = 1 - P_Bran\n",
    "\n",
    "print('The probability that Bran will miss the target given that Mark threw the ball successfully is:', P_Bran_comp)"
   ]
  },
  {
   "cell_type": "markdown",
   "metadata": {
    "collapsed": true
   },
   "source": [
    "<table align=\"left\">\n",
    "    <tr>\n",
    "        <td width=\"6%\">\n",
    "            <img src=\"question_icon.png\">\n",
    "        </td>\n",
    "        <td>\n",
    "            <div align=\"left\", style=\"font-size:120%\">\n",
    "                <font color=\"#21618C\">\n",
    "                    <b>3. Japanese council has released a list of cities that are either at high or moderate risk for an earthquake. The odds that a city picked at random will be at high risk is a:8. The probability of selecting a city with high risk is 0.6. Find the number of cities in the list with high risk.\n",
    "</b>\n",
    "                </font>\n",
    "            </div>\n",
    "        </td>\n",
    "    </tr>\n",
    "</table>"
   ]
  },
  {
   "cell_type": "code",
   "execution_count": 4,
   "metadata": {},
   "outputs": [
    {
     "name": "stdout",
     "output_type": "stream",
     "text": [
      "Number of cities at high risk: 12\n"
     ]
    }
   ],
   "source": [
    "# here odds are a:8\n",
    "# to find: value of a\n",
    "b = 8\n",
    "\n",
    "# probability that the selected city is at high risk\n",
    "prob = 0.6\n",
    "\n",
    "# prob = a/ (a+b)\n",
    "# i.e. a = bp/ (1-p)\n",
    "a = (b*prob)/ (1 - prob)\n",
    "\n",
    "# consider the round-off value of a \n",
    "print('Number of cities at high risk:', round(a))"
   ]
  }
 ],
 "metadata": {
  "kernelspec": {
   "display_name": "Python 3 (ipykernel)",
   "language": "python",
   "name": "python3"
  },
  "language_info": {
   "codemirror_mode": {
    "name": "ipython",
    "version": 3
   },
   "file_extension": ".py",
   "mimetype": "text/x-python",
   "name": "python",
   "nbconvert_exporter": "python",
   "pygments_lexer": "ipython3",
   "version": "3.9.7"
  }
 },
 "nbformat": 4,
 "nbformat_minor": 2
}
