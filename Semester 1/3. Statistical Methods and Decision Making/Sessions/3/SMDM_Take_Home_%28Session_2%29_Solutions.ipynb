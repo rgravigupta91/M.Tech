{
  "cells": [
    {
      "cell_type": "markdown",
      "metadata": {
        "id": "eX_nUB3TPeiJ"
      },
      "source": [
        "<table align=\"center\" width=100%>\n",
        "    <tr>\n",
        "        <td width=\"15%\">\n",
        "            <img src=\"homework.png\">\n",
        "        </td>\n",
        "        <td>\n",
        "            <div align=\"center\">\n",
        "                <font color=\"#21618C\" size=8px>\n",
        "                    <b> Take-Home <br>(Session 2)\n",
        "                    </b>\n",
        "                </font>\n",
        "            </div>\n",
        "        </td>\n",
        "    </tr>\n",
        "</table>"
      ]
    },
    {
      "cell_type": "markdown",
      "metadata": {
        "id": "hTtlsdvkPeiL"
      },
      "source": [
        "**Import the required libraries**"
      ]
    },
    {
      "cell_type": "code",
      "execution_count": null,
      "metadata": {
        "id": "WgLF0nTtPeiM"
      },
      "outputs": [],
      "source": [
        "# import 'numpy'\n",
        "import numpy as np\n",
        "\n",
        "# to suppress warnings\n",
        "from warnings import filterwarnings\n",
        "filterwarnings('ignore')\n",
        "\n",
        "# import 'factorial' from math library\n",
        "from math import factorial\n",
        "\n",
        "# import 'stats' package from scipy library\n",
        "from scipy import stats\n",
        "\n",
        "# import 'random' to generate a random sample\n",
        "import random\n",
        "\n",
        "# import subpackage of matplotlib\n",
        "import matplotlib.pyplot as plt\n",
        "\n",
        "# import 'seaborn'\n",
        "import seaborn as sns\n",
        "\n",
        "\n",
        "# import statistics to perform statistical computation\n",
        "import statistics\n",
        "\n",
        "# import 'stats' package from scipy library\n",
        "from scipy import stats"
      ]
    },
    {
      "cell_type": "markdown",
      "metadata": {
        "id": "fG4DYPFEPeiN"
      },
      "source": [
        "### Let's begin with some hands-on practice exercises"
      ]
    },
    {
      "cell_type": "markdown",
      "metadata": {
        "collapsed": true,
        "id": "REE0ECMCPeiO"
      },
      "source": [
        "<table align=\"left\">\n",
        "    <tr>\n",
        "        <td width=\"6%\">\n",
        "            <img src=\"question_icon.png\">\n",
        "        </td>\n",
        "        <td>\n",
        "            <div align=\"left\", style=\"font-size:120%\">\n",
        "                <font color=\"#21618C\">\n",
        "                    <b>1. Let X be a discrete random variable representing the number of accidents happening per day at a chemical factory. What should be the value of k such that P(X=x) will be a probability mass function of X. Also find the probability that at most 2 accidents will occur in a day. </b>\n",
        "                </font>\n",
        "            </div>\n",
        "        </td>\n",
        "    </tr>\n",
        "</table>"
      ]
    },
    {
      "cell_type": "markdown",
      "metadata": {
        "id": "W2qE9GSpPeiO"
      },
      "source": [
        "<table align=\"center\" width=100%>\n",
        "    <tr>\n",
        "        <td width=\"35%\">\n",
        "            <img src=\"prob.png\">\n",
        "        </td>\n",
        "    </tr>\n",
        "</table>"
      ]
    },
    {
      "cell_type": "code",
      "execution_count": null,
      "metadata": {
        "id": "DYiB8nZnPeiO",
        "outputId": "96956434-cc80-4d68-c354-407d669d4fd9"
      },
      "outputs": [
        {
          "name": "stdout",
          "output_type": "stream",
          "text": [
            "The probability that at most 2 accidents will occur in a day is: 0.8076923076923077\n"
          ]
        }
      ],
      "source": [
        "# first let us find the value of k\n",
        "# P(X=x) will be a probability mass function of X if sum of all the probabilities is equal to 1\n",
        "# i.e. 1 = 8k + 10k + 3k + 5k\n",
        "k = 1/ 26\n",
        "\n",
        "# to find: P(X <= 2) = 1 - P(X = 3)\n",
        "req_prob = 1 - (5*k)\n",
        "\n",
        "print('The probability that at most 2 accidents will occur in a day is:', req_prob)"
      ]
    },
    {
      "cell_type": "markdown",
      "metadata": {
        "collapsed": true,
        "id": "_Gf2YLkGPeiP"
      },
      "source": [
        "<table align=\"left\">\n",
        "    <tr>\n",
        "        <td width=\"6%\">\n",
        "            <img src=\"question_icon.png\">\n",
        "        </td>\n",
        "        <td>\n",
        "            <div align=\"left\", style=\"font-size:120%\">\n",
        "                <font color=\"#21618C\">\n",
        "                    <b>2. On an online payment gateway, on average 9 out of 25 customers are getting an error while redeeming the gift coupon. A random sample of 40 customers is selected. Find the probability that at most 16 customers will get the same error.\n",
        "</b>\n",
        "                </font>\n",
        "            </div>\n",
        "        </td>\n",
        "    </tr>\n",
        "</table>"
      ]
    },
    {
      "cell_type": "markdown",
      "metadata": {
        "id": "kTyNmmmlPeiQ"
      },
      "source": [
        "Consider a discrete random variable X representing the occurrence of error  while redeeming the gift coupon. Here X follows a binomial distribution with n = 40, p = 0.36."
      ]
    },
    {
      "cell_type": "code",
      "execution_count": null,
      "metadata": {
        "id": "R93PA2lHPeiQ",
        "outputId": "2f9dd164-7db3-4e32-f74f-1d9ae4882fcf"
      },
      "outputs": [
        {
          "name": "stdout",
          "output_type": "stream",
          "text": [
            "The probability that at most 16 customers will get the same error is: 0.7577762236447019\n"
          ]
        }
      ],
      "source": [
        "# use 'binom.cdf()' to calculate the probability that at most 16 customers will get the same error (i.e. P(X <= 16))\n",
        "# pass the required value of customers to the parameter, 'k'\n",
        "# pass number of total customers to the parameter, 'n'\n",
        "# here the success is the customer getting an error with probability 0.36\n",
        "prob = stats.binom.cdf(k = 16, n = 40, p = 0.36)\n",
        "\n",
        "print('The probability that at most 16 customers will get the same error is:', prob)"
      ]
    },
    {
      "cell_type": "markdown",
      "metadata": {
        "collapsed": true,
        "id": "F7bOsYk-PeiQ"
      },
      "source": [
        "<table align=\"left\">\n",
        "    <tr>\n",
        "        <td width=\"6%\">\n",
        "            <img src=\"question_icon.png\">\n",
        "        </td>\n",
        "        <td>\n",
        "            <div align=\"left\", style=\"font-size:120%\">\n",
        "                <font color=\"#21618C\">\n",
        "                    <b>3. The previous month's record shows that on average 12 parcels are collected per day at the Perk courier service. Assume that the number of parcels collected per day follows poisson distribution. Calculate the probability that 10 parcels will be collected tomorrow.</b>\n",
        "                </font>\n",
        "            </div>\n",
        "        </td>\n",
        "    </tr>\n",
        "</table>"
      ]
    },
    {
      "cell_type": "code",
      "execution_count": null,
      "metadata": {
        "id": "f2A82JoIPeiR",
        "outputId": "0bd1e988-6384-4852-ed39-f027831c87a4"
      },
      "outputs": [
        {
          "name": "stdout",
          "output_type": "stream",
          "text": [
            "The probability that 10 parcels will be collected tomorrow is 0.10483725588365922\n"
          ]
        }
      ],
      "source": [
        "# use 'poisson.pmf()' to calculate the  probability that 10 parcels will be collected tomorrow. i.e. P(X = 10)\n",
        "# pass the required number of parcels to the parameter, 'k'\n",
        "# pass the average number of parcels to the parameter, 'mu'\n",
        "prob = stats.poisson.pmf(k = 10, mu = 12)\n",
        "\n",
        "print('The probability that 10 parcels will be collected tomorrow is', prob)"
      ]
    },
    {
      "cell_type": "code",
      "execution_count": null,
      "metadata": {
        "id": "4h_6LZVPPeiR",
        "outputId": "60bd2858-a82e-442c-c37d-dd859f8f13fb"
      },
      "outputs": [
        {
          "name": "stdout",
          "output_type": "stream",
          "text": [
            "Median thickness: 5.0\n"
          ]
        }
      ],
      "source": [
        "# use 'uniform.median()' to calculate the median of X\n",
        "# pass the start point of the interval to the parameter, 'loc'\n",
        "# pass the difference between the end point and start point of the interval to the parameter, 'scale'\n",
        "med_thickness = stats.uniform.median(loc = 3, scale = 4)\n",
        "\n",
        "print('Median thickness:', med_thickness)"
      ]
    },
    {
      "cell_type": "markdown",
      "metadata": {
        "collapsed": true,
        "id": "0NOlIryAPeiR"
      },
      "source": [
        "<table align=\"left\">\n",
        "    <tr>\n",
        "        <td width=\"6%\">\n",
        "            <img src=\"question_icon.png\">\n",
        "        </td>\n",
        "        <td>\n",
        "            <div align=\"left\", style=\"font-size:120%\">\n",
        "                <font color=\"#21618C\">\n",
        "                    <b>4. The survey by road safety department states that the in the Oneonta city the average speed of vehicle is 65 mph and the standard deviation is 9 mph. Find the probability that a randomly selected vehicle has a speed greater than 78 mph.\n",
        "</b>\n",
        "                </font>\n",
        "            </div>\n",
        "        </td>\n",
        "    </tr>\n",
        "</table>"
      ]
    },
    {
      "cell_type": "markdown",
      "metadata": {
        "id": "RSTqAVt0PeiR"
      },
      "source": [
        "Consider a continuous random variable X representing the speed of the vehicle. Here X follows a normal distribution with mean 65 and standard deviation 9."
      ]
    },
    {
      "cell_type": "code",
      "execution_count": null,
      "metadata": {
        "id": "56TzmOjdPeiR",
        "outputId": "964c829e-6e6c-4d28-dffc-99dfdff64e25"
      },
      "outputs": [
        {
          "name": "stdout",
          "output_type": "stream",
          "text": [
            "The probability that the speed of a randomly selected vehicle is greater than 78 is: 0.07430699822760586\n"
          ]
        }
      ],
      "source": [
        "# to find: P(X > 78)\n",
        "# average speed\n",
        "avg = 65\n",
        "\n",
        "# standard deviation\n",
        "std = 9\n",
        "\n",
        "# standardize the variable with x = 78\n",
        "z = (78 - avg) / std\n",
        "\n",
        "# calculate the probability that the speed of randomly selected vehicle is greater than 78\n",
        "# 'sf()' returns the P(Z > z) i.e P(Z > 78)\n",
        "prob = stats.norm.sf(z)\n",
        "\n",
        "print('The probability that the speed of a randomly selected vehicle is greater than 78 is:', prob)"
      ]
    },
    {
      "cell_type": "markdown",
      "metadata": {
        "collapsed": true,
        "id": "EbF7YM64PeiR"
      },
      "source": [
        "<table align=\"left\">\n",
        "    <tr>\n",
        "        <td width=\"6%\">\n",
        "            <img src=\"question_icon.png\">\n",
        "        </td>\n",
        "        <td>\n",
        "            <div align=\"left\", style=\"font-size:120%\">\n",
        "                <font color=\"#21618C\">\n",
        "                    <b>5. A wrist-watch company wants to perform a quality check before launching their next-generation k22-digital watch. The production team has delivered 30 watches with number tags as 1,2,...30 on each watch for the quality check. Pick 5 watches randomly to check the quality. </b>\n",
        "                </font>\n",
        "            </div>\n",
        "        </td>\n",
        "    </tr>\n",
        "</table>"
      ]
    },
    {
      "cell_type": "code",
      "execution_count": null,
      "metadata": {
        "id": "k57vJ5e-PeiS",
        "outputId": "54f43ab0-28c4-404d-93a5-40a315bae6ca"
      },
      "outputs": [
        {
          "name": "stdout",
          "output_type": "stream",
          "text": [
            "Sample without replacement: [18, 15, 27, 10, 8]\n"
          ]
        }
      ],
      "source": [
        "# we select 5 watches without replacement from a population of 30 watches\n",
        "# 30 watches with number tags as 1,2,...,30\n",
        "data = np.arange(1,31,1)\n",
        "\n",
        "# pass the list of number tags on watches to the parameter, 'population'\n",
        "# pass the required sample size to the parameter, 'k'\n",
        "sample_wor = random.sample(population = list(data), k = 5)\n",
        "\n",
        "# print the sample\n",
        "print('Sample without replacement:', sample_wor)\n",
        "\n",
        "# Note: we can set 'random.seed()' to get the same output for each time the code runs"
      ]
    },
    {
      "cell_type": "markdown",
      "metadata": {
        "collapsed": true,
        "id": "yRAeJqj5PeiS"
      },
      "source": [
        "<table align=\"left\">\n",
        "    <tr>\n",
        "        <td width=\"6%\">\n",
        "            <img src=\"question_icon.png\">\n",
        "        </td>\n",
        "        <td>\n",
        "            <div align=\"left\", style=\"font-size:120%\">\n",
        "                <font color=\"#21618C\">\n",
        "                    <b>6. The meteorological department states that on average the temperature on summer days is 82 (degree F) in California. For a study on climate change, a sample of data is collected for 20 summer days. Find the sampling error for the mean.</b>\n",
        "                </font>\n",
        "            </div>\n",
        "        </td>\n",
        "    </tr>\n",
        "</table>"
      ]
    },
    {
      "cell_type": "markdown",
      "metadata": {
        "id": "yq4FaQkmPeiS"
      },
      "source": [
        "Use the data given below:\n",
        "        \n",
        "            temp (in F) = [51, 68, 83, 93, 89, 58, 79, 54, 60, 77, 87, 57, 63, 85, 92, 74, 67, 88, 91, 82]"
      ]
    },
    {
      "cell_type": "code",
      "execution_count": null,
      "metadata": {
        "id": "LO1cgZJrPeiS",
        "outputId": "0b3f1064-dd22-4e51-a9e1-0197f46a475c"
      },
      "outputs": [
        {
          "name": "stdout",
          "output_type": "stream",
          "text": [
            "Sampling error for mean: 7.099999999999994\n"
          ]
        }
      ],
      "source": [
        "# sample data\n",
        "temp = [51, 68, 83, 93, 89, 58, 79, 54, 60, 77, 87, 57, 63, 85, 92, 74, 67, 88, 91, 82]\n",
        "\n",
        "# calculate the point estimate for the population mean\n",
        "samp_mean = np.mean(temp)\n",
        "\n",
        "# given population mean\n",
        "pop_mean = 82\n",
        "\n",
        "# calculate the sampling error for mean\n",
        "print(\"Sampling error for mean:\", np.abs(samp_mean - pop_mean))"
      ]
    },
    {
      "cell_type": "markdown",
      "metadata": {
        "collapsed": true,
        "id": "NfsMEP-gPeiS"
      },
      "source": [
        "<table align=\"left\">\n",
        "    <tr>\n",
        "        <td width=\"6%\">\n",
        "            <img src=\"question_icon.png\">\n",
        "        </td>\n",
        "        <td>\n",
        "            <div align=\"left\", style=\"font-size:120%\">\n",
        "                <font color=\"#21618C\">\n",
        "                    <b>7. A team of IT experts wants to estimate the average time required to a system to run a specific program. The team aims to estimate the average time with 95% confidence. A technical report from last week shows that the standard deviation is 3.8 minutes. The team decides that the margin of error should be 1.2 minutes. How many systems should the team choose for the estimation? </b>\n",
        "                </font>\n",
        "            </div>\n",
        "        </td>\n",
        "    </tr>\n",
        "</table>"
      ]
    },
    {
      "cell_type": "code",
      "execution_count": null,
      "metadata": {
        "id": "x3UIE1yYPeiS",
        "outputId": "32968487-55d8-4820-876f-ff2c510fba31"
      },
      "outputs": [
        {
          "name": "stdout",
          "output_type": "stream",
          "text": [
            "Required number of systems for the time estimation study: 39.0\n"
          ]
        }
      ],
      "source": [
        "# calculate sample size using the given margin of error\n",
        "\n",
        "# population standard deviation\n",
        "sigma = 3.8\n",
        "\n",
        "# required margin of error\n",
        "ME = 1.2\n",
        "\n",
        "# calculate z-value with alpha = 0.05\n",
        "# use 'stats.norm.isf()' to find the Z-value corresponding to the upper tail probability 'q'\n",
        "# pass the value of 'alpha/2' to the parameter 'q'\n",
        "# use 'round()' to round-off the value to 4 digits\n",
        "z_alpha_by_2 = np.abs(round(stats.norm.isf(q = 0.05/2), 4))\n",
        "\n",
        "# calculate sample size (n)\n",
        "n = ((z_alpha_by_2)**2)*(sigma**2)/(ME**2)\n",
        "\n",
        "# round-off the value of 'n' to get the integer value\n",
        "print('Required number of systems for the time estimation study:', round(n))"
      ]
    },
    {
      "cell_type": "markdown",
      "metadata": {
        "collapsed": true,
        "id": "CSBB0RBbPeiT"
      },
      "source": [
        "<table align=\"left\">\n",
        "    <tr>\n",
        "        <td width=\"6%\">\n",
        "            <img src=\"question_icon.png\">\n",
        "        </td>\n",
        "        <td>\n",
        "            <div align=\"left\", style=\"font-size:120%\">\n",
        "                <font color=\"#21618C\">\n",
        "                    <b>8. The production manager at the Xen Sewing Factory claims that on average the diameter of a class 14M bobbin is less than 18 mm. The previous study shows that the standard deviation is 1.7 mm. Consider a sample of 40 class 14M bobbins from a normally distributed population with sample mean diameter as 17.5 mm. Calculate 99% confidence interval for the population mean diameter.\n",
        "</b>\n",
        "                </font>\n",
        "            </div>\n",
        "        </td>\n",
        "    </tr>\n",
        "</table>"
      ]
    },
    {
      "cell_type": "markdown",
      "metadata": {
        "id": "2qHsT90KPeiT"
      },
      "source": [
        "As the sample size is large (> 30), we use the Z-distribution to calculate the confidence interval."
      ]
    },
    {
      "cell_type": "code",
      "execution_count": null,
      "metadata": {
        "id": "SxjSyVCxPeiT",
        "outputId": "a296237d-602b-4caa-deb2-bc131e870186"
      },
      "outputs": [
        {
          "name": "stdout",
          "output_type": "stream",
          "text": [
            "The 99% confidence interval of population mean is [16.81 18.19]\n"
          ]
        }
      ],
      "source": [
        "# number of observations in sample\n",
        "n = 40\n",
        "\n",
        "# given population standard deviation\n",
        "std_pop = 1.7\n",
        "\n",
        "# given sample mean\n",
        "samp_mean = 17.5\n",
        "\n",
        "# calculate the 99% confidence interval\n",
        "# pass the sample mean to the parameter, 'loc'\n",
        "# pass the scaling factor (std_pop / n^(1/2)) to the parameter, 'scale'\n",
        "interval = stats.norm.interval(0.99, loc = samp_mean, scale = std_pop / np.sqrt(n))\n",
        "\n",
        "# print the 99% confidence interval\n",
        "# use 'round()' to round-off the value to 2 digits\n",
        "print('The 99% confidence interval of population mean is', np.round(interval,2))"
      ]
    },
    {
      "cell_type": "markdown",
      "metadata": {
        "collapsed": true,
        "id": "s9E2lPDrPeiT"
      },
      "source": [
        "<table align=\"left\">\n",
        "    <tr>\n",
        "        <td width=\"6%\">\n",
        "            <img src=\"question_icon.png\">\n",
        "        </td>\n",
        "        <td>\n",
        "            <div align=\"left\", style=\"font-size:120%\">\n",
        "                <font color=\"#21618C\">\n",
        "                    <b>9. A construction company wants to estimate the daily wages of contract workers. In the construction business, the wages of contract workers follow the normal distribution with a standard deviation of 85 dollars. A sample of wages for 50 contract workers is considered for the study. Calculate the margin of error for a 95% confidence level.</b>\n",
        "                </font>\n",
        "            </div>\n",
        "        </td>\n",
        "    </tr>\n",
        "</table>"
      ]
    },
    {
      "cell_type": "code",
      "execution_count": null,
      "metadata": {
        "id": "QZPUaBo9PeiT",
        "outputId": "d0b8eabd-b3a7-4dcd-ab57-edc9ccc89b6b"
      },
      "outputs": [
        {
          "name": "stdout",
          "output_type": "stream",
          "text": [
            "Margin of error: 23.56079794913576\n"
          ]
        }
      ],
      "source": [
        "# sample size\n",
        "n = 50\n",
        "\n",
        "# population standard deviaion\n",
        "std = 85\n",
        "\n",
        "# given alpha\n",
        "alpha = 0.95\n",
        "\n",
        "# calculate z_alpha_by_2 with alpha = 0.05\n",
        "# use 'stats.norm.isf()' to find the Z-value corresponding to the upper tail probability 'q'\n",
        "# pass the value of 'alpha/2' to the parameter 'q'\n",
        "# use 'round()' to round-off the value to 4 digits\n",
        "z_alpha_by_2 = np.abs(round(stats.norm.isf(q = 0.05/2), 4))\n",
        "\n",
        "# calculate margin of error\n",
        "error = (z_alpha_by_2*std)/ np.sqrt(n)\n",
        "\n",
        "print('Margin of error:', error)"
      ]
    },
    {
      "cell_type": "markdown",
      "metadata": {
        "collapsed": true,
        "id": "kuMgfK2VPeiT"
      },
      "source": [
        "<table align=\"left\">\n",
        "    <tr>\n",
        "        <td width=\"6%\">\n",
        "            <img src=\"question_icon.png\">\n",
        "        </td>\n",
        "        <td>\n",
        "            <div align=\"left\", style=\"font-size:120%\">\n",
        "                <font color=\"#21618C\">\n",
        "                    <b>10. To study the climate changes, a sample of data of temperature in California is collected for 20 summer days. Calculate 95% confidence interval for the population mean temperature.</b>\n",
        "                </font>\n",
        "            </div>\n",
        "        </td>\n",
        "    </tr>\n",
        "</table>"
      ]
    },
    {
      "cell_type": "markdown",
      "metadata": {
        "id": "XZjBEgfIPeiT"
      },
      "source": [
        "Use the data given below:\n",
        "        \n",
        "            temp (in F) = [51, 68, 83, 93, 89, 58, 79, 54, 60, 77, 87, 57, 63, 85, 92, 74, 67, 88, 91, 82]"
      ]
    },
    {
      "cell_type": "markdown",
      "metadata": {
        "id": "jV6v1NRpPeiU"
      },
      "source": [
        "As the sample size is small (< 30), we use the t-distribution to calculate the confidence interval."
      ]
    },
    {
      "cell_type": "code",
      "execution_count": null,
      "metadata": {
        "id": "r_vz4KlIPeiU",
        "outputId": "a8e60551-49f3-4431-886b-f68044410fbe"
      },
      "outputs": [
        {
          "name": "stdout",
          "output_type": "stream",
          "text": [
            "95% confidence interval for population mean is (68.34797425774923, 81.45202574225078)\n"
          ]
        }
      ],
      "source": [
        "# given sample data\n",
        "temp = [51, 68, 83, 93, 89, 58, 79, 54, 60, 77, 87, 57, 63, 85, 92, 74, 67, 88, 91, 82]\n",
        "\n",
        "# number of observations in the sample\n",
        "n = len(temp)\n",
        "\n",
        "# sample mean\n",
        "sample_avg = np.mean(temp)\n",
        "\n",
        "# use 'stdev()' to calculate sample standard deviation\n",
        "sample_std = statistics.stdev(temp)\n",
        "\n",
        "# calculate the 95% confidence interval for the population mean\n",
        "# pass the 'n-1' degrees of freedom to the parameter, 'df'\n",
        "# pass the sample mean to the parameter, 'loc'\n",
        "# pass the scaling factor (sample_std / n^(1/2)) to the parameter, 'scale'\n",
        "# as the population standard deviation is unknown, use the sample standard deviation\n",
        "interval = stats.t.interval(0.95, df = n-1, loc = sample_avg, scale = sample_std/np.sqrt(n))\n",
        "\n",
        "print('95% confidence interval for population mean is', interval)"
      ]
    },
    {
      "cell_type": "markdown",
      "metadata": {
        "collapsed": true,
        "id": "fMmDOkexPeiU"
      },
      "source": [
        "<table align=\"left\">\n",
        "    <tr>\n",
        "        <td width=\"6%\">\n",
        "            <img src=\"question_icon.png\">\n",
        "        </td>\n",
        "        <td>\n",
        "            <div align=\"left\", style=\"font-size:120%\">\n",
        "                <font color=\"#21618C\">\n",
        "                    <b>11. A botanical garden in Manchester city planted 350 plant seeds of white, pink and blue lily in the last summer. After 3 months a sample of 125 plants was selected, out of which 80 plants were found to be of pink lilies. Find a 90% confidence interval for the population proportion of pink lily plants.</b>\n",
        "                </font>\n",
        "            </div>\n",
        "        </td>\n",
        "    </tr>\n",
        "</table>"
      ]
    },
    {
      "cell_type": "code",
      "execution_count": null,
      "metadata": {
        "id": "-H-bhkt4PeiU",
        "outputId": "2b11d1ab-f34c-4290-e5c3-cf76c7f47cbe"
      },
      "outputs": [
        {
          "name": "stdout",
          "output_type": "stream",
          "text": [
            "90% confidence interval for population proportion of pink lily plants: (0.569382313160309, 0.710617686839691)\n"
          ]
        }
      ],
      "source": [
        "# total count of plant seeds\n",
        "N = 350\n",
        "\n",
        "# number of plants in a sample\n",
        "n = 125\n",
        "\n",
        "# number of pink lily plants in a sample\n",
        "x = 80\n",
        "\n",
        "# sample proportion\n",
        "p_samp = x/n\n",
        "\n",
        "# calculate the 90% confidence interval\n",
        "# pass the sample proportion to the parameter, 'loc'\n",
        "# pass the scaling factor ((p_samp*(1-p_samp))/n))^0.5) to the parameter, 'scale'\n",
        "interval = stats.norm.interval(0.90, loc = p_samp, scale = np.sqrt((p_samp*(1-p_samp))/n))\n",
        "\n",
        "print('90% confidence interval for population proportion of pink lily plants:', interval)"
      ]
    }
  ],
  "metadata": {
    "kernelspec": {
      "display_name": "Python 3",
      "language": "python",
      "name": "python3"
    },
    "language_info": {
      "codemirror_mode": {
        "name": "ipython",
        "version": 3
      },
      "file_extension": ".py",
      "mimetype": "text/x-python",
      "name": "python",
      "nbconvert_exporter": "python",
      "pygments_lexer": "ipython3",
      "version": "3.8.3"
    },
    "colab": {
      "provenance": []
    }
  },
  "nbformat": 4,
  "nbformat_minor": 0
}