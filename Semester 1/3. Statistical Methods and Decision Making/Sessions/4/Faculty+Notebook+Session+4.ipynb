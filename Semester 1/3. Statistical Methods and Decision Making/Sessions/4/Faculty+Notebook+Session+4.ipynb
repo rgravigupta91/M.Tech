{
 "cells": [
  {
   "cell_type": "markdown",
   "metadata": {},
   "source": [
    "<table align=\"left\" width=100%>\n",
    "    <tr>\n",
    "        <td width=\"20%\">\n",
    "            <img src=\"faculty.png\">\n",
    "        </td>\n",
    "        <td>\n",
    "            <div align=\"center\">\n",
    "                <font color=\"#21618C\" size=8px>\n",
    "                  <b> Faculty Notebook <br> (Session 4) </b>\n",
    "                </font>\n",
    "            </div>\n",
    "        </td>\n",
    "    </tr>\n",
    "</table>"
   ]
  },
  {
   "cell_type": "markdown",
   "metadata": {},
   "source": [
    "## Table of Content\n",
    "\n",
    "1. **[Import Libraries](#lib)**\n",
    "2. **[Test of Hypothesis](#defn)**\n",
    "    - 3.1 - **[Types of Hypothesis](#types)**\n",
    "3. **[Types of Test](#test_type)**\n",
    "    - 3.1 - **[Two Tailed Test](#2tailed)**\n",
    "    - 3.2 - **[One Tailed Test](#1tailed)**\n",
    "4. **[Hypothesis Tests with Z Statistic](#eg)**\n",
    "5. **[Error](#error)**\n",
    "    - 5.1 - **[Power of Hypothesis Test](#power)**\n",
    "6. **[Large Sample Test](#z)**\n",
    "    - 6.1 - **[One Sample Z Test](#1z)**\n",
    "    - 6.2 - **[Two Sample Z Test](#2z)**"
   ]
  },
  {
   "cell_type": "markdown",
   "metadata": {},
   "source": [
    "<a id=\"lib\"></a>\n",
    "# 1. Import Libraries"
   ]
  },
  {
   "cell_type": "markdown",
   "metadata": {},
   "source": [
    "**Let us import the required libraries.**"
   ]
  },
  {
   "cell_type": "code",
   "execution_count": 1,
   "metadata": {},
   "outputs": [],
   "source": [
    "# import 'pandas' \n",
    "import pandas as pd \n",
    "\n",
    "# import 'numpy' \n",
    "import numpy as np\n",
    "\n",
    "# import subpackage of matplotlib\n",
    "import matplotlib.pyplot as plt\n",
    "\n",
    "# import 'seaborn'\n",
    "import seaborn as sns\n",
    "\n",
    "# to suppress warnings \n",
    "from warnings import filterwarnings\n",
    "filterwarnings('ignore')\n",
    "\n",
    "# import 'random' to generate random sample\n",
    "import random\n",
    "\n",
    "# import statistics to perform statistical computation  \n",
    "import statistics\n",
    "\n",
    "# import 'stats' package from scipy library\n",
    "from scipy import stats\n",
    "\n",
    "# import a library to perform Z-test\n",
    "from statsmodels.stats import weightstats as stests\n",
    "\n",
    "# to test the normality \n",
    "from scipy.stats import shapiro\n",
    "\n",
    "# import the function to calculate the power of test\n",
    "from statsmodels.stats import power\n",
    "\n"
   ]
  },
  {
   "cell_type": "code",
   "execution_count": 2,
   "metadata": {},
   "outputs": [],
   "source": [
    "# set the plot size using 'rcParams'\n",
    "# once the plot size is set using 'rcParams', it sets the size of all the forthcoming plots in the file\n",
    "# pass width and height in inches to 'figure.figsize' \n",
    "plt.rcParams['figure.figsize'] = [15,8]"
   ]
  },
  {
   "cell_type": "markdown",
   "metadata": {},
   "source": [
    "<a id=\"defn\"></a>\n",
    "# 2. Test of Hypothesis"
   ]
  },
  {
   "cell_type": "markdown",
   "metadata": {},
   "source": [
    "It is the process of evaluating the validity of the claim made using the sample data obtained from the population. A statistical test is a rule used to decide the acceptance or rejection of the claim.\n",
    "\n",
    "**Examples of hypothesis:**\n",
    "\n",
    "        1. One can get 'A' grade if the attendance in the class is more than 75%.\n",
    "        2. A probiotic drink can improve the immunity of a person. "
   ]
  },
  {
   "cell_type": "markdown",
   "metadata": {},
   "source": [
    "<a id=\"types\"></a>\n",
    "## 2.1 Types of Hypothesis"
   ]
  },
  {
   "cell_type": "markdown",
   "metadata": {},
   "source": [
    "`Null Hypothesis`: The null hypothesis is the claim suggesting 'no difference'. It is denoted as H<sub>0</sub>.\n",
    "\n",
    "`Alternative Hypothesis`: It is the hypothesis that is tested against the null hypothesis. The acceptance or rejection of the hypothesis is based on the likelihood of H<sub>0</sub> being true. It is denoted by H<sub>a</sub> or H<sub>1</sub>.\n",
    "\n",
    "#### Example:\n",
    "\n",
    "A company that produces tennis balls claimed that the diameter of a tennis ball is at least 2.625 inches on average. On the other hand, a professional tennis coach claimed that the diameter of a ball is less than what the company has claimed. To test the claim of the coach, a statistical test can be performed considering the hypothesis:\n",
    "\n",
    "                    Null Hypothesis: Average diameter ≥ 2.625\n",
    "                    Alternative Hypothesis: Average diameter < 2.625"
   ]
  },
  {
   "cell_type": "markdown",
   "metadata": {},
   "source": [
    "<a id=\"test_type\"></a>\n",
    "# 3. Types of Test"
   ]
  },
  {
   "cell_type": "markdown",
   "metadata": {},
   "source": [
    "The hypothesis test is used to validate the claim given by the null hypothesis. The types of tests are based on the nature of the alternative hypothesis. "
   ]
  },
  {
   "cell_type": "markdown",
   "metadata": {},
   "source": [
    "<a id=\"2tailed\"></a>\n",
    "## 3.1 Two Tailed Test"
   ]
  },
  {
   "cell_type": "markdown",
   "metadata": {},
   "source": [
    "Two tailed test considers the value of the population parameter is less than or greater than (i.e. not equal) a specific value. <br>\n",
    "If we test the population mean ($\\mu$) with a specific value ($\\mu_{0}$) the null hypothesis is: $H_{0}: \\mu = \\mu_{0}$. \n",
    "\n",
    "The alternative hypothesis for the two tailed test is given as: $H_{1}: \\mu \\neq \\mu_{0}$"
   ]
  },
  {
   "cell_type": "markdown",
   "metadata": {},
   "source": [
    "#### Example:\n",
    "\n",
    "A company that produces tennis balls claimed that the diameter of a tennis ball is 2.625 inches on average. To test the company's claim, a statistical test can be performed considering the hypothesis:\n",
    "\n",
    "                    Null Hypothesis: Average diameter = 2.625\n",
    "                    Alternative Hypothesis: Average diameter ≠ 2.625"
   ]
  },
  {
   "cell_type": "markdown",
   "metadata": {},
   "source": [
    "<a id=\"1tailed\"></a>\n",
    "## 3.2 One Tailed Test"
   ]
  },
  {
   "cell_type": "markdown",
   "metadata": {},
   "source": [
    "One tailed test considers the value of the population parameter is less than or greater than (but not both) a specific value. <br>\n",
    "If we test the population mean ($\\mu$) with a specific value ($\\mu_{0}$) the null hypothesis is: $H_{0}: \\mu \\leq \\mu_{0}$ and the alternative hypothesis is $H_{1}: \\mu > \\mu_{0}$, the one tailed test is also known as a `right-tailed test`.\n",
    "\n",
    "If we test the population mean ($\\mu$) with a specific value ($\\mu_{0}$) the null hypothesis is: $H_{0}: \\mu \\geq \\mu_{0}$ and the alternative hypothesis is $H_{1}: \\mu < \\mu_{0}$, the one tailed test is also known as a `left-tailed test`.\n"
   ]
  },
  {
   "cell_type": "markdown",
   "metadata": {},
   "source": [
    "### Example:\n",
    "\n",
    "**1.** The company's annual quality report of machines states that a lathe machine works efficiently at most for 8 months on average after the servicing. The production manager claims that after the special tuxan servicing, the machine works efficiently for more than 8 months. To test the claim of production manager consider the hypothesis:\n",
    "\n",
    "                    Null Hypothesis: Machine efficiency ≤ 8 months\n",
    "                    Alternative Hypothesis: Machine efficiency > 8 months\n",
    "\n",
    "This is the example of a **right-tailed test**. "
   ]
  },
  {
   "cell_type": "markdown",
   "metadata": {},
   "source": [
    "**2.** A railway authority claims that all the trains on the Chicago-Seattle route run with a speed of at least 54 mph on average. A customer forum declares that there are various records from passengers claiming that the speed of the train is less than what railway has claimed. In this scenario, a statistical test can be performed to test the claim of customer forum considering the hypothesis:\n",
    "\n",
    "                    Null Hypothesis: Speed ≥ 56 mph\n",
    "                    Alternative Hypothesis: Speed < 56 mph\n",
    "\n",
    "This is the example of a **left-tailed test**. "
   ]
  },
  {
   "cell_type": "markdown",
   "metadata": {},
   "source": [
    "<a id=\"eg\"></a>\n",
    "# 4. Hypothesis Tests with Z Statistic"
   ]
  },
  {
   "cell_type": "markdown",
   "metadata": {},
   "source": [
    "Let us perform one sample Z test for the population mean. We compare the population mean with a specific value. The sample is assumed to be taken from a population following a normal distribution.\n",
    "\n",
    "To check the normality of the data, a test for normality is used. The `Shapiro-Wilk Test` is one of the methods used to check the normality. The hypothesis of the test is given as:\n",
    "<p style='text-indent:25em'> <strong> H<sub>0</sub>:  The data is normally distributed </strong> </p>\n",
    "<p style='text-indent:25em'> <strong> H<sub>1</sub>:  The data is not normally distributed </strong> </p>\n",
    "\n",
    "The `shapiro()` from scipy library performs a Shapiro-Wilk normality test. "
   ]
  },
  {
   "cell_type": "markdown",
   "metadata": {},
   "source": [
    "The null and alternative hypothesis of Z-test is given as:\n",
    "<p style='text-indent:25em'> <strong> $H_{0}: \\mu = \\mu_{0}$ or $\\mu \\geq \\mu_{0}$ or $\\mu \\leq \\mu_{0}$</strong></p>\n",
    "<p style='text-indent:25em'> <strong> $H_{1}: \\mu \\neq \\mu_{0}$ or $\\mu < \\mu_{0}$ or $\\mu > \\mu_{0}$</strong></p>"
   ]
  },
  {
   "cell_type": "markdown",
   "metadata": {},
   "source": [
    "Consider a normal population with standard deviation $\\sigma$. Let us take a sample of size n, such that (n > 30). \n",
    "The test statistic for one sample Z-test is given as:\n",
    "<p style='text-indent:25em'> <strong> $Z = \\frac{\\overline{X} -  \\mu}{\\frac{\\sigma}{\\sqrt(n)}}$</strong></p>\n",
    "\n",
    "Where, <br>\n",
    "$\\overline{X}$: Sample mean<br>\n",
    "$\\mu$: Specified mean<br>\n",
    "$\\sigma$: Population standard deviation<br>\n",
    "$n$: Sample size\n",
    "\n",
    "Under $H_{0}$ the test statistic follows a standard normal distribution.\n",
    "\n",
    "If $\\sigma$ is unknown, use the sample standard deviation (s) instead of $\\sigma$ to calculate the test statistic."
   ]
  },
  {
   "cell_type": "markdown",
   "metadata": {},
   "source": [
    "### Example:\n",
    "\n",
    "#### 1. A car manufacturing company claims that the mileage of their new car is 25 kmph with a standard deviation of 2.5 kmph. A random sample of 45 cars was drawn and recorded their mileage as per the standard procedure. From the sample, the mean mileage was seen to be 24 kmph. Is this evidence to claim that the mean mileage is different from 25kmph? (assume the normality of the data) Use α = 0.01."
   ]
  },
  {
   "cell_type": "markdown",
   "metadata": {},
   "source": [
    "The null and alternative hypothesis is:\n",
    "\n",
    "H<sub>0</sub>: $\\mu = 25 $<br>\n",
    "H<sub>1</sub>: $\\mu ≠ 25 $\n",
    "\n",
    "Here ⍺ = 0.01, for a two-tailed test calculate the critical z-value."
   ]
  },
  {
   "cell_type": "code",
   "execution_count": 3,
   "metadata": {},
   "outputs": [
    {
     "name": "stdout",
     "output_type": "stream",
     "text": [
      "Critical value for two-tailed Z-test: 2.58\n"
     ]
    }
   ],
   "source": [
    "# calculate the z-value for 99% of confidence level\n",
    "# use 'stats.norm.isf()' to find the z-value corresponding to the upper tail probability 'q'\n",
    "# pass the value of 'alpha/2' to the parameter 'q', here alpha = 0.01\n",
    "# use 'round()' to round-off the value to 2 digits\n",
    "z_val = np.abs(round(stats.norm.isf(q = 0.01/2), 2))\n",
    "\n",
    "print('Critical value for two-tailed Z-test:', z_val)"
   ]
  },
  {
   "cell_type": "markdown",
   "metadata": {},
   "source": [
    "i.e. if z is less than -2.58 or greater than 2.58 then we reject the null hypothesis."
   ]
  },
  {
   "cell_type": "code",
   "execution_count": 4,
   "metadata": {},
   "outputs": [
    {
     "name": "stdout",
     "output_type": "stream",
     "text": [
      "Z-score: -2.6832815729997477\n"
     ]
    }
   ],
   "source": [
    "# define a function to calculate the Z-test statistic \n",
    "# pass the population mean, population standard deviation, sample size and sample mean as the function input\n",
    "def z_test(pop_mean, pop_std, n, samp_mean):\n",
    "   \n",
    "    # calculate the test statistic\n",
    "    z_score = (samp_mean - pop_mean) / (pop_std / np.sqrt(n))\n",
    "\n",
    "    # return the z-test value\n",
    "    return z_score\n",
    "\n",
    "# given data\n",
    "n = 45\n",
    "pop_mean = 25\n",
    "pop_std = 2.5\n",
    "samp_mean = 24\n",
    "\n",
    "# calculate the test statistic using the function 'z_test'\n",
    "z_score = z_test(pop_mean, pop_std, n, samp_mean)\n",
    "print(\"Z-score:\", z_score)"
   ]
  },
  {
   "cell_type": "code",
   "execution_count": 5,
   "metadata": {},
   "outputs": [
    {
     "name": "stdout",
     "output_type": "stream",
     "text": [
      "p-value: 0.007290358091535638\n"
     ]
    }
   ],
   "source": [
    "# calculate the corresponding p-value for the test statistic\n",
    "# use 'cdf()' to calculate P(Z <= z_score)\n",
    "p_value = stats.norm.cdf(z_score)\n",
    "\n",
    "# for a two-tailed test multiply the p-value by 2\n",
    "req_p = p_value*2\n",
    "print('p-value:', req_p)"
   ]
  },
  {
   "cell_type": "code",
   "execution_count": 6,
   "metadata": {
    "scrolled": false
   },
   "outputs": [
    {
     "name": "stdout",
     "output_type": "stream",
     "text": [
      "Confidence interval: (23.040045096471452, 24.959954903528548)\n"
     ]
    }
   ],
   "source": [
    "# calculate the 99% confidence interval for the population mean\n",
    "# pass the sample mean to the parameter, 'loc'\n",
    "# pass the scaling factor (pop_std / n^(1/2)) to the parameter, 'scale'\n",
    "print('Confidence interval:', stats.norm.interval(0.99, loc = samp_mean, scale = pop_std / np.sqrt(n)))"
   ]
  },
  {
   "cell_type": "markdown",
   "metadata": {},
   "source": [
    "Here the z score is less than -2.58, p-value is less than 0.01, also the confidence interval do not contain the value in the null hypothesis (i.e. 25), thus we reject the null hypothesis and conclude that there is enough evidence to claim that the mean mileage is different from 25kmph."
   ]
  },
  {
   "cell_type": "markdown",
   "metadata": {},
   "source": [
    "Let us plot the acceptance and rejection region for a two-tailed test  with 99% confidence."
   ]
  },
  {
   "cell_type": "code",
   "execution_count": 7,
   "metadata": {
    "scrolled": false
   },
   "outputs": [
    {
     "data": {
      "image/png": "[encoded data removed]",
      "text/plain": [
       "<Figure size 1500x800 with 1 Axes>"
      ]
     },
     "metadata": {},
     "output_type": "display_data"
    }
   ],
   "source": [
    "# consider a random variable 'X' that follows a standard normal distribution \n",
    "# pass the required number of observations to the parameter, 'size'\n",
    "# set 'random_state' to obtain the same observations every time you run the code \n",
    "X = stats.norm.rvs(size = 1000000, random_state = 20)\n",
    "\n",
    "# plot the distribution of X\n",
    "# pass the data to the parameter, 'a'\n",
    "# 'hist=False' does not return the histogram \n",
    "# 'cumulative=False' in 'kde_kws' does not return the cumulative kernel density estimator\n",
    "ax = sns.distplot(a = X, hist = False, kde_kws = dict(cumulative=False))\n",
    "\n",
    "# set the limit for y-axis\n",
    "plt.ylim(0, 0.42)\n",
    "\n",
    "# use 'stats.norm.isf()' to calculate the critical z-value for alpha = 0.01\n",
    "# pass the value of 'alpha/2' to the parameter 'q' for a two-tailed test\n",
    "z = stats.norm.isf(q = 0.01/2)\n",
    "\n",
    "# plot a vertical line at z-value\n",
    "x, y = [z, z], [0, 0.3]\n",
    "plt.plot(x, y, color = 'black')\n",
    "\n",
    "# plot a vertical line at -(z-value)\n",
    "x, y = [-z, -z], [0, 0.3]\n",
    "plt.plot(x, y, color = 'black')\n",
    "\n",
    "# plot a vertical line at z-score value\n",
    "x, y = [z_score, z_score], [0, 0.013]\n",
    "plt.plot(x, y, color = 'black')\n",
    "\n",
    "# add the color to the right of the z-value and left of -(z-value)\n",
    "# get the data for x and y axes\n",
    "l1 = ax.lines[0]\n",
    "x1 = l1.get_xydata()[:,0]\n",
    "y1 = l1.get_xydata()[:,1]\n",
    "\n",
    "# fill the color for the region where x-values are greater than the critical z-value\n",
    "# pass the condition to shade the required region\n",
    "# pass the required color to the parameter, 'color'\n",
    "ax.fill_between(x1[x1 >= z], y1[x1 >= z], color = 'lightblue')\n",
    "\n",
    "# fill the color for the region where x-values are less than -(z-value)\n",
    "# pass the condition to shade the required region\n",
    "# pass the required color to the parameter, 'color'\n",
    "ax.fill_between(x1[x1 <= -z], y1[x1 <= -z], color = 'lightblue')\n",
    "\n",
    "# use 'annonate' function to draw an arrow between points xy and xytext\n",
    "# 's' is a argument to write text\n",
    "# we can change the facecolor and arrowstyle; this is only for representation purpose\n",
    "plt.annotate(text = 'Mean (μ)', xy = (0, 0), xytext = (-0.3, 0.04), arrowprops = dict(facecolor = 'black', arrowstyle = 'simple'))\n",
    "\n",
    "plt.annotate(text = 'α/2 = 0.005\\n(Rejection Region for H0)', xy = (2.8, 0.004), xytext = (2.8, 0.055), \n",
    "             arrowprops = dict(facecolor = 'black', arrowstyle = 'simple'))\n",
    "\n",
    "plt.annotate(text = 'α/2 = 0.005\\n(Rejection Region for H0)', xy = (-2.8, 0.004), xytext = (-4.5, 0.055), \n",
    "             arrowprops = dict(facecolor = 'black', arrowstyle = 'simple'))\n",
    "\n",
    "plt.annotate(text = 'z_crit = '+ str(round(z,2)), xy = (z, 0), xytext = (z-1.2, 0.02), \n",
    "             arrowprops = dict(facecolor = 'black', arrowstyle = 'simple'))\n",
    "\n",
    "plt.annotate(text = 'z_crit = '+ str(round(-z,2)), xy = (-z, 0), xytext = (-z+0.3, 0.02), \n",
    "             arrowprops = dict(facecolor = 'black', arrowstyle = 'simple'))\n",
    "\n",
    "# use below code to print the values in the graph\n",
    "# 'x' and 'y' gives position of the text\n",
    "# 's' is the text \n",
    "plt.text(x = -1.15, y = 0.2, s = 'Acceptance Region for H0 (1 - α)')\n",
    "\n",
    "# assign the x-axis labels\n",
    "# pass the position of labels to the parameter, 'ticks'\n",
    "# pass the required labels to the parameter, 'labels'\n",
    "plt.xticks(ticks = [-6, -4, -2, 0, 2, 4, 6, round(z_score,2)], \n",
    "           labels = [-6, -4, -2, 0, 2, 4, 6, 'z_test = '+str(round(z_score,2))])\n",
    "\n",
    "# set plot and axes labels\n",
    "# set text size using 'fontsize'\n",
    "plt.xlabel('Z', fontsize = 15)\n",
    "plt.ylabel('Probability', fontsize = 15)\n",
    "plt.title('Two-Tailed Test', fontsize = 15)\n",
    "\n",
    "# display the plot\n",
    "plt.show()"
   ]
  },
  {
   "cell_type": "markdown",
   "metadata": {},
   "source": [
    "The above plot shows that the test statistic value is in the rejection region, that implies we reject $H_{0}$ and conclude that there is enough evidence to claim that the mean mileage is different from 25kmph."
   ]
  },
  {
   "cell_type": "markdown",
   "metadata": {},
   "source": [
    "#### 2. The average calories in a slice bread of the brand 'Alphas' are 82 with a standard deviation of 15. An experiment is conducted to test the claim of the dietitians that the calories in a slice of bread are not as per the manufacturer's specification. A sample of 40 slices of bread is taken and the mean calories recorded are 95. Test the claim of dietitians with ⍺ value (significance level) as 0.05. (assume the normality of the data)."
   ]
  },
  {
   "cell_type": "markdown",
   "metadata": {},
   "source": [
    "The null and alternative hypothesis is:\n",
    "\n",
    "H<sub>0</sub>: $\\mu = 82 $<br>\n",
    "H<sub>1</sub>: $\\mu ≠ 82 $\n",
    "\n",
    "Here ⍺ = 0.05, for a two-tailed test calculate the critical z-value."
   ]
  },
  {
   "cell_type": "code",
   "execution_count": 8,
   "metadata": {},
   "outputs": [
    {
     "name": "stdout",
     "output_type": "stream",
     "text": [
      "Critical value for two-tailed Z-test: 1.96\n"
     ]
    }
   ],
   "source": [
    "# calculate the z-value for 95% of confidence level\n",
    "# use 'stats.norm.isf()' to find the z-value corresponding to the upper tail probability 'q'\n",
    "# pass the value of 'alpha/2' to the parameter 'q', here alpha = 0.05\n",
    "# use 'round()' to round-off the value to 2 digits\n",
    "z_val = np.abs(round(stats.norm.isf(q = 0.05/2), 2))\n",
    "\n",
    "print('Critical value for two-tailed Z-test:', z_val)"
   ]
  },
  {
   "cell_type": "markdown",
   "metadata": {},
   "source": [
    "i.e. if z is less than -1.96 or greater than 1.96 then we reject the null hypothesis."
   ]
  },
  {
   "cell_type": "code",
   "execution_count": 9,
   "metadata": {},
   "outputs": [
    {
     "name": "stdout",
     "output_type": "stream",
     "text": [
      "Z-score: 5.4812812776251905\n"
     ]
    }
   ],
   "source": [
    "# define a function to calculate the Z-test statistic \n",
    "# pass the population mean, population standard deviation, sample size and sample mean as the function input\n",
    "def z_test(pop_mean, pop_std, n, samp_mean):\n",
    "   \n",
    "    # calculate the test statistic\n",
    "    z_score = (samp_mean - pop_mean) / (pop_std / np.sqrt(n))\n",
    "\n",
    "    # return the z-test value\n",
    "    return z_score\n",
    "\n",
    "# given data\n",
    "n = 40\n",
    "pop_mean = 82\n",
    "pop_std = 15\n",
    "samp_mean = 95\n",
    "\n",
    "# calculate the test statistic using the function 'z_test'\n",
    "z_score = z_test(pop_mean, pop_std, n, samp_mean)\n",
    "print(\"Z-score:\", z_score)"
   ]
  },
  {
   "cell_type": "code",
   "execution_count": 10,
   "metadata": {},
   "outputs": [
    {
     "name": "stdout",
     "output_type": "stream",
     "text": [
      "p-value: 4.222565249683579e-08\n"
     ]
    }
   ],
   "source": [
    "# calculate the corresponding p-value for the test statistic\n",
    "# use 'cdf()' to calculate P(Z <= -z_score)\n",
    "p_value = stats.norm.cdf(-z_score)\n",
    "\n",
    "# for a two-tailed test multiply the p-value by 2\n",
    "req_p = p_value*2\n",
    "print('p-value:', req_p)"
   ]
  },
  {
   "cell_type": "code",
   "execution_count": 11,
   "metadata": {
    "scrolled": false
   },
   "outputs": [
    {
     "name": "stdout",
     "output_type": "stream",
     "text": [
      "Confidence interval: (90.35153725771579, 99.64846274228421)\n"
     ]
    }
   ],
   "source": [
    "# calculate the 95% confidence interval for the population mean\n",
    "# pass the sample mean to the parameter, 'loc'\n",
    "# pass the scaling factor (pop_std / n^(1/2)) to the parameter, 'scale'\n",
    "print('Confidence interval:', stats.norm.interval(0.95, loc = samp_mean, scale = pop_std / np.sqrt(n)))"
   ]
  },
  {
   "cell_type": "markdown",
   "metadata": {},
   "source": [
    "Here the z score is greater than 1.96, the p-value is less than 0.05, also the confidence interval do not contain the value in the null hypothesis (i.e. 82), thus we reject the null hypothesis and thus, there is enough evidence to conclude that the average calories in a slice bread are not 82."
   ]
  },
  {
   "cell_type": "markdown",
   "metadata": {},
   "source": [
    "#### 3. A typhoid vaccine in the market inscribes 3 mg of ascorbic acid in the vaccine. A research team claims that the vaccines contain less than 3 mg of acid. We collected the data of 40 vaccines by using random sampling from a population and recorded the amount of ascorbic acid. Test the claim of the research team using the sample data ⍺ value (significance level) to 0.05.\n",
    "\n",
    "    acid_amt = [2.57, 3.06, 3.28 , 3.24, 2.79, 3.40, 3.36, 3.07, 2.46, 3.03, 3.05, 2.94, 3.46, 3.19, 3.09, 2.81, 3.13, 2.88, \n",
    "                2.76, 2.75, 3.17, 2.89, 2.54, 3.18, 3.08, 2.60, 3.06, 3.13, 3.11, 3.08, 2.93, 2.90, 3.06, 2.97, 3.24, 2.86, \n",
    "                2.87, 3.18, 3, 2.95]"
   ]
  },
  {
   "cell_type": "markdown",
   "metadata": {},
   "source": [
    "Let us check the normality of the data."
   ]
  },
  {
   "cell_type": "code",
   "execution_count": 12,
   "metadata": {},
   "outputs": [
    {
     "name": "stdout",
     "output_type": "stream",
     "text": [
      "Test statistic: 0.9764794111251831\n",
      "P-Value: 0.5609433054924011\n"
     ]
    }
   ],
   "source": [
    "# given data\n",
    "acid_amt = [2.57, 3.06, 3.28 , 3.24, 2.79, 3.40, 3.36, 3.07, 2.46, 3.03, 3.05, 2.94, 3.46 , 3.19, 3.09,2.81, 3.13, 2.88, 2.76, \n",
    "            2.75, 3.17, 2.89, 2.54, 3.18, 3.08, 2.60, 3.06, 3.13, 3.11, 3.08, 2.93, 2.90, 3.06, 2.97, 3.24, 2.86, 2.87, 3.18, \n",
    "            3, 2.95]\n",
    "\n",
    "# perform Shapiro-Wilk test to test the normality\n",
    "# shapiro() returns a tuple having the values of test statistics and the corresponding p-value\n",
    "# pass the sample data to perform the test\n",
    "stat, p_value = shapiro(acid_amt)\n",
    "\n",
    "# print the test statistic and corresponding p-value \n",
    "print('Test statistic:', stat)\n",
    "print('P-Value:', p_value)"
   ]
  },
  {
   "cell_type": "markdown",
   "metadata": {},
   "source": [
    "From the above result, we can see that the p-value is greater than 0.05, thus we can say that the data is normally distributed."
   ]
  },
  {
   "cell_type": "markdown",
   "metadata": {},
   "source": [
    "The null and alternative hypothesis is:\n",
    "\n",
    "H<sub>0</sub>: $\\mu \\geq 3 $<br>\n",
    "H<sub>1</sub>: $\\mu < 3 $\n",
    "\n",
    "Here ⍺ = 0.05, for a one-tailed test calculate the critical z-value."
   ]
  },
  {
   "cell_type": "code",
   "execution_count": 13,
   "metadata": {},
   "outputs": [
    {
     "name": "stdout",
     "output_type": "stream",
     "text": [
      "Critical value for one-tailed Z-test: 1.64\n"
     ]
    }
   ],
   "source": [
    "# calculate the z-value for 95% of confidence level\n",
    "# use 'stats.norm.isf()' to find the z-value corresponding to the upper tail probability 'q'\n",
    "# pass the value of 'alpha' to the parameter 'q', here alpha = 0.05\n",
    "# use 'round()' to round-off the value to 2 digits\n",
    "z_val = np.abs(round(stats.norm.isf(q = 0.05), 2))\n",
    "\n",
    "print('Critical value for one-tailed Z-test:', z_val)"
   ]
  },
  {
   "cell_type": "markdown",
   "metadata": {},
   "source": [
    "i.e. if z is less than -1.64 then we reject the null hypothesis."
   ]
  },
  {
   "cell_type": "code",
   "execution_count": 14,
   "metadata": {},
   "outputs": [
    {
     "name": "stdout",
     "output_type": "stream",
     "text": [
      "Z-score:  0.08289008952836197\n",
      "p-value:  0.5330305328333862\n"
     ]
    }
   ],
   "source": [
    "# given amount of ascorbic acid in the vaccines\n",
    "acid_amt = [2.57, 3.06, 3.28 , 3.24, 2.79, 3.40, 3.36, 3.07, 2.46, 3.03, 3.05, 2.94, 3.46 , 3.19, 3.09, 2.81, 3.13, 2.88, 2.76, \n",
    "            2.75, 3.17, 2.89, 2.54, 3.18, 3.08, 2.60, 3.06, 3.13, 3.11, 3.08, 2.93, 2.90, 3.06, 2.97, 3.24, 2.86, 2.87, 3.18, \n",
    "            3, 2.95]\n",
    "\n",
    "# 'ztest()' returns the test statistic and corresponding p-value\n",
    "# pass the sample data to the parameter, 'x1'\n",
    "# pass the value in null hypothesis to the parameter, 'value'\n",
    "# pass the one-tailed condition to the parameter, 'alternative'\n",
    "z_score, pval = stests.ztest(x1 = acid_amt, value = 3, alternative = 'smaller')\n",
    "\n",
    "# print the test statistic and corresponding p-value\n",
    "print(\"Z-score: \", z_score)\n",
    "print(\"p-value: \", pval)"
   ]
  },
  {
   "cell_type": "code",
   "execution_count": 15,
   "metadata": {
    "scrolled": false
   },
   "outputs": [
    {
     "name": "stdout",
     "output_type": "stream",
     "text": [
      "Confidence interval: (2.932063993209846, 3.0739360067901544)\n"
     ]
    }
   ],
   "source": [
    "# calculate the 95% confidence interval for the population mean\n",
    "# pass the sample mean to the parameter, 'loc'\n",
    "# pass the scaling factor (standard deviation of sample / n^(1/2)) to the parameter, 'scale'\n",
    "# use 'stdev()' to calculate sample standard deviation\n",
    "print('Confidence interval:', stats.norm.interval(0.95, loc = np.mean(acid_amt), \n",
    "                                                  scale = statistics.stdev(acid_amt) / np.sqrt(len(acid_amt))))"
   ]
  },
  {
   "cell_type": "markdown",
   "metadata": {},
   "source": [
    "Here the z-score is greater than -1.64, the p-value is greater than 0.05, also the confidence interval contains the value in the null hypothesis (i.e. 3), thus we fail to reject (i.e. accept) the null hypothesis. Thus, there is no enough evidence to conclude that on average a typhoid vaccine contains less than 3 mg of ascorbic acid."
   ]
  },
  {
   "cell_type": "markdown",
   "metadata": {},
   "source": [
    "Let us plot the acceptance and rejection region for a left-tailed test with 95% confidence."
   ]
  },
  {
   "cell_type": "code",
   "execution_count": 16,
   "metadata": {
    "scrolled": false
   },
   "outputs": [
    {
     "data": {
      "image/png": "[encoded data removed]",
      "text/plain": [
       "<Figure size 1500x800 with 1 Axes>"
      ]
     },
     "metadata": {},
     "output_type": "display_data"
    }
   ],
   "source": [
    "# consider a random variable 'X' that follows a standard normal distribution \n",
    "# pass the required number of observations to the parameter, 'size'\n",
    "# set 'random_state' to obtain the same observations every time you run the code \n",
    "X = stats.norm.rvs(size = 2000000, random_state = 20)\n",
    "\n",
    "# plot the distribution of X\n",
    "# pass the data to the parameter, 'a'\n",
    "# 'hist=False' does not return the histogram \n",
    "# 'cumulative=False' in 'kde_kws' does not return the cumulative kernel density estimator\n",
    "ax = sns.distplot(a = X, hist = False, kde_kws = dict(cumulative=False))\n",
    "\n",
    "# set the limit for y-axis\n",
    "plt.ylim(0, 0.42)\n",
    "\n",
    "# use 'stats.norm.isf()' to calculate the critical z-value for alpha = 0.05\n",
    "# pass the value of 'alpha' to the parameter 'q'\n",
    "z = stats.norm.isf(q = 0.05)\n",
    "\n",
    "# as normal distribution is symmetric, for a left-tailed test draw a line at -(z-value)\n",
    "# plot a vertical line at -(z-value) \n",
    "x, y = [-z, -z], [0, 0.3]\n",
    "plt.plot(x, y, color = 'black')\n",
    "\n",
    "# plot a vertical line at z-score value\n",
    "x, y = [z_score, z_score], [0, 0.05]\n",
    "plt.plot(x, y, color = 'black')\n",
    "\n",
    "# add the color to the left of the -(z-value)\n",
    "# get the data for x and y axes for the distribution plot\n",
    "l1 = ax.lines[0]\n",
    "x1 = l1.get_xydata()[:,0]\n",
    "y1 = l1.get_xydata()[:,1]\n",
    "\n",
    "# fill the color for the region where x-values are less than -(z-value)\n",
    "# pass the condition to shade the required region\n",
    "# pass the required color to the parameter, 'color'\n",
    "ax.fill_between(x1[x1 <= -1.64], y1[x1 <= -1.64], color = 'lightblue')\n",
    "\n",
    "# use 'annonate' function to draw an arrow between points xy and xytext\n",
    "# 's' is a argument to write text\n",
    "# we can change the facecolor and arrowstyle; this is only for representation purpose\n",
    "plt.annotate(text = 'α = 0.05\\n(Rejection Region for H0)', xy = (-2, 0.025), xytext = (-3.8, 0.075), \n",
    "             arrowprops = dict(facecolor = 'black', arrowstyle = 'simple'))\n",
    "\n",
    "plt.annotate(text = 'z_crit = '+ str(round(-z,2)), xy = (-z, 0), xytext = (-z+0.2, 0.04), \n",
    "             arrowprops = dict(facecolor = 'black', arrowstyle = 'simple'))\n",
    "\n",
    "# use below code to print the values in the graph\n",
    "# 'x' and 'y' gives position of the text\n",
    "# 's' is the text \n",
    "plt.text(x = -1.15, y = 0.2, s = 'Acceptance Region for H0 (1 - α)')\n",
    "\n",
    "# assign the x-axis labels\n",
    "# pass the position of labels to the parameter, 'ticks'\n",
    "# pass the required labels to the parameter, 'labels'\n",
    "plt.xticks(ticks = [-6, -4, -2, 2, 4, 6, round(z_score,2)], \n",
    "           labels = [-6, -4, -2, 2, 4, 6, 'z_test = '+str(round(z_score,2))])\n",
    "\n",
    "# set plot and axes labels\n",
    "# set text size using 'fontsize'\n",
    "plt.xlabel('Z', fontsize = 15)\n",
    "plt.ylabel('Probability', fontsize = 15)\n",
    "plt.title('Left-Tailed Test', fontsize = 15)\n",
    "\n",
    "# display the plot\n",
    "plt.show()"
   ]
  },
  {
   "cell_type": "markdown",
   "metadata": {},
   "source": [
    "The above plot shows that the test statistic value is in the acceptance region, that implies we fail to reject (i.e. accept) $H_{0}$.  Thus, there is no enough evidence to conclude that on average a typhoid vaccine contains less than 3 mg of ascorbic acid."
   ]
  },
  {
   "cell_type": "markdown",
   "metadata": {},
   "source": [
    "#### 4. A sample of 900 PVC pipes is found to have an average thickness of 12.5 mm. Can we assume that the sample is coming from a normal population with mean 13 mm against that it is less than 13 mm. The population standard deviation is 1 mm. Test the hypothesis at 5% level of significance."
   ]
  },
  {
   "cell_type": "markdown",
   "metadata": {},
   "source": [
    "The null and alternative hypothesis is:\n",
    "\n",
    "H<sub>0</sub>: $\\mu \\geq 13 $<br>\n",
    "H<sub>1</sub>: $\\mu < 13 $\n",
    "\n",
    "Here ⍺ = 0.05, for a one-tailed test calculate the critical z-value."
   ]
  },
  {
   "cell_type": "code",
   "execution_count": 17,
   "metadata": {},
   "outputs": [
    {
     "name": "stdout",
     "output_type": "stream",
     "text": [
      "Critical value for one-tailed Z-test: 1.64\n"
     ]
    }
   ],
   "source": [
    "# calculate the z-value for 95% of confidence level\n",
    "# use 'stats.norm.isf()' to find the z-value corresponding to the upper tail probability 'q'\n",
    "# pass the value of 'alpha' to the parameter 'q', here alpha = 0.05\n",
    "# use 'round()' to round-off the value to 2 digits\n",
    "z_val = np.abs(round(stats.norm.isf(q = 0.05), 2))\n",
    "\n",
    "print('Critical value for one-tailed Z-test:', z_val)"
   ]
  },
  {
   "cell_type": "markdown",
   "metadata": {},
   "source": [
    "i.e. if z is less than -1.64 then we reject the null hypothesis."
   ]
  },
  {
   "cell_type": "code",
   "execution_count": 18,
   "metadata": {},
   "outputs": [
    {
     "name": "stdout",
     "output_type": "stream",
     "text": [
      "Z-score: -15.0\n"
     ]
    }
   ],
   "source": [
    "# define a function to calculate the Z-test statistic \n",
    "# pass the population mean, population standard deviation, sample size and sample mean as the function input\n",
    "def z_test(pop_mean, pop_std, n, samp_mean):\n",
    "   \n",
    "    # calculate the test statistic\n",
    "    z_score = (samp_mean - pop_mean) / (pop_std / np.sqrt(n))\n",
    "\n",
    "    # return the z-test value\n",
    "    return z_score\n",
    "\n",
    "# given data\n",
    "n = 900\n",
    "pop_mean = 13\n",
    "pop_std = 1\n",
    "samp_mean = 12.5\n",
    "\n",
    "# calculate the test statistic using the function 'z_test'\n",
    "z_score = z_test(pop_mean, pop_std, n, samp_mean)\n",
    "print(\"Z-score:\", z_score)"
   ]
  },
  {
   "cell_type": "code",
   "execution_count": 19,
   "metadata": {},
   "outputs": [
    {
     "name": "stdout",
     "output_type": "stream",
     "text": [
      "p-value: 3.6709661993126986e-51\n"
     ]
    }
   ],
   "source": [
    "# calculate the corresponding p-value for the test statistic\n",
    "# use 'cdf()' to calculate P(Z <= z_score)\n",
    "p_value = stats.norm.cdf(z_score)\n",
    "\n",
    "print('p-value:', p_value)"
   ]
  },
  {
   "cell_type": "code",
   "execution_count": 20,
   "metadata": {
    "scrolled": false
   },
   "outputs": [
    {
     "name": "stdout",
     "output_type": "stream",
     "text": [
      "Confidence interval: (12.434667867181998, 12.565332132818002)\n"
     ]
    }
   ],
   "source": [
    "# calculate the 95% confidence interval for the population mean\n",
    "# pass the sample mean to the parameter, 'loc'\n",
    "# pass the scaling factor (pop_std / n^(1/2)) to the parameter, 'scale'\n",
    "print('Confidence interval:', stats.norm.interval(0.95, loc = samp_mean, scale = pop_std / np.sqrt(n)))"
   ]
  },
  {
   "cell_type": "markdown",
   "metadata": {},
   "source": [
    "Here the z score is less than -1.64, p-value is less than 0.05, also the confidence interval do not contain the value in the null hypothesis (i.e. 13), thus we reject the null hypothesis and conclude that the sample is not coming from the population with mean 13."
   ]
  },
  {
   "cell_type": "markdown",
   "metadata": {},
   "source": [
    "#### 5. An e-commerce company claims that the mean delivery time of food items on its website in NYC is 60 minutes with a standard deviation of 30 minutes. A random sample of 45 customers ordered from the website, and the average time for delivery was found to be 75 minutes. Is this enough evidence to claim that the average time to get items delivered is more than 60 minutes. (assume the normality of the data). Test the with α = 0.05."
   ]
  },
  {
   "cell_type": "markdown",
   "metadata": {},
   "source": [
    "The null and alternative hypothesis is:\n",
    "\n",
    "H<sub>0</sub>: $\\mu \\leq  60 $<br>\n",
    "H<sub>1</sub>: $\\mu > 60 $\n",
    "\n",
    "Here ⍺ = 0.05, for a one-tailed test calculate the critical z-value."
   ]
  },
  {
   "cell_type": "code",
   "execution_count": 21,
   "metadata": {},
   "outputs": [
    {
     "name": "stdout",
     "output_type": "stream",
     "text": [
      "Critical value for one-tailed Z-test: 1.64\n"
     ]
    }
   ],
   "source": [
    "# calculate the z-value for 95% of confidence level\n",
    "# use 'stats.norm.isf()' to find the z-value corresponding to the upper tail probability 'q'\n",
    "# pass the value of 'alpha' to the parameter 'q', here alpha = 0.05\n",
    "# use 'round()' to round-off the value to 2 digits\n",
    "z_val = np.abs(round(stats.norm.isf(q = 0.05), 2))\n",
    "\n",
    "print('Critical value for one-tailed Z-test:', z_val)"
   ]
  },
  {
   "cell_type": "markdown",
   "metadata": {},
   "source": [
    "i.e. if z is greater than 1.64 then we reject the null hypothesis."
   ]
  },
  {
   "cell_type": "code",
   "execution_count": 22,
   "metadata": {},
   "outputs": [
    {
     "name": "stdout",
     "output_type": "stream",
     "text": [
      "Z-score: 3.3541019662496843\n"
     ]
    }
   ],
   "source": [
    "# define a function to calculate the Z-test statistic \n",
    "# pass the population mean, population standard deviation, sample size and sample mean as the function input\n",
    "def z_test(pop_mean, pop_std, n, samp_mean):\n",
    "   \n",
    "    # calculate the test statistic\n",
    "    z_score = (samp_mean - pop_mean) / (pop_std / np.sqrt(n))\n",
    "\n",
    "    # return the z-test value\n",
    "    return z_score\n",
    "\n",
    "# given data\n",
    "n = 45\n",
    "pop_mean = 60\n",
    "pop_std = 30\n",
    "samp_mean = 75\n",
    "\n",
    "# calculate the test statistic using the function 'z_test'\n",
    "z_score = z_test(pop_mean, pop_std, n, samp_mean)\n",
    "print(\"Z-score:\", z_score)"
   ]
  },
  {
   "cell_type": "code",
   "execution_count": 23,
   "metadata": {},
   "outputs": [
    {
     "name": "stdout",
     "output_type": "stream",
     "text": [
      "p-value: 0.0003981150787954058\n"
     ]
    }
   ],
   "source": [
    "# calculate the corresponding p-value for the test statistic\n",
    "# use 'sf()' to calculate P(Z > z_score)\n",
    "p_value = stats.norm.sf(z_score)\n",
    "\n",
    "print('p-value:', p_value)"
   ]
  },
  {
   "cell_type": "code",
   "execution_count": 24,
   "metadata": {
    "scrolled": false
   },
   "outputs": [
    {
     "name": "stdout",
     "output_type": "stream",
     "text": [
      "Confidence interval: (66.23477459423418, 83.76522540576582)\n"
     ]
    }
   ],
   "source": [
    "# calculate the 95% confidence interval for the population mean\n",
    "# pass the sample mean to the parameter, 'loc'\n",
    "# pass the scaling factor (pop_std / n^(1/2)) to the parameter, 'scale'\n",
    "print('Confidence interval:', stats.norm.interval(0.95, loc = samp_mean, scale = pop_std / np.sqrt(n)))"
   ]
  },
  {
   "cell_type": "markdown",
   "metadata": {},
   "source": [
    "Here the z score is greater than 1.64, the p-value is less than 0.05, also the confidence interval do not contain the value in the null hypothesis (i.e. 60), thus we reject the null hypothesis and conclude that the average time to get items delivered is more than 60 minutes."
   ]
  },
  {
   "cell_type": "markdown",
   "metadata": {},
   "source": [
    "Let us plot the acceptance and rejection region for a right-tailed test with 95% confidence."
   ]
  },
  {
   "cell_type": "code",
   "execution_count": 25,
   "metadata": {
    "scrolled": false
   },
   "outputs": [
    {
     "data": {
      "image/png": "[encoded data removed]",
      "text/plain": [
       "<Figure size 1500x800 with 1 Axes>"
      ]
     },
     "metadata": {},
     "output_type": "display_data"
    }
   ],
   "source": [
    "# consider a random variable 'X' that follows a standard normal distribution \n",
    "# pass the required number of observations to the parameter, 'size'\n",
    "# set 'random_state' to obtain the same observations every time you run the code \n",
    "X = stats.norm.rvs(size = 1000000, random_state = 20)\n",
    "\n",
    "# plot the distribution of X\n",
    "# pass the data to the parameter, 'a'\n",
    "# 'hist=False' does not return the histogram \n",
    "# 'cumulative=False' in 'kde_kws' does not return the cumulative kernel density estimator\n",
    "ax = sns.distplot(a = X, hist = False, kde_kws = dict(cumulative=False))\n",
    "\n",
    "# set the limit for y-axis\n",
    "plt.ylim(0, 0.42)\n",
    "\n",
    "# use 'stats.norm.isf()' to calculate the critical z-value for alpha = 0.05\n",
    "# pass the value of 'alpha' to the parameter 'q'\n",
    "z = stats.norm.isf(q = 0.05)\n",
    "\n",
    "# plot a vertical line at z-value\n",
    "x, y = [z, z], [0, 0.3]\n",
    "plt.plot(x, y, color = 'black')\n",
    "\n",
    "# plot a vertical line at z-score value\n",
    "x, y = [z_score, z_score], [0, 0.013]\n",
    "plt.plot(x, y, color = 'black')\n",
    "\n",
    "# add the color to the right of the z-value\n",
    "# get the data for x and y axes\n",
    "l1 = ax.lines[0]\n",
    "x1 = l1.get_xydata()[:,0]\n",
    "y1 = l1.get_xydata()[:,1]\n",
    "\n",
    "# fill the color for the region where x-values are greater than the critical z-value\n",
    "# pass the condition to shade the required region\n",
    "# pass the required color to the parameter, 'color'\n",
    "ax.fill_between(x1[x1 >= z], y1[x1 >= z], color = 'lightblue')\n",
    "\n",
    "# use 'annonate' function to draw an arrow between points xy and xytext\n",
    "# 's' is a argument to write text\n",
    "# we can change the facecolor and arrowstyle; this is only for representation purpose\n",
    "plt.annotate(text = 'Mean (μ)', xy = (0, 0), xytext = (-0.3, 0.04), arrowprops = dict(facecolor = 'black', arrowstyle = 'simple'))\n",
    "\n",
    "plt.annotate(text = 'α = 0.05\\n(Rejection Region for H0)', xy = (2, 0.025), xytext = (2, 0.075), \n",
    "             arrowprops = dict(facecolor = 'black', arrowstyle = 'simple'))\n",
    "\n",
    "plt.annotate(text = 'z_crit = '+ str(round(z,2)), xy = (z, 0), xytext = (z-1, 0.04), \n",
    "             arrowprops = dict(facecolor = 'black', arrowstyle = 'simple'))\n",
    "\n",
    "# use below code to print the values in the graph\n",
    "# 'x' and 'y' gives position of the text\n",
    "# 's' is the text \n",
    "plt.text(x = -1.1, y = 0.2, s = 'Acceptance Region for H0 (1 - α)')\n",
    "\n",
    "# assign the x-axis labels\n",
    "# pass the position of labels to the parameter, 'ticks'\n",
    "# pass the required labels to the parameter, 'labels'\n",
    "plt.xticks(ticks = [-4, -2, 0, 2, 4, round(z_score,2)], \n",
    "           labels = [-4, -2, 0, 2, 4, 'z_test = '+str(round(z_score,2))])\n",
    "\n",
    "# set plot and axes labels\n",
    "# set text size using 'fontsize'\n",
    "plt.xlabel('Z', fontsize = 15)\n",
    "plt.ylabel('Probability', fontsize = 15)\n",
    "plt.title('Right-Tailed Test', fontsize = 15)\n",
    "\n",
    "# display the plot\n",
    "plt.show()"
   ]
  },
  {
   "cell_type": "markdown",
   "metadata": {},
   "source": [
    "The above plot shows that the test statistic value is in the rejection region, which implies we reject $H_{0}$ and conclude that  the average time to get items delivered is more than 60 minutes."
   ]
  },
  {
   "cell_type": "markdown",
   "metadata": {},
   "source": [
    "<a id=\"error\"></a>\n",
    "# 5. Error"
   ]
  },
  {
   "cell_type": "markdown",
   "metadata": {},
   "source": [
    "The error can occur while choosing the correct hypothesis based on the statistical tests. Two types of errors are `Type I` and `Type II` error."
   ]
  },
  {
   "cell_type": "markdown",
   "metadata": {},
   "source": [
    "### Type I Error\n",
    "\n",
    "This kind of error occurs when we reject the null hypothesis even if it is true. It is equivalent to a `false positive` conclusion. The probability of type I error is given by the value of $\\alpha$, level of significance.\n",
    "\n",
    "### Type II Error\n",
    "\n",
    "This kind of error occurs when we fail to reject the null hypothesis even if it is wrong. It is equivalent to a `false negative` conclusion. The probability of type II error is given by the value of $\\beta$."
   ]
  },
  {
   "cell_type": "markdown",
   "metadata": {},
   "source": [
    "<a id=\"power\"></a>\n",
    "## 5.1 Power of Hypothesis Test"
   ]
  },
  {
   "cell_type": "markdown",
   "metadata": {},
   "source": [
    "The probability of correctly rejecting a false null hypothesis is defined as the `Power` of a test. It is calculated as `1-β`. It is the probability of avoiding the type II error. The power of the test lies between 0 to 1. The value close to 1 indicates that the test is able to reject the false null hypothesis correctly."
   ]
  },
  {
   "cell_type": "markdown",
   "metadata": {},
   "source": [
    "### Example:\n",
    "\n",
    "#### 1. We need to determine if girls' score on average is higher than 300 in the GRE (for higher studies). The standard deviation of the population is 20. We collected the data of 40 girls by using random sampling and recorded their marks. Set ⍺ value (significance level) to 0.05 to calculate the power of the test.\n",
    "\n",
    "    GRE scores = [311, 313, 309, 307, 302, 313, 305, 336, 322, 300, 335, 312, 282, 314, 310, 316, 301, 315, 299, 298, 308, \n",
    "                  315, 306, 321, 276, 306, 324, 308, 334, 277, 319, 322, 298, 300, 293, 333,305, 302, 317, 287]"
   ]
  },
  {
   "cell_type": "markdown",
   "metadata": {},
   "source": [
    "Let us check the normality of the data."
   ]
  },
  {
   "cell_type": "code",
   "execution_count": 26,
   "metadata": {},
   "outputs": [
    {
     "name": "stdout",
     "output_type": "stream",
     "text": [
      "Test statistic: 0.9695490598678589\n",
      "P-Value: 0.3482360541820526\n"
     ]
    }
   ],
   "source": [
    "# given GRE scores\n",
    "scores = [311, 313, 309, 307, 302, 313, 305, 336, 322, 300, 335, 312, 282, 314, 310, 316, 301, 315, 299, 298, 308, 315, 306, \n",
    "          321, 276, 306, 324, 308, 334, 277, 319, 322, 298, 300, 293, 333,305, 302, 317, 287]\n",
    "\n",
    "# perform Shapiro-Wilk test to test the normality\n",
    "# shapiro() returns a tuple having the values of test statistics and the corresponding p-value\n",
    "# pass the sample data to perform the test\n",
    "stat, p_value = shapiro(scores)\n",
    "\n",
    "# print the test statistic and corresponding p-value \n",
    "print('Test statistic:', stat)\n",
    "print('P-Value:', p_value)"
   ]
  },
  {
   "cell_type": "markdown",
   "metadata": {},
   "source": [
    "From the above result, we can see that the p-value is greater than 0.05, thus we can say that the data is normally distributed."
   ]
  },
  {
   "cell_type": "markdown",
   "metadata": {},
   "source": [
    "The null and alternative hypothesis is:\n",
    "\n",
    "H<sub>0</sub>: $\\mu \\leq 300$<br>\n",
    "H<sub>1</sub>: $\\mu > 300$"
   ]
  },
  {
   "cell_type": "markdown",
   "metadata": {},
   "source": [
    "Calculate the critical z-value for one-tailed test."
   ]
  },
  {
   "cell_type": "code",
   "execution_count": 27,
   "metadata": {},
   "outputs": [
    {
     "name": "stdout",
     "output_type": "stream",
     "text": [
      "Critical value for one-tailed Z-test: 1.6449\n"
     ]
    }
   ],
   "source": [
    "# calculate the z-value for 95% of confidence level\n",
    "# use 'stats.norm.isf()' to find the z-value corresponding to the upper tail probability 'q'\n",
    "# pass the value of 'alpha' to the parameter 'q', here alpha = 0.05\n",
    "# use 'round()' to round-off the value to 4 digits\n",
    "z_val = np.abs(round(stats.norm.isf(q = 0.05), 4))\n",
    "\n",
    "print('Critical value for one-tailed Z-test:', z_val)"
   ]
  },
  {
   "cell_type": "code",
   "execution_count": 28,
   "metadata": {},
   "outputs": [
    {
     "name": "stdout",
     "output_type": "stream",
     "text": [
      "Power of the test: 0.8707713725498709\n"
     ]
    }
   ],
   "source": [
    "# import the function to calculate the power of test\n",
    "from statsmodels.stats import power\n",
    "\n",
    "# given GRE scores\n",
    "scores = [311, 313, 309, 307, 302, 313, 305, 336, 322, 300, 335, 312, 282, 314, 310, 316, 301, 315, 299, 298, 308, 315, 306, \n",
    "          321, 276, 306, 324, 308, 334, 277, 319, 322, 298, 300, 293, 333,305, 302, 317, 287]\n",
    "\n",
    "# number of observations \n",
    "num_obs = len(scores)\n",
    "\n",
    "# calculate the sample mean\n",
    "samp_mean = np.mean(scores)\n",
    "\n",
    "# null hypothesis value\n",
    "hypo_mean = 300\n",
    "\n",
    "# population standard deviation\n",
    "pop_sd = 20\n",
    "\n",
    "# find the b such that, P(X > b) = alpha = 0.05\n",
    "# b is calculated for the below plot\n",
    "b = hypo_mean + (z_val*pop_sd)/np.sqrt(num_obs)\n",
    "\n",
    "# use 'zt_ind_solve_power()' to calculate the power of the z-test\n",
    "# keep the value of exact one parameter as 'None' to calculate the value of that parameter using remaining values \n",
    "# calculate the 'effect_size' using the sample_mean, null hypothesis value and population standard deviation\n",
    "# pass the sample size to the parameter, 'nobs1'\n",
    "# pass the value of alpha to the parameter, 'alpha'\n",
    "# pass 'None' to the parameter 'power' as we want to calculate its value\n",
    "# for one sample test, consider the 'ratio' as 0\n",
    "# pass the alternative for one-tailed test to the parameter, 'alternative'\n",
    "power = power.zt_ind_solve_power(effect_size = (samp_mean - hypo_mean)/pop_sd, \n",
    "                         nobs1 = num_obs, \n",
    "                         alpha = 0.05, \n",
    "                         power = None, \n",
    "                         ratio = 0, \n",
    "                         alternative = 'larger')\n",
    "\n",
    "print('Power of the test:', power)"
   ]
  },
  {
   "cell_type": "markdown",
   "metadata": {},
   "source": [
    "Here the power of the test is 0.87. Thus we can say that there is 87% chance that the test rejects a false null hypothesis. The higher value of power indicates the more powerful test.  \n",
    "\n",
    "Let us visualize the region of the type I error, type II error and the power of the test."
   ]
  },
  {
   "cell_type": "markdown",
   "metadata": {},
   "source": [
    "<img src='power.png'>"
   ]
  },
  {
   "cell_type": "markdown",
   "metadata": {
    "id": "sxaVFsW9jULb"
   },
   "source": [
    "<a id=\"z\"></a>\n",
    "# 6. Large Sample Test"
   ]
  },
  {
   "cell_type": "markdown",
   "metadata": {
    "id": "ekSYxRw5jULd"
   },
   "source": [
    "If the sample size is sufficiently large (usually, n > 30) then we use the `Z-test`. If population standard deviation ($\\sigma$) is unknown, then the sample standard deviation (s) is used to calculate the test statistic."
   ]
  },
  {
   "cell_type": "markdown",
   "metadata": {
    "id": "gl2YueUDjULe"
   },
   "source": [
    "<a id=\"1z\"></a>\n",
    "## 6.1 One Sample Z Test"
   ]
  },
  {
   "cell_type": "markdown",
   "metadata": {
    "id": "BA2ktQxNjULe"
   },
   "source": [
    "Let us perform one sample Z test for the population mean. We compare the population mean with a specific value. \n",
    "\n",
    "The null and alternative hypothesis is given as:\n",
    "\n",
    "<p style='text-indent:25em'> <strong> $H_{0}: \\mu = \\mu_{0}$ or $\\mu \\geq \\mu_{0}$ or $\\mu \\leq \\mu_{0}$</strong></p>\n",
    "<p style='text-indent:25em'> <strong> $H_{1}: \\mu \\neq \\mu_{0}$ or $\\mu < \\mu_{0}$ or $\\mu > \\mu_{0}$</strong></p>"
   ]
  },
  {
   "cell_type": "markdown",
   "metadata": {
    "id": "vNH8mdeVjULf"
   },
   "source": [
    "Consider a normal population with standard deviation $\\sigma$. The test statistic for one sample Z-test is given as:\n",
    "<p style='text-indent:25em'> <strong> $Z = \\frac{\\overline{X} -  \\mu_{0}}{\\frac{\\sigma}{\\sqrt(n)}}$</strong></p>\n",
    "\n",
    "Where, <br>\n",
    "$\\overline{X}$: Sample mean<br>\n",
    "$\\sigma$: Population standard deviation<br>\n",
    "$n$: Sample size\n",
    "\n",
    "Under $H_{0}$ the test statistic follows a standard normal distribution.\n",
    "\n",
    "If the population standard deviation ($\\sigma$) is unknown, use the sample standard deviation (s). Here, $s^{2} = \\frac{\\sum_{i=1}^{n}(x_{i} - \\bar{x})^{2}}{n-1}$"
   ]
  },
  {
   "cell_type": "markdown",
   "metadata": {
    "id": "P-QELHBOjULf"
   },
   "source": [
    "### Example:\n",
    "\n",
    "#### 1. We need to determine if girls' score on average higher than 65 in the reading test.  We collected the data of 517 girls by using random sampling from a normally distributed population and recorded their marks. Set ⍺ value (significance level) to 0.05."
   ]
  },
  {
   "cell_type": "markdown",
   "metadata": {
    "id": "dmBzZnsgjULg"
   },
   "source": [
    "Consider the reading score for female students given in the CSV file `StudentsPerformance.csv`. "
   ]
  },
  {
   "cell_type": "code",
   "execution_count": 29,
   "metadata": {
    "id": "pGUmPDOejULg",
    "outputId": "4e71cb3e-ce50-4c23-bb38-64ac13e0fd6d",
    "scrolled": true
   },
   "outputs": [
    {
     "data": {
      "text/html": [
       "<div>\n",
       "<style scoped>\n",
       "    .dataframe tbody tr th:only-of-type {\n",
       "        vertical-align: middle;\n",
       "    }\n",
       "\n",
       "    .dataframe tbody tr th {\n",
       "        vertical-align: top;\n",
       "    }\n",
       "\n",
       "    .dataframe thead th {\n",
       "        text-align: right;\n",
       "    }\n",
       "</style>\n",
       "<table border=\"1\" class=\"dataframe\">\n",
       "  <thead>\n",
       "    <tr style=\"text-align: right;\">\n",
       "      <th></th>\n",
       "      <th>gender</th>\n",
       "      <th>race/ethnicity</th>\n",
       "      <th>lunch</th>\n",
       "      <th>test preparation course</th>\n",
       "      <th>math score</th>\n",
       "      <th>reading score</th>\n",
       "      <th>writing score</th>\n",
       "      <th>total score</th>\n",
       "      <th>training institute</th>\n",
       "    </tr>\n",
       "  </thead>\n",
       "  <tbody>\n",
       "    <tr>\n",
       "      <th>0</th>\n",
       "      <td>female</td>\n",
       "      <td>group B</td>\n",
       "      <td>standard</td>\n",
       "      <td>none</td>\n",
       "      <td>89</td>\n",
       "      <td>55</td>\n",
       "      <td>56</td>\n",
       "      <td>200</td>\n",
       "      <td>Nature Learning</td>\n",
       "    </tr>\n",
       "    <tr>\n",
       "      <th>1</th>\n",
       "      <td>female</td>\n",
       "      <td>group C</td>\n",
       "      <td>standard</td>\n",
       "      <td>completed</td>\n",
       "      <td>55</td>\n",
       "      <td>63</td>\n",
       "      <td>72</td>\n",
       "      <td>190</td>\n",
       "      <td>Nature Learning</td>\n",
       "    </tr>\n",
       "  </tbody>\n",
       "</table>\n",
       "</div>"
      ],
      "text/plain": [
       "   gender race/ethnicity     lunch test preparation course  math score  \\\n",
       "0  female        group B  standard                    none          89   \n",
       "1  female        group C  standard               completed          55   \n",
       "\n",
       "   reading score  writing score  total score training institute  \n",
       "0             55             56          200    Nature Learning  \n",
       "1             63             72          190    Nature Learning  "
      ]
     },
     "execution_count": 29,
     "metadata": {},
     "output_type": "execute_result"
    }
   ],
   "source": [
    "# read the students performance data \n",
    "df_student = pd.read_csv('StudentsPerformance.csv')\n",
    "\n",
    "# display the first two observations\n",
    "df_student.head(2)"
   ]
  },
  {
   "cell_type": "code",
   "execution_count": 30,
   "metadata": {
    "id": "lWluzc3kjULl",
    "outputId": "446dc307-4309-4dbf-a46e-1e4e391be779"
   },
   "outputs": [
    {
     "data": {
      "text/plain": [
       "female    517\n",
       "male      483\n",
       "Name: gender, dtype: int64"
      ]
     },
     "execution_count": 30,
     "metadata": {},
     "output_type": "execute_result"
    }
   ],
   "source": [
    "# find the number of female students in the dataframe\n",
    "df_student.gender.value_counts()"
   ]
  },
  {
   "cell_type": "markdown",
   "metadata": {
    "id": "R76gSEhJjULp"
   },
   "source": [
    "There are 517 female studens in the dataset. Consider the reading score of these students."
   ]
  },
  {
   "cell_type": "code",
   "execution_count": 31,
   "metadata": {
    "id": "C_l6ks06jULq",
    "outputId": "16de9912-dca3-4fde-ccea-9ca074241f27"
   },
   "outputs": [
    {
     "data": {
      "text/plain": [
       "0    55\n",
       "1    63\n",
       "2    71\n",
       "5    85\n",
       "6    51\n",
       "Name: reading score, dtype: int64"
      ]
     },
     "execution_count": 31,
     "metadata": {},
     "output_type": "execute_result"
    }
   ],
   "source": [
    "# given reading scores\n",
    "# consider the subset of the given dataframe 'df_student'\n",
    "scores = df_student[(df_student['gender'] == 'female')]['reading score']\n",
    "\n",
    "# print score of first five female students \n",
    "scores.head()"
   ]
  },
  {
   "cell_type": "markdown",
   "metadata": {
    "id": "7tFfZOMnjULt"
   },
   "source": [
    "Let us check the normality of the data."
   ]
  },
  {
   "cell_type": "code",
   "execution_count": 32,
   "metadata": {
    "id": "rJK1u5U5jULt",
    "outputId": "4f36128f-91bc-45ea-b550-b033294046ad"
   },
   "outputs": [
    {
     "name": "stdout",
     "output_type": "stream",
     "text": [
      "Test statistic: 0.9949188828468323\n",
      "P-Value: 0.08642977476119995\n"
     ]
    }
   ],
   "source": [
    "# perform Shapiro-Wilk test to test the normality\n",
    "# shapiro() returns a tuple having the values of test statistics and the corresponding p-value\n",
    "# pass the reading scores of female students to perform the test\n",
    "stat, p_value = shapiro(scores)\n",
    "\n",
    "# print the test statistic and corresponding p-value \n",
    "print('Test statistic:', stat)\n",
    "print('P-Value:', p_value)"
   ]
  },
  {
   "cell_type": "markdown",
   "metadata": {
    "id": "u8A44q5ajULw"
   },
   "source": [
    "From the above result, we can see that the p-value is greater than 0.05, thus we can say that the data is normally distributed."
   ]
  },
  {
   "cell_type": "markdown",
   "metadata": {
    "id": "tQnUYs2jjULw"
   },
   "source": [
    "The null and alternative hypothesis is:\n",
    "\n",
    "H<sub>0</sub>: $\\mu \\leq 65$<br>\n",
    "H<sub>1</sub>: $\\mu > 65$\n",
    "\n",
    "Here ⍺ = 0.05, for a one-tailed test calculate the critical z-value."
   ]
  },
  {
   "cell_type": "code",
   "execution_count": 33,
   "metadata": {
    "id": "mTVgf6IPjULx",
    "outputId": "81d079de-5320-43ac-d9ef-f4d18d9d6af5"
   },
   "outputs": [
    {
     "name": "stdout",
     "output_type": "stream",
     "text": [
      "Critical value for one-tailed Z-test: 1.64\n"
     ]
    }
   ],
   "source": [
    "# calculate the z-value for 95% of confidence level\n",
    "# use 'stats.norm.isf()' to find the z-value corresponding to the upper tail probability 'q'\n",
    "# pass the value of 'alpha' to the parameter 'q', here alpha = 0.05\n",
    "# use 'round()' to round-off the value to 2 digits\n",
    "z_val = np.abs(round(stats.norm.isf(q = 0.05), 2))\n",
    "\n",
    "print('Critical value for one-tailed Z-test:', z_val)"
   ]
  },
  {
   "cell_type": "markdown",
   "metadata": {
    "id": "rbKEbji3jULz"
   },
   "source": [
    "i.e. if z is greater than 1.64 then we reject the null hypothesis."
   ]
  },
  {
   "cell_type": "code",
   "execution_count": 34,
   "metadata": {
    "id": "9cUNZPeCjUL0",
    "outputId": "5922a85f-3106-438c-c51e-a896a7bbbd4b"
   },
   "outputs": [
    {
     "name": "stdout",
     "output_type": "stream",
     "text": [
      "Z-score:  2.529410071375873\n",
      "p-value:  0.005712722457410142\n"
     ]
    }
   ],
   "source": [
    "# 'ztest()' returns the test statistic and corresponding p-value\n",
    "# pass the sample data to the parameter, 'x1'\n",
    "# pass the value in null hypothesis to the parameter, 'value'\n",
    "# pass the one-tailed condition to the parameter, 'alternative'\n",
    "z_score, pval = stests.ztest(x1 = scores, value = 65, alternative = 'larger')\n",
    "\n",
    "# print the test statistic and corresponding p-value\n",
    "print(\"Z-score: \", z_score)\n",
    "print(\"p-value: \", pval)"
   ]
  },
  {
   "cell_type": "code",
   "execution_count": 35,
   "metadata": {
    "id": "FlXDs26cjUL3",
    "outputId": "ba64657e-9ef6-458a-85d4-c24541354234",
    "scrolled": false
   },
   "outputs": [
    {
     "name": "stdout",
     "output_type": "stream",
     "text": [
      "Confidence interval: (65.33094545307333, 67.6090932316462)\n"
     ]
    }
   ],
   "source": [
    "# calculate the 95% confidence interval for the population mean\n",
    "# pass the sample mean to the parameter, 'loc'\n",
    "# pass the scaling factor (sample_std / n^(1/2)) to the parameter, 'scale'\n",
    "# use 'stdev()' to calculate the sample standard deviation \n",
    "print('Confidence interval:', stats.norm.interval(0.95, loc = np.mean(scores), \n",
    "                                                  scale = statistics.stdev(scores) / np.sqrt(len(scores))))"
   ]
  },
  {
   "cell_type": "markdown",
   "metadata": {
    "id": "Td_kmZ_VjUL5"
   },
   "source": [
    "Here the z score is greater than 1.64, the p-value is less than 0.05, also the confidence interval does not contain the value in the null hypothesis (i.e. 65), thus we reject the null hypothesis and thus, we have enough evidence to conclude that  on average girls' score higher marks than 65."
   ]
  },
  {
   "cell_type": "markdown",
   "metadata": {
    "id": "Ogx3Br-8jUL6"
   },
   "source": [
    "Let us plot the acceptance and rejection region for a right-tailed test with 95% confidence."
   ]
  },
  {
   "cell_type": "code",
   "execution_count": 36,
   "metadata": {
    "id": "eJoVlmz3jUL6",
    "outputId": "33cfa0a6-b0ac-48d4-e32d-edf78cd06d6f",
    "scrolled": false
   },
   "outputs": [
    {
     "data": {
      "image/png": "[encoded data removed]",
      "text/plain": [
       "<Figure size 1500x800 with 1 Axes>"
      ]
     },
     "metadata": {},
     "output_type": "display_data"
    }
   ],
   "source": [
    "# consider a random variable 'X' that follows a standard normal distribution \n",
    "# pass the required number of observations to the parameter, 'size'\n",
    "# set 'random_state' to obtain the same observations every time you run the code \n",
    "X = stats.norm.rvs(size = 2000000, random_state = 5)\n",
    "\n",
    "# plot the distribution of X\n",
    "# pass the data to the parameter, 'a'\n",
    "# 'hist=False' does not return the histogram \n",
    "# 'cumulative=False' in 'kde_kws' does not return the cumulative kernel density estimator\n",
    "ax = sns.distplot(a = X, hist = False, kde_kws = dict(cumulative=False))\n",
    "\n",
    "# set the limit for y-axis\n",
    "plt.ylim(0, 0.42)\n",
    "\n",
    "# use 'stats.norm.isf()' to calculate the critical z-value for alpha = 0.05\n",
    "# pass the value of 'alpha' to the parameter 'q'\n",
    "z = stats.norm.isf(q = 0.05)\n",
    "\n",
    "# plot a vertical line at z-value\n",
    "x, y = [z, z], [0, 0.3]\n",
    "plt.plot(x, y, color = 'black')\n",
    "\n",
    "# plot a vertical line at z-score value\n",
    "x, y = [z_score, z_score], [0, 0.015]\n",
    "plt.plot(x, y, color = 'black')\n",
    "\n",
    "# add the color to the right of the z-value\n",
    "# get the data for x and y axes\n",
    "l1 = ax.lines[0]\n",
    "x1 = l1.get_xydata()[:,0]\n",
    "y1 = l1.get_xydata()[:,1]\n",
    "\n",
    "# fill the color for the region where x-values are greater than the critical z-value\n",
    "# pass the condition to shade the required region\n",
    "# pass the required color to the parameter, 'color'\n",
    "ax.fill_between(x1[x1 >= z], y1[x1 >= z], color = 'lightblue')\n",
    "\n",
    "# use 'annonate' function to draw an arrow between points xy and xytext\n",
    "# 's' is a argument to write text\n",
    "# we can change the facecolor and arrowstyle; this is only for representation purpose\n",
    "plt.annotate(text = 'Mean (μ)', xy = (0, 0), xytext = (-0.3, 0.04), arrowprops = dict(facecolor = 'black', arrowstyle = 'simple'))\n",
    "\n",
    "plt.annotate(text = 'α = 0.05\\n(Rejection Region for H0)', xy = (2, 0.025), xytext = (2, 0.075), \n",
    "             arrowprops = dict(facecolor = 'black', arrowstyle = 'simple'))\n",
    "\n",
    "plt.annotate(text = 'z_crit = '+ str(round(z,2)), xy = (z, 0), xytext = (z-1, 0.04), \n",
    "             arrowprops = dict(facecolor = 'black', arrowstyle = 'simple'))\n",
    "\n",
    "# use below code to print the values in the graph\n",
    "# 'x' and 'y' gives position of the text\n",
    "# 's' is the text \n",
    "plt.text(x = -1.1, y = 0.2, s = 'Acceptance Region for H0 (1 - α)')\n",
    "\n",
    "# assign the x-axis labels\n",
    "# pass the position of labels to the parameter, 'ticks'\n",
    "# pass the required labels to the parameter, 'labels'\n",
    "plt.xticks(ticks = [-4, -2, 0, 4, round(z_score,2)], \n",
    "           labels = [-4, -2, 0, 4, 'z_test = '+str(round(z_score,2))])\n",
    "\n",
    "# set plot and axes labels\n",
    "# set text size using 'fontsize'\n",
    "plt.xlabel('Z', fontsize = 15)\n",
    "plt.ylabel('Probability', fontsize = 15)\n",
    "plt.title('Right-Tailed Test', fontsize = 15)\n",
    "\n",
    "# display the plot\n",
    "plt.show()"
   ]
  },
  {
   "cell_type": "markdown",
   "metadata": {
    "id": "MZ9nhmkWjUL9"
   },
   "source": [
    "The above plot shows that the test statistic value is in the rejection region, which implies that we reject $H_{0}$."
   ]
  },
  {
   "cell_type": "markdown",
   "metadata": {
    "id": "qWO0MKzMjUL-"
   },
   "source": [
    "#### 2. The manager of a packaging process at a protein powder manufacturing plant wants to determine if the protein powder packing process is in control. The correct amount of protein powder per box is 350 grams on an average. A sample of 80 boxes was drawn which gave a mean of 354.5 grams with a standard deviation of 15. At 5% level of significance, is there evidence to suggest that the weight is different from 350 grams."
   ]
  },
  {
   "cell_type": "markdown",
   "metadata": {
    "id": "TsjiuTybjUL-"
   },
   "source": [
    "The null and alternative hypothesis is:\n",
    "\n",
    "H<sub>0</sub>: $\\mu = 350$<br>\n",
    "H<sub>1</sub>: $\\mu \\neq 350$\n",
    "\n",
    "Here ⍺ = 0.05, for a two-tailed test calculate the critical z-value."
   ]
  },
  {
   "cell_type": "code",
   "execution_count": 37,
   "metadata": {
    "id": "59GE3Ja4jUL_",
    "outputId": "b38a31ec-1abd-4be2-f1ae-00167953395c"
   },
   "outputs": [
    {
     "name": "stdout",
     "output_type": "stream",
     "text": [
      "Critical value for two-tailed Z-test: 1.96\n"
     ]
    }
   ],
   "source": [
    "# calculate the z-value for 95% of confidence level\n",
    "# use 'stats.norm.isf()' to find the z-value corresponding to the upper tail probability 'q'\n",
    "# pass the value of 'alpha/2' for a two-tailed to the parameter 'q', here alpha = 0.05\n",
    "# use 'round()' to round-off the value to 2 digits\n",
    "z_val = np.abs(round(stats.norm.isf(q = 0.05/2), 2))\n",
    "\n",
    "print('Critical value for two-tailed Z-test:', z_val)"
   ]
  },
  {
   "cell_type": "markdown",
   "metadata": {
    "id": "xKrgqEmUjUMB"
   },
   "source": [
    "i.e. if z is less than -1.96 or z is greater than 1.96 then we reject the null hypothesis."
   ]
  },
  {
   "cell_type": "code",
   "execution_count": 38,
   "metadata": {
    "id": "VjZjLMZnjUMB",
    "outputId": "82ee5769-df98-4b79-c89a-460a77e1d101"
   },
   "outputs": [
    {
     "name": "stdout",
     "output_type": "stream",
     "text": [
      "Z-score: 2.6832815729997477\n"
     ]
    }
   ],
   "source": [
    "# define a function to calculate the Z-test statistic \n",
    "# here the population mean is unknown, thus use the sample standard deviation \n",
    "# pass the population mean, sample standard deviation, sample size and sample mean as the function input\n",
    "def z_test(pop_mean, samp_std, n, samp_mean):\n",
    "   \n",
    "    # calculate the test statistic\n",
    "    z_score = (samp_mean - pop_mean) / (samp_std / np.sqrt(n))\n",
    "\n",
    "    # return the z-test value\n",
    "    return z_score\n",
    "\n",
    "# given data\n",
    "n = 80\n",
    "pop_mean = 350\n",
    "samp_mean = 354.5\n",
    "samp_std = 15\n",
    "\n",
    "# calculate the test statistic using the function 'z_test'\n",
    "z_score = z_test(pop_mean, samp_std, n, samp_mean)\n",
    "print(\"Z-score:\", z_score)"
   ]
  },
  {
   "cell_type": "code",
   "execution_count": 39,
   "metadata": {
    "id": "HEFEx5jVjUME",
    "outputId": "2c41a694-b735-4258-acff-f54f2f20c5ba"
   },
   "outputs": [
    {
     "name": "stdout",
     "output_type": "stream",
     "text": [
      "p-value: 0.007290358091535638\n"
     ]
    }
   ],
   "source": [
    "# calculate the corresponding p-value for the test statistic\n",
    "# use 'sf()' to calculate P(Z > z_score)\n",
    "p_value = stats.norm.sf(z_score)\n",
    "\n",
    "# for a two-tailed test multiply the p-value by 2\n",
    "req_p = p_value*2\n",
    "print('p-value:', req_p)"
   ]
  },
  {
   "cell_type": "code",
   "execution_count": 40,
   "metadata": {
    "id": "LJdfWHw1jUMH",
    "outputId": "fbd671a1-995a-420c-9444-9cc6afb1c087",
    "scrolled": false
   },
   "outputs": [
    {
     "name": "stdout",
     "output_type": "stream",
     "text": [
      "Confidence interval: (351.2130404728378, 357.7869595271622)\n"
     ]
    }
   ],
   "source": [
    "# calculate the 95% confidence interval for the population mean\n",
    "# pass the sample mean to the parameter, 'loc'\n",
    "# pass the scaling factor (sample_std / n^(1/2)) to the parameter, 'scale'\n",
    "print('Confidence interval:', stats.norm.interval(0.95, loc = samp_mean, scale = samp_std / np.sqrt(n)))"
   ]
  },
  {
   "cell_type": "markdown",
   "metadata": {
    "id": "cE9-wo0DjUMJ"
   },
   "source": [
    "Here the z score is greater than 1.96, the p-value is less than 0.05, also the confidence interval does not contain the value in the null hypothesis (i.e. 350), thus we reject the null hypothesis and thus, there is enough evidence to conclude that average weight per protein powder box is not 350."
   ]
  },
  {
   "cell_type": "markdown",
   "metadata": {
    "id": "6PdOJPyjjUMK"
   },
   "source": [
    "<a id=\"2z\"></a>\n",
    "## 6.2 Two Sample Z Test"
   ]
  },
  {
   "cell_type": "markdown",
   "metadata": {
    "id": "AZjn-F3qjUMK"
   },
   "source": [
    "Let us perform a two sample Z test for the population mean. We compare the means of the two independent populations. The samples are assumed to be taken from populations such that they follow a normal distribution. Also, the sample must have equal variance.\n",
    "\n",
    "The `Shapiro-Wilk Test` is used to check the normality of the data. The assumption of equal variances of the populations is tested using the `Levene's Test`. \n",
    "The hypothesis of the Levene's test is given as:\n",
    "<p style='text-indent:25em'> <strong> H<sub>0</sub>:  The variances are equal</strong> </p>\n",
    "<p style='text-indent:25em'> <strong> H<sub>1</sub>:  The variances are not equal </strong> </p>\n",
    "\n",
    "The `levene()` from scipy library performs a Levene's test. \n",
    "\n",
    "The null and alternative hypothesis of two sample Z-test is given as:\n",
    "\n",
    "<p style='text-indent:25em'> <strong> $H_{0}: \\mu_{1} - \\mu_{2} = \\mu_{0}$ or $\\mu_{1} - \\mu_{2} \\geq \\mu_{0}$ or $\\mu_{1} -\\mu_{2} \\leq \\mu_{0}$</strong></p>\n",
    "<p style='text-indent:25em'> <strong> $H_{1}: \\mu_{1} - \\mu_{2} \\neq \\mu_{0} $ or $\\mu_{1} - \\mu_{2} < \\mu_{0}$ or $\\mu_{1} -\\mu_{2} > \\mu_{0}$</strong></p>"
   ]
  },
  {
   "cell_type": "markdown",
   "metadata": {
    "id": "r4ANXi-rjUMK"
   },
   "source": [
    "Consider two normally distributed independent populations. Let us take a sample of size ($n_{1}$) from the first population with standard deviation ($\\sigma_1$) and sample of size ($n_{2}$) from a second population with standard deviation ($\\sigma_2$) such that $n_{1}, n_{2} > 30$. \n",
    "\n",
    "The test statistic for two sample Z-test is given as:\n",
    "<p style='text-indent:25em'> <strong> $Z = \\frac{(\\overline{X_{1}} - \\overline{X_{2}})  - \\mu_{0}} {\\sqrt{\\frac{\\sigma_{1}^{2}}{n_{1}} + \\frac{\\sigma_{2}^{2}}{n_{2}}}}$</strong></p>\n",
    "\n",
    "Where, <br>\n",
    "$\\overline{X_{1}}$, $\\overline{X_{2}}$ : Mean of both the samples<br>\n",
    "$\\mu_{0}$: Mean difference given in the null hypothesis<br>\n",
    "$\\sigma_{1}, \\sigma_{2}$: Standard deviation of both the populations<br>\n",
    "$n_{1}, n_{2}$: Size of samples from both the populations\n",
    "\n",
    "Under $H_{0}$ the test statistic follows a standard normal distribution.\n",
    "\n",
    "If standard deviations of populations are unknown, use the standard deviations of samples ($s_{1}, s_{2}$) instead of $\\sigma_{1}$ and $\\sigma_{2}$ to calculate the test statistic.\n",
    "i.e. <p style='text-indent:25em'> <strong> $Z = \\frac{(\\overline{X_{1}} - \\overline{X_{2}})  - \\mu_{0}} {\\sqrt{\\frac{s_{1}^{2}}{n_{1}} + \\frac{s_{2}^{2}}{n_{2}}}}$</strong></p>\n"
   ]
  },
  {
   "cell_type": "markdown",
   "metadata": {
    "id": "cyTUiATWjUML"
   },
   "source": [
    "### Example:\n",
    "\n",
    "#### 1. The training institute <i>Nature Learning</i> claims that the students trained in their institute have overall better performance than the students trained in their competitor institute <i>Speak Global Learning</i>. We have a sample data of 500 students from each institute along with their total score collected from independent normal populations. Frame a hypothesis and test the Nature Learning's claim with 99% confidence."
   ]
  },
  {
   "cell_type": "markdown",
   "metadata": {
    "id": "ohcYrsuzjUML"
   },
   "source": [
    "Consider the total score for students given in the CSV file `StudentsPerformance.csv`. "
   ]
  },
  {
   "cell_type": "code",
   "execution_count": 41,
   "metadata": {
    "colab": {
     "base_uri": "https://localhost:8080/",
     "height": 235
    },
    "executionInfo": {
     "elapsed": 2087,
     "status": "error",
     "timestamp": 1606967017634,
     "user": {
      "displayName": "Mallikarjuna Doddamane",
      "photoUrl": "https://lh3.googleusercontent.com/a-/AOh14GjOdnL6KUzzQMPHfk6as2xRMsOSbJoBMF9oJSaK=s64",
      "userId": "11697854241316775674"
     },
     "user_tz": -330
    },
    "id": "Xp_CVnoljUMM",
    "outputId": "b2177636-4c8a-4e14-c90e-192f05e4022f",
    "scrolled": true
   },
   "outputs": [
    {
     "data": {
      "text/html": [
       "<div>\n",
       "<style scoped>\n",
       "    .dataframe tbody tr th:only-of-type {\n",
       "        vertical-align: middle;\n",
       "    }\n",
       "\n",
       "    .dataframe tbody tr th {\n",
       "        vertical-align: top;\n",
       "    }\n",
       "\n",
       "    .dataframe thead th {\n",
       "        text-align: right;\n",
       "    }\n",
       "</style>\n",
       "<table border=\"1\" class=\"dataframe\">\n",
       "  <thead>\n",
       "    <tr style=\"text-align: right;\">\n",
       "      <th></th>\n",
       "      <th>gender</th>\n",
       "      <th>race/ethnicity</th>\n",
       "      <th>lunch</th>\n",
       "      <th>test preparation course</th>\n",
       "      <th>math score</th>\n",
       "      <th>reading score</th>\n",
       "      <th>writing score</th>\n",
       "      <th>total score</th>\n",
       "      <th>training institute</th>\n",
       "    </tr>\n",
       "  </thead>\n",
       "  <tbody>\n",
       "    <tr>\n",
       "      <th>0</th>\n",
       "      <td>female</td>\n",
       "      <td>group B</td>\n",
       "      <td>standard</td>\n",
       "      <td>none</td>\n",
       "      <td>89</td>\n",
       "      <td>55</td>\n",
       "      <td>56</td>\n",
       "      <td>200</td>\n",
       "      <td>Nature Learning</td>\n",
       "    </tr>\n",
       "    <tr>\n",
       "      <th>1</th>\n",
       "      <td>female</td>\n",
       "      <td>group C</td>\n",
       "      <td>standard</td>\n",
       "      <td>completed</td>\n",
       "      <td>55</td>\n",
       "      <td>63</td>\n",
       "      <td>72</td>\n",
       "      <td>190</td>\n",
       "      <td>Nature Learning</td>\n",
       "    </tr>\n",
       "  </tbody>\n",
       "</table>\n",
       "</div>"
      ],
      "text/plain": [
       "   gender race/ethnicity     lunch test preparation course  math score  \\\n",
       "0  female        group B  standard                    none          89   \n",
       "1  female        group C  standard               completed          55   \n",
       "\n",
       "   reading score  writing score  total score training institute  \n",
       "0             55             56          200    Nature Learning  \n",
       "1             63             72          190    Nature Learning  "
      ]
     },
     "execution_count": 41,
     "metadata": {},
     "output_type": "execute_result"
    }
   ],
   "source": [
    "# read the students performance data \n",
    "df_student = pd.read_csv('StudentsPerformance.csv')\n",
    "\n",
    "# display the first two observations\n",
    "df_student.head(2)"
   ]
  },
  {
   "cell_type": "code",
   "execution_count": 42,
   "metadata": {
    "colab": {
     "base_uri": "https://localhost:8080/",
     "height": 235
    },
    "executionInfo": {
     "elapsed": 5085,
     "status": "error",
     "timestamp": 1606967020642,
     "user": {
      "displayName": "Mallikarjuna Doddamane",
      "photoUrl": "https://lh3.googleusercontent.com/a-/AOh14GjOdnL6KUzzQMPHfk6as2xRMsOSbJoBMF9oJSaK=s64",
      "userId": "11697854241316775674"
     },
     "user_tz": -330
    },
    "id": "v8OPjxTxjUMO",
    "outputId": "f93877ac-28f9-4d55-efc5-7f1f4807d0b2"
   },
   "outputs": [],
   "source": [
    "# consider total score of the students trained from the institute 'Nature Learning'\n",
    "nl_scores = df_student[(df_student['training institute'] == 'Nature Learning')]['total score']\n",
    "\n",
    "# number of students trained from the institute 'Nature Learning'\n",
    "n_1 = len(nl_scores)\n",
    "\n",
    "# mean total score \n",
    "nl_mean = np.mean(nl_scores)\n",
    "\n",
    "# standard deviation of total score \n",
    "nl_std = statistics.stdev(nl_scores)\n",
    "\n",
    "# consider total score of the students trained from the 'Speak Global Learning' institute\n",
    "sgl_scores = df_student[(df_student['training institute'] == 'Speak Global Learning')]['total score']\n",
    "\n",
    "# number of students trained from the 'Speak Global Learning' institute\n",
    "n_2 = len(sgl_scores)\n",
    "\n",
    "# mean total score \n",
    "sgl_mean = np.mean(sgl_scores)\n",
    "\n",
    "# standard deviation of total score\n",
    "sgl_std = statistics.stdev(sgl_scores)"
   ]
  },
  {
   "cell_type": "markdown",
   "metadata": {
    "id": "eSDa1_VhjUMR"
   },
   "source": [
    "Let us check the normality of total score for the students trained from both the institutes."
   ]
  },
  {
   "cell_type": "code",
   "execution_count": 43,
   "metadata": {
    "executionInfo": {
     "elapsed": 5070,
     "status": "aborted",
     "timestamp": 1606967020630,
     "user": {
      "displayName": "Mallikarjuna Doddamane",
      "photoUrl": "https://lh3.googleusercontent.com/a-/AOh14GjOdnL6KUzzQMPHfk6as2xRMsOSbJoBMF9oJSaK=s64",
      "userId": "11697854241316775674"
     },
     "user_tz": -330
    },
    "id": "aFqcI0oFjUMS"
   },
   "outputs": [
    {
     "name": "stdout",
     "output_type": "stream",
     "text": [
      "Test statistic: 0.9987770915031433\n",
      "P-Value: 0.7399389743804932\n"
     ]
    }
   ],
   "source": [
    "# perform Shapiro-Wilk test\n",
    "# shapiro() returns a tuple having the values of test statistics and the corresponding p-value\n",
    "# pass the total score students to perform the test\n",
    "stat, p_value = shapiro(df_student['total score'])\n",
    "\n",
    "# print the test statistic and corresponding p-value \n",
    "print('Test statistic:', stat)\n",
    "print('P-Value:', p_value)"
   ]
  },
  {
   "cell_type": "markdown",
   "metadata": {
    "id": "aJe_d9JFjUMU"
   },
   "source": [
    "From the above result, we can see that the p-value is greater than 0.05, thus we can say that the total scores of the students trained from both the institutes are normally distributed."
   ]
  },
  {
   "cell_type": "markdown",
   "metadata": {
    "id": "yI8KK-v-jUMV"
   },
   "source": [
    "Let us check the equality of variances."
   ]
  },
  {
   "cell_type": "code",
   "execution_count": 44,
   "metadata": {
    "executionInfo": {
     "elapsed": 5070,
     "status": "aborted",
     "timestamp": 1606967020632,
     "user": {
      "displayName": "Mallikarjuna Doddamane",
      "photoUrl": "https://lh3.googleusercontent.com/a-/AOh14GjOdnL6KUzzQMPHfk6as2xRMsOSbJoBMF9oJSaK=s64",
      "userId": "11697854241316775674"
     },
     "user_tz": -330
    },
    "id": "Rlrj4Vr3jUMV"
   },
   "outputs": [
    {
     "name": "stdout",
     "output_type": "stream",
     "text": [
      "Test statistic: 0.6422721347822817\n",
      "P-Value: 0.42307998325221574\n"
     ]
    }
   ],
   "source": [
    "# perform Levene's test\n",
    "# levene() returns a tuple having the values of test statistics and the corresponding p-value\n",
    "# pass the total scores of students trained from 'Nature Learning' and 'Speak Global Learning' institutes to perform the test\n",
    "stat, p_value = stats.levene(nl_scores, sgl_scores)\n",
    "\n",
    "# print the test statistic and corresponding p-value \n",
    "print('Test statistic:', stat)\n",
    "print('P-Value:', p_value)"
   ]
  },
  {
   "cell_type": "markdown",
   "metadata": {
    "id": "rhfAXozwjUMY"
   },
   "source": [
    "From the above result, we can see that the p-value is greater than 0.05, thus we can say that the population variances are equal."
   ]
  },
  {
   "cell_type": "markdown",
   "metadata": {
    "id": "E9Yz-2UYjUMY"
   },
   "source": [
    "The null and alternative hypothesis is:\n",
    "\n",
    "H<sub>0</sub>: $\\mu_{1} - \\mu_{2} \\leq 0$ <br>\n",
    "H<sub>1</sub>: $\\mu_{1} - \\mu_{2} > 0$ \n",
    "\n",
    "Here ⍺ = 0.01, for a one-tailed test calculate the critical z-value."
   ]
  },
  {
   "cell_type": "code",
   "execution_count": 45,
   "metadata": {
    "executionInfo": {
     "elapsed": 5071,
     "status": "aborted",
     "timestamp": 1606967020635,
     "user": {
      "displayName": "Mallikarjuna Doddamane",
      "photoUrl": "https://lh3.googleusercontent.com/a-/AOh14GjOdnL6KUzzQMPHfk6as2xRMsOSbJoBMF9oJSaK=s64",
      "userId": "11697854241316775674"
     },
     "user_tz": -330
    },
    "id": "z9seBMcajUMY"
   },
   "outputs": [
    {
     "name": "stdout",
     "output_type": "stream",
     "text": [
      "Critical value for one-tailed Z-test: 2.33\n"
     ]
    }
   ],
   "source": [
    "# calculate the z-value for 99% of confidence level\n",
    "# use 'stats.norm.isf()' to find the z-value corresponding to the upper tail probability 'q'\n",
    "# pass the value of 'alpha' to the parameter 'q', here alpha = 0.01\n",
    "# use 'round()' to round-off the value to 2 digits\n",
    "z_val = np.abs(round(stats.norm.isf(q = 0.01), 2))\n",
    "\n",
    "print('Critical value for one-tailed Z-test:', z_val)"
   ]
  },
  {
   "cell_type": "markdown",
   "metadata": {
    "id": "18WHhekkjUMc"
   },
   "source": [
    "i.e. if z is greater than 2.33 then we reject the null hypothesis."
   ]
  },
  {
   "cell_type": "code",
   "execution_count": 46,
   "metadata": {
    "executionInfo": {
     "elapsed": 5070,
     "status": "aborted",
     "timestamp": 1606967020636,
     "user": {
      "displayName": "Mallikarjuna Doddamane",
      "photoUrl": "https://lh3.googleusercontent.com/a-/AOh14GjOdnL6KUzzQMPHfk6as2xRMsOSbJoBMF9oJSaK=s64",
      "userId": "11697854241316775674"
     },
     "user_tz": -330
    },
    "id": "2EUZWhs0jUMc"
   },
   "outputs": [
    {
     "name": "stdout",
     "output_type": "stream",
     "text": [
      "Z-score:  0.15125511253949914\n",
      "p-value:  0.43988723840898025\n"
     ]
    }
   ],
   "source": [
    "# 'ztest()' returns the test statistic and corresponding p-value\n",
    "# pass the scores of students from 'Nature Learning' to the parameter, 'x1'\n",
    "# pass the scores of students from 'Speak Global Learning' to the parameter, 'x2'\n",
    "# pass the value in null hypothesis to the parameter, 'value'\n",
    "# pass the one-tailed condition to the parameter, 'alternative'\n",
    "z_score, pval = stests.ztest(x1 = nl_scores, x2 = sgl_scores, value = 0, alternative = 'larger')\n",
    "\n",
    "# print the test statistic and corresponding p-value\n",
    "print(\"Z-score: \", z_score)\n",
    "print(\"p-value: \", pval)"
   ]
  },
  {
   "cell_type": "code",
   "execution_count": 47,
   "metadata": {
    "executionInfo": {
     "elapsed": 5069,
     "status": "aborted",
     "timestamp": 1606967020637,
     "user": {
      "displayName": "Mallikarjuna Doddamane",
      "photoUrl": "https://lh3.googleusercontent.com/a-/AOh14GjOdnL6KUzzQMPHfk6as2xRMsOSbJoBMF9oJSaK=s64",
      "userId": "11697854241316775674"
     },
     "user_tz": -330
    },
    "id": "AzdGM59hjUMf",
    "scrolled": true
   },
   "outputs": [
    {
     "name": "stdout",
     "output_type": "stream",
     "text": [
      "Confidence interval: (-3.5585935666371427, 4.002593566637103)\n"
     ]
    }
   ],
   "source": [
    "# calculate the 99% confidence interval for the population mean\n",
    "# pass the difference between the sample means to the parameter, 'loc'\n",
    "# pass the scaling factor np.sqrt((nl_std^2 / n1 + (sgl_std^2 / n2)) to the parameter, 'scale'\n",
    "print('Confidence interval:', stats.norm.interval(0.99, loc = nl_mean - sgl_mean, \n",
    "                                                scale = np.sqrt(((nl_std**2) / n_1) + ((sgl_std**2) / n_2))))"
   ]
  },
  {
   "cell_type": "markdown",
   "metadata": {
    "id": "ScUpwCq8jUMh"
   },
   "source": [
    "Here the z score is less than 2.33, the p-value is greater than 0.01, also the confidence interval contains the value in the null hypothesis (i.e. 0), thus we fail to reject (i.e. accept) the null hypothesis and we do not have enough evidence to conclude that the claim of the 'Nature Learning' institute that their students perform better than the students from 'Speak Global Learning' institute is correct."
   ]
  },
  {
   "cell_type": "markdown",
   "metadata": {
    "id": "imcAea0tjUMh"
   },
   "source": [
    "Let us plot the acceptance and rejection region for a right-tailed test with 99% confidence."
   ]
  },
  {
   "cell_type": "code",
   "execution_count": 48,
   "metadata": {
    "executionInfo": {
     "elapsed": 5067,
     "status": "aborted",
     "timestamp": 1606967020637,
     "user": {
      "displayName": "Mallikarjuna Doddamane",
      "photoUrl": "https://lh3.googleusercontent.com/a-/AOh14GjOdnL6KUzzQMPHfk6as2xRMsOSbJoBMF9oJSaK=s64",
      "userId": "11697854241316775674"
     },
     "user_tz": -330
    },
    "id": "Mz8bmN6QjUMi",
    "scrolled": false
   },
   "outputs": [
    {
     "data": {
      "image/png": "[encoded data removed]",
      "text/plain": [
       "<Figure size 1500x800 with 1 Axes>"
      ]
     },
     "metadata": {},
     "output_type": "display_data"
    }
   ],
   "source": [
    "# consider a random variable 'X' that follows a standard normal distribution \n",
    "# pass the required number of observations to the parameter, 'size'\n",
    "# set 'random_state' to obtain the same observations every time you run the code \n",
    "X = stats.norm.rvs(size = 2000000, random_state = 18)\n",
    "\n",
    "# plot the distribution of X\n",
    "# pass the data to the parameter, 'a'\n",
    "# 'hist=False' does not return the histogram \n",
    "# 'cumulative=False' in 'kde_kws' does not return the cumulative kernel density estimator\n",
    "ax = sns.distplot(a = X, hist = False, kde_kws = dict(cumulative=False))\n",
    "\n",
    "# set the limit for y-axis\n",
    "plt.ylim(0, 0.42)\n",
    "\n",
    "# use 'stats.norm.isf()' to calculate the critical z-value for alpha = 0.01\n",
    "# pass the value of 'alpha' to the parameter 'q'\n",
    "z = stats.norm.isf(q = 0.01)\n",
    "\n",
    "# plot a vertical line at z-value\n",
    "x, y = [z, z], [0, 0.3]\n",
    "plt.plot(x, y, color = 'black')\n",
    "\n",
    "# plot a vertical line at z-score value\n",
    "x, y = [z_score, z_score], [0, 0.03]\n",
    "plt.plot(x, y, color = 'black')\n",
    "\n",
    "# add the color to the right of the z-value\n",
    "# get the data for x and y axes\n",
    "l1 = ax.lines[0]\n",
    "x1 = l1.get_xydata()[:,0]\n",
    "y1 = l1.get_xydata()[:,1]\n",
    "\n",
    "# fill the color for the region where x-values are greater than the critical z-value\n",
    "# pass the condition to shade the required region\n",
    "# pass the required color to the parameter, 'color'\n",
    "ax.fill_between(x1[x1 >= z], y1[x1 >= z], color = 'lightblue')\n",
    "\n",
    "# use 'annonate' function to draw an arrow between points xy and xytext\n",
    "# 's' is a argument to write text\n",
    "# we can change the facecolor and arrowstyle; this is only for representation purpose\n",
    "plt.annotate(text = 'α = 0.01\\n(Rejection Region for H0)', xy = (2.5, 0.008), xytext = (2.5, 0.058), \n",
    "             arrowprops = dict(facecolor = 'black', arrowstyle = 'simple'))\n",
    "\n",
    "plt.annotate(text = 'z_crit = '+ str(round(z,2)), xy = (z, 0.2), xytext = (z-1.1, 0.24), \n",
    "             arrowprops = dict(facecolor = 'black', arrowstyle = 'simple'))\n",
    "\n",
    "# use below code to print the values in the graph\n",
    "# 'x' and 'y' gives position of the text\n",
    "# 's' is the text \n",
    "plt.text(x = -1.1, y = 0.2, s = 'Acceptance Region for H0 (1 - α)')\n",
    "\n",
    "# assign the x-axis labels\n",
    "# pass the position of labels to the parameter, 'ticks'\n",
    "# pass the required labels to the parameter, 'labels'\n",
    "plt.xticks(ticks = [-4, -2, 2, 4, round(z_score,2)], \n",
    "           labels = [-4, -2, 2, 4, 'z_test = '+str(round(z_score,2))])\n",
    "\n",
    "# set plot and axes labels\n",
    "# set text size using 'fontsize'\n",
    "plt.xlabel('Z', fontsize = 15)\n",
    "plt.ylabel('Probability', fontsize = 15)\n",
    "plt.title('Right-Tailed Test', fontsize = 15)\n",
    "\n",
    "# display the plot\n",
    "plt.show()"
   ]
  },
  {
   "cell_type": "markdown",
   "metadata": {
    "id": "IVQPuJaOjUMk"
   },
   "source": [
    "The above plot shows that the test statistic value is in the acceptance region, which implies we fail to reject (i.e. accept) $H_{0}$."
   ]
  },
  {
   "cell_type": "markdown",
   "metadata": {
    "id": "obvwn0HrjUMk"
   },
   "source": [
    "#### 2. A study was carried out to understand amount of haemoglobin in blood for males and females. A random sample of 160 males and 180 females have means of 13 g/dl and 15 g/dl. The two samples have standard deviation of 4.1 g/dl for male donors and 3.5 g/dl for female donor . Can it be said the population means of concentrations of the elements are the same for men and women? Use  α = 0.01."
   ]
  },
  {
   "cell_type": "markdown",
   "metadata": {
    "id": "Rr8nzeh_jUMl"
   },
   "source": [
    "The null and alternative hypothesis is:\n",
    "\n",
    "H<sub>0</sub>: $\\mu_{1} - \\mu_{2} = 0$<br>\n",
    "H<sub>1</sub>: $\\mu_{1} - \\mu_{2} \\neq 0$\n",
    "\n",
    "Here ⍺ = 0.01, for a two-tailed test calculate the critical z-value."
   ]
  },
  {
   "cell_type": "code",
   "execution_count": 49,
   "metadata": {
    "executionInfo": {
     "elapsed": 5066,
     "status": "aborted",
     "timestamp": 1606967020638,
     "user": {
      "displayName": "Mallikarjuna Doddamane",
      "photoUrl": "https://lh3.googleusercontent.com/a-/AOh14GjOdnL6KUzzQMPHfk6as2xRMsOSbJoBMF9oJSaK=s64",
      "userId": "11697854241316775674"
     },
     "user_tz": -330
    },
    "id": "VnWc9QsfjUMl"
   },
   "outputs": [
    {
     "name": "stdout",
     "output_type": "stream",
     "text": [
      "Critical value for two-tailed Z-test: 2.58\n"
     ]
    }
   ],
   "source": [
    "# calculate the z-value for 99% of confidence level\n",
    "# use 'stats.norm.isf()' to find the z-value corresponding to the upper tail probability 'q'\n",
    "# pass the value of 'alpha/2' for a two-tailed test to the parameter 'q', here alpha = 0.01\n",
    "# use 'round()' to round-off the value to 2 digits\n",
    "z_val = np.abs(round(stats.norm.isf(q = 0.01/2), 2))\n",
    "\n",
    "print('Critical value for two-tailed Z-test:', z_val)"
   ]
  },
  {
   "cell_type": "markdown",
   "metadata": {
    "id": "Uo00FmmbjUMo"
   },
   "source": [
    "i.e. if z is less than -2.58 or z is greater than 2.58 then we reject the null hypothesis."
   ]
  },
  {
   "cell_type": "code",
   "execution_count": 50,
   "metadata": {
    "executionInfo": {
     "elapsed": 5066,
     "status": "aborted",
     "timestamp": 1606967020640,
     "user": {
      "displayName": "Mallikarjuna Doddamane",
      "photoUrl": "https://lh3.googleusercontent.com/a-/AOh14GjOdnL6KUzzQMPHfk6as2xRMsOSbJoBMF9oJSaK=s64",
      "userId": "11697854241316775674"
     },
     "user_tz": -330
    },
    "id": "PV-QXFOajUMp"
   },
   "outputs": [
    {
     "name": "stdout",
     "output_type": "stream",
     "text": [
      "z-score: -4.806830552525058\n"
     ]
    }
   ],
   "source": [
    "# define a function to calculate the test statistic and corresponding p-value\n",
    "# here the standard deviations for populations are unknown, thus use the sample standard deviations\n",
    "# pass the sample mean, sample standard deviation and sample size for both the samples as the function input\n",
    "# 'value' denotes the value in null hypothesis\n",
    "def TwoSampZTest(samp_mean_1, samp_mean_2, samp_std_1, samp_std_2, value, n1, n2):\n",
    "    \n",
    "    # calculate the test statistic\n",
    "    denominator = np.sqrt((samp_std_1**2 / n1) + (samp_std_2**2 / n2))\n",
    "    zscore = ((samp_mean_1 - samp_mean_2) - (value)) / denominator\n",
    "    \n",
    "    # return the z-score\n",
    "    return zscore\n",
    "\n",
    "# given data\n",
    "sm_1 = 13\n",
    "sm_2 = 15\n",
    "sstd_1 = 4.1\n",
    "sstd_2 = 3.5\n",
    "null_val = 0\n",
    "n_1 = 160\n",
    "n_2 = 180\n",
    "\n",
    "# pass the given data to the function 'TwoSampZTest'\n",
    "zscore = TwoSampZTest(samp_mean_1 = sm_1, samp_mean_2 = sm_2, samp_std_1 = sstd_1, samp_std_2 = sstd_2, value = null_val, \n",
    "                      n1 = n_1, n2 = n_2)\n",
    "\n",
    "print('z-score:', zscore)"
   ]
  },
  {
   "cell_type": "code",
   "execution_count": 51,
   "metadata": {
    "executionInfo": {
     "elapsed": 5062,
     "status": "aborted",
     "timestamp": 1606967020640,
     "user": {
      "displayName": "Mallikarjuna Doddamane",
      "photoUrl": "https://lh3.googleusercontent.com/a-/AOh14GjOdnL6KUzzQMPHfk6as2xRMsOSbJoBMF9oJSaK=s64",
      "userId": "11697854241316775674"
     },
     "user_tz": -330
    },
    "id": "vYB2K-5ZjUMr"
   },
   "outputs": [
    {
     "name": "stdout",
     "output_type": "stream",
     "text": [
      "p-value: 1.5334185117556497e-06\n"
     ]
    }
   ],
   "source": [
    "# calculate the corresponding p-value for the test statistic\n",
    "# use 'cdf()' to calculate P(Z <= z_score)\n",
    "p_value = stats.norm.cdf(zscore)\n",
    "\n",
    "# for a two-tailed test multiply the p-value by 2\n",
    "req_p = p_value*2\n",
    "print('p-value:', req_p)"
   ]
  },
  {
   "cell_type": "code",
   "execution_count": 52,
   "metadata": {
    "executionInfo": {
     "elapsed": 5061,
     "status": "aborted",
     "timestamp": 1606967020641,
     "user": {
      "displayName": "Mallikarjuna Doddamane",
      "photoUrl": "https://lh3.googleusercontent.com/a-/AOh14GjOdnL6KUzzQMPHfk6as2xRMsOSbJoBMF9oJSaK=s64",
      "userId": "11697854241316775674"
     },
     "user_tz": -330
    },
    "id": "37Q1qRJ4jUMt",
    "scrolled": false
   },
   "outputs": [
    {
     "name": "stdout",
     "output_type": "stream",
     "text": [
      "Confidence interval: (-3.0717370938718864, -0.9282629061281136)\n"
     ]
    }
   ],
   "source": [
    "# calculate the 99% confidence interval for the population mean\n",
    "# pass the sample mean to the parameter, 'loc'\n",
    "# pass the scaling factor (sample_std / n^(1/2)) to the parameter, 'scale'\n",
    "print('Confidence interval:', stats.norm.interval(0.99, loc = sm_1 - sm_2, \n",
    "                                                  scale = np.sqrt((sstd_1**2/n_1) + (sstd_2**2/n_2))))"
   ]
  },
  {
   "cell_type": "markdown",
   "metadata": {
    "id": "zfmer40-jUMv"
   },
   "source": [
    "Here the z-score is less than -2.58, the p-value is less than 0.01, also the confidence interval does not contain the value in the null hypothesis (i.e. 0). Thus, we reject the null hypothesis and conclude that both males and females have different hemoglobin averages."
   ]
  },
  {
   "cell_type": "code",
   "execution_count": 53,
   "metadata": {},
   "outputs": [
    {
     "data": {
      "text/html": [
       "<details>\n",
       "<summary>Click to view session information</summary>\n",
       "<pre>\n",
       "-----\n",
       "matplotlib          3.6.2\n",
       "numpy               1.23.4\n",
       "pandas              1.5.1\n",
       "scipy               1.9.3\n",
       "seaborn             0.12.1\n",
       "session_info        1.0.0\n",
       "statsmodels         0.13.5\n",
       "-----\n",
       "</pre>\n",
       "<details>\n",
       "<summary>Click to view modules imported as dependencies</summary>\n",
       "<pre>\n",
       "PIL                 9.3.0\n",
       "appnope             0.1.3\n",
       "asttokens           NA\n",
       "backcall            0.2.0\n",
       "cffi                1.15.1\n",
       "cycler              0.10.0\n",
       "cython_runtime      NA\n",
       "dateutil            2.8.2\n",
       "debugpy             1.6.3\n",
       "decorator           5.1.1\n",
       "defusedxml          0.7.1\n",
       "entrypoints         0.4\n",
       "executing           1.2.0\n",
       "google              NA\n",
       "ipykernel           6.17.0\n",
       "ipython_genutils    0.2.0\n",
       "ipywidgets          8.0.2\n",
       "jedi                0.18.1\n",
       "kiwisolver          1.4.4\n",
       "matplotlib_inline   0.1.6\n",
       "mpl_toolkits        NA\n",
       "packaging           21.3\n",
       "parso               0.8.3\n",
       "pexpect             4.8.0\n",
       "pickleshare         0.7.5\n",
       "pkg_resources       NA\n",
       "prompt_toolkit      3.0.32\n",
       "psutil              5.9.3\n",
       "ptyprocess          0.7.0\n",
       "pure_eval           0.2.2\n",
       "pyarrow             10.0.0\n",
       "pydev_ipython       NA\n",
       "pydevconsole        NA\n",
       "pydevd              2.8.0\n",
       "pydevd_file_utils   NA\n",
       "pydevd_plugins      NA\n",
       "pydevd_tracing      NA\n",
       "pygments            2.13.0\n",
       "pyparsing           3.0.9\n",
       "pytz                2022.6\n",
       "six                 1.16.0\n",
       "stack_data          0.6.0\n",
       "tornado             6.2\n",
       "traitlets           5.5.0\n",
       "wcwidth             0.2.5\n",
       "zmq                 24.0.1\n",
       "zoneinfo            NA\n",
       "zope                NA\n",
       "</pre>\n",
       "</details> <!-- seems like this ends pre, so might as well be explicit -->\n",
       "<pre>\n",
       "-----\n",
       "IPython             8.6.0\n",
       "jupyter_client      7.4.4\n",
       "jupyter_core        4.11.2\n",
       "notebook            6.5.2\n",
       "-----\n",
       "Python 3.10.7 (v3.10.7:6cc6b13308, Sep  5 2022, 14:02:52) [Clang 13.0.0 (clang-1300.0.29.30)]\n",
       "macOS-13.1-x86_64-i386-64bit\n",
       "-----\n",
       "Session information updated at 2023-01-12 15:27\n",
       "</pre>\n",
       "</details>"
      ],
      "text/plain": [
       "<IPython.core.display.HTML object>"
      ]
     },
     "execution_count": 53,
     "metadata": {},
     "output_type": "execute_result"
    }
   ],
   "source": [
    "import session_info\n",
    "session_info.show()"
   ]
  }
 ],
 "metadata": {
  "kernelspec": {
   "display_name": "Python 3 (ipykernel)",
   "language": "python",
   "name": "python3"
  },
  "language_info": {
   "codemirror_mode": {
    "name": "ipython",
    "version": 3
   },
   "file_extension": ".py",
   "mimetype": "text/x-python",
   "name": "python",
   "nbconvert_exporter": "python",
   "pygments_lexer": "ipython3",
   "version": "3.10.7"
  }
 },
 "nbformat": 4,
 "nbformat_minor": 2
}
