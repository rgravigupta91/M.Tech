{
 "cells": [
  {
   "cell_type": "markdown",
   "metadata": {},
   "source": [
    "<table align=\"center\" width=100%>\n",
    "    <tr>\n",
    "        <td width=\"15%\">\n",
    "            <img src=\"homework.png\">\n",
    "        </td>\n",
    "        <td>\n",
    "            <div align=\"center\">\n",
    "                <font color=\"#21618C\" size=8px>\n",
    "                    <b> Take-Home <br>(Session 4)\n",
    "                    </b>\n",
    "                </font>\n",
    "            </div>\n",
    "        </td>\n",
    "    </tr>\n",
    "</table>"
   ]
  },
  {
   "cell_type": "markdown",
   "metadata": {},
   "source": [
    "**Import the required libraries**"
   ]
  },
  {
   "cell_type": "code",
   "execution_count": 1,
   "metadata": {},
   "outputs": [],
   "source": [
    "# import 'numpy' \n",
    "import numpy as np\n",
    "\n",
    "# import subpackage of matplotlib\n",
    "import matplotlib.pyplot as plt\n",
    "\n",
    "# import 'seaborn'\n",
    "import seaborn as sns\n",
    "\n",
    "# to suppress warnings \n",
    "from warnings import filterwarnings\n",
    "filterwarnings('ignore')\n",
    "\n",
    "# import statistics to perform statistical computation  \n",
    "import statistics\n",
    "\n",
    "# import 'stats' package from scipy library\n",
    "from scipy import stats\n",
    "\n",
    "# import a library to perform Z-test\n",
    "from statsmodels.stats import weightstats as stests\n",
    "\n",
    "# to test the normality \n",
    "from scipy.stats import shapiro\n",
    "\n",
    "# import the function to calculate the power of test\n",
    "from statsmodels.stats import power"
   ]
  },
  {
   "cell_type": "code",
   "execution_count": 2,
   "metadata": {},
   "outputs": [],
   "source": [
    "# set the plot size using 'rcParams'\n",
    "# once the plot size is set using 'rcParams', it sets the size of all the forthcoming plots in the file\n",
    "# pass width and height in inches to 'figure.figsize' \n",
    "plt.rcParams['figure.figsize'] = [15,8]"
   ]
  },
  {
   "cell_type": "markdown",
   "metadata": {},
   "source": [
    "### Let's begin with some hands-on practice exercises"
   ]
  },
  {
   "cell_type": "markdown",
   "metadata": {
    "collapsed": true
   },
   "source": [
    "<table align=\"left\">\n",
    "    <tr>\n",
    "        <td width=\"6%\">\n",
    "            <img src=\"question_icon.png\">\n",
    "        </td>\n",
    "        <td>\n",
    "            <div align=\"left\", style=\"font-size:120%\">\n",
    "                <font color=\"#21618C\">\n",
    "                    <b>1. The quality assurance department claims that on average the non-fat yogurt contains less than 148 mg of potassium per 100 g pack. To check this claim 35 packs of yogurt are collected and the content of potassium is recorded. Can we use the Z-test to test the claim of the quality assurance department?\n",
    "</b>\n",
    "                </font>\n",
    "            </div>\n",
    "        </td>\n",
    "    </tr>\n",
    "</table>"
   ]
  },
  {
   "cell_type": "markdown",
   "metadata": {},
   "source": [
    "Use the data given below:\n",
    "        \n",
    "        pot_mg = [151, 159, 168, 146, 129, 147, 149, 141, 150, 158, 119, 125, 139, 154, 163, 156, 132, 137, 126, 152,\n",
    "                  127, 135, 138, 145, 128, 148, 153, 124, 170, 134, 157, 164, 144, 160, 161]\n"
   ]
  },
  {
   "cell_type": "markdown",
   "metadata": {},
   "source": [
    "The given random sample is the quantity of potassium in a 100g pack of non-fat yogurt which is continuous in nature. To apply the Z-test for the population mean we need to test whether the sample is taken from a normally distributed population. Use the `Shapiro-Wilk test` to check the normality of the data."
   ]
  },
  {
   "cell_type": "code",
   "execution_count": 3,
   "metadata": {},
   "outputs": [
    {
     "name": "stdout",
     "output_type": "stream",
     "text": [
      "P-Value: 0.4285268187522888\n"
     ]
    }
   ],
   "source": [
    "# given potassium content\n",
    "pot_mg = [151, 159, 168, 146, 129, 147, 149, 141, 150, 158, 119, 125, 139, 154, 163, 156, 132, 137, 126, 152,\n",
    "          127, 135, 138, 145, 128, 148, 153, 124, 170, 134, 157, 164, 144, 160, 161]\n",
    "\n",
    "# perform Shapiro-Wilk test to test the normality\n",
    "# shapiro() returns a tuple having the values of test statistics and the corresponding p-value\n",
    "# pass the sample data to perform the test\n",
    "stat, p_value = shapiro(pot_mg)\n",
    "\n",
    "# print the p-value \n",
    "print('P-Value:', p_value)"
   ]
  },
  {
   "cell_type": "markdown",
   "metadata": {},
   "source": [
    "From the above result, we can see that the p-value is greater than 0.05, thus we can say that the data is normally distributed."
   ]
  },
  {
   "cell_type": "markdown",
   "metadata": {
    "collapsed": true
   },
   "source": [
    "<table align=\"left\">\n",
    "    <tr>\n",
    "        <td width=\"6%\">\n",
    "            <img src=\"question_icon.png\">\n",
    "        </td>\n",
    "        <td>\n",
    "            <div align=\"left\", style=\"font-size:120%\">\n",
    "                <font color=\"#21618C\">\n",
    "                    <b>2. The quality assurance department claims that on average the non-fat yogurt contains less than 148 mg of potassium per 100 g pack. To check this claim 35 packs of yogurt are collected and the content of potassium is recorded. Use 0.05 as a level of significance to test the claim using p-value technique.   \n",
    "</b>\n",
    "                </font>\n",
    "            </div>\n",
    "        </td>\n",
    "    </tr>\n",
    "</table>"
   ]
  },
  {
   "cell_type": "markdown",
   "metadata": {},
   "source": [
    "Use the data given below:\n",
    "        \n",
    "          pot_mg = [151, 159, 168, 146, 129, 147, 149, 141, 150, 158, 119, 125, 139, 154, 163, 156, 132, 137, 126, 152,\n",
    "                    127, 135, 138, 145, 128, 148, 153, 124, 170, 134, 157, 164, 144, 160, 161]"
   ]
  },
  {
   "cell_type": "markdown",
   "metadata": {},
   "source": [
    "The null and alternative hypothesis is:\n",
    "\n",
    "H<sub>0</sub>: $\\mu \\geq 148 $<br>\n",
    "H<sub>1</sub>: $\\mu < 148 $"
   ]
  },
  {
   "cell_type": "code",
   "execution_count": 4,
   "metadata": {},
   "outputs": [
    {
     "name": "stdout",
     "output_type": "stream",
     "text": [
      "p-value:  0.13356148631189496\n"
     ]
    }
   ],
   "source": [
    "# given potassium content\n",
    "pot_mg = [151, 159, 168, 146, 129, 147, 149, 141, 150, 158, 119, 125, 139, 154, 163, 156, 132, 137, 126, 152,\n",
    "          127, 135, 138, 145, 128, 148, 153, 124, 170, 134, 157, 164, 144, 160, 161]\n",
    "\n",
    "# 'ztest()' returns the test statistic and corresponding p-value\n",
    "# pass the sample data to the parameter, 'x1'\n",
    "# pass the value in null hypothesis to the parameter, 'value'\n",
    "# pass the one-tailed condition to the parameter, 'alternative'\n",
    "z_score, pval = stests.ztest(x1 = pot_mg, value = 148, alternative = 'smaller')\n",
    "\n",
    "# print the p-value\n",
    "print(\"p-value: \", pval)"
   ]
  },
  {
   "cell_type": "markdown",
   "metadata": {},
   "source": [
    "Here the p-value is greater than 0.05, thus we fail to reject (i.e. accept) the null hypothesis. Thus, there is no enough evidence to conclude that on average the non-fat yogurt contains less than 148 mg of potassium per 100 g pack."
   ]
  },
  {
   "cell_type": "markdown",
   "metadata": {
    "collapsed": true
   },
   "source": [
    "<table align=\"left\">\n",
    "    <tr>\n",
    "        <td width=\"6%\">\n",
    "            <img src=\"question_icon.png\">\n",
    "        </td>\n",
    "        <td>\n",
    "            <div align=\"left\", style=\"font-size:120%\">\n",
    "                <font color=\"#21618C\">\n",
    "                    <b>3. The production manager at the Xen Sewing Factory claims that on average the diameter of a class 14M bobbin is less than 18 mm. The previous study shows that the standard deviation is 1.7 mm. Consider a sample of 40 class 14M bobbins from a normally distributed population with sample mean diameter as 17.5 mm. Plot the acceptance and rejection regions to test the claim of the production manager with 99% confidence. \n",
    "</b>\n",
    "                </font>\n",
    "            </div>\n",
    "        </td>\n",
    "    </tr>\n",
    "</table>"
   ]
  },
  {
   "cell_type": "markdown",
   "metadata": {},
   "source": [
    "The null and alternative hypothesis is:\n",
    "\n",
    "H<sub>0</sub>: $\\mu \\geq 18 $<br>\n",
    "H<sub>1</sub>: $\\mu < 18 $"
   ]
  },
  {
   "cell_type": "markdown",
   "metadata": {},
   "source": [
    "Let us plot the acceptance and rejection region for a left-tailed test with 99% confidence."
   ]
  },
  {
   "cell_type": "code",
   "execution_count": 5,
   "metadata": {},
   "outputs": [
    {
     "name": "stdout",
     "output_type": "stream",
     "text": [
      "Z-score: -1.8601633295108115\n"
     ]
    }
   ],
   "source": [
    "# define a function to calculate the Z-test statistic \n",
    "# pass the population mean, population standard deviation, sample size and sample mean as the function input\n",
    "def z_test(pop_mean, pop_std, n, samp_mean):\n",
    "   \n",
    "    # calculate the test statistic\n",
    "    z_score = (samp_mean - pop_mean) / (pop_std / np.sqrt(n))\n",
    "\n",
    "    # return the z-test value\n",
    "    return z_score\n",
    "\n",
    "# given data\n",
    "n = 40\n",
    "pop_mean = 18\n",
    "pop_std = 1.7\n",
    "samp_mean = 17.5\n",
    "\n",
    "# calculate the test statistic using the function 'z_test'\n",
    "z_score = z_test(pop_mean, pop_std, n, samp_mean)\n",
    "print(\"Z-score:\", z_score)"
   ]
  },
  {
   "cell_type": "code",
   "execution_count": 6,
   "metadata": {
    "scrolled": false
   },
   "outputs": [
    {
     "data": {
      "image/png": "[encoded data removed]",
      "text/plain": [
       "<Figure size 1080x576 with 1 Axes>"
      ]
     },
     "metadata": {
      "needs_background": "light"
     },
     "output_type": "display_data"
    }
   ],
   "source": [
    "# consider a random variable 'X' that follows a standard normal distribution \n",
    "# pass the required number of observations to the parameter, 'size'\n",
    "# set 'random_state' to obtain the same observations every time you run the code \n",
    "X = stats.norm.rvs(size = 2000000, random_state = 2)\n",
    "\n",
    "# plot the distribution of X\n",
    "# pass the data to the parameter, 'a'\n",
    "# 'hist=False' does not return the histogram \n",
    "# 'cumulative=False' in 'kde_kws' does not return the cumulative kernel density estimator\n",
    "ax = sns.distplot(a = X, hist = False, kde_kws = dict(cumulative=False))\n",
    "\n",
    "# set the limit for y-axis\n",
    "plt.ylim(0, 0.42)\n",
    "\n",
    "# use 'stats.norm.isf()' to calculate the critical z-value for alpha = 0.01\n",
    "# pass the value of 'alpha' to the parameter 'q'\n",
    "z = stats.norm.isf(q = 0.01)\n",
    "\n",
    "# as normal distribution is symmetric, for a left-tailed test draw a line at -(z-value)\n",
    "# plot a vertical line at -(z-value) \n",
    "x, y = [-z, -z], [0, 0.3]\n",
    "plt.plot(x, y, color = 'black')\n",
    "\n",
    "# plot a vertical line at z-score value\n",
    "x, y = [z_score, z_score], [0, 0.02]\n",
    "plt.plot(x, y, color = 'black')\n",
    "\n",
    "# add the color to the left of the -(z-value)\n",
    "# get the data for x and y axes for the distribution plot\n",
    "l1 = ax.lines[0]\n",
    "x1 = l1.get_xydata()[:,0]\n",
    "y1 = l1.get_xydata()[:,1]\n",
    "\n",
    "# fill the color for the region where x-values are less than -(z-value)\n",
    "# pass the condition to shade the required region\n",
    "# pass the required color to the parameter, 'color'\n",
    "ax.fill_between(x1[x1 <= -z], y1[x1 <= -z], color = 'lightblue')\n",
    "\n",
    "# use 'annonate' function to draw an arrow between points xy and xytext\n",
    "# 's' is a argument to write text\n",
    "# we can change the facecolor and arrowstyle; this is only for representation purpose\n",
    "plt.annotate(s = 'α = 0.01\\n(Rejection Region for H0)', xy = (-2.5, 0.005), xytext = (-4.5, 0.035), \n",
    "             arrowprops = dict(facecolor = 'black', arrowstyle = 'simple'))\n",
    "\n",
    "plt.annotate(s = 'z_crit = '+ str(round(-z,2)), xy = (-z, 0.1), xytext = (-z-1.2, 0.13), \n",
    "             arrowprops = dict(facecolor = 'black', arrowstyle = 'simple'))\n",
    "\n",
    "# use below code to print the values in the graph\n",
    "# 'x' and 'y' gives position of the text\n",
    "# 's' is the text \n",
    "plt.text(x = -1.15, y = 0.18, s = 'Acceptance Region for H0 (1 - α)')\n",
    "\n",
    "# assign the x-axis labels\n",
    "# pass the position of labels to the parameter, 'ticks'\n",
    "# pass the required labels to the parameter, 'labels'\n",
    "plt.xticks(ticks = [-6, -4, 0, 2, 4, 6, round(z_score,2)], \n",
    "           labels = [-6, -4, 0, 2, 4, 6, 'z_test = '+str(round(z_score,2))])\n",
    "\n",
    "# set plot and axes labels\n",
    "# set text size using 'fontsize'\n",
    "plt.xlabel('Z', fontsize = 15)\n",
    "plt.ylabel('Probability', fontsize = 15)\n",
    "plt.title('Left-Tailed Test', fontsize = 15)\n",
    "\n",
    "# display the plot\n",
    "plt.show()"
   ]
  },
  {
   "cell_type": "markdown",
   "metadata": {},
   "source": [
    "The above plot shows that the test statistic value is in the acceptance region, that implies we fail to reject (i.e. accept) $H_{0}$.  Thus, there is no enough evidence to conclude that on average the diameter of a class 14M bobbin is less than 18 mm."
   ]
  },
  {
   "cell_type": "markdown",
   "metadata": {
    "collapsed": true
   },
   "source": [
    "<table align=\"left\">\n",
    "    <tr>\n",
    "        <td width=\"6%\">\n",
    "            <img src=\"question_icon.png\">\n",
    "        </td>\n",
    "        <td>\n",
    "            <div align=\"left\", style=\"font-size:120%\">\n",
    "                <font color=\"#21618C\">\n",
    "                    <b>4. The production manager at the Xen Sewing Factory claims that on average the diameter of a class 14M bobbin is less than 18 mm. The previous study shows that the standard deviation is 1.7 mm. Consider a sample of 40 class 14M bobbins from a normally distributed population with sample mean diameter as 17.5 mm. Calculate the type II error using the power of the hypothesis test. The type I error is given as 0.01.\n",
    "</b>\n",
    "                </font>\n",
    "            </div>\n",
    "        </td>\n",
    "    </tr>\n",
    "</table>"
   ]
  },
  {
   "cell_type": "markdown",
   "metadata": {},
   "source": [
    "The null and alternative hypothesis is:\n",
    "\n",
    "H<sub>0</sub>: $\\mu \\geq 18 $<br>\n",
    "H<sub>1</sub>: $\\mu < 18 $"
   ]
  },
  {
   "cell_type": "code",
   "execution_count": 7,
   "metadata": {},
   "outputs": [
    {
     "name": "stdout",
     "output_type": "stream",
     "text": [
      "Type II error: 0.6794582943877454\n"
     ]
    }
   ],
   "source": [
    "# import the function to calculate the power of test\n",
    "from statsmodels.stats import power\n",
    "\n",
    "# number of observations \n",
    "num_obs = 40\n",
    "\n",
    "# calculate the sample mean\n",
    "samp_mean = 17.5\n",
    "\n",
    "# null hypothesis value\n",
    "hypo_mean = 18\n",
    "\n",
    "# population standard deviation\n",
    "pop_sd = 1.7\n",
    "\n",
    "# use 'zt_ind_solve_power()' to calculate the power of the z-test\n",
    "# keep the value of exact one parameter as 'None' to calculate the value of that parameter using remaining values \n",
    "# calculate the 'effect_size' using the sample_mean, null hypothesis value and population standard deviation\n",
    "# pass the sample size to the parameter, 'nobs1'\n",
    "# pass the value of alpha to the parameter, 'alpha'\n",
    "# pass 'None' to the parameter 'power' as we want to calculate its value\n",
    "# for one sample test, consider the 'ratio' as 0\n",
    "# pass the alternative for one-tailed test to the parameter, 'alternative'\n",
    "power = power.zt_ind_solve_power(effect_size = (samp_mean - hypo_mean)/pop_sd, \n",
    "                         nobs1 = num_obs, \n",
    "                         alpha = 0.01, \n",
    "                         power = None, \n",
    "                         ratio = 0, \n",
    "                         alternative = 'smaller')\n",
    "\n",
    "# calculate type II error\n",
    "print('Type II error:', 1 - power)"
   ]
  },
  {
   "cell_type": "markdown",
   "metadata": {
    "collapsed": true
   },
   "source": [
    "<table align=\"left\">\n",
    "    <tr>\n",
    "        <td width=\"6%\">\n",
    "            <img src=\"question_icon.png\">\n",
    "        </td>\n",
    "        <td>\n",
    "            <div align=\"left\", style=\"font-size:120%\">\n",
    "                <font color=\"#21618C\">\n",
    "                    <b>5. A research paper in the medical journal claims that the average height of females in Nebraska is less than 168 cm. A group of physicians conducted a survey and collected the heights of 95 females from Nebraska, and recorded the average height as 163 cm with a standard deviation of 7 cm. Assume that the sample is drawn from a normally distributed population. Test the claim in the research paper using the 95% confidence interval for the population mean.</b>\n",
    "                </font>\n",
    "            </div>\n",
    "        </td>\n",
    "    </tr>\n",
    "</table>"
   ]
  },
  {
   "cell_type": "markdown",
   "metadata": {},
   "source": [
    "As the sample size is large (> 30) we use the one sample Z-test for population mean."
   ]
  },
  {
   "cell_type": "markdown",
   "metadata": {},
   "source": [
    "The null and alternative hypothesis is:\n",
    "\n",
    "H<sub>0</sub>: $\\mu \\geq 168$<br>\n",
    "H<sub>1</sub>: $\\mu < 168$"
   ]
  },
  {
   "cell_type": "code",
   "execution_count": 8,
   "metadata": {
    "scrolled": true
   },
   "outputs": [
    {
     "name": "stdout",
     "output_type": "stream",
     "text": [
      "Confidence interval for population mean: (161.59238356669675, 164.40761643330325)\n"
     ]
    }
   ],
   "source": [
    "# sample size\n",
    "n = 95\n",
    "\n",
    "# sample mean\n",
    "samp_mean = 163\n",
    "\n",
    "# sample standard deviation\n",
    "samp_std = 7\n",
    "\n",
    "# calculate the 95% confidence interval for the population mean\n",
    "# pass the sample mean to the parameter, 'loc'\n",
    "# pass the scaling factor (sample_std / n^(1/2)) to the parameter, 'scale'\n",
    "# use 'stdev()' to calculate the sample standard deviation \n",
    "print('Confidence interval for population mean:', stats.norm.interval(0.95, loc = samp_mean, scale = samp_std / np.sqrt(n)))"
   ]
  },
  {
   "cell_type": "markdown",
   "metadata": {},
   "source": [
    "Here the confidence interval does not contain the value in the null hypothesis (i.e. 168), thus we reject the null hypothesis and thus, we have enough evidence to conclude that the average height of females in Nebraska is less than 168 cm."
   ]
  },
  {
   "cell_type": "markdown",
   "metadata": {
    "collapsed": true
   },
   "source": [
    "<table align=\"left\">\n",
    "    <tr>\n",
    "        <td width=\"6%\">\n",
    "            <img src=\"question_icon.png\">\n",
    "        </td>\n",
    "        <td>\n",
    "            <div align=\"left\", style=\"font-size:120%\">\n",
    "                <font color=\"#21618C\">\n",
    "                    <b>6. A financial firm AlpaMoney has recently started their online payment gateway and claims that the level of customer satisfaction about the transactions is the same as that of their competitor firm PayEarly. Consider the equality of an average level of satisfaction as the null hypothesis and test the claim using a critical value method with 90% confidence.</b>\n",
    "                </font>\n",
    "            </div>\n",
    "        </td>\n",
    "    </tr>\n",
    "</table>"
   ]
  },
  {
   "cell_type": "markdown",
   "metadata": {},
   "source": [
    "<img src='2_z.png'>"
   ]
  },
  {
   "cell_type": "markdown",
   "metadata": {},
   "source": [
    "Let $\\mu_{A}$ be the population average level of satisfaction for customers of company AlpaMony. and  $\\mu_{P}$ be the population average level of satisfaction for customers of company PayEarly.\n",
    "\n",
    "The null and alternative hypothesis is:\n",
    "\n",
    "H<sub>0</sub>: $\\mu_{A} - \\mu_{P} = 0$<br>\n",
    "H<sub>1</sub>: $\\mu_{A} - \\mu_{P} \\neq 0$\n",
    "\n",
    "Here ⍺ = 0.1, for a two-tailed test calculate the critical z-value."
   ]
  },
  {
   "cell_type": "code",
   "execution_count": 9,
   "metadata": {},
   "outputs": [
    {
     "name": "stdout",
     "output_type": "stream",
     "text": [
      "Critical value for two-tailed Z-test: 1.64\n"
     ]
    }
   ],
   "source": [
    "# calculate the z-value for 90% of confidence level\n",
    "# use 'stats.norm.isf()' to find the z-value corresponding to the upper tail probability 'q'\n",
    "# pass the value of 'alpha/2' for a two-tailed test to the parameter 'q', here alpha = 0.1\n",
    "# use 'round()' to round-off the value to 2 digits\n",
    "z_val = np.abs(round(stats.norm.isf(q = 0.1/2), 2))\n",
    "\n",
    "print('Critical value for two-tailed Z-test:', z_val)"
   ]
  },
  {
   "cell_type": "markdown",
   "metadata": {},
   "source": [
    "i.e. if z is less than -1.64 or z is greater than 1.64 then we reject the null hypothesis."
   ]
  },
  {
   "cell_type": "code",
   "execution_count": 10,
   "metadata": {},
   "outputs": [
    {
     "name": "stdout",
     "output_type": "stream",
     "text": [
      "z-score: 8.91135766652653\n"
     ]
    }
   ],
   "source": [
    "# define a function to calculate the test statistic and corresponding p-value\n",
    "# here the standard deviations for populations are unknown, thus use the sample standard deviations\n",
    "# pass the sample mean, sample standard deviation and sample size for both the samples as the function input\n",
    "# 'value' denotes the value in null hypothesis\n",
    "def TwoSampZTest(samp_mean_1, samp_mean_2, samp_std_1, samp_std_2, value, n1, n2):\n",
    "    \n",
    "    # calculate the test statistic\n",
    "    denominator = np.sqrt((samp_std_1**2 / n1) + (samp_std_2**2 / n2))\n",
    "    zscore = ((samp_mean_1 - samp_mean_2) - (value)) / denominator\n",
    "    \n",
    "    # return the z-score\n",
    "    return zscore\n",
    "\n",
    "# given data\n",
    "sm_1 = 4.23\n",
    "sm_2 = 3.56\n",
    "sstd_1 = 1.6\n",
    "sstd_2 = 0.72\n",
    "null_val = 0\n",
    "n_1 = 527\n",
    "n_2 = 652\n",
    "\n",
    "# pass the given data to the function 'TwoSampZTest'\n",
    "zscore = TwoSampZTest(samp_mean_1 = sm_1, samp_mean_2 = sm_2, samp_std_1 = sstd_1, samp_std_2 = sstd_2, value = null_val, \n",
    "                      n1 = n_1, n2 = n_2)\n",
    "\n",
    "print('z-score:', zscore)"
   ]
  },
  {
   "cell_type": "markdown",
   "metadata": {},
   "source": [
    "Here the z-score is greater than 1.64. Thus, we reject the null hypothesis and conclude that the customer level of satisfaction for both the companies is not the same."
   ]
  }
 ],
 "metadata": {
  "kernelspec": {
   "display_name": "Python 3 (ipykernel)",
   "language": "python",
   "name": "python3"
  },
  "language_info": {
   "codemirror_mode": {
    "name": "ipython",
    "version": 3
   },
   "file_extension": ".py",
   "mimetype": "text/x-python",
   "name": "python",
   "nbconvert_exporter": "python",
   "pygments_lexer": "ipython3",
   "version": "3.9.7"
  }
 },
 "nbformat": 4,
 "nbformat_minor": 2
}
