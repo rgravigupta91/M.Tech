{
 "cells": [
  {
   "cell_type": "markdown",
   "metadata": {
    "id": "GK0NW_2EjULQ"
   },
   "source": [
    "<table align=\"left\" width=100%>\n",
    "    <tr>\n",
    "        <td width=\"20%\">\n",
    "            <img src=\"faculty.png\">\n",
    "        </td>\n",
    "        <td>\n",
    "            <div align=\"center\">\n",
    "                <font color=\"#21618C\" size=8px>\n",
    "                  <b> Faculty Notebook <br> (Session 5) </b>\n",
    "                </font>\n",
    "            </div>\n",
    "        </td>\n",
    "    </tr>\n",
    "</table>"
   ]
  },
  {
   "cell_type": "markdown",
   "metadata": {
    "id": "zvAE5vE3jULR"
   },
   "source": [
    "## Table of Content\n",
    "\n",
    "1. **[Import Libraries](#lib)**\n",
    "2. **[Small Sample Test](#t)**\n",
    "    - 2.1 - **[One Sample t Test](#1t)**\n",
    "    - 2.2 - **[Two Sample t Test (Unpaired)](#2t)**\n",
    "    - 2.3 - **[Paired t Test](#paired)**\n",
    "3. **[Z Proportion Test](#prop)**\n",
    "    - 3.1 - **[One Sample Test](#1_p)**\n",
    "    - 3.2 - **[Two Sample Test](#2_p)**"
   ]
  },
  {
   "cell_type": "markdown",
   "metadata": {
    "id": "PfsUFjVbjULS"
   },
   "source": [
    "<a id=\"lib\"></a>\n",
    "# 1. Import Libraries"
   ]
  },
  {
   "cell_type": "markdown",
   "metadata": {
    "id": "soadpiTzjULT"
   },
   "source": [
    "**Let us import the required libraries.**"
   ]
  },
  {
   "cell_type": "code",
   "execution_count": 1,
   "metadata": {
    "id": "6FixCmEsjULU"
   },
   "outputs": [],
   "source": [
    "# import 'pandas' \n",
    "import pandas as pd \n",
    "\n",
    "# import 'numpy' \n",
    "import numpy as np\n",
    "\n",
    "# import subpackage of matplotlib\n",
    "import matplotlib.pyplot as plt\n",
    "\n",
    "# import 'seaborn'\n",
    "import seaborn as sns\n",
    "\n",
    "# to suppress warnings \n",
    "from warnings import filterwarnings\n",
    "filterwarnings('ignore')\n",
    "\n",
    "# import statsmodels\n",
    "import statsmodels.api as sm\n",
    "\n",
    "# import 'stats' package from scipy library\n",
    "from scipy import stats\n",
    "\n",
    "# import statistics to perform statistical computations\n",
    "import statistics\n",
    "\n",
    "# to test the normality \n",
    "from scipy.stats import shapiro\n",
    "\n",
    "# import a library to perform Z-test\n",
    "from statsmodels.stats import weightstats as stests"
   ]
  },
  {
   "cell_type": "code",
   "execution_count": 2,
   "metadata": {
    "id": "0xOunnbOjULY"
   },
   "outputs": [],
   "source": [
    "# set the plot size using 'rcParams'\n",
    "# once the plot size is set using 'rcParams', it sets the size of all the forthcoming plots in the file\n",
    "# pass width and height in inches to 'figure.figsize' \n",
    "plt.rcParams['figure.figsize'] = [15,8]"
   ]
  },
  {
   "cell_type": "markdown",
   "metadata": {
    "id": "1FHZAY-0jUMv"
   },
   "source": [
    "<a id=\"t\"></a>\n",
    "# 2. Small Sample Test"
   ]
  },
  {
   "cell_type": "markdown",
   "metadata": {
    "id": "gliE2djJjUMv"
   },
   "source": [
    "If the sample size is small (usually, n < 30) then we use the `t-test`. These tests are also known as `exact tests`."
   ]
  },
  {
   "cell_type": "markdown",
   "metadata": {
    "id": "NI4skzgvjUMw"
   },
   "source": [
    "<a id=\"1t\"></a>\n",
    "## 2.1 One Sample t Test"
   ]
  },
  {
   "cell_type": "markdown",
   "metadata": {
    "id": "-Sblu4a_jUMw"
   },
   "source": [
    "Let us perform a one sample t-test for the population mean. We compare the population mean with a specific value. \n",
    "\n",
    "The null and alternative hypothesis is given as:\n",
    "\n",
    "<p style='text-indent:25em'> <strong> $H_{0}: \\mu = \\mu_{0}$ or $\\mu \\geq \\mu_{0}$ or $\\mu \\leq \\mu_{0}$</strong></p>\n",
    "<p style='text-indent:25em'> <strong> $H_{1}: \\mu \\neq \\mu_{0}$ or $\\mu < \\mu_{0}$ or $\\mu > \\mu_{0}$</strong></p>"
   ]
  },
  {
   "cell_type": "markdown",
   "metadata": {
    "id": "q9CRXHIkjUMx"
   },
   "source": [
    "The test statistic is given as:\n",
    "<p style='text-indent:25em'> <strong> $t = \\frac{\\overline{X} -  \\mu_{0}}{\\frac{s}{\\sqrt(n)}}$</strong></p>\n",
    "\n",
    "Where, <br>\n",
    "$\\overline{X}$: Sample mean<br>\n",
    "$s$: Sample standard deviation<br>\n",
    "$n$: Sample size\n",
    " \n",
    "Under $H_{0}$ the test statistic follows a t-distribution with n-1 degrees of freedom."
   ]
  },
  {
   "cell_type": "markdown",
   "metadata": {
    "id": "5BunXsmKjUMx"
   },
   "source": [
    "### Example:\n",
    "\n",
    "\n",
    "#### 1. A survey claims that in a math test female students tend to score fewer marks than the average marks of 75 out of 100. Consider a sample of 24 female students and perform a hypothesis test to check the claim with 90% confidence.\n",
    "\n",
    "Use the dataset available in the CSV file `mathscore_1ttest.csv`."
   ]
  },
  {
   "cell_type": "code",
   "execution_count": 3,
   "metadata": {
    "id": "2BmgR1ZkjUMy",
    "outputId": "2aff6b88-a1d3-4ae4-f83e-37e8578f362a",
    "scrolled": false
   },
   "outputs": [
    {
     "data": {
      "text/html": [
       "<div>\n",
       "<style scoped>\n",
       "    .dataframe tbody tr th:only-of-type {\n",
       "        vertical-align: middle;\n",
       "    }\n",
       "\n",
       "    .dataframe tbody tr th {\n",
       "        vertical-align: top;\n",
       "    }\n",
       "\n",
       "    .dataframe thead th {\n",
       "        text-align: right;\n",
       "    }\n",
       "</style>\n",
       "<table border=\"1\" class=\"dataframe\">\n",
       "  <thead>\n",
       "    <tr style=\"text-align: right;\">\n",
       "      <th></th>\n",
       "      <th>gender</th>\n",
       "      <th>race/ethnicity</th>\n",
       "      <th>lunch</th>\n",
       "      <th>test preparation course</th>\n",
       "      <th>math score</th>\n",
       "      <th>reading score</th>\n",
       "      <th>writing score</th>\n",
       "      <th>total score</th>\n",
       "      <th>training institute</th>\n",
       "    </tr>\n",
       "  </thead>\n",
       "  <tbody>\n",
       "    <tr>\n",
       "      <th>0</th>\n",
       "      <td>female</td>\n",
       "      <td>group C</td>\n",
       "      <td>standard</td>\n",
       "      <td>none</td>\n",
       "      <td>60</td>\n",
       "      <td>72</td>\n",
       "      <td>74</td>\n",
       "      <td>206</td>\n",
       "      <td>Nature Learning</td>\n",
       "    </tr>\n",
       "    <tr>\n",
       "      <th>1</th>\n",
       "      <td>female</td>\n",
       "      <td>group C</td>\n",
       "      <td>standard</td>\n",
       "      <td>none</td>\n",
       "      <td>59</td>\n",
       "      <td>72</td>\n",
       "      <td>68</td>\n",
       "      <td>199</td>\n",
       "      <td>Nature Learning</td>\n",
       "    </tr>\n",
       "  </tbody>\n",
       "</table>\n",
       "</div>"
      ],
      "text/plain": [
       "   gender race/ethnicity     lunch test preparation course  math score  \\\n",
       "0  female        group C  standard                    none          60   \n",
       "1  female        group C  standard                    none          59   \n",
       "\n",
       "   reading score  writing score  total score training institute  \n",
       "0             72             74          206    Nature Learning  \n",
       "1             72             68          199    Nature Learning  "
      ]
     },
     "execution_count": 3,
     "metadata": {},
     "output_type": "execute_result"
    }
   ],
   "source": [
    "# read the students performance data \n",
    "df_female_scores = pd.read_csv('mathscore_1ttest.csv')\n",
    "\n",
    "# display the first two observations\n",
    "df_female_scores.head(2)"
   ]
  },
  {
   "cell_type": "code",
   "execution_count": 4,
   "metadata": {
    "id": "QZAdbvRRjUM0",
    "outputId": "e3ff8879-a49b-438c-b873-3b784d9edd18"
   },
   "outputs": [
    {
     "name": "stdout",
     "output_type": "stream",
     "text": [
      "Degrees of freedom: 23\n"
     ]
    }
   ],
   "source": [
    "# consider a list of math scores of female students from the data\n",
    "math_marks = list(df_female_scores['math score'])\n",
    "\n",
    "# calculate sample mean\n",
    "sample_avg = np.mean(math_marks)\n",
    "\n",
    "# calculate sample standard deviation\n",
    "sample_std = statistics.stdev(math_marks)\n",
    "\n",
    "# sample size\n",
    "n = len(math_marks)\n",
    "\n",
    "# degrees of freedom for 1 sample t-test\n",
    "print('Degrees of freedom:', n - 1)"
   ]
  },
  {
   "cell_type": "markdown",
   "metadata": {
    "id": "L-rqeNItjUM4"
   },
   "source": [
    "Let us check the normality of the data."
   ]
  },
  {
   "cell_type": "code",
   "execution_count": 5,
   "metadata": {
    "id": "Y0lsg7OfjUM4",
    "outputId": "02b075dd-b56b-474e-ab05-fd14800fd6b9"
   },
   "outputs": [
    {
     "name": "stdout",
     "output_type": "stream",
     "text": [
      "Test statistic: 0.9368310570716858\n",
      "P-Value: 0.13859796524047852\n"
     ]
    }
   ],
   "source": [
    "# perform Shapiro-Wilk test to test the normality\n",
    "# shapiro() returns a tuple having the values of test statistics and the corresponding p-value\n",
    "# pass the math scores of female students to perform the test\n",
    "stat, p_value = shapiro(math_marks)\n",
    "\n",
    "# print the test statistic and corresponding p-value \n",
    "print('Test statistic:', stat)\n",
    "print('P-Value:', p_value)"
   ]
  },
  {
   "cell_type": "markdown",
   "metadata": {
    "id": "pdk55xUkjUM7"
   },
   "source": [
    "From the above result, we can see that the p-value is greater than 0.05, thus we can say that the data is normally distributed."
   ]
  },
  {
   "cell_type": "markdown",
   "metadata": {
    "id": "aPZFW2_-jUM7"
   },
   "source": [
    "The null and alternative hypothesis is:\n",
    "\n",
    "H<sub>0</sub>: $\\mu \\geq 75$<br>\n",
    "H<sub>1</sub>: $\\mu < 75$"
   ]
  },
  {
   "cell_type": "markdown",
   "metadata": {
    "id": "ucJB4gPpjUM7"
   },
   "source": [
    "Here ⍺ = 0.1 and degrees of freedom = 23, for a one-tailed test let us calculate the critical t-value."
   ]
  },
  {
   "cell_type": "code",
   "execution_count": 6,
   "metadata": {
    "id": "W9CNp8eGjUM8",
    "outputId": "aa201012-de6c-4661-ec24-8e24397f1e4c",
    "scrolled": true
   },
   "outputs": [
    {
     "name": "stdout",
     "output_type": "stream",
     "text": [
      "Critical value for one-tailed t-test: 1.32\n"
     ]
    }
   ],
   "source": [
    "# calculate the t-value for 90% of confidence level\n",
    "# use 'stats.t.isf()' to find the t-value corresponding to the upper tail probability 'q'\n",
    "# pass the value of 'alpha' to the parameter 'q', here alpha = 0.1\n",
    "# pass the degrees of freedom to the parameter, 'df' \n",
    "# use 'round()' to round-off the value to 2 digits\n",
    "t_val = round(stats.t.isf(q = 0.1, df = 23), 2)\n",
    "\n",
    "print('Critical value for one-tailed t-test:', t_val)"
   ]
  },
  {
   "cell_type": "markdown",
   "metadata": {
    "id": "DaCVfdVCjUM-"
   },
   "source": [
    "i.e. if t is less than -1.32 then we reject the null hypothesis."
   ]
  },
  {
   "cell_type": "code",
   "execution_count": 7,
   "metadata": {
    "id": "vHi2-Cc6jUM-"
   },
   "outputs": [],
   "source": [
    "# use 'ttest_1samp()' to calculate the test statistic and corresponding p-value for 2-tailed test\n",
    "# pass the sample data to the parameter, 'a'\n",
    "# pass the average value in the null hypothesis to the parameter, 'popmean'\n",
    "t_stat, p_val = stats.ttest_1samp(a = math_marks, popmean = 75)"
   ]
  },
  {
   "cell_type": "markdown",
   "metadata": {
    "id": "02LLUPnnjUNB"
   },
   "source": [
    "In our example, the hypothesis test is one-tailed. Thus, we divide the two-tailed probability by 2 to obtain the one-tailed probability."
   ]
  },
  {
   "cell_type": "code",
   "execution_count": 8,
   "metadata": {
    "id": "pJp59RtbjUNC",
    "outputId": "e165fa72-58ac-494f-a6db-7cefdba2901e"
   },
   "outputs": [
    {
     "name": "stdout",
     "output_type": "stream",
     "text": [
      "Test Statistic: -3.6067380757023204\n",
      "p-value: 0.0007426613957678669\n"
     ]
    }
   ],
   "source": [
    "# divide the p-value by 2\n",
    "req_p_val = p_val/2\n",
    "\n",
    "# print the test statistic value and corresponding p-value\n",
    "print('Test Statistic:', t_stat)\n",
    "print('p-value:', req_p_val)"
   ]
  },
  {
   "cell_type": "code",
   "execution_count": 9,
   "metadata": {
    "id": "dUcTZ42RjUNE",
    "outputId": "dde5ccfe-8405-4349-95de-e395d9de5750",
    "scrolled": false
   },
   "outputs": [
    {
     "name": "stdout",
     "output_type": "stream",
     "text": [
      "90% confidence interval for population mean is (62.399452707061236, 70.51721395960543)\n"
     ]
    }
   ],
   "source": [
    "# calculate the 90% confidence interval for the population mean\n",
    "# pass the 'n-1' degrees of freedom to the parameter, 'df' \n",
    "# pass the sample mean to the parameter, 'loc'\n",
    "# pass the scaling factor (sample_std / n^(1/2)) to the parameter, 'scale'\n",
    "interval = stats.t.interval(0.90, df = n-1, loc = sample_avg, scale = sample_std/np.sqrt(n))\n",
    "\n",
    "print('90% confidence interval for population mean is', interval)"
   ]
  },
  {
   "cell_type": "markdown",
   "metadata": {
    "id": "r0yrRW2ZjUNJ"
   },
   "source": [
    "We can see that the test statistic value is less than -1.32, the p-value is less than 0.1, also the confidence interval does not contain the value in the null hypothesis (i.e. 75). Thus, we reject the null hypothesis and conclude that the proposed claim, i.e. in math test female students tend to get more marks than the average marks of 75 out of 100, is correct."
   ]
  },
  {
   "cell_type": "markdown",
   "metadata": {
    "id": "hgQwvt1gjUNK"
   },
   "source": [
    "Let us plot the acceptance and rejection region for a left-tailed test with 90% confidence."
   ]
  },
  {
   "cell_type": "code",
   "execution_count": 10,
   "metadata": {
    "id": "n1mai4npjUNK",
    "outputId": "a55f96c5-847a-42da-c5f2-0cf36467e298",
    "scrolled": false
   },
   "outputs": [
    {
     "data": {
      "image/png": "[encoded data removed]",
      "text/plain": [
       "<Figure size 1500x800 with 1 Axes>"
      ]
     },
     "metadata": {},
     "output_type": "display_data"
    }
   ],
   "source": [
    "# consider a random variable 'X' that follows a t-distribution with 23 degrees of freedom\n",
    "# pass the degrees of freedom to the parameter, 'df'\n",
    "# pass the required number of observations to the parameter, 'size'\n",
    "# set 'random_state' to obtain the same observations every time you run the code \n",
    "X = stats.t.rvs(df = 23, size = 2000000, random_state = 20)\n",
    "\n",
    "# plot the distribution of X\n",
    "# pass the data to the parameter, 'a'\n",
    "# 'hist=False' does not return the histogram \n",
    "# 'cumulative=False' in 'kde_kws' does not return the cumulative kernel density estimator\n",
    "ax = sns.distplot(a = X, hist = False, kde_kws = dict(cumulative=False))\n",
    "\n",
    "# set the limit for y-axis\n",
    "plt.ylim(0, 0.4)\n",
    "\n",
    "# use 'stats.t.isf()' to find the t-value for alpha = 0.1\n",
    "# pass the value of 'alpha' to the parameter 'q'\n",
    "# pass the degrees of freedom to the parameter, 'df' \n",
    "t = stats.t.isf(q = 0.1, df = 23)\n",
    "\n",
    "# as t distribution is symmetric, for a left-tailed test draw a line at -(t-value)\n",
    "# plot a vertical line at -(t-value) \n",
    "x, y = [-t, -t], [0, 0.3]\n",
    "plt.plot(x, y, color = 'black')\n",
    "\n",
    "# plot a vertical line at test statistic value\n",
    "x, y = [t_stat, t_stat], [0, 0.05]\n",
    "plt.plot(x, y, color = 'black')\n",
    "\n",
    "# add the color to the left of the t-value\n",
    "# get the data for x and y axes for the distribution plot\n",
    "l1 = ax.lines[0]\n",
    "x1 = l1.get_xydata()[:,0]\n",
    "y1 = l1.get_xydata()[:,1]\n",
    "\n",
    "# fill the color for the region where x-values are less than -(t-value)\n",
    "# pass the condition to shade the required region\n",
    "# pass the required color to the parameter, 'color'\n",
    "ax.fill_between(x1[x1 <= -1.32], y1[x1 <= -1.32], color = 'lightblue')\n",
    "\n",
    "# use 'annonate' function to draw an arrow between points xy and xytext\n",
    "# 's' is a argument to write text\n",
    "# we can change the facecolor and arrowstyle; this is only for representation purpose\n",
    "plt.annotate(text = 'Mean (μ)', xy = (0, 0), xytext = (-0.45, 0.04), arrowprops = dict(facecolor = 'black', arrowstyle = 'simple'))\n",
    "\n",
    "plt.annotate(text = 'α = 0.1\\n(Rejection Region for H0)', xy = (-2, 0.025), xytext = (-4.5, 0.075), \n",
    "             arrowprops = dict(facecolor = 'black', arrowstyle = 'simple'))\n",
    "\n",
    "plt.annotate(text = 't_crit = '+ str(round(-t,2)), xy = (-t, 0.2), xytext = (-t-1.5, 0.24), \n",
    "             arrowprops = dict(facecolor = 'black', arrowstyle = 'simple'))\n",
    "\n",
    "# use below code to print the values in the graph\n",
    "# 'x' and 'y' gives position of the text\n",
    "# 's' is the text \n",
    "plt.text(x = -1, y = 0.15, s = 'Acceptance Region \\n for H0 (1 - α)')\n",
    "\n",
    "# assign the x-axis labels\n",
    "# pass the position of labels to the parameter, 'ticks'\n",
    "# pass the required labels to the parameter, 'labels'\n",
    "plt.xticks(ticks = [-6, -2, 0, 2, 4, 6, round(t_stat,2)], \n",
    "           labels = [-6, -2, 0, 2, 4, 6, 't_test = '+str(round(t_stat,2))])\n",
    "\n",
    "# set plot and axes labels\n",
    "# set text size using 'fontsize'\n",
    "plt.xlabel('t', fontsize = 15)\n",
    "plt.ylabel('Probability', fontsize = 15)\n",
    "plt.title('Left-Tailed Test', fontsize = 15)\n",
    "\n",
    "# display the plot\n",
    "plt.show()"
   ]
  },
  {
   "cell_type": "markdown",
   "metadata": {
    "id": "NKGNBeaIjUNN"
   },
   "source": [
    "The above plot shows that the test statistic value is in the rejection region, that implies we reject $H_{0}$."
   ]
  },
  {
   "cell_type": "markdown",
   "metadata": {
    "id": "JtUrRwbwjUNN"
   },
   "source": [
    "#### 2. A researcher is studying the growth of bacteria in waters of Lake Beach. The mean bacteria count of 100 per unit volume of water is within the safety level. The researcher collected 10 water samples of unit volume and found the mean bacteria count to be 94.8 with a sample variance of 72.66. Does the data indicate that the bacteria count is within the safety level? Test at the α = .05 level. Assume that the measurements constitute a sample from a normal population."
   ]
  },
  {
   "cell_type": "markdown",
   "metadata": {
    "id": "YKBIQ8ynjUNN"
   },
   "source": [
    "The null and alternative hypothesis is:\n",
    "\n",
    "H<sub>0</sub>: $\\mu \\geq 100$<br>\n",
    "H<sub>1</sub>: $\\mu < 100$"
   ]
  },
  {
   "cell_type": "markdown",
   "metadata": {
    "id": "jQ0rcjpsjUNO"
   },
   "source": [
    "Here ⍺ = 0.05 and degrees of freedom = 9, for a one-tailed test let us calculate the critical t-value."
   ]
  },
  {
   "cell_type": "code",
   "execution_count": 11,
   "metadata": {
    "id": "FFGnHy1DjUNO",
    "outputId": "75328a14-5497-42ca-d62f-dd4aa40746be",
    "scrolled": false
   },
   "outputs": [
    {
     "name": "stdout",
     "output_type": "stream",
     "text": [
      "Critical value for one-tailed t-test: 1.83\n"
     ]
    }
   ],
   "source": [
    "# calculate the t-value for 95% of confidence level\n",
    "# use 'stats.t.isf()' to find the t-value corresponding to the upper tail probability 'q'\n",
    "# pass the value of 'alpha' to the parameter 'q', here alpha = 0.05\n",
    "# pass the degrees of freedom to the parameter, 'df' \n",
    "# use 'round()' to round-off the value to 2 digits\n",
    "t_val = round(stats.t.isf(q = 0.05, df = 9), 2)\n",
    "\n",
    "print('Critical value for one-tailed t-test:', t_val)"
   ]
  },
  {
   "cell_type": "markdown",
   "metadata": {
    "id": "bS5fpclIjUNQ"
   },
   "source": [
    "As t-distribution is symmetric, for a left-tailed test if t is less than -1.83 then we reject the null hypothesis."
   ]
  },
  {
   "cell_type": "code",
   "execution_count": 12,
   "metadata": {
    "id": "-Go5RBqpjUNQ",
    "outputId": "5d3f6276-9f72-4f44-8c1d-7d74ff0461a7"
   },
   "outputs": [
    {
     "name": "stdout",
     "output_type": "stream",
     "text": [
      "t-score: -1.9291040236750068\n"
     ]
    }
   ],
   "source": [
    "# define a function to calculate the t-test statistic \n",
    "# pass the population mean, sample standard deviation, sample size and sample mean as the function input\n",
    "def t_test(pop_mean, samp_std, n, samp_mean):\n",
    "   \n",
    "    # calculate the test statistic\n",
    "    t_score = (samp_mean - pop_mean) / (samp_std / np.sqrt(n))\n",
    "\n",
    "    # return the t-test value\n",
    "    return t_score\n",
    "\n",
    "# given data\n",
    "n = 10\n",
    "pop_mean = 100\n",
    "samp_var = 72.66 \n",
    "samp_mean = 94.8\n",
    "\n",
    "# calculate sample standard deviation\n",
    "samp_std = np.sqrt(samp_var)\n",
    "\n",
    "# calculate the test statistic using the function 't_test'\n",
    "t_score = t_test(pop_mean, samp_std, n, samp_mean)\n",
    "print(\"t-score:\", t_score)"
   ]
  },
  {
   "cell_type": "code",
   "execution_count": 13,
   "metadata": {
    "id": "2rDQy6GejUNS",
    "outputId": "f2c94305-73c5-405e-e977-ff8377530448"
   },
   "outputs": [
    {
     "name": "stdout",
     "output_type": "stream",
     "text": [
      "p-value: 0.04289782134327503\n"
     ]
    }
   ],
   "source": [
    "# calculate the corresponding p-value for the test statistic\n",
    "# use 'cdf()' to calculate P(t <= t_score)\n",
    "# pass the degrees of freedom to the parameter, 'df'\n",
    "p_value = stats.t.cdf(t_score, df = 9)\n",
    "\n",
    "print('p-value:', p_value)"
   ]
  },
  {
   "cell_type": "markdown",
   "metadata": {
    "id": "W0uXiVE6jUNU"
   },
   "source": [
    "We can see that the test statistic value is less than -1.83, the p-value is less than 0.05. Thus, we reject the null hypothesis and can conclude that the average bacteria per unit volume (true mean) is within the safety levels."
   ]
  },
  {
   "cell_type": "markdown",
   "metadata": {
    "id": "xB0iAEpyjUNV"
   },
   "source": [
    "<a id=\"2t\"></a>\n",
    "## 2.2 Two Sample t Test (Unpaired)"
   ]
  },
  {
   "cell_type": "markdown",
   "metadata": {
    "id": "T0GSiOeFjUNV"
   },
   "source": [
    "The two sample t-test is used to compare the means of two independent populations. This test assumes that the populations are normally distributed from which the samples are taken.\n",
    "\n",
    "The null and alternative hypothesis is given as:\n",
    "<p style='text-indent:25em'> <strong> $H_{0}: \\mu_{1} - \\mu_{2} = \\mu_{0}$ or $\\mu_{1} - \\mu_{2} \\geq \\mu_{0}$ or $\\mu_{1} -\\mu_{2} \\leq \\mu_{0}$</strong></p>\n",
    "<p style='text-indent:25em'> <strong> $H_{1}: \\mu_{1} - \\mu_{2} \\neq \\mu_{0} $ or $\\mu_{1} - \\mu_{2} < \\mu_{0}$ or $\\mu_{1} -\\mu_{2} > \\mu_{0}$</strong></p>"
   ]
  },
  {
   "cell_type": "markdown",
   "metadata": {
    "id": "Ydl-oa6djUNV"
   },
   "source": [
    "Let us take a sample of size ($n_{1}$) from the first population and sample of size ($n_{2}$) from a second independent population. If both $n_{1}$ and $n_{2}$ are less than 30 and standard deviation of populations are unknown. We use two-sample t-test.\n",
    "\n",
    "Consider the equal variance for both the populations. The test statistic for two sample t-test is given as:\n",
    "<p style='text-indent:25em'> <strong> $t = \\frac{(\\overline{X_{1}} - \\overline{X_{2}}) - \\mu_{0}} {s \\sqrt{\\frac{1}{n_{1}} + \\frac{1}{n_{2}}}}$</strong></p>\n",
    "\n",
    "Where, <br>\n",
    "$\\overline{X_{1}}$, $\\overline{X_{2}}$: Mean of both the samples<br>\n",
    "$\\mu_{0}$: Mean difference given in the null hypothesis<br>\n",
    "$s$: Pooled standard deviation<br>\n",
    "$n_{1}, n_{2}$: Size of samples from both the populations\n",
    "\n",
    "The pooled standard deviation is defined as:\n",
    "$s = \\sqrt{\\frac{(n_{1} - 1)s_{1}^{2} + (n_{2} - 1)s_{2}^{2}}{n_{1} + n_{2} - 2}}$ $\\hspace{2cm}$  Where, $s_{1}, s_{2}$: Standard deviation of both the samples\n",
    "\n",
    "Under $H_{0}$, the test statistic follows a t-distribution with $(n_{1}+n_{2}-2)$ degrees of freedom."
   ]
  },
  {
   "cell_type": "markdown",
   "metadata": {
    "id": "ugMmycEPjUNW"
   },
   "source": [
    "If the population variances are equal and also the sample size is the same for both the samples then the test statistic is given as:\n",
    "<p style='text-indent:25em'> <strong> $t = \\frac{(\\overline{X_{1}} - \\overline{X_{2}}) - \\mu_{0}} {s \\sqrt{\\frac{2}{n}}}$</strong></p>\n",
    "\n",
    "Where the pooled standard deviation $s = \\sqrt{\\frac{s_{1}^{2} + s_{2}^{2}}{2}}$\n",
    "\n",
    "Under $H_{0}$, the test statistic follows a t-distribution with $(2n-2)$ degrees of freedom."
   ]
  },
  {
   "cell_type": "markdown",
   "metadata": {
    "id": "6FlpZGqkjUNX"
   },
   "source": [
    "If both the population variances and the sample sizes are not equal then the Welch's test is used."
   ]
  },
  {
   "cell_type": "markdown",
   "metadata": {
    "id": "pdA-6L1tjUNX"
   },
   "source": [
    "### Example: \n",
    "\n",
    "#### 1. The teachers' association claims that the total score of the students who completed the test preparation course is different than the total score of the students who have not completed the course. The sample data consists of 15 students who completed the course and 18 students who have not completed the course. Test the association's claim with ⍺ = 0.05."
   ]
  },
  {
   "cell_type": "markdown",
   "metadata": {
    "id": "rDve_0ZzjUNY"
   },
   "source": [
    "Consider the total score of the students who have/ have not completed the preparation course are given in the CSV file `totalmarks_2ttest.csv`."
   ]
  },
  {
   "cell_type": "code",
   "execution_count": 14,
   "metadata": {
    "id": "tXitheyTjUNY",
    "outputId": "99b4f609-fbc3-4de5-82ab-2f7288f3f510",
    "scrolled": false
   },
   "outputs": [
    {
     "data": {
      "text/html": [
       "<div>\n",
       "<style scoped>\n",
       "    .dataframe tbody tr th:only-of-type {\n",
       "        vertical-align: middle;\n",
       "    }\n",
       "\n",
       "    .dataframe tbody tr th {\n",
       "        vertical-align: top;\n",
       "    }\n",
       "\n",
       "    .dataframe thead th {\n",
       "        text-align: right;\n",
       "    }\n",
       "</style>\n",
       "<table border=\"1\" class=\"dataframe\">\n",
       "  <thead>\n",
       "    <tr style=\"text-align: right;\">\n",
       "      <th></th>\n",
       "      <th>gender</th>\n",
       "      <th>race/ethnicity</th>\n",
       "      <th>lunch</th>\n",
       "      <th>test preparation course</th>\n",
       "      <th>math score</th>\n",
       "      <th>reading score</th>\n",
       "      <th>writing score</th>\n",
       "      <th>total score</th>\n",
       "      <th>training institute</th>\n",
       "    </tr>\n",
       "  </thead>\n",
       "  <tbody>\n",
       "    <tr>\n",
       "      <th>0</th>\n",
       "      <td>male</td>\n",
       "      <td>group E</td>\n",
       "      <td>standard</td>\n",
       "      <td>completed</td>\n",
       "      <td>84</td>\n",
       "      <td>83</td>\n",
       "      <td>78</td>\n",
       "      <td>245</td>\n",
       "      <td>Speak Global Learning</td>\n",
       "    </tr>\n",
       "    <tr>\n",
       "      <th>1</th>\n",
       "      <td>male</td>\n",
       "      <td>group C</td>\n",
       "      <td>free/reduced</td>\n",
       "      <td>completed</td>\n",
       "      <td>79</td>\n",
       "      <td>77</td>\n",
       "      <td>75</td>\n",
       "      <td>231</td>\n",
       "      <td>Speak Global Learning</td>\n",
       "    </tr>\n",
       "  </tbody>\n",
       "</table>\n",
       "</div>"
      ],
      "text/plain": [
       "  gender race/ethnicity         lunch test preparation course  math score  \\\n",
       "0   male        group E      standard               completed          84   \n",
       "1   male        group C  free/reduced               completed          79   \n",
       "\n",
       "   reading score  writing score  total score     training institute  \n",
       "0             83             78          245  Speak Global Learning  \n",
       "1             77             75          231  Speak Global Learning  "
      ]
     },
     "execution_count": 14,
     "metadata": {},
     "output_type": "execute_result"
    }
   ],
   "source": [
    "# read the students performance data \n",
    "df_prep_test = pd.read_csv('totalmarks_2ttest.csv')\n",
    "\n",
    "# display the first two observations\n",
    "df_prep_test.head(2)"
   ]
  },
  {
   "cell_type": "code",
   "execution_count": 15,
   "metadata": {
    "id": "9E4fXDWSjUNa",
    "outputId": "c1d0dc69-cf2a-481b-b80c-a7c3a2954638"
   },
   "outputs": [
    {
     "name": "stdout",
     "output_type": "stream",
     "text": [
      "Degrees of freedom: 31\n"
     ]
    }
   ],
   "source": [
    "# consider the total marks of the students who completed the test prep course\n",
    "course_complete =  df_prep_test[(df_prep_test['test preparation course'] == 'completed')]['total score']\n",
    "\n",
    "# size of first sample\n",
    "n_1 = len(course_complete)\n",
    "\n",
    "# calculate average total marks of the students who completed the test prep course\n",
    "samp_avg_1 = np.mean(course_complete)\n",
    "\n",
    "# calculate sample standard deviation \n",
    "samp_std_1 = statistics.stdev(course_complete)\n",
    "\n",
    "# consider the total marks of the students who have not completed the test prep course\n",
    "course_incomplete = df_prep_test[(df_prep_test['test preparation course'] == 'none')]['total score']\n",
    "\n",
    "# size of second sample\n",
    "n_2 = len(course_incomplete)\n",
    "\n",
    "# calculate average total marks of the students who have not completed the test prep course\n",
    "samp_avg_2 = np.mean(course_incomplete)\n",
    "\n",
    "# calculate sample standard deviation \n",
    "samp_std_2 = statistics.stdev(course_incomplete)\n",
    "\n",
    "# degrees of freedom for 2 sample t-test\n",
    "print('Degrees of freedom:', n_1 + n_2 - 2)"
   ]
  },
  {
   "cell_type": "markdown",
   "metadata": {
    "id": "BAk7zdnmjUNc"
   },
   "source": [
    "Let us check the normality of the total marks of students who have/ have not completed the test preparation course."
   ]
  },
  {
   "cell_type": "code",
   "execution_count": 16,
   "metadata": {
    "id": "N0k0f_mKjUNc",
    "outputId": "6f2847d3-7809-48c6-fabd-f9e77b3d1119"
   },
   "outputs": [
    {
     "name": "stdout",
     "output_type": "stream",
     "text": [
      "Test statistic: 0.9845389723777771\n",
      "P-Value: 0.9080861806869507\n"
     ]
    }
   ],
   "source": [
    "# perform Shapiro-Wilk test to test the normality\n",
    "# shapiro() returns a tuple having the values of test statistics and the corresponding p-value\n",
    "# pass the total marks of students who have/ have not completed the test preparation course\n",
    "stat, p_value = shapiro(df_prep_test['total score'])\n",
    "\n",
    "# print the test statistic and corresponding p-value \n",
    "print('Test statistic:', stat)\n",
    "print('P-Value:', p_value)"
   ]
  },
  {
   "cell_type": "markdown",
   "metadata": {
    "id": "ww3zlVTJjUNg"
   },
   "source": [
    "From the above result, we can see that the p-value is greater than 0.05, thus we can say that the total marks of students who have/ have not completed the test preparation course are normally distributed."
   ]
  },
  {
   "cell_type": "markdown",
   "metadata": {
    "id": "NlEpLnCrjUNh"
   },
   "source": [
    "Let us check the equality of variances."
   ]
  },
  {
   "cell_type": "code",
   "execution_count": 17,
   "metadata": {
    "id": "eXbuEJGbjUNh",
    "outputId": "96bb2529-d5be-45ef-acb2-db9c03972073"
   },
   "outputs": [
    {
     "name": "stdout",
     "output_type": "stream",
     "text": [
      "Test statistic: 0.045113770764648356\n",
      "P-Value: 0.8331854285659768\n"
     ]
    }
   ],
   "source": [
    "# perform Levene's test\n",
    "# levene() returns a tuple having the values of test statistics and the corresponding p-value\n",
    "# pass the total scores of students who have/ have not completed the test prep course to perform the test\n",
    "stat, p_value = stats.levene(course_complete, course_incomplete)\n",
    "\n",
    "# print the test statistic and corresponding p-value \n",
    "print('Test statistic:', stat)\n",
    "print('P-Value:', p_value)"
   ]
  },
  {
   "cell_type": "markdown",
   "metadata": {
    "id": "ePPQot-ejUNk"
   },
   "source": [
    "From the above result, we can see that the p-value is greater than 0.05, thus we can say that the population variances are equal."
   ]
  },
  {
   "cell_type": "markdown",
   "metadata": {
    "id": "qzlr-zfRjUNm"
   },
   "source": [
    "The null and alternative hypothesis is:\n",
    "\n",
    "H<sub>0</sub>: $\\mu_{1} - \\mu_{2} = 0$<br>\n",
    "H<sub>1</sub>: $\\mu_{1} - \\mu_{2} \\neq 0$\n",
    "\n",
    "Here ⍺ = 0.05 and degrees of freedom = 31, for a two-tailed test let us calculate the critical t-value."
   ]
  },
  {
   "cell_type": "code",
   "execution_count": 18,
   "metadata": {
    "id": "YwtveqfTjUNo",
    "outputId": "06e820b1-7ac7-4954-b993-3a74abd2cecf",
    "scrolled": true
   },
   "outputs": [
    {
     "name": "stdout",
     "output_type": "stream",
     "text": [
      "Critical value for two-tailed t-test: 2.04\n"
     ]
    }
   ],
   "source": [
    "# calculate the t-value for 95% of confidence level\n",
    "# use 'stats.t.isf()' to find the t-value corresponding to the upper tail probability 'q'\n",
    "# pass the value of 'alpha/2' to the parameter 'q', here alpha = 0.05\n",
    "# pass the degrees of freedom to the parameter, 'df' \n",
    "# use 'round()' to round-off the value to 2 digits\n",
    "t_val = np.abs(round(stats.t.isf(q = 0.05/2, df = 31), 2))\n",
    "\n",
    "print('Critical value for two-tailed t-test:', t_val)"
   ]
  },
  {
   "cell_type": "markdown",
   "metadata": {
    "id": "WmdVuqlhjUNq"
   },
   "source": [
    "i.e. if t is less than -2.04 or greater than 2.04 then we reject the null hypothesis."
   ]
  },
  {
   "cell_type": "code",
   "execution_count": 19,
   "metadata": {
    "id": "WdkD_tzkjUNr",
    "outputId": "d5324c01-4431-4f31-b728-d3e2014c8853",
    "scrolled": true
   },
   "outputs": [
    {
     "name": "stdout",
     "output_type": "stream",
     "text": [
      "Test Statistic: 1.4385323319823262\n",
      "p-value: 0.16030339806989594\n"
     ]
    }
   ],
   "source": [
    "# use 'ttest_ind()' to calculate the test statistic and corresponding p-value for 2 sample test\n",
    "# pass the sample data to the parameter, 'a' and 'b'\n",
    "t_stat, p_val = stats.ttest_ind(a = course_complete, b = course_incomplete)\n",
    "\n",
    "# print the test statistic value and corresponding p-value\n",
    "print('Test Statistic:', t_stat)\n",
    "print('p-value:', p_val)"
   ]
  },
  {
   "cell_type": "code",
   "execution_count": 20,
   "metadata": {
    "id": "d2dTQLuwjUNs",
    "outputId": "94aeb9b1-224b-45d3-b372-808e408debda",
    "scrolled": false
   },
   "outputs": [
    {
     "name": "stdout",
     "output_type": "stream",
     "text": [
      "95% confidence interval for population mean is (-7.25533827425955, 41.9886716075929)\n"
     ]
    }
   ],
   "source": [
    "# calculate pooled standard deviation\n",
    "s = np.sqrt((((n_1-1)*samp_std_1**2) + ((n_2-1)*samp_std_2**2)) / (n_1 + n_2 - 2))\n",
    "\n",
    "# calculate the 95% confidence interval for the population mean\n",
    "# pass the degrees of freedom to the parameter, 'df' \n",
    "# pass the difference in the sample means to the parameter, 'loc'\n",
    "# pass the scaling factor s*(1/n1 + 1/n2)^(1/2) to the parameter, 'scale'\n",
    "interval = stats.t.interval(0.95, df = n_1 + n_2 - 2, loc = samp_avg_1 - samp_avg_2, scale = s * np.sqrt(1/n_1 + 1/n_2))\n",
    "\n",
    "print('95% confidence interval for population mean is', interval)"
   ]
  },
  {
   "cell_type": "markdown",
   "metadata": {
    "id": "YYdhgp4AjUNv"
   },
   "source": [
    "We can see that the test statistic value is less than 2.04 and greater than -2.04, the p-value is greater than 0.05, also the confidence interval contains the value in the null hypothesis (i.e. 0). Thus, we fail to reject (i.e. accept) the null hypothesis and conclude that there is no difference in the total marks of the students who have completed the preparation course and who have not completed the preparation course."
   ]
  },
  {
   "cell_type": "markdown",
   "metadata": {
    "id": "vZJsYCtyjUNv"
   },
   "source": [
    "Let us plot the acceptance and rejection region for a two-tailed test with 95% confidence."
   ]
  },
  {
   "cell_type": "code",
   "execution_count": 21,
   "metadata": {
    "id": "IvIfDZyEjUNv",
    "outputId": "5e0d063b-d446-462c-ab55-954b39ac39ff",
    "scrolled": false
   },
   "outputs": [
    {
     "data": {
      "image/png": "[encoded data removed]",
      "text/plain": [
       "<Figure size 1500x800 with 1 Axes>"
      ]
     },
     "metadata": {},
     "output_type": "display_data"
    }
   ],
   "source": [
    "# consider a random variable 'X' that follows a t-distribution with 31 degrees of freedom\n",
    "# pass the degrees of freedom to the parameter, 'df'\n",
    "# pass the required number of observations to the parameter, 'size'\n",
    "# set 'random_state' to obtain the same observations every time you run the code \n",
    "X = stats.t.rvs(df = 31, size = 2000000, random_state = 10)\n",
    "\n",
    "# plot the distribution of X\n",
    "# pass the data to the parameter, 'a'\n",
    "# 'hist=False' does not return the histogram \n",
    "# 'cumulative=False' in 'kde_kws' does not return the cumulative kernel density estimator\n",
    "ax = sns.distplot(a = X, hist = False, kde_kws = dict(cumulative=False))\n",
    "\n",
    "# set the limit for y-axis\n",
    "plt.ylim(0, 0.4)\n",
    "\n",
    "# use 'stats.t.isf()' to find the t-value for alpha = 0.05\n",
    "# pass the value of 'alpha/2' to the parameter 'q' for a two tailed test\n",
    "# pass the degrees of freedom to the parameter, 'df' \n",
    "t = stats.t.isf(q = 0.05/2, df = 31)\n",
    "\n",
    "# plot a vertical line at t-value\n",
    "x, y = [t, t], [0, 0.3]\n",
    "plt.plot(x, y, color = 'black')\n",
    "\n",
    "# plot a vertical line at -(t-value)\n",
    "x, y = [-t, -t], [0, 0.3]\n",
    "plt.plot(x, y, color = 'black')\n",
    "\n",
    "# plot a vertical line at test statistic value\n",
    "x, y = [t_stat, t_stat], [0, 0.14]\n",
    "plt.plot(x, y, color = 'black')\n",
    "\n",
    "# add the color to the right of the t-value and left of the -(t-value)\n",
    "# get the data for x and y axes\n",
    "l1 = ax.lines[0]\n",
    "x1 = l1.get_xydata()[:,0]\n",
    "y1 = l1.get_xydata()[:,1]\n",
    "\n",
    "# fill the color for the region where x-values are greater than the critical t-value\n",
    "# pass the condition to shade the required region\n",
    "# pass the required color to the parameter, 'color'\n",
    "ax.fill_between(x1[x1 >= t], y1[x1 >= t], color = 'lightblue')\n",
    "\n",
    "# fill the color for the region where x-values are less than -(t-value)\n",
    "# pass the condition to shade the required region\n",
    "# pass the required color to the parameter, 'color'\n",
    "ax.fill_between(x1[x1 <= -t], y1[x1 <= -t], color = 'lightblue')\n",
    "\n",
    "# use 'annonate' function to draw an arrow between points xy and xytext\n",
    "# 's' is a argument to write text\n",
    "# we can change the facecolor and arrowstyle; this is only for representation purpose\n",
    "plt.annotate(text = 'Mean (μ)', xy = (0, 0), xytext = (-0.35, 0.04), arrowprops = dict(facecolor = 'black', arrowstyle = 'simple'))\n",
    "\n",
    "plt.annotate(text = 'α/2 = 0.025\\n(Rejection Region for H0)', xy = (2.5, 0.004), xytext = (2.8, 0.055), \n",
    "             arrowprops = dict(facecolor = 'black', arrowstyle = 'simple'))\n",
    "\n",
    "plt.annotate(text = 'α/2 = 0.025\\n(Rejection Region for H0)', xy = (-2.5, 0.004), xytext = (-4.5, 0.055), \n",
    "             arrowprops = dict(facecolor = 'black', arrowstyle = 'simple'))\n",
    "\n",
    "plt.annotate(text = 't_crit = '+ str(round(t,2)), xy = (t, 0.2), xytext = (t+0.3, 0.23), \n",
    "             arrowprops = dict(facecolor = 'black', arrowstyle = 'simple'))\n",
    "\n",
    "plt.annotate(text = 't_crit = '+ str(round(-t,2)), xy = (-t, 0.2), xytext = (-t-1.3, 0.23), \n",
    "             arrowprops = dict(facecolor = 'black', arrowstyle = 'simple'))\n",
    "\n",
    "# use below code to print the values in the graph\n",
    "# 'x' and 'y' gives position of the text\n",
    "# 's' is the text \n",
    "plt.text(x = -1.15, y = 0.18, s = 'Acceptance Region for H0 \\n (1 - α)')\n",
    "\n",
    "# assign the x-axis labels\n",
    "# pass the position of labels to the parameter, 'ticks'\n",
    "# pass the required labels to the parameter, 'labels'\n",
    "plt.xticks(ticks = [-6, -4, -2, 0, 4, 6, round(t_stat,2)], \n",
    "           labels = [-6, -4, -2, 0, 4, 6, 't_test = '+str(round(t_stat,2))])\n",
    "\n",
    "# set plot and axes labels\n",
    "# set text size using 'fontsize'\n",
    "plt.xlabel('t', fontsize = 15)\n",
    "plt.ylabel('Probability', fontsize = 15)\n",
    "plt.title('Two-Tailed Test', fontsize = 15)\n",
    "\n",
    "# display the plot\n",
    "plt.show()"
   ]
  },
  {
   "cell_type": "markdown",
   "metadata": {
    "id": "5fkeL2cgjUNx"
   },
   "source": [
    "The above plot shows that the test statistic value is in the acceptance region, that implies we fail to reject (i.e. accept) $H_{0}$."
   ]
  },
  {
   "cell_type": "markdown",
   "metadata": {
    "id": "w746HClrjUNx"
   },
   "source": [
    "#### 2. An experiment was conducted to compare the pain relieving hours of two new medicines. Two groups of 14 and 15 patients were selected and were given comparable doses. Group 1 was given medicine 1 and group 2 was given medicine 2. The following data is obtained from the two samples. Test whether the two populations give the same mean hours of relief. Assume the data comes from normal distribution has an equal variance. Use α = 0.01"
   ]
  },
  {
   "cell_type": "markdown",
   "metadata": {
    "id": "W6v9wnzpjUNx"
   },
   "source": [
    "<img src='unpaired_2t.PNG'>"
   ]
  },
  {
   "cell_type": "code",
   "execution_count": 22,
   "metadata": {
    "id": "un24Ob9YjUNy",
    "outputId": "81f0a2d5-c6fb-483f-dcc9-a4c447068821"
   },
   "outputs": [
    {
     "name": "stdout",
     "output_type": "stream",
     "text": [
      "Degrees of freedom: 27\n"
     ]
    }
   ],
   "source": [
    "# size of first sample\n",
    "n_1 = 14\n",
    "\n",
    "# mean hours for medicine 1  \n",
    "samp_avg_1 = 6.4\n",
    "\n",
    "# standard deviation of hours for medicine 1\n",
    "samp_std_1 = 1.4\n",
    "\n",
    "# size of second sample\n",
    "n_2 = 15\n",
    "\n",
    "# mean hours for medicine 2 \n",
    "samp_avg_2 = 7.3\n",
    "\n",
    "# standard deviation of hours for medicine 2\n",
    "samp_std_2 = 1.5\n",
    "\n",
    "# degrees of freedom for 2 sample t-test\n",
    "print('Degrees of freedom:', n_1 + n_2 - 2)"
   ]
  },
  {
   "cell_type": "markdown",
   "metadata": {
    "id": "iICkuOPfjUN0"
   },
   "source": [
    "The null and alternative hypothesis is:\n",
    "\n",
    "H<sub>0</sub>: $\\mu_{1} - \\mu_{2} = 0$<br>\n",
    "H<sub>1</sub>: $\\mu_{1} - \\mu_{2} \\neq 0$\n",
    "\n",
    "Here ⍺ = 0.01 and degrees of freedom = 27, for a two-tailed test let us calculate the critical t-value."
   ]
  },
  {
   "cell_type": "code",
   "execution_count": 23,
   "metadata": {
    "id": "2zOFY2IojUN0",
    "outputId": "e756df06-18d1-4a06-b3cd-55c8d2735d3c",
    "scrolled": true
   },
   "outputs": [
    {
     "name": "stdout",
     "output_type": "stream",
     "text": [
      "Critical value for two-tailed t-test: 2.77\n"
     ]
    }
   ],
   "source": [
    "# calculate the t-value for 99% of confidence level\n",
    "# use 'stats.t.isf()' to find the t-value corresponding to the upper tail probability 'q'\n",
    "# pass the value of 'alpha/2' to the parameter 'q', here alpha = 0.01\n",
    "# pass the degrees of freedom to the parameter, 'df' \n",
    "# use 'round()' to round-off the value to 2 digits\n",
    "t_val = np.abs(round(stats.t.isf(q = 0.01/2, df = 27), 2))\n",
    "\n",
    "print('Critical value for two-tailed t-test:', t_val)"
   ]
  },
  {
   "cell_type": "markdown",
   "metadata": {
    "id": "fP6SOq3hjUN2"
   },
   "source": [
    "i.e. if t is less than -2.77 or greater than 2.77 then we reject the null hypothesis."
   ]
  },
  {
   "cell_type": "code",
   "execution_count": 24,
   "metadata": {
    "id": "SKOfC4EUjUN2",
    "outputId": "8a0f8daf-ff4e-4041-9471-4a977134f1d4"
   },
   "outputs": [
    {
     "name": "stdout",
     "output_type": "stream",
     "text": [
      "Test Statistic: -1.667146701465023\n"
     ]
    }
   ],
   "source": [
    "# calculate pooled standard deviation\n",
    "s = np.sqrt((((n_1-1)*samp_std_1**2) + ((n_2-1)*samp_std_2**2)) / (n_1 + n_2 - 2))\n",
    "\n",
    "# calculate the test statistic \n",
    "t_stat = (samp_avg_1 - samp_avg_2) / (s * np.sqrt(1/n_1 + 1/n_2))\n",
    "\n",
    "# print the test statistic value \n",
    "print('Test Statistic:', t_stat)"
   ]
  },
  {
   "cell_type": "code",
   "execution_count": 25,
   "metadata": {
    "id": "Ovx2YaNPjUN4",
    "outputId": "4372b45e-afa0-4e02-80f6-b0d8c84b65c4"
   },
   "outputs": [
    {
     "name": "stdout",
     "output_type": "stream",
     "text": [
      "p-value: 0.10704510910964088\n"
     ]
    }
   ],
   "source": [
    "# calculate the corresponding p-value for the test statistic\n",
    "# use 'cdf()' to calculate P(t <= t_stat)\n",
    "# pass the degrees of freedom to the parameter, 'df'\n",
    "p_value = stats.t.cdf(t_stat, df = 27)\n",
    "\n",
    "# for a two-tailed test multiply the p-value by 2\n",
    "req_p = p_value*2\n",
    "print('p-value:', req_p)"
   ]
  },
  {
   "cell_type": "code",
   "execution_count": 26,
   "metadata": {
    "id": "IQV2SEY5jUN7",
    "outputId": "4c66e543-eff9-47fc-ed40-2321449f98ab",
    "scrolled": false
   },
   "outputs": [
    {
     "name": "stdout",
     "output_type": "stream",
     "text": [
      "95% confidence interval for population mean is (-2.395737993074164, 0.5957379930741649)\n"
     ]
    }
   ],
   "source": [
    "# calculate the 99% confidence interval for the population mean\n",
    "# pass the degrees of freedom to the parameter, 'df' \n",
    "# pass the difference in the sample means to the parameter, 'loc'\n",
    "# pass the scaling factor s*(1/n1 + 1/n2)^(1/2) to the parameter, 'scale'\n",
    "interval = stats.t.interval(0.99, df = n_1 + n_2 - 2, loc = samp_avg_1 - samp_avg_2, scale = s * np.sqrt(1/n_1 + 1/n_2))\n",
    "\n",
    "print('95% confidence interval for population mean is', interval)"
   ]
  },
  {
   "cell_type": "markdown",
   "metadata": {
    "id": "E_u5MRgzjUN9"
   },
   "source": [
    "We can see that the test statistic value is greater than -2.77, the p-value is greater than 0.01, also the confidence interval contains the value in the null hypothesis (i.e. 0). Thus, we fail to reject (i.e. accept) the null hypothesis and conclude that the two medicines have the same hours of relief."
   ]
  },
  {
   "cell_type": "markdown",
   "metadata": {
    "id": "L0LxrVdxjUN9"
   },
   "source": [
    "<a id=\"paired\"></a>\n",
    "## 2.3 Paired t Test"
   ]
  },
  {
   "cell_type": "markdown",
   "metadata": {
    "id": "eRwOufQqjUN9"
   },
   "source": [
    "A paired t-test is used to compare the mean of the population for two dependent samples. The dependent samples can be the scores before and after a specific treatment. \n",
    "\n",
    "Let $X_{i}$ be the sample before the treatment and $Y_{i}$ be the sample after the treatment. Let $\\mu_{X}$, $\\mu_{Y}$ be the mean of the data X and Y respectively. The mean difference $\\mu_{d} = \\mu_{Y} - \\mu_{X}$.\n",
    "\n",
    "The null and alternative hypothesis is given as:\n",
    "\n",
    "<p style='text-indent:25em'> <strong> $H_{0}: \\mu_{d} = \\mu_{0}$ or $\\mu_{d} \\geq \\mu_{0}$ or $\\mu_{d} \\leq \\mu_{0}$</strong></p>\n",
    "<p style='text-indent:25em'> <strong> $H_{1}: \\mu_{d} \\neq \\mu_{0}$ or $\\mu_{d} < \\mu_{0}$ or $\\mu_{d} > \\mu_{0}$</strong></p>\n",
    "\n",
    "The test statistic for paired t-test is given as:\n",
    "<p style='text-indent:25em'> <strong> $t = \\frac{\\overline{X_{D}} - \\mu_{0}} {\\frac{s_{D}}{\\sqrt{n}}}$</strong></p>\n",
    "\n",
    "Where, <br>\n",
    "$\\overline{X_{D}}$: Mean difference between the pairs<br>\n",
    "$\\mu_{0}$: Mean difference given in the null hypothesis<br>\n",
    "$s_{D}$: Standard deviation of differences between the pairs<br>\n",
    "$n$: Sample size\n",
    "\n",
    "Under $H_{0}$, the test statistic follows a t-distribution with (n-1) degrees of freedom."
   ]
  },
  {
   "cell_type": "markdown",
   "metadata": {
    "id": "99MYxwsYjUN-"
   },
   "source": [
    "### Example:\n",
    "\n",
    "#### 1. A training institute wants to check if their writing training program was effective or not. 17 students are selected to check the hypothesis. Consider 0.05 as the level of significance.\n",
    "\n",
    "The writing scores before and after training are provided in the CSV file `WritingScores.csv`. "
   ]
  },
  {
   "cell_type": "code",
   "execution_count": 27,
   "metadata": {
    "id": "qpwYwLRGjUN-",
    "outputId": "4633585a-faf2-4720-eeb7-fcb1fc63de42",
    "scrolled": true
   },
   "outputs": [
    {
     "data": {
      "text/html": [
       "<div>\n",
       "<style scoped>\n",
       "    .dataframe tbody tr th:only-of-type {\n",
       "        vertical-align: middle;\n",
       "    }\n",
       "\n",
       "    .dataframe tbody tr th {\n",
       "        vertical-align: top;\n",
       "    }\n",
       "\n",
       "    .dataframe thead th {\n",
       "        text-align: right;\n",
       "    }\n",
       "</style>\n",
       "<table border=\"1\" class=\"dataframe\">\n",
       "  <thead>\n",
       "    <tr style=\"text-align: right;\">\n",
       "      <th></th>\n",
       "      <th>score_before</th>\n",
       "      <th>score_after</th>\n",
       "    </tr>\n",
       "  </thead>\n",
       "  <tbody>\n",
       "    <tr>\n",
       "      <th>0</th>\n",
       "      <td>59</td>\n",
       "      <td>50</td>\n",
       "    </tr>\n",
       "    <tr>\n",
       "      <th>1</th>\n",
       "      <td>62</td>\n",
       "      <td>67</td>\n",
       "    </tr>\n",
       "  </tbody>\n",
       "</table>\n",
       "</div>"
      ],
      "text/plain": [
       "   score_before  score_after\n",
       "0            59           50\n",
       "1            62           67"
      ]
     },
     "execution_count": 27,
     "metadata": {},
     "output_type": "execute_result"
    }
   ],
   "source": [
    "# read the file containing writing scores  \n",
    "df_score = pd.read_csv('WritingScores.csv')\n",
    "\n",
    "# display the first two observations\n",
    "df_score.head(2)"
   ]
  },
  {
   "cell_type": "code",
   "execution_count": 28,
   "metadata": {
    "id": "K9-IW8FjjUN_",
    "outputId": "2a2e1b30-ea01-4db7-d55f-18678623f9ed"
   },
   "outputs": [
    {
     "name": "stdout",
     "output_type": "stream",
     "text": [
      "Degrees of freedom: 16\n"
     ]
    }
   ],
   "source": [
    "# calculate the difference between the marks\n",
    "diff_marks = df_score['score_after'] - df_score['score_before']\n",
    "\n",
    "# calculate mean difference\n",
    "mean_diff = np.mean(diff_marks)\n",
    "\n",
    "# calculate standard deviation of difference\n",
    "std_diff = statistics.stdev(diff_marks)\n",
    "\n",
    "# sample size\n",
    "n = len(df_score)\n",
    "\n",
    "print('Degrees of freedom:', n-1)"
   ]
  },
  {
   "cell_type": "markdown",
   "metadata": {
    "id": "jpq4SPwbjUOB"
   },
   "source": [
    "Let us check the normality of the scores before the training."
   ]
  },
  {
   "cell_type": "code",
   "execution_count": 29,
   "metadata": {
    "id": "iXH_DB-6jUOB",
    "outputId": "5e69a6a8-a912-4550-dc16-cbc8cd1873f9"
   },
   "outputs": [
    {
     "name": "stdout",
     "output_type": "stream",
     "text": [
      "Test statistic: 0.947382390499115\n",
      "P-Value: 0.41645893454551697\n"
     ]
    }
   ],
   "source": [
    "# perform Shapiro-Wilk test to test the normality\n",
    "# shapiro() returns a tuple having the values of test statistics and the corresponding p-value\n",
    "# pass the writing scores of students before the training to perform the test\n",
    "stat, p_value = shapiro(df_score['score_before'])\n",
    "\n",
    "# print the test statistic and corresponding p-value \n",
    "print('Test statistic:', stat)\n",
    "print('P-Value:', p_value)"
   ]
  },
  {
   "cell_type": "markdown",
   "metadata": {
    "id": "phm7-OTGjUOD"
   },
   "source": [
    "From the above result, we can see that the p-value is greater than 0.05, thus we can say that the scores before training are normally distributed."
   ]
  },
  {
   "cell_type": "markdown",
   "metadata": {
    "id": "YspQ9pvEjUOD"
   },
   "source": [
    "Let us check the normality of the score after the training."
   ]
  },
  {
   "cell_type": "code",
   "execution_count": 30,
   "metadata": {
    "id": "F0I_pTD1jUOE",
    "outputId": "994edaa8-54d5-4b63-9f20-8988d6804bc0"
   },
   "outputs": [
    {
     "name": "stdout",
     "output_type": "stream",
     "text": [
      "Test statistic: 0.9686525464057922\n",
      "P-Value: 0.7944169044494629\n"
     ]
    }
   ],
   "source": [
    "# perform Shapiro-Wilk test to test the normality\n",
    "# shapiro() returns a tuple having the values of test statistics and the corresponding p-value\n",
    "# pass the writing scores of students after the training to perform the test\n",
    "stat, p_value = shapiro(df_score['score_after'])\n",
    "\n",
    "# print the test statistic and corresponding p-value \n",
    "print('Test statistic:', stat)\n",
    "print('P-Value:', p_value)"
   ]
  },
  {
   "cell_type": "markdown",
   "metadata": {
    "id": "sUAEaADtjUOF"
   },
   "source": [
    "From the above result, we can see that the p-value is greater than 0.05, thus we can say that the scores after training are normally distributed."
   ]
  },
  {
   "cell_type": "markdown",
   "metadata": {
    "id": "d3smCgeZjUOF"
   },
   "source": [
    "The null and alternative hypothesis is:\n",
    "\n",
    "H<sub>0</sub>: The training was not effective ($\\mu_{d} = 0$)<br>\n",
    "H<sub>1</sub>: The training was effective ($\\mu_{d} \\neq 0$)"
   ]
  },
  {
   "cell_type": "markdown",
   "metadata": {
    "id": "Km0LzLt3jUOG"
   },
   "source": [
    "Here ⍺ = 0.05 and degrees of freedom = 16, for a two-tailed test let us calculate the critical t-value."
   ]
  },
  {
   "cell_type": "code",
   "execution_count": 31,
   "metadata": {
    "id": "PDx9EoDRjUOG",
    "outputId": "4af4ebe0-57c3-4437-9712-a5cad5000e57"
   },
   "outputs": [
    {
     "name": "stdout",
     "output_type": "stream",
     "text": [
      "Critical Value for two-tailed t-test: 2.12\n"
     ]
    }
   ],
   "source": [
    "# calculate the t-value for 95% of confidence level\n",
    "# use 'stats.t.isf()' to find the t-value corresponding to the upper tail probability 'q'\n",
    "# pass the value of 'alpha/2' to the parameter 'q', here alpha = 0.05\n",
    "# pass the degrees of freedom to the parameter, 'df' \n",
    "# use 'round()' to round-off the value to 2 digits\n",
    "t_val = np.abs(round(stats.t.isf(q = 0.05/2, df = 16), 2))\n",
    "\n",
    "print('Critical Value for two-tailed t-test:', t_val)"
   ]
  },
  {
   "cell_type": "markdown",
   "metadata": {
    "id": "ImR7pSL_jUOK"
   },
   "source": [
    "i.e. if t is less than -2.12 or greater than 2.12 then we reject the null hypothesis."
   ]
  },
  {
   "cell_type": "code",
   "execution_count": 32,
   "metadata": {
    "id": "45TajZ6wjUOK",
    "outputId": "e5c68ef3-996a-4f16-a89e-3bfac62697c6"
   },
   "outputs": [
    {
     "name": "stdout",
     "output_type": "stream",
     "text": [
      "Test Statistic: 1.4394882729049499\n",
      "p-value: 0.16929012896279846\n"
     ]
    }
   ],
   "source": [
    "# use 'ttest_rel()' to calculate the t-statistic and corresponding p-value for paired samples\n",
    "# pass the before and after scores to the function\n",
    "t_stat, p_val = stats.ttest_rel(df_score['score_after'], df_score['score_before'])\n",
    "\n",
    "# print the the t-test statistic and corresponding p-value \n",
    "print(\"Test Statistic:\", t_stat)\n",
    "print(\"p-value:\", p_val)"
   ]
  },
  {
   "cell_type": "code",
   "execution_count": 33,
   "metadata": {
    "id": "-pzaUN_4jUOM",
    "outputId": "4509d9e0-26d2-4b95-933d-215307901269",
    "scrolled": false
   },
   "outputs": [
    {
     "name": "stdout",
     "output_type": "stream",
     "text": [
      "90% confidence interval for population mean is (-3.0029069531297283, 15.708789306070905)\n"
     ]
    }
   ],
   "source": [
    "# calculate the 95% confidence interval for the population mean\n",
    "# pass the 'n-1' degrees of freedom to the parameter, 'df' \n",
    "# pass the mean of the difference to the parameter, 'loc'\n",
    "# pass the scaling factor (std_diff / n^(1/2)) to the parameter, 'scale'\n",
    "interval = stats.t.interval(0.95, df = n-1, loc = mean_diff, scale = std_diff/np.sqrt(n))\n",
    "\n",
    "print('90% confidence interval for population mean is', interval)"
   ]
  },
  {
   "cell_type": "markdown",
   "metadata": {
    "id": "K5qVDX40jUOO"
   },
   "source": [
    "We can see that the test statistic value is less than 2.12 and greater than -2.12, the p-value is greater than 0.05, also the confidence interval contains the value in the null hypothesis (i.e. 0). Thus, we fail to reject (i.e. accept) the null hypothesis and conclude that the training was not effective."
   ]
  },
  {
   "cell_type": "markdown",
   "metadata": {
    "id": "D-80_tMPjUOO"
   },
   "source": [
    "Let us plot the acceptance and rejection region for a two-tailed test with 95% confidence."
   ]
  },
  {
   "cell_type": "code",
   "execution_count": 34,
   "metadata": {
    "id": "knUfvYqXjUOP",
    "outputId": "03d3c67e-38dc-4686-98ac-a9a48224c16e",
    "scrolled": false
   },
   "outputs": [
    {
     "data": {
      "image/png": "[encoded data removed]",
      "text/plain": [
       "<Figure size 1500x800 with 1 Axes>"
      ]
     },
     "metadata": {},
     "output_type": "display_data"
    }
   ],
   "source": [
    "# consider a random variable 'X' that follows a t-distribution with 16 degrees of freedom\n",
    "# pass the degrees of freedom to the parameter, 'df'\n",
    "# pass the required number of observations to the parameter, 'size'\n",
    "# set 'random_state' to obtain the same observations every time you run the code \n",
    "X = stats.t.rvs(df = 16, size = 2000000, random_state = 16)\n",
    "\n",
    "# plot the distribution of X\n",
    "# pass the data to the parameter, 'a'\n",
    "# 'hist=False' does not return the histogram \n",
    "# 'cumulative=False' in 'kde_kws' does not return the cumulative kernel density estimator\n",
    "ax = sns.distplot(a = X, hist = False, kde_kws = dict(cumulative=False))\n",
    "\n",
    "# set the limit for y-axis\n",
    "plt.ylim(0, 0.4)\n",
    "\n",
    "# use 'stats.t.isf()' to find the t-value for alpha = 0.05\n",
    "# pass the value of 'alpha/2' to the parameter 'q' for a two tailed test\n",
    "# pass the degrees of freedom to the parameter, 'df' \n",
    "t = stats.t.isf(q = 0.05/2, df = 16)\n",
    "\n",
    "# plot a vertical line at t-value\n",
    "x, y = [t, t], [0, 0.3]\n",
    "plt.plot(x, y, color = 'black')\n",
    "\n",
    "# plot a vertical line at -(t-value)\n",
    "x, y = [-t, -t], [0, 0.3]\n",
    "plt.plot(x, y, color = 'black')\n",
    "\n",
    "# plot a vertical line at test statistic value\n",
    "x, y = [t_stat, t_stat], [0, 0.14]\n",
    "plt.plot(x, y, color = 'black')\n",
    "\n",
    "# add the color to the right of the t-value and left of the -(t-value)\n",
    "# get the data for x and y axes\n",
    "l1 = ax.lines[0]\n",
    "x1 = l1.get_xydata()[:,0]\n",
    "y1 = l1.get_xydata()[:,1]\n",
    "\n",
    "# fill the color for the region where x-values are greater than the critical t-value\n",
    "# pass the condition to shade the required region\n",
    "# pass the required color to the parameter, 'color'\n",
    "ax.fill_between(x1[x1 >= t], y1[x1 >= t], color = 'lightblue')\n",
    "\n",
    "# fill the color for the region where x-values are less than -(t-value)\n",
    "# pass the condition to shade the required region\n",
    "# pass the required color to the parameter, 'color'\n",
    "ax.fill_between(x1[x1 <= -t], y1[x1 <= -t], color = 'lightblue')\n",
    "\n",
    "# use 'annonate' function to draw an arrow between points xy and xytext\n",
    "# 's' is a argument to write text\n",
    "# we can change the facecolor and arrowstyle; this is only for representation purpose\n",
    "plt.annotate(text = 'Mean (μ)', xy = (0, 0), xytext = (-0.45, 0.04), arrowprops = dict(facecolor = 'black', arrowstyle = 'simple'))\n",
    "\n",
    "plt.annotate(text = 'α/2 = 0.025\\n(Rejection Region for H0)', xy = (2.5, 0.004), xytext = (2.8, 0.055), \n",
    "             arrowprops = dict(facecolor = 'black', arrowstyle = 'simple'))\n",
    "\n",
    "plt.annotate(text = 'α/2 = 0.025\\n(Rejection Region for H0)', xy = (-2.5, 0.004), xytext = (-4.8, 0.055), \n",
    "             arrowprops = dict(facecolor = 'black', arrowstyle = 'simple'))\n",
    "\n",
    "plt.annotate(text = 't_crit = '+ str(round(t,2)), xy = (t, 0.2), xytext = (t+0.3, 0.23),             \n",
    "             arrowprops = dict(facecolor = 'black', arrowstyle = 'simple'))\n",
    "\n",
    "plt.annotate(text = 't_crit = '+ str(round(-t,2)), xy = (-t, 0.2), xytext = (-t-1.5, 0.23), \n",
    "             arrowprops = dict(facecolor = 'black', arrowstyle = 'simple'))\n",
    "\n",
    "# use below code to print the values in the graph\n",
    "# 'x' and 'y' gives position of the text\n",
    "# 's' is the text \n",
    "plt.text(x = -1.25, y = 0.15, s = 'Acceptance Region for H0 \\n (1 - α)')\n",
    "\n",
    "# assign the x-axis labels\n",
    "# pass the position of labels to the parameter, 'ticks'\n",
    "# pass the required labels to the parameter, 'labels'\n",
    "plt.xticks(ticks = [-6, -4, -2, 0, 4, 6, round(t_stat,2)], \n",
    "           labels = [-6, -4, -2, 0, 4, 6, 't_test = '+str(round(t_stat,2))])\n",
    "\n",
    "# set plot and axes labels\n",
    "# set text size using 'fontsize'\n",
    "plt.xlabel('t', fontsize = 15)\n",
    "plt.ylabel('Probability', fontsize = 15)\n",
    "plt.title('Two-Tailed Test', fontsize = 15)\n",
    "\n",
    "# display the plot\n",
    "plt.show()"
   ]
  },
  {
   "cell_type": "markdown",
   "metadata": {
    "id": "61E8fnWUjUOS"
   },
   "source": [
    "The above plot shows that the test statistic value is in the acceptance region, that implies we fail to reject (i.e. accept) $H_{0}$."
   ]
  },
  {
   "cell_type": "markdown",
   "metadata": {
    "id": "DZHZrGTxjUOS"
   },
   "source": [
    "#### 2. An energy drink distributor claims that a new advertisement poster, featuring a life-size picture of a well-known athlete, will increase the product sales in outlets by an average of 50 bottles in a week. For a random sample of 10 outlets, the following data was collected. Test that the null hypothesis that there the advertisement was effective in increasing sales. Test the hypothesis using critical region technique. Use α = 0.05.\n",
    "\n",
    "Given data:\n",
    "\n",
    "        sales_before = [33, 32, 38, 45, 37, 47, 48, 41, 45]\n",
    "        sales_after = [42, 35, 31, 41, 37, 36, 49, 49, 48]"
   ]
  },
  {
   "cell_type": "code",
   "execution_count": 35,
   "metadata": {
    "id": "PKbYDiBOjUOT",
    "outputId": "cbe1ab76-94a1-4a76-e608-7aef27fdcac7"
   },
   "outputs": [
    {
     "name": "stdout",
     "output_type": "stream",
     "text": [
      "Degrees of freedom: 8\n"
     ]
    }
   ],
   "source": [
    "# sales before advertisement\n",
    "sales_before = [33, 32, 38, 45, 37, 47, 48, 41, 45]\n",
    "\n",
    "# sales after advertisement\n",
    "sales_after = [42, 35, 31, 41, 37, 36, 49, 49, 48]\n",
    "\n",
    "# sample size\n",
    "n = len(sales_before)\n",
    "\n",
    "# calculate the difference between the sale\n",
    "diff_sale = np.array(sales_after) - np.array(sales_before)\n",
    "\n",
    "# calculate mean difference\n",
    "mean_diff = np.mean(diff_sale)\n",
    "\n",
    "# calculate the standard deviation of difference\n",
    "# pass the mean difference to the parameter, 'xbar'\n",
    "std_diff = statistics.stdev(diff_sale, xbar = mean_diff)\n",
    "\n",
    "print('Degrees of freedom:', n-1)"
   ]
  },
  {
   "cell_type": "markdown",
   "metadata": {
    "id": "F7iaV6UXjUOU"
   },
   "source": [
    "Let us check the normality of the sales before the advertisement."
   ]
  },
  {
   "cell_type": "code",
   "execution_count": 36,
   "metadata": {
    "id": "FbENRokxjUOV",
    "outputId": "581824b2-702e-4f31-dc48-8fc45d12dfd2"
   },
   "outputs": [
    {
     "name": "stdout",
     "output_type": "stream",
     "text": [
      "Test statistic: 0.9187210202217102\n",
      "P-Value: 0.3817565143108368\n"
     ]
    }
   ],
   "source": [
    "# perform Shapiro-Wilk test to test the normality\n",
    "# shapiro() returns a tuple having the values of test statistics and the corresponding p-value\n",
    "# pass the sales before the advertisement to perform the test\n",
    "stat, p_value = shapiro(sales_before)\n",
    "\n",
    "# print the test statistic and corresponding p-value \n",
    "print('Test statistic:', stat)\n",
    "print('P-Value:', p_value)"
   ]
  },
  {
   "cell_type": "markdown",
   "metadata": {
    "id": "EpcCkuM0jUOW"
   },
   "source": [
    "From the above result, we can see that the p-value is greater than 0.05, thus we can say that the sales before advertisement are normally distributed."
   ]
  },
  {
   "cell_type": "markdown",
   "metadata": {
    "id": "i46qEvmVjUOW"
   },
   "source": [
    "Let us check the normality of the sales after the advertisement."
   ]
  },
  {
   "cell_type": "code",
   "execution_count": 37,
   "metadata": {
    "id": "x5_EUbUujUOW",
    "outputId": "50ae7fc1-cdbd-4573-8cd3-79e95427e711"
   },
   "outputs": [
    {
     "name": "stdout",
     "output_type": "stream",
     "text": [
      "Test statistic: 0.9118874669075012\n",
      "P-Value: 0.3293103277683258\n"
     ]
    }
   ],
   "source": [
    "# perform Shapiro-Wilk test to test the normality\n",
    "# shapiro() returns a tuple having the values of test statistics and the corresponding p-value\n",
    "# pass the sales after the advertisement to perform the test\n",
    "stat, p_value = shapiro(sales_after)\n",
    "\n",
    "# print the test statistic and corresponding p-value \n",
    "print('Test statistic:', stat)\n",
    "print('P-Value:', p_value)"
   ]
  },
  {
   "cell_type": "markdown",
   "metadata": {
    "id": "VC1uO5ygjUOY"
   },
   "source": [
    "From the above result, we can see that the p-value is greater than 0.05, thus we can say that the  sales after the advertisement are normally distributed."
   ]
  },
  {
   "cell_type": "markdown",
   "metadata": {
    "id": "caBuf0CYjUOY"
   },
   "source": [
    "The null and alternative hypothesis is:\n",
    "\n",
    "H<sub>0</sub>: The advertisement was not effective in increasing sales ($\\mu_{d} \\leq 0$)<br>\n",
    "H<sub>1</sub>: The advertisement was effective in increasing sales ($\\mu_{d} > 0$)"
   ]
  },
  {
   "cell_type": "markdown",
   "metadata": {
    "id": "wGJ__-jtjUOZ"
   },
   "source": [
    "Here ⍺ = 0.05 and degrees of freedom = 8, for a one-tailed test let us calculate the critical t-value."
   ]
  },
  {
   "cell_type": "code",
   "execution_count": 38,
   "metadata": {
    "id": "mETFRlpJjUOZ",
    "outputId": "85290f83-157b-4205-8681-df5bf7c08ad9"
   },
   "outputs": [
    {
     "name": "stdout",
     "output_type": "stream",
     "text": [
      "Critical Value for one-tailed t-test: 1.86\n"
     ]
    }
   ],
   "source": [
    "# calculate the t-value for 95% of confidence level\n",
    "# use 'stats.t.isf()' to find the t-value corresponding to the upper tail probability 'q'\n",
    "# pass the value of 'alpha' to the parameter 'q', here alpha = 0.05\n",
    "# pass the degrees of freedom to the parameter, 'df' \n",
    "# use 'round()' to round-off the value to 2 digits\n",
    "t_val = round(stats.t.isf(q = 0.05, df = 8), 2)\n",
    "\n",
    "print('Critical Value for one-tailed t-test:', t_val)"
   ]
  },
  {
   "cell_type": "markdown",
   "metadata": {
    "id": "foyp1rDjjUOc"
   },
   "source": [
    "i.e. if t is greater than 1.86 then we reject the null hypothesis."
   ]
  },
  {
   "cell_type": "code",
   "execution_count": 39,
   "metadata": {
    "id": "EsjAmoifjUOd",
    "outputId": "c2f7900f-afeb-4d26-d543-47fef6f64dd7"
   },
   "outputs": [
    {
     "name": "stdout",
     "output_type": "stream",
     "text": [
      "Test Statistic: 0.10085458113185983\n",
      "p-value: 0.9221477146925299\n"
     ]
    }
   ],
   "source": [
    "# use 'ttest_rel()' to calculate the t-statistic and corresponding p-value for paired samples\n",
    "# pass the after and before sales to the function\n",
    "t_stat, p_val = stats.ttest_rel(sales_after, sales_before)\n",
    "\n",
    "# print the t-test statistic and corresponding p-value \n",
    "print(\"Test Statistic:\", t_stat)\n",
    "print(\"p-value:\", p_val)"
   ]
  },
  {
   "cell_type": "markdown",
   "metadata": {
    "id": "jMWNOx-ajUOe"
   },
   "source": [
    "We can see that the test statistic value is less than 1.86. Thus, we fail to reject (i.e. accept) the null hypothesis and conclude that there is no effect of advertisement."
   ]
  },
  {
   "cell_type": "markdown",
   "metadata": {
    "id": "Qnofe5hBjUOf"
   },
   "source": [
    "<a id=\"prop\"></a>\n",
    "# 3. Z Proportion Test"
   ]
  },
  {
   "cell_type": "markdown",
   "metadata": {
    "id": "z95224vGjUOf"
   },
   "source": [
    "<a id=\"1_p\"></a>\n",
    "## 3.1 One Sample Test"
   ]
  },
  {
   "cell_type": "markdown",
   "metadata": {
    "id": "4xvgUcCtjUOf"
   },
   "source": [
    "Perform one sample Z test for the population proportion. We compare the population proportion ($P$) with a specific value ($P_{0}$).\n",
    "\n",
    "The null and alternative hypothesis is given as:\n",
    "\n",
    "<p style='text-indent:25em'> <strong> $H_{0}: P = P_{0}$ or $P \\geq P_{0}$ or $P \\leq P_{0}$</strong></p>\n",
    "<p style='text-indent:25em'> <strong> $H_{1}: P \\neq P_{0}$ or $P < P_{0}$ or $P > P_{0}$</strong></p>"
   ]
  },
  {
   "cell_type": "markdown",
   "metadata": {
    "id": "CjLNMxSqjUOg"
   },
   "source": [
    "The test statistic for proportion Z-test is given as:\n",
    "<p style='text-indent:25em'> <strong> $Z = \\frac{p -  P_{0}}{\\sqrt{\\frac{P_{0}(1-P_{0})}{n}}}$</strong></p>\n",
    "\n",
    "Where, <br>\n",
    "$p$: Sample proportion<br>\n",
    "$n$: Sample size\n",
    "\n",
    "Under $H_{0}$, the test statistic follows a standard normal distribution."
   ]
  },
  {
   "cell_type": "markdown",
   "metadata": {
    "id": "BAsQHKx6jUOg"
   },
   "source": [
    "### Example:\n",
    "\n",
    "#### 1. In previous years, people believed that at most 80% of male students score more than 50 marks out of 100 in Mathematics. Perform a test to check whether this percentage is more than 80. Consider the level of significance as 0.05.\n",
    "\n",
    "Consider the sample of math scores of male students available in the CSV file `StudentsPerformance.csv`."
   ]
  },
  {
   "cell_type": "code",
   "execution_count": 40,
   "metadata": {
    "id": "3V8VlG2rjUOg",
    "outputId": "42875b64-4bc4-425c-c1d3-922799c71e15",
    "scrolled": false
   },
   "outputs": [
    {
     "data": {
      "text/html": [
       "<div>\n",
       "<style scoped>\n",
       "    .dataframe tbody tr th:only-of-type {\n",
       "        vertical-align: middle;\n",
       "    }\n",
       "\n",
       "    .dataframe tbody tr th {\n",
       "        vertical-align: top;\n",
       "    }\n",
       "\n",
       "    .dataframe thead th {\n",
       "        text-align: right;\n",
       "    }\n",
       "</style>\n",
       "<table border=\"1\" class=\"dataframe\">\n",
       "  <thead>\n",
       "    <tr style=\"text-align: right;\">\n",
       "      <th></th>\n",
       "      <th>gender</th>\n",
       "      <th>race/ethnicity</th>\n",
       "      <th>lunch</th>\n",
       "      <th>test preparation course</th>\n",
       "      <th>math score</th>\n",
       "      <th>reading score</th>\n",
       "      <th>writing score</th>\n",
       "      <th>total score</th>\n",
       "      <th>training institute</th>\n",
       "    </tr>\n",
       "  </thead>\n",
       "  <tbody>\n",
       "    <tr>\n",
       "      <th>0</th>\n",
       "      <td>female</td>\n",
       "      <td>group B</td>\n",
       "      <td>standard</td>\n",
       "      <td>none</td>\n",
       "      <td>89</td>\n",
       "      <td>55</td>\n",
       "      <td>56</td>\n",
       "      <td>200</td>\n",
       "      <td>Nature Learning</td>\n",
       "    </tr>\n",
       "    <tr>\n",
       "      <th>1</th>\n",
       "      <td>female</td>\n",
       "      <td>group C</td>\n",
       "      <td>standard</td>\n",
       "      <td>completed</td>\n",
       "      <td>55</td>\n",
       "      <td>63</td>\n",
       "      <td>72</td>\n",
       "      <td>190</td>\n",
       "      <td>Nature Learning</td>\n",
       "    </tr>\n",
       "  </tbody>\n",
       "</table>\n",
       "</div>"
      ],
      "text/plain": [
       "   gender race/ethnicity     lunch test preparation course  math score  \\\n",
       "0  female        group B  standard                    none          89   \n",
       "1  female        group C  standard               completed          55   \n",
       "\n",
       "   reading score  writing score  total score training institute  \n",
       "0             55             56          200    Nature Learning  \n",
       "1             63             72          190    Nature Learning  "
      ]
     },
     "execution_count": 40,
     "metadata": {},
     "output_type": "execute_result"
    }
   ],
   "source": [
    "# read the students performance data \n",
    "df_student = pd.read_csv('StudentsPerformance.csv')\n",
    "\n",
    "# display the first two observations\n",
    "df_student.head(2)"
   ]
  },
  {
   "cell_type": "code",
   "execution_count": 41,
   "metadata": {
    "id": "K6y774zhjUOi"
   },
   "outputs": [],
   "source": [
    "# total number of male students \n",
    "total_male = len(df_student[(df_student['gender'] == 'male')])\n",
    "\n",
    "# consider the males with math score greater than 50\n",
    "male_marks_gt_50 = df_student[(df_student['gender'] == 'male') & (df_student['math score'] > 50)]\n",
    "\n",
    "# obtain the number of male students with math score greater than 50 \n",
    "num_male_marks_gt_50 = len(male_marks_gt_50)\n",
    "\n",
    "# calculate sample proportion\n",
    "p_samp = num_male_marks_gt_50/total_male"
   ]
  },
  {
   "cell_type": "markdown",
   "metadata": {
    "id": "ei4itiubjUOk"
   },
   "source": [
    "The null and alternative hypothesis is:\n",
    "\n",
    "H<sub>0</sub>: $P \\leq 0.8$<br>\n",
    "H<sub>1</sub>: $P > 0.8$ "
   ]
  },
  {
   "cell_type": "markdown",
   "metadata": {
    "id": "oHzItaihjUOk"
   },
   "source": [
    "Here ⍺ = 0.05, for a one-tailed test calculate the critical z-value."
   ]
  },
  {
   "cell_type": "code",
   "execution_count": 42,
   "metadata": {
    "id": "1vgty3VHjUOk",
    "outputId": "7e37333b-eb38-451e-d878-df8e0df13fe7"
   },
   "outputs": [
    {
     "name": "stdout",
     "output_type": "stream",
     "text": [
      "Critical value for one-tailed Z-test: 1.64\n"
     ]
    }
   ],
   "source": [
    "# calculate the z-value for 95% of confidence level\n",
    "# use 'stats.norm.isf()' to find the z-value corresponding to the upper tail probability 'q'\n",
    "# pass the value of 'alpha' to the parameter 'q', here alpha = 0.05\n",
    "# use 'round()' to round-off the value to 2 digits\n",
    "z_val = np.abs(round(stats.norm.isf(q = 0.05), 2))\n",
    "\n",
    "print('Critical value for one-tailed Z-test:', z_val)"
   ]
  },
  {
   "cell_type": "markdown",
   "metadata": {
    "id": "YF4uol3ijUOm"
   },
   "source": [
    "i.e. if z is greater than 1.64 then we reject the null hypothesis."
   ]
  },
  {
   "cell_type": "code",
   "execution_count": 43,
   "metadata": {
    "id": "rcQpC7YYjUOm",
    "outputId": "9aaa003e-7689-4c66-9b2e-04b2291d333a"
   },
   "outputs": [
    {
     "name": "stdout",
     "output_type": "stream",
     "text": [
      "Test statistic: 4.163394160018601\n"
     ]
    }
   ],
   "source": [
    "# hypothesized proportion\n",
    "hypo_p = 0.8 \n",
    "\n",
    "# calculate test statistic value for 1 sample proportion test\n",
    "z_prop = (p_samp - hypo_p) / np.sqrt((hypo_p * (1 - hypo_p)) / total_male)\n",
    "\n",
    "print('Test statistic:', z_prop)"
   ]
  },
  {
   "cell_type": "code",
   "execution_count": 44,
   "metadata": {
    "id": "uUNOalqzjUOn",
    "outputId": "c225acf3-3f5f-4925-acbe-892993f18aed"
   },
   "outputs": [
    {
     "name": "stdout",
     "output_type": "stream",
     "text": [
      "p-value: 1.5677570141208797e-05\n"
     ]
    }
   ],
   "source": [
    "# calculate the corresponding p-value for the test statistic\n",
    "# use 'sf()' to calculate P(Z > z_prop)\n",
    "p_value = stats.norm.sf(z_prop)\n",
    "\n",
    "print('p-value:', p_value)"
   ]
  },
  {
   "cell_type": "code",
   "execution_count": 45,
   "metadata": {
    "id": "AwCeRI2hjUOp",
    "outputId": "e79ef7ff-566d-465f-b4fc-07382e21566a",
    "scrolled": true
   },
   "outputs": [
    {
     "name": "stdout",
     "output_type": "stream",
     "text": [
      "95% confidence interval for population proportion is (0.8463611028151683, 0.9051916922158876)\n"
     ]
    }
   ],
   "source": [
    "# calculate the 95% confidence interval\n",
    "# pass the sample proportion to the parameter, 'loc'\n",
    "# pass the scaling factor (((p_samp*(1-p_samp))/n)^0.5) to the parameter, 'scale'\n",
    "interval = stats.norm.interval(0.95, loc = p_samp, scale = np.sqrt((p_samp*(1-p_samp))/total_male))\n",
    "\n",
    "print('95% confidence interval for population proportion is', interval)"
   ]
  },
  {
   "cell_type": "markdown",
   "metadata": {
    "id": "1SfzeqHZjUOr"
   },
   "source": [
    "Here the z-score is greater than 1.64, the p-value is less than 0.05, also the confidence interval does not contain the value in the null hypothesis (i.e. 0.8). Thus, we reject the null hypothesis and we have enough evidence to conclude that the percentage of male students scoring more than 50 marks in Mathematics is more than 80%."
   ]
  },
  {
   "cell_type": "markdown",
   "metadata": {
    "id": "_SrO7kYijUOr"
   },
   "source": [
    "Let us plot the acceptance and rejection region for a right-tailed test with 95% confidence."
   ]
  },
  {
   "cell_type": "code",
   "execution_count": 46,
   "metadata": {
    "id": "ZQcOl2TVjUOr",
    "outputId": "f29c1a03-0fc1-4bc0-b0ad-d14d4016aac2",
    "scrolled": false
   },
   "outputs": [
    {
     "data": {
      "image/png": "[encoded data removed]",
      "text/plain": [
       "<Figure size 1500x800 with 1 Axes>"
      ]
     },
     "metadata": {},
     "output_type": "display_data"
    }
   ],
   "source": [
    "# consider a random variable 'X' that follows a standard normal distribution \n",
    "# pass the required number of observations to the parameter, 'size'\n",
    "# set 'random_state' to obtain the same observations every time you run the code \n",
    "X = stats.norm.rvs(size = 2000000, random_state = 5)\n",
    "\n",
    "# plot the distribution of X\n",
    "# pass the data to the parameter, 'a'\n",
    "# 'hist=False' does not return the histogram \n",
    "# 'cumulative=False' in 'kde_kws' does not return the cumulative kernel density estimator\n",
    "ax = sns.distplot(a = X, hist = False, kde_kws = dict(cumulative=False))\n",
    "\n",
    "# set the limit for y-axis\n",
    "plt.ylim(0, 0.42)\n",
    "\n",
    "# use 'stats.norm.isf()' to calculate the critical z-value for alpha = 0.05\n",
    "# pass the value of 'alpha' to the parameter 'q'\n",
    "z = stats.norm.isf(q = 0.05)\n",
    "\n",
    "# plot a vertical line at z-value\n",
    "x, y = [z, z], [0, 0.3]\n",
    "plt.plot(x, y, color = 'black')\n",
    "\n",
    "# plot a vertical line at z-proportion value\n",
    "x, y = [z_prop, z_prop], [0, 0.013]\n",
    "plt.plot(x, y, color = 'black')\n",
    "\n",
    "# add the color to the right of the z-value\n",
    "# get the data for x and y axes\n",
    "l1 = ax.lines[0]\n",
    "x1 = l1.get_xydata()[:,0]\n",
    "y1 = l1.get_xydata()[:,1]\n",
    "\n",
    "# fill the color for the region where x-values are greater than the critical z-value\n",
    "# pass the condition to shade the required region\n",
    "# pass the required color to the parameter, 'color'\n",
    "ax.fill_between(x1[x1 >= z], y1[x1 >= z], color = 'lightblue')\n",
    "\n",
    "# use 'annonate' function to draw an arrow between points xy and xytext\n",
    "# 's' is a argument to write text\n",
    "# we can change the facecolor and arrowstyle; this is only for representation purpose\n",
    "plt.annotate(text = 'Mean (μ)', xy = (0, 0), xytext = (-0.3, 0.04), arrowprops = dict(facecolor = 'black', arrowstyle = 'simple'))\n",
    "\n",
    "plt.annotate(text = 'α = 0.05\\n(Rejection Region for H0)', xy = (2, 0.025), xytext = (2, 0.075), \n",
    "             arrowprops = dict(facecolor = 'black', arrowstyle = 'simple'))\n",
    "\n",
    "plt.annotate(text = 'z_crit = '+ str(round(z,2)), xy = (z, 0), xytext = (z-1, 0.04), \n",
    "             arrowprops = dict(facecolor = 'black', arrowstyle = 'simple'))\n",
    "\n",
    "# use below code to print the values in the graph\n",
    "# 'x' and 'y' gives position of the text\n",
    "# 's' is the text \n",
    "plt.text(x = -1.1, y = 0.2, s = 'Acceptance Region for H0 (1 - α)')\n",
    "\n",
    "# assign the x-axis labels\n",
    "# pass the position of labels to the parameter, 'ticks'\n",
    "# pass the required labels to the parameter, 'labels'\n",
    "plt.xticks(ticks = [-4, -2, 0, 2, round(z_prop,2)], \n",
    "           labels = [-4, -2, 0, 2, 'z_test = '+str(round(z_prop,2))])\n",
    "\n",
    "# set plot and axes labels\n",
    "# set text size using 'fontsize'\n",
    "plt.xlabel('Z', fontsize = 15)\n",
    "plt.ylabel('Probability', fontsize = 15)\n",
    "plt.title('Right-Tailed Test', fontsize = 15)\n",
    "\n",
    "# display the plot\n",
    "plt.show()"
   ]
  },
  {
   "cell_type": "markdown",
   "metadata": {
    "id": "s-ZF2vRCjUOt"
   },
   "source": [
    "The above plot shows that the test statistic value is in the rejection region, which implies we reject $H_{0}$ and conclude the percentage of male students scoring more than 50 marks in Mathematics is more than 80%."
   ]
  },
  {
   "cell_type": "markdown",
   "metadata": {
    "id": "CjjxOuZ6jUOt"
   },
   "source": [
    "#### 2. From a sample of 361 business owners had gone into bankruptcy due to recession. On taking a survey, it was found that 105 of them had not consulted any professional for managing their finance before opening the business. Test the null hypothesis that at most 25% of all businesses had not consulted before opening the business. Test the claim using p-value technique. Use α = 0.05."
   ]
  },
  {
   "cell_type": "markdown",
   "metadata": {
    "id": "NNZVOfFHjUOt"
   },
   "source": [
    "The null and alternative hypothesis is:\n",
    "\n",
    "H<sub>0</sub>: $P \\leq 0.25$<br>\n",
    "H<sub>1</sub>: $P > 0.25$ "
   ]
  },
  {
   "cell_type": "code",
   "execution_count": 47,
   "metadata": {
    "id": "-RMWTcS7jUOu",
    "outputId": "1a8d7282-3500-48fe-9681-2945db9847ab"
   },
   "outputs": [
    {
     "name": "stdout",
     "output_type": "stream",
     "text": [
      "Test statistic: 1.7928245201151534\n"
     ]
    }
   ],
   "source": [
    "# sample size\n",
    "n = 361\n",
    "\n",
    "# number of business owners that did not consult before\n",
    "x = 105\n",
    "\n",
    "# sample proportion\n",
    "p_samp = x / n\n",
    "\n",
    "# hypothesized proportion\n",
    "hypo_p = 0.25\n",
    "\n",
    "# calculate test statistic value for 1 sample proportion test\n",
    "z_prop = (p_samp - hypo_p) / np.sqrt((hypo_p * (1 - hypo_p)) / n)\n",
    "\n",
    "print('Test statistic:', z_prop)"
   ]
  },
  {
   "cell_type": "code",
   "execution_count": 48,
   "metadata": {
    "id": "zfNDaLq3jUOv",
    "outputId": "1839939a-46b1-417c-9f73-fb9155b95f0f"
   },
   "outputs": [
    {
     "name": "stdout",
     "output_type": "stream",
     "text": [
      "p-value: 0.03650049373124949\n"
     ]
    }
   ],
   "source": [
    "# calculate the corresponding p-value for the test statistic\n",
    "# use 'sf()' to calculate P(Z > z_prop)\n",
    "p_value = stats.norm.sf(z_prop)\n",
    "\n",
    "print('p-value:', p_value)"
   ]
  },
  {
   "cell_type": "markdown",
   "metadata": {
    "id": "KnZOkCxKjUOx"
   },
   "source": [
    "Here the p-value is less than 0.05. Thus, we reject the null hypothesis and conclude that at least 25% of all businesses had not consulted before starting the business."
   ]
  },
  {
   "cell_type": "markdown",
   "metadata": {
    "id": "da2MCj6mjUOx"
   },
   "source": [
    "<a id=\"2_p\"></a>\n",
    "## 3.2 Two Sample Test"
   ]
  },
  {
   "cell_type": "markdown",
   "metadata": {
    "id": "q88y4I7AjUOz"
   },
   "source": [
    "Perform two sample Z test for the population proportion. We check the equality of population proportions $P_{1}$ and $P_{2}$.\n",
    "\n",
    "The null and alternative hypothesis is given as:\n",
    "\n",
    "<p style='text-indent:25em'> <strong> $H_{0}: P_{1} - P_{2} = P_{0}$ or $P_{1} - P_{2} \\geq P_{0}$ or $P_{1} - P_{2} \\leq P_{0}$</strong></p>\n",
    "<p style='text-indent:25em'> <strong> $H_{1}: P_{1} - P_{2} \\neq P_{0}$ or $P_{1} - P_{2} < P_{0}$ or $P_{1} - P_{2} > P_{0}$</strong></p>"
   ]
  },
  {
   "cell_type": "markdown",
   "metadata": {
    "id": "5FLa5YnSjUOz"
   },
   "source": [
    "The test statistic for two sample proportion Z-test is given as:\n",
    "<p style='text-indent:25em'> <strong> $Z = \\frac{(p_{1} -  p_{2}) - P_{0}}{\\sqrt{\\bar{P}(1-\\bar{P})(\\frac{1}{n_{1}} + \\frac{1}{n_{2}})}}$   $\\hspace{2 cm} \\bar{P} = \\frac{n_{1}p_{1} + n_{2}p_{2}}{n_{1} + n_{2}}$ </strong></p>\n",
    "\n",
    "Where, <br>\n",
    "$p_{1}, p_{2}$: Samples proportions<br>\n",
    "$P_{0}$: Hypothesized proportion<br>\n",
    "$\\bar{P}$: Proportion of pooled sample<br>\n",
    "$n_{1}, n_{2}$: Samples sizes"
   ]
  },
  {
   "cell_type": "markdown",
   "metadata": {
    "id": "_Nnef7g_jUO0"
   },
   "source": [
    "### Example:\n",
    "\n",
    "#### 1. A team of nutritionists believes that each institute provides 'standard' lunch to an equal proportion of students. A sample of students from institutes <i>Nature Learning</i> and <i>Speak Global Learning</i> is given. Consider the null hypothesis as equality of proportion with 0.1 level of significance.\n",
    "\n",
    "Consider the sample data available in the CSV file `StudentsPerformance.csv`."
   ]
  },
  {
   "cell_type": "code",
   "execution_count": 49,
   "metadata": {
    "id": "9D6_FJWsjUO0",
    "outputId": "2ff2cc81-91db-4cee-c5cf-28587e38f078",
    "scrolled": false
   },
   "outputs": [
    {
     "data": {
      "text/html": [
       "<div>\n",
       "<style scoped>\n",
       "    .dataframe tbody tr th:only-of-type {\n",
       "        vertical-align: middle;\n",
       "    }\n",
       "\n",
       "    .dataframe tbody tr th {\n",
       "        vertical-align: top;\n",
       "    }\n",
       "\n",
       "    .dataframe thead th {\n",
       "        text-align: right;\n",
       "    }\n",
       "</style>\n",
       "<table border=\"1\" class=\"dataframe\">\n",
       "  <thead>\n",
       "    <tr style=\"text-align: right;\">\n",
       "      <th></th>\n",
       "      <th>gender</th>\n",
       "      <th>race/ethnicity</th>\n",
       "      <th>lunch</th>\n",
       "      <th>test preparation course</th>\n",
       "      <th>math score</th>\n",
       "      <th>reading score</th>\n",
       "      <th>writing score</th>\n",
       "      <th>total score</th>\n",
       "      <th>training institute</th>\n",
       "    </tr>\n",
       "  </thead>\n",
       "  <tbody>\n",
       "    <tr>\n",
       "      <th>0</th>\n",
       "      <td>female</td>\n",
       "      <td>group B</td>\n",
       "      <td>standard</td>\n",
       "      <td>none</td>\n",
       "      <td>89</td>\n",
       "      <td>55</td>\n",
       "      <td>56</td>\n",
       "      <td>200</td>\n",
       "      <td>Nature Learning</td>\n",
       "    </tr>\n",
       "    <tr>\n",
       "      <th>1</th>\n",
       "      <td>female</td>\n",
       "      <td>group C</td>\n",
       "      <td>standard</td>\n",
       "      <td>completed</td>\n",
       "      <td>55</td>\n",
       "      <td>63</td>\n",
       "      <td>72</td>\n",
       "      <td>190</td>\n",
       "      <td>Nature Learning</td>\n",
       "    </tr>\n",
       "  </tbody>\n",
       "</table>\n",
       "</div>"
      ],
      "text/plain": [
       "   gender race/ethnicity     lunch test preparation course  math score  \\\n",
       "0  female        group B  standard                    none          89   \n",
       "1  female        group C  standard               completed          55   \n",
       "\n",
       "   reading score  writing score  total score training institute  \n",
       "0             55             56          200    Nature Learning  \n",
       "1             63             72          190    Nature Learning  "
      ]
     },
     "execution_count": 49,
     "metadata": {},
     "output_type": "execute_result"
    }
   ],
   "source": [
    "# read the students performance data \n",
    "df_student = pd.read_csv('StudentsPerformance.csv')\n",
    "\n",
    "# display the first two observations\n",
    "df_student.head(2)"
   ]
  },
  {
   "cell_type": "code",
   "execution_count": 50,
   "metadata": {
    "id": "FvfqlmoqjUO2",
    "outputId": "2faf6302-3112-4d79-8982-9e1ee80e2fc7"
   },
   "outputs": [
    {
     "data": {
      "text/plain": [
       "array(['Nature Learning', 'Speak Global Learning'], dtype=object)"
      ]
     },
     "execution_count": 50,
     "metadata": {},
     "output_type": "execute_result"
    }
   ],
   "source": [
    "# get the training institutes in the dataframe\n",
    "df_student['training institute'].unique()"
   ]
  },
  {
   "cell_type": "markdown",
   "metadata": {
    "id": "3Tj79EJDjUO4"
   },
   "source": [
    "The dataset contains the information about the students from two different institutes."
   ]
  },
  {
   "cell_type": "code",
   "execution_count": 51,
   "metadata": {
    "id": "Hm3_Ku6ijUO5"
   },
   "outputs": [],
   "source": [
    "# consider the students from Nature Learning institute\n",
    "df_nl = df_student[df_student['training institute'] == 'Nature Learning']\n",
    "\n",
    "# number of students from first institute\n",
    "n_1 = len(df_nl)\n",
    "\n",
    "# number of the students with standard lunch\n",
    "lunch_std_1 = len(df_nl[df_nl['lunch'] == 'standard'])\n",
    "\n",
    "# consider the students from Speak Global Learning institute\n",
    "df_sg = df_student[df_student['training institute'] == 'Speak Global Learning']\n",
    "\n",
    "# number of students from second institute\n",
    "n_2 = len(df_sg)\n",
    "\n",
    "# number of the students with standard lunch\n",
    "lunch_std_2 = len(df_sg[df_sg['lunch'] == 'standard'])"
   ]
  },
  {
   "cell_type": "markdown",
   "metadata": {
    "id": "T12h9nLsjUO7"
   },
   "source": [
    "The null and alternative hypothesis is:\n",
    "\n",
    "H<sub>0</sub>: $P_{1} - P_{2} = 0$<br>\n",
    "H<sub>1</sub>: $P_{1} - P_{2} \\neq 0$ "
   ]
  },
  {
   "cell_type": "markdown",
   "metadata": {
    "id": "Fo9aVaSIjUO8"
   },
   "source": [
    "Here ⍺ = 0.1, for a two-tailed test calculate the critical z-value."
   ]
  },
  {
   "cell_type": "code",
   "execution_count": 52,
   "metadata": {
    "id": "tyY1yBJujUO8",
    "outputId": "9e0dfaf7-81bb-47b2-d1aa-e61277abbe9f"
   },
   "outputs": [
    {
     "name": "stdout",
     "output_type": "stream",
     "text": [
      "Critical value for two-tailed Z-test: 1.64\n"
     ]
    }
   ],
   "source": [
    "# calculate the z-value for 90% of confidence level\n",
    "# use 'stats.norm.isf()' to find the z-value corresponding to the upper tail probability 'q'\n",
    "# pass the value of 'alpha/2' for a two-tailed test to the parameter 'q', here alpha = 0.1\n",
    "# use 'round()' to round-off the value to 2 digits\n",
    "z_val = np.abs(round(stats.norm.isf(q = 0.1/2), 2))\n",
    "\n",
    "print('Critical value for two-tailed Z-test:', z_val)"
   ]
  },
  {
   "cell_type": "markdown",
   "metadata": {
    "id": "9qGuNNnHjUO-"
   },
   "source": [
    "i.e. if z is less than -1.64 or greater than 1.64 then we reject the null hypothesis."
   ]
  },
  {
   "cell_type": "code",
   "execution_count": 53,
   "metadata": {
    "id": "xdkAfYsMjUO-",
    "outputId": "c133aedd-adf3-4118-877e-c3cb507f269a"
   },
   "outputs": [
    {
     "name": "stdout",
     "output_type": "stream",
     "text": [
      "Test statistic: 0.7935300106078008\n",
      "p-value: 0.4274690915859791\n"
     ]
    }
   ],
   "source": [
    "# calculate test statistic value for two sample proportion test\n",
    "# pass the number of students with standard lunch for both the institutes to the parameter, 'count'\n",
    "# pass the size of both the samples to the parameter, 'nobs'\n",
    "z_prop, p_val = sm.stats.proportions_ztest(count = np.array([lunch_std_1, lunch_std_2]), \n",
    "                                             nobs = np.array([n_1, n_2]))\n",
    "\n",
    "# print the value of test statstic and the corresponding p-value\n",
    "print('Test statistic:', z_prop)\n",
    "print('p-value:', p_val)"
   ]
  },
  {
   "cell_type": "code",
   "execution_count": 54,
   "metadata": {
    "id": "Qn0dHfK_jUPA",
    "outputId": "ecd12a88-98dd-4b1d-89df-f50df69ac533",
    "scrolled": true
   },
   "outputs": [
    {
     "name": "stdout",
     "output_type": "stream",
     "text": [
      "90% confidence interval for population proportion is (0.8463611028151683, 0.9051916922158876)\n"
     ]
    }
   ],
   "source": [
    "# proportion of first sameple\n",
    "p_1 = lunch_std_1/ n_1\n",
    "\n",
    "# proportion of first sameple\n",
    "p_2 = lunch_std_2/ n_2\n",
    "\n",
    "# proportion of pooled sample\n",
    "p_bar = (n_1*p_1 + n_2*p_2) / (n_1 + n_2)\n",
    "\n",
    "# calculate the 90% confidence interval\n",
    "# pass the difference in sample proportions to the parameter, 'loc'\n",
    "# pass the scaling factor np.sqrt(p_bar(1-p_bar)(1/n_1 + 1/n_2)) to the parameter, 'scale'\n",
    "a,b = stats.norm.interval(0.9, loc = p_1 - p_2, scale = np.sqrt(p_bar*(1-p_bar)*(1/n_1 + 1/n_2)))\n",
    "\n",
    "print('90% confidence interval for population proportion is', interval)"
   ]
  },
  {
   "cell_type": "markdown",
   "metadata": {
    "id": "5q4npAsWjUPB"
   },
   "source": [
    "Here the z-score is less than 1.64, the p-value is greater than 0.1, also the confidence interval contains the value in the null hypothesis (i.e. 0). Thus, we fail to reject (i.e. accept) the null hypothesis and we do not have enough evidence to conclude that the proportion of students with standard lunch is different."
   ]
  },
  {
   "cell_type": "markdown",
   "metadata": {
    "id": "UOchtr9yjUPC"
   },
   "source": [
    "Let us plot the acceptance and rejection region for a two-tailed test with 90% confidence."
   ]
  },
  {
   "cell_type": "code",
   "execution_count": 55,
   "metadata": {
    "id": "dUP9JNGIjUPC",
    "outputId": "fbff257f-941e-4c27-a249-7faec5949fcb",
    "scrolled": false
   },
   "outputs": [
    {
     "data": {
      "image/png": "[encoded data removed]",
      "text/plain": [
       "<Figure size 1500x800 with 1 Axes>"
      ]
     },
     "metadata": {},
     "output_type": "display_data"
    }
   ],
   "source": [
    "# consider a random variable 'X' that follows a standard normal distribution \n",
    "# pass the required number of observations to the parameter, 'size'\n",
    "# set 'random_state' to obtain the same observations every time you run the code \n",
    "X = stats.norm.rvs(size = 2000000, random_state = 10)\n",
    "\n",
    "# plot the distribution of X\n",
    "# pass the data to the parameter, 'a'\n",
    "# 'hist=False' does not return the histogram \n",
    "# 'cumulative=False' in 'kde_kws' does not return the cumulative kernel density estimator\n",
    "ax = sns.distplot(a = X, hist = False, kde_kws = dict(cumulative=False))\n",
    "\n",
    "# set the limit for y-axis\n",
    "plt.ylim(0, 0.42)\n",
    "\n",
    "# use 'stats.norm.isf()' to calculate the critical z-value for alpha = 0.1\n",
    "# pass the value of 'alpha/2' to the parameter 'q' for a two-tailed test\n",
    "z = stats.norm.isf(q = 0.1/2)\n",
    "\n",
    "# plot a vertical line at z-value\n",
    "x, y = [z, z], [0, 0.3]\n",
    "plt.plot(x, y, color = 'black')\n",
    "\n",
    "# plot a vertical line at -(z-value)\n",
    "x, y = [-z, -z], [0, 0.3]\n",
    "plt.plot(x, y, color = 'black')\n",
    "\n",
    "# plot a vertical line at z-test value\n",
    "x, y = [z_prop, z_prop], [0, 0.013]\n",
    "plt.plot(x, y, color = 'black')\n",
    "\n",
    "# add the color to the right of the z-value and left of -(z-value)\n",
    "# get the data for x and y axes\n",
    "l1 = ax.lines[0]\n",
    "x1 = l1.get_xydata()[:,0]\n",
    "y1 = l1.get_xydata()[:,1]\n",
    "\n",
    "# fill the color for the region where x-values are greater than the critical z-value\n",
    "# pass the condition to shade the required region\n",
    "# pass the required color to the parameter, 'color'\n",
    "ax.fill_between(x1[x1 >= z], y1[x1 >= z], color = 'lightblue')\n",
    "\n",
    "# fill the color for the region where x-values are less than -(z-value)\n",
    "# pass the condition to shade the required region\n",
    "# pass the required color to the parameter, 'color'\n",
    "ax.fill_between(x1[x1 <= -z], y1[x1 <= -z], color = 'lightblue')\n",
    "\n",
    "# use 'annonate' function to draw an arrow between points xy and xytext\n",
    "# 's' is a argument to write text\n",
    "# we can change the facecolor and arrowstyle; this is only for representation purpose\n",
    "plt.annotate(text = 'Mean (μ)', xy = (0, 0), xytext = (-0.32, 0.04), arrowprops = dict(facecolor = 'black', arrowstyle = 'simple'))\n",
    "\n",
    "plt.annotate(text = 'α/2 = 0.05\\n(Rejection Region for H0)', xy = (2, 0.005), xytext = (2.2, 0.055), \n",
    "             arrowprops = dict(facecolor = 'black', arrowstyle = 'simple'))\n",
    "\n",
    "plt.annotate(text = 'α/2 = 0.05\\n(Rejection Region for H0)', xy = (-2, 0.005), xytext = (-4, 0.055), \n",
    "             arrowprops = dict(facecolor = 'black', arrowstyle = 'simple'))\n",
    "\n",
    "plt.annotate(text = 'z_crit = '+ str(round(z,2)), xy = (z, 0.05), xytext = (z-1.2, 0.07), \n",
    "             arrowprops = dict(facecolor = 'black', arrowstyle = 'simple'))\n",
    "\n",
    "plt.annotate(text = 'z_crit = '+ str(round(-z,2)), xy = (-z, 0.05), xytext = (-z+0.3, 0.07), \n",
    "             arrowprops = dict(facecolor = 'black', arrowstyle = 'simple'))\n",
    "\n",
    "# use below code to print the values in the graph\n",
    "# 'x' and 'y' gives position of the text\n",
    "# 's' is the text \n",
    "plt.text(x = -1.15, y = 0.18, s = 'Acceptance Region for H0 (1 - α)')\n",
    "\n",
    "# assign the x-axis labels\n",
    "# pass the position of labels to the parameter, 'ticks'\n",
    "# pass the required labels to the parameter, 'labels'\n",
    "plt.xticks(ticks = [-6, -4, -2, 0, 2, 4, 6, round(z_prop,2)], \n",
    "           labels = [-6, -4, -2, 0, 2, 4, 6, 'z_test = '+str(round(z_prop,2))])\n",
    "\n",
    "# set plot and axes labels\n",
    "# set text size using 'fontsize'\n",
    "plt.xlabel('Z', fontsize = 15)\n",
    "plt.ylabel('Probability', fontsize = 15)\n",
    "plt.title('Two-Tailed Test', fontsize = 15)\n",
    "\n",
    "# display the plot\n",
    "plt.show()"
   ]
  },
  {
   "cell_type": "markdown",
   "metadata": {
    "id": "CJyUKdlNjUPD"
   },
   "source": [
    "The above plot shows that the test statistic value is in the acceptance region, that implies we fail to reject (i.e. accept) $H_{0}$."
   ]
  },
  {
   "cell_type": "markdown",
   "metadata": {
    "id": "122B7SORjUPD"
   },
   "source": [
    "#### 2. Steve owns a kiosk where he sells two magazines - A and B in a month. He buys 100 copies of magazine A out of which 78 were sold and 70 copies of magazine B out of which 65 were sold. Is there enough evidence to say that magazine is B is more popular? Test the claim using p-value technique with α = 0.05."
   ]
  },
  {
   "cell_type": "markdown",
   "metadata": {
    "id": "IPTLfax0jUPE"
   },
   "source": [
    "The null and alternative hypothesis is:\n",
    "\n",
    "H<sub>0</sub>: $P_{1} \\geq P_{2}$<br>\n",
    "H<sub>1</sub>: $P_{1} < P_{2}$ "
   ]
  },
  {
   "cell_type": "code",
   "execution_count": 56,
   "metadata": {
    "id": "4cPCS0nsjUPE",
    "outputId": "7250c9c6-e7fd-4dc8-aa1e-f09380b4ce50",
    "scrolled": true
   },
   "outputs": [
    {
     "name": "stdout",
     "output_type": "stream",
     "text": [
      "Test statistic: -2.60830803458311\n",
      "p-value: 0.004549551600547303\n"
     ]
    }
   ],
   "source": [
    "# copies of magazine A \n",
    "num_A = 100\n",
    "\n",
    "# copies of magazine B\n",
    "num_B = 70\n",
    "\n",
    "# number of copies sold for magazine A  \n",
    "x_A = 78\n",
    "\n",
    "# number of copies sold for magazine B \n",
    "x_B = 65\n",
    "\n",
    "# calculate test statistic value for two sample proportion test\n",
    "# pass the copies sold for both the magazines to the parameter, 'count'\n",
    "# pass the size of both the samples to the parameter, 'nobs'\n",
    "# pass the one-tailed condition to the parameter, 'alternative'\n",
    "z_prop, p_val = sm.stats.proportions_ztest(count = np.array([x_A, x_B]), \n",
    "                                             nobs = np.array([num_A, num_B]),  \n",
    "                                             alternative = 'smaller')\n",
    "\n",
    "# print the value of test statistic and the corresponding p-value\n",
    "print('Test statistic:', z_prop)\n",
    "print('p-value:', p_val)"
   ]
  },
  {
   "cell_type": "markdown",
   "metadata": {
    "id": "lHziyVGXjUPF"
   },
   "source": [
    "Here the p-value is less than 0.05. Thus, we reject the null hypothesis and conclude that there is enough evidence to say that magazine B is more popular."
   ]
  }
 ],
 "metadata": {
  "colab": {
   "name": "SMDM - Faculty Notebook (Session 4).ipynb",
   "provenance": []
  },
  "kernelspec": {
   "display_name": "Python 3 (ipykernel)",
   "language": "python",
   "name": "python3"
  },
  "language_info": {
   "codemirror_mode": {
    "name": "ipython",
    "version": 3
   },
   "file_extension": ".py",
   "mimetype": "text/x-python",
   "name": "python",
   "nbconvert_exporter": "python",
   "pygments_lexer": "ipython3",
   "version": "3.10.7"
  }
 },
 "nbformat": 4,
 "nbformat_minor": 1
}
