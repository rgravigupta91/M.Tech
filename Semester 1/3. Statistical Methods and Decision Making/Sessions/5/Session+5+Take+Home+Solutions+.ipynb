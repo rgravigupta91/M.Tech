{
 "cells": [
  {
   "cell_type": "markdown",
   "metadata": {},
   "source": [
    "<table align=\"center\" width=100%>\n",
    "    <tr>\n",
    "        <td width=\"15%\">\n",
    "            <img src=\"homework.png\">\n",
    "        </td>\n",
    "        <td>\n",
    "            <div align=\"center\">\n",
    "                <font color=\"#21618C\" size=8px>\n",
    "                    <b> Take-Home <br>(Session 5)\n",
    "                    </b>\n",
    "                </font>\n",
    "            </div>\n",
    "        </td>\n",
    "    </tr>\n",
    "</table>"
   ]
  },
  {
   "cell_type": "markdown",
   "metadata": {},
   "source": [
    "**Import the required libraries**"
   ]
  },
  {
   "cell_type": "code",
   "execution_count": 1,
   "metadata": {},
   "outputs": [],
   "source": [
    "# import 'pandas' \n",
    "import pandas as pd \n",
    "\n",
    "# import 'numpy' \n",
    "import numpy as np\n",
    "\n",
    "# import subpackage of matplotlib\n",
    "import matplotlib.pyplot as plt\n",
    "\n",
    "# import 'seaborn'\n",
    "import seaborn as sns\n",
    "\n",
    "# to suppress warnings \n",
    "from warnings import filterwarnings\n",
    "filterwarnings('ignore')\n",
    "\n",
    "# import statsmodels\n",
    "import statsmodels.api as sm\n",
    "\n",
    "# import 'stats' package from scipy library\n",
    "from scipy import stats\n",
    "\n",
    "# import statistics to perform statistical computations\n",
    "import statistics\n",
    "\n",
    "# to test the normality \n",
    "from scipy.stats import shapiro\n",
    "\n",
    "# import a library to perform Z-test\n",
    "from statsmodels.stats import weightstats as stests"
   ]
  },
  {
   "cell_type": "code",
   "execution_count": 2,
   "metadata": {},
   "outputs": [],
   "source": [
    "# set the plot size using 'rcParams'\n",
    "# once the plot size is set using 'rcParams', it sets the size of all the forthcoming plots in the file\n",
    "# pass width and height in inches to 'figure.figsize' \n",
    "plt.rcParams['figure.figsize'] = [15,8]"
   ]
  },
  {
   "cell_type": "markdown",
   "metadata": {},
   "source": [
    "### Let's begin with some hands-on practice exercises"
   ]
  },
  {
   "cell_type": "markdown",
   "metadata": {
    "collapsed": true
   },
   "source": [
    "<table align=\"left\">\n",
    "    <tr>\n",
    "        <td width=\"6%\">\n",
    "            <img src=\"question_icon.png\">\n",
    "        </td>\n",
    "        <td>\n",
    "            <div align=\"left\", style=\"font-size:120%\">\n",
    "                <font color=\"#21618C\">\n",
    "                    <b>1. The economic journal claims that the students who graduated from tier 1 universities get more salary than the average salary of 35000$. A random sample of 20 graduated students is selected to test the claim. Use p-value criteria to test the claim with 0.1 as a level of significance.\n",
    "</b>\n",
    "                </font>\n",
    "            </div>\n",
    "        </td>\n",
    "    </tr>\n",
    "</table>"
   ]
  },
  {
   "cell_type": "markdown",
   "metadata": {},
   "source": [
    "Use the data given below:\n",
    "\n",
    "        salary = [29560, 26534, 31020, 44300, 52335, 69190, 71100, 80100, 90000, 41002, 46118, 88129, 79713, 95881, 47989,\n",
    "                  15188, 91631, 96189, 77819, 79590]"
   ]
  },
  {
   "cell_type": "markdown",
   "metadata": {},
   "source": [
    "As the sample size is less (< 30) and the population standard deviation is unknown; we use the one sample t-test for population mean."
   ]
  },
  {
   "cell_type": "code",
   "execution_count": 3,
   "metadata": {},
   "outputs": [
    {
     "name": "stdout",
     "output_type": "stream",
     "text": [
      "Degrees of freedom: 19\n"
     ]
    }
   ],
   "source": [
    "# consider a list of salary\n",
    "salary = [29560, 26534, 31020, 44300, 52335, 69190, 71100, 80100, 90000, 41002, 46118, 88129, 79713, 95881, 47989, 15188,\n",
    "          91631, 96189, 77819, 79590]\n",
    "\n",
    "# calculate sample mean\n",
    "sample_avg = np.mean(salary)\n",
    "\n",
    "# calculate sample standard deviation\n",
    "sample_std = statistics.stdev(salary)\n",
    "\n",
    "# sample size\n",
    "n = len(salary)\n",
    "\n",
    "# degrees of freedom for 1 sample t-test\n",
    "print('Degrees of freedom:', n - 1)"
   ]
  },
  {
   "cell_type": "markdown",
   "metadata": {},
   "source": [
    "Let us check the normality of the data."
   ]
  },
  {
   "cell_type": "code",
   "execution_count": 4,
   "metadata": {},
   "outputs": [
    {
     "name": "stdout",
     "output_type": "stream",
     "text": [
      "Test statistic: 0.9203506112098694\n",
      "P-Value: 0.1006370484828949\n"
     ]
    }
   ],
   "source": [
    "# perform Shapiro-Wilk test to test the normality\n",
    "# shapiro() returns a tuple having the values of test statistics and the corresponding p-value\n",
    "# pass the salaries to perform the test\n",
    "stat, p_value = shapiro(salary)\n",
    "\n",
    "# print the test statistic and corresponding p-value \n",
    "print('Test statistic:', stat)\n",
    "print('P-Value:', p_value)"
   ]
  },
  {
   "cell_type": "markdown",
   "metadata": {},
   "source": [
    "From the above result, we can see that the p-value is greater than 0.05, thus we can say that the data is normally distributed."
   ]
  },
  {
   "cell_type": "markdown",
   "metadata": {},
   "source": [
    "The null and alternative hypothesis is:\n",
    "\n",
    "H<sub>0</sub>: $\\mu \\leq 35000$<br>\n",
    "H<sub>1</sub>: $\\mu > 35000$"
   ]
  },
  {
   "cell_type": "code",
   "execution_count": 5,
   "metadata": {},
   "outputs": [],
   "source": [
    "# use 'ttest_1samp()' to calculate the test statistic and corresponding p-value for 2-tailed test\n",
    "# pass the sample data to the parameter, 'a'\n",
    "# pass the average value in the null hypothesis to the parameter, 'popmean'\n",
    "t_stat, p_val = stats.ttest_1samp(a = salary, popmean = 35000)"
   ]
  },
  {
   "cell_type": "markdown",
   "metadata": {},
   "source": [
    "In our example, the hypothesis test is one-tailed. Thus, we divide the two-tailed probability by 2 to obtain the one-tailed probability."
   ]
  },
  {
   "cell_type": "code",
   "execution_count": 6,
   "metadata": {},
   "outputs": [
    {
     "name": "stdout",
     "output_type": "stream",
     "text": [
      "Test Statistic: 4.777624690114069\n",
      "p-value: 6.544700826360017e-05\n"
     ]
    }
   ],
   "source": [
    "# divide the p-value by 2\n",
    "req_p_val = p_val/2\n",
    "\n",
    "# print the test statistic value and corresponding p-value\n",
    "print('Test Statistic:', t_stat)\n",
    "print('p-value:', req_p_val)"
   ]
  },
  {
   "cell_type": "markdown",
   "metadata": {},
   "source": [
    "We can see that the p-value is less than 0.1. Thus, we reject the null hypothesis and there is enough evidence to conclude that the students who graduated from tier 1 universities get more salary than 35000$."
   ]
  },
  {
   "cell_type": "markdown",
   "metadata": {
    "collapsed": true
   },
   "source": [
    "<table align=\"left\">\n",
    "    <tr>\n",
    "        <td width=\"6%\">\n",
    "            <img src=\"question_icon.png\">\n",
    "        </td>\n",
    "        <td>\n",
    "            <div align=\"left\", style=\"font-size:120%\">\n",
    "                <font color=\"#21618C\">\n",
    "                    <b>2. Amy and Susan are national level swimmers. Their coach conducts five rounds each of 400 m and records the time taken by the individuals. Perform a two sample t-test by plotting the acceptance and rejection regions to test whether there is any difference between the average time taken by Amy and Susan. Use 0.05 as a level of significance.</b>\n",
    "                </font>\n",
    "            </div>\n",
    "        </td>\n",
    "    </tr>\n",
    "</table>"
   ]
  },
  {
   "cell_type": "markdown",
   "metadata": {},
   "source": [
    "Use the timing (in minutes) given below:\n",
    "\n",
    "        Amy_time = [4.2, 3, 3.8, 5, 4.6]\n",
    "        Susan_time = [5.2, 4.6, 3.9, 4.4, 5]"
   ]
  },
  {
   "cell_type": "code",
   "execution_count": 7,
   "metadata": {},
   "outputs": [],
   "source": [
    "# given data\n",
    "Amy_time = [4.2, 3, 3.8, 5, 4.6]\n",
    "Susan_time = [5.2, 4.6, 3.9, 4.4, 5]\n",
    "\n",
    "# time taken by both the swimmers\n",
    "time = [4.2, 3, 3.8, 5, 4.6, 5.2, 4.6, 3.9, 4.4, 5]"
   ]
  },
  {
   "cell_type": "markdown",
   "metadata": {},
   "source": [
    "Let us check the normality of the time taken by Amy and Susan."
   ]
  },
  {
   "cell_type": "code",
   "execution_count": 8,
   "metadata": {},
   "outputs": [
    {
     "name": "stdout",
     "output_type": "stream",
     "text": [
      "Test statistic: 0.9408392906188965\n",
      "P-Value: 0.5623903870582581\n"
     ]
    }
   ],
   "source": [
    "# perform Shapiro-Wilk test to test the normality\n",
    "# shapiro() returns a tuple having the values of test statistics and the corresponding p-value\n",
    "stat, p_value = shapiro(time)\n",
    "\n",
    "# print the test statistic and corresponding p-value \n",
    "print('Test statistic:', stat)\n",
    "print('P-Value:', p_value)"
   ]
  },
  {
   "cell_type": "markdown",
   "metadata": {},
   "source": [
    "From the above result, we can see that the p-value is greater than 0.05, thus we can say that the time taken by both the swimmers is normally distributed."
   ]
  },
  {
   "cell_type": "markdown",
   "metadata": {},
   "source": [
    "Let us check the equality of variances."
   ]
  },
  {
   "cell_type": "code",
   "execution_count": 9,
   "metadata": {},
   "outputs": [
    {
     "name": "stdout",
     "output_type": "stream",
     "text": [
      "Test statistic: 0.5586206896551716\n",
      "P-Value: 0.47620846378024845\n"
     ]
    }
   ],
   "source": [
    "# perform Levene's test\n",
    "# levene() returns a tuple having the values of test statistics and the corresponding p-value\n",
    "stat, p_value = stats.levene(Amy_time, Susan_time)\n",
    "\n",
    "# print the test statistic and corresponding p-value \n",
    "print('Test statistic:', stat)\n",
    "print('P-Value:', p_value)"
   ]
  },
  {
   "cell_type": "markdown",
   "metadata": {},
   "source": [
    "From the above result, we can see that the p-value is greater than 0.05, thus we can say that the population variances are equal."
   ]
  },
  {
   "cell_type": "markdown",
   "metadata": {},
   "source": [
    "The null and alternative hypothesis is:\n",
    "\n",
    "H<sub>0</sub>: There is no difference between the average time taken by Amy and Susan ($\\mu_{1} - \\mu_{2} = 0$)<br>\n",
    "H<sub>1</sub>: There is difference between the average time taken by Amy and Susan ($\\mu_{1} - \\mu_{2} \\neq 0$)"
   ]
  },
  {
   "cell_type": "code",
   "execution_count": 10,
   "metadata": {},
   "outputs": [
    {
     "name": "stdout",
     "output_type": "stream",
     "text": [
      "Degrees of freedom: 8\n"
     ]
    }
   ],
   "source": [
    "# size of first sample\n",
    "n_1 = len(Amy_time)\n",
    "\n",
    "# size of second sample\n",
    "n_2 = len(Susan_time)\n",
    "\n",
    "# degrees of freedom for 2 sample t-test\n",
    "print('Degrees of freedom:', n_1 + n_2 - 2)"
   ]
  },
  {
   "cell_type": "code",
   "execution_count": 11,
   "metadata": {
    "scrolled": true
   },
   "outputs": [],
   "source": [
    "# use 'ttest_ind()' to calculate the test statistic and corresponding p-value for 2 sample test\n",
    "# pass the sample data to the parameter, 'a' and 'b'\n",
    "t_stat, p_val = stats.ttest_ind(a = Amy_time, b = Susan_time)"
   ]
  },
  {
   "cell_type": "markdown",
   "metadata": {},
   "source": [
    "Let us plot the acceptance and rejection region for a two-tailed test with 95% confidence."
   ]
  },
  {
   "cell_type": "code",
   "execution_count": 12,
   "metadata": {
    "scrolled": false
   },
   "outputs": [
    {
     "data": {
      "image/png": "[encoded data removed]",
      "text/plain": [
       "<Figure size 1080x576 with 1 Axes>"
      ]
     },
     "metadata": {
      "needs_background": "light"
     },
     "output_type": "display_data"
    }
   ],
   "source": [
    "# consider a random variable 'X' that follows a t-distribution with 31 degrees of freedom\n",
    "# pass the degrees of freedom to the parameter, 'df'\n",
    "# pass the required number of observations to the parameter, 'size'\n",
    "# set 'random_state' to obtain the same observations every time you run the code \n",
    "X = stats.t.rvs(df = 8, size = 2000000, random_state = 15)\n",
    "\n",
    "# plot the distribution of X\n",
    "# pass the data to the parameter, 'a'\n",
    "# 'hist=False' does not return the histogram \n",
    "# 'cumulative=False' in 'kde_kws' does not return the cumulative kernel density estimator\n",
    "ax = sns.distplot(a = X, hist = False, kde_kws = dict(cumulative=False))\n",
    "\n",
    "# set the limit for y-axis\n",
    "plt.ylim(0, 0.42)\n",
    "\n",
    "# use 'stats.t.isf()' to find the t-value for alpha = 0.05\n",
    "# pass the value of 'alpha/2' to the parameter 'q' for a two tailed test\n",
    "# pass the degrees of freedom to the parameter, 'df' \n",
    "t = stats.t.isf(q = 0.05/2, df = 31)\n",
    "\n",
    "# plot a vertical line at t-value\n",
    "x, y = [t, t], [0, 0.3]\n",
    "plt.plot(x, y, color = 'black')\n",
    "\n",
    "# plot a vertical line at -(t-value)\n",
    "x, y = [-t, -t], [0, 0.3]\n",
    "plt.plot(x, y, color = 'black')\n",
    "\n",
    "# plot a vertical line at test statistic value\n",
    "x, y = [t_stat, t_stat], [0, 0.04]\n",
    "plt.plot(x, y, color = 'black')\n",
    "\n",
    "# add the color to the right of the t-value and left of the -(t-value)\n",
    "# get the data for x and y axes\n",
    "l1 = ax.lines[0]\n",
    "x1 = l1.get_xydata()[:,0]\n",
    "y1 = l1.get_xydata()[:,1]\n",
    "\n",
    "# fill the color for the region where x-values are greater than the critical t-value\n",
    "# pass the condition to shade the required region\n",
    "# pass the required color to the parameter, 'color'\n",
    "ax.fill_between(x1[x1 >= t], y1[x1 >= t], color = 'lightblue')\n",
    "\n",
    "# fill the color for the region where x-values are less than -(t-value)\n",
    "# pass the condition to shade the required region\n",
    "# pass the required color to the parameter, 'color'\n",
    "ax.fill_between(x1[x1 <= -t], y1[x1 <= -t], color = 'lightblue')\n",
    "\n",
    "# use 'annonate' function to draw an arrow between points xy and xytext\n",
    "# 's' is a argument to write text\n",
    "# we can change the facecolor and arrowstyle; this is only for representation purpose\n",
    "plt.annotate(s = 'α/2 = 0.025\\n(Rejection Region for H0)', xy = (2.5, 0.004), xytext = (2.8, 0.055), \n",
    "             arrowprops = dict(facecolor = 'black', arrowstyle = 'simple'))\n",
    "\n",
    "plt.annotate(s = 'α/2 = 0.025\\n(Rejection Region for H0)', xy = (-2.5, 0.004), xytext = (-7.5, 0.055), \n",
    "             arrowprops = dict(facecolor = 'black', arrowstyle = 'simple'))\n",
    "\n",
    "plt.annotate(s = 't_crit = '+ str(round(t,2)), xy = (t, 0.2), xytext = (t+0.3, 0.23), \n",
    "             arrowprops = dict(facecolor = 'black', arrowstyle = 'simple'))\n",
    "\n",
    "plt.annotate(s = 't_crit = '+ str(round(-t,2)), xy = (-t, 0.2), xytext = (-t-3.3, 0.23), \n",
    "             arrowprops = dict(facecolor = 'black', arrowstyle = 'simple'))\n",
    "\n",
    "# use below code to print the values in the graph\n",
    "# 'x' and 'y' gives position of the text\n",
    "# 's' is the text \n",
    "plt.text(x = -1.55, y = 0.08, s = 'Acceptance Region \\n for H0 (1 - α)')\n",
    "\n",
    "# assign the x-axis labels\n",
    "# pass the position of labels to the parameter, 'ticks'\n",
    "# pass the required labels to the parameter, 'labels'\n",
    "plt.xticks(ticks = [-10, -8, -6, -4, 2, 4, 6, 8, 10, round(t_stat,2)], \n",
    "           labels = [-10, -8, -6, -4, 2, 4, 6, 8, 10, 't_test = '+str(round(t_stat,2))])\n",
    "\n",
    "# set plot and axes labels\n",
    "# set text size using 'fontsize'\n",
    "plt.xlabel('t', fontsize = 15)\n",
    "plt.ylabel('Probability', fontsize = 15)\n",
    "plt.title('Two-Tailed Test', fontsize = 15)\n",
    "\n",
    "# display the plot\n",
    "plt.show()"
   ]
  },
  {
   "cell_type": "markdown",
   "metadata": {},
   "source": [
    "The above plot shows that the test statistic value is in the acceptance region, that implies we fail to reject (i.e. accept) $H_{0}$ and conclude that there is no difference between the average time taken by Amy and Susan."
   ]
  },
  {
   "cell_type": "markdown",
   "metadata": {
    "collapsed": true
   },
   "source": [
    "<table align=\"left\">\n",
    "    <tr>\n",
    "        <td width=\"6%\">\n",
    "            <img src=\"question_icon.png\">\n",
    "        </td>\n",
    "        <td>\n",
    "            <div align=\"left\", style=\"font-size:120%\">\n",
    "                <font color=\"#21618C\">\n",
    "                    <b>3. A multinational company had organized a presentation activity to test the soft skills of their 6 sales executives and then offered them a skill development course. After the completion of the course, the executives again appeared for the presentation and the scores before and after the course are recorded. Test the company's claim that the course was effective in developing soft skills with 90% confidence using the p-value technique.</b>\n",
    "                </font>\n",
    "            </div>\n",
    "        </td>\n",
    "    </tr>\n",
    "</table>"
   ]
  },
  {
   "cell_type": "markdown",
   "metadata": {},
   "source": [
    "Consider the scores given in the file `paired_data.xlsx`"
   ]
  },
  {
   "cell_type": "code",
   "execution_count": 13,
   "metadata": {},
   "outputs": [
    {
     "data": {
      "text/html": [
       "<div>\n",
       "<style scoped>\n",
       "    .dataframe tbody tr th:only-of-type {\n",
       "        vertical-align: middle;\n",
       "    }\n",
       "\n",
       "    .dataframe tbody tr th {\n",
       "        vertical-align: top;\n",
       "    }\n",
       "\n",
       "    .dataframe thead th {\n",
       "        text-align: right;\n",
       "    }\n",
       "</style>\n",
       "<table border=\"1\" class=\"dataframe\">\n",
       "  <thead>\n",
       "    <tr style=\"text-align: right;\">\n",
       "      <th></th>\n",
       "      <th>before_score</th>\n",
       "      <th>after_score</th>\n",
       "    </tr>\n",
       "  </thead>\n",
       "  <tbody>\n",
       "    <tr>\n",
       "      <th>0</th>\n",
       "      <td>23</td>\n",
       "      <td>32</td>\n",
       "    </tr>\n",
       "    <tr>\n",
       "      <th>1</th>\n",
       "      <td>38</td>\n",
       "      <td>36</td>\n",
       "    </tr>\n",
       "  </tbody>\n",
       "</table>\n",
       "</div>"
      ],
      "text/plain": [
       "   before_score  after_score\n",
       "0            23           32\n",
       "1            38           36"
      ]
     },
     "execution_count": 13,
     "metadata": {},
     "output_type": "execute_result"
    }
   ],
   "source": [
    "# read the excel file\n",
    "df_score = pd.read_excel('paired_data.xlsx')\n",
    "\n",
    "# print the first two observations\n",
    "df_score.head(2)"
   ]
  },
  {
   "cell_type": "markdown",
   "metadata": {},
   "source": [
    "Let us check the normality of the scores before the skill development course."
   ]
  },
  {
   "cell_type": "code",
   "execution_count": 14,
   "metadata": {},
   "outputs": [
    {
     "name": "stdout",
     "output_type": "stream",
     "text": [
      "Test statistic: 0.9983048439025879\n",
      "P-Value: 0.999838650226593\n"
     ]
    }
   ],
   "source": [
    "# perform Shapiro-Wilk test to test the normality\n",
    "# shapiro() returns a tuple having the values of test statistics and the corresponding p-value\n",
    "# pass the  scores before the skill development course to perform the test\n",
    "stat, p_value = shapiro(df_score['before_score'])\n",
    "\n",
    "# print the test statistic and corresponding p-value \n",
    "print('Test statistic:', stat)\n",
    "print('P-Value:', p_value)"
   ]
  },
  {
   "cell_type": "markdown",
   "metadata": {},
   "source": [
    "From the above result, we can see that the p-value is greater than 0.05, thus we can say that the scores before the skill development course are normally distributed."
   ]
  },
  {
   "cell_type": "markdown",
   "metadata": {},
   "source": [
    "Let us check the normality of the scores after the skill development course."
   ]
  },
  {
   "cell_type": "code",
   "execution_count": 15,
   "metadata": {},
   "outputs": [
    {
     "name": "stdout",
     "output_type": "stream",
     "text": [
      "Test statistic: 0.903013288974762\n",
      "P-Value: 0.39204761385917664\n"
     ]
    }
   ],
   "source": [
    "# perform Shapiro-Wilk test to test the normality\n",
    "# shapiro() returns a tuple having the values of test statistics and the corresponding p-value\n",
    "# pass the scores after the skill development course to perform the test\n",
    "stat, p_value = shapiro(df_score['after_score'])\n",
    "\n",
    "# print the test statistic and corresponding p-value \n",
    "print('Test statistic:', stat)\n",
    "print('P-Value:', p_value)"
   ]
  },
  {
   "cell_type": "markdown",
   "metadata": {},
   "source": [
    "From the above result, we can see that the p-value is greater than 0.05, thus we can say that the scores after the skill development course are normally distributed."
   ]
  },
  {
   "cell_type": "markdown",
   "metadata": {},
   "source": [
    "The null and alternative hypothesis is:\n",
    "\n",
    "H<sub>0</sub>: The skill development course was not effective in developing the soft skills ($\\mu_{d} \\leq 0$)<br>\n",
    "H<sub>1</sub>: The skill development course was effective in developing the soft skills ($\\mu_{d} > 0$)"
   ]
  },
  {
   "cell_type": "code",
   "execution_count": 16,
   "metadata": {},
   "outputs": [
    {
     "name": "stdout",
     "output_type": "stream",
     "text": [
      "p-value: 0.03993727174744146\n"
     ]
    }
   ],
   "source": [
    "# use 'ttest_rel()' to calculate the t-statistic and corresponding p-value for paired samples\n",
    "# pass the after and before scores to the function\n",
    "t_stat, p_val = stats.ttest_rel(df_score['after_score'], df_score['before_score'])\n",
    "\n",
    "# print the p-value \n",
    "print(\"p-value:\", p_val)"
   ]
  },
  {
   "cell_type": "markdown",
   "metadata": {},
   "source": [
    "We can see that the p-value is less than 0.1. Thus, we reject the null hypothesis and conclude that the skill development course was effective in developing soft skills of sales executives."
   ]
  },
  {
   "cell_type": "markdown",
   "metadata": {
    "collapsed": true
   },
   "source": [
    "<table align=\"left\">\n",
    "    <tr>\n",
    "        <td width=\"6%\">\n",
    "            <img src=\"question_icon.png\">\n",
    "        </td>\n",
    "        <td>\n",
    "            <div align=\"left\", style=\"font-size:120%\">\n",
    "                <font color=\"#21618C\">\n",
    "                    <b>4. A survey conducted by the department of education states that the proportion of students who quit education due to financial crisis is more than 38%. To test this claim a group of 450 students is selected out of which 205 are found to be dropped out from school due to financial crisis. Test the claim using a critical value method with 95% confidence. </b>\n",
    "                </font>\n",
    "            </div>\n",
    "        </td>\n",
    "    </tr>\n",
    "</table>"
   ]
  },
  {
   "cell_type": "markdown",
   "metadata": {},
   "source": [
    "The null and alternative hypothesis is:\n",
    "\n",
    "H<sub>0</sub>: $P \\leq 0.38$<br>\n",
    "H<sub>1</sub>: $P > 0.38$ "
   ]
  },
  {
   "cell_type": "markdown",
   "metadata": {},
   "source": [
    "Here ⍺ = 0.05, for a one-tailed test calculate the critical z-value."
   ]
  },
  {
   "cell_type": "code",
   "execution_count": 17,
   "metadata": {},
   "outputs": [
    {
     "name": "stdout",
     "output_type": "stream",
     "text": [
      "Critical value for one-tailed Z-test: 1.64\n"
     ]
    }
   ],
   "source": [
    "# calculate the z-value for 95% of confidence level\n",
    "# use 'stats.norm.isf()' to find the z-value corresponding to the upper tail probability 'q'\n",
    "# pass the value of 'alpha' to the parameter 'q', here alpha = 0.05\n",
    "# use 'round()' to round-off the value to 2 digits\n",
    "z_val = np.abs(round(stats.norm.isf(q = 0.05), 2))\n",
    "\n",
    "print('Critical value for one-tailed Z-test:', z_val)"
   ]
  },
  {
   "cell_type": "markdown",
   "metadata": {},
   "source": [
    "i.e. if z is greater than 1.64 then we reject the null hypothesis."
   ]
  },
  {
   "cell_type": "code",
   "execution_count": 18,
   "metadata": {
    "scrolled": true
   },
   "outputs": [
    {
     "name": "stdout",
     "output_type": "stream",
     "text": [
      "Test statistic: 3.3020604315723676\n"
     ]
    }
   ],
   "source": [
    "# sample size\n",
    "n = 450\n",
    "\n",
    "# number of children who quit the school\n",
    "x = 205\n",
    "\n",
    "# sample proportion\n",
    "p_samp = x / n\n",
    "\n",
    "# hypothesized proportion\n",
    "hypo_p = 0.38\n",
    "\n",
    "# calculate test statistic value for 1 sample proportion test\n",
    "z_prop = (p_samp - hypo_p) / np.sqrt((hypo_p * (1 - hypo_p)) / n)\n",
    "\n",
    "print('Test statistic:', z_prop)"
   ]
  },
  {
   "cell_type": "markdown",
   "metadata": {},
   "source": [
    "Here the test statistic is greater than the critical value (= 1.64). Thus, we reject the null hypothesis and conclude that there is enough evidence to state that the proportion of students who quit education due to financial crisis is more than 38%."
   ]
  },
  {
   "cell_type": "markdown",
   "metadata": {
    "collapsed": true
   },
   "source": [
    "<table align=\"left\">\n",
    "    <tr>\n",
    "        <td width=\"6%\">\n",
    "            <img src=\"question_icon.png\">\n",
    "        </td>\n",
    "        <td>\n",
    "            <div align=\"left\", style=\"font-size:120%\">\n",
    "                <font color=\"#21618C\">\n",
    "                    <b>5. Two leading medical institutes CureOn and MedFirst have produced new vaccines on ebola. The vaccine produced by CureOn is given to 252 people in the UK out of which 78 had severe side-effects also the vaccine produced by MedFirst is given to 425 people in the UK out of which 92 had severe side-effects. Can we conclude that the vaccine produced by MedFirst is more reliable? Test the claim using p-value technique with 99% confidence.</b>\n",
    "                </font>\n",
    "            </div>\n",
    "        </td>\n",
    "    </tr>\n",
    "</table>"
   ]
  },
  {
   "cell_type": "markdown",
   "metadata": {},
   "source": [
    "Let us consider the population proportion of people with severe side-effects due to the vaccine produced by CureOn be `P_1` and the population proportion of people with severe side-effects due to the vaccine produced by MedFirst be `P_2`.   \n",
    "\n",
    "The null and alternative hypothesis is:\n",
    "\n",
    "H<sub>0</sub>: $P_{1} \\leq P_{2}$<br>\n",
    "H<sub>1</sub>: $P_{1} > P_{2}$ "
   ]
  },
  {
   "cell_type": "code",
   "execution_count": 19,
   "metadata": {},
   "outputs": [
    {
     "name": "stdout",
     "output_type": "stream",
     "text": [
      "p-value: 0.0034781130027344885\n"
     ]
    }
   ],
   "source": [
    "# vaccine by CureOn tested on 252 people\n",
    "CureOn_size = 252\n",
    "\n",
    "# vaccine by Medfirst tested on 317 people\n",
    "Med_size = 425\n",
    "\n",
    "# number of people with severe side-effects due to CureOn's vaccine  \n",
    "CureOn_eff = 78\n",
    "\n",
    "# number of people with severe side-effects due to MedFirst's vaccine  \n",
    "Med_eff = 92\n",
    "\n",
    "# calculate test statistic value for two sample proportion test\n",
    "# pass the number of people with severe side-effects due to both the vaccines to the parameter, 'count'\n",
    "# pass the size of both the samples to the parameter, 'nobs'\n",
    "# pass the one-tailed condition to the parameter, 'alternative'\n",
    "z_prop, p_val = sm.stats.proportions_ztest(count = np.array([CureOn_eff, Med_eff]), \n",
    "                                             nobs = np.array([CureOn_size, Med_size]),  \n",
    "                                             alternative = 'larger')\n",
    "\n",
    "# print the p-value\n",
    "print('p-value:', p_val)"
   ]
  },
  {
   "cell_type": "markdown",
   "metadata": {},
   "source": [
    "Here the p-value is less than 0.01. Thus, we reject the null hypothesis and conclude that the vaccine produced by MedFirst is more reliable."
   ]
  }
 ],
 "metadata": {
  "kernelspec": {
   "display_name": "Python 3 (ipykernel)",
   "language": "python",
   "name": "python3"
  },
  "language_info": {
   "codemirror_mode": {
    "name": "ipython",
    "version": 3
   },
   "file_extension": ".py",
   "mimetype": "text/x-python",
   "name": "python",
   "nbconvert_exporter": "python",
   "pygments_lexer": "ipython3",
   "version": "3.9.7"
  }
 },
 "nbformat": 4,
 "nbformat_minor": 2
}
