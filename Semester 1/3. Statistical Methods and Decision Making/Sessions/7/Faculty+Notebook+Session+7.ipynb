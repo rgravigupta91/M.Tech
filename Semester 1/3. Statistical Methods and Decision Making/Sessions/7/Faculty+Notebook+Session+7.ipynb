{
 "cells": [
  {
   "cell_type": "markdown",
   "metadata": {
    "id": "Z0TKr5b6BeD_"
   },
   "source": [
    "<table align=\"left\" width=100%>\n",
    "    <tr>\n",
    "        <td width=\"20%\">\n",
    "            <img src=\"faculty.png\">\n",
    "        </td>\n",
    "        <td>\n",
    "            <div align=\"center\">\n",
    "                <font color=\"#21618C\" size=8px>\n",
    "                  <b> Faculty Notebook <br> (Session 7) </b>\n",
    "                </font>\n",
    "            </div>\n",
    "        </td>\n",
    "    </tr>\n",
    "</table>"
   ]
  },
  {
   "cell_type": "markdown",
   "metadata": {
    "id": "ciP05hY6BeEC"
   },
   "source": [
    "## Table of Content\n",
    "\n",
    "1. **[Import Libraries](#lib)**\n",
    "2. **[Chi-Square Test](#chisq)**\n",
    "    - 2.1 - **[Chi-Square Test for Goodness of Fit](#goodness)**\n",
    "    - 2.2 - **[Chi-Square Test for Independence](#ind)**\n",
    "    - 2.3 - **[Chi-Square Test for Equality of Variance](#var)***"
   ]
  },
  {
   "cell_type": "markdown",
   "metadata": {
    "id": "LhlTP32ZBeEC"
   },
   "source": [
    "<a id=\"lib\"></a>\n",
    "# 1. Import Libraries"
   ]
  },
  {
   "cell_type": "markdown",
   "metadata": {
    "id": "Du2Vl_bRBeED"
   },
   "source": [
    "**Let us import the required libraries.**"
   ]
  },
  {
   "cell_type": "code",
   "execution_count": 1,
   "metadata": {
    "id": "lZioFxW4BeED"
   },
   "outputs": [],
   "source": [
    "# import 'pandas' \n",
    "import pandas as pd \n",
    "\n",
    "# import 'numpy' \n",
    "import numpy as np\n",
    "\n",
    "# import subpackage of matplotlib\n",
    "import matplotlib.pyplot as plt\n",
    "\n",
    "# import 'seaborn'\n",
    "import seaborn as sns\n",
    "\n",
    "# to suppress warnings \n",
    "from warnings import filterwarnings\n",
    "filterwarnings('ignore')\n",
    "\n",
    "# import statsmodels\n",
    "import statsmodels.api as sm\n",
    "from statsmodels.formula.api import ols\n",
    "from statsmodels.stats.anova import anova_lm\n",
    "\n",
    "# import 'stats' package from scipy library\n",
    "from scipy import stats\n",
    "\n",
    "# import the functions to perform Chi-square tests\n",
    "from scipy.stats import chi2_contingency\n",
    "from scipy.stats import chi2\n",
    "from scipy.stats import chisquare\n",
    "\n",
    "# function to perform post-hoc test\n",
    "import statsmodels.stats.multicomp as mc\n",
    "\n",
    "# import function to perform post-hoc\n",
    "# install scikit_posthocs using \"!pip install scikit_posthocs\" \n",
    "import scikit_posthocs"
   ]
  },
  {
   "cell_type": "code",
   "execution_count": 2,
   "metadata": {
    "id": "LJPGJoW0BeEE"
   },
   "outputs": [],
   "source": [
    "# set the plot size using 'rcParams'\n",
    "# once the plot size is set using 'rcParams', it sets the size of all the forthcoming plots in the file\n",
    "# pass width and height in inches to 'figure.figsize' \n",
    "plt.rcParams['figure.figsize'] = [15,8]"
   ]
  },
  {
   "cell_type": "markdown",
   "metadata": {
    "id": "QC68oVlIBeEF"
   },
   "source": [
    "<a id=\"chisq\"></a>\n",
    "# 2. Chi-Square Test"
   ]
  },
  {
   "cell_type": "markdown",
   "metadata": {
    "id": "dpd6qQhTBeEF"
   },
   "source": [
    "It is a non-parametric test. `Non-parametric tests` do not require any assumptions on the parameter of the population from which the sample is taken. These tests can be applied to the ordinal/ nominal data. A non-parametric test can be performed on the data containing outliers.\n",
    "\n",
    "The chi-square test statistic follows a Chi-square ($\\chi^{2}$) distribution under the null hypothesis. It can be used to check the relationship between the categorical variables. \n",
    "\n",
    "Let us calculate the right-tailed $\\chi^{2}$ values for different levels of significance ($\\alpha$)."
   ]
  },
  {
   "cell_type": "code",
   "execution_count": 3,
   "metadata": {
    "id": "0Op3aqLIBeEG",
    "outputId": "d78493e1-ec40-492f-ad3a-a168c8715778"
   },
   "outputs": [
    {
     "data": {
      "text/html": [
       "<div>\n",
       "<style scoped>\n",
       "    .dataframe tbody tr th:only-of-type {\n",
       "        vertical-align: middle;\n",
       "    }\n",
       "\n",
       "    .dataframe tbody tr th {\n",
       "        vertical-align: top;\n",
       "    }\n",
       "\n",
       "    .dataframe thead th {\n",
       "        text-align: right;\n",
       "    }\n",
       "</style>\n",
       "<table border=\"1\" class=\"dataframe\">\n",
       "  <thead>\n",
       "    <tr style=\"text-align: right;\">\n",
       "      <th></th>\n",
       "      <th>alpha</th>\n",
       "      <th>χ2</th>\n",
       "    </tr>\n",
       "  </thead>\n",
       "  <tbody>\n",
       "    <tr>\n",
       "      <th>0</th>\n",
       "      <td>0.25</td>\n",
       "      <td>12.55</td>\n",
       "    </tr>\n",
       "    <tr>\n",
       "      <th>1</th>\n",
       "      <td>0.10</td>\n",
       "      <td>15.99</td>\n",
       "    </tr>\n",
       "    <tr>\n",
       "      <th>2</th>\n",
       "      <td>0.05</td>\n",
       "      <td>18.31</td>\n",
       "    </tr>\n",
       "    <tr>\n",
       "      <th>3</th>\n",
       "      <td>0.01</td>\n",
       "      <td>23.21</td>\n",
       "    </tr>\n",
       "  </tbody>\n",
       "</table>\n",
       "</div>"
      ],
      "text/plain": [
       "   alpha     χ2\n",
       "0   0.25  12.55\n",
       "1   0.10  15.99\n",
       "2   0.05  18.31\n",
       "3   0.01  23.21"
      ]
     },
     "execution_count": 3,
     "metadata": {},
     "output_type": "execute_result"
    }
   ],
   "source": [
    "# let us find the χ2-values for different alpha values with 10 degrees of freedom\n",
    "\n",
    "# create an empty dataframe to store the alpha and corresponding χ2-value\n",
    "df_χ2 = pd.DataFrame()\n",
    "\n",
    "# create a dictionary of different alpha values\n",
    "alpha =  [0.25, 0.1, 0.05, 0.01] \n",
    "\n",
    "# use for loop to calculate the χ2-value for each alpha value\n",
    "for i in range(len(alpha)):\n",
    "    \n",
    "    # use 'stats.chi2.isf()' to find the χ2-value corresponding to the upper tail probability 'q'\n",
    "    # pass the value of 'alpha' to the parameter 'q'\n",
    "    # pass the 10 degrees of freedom to the parameter 'df' \n",
    "    # use 'round()' to round-off the value to 2 digits\n",
    "    chi_sq = np.abs(round(stats.chi2.isf(q = alpha[i], df = 10), 2))\n",
    "\n",
    "    # create a dataframe using dictionary to store the alpha and corresponding χ2-value\n",
    "    # set the loop iterator 'i' as the index of the dataframe\n",
    "    row =  pd.DataFrame({\"alpha\": alpha[i], \"χ2\": chi_sq}, index = [i])\n",
    "\n",
    "    # append the row to the dataframe 'df_χ2'\n",
    "    df_χ2 = df_χ2.append(row)\n",
    "\n",
    "# print the final dataframe\n",
    "df_χ2"
   ]
  },
  {
   "cell_type": "markdown",
   "metadata": {
    "id": "eV1D0VuXBeEH"
   },
   "source": [
    "Let us study the following tests:<br>\n",
    "$\\bullet$ Chi-square test for goodness of fit<br>\n",
    "$\\bullet$ Chi-square test for independence<br>\n",
    "$\\bullet$ Chi-square test for equality of variance"
   ]
  },
  {
   "cell_type": "markdown",
   "metadata": {
    "id": "HeSNOGC-BeEH"
   },
   "source": [
    "<a id=\"goodness\"></a>\n",
    "## 2.1 Chi-Square Test for Goodness of Fit"
   ]
  },
  {
   "cell_type": "markdown",
   "metadata": {
    "id": "a87UfUPIBeEI"
   },
   "source": [
    "This test is used to compare the distribution of the categorical data with the expected distribution. \n",
    "\n",
    "<p style='text-indent:6em'> <strong> $H_{0}$: There is no significant difference between the observed and expected frequencies from the expected distribution</strong></p>\n",
    "<p style='text-indent:6em'> <strong> $H_{1}$: There is a significant difference between the observed and expected frequencies from the expected distribution</strong></p>"
   ]
  },
  {
   "cell_type": "markdown",
   "metadata": {
    "id": "1ZSj89YpBeEI"
   },
   "source": [
    "The test statistic is given as:\n",
    "<p style='text-indent:25em'> <strong> $\\chi^{2} = \\sum_{i = 1}^{k}\\frac{O_{i}^{2}}{E_{i}} - N$</strong></p>\n",
    "\n",
    "Where, <br>\n",
    "$O_{i}$: Observed frequency for category i <br>\n",
    "$E_{i}$: Expected frequency for category i<br>\n",
    "$N$: Total number of observations\n",
    "\n",
    "Under $H_{0}$, the test statistic follows a chi-square distribution with $(k - p - 1)$ degrees of freedom, where k is the number class frequencies and p is the number of estimated parameters. \n",
    "\n",
    "**Note:** All the expected frequencies should be greater than or equal to 5. If not, add the classes such that each class will have a frequency greater than or equal to 5."
   ]
  },
  {
   "cell_type": "markdown",
   "metadata": {
    "id": "6iEABaxmBeEI"
   },
   "source": [
    "### Example:\n",
    "\n",
    "#### 1. Check whether there is a significant difference between the observed and expected education values or not with 90% confidence. \n",
    "\n",
    "Consider the observed values from the performance dataset of students available in the CSV file `students_data.csv`. Consider the expected values from the demographic data given in the CSV file `demographic_data.csv`."
   ]
  },
  {
   "cell_type": "code",
   "execution_count": 4,
   "metadata": {
    "id": "hdWSrI13BeEI",
    "outputId": "69e82692-d3fd-40a7-87cf-5b943ed75b24",
    "scrolled": false
   },
   "outputs": [
    {
     "data": {
      "text/html": [
       "<div>\n",
       "<style scoped>\n",
       "    .dataframe tbody tr th:only-of-type {\n",
       "        vertical-align: middle;\n",
       "    }\n",
       "\n",
       "    .dataframe tbody tr th {\n",
       "        vertical-align: top;\n",
       "    }\n",
       "\n",
       "    .dataframe thead th {\n",
       "        text-align: right;\n",
       "    }\n",
       "</style>\n",
       "<table border=\"1\" class=\"dataframe\">\n",
       "  <thead>\n",
       "    <tr style=\"text-align: right;\">\n",
       "      <th></th>\n",
       "      <th>gender</th>\n",
       "      <th>ethnicity</th>\n",
       "      <th>education</th>\n",
       "      <th>lunch</th>\n",
       "      <th>test_prep_course</th>\n",
       "      <th>math_score</th>\n",
       "      <th>reading_score</th>\n",
       "      <th>writing_score</th>\n",
       "      <th>total_score</th>\n",
       "      <th>training_institute</th>\n",
       "    </tr>\n",
       "  </thead>\n",
       "  <tbody>\n",
       "    <tr>\n",
       "      <th>0</th>\n",
       "      <td>female</td>\n",
       "      <td>group B</td>\n",
       "      <td>bachelor's degree</td>\n",
       "      <td>standard</td>\n",
       "      <td>none</td>\n",
       "      <td>89</td>\n",
       "      <td>55</td>\n",
       "      <td>56</td>\n",
       "      <td>200</td>\n",
       "      <td>Nature Learning</td>\n",
       "    </tr>\n",
       "    <tr>\n",
       "      <th>1</th>\n",
       "      <td>female</td>\n",
       "      <td>group C</td>\n",
       "      <td>college</td>\n",
       "      <td>standard</td>\n",
       "      <td>completed</td>\n",
       "      <td>55</td>\n",
       "      <td>63</td>\n",
       "      <td>72</td>\n",
       "      <td>190</td>\n",
       "      <td>Nature Learning</td>\n",
       "    </tr>\n",
       "  </tbody>\n",
       "</table>\n",
       "</div>"
      ],
      "text/plain": [
       "   gender ethnicity          education     lunch test_prep_course  math_score  \\\n",
       "0  female   group B  bachelor's degree  standard             none          89   \n",
       "1  female   group C            college  standard        completed          55   \n",
       "\n",
       "   reading_score  writing_score  total_score training_institute  \n",
       "0             55             56          200    Nature Learning  \n",
       "1             63             72          190    Nature Learning  "
      ]
     },
     "execution_count": 4,
     "metadata": {},
     "output_type": "execute_result"
    }
   ],
   "source": [
    "# read the students performance data \n",
    "df_student = pd.read_csv('students_data.csv')\n",
    "\n",
    "# display the first two observations\n",
    "df_student.head(2)"
   ]
  },
  {
   "cell_type": "code",
   "execution_count": 5,
   "metadata": {
    "id": "vVNNcW9EBeEJ",
    "outputId": "d34fffbb-f21d-4d16-a654-00ca77b24d5c"
   },
   "outputs": [
    {
     "data": {
      "text/html": [
       "<div>\n",
       "<style scoped>\n",
       "    .dataframe tbody tr th:only-of-type {\n",
       "        vertical-align: middle;\n",
       "    }\n",
       "\n",
       "    .dataframe tbody tr th {\n",
       "        vertical-align: top;\n",
       "    }\n",
       "\n",
       "    .dataframe thead th {\n",
       "        text-align: right;\n",
       "    }\n",
       "</style>\n",
       "<table border=\"1\" class=\"dataframe\">\n",
       "  <thead>\n",
       "    <tr style=\"text-align: right;\">\n",
       "      <th></th>\n",
       "      <th>education</th>\n",
       "    </tr>\n",
       "  </thead>\n",
       "  <tbody>\n",
       "    <tr>\n",
       "      <th>0</th>\n",
       "      <td>bachelor's degree</td>\n",
       "    </tr>\n",
       "    <tr>\n",
       "      <th>1</th>\n",
       "      <td>college</td>\n",
       "    </tr>\n",
       "  </tbody>\n",
       "</table>\n",
       "</div>"
      ],
      "text/plain": [
       "           education\n",
       "0  bachelor's degree\n",
       "1            college"
      ]
     },
     "execution_count": 5,
     "metadata": {},
     "output_type": "execute_result"
    }
   ],
   "source": [
    "# read the demographic data \n",
    "df_demographic = pd.read_csv('demographic_data.csv')\n",
    "\n",
    "# display the first two observations\n",
    "df_demographic.head(2)"
   ]
  },
  {
   "cell_type": "markdown",
   "metadata": {
    "id": "ftNMpUWYBeEJ"
   },
   "source": [
    "The null and alternative hypothesis is:\n",
    "\n",
    "H<sub>0</sub>: There is no significant difference between the observed and expected values. <br>\n",
    "H<sub>1</sub>: There is a significant difference between the observed and expected values."
   ]
  },
  {
   "cell_type": "markdown",
   "metadata": {
    "id": "5ByiNmcEBeEJ"
   },
   "source": [
    "Calculate the observed values using the dataframe `df_student`."
   ]
  },
  {
   "cell_type": "code",
   "execution_count": 6,
   "metadata": {
    "id": "Lq9kLcWwBeEJ",
    "outputId": "f0157601-5dfb-42b1-ced4-8b9f9db5a4ef",
    "scrolled": false
   },
   "outputs": [
    {
     "data": {
      "text/plain": [
       "college               225\n",
       "associate's degree    222\n",
       "high school           197\n",
       "Ph.D.                 179\n",
       "bachelor's degree     118\n",
       "master's degree        59\n",
       "Name: education, dtype: int64"
      ]
     },
     "execution_count": 6,
     "metadata": {},
     "output_type": "execute_result"
    }
   ],
   "source": [
    "# use 'value_counts()' to calculate the count for each category in the variable 'education' \n",
    "observed_value = df_student['education'].value_counts()\n",
    "\n",
    "# observed values\n",
    "observed_value"
   ]
  },
  {
   "cell_type": "markdown",
   "metadata": {
    "id": "HUE6wA0yBeEJ"
   },
   "source": [
    "Now let us calculate the expected values using the dataframe `df_demographic`. The dataframe represents the population of the  education level of a student."
   ]
  },
  {
   "cell_type": "code",
   "execution_count": 7,
   "metadata": {
    "id": "9IXlp9e9BeEK",
    "outputId": "617de1a1-b32d-4af5-8c6d-1943fd85bcb2",
    "scrolled": true
   },
   "outputs": [
    {
     "data": {
      "text/plain": [
       "college               1250\n",
       "associate's degree    1200\n",
       "high school           1100\n",
       "Ph.D.                 1050\n",
       "bachelor's degree      940\n",
       "master's degree        600\n",
       "Name: education, dtype: int64"
      ]
     },
     "execution_count": 7,
     "metadata": {},
     "output_type": "execute_result"
    }
   ],
   "source": [
    "# use 'value_counts()' to calculate the count for each category in the variable 'education' \n",
    "exp_count = df_demographic['education'].value_counts()\n",
    "\n",
    "# count of each category\n",
    "exp_count"
   ]
  },
  {
   "cell_type": "code",
   "execution_count": 8,
   "metadata": {
    "id": "gZRWbeNRBeEK"
   },
   "outputs": [],
   "source": [
    "# calculate the expected values for each category\n",
    "# multiply the count by sample size and divide it by total number of observations in the population\n",
    "expected_value = (exp_count * len(df_student)) / len(df_demographic)"
   ]
  },
  {
   "cell_type": "code",
   "execution_count": 9,
   "metadata": {
    "id": "2r5HiSa0BeEK",
    "outputId": "598cf17c-00cf-4d59-e7dd-b5f56bd56f61"
   },
   "outputs": [
    {
     "name": "stdout",
     "output_type": "stream",
     "text": [
      "Observed Values:  [225, 222, 197, 179, 118, 59]\n",
      "Expected Values:  [203.5830618892508, 195.43973941368077, 179.1530944625407, 171.0097719869707, 153.09446254071662, 97.71986970684038]\n"
     ]
    }
   ],
   "source": [
    "# create a list of observed values\n",
    "print(\"Observed Values: \", list(observed_value))\n",
    "\n",
    "# create a list of expected values\n",
    "print(\"Expected Values: \", list(expected_value))"
   ]
  },
  {
   "cell_type": "markdown",
   "metadata": {
    "id": "jYvXjKYPBeEK"
   },
   "source": [
    "For ⍺ = 0.1 and degrees of freedom = 5, calculate the critical value."
   ]
  },
  {
   "cell_type": "code",
   "execution_count": 10,
   "metadata": {
    "id": "r_peOh6GBeEK",
    "outputId": "c2504ae9-f116-40cc-967d-6f6a2c9ce560"
   },
   "outputs": [
    {
     "name": "stdout",
     "output_type": "stream",
     "text": [
      "Critical value for chi-square test: 9.2364\n"
     ]
    }
   ],
   "source": [
    "# calculate the χ2-value for 90% of confidence level\n",
    "# use 'stats.chi2.isf()' to find the χ2-value corresponding to the upper tail probability 'q'\n",
    "# pass the value of 'alpha' to the parameter 'q', here alpha = 0.1\n",
    "# pass the degrees of freedom to the parameter 'df' \n",
    "# use 'round()' to round-off the value to 4 digits\n",
    "chi2_val = np.abs(round(stats.chi2.isf(q = 0.1, df = 5), 4))\n",
    "\n",
    "print('Critical value for chi-square test:', chi2_val)"
   ]
  },
  {
   "cell_type": "markdown",
   "metadata": {
    "id": "7uDK4eKuBeEL"
   },
   "source": [
    "i.e. if the chi-square value is greater than 9.2364 then we reject the null hypothesis."
   ]
  },
  {
   "cell_type": "code",
   "execution_count": 11,
   "metadata": {
    "id": "NPCB6uBqBeEL",
    "outputId": "4f078041-09ee-417d-f997-7a431854ef30",
    "scrolled": true
   },
   "outputs": [
    {
     "name": "stdout",
     "output_type": "stream",
     "text": [
      "Test statistic: 31.400760035000467\n",
      "p-value: 7.8061673788274e-06\n"
     ]
    }
   ],
   "source": [
    "# use the 'chisquare()' to perform the goodness of fit test\n",
    "# the function returns the test statistic value and corresponding p-value\n",
    "# pass the observed values to the parameter, 'f_obs'\n",
    "# pass the expected values to the parameter, 'f_exp'\n",
    "test_stat, p_value = chisquare(f_obs = observed_value, f_exp = expected_value)\n",
    "\n",
    "print('Test statistic:', test_stat)\n",
    "print('p-value:', p_value)"
   ]
  },
  {
   "cell_type": "markdown",
   "metadata": {
    "id": "zRfdZG_MBeEL"
   },
   "source": [
    "The above output shows that the chi-square test statistic is greater than 9.2364 and the p-value is less than 0.1, thus, we reject the null hypothesis and conclude that there is a significant difference between the observed and expected values."
   ]
  },
  {
   "cell_type": "markdown",
   "metadata": {
    "id": "dB7-ZdpnBeEL"
   },
   "source": [
    "Let us plot the acceptance and rejection region for a test with 90% confidence."
   ]
  },
  {
   "cell_type": "code",
   "execution_count": 12,
   "metadata": {
    "id": "tNS_xeSuBeEL",
    "outputId": "e5f5756d-da33-47b7-fbb3-db9bd69fb501",
    "scrolled": false
   },
   "outputs": [
    {
     "data": {
      "image/png": "[encoded data removed]",
      "text/plain": [
       "<Figure size 1500x800 with 1 Axes>"
      ]
     },
     "metadata": {},
     "output_type": "display_data"
    }
   ],
   "source": [
    "# consider a random variable 'X' that follows a chi-square distribution \n",
    "# pass the degrees of freedom to the parameter 'df' \n",
    "# pass the required number of observations to the parameter, 'size'\n",
    "# set 'random_state' to obtain the same observations every time you run the code \n",
    "X = stats.chi2.rvs(df = 5, size = 1000000, random_state = 4)\n",
    "\n",
    "# pass the data to the parameter, 'a'\n",
    "# 'hist=False' does not return the histogram \n",
    "# 'cumulative=False' in 'kde_kws' does not return the cumulative kernel density estimator\n",
    "ax = sns.distplot(a = X, hist = False, kde_kws = dict(cumulative=False))\n",
    "\n",
    "# set the limit for y-axis\n",
    "plt.ylim(0, 0.175)\n",
    "\n",
    "# set the left side limit for x-axis\n",
    "plt.xlim(0)\n",
    "\n",
    "# use 'stats.chi2.isf()' to calculate the critical value for alpha = 0.1\n",
    "# pass the value of 'alpha' to the parameter 'q'\n",
    "# pass the degrees of freedom to the parameter 'df' \n",
    "chi2 = stats.chi2.isf(q = 0.1, df = 5)\n",
    "\n",
    "# plot a vertical line at χ2-value\n",
    "x, y = [chi2, chi2], [0, 0.12]\n",
    "plt.plot(x, y, color = 'black')\n",
    "\n",
    "# plot a vertical line at χ2 test value\n",
    "x, y = [test_stat, test_stat], [0, 0.015]\n",
    "plt.plot(x, y, color = 'black')\n",
    "\n",
    "# add the color to the right of the χ2-value\n",
    "# get the data for x and y axes\n",
    "l1 = ax.lines[0]\n",
    "x1 = l1.get_xydata()[:,0]\n",
    "y1 = l1.get_xydata()[:,1]\n",
    "\n",
    "# fill the color for the region where x-values are greater than the critical χ2-value\n",
    "# pass the condition to shade the required region\n",
    "# pass the required color to the parameter, 'color'\n",
    "ax.fill_between(x1[x1 >= chi2], y1[x1 >= chi2], color = 'lightblue')\n",
    "\n",
    "# use 'annonate' function to draw an arrow between points xy and xytext\n",
    "# 's' is a argument to write text\n",
    "# we can change the facecolor and arrowstyle; this is only for representation purpose\n",
    "plt.annotate(text = 'α = 0.1\\n(Rejection Region for H0)', xy = (11, 0.01), xytext = (12, 0.025), \n",
    "             arrowprops = dict(facecolor = 'black', arrowstyle = 'simple'))\n",
    "\n",
    "plt.annotate(text = 'χ2_crit = '+ str(round(chi2,2)), xy = (chi2, 0.06), xytext = (chi2+1, 0.08), \n",
    "             arrowprops = dict(facecolor = 'black', arrowstyle = 'simple'))\n",
    "\n",
    "# use below code to print the values in the graph\n",
    "# 'x' and 'y' gives position of the text\n",
    "# 's' is the text \n",
    "plt.text(x = 1.8, y = 0.06, s = 'Acceptance Region \\n for H0 (1 - α)')\n",
    "\n",
    "# assign the x-axis labels\n",
    "# pass the position of labels to the parameter, 'ticks'\n",
    "# pass the required labels to the parameter, 'labels'\n",
    "plt.xticks(ticks = [0, 4, 8, 12, 16, 20, 24, 28, round(test_stat,2)], \n",
    "           labels = [0, 4, 8, 12, 16, 20, 24, 28, 'χ2_test = '+str(round(test_stat,2))])\n",
    "\n",
    "# set plot and axes labels\n",
    "# set text size using 'fontsize'\n",
    "plt.xlabel('χ2', fontsize = 15)\n",
    "plt.ylabel('Probability', fontsize = 15)\n",
    "plt.title('Test Region', fontsize = 15)\n",
    "\n",
    "# display the plot\n",
    "plt.show()"
   ]
  },
  {
   "cell_type": "markdown",
   "metadata": {
    "id": "GqfHxUt3BeEM"
   },
   "source": [
    "The above plot shows that the test statistic value is in the rejection region, which implies that we reject $H_{0}$."
   ]
  },
  {
   "cell_type": "markdown",
   "metadata": {
    "id": "Qc3N_IDuBeEM"
   },
   "source": [
    "#### 2. At an emporium, the manager is interested in knowing the age group which visits the mall during the day. He defines categories as - children, teenagers, adults and senior citizens. He plans to have his inventory of goods accordingly. He claims that out of all the people who visited 5% are children, 38% are teenagers, 2% are senior citizens are remaining are adults. From a sample of 180 people, it was seen that 25 were children, 50 were teenagers, 90 were adults and  15 were senior citizens. Test the manager’s claim at a 95% confidence level.\n"
   ]
  },
  {
   "cell_type": "markdown",
   "metadata": {
    "id": "tuBJGUgqBeEM"
   },
   "source": [
    "The null and alternative hypothesis is:\n",
    "\n",
    "H<sub>0</sub>: The manager's claim is correct <br>\n",
    "H<sub>1</sub>: The manager's claim is not correct"
   ]
  },
  {
   "cell_type": "markdown",
   "metadata": {
    "id": "24OvhQaTBeEM"
   },
   "source": [
    "For ⍺ = 0.05 and degrees of freedom = 3, calculate the critical value."
   ]
  },
  {
   "cell_type": "code",
   "execution_count": 13,
   "metadata": {
    "id": "eF5STLS0BeEM",
    "outputId": "3d43b3c0-cb5e-4395-d97d-3cbc653d33b4"
   },
   "outputs": [
    {
     "name": "stdout",
     "output_type": "stream",
     "text": [
      "Critical value for chi-square test: 7.8147\n"
     ]
    }
   ],
   "source": [
    "# calculate the χ2-value for 90% of confidence level\n",
    "# use 'stats.chi2.isf()' to find the χ2-value corresponding to the upper tail probability 'q'\n",
    "# pass the value of 'alpha' to the parameter 'q', here alpha = 0.1\n",
    "# pass the degrees of freedom to the parameter 'df' \n",
    "# use 'round()' to round-off the value to 4 digits\n",
    "chi2_val = np.abs(round(stats.chi2.isf(q = 0.05, df = 3), 4))\n",
    "\n",
    "print('Critical value for chi-square test:', chi2_val)"
   ]
  },
  {
   "cell_type": "markdown",
   "metadata": {
    "id": "yllQErD5BeEN"
   },
   "source": [
    "i.e. if the chi-square value is greater than 7.8147 then we reject the null hypothesis."
   ]
  },
  {
   "cell_type": "code",
   "execution_count": 14,
   "metadata": {
    "id": "nDM_ER4CBeEN",
    "outputId": "42676760-4b55-4c69-805a-efadc2dbef36",
    "scrolled": true
   },
   "outputs": [
    {
     "name": "stdout",
     "output_type": "stream",
     "text": [
      "Test statistic: 64.2773321449792\n",
      "p-value: 7.160266387019384e-14\n"
     ]
    }
   ],
   "source": [
    "# given observed values\n",
    "observed_value = [25, 50, 90, 15]\n",
    "\n",
    "# expected count \n",
    "exp_count = [0.05, 0.38, 0.55, 0.02]\n",
    "\n",
    "# calculate the expected values for each category\n",
    "# expected_value = (np.array(exp_count) * 180) \n",
    "expected_value = [9, 68, 99, 4]\n",
    "\n",
    "# use the 'chisquare()' to perform the goodness of fit test\n",
    "# the function returns the test statistic value and corresponding p-value\n",
    "# pass the observed values to the parameter, 'f_obs'\n",
    "# pass the expected values to the parameter, 'f_exp'\n",
    "stat, p_value = chisquare(f_obs = observed_value, f_exp = expected_value)\n",
    "\n",
    "print('Test statistic:', stat)\n",
    "print('p-value:', p_value)"
   ]
  },
  {
   "cell_type": "markdown",
   "metadata": {
    "id": "Oirb8LQGBeEN"
   },
   "source": [
    "The above output shows that the chi-square test statistic is greater than 7.8147 and the p-value is less than 0.05. Thus, we reject the null hypothesis and conclude that manager's claim is not correct."
   ]
  },
  {
   "cell_type": "markdown",
   "metadata": {
    "id": "GInj9s5SBeEN"
   },
   "source": [
    "<a id=\"ind\"></a>\n",
    "## 2.2 Chi-Square Test for Independence"
   ]
  },
  {
   "cell_type": "markdown",
   "metadata": {
    "id": "hRrKmP3wBeEN"
   },
   "source": [
    "This test is used to test whether the categorical variables are independent or not.\n",
    "\n",
    "<p style='text-indent:20em'> <strong> $H_{0}$: The variables are independent</strong></p>\n",
    "<p style='text-indent:20em'> <strong> $H_{1}$: The variables are not independent (i.e. variables are dependent)</strong></p>"
   ]
  },
  {
   "cell_type": "markdown",
   "metadata": {
    "id": "Qx4rB0d5BeEN"
   },
   "source": [
    "Consider a categorical variable `A` with `r` levels and variable `B` with `c` levels. Let us test the independence of variables A and B.\n",
    "\n",
    "The test statistic is given as:\n",
    "<p style='text-indent:25em'> <strong> $\\chi^{2} = \\sum_{i= 1}^{r}\\sum_{j = 1}^{c}\\frac{O_{ij}^{2}}{E_{ij}} - N$</strong></p>\n",
    "\n",
    "Where, <br>\n",
    "$O_{ij}$: Observed frequency for category (i,j) <br>\n",
    "$E_{ij}$: Expected frequency for category (i,j)<br>\n",
    "$N$: Total number of observations\n",
    "\n",
    "Under $H_{0}$, the test statistic follows a chi-square distribution with $(r-1)(c-1)$ degrees of freedom."
   ]
  },
  {
   "cell_type": "markdown",
   "metadata": {
    "id": "BOZf9d3vBeEN"
   },
   "source": [
    "### Example:\n",
    "\n",
    "#### 1. Check if there is any relationship between the gender and education level of students with 95% confidence. \n",
    "\n",
    "Use the performance dataset of students available in the CSV file `students_data.csv`."
   ]
  },
  {
   "cell_type": "code",
   "execution_count": 15,
   "metadata": {
    "id": "oaBzzLG3BeEN",
    "outputId": "587495d3-5f03-4627-db0a-caf628490ef1",
    "scrolled": false
   },
   "outputs": [
    {
     "data": {
      "text/html": [
       "<div>\n",
       "<style scoped>\n",
       "    .dataframe tbody tr th:only-of-type {\n",
       "        vertical-align: middle;\n",
       "    }\n",
       "\n",
       "    .dataframe tbody tr th {\n",
       "        vertical-align: top;\n",
       "    }\n",
       "\n",
       "    .dataframe thead th {\n",
       "        text-align: right;\n",
       "    }\n",
       "</style>\n",
       "<table border=\"1\" class=\"dataframe\">\n",
       "  <thead>\n",
       "    <tr style=\"text-align: right;\">\n",
       "      <th></th>\n",
       "      <th>gender</th>\n",
       "      <th>ethnicity</th>\n",
       "      <th>education</th>\n",
       "      <th>lunch</th>\n",
       "      <th>test_prep_course</th>\n",
       "      <th>math_score</th>\n",
       "      <th>reading_score</th>\n",
       "      <th>writing_score</th>\n",
       "      <th>total_score</th>\n",
       "      <th>training_institute</th>\n",
       "    </tr>\n",
       "  </thead>\n",
       "  <tbody>\n",
       "    <tr>\n",
       "      <th>0</th>\n",
       "      <td>female</td>\n",
       "      <td>group B</td>\n",
       "      <td>bachelor's degree</td>\n",
       "      <td>standard</td>\n",
       "      <td>none</td>\n",
       "      <td>89</td>\n",
       "      <td>55</td>\n",
       "      <td>56</td>\n",
       "      <td>200</td>\n",
       "      <td>Nature Learning</td>\n",
       "    </tr>\n",
       "    <tr>\n",
       "      <th>1</th>\n",
       "      <td>female</td>\n",
       "      <td>group C</td>\n",
       "      <td>college</td>\n",
       "      <td>standard</td>\n",
       "      <td>completed</td>\n",
       "      <td>55</td>\n",
       "      <td>63</td>\n",
       "      <td>72</td>\n",
       "      <td>190</td>\n",
       "      <td>Nature Learning</td>\n",
       "    </tr>\n",
       "  </tbody>\n",
       "</table>\n",
       "</div>"
      ],
      "text/plain": [
       "   gender ethnicity          education     lunch test_prep_course  math_score  \\\n",
       "0  female   group B  bachelor's degree  standard             none          89   \n",
       "1  female   group C            college  standard        completed          55   \n",
       "\n",
       "   reading_score  writing_score  total_score training_institute  \n",
       "0             55             56          200    Nature Learning  \n",
       "1             63             72          190    Nature Learning  "
      ]
     },
     "execution_count": 15,
     "metadata": {},
     "output_type": "execute_result"
    }
   ],
   "source": [
    "# read the students performance data \n",
    "df_student = pd.read_csv('students_data.csv')\n",
    "\n",
    "# display the first two observations\n",
    "df_student.head(2)"
   ]
  },
  {
   "cell_type": "markdown",
   "metadata": {
    "id": "15fposVgBeEO"
   },
   "source": [
    "The null and alternative hypothesis is:\n",
    "\n",
    "H<sub>0</sub>: The variables gender and education are independent<br>\n",
    "H<sub>1</sub>: The variables gender and education are not independent"
   ]
  },
  {
   "cell_type": "code",
   "execution_count": 16,
   "metadata": {
    "id": "zcMCTxrTBeEO",
    "outputId": "553a32df-930d-4834-f2a1-0a88eb99152a"
   },
   "outputs": [
    {
     "data": {
      "text/plain": [
       "array([[ 91, 116,  63, 117,  94,  36],\n",
       "       [ 88, 106,  55, 108, 103,  23]])"
      ]
     },
     "execution_count": 16,
     "metadata": {},
     "output_type": "execute_result"
    }
   ],
   "source": [
    "# use 'crosstab()' to create a table for each education level and corresponding gender count \n",
    "table = pd.crosstab(df_student['gender'], df_student['education'])\n",
    "\n",
    "# observed values  \n",
    "observed_value = table.values\n",
    "observed_value"
   ]
  },
  {
   "cell_type": "markdown",
   "metadata": {
    "id": "NOVXqNRIBeEO"
   },
   "source": [
    "For ⍺ = 0.05 and degrees of freedom = 5, calculate the critical value."
   ]
  },
  {
   "cell_type": "code",
   "execution_count": 17,
   "metadata": {
    "id": "Anql_rtpBeEO",
    "outputId": "32096a38-37bd-4241-ebd2-36e26c93a45f",
    "scrolled": true
   },
   "outputs": [
    {
     "name": "stdout",
     "output_type": "stream",
     "text": [
      "Critical value for chi-square test: 11.0705\n"
     ]
    }
   ],
   "source": [
    "# calculate the χ2-value for 95% of confidence level\n",
    "# use 'stats.chi2.isf()' to find the χ2-value corresponding to the upper tail probability 'q'\n",
    "# pass the value of 'alpha' to the parameter 'q', here alpha = 0.05\n",
    "# pass the degrees of freedom to the parameter 'df' \n",
    "# use 'round()' to round-off the value to 4 digits\n",
    "chi2_val = np.abs(round(stats.chi2.isf(q = 0.05, df = 5), 4))\n",
    "\n",
    "print('Critical value for chi-square test:', chi2_val)"
   ]
  },
  {
   "cell_type": "markdown",
   "metadata": {
    "id": "ZX_XboyhBeEO"
   },
   "source": [
    "i.e. if the chi-square value is greater than 11.0705 then we reject the null hypothesis."
   ]
  },
  {
   "cell_type": "code",
   "execution_count": 18,
   "metadata": {
    "id": "p5FrLHCrBeEO",
    "outputId": "79a23798-1411-40fb-e526-e55d89a030e4"
   },
   "outputs": [
    {
     "name": "stdout",
     "output_type": "stream",
     "text": [
      "Test statistic: 3.5267538812534243\n",
      "p-value: 0.6193433487137843\n",
      "Degrees of freedom: 5\n",
      "Expected values: [[ 92.543 114.774  61.006 116.325 101.849  30.503]\n",
      " [ 86.457 107.226  56.994 108.675  95.151  28.497]]\n"
     ]
    }
   ],
   "source": [
    "# use the 'chi2_contingency()' to check the independence of variables\n",
    "# the function returns the test statistic value, corresponding p-value, degrees of freedom of the test and expected values\n",
    "# pass the observed values to the parameter, 'observed'\n",
    "# 'correction = False' will not apply the Yates' correction\n",
    "test_stat, p, dof, expected_value = chi2_contingency(observed = observed_value, correction = False)\n",
    "\n",
    "print(\"Test statistic:\", test_stat)\n",
    "print(\"p-value:\", p)\n",
    "print(\"Degrees of freedom:\", dof)\n",
    "print(\"Expected values:\", expected_value)"
   ]
  },
  {
   "cell_type": "markdown",
   "metadata": {
    "id": "Vr1YMmxCBeEP"
   },
   "source": [
    "The above output shows that the chi-square test statistic is less than 11.0705 and the p-value is greater than 0.05, thus we fail to reject (i.e. accept) the null hypothesis and conclude that the variables `gender` and `education` are independent."
   ]
  },
  {
   "cell_type": "markdown",
   "metadata": {
    "id": "sQoMPd4bBeEP"
   },
   "source": [
    "Let us plot the acceptance and rejection region for a test with 95% confidence."
   ]
  },
  {
   "cell_type": "code",
   "execution_count": 19,
   "metadata": {
    "id": "NHpTJGreBeEP",
    "outputId": "d765dec2-f583-48f4-aefc-bdd31cdb38dc",
    "scrolled": false
   },
   "outputs": [
    {
     "data": {
      "image/png": "[encoded data removed]",
      "text/plain": [
       "<Figure size 1500x800 with 1 Axes>"
      ]
     },
     "metadata": {},
     "output_type": "display_data"
    }
   ],
   "source": [
    "# consider a random variable 'X' that follows a chi-square distribution \n",
    "# pass the degrees of freedom to the parameter 'df' \n",
    "# pass the required number of observations to the parameter, 'size'\n",
    "# set 'random_state' to obtain the same observations every time you run the code \n",
    "X = stats.chi2.rvs(df = 5, size = 1000000, random_state = 12)\n",
    "\n",
    "# pass the data to the parameter, 'a'\n",
    "# 'hist=False' does not return the histogram \n",
    "# 'cumulative=False' in 'kde_kws' does not return the cumulative kernel density estimator\n",
    "ax = sns.distplot(a = X, hist = False, kde_kws = dict(cumulative=False))\n",
    "\n",
    "# set the limit for y-axis\n",
    "plt.ylim(0, 0.18)\n",
    "\n",
    "# set the limit for x-axis\n",
    "plt.xlim(0, 30)\n",
    "\n",
    "# use 'stats.chi2.isf()' to calculate the critical value for alpha = 0.05\n",
    "# pass the value of 'alpha' to the parameter 'q'\n",
    "# pass the degrees of freedom to the parameter 'df' \n",
    "chi2 = stats.chi2.isf(q = 0.05, df = 5)\n",
    "\n",
    "# plot a vertical line at χ2-value\n",
    "x, y = [chi2, chi2], [0, 0.12]\n",
    "plt.plot(x, y, color = 'black')\n",
    "\n",
    "# plot a vertical line at χ2 test value\n",
    "x, y = [test_stat, test_stat], [0, 0.02]\n",
    "plt.plot(x, y, color = 'black')\n",
    "\n",
    "# add the color to the right of the χ2-value\n",
    "# get the data for x and y axes\n",
    "l1 = ax.lines[0]\n",
    "x1 = l1.get_xydata()[:,0]\n",
    "y1 = l1.get_xydata()[:,1]\n",
    "\n",
    "# fill the color for the region where x-values are greater than the critical χ2-value\n",
    "# pass the condition to shade the required region\n",
    "# pass the required color to the parameter, 'color'\n",
    "ax.fill_between(x1[x1 >= chi2], y1[x1 >= chi2], color = 'lightblue')\n",
    "\n",
    "# use 'annonate' function to draw an arrow between points xy and xytext\n",
    "# 's' is a argument to write text\n",
    "# we can change the facecolor and arrowstyle; this is only for representation purpose\n",
    "plt.annotate(text = 'α = 0.05\\n(Rejection Region for H0)', xy = (12, 0.007), xytext = (12.5, 0.025), \n",
    "             arrowprops = dict(facecolor = 'black', arrowstyle = 'simple'))\n",
    "\n",
    "plt.annotate(text = 'χ2_crit = '+ str(round(chi2,2)), xy = (chi2, 0.06), xytext = (chi2+1.5, 0.08), \n",
    "             arrowprops = dict(facecolor = 'black', arrowstyle = 'simple'))\n",
    "\n",
    "# use below code to print the values in the graph\n",
    "# 'x' and 'y' gives position of the text\n",
    "# 's' is the text \n",
    "plt.text(x = 1.8, y = 0.06, s = 'Acceptance Region \\n for H0 (1 - α)')\n",
    "\n",
    "# assign the x-axis labels\n",
    "# pass the position of labels to the parameter, 'ticks'\n",
    "# pass the required labels to the parameter, 'labels'\n",
    "plt.xticks(ticks = [0, 6, 8, 10, 12, round(test_stat,2)], \n",
    "           labels = [0, 6, 8, 10, 12, 'χ2_test = '+str(round(test_stat,2))])\n",
    "\n",
    "# set plot and axes labels\n",
    "# set text size using 'fontsize'\n",
    "plt.xlabel('χ2', fontsize = 15)\n",
    "plt.ylabel('Probability', fontsize = 15)\n",
    "plt.title('Test Region', fontsize = 15)\n",
    "\n",
    "# display the plot\n",
    "plt.show()"
   ]
  },
  {
   "cell_type": "markdown",
   "metadata": {
    "id": "ymQvqinOBeEP"
   },
   "source": [
    "The above plot shows that the test statistic value is in the acceptance region, which implies that we fail to reject (i.e. accept) $H_{0}$."
   ]
  },
  {
   "cell_type": "markdown",
   "metadata": {
    "id": "IMZ2KKO4BeEP"
   },
   "source": [
    "#### 2. A study was conducted to test the effect of the malaria parasite - plasmodium falciparum - on heterozygous and homozygous humans. The vaccine was given to a cohort of 252 humans. Test whether the heterozygous humans are better protected than homozygous. Consider 0.05 as a level of significance.\n",
    "\n",
    "<img src='chi2_ind.png'>"
   ]
  },
  {
   "cell_type": "markdown",
   "metadata": {
    "id": "HC6y3Ka6BeEP"
   },
   "source": [
    "The null and alternative hypothesis is:\n",
    "\n",
    "H<sub>0</sub>: The zygote type and infection with malaria parasite is independent<br>\n",
    "H<sub>1</sub>: The zygote type and infection with malaria parasite is not independent"
   ]
  },
  {
   "cell_type": "code",
   "execution_count": 20,
   "metadata": {
    "id": "KfrTHSNoBeEP"
   },
   "outputs": [],
   "source": [
    "# observed values  \n",
    "observed_value = np.array([[93, 51], [68, 40]])"
   ]
  },
  {
   "cell_type": "markdown",
   "metadata": {
    "id": "EwDwQkotBeEP"
   },
   "source": [
    "For ⍺ = 0.05 and degrees of freedom = 1, calculate the critical value."
   ]
  },
  {
   "cell_type": "code",
   "execution_count": 21,
   "metadata": {
    "id": "Bof3GPydBeEQ",
    "outputId": "882494fb-d8f4-4d64-c300-7ffa71d4d364"
   },
   "outputs": [
    {
     "name": "stdout",
     "output_type": "stream",
     "text": [
      "Critical value for chi-square test: 3.8415\n"
     ]
    }
   ],
   "source": [
    "# calculate the χ2-value for 95% of confidence level\n",
    "# use 'stats.chi2.isf()' to find the χ2-value corresponding to the upper tail probability 'q'\n",
    "# pass the value of 'alpha' to the parameter 'q', here alpha = 0.05\n",
    "# pass the degrees of freedom to the parameter 'df' \n",
    "# use 'round()' to round-off the value to 4 digits\n",
    "chi2_val = np.abs(round(stats.chi2.isf(q = 0.05, df = 1), 4))\n",
    "\n",
    "print('Critical value for chi-square test:', chi2_val)"
   ]
  },
  {
   "cell_type": "markdown",
   "metadata": {
    "id": "jhOZy1DeBeEQ"
   },
   "source": [
    "i.e. if the chi-square value is greater than 3.8415 then we reject the null hypothesis."
   ]
  },
  {
   "cell_type": "code",
   "execution_count": 22,
   "metadata": {
    "id": "M_XtHqYJBeEQ",
    "outputId": "04f3f1f0-9c0c-4155-aa47-dab89fe794c2"
   },
   "outputs": [
    {
     "name": "stdout",
     "output_type": "stream",
     "text": [
      "Test statistic: 0.07023411371237459\n",
      "p-value: 0.790996215494177\n",
      "Degrees of freedom: 1\n",
      "Expected values: [[92. 52.]\n",
      " [69. 39.]]\n"
     ]
    }
   ],
   "source": [
    "# use the 'chi2_contingency()' to check the independence of variables\n",
    "# the function returns the test statistic value, corresponding p-value, degrees of freedom of the test and expected values\n",
    "# pass the observed values to the parameter, 'observed'\n",
    "# 'correction = False' will not apply the Yates' correction\n",
    "test_stat, p, dof, expected_value = chi2_contingency(observed = observed_value, correction = False)\n",
    "\n",
    "# print the output\n",
    "print(\"Test statistic:\", test_stat)\n",
    "print(\"p-value:\", p)\n",
    "print(\"Degrees of freedom:\", dof)\n",
    "print(\"Expected values:\", expected_value)"
   ]
  },
  {
   "cell_type": "markdown",
   "metadata": {
    "id": "H3F9q2xvBeEQ"
   },
   "source": [
    "The above output shows that the chi-square test statistic is less than 3.8415 and the p-value is greater than 0.05. Thus we fail to reject (i.e. accept) the null hypothesis and conclude that the zygote type and infection of the malaria parasite are independent."
   ]
  },
  {
   "cell_type": "markdown",
   "metadata": {
    "id": "WIAIGneZBeEQ"
   },
   "source": [
    "<a id=\"var\"></a>\n",
    "## 2.3 Chi-Square Test for Equality of Variance"
   ]
  },
  {
   "cell_type": "markdown",
   "metadata": {
    "id": "kzDZQjkVBeEQ"
   },
   "source": [
    "This test is used to test whether the population variance ($\\sigma^{2}$) is equal to a specific value ($\\sigma_{0}^{2}$). Consider that the population mean ($\\mu$) is known.\n",
    "\n",
    "<p style='text-indent:20em'> <strong> $H_{0}$: $\\sigma^{2} = \\sigma^{2}_{0}$ or $\\sigma^{2} \\geq \\sigma^{2}_{0}$ or $\\sigma^{2} \\leq \\sigma^{2}_{0}$  </strong></p>\n",
    "<p style='text-indent:20em'> <strong> $H_{1}$: $\\sigma^{2} \\neq \\sigma^{2}_{0}$ or $\\sigma^{2} < \\sigma^{2}_{0}$ or $\\sigma^{2} > \\sigma^{2}_{0}$  </strong></p>"
   ]
  },
  {
   "cell_type": "markdown",
   "metadata": {
    "id": "-QKnGXthBeEQ"
   },
   "source": [
    "The test statistic is given as:\n",
    "<p style='text-indent:25em'> <strong> $\\chi^{2} = \\frac{\\sum_{i= 1}^{n}(x_{i} - \\mu)^{2}}{\\sigma_{0}^{2}}$</strong></p>\n",
    "\n",
    "Where, <br>\n",
    "$\\mu$: Population mean<br>\n",
    "$n$: Sample size\n",
    "\n",
    "Under $H_{0}$, the test statistic follows a chi-square distribution with $n$ degrees of freedom.\n",
    "\n",
    "If the population mean ($\\mu$) is unknown, use sample mean ($\\bar{x}$) instead of $\\mu$. In this case, the test statistic follows a chi-square distribution with $n-1$ degrees of freedom."
   ]
  },
  {
   "cell_type": "markdown",
   "metadata": {
    "id": "SJPJaQS4BeEQ"
   },
   "source": [
    "### Example:\n",
    "\n",
    "#### 1. The state board of studies has a record of marks for all the students. The committee of basic sciences wants to check if the variance in the mathematics score is 130 or not. A sample of 55 students is collected from two different institutes. Perform a two-tailed chi-square test with a 5% level of significance."
   ]
  },
  {
   "cell_type": "markdown",
   "metadata": {
    "id": "T2qDTrSMBeER"
   },
   "source": [
    "Use the dataset of students available in the CSV file `chisq_var.csv`."
   ]
  },
  {
   "cell_type": "code",
   "execution_count": 23,
   "metadata": {
    "id": "6gjJsBd-BeER",
    "outputId": "67ebeca1-2aa3-45b7-a9ef-461283460e96",
    "scrolled": true
   },
   "outputs": [
    {
     "data": {
      "text/html": [
       "<div>\n",
       "<style scoped>\n",
       "    .dataframe tbody tr th:only-of-type {\n",
       "        vertical-align: middle;\n",
       "    }\n",
       "\n",
       "    .dataframe tbody tr th {\n",
       "        vertical-align: top;\n",
       "    }\n",
       "\n",
       "    .dataframe thead th {\n",
       "        text-align: right;\n",
       "    }\n",
       "</style>\n",
       "<table border=\"1\" class=\"dataframe\">\n",
       "  <thead>\n",
       "    <tr style=\"text-align: right;\">\n",
       "      <th></th>\n",
       "      <th>gender</th>\n",
       "      <th>ethnicity</th>\n",
       "      <th>education</th>\n",
       "      <th>lunch</th>\n",
       "      <th>test_prep_course</th>\n",
       "      <th>math_score</th>\n",
       "      <th>reading_score</th>\n",
       "      <th>writing_score</th>\n",
       "      <th>total_score</th>\n",
       "      <th>training_institute</th>\n",
       "    </tr>\n",
       "  </thead>\n",
       "  <tbody>\n",
       "    <tr>\n",
       "      <th>0</th>\n",
       "      <td>female</td>\n",
       "      <td>group C</td>\n",
       "      <td>associate's degree</td>\n",
       "      <td>free/reduced</td>\n",
       "      <td>none</td>\n",
       "      <td>76</td>\n",
       "      <td>65</td>\n",
       "      <td>80</td>\n",
       "      <td>221</td>\n",
       "      <td>Nature Learning</td>\n",
       "    </tr>\n",
       "    <tr>\n",
       "      <th>1</th>\n",
       "      <td>male</td>\n",
       "      <td>group D</td>\n",
       "      <td>high school</td>\n",
       "      <td>standard</td>\n",
       "      <td>none</td>\n",
       "      <td>63</td>\n",
       "      <td>71</td>\n",
       "      <td>51</td>\n",
       "      <td>185</td>\n",
       "      <td>Nature Learning</td>\n",
       "    </tr>\n",
       "  </tbody>\n",
       "</table>\n",
       "</div>"
      ],
      "text/plain": [
       "   gender ethnicity           education         lunch test_prep_course  \\\n",
       "0  female   group C  associate's degree  free/reduced             none   \n",
       "1    male   group D         high school      standard             none   \n",
       "\n",
       "   math_score  reading_score  writing_score  total_score training_institute  \n",
       "0          76             65             80          221    Nature Learning  \n",
       "1          63             71             51          185    Nature Learning  "
      ]
     },
     "execution_count": 23,
     "metadata": {},
     "output_type": "execute_result"
    }
   ],
   "source": [
    "# read the students performance data \n",
    "df_student = pd.read_csv('chisq_var.csv')\n",
    "\n",
    "# display the first two observations\n",
    "df_student.head(2)"
   ]
  },
  {
   "cell_type": "markdown",
   "metadata": {
    "id": "EHr_OHCmBeER"
   },
   "source": [
    "The null and alternative hypothesis is:\n",
    "\n",
    "H<sub>0</sub>: $\\sigma^{2} = 130$<br>\n",
    "H<sub>1</sub>: $\\sigma^{2} \\neq 130$"
   ]
  },
  {
   "cell_type": "code",
   "execution_count": 24,
   "metadata": {
    "id": "D9GwpftTBeER",
    "outputId": "aff5b80d-6016-46d9-c543-c25d85d5f953"
   },
   "outputs": [
    {
     "name": "stdout",
     "output_type": "stream",
     "text": [
      "Degrees of freedom: 54\n"
     ]
    }
   ],
   "source": [
    "# hypothesized variance\n",
    "sig_2 = 130\n",
    "\n",
    "# sample size\n",
    "n = len(df_student)\n",
    "\n",
    "# the population mean is unknown, use sample mean\n",
    "samp_mean = np.mean(df_student['math_score'])\n",
    "\n",
    "# degrees of freedom\n",
    "print('Degrees of freedom:', n-1)"
   ]
  },
  {
   "cell_type": "markdown",
   "metadata": {
    "id": "Ryht1SmMBeER"
   },
   "source": [
    "As chi-square distribution is not symmetric, we calculate the critical value for the left and right tail separately for a two-tailed test."
   ]
  },
  {
   "cell_type": "markdown",
   "metadata": {
    "id": "hEJDdPQXBeER"
   },
   "source": [
    "For ⍺ = 0.05 and degrees of freedom = 54, calculate the critical value for the left-tail."
   ]
  },
  {
   "cell_type": "code",
   "execution_count": 25,
   "metadata": {
    "id": "3kagBLzyBeER",
    "outputId": "c26900fb-5e89-466f-c83b-959cc5f10df9"
   },
   "outputs": [
    {
     "name": "stdout",
     "output_type": "stream",
     "text": [
      "Critical value for chi-square test: 35.5863\n"
     ]
    }
   ],
   "source": [
    "# calculate the χ2-value for 95% of confidence level\n",
    "# use 'stats.chi2.ppf()' to find the χ2-value corresponding to the lower tail probability 'q'\n",
    "# pass the value of 'alpha/2' to the parameter 'q', for left-tail\n",
    "# pass the degrees of freedom to the parameter 'df' \n",
    "# use 'round()' to round-off the value to 4 digits\n",
    "chi2_val_left = np.abs(round(stats.chi2.ppf(q = 0.05/2, df = 54), 4))\n",
    "\n",
    "print('Critical value for chi-square test:', chi2_val_left)"
   ]
  },
  {
   "cell_type": "markdown",
   "metadata": {
    "id": "-sLmyt7uBeER"
   },
   "source": [
    "i.e. if the chi-square value is less than 35.5863 then we reject the null hypothesis."
   ]
  },
  {
   "cell_type": "markdown",
   "metadata": {
    "id": "PnLTivMhBeES"
   },
   "source": [
    "For ⍺ = 0.05 and degrees of freedom = 54, calculate the critical value for the right-tail."
   ]
  },
  {
   "cell_type": "code",
   "execution_count": 26,
   "metadata": {
    "id": "JWJbdGByBeES",
    "outputId": "f68fc43d-465d-45a2-d301-93ddd725ee3c"
   },
   "outputs": [
    {
     "name": "stdout",
     "output_type": "stream",
     "text": [
      "Critical value for chi-square test: 76.192\n"
     ]
    }
   ],
   "source": [
    "# calculate the χ2-value for 95% of confidence level\n",
    "# use 'stats.chi2.ppf()' to find the χ2-value corresponding to the lower tail probability 'q'\n",
    "# pass the value of '1 - alpha/2' to the parameter 'q', for right-tail\n",
    "# pass the degrees of freedom to the parameter 'df' \n",
    "# use 'round()' to round-off the value to 4 digits\n",
    "chi2_val_right = np.abs(round(stats.chi2.ppf(q = (1 - 0.05/2), df = 54), 4))\n",
    "\n",
    "print('Critical value for chi-square test:', chi2_val_right)"
   ]
  },
  {
   "cell_type": "markdown",
   "metadata": {
    "id": "GOU3oMVCBeES"
   },
   "source": [
    "i.e. if the chi-square value is greater than 76.192 then we reject the null hypothesis."
   ]
  },
  {
   "cell_type": "code",
   "execution_count": 27,
   "metadata": {
    "id": "CGZYBKcTBeES",
    "outputId": "c8337e3e-6435-4f69-e53b-522215ffcdd4"
   },
   "outputs": [
    {
     "name": "stdout",
     "output_type": "stream",
     "text": [
      "Test Statistic: 59.87636363636363\n"
     ]
    }
   ],
   "source": [
    "# calculate the test statistic\n",
    "chi_test = (np.sum((df_student['math_score'] - samp_mean)**2)) / sig_2\n",
    "\n",
    "# print the test statistic\n",
    "print('Test Statistic:', chi_test)"
   ]
  },
  {
   "cell_type": "code",
   "execution_count": 28,
   "metadata": {
    "id": "EFPNHgyCBeES",
    "outputId": "bad76345-d01a-4096-e866-824f2344b8ae"
   },
   "outputs": [
    {
     "name": "stdout",
     "output_type": "stream",
     "text": [
      "p-value: 0.27099758895862275\n"
     ]
    }
   ],
   "source": [
    "# calculate P(X > chi_test)\n",
    "# pass the test statistic value to 'x'\n",
    "# pass the degrees of freedom to 'df'\n",
    "p_val = stats.chi2.sf(x = chi_test, df = 54)\n",
    "\n",
    "# print the p-value\n",
    "print('p-value:', p_val)"
   ]
  },
  {
   "cell_type": "markdown",
   "metadata": {
    "id": "yDRTC9gvBeES"
   },
   "source": [
    "The above output shows that the chi-square test statistic is less than 76.192 and greater than 35.5863, the p-value is greater than 0.05. Thus we fail to reject (i.e. accept) the null hypothesis and conclude that the population variance is not equal to 130."
   ]
  },
  {
   "cell_type": "markdown",
   "metadata": {
    "id": "vWLLItjzBeES"
   },
   "source": [
    "Let us plot the acceptance and rejection region for a test with 95% confidence."
   ]
  },
  {
   "cell_type": "code",
   "execution_count": 29,
   "metadata": {
    "id": "iZ7B5UqHBeES",
    "outputId": "40606052-d4e1-433c-c4be-acf421407877",
    "scrolled": false
   },
   "outputs": [
    {
     "data": {
      "image/png": "[encoded data removed]",
      "text/plain": [
       "<Figure size 1500x800 with 1 Axes>"
      ]
     },
     "metadata": {},
     "output_type": "display_data"
    }
   ],
   "source": [
    "# consider a random variable 'X' that follows a chi-square distribution \n",
    "# pass the degrees of freedom to the parameter 'df' \n",
    "# pass the required number of observations to the parameter, 'size'\n",
    "# set 'random_state' to obtain the same observations every time you run the code \n",
    "X = stats.chi2.rvs(df = 54, size = 1000000, random_state = 15)\n",
    "\n",
    "# pass the data to the parameter, 'a'\n",
    "# 'hist=False' does not return the histogram \n",
    "# 'cumulative=False' in 'kde_kws' does not return the cumulative kernel density estimator\n",
    "ax = sns.distplot(a = X, hist = False, kde_kws = dict(cumulative=False))\n",
    "\n",
    "# set the limit for y-axis\n",
    "plt.ylim(0, 0.045)\n",
    "\n",
    "# plot a vertical line at χ2-value for right-tail\n",
    "x, y = [chi2_val_right, chi2_val_right], [0, 0.03]\n",
    "plt.plot(x, y, color = 'black')\n",
    "\n",
    "# plot a vertical line at χ2-value for left-tail\n",
    "x, y = [chi2_val_left, chi2_val_left], [0, 0.03]\n",
    "plt.plot(x, y, color = 'black')\n",
    "\n",
    "# plot a vertical line at χ2 test value\n",
    "x, y = [chi_test, chi_test], [0, 0.013]\n",
    "plt.plot(x, y, color = 'black')\n",
    "\n",
    "# add the color to the right of the χ2-value for right-tail and left of the χ2-value for left-tail\n",
    "# get the data for x and y axes\n",
    "l1 = ax.lines[0]\n",
    "x1 = l1.get_xydata()[:,0]\n",
    "y1 = l1.get_xydata()[:,1]\n",
    "\n",
    "# fill the color for the region where x-values are greater than the critical χ2-value for right-tail\n",
    "# pass the condition to shade the required region\n",
    "# pass the required color to the parameter, 'color'\n",
    "ax.fill_between(x1[x1 >= chi2_val_right], y1[x1 >= chi2_val_right], color = 'lightblue')\n",
    "\n",
    "# fill the color for the region where x-values are less than the critical χ2-value for left-tail\n",
    "# pass the condition to shade the required region\n",
    "# pass the required color to the parameter, 'color'\n",
    "ax.fill_between(x1[x1 <= chi2_val_left], y1[x1 <= chi2_val_left], color = 'lightblue')\n",
    "\n",
    "# use 'annonate' function to draw an arrow between points xy and xytext\n",
    "# 's' is a argument to write text\n",
    "# we can change the facecolor and arrowstyle; this is only for representation purpose\n",
    "plt.annotate(text = 'α = 0.025\\n(Rejection Region for H0)', xy = (78, 0.0005), xytext = (78.5, 0.008), \n",
    "             arrowprops = dict(facecolor = 'black', arrowstyle = 'simple'))\n",
    "\n",
    "plt.annotate(text = 'α = 0.025\\n(Rejection Region for H0)', xy = (34, 0.0005), xytext = (15.5, 0.008), \n",
    "             arrowprops = dict(facecolor = 'black', arrowstyle = 'simple'))\n",
    "\n",
    "plt.annotate(text = 'χ2_crit = '+ str(round(chi2_val_right,2)), xy = (chi2_val_right, 0.02), xytext = (chi2_val_right+3, 0.023), \n",
    "            arrowprops = dict(facecolor = 'black', arrowstyle = 'simple'))\n",
    "\n",
    "plt.annotate(text = 'χ2_crit = '+ str(round(chi2_val_left,2)), xy = (chi2_val_left, 0.02), xytext = (chi2_val_left-15, 0.023), \n",
    "            arrowprops = dict(facecolor = 'black', arrowstyle = 'simple'))\n",
    "\n",
    "# use below code to print the values in the graph\n",
    "# 'x' and 'y' gives position of the text\n",
    "# 's' is the text \n",
    "plt.text(x = 45, y = 0.02, s = 'Acceptance Region for H0 \\n (1 - α)')\n",
    "\n",
    "# assign the x-axis labels\n",
    "# pass the position of labels to the parameter, 'ticks'\n",
    "# pass the required labels to the parameter, 'labels'\n",
    "plt.xticks(ticks = [20, 40, 80, 100, 120, round(chi_test,2)], \n",
    "           labels = [20, 40, 80, 100, 120, 'χ2_test = '+str(round(chi_test,2))])\n",
    "\n",
    "# set plot and axes labels\n",
    "# set text size using 'fontsize'\n",
    "plt.xlabel('χ2', fontsize = 15)\n",
    "plt.ylabel('Probability', fontsize = 15)\n",
    "plt.title('Test Region', fontsize = 15)\n",
    "\n",
    "# display the plot\n",
    "plt.show()"
   ]
  },
  {
   "cell_type": "markdown",
   "metadata": {
    "id": "gp4OP2bWBeET"
   },
   "source": [
    "The above plot shows that the test statistic value is in the acceptance region, which implies that we fail to reject (i.e. accept) $H_{0}$."
   ]
  },
  {
   "cell_type": "markdown",
   "metadata": {
    "id": "aCXuAtbnBeET"
   },
   "source": [
    "#### 2. At a dairy, the milk is usually supplied in bottles. The manager does not want to exceed the variance of litres of milk cans to 0.26 squarelitres. Some of  the following data gives the litres of milk in the cans. Write the null and the alternative hypothesis. Test whether the variance of litres of milk cans is more than 0.26 squarelitres at 5% level of significance."
   ]
  },
  {
   "cell_type": "markdown",
   "metadata": {
    "id": "ZPq_T8GLBeET"
   },
   "source": [
    "Given data:\n",
    "\n",
    "        milk_lit = [1.5, 1.3, 1.5, 1.5, 1.4, 1.7, 1.6, 1.2]"
   ]
  },
  {
   "cell_type": "markdown",
   "metadata": {
    "id": "OzcGLOvpBeET"
   },
   "source": [
    "The null and alternative hypothesis is:\n",
    "\n",
    "H<sub>0</sub>: $\\sigma^{2} \\leq 0.26$<br>\n",
    "H<sub>1</sub>: $\\sigma^{2} > 0.26$"
   ]
  },
  {
   "cell_type": "code",
   "execution_count": 30,
   "metadata": {
    "id": "fcMnHOLoBeET",
    "outputId": "ffd09a1d-76be-429d-ea6e-a6ddd354fc3b"
   },
   "outputs": [
    {
     "name": "stdout",
     "output_type": "stream",
     "text": [
      "Degrees of freedom: 7\n"
     ]
    }
   ],
   "source": [
    "# given data\n",
    "milk_lit = [1.5, 1.3, 1.5, 1.5, 1.4, 1.7, 1.6, 1.2]\n",
    "\n",
    "# hypothesized variance\n",
    "sig_2 = 0.26\n",
    "\n",
    "# sample size\n",
    "n = len(milk_lit)\n",
    "\n",
    "# the population mean is unknown, use sample mean\n",
    "samp_mean = np.mean(milk_lit)\n",
    "\n",
    "# degrees of freedom\n",
    "print('Degrees of freedom:', n-1)"
   ]
  },
  {
   "cell_type": "markdown",
   "metadata": {
    "id": "QIml0zfyBeET"
   },
   "source": [
    "For ⍺ = 0.05 and degrees of freedom = 7, calculate the critical value for the right-tail."
   ]
  },
  {
   "cell_type": "code",
   "execution_count": 31,
   "metadata": {
    "id": "z4WuaIKXBeET",
    "outputId": "25a00055-3feb-496e-bb1d-1008bf2fc35f"
   },
   "outputs": [
    {
     "name": "stdout",
     "output_type": "stream",
     "text": [
      "Critical value for chi-square test: 2.1673\n"
     ]
    }
   ],
   "source": [
    "# calculate the χ2-value for 95% of confidence level\n",
    "# use 'stats.chi2.isf()' to find the χ2-value corresponding to the upper tail probability 'q'\n",
    "# pass the value of '1 - alpha' to the parameter 'q', here alpha = 0.05\n",
    "# pass the degrees of freedom to the parameter 'df' \n",
    "# use 'round()' to round-off the value to 4 digits\n",
    "chi2_val = np.abs(round(stats.chi2.isf(q = 1 - 0.05, df = 7), 4))\n",
    "\n",
    "print('Critical value for chi-square test:', chi2_val)"
   ]
  },
  {
   "cell_type": "markdown",
   "metadata": {
    "id": "7VmxVRWIBeEU"
   },
   "source": [
    "i.e. if the chi-square value is greater than 2.1673 then we reject the null hypothesis."
   ]
  },
  {
   "cell_type": "code",
   "execution_count": 32,
   "metadata": {
    "id": "owPQIY6oBeEU",
    "outputId": "f1f4acce-507c-478f-eca0-630662172fa5"
   },
   "outputs": [
    {
     "name": "stdout",
     "output_type": "stream",
     "text": [
      "Test Statistic: 0.6875\n"
     ]
    }
   ],
   "source": [
    "# calculate the test statistic\n",
    "chi_test = (np.sum((milk_lit - samp_mean)**2)) / sig_2\n",
    "\n",
    "# print the test statistic\n",
    "print('Test Statistic:', chi_test)"
   ]
  },
  {
   "cell_type": "code",
   "execution_count": 33,
   "metadata": {
    "id": "eO1X_CNuBeEU",
    "outputId": "17e7f29d-156b-47b9-83fc-9f413a333c09"
   },
   "outputs": [
    {
     "name": "stdout",
     "output_type": "stream",
     "text": [
      "p-value: 0.998429948137378\n"
     ]
    }
   ],
   "source": [
    "# calculate P(X > chi_test)\n",
    "# pass the test statistic value to 'x'\n",
    "# pass the degrees of freedom to 'df'\n",
    "p_val = stats.chi2.sf(x = chi_test, df = 7)\n",
    "\n",
    "# print the p-value\n",
    "print('p-value:', p_val)"
   ]
  },
  {
   "cell_type": "markdown",
   "metadata": {
    "id": "iRHzFUuXBeEU"
   },
   "source": [
    "The above output shows that the chi-square test statistic is less than 2.1673, the p-value is greater than 0.05. Thus we fail to reject (i.e. accept) the null hypothesis and conclude that the variance of litres of milk cans is less than 0.26 squarelitres."
   ]
  }
 ],
 "metadata": {
  "colab": {
   "collapsed_sections": [
    "Qc3N_IDuBeEM",
    "BOZf9d3vBeEN",
    "IMZ2KKO4BeEP",
    "SJPJaQS4BeEQ",
    "aCXuAtbnBeET",
    "ZquQFvOqBeEV",
    "90ILMGFbBeEW",
    "KBWviHQuBeEY",
    "DdMzwzGvBeEZ",
    "0S18h3RYBeEb",
    "T3Kh044-BeEc",
    "99sT6G7FBeEe",
    "--L32RO-BeEg",
    "aB1DsBRCBeEj"
   ],
   "name": "SMDM - Faculty Notebook (Session 5).ipynb",
   "provenance": []
  },
  "kernelspec": {
   "display_name": "Python 3 (ipykernel)",
   "language": "python",
   "name": "python3"
  },
  "language_info": {
   "codemirror_mode": {
    "name": "ipython",
    "version": 3
   },
   "file_extension": ".py",
   "mimetype": "text/x-python",
   "name": "python",
   "nbconvert_exporter": "python",
   "pygments_lexer": "ipython3",
   "version": "3.10.7"
  }
 },
 "nbformat": 4,
 "nbformat_minor": 1
}
