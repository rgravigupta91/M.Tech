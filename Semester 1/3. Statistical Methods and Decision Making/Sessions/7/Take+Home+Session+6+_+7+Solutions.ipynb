{
 "cells": [
  {
   "cell_type": "markdown",
   "id": "fcc614d1",
   "metadata": {},
   "source": [
    "<table align=\"left\" width=100%>\n",
    "    <tr>\n",
    "        <td width=\"20%\">\n",
    "            <img src=\"GL-2.png\">\n",
    "        </td>\n",
    "        <td>\n",
    "            <div align=\"center\">\n",
    "                <font color=\"#21618C\" size=8px>\n",
    "                  <b> Take Home<br>(Session 6 & 7)</b>\n",
    "                </font>\n",
    "            </div>\n",
    "        </td>\n",
    "    </tr>\n",
    "</table>"
   ]
  },
  {
   "cell_type": "code",
   "execution_count": 1,
   "id": "9f88a9de",
   "metadata": {},
   "outputs": [],
   "source": [
    "# import 'pandas' \n",
    "import pandas as pd \n",
    "\n",
    "# import 'numpy' \n",
    "import numpy as np\n",
    "\n",
    "# import subpackage of matplotlib\n",
    "import matplotlib.pyplot as plt\n",
    "\n",
    "# import 'seaborn'\n",
    "import seaborn as sns\n",
    "\n",
    "# to suppress warnings \n",
    "from warnings import filterwarnings\n",
    "filterwarnings('ignore')\n",
    "\n",
    "# import statsmodels\n",
    "import statsmodels.api as sm\n",
    "\n",
    "# import 'stats' package from scipy library\n",
    "from scipy import stats\n",
    "\n",
    "# import statistics to perform statistical computations\n",
    "import statistics\n",
    "\n",
    "# to test the normality \n",
    "from scipy.stats import shapiro\n",
    "\n",
    "# import a library to perform Z-test\n",
    "from statsmodels.stats import weightstats as stests\n",
    "\n",
    "# import statsmodels\n",
    "from statsmodels.formula.api import ols\n",
    "from statsmodels.stats.anova import anova_lm\n",
    "\n",
    "# import the functions to perform Chi-square tests\n",
    "from scipy.stats import chi2_contingency\n",
    "from scipy.stats import chisquare\n",
    "\n",
    "# function to perform post-hoc test\n",
    "import statsmodels.stats.multicomp as mc"
   ]
  },
  {
   "cell_type": "code",
   "execution_count": 2,
   "id": "bdeef467",
   "metadata": {},
   "outputs": [],
   "source": [
    "# set the plot size using 'rcParams'\n",
    "# once the plot size is set using 'rcParams', it sets the size of all the forthcoming plots in the file\n",
    "# pass width and height in inches to 'figure.figsize' \n",
    "plt.rcParams['figure.figsize'] = [15,8]"
   ]
  },
  {
   "cell_type": "markdown",
   "id": "824fbaa7",
   "metadata": {},
   "source": [
    "### Let's begin with some hands-on practice exercises"
   ]
  },
  {
   "cell_type": "markdown",
   "id": "89960952",
   "metadata": {},
   "source": [
    "<table align=\"left\">\n",
    "    <tr>\n",
    "        <td width=\"6%\">\n",
    "            <img src=\"question_icon.png\">\n",
    "        </td>\n",
    "        <td>\n",
    "            <div align=\"left\", style=\"font-size:120%\">\n",
    "                <font color=\"#21618C\">\n",
    "                    <b>1. The sales manager at an electronics company wants to study if online sales of their products in 2019 follow the same distribution as the online sales of products in 2015. He collected the sample of 300 products sold in 2019. Help the manager to test his claim using p-value technique at a 99% confidence level.</b>\n",
    "                </font>\n",
    "            </div>\n",
    "        </td>\n",
    "    </tr>\n",
    "</table>"
   ]
  },
  {
   "cell_type": "markdown",
   "id": "5c924f65",
   "metadata": {},
   "source": [
    "<img src='chi_2.png'>"
   ]
  },
  {
   "cell_type": "markdown",
   "id": "df2bc909",
   "metadata": {},
   "source": [
    "The null and alternative hypothesis is:\n",
    "\n",
    "H<sub>0</sub>: There is no significant difference between sales in 2015 and 2019. <br>\n",
    "H<sub>1</sub>: There is a significant difference between sales in 2015 and 2019."
   ]
  },
  {
   "cell_type": "code",
   "execution_count": 21,
   "id": "88971e7b",
   "metadata": {},
   "outputs": [
    {
     "name": "stdout",
     "output_type": "stream",
     "text": [
      "p-value: 1.3776246111575923e-05\n"
     ]
    }
   ],
   "source": [
    "# given observed values\n",
    "observed_value = [85, 90, 125]\n",
    "\n",
    "# expected % sale in 2015 \n",
    "exp_count = [0.38, 0.20, 0.42]\n",
    "\n",
    "# calculate the expected values for each category\n",
    "expected_value = np.array(exp_count) * 300\n",
    "\n",
    "# use the 'chisquare()' to perform the goodness of fit test\n",
    "# the function returns the test statistic value and corresponding p-value\n",
    "# pass the observed values to the parameter, 'f_obs'\n",
    "# pass the expected values to the parameter, 'f_exp'\n",
    "stat, p_value = chisquare(f_obs = observed_value, f_exp = expected_value)\n",
    "\n",
    "# print the p-value\n",
    "print('p-value:', p_value)"
   ]
  },
  {
   "cell_type": "markdown",
   "id": "efbea92b",
   "metadata": {},
   "source": [
    "The above output shows that the p-value is less than 0.01. Thus, we reject the null hypothesis and conclude that there is a significant difference between sales in 2015 and 2019."
   ]
  },
  {
   "cell_type": "markdown",
   "id": "b0e4739e",
   "metadata": {},
   "source": [
    "<table align=\"left\">\n",
    "    <tr>\n",
    "        <td width=\"6%\">\n",
    "            <img src=\"question_icon.png\">\n",
    "        </td>\n",
    "        <td>\n",
    "            <div align=\"left\", style=\"font-size:120%\">\n",
    "                <font color=\"#21618C\">\n",
    "                    <b>2. Use Chi Square testing to check if the category  of car maintenance is dependent on the type of car's transmission. Test the hypothesis with 95% confidence.</b>\n",
    "                </font>\n",
    "            </div>\n",
    "        </td>\n",
    "    </tr>\n",
    "</table>"
   ]
  },
  {
   "cell_type": "markdown",
   "id": "eece7553",
   "metadata": {},
   "source": [
    "<img src='chi_ind.png'>"
   ]
  },
  {
   "cell_type": "markdown",
   "id": "c9eb5c72",
   "metadata": {},
   "source": [
    "The null and alternative hypothesis is:\n",
    "\n",
    "H<sub>0</sub>: Type of car maintenance and type of transmission is independent<br>\n",
    "H<sub>1</sub>: Type of car maintenance and type of transmission is not independent\n",
    "\n",
    "There are 3 types of cars and two types of transmissions. Thus degrees of freedom are (3-1)(2-1) = 2. And given level of significance is 0.05."
   ]
  },
  {
   "cell_type": "code",
   "execution_count": 22,
   "id": "6a9e6fcd",
   "metadata": {},
   "outputs": [
    {
     "data": {
      "text/plain": [
       "array([[104,  85,  78],\n",
       "       [ 35,  61,  72]])"
      ]
     },
     "execution_count": 22,
     "metadata": {},
     "output_type": "execute_result"
    }
   ],
   "source": [
    "# observed values  \n",
    "observed_value = np.array([[104, 85, 78], [35, 61, 72]])\n",
    "observed_value"
   ]
  },
  {
   "cell_type": "code",
   "execution_count": 23,
   "id": "e9f6c26b",
   "metadata": {},
   "outputs": [
    {
     "name": "stdout",
     "output_type": "stream",
     "text": [
      "Test statistic: 16.775\n",
      "p-value: 0.0002\n",
      "Degrees of freedom: 2\n",
      "Expected values: [[85.31724138 89.6137931  92.06896552]\n",
      " [53.68275862 56.3862069  57.93103448]]\n"
     ]
    }
   ],
   "source": [
    "# use the 'chi2_contingency()' to check the independence of variables\n",
    "# the function returns the test statistic value, corresponding p-value, degrees of freedom of the test and expected values\n",
    "# pass the observed values to the parameter, 'observed'\n",
    "# 'correction = False' will not apply the Yates' correction\n",
    "test_stat, p, dof, expected_value = chi2_contingency(observed = observed_value, correction = False)\n",
    "\n",
    "print(\"Test statistic:\", round(test_stat,3))\n",
    "print(\"p-value:\",round(p,4))\n",
    "print(\"Degrees of freedom:\", dof)\n",
    "print(\"Expected values:\", expected_value)"
   ]
  },
  {
   "cell_type": "markdown",
   "id": "8466d2ab",
   "metadata": {},
   "source": [
    "The above output shows that the p-value is less than 0.05. Thus, we reject the null hypothesis and conclude that there is a significant difference between type of car maintenance and transmission."
   ]
  },
  {
   "cell_type": "markdown",
   "id": "eb5c4157",
   "metadata": {},
   "source": [
    "<table align=\"left\">\n",
    "    <tr>\n",
    "        <td width=\"6%\">\n",
    "            <img src=\"question_icon.png\">\n",
    "        </td>\n",
    "        <td>\n",
    "            <div align=\"left\", style=\"font-size:120%\">\n",
    "                <font color=\"#21618C\">\n",
    "                    <b>3. The company claims that in the organization, 68% of employees are there with rare travelling, 20% with frequent travelling and 12% of employees does not need to travel for business. Check if the given data fits with the company's claimed distribution. Use the p-value technique with 99% confidence. </b>\n",
    "                </font>\n",
    "            </div>\n",
    "        </td>\n",
    "    </tr>\n",
    "</table>"
   ]
  },
  {
   "cell_type": "markdown",
   "id": "3e3a9f5a",
   "metadata": {},
   "source": [
    "Use the data available in the CSV file `Employee_Attrition.csv`."
   ]
  },
  {
   "cell_type": "code",
   "execution_count": 25,
   "id": "3141b236",
   "metadata": {},
   "outputs": [
    {
     "data": {
      "text/html": [
       "<div>\n",
       "<style scoped>\n",
       "    .dataframe tbody tr th:only-of-type {\n",
       "        vertical-align: middle;\n",
       "    }\n",
       "\n",
       "    .dataframe tbody tr th {\n",
       "        vertical-align: top;\n",
       "    }\n",
       "\n",
       "    .dataframe thead th {\n",
       "        text-align: right;\n",
       "    }\n",
       "</style>\n",
       "<table border=\"1\" class=\"dataframe\">\n",
       "  <thead>\n",
       "    <tr style=\"text-align: right;\">\n",
       "      <th></th>\n",
       "      <th>Age</th>\n",
       "      <th>Attrition</th>\n",
       "      <th>BusinessTravel</th>\n",
       "      <th>DailyRate</th>\n",
       "      <th>Department</th>\n",
       "      <th>DistanceFromHome</th>\n",
       "      <th>Education</th>\n",
       "      <th>EducationField</th>\n",
       "      <th>EmployeeCount</th>\n",
       "      <th>EmployeeNumber</th>\n",
       "      <th>...</th>\n",
       "      <th>RelationshipSatisfaction</th>\n",
       "      <th>StandardHours</th>\n",
       "      <th>StockOptionLevel</th>\n",
       "      <th>TotalWorkingYears</th>\n",
       "      <th>TrainingTimesLastYear</th>\n",
       "      <th>WorkLifeBalance</th>\n",
       "      <th>YearsAtCompany</th>\n",
       "      <th>YearsInCurrentRole</th>\n",
       "      <th>YearsSinceLastPromotion</th>\n",
       "      <th>YearsWithCurrManager</th>\n",
       "    </tr>\n",
       "  </thead>\n",
       "  <tbody>\n",
       "    <tr>\n",
       "      <th>0</th>\n",
       "      <td>41</td>\n",
       "      <td>Yes</td>\n",
       "      <td>Travel_Rarely</td>\n",
       "      <td>1102</td>\n",
       "      <td>Sales</td>\n",
       "      <td>1</td>\n",
       "      <td>2</td>\n",
       "      <td>Life Sciences</td>\n",
       "      <td>1</td>\n",
       "      <td>1</td>\n",
       "      <td>...</td>\n",
       "      <td>1</td>\n",
       "      <td>80</td>\n",
       "      <td>0</td>\n",
       "      <td>8</td>\n",
       "      <td>0</td>\n",
       "      <td>1</td>\n",
       "      <td>6</td>\n",
       "      <td>4</td>\n",
       "      <td>0</td>\n",
       "      <td>5</td>\n",
       "    </tr>\n",
       "    <tr>\n",
       "      <th>1</th>\n",
       "      <td>49</td>\n",
       "      <td>No</td>\n",
       "      <td>Travel_Frequently</td>\n",
       "      <td>279</td>\n",
       "      <td>Research &amp; Development</td>\n",
       "      <td>8</td>\n",
       "      <td>1</td>\n",
       "      <td>Life Sciences</td>\n",
       "      <td>1</td>\n",
       "      <td>2</td>\n",
       "      <td>...</td>\n",
       "      <td>4</td>\n",
       "      <td>80</td>\n",
       "      <td>1</td>\n",
       "      <td>10</td>\n",
       "      <td>3</td>\n",
       "      <td>3</td>\n",
       "      <td>10</td>\n",
       "      <td>7</td>\n",
       "      <td>1</td>\n",
       "      <td>7</td>\n",
       "    </tr>\n",
       "  </tbody>\n",
       "</table>\n",
       "<p>2 rows × 35 columns</p>\n",
       "</div>"
      ],
      "text/plain": [
       "   Age Attrition     BusinessTravel  DailyRate              Department  \\\n",
       "0   41       Yes      Travel_Rarely       1102                   Sales   \n",
       "1   49        No  Travel_Frequently        279  Research & Development   \n",
       "\n",
       "   DistanceFromHome  Education EducationField  EmployeeCount  EmployeeNumber  \\\n",
       "0                 1          2  Life Sciences              1               1   \n",
       "1                 8          1  Life Sciences              1               2   \n",
       "\n",
       "   ...  RelationshipSatisfaction StandardHours  StockOptionLevel  \\\n",
       "0  ...                         1            80                 0   \n",
       "1  ...                         4            80                 1   \n",
       "\n",
       "   TotalWorkingYears  TrainingTimesLastYear WorkLifeBalance  YearsAtCompany  \\\n",
       "0                  8                      0               1               6   \n",
       "1                 10                      3               3              10   \n",
       "\n",
       "  YearsInCurrentRole  YearsSinceLastPromotion  YearsWithCurrManager  \n",
       "0                  4                        0                     5  \n",
       "1                  7                        1                     7  \n",
       "\n",
       "[2 rows x 35 columns]"
      ]
     },
     "execution_count": 25,
     "metadata": {},
     "output_type": "execute_result"
    }
   ],
   "source": [
    "# read the sample data \n",
    "df_emp = pd.read_csv('Employee_Attrition.csv')\n",
    "\n",
    "# display the first two observations\n",
    "df_emp.head(2)"
   ]
  },
  {
   "cell_type": "markdown",
   "id": "c73e6493",
   "metadata": {},
   "source": [
    "The null and alternative hypothesis is:\n",
    "\n",
    "H<sub>0</sub>: There is no significant difference between the observed and expected values. <br>\n",
    "H<sub>1</sub>: There is a significant difference between the observed and expected values."
   ]
  },
  {
   "cell_type": "code",
   "execution_count": 26,
   "id": "86270e89",
   "metadata": {},
   "outputs": [
    {
     "data": {
      "text/plain": [
       "Travel_Rarely        1043\n",
       "Travel_Frequently     277\n",
       "Non-Travel            150\n",
       "Name: BusinessTravel, dtype: int64"
      ]
     },
     "execution_count": 26,
     "metadata": {},
     "output_type": "execute_result"
    }
   ],
   "source": [
    "# observed values\n",
    "df_emp['BusinessTravel'].value_counts()"
   ]
  },
  {
   "cell_type": "code",
   "execution_count": 27,
   "id": "17669b02",
   "metadata": {},
   "outputs": [
    {
     "name": "stdout",
     "output_type": "stream",
     "text": [
      "p-value: 0.036\n"
     ]
    }
   ],
   "source": [
    "# given observed values\n",
    "observed_value = [1043, 277, 150]\n",
    "\n",
    "# expected percentage \n",
    "exp_count = [0.68, 0.20, 0.12]\n",
    "\n",
    "# calculate the expected values for each category\n",
    "expected_value = np.array(exp_count) * len(df_emp)\n",
    "\n",
    "# round-off the values to integers\n",
    "expected_value = round(pd.Series(expected_value))\n",
    "\n",
    "# use the 'chisquare()' to perform the goodness of fit test\n",
    "# the function returns the test statistic value and corresponding p-value\n",
    "# pass the observed values to the parameter, 'f_obs'\n",
    "# pass the expected values to the parameter, 'f_exp'\n",
    "stat, p_value = chisquare(f_obs = observed_value, f_exp = expected_value)\n",
    "\n",
    "\n",
    "# use round function to round off the values\n",
    "p_value = round(p_value,3)\n",
    "\n",
    "\n",
    "print('p-value:', p_value)"
   ]
  },
  {
   "cell_type": "markdown",
   "id": "4606f7bd",
   "metadata": {},
   "source": [
    "The above output shows that the p-value is greater than 0.01. Thus, we fail to reject (i.e. accept) the null hypothesis and conclude that company's claim is correct. i.e. there is no significant difference between the observed and expected values."
   ]
  },
  {
   "cell_type": "markdown",
   "id": "55703d49",
   "metadata": {},
   "source": [
    "<table align=\"left\">\n",
    "    <tr>\n",
    "        <td width=\"6%\">\n",
    "            <img src=\"question_icon.png\">\n",
    "        </td>\n",
    "        <td>\n",
    "            <div align=\"left\", style=\"font-size:120%\">\n",
    "                <font color=\"#21618C\">\n",
    "                        <b>4. Check whether travelling for the business is related to the gender of an employee. Use the p-value technique to test the claim with 90% confidence. </b>\n",
    "                </font>\n",
    "            </div>\n",
    "        </td>\n",
    "    </tr>\n",
    "</table>"
   ]
  },
  {
   "cell_type": "markdown",
   "id": "f63d66a4",
   "metadata": {},
   "source": [
    "Use the data available in the CSV file `Employee_Attrition.csv`."
   ]
  },
  {
   "cell_type": "markdown",
   "id": "8d2172e1",
   "metadata": {},
   "source": [
    "The null and alternative hypothesis is:\n",
    "\n",
    "H<sub>0</sub>: Business travel and gender of an employee are independent<br>\n",
    "H<sub>1</sub>: Business travel and gender of an employee are not independent."
   ]
  },
  {
   "cell_type": "code",
   "execution_count": 28,
   "id": "85b9dc19",
   "metadata": {},
   "outputs": [
    {
     "data": {
      "text/plain": [
       "array([[ 49, 101],\n",
       "       [117, 160],\n",
       "       [422, 621]], dtype=int64)"
      ]
     },
     "execution_count": 28,
     "metadata": {},
     "output_type": "execute_result"
    }
   ],
   "source": [
    "# use 'crosstab()' to create a table for each type of business travel and gender \n",
    "table = pd.crosstab(df_emp['BusinessTravel'], df_emp['Gender'])\n",
    "\n",
    "# observed values  \n",
    "observed_value = table.values\n",
    "observed_value"
   ]
  },
  {
   "cell_type": "code",
   "execution_count": 29,
   "id": "e15bb355",
   "metadata": {},
   "outputs": [
    {
     "name": "stdout",
     "output_type": "stream",
     "text": [
      "p-value: 0.133\n"
     ]
    }
   ],
   "source": [
    "# use the 'chi2_contingency()' to check the independence of variables\n",
    "# the function returns the test statistic value, corresponding p-value, degrees of freedom of the test and expected values\n",
    "# pass the observed values to the parameter, 'observed'\n",
    "# 'correction = False' will not apply the Yates' correction\n",
    "test_stat, p, dof, expected_value = chi2_contingency(observed = observed_value, correction = False)\n",
    "\n",
    "# use round function to round off the values\n",
    "p = round(p,3)\n",
    "\n",
    "print(\"p-value:\", p)"
   ]
  },
  {
   "cell_type": "markdown",
   "id": "dad405b3",
   "metadata": {},
   "source": [
    "The above output shows that the p-value is greater than 0.1, thus we fail to reject (i.e. accept) the null hypothesis and conclude that the business travel is independent of the gender of an employee."
   ]
  },
  {
   "cell_type": "markdown",
   "id": "4525886f",
   "metadata": {},
   "source": [
    "<table align=\"left\">\n",
    "    <tr>\n",
    "        <td width=\"6%\">\n",
    "            <img src=\"question_icon.png\">\n",
    "        </td>\n",
    "        <td>\n",
    "            <div align=\"left\", style=\"font-size:120%\">\n",
    "                <font color=\"#21618C\">\n",
    "                    <b>5. A company produces leather belts on three different production lines. The number of defective belts produced by each line is recorded. Test if all the production lines produce on an average equal number of defective belts. Use the p-value technique to test at 5% level of significance.  </b>\n",
    "                </font>\n",
    "            </div>\n",
    "        </td>\n",
    "    </tr>\n",
    "</table>"
   ]
  },
  {
   "cell_type": "markdown",
   "id": "cef2d977",
   "metadata": {},
   "source": [
    "Use the data given in the excel file `defective_prod.xlsx`"
   ]
  },
  {
   "cell_type": "code",
   "execution_count": 30,
   "id": "9c68bb3b",
   "metadata": {},
   "outputs": [
    {
     "data": {
      "text/html": [
       "<div>\n",
       "<style scoped>\n",
       "    .dataframe tbody tr th:only-of-type {\n",
       "        vertical-align: middle;\n",
       "    }\n",
       "\n",
       "    .dataframe tbody tr th {\n",
       "        vertical-align: top;\n",
       "    }\n",
       "\n",
       "    .dataframe thead th {\n",
       "        text-align: right;\n",
       "    }\n",
       "</style>\n",
       "<table border=\"1\" class=\"dataframe\">\n",
       "  <thead>\n",
       "    <tr style=\"text-align: right;\">\n",
       "      <th></th>\n",
       "      <th>production_line</th>\n",
       "      <th>def_belts</th>\n",
       "    </tr>\n",
       "  </thead>\n",
       "  <tbody>\n",
       "    <tr>\n",
       "      <th>0</th>\n",
       "      <td>A</td>\n",
       "      <td>5.0</td>\n",
       "    </tr>\n",
       "    <tr>\n",
       "      <th>1</th>\n",
       "      <td>C</td>\n",
       "      <td>2.0</td>\n",
       "    </tr>\n",
       "    <tr>\n",
       "      <th>2</th>\n",
       "      <td>B</td>\n",
       "      <td>3.0</td>\n",
       "    </tr>\n",
       "    <tr>\n",
       "      <th>3</th>\n",
       "      <td>A</td>\n",
       "      <td>4.0</td>\n",
       "    </tr>\n",
       "    <tr>\n",
       "      <th>4</th>\n",
       "      <td>C</td>\n",
       "      <td>1.0</td>\n",
       "    </tr>\n",
       "  </tbody>\n",
       "</table>\n",
       "</div>"
      ],
      "text/plain": [
       "  production_line  def_belts\n",
       "0               A        5.0\n",
       "1               C        2.0\n",
       "2               B        3.0\n",
       "3               A        4.0\n",
       "4               C        1.0"
      ]
     },
     "execution_count": 30,
     "metadata": {},
     "output_type": "execute_result"
    }
   ],
   "source": [
    "# read the data \n",
    "df_prod = pd.read_excel('defective_prod.xlsx')\n",
    "\n",
    "# display the first five observations\n",
    "df_prod.head()"
   ]
  },
  {
   "cell_type": "markdown",
   "id": "eb15f66b",
   "metadata": {},
   "source": [
    "The null and alternative hypothesis is:\n",
    "\n",
    "H<sub>0</sub>: The average of defective belts for all the production lines is same<br>\n",
    "H<sub>1</sub>: At least one production line has a different average of defective belts"
   ]
  },
  {
   "cell_type": "markdown",
   "id": "d225817a",
   "metadata": {},
   "source": [
    "Let us check the normality of the number of defective belts from all the production lines."
   ]
  },
  {
   "cell_type": "code",
   "execution_count": 31,
   "id": "439fecbc",
   "metadata": {},
   "outputs": [
    {
     "name": "stdout",
     "output_type": "stream",
     "text": [
      "p-value: 0.114\n"
     ]
    }
   ],
   "source": [
    "# perform Shapiro-Wilk test to test the normality\n",
    "# shapiro() returns a tuple having the values of test statistics and the corresponding p-value\n",
    "stat, p_value = stats.shapiro(df_prod['def_belts'])\n",
    "\n",
    "# round funtion to round off 3 digits\n",
    "p_value = round(p_value,3)\n",
    "\n",
    "# print the p-value\n",
    "print('p-value:', p_value)"
   ]
  },
  {
   "cell_type": "markdown",
   "id": "c0d56bdf",
   "metadata": {},
   "source": [
    "From the above result, we can see that the p-value is greater than 0.05, thus we can say that the number of defective belts is normally distributed. Thus the assumption of normality is satisfied."
   ]
  },
  {
   "cell_type": "markdown",
   "id": "10363ccb",
   "metadata": {},
   "source": [
    "Let us check the equality of variances."
   ]
  },
  {
   "cell_type": "code",
   "execution_count": 32,
   "id": "f57530f8",
   "metadata": {},
   "outputs": [
    {
     "name": "stdout",
     "output_type": "stream",
     "text": [
      "P-Value: 0.449\n"
     ]
    }
   ],
   "source": [
    "# perform Levene's test for the equality of variances \n",
    "# levene() returns a tuple having the values of test statistics and the corresponding p-value\n",
    "# pass the number of defective belts from each group\n",
    "stat, p_value = stats.levene(df_prod[df_prod['production_line'] == 'A']['def_belts'], \n",
    "                             df_prod[df_prod['production_line'] == 'B']['def_belts'],\n",
    "                             df_prod[df_prod['production_line'] == 'C']['def_belts'])\n",
    "\n",
    "# round funtion to round off 3 digits\n",
    "p_value = round(p_value,3)\n",
    "\n",
    "# print the p-value \n",
    "print('P-Value:', p_value)"
   ]
  },
  {
   "cell_type": "markdown",
   "id": "18c03677",
   "metadata": {},
   "source": [
    "From the above result, we can see that the p-value is greater than 0.05, thus we can say that the population variances are equal for all the samples."
   ]
  },
  {
   "cell_type": "markdown",
   "id": "fc08daf6",
   "metadata": {},
   "source": [
    "Let us perform one-way ANOVA."
   ]
  },
  {
   "cell_type": "code",
   "execution_count": 33,
   "id": "0e5d671b",
   "metadata": {},
   "outputs": [
    {
     "name": "stdout",
     "output_type": "stream",
     "text": [
      "Test statistic: 0.838\n",
      "p-value: 0.449\n"
     ]
    }
   ],
   "source": [
    "# perform one-way ANOVA\n",
    "# pass the given data\n",
    "f_test, p_val = stats.f_oneway(df_prod[df_prod['production_line'] == 'A']['def_belts'], \n",
    "                               df_prod[df_prod['production_line'] == 'B']['def_belts'],\n",
    "                               df_prod[df_prod['production_line'] == 'C']['def_belts'])\n",
    "# Use round funtion to round off the values\n",
    "f_test = round(f_test,3)\n",
    "p_val = round(p_val,3)\n",
    "# print the test statistic and corresponding p-value\n",
    "print('Test statistic:', f_test)\n",
    "print('p-value:', p_val)"
   ]
  },
  {
   "cell_type": "markdown",
   "id": "0da127d5",
   "metadata": {},
   "source": [
    "The above output shows that, the p-value is greater than 0.05. Thus we fail to reject (i.e. accept) the null hypothesis and conclude that the average of defective belts produced on all the production lines is the same."
   ]
  },
  {
   "cell_type": "markdown",
   "id": "bace4c7e",
   "metadata": {},
   "source": [
    "<table align=\"left\">\n",
    "    <tr>\n",
    "        <td width=\"6%\">\n",
    "            <img src=\"question_icon.png\">\n",
    "        </td>\n",
    "        <td>\n",
    "            <div align=\"left\", style=\"font-size:120%\">\n",
    "                <font color=\"#21618C\">\n",
    "                    <b>6. Check whether we can use the given dataset to study the equality of average monthly income of sales executives with a different education background in the company. Use a p-value technique to test at a 1% level of significance.</b>\n",
    "                </font>\n",
    "            </div>\n",
    "        </td>\n",
    "    </tr>\n",
    "</table>"
   ]
  },
  {
   "cell_type": "markdown",
   "id": "3851a3a8",
   "metadata": {},
   "source": [
    "Use the data available in the CSV file `sales_emp.csv`."
   ]
  },
  {
   "cell_type": "code",
   "execution_count": 34,
   "id": "64c319a7",
   "metadata": {},
   "outputs": [
    {
     "data": {
      "text/html": [
       "<div>\n",
       "<style scoped>\n",
       "    .dataframe tbody tr th:only-of-type {\n",
       "        vertical-align: middle;\n",
       "    }\n",
       "\n",
       "    .dataframe tbody tr th {\n",
       "        vertical-align: top;\n",
       "    }\n",
       "\n",
       "    .dataframe thead th {\n",
       "        text-align: right;\n",
       "    }\n",
       "</style>\n",
       "<table border=\"1\" class=\"dataframe\">\n",
       "  <thead>\n",
       "    <tr style=\"text-align: right;\">\n",
       "      <th></th>\n",
       "      <th>Age</th>\n",
       "      <th>BusinessTravel</th>\n",
       "      <th>DailyRate</th>\n",
       "      <th>DistanceFromHome</th>\n",
       "      <th>Education</th>\n",
       "      <th>EducationField</th>\n",
       "      <th>EmployeeCount</th>\n",
       "      <th>EmployeeNumber</th>\n",
       "      <th>EnvironmentSatisfaction</th>\n",
       "      <th>HourlyRate</th>\n",
       "      <th>...</th>\n",
       "      <th>RelationshipSatisfaction</th>\n",
       "      <th>StandardHours</th>\n",
       "      <th>StockOptionLevel</th>\n",
       "      <th>TotalWorkingYears</th>\n",
       "      <th>TrainingTimesLastYear</th>\n",
       "      <th>WorkLifeBalance</th>\n",
       "      <th>YearsAtCompany</th>\n",
       "      <th>YearsInCurrentRole</th>\n",
       "      <th>YearsSinceLastPromotion</th>\n",
       "      <th>YearsWithCurrManager</th>\n",
       "    </tr>\n",
       "  </thead>\n",
       "  <tbody>\n",
       "    <tr>\n",
       "      <th>0</th>\n",
       "      <td>36</td>\n",
       "      <td>Travel_Rarely</td>\n",
       "      <td>1218</td>\n",
       "      <td>9</td>\n",
       "      <td>4</td>\n",
       "      <td>Life Sciences</td>\n",
       "      <td>1</td>\n",
       "      <td>27</td>\n",
       "      <td>3</td>\n",
       "      <td>82</td>\n",
       "      <td>...</td>\n",
       "      <td>2</td>\n",
       "      <td>80</td>\n",
       "      <td>0</td>\n",
       "      <td>10</td>\n",
       "      <td>4</td>\n",
       "      <td>3</td>\n",
       "      <td>5</td>\n",
       "      <td>3</td>\n",
       "      <td>0</td>\n",
       "      <td>3</td>\n",
       "    </tr>\n",
       "    <tr>\n",
       "      <th>1</th>\n",
       "      <td>39</td>\n",
       "      <td>Travel_Rarely</td>\n",
       "      <td>895</td>\n",
       "      <td>5</td>\n",
       "      <td>3</td>\n",
       "      <td>Technical Degree</td>\n",
       "      <td>1</td>\n",
       "      <td>42</td>\n",
       "      <td>4</td>\n",
       "      <td>56</td>\n",
       "      <td>...</td>\n",
       "      <td>3</td>\n",
       "      <td>80</td>\n",
       "      <td>1</td>\n",
       "      <td>19</td>\n",
       "      <td>6</td>\n",
       "      <td>4</td>\n",
       "      <td>1</td>\n",
       "      <td>0</td>\n",
       "      <td>0</td>\n",
       "      <td>0</td>\n",
       "    </tr>\n",
       "  </tbody>\n",
       "</table>\n",
       "<p>2 rows × 31 columns</p>\n",
       "</div>"
      ],
      "text/plain": [
       "   Age BusinessTravel  DailyRate  DistanceFromHome  Education  \\\n",
       "0   36  Travel_Rarely       1218                 9          4   \n",
       "1   39  Travel_Rarely        895                 5          3   \n",
       "\n",
       "     EducationField  EmployeeCount  EmployeeNumber  EnvironmentSatisfaction  \\\n",
       "0     Life Sciences              1              27                        3   \n",
       "1  Technical Degree              1              42                        4   \n",
       "\n",
       "   HourlyRate  ...  RelationshipSatisfaction  StandardHours  StockOptionLevel  \\\n",
       "0          82  ...                         2             80                 0   \n",
       "1          56  ...                         3             80                 1   \n",
       "\n",
       "  TotalWorkingYears  TrainingTimesLastYear  WorkLifeBalance  YearsAtCompany  \\\n",
       "0                10                      4                3               5   \n",
       "1                19                      6                4               1   \n",
       "\n",
       "  YearsInCurrentRole YearsSinceLastPromotion  YearsWithCurrManager  \n",
       "0                  3                       0                     3  \n",
       "1                  0                       0                     0  \n",
       "\n",
       "[2 rows x 31 columns]"
      ]
     },
     "execution_count": 34,
     "metadata": {},
     "output_type": "execute_result"
    }
   ],
   "source": [
    "# read the sample data \n",
    "df_emp = pd.read_csv('sales_emp.csv')\n",
    "\n",
    "# display the first two observations\n",
    "df_emp.head(2)"
   ]
  },
  {
   "cell_type": "markdown",
   "id": "f94bcceb",
   "metadata": {},
   "source": [
    "In the given dataset, the `EducationField` is a categorical variable and `MonthlyIncome` is a numeric variable. To use the one-way ANOVA test for the equality of average income for all the education fields; the sample data should be drawn from normally distributed population. Also the population variances for all the groups should be equal."
   ]
  },
  {
   "cell_type": "markdown",
   "id": "377ddaa1",
   "metadata": {},
   "source": [
    "Let us check the normality of the monthly income."
   ]
  },
  {
   "cell_type": "code",
   "execution_count": 35,
   "id": "4c61a9c0",
   "metadata": {},
   "outputs": [
    {
     "name": "stdout",
     "output_type": "stream",
     "text": [
      "p-value: 0.057\n"
     ]
    }
   ],
   "source": [
    "# perform Shapiro-Wilk test to test the normality\n",
    "# shapiro() returns a tuple having the values of test statistics and the corresponding p-value\n",
    "stat, p_value = stats.shapiro(df_emp['MonthlyIncome'])\n",
    "\n",
    "# use round function to round off the values\n",
    "p_value = round(p_value,3)\n",
    "\n",
    "# print the p-value\n",
    "print('p-value:', p_value)"
   ]
  },
  {
   "cell_type": "markdown",
   "id": "6f27c41e",
   "metadata": {},
   "source": [
    "From the above result, we can see that the p-value is greater than 0.01, thus we can say that the monthly income is normally distributed. Thus the assumption of normality is satisfied."
   ]
  },
  {
   "cell_type": "markdown",
   "id": "c90ae089",
   "metadata": {},
   "source": [
    "Let us check the equality of variances."
   ]
  },
  {
   "cell_type": "code",
   "execution_count": 36,
   "id": "f932cb6d",
   "metadata": {},
   "outputs": [
    {
     "data": {
      "text/plain": [
       "array(['Life Sciences', 'Technical Degree', 'Marketing', 'Medical',\n",
       "       'Other'], dtype=object)"
      ]
     },
     "execution_count": 36,
     "metadata": {},
     "output_type": "execute_result"
    }
   ],
   "source": [
    "# education fields in the data\n",
    "df_emp['EducationField'].unique()"
   ]
  },
  {
   "cell_type": "code",
   "execution_count": 37,
   "id": "b4891644",
   "metadata": {},
   "outputs": [
    {
     "name": "stdout",
     "output_type": "stream",
     "text": [
      "P-Value: 0.235\n"
     ]
    }
   ],
   "source": [
    "# perform Levene's test for the equality of variances \n",
    "# levene() returns a tuple having the values of test statistics and the corresponding p-value\n",
    "# pass the number of defective belts from each group\n",
    "stat, p_value = stats.levene(df_emp[df_emp['EducationField'] == 'Life Sciences']['MonthlyIncome'],\n",
    "                             df_emp[df_emp['EducationField'] == 'Technical Degree']['MonthlyIncome'],\n",
    "                             df_emp[df_emp['EducationField'] == 'Marketing']['MonthlyIncome'],\n",
    "                             df_emp[df_emp['EducationField'] == 'Medical']['MonthlyIncome'],\n",
    "                             df_emp[df_emp['EducationField'] == 'Other']['MonthlyIncome'])\n",
    "\n",
    "# use round function to round off the values\n",
    "p_value = round(p_value,3)\n",
    "\n",
    "# print the p-value \n",
    "print('P-Value:', p_value)"
   ]
  },
  {
   "cell_type": "markdown",
   "id": "548b333e",
   "metadata": {},
   "source": [
    "From the above result, we can see that the p-value is greater than 0.01, thus we can say that the population variances are equal for all the groups.\n",
    "\n",
    "Thus we can use the one-way ANOVA test to check the equality of average monthly income for all the education fields."
   ]
  },
  {
   "cell_type": "markdown",
   "id": "10ac2071",
   "metadata": {},
   "source": [
    " <table align=\"left\">\n",
    "    <tr>\n",
    "        <td width=\"6%\">\n",
    "            <img src=\"question_icon.png\">\n",
    "        </td>\n",
    "        <td>\n",
    "            <div align=\"left\", style=\"font-size:120%\">\n",
    "                <font color=\"#21618C\">\n",
    "                    <b>7. Use the sales employees' dataset to test whether the average monthly income of sales executives with different education background is equal or not. Use a critical value method with 99% confidence.</b>\n",
    "                </font>\n",
    "            </div>\n",
    "        </td>\n",
    "    </tr>\n",
    "</table>"
   ]
  },
  {
   "cell_type": "markdown",
   "id": "91ff008d",
   "metadata": {},
   "source": [
    "The null and alternative hypothesis is:\n",
    "\n",
    "H<sub>0</sub>: The average monthly income for all the education fields is the same<br>\n",
    "H<sub>1</sub>: The average monthly income due to at least one education field is different."
   ]
  },
  {
   "cell_type": "code",
   "execution_count": 38,
   "id": "a1c60ed5",
   "metadata": {},
   "outputs": [
    {
     "data": {
      "text/plain": [
       "5"
      ]
     },
     "execution_count": 38,
     "metadata": {},
     "output_type": "execute_result"
    }
   ],
   "source": [
    "# number of education fields in the data\n",
    "df_emp['EducationField'].nunique()"
   ]
  },
  {
   "cell_type": "code",
   "execution_count": 39,
   "id": "3fe2ef33",
   "metadata": {},
   "outputs": [
    {
     "data": {
      "text/plain": [
       "54"
      ]
     },
     "execution_count": 39,
     "metadata": {},
     "output_type": "execute_result"
    }
   ],
   "source": [
    "# total sample observations\n",
    "len(df_emp)"
   ]
  },
  {
   "cell_type": "markdown",
   "id": "ac03a35d",
   "metadata": {},
   "source": [
    "Here t (=number of education fields) = 5, N (=total observations) = 54 \n",
    "\n",
    "For ⍺ = 0.05 and degrees of freedom = (t-1, N-t) = (4, 49), calculate the critical value."
   ]
  },
  {
   "cell_type": "code",
   "execution_count": 40,
   "id": "c4204541",
   "metadata": {},
   "outputs": [
    {
     "name": "stdout",
     "output_type": "stream",
     "text": [
      "Critical value for F-test: 3.7283\n"
     ]
    }
   ],
   "source": [
    "# calculate the F-value for 95% of confidence level\n",
    "# use 'stats.f.isf()' to find the F-value corresponding to the upper tail probability 'q'\n",
    "# pass the value of 'alpha' to the parameter 'q', here alpha = 0.01\n",
    "# pass the degrees of freedom (= 4) to the parameter 'dfn' \n",
    "# pass the degrees of freedom (= 49) to the parameter 'dfd' \n",
    "# use 'round()' to round-off the value to 4 digits\n",
    "f = np.abs(round(stats.f.isf(q = 0.01, dfn = 4, dfd = 49), 4))\n",
    "\n",
    "print('Critical value for F-test:', f)"
   ]
  },
  {
   "cell_type": "markdown",
   "id": "0e73321f",
   "metadata": {},
   "source": [
    "i.e. if the test statistic value is greater than 2.5611 then we reject the null hypothesis."
   ]
  },
  {
   "cell_type": "code",
   "execution_count": 41,
   "id": "dc7f6c79",
   "metadata": {},
   "outputs": [
    {
     "name": "stdout",
     "output_type": "stream",
     "text": [
      "Test statistic: 0.955\n"
     ]
    }
   ],
   "source": [
    "# perform one-way ANOVA\n",
    "# pass the given data\n",
    "test_stat, p_val = stats.f_oneway(df_emp[df_emp['EducationField'] == 'Life Sciences']['MonthlyIncome'],\n",
    "                                  df_emp[df_emp['EducationField'] == 'Technical Degree']['MonthlyIncome'],\n",
    "                                  df_emp[df_emp['EducationField'] == 'Marketing']['MonthlyIncome'],\n",
    "                                  df_emp[df_emp['EducationField'] == 'Medical']['MonthlyIncome'],\n",
    "                                  df_emp[df_emp['EducationField'] == 'Other']['MonthlyIncome'])\n",
    "\n",
    "# use round function to round off the values\n",
    "test_stat = round(test_stat,3)\n",
    "\n",
    "# print the test statistic\n",
    "print('Test statistic:', test_stat)"
   ]
  },
  {
   "cell_type": "markdown",
   "id": "8185c9aa",
   "metadata": {},
   "source": [
    "The above output shows that the test statistic is less than 3.7283. Thus we fail to reject (i.e. accept) the null hypothesis and conclude that the average monthly income for all the education fields is the same."
   ]
  },
  {
   "cell_type": "markdown",
   "id": "40ce54ae",
   "metadata": {},
   "source": [
    "<table align=\"left\">\n",
    "    <tr>\n",
    "        <td width=\"6%\">\n",
    "            <img src=\"question_icon.png\">\n",
    "        </td>\n",
    "        <td>\n",
    "            <div align=\"left\", style=\"font-size:120%\">\n",
    "                <font color=\"#21618C\">\n",
    "                    <b>8. The company wants to decide their advertisement strategies for their new smartwatch. The manager collects the advertising cost (in dollars) for four different mediums. Test if the company is spending on average an equal amount on all the advertising mediums using a critical value approach with 99% confidence.</b>\n",
    "                </font>\n",
    "            </div>\n",
    "        </td>\n",
    "    </tr>\n",
    "</table>"
   ]
  },
  {
   "cell_type": "markdown",
   "id": "5325ff03",
   "metadata": {},
   "source": [
    "Use the data given in the excel file `ad_cost.xlsx`"
   ]
  },
  {
   "cell_type": "code",
   "execution_count": 42,
   "id": "14f3de27",
   "metadata": {},
   "outputs": [
    {
     "data": {
      "text/html": [
       "<div>\n",
       "<style scoped>\n",
       "    .dataframe tbody tr th:only-of-type {\n",
       "        vertical-align: middle;\n",
       "    }\n",
       "\n",
       "    .dataframe tbody tr th {\n",
       "        vertical-align: top;\n",
       "    }\n",
       "\n",
       "    .dataframe thead th {\n",
       "        text-align: right;\n",
       "    }\n",
       "</style>\n",
       "<table border=\"1\" class=\"dataframe\">\n",
       "  <thead>\n",
       "    <tr style=\"text-align: right;\">\n",
       "      <th></th>\n",
       "      <th>medium</th>\n",
       "      <th>cost</th>\n",
       "    </tr>\n",
       "  </thead>\n",
       "  <tbody>\n",
       "    <tr>\n",
       "      <th>0</th>\n",
       "      <td>Snapmart</td>\n",
       "      <td>252.0</td>\n",
       "    </tr>\n",
       "    <tr>\n",
       "      <th>1</th>\n",
       "      <td>Picbook</td>\n",
       "      <td>378.0</td>\n",
       "    </tr>\n",
       "    <tr>\n",
       "      <th>2</th>\n",
       "      <td>Funsta</td>\n",
       "      <td>312.0</td>\n",
       "    </tr>\n",
       "    <tr>\n",
       "      <th>3</th>\n",
       "      <td>Klicker</td>\n",
       "      <td>297.0</td>\n",
       "    </tr>\n",
       "    <tr>\n",
       "      <th>4</th>\n",
       "      <td>Picbook</td>\n",
       "      <td>361.0</td>\n",
       "    </tr>\n",
       "  </tbody>\n",
       "</table>\n",
       "</div>"
      ],
      "text/plain": [
       "     medium   cost\n",
       "0  Snapmart  252.0\n",
       "1   Picbook  378.0\n",
       "2    Funsta  312.0\n",
       "3   Klicker  297.0\n",
       "4   Picbook  361.0"
      ]
     },
     "execution_count": 42,
     "metadata": {},
     "output_type": "execute_result"
    }
   ],
   "source": [
    "# read the data \n",
    "df_cost = pd.read_excel('ad_cost.xlsx')\n",
    "\n",
    "# display the first five observations\n",
    "df_cost.head()"
   ]
  },
  {
   "cell_type": "markdown",
   "id": "00aba65c",
   "metadata": {},
   "source": [
    "The null and alternative hypothesis is:\n",
    "\n",
    "H<sub>0</sub>: The average count for all the advertising mediums is same<br>\n",
    "H<sub>1</sub>: At least one advertising medium has a different average cost"
   ]
  },
  {
   "cell_type": "markdown",
   "id": "563dfdae",
   "metadata": {},
   "source": [
    "Let us check the normality of the cost for all the advertising mediums."
   ]
  },
  {
   "cell_type": "code",
   "execution_count": 43,
   "id": "a19d5c5d",
   "metadata": {},
   "outputs": [
    {
     "name": "stdout",
     "output_type": "stream",
     "text": [
      "p-value: 0.911\n"
     ]
    }
   ],
   "source": [
    "# perform Shapiro-Wilk test to test the normality\n",
    "# shapiro() returns a tuple having the values of test statistics and the corresponding p-value\n",
    "stat, p_value = stats.shapiro(df_cost['cost'])\n",
    "\n",
    "# round funtion to round off 3 digits\n",
    "p_value = round(p_value,3)\n",
    "\n",
    "# print the p-value\n",
    "print('p-value:', p_value)"
   ]
  },
  {
   "cell_type": "markdown",
   "id": "94bb760e",
   "metadata": {},
   "source": [
    "From the above result, we can see that the p-value is greater than 0.05, thus we can say that the cost is normally distributed. Thus the assumption of normality is satisfied."
   ]
  },
  {
   "cell_type": "markdown",
   "id": "80fb1d01",
   "metadata": {},
   "source": [
    "Let us check the equality of variances."
   ]
  },
  {
   "cell_type": "code",
   "execution_count": 44,
   "id": "a1b64684",
   "metadata": {},
   "outputs": [
    {
     "name": "stdout",
     "output_type": "stream",
     "text": [
      "P-Value: 0.723\n"
     ]
    }
   ],
   "source": [
    "# perform Levene's test for the equality of variances \n",
    "# levene() returns a tuple having the values of test statistics and the corresponding p-value\n",
    "# pass the number of defective belts from each group\n",
    "stat, p_value = stats.levene(df_cost[df_cost['medium'] == 'Snapmart']['cost'], \n",
    "                             df_cost[df_cost['medium'] == 'Picbook']['cost'],\n",
    "                             df_cost[df_cost['medium'] == 'Funsta']['cost'],\n",
    "                             df_cost[df_cost['medium'] == 'Klicker']['cost'])\n",
    "# round funtion to round off 3 digits\n",
    "p_value = round(p_value,3)\n",
    "\n",
    "# print the p-value \n",
    "print('P-Value:', p_value)"
   ]
  },
  {
   "cell_type": "markdown",
   "id": "163a5a25",
   "metadata": {},
   "source": [
    "From the above result, we can see that the p-value is greater than 0.05, thus we can say that the population variances are equal for all the samples."
   ]
  },
  {
   "cell_type": "markdown",
   "id": "76c180a5",
   "metadata": {},
   "source": [
    "Let us perform one-way ANOVA."
   ]
  },
  {
   "cell_type": "code",
   "execution_count": 45,
   "id": "22354be1",
   "metadata": {},
   "outputs": [
    {
     "name": "stdout",
     "output_type": "stream",
     "text": [
      "t: 4\n",
      "N: 12\n"
     ]
    }
   ],
   "source": [
    "# obtain number of unique advertising mediums\n",
    "t = df_cost['medium'].nunique()\n",
    "print('t:', t)\n",
    "\n",
    "# consider the total number of observations \n",
    "N = df_cost['medium'].value_counts().sum()\n",
    "print('N:', N)"
   ]
  },
  {
   "cell_type": "markdown",
   "id": "bfab37d7",
   "metadata": {},
   "source": [
    "For ⍺ = 0.01 and degrees of freedom (= t-1, N-t) = (3, 8), calculate the critical value."
   ]
  },
  {
   "cell_type": "code",
   "execution_count": 46,
   "id": "33f52585",
   "metadata": {},
   "outputs": [
    {
     "name": "stdout",
     "output_type": "stream",
     "text": [
      "Critical value for F-test: 7.591\n"
     ]
    }
   ],
   "source": [
    "# calculate the F-value for 99% of confidence level\n",
    "# use 'stats.f.isf()' to find the F-value corresponding to the upper tail probability 'q'\n",
    "# pass the value of 'alpha' to the parameter 'q', here alpha = 0.01\n",
    "# pass the degrees of freedom (= 3) to the parameter 'dfn' \n",
    "# pass the degrees of freedom (= 8) to the parameter 'dfd' \n",
    "# use 'round()' to round-off the value to 4 digits\n",
    "f = np.abs(round(stats.f.isf(q = 0.01, dfn = 3, dfd = 8), 4))\n",
    "\n",
    "print('Critical value for F-test:', f)"
   ]
  },
  {
   "cell_type": "code",
   "execution_count": 47,
   "id": "80c17e13",
   "metadata": {},
   "outputs": [
    {
     "name": "stdout",
     "output_type": "stream",
     "text": [
      "Test statistic: 14.88\n"
     ]
    }
   ],
   "source": [
    "# perform one-way ANOVA\n",
    "# pass the given data\n",
    "f_test, p_val = stats.f_oneway(df_cost[df_cost['medium'] == 'Snapmart']['cost'], \n",
    "                               df_cost[df_cost['medium'] == 'Picbook']['cost'],\n",
    "                               df_cost[df_cost['medium'] == 'Funsta']['cost'],\n",
    "                               df_cost[df_cost['medium'] == 'Klicker']['cost'])\n",
    "# round funtion to round off 3 digits\n",
    "f_test = round(f_test,3)\n",
    "\n",
    "# print the test statistic\n",
    "print('Test statistic:', f_test)"
   ]
  },
  {
   "cell_type": "markdown",
   "id": "d0ed4b6c",
   "metadata": {},
   "source": [
    "The above output shows that the test statistic is greater than 7.591. Thus we reject the null hypothesis and conclude that the average cost for at least one advertising medium is different."
   ]
  },
  {
   "cell_type": "markdown",
   "id": "0947de27",
   "metadata": {},
   "source": [
    "<table align=\"left\">\n",
    "    <tr>\n",
    "        <td width=\"6%\">\n",
    "            <img src=\"question_icon.png\">\n",
    "        </td>\n",
    "        <td>\n",
    "            <div align=\"left\", style=\"font-size:120%\">\n",
    "                <font color=\"#21618C\">\n",
    "                    <b>9. If null hypothesis is rejected,  find which medium's advertisting cost is significantly different.</b>\n",
    "                </font>\n",
    "            </div>\n",
    "        </td>\n",
    "    </tr>\n",
    "</table>"
   ]
  },
  {
   "cell_type": "code",
   "execution_count": 48,
   "id": "6906d6a3",
   "metadata": {},
   "outputs": [
    {
     "data": {
      "text/html": [
       "<table class=\"simpletable\">\n",
       "<caption>Multiple Comparison of Means - Tukey HSD, FWER=0.01</caption>\n",
       "<tr>\n",
       "  <th>group1</th>   <th>group2</th>  <th>meandiff</th>   <th>p-adj</th>   <th>lower</th>     <th>upper</th>  <th>reject</th>\n",
       "</tr>\n",
       "<tr>\n",
       "  <td>Funsta</td>   <td>Klicker</td>   <td>-1.0</td>      <td>0.9</td>  <td>-70.3752</td>   <td>68.3752</td>  <td>False</td>\n",
       "</tr>\n",
       "<tr>\n",
       "  <td>Funsta</td>   <td>Picbook</td>  <td>41.6667</td>  <td>0.1114</td> <td>-27.7085</td>  <td>111.0419</td>  <td>False</td>\n",
       "</tr>\n",
       "<tr>\n",
       "  <td>Funsta</td>  <td>Snapmart</td>   <td>-63.0</td>    <td>0.017</td> <td>-132.3752</td>  <td>6.3752</td>   <td>False</td>\n",
       "</tr>\n",
       "<tr>\n",
       "  <td>Klicker</td>  <td>Picbook</td>  <td>42.6667</td>  <td>0.1019</td> <td>-26.7085</td>  <td>112.0419</td>  <td>False</td>\n",
       "</tr>\n",
       "<tr>\n",
       "  <td>Klicker</td> <td>Snapmart</td>   <td>-62.0</td>   <td>0.0185</td> <td>-131.3752</td>  <td>7.3752</td>   <td>False</td>\n",
       "</tr>\n",
       "<tr>\n",
       "  <td>Picbook</td> <td>Snapmart</td> <td>-104.6667</td>  <td>0.001</td> <td>-174.0419</td> <td>-35.2915</td>  <td>True</td> \n",
       "</tr>\n",
       "</table>"
      ],
      "text/plain": [
       "<class 'statsmodels.iolib.table.SimpleTable'>"
      ]
     },
     "execution_count": 48,
     "metadata": {},
     "output_type": "execute_result"
    }
   ],
   "source": [
    "# perform tukey's range test to compare the mean daily rate for pair of business travels\n",
    "# pass the daily rate to the parameter, 'data'\n",
    "# pass the type of business travel to the parameter, 'groups'\n",
    "comp = mc.MultiComparison(data = df_cost['cost'], groups = df_cost['medium'])\n",
    "\n",
    "# tukey's range test\n",
    "# pass the alpha value as 0.01 to get the 99% confidence interval \n",
    "post_hoc = comp.tukeyhsd(alpha = 0.01)\n",
    "\n",
    "# print the summary table\n",
    "post_hoc.summary()"
   ]
  },
  {
   "cell_type": "markdown",
   "id": "0b905b62",
   "metadata": {},
   "source": [
    "The `reject=False` for pair (Funsta, Klicker) denotes that we fail to reject the null hypothesis; and conclude that the Futsta and Kliker average advertising cost is not significantly differ.\n",
    "\n",
    "The `reject=True` for the pairs (Picbook, Snapmart) denotes that we reject the null hypothesis; and conclude that the average addevrtising cost  is significantly differ."
   ]
  },
  {
   "cell_type": "markdown",
   "id": "aabc82e9",
   "metadata": {},
   "source": []
  }
 ],
 "metadata": {
  "kernelspec": {
   "display_name": "Python 3 (ipykernel)",
   "language": "python",
   "name": "python3"
  },
  "language_info": {
   "codemirror_mode": {
    "name": "ipython",
    "version": 3
   },
   "file_extension": ".py",
   "mimetype": "text/x-python",
   "name": "python",
   "nbconvert_exporter": "python",
   "pygments_lexer": "ipython3",
   "version": "3.9.7"
  }
 },
 "nbformat": 4,
 "nbformat_minor": 5
}
