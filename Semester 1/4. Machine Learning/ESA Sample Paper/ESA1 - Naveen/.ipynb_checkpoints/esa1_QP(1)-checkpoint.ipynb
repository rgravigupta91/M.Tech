{
 "cells": [
  {
   "cell_type": "code",
   "execution_count": 8,
   "id": "c45df101",
   "metadata": {},
   "outputs": [],
   "source": [
    "import pandas as pd\n",
    "import numpy as np\n",
    "import statsmodels.api as sm\n",
    "from sklearn.preprocessing import LabelEncoder, OneHotEncoder, OrdinalEncoder\n",
    "import matplotlib.pyplot as plt\n",
    "import seaborn as sns"
   ]
  },
  {
   "cell_type": "code",
   "execution_count": 2,
   "id": "c06bb21a",
   "metadata": {},
   "outputs": [
    {
     "data": {
      "text/html": [
       "<div>\n",
       "<style scoped>\n",
       "    .dataframe tbody tr th:only-of-type {\n",
       "        vertical-align: middle;\n",
       "    }\n",
       "\n",
       "    .dataframe tbody tr th {\n",
       "        vertical-align: top;\n",
       "    }\n",
       "\n",
       "    .dataframe thead th {\n",
       "        text-align: right;\n",
       "    }\n",
       "</style>\n",
       "<table border=\"1\" class=\"dataframe\">\n",
       "  <thead>\n",
       "    <tr style=\"text-align: right;\">\n",
       "      <th></th>\n",
       "      <th>area_type</th>\n",
       "      <th>availability</th>\n",
       "      <th>location</th>\n",
       "      <th>size</th>\n",
       "      <th>society</th>\n",
       "      <th>total_sqft</th>\n",
       "      <th>bath</th>\n",
       "      <th>balcony</th>\n",
       "      <th>price</th>\n",
       "    </tr>\n",
       "  </thead>\n",
       "  <tbody>\n",
       "    <tr>\n",
       "      <th>0</th>\n",
       "      <td>Super built-up  Area</td>\n",
       "      <td>19-Dec</td>\n",
       "      <td>Electronic City Phase II</td>\n",
       "      <td>2 BHK</td>\n",
       "      <td>Coomee</td>\n",
       "      <td>1056</td>\n",
       "      <td>2.0</td>\n",
       "      <td>1.0</td>\n",
       "      <td>39.07</td>\n",
       "    </tr>\n",
       "    <tr>\n",
       "      <th>1</th>\n",
       "      <td>Plot  Area</td>\n",
       "      <td>Ready To Move</td>\n",
       "      <td>Chikka Tirupathi</td>\n",
       "      <td>4 Bedroom</td>\n",
       "      <td>Theanmp</td>\n",
       "      <td>2600</td>\n",
       "      <td>5.0</td>\n",
       "      <td>3.0</td>\n",
       "      <td>120.00</td>\n",
       "    </tr>\n",
       "    <tr>\n",
       "      <th>2</th>\n",
       "      <td>Built-up  Area</td>\n",
       "      <td>Ready To Move</td>\n",
       "      <td>Uttarahalli</td>\n",
       "      <td>3 BHK</td>\n",
       "      <td>NaN</td>\n",
       "      <td>1440</td>\n",
       "      <td>2.0</td>\n",
       "      <td>3.0</td>\n",
       "      <td>62.00</td>\n",
       "    </tr>\n",
       "    <tr>\n",
       "      <th>3</th>\n",
       "      <td>Super built-up  Area</td>\n",
       "      <td>Ready To Move</td>\n",
       "      <td>Lingadheeranahalli</td>\n",
       "      <td>3 BHK</td>\n",
       "      <td>Soiewre</td>\n",
       "      <td>1521</td>\n",
       "      <td>3.0</td>\n",
       "      <td>1.0</td>\n",
       "      <td>95.00</td>\n",
       "    </tr>\n",
       "    <tr>\n",
       "      <th>4</th>\n",
       "      <td>Super built-up  Area</td>\n",
       "      <td>Ready To Move</td>\n",
       "      <td>Kothanur</td>\n",
       "      <td>2 BHK</td>\n",
       "      <td>NaN</td>\n",
       "      <td>1200</td>\n",
       "      <td>2.0</td>\n",
       "      <td>1.0</td>\n",
       "      <td>51.00</td>\n",
       "    </tr>\n",
       "    <tr>\n",
       "      <th>...</th>\n",
       "      <td>...</td>\n",
       "      <td>...</td>\n",
       "      <td>...</td>\n",
       "      <td>...</td>\n",
       "      <td>...</td>\n",
       "      <td>...</td>\n",
       "      <td>...</td>\n",
       "      <td>...</td>\n",
       "      <td>...</td>\n",
       "    </tr>\n",
       "    <tr>\n",
       "      <th>13315</th>\n",
       "      <td>Built-up  Area</td>\n",
       "      <td>Ready To Move</td>\n",
       "      <td>Whitefield</td>\n",
       "      <td>5 Bedroom</td>\n",
       "      <td>ArsiaEx</td>\n",
       "      <td>3453</td>\n",
       "      <td>4.0</td>\n",
       "      <td>0.0</td>\n",
       "      <td>231.00</td>\n",
       "    </tr>\n",
       "    <tr>\n",
       "      <th>13316</th>\n",
       "      <td>Super built-up  Area</td>\n",
       "      <td>Ready To Move</td>\n",
       "      <td>Richards Town</td>\n",
       "      <td>4 BHK</td>\n",
       "      <td>NaN</td>\n",
       "      <td>3600</td>\n",
       "      <td>5.0</td>\n",
       "      <td>NaN</td>\n",
       "      <td>400.00</td>\n",
       "    </tr>\n",
       "    <tr>\n",
       "      <th>13317</th>\n",
       "      <td>Built-up  Area</td>\n",
       "      <td>Ready To Move</td>\n",
       "      <td>Raja Rajeshwari Nagar</td>\n",
       "      <td>2 BHK</td>\n",
       "      <td>Mahla T</td>\n",
       "      <td>1141</td>\n",
       "      <td>2.0</td>\n",
       "      <td>1.0</td>\n",
       "      <td>60.00</td>\n",
       "    </tr>\n",
       "    <tr>\n",
       "      <th>13318</th>\n",
       "      <td>Super built-up  Area</td>\n",
       "      <td>18-Jun</td>\n",
       "      <td>Padmanabhanagar</td>\n",
       "      <td>4 BHK</td>\n",
       "      <td>SollyCl</td>\n",
       "      <td>4689</td>\n",
       "      <td>4.0</td>\n",
       "      <td>1.0</td>\n",
       "      <td>488.00</td>\n",
       "    </tr>\n",
       "    <tr>\n",
       "      <th>13319</th>\n",
       "      <td>Super built-up  Area</td>\n",
       "      <td>Ready To Move</td>\n",
       "      <td>Doddathoguru</td>\n",
       "      <td>1 BHK</td>\n",
       "      <td>NaN</td>\n",
       "      <td>550</td>\n",
       "      <td>1.0</td>\n",
       "      <td>1.0</td>\n",
       "      <td>17.00</td>\n",
       "    </tr>\n",
       "  </tbody>\n",
       "</table>\n",
       "<p>13320 rows × 9 columns</p>\n",
       "</div>"
      ],
      "text/plain": [
       "                  area_type   availability  ... balcony   price\n",
       "0      Super built-up  Area         19-Dec  ...     1.0   39.07\n",
       "1                Plot  Area  Ready To Move  ...     3.0  120.00\n",
       "2            Built-up  Area  Ready To Move  ...     3.0   62.00\n",
       "3      Super built-up  Area  Ready To Move  ...     1.0   95.00\n",
       "4      Super built-up  Area  Ready To Move  ...     1.0   51.00\n",
       "...                     ...            ...  ...     ...     ...\n",
       "13315        Built-up  Area  Ready To Move  ...     0.0  231.00\n",
       "13316  Super built-up  Area  Ready To Move  ...     NaN  400.00\n",
       "13317        Built-up  Area  Ready To Move  ...     1.0   60.00\n",
       "13318  Super built-up  Area         18-Jun  ...     1.0  488.00\n",
       "13319  Super built-up  Area  Ready To Move  ...     1.0   17.00\n",
       "\n",
       "[13320 rows x 9 columns]"
      ]
     },
     "execution_count": 2,
     "metadata": {},
     "output_type": "execute_result"
    }
   ],
   "source": [
    "#Read/load the dataset as a pandas Dataframe.(1 mark)\n",
    "df_base = pd.read_csv(\"Bengaluru_House_Data.csv\")\n",
    "df_base"
   ]
  },
  {
   "cell_type": "code",
   "execution_count": 3,
   "id": "3bd53cb2",
   "metadata": {},
   "outputs": [
    {
     "data": {
      "text/plain": [
       "(13320, 9)"
      ]
     },
     "execution_count": 3,
     "metadata": {},
     "output_type": "execute_result"
    }
   ],
   "source": [
    "#2. Print/show the dimensions of Dataframe i.e., no of rows and columns. (1 mark)\n",
    "\n",
    "df_base.shape"
   ]
  },
  {
   "cell_type": "code",
   "execution_count": 4,
   "id": "5449e8b9",
   "metadata": {},
   "outputs": [
    {
     "name": "stdout",
     "output_type": "stream",
     "text": [
      "<class 'pandas.core.frame.DataFrame'>\n",
      "RangeIndex: 13320 entries, 0 to 13319\n",
      "Data columns (total 9 columns):\n",
      " #   Column        Non-Null Count  Dtype  \n",
      "---  ------        --------------  -----  \n",
      " 0   area_type     13320 non-null  object \n",
      " 1   availability  13320 non-null  object \n",
      " 2   location      13319 non-null  object \n",
      " 3   size          13304 non-null  object \n",
      " 4   society       7818 non-null   object \n",
      " 5   total_sqft    13320 non-null  object \n",
      " 6   bath          13247 non-null  float64\n",
      " 7   balcony       12711 non-null  float64\n",
      " 8   price         13320 non-null  float64\n",
      "dtypes: float64(3), object(6)\n",
      "memory usage: 936.7+ KB\n"
     ]
    }
   ],
   "source": [
    "#3. Print/show the data types of all the features/columns. (1 mark)\n",
    "df_base.info()"
   ]
  },
  {
   "cell_type": "code",
   "execution_count": 5,
   "id": "1e9be5f3",
   "metadata": {},
   "outputs": [
    {
     "data": {
      "text/html": [
       "<div>\n",
       "<style scoped>\n",
       "    .dataframe tbody tr th:only-of-type {\n",
       "        vertical-align: middle;\n",
       "    }\n",
       "\n",
       "    .dataframe tbody tr th {\n",
       "        vertical-align: top;\n",
       "    }\n",
       "\n",
       "    .dataframe thead th {\n",
       "        text-align: right;\n",
       "    }\n",
       "</style>\n",
       "<table border=\"1\" class=\"dataframe\">\n",
       "  <thead>\n",
       "    <tr style=\"text-align: right;\">\n",
       "      <th></th>\n",
       "      <th>bath</th>\n",
       "      <th>balcony</th>\n",
       "      <th>price</th>\n",
       "    </tr>\n",
       "  </thead>\n",
       "  <tbody>\n",
       "    <tr>\n",
       "      <th>count</th>\n",
       "      <td>13247.000000</td>\n",
       "      <td>12711.000000</td>\n",
       "      <td>13320.000000</td>\n",
       "    </tr>\n",
       "    <tr>\n",
       "      <th>mean</th>\n",
       "      <td>2.692610</td>\n",
       "      <td>1.584376</td>\n",
       "      <td>112.565627</td>\n",
       "    </tr>\n",
       "    <tr>\n",
       "      <th>std</th>\n",
       "      <td>1.341458</td>\n",
       "      <td>0.817263</td>\n",
       "      <td>148.971674</td>\n",
       "    </tr>\n",
       "    <tr>\n",
       "      <th>min</th>\n",
       "      <td>1.000000</td>\n",
       "      <td>0.000000</td>\n",
       "      <td>8.000000</td>\n",
       "    </tr>\n",
       "    <tr>\n",
       "      <th>25%</th>\n",
       "      <td>2.000000</td>\n",
       "      <td>1.000000</td>\n",
       "      <td>50.000000</td>\n",
       "    </tr>\n",
       "    <tr>\n",
       "      <th>50%</th>\n",
       "      <td>2.000000</td>\n",
       "      <td>2.000000</td>\n",
       "      <td>72.000000</td>\n",
       "    </tr>\n",
       "    <tr>\n",
       "      <th>75%</th>\n",
       "      <td>3.000000</td>\n",
       "      <td>2.000000</td>\n",
       "      <td>120.000000</td>\n",
       "    </tr>\n",
       "    <tr>\n",
       "      <th>max</th>\n",
       "      <td>40.000000</td>\n",
       "      <td>3.000000</td>\n",
       "      <td>3600.000000</td>\n",
       "    </tr>\n",
       "  </tbody>\n",
       "</table>\n",
       "</div>"
      ],
      "text/plain": [
       "               bath       balcony         price\n",
       "count  13247.000000  12711.000000  13320.000000\n",
       "mean       2.692610      1.584376    112.565627\n",
       "std        1.341458      0.817263    148.971674\n",
       "min        1.000000      0.000000      8.000000\n",
       "25%        2.000000      1.000000     50.000000\n",
       "50%        2.000000      2.000000     72.000000\n",
       "75%        3.000000      2.000000    120.000000\n",
       "max       40.000000      3.000000   3600.000000"
      ]
     },
     "execution_count": 5,
     "metadata": {},
     "output_type": "execute_result"
    }
   ],
   "source": [
    "#4. Print/show statistical summary of all the numeric featurs. (1 mark)\n",
    "df_base.select_dtypes(include=np.number).describe()"
   ]
  },
  {
   "cell_type": "code",
   "execution_count": 6,
   "id": "7467d83c",
   "metadata": {},
   "outputs": [
    {
     "data": {
      "text/html": [
       "<div>\n",
       "<style scoped>\n",
       "    .dataframe tbody tr th:only-of-type {\n",
       "        vertical-align: middle;\n",
       "    }\n",
       "\n",
       "    .dataframe tbody tr th {\n",
       "        vertical-align: top;\n",
       "    }\n",
       "\n",
       "    .dataframe thead th {\n",
       "        text-align: right;\n",
       "    }\n",
       "</style>\n",
       "<table border=\"1\" class=\"dataframe\">\n",
       "  <thead>\n",
       "    <tr style=\"text-align: right;\">\n",
       "      <th></th>\n",
       "      <th>area_type</th>\n",
       "      <th>availability</th>\n",
       "      <th>location</th>\n",
       "      <th>size</th>\n",
       "      <th>society</th>\n",
       "      <th>total_sqft</th>\n",
       "    </tr>\n",
       "  </thead>\n",
       "  <tbody>\n",
       "    <tr>\n",
       "      <th>count</th>\n",
       "      <td>13320</td>\n",
       "      <td>13320</td>\n",
       "      <td>13319</td>\n",
       "      <td>13304</td>\n",
       "      <td>7818</td>\n",
       "      <td>13320</td>\n",
       "    </tr>\n",
       "    <tr>\n",
       "      <th>unique</th>\n",
       "      <td>4</td>\n",
       "      <td>81</td>\n",
       "      <td>1305</td>\n",
       "      <td>31</td>\n",
       "      <td>2688</td>\n",
       "      <td>2117</td>\n",
       "    </tr>\n",
       "    <tr>\n",
       "      <th>top</th>\n",
       "      <td>Super built-up  Area</td>\n",
       "      <td>Ready To Move</td>\n",
       "      <td>Whitefield</td>\n",
       "      <td>2 BHK</td>\n",
       "      <td>GrrvaGr</td>\n",
       "      <td>1200</td>\n",
       "    </tr>\n",
       "    <tr>\n",
       "      <th>freq</th>\n",
       "      <td>8790</td>\n",
       "      <td>10581</td>\n",
       "      <td>540</td>\n",
       "      <td>5199</td>\n",
       "      <td>80</td>\n",
       "      <td>843</td>\n",
       "    </tr>\n",
       "  </tbody>\n",
       "</table>\n",
       "</div>"
      ],
      "text/plain": [
       "                   area_type   availability  ...  society total_sqft\n",
       "count                  13320          13320  ...     7818      13320\n",
       "unique                     4             81  ...     2688       2117\n",
       "top     Super built-up  Area  Ready To Move  ...  GrrvaGr       1200\n",
       "freq                    8790          10581  ...       80        843\n",
       "\n",
       "[4 rows x 6 columns]"
      ]
     },
     "execution_count": 6,
     "metadata": {},
     "output_type": "execute_result"
    }
   ],
   "source": [
    "#5. Print/show statistical summary for all the categorical variable. (2 marks)\n",
    "df_base.select_dtypes(include='object').describe()"
   ]
  },
  {
   "cell_type": "code",
   "execution_count": 7,
   "id": "ab033d92",
   "metadata": {},
   "outputs": [
    {
     "data": {
      "text/plain": [
       "area_type          0\n",
       "availability       0\n",
       "location           1\n",
       "size              16\n",
       "society         5502\n",
       "total_sqft         0\n",
       "bath              73\n",
       "balcony          609\n",
       "price              0\n",
       "dtype: int64"
      ]
     },
     "execution_count": 7,
     "metadata": {},
     "output_type": "execute_result"
    }
   ],
   "source": [
    "#6. Find out Feature wise Missing value counts. (2 marks)\n",
    "df_base.isnull().sum()"
   ]
  },
  {
   "cell_type": "markdown",
   "id": "e7ac2f5c",
   "metadata": {},
   "source": [
    "# EDA"
   ]
  },
  {
   "cell_type": "code",
   "execution_count": 9,
   "id": "15683586",
   "metadata": {},
   "outputs": [
    {
     "data": {
      "image/png": "[encoded data removed]",
      "text/plain": [
       "<Figure size 640x480 with 1 Axes>"
      ]
     },
     "metadata": {},
     "output_type": "display_data"
    }
   ],
   "source": [
    "#1. Show/Visualize the relationship between fetures 'bath' and 'price' using scattered plot. (1 marks)\n",
    "plt.scatter(df_base['bath'].values, df_base['price'].values)\n",
    "plt.title(\"Bath vs Price plot\")\n",
    "plt.show()"
   ]
  },
  {
   "cell_type": "code",
   "execution_count": 10,
   "id": "360ca309",
   "metadata": {},
   "outputs": [
    {
     "data": {
      "image/png": "[encoded data removed]",
      "text/plain": [
       "<Figure size 640x480 with 1 Axes>"
      ]
     },
     "metadata": {},
     "output_type": "display_data"
    }
   ],
   "source": [
    "#2. Show/Visualize the relationship between fetures 'balcony'and 'price' using scattered plot. (1 mark)\n",
    "plt.scatter(df_base['balcony'].values, df_base['price'].values)\n",
    "plt.title(\"Balcony vs Price plot\")\n",
    "plt.show()"
   ]
  },
  {
   "cell_type": "code",
   "execution_count": 15,
   "id": "adeb962f",
   "metadata": {},
   "outputs": [
    {
     "data": {
      "text/plain": [
       "<mpl_toolkits.mplot3d.art3d.Path3DCollection at 0x1f53c1d1390>"
      ]
     },
     "execution_count": 15,
     "metadata": {},
     "output_type": "execute_result"
    },
    {
     "data": {
      "image/png": "[encoded data removed]",
      "text/plain": [
       "<Figure size 640x480 with 1 Axes>"
      ]
     },
     "metadata": {},
     "output_type": "display_data"
    }
   ],
   "source": [
    "#show/Visualize the relationship between features 'bath','balcony' and 'price' using 3D Scatterplot. (2 marks)\n",
    "ax = plt.axes(projection='3d')\n",
    "ax.scatter(df_base['balcony'].values, df_base['bath'].values, df_base['price'].values)"
   ]
  },
  {
   "cell_type": "code",
   "execution_count": 18,
   "id": "99dccd3f",
   "metadata": {},
   "outputs": [
    {
     "data": {
      "text/plain": [
       "<Axes: >"
      ]
     },
     "execution_count": 18,
     "metadata": {},
     "output_type": "execute_result"
    },
    {
     "data": {
      "image/png": "[encoded data removed]",
      "text/plain": [
       "<Figure size 640x480 with 1 Axes>"
      ]
     },
     "metadata": {},
     "output_type": "display_data"
    }
   ],
   "source": [
    "#Show outliers distribution of variable 'bath' by drawing Boxplot. (3marks)\n",
    "sns.boxplot(x=df_base['bath'].values)"
   ]
  },
  {
   "cell_type": "markdown",
   "id": "75c85b4b",
   "metadata": {},
   "source": [
    "# Preprocessing Dataframe"
   ]
  },
  {
   "cell_type": "code",
   "execution_count": 19,
   "id": "b19cdc33",
   "metadata": {},
   "outputs": [
    {
     "name": "stdout",
     "output_type": "stream",
     "text": [
      "<class 'pandas.core.frame.DataFrame'>\n",
      "RangeIndex: 13320 entries, 0 to 13319\n",
      "Data columns (total 9 columns):\n",
      " #   Column        Non-Null Count  Dtype  \n",
      "---  ------        --------------  -----  \n",
      " 0   area_type     13320 non-null  object \n",
      " 1   availability  13320 non-null  object \n",
      " 2   location      13319 non-null  object \n",
      " 3   size          13304 non-null  object \n",
      " 4   society       7818 non-null   object \n",
      " 5   total_sqft    13320 non-null  object \n",
      " 6   bath          13247 non-null  float64\n",
      " 7   balcony       13320 non-null  int32  \n",
      " 8   price         13320 non-null  float64\n",
      "dtypes: float64(2), int32(1), object(6)\n",
      "memory usage: 884.7+ KB\n"
     ]
    }
   ],
   "source": [
    "#1. Replace missing values of the feature 'balcony' with numerical value 0 and convert its feature type to int.(2 marks)\n",
    "df_base.balcony.fillna(0, inplace=True)\n",
    "df_base['balcony'] = df_base['balcony'].astype(int)\n",
    "df_base.info()"
   ]
  },
  {
   "cell_type": "code",
   "execution_count": 20,
   "id": "b8b864a3",
   "metadata": {},
   "outputs": [
    {
     "name": "stdout",
     "output_type": "stream",
     "text": [
      "<class 'pandas.core.frame.DataFrame'>\n",
      "RangeIndex: 13320 entries, 0 to 13319\n",
      "Data columns (total 9 columns):\n",
      " #   Column        Non-Null Count  Dtype  \n",
      "---  ------        --------------  -----  \n",
      " 0   area_type     13320 non-null  object \n",
      " 1   availability  13320 non-null  object \n",
      " 2   location      13319 non-null  object \n",
      " 3   size          13304 non-null  object \n",
      " 4   society       7818 non-null   object \n",
      " 5   total_sqft    13320 non-null  object \n",
      " 6   bath          13320 non-null  int32  \n",
      " 7   balcony       13320 non-null  int32  \n",
      " 8   price         13320 non-null  float64\n",
      "dtypes: float64(1), int32(2), object(6)\n",
      "memory usage: 832.6+ KB\n"
     ]
    }
   ],
   "source": [
    "#2. Replace missing values of the feature 'bath' missing values with numerical 1 and convert feature type to int.(2 marks)\n",
    "df_base.bath.fillna(1, inplace=True)\n",
    "df_base['bath'] = df_base['bath'].astype(int)\n",
    "df_base.info()"
   ]
  },
  {
   "cell_type": "code",
   "execution_count": 21,
   "id": "a88568fb",
   "metadata": {},
   "outputs": [
    {
     "data": {
      "text/plain": [
       "area_type          0\n",
       "availability       0\n",
       "location           0\n",
       "size              16\n",
       "society         5502\n",
       "total_sqft         0\n",
       "bath               0\n",
       "balcony            0\n",
       "price              0\n",
       "dtype: int64"
      ]
     },
     "execution_count": 21,
     "metadata": {},
     "output_type": "execute_result"
    }
   ],
   "source": [
    "#3. Replace missing values of the feature 'location' with a constant \"missing\".(2 marks)\n",
    "df_base.location.fillna('missing', inplace=True)\n",
    "df_base.isnull().sum()"
   ]
  },
  {
   "cell_type": "code",
   "execution_count": 22,
   "id": "64f8897c",
   "metadata": {},
   "outputs": [
    {
     "data": {
      "text/plain": [
       "area_type        0\n",
       "availability     0\n",
       "location         0\n",
       "size            16\n",
       "society          0\n",
       "total_sqft       0\n",
       "bath             0\n",
       "balcony          0\n",
       "price            0\n",
       "dtype: int64"
      ]
     },
     "execution_count": 22,
     "metadata": {},
     "output_type": "execute_result"
    }
   ],
   "source": [
    "#4. Replace missing values of the feature 'society' with a constant \"missing\".(2 marks)\n",
    "df_base.society.fillna('missing', inplace=True)\n",
    "df_base.isnull().sum()"
   ]
  },
  {
   "cell_type": "code",
   "execution_count": 27,
   "id": "0cd7008b",
   "metadata": {},
   "outputs": [
    {
     "data": {
      "text/plain": [
       "area_type       0\n",
       "availability    0\n",
       "location        0\n",
       "size            0\n",
       "society         0\n",
       "total_sqft      0\n",
       "bath            0\n",
       "balcony         0\n",
       "price           0\n",
       "dtype: int64"
      ]
     },
     "execution_count": 27,
     "metadata": {},
     "output_type": "execute_result"
    }
   ],
   "source": [
    "#5. Convert the feature 'size' to int by removing alphabetic content and keep only numeric content.\n",
    "#In case of missing/null content replace by constant numeric value- 2. (3 marks)\n",
    "df_base['size'].fillna('2', inplace=True)\n",
    "df_base['size'] = df_base['size'].apply(lambda x: int(x) if(str(x).isalnum()) else int(2))\n",
    "df_base.isnull().sum()"
   ]
  },
  {
   "cell_type": "code",
   "execution_count": 29,
   "id": "84ea2774",
   "metadata": {},
   "outputs": [],
   "source": [
    "#6. Convert the feature 'total_sqft' to numerical using 'to_numeric' method. \n",
    "#Also, replace all its missing entries by mean.(3 marks)\n",
    "\n",
    "df_base['total_sqft'] = pd.to_numeric(df_base['total_sqft'], errors=\"coerce\")\n"
   ]
  },
  {
   "cell_type": "code",
   "execution_count": 30,
   "id": "00f18da9",
   "metadata": {},
   "outputs": [],
   "source": [
    "df_base.total_sqft.fillna(df_base.total_sqft.mean(), inplace=True)"
   ]
  },
  {
   "cell_type": "code",
   "execution_count": 32,
   "id": "dc3164f0",
   "metadata": {},
   "outputs": [],
   "source": [
    "lb_enc = LabelEncoder()\n",
    "df_base['avilability_encoded'] = lb_enc.fit_transform(df_base['availability'])\n",
    "df_base['location_encoded'] = lb_enc.fit_transform(df_base['location'])\n",
    "df_base['society_encoded'] = lb_enc.fit_transform(df_base['society'])"
   ]
  },
  {
   "cell_type": "code",
   "execution_count": 35,
   "id": "8deee406",
   "metadata": {},
   "outputs": [],
   "source": [
    "df_base = pd.get_dummies(df_base, columns=['area_type'], dtype=int)"
   ]
  },
  {
   "cell_type": "code",
   "execution_count": 36,
   "id": "80d68456",
   "metadata": {},
   "outputs": [
    {
     "data": {
      "text/plain": [
       "availability                       object\n",
       "location                           object\n",
       "size                                int64\n",
       "society                            object\n",
       "total_sqft                        float64\n",
       "bath                                int32\n",
       "balcony                             int32\n",
       "price                             float64\n",
       "avilability_encoded                 int32\n",
       "location_encoded                    int32\n",
       "society_encoded                     int32\n",
       "area_type_Built-up  Area            int32\n",
       "area_type_Carpet  Area              int32\n",
       "area_type_Plot  Area                int32\n",
       "area_type_Super built-up  Area      int32\n",
       "dtype: object"
      ]
     },
     "execution_count": 36,
     "metadata": {},
     "output_type": "execute_result"
    }
   ],
   "source": [
    "df_base.dtypes"
   ]
  },
  {
   "cell_type": "code",
   "execution_count": 37,
   "id": "2d16d4d5",
   "metadata": {},
   "outputs": [],
   "source": [
    "df_base.drop(columns=['availability', 'location', 'society'], axis=1, inplace=True)"
   ]
  },
  {
   "cell_type": "code",
   "execution_count": 38,
   "id": "bf8c9aef",
   "metadata": {},
   "outputs": [
    {
     "data": {
      "text/plain": [
       "size                                int64\n",
       "total_sqft                        float64\n",
       "bath                                int32\n",
       "balcony                             int32\n",
       "price                             float64\n",
       "avilability_encoded                 int32\n",
       "location_encoded                    int32\n",
       "society_encoded                     int32\n",
       "area_type_Built-up  Area            int32\n",
       "area_type_Carpet  Area              int32\n",
       "area_type_Plot  Area                int32\n",
       "area_type_Super built-up  Area      int32\n",
       "dtype: object"
      ]
     },
     "execution_count": 38,
     "metadata": {},
     "output_type": "execute_result"
    }
   ],
   "source": [
    "df_base.dtypes"
   ]
  },
  {
   "cell_type": "code",
   "execution_count": 39,
   "id": "d4893762",
   "metadata": {},
   "outputs": [],
   "source": [
    "#1. Split the processed Dataframe into 2 parts train and test with ratio as 70:30. \n",
    "#Ensure feature 'price' as target(y). (3 marks)\n",
    "\n",
    "from sklearn.model_selection import train_test_split"
   ]
  },
  {
   "cell_type": "code",
   "execution_count": 40,
   "id": "9b39771c",
   "metadata": {},
   "outputs": [],
   "source": [
    "target = df_base['price']\n",
    "X = df_base.drop(columns='price', axis=1)"
   ]
  },
  {
   "cell_type": "code",
   "execution_count": 42,
   "id": "021edb86",
   "metadata": {},
   "outputs": [],
   "source": [
    "X_train, X_test, y_train, y_test = train_test_split(X, target, test_size=0.3, random_state=100)"
   ]
  },
  {
   "cell_type": "code",
   "execution_count": 43,
   "id": "0414bdda",
   "metadata": {},
   "outputs": [
    {
     "data": {
      "text/plain": [
       "(9324, 11)"
      ]
     },
     "execution_count": 43,
     "metadata": {},
     "output_type": "execute_result"
    }
   ],
   "source": [
    "X_train.shape"
   ]
  },
  {
   "cell_type": "code",
   "execution_count": 45,
   "id": "01e6a181",
   "metadata": {},
   "outputs": [
    {
     "data": {
      "text/html": [
       "<table class=\"simpletable\">\n",
       "<caption>OLS Regression Results</caption>\n",
       "<tr>\n",
       "  <th>Dep. Variable:</th>          <td>price</td>      <th>  R-squared:         </th> <td>   0.394</td> \n",
       "</tr>\n",
       "<tr>\n",
       "  <th>Model:</th>                   <td>OLS</td>       <th>  Adj. R-squared:    </th> <td>   0.393</td> \n",
       "</tr>\n",
       "<tr>\n",
       "  <th>Method:</th>             <td>Least Squares</td>  <th>  F-statistic:       </th> <td>   672.4</td> \n",
       "</tr>\n",
       "<tr>\n",
       "  <th>Date:</th>             <td>Thu, 01 Aug 2024</td> <th>  Prob (F-statistic):</th>  <td>  0.00</td>  \n",
       "</tr>\n",
       "<tr>\n",
       "  <th>Time:</th>                 <td>21:10:01</td>     <th>  Log-Likelihood:    </th> <td> -57720.</td> \n",
       "</tr>\n",
       "<tr>\n",
       "  <th>No. Observations:</th>      <td>  9324</td>      <th>  AIC:               </th> <td>1.155e+05</td>\n",
       "</tr>\n",
       "<tr>\n",
       "  <th>Df Residuals:</th>          <td>  9314</td>      <th>  BIC:               </th> <td>1.155e+05</td>\n",
       "</tr>\n",
       "<tr>\n",
       "  <th>Df Model:</th>              <td>     9</td>      <th>                     </th>     <td> </td>    \n",
       "</tr>\n",
       "<tr>\n",
       "  <th>Covariance Type:</th>      <td>nonrobust</td>    <th>                     </th>     <td> </td>    \n",
       "</tr>\n",
       "</table>\n",
       "<table class=\"simpletable\">\n",
       "<tr>\n",
       "                 <td></td>                   <th>coef</th>     <th>std err</th>      <th>t</th>      <th>P>|t|</th>  <th>[0.025</th>    <th>0.975]</th>  \n",
       "</tr>\n",
       "<tr>\n",
       "  <th>size</th>                           <td>   -9.6089</td> <td>    3.742</td> <td>   -2.568</td> <td> 0.010</td> <td>  -16.945</td> <td>   -2.273</td>\n",
       "</tr>\n",
       "<tr>\n",
       "  <th>total_sqft</th>                     <td>    0.0536</td> <td>    0.001</td> <td>   52.884</td> <td> 0.000</td> <td>    0.052</td> <td>    0.056</td>\n",
       "</tr>\n",
       "<tr>\n",
       "  <th>bath</th>                           <td>   24.9910</td> <td>    1.037</td> <td>   24.089</td> <td> 0.000</td> <td>   22.957</td> <td>   27.025</td>\n",
       "</tr>\n",
       "<tr>\n",
       "  <th>balcony</th>                        <td>   -2.0032</td> <td>    1.453</td> <td>   -1.379</td> <td> 0.168</td> <td>   -4.851</td> <td>    0.845</td>\n",
       "</tr>\n",
       "<tr>\n",
       "  <th>avilability_encoded</th>            <td>    0.0292</td> <td>    0.067</td> <td>    0.435</td> <td> 0.663</td> <td>   -0.102</td> <td>    0.161</td>\n",
       "</tr>\n",
       "<tr>\n",
       "  <th>location_encoded</th>               <td>   -0.0053</td> <td>    0.003</td> <td>   -1.578</td> <td> 0.115</td> <td>   -0.012</td> <td>    0.001</td>\n",
       "</tr>\n",
       "<tr>\n",
       "  <th>society_encoded</th>                <td>   -0.0027</td> <td>    0.001</td> <td>   -1.853</td> <td> 0.064</td> <td>   -0.006</td> <td>    0.000</td>\n",
       "</tr>\n",
       "<tr>\n",
       "  <th>area_type_Built-up  Area</th>       <td>  -17.8472</td> <td>    4.489</td> <td>   -3.976</td> <td> 0.000</td> <td>  -26.647</td> <td>   -9.047</td>\n",
       "</tr>\n",
       "<tr>\n",
       "  <th>area_type_Carpet  Area</th>         <td>  -12.0749</td> <td>   12.347</td> <td>   -0.978</td> <td> 0.328</td> <td>  -36.277</td> <td>   12.127</td>\n",
       "</tr>\n",
       "<tr>\n",
       "  <th>area_type_Plot  Area</th>           <td>   43.3007</td> <td>    4.804</td> <td>    9.014</td> <td> 0.000</td> <td>   33.885</td> <td>   52.717</td>\n",
       "</tr>\n",
       "<tr>\n",
       "  <th>area_type_Super built-up  Area</th> <td>  -18.1830</td> <td>    4.127</td> <td>   -4.405</td> <td> 0.000</td> <td>  -26.274</td> <td>  -10.092</td>\n",
       "</tr>\n",
       "</table>\n",
       "<table class=\"simpletable\">\n",
       "<tr>\n",
       "  <th>Omnibus:</th>       <td>10967.768</td> <th>  Durbin-Watson:     </th>   <td>   1.996</td>  \n",
       "</tr>\n",
       "<tr>\n",
       "  <th>Prob(Omnibus):</th>  <td> 0.000</td>   <th>  Jarque-Bera (JB):  </th> <td>11779835.612</td>\n",
       "</tr>\n",
       "<tr>\n",
       "  <th>Skew:</th>           <td> 5.363</td>   <th>  Prob(JB):          </th>   <td>    0.00</td>  \n",
       "</tr>\n",
       "<tr>\n",
       "  <th>Kurtosis:</th>       <td>176.800</td>  <th>  Cond. No.          </th>   <td>9.33e+17</td>  \n",
       "</tr>\n",
       "</table><br/><br/>Notes:<br/>[1] Standard Errors assume that the covariance matrix of the errors is correctly specified.<br/>[2] The smallest eigenvalue is 8.18e-26. This might indicate that there are<br/>strong multicollinearity problems or that the design matrix is singular."
      ],
      "text/latex": [
       "\\begin{center}\n",
       "\\begin{tabular}{lclc}\n",
       "\\toprule\n",
       "\\textbf{Dep. Variable:}                   &      price       & \\textbf{  R-squared:         } &      0.394    \\\\\n",
       "\\textbf{Model:}                           &       OLS        & \\textbf{  Adj. R-squared:    } &      0.393    \\\\\n",
       "\\textbf{Method:}                          &  Least Squares   & \\textbf{  F-statistic:       } &      672.4    \\\\\n",
       "\\textbf{Date:}                            & Thu, 01 Aug 2024 & \\textbf{  Prob (F-statistic):} &      0.00     \\\\\n",
       "\\textbf{Time:}                            &     21:10:01     & \\textbf{  Log-Likelihood:    } &    -57720.    \\\\\n",
       "\\textbf{No. Observations:}                &        9324      & \\textbf{  AIC:               } &  1.155e+05    \\\\\n",
       "\\textbf{Df Residuals:}                    &        9314      & \\textbf{  BIC:               } &  1.155e+05    \\\\\n",
       "\\textbf{Df Model:}                        &           9      & \\textbf{                     } &               \\\\\n",
       "\\textbf{Covariance Type:}                 &    nonrobust     & \\textbf{                     } &               \\\\\n",
       "\\bottomrule\n",
       "\\end{tabular}\n",
       "\\begin{tabular}{lcccccc}\n",
       "                                          & \\textbf{coef} & \\textbf{std err} & \\textbf{t} & \\textbf{P$> |$t$|$} & \\textbf{[0.025} & \\textbf{0.975]}  \\\\\n",
       "\\midrule\n",
       "\\textbf{size}                             &      -9.6089  &        3.742     &    -2.568  &         0.010        &      -16.945    &       -2.273     \\\\\n",
       "\\textbf{total\\_sqft}                      &       0.0536  &        0.001     &    52.884  &         0.000        &        0.052    &        0.056     \\\\\n",
       "\\textbf{bath}                             &      24.9910  &        1.037     &    24.089  &         0.000        &       22.957    &       27.025     \\\\\n",
       "\\textbf{balcony}                          &      -2.0032  &        1.453     &    -1.379  &         0.168        &       -4.851    &        0.845     \\\\\n",
       "\\textbf{avilability\\_encoded}             &       0.0292  &        0.067     &     0.435  &         0.663        &       -0.102    &        0.161     \\\\\n",
       "\\textbf{location\\_encoded}                &      -0.0053  &        0.003     &    -1.578  &         0.115        &       -0.012    &        0.001     \\\\\n",
       "\\textbf{society\\_encoded}                 &      -0.0027  &        0.001     &    -1.853  &         0.064        &       -0.006    &        0.000     \\\\\n",
       "\\textbf{area\\_type\\_Built-up  Area}       &     -17.8472  &        4.489     &    -3.976  &         0.000        &      -26.647    &       -9.047     \\\\\n",
       "\\textbf{area\\_type\\_Carpet  Area}         &     -12.0749  &       12.347     &    -0.978  &         0.328        &      -36.277    &       12.127     \\\\\n",
       "\\textbf{area\\_type\\_Plot  Area}           &      43.3007  &        4.804     &     9.014  &         0.000        &       33.885    &       52.717     \\\\\n",
       "\\textbf{area\\_type\\_Super built-up  Area} &     -18.1830  &        4.127     &    -4.405  &         0.000        &      -26.274    &      -10.092     \\\\\n",
       "\\bottomrule\n",
       "\\end{tabular}\n",
       "\\begin{tabular}{lclc}\n",
       "\\textbf{Omnibus:}       & 10967.768 & \\textbf{  Durbin-Watson:     } &      1.996    \\\\\n",
       "\\textbf{Prob(Omnibus):} &    0.000  & \\textbf{  Jarque-Bera (JB):  } & 11779835.612  \\\\\n",
       "\\textbf{Skew:}          &    5.363  & \\textbf{  Prob(JB):          } &       0.00    \\\\\n",
       "\\textbf{Kurtosis:}      &  176.800  & \\textbf{  Cond. No.          } &   9.33e+17    \\\\\n",
       "\\bottomrule\n",
       "\\end{tabular}\n",
       "%\\caption{OLS Regression Results}\n",
       "\\end{center}\n",
       "\n",
       "Notes: \\newline\n",
       " [1] Standard Errors assume that the covariance matrix of the errors is correctly specified. \\newline\n",
       " [2] The smallest eigenvalue is 8.18e-26. This might indicate that there are \\newline\n",
       " strong multicollinearity problems or that the design matrix is singular."
      ],
      "text/plain": [
       "<class 'statsmodels.iolib.summary.Summary'>\n",
       "\"\"\"\n",
       "                            OLS Regression Results                            \n",
       "==============================================================================\n",
       "Dep. Variable:                  price   R-squared:                       0.394\n",
       "Model:                            OLS   Adj. R-squared:                  0.393\n",
       "Method:                 Least Squares   F-statistic:                     672.4\n",
       "Date:                Thu, 01 Aug 2024   Prob (F-statistic):               0.00\n",
       "Time:                        21:10:01   Log-Likelihood:                -57720.\n",
       "No. Observations:                9324   AIC:                         1.155e+05\n",
       "Df Residuals:                    9314   BIC:                         1.155e+05\n",
       "Df Model:                           9                                         \n",
       "Covariance Type:            nonrobust                                         \n",
       "==================================================================================================\n",
       "                                     coef    std err          t      P>|t|      [0.025      0.975]\n",
       "--------------------------------------------------------------------------------------------------\n",
       "size                              -9.6089      3.742     -2.568      0.010     -16.945      -2.273\n",
       "total_sqft                         0.0536      0.001     52.884      0.000       0.052       0.056\n",
       "bath                              24.9910      1.037     24.089      0.000      22.957      27.025\n",
       "balcony                           -2.0032      1.453     -1.379      0.168      -4.851       0.845\n",
       "avilability_encoded                0.0292      0.067      0.435      0.663      -0.102       0.161\n",
       "location_encoded                  -0.0053      0.003     -1.578      0.115      -0.012       0.001\n",
       "society_encoded                   -0.0027      0.001     -1.853      0.064      -0.006       0.000\n",
       "area_type_Built-up  Area         -17.8472      4.489     -3.976      0.000     -26.647      -9.047\n",
       "area_type_Carpet  Area           -12.0749     12.347     -0.978      0.328     -36.277      12.127\n",
       "area_type_Plot  Area              43.3007      4.804      9.014      0.000      33.885      52.717\n",
       "area_type_Super built-up  Area   -18.1830      4.127     -4.405      0.000     -26.274     -10.092\n",
       "==============================================================================\n",
       "Omnibus:                    10967.768   Durbin-Watson:                   1.996\n",
       "Prob(Omnibus):                  0.000   Jarque-Bera (JB):         11779835.612\n",
       "Skew:                           5.363   Prob(JB):                         0.00\n",
       "Kurtosis:                     176.800   Cond. No.                     9.33e+17\n",
       "==============================================================================\n",
       "\n",
       "Notes:\n",
       "[1] Standard Errors assume that the covariance matrix of the errors is correctly specified.\n",
       "[2] The smallest eigenvalue is 8.18e-26. This might indicate that there are\n",
       "strong multicollinearity problems or that the design matrix is singular.\n",
       "\"\"\""
      ]
     },
     "execution_count": 45,
     "metadata": {},
     "output_type": "execute_result"
    }
   ],
   "source": [
    "#2. Use OLS statsmodels package to build the Linear Regression model on the train set. \n",
    "#Also,generate the summary report. (6 marks)\n",
    "\n",
    "lr = sm.OLS(y_train, X_train)\n",
    "lr = lr.fit()\n",
    "lr.summary()"
   ]
  },
  {
   "cell_type": "code",
   "execution_count": 60,
   "id": "a562414d",
   "metadata": {},
   "outputs": [],
   "source": [
    "#linear reg model\n",
    "from sklearn.linear_model import LinearRegression\n",
    "\n",
    "sk_lr = LinearRegression()\n",
    "sk_lr = sk_lr.fit(X_train, y_train)"
   ]
  },
  {
   "cell_type": "code",
   "execution_count": 64,
   "id": "bcbe733b",
   "metadata": {},
   "outputs": [
    {
     "name": "stdout",
     "output_type": "stream",
     "text": [
      "0.3938404994201684\n"
     ]
    }
   ],
   "source": [
    "print(sk_lr.score(X_train, y_train))"
   ]
  },
  {
   "cell_type": "code",
   "execution_count": 65,
   "id": "c093ec8a",
   "metadata": {},
   "outputs": [
    {
     "data": {
      "text/plain": [
       "array([ 0.00000000e+00,  5.35952464e-02,  2.49910307e+01, -2.00317425e+00,\n",
       "        2.91820156e-02, -5.28943682e-03, -2.74964310e-03, -1.66460872e+01,\n",
       "       -1.08738335e+01,  4.45017652e+01, -1.69818445e+01])"
      ]
     },
     "execution_count": 65,
     "metadata": {},
     "output_type": "execute_result"
    }
   ],
   "source": [
    "sk_lr.coef_"
   ]
  },
  {
   "cell_type": "code",
   "execution_count": 67,
   "id": "583dee6b",
   "metadata": {},
   "outputs": [],
   "source": [
    "#Train below models and obtain values using 5 fold cross validation on train data and 'RMSE' metric. \n",
    "#Find the metric (RMSE) score in test set and suggest the best model\n",
    "from sklearn.model_selection import LeaveOneOut\n",
    "from sklearn.model_selection import cross_val_score\n",
    "from sklearn.model_selection import KFold"
   ]
  },
  {
   "cell_type": "code",
   "execution_count": 70,
   "id": "07522606",
   "metadata": {},
   "outputs": [
    {
     "name": "stdout",
     "output_type": "stream",
     "text": [
      "[0.32336451 0.28696008 0.44585018 0.40581    0.44999198]\n"
     ]
    }
   ],
   "source": [
    "score = cross_val_score(estimator=LinearRegression(), X=X_train, y=y_train, cv=5, scoring='r2')\n",
    "print(score)"
   ]
  },
  {
   "cell_type": "code",
   "execution_count": 71,
   "id": "fe1ed6c7",
   "metadata": {},
   "outputs": [],
   "source": [
    "from sklearn.linear_model import Ridge, Lasso, ElasticNet\n",
    "from sklearn.model_selection import GridSearchCV\n",
    "from sklearn.metrics import mean_squared_error"
   ]
  },
  {
   "cell_type": "code",
   "execution_count": 73,
   "id": "eeabaf15",
   "metadata": {},
   "outputs": [],
   "source": [
    "ridge = Ridge(alpha=1, max_iter=500)\n",
    "ridge = ridge.fit(X_train, y_train)"
   ]
  },
  {
   "cell_type": "code",
   "execution_count": 80,
   "id": "cc2085ff",
   "metadata": {},
   "outputs": [
    {
     "name": "stdout",
     "output_type": "stream",
     "text": [
      "[0.32336451 0.28696008 0.44585018 0.40581    0.44999198] 0.38239534940892783 106.32592129110405\n"
     ]
    }
   ],
   "source": [
    "r_score = cross_val_score(estimator=ridge, X=X_train, y=y_train, cv=5, scoring='r2')\n",
    "r_rmse = np.sqrt(mean_squared_error(y_test, ridge.predict(X_test)))\n",
    "print(r_score, np.mean(r_score), r_rmse)"
   ]
  },
  {
   "cell_type": "code",
   "execution_count": 84,
   "id": "b4f6e89c",
   "metadata": {},
   "outputs": [
    {
     "name": "stdout",
     "output_type": "stream",
     "text": [
      "[0.32338608 0.2869651  0.44587547 0.40581076 0.4499723 ] 0.38240194098873914 106.32402648762488\n"
     ]
    }
   ],
   "source": [
    "#Lasso (alpha = 0.01, max_iter = 500) (5 marks)\n",
    "\n",
    "lasso = Lasso(alpha=0.01, max_iter=500)\n",
    "lasso.fit(X_train, y_train)\n",
    "l_score = cross_val_score(estimator=lasso, X=X_train, y=y_train, cv=5, scoring='r2')\n",
    "l_rmse = np.sqrt(mean_squared_error(y_test, lasso.predict(X_test)))\n",
    "print(l_score, np.mean(l_score), l_rmse)"
   ]
  },
  {
   "cell_type": "code",
   "execution_count": 83,
   "id": "614df49c",
   "metadata": {},
   "outputs": [
    {
     "name": "stdout",
     "output_type": "stream",
     "text": [
      "[0.32235242 0.28415029 0.44541391 0.40597279 0.44411085] 0.38040005305978186 106.5389095569847\n"
     ]
    }
   ],
   "source": [
    "#- ElasticNet(alpha = 0.1, l1_ratio = 0.01, max_iter = 500) (5 marks)\n",
    "el_net = ElasticNet(alpha=0.1, l1_ratio=0.01, max_iter=500)\n",
    "el_net.fit(X_train, y_train)\n",
    "el_score = cross_val_score(estimator=el_net, X=X_train, y=y_train, cv=5, scoring='r2')\n",
    "el_rmse = np.sqrt(mean_squared_error(y_test, el_net.predict(X_test)))\n",
    "print(el_score, np.mean(el_score), el_rmse)"
   ]
  },
  {
   "cell_type": "code",
   "execution_count": 86,
   "id": "c7a57f5d",
   "metadata": {},
   "outputs": [],
   "source": [
    "#Using Random search on Lasso model find the best value of alpha and corresponding RMSE value on test set\n",
    "from sklearn.model_selection import RandomizedSearchCV\n",
    "\n",
    "tuned_paramaters = [{'alpha':[1e-15, 1e-10, 1e-8, 0.0001, 0.001, 0.01, 0.1, 1, 5, 10, 20],\n",
    "                     'max_iter':[10,50,100,150,200,250,300,400,500]}]\n",
    "rsearch = RandomizedSearchCV(estimator=Lasso(), param_distributions=tuned_paramaters, scoring='r2')"
   ]
  },
  {
   "cell_type": "code",
   "execution_count": 88,
   "id": "c283f102",
   "metadata": {},
   "outputs": [
    {
     "name": "stderr",
     "output_type": "stream",
     "text": [
      "C:\\Users\\priya\\anaconda3\\envs\\AlgoTrading\\Lib\\site-packages\\sklearn\\linear_model\\_coordinate_descent.py:678: ConvergenceWarning: Objective did not converge. You might want to increase the number of iterations, check the scale of the features or consider increasing regularisation. Duality gap: 1.035e+07, tolerance: 1.728e+04\n",
      "  model = cd_fast.enet_coordinate_descent(\n",
      "C:\\Users\\priya\\anaconda3\\envs\\AlgoTrading\\Lib\\site-packages\\sklearn\\linear_model\\_coordinate_descent.py:678: ConvergenceWarning: Objective did not converge. You might want to increase the number of iterations, check the scale of the features or consider increasing regularisation. Duality gap: 9.966e+06, tolerance: 1.654e+04\n",
      "  model = cd_fast.enet_coordinate_descent(\n",
      "C:\\Users\\priya\\anaconda3\\envs\\AlgoTrading\\Lib\\site-packages\\sklearn\\linear_model\\_coordinate_descent.py:678: ConvergenceWarning: Objective did not converge. You might want to increase the number of iterations, check the scale of the features or consider increasing regularisation. Duality gap: 1.035e+07, tolerance: 1.728e+04\n",
      "  model = cd_fast.enet_coordinate_descent(\n",
      "C:\\Users\\priya\\anaconda3\\envs\\AlgoTrading\\Lib\\site-packages\\sklearn\\linear_model\\_coordinate_descent.py:678: ConvergenceWarning: Objective did not converge. You might want to increase the number of iterations, check the scale of the features or consider increasing regularisation. Duality gap: 9.966e+06, tolerance: 1.654e+04\n",
      "  model = cd_fast.enet_coordinate_descent(\n",
      "C:\\Users\\priya\\anaconda3\\envs\\AlgoTrading\\Lib\\site-packages\\sklearn\\linear_model\\_coordinate_descent.py:678: ConvergenceWarning: Objective did not converge. You might want to increase the number of iterations, check the scale of the features or consider increasing regularisation. Duality gap: 5.028e+07, tolerance: 1.707e+04\n",
      "  model = cd_fast.enet_coordinate_descent(\n",
      "C:\\Users\\priya\\anaconda3\\envs\\AlgoTrading\\Lib\\site-packages\\sklearn\\linear_model\\_coordinate_descent.py:678: ConvergenceWarning: Objective did not converge. You might want to increase the number of iterations, check the scale of the features or consider increasing regularisation. Duality gap: 4.945e+07, tolerance: 1.699e+04\n",
      "  model = cd_fast.enet_coordinate_descent(\n",
      "C:\\Users\\priya\\anaconda3\\envs\\AlgoTrading\\Lib\\site-packages\\sklearn\\linear_model\\_coordinate_descent.py:678: ConvergenceWarning: Objective did not converge. You might want to increase the number of iterations, check the scale of the features or consider increasing regularisation. Duality gap: 5.535e+07, tolerance: 1.793e+04\n",
      "  model = cd_fast.enet_coordinate_descent(\n",
      "C:\\Users\\priya\\anaconda3\\envs\\AlgoTrading\\Lib\\site-packages\\sklearn\\linear_model\\_coordinate_descent.py:678: ConvergenceWarning: Objective did not converge. You might want to increase the number of iterations, check the scale of the features or consider increasing regularisation. Duality gap: 5.279e+07, tolerance: 1.728e+04\n",
      "  model = cd_fast.enet_coordinate_descent(\n",
      "C:\\Users\\priya\\anaconda3\\envs\\AlgoTrading\\Lib\\site-packages\\sklearn\\linear_model\\_coordinate_descent.py:678: ConvergenceWarning: Objective did not converge. You might want to increase the number of iterations, check the scale of the features or consider increasing regularisation. Duality gap: 5.145e+07, tolerance: 1.654e+04\n",
      "  model = cd_fast.enet_coordinate_descent(\n",
      "C:\\Users\\priya\\anaconda3\\envs\\AlgoTrading\\Lib\\site-packages\\sklearn\\linear_model\\_coordinate_descent.py:678: ConvergenceWarning: Objective did not converge. You might want to increase the number of iterations, check the scale of the features or consider increasing regularisation. Duality gap: 1.035e+07, tolerance: 1.728e+04\n",
      "  model = cd_fast.enet_coordinate_descent(\n",
      "C:\\Users\\priya\\anaconda3\\envs\\AlgoTrading\\Lib\\site-packages\\sklearn\\linear_model\\_coordinate_descent.py:678: ConvergenceWarning: Objective did not converge. You might want to increase the number of iterations, check the scale of the features or consider increasing regularisation. Duality gap: 4.608e+05, tolerance: 1.654e+04\n",
      "  model = cd_fast.enet_coordinate_descent(\n",
      "C:\\Users\\priya\\anaconda3\\envs\\AlgoTrading\\Lib\\site-packages\\sklearn\\linear_model\\_coordinate_descent.py:678: ConvergenceWarning: Objective did not converge. You might want to increase the number of iterations, check the scale of the features or consider increasing regularisation. Duality gap: 5.025e+07, tolerance: 1.707e+04\n",
      "  model = cd_fast.enet_coordinate_descent(\n",
      "C:\\Users\\priya\\anaconda3\\envs\\AlgoTrading\\Lib\\site-packages\\sklearn\\linear_model\\_coordinate_descent.py:678: ConvergenceWarning: Objective did not converge. You might want to increase the number of iterations, check the scale of the features or consider increasing regularisation. Duality gap: 4.945e+07, tolerance: 1.699e+04\n",
      "  model = cd_fast.enet_coordinate_descent(\n",
      "C:\\Users\\priya\\anaconda3\\envs\\AlgoTrading\\Lib\\site-packages\\sklearn\\linear_model\\_coordinate_descent.py:678: ConvergenceWarning: Objective did not converge. You might want to increase the number of iterations, check the scale of the features or consider increasing regularisation. Duality gap: 5.537e+07, tolerance: 1.793e+04\n",
      "  model = cd_fast.enet_coordinate_descent(\n",
      "C:\\Users\\priya\\anaconda3\\envs\\AlgoTrading\\Lib\\site-packages\\sklearn\\linear_model\\_coordinate_descent.py:678: ConvergenceWarning: Objective did not converge. You might want to increase the number of iterations, check the scale of the features or consider increasing regularisation. Duality gap: 5.279e+07, tolerance: 1.728e+04\n",
      "  model = cd_fast.enet_coordinate_descent(\n",
      "C:\\Users\\priya\\anaconda3\\envs\\AlgoTrading\\Lib\\site-packages\\sklearn\\linear_model\\_coordinate_descent.py:678: ConvergenceWarning: Objective did not converge. You might want to increase the number of iterations, check the scale of the features or consider increasing regularisation. Duality gap: 5.155e+07, tolerance: 1.654e+04\n",
      "  model = cd_fast.enet_coordinate_descent(\n",
      "C:\\Users\\priya\\anaconda3\\envs\\AlgoTrading\\Lib\\site-packages\\sklearn\\linear_model\\_coordinate_descent.py:678: ConvergenceWarning: Objective did not converge. You might want to increase the number of iterations, check the scale of the features or consider increasing regularisation. Duality gap: 1.396e+07, tolerance: 1.707e+04\n",
      "  model = cd_fast.enet_coordinate_descent(\n",
      "C:\\Users\\priya\\anaconda3\\envs\\AlgoTrading\\Lib\\site-packages\\sklearn\\linear_model\\_coordinate_descent.py:678: ConvergenceWarning: Objective did not converge. You might want to increase the number of iterations, check the scale of the features or consider increasing regularisation. Duality gap: 1.969e+07, tolerance: 1.699e+04\n",
      "  model = cd_fast.enet_coordinate_descent(\n",
      "C:\\Users\\priya\\anaconda3\\envs\\AlgoTrading\\Lib\\site-packages\\sklearn\\linear_model\\_coordinate_descent.py:678: ConvergenceWarning: Objective did not converge. You might want to increase the number of iterations, check the scale of the features or consider increasing regularisation. Duality gap: 1.035e+07, tolerance: 1.728e+04\n",
      "  model = cd_fast.enet_coordinate_descent(\n",
      "C:\\Users\\priya\\anaconda3\\envs\\AlgoTrading\\Lib\\site-packages\\sklearn\\linear_model\\_coordinate_descent.py:678: ConvergenceWarning: Objective did not converge. You might want to increase the number of iterations, check the scale of the features or consider increasing regularisation. Duality gap: 3.974e+07, tolerance: 1.654e+04\n",
      "  model = cd_fast.enet_coordinate_descent(\n",
      "C:\\Users\\priya\\anaconda3\\envs\\AlgoTrading\\Lib\\site-packages\\sklearn\\linear_model\\_coordinate_descent.py:678: ConvergenceWarning: Objective did not converge. You might want to increase the number of iterations, check the scale of the features or consider increasing regularisation. Duality gap: 1.035e+07, tolerance: 1.728e+04\n",
      "  model = cd_fast.enet_coordinate_descent(\n",
      "C:\\Users\\priya\\anaconda3\\envs\\AlgoTrading\\Lib\\site-packages\\sklearn\\linear_model\\_coordinate_descent.py:678: ConvergenceWarning: Objective did not converge. You might want to increase the number of iterations, check the scale of the features or consider increasing regularisation. Duality gap: 9.966e+06, tolerance: 1.654e+04\n",
      "  model = cd_fast.enet_coordinate_descent(\n",
      "C:\\Users\\priya\\anaconda3\\envs\\AlgoTrading\\Lib\\site-packages\\sklearn\\linear_model\\_coordinate_descent.py:678: ConvergenceWarning: Objective did not converge. You might want to increase the number of iterations, check the scale of the features or consider increasing regularisation. Duality gap: 4.607e+07, tolerance: 2.145e+04\n",
      "  model = cd_fast.enet_coordinate_descent(\n"
     ]
    }
   ],
   "source": [
    "rsearch = rsearch.fit(X_train, y_train)"
   ]
  },
  {
   "cell_type": "code",
   "execution_count": 89,
   "id": "01591532",
   "metadata": {},
   "outputs": [
    {
     "data": {
      "text/plain": [
       "0.3938402115457934"
      ]
     },
     "execution_count": 89,
     "metadata": {},
     "output_type": "execute_result"
    }
   ],
   "source": [
    "rsearch.score(X_train, y_train)"
   ]
  },
  {
   "cell_type": "code",
   "execution_count": 90,
   "id": "b5af0a52",
   "metadata": {},
   "outputs": [
    {
     "data": {
      "text/plain": [
       "{'max_iter': 50, 'alpha': 0.01}"
      ]
     },
     "execution_count": 90,
     "metadata": {},
     "output_type": "execute_result"
    }
   ],
   "source": [
    "rsearch.best_params_"
   ]
  },
  {
   "cell_type": "code",
   "execution_count": null,
   "id": "f0308846",
   "metadata": {},
   "outputs": [],
   "source": []
  }
 ],
 "metadata": {
  "kernelspec": {
   "display_name": "Python 3 (ipykernel)",
   "language": "python",
   "name": "python3"
  },
  "language_info": {
   "codemirror_mode": {
    "name": "ipython",
    "version": 3
   },
   "file_extension": ".py",
   "mimetype": "text/x-python",
   "name": "python",
   "nbconvert_exporter": "python",
   "pygments_lexer": "ipython3",
   "version": "3.11.5"
  }
 },
 "nbformat": 4,
 "nbformat_minor": 5
}
