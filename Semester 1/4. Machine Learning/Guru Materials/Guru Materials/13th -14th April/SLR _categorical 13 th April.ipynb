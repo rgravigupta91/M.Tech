{
 "cells": [
  {
   "cell_type": "code",
   "execution_count": 62,
   "id": "25d6fea4",
   "metadata": {},
   "outputs": [],
   "source": [
    "import numpy as np\n",
    "import pandas as pd\n",
    "import seaborn as sns\n",
    "import matplotlib.pyplot as plt\n",
    "\n",
    "import warnings\n",
    "warnings.filterwarnings('ignore')"
   ]
  },
  {
   "cell_type": "code",
   "execution_count": 63,
   "id": "cd409487",
   "metadata": {},
   "outputs": [
    {
     "data": {
      "text/html": [
       "<div>\n",
       "<style scoped>\n",
       "    .dataframe tbody tr th:only-of-type {\n",
       "        vertical-align: middle;\n",
       "    }\n",
       "\n",
       "    .dataframe tbody tr th {\n",
       "        vertical-align: top;\n",
       "    }\n",
       "\n",
       "    .dataframe thead th {\n",
       "        text-align: right;\n",
       "    }\n",
       "</style>\n",
       "<table border=\"1\" class=\"dataframe\">\n",
       "  <thead>\n",
       "    <tr style=\"text-align: right;\">\n",
       "      <th></th>\n",
       "      <th>sex</th>\n",
       "      <th>smoker</th>\n",
       "      <th>region</th>\n",
       "      <th>charges</th>\n",
       "    </tr>\n",
       "  </thead>\n",
       "  <tbody>\n",
       "    <tr>\n",
       "      <th>0</th>\n",
       "      <td>female</td>\n",
       "      <td>yes</td>\n",
       "      <td>southwest</td>\n",
       "      <td>16884.92400</td>\n",
       "    </tr>\n",
       "    <tr>\n",
       "      <th>1</th>\n",
       "      <td>male</td>\n",
       "      <td>no</td>\n",
       "      <td>southeast</td>\n",
       "      <td>1725.55230</td>\n",
       "    </tr>\n",
       "    <tr>\n",
       "      <th>2</th>\n",
       "      <td>male</td>\n",
       "      <td>no</td>\n",
       "      <td>southeast</td>\n",
       "      <td>4449.46200</td>\n",
       "    </tr>\n",
       "    <tr>\n",
       "      <th>3</th>\n",
       "      <td>male</td>\n",
       "      <td>no</td>\n",
       "      <td>northwest</td>\n",
       "      <td>21984.47061</td>\n",
       "    </tr>\n",
       "    <tr>\n",
       "      <th>4</th>\n",
       "      <td>male</td>\n",
       "      <td>no</td>\n",
       "      <td>northwest</td>\n",
       "      <td>3866.85520</td>\n",
       "    </tr>\n",
       "  </tbody>\n",
       "</table>\n",
       "</div>"
      ],
      "text/plain": [
       "      sex smoker     region      charges\n",
       "0  female    yes  southwest  16884.92400\n",
       "1    male     no  southeast   1725.55230\n",
       "2    male     no  southeast   4449.46200\n",
       "3    male     no  northwest  21984.47061\n",
       "4    male     no  northwest   3866.85520"
      ]
     },
     "execution_count": 63,
     "metadata": {},
     "output_type": "execute_result"
    }
   ],
   "source": [
    "data= pd.read_csv('medical_charges_cat')\n",
    "data.head()"
   ]
  },
  {
   "cell_type": "code",
   "execution_count": 64,
   "id": "2d382b15",
   "metadata": {},
   "outputs": [
    {
     "name": "stdout",
     "output_type": "stream",
     "text": [
      "<class 'pandas.core.frame.DataFrame'>\n",
      "RangeIndex: 1338 entries, 0 to 1337\n",
      "Data columns (total 4 columns):\n",
      " #   Column   Non-Null Count  Dtype  \n",
      "---  ------   --------------  -----  \n",
      " 0   sex      1338 non-null   object \n",
      " 1   smoker   1338 non-null   object \n",
      " 2   region   1338 non-null   object \n",
      " 3   charges  1338 non-null   float64\n",
      "dtypes: float64(1), object(3)\n",
      "memory usage: 41.9+ KB\n"
     ]
    }
   ],
   "source": [
    "data.info()"
   ]
  },
  {
   "cell_type": "code",
   "execution_count": 65,
   "id": "79140c00",
   "metadata": {},
   "outputs": [
    {
     "data": {
      "text/html": [
       "<div>\n",
       "<style scoped>\n",
       "    .dataframe tbody tr th:only-of-type {\n",
       "        vertical-align: middle;\n",
       "    }\n",
       "\n",
       "    .dataframe tbody tr th {\n",
       "        vertical-align: top;\n",
       "    }\n",
       "\n",
       "    .dataframe thead th {\n",
       "        text-align: right;\n",
       "    }\n",
       "</style>\n",
       "<table border=\"1\" class=\"dataframe\">\n",
       "  <thead>\n",
       "    <tr style=\"text-align: right;\">\n",
       "      <th></th>\n",
       "      <th>sex</th>\n",
       "      <th>smoker</th>\n",
       "      <th>region</th>\n",
       "    </tr>\n",
       "  </thead>\n",
       "  <tbody>\n",
       "    <tr>\n",
       "      <th>count</th>\n",
       "      <td>1338</td>\n",
       "      <td>1338</td>\n",
       "      <td>1338</td>\n",
       "    </tr>\n",
       "    <tr>\n",
       "      <th>unique</th>\n",
       "      <td>2</td>\n",
       "      <td>2</td>\n",
       "      <td>4</td>\n",
       "    </tr>\n",
       "    <tr>\n",
       "      <th>top</th>\n",
       "      <td>male</td>\n",
       "      <td>no</td>\n",
       "      <td>southeast</td>\n",
       "    </tr>\n",
       "    <tr>\n",
       "      <th>freq</th>\n",
       "      <td>676</td>\n",
       "      <td>1064</td>\n",
       "      <td>364</td>\n",
       "    </tr>\n",
       "  </tbody>\n",
       "</table>\n",
       "</div>"
      ],
      "text/plain": [
       "         sex smoker     region\n",
       "count   1338   1338       1338\n",
       "unique     2      2          4\n",
       "top     male     no  southeast\n",
       "freq     676   1064        364"
      ]
     },
     "execution_count": 65,
     "metadata": {},
     "output_type": "execute_result"
    }
   ],
   "source": [
    "data.describe(include=object)"
   ]
  },
  {
   "cell_type": "code",
   "execution_count": 66,
   "id": "4266a995",
   "metadata": {},
   "outputs": [
    {
     "data": {
      "text/plain": [
       "sex        0\n",
       "smoker     0\n",
       "region     0\n",
       "charges    0\n",
       "dtype: int64"
      ]
     },
     "execution_count": 66,
     "metadata": {},
     "output_type": "execute_result"
    }
   ],
   "source": [
    "#missing values\n",
    "data.isnull().sum()"
   ]
  },
  {
   "cell_type": "code",
   "execution_count": 67,
   "id": "ba71cead",
   "metadata": {},
   "outputs": [
    {
     "data": {
      "text/plain": [
       "1.5158796580240388"
      ]
     },
     "execution_count": 67,
     "metadata": {},
     "output_type": "execute_result"
    }
   ],
   "source": [
    "#outlier analysis\n",
    "data['charges'].skew()"
   ]
  },
  {
   "cell_type": "code",
   "execution_count": 68,
   "id": "23d6ee5b",
   "metadata": {},
   "outputs": [],
   "source": [
    "y=data['charges']\n",
    "X=data.drop('charges', axis=1)"
   ]
  },
  {
   "cell_type": "code",
   "execution_count": 69,
   "id": "94a9f03f",
   "metadata": {},
   "outputs": [
    {
     "name": "stdout",
     "output_type": "stream",
     "text": [
      "sex\n",
      "male      676\n",
      "female    662\n",
      "Name: count, dtype: int64\n",
      "smoker\n",
      "no     1064\n",
      "yes     274\n",
      "Name: count, dtype: int64\n",
      "region\n",
      "southeast    364\n",
      "southwest    325\n",
      "northwest    325\n",
      "northeast    324\n",
      "Name: count, dtype: int64\n"
     ]
    }
   ],
   "source": [
    "for col in X:\n",
    "    print(X[col].value_counts())"
   ]
  },
  {
   "cell_type": "code",
   "execution_count": 70,
   "id": "c5e11852",
   "metadata": {},
   "outputs": [
    {
     "data": {
      "text/plain": [
       "<Axes: xlabel='sex', ylabel='charges'>"
      ]
     },
     "execution_count": 70,
     "metadata": {},
     "output_type": "execute_result"
    },
    {
     "data": {
      "image/png": "[encoded data removed]",
      "text/plain": [
       "<Figure size 432x288 with 1 Axes>"
      ]
     },
     "metadata": {
      "needs_background": "light"
     },
     "output_type": "display_data"
    }
   ],
   "source": [
    "sns.boxplot(x=X['sex'], y=data['charges'])"
   ]
  },
  {
   "cell_type": "code",
   "execution_count": 71,
   "id": "245bd308",
   "metadata": {},
   "outputs": [
    {
     "data": {
      "text/plain": [
       "<Axes: xlabel='smoker', ylabel='charges'>"
      ]
     },
     "execution_count": 71,
     "metadata": {},
     "output_type": "execute_result"
    },
    {
     "data": {
      "image/png": "[encoded data removed]",
      "text/plain": [
       "<Figure size 432x288 with 1 Axes>"
      ]
     },
     "metadata": {
      "needs_background": "light"
     },
     "output_type": "display_data"
    }
   ],
   "source": [
    "sns.boxplot(x=X['smoker'], y=data['charges'])"
   ]
  },
  {
   "cell_type": "code",
   "execution_count": 72,
   "id": "e25d48d0",
   "metadata": {},
   "outputs": [
    {
     "data": {
      "text/plain": [
       "<Axes: xlabel='region', ylabel='charges'>"
      ]
     },
     "execution_count": 72,
     "metadata": {},
     "output_type": "execute_result"
    },
    {
     "data": {
      "image/png": "[encoded data removed]",
      "text/plain": [
       "<Figure size 432x288 with 1 Axes>"
      ]
     },
     "metadata": {
      "needs_background": "light"
     },
     "output_type": "display_data"
    }
   ],
   "source": [
    "sns.boxplot(x=X['region'], y=data['charges'])"
   ]
  },
  {
   "cell_type": "code",
   "execution_count": 73,
   "id": "05693fb4",
   "metadata": {},
   "outputs": [
    {
     "data": {
      "text/html": [
       "<div>\n",
       "<style scoped>\n",
       "    .dataframe tbody tr th:only-of-type {\n",
       "        vertical-align: middle;\n",
       "    }\n",
       "\n",
       "    .dataframe tbody tr th {\n",
       "        vertical-align: top;\n",
       "    }\n",
       "\n",
       "    .dataframe thead th {\n",
       "        text-align: right;\n",
       "    }\n",
       "</style>\n",
       "<table border=\"1\" class=\"dataframe\">\n",
       "  <thead>\n",
       "    <tr style=\"text-align: right;\">\n",
       "      <th></th>\n",
       "      <th>sex_male</th>\n",
       "      <th>smoker_yes</th>\n",
       "      <th>region_northwest</th>\n",
       "      <th>region_southeast</th>\n",
       "      <th>region_southwest</th>\n",
       "    </tr>\n",
       "  </thead>\n",
       "  <tbody>\n",
       "    <tr>\n",
       "      <th>0</th>\n",
       "      <td>0.0</td>\n",
       "      <td>1.0</td>\n",
       "      <td>0.0</td>\n",
       "      <td>0.0</td>\n",
       "      <td>1.0</td>\n",
       "    </tr>\n",
       "    <tr>\n",
       "      <th>1</th>\n",
       "      <td>1.0</td>\n",
       "      <td>0.0</td>\n",
       "      <td>0.0</td>\n",
       "      <td>1.0</td>\n",
       "      <td>0.0</td>\n",
       "    </tr>\n",
       "    <tr>\n",
       "      <th>2</th>\n",
       "      <td>1.0</td>\n",
       "      <td>0.0</td>\n",
       "      <td>0.0</td>\n",
       "      <td>1.0</td>\n",
       "      <td>0.0</td>\n",
       "    </tr>\n",
       "    <tr>\n",
       "      <th>3</th>\n",
       "      <td>1.0</td>\n",
       "      <td>0.0</td>\n",
       "      <td>1.0</td>\n",
       "      <td>0.0</td>\n",
       "      <td>0.0</td>\n",
       "    </tr>\n",
       "    <tr>\n",
       "      <th>4</th>\n",
       "      <td>1.0</td>\n",
       "      <td>0.0</td>\n",
       "      <td>1.0</td>\n",
       "      <td>0.0</td>\n",
       "      <td>0.0</td>\n",
       "    </tr>\n",
       "  </tbody>\n",
       "</table>\n",
       "</div>"
      ],
      "text/plain": [
       "   sex_male  smoker_yes  region_northwest  region_southeast  region_southwest\n",
       "0       0.0         1.0               0.0               0.0               1.0\n",
       "1       1.0         0.0               0.0               1.0               0.0\n",
       "2       1.0         0.0               0.0               1.0               0.0\n",
       "3       1.0         0.0               1.0               0.0               0.0\n",
       "4       1.0         0.0               1.0               0.0               0.0"
      ]
     },
     "execution_count": 73,
     "metadata": {},
     "output_type": "execute_result"
    }
   ],
   "source": [
    "# Encoding\n",
    "X= pd.get_dummies(X,dtype=float,drop_first=True)\n",
    "X.head()"
   ]
  },
  {
   "cell_type": "code",
   "execution_count": 74,
   "id": "5e581f0d",
   "metadata": {},
   "outputs": [],
   "source": [
    "#SLR\n",
    "import statsmodels\n",
    "import statsmodels.api as sm \n",
    "\n",
    "\n",
    "xc=sm.add_constant(X)"
   ]
  },
  {
   "cell_type": "code",
   "execution_count": 75,
   "id": "5894739b",
   "metadata": {},
   "outputs": [
    {
     "data": {
      "text/html": [
       "<div>\n",
       "<style scoped>\n",
       "    .dataframe tbody tr th:only-of-type {\n",
       "        vertical-align: middle;\n",
       "    }\n",
       "\n",
       "    .dataframe tbody tr th {\n",
       "        vertical-align: top;\n",
       "    }\n",
       "\n",
       "    .dataframe thead th {\n",
       "        text-align: right;\n",
       "    }\n",
       "</style>\n",
       "<table border=\"1\" class=\"dataframe\">\n",
       "  <thead>\n",
       "    <tr style=\"text-align: right;\">\n",
       "      <th></th>\n",
       "      <th>const</th>\n",
       "      <th>sex_male</th>\n",
       "      <th>smoker_yes</th>\n",
       "      <th>region_northwest</th>\n",
       "      <th>region_southeast</th>\n",
       "      <th>region_southwest</th>\n",
       "    </tr>\n",
       "  </thead>\n",
       "  <tbody>\n",
       "    <tr>\n",
       "      <th>0</th>\n",
       "      <td>1.0</td>\n",
       "      <td>0.0</td>\n",
       "      <td>1.0</td>\n",
       "      <td>0.0</td>\n",
       "      <td>0.0</td>\n",
       "      <td>1.0</td>\n",
       "    </tr>\n",
       "    <tr>\n",
       "      <th>1</th>\n",
       "      <td>1.0</td>\n",
       "      <td>1.0</td>\n",
       "      <td>0.0</td>\n",
       "      <td>0.0</td>\n",
       "      <td>1.0</td>\n",
       "      <td>0.0</td>\n",
       "    </tr>\n",
       "    <tr>\n",
       "      <th>2</th>\n",
       "      <td>1.0</td>\n",
       "      <td>1.0</td>\n",
       "      <td>0.0</td>\n",
       "      <td>0.0</td>\n",
       "      <td>1.0</td>\n",
       "      <td>0.0</td>\n",
       "    </tr>\n",
       "    <tr>\n",
       "      <th>3</th>\n",
       "      <td>1.0</td>\n",
       "      <td>1.0</td>\n",
       "      <td>0.0</td>\n",
       "      <td>1.0</td>\n",
       "      <td>0.0</td>\n",
       "      <td>0.0</td>\n",
       "    </tr>\n",
       "    <tr>\n",
       "      <th>4</th>\n",
       "      <td>1.0</td>\n",
       "      <td>1.0</td>\n",
       "      <td>0.0</td>\n",
       "      <td>1.0</td>\n",
       "      <td>0.0</td>\n",
       "      <td>0.0</td>\n",
       "    </tr>\n",
       "  </tbody>\n",
       "</table>\n",
       "</div>"
      ],
      "text/plain": [
       "   const  sex_male  smoker_yes  region_northwest  region_southeast  \\\n",
       "0    1.0       0.0         1.0               0.0               0.0   \n",
       "1    1.0       1.0         0.0               0.0               1.0   \n",
       "2    1.0       1.0         0.0               0.0               1.0   \n",
       "3    1.0       1.0         0.0               1.0               0.0   \n",
       "4    1.0       1.0         0.0               1.0               0.0   \n",
       "\n",
       "   region_southwest  \n",
       "0               1.0  \n",
       "1               0.0  \n",
       "2               0.0  \n",
       "3               0.0  \n",
       "4               0.0  "
      ]
     },
     "execution_count": 75,
     "metadata": {},
     "output_type": "execute_result"
    }
   ],
   "source": [
    "xc.head()"
   ]
  },
  {
   "cell_type": "code",
   "execution_count": 76,
   "id": "b361798d",
   "metadata": {
    "scrolled": true
   },
   "outputs": [
    {
     "name": "stdout",
     "output_type": "stream",
     "text": [
      "                            OLS Regression Results                            \n",
      "==============================================================================\n",
      "Dep. Variable:                charges   R-squared:                       0.620\n",
      "Model:                            OLS   Adj. R-squared:                  0.619\n",
      "Method:                 Least Squares   F-statistic:                     435.2\n",
      "Date:                Wed, 10 Apr 2024   Prob (F-statistic):          4.93e-277\n",
      "Time:                        10:51:34   Log-Likelihood:                -13830.\n",
      "No. Observations:                1338   AIC:                         2.767e+04\n",
      "Df Residuals:                    1332   BIC:                         2.770e+04\n",
      "Df Model:                           5                                         \n",
      "Covariance Type:            nonrobust                                         \n",
      "====================================================================================\n",
      "                       coef    std err          t      P>|t|      [0.025      0.975]\n",
      "------------------------------------------------------------------------------------\n",
      "const             8568.0606    472.095     18.149      0.000    7641.930    9494.192\n",
      "sex_male           -71.4758    410.007     -0.174      0.862    -875.806     732.854\n",
      "smoker_yes        2.357e+04    509.298     46.282      0.000    2.26e+04    2.46e+04\n",
      "region_northwest  -321.6221    587.093     -0.548      0.584   -1473.351     830.106\n",
      "region_southeast   311.6741    571.444      0.545      0.586    -809.355    1432.703\n",
      "region_southwest  -391.8203    587.090     -0.667      0.505   -1543.542     759.901\n",
      "==============================================================================\n",
      "Omnibus:                      134.813   Durbin-Watson:                   2.023\n",
      "Prob(Omnibus):                  0.000   Jarque-Bera (JB):              209.656\n",
      "Skew:                           0.724   Prob(JB):                     2.98e-46\n",
      "Kurtosis:                       4.291   Cond. No.                         5.57\n",
      "==============================================================================\n",
      "\n",
      "Notes:\n",
      "[1] Standard Errors assume that the covariance matrix of the errors is correctly specified.\n"
     ]
    }
   ],
   "source": [
    "mlr1=sm.OLS(y,xc).fit()\n",
    "print(mlr1.summary())"
   ]
  },
  {
   "cell_type": "code",
   "execution_count": null,
   "id": "d863f1b8",
   "metadata": {},
   "outputs": [],
   "source": []
  },
  {
   "cell_type": "code",
   "execution_count": 77,
   "id": "9c49df9e",
   "metadata": {},
   "outputs": [],
   "source": [
    "X1=X['smoker_yes']\n",
    "xc=sm.add_constant(X1)"
   ]
  },
  {
   "cell_type": "code",
   "execution_count": 78,
   "id": "9cade921",
   "metadata": {},
   "outputs": [
    {
     "name": "stdout",
     "output_type": "stream",
     "text": [
      "                            OLS Regression Results                            \n",
      "==============================================================================\n",
      "Dep. Variable:                charges   R-squared:                       0.620\n",
      "Model:                            OLS   Adj. R-squared:                  0.619\n",
      "Method:                 Least Squares   F-statistic:                     2178.\n",
      "Date:                Wed, 10 Apr 2024   Prob (F-statistic):          8.27e-283\n",
      "Time:                        10:51:34   Log-Likelihood:                -13831.\n",
      "No. Observations:                1338   AIC:                         2.767e+04\n",
      "Df Residuals:                    1336   BIC:                         2.768e+04\n",
      "Df Model:                           1                                         \n",
      "Covariance Type:            nonrobust                                         \n",
      "==============================================================================\n",
      "                 coef    std err          t      P>|t|      [0.025      0.975]\n",
      "------------------------------------------------------------------------------\n",
      "const       8434.2683    229.014     36.829      0.000    7985.002    8883.535\n",
      "smoker_yes  2.362e+04    506.075     46.665      0.000    2.26e+04    2.46e+04\n",
      "==============================================================================\n",
      "Omnibus:                      135.996   Durbin-Watson:                   2.025\n",
      "Prob(Omnibus):                  0.000   Jarque-Bera (JB):              212.201\n",
      "Skew:                           0.727   Prob(JB):                     8.34e-47\n",
      "Kurtosis:                       4.300   Cond. No.                         2.60\n",
      "==============================================================================\n",
      "\n",
      "Notes:\n",
      "[1] Standard Errors assume that the covariance matrix of the errors is correctly specified.\n"
     ]
    }
   ],
   "source": [
    "slr1=sm.OLS(y,xc).fit()\n",
    "print(slr1.summary())"
   ]
  },
  {
   "cell_type": "code",
   "execution_count": null,
   "id": "64753b24",
   "metadata": {},
   "outputs": [],
   "source": [
    "# Out of all the categorical attributes, smoker is a significant attribute.\n",
    "# we can see there is difference in mean for both the categories with respect to the target\n",
    "# which is the medical charges. \n",
    "\n",
    "# While buiding the model also we can notice all other variables are having pvalues greater than .05.\n",
    "# Over all rsquare is also same if we notice in the previous 2 models. "
   ]
  },
  {
   "cell_type": "code",
   "execution_count": null,
   "id": "69df83c6",
   "metadata": {},
   "outputs": [],
   "source": [
    "# Assumptions"
   ]
  },
  {
   "cell_type": "markdown",
   "id": "83aedd77",
   "metadata": {},
   "source": [
    "# Linearity\n",
    "\n",
    "Linearity actually means that the effect of each predictor on the outcome should not be non-linear, as a straight line does not provide a good approximation of the relationship in that case. For a dummy variable with two categories, this assumption is trivially met, since the line of best fit connects the conditional means of the two categories, and a line between two points cannot be anything but linear. With multicategorical variables, it is the same thing, because you will be including them in the model as a series of dummy/cotnrast coded variables, again, modeled as a straight line between pairs of conditional means."
   ]
  },
  {
   "cell_type": "markdown",
   "id": "373bd601",
   "metadata": {},
   "source": [
    "# normality in residuals\n",
    " Normality: You do not need to test these variables. Categorical variables by definition cannot have outliers. If you have observations outside the range of your data (for example, if you expected \"male\" or \"female\" as responses, and someone answered \"bla\", designate those responses as user-missing values and exclude them from the analysis. One way categorical variables can contribute to being an outlier, however, is when you look at multivariate outliers via something like Mahalanobis distances. For example, a person who is 70 years old is not an outlier (there are many even older people) and someone who is pregnant is not an outlier either, but a pregnant 70 year old constitutes a multivariate outlier."
   ]
  },
  {
   "cell_type": "markdown",
   "id": "ef89fbf6",
   "metadata": {},
   "source": [
    "# multicolinearity\n",
    "\n",
    "Multicollinearity: This one is tricky. With a dichotomous categorical variable, there is no real issue. With multiple dummy variables coding the same multicategorical construct, there tends to be some degree of multicollinearity between the dummies, especially if the reference category has much fewer participants than the others. You can get around this either by designating a more populous reference category or accepting that it is normal, and you cannot do much."
   ]
  },
  {
   "cell_type": "markdown",
   "id": "76aa6b78",
   "metadata": {},
   "source": [
    "# heteroscadasticity\n",
    "\n",
    "To check homoscedasticity (equality of variance) for categorical predictors, we can check the variance within each group. We can use a rule of thumb that the variance of one group should not be four times that of another group."
   ]
  },
  {
   "cell_type": "markdown",
   "id": "67979567",
   "metadata": {},
   "source": [
    "# Auto corelation\n",
    "\n",
    "No need to check this. There are various measures available for time series data, which is not required here.\n"
   ]
  },
  {
   "cell_type": "code",
   "execution_count": null,
   "id": "7643eeac",
   "metadata": {},
   "outputs": [],
   "source": []
  }
 ],
 "metadata": {
  "kernelspec": {
   "display_name": "Python 3 (ipykernel)",
   "language": "python",
   "name": "python3"
  },
  "language_info": {
   "codemirror_mode": {
    "name": "ipython",
    "version": 3
   },
   "file_extension": ".py",
   "mimetype": "text/x-python",
   "name": "python",
   "nbconvert_exporter": "python",
   "pygments_lexer": "ipython3",
   "version": "3.11.7"
  }
 },
 "nbformat": 4,
 "nbformat_minor": 5
}
