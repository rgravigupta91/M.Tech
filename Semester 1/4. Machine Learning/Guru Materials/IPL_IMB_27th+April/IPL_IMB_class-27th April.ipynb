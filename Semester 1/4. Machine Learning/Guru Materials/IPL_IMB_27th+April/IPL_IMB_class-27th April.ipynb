{
 "cells": [
  {
   "cell_type": "markdown",
   "id": "9daea011",
   "metadata": {},
   "source": [
    "## Concepts covered: \n",
    "\n",
    "1. Data pre-processing\n",
    "2. Model building qith stats models (OLS)\n",
    "3. Model building with Sklearn\n",
    "4. Cross validation, Bias variance trade off\n",
    "5. Feature Selection (SFS, BE, RFE)\n",
    "6. Hyper parameter Tuning (Grid searchCV, Randomized Serach CV, Hyper opt)\n",
    "7. Optimization (Stochastic gradient descent)"
   ]
  },
  {
   "cell_type": "code",
   "execution_count": null,
   "id": "9d6f0dc5",
   "metadata": {},
   "outputs": [],
   "source": [
    "pip uninstall mlxtend"
   ]
  },
  {
   "cell_type": "code",
   "execution_count": null,
   "id": "9ebfa73f",
   "metadata": {},
   "outputs": [],
   "source": [
    "pip uninstall optuna"
   ]
  },
  {
   "cell_type": "code",
   "execution_count": 1,
   "id": "104786d2",
   "metadata": {},
   "outputs": [
    {
     "ename": "ImportError",
     "evalue": "Unable to import required dependencies:\nnumpy: Error importing numpy: you should not try to import numpy from\n        its source directory; please exit the numpy source tree, and relaunch\n        your python interpreter from there.",
     "output_type": "error",
     "traceback": [
      "\u001b[1;31m---------------------------------------------------------------------------\u001b[0m",
      "\u001b[1;31mImportError\u001b[0m                               Traceback (most recent call last)",
      "Cell \u001b[1;32mIn[1], line 1\u001b[0m\n\u001b[1;32m----> 1\u001b[0m \u001b[38;5;28;01mimport\u001b[39;00m \u001b[38;5;21;01mpandas\u001b[39;00m \u001b[38;5;28;01mas\u001b[39;00m \u001b[38;5;21;01mpd\u001b[39;00m\n\u001b[0;32m      2\u001b[0m \u001b[38;5;28;01mimport\u001b[39;00m \u001b[38;5;21;01mnumpy\u001b[39;00m \u001b[38;5;28;01mas\u001b[39;00m \u001b[38;5;21;01mnp\u001b[39;00m\n\u001b[0;32m      3\u001b[0m \u001b[38;5;28;01mimport\u001b[39;00m \u001b[38;5;21;01mseaborn\u001b[39;00m \u001b[38;5;28;01mas\u001b[39;00m \u001b[38;5;21;01msns\u001b[39;00m\n",
      "File \u001b[1;32mC:\\Python\\Python312\\Lib\\site-packages\\pandas\\__init__.py:32\u001b[0m\n\u001b[0;32m     29\u001b[0m         _missing_dependencies\u001b[38;5;241m.\u001b[39mappend(\u001b[38;5;124mf\u001b[39m\u001b[38;5;124m\"\u001b[39m\u001b[38;5;132;01m{\u001b[39;00m_dependency\u001b[38;5;132;01m}\u001b[39;00m\u001b[38;5;124m: \u001b[39m\u001b[38;5;132;01m{\u001b[39;00m_e\u001b[38;5;132;01m}\u001b[39;00m\u001b[38;5;124m\"\u001b[39m)\n\u001b[0;32m     31\u001b[0m \u001b[38;5;28;01mif\u001b[39;00m _missing_dependencies:  \u001b[38;5;66;03m# pragma: no cover\u001b[39;00m\n\u001b[1;32m---> 32\u001b[0m     \u001b[38;5;28;01mraise\u001b[39;00m \u001b[38;5;167;01mImportError\u001b[39;00m(\n\u001b[0;32m     33\u001b[0m         \u001b[38;5;124m\"\u001b[39m\u001b[38;5;124mUnable to import required dependencies:\u001b[39m\u001b[38;5;130;01m\\n\u001b[39;00m\u001b[38;5;124m\"\u001b[39m \u001b[38;5;241m+\u001b[39m \u001b[38;5;124m\"\u001b[39m\u001b[38;5;130;01m\\n\u001b[39;00m\u001b[38;5;124m\"\u001b[39m\u001b[38;5;241m.\u001b[39mjoin(_missing_dependencies)\n\u001b[0;32m     34\u001b[0m     )\n\u001b[0;32m     35\u001b[0m \u001b[38;5;28;01mdel\u001b[39;00m _hard_dependencies, _dependency, _missing_dependencies\n\u001b[0;32m     37\u001b[0m \u001b[38;5;28;01mtry\u001b[39;00m:\n\u001b[0;32m     38\u001b[0m     \u001b[38;5;66;03m# numpy compat\u001b[39;00m\n",
      "\u001b[1;31mImportError\u001b[0m: Unable to import required dependencies:\nnumpy: Error importing numpy: you should not try to import numpy from\n        its source directory; please exit the numpy source tree, and relaunch\n        your python interpreter from there."
     ]
    }
   ],
   "source": [
    "import pandas as pd\n",
    "import numpy as np\n",
    "import seaborn as sns\n",
    "import matplotlib.pyplot as plt\n",
    "import warnings\n",
    "warnings.filterwarnings('ignore')\n",
    "import statsmodels.api as sm\n",
    "from scipy.stats import boxcox \n",
    "\n",
    "from sklearn.linear_model import LinearRegression,Lasso,Ridge,ElasticNet,SGDRegressor\n",
    "from mlxtend.feature_selection import SequentialFeatureSelector as sfs\n",
    "from sklearn.feature_selection import RFE\n",
    "from sklearn.preprocessing import StandardScaler,PowerTransformer\n",
    "from sklearn.model_selection import KFold,cross_val_score, GridSearchCV,RandomizedSearchCV\n",
    "from sklearn.model_selection import train_test_split\n",
    "from statsmodels.stats.outliers_influence import variance_inflation_factor as vif\n",
    "\n",
    "from sklearn.metrics import r2_score, mean_squared_error\n",
    "\n",
    "import optuna \n",
    "import optuna.trial._state"
   ]
  },
  {
   "cell_type": "markdown",
   "id": "431fad34",
   "metadata": {},
   "source": [
    "The Indian Premier League was a professional league for Twenty20 (T20) cricket championships (see Exhibit 1) that was started in 2008 in India. The IPL was initiated by the BCCI with eight franchises comprising players from across the world. The first IPL auction was held in 2008 for ownership of the teams for 10 years, with a base price of USD 50 million. The franchises acquire players through an English auction that is conducted every year. However, there are several rules imposed by the IPL. For example, only international players and popular Indian players are auctioned. The performance of the players could be measured through several metrics. Although the IPL follows the Twenty20 format of the game, it is possible that the performance of the players in the other formats of the game such as Test and One- Day matches could influence player pricing. A few players had excellent records in Test matches, but their records in Twenty20 matches were not very impressive. The performance of 130 players who played in at least one season of the IPL(2008-2011) measured through various performance metrics are provided in the dataset."
   ]
  },
  {
   "cell_type": "markdown",
   "id": "0292f6cf",
   "metadata": {},
   "source": [
    "## About the dataset (IPL Auction data)\n",
    "\n",
    "**PLAYER NAME**: Name of the player<br>\n",
    "**AGE**: The age of the player is classified into three categories. Category 1 means the player is less than 25 years old. Category 2 means the player is between 25 and 35 years and Category 3 means the player has aged more than 35.<br>\n",
    "**COUNTRY**: Country of the player<br>\n",
    "**PLAYING ROLE**: Player's primary skill<br>\n",
    "**T-RUNS**: Total runs scored in the test matches<br>\n",
    "**T-WKTS**: Total wickets taken in the test matches<br>\n",
    "**ODI-RUNS-S**: Runs scored in One Day Internationals<br>\n",
    "**ODI-SR-B**: Batting strike rate in One Day Internationals<br>\n",
    "**ODI-WKTS**: Wickets taken in One Day Internationals<br>\n",
    "**ODI-SR-BL**: Bowling strike rate in One Day Internationals<br>\n",
    "**CAPTAINCY EXP**: Captained a team or not<br>\n",
    "**RUNS-S**: Number of runs scored by a player<br>\n",
    "**HS**: Highest score by a batsman in IPL<br>\n",
    "**AVE**: Average runs scored by a batsman in IPL<br>\n",
    "**SR-B**: Batting strike rate (ratio of the number of runs scored to the number of basses faced) in IPL.<br>\n",
    "**SIXERS**: Number of six runs scored by a player in IPL.<br>\n",
    "**RUNS-C**: Number of runs conceded by a player<br>\n",
    "**WKTS**: Number of wickets were taken by a player in IPL.<br>\n",
    "**AVE-BL**: Bowling average (number of runs conceded / number of wickets taken) in IPL.<br>\n",
    "**ECON**: Economy rate of a bowler in IPL (number of runs conceded by the bowler per over).<br>\n",
    "**SR-BL**: Bowling strike rate (ratio of the number of balls bowled to the number of wickets taken) in IPL.<br>\n",
    "**SOLD PRICE**: Auction price of the player (Target Variable)<br>"
   ]
  },
  {
   "cell_type": "code",
   "execution_count": null,
   "id": "39c754ab",
   "metadata": {},
   "outputs": [],
   "source": [
    "data=pd.read_csv('IPL_IMB_data.csv')\n",
    "data.head()"
   ]
  },
  {
   "cell_type": "code",
   "execution_count": null,
   "id": "a8c2b1f1",
   "metadata": {},
   "outputs": [],
   "source": [
    "data.info()"
   ]
  },
  {
   "cell_type": "code",
   "execution_count": null,
   "id": "74708ac3",
   "metadata": {},
   "outputs": [],
   "source": [
    "data.describe().T"
   ]
  },
  {
   "cell_type": "code",
   "execution_count": null,
   "id": "f10a2675",
   "metadata": {},
   "outputs": [],
   "source": [
    "data.describe(include='object')"
   ]
  },
  {
   "cell_type": "markdown",
   "id": "3f734094",
   "metadata": {},
   "source": [
    "**Interpretation:** The variables `PLAYER NAME`, `COUNTRY` and `PLAYING ROLE` are categorical. All the remaining variables are numerical. \n",
    "\n",
    "From the above output, we see that the data type of `AGE` and `CAPTAINCY EXP` is 'int64'.\n",
    "\n",
    "But according to the data definition, `AGE` and `CAPTAINCY EXP` are categorical variables, which are wrongly interpreted as 'int64', so we will convert these variables data type to 'object'."
   ]
  },
  {
   "cell_type": "code",
   "execution_count": null,
   "id": "3668aac9",
   "metadata": {},
   "outputs": [],
   "source": [
    "data.AGE.value_counts()"
   ]
  },
  {
   "cell_type": "code",
   "execution_count": null,
   "id": "7612aefb",
   "metadata": {},
   "outputs": [],
   "source": [
    "data['CAPTAINCY EXP'].value_counts()"
   ]
  },
  {
   "cell_type": "code",
   "execution_count": null,
   "id": "d05d260a",
   "metadata": {},
   "outputs": [],
   "source": [
    "data['PLAYER NAME'].nunique()"
   ]
  },
  {
   "cell_type": "code",
   "execution_count": null,
   "id": "167d860c",
   "metadata": {},
   "outputs": [],
   "source": [
    "data.drop('PLAYER NAME',axis=1,inplace=True)"
   ]
  },
  {
   "cell_type": "code",
   "execution_count": null,
   "id": "952295b8",
   "metadata": {},
   "outputs": [],
   "source": [
    "data['AGE']=data['AGE'].astype('object')\n",
    "data['CAPTAINCY EXP']=data['CAPTAINCY EXP'].astype('object')"
   ]
  },
  {
   "cell_type": "code",
   "execution_count": null,
   "id": "fbec928c",
   "metadata": {},
   "outputs": [],
   "source": [
    "target=data['SOLD PRICE']"
   ]
  },
  {
   "cell_type": "code",
   "execution_count": null,
   "id": "e5c84993",
   "metadata": {},
   "outputs": [],
   "source": [
    "num=data.select_dtypes(include=np.number)\n",
    "cat=data.select_dtypes(include='object')"
   ]
  },
  {
   "cell_type": "code",
   "execution_count": null,
   "id": "4bb09bad",
   "metadata": {},
   "outputs": [],
   "source": [
    "cat.drop('COUNTRY',axis=1, inplace=True)"
   ]
  },
  {
   "cell_type": "code",
   "execution_count": null,
   "id": "cec79b8b",
   "metadata": {},
   "outputs": [],
   "source": [
    "#Category encoding\n",
    "dummy=pd.get_dummies(data=cat,drop_first=True,dtype=float)\n"
   ]
  },
  {
   "cell_type": "code",
   "execution_count": null,
   "id": "bad94a29",
   "metadata": {},
   "outputs": [],
   "source": [
    "dummy"
   ]
  },
  {
   "cell_type": "code",
   "execution_count": null,
   "id": "34bb5559",
   "metadata": {},
   "outputs": [],
   "source": [
    "plt.figure(figsize=[15,15])\n",
    "i=1\n",
    "for col in num:\n",
    "    ax=plt.subplot(4,5,i)\n",
    "    sns.distplot(num[col])\n",
    "    i=i+1"
   ]
  },
  {
   "cell_type": "code",
   "execution_count": null,
   "id": "f9523d05",
   "metadata": {},
   "outputs": [],
   "source": [
    "num.skew()"
   ]
  },
  {
   "cell_type": "code",
   "execution_count": null,
   "id": "891210be",
   "metadata": {},
   "outputs": [],
   "source": [
    "# Skew treatment"
   ]
  },
  {
   "cell_type": "code",
   "execution_count": null,
   "id": "989f54a1",
   "metadata": {
    "scrolled": true
   },
   "outputs": [],
   "source": [
    "#pt=PowerTransformer()\n",
    "#pt_sc=pd.DataFrame(pt.fit_transform(num),columns=num.columns)\n",
    "#pt_sc.skew()"
   ]
  },
  {
   "cell_type": "code",
   "execution_count": null,
   "id": "3967d691",
   "metadata": {},
   "outputs": [],
   "source": [
    "# Capping\n",
    "for i in num.columns:\n",
    "    Q1=num[i].quantile(.25)\n",
    "    Q3=num[i].quantile(.75)\n",
    "    IQR=Q3-Q1\n",
    "    ub=Q3+1.5*IQR\n",
    "    lb=Q1-1.5*IQR\n",
    "    lc=num[i].quantile(.18)\n",
    "    uc=num[i].quantile(.82)\n",
    "    for ind in num[i].index:\n",
    "        if (num.loc[ind,i]>uc):\n",
    "            num.loc[ind,i]=uc\n",
    "        elif (num.loc[ind,i]<lc):\n",
    "            num.loc[ind,i]=lc   "
   ]
  },
  {
   "cell_type": "code",
   "execution_count": null,
   "id": "7f7cbffe",
   "metadata": {},
   "outputs": [],
   "source": [
    "num.skew()"
   ]
  },
  {
   "cell_type": "code",
   "execution_count": null,
   "id": "8c5661be",
   "metadata": {},
   "outputs": [],
   "source": [
    "#num-num\n",
    "plt.figure(figsize=[10,10])\n",
    "sns.heatmap(num.corr(),annot=True)"
   ]
  },
  {
   "cell_type": "code",
   "execution_count": null,
   "id": "8f7c925b",
   "metadata": {},
   "outputs": [],
   "source": [
    "#sns.pairplot(num, kind='kde')"
   ]
  },
  {
   "cell_type": "code",
   "execution_count": null,
   "id": "ef9ba97f",
   "metadata": {},
   "outputs": [],
   "source": [
    "# scaling\n",
    "sc=StandardScaler()\n",
    "num_sc=pd.DataFrame(sc.fit_transform(num),columns=num.columns)\n",
    "num_sc.head()"
   ]
  },
  {
   "cell_type": "code",
   "execution_count": null,
   "id": "dd224db5",
   "metadata": {},
   "outputs": [],
   "source": [
    "data_final=pd.concat([num_sc,dummy], axis=1)\n",
    "data_final.head()"
   ]
  },
  {
   "cell_type": "code",
   "execution_count": null,
   "id": "8748dbf4",
   "metadata": {},
   "outputs": [],
   "source": [
    "y=data_final['SOLD PRICE']\n",
    "X=data_final.drop('SOLD PRICE', axis=1)"
   ]
  },
  {
   "cell_type": "code",
   "execution_count": null,
   "id": "8d475bdd",
   "metadata": {},
   "outputs": [],
   "source": [
    "#OLS\n",
    "X_c=sm.add_constant(X)\n",
    "X_train,X_test,y_train,y_test=train_test_split(X_c,y,test_size=.2,random_state=10)\n",
    "X_train.shape"
   ]
  },
  {
   "cell_type": "code",
   "execution_count": null,
   "id": "95dfe6ee",
   "metadata": {},
   "outputs": [],
   "source": [
    "# Model building \n",
    "model1= sm.OLS(y_train,X_train).fit()\n",
    "print(model1.summary())\n"
   ]
  },
  {
   "cell_type": "code",
   "execution_count": null,
   "id": "90544ff9",
   "metadata": {},
   "outputs": [],
   "source": [
    "model1.resid.skew()"
   ]
  },
  {
   "cell_type": "code",
   "execution_count": null,
   "id": "e67f4e5f",
   "metadata": {},
   "outputs": [],
   "source": [
    "sns.residplot(x=model1.resid,y=model1.fittedvalues)"
   ]
  },
  {
   "cell_type": "code",
   "execution_count": null,
   "id": "91a46102",
   "metadata": {},
   "outputs": [],
   "source": [
    "X_test.shape"
   ]
  },
  {
   "cell_type": "code",
   "execution_count": null,
   "id": "29a8a7f8",
   "metadata": {},
   "outputs": [],
   "source": [
    "model1.rsquared"
   ]
  },
  {
   "cell_type": "code",
   "execution_count": null,
   "id": "d09c6dcd",
   "metadata": {},
   "outputs": [],
   "source": [
    "y_pred=model1.predict(X_test)\n",
    "np.sqrt(mean_squared_error(y_test,y_pred))"
   ]
  },
  {
   "cell_type": "code",
   "execution_count": null,
   "id": "ac039f6b",
   "metadata": {},
   "outputs": [],
   "source": [
    "#a lot of insignificant variables (pvalues>.05)\n",
    "# Assumptions:\n",
    "   # Multicolinearity is present\n",
    "   # Some amount of heteroscadasticity is present\n",
    "   # No Auto-correlation"
   ]
  },
  {
   "cell_type": "code",
   "execution_count": null,
   "id": "eff813b1",
   "metadata": {},
   "outputs": [],
   "source": [
    "#VIF for multicolinearity <5\n",
    "\n",
    "vif_val=[vif(X.values,i)for i in range(0,X.shape[1])]\n",
    "VIF=pd.DataFrame()\n",
    "VIF['feat']=X.columns\n",
    "VIF['vif']=vif_val\n",
    "\n",
    "VIF.sort_values('vif',ascending=False)\n",
    "\n"
   ]
  },
  {
   "cell_type": "code",
   "execution_count": null,
   "id": "34afc722",
   "metadata": {},
   "outputs": [],
   "source": [
    "X=X.drop('AVE-BL',axis=1)\n",
    "\n",
    "vif_val=[vif(X.values,i)for i in range(0,X.shape[1])]\n",
    "VIF=pd.DataFrame()\n",
    "VIF['feat']=X.columns\n",
    "VIF['vif']=vif_val\n",
    "\n",
    "VIF.sort_values('vif',ascending=False)"
   ]
  },
  {
   "cell_type": "code",
   "execution_count": null,
   "id": "9a4ce05e",
   "metadata": {},
   "outputs": [],
   "source": [
    "X=X.drop('RUNS-C',axis=1)\n",
    "\n",
    "vif_val=[vif(X.values,i)for i in range(0,X.shape[1])]\n",
    "VIF=pd.DataFrame()\n",
    "VIF['feat']=X.columns\n",
    "VIF['vif']=vif_val\n",
    "\n",
    "VIF.sort_values('vif',ascending=False)"
   ]
  },
  {
   "cell_type": "code",
   "execution_count": null,
   "id": "cc1aeab3",
   "metadata": {},
   "outputs": [],
   "source": [
    "X=X.drop('RUNS-S',axis=1)\n",
    "\n",
    "vif_val=[vif(X.values,i)for i in range(0,X.shape[1])]\n",
    "VIF=pd.DataFrame()\n",
    "VIF['feat']=X.columns\n",
    "VIF['vif']=vif_val\n",
    "\n",
    "VIF.sort_values('vif',ascending=False)"
   ]
  },
  {
   "cell_type": "code",
   "execution_count": null,
   "id": "1ae4afee",
   "metadata": {},
   "outputs": [],
   "source": [
    "X=X.drop('HS',axis=1)\n",
    "\n",
    "vif_val=[vif(X.values,i)for i in range(0,X.shape[1])]\n",
    "VIF=pd.DataFrame()\n",
    "VIF['feat']=X.columns\n",
    "VIF['vif']=vif_val\n",
    "\n",
    "VIF.sort_values('vif',ascending=False)"
   ]
  },
  {
   "cell_type": "code",
   "execution_count": null,
   "id": "38e02570",
   "metadata": {},
   "outputs": [],
   "source": [
    "X=X.drop('ODI-RUNS-S',axis=1)\n",
    "\n",
    "vif_val=[vif(X.values,i)for i in range(0,X.shape[1])]\n",
    "VIF=pd.DataFrame()\n",
    "VIF['feat']=X.columns\n",
    "VIF['vif']=vif_val\n",
    "\n",
    "VIF.sort_values('vif',ascending=False)"
   ]
  },
  {
   "cell_type": "code",
   "execution_count": null,
   "id": "81d4c51a",
   "metadata": {},
   "outputs": [],
   "source": [
    "X_train,X_test,y_train,y_test=train_test_split(X,y,test_size=.2,random_state=10)"
   ]
  },
  {
   "cell_type": "code",
   "execution_count": null,
   "id": "dec64c5b",
   "metadata": {},
   "outputs": [],
   "source": [
    "#sklearn\n",
    "lr=LinearRegression()\n",
    "model_lr=lr.fit(X_train,y_train)\n",
    "y_pred1=model_lr.predict(X_test)\n",
    "np.sqrt(mean_squared_error(y_test,y_pred1))"
   ]
  },
  {
   "cell_type": "code",
   "execution_count": null,
   "id": "6554a452",
   "metadata": {},
   "outputs": [],
   "source": [
    "# kfold cross validation\n",
    "\n",
    "kf=KFold(n_splits=5)\n",
    "score=cross_val_score(lr,X_train,y_train,cv=kf,scoring='r2')\n",
    "bias=1-score.mean()\n",
    "var=score.std()/score.mean()\n",
    "bias,var"
   ]
  },
  {
   "cell_type": "code",
   "execution_count": null,
   "id": "994f6ca7",
   "metadata": {},
   "outputs": [],
   "source": [
    "score"
   ]
  },
  {
   "cell_type": "code",
   "execution_count": null,
   "id": "be258e97",
   "metadata": {},
   "outputs": [],
   "source": [
    "# Feature selection\n",
    "# Sequential feature selectors\n",
    "   # Forward\n",
    "   # Backward\n",
    "   # RFE"
   ]
  },
  {
   "cell_type": "code",
   "execution_count": null,
   "id": "1b8b474d",
   "metadata": {},
   "outputs": [],
   "source": [
    "# forward\n"
   ]
  },
  {
   "cell_type": "code",
   "execution_count": null,
   "id": "31174576",
   "metadata": {},
   "outputs": [],
   "source": []
  },
  {
   "cell_type": "code",
   "execution_count": null,
   "id": "8a665bad",
   "metadata": {},
   "outputs": [],
   "source": [
    "# backward FE\n"
   ]
  },
  {
   "cell_type": "code",
   "execution_count": null,
   "id": "297606aa",
   "metadata": {},
   "outputs": [],
   "source": [
    "# RFE\n"
   ]
  },
  {
   "cell_type": "code",
   "execution_count": null,
   "id": "2e671c89",
   "metadata": {},
   "outputs": [],
   "source": [
    "# Regularizations\n",
    "   # Ridge\n",
    "   # Lasso \n",
    "   # Elastic Net"
   ]
  },
  {
   "cell_type": "code",
   "execution_count": null,
   "id": "b354ff63",
   "metadata": {},
   "outputs": [],
   "source": []
  },
  {
   "cell_type": "raw",
   "id": "e2dd59b9",
   "metadata": {},
   "source": [
    "rid_alpha1=ridge.fit(X_train[sfs_for],y_train)\n",
    "y_test_pred=rid_alpha1.predict(X_test[sfs_for])\n",
    "y_train_pred=rid_alpha1.predict(X_train[sfs_for])\n",
    "\n",
    "print(r2_score(y_train,y_train_pred))\n",
    "print(r2_score(y_test,y_test_pred))"
   ]
  },
  {
   "cell_type": "code",
   "execution_count": null,
   "id": "1c4702c9",
   "metadata": {},
   "outputs": [],
   "source": [
    "# Hyper parameter optimization\n",
    "   # Grid search\n",
    "   # Random Search \n",
    "   # Bayesian Opt"
   ]
  },
  {
   "cell_type": "code",
   "execution_count": null,
   "id": "5253e9bb",
   "metadata": {},
   "outputs": [],
   "source": [
    "# Grid search\n"
   ]
  },
  {
   "cell_type": "code",
   "execution_count": null,
   "id": "51d65ae4",
   "metadata": {},
   "outputs": [],
   "source": [
    "#build the model with best params\n"
   ]
  },
  {
   "cell_type": "code",
   "execution_count": null,
   "id": "7f0bcfe2",
   "metadata": {},
   "outputs": [],
   "source": [
    "# Randomized search\n"
   ]
  },
  {
   "cell_type": "code",
   "execution_count": null,
   "id": "8250062e",
   "metadata": {},
   "outputs": [],
   "source": [
    "#build the model with best params\n"
   ]
  },
  {
   "cell_type": "raw",
   "id": "64e974e4",
   "metadata": {},
   "source": [
    "# bayesian Optimizer\n",
    "\n",
    "def objective(trial):\n",
    "    alpha = trial.suggest_loguniform('alpha', 0.000000000000001,100)  \n",
    "    ridge = Ridge(alpha=alpha)\n",
    "   \n",
    "    score = np.mean(cross_val_score(ridge, X_train[rfe_feat], y_train, cv=3, scoring='r2'))\n",
    "    return score"
   ]
  },
  {
   "cell_type": "raw",
   "id": "9340cb1f",
   "metadata": {},
   "source": [
    "# Perform Bayesian Optimization with Optuna\n",
    "study = optuna.create_study(direction='maximize')  # minimize\n",
    "study.optimize(objective, n_trials=20, n_jobs=-1)\n",
    "print(\"Best parameters: \", study.best_params)\n"
   ]
  },
  {
   "cell_type": "raw",
   "id": "efc277f4",
   "metadata": {},
   "source": [
    "best_alpha = study.best_params['alpha']\n",
    "best_model = Ridge(alpha=best_alpha)\n",
    "best_model.fit(X_train[rfe_feat], y_train)\n"
   ]
  },
  {
   "cell_type": "code",
   "execution_count": null,
   "id": "a07ce506",
   "metadata": {},
   "outputs": [],
   "source": [
    "# Optimization\n",
    "   # SGD"
   ]
  },
  {
   "cell_type": "code",
   "execution_count": null,
   "id": "05ca6d47",
   "metadata": {},
   "outputs": [],
   "source": []
  },
  {
   "cell_type": "code",
   "execution_count": null,
   "id": "50990ce2",
   "metadata": {},
   "outputs": [],
   "source": []
  },
  {
   "cell_type": "code",
   "execution_count": null,
   "id": "8e8ab243",
   "metadata": {},
   "outputs": [],
   "source": []
  }
 ],
 "metadata": {
  "kernelspec": {
   "display_name": "Python 3 (ipykernel)",
   "language": "python",
   "name": "python3"
  },
  "language_info": {
   "codemirror_mode": {
    "name": "ipython",
    "version": 3
   },
   "file_extension": ".py",
   "mimetype": "text/x-python",
   "name": "python",
   "nbconvert_exporter": "python",
   "pygments_lexer": "ipython3",
   "version": "3.11.5"
  }
 },
 "nbformat": 4,
 "nbformat_minor": 5
}
