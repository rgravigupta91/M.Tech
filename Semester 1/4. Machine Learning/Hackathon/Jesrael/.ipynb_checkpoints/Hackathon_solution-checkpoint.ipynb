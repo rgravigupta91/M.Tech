{
 "cells": [
  {
   "cell_type": "markdown",
   "id": "648195b7-3417-40f6-b81d-e9057c9e16b8",
   "metadata": {},
   "source": [
    "# Import statements"
   ]
  },
  {
   "cell_type": "code",
   "execution_count": 1,
   "id": "46bf3fbf-dff1-44c0-b449-256c4ac73cb2",
   "metadata": {},
   "outputs": [],
   "source": [
    "import numpy as np \n",
    "import pandas as pd\n",
    "from datetime import datetime\n",
    "import matplotlib.pyplot as plt\n",
    "import seaborn as sns\n",
    "import re\n",
    "from time import sleep\n",
    "import pickle\n",
    "import googlemaps\n",
    "import os\n",
    "from tqdm import tqdm\n",
    "from scipy.optimize import minimize,Bounds\n",
    "\n",
    "import statsmodels.api as sm\n",
    "\n",
    "from sklearn.model_selection import train_test_split\n",
    "from sklearn.linear_model import LinearRegression\n",
    "from sklearn.metrics import mean_squared_error, mean_absolute_percentage_error\n",
    "from sklearn.ensemble import RandomForestRegressor, GradientBoostingRegressor\n",
    "from sklearn.neighbors import RadiusNeighborsRegressor\n",
    "\n",
    "from xgboost import XGBRegressor"
   ]
  },
  {
   "cell_type": "code",
   "execution_count": 2,
   "id": "fb8207d7-b836-47cf-884e-a92869188dc4",
   "metadata": {},
   "outputs": [],
   "source": [
    "tqdm.pandas()"
   ]
  },
  {
   "cell_type": "code",
   "execution_count": 3,
   "id": "254a1502-56bd-4a90-8bce-73019af41e2f",
   "metadata": {},
   "outputs": [],
   "source": [
    "sns.set_style('darkgrid')\n",
    "plt.rcParams['figure.figsize'] = (10,6)\n",
    "plt.rcParams['font.size'] = 10"
   ]
  },
  {
   "cell_type": "code",
   "execution_count": 4,
   "id": "44adcd23-7467-4c74-a15d-5e431514728f",
   "metadata": {},
   "outputs": [],
   "source": [
    "R = 6071.088 #Radius of the earth in km\n",
    "def simplified_haversine(lat1,lng1,lat2,lng2): #Function to get the distance between two latlngs in km\n",
    "    lat1,lng1,lat2,lng2 = np.pi*lat1/180,np.pi*lng1/180,np.pi*lat2/180,np.pi*lng2/180\n",
    "    dlat = lat2 - lat1\n",
    "    dlng = np.cos(lat1)*(lng2 - lng1)\n",
    "    return R*np.sqrt(dlat**2 + dlng**2)"
   ]
  },
  {
   "cell_type": "markdown",
   "id": "852d4696-f26f-4709-9dbe-627b9de6f91d",
   "metadata": {},
   "source": [
    "Click [here](#Checkpoint1-Load)  to go to Checkpoint1.\\\n",
    "Click [here](#Checkpoint2-Load)  to go to Checkpoint2.\\\n",
    "Click [here](#Checkpoint3-Load)  to go to Checkpoint3.\\\n",
    "Click [here](#Checkpoint4-Load)  to go to Checkpoint4.\\\n",
    "Click [here](#Checkpoint5-Load)  to go to Checkpoint5.\\\n",
    "Click [here](#Checkpoint6-Load)  to go to Checkpoint6.\\\n",
    "Click [here](#Checkpoint7-Load)  to go to Checkpoint7."
   ]
  },
  {
   "cell_type": "markdown",
   "id": "f40ba192-8cb6-49c4-9aa4-c3cb124a99e5",
   "metadata": {},
   "source": [
    "# Load the data"
   ]
  },
  {
   "cell_type": "code",
   "execution_count": null,
   "id": "c4e7369f-1f93-497d-b370-3a3a37012468",
   "metadata": {},
   "outputs": [],
   "source": [
    "df = pd.read_csv('train.csv',index_col = ['ID'])\n",
    "dist_from_city_centre = pd.read_csv('dist_from_city_centre.csv',index_col = 'location')\n",
    "avg_rent = pd.read_csv('avg_rent.csv',index_col='location')\n",
    "test = pd.read_csv('test.csv',index_col = ['ID'])"
   ]
  },
  {
   "cell_type": "code",
   "execution_count": null,
   "id": "eada4fd3-fd27-4df2-ac30-5e7ea0775597",
   "metadata": {},
   "outputs": [],
   "source": [
    "df.head()"
   ]
  },
  {
   "cell_type": "code",
   "execution_count": null,
   "id": "c3364541-389a-4759-9361-0e5f21b4a703",
   "metadata": {},
   "outputs": [],
   "source": [
    "avg_rent.head()"
   ]
  },
  {
   "cell_type": "code",
   "execution_count": null,
   "id": "23e00477-8154-4c87-9911-1953ca3e3f01",
   "metadata": {},
   "outputs": [],
   "source": [
    "dist_from_city_centre.head()"
   ]
  },
  {
   "cell_type": "code",
   "execution_count": null,
   "id": "d5b2871a-f3d5-4044-bd0c-d38dcc621275",
   "metadata": {},
   "outputs": [],
   "source": [
    "test.head()"
   ]
  },
  {
   "cell_type": "markdown",
   "id": "556b7ce1-e803-433b-aa76-ff520823f70d",
   "metadata": {},
   "source": [
    "# Data inspection and cleaning"
   ]
  },
  {
   "cell_type": "markdown",
   "id": "1dccb3a4-079d-441f-86a3-0fbdc3cdedca",
   "metadata": {},
   "source": [
    "## location\n",
    "\n",
    "We have a column indicating location in each of the datasets we have been give. But because the place name can have multiple strings associated with it (e.g RR Nagar = Rajarajeshwari Nagar), we should get the (latitude, longitude) for each location. Let's use google geocoding API to get latlong for each location in all the tables."
   ]
  },
  {
   "cell_type": "code",
   "execution_count": null,
   "id": "8d7dc2ed-99a6-4287-af04-ee5957e5f1ed",
   "metadata": {},
   "outputs": [],
   "source": [
    "gmaps = googlemaps.Client(key=os.environ['GOOGLE_MAPS_API_KEY'])"
   ]
  },
  {
   "cell_type": "code",
   "execution_count": null,
   "id": "e2167d74-aab2-4953-abb5-6034197491ba",
   "metadata": {},
   "outputs": [],
   "source": [
    "def get_latlong(area_name):\n",
    "    try:\n",
    "        area_name = re.sub(r'[^a-zA-Z0-9\\s]', '', area_name) #Remove all non-alphanumeric data\n",
    "        geocode_result = gmaps.geocode(area_name+', Bengaluru')\n",
    "        sleep(0.02) #To not trigger the rate limit\n",
    "        return geocode_result[0]['geometry']['location']\n",
    "    except:\n",
    "        return {'lat':np.nan,'lng':np.nan}"
   ]
  },
  {
   "cell_type": "code",
   "execution_count": null,
   "id": "0ecfec31-be1d-4fd6-aab5-ca055cefddbc",
   "metadata": {},
   "outputs": [],
   "source": [
    "train_latlngs = pd.DataFrame({x:get_latlong(x) for x in df['location'].unique()}).T\n",
    "df[['lat','lng']] = train_latlngs.reindex(df['location']).reset_index(drop=True).round(6)"
   ]
  },
  {
   "cell_type": "markdown",
   "id": "b770ba7d-41ec-45ae-8778-0e69a6b6fc21",
   "metadata": {},
   "source": [
    "Now do the same for avg_rent, dist_from_city_centre and the test data"
   ]
  },
  {
   "cell_type": "code",
   "execution_count": null,
   "id": "c97ac881-2827-458f-90e6-5f089695f483",
   "metadata": {},
   "outputs": [],
   "source": [
    "avg_rent_latlngs = pd.DataFrame({x:get_latlong(x) for x in avg_rent.index}).T\n",
    "avg_rent[['lat','lng']] = avg_rent_latlngs.round(6)"
   ]
  },
  {
   "cell_type": "code",
   "execution_count": null,
   "id": "eaf5edd0-f756-48c3-9a8c-43d318614f28",
   "metadata": {},
   "outputs": [],
   "source": [
    "dist_from_city_centre_latlngs = pd.DataFrame({x:get_latlong(x) for x in dist_from_city_centre.index}).T\n",
    "dist_from_city_centre[['lat','lng']] = dist_from_city_centre_latlngs.round(6)"
   ]
  },
  {
   "cell_type": "code",
   "execution_count": null,
   "id": "e1870053-2acb-4189-9dfc-646d77d22d14",
   "metadata": {},
   "outputs": [],
   "source": [
    "test_latlngs = pd.DataFrame({x:get_latlong(x) for x in test['location'].unique()}).T\n",
    "test[['lat','lng']] = test_latlngs.reindex(test['location']).reset_index(drop=True).round(6)"
   ]
  },
  {
   "cell_type": "markdown",
   "id": "3d192b0f-a769-4687-9c67-c924e1cfbac8",
   "metadata": {},
   "source": [
    "### Checkpoint1 Save"
   ]
  },
  {
   "cell_type": "code",
   "execution_count": null,
   "id": "72efe83f-bac6-449d-b3ba-cd0a2866838f",
   "metadata": {},
   "outputs": [],
   "source": [
    "pickle.dump({'df':df,'avg_rent':avg_rent,'dist_from_city_centre':dist_from_city_centre,'test':test},open('Checkpoint1.pickle','wb'))"
   ]
  },
  {
   "cell_type": "markdown",
   "id": "42dd6b44-c0ba-4b09-8d2a-00af6b273762",
   "metadata": {},
   "source": [
    "### Checkpoint1 Load"
   ]
  },
  {
   "cell_type": "code",
   "execution_count": null,
   "id": "ff28ce0d-2326-4393-978a-29267f843e23",
   "metadata": {},
   "outputs": [],
   "source": [
    "tmp = pickle.load(open('Checkpoint1.pickle','rb'))\n",
    "df = tmp['df']\n",
    "avg_rent = tmp['avg_rent']\n",
    "dist_from_city_centre = tmp['dist_from_city_centre']\n",
    "test = tmp['test']\n",
    "del tmp"
   ]
  },
  {
   "cell_type": "markdown",
   "id": "eddb93a0-c123-4d90-9178-dbd75b7cb1eb",
   "metadata": {},
   "source": [
    "Now, to get area from lat,lng reverse_geocode"
   ]
  },
  {
   "cell_type": "code",
   "execution_count": null,
   "id": "37320609-580f-4fd1-a4d2-457654b478e4",
   "metadata": {},
   "outputs": [],
   "source": [
    "gmaps = googlemaps.Client(key=os.environ['GOOGLE_MAPS_API_KEY'])"
   ]
  },
  {
   "cell_type": "code",
   "execution_count": null,
   "id": "577f2ca4-504d-416f-9507-f7591d834198",
   "metadata": {},
   "outputs": [],
   "source": [
    "def reverse_geocode(lat,lng):\n",
    "    \"reverse geocode to get sublocality upto level 3\"\n",
    "    try:\n",
    "        sleep(0.02) #To not trigger rate limit...\n",
    "        result = gmaps.reverse_geocode((lat,lng),result_type = 'locality|sublocality|sublocality_level_1|sublocality_level_2|sublocality_level_3',\n",
    "                                       location_type = 'APPROXIMATE')\n",
    "        assert len(result)>0\n",
    "    except:\n",
    "        return pd.Series(np.nan,index = ['locality','sublocality','sublocality_level_1','sublocality_level_2','sublocality_level_3'],dtype = object)\n",
    "    \n",
    "    ans = pd.DataFrame('',index = pd.RangeIndex(len(result)),columns = ['locality','sublocality','sublocality_level_1','sublocality_level_2','sublocality_level_3'])\n",
    "    for ctr,i in enumerate(result):\n",
    "        ans.loc[ctr,[x for x in ans.columns if x in i['types']]] = i['formatted_address']\n",
    "    \n",
    "    return ans.apply(lambda x:max(x,key=len)).replace('',np.nan)"
   ]
  },
  {
   "cell_type": "code",
   "execution_count": null,
   "id": "0201a063-7efb-47bb-a391-20ffa379e557",
   "metadata": {},
   "outputs": [],
   "source": [
    "unique_latlngs = pd.concat((df[['lat','lng']],avg_rent[['lat','lng']],dist_from_city_centre[['lat','lng']],test[['lat','lng']])).drop_duplicates().dropna(\n",
    "    ignore_index=True)\n",
    "unique_latlngs.shape"
   ]
  },
  {
   "cell_type": "markdown",
   "id": "83b86bb1-379b-4a56-ba8a-25b3796728eb",
   "metadata": {},
   "source": [
    "So there are 1152 locations which we want to reverse geocode:"
   ]
  },
  {
   "cell_type": "code",
   "execution_count": null,
   "id": "a7925a83-e4b2-4bc3-a487-40a6c31bde41",
   "metadata": {},
   "outputs": [],
   "source": [
    "unique_latlngs[['locality','sublocality','sublocality_level_1','sublocality_level_2','sublocality_level_3']] = unique_latlngs.progress_apply(\n",
    "    lambda x:reverse_geocode(x['lat'],x['lng']),axis=1)"
   ]
  },
  {
   "cell_type": "code",
   "execution_count": null,
   "id": "f35ad3c1-fd4c-4b03-9d13-d9f40f2129e3",
   "metadata": {},
   "outputs": [],
   "source": [
    "df = df.merge(unique_latlngs,on = ['lat','lng'],how = 'left')\n",
    "avg_rent = avg_rent.reset_index().merge(unique_latlngs,on = ['lat','lng'],how = 'left')\n",
    "dist_from_city_centre = dist_from_city_centre.reset_index().merge(unique_latlngs,on = ['lat','lng'],how = 'left')\n",
    "test = test.merge(unique_latlngs,on = ['lat','lng'],how = 'left')"
   ]
  },
  {
   "cell_type": "code",
   "execution_count": null,
   "id": "fce685e7-9563-44e9-965e-8d7d2673d32c",
   "metadata": {},
   "outputs": [],
   "source": [
    "df['locality'] = df['locality'].replace('Bengaluru, Karnataka, India',np.nan)\n",
    "test['locality'] = test['locality'].replace('Bengaluru, Karnataka, India',np.nan)"
   ]
  },
  {
   "cell_type": "markdown",
   "id": "2efe6de1-1b87-460d-9549-290f79230781",
   "metadata": {},
   "source": [
    "### Checkpoint2 Save"
   ]
  },
  {
   "cell_type": "code",
   "execution_count": null,
   "id": "6f039040-1963-4c79-8581-8410b90b611d",
   "metadata": {},
   "outputs": [],
   "source": [
    "pickle.dump({'df':df,'avg_rent':avg_rent,'dist_from_city_centre':dist_from_city_centre,'test':test},open('Checkpoint2.pickle','wb'))"
   ]
  },
  {
   "cell_type": "markdown",
   "id": "c467838f-0e4b-439d-a8e5-704289c7843b",
   "metadata": {},
   "source": [
    "### Checkpoint2 Load"
   ]
  },
  {
   "cell_type": "code",
   "execution_count": null,
   "id": "6f310217-66a7-4d51-8246-f5d22e84f282",
   "metadata": {},
   "outputs": [],
   "source": [
    "tmp = pickle.load(open('Checkpoint2.pickle','rb'))\n",
    "df = tmp['df']\n",
    "avg_rent = tmp['avg_rent']\n",
    "dist_from_city_centre = tmp['dist_from_city_centre']\n",
    "test = tmp['test']\n",
    "del tmp"
   ]
  },
  {
   "cell_type": "markdown",
   "id": "31532401-b03e-4528-a58e-812d4e1f6e81",
   "metadata": {},
   "source": [
    "To get the average 2bhk rent in a locality, first compare by the lowest granularlity (sublocality_level_3), and so on up the levels."
   ]
  },
  {
   "cell_type": "code",
   "execution_count": null,
   "id": "c078be67-442f-48f0-ae2d-36fdf03c13bc",
   "metadata": {},
   "outputs": [],
   "source": [
    "def get_avg_rent(row):\n",
    "    if not (sub_df:=avg_rent.query(f'sublocality_level_3==\"{row[\"sublocality_level_3\"]}\"')).empty:\n",
    "        return round(sub_df['avg_2bhk_rent'].mean(),2)\n",
    "    if not (sub_df:=avg_rent.query(f'sublocality_level_2==\"{row[\"sublocality_level_2\"]}\"')).empty:\n",
    "        return round(sub_df['avg_2bhk_rent'].mean(),2)\n",
    "    if not (sub_df:=avg_rent.query(f'sublocality_level_1==\"{row[\"sublocality_level_1\"]}\"')).empty:\n",
    "        return round(sub_df['avg_2bhk_rent'].mean(),2)\n",
    "    if not (sub_df:=avg_rent.query(f'sublocality==\"{row[\"sublocality\"]}\"')).empty:\n",
    "        return round(sub_df['avg_2bhk_rent'].mean(),2)\n",
    "    if not (sub_df:=avg_rent.query(f'locality==\"{row[\"locality\"]}\"')).empty:\n",
    "        return round(sub_df['avg_2bhk_rent'].mean(),2)\n",
    "    return np.nan"
   ]
  },
  {
   "cell_type": "code",
   "execution_count": null,
   "id": "496427e1-02e2-44f2-a3b1-e0e652f46a2c",
   "metadata": {},
   "outputs": [],
   "source": [
    "df['avg_2bhk_rent'] = df.progress_apply(get_avg_rent,axis=1)\n",
    "test['avg_2bhk_rent'] = test.progress_apply(get_avg_rent,axis=1)"
   ]
  },
  {
   "cell_type": "code",
   "execution_count": null,
   "id": "70aac418-4428-402c-ab81-b55ef514272a",
   "metadata": {},
   "outputs": [],
   "source": [
    "df['avg_2bhk_rent'].isna().mean()"
   ]
  },
  {
   "cell_type": "markdown",
   "id": "e6aab165-14e1-47e1-9852-595748c0e12a",
   "metadata": {},
   "source": [
    "~25% of the records have not got a match using the google geocoding - reverse_geocoding."
   ]
  },
  {
   "cell_type": "code",
   "execution_count": null,
   "id": "17dbe268-8a5c-410a-b21e-a88b44a24848",
   "metadata": {},
   "outputs": [],
   "source": [
    "def get_dist_from_city_centre(row):\n",
    "    if not (sub_df:=dist_from_city_centre.query(f'sublocality_level_3==\"{row[\"sublocality_level_3\"]}\"')).empty:\n",
    "        return round(sub_df['dist_from_city'].mean(),1)\n",
    "    if not (sub_df:=dist_from_city_centre.query(f'sublocality_level_2==\"{row[\"sublocality_level_2\"]}\"')).empty:\n",
    "        return round(sub_df['dist_from_city'].mean(),1)\n",
    "    if not (sub_df:=dist_from_city_centre.query(f'sublocality_level_1==\"{row[\"sublocality_level_1\"]}\"')).empty:\n",
    "        return round(sub_df['dist_from_city'].mean(),1)\n",
    "    if not (sub_df:=dist_from_city_centre.query(f'sublocality==\"{row[\"sublocality\"]}\"')).empty:\n",
    "        return round(sub_df['dist_from_city'].mean(),1)\n",
    "    if not (sub_df:=dist_from_city_centre.query(f'locality==\"{row[\"locality\"]}\"')).empty:\n",
    "        return round(sub_df['dist_from_city'].mean(),1)\n",
    "    return np.nan"
   ]
  },
  {
   "cell_type": "code",
   "execution_count": null,
   "id": "7517b49f-de9f-4460-980d-d0def9b4c2d2",
   "metadata": {},
   "outputs": [],
   "source": [
    "df['dist_from_city'] = df.progress_apply(get_dist_from_city_centre,axis=1)\n",
    "test['dist_from_city'] = test.progress_apply(get_dist_from_city_centre,axis=1)"
   ]
  },
  {
   "cell_type": "code",
   "execution_count": null,
   "id": "96fc4d42-e00b-4b43-b1a9-c4231e0f66bc",
   "metadata": {},
   "outputs": [],
   "source": [
    "df['dist_from_city'].isna().mean()"
   ]
  },
  {
   "attachments": {},
   "cell_type": "markdown",
   "id": "a6f09454-85b2-4d2c-a197-ce738150cafa",
   "metadata": {},
   "source": [
    "~6% of the records don't have the distance from city feature using geocoding - reverse_geocoding.\n",
    "\n",
    "We have extracted all we can from the column 'location' - remove it."
   ]
  },
  {
   "cell_type": "code",
   "execution_count": null,
   "id": "548d6a99-2517-4072-8158-e45514cb445b",
   "metadata": {},
   "outputs": [],
   "source": [
    "del df['location']\n",
    "del test['location']\n",
    "del avg_rent['location']\n",
    "del dist_from_city_centre['location']"
   ]
  },
  {
   "cell_type": "markdown",
   "id": "be4fd7dc-6074-4f94-bb6d-aef7f82bce6d",
   "metadata": {},
   "source": [
    "Let's create a new standardized 'location' category for df and test: \n",
    "\n",
    "* We give first preference to sublocality_level_1, then 2, then 3. \n",
    "\n",
    "If all are null, then go for sublocality, and then locality."
   ]
  },
  {
   "cell_type": "code",
   "execution_count": null,
   "id": "7193010a-22eb-43c1-a441-37ceea8223b8",
   "metadata": {},
   "outputs": [],
   "source": [
    "def coalesce(*args):    \n",
    "    # Start with the first series\n",
    "    result = args[0]\n",
    "    \n",
    "    # Combine each subsequent series using combine_first\n",
    "    for series in args[1:]:\n",
    "        result = result.combine_first(series)\n",
    "    \n",
    "    return result"
   ]
  },
  {
   "cell_type": "code",
   "execution_count": null,
   "id": "4f26686c-004b-41a1-87bd-948ea159f918",
   "metadata": {},
   "outputs": [],
   "source": [
    "df['location'] = coalesce(df['sublocality_level_1'],df['sublocality_level_2'],df['sublocality_level_3'],df['sublocality'],df['locality'])\n",
    "test['location'] = coalesce(test['sublocality_level_1'],test['sublocality_level_2'],test['sublocality_level_3'],test['sublocality'],test['locality'])"
   ]
  },
  {
   "cell_type": "code",
   "execution_count": null,
   "id": "9ac6019a-bc57-4a55-8758-30e3e1c93c0b",
   "metadata": {},
   "outputs": [],
   "source": [
    "df['location'].nunique()"
   ]
  },
  {
   "cell_type": "markdown",
   "id": "1cacf868-c648-4cc4-8d79-9a5f259af95b",
   "metadata": {},
   "source": [
    "Now, remove all the sublocality, locality columns which we got from google"
   ]
  },
  {
   "cell_type": "code",
   "execution_count": null,
   "id": "5e31989f-7416-4fdc-bd72-4f0843e59bb5",
   "metadata": {},
   "outputs": [],
   "source": [
    "df.drop(['locality','sublocality','sublocality_level_1','sublocality_level_2','sublocality_level_3'],axis=1,inplace=True)\n",
    "test.drop(['locality','sublocality','sublocality_level_1','sublocality_level_2','sublocality_level_3'],axis=1,inplace=True)"
   ]
  },
  {
   "cell_type": "markdown",
   "id": "d26b50ff-bc35-40e0-a19c-27a5c43aeb54",
   "metadata": {},
   "source": [
    "### Checkpoint3 Save"
   ]
  },
  {
   "cell_type": "code",
   "execution_count": null,
   "id": "a925b72c-0d68-4df5-bb66-4b6ad1ff1b6d",
   "metadata": {},
   "outputs": [],
   "source": [
    "pickle.dump({'df':df,'avg_rent':avg_rent,'dist_from_city_centre':dist_from_city_centre,'test':test},open('Checkpoint3.pickle','wb'))"
   ]
  },
  {
   "cell_type": "markdown",
   "id": "fc891a35-c67d-48d9-ad62-22069f17f2e0",
   "metadata": {},
   "source": [
    "### Checkpoint3 Load"
   ]
  },
  {
   "cell_type": "code",
   "execution_count": null,
   "id": "418fd410-2490-48f8-8723-bc3cbc4c92cd",
   "metadata": {},
   "outputs": [],
   "source": [
    "tmp = pickle.load(open('Checkpoint3.pickle','rb'))\n",
    "df = tmp['df']\n",
    "avg_rent = tmp['avg_rent']\n",
    "dist_from_city_centre = tmp['dist_from_city_centre']\n",
    "test = tmp['test']\n",
    "del tmp"
   ]
  },
  {
   "cell_type": "markdown",
   "id": "6e6b92c9-796a-4802-b940-983497286d5a",
   "metadata": {},
   "source": [
    "## area_type"
   ]
  },
  {
   "cell_type": "code",
   "execution_count": null,
   "id": "b4db2eb7-41a8-42df-9537-8ccfc3ed404d",
   "metadata": {},
   "outputs": [],
   "source": [
    "df['area_type'].value_counts(dropna=False)"
   ]
  },
  {
   "cell_type": "code",
   "execution_count": null,
   "id": "65466a1d-0608-4e4d-8836-268d41aeff48",
   "metadata": {},
   "outputs": [],
   "source": [
    "test['area_type'].value_counts(dropna=False)"
   ]
  },
  {
   "cell_type": "markdown",
   "id": "4715165c-3ac1-4218-9f9c-766195f13c30",
   "metadata": {},
   "source": [
    "Clean up spaces..."
   ]
  },
  {
   "cell_type": "code",
   "execution_count": null,
   "id": "bcc0930f-c135-43a0-b9a9-cd83faddaeca",
   "metadata": {},
   "outputs": [],
   "source": [
    "df['area_type'] = df['area_type'].apply(lambda x:x.replace('  ',' '))\n",
    "test['area_type'] = test['area_type'].apply(lambda x:x.replace('  ',' '))"
   ]
  },
  {
   "cell_type": "markdown",
   "id": "2c8eb1f4-c414-4a00-bbed-67800c74661d",
   "metadata": {},
   "source": [
    "No null values are here, and there are only four values. Convert to categorical, with 'Carpet Area as first'"
   ]
  },
  {
   "cell_type": "code",
   "execution_count": null,
   "id": "5313a191-4b4f-4371-8d45-bf4e3ad3deb5",
   "metadata": {},
   "outputs": [],
   "source": [
    "area_type = pd.CategoricalDtype(['Carpet Area','Built-up Area','Super built-up Area','Plot Area'])\n",
    "df['area_type'] = df['area_type'].astype(area_type)\n",
    "test['area_type'] = test['area_type'].astype(area_type)"
   ]
  },
  {
   "cell_type": "code",
   "execution_count": null,
   "id": "01dc5a1f-b973-433c-a6a1-40c2ffd7aff6",
   "metadata": {},
   "outputs": [],
   "source": [
    "df['area_type'].value_counts(dropna=False).sort_index()"
   ]
  },
  {
   "cell_type": "code",
   "execution_count": null,
   "id": "d010c712-74cd-41f0-b55e-07ff95052a55",
   "metadata": {},
   "outputs": [],
   "source": [
    "test['area_type'].value_counts(dropna=False).sort_index()"
   ]
  },
  {
   "cell_type": "markdown",
   "id": "51033afc-cd61-47e7-98f7-ee78fffa5316",
   "metadata": {},
   "source": [
    "## availability"
   ]
  },
  {
   "cell_type": "code",
   "execution_count": null,
   "id": "7fd9a836-b1c5-4b53-9bbe-fd94cf0dc485",
   "metadata": {},
   "outputs": [],
   "source": [
    "df['availability'].value_counts().head(30)"
   ]
  },
  {
   "cell_type": "code",
   "execution_count": null,
   "id": "d896d9aa-2ca9-486f-9926-60304508a178",
   "metadata": {},
   "outputs": [],
   "source": [
    "test['availability'].value_counts()"
   ]
  },
  {
   "cell_type": "markdown",
   "id": "147b98ed-01cb-44d2-84d8-9fa8f9f5bd5f",
   "metadata": {},
   "source": [
    "Again no null values, but we can take Ready To Move/Immediate Posession as null and convert it into a date. No year(s) has been given, so we will assume that it's a single year (2025) for the purpose of calculation."
   ]
  },
  {
   "cell_type": "code",
   "execution_count": null,
   "id": "17081868-cc4a-46c1-9a9f-88871497ea04",
   "metadata": {},
   "outputs": [],
   "source": [
    "df['availability_dt'] = df['availability'].apply(lambda x:pd.NaT if x in ('Ready To Move','Immediate Possession') else datetime.strptime(x + '-2025', '%d-%b-%Y'))\n",
    "df['availability_month'] = df['availability_dt'].dt.strftime('%b')"
   ]
  },
  {
   "cell_type": "code",
   "execution_count": null,
   "id": "e55877c3-5699-4e5b-a986-d16591c269d7",
   "metadata": {},
   "outputs": [],
   "source": [
    "test['availability_dt'] = test['availability'].apply(lambda x:pd.NaT if x in ('Ready To Move','Immediate Possession') else datetime.strptime(x + '-2025', '%d-%b-%Y'))\n",
    "test['availability_month'] = test['availability_dt'].dt.strftime('%b')"
   ]
  },
  {
   "cell_type": "markdown",
   "id": "3b030094-58e5-4f50-a910-8f3740a51258",
   "metadata": {},
   "source": [
    "Plot availability per month"
   ]
  },
  {
   "cell_type": "code",
   "execution_count": null,
   "id": "f41bd070-d0e5-4903-a354-fd6932c9b132",
   "metadata": {},
   "outputs": [],
   "source": [
    "sns.countplot(df,x = 'availability_month',order=['Jan','Feb','Mar','Apr','May','Jun','Jul','Aug','Sep','Oct','Nov','Dec'])\n",
    "plt.title('Availability per month')\n",
    "plt.show()"
   ]
  },
  {
   "cell_type": "markdown",
   "id": "c7c19ef4-e8e2-43bc-9598-60fe551b5b11",
   "metadata": {},
   "source": [
    "The assumption that this is a single year can't be relied upon. The 'Dec' category may combine data from multiple years. Some buildings may be available only in 2026/2027.\n",
    "\n",
    "So the only reliable information we can get from this column is 'day of year'."
   ]
  },
  {
   "cell_type": "code",
   "execution_count": null,
   "id": "b0a9f710-556a-4c8a-a5b0-72281a1a06f5",
   "metadata": {},
   "outputs": [],
   "source": [
    "df['availability_doy'] = df['availability_dt'].dt.dayofyear\n",
    "test['availability_doy'] = test['availability_dt'].dt.dayofyear"
   ]
  },
  {
   "cell_type": "markdown",
   "id": "5739ab14-d772-494a-824a-f4067d72d468",
   "metadata": {},
   "source": [
    "Create a ready_to_move flag:"
   ]
  },
  {
   "cell_type": "code",
   "execution_count": null,
   "id": "5e81763a-a139-4632-bc9e-34d69fee309b",
   "metadata": {},
   "outputs": [],
   "source": [
    "df['ready_to_move_flag'] = df['availability'].isin(['Ready To Move','Immediate Possession']).astype('b')\n",
    "test['ready_to_move_flag'] = test['availability'].isin(['Ready To Move','Immediate Possession']).astype('b')"
   ]
  },
  {
   "cell_type": "markdown",
   "id": "1ef883e9-76b2-413a-9a34-1cd7450160cd",
   "metadata": {},
   "source": [
    "Remove the availability columns from which we have extracted all the data"
   ]
  },
  {
   "cell_type": "code",
   "execution_count": null,
   "id": "a2953bfc-50d4-4570-bd07-447630b8bbd5",
   "metadata": {},
   "outputs": [],
   "source": [
    "df.drop(['availability','availability_dt','availability_month'],axis=1,inplace=True)\n",
    "test.drop(['availability','availability_dt','availability_month'],axis=1,inplace=True)"
   ]
  },
  {
   "cell_type": "markdown",
   "id": "58cadc14-c0ec-4f90-bd13-11b721930f2f",
   "metadata": {},
   "source": [
    "## size"
   ]
  },
  {
   "cell_type": "code",
   "execution_count": null,
   "id": "86d40b96-702b-42dd-a3e2-0145494e0e51",
   "metadata": {},
   "outputs": [],
   "source": [
    "df['size'].value_counts(dropna=False)"
   ]
  },
  {
   "cell_type": "code",
   "execution_count": null,
   "id": "4ba1341e-d7f4-4bd0-8cfb-ad63342de44f",
   "metadata": {},
   "outputs": [],
   "source": [
    "test['size'].value_counts(dropna=False)"
   ]
  },
  {
   "cell_type": "markdown",
   "id": "8a8ebb74-da1b-4724-99e1-22508269cde0",
   "metadata": {},
   "source": [
    "There are a few null values we need to deal with later. Apart from 13 records with 1RK, all the houses are of type (N)BHK or (N) Bedroom which we assume is the same. So we can extract the number of bedrooms as a numeric variable, that will contain all the information we need. We will take 1 RK = 0.5."
   ]
  },
  {
   "cell_type": "code",
   "execution_count": null,
   "id": "547b44c9-8fe4-492a-88b5-d6e5d63a6866",
   "metadata": {},
   "outputs": [],
   "source": [
    "def get_num_bedrooms(size):\n",
    "    if not type(size)==str:\n",
    "        return np.nan\n",
    "    elif size=='1 RK':\n",
    "        return 0.5\n",
    "    else:\n",
    "        return int(size.split(' ')[0])"
   ]
  },
  {
   "cell_type": "code",
   "execution_count": null,
   "id": "8876dba2-318c-466a-a065-72b1efe0fd96",
   "metadata": {},
   "outputs": [],
   "source": [
    "df['num_bedrooms'] = df['size'].apply(get_num_bedrooms)\n",
    "test['num_bedrooms'] = test['size'].apply(get_num_bedrooms)"
   ]
  },
  {
   "cell_type": "markdown",
   "id": "ee24ab89-a65d-4807-81e9-186f52ac06a2",
   "metadata": {},
   "source": [
    "Now, let's look at the distribution:"
   ]
  },
  {
   "cell_type": "code",
   "execution_count": null,
   "id": "aeb81f33-00c3-4906-a830-257f2e59a873",
   "metadata": {},
   "outputs": [],
   "source": [
    "df['num_bedrooms'].value_counts(dropna=False).sort_index()"
   ]
  },
  {
   "cell_type": "markdown",
   "id": "0db1bffe-72a5-4d75-a598-3e227464c2cb",
   "metadata": {},
   "source": [
    "Now  that we have extracted all the information from this column, we can remove it"
   ]
  },
  {
   "cell_type": "code",
   "execution_count": null,
   "id": "226e3f24-8e7f-4062-b172-26a237c45188",
   "metadata": {},
   "outputs": [],
   "source": [
    "del df['size']\n",
    "del test['size']"
   ]
  },
  {
   "cell_type": "markdown",
   "id": "f9b6335a-505f-4f4d-ae5c-923f6473772e",
   "metadata": {},
   "source": [
    "## society"
   ]
  },
  {
   "cell_type": "code",
   "execution_count": null,
   "id": "193d0cb0-bde3-4c58-afc4-63c376b97fc9",
   "metadata": {},
   "outputs": [],
   "source": [
    "df['society'].nunique(),len(df)"
   ]
  },
  {
   "cell_type": "markdown",
   "id": "d0477563-bfa9-4c97-b94b-a7de1ae1ad0c",
   "metadata": {},
   "source": [
    "There are many unique values here, let's see if they can be combined."
   ]
  },
  {
   "cell_type": "code",
   "execution_count": null,
   "id": "12646231-9f89-4a52-82a2-446fdd79e80b",
   "metadata": {},
   "outputs": [],
   "source": [
    "df['society'].value_counts(normalize=True).cumsum().reset_index(drop=True).plot(kind = 'line',title ='Cumulative sum of society frequency')\n",
    "plt.xlabel('Society')\n",
    "plt.ylabel('Cumulative frequency')\n",
    "plt.show()"
   ]
  },
  {
   "attachments": {},
   "cell_type": "markdown",
   "id": "042f44bc-ca90-4894-8712-5fea4dcde2ab",
   "metadata": {},
   "source": [
    "Combining categories is not so easy\n",
    "\n",
    "Create an indicator that the flat is not a society:"
   ]
  },
  {
   "cell_type": "code",
   "execution_count": null,
   "id": "a4dd8ba4-59dc-4805-b5b3-a065c142b924",
   "metadata": {},
   "outputs": [],
   "source": [
    "df['not_society'] = df['society'].isna().astype('b')\n",
    "test['not_society'] = test['society'].isna().astype('b')"
   ]
  },
  {
   "cell_type": "markdown",
   "id": "077db25b-1d9a-4e9f-8c6b-3af0bc38f06d",
   "metadata": {},
   "source": [
    "Now, the column 'society' is no longer needed."
   ]
  },
  {
   "cell_type": "code",
   "execution_count": null,
   "id": "fb144106-abb5-4f51-a74a-4b502bd0ec6c",
   "metadata": {},
   "outputs": [],
   "source": [
    "del df['society']\n",
    "del test['society']"
   ]
  },
  {
   "cell_type": "markdown",
   "id": "8f038100-16b2-4f33-9928-8c159343ff84",
   "metadata": {},
   "source": [
    "## total_sqft"
   ]
  },
  {
   "cell_type": "code",
   "execution_count": null,
   "id": "7fb00f76-9771-444b-bd61-5d3ae6aee5a9",
   "metadata": {},
   "outputs": [],
   "source": [
    "df['total_sqft'].value_counts()"
   ]
  },
  {
   "cell_type": "code",
   "execution_count": null,
   "id": "26b52810-c148-4241-bda7-002f9815a94c",
   "metadata": {},
   "outputs": [],
   "source": [
    "test['total_sqft'].value_counts()"
   ]
  },
  {
   "cell_type": "markdown",
   "id": "2a548a75-c578-4dc6-8962-b539a4dbadd9",
   "metadata": {},
   "source": [
    "There are some records with other units like Sq. Meter, and there are those where a range is given, not a single value. Let's look at them more closely:"
   ]
  },
  {
   "cell_type": "code",
   "execution_count": null,
   "id": "ca0ca75a-c529-4e4f-ab1f-b15397e62a12",
   "metadata": {},
   "outputs": [],
   "source": [
    "def check_non_numeric(string):\n",
    "    try:\n",
    "        _ = float(string)\n",
    "        return False\n",
    "    except ValueError:\n",
    "        return True"
   ]
  },
  {
   "cell_type": "code",
   "execution_count": null,
   "id": "42b9c99c-7035-4b4f-ae35-75ac6388ab98",
   "metadata": {},
   "outputs": [],
   "source": [
    "non_numeric = pd.Series(filter(check_non_numeric,pd.concat((df['total_sqft'],test['total_sqft']))))\n",
    "non_numeric.head(30)"
   ]
  },
  {
   "attachments": {},
   "cell_type": "markdown",
   "id": "36d9577f-6af4-493d-aed5-4f0f901ca572",
   "metadata": {},
   "source": [
    "Since there is a range of lower-upper in some records, we will get two numeric columns out of it - the mean and the range. \n",
    "\n",
    "For records with exact value, mean is the value and range is zero.\n",
    "\n",
    "Let's list the records which contain measures other than sqft:"
   ]
  },
  {
   "cell_type": "code",
   "execution_count": null,
   "id": "2ea82df8-224d-429c-b7a8-1d30a0c7ba14",
   "metadata": {},
   "outputs": [],
   "source": [
    "alphabetic = non_numeric.loc[non_numeric.apply(lambda x:not bool(re.findall(r'^\\d+\\.?\\d* - \\d+\\.?\\d*$',x)))]\n",
    "alphabetic.head(30)"
   ]
  },
  {
   "cell_type": "markdown",
   "id": "bc67d144-b2b0-4fef-bd23-f84f2c918c62",
   "metadata": {},
   "source": [
    "So we have these other measures of area. Let's convert them into sqft:"
   ]
  },
  {
   "cell_type": "code",
   "execution_count": null,
   "id": "627a8197-b54b-4176-aeff-f8051fa32c1d",
   "metadata": {},
   "outputs": [],
   "source": [
    "sqft_converter = pd.Series({'Sq. Yards':9,'Sq. Meter':10.7639,'Perch':272.25,'Cents':435.6,'Guntha':1089,'Grounds':2400,'Acres':43560})\n",
    "sqft_converter"
   ]
  },
  {
   "cell_type": "markdown",
   "id": "62a65918-0adc-4cf6-a04f-8f896f38058e",
   "metadata": {},
   "source": [
    "Number of records usinf these units:"
   ]
  },
  {
   "cell_type": "code",
   "execution_count": null,
   "id": "f9788534-175a-471b-9f37-5e7387e8e1ce",
   "metadata": {},
   "outputs": [],
   "source": [
    "pd.Series(sqft_converter.index,index = sqft_converter.index).apply(lambda x:alphabetic.apply(lambda y:y.endswith(x)).sum())"
   ]
  },
  {
   "cell_type": "markdown",
   "id": "b3e4b544-bf3a-4443-9912-f2620ebdc529",
   "metadata": {},
   "source": [
    "Now, write a function that will handle all cases:"
   ]
  },
  {
   "cell_type": "code",
   "execution_count": null,
   "id": "8f7f9467-74bc-4dfa-a93b-203a775516c9",
   "metadata": {},
   "outputs": [],
   "source": [
    "def clean_sqft(string):\n",
    "    mul_factor = 1\n",
    "    \n",
    "    if any(chk := [string.endswith(x) for x in sqft_converter.index]): #When the data has been given in other units\n",
    "        mul_factor = sqft_converter[chk].squeeze()\n",
    "        string = string.replace(sqft_converter.index[chk.index(True)],'')\n",
    "    \n",
    "    #Check if it's a single number, if not split by ' - '\n",
    "    try:\n",
    "        ans = float(string)\n",
    "        return mul_factor*ans,0\n",
    "    except ValueError:\n",
    "        low,high = string.split(' - ')\n",
    "        low,high = mul_factor*float(low), mul_factor*float(high)\n",
    "        return (low+high)/2,high - low"
   ]
  },
  {
   "cell_type": "code",
   "execution_count": null,
   "id": "74fcd674-d932-4e25-bc09-53864b58359b",
   "metadata": {},
   "outputs": [],
   "source": [
    "df[['sqft_avg','sqft_range']] = np.array(df['total_sqft'].apply(clean_sqft).tolist())\n",
    "test[['sqft_avg','sqft_range']] = np.array(test['total_sqft'].apply(clean_sqft).tolist())"
   ]
  },
  {
   "cell_type": "markdown",
   "id": "2acf428c-a396-49a5-a631-199d06ced7eb",
   "metadata": {},
   "source": [
    "Let's also extract the unit in which the area was given as a categorical variable, this may contain some useful information:"
   ]
  },
  {
   "cell_type": "code",
   "execution_count": null,
   "id": "43178b64-f007-457c-80b5-465f52eefd07",
   "metadata": {},
   "outputs": [],
   "source": [
    "area_units = pd.CategoricalDtype(['Sq. Feet','Sq. Yards','Sq. Meter','Perch','Cents','Guntha','Grounds','Acres'])"
   ]
  },
  {
   "cell_type": "markdown",
   "id": "5ff33dd9-480d-4b0b-9e80-da8bd24a0210",
   "metadata": {},
   "source": [
    "Write a function that will extract units from the 'total_sqft' column:"
   ]
  },
  {
   "cell_type": "code",
   "execution_count": null,
   "id": "50fe59d7-1016-4f0f-8ccb-1338198a9154",
   "metadata": {},
   "outputs": [],
   "source": [
    "def get_units(string):\n",
    "    check_unit = [x in string for x in sqft_converter.index]\n",
    "    if any(check_unit):\n",
    "        return sqft_converter.index[check_unit.index(True)]\n",
    "    else:\n",
    "        return 'Sq. Feet'"
   ]
  },
  {
   "cell_type": "code",
   "execution_count": null,
   "id": "eea171a8-de94-4da2-b6a6-67492bf3a4a6",
   "metadata": {},
   "outputs": [],
   "source": [
    "df['area_units'] = df['total_sqft'].apply(get_units).astype(area_units)\n",
    "test['area_units'] = test['total_sqft'].apply(get_units).astype(area_units)"
   ]
  },
  {
   "cell_type": "code",
   "execution_count": null,
   "id": "2ec48d26-0cd8-4108-8938-9f894b35596e",
   "metadata": {},
   "outputs": [],
   "source": [
    "df['area_units'].value_counts(dropna=False).sort_index()"
   ]
  },
  {
   "cell_type": "code",
   "execution_count": null,
   "id": "8ea4a357-2db1-474f-90b0-4f5df8fe2d13",
   "metadata": {},
   "outputs": [],
   "source": [
    "test['area_units'].value_counts(dropna=False).sort_index()"
   ]
  },
  {
   "cell_type": "markdown",
   "id": "dbd5ceb0-569c-4363-a1a1-167c60a581cd",
   "metadata": {},
   "source": [
    "Now remove the column 'total_sqft'"
   ]
  },
  {
   "cell_type": "code",
   "execution_count": null,
   "id": "7c182c15-f45b-4d47-8fe4-452c4c318e94",
   "metadata": {},
   "outputs": [],
   "source": [
    "del df['total_sqft']\n",
    "del test['total_sqft']"
   ]
  },
  {
   "cell_type": "markdown",
   "id": "64ee574e-6872-45e9-86e7-dbfe05ba67e7",
   "metadata": {},
   "source": [
    "## bath"
   ]
  },
  {
   "cell_type": "code",
   "execution_count": null,
   "id": "2a00721b-3aca-4b9f-bdd8-ae756f094d71",
   "metadata": {},
   "outputs": [],
   "source": [
    "df['bath'].value_counts(dropna=False).sort_index()"
   ]
  },
  {
   "cell_type": "code",
   "execution_count": null,
   "id": "dc3ad4bd-b9e5-479c-9a12-17f6a574d395",
   "metadata": {},
   "outputs": [],
   "source": [
    "test['bath'].value_counts(dropna=False).sort_index()"
   ]
  },
  {
   "cell_type": "markdown",
   "id": "eb11ba5f-b518-4e2f-8248-dc22f5ab492d",
   "metadata": {},
   "source": [
    "These are the number of bathrooms with null values specifying lack of data."
   ]
  },
  {
   "cell_type": "markdown",
   "id": "c3d72831-37f5-4dc5-aadb-385beb59deae",
   "metadata": {},
   "source": [
    "## balcony"
   ]
  },
  {
   "cell_type": "code",
   "execution_count": null,
   "id": "e0bedc46-0e7d-4a58-9324-644484d47c7a",
   "metadata": {},
   "outputs": [],
   "source": [
    "df['balcony'].value_counts(dropna=False).sort_index()"
   ]
  },
  {
   "cell_type": "code",
   "execution_count": null,
   "id": "8705d5c1-2d81-4490-85a8-bd944474d599",
   "metadata": {},
   "outputs": [],
   "source": [
    "test['balcony'].value_counts(dropna=False).sort_index()"
   ]
  },
  {
   "cell_type": "markdown",
   "id": "77b2800d-c6db-49a5-9e80-378a38c495d0",
   "metadata": {},
   "source": [
    "Here null values may specify lack of data - zero has it's own category."
   ]
  },
  {
   "cell_type": "markdown",
   "id": "deef1345-d3dd-4a09-90d6-4cb55d929522",
   "metadata": {},
   "source": [
    "### Checkpoint4 Save"
   ]
  },
  {
   "cell_type": "code",
   "execution_count": null,
   "id": "d45e8063-9cb1-4ee8-aa8c-c8e43e0161a6",
   "metadata": {},
   "outputs": [],
   "source": [
    "pickle.dump({'df':df,'avg_rent':avg_rent,'dist_from_city_centre':dist_from_city_centre,'test':test},open('Checkpoint4.pickle','wb'))"
   ]
  },
  {
   "cell_type": "markdown",
   "id": "e7e2c466-575f-4e7d-b737-e05309f57718",
   "metadata": {},
   "source": [
    "### Checkpoint4 Load"
   ]
  },
  {
   "cell_type": "code",
   "execution_count": null,
   "id": "a47dbd24-5788-435b-93b6-3bda0397d6ad",
   "metadata": {},
   "outputs": [],
   "source": [
    "tmp = pickle.load(open('Checkpoint4.pickle','rb'))\n",
    "df = tmp['df']\n",
    "avg_rent = tmp['avg_rent']\n",
    "dist_from_city_centre = tmp['dist_from_city_centre']\n",
    "test = tmp['test']\n",
    "del tmp"
   ]
  },
  {
   "cell_type": "markdown",
   "id": "a28646a2-99b6-48d8-ad12-2e12b5504a09",
   "metadata": {},
   "source": [
    "# Handle null values"
   ]
  },
  {
   "cell_type": "code",
   "execution_count": null,
   "id": "38f5f695-891c-4103-b80d-a4ba6f22a90a",
   "metadata": {},
   "outputs": [],
   "source": [
    "null_df = pd.DataFrame({'train # nulls':df.isna().sum(),'train % nulls':(100*df.isna().sum()/len(df)).round(2),'test # nulls':test.isna().sum(),\n",
    "                       'test % nulls':(100*test.isna().sum()/len(test)).round(2)})\n",
    "null_df"
   ]
  },
  {
   "cell_type": "markdown",
   "id": "1a2f0702-8184-4499-8257-e2bde39c1a73",
   "metadata": {},
   "source": [
    "Note that lat, lng come from location which has one null in the training data.  Since it has no nulls in the test data, we can simply remove this record."
   ]
  },
  {
   "cell_type": "code",
   "execution_count": null,
   "id": "4c86c312-683a-4fb1-a4e4-ec3978970a49",
   "metadata": {},
   "outputs": [],
   "source": [
    "df.dropna(subset = ['lat','lng'],inplace=True)"
   ]
  },
  {
   "cell_type": "markdown",
   "id": "65b15d03-89fe-40ca-a03a-48edef28f667",
   "metadata": {},
   "source": [
    "For distance from city_centre, first find the location of the city center. Suppose the location is center_point, we need to minimize:"
   ]
  },
  {
   "cell_type": "code",
   "execution_count": null,
   "id": "c744200f-f2f1-422a-8239-d6718bbfe354",
   "metadata": {},
   "outputs": [],
   "source": [
    "def fun(centre_point):\n",
    "    centre_lat,centre_lng = centre_point\n",
    "    d = simplified_haversine(centre_lat,centre_lng,dist_from_city_centre['lat'],dist_from_city_centre['lng'])\n",
    "    return ((d - dist_from_city_centre['dist_from_city'])**2).mean()"
   ]
  },
  {
   "cell_type": "code",
   "execution_count": null,
   "id": "73acfcb1-f774-402c-86a0-ea9fe4f7107c",
   "metadata": {},
   "outputs": [],
   "source": [
    "ans = minimize(fun,x0 = dist_from_city_centre.loc[dist_from_city_centre['dist_from_city'].idxmin(),['lat','lng']].tolist())\n",
    "ans"
   ]
  },
  {
   "cell_type": "code",
   "execution_count": null,
   "id": "76b98c29-1a50-499f-9916-e824b679d69d",
   "metadata": {},
   "outputs": [],
   "source": [
    "centre_lat,centre_lng = ans.x"
   ]
  },
  {
   "cell_type": "markdown",
   "id": "64c769bb-5cfe-4505-9087-4a6e160a142c",
   "metadata": {},
   "source": [
    "From here we can fill in distance from city centre for the null values, we will also keep a flag indicating nulls which the model can learn from:"
   ]
  },
  {
   "cell_type": "code",
   "execution_count": null,
   "id": "a8ba85da-9e2b-4808-ad11-5630a2cf2a47",
   "metadata": {},
   "outputs": [],
   "source": [
    "df['dist_from_city_null'] = df['dist_from_city'].isna().astype('b')\n",
    "test['dist_from_city_null'] = test['dist_from_city'].isna().astype('b')"
   ]
  },
  {
   "cell_type": "code",
   "execution_count": null,
   "id": "293f090a-e679-4689-9a38-dace08ea1357",
   "metadata": {},
   "outputs": [],
   "source": [
    "df.loc[df['dist_from_city'].isna(),'dist_from_city'] = df.loc[df['dist_from_city'].isna()].apply(lambda x:simplified_haversine(\n",
    "    centre_lat,centre_lng,x['lat'],x['lng']),axis=1)\n",
    "test.loc[test['dist_from_city'].isna(),'dist_from_city'] = test.loc[test['dist_from_city'].isna()].apply(lambda x:simplified_haversine(\n",
    "    centre_lat,centre_lng,x['lat'],x['lng']),axis=1)"
   ]
  },
  {
   "cell_type": "markdown",
   "id": "4d856e58-dce5-4822-ad68-dc8f23cb2a70",
   "metadata": {},
   "source": [
    "Now, we can fill in avg_2bhk_rent using distance from city centre, since the two are related:"
   ]
  },
  {
   "cell_type": "code",
   "execution_count": null,
   "id": "04300f93-b777-40fd-b711-1a128be4d726",
   "metadata": {},
   "outputs": [],
   "source": [
    "sns.regplot(df,x = 'dist_from_city',y = 'avg_2bhk_rent')\n",
    "plt.title('Avg 2BHK rent vs distance from city centre');"
   ]
  },
  {
   "cell_type": "markdown",
   "id": "5620110a-bd3c-4ad7-8d6d-bb0bda409f9d",
   "metadata": {},
   "source": [
    "Build a linear regression model of avg_2bhk_rent vs dist_from_city"
   ]
  },
  {
   "cell_type": "code",
   "execution_count": null,
   "id": "ea20744f-99f1-49f4-b2e8-62a0a617ece3",
   "metadata": {},
   "outputs": [],
   "source": [
    "tmp = pd.concat((df[['lat','lng','dist_from_city','avg_2bhk_rent']],test[['lat','lng','dist_from_city','avg_2bhk_rent']])).dropna(ignore_index=True)\n",
    "linear_model = LinearRegression().fit(X = tmp[['dist_from_city']],y = tmp['avg_2bhk_rent'])\n",
    "mean_absolute_percentage_error(tmp['avg_2bhk_rent'],linear_model.predict(tmp[['dist_from_city']]))"
   ]
  },
  {
   "cell_type": "markdown",
   "id": "9547368b-dd18-4d4f-bc24-9ff39c67939a",
   "metadata": {},
   "source": [
    "Build a RNR (RadiusNeighborsRegressor) for this same data"
   ]
  },
  {
   "cell_type": "code",
   "execution_count": null,
   "id": "3fb21ae4-f811-418d-8e02-2c368c08c6f7",
   "metadata": {},
   "outputs": [],
   "source": [
    "rnr_model = RadiusNeighborsRegressor(radius=2.0, metric = lambda arr1,arr2: simplified_haversine(arr1[0],arr1[1],arr2[0],arr2[1]))\n",
    "_ = rnr_model.fit(tmp[['lat','lng']],tmp['avg_2bhk_rent'])\n",
    "mean_absolute_percentage_error(tmp['avg_2bhk_rent'],rnr_model.predict(tmp[['lat','lng']]))"
   ]
  },
  {
   "cell_type": "markdown",
   "id": "51852b07-7d29-474c-8ea0-e10131cfa6a4",
   "metadata": {},
   "source": [
    "Make a prediction from both and average them to get the 2bhk rent for the unknown locations. But also keep a column for these nulls:"
   ]
  },
  {
   "cell_type": "code",
   "execution_count": null,
   "id": "7acb5526-2293-4a72-bfdf-23818f80ae8b",
   "metadata": {},
   "outputs": [],
   "source": [
    "df['avg_2bhk_rent_null'] = df['avg_2bhk_rent'].isna().astype('b')\n",
    "test['avg_2bhk_rent_null'] = test['avg_2bhk_rent'].isna().astype('b')"
   ]
  },
  {
   "cell_type": "code",
   "execution_count": null,
   "id": "2a03ff57-175d-4719-884d-22e7b2663a75",
   "metadata": {},
   "outputs": [],
   "source": [
    "linear_prediction = linear_model.predict(df.loc[df['avg_2bhk_rent'].isna(),['dist_from_city']])\n",
    "rnr_prediction = rnr_model.predict(df.loc[df['avg_2bhk_rent'].isna(),['lat','lng']])\n",
    "df.loc[df['avg_2bhk_rent'].isna(),'avg_2bhk_rent'] = np.nanmean(np.stack((linear_prediction, rnr_prediction)), axis=0)"
   ]
  },
  {
   "cell_type": "code",
   "execution_count": null,
   "id": "31c6e9b1-7a29-4f30-ae17-64d04188807f",
   "metadata": {},
   "outputs": [],
   "source": [
    "linear_prediction = linear_model.predict(test.loc[test['avg_2bhk_rent'].isna(),['dist_from_city']])\n",
    "rnr_prediction = rnr_model.predict(test.loc[test['avg_2bhk_rent'].isna(),['lat','lng']])\n",
    "test.loc[test['avg_2bhk_rent'].isna(),'avg_2bhk_rent'] = np.nanmean(np.stack((linear_prediction, rnr_prediction)), axis=0)"
   ]
  },
  {
   "cell_type": "markdown",
   "id": "f26ea5bc-848d-40c2-8bd9-0482d44066f7",
   "metadata": {},
   "source": [
    "Now, let's look at the nulls again:"
   ]
  },
  {
   "cell_type": "code",
   "execution_count": null,
   "id": "549fb622-87b7-4c34-9599-e12b48ef6dcb",
   "metadata": {},
   "outputs": [],
   "source": [
    "null_df = pd.DataFrame({'train # nulls':df.isna().sum(),'train % nulls':(100*df.isna().sum()/len(df)).round(2),'test # nulls':test.isna().sum(),\n",
    "                       'test % nulls':(100*test.isna().sum()/len(test)).round(2)})\n",
    "null_df"
   ]
  },
  {
   "cell_type": "markdown",
   "id": "934994aa-7593-4d2c-aefb-6af7e74b5b0c",
   "metadata": {},
   "source": [
    "For availability_doy, the nulls have a specific meaning - they represent when the house is available immediately. We can fill the nulls with some value less than the minimum for availability_doy:"
   ]
  },
  {
   "cell_type": "code",
   "execution_count": null,
   "id": "64e857b1-f891-4d44-8e5e-33dbd88f90e6",
   "metadata": {},
   "outputs": [],
   "source": [
    "df['availability_doy'] = df['availability_doy'].fillna(-1)\n",
    "test['availability_doy'] = test['availability_doy'].fillna(-1)"
   ]
  },
  {
   "cell_type": "markdown",
   "id": "89fbae38-7d8f-466b-8fd5-281ccdf4631d",
   "metadata": {},
   "source": [
    "Now, for 'num_bedrooms','bath' and 'balcony' - let's predict them in terms of other variables:"
   ]
  },
  {
   "cell_type": "code",
   "execution_count": null,
   "id": "89d9b1f9-32c6-4e6f-a3bf-2d77ead12faa",
   "metadata": {},
   "outputs": [],
   "source": [
    "def symmetric_mean_absolute_percentage_error(y_true,y_pred):\n",
    "    return np.mean((y_true - y_pred).abs()/((y_true + y_pred)/2))"
   ]
  },
  {
   "cell_type": "code",
   "execution_count": null,
   "id": "299b0495-ce41-44b7-b240-6dc7a9024119",
   "metadata": {},
   "outputs": [],
   "source": [
    "all_cols = ['area_type','sqft_avg','balcony','bath','num_bedrooms','avg_2bhk_rent','avg_2bhk_rent_null','not_society']\n",
    "for col in ['balcony','bath','num_bedrooms']:\n",
    "    predictors = all_cols.copy()\n",
    "    predictors.remove(col)\n",
    "    \n",
    "    X = pd.get_dummies(df.dropna(subset = all_cols)[predictors],drop_first=True,dtype = 'b')\n",
    "    y = df.dropna(subset = all_cols)[col]\n",
    "    X_test = pd.get_dummies(test.dropna(subset = all_cols)[predictors],drop_first=True,dtype = 'b')\n",
    "    y_test = test.dropna(subset = all_cols)[col]\n",
    "    \n",
    "    model = RandomForestRegressor().fit(X,y)\n",
    "    y_pred = model.predict(X_test)\n",
    "    print(round(100*symmetric_mean_absolute_percentage_error(y_test,y_pred),2))"
   ]
  },
  {
   "cell_type": "markdown",
   "id": "7a6ae17e-523d-4ee9-bfef-65e5ecc7eaf1",
   "metadata": {},
   "source": [
    "So a random forest regressor gives a SMAPE of 41% for 'balcony' - better than nothing, and for the others it's even better.\n",
    "\n",
    "Let's first solve for num_bedrooms, then bath and then balcony, using the results of each for the next. But first keep a null indicator for balcony:"
   ]
  },
  {
   "cell_type": "code",
   "execution_count": null,
   "id": "319aa616-8363-40d7-ac34-f048cffe249d",
   "metadata": {},
   "outputs": [],
   "source": [
    "df['balcony_null'] = df['balcony'].isna().astype('b')\n",
    "test['balcony_null'] = test['balcony'].isna().astype('b')"
   ]
  },
  {
   "cell_type": "code",
   "execution_count": null,
   "id": "46d95435-8b33-4c18-8eb9-0be8cf5c1f56",
   "metadata": {},
   "outputs": [],
   "source": [
    "slct_cols = all_cols.copy()\n",
    "slct_cols.remove('num_bedrooms')\n",
    "slct_cols.remove('bath')\n",
    "slct_cols[slct_cols.index('balcony')] = 'balcony_null'\n",
    "\n",
    "X = pd.concat((pd.get_dummies(df.dropna(subset = ['num_bedrooms'])[slct_cols],drop_first=True,dtype = 'b'),\n",
    "               pd.get_dummies(test.dropna(subset = ['num_bedrooms'])[slct_cols],drop_first=True,dtype = 'b')))\n",
    "y = pd.concat((df['num_bedrooms'].dropna(),test['num_bedrooms'].dropna()))\n",
    "model = RandomForestRegressor().fit(X,y)\n",
    "df.loc[df['num_bedrooms'].isna(),'num_bedrooms'] = model.predict(pd.get_dummies(df.loc[df['num_bedrooms'].isna(),slct_cols],drop_first=True,dtype = 'b'))\n",
    "test.loc[test['num_bedrooms'].isna(),'num_bedrooms'] = model.predict(pd.get_dummies(test.loc[test['num_bedrooms'].isna(),slct_cols],drop_first=True,dtype = 'b'))"
   ]
  },
  {
   "cell_type": "code",
   "execution_count": null,
   "id": "b50028c9-e4b6-47ce-abb4-06aa3d305f40",
   "metadata": {},
   "outputs": [],
   "source": [
    "slct_cols.append('num_bedrooms')\n",
    "\n",
    "X = pd.concat((pd.get_dummies(df.dropna(subset = ['bath'])[slct_cols],drop_first=True,dtype = 'b'),\n",
    "               pd.get_dummies(test.dropna(subset = ['bath'])[slct_cols],drop_first=True,dtype = 'b')))\n",
    "y = pd.concat((df['bath'].dropna(),test['bath'].dropna()))\n",
    "model = RandomForestRegressor().fit(X,y)\n",
    "df.loc[df['bath'].isna(),'bath'] = model.predict(pd.get_dummies(df.loc[df['bath'].isna(),slct_cols],drop_first=True,dtype = 'b'))\n",
    "test.loc[test['bath'].isna(),'bath'] = model.predict(pd.get_dummies(test.loc[test['bath'].isna(),slct_cols],drop_first=True,dtype = 'b'))"
   ]
  },
  {
   "cell_type": "code",
   "execution_count": null,
   "id": "bab6a0ef-33f7-4455-9919-0a2d6d630ba6",
   "metadata": {},
   "outputs": [],
   "source": [
    "slct_cols.append('bath')\n",
    "\n",
    "X = pd.concat((pd.get_dummies(df.dropna(subset = ['balcony'])[slct_cols],drop_first=True,dtype = 'b'),\n",
    "               pd.get_dummies(test.dropna(subset = ['balcony'])[slct_cols],drop_first=True,dtype = 'b')))\n",
    "y = pd.concat((df['balcony'].dropna(),test['balcony'].dropna()))\n",
    "model = RandomForestRegressor().fit(X,y)\n",
    "df.loc[df['balcony'].isna(),'balcony'] = model.predict(pd.get_dummies(df.loc[df['balcony'].isna(),slct_cols],drop_first=True,dtype = 'b'))\n",
    "test.loc[test['balcony'].isna(),'balcony'] = model.predict(pd.get_dummies(test.loc[test['balcony'].isna(),slct_cols],drop_first=True,dtype = 'b'))"
   ]
  },
  {
   "cell_type": "code",
   "execution_count": null,
   "id": "cb771c44-3c1d-4dc5-a7fc-334a368a04cc",
   "metadata": {},
   "outputs": [],
   "source": [
    "null_df = pd.DataFrame({'train # nulls':df.isna().sum(),'train % nulls':(100*df.isna().sum()/len(df)).round(2),'test # nulls':test.isna().sum(),\n",
    "                       'test % nulls':(100*test.isna().sum()/len(test)).round(2)})\n",
    "null_df"
   ]
  },
  {
   "cell_type": "markdown",
   "id": "0c52d005-fb7b-4e2b-8964-6053986f5794",
   "metadata": {},
   "source": [
    "Now, the null values are there for the 'location' column, which is the standardized location. We can simply put it as a separate category, but also have a null indicator:"
   ]
  },
  {
   "cell_type": "code",
   "execution_count": null,
   "id": "051eaab1-a49b-4100-9289-aa30955a85b8",
   "metadata": {},
   "outputs": [],
   "source": [
    "df['location_null'] = df['location'].isna().astype('b')\n",
    "test['location_null'] = test['location'].isna().astype('b')"
   ]
  },
  {
   "cell_type": "code",
   "execution_count": null,
   "id": "4c1714c6-4dab-4ef7-8c91-2cd520412449",
   "metadata": {},
   "outputs": [],
   "source": [
    "df['location'] = df['location'].fillna('NA')\n",
    "test['location'] = test['location'].fillna('NA')"
   ]
  },
  {
   "cell_type": "code",
   "execution_count": null,
   "id": "0abe9f3b-13b9-403d-b3d0-d121b719c261",
   "metadata": {},
   "outputs": [],
   "source": [
    "df.isna().any().any()"
   ]
  },
  {
   "cell_type": "code",
   "execution_count": null,
   "id": "8dab001a-5aba-4589-a6c6-c6cb1a481350",
   "metadata": {},
   "outputs": [],
   "source": [
    "test.isna().any().any()"
   ]
  },
  {
   "cell_type": "markdown",
   "id": "e84565cb-40a1-4f69-a429-1550f878dc9f",
   "metadata": {},
   "source": [
    "### Checkpoint5 Save"
   ]
  },
  {
   "cell_type": "code",
   "execution_count": null,
   "id": "9baa246a-cfed-4d3d-938f-fff254b44b09",
   "metadata": {},
   "outputs": [],
   "source": [
    "pickle.dump({'df':df,'test':test},open('Checkpoint5.pickle','wb'))"
   ]
  },
  {
   "cell_type": "markdown",
   "id": "4a024609-d949-46ae-84d4-3e7cb8452474",
   "metadata": {},
   "source": [
    "### Checkpoint5 Load"
   ]
  },
  {
   "cell_type": "code",
   "execution_count": null,
   "id": "874c063f-3f62-4fde-afaf-49ff0efa549b",
   "metadata": {},
   "outputs": [],
   "source": [
    "tmp = pickle.load(open('Checkpoint5.pickle','rb'))\n",
    "df = tmp['df']\n",
    "test = tmp['test']\n",
    "del tmp"
   ]
  },
  {
   "cell_type": "markdown",
   "id": "92725d96-c3d4-4e2c-9e88-783c4846b087",
   "metadata": {},
   "source": [
    "# XGBoost model\n",
    "\n",
    "When we do train_test_split, we want to stratify on 'location'. But there are some locations with only one record. Set them to NA:"
   ]
  },
  {
   "cell_type": "code",
   "execution_count": null,
   "id": "9d6a7205-968c-40c3-b129-b7ce59e3392e",
   "metadata": {},
   "outputs": [],
   "source": [
    "stratifier = df['location'].replace(df['location'].value_counts().pipe(lambda x:x.index[x==1]),'NA')\n",
    "train,validation = train_test_split(df,test_size=0.3,random_state=0,stratify=stratifier)"
   ]
  },
  {
   "cell_type": "markdown",
   "id": "2aac2923-399d-4a24-bfee-cc5ab8e561fd",
   "metadata": {},
   "source": [
    "Let's calculate the average price at each location, and use it for our estimates:"
   ]
  },
  {
   "cell_type": "code",
   "execution_count": null,
   "id": "bcfe8585-55a3-4c2b-aa34-e33871b52ce3",
   "metadata": {},
   "outputs": [],
   "source": [
    "location_avg_price_mapper = train.groupby('location')['price'].mean()\n",
    "train['location_avg_price'] = location_avg_price_mapper.reindex(train['location'],fill_value = location_avg_price_mapper['NA']).to_numpy()\n",
    "validation['location_avg_price'] = location_avg_price_mapper.reindex(validation['location'],fill_value = location_avg_price_mapper['NA']).to_numpy()\n",
    "test['location_avg_price'] = location_avg_price_mapper.reindex(test['location'],fill_value = location_avg_price_mapper['NA']).to_numpy()"
   ]
  },
  {
   "cell_type": "markdown",
   "id": "5964b48b-0a5e-417f-b770-76c54ac4ced0",
   "metadata": {},
   "source": [
    "Now, drop location and some other useless columns (which  we learn by trial and error) and convert area_type to dummies and we are good to go..."
   ]
  },
  {
   "cell_type": "code",
   "execution_count": null,
   "id": "ccf7500f-d4ac-40dd-98b5-32a4a8ce84dc",
   "metadata": {},
   "outputs": [],
   "source": [
    "X_train = pd.get_dummies(train.drop(['location','price','lat','lng','sqft_range','area_units','location_null'],axis=1),drop_first=True,dtype = float)\n",
    "y_train = train['price']"
   ]
  },
  {
   "cell_type": "code",
   "execution_count": null,
   "id": "65006b2c-fb7e-4bbc-993c-db1862b55961",
   "metadata": {},
   "outputs": [],
   "source": [
    "X_validation = pd.get_dummies(validation.drop(['location','price','lat','lng','sqft_range','area_units','location_null'],axis=1),drop_first=True,dtype = float)\n",
    "y_validation = validation['price']"
   ]
  },
  {
   "cell_type": "code",
   "execution_count": null,
   "id": "d9782f9f-e893-4f67-9fbf-c48fe693b154",
   "metadata": {},
   "outputs": [],
   "source": [
    "X_test = pd.get_dummies(test.drop(['location','lat','lng','sqft_range','area_units','location_null'],axis=1),drop_first=True,dtype = float)"
   ]
  },
  {
   "cell_type": "code",
   "execution_count": null,
   "id": "11b2ef94-e9ef-41c4-b460-116e7ebc5b34",
   "metadata": {},
   "outputs": [],
   "source": [
    "assert (X_train.columns==X_validation.columns).all()"
   ]
  },
  {
   "cell_type": "code",
   "execution_count": null,
   "id": "ca8e1467-83e5-43c9-b90b-465f1849c9c9",
   "metadata": {},
   "outputs": [],
   "source": [
    "xgb_model = XGBRegressor(objective='reg:squarederror',eval_metric='rmse',early_stopping_rounds=10,random_state=0)\n",
    "_ = xgb_model.fit(X_train, y_train, eval_set=[(X_validation, y_validation)],verbose=True)"
   ]
  },
  {
   "cell_type": "code",
   "execution_count": null,
   "id": "7a75a97c-7258-442a-8077-03b1e532f429",
   "metadata": {},
   "outputs": [],
   "source": [
    "y_pred_validation_xgb = xgb_model.predict(X_validation)\n",
    "mean_squared_error(y_validation,y_pred_validation_xgb)**0.5"
   ]
  },
  {
   "cell_type": "markdown",
   "id": "cbb81b9b-d2de-48f0-9117-5dd7e014d269",
   "metadata": {},
   "source": [
    "So the model does best with around 30 iterations. Let's use it now for the full data"
   ]
  },
  {
   "cell_type": "code",
   "execution_count": null,
   "id": "d53fa3ce-027e-4832-b0a9-93399247b600",
   "metadata": {},
   "outputs": [],
   "source": [
    "X = pd.concat((X_train,X_validation)).sort_index()\n",
    "y = pd.concat((y_train,y_validation)).sort_index()"
   ]
  },
  {
   "cell_type": "markdown",
   "id": "e7c33c44-b9c4-4240-a0af-73ce4732d513",
   "metadata": {},
   "source": [
    "Now, do location_avg_price mapping for the whole data, and update it and test data:"
   ]
  },
  {
   "cell_type": "code",
   "execution_count": null,
   "id": "c22ef4ef-2d7f-42cf-bdfc-da495c41a78c",
   "metadata": {},
   "outputs": [],
   "source": [
    "final_location_avg_price_mapper = df.groupby('location')['price'].mean()\n",
    "X['location_avg_price'] = final_location_avg_price_mapper.reindex(df['location'],fill_value = final_location_avg_price_mapper['NA']).to_numpy()\n",
    "X_test['location_avg_price'] = final_location_avg_price_mapper.reindex(test['location'],fill_value = final_location_avg_price_mapper['NA']).to_numpy()"
   ]
  },
  {
   "cell_type": "code",
   "execution_count": null,
   "id": "4b025cf6-2feb-4bcc-9de2-01d36487d23a",
   "metadata": {},
   "outputs": [],
   "source": [
    "assert (X.columns==X_test.columns).all()"
   ]
  },
  {
   "cell_type": "code",
   "execution_count": null,
   "id": "0e4d35a7-af67-41d8-ae96-c82b0fa366ee",
   "metadata": {},
   "outputs": [],
   "source": [
    "final_xgb_model = XGBRegressor(objective='reg:squarederror',eval_metric='rmse',n_estimators=xgb_model.best_iteration)\n",
    "_ = final_xgb_model.fit(X,y)"
   ]
  },
  {
   "cell_type": "markdown",
   "id": "6be1a70b-2443-426c-9d46-7f2c3a7bfda9",
   "metadata": {},
   "source": [
    "Now, predict for the test data"
   ]
  },
  {
   "cell_type": "code",
   "execution_count": null,
   "id": "6f27f778-bd5c-40fb-80c9-f83477892714",
   "metadata": {},
   "outputs": [],
   "source": [
    "ans = pd.Series(final_xgb_model.predict(X_test).round(2),index = pd.RangeIndex(len(X_test),name = 'ID'),name = 'price')\n",
    "ans.to_csv('submission_24.csv')"
   ]
  },
  {
   "cell_type": "markdown",
   "id": "9e464ee4-acae-4341-a6f7-0093e22ef96f",
   "metadata": {},
   "source": [
    "# Random Forest Model"
   ]
  },
  {
   "cell_type": "code",
   "execution_count": null,
   "id": "6edf0b0b-8edf-4710-9261-d6bd28c7e5bc",
   "metadata": {},
   "outputs": [],
   "source": [
    "rf_model = RandomForestRegressor(random_state=0)\n",
    "_ = rf_model.fit(X_train,y_train)"
   ]
  },
  {
   "cell_type": "code",
   "execution_count": null,
   "id": "e58ac2ef-8df2-49fb-a503-2d85804c3b90",
   "metadata": {},
   "outputs": [],
   "source": [
    "y_pred_validation_rf = rf_model.predict(X_validation)\n",
    "mean_squared_error(y_validation,y_pred_validation_rf)**0.5"
   ]
  },
  {
   "cell_type": "code",
   "execution_count": null,
   "id": "f5a847f1-6119-4e85-9426-9b03df0a4fec",
   "metadata": {},
   "outputs": [],
   "source": [
    "final_rf_model = rf_model.fit(X,y)"
   ]
  },
  {
   "cell_type": "code",
   "execution_count": null,
   "id": "56683162-7c21-4966-ac67-bebc943582ca",
   "metadata": {},
   "outputs": [],
   "source": [
    "ans = pd.Series(final_rf_model.predict(X_test).round(2),index = pd.RangeIndex(len(X_test),name = 'ID'),name = 'price')\n",
    "ans.to_csv('submission_25.csv')"
   ]
  },
  {
   "cell_type": "markdown",
   "id": "e71507aa-a059-4d67-9eea-474d21e0afdb",
   "metadata": {},
   "source": [
    "# Gradient Boosting Model"
   ]
  },
  {
   "cell_type": "code",
   "execution_count": null,
   "id": "687247c5-ca27-4235-904e-6ae2b7a061bd",
   "metadata": {},
   "outputs": [],
   "source": [
    "gb_model = GradientBoostingRegressor(random_state=0)\n",
    "_ = gb_model.fit(X_train,y_train)"
   ]
  },
  {
   "cell_type": "code",
   "execution_count": null,
   "id": "3b9378a5-9169-4686-8149-968febb06d07",
   "metadata": {},
   "outputs": [],
   "source": [
    "y_pred_validation_gb = gb_model.predict(X_validation)\n",
    "mean_squared_error(y_validation,y_pred_validation_gb)**0.5"
   ]
  },
  {
   "cell_type": "code",
   "execution_count": null,
   "id": "e8509226-99ed-456b-96b4-ee1bf28766a1",
   "metadata": {},
   "outputs": [],
   "source": [
    "final_gb_model = gb_model.fit(X,y)"
   ]
  },
  {
   "cell_type": "code",
   "execution_count": null,
   "id": "58a3f9e2-d867-4ad6-a1a9-403d45a834c3",
   "metadata": {},
   "outputs": [],
   "source": [
    "ans = pd.Series(final_gb_model.predict(X_test).round(2),index = pd.RangeIndex(len(X_test),name = 'ID'),name = 'price')\n",
    "ans.to_csv('submission_26.csv')"
   ]
  },
  {
   "cell_type": "markdown",
   "id": "75a94999-f05d-46cc-8679-8604737adfa3",
   "metadata": {},
   "source": [
    "### Checkpoint6 Save"
   ]
  },
  {
   "cell_type": "code",
   "execution_count": null,
   "id": "d9c080ec-dfde-4b33-9a9d-1fea6cbb9d40",
   "metadata": {},
   "outputs": [],
   "source": [
    "tmp = {'X':X,'y':y,'X_train':X_train,'y_train':y_train,'X_validation':X_validation,'y_validation':y_validation,'X_test':X_test,\n",
    "      'y_pred_validation_xgb':y_pred_validation_xgb,'y_pred_validation_rf':y_pred_validation_rf,'y_pred_validation_gb':y_pred_validation_gb}\n",
    "pickle.dump(tmp,open('Checkpoint6.pickle','wb'))"
   ]
  },
  {
   "cell_type": "markdown",
   "id": "4391b11d-973f-45b8-8d0b-8db5a953586b",
   "metadata": {},
   "source": [
    "### Checkpoint6 Load"
   ]
  },
  {
   "cell_type": "code",
   "execution_count": null,
   "id": "90b47b3c-eb61-4a3d-b5a0-c0a7b542fa04",
   "metadata": {},
   "outputs": [],
   "source": [
    "tmp = pickle.load(open('Checkpoint6.pickle','rb'))\n",
    "X = tmp['X']\n",
    "y = tmp['y']\n",
    "X_train = tmp['X_train']\n",
    "y_train = tmp['y_train']\n",
    "X_validation = tmp['X_validation']\n",
    "y_validation = tmp['y_validation']\n",
    "X_test = tmp['X_test']\n",
    "y_pred_validation_xgb = tmp['y_pred_validation_xgb']\n",
    "y_pred_validation_rf = tmp['y_pred_validation_rf']\n",
    "y_pred_validation_gb = tmp['y_pred_validation_gb']\n",
    "del tmp"
   ]
  },
  {
   "cell_type": "markdown",
   "id": "07f1a6c8-667e-4752-b930-737a661ea777",
   "metadata": {},
   "source": [
    "# Data Transformations"
   ]
  },
  {
   "cell_type": "code",
   "execution_count": null,
   "id": "8771df7a-abc8-4b24-82d8-9adb9fffb04d",
   "metadata": {},
   "outputs": [],
   "source": [
    "X_train.describe()"
   ]
  },
  {
   "cell_type": "code",
   "execution_count": null,
   "id": "a049ce65-b78b-43cc-87d8-cddcab2c865f",
   "metadata": {},
   "outputs": [],
   "source": [
    "non_flag_columns = ['bath','balcony','avg_2bhk_rent','dist_from_city','availability_doy','num_bedrooms','sqft_avg','location_avg_price']"
   ]
  },
  {
   "cell_type": "markdown",
   "id": "a76e2618-6821-4bf7-a8e3-b096b4d2190a",
   "metadata": {},
   "source": [
    "## avg_2bhk_rent"
   ]
  },
  {
   "cell_type": "code",
   "execution_count": null,
   "id": "67944215-1e17-45ef-9abc-4ba663637713",
   "metadata": {},
   "outputs": [],
   "source": [
    "X_train['avg_2bhk_rent'].plot.hist(bins=20,title = 'avg_2bhk_rent');"
   ]
  },
  {
   "cell_type": "markdown",
   "id": "066a8806-252e-4e49-a936-c55e9bff145c",
   "metadata": {},
   "source": [
    "Let's normalize this:"
   ]
  },
  {
   "cell_type": "code",
   "execution_count": null,
   "id": "258e3192-3fd6-474d-9be7-9dd280889db5",
   "metadata": {},
   "outputs": [],
   "source": [
    "mean,std = X_train['avg_2bhk_rent'].mean(),X_train['avg_2bhk_rent'].std()\n",
    "X_train['avg_2bhk_rent'] = (X_train['avg_2bhk_rent'] - mean)/std\n",
    "X_validation['avg_2bhk_rent'] = (X_validation['avg_2bhk_rent'] - mean)/std"
   ]
  },
  {
   "cell_type": "code",
   "execution_count": null,
   "id": "705d3f57-e3e3-487a-8ce4-e249d1972293",
   "metadata": {},
   "outputs": [],
   "source": [
    "X_train['avg_2bhk_rent'].plot.hist(bins=20,title = 'avg_2bhk_rent');"
   ]
  },
  {
   "cell_type": "markdown",
   "id": "91d4c333-0ed0-4b53-8b20-e9adedcd3677",
   "metadata": {},
   "source": [
    "Now apply to the whole:"
   ]
  },
  {
   "cell_type": "code",
   "execution_count": null,
   "id": "e358183a-8970-4509-8188-006dc41bc6c1",
   "metadata": {},
   "outputs": [],
   "source": [
    "mean,std = X['avg_2bhk_rent'].mean(),X['avg_2bhk_rent'].std()\n",
    "X['avg_2bhk_rent'] = (X['avg_2bhk_rent'] - mean)/std\n",
    "X_test['avg_2bhk_rent'] = (X_test['avg_2bhk_rent'] - mean)/std"
   ]
  },
  {
   "cell_type": "markdown",
   "id": "dad2d3d9-6550-4898-891e-05029aed26de",
   "metadata": {},
   "source": [
    "Now that this is in the standard normal distributon, we can clip the outliers to 3$\\sigma$:"
   ]
  },
  {
   "cell_type": "code",
   "execution_count": null,
   "id": "754be65a-6487-41aa-9e6d-665fa951aafa",
   "metadata": {},
   "outputs": [],
   "source": [
    "X_train['avg_2bhk_rent'] = np.clip(X_train['avg_2bhk_rent'],a_min = -3, a_max = 3)\n",
    "X_validation['avg_2bhk_rent'] = np.clip(X_validation['avg_2bhk_rent'],a_min = -3, a_max = 3)\n",
    "X['avg_2bhk_rent'] = np.clip(X['avg_2bhk_rent'],a_min = -3, a_max = 3)\n",
    "X_test['avg_2bhk_rent'] = np.clip(X_test['avg_2bhk_rent'],a_min = -3, a_max = 3)"
   ]
  },
  {
   "cell_type": "code",
   "execution_count": null,
   "id": "e7d46004-0510-4089-8bea-c964f60d0de6",
   "metadata": {},
   "outputs": [],
   "source": [
    "X_train['avg_2bhk_rent'].plot.hist(bins=20,title = 'avg_2bhk_rent');"
   ]
  },
  {
   "cell_type": "markdown",
   "id": "fd9961eb-aaef-4f1e-8993-f46d8fe65d20",
   "metadata": {},
   "source": [
    "## dist_from_city"
   ]
  },
  {
   "cell_type": "code",
   "execution_count": null,
   "id": "9db65202-3fdd-4827-8fec-5525c1050984",
   "metadata": {},
   "outputs": [],
   "source": [
    "X_train['dist_from_city'].plot.hist(bins=20, title = 'dist_from_city');"
   ]
  },
  {
   "cell_type": "markdown",
   "id": "33567558-faee-472e-9657-6c00061ae67f",
   "metadata": {},
   "source": [
    "There is a slight positive skew. Let's take square root and see:"
   ]
  },
  {
   "cell_type": "code",
   "execution_count": null,
   "id": "14ae0de9-b673-4e69-8384-d4d6839ce103",
   "metadata": {},
   "outputs": [],
   "source": [
    "X_train['dist_from_city'].apply('sqrt').plot.hist(bins=20, title = 'dist_from_city');"
   ]
  },
  {
   "cell_type": "markdown",
   "id": "48d36b11-80d6-4b46-bf31-aa47e0d26370",
   "metadata": {},
   "source": [
    "The skew reduces. Now apply square root transformation:"
   ]
  },
  {
   "cell_type": "code",
   "execution_count": null,
   "id": "07bc578e-349a-4c02-9e2a-91cdbe3c2c46",
   "metadata": {},
   "outputs": [],
   "source": [
    "X_train['dist_from_city'] = X_train['dist_from_city'].apply('sqrt')\n",
    "X_validation['dist_from_city'] = X_validation['dist_from_city'].apply('sqrt')\n",
    "X['dist_from_city'] = X['dist_from_city'].apply('sqrt')\n",
    "X_test['dist_from_city'] = X_test['dist_from_city'].apply('sqrt')"
   ]
  },
  {
   "cell_type": "markdown",
   "id": "8f282182-8d4f-4bc3-851f-e5a293a9ab0f",
   "metadata": {},
   "source": [
    "Clip outliers:"
   ]
  },
  {
   "cell_type": "code",
   "execution_count": null,
   "id": "0e049b4d-07f7-4e14-9f33-0c5cfc5b3bf3",
   "metadata": {},
   "outputs": [],
   "source": [
    "low,high = X_train['dist_from_city'].mean() - 3*X_train['dist_from_city'].std(),X_train['dist_from_city'].mean() + 3*X_train['dist_from_city'].std()\n",
    "X_train['dist_from_city'] = np.clip(X_train['dist_from_city'],a_min = low,a_max = high)\n",
    "X_validation['dist_from_city'] = np.clip(X_validation['dist_from_city'],a_min = low,a_max = high)"
   ]
  },
  {
   "cell_type": "code",
   "execution_count": null,
   "id": "4bf83daf-5b46-41b1-ab93-8ab1fb1517ca",
   "metadata": {},
   "outputs": [],
   "source": [
    "X_train['dist_from_city'].plot.hist(bins=20, title = 'dist_from_city');"
   ]
  },
  {
   "cell_type": "code",
   "execution_count": null,
   "id": "1973be27-3375-470c-859a-5d34004a3a5e",
   "metadata": {},
   "outputs": [],
   "source": [
    "low,high = X['dist_from_city'].mean() - 3*X['dist_from_city'].std(),X['dist_from_city'].mean() + 3*X['dist_from_city'].std()\n",
    "X['dist_from_city'] = np.clip(X['dist_from_city'],a_min = low,a_max = high)\n",
    "X_test['dist_from_city'] = np.clip(X_test['dist_from_city'],a_min = low,a_max = high)"
   ]
  },
  {
   "cell_type": "markdown",
   "id": "5dde85e1-8da2-4e0c-8116-38e76b95e89b",
   "metadata": {},
   "source": [
    "## availability_doy"
   ]
  },
  {
   "cell_type": "code",
   "execution_count": null,
   "id": "c51aa009-d7e9-4f8e-85c5-99d4db61a514",
   "metadata": {},
   "outputs": [],
   "source": [
    "X_train['availability_doy'].replace(-1,np.nan).plot.hist(title = 'availability_doy');"
   ]
  },
  {
   "cell_type": "markdown",
   "id": "7cee379d-f0ee-4500-9b7f-041884144d69",
   "metadata": {},
   "source": [
    "Do [0-1] scaling"
   ]
  },
  {
   "cell_type": "code",
   "execution_count": null,
   "id": "05723086-104e-4011-a14a-2a87576abfc5",
   "metadata": {},
   "outputs": [],
   "source": [
    "X_train['availability_doy'] = (X_train['availability_doy'].replace(-1,np.nan)/365).fillna(-1)\n",
    "X_validation['availability_doy'] = (X_validation['availability_doy'].replace(-1,np.nan)/365).fillna(-1)\n",
    "X['availability_doy'] = (X['availability_doy'].replace(-1,np.nan)/365).fillna(-1)\n",
    "X_test['availability_doy'] = (X_test['availability_doy'].replace(-1,np.nan)/365).fillna(-1)"
   ]
  },
  {
   "cell_type": "code",
   "execution_count": null,
   "id": "0a950856-631b-4c78-85b1-99fadf70f9bd",
   "metadata": {},
   "outputs": [],
   "source": [
    "X_train['availability_doy'].replace(-1,np.nan).plot.hist(title = 'availability_doy');"
   ]
  },
  {
   "cell_type": "markdown",
   "id": "3be7a115-a94d-4949-813b-477c4258da27",
   "metadata": {},
   "source": [
    "## sqft_avg"
   ]
  },
  {
   "cell_type": "code",
   "execution_count": null,
   "id": "a7794b92-0a35-4933-b9eb-5f717ade4d5a",
   "metadata": {},
   "outputs": [],
   "source": [
    "X_train['sqft_avg'].plot.hist(bins = 20);"
   ]
  },
  {
   "cell_type": "markdown",
   "id": "69eef14b-4f73-40cd-8571-d373495c3b80",
   "metadata": {},
   "source": [
    "Do a log transformation:"
   ]
  },
  {
   "cell_type": "code",
   "execution_count": null,
   "id": "9db28b39-c8c4-49fb-9775-fb67970ba8bc",
   "metadata": {},
   "outputs": [],
   "source": [
    "X_train['sqft_avg'] = X_train['sqft_avg'].apply('log')\n",
    "X_validation['sqft_avg'] = X_validation['sqft_avg'].apply('log')\n",
    "X['sqft_avg'] = X['sqft_avg'].apply('log')\n",
    "X_test['sqft_avg'] = X_test['sqft_avg'].apply('log')"
   ]
  },
  {
   "cell_type": "code",
   "execution_count": null,
   "id": "eab01fe1-4847-49a6-bd26-62bd7798b701",
   "metadata": {},
   "outputs": [],
   "source": [
    "X_train['sqft_avg'].plot.hist(bins = 30);"
   ]
  },
  {
   "cell_type": "markdown",
   "id": "01651779-523b-4b0e-a8a5-ceb620b4c78f",
   "metadata": {},
   "source": [
    "This data looks much more 'gaussian'.\n",
    "\n",
    "Clip outliers"
   ]
  },
  {
   "cell_type": "code",
   "execution_count": null,
   "id": "0e0fe3a9-ff23-4bcf-bf11-07811cfbe441",
   "metadata": {},
   "outputs": [],
   "source": [
    "low,high = X['sqft_avg'].mean() - 3*X['sqft_avg'].std(),X['sqft_avg'].mean() + 3*X['sqft_avg'].std()\n",
    "X_train['sqft_avg'] = np.clip(X_train['sqft_avg'],a_min = low,a_max = high)\n",
    "X_validation['sqft_avg'] = np.clip(X_validation['sqft_avg'],a_min = low,a_max = high)"
   ]
  },
  {
   "cell_type": "code",
   "execution_count": null,
   "id": "e148a100-2dd2-469b-9ab5-6642449f2067",
   "metadata": {},
   "outputs": [],
   "source": [
    "X_train['sqft_avg'].plot.hist(bins = 20);"
   ]
  },
  {
   "cell_type": "code",
   "execution_count": null,
   "id": "728800f0-646b-43e8-8b1a-ffb15a0f03bd",
   "metadata": {},
   "outputs": [],
   "source": [
    "low,high = X['sqft_avg'].mean() - 3*X['sqft_avg'].std(),X['sqft_avg'].mean() + 3*X['sqft_avg'].std()\n",
    "X['sqft_avg'] = np.clip(X['sqft_avg'],a_min = low,a_max = high)\n",
    "X_test['sqft_avg'] = np.clip(X_test['sqft_avg'],a_min = low,a_max = high)"
   ]
  },
  {
   "cell_type": "markdown",
   "id": "f7f022fb-95ab-4e76-b789-4e3c068766a3",
   "metadata": {},
   "source": [
    "## location_price"
   ]
  },
  {
   "cell_type": "code",
   "execution_count": null,
   "id": "71de0913-bb6f-4d9e-b955-0b949bf709f9",
   "metadata": {},
   "outputs": [],
   "source": [
    "X_train['location_avg_price'].plot.hist(title = 'location_avg_price');"
   ]
  },
  {
   "cell_type": "markdown",
   "id": "cea29494-8926-4880-b6b1-aff782c8b7f0",
   "metadata": {},
   "source": [
    "Log transformation:"
   ]
  },
  {
   "cell_type": "code",
   "execution_count": null,
   "id": "27c4c78d-7c23-4653-bdb8-6b06b85a8219",
   "metadata": {},
   "outputs": [],
   "source": [
    "X_train['location_avg_price'].apply('log').plot.hist(title = 'location_avg_price');"
   ]
  },
  {
   "cell_type": "markdown",
   "id": "339418d0-9294-4699-bdd0-e88755622f24",
   "metadata": {},
   "source": [
    "Apply log transformation:"
   ]
  },
  {
   "cell_type": "code",
   "execution_count": null,
   "id": "57228381-dd67-4c7c-91ae-a6acf35fdcad",
   "metadata": {},
   "outputs": [],
   "source": [
    "X_train['location_avg_price'] = X_train['location_avg_price'].apply('log')\n",
    "X_validation['location_avg_price'] = X_validation['location_avg_price'].apply('log')\n",
    "X['location_avg_price'] = X['location_avg_price'].apply('log')\n",
    "X_test['location_avg_price'] = X_test['location_avg_price'].apply('log')"
   ]
  },
  {
   "cell_type": "markdown",
   "id": "f8b85654-385b-4c91-bbf9-a949743b9d14",
   "metadata": {},
   "source": [
    "Clip outliers"
   ]
  },
  {
   "cell_type": "code",
   "execution_count": null,
   "id": "d8ebe21f-e888-46d7-9fba-c8f6ecb7ca91",
   "metadata": {},
   "outputs": [],
   "source": [
    "low,high = X_train['location_avg_price'].mean() - 3*X_train['location_avg_price'].std(),X_train['location_avg_price'].mean() + 3*X_train['location_avg_price'].std()\n",
    "X_train['location_avg_price'] = np.clip(X_train['location_avg_price'],a_min = low,a_max = high)\n",
    "X_validation['location_avg_price'] = np.clip(X_validation['location_avg_price'],a_min = low,a_max = high)"
   ]
  },
  {
   "cell_type": "code",
   "execution_count": null,
   "id": "3891e692-9122-4d67-9a7f-d3a11c52b00c",
   "metadata": {},
   "outputs": [],
   "source": [
    "low,high = X['location_avg_price'].mean() - 3*X['location_avg_price'].std(),X['location_avg_price'].mean() + 3*X['location_avg_price'].std()\n",
    "X['location_avg_price'] = np.clip(X['location_avg_price'],a_min = low,a_max = high)\n",
    "X_test['location_avg_price'] = np.clip(X_test['location_avg_price'],a_min = low,a_max = high)"
   ]
  },
  {
   "cell_type": "markdown",
   "id": "11c98520-4d39-4402-a49c-f6660a63c1c7",
   "metadata": {},
   "source": [
    "## bath"
   ]
  },
  {
   "cell_type": "code",
   "execution_count": null,
   "id": "9ad51ade-8242-480a-8a23-d4c0ab92a3a2",
   "metadata": {},
   "outputs": [],
   "source": [
    "X_train['bath'].plot.hist(title = 'bath');"
   ]
  },
  {
   "cell_type": "markdown",
   "id": "dd64af4b-6d1d-4c97-8bc1-89d721f2db33",
   "metadata": {},
   "source": [
    "Log (1+x) transformation:"
   ]
  },
  {
   "cell_type": "code",
   "execution_count": null,
   "id": "2ef0ca7e-d6aa-41d3-9eb4-42a2f8567d8c",
   "metadata": {},
   "outputs": [],
   "source": [
    "X_train['bath'].apply('log1p').plot.hist(title = 'bath');"
   ]
  },
  {
   "cell_type": "code",
   "execution_count": null,
   "id": "abaa0ae7-b88d-483d-8941-27b56d3425a0",
   "metadata": {},
   "outputs": [],
   "source": [
    "X_train['bath'] = X_train['bath'].apply('log1p')\n",
    "X_validation['bath'] = X_validation['bath'].apply('log1p')\n",
    "X['bath'] = X['bath'].apply('log1p')\n",
    "X_test['bath'] = X_test['bath'].apply('log1p')"
   ]
  },
  {
   "cell_type": "markdown",
   "id": "c8dab1d9-f734-41ef-8c98-018e3cee589f",
   "metadata": {},
   "source": [
    "Clip outliers"
   ]
  },
  {
   "cell_type": "code",
   "execution_count": null,
   "id": "6bd351b7-2f1b-4e3b-9459-6fc199131da3",
   "metadata": {},
   "outputs": [],
   "source": [
    "low,high = X_train['bath'].mean() - 3*X_train['bath'].std(),X_train['bath'].mean() + 3*X_train['bath'].std()\n",
    "X_train['bath'] = np.clip(X_train['bath'],a_min = low,a_max = high)\n",
    "X_validation['bath'] = np.clip(X_validation['bath'],a_min = low,a_max = high)"
   ]
  },
  {
   "cell_type": "code",
   "execution_count": null,
   "id": "f228b031-3586-4353-b502-1cd6f146ea99",
   "metadata": {},
   "outputs": [],
   "source": [
    "X_train['bath'].plot.hist(title = 'bath');"
   ]
  },
  {
   "cell_type": "code",
   "execution_count": null,
   "id": "3f5449df-21ad-4686-ad94-a6152ffeccad",
   "metadata": {},
   "outputs": [],
   "source": [
    "low,high = X['bath'].mean() - 3*X['bath'].std(),X['bath'].mean() + 3*X['bath'].std()\n",
    "X['bath'] = np.clip(X['bath'],a_min = low,a_max = high)\n",
    "X_test['bath'] = np.clip(X_test['bath'],a_min = low,a_max = high)"
   ]
  },
  {
   "cell_type": "markdown",
   "id": "813c014c-d86f-4dae-bd49-0321c7ede9e7",
   "metadata": {},
   "source": [
    "## balcony"
   ]
  },
  {
   "cell_type": "code",
   "execution_count": null,
   "id": "9a51f3bd-32ae-496e-a0b3-a71377b6eaa6",
   "metadata": {},
   "outputs": [],
   "source": [
    "X_train['balcony'].plot.hist(title = 'balcony');"
   ]
  },
  {
   "cell_type": "markdown",
   "id": "7ca62274-5d5b-4d80-b5d6-b77a159ac738",
   "metadata": {},
   "source": [
    "Keep as-is."
   ]
  },
  {
   "cell_type": "markdown",
   "id": "a50e2def-ce35-488a-afed-3853a80f9ad7",
   "metadata": {},
   "source": [
    "## num_bedrooms"
   ]
  },
  {
   "cell_type": "code",
   "execution_count": null,
   "id": "87dd9ac8-2482-4ed2-b501-3358955a000c",
   "metadata": {},
   "outputs": [],
   "source": [
    "X_train['num_bedrooms'].plot.hist(title = 'num_bedrooms');"
   ]
  },
  {
   "cell_type": "markdown",
   "id": "945a1f2b-38fd-430e-bf39-d935a0a5ac8f",
   "metadata": {},
   "source": [
    "Log (1+x) transformation"
   ]
  },
  {
   "cell_type": "code",
   "execution_count": null,
   "id": "a7aa7e1b-15f3-4f31-954a-00cd70d01b59",
   "metadata": {},
   "outputs": [],
   "source": [
    "X_train['num_bedrooms'].apply('log1p').plot.hist();"
   ]
  },
  {
   "cell_type": "code",
   "execution_count": null,
   "id": "8bcfee3f-f0c9-43e4-9846-e921d51abe0e",
   "metadata": {},
   "outputs": [],
   "source": [
    "X_train['num_bedrooms'] = X_train['num_bedrooms'].apply('log1p')\n",
    "X_validation['num_bedrooms'] = X_validation['num_bedrooms'].apply('log1p')\n",
    "X['num_bedrooms'] = X['num_bedrooms'].apply('log1p')\n",
    "X_test['num_bedrooms'] = X_test['num_bedrooms'].apply('log1p')"
   ]
  },
  {
   "cell_type": "markdown",
   "id": "1d3b179c-6ee7-42c3-bd39-b467c8dc6415",
   "metadata": {},
   "source": [
    "Clip outliers"
   ]
  },
  {
   "cell_type": "code",
   "execution_count": null,
   "id": "f827e40a-fd64-4045-8f79-db9b4fec3bde",
   "metadata": {},
   "outputs": [],
   "source": [
    "low,high = X_train['num_bedrooms'].mean() - 3*X_train['num_bedrooms'].std(),X_train['num_bedrooms'].mean() + 3*X_train['num_bedrooms'].std()\n",
    "X_train['num_bedrooms'] = np.clip(X_train['num_bedrooms'],a_min = low,a_max = high)\n",
    "X_validation['num_bedrooms'] = np.clip(X_validation['num_bedrooms'],a_min = low,a_max = high)"
   ]
  },
  {
   "cell_type": "code",
   "execution_count": null,
   "id": "39be0b14-8423-4d69-89b3-7b924e21646e",
   "metadata": {},
   "outputs": [],
   "source": [
    "X_train['num_bedrooms'].plot.hist(title = 'num_bedrooms');"
   ]
  },
  {
   "cell_type": "code",
   "execution_count": null,
   "id": "52bc68b2-a7d3-4ef8-b644-733b8a0906e3",
   "metadata": {},
   "outputs": [],
   "source": [
    "low,high = X['num_bedrooms'].mean() - 3*X['num_bedrooms'].std(),X['num_bedrooms'].mean() + 3*X['num_bedrooms'].std()\n",
    "X['num_bedrooms'] = np.clip(X['num_bedrooms'],a_min = low,a_max = high)\n",
    "X_test['num_bedrooms'] = np.clip(X_test['num_bedrooms'],a_min = low,a_max = high)"
   ]
  },
  {
   "cell_type": "code",
   "execution_count": null,
   "id": "c9f16b53-ba60-4edb-8c7a-140f97138cc2",
   "metadata": {},
   "outputs": [],
   "source": [
    "X.describe()"
   ]
  },
  {
   "cell_type": "code",
   "execution_count": null,
   "id": "73b43b68-af00-4504-acc8-4d49002d2af2",
   "metadata": {},
   "outputs": [],
   "source": [
    "assert (y_train.index==X_train.index).all()\n",
    "assert (y_validation.index==X_validation.index).all()\n",
    "assert (y.index==X.index).all()"
   ]
  },
  {
   "cell_type": "markdown",
   "id": "95ac4f58-1a12-47b4-9578-ca4dbb0a643a",
   "metadata": {},
   "source": [
    "### Checkpoint7 Save"
   ]
  },
  {
   "cell_type": "code",
   "execution_count": null,
   "id": "f2acd1ad-b0e5-4547-bbdf-0cc807b90847",
   "metadata": {},
   "outputs": [],
   "source": [
    "tmp = {'X':X,'y':y,'X_train':X_train,'y_train':y_train,'X_validation':X_validation,'y_validation':y_validation,'X_test':X_test,\n",
    "      'y_pred_validation_xgb':y_pred_validation_xgb,'y_pred_validation_rf':y_pred_validation_rf,'y_pred_validation_gb':y_pred_validation_gb}\n",
    "pickle.dump(tmp,open('Checkpoint7.pickle','wb'))"
   ]
  },
  {
   "cell_type": "markdown",
   "id": "d81fcf71-9222-4bba-b036-b5daeb873086",
   "metadata": {},
   "source": [
    "### Checkpoint7 Load"
   ]
  },
  {
   "cell_type": "code",
   "execution_count": 5,
   "id": "f21d5fc8-435e-4b92-8072-a9cc63b63486",
   "metadata": {},
   "outputs": [],
   "source": [
    "tmp = pickle.load(open('Checkpoint7.pickle','rb'))\n",
    "X = tmp['X']\n",
    "y = tmp['y']\n",
    "X_train = tmp['X_train']\n",
    "y_train = tmp['y_train']\n",
    "X_validation = tmp['X_validation']\n",
    "y_validation = tmp['y_validation']\n",
    "X_test = tmp['X_test']\n",
    "y_pred_validation_xgb = tmp['y_pred_validation_xgb']\n",
    "y_pred_validation_rf = tmp['y_pred_validation_rf']\n",
    "y_pred_validation_gb = tmp['y_pred_validation_gb']\n",
    "del tmp"
   ]
  },
  {
   "cell_type": "markdown",
   "id": "78df2e2c-d2d7-4200-beb4-54a26bcb70b6",
   "metadata": {},
   "source": [
    "# OLS"
   ]
  },
  {
   "cell_type": "code",
   "execution_count": 6,
   "id": "6e71ae3a-8bce-40de-bc18-ed51ee9ccf33",
   "metadata": {},
   "outputs": [
    {
     "data": {
      "text/html": [
       "<table class=\"simpletable\">\n",
       "<caption>OLS Regression Results</caption>\n",
       "<tr>\n",
       "  <th>Dep. Variable:</th>          <td>price</td>      <th>  R-squared:         </th> <td>   0.781</td>\n",
       "</tr>\n",
       "<tr>\n",
       "  <th>Model:</th>                   <td>OLS</td>       <th>  Adj. R-squared:    </th> <td>   0.780</td>\n",
       "</tr>\n",
       "<tr>\n",
       "  <th>Method:</th>             <td>Least Squares</td>  <th>  F-statistic:       </th> <td>   1658.</td>\n",
       "</tr>\n",
       "<tr>\n",
       "  <th>Date:</th>             <td>Sun, 14 Jul 2024</td> <th>  Prob (F-statistic):</th>  <td>  0.00</td> \n",
       "</tr>\n",
       "<tr>\n",
       "  <th>Time:</th>                 <td>18:44:58</td>     <th>  Log-Likelihood:    </th> <td> -2441.9</td>\n",
       "</tr>\n",
       "<tr>\n",
       "  <th>No. Observations:</th>      <td>  7458</td>      <th>  AIC:               </th> <td>   4918.</td>\n",
       "</tr>\n",
       "<tr>\n",
       "  <th>Df Residuals:</th>          <td>  7441</td>      <th>  BIC:               </th> <td>   5035.</td>\n",
       "</tr>\n",
       "<tr>\n",
       "  <th>Df Model:</th>              <td>    16</td>      <th>                     </th>     <td> </td>   \n",
       "</tr>\n",
       "<tr>\n",
       "  <th>Covariance Type:</th>      <td>nonrobust</td>    <th>                     </th>     <td> </td>   \n",
       "</tr>\n",
       "</table>\n",
       "<table class=\"simpletable\">\n",
       "<tr>\n",
       "                <td></td>                   <th>coef</th>     <th>std err</th>      <th>t</th>      <th>P>|t|</th>  <th>[0.025</th>    <th>0.975]</th>  \n",
       "</tr>\n",
       "<tr>\n",
       "  <th>const</th>                         <td>   -3.7973</td> <td>    0.100</td> <td>  -38.053</td> <td> 0.000</td> <td>   -3.993</td> <td>   -3.602</td>\n",
       "</tr>\n",
       "<tr>\n",
       "  <th>bath</th>                          <td>    0.4426</td> <td>    0.031</td> <td>   14.504</td> <td> 0.000</td> <td>    0.383</td> <td>    0.502</td>\n",
       "</tr>\n",
       "<tr>\n",
       "  <th>balcony</th>                       <td>   -0.0109</td> <td>    0.005</td> <td>   -2.083</td> <td> 0.037</td> <td>   -0.021</td> <td>   -0.001</td>\n",
       "</tr>\n",
       "<tr>\n",
       "  <th>avg_2bhk_rent</th>                 <td>    0.0159</td> <td>    0.005</td> <td>    3.401</td> <td> 0.001</td> <td>    0.007</td> <td>    0.025</td>\n",
       "</tr>\n",
       "<tr>\n",
       "  <th>dist_from_city</th>                <td>   -0.0903</td> <td>    0.006</td> <td>  -14.671</td> <td> 0.000</td> <td>   -0.102</td> <td>   -0.078</td>\n",
       "</tr>\n",
       "<tr>\n",
       "  <th>availability_doy</th>              <td>   -0.0825</td> <td>    0.029</td> <td>   -2.891</td> <td> 0.004</td> <td>   -0.139</td> <td>   -0.027</td>\n",
       "</tr>\n",
       "<tr>\n",
       "  <th>ready_to_move_flag</th>            <td>   -0.1215</td> <td>    0.046</td> <td>   -2.648</td> <td> 0.008</td> <td>   -0.211</td> <td>   -0.032</td>\n",
       "</tr>\n",
       "<tr>\n",
       "  <th>num_bedrooms</th>                  <td>    0.1057</td> <td>    0.031</td> <td>    3.404</td> <td> 0.001</td> <td>    0.045</td> <td>    0.166</td>\n",
       "</tr>\n",
       "<tr>\n",
       "  <th>not_society</th>                   <td>   -0.0840</td> <td>    0.009</td> <td>   -9.440</td> <td> 0.000</td> <td>   -0.101</td> <td>   -0.067</td>\n",
       "</tr>\n",
       "<tr>\n",
       "  <th>sqft_avg</th>                      <td>    0.8352</td> <td>    0.012</td> <td>   69.419</td> <td> 0.000</td> <td>    0.812</td> <td>    0.859</td>\n",
       "</tr>\n",
       "<tr>\n",
       "  <th>dist_from_city_null</th>           <td>   -0.0684</td> <td>    0.019</td> <td>   -3.612</td> <td> 0.000</td> <td>   -0.105</td> <td>   -0.031</td>\n",
       "</tr>\n",
       "<tr>\n",
       "  <th>avg_2bhk_rent_null</th>            <td>    0.0581</td> <td>    0.010</td> <td>    5.805</td> <td> 0.000</td> <td>    0.038</td> <td>    0.078</td>\n",
       "</tr>\n",
       "<tr>\n",
       "  <th>balcony_null</th>                  <td>    0.0514</td> <td>    0.019</td> <td>    2.688</td> <td> 0.007</td> <td>    0.014</td> <td>    0.089</td>\n",
       "</tr>\n",
       "<tr>\n",
       "  <th>location_avg_price</th>            <td>    0.4091</td> <td>    0.011</td> <td>   38.076</td> <td> 0.000</td> <td>    0.388</td> <td>    0.430</td>\n",
       "</tr>\n",
       "<tr>\n",
       "  <th>area_type_Built-up Area</th>       <td>   -0.0398</td> <td>    0.049</td> <td>   -0.810</td> <td> 0.418</td> <td>   -0.136</td> <td>    0.057</td>\n",
       "</tr>\n",
       "<tr>\n",
       "  <th>area_type_Super built-up Area</th> <td>   -0.0746</td> <td>    0.048</td> <td>   -1.539</td> <td> 0.124</td> <td>   -0.170</td> <td>    0.020</td>\n",
       "</tr>\n",
       "<tr>\n",
       "  <th>area_type_Plot Area</th>           <td>    0.3812</td> <td>    0.050</td> <td>    7.661</td> <td> 0.000</td> <td>    0.284</td> <td>    0.479</td>\n",
       "</tr>\n",
       "</table>\n",
       "<table class=\"simpletable\">\n",
       "<tr>\n",
       "  <th>Omnibus:</th>       <td>851.646</td> <th>  Durbin-Watson:     </th> <td>   1.975</td>\n",
       "</tr>\n",
       "<tr>\n",
       "  <th>Prob(Omnibus):</th> <td> 0.000</td>  <th>  Jarque-Bera (JB):  </th> <td>7188.602</td>\n",
       "</tr>\n",
       "<tr>\n",
       "  <th>Skew:</th>          <td> 0.212</td>  <th>  Prob(JB):          </th> <td>    0.00</td>\n",
       "</tr>\n",
       "<tr>\n",
       "  <th>Kurtosis:</th>      <td> 7.791</td>  <th>  Cond. No.          </th> <td>    284.</td>\n",
       "</tr>\n",
       "</table><br/><br/>Notes:<br/>[1] Standard Errors assume that the covariance matrix of the errors is correctly specified."
      ],
      "text/latex": [
       "\\begin{center}\n",
       "\\begin{tabular}{lclc}\n",
       "\\toprule\n",
       "\\textbf{Dep. Variable:}                  &      price       & \\textbf{  R-squared:         } &     0.781   \\\\\n",
       "\\textbf{Model:}                          &       OLS        & \\textbf{  Adj. R-squared:    } &     0.780   \\\\\n",
       "\\textbf{Method:}                         &  Least Squares   & \\textbf{  F-statistic:       } &     1658.   \\\\\n",
       "\\textbf{Date:}                           & Sun, 14 Jul 2024 & \\textbf{  Prob (F-statistic):} &     0.00    \\\\\n",
       "\\textbf{Time:}                           &     18:44:58     & \\textbf{  Log-Likelihood:    } &   -2441.9   \\\\\n",
       "\\textbf{No. Observations:}               &        7458      & \\textbf{  AIC:               } &     4918.   \\\\\n",
       "\\textbf{Df Residuals:}                   &        7441      & \\textbf{  BIC:               } &     5035.   \\\\\n",
       "\\textbf{Df Model:}                       &          16      & \\textbf{                     } &             \\\\\n",
       "\\textbf{Covariance Type:}                &    nonrobust     & \\textbf{                     } &             \\\\\n",
       "\\bottomrule\n",
       "\\end{tabular}\n",
       "\\begin{tabular}{lcccccc}\n",
       "                                         & \\textbf{coef} & \\textbf{std err} & \\textbf{t} & \\textbf{P$> |$t$|$} & \\textbf{[0.025} & \\textbf{0.975]}  \\\\\n",
       "\\midrule\n",
       "\\textbf{const}                           &      -3.7973  &        0.100     &   -38.053  &         0.000        &       -3.993    &       -3.602     \\\\\n",
       "\\textbf{bath}                            &       0.4426  &        0.031     &    14.504  &         0.000        &        0.383    &        0.502     \\\\\n",
       "\\textbf{balcony}                         &      -0.0109  &        0.005     &    -2.083  &         0.037        &       -0.021    &       -0.001     \\\\\n",
       "\\textbf{avg\\_2bhk\\_rent}                 &       0.0159  &        0.005     &     3.401  &         0.001        &        0.007    &        0.025     \\\\\n",
       "\\textbf{dist\\_from\\_city}                &      -0.0903  &        0.006     &   -14.671  &         0.000        &       -0.102    &       -0.078     \\\\\n",
       "\\textbf{availability\\_doy}               &      -0.0825  &        0.029     &    -2.891  &         0.004        &       -0.139    &       -0.027     \\\\\n",
       "\\textbf{ready\\_to\\_move\\_flag}           &      -0.1215  &        0.046     &    -2.648  &         0.008        &       -0.211    &       -0.032     \\\\\n",
       "\\textbf{num\\_bedrooms}                   &       0.1057  &        0.031     &     3.404  &         0.001        &        0.045    &        0.166     \\\\\n",
       "\\textbf{not\\_society}                    &      -0.0840  &        0.009     &    -9.440  &         0.000        &       -0.101    &       -0.067     \\\\\n",
       "\\textbf{sqft\\_avg}                       &       0.8352  &        0.012     &    69.419  &         0.000        &        0.812    &        0.859     \\\\\n",
       "\\textbf{dist\\_from\\_city\\_null}          &      -0.0684  &        0.019     &    -3.612  &         0.000        &       -0.105    &       -0.031     \\\\\n",
       "\\textbf{avg\\_2bhk\\_rent\\_null}           &       0.0581  &        0.010     &     5.805  &         0.000        &        0.038    &        0.078     \\\\\n",
       "\\textbf{balcony\\_null}                   &       0.0514  &        0.019     &     2.688  &         0.007        &        0.014    &        0.089     \\\\\n",
       "\\textbf{location\\_avg\\_price}            &       0.4091  &        0.011     &    38.076  &         0.000        &        0.388    &        0.430     \\\\\n",
       "\\textbf{area\\_type\\_Built-up Area}       &      -0.0398  &        0.049     &    -0.810  &         0.418        &       -0.136    &        0.057     \\\\\n",
       "\\textbf{area\\_type\\_Super built-up Area} &      -0.0746  &        0.048     &    -1.539  &         0.124        &       -0.170    &        0.020     \\\\\n",
       "\\textbf{area\\_type\\_Plot Area}           &       0.3812  &        0.050     &     7.661  &         0.000        &        0.284    &        0.479     \\\\\n",
       "\\bottomrule\n",
       "\\end{tabular}\n",
       "\\begin{tabular}{lclc}\n",
       "\\textbf{Omnibus:}       & 851.646 & \\textbf{  Durbin-Watson:     } &    1.975  \\\\\n",
       "\\textbf{Prob(Omnibus):} &   0.000 & \\textbf{  Jarque-Bera (JB):  } & 7188.602  \\\\\n",
       "\\textbf{Skew:}          &   0.212 & \\textbf{  Prob(JB):          } &     0.00  \\\\\n",
       "\\textbf{Kurtosis:}      &   7.791 & \\textbf{  Cond. No.          } &     284.  \\\\\n",
       "\\bottomrule\n",
       "\\end{tabular}\n",
       "%\\caption{OLS Regression Results}\n",
       "\\end{center}\n",
       "\n",
       "Notes: \\newline\n",
       " [1] Standard Errors assume that the covariance matrix of the errors is correctly specified."
      ],
      "text/plain": [
       "<class 'statsmodels.iolib.summary.Summary'>\n",
       "\"\"\"\n",
       "                            OLS Regression Results                            \n",
       "==============================================================================\n",
       "Dep. Variable:                  price   R-squared:                       0.781\n",
       "Model:                            OLS   Adj. R-squared:                  0.780\n",
       "Method:                 Least Squares   F-statistic:                     1658.\n",
       "Date:                Sun, 14 Jul 2024   Prob (F-statistic):               0.00\n",
       "Time:                        18:44:58   Log-Likelihood:                -2441.9\n",
       "No. Observations:                7458   AIC:                             4918.\n",
       "Df Residuals:                    7441   BIC:                             5035.\n",
       "Df Model:                          16                                         \n",
       "Covariance Type:            nonrobust                                         \n",
       "=================================================================================================\n",
       "                                    coef    std err          t      P>|t|      [0.025      0.975]\n",
       "-------------------------------------------------------------------------------------------------\n",
       "const                            -3.7973      0.100    -38.053      0.000      -3.993      -3.602\n",
       "bath                              0.4426      0.031     14.504      0.000       0.383       0.502\n",
       "balcony                          -0.0109      0.005     -2.083      0.037      -0.021      -0.001\n",
       "avg_2bhk_rent                     0.0159      0.005      3.401      0.001       0.007       0.025\n",
       "dist_from_city                   -0.0903      0.006    -14.671      0.000      -0.102      -0.078\n",
       "availability_doy                 -0.0825      0.029     -2.891      0.004      -0.139      -0.027\n",
       "ready_to_move_flag               -0.1215      0.046     -2.648      0.008      -0.211      -0.032\n",
       "num_bedrooms                      0.1057      0.031      3.404      0.001       0.045       0.166\n",
       "not_society                      -0.0840      0.009     -9.440      0.000      -0.101      -0.067\n",
       "sqft_avg                          0.8352      0.012     69.419      0.000       0.812       0.859\n",
       "dist_from_city_null              -0.0684      0.019     -3.612      0.000      -0.105      -0.031\n",
       "avg_2bhk_rent_null                0.0581      0.010      5.805      0.000       0.038       0.078\n",
       "balcony_null                      0.0514      0.019      2.688      0.007       0.014       0.089\n",
       "location_avg_price                0.4091      0.011     38.076      0.000       0.388       0.430\n",
       "area_type_Built-up Area          -0.0398      0.049     -0.810      0.418      -0.136       0.057\n",
       "area_type_Super built-up Area    -0.0746      0.048     -1.539      0.124      -0.170       0.020\n",
       "area_type_Plot Area               0.3812      0.050      7.661      0.000       0.284       0.479\n",
       "==============================================================================\n",
       "Omnibus:                      851.646   Durbin-Watson:                   1.975\n",
       "Prob(Omnibus):                  0.000   Jarque-Bera (JB):             7188.602\n",
       "Skew:                           0.212   Prob(JB):                         0.00\n",
       "Kurtosis:                       7.791   Cond. No.                         284.\n",
       "==============================================================================\n",
       "\n",
       "Notes:\n",
       "[1] Standard Errors assume that the covariance matrix of the errors is correctly specified.\n",
       "\"\"\""
      ]
     },
     "execution_count": 6,
     "metadata": {},
     "output_type": "execute_result"
    }
   ],
   "source": [
    "ols_model = sm.OLS(y_train.apply('log'),sm.add_constant(X_train)).fit()\n",
    "ols_model.summary()"
   ]
  },
  {
   "cell_type": "code",
   "execution_count": 7,
   "id": "c755ec08-a660-4076-9f31-7e9d00bb0a69",
   "metadata": {},
   "outputs": [
    {
     "data": {
      "text/plain": [
       "108.32575703695336"
      ]
     },
     "execution_count": 7,
     "metadata": {},
     "output_type": "execute_result"
    }
   ],
   "source": [
    "y_pred_validation_ols = np.exp(ols_model.predict(sm.add_constant(X_validation)))\n",
    "mean_squared_error(y_validation,y_pred_validation_ols)**0.5"
   ]
  },
  {
   "cell_type": "code",
   "execution_count": 8,
   "id": "170b3fa0-0e9c-44a1-8fa1-dae8ad8a6b72",
   "metadata": {},
   "outputs": [
    {
     "data": {
      "text/html": [
       "<table class=\"simpletable\">\n",
       "<caption>OLS Regression Results</caption>\n",
       "<tr>\n",
       "  <th>Dep. Variable:</th>          <td>price</td>      <th>  R-squared:         </th> <td>   0.785</td>\n",
       "</tr>\n",
       "<tr>\n",
       "  <th>Model:</th>                   <td>OLS</td>       <th>  Adj. R-squared:    </th> <td>   0.784</td>\n",
       "</tr>\n",
       "<tr>\n",
       "  <th>Method:</th>             <td>Least Squares</td>  <th>  F-statistic:       </th> <td>   2423.</td>\n",
       "</tr>\n",
       "<tr>\n",
       "  <th>Date:</th>             <td>Sun, 14 Jul 2024</td> <th>  Prob (F-statistic):</th>  <td>  0.00</td> \n",
       "</tr>\n",
       "<tr>\n",
       "  <th>Time:</th>                 <td>18:45:09</td>     <th>  Log-Likelihood:    </th> <td> -3467.2</td>\n",
       "</tr>\n",
       "<tr>\n",
       "  <th>No. Observations:</th>      <td> 10655</td>      <th>  AIC:               </th> <td>   6968.</td>\n",
       "</tr>\n",
       "<tr>\n",
       "  <th>Df Residuals:</th>          <td> 10638</td>      <th>  BIC:               </th> <td>   7092.</td>\n",
       "</tr>\n",
       "<tr>\n",
       "  <th>Df Model:</th>              <td>    16</td>      <th>                     </th>     <td> </td>   \n",
       "</tr>\n",
       "<tr>\n",
       "  <th>Covariance Type:</th>      <td>nonrobust</td>    <th>                     </th>     <td> </td>   \n",
       "</tr>\n",
       "</table>\n",
       "<table class=\"simpletable\">\n",
       "<tr>\n",
       "                <td></td>                   <th>coef</th>     <th>std err</th>      <th>t</th>      <th>P>|t|</th>  <th>[0.025</th>    <th>0.975]</th>  \n",
       "</tr>\n",
       "<tr>\n",
       "  <th>const</th>                         <td>   -3.8576</td> <td>    0.084</td> <td>  -46.089</td> <td> 0.000</td> <td>   -4.022</td> <td>   -3.694</td>\n",
       "</tr>\n",
       "<tr>\n",
       "  <th>bath</th>                          <td>    0.4373</td> <td>    0.025</td> <td>   17.228</td> <td> 0.000</td> <td>    0.388</td> <td>    0.487</td>\n",
       "</tr>\n",
       "<tr>\n",
       "  <th>balcony</th>                       <td>   -0.0138</td> <td>    0.004</td> <td>   -3.146</td> <td> 0.002</td> <td>   -0.022</td> <td>   -0.005</td>\n",
       "</tr>\n",
       "<tr>\n",
       "  <th>avg_2bhk_rent</th>                 <td>    0.0133</td> <td>    0.004</td> <td>    3.404</td> <td> 0.001</td> <td>    0.006</td> <td>    0.021</td>\n",
       "</tr>\n",
       "<tr>\n",
       "  <th>dist_from_city</th>                <td>   -0.0840</td> <td>    0.005</td> <td>  -16.249</td> <td> 0.000</td> <td>   -0.094</td> <td>   -0.074</td>\n",
       "</tr>\n",
       "<tr>\n",
       "  <th>availability_doy</th>              <td>   -0.0828</td> <td>    0.024</td> <td>   -3.437</td> <td> 0.001</td> <td>   -0.130</td> <td>   -0.036</td>\n",
       "</tr>\n",
       "<tr>\n",
       "  <th>ready_to_move_flag</th>            <td>   -0.1259</td> <td>    0.039</td> <td>   -3.247</td> <td> 0.001</td> <td>   -0.202</td> <td>   -0.050</td>\n",
       "</tr>\n",
       "<tr>\n",
       "  <th>num_bedrooms</th>                  <td>    0.1067</td> <td>    0.026</td> <td>    4.114</td> <td> 0.000</td> <td>    0.056</td> <td>    0.157</td>\n",
       "</tr>\n",
       "<tr>\n",
       "  <th>not_society</th>                   <td>   -0.0763</td> <td>    0.007</td> <td>  -10.324</td> <td> 0.000</td> <td>   -0.091</td> <td>   -0.062</td>\n",
       "</tr>\n",
       "<tr>\n",
       "  <th>sqft_avg</th>                      <td>    0.8478</td> <td>    0.010</td> <td>   84.378</td> <td> 0.000</td> <td>    0.828</td> <td>    0.867</td>\n",
       "</tr>\n",
       "<tr>\n",
       "  <th>dist_from_city_null</th>           <td>   -0.0802</td> <td>    0.016</td> <td>   -5.156</td> <td> 0.000</td> <td>   -0.111</td> <td>   -0.050</td>\n",
       "</tr>\n",
       "<tr>\n",
       "  <th>avg_2bhk_rent_null</th>            <td>    0.0526</td> <td>    0.008</td> <td>    6.291</td> <td> 0.000</td> <td>    0.036</td> <td>    0.069</td>\n",
       "</tr>\n",
       "<tr>\n",
       "  <th>balcony_null</th>                  <td>    0.0360</td> <td>    0.016</td> <td>    2.267</td> <td> 0.023</td> <td>    0.005</td> <td>    0.067</td>\n",
       "</tr>\n",
       "<tr>\n",
       "  <th>location_avg_price</th>            <td>    0.4083</td> <td>    0.009</td> <td>   46.036</td> <td> 0.000</td> <td>    0.391</td> <td>    0.426</td>\n",
       "</tr>\n",
       "<tr>\n",
       "  <th>area_type_Built-up Area</th>       <td>   -0.0893</td> <td>    0.041</td> <td>   -2.163</td> <td> 0.031</td> <td>   -0.170</td> <td>   -0.008</td>\n",
       "</tr>\n",
       "<tr>\n",
       "  <th>area_type_Super built-up Area</th> <td>   -0.1124</td> <td>    0.041</td> <td>   -2.761</td> <td> 0.006</td> <td>   -0.192</td> <td>   -0.033</td>\n",
       "</tr>\n",
       "<tr>\n",
       "  <th>area_type_Plot Area</th>           <td>    0.3389</td> <td>    0.042</td> <td>    8.127</td> <td> 0.000</td> <td>    0.257</td> <td>    0.421</td>\n",
       "</tr>\n",
       "</table>\n",
       "<table class=\"simpletable\">\n",
       "<tr>\n",
       "  <th>Omnibus:</th>       <td>1214.436</td> <th>  Durbin-Watson:     </th> <td>   2.021</td> \n",
       "</tr>\n",
       "<tr>\n",
       "  <th>Prob(Omnibus):</th>  <td> 0.000</td>  <th>  Jarque-Bera (JB):  </th> <td>10285.964</td>\n",
       "</tr>\n",
       "<tr>\n",
       "  <th>Skew:</th>           <td> 0.212</td>  <th>  Prob(JB):          </th> <td>    0.00</td> \n",
       "</tr>\n",
       "<tr>\n",
       "  <th>Kurtosis:</th>       <td> 7.795</td>  <th>  Cond. No.          </th> <td>    286.</td> \n",
       "</tr>\n",
       "</table><br/><br/>Notes:<br/>[1] Standard Errors assume that the covariance matrix of the errors is correctly specified."
      ],
      "text/latex": [
       "\\begin{center}\n",
       "\\begin{tabular}{lclc}\n",
       "\\toprule\n",
       "\\textbf{Dep. Variable:}                  &      price       & \\textbf{  R-squared:         } &     0.785   \\\\\n",
       "\\textbf{Model:}                          &       OLS        & \\textbf{  Adj. R-squared:    } &     0.784   \\\\\n",
       "\\textbf{Method:}                         &  Least Squares   & \\textbf{  F-statistic:       } &     2423.   \\\\\n",
       "\\textbf{Date:}                           & Sun, 14 Jul 2024 & \\textbf{  Prob (F-statistic):} &     0.00    \\\\\n",
       "\\textbf{Time:}                           &     18:45:09     & \\textbf{  Log-Likelihood:    } &   -3467.2   \\\\\n",
       "\\textbf{No. Observations:}               &       10655      & \\textbf{  AIC:               } &     6968.   \\\\\n",
       "\\textbf{Df Residuals:}                   &       10638      & \\textbf{  BIC:               } &     7092.   \\\\\n",
       "\\textbf{Df Model:}                       &          16      & \\textbf{                     } &             \\\\\n",
       "\\textbf{Covariance Type:}                &    nonrobust     & \\textbf{                     } &             \\\\\n",
       "\\bottomrule\n",
       "\\end{tabular}\n",
       "\\begin{tabular}{lcccccc}\n",
       "                                         & \\textbf{coef} & \\textbf{std err} & \\textbf{t} & \\textbf{P$> |$t$|$} & \\textbf{[0.025} & \\textbf{0.975]}  \\\\\n",
       "\\midrule\n",
       "\\textbf{const}                           &      -3.8576  &        0.084     &   -46.089  &         0.000        &       -4.022    &       -3.694     \\\\\n",
       "\\textbf{bath}                            &       0.4373  &        0.025     &    17.228  &         0.000        &        0.388    &        0.487     \\\\\n",
       "\\textbf{balcony}                         &      -0.0138  &        0.004     &    -3.146  &         0.002        &       -0.022    &       -0.005     \\\\\n",
       "\\textbf{avg\\_2bhk\\_rent}                 &       0.0133  &        0.004     &     3.404  &         0.001        &        0.006    &        0.021     \\\\\n",
       "\\textbf{dist\\_from\\_city}                &      -0.0840  &        0.005     &   -16.249  &         0.000        &       -0.094    &       -0.074     \\\\\n",
       "\\textbf{availability\\_doy}               &      -0.0828  &        0.024     &    -3.437  &         0.001        &       -0.130    &       -0.036     \\\\\n",
       "\\textbf{ready\\_to\\_move\\_flag}           &      -0.1259  &        0.039     &    -3.247  &         0.001        &       -0.202    &       -0.050     \\\\\n",
       "\\textbf{num\\_bedrooms}                   &       0.1067  &        0.026     &     4.114  &         0.000        &        0.056    &        0.157     \\\\\n",
       "\\textbf{not\\_society}                    &      -0.0763  &        0.007     &   -10.324  &         0.000        &       -0.091    &       -0.062     \\\\\n",
       "\\textbf{sqft\\_avg}                       &       0.8478  &        0.010     &    84.378  &         0.000        &        0.828    &        0.867     \\\\\n",
       "\\textbf{dist\\_from\\_city\\_null}          &      -0.0802  &        0.016     &    -5.156  &         0.000        &       -0.111    &       -0.050     \\\\\n",
       "\\textbf{avg\\_2bhk\\_rent\\_null}           &       0.0526  &        0.008     &     6.291  &         0.000        &        0.036    &        0.069     \\\\\n",
       "\\textbf{balcony\\_null}                   &       0.0360  &        0.016     &     2.267  &         0.023        &        0.005    &        0.067     \\\\\n",
       "\\textbf{location\\_avg\\_price}            &       0.4083  &        0.009     &    46.036  &         0.000        &        0.391    &        0.426     \\\\\n",
       "\\textbf{area\\_type\\_Built-up Area}       &      -0.0893  &        0.041     &    -2.163  &         0.031        &       -0.170    &       -0.008     \\\\\n",
       "\\textbf{area\\_type\\_Super built-up Area} &      -0.1124  &        0.041     &    -2.761  &         0.006        &       -0.192    &       -0.033     \\\\\n",
       "\\textbf{area\\_type\\_Plot Area}           &       0.3389  &        0.042     &     8.127  &         0.000        &        0.257    &        0.421     \\\\\n",
       "\\bottomrule\n",
       "\\end{tabular}\n",
       "\\begin{tabular}{lclc}\n",
       "\\textbf{Omnibus:}       & 1214.436 & \\textbf{  Durbin-Watson:     } &     2.021  \\\\\n",
       "\\textbf{Prob(Omnibus):} &   0.000  & \\textbf{  Jarque-Bera (JB):  } & 10285.964  \\\\\n",
       "\\textbf{Skew:}          &   0.212  & \\textbf{  Prob(JB):          } &      0.00  \\\\\n",
       "\\textbf{Kurtosis:}      &   7.795  & \\textbf{  Cond. No.          } &      286.  \\\\\n",
       "\\bottomrule\n",
       "\\end{tabular}\n",
       "%\\caption{OLS Regression Results}\n",
       "\\end{center}\n",
       "\n",
       "Notes: \\newline\n",
       " [1] Standard Errors assume that the covariance matrix of the errors is correctly specified."
      ],
      "text/plain": [
       "<class 'statsmodels.iolib.summary.Summary'>\n",
       "\"\"\"\n",
       "                            OLS Regression Results                            \n",
       "==============================================================================\n",
       "Dep. Variable:                  price   R-squared:                       0.785\n",
       "Model:                            OLS   Adj. R-squared:                  0.784\n",
       "Method:                 Least Squares   F-statistic:                     2423.\n",
       "Date:                Sun, 14 Jul 2024   Prob (F-statistic):               0.00\n",
       "Time:                        18:45:09   Log-Likelihood:                -3467.2\n",
       "No. Observations:               10655   AIC:                             6968.\n",
       "Df Residuals:                   10638   BIC:                             7092.\n",
       "Df Model:                          16                                         \n",
       "Covariance Type:            nonrobust                                         \n",
       "=================================================================================================\n",
       "                                    coef    std err          t      P>|t|      [0.025      0.975]\n",
       "-------------------------------------------------------------------------------------------------\n",
       "const                            -3.8576      0.084    -46.089      0.000      -4.022      -3.694\n",
       "bath                              0.4373      0.025     17.228      0.000       0.388       0.487\n",
       "balcony                          -0.0138      0.004     -3.146      0.002      -0.022      -0.005\n",
       "avg_2bhk_rent                     0.0133      0.004      3.404      0.001       0.006       0.021\n",
       "dist_from_city                   -0.0840      0.005    -16.249      0.000      -0.094      -0.074\n",
       "availability_doy                 -0.0828      0.024     -3.437      0.001      -0.130      -0.036\n",
       "ready_to_move_flag               -0.1259      0.039     -3.247      0.001      -0.202      -0.050\n",
       "num_bedrooms                      0.1067      0.026      4.114      0.000       0.056       0.157\n",
       "not_society                      -0.0763      0.007    -10.324      0.000      -0.091      -0.062\n",
       "sqft_avg                          0.8478      0.010     84.378      0.000       0.828       0.867\n",
       "dist_from_city_null              -0.0802      0.016     -5.156      0.000      -0.111      -0.050\n",
       "avg_2bhk_rent_null                0.0526      0.008      6.291      0.000       0.036       0.069\n",
       "balcony_null                      0.0360      0.016      2.267      0.023       0.005       0.067\n",
       "location_avg_price                0.4083      0.009     46.036      0.000       0.391       0.426\n",
       "area_type_Built-up Area          -0.0893      0.041     -2.163      0.031      -0.170      -0.008\n",
       "area_type_Super built-up Area    -0.1124      0.041     -2.761      0.006      -0.192      -0.033\n",
       "area_type_Plot Area               0.3389      0.042      8.127      0.000       0.257       0.421\n",
       "==============================================================================\n",
       "Omnibus:                     1214.436   Durbin-Watson:                   2.021\n",
       "Prob(Omnibus):                  0.000   Jarque-Bera (JB):            10285.964\n",
       "Skew:                           0.212   Prob(JB):                         0.00\n",
       "Kurtosis:                       7.795   Cond. No.                         286.\n",
       "==============================================================================\n",
       "\n",
       "Notes:\n",
       "[1] Standard Errors assume that the covariance matrix of the errors is correctly specified.\n",
       "\"\"\""
      ]
     },
     "execution_count": 8,
     "metadata": {},
     "output_type": "execute_result"
    }
   ],
   "source": [
    "final_ols_model = sm.OLS(y.apply('log'),sm.add_constant(X)).fit()\n",
    "final_ols_model.summary()"
   ]
  },
  {
   "cell_type": "code",
   "execution_count": null,
   "id": "cfbe1b33-af55-4b6b-b97e-206c9e4a5126",
   "metadata": {},
   "outputs": [],
   "source": [
    "ans = pd.Series(np.exp(final_ols_model.predict(sm.add_constant(X_test))).round(2),index = pd.RangeIndex(len(X_test),name = 'ID'),name = 'price')\n",
    "ans.to_csv('submission_28.csv')"
   ]
  },
  {
   "cell_type": "markdown",
   "id": "bc6308d6-fd14-4349-b3b7-7aeacc210ffe",
   "metadata": {},
   "source": [
    "# Mixing the results"
   ]
  },
  {
   "cell_type": "code",
   "execution_count": null,
   "id": "a532774e-0fa5-4847-a4b9-f78803d6974c",
   "metadata": {},
   "outputs": [],
   "source": [
    "def mix_fun(r):\n",
    "    mix_result = y_pred_validation_xgb*r[0] + y_pred_validation_rf*r[1] + y_pred_validation_gb*r[2] + y_pred_validation_ols*r[3]\n",
    "    return mean_squared_error(y_validation,mix_result)**0.5"
   ]
  },
  {
   "cell_type": "code",
   "execution_count": null,
   "id": "a884b867-9dda-45b7-9538-204bc0bdded2",
   "metadata": {},
   "outputs": [],
   "source": [
    "cons = {'type': 'eq', 'fun': lambda x:x.sum()-1}"
   ]
  },
  {
   "cell_type": "code",
   "execution_count": null,
   "id": "40612393-6241-4017-a829-4e9ed3a3a041",
   "metadata": {},
   "outputs": [],
   "source": [
    "result = minimize(mix_fun, x0 = np.array([0.25,0.25,0.25,0.25]), method='SLSQP', constraints=cons,bounds = Bounds(0,1))\n",
    "ratios = result.x"
   ]
  },
  {
   "cell_type": "code",
   "execution_count": null,
   "id": "0c43911f-3830-4709-881b-7347188d2b75",
   "metadata": {},
   "outputs": [],
   "source": [
    "xgb_best_result = pd.read_csv('submission_16_xgb_best.csv',index_col = 'ID').squeeze()\n",
    "rf_best_result = pd.read_csv('submission_25_rf_best.csv',index_col = 'ID').squeeze()\n",
    "gb_best_result = pd.read_csv('submission_26_gb_current_best.csv',index_col = 'ID').squeeze()\n",
    "ols_best_result = pd.read_csv('submission_28_ols_best.csv',index_col = 'ID').squeeze()"
   ]
  },
  {
   "cell_type": "code",
   "execution_count": null,
   "id": "50ebbb60-7c9f-4125-8869-831750458e00",
   "metadata": {},
   "outputs": [],
   "source": [
    "mix_result = ratios[0]*xgb_best_result + ratios[1]*rf_best_result + ratios[2]*gb_best_result + ratios[3]*ols_best_result\n",
    "mix_result.round(2).to_csv('submission_29.csv')"
   ]
  },
  {
   "cell_type": "code",
   "execution_count": null,
   "id": "a908b24a-b0a0-4db8-8a26-9913a93b1e17",
   "metadata": {},
   "outputs": [],
   "source": []
  }
 ],
 "metadata": {
  "kernelspec": {
   "display_name": "Python 3 (ipykernel)",
   "language": "python",
   "name": "python3"
  },
  "language_info": {
   "codemirror_mode": {
    "name": "ipython",
    "version": 3
   },
   "file_extension": ".py",
   "mimetype": "text/x-python",
   "name": "python",
   "nbconvert_exporter": "python",
   "pygments_lexer": "ipython3",
   "version": "3.8.19"
  }
 },
 "nbformat": 4,
 "nbformat_minor": 5
}
