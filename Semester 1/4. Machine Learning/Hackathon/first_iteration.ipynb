{
 "cells": [
  {
   "cell_type": "code",
   "execution_count": 280,
   "id": "93801b71",
   "metadata": {},
   "outputs": [],
   "source": [
    "import pandas as pd\n",
    "import numpy as np\n",
    "import warnings\n",
    "warnings.filterwarnings('ignore')\n",
    "import numpy as np\n",
    "import pandas as pd\n",
    "import matplotlib.pyplot as plt\n",
    "import seaborn as sns"
   ]
  },
  {
   "cell_type": "code",
   "execution_count": 5,
   "id": "02e569b3",
   "metadata": {},
   "outputs": [
    {
     "data": {
      "text/html": [
       "<div>\n",
       "<style scoped>\n",
       "    .dataframe tbody tr th:only-of-type {\n",
       "        vertical-align: middle;\n",
       "    }\n",
       "\n",
       "    .dataframe tbody tr th {\n",
       "        vertical-align: top;\n",
       "    }\n",
       "\n",
       "    .dataframe thead th {\n",
       "        text-align: right;\n",
       "    }\n",
       "</style>\n",
       "<table border=\"1\" class=\"dataframe\">\n",
       "  <thead>\n",
       "    <tr style=\"text-align: right;\">\n",
       "      <th></th>\n",
       "      <th>ID</th>\n",
       "      <th>area_type</th>\n",
       "      <th>availability</th>\n",
       "      <th>location</th>\n",
       "      <th>size</th>\n",
       "      <th>society</th>\n",
       "      <th>total_sqft</th>\n",
       "      <th>bath</th>\n",
       "      <th>balcony</th>\n",
       "      <th>price</th>\n",
       "    </tr>\n",
       "  </thead>\n",
       "  <tbody>\n",
       "    <tr>\n",
       "      <th>0</th>\n",
       "      <td>0</td>\n",
       "      <td>Super built-up  Area</td>\n",
       "      <td>19-Dec</td>\n",
       "      <td>Electronic City Phase II</td>\n",
       "      <td>2 BHK</td>\n",
       "      <td>Coomee</td>\n",
       "      <td>1056</td>\n",
       "      <td>2.0</td>\n",
       "      <td>1.0</td>\n",
       "      <td>39.07</td>\n",
       "    </tr>\n",
       "    <tr>\n",
       "      <th>1</th>\n",
       "      <td>1</td>\n",
       "      <td>Plot  Area</td>\n",
       "      <td>Ready To Move</td>\n",
       "      <td>Chikka Tirupathi</td>\n",
       "      <td>4 Bedroom</td>\n",
       "      <td>Theanmp</td>\n",
       "      <td>2600</td>\n",
       "      <td>5.0</td>\n",
       "      <td>3.0</td>\n",
       "      <td>120.00</td>\n",
       "    </tr>\n",
       "    <tr>\n",
       "      <th>2</th>\n",
       "      <td>2</td>\n",
       "      <td>Built-up  Area</td>\n",
       "      <td>Ready To Move</td>\n",
       "      <td>Uttarahalli</td>\n",
       "      <td>3 BHK</td>\n",
       "      <td>NaN</td>\n",
       "      <td>1440</td>\n",
       "      <td>2.0</td>\n",
       "      <td>3.0</td>\n",
       "      <td>62.00</td>\n",
       "    </tr>\n",
       "    <tr>\n",
       "      <th>3</th>\n",
       "      <td>3</td>\n",
       "      <td>Super built-up  Area</td>\n",
       "      <td>Ready To Move</td>\n",
       "      <td>Lingadheeranahalli</td>\n",
       "      <td>3 BHK</td>\n",
       "      <td>Soiewre</td>\n",
       "      <td>1521</td>\n",
       "      <td>3.0</td>\n",
       "      <td>1.0</td>\n",
       "      <td>95.00</td>\n",
       "    </tr>\n",
       "    <tr>\n",
       "      <th>4</th>\n",
       "      <td>4</td>\n",
       "      <td>Super built-up  Area</td>\n",
       "      <td>Ready To Move</td>\n",
       "      <td>Kothanur</td>\n",
       "      <td>2 BHK</td>\n",
       "      <td>NaN</td>\n",
       "      <td>1200</td>\n",
       "      <td>2.0</td>\n",
       "      <td>1.0</td>\n",
       "      <td>51.00</td>\n",
       "    </tr>\n",
       "  </tbody>\n",
       "</table>\n",
       "</div>"
      ],
      "text/plain": [
       "   ID             area_type   availability                  location  \\\n",
       "0   0  Super built-up  Area         19-Dec  Electronic City Phase II   \n",
       "1   1            Plot  Area  Ready To Move          Chikka Tirupathi   \n",
       "2   2        Built-up  Area  Ready To Move               Uttarahalli   \n",
       "3   3  Super built-up  Area  Ready To Move        Lingadheeranahalli   \n",
       "4   4  Super built-up  Area  Ready To Move                  Kothanur   \n",
       "\n",
       "        size  society total_sqft  bath  balcony   price  \n",
       "0      2 BHK  Coomee        1056   2.0      1.0   39.07  \n",
       "1  4 Bedroom  Theanmp       2600   5.0      3.0  120.00  \n",
       "2      3 BHK      NaN       1440   2.0      3.0   62.00  \n",
       "3      3 BHK  Soiewre       1521   3.0      1.0   95.00  \n",
       "4      2 BHK      NaN       1200   2.0      1.0   51.00  "
      ]
     },
     "execution_count": 5,
     "metadata": {},
     "output_type": "execute_result"
    }
   ],
   "source": [
    "train_df = pd.read_csv(\"train_(2)_(1).csv\")\n",
    "train_df.head()"
   ]
  },
  {
   "cell_type": "code",
   "execution_count": 6,
   "id": "5839ed07",
   "metadata": {},
   "outputs": [
    {
     "data": {
      "text/html": [
       "<div>\n",
       "<style scoped>\n",
       "    .dataframe tbody tr th:only-of-type {\n",
       "        vertical-align: middle;\n",
       "    }\n",
       "\n",
       "    .dataframe tbody tr th {\n",
       "        vertical-align: top;\n",
       "    }\n",
       "\n",
       "    .dataframe thead th {\n",
       "        text-align: right;\n",
       "    }\n",
       "</style>\n",
       "<table border=\"1\" class=\"dataframe\">\n",
       "  <thead>\n",
       "    <tr style=\"text-align: right;\">\n",
       "      <th></th>\n",
       "      <th>location</th>\n",
       "      <th>avg_2bhk_rent</th>\n",
       "    </tr>\n",
       "  </thead>\n",
       "  <tbody>\n",
       "    <tr>\n",
       "      <th>0</th>\n",
       "      <td>Krishnarajapura</td>\n",
       "      <td>11954</td>\n",
       "    </tr>\n",
       "    <tr>\n",
       "      <th>1</th>\n",
       "      <td>Sarjapur</td>\n",
       "      <td>45000</td>\n",
       "    </tr>\n",
       "    <tr>\n",
       "      <th>2</th>\n",
       "      <td>Whitefield Hope Farm Junction</td>\n",
       "      <td>26370</td>\n",
       "    </tr>\n",
       "    <tr>\n",
       "      <th>3</th>\n",
       "      <td>Devanahalli</td>\n",
       "      <td>17302</td>\n",
       "    </tr>\n",
       "    <tr>\n",
       "      <th>4</th>\n",
       "      <td>Whitefield</td>\n",
       "      <td>14981</td>\n",
       "    </tr>\n",
       "  </tbody>\n",
       "</table>\n",
       "</div>"
      ],
      "text/plain": [
       "                        location  avg_2bhk_rent\n",
       "0                Krishnarajapura          11954\n",
       "1                       Sarjapur          45000\n",
       "2  Whitefield Hope Farm Junction          26370\n",
       "3                    Devanahalli          17302\n",
       "4                     Whitefield          14981"
      ]
     },
     "execution_count": 6,
     "metadata": {},
     "output_type": "execute_result"
    }
   ],
   "source": [
    "avg_rent_df = pd.read_csv(\"avg_rent_(1)_(1).csv\")\n",
    "avg_rent_df.head()"
   ]
  },
  {
   "cell_type": "code",
   "execution_count": 9,
   "id": "ab8a94a0",
   "metadata": {},
   "outputs": [],
   "source": [
    "rent_merged = pd.merge(train_df, avg_rent_df, how=\"left\", left_on=\"location\", right_on=\"location\")"
   ]
  },
  {
   "cell_type": "code",
   "execution_count": 8,
   "id": "b2c9f17b",
   "metadata": {},
   "outputs": [
    {
     "data": {
      "text/html": [
       "<div>\n",
       "<style scoped>\n",
       "    .dataframe tbody tr th:only-of-type {\n",
       "        vertical-align: middle;\n",
       "    }\n",
       "\n",
       "    .dataframe tbody tr th {\n",
       "        vertical-align: top;\n",
       "    }\n",
       "\n",
       "    .dataframe thead th {\n",
       "        text-align: right;\n",
       "    }\n",
       "</style>\n",
       "<table border=\"1\" class=\"dataframe\">\n",
       "  <thead>\n",
       "    <tr style=\"text-align: right;\">\n",
       "      <th></th>\n",
       "      <th>location</th>\n",
       "      <th>dist_from_city</th>\n",
       "    </tr>\n",
       "  </thead>\n",
       "  <tbody>\n",
       "    <tr>\n",
       "      <th>0</th>\n",
       "      <td>Whitefield</td>\n",
       "      <td>17.3</td>\n",
       "    </tr>\n",
       "    <tr>\n",
       "      <th>1</th>\n",
       "      <td>Sarjapur  Road</td>\n",
       "      <td>17.2</td>\n",
       "    </tr>\n",
       "    <tr>\n",
       "      <th>2</th>\n",
       "      <td>Electronic City</td>\n",
       "      <td>18.1</td>\n",
       "    </tr>\n",
       "    <tr>\n",
       "      <th>3</th>\n",
       "      <td>Kanakpura Road</td>\n",
       "      <td>26.5</td>\n",
       "    </tr>\n",
       "    <tr>\n",
       "      <th>4</th>\n",
       "      <td>Thanisandra</td>\n",
       "      <td>11.5</td>\n",
       "    </tr>\n",
       "  </tbody>\n",
       "</table>\n",
       "</div>"
      ],
      "text/plain": [
       "          location  dist_from_city\n",
       "0       Whitefield            17.3\n",
       "1   Sarjapur  Road            17.2\n",
       "2  Electronic City            18.1\n",
       "3   Kanakpura Road            26.5\n",
       "4      Thanisandra            11.5"
      ]
     },
     "execution_count": 8,
     "metadata": {},
     "output_type": "execute_result"
    }
   ],
   "source": [
    "dist_df = pd.read_csv(\"dist_from_city_centre_(1)_(1).csv\")\n",
    "dist_df.head()"
   ]
  },
  {
   "cell_type": "code",
   "execution_count": 10,
   "id": "fe0b8ca2",
   "metadata": {},
   "outputs": [
    {
     "data": {
      "text/html": [
       "<div>\n",
       "<style scoped>\n",
       "    .dataframe tbody tr th:only-of-type {\n",
       "        vertical-align: middle;\n",
       "    }\n",
       "\n",
       "    .dataframe tbody tr th {\n",
       "        vertical-align: top;\n",
       "    }\n",
       "\n",
       "    .dataframe thead th {\n",
       "        text-align: right;\n",
       "    }\n",
       "</style>\n",
       "<table border=\"1\" class=\"dataframe\">\n",
       "  <thead>\n",
       "    <tr style=\"text-align: right;\">\n",
       "      <th></th>\n",
       "      <th>ID</th>\n",
       "      <th>area_type</th>\n",
       "      <th>availability</th>\n",
       "      <th>location</th>\n",
       "      <th>size</th>\n",
       "      <th>society</th>\n",
       "      <th>total_sqft</th>\n",
       "      <th>bath</th>\n",
       "      <th>balcony</th>\n",
       "      <th>price</th>\n",
       "      <th>avg_2bhk_rent</th>\n",
       "      <th>dist_from_city</th>\n",
       "    </tr>\n",
       "  </thead>\n",
       "  <tbody>\n",
       "    <tr>\n",
       "      <th>0</th>\n",
       "      <td>0</td>\n",
       "      <td>Super built-up  Area</td>\n",
       "      <td>19-Dec</td>\n",
       "      <td>Electronic City Phase II</td>\n",
       "      <td>2 BHK</td>\n",
       "      <td>Coomee</td>\n",
       "      <td>1056</td>\n",
       "      <td>2.0</td>\n",
       "      <td>1.0</td>\n",
       "      <td>39.07</td>\n",
       "      <td>11500.0</td>\n",
       "      <td>19.3</td>\n",
       "    </tr>\n",
       "    <tr>\n",
       "      <th>1</th>\n",
       "      <td>1</td>\n",
       "      <td>Plot  Area</td>\n",
       "      <td>Ready To Move</td>\n",
       "      <td>Chikka Tirupathi</td>\n",
       "      <td>4 Bedroom</td>\n",
       "      <td>Theanmp</td>\n",
       "      <td>2600</td>\n",
       "      <td>5.0</td>\n",
       "      <td>3.0</td>\n",
       "      <td>120.00</td>\n",
       "      <td>NaN</td>\n",
       "      <td>34.6</td>\n",
       "    </tr>\n",
       "    <tr>\n",
       "      <th>2</th>\n",
       "      <td>2</td>\n",
       "      <td>Built-up  Area</td>\n",
       "      <td>Ready To Move</td>\n",
       "      <td>Uttarahalli</td>\n",
       "      <td>3 BHK</td>\n",
       "      <td>NaN</td>\n",
       "      <td>1440</td>\n",
       "      <td>2.0</td>\n",
       "      <td>3.0</td>\n",
       "      <td>62.00</td>\n",
       "      <td>19750.0</td>\n",
       "      <td>12.9</td>\n",
       "    </tr>\n",
       "    <tr>\n",
       "      <th>3</th>\n",
       "      <td>3</td>\n",
       "      <td>Super built-up  Area</td>\n",
       "      <td>Ready To Move</td>\n",
       "      <td>Lingadheeranahalli</td>\n",
       "      <td>3 BHK</td>\n",
       "      <td>Soiewre</td>\n",
       "      <td>1521</td>\n",
       "      <td>3.0</td>\n",
       "      <td>1.0</td>\n",
       "      <td>95.00</td>\n",
       "      <td>NaN</td>\n",
       "      <td>21.4</td>\n",
       "    </tr>\n",
       "    <tr>\n",
       "      <th>4</th>\n",
       "      <td>4</td>\n",
       "      <td>Super built-up  Area</td>\n",
       "      <td>Ready To Move</td>\n",
       "      <td>Kothanur</td>\n",
       "      <td>2 BHK</td>\n",
       "      <td>NaN</td>\n",
       "      <td>1200</td>\n",
       "      <td>2.0</td>\n",
       "      <td>1.0</td>\n",
       "      <td>51.00</td>\n",
       "      <td>16375.0</td>\n",
       "      <td>11.8</td>\n",
       "    </tr>\n",
       "  </tbody>\n",
       "</table>\n",
       "</div>"
      ],
      "text/plain": [
       "   ID             area_type   availability                  location  \\\n",
       "0   0  Super built-up  Area         19-Dec  Electronic City Phase II   \n",
       "1   1            Plot  Area  Ready To Move          Chikka Tirupathi   \n",
       "2   2        Built-up  Area  Ready To Move               Uttarahalli   \n",
       "3   3  Super built-up  Area  Ready To Move        Lingadheeranahalli   \n",
       "4   4  Super built-up  Area  Ready To Move                  Kothanur   \n",
       "\n",
       "        size  society total_sqft  bath  balcony   price  avg_2bhk_rent  \\\n",
       "0      2 BHK  Coomee        1056   2.0      1.0   39.07        11500.0   \n",
       "1  4 Bedroom  Theanmp       2600   5.0      3.0  120.00            NaN   \n",
       "2      3 BHK      NaN       1440   2.0      3.0   62.00        19750.0   \n",
       "3      3 BHK  Soiewre       1521   3.0      1.0   95.00            NaN   \n",
       "4      2 BHK      NaN       1200   2.0      1.0   51.00        16375.0   \n",
       "\n",
       "   dist_from_city  \n",
       "0            19.3  \n",
       "1            34.6  \n",
       "2            12.9  \n",
       "3            21.4  \n",
       "4            11.8  "
      ]
     },
     "execution_count": 10,
     "metadata": {},
     "output_type": "execute_result"
    }
   ],
   "source": [
    "full_merged_df = pd.merge(left=rent_merged, right=dist_df, how=\"left\", left_on=\"location\", right_on=\"location\")\n",
    "full_merged_df.head()"
   ]
  },
  {
   "cell_type": "code",
   "execution_count": 21,
   "id": "1e50160a",
   "metadata": {},
   "outputs": [],
   "source": [
    "cal = full_merged_df[\"location\"].astype('string')"
   ]
  },
  {
   "cell_type": "code",
   "execution_count": 25,
   "id": "a94c262b",
   "metadata": {},
   "outputs": [
    {
     "data": {
      "text/plain": [
       "'electroniccityphaseii'"
      ]
     },
     "execution_count": 25,
     "metadata": {},
     "output_type": "execute_result"
    }
   ],
   "source": [
    "cal[0].replace(\" \", \"\").lower()"
   ]
  },
  {
   "cell_type": "code",
   "execution_count": 26,
   "id": "45dd41a9",
   "metadata": {},
   "outputs": [
    {
     "data": {
      "text/plain": [
       "0              ELECTRONIC CITY PHASE II\n",
       "1                      CHIKKA TIRUPATHI\n",
       "2                           UTTARAHALLI\n",
       "3                    LINGADHEERANAHALLI\n",
       "4                              KOTHANUR\n",
       "                      ...              \n",
       "10651                PARAPPANA AGRAHARA\n",
       "10652                       BHOGANHALLI\n",
       "10653    DODDANAKUNDI INDUSTRIAL AREA 2\n",
       "10654                KACHANAYAKANAHALLI\n",
       "10655                HORAMAVU BANASWADI\n",
       "Name: location, Length: 10656, dtype: object"
      ]
     },
     "execution_count": 26,
     "metadata": {},
     "output_type": "execute_result"
    }
   ],
   "source": [
    "full_merged_df[\"location\"].str.upper()"
   ]
  },
  {
   "cell_type": "code",
   "execution_count": 27,
   "id": "bcf6e607",
   "metadata": {},
   "outputs": [],
   "source": [
    "from difflib import get_close_matches\n",
    "for i in range(dist_df.shape[0]):\n",
    "    print(dist_df['location'][i].lower(), get_close_matches(dist_df['location'][i].lower(), dist_df['location'].str.lower()))"
   ]
  },
  {
   "cell_type": "code",
   "execution_count": 61,
   "id": "439b03f2",
   "metadata": {},
   "outputs": [
    {
     "data": {
      "text/html": [
       "<div>\n",
       "<style scoped>\n",
       "    .dataframe tbody tr th:only-of-type {\n",
       "        vertical-align: middle;\n",
       "    }\n",
       "\n",
       "    .dataframe tbody tr th {\n",
       "        vertical-align: top;\n",
       "    }\n",
       "\n",
       "    .dataframe thead th {\n",
       "        text-align: right;\n",
       "    }\n",
       "</style>\n",
       "<table border=\"1\" class=\"dataframe\">\n",
       "  <thead>\n",
       "    <tr style=\"text-align: right;\">\n",
       "      <th></th>\n",
       "      <th>ID</th>\n",
       "      <th>area_type</th>\n",
       "      <th>availability</th>\n",
       "      <th>location</th>\n",
       "      <th>size</th>\n",
       "      <th>society</th>\n",
       "      <th>total_sqft</th>\n",
       "      <th>bath</th>\n",
       "      <th>balcony</th>\n",
       "      <th>price</th>\n",
       "      <th>avg_2bhk_rent</th>\n",
       "      <th>dist_from_city</th>\n",
       "      <th>sqft</th>\n",
       "    </tr>\n",
       "  </thead>\n",
       "  <tbody>\n",
       "    <tr>\n",
       "      <th>0</th>\n",
       "      <td>0</td>\n",
       "      <td>Super built-up  Area</td>\n",
       "      <td>19-Dec</td>\n",
       "      <td>Electronic City Phase II</td>\n",
       "      <td>2 BHK</td>\n",
       "      <td>Coomee</td>\n",
       "      <td>1056</td>\n",
       "      <td>2.0</td>\n",
       "      <td>1.0</td>\n",
       "      <td>39.07</td>\n",
       "      <td>11500.0</td>\n",
       "      <td>19.3</td>\n",
       "      <td>2</td>\n",
       "    </tr>\n",
       "    <tr>\n",
       "      <th>1</th>\n",
       "      <td>1</td>\n",
       "      <td>Plot  Area</td>\n",
       "      <td>Ready To Move</td>\n",
       "      <td>Chikka Tirupathi</td>\n",
       "      <td>4 Bedroom</td>\n",
       "      <td>Theanmp</td>\n",
       "      <td>2600</td>\n",
       "      <td>5.0</td>\n",
       "      <td>3.0</td>\n",
       "      <td>120.00</td>\n",
       "      <td>NaN</td>\n",
       "      <td>34.6</td>\n",
       "      <td>4</td>\n",
       "    </tr>\n",
       "    <tr>\n",
       "      <th>2</th>\n",
       "      <td>2</td>\n",
       "      <td>Built-up  Area</td>\n",
       "      <td>Ready To Move</td>\n",
       "      <td>Uttarahalli</td>\n",
       "      <td>3 BHK</td>\n",
       "      <td>NaN</td>\n",
       "      <td>1440</td>\n",
       "      <td>2.0</td>\n",
       "      <td>3.0</td>\n",
       "      <td>62.00</td>\n",
       "      <td>19750.0</td>\n",
       "      <td>12.9</td>\n",
       "      <td>3</td>\n",
       "    </tr>\n",
       "    <tr>\n",
       "      <th>3</th>\n",
       "      <td>3</td>\n",
       "      <td>Super built-up  Area</td>\n",
       "      <td>Ready To Move</td>\n",
       "      <td>Lingadheeranahalli</td>\n",
       "      <td>3 BHK</td>\n",
       "      <td>Soiewre</td>\n",
       "      <td>1521</td>\n",
       "      <td>3.0</td>\n",
       "      <td>1.0</td>\n",
       "      <td>95.00</td>\n",
       "      <td>NaN</td>\n",
       "      <td>21.4</td>\n",
       "      <td>3</td>\n",
       "    </tr>\n",
       "    <tr>\n",
       "      <th>4</th>\n",
       "      <td>4</td>\n",
       "      <td>Super built-up  Area</td>\n",
       "      <td>Ready To Move</td>\n",
       "      <td>Kothanur</td>\n",
       "      <td>2 BHK</td>\n",
       "      <td>NaN</td>\n",
       "      <td>1200</td>\n",
       "      <td>2.0</td>\n",
       "      <td>1.0</td>\n",
       "      <td>51.00</td>\n",
       "      <td>16375.0</td>\n",
       "      <td>11.8</td>\n",
       "      <td>2</td>\n",
       "    </tr>\n",
       "  </tbody>\n",
       "</table>\n",
       "</div>"
      ],
      "text/plain": [
       "   ID             area_type   availability                  location  \\\n",
       "0   0  Super built-up  Area         19-Dec  Electronic City Phase II   \n",
       "1   1            Plot  Area  Ready To Move          Chikka Tirupathi   \n",
       "2   2        Built-up  Area  Ready To Move               Uttarahalli   \n",
       "3   3  Super built-up  Area  Ready To Move        Lingadheeranahalli   \n",
       "4   4  Super built-up  Area  Ready To Move                  Kothanur   \n",
       "\n",
       "        size  society total_sqft  bath  balcony   price  avg_2bhk_rent  \\\n",
       "0      2 BHK  Coomee        1056   2.0      1.0   39.07        11500.0   \n",
       "1  4 Bedroom  Theanmp       2600   5.0      3.0  120.00            NaN   \n",
       "2      3 BHK      NaN       1440   2.0      3.0   62.00        19750.0   \n",
       "3      3 BHK  Soiewre       1521   3.0      1.0   95.00            NaN   \n",
       "4      2 BHK      NaN       1200   2.0      1.0   51.00        16375.0   \n",
       "\n",
       "   dist_from_city sqft  \n",
       "0            19.3    2  \n",
       "1            34.6    4  \n",
       "2            12.9    3  \n",
       "3            21.4    3  \n",
       "4            11.8    2  "
      ]
     },
     "execution_count": 61,
     "metadata": {},
     "output_type": "execute_result"
    }
   ],
   "source": [
    "full_merged_df['sqft'] = full_merged_df[\"size\"].str.extract('(\\d+)')\n",
    "full_merged_df.head()"
   ]
  },
  {
   "cell_type": "code",
   "execution_count": 282,
   "id": "373be067",
   "metadata": {},
   "outputs": [
    {
     "data": {
      "text/html": [
       "<div>\n",
       "<style scoped>\n",
       "    .dataframe tbody tr th:only-of-type {\n",
       "        vertical-align: middle;\n",
       "    }\n",
       "\n",
       "    .dataframe tbody tr th {\n",
       "        vertical-align: top;\n",
       "    }\n",
       "\n",
       "    .dataframe thead th {\n",
       "        text-align: right;\n",
       "    }\n",
       "</style>\n",
       "<table border=\"1\" class=\"dataframe\">\n",
       "  <thead>\n",
       "    <tr style=\"text-align: right;\">\n",
       "      <th></th>\n",
       "      <th>sqft</th>\n",
       "      <th>total_sqft</th>\n",
       "      <th>bath</th>\n",
       "      <th>balcony</th>\n",
       "      <th>price</th>\n",
       "      <th>avg_2bhk_rent</th>\n",
       "      <th>dist_from_city</th>\n",
       "    </tr>\n",
       "  </thead>\n",
       "  <tbody>\n",
       "    <tr>\n",
       "      <th>0</th>\n",
       "      <td>2</td>\n",
       "      <td>1056</td>\n",
       "      <td>2.0</td>\n",
       "      <td>1.0</td>\n",
       "      <td>39.07</td>\n",
       "      <td>11500.0</td>\n",
       "      <td>19.3</td>\n",
       "    </tr>\n",
       "    <tr>\n",
       "      <th>1</th>\n",
       "      <td>4</td>\n",
       "      <td>2600</td>\n",
       "      <td>5.0</td>\n",
       "      <td>3.0</td>\n",
       "      <td>120.00</td>\n",
       "      <td>NaN</td>\n",
       "      <td>34.6</td>\n",
       "    </tr>\n",
       "    <tr>\n",
       "      <th>2</th>\n",
       "      <td>3</td>\n",
       "      <td>1440</td>\n",
       "      <td>2.0</td>\n",
       "      <td>3.0</td>\n",
       "      <td>62.00</td>\n",
       "      <td>19750.0</td>\n",
       "      <td>12.9</td>\n",
       "    </tr>\n",
       "    <tr>\n",
       "      <th>3</th>\n",
       "      <td>3</td>\n",
       "      <td>1521</td>\n",
       "      <td>3.0</td>\n",
       "      <td>1.0</td>\n",
       "      <td>95.00</td>\n",
       "      <td>NaN</td>\n",
       "      <td>21.4</td>\n",
       "    </tr>\n",
       "    <tr>\n",
       "      <th>4</th>\n",
       "      <td>2</td>\n",
       "      <td>1200</td>\n",
       "      <td>2.0</td>\n",
       "      <td>1.0</td>\n",
       "      <td>51.00</td>\n",
       "      <td>16375.0</td>\n",
       "      <td>11.8</td>\n",
       "    </tr>\n",
       "  </tbody>\n",
       "</table>\n",
       "</div>"
      ],
      "text/plain": [
       "  sqft total_sqft  bath  balcony   price  avg_2bhk_rent  dist_from_city\n",
       "0    2       1056   2.0      1.0   39.07        11500.0            19.3\n",
       "1    4       2600   5.0      3.0  120.00            NaN            34.6\n",
       "2    3       1440   2.0      3.0   62.00        19750.0            12.9\n",
       "3    3       1521   3.0      1.0   95.00            NaN            21.4\n",
       "4    2       1200   2.0      1.0   51.00        16375.0            11.8"
      ]
     },
     "execution_count": 282,
     "metadata": {},
     "output_type": "execute_result"
    }
   ],
   "source": [
    "reduced_col = full_merged_df[[\"sqft\", \"total_sqft\", \"bath\", \"balcony\", \"price\", \"avg_2bhk_rent\", \"dist_from_city\"]]\n",
    "reduced_col.head()"
   ]
  },
  {
   "cell_type": "code",
   "execution_count": 283,
   "id": "c478095f",
   "metadata": {},
   "outputs": [
    {
     "data": {
      "text/plain": [
       "sqft                14\n",
       "total_sqft           0\n",
       "bath                65\n",
       "balcony            504\n",
       "price                0\n",
       "avg_2bhk_rent     6991\n",
       "dist_from_city    1026\n",
       "dtype: int64"
      ]
     },
     "execution_count": 283,
     "metadata": {},
     "output_type": "execute_result"
    }
   ],
   "source": [
    "reduced_col.isnull().sum()"
   ]
  },
  {
   "cell_type": "code",
   "execution_count": 284,
   "id": "18e4278f",
   "metadata": {},
   "outputs": [
    {
     "data": {
      "text/html": [
       "<div>\n",
       "<style scoped>\n",
       "    .dataframe tbody tr th:only-of-type {\n",
       "        vertical-align: middle;\n",
       "    }\n",
       "\n",
       "    .dataframe tbody tr th {\n",
       "        vertical-align: top;\n",
       "    }\n",
       "\n",
       "    .dataframe thead th {\n",
       "        text-align: right;\n",
       "    }\n",
       "</style>\n",
       "<table border=\"1\" class=\"dataframe\">\n",
       "  <thead>\n",
       "    <tr style=\"text-align: right;\">\n",
       "      <th></th>\n",
       "      <th>bath</th>\n",
       "      <th>balcony</th>\n",
       "      <th>price</th>\n",
       "      <th>avg_2bhk_rent</th>\n",
       "      <th>dist_from_city</th>\n",
       "    </tr>\n",
       "  </thead>\n",
       "  <tbody>\n",
       "    <tr>\n",
       "      <th>count</th>\n",
       "      <td>10591.000000</td>\n",
       "      <td>10152.000000</td>\n",
       "      <td>10656.000000</td>\n",
       "      <td>3665.000000</td>\n",
       "      <td>9630.000000</td>\n",
       "    </tr>\n",
       "    <tr>\n",
       "      <th>mean</th>\n",
       "      <td>2.690586</td>\n",
       "      <td>1.581757</td>\n",
       "      <td>112.214256</td>\n",
       "      <td>15363.440109</td>\n",
       "      <td>15.191080</td>\n",
       "    </tr>\n",
       "    <tr>\n",
       "      <th>std</th>\n",
       "      <td>1.352403</td>\n",
       "      <td>0.821357</td>\n",
       "      <td>142.231967</td>\n",
       "      <td>14472.805948</td>\n",
       "      <td>6.242696</td>\n",
       "    </tr>\n",
       "    <tr>\n",
       "      <th>min</th>\n",
       "      <td>1.000000</td>\n",
       "      <td>0.000000</td>\n",
       "      <td>8.000000</td>\n",
       "      <td>1756.000000</td>\n",
       "      <td>1.900000</td>\n",
       "    </tr>\n",
       "    <tr>\n",
       "      <th>25%</th>\n",
       "      <td>2.000000</td>\n",
       "      <td>1.000000</td>\n",
       "      <td>50.000000</td>\n",
       "      <td>11714.000000</td>\n",
       "      <td>11.100000</td>\n",
       "    </tr>\n",
       "    <tr>\n",
       "      <th>50%</th>\n",
       "      <td>2.000000</td>\n",
       "      <td>2.000000</td>\n",
       "      <td>72.000000</td>\n",
       "      <td>14981.000000</td>\n",
       "      <td>14.400000</td>\n",
       "    </tr>\n",
       "    <tr>\n",
       "      <th>75%</th>\n",
       "      <td>3.000000</td>\n",
       "      <td>2.000000</td>\n",
       "      <td>120.000000</td>\n",
       "      <td>17340.000000</td>\n",
       "      <td>17.400000</td>\n",
       "    </tr>\n",
       "    <tr>\n",
       "      <th>max</th>\n",
       "      <td>40.000000</td>\n",
       "      <td>3.000000</td>\n",
       "      <td>2700.000000</td>\n",
       "      <td>800000.000000</td>\n",
       "      <td>47.700000</td>\n",
       "    </tr>\n",
       "  </tbody>\n",
       "</table>\n",
       "</div>"
      ],
      "text/plain": [
       "               bath       balcony         price  avg_2bhk_rent  dist_from_city\n",
       "count  10591.000000  10152.000000  10656.000000    3665.000000     9630.000000\n",
       "mean       2.690586      1.581757    112.214256   15363.440109       15.191080\n",
       "std        1.352403      0.821357    142.231967   14472.805948        6.242696\n",
       "min        1.000000      0.000000      8.000000    1756.000000        1.900000\n",
       "25%        2.000000      1.000000     50.000000   11714.000000       11.100000\n",
       "50%        2.000000      2.000000     72.000000   14981.000000       14.400000\n",
       "75%        3.000000      2.000000    120.000000   17340.000000       17.400000\n",
       "max       40.000000      3.000000   2700.000000  800000.000000       47.700000"
      ]
     },
     "execution_count": 284,
     "metadata": {},
     "output_type": "execute_result"
    }
   ],
   "source": [
    "reduced_col.describe()"
   ]
  },
  {
   "cell_type": "code",
   "execution_count": 285,
   "id": "d603b695",
   "metadata": {},
   "outputs": [
    {
     "name": "stderr",
     "output_type": "stream",
     "text": [
      "C:\\Users\\priya\\anaconda3\\envs\\AlgoTrading\\Lib\\site-packages\\pandas\\core\\dtypes\\common.py:1636: DeprecationWarning: Converting `np.inexact` or `np.floating` to a dtype is deprecated. The current result is `float64` which is not strictly correct.\n",
      "  npdtype = np.dtype(dtype)\n"
     ]
    },
    {
     "data": {
      "text/html": [
       "<div>\n",
       "<style scoped>\n",
       "    .dataframe tbody tr th:only-of-type {\n",
       "        vertical-align: middle;\n",
       "    }\n",
       "\n",
       "    .dataframe tbody tr th {\n",
       "        vertical-align: top;\n",
       "    }\n",
       "\n",
       "    .dataframe thead th {\n",
       "        text-align: right;\n",
       "    }\n",
       "</style>\n",
       "<table border=\"1\" class=\"dataframe\">\n",
       "  <thead>\n",
       "    <tr style=\"text-align: right;\">\n",
       "      <th></th>\n",
       "      <th>bhk</th>\n",
       "      <th>total_sqft</th>\n",
       "      <th>bath</th>\n",
       "      <th>balcony</th>\n",
       "      <th>price</th>\n",
       "      <th>avg_2bhk_rent</th>\n",
       "      <th>dist_from_city</th>\n",
       "    </tr>\n",
       "  </thead>\n",
       "  <tbody>\n",
       "    <tr>\n",
       "      <th>0</th>\n",
       "      <td>2.0</td>\n",
       "      <td>1056</td>\n",
       "      <td>2.0</td>\n",
       "      <td>1.0</td>\n",
       "      <td>39.07</td>\n",
       "      <td>11500.0</td>\n",
       "      <td>19.3</td>\n",
       "    </tr>\n",
       "    <tr>\n",
       "      <th>1</th>\n",
       "      <td>4.0</td>\n",
       "      <td>2600</td>\n",
       "      <td>5.0</td>\n",
       "      <td>3.0</td>\n",
       "      <td>120.00</td>\n",
       "      <td>NaN</td>\n",
       "      <td>34.6</td>\n",
       "    </tr>\n",
       "    <tr>\n",
       "      <th>2</th>\n",
       "      <td>3.0</td>\n",
       "      <td>1440</td>\n",
       "      <td>2.0</td>\n",
       "      <td>3.0</td>\n",
       "      <td>62.00</td>\n",
       "      <td>19750.0</td>\n",
       "      <td>12.9</td>\n",
       "    </tr>\n",
       "    <tr>\n",
       "      <th>3</th>\n",
       "      <td>3.0</td>\n",
       "      <td>1521</td>\n",
       "      <td>3.0</td>\n",
       "      <td>1.0</td>\n",
       "      <td>95.00</td>\n",
       "      <td>NaN</td>\n",
       "      <td>21.4</td>\n",
       "    </tr>\n",
       "    <tr>\n",
       "      <th>4</th>\n",
       "      <td>2.0</td>\n",
       "      <td>1200</td>\n",
       "      <td>2.0</td>\n",
       "      <td>1.0</td>\n",
       "      <td>51.00</td>\n",
       "      <td>16375.0</td>\n",
       "      <td>11.8</td>\n",
       "    </tr>\n",
       "  </tbody>\n",
       "</table>\n",
       "</div>"
      ],
      "text/plain": [
       "   bhk total_sqft  bath  balcony   price  avg_2bhk_rent  dist_from_city\n",
       "0  2.0       1056   2.0      1.0   39.07        11500.0            19.3\n",
       "1  4.0       2600   5.0      3.0  120.00            NaN            34.6\n",
       "2  3.0       1440   2.0      3.0   62.00        19750.0            12.9\n",
       "3  3.0       1521   3.0      1.0   95.00            NaN            21.4\n",
       "4  2.0       1200   2.0      1.0   51.00        16375.0            11.8"
      ]
     },
     "execution_count": 285,
     "metadata": {},
     "output_type": "execute_result"
    }
   ],
   "source": [
    "reduced_col.rename(columns={\"sqft\": \"bhk\"}, inplace=True)\n",
    "reduced_col['bhk'] = reduced_col[\"bhk\"].astype(np.number)\n",
    "reduced_col.head()"
   ]
  },
  {
   "cell_type": "code",
   "execution_count": 286,
   "id": "d23a70d4",
   "metadata": {},
   "outputs": [],
   "source": [
    "bkup_df = full_merged_df.copy()"
   ]
  },
  {
   "cell_type": "code",
   "execution_count": 287,
   "id": "7df58139",
   "metadata": {},
   "outputs": [],
   "source": [
    "#Missing Value identification and imputation\n",
    "reduced_col.balcony.fillna(0, inplace=True)\n"
   ]
  },
  {
   "cell_type": "code",
   "execution_count": 288,
   "id": "2d754fb2",
   "metadata": {},
   "outputs": [
    {
     "data": {
      "text/plain": [
       "bhk                 14\n",
       "total_sqft           0\n",
       "bath                65\n",
       "balcony              0\n",
       "price                0\n",
       "avg_2bhk_rent     6991\n",
       "dist_from_city    1026\n",
       "dtype: int64"
      ]
     },
     "execution_count": 288,
     "metadata": {},
     "output_type": "execute_result"
    }
   ],
   "source": [
    "reduced_col.isnull().sum()"
   ]
  },
  {
   "cell_type": "code",
   "execution_count": 289,
   "id": "b4ddb951",
   "metadata": {},
   "outputs": [
    {
     "data": {
      "text/plain": [
       "value  \n",
       "Meter      15\n",
       "Yards      13\n",
       "Acres       7\n",
       "Cents       2\n",
       "Grounds     1\n",
       "Guntha      1\n",
       "Perch       1\n",
       "Name: count, dtype: int64"
      ]
     },
     "execution_count": 289,
     "metadata": {},
     "output_type": "execute_result"
    }
   ],
   "source": [
    "temp = reduced_col.total_sqft.str.extract(r'([a-zA-Z]+\\w+[a-zA-Z]+)')\n",
    "temp.rename(columns={0:\"value\"}, inplace=True)\n",
    "temp.value_counts()"
   ]
  },
  {
   "cell_type": "code",
   "execution_count": 290,
   "id": "0d7f6d98",
   "metadata": {},
   "outputs": [
    {
     "name": "stdout",
     "output_type": "stream",
     "text": [
      "4\n",
      "4125\n",
      "4125\n"
     ]
    }
   ],
   "source": [
    "val = reduced_col.iloc[648].loc[\"total_sqft\"]\n",
    "print(val.find(\"Perch\"))\n",
    "digit = int(re.findall(r'\\d+', val)[0])\n",
    "print(digit)\n",
    "#reduced_col.iloc[648].loc[\"total_sqft\"] = str(digit)\n",
    "reduced_col.iloc[648, reduced_col.columns.get_loc(\"total_sqft\")] = str(digit)\n",
    "print(reduced_col.iloc[648].loc[\"total_sqft\"])"
   ]
  },
  {
   "cell_type": "code",
   "execution_count": 316,
   "id": "8e40b46e",
   "metadata": {},
   "outputs": [],
   "source": [
    "import re\n",
    "def convert_total_sqft(df):\n",
    "    for idx in range(df.shape[0]):\n",
    "        val = str(df.total_sqft[idx])\n",
    "        if(val.isdigit() == True):\n",
    "            continue;\n",
    "        #digit = int(val.extract(r('\\d+')))\n",
    "        digit = int(re.findall(r'\\d+', val)[0])\n",
    "        print(val, digit)\n",
    "        if(val.find(\"Meter\") != -1):\n",
    "            digit = digit * 10.7\n",
    "            df.iloc[idx, df.columns.get_loc(\"total_sqft\")] = str(digit)\n",
    "        if(val.find(\"Acres\") != -1):\n",
    "            digit = digit * 43560\n",
    "            df.iloc[idx, df.columns.get_loc(\"total_sqft\")] = str(digit)\n",
    "        if(val.find(\"Yards\") != -1):\n",
    "            digit = digit * 9\n",
    "            df.iloc[idx, df.columns.get_loc(\"total_sqft\")] = str(digit)\n",
    "        if(val.find(\"Cents\") != -1):\n",
    "            digit = digit * 435.56\n",
    "            df.iloc[idx, df.columns.get_loc(\"total_sqft\")] = str(digit)\n",
    "        if(val.find(\"Grounds\") != -1):\n",
    "            digit = digit * 2400.35\n",
    "            df.iloc[idx, df.columns.get_loc(\"total_sqft\")] = str(digit)\n",
    "        if(val.find(\"Guntha\") != -1):\n",
    "            digit = digit * 1089\n",
    "            df.iloc[idx, df.columns.get_loc(\"total_sqft\")] = str(digit)\n",
    "        if(val.find(\"Perch\") != -1):\n",
    "            digit = digit * 272\n",
    "            df.iloc[idx, df.columns.get_loc(\"total_sqft\")] = str(digit)\n",
    "        if(val.find(\"-\") != -1):\n",
    "            df.iloc[idx, df.columns.get_loc(\"total_sqft\")] = val.split('-')[1]\n",
    "#convert_total_sqft(reduced_col)"
   ]
  },
  {
   "cell_type": "code",
   "execution_count": 292,
   "id": "9a737a8c",
   "metadata": {},
   "outputs": [],
   "source": [
    "reduced_col['total_sqft'] = reduced_col['total_sqft'].astype(np.float64, copy=False)"
   ]
  },
  {
   "cell_type": "code",
   "execution_count": 293,
   "id": "72575c84",
   "metadata": {},
   "outputs": [
    {
     "data": {
      "text/plain": [
       "bhk               float64\n",
       "total_sqft        float64\n",
       "bath              float64\n",
       "balcony           float64\n",
       "price             float64\n",
       "avg_2bhk_rent     float64\n",
       "dist_from_city    float64\n",
       "dtype: object"
      ]
     },
     "execution_count": 293,
     "metadata": {},
     "output_type": "execute_result"
    }
   ],
   "source": [
    "reduced_col.dtypes"
   ]
  },
  {
   "cell_type": "code",
   "execution_count": 294,
   "id": "4434454d",
   "metadata": {},
   "outputs": [
    {
     "data": {
      "text/plain": [
       "bhk                 14\n",
       "total_sqft           0\n",
       "bath                65\n",
       "balcony              0\n",
       "price                0\n",
       "avg_2bhk_rent     6991\n",
       "dist_from_city    1026\n",
       "dtype: int64"
      ]
     },
     "execution_count": 294,
     "metadata": {},
     "output_type": "execute_result"
    }
   ],
   "source": [
    "reduced_col.isnull().sum()"
   ]
  },
  {
   "cell_type": "code",
   "execution_count": 295,
   "id": "f163a198",
   "metadata": {},
   "outputs": [],
   "source": [
    "#\n",
    "reduced_col = reduced_col[reduced_col['total_sqft']>100]\n",
    "reduced_col = reduced_col[[\"bhk\", \"total_sqft\", \"bath\", \"balcony\", \"price\"]]\n",
    "#reduced_col['bhk'].dropna(inplace=True)\n",
    "reduced_col.reset_index(drop=True, inplace=True)\n"
   ]
  },
  {
   "cell_type": "code",
   "execution_count": 296,
   "id": "5feef781",
   "metadata": {},
   "outputs": [
    {
     "data": {
      "text/plain": [
       "bhk           14\n",
       "total_sqft     0\n",
       "bath          65\n",
       "balcony        0\n",
       "price          0\n",
       "dtype: int64"
      ]
     },
     "execution_count": 296,
     "metadata": {},
     "output_type": "execute_result"
    }
   ],
   "source": [
    "reduced_col.isnull().sum()"
   ]
  },
  {
   "cell_type": "code",
   "execution_count": 297,
   "id": "e5e3034c",
   "metadata": {},
   "outputs": [
    {
     "name": "stdout",
     "output_type": "stream",
     "text": [
      "bhk            0\n",
      "total_sqft     0\n",
      "bath          65\n",
      "balcony        0\n",
      "price          0\n",
      "dtype: int64\n"
     ]
    },
    {
     "data": {
      "text/plain": [
       "bhk            0\n",
       "total_sqft     0\n",
       "bath          65\n",
       "balcony        0\n",
       "price          0\n",
       "dtype: int64"
      ]
     },
     "execution_count": 297,
     "metadata": {},
     "output_type": "execute_result"
    }
   ],
   "source": [
    "def fill_missing_bhk(df):\n",
    "    df.fillna(np.nan, inplace=True)\n",
    "    ref_bhk = df[[\"total_sqft\", \"bhk\"]].groupby(pd.cut(df['total_sqft'], bins=np.arange(0,200000,100), include_lowest=True), observed=False).median()\n",
    "    \n",
    "    bhk_is_null = df[\"bhk\"].isnull()\n",
    "    bath_is_null = df[\"bath\"].isnull()\n",
    "    #print(df.shape, bhk_is_null.shape)\n",
    "    for idx in range(df.shape[0]):\n",
    "        #print(df.iloc[idx])\n",
    "        if(bhk_is_null[idx] == True):\n",
    "            #print(\"Found bhk is Null\")\n",
    "            #print(df.iloc[idx])\n",
    "            if(bath_is_null[idx] != True):\n",
    "                df.iloc[idx, df.columns.get_loc('bhk')] = df.iloc[idx, df.columns.get_loc('bath')]\n",
    "                #print(\"Setting bath as bhk\", df.iloc[idx, df.columns.get_loc('bath')])\n",
    "            else:\n",
    "                sqft = df.iloc[idx, df.columns.get_loc('total_sqft')]\n",
    "                df.iloc[idx, df.columns.get_loc('bhk')] = ref_bhk.loc[sqft][\"bhk\"]\n",
    "                #print(\"Setting %d as bhk\" %(ref_bhk.loc[sqft][\"bhk\"]))\n",
    "    print(df.isnull().sum())\n",
    "fill_missing_bhk(reduced_col)\n",
    "reduced_col.isnull().sum()\n"
   ]
  },
  {
   "cell_type": "code",
   "execution_count": 298,
   "id": "d2c6b3cc",
   "metadata": {},
   "outputs": [
    {
     "name": "stdout",
     "output_type": "stream",
     "text": [
      "bhk           0\n",
      "total_sqft    0\n",
      "bath          0\n",
      "balcony       0\n",
      "price         0\n",
      "dtype: int64\n"
     ]
    },
    {
     "data": {
      "text/plain": [
       "bhk           0\n",
       "total_sqft    0\n",
       "bath          0\n",
       "balcony       0\n",
       "price         0\n",
       "dtype: int64"
      ]
     },
     "execution_count": 298,
     "metadata": {},
     "output_type": "execute_result"
    }
   ],
   "source": [
    "def fill_missing_bath(df):\n",
    "    df.fillna(np.nan, inplace=True)\n",
    "    \n",
    "    bhk_is_null = df[\"bhk\"].isnull()\n",
    "    bath_is_null = df[\"bath\"].isnull()\n",
    "    #print(df.shape, bhk_is_null.shape)\n",
    "    for idx in range(df.shape[0]):\n",
    "        #print(df.iloc[idx])\n",
    "        if(bath_is_null[idx] == True):\n",
    "            #print(\"Found bhk is Null\")\n",
    "            #print(df.iloc[idx])\n",
    "            if(bhk_is_null[idx] != True):\n",
    "                df.iloc[idx, df.columns.get_loc('bath')] = df.iloc[idx, df.columns.get_loc('bhk')]\n",
    "                #print(\"Setting bath as bhk\", df.iloc[idx, df.columns.get_loc('bath')])\n",
    "    print(df.isnull().sum())\n",
    "fill_missing_bath(reduced_col)\n",
    "reduced_col.isnull().sum()"
   ]
  },
  {
   "cell_type": "code",
   "execution_count": 267,
   "id": "c39620da",
   "metadata": {},
   "outputs": [
    {
     "data": {
      "text/html": [
       "<div>\n",
       "<style scoped>\n",
       "    .dataframe tbody tr th:only-of-type {\n",
       "        vertical-align: middle;\n",
       "    }\n",
       "\n",
       "    .dataframe tbody tr th {\n",
       "        vertical-align: top;\n",
       "    }\n",
       "\n",
       "    .dataframe thead th {\n",
       "        text-align: right;\n",
       "    }\n",
       "</style>\n",
       "<table border=\"1\" class=\"dataframe\">\n",
       "  <thead>\n",
       "    <tr style=\"text-align: right;\">\n",
       "      <th></th>\n",
       "      <th>bhk</th>\n",
       "      <th>total_sqft</th>\n",
       "      <th>bath</th>\n",
       "      <th>balcony</th>\n",
       "      <th>price</th>\n",
       "    </tr>\n",
       "  </thead>\n",
       "  <tbody>\n",
       "    <tr>\n",
       "      <th>0</th>\n",
       "      <td>0.023810</td>\n",
       "      <td>0.000597</td>\n",
       "      <td>0.025641</td>\n",
       "      <td>0.333333</td>\n",
       "      <td>0.011542</td>\n",
       "    </tr>\n",
       "    <tr>\n",
       "      <th>1</th>\n",
       "      <td>0.071429</td>\n",
       "      <td>0.001779</td>\n",
       "      <td>0.102564</td>\n",
       "      <td>1.000000</td>\n",
       "      <td>0.041605</td>\n",
       "    </tr>\n",
       "    <tr>\n",
       "      <th>2</th>\n",
       "      <td>0.047619</td>\n",
       "      <td>0.000891</td>\n",
       "      <td>0.025641</td>\n",
       "      <td>1.000000</td>\n",
       "      <td>0.020059</td>\n",
       "    </tr>\n",
       "    <tr>\n",
       "      <th>3</th>\n",
       "      <td>0.047619</td>\n",
       "      <td>0.000953</td>\n",
       "      <td>0.051282</td>\n",
       "      <td>0.333333</td>\n",
       "      <td>0.032318</td>\n",
       "    </tr>\n",
       "    <tr>\n",
       "      <th>4</th>\n",
       "      <td>0.023810</td>\n",
       "      <td>0.000707</td>\n",
       "      <td>0.025641</td>\n",
       "      <td>0.333333</td>\n",
       "      <td>0.015973</td>\n",
       "    </tr>\n",
       "  </tbody>\n",
       "</table>\n",
       "</div>"
      ],
      "text/plain": [
       "        bhk  total_sqft      bath   balcony     price\n",
       "0  0.023810    0.000597  0.025641  0.333333  0.011542\n",
       "1  0.071429    0.001779  0.102564  1.000000  0.041605\n",
       "2  0.047619    0.000891  0.025641  1.000000  0.020059\n",
       "3  0.047619    0.000953  0.051282  0.333333  0.032318\n",
       "4  0.023810    0.000707  0.025641  0.333333  0.015973"
      ]
     },
     "execution_count": 267,
     "metadata": {},
     "output_type": "execute_result"
    }
   ],
   "source": [
    "from sklearn.preprocessing import MinMaxScaler\n",
    "#Normalization\n",
    "reduced_col.head()\n",
    "scaler = MinMaxScaler()\n",
    "var = [\"bhk\", \"total_sqft\", \"bath\", \"balcony\", \"price\"]\n",
    "reduced_col[var] = scaler.fit_transform(reduced_col[var])\n",
    "reduced_col.head()"
   ]
  },
  {
   "cell_type": "code",
   "execution_count": 299,
   "id": "197f15bf",
   "metadata": {},
   "outputs": [],
   "source": [
    "#Building Model\n",
    "from scipy import stats\n",
    "#RFE\n",
    "from sklearn.feature_selection import RFE\n",
    "from sklearn.linear_model import LinearRegression\n",
    "import statsmodels.api as sm \n",
    "from statsmodels.stats.outliers_influence import variance_inflation_factor\n",
    "\n",
    "\n",
    "y_train = reduced_col.pop('price')\n",
    "X_train = reduced_col\n",
    "\n",
    "\n",
    "lm = LinearRegression()\n",
    "lm.fit(X_train,y_train)\n",
    "rfe = RFE(estimator=lm, n_features_to_select=4)\n",
    "rfe = rfe.fit(X_train, y_train)"
   ]
  },
  {
   "cell_type": "code",
   "execution_count": 300,
   "id": "e2d65452",
   "metadata": {},
   "outputs": [
    {
     "data": {
      "text/html": [
       "<div>\n",
       "<style scoped>\n",
       "    .dataframe tbody tr th:only-of-type {\n",
       "        vertical-align: middle;\n",
       "    }\n",
       "\n",
       "    .dataframe tbody tr th {\n",
       "        vertical-align: top;\n",
       "    }\n",
       "\n",
       "    .dataframe thead th {\n",
       "        text-align: right;\n",
       "    }\n",
       "</style>\n",
       "<table border=\"1\" class=\"dataframe\">\n",
       "  <thead>\n",
       "    <tr style=\"text-align: right;\">\n",
       "      <th></th>\n",
       "      <th>bhk</th>\n",
       "      <th>total_sqft</th>\n",
       "      <th>bath</th>\n",
       "      <th>balcony</th>\n",
       "    </tr>\n",
       "  </thead>\n",
       "  <tbody>\n",
       "    <tr>\n",
       "      <th>0</th>\n",
       "      <td>2.0</td>\n",
       "      <td>1056.0</td>\n",
       "      <td>2.0</td>\n",
       "      <td>1.0</td>\n",
       "    </tr>\n",
       "    <tr>\n",
       "      <th>1</th>\n",
       "      <td>4.0</td>\n",
       "      <td>2600.0</td>\n",
       "      <td>5.0</td>\n",
       "      <td>3.0</td>\n",
       "    </tr>\n",
       "    <tr>\n",
       "      <th>2</th>\n",
       "      <td>3.0</td>\n",
       "      <td>1440.0</td>\n",
       "      <td>2.0</td>\n",
       "      <td>3.0</td>\n",
       "    </tr>\n",
       "    <tr>\n",
       "      <th>3</th>\n",
       "      <td>3.0</td>\n",
       "      <td>1521.0</td>\n",
       "      <td>3.0</td>\n",
       "      <td>1.0</td>\n",
       "    </tr>\n",
       "    <tr>\n",
       "      <th>4</th>\n",
       "      <td>2.0</td>\n",
       "      <td>1200.0</td>\n",
       "      <td>2.0</td>\n",
       "      <td>1.0</td>\n",
       "    </tr>\n",
       "    <tr>\n",
       "      <th>...</th>\n",
       "      <td>...</td>\n",
       "      <td>...</td>\n",
       "      <td>...</td>\n",
       "      <td>...</td>\n",
       "    </tr>\n",
       "    <tr>\n",
       "      <th>10645</th>\n",
       "      <td>1.0</td>\n",
       "      <td>1200.0</td>\n",
       "      <td>1.0</td>\n",
       "      <td>0.0</td>\n",
       "    </tr>\n",
       "    <tr>\n",
       "      <th>10646</th>\n",
       "      <td>2.0</td>\n",
       "      <td>1260.0</td>\n",
       "      <td>2.0</td>\n",
       "      <td>1.0</td>\n",
       "    </tr>\n",
       "    <tr>\n",
       "      <th>10647</th>\n",
       "      <td>2.0</td>\n",
       "      <td>1092.0</td>\n",
       "      <td>2.0</td>\n",
       "      <td>1.0</td>\n",
       "    </tr>\n",
       "    <tr>\n",
       "      <th>10648</th>\n",
       "      <td>2.0</td>\n",
       "      <td>827.0</td>\n",
       "      <td>2.0</td>\n",
       "      <td>0.0</td>\n",
       "    </tr>\n",
       "    <tr>\n",
       "      <th>10649</th>\n",
       "      <td>2.0</td>\n",
       "      <td>1357.0</td>\n",
       "      <td>2.0</td>\n",
       "      <td>2.0</td>\n",
       "    </tr>\n",
       "  </tbody>\n",
       "</table>\n",
       "<p>10650 rows × 4 columns</p>\n",
       "</div>"
      ],
      "text/plain": [
       "       bhk  total_sqft  bath  balcony\n",
       "0      2.0      1056.0   2.0      1.0\n",
       "1      4.0      2600.0   5.0      3.0\n",
       "2      3.0      1440.0   2.0      3.0\n",
       "3      3.0      1521.0   3.0      1.0\n",
       "4      2.0      1200.0   2.0      1.0\n",
       "...    ...         ...   ...      ...\n",
       "10645  1.0      1200.0   1.0      0.0\n",
       "10646  2.0      1260.0   2.0      1.0\n",
       "10647  2.0      1092.0   2.0      1.0\n",
       "10648  2.0       827.0   2.0      0.0\n",
       "10649  2.0      1357.0   2.0      2.0\n",
       "\n",
       "[10650 rows x 4 columns]"
      ]
     },
     "execution_count": 300,
     "metadata": {},
     "output_type": "execute_result"
    }
   ],
   "source": [
    "X_train"
   ]
  },
  {
   "cell_type": "code",
   "execution_count": 301,
   "id": "0a647eee",
   "metadata": {},
   "outputs": [
    {
     "data": {
      "text/plain": [
       "Index(['bhk', 'total_sqft', 'bath', 'balcony'], dtype='object')"
      ]
     },
     "execution_count": 301,
     "metadata": {},
     "output_type": "execute_result"
    }
   ],
   "source": [
    "X_train.columns[rfe.support_]"
   ]
  },
  {
   "cell_type": "code",
   "execution_count": 302,
   "id": "40926709",
   "metadata": {},
   "outputs": [
    {
     "data": {
      "text/html": [
       "<div>\n",
       "<style scoped>\n",
       "    .dataframe tbody tr th:only-of-type {\n",
       "        vertical-align: middle;\n",
       "    }\n",
       "\n",
       "    .dataframe tbody tr th {\n",
       "        vertical-align: top;\n",
       "    }\n",
       "\n",
       "    .dataframe thead th {\n",
       "        text-align: right;\n",
       "    }\n",
       "</style>\n",
       "<table border=\"1\" class=\"dataframe\">\n",
       "  <thead>\n",
       "    <tr style=\"text-align: right;\">\n",
       "      <th></th>\n",
       "      <th>bhk</th>\n",
       "      <th>total_sqft</th>\n",
       "      <th>bath</th>\n",
       "      <th>balcony</th>\n",
       "    </tr>\n",
       "  </thead>\n",
       "  <tbody>\n",
       "    <tr>\n",
       "      <th>0</th>\n",
       "      <td>2.0</td>\n",
       "      <td>1056.0</td>\n",
       "      <td>2.0</td>\n",
       "      <td>1.0</td>\n",
       "    </tr>\n",
       "    <tr>\n",
       "      <th>1</th>\n",
       "      <td>4.0</td>\n",
       "      <td>2600.0</td>\n",
       "      <td>5.0</td>\n",
       "      <td>3.0</td>\n",
       "    </tr>\n",
       "    <tr>\n",
       "      <th>2</th>\n",
       "      <td>3.0</td>\n",
       "      <td>1440.0</td>\n",
       "      <td>2.0</td>\n",
       "      <td>3.0</td>\n",
       "    </tr>\n",
       "    <tr>\n",
       "      <th>3</th>\n",
       "      <td>3.0</td>\n",
       "      <td>1521.0</td>\n",
       "      <td>3.0</td>\n",
       "      <td>1.0</td>\n",
       "    </tr>\n",
       "    <tr>\n",
       "      <th>4</th>\n",
       "      <td>2.0</td>\n",
       "      <td>1200.0</td>\n",
       "      <td>2.0</td>\n",
       "      <td>1.0</td>\n",
       "    </tr>\n",
       "  </tbody>\n",
       "</table>\n",
       "</div>"
      ],
      "text/plain": [
       "   bhk  total_sqft  bath  balcony\n",
       "0  2.0      1056.0   2.0      1.0\n",
       "1  4.0      2600.0   5.0      3.0\n",
       "2  3.0      1440.0   2.0      3.0\n",
       "3  3.0      1521.0   3.0      1.0\n",
       "4  2.0      1200.0   2.0      1.0"
      ]
     },
     "execution_count": 302,
     "metadata": {},
     "output_type": "execute_result"
    }
   ],
   "source": [
    "X_train_rfe = X_train[X_train.columns[rfe.support_]]\n",
    "X_train_rfe.head()"
   ]
  },
  {
   "cell_type": "code",
   "execution_count": 303,
   "id": "1e9e337a",
   "metadata": {},
   "outputs": [],
   "source": [
    "def build_model(X,y):\n",
    "    X = sm.add_constant(X) #Adding the constant\n",
    "    lm = sm.OLS(y,X).fit() # fitting the model\n",
    "    print(lm.summary()) # model summary\n",
    "    return X\n",
    "    \n",
    "def checkVIF(X):\n",
    "    vif = pd.DataFrame()\n",
    "    vif['Features'] = X.columns\n",
    "    vif['VIF'] = [variance_inflation_factor(X.values, i) for i in range(X.shape[1])]\n",
    "    vif['VIF'] = round(vif['VIF'], 2)\n",
    "    vif = vif.sort_values(by = \"VIF\", ascending = False)\n",
    "    return(vif)"
   ]
  },
  {
   "cell_type": "code",
   "execution_count": 304,
   "id": "20ac7843",
   "metadata": {},
   "outputs": [
    {
     "name": "stdout",
     "output_type": "stream",
     "text": [
      "                            OLS Regression Results                            \n",
      "==============================================================================\n",
      "Dep. Variable:                  price   R-squared:                       0.214\n",
      "Model:                            OLS   Adj. R-squared:                  0.214\n",
      "Method:                 Least Squares   F-statistic:                     726.4\n",
      "Date:                Sun, 07 Jul 2024   Prob (F-statistic):               0.00\n",
      "Time:                        06:19:56   Log-Likelihood:                -66626.\n",
      "No. Observations:               10650   AIC:                         1.333e+05\n",
      "Df Residuals:                   10645   BIC:                         1.333e+05\n",
      "Df Model:                           4                                         \n",
      "Covariance Type:            nonrobust                                         \n",
      "==============================================================================\n",
      "                 coef    std err          t      P>|t|      [0.025      0.975]\n",
      "------------------------------------------------------------------------------\n",
      "const        -14.3440      3.486     -4.114      0.000     -21.178      -7.510\n",
      "bhk           -5.8528      2.155     -2.715      0.007     -10.078      -1.628\n",
      "total_sqft     0.0003   7.77e-05      3.950      0.000       0.000       0.000\n",
      "bath          53.6361      2.092     25.642      0.000      49.536      57.736\n",
      "balcony       -1.4057      1.410     -0.997      0.319      -4.169       1.358\n",
      "==============================================================================\n",
      "Omnibus:                    13894.320   Durbin-Watson:                   2.008\n",
      "Prob(Omnibus):                  0.000   Jarque-Bera (JB):          3747558.633\n",
      "Skew:                           7.209   Prob(JB):                         0.00\n",
      "Kurtosis:                      93.760   Cond. No.                     4.74e+04\n",
      "==============================================================================\n",
      "\n",
      "Notes:\n",
      "[1] Standard Errors assume that the covariance matrix of the errors is correctly specified.\n",
      "[2] The condition number is large, 4.74e+04. This might indicate that there are\n",
      "strong multicollinearity or other numerical problems.\n"
     ]
    }
   ],
   "source": [
    "X_train_new = build_model(X_train_rfe,y_train)"
   ]
  },
  {
   "cell_type": "code",
   "execution_count": 305,
   "id": "8a4a29c7",
   "metadata": {},
   "outputs": [
    {
     "data": {
      "text/html": [
       "<div>\n",
       "<style scoped>\n",
       "    .dataframe tbody tr th:only-of-type {\n",
       "        vertical-align: middle;\n",
       "    }\n",
       "\n",
       "    .dataframe tbody tr th {\n",
       "        vertical-align: top;\n",
       "    }\n",
       "\n",
       "    .dataframe thead th {\n",
       "        text-align: right;\n",
       "    }\n",
       "</style>\n",
       "<table border=\"1\" class=\"dataframe\">\n",
       "  <thead>\n",
       "    <tr style=\"text-align: right;\">\n",
       "      <th></th>\n",
       "      <th>Features</th>\n",
       "      <th>VIF</th>\n",
       "    </tr>\n",
       "  </thead>\n",
       "  <tbody>\n",
       "    <tr>\n",
       "      <th>0</th>\n",
       "      <td>bhk</td>\n",
       "      <td>27.60</td>\n",
       "    </tr>\n",
       "    <tr>\n",
       "      <th>2</th>\n",
       "      <td>bath</td>\n",
       "      <td>26.56</td>\n",
       "    </tr>\n",
       "    <tr>\n",
       "      <th>3</th>\n",
       "      <td>balcony</td>\n",
       "      <td>2.77</td>\n",
       "    </tr>\n",
       "    <tr>\n",
       "      <th>1</th>\n",
       "      <td>total_sqft</td>\n",
       "      <td>1.02</td>\n",
       "    </tr>\n",
       "  </tbody>\n",
       "</table>\n",
       "</div>"
      ],
      "text/plain": [
       "     Features    VIF\n",
       "0         bhk  27.60\n",
       "2        bath  26.56\n",
       "3     balcony   2.77\n",
       "1  total_sqft   1.02"
      ]
     },
     "execution_count": 305,
     "metadata": {},
     "output_type": "execute_result"
    }
   ],
   "source": [
    "#Calculating the Variance Inflation Factor\n",
    "checkVIF(X_train)"
   ]
  },
  {
   "cell_type": "code",
   "execution_count": 333,
   "id": "496f7bbd",
   "metadata": {},
   "outputs": [
    {
     "data": {
      "text/html": [
       "<div>\n",
       "<style scoped>\n",
       "    .dataframe tbody tr th:only-of-type {\n",
       "        vertical-align: middle;\n",
       "    }\n",
       "\n",
       "    .dataframe tbody tr th {\n",
       "        vertical-align: top;\n",
       "    }\n",
       "\n",
       "    .dataframe thead th {\n",
       "        text-align: right;\n",
       "    }\n",
       "</style>\n",
       "<table border=\"1\" class=\"dataframe\">\n",
       "  <thead>\n",
       "    <tr style=\"text-align: right;\">\n",
       "      <th></th>\n",
       "      <th>bhk</th>\n",
       "      <th>total_sqft</th>\n",
       "      <th>bath</th>\n",
       "      <th>balcony</th>\n",
       "    </tr>\n",
       "  </thead>\n",
       "  <tbody>\n",
       "    <tr>\n",
       "      <th>0</th>\n",
       "      <td>2.0</td>\n",
       "      <td>1056.0</td>\n",
       "      <td>2.0</td>\n",
       "      <td>1.0</td>\n",
       "    </tr>\n",
       "    <tr>\n",
       "      <th>1</th>\n",
       "      <td>4.0</td>\n",
       "      <td>2600.0</td>\n",
       "      <td>5.0</td>\n",
       "      <td>3.0</td>\n",
       "    </tr>\n",
       "    <tr>\n",
       "      <th>2</th>\n",
       "      <td>3.0</td>\n",
       "      <td>1440.0</td>\n",
       "      <td>2.0</td>\n",
       "      <td>3.0</td>\n",
       "    </tr>\n",
       "    <tr>\n",
       "      <th>3</th>\n",
       "      <td>3.0</td>\n",
       "      <td>1521.0</td>\n",
       "      <td>3.0</td>\n",
       "      <td>1.0</td>\n",
       "    </tr>\n",
       "    <tr>\n",
       "      <th>4</th>\n",
       "      <td>2.0</td>\n",
       "      <td>1200.0</td>\n",
       "      <td>2.0</td>\n",
       "      <td>1.0</td>\n",
       "    </tr>\n",
       "  </tbody>\n",
       "</table>\n",
       "</div>"
      ],
      "text/plain": [
       "   bhk  total_sqft  bath  balcony\n",
       "0  2.0      1056.0   2.0      1.0\n",
       "1  4.0      2600.0   5.0      3.0\n",
       "2  3.0      1440.0   2.0      3.0\n",
       "3  3.0      1521.0   3.0      1.0\n",
       "4  2.0      1200.0   2.0      1.0"
      ]
     },
     "execution_count": 333,
     "metadata": {},
     "output_type": "execute_result"
    }
   ],
   "source": [
    "X_train.head()"
   ]
  },
  {
   "cell_type": "code",
   "execution_count": 306,
   "id": "3fd71a57",
   "metadata": {},
   "outputs": [],
   "source": [
    "lm = sm.OLS(y_train,X_train).fit()\n",
    "y_train_price = lm.predict(X_train)"
   ]
  },
  {
   "cell_type": "code",
   "execution_count": 307,
   "id": "930271d2",
   "metadata": {},
   "outputs": [
    {
     "data": {
      "text/plain": [
       "Text(0.5, 0, 'Errors')"
      ]
     },
     "execution_count": 307,
     "metadata": {},
     "output_type": "execute_result"
    },
    {
     "data": {
      "image/png": "[encoded data removed]",
      "text/plain": [
       "<Figure size 640x480 with 1 Axes>"
      ]
     },
     "metadata": {},
     "output_type": "display_data"
    }
   ],
   "source": [
    "# Plot the histogram of the error terms\n",
    "fig = plt.figure()\n",
    "sns.distplot((y_train - y_train_price), bins = 20)\n",
    "fig.suptitle('Error Terms', fontsize = 20)                  # Plot heading \n",
    "plt.xlabel('Errors', fontsize = 18)   "
   ]
  },
  {
   "cell_type": "code",
   "execution_count": 339,
   "id": "6ab728c3",
   "metadata": {},
   "outputs": [
    {
     "data": {
      "text/html": [
       "<div>\n",
       "<style scoped>\n",
       "    .dataframe tbody tr th:only-of-type {\n",
       "        vertical-align: middle;\n",
       "    }\n",
       "\n",
       "    .dataframe tbody tr th {\n",
       "        vertical-align: top;\n",
       "    }\n",
       "\n",
       "    .dataframe thead th {\n",
       "        text-align: right;\n",
       "    }\n",
       "</style>\n",
       "<table border=\"1\" class=\"dataframe\">\n",
       "  <thead>\n",
       "    <tr style=\"text-align: right;\">\n",
       "      <th></th>\n",
       "      <th>ID</th>\n",
       "      <th>area_type</th>\n",
       "      <th>availability</th>\n",
       "      <th>location</th>\n",
       "      <th>size</th>\n",
       "      <th>society</th>\n",
       "      <th>total_sqft</th>\n",
       "      <th>bath</th>\n",
       "      <th>balcony</th>\n",
       "    </tr>\n",
       "  </thead>\n",
       "  <tbody>\n",
       "    <tr>\n",
       "      <th>0</th>\n",
       "      <td>0</td>\n",
       "      <td>Super built-up  Area</td>\n",
       "      <td>Ready To Move</td>\n",
       "      <td>Chamrajpet</td>\n",
       "      <td>2 BHK</td>\n",
       "      <td>NaN</td>\n",
       "      <td>650</td>\n",
       "      <td>1.0</td>\n",
       "      <td>1.0</td>\n",
       "    </tr>\n",
       "    <tr>\n",
       "      <th>1</th>\n",
       "      <td>1</td>\n",
       "      <td>Super built-up  Area</td>\n",
       "      <td>Ready To Move</td>\n",
       "      <td>7th Phase JP Nagar</td>\n",
       "      <td>3 BHK</td>\n",
       "      <td>SrncyRe</td>\n",
       "      <td>1370</td>\n",
       "      <td>2.0</td>\n",
       "      <td>1.0</td>\n",
       "    </tr>\n",
       "    <tr>\n",
       "      <th>2</th>\n",
       "      <td>2</td>\n",
       "      <td>Super built-up  Area</td>\n",
       "      <td>Ready To Move</td>\n",
       "      <td>Whitefield</td>\n",
       "      <td>3 BHK</td>\n",
       "      <td>AjhalNa</td>\n",
       "      <td>1725</td>\n",
       "      <td>3.0</td>\n",
       "      <td>2.0</td>\n",
       "    </tr>\n",
       "    <tr>\n",
       "      <th>3</th>\n",
       "      <td>3</td>\n",
       "      <td>Built-up  Area</td>\n",
       "      <td>Ready To Move</td>\n",
       "      <td>Jalahalli</td>\n",
       "      <td>2 BHK</td>\n",
       "      <td>NaN</td>\n",
       "      <td>1000</td>\n",
       "      <td>2.0</td>\n",
       "      <td>0.0</td>\n",
       "    </tr>\n",
       "    <tr>\n",
       "      <th>4</th>\n",
       "      <td>4</td>\n",
       "      <td>Plot  Area</td>\n",
       "      <td>Ready To Move</td>\n",
       "      <td>TC Palaya</td>\n",
       "      <td>1 Bedroom</td>\n",
       "      <td>NaN</td>\n",
       "      <td>1350</td>\n",
       "      <td>1.0</td>\n",
       "      <td>0.0</td>\n",
       "    </tr>\n",
       "  </tbody>\n",
       "</table>\n",
       "</div>"
      ],
      "text/plain": [
       "   ID             area_type   availability            location       size  \\\n",
       "0   0  Super built-up  Area  Ready To Move          Chamrajpet      2 BHK   \n",
       "1   1  Super built-up  Area  Ready To Move  7th Phase JP Nagar      3 BHK   \n",
       "2   2  Super built-up  Area  Ready To Move          Whitefield      3 BHK   \n",
       "3   3        Built-up  Area  Ready To Move           Jalahalli      2 BHK   \n",
       "4   4            Plot  Area  Ready To Move           TC Palaya  1 Bedroom   \n",
       "\n",
       "   society total_sqft  bath  balcony  \n",
       "0      NaN        650   1.0      1.0  \n",
       "1  SrncyRe       1370   2.0      1.0  \n",
       "2  AjhalNa       1725   3.0      2.0  \n",
       "3      NaN       1000   2.0      0.0  \n",
       "4      NaN       1350   1.0      0.0  "
      ]
     },
     "execution_count": 339,
     "metadata": {},
     "output_type": "execute_result"
    }
   ],
   "source": [
    "#Predicting the price\n",
    "test_df = pd.read_csv(\"test_(2)_(1).csv\")\n",
    "test_df.head()"
   ]
  },
  {
   "cell_type": "code",
   "execution_count": 340,
   "id": "ca52a082",
   "metadata": {},
   "outputs": [
    {
     "name": "stderr",
     "output_type": "stream",
     "text": [
      "C:\\Users\\priya\\anaconda3\\envs\\AlgoTrading\\Lib\\site-packages\\pandas\\core\\dtypes\\common.py:1636: DeprecationWarning: Converting `np.inexact` or `np.floating` to a dtype is deprecated. The current result is `float64` which is not strictly correct.\n",
      "  npdtype = np.dtype(dtype)\n"
     ]
    },
    {
     "data": {
      "text/html": [
       "<div>\n",
       "<style scoped>\n",
       "    .dataframe tbody tr th:only-of-type {\n",
       "        vertical-align: middle;\n",
       "    }\n",
       "\n",
       "    .dataframe tbody tr th {\n",
       "        vertical-align: top;\n",
       "    }\n",
       "\n",
       "    .dataframe thead th {\n",
       "        text-align: right;\n",
       "    }\n",
       "</style>\n",
       "<table border=\"1\" class=\"dataframe\">\n",
       "  <thead>\n",
       "    <tr style=\"text-align: right;\">\n",
       "      <th></th>\n",
       "      <th>ID</th>\n",
       "      <th>area_type</th>\n",
       "      <th>availability</th>\n",
       "      <th>location</th>\n",
       "      <th>size</th>\n",
       "      <th>society</th>\n",
       "      <th>total_sqft</th>\n",
       "      <th>bath</th>\n",
       "      <th>balcony</th>\n",
       "      <th>bhk</th>\n",
       "    </tr>\n",
       "  </thead>\n",
       "  <tbody>\n",
       "    <tr>\n",
       "      <th>0</th>\n",
       "      <td>0</td>\n",
       "      <td>Super built-up  Area</td>\n",
       "      <td>Ready To Move</td>\n",
       "      <td>Chamrajpet</td>\n",
       "      <td>2 BHK</td>\n",
       "      <td>NaN</td>\n",
       "      <td>650</td>\n",
       "      <td>1.0</td>\n",
       "      <td>1.0</td>\n",
       "      <td>2.0</td>\n",
       "    </tr>\n",
       "    <tr>\n",
       "      <th>1</th>\n",
       "      <td>1</td>\n",
       "      <td>Super built-up  Area</td>\n",
       "      <td>Ready To Move</td>\n",
       "      <td>7th Phase JP Nagar</td>\n",
       "      <td>3 BHK</td>\n",
       "      <td>SrncyRe</td>\n",
       "      <td>1370</td>\n",
       "      <td>2.0</td>\n",
       "      <td>1.0</td>\n",
       "      <td>4.0</td>\n",
       "    </tr>\n",
       "    <tr>\n",
       "      <th>2</th>\n",
       "      <td>2</td>\n",
       "      <td>Super built-up  Area</td>\n",
       "      <td>Ready To Move</td>\n",
       "      <td>Whitefield</td>\n",
       "      <td>3 BHK</td>\n",
       "      <td>AjhalNa</td>\n",
       "      <td>1725</td>\n",
       "      <td>3.0</td>\n",
       "      <td>2.0</td>\n",
       "      <td>3.0</td>\n",
       "    </tr>\n",
       "    <tr>\n",
       "      <th>3</th>\n",
       "      <td>3</td>\n",
       "      <td>Built-up  Area</td>\n",
       "      <td>Ready To Move</td>\n",
       "      <td>Jalahalli</td>\n",
       "      <td>2 BHK</td>\n",
       "      <td>NaN</td>\n",
       "      <td>1000</td>\n",
       "      <td>2.0</td>\n",
       "      <td>0.0</td>\n",
       "      <td>3.0</td>\n",
       "    </tr>\n",
       "    <tr>\n",
       "      <th>4</th>\n",
       "      <td>4</td>\n",
       "      <td>Plot  Area</td>\n",
       "      <td>Ready To Move</td>\n",
       "      <td>TC Palaya</td>\n",
       "      <td>1 Bedroom</td>\n",
       "      <td>NaN</td>\n",
       "      <td>1350</td>\n",
       "      <td>1.0</td>\n",
       "      <td>0.0</td>\n",
       "      <td>2.0</td>\n",
       "    </tr>\n",
       "  </tbody>\n",
       "</table>\n",
       "</div>"
      ],
      "text/plain": [
       "   ID             area_type   availability            location       size  \\\n",
       "0   0  Super built-up  Area  Ready To Move          Chamrajpet      2 BHK   \n",
       "1   1  Super built-up  Area  Ready To Move  7th Phase JP Nagar      3 BHK   \n",
       "2   2  Super built-up  Area  Ready To Move          Whitefield      3 BHK   \n",
       "3   3        Built-up  Area  Ready To Move           Jalahalli      2 BHK   \n",
       "4   4            Plot  Area  Ready To Move           TC Palaya  1 Bedroom   \n",
       "\n",
       "   society total_sqft  bath  balcony  bhk  \n",
       "0      NaN        650   1.0      1.0  2.0  \n",
       "1  SrncyRe       1370   2.0      1.0  4.0  \n",
       "2  AjhalNa       1725   3.0      2.0  3.0  \n",
       "3      NaN       1000   2.0      0.0  3.0  \n",
       "4      NaN       1350   1.0      0.0  2.0  "
      ]
     },
     "execution_count": 340,
     "metadata": {},
     "output_type": "execute_result"
    }
   ],
   "source": [
    "test_df['bhk'] = full_merged_df[\"size\"].str.extract('(\\d+)')\n",
    "test_df['bhk'] = test_df[\"bhk\"].astype(np.number)\n",
    "test_df.head()\n"
   ]
  },
  {
   "cell_type": "code",
   "execution_count": 341,
   "id": "fc31907c",
   "metadata": {},
   "outputs": [],
   "source": [
    "#Missing Value identification and imputation\n",
    "test_df.balcony.fillna(0, inplace=True)"
   ]
  },
  {
   "cell_type": "code",
   "execution_count": 342,
   "id": "7f59f5ba",
   "metadata": {},
   "outputs": [
    {
     "data": {
      "text/plain": [
       "ID                 0\n",
       "area_type          0\n",
       "availability       0\n",
       "location           0\n",
       "size               2\n",
       "society         1074\n",
       "total_sqft         0\n",
       "bath               8\n",
       "balcony            0\n",
       "bhk                3\n",
       "dtype: int64"
      ]
     },
     "execution_count": 342,
     "metadata": {},
     "output_type": "execute_result"
    }
   ],
   "source": [
    "test_df.isnull().sum()"
   ]
  },
  {
   "cell_type": "code",
   "execution_count": 343,
   "id": "9e32b763",
   "metadata": {},
   "outputs": [],
   "source": [
    "test_df = test_df[[\"ID\", \"bhk\", \"total_sqft\", \"bath\", \"balcony\"]]"
   ]
  },
  {
   "cell_type": "code",
   "execution_count": 344,
   "id": "3c428a88",
   "metadata": {},
   "outputs": [
    {
     "data": {
      "text/html": [
       "<div>\n",
       "<style scoped>\n",
       "    .dataframe tbody tr th:only-of-type {\n",
       "        vertical-align: middle;\n",
       "    }\n",
       "\n",
       "    .dataframe tbody tr th {\n",
       "        vertical-align: top;\n",
       "    }\n",
       "\n",
       "    .dataframe thead th {\n",
       "        text-align: right;\n",
       "    }\n",
       "</style>\n",
       "<table border=\"1\" class=\"dataframe\">\n",
       "  <thead>\n",
       "    <tr style=\"text-align: right;\">\n",
       "      <th></th>\n",
       "      <th>ID</th>\n",
       "      <th>bhk</th>\n",
       "      <th>total_sqft</th>\n",
       "      <th>bath</th>\n",
       "      <th>balcony</th>\n",
       "    </tr>\n",
       "  </thead>\n",
       "  <tbody>\n",
       "    <tr>\n",
       "      <th>0</th>\n",
       "      <td>0</td>\n",
       "      <td>2.0</td>\n",
       "      <td>650</td>\n",
       "      <td>1.0</td>\n",
       "      <td>1.0</td>\n",
       "    </tr>\n",
       "    <tr>\n",
       "      <th>1</th>\n",
       "      <td>1</td>\n",
       "      <td>4.0</td>\n",
       "      <td>1370</td>\n",
       "      <td>2.0</td>\n",
       "      <td>1.0</td>\n",
       "    </tr>\n",
       "    <tr>\n",
       "      <th>2</th>\n",
       "      <td>2</td>\n",
       "      <td>3.0</td>\n",
       "      <td>1725</td>\n",
       "      <td>3.0</td>\n",
       "      <td>2.0</td>\n",
       "    </tr>\n",
       "    <tr>\n",
       "      <th>3</th>\n",
       "      <td>3</td>\n",
       "      <td>3.0</td>\n",
       "      <td>1000</td>\n",
       "      <td>2.0</td>\n",
       "      <td>0.0</td>\n",
       "    </tr>\n",
       "    <tr>\n",
       "      <th>4</th>\n",
       "      <td>4</td>\n",
       "      <td>2.0</td>\n",
       "      <td>1350</td>\n",
       "      <td>1.0</td>\n",
       "      <td>0.0</td>\n",
       "    </tr>\n",
       "  </tbody>\n",
       "</table>\n",
       "</div>"
      ],
      "text/plain": [
       "   ID  bhk total_sqft  bath  balcony\n",
       "0   0  2.0        650   1.0      1.0\n",
       "1   1  4.0       1370   2.0      1.0\n",
       "2   2  3.0       1725   3.0      2.0\n",
       "3   3  3.0       1000   2.0      0.0\n",
       "4   4  2.0       1350   1.0      0.0"
      ]
     },
     "execution_count": 344,
     "metadata": {},
     "output_type": "execute_result"
    }
   ],
   "source": [
    "test_df.head()"
   ]
  },
  {
   "cell_type": "code",
   "execution_count": 345,
   "id": "97b14136",
   "metadata": {},
   "outputs": [
    {
     "data": {
      "text/plain": [
       "value \n",
       "Meter     2\n",
       "Yards     2\n",
       "Acres     1\n",
       "Guntha    1\n",
       "Name: count, dtype: int64"
      ]
     },
     "execution_count": 345,
     "metadata": {},
     "output_type": "execute_result"
    }
   ],
   "source": [
    "temp = test_df.total_sqft.str.extract(r'([a-zA-Z]+\\w+[a-zA-Z]+)')\n",
    "temp.rename(columns={0:\"value\"}, inplace=True)\n",
    "temp.value_counts()"
   ]
  },
  {
   "cell_type": "code",
   "execution_count": 347,
   "id": "a0932284",
   "metadata": {},
   "outputs": [
    {
     "name": "stdout",
     "output_type": "stream",
     "text": [
      "896.9 896\n",
      "660 - 780 660\n",
      "1419.59 1419\n",
      "1618 - 1929 1618\n",
      "1626.6 1626\n",
      "1150 - 1194 1150\n",
      "684 - 810 684\n",
      "866.28 866\n",
      "1584.01 1584\n",
      "1200 - 1800 1200\n",
      "1510 - 1670 1510\n",
      "1248.52 1248\n",
      "1370.07 1370\n",
      "1550 - 1590 1550\n",
      "777.4 777\n",
      "1752.12 1752\n",
      "1777.26 1777\n",
      "1235 - 1410 1235\n",
      "3484 - 3550 3484\n",
      "1139.7 1139\n",
      "38Guntha 38\n",
      "1107.83 1107\n",
      "929 - 1078 929\n",
      "2150 - 2225 2150\n",
      "1520 - 1759 1520\n",
      "2580 - 2591 2580\n",
      "629 - 1026 629\n",
      "1215 - 1495 1215\n",
      "6Acres 6\n",
      "1140 - 1250 1140\n",
      "2400 - 2600 2400\n",
      "1052 - 1322 1052\n",
      "5666 - 5669 5666\n",
      "2162.03 2162\n",
      "620 - 934 620\n",
      "2999.97 2999\n",
      "1950.2 1950\n",
      "712 - 938 712\n",
      "2171.66 2171\n",
      "1783 - 1878 1783\n",
      "120Sq. Yards 120\n",
      "1950.2 1950\n",
      "24Sq. Meter 24\n",
      "2528 - 3188 2528\n",
      "1623.29 1623\n",
      "650 - 760 650\n",
      "1400 - 1421 1400\n",
      "4000 - 4450 4000\n",
      "2087.01 2087\n",
      "142.84Sq. Meter 142\n",
      "300Sq. Yards 300\n",
      "2777.29 2777\n",
      "1115 - 1130 1115\n",
      "1932.47 1932\n",
      "2204 - 2362 2204\n",
      "1437 - 1629 1437\n",
      "850 - 1060 850\n",
      "1804 - 2273 1804\n",
      "1200 - 1470 1200\n",
      "5665.84 5665\n",
      "1331.95 1331\n",
      "1020 - 1130 1020\n",
      "1133 - 1384 1133\n",
      "2830 - 2882 2830\n"
     ]
    }
   ],
   "source": [
    "convert_total_sqft(test_df)\n",
    "test_df['total_sqft'] = test_df['total_sqft'].astype(np.float64, copy=False)"
   ]
  },
  {
   "cell_type": "code",
   "execution_count": 348,
   "id": "f06ad5b8",
   "metadata": {},
   "outputs": [
    {
     "data": {
      "text/html": [
       "<div>\n",
       "<style scoped>\n",
       "    .dataframe tbody tr th:only-of-type {\n",
       "        vertical-align: middle;\n",
       "    }\n",
       "\n",
       "    .dataframe tbody tr th {\n",
       "        vertical-align: top;\n",
       "    }\n",
       "\n",
       "    .dataframe thead th {\n",
       "        text-align: right;\n",
       "    }\n",
       "</style>\n",
       "<table border=\"1\" class=\"dataframe\">\n",
       "  <thead>\n",
       "    <tr style=\"text-align: right;\">\n",
       "      <th></th>\n",
       "      <th>bhk</th>\n",
       "      <th>total_sqft</th>\n",
       "      <th>bath</th>\n",
       "      <th>balcony</th>\n",
       "    </tr>\n",
       "  </thead>\n",
       "  <tbody>\n",
       "    <tr>\n",
       "      <th>0</th>\n",
       "      <td>2.0</td>\n",
       "      <td>1056.0</td>\n",
       "      <td>2.0</td>\n",
       "      <td>1.0</td>\n",
       "    </tr>\n",
       "    <tr>\n",
       "      <th>1</th>\n",
       "      <td>4.0</td>\n",
       "      <td>2600.0</td>\n",
       "      <td>5.0</td>\n",
       "      <td>3.0</td>\n",
       "    </tr>\n",
       "    <tr>\n",
       "      <th>2</th>\n",
       "      <td>3.0</td>\n",
       "      <td>1440.0</td>\n",
       "      <td>2.0</td>\n",
       "      <td>3.0</td>\n",
       "    </tr>\n",
       "    <tr>\n",
       "      <th>3</th>\n",
       "      <td>3.0</td>\n",
       "      <td>1521.0</td>\n",
       "      <td>3.0</td>\n",
       "      <td>1.0</td>\n",
       "    </tr>\n",
       "    <tr>\n",
       "      <th>4</th>\n",
       "      <td>2.0</td>\n",
       "      <td>1200.0</td>\n",
       "      <td>2.0</td>\n",
       "      <td>1.0</td>\n",
       "    </tr>\n",
       "  </tbody>\n",
       "</table>\n",
       "</div>"
      ],
      "text/plain": [
       "   bhk  total_sqft  bath  balcony\n",
       "0  2.0      1056.0   2.0      1.0\n",
       "1  4.0      2600.0   5.0      3.0\n",
       "2  3.0      1440.0   2.0      3.0\n",
       "3  3.0      1521.0   3.0      1.0\n",
       "4  2.0      1200.0   2.0      1.0"
      ]
     },
     "execution_count": 348,
     "metadata": {},
     "output_type": "execute_result"
    }
   ],
   "source": [
    "reduced_col.head()"
   ]
  },
  {
   "cell_type": "code",
   "execution_count": 349,
   "id": "407afadd",
   "metadata": {},
   "outputs": [
    {
     "name": "stdout",
     "output_type": "stream",
     "text": [
      "ID            0\n",
      "bhk           0\n",
      "total_sqft    0\n",
      "bath          8\n",
      "balcony       0\n",
      "dtype: int64\n"
     ]
    },
    {
     "data": {
      "text/plain": [
       "ID            0\n",
       "bhk           0\n",
       "total_sqft    0\n",
       "bath          8\n",
       "balcony       0\n",
       "dtype: int64"
      ]
     },
     "execution_count": 349,
     "metadata": {},
     "output_type": "execute_result"
    }
   ],
   "source": [
    "def fill_missing_bhk_test(df, ref_df):\n",
    "    df.fillna(np.nan, inplace=True)\n",
    "    ref_bhk = ref_df[[\"total_sqft\", \"bhk\"]].groupby(pd.cut(ref_df['total_sqft'], bins=np.arange(0,200000,100), include_lowest=True), observed=False).median()\n",
    "    \n",
    "    bhk_is_null = df[\"bhk\"].isnull()\n",
    "    bath_is_null = df[\"bath\"].isnull()\n",
    "    #print(df.shape, bhk_is_null.shape)\n",
    "    for idx in range(df.shape[0]):\n",
    "        #print(df.iloc[idx])\n",
    "        if(bhk_is_null[idx] == True):\n",
    "            #print(\"Found bhk is Null\")\n",
    "            #print(df.iloc[idx])\n",
    "            if(bath_is_null[idx] != True):\n",
    "                df.iloc[idx, df.columns.get_loc('bhk')] = df.iloc[idx, df.columns.get_loc('bath')]\n",
    "                #print(\"Setting bath as bhk\", df.iloc[idx, df.columns.get_loc('bath')])\n",
    "            else:\n",
    "                sqft = df.iloc[idx, df.columns.get_loc('total_sqft')]\n",
    "                df.iloc[idx, df.columns.get_loc('bhk')] = ref_bhk.loc[sqft][\"bhk\"]\n",
    "                #print(\"Setting %d as bhk\" %(ref_bhk.loc[sqft][\"bhk\"]))\n",
    "    print(df.isnull().sum())\n",
    "fill_missing_bhk_test(test_df, reduced_col)\n",
    "test_df.isnull().sum()"
   ]
  },
  {
   "cell_type": "code",
   "execution_count": 350,
   "id": "6bfc26b2",
   "metadata": {},
   "outputs": [
    {
     "name": "stdout",
     "output_type": "stream",
     "text": [
      "ID            0\n",
      "bhk           0\n",
      "total_sqft    0\n",
      "bath          0\n",
      "balcony       0\n",
      "dtype: int64\n"
     ]
    },
    {
     "data": {
      "text/plain": [
       "ID            0\n",
       "bhk           0\n",
       "total_sqft    0\n",
       "bath          0\n",
       "balcony       0\n",
       "dtype: int64"
      ]
     },
     "execution_count": 350,
     "metadata": {},
     "output_type": "execute_result"
    }
   ],
   "source": [
    "fill_missing_bath(test_df)\n",
    "test_df.isnull().sum()"
   ]
  },
  {
   "cell_type": "code",
   "execution_count": 351,
   "id": "ac2311c2",
   "metadata": {},
   "outputs": [
    {
     "data": {
      "text/html": [
       "<div>\n",
       "<style scoped>\n",
       "    .dataframe tbody tr th:only-of-type {\n",
       "        vertical-align: middle;\n",
       "    }\n",
       "\n",
       "    .dataframe tbody tr th {\n",
       "        vertical-align: top;\n",
       "    }\n",
       "\n",
       "    .dataframe thead th {\n",
       "        text-align: right;\n",
       "    }\n",
       "</style>\n",
       "<table border=\"1\" class=\"dataframe\">\n",
       "  <thead>\n",
       "    <tr style=\"text-align: right;\">\n",
       "      <th></th>\n",
       "      <th>ID</th>\n",
       "      <th>bhk</th>\n",
       "      <th>total_sqft</th>\n",
       "      <th>bath</th>\n",
       "      <th>balcony</th>\n",
       "    </tr>\n",
       "  </thead>\n",
       "  <tbody>\n",
       "    <tr>\n",
       "      <th>0</th>\n",
       "      <td>0</td>\n",
       "      <td>2.0</td>\n",
       "      <td>650.0</td>\n",
       "      <td>1.0</td>\n",
       "      <td>1.0</td>\n",
       "    </tr>\n",
       "    <tr>\n",
       "      <th>1</th>\n",
       "      <td>1</td>\n",
       "      <td>4.0</td>\n",
       "      <td>1370.0</td>\n",
       "      <td>2.0</td>\n",
       "      <td>1.0</td>\n",
       "    </tr>\n",
       "    <tr>\n",
       "      <th>2</th>\n",
       "      <td>2</td>\n",
       "      <td>3.0</td>\n",
       "      <td>1725.0</td>\n",
       "      <td>3.0</td>\n",
       "      <td>2.0</td>\n",
       "    </tr>\n",
       "    <tr>\n",
       "      <th>3</th>\n",
       "      <td>3</td>\n",
       "      <td>3.0</td>\n",
       "      <td>1000.0</td>\n",
       "      <td>2.0</td>\n",
       "      <td>0.0</td>\n",
       "    </tr>\n",
       "    <tr>\n",
       "      <th>4</th>\n",
       "      <td>4</td>\n",
       "      <td>2.0</td>\n",
       "      <td>1350.0</td>\n",
       "      <td>1.0</td>\n",
       "      <td>0.0</td>\n",
       "    </tr>\n",
       "  </tbody>\n",
       "</table>\n",
       "</div>"
      ],
      "text/plain": [
       "   ID  bhk  total_sqft  bath  balcony\n",
       "0   0  2.0       650.0   1.0      1.0\n",
       "1   1  4.0      1370.0   2.0      1.0\n",
       "2   2  3.0      1725.0   3.0      2.0\n",
       "3   3  3.0      1000.0   2.0      0.0\n",
       "4   4  2.0      1350.0   1.0      0.0"
      ]
     },
     "execution_count": 351,
     "metadata": {},
     "output_type": "execute_result"
    }
   ],
   "source": [
    "test_df.head()"
   ]
  },
  {
   "cell_type": "code",
   "execution_count": 352,
   "id": "ea3b136a",
   "metadata": {},
   "outputs": [],
   "source": [
    "copy_test = test_df.copy()"
   ]
  },
  {
   "cell_type": "code",
   "execution_count": 353,
   "id": "8161d633",
   "metadata": {},
   "outputs": [],
   "source": [
    "test_df.drop(\"ID\", axis=1,inplace=True)"
   ]
  },
  {
   "cell_type": "code",
   "execution_count": 354,
   "id": "3c5302d0",
   "metadata": {},
   "outputs": [],
   "source": [
    "X_test = test_df"
   ]
  },
  {
   "cell_type": "code",
   "execution_count": 355,
   "id": "269f678c",
   "metadata": {},
   "outputs": [
    {
     "name": "stdout",
     "output_type": "stream",
     "text": [
      "<class 'pandas.core.frame.DataFrame'>\n",
      "RangeIndex: 2664 entries, 0 to 2663\n",
      "Data columns (total 4 columns):\n",
      " #   Column      Non-Null Count  Dtype  \n",
      "---  ------      --------------  -----  \n",
      " 0   bhk         2664 non-null   float64\n",
      " 1   total_sqft  2664 non-null   float64\n",
      " 2   bath        2664 non-null   float64\n",
      " 3   balcony     2664 non-null   float64\n",
      "dtypes: float64(4)\n",
      "memory usage: 83.4 KB\n"
     ]
    }
   ],
   "source": [
    "X_test.info()"
   ]
  },
  {
   "cell_type": "code",
   "execution_count": 356,
   "id": "fec6aa25",
   "metadata": {},
   "outputs": [],
   "source": [
    "y_pred = lm.predict(X_test)"
   ]
  },
  {
   "cell_type": "code",
   "execution_count": 357,
   "id": "623f29e7",
   "metadata": {},
   "outputs": [
    {
     "data": {
      "text/plain": [
       "0        32.330379\n",
       "1        69.327483\n",
       "2       126.305779\n",
       "3        82.106786\n",
       "4        37.187751\n",
       "           ...    \n",
       "2659    197.636190\n",
       "2660    234.459895\n",
       "2661     85.749643\n",
       "2662    176.873222\n",
       "2663     15.808659\n",
       "Length: 2664, dtype: float64"
      ]
     },
     "execution_count": 357,
     "metadata": {},
     "output_type": "execute_result"
    }
   ],
   "source": [
    "y_pred"
   ]
  },
  {
   "cell_type": "code",
   "execution_count": 359,
   "id": "c6861a14",
   "metadata": {},
   "outputs": [
    {
     "name": "stdout",
     "output_type": "stream",
     "text": [
      "None\n"
     ]
    }
   ],
   "source": [
    "print(id_)"
   ]
  },
  {
   "cell_type": "code",
   "execution_count": 360,
   "id": "46e980e5",
   "metadata": {},
   "outputs": [
    {
     "name": "stdout",
     "output_type": "stream",
     "text": [
      "(2664, 4)\n"
     ]
    }
   ],
   "source": [
    "print(test_df.shape)"
   ]
  },
  {
   "cell_type": "code",
   "execution_count": 361,
   "id": "fc1b9a2f",
   "metadata": {},
   "outputs": [
    {
     "name": "stdout",
     "output_type": "stream",
     "text": [
      "<class 'pandas.core.frame.DataFrame'>\n",
      "RangeIndex: 2664 entries, 0 to 2663\n",
      "Data columns (total 5 columns):\n",
      " #   Column      Non-Null Count  Dtype  \n",
      "---  ------      --------------  -----  \n",
      " 0   bhk         2664 non-null   float64\n",
      " 1   total_sqft  2664 non-null   float64\n",
      " 2   bath        2664 non-null   float64\n",
      " 3   balcony     2664 non-null   float64\n",
      " 4   price       2664 non-null   float64\n",
      "dtypes: float64(5)\n",
      "memory usage: 104.2 KB\n"
     ]
    }
   ],
   "source": [
    "test_df[\"price\"] = y_pred\n",
    "test_df.info()"
   ]
  },
  {
   "cell_type": "code",
   "execution_count": 363,
   "id": "8b272854",
   "metadata": {},
   "outputs": [
    {
     "data": {
      "text/html": [
       "<div>\n",
       "<style scoped>\n",
       "    .dataframe tbody tr th:only-of-type {\n",
       "        vertical-align: middle;\n",
       "    }\n",
       "\n",
       "    .dataframe tbody tr th {\n",
       "        vertical-align: top;\n",
       "    }\n",
       "\n",
       "    .dataframe thead th {\n",
       "        text-align: right;\n",
       "    }\n",
       "</style>\n",
       "<table border=\"1\" class=\"dataframe\">\n",
       "  <thead>\n",
       "    <tr style=\"text-align: right;\">\n",
       "      <th></th>\n",
       "      <th>ID</th>\n",
       "      <th>price</th>\n",
       "    </tr>\n",
       "  </thead>\n",
       "  <tbody>\n",
       "    <tr>\n",
       "      <th>0</th>\n",
       "      <td>0</td>\n",
       "      <td>32.330379</td>\n",
       "    </tr>\n",
       "    <tr>\n",
       "      <th>1</th>\n",
       "      <td>1</td>\n",
       "      <td>69.327483</td>\n",
       "    </tr>\n",
       "    <tr>\n",
       "      <th>2</th>\n",
       "      <td>2</td>\n",
       "      <td>126.305779</td>\n",
       "    </tr>\n",
       "    <tr>\n",
       "      <th>3</th>\n",
       "      <td>3</td>\n",
       "      <td>82.106786</td>\n",
       "    </tr>\n",
       "    <tr>\n",
       "      <th>4</th>\n",
       "      <td>4</td>\n",
       "      <td>37.187751</td>\n",
       "    </tr>\n",
       "  </tbody>\n",
       "</table>\n",
       "</div>"
      ],
      "text/plain": [
       "   ID       price\n",
       "0   0   32.330379\n",
       "1   1   69.327483\n",
       "2   2  126.305779\n",
       "3   3   82.106786\n",
       "4   4   37.187751"
      ]
     },
     "execution_count": 363,
     "metadata": {},
     "output_type": "execute_result"
    }
   ],
   "source": [
    "output = pd.read_csv(\"test_(2)_(1).csv\")\n",
    "output[\"price\"] = y_pred\n",
    "output=output[[\"ID\", \"price\"]]\n",
    "output.head()"
   ]
  },
  {
   "cell_type": "code",
   "execution_count": 364,
   "id": "642d9a97",
   "metadata": {},
   "outputs": [],
   "source": [
    "output.to_csv(\"FirstIteration.csv\")"
   ]
  },
  {
   "cell_type": "code",
   "execution_count": null,
   "id": "426fb92e",
   "metadata": {},
   "outputs": [],
   "source": []
  }
 ],
 "metadata": {
  "kernelspec": {
   "display_name": "Python 3 (ipykernel)",
   "language": "python",
   "name": "python3"
  },
  "language_info": {
   "codemirror_mode": {
    "name": "ipython",
    "version": 3
   },
   "file_extension": ".py",
   "mimetype": "text/x-python",
   "name": "python",
   "nbconvert_exporter": "python",
   "pygments_lexer": "ipython3",
   "version": "3.11.7"
  }
 },
 "nbformat": 4,
 "nbformat_minor": 5
}
