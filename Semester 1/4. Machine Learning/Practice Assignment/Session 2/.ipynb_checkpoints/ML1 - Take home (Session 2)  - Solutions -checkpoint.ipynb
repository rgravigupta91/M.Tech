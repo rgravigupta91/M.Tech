{
 "cells": [
  {
   "cell_type": "markdown",
   "metadata": {
    "colab_type": "text",
    "id": "DIZFQY7_nT0u"
   },
   "source": [
    "<table align=\"center\" width=100%>\n",
    "    <tr>\n",
    "        <td width=\"15%\">\n",
    "            <img src=\"homework.png\">\n",
    "        </td>\n",
    "        <td>\n",
    "            <div align=\"center\">\n",
    "                <font color=\"#21618C\" size=8px>\n",
    "                    <b> Take-Home <br>(Session 2) \n",
    "                    </b>\n",
    "                </font>\n",
    "            </div>\n",
    "        </td>\n",
    "    </tr>\n",
    "</table>"
   ]
  },
  {
   "cell_type": "markdown",
   "metadata": {
    "colab_type": "text",
    "id": "CzVZirmxnT0x"
   },
   "source": [
    "### Import the required libraries"
   ]
  },
  {
   "cell_type": "code",
   "execution_count": null,
   "metadata": {
    "colab": {},
    "colab_type": "code",
    "id": "kT14u0OsnT0x"
   },
   "outputs": [],
   "source": [
    "# import 'Pandas' \n",
    "import pandas as pd \n",
    "\n",
    "# import 'Numpy' \n",
    "import numpy as np\n",
    "\n",
    "# 'Statsmodels' is used to build and analyze various statistical models\n",
    "import statsmodels\n",
    "import statsmodels.api as sm\n",
    "from statsmodels.stats.outliers_influence import variance_inflation_factor\n",
    "from statsmodels.formula.api import ols\n",
    "from statsmodels.stats.anova import anova_lm\n",
    "from statsmodels.tools.eval_measures import rmse\n",
    "\n",
    "# import various metrics from 'Scikit-learn' (sklearn)\n",
    "from sklearn.model_selection import train_test_split\n",
    "\n",
    "# to set the digits after decimal place \n",
    "pd.options.display.float_format = '{:.5f}'.format\n",
    "\n",
    "# suppress warnings \n",
    "from warnings import filterwarnings\n",
    "filterwarnings('ignore')"
   ]
  },
  {
   "cell_type": "markdown",
   "metadata": {
    "colab_type": "text",
    "id": "hmWZfn_YnT01"
   },
   "source": [
    "#### Read the data\n",
    "\n",
    "Load the csv file and set the first column as index"
   ]
  },
  {
   "cell_type": "code",
   "execution_count": null,
   "metadata": {
    "colab": {},
    "colab_type": "code",
    "id": "Yk4VxFLInT01",
    "outputId": "083ad950-d74b-43f6-f9e6-6fe37af384c3"
   },
   "outputs": [
    {
     "data": {
      "text/html": [
       "<div>\n",
       "<style scoped>\n",
       "    .dataframe tbody tr th:only-of-type {\n",
       "        vertical-align: middle;\n",
       "    }\n",
       "\n",
       "    .dataframe tbody tr th {\n",
       "        vertical-align: top;\n",
       "    }\n",
       "\n",
       "    .dataframe thead th {\n",
       "        text-align: right;\n",
       "    }\n",
       "</style>\n",
       "<table border=\"1\" class=\"dataframe\">\n",
       "  <thead>\n",
       "    <tr style=\"text-align: right;\">\n",
       "      <th></th>\n",
       "      <th>Year</th>\n",
       "      <th>Selling_Price</th>\n",
       "      <th>Present_Price</th>\n",
       "      <th>Kms_Driven</th>\n",
       "      <th>Fuel_Type</th>\n",
       "      <th>Seller_Type</th>\n",
       "      <th>Transmission</th>\n",
       "      <th>Owner</th>\n",
       "    </tr>\n",
       "    <tr>\n",
       "      <th>Car_Name</th>\n",
       "      <th></th>\n",
       "      <th></th>\n",
       "      <th></th>\n",
       "      <th></th>\n",
       "      <th></th>\n",
       "      <th></th>\n",
       "      <th></th>\n",
       "      <th></th>\n",
       "    </tr>\n",
       "  </thead>\n",
       "  <tbody>\n",
       "    <tr>\n",
       "      <td>ritz</td>\n",
       "      <td>2014</td>\n",
       "      <td>3.35000</td>\n",
       "      <td>5.59000</td>\n",
       "      <td>27000</td>\n",
       "      <td>Petrol</td>\n",
       "      <td>Dealer</td>\n",
       "      <td>Manual</td>\n",
       "      <td>0</td>\n",
       "    </tr>\n",
       "    <tr>\n",
       "      <td>sx4</td>\n",
       "      <td>2013</td>\n",
       "      <td>4.75000</td>\n",
       "      <td>9.54000</td>\n",
       "      <td>43000</td>\n",
       "      <td>Diesel</td>\n",
       "      <td>Dealer</td>\n",
       "      <td>Manual</td>\n",
       "      <td>0</td>\n",
       "    </tr>\n",
       "  </tbody>\n",
       "</table>\n",
       "</div>"
      ],
      "text/plain": [
       "          Year  Selling_Price  Present_Price  Kms_Driven Fuel_Type  \\\n",
       "Car_Name                                                             \n",
       "ritz      2014        3.35000        5.59000       27000    Petrol   \n",
       "sx4       2013        4.75000        9.54000       43000    Diesel   \n",
       "\n",
       "         Seller_Type Transmission  Owner  \n",
       "Car_Name                                  \n",
       "ritz          Dealer       Manual      0  \n",
       "sx4           Dealer       Manual      0  "
      ]
     },
     "execution_count": 2,
     "metadata": {
      "tags": []
     },
     "output_type": "execute_result"
    }
   ],
   "source": [
    "# read the data\n",
    "df_car = pd.read_csv(\"car_data.csv\", index_col = 0)\n",
    "\n",
    "# display the first two rows of the data\n",
    "df_car.head(2)"
   ]
  },
  {
   "cell_type": "markdown",
   "metadata": {
    "colab_type": "text",
    "id": "2qc3IsEPnT05"
   },
   "source": [
    "Our objective is to predict the selling price of the cars data."
   ]
  },
  {
   "cell_type": "markdown",
   "metadata": {
    "colab_type": "text",
    "id": "MGtZz3vznT06"
   },
   "source": [
    "**The data definition is as follows:** <br><br>\n",
    "**Car_Name:** name of the car <br>\n",
    "\n",
    "**YearThis:** year in which the car was bought <br>\n",
    "\n",
    "**Present_Price:** current ex-showroom price of the car (in lakhs)<br>\n",
    "\n",
    "**Kms_Driven:** distance completed by the car in km <br>\n",
    "\n",
    "**Fuel_Type:** fuel type of the car <br>\n",
    "\n",
    "**Seller_Type:** defines whether the seller is a dealer or an individual<br>\n",
    "\n",
    "**Transmission:** defines whether the car is manual or automatic <br>\n",
    "\n",
    "**Owner:** defines the number of owners the car has previously had <br>\n",
    "\n",
    "**Selling_Price:** price the owner wants to sell the car at (in lakhs) (response variable)"
   ]
  },
  {
   "cell_type": "markdown",
   "metadata": {
    "colab_type": "text",
    "id": "DBRocFFmnT06"
   },
   "source": [
    "### Let's begin with some hands-on practice exercises"
   ]
  },
  {
   "cell_type": "markdown",
   "metadata": {
    "colab_type": "text",
    "id": "UaRqebRhnT06"
   },
   "source": [
    "<table align=\"left\">\n",
    "    <tr>\n",
    "        <td width=\"6%\">\n",
    "            <img src=\"question_icon.png\">\n",
    "        </td>\n",
    "        <td>\n",
    "            <div align=\"left\", style=\"font-size:120%\">\n",
    "                <font color=\"#21618C\">\n",
    "                    <b>1. Build a full model and interpret the beta coefficients </b>\n",
    "                </font>\n",
    "            </div>\n",
    "        </td>\n",
    "    </tr>\n",
    "</table>"
   ]
  },
  {
   "cell_type": "markdown",
   "metadata": {
    "colab_type": "text",
    "id": "qZipr43QnT07"
   },
   "source": [
    "        Hint: A full model is a model which includes all the features "
   ]
  },
  {
   "cell_type": "code",
   "execution_count": null,
   "metadata": {
    "colab": {},
    "colab_type": "code",
    "id": "ge0LAWc3nT09",
    "outputId": "e2aaac71-8dc6-4949-86f3-9fc73d3f5988"
   },
   "outputs": [
    {
     "name": "stdout",
     "output_type": "stream",
     "text": [
      "                            OLS Regression Results                            \n",
      "==============================================================================\n",
      "Dep. Variable:          Selling_Price   R-squared:                       0.883\n",
      "Model:                            OLS   Adj. R-squared:                  0.879\n",
      "Method:                 Least Squares   F-statistic:                     274.3\n",
      "Date:                Tue, 14 Apr 2020   Prob (F-statistic):          5.71e-131\n",
      "Time:                        14:20:33   Log-Likelihood:                -593.62\n",
      "No. Observations:                 301   AIC:                             1205.\n",
      "Df Residuals:                     292   BIC:                             1239.\n",
      "Df Model:                           8                                         \n",
      "Covariance Type:            nonrobust                                         \n",
      "==========================================================================================\n",
      "                             coef    std err          t      P>|t|      [0.025      0.975]\n",
      "------------------------------------------------------------------------------------------\n",
      "const                   -789.2366     86.522     -9.122      0.000    -959.522    -618.951\n",
      "Year                       0.3931      0.043      9.159      0.000       0.309       0.478\n",
      "Present_Price              0.4372      0.016     27.355      0.000       0.406       0.469\n",
      "Kms_Driven             -7.013e-06   3.23e-06     -2.172      0.031   -1.34e-05   -6.57e-07\n",
      "Owner                     -0.6742      0.423     -1.595      0.112      -1.506       0.158\n",
      "Fuel_Type_Diesel           2.4699      1.278      1.932      0.054      -0.046       4.986\n",
      "Fuel_Type_Petrol           0.6077      1.259      0.483      0.630      -1.870       3.085\n",
      "Seller_Type_Individual    -1.1213      0.257     -4.371      0.000      -1.626      -0.616\n",
      "Transmission_Manual       -1.4482      0.328     -4.417      0.000      -2.093      -0.803\n",
      "==============================================================================\n",
      "Omnibus:                       95.107   Durbin-Watson:                   1.795\n",
      "Prob(Omnibus):                  0.000   Jarque-Bera (JB):              696.392\n",
      "Skew:                           1.075   Prob(JB):                    6.03e-152\n",
      "Kurtosis:                      10.135   Cond. No.                     4.56e+07\n",
      "==============================================================================\n",
      "\n",
      "Warnings:\n",
      "[1] Standard Errors assume that the covariance matrix of the errors is correctly specified.\n",
      "[2] The condition number is large, 4.56e+07. This might indicate that there are\n",
      "strong multicollinearity or other numerical problems.\n"
     ]
    }
   ],
   "source": [
    "# consider the independent variables\n",
    "# select_dtypes: selects the variable having specified datatype\n",
    "# include: includes the variables with specified datatype\n",
    "# drop(): drops specified column(s)/row(s) from the dataframe\n",
    "# axis: specifies whether to drop labels from index or columns; use 1 for columns and 0 for index\n",
    "df_car_num = df_car.select_dtypes(include=np.number).drop([\"Selling_Price\"],axis=1)\n",
    "\n",
    "# consider all the categorical variables in the data\n",
    "# select_dtypes: selects the variable having specified datatype\n",
    "# include: includes the variables with specified datatype\n",
    "df_car_cat = df_car.select_dtypes(include=\"object\")\n",
    "\n",
    "# convert the categorical variable to dummy variable\n",
    "# get_dummies(): converts the variable to categorical variable\n",
    "# drop_first=True: indicates n-1 dummy enoding; if set to false indicated one-hot encoding\n",
    "dummy_variables = pd.get_dummies(df_car_cat, drop_first=True)\n",
    "\n",
    "# concatenate the numerical and dummy variables\n",
    "# axis: specifies whether to drop labels from index or columns; use 1 for columns and 0 for index\n",
    "X = pd.concat([df_car_num, dummy_variables],axis=1)\n",
    "\n",
    "# consider the dependent variable\n",
    "y = df_car[\"Selling_Price\"]\n",
    "\n",
    "# fit a full model with an intercept using fit()\n",
    "# add_constant(): adds the intercept term to the model\n",
    "LM_model_full = sm.OLS(y, sm.add_constant(X)).fit()\n",
    "\n",
    "# print the summary output\n",
    "print(LM_model_full.summary())"
   ]
  },
  {
   "cell_type": "markdown",
   "metadata": {
    "colab_type": "text",
    "id": "cLwa0er0nT1E"
   },
   "source": [
    "Let us interpret the β coefficients:\n",
    "\n",
    "β<sub>const</sub> = -789.2366, presents the selling price of the cars considering all other variables take value 0 <br>\n",
    "\n",
    "β<sub>Year</sub> = 0.3931, it implies that 0.3931 is the average increase in the selling price of the cars due to one unit increase in the year it was purchased in, keeping other variables constant<br>\n",
    "\n",
    "β<sub>Present_Price</sub> = 0.4372, it implies that 0.4372 is the average increase in the selling price of the cars due to one unit increase in the present price, keeping other variables constant <br>\n",
    "\n",
    "β<sub>Kms_Driven</sub> = -0.000007013, it implies that 0.000007013 is the average decrease in the selling price of the cars due to one unit increase in the kilometers it has driven, keeping other variables constant<br>\n",
    "\n",
    "β<sub>Owner</sub> = -0.6742, it implies that 0.6742 is the average decrease in the selling price of the cars due to one unit increase in the number of owners of the car, keeping other variables constant<br>\n",
    "\n",
    "β<sub>Fuel_Type_Diesel</sub> = 2.4699, it implies that 2.4699 is the average increase in the selling price of the cars if it has a diesel engine, keeping other variables constant<br>\n",
    "\n",
    "β<sub>Fuel_Type_Petrol</sub> = 0.6077, it implies that 0.6077 is the average increase in the selling price of the cars if it has a petrol engine, keeping other variables constant  <br>\n",
    "\n",
    "β<sub>Seller_Type_Individual</sub> = -1.1213, it implies that 1.1213 is the average decrease in the selling price of the cars if the individual is selling the car himself/herself, keeping other variables constant <br> \n",
    "\n",
    "β<sub>Transmission_Manual</sub> = -1.4482, it implies that 1.4482 is the average decrease in the selling price of the cars if it has manual engine transmission, keeping other variables constant"
   ]
  },
  {
   "cell_type": "markdown",
   "metadata": {
    "colab_type": "text",
    "id": "55vz-ftynT1E"
   },
   "source": [
    "<table align=\"left\">\n",
    "    <tr>\n",
    "        <td width=\"6%\">\n",
    "            <img src=\"question_icon.png\">\n",
    "        </td>\n",
    "        <td>\n",
    "            <div align=\"left\", style=\"font-size:120%\">\n",
    "                <font color=\"#21618C\">\n",
    "                    <b>2. What is the impact of fuel type of cars on the selling price? \n",
    "                    </b>\n",
    "                </font>\n",
    "            </div>\n",
    "        </td>\n",
    "    </tr>\n",
    "</table>"
   ]
  },
  {
   "cell_type": "code",
   "execution_count": null,
   "metadata": {
    "colab": {},
    "colab_type": "code",
    "id": "AjdoTEDKnT1F",
    "outputId": "3d3caec2-1eb9-4159-a500-4e9e628e3be2"
   },
   "outputs": [
    {
     "name": "stdout",
     "output_type": "stream",
     "text": [
      "                            OLS Regression Results                            \n",
      "==============================================================================\n",
      "Dep. Variable:          Selling_Price   R-squared:                       0.305\n",
      "Model:                            OLS   Adj. R-squared:                  0.300\n",
      "Method:                 Least Squares   F-statistic:                     65.41\n",
      "Date:                Tue, 14 Apr 2020   Prob (F-statistic):           2.80e-24\n",
      "Time:                        14:20:33   Log-Likelihood:                -861.21\n",
      "No. Observations:                 301   AIC:                             1728.\n",
      "Df Residuals:                     298   BIC:                             1740.\n",
      "Df Model:                           2                                         \n",
      "Covariance Type:            nonrobust                                         \n",
      "==============================================================================\n",
      "                 coef    std err          t      P>|t|      [0.025      0.975]\n",
      "------------------------------------------------------------------------------\n",
      "const          3.1000      3.006      1.031      0.303      -2.816       9.016\n",
      "Diesel         7.1785      3.056      2.349      0.019       1.165      13.192\n",
      "Petrol         0.1642      3.019      0.054      0.957      -5.776       6.105\n",
      "==============================================================================\n",
      "Omnibus:                      149.368   Durbin-Watson:                   1.338\n",
      "Prob(Omnibus):                  0.000   Jarque-Bera (JB):              826.132\n",
      "Skew:                           2.022   Prob(JB):                    4.05e-180\n",
      "Kurtosis:                      10.036   Cond. No.                         27.9\n",
      "==============================================================================\n",
      "\n",
      "Warnings:\n",
      "[1] Standard Errors assume that the covariance matrix of the errors is correctly specified.\n"
     ]
    }
   ],
   "source": [
    "# consider the independent variables\n",
    "X = df_car[\"Fuel_Type\"]\n",
    "\n",
    "# convert the categorical variable to dummy variable\n",
    "# get_dummies(): converts the variable to categorical variable\n",
    "# drop_first=True: indicates n-1 dummy enoding; if set to false indicated one-hot encoding\n",
    "X = pd.get_dummies(X, drop_first=True)\n",
    "\n",
    "# consider the dependent variable\n",
    "y = df_car[\"Selling_Price\"]\n",
    "\n",
    "# fit a model with an intercept using fit()\n",
    "# add_constant(): adds the intercept term to the model\n",
    "LM_model = sm.OLS(y, sm.add_constant(X)).fit()\n",
    "\n",
    "# print the summary output\n",
    "print(LM_model.summary())"
   ]
  },
  {
   "cell_type": "markdown",
   "metadata": {
    "colab_type": "text",
    "id": "Cc7HceAJnT1H"
   },
   "source": [
    "Considering only the fuel type, we see that the variable contributes to 30% of variation in selling price. \n",
    "\n",
    "The parameter 'const' presents the level 'CNG'.\n",
    "\n",
    "Considering this model, if the car is a CNG car the re-sale value of car 3.1 L.\n",
    "If the car is a diesel car the re-sale value of car 7.1785 L.\n",
    "If the car is a petrol car the re-sale value of car 0.1642 L.\n",
    "\n",
    "We see that the diesel cars get a good re-sale value than other cars. \n"
   ]
  },
  {
   "cell_type": "markdown",
   "metadata": {
    "colab_type": "text",
    "id": "RRu0L1MinT1I"
   },
   "source": [
    "<table align=\"left\">\n",
    "    <tr>\n",
    "        <td width=\"6%\">\n",
    "            <img src=\"question_icon.png\">\n",
    "        </td>\n",
    "        <td>\n",
    "            <div align=\"left\", style=\"font-size:120%\">\n",
    "                <font color=\"#21618C\">\n",
    "                    <b>3. Does the model significantly explain variation in the target variable? Justify your answer with analysis of variation \n",
    "                    </b>\n",
    "                </font>\n",
    "            </div>\n",
    "        </td>\n",
    "    </tr>\n",
    "</table>"
   ]
  },
  {
   "cell_type": "markdown",
   "metadata": {
    "colab_type": "text",
    "id": "20Dvu6awnT1I"
   },
   "source": [
    "            Regress the selling price over the transmission.\n",
    "            \n",
    "            Selling_Price ~ Transmission"
   ]
  },
  {
   "cell_type": "code",
   "execution_count": null,
   "metadata": {
    "colab": {},
    "colab_type": "code",
    "id": "WIYDMZwznT1J",
    "outputId": "55787878-7e7a-4b4e-8ec4-6fb0a86ca1ef"
   },
   "outputs": [
    {
     "data": {
      "text/html": [
       "<div>\n",
       "<style scoped>\n",
       "    .dataframe tbody tr th:only-of-type {\n",
       "        vertical-align: middle;\n",
       "    }\n",
       "\n",
       "    .dataframe tbody tr th {\n",
       "        vertical-align: top;\n",
       "    }\n",
       "\n",
       "    .dataframe thead th {\n",
       "        text-align: right;\n",
       "    }\n",
       "</style>\n",
       "<table border=\"1\" class=\"dataframe\">\n",
       "  <thead>\n",
       "    <tr style=\"text-align: right;\">\n",
       "      <th></th>\n",
       "      <th>df</th>\n",
       "      <th>sum_sq</th>\n",
       "      <th>mean_sq</th>\n",
       "      <th>F</th>\n",
       "      <th>PR(&gt;F)</th>\n",
       "    </tr>\n",
       "  </thead>\n",
       "  <tbody>\n",
       "    <tr>\n",
       "      <td>C(Transmission)</td>\n",
       "      <td>1.00000</td>\n",
       "      <td>1044.63223</td>\n",
       "      <td>1044.63223</td>\n",
       "      <td>46.57793</td>\n",
       "      <td>0.00000</td>\n",
       "    </tr>\n",
       "    <tr>\n",
       "      <td>Residual</td>\n",
       "      <td>299.00000</td>\n",
       "      <td>6705.85976</td>\n",
       "      <td>22.42762</td>\n",
       "      <td>nan</td>\n",
       "      <td>nan</td>\n",
       "    </tr>\n",
       "  </tbody>\n",
       "</table>\n",
       "</div>"
      ],
      "text/plain": [
       "                       df     sum_sq    mean_sq        F  PR(>F)\n",
       "C(Transmission)   1.00000 1044.63223 1044.63223 46.57793 0.00000\n",
       "Residual        299.00000 6705.85976   22.42762      nan     nan"
      ]
     },
     "execution_count": 9,
     "metadata": {
      "tags": []
     },
     "output_type": "execute_result"
    }
   ],
   "source": [
    "# consider the independent variables\n",
    "X = df_car[[\"Transmission\"]]\n",
    "\n",
    "# consider the dependent variable\n",
    "y = df_car[\"Selling_Price\"]\n",
    "\n",
    "# fit a model using fit()\n",
    "# ols: creates a model from the specified formula and data\n",
    "# formula: specifies the formula to be used\n",
    "# data: specifies the data that needs to be used\n",
    "# concat(): concatenates the specified dataframes\n",
    "# axis: specifies whether to drop labels from index or columns; use 1 for columns and 0 for index\n",
    "# C: considers the levels of the categorical variable\n",
    "SLR = ols(formula = 'Selling_Price ~ C(Transmission)', data= pd.concat([X, y], axis=1)).fit()\n",
    "\n",
    "# to check for goodness of fit\n",
    "# anova_lm(): performs anova for the linear regression model\n",
    "anova_table = anova_lm(SLR)\n",
    "\n",
    "# print the ANOVA table\n",
    "anova_table"
   ]
  },
  {
   "cell_type": "markdown",
   "metadata": {
    "colab_type": "text",
    "id": "wZTxXAM5nT1Q"
   },
   "source": [
    "Since probabilty of F-statistics is less than 0.05 (level of significance), the variable `Transmission` is good candidate for the model."
   ]
  }
 ],
 "metadata": {
  "colab": {
   "name": "SLR - Take home (Session 3)  - Solutions .ipynb",
   "provenance": []
  },
  "kernelspec": {
   "display_name": "Python 3",
   "language": "python",
   "name": "python3"
  },
  "language_info": {
   "codemirror_mode": {
    "name": "ipython",
    "version": 3
   },
   "file_extension": ".py",
   "mimetype": "text/x-python",
   "name": "python",
   "nbconvert_exporter": "python",
   "pygments_lexer": "ipython3",
   "version": "3.8.3"
  }
 },
 "nbformat": 4,
 "nbformat_minor": 1
}
