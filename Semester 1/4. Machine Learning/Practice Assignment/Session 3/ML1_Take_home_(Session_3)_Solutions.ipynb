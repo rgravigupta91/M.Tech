{
 "cells": [
  {
   "cell_type": "markdown",
   "metadata": {
    "colab_type": "text",
    "id": "gCBKHUV3i1Qn"
   },
   "source": [
    "<table align=\"center\" width=100%>\n",
    "    <tr>\n",
    "        <td width=\"15%\">\n",
    "            <img src=\"homework.png\">\n",
    "        </td>\n",
    "        <td>\n",
    "            <div align=\"center\">\n",
    "                <font color=\"#21618C\" size=8px>\n",
    "                    <b> Take-Home <br>(Session 3)\n",
    "                    </b>\n",
    "                </font>\n",
    "            </div>\n",
    "        </td>\n",
    "    </tr>\n",
    "</table>"
   ]
  },
  {
   "cell_type": "markdown",
   "metadata": {
    "colab_type": "text",
    "id": "Odpb0-7fi1Qo"
   },
   "source": [
    "### Import the required libraries"
   ]
  },
  {
   "cell_type": "code",
   "execution_count": null,
   "metadata": {
    "colab": {},
    "colab_type": "code",
    "id": "kdBJ7UX8i1Qp"
   },
   "outputs": [],
   "source": [
    "# import 'Pandas' \n",
    "import pandas as pd \n",
    "\n",
    "# import 'Numpy' \n",
    "import numpy as np\n",
    "\n",
    "# 'Statsmodels' is used to build and analyze various statistical models\n",
    "import statsmodels\n",
    "import statsmodels.api as sm\n",
    "from statsmodels.stats.outliers_influence import variance_inflation_factor\n",
    "from statsmodels.formula.api import ols\n",
    "from statsmodels.stats.anova import anova_lm\n",
    "from statsmodels.tools.eval_measures import rmse\n",
    "\n",
    "# import various metrics from 'Scikit-learn' (sklearn)\n",
    "from sklearn.model_selection import train_test_split\n",
    "\n",
    "# to set the digits after decimal place \n",
    "pd.options.display.float_format = '{:.5f}'.format\n",
    "\n",
    "# suppress warnings \n",
    "from warnings import filterwarnings\n",
    "filterwarnings('ignore')"
   ]
  },
  {
   "cell_type": "markdown",
   "metadata": {
    "colab_type": "text",
    "id": "iYK6cFA5i1Qv"
   },
   "source": [
    "#### Read the data\n",
    "\n",
    "Load the csv file and set the first column as index"
   ]
  },
  {
   "cell_type": "code",
   "execution_count": null,
   "metadata": {
    "colab": {},
    "colab_type": "code",
    "id": "bjJpbaS2i1Qw",
    "outputId": "8e131067-8be1-4f3e-8854-5f2897186436"
   },
   "outputs": [
    {
     "data": {
      "text/html": [
       "<div>\n",
       "<style scoped>\n",
       "    .dataframe tbody tr th:only-of-type {\n",
       "        vertical-align: middle;\n",
       "    }\n",
       "\n",
       "    .dataframe tbody tr th {\n",
       "        vertical-align: top;\n",
       "    }\n",
       "\n",
       "    .dataframe thead th {\n",
       "        text-align: right;\n",
       "    }\n",
       "</style>\n",
       "<table border=\"1\" class=\"dataframe\">\n",
       "  <thead>\n",
       "    <tr style=\"text-align: right;\">\n",
       "      <th></th>\n",
       "      <th>Year</th>\n",
       "      <th>Selling_Price</th>\n",
       "      <th>Present_Price</th>\n",
       "      <th>Kms_Driven</th>\n",
       "      <th>Fuel_Type</th>\n",
       "      <th>Seller_Type</th>\n",
       "      <th>Transmission</th>\n",
       "      <th>Owner</th>\n",
       "    </tr>\n",
       "    <tr>\n",
       "      <th>Car_Name</th>\n",
       "      <th></th>\n",
       "      <th></th>\n",
       "      <th></th>\n",
       "      <th></th>\n",
       "      <th></th>\n",
       "      <th></th>\n",
       "      <th></th>\n",
       "      <th></th>\n",
       "    </tr>\n",
       "  </thead>\n",
       "  <tbody>\n",
       "    <tr>\n",
       "      <td>ritz</td>\n",
       "      <td>2014</td>\n",
       "      <td>3.35000</td>\n",
       "      <td>5.59000</td>\n",
       "      <td>27000</td>\n",
       "      <td>Petrol</td>\n",
       "      <td>Dealer</td>\n",
       "      <td>Manual</td>\n",
       "      <td>0</td>\n",
       "    </tr>\n",
       "    <tr>\n",
       "      <td>sx4</td>\n",
       "      <td>2013</td>\n",
       "      <td>4.75000</td>\n",
       "      <td>9.54000</td>\n",
       "      <td>43000</td>\n",
       "      <td>Diesel</td>\n",
       "      <td>Dealer</td>\n",
       "      <td>Manual</td>\n",
       "      <td>0</td>\n",
       "    </tr>\n",
       "  </tbody>\n",
       "</table>\n",
       "</div>"
      ],
      "text/plain": [
       "          Year  Selling_Price  Present_Price  Kms_Driven Fuel_Type  \\\n",
       "Car_Name                                                             \n",
       "ritz      2014        3.35000        5.59000       27000    Petrol   \n",
       "sx4       2013        4.75000        9.54000       43000    Diesel   \n",
       "\n",
       "         Seller_Type Transmission  Owner  \n",
       "Car_Name                                  \n",
       "ritz          Dealer       Manual      0  \n",
       "sx4           Dealer       Manual      0  "
      ]
     },
     "execution_count": 2,
     "metadata": {
      "tags": []
     },
     "output_type": "execute_result"
    }
   ],
   "source": [
    "# read the data\n",
    "df_car = pd.read_csv(\"car_data.csv\", index_col = 0)\n",
    "\n",
    "# display the first two rows of the data\n",
    "df_car.head(2)"
   ]
  },
  {
   "cell_type": "markdown",
   "metadata": {
    "colab_type": "text",
    "id": "93tvG9G7i1Qz"
   },
   "source": [
    "Our objective is to predict the selling price of the cars data."
   ]
  },
  {
   "cell_type": "markdown",
   "metadata": {
    "colab_type": "text",
    "id": "0F2iYYvqi1Q0"
   },
   "source": [
    "**The data definition is as follows:** <br><br>\n",
    "**Car_Name:** name of the car <br>\n",
    "\n",
    "**YearThis:** year in which the car was bought <br>\n",
    "\n",
    "**Present_Price:** current ex-showroom price of the car (in lakhs)<br>\n",
    "\n",
    "**Kms_Driven:** distance completed by the car in km <br>\n",
    "\n",
    "**Fuel_Type:** fuel type of the car <br>\n",
    "\n",
    "**Seller_Type:** defines whether the seller is a dealer or an individual<br>\n",
    "\n",
    "**Transmission:** defines whether the car is manual or automatic <br>\n",
    "\n",
    "**Owner:** defines the number of owners the car has previously had <br>\n",
    "\n",
    "**Selling_Price:** price the owner wants to sell the car at (in lakhs) (response variable)"
   ]
  },
  {
   "cell_type": "markdown",
   "metadata": {
    "colab_type": "text",
    "id": "K5qk8Z6Gi1Q1"
   },
   "source": [
    "### Let's continue with hands-on practice exercises"
   ]
  },
  {
   "cell_type": "markdown",
   "metadata": {
    "colab_type": "text",
    "id": "FsPjbPlui1Q7"
   },
   "source": [
    "<table align=\"left\">\n",
    "    <tr>\n",
    "        <td width=\"6%\">\n",
    "            <img src=\"question_icon.png\">\n",
    "        </td>\n",
    "        <td>\n",
    "            <div align=\"left\", style=\"font-size:120%\">\n",
    "                <font color=\"#21618C\">\n",
    "                    <b>1. Is there multicollinearity present? If yes, which variables are involved in multicollinearity?    </b>\n",
    "                </font>\n",
    "            </div>\n",
    "        </td>\n",
    "    </tr>\n",
    "</table>"
   ]
  },
  {
   "cell_type": "code",
   "execution_count": null,
   "metadata": {
    "colab": {},
    "colab_type": "code",
    "id": "SqIz5Usni1Q7",
    "outputId": "02c20681-62e5-42be-d478-ebcdc458f405"
   },
   "outputs": [
    {
     "data": {
      "text/html": [
       "<div>\n",
       "<style scoped>\n",
       "    .dataframe tbody tr th:only-of-type {\n",
       "        vertical-align: middle;\n",
       "    }\n",
       "\n",
       "    .dataframe tbody tr th {\n",
       "        vertical-align: top;\n",
       "    }\n",
       "\n",
       "    .dataframe thead th {\n",
       "        text-align: right;\n",
       "    }\n",
       "</style>\n",
       "<table border=\"1\" class=\"dataframe\">\n",
       "  <thead>\n",
       "    <tr style=\"text-align: right;\">\n",
       "      <th></th>\n",
       "      <th>Features</th>\n",
       "      <th>VIF</th>\n",
       "    </tr>\n",
       "  </thead>\n",
       "  <tbody>\n",
       "    <tr>\n",
       "      <td>0</td>\n",
       "      <td>Year</td>\n",
       "      <td>2.78056</td>\n",
       "    </tr>\n",
       "    <tr>\n",
       "      <td>1</td>\n",
       "      <td>Selling_Price</td>\n",
       "      <td>9.35503</td>\n",
       "    </tr>\n",
       "    <tr>\n",
       "      <td>2</td>\n",
       "      <td>Present_Price</td>\n",
       "      <td>9.33909</td>\n",
       "    </tr>\n",
       "    <tr>\n",
       "      <td>3</td>\n",
       "      <td>Kms_Driven</td>\n",
       "      <td>2.21597</td>\n",
       "    </tr>\n",
       "    <tr>\n",
       "      <td>4</td>\n",
       "      <td>Owner</td>\n",
       "      <td>1.07427</td>\n",
       "    </tr>\n",
       "  </tbody>\n",
       "</table>\n",
       "</div>"
      ],
      "text/plain": [
       "        Features     VIF\n",
       "0           Year 2.78056\n",
       "1  Selling_Price 9.35503\n",
       "2  Present_Price 9.33909\n",
       "3     Kms_Driven 2.21597\n",
       "4          Owner 1.07427"
      ]
     },
     "execution_count": 4,
     "metadata": {
      "tags": []
     },
     "output_type": "execute_result"
    }
   ],
   "source": [
    "# create an empty dataframe to store the VIF for each variable\n",
    "vif = pd.DataFrame()\n",
    "\n",
    "# filter the numerical features in the dataset\n",
    "# select_dtypes: selects the variable having specified datatype\n",
    "df_numeric = df_car.select_dtypes(include=[np.number])\n",
    "\n",
    "# create a column of variable names\n",
    "vif[\"Features\"] = df_numeric.columns\n",
    "\n",
    "# calculate VIF using list comprehension \n",
    "# use for loop to access each variable \n",
    "# calculate VIF for each variable and create a column 'VIF' to store the values \n",
    "vif[\"VIF\"] = [variance_inflation_factor(df_numeric.values, i) for i in range(df_numeric.shape[1])]\n",
    "\n",
    "# print the dataframe \n",
    "vif"
   ]
  },
  {
   "cell_type": "markdown",
   "metadata": {
    "colab_type": "text",
    "id": "jNbfDZgPi1Q-"
   },
   "source": [
    "Here we consider the threshold as 5. Hence, if VIF > 5 the corresponding variable is involved in multicollinearity.\n",
    "\n",
    "Note: The threshold can be considered as 10 depending upon the dataset."
   ]
  },
  {
   "cell_type": "markdown",
   "metadata": {
    "colab_type": "text",
    "id": "NGNXBZvCi1Q_"
   },
   "source": [
    "<table align=\"left\">\n",
    "    <tr>\n",
    "        <td width=\"6%\">\n",
    "            <img src=\"question_icon.png\">\n",
    "        </td>\n",
    "        <td>\n",
    "            <div align=\"left\", style=\"font-size:120%\">\n",
    "                <font color=\"#21618C\">\n",
    "                    <b>2. What is the impact of present price of the car and seller type on the selling price?\n",
    "                    </b>\n",
    "                </font>\n",
    "            </div>\n",
    "        </td>\n",
    "    </tr>\n",
    "</table>"
   ]
  },
  {
   "cell_type": "code",
   "execution_count": null,
   "metadata": {
    "colab": {},
    "colab_type": "code",
    "id": "Od6Fhg7mi1RA",
    "outputId": "6f7f4edb-e88f-4054-c649-52784d5ea6de"
   },
   "outputs": [
    {
     "name": "stdout",
     "output_type": "stream",
     "text": [
      "                            OLS Regression Results                            \n",
      "==============================================================================\n",
      "Dep. Variable:          Selling_Price   R-squared:                       0.786\n",
      "Model:                            OLS   Adj. R-squared:                  0.785\n",
      "Method:                 Least Squares   F-statistic:                     548.4\n",
      "Date:                Tue, 14 Apr 2020   Prob (F-statistic):          1.34e-100\n",
      "Time:                        14:20:33   Log-Likelihood:                -683.71\n",
      "No. Observations:                 301   AIC:                             1373.\n",
      "Df Residuals:                     298   BIC:                             1385.\n",
      "Df Model:                           2                                         \n",
      "Covariance Type:            nonrobust                                         \n",
      "=====================================================================================\n",
      "                        coef    std err          t      P>|t|      [0.025      0.975]\n",
      "-------------------------------------------------------------------------------------\n",
      "const                 1.5423      0.261      5.901      0.000       1.028       2.057\n",
      "Present_Price         0.4758      0.018     25.956      0.000       0.440       0.512\n",
      "Seller_Individual    -1.4493      0.331     -4.376      0.000      -2.101      -0.798\n",
      "==============================================================================\n",
      "Omnibus:                       72.895   Durbin-Watson:                   1.645\n",
      "Prob(Omnibus):                  0.000   Jarque-Bera (JB):              845.311\n",
      "Skew:                           0.581   Prob(JB):                    2.77e-184\n",
      "Kurtosis:                      11.127   Cond. No.                         33.4\n",
      "==============================================================================\n",
      "\n",
      "Warnings:\n",
      "[1] Standard Errors assume that the covariance matrix of the errors is correctly specified.\n"
     ]
    }
   ],
   "source": [
    "# consider the independent variables\n",
    "X = df_car[[\"Present_Price\"]]\n",
    "\n",
    "# convert the categorical variable to a dummy variable\n",
    "# get_dummies(): converts the variable to categorical variable\n",
    "# prefix: specifies the prefix added to each level while creating a dummy variable for it\n",
    "# drop_first=True: indicates n-1 dummy enoding; if set to false indicated one-hot encoding\n",
    "dummy_variable = pd.get_dummies(df_car[\"Seller_Type\"], prefix=\"Seller\", drop_first=True)\n",
    "\n",
    "# concatenate X and the dummy variable\n",
    "# concat(): concatenates the specified dataframes\n",
    "# axis: specifies whether to drop labels from index or columns; use 1 for columns and 0 for index\n",
    "X = pd.concat([X, dummy_variable],axis=1)\n",
    "\n",
    "# consider the dependent variable\n",
    "y = df_car[\"Selling_Price\"]\n",
    "\n",
    "# fit a model with an intercept using fit()\n",
    "# add_constant(): adds the intercept term to the model\n",
    "MLR_full = sm.OLS(y, sm.add_constant(X)).fit()\n",
    "\n",
    "# print the summary output\n",
    "print(MLR_full.summary())"
   ]
  },
  {
   "cell_type": "markdown",
   "metadata": {
    "colab_type": "text",
    "id": "sSbSxv4Ei1RD"
   },
   "source": [
    "Interpretation of β coefficients:\n",
    "\n",
    "β<sub>const</sub> = 1.5423, represents the selling price of the cars when a dealer is selling the car and considering the current price to be 0  <br>\n",
    "\n",
    "β<sub>Present_Price</sub> = 0.4758, it implies that 0.4758 is the average increase in the selling price of the cars due one unit increase in the present price, keeping other variables constant  <br>\n",
    "\n",
    "β<sub>Seller_Individual</sub> = -1.4493, it implies that 1.4493 is the average decrease in the selling price of the cars if the individual is selling the car himself/herself, keeping other variables constant"
   ]
  },
  {
   "cell_type": "markdown",
   "metadata": {
    "colab_type": "text",
    "id": "Y0XDFbIDi1RD"
   },
   "source": [
    "<table align=\"left\">\n",
    "    <tr>\n",
    "        <td width=\"6%\">\n",
    "            <img src=\"question_icon.png\">\n",
    "        </td>\n",
    "        <td>\n",
    "            <div align=\"left\", style=\"font-size:120%\">\n",
    "                <font color=\"#21618C\">\n",
    "                    <b>3. Consider all the numeric features in the data. Do all of them significantly contribute to explaining the variation in the selling price?\n",
    "                    </b>\n",
    "                </font>\n",
    "            </div>\n",
    "        </td>\n",
    "    </tr>\n",
    "</table>"
   ]
  },
  {
   "cell_type": "code",
   "execution_count": null,
   "metadata": {
    "colab": {},
    "colab_type": "code",
    "id": "agRSGOG4i1RE",
    "outputId": "2f6aaea4-2e91-42ac-c527-425435ec7649"
   },
   "outputs": [
    {
     "name": "stdout",
     "output_type": "stream",
     "text": [
      "                            OLS Regression Results                            \n",
      "==============================================================================\n",
      "Dep. Variable:          Selling_Price   R-squared:                       0.852\n",
      "Model:                            OLS   Adj. R-squared:                  0.850\n",
      "Method:                 Least Squares   F-statistic:                     426.6\n",
      "Date:                Tue, 14 Apr 2020   Prob (F-statistic):          1.66e-121\n",
      "Time:                        14:20:33   Log-Likelihood:                -628.25\n",
      "No. Observations:                 301   AIC:                             1267.\n",
      "Df Residuals:                     296   BIC:                             1285.\n",
      "Df Model:                           4                                         \n",
      "Covariance Type:            nonrobust                                         \n",
      "=================================================================================\n",
      "                    coef    std err          t      P>|t|      [0.025      0.975]\n",
      "---------------------------------------------------------------------------------\n",
      "const          -937.7642     94.392     -9.935      0.000   -1123.528    -752.000\n",
      "Year              0.4661      0.047      9.949      0.000       0.374       0.558\n",
      "Present_Price     0.5256      0.013     39.067      0.000       0.499       0.552\n",
      "Kms_Driven    -1.267e-06   3.51e-06     -0.361      0.718   -8.17e-06    5.64e-06\n",
      "Owner            -0.9513      0.466     -2.042      0.042      -1.868      -0.034\n",
      "==============================================================================\n",
      "Omnibus:                       69.450   Durbin-Watson:                   1.560\n",
      "Prob(Omnibus):                  0.000   Jarque-Bera (JB):             1362.873\n",
      "Skew:                           0.241   Prob(JB):                    1.14e-296\n",
      "Kurtosis:                      13.413   Cond. No.                     4.46e+07\n",
      "==============================================================================\n",
      "\n",
      "Warnings:\n",
      "[1] Standard Errors assume that the covariance matrix of the errors is correctly specified.\n",
      "[2] The condition number is large, 4.46e+07. This might indicate that there are\n",
      "strong multicollinearity or other numerical problems.\n"
     ]
    }
   ],
   "source": [
    "# consider the independent variables\n",
    "# we need to drop the feature 'Selling_Price' from X \n",
    "# select_dtypes: selects the variable having specified datatype\n",
    "# include: includes the variables with specified datatype\n",
    "# drop(): drops specified column(s)/row(s) from the dataframe\n",
    "# axis: specifies whether to drop labels from index or columns; use 1 for columns and 0 for index\n",
    "X = df_car.select_dtypes(include=[np.number]).drop([\"Selling_Price\"],axis=1)\n",
    "\n",
    "# consider the dependent variables\n",
    "y = df_car[\"Selling_Price\"]\n",
    "\n",
    "# fit a model with an intercept using fit()\n",
    "# add_constant(): adds the intercept term to the model\n",
    "LM_model_num = sm.OLS(y, sm.add_constant(X)).fit()\n",
    "\n",
    "# print the summary output\n",
    "print(LM_model_num.summary())"
   ]
  },
  {
   "cell_type": "markdown",
   "metadata": {
    "colab_type": "text",
    "id": "QSOzcZy4i1RH"
   },
   "source": [
    "From the p-value for the regression coefficients, we understand that the variable `Kms_Driven` does not contribute to explaining the variation in the selling price since the corresponding p-value > 0.05 (level of significance)."
   ]
  },
  {
   "cell_type": "markdown",
   "metadata": {
    "colab_type": "text",
    "id": "DfxMYGpoi1RI"
   },
   "source": [
    "<table align=\"left\">\n",
    "    <tr>\n",
    "        <td width=\"6%\">\n",
    "            <img src=\"question_icon.png\">\n",
    "        </td>\n",
    "        <td>\n",
    "            <div align=\"left\", style=\"font-size:120%\">\n",
    "                <font color=\"#21618C\">\n",
    "                    <b>4. In the model obtained in question 3, consider the interaction effect of the present price of the car and the year in which it was purchased. Compare the resultant model with the model obtained in previous question and give your interpretation \n",
    "                    </b>\n",
    "                </font>\n",
    "            </div>\n",
    "        </td>\n",
    "    </tr>\n",
    "</table>"
   ]
  },
  {
   "cell_type": "code",
   "execution_count": null,
   "metadata": {
    "colab": {},
    "colab_type": "code",
    "id": "U_F4vU7ui1RI",
    "outputId": "45b01ebc-edb1-4ae7-a638-ec86c1b32102"
   },
   "outputs": [
    {
     "name": "stdout",
     "output_type": "stream",
     "text": [
      "                            OLS Regression Results                            \n",
      "==============================================================================\n",
      "Dep. Variable:          Selling_Price   R-squared:                       0.963\n",
      "Model:                            OLS   Adj. R-squared:                  0.963\n",
      "Method:                 Least Squares   F-statistic:                     1546.\n",
      "Date:                Tue, 14 Apr 2020   Prob (F-statistic):          3.05e-209\n",
      "Time:                        14:20:33   Log-Likelihood:                -418.79\n",
      "No. Observations:                 301   AIC:                             849.6\n",
      "Df Residuals:                     295   BIC:                             871.8\n",
      "Df Model:                           5                                         \n",
      "Covariance Type:            nonrobust                                         \n",
      "=================================================================================\n",
      "                    coef    std err          t      P>|t|      [0.025      0.975]\n",
      "---------------------------------------------------------------------------------\n",
      "const           101.2676     58.597      1.728      0.085     -14.054     216.590\n",
      "Year             -0.0502      0.029     -1.725      0.086      -0.107       0.007\n",
      "Present_Price  -137.3322      4.617    -29.744      0.000    -146.419    -128.246\n",
      "Kms_Driven    -2.145e-06   1.75e-06     -1.224      0.222   -5.59e-06     1.3e-06\n",
      "Owner            -0.0618      0.235     -0.264      0.792      -0.524       0.400\n",
      "Price*Year        0.0685      0.002     29.858      0.000       0.064       0.073\n",
      "==============================================================================\n",
      "Omnibus:                       37.166   Durbin-Watson:                   1.767\n",
      "Prob(Omnibus):                  0.000   Jarque-Bera (JB):              177.611\n",
      "Skew:                          -0.322   Prob(JB):                     2.71e-39\n",
      "Kurtosis:                       6.708   Cond. No.                     5.74e+07\n",
      "==============================================================================\n",
      "\n",
      "Warnings:\n",
      "[1] Standard Errors assume that the covariance matrix of the errors is correctly specified.\n",
      "[2] The condition number is large, 5.74e+07. This might indicate that there are\n",
      "strong multicollinearity or other numerical problems.\n"
     ]
    }
   ],
   "source": [
    "# consider the independent variables\n",
    "# we need to drop the feature 'Selling_Price' from X \n",
    "# select_dtypes: selects the variable having specified datatype\n",
    "# include: includes the variables with specified datatype\n",
    "# drop(): drops specified column(s)/row(s) from the dataframe\n",
    "# axis: specifies whether to drop labels from index or columns; use 1 for columns and 0 for index\n",
    "X = df_car.select_dtypes(include=[np.number]).drop([\"Selling_Price\"],axis=1)\n",
    "\n",
    "# add the interaction variable\n",
    "X['Price*Year'] = df_car['Present_Price']*df_car['Year'] \n",
    "\n",
    "# consider the dependent variables\n",
    "y = df_car[\"Selling_Price\"]\n",
    "\n",
    "# fit a model with an intercept using fit()\n",
    "# add_constant(): adds the intercept term to the model\n",
    "LM_model_interaction = sm.OLS(y, sm.add_constant(X)).fit()\n",
    "\n",
    "# print the summary output\n",
    "print(LM_model_interaction.summary())"
   ]
  },
  {
   "cell_type": "markdown",
   "metadata": {
    "colab_type": "text",
    "id": "SbXvKGsdi1RL"
   },
   "source": [
    "We see the interaction effect is significant. On comparing the two models (with and without interaction efect), we see that the model with interaction effect has an increased R-squared of 0.963 and an increase adjusted R-squared of 0.963 compared to the model without interaction effect which has an R-squared of 0.852 and an adjusted R-squared of 0.850"
   ]
  },
  {
   "cell_type": "markdown",
   "metadata": {
    "colab_type": "text",
    "id": "JhPBv4Moi1RU"
   },
   "source": [
    "<table align=\"left\">\n",
    "    <tr>\n",
    "        <td width=\"6%\">\n",
    "            <img src=\"question_icon.png\">\n",
    "        </td>\n",
    "        <td>\n",
    "            <div align=\"left\", style=\"font-size:120%\">\n",
    "                <font color=\"#21618C\">\n",
    "                    <b>5. Regress the selling price over the present price. Compare the 99% and 95% confidence interval of present price of a car\n",
    "                    </b>\n",
    "                </font>\n",
    "            </div>\n",
    "        </td>\n",
    "    </tr>\n",
    "</table>"
   ]
  },
  {
   "cell_type": "code",
   "execution_count": null,
   "metadata": {
    "colab": {},
    "colab_type": "code",
    "id": "mkyrCy5fi1RV",
    "outputId": "7bb9911f-4a0f-4833-a23a-ea00d5df6423"
   },
   "outputs": [
    {
     "name": "stdout",
     "output_type": "stream",
     "text": [
      "The 99% CI is: \n",
      "                     0       1\n",
      "Present_Price 0.47481 0.55889\n",
      "\n",
      "\n",
      "\n",
      "The 95% CI is: \n",
      "                     0       1\n",
      "Present_Price 0.48494 0.54876\n"
     ]
    }
   ],
   "source": [
    "# consider the independent variables\n",
    "X = df_car[\"Present_Price\"]\n",
    "\n",
    "# consider the dependent variables\n",
    "y = df_car[\"Selling_Price\"]\n",
    "\n",
    "# fit a model with an intercept using fit()\n",
    "# add_constant(): adds the intercept term to the model\n",
    "LM_model = sm.OLS(y, sm.add_constant(X)).fit()\n",
    "\n",
    "# 99% confidence interval\n",
    "# conf_int(0.01): constructs the 99% CI\n",
    "# use '[1:]' to consider only the 99% CI of present price of the car \n",
    "print(\"The 99% CI is: \\n\", LM_model.conf_int(0.01)[1:])\n",
    "\n",
    "print(\"\\n\\n\")\n",
    "\n",
    "# 95% confidence interval\n",
    "# conf_int(0.05): constructs the 95% CI\n",
    "# use '[1:]' to consider only the 95% CI of present price of the car \n",
    "print(\"The 95% CI is: \\n\", LM_model.conf_int(0.05)[1:])"
   ]
  },
  {
   "cell_type": "markdown",
   "metadata": {
    "colab_type": "text",
    "id": "HWjmncr8i1Rc"
   },
   "source": [
    "We see that 99% confidence interval is wider. "
   ]
  },
  {
   "cell_type": "markdown",
   "metadata": {
    "colab_type": "text",
    "id": "da5GRIKvi1Rd"
   },
   "source": [
    "<table align=\"left\">\n",
    "    <tr>\n",
    "        <td width=\"6%\">\n",
    "            <img src=\"question_icon.png\">\n",
    "        </td>\n",
    "        <td>\n",
    "            <div align=\"left\", style=\"font-size:120%\">\n",
    "                <font color=\"#21618C\">\n",
    "                        <b>6. Verify the statement: The sum of the residuals in any regression model that contains an intercept β<sub>0</sub> is always zero\n",
    "                    </b>\n",
    "                </font>\n",
    "            </div>\n",
    "        </td>\n",
    "    </tr>\n",
    "</table>"
   ]
  },
  {
   "cell_type": "markdown",
   "metadata": {
    "colab_type": "text",
    "id": "jr8XDd8Ci1Rf"
   },
   "source": [
    "        To verify the result, we will fit a regression model of 'Present_Price' on 'Selling_Price' "
   ]
  },
  {
   "cell_type": "code",
   "execution_count": null,
   "metadata": {
    "colab": {},
    "colab_type": "code",
    "id": "gfmmh-Yhi1Rg",
    "outputId": "c72a4037-8b66-45fe-fff5-61cd2dae8eaa"
   },
   "outputs": [
    {
     "data": {
      "text/plain": [
       "0.0"
      ]
     },
     "execution_count": 11,
     "metadata": {
      "tags": []
     },
     "output_type": "execute_result"
    }
   ],
   "source": [
    "# consider the independent variables\n",
    "X = df_car[\"Present_Price\"]\n",
    "\n",
    "# consider the dependent variables\n",
    "y = df_car[\"Selling_Price\"]\n",
    "\n",
    "# fit a model with an intercept using fit()\n",
    "# add_constant(): adds the intercept term to the model\n",
    "LM_model = sm.OLS(y, sm.add_constant(X)).fit()\n",
    "\n",
    "# obtain the sum of residuals\n",
    "# resid gives the residuals of the models\n",
    "# sum() gives the sum of all residuals\n",
    "resid_sum = LM_model.resid.sum()\n",
    "\n",
    "# round of the answer upto 10 decimal places\n",
    "round(resid_sum, 10)"
   ]
  },
  {
   "cell_type": "markdown",
   "metadata": {
    "colab_type": "text",
    "id": "jQomHAvCi1Rl"
   },
   "source": [
    "Thus, statement is verified."
   ]
  },
  {
   "cell_type": "markdown",
   "metadata": {
    "colab_type": "text",
    "id": "xyugaCoSi1Rn"
   },
   "source": [
    "<table align=\"left\">\n",
    "    <tr>\n",
    "        <td width=\"6%\">\n",
    "            <img src=\"question_icon.png\">\n",
    "        </td>\n",
    "        <td>\n",
    "            <div align=\"left\", style=\"font-size:120%\">\n",
    "                <font color=\"#21618C\">\n",
    "                    <b>7. Consider two models as specified below. Compare the performance of the models\n",
    "                    </b>\n",
    "                </font>\n",
    "            </div>\n",
    "        </td>\n",
    "    </tr>\n",
    "</table>"
   ]
  },
  {
   "cell_type": "markdown",
   "metadata": {
    "colab_type": "text",
    "id": "wVYRWAUki1Ro"
   },
   "source": [
    "                First model:\n",
    "        \n",
    "        Selling_Price ~ Year + Present_Price + Kms_Driven + Owner + Fuel_Type + Seller_Type + Transmission\n",
    "        \n",
    "        \n",
    "                Second model:\n",
    "        \n",
    "        Selling_Price ~ Year + Present_Price + Kms_Driven + Owner "
   ]
  },
  {
   "cell_type": "code",
   "execution_count": null,
   "metadata": {
    "colab": {},
    "colab_type": "code",
    "id": "IUEo6oLWi1Rp"
   },
   "outputs": [],
   "source": [
    "# consider the independent variables\n",
    "# select_dtypes: selects the variable having specified datatype\n",
    "# include: includes the variables with specified datatype\n",
    "# drop(): drops specified column(s)/row(s) from the dataframe\n",
    "# axis: specifies whether to drop labels from index or columns; use 1 for columns and 0 for index\n",
    "df_car_num = df_car.select_dtypes(include=np.number).drop([\"Selling_Price\"],axis=1)\n",
    "\n",
    "# consider all the categorical variables in the data\n",
    "# select_dtypes: selects the variable having specified datatype\n",
    "# include: includes the variables with specified datatype\n",
    "df_car_cat = df_car.select_dtypes(include=\"object\")\n",
    "\n",
    "# convert the categorical variable to dummy variable\n",
    "# get_dummies(): converts the variable to categorical variable\n",
    "# drop_first=True: indicates n-1 dummy enoding; if set to false indicated one-hot encoding\n",
    "dummy_variables = pd.get_dummies(df_car_cat, drop_first=True)\n",
    "\n",
    "# concatenate the numerical and dummy variables\n",
    "# axis: specifies whether to drop labels from index or columns; use 1 for columns and 0 for index\n",
    "X = pd.concat([df_car_num, dummy_variables],axis=1)\n",
    "\n",
    "# add intercept in X\n",
    "X.insert(loc = 0, column = 'intercept',value = np.ones(X.shape[0]))\n",
    "\n",
    "# consider the dependent variable\n",
    "y = df_car[\"Selling_Price\"]"
   ]
  },
  {
   "cell_type": "markdown",
   "metadata": {
    "colab_type": "text",
    "id": "4GyAc7lFi1Rv"
   },
   "source": [
    "The train-test split:"
   ]
  },
  {
   "cell_type": "code",
   "execution_count": null,
   "metadata": {
    "colab": {},
    "colab_type": "code",
    "id": "vWGyuY6ki1Rw",
    "outputId": "d8b00ea7-2f8d-4d7e-bcee-2236f2a4b0b3"
   },
   "outputs": [
    {
     "name": "stdout",
     "output_type": "stream",
     "text": [
      "X_train (210, 9)\n",
      "y_train (210,)\n",
      "X_test (91, 9)\n",
      "y_test (91,)\n"
     ]
    }
   ],
   "source": [
    "# split data into train subset and test subset\n",
    "# set 'random_state' to generate the same dataset each time you run the code \n",
    "# 'test_size' returns the proportion of data to be included in the testing set\n",
    "X_train, X_test, y_train, y_test = train_test_split(X, y, random_state=1,test_size = 0.3)\n",
    "\n",
    "# check the dimensions of the train & test subset using 'shape'\n",
    "# print dimension of train set\n",
    "print('X_train', X_train.shape)\n",
    "print('y_train', y_train.shape)\n",
    "\n",
    "# print dimension of test set\n",
    "print('X_test', X_test.shape)\n",
    "print('y_test', y_test.shape)"
   ]
  },
  {
   "cell_type": "markdown",
   "metadata": {
    "colab_type": "text",
    "id": "oRpTHIRqi1R0"
   },
   "source": [
    "### First model:"
   ]
  },
  {
   "cell_type": "code",
   "execution_count": null,
   "metadata": {
    "colab": {},
    "colab_type": "code",
    "id": "mJCPEbW0i1R1",
    "outputId": "2eb944dd-0ebc-41bc-a9a7-c23277582615"
   },
   "outputs": [
    {
     "name": "stdout",
     "output_type": "stream",
     "text": [
      "                            OLS Regression Results                            \n",
      "==============================================================================\n",
      "Dep. Variable:          Selling_Price   R-squared:                       0.884\n",
      "Model:                            OLS   Adj. R-squared:                  0.879\n",
      "Method:                 Least Squares   F-statistic:                     191.2\n",
      "Date:                Tue, 14 Apr 2020   Prob (F-statistic):           1.35e-89\n",
      "Time:                        14:20:33   Log-Likelihood:                -423.34\n",
      "No. Observations:                 210   AIC:                             864.7\n",
      "Df Residuals:                     201   BIC:                             894.8\n",
      "Df Model:                           8                                         \n",
      "Covariance Type:            nonrobust                                         \n",
      "==========================================================================================\n",
      "                             coef    std err          t      P>|t|      [0.025      0.975]\n",
      "------------------------------------------------------------------------------------------\n",
      "intercept               -844.1360    106.814     -7.903      0.000   -1054.755    -633.517\n",
      "Year                       0.4205      0.053      7.931      0.000       0.316       0.525\n",
      "Present_Price              0.4413      0.018     24.125      0.000       0.405       0.477\n",
      "Kms_Driven             -4.158e-06   3.59e-06     -1.160      0.248   -1.12e-05    2.91e-06\n",
      "Owner                      0.5122      0.849      0.603      0.547      -1.163       2.187\n",
      "Fuel_Type_Diesel           2.1807      1.892      1.152      0.250      -1.550       5.912\n",
      "Fuel_Type_Petrol           0.4291      1.871      0.229      0.819      -3.260       4.118\n",
      "Seller_Type_Individual    -1.1021      0.317     -3.480      0.001      -1.726      -0.478\n",
      "Transmission_Manual       -1.7746      0.405     -4.377      0.000      -2.574      -0.975\n",
      "==============================================================================\n",
      "Omnibus:                       70.618   Durbin-Watson:                   1.945\n",
      "Prob(Omnibus):                  0.000   Jarque-Bera (JB):              509.541\n",
      "Skew:                           1.068   Prob(JB):                    2.26e-111\n",
      "Kurtosis:                      10.326   Cond. No.                     4.89e+07\n",
      "==============================================================================\n",
      "\n",
      "Warnings:\n",
      "[1] Standard Errors assume that the covariance matrix of the errors is correctly specified.\n",
      "[2] The condition number is large, 4.89e+07. This might indicate that there are\n",
      "strong multicollinearity or other numerical problems.\n"
     ]
    }
   ],
   "source": [
    "# fit a full model with an intercept using fit()\n",
    "MLR_full = sm.OLS(y_train, X_train).fit()\n",
    "\n",
    "# print the summary output\n",
    "print(MLR_full.summary())"
   ]
  },
  {
   "cell_type": "markdown",
   "metadata": {
    "colab_type": "text",
    "id": "Tt9XGLGzi1R5"
   },
   "source": [
    "Predictions:"
   ]
  },
  {
   "cell_type": "code",
   "execution_count": null,
   "metadata": {
    "colab": {},
    "colab_type": "code",
    "id": "oV4CSa0di1R8"
   },
   "outputs": [],
   "source": [
    "# predicting the selling price\n",
    "y_pred = MLR_full.predict(X_test)"
   ]
  },
  {
   "cell_type": "code",
   "execution_count": null,
   "metadata": {
    "colab": {},
    "colab_type": "code",
    "id": "GUUxghS2i1R_",
    "outputId": "85e9d578-e758-4ca1-acd7-446c4f839de6"
   },
   "outputs": [
    {
     "data": {
      "text/html": [
       "<div>\n",
       "<style scoped>\n",
       "    .dataframe tbody tr th:only-of-type {\n",
       "        vertical-align: middle;\n",
       "    }\n",
       "\n",
       "    .dataframe tbody tr th {\n",
       "        vertical-align: top;\n",
       "    }\n",
       "\n",
       "    .dataframe thead th {\n",
       "        text-align: right;\n",
       "    }\n",
       "</style>\n",
       "<table border=\"1\" class=\"dataframe\">\n",
       "  <thead>\n",
       "    <tr style=\"text-align: right;\">\n",
       "      <th></th>\n",
       "      <th>Model</th>\n",
       "      <th>R-Squared</th>\n",
       "      <th>Adj. R-Squared</th>\n",
       "      <th>RMSE</th>\n",
       "    </tr>\n",
       "  </thead>\n",
       "  <tbody>\n",
       "    <tr>\n",
       "      <td>0</td>\n",
       "      <td>Linreg full model</td>\n",
       "      <td>0.88385</td>\n",
       "      <td>0.87923</td>\n",
       "      <td>1.66717</td>\n",
       "    </tr>\n",
       "  </tbody>\n",
       "</table>\n",
       "</div>"
      ],
      "text/plain": [
       "               Model  R-Squared  Adj. R-Squared    RMSE\n",
       "0  Linreg full model    0.88385         0.87923 1.66717"
      ]
     },
     "execution_count": 16,
     "metadata": {
      "tags": []
     },
     "output_type": "execute_result"
    }
   ],
   "source": [
    "# create the result table for all accuracy scores\n",
    "# Accuracy measures considered for model comparision are RMSE, R-squared value and Adjusted R-squared value\n",
    "# create a list of column names\n",
    "cols = ['Model', 'R-Squared', 'Adj. R-Squared',  'RMSE']\n",
    "\n",
    "# creating a empty dataframe of the colums\n",
    "result_tabulation = pd.DataFrame(columns = cols)\n",
    "\n",
    "# compiling the required information\n",
    "linreg_full_model = pd.Series({'Model': \"Linreg full model\",\n",
    "                           'R-Squared': MLR_full.rsquared,\n",
    "                      'Adj. R-Squared': MLR_full.rsquared_adj ,\n",
    "                                'RMSE': rmse(y_test, y_pred)\n",
    "                   })\n",
    "\n",
    "# appending our result table\n",
    "result_tabulation = result_tabulation.append(linreg_full_model, ignore_index = True)\n",
    "\n",
    "# view the result table\n",
    "result_tabulation"
   ]
  },
  {
   "cell_type": "markdown",
   "metadata": {
    "colab_type": "text",
    "id": "1RArASaui1SB"
   },
   "source": [
    "### Second model:"
   ]
  },
  {
   "cell_type": "code",
   "execution_count": null,
   "metadata": {
    "colab": {},
    "colab_type": "code",
    "id": "iEYHKPyvi1SC",
    "outputId": "a8cb14c1-365a-4cdb-8872-4c1b41c97c30"
   },
   "outputs": [
    {
     "name": "stdout",
     "output_type": "stream",
     "text": [
      "                            OLS Regression Results                            \n",
      "==============================================================================\n",
      "Dep. Variable:          Selling_Price   R-squared:                       0.853\n",
      "Model:                            OLS   Adj. R-squared:                  0.850\n",
      "Method:                 Least Squares   F-statistic:                     298.1\n",
      "Date:                Tue, 14 Apr 2020   Prob (F-statistic):           3.23e-84\n",
      "Time:                        14:20:33   Log-Likelihood:                -447.86\n",
      "No. Observations:                 210   AIC:                             905.7\n",
      "Df Residuals:                     205   BIC:                             922.5\n",
      "Df Model:                           4                                         \n",
      "Covariance Type:            nonrobust                                         \n",
      "=================================================================================\n",
      "                    coef    std err          t      P>|t|      [0.025      0.975]\n",
      "---------------------------------------------------------------------------------\n",
      "intercept      -996.2108    116.383     -8.560      0.000   -1225.671    -766.751\n",
      "Year              0.4950      0.058      8.571      0.000       0.381       0.609\n",
      "Present_Price     0.5225      0.016     33.056      0.000       0.491       0.554\n",
      "Kms_Driven     1.394e-06   3.88e-06      0.360      0.720   -6.25e-06    9.04e-06\n",
      "Owner             0.6685      0.943      0.709      0.479      -1.192       2.529\n",
      "==============================================================================\n",
      "Omnibus:                       58.759   Durbin-Watson:                   1.863\n",
      "Prob(Omnibus):                  0.000   Jarque-Bera (JB):             1149.243\n",
      "Skew:                           0.408   Prob(JB):                    2.79e-250\n",
      "Kurtosis:                      14.431   Cond. No.                     4.79e+07\n",
      "==============================================================================\n",
      "\n",
      "Warnings:\n",
      "[1] Standard Errors assume that the covariance matrix of the errors is correctly specified.\n",
      "[2] The condition number is large, 4.79e+07. This might indicate that there are\n",
      "strong multicollinearity or other numerical problems.\n"
     ]
    }
   ],
   "source": [
    "# consider the numeric variables\n",
    "# drop(): drops specified column(s)/row(s) from the dataframe\n",
    "# axis: specifies whether to drop labels from index or columns; use 1 for columns and 0 for index\n",
    "X_train = X_train.drop(['Fuel_Type_Diesel', 'Fuel_Type_Petrol', 'Seller_Type_Individual','Transmission_Manual'],axis=1)\n",
    "\n",
    "# fit a full model with an intercept using fit()\n",
    "MLR_num = sm.OLS(y_train, X_train).fit()\n",
    "\n",
    "# print the summary output\n",
    "print(MLR_num.summary())"
   ]
  },
  {
   "cell_type": "markdown",
   "metadata": {
    "colab_type": "text",
    "id": "hpkwLgesi1SE"
   },
   "source": [
    "Predictions:"
   ]
  },
  {
   "cell_type": "code",
   "execution_count": null,
   "metadata": {
    "colab": {},
    "colab_type": "code",
    "id": "5tyansdTi1SF"
   },
   "outputs": [],
   "source": [
    "# consider the numeric variables\n",
    "# drop(): drops specified column(s)/row(s) from the dataframe\n",
    "# axis: specifies whether to drop labels from index or columns; use 1 for columns and 0 for index\n",
    "X_test = X_test.drop(['Fuel_Type_Diesel', 'Fuel_Type_Petrol', 'Seller_Type_Individual','Transmission_Manual'],axis=1)\n",
    "\n",
    "# predicting the selling price\n",
    "y_pred = MLR_num.predict(X_test)"
   ]
  },
  {
   "cell_type": "code",
   "execution_count": null,
   "metadata": {
    "colab": {},
    "colab_type": "code",
    "id": "HIQT0MCJi1SI",
    "outputId": "17e7f7a7-85d8-42f8-a404-5d43c2808442",
    "scrolled": true
   },
   "outputs": [
    {
     "data": {
      "text/html": [
       "<div>\n",
       "<style scoped>\n",
       "    .dataframe tbody tr th:only-of-type {\n",
       "        vertical-align: middle;\n",
       "    }\n",
       "\n",
       "    .dataframe tbody tr th {\n",
       "        vertical-align: top;\n",
       "    }\n",
       "\n",
       "    .dataframe thead th {\n",
       "        text-align: right;\n",
       "    }\n",
       "</style>\n",
       "<table border=\"1\" class=\"dataframe\">\n",
       "  <thead>\n",
       "    <tr style=\"text-align: right;\">\n",
       "      <th></th>\n",
       "      <th>Model</th>\n",
       "      <th>R-Squared</th>\n",
       "      <th>Adj. R-Squared</th>\n",
       "      <th>RMSE</th>\n",
       "    </tr>\n",
       "  </thead>\n",
       "  <tbody>\n",
       "    <tr>\n",
       "      <td>0</td>\n",
       "      <td>Linreg full model</td>\n",
       "      <td>0.88385</td>\n",
       "      <td>0.87923</td>\n",
       "      <td>1.66717</td>\n",
       "    </tr>\n",
       "    <tr>\n",
       "      <td>1</td>\n",
       "      <td>Linreg numeric model</td>\n",
       "      <td>0.85329</td>\n",
       "      <td>0.85043</td>\n",
       "      <td>1.87571</td>\n",
       "    </tr>\n",
       "  </tbody>\n",
       "</table>\n",
       "</div>"
      ],
      "text/plain": [
       "                  Model  R-Squared  Adj. R-Squared    RMSE\n",
       "0     Linreg full model    0.88385         0.87923 1.66717\n",
       "1  Linreg numeric model    0.85329         0.85043 1.87571"
      ]
     },
     "execution_count": 19,
     "metadata": {
      "tags": []
     },
     "output_type": "execute_result"
    }
   ],
   "source": [
    "# compiling the required information\n",
    "linreg_num_model = pd.Series({'Model': \"Linreg numeric model\",\n",
    "                          'R-Squared': MLR_num.rsquared,\n",
    "                     'Adj. R-Squared': MLR_num.rsquared_adj ,\n",
    "                               'RMSE': rmse(y_test, y_pred)\n",
    "                   })\n",
    "\n",
    "# appending our result table\n",
    "result_tabulation = result_tabulation.append(linreg_num_model, ignore_index = True)\n",
    "\n",
    "# view the result table\n",
    "result_tabulation"
   ]
  },
  {
   "cell_type": "markdown",
   "metadata": {
    "colab_type": "text",
    "id": "rjs_mZ5ri1SL"
   },
   "source": [
    "The full model is relatively better.  However, we see that there is not much difference in the performance of both the models. We may say that presence of the categorical variables in the data do not play a crucial role in explaining variation of selling price. "
   ]
  }
 ],
 "metadata": {
  "colab": {
   "name": "SLR_Take_home_(Session_4)_Solutions.ipynb",
   "provenance": []
  },
  "kernelspec": {
   "display_name": "Python 3",
   "language": "python",
   "name": "python3"
  },
  "language_info": {
   "codemirror_mode": {
    "name": "ipython",
    "version": 3
   },
   "file_extension": ".py",
   "mimetype": "text/x-python",
   "name": "python",
   "nbconvert_exporter": "python",
   "pygments_lexer": "ipython3",
   "version": "3.8.3"
  }
 },
 "nbformat": 4,
 "nbformat_minor": 1
}
