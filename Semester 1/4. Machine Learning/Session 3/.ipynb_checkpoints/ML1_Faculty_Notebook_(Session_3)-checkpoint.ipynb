{
 "cells": [
  {
   "cell_type": "markdown",
   "metadata": {
    "colab_type": "text",
    "id": "vsYTJf5w2FPx"
   },
   "source": [
    "<table align=\"left\" width=100%>\n",
    "    <tr>\n",
    "        <td width=\"20%\">\n",
    "            <img src=\"faculty.png\">\n",
    "        </td>\n",
    "        <td>\n",
    "            <div align=\"center\">\n",
    "                <font color=\"#21618C\" size=8px>\n",
    "                  <b> Faculty Notebook <br> (Session 3) </b>\n",
    "                </font>\n",
    "            </div>\n",
    "        </td>\n",
    "    </tr>\n",
    "</table>"
   ]
  },
  {
   "cell_type": "markdown",
   "metadata": {
    "colab_type": "text",
    "id": "ty3q7vvy2FPy"
   },
   "source": [
    "## Problem Statement\n",
    "\n",
    "The New York City Controller's Office maintains a database of the salary and benefits paid to city employees since the fiscal year 2013. This is data representing the Employee Compensation report."
   ]
  },
  {
   "cell_type": "markdown",
   "metadata": {
    "colab_type": "text",
    "id": "KyKGFs5G2FPz"
   },
   "source": [
    "**Year Type:**\t\tFiscal (July through June) or Calendar (January through December)<br>\n",
    "\n",
    "**Year:**\t\tAn accounting period of 12 months. The New York City operates operates on a fiscal year that begins on July 1 and ends on June 30 the following year. The Fiscal Year ending June 30, 2012 is represented as FY2011-2012.<br>\n",
    "\n",
    "**Employee Identifier:**\t\tEach distinct number in the “Employee Identifier” column represents one employee. These identifying numbers are not meaningful but rather are randomly assigned for the purpose of building this dataset.<br> \n",
    "\n",
    "**Salaries:**\t\tNormal salaries paid to permanent or temporary City employees. <br>\n",
    "\n",
    "**Overtime:**\t\tAmounts paid to City employees working in excess of 40 hours per week. <br>\n",
    "\n",
    "**Other Salaries:**\t\tVarious irregular payments made to City employees including premium pay, incentive pay, or other one-time payments. <br>\n",
    "\n",
    "**Total Salary:**\t\tThe sum of all salaries paid to City employees.<br>\n",
    "\n",
    "**Retirement:**\t\tCity contributions to employee retirement plans. <br>\n",
    "\n",
    "**Health/Dental:**\t\tCity-paid premiums to health and dental insurance plans covering City employees. To protect confidentiality as legally required, pro-rated citywide averages are presented in lieu of employee-specific health and dental benefits. <br>\n",
    "\n",
    "**Other Benefits:**\t\tMandatory benefits paid on behalf of employees, such as Social Security (FICA and Medicare) contributions, unemployment insurance premiums, and minor discretionary benefits not included in the above categories.<br>\n",
    "\n",
    "**Total Benefits:**\t\tThe sum of all benefits paid to City employees.<br>\n",
    "\n",
    "**Total Compensation:**\t\tThe sum of all salaries and benefits paid to City employees."
   ]
  },
  {
   "cell_type": "markdown",
   "metadata": {
    "colab_type": "text",
    "id": "63TmqM7D2FP0"
   },
   "source": [
    "<a id=\"lib\"></a>\n",
    "# 1. Import Libraries"
   ]
  },
  {
   "cell_type": "code",
   "execution_count": 191,
   "metadata": {
    "colab": {},
    "colab_type": "code",
    "id": "1H-ORR6o2FP1"
   },
   "outputs": [],
   "source": [
    "# import 'Pandas' \n",
    "import pandas as pd \n",
    "\n",
    "# import 'Numpy' \n",
    "import numpy as np\n",
    "\n",
    "# import subpackage of Matplotlib\n",
    "import matplotlib.pyplot as plt\n",
    "\n",
    "# import 'Seaborn' \n",
    "import seaborn as sns\n",
    "\n",
    "# to suppress warnings \n",
    "from warnings import filterwarnings\n",
    "filterwarnings('ignore')\n",
    "\n",
    "# display all columns of the dataframe\n",
    "pd.options.display.max_columns = None\n",
    "\n",
    "# display all rows of the dataframe\n",
    "pd.options.display.max_rows = None\n",
    " \n",
    "# to display the float values upto 6 decimal places     \n",
    "pd.options.display.float_format = '{:.6f}'.format\n",
    "\n",
    "# import train-test split \n",
    "from sklearn.model_selection import train_test_split\n",
    "\n",
    "# import various functions from statsmodel to perform linear regression\n",
    "import statsmodels\n",
    "import statsmodels.api as sm\n",
    "import statsmodels.stats.api as sms\n",
    "from statsmodels.compat import lzip\n",
    "from statsmodels.stats.outliers_influence import variance_inflation_factor\n",
    "from statsmodels.graphics.gofplots import qqplot\n",
    "from statsmodels.stats.anova import anova_lm\n",
    "from statsmodels.formula.api import ols\n",
    "from statsmodels.tools.eval_measures import rmse\n",
    "\n",
    "# import various functions from scipy\n",
    "from scipy import stats\n",
    "from scipy.stats import shapiro\n",
    "\n",
    "# 'metrics' from sklearn is used for evaluating the model performance\n",
    "from sklearn.metrics import mean_absolute_error\n",
    "from sklearn.metrics import mean_squared_error"
   ]
  },
  {
   "cell_type": "markdown",
   "metadata": {
    "colab_type": "text",
    "id": "Ug-in7Hf2FP4"
   },
   "source": [
    "<a id=\"prep\"></a>\n",
    "# 2. Data Preparation"
   ]
  },
  {
   "cell_type": "markdown",
   "metadata": {
    "colab_type": "text",
    "id": "UupanqC12FP5"
   },
   "source": [
    "<a id=\"read\"></a>\n",
    "## 2.1 Understand the Data"
   ]
  },
  {
   "cell_type": "code",
   "execution_count": 192,
   "metadata": {
    "colab": {},
    "colab_type": "code",
    "id": "GoF3FUb62FP6",
    "outputId": "c27b346f-a77b-4e53-cdf4-81d6f9d5a5c3"
   },
   "outputs": [
    {
     "data": {
      "text/html": [
       "<div>\n",
       "<style scoped>\n",
       "    .dataframe tbody tr th:only-of-type {\n",
       "        vertical-align: middle;\n",
       "    }\n",
       "\n",
       "    .dataframe tbody tr th {\n",
       "        vertical-align: top;\n",
       "    }\n",
       "\n",
       "    .dataframe thead th {\n",
       "        text-align: right;\n",
       "    }\n",
       "</style>\n",
       "<table border=\"1\" class=\"dataframe\">\n",
       "  <thead>\n",
       "    <tr style=\"text-align: right;\">\n",
       "      <th></th>\n",
       "      <th>Year_Type</th>\n",
       "      <th>Year</th>\n",
       "      <th>Employee_Identifier</th>\n",
       "      <th>Salaries</th>\n",
       "      <th>Overtime</th>\n",
       "      <th>Other_Salaries</th>\n",
       "      <th>Total_Salary</th>\n",
       "      <th>Retirement</th>\n",
       "      <th>Health/Dental</th>\n",
       "      <th>Other_Benefits</th>\n",
       "      <th>Total_Benefits</th>\n",
       "      <th>Total_Compensation</th>\n",
       "    </tr>\n",
       "  </thead>\n",
       "  <tbody>\n",
       "    <tr>\n",
       "      <th>0</th>\n",
       "      <td>Fiscal</td>\n",
       "      <td>2015</td>\n",
       "      <td>42853</td>\n",
       "      <td>92288.220000</td>\n",
       "      <td>267.450000</td>\n",
       "      <td>267.450000</td>\n",
       "      <td>92823.120000</td>\n",
       "      <td>20700.200000</td>\n",
       "      <td>12500.560000</td>\n",
       "      <td>7605.750000</td>\n",
       "      <td>40806.510000</td>\n",
       "      <td>133629.630000</td>\n",
       "    </tr>\n",
       "    <tr>\n",
       "      <th>1</th>\n",
       "      <td>Calendar</td>\n",
       "      <td>2015</td>\n",
       "      <td>28248</td>\n",
       "      <td>1466.380000</td>\n",
       "      <td>348.230000</td>\n",
       "      <td>0.000000</td>\n",
       "      <td>1814.610000</td>\n",
       "      <td>0.000000</td>\n",
       "      <td>442.030000</td>\n",
       "      <td>141.590000</td>\n",
       "      <td>583.620000</td>\n",
       "      <td>2398.230000</td>\n",
       "    </tr>\n",
       "    <tr>\n",
       "      <th>2</th>\n",
       "      <td>Fiscal</td>\n",
       "      <td>2014</td>\n",
       "      <td>30651</td>\n",
       "      <td>76536.950000</td>\n",
       "      <td>13583.720000</td>\n",
       "      <td>10855.940000</td>\n",
       "      <td>100976.610000</td>\n",
       "      <td>18632.190000</td>\n",
       "      <td>12464.610000</td>\n",
       "      <td>8011.410000</td>\n",
       "      <td>39108.210000</td>\n",
       "      <td>140084.820000</td>\n",
       "    </tr>\n",
       "    <tr>\n",
       "      <th>3</th>\n",
       "      <td>Fiscal</td>\n",
       "      <td>2014</td>\n",
       "      <td>19473</td>\n",
       "      <td>45659.880000</td>\n",
       "      <td>0.000000</td>\n",
       "      <td>1625.370000</td>\n",
       "      <td>47285.250000</td>\n",
       "      <td>10081.200000</td>\n",
       "      <td>0.000000</td>\n",
       "      <td>3936.630000</td>\n",
       "      <td>14017.830000</td>\n",
       "      <td>61303.080000</td>\n",
       "    </tr>\n",
       "    <tr>\n",
       "      <th>4</th>\n",
       "      <td>Fiscal</td>\n",
       "      <td>2013</td>\n",
       "      <td>7176</td>\n",
       "      <td>41832.000000</td>\n",
       "      <td>0.000000</td>\n",
       "      <td>0.000000</td>\n",
       "      <td>41832.000000</td>\n",
       "      <td>7617.600000</td>\n",
       "      <td>5908.520000</td>\n",
       "      <td>3254.500000</td>\n",
       "      <td>16780.620000</td>\n",
       "      <td>58612.620000</td>\n",
       "    </tr>\n",
       "  </tbody>\n",
       "</table>\n",
       "</div>"
      ],
      "text/plain": [
       "  Year_Type  Year  Employee_Identifier     Salaries     Overtime  \\\n",
       "0    Fiscal  2015                42853 92288.220000   267.450000   \n",
       "1  Calendar  2015                28248  1466.380000   348.230000   \n",
       "2    Fiscal  2014                30651 76536.950000 13583.720000   \n",
       "3    Fiscal  2014                19473 45659.880000     0.000000   \n",
       "4    Fiscal  2013                 7176 41832.000000     0.000000   \n",
       "\n",
       "   Other_Salaries  Total_Salary   Retirement  Health/Dental  Other_Benefits  \\\n",
       "0      267.450000  92823.120000 20700.200000   12500.560000     7605.750000   \n",
       "1        0.000000   1814.610000     0.000000     442.030000      141.590000   \n",
       "2    10855.940000 100976.610000 18632.190000   12464.610000     8011.410000   \n",
       "3     1625.370000  47285.250000 10081.200000       0.000000     3936.630000   \n",
       "4        0.000000  41832.000000  7617.600000    5908.520000     3254.500000   \n",
       "\n",
       "   Total_Benefits  Total_Compensation  \n",
       "0    40806.510000       133629.630000  \n",
       "1      583.620000         2398.230000  \n",
       "2    39108.210000       140084.820000  \n",
       "3    14017.830000        61303.080000  \n",
       "4    16780.620000        58612.620000  "
      ]
     },
     "execution_count": 192,
     "metadata": {},
     "output_type": "execute_result"
    }
   ],
   "source": [
    "# load the csv file\n",
    "# store the data in 'df_compensation'\n",
    "df_compensation = pd.read_csv('employee_compensation.csv')\n",
    "\n",
    "# display first five observations using head()\n",
    "df_compensation.head()"
   ]
  },
  {
   "cell_type": "code",
   "execution_count": 193,
   "metadata": {
    "colab": {},
    "colab_type": "code",
    "id": "PNXGarYx2FP9",
    "outputId": "f3b95f32-e33d-4f69-c8fe-c66053ff3c92"
   },
   "outputs": [
    {
     "data": {
      "text/plain": [
       "(50000, 12)"
      ]
     },
     "execution_count": 193,
     "metadata": {},
     "output_type": "execute_result"
    }
   ],
   "source": [
    "# use 'shape' to check the dimension of data\n",
    "df_compensation.shape"
   ]
  },
  {
   "cell_type": "code",
   "execution_count": 194,
   "metadata": {
    "colab": {},
    "colab_type": "code",
    "id": "0iCN9WnA2FQB",
    "outputId": "e886a2da-7dbd-46d3-bf2c-fe80872bcfa7"
   },
   "outputs": [
    {
     "name": "stdout",
     "output_type": "stream",
     "text": [
      "<class 'pandas.core.frame.DataFrame'>\n",
      "RangeIndex: 50000 entries, 0 to 49999\n",
      "Data columns (total 12 columns):\n",
      " #   Column               Non-Null Count  Dtype  \n",
      "---  ------               --------------  -----  \n",
      " 0   Year_Type            50000 non-null  object \n",
      " 1   Year                 50000 non-null  int64  \n",
      " 2   Employee_Identifier  50000 non-null  int64  \n",
      " 3   Salaries             50000 non-null  float64\n",
      " 4   Overtime             50000 non-null  float64\n",
      " 5   Other_Salaries       50000 non-null  float64\n",
      " 6   Total_Salary         50000 non-null  float64\n",
      " 7   Retirement           50000 non-null  float64\n",
      " 8   Health/Dental        50000 non-null  float64\n",
      " 9   Other_Benefits       50000 non-null  float64\n",
      " 10  Total_Benefits       50000 non-null  float64\n",
      " 11  Total_Compensation   50000 non-null  float64\n",
      "dtypes: float64(9), int64(2), object(1)\n",
      "memory usage: 4.6+ MB\n"
     ]
    }
   ],
   "source": [
    "# use 'info()' to understand the dataset\n",
    "df_compensation.info()"
   ]
  },
  {
   "cell_type": "code",
   "execution_count": 195,
   "metadata": {
    "colab": {},
    "colab_type": "code",
    "id": "AfCxXgHD2FQE"
   },
   "outputs": [],
   "source": [
    "# convert numerical variables to categorical (object) \n",
    "# use astype() to change the data type\n",
    "\n",
    "# change the data type of 'Year'\n",
    "df_compensation['Year'] = df_compensation['Year'].astype(object)"
   ]
  },
  {
   "cell_type": "markdown",
   "metadata": {
    "colab_type": "text",
    "id": "fq7tNMVb2FQH"
   },
   "source": [
    "#### Recheck the data type after the conversion. "
   ]
  },
  {
   "cell_type": "code",
   "execution_count": 196,
   "metadata": {
    "colab": {},
    "colab_type": "code",
    "id": "v_amN_y82FQI",
    "outputId": "aecae057-8044-4054-a6a9-2ebe29b6898b"
   },
   "outputs": [
    {
     "data": {
      "text/plain": [
       "Year_Type               object\n",
       "Year                    object\n",
       "Employee_Identifier      int64\n",
       "Salaries               float64\n",
       "Overtime               float64\n",
       "Other_Salaries         float64\n",
       "Total_Salary           float64\n",
       "Retirement             float64\n",
       "Health/Dental          float64\n",
       "Other_Benefits         float64\n",
       "Total_Benefits         float64\n",
       "Total_Compensation     float64\n",
       "dtype: object"
      ]
     },
     "execution_count": 196,
     "metadata": {},
     "output_type": "execute_result"
    }
   ],
   "source": [
    "# recheck the data types using 'dtypes'\n",
    "df_compensation.dtypes"
   ]
  },
  {
   "cell_type": "markdown",
   "metadata": {
    "colab_type": "text",
    "id": "EdOT_7-o2FQK"
   },
   "source": [
    "<a id=\"drop\"></a>\n",
    "## 2.3 Remove Insignificant Variables"
   ]
  },
  {
   "cell_type": "code",
   "execution_count": 197,
   "metadata": {
    "colab": {},
    "colab_type": "code",
    "id": "TJjq7PJj2FQL"
   },
   "outputs": [],
   "source": [
    "# drop the column 'Employee_Identifier' using drop()\n",
    "# 'axis = 1' drops the specified column\n",
    "df_compensation = df_compensation.drop('Employee_Identifier',axis=1)"
   ]
  },
  {
   "cell_type": "markdown",
   "metadata": {
    "colab_type": "text",
    "id": "ikucG7fF2FQN"
   },
   "source": [
    "<a id=\"outlier\"></a>\n",
    "## 2.2 Outlier Analysis and Treatment"
   ]
  },
  {
   "cell_type": "markdown",
   "metadata": {
    "colab_type": "text",
    "id": "_Aqz9ZDP2FQO"
   },
   "source": [
    "**Check the outliers in all the variables and treat them using appropriate techniques.**"
   ]
  },
  {
   "cell_type": "code",
   "execution_count": 198,
   "metadata": {
    "colab": {},
    "colab_type": "code",
    "id": "urQlXHZo2FQO",
    "outputId": "ddb745bb-e192-4b54-a3f9-4fd7f9fc46e3"
   },
   "outputs": [
    {
     "data": {
      "image/png": "[encoded data removed]",
      "text/plain": [
       "<Figure size 1080x576 with 1 Axes>"
      ]
     },
     "metadata": {
      "needs_background": "light"
     },
     "output_type": "display_data"
    }
   ],
   "source": [
    "# set the plot size using figure()\n",
    "# pass width and height in inches to 'figsize' \n",
    "plt.figure(figsize = (15,8))\n",
    "\n",
    "# plot a boxplot to visualize the outliers in all the numeric variables\n",
    "df_compensation.boxplot()\n",
    "\n",
    "# set plot label\n",
    "# set text size using 'fontsize'\n",
    "plt.title('Distribution of all Numeric Variables', fontsize = 15)\n",
    "\n",
    "# xticks() returns the x-axis ticks\n",
    "# 'rotation = vertical' rotates the x-axis labels vertically\n",
    "plt.xticks(rotation = 'vertical', fontsize = 15)\n",
    "\n",
    "# display the plot\n",
    "plt.show()"
   ]
  },
  {
   "cell_type": "code",
   "execution_count": 199,
   "metadata": {
    "colab": {},
    "colab_type": "code",
    "id": "xO1h0TN62FQR",
    "outputId": "a2fb6ac9-61f9-4032-d0be-a28671ac2e01"
   },
   "outputs": [
    {
     "data": {
      "image/png": "[encoded data removed]",
      "text/plain": [
       "<Figure size 1080x576 with 1 Axes>"
      ]
     },
     "metadata": {
      "needs_background": "light"
     },
     "output_type": "display_data"
    }
   ],
   "source": [
    "# boxplot of independent variables\n",
    "\n",
    "# set the plot size using figure()\n",
    "# pass width and height in inches to 'figsize' \n",
    "plt.figure(figsize = (15,8))\n",
    "\n",
    "# plot boxplots of all the numeric variables except the variables 'Salaries', 'Total_Salary' and 'Total_Compensation' \n",
    "# use 'loc[]' to select the variables\n",
    "df_compensation.loc[:,['Overtime', 'Other_Salaries', 'Retirement', 'Other_Benefits', 'Total_Benefits']].boxplot()\n",
    "\n",
    "# set plot label\n",
    "# set text size using 'fontsize'\n",
    "plt.title('Distribution of Independent Variables', fontsize = 15)\n",
    "\n",
    "# xticks() returns the x-axis ticks\n",
    "# 'rotation = vertical' rotates the x-axis labels vertically\n",
    "plt.xticks(rotation = 'vertical', fontsize = 15)\n",
    "\n",
    "# display the plot\n",
    "plt.show()"
   ]
  },
  {
   "cell_type": "code",
   "execution_count": 200,
   "metadata": {
    "colab": {},
    "colab_type": "code",
    "id": "KrQvNmAR2FQU",
    "outputId": "4a3110f0-a995-4562-808a-719323d98b8b"
   },
   "outputs": [
    {
     "data": {
      "image/png": "[encoded data removed]",
      "text/plain": [
       "<Figure size 1080x576 with 1 Axes>"
      ]
     },
     "metadata": {
      "needs_background": "light"
     },
     "output_type": "display_data"
    }
   ],
   "source": [
    "# set the plot size using figure()\n",
    "# pass width and height in inches to 'figsize' \n",
    "plt.figure(figsize = (15,8))\n",
    "\n",
    "# plot boxplot for 'Total_Compensation' using seaborn library\n",
    "sns.boxplot(df_compensation['Total_Compensation'])\n",
    "\n",
    "# add plot and axis labels\n",
    "# set text size using 'fontsize'\n",
    "plt.title('Distribution of Target Variable (Total_Compensation)', fontsize = 15)\n",
    "plt.xlabel('Total_Compensation', fontsize = 15)\n",
    "\n",
    "# display the plot\n",
    "plt.show()"
   ]
  },
  {
   "cell_type": "code",
   "execution_count": 201,
   "metadata": {
    "colab": {},
    "colab_type": "code",
    "id": "ycQiyta72FQX",
    "outputId": "1fa94400-8c8b-4343-9d0f-a0975c9d0b70"
   },
   "outputs": [
    {
     "data": {
      "text/plain": [
       "(37721, 11)"
      ]
     },
     "execution_count": 201,
     "metadata": {},
     "output_type": "execute_result"
    }
   ],
   "source": [
    "# calculate the first quartile\n",
    "Q1 = df_compensation.quantile(0.25)\n",
    "\n",
    "# calculate the third quartile\n",
    "Q3 = df_compensation.quantile(0.75)\n",
    "\n",
    "# The Interquartile Range (IQR) is defined as the difference between the third and first quartile\n",
    "# calculate IQR for each numeric variable\n",
    "IQR = Q3 - Q1\n",
    "\n",
    "# retrieve the dataframe without the outliers\n",
    "# '~' returns the values that do not satisfy the given conditions \n",
    "# i.e. it returns values between the range [Q1-1.5*IQR, Q3+1.5*IQR]\n",
    "# '|' is used as 'OR' operator on multiple conditions   \n",
    "# 'any(axis=1)' checks the entire row for atleast one 'True' entry (those rows represents outliers in the data)\n",
    "df_compensation = df_compensation[~((df_compensation < (Q1 - 1.5 * IQR)) | (df_compensation > (Q3 + 1.5 * IQR))).any(axis=1)]\n",
    "\n",
    "# check the shape of the data\n",
    "df_compensation.shape"
   ]
  },
  {
   "cell_type": "markdown",
   "metadata": {
    "colab_type": "text",
    "id": "Rj2XkrdV2FQa"
   },
   "source": [
    "<a id=\"null\"></a>\n",
    "## 2.3 Missing Value Analysis and Treatment"
   ]
  },
  {
   "cell_type": "markdown",
   "metadata": {
    "colab_type": "text",
    "id": "AK3vGaZo2FQa"
   },
   "source": [
    "**Check the presence of missing values in the data and treat them.**"
   ]
  },
  {
   "cell_type": "code",
   "execution_count": 202,
   "metadata": {
    "colab": {},
    "colab_type": "code",
    "id": "_vdroCil2FQa",
    "outputId": "654d9a15-9cfb-477f-dfb7-d5ba98b84697"
   },
   "outputs": [
    {
     "data": {
      "text/html": [
       "<div>\n",
       "<style scoped>\n",
       "    .dataframe tbody tr th:only-of-type {\n",
       "        vertical-align: middle;\n",
       "    }\n",
       "\n",
       "    .dataframe tbody tr th {\n",
       "        vertical-align: top;\n",
       "    }\n",
       "\n",
       "    .dataframe thead th {\n",
       "        text-align: right;\n",
       "    }\n",
       "</style>\n",
       "<table border=\"1\" class=\"dataframe\">\n",
       "  <thead>\n",
       "    <tr style=\"text-align: right;\">\n",
       "      <th></th>\n",
       "      <th>Total</th>\n",
       "      <th>Percentage of Missing Values</th>\n",
       "    </tr>\n",
       "  </thead>\n",
       "  <tbody>\n",
       "    <tr>\n",
       "      <th>Year_Type</th>\n",
       "      <td>0</td>\n",
       "      <td>0.000000</td>\n",
       "    </tr>\n",
       "    <tr>\n",
       "      <th>Year</th>\n",
       "      <td>0</td>\n",
       "      <td>0.000000</td>\n",
       "    </tr>\n",
       "    <tr>\n",
       "      <th>Salaries</th>\n",
       "      <td>0</td>\n",
       "      <td>0.000000</td>\n",
       "    </tr>\n",
       "    <tr>\n",
       "      <th>Overtime</th>\n",
       "      <td>0</td>\n",
       "      <td>0.000000</td>\n",
       "    </tr>\n",
       "    <tr>\n",
       "      <th>Other_Salaries</th>\n",
       "      <td>0</td>\n",
       "      <td>0.000000</td>\n",
       "    </tr>\n",
       "    <tr>\n",
       "      <th>Total_Salary</th>\n",
       "      <td>0</td>\n",
       "      <td>0.000000</td>\n",
       "    </tr>\n",
       "    <tr>\n",
       "      <th>Retirement</th>\n",
       "      <td>0</td>\n",
       "      <td>0.000000</td>\n",
       "    </tr>\n",
       "    <tr>\n",
       "      <th>Health/Dental</th>\n",
       "      <td>0</td>\n",
       "      <td>0.000000</td>\n",
       "    </tr>\n",
       "    <tr>\n",
       "      <th>Other_Benefits</th>\n",
       "      <td>0</td>\n",
       "      <td>0.000000</td>\n",
       "    </tr>\n",
       "    <tr>\n",
       "      <th>Total_Benefits</th>\n",
       "      <td>0</td>\n",
       "      <td>0.000000</td>\n",
       "    </tr>\n",
       "    <tr>\n",
       "      <th>Total_Compensation</th>\n",
       "      <td>0</td>\n",
       "      <td>0.000000</td>\n",
       "    </tr>\n",
       "  </tbody>\n",
       "</table>\n",
       "</div>"
      ],
      "text/plain": [
       "                    Total  Percentage of Missing Values\n",
       "Year_Type               0                      0.000000\n",
       "Year                    0                      0.000000\n",
       "Salaries                0                      0.000000\n",
       "Overtime                0                      0.000000\n",
       "Other_Salaries          0                      0.000000\n",
       "Total_Salary            0                      0.000000\n",
       "Retirement              0                      0.000000\n",
       "Health/Dental           0                      0.000000\n",
       "Other_Benefits          0                      0.000000\n",
       "Total_Benefits          0                      0.000000\n",
       "Total_Compensation      0                      0.000000"
      ]
     },
     "execution_count": 202,
     "metadata": {},
     "output_type": "execute_result"
    }
   ],
   "source": [
    "# sort the variables on the basis of total null values in the variable\n",
    "# 'isnull().sum()' returns the number of missing values in each variable\n",
    "# 'ascending = False' sorts values in the descending order\n",
    "# the variable with highest number of missing values will appear first\n",
    "Total = df_compensation.isnull().sum().sort_values(ascending=False)          \n",
    "\n",
    "# calculate percentage of missing values\n",
    "# 'ascending = False' sorts values in the descending order\n",
    "# the variable with highest percentage of missing values will appear first\n",
    "Percent = (df_compensation.isnull().sum()*100/df_compensation.isnull().count()).sort_values(ascending=False)   \n",
    "\n",
    "# concat the 'Total' and 'Percent' columns using 'concat' function\n",
    "# pass a list of column names in parameter 'keys' \n",
    "# 'axis = 1' concats along the columns\n",
    "missing_data = pd.concat([Total, Percent], axis=1, keys=['Total', 'Percentage of Missing Values'])    \n",
    "missing_data"
   ]
  },
  {
   "cell_type": "markdown",
   "metadata": {
    "colab_type": "text",
    "id": "zrQnIgtD2FQd"
   },
   "source": [
    "<a id=\"scale\"></a>\n",
    "## 2.4 Scale the Data"
   ]
  },
  {
   "cell_type": "code",
   "execution_count": 203,
   "metadata": {
    "colab": {},
    "colab_type": "code",
    "id": "lwJJWSMG2FQe",
    "outputId": "a05d1242-2d10-4623-bd50-427a1e9d2fee"
   },
   "outputs": [
    {
     "data": {
      "text/html": [
       "<div>\n",
       "<style scoped>\n",
       "    .dataframe tbody tr th:only-of-type {\n",
       "        vertical-align: middle;\n",
       "    }\n",
       "\n",
       "    .dataframe tbody tr th {\n",
       "        vertical-align: top;\n",
       "    }\n",
       "\n",
       "    .dataframe thead th {\n",
       "        text-align: right;\n",
       "    }\n",
       "</style>\n",
       "<table border=\"1\" class=\"dataframe\">\n",
       "  <thead>\n",
       "    <tr style=\"text-align: right;\">\n",
       "      <th></th>\n",
       "      <th>Year_Type</th>\n",
       "      <th>Year</th>\n",
       "      <th>Salaries</th>\n",
       "      <th>Overtime</th>\n",
       "      <th>Other_Salaries</th>\n",
       "      <th>Total_Salary</th>\n",
       "      <th>Retirement</th>\n",
       "      <th>Health/Dental</th>\n",
       "      <th>Other_Benefits</th>\n",
       "      <th>Total_Benefits</th>\n",
       "      <th>Total_Compensation</th>\n",
       "    </tr>\n",
       "  </thead>\n",
       "  <tbody>\n",
       "    <tr>\n",
       "      <th>0</th>\n",
       "      <td>Fiscal</td>\n",
       "      <td>2015</td>\n",
       "      <td>92288.220000</td>\n",
       "      <td>267.450000</td>\n",
       "      <td>267.450000</td>\n",
       "      <td>92823.120000</td>\n",
       "      <td>20700.200000</td>\n",
       "      <td>12500.560000</td>\n",
       "      <td>7605.750000</td>\n",
       "      <td>40806.510000</td>\n",
       "      <td>133629.630000</td>\n",
       "    </tr>\n",
       "    <tr>\n",
       "      <th>1</th>\n",
       "      <td>Calendar</td>\n",
       "      <td>2015</td>\n",
       "      <td>1466.380000</td>\n",
       "      <td>348.230000</td>\n",
       "      <td>0.000000</td>\n",
       "      <td>1814.610000</td>\n",
       "      <td>0.000000</td>\n",
       "      <td>442.030000</td>\n",
       "      <td>141.590000</td>\n",
       "      <td>583.620000</td>\n",
       "      <td>2398.230000</td>\n",
       "    </tr>\n",
       "    <tr>\n",
       "      <th>3</th>\n",
       "      <td>Fiscal</td>\n",
       "      <td>2014</td>\n",
       "      <td>45659.880000</td>\n",
       "      <td>0.000000</td>\n",
       "      <td>1625.370000</td>\n",
       "      <td>47285.250000</td>\n",
       "      <td>10081.200000</td>\n",
       "      <td>0.000000</td>\n",
       "      <td>3936.630000</td>\n",
       "      <td>14017.830000</td>\n",
       "      <td>61303.080000</td>\n",
       "    </tr>\n",
       "    <tr>\n",
       "      <th>4</th>\n",
       "      <td>Fiscal</td>\n",
       "      <td>2013</td>\n",
       "      <td>41832.000000</td>\n",
       "      <td>0.000000</td>\n",
       "      <td>0.000000</td>\n",
       "      <td>41832.000000</td>\n",
       "      <td>7617.600000</td>\n",
       "      <td>5908.520000</td>\n",
       "      <td>3254.500000</td>\n",
       "      <td>16780.620000</td>\n",
       "      <td>58612.620000</td>\n",
       "    </tr>\n",
       "    <tr>\n",
       "      <th>5</th>\n",
       "      <td>Calendar</td>\n",
       "      <td>2013</td>\n",
       "      <td>74132.000000</td>\n",
       "      <td>0.000000</td>\n",
       "      <td>1443.420000</td>\n",
       "      <td>75575.420000</td>\n",
       "      <td>14851.230000</td>\n",
       "      <td>12888.340000</td>\n",
       "      <td>6233.850000</td>\n",
       "      <td>33973.420000</td>\n",
       "      <td>109548.840000</td>\n",
       "    </tr>\n",
       "  </tbody>\n",
       "</table>\n",
       "</div>"
      ],
      "text/plain": [
       "  Year_Type  Year     Salaries   Overtime  Other_Salaries  Total_Salary  \\\n",
       "0    Fiscal  2015 92288.220000 267.450000      267.450000  92823.120000   \n",
       "1  Calendar  2015  1466.380000 348.230000        0.000000   1814.610000   \n",
       "3    Fiscal  2014 45659.880000   0.000000     1625.370000  47285.250000   \n",
       "4    Fiscal  2013 41832.000000   0.000000        0.000000  41832.000000   \n",
       "5  Calendar  2013 74132.000000   0.000000     1443.420000  75575.420000   \n",
       "\n",
       "    Retirement  Health/Dental  Other_Benefits  Total_Benefits  \\\n",
       "0 20700.200000   12500.560000     7605.750000    40806.510000   \n",
       "1     0.000000     442.030000      141.590000      583.620000   \n",
       "3 10081.200000       0.000000     3936.630000    14017.830000   \n",
       "4  7617.600000    5908.520000     3254.500000    16780.620000   \n",
       "5 14851.230000   12888.340000     6233.850000    33973.420000   \n",
       "\n",
       "   Total_Compensation  \n",
       "0       133629.630000  \n",
       "1         2398.230000  \n",
       "3        61303.080000  \n",
       "4        58612.620000  \n",
       "5       109548.840000  "
      ]
     },
     "execution_count": 203,
     "metadata": {},
     "output_type": "execute_result"
    }
   ],
   "source": [
    "df_compensation.head()"
   ]
  },
  {
   "cell_type": "code",
   "execution_count": 204,
   "metadata": {
    "colab": {},
    "colab_type": "code",
    "id": "jd2l3e1M2FQg",
    "outputId": "9cd2c6f6-238d-43bf-98d3-b3191e9968fd"
   },
   "outputs": [
    {
     "data": {
      "text/html": [
       "<div>\n",
       "<style scoped>\n",
       "    .dataframe tbody tr th:only-of-type {\n",
       "        vertical-align: middle;\n",
       "    }\n",
       "\n",
       "    .dataframe tbody tr th {\n",
       "        vertical-align: top;\n",
       "    }\n",
       "\n",
       "    .dataframe thead th {\n",
       "        text-align: right;\n",
       "    }\n",
       "</style>\n",
       "<table border=\"1\" class=\"dataframe\">\n",
       "  <thead>\n",
       "    <tr style=\"text-align: right;\">\n",
       "      <th></th>\n",
       "      <th>Year_Type</th>\n",
       "      <th>Year</th>\n",
       "      <th>Salaries</th>\n",
       "      <th>Overtime</th>\n",
       "      <th>Other_Salaries</th>\n",
       "      <th>Total_Salary</th>\n",
       "      <th>Retirement</th>\n",
       "      <th>Health/Dental</th>\n",
       "      <th>Other_Benefits</th>\n",
       "      <th>Total_Benefits</th>\n",
       "      <th>Total_Compensation</th>\n",
       "    </tr>\n",
       "  </thead>\n",
       "  <tbody>\n",
       "    <tr>\n",
       "      <th>0</th>\n",
       "      <td>Fiscal</td>\n",
       "      <td>2015</td>\n",
       "      <td>0.983488</td>\n",
       "      <td>-0.228091</td>\n",
       "      <td>-0.474919</td>\n",
       "      <td>0.926912</td>\n",
       "      <td>1.178494</td>\n",
       "      <td>0.916565</td>\n",
       "      <td>1.145315</td>\n",
       "      <td>1.160922</td>\n",
       "      <td>1.001727</td>\n",
       "    </tr>\n",
       "    <tr>\n",
       "      <th>1</th>\n",
       "      <td>Calendar</td>\n",
       "      <td>2015</td>\n",
       "      <td>-1.252266</td>\n",
       "      <td>-0.167552</td>\n",
       "      <td>-0.587276</td>\n",
       "      <td>-1.263215</td>\n",
       "      <td>-1.180529</td>\n",
       "      <td>-1.491462</td>\n",
       "      <td>-1.259970</td>\n",
       "      <td>-1.365191</td>\n",
       "      <td>-1.304472</td>\n",
       "    </tr>\n",
       "    <tr>\n",
       "      <th>3</th>\n",
       "      <td>Fiscal</td>\n",
       "      <td>2014</td>\n",
       "      <td>-0.164358</td>\n",
       "      <td>-0.428525</td>\n",
       "      <td>0.095551</td>\n",
       "      <td>-0.168961</td>\n",
       "      <td>-0.031662</td>\n",
       "      <td>-1.579733</td>\n",
       "      <td>-0.037039</td>\n",
       "      <td>-0.521484</td>\n",
       "      <td>-0.269306</td>\n",
       "    </tr>\n",
       "    <tr>\n",
       "      <th>4</th>\n",
       "      <td>Fiscal</td>\n",
       "      <td>2013</td>\n",
       "      <td>-0.258589</td>\n",
       "      <td>-0.428525</td>\n",
       "      <td>-0.587276</td>\n",
       "      <td>-0.300194</td>\n",
       "      <td>-0.312417</td>\n",
       "      <td>-0.399832</td>\n",
       "      <td>-0.256852</td>\n",
       "      <td>-0.347973</td>\n",
       "      <td>-0.316586</td>\n",
       "    </tr>\n",
       "    <tr>\n",
       "      <th>5</th>\n",
       "      <td>Calendar</td>\n",
       "      <td>2013</td>\n",
       "      <td>0.536538</td>\n",
       "      <td>-0.428525</td>\n",
       "      <td>0.019113</td>\n",
       "      <td>0.511845</td>\n",
       "      <td>0.511937</td>\n",
       "      <td>0.994002</td>\n",
       "      <td>0.703228</td>\n",
       "      <td>0.731784</td>\n",
       "      <td>0.578543</td>\n",
       "    </tr>\n",
       "  </tbody>\n",
       "</table>\n",
       "</div>"
      ],
      "text/plain": [
       "  Year_Type  Year  Salaries  Overtime  Other_Salaries  Total_Salary  \\\n",
       "0    Fiscal  2015  0.983488 -0.228091       -0.474919      0.926912   \n",
       "1  Calendar  2015 -1.252266 -0.167552       -0.587276     -1.263215   \n",
       "3    Fiscal  2014 -0.164358 -0.428525        0.095551     -0.168961   \n",
       "4    Fiscal  2013 -0.258589 -0.428525       -0.587276     -0.300194   \n",
       "5  Calendar  2013  0.536538 -0.428525        0.019113      0.511845   \n",
       "\n",
       "   Retirement  Health/Dental  Other_Benefits  Total_Benefits  \\\n",
       "0    1.178494       0.916565        1.145315        1.160922   \n",
       "1   -1.180529      -1.491462       -1.259970       -1.365191   \n",
       "3   -0.031662      -1.579733       -0.037039       -0.521484   \n",
       "4   -0.312417      -0.399832       -0.256852       -0.347973   \n",
       "5    0.511937       0.994002        0.703228        0.731784   \n",
       "\n",
       "   Total_Compensation  \n",
       "0            1.001727  \n",
       "1           -1.304472  \n",
       "3           -0.269306  \n",
       "4           -0.316586  \n",
       "5            0.578543  "
      ]
     },
     "execution_count": 204,
     "metadata": {},
     "output_type": "execute_result"
    }
   ],
   "source": [
    "# scale the independent numeric variables\n",
    "df_compensation.iloc[:, 2:11] = df_compensation.iloc[:, 2:11].apply(lambda rec: (rec - rec.mean()) / rec.std())\n",
    "\n",
    "df_compensation.head()"
   ]
  },
  {
   "cell_type": "markdown",
   "metadata": {
    "colab_type": "text",
    "id": "A23paznn2FQj"
   },
   "source": [
    "<a id=\"def\"></a>\n",
    "# 3. What is Regression Analysis?"
   ]
  },
  {
   "cell_type": "markdown",
   "metadata": {
    "colab_type": "text",
    "id": "pZnpiwQ32FQk"
   },
   "source": [
    "<a id=\"Bivariate\"></a>\n",
    "# 4. Bivariate Regression"
   ]
  },
  {
   "cell_type": "markdown",
   "metadata": {
    "colab_type": "text",
    "id": "6UFX1T6a2FQl"
   },
   "source": [
    "<a id=\"lsm\"></a>\n",
    "## 4.1 Ordinary Least Square Method (OLS)"
   ]
  },
  {
   "cell_type": "code",
   "execution_count": 205,
   "metadata": {
    "colab": {},
    "colab_type": "code",
    "id": "Z5Dd3gHB2FQm",
    "outputId": "b52e2c37-96dd-429c-9b8a-307696c23b9c"
   },
   "outputs": [
    {
     "name": "stdout",
     "output_type": "stream",
     "text": [
      "X_train_slr (26404,)\n",
      "y_train_slr (26404,)\n",
      "X_test_slr (11317,)\n",
      "y_test_slr (11317,)\n"
     ]
    }
   ],
   "source": [
    "# split the independent and target variable into train subset and test subset\n",
    "# set 'random_state' to generate the same dataset each time you run the code \n",
    "# 'test_size' returns the proportion of data to be included in the testing set\n",
    "X_train_slr, X_test_slr, y_train_slr, y_test_slr = train_test_split(df_compensation['Total_Benefits'], df_compensation['Total_Compensation'], \n",
    "                                                    random_state=1, test_size = 0.3)\n",
    "\n",
    "# check the dimensions of the train & test subset using 'shape'\n",
    "# print dimension of train set\n",
    "print('X_train_slr', X_train_slr.shape)\n",
    "print('y_train_slr', y_train_slr.shape)\n",
    "\n",
    "# print dimension of test set\n",
    "print('X_test_slr', X_test_slr.shape)\n",
    "print('y_test_slr', y_test_slr.shape)"
   ]
  },
  {
   "cell_type": "code",
   "execution_count": 206,
   "metadata": {
    "colab": {},
    "colab_type": "code",
    "id": "zUye_dHn2FQp",
    "outputId": "8c8cd639-bc37-403e-ac65-9cd249c4eba0"
   },
   "outputs": [
    {
     "data": {
      "text/html": [
       "<div>\n",
       "<style scoped>\n",
       "    .dataframe tbody tr th:only-of-type {\n",
       "        vertical-align: middle;\n",
       "    }\n",
       "\n",
       "    .dataframe tbody tr th {\n",
       "        vertical-align: top;\n",
       "    }\n",
       "\n",
       "    .dataframe thead th {\n",
       "        text-align: right;\n",
       "    }\n",
       "</style>\n",
       "<table border=\"1\" class=\"dataframe\">\n",
       "  <thead>\n",
       "    <tr style=\"text-align: right;\">\n",
       "      <th></th>\n",
       "      <th>intercept</th>\n",
       "      <th>Total_Benefits</th>\n",
       "    </tr>\n",
       "  </thead>\n",
       "  <tbody>\n",
       "    <tr>\n",
       "      <th>7580</th>\n",
       "      <td>1.000000</td>\n",
       "      <td>0.354816</td>\n",
       "    </tr>\n",
       "    <tr>\n",
       "      <th>15923</th>\n",
       "      <td>1.000000</td>\n",
       "      <td>1.316932</td>\n",
       "    </tr>\n",
       "    <tr>\n",
       "      <th>5380</th>\n",
       "      <td>1.000000</td>\n",
       "      <td>0.242893</td>\n",
       "    </tr>\n",
       "    <tr>\n",
       "      <th>9580</th>\n",
       "      <td>1.000000</td>\n",
       "      <td>-0.352773</td>\n",
       "    </tr>\n",
       "    <tr>\n",
       "      <th>3690</th>\n",
       "      <td>1.000000</td>\n",
       "      <td>-1.353940</td>\n",
       "    </tr>\n",
       "  </tbody>\n",
       "</table>\n",
       "</div>"
      ],
      "text/plain": [
       "       intercept  Total_Benefits\n",
       "7580    1.000000        0.354816\n",
       "15923   1.000000        1.316932\n",
       "5380    1.000000        0.242893\n",
       "9580    1.000000       -0.352773\n",
       "3690    1.000000       -1.353940"
      ]
     },
     "execution_count": 206,
     "metadata": {},
     "output_type": "execute_result"
    }
   ],
   "source": [
    "# convert the X_train to DataFrame\n",
    "X_train_slr = pd.DataFrame(X_train_slr)\n",
    "\n",
    "# insert a column of intercept to 'X_train_slr'\n",
    "# create an array of ones with length equal to the total number of observations\n",
    "c = np.ones(X_train_slr.shape[0])\n",
    "\n",
    "# A design matrix is a matrix of observations of independent variables whose first column is of ones\n",
    "# If there are 'm' observations and 'n' variables, then the dimension of a design matrix is m * (n+1) \n",
    "\n",
    "# add the intercept \n",
    "# pass location index of intercept to the parameter 'loc'\n",
    "# pass column name to the parameter 'column'\n",
    "# pass the column value to the parameter 'value'\n",
    "X_train_slr.insert(loc = 0, column = 'intercept', value = c)\n",
    "\n",
    "# display the first five rows of design matrix\n",
    "X_train_slr.head()"
   ]
  },
  {
   "cell_type": "code",
   "execution_count": 207,
   "metadata": {
    "colab": {},
    "colab_type": "code",
    "id": "AyYmI_hb2FQr",
    "outputId": "68072a7c-8158-419c-c074-2d0fc309650e"
   },
   "outputs": [
    {
     "name": "stdout",
     "output_type": "stream",
     "text": [
      "                            OLS Regression Results                            \n",
      "==============================================================================\n",
      "Dep. Variable:     Total_Compensation   R-squared:                       0.947\n",
      "Model:                            OLS   Adj. R-squared:                  0.947\n",
      "Method:                 Least Squares   F-statistic:                 4.729e+05\n",
      "Date:                Mon, 22 May 2023   Prob (F-statistic):               0.00\n",
      "Time:                        12:30:34   Log-Likelihood:                 1460.8\n",
      "No. Observations:               26404   AIC:                            -2918.\n",
      "Df Residuals:                   26402   BIC:                            -2901.\n",
      "Df Model:                           1                                         \n",
      "Covariance Type:            nonrobust                                         \n",
      "==================================================================================\n",
      "                     coef    std err          t      P>|t|      [0.025      0.975]\n",
      "----------------------------------------------------------------------------------\n",
      "intercept         -0.0002      0.001     -0.119      0.906      -0.003       0.003\n",
      "Total_Benefits     0.9731      0.001    687.713      0.000       0.970       0.976\n",
      "==============================================================================\n",
      "Omnibus:                    12899.282   Durbin-Watson:                   1.998\n",
      "Prob(Omnibus):                  0.000   Jarque-Bera (JB):           145525.825\n",
      "Skew:                           2.077   Prob(JB):                         0.00\n",
      "Kurtosis:                      13.725   Cond. No.                         1.00\n",
      "==============================================================================\n",
      "\n",
      "Notes:\n",
      "[1] Standard Errors assume that the covariance matrix of the errors is correctly specified.\n"
     ]
    }
   ],
   "source": [
    "# building a model on the train dataset with an intercept\n",
    "# fit() is used to fit the OLS model\n",
    "SLR_model = sm.OLS(y_train_slr, X_train_slr).fit()\n",
    "\n",
    "# print the summary output\n",
    "print(SLR_model.summary())"
   ]
  },
  {
   "cell_type": "code",
   "execution_count": 208,
   "metadata": {
    "colab": {},
    "colab_type": "code",
    "id": "WKmw-RjE2FQu",
    "outputId": "68e65710-ebad-41e1-d7e1-2548ab703611"
   },
   "outputs": [
    {
     "data": {
      "text/plain": [
       "7580     0.345104\n",
       "15923    1.281337\n",
       "5380     0.236191\n",
       "9580    -0.343450\n",
       "3690    -1.317684\n",
       "dtype: float64"
      ]
     },
     "execution_count": 208,
     "metadata": {},
     "output_type": "execute_result"
    }
   ],
   "source": [
    "# predict the Total_Compensation using 'predict()' on training data\n",
    "y_train_slr_pred = SLR_model.predict(X_train_slr)\n",
    "\n",
    "# display the first five predicted values \n",
    "y_train_slr_pred.head()"
   ]
  },
  {
   "cell_type": "markdown",
   "metadata": {
    "colab_type": "text",
    "id": "-hMce0pj2FQw"
   },
   "source": [
    "<a id=\"mv\"></a>\n",
    "## 4.2 Measures of Variation"
   ]
  },
  {
   "cell_type": "markdown",
   "metadata": {
    "colab_type": "text",
    "id": "QsLCGKeT2FQx"
   },
   "source": [
    "<a id=\"ssr\"></a>\n",
    "### 4.2.1  Sum of Squared Residuals (SSR)"
   ]
  },
  {
   "cell_type": "code",
   "execution_count": 209,
   "metadata": {
    "colab": {},
    "colab_type": "code",
    "id": "dEwiSmBP2FQy",
    "outputId": "95f4f914-13b4-4b71-a97f-2d1883cda33b"
   },
   "outputs": [
    {
     "data": {
      "text/plain": [
       "24792.319612330197"
      ]
     },
     "execution_count": 209,
     "metadata": {},
     "output_type": "execute_result"
    }
   ],
   "source": [
    "# calculate the SSR on train dataset\n",
    "ssr = np.sum((y_train_slr_pred - y_train_slr.mean())**2)\n",
    "ssr"
   ]
  },
  {
   "cell_type": "markdown",
   "metadata": {
    "colab_type": "text",
    "id": "q0asduxZ2FQ0"
   },
   "source": [
    "<a id=\"sse\"></a>\n",
    "### 4.2.2 Sum of Squared Error (SSE)"
   ]
  },
  {
   "cell_type": "code",
   "execution_count": 210,
   "metadata": {
    "colab": {},
    "colab_type": "code",
    "id": "UEaIMYin2FQ1",
    "outputId": "49ec0524-f890-4763-eff9-0625a61db719"
   },
   "outputs": [
    {
     "data": {
      "text/plain": [
       "1384.0101182018848"
      ]
     },
     "execution_count": 210,
     "metadata": {},
     "output_type": "execute_result"
    }
   ],
   "source": [
    "# calculate the SSE on train dataset\n",
    "sse = np.sum((y_train_slr - y_train_slr_pred)**2)\n",
    "sse"
   ]
  },
  {
   "cell_type": "markdown",
   "metadata": {
    "colab_type": "text",
    "id": "JEIK_aoc2FQ2"
   },
   "source": [
    "<a id=\"sst\"></a>\n",
    "### 4.2.3  Sum of Squared Total (SST)"
   ]
  },
  {
   "cell_type": "code",
   "execution_count": 211,
   "metadata": {
    "colab": {},
    "colab_type": "code",
    "id": "6jHvQzQl2FQ3",
    "outputId": "320401ed-c40e-40ad-9d4b-6a0690aca5f8"
   },
   "outputs": [
    {
     "data": {
      "text/plain": [
       "26176.329730532045"
      ]
     },
     "execution_count": 211,
     "metadata": {},
     "output_type": "execute_result"
    }
   ],
   "source": [
    "# calculate the SST on train dataset\n",
    "sst = np.sum((y_train_slr - y_train_slr.mean())**2)\n",
    "sst"
   ]
  },
  {
   "cell_type": "code",
   "execution_count": 212,
   "metadata": {
    "colab": {},
    "colab_type": "code",
    "id": "r1YPxSsw2FQ6",
    "outputId": "34794306-3141-434b-c481-db02f4163bb4"
   },
   "outputs": [
    {
     "data": {
      "text/plain": [
       "26176.32973053208"
      ]
     },
     "execution_count": 212,
     "metadata": {},
     "output_type": "execute_result"
    }
   ],
   "source": [
    "# add the values of SSE and SSR\n",
    "sse + ssr"
   ]
  },
  {
   "cell_type": "markdown",
   "metadata": {
    "colab_type": "text",
    "id": "XimiMuo12FQ8"
   },
   "source": [
    "<a id=\"r2\"></a>\n",
    "### 4.2.4 Coefficient of Determination (R-Squared)"
   ]
  },
  {
   "cell_type": "code",
   "execution_count": 213,
   "metadata": {
    "colab": {},
    "colab_type": "code",
    "id": "qkL0n0Ak2FQ9",
    "outputId": "2ed88ba6-f996-4e5b-a0ad-1dcf177dfb63"
   },
   "outputs": [
    {
     "data": {
      "text/plain": [
       "0.9471274188379597"
      ]
     },
     "execution_count": 213,
     "metadata": {},
     "output_type": "execute_result"
    }
   ],
   "source": [
    "# calculate R-Squared on train dataset\n",
    "# use 'rsquared' method from statsmodel\n",
    "r_sq = SLR_model.rsquared\n",
    "\n",
    "# print the R-squared value\n",
    "r_sq"
   ]
  },
  {
   "cell_type": "code",
   "execution_count": 214,
   "metadata": {
    "colab": {},
    "colab_type": "code",
    "id": "-XQQcKPV2FQ_",
    "outputId": "4137492e-fb67-482c-fd9c-c54557a3ac48"
   },
   "outputs": [
    {
     "data": {
      "text/plain": [
       "0.947127418837961"
      ]
     },
     "execution_count": 214,
     "metadata": {},
     "output_type": "execute_result"
    }
   ],
   "source": [
    "# calculate R-Squared on train dataset using the formula\n",
    "r_sq = ssr/sst\n",
    "\n",
    "# print the R-squared value\n",
    "r_sq"
   ]
  },
  {
   "cell_type": "markdown",
   "metadata": {
    "colab_type": "text",
    "id": "AxRPp2LB2FRB"
   },
   "source": [
    "<a id=\"see\"></a>\n",
    "### 4.2.5 Standard Error of Estimate (SEE)"
   ]
  },
  {
   "cell_type": "code",
   "execution_count": 215,
   "metadata": {
    "colab": {},
    "colab_type": "code",
    "id": "y5LcDH-e2FRC",
    "outputId": "027f7257-a207-4958-afc7-dd4caa06535f"
   },
   "outputs": [
    {
     "data": {
      "text/plain": [
       "0.2289555730436939"
      ]
     },
     "execution_count": 215,
     "metadata": {},
     "output_type": "execute_result"
    }
   ],
   "source": [
    "# compute SEE using the below formula \n",
    "# see =  np.sqrt(sse/(len(train_data) - k))    \n",
    "\n",
    "# for SLR take k = 2, as there are two coefficients (parameters) in the model\n",
    "see = np.sqrt(sse/(len(X_train_slr) - 2))    \n",
    "see"
   ]
  },
  {
   "cell_type": "code",
   "execution_count": 216,
   "metadata": {
    "colab": {},
    "colab_type": "code",
    "id": "Xg6FYOMm2FRF",
    "outputId": "ef10c5fe-37f1-42c3-dc80-f48fec533854"
   },
   "outputs": [
    {
     "data": {
      "image/png": "[encoded data removed]",
      "text/plain": [
       "<Figure size 1080x576 with 1 Axes>"
      ]
     },
     "metadata": {
      "needs_background": "light"
     },
     "output_type": "display_data"
    }
   ],
   "source": [
    "# set the plot size using figure()\n",
    "# pass width and height in inches to 'figsize' \n",
    "plt.figure(figsize = (15,8))\n",
    "\n",
    "# plot a regression plot\n",
    "# independent variable on x-axis and dependent variable on y-axis\n",
    "sns.regplot(x = X_train_slr['Total_Benefits'], y = y_train_slr)\n",
    "\n",
    "# add axes and plot labels\n",
    "# set text size using 'fontsize'\n",
    "plt.title('Variability Around the Predicted Line', fontsize = 15)\n",
    "plt.xlabel('Total_Benefits', fontsize = 15)\n",
    "plt.ylabel('Total_Compensation', fontsize = 15)\n",
    "\n",
    "# display the plot\n",
    "plt.show()"
   ]
  },
  {
   "cell_type": "markdown",
   "metadata": {
    "colab_type": "text",
    "id": "V53-kJ2q2FRI"
   },
   "source": [
    "<a id=\"inf\"></a>\n",
    "## 4.3 Inferences about Slope and Intercept"
   ]
  },
  {
   "cell_type": "code",
   "execution_count": 217,
   "metadata": {
    "colab": {},
    "colab_type": "code",
    "id": "jmisAhj92FRJ",
    "outputId": "c914ab44-7b38-4901-c7fc-51195e3e6194"
   },
   "outputs": [
    {
     "name": "stdout",
     "output_type": "stream",
     "text": [
      "                            OLS Regression Results                            \n",
      "==============================================================================\n",
      "Dep. Variable:     Total_Compensation   R-squared:                       0.947\n",
      "Model:                            OLS   Adj. R-squared:                  0.947\n",
      "Method:                 Least Squares   F-statistic:                 4.729e+05\n",
      "Date:                Mon, 22 May 2023   Prob (F-statistic):               0.00\n",
      "Time:                        12:30:35   Log-Likelihood:                 1460.8\n",
      "No. Observations:               26404   AIC:                            -2918.\n",
      "Df Residuals:                   26402   BIC:                            -2901.\n",
      "Df Model:                           1                                         \n",
      "Covariance Type:            nonrobust                                         \n",
      "==================================================================================\n",
      "                     coef    std err          t      P>|t|      [0.025      0.975]\n",
      "----------------------------------------------------------------------------------\n",
      "intercept         -0.0002      0.001     -0.119      0.906      -0.003       0.003\n",
      "Total_Benefits     0.9731      0.001    687.713      0.000       0.970       0.976\n",
      "==============================================================================\n",
      "Omnibus:                    12899.282   Durbin-Watson:                   1.998\n",
      "Prob(Omnibus):                  0.000   Jarque-Bera (JB):           145525.825\n",
      "Skew:                           2.077   Prob(JB):                         0.00\n",
      "Kurtosis:                      13.725   Cond. No.                         1.00\n",
      "==============================================================================\n",
      "\n",
      "Notes:\n",
      "[1] Standard Errors assume that the covariance matrix of the errors is correctly specified.\n"
     ]
    }
   ],
   "source": [
    "# print the model summary\n",
    "print(SLR_model.summary())"
   ]
  },
  {
   "cell_type": "markdown",
   "metadata": {
    "colab_type": "text",
    "id": "CQdLLk682FRL"
   },
   "source": [
    "<a id=\"inter\"></a>\n",
    "### 4.3.1 Interpretation of Slope and Intercept"
   ]
  },
  {
   "cell_type": "markdown",
   "metadata": {
    "colab_type": "text",
    "id": "hGk19kWu2FRM"
   },
   "source": [
    "<a id=\"t_test\"></a>\n",
    "### 4.3.2 The t-test for Slope and Intercept"
   ]
  },
  {
   "cell_type": "code",
   "execution_count": 218,
   "metadata": {
    "colab": {},
    "colab_type": "code",
    "id": "Z3LchWBx2FRN",
    "outputId": "68351b81-1508-402e-cd59-5b05c3580bef"
   },
   "outputs": [
    {
     "data": {
      "text/plain": [
       "-0.11862622978855746"
      ]
     },
     "execution_count": 218,
     "metadata": {},
     "output_type": "execute_result"
    }
   ],
   "source": [
    "# perform t_test for intercept\n",
    "# 'params[0]' returns the value of intercept \n",
    "# 'bse[0]' returns the standard error of intercept\n",
    "t_intercept = SLR_model.params[0] / SLR_model.bse[0]\n",
    "\n",
    "# print the value of t-statistic\n",
    "t_intercept"
   ]
  },
  {
   "cell_type": "code",
   "execution_count": 219,
   "metadata": {
    "colab": {},
    "colab_type": "code",
    "id": "Bi9w6awn2FRP",
    "outputId": "4fe925ff-f8c3-4e5d-b091-758f611a5072"
   },
   "outputs": [
    {
     "data": {
      "text/plain": [
       "687.71320236294"
      ]
     },
     "execution_count": 219,
     "metadata": {},
     "output_type": "execute_result"
    }
   ],
   "source": [
    "# t_test for slope\n",
    "# 'params[1]' returns the value of slope\n",
    "# 'bse[1]' returns the standard error of slope\n",
    "t_slope = SLR_model.params[1] / SLR_model.bse[1]\n",
    "\n",
    "# print the value of t-statistic\n",
    "t_slope"
   ]
  },
  {
   "cell_type": "code",
   "execution_count": 220,
   "metadata": {
    "colab": {},
    "colab_type": "code",
    "id": "GmIjzRcC2FRS",
    "outputId": "d5b549c4-f36d-4dce-9d76-a72c038c070d"
   },
   "outputs": [
    {
     "data": {
      "text/plain": [
       "0.9055943477841935"
      ]
     },
     "execution_count": 220,
     "metadata": {},
     "output_type": "execute_result"
    }
   ],
   "source": [
    "# calculate p-value for intercept\n",
    "# use 'sf' (Survival function) from t-distribution to calculate the corresponding p-value\n",
    "\n",
    "# pass degrees of freedom and t-statistic value for intercept\n",
    "# degrees of freedom = n - 1 = 1043 - 1 = 1042\n",
    "pval = stats.t.sf(np.abs(t_intercept), 1042)*2 \n",
    "pval"
   ]
  },
  {
   "cell_type": "code",
   "execution_count": 221,
   "metadata": {
    "colab": {},
    "colab_type": "code",
    "id": "Fm0OJP4K2FRX",
    "outputId": "8cc3ef23-6b01-4688-b7eb-4bc342f93e22"
   },
   "outputs": [
    {
     "data": {
      "text/plain": [
       "0.0"
      ]
     },
     "execution_count": 221,
     "metadata": {},
     "output_type": "execute_result"
    }
   ],
   "source": [
    "# calculate p-value for slope\n",
    "# use 'sf' (Survival function) from t-distribution to calculate the corresponding p-value\n",
    "\n",
    "# pass degrees of freedom and t-statistic value for slope\n",
    "# degrees of freedom = n - 1 = 1043 - 1 = 1042\n",
    "pval = stats.t.sf(np.abs(t_slope), 1042)*2 \n",
    "pval"
   ]
  },
  {
   "cell_type": "markdown",
   "metadata": {
    "colab_type": "text",
    "id": "LPDhi4sJ2FRb"
   },
   "source": [
    "<a id=\"ci\"></a>\n",
    "### 4.3.3 Confidence Interval for Slope and Intercept"
   ]
  },
  {
   "cell_type": "code",
   "execution_count": 222,
   "metadata": {
    "colab": {},
    "colab_type": "code",
    "id": "WngK29w82FRb",
    "outputId": "0868ddcd-108d-4189-9426-8d24f5226784"
   },
   "outputs": [
    {
     "name": "stdout",
     "output_type": "stream",
     "text": [
      "CI for intercept: [-0.002931928568273697, 0.0025976347891155846]\n"
     ]
    }
   ],
   "source": [
    "# CI for intercept\n",
    "# create a tuple using the above formula\n",
    "# here, t_table_value = 1.9622\n",
    "CI_inter_min, CI_inter_max = SLR_model.params[0] - (1.9622*SLR_model.bse[0]), SLR_model.params[0] + (1.9622*SLR_model.bse[0])\n",
    "\n",
    "# print the confidence interval for intercept \n",
    "print('CI for intercept:', [CI_inter_min , CI_inter_max])"
   ]
  },
  {
   "cell_type": "code",
   "execution_count": 223,
   "metadata": {
    "colab": {},
    "colab_type": "code",
    "id": "sV77pwt12FRg",
    "outputId": "e651bf87-dcef-474b-814b-c1bc09ba091a"
   },
   "outputs": [
    {
     "name": "stdout",
     "output_type": "stream",
     "text": [
      "CI for slope: [0.970321441027619, 0.97587437416231]\n"
     ]
    }
   ],
   "source": [
    "# CI for slope\n",
    "# create a tuple using the above formula\n",
    "# here, t_table_value = 1.9622\n",
    "CI_slope_min, CI_slope_max = SLR_model.params[1] - (1.9622*SLR_model.bse[1]), SLR_model.params[1] + (1.9622*SLR_model.bse[1])\n",
    "\n",
    "# print the confidence interval for slope\n",
    "print('CI for slope:', [CI_slope_min,CI_slope_max])"
   ]
  },
  {
   "cell_type": "markdown",
   "metadata": {
    "colab_type": "text",
    "id": "o4WQgrHN2FRj"
   },
   "source": [
    "<a id=\"anova\"></a>\n",
    "### 4.3.4 ANOVA for SLR"
   ]
  },
  {
   "cell_type": "code",
   "execution_count": 224,
   "metadata": {
    "colab": {},
    "colab_type": "code",
    "id": "0wUAeSR92FRl"
   },
   "outputs": [],
   "source": [
    "# build a SLR model using 'ols' method\n",
    "# pass the regression model to the parameter 'formula'\n",
    "# concatenate the training dataset and pass to the parameter 'data' to build the model on training dataset\n",
    "# 'axis=1' concats the data column-wise\n",
    "# 'fit()' is used to fit the model\n",
    "slr_ols = ols(formula = 'Total_Compensation ~ Total_Benefits', data = pd.concat([X_train_slr, y_train_slr], axis=1)).fit()\n",
    "# this model returns the same result as of model built using 'OLS' "
   ]
  },
  {
   "cell_type": "code",
   "execution_count": 225,
   "metadata": {
    "colab": {},
    "colab_type": "code",
    "id": "98F4C7mM2FRn",
    "outputId": "fe2ddbe5-60d6-455c-c38f-bc9b72af55bb"
   },
   "outputs": [
    {
     "data": {
      "text/html": [
       "<div>\n",
       "<style scoped>\n",
       "    .dataframe tbody tr th:only-of-type {\n",
       "        vertical-align: middle;\n",
       "    }\n",
       "\n",
       "    .dataframe tbody tr th {\n",
       "        vertical-align: top;\n",
       "    }\n",
       "\n",
       "    .dataframe thead th {\n",
       "        text-align: right;\n",
       "    }\n",
       "</style>\n",
       "<table border=\"1\" class=\"dataframe\">\n",
       "  <thead>\n",
       "    <tr style=\"text-align: right;\">\n",
       "      <th></th>\n",
       "      <th>df</th>\n",
       "      <th>sum_sq</th>\n",
       "      <th>mean_sq</th>\n",
       "      <th>F</th>\n",
       "      <th>PR(&gt;F)</th>\n",
       "    </tr>\n",
       "  </thead>\n",
       "  <tbody>\n",
       "    <tr>\n",
       "      <th>Total_Benefits</th>\n",
       "      <td>1.000000</td>\n",
       "      <td>24792.319612</td>\n",
       "      <td>24792.319612</td>\n",
       "      <td>472949.448704</td>\n",
       "      <td>0.000000</td>\n",
       "    </tr>\n",
       "    <tr>\n",
       "      <th>Residual</th>\n",
       "      <td>26402.000000</td>\n",
       "      <td>1384.010118</td>\n",
       "      <td>0.052421</td>\n",
       "      <td>NaN</td>\n",
       "      <td>NaN</td>\n",
       "    </tr>\n",
       "  </tbody>\n",
       "</table>\n",
       "</div>"
      ],
      "text/plain": [
       "                         df       sum_sq      mean_sq             F   PR(>F)\n",
       "Total_Benefits     1.000000 24792.319612 24792.319612 472949.448704 0.000000\n",
       "Residual       26402.000000  1384.010118     0.052421           NaN      NaN"
      ]
     },
     "execution_count": 225,
     "metadata": {},
     "output_type": "execute_result"
    }
   ],
   "source": [
    "# perform ANOVA on the above model using 'anova_lm'\n",
    "# pass the linear model to 'anova_lm'\n",
    "anova_slr = anova_lm(slr_ols)\n",
    "\n",
    "# print the ANOVA results\n",
    "anova_slr"
   ]
  },
  {
   "cell_type": "markdown",
   "metadata": {
    "colab_type": "text",
    "id": "euZtpio62FRq"
   },
   "source": [
    "<a id=\"MLR\"></a>\n",
    "# 5. Multiple Linear Regression (MLR)"
   ]
  },
  {
   "cell_type": "markdown",
   "metadata": {
    "colab_type": "text",
    "id": "3B_UFq1x2FRs"
   },
   "source": [
    "<a id=\"before\"></a>\n",
    "## 5.1 Assumptions Before MLR Model"
   ]
  },
  {
   "cell_type": "code",
   "execution_count": 226,
   "metadata": {
    "colab": {},
    "colab_type": "code",
    "id": "4DN1RVJN2FRu"
   },
   "outputs": [],
   "source": [
    "# create dataframe of features by dropping the target variable\n",
    "# 'axis = 1' drops the corresponding column(s)\n",
    "df_feature = df_compensation.drop('Total_Compensation', axis = 1)\n",
    "\n",
    "# create dataframe of target variable\n",
    "df_target = df_compensation['Total_Compensation']"
   ]
  },
  {
   "cell_type": "markdown",
   "metadata": {
    "colab_type": "text",
    "id": "7hFk7Vt92FRx"
   },
   "source": [
    "<a id=\"dep_num\"></a>\n",
    "### 5.1.1 Assumption on Dependent Variable"
   ]
  },
  {
   "cell_type": "code",
   "execution_count": 227,
   "metadata": {
    "colab": {},
    "colab_type": "code",
    "id": "l5fR9l0F2FRy",
    "outputId": "9f40b455-5684-4d4c-926b-cfa7b7d951b4"
   },
   "outputs": [
    {
     "data": {
      "text/plain": [
       "dtype('float64')"
      ]
     },
     "execution_count": 227,
     "metadata": {},
     "output_type": "execute_result"
    }
   ],
   "source": [
    "# check the data type of dependent variable\n",
    "df_target.dtype"
   ]
  },
  {
   "cell_type": "markdown",
   "metadata": {
    "colab_type": "text",
    "id": "x1wPICyM2FR5"
   },
   "source": [
    "<a id=\"no_multi\"></a>\n",
    "### 5.1.2 No or Little Multicollinearity"
   ]
  },
  {
   "cell_type": "markdown",
   "metadata": {
    "colab_type": "text",
    "id": "qkrGvSVm2FR6"
   },
   "source": [
    "<a id=\"corr\"></a>\n",
    "#### 5.1.2.1 Correlation Matrix"
   ]
  },
  {
   "cell_type": "code",
   "execution_count": 228,
   "metadata": {
    "colab": {},
    "colab_type": "code",
    "id": "aQ1FV97W2FR7",
    "outputId": "e74897a2-4e93-4c9f-93d4-312d6322a7d1"
   },
   "outputs": [
    {
     "data": {
      "image/png": "[encoded data removed]",
      "text/plain": [
       "<Figure size 1440x720 with 2 Axes>"
      ]
     },
     "metadata": {
      "needs_background": "light"
     },
     "output_type": "display_data"
    }
   ],
   "source": [
    "# set the plot size using figure()\n",
    "# pass width and height in inches to 'figsize' \n",
    "plt.figure(figsize = (20,10))\n",
    "\n",
    "# plot the heat map\n",
    "# corr(): give the correlation matrix\n",
    "# annot: prints the correlation values in the chart\n",
    "# annot_kws: used to set the font size of the annotation\n",
    "sns.heatmap(df_feature.corr(), annot = True, annot_kws = {\"size\": 11})\n",
    "\n",
    "# rotation = 'horizontal' rotates the y-axis labels horizontally\n",
    "# set text size using 'fontsize'\n",
    "plt.yticks(rotation = 'horizontal', fontsize = 15)\n",
    "plt.xticks(fontsize = 15)\n",
    "\n",
    "# display the plot\n",
    "plt.show()"
   ]
  },
  {
   "cell_type": "code",
   "execution_count": 229,
   "metadata": {
    "colab": {},
    "colab_type": "code",
    "id": "5ja23wTc2FR-",
    "outputId": "d22d3272-79dd-4782-c539-70907f62a6cd"
   },
   "outputs": [
    {
     "data": {
      "image/png": "[encoded data removed]",
      "text/plain": [
       "<Figure size 1440x720 with 2 Axes>"
      ]
     },
     "metadata": {
      "needs_background": "light"
     },
     "output_type": "display_data"
    }
   ],
   "source": [
    "# set the plot size using figure()\n",
    "# pass width and height in inches to 'figsize' \n",
    "plt.figure(figsize = (20,10))\n",
    "\n",
    "# plot the heat map\n",
    "# corr(): give the correlation matrix\n",
    "# annot: prints the correlation values in the chart\n",
    "# annot_kws: sets the font size of the annotation\n",
    "sns.heatmap(df_feature.corr()[np.abs(df_feature.corr()) > 0.6], annot = True, annot_kws = {\"size\": 11})\n",
    "\n",
    "# rotate the y-axis labels\n",
    "# set text size using 'fontsize'\n",
    "plt.yticks(rotation = 'horizontal', fontsize = 15)\n",
    "plt.xticks(fontsize = 15)\n",
    "\n",
    "# display the plot\n",
    "plt.show()"
   ]
  },
  {
   "cell_type": "markdown",
   "metadata": {
    "colab_type": "text",
    "id": "lDBSnGyc2FSA"
   },
   "source": [
    "<a id=\"vif\"></a>\n",
    "#### 5.1.2.2 Variance Inflation Factor (VIF)"
   ]
  },
  {
   "cell_type": "code",
   "execution_count": 230,
   "metadata": {
    "colab": {},
    "colab_type": "code",
    "id": "WsNBhGvn2FSA",
    "outputId": "feac58d9-fc49-4295-fdc8-a4cec4ae8aaf"
   },
   "outputs": [
    {
     "data": {
      "text/html": [
       "<div>\n",
       "<style scoped>\n",
       "    .dataframe tbody tr th:only-of-type {\n",
       "        vertical-align: middle;\n",
       "    }\n",
       "\n",
       "    .dataframe tbody tr th {\n",
       "        vertical-align: top;\n",
       "    }\n",
       "\n",
       "    .dataframe thead th {\n",
       "        text-align: right;\n",
       "    }\n",
       "</style>\n",
       "<table border=\"1\" class=\"dataframe\">\n",
       "  <thead>\n",
       "    <tr style=\"text-align: right;\">\n",
       "      <th></th>\n",
       "      <th>Salaries</th>\n",
       "      <th>Overtime</th>\n",
       "      <th>Other_Salaries</th>\n",
       "      <th>Total_Salary</th>\n",
       "      <th>Retirement</th>\n",
       "      <th>Health/Dental</th>\n",
       "      <th>Other_Benefits</th>\n",
       "      <th>Total_Benefits</th>\n",
       "    </tr>\n",
       "  </thead>\n",
       "  <tbody>\n",
       "    <tr>\n",
       "      <th>0</th>\n",
       "      <td>0.983488</td>\n",
       "      <td>-0.228091</td>\n",
       "      <td>-0.474919</td>\n",
       "      <td>0.926912</td>\n",
       "      <td>1.178494</td>\n",
       "      <td>0.916565</td>\n",
       "      <td>1.145315</td>\n",
       "      <td>1.160922</td>\n",
       "    </tr>\n",
       "    <tr>\n",
       "      <th>1</th>\n",
       "      <td>-1.252266</td>\n",
       "      <td>-0.167552</td>\n",
       "      <td>-0.587276</td>\n",
       "      <td>-1.263215</td>\n",
       "      <td>-1.180529</td>\n",
       "      <td>-1.491462</td>\n",
       "      <td>-1.259970</td>\n",
       "      <td>-1.365191</td>\n",
       "    </tr>\n",
       "    <tr>\n",
       "      <th>3</th>\n",
       "      <td>-0.164358</td>\n",
       "      <td>-0.428525</td>\n",
       "      <td>0.095551</td>\n",
       "      <td>-0.168961</td>\n",
       "      <td>-0.031662</td>\n",
       "      <td>-1.579733</td>\n",
       "      <td>-0.037039</td>\n",
       "      <td>-0.521484</td>\n",
       "    </tr>\n",
       "    <tr>\n",
       "      <th>4</th>\n",
       "      <td>-0.258589</td>\n",
       "      <td>-0.428525</td>\n",
       "      <td>-0.587276</td>\n",
       "      <td>-0.300194</td>\n",
       "      <td>-0.312417</td>\n",
       "      <td>-0.399832</td>\n",
       "      <td>-0.256852</td>\n",
       "      <td>-0.347973</td>\n",
       "    </tr>\n",
       "    <tr>\n",
       "      <th>5</th>\n",
       "      <td>0.536538</td>\n",
       "      <td>-0.428525</td>\n",
       "      <td>0.019113</td>\n",
       "      <td>0.511845</td>\n",
       "      <td>0.511937</td>\n",
       "      <td>0.994002</td>\n",
       "      <td>0.703228</td>\n",
       "      <td>0.731784</td>\n",
       "    </tr>\n",
       "  </tbody>\n",
       "</table>\n",
       "</div>"
      ],
      "text/plain": [
       "   Salaries  Overtime  Other_Salaries  Total_Salary  Retirement  \\\n",
       "0  0.983488 -0.228091       -0.474919      0.926912    1.178494   \n",
       "1 -1.252266 -0.167552       -0.587276     -1.263215   -1.180529   \n",
       "3 -0.164358 -0.428525        0.095551     -0.168961   -0.031662   \n",
       "4 -0.258589 -0.428525       -0.587276     -0.300194   -0.312417   \n",
       "5  0.536538 -0.428525        0.019113      0.511845    0.511937   \n",
       "\n",
       "   Health/Dental  Other_Benefits  Total_Benefits  \n",
       "0       0.916565        1.145315        1.160922  \n",
       "1      -1.491462       -1.259970       -1.365191  \n",
       "3      -1.579733       -0.037039       -0.521484  \n",
       "4      -0.399832       -0.256852       -0.347973  \n",
       "5       0.994002        0.703228        0.731784  "
      ]
     },
     "execution_count": 230,
     "metadata": {},
     "output_type": "execute_result"
    }
   ],
   "source": [
    "# filter the numerical features in the dataset\n",
    "df_numeric_features_vif = df_feature.select_dtypes(include=[np.number])\n",
    "\n",
    "# display the first five observations\n",
    "df_numeric_features_vif.head()"
   ]
  },
  {
   "cell_type": "markdown",
   "metadata": {
    "colab_type": "text",
    "id": "eD6VREc42FSE"
   },
   "source": [
    "#### Calculate the VIF for each numeric variable."
   ]
  },
  {
   "cell_type": "code",
   "execution_count": 231,
   "metadata": {
    "colab": {},
    "colab_type": "code",
    "id": "0J48xkEg2FSE",
    "outputId": "0c659954-337f-42f3-df5e-0b6d09d612e6"
   },
   "outputs": [
    {
     "data": {
      "text/html": [
       "<div>\n",
       "<style scoped>\n",
       "    .dataframe tbody tr th:only-of-type {\n",
       "        vertical-align: middle;\n",
       "    }\n",
       "\n",
       "    .dataframe tbody tr th {\n",
       "        vertical-align: top;\n",
       "    }\n",
       "\n",
       "    .dataframe thead th {\n",
       "        text-align: right;\n",
       "    }\n",
       "</style>\n",
       "<table border=\"1\" class=\"dataframe\">\n",
       "  <thead>\n",
       "    <tr style=\"text-align: right;\">\n",
       "      <th></th>\n",
       "      <th>VIF_Factor</th>\n",
       "      <th>Features</th>\n",
       "    </tr>\n",
       "  </thead>\n",
       "  <tbody>\n",
       "    <tr>\n",
       "      <th>0</th>\n",
       "      <td>6580650273.054774</td>\n",
       "      <td>Other_Benefits</td>\n",
       "    </tr>\n",
       "    <tr>\n",
       "      <th>1</th>\n",
       "      <td>1837156375.475085</td>\n",
       "      <td>Retirement</td>\n",
       "    </tr>\n",
       "    <tr>\n",
       "      <th>2</th>\n",
       "      <td>858460245.434044</td>\n",
       "      <td>Salaries</td>\n",
       "    </tr>\n",
       "    <tr>\n",
       "      <th>3</th>\n",
       "      <td>172600553.833759</td>\n",
       "      <td>Total_Benefits</td>\n",
       "    </tr>\n",
       "    <tr>\n",
       "      <th>4</th>\n",
       "      <td>29899585.837460</td>\n",
       "      <td>Total_Salary</td>\n",
       "    </tr>\n",
       "    <tr>\n",
       "      <th>5</th>\n",
       "      <td>29654241.350439</td>\n",
       "      <td>Other_Salaries</td>\n",
       "    </tr>\n",
       "    <tr>\n",
       "      <th>6</th>\n",
       "      <td>24345019.220317</td>\n",
       "      <td>Overtime</td>\n",
       "    </tr>\n",
       "    <tr>\n",
       "      <th>7</th>\n",
       "      <td>7436558.113083</td>\n",
       "      <td>Health/Dental</td>\n",
       "    </tr>\n",
       "  </tbody>\n",
       "</table>\n",
       "</div>"
      ],
      "text/plain": [
       "         VIF_Factor        Features\n",
       "0 6580650273.054774  Other_Benefits\n",
       "1 1837156375.475085      Retirement\n",
       "2  858460245.434044        Salaries\n",
       "3  172600553.833759  Total_Benefits\n",
       "4   29899585.837460    Total_Salary\n",
       "5   29654241.350439  Other_Salaries\n",
       "6   24345019.220317        Overtime\n",
       "7    7436558.113083   Health/Dental"
      ]
     },
     "execution_count": 231,
     "metadata": {},
     "output_type": "execute_result"
    }
   ],
   "source": [
    "# create an empty dataframe to store the VIF for each variable\n",
    "vif = pd.DataFrame()\n",
    "\n",
    "# calculate VIF using list comprehension \n",
    "# use for loop to access each variable \n",
    "# calculate VIF for each variable and create a column 'VIF_Factor' to store the values \n",
    "vif[\"VIF_Factor\"] = [variance_inflation_factor(df_numeric_features_vif.values, i) for i in range(df_numeric_features_vif.shape[1])]\n",
    "\n",
    "# create a column of variable names\n",
    "vif[\"Features\"] = df_numeric_features_vif.columns\n",
    "\n",
    "# sort the dataframe based on the values of VIF_Factor in descending order\n",
    "# 'ascending = False' sorts the data in descending order\n",
    "# 'reset_index' resets the index of the dataframe\n",
    "# 'drop = True' drops the previous index\n",
    "vif.sort_values('VIF_Factor', ascending = False).reset_index(drop = True)"
   ]
  },
  {
   "cell_type": "code",
   "execution_count": 232,
   "metadata": {
    "colab": {},
    "colab_type": "code",
    "id": "faz8_KKA2FSH",
    "outputId": "c527a60f-20c2-4333-e191-215164f70c8c"
   },
   "outputs": [
    {
     "name": "stdout",
     "output_type": "stream",
     "text": [
      "   VIF_Factor        Features\n",
      "0    1.134416        Overtime\n",
      "1    1.169156  Other_Salaries\n",
      "2    3.107686      Retirement\n",
      "3    3.096276   Health/Dental\n"
     ]
    }
   ],
   "source": [
    "# for each numeric variable, calculate VIF and save it in a dataframe 'vif'\n",
    "\n",
    "# use for loop to iterate the VIF function \n",
    "for ind in range(len(df_numeric_features_vif.columns)):\n",
    "    \n",
    "    # create an empty dataframe\n",
    "    vif = pd.DataFrame()\n",
    "\n",
    "    # calculate VIF using list comprehension\n",
    "    # use for loop to access each variable \n",
    "    # calculate VIF for each variable and create a column 'VIF_Factor' to store the values \n",
    "    vif[\"VIF_Factor\"] = [variance_inflation_factor(df_numeric_features_vif.values, i) for i in range(df_numeric_features_vif.shape[1])]\n",
    "\n",
    "    # create a column of variable names\n",
    "    vif[\"Features\"] = df_numeric_features_vif.columns\n",
    "\n",
    "    # filter the variables with VIF greater than 10 and store it in a dataframe 'multi' \n",
    "    # one can choose the threshold other than 10 (it depends on the business requirements)\n",
    "    multi = vif[vif['VIF_Factor'] > 10]\n",
    "    \n",
    "    # if dataframe 'multi' is not empty, then sort the dataframe by VIF values\n",
    "    # if dataframe 'multi' is empty (i.e. all VIF <= 10), then print the dataframe 'vif' and break the for loop using 'break' \n",
    "    # 'by' sorts the data using given variable(s)\n",
    "    # 'ascending = False' sorts the data in descending order\n",
    "    if(multi.empty == False):\n",
    "        df_sorted = multi.sort_values(by = 'VIF_Factor', ascending = False)\n",
    "    else:\n",
    "        print(vif)\n",
    "        break\n",
    "    \n",
    "    # use if-else to drop the variable with the highest VIF\n",
    "    # if  dataframe 'df_sorted' is not empty, then drop the first entry in the column 'Features' from the numeric variables\n",
    "    # select the variable using 'iloc[]'\n",
    "    # 'axis=1' drops the corresponding column\n",
    "    #  else print the final dataframe 'vif' with all values after removal of variables with VIF less than 10  \n",
    "    if (df_sorted.empty == False):\n",
    "        df_numeric_features_vif = df_numeric_features_vif.drop(df_sorted.Features.iloc[0], axis=1)\n",
    "    else:\n",
    "        print(vif)"
   ]
  },
  {
   "cell_type": "code",
   "execution_count": 233,
   "metadata": {
    "colab": {},
    "colab_type": "code",
    "id": "WCgz-hvl2FSJ",
    "outputId": "3b9f7852-d836-43d6-e3c4-6f9aff4881a5"
   },
   "outputs": [
    {
     "data": {
      "text/html": [
       "<div>\n",
       "<style scoped>\n",
       "    .dataframe tbody tr th:only-of-type {\n",
       "        vertical-align: middle;\n",
       "    }\n",
       "\n",
       "    .dataframe tbody tr th {\n",
       "        vertical-align: top;\n",
       "    }\n",
       "\n",
       "    .dataframe thead th {\n",
       "        text-align: right;\n",
       "    }\n",
       "</style>\n",
       "<table border=\"1\" class=\"dataframe\">\n",
       "  <thead>\n",
       "    <tr style=\"text-align: right;\">\n",
       "      <th></th>\n",
       "      <th>Overtime</th>\n",
       "      <th>Other_Salaries</th>\n",
       "      <th>Retirement</th>\n",
       "      <th>Health/Dental</th>\n",
       "    </tr>\n",
       "  </thead>\n",
       "  <tbody>\n",
       "    <tr>\n",
       "      <th>0</th>\n",
       "      <td>-0.228091</td>\n",
       "      <td>-0.474919</td>\n",
       "      <td>1.178494</td>\n",
       "      <td>0.916565</td>\n",
       "    </tr>\n",
       "    <tr>\n",
       "      <th>1</th>\n",
       "      <td>-0.167552</td>\n",
       "      <td>-0.587276</td>\n",
       "      <td>-1.180529</td>\n",
       "      <td>-1.491462</td>\n",
       "    </tr>\n",
       "    <tr>\n",
       "      <th>3</th>\n",
       "      <td>-0.428525</td>\n",
       "      <td>0.095551</td>\n",
       "      <td>-0.031662</td>\n",
       "      <td>-1.579733</td>\n",
       "    </tr>\n",
       "    <tr>\n",
       "      <th>4</th>\n",
       "      <td>-0.428525</td>\n",
       "      <td>-0.587276</td>\n",
       "      <td>-0.312417</td>\n",
       "      <td>-0.399832</td>\n",
       "    </tr>\n",
       "    <tr>\n",
       "      <th>5</th>\n",
       "      <td>-0.428525</td>\n",
       "      <td>0.019113</td>\n",
       "      <td>0.511937</td>\n",
       "      <td>0.994002</td>\n",
       "    </tr>\n",
       "  </tbody>\n",
       "</table>\n",
       "</div>"
      ],
      "text/plain": [
       "   Overtime  Other_Salaries  Retirement  Health/Dental\n",
       "0 -0.228091       -0.474919    1.178494       0.916565\n",
       "1 -0.167552       -0.587276   -1.180529      -1.491462\n",
       "3 -0.428525        0.095551   -0.031662      -1.579733\n",
       "4 -0.428525       -0.587276   -0.312417      -0.399832\n",
       "5 -0.428525        0.019113    0.511937       0.994002"
      ]
     },
     "execution_count": 233,
     "metadata": {},
     "output_type": "execute_result"
    }
   ],
   "source": [
    "# display the first 5 observations\n",
    "df_numeric_features_vif.head()"
   ]
  },
  {
   "cell_type": "markdown",
   "metadata": {
    "colab_type": "text",
    "id": "eCWP1n0o2FSL"
   },
   "source": [
    "<a id=\"model\"></a>\n",
    "## 5.2 Build the MLR Model"
   ]
  },
  {
   "cell_type": "markdown",
   "metadata": {
    "colab_type": "text",
    "id": "m43s0oJq2FSL"
   },
   "source": [
    "<a id=\"full\"></a>\n",
    "### 5.2.1 MLR Full Model"
   ]
  },
  {
   "cell_type": "markdown",
   "metadata": {
    "colab_type": "text",
    "id": "-TbZv1pE2FSM"
   },
   "source": [
    "#### Filter numerical and categorical variables"
   ]
  },
  {
   "cell_type": "code",
   "execution_count": 234,
   "metadata": {
    "colab": {},
    "colab_type": "code",
    "id": "xF3sz8UW2FSN"
   },
   "outputs": [],
   "source": [
    "# create dataframe of features by dropping the target variable\n",
    "# 'axis = 1' drops the corresponding column(s)\n",
    "df_feature = df_compensation.drop('Total_Compensation', axis = 1)\n",
    "\n",
    "# create dataframe of target variable\n",
    "df_target = df_compensation['Total_Compensation']"
   ]
  },
  {
   "cell_type": "code",
   "execution_count": 235,
   "metadata": {
    "colab": {},
    "colab_type": "code",
    "id": "3qHHCpQX2FSO",
    "outputId": "2bd3d348-5c67-4df1-8a9b-5c0ab5f942a1"
   },
   "outputs": [
    {
     "data": {
      "text/plain": [
       "Index(['Salaries', 'Overtime', 'Other_Salaries', 'Total_Salary', 'Retirement',\n",
       "       'Health/Dental', 'Other_Benefits', 'Total_Benefits'],\n",
       "      dtype='object')"
      ]
     },
     "execution_count": 235,
     "metadata": {},
     "output_type": "execute_result"
    }
   ],
   "source": [
    "# filter the numerical features in the dataset\n",
    "# 'select_dtypes' is used to select the variables with given data type\n",
    "# 'include=[np.number]' will include all the numerical variables\n",
    "df_num = df_feature.select_dtypes(include=[np.number])\n",
    "\n",
    "# display numerical features\n",
    "df_num.columns"
   ]
  },
  {
   "cell_type": "code",
   "execution_count": 236,
   "metadata": {
    "colab": {},
    "colab_type": "code",
    "id": "t-oBzW2v2FSR",
    "outputId": "9571bc44-cf8d-4b48-8609-734c9d113726"
   },
   "outputs": [
    {
     "data": {
      "text/plain": [
       "Index(['Year_Type', 'Year'], dtype='object')"
      ]
     },
     "execution_count": 236,
     "metadata": {},
     "output_type": "execute_result"
    }
   ],
   "source": [
    "# filter the categorical features in the dataset\n",
    "# 'select_dtypes' is used to select the variables with given data type\n",
    "# 'include=[np.object]' will include all the categorical variables\n",
    "df_cat = df_feature.select_dtypes(include=[np.object])\n",
    "\n",
    "# display categorical features\n",
    "df_cat.columns"
   ]
  },
  {
   "cell_type": "code",
   "execution_count": 237,
   "metadata": {
    "colab": {},
    "colab_type": "code",
    "id": "NsPHNx1I2FSU"
   },
   "outputs": [],
   "source": [
    "# use 'get_dummies' from pandas to create dummy variables\n",
    "# use 'drop_first' to create (n-1) dummy variables\n",
    "encoded_data = pd.get_dummies(data = df_cat, drop_first=True)"
   ]
  },
  {
   "cell_type": "code",
   "execution_count": 238,
   "metadata": {
    "colab": {},
    "colab_type": "code",
    "id": "ADohBBOV2FSW",
    "outputId": "9de6a168-2e77-4d8c-a60a-7f09ecdbc8e7"
   },
   "outputs": [
    {
     "data": {
      "text/html": [
       "<div>\n",
       "<style scoped>\n",
       "    .dataframe tbody tr th:only-of-type {\n",
       "        vertical-align: middle;\n",
       "    }\n",
       "\n",
       "    .dataframe tbody tr th {\n",
       "        vertical-align: top;\n",
       "    }\n",
       "\n",
       "    .dataframe thead th {\n",
       "        text-align: right;\n",
       "    }\n",
       "</style>\n",
       "<table border=\"1\" class=\"dataframe\">\n",
       "  <thead>\n",
       "    <tr style=\"text-align: right;\">\n",
       "      <th></th>\n",
       "      <th>Year_Type_Fiscal</th>\n",
       "      <th>Year_2014</th>\n",
       "      <th>Year_2015</th>\n",
       "      <th>Year_2016</th>\n",
       "    </tr>\n",
       "  </thead>\n",
       "  <tbody>\n",
       "    <tr>\n",
       "      <th>0</th>\n",
       "      <td>1</td>\n",
       "      <td>0</td>\n",
       "      <td>1</td>\n",
       "      <td>0</td>\n",
       "    </tr>\n",
       "    <tr>\n",
       "      <th>1</th>\n",
       "      <td>0</td>\n",
       "      <td>0</td>\n",
       "      <td>1</td>\n",
       "      <td>0</td>\n",
       "    </tr>\n",
       "    <tr>\n",
       "      <th>3</th>\n",
       "      <td>1</td>\n",
       "      <td>1</td>\n",
       "      <td>0</td>\n",
       "      <td>0</td>\n",
       "    </tr>\n",
       "    <tr>\n",
       "      <th>4</th>\n",
       "      <td>1</td>\n",
       "      <td>0</td>\n",
       "      <td>0</td>\n",
       "      <td>0</td>\n",
       "    </tr>\n",
       "    <tr>\n",
       "      <th>5</th>\n",
       "      <td>0</td>\n",
       "      <td>0</td>\n",
       "      <td>0</td>\n",
       "      <td>0</td>\n",
       "    </tr>\n",
       "  </tbody>\n",
       "</table>\n",
       "</div>"
      ],
      "text/plain": [
       "   Year_Type_Fiscal  Year_2014  Year_2015  Year_2016\n",
       "0                 1          0          1          0\n",
       "1                 0          0          1          0\n",
       "3                 1          1          0          0\n",
       "4                 1          0          0          0\n",
       "5                 0          0          0          0"
      ]
     },
     "execution_count": 238,
     "metadata": {},
     "output_type": "execute_result"
    }
   ],
   "source": [
    "encoded_data.head()"
   ]
  },
  {
   "cell_type": "code",
   "execution_count": 239,
   "metadata": {
    "colab": {},
    "colab_type": "code",
    "id": "INUR9Km82FSY",
    "outputId": "e3ea90ee-fc2a-40d9-9ce8-de714ebfa368"
   },
   "outputs": [
    {
     "data": {
      "text/html": [
       "<div>\n",
       "<style scoped>\n",
       "    .dataframe tbody tr th:only-of-type {\n",
       "        vertical-align: middle;\n",
       "    }\n",
       "\n",
       "    .dataframe tbody tr th {\n",
       "        vertical-align: top;\n",
       "    }\n",
       "\n",
       "    .dataframe thead th {\n",
       "        text-align: right;\n",
       "    }\n",
       "</style>\n",
       "<table border=\"1\" class=\"dataframe\">\n",
       "  <thead>\n",
       "    <tr style=\"text-align: right;\">\n",
       "      <th></th>\n",
       "      <th>Salaries</th>\n",
       "      <th>Overtime</th>\n",
       "      <th>Other_Salaries</th>\n",
       "      <th>Total_Salary</th>\n",
       "      <th>Retirement</th>\n",
       "      <th>Health/Dental</th>\n",
       "      <th>Other_Benefits</th>\n",
       "      <th>Total_Benefits</th>\n",
       "      <th>Year_Type_Fiscal</th>\n",
       "      <th>Year_2014</th>\n",
       "      <th>Year_2015</th>\n",
       "      <th>Year_2016</th>\n",
       "    </tr>\n",
       "  </thead>\n",
       "  <tbody>\n",
       "    <tr>\n",
       "      <th>0</th>\n",
       "      <td>0.983488</td>\n",
       "      <td>-0.228091</td>\n",
       "      <td>-0.474919</td>\n",
       "      <td>0.926912</td>\n",
       "      <td>1.178494</td>\n",
       "      <td>0.916565</td>\n",
       "      <td>1.145315</td>\n",
       "      <td>1.160922</td>\n",
       "      <td>1</td>\n",
       "      <td>0</td>\n",
       "      <td>1</td>\n",
       "      <td>0</td>\n",
       "    </tr>\n",
       "    <tr>\n",
       "      <th>1</th>\n",
       "      <td>-1.252266</td>\n",
       "      <td>-0.167552</td>\n",
       "      <td>-0.587276</td>\n",
       "      <td>-1.263215</td>\n",
       "      <td>-1.180529</td>\n",
       "      <td>-1.491462</td>\n",
       "      <td>-1.259970</td>\n",
       "      <td>-1.365191</td>\n",
       "      <td>0</td>\n",
       "      <td>0</td>\n",
       "      <td>1</td>\n",
       "      <td>0</td>\n",
       "    </tr>\n",
       "    <tr>\n",
       "      <th>3</th>\n",
       "      <td>-0.164358</td>\n",
       "      <td>-0.428525</td>\n",
       "      <td>0.095551</td>\n",
       "      <td>-0.168961</td>\n",
       "      <td>-0.031662</td>\n",
       "      <td>-1.579733</td>\n",
       "      <td>-0.037039</td>\n",
       "      <td>-0.521484</td>\n",
       "      <td>1</td>\n",
       "      <td>1</td>\n",
       "      <td>0</td>\n",
       "      <td>0</td>\n",
       "    </tr>\n",
       "    <tr>\n",
       "      <th>4</th>\n",
       "      <td>-0.258589</td>\n",
       "      <td>-0.428525</td>\n",
       "      <td>-0.587276</td>\n",
       "      <td>-0.300194</td>\n",
       "      <td>-0.312417</td>\n",
       "      <td>-0.399832</td>\n",
       "      <td>-0.256852</td>\n",
       "      <td>-0.347973</td>\n",
       "      <td>1</td>\n",
       "      <td>0</td>\n",
       "      <td>0</td>\n",
       "      <td>0</td>\n",
       "    </tr>\n",
       "    <tr>\n",
       "      <th>5</th>\n",
       "      <td>0.536538</td>\n",
       "      <td>-0.428525</td>\n",
       "      <td>0.019113</td>\n",
       "      <td>0.511845</td>\n",
       "      <td>0.511937</td>\n",
       "      <td>0.994002</td>\n",
       "      <td>0.703228</td>\n",
       "      <td>0.731784</td>\n",
       "      <td>0</td>\n",
       "      <td>0</td>\n",
       "      <td>0</td>\n",
       "      <td>0</td>\n",
       "    </tr>\n",
       "  </tbody>\n",
       "</table>\n",
       "</div>"
      ],
      "text/plain": [
       "   Salaries  Overtime  Other_Salaries  Total_Salary  Retirement  \\\n",
       "0  0.983488 -0.228091       -0.474919      0.926912    1.178494   \n",
       "1 -1.252266 -0.167552       -0.587276     -1.263215   -1.180529   \n",
       "3 -0.164358 -0.428525        0.095551     -0.168961   -0.031662   \n",
       "4 -0.258589 -0.428525       -0.587276     -0.300194   -0.312417   \n",
       "5  0.536538 -0.428525        0.019113      0.511845    0.511937   \n",
       "\n",
       "   Health/Dental  Other_Benefits  Total_Benefits  Year_Type_Fiscal  Year_2014  \\\n",
       "0       0.916565        1.145315        1.160922                 1          0   \n",
       "1      -1.491462       -1.259970       -1.365191                 0          0   \n",
       "3      -1.579733       -0.037039       -0.521484                 1          1   \n",
       "4      -0.399832       -0.256852       -0.347973                 1          0   \n",
       "5       0.994002        0.703228        0.731784                 0          0   \n",
       "\n",
       "   Year_2015  Year_2016  \n",
       "0          1          0  \n",
       "1          1          0  \n",
       "3          0          0  \n",
       "4          0          0  \n",
       "5          0          0  "
      ]
     },
     "execution_count": 239,
     "metadata": {},
     "output_type": "execute_result"
    }
   ],
   "source": [
    "# concat the dummy variables with numeric features to create a dataframe of all independent variables\n",
    "# 'axis=1' concats the dataframes along columns \n",
    "df_compensation_dummy = pd.concat([df_num, encoded_data], axis=1)\n",
    "\n",
    "# display first five observations\n",
    "df_compensation_dummy.head()"
   ]
  },
  {
   "cell_type": "code",
   "execution_count": 240,
   "metadata": {
    "colab": {},
    "colab_type": "code",
    "id": "1-lQl3N_2FSa",
    "outputId": "1b230b08-c129-4d59-98df-9fd2cc0ace44"
   },
   "outputs": [
    {
     "name": "stdout",
     "output_type": "stream",
     "text": [
      "X_train_full (26404, 13)\n",
      "y_train_full (26404,)\n",
      "X_test_full (11317, 13)\n",
      "y_test_full (11317,)\n"
     ]
    }
   ],
   "source": [
    "# set of independent variables\n",
    "# create a copy of 'df_compensation_dummy' and store in the dataframe 'X_full'\n",
    "X_full = df_compensation_dummy.copy()\n",
    "\n",
    "# dependent variable\n",
    "# create a copy of 'df_target' and store in the dataframe 'y_full'\n",
    "y_full = df_target.copy()\n",
    "\n",
    "# to estimate the regression coefficient, a constant term of '1' needs to be added as a separate column\n",
    "# 'sm.add_constant' adds the intercept to the model\n",
    "X_full = sm.add_constant(X_full)\n",
    "\n",
    "# split data into train subset and test subset\n",
    "# set 'random_state' to generate the same dataset each time you run the code \n",
    "# 'test_size' returns the proportion of data to be included in the testing set\n",
    "X_train_full, X_test_full, y_train_full, y_test_full = train_test_split(X_full, y_full, random_state=1, test_size = 0.3)\n",
    "\n",
    "# checking the dimensions of the train & test subset\n",
    "# print dimension of train set\n",
    "print('X_train_full', X_train_full.shape)\n",
    "print('y_train_full', y_train_full.shape)\n",
    "\n",
    "# print dimension of test set\n",
    "print('X_test_full', X_test_full.shape)\n",
    "print('y_test_full', y_test_full.shape)"
   ]
  },
  {
   "cell_type": "code",
   "execution_count": 241,
   "metadata": {
    "colab": {},
    "colab_type": "code",
    "id": "wL9WT00n2FSc",
    "outputId": "6e32dfcc-ae0a-41bb-afb8-2a04e4d8ad9f"
   },
   "outputs": [
    {
     "name": "stdout",
     "output_type": "stream",
     "text": [
      "                            OLS Regression Results                            \n",
      "==============================================================================\n",
      "Dep. Variable:     Total_Compensation   R-squared:                       1.000\n",
      "Model:                            OLS   Adj. R-squared:                  1.000\n",
      "Method:                 Least Squares   F-statistic:                 5.706e+08\n",
      "Date:                Mon, 22 May 2023   Prob (F-statistic):               0.00\n",
      "Time:                        12:30:37   Log-Likelihood:             1.2482e+05\n",
      "No. Observations:               26404   AIC:                        -2.496e+05\n",
      "Df Residuals:                   26393   BIC:                        -2.495e+05\n",
      "Df Model:                          10                                         \n",
      "Covariance Type:            nonrobust                                         \n",
      "====================================================================================\n",
      "                       coef    std err          t      P>|t|      [0.025      0.975]\n",
      "------------------------------------------------------------------------------------\n",
      "const            -1.251e-14   6.52e-05  -1.92e-10      1.000      -0.000       0.000\n",
      "Salaries            -0.0085   3.02e+09  -2.82e-12      1.000   -5.92e+09    5.92e+09\n",
      "Overtime            -0.0004   9.92e+07  -3.73e-12      1.000   -1.94e+08    1.94e+08\n",
      "Other_Salaries      -0.0006   1.77e+08  -3.58e-12      1.000   -3.47e+08    3.47e+08\n",
      "Total_Salary         0.7409   3.09e+09    2.4e-10      1.000   -6.05e+09    6.05e+09\n",
      "Retirement           0.1224   1.24e+08    9.9e-10      1.000   -2.42e+08    2.42e+08\n",
      "Health/Dental        0.0699   7.05e+07    9.9e-10      1.000   -1.38e+08    1.38e+08\n",
      "Other_Benefits       0.0433   4.37e+07    9.9e-10      1.000   -8.57e+07    8.57e+07\n",
      "Total_Benefits       0.0580   2.24e+08   2.58e-10      1.000    -4.4e+08     4.4e+08\n",
      "Year_Type_Fiscal  2.338e-16   2.86e-05   8.17e-12      1.000   -5.61e-05    5.61e-05\n",
      "Year_2014         4.168e-16    3.6e-05   1.16e-11      1.000   -7.05e-05    7.05e-05\n",
      "Year_2015         4.077e-16   3.59e-05   1.13e-11      1.000   -7.04e-05    7.04e-05\n",
      "Year_2016            -1e-15   4.47e-05  -2.24e-11      1.000   -8.76e-05    8.76e-05\n",
      "==============================================================================\n",
      "Omnibus:                     1301.468   Durbin-Watson:                   2.012\n",
      "Prob(Omnibus):                  0.000   Jarque-Bera (JB):             1493.746\n",
      "Skew:                          -0.578   Prob(JB):                         0.00\n",
      "Kurtosis:                       2.862   Cond. No.                     8.41e+15\n",
      "==============================================================================\n",
      "\n",
      "Notes:\n",
      "[1] Standard Errors assume that the covariance matrix of the errors is correctly specified.\n",
      "[2] The smallest eigenvalue is 2.08e-27. This might indicate that there are\n",
      "strong multicollinearity problems or that the design matrix is singular.\n"
     ]
    }
   ],
   "source": [
    "# build a model on training dataset\n",
    "# fit() is used to fit the OLS model\n",
    "MLR_full_model = sm.OLS(y_train_full, X_train_full).fit()\n",
    "\n",
    "# print the summary output\n",
    "print(MLR_full_model.summary())"
   ]
  },
  {
   "cell_type": "code",
   "execution_count": 242,
   "metadata": {
    "colab": {},
    "colab_type": "code",
    "id": "_A54ppfQ2FSe"
   },
   "outputs": [],
   "source": [
    "y_pred_full = MLR_full_model.predict(X_test_full)"
   ]
  },
  {
   "cell_type": "markdown",
   "metadata": {
    "colab_type": "text",
    "id": "Q9C6H-H52FSg"
   },
   "source": [
    "<a id=\"signi_var\"></a>\n",
    "### 5.2.2 MLR Model after Removing Insignificant Variables"
   ]
  },
  {
   "cell_type": "code",
   "execution_count": 243,
   "metadata": {
    "colab": {},
    "colab_type": "code",
    "id": "WFZRtXfD2FSh",
    "outputId": "041c29ab-0eff-41aa-826c-85d02201e645"
   },
   "outputs": [
    {
     "data": {
      "text/plain": [
       "Index(['Overtime', 'Other_Salaries', 'Retirement', 'Health/Dental'], dtype='object')"
      ]
     },
     "execution_count": 243,
     "metadata": {},
     "output_type": "execute_result"
    }
   ],
   "source": [
    "# display numeric features obtained from VIF\n",
    "df_numeric_features_vif.columns"
   ]
  },
  {
   "cell_type": "code",
   "execution_count": 244,
   "metadata": {
    "colab": {},
    "colab_type": "code",
    "id": "ro-kyLLa2FSk",
    "outputId": "db5fb372-4a67-4683-c44f-8a9940d94325"
   },
   "outputs": [
    {
     "data": {
      "text/plain": [
       "Index(['Year_Type', 'Year'], dtype='object')"
      ]
     },
     "execution_count": 244,
     "metadata": {},
     "output_type": "execute_result"
    }
   ],
   "source": [
    "# filter the categorical features in the dataset\n",
    "# 'select_dtypes' is used to select the variables with given data type\n",
    "# 'include=[np.object]' will include all the categorical variables\n",
    "df_cat = df_feature.select_dtypes(include=[np.object])\n",
    "\n",
    "# display categorical features\n",
    "df_cat.columns"
   ]
  },
  {
   "cell_type": "code",
   "execution_count": 245,
   "metadata": {
    "colab": {},
    "colab_type": "code",
    "id": "4LBtW9LU2FSo"
   },
   "outputs": [],
   "source": [
    "# use 'get_dummies' from pandas to create dummy variables\n",
    "# use 'drop_first' to create (n-1) dummy variables\n",
    "encoded_data = pd.get_dummies(data = df_cat, drop_first=True)"
   ]
  },
  {
   "cell_type": "code",
   "execution_count": 246,
   "metadata": {
    "colab": {},
    "colab_type": "code",
    "id": "DPG5aNl92FSr",
    "outputId": "58ea6c79-8a69-482c-a645-c006c3f9c667"
   },
   "outputs": [
    {
     "data": {
      "text/html": [
       "<div>\n",
       "<style scoped>\n",
       "    .dataframe tbody tr th:only-of-type {\n",
       "        vertical-align: middle;\n",
       "    }\n",
       "\n",
       "    .dataframe tbody tr th {\n",
       "        vertical-align: top;\n",
       "    }\n",
       "\n",
       "    .dataframe thead th {\n",
       "        text-align: right;\n",
       "    }\n",
       "</style>\n",
       "<table border=\"1\" class=\"dataframe\">\n",
       "  <thead>\n",
       "    <tr style=\"text-align: right;\">\n",
       "      <th></th>\n",
       "      <th>Overtime</th>\n",
       "      <th>Other_Salaries</th>\n",
       "      <th>Retirement</th>\n",
       "      <th>Health/Dental</th>\n",
       "      <th>Year_Type_Fiscal</th>\n",
       "      <th>Year_2014</th>\n",
       "      <th>Year_2015</th>\n",
       "      <th>Year_2016</th>\n",
       "    </tr>\n",
       "  </thead>\n",
       "  <tbody>\n",
       "    <tr>\n",
       "      <th>0</th>\n",
       "      <td>-0.228091</td>\n",
       "      <td>-0.474919</td>\n",
       "      <td>1.178494</td>\n",
       "      <td>0.916565</td>\n",
       "      <td>1</td>\n",
       "      <td>0</td>\n",
       "      <td>1</td>\n",
       "      <td>0</td>\n",
       "    </tr>\n",
       "    <tr>\n",
       "      <th>1</th>\n",
       "      <td>-0.167552</td>\n",
       "      <td>-0.587276</td>\n",
       "      <td>-1.180529</td>\n",
       "      <td>-1.491462</td>\n",
       "      <td>0</td>\n",
       "      <td>0</td>\n",
       "      <td>1</td>\n",
       "      <td>0</td>\n",
       "    </tr>\n",
       "    <tr>\n",
       "      <th>3</th>\n",
       "      <td>-0.428525</td>\n",
       "      <td>0.095551</td>\n",
       "      <td>-0.031662</td>\n",
       "      <td>-1.579733</td>\n",
       "      <td>1</td>\n",
       "      <td>1</td>\n",
       "      <td>0</td>\n",
       "      <td>0</td>\n",
       "    </tr>\n",
       "    <tr>\n",
       "      <th>4</th>\n",
       "      <td>-0.428525</td>\n",
       "      <td>-0.587276</td>\n",
       "      <td>-0.312417</td>\n",
       "      <td>-0.399832</td>\n",
       "      <td>1</td>\n",
       "      <td>0</td>\n",
       "      <td>0</td>\n",
       "      <td>0</td>\n",
       "    </tr>\n",
       "    <tr>\n",
       "      <th>5</th>\n",
       "      <td>-0.428525</td>\n",
       "      <td>0.019113</td>\n",
       "      <td>0.511937</td>\n",
       "      <td>0.994002</td>\n",
       "      <td>0</td>\n",
       "      <td>0</td>\n",
       "      <td>0</td>\n",
       "      <td>0</td>\n",
       "    </tr>\n",
       "  </tbody>\n",
       "</table>\n",
       "</div>"
      ],
      "text/plain": [
       "   Overtime  Other_Salaries  Retirement  Health/Dental  Year_Type_Fiscal  \\\n",
       "0 -0.228091       -0.474919    1.178494       0.916565                 1   \n",
       "1 -0.167552       -0.587276   -1.180529      -1.491462                 0   \n",
       "3 -0.428525        0.095551   -0.031662      -1.579733                 1   \n",
       "4 -0.428525       -0.587276   -0.312417      -0.399832                 1   \n",
       "5 -0.428525        0.019113    0.511937       0.994002                 0   \n",
       "\n",
       "   Year_2014  Year_2015  Year_2016  \n",
       "0          0          1          0  \n",
       "1          0          1          0  \n",
       "3          1          0          0  \n",
       "4          0          0          0  \n",
       "5          0          0          0  "
      ]
     },
     "execution_count": 246,
     "metadata": {},
     "output_type": "execute_result"
    }
   ],
   "source": [
    "# concat the dummy variables with numeric features to create a dataframe of all independent variables\n",
    "# 'axis=1' concats the dataframes along columns \n",
    "df_compensation_dummy = pd.concat([df_numeric_features_vif, encoded_data], axis=1)\n",
    "\n",
    "# display first five observations\n",
    "df_compensation_dummy.head()"
   ]
  },
  {
   "cell_type": "code",
   "execution_count": 247,
   "metadata": {
    "colab": {},
    "colab_type": "code",
    "id": "gsX1_PlD2FSv",
    "outputId": "3de64412-afe9-4627-dce3-6a971b32f4fe"
   },
   "outputs": [
    {
     "name": "stdout",
     "output_type": "stream",
     "text": [
      "X_train_signi_var (26404, 9)\n",
      "y_train_signi_var (26404,)\n",
      "X_test_signi_var (11317, 9)\n",
      "y_test_signi_var (11317,)\n"
     ]
    }
   ],
   "source": [
    "# set of independent variables\n",
    "# create a copy of 'df_compensation_dummy' and store in the dataframe 'X_signi_var'\n",
    "X_signi_var = df_compensation_dummy.copy()\n",
    "\n",
    "# dependent variable\n",
    "# create a copy of 'df_target' and store in the dataframe 'y_signi_var'\n",
    "y_signi_var = df_target.copy()\n",
    "\n",
    "# to estimate the regression coefficient, a constant term of '1' needs to be added as a separate column\n",
    "# 'sm.add_constant' adds the intercept to the model\n",
    "X_signi_var = sm.add_constant(X_signi_var)\n",
    "\n",
    "# split data into train subset and test subset\n",
    "# set 'random_state' to generate the same dataset each time you run the code \n",
    "# 'test_size' returns the proportion of data to be included in the testing set\n",
    "X_train_signi_var, X_test_signi_var, y_train_signi_var, y_test_signi_var = train_test_split(X_signi_var, y_signi_var, \n",
    "                                                                                            random_state=1, test_size = 0.3)\n",
    "\n",
    "# checking the dimensions of the train & test subset\n",
    "# print dimension of train set\n",
    "print('X_train_signi_var', X_train_signi_var.shape)\n",
    "print('y_train_signi_var', y_train_signi_var.shape)\n",
    "\n",
    "# print dimension of test set\n",
    "print('X_test_signi_var', X_test_signi_var.shape)\n",
    "print('y_test_signi_var', y_test_signi_var.shape)"
   ]
  },
  {
   "cell_type": "code",
   "execution_count": 248,
   "metadata": {
    "colab": {},
    "colab_type": "code",
    "id": "EBqe8BUi2FSy",
    "outputId": "795139bd-0d4a-4a09-8119-ac690a97d096"
   },
   "outputs": [
    {
     "name": "stdout",
     "output_type": "stream",
     "text": [
      "                            OLS Regression Results                            \n",
      "==============================================================================\n",
      "Dep. Variable:     Total_Compensation   R-squared:                       0.952\n",
      "Model:                            OLS   Adj. R-squared:                  0.952\n",
      "Method:                 Least Squares   F-statistic:                 6.605e+04\n",
      "Date:                Mon, 22 May 2023   Prob (F-statistic):               0.00\n",
      "Time:                        12:30:37   Log-Likelihood:                 2855.1\n",
      "No. Observations:               26404   AIC:                            -5692.\n",
      "Df Residuals:                   26395   BIC:                            -5619.\n",
      "Df Model:                           8                                         \n",
      "Covariance Type:            nonrobust                                         \n",
      "====================================================================================\n",
      "                       coef    std err          t      P>|t|      [0.025      0.975]\n",
      "------------------------------------------------------------------------------------\n",
      "const                0.0537      0.003     18.281      0.000       0.048       0.060\n",
      "Overtime            -0.0142      0.001     -9.974      0.000      -0.017      -0.011\n",
      "Other_Salaries       0.0533      0.001     36.878      0.000       0.050       0.056\n",
      "Retirement           0.8288      0.002    348.080      0.000       0.824       0.833\n",
      "Health/Dental        0.1577      0.002     66.357      0.000       0.153       0.162\n",
      "Year_Type_Fiscal     0.0067      0.003      2.326      0.020       0.001       0.012\n",
      "Year_2014           -0.1054      0.004    -29.391      0.000      -0.112      -0.098\n",
      "Year_2015           -0.1004      0.004    -27.991      0.000      -0.107      -0.093\n",
      "Year_2016            0.0140      0.005      3.097      0.002       0.005       0.023\n",
      "==============================================================================\n",
      "Omnibus:                    19024.567   Durbin-Watson:                   1.998\n",
      "Prob(Omnibus):                  0.000   Jarque-Bera (JB):           923214.371\n",
      "Skew:                           2.946   Prob(JB):                         0.00\n",
      "Kurtosis:                      31.363   Cond. No.                         6.21\n",
      "==============================================================================\n",
      "\n",
      "Notes:\n",
      "[1] Standard Errors assume that the covariance matrix of the errors is correctly specified.\n"
     ]
    }
   ],
   "source": [
    "# build a model on training dataset\n",
    "# fit() is used to fit the OLS model\n",
    "MLR_model_vif = sm.OLS(y_train_signi_var, X_train_signi_var).fit()\n",
    "\n",
    "# print the summary output\n",
    "print(MLR_model_vif.summary())"
   ]
  },
  {
   "cell_type": "code",
   "execution_count": 249,
   "metadata": {
    "colab": {},
    "colab_type": "code",
    "id": "lqdiswAF2FS2",
    "outputId": "7d26e7ba-54a2-4fde-cc0d-750d14238c09"
   },
   "outputs": [
    {
     "data": {
      "text/html": [
       "<div>\n",
       "<style scoped>\n",
       "    .dataframe tbody tr th:only-of-type {\n",
       "        vertical-align: middle;\n",
       "    }\n",
       "\n",
       "    .dataframe tbody tr th {\n",
       "        vertical-align: top;\n",
       "    }\n",
       "\n",
       "    .dataframe thead th {\n",
       "        text-align: right;\n",
       "    }\n",
       "</style>\n",
       "<table border=\"1\" class=\"dataframe\">\n",
       "  <thead>\n",
       "    <tr style=\"text-align: right;\">\n",
       "      <th></th>\n",
       "      <th>P-Value</th>\n",
       "    </tr>\n",
       "  </thead>\n",
       "  <tbody>\n",
       "    <tr>\n",
       "      <th>const</th>\n",
       "      <td>0.000000</td>\n",
       "    </tr>\n",
       "    <tr>\n",
       "      <th>Overtime</th>\n",
       "      <td>0.000000</td>\n",
       "    </tr>\n",
       "    <tr>\n",
       "      <th>Other_Salaries</th>\n",
       "      <td>0.000000</td>\n",
       "    </tr>\n",
       "    <tr>\n",
       "      <th>Retirement</th>\n",
       "      <td>0.000000</td>\n",
       "    </tr>\n",
       "    <tr>\n",
       "      <th>Health/Dental</th>\n",
       "      <td>0.000000</td>\n",
       "    </tr>\n",
       "    <tr>\n",
       "      <th>Year_Type_Fiscal</th>\n",
       "      <td>0.020051</td>\n",
       "    </tr>\n",
       "    <tr>\n",
       "      <th>Year_2014</th>\n",
       "      <td>0.000000</td>\n",
       "    </tr>\n",
       "    <tr>\n",
       "      <th>Year_2015</th>\n",
       "      <td>0.000000</td>\n",
       "    </tr>\n",
       "    <tr>\n",
       "      <th>Year_2016</th>\n",
       "      <td>0.001959</td>\n",
       "    </tr>\n",
       "  </tbody>\n",
       "</table>\n",
       "</div>"
      ],
      "text/plain": [
       "                  P-Value\n",
       "const            0.000000\n",
       "Overtime         0.000000\n",
       "Other_Salaries   0.000000\n",
       "Retirement       0.000000\n",
       "Health/Dental    0.000000\n",
       "Year_Type_Fiscal 0.020051\n",
       "Year_2014        0.000000\n",
       "Year_2015        0.000000\n",
       "Year_2016        0.001959"
      ]
     },
     "execution_count": 249,
     "metadata": {},
     "output_type": "execute_result"
    }
   ],
   "source": [
    "# calculate p-values for all the independent variables in the MLR_model\n",
    "# create a dataframe containing p-values \n",
    "# pass the column name to the parameter 'columns'\n",
    "MLR_pvalues = pd.DataFrame(MLR_model_vif.pvalues, columns = [\"P-Value\"])\n",
    "\n",
    "# print the dataframe\n",
    "MLR_pvalues"
   ]
  },
  {
   "cell_type": "code",
   "execution_count": 250,
   "metadata": {
    "colab": {},
    "colab_type": "code",
    "id": "KkDz8Mba2FS5",
    "outputId": "fa46d3a4-2903-499b-f3be-1b94bad035ce"
   },
   "outputs": [
    {
     "data": {
      "text/plain": [
       "[]"
      ]
     },
     "execution_count": 250,
     "metadata": {},
     "output_type": "execute_result"
    }
   ],
   "source": [
    "# subset the dataframe 'MLR_pvalues' such that the variables will have p-value greater than 0.05\n",
    "# store the subset of a dataframe to a new dataframe 'insignificant_var' \n",
    "insignificant_var = MLR_pvalues[1:][MLR_pvalues[1:]['P-Value'] > 0.05]\n",
    "\n",
    "# get the variable names with p-value greater than 0.05\n",
    "insigni_var = insignificant_var.index\n",
    "\n",
    "# convert the variables to the type 'list' using 'to_list()'\n",
    "insigni_var = insigni_var.to_list()\n",
    "\n",
    "# print the list of insignificant variables\n",
    "insigni_var"
   ]
  },
  {
   "cell_type": "code",
   "execution_count": 251,
   "metadata": {
    "colab": {},
    "colab_type": "code",
    "id": "zhYU4Aql2FS9",
    "outputId": "fcc4784b-ec88-4fb7-ec1a-b3261a34e070"
   },
   "outputs": [
    {
     "name": "stdout",
     "output_type": "stream",
     "text": [
      "                            OLS Regression Results                            \n",
      "==============================================================================\n",
      "Dep. Variable:     Total_Compensation   R-squared:                       0.952\n",
      "Model:                            OLS   Adj. R-squared:                  0.952\n",
      "Method:                 Least Squares   F-statistic:                 6.605e+04\n",
      "Date:                Mon, 22 May 2023   Prob (F-statistic):               0.00\n",
      "Time:                        12:30:37   Log-Likelihood:                 2855.1\n",
      "No. Observations:               26404   AIC:                            -5692.\n",
      "Df Residuals:                   26395   BIC:                            -5619.\n",
      "Df Model:                           8                                         \n",
      "Covariance Type:            nonrobust                                         \n",
      "====================================================================================\n",
      "                       coef    std err          t      P>|t|      [0.025      0.975]\n",
      "------------------------------------------------------------------------------------\n",
      "const                0.0537      0.003     18.281      0.000       0.048       0.060\n",
      "Overtime            -0.0142      0.001     -9.974      0.000      -0.017      -0.011\n",
      "Other_Salaries       0.0533      0.001     36.878      0.000       0.050       0.056\n",
      "Retirement           0.8288      0.002    348.080      0.000       0.824       0.833\n",
      "Health/Dental        0.1577      0.002     66.357      0.000       0.153       0.162\n",
      "Year_Type_Fiscal     0.0067      0.003      2.326      0.020       0.001       0.012\n",
      "Year_2014           -0.1054      0.004    -29.391      0.000      -0.112      -0.098\n",
      "Year_2015           -0.1004      0.004    -27.991      0.000      -0.107      -0.093\n",
      "Year_2016            0.0140      0.005      3.097      0.002       0.005       0.023\n",
      "==============================================================================\n",
      "Omnibus:                    19024.567   Durbin-Watson:                   1.998\n",
      "Prob(Omnibus):                  0.000   Jarque-Bera (JB):           923214.371\n",
      "Skew:                           2.946   Prob(JB):                         0.00\n",
      "Kurtosis:                      31.363   Cond. No.                         6.21\n",
      "==============================================================================\n",
      "\n",
      "Notes:\n",
      "[1] Standard Errors assume that the covariance matrix of the errors is correctly specified.\n"
     ]
    }
   ],
   "source": [
    "# drop the insignificant variables from the dataframe 'X_train_signi_var'\n",
    "# 'axis = 1' drops the corresponding column(s)\n",
    "X_train_signi_var = X_train_signi_var.drop(insigni_var, axis=1)\n",
    "\n",
    "# drop the insignificant variables from the dataframe 'X_test_signi_var'\n",
    "# 'axis = 1' drops the corresponding column(s)\n",
    "X_test_signi_var = X_test_signi_var.drop(insigni_var, axis=1)\n",
    "\n",
    "# building a model on training dataset\n",
    "# fit() is used to fit the OLS model\n",
    "MLR_model_with_significant_var = sm.OLS(y_train_signi_var, X_train_signi_var).fit()\n",
    "\n",
    "# print the summary output\n",
    "print(MLR_model_with_significant_var.summary())"
   ]
  },
  {
   "cell_type": "code",
   "execution_count": 252,
   "metadata": {
    "colab": {},
    "colab_type": "code",
    "id": "mxzNKjd12FTA"
   },
   "outputs": [],
   "source": [
    "y_pred_signi_var = MLR_model_with_significant_var.predict(X_test_signi_var)"
   ]
  },
  {
   "cell_type": "markdown",
   "metadata": {
    "colab_type": "text",
    "id": "df7guiFM2FTB"
   },
   "source": [
    "<a id=\"interaction\"></a>\n",
    "### 5.2.3 MLR Model with Interaction Effect"
   ]
  },
  {
   "cell_type": "code",
   "execution_count": 253,
   "metadata": {
    "colab": {},
    "colab_type": "code",
    "id": "xzSpvxxL2FTC",
    "outputId": "3292061a-f22d-434d-f7a5-34a263c628c8"
   },
   "outputs": [
    {
     "data": {
      "text/html": [
       "<div>\n",
       "<style scoped>\n",
       "    .dataframe tbody tr th:only-of-type {\n",
       "        vertical-align: middle;\n",
       "    }\n",
       "\n",
       "    .dataframe tbody tr th {\n",
       "        vertical-align: top;\n",
       "    }\n",
       "\n",
       "    .dataframe thead th {\n",
       "        text-align: right;\n",
       "    }\n",
       "</style>\n",
       "<table border=\"1\" class=\"dataframe\">\n",
       "  <thead>\n",
       "    <tr style=\"text-align: right;\">\n",
       "      <th></th>\n",
       "      <th>Overtime</th>\n",
       "      <th>Other_Salaries</th>\n",
       "      <th>Retirement</th>\n",
       "      <th>Health/Dental</th>\n",
       "      <th>Year_Type_Fiscal</th>\n",
       "      <th>Year_2014</th>\n",
       "      <th>Year_2015</th>\n",
       "      <th>Year_2016</th>\n",
       "      <th>Other_Salaries*Retirement</th>\n",
       "    </tr>\n",
       "  </thead>\n",
       "  <tbody>\n",
       "    <tr>\n",
       "      <th>0</th>\n",
       "      <td>-0.228091</td>\n",
       "      <td>-0.474919</td>\n",
       "      <td>1.178494</td>\n",
       "      <td>0.916565</td>\n",
       "      <td>1</td>\n",
       "      <td>0</td>\n",
       "      <td>1</td>\n",
       "      <td>0</td>\n",
       "      <td>-0.559689</td>\n",
       "    </tr>\n",
       "    <tr>\n",
       "      <th>1</th>\n",
       "      <td>-0.167552</td>\n",
       "      <td>-0.587276</td>\n",
       "      <td>-1.180529</td>\n",
       "      <td>-1.491462</td>\n",
       "      <td>0</td>\n",
       "      <td>0</td>\n",
       "      <td>1</td>\n",
       "      <td>0</td>\n",
       "      <td>0.693297</td>\n",
       "    </tr>\n",
       "    <tr>\n",
       "      <th>3</th>\n",
       "      <td>-0.428525</td>\n",
       "      <td>0.095551</td>\n",
       "      <td>-0.031662</td>\n",
       "      <td>-1.579733</td>\n",
       "      <td>1</td>\n",
       "      <td>1</td>\n",
       "      <td>0</td>\n",
       "      <td>0</td>\n",
       "      <td>-0.003025</td>\n",
       "    </tr>\n",
       "    <tr>\n",
       "      <th>4</th>\n",
       "      <td>-0.428525</td>\n",
       "      <td>-0.587276</td>\n",
       "      <td>-0.312417</td>\n",
       "      <td>-0.399832</td>\n",
       "      <td>1</td>\n",
       "      <td>0</td>\n",
       "      <td>0</td>\n",
       "      <td>0</td>\n",
       "      <td>0.183475</td>\n",
       "    </tr>\n",
       "    <tr>\n",
       "      <th>5</th>\n",
       "      <td>-0.428525</td>\n",
       "      <td>0.019113</td>\n",
       "      <td>0.511937</td>\n",
       "      <td>0.994002</td>\n",
       "      <td>0</td>\n",
       "      <td>0</td>\n",
       "      <td>0</td>\n",
       "      <td>0</td>\n",
       "      <td>0.009785</td>\n",
       "    </tr>\n",
       "  </tbody>\n",
       "</table>\n",
       "</div>"
      ],
      "text/plain": [
       "   Overtime  Other_Salaries  Retirement  Health/Dental  Year_Type_Fiscal  \\\n",
       "0 -0.228091       -0.474919    1.178494       0.916565                 1   \n",
       "1 -0.167552       -0.587276   -1.180529      -1.491462                 0   \n",
       "3 -0.428525        0.095551   -0.031662      -1.579733                 1   \n",
       "4 -0.428525       -0.587276   -0.312417      -0.399832                 1   \n",
       "5 -0.428525        0.019113    0.511937       0.994002                 0   \n",
       "\n",
       "   Year_2014  Year_2015  Year_2016  Other_Salaries*Retirement  \n",
       "0          0          1          0                  -0.559689  \n",
       "1          0          1          0                   0.693297  \n",
       "3          1          0          0                  -0.003025  \n",
       "4          0          0          0                   0.183475  \n",
       "5          0          0          0                   0.009785  "
      ]
     },
     "execution_count": 253,
     "metadata": {},
     "output_type": "execute_result"
    }
   ],
   "source": [
    "df_interaction = df_compensation_dummy.copy()\n",
    "df_interaction = df_interaction.drop(insigni_var, axis = 1)\n",
    "\n",
    "# add the interaction variable in the original data\n",
    "df_interaction['Other_Salaries*Retirement'] = df_interaction['Other_Salaries']*df_interaction['Retirement'] \n",
    "\n",
    "# print the data with interaction\n",
    "df_interaction.head()"
   ]
  },
  {
   "cell_type": "code",
   "execution_count": 254,
   "metadata": {},
   "outputs": [
    {
     "data": {
      "text/html": [
       "<div>\n",
       "<style scoped>\n",
       "    .dataframe tbody tr th:only-of-type {\n",
       "        vertical-align: middle;\n",
       "    }\n",
       "\n",
       "    .dataframe tbody tr th {\n",
       "        vertical-align: top;\n",
       "    }\n",
       "\n",
       "    .dataframe thead th {\n",
       "        text-align: right;\n",
       "    }\n",
       "</style>\n",
       "<table border=\"1\" class=\"dataframe\">\n",
       "  <thead>\n",
       "    <tr style=\"text-align: right;\">\n",
       "      <th></th>\n",
       "      <th>Overtime</th>\n",
       "      <th>Other_Salaries</th>\n",
       "      <th>Retirement</th>\n",
       "      <th>Health/Dental</th>\n",
       "      <th>Year_Type_Fiscal</th>\n",
       "      <th>Year_2014</th>\n",
       "      <th>Year_2015</th>\n",
       "      <th>Year_2016</th>\n",
       "    </tr>\n",
       "  </thead>\n",
       "  <tbody>\n",
       "    <tr>\n",
       "      <th>0</th>\n",
       "      <td>-0.228091</td>\n",
       "      <td>-0.474919</td>\n",
       "      <td>1.178494</td>\n",
       "      <td>0.916565</td>\n",
       "      <td>1</td>\n",
       "      <td>0</td>\n",
       "      <td>1</td>\n",
       "      <td>0</td>\n",
       "    </tr>\n",
       "    <tr>\n",
       "      <th>1</th>\n",
       "      <td>-0.167552</td>\n",
       "      <td>-0.587276</td>\n",
       "      <td>-1.180529</td>\n",
       "      <td>-1.491462</td>\n",
       "      <td>0</td>\n",
       "      <td>0</td>\n",
       "      <td>1</td>\n",
       "      <td>0</td>\n",
       "    </tr>\n",
       "    <tr>\n",
       "      <th>3</th>\n",
       "      <td>-0.428525</td>\n",
       "      <td>0.095551</td>\n",
       "      <td>-0.031662</td>\n",
       "      <td>-1.579733</td>\n",
       "      <td>1</td>\n",
       "      <td>1</td>\n",
       "      <td>0</td>\n",
       "      <td>0</td>\n",
       "    </tr>\n",
       "    <tr>\n",
       "      <th>4</th>\n",
       "      <td>-0.428525</td>\n",
       "      <td>-0.587276</td>\n",
       "      <td>-0.312417</td>\n",
       "      <td>-0.399832</td>\n",
       "      <td>1</td>\n",
       "      <td>0</td>\n",
       "      <td>0</td>\n",
       "      <td>0</td>\n",
       "    </tr>\n",
       "    <tr>\n",
       "      <th>5</th>\n",
       "      <td>-0.428525</td>\n",
       "      <td>0.019113</td>\n",
       "      <td>0.511937</td>\n",
       "      <td>0.994002</td>\n",
       "      <td>0</td>\n",
       "      <td>0</td>\n",
       "      <td>0</td>\n",
       "      <td>0</td>\n",
       "    </tr>\n",
       "  </tbody>\n",
       "</table>\n",
       "</div>"
      ],
      "text/plain": [
       "   Overtime  Other_Salaries  Retirement  Health/Dental  Year_Type_Fiscal  \\\n",
       "0 -0.228091       -0.474919    1.178494       0.916565                 1   \n",
       "1 -0.167552       -0.587276   -1.180529      -1.491462                 0   \n",
       "3 -0.428525        0.095551   -0.031662      -1.579733                 1   \n",
       "4 -0.428525       -0.587276   -0.312417      -0.399832                 1   \n",
       "5 -0.428525        0.019113    0.511937       0.994002                 0   \n",
       "\n",
       "   Year_2014  Year_2015  Year_2016  \n",
       "0          0          1          0  \n",
       "1          0          1          0  \n",
       "3          1          0          0  \n",
       "4          0          0          0  \n",
       "5          0          0          0  "
      ]
     },
     "execution_count": 254,
     "metadata": {},
     "output_type": "execute_result"
    }
   ],
   "source": [
    "df_compensation_dummy.head()"
   ]
  },
  {
   "cell_type": "code",
   "execution_count": 255,
   "metadata": {
    "colab": {},
    "colab_type": "code",
    "id": "22KKtQ4l2FTE",
    "outputId": "6320cef1-0e7d-464c-bc5a-f29c788380a9"
   },
   "outputs": [
    {
     "name": "stdout",
     "output_type": "stream",
     "text": [
      "X_train_inter (26404, 10)\n",
      "y_train_inter (26404,)\n",
      "X_test_inter (11317, 10)\n",
      "y_test_inter (11317,)\n"
     ]
    }
   ],
   "source": [
    "# set of independent variables\n",
    "# create a copy of 'df_num' and store in the dataframe 'X_inter'\n",
    "X_inter = df_interaction.copy()\n",
    "\n",
    "# dependent variable\n",
    "# create a copy of 'df_target' and store in the dataframe 'y_inter'\n",
    "y_inter = df_target.copy()\n",
    "\n",
    "# to estimate the regression coefficient, a constant term of '1' needs to be added as a separate column\n",
    "# 'sm.add_constant' adds the intercept to the model\n",
    "X_inter = sm.add_constant(X_inter)\n",
    "\n",
    "# split data into train subset and test subset\n",
    "# set 'random_state' to generate the same dataset each time you run the code \n",
    "# 'test_size' returns the proportion of data to be included in the testing set\n",
    "X_train_inter, X_test_inter, y_train_inter, y_test_inter = train_test_split(X_inter, y_inter, random_state=1, test_size = 0.3)\n",
    "\n",
    "# checking the dimensions of the train & test subset\n",
    "# print dimension of train set\n",
    "print('X_train_inter', X_train_inter.shape)\n",
    "print('y_train_inter', y_train_inter.shape)\n",
    "\n",
    "# print dimension of test set\n",
    "print('X_test_inter', X_test_inter.shape)\n",
    "print('y_test_inter', y_test_inter.shape)"
   ]
  },
  {
   "cell_type": "code",
   "execution_count": 256,
   "metadata": {
    "colab": {},
    "colab_type": "code",
    "id": "asctqVu12FTG",
    "outputId": "ebb176d3-23c6-4e09-a664-083585e612ed"
   },
   "outputs": [
    {
     "name": "stdout",
     "output_type": "stream",
     "text": [
      "                            OLS Regression Results                            \n",
      "==============================================================================\n",
      "Dep. Variable:     Total_Compensation   R-squared:                       0.954\n",
      "Model:                            OLS   Adj. R-squared:                  0.954\n",
      "Method:                 Least Squares   F-statistic:                 6.072e+04\n",
      "Date:                Mon, 22 May 2023   Prob (F-statistic):               0.00\n",
      "Time:                        12:30:37   Log-Likelihood:                 3278.2\n",
      "No. Observations:               26404   AIC:                            -6536.\n",
      "Df Residuals:                   26394   BIC:                            -6455.\n",
      "Df Model:                           9                                         \n",
      "Covariance Type:            nonrobust                                         \n",
      "=============================================================================================\n",
      "                                coef    std err          t      P>|t|      [0.025      0.975]\n",
      "---------------------------------------------------------------------------------------------\n",
      "const                         0.0659      0.003     22.549      0.000       0.060       0.072\n",
      "Overtime                     -0.0125      0.001     -8.916      0.000      -0.015      -0.010\n",
      "Other_Salaries                0.0735      0.002     46.518      0.000       0.070       0.077\n",
      "Retirement                    0.8399      0.002    353.810      0.000       0.835       0.845\n",
      "Health/Dental                 0.1414      0.002     58.858      0.000       0.137       0.146\n",
      "Year_Type_Fiscal              0.0065      0.003      2.266      0.023       0.001       0.012\n",
      "Year_2014                    -0.1057      0.004    -29.958      0.000      -0.113      -0.099\n",
      "Year_2015                    -0.1019      0.004    -28.849      0.000      -0.109      -0.095\n",
      "Year_2016                     0.0136      0.004      3.050      0.002       0.005       0.022\n",
      "Other_Salaries*Retirement    -0.0396      0.001    -29.319      0.000      -0.042      -0.037\n",
      "==============================================================================\n",
      "Omnibus:                    17600.683   Durbin-Watson:                   1.998\n",
      "Prob(Omnibus):                  0.000   Jarque-Bera (JB):           785796.217\n",
      "Skew:                           2.636   Prob(JB):                         0.00\n",
      "Kurtosis:                      29.200   Cond. No.                         6.43\n",
      "==============================================================================\n",
      "\n",
      "Notes:\n",
      "[1] Standard Errors assume that the covariance matrix of the errors is correctly specified.\n"
     ]
    }
   ],
   "source": [
    "# build a model on training dataset\n",
    "# 'sm.add_constant' adds the intercept to the model\n",
    "# fit() is used to fit the OLS model\n",
    "MLR_model_with_interaction = sm.OLS(y_train_inter, X_train_inter).fit()\n",
    "\n",
    "# print the summary output\n",
    "print(MLR_model_with_interaction.summary())"
   ]
  },
  {
   "cell_type": "code",
   "execution_count": 257,
   "metadata": {
    "colab": {},
    "colab_type": "code",
    "id": "vwct1MiA2FTI"
   },
   "outputs": [],
   "source": [
    "y_pred_inter = MLR_model_with_interaction.predict(X_test_inter)"
   ]
  },
  {
   "cell_type": "markdown",
   "metadata": {
    "colab_type": "text",
    "id": "N4L9sFpp2FTJ"
   },
   "source": [
    "<a id=\"assum\"></a>\n",
    "## 5.3 Assumptions After MLR Model"
   ]
  },
  {
   "cell_type": "markdown",
   "metadata": {
    "colab_type": "text",
    "id": "dt08fVHn2FTK"
   },
   "source": [
    "<a id=\"linear_reln\"></a>\n",
    "### 5.3.1 Linear Relationship between Dependent and Independent Variable"
   ]
  },
  {
   "cell_type": "code",
   "execution_count": 258,
   "metadata": {
    "colab": {},
    "colab_type": "code",
    "id": "1OnGRGhL2FTK",
    "outputId": "3a9c8519-6741-4e83-a513-bbb4dd8becee"
   },
   "outputs": [
    {
     "data": {
      "image/png": "[encoded data removed]",
      "text/plain": [
       "<Figure size 1440x1080 with 4 Axes>"
      ]
     },
     "metadata": {
      "needs_background": "light"
     },
     "output_type": "display_data"
    }
   ],
   "source": [
    "# create subplots of scatter plots\n",
    "# pass the number of rows in a subplot to 'nrows'\n",
    "# pass the number of columns in a subplot to 'ncolumns'\n",
    "# set plot size using 'figsize'\n",
    "fig, ax = plt.subplots(nrows = 2, ncols= 2, figsize=(20, 15))\n",
    "\n",
    "# use for loop to create scatter plot for residuals and each independent variable (do not consider the intercept)\n",
    "# 'ax' assigns axes object to draw the plot onto \n",
    "for variable, subplot in zip(X_train_signi_var.columns[1:5], ax.flatten()):\n",
    "    sns.scatterplot(X_train_signi_var[variable], MLR_model_with_significant_var.resid , ax=subplot)\n",
    "\n",
    "# display the plot\n",
    "plt.show()"
   ]
  },
  {
   "cell_type": "markdown",
   "metadata": {
    "colab_type": "text",
    "id": "VUBiJNwC2FTM"
   },
   "source": [
    "<a id=\"auto\"></a>\n",
    "### 5.3.2 Autocorrelation"
   ]
  },
  {
   "cell_type": "code",
   "execution_count": 259,
   "metadata": {
    "colab": {},
    "colab_type": "code",
    "id": "iS6Y772r2FTM",
    "outputId": "63735f43-b849-4f84-a56d-18bd65096cb0"
   },
   "outputs": [
    {
     "name": "stdout",
     "output_type": "stream",
     "text": [
      "                            OLS Regression Results                            \n",
      "==============================================================================\n",
      "Dep. Variable:     Total_Compensation   R-squared:                       0.952\n",
      "Model:                            OLS   Adj. R-squared:                  0.952\n",
      "Method:                 Least Squares   F-statistic:                 6.605e+04\n",
      "Date:                Mon, 22 May 2023   Prob (F-statistic):               0.00\n",
      "Time:                        12:30:38   Log-Likelihood:                 2855.1\n",
      "No. Observations:               26404   AIC:                            -5692.\n",
      "Df Residuals:                   26395   BIC:                            -5619.\n",
      "Df Model:                           8                                         \n",
      "Covariance Type:            nonrobust                                         \n",
      "====================================================================================\n",
      "                       coef    std err          t      P>|t|      [0.025      0.975]\n",
      "------------------------------------------------------------------------------------\n",
      "const                0.0537      0.003     18.281      0.000       0.048       0.060\n",
      "Overtime            -0.0142      0.001     -9.974      0.000      -0.017      -0.011\n",
      "Other_Salaries       0.0533      0.001     36.878      0.000       0.050       0.056\n",
      "Retirement           0.8288      0.002    348.080      0.000       0.824       0.833\n",
      "Health/Dental        0.1577      0.002     66.357      0.000       0.153       0.162\n",
      "Year_Type_Fiscal     0.0067      0.003      2.326      0.020       0.001       0.012\n",
      "Year_2014           -0.1054      0.004    -29.391      0.000      -0.112      -0.098\n",
      "Year_2015           -0.1004      0.004    -27.991      0.000      -0.107      -0.093\n",
      "Year_2016            0.0140      0.005      3.097      0.002       0.005       0.023\n",
      "==============================================================================\n",
      "Omnibus:                    19024.567   Durbin-Watson:                   1.998\n",
      "Prob(Omnibus):                  0.000   Jarque-Bera (JB):           923214.371\n",
      "Skew:                           2.946   Prob(JB):                         0.00\n",
      "Kurtosis:                      31.363   Cond. No.                         6.21\n",
      "==============================================================================\n",
      "\n",
      "Notes:\n",
      "[1] Standard Errors assume that the covariance matrix of the errors is correctly specified.\n"
     ]
    }
   ],
   "source": [
    "# print the model summary\n",
    "print(MLR_model_with_significant_var.summary())"
   ]
  },
  {
   "cell_type": "markdown",
   "metadata": {
    "colab_type": "text",
    "id": "TIatdZX42FTO"
   },
   "source": [
    "<a id=\"sked\"></a>\n",
    "### 5.3.3 Heteroskedasticity"
   ]
  },
  {
   "cell_type": "code",
   "execution_count": 260,
   "metadata": {
    "colab": {},
    "colab_type": "code",
    "id": "CHfcq2uU2FTQ",
    "outputId": "05d667ac-1cb5-48f6-dfca-ebceb279ffa1"
   },
   "outputs": [
    {
     "data": {
      "text/plain": [
       "[('f-value', 77.78364079815607), ('p-value', 1.3149059750886006e-127)]"
      ]
     },
     "execution_count": 260,
     "metadata": {},
     "output_type": "execute_result"
    }
   ],
   "source": [
    "# create vector of result parmeters\n",
    "name = ['f-value','p-value']\n",
    "\n",
    "# perform Breusch-Pagan test using residuals and independent variables\n",
    "# compute residuals using 'resid'\n",
    "# 'exog' returns the independent variables in the model alng with the intercept\n",
    "test = sms.het_breuschpagan(MLR_model_with_significant_var.resid, MLR_model_with_significant_var.model.exog)\n",
    "\n",
    "# print the output\n",
    "# use 'lzip' to zip the column names and test results\n",
    "# use 'test[2:]' to retrieve the F-statistic and its corresponding p-value \n",
    "lzip(name, test[2:])"
   ]
  },
  {
   "cell_type": "markdown",
   "metadata": {
    "colab_type": "text",
    "id": "Wr6rs1wX2FTR"
   },
   "source": [
    "<a id=\"normality\"></a>\n",
    "### 5.3.4 Tests for Normality"
   ]
  },
  {
   "cell_type": "markdown",
   "metadata": {
    "colab_type": "text",
    "id": "GDe7hvR12FTW"
   },
   "source": [
    "<a id=\"qq\"></a>\n",
    "#### 1. Q-Q Plot"
   ]
  },
  {
   "cell_type": "code",
   "execution_count": 261,
   "metadata": {
    "colab": {},
    "colab_type": "code",
    "id": "yGMLnZhq2FTY",
    "outputId": "9fb4617c-5866-42bb-aebc-493c9dc1aba8"
   },
   "outputs": [
    {
     "data": {
      "image/png": "[encoded data removed]",
      "text/plain": [
       "<Figure size 1080x576 with 1 Axes>"
      ]
     },
     "metadata": {
      "needs_background": "light"
     },
     "output_type": "display_data"
    }
   ],
   "source": [
    "# set the plot size using 'rcParams'\n",
    "# once the plot size is set using 'rcParams', it sets the size of all the forthcoming plots in the file\n",
    "# pass width and height in inches to 'figure.figsize' \n",
    "plt.rcParams['figure.figsize'] = [15,8]\n",
    "\n",
    "# plot the Q-Q plot\n",
    "# 'r' represents the regression line\n",
    "qqplot(MLR_model_with_significant_var.resid, line = 'r')\n",
    "\n",
    "# set plot and axes labels\n",
    "# set text size using 'fontsize'\n",
    "plt.title('Q-Q Plot', fontsize = 15)\n",
    "plt.xlabel('Theoretical Quantiles', fontsize = 15)\n",
    "plt.ylabel('Sample Quantiles', fontsize = 15)\n",
    "\n",
    "# display the plot\n",
    "plt.show()"
   ]
  },
  {
   "cell_type": "markdown",
   "metadata": {
    "colab_type": "text",
    "id": "lVI4GTDV2FTc"
   },
   "source": [
    "<a id=\"SWT\"></a>\n",
    "#### 2. Shapiro Wilk Test"
   ]
  },
  {
   "cell_type": "markdown",
   "metadata": {
    "colab_type": "text",
    "id": "gDM6Y8co2FTc"
   },
   "source": [
    "The Shapiro Wilk test is used to check the normality of the residuals. The test hypothesis is given as:<br>\n",
    "\n",
    "<p style='text-indent:25em'> <strong> H<sub>o</sub>:  Residuals are normally distributed </strong> </p>\n",
    "<p style='text-indent:25em'> <strong> H<sub>1</sub>:  Residuals are not normally distributed </strong> </p>"
   ]
  },
  {
   "cell_type": "code",
   "execution_count": 262,
   "metadata": {
    "colab": {},
    "colab_type": "code",
    "id": "ugPHKgK-2FTd",
    "outputId": "d1110692-b621-4ac9-c56c-11c4f10dfca0"
   },
   "outputs": [
    {
     "name": "stdout",
     "output_type": "stream",
     "text": [
      "Test statistic: 0.7444038391113281\n",
      "P-Value: 0.0\n"
     ]
    }
   ],
   "source": [
    "# perform Shapiro Wilk test using 'shapiro()' from scipy library\n",
    "# shapiro() returns a tuple having the values of test statistics and the corresponding p-value\n",
    "# 'resid' returns the residuals in the model\n",
    "# pass the residuals to 'shapiro()'\n",
    "stat, p_value = shapiro(MLR_model_with_significant_var.resid)\n",
    "\n",
    "# print the test statistic and corresponding p-value \n",
    "print('Test statistic:', stat)\n",
    "print('P-Value:', p_value)"
   ]
  },
  {
   "cell_type": "markdown",
   "metadata": {
    "colab_type": "text",
    "id": "FYEHerzk2FTf"
   },
   "source": [
    "<a id=\"eval\"></a>\n",
    "# 6. Model Evaluation"
   ]
  },
  {
   "cell_type": "code",
   "execution_count": 263,
   "metadata": {
    "colab": {},
    "colab_type": "code",
    "id": "1OvdTIca2FTg",
    "outputId": "b8180d27-e00c-450b-f5fd-c5af642efb76"
   },
   "outputs": [
    {
     "name": "stdout",
     "output_type": "stream",
     "text": [
      "                            OLS Regression Results                            \n",
      "==============================================================================\n",
      "Dep. Variable:     Total_Compensation   R-squared:                       0.952\n",
      "Model:                            OLS   Adj. R-squared:                  0.952\n",
      "Method:                 Least Squares   F-statistic:                 6.605e+04\n",
      "Date:                Mon, 22 May 2023   Prob (F-statistic):               0.00\n",
      "Time:                        12:30:38   Log-Likelihood:                 2855.1\n",
      "No. Observations:               26404   AIC:                            -5692.\n",
      "Df Residuals:                   26395   BIC:                            -5619.\n",
      "Df Model:                           8                                         \n",
      "Covariance Type:            nonrobust                                         \n",
      "====================================================================================\n",
      "                       coef    std err          t      P>|t|      [0.025      0.975]\n",
      "------------------------------------------------------------------------------------\n",
      "const                0.0537      0.003     18.281      0.000       0.048       0.060\n",
      "Overtime            -0.0142      0.001     -9.974      0.000      -0.017      -0.011\n",
      "Other_Salaries       0.0533      0.001     36.878      0.000       0.050       0.056\n",
      "Retirement           0.8288      0.002    348.080      0.000       0.824       0.833\n",
      "Health/Dental        0.1577      0.002     66.357      0.000       0.153       0.162\n",
      "Year_Type_Fiscal     0.0067      0.003      2.326      0.020       0.001       0.012\n",
      "Year_2014           -0.1054      0.004    -29.391      0.000      -0.112      -0.098\n",
      "Year_2015           -0.1004      0.004    -27.991      0.000      -0.107      -0.093\n",
      "Year_2016            0.0140      0.005      3.097      0.002       0.005       0.023\n",
      "==============================================================================\n",
      "Omnibus:                    19024.567   Durbin-Watson:                   1.998\n",
      "Prob(Omnibus):                  0.000   Jarque-Bera (JB):           923214.371\n",
      "Skew:                           2.946   Prob(JB):                         0.00\n",
      "Kurtosis:                      31.363   Cond. No.                         6.21\n",
      "==============================================================================\n",
      "\n",
      "Notes:\n",
      "[1] Standard Errors assume that the covariance matrix of the errors is correctly specified.\n"
     ]
    }
   ],
   "source": [
    "# print the model summary\n",
    "print(MLR_model_with_significant_var.summary())"
   ]
  },
  {
   "cell_type": "markdown",
   "metadata": {
    "colab_type": "text",
    "id": "VxpGYVJM2FTj"
   },
   "source": [
    "<a id=\"R_squared\"></a>\n",
    "## 6.1 R-Squared"
   ]
  },
  {
   "cell_type": "code",
   "execution_count": 264,
   "metadata": {
    "colab": {},
    "colab_type": "code",
    "id": "w25yGaIk2FTk",
    "outputId": "2a872ab6-227d-4d97-83ad-d7179e5cff06"
   },
   "outputs": [
    {
     "data": {
      "text/plain": [
       "0.952426668116827"
      ]
     },
     "execution_count": 264,
     "metadata": {},
     "output_type": "execute_result"
    }
   ],
   "source": [
    "# calculate R-Squared on train dataset\n",
    "# use 'rsquared' from statsmodel\n",
    "r_sq_mlr = MLR_model_with_significant_var.rsquared\n",
    "\n",
    "# print the value\n",
    "r_sq_mlr"
   ]
  },
  {
   "cell_type": "markdown",
   "metadata": {
    "colab_type": "text",
    "id": "bHfOvj2V2FTn"
   },
   "source": [
    "<a id=\"Adj_R_test\"></a>\n",
    "## 6.2 Adjusted R-Squared"
   ]
  },
  {
   "cell_type": "code",
   "execution_count": 265,
   "metadata": {
    "colab": {},
    "colab_type": "code",
    "id": "cwOGz7vf2FTo",
    "outputId": "365517f2-4f5e-4b8c-de39-bcf78e0f5065"
   },
   "outputs": [
    {
     "data": {
      "text/plain": [
       "0.9524122492247995"
      ]
     },
     "execution_count": 265,
     "metadata": {},
     "output_type": "execute_result"
    }
   ],
   "source": [
    "# calculate adjusted R-Squared on train dataset\n",
    "# use 'rsquared_adj' from statsmodel\n",
    "adj_r_sq = MLR_model_with_significant_var.rsquared_adj\n",
    "\n",
    "# print the value\n",
    "adj_r_sq"
   ]
  },
  {
   "cell_type": "code",
   "execution_count": 266,
   "metadata": {
    "colab": {},
    "colab_type": "code",
    "id": "C0bbl9Jx2FTq",
    "outputId": "6a8d17af-2372-4188-d538-066daa770a39"
   },
   "outputs": [
    {
     "data": {
      "text/plain": [
       "0.952410446248715"
      ]
     },
     "execution_count": 266,
     "metadata": {},
     "output_type": "execute_result"
    }
   ],
   "source": [
    "# calculate adjusted R-Squared on train dataset using the formula\n",
    "# 'n' denotes total number of observations\n",
    "n = len(X_train_signi_var)\n",
    "\n",
    "# 'k' denotes number of predictors (including the intercept)\n",
    "k = len(X_train_signi_var.columns)\n",
    "\n",
    "# calculate adjusted R-squared\n",
    "# 'r_sq_mlr' represents the R-Squared value\n",
    "adj_r_sq = 1 - (((1 - r_sq_mlr) * (n - 1)) / (n - k - 1))\n",
    "\n",
    "# print the value\n",
    "adj_r_sq"
   ]
  },
  {
   "cell_type": "markdown",
   "metadata": {
    "colab_type": "text",
    "id": "Jposo-Bx2FTr"
   },
   "source": [
    "<a id=\"overall\"></a>\n",
    "## 6.3 Overall F-Test & p-value of the Model"
   ]
  },
  {
   "cell_type": "code",
   "execution_count": 267,
   "metadata": {
    "colab": {},
    "colab_type": "code",
    "id": "1i8SwXV02FTs",
    "outputId": "9563ef1c-bfe5-4fbd-8c81-2a6b97c11281"
   },
   "outputs": [
    {
     "data": {
      "text/plain": [
       "66054.08143021923"
      ]
     },
     "execution_count": 267,
     "metadata": {},
     "output_type": "execute_result"
    }
   ],
   "source": [
    "# compute f_value using the below formula \n",
    "# f_value = (r_sq / k-1)/((1- r_sq)/n-k)\n",
    "\n",
    "# k = number of beta coefficients\n",
    "k = len(X_train_signi_var.columns)\n",
    "\n",
    "# n = number of observations\n",
    "n = len(X_train_signi_var)\n",
    "\n",
    "# calculate value of F-statistic\n",
    "# 'r_sq_mlr' represents the R-Squared value\n",
    "f_value = (r_sq_mlr / (k - 1))/((1-r_sq_mlr)/(n - k))\n",
    "\n",
    "# print the value\n",
    "f_value"
   ]
  },
  {
   "cell_type": "code",
   "execution_count": 268,
   "metadata": {
    "colab": {},
    "colab_type": "code",
    "id": "jc3oqxP22FTt",
    "outputId": "253b36f5-af37-4d40-d7ef-fa5db63ac35a"
   },
   "outputs": [
    {
     "data": {
      "text/plain": [
       "0.0"
      ]
     },
     "execution_count": 268,
     "metadata": {},
     "output_type": "execute_result"
    }
   ],
   "source": [
    "# calculate p-value for F-statistic\n",
    "# use 'sf' (Survival function) from f-distribution to calculate the corresponding p-value\n",
    "\n",
    "# degrees of freedom \n",
    "# dfn = k-1 = 6-1 = 5\n",
    "# dfd = n-k = 1043-5 = 1038\n",
    "p_val = stats.f.sf(f_value, dfn = 5, dfd = 1038)\n",
    "\n",
    "# print the value\n",
    "p_val"
   ]
  },
  {
   "cell_type": "markdown",
   "metadata": {
    "colab_type": "text",
    "id": "KjixWqgN2FTv"
   },
   "source": [
    "<a id=\"ml_perf\"></a>\n",
    "# 7. Model Performance"
   ]
  },
  {
   "cell_type": "code",
   "execution_count": 269,
   "metadata": {
    "colab": {},
    "colab_type": "code",
    "id": "lzfVn6Mr2FTv"
   },
   "outputs": [],
   "source": [
    "# For training set:\n",
    "# train_pred: prediction made by the model on the training dataset 'X_train_signi_var'\n",
    "# y_train_signi_var: actual values of the target variable for the train dataset\n",
    "\n",
    "# For testing set:\n",
    "# test_pred: prediction made by the model on the test dataset 'X_test_signi_var'\n",
    "# y_test_signi_var: actual values of the target variable for the test dataset\n",
    "\n",
    "# predict the output of the target variable from the train data \n",
    "# train_pred can also be obtained from \"MLR_model_with_significant_var.fittedvalues\"\n",
    "train_pred = MLR_model_with_significant_var.predict(X_train_signi_var)\n",
    "\n",
    "# predict the output of the target variable from the test data\n",
    "test_pred = MLR_model_with_significant_var.predict(X_test_signi_var)"
   ]
  },
  {
   "cell_type": "markdown",
   "metadata": {
    "colab_type": "text",
    "id": "q5yvvET52FTx"
   },
   "source": [
    "<a id=\"mse\"></a>\n",
    "## 7.1 Mean Squared Error (MSE)"
   ]
  },
  {
   "cell_type": "code",
   "execution_count": 270,
   "metadata": {
    "colab": {},
    "colab_type": "code",
    "id": "2rY2WCdf2FTy",
    "outputId": "0c38adca-2e2e-4cd9-dc16-9101459bb88c"
   },
   "outputs": [
    {
     "name": "stdout",
     "output_type": "stream",
     "text": [
      "Mean Squared Error (MSE) on training set:  0.0472\n",
      "Mean Squared Error (MSE) on test set:  0.042\n"
     ]
    }
   ],
   "source": [
    "# calculate the MSE using the \"mean_squared_error\" function\n",
    "\n",
    "# calculate the MSE for the train data\n",
    "# round the value upto 4 digits using 'round()'\n",
    "mse_train = round(mean_squared_error(y_train_signi_var, train_pred),4)\n",
    "\n",
    "# print the MSE for the training set\n",
    "print(\"Mean Squared Error (MSE) on training set: \", mse_train)\n",
    "\n",
    "# calculate the MSE for the test data\n",
    "# round the value upto 4 digits using 'round()'\n",
    "mse_test = round(mean_squared_error(y_test_signi_var, test_pred),4)\n",
    "\n",
    "# print the MSE for the test set\n",
    "print(\"Mean Squared Error (MSE) on test set: \", mse_test)"
   ]
  },
  {
   "cell_type": "markdown",
   "metadata": {
    "colab_type": "text",
    "id": "RYpu4Dkl2FT1"
   },
   "source": [
    "<a id=\"rmse\"></a>\n",
    "## 7.2 Root Mean Squared Error (RMSE)"
   ]
  },
  {
   "cell_type": "code",
   "execution_count": 271,
   "metadata": {
    "colab": {},
    "colab_type": "code",
    "id": "BnkLElKW2FT2",
    "outputId": "9d7dba35-72dd-4bc2-abd1-a11fce70e138"
   },
   "outputs": [
    {
     "name": "stdout",
     "output_type": "stream",
     "text": [
      "Root Mean Squared Error (RMSE) on training set:  0.2172\n",
      "Root Mean Squared Error (RMSE) on test set:  0.2049\n"
     ]
    }
   ],
   "source": [
    "# calculate the MSE using the \"mean_squared_error\" function\n",
    "\n",
    "# MSE for the train data\n",
    "mse_train = mean_squared_error(y_train_signi_var, train_pred)\n",
    "\n",
    "# take the square root of the MSE to calculate the RMSE\n",
    "# round the value upto 4 digits using 'round()'\n",
    "rmse_train = round(np.sqrt(mse_train), 4)\n",
    "\n",
    "# print the RMSE for the train set\n",
    "print(\"Root Mean Squared Error (RMSE) on training set: \", rmse_train)\n",
    "\n",
    "# MSE for the test data\n",
    "mse_test = mean_squared_error(y_test_signi_var, test_pred)\n",
    "\n",
    "# take the square root of the MSE to calculate the RMSE\n",
    "# round the value upto 4 digits using 'round()'\n",
    "rmse_test = round(np.sqrt(mse_test), 4)\n",
    "\n",
    "# print the RMSE for the test set\n",
    "print(\"Root Mean Squared Error (RMSE) on test set: \", rmse_test)"
   ]
  },
  {
   "cell_type": "markdown",
   "metadata": {
    "colab_type": "text",
    "id": "vfebkN5j2FT4"
   },
   "source": [
    "<a id=\"mae\"></a>\n",
    "## 7.3 Mean Absolute Error (MAE)"
   ]
  },
  {
   "cell_type": "code",
   "execution_count": 272,
   "metadata": {
    "colab": {},
    "colab_type": "code",
    "id": "u6lcB09h2FT6",
    "outputId": "cddcac47-3962-4152-e9f1-4be45854dd7a"
   },
   "outputs": [
    {
     "name": "stdout",
     "output_type": "stream",
     "text": [
      "Mean Absolute Error (MAE) on training set:  0.1297\n",
      "Mean Absolute Error (MAE) on test set:  0.1272\n"
     ]
    }
   ],
   "source": [
    "# calculate the MAE using the \"mean_absolute_error\" function\n",
    "\n",
    "# calculate the MAE for the train data\n",
    "# round the value upto 4 digits using 'round()'\n",
    "mae_train = round(mean_absolute_error(y_train_signi_var, train_pred),4)\n",
    "\n",
    "# print the MAE for the training set\n",
    "print(\"Mean Absolute Error (MAE) on training set: \", mae_train)\n",
    "\n",
    "# calculate the MAE for the test data\n",
    "# round the value upto 4 digits using 'round()'\n",
    "mae_test = round(mean_absolute_error(y_test_signi_var, test_pred),4)\n",
    "\n",
    "# print the MAE for the test set\n",
    "print(\"Mean Absolute Error (MAE) on test set: \", mae_test)"
   ]
  },
  {
   "cell_type": "markdown",
   "metadata": {
    "colab_type": "text",
    "id": "KhdEEsc52FT8"
   },
   "source": [
    "<a id=\"mape\"></a>\n",
    "## 7.4 Mean Absolute Percentage Error (MAPE)"
   ]
  },
  {
   "cell_type": "code",
   "execution_count": 273,
   "metadata": {
    "colab": {},
    "colab_type": "code",
    "id": "m-UCjbWU2FT8"
   },
   "outputs": [],
   "source": [
    "# define a function to calculate MAPE\n",
    "# pass the actual and predicted values as input to the function\n",
    "# return the calculated MAPE \n",
    "def mape(actual, predicted):\n",
    "    return (np.mean(np.abs((actual - predicted) / actual)) * 100)"
   ]
  },
  {
   "cell_type": "code",
   "execution_count": 274,
   "metadata": {
    "colab": {},
    "colab_type": "code",
    "id": "PueI1cT52FT-",
    "outputId": "2a44dd87-4ce4-40a0-e19f-9213ad75e65e"
   },
   "outputs": [
    {
     "name": "stdout",
     "output_type": "stream",
     "text": [
      "Mean Absolute Percentage Error (MAPE) on training set:  76.6985\n",
      "Mean Absolute Percentage Error (MAPE) on test set:  72.0685\n"
     ]
    }
   ],
   "source": [
    "# calculate the mape using the \"mape()\" function created above\n",
    "\n",
    "# calculate the MAPE for the train data\n",
    "# round the value upto 4 digits using 'round()'\n",
    "mape_train = round(mape(y_train_signi_var, train_pred),4)\n",
    "\n",
    "# print the MAPE for the training set\n",
    "print(\"Mean Absolute Percentage Error (MAPE) on training set: \", mape_train)\n",
    "\n",
    "# calculate the MAPE for the test data\n",
    "# round the value upto 4 digits using 'round()'\n",
    "mape_test = round(mape(y_test_signi_var, test_pred),4)\n",
    "\n",
    "# print the MAPE for the test set\n",
    "print(\"Mean Absolute Percentage Error (MAPE) on test set: \", mape_test)"
   ]
  },
  {
   "cell_type": "markdown",
   "metadata": {
    "colab_type": "text",
    "id": "84Nuy6TI2FT_"
   },
   "source": [
    "<a id=\"compare\"></a>\n",
    "# 8. Compare Model Performances"
   ]
  },
  {
   "cell_type": "markdown",
   "metadata": {
    "colab_type": "text",
    "id": "F5pxN8uu2FUA"
   },
   "source": [
    "Let us compare the model performance metrics (MSE, RMSE, MAE, MAPE) for `MLR_full_model`, `MLR_model_with_significant_var` and `MLR_interaction_model` to find the best model."
   ]
  },
  {
   "cell_type": "code",
   "execution_count": 275,
   "metadata": {
    "colab": {},
    "colab_type": "code",
    "id": "GeMogBTE2FUA"
   },
   "outputs": [],
   "source": [
    "# create the table for all the model performance metrics\n",
    "# metrics considered for model comparision are MSE, RMSE, MAE and MAPE\n",
    "# create a list of column names\n",
    "cols = ['Model_Name', 'R-squared', 'Adj. R-squared', 'MSE', 'RMSE', 'MAE', 'MAPE']\n",
    "\n",
    "# creating a empty dataframe of the colums\n",
    "result_table = pd.DataFrame(columns = cols)"
   ]
  },
  {
   "cell_type": "code",
   "execution_count": 276,
   "metadata": {
    "colab": {},
    "colab_type": "code",
    "id": "Ew0hYU8x2FUB",
    "outputId": "c6486c63-c6b0-4c75-9e06-0bc43c8f37a2"
   },
   "outputs": [
    {
     "data": {
      "text/html": [
       "<div>\n",
       "<style scoped>\n",
       "    .dataframe tbody tr th:only-of-type {\n",
       "        vertical-align: middle;\n",
       "    }\n",
       "\n",
       "    .dataframe tbody tr th {\n",
       "        vertical-align: top;\n",
       "    }\n",
       "\n",
       "    .dataframe thead th {\n",
       "        text-align: right;\n",
       "    }\n",
       "</style>\n",
       "<table border=\"1\" class=\"dataframe\">\n",
       "  <thead>\n",
       "    <tr style=\"text-align: right;\">\n",
       "      <th></th>\n",
       "      <th>Model_Name</th>\n",
       "      <th>R-squared</th>\n",
       "      <th>Adj. R-squared</th>\n",
       "      <th>MSE</th>\n",
       "      <th>RMSE</th>\n",
       "      <th>MAE</th>\n",
       "      <th>MAPE</th>\n",
       "    </tr>\n",
       "  </thead>\n",
       "  <tbody>\n",
       "    <tr>\n",
       "      <th>0</th>\n",
       "      <td>MLR Full Model</td>\n",
       "      <td>0.999995</td>\n",
       "      <td>0.999995</td>\n",
       "      <td>0.000005</td>\n",
       "      <td>0.002173</td>\n",
       "      <td>0.001806</td>\n",
       "      <td>0.245462</td>\n",
       "    </tr>\n",
       "  </tbody>\n",
       "</table>\n",
       "</div>"
      ],
      "text/plain": [
       "       Model_Name  R-squared  Adj. R-squared      MSE     RMSE      MAE  \\\n",
       "0  MLR Full Model   0.999995        0.999995 0.000005 0.002173 0.001806   \n",
       "\n",
       "      MAPE  \n",
       "0 0.245462  "
      ]
     },
     "execution_count": 276,
     "metadata": {},
     "output_type": "execute_result"
    }
   ],
   "source": [
    "# calculate R-squared, Adjusted R-squared, MSE, RMSE, MAE and MAPE for full model\n",
    "# use 'rsquared' to calculate R-squared value\n",
    "# use 'rsquared_adj' to calculate Adjusted R-squared value\n",
    "# use 'mean_squared_error' to calculate MSE\n",
    "# use 'rmse' to calculate RMSE\n",
    "# use 'mean_absolute_error' to calculate MAE\n",
    "# use the defined function 'mape' to calculate MAPE\n",
    "MLR_full_model_metrics = pd.Series({'Model_Name': \"MLR Full Model\",\n",
    "                     'R-squared': MLR_full_model.rsquared,\n",
    "                     'Adj. R-squared': MLR_full_model.rsquared_adj,\n",
    "                     'MSE': mean_squared_error(y_test_full, y_pred_full),\n",
    "                     'RMSE': rmse(y_test_full, y_pred_full),\n",
    "                     'MAE': mean_absolute_error(y_test_full, y_pred_full),\n",
    "                     'MAPE': mape(y_test_full, y_pred_full)\n",
    "                   })\n",
    "\n",
    "# append the values to the result table\n",
    "result_table = result_table.append(MLR_full_model_metrics, ignore_index = True)\n",
    "\n",
    "# print the result table\n",
    "result_table"
   ]
  },
  {
   "cell_type": "markdown",
   "metadata": {
    "colab_type": "text",
    "id": "k4PyClaW2FUC"
   },
   "source": [
    "Now, calculate performance measure for `MLR_model_with_significant_var`"
   ]
  },
  {
   "cell_type": "code",
   "execution_count": 277,
   "metadata": {
    "colab": {},
    "colab_type": "code",
    "id": "jXtuvoNA2FUD",
    "outputId": "d80765dc-6f66-4dad-aa9e-2a5b1462b093"
   },
   "outputs": [
    {
     "data": {
      "text/html": [
       "<div>\n",
       "<style scoped>\n",
       "    .dataframe tbody tr th:only-of-type {\n",
       "        vertical-align: middle;\n",
       "    }\n",
       "\n",
       "    .dataframe tbody tr th {\n",
       "        vertical-align: top;\n",
       "    }\n",
       "\n",
       "    .dataframe thead th {\n",
       "        text-align: right;\n",
       "    }\n",
       "</style>\n",
       "<table border=\"1\" class=\"dataframe\">\n",
       "  <thead>\n",
       "    <tr style=\"text-align: right;\">\n",
       "      <th></th>\n",
       "      <th>Model_Name</th>\n",
       "      <th>R-squared</th>\n",
       "      <th>Adj. R-squared</th>\n",
       "      <th>MSE</th>\n",
       "      <th>RMSE</th>\n",
       "      <th>MAE</th>\n",
       "      <th>MAPE</th>\n",
       "    </tr>\n",
       "  </thead>\n",
       "  <tbody>\n",
       "    <tr>\n",
       "      <th>0</th>\n",
       "      <td>MLR Full Model</td>\n",
       "      <td>0.999995</td>\n",
       "      <td>0.999995</td>\n",
       "      <td>0.000005</td>\n",
       "      <td>0.002173</td>\n",
       "      <td>0.001806</td>\n",
       "      <td>0.245462</td>\n",
       "    </tr>\n",
       "    <tr>\n",
       "      <th>1</th>\n",
       "      <td>MLR Model with Significant Variables</td>\n",
       "      <td>0.952427</td>\n",
       "      <td>0.952412</td>\n",
       "      <td>0.041964</td>\n",
       "      <td>0.204850</td>\n",
       "      <td>0.127205</td>\n",
       "      <td>72.068481</td>\n",
       "    </tr>\n",
       "  </tbody>\n",
       "</table>\n",
       "</div>"
      ],
      "text/plain": [
       "                             Model_Name  R-squared  Adj. R-squared      MSE  \\\n",
       "0                        MLR Full Model   0.999995        0.999995 0.000005   \n",
       "1  MLR Model with Significant Variables   0.952427        0.952412 0.041964   \n",
       "\n",
       "      RMSE      MAE      MAPE  \n",
       "0 0.002173 0.001806  0.245462  \n",
       "1 0.204850 0.127205 72.068481  "
      ]
     },
     "execution_count": 277,
     "metadata": {},
     "output_type": "execute_result"
    }
   ],
   "source": [
    "# calculate R-squared, Adjusted R-squared, MSE, RMSE, MAE and MAPE for model with significant variables\n",
    "# use 'rsquared' to calculate R-squared value\n",
    "# use 'rsquared_adj' to calculate Adjusted R-squared value\n",
    "# use 'mean_squared_error' to calculate MSE\n",
    "# use 'rmse' to calculate RMSE\n",
    "# use 'mean_absolute_error' to calculate MAE\n",
    "# use the defined function 'mape' to calculate MAPE\n",
    "MLR_model_signi_var_metrics = pd.Series({'Model_Name': \"MLR Model with Significant Variables\",\n",
    "                     'R-squared': MLR_model_with_significant_var.rsquared,\n",
    "                     'Adj. R-squared': MLR_model_with_significant_var.rsquared_adj,\n",
    "                     'MSE': mean_squared_error(y_test_signi_var, y_pred_signi_var),\n",
    "                     'RMSE': rmse(y_test_signi_var, y_pred_signi_var),\n",
    "                     'MAE': mean_absolute_error(y_test_signi_var, y_pred_signi_var),\n",
    "                     'MAPE': mape(y_test_signi_var, y_pred_signi_var)\n",
    "                   })\n",
    "\n",
    "# append the values to the result table\n",
    "result_table = result_table.append(MLR_model_signi_var_metrics, ignore_index = True)\n",
    "\n",
    "# print the result table\n",
    "result_table"
   ]
  },
  {
   "cell_type": "markdown",
   "metadata": {
    "colab_type": "text",
    "id": "rZF2cfFc2FUE"
   },
   "source": [
    "Now, calculate the performance measures for `MLR_model_with_interaction`"
   ]
  },
  {
   "cell_type": "code",
   "execution_count": 278,
   "metadata": {
    "colab": {},
    "colab_type": "code",
    "id": "IJ8pfRSt2FUE",
    "outputId": "4817f935-32d3-48ee-8927-5a9db5ad29ec"
   },
   "outputs": [
    {
     "data": {
      "text/html": [
       "<div>\n",
       "<style scoped>\n",
       "    .dataframe tbody tr th:only-of-type {\n",
       "        vertical-align: middle;\n",
       "    }\n",
       "\n",
       "    .dataframe tbody tr th {\n",
       "        vertical-align: top;\n",
       "    }\n",
       "\n",
       "    .dataframe thead th {\n",
       "        text-align: right;\n",
       "    }\n",
       "</style>\n",
       "<table border=\"1\" class=\"dataframe\">\n",
       "  <thead>\n",
       "    <tr style=\"text-align: right;\">\n",
       "      <th></th>\n",
       "      <th>Model_Name</th>\n",
       "      <th>R-squared</th>\n",
       "      <th>Adj. R-squared</th>\n",
       "      <th>MSE</th>\n",
       "      <th>RMSE</th>\n",
       "      <th>MAE</th>\n",
       "      <th>MAPE</th>\n",
       "    </tr>\n",
       "  </thead>\n",
       "  <tbody>\n",
       "    <tr>\n",
       "      <th>0</th>\n",
       "      <td>MLR Full Model</td>\n",
       "      <td>0.999995</td>\n",
       "      <td>0.999995</td>\n",
       "      <td>0.000005</td>\n",
       "      <td>0.002173</td>\n",
       "      <td>0.001806</td>\n",
       "      <td>0.245462</td>\n",
       "    </tr>\n",
       "    <tr>\n",
       "      <th>1</th>\n",
       "      <td>MLR Model with Significant Variables</td>\n",
       "      <td>0.952427</td>\n",
       "      <td>0.952412</td>\n",
       "      <td>0.041964</td>\n",
       "      <td>0.204850</td>\n",
       "      <td>0.127205</td>\n",
       "      <td>72.068481</td>\n",
       "    </tr>\n",
       "    <tr>\n",
       "      <th>2</th>\n",
       "      <td>MLR Model with Interaction</td>\n",
       "      <td>0.953927</td>\n",
       "      <td>0.953911</td>\n",
       "      <td>0.041234</td>\n",
       "      <td>0.203062</td>\n",
       "      <td>0.126951</td>\n",
       "      <td>71.116137</td>\n",
       "    </tr>\n",
       "  </tbody>\n",
       "</table>\n",
       "</div>"
      ],
      "text/plain": [
       "                             Model_Name  R-squared  Adj. R-squared      MSE  \\\n",
       "0                        MLR Full Model   0.999995        0.999995 0.000005   \n",
       "1  MLR Model with Significant Variables   0.952427        0.952412 0.041964   \n",
       "2            MLR Model with Interaction   0.953927        0.953911 0.041234   \n",
       "\n",
       "      RMSE      MAE      MAPE  \n",
       "0 0.002173 0.001806  0.245462  \n",
       "1 0.204850 0.127205 72.068481  \n",
       "2 0.203062 0.126951 71.116137  "
      ]
     },
     "execution_count": 278,
     "metadata": {},
     "output_type": "execute_result"
    }
   ],
   "source": [
    "# calculate R-squared, Adjusted R-squared, MSE, RMSE, MAE and MAPE for model with interaction\n",
    "# use 'rsquared' to calculate R-squared value\n",
    "# use 'rsquared_adj' to calculate Adjusted R-squared value\n",
    "# use 'mean_squared_error' to calculate MSE\n",
    "# use 'rmse' to calculate RMSE\n",
    "# use 'mean_absolute_error' to calculate MAE\n",
    "# use the defined function 'mape' to calculate MAPE\n",
    "MLR_model_interaction_metrics = pd.Series({'Model_Name': \"MLR Model with Interaction\",\n",
    "                     'R-squared': MLR_model_with_interaction.rsquared,\n",
    "                     'Adj. R-squared': MLR_model_with_interaction.rsquared_adj,\n",
    "                     'MSE': mean_squared_error(y_test_inter, y_pred_inter),\n",
    "                     'RMSE': rmse(y_test_inter, y_pred_inter),\n",
    "                     'MAE': mean_absolute_error(y_test_inter, y_pred_inter),\n",
    "                     'MAPE': mape(y_test_inter, y_pred_inter)\n",
    "                   })\n",
    "\n",
    "# append the values to the result table\n",
    "result_table = result_table.append(MLR_model_interaction_metrics, ignore_index = True)\n",
    "\n",
    "# print the result table\n",
    "result_table"
   ]
  }
 ],
 "metadata": {
  "colab": {
   "name": "SLR - Faculty Notebook (Session 4).ipynb",
   "provenance": []
  },
  "kernelspec": {
   "display_name": "Python 3 (ipykernel)",
   "language": "python",
   "name": "python3"
  },
  "language_info": {
   "codemirror_mode": {
    "name": "ipython",
    "version": 3
   },
   "file_extension": ".py",
   "mimetype": "text/x-python",
   "name": "python",
   "nbconvert_exporter": "python",
   "pygments_lexer": "ipython3",
   "version": "3.9.12"
  }
 },
 "nbformat": 4,
 "nbformat_minor": 1
}
