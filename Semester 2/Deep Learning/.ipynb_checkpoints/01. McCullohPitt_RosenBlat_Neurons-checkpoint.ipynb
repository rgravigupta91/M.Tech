{
 "cells": [
  {
   "cell_type": "code",
   "execution_count": 42,
   "id": "17c24672-6676-4233-b499-a4c0e909d4a7",
   "metadata": {},
   "outputs": [],
   "source": [
    "import random\n",
    "import numpy as np"
   ]
  },
  {
   "cell_type": "code",
   "execution_count": null,
   "id": "3a20282d-08da-46d4-84ce-5929cd3a6fce",
   "metadata": {},
   "outputs": [],
   "source": [
    "# Rosenblat's Perceptron included a way to adjust the weights and find the appropriate combinations to overcome the need to modify thresholds\n",
    "# for each gate seperately, it used a bias term using which the tresholds in the neuron can be modified to implement multiple boolean functions\n",
    "# in one code"
   ]
  },
  {
   "cell_type": "code",
   "execution_count": 53,
   "id": "8dc4f06b-1994-4186-bee6-504ab4e1f74e",
   "metadata": {},
   "outputs": [
    {
     "name": "stdout",
     "output_type": "stream",
     "text": [
      "[0 0 1]: 33.55673697659111 -> 0\n",
      "[0 1 1]: 66.51475756846338 -> 0\n",
      "[1 0 1]: 67.22609039484504 -> 0\n",
      "[1 1 1]: 100.18411098671731 -> 1\n"
     ]
    }
   ],
   "source": [
    "step_function = lambda x: 0 if x < 100 else 1         # step function with threshold of 100. Any thing below is 0\n",
    "\n",
    "# AND Gate\n",
    "training_data = [\n",
    "    (np.array([0, 0, 1]), 0),\n",
    "    (np.array([0, 1, 1]), 0),\n",
    "    (np.array([1, 0, 1]), 0),\n",
    "    (np.array([1, 1, 1]), 1),\n",
    "]\n",
    "\n",
    "w = np.random.rand(3)\n",
    "print(w)\n",
    "\n",
    "errors = []\n",
    "eta = 0.1\n",
    "n = 10000\n",
    "\n",
    "for i in range(n):\n",
    "    x, expected = random.choice(training_data)\n",
    "\n",
    "    result = np.dot(w, x)\n",
    "    error = expected - step_function(result) # irrespective of what threshold we set, the algo will find the approp weights\n",
    "    errors.append(error)                     # that is the beauty of bias. The 'AND' pattern is learnt from data\n",
    "    w += eta * error * x\n",
    "\n",
    "\n",
    "for x, _ in training_data:\n",
    "    result = np.dot(w, x)\n",
    "    print(\"{}: {} -> {}\".format(x[:3], result, step_function(result)))"
   ]
  },
  {
   "cell_type": "code",
   "execution_count": 41,
   "id": "5ed53066-315e-4538-b76d-a803b08ef203",
   "metadata": {},
   "outputs": [
    {
     "data": {
      "text/plain": [
       "array([33.34269716, 33.47224267, 33.27625805])"
      ]
     },
     "execution_count": 41,
     "metadata": {},
     "output_type": "execute_result"
    }
   ],
   "source": [
    "w"
   ]
  },
  {
   "cell_type": "code",
   "execution_count": null,
   "id": "01c5e004-ccb7-4c9e-a471-b4425ad41e17",
   "metadata": {},
   "outputs": [],
   "source": []
  }
 ],
 "metadata": {
  "kernelspec": {
   "display_name": "Python 3 (ipykernel)",
   "language": "python",
   "name": "python3"
  },
  "language_info": {
   "codemirror_mode": {
    "name": "ipython",
    "version": 3
   },
   "file_extension": ".py",
   "mimetype": "text/x-python",
   "name": "python",
   "nbconvert_exporter": "python",
   "pygments_lexer": "ipython3",
   "version": "3.11.7"
  }
 },
 "nbformat": 4,
 "nbformat_minor": 5
}
