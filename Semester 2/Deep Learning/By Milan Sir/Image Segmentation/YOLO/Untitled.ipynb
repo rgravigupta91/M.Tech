{
 "cells": [
  {
   "cell_type": "code",
   "execution_count": 2,
   "id": "b4b28432",
   "metadata": {},
   "outputs": [
    {
     "name": "stdout",
     "output_type": "stream",
     "text": [
      "Successfully copied 30 random images to C:\\Users\\Milan Amrut Joshi\\Desktop\\Misc_2\\DL\\YOLO\\Images_30_demo\n"
     ]
    }
   ],
   "source": [
    "import os\n",
    "import random\n",
    "import shutil\n",
    "\n",
    "# Define the source and destination folder paths\n",
    "source_folder = r'C:\\Users\\Milan Amrut Joshi\\Desktop\\Misc_2\\DL\\YOLO\\images'\n",
    "destination_folder = r'C:\\Users\\Milan Amrut Joshi\\Desktop\\Misc_2\\DL\\YOLO\\Images_30_demo'\n",
    "\n",
    "# Create the destination folder if it does not exist\n",
    "os.makedirs(destination_folder, exist_ok=True)\n",
    "\n",
    "# List all files in the source folder\n",
    "all_files = os.listdir(source_folder)\n",
    "\n",
    "# Filter out only image files (assuming common image extensions)\n",
    "image_extensions = ('.png', '.jpg', '.jpeg', '.bmp', '.gif')  # add more if necessary\n",
    "image_files = [file for file in all_files if file.endswith(image_extensions)]\n",
    "\n",
    "# Randomly select 30 images\n",
    "selected_images = random.sample(image_files, 30)\n",
    "\n",
    "# Copy the selected images to the destination folder\n",
    "for image in selected_images:\n",
    "    source_image_path = os.path.join(source_folder, image)\n",
    "    destination_image_path = os.path.join(destination_folder, image)\n",
    "    shutil.copy(source_image_path, destination_image_path)\n",
    "\n",
    "print(f'Successfully copied 30 random images to {destination_folder}')\n"
   ]
  },
  {
   "cell_type": "code",
   "execution_count": null,
   "id": "f7155bc0",
   "metadata": {},
   "outputs": [],
   "source": []
  }
 ],
 "metadata": {
  "kernelspec": {
   "display_name": "Python 3 (ipykernel)",
   "language": "python",
   "name": "python3"
  },
  "language_info": {
   "codemirror_mode": {
    "name": "ipython",
    "version": 3
   },
   "file_extension": ".py",
   "mimetype": "text/x-python",
   "name": "python",
   "nbconvert_exporter": "python",
   "pygments_lexer": "ipython3",
   "version": "3.11.5"
  }
 },
 "nbformat": 4,
 "nbformat_minor": 5
}
