{
 "cells": [
  {
   "cell_type": "code",
   "execution_count": null,
   "metadata": {
    "id": "KR34Ia1WTgG6"
   },
   "outputs": [],
   "source": [
    "# %tensorflow_version 1.x"
   ]
  },
  {
   "cell_type": "markdown",
   "metadata": {},
   "source": [
    "### The aim is to create a binary image classifier that could differentiate the Non — Emergency Vehicles eg. private owned vehicles . from the emergency vehicles (police vehicles , ambulances, etc).\n",
    "\n",
    "\n",
    "### Why Is this important?\n",
    "\n",
    "Fatalities due to traffic delays of emergency vehicles such as ambulances & fire brigades is a huge problem. In daily life, we often see that emergency vehicles face difficulty in passing through traffic.\n",
    "\n",
    "So differentiating a vehicle into an emergency and non-emergency category can be an important component in traffic monitoring as well as self-driving car systems, as reaching on time to their destination is critical for these services.\n",
    "\n",
    "### Data Description\n",
    "\n",
    "- There are a total of **1646** images in the train set and **706** in the test set.\n",
    "- There are two `.csv` files which contain the train and test image names.\n",
    "- 0 stands for Non-Emergency vehicles and 1 stands for Emergency Vehicles."
   ]
  },
  {
   "cell_type": "markdown",
   "metadata": {
    "id": "xR7hbyyfuG9N"
   },
   "source": [
    "# Steps to solve Emergency vs Non-Emergency vehicle classification problem using Early Stopping\n",
    "\n",
    "<ol>1. Loading the dataset</ol>\n",
    "<ol>2. Pre-processing the data</ol>\n",
    "<ol>3. Creating training and validation set</ol>\n",
    "<ol>4. Defining the model architecture</ol>\n",
    "<ol>5. Compiling the model</ol>\n",
    "<ol>6. Setting up Early Stopping</ol>\n",
    "<ol>7. Training the model using Early Stopping</ol>\n",
    "<ol>8. Evaluating model performance</ol>"
   ]
  },
  {
   "cell_type": "markdown",
   "metadata": {
    "id": "xq6rlm_puG9U"
   },
   "source": [
    "## 1. Loading the dataset"
   ]
  },
  {
   "cell_type": "code",
   "execution_count": 1,
   "metadata": {
    "id": "XPYT-SDjuG9a",
    "scrolled": true
   },
   "outputs": [],
   "source": [
    "# import necessary libraries and functions\n",
    "import numpy as np\n",
    "import pandas as pd\n",
    "import matplotlib.pyplot as plt\n",
    "%matplotlib inline\n",
    "\n",
    "# importing layers from keras\n",
    "from keras.layers import Dense, InputLayer\n",
    "from keras.models import Sequential\n",
    "# importing adam optimizer from keras optimizer module\n",
    "from keras.optimizers import Adam\n",
    "\n",
    "# train_test_split to create training and validation set\n",
    "from sklearn.model_selection import train_test_split\n",
    "# accuracy_score to calculate the accuracy of predictions\n",
    "from sklearn.metrics import accuracy_score"
   ]
  },
  {
   "cell_type": "code",
   "execution_count": 2,
   "metadata": {
    "id": "WZdipKFauG9t"
   },
   "outputs": [],
   "source": [
    "# reading the csv file\n",
    "data = pd.read_csv('Dataset/emergency_classification.csv')"
   ]
  },
  {
   "cell_type": "code",
   "execution_count": 3,
   "metadata": {
    "id": "7pOqqh5GuG94"
   },
   "outputs": [],
   "source": [
    "# create random number generator\n",
    "seed = 42\n",
    "rng = np.random.RandomState(seed)"
   ]
  },
  {
   "cell_type": "code",
   "execution_count": 4,
   "metadata": {
    "colab": {
     "base_uri": "https://localhost:8080/",
     "height": 206
    },
    "id": "_VeBsfEAuG-B",
    "outputId": "1e4e33b9-8af8-407d-b36b-4a3c3a34e668",
    "scrolled": true
   },
   "outputs": [
    {
     "data": {
      "text/html": [
       "<div>\n",
       "<style scoped>\n",
       "    .dataframe tbody tr th:only-of-type {\n",
       "        vertical-align: middle;\n",
       "    }\n",
       "\n",
       "    .dataframe tbody tr th {\n",
       "        vertical-align: top;\n",
       "    }\n",
       "\n",
       "    .dataframe thead th {\n",
       "        text-align: right;\n",
       "    }\n",
       "</style>\n",
       "<table border=\"1\" class=\"dataframe\">\n",
       "  <thead>\n",
       "    <tr style=\"text-align: right;\">\n",
       "      <th></th>\n",
       "      <th>image_names</th>\n",
       "      <th>emergency_or_not</th>\n",
       "    </tr>\n",
       "  </thead>\n",
       "  <tbody>\n",
       "    <tr>\n",
       "      <th>0</th>\n",
       "      <td>0.jpg</td>\n",
       "      <td>1</td>\n",
       "    </tr>\n",
       "    <tr>\n",
       "      <th>1</th>\n",
       "      <td>1.jpg</td>\n",
       "      <td>1</td>\n",
       "    </tr>\n",
       "    <tr>\n",
       "      <th>2</th>\n",
       "      <td>2.jpg</td>\n",
       "      <td>1</td>\n",
       "    </tr>\n",
       "    <tr>\n",
       "      <th>3</th>\n",
       "      <td>3.jpg</td>\n",
       "      <td>1</td>\n",
       "    </tr>\n",
       "    <tr>\n",
       "      <th>4</th>\n",
       "      <td>4.jpg</td>\n",
       "      <td>1</td>\n",
       "    </tr>\n",
       "  </tbody>\n",
       "</table>\n",
       "</div>"
      ],
      "text/plain": [
       "  image_names  emergency_or_not\n",
       "0       0.jpg                 1\n",
       "1       1.jpg                 1\n",
       "2       2.jpg                 1\n",
       "3       3.jpg                 1\n",
       "4       4.jpg                 1"
      ]
     },
     "execution_count": 4,
     "metadata": {},
     "output_type": "execute_result"
    }
   ],
   "source": [
    "# looking at first five rows of the data\n",
    "data.head()"
   ]
  },
  {
   "cell_type": "code",
   "execution_count": 5,
   "metadata": {
    "id": "AMZyTsx3uG-W"
   },
   "outputs": [],
   "source": [
    "# load images and store it in numpy array\n",
    "\n",
    "# empty list to store the images\n",
    "X = []\n",
    "# iterating over each image\n",
    "for img_name in data.image_names:\n",
    "    # loading the image using its name\n",
    "    img = plt.imread('Dataset/images/' + img_name)\n",
    "    # saving each image in the list\n",
    "    X.append(img)\n",
    "\n",
    "# converting the list of images into array\n",
    "X=np.array(X)\n",
    "\n",
    "# storing the target variable in separate variable\n",
    "y = data.emergency_or_not.values"
   ]
  },
  {
   "cell_type": "code",
   "execution_count": 6,
   "metadata": {
    "colab": {
     "base_uri": "https://localhost:8080/"
    },
    "id": "csN5M_hzuG-d",
    "outputId": "06ea25c0-a267-4a52-8394-db8f1de2a324"
   },
   "outputs": [
    {
     "data": {
      "text/plain": [
       "(2352, 224, 224, 3)"
      ]
     },
     "execution_count": 6,
     "metadata": {},
     "output_type": "execute_result"
    }
   ],
   "source": [
    "# shape of the images\n",
    "X.shape"
   ]
  },
  {
   "cell_type": "markdown",
   "metadata": {
    "id": "IYNJtBXLuG-x"
   },
   "source": [
    "## 2. Pre-processing the data"
   ]
  },
  {
   "cell_type": "code",
   "execution_count": 7,
   "metadata": {
    "colab": {
     "base_uri": "https://localhost:8080/"
    },
    "id": "JsEZNNE_uG-2",
    "outputId": "807cc351-65ba-49c0-9fd7-1936e52d9171",
    "scrolled": true
   },
   "outputs": [
    {
     "data": {
      "text/plain": [
       "(2352, 150528)"
      ]
     },
     "execution_count": 7,
     "metadata": {},
     "output_type": "execute_result"
    }
   ],
   "source": [
    "# converting 3 dimensional image to 1 dimensional image\n",
    "X = X.reshape(X.shape[0], 224*224*3)\n",
    "X.shape"
   ]
  },
  {
   "cell_type": "code",
   "execution_count": 8,
   "metadata": {
    "colab": {
     "base_uri": "https://localhost:8080/"
    },
    "id": "9y8rfKEguG-_",
    "outputId": "302f2ae5-5edd-46ea-ace9-73acf083467a"
   },
   "outputs": [
    {
     "data": {
      "text/plain": [
       "(0, 255)"
      ]
     },
     "execution_count": 8,
     "metadata": {},
     "output_type": "execute_result"
    }
   ],
   "source": [
    "# minimum and maximum pixel values of images\n",
    "X.min(), X.max()"
   ]
  },
  {
   "cell_type": "code",
   "execution_count": 9,
   "metadata": {
    "id": "wI3hNx3uuG_L"
   },
   "outputs": [],
   "source": [
    "# normalizing the pixel values\n",
    "X = X / X.max()"
   ]
  },
  {
   "cell_type": "code",
   "execution_count": null,
   "metadata": {
    "colab": {
     "base_uri": "https://localhost:8080/"
    },
    "id": "tghVTsVluG_S",
    "outputId": "f7d48903-c184-41d7-e6a8-151eeb6ccb92"
   },
   "outputs": [
    {
     "data": {
      "text/plain": [
       "(0.0, 1.0)"
      ]
     },
     "execution_count": 10,
     "metadata": {},
     "output_type": "execute_result"
    }
   ],
   "source": [
    "# minimum and maximum pixel values of images after normalizing\n",
    "X.min(), X.max()"
   ]
  },
  {
   "cell_type": "markdown",
   "metadata": {
    "id": "Scbo48PLuG_b"
   },
   "source": [
    "## 3. Creating training and validation set"
   ]
  },
  {
   "cell_type": "code",
   "execution_count": null,
   "metadata": {
    "id": "-UmSQzb1uG_d"
   },
   "outputs": [],
   "source": [
    "# creating a training and validation set\n",
    "X_train, X_valid, y_train, y_valid=train_test_split(X,y,test_size=0.3, random_state=seed)"
   ]
  },
  {
   "cell_type": "code",
   "execution_count": null,
   "metadata": {
    "colab": {
     "base_uri": "https://localhost:8080/"
    },
    "id": "xTC-FgDjuG_k",
    "outputId": "bb01af19-c8b6-4a03-f7cd-e18b9800a967"
   },
   "outputs": [],
   "source": [
    "# shape of training and validation set\n",
    "(X_train.shape, y_train.shape), (X_valid.shape, y_valid.shape)"
   ]
  },
  {
   "cell_type": "markdown",
   "metadata": {
    "id": "vskdq-4huG_r"
   },
   "source": [
    "## 4. Defining the model architecture"
   ]
  },
  {
   "cell_type": "code",
   "execution_count": null,
   "metadata": {
    "id": "tLqmJg8PuHBs"
   },
   "outputs": [],
   "source": [
    "# defining the model architecture\n",
    "model=Sequential()\n",
    "\n",
    "model.add(InputLayer(shape=(224*224*3,)))\n",
    "model.add(Dense(100, activation='sigmoid'))\n",
    "model.add(Dense(100, activation='sigmoid'))\n",
    "model.add(Dense(units=1, activation='sigmoid'))"
   ]
  },
  {
   "cell_type": "markdown",
   "metadata": {
    "id": "FS__sDNVrjOs"
   },
   "source": [
    "## 5. Compiling the model"
   ]
  },
  {
   "cell_type": "code",
   "execution_count": null,
   "metadata": {
    "colab": {
     "base_uri": "https://localhost:8080/"
    },
    "id": "BGovpAw_uHBp",
    "outputId": "9328248e-ebbd-48af-ca9f-547e3e214554"
   },
   "outputs": [],
   "source": [
    "# defining the adam optimizer and setting the learning rate as 10^-5\n",
    "adam = Adam(learning_rate=1e-5)"
   ]
  },
  {
   "cell_type": "code",
   "execution_count": null,
   "metadata": {
    "id": "pcEUdq_Tri5x"
   },
   "outputs": [],
   "source": [
    "# compiling the model\n",
    "\n",
    "# defining loss as binary crossentropy\n",
    "# defining optimizer as Adam\n",
    "# defining metrics as accuracy\n",
    "\n",
    "model.compile(loss='binary_crossentropy', optimizer=adam, metrics=['accuracy'])"
   ]
  },
  {
   "cell_type": "markdown",
   "metadata": {
    "id": "dNT1QYzYrniN"
   },
   "source": [
    "## 6. Setting up Early Stopping\n",
    "\n",
    "- In Keras, a **callback** is a set of functions or operations that are automatically executed during the training process of a model. Callbacks are especially useful for monitoring the training process, improving performance, or saving models, among other tasks. The keras.callbacks module provides a variety of predefined callbacks that can be used directly or customized.\n",
    "\n",
    "### Purpose of Callbacks:\n",
    "- Callbacks allow you to perform specific actions at certain stages of the model training process, such as:\n",
    "\n",
    "- At the start or end of an epoch.\n",
    "- At the start or end of a batch.\n",
    "- After training is complete.\n",
    "- Typical Use Cases of Callbacks:\n",
    "- Monitoring and Adjusting Learning Rate: Adjusting the learning rate dynamically during training based on model performance.\n",
    "- Stopping Early: Ending training when the model stops improving on a validation set (i.e., using EarlyStopping).\n",
    "- Model Checkpoints: Saving the best model weights during training.\n",
    "- Logging: Recording detailed information about the training process.\n",
    "- TensorBoard: Logging performance metrics for visualization during training."
   ]
  },
  {
   "cell_type": "markdown",
   "metadata": {},
   "source": [
    "`EarlyStoping`\n",
    "- Stops training early if the model performance on a validation set stops improving after a specified number of epochs.\n",
    "``` python\n",
    "from keras.callbacks import EarlyStopping\n",
    "early_stopping = EarlyStopping(monitor='val_loss', patience=5)\n",
    "\n",
    "```\n",
    "```ModelCheckpoint```\n",
    "- Saves the model (or just the weights) at regular intervals, often based on the validation performance. This is useful if you want to keep the model with the best validation performance.\n",
    "\n",
    "```python\n",
    "from keras.callbacks import ModelCheckpoint\n",
    "checkpoint = ModelCheckpoint('best_model.h5', monitor='val_loss', save_best_only=True)\n",
    "```\n",
    "``` ReduceLROnPlateau```  \n",
    "```python\n",
    "from keras.callbacks import ReduceLROnPlateau\n",
    "reduce_lr = ReduceLROnPlateau(monitor='val_loss', factor=0.1, patience=5)\n",
    "```\n",
    "- The ``factor`` parameter determines how much to reduce the learning rate by when the monitored metric (like validation loss) stops improving.\n",
    "- The ``patience`` parameter determines how many epochs to wait before reducing the learning rate, after the monitored metric stops improving.\n",
    "\n",
    "### TensorBoard:\n",
    "\n",
    "Enables the use of **TensorBoard** to visualize metrics like loss, accuracy, learning rates, etc., in real-time.\n",
    "\n",
    "**Example**:\n",
    "\n",
    "```python\n",
    "from keras.callbacks import TensorBoard\n",
    "tensorboard = TensorBoard(log_dir='./logs')\n",
    "```\n",
    "### CSVLogger:\n",
    "\n",
    "Logs training and validation metrics to a CSV file, making it easier to track the progress and analyze the results after training.\n",
    "\n",
    "**Example**:\n",
    "\n",
    "```python\n",
    "from keras.callbacks import CSVLogger\n",
    "csv_logger = CSVLogger('training_log.csv')\n",
    "\n",
    "```\n",
    "### LearningRateScheduler:\n",
    "\n",
    "Dynamically adjusts the learning rate based on a predefined schedule.\n",
    "\n",
    "**Example**:\n",
    "\n",
    "```python\n",
    "from keras.callbacks import LearningRateScheduler\n",
    "\n",
    "def lr_schedule(epoch):\n",
    "    return 0.001 * (0.1 ** int(epoch / 10))\n",
    "\n",
    "lr_scheduler = LearningRateScheduler(lr_schedule)\n",
    "```\n"
   ]
  },
  {
   "cell_type": "code",
   "execution_count": null,
   "metadata": {
    "id": "2HbxD6to8MJT"
   },
   "outputs": [],
   "source": [
    "# importing module for early stopping\n",
    "from keras.callbacks import EarlyStopping"
   ]
  },
  {
   "cell_type": "code",
   "execution_count": null,
   "metadata": {
    "id": "40R7uxEzrXuY"
   },
   "outputs": [],
   "source": [
    "# setting up early stopping\n",
    "early_stopping = EarlyStopping(monitor='val_loss', min_delta=0.01, patience=5, mode='min')\n",
    "# min_delta -minimum change in the monitored metric to qualify as an improvement.\n",
    "#If min_delta=0.01 and the validation loss improves from 0.30 to 0.29 (a change of 0.01), it will count as an improvement.\n",
    "# mode ='min'-minimize the monitored metric"
   ]
  },
  {
   "cell_type": "markdown",
   "metadata": {
    "id": "UJ6D8X0JtD7f"
   },
   "source": [
    "## 7. Training the model using Early Stopping\n",
    "\n",
    "- total training images = 1646\n",
    "- batch 128 \n",
    "- 1 epoch = 1646/128 iterations \n",
    "\n",
    "### Iterations per epoch: \n",
    "$\n",
    "\\text{Iterations per epoch} = \\frac{\\text{Total training images}}{\\text{Batch size}} \n",
    "= \\frac{1646}{128} = 12.86 \\approx 13\n",
    "$\n"
   ]
  },
  {
   "cell_type": "code",
   "execution_count": null,
   "metadata": {
    "colab": {
     "base_uri": "https://localhost:8080/"
    },
    "id": "KL7PHbMRuHBy",
    "outputId": "efffcdcc-7067-4c33-c8a3-8b69df209e03"
   },
   "outputs": [],
   "source": [
    "# training the model for 100 epochs\n",
    "\n",
    "# defining the early stopping as callback using callbacks parameter of model.fit\n",
    "model_history = model.fit(X_train, y_train, epochs=1, batch_size=128,validation_data=(X_valid,y_valid), callbacks=[early_stopping])"
   ]
  },
  {
   "cell_type": "markdown",
   "metadata": {
    "id": "4nItUUcYtYiw"
   },
   "source": [
    "## 8. Evaluating model performance"
   ]
  },
  {
   "cell_type": "code",
   "execution_count": 57,
   "metadata": {
    "colab": {
     "base_uri": "https://localhost:8080/"
    },
    "id": "2LAwk64qQkyg",
    "outputId": "652cc0bf-7d5e-463a-d14b-17e6f9c84257"
   },
   "outputs": [
    {
     "name": "stdout",
     "output_type": "stream",
     "text": [
      "\u001b[1m23/23\u001b[0m \u001b[32m━━━━━━━━━━━━━━━━━━━━\u001b[0m\u001b[37m\u001b[0m \u001b[1m0s\u001b[0m 8ms/step\n"
     ]
    },
    {
     "data": {
      "text/plain": [
       "array([0, 0, 0, 0, 0, 0, 0, 0, 0, 0, 0, 0, 0, 0, 0, 0, 0, 0, 0, 0, 0, 0,\n",
       "       0, 0, 0, 0, 0, 0, 0, 0, 0, 0, 0, 0, 0, 0, 0, 0, 0, 0, 0, 0, 0, 0,\n",
       "       0, 0, 0, 0, 0, 0, 0, 0, 0, 0, 0, 0, 0, 0, 0, 0, 0, 0, 0, 0, 0, 0,\n",
       "       0, 0, 0, 0, 0, 0, 0, 0, 0, 0, 0, 0, 0, 0, 0, 0, 0, 0, 0, 0, 0, 0,\n",
       "       0, 0, 0, 0, 0, 0, 0, 0, 0, 0, 0, 0, 0, 0, 0, 0, 0, 0, 0, 0, 0, 0,\n",
       "       0, 0, 0, 0, 0, 0, 0, 0, 0, 0, 0, 0, 0, 0, 0, 0, 0, 0, 0, 0, 0, 0,\n",
       "       0, 0, 0, 0, 0, 0, 0, 0, 0, 0, 0, 0, 0, 0, 0, 0, 0, 0, 0, 0, 0, 0,\n",
       "       0, 0, 0, 0, 0, 0, 0, 0, 0, 0, 0, 0, 0, 0, 0, 0, 0, 0, 0, 0, 0, 0,\n",
       "       0, 0, 0, 0, 0, 0, 0, 0, 0, 0, 0, 0, 0, 0, 0, 0, 0, 0, 0, 0, 0, 0,\n",
       "       0, 0, 0, 0, 0, 0, 0, 0, 0, 0, 0, 0, 0, 0, 0, 0, 0, 0, 0, 0, 0, 0,\n",
       "       0, 0, 0, 0, 0, 0, 0, 0, 0, 0, 0, 0, 0, 0, 0, 0, 0, 0, 0, 0, 0, 0,\n",
       "       0, 0, 0, 0, 0, 0, 0, 0, 0, 0, 0, 0, 0, 0, 0, 0, 0, 0, 0, 0, 0, 0,\n",
       "       0, 0, 0, 0, 0, 0, 0, 0, 0, 0, 0, 0, 0, 0, 0, 0, 0, 0, 0, 0, 0, 0,\n",
       "       0, 0, 0, 0, 0, 0, 0, 0, 0, 0, 0, 0, 0, 0, 0, 0, 0, 0, 0, 0, 0, 0,\n",
       "       0, 0, 0, 0, 0, 0, 0, 0, 0, 0, 0, 0, 0, 0, 0, 0, 0, 0, 0, 0, 0, 0,\n",
       "       0, 0, 0, 0, 0, 0, 0, 0, 0, 0, 0, 0, 0, 0, 0, 0, 0, 0, 0, 0, 0, 0,\n",
       "       0, 0, 0, 0, 0, 0, 0, 0, 0, 0, 0, 0, 0, 0, 0, 0, 0, 0, 0, 0, 0, 0,\n",
       "       0, 0, 0, 0, 0, 0, 0, 0, 0, 0, 0, 0, 0, 0, 0, 0, 0, 0, 0, 0, 0, 0,\n",
       "       0, 0, 0, 0, 0, 0, 0, 0, 0, 0, 0, 0, 0, 0, 0, 0, 0, 0, 0, 0, 0, 0,\n",
       "       0, 0, 0, 0, 0, 0, 0, 0, 0, 0, 0, 0, 0, 0, 0, 0, 0, 0, 0, 0, 0, 0,\n",
       "       0, 0, 0, 0, 0, 0, 0, 0, 0, 0, 0, 0, 0, 0, 0, 0, 0, 0, 0, 0, 0, 0,\n",
       "       0, 0, 0, 0, 0, 0, 0, 0, 0, 0, 0, 0, 0, 0, 0, 0, 0, 0, 0, 0, 0, 0,\n",
       "       0, 0, 0, 0, 0, 0, 0, 0, 0, 0, 0, 0, 0, 0, 0, 0, 0, 0, 0, 0, 0, 0,\n",
       "       0, 0, 0, 0, 0, 0, 0, 0, 0, 0, 0, 0, 0, 0, 0, 0, 0, 0, 0, 0, 0, 0,\n",
       "       0, 0, 0, 0, 0, 0, 0, 0, 0, 0, 0, 0, 0, 0, 0, 0, 0, 0, 0, 0, 0, 0,\n",
       "       0, 0, 0, 0, 0, 0, 0, 0, 0, 0, 0, 0, 0, 0, 0, 0, 0, 0, 0, 0, 0, 0,\n",
       "       0, 0, 0, 0, 0, 0, 0, 0, 0, 0, 0, 0, 0, 0, 0, 0, 0, 0, 0, 0, 0, 0,\n",
       "       0, 0, 0, 0, 0, 0, 0, 0, 0, 0, 0, 0, 0, 0, 0, 0, 0, 0, 0, 0, 0, 0,\n",
       "       0, 0, 0, 0, 0, 0, 0, 0, 0, 0, 0, 0, 0, 0, 0, 0, 0, 0, 0, 0, 0, 0,\n",
       "       0, 0, 0, 0, 0, 0, 0, 0, 0, 0, 0, 0, 0, 0, 0, 0, 0, 0, 0, 0, 0, 0,\n",
       "       0, 0, 0, 0, 0, 0, 0, 0, 0, 0, 0, 0, 0, 0, 0, 0, 0, 0, 0, 0, 0, 0,\n",
       "       0, 0, 0, 0, 0, 0, 0, 0, 0, 0, 0, 0, 0, 0, 0, 0, 0, 0, 0, 0, 0, 0,\n",
       "       0, 0])"
      ]
     },
     "execution_count": 57,
     "metadata": {},
     "output_type": "execute_result"
    }
   ],
   "source": [
    "y_pred = np.where(model.predict(X_valid)[:, 0] < 0.5, 0, 1)\n",
    "y_pred"
   ]
  },
  {
   "cell_type": "code",
   "execution_count": 58,
   "metadata": {
    "colab": {
     "base_uri": "https://localhost:8080/"
    },
    "id": "Wbfb8_MWuHB4",
    "outputId": "1e4424ad-57f0-4f73-d114-6dcbf5148d25"
   },
   "outputs": [
    {
     "name": "stdout",
     "output_type": "stream",
     "text": [
      "\u001b[1m23/23\u001b[0m \u001b[32m━━━━━━━━━━━━━━━━━━━━\u001b[0m\u001b[37m\u001b[0m \u001b[1m0s\u001b[0m 8ms/step\n",
      "Accuracy on validation set: 0.5609065155807366\n"
     ]
    }
   ],
   "source": [
    "# accuracy on validation set\n",
    "print('Accuracy on validation set:', accuracy_score(y_valid, np.where(model.predict(X_valid)[:, 0] < 0.5, 0, 1)))"
   ]
  },
  {
   "cell_type": "code",
   "execution_count": 59,
   "metadata": {
    "id": "TI4tLdn710nV"
   },
   "outputs": [
    {
     "name": "stdout",
     "output_type": "stream",
     "text": [
      "\u001b[1m23/23\u001b[0m \u001b[32m━━━━━━━━━━━━━━━━━━━━\u001b[0m\u001b[37m\u001b[0m \u001b[1m0s\u001b[0m 8ms/step\n",
      "Accuracy on validation set: 0.5609065155807366\n"
     ]
    }
   ],
   "source": [
    "# accuracy on validation set\n",
    "print('Accuracy on validation set:', accuracy_score(y_valid, np.where(model.predict(X_valid)[:, 0] < 0.5, 0, 1)))"
   ]
  },
  {
   "cell_type": "code",
   "execution_count": 60,
   "metadata": {
    "colab": {
     "base_uri": "https://localhost:8080/",
     "height": 472
    },
    "id": "UDXYXYMox5Ih",
    "outputId": "f3e596c7-9a7b-4fee-e448-f71feb393883"
   },
   "outputs": [
    {
     "data": {
      "image/png": "[encoded data removed]",
      "text/plain": [
       "<Figure size 640x480 with 1 Axes>"
      ]
     },
     "metadata": {},
     "output_type": "display_data"
    }
   ],
   "source": [
    " # summarize history for loss\n",
    "plt.plot(model_history.history['loss'])\n",
    "plt.plot(model_history.history['val_loss'])\n",
    "plt.title('model loss')\n",
    "plt.ylabel('loss')\n",
    "plt.xlabel('epoch')\n",
    "plt.legend(['train', 'validation'], loc='upper right')\n",
    "plt.show()"
   ]
  },
  {
   "cell_type": "markdown",
   "metadata": {
    "id": "EGuPq2tKxqBL"
   },
   "source": [
    "## Hyperparameter tuning for Early Stopping (Increasing the patience value)"
   ]
  },
  {
   "cell_type": "code",
   "execution_count": 65,
   "metadata": {
    "id": "4b1osHTYxpR9"
   },
   "outputs": [],
   "source": [
    "# defining and compiling the model\n",
    "\n",
    "# defining the model architecture\n",
    "model=Sequential()\n",
    "\n",
    "model.add(InputLayer(shape=(224*224*3,)))\n",
    "model.add(Dense(100, activation='sigmoid'))\n",
    "model.add(Dense(100, activation='sigmoid'))\n",
    "model.add(Dense(units=1, activation='sigmoid'))\n",
    "\n",
    "# Define the optimizer after defining the model architecture\n",
    "adam = Adam()\n",
    "\n",
    "\n",
    "# compiling the model\n",
    "model.compile(loss='binary_crossentropy', optimizer=adam, metrics=['accuracy'])"
   ]
  },
  {
   "cell_type": "code",
   "execution_count": 66,
   "metadata": {
    "id": "n1PrhKuv_Dc_"
   },
   "outputs": [],
   "source": [
    "# increasing the patience and threshold value\n",
    "early_stopping = EarlyStopping(monitor='val_loss', min_delta=0.01, patience=10, mode='min')"
   ]
  },
  {
   "cell_type": "markdown",
   "metadata": {},
   "source": [
    "- The model will stop training if the validation loss does not improve by at least 0.01 for 10 consecutive epochs.\n",
    "- Otherwise, it will train for the full 30 epochs as specified."
   ]
  },
  {
   "cell_type": "code",
   "execution_count": 69,
   "metadata": {
    "id": "lgnA0rM7yCXR"
   },
   "outputs": [
    {
     "name": "stdout",
     "output_type": "stream",
     "text": [
      "Epoch 1/30\n",
      "\u001b[1m13/13\u001b[0m \u001b[32m━━━━━━━━━━━━━━━━━━━━\u001b[0m\u001b[37m\u001b[0m \u001b[1m3s\u001b[0m 214ms/step - accuracy: 0.7524 - loss: 0.5712 - val_accuracy: 0.7068 - val_loss: 0.6196\n",
      "Epoch 2/30\n",
      "\u001b[1m13/13\u001b[0m \u001b[32m━━━━━━━━━━━━━━━━━━━━\u001b[0m\u001b[37m\u001b[0m \u001b[1m3s\u001b[0m 201ms/step - accuracy: 0.7601 - loss: 0.5539 - val_accuracy: 0.6459 - val_loss: 0.6505\n",
      "Epoch 3/30\n",
      "\u001b[1m13/13\u001b[0m \u001b[32m━━━━━━━━━━━━━━━━━━━━\u001b[0m\u001b[37m\u001b[0m \u001b[1m3s\u001b[0m 184ms/step - accuracy: 0.5949 - loss: 0.6511 - val_accuracy: 0.5609 - val_loss: 0.7026\n",
      "Epoch 4/30\n",
      "\u001b[1m13/13\u001b[0m \u001b[32m━━━━━━━━━━━━━━━━━━━━\u001b[0m\u001b[37m\u001b[0m \u001b[1m2s\u001b[0m 180ms/step - accuracy: 0.6745 - loss: 0.5958 - val_accuracy: 0.7082 - val_loss: 0.6390\n",
      "Epoch 5/30\n",
      "\u001b[1m13/13\u001b[0m \u001b[32m━━━━━━━━━━━━━━━━━━━━\u001b[0m\u001b[37m\u001b[0m \u001b[1m3s\u001b[0m 184ms/step - accuracy: 0.7509 - loss: 0.5783 - val_accuracy: 0.5567 - val_loss: 0.6681\n",
      "Epoch 6/30\n",
      "\u001b[1m13/13\u001b[0m \u001b[32m━━━━━━━━━━━━━━━━━━━━\u001b[0m\u001b[37m\u001b[0m \u001b[1m3s\u001b[0m 183ms/step - accuracy: 0.5561 - loss: 0.6757 - val_accuracy: 0.5609 - val_loss: 0.6961\n",
      "Epoch 7/30\n",
      "\u001b[1m13/13\u001b[0m \u001b[32m━━━━━━━━━━━━━━━━━━━━\u001b[0m\u001b[37m\u001b[0m \u001b[1m2s\u001b[0m 179ms/step - accuracy: 0.5730 - loss: 0.6962 - val_accuracy: 0.5609 - val_loss: 0.6837\n",
      "Epoch 8/30\n",
      "\u001b[1m13/13\u001b[0m \u001b[32m━━━━━━━━━━━━━━━━━━━━\u001b[0m\u001b[37m\u001b[0m \u001b[1m2s\u001b[0m 179ms/step - accuracy: 0.5917 - loss: 0.6765 - val_accuracy: 0.5609 - val_loss: 0.6866\n",
      "Epoch 9/30\n",
      "\u001b[1m13/13\u001b[0m \u001b[32m━━━━━━━━━━━━━━━━━━━━\u001b[0m\u001b[37m\u001b[0m \u001b[1m2s\u001b[0m 182ms/step - accuracy: 0.5838 - loss: 0.6800 - val_accuracy: 0.5609 - val_loss: 0.6875\n",
      "Epoch 10/30\n",
      "\u001b[1m13/13\u001b[0m \u001b[32m━━━━━━━━━━━━━━━━━━━━\u001b[0m\u001b[37m\u001b[0m \u001b[1m3s\u001b[0m 198ms/step - accuracy: 0.5846 - loss: 0.6779 - val_accuracy: 0.5609 - val_loss: 0.6852\n"
     ]
    }
   ],
   "source": [
    "# you guys train the model for 100 epochs\n",
    "model_history = model.fit(X_train, y_train, epochs=30, batch_size=128,validation_data=(X_valid,y_valid), callbacks=[early_stopping])"
   ]
  },
  {
   "cell_type": "code",
   "execution_count": 70,
   "metadata": {
    "id": "DnhrEK30SC0E"
   },
   "outputs": [
    {
     "name": "stdout",
     "output_type": "stream",
     "text": [
      "\u001b[1m23/23\u001b[0m \u001b[32m━━━━━━━━━━━━━━━━━━━━\u001b[0m\u001b[37m\u001b[0m \u001b[1m0s\u001b[0m 10ms/step\n"
     ]
    }
   ],
   "source": [
    "y_pred = model.predict(X_valid)[:,0]\n",
    "y_pred = np.where(y_pred<0.5, 0, 1)"
   ]
  },
  {
   "cell_type": "code",
   "execution_count": 71,
   "metadata": {
    "id": "8Yr96tgB_Z5T"
   },
   "outputs": [
    {
     "name": "stdout",
     "output_type": "stream",
     "text": [
      "\u001b[1m23/23\u001b[0m \u001b[32m━━━━━━━━━━━━━━━━━━━━\u001b[0m\u001b[37m\u001b[0m \u001b[1m0s\u001b[0m 8ms/step\n",
      "Accuracy on validation set: 0.5609065155807366 %\n"
     ]
    }
   ],
   "source": [
    "# accuracy on validation set\n",
    "y_pred = np.where(model.predict(X_valid)[:, 0] < 0.5, 0, 1)\n",
    "print('Accuracy on validation set:', accuracy_score(y_valid, y_pred), '%')"
   ]
  },
  {
   "cell_type": "code",
   "execution_count": 72,
   "metadata": {
    "id": "Q1-nd8bSyHTX"
   },
   "outputs": [
    {
     "data": {
      "image/png": "[encoded data removed]",
      "text/plain": [
       "<Figure size 640x480 with 1 Axes>"
      ]
     },
     "metadata": {},
     "output_type": "display_data"
    }
   ],
   "source": [
    "# summarize history for loss\n",
    "plt.plot(model_history.history['loss'])\n",
    "plt.plot(model_history.history['val_loss'])\n",
    "plt.title('model loss')\n",
    "plt.ylabel('loss')\n",
    "plt.xlabel('epoch')\n",
    "plt.legend(['train', 'validation'], loc='upper right')\n",
    "plt.show()"
   ]
  },
  {
   "cell_type": "code",
   "execution_count": null,
   "metadata": {
    "id": "qVOeWoo3_vir"
   },
   "outputs": [],
   "source": []
  }
 ],
 "metadata": {
  "accelerator": "GPU",
  "colab": {
   "provenance": []
  },
  "kernelspec": {
   "display_name": "Python 3 (ipykernel)",
   "language": "python",
   "name": "python3"
  },
  "language_info": {
   "codemirror_mode": {
    "name": "ipython",
    "version": 3
   },
   "file_extension": ".py",
   "mimetype": "text/x-python",
   "name": "python",
   "nbconvert_exporter": "python",
   "pygments_lexer": "ipython3",
   "version": "3.11.7"
  }
 },
 "nbformat": 4,
 "nbformat_minor": 4
}
