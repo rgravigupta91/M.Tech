{
 "cells": [
  {
   "cell_type": "markdown",
   "metadata": {},
   "source": [
    "# Weight Initializers in Deep Learning\n",
    "\n",
    "When training deep learning models, the initialization of weights can significantly affect the convergence and overall performance of the model. Different weight initializers help prevent problems like vanishing/exploding gradients and can enhance learning. Here, we discuss some of the most commonly used initializers:\n",
    "\n",
    "## 1. **Random Normal Initialization**\n",
    "\n",
    "In this method, the weights are initialized from a normal (Gaussian) distribution with a specified mean and standard deviation. This approach may work in some cases but often leads to the vanishing/exploding gradient problem when used with deep networks.\n",
    "\n",
    "**Formula**:\n",
    "$$\n",
    "W \\sim \\mathcal{N}(\\mu, \\sigma^2)\n",
    "$$\n",
    "Where:\n",
    "- $ \\mu $ is the mean (often 0)\n",
    "- $ \\sigma^2 $ is the variance (standard deviation squared)\n",
    "\n",
    "**Keras Example**:\n",
    "```python\n",
    "from keras.initializers import RandomNormal\n",
    "initializer = RandomNormal(mean=0.0, stddev=0.05, seed=None)\n"
   ]
  },
  {
   "cell_type": "markdown",
   "metadata": {},
   "source": [
    "## 2. **Glorot Normal (Xavier Normal) Initialization**\n",
    "\n",
    "Glorot Normal (also known as Xavier Normal) initialization is designed to keep the variance of the gradients consistent across layers. Weights are initialized from a normal distribution with a mean of 0 and a specific variance.\n",
    "\n",
    "**Formula**:\n",
    "\n",
    "$$\n",
    "W \\sim \\mathcal{N}\\left(0, \\frac{2}{n_{in} + n_{out}}\\right)\n",
    "$$\n",
    "\n",
    "Where:\n",
    "- $n_{in}$ is the number of input units in the layer\n",
    "- $n_{out}$ is the number of output units in the layer\n",
    "\n",
    "**Keras Example**:\n",
    "```python\n",
    "from keras.initializers import GlorotNormal\n",
    "initializer = GlorotNormal()\n"
   ]
  },
  {
   "cell_type": "markdown",
   "metadata": {},
   "source": [
    "## 3. **He Normal Initialization**\n",
    "\n",
    "He Normal initialization is particularly well-suited for layers using the ReLU activation function. It initializes weights from a normal distribution with a mean of 0 and variance dependent on the number of input units.\n",
    "\n",
    "**Formula**:\n",
    "\n",
    "$$\n",
    "W \\sim \\mathcal{N}\\left(0, \\frac{2}{n_{in}}\\right)\n",
    "$$\n",
    "\n",
    "Where:\n",
    "- $n_{in}$ is the number of input units in the layer\n",
    "\n",
    "**Keras Example**:\n",
    "```python\n",
    "from keras.initializers import HeNormal\n",
    "initializer = HeNormal()\n"
   ]
  },
  {
   "cell_type": "markdown",
   "metadata": {},
   "source": [
    "## Lecun Normal Initialization\n",
    "\n",
    "Lecun Normal initialization is suitable for layers with the `tanh` activation function. It is similar to He Normal, but with a smaller variance.\n",
    "\n",
    "**Formula**:\n",
    "\n",
    "$$\n",
    "W \\sim \\mathcal{N}\\left(0, \\frac{1}{n_{in}}\\right)\n",
    "$$\n",
    "\n",
    "Where:\n",
    "- $n_{in}$ is the number of input units in the layer\n",
    "\n",
    "**Keras Example**:\n",
    "```python\n",
    "from keras.initializers import LecunNormal\n",
    "initializer = LecunNormal()\n"
   ]
  },
  {
   "cell_type": "markdown",
   "metadata": {},
   "source": [
    "## Weight Initializers and When to Use Them\n",
    "\n",
    "| **Initializer**        | **When to Use**                                                                 |\n",
    "|------------------------|---------------------------------------------------------------------------------|\n",
    "| **Random Normal**       | Use in simple cases, but can lead to vanishing/exploding gradients in deep networks. |\n",
    "| **Glorot Normal**       | Best used with `sigmoid` or `tanh` activation functions; helps maintain gradient consistency across layers. |\n",
    "| **He Normal**           | Optimized for ReLU and variants (e.g., Leaky ReLU); helps prevent vanishing gradients. |\n",
    "| **Lecun Normal**        | Use with the `tanh` activation function; provides better convergence.           |\n",
    "| **Glorot Uniform**      | An alternative to Glorot Normal, especially effective for `sigmoid` or `tanh` activations. |\n",
    "| **Random Uniform**      | Useful for exploratory modeling but may not perform well in deeper networks.     |\n",
    "\n"
   ]
  },
  {
   "cell_type": "markdown",
   "metadata": {
    "id": "xR7hbyyfuG9N"
   },
   "source": [
    "# Steps to solve Emergency vs Non-Emergency vehicle classification\n",
    "\n",
    "<ol>1. Loading the dataset</ol>\n",
    "<ol>2. Pre-processing the data</ol>\n",
    "<ol>3. Creating training and validation set</ol>\n",
    "<ol>4. Defining the model architecture</ol>\n",
    "<ol><ol>Setting up the weight initialization technique</ol></ol>\n",
    "<ol>5. Compiling the model</ol>\n",
    "<ol>6. Training the model</ol>\n",
    "<ol>7. Evaluating model performance</ol>"
   ]
  },
  {
   "cell_type": "markdown",
   "metadata": {
    "id": "xq6rlm_puG9U"
   },
   "source": [
    "## 1. Loading the dataset"
   ]
  },
  {
   "cell_type": "code",
   "execution_count": 1,
   "metadata": {
    "id": "XPYT-SDjuG9a",
    "scrolled": true
   },
   "outputs": [],
   "source": [
    "# import necessary libraries and functions\n",
    "import numpy as np\n",
    "import pandas as pd\n",
    "import matplotlib.pyplot as plt\n",
    "%matplotlib inline\n",
    "\n",
    "# importing layers from keras\n",
    "from keras.layers import Dense, InputLayer\n",
    "from keras.models import Sequential\n",
    "# importing adam optimizer from keras optimizer module\n",
    "from keras.optimizers import Adam\n",
    "\n",
    "# train_test_split to create training and validation set\n",
    "from sklearn.model_selection import train_test_split\n",
    "# accuracy_score to calculate the accuracy of predictions\n",
    "from sklearn.metrics import accuracy_score"
   ]
  },
  {
   "cell_type": "code",
   "execution_count": 2,
   "metadata": {
    "id": "WZdipKFauG9t"
   },
   "outputs": [],
   "source": [
    "# reading the csv file\n",
    "data = pd.read_csv('Dataset/emergency_classification.csv')"
   ]
  },
  {
   "cell_type": "code",
   "execution_count": 3,
   "metadata": {
    "id": "7pOqqh5GuG94"
   },
   "outputs": [],
   "source": [
    "# defining the seed value\n",
    "seed = 42"
   ]
  },
  {
   "cell_type": "code",
   "execution_count": 4,
   "metadata": {
    "colab": {
     "base_uri": "https://localhost:8080/",
     "height": 206
    },
    "id": "_VeBsfEAuG-B",
    "outputId": "7814f53f-0d8d-40c7-b1d2-23ff772f1de4",
    "scrolled": true
   },
   "outputs": [
    {
     "data": {
      "text/html": [
       "<div>\n",
       "<style scoped>\n",
       "    .dataframe tbody tr th:only-of-type {\n",
       "        vertical-align: middle;\n",
       "    }\n",
       "\n",
       "    .dataframe tbody tr th {\n",
       "        vertical-align: top;\n",
       "    }\n",
       "\n",
       "    .dataframe thead th {\n",
       "        text-align: right;\n",
       "    }\n",
       "</style>\n",
       "<table border=\"1\" class=\"dataframe\">\n",
       "  <thead>\n",
       "    <tr style=\"text-align: right;\">\n",
       "      <th></th>\n",
       "      <th>image_names</th>\n",
       "      <th>emergency_or_not</th>\n",
       "    </tr>\n",
       "  </thead>\n",
       "  <tbody>\n",
       "    <tr>\n",
       "      <th>0</th>\n",
       "      <td>0.jpg</td>\n",
       "      <td>1</td>\n",
       "    </tr>\n",
       "    <tr>\n",
       "      <th>1</th>\n",
       "      <td>1.jpg</td>\n",
       "      <td>1</td>\n",
       "    </tr>\n",
       "    <tr>\n",
       "      <th>2</th>\n",
       "      <td>2.jpg</td>\n",
       "      <td>1</td>\n",
       "    </tr>\n",
       "    <tr>\n",
       "      <th>3</th>\n",
       "      <td>3.jpg</td>\n",
       "      <td>1</td>\n",
       "    </tr>\n",
       "    <tr>\n",
       "      <th>4</th>\n",
       "      <td>4.jpg</td>\n",
       "      <td>1</td>\n",
       "    </tr>\n",
       "  </tbody>\n",
       "</table>\n",
       "</div>"
      ],
      "text/plain": [
       "  image_names  emergency_or_not\n",
       "0       0.jpg                 1\n",
       "1       1.jpg                 1\n",
       "2       2.jpg                 1\n",
       "3       3.jpg                 1\n",
       "4       4.jpg                 1"
      ]
     },
     "execution_count": 4,
     "metadata": {},
     "output_type": "execute_result"
    }
   ],
   "source": [
    "# looking at first five rows of the data\n",
    "data.head()"
   ]
  },
  {
   "cell_type": "code",
   "execution_count": 5,
   "metadata": {
    "id": "AMZyTsx3uG-W"
   },
   "outputs": [],
   "source": [
    "# load images and store it in numpy array\n",
    "\n",
    "# empty list to store the images\n",
    "X = []\n",
    "# iterating over each image\n",
    "for img_name in data.image_names:\n",
    "    # loading the image using its name\n",
    "    img = plt.imread('Dataset/images/' + img_name)\n",
    "    # saving each image in the list\n",
    "    X.append(img)\n",
    "\n",
    "# converting the list of images into array\n",
    "X=np.array(X)\n",
    "\n",
    "# storing the target variable in separate variable\n",
    "y = data.emergency_or_not.values"
   ]
  },
  {
   "cell_type": "code",
   "execution_count": 6,
   "metadata": {
    "colab": {
     "base_uri": "https://localhost:8080/"
    },
    "id": "csN5M_hzuG-d",
    "outputId": "11de90cb-55d9-4a30-ce31-302f12b953c6"
   },
   "outputs": [
    {
     "data": {
      "text/plain": [
       "(2352, 224, 224, 3)"
      ]
     },
     "execution_count": 6,
     "metadata": {},
     "output_type": "execute_result"
    }
   ],
   "source": [
    "# shape of the images\n",
    "X.shape"
   ]
  },
  {
   "cell_type": "markdown",
   "metadata": {
    "id": "IYNJtBXLuG-x"
   },
   "source": [
    "## 2. Pre-processing the data"
   ]
  },
  {
   "cell_type": "code",
   "execution_count": 7,
   "metadata": {
    "colab": {
     "base_uri": "https://localhost:8080/"
    },
    "id": "JsEZNNE_uG-2",
    "outputId": "b6f3018a-0302-4e75-ef1b-72ae8597fe4f",
    "scrolled": true
   },
   "outputs": [
    {
     "data": {
      "text/plain": [
       "(2352, 150528)"
      ]
     },
     "execution_count": 7,
     "metadata": {},
     "output_type": "execute_result"
    }
   ],
   "source": [
    "# converting 3 dimensional image to 1 dimensional image\n",
    "X = X.reshape(X.shape[0], 224*224*3)\n",
    "X.shape"
   ]
  },
  {
   "cell_type": "code",
   "execution_count": 8,
   "metadata": {
    "colab": {
     "base_uri": "https://localhost:8080/"
    },
    "id": "9y8rfKEguG-_",
    "outputId": "52a77492-9151-4dbd-d0bc-68258b55ff7c"
   },
   "outputs": [
    {
     "data": {
      "text/plain": [
       "(0, 255)"
      ]
     },
     "execution_count": 8,
     "metadata": {},
     "output_type": "execute_result"
    }
   ],
   "source": [
    "# minimum and maximum pixel values of images\n",
    "X.min(), X.max()"
   ]
  },
  {
   "cell_type": "code",
   "execution_count": 9,
   "metadata": {
    "id": "wI3hNx3uuG_L"
   },
   "outputs": [],
   "source": [
    "# normalizing the pixel values\n",
    "X = X / X.max()"
   ]
  },
  {
   "cell_type": "code",
   "execution_count": 10,
   "metadata": {
    "colab": {
     "base_uri": "https://localhost:8080/"
    },
    "id": "tghVTsVluG_S",
    "outputId": "e89c9610-4534-4c89-e31d-248da82771e0"
   },
   "outputs": [
    {
     "data": {
      "text/plain": [
       "(0.0, 1.0)"
      ]
     },
     "execution_count": 10,
     "metadata": {},
     "output_type": "execute_result"
    }
   ],
   "source": [
    "\n",
    "# minimum and maximum pixel values of images after normalizing\n",
    "X.min(), X.max()"
   ]
  },
  {
   "cell_type": "markdown",
   "metadata": {
    "id": "Scbo48PLuG_b"
   },
   "source": [
    "## 3. Creating training and validation set"
   ]
  },
  {
   "cell_type": "code",
   "execution_count": 11,
   "metadata": {
    "id": "-UmSQzb1uG_d"
   },
   "outputs": [],
   "source": [
    "# creating a training and validation set\n",
    "X_train, X_valid, y_train, y_valid=train_test_split(X,y,test_size=0.3, random_state=seed)"
   ]
  },
  {
   "cell_type": "code",
   "execution_count": 12,
   "metadata": {
    "colab": {
     "base_uri": "https://localhost:8080/"
    },
    "id": "xTC-FgDjuG_k",
    "outputId": "85d28c6d-20ff-4cca-e4cd-7a4903b987b5"
   },
   "outputs": [
    {
     "data": {
      "text/plain": [
       "(((1646, 150528), (1646,)), ((706, 150528), (706,)))"
      ]
     },
     "execution_count": 12,
     "metadata": {},
     "output_type": "execute_result"
    }
   ],
   "source": [
    "# shape of training and validation set\n",
    "(X_train.shape, y_train.shape), (X_valid.shape, y_valid.shape)"
   ]
  },
  {
   "cell_type": "markdown",
   "metadata": {
    "id": "vskdq-4huG_r"
   },
   "source": [
    "## 4. Defining the model architecture"
   ]
  },
  {
   "cell_type": "markdown",
   "metadata": {
    "id": "nQ2oSVzvQ_rm"
   },
   "source": [
    "### Setting up the weight initialization technique"
   ]
  },
  {
   "cell_type": "code",
   "execution_count": 13,
   "metadata": {
    "id": "h7LF7SxewwhV"
   },
   "outputs": [],
   "source": [
    "# importing different initialization techniques\n",
    "from keras.initializers import random_normal, glorot_normal, he_normal"
   ]
  },
  {
   "cell_type": "code",
   "execution_count": 14,
   "metadata": {
    "id": "tLqmJg8PuHBs"
   },
   "outputs": [],
   "source": [
    "# defining the model architecture\n",
    "model=Sequential()\n",
    "\n",
    "model.add(InputLayer(shape=(224*224*3,)))\n",
    "model.add(Dense(100, activation='sigmoid', kernel_initializer=he_normal(seed=seed)))\n",
    "model.add(Dense(100, activation='sigmoid', kernel_initializer=he_normal(seed=seed)))\n",
    "model.add(Dense(units=1, activation='sigmoid', kernel_initializer=he_normal(seed=seed)))"
   ]
  },
  {
   "cell_type": "markdown",
   "metadata": {
    "id": "FS__sDNVrjOs"
   },
   "source": [
    "## 5. Compiling the model"
   ]
  },
  {
   "cell_type": "code",
   "execution_count": 15,
   "metadata": {
    "colab": {
     "base_uri": "https://localhost:8080/"
    },
    "id": "BGovpAw_uHBp",
    "outputId": "3116fde7-3f8c-4657-d33a-d789f8f44db7"
   },
   "outputs": [],
   "source": [
    "# defining the adam optimizer and setting the learning rate as 10^-5\n",
    "adam = Adam(learning_rate=1e-5)"
   ]
  },
  {
   "cell_type": "code",
   "execution_count": 16,
   "metadata": {
    "id": "pcEUdq_Tri5x"
   },
   "outputs": [],
   "source": [
    "# compiling the model\n",
    "\n",
    "# defining loss as binary crossentropy\n",
    "# defining optimizer as Adam\n",
    "# defining metrics as accuracy\n",
    "\n",
    "model.compile(loss='binary_crossentropy', optimizer=adam, metrics=['accuracy'])"
   ]
  },
  {
   "cell_type": "markdown",
   "metadata": {
    "id": "UJ6D8X0JtD7f"
   },
   "source": [
    "## 6. Training the model"
   ]
  },
  {
   "cell_type": "code",
   "execution_count": 17,
   "metadata": {
    "colab": {
     "base_uri": "https://localhost:8080/"
    },
    "id": "KL7PHbMRuHBy",
    "outputId": "b54ca421-f28b-46a7-82b6-22e8e709e48e"
   },
   "outputs": [
    {
     "name": "stdout",
     "output_type": "stream",
     "text": [
      "Epoch 1/50\n",
      "\u001b[1m13/13\u001b[0m \u001b[32m━━━━━━━━━━━━━━━━━━━━\u001b[0m\u001b[37m\u001b[0m \u001b[1m32s\u001b[0m 460ms/step - accuracy: 0.5236 - loss: 0.7023 - val_accuracy: 0.6473 - val_loss: 0.6613\n",
      "Epoch 2/50\n",
      "\u001b[1m13/13\u001b[0m \u001b[32m━━━━━━━━━━━━━━━━━━━━\u001b[0m\u001b[37m\u001b[0m \u001b[1m4s\u001b[0m 336ms/step - accuracy: 0.6361 - loss: 0.6536 - val_accuracy: 0.6246 - val_loss: 0.6413\n",
      "Epoch 3/50\n",
      "\u001b[1m13/13\u001b[0m \u001b[32m━━━━━━━━━━━━━━━━━━━━\u001b[0m\u001b[37m\u001b[0m \u001b[1m4s\u001b[0m 340ms/step - accuracy: 0.6605 - loss: 0.6258 - val_accuracy: 0.6190 - val_loss: 0.6447\n",
      "Epoch 4/50\n",
      "\u001b[1m13/13\u001b[0m \u001b[32m━━━━━━━━━━━━━━━━━━━━\u001b[0m\u001b[37m\u001b[0m \u001b[1m5s\u001b[0m 341ms/step - accuracy: 0.6441 - loss: 0.6280 - val_accuracy: 0.6728 - val_loss: 0.6099\n",
      "Epoch 5/50\n",
      "\u001b[1m13/13\u001b[0m \u001b[32m━━━━━━━━━━━━━━━━━━━━\u001b[0m\u001b[37m\u001b[0m \u001b[1m4s\u001b[0m 334ms/step - accuracy: 0.6686 - loss: 0.6144 - val_accuracy: 0.6926 - val_loss: 0.6036\n",
      "Epoch 6/50\n",
      "\u001b[1m13/13\u001b[0m \u001b[32m━━━━━━━━━━━━━━━━━━━━\u001b[0m\u001b[37m\u001b[0m \u001b[1m4s\u001b[0m 330ms/step - accuracy: 0.6871 - loss: 0.6041 - val_accuracy: 0.6926 - val_loss: 0.5957\n",
      "Epoch 7/50\n",
      "\u001b[1m13/13\u001b[0m \u001b[32m━━━━━━━━━━━━━━━━━━━━\u001b[0m\u001b[37m\u001b[0m \u001b[1m4s\u001b[0m 334ms/step - accuracy: 0.6825 - loss: 0.5925 - val_accuracy: 0.6912 - val_loss: 0.5912\n",
      "Epoch 8/50\n",
      "\u001b[1m13/13\u001b[0m \u001b[32m━━━━━━━━━━━━━━━━━━━━\u001b[0m\u001b[37m\u001b[0m \u001b[1m4s\u001b[0m 337ms/step - accuracy: 0.7156 - loss: 0.5847 - val_accuracy: 0.6969 - val_loss: 0.5871\n",
      "Epoch 9/50\n",
      "\u001b[1m13/13\u001b[0m \u001b[32m━━━━━━━━━━━━━━━━━━━━\u001b[0m\u001b[37m\u001b[0m \u001b[1m4s\u001b[0m 336ms/step - accuracy: 0.7178 - loss: 0.5726 - val_accuracy: 0.6955 - val_loss: 0.5832\n",
      "Epoch 10/50\n",
      "\u001b[1m13/13\u001b[0m \u001b[32m━━━━━━━━━━━━━━━━━━━━\u001b[0m\u001b[37m\u001b[0m \u001b[1m4s\u001b[0m 335ms/step - accuracy: 0.7310 - loss: 0.5674 - val_accuracy: 0.6884 - val_loss: 0.5830\n",
      "Epoch 11/50\n",
      "\u001b[1m13/13\u001b[0m \u001b[32m━━━━━━━━━━━━━━━━━━━━\u001b[0m\u001b[37m\u001b[0m \u001b[1m5s\u001b[0m 347ms/step - accuracy: 0.7426 - loss: 0.5455 - val_accuracy: 0.6955 - val_loss: 0.5814\n",
      "Epoch 12/50\n",
      "\u001b[1m13/13\u001b[0m \u001b[32m━━━━━━━━━━━━━━━━━━━━\u001b[0m\u001b[37m\u001b[0m \u001b[1m4s\u001b[0m 333ms/step - accuracy: 0.7429 - loss: 0.5553 - val_accuracy: 0.6941 - val_loss: 0.5750\n",
      "Epoch 13/50\n",
      "\u001b[1m13/13\u001b[0m \u001b[32m━━━━━━━━━━━━━━━━━━━━\u001b[0m\u001b[37m\u001b[0m \u001b[1m4s\u001b[0m 333ms/step - accuracy: 0.7284 - loss: 0.5615 - val_accuracy: 0.6941 - val_loss: 0.5746\n",
      "Epoch 14/50\n",
      "\u001b[1m13/13\u001b[0m \u001b[32m━━━━━━━━━━━━━━━━━━━━\u001b[0m\u001b[37m\u001b[0m \u001b[1m4s\u001b[0m 330ms/step - accuracy: 0.7559 - loss: 0.5451 - val_accuracy: 0.6969 - val_loss: 0.5715\n",
      "Epoch 15/50\n",
      "\u001b[1m13/13\u001b[0m \u001b[32m━━━━━━━━━━━━━━━━━━━━\u001b[0m\u001b[37m\u001b[0m \u001b[1m4s\u001b[0m 334ms/step - accuracy: 0.7486 - loss: 0.5515 - val_accuracy: 0.6941 - val_loss: 0.5689\n",
      "Epoch 16/50\n",
      "\u001b[1m13/13\u001b[0m \u001b[32m━━━━━━━━━━━━━━━━━━━━\u001b[0m\u001b[37m\u001b[0m \u001b[1m5s\u001b[0m 336ms/step - accuracy: 0.7606 - loss: 0.5273 - val_accuracy: 0.7040 - val_loss: 0.5694\n",
      "Epoch 17/50\n",
      "\u001b[1m13/13\u001b[0m \u001b[32m━━━━━━━━━━━━━━━━━━━━\u001b[0m\u001b[37m\u001b[0m \u001b[1m5s\u001b[0m 346ms/step - accuracy: 0.7594 - loss: 0.5335 - val_accuracy: 0.7025 - val_loss: 0.5669\n",
      "Epoch 18/50\n",
      "\u001b[1m13/13\u001b[0m \u001b[32m━━━━━━━━━━━━━━━━━━━━\u001b[0m\u001b[37m\u001b[0m \u001b[1m5s\u001b[0m 343ms/step - accuracy: 0.7552 - loss: 0.5332 - val_accuracy: 0.7096 - val_loss: 0.5677\n",
      "Epoch 19/50\n",
      "\u001b[1m13/13\u001b[0m \u001b[32m━━━━━━━━━━━━━━━━━━━━\u001b[0m\u001b[37m\u001b[0m \u001b[1m4s\u001b[0m 339ms/step - accuracy: 0.7675 - loss: 0.5172 - val_accuracy: 0.7054 - val_loss: 0.5677\n",
      "Epoch 20/50\n",
      "\u001b[1m13/13\u001b[0m \u001b[32m━━━━━━━━━━━━━━━━━━━━\u001b[0m\u001b[37m\u001b[0m \u001b[1m5s\u001b[0m 348ms/step - accuracy: 0.7726 - loss: 0.5236 - val_accuracy: 0.6926 - val_loss: 0.5810\n",
      "Epoch 21/50\n",
      "\u001b[1m13/13\u001b[0m \u001b[32m━━━━━━━━━━━━━━━━━━━━\u001b[0m\u001b[37m\u001b[0m \u001b[1m5s\u001b[0m 343ms/step - accuracy: 0.7545 - loss: 0.5293 - val_accuracy: 0.7054 - val_loss: 0.5610\n",
      "Epoch 22/50\n",
      "\u001b[1m13/13\u001b[0m \u001b[32m━━━━━━━━━━━━━━━━━━━━\u001b[0m\u001b[37m\u001b[0m \u001b[1m4s\u001b[0m 340ms/step - accuracy: 0.7672 - loss: 0.5196 - val_accuracy: 0.7040 - val_loss: 0.5598\n",
      "Epoch 23/50\n",
      "\u001b[1m13/13\u001b[0m \u001b[32m━━━━━━━━━━━━━━━━━━━━\u001b[0m\u001b[37m\u001b[0m \u001b[1m5s\u001b[0m 341ms/step - accuracy: 0.7631 - loss: 0.5141 - val_accuracy: 0.7040 - val_loss: 0.5651\n",
      "Epoch 24/50\n",
      "\u001b[1m13/13\u001b[0m \u001b[32m━━━━━━━━━━━━━━━━━━━━\u001b[0m\u001b[37m\u001b[0m \u001b[1m4s\u001b[0m 337ms/step - accuracy: 0.7776 - loss: 0.5034 - val_accuracy: 0.6841 - val_loss: 0.5865\n",
      "Epoch 25/50\n",
      "\u001b[1m13/13\u001b[0m \u001b[32m━━━━━━━━━━━━━━━━━━━━\u001b[0m\u001b[37m\u001b[0m \u001b[1m4s\u001b[0m 338ms/step - accuracy: 0.7912 - loss: 0.5074 - val_accuracy: 0.7096 - val_loss: 0.5613\n",
      "Epoch 26/50\n",
      "\u001b[1m13/13\u001b[0m \u001b[32m━━━━━━━━━━━━━━━━━━━━\u001b[0m\u001b[37m\u001b[0m \u001b[1m5s\u001b[0m 342ms/step - accuracy: 0.7865 - loss: 0.4943 - val_accuracy: 0.6997 - val_loss: 0.5628\n",
      "Epoch 27/50\n",
      "\u001b[1m13/13\u001b[0m \u001b[32m━━━━━━━━━━━━━━━━━━━━\u001b[0m\u001b[37m\u001b[0m \u001b[1m5s\u001b[0m 346ms/step - accuracy: 0.7654 - loss: 0.5163 - val_accuracy: 0.7082 - val_loss: 0.5552\n",
      "Epoch 28/50\n",
      "\u001b[1m13/13\u001b[0m \u001b[32m━━━━━━━━━━━━━━━━━━━━\u001b[0m\u001b[37m\u001b[0m \u001b[1m5s\u001b[0m 350ms/step - accuracy: 0.7872 - loss: 0.4903 - val_accuracy: 0.7110 - val_loss: 0.5550\n",
      "Epoch 29/50\n",
      "\u001b[1m13/13\u001b[0m \u001b[32m━━━━━━━━━━━━━━━━━━━━\u001b[0m\u001b[37m\u001b[0m \u001b[1m4s\u001b[0m 335ms/step - accuracy: 0.7915 - loss: 0.4892 - val_accuracy: 0.6955 - val_loss: 0.5654\n",
      "Epoch 30/50\n",
      "\u001b[1m13/13\u001b[0m \u001b[32m━━━━━━━━━━━━━━━━━━━━\u001b[0m\u001b[37m\u001b[0m \u001b[1m4s\u001b[0m 333ms/step - accuracy: 0.7754 - loss: 0.5028 - val_accuracy: 0.7054 - val_loss: 0.5561\n",
      "Epoch 31/50\n",
      "\u001b[1m13/13\u001b[0m \u001b[32m━━━━━━━━━━━━━━━━━━━━\u001b[0m\u001b[37m\u001b[0m \u001b[1m4s\u001b[0m 335ms/step - accuracy: 0.8007 - loss: 0.4853 - val_accuracy: 0.7110 - val_loss: 0.5529\n",
      "Epoch 32/50\n",
      "\u001b[1m13/13\u001b[0m \u001b[32m━━━━━━━━━━━━━━━━━━━━\u001b[0m\u001b[37m\u001b[0m \u001b[1m5s\u001b[0m 337ms/step - accuracy: 0.8275 - loss: 0.4646 - val_accuracy: 0.7110 - val_loss: 0.5538\n",
      "Epoch 33/50\n",
      "\u001b[1m13/13\u001b[0m \u001b[32m━━━━━━━━━━━━━━━━━━━━\u001b[0m\u001b[37m\u001b[0m \u001b[1m4s\u001b[0m 332ms/step - accuracy: 0.7986 - loss: 0.4857 - val_accuracy: 0.7110 - val_loss: 0.5540\n",
      "Epoch 34/50\n",
      "\u001b[1m13/13\u001b[0m \u001b[32m━━━━━━━━━━━━━━━━━━━━\u001b[0m\u001b[37m\u001b[0m \u001b[1m4s\u001b[0m 337ms/step - accuracy: 0.7741 - loss: 0.4916 - val_accuracy: 0.7025 - val_loss: 0.5557\n",
      "Epoch 35/50\n",
      "\u001b[1m13/13\u001b[0m \u001b[32m━━━━━━━━━━━━━━━━━━━━\u001b[0m\u001b[37m\u001b[0m \u001b[1m4s\u001b[0m 334ms/step - accuracy: 0.7918 - loss: 0.4849 - val_accuracy: 0.7181 - val_loss: 0.5490\n",
      "Epoch 36/50\n",
      "\u001b[1m13/13\u001b[0m \u001b[32m━━━━━━━━━━━━━━━━━━━━\u001b[0m\u001b[37m\u001b[0m \u001b[1m4s\u001b[0m 336ms/step - accuracy: 0.7975 - loss: 0.4753 - val_accuracy: 0.7181 - val_loss: 0.5489\n",
      "Epoch 37/50\n",
      "\u001b[1m13/13\u001b[0m \u001b[32m━━━━━━━━━━━━━━━━━━━━\u001b[0m\u001b[37m\u001b[0m \u001b[1m4s\u001b[0m 329ms/step - accuracy: 0.8211 - loss: 0.4645 - val_accuracy: 0.7054 - val_loss: 0.5571\n",
      "Epoch 38/50\n",
      "\u001b[1m13/13\u001b[0m \u001b[32m━━━━━━━━━━━━━━━━━━━━\u001b[0m\u001b[37m\u001b[0m \u001b[1m5s\u001b[0m 334ms/step - accuracy: 0.8146 - loss: 0.4677 - val_accuracy: 0.6955 - val_loss: 0.5652\n",
      "Epoch 39/50\n",
      "\u001b[1m13/13\u001b[0m \u001b[32m━━━━━━━━━━━━━━━━━━━━\u001b[0m\u001b[37m\u001b[0m \u001b[1m4s\u001b[0m 333ms/step - accuracy: 0.8096 - loss: 0.4665 - val_accuracy: 0.6898 - val_loss: 0.5826\n",
      "Epoch 40/50\n",
      "\u001b[1m13/13\u001b[0m \u001b[32m━━━━━━━━━━━━━━━━━━━━\u001b[0m\u001b[37m\u001b[0m \u001b[1m4s\u001b[0m 333ms/step - accuracy: 0.8029 - loss: 0.4735 - val_accuracy: 0.6884 - val_loss: 0.5711\n",
      "Epoch 41/50\n",
      "\u001b[1m13/13\u001b[0m \u001b[32m━━━━━━━━━━━━━━━━━━━━\u001b[0m\u001b[37m\u001b[0m \u001b[1m4s\u001b[0m 336ms/step - accuracy: 0.8079 - loss: 0.4673 - val_accuracy: 0.7054 - val_loss: 0.5468\n",
      "Epoch 42/50\n",
      "\u001b[1m13/13\u001b[0m \u001b[32m━━━━━━━━━━━━━━━━━━━━\u001b[0m\u001b[37m\u001b[0m \u001b[1m4s\u001b[0m 334ms/step - accuracy: 0.8173 - loss: 0.4583 - val_accuracy: 0.7210 - val_loss: 0.5462\n",
      "Epoch 43/50\n",
      "\u001b[1m13/13\u001b[0m \u001b[32m━━━━━━━━━━━━━━━━━━━━\u001b[0m\u001b[37m\u001b[0m \u001b[1m5s\u001b[0m 343ms/step - accuracy: 0.8367 - loss: 0.4419 - val_accuracy: 0.7210 - val_loss: 0.5440\n",
      "Epoch 44/50\n",
      "\u001b[1m13/13\u001b[0m \u001b[32m━━━━━━━━━━━━━━━━━━━━\u001b[0m\u001b[37m\u001b[0m \u001b[1m5s\u001b[0m 334ms/step - accuracy: 0.8090 - loss: 0.4674 - val_accuracy: 0.7210 - val_loss: 0.5448\n",
      "Epoch 45/50\n",
      "\u001b[1m13/13\u001b[0m \u001b[32m━━━━━━━━━━━━━━━━━━━━\u001b[0m\u001b[37m\u001b[0m \u001b[1m4s\u001b[0m 332ms/step - accuracy: 0.8241 - loss: 0.4494 - val_accuracy: 0.7252 - val_loss: 0.5438\n",
      "Epoch 46/50\n",
      "\u001b[1m13/13\u001b[0m \u001b[32m━━━━━━━━━━━━━━━━━━━━\u001b[0m\u001b[37m\u001b[0m \u001b[1m4s\u001b[0m 331ms/step - accuracy: 0.8084 - loss: 0.4592 - val_accuracy: 0.7252 - val_loss: 0.5436\n",
      "Epoch 47/50\n",
      "\u001b[1m13/13\u001b[0m \u001b[32m━━━━━━━━━━━━━━━━━━━━\u001b[0m\u001b[37m\u001b[0m \u001b[1m4s\u001b[0m 337ms/step - accuracy: 0.8335 - loss: 0.4497 - val_accuracy: 0.7139 - val_loss: 0.5454\n",
      "Epoch 48/50\n",
      "\u001b[1m13/13\u001b[0m \u001b[32m━━━━━━━━━━━━━━━━━━━━\u001b[0m\u001b[37m\u001b[0m \u001b[1m4s\u001b[0m 338ms/step - accuracy: 0.8251 - loss: 0.4541 - val_accuracy: 0.7181 - val_loss: 0.5422\n",
      "Epoch 49/50\n",
      "\u001b[1m13/13\u001b[0m \u001b[32m━━━━━━━━━━━━━━━━━━━━\u001b[0m\u001b[37m\u001b[0m \u001b[1m5s\u001b[0m 299ms/step - accuracy: 0.8408 - loss: 0.4335 - val_accuracy: 0.7054 - val_loss: 0.5514\n",
      "Epoch 50/50\n",
      "\u001b[1m13/13\u001b[0m \u001b[32m━━━━━━━━━━━━━━━━━━━━\u001b[0m\u001b[37m\u001b[0m \u001b[1m5s\u001b[0m 276ms/step - accuracy: 0.8394 - loss: 0.4360 - val_accuracy: 0.7082 - val_loss: 0.5497\n"
     ]
    }
   ],
   "source": [
    "# training the model for 50 epochs\n",
    "model_history = model.fit(X_train, y_train, epochs=50, batch_size=128, validation_data=(X_valid,y_valid))"
   ]
  },
  {
   "cell_type": "markdown",
   "metadata": {
    "id": "4nItUUcYtYiw"
   },
   "source": [
    "## 8. Evaluating model performance"
   ]
  },
  {
   "cell_type": "code",
   "execution_count": 18,
   "metadata": {
    "colab": {
     "base_uri": "https://localhost:8080/"
    },
    "id": "8QaAmvwqH32I",
    "outputId": "7ee37da7-a2c8-4a92-fb8a-6624271f3bd8"
   },
   "outputs": [
    {
     "name": "stdout",
     "output_type": "stream",
     "text": [
      "\u001b[1m23/23\u001b[0m \u001b[32m━━━━━━━━━━━━━━━━━━━━\u001b[0m\u001b[37m\u001b[0m \u001b[1m1s\u001b[0m 26ms/step\n"
     ]
    }
   ],
   "source": [
    "y_pred = model.predict(X_valid)\n",
    "y_pred = np.where(y_pred < 0.5, 0, 1)"
   ]
  },
  {
   "cell_type": "code",
   "execution_count": 19,
   "metadata": {
    "colab": {
     "base_uri": "https://localhost:8080/"
    },
    "id": "Wbfb8_MWuHB4",
    "outputId": "552f2147-d623-409d-88c5-1f118eab1783"
   },
   "outputs": [
    {
     "name": "stdout",
     "output_type": "stream",
     "text": [
      "Accuracy on validation set: 0.7082152974504249 %\n"
     ]
    }
   ],
   "source": [
    "# accuracy on validation set\n",
    "print('Accuracy on validation set:', accuracy_score(y_valid, y_pred), '%')"
   ]
  },
  {
   "cell_type": "code",
   "execution_count": 20,
   "metadata": {
    "colab": {
     "base_uri": "https://localhost:8080/",
     "height": 472
    },
    "id": "UDXYXYMox5Ih",
    "outputId": "2aec92c0-d971-48ad-f12c-5f4e095a629f"
   },
   "outputs": [
    {
     "data": {
      "image/png": "[encoded data removed]",
      "text/plain": [
       "<Figure size 640x480 with 1 Axes>"
      ]
     },
     "metadata": {},
     "output_type": "display_data"
    }
   ],
   "source": [
    " # summarize history for loss\n",
    "plt.plot(model_history.history['loss'])\n",
    "plt.plot(model_history.history['val_loss'])\n",
    "plt.title('model loss')\n",
    "plt.ylabel('loss')\n",
    "plt.xlabel('epoch')\n",
    "plt.legend(['train', 'validation'], loc='upper right')\n",
    "plt.show()"
   ]
  },
  {
   "cell_type": "code",
   "execution_count": null,
   "metadata": {
    "id": "OjXgzcFb33jI"
   },
   "outputs": [
    {
     "name": "stdout",
     "output_type": "stream",
     "text": [
      "\n",
      "Training with random_normal initializer...\n",
      "\n",
      "Training with glorot_normal initializer...\n"
     ]
    }
   ],
   "source": [
    "# Import necessary libraries\n",
    "import numpy as np\n",
    "import matplotlib.pyplot as plt\n",
    "from keras.models import Sequential\n",
    "from keras.layers import Dense, InputLayer\n",
    "from keras.optimizers import Adam\n",
    "from keras.initializers import random_normal, glorot_normal, he_normal\n",
    "from sklearn.model_selection import train_test_split\n",
    "\n",
    "# Assuming data is already loaded into X and y\n",
    "# Example data split, you can replace it with actual data\n",
    "X_train, X_valid, y_train, y_valid = train_test_split(X, y, test_size=0.2, random_state=42)\n",
    "\n",
    "# Defining the seed for reproducibility\n",
    "seed = 42\n",
    "\n",
    "# Function to create a model with a specified initializer\n",
    "def create_model(initializer):\n",
    "    model = Sequential()\n",
    "    model.add(InputLayer(shape=(224*224*3,)))\n",
    "    model.add(Dense(100, activation='sigmoid', kernel_initializer=initializer(seed=seed)))\n",
    "    model.add(Dense(100, activation='sigmoid', kernel_initializer=initializer(seed=seed)))\n",
    "    model.add(Dense(units=1, activation='sigmoid', kernel_initializer=initializer(seed=seed)))\n",
    "    \n",
    "    # Defining the Adam optimizer and setting the learning rate as 10^-5\n",
    "    adam = Adam(learning_rate=1e-5)\n",
    "    \n",
    "    # Compiling the model\n",
    "    model.compile(loss='binary_crossentropy', optimizer=adam, metrics=['accuracy'])\n",
    "    \n",
    "    return model\n",
    "\n",
    "# Train and evaluate models with different initializers\n",
    "initializers = {\n",
    "    'random_normal': random_normal,\n",
    "    'glorot_normal': glorot_normal,\n",
    "    'he_normal': he_normal\n",
    "}\n",
    "\n",
    "histories = {}\n",
    "\n",
    "for name, initializer in initializers.items():\n",
    "    print(f\"\\nTraining with {name} initializer...\")\n",
    "    model = create_model(initializer)\n",
    "    history = model.fit(X_train, y_train, epochs=50, batch_size=128, validation_data=(X_valid, y_valid), verbose=0)\n",
    "    histories[name] = history\n",
    "\n",
    "# Plotting the training and validation accuracy/loss curves for all initializers\n",
    "plt.figure(figsize=(14, 12))\n",
    "\n",
    "for idx, key in enumerate(histories):\n",
    "    history = histories[key].history\n",
    "    train_acc = history['accuracy']\n",
    "    val_acc = history['val_accuracy']\n",
    "    train_loss = history['loss']\n",
    "    val_loss = history['val_loss']\n",
    "\n",
    "    # Plotting training and validation accuracy\n",
    "    plt.subplot(3, 2, idx * 2 + 1)\n",
    "    plt.plot(train_acc, label='Training Accuracy')\n",
    "    plt.plot(val_acc, label='Validation Accuracy')\n",
    "    plt.title(f'Training and Validation Accuracy ({key})')\n",
    "    plt.xlabel('Epochs')\n",
    "    plt.ylabel('Accuracy')\n",
    "    plt.legend()\n",
    "\n",
    "    # Plotting training and validation loss\n",
    "    plt.subplot(3, 2, idx * 2 + 2)\n",
    "    plt.plot(train_loss, label='Training Loss')\n",
    "    plt.plot(val_loss, label='Validation Loss')\n",
    "    plt.title(f'Training and Validation Loss ({key})')\n",
    "    plt.xlabel('Epochs')\n",
    "    plt.ylabel('Loss')\n",
    "    plt.legend()\n",
    "\n",
    "plt.tight_layout()\n",
    "plt.show()\n",
    "\n",
    "# Reporting the best results for each initializer based on validation accuracy\n",
    "for name, history in histories.items():\n",
    "    val_acc = history.history['val_accuracy']\n",
    "    best_epoch = val_acc.index(max(val_acc)) + 1\n",
    "    best_val_acc = max(val_acc)\n",
    "    best_val_loss = history.history['val_loss'][best_epoch - 1]\n",
    "    print(f\"Best Epoch for {name}: {best_epoch}, Validation Accuracy: {best_val_acc:.4f}, Validation Loss: {best_val_loss:.4f}\")\n"
   ]
  },
  {
   "cell_type": "markdown",
   "metadata": {},
   "source": [
    "# Activation Functions"
   ]
  },
  {
   "cell_type": "code",
   "execution_count": null,
   "metadata": {},
   "outputs": [],
   "source": [
    "# Import necessary libraries\n",
    "import numpy as np\n",
    "import matplotlib.pyplot as plt\n",
    "from keras.models import Sequential\n",
    "from keras.layers import Dense, InputLayer\n",
    "from keras.optimizers import Adam\n",
    "from keras.initializers import he_normal\n",
    "from sklearn.model_selection import train_test_split\n",
    "\n",
    "# Assuming data is already loaded into X and y\n",
    "# Example data split, you can replace it with actual data\n",
    "X_train, X_valid, y_train, y_valid = train_test_split(X, y, test_size=0.2, random_state=42)\n",
    "\n",
    "# Defining the seed for reproducibility\n",
    "seed = 42\n",
    "\n",
    "# Function to create a model with a specified activation function\n",
    "def create_model(activation_function):\n",
    "    model = Sequential()\n",
    "    model.add(InputLayer(shape=(224*224*3,)))\n",
    "    model.add(Dense(100, activation=activation_function, kernel_initializer=he_normal(seed=seed)))\n",
    "    model.add(Dense(100, activation=activation_function, kernel_initializer=he_normal(seed=seed)))\n",
    "    model.add(Dense(units=1, activation='sigmoid', kernel_initializer=he_normal(seed=seed)))  # Output layer uses sigmoid for binary classification\n",
    "    \n",
    "    # Defining the Adam optimizer and setting the learning rate as 10^-5\n",
    "    adam = Adam(learning_rate=1e-5)\n",
    "    \n",
    "    # Compiling the model\n",
    "    model.compile(loss='binary_crossentropy', optimizer=adam, metrics=['accuracy'])\n",
    "    \n",
    "    return model\n",
    "\n",
    "# Train and evaluate models with different activation functions\n",
    "activation_functions = ['sigmoid', 'relu', 'tanh', 'elu']  # Define the list of activation functions you want to test\n",
    "\n",
    "histories = {}\n",
    "\n",
    "for activation_function in activation_functions:\n",
    "    print(f\"\\nTraining with {activation_function} activation function...\")\n",
    "    model = create_model(activation_function)\n",
    "    history = model.fit(X_train, y_train, epochs=50, batch_size=128, validation_data=(X_valid, y_valid), verbose=0)\n",
    "    histories[activation_function] = history\n",
    "\n",
    "# Plotting the training and validation accuracy/loss curves for all activation functions\n",
    "plt.figure(figsize=(14, 12))\n",
    "\n",
    "for idx, key in enumerate(histories):\n",
    "    history = histories[key].history\n",
    "    train_acc = history['accuracy']\n",
    "    val_acc = history['val_accuracy']\n",
    "    train_loss = history['loss']\n",
    "    val_loss = history['val_loss']\n",
    "\n",
    "    # Plotting training and validation accuracy\n",
    "    plt.subplot(4, 2, idx * 2 + 1)\n",
    "    plt.plot(train_acc, label='Training Accuracy')\n",
    "    plt.plot(val_acc, label='Validation Accuracy')\n",
    "    plt.title(f'Training and Validation Accuracy ({key} activation)')\n",
    "    plt.xlabel('Epochs')\n",
    "    plt.ylabel('Accuracy')\n",
    "    plt.legend()\n",
    "\n",
    "    # Plotting training and validation loss\n",
    "    plt.subplot(4, 2, idx * 2 + 2)\n",
    "    plt.plot(train_loss, label='Training Loss')\n",
    "    plt.plot(val_loss, label='Validation Loss')\n",
    "    plt.title(f'Training and Validation Loss ({key} activation)')\n",
    "    plt.xlabel('Epochs')\n",
    "    plt.ylabel('Loss')\n",
    "    plt.legend()\n",
    "\n",
    "plt.tight_layout()\n",
    "plt.show()\n",
    "\n",
    "# Reporting the best results for each activation function based on validation accuracy\n",
    "for name, history in histories.items():\n",
    "    val_acc = history.history['val_accuracy']\n",
    "    best_epoch = val_acc.index(max(val_acc)) + 1\n",
    "    best_val_acc = max(val_acc)\n",
    "    best_val_loss = history.history['val_loss'][best_epoch - 1]\n",
    "    print(f\"Best Epoch for {name} activation: {best_epoch}, Validation Accuracy: {best_val_acc:.4f}, Validation Loss: {best_val_loss:.4f}\")\n"
   ]
  },
  {
   "cell_type": "code",
   "execution_count": null,
   "metadata": {},
   "outputs": [],
   "source": []
  }
 ],
 "metadata": {
  "accelerator": "GPU",
  "colab": {
   "provenance": []
  },
  "kernelspec": {
   "display_name": "Python 3 (ipykernel)",
   "language": "python",
   "name": "python3"
  },
  "language_info": {
   "codemirror_mode": {
    "name": "ipython",
    "version": 3
   },
   "file_extension": ".py",
   "mimetype": "text/x-python",
   "name": "python",
   "nbconvert_exporter": "python",
   "pygments_lexer": "ipython3",
   "version": "3.11.7"
  }
 },
 "nbformat": 4,
 "nbformat_minor": 4
}
