{
  "nbformat": 4,
  "nbformat_minor": 0,
  "metadata": {
    "colab": {
      "name": "4.2 PyTorch Autograd Module.ipynb",
      "provenance": [],
      "collapsed_sections": []
    },
    "kernelspec": {
      "name": "python3",
      "display_name": "Python 3"
    },
    "accelerator": "GPU"
  },
  "cells": [
    {
      "cell_type": "code",
      "metadata": {
        "id": "ufxjyUsuS70w",
        "colab_type": "code",
        "colab": {}
      },
      "source": [
        "# importing torch library\n",
        "import torch"
      ],
      "execution_count": null,
      "outputs": []
    },
    {
      "cell_type": "code",
      "metadata": {
        "id": "Y5L5cq2KS6tb",
        "colab_type": "code",
        "colab": {
          "base_uri": "https://localhost:8080/",
          "height": 52
        },
        "outputId": "a6b86b15-4094-4f14-d2cf-9f64831adc71"
      },
      "source": [
        "# initializing a 2d tensor\n",
        "a = torch.tensor([[1,1], [1,1]], dtype=torch.float)\n",
        "a"
      ],
      "execution_count": null,
      "outputs": [
        {
          "output_type": "execute_result",
          "data": {
            "text/plain": [
              "tensor([[1., 1.],\n",
              "        [1., 1.]])"
            ]
          },
          "metadata": {
            "tags": []
          },
          "execution_count": 2
        }
      ]
    },
    {
      "cell_type": "code",
      "metadata": {
        "id": "7sUfDwaETIMQ",
        "colab_type": "code",
        "colab": {
          "base_uri": "https://localhost:8080/",
          "height": 52
        },
        "outputId": "8b9756fe-76d6-4724-89a9-0ab699530a56"
      },
      "source": [
        "# performing operations on the tensor\n",
        "b = a + 5\n",
        "print(b)"
      ],
      "execution_count": null,
      "outputs": [
        {
          "output_type": "stream",
          "text": [
            "tensor([[6., 6.],\n",
            "        [6., 6.]])\n"
          ],
          "name": "stdout"
        }
      ]
    },
    {
      "cell_type": "code",
      "metadata": {
        "id": "AwzOn_BXTO6F",
        "colab_type": "code",
        "colab": {
          "base_uri": "https://localhost:8080/",
          "height": 34
        },
        "outputId": "65365dcd-42fb-4af6-b868-381e00813ec9"
      },
      "source": [
        "# performing another operation\n",
        "c = b.mean()\n",
        "print(c)"
      ],
      "execution_count": null,
      "outputs": [
        {
          "output_type": "stream",
          "text": [
            "tensor(6.)\n"
          ],
          "name": "stdout"
        }
      ]
    },
    {
      "cell_type": "markdown",
      "metadata": {
        "id": "_UCuralTTrd5",
        "colab_type": "text"
      },
      "source": [
        "### Operations we have applied\n",
        "\n",
        "\n",
        "\n",
        "1. First of all, we added 5 to all the elements of this tensor\n",
        "2. Then, we took the mean of that tensor\n",
        "\n",
        "We performed the following operations on a:\n",
        "\n",
        "b = a + 5\n",
        "\n",
        "c = mean(b) = Σ(a+5) / 4"
      ]
    },
    {
      "cell_type": "markdown",
      "metadata": {
        "id": "03e0CrUDQpd6",
        "colab_type": "text"
      },
      "source": [
        "\n",
        "\n",
        "\n",
        "\n",
        "\n",
        "### Gradient of c with respect to a\n",
        "\n",
        "dc / da = dc/db * db / da = 1/4(1+0) * (1+0) = 1/4 = 0.25\n",
        "\n",
        "Similarly, we can compute for all elements of a"
      ]
    },
    {
      "cell_type": "markdown",
      "metadata": {
        "id": "H0NymKMlUaSf",
        "colab_type": "text"
      },
      "source": [
        "## Automatic Differentiation"
      ]
    },
    {
      "cell_type": "code",
      "metadata": {
        "id": "nvVnfksYUZz9",
        "colab_type": "code",
        "colab": {
          "base_uri": "https://localhost:8080/",
          "height": 52
        },
        "outputId": "f13bcd07-2776-417c-d5f9-b6913e515496"
      },
      "source": [
        "# initializing a 2d tensor and setting requires_grad as True\n",
        "a = torch.tensor([[1,1], [1,1]], dtype= torch.float, requires_grad=True)\n",
        "a"
      ],
      "execution_count": null,
      "outputs": [
        {
          "output_type": "execute_result",
          "data": {
            "text/plain": [
              "tensor([[1., 1.],\n",
              "        [1., 1.]], requires_grad=True)"
            ]
          },
          "metadata": {
            "tags": []
          },
          "execution_count": 5
        }
      ]
    },
    {
      "cell_type": "code",
      "metadata": {
        "id": "wZQSTpMsTgjg",
        "colab_type": "code",
        "colab": {
          "base_uri": "https://localhost:8080/",
          "height": 69
        },
        "outputId": "75740f4f-712b-4f3a-e2a1-9ce68c11fa92"
      },
      "source": [
        "# performing operations on the tensor\n",
        "b = a + 5\n",
        "c = b.mean()\n",
        "print(b)\n",
        "print(c)"
      ],
      "execution_count": null,
      "outputs": [
        {
          "output_type": "stream",
          "text": [
            "tensor([[6., 6.],\n",
            "        [6., 6.]], grad_fn=<AddBackward0>)\n",
            "tensor(6., grad_fn=<MeanBackward0>)\n"
          ],
          "name": "stdout"
        }
      ]
    },
    {
      "cell_type": "code",
      "metadata": {
        "id": "3mib79cKUpLO",
        "colab_type": "code",
        "colab": {}
      },
      "source": [
        "# back propagating\n",
        "c.backward()"
      ],
      "execution_count": null,
      "outputs": []
    },
    {
      "cell_type": "code",
      "metadata": {
        "id": "z3MDNuFUUwwE",
        "colab_type": "code",
        "colab": {
          "base_uri": "https://localhost:8080/",
          "height": 52
        },
        "outputId": "239b93a9-c38e-4ec3-9b38-1db81efaf69f"
      },
      "source": [
        "# calculated gradients\n",
        "print(a.grad)"
      ],
      "execution_count": null,
      "outputs": [
        {
          "output_type": "stream",
          "text": [
            "tensor([[0.2500, 0.2500],\n",
            "        [0.2500, 0.2500]])\n"
          ],
          "name": "stdout"
        }
      ]
    },
    {
      "cell_type": "code",
      "metadata": {
        "id": "Kou6WvaQUzwz",
        "colab_type": "code",
        "colab": {}
      },
      "source": [
        ""
      ],
      "execution_count": null,
      "outputs": []
    }
  ]
}