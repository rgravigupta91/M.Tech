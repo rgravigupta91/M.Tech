{
 "cells": [
  {
   "cell_type": "code",
   "execution_count": null,
   "id": "0cc7afd3-13fd-4b6c-ad1f-2c3630ccb6f5",
   "metadata": {},
   "outputs": [],
   "source": [
    "import tensorflow as tf\n",
    "from tensorflow.keras.models import Sequential\n",
    "from tensorflow.keras.layers import Conv2D, MaxPool2D, Flatten, Dense, GlobalAveragePooling2D, Dropout\n",
    "from tensorflow.keras.optimizers import Adam\n",
    "from tensorflow.keras.preprocessing.image import ImageDataGenerator\n",
    "from tensorflow.keras.callbacks import EarlyStopping, ModelCheckpoint\n",
    "import os\n",
    "os.environ[\"CUDA_DEVICE_ORDER\"]=\"PCI_BUS_ID\"\n",
    "os.environ[\"CUDA_VISIBLE_DEVICES\"]=\"0\""
   ]
  },
  {
   "cell_type": "code",
   "execution_count": null,
   "id": "dbcd6581-a79a-4e8f-b630-688f8ee201bf",
   "metadata": {},
   "outputs": [],
   "source": [
    "train_dir=\"Food classification/Train\"\n",
    "test_dir=\"Food classification/Test\""
   ]
  },
  {
   "cell_type": "code",
   "execution_count": null,
   "id": "293bc84c-5931-47b5-82b6-8f14efb06eeb",
   "metadata": {},
   "outputs": [],
   "source": [
    "train_datagen = ImageDataGenerator(rescale=1/255)\n",
    "train_data = train_datagen.flow_from_directory(train_dir,\n",
    "                                               target_size=(128,128),\n",
    "                                               batch_size=32,\n",
    "                                               class_mode='categorical')\n",
    "\n",
    "test_datagen = ImageDataGenerator(rescale=1/255)\n",
    "test_data = test_datagen.flow_from_directory(test_dir,\n",
    "                                             batch_size=32,\n",
    "                                             class_mode='categorical',\n",
    "                                             target_size=(128,128))"
   ]
  },
  {
   "cell_type": "code",
   "execution_count": null,
   "id": "da1a48e7-8ded-4ff5-b6d0-ff1d123b9565",
   "metadata": {},
   "outputs": [],
   "source": []
  },
  {
   "cell_type": "code",
   "execution_count": null,
   "id": "084d14c4-c45e-415f-99ac-e0ed8dae49c4",
   "metadata": {},
   "outputs": [],
   "source": []
  },
  {
   "cell_type": "code",
   "execution_count": null,
   "id": "15bcd9dc-a4ec-4e91-9105-ad8d944f7758",
   "metadata": {},
   "outputs": [],
   "source": []
  },
  {
   "cell_type": "code",
   "execution_count": null,
   "id": "b96b817a-4c2a-4d88-bcd6-11d9a24f1e60",
   "metadata": {},
   "outputs": [],
   "source": [
    "model = Sequential()\n",
    "model.add(Conv2D(64,(3,3),activation='relu', input_shape=(128,128,3)))\n",
    "model.add(MaxPool2D(2,2))\n",
    "model.add(Conv2D(32,(3,3),activation='relu'))\n",
    "model.add(MaxPool2D(2,2))\n",
    "model.add(Flatten())\n",
    "model.add(Dense(128,activation='relu'))\n",
    "model.add(Dense(5,activation='softmax'))\n",
    "model.summary()"
   ]
  },
  {
   "cell_type": "code",
   "execution_count": null,
   "id": "497599fd-4590-4c3d-9725-2911cb40af3a",
   "metadata": {},
   "outputs": [],
   "source": [
    "model.compile(optimizer='adam',loss='categorical_crossentropy',metrics=['accuracy'])"
   ]
  },
  {
   "cell_type": "code",
   "execution_count": null,
   "id": "6f9ab61b-72f3-4a2e-8d72-2210371330aa",
   "metadata": {},
   "outputs": [],
   "source": [
    "model.fit(train_data,batch_size=16,epochs=10, validation_data=test_data)"
   ]
  },
  {
   "cell_type": "code",
   "execution_count": null,
   "id": "9a0ed640-0e13-4cdf-96f7-4936b6f80dcd",
   "metadata": {},
   "outputs": [],
   "source": [
    "train_data1 = ImageDataGenerator(rescale=1/255,\n",
    "                                    fill_mode='reflect',\n",
    "                                    height_shift_range=0.2,\n",
    "                                    rotation_range=45,\n",
    "                                    width_shift_range=0.2,\n",
    "                                    horizontal_flip=True,\n",
    "                                    shear_range=0.2,\n",
    "                                    zoom_range=0.2).flow_from_directory(train_dir,target_size=(128,128),batch_size=32,class_mode='categorical')"
   ]
  },
  {
   "cell_type": "markdown",
   "id": "0933dd47-b881-4f90-9d1a-258727127e98",
   "metadata": {},
   "source": [
    "test_data1 = ImageDataGenerator(rescale=1/255,\n",
    "                                fill_mode='reflect',\n",
    "                                height_shift_range=0.2,\n",
    "                                width_shift_range=0.2,\n",
    "                                rotation_range=45,\n",
    "                                shear_range=0.2,\n",
    "                                zoom_range=0.2,\n",
    "                                horizontal_flip=True).flow_from_directory(test_dir,batch_size=32,class_mode='categorical',target_size=(128,128))"
   ]
  },
  {
   "cell_type": "code",
   "execution_count": null,
   "id": "a140b493-1c7c-44aa-be27-642d0fac74e9",
   "metadata": {},
   "outputs": [],
   "source": [
    "test_data1 = ImageDataGenerator(rescale=1/255).flow_from_directory(test_dir,batch_size=32,class_mode='categorical',target_size=(128,128))"
   ]
  },
  {
   "cell_type": "code",
   "execution_count": null,
   "id": "056bd8cd-c243-47ed-b23d-a2a9ad812aa2",
   "metadata": {},
   "outputs": [],
   "source": [
    "model1 = Sequential([\n",
    "    Conv2D(64,3,activation='relu',input_shape=(128,128,3)),\n",
    "    MaxPool2D(2,2),\n",
    "    Conv2D(32,3,activation='relu'),\n",
    "    MaxPool2D(2,2),\n",
    "    Flatten(),\n",
    "    Dense(128,activation='relu'),\n",
    "    Dense(5,activation='softmax')\n",
    "])"
   ]
  },
  {
   "cell_type": "code",
   "execution_count": null,
   "id": "db73fe8a-0aca-4351-8560-397265f856ce",
   "metadata": {},
   "outputs": [],
   "source": [
    "model1.summary()"
   ]
  },
  {
   "cell_type": "code",
   "execution_count": null,
   "id": "96da799f-c690-4cb4-ae4c-2ebb434c18fb",
   "metadata": {},
   "outputs": [],
   "source": [
    "keras_callback = [EarlyStopping(monitor='val_loss',min_delta=0.1,mode='min',patience=5,),\n",
    "                  ModelCheckpoint('best_model.keras',monitor='val_loss',save_best_only=True)]"
   ]
  },
  {
   "cell_type": "code",
   "execution_count": null,
   "id": "bdbb770d-0ca1-409c-92f5-3ef0da893a16",
   "metadata": {},
   "outputs": [],
   "source": [
    "model.compile(optimizer='adam',loss='categorical_crossentropy',metrics=['accuracy'])"
   ]
  },
  {
   "cell_type": "code",
   "execution_count": null,
   "id": "11723da9-a827-4e3d-8906-79472990dcad",
   "metadata": {},
   "outputs": [],
   "source": [
    "model.fit(train_data1,batch_size=16,epochs=10,validation_data=test_data1,callbacks=keras_callback)"
   ]
  },
  {
   "cell_type": "code",
   "execution_count": null,
   "id": "41a132d4-63fe-4090-b960-a76f45b54853",
   "metadata": {},
   "outputs": [],
   "source": [
    "model.fit(train_data1,batch_size=16,epochs=10,validation_data=test_data1,callbacks=keras_callback)"
   ]
  },
  {
   "cell_type": "markdown",
   "id": "5575ced0-1c83-41e3-a936-d432253f40fe",
   "metadata": {},
   "source": [
    "## Transfer Learning"
   ]
  },
  {
   "cell_type": "code",
   "execution_count": null,
   "id": "839ce3c3-7816-4ee7-9f63-65a5628da024",
   "metadata": {},
   "outputs": [],
   "source": [
    "cust_model = tf.keras.models.load_model(\"best_model.keras\")"
   ]
  },
  {
   "cell_type": "code",
   "execution_count": null,
   "id": "4db1a6d8-1634-4f9e-9bea-02097e050e9d",
   "metadata": {},
   "outputs": [],
   "source": [
    "cust_model.summary()"
   ]
  },
  {
   "cell_type": "code",
   "execution_count": null,
   "id": "8ac99516-662a-4b88-ac94-30003c789728",
   "metadata": {},
   "outputs": [],
   "source": [
    "cust_model.trainable = False"
   ]
  },
  {
   "cell_type": "code",
   "execution_count": null,
   "id": "0bed5c7b-da4a-4524-9bb4-516dc0a82adc",
   "metadata": {},
   "outputs": [],
   "source": [
    "cust_model.outputs"
   ]
  },
  {
   "cell_type": "code",
   "execution_count": null,
   "id": "ea7e17eb-709c-413a-ac07-3f8bc61c269c",
   "metadata": {},
   "outputs": [],
   "source": [
    "cust_model.inputs"
   ]
  },
  {
   "cell_type": "code",
   "execution_count": null,
   "id": "48545891-abb6-4066-a1d3-46322a62e231",
   "metadata": {},
   "outputs": [],
   "source": [
    "x = GlobalAveragePooling2D()(cust_model.outputs)\n",
    "output = Dense(5,'softmax')(x)"
   ]
  },
  {
   "cell_type": "code",
   "execution_count": null,
   "id": "82a5b578-6db5-477e-935a-3b39b3ae9034",
   "metadata": {},
   "outputs": [],
   "source": [
    "model2 = tf.keras.Model(inputs=cust_model.inputs,outputs=cust_model.outputs)"
   ]
  },
  {
   "cell_type": "code",
   "execution_count": null,
   "id": "5642deef-aeff-4d01-9e97-3dc099010cb0",
   "metadata": {},
   "outputs": [],
   "source": [
    "model2.summary()"
   ]
  },
  {
   "cell_type": "markdown",
   "id": "3e1e1e3f-eb0b-4f3c-8188-685b8f51dd53",
   "metadata": {},
   "source": [
    "## Segmentation"
   ]
  },
  {
   "cell_type": "code",
   "execution_count": null,
   "id": "9bf18aed-323a-42a0-b2cf-a235a1a7143b",
   "metadata": {},
   "outputs": [],
   "source": [
    "# required before importing segmentation_models\n",
    "%env SM_FRAMEWORK=tf.keras"
   ]
  },
  {
   "cell_type": "code",
   "execution_count": null,
   "id": "99a5d027-f5b4-4d8d-819f-8b52ca4e597d",
   "metadata": {},
   "outputs": [],
   "source": [
    "import os\n",
    "import cv2\n",
    "from PIL import Image\n",
    "import tensorflow as tf\n",
    "import numpy as np\n",
    "from matplotlib import pyplot as plt\n",
    "import segmentation_models as sm\n",
    "from sklearn.model_selection import train_test_split\n",
    "from PIL import Image\n",
    "from tensorflow.keras.utils import normalize"
   ]
  },
  {
   "cell_type": "code",
   "execution_count": null,
   "id": "7e9a45bf-b1bf-4e37-a2c2-93bdaf742058",
   "metadata": {},
   "outputs": [],
   "source": [
    "# hint : uncomment  below to fetch path\n",
    "image_dir='Unet_Dataset/CXR_png/'\n",
    "mask_dir='Unet_Dataset/masks/'"
   ]
  },
  {
   "cell_type": "code",
   "execution_count": null,
   "id": "1b5d8bc7-df1b-4551-8cc9-3eadfb52c327",
   "metadata": {},
   "outputs": [],
   "source": [
    "SIZE=128"
   ]
  },
  {
   "cell_type": "code",
   "execution_count": null,
   "id": "d523da1a-662d-4af1-b667-216c4dd34427",
   "metadata": {},
   "outputs": [],
   "source": [
    "img_dataset = []\n",
    "mask_dataset = []"
   ]
  },
  {
   "cell_type": "code",
   "execution_count": null,
   "id": "d855eb46-60ef-4541-8cfe-da522e9fd1d8",
   "metadata": {},
   "outputs": [],
   "source": [
    "images = os.listdir(image_dir)\n",
    "\n",
    "for i, image_name in enumerate(images):\n",
    "    if (image_name.split('.')[1] == 'png'):\n",
    "        image = cv2.imread(image_dir+image_name,0)\n",
    "        image = Image.fromarray(image)\n",
    "        image = image.resize((SIZE,SIZE))\n",
    "        img_dataset.append(np.array(image))"
   ]
  },
  {
   "cell_type": "code",
   "execution_count": null,
   "id": "534fd625-6b80-4fae-9311-78170eeacc10",
   "metadata": {},
   "outputs": [],
   "source": [
    "images = os.listdir(mask_dir)\n",
    "\n",
    "for i, image_name in enumerate(images):\n",
    "    if (image_name.split('.')[1] == 'png'):\n",
    "        image = cv2.imread(mask_dir+image_name,0)\n",
    "        image = Image.fromarray(image)\n",
    "        image = image.resize((SIZE,SIZE))\n",
    "        mask_dataset.append(np.array(image))"
   ]
  },
  {
   "cell_type": "code",
   "execution_count": null,
   "id": "c7c4f90e-9915-40e2-a317-74264e12d44c",
   "metadata": {},
   "outputs": [],
   "source": [
    "print(len(img_dataset), len(mask_dataset))"
   ]
  },
  {
   "cell_type": "code",
   "execution_count": null,
   "id": "d53fbe2d-d10b-4542-b17d-671274becdd3",
   "metadata": {},
   "outputs": [],
   "source": [
    "img_dataset[0].shape"
   ]
  },
  {
   "cell_type": "code",
   "execution_count": null,
   "id": "6e050eed-0ce5-48d8-9fbc-14dc58233f47",
   "metadata": {},
   "outputs": [],
   "source": [
    "img_dataset = tf.keras.utils.normalize(img_dataset)\n",
    "mask_dataset = tf.keras.utils.normalize(mask_dataset)"
   ]
  },
  {
   "cell_type": "code",
   "execution_count": null,
   "id": "5a47840b-891e-418f-b260-1ee0b5ed8b5c",
   "metadata": {},
   "outputs": [],
   "source": [
    "fig, ax = plt.subplots(2,1)\n",
    "ax[0].imshow(img_dataset[0])\n",
    "ax[1].imshow(mask_dataset[0])\n",
    "plt.show()"
   ]
  },
  {
   "cell_type": "code",
   "execution_count": null,
   "id": "ee99fd8d-aa2a-4cbf-9c68-e4bb676170fa",
   "metadata": {},
   "outputs": [],
   "source": [
    "X_train, X_test, y_train, y_test = train_test_split(img_dataset,mask_dataset,test_size=0.20,random_state=42)"
   ]
  },
  {
   "cell_type": "code",
   "execution_count": null,
   "id": "d0c6678b-6c91-4dee-b0cf-6fa1523aab85",
   "metadata": {},
   "outputs": [],
   "source": [
    "BACKBONE = 'resnet34'\n",
    "preprocess_input = sm.get_preprocessing(BACKBONE)"
   ]
  },
  {
   "cell_type": "code",
   "execution_count": null,
   "id": "9ad8aea7-890f-4c5e-b01d-7ce79f92515b",
   "metadata": {},
   "outputs": [],
   "source": [
    "X_train_prepr = preprocess_input(X_train)\n",
    "X_test_prepr = preprocess_input(X_test)"
   ]
  },
  {
   "cell_type": "code",
   "execution_count": null,
   "id": "964c7557-c2cb-46ce-bd93-143c332ecbd4",
   "metadata": {},
   "outputs": [],
   "source": [
    "model= sm.Unet(BACKBONE, input_shape=(128,128,1),\n",
    "                                encoder_weights=None, classes=1, activation='sigmoid')"
   ]
  },
  {
   "cell_type": "code",
   "execution_count": null,
   "id": "3986e613-45de-4eda-93cc-c9e16ed8e9e8",
   "metadata": {},
   "outputs": [],
   "source": [
    "model.summary()"
   ]
  },
  {
   "cell_type": "code",
   "execution_count": null,
   "id": "b4001c9f-0733-473f-ad5a-fca7eaf92666",
   "metadata": {},
   "outputs": [],
   "source": [
    "model.compile(optimizer='Adam', loss=sm.losses.bce_jaccard_loss, metrics=[sm.metrics.iou_score])"
   ]
  },
  {
   "cell_type": "code",
   "execution_count": null,
   "id": "dd1ebcd4-bc43-4058-8d10-f39897417c62",
   "metadata": {},
   "outputs": [],
   "source": [
    "model.fit(X_train_prepr, y_train, batch_size=2, epochs=50, validation_data=(X_test_prepr, y_test))"
   ]
  },
  {
   "cell_type": "code",
   "execution_count": null,
   "id": "ed0efc20-8e40-497b-bedd-070aed642e92",
   "metadata": {},
   "outputs": [],
   "source": [
    "output = model.predict(X_test_prepr)\n",
    "output.shape"
   ]
  },
  {
   "cell_type": "code",
   "execution_count": null,
   "id": "283534a5-0f60-44fa-a275-a60d9b232a23",
   "metadata": {},
   "outputs": [],
   "source": [
    "plt.imshow(output[1])"
   ]
  },
  {
   "cell_type": "code",
   "execution_count": null,
   "id": "457c9f1c-326f-47dd-85e1-a8135b4b8872",
   "metadata": {},
   "outputs": [],
   "source": [
    "plt.imshow(y_test[1])"
   ]
  }
 ],
 "metadata": {
  "kernelspec": {
   "display_name": "Python 3 (ipykernel)",
   "language": "python",
   "name": "python3"
  },
  "language_info": {
   "codemirror_mode": {
    "name": "ipython",
    "version": 3
   },
   "file_extension": ".py",
   "mimetype": "text/x-python",
   "name": "python",
   "nbconvert_exporter": "python",
   "pygments_lexer": "ipython3",
   "version": "3.11.7"
  }
 },
 "nbformat": 4,
 "nbformat_minor": 5
}
