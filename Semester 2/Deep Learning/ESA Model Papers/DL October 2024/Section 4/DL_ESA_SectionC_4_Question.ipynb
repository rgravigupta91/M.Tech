{
 "cells": [
  {
   "cell_type": "markdown",
   "metadata": {},
   "source": [
    "### Oct 2024: END SEMESTER ASSESSMENT (ESA) \n",
    "## M TECH DATA SCIENCE AND MACHINE LEARNING_ SEMESTER II\n",
    "\n",
    "### UE20CS935: Introduction to Deep Learning and Applications\n"
   ]
  },
  {
   "cell_type": "markdown",
   "metadata": {},
   "source": [
    "#### Section C: Question 4:\n",
    "\n",
    "Use the Transfer learning technique to improve the previous section model’s classification performance. \n",
    "The pre-trained models weights are given to you. The architecture of pre-trained model till convolution layers and its corresponding weights are already saved under the folder ‘base_model’. The given model convolution layers already freezed. (Note: This pre-trained model provided is MobileNet).\n",
    "\n",
    "Load these weights along with architecture using the following syntax:\n",
    "\n",
    "cust_model=tf.keras.models.load_model(\"base_model\") \n",
    "\n",
    "“base_model” is the folder name under all the required models files are exist. \n",
    "\n",
    "Design the remaining layers of network in your own way (from flattening to output layer) and train only its weights with the dataset given.\n"
   ]
  },
  {
   "cell_type": "code",
   "execution_count": null,
   "metadata": {
    "id": "_BoEj2h2d8wT"
   },
   "outputs": [],
   "source": [
    "import tensorflow as tf\n",
    "from tensorflow.keras.preprocessing.image import ImageDataGenerator\n",
    "from tensorflow.keras.models import Sequential\n",
    "from tensorflow.keras.layers import Conv2D, MaxPool2D, Flatten, Dense, GlobalAveragePooling2D\n",
    "from tensorflow.keras.callbacks import EarlyStopping, ModelCheckpoint\n",
    "import os\n",
    "os.environ[\"CUDA_DEVICE_ORDER\"]=\"PCI_BUS_ID\"\n",
    "os.environ[\"CUDA_VISIBLE_DEVICES\"]=\"0\""
   ]
  },
  {
   "cell_type": "code",
   "execution_count": null,
   "metadata": {},
   "outputs": [],
   "source": [
    "train_dir=\"garbage_classes/train\"\n",
    "test_dir=\"garbage_classes/test\""
   ]
  },
  {
   "cell_type": "code",
   "execution_count": null,
   "metadata": {},
   "outputs": [],
   "source": []
  },
  {
   "cell_type": "code",
   "execution_count": null,
   "metadata": {},
   "outputs": [],
   "source": []
  },
  {
   "cell_type": "code",
   "execution_count": null,
   "metadata": {
    "colab": {
     "base_uri": "https://localhost:8080/"
    },
    "id": "q-y440Asbddu",
    "outputId": "9d557046-54d7-49f2-b1e9-035dd656d3e0"
   },
   "outputs": [],
   "source": [
    "#Load the pre-trained model using the below command\n",
    "cust_model=tf.keras.models.load_model(\"base_model\")\n",
    "#cust_model.summary()"
   ]
  },
  {
   "cell_type": "code",
   "execution_count": null,
   "metadata": {},
   "outputs": [],
   "source": [
    "# load the model and add 2 layers\n",
    "#(1. do global Average pooling, 2. add the output layer )\n",
    "# add the input layer with image size (224,224,3) and then add the pre-trained model (Hint: Base_model(inputs,training=False))\n",
    "# do global Average pooling (Hint: tf.keras.layers.GlobalAveragePooling2D()(previous layer o/p))\n",
    "# add output layer\n",
    "# Create the model with [tf.keras.Model(inputs,outputs)]\n",
    "# Infer the model summary"
   ]
  },
  {
   "cell_type": "code",
   "execution_count": null,
   "metadata": {},
   "outputs": [],
   "source": [
    "# compile the model\n",
    "# Use model checkpoint to fetch the best model\n",
    "# fit the model to train data \n",
    "    #epochs=10,\n",
    "    #validation_data=test_data,\n",
    "    #callbacks=keras_callback"
   ]
  },
  {
   "cell_type": "code",
   "execution_count": null,
   "metadata": {},
   "outputs": [],
   "source": []
  },
  {
   "cell_type": "code",
   "execution_count": null,
   "metadata": {},
   "outputs": [],
   "source": []
  }
 ],
 "metadata": {
  "colab": {
   "name": "GL_DL_GA_Section_C-1.ipynb",
   "provenance": []
  },
  "kernelspec": {
   "display_name": "Python 3 (ipykernel)",
   "language": "python",
   "name": "python3"
  },
  "language_info": {
   "codemirror_mode": {
    "name": "ipython",
    "version": 3
   },
   "file_extension": ".py",
   "mimetype": "text/x-python",
   "name": "python",
   "nbconvert_exporter": "python",
   "pygments_lexer": "ipython3",
   "version": "3.10.12"
  }
 },
 "nbformat": 4,
 "nbformat_minor": 1
}
