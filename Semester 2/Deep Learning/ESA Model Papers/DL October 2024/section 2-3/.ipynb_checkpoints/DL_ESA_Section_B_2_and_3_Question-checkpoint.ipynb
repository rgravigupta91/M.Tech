{
 "cells": [
  {
   "cell_type": "markdown",
   "metadata": {},
   "source": [
    "### Mar 2024: END SEMESTER ASSESSMENT (ESA) \n",
    "## M TECH DATA SCIENCE AND MACHINE LEARNING_ SEMESTER II\n",
    "\n",
    "### UE20CS935: Introduction to Deep Learning and Applications\n"
   ]
  },
  {
   "cell_type": "markdown",
   "metadata": {},
   "source": [
    "#### Section B: Question No:2   (10 marks)\n",
    "Build a Convolution Neural Network to classify 6 classes of Indian food items.\n",
    "Dataset_Folder Name: Food classification. \n",
    "30 images are there in every food item folder, total number of images 180. \n",
    "\n",
    "Conditions to consider:\n",
    "\n",
    "--Parameters should not cross 300000\n",
    "\n",
    "--Should not use more than 4 layers (except input and output, including convolution and dense layers)\n",
    "\n",
    "--Use Adam Optimizer\n"
   ]
  },
  {
   "cell_type": "code",
   "execution_count": 1,
   "metadata": {},
   "outputs": [],
   "source": [
    "import tensorflow as tf\n",
    "from tensorflow.keras.models import Sequential\n",
    "from tensorflow.keras.layers import Conv2D, MaxPool2D, Flatten, Dense, GlobalAveragePooling2D, Dropout\n",
    "from tensorflow.keras.optimizers import Adam\n",
    "from tensorflow.keras.preprocessing.image import ImageDataGenerator\n",
    "from tensorflow.keras.callbacks import EarlyStopping, ModelCheckpoint\n",
    "import os\n",
    "os.environ[\"CUDA_DEVICE_ORDER\"]=\"PCI_BUS_ID\"\n",
    "os.environ[\"CUDA_VISIBLE_DEVICES\"]=\"0\""
   ]
  },
  {
   "cell_type": "code",
   "execution_count": 2,
   "metadata": {
    "id": "867-iFpmsb-o"
   },
   "outputs": [],
   "source": [
    "train_dir=\"Food classification/Train\"\n",
    "test_dir=\"Food classification/Test\""
   ]
  },
  {
   "cell_type": "code",
   "execution_count": null,
   "metadata": {},
   "outputs": [],
   "source": [
    "# Use ImageDataGenerator to scale the images and read the data from all subfolders\n",
    "#Hint: train_datagen=ImageDataGenerator(rescale=1/255.)\n",
    "#      train_data=train_datagen.flow_from_directory(train_dir,\n",
    "#                                             target_size=(128,128),\n",
    "#                                             batch_size=32,\n",
    "#                                             class_mode='categorical')\n",
    "# do the same for Test data"
   ]
  },
  {
   "cell_type": "code",
   "execution_count": null,
   "metadata": {},
   "outputs": [],
   "source": [
    "#create the sequestial model with 2-3 layers ov Conv2D and Pooling \n",
    "#Compile the model \n",
    "#Infer the model summary"
   ]
  },
  {
   "cell_type": "code",
   "execution_count": null,
   "metadata": {},
   "outputs": [],
   "source": [
    "# fit the model for train data and run it for 5 epoch"
   ]
  },
  {
   "cell_type": "code",
   "execution_count": null,
   "metadata": {},
   "outputs": [],
   "source": [
    "# evaluate the model for test data\n",
    "# Justify whether the model is overfitting or underfitting"
   ]
  },
  {
   "cell_type": "markdown",
   "metadata": {
    "id": "sZuIoo2L0uXM"
   },
   "source": [
    "#### Section B: Question No:3   (20 marks)\n",
    "\n",
    "Improve the baseline model (model build in question2) performance and save the weights of improved model\n",
    "\n",
    "Conditions to consider:\n",
    "\n",
    "- Apply Data Augmentation if required\n",
    "\n",
    "- No parameter limit\n",
    "\n",
    "- Can use any number of layers\n",
    "\n",
    "- Use any optimizers of your choice \n",
    "\n",
    "- Use early stopping and save best model callbacks\n"
   ]
  },
  {
   "cell_type": "code",
   "execution_count": 1,
   "metadata": {
    "colab": {
     "base_uri": "https://localhost:8080/"
    },
    "id": "BDRTZ-t201ov",
    "outputId": "e5c91bb8-3775-4399-b6ea-62e12e2f0a7f"
   },
   "outputs": [],
   "source": [
    "# Perform data augmentation with the following operations to train data (feel free to choose the augmentation operations)\n",
    "# Hint: train_datagen=ImageDataGenerator(rescale=1/255.,\n",
    "#                                rotation_range=45,\n",
    "#                                width_shift_range=0.2,\n",
    "#                                height_shift_range=0.2,\n",
    "#                                shear_range=0.2,\n",
    "#                                zoom_range=0.2,\n",
    "#                                horizontal_flip=True,\n",
    "#                                fill_mode='reflect')\n",
    "\n",
    "\n",
    "# Scale the test data \n",
    "# Read the train and test data from directory\n",
    "#Hint: train_datagen.flow_from_directory\n"
   ]
  },
  {
   "cell_type": "code",
   "execution_count": 2,
   "metadata": {},
   "outputs": [
    {
     "ename": "NameError",
     "evalue": "name 'EarlyStopping' is not defined",
     "output_type": "error",
     "traceback": [
      "\u001b[0;31m---------------------------------------------------------------------------\u001b[0m",
      "\u001b[0;31mNameError\u001b[0m                                 Traceback (most recent call last)",
      "\u001b[0;32m/tmp/ipykernel_44703/1676234905.py\u001b[0m in \u001b[0;36m<module>\u001b[0;34m\u001b[0m\n\u001b[1;32m      3\u001b[0m \u001b[0;31m#Use callback to fetch the best model\u001b[0m\u001b[0;34m\u001b[0m\u001b[0;34m\u001b[0m\u001b[0m\n\u001b[1;32m      4\u001b[0m \u001b[0;34m\u001b[0m\u001b[0m\n\u001b[0;32m----> 5\u001b[0;31m keras_callback=[EarlyStopping(monitor='val_loss',mode='min',patience=5,min_delta=0.01),\n\u001b[0m\u001b[1;32m      6\u001b[0m                 ModelCheckpoint('flower_best_transfer_model',monitor='val_loss',save_best_only=True)]\n",
      "\u001b[0;31mNameError\u001b[0m: name 'EarlyStopping' is not defined"
     ]
    }
   ],
   "source": [
    "#create the sequestial model with 2-3 layers ov Conv2D and Pooling \n",
    "#Compile the model \n",
    "#Use callback to fetch the best model\n",
    "\n",
    "keras_callback=[EarlyStopping(monitor='val_loss',mode='min',patience=5,min_delta=0.01),\n",
    "                ModelCheckpoint('flower_best_transfer_model',monitor='val_loss',save_best_only=True)]\n"
   ]
  },
  {
   "cell_type": "code",
   "execution_count": 3,
   "metadata": {},
   "outputs": [],
   "source": [
    "#Infer the model summary\n",
    "# fit the model for train data and run it for 5 epoch\n"
   ]
  },
  {
   "cell_type": "code",
   "execution_count": null,
   "metadata": {},
   "outputs": [],
   "source": [
    "# evaluate the model for test data\n",
    "# Justify whether the model is improved then the earlier model"
   ]
  }
 ],
 "metadata": {
  "accelerator": "GPU",
  "colab": {
   "name": "GL_DL_GA_Section_B.ipynb",
   "provenance": []
  },
  "kernelspec": {
   "display_name": "Python 3 (ipykernel)",
   "language": "python",
   "name": "python3"
  },
  "language_info": {
   "codemirror_mode": {
    "name": "ipython",
    "version": 3
   },
   "file_extension": ".py",
   "mimetype": "text/x-python",
   "name": "python",
   "nbconvert_exporter": "python",
   "pygments_lexer": "ipython3",
   "version": "3.10.12"
  }
 },
 "nbformat": 4,
 "nbformat_minor": 1
}
