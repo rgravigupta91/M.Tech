{
 "cells": [
  {
   "cell_type": "markdown",
   "metadata": {},
   "source": [
    "#### Section B: Question No:2   (10 marks)\n",
    "Create a convolutional neural network from scratch. Please consider it as a baseline.\n",
    "Dataset is available under the folder “3_food_classes”.\n",
    "\n",
    "Conditions to consider:\n",
    "\n",
    "--Parameters should not cross 20000\n",
    "\n",
    "--Should not use more than 3 layers (except input and output)\n",
    "\n",
    "--Use optimizers like  Batch Gradient descent, mini-batch or stochastic\n"
   ]
  },
  {
   "cell_type": "code",
   "execution_count": 1,
   "metadata": {},
   "outputs": [],
   "source": [
    "import tensorflow as tf\n",
    "from tensorflow.keras.models import Sequential\n",
    "from tensorflow.keras.layers import Conv2D, MaxPool2D, Flatten, Dense, GlobalAveragePooling2D\n",
    "from tensorflow.keras.optimizers import Adam\n",
    "from tensorflow.keras.preprocessing.image import ImageDataGenerator\n",
    "from tensorflow.keras.callbacks import ModelCheckpoint"
   ]
  },
  {
   "cell_type": "code",
   "execution_count": 2,
   "metadata": {
    "id": "867-iFpmsb-o"
   },
   "outputs": [],
   "source": [
    "train_dir=\"3_food_classes/train/\"\n",
    "test_dir=\"3_food_classes/test/\""
   ]
  },
  {
   "cell_type": "code",
   "execution_count": null,
   "metadata": {},
   "outputs": [],
   "source": []
  },
  {
   "cell_type": "markdown",
   "metadata": {
    "id": "sZuIoo2L0uXM"
   },
   "source": [
    "#### Section B: Question No:3   (20 marks)\n",
    "Improve the baseline model performance and save the weights of improved model\n",
    "\n",
    "Conditions to consider:\n",
    "\n",
    "--Apply Data Augmentation\n",
    "\n",
    "--No parameter limit\n",
    "\n",
    "--Can use more than 3 (except input and output)\n",
    "\n",
    "--Use any optimizers of your choice \n",
    "\n",
    "--Use callbacks to save the best model weights\n",
    "\n",
    "\n"
   ]
  },
  {
   "cell_type": "code",
   "execution_count": null,
   "metadata": {},
   "outputs": [],
   "source": []
  }
 ],
 "metadata": {
  "accelerator": "GPU",
  "colab": {
   "name": "GL_DL_GA_Section_B.ipynb",
   "provenance": []
  },
  "kernelspec": {
   "display_name": "Python 3 (ipykernel)",
   "language": "python",
   "name": "python3"
  },
  "language_info": {
   "codemirror_mode": {
    "name": "ipython",
    "version": 3
   },
   "file_extension": ".py",
   "mimetype": "text/x-python",
   "name": "python",
   "nbconvert_exporter": "python",
   "pygments_lexer": "ipython3",
   "version": "3.9.12"
  }
 },
 "nbformat": 4,
 "nbformat_minor": 1
}
