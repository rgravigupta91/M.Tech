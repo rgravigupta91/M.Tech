{
 "cells": [
  {
   "cell_type": "markdown",
   "id": "ea711aa4",
   "metadata": {},
   "source": [
    "#### Section C: Question 5:    (15 Marks)\n",
    "\n",
    "Develop a Semantic segmentation model using Unet architecture on the given dataset.\n",
    "\n",
    "Dataset contains the images and the corresponding masks. Find the dataset under the folder “Unet_Dataset”. Note that the masks are binary. Define the architecture accordingly.\n",
    "\n",
    "Students can make use of pre-trained Unet segmentation model using the library\n",
    "\n",
    "import segmentation_models as sm\n",
    "\n",
    "Hints\n",
    "\n",
    "1. Load all the images in one array of size 150x128x128x3\n",
    "    Where 150 is total number of trained images\n",
    "    128x128x3 is each image size\n",
    "2. Load all the masks in one array of size 150x128x128x1\n",
    "3. Scale both the above two arrays\n",
    "4. Split the data into train and test\n",
    "5. Define the pre-trained segmentation model\n",
    "6. Compile with appropriate loss and metric and fit the data into it.\n",
    "\n",
    "Run the model for minimum 5 epochs and present your result. The solution will be evaluated based on approach only as it take lot of epochs to produce good result. \n"
   ]
  },
  {
   "cell_type": "code",
   "execution_count": 3,
   "id": "580775c8",
   "metadata": {},
   "outputs": [
    {
     "name": "stdout",
     "output_type": "stream",
     "text": [
      "Segmentation Models: using `tf.keras` framework.\n"
     ]
    }
   ],
   "source": [
    "import os\n",
    "import cv2\n",
    "from PIL import Image\n",
    "import tensorflow as tf\n",
    "import numpy as np\n",
    "from matplotlib import pyplot as plt\n",
    "import segmentation_models as sm\n",
    "from sklearn.model_selection import train_test_split"
   ]
  },
  {
   "cell_type": "code",
   "execution_count": 4,
   "id": "8ae8c68c",
   "metadata": {},
   "outputs": [],
   "source": [
    "image_dir='Unet_Dataset/images/'\n",
    "\n",
    "mask_dir='Unet_Dataset/MASKS_BW/'"
   ]
  },
  {
   "cell_type": "code",
   "execution_count": null,
   "id": "6c862de6",
   "metadata": {},
   "outputs": [],
   "source": []
  }
 ],
 "metadata": {
  "kernelspec": {
   "display_name": "Python 3 (ipykernel)",
   "language": "python",
   "name": "python3"
  },
  "language_info": {
   "codemirror_mode": {
    "name": "ipython",
    "version": 3
   },
   "file_extension": ".py",
   "mimetype": "text/x-python",
   "name": "python",
   "nbconvert_exporter": "python",
   "pygments_lexer": "ipython3",
   "version": "3.9.12"
  }
 },
 "nbformat": 4,
 "nbformat_minor": 5
}
