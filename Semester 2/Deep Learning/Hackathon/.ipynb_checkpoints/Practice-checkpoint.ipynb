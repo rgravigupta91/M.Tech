{
 "cells": [
  {
   "cell_type": "code",
   "execution_count": 4,
   "id": "e96f946c-e62e-4b5f-aed7-639ac7b170c4",
   "metadata": {},
   "outputs": [],
   "source": [
    "import pandas as pd\n",
    "import numpy as np\n",
    "import matplotlib.pyplot as plt\n",
    "%matplotlib inline"
   ]
  },
  {
   "cell_type": "code",
   "execution_count": 5,
   "id": "0c50c86c-856f-4875-af7a-bc8753a54d1a",
   "metadata": {},
   "outputs": [],
   "source": [
    "data = pd.read_csv('train.csv')"
   ]
  },
  {
   "cell_type": "code",
   "execution_count": 6,
   "id": "77037f00-eed8-4b00-8daf-f4f8229be2d0",
   "metadata": {},
   "outputs": [],
   "source": [
    "X = []\n",
    "\n",
    "for img in data.file_id:\n",
    "  image = plt.imread('./images/train/'+str(img)+'.jpg')\n",
    "  X.append(image)"
   ]
  },
  {
   "cell_type": "code",
   "execution_count": 8,
   "id": "31a67aab-8b07-445d-ad29-8e7d7d83c1ce",
   "metadata": {},
   "outputs": [
    {
     "ename": "MemoryError",
     "evalue": "Unable to allocate 1.72 GiB for an array with shape (1709, 600, 600, 3) and data type uint8",
     "output_type": "error",
     "traceback": [
      "\u001b[1;31m---------------------------------------------------------------------------\u001b[0m",
      "\u001b[1;31mMemoryError\u001b[0m                               Traceback (most recent call last)",
      "Cell \u001b[1;32mIn[8], line 1\u001b[0m\n\u001b[1;32m----> 1\u001b[0m X \u001b[38;5;241m=\u001b[39m np\u001b[38;5;241m.\u001b[39marray(X)\n",
      "\u001b[1;31mMemoryError\u001b[0m: Unable to allocate 1.72 GiB for an array with shape (1709, 600, 600, 3) and data type uint8"
     ]
    }
   ],
   "source": [
    "X = np.array(X)"
   ]
  },
  {
   "cell_type": "code",
   "execution_count": null,
   "id": "a90d6db8-bab1-440e-885e-fad27c1514bf",
   "metadata": {},
   "outputs": [],
   "source": [
    "a = X.reshape(1)"
   ]
  }
 ],
 "metadata": {
  "kernelspec": {
   "display_name": "Python 3 (ipykernel)",
   "language": "python",
   "name": "python3"
  },
  "language_info": {
   "codemirror_mode": {
    "name": "ipython",
    "version": 3
   },
   "file_extension": ".py",
   "mimetype": "text/x-python",
   "name": "python",
   "nbconvert_exporter": "python",
   "pygments_lexer": "ipython3",
   "version": "3.11.7"
  }
 },
 "nbformat": 4,
 "nbformat_minor": 5
}
