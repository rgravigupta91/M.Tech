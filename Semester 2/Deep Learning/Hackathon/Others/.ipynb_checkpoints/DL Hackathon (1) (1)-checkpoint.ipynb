{
 "cells": [
  {
   "cell_type": "code",
   "execution_count": null,
   "id": "3d68e1d8",
   "metadata": {
    "execution": {
     "iopub.execute_input": "2024-12-21T12:35:52.261281Z",
     "iopub.status.busy": "2024-12-21T12:35:52.260910Z",
     "iopub.status.idle": "2024-12-21T12:35:56.765120Z",
     "shell.execute_reply": "2024-12-21T12:35:56.764467Z",
     "shell.execute_reply.started": "2024-12-21T12:35:52.261238Z"
    }
   },
   "outputs": [],
   "source": [
    "import warnings\n",
    "\n",
    "import os\n",
    "import numpy as np\n",
    "import pandas as pd\n",
    "import torch\n",
    "import torch.nn as nn\n",
    "import torch.optim as optim\n",
    "\n",
    "from tqdm import tqdm\n",
    "from torchvision import transforms, models\n",
    "from torch.utils.data import Dataset, DataLoader\n",
    "from sklearn.model_selection import train_test_split\n",
    "from torch.optim.lr_scheduler import ReduceLROnPlateau\n",
    "from torchvision.models import ResNet50_Weights\n",
    "from sklearn.utils.class_weight import compute_class_weight\n",
    "from PIL import Image\n",
    "\n",
    "warnings.filterwarnings('ignore')"
   ]
  },
  {
   "cell_type": "code",
   "execution_count": null,
   "id": "1a7ddb80",
   "metadata": {
    "execution": {
     "iopub.execute_input": "2024-12-21T12:35:56.766210Z",
     "iopub.status.busy": "2024-12-21T12:35:56.765868Z",
     "iopub.status.idle": "2024-12-21T12:35:56.809074Z",
     "shell.execute_reply": "2024-12-21T12:35:56.808149Z",
     "shell.execute_reply.started": "2024-12-21T12:35:56.766178Z"
    }
   },
   "outputs": [],
   "source": [
    "# Device Configuration\n",
    "device = torch.device(\"cuda\" if torch.cuda.is_available() else \"cpu\")"
   ]
  },
  {
   "cell_type": "code",
   "execution_count": null,
   "id": "72f6042b-d5b1-42bc-80cd-2059c677cddb",
   "metadata": {
    "execution": {
     "iopub.execute_input": "2024-12-21T12:35:56.810130Z",
     "iopub.status.busy": "2024-12-21T12:35:56.809870Z",
     "iopub.status.idle": "2024-12-21T12:35:56.822981Z",
     "shell.execute_reply": "2024-12-21T12:35:56.822359Z",
     "shell.execute_reply.started": "2024-12-21T12:35:56.810097Z"
    }
   },
   "outputs": [],
   "source": [
    "device"
   ]
  },
  {
   "cell_type": "code",
   "execution_count": null,
   "id": "8d9b4da3",
   "metadata": {},
   "outputs": [],
   "source": [
    "# # Paths\n",
    "train_csv = 'Train Data.csv'\n",
    "train_images_dir = 'train'\n",
    "test_csv = 'Test Data.csv'\n",
    "test_images_dir = 'test'"
   ]
  },
  {
   "cell_type": "code",
   "execution_count": null,
   "id": "62de08c5",
   "metadata": {
    "execution": {
     "iopub.execute_input": "2024-12-21T12:35:56.835354Z",
     "iopub.status.busy": "2024-12-21T12:35:56.835132Z",
     "iopub.status.idle": "2024-12-21T12:35:56.842910Z",
     "shell.execute_reply": "2024-12-21T12:35:56.842273Z",
     "shell.execute_reply.started": "2024-12-21T12:35:56.835335Z"
    }
   },
   "outputs": [],
   "source": [
    "class SingleFolderDataset(Dataset):\n",
    "    def __init__(self, csv_file, root_dir, transform=None):\n",
    "        self.data = pd.read_csv(csv_file)\n",
    "        self.root_dir = root_dir\n",
    "        self.transform = transform\n",
    "\n",
    "    def __len__(self):\n",
    "        return len(self.data)\n",
    "    \n",
    "    def get_label(self):\n",
    "        return self.data['label']\n",
    "\n",
    "    def __getitem__(self, idx):\n",
    "        file_id = self.data.iloc[idx, 0] \n",
    "        label = self.data.iloc[idx, 1]  \n",
    "\n",
    "        img_path = os.path.join(self.root_dir, f\"{file_id}.jpg\")\n",
    "\n",
    "        if not os.path.exists(img_path):\n",
    "            raise FileNotFoundError(f\"Image not found: {img_path}.jpg\")\n",
    "\n",
    "        image = Image.open(img_path).convert(\"RGB\")\n",
    "\n",
    "        if self.transform:\n",
    "            image = self.transform(image)\n",
    "\n",
    "        return image, torch.tensor(label, dtype=torch.long)\n",
    "\n",
    "\n",
    "class TestDataset(Dataset):\n",
    "    def __init__(self, csv_file, root_dir, transform=None):\n",
    "        self.data = pd.read_csv(csv_file)\n",
    "        self.root_dir = root_dir\n",
    "        self.transform = transform\n",
    "\n",
    "    def __len__(self):\n",
    "        return len(self.data)\n",
    "\n",
    "    def __getitem__(self, idx):\n",
    "        file_id = self.data.iloc[idx, 0]\n",
    "        img_path = os.path.join(self.root_dir, f\"{file_id}.jpg\")\n",
    "        image = Image.open(img_path).convert(\"RGB\")\n",
    "\n",
    "        if self.transform:\n",
    "            image = self.transform(image)\n",
    "\n",
    "        return image, file_id"
   ]
  },
  {
   "cell_type": "code",
   "execution_count": null,
   "id": "17427ea9",
   "metadata": {
    "execution": {
     "iopub.execute_input": "2024-12-21T12:35:56.843983Z",
     "iopub.status.busy": "2024-12-21T12:35:56.843718Z",
     "iopub.status.idle": "2024-12-21T12:35:56.858033Z",
     "shell.execute_reply": "2024-12-21T12:35:56.857351Z",
     "shell.execute_reply.started": "2024-12-21T12:35:56.843957Z"
    }
   },
   "outputs": [],
   "source": [
    "# # Transforms\n",
    "transform = transforms.Compose([\n",
    "    transforms.RandomResizedCrop(224),\n",
    "    transforms.ColorJitter(brightness=0.2, contrast=0.2, saturation=0.2, hue=0.1),\n",
    "    transforms.RandomRotation(10),\n",
    "    transforms.ToTensor(),\n",
    "    transforms.Normalize(mean=[0.485, 0.456, 0.406], std=[0.229, 0.224, 0.225])\n",
    "])"
   ]
  },
  {
   "cell_type": "code",
   "execution_count": null,
   "id": "f26958ac",
   "metadata": {
    "execution": {
     "iopub.execute_input": "2024-12-21T12:35:56.858973Z",
     "iopub.status.busy": "2024-12-21T12:35:56.858753Z",
     "iopub.status.idle": "2024-12-21T12:35:56.902454Z",
     "shell.execute_reply": "2024-12-21T12:35:56.901513Z",
     "shell.execute_reply.started": "2024-12-21T12:35:56.858954Z"
    }
   },
   "outputs": [],
   "source": [
    "# Split train.csv into training and validation sets\n",
    "train_data = pd.read_csv(train_csv)\n",
    "train_split, val_split = train_test_split(\n",
    "    train_data, \n",
    "    test_size=0.2, \n",
    "    stratify=train_data['label'],\n",
    "    random_state=0\n",
    ")\n",
    "\n",
    "# Save temporary CSVs for debugging\n",
    "train_split.to_csv('train_split.csv', index=False)\n",
    "val_split.to_csv('val_split.csv', index=False)\n",
    "\n",
    "# Dataset and DataLoader\n",
    "train_dataset = SingleFolderDataset(csv_file='train_split.csv', root_dir=train_images_dir, transform=transform)\n",
    "val_dataset = SingleFolderDataset(csv_file='val_split.csv', root_dir=train_images_dir, transform=transform)\n",
    "\n",
    "train_labels = train_dataset.get_label()\n",
    "\n",
    "train_loader = DataLoader(train_dataset, batch_size=32, shuffle=True)\n",
    "val_loader = DataLoader(val_dataset, batch_size=32, shuffle=False)\n",
    "\n",
    "dataloaders = {'train': train_loader, 'val': val_loader}"
   ]
  },
  {
   "cell_type": "code",
   "execution_count": null,
   "id": "bf42f76b",
   "metadata": {
    "execution": {
     "iopub.execute_input": "2024-12-21T12:35:56.903881Z",
     "iopub.status.busy": "2024-12-21T12:35:56.903526Z",
     "iopub.status.idle": "2024-12-21T12:35:58.220481Z",
     "shell.execute_reply": "2024-12-21T12:35:58.219788Z",
     "shell.execute_reply.started": "2024-12-21T12:35:56.903842Z"
    }
   },
   "outputs": [],
   "source": [
    "# Load Pre-Trained Model\n",
    "model = models.resnet50(weights=ResNet50_Weights.IMAGENET1K_V1, progress=True)\n",
    "model = model.to(device)\n",
    "\n",
    "# Modify the final layers for binary classification with 2 extra FC layers\n",
    "num_features = model.fc.in_features\n",
    "\n",
    "# 2 FCs with ReLU activation functions\n",
    "model.fc = nn.Sequential(\n",
    "    nn.Linear(num_features, 16),    # First FC layer\n",
    "    nn.ReLU(),                      # Activation\n",
    "    nn.Dropout(p=0.5),              # Dropout\n",
    "\n",
    "    nn.Linear(16, 2)                # Output layer (2 logits for binary classification)\n",
    ")\n",
    "\n",
    "\n",
    "# Move the model to the device (GPU/CPU)\n",
    "model = model.to(device)\n",
    "\n",
    "class_weights = compute_class_weight('balanced', classes=np.array([0, 1]), y=train_labels)\n",
    "class_weights = torch.tensor(class_weights, dtype=torch.float).to(device)\n",
    "criterion = nn.CrossEntropyLoss(weight=class_weights)\n",
    "\n",
    "# Loss Function and Optimiser\n",
    "criterion = nn.CrossEntropyLoss()\n",
    "\n",
    "# Fine-tune only the final fully connected layers (or the entire model if desired)\n",
    "optimizer = torch.optim.Adam(filter(lambda p: p.requires_grad, model.parameters()), lr=1e-4)\n",
    "\n",
    "# Scheduler\n",
    "scheduler = ReduceLROnPlateau(optimizer, mode='min', factor=0.1, patience=3)"
   ]
  },
  {
   "cell_type": "code",
   "execution_count": null,
   "id": "cf853116",
   "metadata": {
    "execution": {
     "iopub.execute_input": "2024-12-21T12:35:58.221569Z",
     "iopub.status.busy": "2024-12-21T12:35:58.221263Z",
     "iopub.status.idle": "2024-12-21T12:35:58.227156Z",
     "shell.execute_reply": "2024-12-21T12:35:58.226261Z",
     "shell.execute_reply.started": "2024-12-21T12:35:58.221540Z"
    }
   },
   "outputs": [],
   "source": [
    "model.fc"
   ]
  },
  {
   "cell_type": "code",
   "execution_count": null,
   "id": "c9d9ab7a",
   "metadata": {
    "execution": {
     "iopub.execute_input": "2024-12-21T12:35:58.228155Z",
     "iopub.status.busy": "2024-12-21T12:35:58.227887Z",
     "iopub.status.idle": "2024-12-21T12:35:58.240438Z",
     "shell.execute_reply": "2024-12-21T12:35:58.239642Z",
     "shell.execute_reply.started": "2024-12-21T12:35:58.228132Z"
    }
   },
   "outputs": [],
   "source": [
    "# Training Function\n",
    "def train_model(model, dataloaders, criterion, optimizer, num_epochs):\n",
    "    best_model_wts = model.state_dict()\n",
    "    best_val_loss = float('inf')\n",
    "\n",
    "    # Early Stopping Parameters\n",
    "    patience = 10\n",
    "    best_val_acc = 0\n",
    "    epochs_without_improvement = 0\n",
    "    early_stopping_threshold = 0.01\n",
    "\n",
    "    for epoch in range(num_epochs):\n",
    "        print(f\"Epoch {epoch + 1}/{num_epochs}\")\n",
    "        print(\"-\" * 10)\n",
    "        \n",
    "        for phase in ['train', 'val']:\n",
    "            if phase == 'train':\n",
    "                model.train()\n",
    "                dataloader = dataloaders['train']\n",
    "            else:\n",
    "                model.eval()\n",
    "                dataloader = dataloaders['val']\n",
    "            \n",
    "            running_loss = 0.0\n",
    "            running_corrects = 0\n",
    "\n",
    "            with tqdm(total=len(dataloaders[phase]), desc=f\"{phase.capitalize()} Progress\", unit=\"batch\") as pbar:\n",
    "                for inputs, labels in dataloader:\n",
    "                    inputs, labels = inputs.to(device), labels.to(device)\n",
    "                    optimizer.zero_grad()\n",
    "                    \n",
    "                    with torch.set_grad_enabled(phase == 'train'):\n",
    "                        outputs = model(inputs)\n",
    "                        _, preds = torch.max(outputs, 1)\n",
    "                        loss = criterion(outputs, labels)\n",
    "                        \n",
    "                        if phase == 'train':\n",
    "                            loss.backward()\n",
    "                            optimizer.step()\n",
    "                    \n",
    "                    running_loss += loss.item() * inputs.size(0)\n",
    "                    running_corrects += torch.sum(preds == labels.data)\n",
    "    \n",
    "                    # Update the progress bar\n",
    "                    pbar.update(1)\n",
    "                \n",
    "                epoch_loss = running_loss / len(dataloader.dataset)\n",
    "                epoch_acc = running_corrects.double() / len(dataloader.dataset)\n",
    "                \n",
    "                print(f\"{phase} Loss: {epoch_loss:.4f} Acc: {epoch_acc:.4f}\")\n",
    "                \n",
    "                # Track the validation loss for the scheduler\n",
    "                if phase == 'val':\n",
    "                    validation_loss = epoch_loss \n",
    "                    scheduler.step(validation_loss)\n",
    "                    \n",
    "                    # Save the best model weights\n",
    "                    if validation_loss < best_val_loss:\n",
    "                        best_val_loss = validation_loss\n",
    "                        best_model_wts = model.state_dict()\n",
    "    \n",
    "                # Early Stopping condition\n",
    "                if phase == 'val':  # Only check early stopping for validation phase\n",
    "                    if epoch_acc > best_val_acc + early_stopping_threshold:\n",
    "                        best_val_acc = epoch_acc\n",
    "                        epochs_without_improvement = 0  # Reset counter if there's an improvement\n",
    "                    else:\n",
    "                        epochs_without_improvement += 1\n",
    "    \n",
    "                    # If no improvement for `patience` epochs, stop training\n",
    "                    if epochs_without_improvement >= patience:\n",
    "                        print(f\"Early stopping triggered. Validation accuracy did not improve for {patience} epochs.\")\n",
    "                        return model\n",
    "    \n",
    "    # Load the best model weights\n",
    "    model.load_state_dict(best_model_wts)\n",
    "    return model"
   ]
  },
  {
   "cell_type": "code",
   "execution_count": null,
   "id": "37b88457-0032-4f5a-a236-4a853b295908",
   "metadata": {
    "execution": {
     "iopub.execute_input": "2024-12-21T12:35:58.241996Z",
     "iopub.status.busy": "2024-12-21T12:35:58.241543Z",
     "iopub.status.idle": "2024-12-21T12:35:58.256905Z",
     "shell.execute_reply": "2024-12-21T12:35:58.256191Z",
     "shell.execute_reply.started": "2024-12-21T12:35:58.241960Z"
    }
   },
   "outputs": [],
   "source": [
    "device"
   ]
  },
  {
   "cell_type": "code",
   "execution_count": null,
   "id": "322b1f16",
   "metadata": {
    "execution": {
     "iopub.execute_input": "2024-12-21T12:35:58.257845Z",
     "iopub.status.busy": "2024-12-21T12:35:58.257589Z",
     "iopub.status.idle": "2024-12-21T12:54:58.964529Z",
     "shell.execute_reply": "2024-12-21T12:54:58.963697Z",
     "shell.execute_reply.started": "2024-12-21T12:35:58.257816Z"
    },
    "scrolled": false
   },
   "outputs": [],
   "source": [
    "# Train the Model\n",
    "dataloaders = {'train': train_loader, 'val': val_loader}\n",
    "model = train_model(model, dataloaders, criterion, optimizer, num_epochs=50)"
   ]
  },
  {
   "cell_type": "code",
   "execution_count": null,
   "id": "6d32327a",
   "metadata": {
    "execution": {
     "iopub.execute_input": "2024-12-21T12:54:59.116655Z",
     "iopub.status.busy": "2024-12-21T12:54:59.116426Z",
     "iopub.status.idle": "2024-12-21T12:54:59.126863Z",
     "shell.execute_reply": "2024-12-21T12:54:59.126049Z",
     "shell.execute_reply.started": "2024-12-21T12:54:59.116635Z"
    }
   },
   "outputs": [],
   "source": [
    "test_dataset = TestDataset(csv_file=test_csv, root_dir=test_images_dir, transform=transform)\n",
    "test_loader = DataLoader(test_dataset, batch_size=32, shuffle=False)"
   ]
  },
  {
   "cell_type": "code",
   "execution_count": null,
   "id": "a85e0ad6",
   "metadata": {
    "execution": {
     "iopub.execute_input": "2024-12-21T12:54:59.127828Z",
     "iopub.status.busy": "2024-12-21T12:54:59.127610Z",
     "iopub.status.idle": "2024-12-21T12:55:07.454381Z",
     "shell.execute_reply": "2024-12-21T12:55:07.453728Z",
     "shell.execute_reply.started": "2024-12-21T12:54:59.127809Z"
    }
   },
   "outputs": [],
   "source": [
    "# Prediction on Test Data\n",
    "model.eval()\n",
    "predictions = []\n",
    "\n",
    "with torch.no_grad():\n",
    "    for inputs, file_ids in test_loader:\n",
    "        inputs = inputs.to(device)\n",
    "        outputs = model(inputs)\n",
    "        _, preds = torch.max(outputs, 1)\n",
    "        predictions.extend(zip(file_ids, preds.cpu().numpy()))"
   ]
  },
  {
   "cell_type": "code",
   "execution_count": null,
   "id": "65ead56f",
   "metadata": {
    "execution": {
     "iopub.execute_input": "2024-12-21T12:55:07.455428Z",
     "iopub.status.busy": "2024-12-21T12:55:07.455120Z",
     "iopub.status.idle": "2024-12-21T12:55:07.461752Z",
     "shell.execute_reply": "2024-12-21T12:55:07.460984Z",
     "shell.execute_reply.started": "2024-12-21T12:55:07.455400Z"
    }
   },
   "outputs": [],
   "source": [
    "# Save Predictions to CSV\n",
    "test_results = pd.DataFrame(predictions, columns=['file_id', 'label'])\n",
    "test_results['file_id'] = [str(i).replace('tensor(', '').replace(')', '') for i in test_results['file_id']]\n",
    "test_results['file_id'] = [str(i).replace('.jpg', '') for i in test_results['file_id']]"
   ]
  },
  {
   "cell_type": "code",
   "execution_count": null,
   "id": "9102265e",
   "metadata": {
    "execution": {
     "iopub.execute_input": "2024-12-21T12:55:07.462733Z",
     "iopub.status.busy": "2024-12-21T12:55:07.462453Z",
     "iopub.status.idle": "2024-12-21T12:55:07.479637Z",
     "shell.execute_reply": "2024-12-21T12:55:07.478847Z",
     "shell.execute_reply.started": "2024-12-21T12:55:07.462704Z"
    }
   },
   "outputs": [],
   "source": [
    "test_results.head(2)"
   ]
  },
  {
   "cell_type": "code",
   "execution_count": null,
   "id": "5b6d59ad",
   "metadata": {
    "execution": {
     "iopub.execute_input": "2024-12-21T12:55:07.480495Z",
     "iopub.status.busy": "2024-12-21T12:55:07.480302Z",
     "iopub.status.idle": "2024-12-21T12:55:07.484950Z",
     "shell.execute_reply": "2024-12-21T12:55:07.484276Z",
     "shell.execute_reply.started": "2024-12-21T12:55:07.480478Z"
    }
   },
   "outputs": [],
   "source": [
    "test_results.to_csv('DL_Hackathon.csv', index=False)"
   ]
  },
  {
   "cell_type": "code",
   "execution_count": null,
   "id": "c3953986",
   "metadata": {},
   "outputs": [],
   "source": []
  }
 ],
 "metadata": {
  "kaggle": {
   "accelerator": "none",
   "dataSources": [
    {
     "datasetId": 6342626,
     "sourceId": 10253762,
     "sourceType": "datasetVersion"
    }
   ],
   "dockerImageVersionId": 30823,
   "isGpuEnabled": false,
   "isInternetEnabled": true,
   "language": "python",
   "sourceType": "notebook"
  },
  "kernelspec": {
   "display_name": "Python 3 (ipykernel)",
   "language": "python",
   "name": "python3"
  },
  "language_info": {
   "codemirror_mode": {
    "name": "ipython",
    "version": 3
   },
   "file_extension": ".py",
   "mimetype": "text/x-python",
   "name": "python",
   "nbconvert_exporter": "python",
   "pygments_lexer": "ipython3",
   "version": "3.11.7"
  }
 },
 "nbformat": 4,
 "nbformat_minor": 5
}
