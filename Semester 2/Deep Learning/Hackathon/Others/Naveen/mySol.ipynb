{
 "cells": [
  {
   "cell_type": "code",
   "execution_count": null,
   "id": "99ea1bc7-a71d-4611-bf18-81493ad125a5",
   "metadata": {},
   "outputs": [],
   "source": [
    "# Importing the libraries for the layers of CNN\n",
    "import tensorflow as tf\n",
    "from tensorflow.keras.models import Sequential\n",
    "from tensorflow.keras.layers import Conv2D,MaxPooling2D,Flatten,Dense"
   ]
  },
  {
   "cell_type": "code",
   "execution_count": null,
   "id": "70a81911-da2a-432b-ad80-8d180fe3f1d5",
   "metadata": {},
   "outputs": [],
   "source": [
    "from tensorflow.keras.preprocessing import image"
   ]
  },
  {
   "cell_type": "code",
   "execution_count": null,
   "id": "ad1ac1b6-6f5d-4a6c-95cf-6a1451e1d07f",
   "metadata": {},
   "outputs": [],
   "source": [
    "import matplotlib.pyplot as plt\n",
    "from skimage.transform import resize"
   ]
  },
  {
   "cell_type": "code",
   "execution_count": null,
   "id": "5f1c8edc-7c60-4bea-a561-60a4991aea5e",
   "metadata": {},
   "outputs": [],
   "source": [
    "from keras.layers import Dense, InputLayer, BatchNormalization, Dropout\n",
    "from keras.models import Sequential\n",
    "# importing adam optimizer from keras optimizer module \n",
    "from keras.optimizers import Adam\n",
    "\n",
    "# train_test_split to create training and validation set\n",
    "from sklearn.model_selection import train_test_split\n",
    "# accuracy_score to calculate the accuracy of predictions\n",
    "from sklearn.metrics import accuracy_score"
   ]
  },
  {
   "cell_type": "code",
   "execution_count": null,
   "id": "dcc924f0-6071-4351-a60a-171938220c30",
   "metadata": {},
   "outputs": [],
   "source": [
    "import pandas as pd\n",
    "import numpy as np"
   ]
  },
  {
   "cell_type": "code",
   "execution_count": null,
   "id": "a1352a9a-0f04-49ba-8109-cf1ca25108b1",
   "metadata": {},
   "outputs": [],
   "source": [
    "train_path=\"dataset/dataset/train/\"\n",
    "real_path=\"training_real/\"\n",
    "fake_path=\"training_fake/\""
   ]
  },
  {
   "cell_type": "code",
   "execution_count": null,
   "id": "8de85f6b-a0bc-4c35-80e5-ce8cacea6f0e",
   "metadata": {},
   "outputs": [],
   "source": [
    "train_df = pd.read_csv('train.csv')\n",
    "train_df.head()"
   ]
  },
  {
   "cell_type": "code",
   "execution_count": null,
   "id": "dc04e389-bdfa-4d67-b016-e95366dbf4a0",
   "metadata": {},
   "outputs": [],
   "source": [
    "training_image_list = list()"
   ]
  },
  {
   "cell_type": "code",
   "execution_count": null,
   "id": "a6fdd09f-46e1-42f0-b651-c007359e5588",
   "metadata": {},
   "outputs": [],
   "source": [
    "for idx in train_df.file_id:\n",
    "    if(idx <= 759):\n",
    "        img = plt.imread(train_path+fake_path + str(idx)+\".jpg\")\n",
    "    else:\n",
    "        img = plt.imread(train_path+real_path + str(idx)+\".jpg\")\n",
    "    resize_img = resize(img, output_shape=(175,175))\n",
    "    training_image_list.append(resize_img)"
   ]
  },
  {
   "cell_type": "code",
   "execution_count": null,
   "id": "bcc2e60b-430b-4217-8bd7-c6dfae117044",
   "metadata": {},
   "outputs": [],
   "source": [
    "image_list = np.array(training_image_list)\n",
    "image_list.shape"
   ]
  },
  {
   "cell_type": "code",
   "execution_count": null,
   "id": "b383c940-db49-43f1-8ff1-5ac6015f63b3",
   "metadata": {},
   "outputs": [],
   "source": [
    "#Normalization \n",
    "image_list = image_list/image_list.max()"
   ]
  },
  {
   "cell_type": "code",
   "execution_count": null,
   "id": "9d3d43c8-4895-403e-b149-f0b23a3f7799",
   "metadata": {},
   "outputs": [],
   "source": [
    "y = train_df['label']\n",
    "y.shape"
   ]
  },
  {
   "cell_type": "code",
   "execution_count": null,
   "id": "cd406a81-f88b-4bc8-b7c0-cec8eed71e19",
   "metadata": {},
   "outputs": [],
   "source": [
    "X=image_list"
   ]
  },
  {
   "cell_type": "code",
   "execution_count": null,
   "id": "cd700130-b73c-4afb-98c4-6e7fc7e03ba0",
   "metadata": {},
   "outputs": [],
   "source": [
    "X_train, X_test, y_train, y_test = train_test_split(X, y, test_size=0.3, random_state=42)"
   ]
  },
  {
   "cell_type": "code",
   "execution_count": null,
   "id": "43b361c7-c43c-4f69-8ad4-f69021c3615c",
   "metadata": {},
   "outputs": [],
   "source": [
    "print(X_train.shape, y_train.shape, X_test.shape, y_test.shape)"
   ]
  },
  {
   "cell_type": "code",
   "execution_count": null,
   "id": "81382c71-3081-436e-b9e0-c6c5f49d728a",
   "metadata": {},
   "outputs": [],
   "source": [
    "# defining the model architecture\n",
    "\n",
    "# creating a sequential model \n",
    "model = Sequential()\n",
    "    \n",
    "# defining input layer with 3D input of shape (224,224,3)\n",
    "model.add(InputLayer(shape=(200, 200, 3)))\n",
    "\n",
    "# defining the first convolutional layer with 25 filters of size (5,5)\n",
    "model.add(Conv2D(25, (5, 5), activation='relu', strides=(1, 1), padding='valid'))\n",
    "# defining the second convolutional layer with 50 filters of size (5,5)\n",
    "model.add(Conv2D(50, (5, 5), activation='relu', strides=(1, 1), padding='valid'))\n",
    "\n",
    "# flattening the output from convolutional layers so that it can be forwarded to the dense layers\n",
    "model.add(Flatten())\n",
    "\n",
    "# defining the first dense or fully connected layer with 100 neurons\n",
    "model.add(Dense(units=100, activation='sigmoid'))\n",
    "# defining the output layer with 1 neuron since it is a binary classification problem\n",
    "model.add(Dense(units=1, activation='sigmoid'))"
   ]
  },
  {
   "cell_type": "code",
   "execution_count": null,
   "id": "b44d7a80-e180-4fd7-aa05-f789249be9a2",
   "metadata": {},
   "outputs": [],
   "source": [
    "from tensorflow import keras\n",
    "from tensorflow.keras import layers\n",
    "data_augmentation = keras.Sequential(\n",
    "  [\n",
    "    layers.RandomFlip(\"horizontal\",\n",
    "                      input_shape=(100,\n",
    "                                  100,\n",
    "                                  3)),\n",
    "    #layers.RandomRotation(0.01),\n",
    "    layers.RandomZoom(0.1),\n",
    "  ])\n",
    "rescale = tf.keras.Sequential([\n",
    "  layers.Rescaling(1./255)\n",
    "])\n",
    "\n",
    "model = Sequential([\n",
    "  data_augmentation,\n",
    "  rescale,\n",
    "  layers.Conv2D(60, 3, padding='same', activation='relu'),\n",
    "  layers.BatchNormalization(),\n",
    "  layers.MaxPooling2D(),\n",
    "  layers.Conv2D(125, 3, padding='same', activation='relu'),\n",
    "  layers.Conv2D(125, 3, padding='same', activation='relu'),\n",
    "  layers.BatchNormalization(),\n",
    "  layers.MaxPooling2D(),\n",
    "  layers.Conv2D(250, 3, padding='same', activation='relu'),\n",
    "  layers.Conv2D(250, 3, padding='same', activation='relu'),\n",
    "  layers.BatchNormalization(),\n",
    "  layers.MaxPooling2D(),\n",
    "  layers.Conv2D(250, 3, padding='same', activation='relu'),\n",
    "  layers.Conv2D(250, 3, padding='same', activation='relu'),\n",
    "  layers.BatchNormalization(),\n",
    "  layers.MaxPooling2D(),\n",
    "  layers.Flatten(),\n",
    "  layers.Dense(300, activation='relu'),\n",
    "  layers.BatchNormalization(),\n",
    "  layers.Dropout(0.2),\n",
    "  layers.Dense(300, activation='relu'),\n",
    "  layers.BatchNormalization(),\n",
    "  layers.Dropout(0.2),\n",
    "  layers.Dense(1, activation='sigmoid')\n",
    "])"
   ]
  },
  {
   "cell_type": "code",
   "execution_count": null,
   "id": "91eba2b1-19a8-4755-8401-83b9380b3b5d",
   "metadata": {},
   "outputs": [],
   "source": [
    "model.summary()"
   ]
  },
  {
   "cell_type": "code",
   "execution_count": null,
   "id": "686eda51-29e9-46f1-aec0-047b5fe70e09",
   "metadata": {},
   "outputs": [],
   "source": [
    "# compiling the model\n",
    "model.compile(loss='binary_crossentropy', optimizer=\"sgd\", metrics=['accuracy'])"
   ]
  },
  {
   "cell_type": "code",
   "execution_count": null,
   "id": "0b6c66c1-ca0b-449a-b24d-4dfef2a4b66f",
   "metadata": {},
   "outputs": [],
   "source": [
    "# training the model\n",
    "model_history = model.fit(X_train, y_train, epochs=50, batch_size=128,validation_data=(X_test,y_test))"
   ]
  },
  {
   "cell_type": "code",
   "execution_count": null,
   "id": "f5ee6d85-8dc8-4257-af1c-b03db0dc0ba2",
   "metadata": {},
   "outputs": [],
   "source": []
  },
  {
   "cell_type": "code",
   "execution_count": null,
   "id": "d5176d52-8aaf-41ae-ba6b-32709712f42e",
   "metadata": {},
   "outputs": [],
   "source": [
    "from tensorflow.keras.applications import DenseNet121"
   ]
  },
  {
   "cell_type": "code",
   "execution_count": null,
   "id": "5a575b91-64a6-4871-a955-6c563cf5f53f",
   "metadata": {},
   "outputs": [],
   "source": [
    "dense_mod = DenseNet121(weights='imagenet', include_top=False, input_shape=(175,175,3))\n",
    "for layer in dense_mod.layers[-10:]:\n",
    "    layer.trainable=True"
   ]
  },
  {
   "cell_type": "code",
   "execution_count": null,
   "id": "98b84dfa-37ec-40ab-bc80-283ade4c6184",
   "metadata": {},
   "outputs": [],
   "source": [
    "x=dense_mod.output\n",
    "x=tf.keras.layers.GlobalAveragePooling2D()(x)\n",
    "x=tf.keras.layers.Dense(500, activation='relu')(x)\n",
    "predictions=tf.keras.layers.Dense(1, activation='sigmoid')(x)\n",
    "model1=tf.keras.Model(inputs=dense_mod.input, outputs=predictions)\n",
    "model1.compile(loss='binary_crossentropy', optimizer=\"sgd\", metrics=['accuracy'])\n"
   ]
  },
  {
   "cell_type": "code",
   "execution_count": null,
   "id": "63262f33-13a8-4079-9f7d-2bd24ff8efde",
   "metadata": {
    "scrolled": true
   },
   "outputs": [],
   "source": [
    "model1.summary()"
   ]
  },
  {
   "cell_type": "code",
   "execution_count": null,
   "id": "c4de3639-ddb2-4277-9114-54545bdb0bb3",
   "metadata": {},
   "outputs": [],
   "source": [
    "model1_history = model1.fit(X_train, y_train, epochs=18, batch_size=64,validation_data=(X_test,y_test))"
   ]
  },
  {
   "cell_type": "code",
   "execution_count": null,
   "id": "0f2fe262-4e78-4940-a2c5-627f78ae083a",
   "metadata": {},
   "outputs": [],
   "source": [
    "test_df = pd.read_csv(\"test.csv\")\n",
    "test_df.head()"
   ]
  },
  {
   "cell_type": "code",
   "execution_count": null,
   "id": "2ac06bbd-c92f-4dbb-a4b1-41e755235a52",
   "metadata": {},
   "outputs": [],
   "source": [
    "test_files_path = \"dataset/dataset/test/test/\""
   ]
  },
  {
   "cell_type": "code",
   "execution_count": null,
   "id": "65c55329-d01a-4830-b942-d077715054c4",
   "metadata": {},
   "outputs": [],
   "source": [
    "test_image_list = list()"
   ]
  },
  {
   "cell_type": "code",
   "execution_count": null,
   "id": "5a87bc87-668c-4098-8254-eaadc7a30cf6",
   "metadata": {},
   "outputs": [],
   "source": [
    "for idx in test_df.file_id:\n",
    "    img = plt.imread(test_files_path + str(idx)+\".jpg\")\n",
    "    resize_img = resize(img, output_shape=(175,175))\n",
    "    test_image_list.append(resize_img)"
   ]
  },
  {
   "cell_type": "code",
   "execution_count": null,
   "id": "b6163b92-cd85-4c37-82b6-2978c133f165",
   "metadata": {},
   "outputs": [],
   "source": [
    "test_image_list = np.array(test_image_list)\n",
    "test_image_list.shape"
   ]
  },
  {
   "cell_type": "code",
   "execution_count": null,
   "id": "793f777a-023d-4b8a-9a5b-513f0fed1e36",
   "metadata": {},
   "outputs": [],
   "source": [
    "#Normalization \n",
    "test_image_list = test_image_list/test_image_list.max()"
   ]
  },
  {
   "cell_type": "code",
   "execution_count": null,
   "id": "6f95287f-b0c2-4a39-a44b-516bca33fec4",
   "metadata": {},
   "outputs": [],
   "source": [
    "output_prob = model1.predict(test_image_list)"
   ]
  },
  {
   "cell_type": "code",
   "execution_count": null,
   "id": "83861766-de9d-43a9-98f5-a6668bdb9341",
   "metadata": {},
   "outputs": [],
   "source": [
    "test_image_list[0].shape"
   ]
  },
  {
   "cell_type": "code",
   "execution_count": null,
   "id": "59e23548-b724-4dbf-a943-a8446e7dd89a",
   "metadata": {},
   "outputs": [],
   "source": [
    "output_prob[31]"
   ]
  },
  {
   "cell_type": "code",
   "execution_count": null,
   "id": "6a9e387d-7ea1-480e-aeb8-8e99e8031e9b",
   "metadata": {},
   "outputs": [],
   "source": [
    "%matplotlib inline\n",
    "import matplotlib.pyplot as plt"
   ]
  },
  {
   "cell_type": "code",
   "execution_count": null,
   "id": "4830e01e-9f3a-4092-8c25-a6b0c82cddc4",
   "metadata": {},
   "outputs": [],
   "source": [
    "plt.imshow(test_image_list[42])\n",
    "plt.show()"
   ]
  },
  {
   "cell_type": "code",
   "execution_count": null,
   "id": "4ca1e832-faa8-4954-b423-ea639daf5db0",
   "metadata": {},
   "outputs": [],
   "source": [
    "output_df = pd.DataFrame({\"file_id\":test_df.file_id, \"label\":pd.Series()})"
   ]
  },
  {
   "cell_type": "code",
   "execution_count": null,
   "id": "e41b7eb8-5305-4fc9-b6d7-076941779a68",
   "metadata": {},
   "outputs": [],
   "source": [
    "for i in range(output_df.shape[0]):\n",
    "    output_df.loc[i, \"label\"] = 0 if output_prob[i] <0.93 else 1"
   ]
  },
  {
   "cell_type": "code",
   "execution_count": null,
   "id": "36aab501-5c7f-4827-a4f9-ea2d0a681352",
   "metadata": {},
   "outputs": [],
   "source": [
    "output_df.head(20)"
   ]
  },
  {
   "cell_type": "code",
   "execution_count": null,
   "id": "3022490a-65eb-4efc-bf5d-c542470e8f73",
   "metadata": {},
   "outputs": [],
   "source": [
    "output_df.to_csv(\"Output_3_93_per.csv\", index=False)"
   ]
  },
  {
   "cell_type": "code",
   "execution_count": null,
   "id": "d201d8fa-9c9d-4c5a-a564-3b75680c611e",
   "metadata": {},
   "outputs": [],
   "source": []
  }
 ],
 "metadata": {
  "kernelspec": {
   "display_name": "Python 3 (ipykernel)",
   "language": "python",
   "name": "python3"
  },
  "language_info": {
   "codemirror_mode": {
    "name": "ipython",
    "version": 3
   },
   "file_extension": ".py",
   "mimetype": "text/x-python",
   "name": "python",
   "nbconvert_exporter": "python",
   "pygments_lexer": "ipython3",
   "version": "3.12.8"
  }
 },
 "nbformat": 4,
 "nbformat_minor": 5
}
