{
 "cells": [
  {
   "cell_type": "code",
   "execution_count": 21,
   "id": "e96f946c-e62e-4b5f-aed7-639ac7b170c4",
   "metadata": {},
   "outputs": [],
   "source": [
    "import pandas as pd\n",
    "import numpy as np\n",
    "import matplotlib.pyplot as plt\n",
    "%matplotlib inline"
   ]
  },
  {
   "cell_type": "code",
   "execution_count": 22,
   "id": "0c50c86c-856f-4875-af7a-bc8753a54d1a",
   "metadata": {},
   "outputs": [],
   "source": [
    "data = pd.read_csv('train.csv')"
   ]
  },
  {
   "cell_type": "code",
   "execution_count": 23,
   "id": "2963b0ee-9b12-41fb-9d96-f03c3f43eced",
   "metadata": {},
   "outputs": [
    {
     "data": {
      "text/plain": [
       "(1709, 2)"
      ]
     },
     "execution_count": 23,
     "metadata": {},
     "output_type": "execute_result"
    }
   ],
   "source": [
    "data.shape"
   ]
  },
  {
   "cell_type": "code",
   "execution_count": 3,
   "id": "77037f00-eed8-4b00-8daf-f4f8229be2d0",
   "metadata": {},
   "outputs": [],
   "source": [
    "X = []\n",
    "\n",
    "for img in data.file_id:\n",
    "  image = plt.imread('./images/train/'+str(img)+'.jpg')\n",
    "  X.append(image)"
   ]
  },
  {
   "cell_type": "code",
   "execution_count": 4,
   "id": "31a67aab-8b07-445d-ad29-8e7d7d83c1ce",
   "metadata": {},
   "outputs": [],
   "source": [
    "A = np.array(X)"
   ]
  },
  {
   "cell_type": "code",
   "execution_count": 5,
   "id": "cae2a6f1-190e-4e0e-a734-62a8bdfeb019",
   "metadata": {},
   "outputs": [],
   "source": [
    "del X"
   ]
  },
  {
   "cell_type": "code",
   "execution_count": 6,
   "id": "2049824c-996d-4b0c-a881-2c31b29ac6da",
   "metadata": {},
   "outputs": [
    {
     "data": {
      "text/plain": [
       "(1709, 600, 600, 3)"
      ]
     },
     "execution_count": 6,
     "metadata": {},
     "output_type": "execute_result"
    }
   ],
   "source": [
    "A.shape"
   ]
  },
  {
   "cell_type": "code",
   "execution_count": null,
   "id": "9cfa4d9b-3553-431d-9122-45d9de3af16d",
   "metadata": {},
   "outputs": [],
   "source": [
    "a.shape"
   ]
  },
  {
   "cell_type": "code",
   "execution_count": null,
   "id": "1cff3407-39b4-4bac-96a2-cc88a3f5e578",
   "metadata": {},
   "outputs": [],
   "source": [
    "A = a.reshape(1709,600,600,3)"
   ]
  },
  {
   "cell_type": "code",
   "execution_count": 2,
   "id": "cd1f661b-7064-4d4e-9341-284a0686d438",
   "metadata": {},
   "outputs": [],
   "source": [
    "from PIL import Image\n",
    "image1 = Image.open(\"./images/train/1.jpg\")\n",
    "image2 = Image.open(\"./images/train/2.jpg\")\n",
    "\n",
    "#resize, first image\n",
    "#image1 = image1.resize((426, 240))\n",
    "image1_size = image1.size\n",
    "image2_size = image2.size\n",
    "new_image = Image.new(\"RGB\",(2*image1_size[0], image1_size[1]), (250,250,250))\n",
    "new_image.paste(image1,(0,0))\n",
    "new_image.paste(image2,(image1_size[0],1))\n",
    "new_image.save(\"./images/merged.jpg\")\n",
    "new_image.show()"
   ]
  },
  {
   "cell_type": "code",
   "execution_count": 24,
   "id": "7d65c637-7896-4b71-a80f-0e7478880dac",
   "metadata": {},
   "outputs": [],
   "source": [
    "image = plt.imread('./images/merged.jpg')"
   ]
  },
  {
   "cell_type": "code",
   "execution_count": 25,
   "id": "9d98610f-3f43-4158-9b4a-cb66e7caa9bc",
   "metadata": {},
   "outputs": [
    {
     "data": {
      "text/plain": [
       "numpy.ndarray"
      ]
     },
     "execution_count": 25,
     "metadata": {},
     "output_type": "execute_result"
    }
   ],
   "source": [
    "type(image)"
   ]
  },
  {
   "cell_type": "code",
   "execution_count": 26,
   "id": "81ef753f-96aa-4f36-b0f1-3964f9b930b4",
   "metadata": {},
   "outputs": [],
   "source": [
    "A = np.array(image)"
   ]
  },
  {
   "cell_type": "code",
   "execution_count": 27,
   "id": "96c8456d-4c63-4e77-a1ac-296282e3ecd4",
   "metadata": {},
   "outputs": [
    {
     "data": {
      "text/plain": [
       "numpy.ndarray"
      ]
     },
     "execution_count": 27,
     "metadata": {},
     "output_type": "execute_result"
    }
   ],
   "source": [
    "type(A)"
   ]
  },
  {
   "cell_type": "code",
   "execution_count": 28,
   "id": "9a542132-cb1a-4a8c-90d5-951629c05084",
   "metadata": {},
   "outputs": [
    {
     "data": {
      "text/plain": [
       "(600, 1200, 3)"
      ]
     },
     "execution_count": 28,
     "metadata": {},
     "output_type": "execute_result"
    }
   ],
   "source": [
    "A.shape"
   ]
  },
  {
   "cell_type": "code",
   "execution_count": 29,
   "id": "c20f41c9-9b1b-48df-a5af-de28f13d2180",
   "metadata": {},
   "outputs": [],
   "source": [
    "a1 = image[:,:600]"
   ]
  },
  {
   "cell_type": "code",
   "execution_count": 30,
   "id": "3c2c040b-9952-4ae2-bdd0-ab8cb9af5878",
   "metadata": {},
   "outputs": [
    {
     "data": {
      "text/plain": [
       "(600, 600, 3)"
      ]
     },
     "execution_count": 30,
     "metadata": {},
     "output_type": "execute_result"
    }
   ],
   "source": [
    "a1.shape"
   ]
  },
  {
   "cell_type": "code",
   "execution_count": 10,
   "id": "3bf2a2a5-6236-4bd5-840f-bdf8bbf980b1",
   "metadata": {},
   "outputs": [
    {
     "name": "stdout",
     "output_type": "stream",
     "text": [
      "Note: you may need to restart the kernel to use updated packages.\n"
     ]
    },
    {
     "name": "stderr",
     "output_type": "stream",
     "text": [
      "ERROR: Could not find a version that satisfies the requirement cv2 (from versions: none)\n",
      "\n",
      "[notice] A new release of pip is available: 24.2 -> 25.0\n",
      "[notice] To update, run: python.exe -m pip install --upgrade pip\n",
      "ERROR: No matching distribution found for cv2\n"
     ]
    }
   ],
   "source": []
  },
  {
   "cell_type": "code",
   "execution_count": null,
   "id": "402040de-d0cf-447b-a8b3-e1a333f3f94b",
   "metadata": {},
   "outputs": [],
   "source": []
  }
 ],
 "metadata": {
  "kernelspec": {
   "display_name": "Python 3 (ipykernel)",
   "language": "python",
   "name": "python3"
  },
  "language_info": {
   "codemirror_mode": {
    "name": "ipython",
    "version": 3
   },
   "file_extension": ".py",
   "mimetype": "text/x-python",
   "name": "python",
   "nbconvert_exporter": "python",
   "pygments_lexer": "ipython3",
   "version": "3.11.7"
  }
 },
 "nbformat": 4,
 "nbformat_minor": 5
}
