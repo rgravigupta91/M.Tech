{
 "cells": [
  {
   "cell_type": "code",
   "execution_count": 3,
   "id": "50e93af0-40ea-41cc-8ffc-f470a3834969",
   "metadata": {},
   "outputs": [
    {
     "ename": "SyntaxError",
     "evalue": "invalid syntax (3242379597.py, line 3)",
     "output_type": "error",
     "traceback": [
      "\u001b[1;36m  Cell \u001b[1;32mIn[3], line 3\u001b[1;36m\u001b[0m\n\u001b[1;33m    pip install --upgrade pip\u001b[0m\n\u001b[1;37m        ^\u001b[0m\n\u001b[1;31mSyntaxError\u001b[0m\u001b[1;31m:\u001b[0m invalid syntax\n"
     ]
    }
   ],
   "source": [
    "#pip install keras\n",
    "#pip install tensorflow"
   ]
  },
  {
   "cell_type": "code",
   "execution_count": 1,
   "id": "166e8889-9634-46db-8a12-048e3c38cfcb",
   "metadata": {},
   "outputs": [],
   "source": [
    "# import necessary libraries and functions\n",
    "import numpy as np\n",
    "import pandas as pd\n",
    "import matplotlib.pyplot as plt\n",
    "%matplotlib inline\n",
    "\n",
    "# importing layers from keras\n",
    "from keras.layers import Dense, InputLayer, BatchNormalization, Dropout\n",
    "from keras.models import Sequential\n",
    "# importing adam optimizer from keras optimizer module\n",
    "from keras.optimizers import Adam\n",
    "from tensorflow.keras.layers import MaxPooling2D\n",
    "\n",
    "# train_test_split to create training and validation set\n",
    "from sklearn.model_selection import train_test_split\n",
    "# accuracy_score to calculate the accuracy of predictions\n",
    "from sklearn.metrics import accuracy_score"
   ]
  },
  {
   "cell_type": "code",
   "execution_count": 2,
   "id": "5776517a-e000-49fa-9b50-41c5a7a07a2c",
   "metadata": {},
   "outputs": [],
   "source": [
    "data = pd.read_csv('./Hackathon/train.csv')"
   ]
  },
  {
   "cell_type": "code",
   "execution_count": 3,
   "id": "25577f25-0dc0-419f-b4e2-c3bb8ab18d45",
   "metadata": {},
   "outputs": [
    {
     "data": {
      "text/plain": [
       "(1709, 2)"
      ]
     },
     "execution_count": 3,
     "metadata": {},
     "output_type": "execute_result"
    }
   ],
   "source": [
    "data.shape"
   ]
  },
  {
   "cell_type": "code",
   "execution_count": 4,
   "id": "0332ca7b-1b7a-4ba0-a122-f71a50c2d018",
   "metadata": {},
   "outputs": [],
   "source": [
    "X = []\n",
    "for img in data.file_id:\n",
    "    image = plt.imread('./Hackathon/images/train/'+str(img)+'.jpg')\n",
    "    X.append(image)"
   ]
  },
  {
   "cell_type": "code",
   "execution_count": 19,
   "id": "382140f3-71d7-46e8-af00-cf36d3e8e75f",
   "metadata": {},
   "outputs": [],
   "source": [
    "X = np.array(X, dtype='uint8')\n",
    "y = data.label.values"
   ]
  },
  {
   "cell_type": "code",
   "execution_count": 20,
   "id": "7524f136-e5b4-4c9d-ac45-ba5360abcf41",
   "metadata": {},
   "outputs": [
    {
     "data": {
      "text/plain": [
       "(1709, 600, 600, 3)"
      ]
     },
     "execution_count": 20,
     "metadata": {},
     "output_type": "execute_result"
    }
   ],
   "source": [
    "X.shape"
   ]
  },
  {
   "cell_type": "code",
   "execution_count": 21,
   "id": "d1f404cd-c5d6-415d-9b59-27674b3b7263",
   "metadata": {},
   "outputs": [
    {
     "data": {
      "text/plain": [
       "numpy.int8"
      ]
     },
     "execution_count": 21,
     "metadata": {},
     "output_type": "execute_result"
    }
   ],
   "source": [
    "type(X[0][0][0][0])"
   ]
  },
  {
   "cell_type": "code",
   "execution_count": 22,
   "id": "280f1a9d-1409-4988-bd78-30fad257f780",
   "metadata": {},
   "outputs": [
    {
     "data": {
      "text/plain": [
       "1760.2159118652344"
      ]
     },
     "execution_count": 22,
     "metadata": {},
     "output_type": "execute_result"
    }
   ],
   "source": [
    "import sys\n",
    "sys.getsizeof(X) / (1024*1024)"
   ]
  },
  {
   "cell_type": "code",
   "execution_count": 24,
   "id": "6ca428bc-c053-4764-ba51-db36f3f1e2e4",
   "metadata": {},
   "outputs": [
    {
     "data": {
      "text/plain": [
       "(-128, 127)"
      ]
     },
     "execution_count": 24,
     "metadata": {},
     "output_type": "execute_result"
    }
   ],
   "source": [
    "(X.min(),X.max())"
   ]
  },
  {
   "cell_type": "code",
   "execution_count": 25,
   "id": "207be2df-9558-4a0e-bd0e-a37f6032c556",
   "metadata": {},
   "outputs": [],
   "source": [
    "X = X / X.max()"
   ]
  },
  {
   "cell_type": "code",
   "execution_count": 26,
   "id": "48405e53-22ee-472f-9e1b-06622ce807cc",
   "metadata": {},
   "outputs": [
    {
     "data": {
      "text/plain": [
       "(-1.0078740157480315, 1.0)"
      ]
     },
     "execution_count": 26,
     "metadata": {},
     "output_type": "execute_result"
    }
   ],
   "source": [
    "(X.min(),X.max())"
   ]
  },
  {
   "cell_type": "code",
   "execution_count": 27,
   "id": "facca10a-ba68-482a-9196-87853096f1bc",
   "metadata": {},
   "outputs": [
    {
     "data": {
      "text/plain": [
       "14081.72622680664"
      ]
     },
     "execution_count": 27,
     "metadata": {},
     "output_type": "execute_result"
    }
   ],
   "source": [
    "sys.getsizeof(X) / (1024*1024)"
   ]
  },
  {
   "cell_type": "code",
   "execution_count": 20,
   "id": "a5ba00fd-5615-4013-9b58-2b04ca98c81b",
   "metadata": {},
   "outputs": [
    {
     "ename": "NameError",
     "evalue": "name 'train_test_split' is not defined",
     "output_type": "error",
     "traceback": [
      "\u001b[1;31m---------------------------------------------------------------------------\u001b[0m",
      "\u001b[1;31mNameError\u001b[0m                                 Traceback (most recent call last)",
      "Cell \u001b[1;32mIn[20], line 2\u001b[0m\n\u001b[0;32m      1\u001b[0m seed \u001b[38;5;241m=\u001b[39m \u001b[38;5;241m42\u001b[39m\n\u001b[1;32m----> 2\u001b[0m X_train, X_valid, y_train, y_valid\u001b[38;5;241m=\u001b[39m\u001b[43mtrain_test_split\u001b[49m(X,y,test_size\u001b[38;5;241m=\u001b[39m\u001b[38;5;241m0.2\u001b[39m, random_state\u001b[38;5;241m=\u001b[39mseed)\n",
      "\u001b[1;31mNameError\u001b[0m: name 'train_test_split' is not defined"
     ]
    }
   ],
   "source": [
    "seed = 42\n",
    "X_train, X_valid, y_train, y_valid=train_test_split(X,y,test_size=0.2, random_state=seed)"
   ]
  },
  {
   "cell_type": "code",
   "execution_count": null,
   "id": "a8925f43-cf86-48bd-b67f-0ad5cd334db5",
   "metadata": {},
   "outputs": [],
   "source": []
  },
  {
   "cell_type": "code",
   "execution_count": null,
   "id": "7505f125-6bb4-400c-a4b0-39b571f44c8a",
   "metadata": {},
   "outputs": [],
   "source": []
  },
  {
   "cell_type": "code",
   "execution_count": null,
   "id": "3495646d-77e6-4c09-ab41-0048a8c6cc75",
   "metadata": {},
   "outputs": [],
   "source": []
  }
 ],
 "metadata": {
  "kernelspec": {
   "display_name": "Python 3 (ipykernel)",
   "language": "python",
   "name": "python3"
  },
  "language_info": {
   "codemirror_mode": {
    "name": "ipython",
    "version": 3
   },
   "file_extension": ".py",
   "mimetype": "text/x-python",
   "name": "python",
   "nbconvert_exporter": "python",
   "pygments_lexer": "ipython3",
   "version": "3.12.0"
  }
 },
 "nbformat": 4,
 "nbformat_minor": 5
}
