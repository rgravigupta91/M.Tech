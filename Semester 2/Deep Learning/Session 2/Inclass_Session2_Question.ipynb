{
 "cells": [
  {
   "cell_type": "markdown",
   "metadata": {
    "id": "gqj9X_tjSyXy"
   },
   "source": [
    "## CIFAR-10 Dataset\n",
    "CIFAR-10  is an established computer-vision dataset used for object recognition. It is a subset of the 80 million tiny images dataset and consists of 60,000 32x32 color images containing one of 10 object classes, with 6000 images per class. It was collected by Alex Krizhevsky, Vinod Nair, and Geoffrey Hinton. \n",
    "\n",
    "In fact, even Tensorflow and Keras allow us to import and download the MNIST dataset directly from their API.\n",
    "\n",
    "labels = [‘airplane’, ‘automobile’, ‘bird’, ‘cat’, ‘deer’, ‘dog’, ‘frog’, ‘horse’, ‘ship’, ‘truck’]"
   ]
  },
  {
   "cell_type": "markdown",
   "metadata": {
    "id": "pkCfq7KhNYG7"
   },
   "source": [
    "Import tensorflow and check it's version"
   ]
  },
  {
   "cell_type": "code",
   "execution_count": 2,
   "metadata": {
    "colab": {
     "base_uri": "https://localhost:8080/",
     "height": 35
    },
    "executionInfo": {
     "elapsed": 3040,
     "status": "ok",
     "timestamp": 1612011495225,
     "user": {
      "displayName": "Akhil Reddy Sheri",
      "photoUrl": "",
      "userId": "07061151262155190769"
     },
     "user_tz": -330
    },
    "id": "H6RZUm0p4wYJ",
    "outputId": "a5ded2c6-fbe3-4785-f902-3e4e116ad179"
   },
   "outputs": [],
   "source": [
    "import tensorflow as tf\n",
    "import numpy as np\n",
    "from matplotlib import pyplot as plt"
   ]
  },
  {
   "cell_type": "markdown",
   "metadata": {
    "id": "roDpNYcESyXz"
   },
   "source": [
    "Let's load CIFAR dataset"
   ]
  },
  {
   "cell_type": "code",
   "execution_count": 1,
   "metadata": {
    "executionInfo": {
     "elapsed": 3990,
     "status": "ok",
     "timestamp": 1612011496208,
     "user": {
      "displayName": "Akhil Reddy Sheri",
      "photoUrl": "",
      "userId": "07061151262155190769"
     },
     "user_tz": -330
    },
    "id": "4kQf1NjrSyX5"
   },
   "outputs": [],
   "source": [
    "from tensorflow.keras.datasets import cifar10\n",
    "\n",
    "# the data, shuffled and split between train and test sets\n",
    "(X_train, y_train), (X_test, y_test) = cifar10.load_data()"
   ]
  },
  {
   "cell_type": "code",
   "execution_count": 4,
   "metadata": {},
   "outputs": [
    {
     "data": {
      "text/plain": [
       "(50000, 32, 32, 3)"
      ]
     },
     "execution_count": 4,
     "metadata": {},
     "output_type": "execute_result"
    }
   ],
   "source": []
  },
  {
   "cell_type": "markdown",
   "metadata": {
    "id": "jFxVKfCPSyX-"
   },
   "source": [
    "#### 1. Print shape of the data and understand howmany images of different class exist in this datset "
   ]
  },
  {
   "cell_type": "code",
   "execution_count": null,
   "metadata": {},
   "outputs": [],
   "source": []
  },
  {
   "cell_type": "markdown",
   "metadata": {
    "id": "mVVInu-RSyYJ"
   },
   "source": [
    "#### 2. Visualize some images using matplotlib"
   ]
  },
  {
   "cell_type": "code",
   "execution_count": null,
   "metadata": {},
   "outputs": [],
   "source": []
  },
  {
   "cell_type": "markdown",
   "metadata": {
    "id": "7uPx2Mi4RQ4E"
   },
   "source": [
    "#### 3. Convert the RGB Image to Grayscale(For easier computation)\n",
    "Hint: tf.image.rgb_to_grayscale(X_train) \n",
    "\n",
    "The above code will give the result as tensor, take only the numpy part from it and procced.\n"
   ]
  },
  {
   "cell_type": "code",
   "execution_count": null,
   "metadata": {},
   "outputs": [],
   "source": []
  },
  {
   "cell_type": "markdown",
   "metadata": {
    "executionInfo": {
     "elapsed": 5397,
     "status": "ok",
     "timestamp": 1612011497668,
     "user": {
      "displayName": "Akhil Reddy Sheri",
      "photoUrl": "",
      "userId": "07061151262155190769"
     },
     "user_tz": -330
    },
    "id": "AmoQiGonSyeN"
   },
   "source": [
    "#### 4. Normalize the data so that data is in range 0-1"
   ]
  },
  {
   "cell_type": "code",
   "execution_count": null,
   "metadata": {},
   "outputs": [],
   "source": []
  },
  {
   "cell_type": "markdown",
   "metadata": {
    "id": "NvfxTB1CSyYO"
   },
   "source": [
    "#### 5. Reshape train and test images into  one dimensional vector \n"
   ]
  },
  {
   "cell_type": "code",
   "execution_count": null,
   "metadata": {
    "executionInfo": {
     "elapsed": 5376,
     "status": "ok",
     "timestamp": 1612011497671,
     "user": {
      "displayName": "Akhil Reddy Sheri",
      "photoUrl": "",
      "userId": "07061151262155190769"
     },
     "user_tz": -330
    },
    "id": "0uIaqfYASyYP"
   },
   "outputs": [],
   "source": []
  },
  {
   "cell_type": "markdown",
   "metadata": {
    "id": "Io8RGv39SyYZ"
   },
   "source": [
    "#### 6. Print shape of data and number of images"
   ]
  },
  {
   "cell_type": "code",
   "execution_count": null,
   "metadata": {
    "colab": {
     "base_uri": "https://localhost:8080/"
    },
    "executionInfo": {
     "elapsed": 5356,
     "status": "ok",
     "timestamp": 1612011497673,
     "user": {
      "displayName": "Akhil Reddy Sheri",
      "photoUrl": "",
      "userId": "07061151262155190769"
     },
     "user_tz": -330
    },
    "id": "mhYZjEtKSyYb",
    "outputId": "9800f870-30e7-46a0-ff89-1e2c3ef2d82e"
   },
   "outputs": [],
   "source": []
  },
  {
   "cell_type": "markdown",
   "metadata": {
    "id": "kbCeNC9PSyYi"
   },
   "source": [
    "#### 7. One-hot encode the class vector\n",
    "Hint: from tensorflow.keras.utils import to_categorical\n"
   ]
  },
  {
   "cell_type": "code",
   "execution_count": null,
   "metadata": {
    "colab": {
     "base_uri": "https://localhost:8080/"
    },
    "executionInfo": {
     "elapsed": 5343,
     "status": "ok",
     "timestamp": 1612011497674,
     "user": {
      "displayName": "Akhil Reddy Sheri",
      "photoUrl": "",
      "userId": "07061151262155190769"
     },
     "user_tz": -330
    },
    "id": "KXDv1LqhSyYk",
    "outputId": "d20c4f5e-b36f-4afb-fdde-f3aa6bba5bea"
   },
   "outputs": [],
   "source": []
  },
  {
   "cell_type": "markdown",
   "metadata": {
    "id": "xMVlotHGZahU"
   },
   "source": [
    "# DNN"
   ]
  },
  {
   "cell_type": "markdown",
   "metadata": {
    "id": "5jQGzVrX19zt"
   },
   "source": [
    "#### 08. Construct the Deep Neural Network of following architecture\n",
    "\n",
    "        input_neurons x 64 x 32 x 32 x output_neurons"
   ]
  },
  {
   "cell_type": "code",
   "execution_count": 35,
   "metadata": {
    "executionInfo": {
     "elapsed": 5332,
     "status": "ok",
     "timestamp": 1612011497676,
     "user": {
      "displayName": "Akhil Reddy Sheri",
      "photoUrl": "",
      "userId": "07061151262155190769"
     },
     "user_tz": -330
    },
    "id": "gVAkTinRLBDp"
   },
   "outputs": [],
   "source": []
  },
  {
   "cell_type": "markdown",
   "metadata": {
    "id": "c74LMVBg3AXb"
   },
   "source": [
    "#### 09. Compile and fit the model\n",
    "- let's compile our model\n",
    "    - loss: \"categorical_crossentropy\"\n",
    "    - metrics: \"accuracy\"\n",
    "    - optimizer: \"sgd\"\n",
    "- then next step will be to fit model\n",
    "    - give train data - training features and labels\n",
    "    - batch size: 32\n",
    "    - epochs: 50\n",
    "    - give validation data - testing features and labels"
   ]
  },
  {
   "cell_type": "code",
   "execution_count": null,
   "metadata": {
    "colab": {
     "base_uri": "https://localhost:8080/"
    },
    "executionInfo": {
     "elapsed": 139209,
     "status": "ok",
     "timestamp": 1612011631562,
     "user": {
      "displayName": "Akhil Reddy Sheri",
      "photoUrl": "",
      "userId": "07061151262155190769"
     },
     "user_tz": -330
    },
    "id": "ca0AdxDx3AXh",
    "outputId": "46e5c27f-7660-4576-8803-2d15187b42e7"
   },
   "outputs": [],
   "source": []
  },
  {
   "cell_type": "markdown",
   "metadata": {
    "id": "ecgTBHmn37lq"
   },
   "source": [
    "#### 10. Calculate Final loss and accuracy on test data"
   ]
  },
  {
   "cell_type": "code",
   "execution_count": null,
   "metadata": {},
   "outputs": [],
   "source": []
  }
 ],
 "metadata": {
  "colab": {
   "collapsed_sections": [],
   "name": "Inclass_S2.ipynb",
   "provenance": [],
   "toc_visible": true
  },
  "kernelspec": {
   "display_name": "Python 3",
   "language": "python",
   "name": "python3"
  },
  "language_info": {
   "codemirror_mode": {
    "name": "ipython",
    "version": 3
   },
   "file_extension": ".py",
   "mimetype": "text/x-python",
   "name": "python",
   "nbconvert_exporter": "python",
   "pygments_lexer": "ipython3",
   "version": "3.6.13"
  }
 },
 "nbformat": 4,
 "nbformat_minor": 1
}
