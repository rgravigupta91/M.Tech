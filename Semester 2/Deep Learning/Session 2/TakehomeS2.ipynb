{
 "cells": [
  {
   "cell_type": "markdown",
   "metadata": {
    "id": "gqj9X_tjSyXy"
   },
   "source": [
    "## Fashion-MNIST Dataset\n",
    "\n",
    "Fashion-MNIST is a dataset of Zalando's article images—consisting of a training set of 60,000 examples and a test set of 10,000 examples. Each example is a 28x28 grayscale image, associated with a label from 10 classes. Zalando intends Fashion-MNIST to serve as a direct drop-in replacement for the original MNIST dataset for benchmarking machine learning algorithms. It shares the same image size and structure of training and testing splits."
   ]
  },
  {
   "cell_type": "markdown",
   "metadata": {
    "id": "ZOk8Eu4_t70R"
   },
   "source": [
    "Firstly, let's select TensorFlow version 2.x in colab"
   ]
  },
  {
   "cell_type": "markdown",
   "metadata": {
    "id": "pkCfq7KhNYG7"
   },
   "source": [
    "#### 1. Import tensorflow and check it's version"
   ]
  },
  {
   "cell_type": "code",
   "execution_count": 1,
   "metadata": {
    "colab": {
     "base_uri": "https://localhost:8080/",
     "height": 35
    },
    "executionInfo": {
     "elapsed": 3487,
     "status": "ok",
     "timestamp": 1612012465173,
     "user": {
      "displayName": "Akhil Reddy Sheri",
      "photoUrl": "",
      "userId": "07061151262155190769"
     },
     "user_tz": -330
    },
    "id": "H6RZUm0p4wYJ",
    "outputId": "7905e9d6-3868-4f11-a19e-6359346fac2b"
   },
   "outputs": [
    {
     "data": {
      "application/vnd.google.colaboratory.intrinsic+json": {
       "type": "string"
      },
      "text/plain": [
       "'2.4.1'"
      ]
     },
     "execution_count": 1,
     "metadata": {
      "tags": []
     },
     "output_type": "execute_result"
    }
   ],
   "source": []
  },
  {
   "cell_type": "markdown",
   "metadata": {
    "id": "ulA_DfWANrTY"
   },
   "source": [
    "#### 2. Initialize the random number generator and code to ignore warnings"
   ]
  },
  {
   "cell_type": "code",
   "execution_count": 2,
   "metadata": {
    "executionInfo": {
     "elapsed": 3484,
     "status": "ok",
     "timestamp": 1612012465174,
     "user": {
      "displayName": "Akhil Reddy Sheri",
      "photoUrl": "",
      "userId": "07061151262155190769"
     },
     "user_tz": -330
    },
    "id": "TWi96z-8SyX0"
   },
   "outputs": [],
   "source": []
  },
  {
   "cell_type": "markdown",
   "metadata": {
    "id": "roDpNYcESyXz"
   },
   "source": [
    "Let's load Fashion-MNIST dataset"
   ]
  },
  {
   "cell_type": "code",
   "execution_count": 3,
   "metadata": {
    "colab": {
     "base_uri": "https://localhost:8080/"
    },
    "executionInfo": {
     "elapsed": 3024,
     "status": "ok",
     "timestamp": 1612012493460,
     "user": {
      "displayName": "Akhil Reddy Sheri",
      "photoUrl": "",
      "userId": "07061151262155190769"
     },
     "user_tz": -330
    },
    "id": "4kQf1NjrSyX5",
    "outputId": "81abb375-feec-4e03-b572-aa34cb6d9229"
   },
   "outputs": [
    {
     "name": "stdout",
     "output_type": "stream",
     "text": [
      "Downloading data from https://storage.googleapis.com/tensorflow/tf-keras-datasets/train-labels-idx1-ubyte.gz\n",
      "32768/29515 [=================================] - 0s 0us/step\n",
      "Downloading data from https://storage.googleapis.com/tensorflow/tf-keras-datasets/train-images-idx3-ubyte.gz\n",
      "26427392/26421880 [==============================] - 0s 0us/step\n",
      "Downloading data from https://storage.googleapis.com/tensorflow/tf-keras-datasets/t10k-labels-idx1-ubyte.gz\n",
      "8192/5148 [===============================================] - 0s 0us/step\n",
      "Downloading data from https://storage.googleapis.com/tensorflow/tf-keras-datasets/t10k-images-idx3-ubyte.gz\n",
      "4423680/4422102 [==============================] - 0s 0us/step\n"
     ]
    }
   ],
   "source": []
  },
  {
   "cell_type": "markdown",
   "metadata": {
    "id": "I9LvPEV7SyX9"
   },
   "source": [
    "X_train and X_test contain greyscale RGB codes (from 0 to 255) while y_train and y_test contains labels from 0 to 9 which represents the class they actually are."
   ]
  },
  {
   "cell_type": "markdown",
   "metadata": {
    "id": "jFxVKfCPSyX-"
   },
   "source": [
    "#### 3. Let's visualize some numbers using matplotlib"
   ]
  },
  {
   "cell_type": "code",
   "execution_count": 4,
   "metadata": {
    "colab": {
     "base_uri": "https://localhost:8080/",
     "height": 298
    },
    "executionInfo": {
     "elapsed": 2260,
     "status": "ok",
     "timestamp": 1612012506080,
     "user": {
      "displayName": "Akhil Reddy Sheri",
      "photoUrl": "",
      "userId": "07061151262155190769"
     },
     "user_tz": -330
    },
    "id": "OiTTWjsrSyX_",
    "outputId": "280863d1-5cfe-44f4-eea3-5172377952f1"
   },
   "outputs": [
    {
     "name": "stdout",
     "output_type": "stream",
     "text": [
      "Label: 5\n"
     ]
    },
    {
     "data": {
      "text/plain": [
       "<matplotlib.image.AxesImage at 0x7f867cbcd3c8>"
      ]
     },
     "execution_count": 4,
     "metadata": {
      "tags": []
     },
     "output_type": "execute_result"
    },
    {
     "data": {
      "image/png": "[encoded data removed]",
      "text/plain": [
       "<Figure size 432x288 with 1 Axes>"
      ]
     },
     "metadata": {
      "needs_background": "light",
      "tags": []
     },
     "output_type": "display_data"
    }
   ],
   "source": []
  },
  {
   "cell_type": "markdown",
   "metadata": {
    "id": "mVVInu-RSyYJ"
   },
   "source": [
    "#### 4. Print shape of the data"
   ]
  },
  {
   "cell_type": "code",
   "execution_count": 5,
   "metadata": {
    "colab": {
     "base_uri": "https://localhost:8080/"
    },
    "executionInfo": {
     "elapsed": 1153,
     "status": "ok",
     "timestamp": 1612012511314,
     "user": {
      "displayName": "Akhil Reddy Sheri",
      "photoUrl": "",
      "userId": "07061151262155190769"
     },
     "user_tz": -330
    },
    "id": "JcIEeC-ySyYK",
    "outputId": "2e0319ca-e58b-4dfc-8bed-5c1e98e6444e"
   },
   "outputs": [
    {
     "name": "stdout",
     "output_type": "stream",
     "text": [
      "(60000, 28, 28)\n",
      "(60000,)\n",
      "(10000, 28, 28)\n",
      "(10000,)\n"
     ]
    }
   ],
   "source": []
  },
  {
   "cell_type": "markdown",
   "metadata": {
    "id": "NvfxTB1CSyYO"
   },
   "source": [
    "### 5. Reshape train and test sets into compatible shapes\n",
    "- Sequential model in tensorflow.keras expects data to be in the format (n_e, n_h, n_w, n_c)\n",
    "- n_e= number of examples, n_h = height, n_w = width, n_c = number of channels\n",
    "- do not reshape labels"
   ]
  },
  {
   "cell_type": "code",
   "execution_count": 6,
   "metadata": {
    "executionInfo": {
     "elapsed": 1119,
     "status": "ok",
     "timestamp": 1612012545302,
     "user": {
      "displayName": "Akhil Reddy Sheri",
      "photoUrl": "",
      "userId": "07061151262155190769"
     },
     "user_tz": -330
    },
    "id": "0uIaqfYASyYP"
   },
   "outputs": [],
   "source": []
  },
  {
   "cell_type": "markdown",
   "metadata": {
    "id": "GHok6WPuSyYU"
   },
   "source": [
    "### 6. Normalize the data so that data is in range 0-1\n",
    "\n",
    "### Normalize data\n",
    "- we must normalize our data as it is always required in neural network models\n",
    "- we can achieve this by dividing the RGB codes with 255 (which is the maximum RGB code minus the minimum RGB code)\n",
    "- normalize X_train and X_test\n",
    "- make sure that the values are float so that we can get decimal points after division"
   ]
  },
  {
   "cell_type": "code",
   "execution_count": 7,
   "metadata": {
    "executionInfo": {
     "elapsed": 999,
     "status": "ok",
     "timestamp": 1612012549057,
     "user": {
      "displayName": "Akhil Reddy Sheri",
      "photoUrl": "",
      "userId": "07061151262155190769"
     },
     "user_tz": -330
    },
    "id": "1xqxsH4XSyYV"
   },
   "outputs": [],
   "source": []
  },
  {
   "cell_type": "markdown",
   "metadata": {
    "id": "Io8RGv39SyYZ"
   },
   "source": [
    "### 7. Print shape of data and number of images\n",
    "- print shape of X_train\n",
    "- print number of images in X_train\n",
    "- print number of images in X_test"
   ]
  },
  {
   "cell_type": "code",
   "execution_count": 8,
   "metadata": {
    "colab": {
     "base_uri": "https://localhost:8080/"
    },
    "executionInfo": {
     "elapsed": 920,
     "status": "ok",
     "timestamp": 1612012556562,
     "user": {
      "displayName": "Akhil Reddy Sheri",
      "photoUrl": "",
      "userId": "07061151262155190769"
     },
     "user_tz": -330
    },
    "id": "mhYZjEtKSyYb",
    "outputId": "e441b158-c700-4b6a-83ca-ac4d43601f2e"
   },
   "outputs": [
    {
     "name": "stdout",
     "output_type": "stream",
     "text": [
      "X_train shape: (60000, 28, 28, 1)\n",
      "Images in X_train: 60000\n",
      "Images in X_test: 10000\n",
      "Max value in X_train: 1.0\n",
      "Min value in X_train: 0.0\n"
     ]
    }
   ],
   "source": []
  },
  {
   "cell_type": "markdown",
   "metadata": {
    "id": "kbCeNC9PSyYi"
   },
   "source": [
    "### 8. One-hot encode the class vector\n",
    "- convert class vectors (integers) to binary class matrix\n",
    "- convert y_train and y_test\n",
    "- number of classes: 10\n",
    "- we are doing this to use categorical_crossentropy as loss"
   ]
  },
  {
   "cell_type": "code",
   "execution_count": 9,
   "metadata": {
    "colab": {
     "base_uri": "https://localhost:8080/"
    },
    "executionInfo": {
     "elapsed": 968,
     "status": "ok",
     "timestamp": 1612012565300,
     "user": {
      "displayName": "Akhil Reddy Sheri",
      "photoUrl": "",
      "userId": "07061151262155190769"
     },
     "user_tz": -330
    },
    "id": "KXDv1LqhSyYk",
    "outputId": "6206f578-eeec-42d7-8403-be9e610e5c7d"
   },
   "outputs": [
    {
     "name": "stdout",
     "output_type": "stream",
     "text": [
      "Shape of y_train: (60000, 10)\n",
      "One value of y_train: [0. 0. 0. 0. 0. 0. 0. 0. 0. 1.]\n"
     ]
    }
   ],
   "source": []
  },
  {
   "cell_type": "markdown",
   "metadata": {
    "id": "xMVlotHGZahU"
   },
   "source": [
    "# DNN"
   ]
  },
  {
   "cell_type": "markdown",
   "metadata": {
    "id": "5jQGzVrX19zt"
   },
   "source": [
    "### 9. Initialize a sequential model\n",
    "\n",
    "- let's a sequential model\n",
    "- flatten the data\n",
    "    - add Flatten later\n",
    "    - flatten layers flatten 2D arrays to 1D array before building the fully connected layers\n",
    "- add 2 dense layers\n",
    "    - number of neurons in first layer: 128\n",
    "    - number of neurons in last layer: number of classes\n",
    "    - activation function in first layer: relu\n",
    "    - activation function in last layer: softmax\n",
    "    - we may experiment with any number of neurons for the first Dense layer; however, the final Dense layer must have neurons equal to the number of output classes"
   ]
  },
  {
   "cell_type": "code",
   "execution_count": 10,
   "metadata": {
    "executionInfo": {
     "elapsed": 1546,
     "status": "ok",
     "timestamp": 1612013033614,
     "user": {
      "displayName": "Akhil Reddy Sheri",
      "photoUrl": "",
      "userId": "07061151262155190769"
     },
     "user_tz": -330
    },
    "id": "gVAkTinRLBDp"
   },
   "outputs": [],
   "source": []
  },
  {
   "cell_type": "markdown",
   "metadata": {
    "id": "c74LMVBg3AXb"
   },
   "source": [
    "### 10. Compile and fit the model\n",
    "- let's compile our model\n",
    "    - loss: \"categorical_crossentropy\"\n",
    "    - metrics: \"accuracy\"\n",
    "    - optimizer: \"sgd\"\n",
    "- then next step will be to fit model\n",
    "    - give train data - training features and labels\n",
    "    - batch size: 32\n",
    "    - epochs: 10\n",
    "    - give validation data - testing features and labels"
   ]
  },
  {
   "cell_type": "code",
   "execution_count": 11,
   "metadata": {
    "colab": {
     "base_uri": "https://localhost:8080/"
    },
    "executionInfo": {
     "elapsed": 40581,
     "status": "ok",
     "timestamp": 1612013105306,
     "user": {
      "displayName": "Akhil Reddy Sheri",
      "photoUrl": "",
      "userId": "07061151262155190769"
     },
     "user_tz": -330
    },
    "id": "ca0AdxDx3AXh",
    "outputId": "7cd0711a-227d-42e7-a1d1-005cd2139cb7"
   },
   "outputs": [
    {
     "name": "stdout",
     "output_type": "stream",
     "text": [
      "Epoch 1/10\n",
      "1875/1875 [==============================] - 5s 2ms/step - loss: 1.0071 - accuracy: 0.6804 - val_loss: 0.5794 - val_accuracy: 0.8028\n",
      "Epoch 2/10\n",
      "1875/1875 [==============================] - 4s 2ms/step - loss: 0.5308 - accuracy: 0.8209 - val_loss: 0.5041 - val_accuracy: 0.8276\n",
      "Epoch 3/10\n",
      "1875/1875 [==============================] - 4s 2ms/step - loss: 0.4766 - accuracy: 0.8368 - val_loss: 0.4900 - val_accuracy: 0.8266\n",
      "Epoch 4/10\n",
      "1875/1875 [==============================] - 4s 2ms/step - loss: 0.4549 - accuracy: 0.8420 - val_loss: 0.4860 - val_accuracy: 0.8302\n",
      "Epoch 5/10\n",
      "1875/1875 [==============================] - 4s 2ms/step - loss: 0.4288 - accuracy: 0.8514 - val_loss: 0.4462 - val_accuracy: 0.8435\n",
      "Epoch 6/10\n",
      "1875/1875 [==============================] - 4s 2ms/step - loss: 0.4098 - accuracy: 0.8560 - val_loss: 0.4330 - val_accuracy: 0.8495\n",
      "Epoch 7/10\n",
      "1875/1875 [==============================] - 4s 2ms/step - loss: 0.4049 - accuracy: 0.8617 - val_loss: 0.4262 - val_accuracy: 0.8505\n",
      "Epoch 8/10\n",
      "1875/1875 [==============================] - 4s 2ms/step - loss: 0.3915 - accuracy: 0.8631 - val_loss: 0.4230 - val_accuracy: 0.8497\n",
      "Epoch 9/10\n",
      "1875/1875 [==============================] - 4s 2ms/step - loss: 0.3850 - accuracy: 0.8647 - val_loss: 0.4184 - val_accuracy: 0.8547\n",
      "Epoch 10/10\n",
      "1875/1875 [==============================] - 4s 2ms/step - loss: 0.3787 - accuracy: 0.8658 - val_loss: 0.4089 - val_accuracy: 0.8530\n"
     ]
    },
    {
     "data": {
      "text/plain": [
       "<tensorflow.python.keras.callbacks.History at 0x7f868474acf8>"
      ]
     },
     "execution_count": 11,
     "metadata": {
      "tags": []
     },
     "output_type": "execute_result"
    }
   ],
   "source": []
  },
  {
   "cell_type": "markdown",
   "metadata": {
    "id": "ecgTBHmn37lq"
   },
   "source": [
    "### 11. Calculate Final loss and accuracy on test data"
   ]
  },
  {
   "cell_type": "code",
   "execution_count": 12,
   "metadata": {
    "colab": {
     "base_uri": "https://localhost:8080/"
    },
    "executionInfo": {
     "elapsed": 1379,
     "status": "ok",
     "timestamp": 1612013205840,
     "user": {
      "displayName": "Akhil Reddy Sheri",
      "photoUrl": "",
      "userId": "07061151262155190769"
     },
     "user_tz": -330
    },
    "id": "7_pf1d-J37l0",
    "outputId": "406034d4-a768-459e-b948-53b3c36a11b6"
   },
   "outputs": [
    {
     "name": "stdout",
     "output_type": "stream",
     "text": [
      "313/313 [==============================] - 0s 1ms/step - loss: 0.4089 - accuracy: 0.8530\n"
     ]
    },
    {
     "data": {
      "text/plain": [
       "[0.4088791310787201, 0.8529999852180481]"
      ]
     },
     "execution_count": 12,
     "metadata": {
      "tags": []
     },
     "output_type": "execute_result"
    }
   ],
   "source": []
  },
  {
   "cell_type": "code",
   "execution_count": null,
   "metadata": {
    "id": "Z2DAKKtGeXO-"
   },
   "outputs": [],
   "source": []
  }
 ],
 "metadata": {
  "colab": {
   "collapsed_sections": [],
   "name": "TakehomeS2.ipynb",
   "provenance": [],
   "toc_visible": true
  },
  "kernelspec": {
   "display_name": "Python 3",
   "language": "python",
   "name": "python3"
  },
  "language_info": {
   "codemirror_mode": {
    "name": "ipython",
    "version": 3
   },
   "file_extension": ".py",
   "mimetype": "text/x-python",
   "name": "python",
   "nbconvert_exporter": "python",
   "pygments_lexer": "ipython3",
   "version": "3.8.3"
  }
 },
 "nbformat": 4,
 "nbformat_minor": 1
}
