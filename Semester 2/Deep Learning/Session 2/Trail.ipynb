{
 "cells": [
  {
   "cell_type": "code",
   "execution_count": 1,
   "id": "e2f3cde8-0fc8-419f-94a1-9d4954c116e2",
   "metadata": {},
   "outputs": [],
   "source": [
    "import numpy as np"
   ]
  },
  {
   "cell_type": "code",
   "execution_count": 2,
   "id": "05c3996b-d6cb-4ce4-a827-da1378bf699c",
   "metadata": {},
   "outputs": [],
   "source": [
    "# Define the input layer (example input for two features x11, x12)"
   ]
  },
  {
   "cell_type": "code",
   "execution_count": 3,
   "id": "738befea-d1f7-4321-9dd5-677655ab2405",
   "metadata": {},
   "outputs": [],
   "source": [
    "X = np.array([[0.5,0.2]])"
   ]
  },
  {
   "cell_type": "code",
   "execution_count": 4,
   "id": "92e682e3-46e9-42fe-8baa-179c7fecd1f1",
   "metadata": {},
   "outputs": [],
   "source": [
    "np.random.seed(42)"
   ]
  },
  {
   "cell_type": "code",
   "execution_count": 5,
   "id": "f589a1b0-4f8a-4b0b-a17b-2c83c75d9e4a",
   "metadata": {},
   "outputs": [],
   "source": [
    "W1 = np.random.randn(2,3)\n",
    "W2 = np.random.randn(3,2)\n",
    "W3 = np.random.randn(2,1)"
   ]
  },
  {
   "cell_type": "code",
   "execution_count": 6,
   "id": "4a03b5c7-f7bf-4178-bd87-097d88b9c7a4",
   "metadata": {},
   "outputs": [],
   "source": [
    "b1 = np.random.randn(3)\n",
    "b2 = np.random.randn(2)\n",
    "b3 = np.random.randn(1)"
   ]
  },
  {
   "cell_type": "code",
   "execution_count": 17,
   "id": "2b165231-1daf-45ce-a44f-60d6f29f2ea8",
   "metadata": {},
   "outputs": [
    {
     "data": {
      "text/plain": [
       "array([[0.5, 0.2]])"
      ]
     },
     "execution_count": 17,
     "metadata": {},
     "output_type": "execute_result"
    }
   ],
   "source": [
    "X"
   ]
  },
  {
   "cell_type": "code",
   "execution_count": 7,
   "id": "fdedd557-8db3-4582-9b5a-560c6f0a5a73",
   "metadata": {},
   "outputs": [
    {
     "data": {
      "text/plain": [
       "(1, 2)"
      ]
     },
     "execution_count": 7,
     "metadata": {},
     "output_type": "execute_result"
    }
   ],
   "source": [
    "X.shape"
   ]
  },
  {
   "cell_type": "code",
   "execution_count": 18,
   "id": "959e869b-e499-4727-9ca8-4942c400aaf7",
   "metadata": {},
   "outputs": [
    {
     "data": {
      "text/plain": [
       "array([[ 0.49671415, -0.1382643 ,  0.64768854],\n",
       "       [ 1.52302986, -0.23415337, -0.23413696]])"
      ]
     },
     "execution_count": 18,
     "metadata": {},
     "output_type": "execute_result"
    }
   ],
   "source": [
    "W1"
   ]
  },
  {
   "cell_type": "code",
   "execution_count": 8,
   "id": "7d6bb946-d376-4635-a114-6f4ab3bf70e5",
   "metadata": {},
   "outputs": [
    {
     "data": {
      "text/plain": [
       "(2, 3)"
      ]
     },
     "execution_count": 8,
     "metadata": {},
     "output_type": "execute_result"
    }
   ],
   "source": [
    "W1.shape"
   ]
  },
  {
   "cell_type": "code",
   "execution_count": 9,
   "id": "8e3e2d62-bb7b-42f5-b0fa-4ced9e003d0f",
   "metadata": {},
   "outputs": [
    {
     "data": {
      "text/plain": [
       "(3, 2)"
      ]
     },
     "execution_count": 9,
     "metadata": {},
     "output_type": "execute_result"
    }
   ],
   "source": [
    "W2.shape"
   ]
  },
  {
   "cell_type": "code",
   "execution_count": 10,
   "id": "81844dfd-604b-4edc-bb2e-477d447321e9",
   "metadata": {},
   "outputs": [
    {
     "data": {
      "text/plain": [
       "(2, 1)"
      ]
     },
     "execution_count": 10,
     "metadata": {},
     "output_type": "execute_result"
    }
   ],
   "source": [
    "W3.shape"
   ]
  },
  {
   "cell_type": "code",
   "execution_count": 14,
   "id": "f3a08bdb-a001-47a6-8399-dcfcd659a983",
   "metadata": {},
   "outputs": [
    {
     "data": {
      "text/plain": [
       "(3,)"
      ]
     },
     "execution_count": 14,
     "metadata": {},
     "output_type": "execute_result"
    }
   ],
   "source": [
    "b1.shape"
   ]
  },
  {
   "cell_type": "code",
   "execution_count": 15,
   "id": "4af9ea38-d28f-4f3f-a303-014d17d30587",
   "metadata": {},
   "outputs": [
    {
     "data": {
      "text/plain": [
       "(2,)"
      ]
     },
     "execution_count": 15,
     "metadata": {},
     "output_type": "execute_result"
    }
   ],
   "source": [
    "b2.shape"
   ]
  },
  {
   "cell_type": "code",
   "execution_count": 16,
   "id": "d8b83113-5ffb-4910-b939-d92e2d2b13d3",
   "metadata": {},
   "outputs": [
    {
     "data": {
      "text/plain": [
       "(1,)"
      ]
     },
     "execution_count": 16,
     "metadata": {},
     "output_type": "execute_result"
    }
   ],
   "source": [
    "b3.shape"
   ]
  },
  {
   "cell_type": "code",
   "execution_count": 32,
   "id": "59aa57cc-b014-4e3c-9c14-025b29def7be",
   "metadata": {},
   "outputs": [],
   "source": [
    "def relu(x):\n",
    "    return np.maximum(0,x)"
   ]
  },
  {
   "cell_type": "code",
   "execution_count": 33,
   "id": "d0636197-5304-4a3c-8c74-84660fae5202",
   "metadata": {},
   "outputs": [],
   "source": [
    "def sigmoid(x):\n",
    "    return 1 / (1+np.exp(-x))"
   ]
  },
  {
   "cell_type": "code",
   "execution_count": 34,
   "id": "d2ac9685-05a1-4be4-820e-1685f00c453e",
   "metadata": {},
   "outputs": [],
   "source": [
    "Z1 = np.dot(X, W1) + b1\n",
    "H1 = relu(Z1)"
   ]
  },
  {
   "cell_type": "code",
   "execution_count": 35,
   "id": "360347c1-c140-401c-bab7-20c5d1ed1679",
   "metadata": {},
   "outputs": [
    {
     "name": "stdout",
     "output_type": "stream",
     "text": [
      "Input X: [[0.5 0.2]]\n",
      "Preactivation Z1 :  [[ 2.01861182 -0.34173913  0.34454508]]\n",
      "Activation H1 :  [[2.01861182 0.         0.34454508]]\n"
     ]
    }
   ],
   "source": [
    "print(\"Input X:\", X)\n",
    "print(\"Preactivation Z1 : \", Z1)\n",
    "print(\"Activation H1 : \", H1)"
   ]
  },
  {
   "cell_type": "code",
   "execution_count": 36,
   "id": "a1b705e1-d23a-4712-b0ff-f32188da297a",
   "metadata": {},
   "outputs": [],
   "source": [
    "Z2 = np.dot(Z1, W2) + b2\n",
    "H2 = relu(Z2)"
   ]
  },
  {
   "cell_type": "code",
   "execution_count": 37,
   "id": "2cd4d5b7-43af-4e92-bf29-40029da06d6c",
   "metadata": {},
   "outputs": [
    {
     "name": "stdout",
     "output_type": "stream",
     "text": [
      "Preactivation Z1 :  [[1.76383894 0.6588912 ]]\n",
      "Activation H1 :  [[1.76383894 0.6588912 ]]\n"
     ]
    }
   ],
   "source": [
    "print(\"Preactivation Z1 : \", Z2)\n",
    "print(\"Activation H1 : \", H2)"
   ]
  },
  {
   "cell_type": "code",
   "execution_count": 40,
   "id": "92c472d7-977f-411c-a2c4-7cb6cd46bb86",
   "metadata": {},
   "outputs": [],
   "source": [
    "Z3 = np.dot(Z2, W3) + b3\n",
    "H3 = sigmoid(Z3)"
   ]
  },
  {
   "cell_type": "code",
   "execution_count": 41,
   "id": "0f8c2829-e3e5-4e0c-8409-266738ce3bcc",
   "metadata": {},
   "outputs": [
    {
     "name": "stdout",
     "output_type": "stream",
     "text": [
      "Preactivation Z1 :  [[-0.72293844]]\n",
      "Activation H1 :  [[0.32674625]]\n"
     ]
    }
   ],
   "source": [
    "print(\"Preactivation Z1 : \", Z3)\n",
    "print(\"Activation H1 : \", H3)"
   ]
  },
  {
   "cell_type": "code",
   "execution_count": null,
   "id": "d2678c11-3eb4-4216-8342-344f43da574b",
   "metadata": {},
   "outputs": [],
   "source": []
  }
 ],
 "metadata": {
  "kernelspec": {
   "display_name": "Python 3 (ipykernel)",
   "language": "python",
   "name": "python3"
  },
  "language_info": {
   "codemirror_mode": {
    "name": "ipython",
    "version": 3
   },
   "file_extension": ".py",
   "mimetype": "text/x-python",
   "name": "python",
   "nbconvert_exporter": "python",
   "pygments_lexer": "ipython3",
   "version": "3.12.0"
  }
 },
 "nbformat": 4,
 "nbformat_minor": 5
}
