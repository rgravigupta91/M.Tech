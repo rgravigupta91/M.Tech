{
 "cells": [
  {
   "cell_type": "markdown",
   "id": "7f92036c",
   "metadata": {},
   "source": [
    "# Keras Architecture: Layered Stack of Deep Learning Framework"
   ]
  },
  {
   "cell_type": "markdown",
   "id": "fee42b13",
   "metadata": {},
   "source": [
    "![image](picture1.png)"
   ]
  },
  {
   "cell_type": "markdown",
   "id": "3a846559",
   "metadata": {},
   "source": [
    "# Scalars, Vectors, Matrices, and Tensors\n",
    "\n",
    "### 1. **Scalar (0D Tensor)**:\n",
    "A scalar is a single number, representing a value with no dimensions. It’s a 0-dimensional tensor.\n",
    "\n",
    "- **Example**: $a = 5$ (a single number like 5).\n",
    "\n",
    "---\n",
    "\n",
    "### 2. **Vector (1D Tensor)**:\n",
    "A vector is a stack of scalars, or a collection of numbers in one dimension. It’s a 1-dimensional tensor.\n",
    "\n",
    "- **Example**: $\\mathbf{v} = [1, 2, 3]$ (an array of numbers).\n",
    "\n",
    "---\n",
    "\n",
    "### 3. **Matrix (2D Tensor)**:\n",
    "A matrix is a stack of vectors, organized in rows and columns, forming a 2-dimensional array. It’s a 2-dimensional tensor.\n",
    "\n",
    "- **Example**:\n",
    "  $$ \\mathbf{M} = \\begin{bmatrix} \n",
    "  1 & 2 & 3 \\\\ \n",
    "  4 & 5 & 6 \n",
    "  \\end{bmatrix} $$ \n",
    "  (a table of numbers).\n",
    "\n",
    "---\n",
    "\n",
    "### 4. **Tensor (3D or Higher Tensor)**:\n",
    "A tensor is a stack of matrices or higher-order structures that extend into multiple dimensions. It can be 3D or higher.\n",
    "\n",
    "- **Example (3D Tensor)**: Imagine stacking several matrices on top of each other, like:\n",
    "\n",
    "  $$ \\mathbf{T} = \\left[ \\begin{bmatrix} \n",
    "  1 & 2 \\\\ \n",
    "  3 & 4 \n",
    "  \\end{bmatrix}, \n",
    "  \\begin{bmatrix} \n",
    "  5 & 6 \\\\ \n",
    "  7 & 8 \n",
    "  \\end{bmatrix} \n",
    "  \\right] $$\n",
    "  (two matrices stacked together).\n"
   ]
  },
  {
   "cell_type": "markdown",
   "id": "d024341f",
   "metadata": {},
   "source": [
    "<span style=\"color:blue\">TensorFlow signifies how the framework manages and processes multi-dimensional data (tensors) as it flows through the various operations that define the model and learning process.</span>\n"
   ]
  },
  {
   "cell_type": "markdown",
   "id": "3d133a97",
   "metadata": {
    "id": "3d133a97"
   },
   "source": [
    "# Deep Learning Session 1 - TensorFlow Basics"
   ]
  },
  {
   "cell_type": "code",
   "execution_count": 5,
   "id": "269ff6a7",
   "metadata": {
    "executionInfo": {
     "elapsed": 3340,
     "status": "ok",
     "timestamp": 1639228731740,
     "user": {
      "displayName": "T. K. Senthil Kumar",
      "photoUrl": "https://lh3.googleusercontent.com/a/default-user=s64",
      "userId": "08790200633097249727"
     },
     "user_tz": -330
    },
    "id": "269ff6a7"
   },
   "outputs": [],
   "source": [
    "import tensorflow as tf\n",
    "import numpy as np\n",
    "import pandas as pd\n",
    "# Set NumPy to print numbers without scientific notation and to control precision\n",
    "np.set_printoptions(suppress=True, precision=4)"
   ]
  },
  {
   "cell_type": "markdown",
   "id": "38c63056",
   "metadata": {
    "id": "38c63056"
   },
   "source": [
    "### How to create the TENSORS of type constant and variable"
   ]
  },
  {
   "cell_type": "code",
   "execution_count": 2,
   "id": "5f05b658",
   "metadata": {
    "colab": {
     "base_uri": "https://localhost:8080/"
    },
    "executionInfo": {
     "elapsed": 382,
     "status": "ok",
     "timestamp": 1639228737706,
     "user": {
      "displayName": "T. K. Senthil Kumar",
      "photoUrl": "https://lh3.googleusercontent.com/a/default-user=s64",
      "userId": "08790200633097249727"
     },
     "user_tz": -330
    },
    "id": "5f05b658",
    "outputId": "6da5d5dd-e5ef-4a85-cb4e-94b05b2b2072"
   },
   "outputs": [
    {
     "data": {
      "text/plain": [
       "<tf.Tensor: shape=(), dtype=int32, numpy=3>"
      ]
     },
     "execution_count": 2,
     "metadata": {},
     "output_type": "execute_result"
    }
   ],
   "source": [
    "t1=tf.constant(3)\n",
    "t1"
   ]
  },
  {
   "cell_type": "code",
   "execution_count": 3,
   "id": "ed3d5c8e",
   "metadata": {
    "id": "ed3d5c8e",
    "outputId": "c1b1b306-3de5-413e-e352-41109426e6a4"
   },
   "outputs": [
    {
     "data": {
      "text/plain": [
       "3"
      ]
     },
     "execution_count": 3,
     "metadata": {},
     "output_type": "execute_result"
    }
   ],
   "source": [
    "# to get only the value\n",
    "t1.numpy()"
   ]
  },
  {
   "cell_type": "code",
   "execution_count": 4,
   "id": "7393e070",
   "metadata": {
    "colab": {
     "base_uri": "https://localhost:8080/"
    },
    "executionInfo": {
     "elapsed": 385,
     "status": "ok",
     "timestamp": 1639228743202,
     "user": {
      "displayName": "T. K. Senthil Kumar",
      "photoUrl": "https://lh3.googleusercontent.com/a/default-user=s64",
      "userId": "08790200633097249727"
     },
     "user_tz": -330
    },
    "id": "7393e070",
    "outputId": "cd4d8a29-b8c8-4c00-9fd0-afe37788bc5d"
   },
   "outputs": [
    {
     "data": {
      "text/plain": [
       "<tf.Tensor: shape=(), dtype=int32, numpy=0>"
      ]
     },
     "execution_count": 4,
     "metadata": {},
     "output_type": "execute_result"
    }
   ],
   "source": [
    "# to get the rank of a scalar tensor\n",
    "tf.rank(t1)"
   ]
  },
  {
   "cell_type": "markdown",
   "id": "508e14ea",
   "metadata": {},
   "source": [
    "#### Alternative to `tf.constant()`"
   ]
  },
  {
   "cell_type": "code",
   "execution_count": 3,
   "id": "cd49fb58",
   "metadata": {},
   "outputs": [
    {
     "data": {
      "text/plain": [
       "<tf.Tensor: shape=(), dtype=int32, numpy=3>"
      ]
     },
     "execution_count": 3,
     "metadata": {},
     "output_type": "execute_result"
    }
   ],
   "source": [
    "from tensorflow import constant\n",
    "\n",
    "# Now you can use `constant` directly without the `tf.` prefix\n",
    "t1 = constant(3)\n",
    "t1"
   ]
  },
  {
   "cell_type": "code",
   "execution_count": 4,
   "id": "549f5c92",
   "metadata": {
    "colab": {
     "base_uri": "https://localhost:8080/"
    },
    "executionInfo": {
     "elapsed": 369,
     "status": "ok",
     "timestamp": 1639228747510,
     "user": {
      "displayName": "T. K. Senthil Kumar",
      "photoUrl": "https://lh3.googleusercontent.com/a/default-user=s64",
      "userId": "08790200633097249727"
     },
     "user_tz": -330
    },
    "id": "549f5c92",
    "outputId": "6468782d-9e1e-4762-c3cf-ef1b3640eee7"
   },
   "outputs": [
    {
     "data": {
      "text/plain": [
       "<tf.Tensor: shape=(4,), dtype=int32, numpy=array([3, 2, 5, 8])>"
      ]
     },
     "execution_count": 4,
     "metadata": {},
     "output_type": "execute_result"
    }
   ],
   "source": [
    "# creating a 1D tensor\n",
    "t2=tf.constant([3,2,5,8])\n",
    "t2"
   ]
  },
  {
   "cell_type": "code",
   "execution_count": 14,
   "id": "addaf66e",
   "metadata": {
    "colab": {
     "base_uri": "https://localhost:8080/"
    },
    "executionInfo": {
     "elapsed": 378,
     "status": "ok",
     "timestamp": 1639228752604,
     "user": {
      "displayName": "T. K. Senthil Kumar",
      "photoUrl": "https://lh3.googleusercontent.com/a/default-user=s64",
      "userId": "08790200633097249727"
     },
     "user_tz": -330
    },
    "id": "addaf66e",
    "outputId": "3b651e5a-cac0-489a-923d-8bb4690736ed"
   },
   "outputs": [
    {
     "name": "stdout",
     "output_type": "stream",
     "text": [
      "[3 2 5 8]\n",
      "tf.Tensor(1, shape=(), dtype=int32)\n"
     ]
    }
   ],
   "source": [
    "# to get the rank of a 1D tensor\n",
    "print(t2.numpy())\n",
    "print(tf.rank(t2))"
   ]
  },
  {
   "cell_type": "code",
   "execution_count": 15,
   "id": "4440f947",
   "metadata": {
    "colab": {
     "base_uri": "https://localhost:8080/"
    },
    "executionInfo": {
     "elapsed": 376,
     "status": "ok",
     "timestamp": 1639228757568,
     "user": {
      "displayName": "T. K. Senthil Kumar",
      "photoUrl": "https://lh3.googleusercontent.com/a/default-user=s64",
      "userId": "08790200633097249727"
     },
     "user_tz": -330
    },
    "id": "4440f947",
    "outputId": "6665794e-5c17-40c2-ef50-68524256f654"
   },
   "outputs": [
    {
     "data": {
      "text/plain": [
       "<tf.Tensor: shape=(3, 3), dtype=int32, numpy=\n",
       "array([[1, 3, 4],\n",
       "       [3, 2, 5],\n",
       "       [3, 5, 7]])>"
      ]
     },
     "execution_count": 15,
     "metadata": {},
     "output_type": "execute_result"
    }
   ],
   "source": [
    "# creating a 2D tensor\n",
    "t3=tf.constant([[1,3,4],[3,2,5],[3,5,7]])\n",
    "t3"
   ]
  },
  {
   "cell_type": "code",
   "execution_count": 16,
   "id": "7934dcbf",
   "metadata": {
    "colab": {
     "base_uri": "https://localhost:8080/"
    },
    "executionInfo": {
     "elapsed": 5,
     "status": "ok",
     "timestamp": 1639228760033,
     "user": {
      "displayName": "T. K. Senthil Kumar",
      "photoUrl": "https://lh3.googleusercontent.com/a/default-user=s64",
      "userId": "08790200633097249727"
     },
     "user_tz": -330
    },
    "id": "7934dcbf",
    "outputId": "f4b14ac4-0f39-43bd-f1da-115b24366b2a"
   },
   "outputs": [
    {
     "name": "stdout",
     "output_type": "stream",
     "text": [
      "[[1 3 4]\n",
      " [3 2 5]\n",
      " [3 5 7]]\n",
      "tf.Tensor(2, shape=(), dtype=int32)\n"
     ]
    }
   ],
   "source": [
    "# to get the rank of a 2D tensor\n",
    "print(t3.numpy())\n",
    "print(tf.rank(t3))"
   ]
  },
  {
   "cell_type": "code",
   "execution_count": 17,
   "id": "ea4fc216",
   "metadata": {
    "colab": {
     "base_uri": "https://localhost:8080/"
    },
    "executionInfo": {
     "elapsed": 363,
     "status": "ok",
     "timestamp": 1639228765974,
     "user": {
      "displayName": "T. K. Senthil Kumar",
      "photoUrl": "https://lh3.googleusercontent.com/a/default-user=s64",
      "userId": "08790200633097249727"
     },
     "user_tz": -330
    },
    "id": "ea4fc216",
    "outputId": "ee403397-b33e-4577-f160-254bf247ee81"
   },
   "outputs": [
    {
     "data": {
      "text/plain": [
       "<tf.Tensor: shape=(3, 3, 3), dtype=int32, numpy=\n",
       "array([[[1, 3, 4],\n",
       "        [3, 2, 5],\n",
       "        [3, 5, 7]],\n",
       "\n",
       "       [[0, 1, 4],\n",
       "        [6, 2, 2],\n",
       "        [3, 5, 7]],\n",
       "\n",
       "       [[0, 3, 9],\n",
       "        [3, 2, 5],\n",
       "        [3, 5, 7]]])>"
      ]
     },
     "execution_count": 17,
     "metadata": {},
     "output_type": "execute_result"
    }
   ],
   "source": [
    "# creating a 3D tensor\n",
    "t4=tf.constant([[[1,3,4],[3,2,5],[3,5,7]],[[0,1,4],[6,2,2],[3,5,7]],[[0,3,9],[3,2,5],[3,5,7]]])\n",
    "t4"
   ]
  },
  {
   "cell_type": "markdown",
   "id": "33320bc9",
   "metadata": {},
   "source": [
    "- shape=(3, 3, 3) indicates 3 blocks 3 rows 3 columns"
   ]
  },
  {
   "cell_type": "code",
   "execution_count": 18,
   "id": "057feab3",
   "metadata": {
    "colab": {
     "base_uri": "https://localhost:8080/"
    },
    "executionInfo": {
     "elapsed": 359,
     "status": "ok",
     "timestamp": 1639228771924,
     "user": {
      "displayName": "T. K. Senthil Kumar",
      "photoUrl": "https://lh3.googleusercontent.com/a/default-user=s64",
      "userId": "08790200633097249727"
     },
     "user_tz": -330
    },
    "id": "057feab3",
    "outputId": "89c6f652-eeab-4300-adb5-54d8c79e7cca"
   },
   "outputs": [
    {
     "name": "stdout",
     "output_type": "stream",
     "text": [
      "tf.Tensor(3, shape=(), dtype=int32)\n"
     ]
    }
   ],
   "source": [
    "# to get the rank of a 3D tensor\n",
    "print(tf.rank(t4))"
   ]
  },
  {
   "cell_type": "code",
   "execution_count": 19,
   "id": "65696c89",
   "metadata": {},
   "outputs": [
    {
     "name": "stdout",
     "output_type": "stream",
     "text": [
      "Tensor t3:\n",
      " tf.Tensor(\n",
      "[[[ 1  2  3]\n",
      "  [ 4  5  6]]\n",
      "\n",
      " [[ 7  8  9]\n",
      "  [10 11 12]]], shape=(2, 2, 3), dtype=int32)\n",
      "Rank of t3: 3\n"
     ]
    }
   ],
   "source": [
    "import tensorflow as tf\n",
    "\n",
    "# Create a 3D tensor of shape (2, 2, 3)\n",
    "t3 = tf.constant([[[1, 2, 3], [4, 5, 6]], [[7, 8, 9], [10, 11, 12]]])\n",
    "\n",
    "# Print the tensor\n",
    "print(\"Tensor t3:\\n\", t3)\n",
    "\n",
    "# Print the rank of the tensor\n",
    "rank_t3 = tf.rank(t3)\n",
    "print(\"Rank of t3:\", rank_t3.numpy())\n"
   ]
  },
  {
   "cell_type": "markdown",
   "id": "e3cc654b",
   "metadata": {},
   "source": [
    "- shape=(2, 2, 3) indicates 2 blocks 2 rows 3 columns"
   ]
  },
  {
   "cell_type": "code",
   "execution_count": 20,
   "id": "93508c24",
   "metadata": {
    "colab": {
     "base_uri": "https://localhost:8080/"
    },
    "executionInfo": {
     "elapsed": 370,
     "status": "ok",
     "timestamp": 1639228934592,
     "user": {
      "displayName": "T. K. Senthil Kumar",
      "photoUrl": "https://lh3.googleusercontent.com/a/default-user=s64",
      "userId": "08790200633097249727"
     },
     "user_tz": -330
    },
    "id": "93508c24",
    "outputId": "3b138ba7-957a-4650-ea8b-d42ade246c54"
   },
   "outputs": [
    {
     "data": {
      "text/plain": [
       "<tf.Variable 'var1:0' shape=() dtype=float32, numpy=2.0>"
      ]
     },
     "execution_count": 20,
     "metadata": {},
     "output_type": "execute_result"
    }
   ],
   "source": [
    "#creating a variable tensor with name 'var1' and type float\n",
    "#creates a mutable TensorFlow variable named 'var1', initialized with \n",
    "#the value 2.0 as a 32-bit floating-point number (tf.float32), which can be updated during computations.\n",
    "tv1=tf.Variable(2,dtype=tf.float32,name='var1')\n",
    "tv1"
   ]
  },
  {
   "cell_type": "code",
   "execution_count": 21,
   "id": "dc65cc47",
   "metadata": {
    "colab": {
     "base_uri": "https://localhost:8080/"
    },
    "executionInfo": {
     "elapsed": 350,
     "status": "ok",
     "timestamp": 1639228942021,
     "user": {
      "displayName": "T. K. Senthil Kumar",
      "photoUrl": "https://lh3.googleusercontent.com/a/default-user=s64",
      "userId": "08790200633097249727"
     },
     "user_tz": -330
    },
    "id": "dc65cc47",
    "outputId": "271cde11-da15-4775-9e40-09b1e91d12a8"
   },
   "outputs": [
    {
     "data": {
      "text/plain": [
       "<tf.Tensor: shape=(), dtype=int32, numpy=2>"
      ]
     },
     "execution_count": 21,
     "metadata": {},
     "output_type": "execute_result"
    }
   ],
   "source": [
    "# casting(converting) the float tensor to int\n",
    "tf.cast(tv1,tf.int32)"
   ]
  },
  {
   "cell_type": "markdown",
   "id": "48a22790",
   "metadata": {
    "id": "48a22790"
   },
   "source": [
    "## Accessing elements in a tensor"
   ]
  },
  {
   "cell_type": "code",
   "execution_count": 22,
   "id": "1c1a6c24",
   "metadata": {
    "colab": {
     "base_uri": "https://localhost:8080/"
    },
    "executionInfo": {
     "elapsed": 350,
     "status": "ok",
     "timestamp": 1639228953070,
     "user": {
      "displayName": "T. K. Senthil Kumar",
      "photoUrl": "https://lh3.googleusercontent.com/a/default-user=s64",
      "userId": "08790200633097249727"
     },
     "user_tz": -330
    },
    "id": "1c1a6c24",
    "outputId": "65ec0354-5b57-4845-b076-1aeebc1fae72"
   },
   "outputs": [
    {
     "data": {
      "text/plain": [
       "<tf.Variable 'Variable:0' shape=(5,) dtype=int32, numpy=array([2, 4, 6, 3, 8])>"
      ]
     },
     "execution_count": 22,
     "metadata": {},
     "output_type": "execute_result"
    }
   ],
   "source": [
    "tv2=tf.Variable([2,4,6,3,8])\n",
    "tv2"
   ]
  },
  {
   "cell_type": "code",
   "execution_count": 23,
   "id": "171b7032",
   "metadata": {
    "id": "171b7032",
    "outputId": "b002d1bd-eb2a-46b5-9657-2ce7decb5c81"
   },
   "outputs": [
    {
     "data": {
      "text/plain": [
       "<tf.Tensor: shape=(), dtype=int32, numpy=2>"
      ]
     },
     "execution_count": 23,
     "metadata": {},
     "output_type": "execute_result"
    }
   ],
   "source": [
    "# get the 1st element\n",
    "tv2[0]"
   ]
  },
  {
   "cell_type": "markdown",
   "id": "fd2eb207",
   "metadata": {},
   "source": [
    "### Get the value directly"
   ]
  },
  {
   "cell_type": "code",
   "execution_count": 25,
   "id": "2dfa5e18",
   "metadata": {},
   "outputs": [
    {
     "name": "stdout",
     "output_type": "stream",
     "text": [
      "2\n"
     ]
    }
   ],
   "source": [
    "# Access and print the first element\n",
    "print(tv2[0].numpy())  # This will print 2 directly\n"
   ]
  },
  {
   "cell_type": "code",
   "execution_count": 24,
   "id": "b62d2660",
   "metadata": {
    "id": "b62d2660",
    "outputId": "42383fba-1813-4fc3-a5a1-2a7669c46769"
   },
   "outputs": [
    {
     "data": {
      "text/plain": [
       "<tf.Tensor: shape=(3,), dtype=int32, numpy=array([2, 4, 6])>"
      ]
     },
     "execution_count": 24,
     "metadata": {},
     "output_type": "execute_result"
    }
   ],
   "source": [
    "# get the first 3 elements\n",
    "tv2[:3]"
   ]
  },
  {
   "cell_type": "code",
   "execution_count": 26,
   "id": "d828a960",
   "metadata": {},
   "outputs": [
    {
     "name": "stdout",
     "output_type": "stream",
     "text": [
      "[2 4 6]\n"
     ]
    }
   ],
   "source": [
    "# Access and print the first element\n",
    "print(tv2[:3].numpy())  # This will print 2 directly\n"
   ]
  },
  {
   "cell_type": "code",
   "execution_count": 9,
   "id": "04604664",
   "metadata": {
    "id": "04604664",
    "outputId": "9a698fbb-8988-4aa4-b484-19f843a24915"
   },
   "outputs": [
    {
     "name": "stdout",
     "output_type": "stream",
     "text": [
      "tf.Tensor(\n",
      "[[-0.7149  0.3898  0.3352]\n",
      " [ 0.9278 -0.6414  0.4982]\n",
      " [-0.9064  0.0223 -1.5578]\n",
      " [-0.4345 -1.7469 -0.485 ]], shape=(4, 3), dtype=float32)\n",
      "tf.Tensor(2, shape=(), dtype=int32)\n"
     ]
    }
   ],
   "source": [
    "# create a tensor of shape [4,3] and random values\n",
    "tv3=tf.random.normal([4,3])\n",
    "print(tv3)\n",
    "print(tf.rank(tv3))"
   ]
  },
  {
   "cell_type": "code",
   "execution_count": 10,
   "id": "c997b059",
   "metadata": {
    "id": "c997b059"
   },
   "outputs": [],
   "source": [
    "# converting the tensor to variable tensor to allow us to perform operations on it.\n",
    "tv4=tf.Variable(tv3)"
   ]
  },
  {
   "cell_type": "code",
   "execution_count": 11,
   "id": "ed835bea",
   "metadata": {
    "id": "ed835bea",
    "outputId": "2c5f185f-9f56-4371-f8a8-4043b66e10d6"
   },
   "outputs": [
    {
     "data": {
      "text/plain": [
       "<tf.Variable 'UnreadVariable' shape=(4, 3) dtype=float32, numpy=\n",
       "array([[ 0.    ,  0.3898,  0.3352],\n",
       "       [ 0.9278, -0.6414,  0.4982],\n",
       "       [-0.9064,  0.0223, -1.5578],\n",
       "       [-0.4345, -1.7469, -0.485 ]], dtype=float32)>"
      ]
     },
     "execution_count": 11,
     "metadata": {},
     "output_type": "execute_result"
    }
   ],
   "source": [
    "# change 1st element value to 0\n",
    "tv4[0,0].assign(0)"
   ]
  },
  {
   "cell_type": "code",
   "execution_count": 12,
   "id": "d2b91957",
   "metadata": {
    "id": "d2b91957",
    "outputId": "6518e53b-3d57-4f6f-dabc-92ec3b3b9d8c"
   },
   "outputs": [
    {
     "data": {
      "text/plain": [
       "<tf.Variable 'UnreadVariable' shape=(4, 3) dtype=float32, numpy=\n",
       "array([[ 1.    ,  1.    ,  1.    ],\n",
       "       [ 0.9278, -0.6414,  0.4982],\n",
       "       [-0.9064,  0.0223, -1.5578],\n",
       "       [-0.4345, -1.7469, -0.485 ]], dtype=float32)>"
      ]
     },
     "execution_count": 12,
     "metadata": {},
     "output_type": "execute_result"
    }
   ],
   "source": [
    "# change values of 1st row to 1\n",
    "tv4[0,:].assign([1,1,1])"
   ]
  },
  {
   "cell_type": "code",
   "execution_count": 13,
   "id": "c9daa5df",
   "metadata": {
    "id": "c9daa5df",
    "outputId": "c4ae6707-ac9b-42ef-b092-71e219323117"
   },
   "outputs": [
    {
     "data": {
      "text/plain": [
       "<tf.Tensor: shape=(3, 3), dtype=float32, numpy=\n",
       "array([[1., 1., 1.],\n",
       "       [1., 1., 1.],\n",
       "       [1., 1., 1.]], dtype=float32)>"
      ]
     },
     "execution_count": 13,
     "metadata": {},
     "output_type": "execute_result"
    }
   ],
   "source": [
    "# create a [3,3] matriz containing 1\n",
    "tf.ones([3,3])"
   ]
  },
  {
   "cell_type": "code",
   "execution_count": 14,
   "id": "137deea5",
   "metadata": {},
   "outputs": [
    {
     "data": {
      "text/plain": [
       "<tf.Tensor: shape=(2, 3, 3), dtype=float32, numpy=\n",
       "array([[[1., 1., 1.],\n",
       "        [1., 1., 1.],\n",
       "        [1., 1., 1.]],\n",
       "\n",
       "       [[1., 1., 1.],\n",
       "        [1., 1., 1.],\n",
       "        [1., 1., 1.]]], dtype=float32)>"
      ]
     },
     "execution_count": 14,
     "metadata": {},
     "output_type": "execute_result"
    }
   ],
   "source": [
    "# create a 3d tensor\n",
    "tf.ones([2,3,3])"
   ]
  },
  {
   "cell_type": "code",
   "execution_count": 15,
   "id": "d8650ac4",
   "metadata": {
    "id": "d8650ac4",
    "outputId": "90b06ebe-ac32-4241-f8ce-bf78f8f06ed4"
   },
   "outputs": [
    {
     "data": {
      "text/plain": [
       "<tf.Tensor: shape=(4, 4), dtype=float32, numpy=\n",
       "array([[0., 0., 0., 0.],\n",
       "       [0., 0., 0., 0.],\n",
       "       [0., 0., 0., 0.],\n",
       "       [0., 0., 0., 0.]], dtype=float32)>"
      ]
     },
     "execution_count": 15,
     "metadata": {},
     "output_type": "execute_result"
    }
   ],
   "source": [
    "# create a [4,4] matriz containing 0\n",
    "tf.zeros([4,4])"
   ]
  },
  {
   "cell_type": "code",
   "execution_count": 16,
   "id": "cc0cb892",
   "metadata": {
    "id": "cc0cb892",
    "outputId": "33ad9a11-dac5-4961-cce5-d3513757b1be"
   },
   "outputs": [
    {
     "data": {
      "text/plain": [
       "<tf.Variable 'Variable:0' shape=(4, 3) dtype=float32, numpy=\n",
       "array([[ 1.    ,  1.    ,  1.    ],\n",
       "       [ 0.9278, -0.6414,  0.4982],\n",
       "       [-0.9064,  0.0223, -1.5578],\n",
       "       [-0.4345, -1.7469, -0.485 ]], dtype=float32)>"
      ]
     },
     "execution_count": 16,
     "metadata": {},
     "output_type": "execute_result"
    }
   ],
   "source": [
    "# reshape operations\n",
    "tv4"
   ]
  },
  {
   "cell_type": "code",
   "execution_count": 17,
   "id": "af838d38",
   "metadata": {
    "id": "af838d38",
    "outputId": "6cd3961d-c553-48c6-9f22-d12c25449e88"
   },
   "outputs": [
    {
     "data": {
      "text/plain": [
       "<tf.Tensor: shape=(6, 2), dtype=float32, numpy=\n",
       "array([[ 1.    ,  1.    ],\n",
       "       [ 1.    ,  0.9278],\n",
       "       [-0.6414,  0.4982],\n",
       "       [-0.9064,  0.0223],\n",
       "       [-1.5578, -0.4345],\n",
       "       [-1.7469, -0.485 ]], dtype=float32)>"
      ]
     },
     "execution_count": 17,
     "metadata": {},
     "output_type": "execute_result"
    }
   ],
   "source": [
    "tf.reshape(tv4,[6,2])"
   ]
  },
  {
   "cell_type": "code",
   "execution_count": 18,
   "id": "6283f3cc",
   "metadata": {
    "id": "6283f3cc",
    "outputId": "f13386cb-0907-4a08-f5ca-f08d2e02f08a"
   },
   "outputs": [
    {
     "data": {
      "text/plain": [
       "<tf.Tensor: shape=(4, 3), dtype=float32, numpy=\n",
       "array([[-0.4564,  0.6474, -0.5739],\n",
       "       [ 1.7952, -0.026 , -0.8714],\n",
       "       [ 2.5995, -0.6675, -0.2123],\n",
       "       [-0.2769,  1.6047,  0.4363]], dtype=float32)>"
      ]
     },
     "execution_count": 18,
     "metadata": {},
     "output_type": "execute_result"
    }
   ],
   "source": [
    "# selecting elements of tensor based on some condition\n",
    "tv3=tf.random.normal([4,3])\n",
    "tv3"
   ]
  },
  {
   "cell_type": "code",
   "execution_count": 19,
   "id": "223063f6",
   "metadata": {
    "id": "223063f6",
    "outputId": "37b8d8d4-d42f-47f8-9c65-940b95550067"
   },
   "outputs": [
    {
     "data": {
      "text/plain": [
       "<tf.Tensor: shape=(4, 3), dtype=bool, numpy=\n",
       "array([[ True, False,  True],\n",
       "       [False,  True,  True],\n",
       "       [False,  True,  True],\n",
       "       [ True, False, False]])>"
      ]
     },
     "execution_count": 19,
     "metadata": {},
     "output_type": "execute_result"
    }
   ],
   "source": [
    "tv3<0 #condition"
   ]
  },
  {
   "cell_type": "code",
   "execution_count": 20,
   "id": "e2dd01eb",
   "metadata": {
    "id": "e2dd01eb",
    "outputId": "4912e1e5-58c0-4227-a584-608acb4baa73"
   },
   "outputs": [
    {
     "data": {
      "text/plain": [
       "<tf.Tensor: shape=(7,), dtype=float32, numpy=\n",
       "array([-0.4564, -0.5739, -0.026 , -0.8714, -0.6675, -0.2123, -0.2769],\n",
       "      dtype=float32)>"
      ]
     },
     "execution_count": 20,
     "metadata": {},
     "output_type": "execute_result"
    }
   ],
   "source": [
    "# way 1\n",
    "tv3[tv3<0]"
   ]
  },
  {
   "cell_type": "code",
   "execution_count": 21,
   "id": "599e4d2b",
   "metadata": {
    "id": "599e4d2b",
    "outputId": "8e3e0b68-1d5c-4d2d-aefd-86fd00ff235c"
   },
   "outputs": [
    {
     "data": {
      "text/plain": [
       "<tf.Tensor: shape=(7, 2), dtype=int64, numpy=\n",
       "array([[0, 0],\n",
       "       [0, 2],\n",
       "       [1, 1],\n",
       "       [1, 2],\n",
       "       [2, 1],\n",
       "       [2, 2],\n",
       "       [3, 0]], dtype=int64)>"
      ]
     },
     "execution_count": 21,
     "metadata": {},
     "output_type": "execute_result"
    }
   ],
   "source": [
    "# way 2\n",
    "tf.where(tv3<0)"
   ]
  },
  {
   "cell_type": "markdown",
   "id": "a1b38d44",
   "metadata": {
    "id": "a1b38d44"
   },
   "source": [
    "## Arithmetic operations on tensors"
   ]
  },
  {
   "cell_type": "code",
   "execution_count": 22,
   "id": "ef6f64e1",
   "metadata": {
    "id": "ef6f64e1"
   },
   "outputs": [],
   "source": [
    "a=tf.Variable([2.,3,1])\n",
    "b=tf.Variable([3.,4,1])"
   ]
  },
  {
   "cell_type": "code",
   "execution_count": 23,
   "id": "f7581d52",
   "metadata": {
    "id": "f7581d52",
    "outputId": "0e138726-1804-4f22-9d0a-eb40850600c2"
   },
   "outputs": [
    {
     "name": "stdout",
     "output_type": "stream",
     "text": [
      "tf.Tensor([5. 7. 2.], shape=(3,), dtype=float32)\n",
      "tf.Tensor([ 6. 12.  1.], shape=(3,), dtype=float32)\n",
      "tf.Tensor([0.6667 0.75   1.    ], shape=(3,), dtype=float32)\n",
      "tf.Tensor([2. 3. 0.], shape=(3,), dtype=float32)\n"
     ]
    }
   ],
   "source": [
    "print((a+b)) # Addition\n",
    "print(a*b) # Element wise Multiplication\n",
    "print(a/b) # Division\n",
    "print(a%b) # Modulus"
   ]
  },
  {
   "cell_type": "code",
   "execution_count": 24,
   "id": "b7868049",
   "metadata": {
    "id": "b7868049",
    "outputId": "0fb0763c-3988-4577-aa44-276be14d15fb"
   },
   "outputs": [
    {
     "data": {
      "text/plain": [
       "<tf.Tensor: shape=(), dtype=float32, numpy=19.0>"
      ]
     },
     "execution_count": 24,
     "metadata": {},
     "output_type": "execute_result"
    }
   ],
   "source": [
    "# Dot product along axis 1\n",
    "tf.tensordot(a,b,1)"
   ]
  },
  {
   "cell_type": "code",
   "execution_count": 48,
   "id": "e98de298",
   "metadata": {
    "id": "e98de298",
    "outputId": "13bb6a3e-31e5-470a-cb41-ee6818ceb15e"
   },
   "outputs": [
    {
     "data": {
      "text/plain": [
       "<tf.Tensor: shape=(3, 3), dtype=float32, numpy=\n",
       "array([[ 6.,  8.,  2.],\n",
       "       [ 9., 12.,  3.],\n",
       "       [ 3.,  4.,  1.]], dtype=float32)>"
      ]
     },
     "execution_count": 48,
     "metadata": {},
     "output_type": "execute_result"
    }
   ],
   "source": [
    "# Dot product along axis 0\n",
    "tf.tensordot(a,b,0)"
   ]
  },
  {
   "cell_type": "code",
   "execution_count": 49,
   "id": "527746a5",
   "metadata": {
    "id": "527746a5",
    "outputId": "b314b03a-ec6d-42bc-830f-8e6250f4e6f0"
   },
   "outputs": [
    {
     "data": {
      "text/plain": [
       "<tf.Tensor: shape=(3,), dtype=float32, numpy=array([5., 7., 2.], dtype=float32)>"
      ]
     },
     "execution_count": 49,
     "metadata": {},
     "output_type": "execute_result"
    }
   ],
   "source": [
    "# way 2 of adding 2 tensors\n",
    "tf.add(a,b)"
   ]
  },
  {
   "cell_type": "code",
   "execution_count": 50,
   "id": "4f984605",
   "metadata": {
    "id": "4f984605",
    "outputId": "53a19180-46d3-4757-8112-3a39b0251b81"
   },
   "outputs": [
    {
     "name": "stdout",
     "output_type": "stream",
     "text": [
      "tf.Tensor([4. 9. 1.], shape=(3,), dtype=float32)\n",
      "tf.Tensor([1.4142135 1.7320508 1.       ], shape=(3,), dtype=float32)\n",
      "tf.Tensor([ 7.389056  20.085537   2.7182817], shape=(3,), dtype=float32)\n",
      "tf.Tensor([0.6931472 1.0986123 0.       ], shape=(3,), dtype=float32)\n"
     ]
    }
   ],
   "source": [
    "print(tf.pow(a,2)) # power\n",
    "print(tf.sqrt(a)) # square root\n",
    "print(tf.exp(a,0.5)) # exponential\n",
    "print(tf.math.log(a)) # log"
   ]
  },
  {
   "cell_type": "markdown",
   "id": "d4ec0a89",
   "metadata": {
    "id": "d4ec0a89"
   },
   "source": [
    "Matrix Multiplication"
   ]
  },
  {
   "cell_type": "code",
   "execution_count": 52,
   "id": "4e3f09c2",
   "metadata": {
    "id": "4e3f09c2"
   },
   "outputs": [],
   "source": [
    "m1=tf.Variable(np.random.randint(1,5,[4,4]))\n",
    "m2=tf.Variable(np.random.randint(1,5,[4,4]))"
   ]
  },
  {
   "cell_type": "code",
   "execution_count": 53,
   "id": "9d69972e",
   "metadata": {
    "id": "9d69972e",
    "outputId": "0a17a345-2e16-4d70-c994-98cfb4986100"
   },
   "outputs": [
    {
     "data": {
      "text/plain": [
       "(array([[3, 1, 3, 3],\n",
       "        [4, 2, 1, 2],\n",
       "        [3, 3, 3, 1],\n",
       "        [2, 2, 4, 2]]),\n",
       " array([[2, 2, 1, 3],\n",
       "        [2, 2, 4, 3],\n",
       "        [3, 3, 3, 4],\n",
       "        [1, 3, 2, 3]]))"
      ]
     },
     "execution_count": 53,
     "metadata": {},
     "output_type": "execute_result"
    }
   ],
   "source": [
    "m1.numpy(),m2.numpy()"
   ]
  },
  {
   "cell_type": "code",
   "execution_count": 54,
   "id": "b629ebf3",
   "metadata": {
    "id": "b629ebf3",
    "outputId": "cec58724-8c6c-41bf-b357-0e2e810883c2"
   },
   "outputs": [
    {
     "data": {
      "text/plain": [
       "<tf.Tensor: shape=(4, 4), dtype=int32, numpy=\n",
       "array([[6, 2, 3, 9],\n",
       "       [8, 4, 4, 6],\n",
       "       [9, 9, 9, 4],\n",
       "       [2, 6, 8, 6]])>"
      ]
     },
     "execution_count": 54,
     "metadata": {},
     "output_type": "execute_result"
    }
   ],
   "source": [
    "m1*m2 # Element wise Multiplication"
   ]
  },
  {
   "cell_type": "code",
   "execution_count": 55,
   "id": "2e64dff1",
   "metadata": {
    "id": "2e64dff1",
    "outputId": "9f5ea0f0-9202-4245-a611-a04ab4e3499a"
   },
   "outputs": [
    {
     "data": {
      "text/plain": [
       "<tf.Tensor: shape=(4, 4), dtype=int32, numpy=\n",
       "array([[20, 26, 22, 33],\n",
       "       [17, 21, 19, 28],\n",
       "       [22, 24, 26, 33],\n",
       "       [22, 26, 26, 34]])>"
      ]
     },
     "execution_count": 55,
     "metadata": {},
     "output_type": "execute_result"
    }
   ],
   "source": [
    "tf.matmul(m1,m2) # Matrix Multiplication"
   ]
  },
  {
   "cell_type": "code",
   "execution_count": 57,
   "id": "ba69f791",
   "metadata": {
    "id": "ba69f791",
    "outputId": "7ed4119f-65c2-428b-e311-61e4c758eefd"
   },
   "outputs": [
    {
     "data": {
      "text/plain": [
       "<tf.Tensor: shape=(), dtype=float32, numpy=8.0>"
      ]
     },
     "execution_count": 57,
     "metadata": {},
     "output_type": "execute_result"
    }
   ],
   "source": [
    "# to find determinant of m1\n",
    "# we need to cast to float to find determinant\n",
    "m1=tf.cast(m1,tf.float32)\n",
    "tf.linalg.det(m1)"
   ]
  },
  {
   "cell_type": "code",
   "execution_count": 58,
   "id": "20fbeba0",
   "metadata": {
    "id": "20fbeba0",
    "outputId": "1570dc86-dc43-43de-d898-a9f61e1d0767"
   },
   "outputs": [
    {
     "data": {
      "text/plain": [
       "<tf.Tensor: shape=(4,), dtype=complex64, numpy=\n",
       "array([9.797894  +0.j       , 0.01961997+2.2389781j,\n",
       "       0.01961997-2.2389781j, 0.1628634 +0.j       ], dtype=complex64)>"
      ]
     },
     "execution_count": 58,
     "metadata": {},
     "output_type": "execute_result"
    }
   ],
   "source": [
    "# to find eigen values of m1\n",
    "tf.linalg.eigvals(m1)"
   ]
  },
  {
   "cell_type": "code",
   "execution_count": 60,
   "id": "00339629",
   "metadata": {
    "id": "00339629",
    "outputId": "bcd46d2c-aa7a-4efa-91e5-f1802c93b89b"
   },
   "outputs": [
    {
     "data": {
      "text/plain": [
       "<tf.Tensor: shape=(4, 4), dtype=float32, numpy=\n",
       "array([[3., 4., 3., 2.],\n",
       "       [1., 2., 3., 2.],\n",
       "       [3., 1., 3., 4.],\n",
       "       [3., 2., 1., 2.]], dtype=float32)>"
      ]
     },
     "execution_count": 60,
     "metadata": {},
     "output_type": "execute_result"
    }
   ],
   "source": [
    "# to find transpose of m1\n",
    "tf.transpose(m1)"
   ]
  },
  {
   "cell_type": "code",
   "execution_count": null,
   "id": "83e75783",
   "metadata": {
    "id": "83e75783",
    "outputId": "b0919746-8b57-4c51-eed9-43b80a9df805"
   },
   "outputs": [
    {
     "data": {
      "text/plain": [
       "<tf.Tensor: shape=(4, 8), dtype=float32, numpy=\n",
       "array([[3., 3., 3., 2., 1., 1., 1., 4.],\n",
       "       [3., 1., 3., 2., 4., 1., 1., 2.],\n",
       "       [4., 2., 4., 3., 3., 1., 4., 4.],\n",
       "       [1., 1., 2., 2., 1., 1., 3., 4.]], dtype=float32)>"
      ]
     },
     "execution_count": 59,
     "metadata": {},
     "output_type": "execute_result"
    }
   ],
   "source": [
    "# concatinating 2 tensors\n",
    "m2=tf.cast(m2,tf.float32)\n",
    "tf.concat([m1,m2],1)"
   ]
  },
  {
   "cell_type": "markdown",
   "id": "2cc112fd",
   "metadata": {
    "id": "2cc112fd"
   },
   "source": [
    "# Weighted moving average using TensorFlow and visualizing the results with a plot.\n",
    "\n",
    "## Perform the following equation\n",
    "\n",
    "### upd_avg=$\\alpha \\times$Raw_data + $(1-\\alpha)\\times $previous_upd_avg\n",
    "\n",
    "- upd_avg: Updated average (moving average at each step).\n",
    "- Raw_data: A new data point from the raw data.\n",
    "- previous_upd_avg: The moving average from the previous step.\n",
    "- alpha: A constant that controls the contribution of the new data point to the moving average."
   ]
  },
  {
   "cell_type": "code",
   "execution_count": 25,
   "id": "ae3a6da9",
   "metadata": {
    "id": "95e11b31"
   },
   "outputs": [
    {
     "data": {
      "text/plain": [
       "array([-1.0389,  0.648 , -0.2909,  1.2847,  0.1804,  1.4969, -0.9194,\n",
       "       -0.7816,  1.8094, -1.4804, -0.153 , -2.9421,  0.6086,  1.1656,\n",
       "        0.898 ,  0.2988, -0.6814,  0.2008,  0.6655, -0.3161, -0.9454,\n",
       "        0.2099, -1.0259,  0.1516,  0.8704, -1.7002,  0.9318, -0.1493,\n",
       "       -0.5247,  0.4643,  0.8773, -1.099 , -0.2912, -1.035 ,  1.3208,\n",
       "       -2.1117,  0.7892,  0.0057,  0.5409,  0.2313, -0.3332,  0.1315,\n",
       "       -0.2102,  0.0904, -2.2492,  1.7044, -0.199 , -0.7644, -0.9241,\n",
       "       -1.2989,  1.4139, -0.2506, -0.157 ,  2.2161, -1.3331, -0.6566,\n",
       "       -2.2411, -0.2052,  1.8256,  2.2795,  0.2957,  0.8267,  1.2551,\n",
       "        0.9948, -1.5129,  0.3845, -0.9436, -0.418 , -0.2874,  0.1509,\n",
       "        0.8397, -0.9553, -0.3268, -1.5329,  0.4035,  0.317 , -0.1912,\n",
       "       -1.8855, -0.8875,  1.0581,  1.4837,  1.5992, -0.6085,  0.3542,\n",
       "       -0.1368, -0.5017,  0.1803,  1.1165, -0.6395, -0.391 ,  0.3722,\n",
       "       -1.9252, -0.5246, -1.4821,  1.7326, -2.1501,  0.5318, -0.2863,\n",
       "        0.8135, -0.9958], dtype=float32)"
      ]
     },
     "execution_count": 25,
     "metadata": {},
     "output_type": "execute_result"
    }
   ],
   "source": [
    "raw_data=tf.random.normal([100])\n",
    "raw_data.numpy()"
   ]
  },
  {
   "cell_type": "code",
   "execution_count": 26,
   "id": "95e11b31",
   "metadata": {
    "id": "95e11b31"
   },
   "outputs": [],
   "source": [
    "alpha=tf.constant(0.05)\n",
    "upd_avg=tf.Variable(0.)\n",
    "res=[]"
   ]
  },
  {
   "cell_type": "markdown",
   "id": "d9c60682",
   "metadata": {},
   "source": [
    "$$ \\text{upd_avg} = \\alpha \\times \\text{raw_data}[i] + (1 - \\alpha) \\times \\text{previous_upd_avg} $$\n"
   ]
  },
  {
   "cell_type": "code",
   "execution_count": 27,
   "id": "976c5fb9",
   "metadata": {
    "id": "976c5fb9"
   },
   "outputs": [],
   "source": [
    "for i in range(raw_data.numpy().shape[0]):\n",
    "    upd_avg=alpha*raw_data.numpy()[i]+ (1-alpha)*upd_avg\n",
    "    res.append(upd_avg.numpy())"
   ]
  },
  {
   "cell_type": "code",
   "execution_count": 28,
   "id": "589cf3bb",
   "metadata": {
    "id": "589cf3bb",
    "outputId": "56a74f2e-6db2-4e67-ba7e-74091eef9a04"
   },
   "outputs": [
    {
     "data": {
      "text/plain": [
       "[<matplotlib.lines.Line2D at 0x1d92d44f210>]"
      ]
     },
     "execution_count": 28,
     "metadata": {},
     "output_type": "execute_result"
    },
    {
     "data": {
      "image/png": "[encoded data removed]",
      "text/plain": [
       "<Figure size 640x480 with 1 Axes>"
      ]
     },
     "metadata": {},
     "output_type": "display_data"
    }
   ],
   "source": [
    "from matplotlib import pyplot as plt\n",
    "plt.plot(res)"
   ]
  },
  {
   "cell_type": "markdown",
   "id": "f38df7a7",
   "metadata": {},
   "source": [
    "# Simulating a basic linear regression using TensorFlow.\n",
    "\n",
    "## Explanation:\n",
    "\n",
    "### Input Matrix (`inp`):\n",
    "Each row represents a **data point** with 3 features (columns). This matrix is your **input data** for the regression task.\n",
    "\n",
    "### Output/Target (`out`):\n",
    "This is the **target/output** corresponding to each row of `inp`. These are the values you're trying to predict using **linear regression**.\n",
    "\n",
    "### Initial Weights (`w`):\n",
    "The weights are initialized to **[1., 1., 1.]**, which are randomly assumed. These weights correspond to the **coefficients** of the linear regression model for the 3 input features.\n",
    "\n",
    "### Model Function (`mod1`):\n",
    "This function computes the predicted output using the **dot product** between the input matrix and the weight vector. This is equivalent to the formula:\n",
    "\n",
    "$$ \\hat{y} = w_1 \\cdot x_1 + w_2 \\cdot x_2 + w_3 \\cdot x_3 $$\n",
    "\n",
    "Where $x_1, x_2, x_3$ are the features and $w_1, w_2, w_3$ are the weights.\n",
    "\n",
    "### Loss Function:\n",
    "The **absolute error** is used as the loss function. It calculates the sum of absolute differences between the predicted values ($\\text{mod1(inp, w)}$) and the true values ($\\text{out}$).\n",
    "\n",
    "### Optimizer:\n",
    "We use the **Adam optimizer** with a learning rate of **0.1**. The optimizer will minimize the loss function by adjusting the weights.\n",
    "\n",
    "### Training Loop:\n",
    "The optimizer is run for **100 iterations**, where in each iteration it minimizes the loss and updates the weights $w$. After the optimization process, the weights are updated, which will result in the **best-fit coefficients** for the linear regression model.\n",
    "\n",
    "### Final Output:\n",
    "After **100 iterations**, the final weights (coefficients) are printed. These are the **learned coefficients** that minimize the loss, i.e., the difference between the predicted and actual target values.\n",
    "\n",
    "This simulates a basic **linear regression** using TensorFlow.\n"
   ]
  },
  {
   "cell_type": "markdown",
   "id": "20a66bab",
   "metadata": {},
   "source": [
    "# Input and Output Table for Regression Problem\n",
    "\n",
    "| Data Point | Feature 1 (x1) | Feature 2 (x2) | Feature 3 (x3) | Target (y) |\n",
    "|------------|----------------|----------------|----------------|------------|\n",
    "| 1          | 23             | 0.5            | 1              | 2          |\n",
    "| 2          | 26             | 2              | 1              | 3          |\n",
    "| 3          | 34             | 6              | 2              | 6          |\n",
    "| 4          | 34             | 10             | 1              | 10         |\n",
    "| 5          | 22             | 0              | 1              | 1.8        |\n",
    "| 6          | 27             | 1              | 2              | 2.5        |\n",
    "| 7          | 36             | 11             | 1              | 10.2       |\n",
    "| 8          | 35             | 7              | 2              | 7.5        |\n"
   ]
  },
  {
   "cell_type": "code",
   "execution_count": 92,
   "id": "4220786f",
   "metadata": {
    "id": "91ea2085"
   },
   "outputs": [],
   "source": [
    "# Consider the input matrix for regression problem\n",
    "\n",
    "import tensorflow as tf\n",
    "\n",
    "# Input matrix (features), each row is a data point, and each column is a feature\n",
    "inp = tf.constant([[23, 0.5, 1],  # 1st data point with 3 features\n",
    "                   [26, 2, 1],    # 2nd data point\n",
    "                   [34, 6, 2],    # 3rd data point\n",
    "                   [34, 10, 1],   # 4th data point\n",
    "                   [22, 0, 1],    # 5th data point\n",
    "                   [27, 1, 2],    # 6th data point\n",
    "                   [36, 11, 1],   # 7th data point\n",
    "                   [35, 7, 2]])   # 8th data point\n",
    "\n",
    "# Output/Target values (regression target)\n",
    "out = tf.constant([[2],    # target for 1st data point\n",
    "                   [3],    # target for 2nd data point\n",
    "                   [6],    # target for 3rd data point\n",
    "                   [10],   # target for 4th data point\n",
    "                   [1.8],  # target for 5th data point\n",
    "                   [2.5],  # target for 6th data point\n",
    "                   [10.2], # target for 7th data point\n",
    "                   [7.5]]) # target for 8th data point"
   ]
  },
  {
   "cell_type": "code",
   "execution_count": 93,
   "id": "08af5999",
   "metadata": {
    "id": "91ea2085"
   },
   "outputs": [
    {
     "name": "stdout",
     "output_type": "stream",
     "text": [
      "<tf.Variable 'Variable:0' shape=(3,) dtype=float32, numpy=array([1., 1., 1.], dtype=float32)>\n"
     ]
    }
   ],
   "source": [
    "# Initialize random weights (for the 3 features)\n",
    "# Weights are [w1, w2, w3] corresponding to the 3 input features\n",
    "w = tf.Variable([1., 1., 1.])  # Initial random weights (can be zeros or any guess)\n",
    "print(w)"
   ]
  },
  {
   "cell_type": "markdown",
   "id": "be3ea7a5",
   "metadata": {},
   "source": [
    "### Model Function:\n",
    "\n",
    "This function multiplies input data with weights and returns predictions using the dot product (linear regression). The formula for the model can be written as:\n",
    "\n",
    "$$ \\hat{y} = x_1 w_1 + x_2 w_2 + x_3 w_3 $$\n",
    "\n",
    "Where:\n",
    "- $\\hat{y}$ is the predicted output,\n",
    "- $x_1, x_2, x_3$ are the input features,\n",
    "- $w_1, w_2, w_3$ are the corresponding weights for each feature.\n",
    "\n",
    "In matrix form:\n",
    "\n",
    "$$ \\hat{y} = \\text{inputs} \\cdot \\text{weights} $$\n"
   ]
  },
  {
   "cell_type": "markdown",
   "id": "14f6f16b",
   "metadata": {},
   "source": [
    "### Model Function Using Given Data:\n",
    "\n",
    "This function multiplies the input data with weights and returns predictions using the dot product (linear regression). For the given data, the formula for each row of input can be written as:\n",
    "\n",
    "For each data point (row of inputs):\n",
    "\n",
    "$$ \\hat{y} = w_1 \\cdot \\text{Feature 1} + w_2 \\cdot \\text{Feature 2} + w_3 \\cdot \\text{Feature 3} $$\n",
    "\n",
    "Using the given input data, for example, for the 1st data point:\n",
    "\n",
    "$$ \\hat{y}_1 = w_1 \\cdot 23 + w_2 \\cdot 0.5 + w_3 \\cdot 1 $$\n",
    "\n",
    "Similarly, for the 2nd data point:\n",
    "\n",
    "$$ \\hat{y}_2 = w_1 \\cdot 26 + w_2 \\cdot 2 + w_3 \\cdot 1 $$\n",
    "\n",
    "The general form for all data points can be represented as:\n",
    "\n",
    "$$\n",
    "\\begin{bmatrix}\n",
    "\\hat{y}_1 \\\\\n",
    "\\hat{y}_2 \\\\\n",
    "\\hat{y}_3 \\\\\n",
    "\\hat{y}_4 \\\\\n",
    "\\hat{y}_5 \\\\\n",
    "\\hat{y}_6 \\\\\n",
    "\\hat{y}_7 \\\\\n",
    "\\hat{y}_8\n",
    "\\end{bmatrix}\n",
    "=\n",
    "\\begin{bmatrix}\n",
    "23 & 0.5 & 1 \\\\\n",
    "26 & 2 & 1 \\\\\n",
    "34 & 6 & 2 \\\\\n",
    "34 & 10 & 1 \\\\\n",
    "22 & 0 & 1 \\\\\n",
    "27 & 1 & 2 \\\\\n",
    "36 & 11 & 1 \\\\\n",
    "35 & 7 & 2\n",
    "\\end{bmatrix}\n",
    "\\cdot\n",
    "\\begin{bmatrix}\n",
    "w_1 \\\\\n",
    "w_2 \\\\\n",
    "w_3\n",
    "\\end{bmatrix}\n",
    "$$\n",
    "\n",
    "Where:\n",
    "- $\\hat{y}_i$ are the predicted outputs,\n",
    "- $w_1, w_2, w_3$ are the weights for each feature (coefficients),\n",
    "- The matrix on the left represents the input features (from the given data).\n",
    "\n",
    "\n",
    "### Model Function Using Initialized Weights:\n",
    "\n",
    "We initialize the weights for the 3 input features as follows:\n",
    "\n",
    "$$\n",
    "w_1 = 1.0, \\quad w_2 = 1.0, \\quad w_3 = 1.0\n",
    "$$\n",
    "\n",
    "The model multiplies the input data with the weights and returns predictions using the dot product (linear regression). For the given input data, the formula for each row (data point) becomes:\n",
    "\n",
    "For the 1st data point:\n",
    "\n",
    "$$\n",
    "\\hat{y}_1 = 1.0 \\cdot 23 + 1.0 \\cdot 0.5 + 1.0 \\cdot 1 = 24.5\n",
    "$$\n",
    "\n",
    "For the 2nd data point:\n",
    "\n",
    "$$\n",
    "\\hat{y}_2 = 1.0 \\cdot 26 + 1.0 \\cdot 2 + 1.0 \\cdot 1 = 29\n",
    "$$\n",
    "\n",
    "For the 3rd data point:\n",
    "\n",
    "$$\n",
    "\\hat{y}_3 = 1.0 \\cdot 34 + 1.0 \\cdot 6 + 1.0 \\cdot 2 = 42\n",
    "$$\n",
    "\n",
    "...and similarly for all the data points.\n",
    "\n",
    "### Matrix Form:\n",
    "\n",
    "The general form of the model for all data points can be represented as:\n",
    "\n",
    "$$\n",
    "\\begin{bmatrix}\n",
    "\\hat{y}_1 \\\\\n",
    "\\hat{y}_2 \\\\\n",
    "\\hat{y}_3 \\\\\n",
    "\\hat{y}_4 \\\\\n",
    "\\hat{y}_5 \\\\\n",
    "\\hat{y}_6 \\\\\n",
    "\\hat{y}_7 \\\\\n",
    "\\hat{y}_8\n",
    "\\end{bmatrix}\n",
    "=\n",
    "\\begin{bmatrix}\n",
    "23 & 0.5 & 1 \\\\\n",
    "26 & 2 & 1 \\\\\n",
    "34 & 6 & 2 \\\\\n",
    "34 & 10 & 1 \\\\\n",
    "22 & 0 & 1 \\\\\n",
    "27 & 1 & 2 \\\\\n",
    "36 & 11 & 1 \\\\\n",
    "35 & 7 & 2\n",
    "\\end{bmatrix}\n",
    "\\cdot\n",
    "\\begin{bmatrix}\n",
    "1.0 \\\\\n",
    "1.0 \\\\\n",
    "1.0\n",
    "\\end{bmatrix}\n",
    "$$\n",
    "\n",
    "Where:\n",
    "- The first matrix on the left represents the input features (from the given data),\n",
    "- The second matrix represents the initialized weights $w_1 = w_2 = w_3 = 1.0$.\n",
    "\n",
    "### Prediction:\n",
    "\n",
    "After performing the matrix multiplication:\n",
    "\n",
    "$$\n",
    "\\hat{y} =\n",
    "\\begin{bmatrix}\n",
    "24.5 \\\\\n",
    "29 \\\\\n",
    "42 \\\\\n",
    "45 \\\\\n",
    "23 \\\\\n",
    "30 \\\\\n",
    "48 \\\\\n",
    "44\n",
    "\\end{bmatrix}\n",
    "$$\n",
    "\n",
    "These are the initial predicted values for the regression task using the randomly initialized weights.\n",
    "\n"
   ]
  },
  {
   "cell_type": "code",
   "execution_count": 94,
   "id": "6528fa69",
   "metadata": {
    "id": "91ea2085"
   },
   "outputs": [],
   "source": [
    "# Define the model: this function multiplies input data with weights and returns predictions\n",
    "def mod1(inputs, weight):\n",
    "    # Perform dot product between inputs and weights (linear regression)\n",
    "    return tf.tensordot(inputs, weight, axes=1)"
   ]
  },
  {
   "cell_type": "markdown",
   "id": "c18c7e49",
   "metadata": {},
   "source": [
    "### Loss function\n",
    "\n",
    "$\\text{loss} = \\sum | \\hat{y} - y |$\n"
   ]
  },
  {
   "cell_type": "code",
   "execution_count": 95,
   "id": "e1d77919",
   "metadata": {
    "id": "91ea2085"
   },
   "outputs": [],
   "source": [
    "# Define loss function: we are using the absolute error here\n",
    "# Loss = Sum of absolute differences between predictions and true targets\n",
    "loss = lambda: tf.reduce_sum(tf.abs(mod1(inp, w) - tf.transpose(out)))"
   ]
  },
  {
   "cell_type": "code",
   "execution_count": 96,
   "id": "049a8c45",
   "metadata": {
    "id": "91ea2085"
   },
   "outputs": [],
   "source": [
    "# Optimizer setup: Use Adam optimizer with learning rate 0.1\n",
    "opti = tf.optimizers.Adam(learning_rate=0.1)"
   ]
  },
  {
   "cell_type": "code",
   "execution_count": 97,
   "id": "91ea2085",
   "metadata": {
    "id": "91ea2085"
   },
   "outputs": [
    {
     "name": "stdout",
     "output_type": "stream",
     "text": [
      "Final updated weights (coefficients): [ 0.07802341  0.7014847  -0.16943684]\n"
     ]
    }
   ],
   "source": [
    "# Training loop: (Forward Pass-Loss-Backpropogation)Perform optimization for 100 iterations to minimize the loss\n",
    "for i in range(100):\n",
    "    with tf.GradientTape() as tape:  # Record operations for automatic differentiation\n",
    "        current_loss = loss()        # Compute the loss inside the tape context\n",
    "    grads = tape.gradient(current_loss, [w])  # Compute gradients of the loss with respect to weights\n",
    "    opti.apply_gradients(zip(grads, [w]))     # Apply gradients to update the weights\n",
    "\n",
    "# After optimization, print the final updated weights (w)\n",
    "print(\"Final updated weights (coefficients):\", w.numpy())"
   ]
  },
  {
   "cell_type": "code",
   "execution_count": 98,
   "id": "e9a5ba17",
   "metadata": {},
   "outputs": [
    {
     "name": "stdout",
     "output_type": "stream",
     "text": [
      "tf.Tensor(1.975844, shape=(), dtype=float32)\n",
      "tf.Tensor([2.], shape=(1,), dtype=float32)\n"
     ]
    }
   ],
   "source": [
    "# predicted output for updated/optmized weight\n",
    "print(tf.tensordot(inp[0],w,1))\n",
    "print(out[0]) #actual output"
   ]
  },
  {
   "cell_type": "code",
   "execution_count": null,
   "id": "3eedca5a",
   "metadata": {},
   "outputs": [],
   "source": []
  }
 ],
 "metadata": {
  "colab": {
   "name": "DL_Session1_Faculty_Notebook-v2.ipynb",
   "provenance": []
  },
  "kernelspec": {
   "display_name": "Python 3 (ipykernel)",
   "language": "python",
   "name": "python3"
  },
  "language_info": {
   "codemirror_mode": {
    "name": "ipython",
    "version": 3
   },
   "file_extension": ".py",
   "mimetype": "text/x-python",
   "name": "python",
   "nbconvert_exporter": "python",
   "pygments_lexer": "ipython3",
   "version": "3.11.5"
  }
 },
 "nbformat": 4,
 "nbformat_minor": 5
}
