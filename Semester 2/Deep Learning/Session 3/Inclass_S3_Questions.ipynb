{
 "cells": [
  {
   "cell_type": "markdown",
   "metadata": {
    "id": "LTNcs-oWZcMH"
   },
   "source": [
    "# MNIST neural network - Hyperparameter Optimization using Tensorflow"
   ]
  },
  {
   "cell_type": "markdown",
   "metadata": {
    "id": "gqj9X_tjSyXy"
   },
   "source": [
    "## MNIST Dataset\n",
    "The MNIST database contains 60,000 training images and 10,000 testing images taken from American Census Bureau employees and American high school students. The MNIST dataset is one of the most common datasets used for image classification and accessible from many different sources. In fact, even Tensorflow and Keras allow us to import and download the MNIST dataset directly from their API."
   ]
  },
  {
   "cell_type": "markdown",
   "metadata": {
    "id": "roDpNYcESyXz"
   },
   "source": [
    "### 1. Load Fashion MNIST dataset"
   ]
  },
  {
   "cell_type": "code",
   "execution_count": 1,
   "metadata": {
    "colab": {
     "base_uri": "https://localhost:8080/"
    },
    "executionInfo": {
     "elapsed": 3377,
     "status": "ok",
     "timestamp": 1612247105646,
     "user": {
      "displayName": "Akhil Reddy Sheri",
      "photoUrl": "",
      "userId": "07061151262155190769"
     },
     "user_tz": -330
    },
    "id": "4kQf1NjrSyX5",
    "outputId": "7ea3ae69-1f32-4d3a-cfd2-bf8491fc5c14"
   },
   "outputs": [],
   "source": [
    "from tensorflow.keras.datasets import fashion_mnist\n",
    "\n"
   ]
  },
  {
   "cell_type": "markdown",
   "metadata": {
    "id": "jFxVKfCPSyX-"
   },
   "source": [
    "### 2. Visualize one image using matplotlib and print the shape of the train and test data"
   ]
  },
  {
   "cell_type": "code",
   "execution_count": null,
   "metadata": {},
   "outputs": [],
   "source": []
  },
  {
   "cell_type": "markdown",
   "metadata": {
    "id": "wny0PgWs9CPu"
   },
   "source": [
    "### 3. Reshape the features to train the Deep Neural Network\n"
   ]
  },
  {
   "cell_type": "code",
   "execution_count": null,
   "metadata": {},
   "outputs": [],
   "source": []
  },
  {
   "cell_type": "markdown",
   "metadata": {
    "id": "o6dOZaIV9rbS"
   },
   "source": [
    "### 4. Normalize features\n",
    "- Normalize features from 0-255 to 0-1"
   ]
  },
  {
   "cell_type": "code",
   "execution_count": null,
   "metadata": {
    "colab": {
     "base_uri": "https://localhost:8080/"
    },
    "executionInfo": {
     "elapsed": 1835,
     "status": "ok",
     "timestamp": 1612247121584,
     "user": {
      "displayName": "Akhil Reddy Sheri",
      "photoUrl": "",
      "userId": "07061151262155190769"
     },
     "user_tz": -330
    },
    "id": "dUiIS_Jf90zO",
    "outputId": "3f2f324f-f528-4493-ff0d-dcfffcf06664"
   },
   "outputs": [],
   "source": []
  },
  {
   "cell_type": "markdown",
   "metadata": {
    "id": "SIjqxbhWv1zv"
   },
   "source": [
    "\n",
    "### 5. One-hot encode the class vector\n"
   ]
  },
  {
   "cell_type": "code",
   "execution_count": null,
   "metadata": {
    "colab": {
     "base_uri": "https://localhost:8080/"
    },
    "executionInfo": {
     "elapsed": 2627,
     "status": "ok",
     "timestamp": 1612247122960,
     "user": {
      "displayName": "Akhil Reddy Sheri",
      "photoUrl": "",
      "userId": "07061151262155190769"
     },
     "user_tz": -330
    },
    "id": "R9vv-_gpyLY9",
    "outputId": "8d02fe7c-08ea-4a28-efd7-1ee3dfc41cd4"
   },
   "outputs": [],
   "source": []
  },
  {
   "cell_type": "markdown",
   "metadata": {
    "id": "GL5Z-kHJ-p4h"
   },
   "source": [
    "### 6. Display some images and print their labels"
   ]
  },
  {
   "cell_type": "code",
   "execution_count": null,
   "metadata": {
    "colab": {
     "base_uri": "https://localhost:8080/",
     "height": 246
    },
    "executionInfo": {
     "elapsed": 2632,
     "status": "ok",
     "timestamp": 1612247123508,
     "user": {
      "displayName": "Akhil Reddy Sheri",
      "photoUrl": "",
      "userId": "07061151262155190769"
     },
     "user_tz": -330
    },
    "id": "ltV4sNgLZcMc",
    "outputId": "ff085e74-208e-44f1-9cba-293d5f98bae3"
   },
   "outputs": [],
   "source": []
  },
  {
   "cell_type": "markdown",
   "metadata": {
    "id": "5tsiozq4ZcM1"
   },
   "source": [
    "### 7. Write a function to train the Deep Neural Network with two hidden layers. The function should recieve a arguments iterations, learning rate and regularization penalty from the user. The choice of number of hidden layer neurons is yours. Use the SGD optimzer and use the momentum value as 0.9\n",
    "- Written in a function - to run it multiple times"
   ]
  },
  {
   "cell_type": "code",
   "execution_count": null,
   "metadata": {
    "id": "UMBEd7_kmHa5"
   },
   "outputs": [],
   "source": []
  },
  {
   "cell_type": "markdown",
   "metadata": {
    "id": "RhgOgK_zR5Mt"
   },
   "source": [
    "### 8. Creating another function to train DNN model with the following modification\n",
    "- Instead of accuracy at each epoch below code gives the consolidate accuracy\n",
    "- Model should print both train and test accuracy"
   ]
  },
  {
   "cell_type": "code",
   "execution_count": null,
   "metadata": {
    "id": "RD_6IukvMfMt"
   },
   "outputs": [],
   "source": []
  },
  {
   "cell_type": "markdown",
   "metadata": {
    "id": "zTZzV6_uZcM5"
   },
   "source": [
    "### 9. Train the model with no regularization and choose some very very small value of lamda and comment about the model performance. \n",
    "- Double Check that the loss is reasonable\n",
    "- Disable the regularization (Lambda = 0)"
   ]
  },
  {
   "cell_type": "code",
   "execution_count": null,
   "metadata": {
    "colab": {
     "base_uri": "https://localhost:8080/"
    },
    "executionInfo": {
     "elapsed": 8679,
     "status": "ok",
     "timestamp": 1612247158572,
     "user": {
      "displayName": "Akhil Reddy Sheri",
      "photoUrl": "",
      "userId": "07061151262155190769"
     },
     "user_tz": -330
    },
    "id": "bU4cc6fNZcM5",
    "outputId": "f2d02834-6d52-43fa-dc09-e0f8aac39e4c"
   },
   "outputs": [],
   "source": []
  },
  {
   "cell_type": "markdown",
   "metadata": {
    "id": "il3r0zTYZcM-"
   },
   "source": [
    "### 10. Incease the learning factor to some two digit number and comemnt about the model peformance. Kepp regularization factor as 0."
   ]
  },
  {
   "cell_type": "code",
   "execution_count": null,
   "metadata": {
    "colab": {
     "base_uri": "https://localhost:8080/"
    },
    "executionInfo": {
     "elapsed": 3619,
     "status": "ok",
     "timestamp": 1612247159568,
     "user": {
      "displayName": "Akhil Reddy Sheri",
      "photoUrl": "",
      "userId": "07061151262155190769"
     },
     "user_tz": -330
    },
    "id": "DNfOdtHRZcM-",
    "outputId": "0507cb44-9367-4c13-9475-166e1cfa44d7"
   },
   "outputs": [],
   "source": []
  },
  {
   "cell_type": "markdown",
   "metadata": {
    "id": "WNwfvGkIZcNC"
   },
   "source": [
    "### 11. Explore the model for the alpha between 0.1 to 1 and comment about best alpha model performace"
   ]
  },
  {
   "cell_type": "code",
   "execution_count": null,
   "metadata": {
    "id": "Y3LvYKcQZcNC"
   },
   "outputs": [],
   "source": []
  },
  {
   "cell_type": "markdown",
   "metadata": {
    "id": "-DYsk3TkZcNX"
   },
   "source": [
    "### 12. Choose the best value of learning factor from the above step and use some small value of regularization (lamda) and comment about the model performace.  \n"
   ]
  },
  {
   "cell_type": "code",
   "execution_count": null,
   "metadata": {
    "colab": {
     "base_uri": "https://localhost:8080/"
    },
    "executionInfo": {
     "elapsed": 6872,
     "status": "ok",
     "timestamp": 1612247809648,
     "user": {
      "displayName": "Akhil Reddy Sheri",
      "photoUrl": "",
      "userId": "07061151262155190769"
     },
     "user_tz": -330
    },
    "id": "Ympp8YrDZcNY",
    "outputId": "d6ee919b-af3d-41a6-e413-54527726ab0b"
   },
   "outputs": [],
   "source": []
  },
  {
   "cell_type": "markdown",
   "metadata": {
    "id": "Iii6fioAZcNb"
   },
   "source": [
    "### 13. Try a (larger) regularization say 50. Comment about the model performance?\n",
    "\n"
   ]
  },
  {
   "cell_type": "code",
   "execution_count": null,
   "metadata": {
    "colab": {
     "base_uri": "https://localhost:8080/"
    },
    "executionInfo": {
     "elapsed": 6013,
     "status": "ok",
     "timestamp": 1612247816142,
     "user": {
      "displayName": "Akhil Reddy Sheri",
      "photoUrl": "",
      "userId": "07061151262155190769"
     },
     "user_tz": -330
    },
    "id": "5TubuvGbZcNc",
    "outputId": "166e4ad6-69c0-41fe-eb79-69dfc1498c4a"
   },
   "outputs": [],
   "source": []
  },
  {
   "cell_type": "markdown",
   "metadata": {
    "id": "XRGWq8UmZcNg"
   },
   "source": [
    "### 14. Find the best combination of learning rate and regularization lambda. Explore learning rate between 0.1 to 1 and lamda beteween 0.001 to 0.01\n"
   ]
  },
  {
   "cell_type": "code",
   "execution_count": null,
   "metadata": {
    "colab": {
     "base_uri": "https://localhost:8080/"
    },
    "executionInfo": {
     "elapsed": 6117,
     "status": "ok",
     "timestamp": 1612247821471,
     "user": {
      "displayName": "Akhil Reddy Sheri",
      "photoUrl": "",
      "userId": "07061151262155190769"
     },
     "user_tz": -330
    },
    "id": "aEj5XiEgZcNg",
    "outputId": "0024758e-d30a-4527-8cca-b688c945f1e6"
   },
   "outputs": [],
   "source": []
  },
  {
   "cell_type": "markdown",
   "metadata": {
    "id": "h4cPbsGvZcNl"
   },
   "source": [
    "### 15. Tune the model with kerasclassifier and GridsearchCV\n"
   ]
  },
  {
   "cell_type": "code",
   "execution_count": null,
   "metadata": {
    "colab": {
     "base_uri": "https://localhost:8080/"
    },
    "executionInfo": {
     "elapsed": 273245,
     "status": "ok",
     "timestamp": 1612248093135,
     "user": {
      "displayName": "Akhil Reddy Sheri",
      "photoUrl": "",
      "userId": "07061151262155190769"
     },
     "user_tz": -330
    },
    "id": "UM5eesclZcNm",
    "outputId": "6cc9b582-f890-4257-d2e0-1e5cef4c5550"
   },
   "outputs": [],
   "source": []
  }
 ],
 "metadata": {
  "accelerator": "GPU",
  "colab": {
   "collapsed_sections": [],
   "name": "Inclass_S3.ipynb",
   "provenance": [
    {
     "file_id": "1nB8KJhnrz4oxmdOQ852vnDhEQv1iyknA",
     "timestamp": 1606906853470
    }
   ],
   "toc_visible": true
  },
  "kernelspec": {
   "display_name": "Python 3",
   "language": "python",
   "name": "python3"
  },
  "language_info": {
   "codemirror_mode": {
    "name": "ipython",
    "version": 3
   },
   "file_extension": ".py",
   "mimetype": "text/x-python",
   "name": "python",
   "nbconvert_exporter": "python",
   "pygments_lexer": "ipython3",
   "version": "3.6.13"
  }
 },
 "nbformat": 4,
 "nbformat_minor": 1
}
