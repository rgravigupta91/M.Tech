{
 "cells": [
  {
   "cell_type": "code",
   "execution_count": 13,
   "id": "7b788c86",
   "metadata": {},
   "outputs": [],
   "source": [
    "#Import the tensorflow librabry and Load the MNIST dataset\n",
    "import tensorflow as tf\n",
    "from tensorflow.keras.datasets import mnist\n",
    "(xtrain,ytrain),(xtest,ytest)=mnist.load_data()"
   ]
  },
  {
   "cell_type": "code",
   "execution_count": 14,
   "id": "c57e1083",
   "metadata": {},
   "outputs": [],
   "source": [
    "#Scale the data\n",
    "x_train=xtrain/255.\n",
    "x_test=xtest/255."
   ]
  },
  {
   "cell_type": "code",
   "execution_count": 31,
   "id": "8d7c061f",
   "metadata": {},
   "outputs": [
    {
     "data": {
      "text/plain": [
       "<matplotlib.image.AxesImage at 0x1890ec1df60>"
      ]
     },
     "execution_count": 31,
     "metadata": {},
     "output_type": "execute_result"
    },
    {
     "data": {
      "image/png": "[encoded data removed]",
      "text/plain": [
       "<Figure size 432x288 with 1 Axes>"
      ]
     },
     "metadata": {
      "needs_background": "light"
     },
     "output_type": "display_data"
    }
   ],
   "source": [
    "#Visualize few samples\n",
    "import matplotlib.pyplot as plt\n",
    "plt.imshow(x_train[18,:,:],cmap='gray')"
   ]
  },
  {
   "cell_type": "code",
   "execution_count": 15,
   "id": "9fddaf70",
   "metadata": {},
   "outputs": [
    {
     "data": {
      "text/plain": [
       "(60000, 28, 28)"
      ]
     },
     "execution_count": 15,
     "metadata": {},
     "output_type": "execute_result"
    }
   ],
   "source": [
    "xtrain.shape"
   ]
  },
  {
   "cell_type": "code",
   "execution_count": 16,
   "id": "3447b0c9",
   "metadata": {},
   "outputs": [],
   "source": [
    "# CNN required data to be in the 4D\n",
    "# first dimension is number of images\n",
    "# second dimension is number of rows in the image\n",
    "# Third dimension is number of columns in the image\n",
    "# Fourth dimension is number of planes in the image( 1 for grayscale, 3 for color)\n",
    "import numpy as np\n",
    "xtrain1=np.expand_dims(x_train,3) \n",
    "xtest1=np.expand_dims(x_test,3)"
   ]
  },
  {
   "cell_type": "code",
   "execution_count": 17,
   "id": "c06f7ab1",
   "metadata": {},
   "outputs": [
    {
     "data": {
      "text/plain": [
       "(60000, 28, 28, 1)"
      ]
     },
     "execution_count": 17,
     "metadata": {},
     "output_type": "execute_result"
    }
   ],
   "source": [
    "xtrain1.shape"
   ]
  },
  {
   "cell_type": "code",
   "execution_count": 18,
   "id": "9785e72f",
   "metadata": {},
   "outputs": [],
   "source": [
    "#Encode the target column\n",
    "ytrain=tf.keras.utils.to_categorical(ytrain,num_classes=10)\n",
    "ytest=tf.keras.utils.to_categorical(ytest,num_classes=10)"
   ]
  },
  {
   "cell_type": "code",
   "execution_count": 19,
   "id": "a2640440",
   "metadata": {},
   "outputs": [
    {
     "data": {
      "text/plain": [
       "array([0., 0., 0., 0., 0., 1., 0., 0., 0., 0.], dtype=float32)"
      ]
     },
     "execution_count": 19,
     "metadata": {},
     "output_type": "execute_result"
    }
   ],
   "source": [
    "ytrain[0]"
   ]
  },
  {
   "cell_type": "code",
   "execution_count": 20,
   "id": "b64f34ea",
   "metadata": {},
   "outputs": [],
   "source": [
    "# import the libraries required for CNN\n",
    "from tensorflow.keras.models import Sequential\n",
    "from tensorflow.keras.layers import Conv2D,MaxPooling2D,Flatten,Dense"
   ]
  },
  {
   "cell_type": "code",
   "execution_count": 21,
   "id": "0f03166d",
   "metadata": {},
   "outputs": [],
   "source": [
    "#Define the architecture of CNN\n",
    "classifier=Sequential()\n",
    "\n",
    "classifier.add(Conv2D(16,(3,3),input_shape=(28,28,1),activation ='relu'))\n",
    "classifier.add(MaxPooling2D(pool_size=(2,2)))\n",
    "\n",
    "classifier.add(Conv2D(32,(3,3),activation ='relu'))\n",
    "classifier.add(MaxPooling2D(pool_size=(2,2)))\n",
    "\n",
    "classifier.add(Flatten())\n",
    "\n",
    "classifier.add(Dense(units=64,activation='relu'))\n",
    "classifier.add(Dense(units=10,activation='softmax'))\n"
   ]
  },
  {
   "cell_type": "code",
   "execution_count": 22,
   "id": "d3be1f44",
   "metadata": {},
   "outputs": [],
   "source": [
    "# compilation statergy for the model\n",
    "classifier.compile(optimizer='adam',loss='categorical_crossentropy',metrics=['accuracy'])"
   ]
  },
  {
   "cell_type": "code",
   "execution_count": 24,
   "id": "6e799336",
   "metadata": {},
   "outputs": [],
   "source": [
    "# apply earlystopping callback to stop the iteration if there is no improvement in model performace \n",
    "                               #for few consecutive iteration defined by 'patience'\n",
    "# apply model checkpoint callback to save the weights corresponds to the best iteration\n",
    "from tensorflow.keras.callbacks import EarlyStopping, ModelCheckpoint\n",
    "\n",
    "keras_callback=[EarlyStopping(monitor='val_loss',patience=3,mode='min',min_delta=0.001),\n",
    "               ModelCheckpoint('./Check_Point',monitor='val_loss',save_best_only=True)]"
   ]
  },
  {
   "cell_type": "code",
   "execution_count": 26,
   "id": "367dc578",
   "metadata": {},
   "outputs": [
    {
     "name": "stdout",
     "output_type": "stream",
     "text": [
      "Train on 48000 samples, validate on 12000 samples\n",
      "Epoch 1/10\n",
      "47840/48000 [============================>.] - ETA: 0s - loss: 0.0086 - accuracy: 0.9969WARNING:tensorflow:From C:\\Users\\Senthil\\Anaconda3\\envs\\dl_env\\lib\\site-packages\\tensorflow_core\\python\\ops\\resource_variable_ops.py:1786: calling BaseResourceVariable.__init__ (from tensorflow.python.ops.resource_variable_ops) with constraint is deprecated and will be removed in a future version.\n",
      "Instructions for updating:\n",
      "If using Keras pass *_constraint arguments to layers.\n",
      "INFO:tensorflow:Assets written to: ./Check_Point\\assets\n",
      "48000/48000 [==============================] - 23s 475us/sample - loss: 0.0086 - accuracy: 0.9969 - val_loss: 0.0502 - val_accuracy: 0.9887\n",
      "Epoch 2/10\n",
      "48000/48000 [==============================] - 27s 560us/sample - loss: 0.0082 - accuracy: 0.9971 - val_loss: 0.0531 - val_accuracy: 0.9879\n",
      "Epoch 3/10\n",
      "48000/48000 [==============================] - 21s 446us/sample - loss: 0.0060 - accuracy: 0.9979 - val_loss: 0.0505 - val_accuracy: 0.9889\n",
      "Epoch 4/10\n",
      "48000/48000 [==============================] - 19s 397us/sample - loss: 0.0066 - accuracy: 0.9976 - val_loss: 0.0649 - val_accuracy: 0.9877\n"
     ]
    },
    {
     "data": {
      "text/plain": [
       "<tensorflow.python.keras.callbacks.History at 0x1890c5f2d30>"
      ]
     },
     "execution_count": 26,
     "metadata": {},
     "output_type": "execute_result"
    }
   ],
   "source": [
    "# fit (Train) the model with callbacks\n",
    "classifier.fit(x=xtrain1,y=ytrain,batch_size=32,epochs=10,validation_split=0.2,callbacks=keras_callback)"
   ]
  },
  {
   "cell_type": "code",
   "execution_count": 28,
   "id": "7077c919",
   "metadata": {},
   "outputs": [],
   "source": [
    "# Save the weights, this weight we are going to use in out next experiment on Transfer Learning\n",
    "classifier.save('my_digit_model.h5')"
   ]
  },
  {
   "cell_type": "code",
   "execution_count": null,
   "id": "89dfaa4e",
   "metadata": {},
   "outputs": [],
   "source": []
  }
 ],
 "metadata": {
  "kernelspec": {
   "display_name": "Python 3",
   "language": "python",
   "name": "python3"
  },
  "language_info": {
   "codemirror_mode": {
    "name": "ipython",
    "version": 3
   },
   "file_extension": ".py",
   "mimetype": "text/x-python",
   "name": "python",
   "nbconvert_exporter": "python",
   "pygments_lexer": "ipython3",
   "version": "3.6.13"
  }
 },
 "nbformat": 4,
 "nbformat_minor": 5
}
