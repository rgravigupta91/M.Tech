{
 "cells": [
  {
   "cell_type": "markdown",
   "metadata": {
    "id": "TaiagDblXjtG"
   },
   "source": [
    "# Object localization - Bounding Box\n",
    "\n",
    "---\n",
    "\n"
   ]
  },
  {
   "cell_type": "markdown",
   "metadata": {
    "id": "Ht0YkpgnXu_5"
   },
   "source": [
    "# 1 . 700 annotations of Kumar Sangakkara's face dataset"
   ]
  },
  {
   "cell_type": "markdown",
   "metadata": {
    "id": "CIEDfts0cAbk"
   },
   "source": [
    "### 1 .a. Context\n",
    "\n",
    "Recently I have been working on some object localization problems using Convolutional Nets and I wanted to try train the model on a new dataset other than the very common COCO or PASCAL VOC datasets. While pondering on what object to compile a small dataset around, I thought of pushing the challenge a bit more to see if the same model can be trained to localize faces. Having this in mind I wanted a dataset of a person's face annotations.\n",
    "\n",
    "As you may know with Deep Learning models, the more data you have the more accuracy you reach. So considering the challenge to detect a face I wanted a considerable number of images of the same face that the model should be trained on.\n",
    "\n",
    "Hence, I needed many pictures of the same person. So the person had to be famous so I could easily find many pictures.\n",
    "So being in Sri Lanka where else to look other than our Cricket stars. So I chose the living legend in Sri Lankan Cricket, Kumar Sangakkara."
   ]
  },
  {
   "cell_type": "markdown",
   "metadata": {
    "id": "CHDqpajycExd"
   },
   "source": [
    "### 1 .b. Content\n",
    "\n",
    "I downloaded around 1000 images from google images and after manual cleaning ended up with 704, which are contained here. I manually annotated all the pictures using a python script to generate the xml files. (Yeah, I couldn't find a better thing to do in that 2 hours.) Now here is the dataset for anyone to make use of.\n"
   ]
  },
  {
   "cell_type": "markdown",
   "metadata": {
    "id": "LQmnIpLocH-4"
   },
   "source": [
    "### 1 .c. Inspiration\n",
    "\n",
    "So as I mentioned in the above description, my goal with this dataset was to see if an object localization model can be used to detect a face of a person. Even though I have the pipeline, I couldn't still thoroughly test its performance using a GPU. So anyone whose interested can use this dataset to test those results.\n",
    "Also if these annotations can be useful for any other application, feel free to use it and share it.\n",
    "Have fun!"
   ]
  },
  {
   "cell_type": "markdown",
   "metadata": {
    "id": "_GW0dto7cJ5A"
   },
   "source": [
    "### 1 .d.  Link to dataset: \n",
    "\n",
    "https://www.kaggle.com/mirantha/sangaface/"
   ]
  },
  {
   "cell_type": "markdown",
   "metadata": {
    "id": "kkeHoOTucMHU"
   },
   "source": [
    "### 1 .e.  Note: \n",
    "\n",
    "For the simplicity of the data, we have convered the .xml format to .csv fomat.In the data set we have images.zip (where we have images as .png files) , train.csv (where we have path, image_height, image_width, x_min, y_min, x_max, y_max ) and validation.csv (where we have path, image_height, image_width, x_min, y_min, x_max, y_max )"
   ]
  },
  {
   "cell_type": "markdown",
   "metadata": {
    "id": "dWbZxv7MdHxN"
   },
   "source": [
    "# 2 .Load the dataset and Import the packages"
   ]
  },
  {
   "cell_type": "markdown",
   "metadata": {
    "id": "F673vwjOdQy3"
   },
   "source": [
    "### 2 .a. Import the packages"
   ]
  },
  {
   "cell_type": "markdown",
   "metadata": {
    "id": "ZOk8Eu4_t70R"
   },
   "source": [
    "Firstly, let's select TensorFlow version 2.x in colab"
   ]
  },
  {
   "cell_type": "code",
   "execution_count": 1,
   "metadata": {
    "colab": {
     "base_uri": "https://localhost:8080/",
     "height": 35
    },
    "executionInfo": {
     "elapsed": 2299,
     "status": "ok",
     "timestamp": 1611973875984,
     "user": {
      "displayName": "Sutithi Chakraborty",
      "photoUrl": "",
      "userId": "12749148906436566424"
     },
     "user_tz": -330
    },
    "id": "H6RZUm0p4wYJ",
    "outputId": "80e4fcf3-216c-4cae-be61-b780b287e971"
   },
   "outputs": [
    {
     "name": "stderr",
     "output_type": "stream",
     "text": [
      "UsageError: Line magic function `%tensorflow_version` not found.\n"
     ]
    }
   ],
   "source": [
    "%tensorflow_version 2.x\n",
    "import tensorflow\n",
    "tensorflow.__version__"
   ]
  },
  {
   "cell_type": "code",
   "execution_count": 2,
   "metadata": {
    "id": "TWi96z-8SyX0"
   },
   "outputs": [],
   "source": [
    "# Initialize the random number generator\n",
    "import random\n",
    "random.seed(0)\n",
    "\n",
    "# Ignore the warnings\n",
    "import warnings\n",
    "warnings.filterwarnings(\"ignore\")"
   ]
  },
  {
   "cell_type": "markdown",
   "metadata": {
    "id": "OKVkkLaLdPGU"
   },
   "source": [
    "### 2 .b. Load the dataset"
   ]
  },
  {
   "cell_type": "markdown",
   "metadata": {
    "id": "JK0ZRJoxhrFe"
   },
   "source": [
    "As we are using google colab, we need to mount the google drive to load the data file"
   ]
  },
  {
   "cell_type": "code",
   "execution_count": null,
   "metadata": {},
   "outputs": [],
   "source": [
    "from google.colab import drive\n",
    "drive.mount('')"
   ]
  },
  {
   "cell_type": "markdown",
   "metadata": {
    "id": "3gqIEcuK-gqQ"
   },
   "source": [
    "Add path to the folder where your dataset files are"
   ]
  },
  {
   "cell_type": "code",
   "execution_count": 4,
   "metadata": {
    "id": "fzXrTG6fLqw4"
   },
   "outputs": [],
   "source": [
    "project_path = 'D:/'"
   ]
  },
  {
   "cell_type": "markdown",
   "metadata": {
    "id": "1FOfBTnoBjYi"
   },
   "source": [
    "Let's load the dataset now"
   ]
  },
  {
   "cell_type": "code",
   "execution_count": 5,
   "metadata": {
    "id": "qFiZc7Rbw7mm"
   },
   "outputs": [],
   "source": [
    "images_zip_path = project_path + \"images.zip\"\n",
    "\n",
    "from zipfile import ZipFile\n",
    "\n",
    "with ZipFile(images_zip_path, 'r') as z:\n",
    "  z.extractall()"
   ]
  },
  {
   "cell_type": "code",
   "execution_count": 6,
   "metadata": {
    "id": "iaVerVYiw2OF"
   },
   "outputs": [],
   "source": [
    "DATASET_FOLDER = \"./images/\"\n",
    "TRAIN_CSV = project_path + \"train.csv\"\n",
    "VALIDATION_CSV = project_path + \"validation.csv\""
   ]
  },
  {
   "cell_type": "markdown",
   "metadata": {
    "id": "NkCdfYxOabAV"
   },
   "source": [
    "### 2 .c. Get training data"
   ]
  },
  {
   "cell_type": "code",
   "execution_count": 7,
   "metadata": {
    "id": "dD4r0hyE3cDm"
   },
   "outputs": [],
   "source": [
    "import numpy as np\n",
    "import csv\n",
    "\n",
    "IMAGE_SIZE = 128 # Image sizes can vary (128, 160, 192, 224). MobileNetV2 can also take 96\n",
    "\n",
    "with open(TRAIN_CSV, \"r\") as f:\n",
    "  \n",
    "  y_train = np.zeros((sum(1 for line in f), 4))\n",
    "  X_train = []\n",
    "  f.seek(0)\n",
    "  data = csv.reader(f, delimiter=',')\n",
    "  for index, row in enumerate(data):\n",
    "    for i, r in enumerate(row[1:7]):\n",
    "      if r != '':\n",
    "        row[i+1] = int(r)\n",
    "      else :\n",
    "        row[i+1] = 0\n",
    "    path, image_height, image_width, x0, y0, x1, y1 = row       # Read image, its dimensions, BBox coords\n",
    "    path = \"./\"  + path.split('/')[-3] + \"/\" + path.split('/')[-2] + \"/\" + path.split('/')[-1]\n",
    "    y_train[index, 0] = x0 * IMAGE_SIZE / image_width                 # Normalize bounding box by image size\n",
    "    y_train[index, 1] = y0 * IMAGE_SIZE / image_height                # Normalize bounding box by image size\n",
    "    y_train[index, 2] = (x1 - x0) * IMAGE_SIZE / image_width          # Normalize bounding box by image size\n",
    "    y_train[index, 3] = (y1 - y0) * IMAGE_SIZE / image_height         # Normalize bounding box by image size\n",
    "\n",
    "    X_train.append(path)                                              # All training images in this list"
   ]
  },
  {
   "cell_type": "code",
   "execution_count": 8,
   "metadata": {
    "colab": {
     "base_uri": "https://localhost:8080/"
    },
    "executionInfo": {
     "elapsed": 1107,
     "status": "ok",
     "timestamp": 1611973891010,
     "user": {
      "displayName": "Sutithi Chakraborty",
      "photoUrl": "",
      "userId": "12749148906436566424"
     },
     "user_tz": -330
    },
    "id": "X-c3kLmi6NzB",
    "outputId": "96634816-12ab-418f-f93b-3819dd18884f"
   },
   "outputs": [
    {
     "data": {
      "text/plain": [
       "['./Image/Train/000049.png',\n",
       " './Image/Train/000043.png',\n",
       " './Image/Train/000047.png',\n",
       " './Image/Train/000042.png',\n",
       " './Image/Train/000048.png']"
      ]
     },
     "execution_count": 8,
     "metadata": {},
     "output_type": "execute_result"
    }
   ],
   "source": [
    "X_train[:5]"
   ]
  },
  {
   "cell_type": "markdown",
   "metadata": {
    "id": "gs5SOHItl4E-"
   },
   "source": [
    "### 2 .d. Let's check how does the data look like"
   ]
  },
  {
   "cell_type": "markdown",
   "metadata": {
    "id": "u0wRl0PxmhqS"
   },
   "source": [
    "Fetching coordinates details"
   ]
  },
  {
   "cell_type": "code",
   "execution_count": 9,
   "metadata": {
    "id": "iRxu-knKkQmG"
   },
   "outputs": [],
   "source": [
    "import cv2\n",
    "# Pick a random image to check how it looks\n",
    "filename = X_train[0]\n",
    "unscaled = cv2.imread(filename)\n",
    "region = y_train[0]\n",
    "image_height, image_width, _ = unscaled.shape\n",
    "x0 = int(region[0] * image_width / IMAGE_SIZE) # Scale the BBox\n",
    "y0 = int(region[1] * image_height / IMAGE_SIZE)\n",
    "\n",
    "x1 = int((region[0] + region[2]) * image_width / IMAGE_SIZE)\n",
    "y1 = int((region[1] + region[3]) * image_height / IMAGE_SIZE)"
   ]
  },
  {
   "cell_type": "markdown",
   "metadata": {
    "id": "ySVX5jNFdjOZ"
   },
   "source": [
    "### 2 .e. Visualize a particular image"
   ]
  },
  {
   "cell_type": "markdown",
   "metadata": {
    "id": "l7cnLFA1mrSc"
   },
   "source": [
    "Now, let's plot the image and the bounding box on top of it"
   ]
  },
  {
   "cell_type": "code",
   "execution_count": 10,
   "metadata": {
    "colab": {
     "base_uri": "https://localhost:8080/",
     "height": 269
    },
    "executionInfo": {
     "elapsed": 1828,
     "status": "ok",
     "timestamp": 1611973896574,
     "user": {
      "displayName": "Sutithi Chakraborty",
      "photoUrl": "",
      "userId": "12749148906436566424"
     },
     "user_tz": -330
    },
    "id": "5CHTv7NekQmL",
    "outputId": "81357031-f132-4cf3-8ef0-f5e1fe420b3d"
   },
   "outputs": [
    {
     "ename": "ModuleNotFoundError",
     "evalue": "No module named 'matplotlib'",
     "output_type": "error",
     "traceback": [
      "\u001b[1;31m---------------------------------------------------------------------------\u001b[0m",
      "\u001b[1;31mModuleNotFoundError\u001b[0m                       Traceback (most recent call last)",
      "Input \u001b[1;32mIn [10]\u001b[0m, in \u001b[0;36m<cell line: 1>\u001b[1;34m()\u001b[0m\n\u001b[1;32m----> 1\u001b[0m \u001b[38;5;28;01mimport\u001b[39;00m \u001b[38;5;21;01mmatplotlib\u001b[39;00m\u001b[38;5;21;01m.\u001b[39;00m\u001b[38;5;21;01mpyplot\u001b[39;00m \u001b[38;5;28;01mas\u001b[39;00m \u001b[38;5;21;01mplt\u001b[39;00m\n\u001b[0;32m      2\u001b[0m \u001b[38;5;28;01mimport\u001b[39;00m \u001b[38;5;21;01mmatplotlib\u001b[39;00m\u001b[38;5;21;01m.\u001b[39;00m\u001b[38;5;21;01mpatches\u001b[39;00m \u001b[38;5;28;01mas\u001b[39;00m \u001b[38;5;21;01mpatches\u001b[39;00m\n\u001b[0;32m      4\u001b[0m \u001b[38;5;66;03m# Create figure and axes\u001b[39;00m\n",
      "\u001b[1;31mModuleNotFoundError\u001b[0m: No module named 'matplotlib'"
     ]
    }
   ],
   "source": [
    "import matplotlib.pyplot as plt\n",
    "import matplotlib.patches as patches\n",
    "\n",
    "# Create figure and axes\n",
    "fig,ax = plt.subplots(1)\n",
    "\n",
    "# Display the image\n",
    "ax.imshow(unscaled)\n",
    "\n",
    "# Create a Rectangle patch\n",
    "rect = patches.Rectangle((x0, y0), x1 - x0, y1 - y0, linewidth=2, edgecolor='r', facecolor='none')\n",
    "\n",
    "# Add the patch to the Axes\n",
    "ax.add_patch(rect)\n",
    "\n",
    "plt.show()"
   ]
  },
  {
   "cell_type": "markdown",
   "metadata": {
    "id": "8adsqHoTdoCD"
   },
   "source": [
    "# 3 . Process the dataset"
   ]
  },
  {
   "cell_type": "markdown",
   "metadata": {
    "id": "0V-g99d6m878"
   },
   "source": [
    "### 3 .a. Back to data preparation"
   ]
  },
  {
   "cell_type": "code",
   "execution_count": 11,
   "metadata": {
    "id": "pLE99bx182By"
   },
   "outputs": [],
   "source": [
    "from PIL import Image\n",
    "from tensorflow.keras.applications.mobilenet import preprocess_input\n",
    "\n",
    "for i, f in enumerate(X_train):\n",
    "  img = Image.open(f) # Read image\n",
    "  img = img.resize((IMAGE_SIZE, IMAGE_SIZE)) # Resize image\n",
    "  img = img.convert('RGB')\n",
    "\n",
    "  X_train[i] = preprocess_input(np.array(img, dtype=np.float32)) # Convert to float32 array\n",
    "  img.close()"
   ]
  },
  {
   "cell_type": "code",
   "execution_count": 12,
   "metadata": {
    "id": "-c1zEc9u9N-i"
   },
   "outputs": [],
   "source": [
    "X_train = np.array(X_train)"
   ]
  },
  {
   "cell_type": "code",
   "execution_count": 13,
   "metadata": {
    "colab": {
     "base_uri": "https://localhost:8080/"
    },
    "executionInfo": {
     "elapsed": 1595,
     "status": "ok",
     "timestamp": 1611973910342,
     "user": {
      "displayName": "Sutithi Chakraborty",
      "photoUrl": "",
      "userId": "12749148906436566424"
     },
     "user_tz": -330
    },
    "id": "kPIkp_pU9WHg",
    "outputId": "3558cc87-8f0c-455d-b383-a306a8bd1ab9"
   },
   "outputs": [
    {
     "data": {
      "text/plain": [
       "(668, 128, 128, 3)"
      ]
     },
     "execution_count": 13,
     "metadata": {},
     "output_type": "execute_result"
    }
   ],
   "source": [
    "X_train.shape"
   ]
  },
  {
   "cell_type": "code",
   "execution_count": 14,
   "metadata": {
    "colab": {
     "base_uri": "https://localhost:8080/"
    },
    "executionInfo": {
     "elapsed": 1032,
     "status": "ok",
     "timestamp": 1611973912906,
     "user": {
      "displayName": "Sutithi Chakraborty",
      "photoUrl": "",
      "userId": "12749148906436566424"
     },
     "user_tz": -330
    },
    "id": "eQDKsVHV76uh",
    "outputId": "2ca053e0-b462-4bdb-963d-69c380bfcb93"
   },
   "outputs": [
    {
     "data": {
      "text/plain": [
       "array([[44.38190955, 26.3083004 , 15.43718593, 14.67193676],\n",
       "       [67.14754098, 25.13454545, 37.07103825, 22.34181818],\n",
       "       [56.81283422, 15.17037037, 19.85026738, 11.85185185],\n",
       "       ...,\n",
       "       [68.84462151, 10.18905473, 22.43824701, 20.37810945],\n",
       "       [32.96969697, 21.66929134, 53.65656566, 39.81102362],\n",
       "       [ 0.56888889, 21.71428571, 53.47555556, 85.71428571]])"
      ]
     },
     "execution_count": 14,
     "metadata": {},
     "output_type": "execute_result"
    }
   ],
   "source": [
    "y_train"
   ]
  },
  {
   "cell_type": "code",
   "execution_count": 15,
   "metadata": {
    "colab": {
     "base_uri": "https://localhost:8080/"
    },
    "executionInfo": {
     "elapsed": 1102,
     "status": "ok",
     "timestamp": 1611973915396,
     "user": {
      "displayName": "Sutithi Chakraborty",
      "photoUrl": "",
      "userId": "12749148906436566424"
     },
     "user_tz": -330
    },
    "id": "0gKd5RVm9bVo",
    "outputId": "ff3130b7-6fd8-41ba-eff3-44bdb94448f4"
   },
   "outputs": [
    {
     "data": {
      "text/plain": [
       "(668, 4)"
      ]
     },
     "execution_count": 15,
     "metadata": {},
     "output_type": "execute_result"
    }
   ],
   "source": [
    "y_train.shape"
   ]
  },
  {
   "cell_type": "markdown",
   "metadata": {
    "id": "VS7R4Bt4dv-n"
   },
   "source": [
    "### 3 .b. Data preperation for validation data"
   ]
  },
  {
   "cell_type": "code",
   "execution_count": 16,
   "metadata": {
    "id": "3ums8FQA76w_"
   },
   "outputs": [],
   "source": [
    "with open(VALIDATION_CSV, \"r\") as f:\n",
    "  \n",
    "  y_val = np.zeros((sum(1 for line in f), 4))\n",
    "  X_val = []\n",
    "  f.seek(0)\n",
    "  data = csv.reader(f, delimiter=',')\n",
    "  for index, row in enumerate(data):\n",
    "    for i, r in enumerate(row[1:7]):\n",
    "      if r != '':\n",
    "        row[i+1] = int(r)\n",
    "      else :\n",
    "        row[i+1] = 0\n",
    "    path, image_height, image_width, x0, y0, x1, y1 = row     # Read image, its dimensions, BBox coords\n",
    "    path = \"./\" + path.split('/')[-3] + \"/\" + path.split('/')[-2] + \"/\" + path.split('/')[-1]\n",
    "    y_val[index, 0] = x0 * IMAGE_SIZE / image_width                 # Normalize bounding box by image size\n",
    "    y_val[index, 1] = y0 * IMAGE_SIZE / image_height                # Normalize bounding box by image size\n",
    "    y_val[index, 2] = (x1 - x0) * IMAGE_SIZE / image_width          # Normalize bounding box by image size\n",
    "    y_val[index, 3] = (y1 - y0) * IMAGE_SIZE / image_height         # Normalize bounding box by image size\n",
    "\n",
    "    X_val.append(path)                                                # All training images in this list"
   ]
  },
  {
   "cell_type": "code",
   "execution_count": 17,
   "metadata": {
    "colab": {
     "base_uri": "https://localhost:8080/"
    },
    "executionInfo": {
     "elapsed": 1075,
     "status": "ok",
     "timestamp": 1611973922278,
     "user": {
      "displayName": "Sutithi Chakraborty",
      "photoUrl": "",
      "userId": "12749148906436566424"
     },
     "user_tz": -330
    },
    "id": "GUJf6_JY76zM",
    "outputId": "694fee86-bf9e-4129-95f6-165cca844ffa"
   },
   "outputs": [
    {
     "data": {
      "text/plain": [
       "['./Image/validation/000000.png',\n",
       " './Image/validation/000034.png',\n",
       " './Image/validation/000033.png',\n",
       " './Image/validation/000031.png',\n",
       " './Image/validation/000035.png']"
      ]
     },
     "execution_count": 17,
     "metadata": {},
     "output_type": "execute_result"
    }
   ],
   "source": [
    "X_val[:5]"
   ]
  },
  {
   "cell_type": "code",
   "execution_count": 18,
   "metadata": {
    "id": "21Yeo7OF9iXU"
   },
   "outputs": [],
   "source": [
    "for i, f in enumerate(X_val):\n",
    "  img = Image.open(f) # Read image\n",
    "  img = img.resize((IMAGE_SIZE, IMAGE_SIZE)) # Resize image\n",
    "  img = img.convert('RGB')\n",
    "\n",
    "  X_val[i] = preprocess_input(np.array(img, dtype=np.float32)) # Convert to float32 array\n",
    "  img.close()"
   ]
  },
  {
   "cell_type": "code",
   "execution_count": 19,
   "metadata": {
    "id": "85com9IW9ieD"
   },
   "outputs": [],
   "source": [
    "X_val = np.array(X_val)"
   ]
  },
  {
   "cell_type": "code",
   "execution_count": 20,
   "metadata": {
    "colab": {
     "base_uri": "https://localhost:8080/"
    },
    "executionInfo": {
     "elapsed": 1104,
     "status": "ok",
     "timestamp": 1611973929399,
     "user": {
      "displayName": "Sutithi Chakraborty",
      "photoUrl": "",
      "userId": "12749148906436566424"
     },
     "user_tz": -330
    },
    "id": "_gpuw0GH9ige",
    "outputId": "045754e8-b6e3-4d0e-a610-fb5fda9c1344"
   },
   "outputs": [
    {
     "data": {
      "text/plain": [
       "(36, 128, 128, 3)"
      ]
     },
     "execution_count": 20,
     "metadata": {},
     "output_type": "execute_result"
    }
   ],
   "source": [
    "X_val.shape"
   ]
  },
  {
   "cell_type": "code",
   "execution_count": 21,
   "metadata": {
    "colab": {
     "base_uri": "https://localhost:8080/"
    },
    "executionInfo": {
     "elapsed": 1045,
     "status": "ok",
     "timestamp": 1611973931819,
     "user": {
      "displayName": "Sutithi Chakraborty",
      "photoUrl": "",
      "userId": "12749148906436566424"
     },
     "user_tz": -330
    },
    "id": "PuxpDM4M8duo",
    "outputId": "1c885105-6a17-488c-c762-9bf56dec7192"
   },
   "outputs": [
    {
     "data": {
      "text/plain": [
       "array([[34.05504587, 14.40692641, 44.62385321, 42.11255411],\n",
       "       [58.40776699,  7.06748466, 19.46925566, 41.6196319 ],\n",
       "       [25.6988417 , 15.83505155, 35.08880309, 52.12371134],\n",
       "       [61.27014218,  6.9623431 , 18.8056872 , 21.958159  ],\n",
       "       [39.64179104, 26.55319149, 45.37313433, 65.36170213],\n",
       "       [42.66666667, 21.41090909, 51.75956284, 40.49454545],\n",
       "       [46.94980695, 17.15463918, 30.64092664, 46.18556701],\n",
       "       [56.24242424, 24.09411765, 13.57575758, 13.55294118],\n",
       "       [51.3976834 , 42.88659794, 21.25096525, 31.01030928],\n",
       "       [63.76727273, 16.78688525, 25.13454545, 36.3715847 ],\n",
       "       [39.38461538, 28.02366864, 31.67892977, 60.59171598],\n",
       "       [15.49473684, 16.84210526, 64.        , 52.93233083],\n",
       "       [52.81118881, 38.54545455, 29.53846154, 61.09090909],\n",
       "       [67.08433735,  5.05263158, 11.56626506, 30.31578947],\n",
       "       [23.90041494, 23.27272727, 43.55186722, 56.34449761],\n",
       "       [38.54826255, 33.64948454, 26.68725869, 42.22680412],\n",
       "       [97.52380952, 22.83243243, 10.31501832, 17.2972973 ],\n",
       "       [30.64092664, 21.11340206, 30.64092664, 48.16494845],\n",
       "       [67.63879599, 54.53254438, 22.68896321, 40.14201183],\n",
       "       [24.        , 35.33333333, 88.        , 82.66666667],\n",
       "       [44.39852399, 18.58064516, 67.54243542, 99.78494624],\n",
       "       [48.73096447, 49.69411765, 34.43654822, 25.6       ],\n",
       "       [43.9862543 , 25.15606936, 37.82817869, 56.97109827],\n",
       "       [49.46440678, 20.95906433, 37.74915254, 74.85380117],\n",
       "       [44.2739726 , 38.47398844, 17.53424658, 27.37572254],\n",
       "       [56.32      , 46.16393443, 18.15272727, 20.28415301],\n",
       "       [38.98477157, 17.5       , 27.2893401 , 21.        ],\n",
       "       [50.73454545, 34.27322404, 15.82545455, 22.38251366],\n",
       "       [38.10033445, 21.20710059, 39.81270903, 83.31360947],\n",
       "       [40.49454545, 25.18032787, 33.97818182, 40.56830601],\n",
       "       [38.78787879, 25.7007874 , 32.96969697, 25.19685039],\n",
       "       [74.66666667, 15.54285714, 28.44444444, 15.08571429],\n",
       "       [41.52888889, 26.73777778, 48.35555556, 71.11111111],\n",
       "       [32.90140845, 30.20224719, 24.78873239, 47.46067416],\n",
       "       [42.66666667, 16.76190476, 18.34666667, 30.47619048],\n",
       "       [36.97777778, 25.6       , 55.18222222, 60.30222222]])"
      ]
     },
     "execution_count": 21,
     "metadata": {},
     "output_type": "execute_result"
    }
   ],
   "source": [
    "y_val"
   ]
  },
  {
   "cell_type": "code",
   "execution_count": 22,
   "metadata": {
    "colab": {
     "base_uri": "https://localhost:8080/"
    },
    "executionInfo": {
     "elapsed": 1077,
     "status": "ok",
     "timestamp": 1611973935484,
     "user": {
      "displayName": "Sutithi Chakraborty",
      "photoUrl": "",
      "userId": "12749148906436566424"
     },
     "user_tz": -330
    },
    "id": "yT_Q7B_l8gwL",
    "outputId": "9e159401-b721-4fc2-f29a-f91a6d4b3608"
   },
   "outputs": [
    {
     "data": {
      "text/plain": [
       "(36, 4)"
      ]
     },
     "execution_count": 22,
     "metadata": {},
     "output_type": "execute_result"
    }
   ],
   "source": [
    "y_val.shape"
   ]
  },
  {
   "cell_type": "markdown",
   "metadata": {
    "id": "ohb4LBnVd0qg"
   },
   "source": [
    "# 4 .  Build an Object Localizing model for the dataset"
   ]
  },
  {
   "cell_type": "markdown",
   "metadata": {
    "id": "1w4PEmcdnzGK"
   },
   "source": [
    "### 4 .a. Create the model"
   ]
  },
  {
   "cell_type": "code",
   "execution_count": 23,
   "metadata": {
    "id": "3hGbZx2i9_H7"
   },
   "outputs": [],
   "source": [
    "from tensorflow.keras.applications.mobilenet import MobileNet\n",
    "from tensorflow.keras.models import Model\n",
    "from tensorflow.keras.layers import Conv2D, Reshape\n",
    "\n",
    "ALPHA = 1.0 # Width hyper parameter for MobileNet (0.25, 0.5, 0.75, 1.0). Higher width means more accurate but slower\n",
    "\n",
    "def create_model(trainable=True):\n",
    "    model = MobileNet(input_shape=(IMAGE_SIZE, IMAGE_SIZE, 3), include_top=False, alpha=ALPHA) # Load pre-trained mobilenet\n",
    "    # Do not include classification (top) layer\n",
    "\n",
    "    # to freeze layers, except the new top layer, of course, which will be added below\n",
    "    for layer in model.layers:\n",
    "        layer.trainable = trainable\n",
    "\n",
    "    # Add new top layer which is a conv layer of the same size as the previous layer so that only 4 coords of BBox can be output\n",
    "    x0 = model.layers[-1].output\n",
    "    x1 = Conv2D(4, kernel_size=4, name=\"coords\")(x0)\n",
    "    # In the line above kernel size should be 3 for img size 96, 4 for img size 128, 5 for img size 160 etc.\n",
    "    x2 = Reshape((4,))(x1) # These are the 4 predicted coordinates of one BBox\n",
    "\n",
    "    return Model(inputs=model.input, outputs=x2)"
   ]
  },
  {
   "cell_type": "markdown",
   "metadata": {
    "id": "DE_fSPKAd8Kj"
   },
   "source": [
    "# 5 . Evaluate this model"
   ]
  },
  {
   "cell_type": "markdown",
   "metadata": {
    "id": "9Zrf0DXVn5Ov"
   },
   "source": [
    "### 5 .a. Define evaluation metric"
   ]
  },
  {
   "cell_type": "code",
   "execution_count": 24,
   "metadata": {
    "id": "JNga1m76-4m0"
   },
   "outputs": [],
   "source": [
    "def IOU(y_true, y_pred):\n",
    "    intersections = 0\n",
    "    unions = 0\n",
    "    # set the types so we are sure what type we are using\n",
    "\n",
    "    gt = y_true\n",
    "    pred = y_pred\n",
    "    # Compute interection of predicted (pred) and ground truth (gt) bounding boxes\n",
    "    diff_width = np.minimum(gt[:,0] + gt[:,2], pred[:,0] + pred[:,2]) - np.maximum(gt[:,0], pred[:,0])\n",
    "    diff_height = np.minimum(gt[:,1] + gt[:,3], pred[:,1] + pred[:,3]) - np.maximum(gt[:,1], pred[:,1])\n",
    "    intersection = diff_width * diff_height\n",
    "\n",
    "    # Compute union\n",
    "    area_gt = gt[:,2] * gt[:,3]\n",
    "    area_pred = pred[:,2] * pred[:,3]\n",
    "    union = area_gt + area_pred - intersection\n",
    "\n",
    "    # Compute intersection and union over multiple boxes\n",
    "    for j, _ in enumerate(union):\n",
    "      if union[j] > 0 and intersection[j] > 0 and union[j] >= intersection[j]:\n",
    "        intersections += intersection[j]\n",
    "        unions += union[j]\n",
    "\n",
    "    # Compute IOU. Use epsilon to prevent division by zero\n",
    "    iou = np.round(intersections / (unions + tensorflow.keras.backend.epsilon()), 4)\n",
    "    # This must match the type used in py_func\n",
    "    iou = iou.astype(np.float32)\n",
    "    return iou"
   ]
  },
  {
   "cell_type": "code",
   "execution_count": 25,
   "metadata": {
    "id": "5AQUFMRU4EW7"
   },
   "outputs": [],
   "source": [
    "def IoU(y_true, y_pred):\n",
    "    iou = tensorflow.py_function(IOU, [y_true, y_pred], Tout=tensorflow.float32)\n",
    "    return iou"
   ]
  },
  {
   "cell_type": "markdown",
   "metadata": {
    "id": "PzmiW1Ayoitu"
   },
   "source": [
    "### 5 .b. Initialize the model and print summary"
   ]
  },
  {
   "cell_type": "code",
   "execution_count": 26,
   "metadata": {
    "colab": {
     "base_uri": "https://localhost:8080/"
    },
    "executionInfo": {
     "elapsed": 2364,
     "status": "ok",
     "timestamp": 1611973948474,
     "user": {
      "displayName": "Sutithi Chakraborty",
      "photoUrl": "",
      "userId": "12749148906436566424"
     },
     "user_tz": -330
    },
    "id": "ggxMTzfAo3CO",
    "outputId": "e2c2f737-a0f3-437f-d859-4185ae26068c"
   },
   "outputs": [
    {
     "name": "stdout",
     "output_type": "stream",
     "text": [
      "Model: \"model\"\n",
      "_________________________________________________________________\n",
      "Layer (type)                 Output Shape              Param #   \n",
      "=================================================================\n",
      "input_1 (InputLayer)         [(None, 128, 128, 3)]     0         \n",
      "_________________________________________________________________\n",
      "conv1 (Conv2D)               (None, 64, 64, 32)        864       \n",
      "_________________________________________________________________\n",
      "conv1_bn (BatchNormalization (None, 64, 64, 32)        128       \n",
      "_________________________________________________________________\n",
      "conv1_relu (ReLU)            (None, 64, 64, 32)        0         \n",
      "_________________________________________________________________\n",
      "conv_dw_1 (DepthwiseConv2D)  (None, 64, 64, 32)        288       \n",
      "_________________________________________________________________\n",
      "conv_dw_1_bn (BatchNormaliza (None, 64, 64, 32)        128       \n",
      "_________________________________________________________________\n",
      "conv_dw_1_relu (ReLU)        (None, 64, 64, 32)        0         \n",
      "_________________________________________________________________\n",
      "conv_pw_1 (Conv2D)           (None, 64, 64, 64)        2048      \n",
      "_________________________________________________________________\n",
      "conv_pw_1_bn (BatchNormaliza (None, 64, 64, 64)        256       \n",
      "_________________________________________________________________\n",
      "conv_pw_1_relu (ReLU)        (None, 64, 64, 64)        0         \n",
      "_________________________________________________________________\n",
      "conv_pad_2 (ZeroPadding2D)   (None, 65, 65, 64)        0         \n",
      "_________________________________________________________________\n",
      "conv_dw_2 (DepthwiseConv2D)  (None, 32, 32, 64)        576       \n",
      "_________________________________________________________________\n",
      "conv_dw_2_bn (BatchNormaliza (None, 32, 32, 64)        256       \n",
      "_________________________________________________________________\n",
      "conv_dw_2_relu (ReLU)        (None, 32, 32, 64)        0         \n",
      "_________________________________________________________________\n",
      "conv_pw_2 (Conv2D)           (None, 32, 32, 128)       8192      \n",
      "_________________________________________________________________\n",
      "conv_pw_2_bn (BatchNormaliza (None, 32, 32, 128)       512       \n",
      "_________________________________________________________________\n",
      "conv_pw_2_relu (ReLU)        (None, 32, 32, 128)       0         \n",
      "_________________________________________________________________\n",
      "conv_dw_3 (DepthwiseConv2D)  (None, 32, 32, 128)       1152      \n",
      "_________________________________________________________________\n",
      "conv_dw_3_bn (BatchNormaliza (None, 32, 32, 128)       512       \n",
      "_________________________________________________________________\n",
      "conv_dw_3_relu (ReLU)        (None, 32, 32, 128)       0         \n",
      "_________________________________________________________________\n",
      "conv_pw_3 (Conv2D)           (None, 32, 32, 128)       16384     \n",
      "_________________________________________________________________\n",
      "conv_pw_3_bn (BatchNormaliza (None, 32, 32, 128)       512       \n",
      "_________________________________________________________________\n",
      "conv_pw_3_relu (ReLU)        (None, 32, 32, 128)       0         \n",
      "_________________________________________________________________\n",
      "conv_pad_4 (ZeroPadding2D)   (None, 33, 33, 128)       0         \n",
      "_________________________________________________________________\n",
      "conv_dw_4 (DepthwiseConv2D)  (None, 16, 16, 128)       1152      \n",
      "_________________________________________________________________\n",
      "conv_dw_4_bn (BatchNormaliza (None, 16, 16, 128)       512       \n",
      "_________________________________________________________________\n",
      "conv_dw_4_relu (ReLU)        (None, 16, 16, 128)       0         \n",
      "_________________________________________________________________\n",
      "conv_pw_4 (Conv2D)           (None, 16, 16, 256)       32768     \n",
      "_________________________________________________________________\n",
      "conv_pw_4_bn (BatchNormaliza (None, 16, 16, 256)       1024      \n",
      "_________________________________________________________________\n",
      "conv_pw_4_relu (ReLU)        (None, 16, 16, 256)       0         \n",
      "_________________________________________________________________\n",
      "conv_dw_5 (DepthwiseConv2D)  (None, 16, 16, 256)       2304      \n",
      "_________________________________________________________________\n",
      "conv_dw_5_bn (BatchNormaliza (None, 16, 16, 256)       1024      \n",
      "_________________________________________________________________\n",
      "conv_dw_5_relu (ReLU)        (None, 16, 16, 256)       0         \n",
      "_________________________________________________________________\n",
      "conv_pw_5 (Conv2D)           (None, 16, 16, 256)       65536     \n",
      "_________________________________________________________________\n",
      "conv_pw_5_bn (BatchNormaliza (None, 16, 16, 256)       1024      \n",
      "_________________________________________________________________\n",
      "conv_pw_5_relu (ReLU)        (None, 16, 16, 256)       0         \n",
      "_________________________________________________________________\n",
      "conv_pad_6 (ZeroPadding2D)   (None, 17, 17, 256)       0         \n",
      "_________________________________________________________________\n",
      "conv_dw_6 (DepthwiseConv2D)  (None, 8, 8, 256)         2304      \n",
      "_________________________________________________________________\n",
      "conv_dw_6_bn (BatchNormaliza (None, 8, 8, 256)         1024      \n",
      "_________________________________________________________________\n",
      "conv_dw_6_relu (ReLU)        (None, 8, 8, 256)         0         \n",
      "_________________________________________________________________\n",
      "conv_pw_6 (Conv2D)           (None, 8, 8, 512)         131072    \n",
      "_________________________________________________________________\n",
      "conv_pw_6_bn (BatchNormaliza (None, 8, 8, 512)         2048      \n",
      "_________________________________________________________________\n",
      "conv_pw_6_relu (ReLU)        (None, 8, 8, 512)         0         \n",
      "_________________________________________________________________\n",
      "conv_dw_7 (DepthwiseConv2D)  (None, 8, 8, 512)         4608      \n",
      "_________________________________________________________________\n",
      "conv_dw_7_bn (BatchNormaliza (None, 8, 8, 512)         2048      \n",
      "_________________________________________________________________\n",
      "conv_dw_7_relu (ReLU)        (None, 8, 8, 512)         0         \n",
      "_________________________________________________________________\n",
      "conv_pw_7 (Conv2D)           (None, 8, 8, 512)         262144    \n",
      "_________________________________________________________________\n",
      "conv_pw_7_bn (BatchNormaliza (None, 8, 8, 512)         2048      \n",
      "_________________________________________________________________\n",
      "conv_pw_7_relu (ReLU)        (None, 8, 8, 512)         0         \n",
      "_________________________________________________________________\n",
      "conv_dw_8 (DepthwiseConv2D)  (None, 8, 8, 512)         4608      \n",
      "_________________________________________________________________\n",
      "conv_dw_8_bn (BatchNormaliza (None, 8, 8, 512)         2048      \n",
      "_________________________________________________________________\n",
      "conv_dw_8_relu (ReLU)        (None, 8, 8, 512)         0         \n",
      "_________________________________________________________________\n",
      "conv_pw_8 (Conv2D)           (None, 8, 8, 512)         262144    \n",
      "_________________________________________________________________\n",
      "conv_pw_8_bn (BatchNormaliza (None, 8, 8, 512)         2048      \n",
      "_________________________________________________________________\n",
      "conv_pw_8_relu (ReLU)        (None, 8, 8, 512)         0         \n",
      "_________________________________________________________________\n",
      "conv_dw_9 (DepthwiseConv2D)  (None, 8, 8, 512)         4608      \n",
      "_________________________________________________________________\n",
      "conv_dw_9_bn (BatchNormaliza (None, 8, 8, 512)         2048      \n",
      "_________________________________________________________________\n",
      "conv_dw_9_relu (ReLU)        (None, 8, 8, 512)         0         \n",
      "_________________________________________________________________\n",
      "conv_pw_9 (Conv2D)           (None, 8, 8, 512)         262144    \n",
      "_________________________________________________________________\n",
      "conv_pw_9_bn (BatchNormaliza (None, 8, 8, 512)         2048      \n",
      "_________________________________________________________________\n",
      "conv_pw_9_relu (ReLU)        (None, 8, 8, 512)         0         \n",
      "_________________________________________________________________\n",
      "conv_dw_10 (DepthwiseConv2D) (None, 8, 8, 512)         4608      \n",
      "_________________________________________________________________\n",
      "conv_dw_10_bn (BatchNormaliz (None, 8, 8, 512)         2048      \n",
      "_________________________________________________________________\n",
      "conv_dw_10_relu (ReLU)       (None, 8, 8, 512)         0         \n",
      "_________________________________________________________________\n",
      "conv_pw_10 (Conv2D)          (None, 8, 8, 512)         262144    \n",
      "_________________________________________________________________\n",
      "conv_pw_10_bn (BatchNormaliz (None, 8, 8, 512)         2048      \n",
      "_________________________________________________________________\n",
      "conv_pw_10_relu (ReLU)       (None, 8, 8, 512)         0         \n",
      "_________________________________________________________________\n",
      "conv_dw_11 (DepthwiseConv2D) (None, 8, 8, 512)         4608      \n",
      "_________________________________________________________________\n",
      "conv_dw_11_bn (BatchNormaliz (None, 8, 8, 512)         2048      \n",
      "_________________________________________________________________\n",
      "conv_dw_11_relu (ReLU)       (None, 8, 8, 512)         0         \n",
      "_________________________________________________________________\n",
      "conv_pw_11 (Conv2D)          (None, 8, 8, 512)         262144    \n",
      "_________________________________________________________________\n",
      "conv_pw_11_bn (BatchNormaliz (None, 8, 8, 512)         2048      \n",
      "_________________________________________________________________\n",
      "conv_pw_11_relu (ReLU)       (None, 8, 8, 512)         0         \n",
      "_________________________________________________________________\n",
      "conv_pad_12 (ZeroPadding2D)  (None, 9, 9, 512)         0         \n",
      "_________________________________________________________________\n",
      "conv_dw_12 (DepthwiseConv2D) (None, 4, 4, 512)         4608      \n",
      "_________________________________________________________________\n",
      "conv_dw_12_bn (BatchNormaliz (None, 4, 4, 512)         2048      \n",
      "_________________________________________________________________\n",
      "conv_dw_12_relu (ReLU)       (None, 4, 4, 512)         0         \n",
      "_________________________________________________________________\n",
      "conv_pw_12 (Conv2D)          (None, 4, 4, 1024)        524288    \n",
      "_________________________________________________________________\n",
      "conv_pw_12_bn (BatchNormaliz (None, 4, 4, 1024)        4096      \n",
      "_________________________________________________________________\n",
      "conv_pw_12_relu (ReLU)       (None, 4, 4, 1024)        0         \n",
      "_________________________________________________________________\n",
      "conv_dw_13 (DepthwiseConv2D) (None, 4, 4, 1024)        9216      \n",
      "_________________________________________________________________\n",
      "conv_dw_13_bn (BatchNormaliz (None, 4, 4, 1024)        4096      \n",
      "_________________________________________________________________\n",
      "conv_dw_13_relu (ReLU)       (None, 4, 4, 1024)        0         \n",
      "_________________________________________________________________\n",
      "conv_pw_13 (Conv2D)          (None, 4, 4, 1024)        1048576   \n",
      "_________________________________________________________________\n",
      "conv_pw_13_bn (BatchNormaliz (None, 4, 4, 1024)        4096      \n",
      "_________________________________________________________________\n",
      "conv_pw_13_relu (ReLU)       (None, 4, 4, 1024)        0         \n",
      "_________________________________________________________________\n",
      "coords (Conv2D)              (None, 1, 1, 4)           65540     \n",
      "_________________________________________________________________\n",
      "reshape (Reshape)            (None, 4)                 0         \n",
      "=================================================================\n",
      "Total params: 3,294,404\n",
      "Trainable params: 65,540\n",
      "Non-trainable params: 3,228,864\n",
      "_________________________________________________________________\n"
     ]
    }
   ],
   "source": [
    "model = create_model(False) # Arg is False, if you want to freeze lower layers for fast training (but low accuracy)\n",
    "model.summary() # Print summary"
   ]
  },
  {
   "cell_type": "markdown",
   "metadata": {
    "id": "iDYmge-AlJTX"
   },
   "source": [
    "### 5 .c. Compile the model\n",
    "- loss: \"mean_squared_error\"\n",
    "- metrics: IoU\n",
    "- optimizer: \"adam\""
   ]
  },
  {
   "cell_type": "code",
   "execution_count": 27,
   "metadata": {
    "id": "W-y6cZaL4p6R"
   },
   "outputs": [],
   "source": [
    "# Compile the model\n",
    "model.compile(loss=\"mean_squared_error\", optimizer=\"adam\", metrics=[IoU]) # Regression loss is MSE"
   ]
  },
  {
   "cell_type": "markdown",
   "metadata": {
    "id": "GQcJ00NheLJj"
   },
   "source": [
    "# 6 . Train model 2 "
   ]
  },
  {
   "cell_type": "markdown",
   "metadata": {
    "id": "wVHOojpJlvVa"
   },
   "source": [
    "### 6 .a. Training the model"
   ]
  },
  {
   "cell_type": "markdown",
   "metadata": {
    "id": "wJIhBhbDmZ8U"
   },
   "source": [
    "Fit the model to the dataset\n",
    "- Use early stopping\n",
    "- fit the model\n",
    "    - give train data - training features and labels\n",
    "    - batch size: 32\n",
    "    - epochs: 10\n",
    "    - give validation data - testing features and labels"
   ]
  },
  {
   "cell_type": "code",
   "execution_count": 32,
   "metadata": {
    "colab": {
     "base_uri": "https://localhost:8080/"
    },
    "executionInfo": {
     "elapsed": 17614,
     "status": "ok",
     "timestamp": 1611973982567,
     "user": {
      "displayName": "Sutithi Chakraborty",
      "photoUrl": "",
      "userId": "12749148906436566424"
     },
     "user_tz": -330
    },
    "id": "aqTFWczP9_Ki",
    "outputId": "31c7887a-0934-486e-b437-c5a64d6b0e28"
   },
   "outputs": [
    {
     "name": "stdout",
     "output_type": "stream",
     "text": [
      "Epoch 1/10\n",
      "21/21 [==============================] - 6s 190ms/step - loss: 442.0514 - IoU: 0.2389 - val_loss: 137.0308 - val_IoU: 0.4441\n",
      "Epoch 2/10\n",
      "21/21 [==============================] - 3s 162ms/step - loss: 199.6041 - IoU: 0.4032 - val_loss: 70.5372 - val_IoU: 0.5532\n",
      "Epoch 3/10\n",
      "21/21 [==============================] - 4s 190ms/step - loss: 142.0412 - IoU: 0.4663 - val_loss: 59.8499 - val_IoU: 0.5793\n",
      "Epoch 4/10\n",
      "21/21 [==============================] - 4s 195ms/step - loss: 107.4613 - IoU: 0.5109 - val_loss: 60.4386 - val_IoU: 0.6090\n",
      "Epoch 5/10\n",
      "21/21 [==============================] - 3s 160ms/step - loss: 82.0932 - IoU: 0.5586 - val_loss: 53.0976 - val_IoU: 0.6481\n",
      "Epoch 6/10\n",
      "21/21 [==============================] - 3s 153ms/step - loss: 65.2798 - IoU: 0.5967 - val_loss: 54.2078 - val_IoU: 0.6541\n"
     ]
    },
    {
     "data": {
      "text/plain": [
       "<tensorflow.python.keras.callbacks.History at 0x180fb866d30>"
      ]
     },
     "execution_count": 32,
     "metadata": {},
     "output_type": "execute_result"
    }
   ],
   "source": [
    "# Use earlystopping\n",
    "import tensorflow \n",
    "callback = tensorflow.keras.callbacks.EarlyStopping(monitor='val_IoU', patience=5, min_delta=0.01)\n",
    "\n",
    "# Fit the model\n",
    "model.fit(X_train, y_train, validation_data=(X_val, y_val), epochs=10, batch_size=32, callbacks=[callback])"
   ]
  },
  {
   "cell_type": "markdown",
   "metadata": {
    "id": "qDRKiebgeULh"
   },
   "source": [
    "# 7 . Evaluate this model"
   ]
  },
  {
   "cell_type": "markdown",
   "metadata": {
    "id": "MO_MWVlssv9j"
   },
   "source": [
    "### 7 .a. Final loss and accuracy"
   ]
  },
  {
   "cell_type": "code",
   "execution_count": 33,
   "metadata": {
    "colab": {
     "base_uri": "https://localhost:8080/"
    },
    "executionInfo": {
     "elapsed": 1063,
     "status": "ok",
     "timestamp": 1611974067845,
     "user": {
      "displayName": "Sutithi Chakraborty",
      "photoUrl": "",
      "userId": "12749148906436566424"
     },
     "user_tz": -330
    },
    "id": "SW7OgVkDsv9Y",
    "outputId": "7e7e6c28-408f-4c19-b7f0-0c7cd3bb3c19"
   },
   "outputs": [
    {
     "name": "stdout",
     "output_type": "stream",
     "text": [
      "2/2 [==============================] - 0s 37ms/step - loss: 54.2078 - IoU: 0.6541\n"
     ]
    },
    {
     "data": {
      "text/plain": [
       "[54.20780563354492, 0.6541000008583069]"
      ]
     },
     "execution_count": 33,
     "metadata": {},
     "output_type": "execute_result"
    }
   ],
   "source": [
    "model.evaluate(X_val, y_val)"
   ]
  },
  {
   "cell_type": "markdown",
   "metadata": {
    "id": "588o7uyTekLu"
   },
   "source": [
    "### 7 .b. Model evaluation on Validation data"
   ]
  },
  {
   "cell_type": "markdown",
   "metadata": {
    "id": "7Dc7u4iDp19z"
   },
   "source": [
    "#### 7 .b.i. Test the model on an image from validation data"
   ]
  },
  {
   "cell_type": "code",
   "execution_count": 34,
   "metadata": {
    "id": "dq0I37Onp69w"
   },
   "outputs": [],
   "source": [
    "# Pick a test image, run model, show image, and show predicted bounding box overlaid on the image\n",
    "filename = './Image/validation/000022.png'\n",
    "\n",
    "unscaled = cv2.imread(filename) # Original image for display"
   ]
  },
  {
   "cell_type": "code",
   "execution_count": 35,
   "metadata": {
    "colab": {
     "base_uri": "https://localhost:8080/"
    },
    "executionInfo": {
     "elapsed": 1037,
     "status": "ok",
     "timestamp": 1611974167759,
     "user": {
      "displayName": "Sutithi Chakraborty",
      "photoUrl": "",
      "userId": "12749148906436566424"
     },
     "user_tz": -330
    },
    "id": "-oNf2Wflp69z",
    "outputId": "2e7b449b-a24c-4238-b531-243524a9713c"
   },
   "outputs": [
    {
     "name": "stdout",
     "output_type": "stream",
     "text": [
      "Size of original input:  (128, 128, 3)\n",
      "-------------------------------\n",
      "Size of scaled input:  (128, 128, 3)\n"
     ]
    }
   ],
   "source": [
    "image_height, image_width, _ = unscaled.shape\n",
    "image = cv2.resize(unscaled, (IMAGE_SIZE, IMAGE_SIZE)) # Rescaled image to run the network\n",
    "feat_scaled = preprocess_input(np.array(image, dtype=np.float32))\n",
    "print (\"Size of original input: \", image.shape)\n",
    "print(\"-------------------------------\")\n",
    "print(\"Size of scaled input: \", feat_scaled.shape)"
   ]
  },
  {
   "cell_type": "code",
   "execution_count": 36,
   "metadata": {
    "id": "Dj5oyeQo2Jwq"
   },
   "outputs": [],
   "source": [
    "region = model.predict(x=np.array([feat_scaled]))[0] # Predict the BBox"
   ]
  },
  {
   "cell_type": "markdown",
   "metadata": {
    "id": "RxpkZnujfea4"
   },
   "source": [
    "#### 7 .b.ii. Fetching coordinates details from predicted result"
   ]
  },
  {
   "cell_type": "code",
   "execution_count": 37,
   "metadata": {
    "id": "Z7s8KILtsVJ2"
   },
   "outputs": [],
   "source": [
    "x0 = int(region[0] * image_width / IMAGE_SIZE) # Scale the BBox\n",
    "y0 = int(region[1] * image_height / IMAGE_SIZE)\n",
    "\n",
    "x1 = int((region[0] + region[2]) * image_width / IMAGE_SIZE)\n",
    "y1 = int((region[1] + region[3]) * image_height / IMAGE_SIZE)"
   ]
  },
  {
   "cell_type": "markdown",
   "metadata": {
    "id": "jiT0-20Rfkl-"
   },
   "source": [
    "#### 7 .b.iii. Now, let's plot the image and the bounding box on top of it"
   ]
  },
  {
   "cell_type": "code",
   "execution_count": 38,
   "metadata": {
    "colab": {
     "base_uri": "https://localhost:8080/",
     "height": 269
    },
    "executionInfo": {
     "elapsed": 1369,
     "status": "ok",
     "timestamp": 1611974180906,
     "user": {
      "displayName": "Sutithi Chakraborty",
      "photoUrl": "",
      "userId": "12749148906436566424"
     },
     "user_tz": -330
    },
    "id": "5OoF6TMdsVJ9",
    "outputId": "70fb0a3a-ce56-42e7-9d43-06b45a60a2d7"
   },
   "outputs": [
    {
     "ename": "NameError",
     "evalue": "name 'plt' is not defined",
     "output_type": "error",
     "traceback": [
      "\u001b[1;31m---------------------------------------------------------------------------\u001b[0m",
      "\u001b[1;31mNameError\u001b[0m                                 Traceback (most recent call last)",
      "Input \u001b[1;32mIn [38]\u001b[0m, in \u001b[0;36m<cell line: 2>\u001b[1;34m()\u001b[0m\n\u001b[0;32m      1\u001b[0m \u001b[38;5;66;03m# Create figure and axes\u001b[39;00m\n\u001b[1;32m----> 2\u001b[0m fig,ax \u001b[38;5;241m=\u001b[39m \u001b[43mplt\u001b[49m\u001b[38;5;241m.\u001b[39msubplots(\u001b[38;5;241m1\u001b[39m)\n\u001b[0;32m      4\u001b[0m \u001b[38;5;66;03m# Display the image\u001b[39;00m\n\u001b[0;32m      5\u001b[0m ax\u001b[38;5;241m.\u001b[39mimshow(unscaled)\n",
      "\u001b[1;31mNameError\u001b[0m: name 'plt' is not defined"
     ]
    }
   ],
   "source": [
    "# Create figure and axes\n",
    "fig,ax = plt.subplots(1)\n",
    "\n",
    "# Display the image\n",
    "ax.imshow(unscaled)\n",
    "\n",
    "# Create a Rectangle patch\n",
    "rect = patches.Rectangle((x0, y0), x1 - x0, y1 - y0, linewidth=2, edgecolor='r', facecolor='none')\n",
    "\n",
    "# Add the patch to the Axes\n",
    "ax.add_patch(rect)\n",
    "\n",
    "plt.show()"
   ]
  },
  {
   "cell_type": "markdown",
   "metadata": {
    "id": "R8-_IbLgfqjw"
   },
   "source": [
    "### 7 .c. Model evaluation on 2nd Validation data"
   ]
  },
  {
   "cell_type": "markdown",
   "metadata": {
    "id": "xWnDIvIrfsob"
   },
   "source": [
    "#### 7 .c.i. Test the model on second image from validation data"
   ]
  },
  {
   "cell_type": "code",
   "execution_count": 39,
   "metadata": {
    "id": "FtMov58lmaYj"
   },
   "outputs": [],
   "source": [
    "# Pick a test image, run model, show image, and show predicted bounding box overlaid on the image\n",
    "filename = './Image/validation/000007.png'\n",
    "\n",
    "unscaled = cv2.imread(filename) # Original image for display"
   ]
  },
  {
   "cell_type": "code",
   "execution_count": 40,
   "metadata": {
    "id": "TLyILCxbmaYv"
   },
   "outputs": [],
   "source": [
    "image_height, image_width, _ = unscaled.shape\n",
    "image = cv2.resize(unscaled, (IMAGE_SIZE, IMAGE_SIZE)) # Rescaled image to run the network\n",
    "feat_scaled = preprocess_input(np.array(image, dtype=np.float32))"
   ]
  },
  {
   "cell_type": "code",
   "execution_count": 41,
   "metadata": {
    "id": "L-Iu9RRsmaYx"
   },
   "outputs": [],
   "source": [
    "region = model.predict(x=np.array([feat_scaled]))[0] # Predict the BBox"
   ]
  },
  {
   "cell_type": "markdown",
   "metadata": {
    "id": "LG2IGjtTfwLQ"
   },
   "source": [
    "#### 7 .c.ii. Fetching coordinates details"
   ]
  },
  {
   "cell_type": "code",
   "execution_count": 42,
   "metadata": {
    "id": "BtA6Ev_NmaY0"
   },
   "outputs": [],
   "source": [
    "x0 = int(region[0] * image_width / IMAGE_SIZE) # Scale the BBox\n",
    "y0 = int(region[1] * image_height / IMAGE_SIZE)\n",
    "\n",
    "x1 = int((region[0] + region[2]) * image_width / IMAGE_SIZE)\n",
    "y1 = int((region[1] + region[3]) * image_height / IMAGE_SIZE)"
   ]
  },
  {
   "cell_type": "markdown",
   "metadata": {
    "id": "0RS8BDvYf6J7"
   },
   "source": [
    "#### 7 .c.iii. Now, let's plot the second image and the bounding box on top of it"
   ]
  },
  {
   "cell_type": "code",
   "execution_count": null,
   "metadata": {
    "colab": {
     "base_uri": "https://localhost:8080/",
     "height": 241
    },
    "executionInfo": {
     "elapsed": 1630,
     "status": "ok",
     "timestamp": 1611974276645,
     "user": {
      "displayName": "Sutithi Chakraborty",
      "photoUrl": "",
      "userId": "12749148906436566424"
     },
     "user_tz": -330
    },
    "id": "-6tPXxzMmaY3",
    "outputId": "b92fa496-b953-496b-e11c-c99d58b027dd"
   },
   "outputs": [
    {
     "data": {
      "image/png": "[encoded data removed]",
      "text/plain": [
       "<Figure size 432x288 with 1 Axes>"
      ]
     },
     "metadata": {
      "needs_background": "light",
      "tags": []
     },
     "output_type": "display_data"
    }
   ],
   "source": [
    "# Create figure and axes\n",
    "fig,ax = plt.subplots(1)\n",
    "\n",
    "# Display the image\n",
    "ax.imshow(unscaled)\n",
    "\n",
    "# Create a Rectangle patch\n",
    "rect = patches.Rectangle((x0, y0), x1 - x0, y1 - y0, linewidth=2, edgecolor='r', facecolor='none')\n",
    "\n",
    "# Add the patch to the Axes\n",
    "ax.add_patch(rect)\n",
    "\n",
    "plt.show()"
   ]
  },
  {
   "cell_type": "code",
   "execution_count": null,
   "metadata": {
    "id": "lNAfa7yPK1kQ"
   },
   "outputs": [],
   "source": []
  }
 ],
 "metadata": {
  "accelerator": "GPU",
  "colab": {
   "collapsed_sections": [],
   "name": "S6_TakeHome_Solution_Player_Final.ipynb",
   "provenance": []
  },
  "kernelspec": {
   "display_name": "Python 3 (ipykernel)",
   "language": "python",
   "name": "python3"
  },
  "language_info": {
   "codemirror_mode": {
    "name": "ipython",
    "version": 3
   },
   "file_extension": ".py",
   "mimetype": "text/x-python",
   "name": "python",
   "nbconvert_exporter": "python",
   "pygments_lexer": "ipython3",
   "version": "3.9.12"
  }
 },
 "nbformat": 4,
 "nbformat_minor": 1
}
