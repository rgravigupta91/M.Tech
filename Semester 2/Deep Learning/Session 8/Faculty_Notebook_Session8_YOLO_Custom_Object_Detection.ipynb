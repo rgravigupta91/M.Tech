{
 "cells": [
  {
   "cell_type": "markdown",
   "id": "cb3df3b5",
   "metadata": {},
   "source": [
    "\n",
    "#### YOLO CUSTOM OBJECT DETECTION \n",
    "\n",
    "chrome extension for image download\n",
    "https://chrome.google.com/webstore/detail/image-downloader-imageye/agionbommeaifngbhincahgmoflcikhm?hl=en\n",
    "Download the required custom class images in bulk and keep it one folder say \"yolo_data_annot\"\n",
    "\n",
    "LabelImg\n",
    "https://tzutalin.github.io/labelImg/\n",
    "\n",
    "Rename the image files in \"yolo_data_annot\" using the following jupyter notenook \n",
    "https://drive.google.com/file/d/1Mc3N1jBWuzb5etXBfx_qJrUwuspHmHd-/view?usp=sharing\n",
    "\n",
    "Mark the Bounding box and label the object using LabelImg software\n",
    "It will generate one .txt file for each image and one common class name txt file(classes.txt)\n",
    "\n",
    "Open google colab. Change the factory setting to GPU and mount it\n",
    "* from google.colab import drive\n",
    "* drive.mount('/content/drive')\n",
    "\n",
    "Create a folder in google drive as \"yolo_model\". Under this move the image folder \"yolo_data_annot\"\n",
    "(Now it consist of images and txt files)\n",
    "\n",
    "Create a another folder under \"yolo_model\" as darknet and clone the files from the below link\n",
    "!git clone 'https://github.com/AlexeyAB/darknet' '/content/drive/MyDrive/yolo_model/darknet'\n",
    "\n",
    "Go in to the darknet folder using cd command\n",
    "%cd /content/drive/MyDrive/yolo_model/darknet\n",
    "\n",
    "Go to the google drive darknet folder. You can see one file now as makefile. Download it and open. Set CPU, CUDNN and OPENCV as 1\n",
    "\n",
    "Remove the old 'makefile' and copy the updated one in the darknet folder\n",
    "\n",
    "execute !make in google colab\n",
    "\n",
    "Copy the files creating-files-data-and-name.py and creating-train-and-test-txt-files.py into image folder \"yolo_data_annot\"\n",
    "https://drive.google.com/file/d/1LgF9QGf8jcrRY3iDvQjJLcJBNI83YzQI/view?usp=sharing\n",
    "https://drive.google.com/file/d/14_XoOuzDbssc0Ttu5zkOdaFnJ_GlGgOa/view?usp=sharing\n",
    "\n",
    "\n",
    "Under \"yolo_data_annot\" folder, we have one files classes.txt. Open this file and save as 'classes.names'.\n",
    "Choose saveas type as 'all'\n",
    "\n",
    "Go into main yolo_model folder\n",
    "%cd /content/drive/MyDrive/yolo_model\n",
    "\n",
    "Execute the following files from colab\n",
    "!python yolo_data_annot/creating-files-data-and-name.py\n",
    "!python yolo_data_annot/creating-train-and-test-txt-files.py\n",
    "Three new txt files will be generated under the yolo_data_annot folder which contains label, train and test file info\n",
    "\n",
    "Go to google drive folder 'yolo_model' and create one new folder custom_weight\n",
    "\n",
    "Download the yolo weights https://drive.google.com/file/d/1CyhiP6jQ51fZGKf26ehWaXSfdZWCghBX/view?usp=sharing\n",
    "and copy this under the custom_weight folder in google drive\n",
    "\n",
    "Go to darknet folder-->cfg --> download yolov3.cfg\n",
    "\n",
    "Edit this yolov3.cfg file for the following changes\n",
    "1. Comment the \"Testing\" batch_size and subdivisions\n",
    "2. Play with the Training batch_size and subdivisions. You can give bigger number for huge data (Generally you can also give 64 for batch and 16 for subdiv)(I have given 4 and 2 as my dataset have only 11 images)\n",
    "3. Change the maxbatches value as (number of classes*2000). In my case 2*2000=4000\n",
    "4. Change the steps with around 20 percent devation with maxbatches. Here 3800 to 4200\n",
    "5. There are three yolo layers in this config file.\n",
    "* Change the classes to 2 (for my case) in all the three yolo layers\n",
    "* Change the number of filters in the convolution layer just above the yolo layer, using the formula \n",
    "  (number of class+5)*3\n",
    "* Change the filter size at three places(above three yolo layers)\n",
    "6. Save the file as yolov3_custom.cfg and upload this in darknet/cfg\n",
    "\n",
    "Create a folder with name 'backup' under yolo_model folder to save the trained weights\n",
    "\n",
    "Train the model using the below syntax\n",
    "!darknet/darknet detector train yolo_data_annot/labelled_data.data darknet/cfg/yolov3_custom.cfg custom_weight/darknet53.conv.74 -dont_show\n",
    "\n",
    "Save the configuation and weight file in local machine and test it for any image using the script given below\n",
    "https://drive.google.com/file/d/1NdeHdIFY_V6Ty8paf4IPTaBDW1af1DQ-/view?usp=sharing\n",
    "\n",
    "\n",
    "\n",
    "\n",
    "\n",
    "\n",
    "\n",
    "\n"
   ]
  },
  {
   "cell_type": "code",
   "execution_count": null,
   "id": "310ba4e9",
   "metadata": {},
   "outputs": [],
   "source": [
    "# The above execution steps are given in the .ipynb file \"yolo_training.ipynb\""
   ]
  },
  {
   "cell_type": "code",
   "execution_count": 1,
   "id": "932cd6da",
   "metadata": {},
   "outputs": [],
   "source": [
    "# The testing script is provided in the file \"yolo_1.ipynb\""
   ]
  },
  {
   "cell_type": "code",
   "execution_count": 1,
   "id": "f61befc7",
   "metadata": {},
   "outputs": [],
   "source": [
    "# All the small annoted dataset, and other weight files executed in class is available here:\n",
    "# https://drive.google.com/drive/folders/1N7x1sAF3RE4vKrwpBgLKllu4hxTq3LMz?usp=sharing"
   ]
  },
  {
   "cell_type": "code",
   "execution_count": null,
   "id": "e9de9d22",
   "metadata": {},
   "outputs": [],
   "source": []
  }
 ],
 "metadata": {
  "kernelspec": {
   "display_name": "Python 3",
   "language": "python",
   "name": "python3"
  },
  "language_info": {
   "codemirror_mode": {
    "name": "ipython",
    "version": 3
   },
   "file_extension": ".py",
   "mimetype": "text/x-python",
   "name": "python",
   "nbconvert_exporter": "python",
   "pygments_lexer": "ipython3",
   "version": "3.6.13"
  }
 },
 "nbformat": 4,
 "nbformat_minor": 5
}
