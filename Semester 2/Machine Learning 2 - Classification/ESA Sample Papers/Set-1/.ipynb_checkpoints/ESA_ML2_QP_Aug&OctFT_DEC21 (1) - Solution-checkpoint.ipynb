{
 "cells": [
  {
   "cell_type": "markdown",
   "metadata": {
    "id": "3-BzoyjpHMGj"
   },
   "source": [
    "# ML2 EXAM"
   ]
  },
  {
   "cell_type": "markdown",
   "metadata": {
    "id": "Xmq-5OFAHMGo"
   },
   "source": [
    "### DATA DESCRIPTION:\n",
    "\n",
    "This data set contains details of a bank's customers who have taken loans and the target variable is a binary variable reflecting the fact whether the customer will payback the loan or not.\n",
    "\n",
    "**CustomerId:** Unique Ids for bank customer identification\n",
    "\n",
    "**CreditScore:** Credit score of the customer\n",
    "\n",
    "**Geography:** The country from which the customer belongs\n",
    "\n",
    "**Gender:** Male or Female\n",
    "\n",
    "**Age:** Age of the customer\n",
    "\n",
    "**Tenure:** Number of years for which the customer has taken the loan\n",
    "\n",
    "**Balance:** Bank balance of the customer\n",
    "\n",
    "**NumOfProducts:** Number of bank products the customer is utilising\n",
    "\n",
    "**HasCrCard:** Binary Flag for whether the customer holds a credit card with the bank or not\n",
    "\n",
    "**IsActiveMember:** Binary Flag for whether the customer is an active member with the bank or not\n",
    "\n",
    "**EstimatedSalary:** Estimated salary of the customer in Dollars\n",
    "\n",
    "**Exited:** Binary flag 1 if the customer closed account with bank and 0 if the customer is retained\n",
    "\n",
    "**Target Column Description:** Payback the loan; class label is divided into groups (customer paybacks and not).\n"
   ]
  },
  {
   "cell_type": "markdown",
   "metadata": {
    "id": "TWatDJR1HMGp"
   },
   "source": [
    "# Section -B (Marks - 30)"
   ]
  },
  {
   "cell_type": "markdown",
   "metadata": {
    "id": "wGjWeKp4HMGp"
   },
   "source": [
    "### 1.\tRead the dataset (tab, csv, xls, txt, inbuilt dataset)"
   ]
  },
  {
   "cell_type": "code",
   "execution_count": 1,
   "metadata": {},
   "outputs": [],
   "source": [
    "import numpy as np\n",
    "import pandas as pd\n",
    "import matplotlib.pyplot as plt\n",
    "import seaborn as sns\n",
    "from sklearn.linear_model import LogisticRegression\n",
    "from sklearn.tree import DecisionTreeClassifier\n",
    "from sklearn.ensemble import RandomForestClassifier, BaggingClassifier, AdaBoostClassifier\n",
    "from sklearn.metrics import classification_report, accuracy_score, confusion_matrix"
   ]
  },
  {
   "cell_type": "code",
   "execution_count": null,
   "metadata": {},
   "outputs": [],
   "source": []
  },
  {
   "cell_type": "code",
   "execution_count": null,
   "metadata": {},
   "outputs": [],
   "source": []
  },
  {
   "cell_type": "code",
   "execution_count": null,
   "metadata": {
    "id": "0xRueviLlY72"
   },
   "outputs": [],
   "source": [
    "# Kindly change the below cells from markdown to code and execute it"
   ]
  },
  {
   "cell_type": "code",
   "execution_count": 2,
   "metadata": {
    "id": "O_tINAIolY77"
   },
   "outputs": [
    {
     "data": {
      "text/html": [
       "<div>\n",
       "<style scoped>\n",
       "    .dataframe tbody tr th:only-of-type {\n",
       "        vertical-align: middle;\n",
       "    }\n",
       "\n",
       "    .dataframe tbody tr th {\n",
       "        vertical-align: top;\n",
       "    }\n",
       "\n",
       "    .dataframe thead th {\n",
       "        text-align: right;\n",
       "    }\n",
       "</style>\n",
       "<table border=\"1\" class=\"dataframe\">\n",
       "  <thead>\n",
       "    <tr style=\"text-align: right;\">\n",
       "      <th></th>\n",
       "      <th>CustomerId</th>\n",
       "      <th>CreditScore</th>\n",
       "      <th>Geography</th>\n",
       "      <th>Gender</th>\n",
       "      <th>Age</th>\n",
       "      <th>Tenure</th>\n",
       "      <th>Balance</th>\n",
       "      <th>NumOfProducts</th>\n",
       "      <th>HasCrCard</th>\n",
       "      <th>IsActiveMember</th>\n",
       "      <th>EstimatedSalary</th>\n",
       "      <th>Loan</th>\n",
       "    </tr>\n",
       "  </thead>\n",
       "  <tbody>\n",
       "    <tr>\n",
       "      <th>0</th>\n",
       "      <td>1152345</td>\n",
       "      <td>350</td>\n",
       "      <td>Spain</td>\n",
       "      <td>Male</td>\n",
       "      <td>54.0</td>\n",
       "      <td>1</td>\n",
       "      <td>152677.48</td>\n",
       "      <td>1</td>\n",
       "      <td>1</td>\n",
       "      <td>1</td>\n",
       "      <td>191973.49</td>\n",
       "      <td>1</td>\n",
       "    </tr>\n",
       "    <tr>\n",
       "      <th>1</th>\n",
       "      <td>1152346</td>\n",
       "      <td>350</td>\n",
       "      <td>Germany</td>\n",
       "      <td>Male</td>\n",
       "      <td>39.0</td>\n",
       "      <td>0</td>\n",
       "      <td>109733.20</td>\n",
       "      <td>2</td>\n",
       "      <td>0</td>\n",
       "      <td>0</td>\n",
       "      <td>123602.11</td>\n",
       "      <td>1</td>\n",
       "    </tr>\n",
       "    <tr>\n",
       "      <th>2</th>\n",
       "      <td>1152347</td>\n",
       "      <td>350</td>\n",
       "      <td>France</td>\n",
       "      <td>Male</td>\n",
       "      <td>51.0</td>\n",
       "      <td>10</td>\n",
       "      <td>0.00</td>\n",
       "      <td>1</td>\n",
       "      <td>1</td>\n",
       "      <td>1</td>\n",
       "      <td>125823.79</td>\n",
       "      <td>1</td>\n",
       "    </tr>\n",
       "    <tr>\n",
       "      <th>3</th>\n",
       "      <td>1152348</td>\n",
       "      <td>350</td>\n",
       "      <td>France</td>\n",
       "      <td>Female</td>\n",
       "      <td>35.0</td>\n",
       "      <td>3</td>\n",
       "      <td>0.00</td>\n",
       "      <td>1</td>\n",
       "      <td>0</td>\n",
       "      <td>0</td>\n",
       "      <td>113796.15</td>\n",
       "      <td>1</td>\n",
       "    </tr>\n",
       "    <tr>\n",
       "      <th>4</th>\n",
       "      <td>1152349</td>\n",
       "      <td>350</td>\n",
       "      <td>France</td>\n",
       "      <td>Female</td>\n",
       "      <td>59.0</td>\n",
       "      <td>0</td>\n",
       "      <td>111098.85</td>\n",
       "      <td>1</td>\n",
       "      <td>1</td>\n",
       "      <td>1</td>\n",
       "      <td>172321.21</td>\n",
       "      <td>1</td>\n",
       "    </tr>\n",
       "  </tbody>\n",
       "</table>\n",
       "</div>"
      ],
      "text/plain": [
       "   CustomerId  CreditScore Geography  Gender   Age  Tenure    Balance  \\\n",
       "0     1152345          350     Spain    Male  54.0       1  152677.48   \n",
       "1     1152346          350   Germany    Male  39.0       0  109733.20   \n",
       "2     1152347          350    France    Male  51.0      10       0.00   \n",
       "3     1152348          350    France  Female  35.0       3       0.00   \n",
       "4     1152349          350    France  Female  59.0       0  111098.85   \n",
       "\n",
       "   NumOfProducts  HasCrCard  IsActiveMember  EstimatedSalary  Loan  \n",
       "0              1          1               1        191973.49     1  \n",
       "1              2          0               0        123602.11     1  \n",
       "2              1          1               1        125823.79     1  \n",
       "3              1          0               0        113796.15     1  \n",
       "4              1          1               1        172321.21     1  "
      ]
     },
     "execution_count": 2,
     "metadata": {},
     "output_type": "execute_result"
    }
   ],
   "source": [
    "import csv\n",
    "  \n",
    "df=pd.read_csv(\"Loan.csv\")\n",
    "\n",
    "df.head()\n"
   ]
  },
  {
   "cell_type": "code",
   "execution_count": null,
   "metadata": {
    "id": "4wuD47lkHMGr"
   },
   "outputs": [],
   "source": []
  },
  {
   "cell_type": "markdown",
   "metadata": {
    "id": "ZXJxwH2rHMGr"
   },
   "source": [
    "### 2.a.\tSummarize important observations from the data set (5 Marks)\n",
    "\n",
    "Some pointers which would help you, but don’t be limited by these\n",
    "\n",
    "i.\tFind out number of rows; no. & types of variables (continuous, categorical etc.)\n",
    "\n",
    "ii.\tCalculate five-point summary for numerical variables\n",
    "\n",
    "iii.\tSummarize observations for categorical variables – no. of categories, % observations in each category\n"
   ]
  },
  {
   "cell_type": "code",
   "execution_count": 3,
   "metadata": {
    "id": "1yZC4TDvHMGs"
   },
   "outputs": [
    {
     "name": "stdout",
     "output_type": "stream",
     "text": [
      "No of rows: 1630 No of Columns: 12\n"
     ]
    }
   ],
   "source": [
    "print(\"No of rows:\", df.shape[0], \"No of Columns:\", df.shape[1])"
   ]
  },
  {
   "cell_type": "code",
   "execution_count": 4,
   "metadata": {},
   "outputs": [],
   "source": [
    "numeric_columns = df.select_dtypes(include=[np.number]).columns"
   ]
  },
  {
   "cell_type": "code",
   "execution_count": 5,
   "metadata": {},
   "outputs": [],
   "source": [
    "cat_columns = df.select_dtypes(include=\"object\").columns"
   ]
  },
  {
   "cell_type": "code",
   "execution_count": 6,
   "metadata": {},
   "outputs": [
    {
     "name": "stdout",
     "output_type": "stream",
     "text": [
      "Index(['CustomerId', 'CreditScore', 'Age', 'Tenure', 'Balance',\n",
      "       'NumOfProducts', 'HasCrCard', 'IsActiveMember', 'EstimatedSalary',\n",
      "       'Loan'],\n",
      "      dtype='object')\n",
      "Index(['Geography', 'Gender'], dtype='object')\n"
     ]
    }
   ],
   "source": [
    "print(numeric_columns)\n",
    "print(cat_columns)"
   ]
  },
  {
   "cell_type": "code",
   "execution_count": 7,
   "metadata": {},
   "outputs": [
    {
     "data": {
      "text/html": [
       "<div>\n",
       "<style scoped>\n",
       "    .dataframe tbody tr th:only-of-type {\n",
       "        vertical-align: middle;\n",
       "    }\n",
       "\n",
       "    .dataframe tbody tr th {\n",
       "        vertical-align: top;\n",
       "    }\n",
       "\n",
       "    .dataframe thead th {\n",
       "        text-align: right;\n",
       "    }\n",
       "</style>\n",
       "<table border=\"1\" class=\"dataframe\">\n",
       "  <thead>\n",
       "    <tr style=\"text-align: right;\">\n",
       "      <th></th>\n",
       "      <th>CustomerId</th>\n",
       "      <th>CreditScore</th>\n",
       "      <th>Age</th>\n",
       "      <th>Tenure</th>\n",
       "      <th>Balance</th>\n",
       "      <th>NumOfProducts</th>\n",
       "      <th>HasCrCard</th>\n",
       "      <th>IsActiveMember</th>\n",
       "      <th>EstimatedSalary</th>\n",
       "      <th>Loan</th>\n",
       "    </tr>\n",
       "  </thead>\n",
       "  <tbody>\n",
       "    <tr>\n",
       "      <th>count</th>\n",
       "      <td>1.630000e+03</td>\n",
       "      <td>1630.000000</td>\n",
       "      <td>1479.000000</td>\n",
       "      <td>1630.000000</td>\n",
       "      <td>1630.000000</td>\n",
       "      <td>1630.000000</td>\n",
       "      <td>1630.000000</td>\n",
       "      <td>1630.000000</td>\n",
       "      <td>1630.000000</td>\n",
       "      <td>1630.000000</td>\n",
       "    </tr>\n",
       "    <tr>\n",
       "      <th>mean</th>\n",
       "      <td>1.153352e+06</td>\n",
       "      <td>508.435583</td>\n",
       "      <td>38.016227</td>\n",
       "      <td>5.049693</td>\n",
       "      <td>76512.060387</td>\n",
       "      <td>1.508589</td>\n",
       "      <td>0.701227</td>\n",
       "      <td>0.489571</td>\n",
       "      <td>101016.860571</td>\n",
       "      <td>0.211043</td>\n",
       "    </tr>\n",
       "    <tr>\n",
       "      <th>std</th>\n",
       "      <td>1.057108e+03</td>\n",
       "      <td>50.711238</td>\n",
       "      <td>8.152538</td>\n",
       "      <td>2.858111</td>\n",
       "      <td>62438.946664</td>\n",
       "      <td>0.564653</td>\n",
       "      <td>0.457861</td>\n",
       "      <td>0.500045</td>\n",
       "      <td>57100.527663</td>\n",
       "      <td>0.408174</td>\n",
       "    </tr>\n",
       "    <tr>\n",
       "      <th>min</th>\n",
       "      <td>1.152345e+06</td>\n",
       "      <td>350.000000</td>\n",
       "      <td>18.000000</td>\n",
       "      <td>0.000000</td>\n",
       "      <td>0.000000</td>\n",
       "      <td>1.000000</td>\n",
       "      <td>0.000000</td>\n",
       "      <td>0.000000</td>\n",
       "      <td>287.990000</td>\n",
       "      <td>0.000000</td>\n",
       "    </tr>\n",
       "    <tr>\n",
       "      <th>25%</th>\n",
       "      <td>1.152752e+06</td>\n",
       "      <td>480.000000</td>\n",
       "      <td>32.000000</td>\n",
       "      <td>3.000000</td>\n",
       "      <td>0.000000</td>\n",
       "      <td>1.000000</td>\n",
       "      <td>0.000000</td>\n",
       "      <td>0.000000</td>\n",
       "      <td>53813.492500</td>\n",
       "      <td>0.000000</td>\n",
       "    </tr>\n",
       "    <tr>\n",
       "      <th>50%</th>\n",
       "      <td>1.153160e+06</td>\n",
       "      <td>512.000000</td>\n",
       "      <td>38.000000</td>\n",
       "      <td>5.000000</td>\n",
       "      <td>96566.615000</td>\n",
       "      <td>1.000000</td>\n",
       "      <td>1.000000</td>\n",
       "      <td>0.000000</td>\n",
       "      <td>101697.220000</td>\n",
       "      <td>0.000000</td>\n",
       "    </tr>\n",
       "    <tr>\n",
       "      <th>75%</th>\n",
       "      <td>1.153567e+06</td>\n",
       "      <td>533.000000</td>\n",
       "      <td>44.000000</td>\n",
       "      <td>8.000000</td>\n",
       "      <td>127544.947500</td>\n",
       "      <td>2.000000</td>\n",
       "      <td>1.000000</td>\n",
       "      <td>1.000000</td>\n",
       "      <td>149644.060000</td>\n",
       "      <td>0.000000</td>\n",
       "    </tr>\n",
       "    <tr>\n",
       "      <th>max</th>\n",
       "      <td>1.158803e+06</td>\n",
       "      <td>688.000000</td>\n",
       "      <td>60.000000</td>\n",
       "      <td>10.000000</td>\n",
       "      <td>221532.800000</td>\n",
       "      <td>4.000000</td>\n",
       "      <td>1.000000</td>\n",
       "      <td>1.000000</td>\n",
       "      <td>199862.750000</td>\n",
       "      <td>1.000000</td>\n",
       "    </tr>\n",
       "  </tbody>\n",
       "</table>\n",
       "</div>"
      ],
      "text/plain": [
       "         CustomerId  CreditScore          Age       Tenure        Balance  \\\n",
       "count  1.630000e+03  1630.000000  1479.000000  1630.000000    1630.000000   \n",
       "mean   1.153352e+06   508.435583    38.016227     5.049693   76512.060387   \n",
       "std    1.057108e+03    50.711238     8.152538     2.858111   62438.946664   \n",
       "min    1.152345e+06   350.000000    18.000000     0.000000       0.000000   \n",
       "25%    1.152752e+06   480.000000    32.000000     3.000000       0.000000   \n",
       "50%    1.153160e+06   512.000000    38.000000     5.000000   96566.615000   \n",
       "75%    1.153567e+06   533.000000    44.000000     8.000000  127544.947500   \n",
       "max    1.158803e+06   688.000000    60.000000    10.000000  221532.800000   \n",
       "\n",
       "       NumOfProducts    HasCrCard  IsActiveMember  EstimatedSalary  \\\n",
       "count    1630.000000  1630.000000     1630.000000      1630.000000   \n",
       "mean        1.508589     0.701227        0.489571    101016.860571   \n",
       "std         0.564653     0.457861        0.500045     57100.527663   \n",
       "min         1.000000     0.000000        0.000000       287.990000   \n",
       "25%         1.000000     0.000000        0.000000     53813.492500   \n",
       "50%         1.000000     1.000000        0.000000    101697.220000   \n",
       "75%         2.000000     1.000000        1.000000    149644.060000   \n",
       "max         4.000000     1.000000        1.000000    199862.750000   \n",
       "\n",
       "              Loan  \n",
       "count  1630.000000  \n",
       "mean      0.211043  \n",
       "std       0.408174  \n",
       "min       0.000000  \n",
       "25%       0.000000  \n",
       "50%       0.000000  \n",
       "75%       0.000000  \n",
       "max       1.000000  "
      ]
     },
     "execution_count": 7,
     "metadata": {},
     "output_type": "execute_result"
    }
   ],
   "source": [
    "df.describe()"
   ]
  },
  {
   "cell_type": "code",
   "execution_count": null,
   "metadata": {},
   "outputs": [],
   "source": []
  },
  {
   "cell_type": "markdown",
   "metadata": {
    "id": "o4LQJ6-iHMGs"
   },
   "source": [
    "### 2.b.\tCheck for defects in the data. Perform necessary actions to ‘fix’ these defects (10 Marks)\n",
    "\n",
    "Some pointers which would help you, but don’t be limited by these\n",
    "\n",
    "i.\tDo variables have missing/null values?Is it a defect? If Yes, what steps are being taken to rectify the problem.\n",
    "\n",
    "ii.\tDo variables have outliers?Is it a defect? If Yes, what steps are being taken to rectify the problem.\n",
    "\n",
    "iii.\tIs the Target distributed evenly? Is it a defect? If Yes, what steps are being taken to rectify the problem.\n",
    "\n",
    "iv. Is there any textual data? Is it a defect? If Yes, what steps are being taken to rectify the problem.\n"
   ]
  },
  {
   "cell_type": "code",
   "execution_count": 8,
   "metadata": {
    "id": "7tk6a7-kHMGs"
   },
   "outputs": [
    {
     "data": {
      "text/plain": [
       "CustomerId           0\n",
       "CreditScore          0\n",
       "Geography            0\n",
       "Gender              59\n",
       "Age                151\n",
       "Tenure               0\n",
       "Balance              0\n",
       "NumOfProducts        0\n",
       "HasCrCard            0\n",
       "IsActiveMember       0\n",
       "EstimatedSalary      0\n",
       "Loan                 0\n",
       "dtype: int64"
      ]
     },
     "execution_count": 8,
     "metadata": {},
     "output_type": "execute_result"
    }
   ],
   "source": [
    "df.isnull().sum()"
   ]
  },
  {
   "cell_type": "code",
   "execution_count": 14,
   "metadata": {},
   "outputs": [
    {
     "data": {
      "text/plain": [
       "<Axes: xlabel='Gender', ylabel='count'>"
      ]
     },
     "execution_count": 14,
     "metadata": {},
     "output_type": "execute_result"
    },
    {
     "data": {
      "image/png": "[encoded data removed]",
      "text/plain": [
       "<Figure size 640x480 with 1 Axes>"
      ]
     },
     "metadata": {},
     "output_type": "display_data"
    }
   ],
   "source": [
    "sns.countplot(df, x='Gender')"
   ]
  },
  {
   "cell_type": "code",
   "execution_count": 17,
   "metadata": {},
   "outputs": [
    {
     "data": {
      "text/plain": [
       "<Axes: >"
      ]
     },
     "execution_count": 17,
     "metadata": {},
     "output_type": "execute_result"
    },
    {
     "data": {
      "image/png": "[encoded data removed]",
      "text/plain": [
       "<Figure size 640x480 with 1 Axes>"
      ]
     },
     "metadata": {},
     "output_type": "display_data"
    }
   ],
   "source": [
    "sns.boxplot(df[['Age']])"
   ]
  },
  {
   "cell_type": "code",
   "execution_count": 22,
   "metadata": {},
   "outputs": [],
   "source": [
    "#Fill Age with median\n",
    "filled_df = df.fillna({\"Age\":df['Age'].median(), \"Gender\":'Male'})"
   ]
  },
  {
   "cell_type": "code",
   "execution_count": 23,
   "metadata": {},
   "outputs": [
    {
     "data": {
      "text/plain": [
       "CustomerId         0\n",
       "CreditScore        0\n",
       "Geography          0\n",
       "Gender             0\n",
       "Age                0\n",
       "Tenure             0\n",
       "Balance            0\n",
       "NumOfProducts      0\n",
       "HasCrCard          0\n",
       "IsActiveMember     0\n",
       "EstimatedSalary    0\n",
       "Loan               0\n",
       "dtype: int64"
      ]
     },
     "execution_count": 23,
     "metadata": {},
     "output_type": "execute_result"
    }
   ],
   "source": [
    "filled_df.isnull().sum()"
   ]
  },
  {
   "cell_type": "code",
   "execution_count": 26,
   "metadata": {},
   "outputs": [
    {
     "data": {
      "text/plain": [
       "Index(['CustomerId', 'CreditScore', 'Age', 'Tenure', 'Balance',\n",
       "       'NumOfProducts', 'HasCrCard', 'IsActiveMember', 'EstimatedSalary',\n",
       "       'Loan'],\n",
       "      dtype='object')"
      ]
     },
     "execution_count": 26,
     "metadata": {},
     "output_type": "execute_result"
    }
   ],
   "source": [
    "numeric_columns"
   ]
  },
  {
   "cell_type": "code",
   "execution_count": 35,
   "metadata": {},
   "outputs": [
    {
     "data": {
      "text/plain": [
       "<Axes: ylabel='Loan'>"
      ]
     },
     "execution_count": 35,
     "metadata": {},
     "output_type": "execute_result"
    },
    {
     "data": {
      "image/png": "[encoded data removed]",
      "text/plain": [
       "<Figure size 1000x1000 with 9 Axes>"
      ]
     },
     "metadata": {},
     "output_type": "display_data"
    }
   ],
   "source": [
    "fig, ax = plt.subplots(3,3, figsize=(10,10))\n",
    "sns.boxplot(df['CreditScore'], ax=ax[0][0])\n",
    "sns.boxplot(df['Age'], ax=ax[0][1])\n",
    "sns.boxplot(df['Tenure'], ax=ax[0][2])\n",
    "sns.boxplot(df['Balance'], ax=ax[1][0])\n",
    "sns.boxplot(df['NumOfProducts'], ax=ax[1][1])\n",
    "sns.boxplot(df['HasCrCard'], ax=ax[1][2])\n",
    "sns.boxplot(df['IsActiveMember'], ax=ax[2][0])\n",
    "sns.boxplot(df['EstimatedSalary'], ax=ax[2][1])\n",
    "sns.boxplot(df['Loan'], ax=ax[2][2])"
   ]
  },
  {
   "cell_type": "markdown",
   "metadata": {
    "id": "VC9cZnxUHMGs"
   },
   "source": [
    "### 2.c.\tSummarize relationships among variables (5 marks)               \n",
    "i.\tPlot relevant categorical plots. Find out which are the variables most correlated or appear to be in causation with Target? Do you want to exclude some variables from the model based on this analysis? What other actions will you take?\n",
    "\n",
    "\n",
    "ii.\tPlot all independent variables with the target & find out the relationship? Perform the Relevant Tests to find out if the Independent variables are associated with the Target Variable.\n",
    "\n",
    " Hint: based on your observations you may want to transform features or create additional features.\n"
   ]
  },
  {
   "cell_type": "code",
   "execution_count": 43,
   "metadata": {
    "id": "Ij2QnkhOHMGt"
   },
   "outputs": [
    {
     "data": {
      "text/plain": [
       "<Axes: xlabel='Loan', ylabel='count'>"
      ]
     },
     "execution_count": 43,
     "metadata": {},
     "output_type": "execute_result"
    },
    {
     "data": {
      "image/png": "[encoded data removed]",
      "text/plain": [
       "<Figure size 640x480 with 1 Axes>"
      ]
     },
     "metadata": {},
     "output_type": "display_data"
    }
   ],
   "source": [
    "sns.countplot(x=df.Loan, hue=df.Gender)"
   ]
  },
  {
   "cell_type": "code",
   "execution_count": 45,
   "metadata": {},
   "outputs": [],
   "source": [
    "import scipy.stats as stats"
   ]
  },
  {
   "cell_type": "code",
   "execution_count": 47,
   "metadata": {},
   "outputs": [
    {
     "name": "stdout",
     "output_type": "stream",
     "text": [
      "Chi2ContingencyResult(statistic=16.58685545652738, pvalue=4.6471996508838964e-05, dof=1, expected_freq=array([[578.41629535, 155.58370465],\n",
      "       [659.58370465, 177.41629535]]))\n"
     ]
    }
   ],
   "source": [
    "gender_vs_loan = pd.crosstab(df['Gender'], df['Loan'])\n",
    "print(stats.chi2_contingency(gender_vs_loan))"
   ]
  },
  {
   "cell_type": "code",
   "execution_count": 49,
   "metadata": {},
   "outputs": [
    {
     "data": {
      "text/plain": [
       "<Axes: xlabel='Loan', ylabel='count'>"
      ]
     },
     "execution_count": 49,
     "metadata": {},
     "output_type": "execute_result"
    },
    {
     "data": {
      "image/png": "[encoded data removed]",
      "text/plain": [
       "<Figure size 640x480 with 1 Axes>"
      ]
     },
     "metadata": {},
     "output_type": "display_data"
    }
   ],
   "source": [
    "sns.countplot(x=df.Loan, hue=df.Geography)"
   ]
  },
  {
   "cell_type": "code",
   "execution_count": 64,
   "metadata": {},
   "outputs": [],
   "source": [
    "cat_df = pd.get_dummies(data=filled_df[cat_columns], drop_first=True, dtype=np.int32)"
   ]
  },
  {
   "cell_type": "code",
   "execution_count": 65,
   "metadata": {},
   "outputs": [],
   "source": [
    "num_df = filled_df.select_dtypes(include=np.number)"
   ]
  },
  {
   "cell_type": "code",
   "execution_count": 66,
   "metadata": {},
   "outputs": [],
   "source": [
    "features_df = pd.concat([num_df, cat_df], axis=1)\n",
    "features_df= features_df.drop('CustomerId', axis=1)\n",
    "y = features_df['Loan']\n",
    "X = features_df.drop('Loan', axis=1)"
   ]
  },
  {
   "cell_type": "markdown",
   "metadata": {
    "_uuid": "9f29fa3003e7fc145f7d89c614446b2afafb3ccb",
    "id": "rlJr-iJqHMGt"
   },
   "source": [
    "### 2.d.\tSplit dataset into train and test (70:30) (5 marks)\n",
    "i.\tAre both train and test representative of the overall data? How would you ascertain this statistically?\n"
   ]
  },
  {
   "cell_type": "code",
   "execution_count": 67,
   "metadata": {
    "id": "3_0KRBczHMGt"
   },
   "outputs": [],
   "source": [
    "from sklearn.model_selection import train_test_split\n",
    "X_train, X_test, y_train, y_test = train_test_split(X, y, test_size=0.3, random_state=42)"
   ]
  },
  {
   "cell_type": "markdown",
   "metadata": {
    "_uuid": "2fcd4a30b10e5bf2f390190e6f3ac1c86ebc43b0",
    "id": "9aTXmpCGHMGt"
   },
   "source": [
    "### 2.e.\tFit a base model and explain the reason of selecting that model. Please write your key observations (5 marks)\n",
    "\n",
    "i.\tWhat is the overall Accuracy? Please comment on whether it is good or not.\n",
    "\n",
    "ii.\tWhat is Precision, Recall and F1 Score and what will be the optimization objective keeping in mind the problem statement.\n",
    "\n",
    "iii. Which variables are significant?\n",
    "\n",
    "iv.\tWhat is Cohen’s Kappa Value and what inference do you make from the model\n",
    "\n",
    "v.\tWhich other key model output parameters do you want to look at?\n"
   ]
  },
  {
   "cell_type": "code",
   "execution_count": 68,
   "metadata": {
    "id": "j2HqY1QyHMGt"
   },
   "outputs": [
    {
     "name": "stderr",
     "output_type": "stream",
     "text": [
      "C:\\Users\\navee\\anaconda3\\envs\\DSML_TF\\Lib\\site-packages\\sklearn\\linear_model\\_logistic.py:465: ConvergenceWarning: lbfgs failed to converge (status=1):\n",
      "STOP: TOTAL NO. of ITERATIONS REACHED LIMIT.\n",
      "\n",
      "Increase the number of iterations (max_iter) or scale the data as shown in:\n",
      "    https://scikit-learn.org/stable/modules/preprocessing.html\n",
      "Please also refer to the documentation for alternative solver options:\n",
      "    https://scikit-learn.org/stable/modules/linear_model.html#logistic-regression\n",
      "  n_iter_i = _check_optimize_result(\n"
     ]
    },
    {
     "data": {
      "text/plain": [
       "array([[872,  34],\n",
       "       [195,  40]], dtype=int64)"
      ]
     },
     "execution_count": 68,
     "metadata": {},
     "output_type": "execute_result"
    }
   ],
   "source": [
    "lg_mod = LogisticRegression()\n",
    "lg_mod = lg_mod.fit(X_train, y_train)\n",
    "confusion_matrix(y_train, lg_mod.predict(X_train))"
   ]
  },
  {
   "cell_type": "code",
   "execution_count": 69,
   "metadata": {},
   "outputs": [
    {
     "data": {
      "text/plain": [
       "0.7992988606485539"
      ]
     },
     "execution_count": 69,
     "metadata": {},
     "output_type": "execute_result"
    }
   ],
   "source": [
    "accuracy_score(y_train, lg_mod.predict(X_train))"
   ]
  },
  {
   "cell_type": "code",
   "execution_count": 72,
   "metadata": {},
   "outputs": [
    {
     "data": {
      "text/plain": [
       "0.7770961145194274"
      ]
     },
     "execution_count": 72,
     "metadata": {},
     "output_type": "execute_result"
    }
   ],
   "source": [
    "accuracy_score(y_test, lg_mod.predict(X_test))"
   ]
  },
  {
   "cell_type": "markdown",
   "metadata": {
    "id": "xY42h_LNHMGt"
   },
   "source": [
    "# Section -C (Marks - 40)"
   ]
  },
  {
   "cell_type": "markdown",
   "metadata": {
    "_uuid": "1d74e48a7d887524399923f72b0d138c53e6f791",
    "id": "fONM2yfMHMGt"
   },
   "source": [
    "### 3.a.\tHow do you improve overall efficiency of the model? Write clearly the changes that you will make before re-fitting the model. Fit the final model. (20 marks)\n",
    "Please feel free to have any number of iterations to get to the final answer. Marks are awarded based on the quality of final model you are able to achieve.\n"
   ]
  },
  {
   "cell_type": "code",
   "execution_count": 89,
   "metadata": {
    "id": "bgwb8dbQHMGt"
   },
   "outputs": [
    {
     "data": {
      "text/plain": [
       "1.0"
      ]
     },
     "execution_count": 89,
     "metadata": {},
     "output_type": "execute_result"
    }
   ],
   "source": [
    "rf = RandomForestClassifier(n_estimators=100, criterion='entropy')\n",
    "rf_mod = rf.fit(X_train, y_train)\n",
    "\n",
    "confusion_matrix(y_train, rf_mod.predict(X_train))\n",
    "accuracy_score(y_train, rf_mod.predict(X_train))"
   ]
  },
  {
   "cell_type": "code",
   "execution_count": 90,
   "metadata": {},
   "outputs": [
    {
     "data": {
      "text/plain": [
       "0.8384458077709611"
      ]
     },
     "execution_count": 90,
     "metadata": {},
     "output_type": "execute_result"
    }
   ],
   "source": [
    "accuracy_score(y_test, rf_mod.predict(X_test))"
   ]
  },
  {
   "cell_type": "markdown",
   "metadata": {
    "id": "dsoLjy4kHMGt"
   },
   "source": [
    "### 3.b.\tSummarize as follows (20 marks)\n",
    "\n",
    "i.\tSummarize the overall fit of the model and list down the measures to prove that it is a good model\n",
    "\n",
    "ii.\tWrite down a business interpretation/explanation of the model – which variables are affecting the target the most and explain the relationship. Feel free to use charts or graphs to explain.\n",
    "\n",
    "iii.\tWhat changes from the base model had the most effect on model performance?\n",
    "\n",
    "iv.\tWhat are the key risks to your results and interpretation?\n"
   ]
  },
  {
   "cell_type": "code",
   "execution_count": 93,
   "metadata": {
    "id": "A6Hd42wGHMGu"
   },
   "outputs": [
    {
     "data": {
      "text/plain": [
       "array([[0.98933953, 1.10344678, 0.91863551, 1.00000345, 0.97886678,\n",
       "        0.99072776, 0.96905635, 1.00000315, 1.01891925, 0.99744178,\n",
       "        0.97415919]])"
      ]
     },
     "execution_count": 93,
     "metadata": {},
     "output_type": "execute_result"
    }
   ],
   "source": [
    "np.exp(lg_mod.coef_)"
   ]
  },
  {
   "cell_type": "code",
   "execution_count": 100,
   "metadata": {},
   "outputs": [
    {
     "data": {
      "text/plain": [
       "array(['CreditScore', 'Age', 'Tenure', 'Balance', 'NumOfProducts',\n",
       "       'HasCrCard', 'IsActiveMember', 'EstimatedSalary',\n",
       "       'Geography_Germany', 'Geography_Spain', 'Gender_Male'],\n",
       "      dtype=object)"
      ]
     },
     "execution_count": 100,
     "metadata": {},
     "output_type": "execute_result"
    }
   ],
   "source": [
    "lg_mod.feature_names_in_"
   ]
  },
  {
   "cell_type": "code",
   "execution_count": 94,
   "metadata": {},
   "outputs": [
    {
     "data": {
      "text/plain": [
       "array([0.17167733, 0.21270064, 0.08956228, 0.12740583, 0.11685297,\n",
       "       0.02242356, 0.03047842, 0.15735711, 0.02690245, 0.01789792,\n",
       "       0.02674149])"
      ]
     },
     "execution_count": 94,
     "metadata": {},
     "output_type": "execute_result"
    }
   ],
   "source": [
    "rf_mod.feature_importances_"
   ]
  },
  {
   "cell_type": "code",
   "execution_count": 95,
   "metadata": {},
   "outputs": [
    {
     "data": {
      "text/plain": [
       "array(['CreditScore', 'Age', 'Tenure', 'Balance', 'NumOfProducts',\n",
       "       'HasCrCard', 'IsActiveMember', 'EstimatedSalary',\n",
       "       'Geography_Germany', 'Geography_Spain', 'Gender_Male'],\n",
       "      dtype=object)"
      ]
     },
     "execution_count": 95,
     "metadata": {},
     "output_type": "execute_result"
    }
   ],
   "source": [
    "rf_mod.feature_names_in_"
   ]
  },
  {
   "cell_type": "code",
   "execution_count": 97,
   "metadata": {},
   "outputs": [
    {
     "data": {
      "text/html": [
       "<div>\n",
       "<style scoped>\n",
       "    .dataframe tbody tr th:only-of-type {\n",
       "        vertical-align: middle;\n",
       "    }\n",
       "\n",
       "    .dataframe tbody tr th {\n",
       "        vertical-align: top;\n",
       "    }\n",
       "\n",
       "    .dataframe thead th {\n",
       "        text-align: right;\n",
       "    }\n",
       "</style>\n",
       "<table border=\"1\" class=\"dataframe\">\n",
       "  <thead>\n",
       "    <tr style=\"text-align: right;\">\n",
       "      <th></th>\n",
       "      <th>name</th>\n",
       "      <th>importance</th>\n",
       "    </tr>\n",
       "  </thead>\n",
       "  <tbody>\n",
       "    <tr>\n",
       "      <th>1</th>\n",
       "      <td>Age</td>\n",
       "      <td>0.212701</td>\n",
       "    </tr>\n",
       "    <tr>\n",
       "      <th>0</th>\n",
       "      <td>CreditScore</td>\n",
       "      <td>0.171677</td>\n",
       "    </tr>\n",
       "    <tr>\n",
       "      <th>7</th>\n",
       "      <td>EstimatedSalary</td>\n",
       "      <td>0.157357</td>\n",
       "    </tr>\n",
       "    <tr>\n",
       "      <th>3</th>\n",
       "      <td>Balance</td>\n",
       "      <td>0.127406</td>\n",
       "    </tr>\n",
       "    <tr>\n",
       "      <th>4</th>\n",
       "      <td>NumOfProducts</td>\n",
       "      <td>0.116853</td>\n",
       "    </tr>\n",
       "    <tr>\n",
       "      <th>2</th>\n",
       "      <td>Tenure</td>\n",
       "      <td>0.089562</td>\n",
       "    </tr>\n",
       "    <tr>\n",
       "      <th>6</th>\n",
       "      <td>IsActiveMember</td>\n",
       "      <td>0.030478</td>\n",
       "    </tr>\n",
       "    <tr>\n",
       "      <th>8</th>\n",
       "      <td>Geography_Germany</td>\n",
       "      <td>0.026902</td>\n",
       "    </tr>\n",
       "    <tr>\n",
       "      <th>10</th>\n",
       "      <td>Gender_Male</td>\n",
       "      <td>0.026741</td>\n",
       "    </tr>\n",
       "    <tr>\n",
       "      <th>5</th>\n",
       "      <td>HasCrCard</td>\n",
       "      <td>0.022424</td>\n",
       "    </tr>\n",
       "    <tr>\n",
       "      <th>9</th>\n",
       "      <td>Geography_Spain</td>\n",
       "      <td>0.017898</td>\n",
       "    </tr>\n",
       "  </tbody>\n",
       "</table>\n",
       "</div>"
      ],
      "text/plain": [
       "                 name  importance\n",
       "1                 Age    0.212701\n",
       "0         CreditScore    0.171677\n",
       "7     EstimatedSalary    0.157357\n",
       "3             Balance    0.127406\n",
       "4       NumOfProducts    0.116853\n",
       "2              Tenure    0.089562\n",
       "6      IsActiveMember    0.030478\n",
       "8   Geography_Germany    0.026902\n",
       "10        Gender_Male    0.026741\n",
       "5           HasCrCard    0.022424\n",
       "9     Geography_Spain    0.017898"
      ]
     },
     "execution_count": 97,
     "metadata": {},
     "output_type": "execute_result"
    }
   ],
   "source": [
    "feature_importance = pd.DataFrame({\"name\":rf_mod.feature_names_in_, \"importance\":rf_mod.feature_importances_})\n",
    "feature_importance.sort_values(by='importance', ascending=False)"
   ]
  },
  {
   "cell_type": "code",
   "execution_count": null,
   "metadata": {},
   "outputs": [],
   "source": []
  }
 ],
 "metadata": {
  "colab": {
   "provenance": []
  },
  "kernelspec": {
   "display_name": "Python 3 (ipykernel)",
   "language": "python",
   "name": "python3"
  },
  "language_info": {
   "codemirror_mode": {
    "name": "ipython",
    "version": 3
   },
   "file_extension": ".py",
   "mimetype": "text/x-python",
   "name": "python",
   "nbconvert_exporter": "python",
   "pygments_lexer": "ipython3",
   "version": "3.12.8"
  }
 },
 "nbformat": 4,
 "nbformat_minor": 4
}
