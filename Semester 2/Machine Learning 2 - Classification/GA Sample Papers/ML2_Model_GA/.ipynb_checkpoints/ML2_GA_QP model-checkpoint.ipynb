{
 "cells": [
  {
   "cell_type": "markdown",
   "metadata": {},
   "source": [
    "### ML2 GRADED ASSESSMENT"
   ]
  },
  {
   "cell_type": "code",
   "execution_count": null,
   "metadata": {},
   "outputs": [],
   "source": [
    "import pandas as pd\n",
    "import numpy as np\n",
    "import seaborn as sns\n",
    "import matplotlib.pyplot as plt\n",
    "%matplotlib inline\n",
    "import warnings\n",
    "warnings.filterwarnings('ignore')\n",
    "from sklearn.preprocessing import LabelEncoder\n",
    "from sklearn.compose import make_column_transformer\n",
    "from sklearn.preprocessing import StandardScaler\n",
    "from sklearn.model_selection import train_test_split\n",
    "from sklearn.linear_model import LogisticRegression\n",
    "from sklearn.pipeline import make_pipeline\n",
    "from sklearn.model_selection import cross_val_score\n",
    "from sklearn import metrics\n",
    "from sklearn.neighbors import KNeighborsClassifier\n",
    "from sklearn.tree import DecisionTreeClassifier\n",
    "from sklearn.ensemble import RandomForestClassifier\n",
    "from sklearn.metrics import precision_score,recall_score,f1_score\n",
    "from sklearn.metrics import average_precision_score\n",
    "from sklearn.metrics import roc_auc_score\n",
    "from sklearn.metrics import roc_curve"
   ]
  },
  {
   "cell_type": "markdown",
   "metadata": {},
   "source": []
  },
  {
   "cell_type": "markdown",
   "metadata": {},
   "source": [
    "### 1.\tData Understanding (5 marks)\n",
    "\n",
    "a.\tRead the dataset (tab, csv, xls, txt, inbuilt dataset). Print thenumber of rows, cols and types of variables (continuous, categorical etc.)? (1 MARK)\n",
    "\n",
    "b.\tCalculate five-point summary for numerical variables (1 MARK)\n",
    "\n",
    "c.\tSummarize observations for categorical variables – no. of categories, % observations in each category. (1 mark)\n",
    "\n",
    "d.\tCheck for defects in the data such as missing values, outliers, etc and also check for class imbalance. (2 marks)\n",
    "\n"
   ]
  },
  {
   "cell_type": "code",
   "execution_count": null,
   "metadata": {},
   "outputs": [],
   "source": []
  },
  {
   "cell_type": "markdown",
   "metadata": {},
   "source": [
    "### 2.\tData Preparation (15 marks)\n",
    "\n",
    "a.\tFix the defects found above and do appropriate treatment if required. (3 marks)\n",
    "\n",
    "b.\tVisualize the data using relevant plots. Find out the variables which are highly correlated with Target? (5 marks)\n",
    "\n",
    "c.\tDo you want to exclude some variables from the model based on this analysis? What other actions will you take? (4 marks)\n",
    "\n",
    "d.\tSplit dataset into train and test (70:30). Are both train and test representative of the overall data? How would you ascertain this statistically? (3 marks)\n"
   ]
  },
  {
   "cell_type": "code",
   "execution_count": null,
   "metadata": {},
   "outputs": [],
   "source": []
  },
  {
   "cell_type": "markdown",
   "metadata": {},
   "source": [
    "### 3.\tModel Building (20 marks)\n",
    "\n",
    "a.\tFit a base model and explain the reason for selecting that model. Please write your key observations. (7 marks)\n",
    "\n",
    "b.\tWhat is the overall Accuracy? Please comment on whether it is good or not.  (3 mark)\n",
    "\n",
    "c.\tEvaluate the model built using Precision, Recall and F1 Score and what will be the optimization objective keeping in mind the problem statement. (5 marks) \n",
    "\n",
    "d.\tHow do you improve the performance of the model? Write clearly the changes that you will make before re-fitting the model. Fit the final model.  (3 marks)\n",
    "\n",
    "e.\tWrite down a business interpretation/explanation of the model – which variables are affecting the target the most and explain the relationship. Feel free to use charts or graphs to explain. (2 marks)\n"
   ]
  },
  {
   "cell_type": "code",
   "execution_count": null,
   "metadata": {},
   "outputs": [],
   "source": []
  }
 ],
 "metadata": {
  "kernelspec": {
   "display_name": "Python 3",
   "language": "python",
   "name": "python3"
  },
  "language_info": {
   "codemirror_mode": {
    "name": "ipython",
    "version": 3
   },
   "file_extension": ".py",
   "mimetype": "text/x-python",
   "name": "python",
   "nbconvert_exporter": "python",
   "pygments_lexer": "ipython3",
   "version": "3.8.8"
  }
 },
 "nbformat": 4,
 "nbformat_minor": 1
}
