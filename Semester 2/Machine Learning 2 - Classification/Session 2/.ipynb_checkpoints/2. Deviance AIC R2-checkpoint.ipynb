{
 "cells": [
  {
   "cell_type": "code",
   "execution_count": 1,
   "id": "6a7e3e06-825b-48fb-a121-78c51808c7c2",
   "metadata": {},
   "outputs": [],
   "source": [
    "import numpy as np\n",
    "import pandas as pd\n",
    "import statsmodels.api as sm"
   ]
  },
  {
   "cell_type": "code",
   "execution_count": 4,
   "id": "b69b977c-7fbc-4ca8-a52d-ae0429f0b71f",
   "metadata": {},
   "outputs": [],
   "source": [
    "data = {\n",
    "    'hours_studied': [1,2,3,4,5,6,7,8,9,10],\n",
    "    'passed': [0,0,0,0,1,1,1,1,1,1]\n",
    "}\n",
    "df = pd.DataFrame(data)"
   ]
  },
  {
   "cell_type": "code",
   "execution_count": 5,
   "id": "796f94ab-a5f8-4a0e-af52-b641ee558557",
   "metadata": {},
   "outputs": [],
   "source": [
    "#Step2: \n",
    "X = sm.add_constant(pd.DataFrame(df['hours_studied']).astype(float))\n",
    "y = df['passed'].astype(int)"
   ]
  },
  {
   "cell_type": "code",
   "execution_count": 7,
   "id": "ccdb78e4-544e-46f6-b5a1-fd53232f0324",
   "metadata": {},
   "outputs": [],
   "source": [
    "# Step 3: Fit a logistic Model\n",
    "model = sm.Logit(y,X)\n",
    "result = model.fit(method='lbfgs')"
   ]
  },
  {
   "cell_type": "code",
   "execution_count": 8,
   "id": "ccabd9dd-8d24-46b6-9028-6447aa01c45a",
   "metadata": {},
   "outputs": [
    {
     "name": "stdout",
     "output_type": "stream",
     "text": [
      "Deviance :  0.0009633586469492918\n"
     ]
    }
   ],
   "source": [
    "# Step 4: Get the Deviance\n",
    "deviance = -2 * result.llf\n",
    "print(\"Deviance : \", deviance)"
   ]
  },
  {
   "cell_type": "code",
   "execution_count": 9,
   "id": "f1a26327-8776-4e36-9346-e9949aa9e076",
   "metadata": {},
   "outputs": [
    {
     "name": "stdout",
     "output_type": "stream",
     "text": [
      "AIC :  4.000963358646949\n"
     ]
    }
   ],
   "source": [
    "# Step 5: Get the AIC (Akaike Information Criterion)\n",
    "aic = result.aic\n",
    "print(\"AIC : \",aic)"
   ]
  },
  {
   "cell_type": "code",
   "execution_count": 10,
   "id": "9e1d88e7-ebbe-46b3-8259-ae3d5c07c21d",
   "metadata": {},
   "outputs": [
    {
     "name": "stdout",
     "output_type": "stream",
     "text": [
      "Pseudo R2 :  0.9999284292758823\n"
     ]
    }
   ],
   "source": [
    "#Step 6: Get the Pseudo R2 (McFadden's R2)\n",
    "null_model = sm.Logit(y, np.ones(len(y))).fit(disp=0)\n",
    "pseudo_r2 = 1 - (result.llf / null_model.llf)\n",
    "print(\"Pseudo R2 : \",pseudo_r2)"
   ]
  },
  {
   "cell_type": "code",
   "execution_count": null,
   "id": "e2b9236e-4a0a-467e-aab8-69d3050e4e9c",
   "metadata": {},
   "outputs": [],
   "source": []
  }
 ],
 "metadata": {
  "kernelspec": {
   "display_name": "Python 3 (ipykernel)",
   "language": "python",
   "name": "python3"
  },
  "language_info": {
   "codemirror_mode": {
    "name": "ipython",
    "version": 3
   },
   "file_extension": ".py",
   "mimetype": "text/x-python",
   "name": "python",
   "nbconvert_exporter": "python",
   "pygments_lexer": "ipython3",
   "version": "3.11.7"
  }
 },
 "nbformat": 4,
 "nbformat_minor": 5
}
