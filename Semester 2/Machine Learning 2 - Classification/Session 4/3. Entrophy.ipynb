{
 "cells": [
  {
   "cell_type": "code",
   "execution_count": 1,
   "id": "5f7682a5-38f5-4d04-b5fe-3f827b015d9d",
   "metadata": {},
   "outputs": [
    {
     "name": "stdout",
     "output_type": "stream",
     "text": [
      "Entropy: 1.0\n",
      "Conditional Entropy: 0.917154777320283\n"
     ]
    }
   ],
   "source": [
    "import numpy as np\n",
    "\n",
    "# Function to calculate entropy\n",
    "def entropy(p):\n",
    "    return -np.sum(p * np.log2(p))\n",
    "\n",
    "# Example probability distribution\n",
    "p = np.array([0.5, 0.5])\n",
    "print(f\"Entropy: {entropy(p)}\")\n",
    "\n",
    "# Conditional entropy example\n",
    "def conditional_entropy(p_x, p_y_given_x):\n",
    "    return np.sum([p_x[i] * entropy(p_y_given_x[i]) for i in range(len(p_x))])\n",
    "\n",
    "# Example probabilities\n",
    "p_x = np.array([0.6, 0.4])\n",
    "p_y_given_x = np.array([[0.7, 0.3], [0.4, 0.6]])\n",
    "\n",
    "print(f\"Conditional Entropy: {conditional_entropy(p_x, p_y_given_x)}\")"
   ]
  },
  {
   "cell_type": "code",
   "execution_count": null,
   "id": "3c561565-6be0-44b6-9ab7-0bd3ae8582e0",
   "metadata": {},
   "outputs": [],
   "source": []
  }
 ],
 "metadata": {
  "kernelspec": {
   "display_name": "Python 3 (ipykernel)",
   "language": "python",
   "name": "python3"
  },
  "language_info": {
   "codemirror_mode": {
    "name": "ipython",
    "version": 3
   },
   "file_extension": ".py",
   "mimetype": "text/x-python",
   "name": "python",
   "nbconvert_exporter": "python",
   "pygments_lexer": "ipython3",
   "version": "3.11.7"
  }
 },
 "nbformat": 4,
 "nbformat_minor": 5
}
