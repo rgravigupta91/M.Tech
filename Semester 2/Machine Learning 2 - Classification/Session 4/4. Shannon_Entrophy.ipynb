{
 "cells": [
  {
   "cell_type": "code",
   "execution_count": 1,
   "id": "873a553e-f7af-47c1-8c85-4ee4f27d815c",
   "metadata": {},
   "outputs": [
    {
     "name": "stdout",
     "output_type": "stream",
     "text": [
      "Shannon Entropy for fair coin: 1.0 bits\n",
      "Shannon Entropy for biased coin: 0.8812908992306927 bits\n"
     ]
    }
   ],
   "source": [
    "# Import necessary libraries\n",
    "import numpy as np\n",
    "from scipy.stats import entropy\n",
    "\n",
    "# Function to calculate Shannon Entropy\n",
    "def shannon_entropy(prob_distribution):\n",
    "    return entropy(prob_distribution, base=2)  # Base 2 for Shannon Entropy (measured in bits)\n",
    "\n",
    "# Example 1: Probability distribution for a fair coin (equal probability)\n",
    "prob_distribution_fair_coin = [0.5, 0.5]\n",
    "\n",
    "# Calculate Shannon entropy for the fair coin\n",
    "entropy_fair_coin = shannon_entropy(prob_distribution_fair_coin)\n",
    "\n",
    "# Example 2: Probability distribution for a biased coin\n",
    "prob_distribution_biased_coin = [0.7, 0.3]\n",
    "\n",
    "# Calculate Shannon entropy for the biased coin\n",
    "entropy_biased_coin = shannon_entropy(prob_distribution_biased_coin)\n",
    "\n",
    "# Print the results\n",
    "print(f\"Shannon Entropy for fair coin: {entropy_fair_coin} bits\")\n",
    "print(f\"Shannon Entropy for biased coin: {entropy_biased_coin} bits\")"
   ]
  },
  {
   "cell_type": "code",
   "execution_count": null,
   "id": "8e1a7b71-92ad-43c7-902c-9b2777c282fd",
   "metadata": {},
   "outputs": [],
   "source": []
  }
 ],
 "metadata": {
  "kernelspec": {
   "display_name": "Python 3 (ipykernel)",
   "language": "python",
   "name": "python3"
  },
  "language_info": {
   "codemirror_mode": {
    "name": "ipython",
    "version": 3
   },
   "file_extension": ".py",
   "mimetype": "text/x-python",
   "name": "python",
   "nbconvert_exporter": "python",
   "pygments_lexer": "ipython3",
   "version": "3.11.7"
  }
 },
 "nbformat": 4,
 "nbformat_minor": 5
}
