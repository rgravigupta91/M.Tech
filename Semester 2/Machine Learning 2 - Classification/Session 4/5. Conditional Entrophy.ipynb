{
 "cells": [
  {
   "cell_type": "code",
   "execution_count": 1,
   "id": "4af2e391-1cd1-45db-b82d-8e2171d6846d",
   "metadata": {},
   "outputs": [
    {
     "name": "stdout",
     "output_type": "stream",
     "text": [
      "Conditional Entropy H(Obesity | Smoker): 0.3900134529890125 bits\n"
     ]
    }
   ],
   "source": [
    "# Import necessary libraries\n",
    "from collections import Counter\n",
    "from math import log2\n",
    "\n",
    "# Function to calculate the probability distribution of a variable\n",
    "def probability_distribution(values):\n",
    "    total_count = len(values)\n",
    "    value_counts = Counter(values)\n",
    "    prob_dist = {value: count / total_count for value, count in value_counts.items()}\n",
    "    return prob_dist\n",
    "\n",
    "# Function to calculate entropy\n",
    "def calculate_entropy(prob_dist):\n",
    "    return -sum(p * log2(p) for p in prob_dist.values() if p > 0)\n",
    "\n",
    "# Function to calculate joint probability distribution\n",
    "def joint_probability_distribution(X, Y):\n",
    "    joint_values = list(zip(X, Y))\n",
    "    return probability_distribution(joint_values)\n",
    "\n",
    "# Function to calculate conditional entropy H(Y|X)\n",
    "def conditional_entropy(X, Y):\n",
    "    joint_prob_dist = joint_probability_distribution(X, Y)\n",
    "    prob_dist_X = probability_distribution(X)\n",
    "    \n",
    "    cond_entropy = 0.0\n",
    "    for (x, y), joint_prob in joint_prob_dist.items():\n",
    "        cond_entropy += joint_prob * log2(prob_dist_X[x] / joint_prob)\n",
    "    \n",
    "    return cond_entropy\n",
    "\n",
    "# Example data\n",
    "# X: Smoker status (1 = Smoker, 0 = Non-Smoker)\n",
    "# Y: Obesity status (1 = Obese, 0 = Not Obese)\n",
    "X = [1, 1, 1, 0, 0, 1, 0, 0, 1, 1]  # Smoker status for 10 people\n",
    "Y = [1, 0, 1, 0, 0, 1, 0, 0, 1, 1]  # Obesity status for the same 10 people\n",
    "\n",
    "# Calculate conditional entropy H(Obesity | Smoker)\n",
    "cond_entropy = conditional_entropy(X, Y)\n",
    "\n",
    "# Print the result\n",
    "print(f\"Conditional Entropy H(Obesity | Smoker): {cond_entropy} bits\")"
   ]
  },
  {
   "cell_type": "code",
   "execution_count": null,
   "id": "ec802b1c-fe00-46df-9ade-c62855935d1c",
   "metadata": {},
   "outputs": [],
   "source": []
  }
 ],
 "metadata": {
  "kernelspec": {
   "display_name": "Python 3 (ipykernel)",
   "language": "python",
   "name": "python3"
  },
  "language_info": {
   "codemirror_mode": {
    "name": "ipython",
    "version": 3
   },
   "file_extension": ".py",
   "mimetype": "text/x-python",
   "name": "python",
   "nbconvert_exporter": "python",
   "pygments_lexer": "ipython3",
   "version": "3.11.7"
  }
 },
 "nbformat": 4,
 "nbformat_minor": 5
}
