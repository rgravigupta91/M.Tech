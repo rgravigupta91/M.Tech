{
 "cells": [
  {
   "cell_type": "code",
   "execution_count": 1,
   "id": "b13fb92d-516f-4080-9506-3faf28f7683f",
   "metadata": {},
   "outputs": [
    {
     "name": "stdout",
     "output_type": "stream",
     "text": [
      "Information Gain from splitting on 'Weather': 0.9710 bits\n"
     ]
    }
   ],
   "source": [
    "# Import necessary libraries\n",
    "import numpy as np\n",
    "from collections import Counter\n",
    "from math import log2\n",
    "\n",
    "# Function to calculate entropy\n",
    "def calculate_entropy(values):\n",
    "    total_count = len(values)\n",
    "    value_counts = Counter(values)\n",
    "    prob_dist = [count / total_count for count in value_counts.values()]\n",
    "    return -sum(p * log2(p) for p in prob_dist if p > 0)\n",
    "\n",
    "# Function to calculate information gain\n",
    "def information_gain(parent, left_child, right_child):\n",
    "    # Calculate the entropy of the parent node\n",
    "    parent_entropy = calculate_entropy(parent)\n",
    "    \n",
    "    # Calculate the weighted entropy of the children\n",
    "    n = len(parent)\n",
    "    n_left = len(left_child)\n",
    "    n_right = len(right_child)\n",
    "    weighted_entropy = (n_left / n) * calculate_entropy(left_child) + (n_right / n) * calculate_entropy(right_child)\n",
    "    \n",
    "    # Information gain is the difference between the parent entropy and the weighted child entropy\n",
    "    return parent_entropy - weighted_entropy\n",
    "\n",
    "# Example dataset\n",
    "# Feature: Weather (0 = Rainy, 1 = Sunny)\n",
    "# Target: Play Outside? (0 = No, 1 = Yes)\n",
    "data = [\n",
    "    {'Weather': 1, 'Play Outside?': 1},\n",
    "    {'Weather': 1, 'Play Outside?': 1},\n",
    "    {'Weather': 0, 'Play Outside?': 0},\n",
    "    {'Weather': 0, 'Play Outside?': 0},\n",
    "    {'Weather': 1, 'Play Outside?': 1},\n",
    "]\n",
    "\n",
    "# Separate the data based on the feature (Weather)\n",
    "parent = [row['Play Outside?'] for row in data]\n",
    "left_child = [row['Play Outside?'] for row in data if row['Weather'] == 0]  # Rainy\n",
    "right_child = [row['Play Outside?'] for row in data if row['Weather'] == 1]  # Sunny\n",
    "\n",
    "# Calculate information gain from splitting on the \"Weather\" feature\n",
    "info_gain = information_gain(parent, left_child, right_child)\n",
    "\n",
    "# Print the result\n",
    "print(f\"Information Gain from splitting on 'Weather': {info_gain:.4f} bits\")"
   ]
  },
  {
   "cell_type": "code",
   "execution_count": null,
   "id": "1941273e-e82d-48ce-b09d-4376fcc20274",
   "metadata": {},
   "outputs": [],
   "source": []
  }
 ],
 "metadata": {
  "kernelspec": {
   "display_name": "Python 3 (ipykernel)",
   "language": "python",
   "name": "python3"
  },
  "language_info": {
   "codemirror_mode": {
    "name": "ipython",
    "version": 3
   },
   "file_extension": ".py",
   "mimetype": "text/x-python",
   "name": "python",
   "nbconvert_exporter": "python",
   "pygments_lexer": "ipython3",
   "version": "3.11.7"
  }
 },
 "nbformat": 4,
 "nbformat_minor": 5
}
