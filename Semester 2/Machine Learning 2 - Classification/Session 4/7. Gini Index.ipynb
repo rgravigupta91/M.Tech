{
 "cells": [
  {
   "cell_type": "code",
   "execution_count": 1,
   "id": "e2b5270c-9a19-493d-9319-6a89f0a938be",
   "metadata": {},
   "outputs": [
    {
     "name": "stdout",
     "output_type": "stream",
     "text": [
      "Gini Index of the parent: 0.4938\n",
      "Gini Index of the left child (Female): 0.5000\n",
      "Gini Index of the right child (Male): 0.4800\n",
      "Weighted Gini Index after the split: 0.4889\n"
     ]
    }
   ],
   "source": [
    "# Import necessary libraries\n",
    "from collections import Counter\n",
    "\n",
    "# Function to calculate Gini Index\n",
    "def gini_index(values):\n",
    "    total_count = len(values)\n",
    "    value_counts = Counter(values)\n",
    "    prob_dist = [count / total_count for count in value_counts.values()]\n",
    "    return 1 - sum(p ** 2 for p in prob_dist)\n",
    "\n",
    "# Example dataset\n",
    "# Feature: Gender (0 = Female, 1 = Male)\n",
    "# Target: Purchased (0 = No, 1 = Yes)\n",
    "data = [\n",
    "    {'Gender': 1, 'Purchased': 1},\n",
    "    {'Gender': 1, 'Purchased': 1},\n",
    "    {'Gender': 1, 'Purchased': 0},\n",
    "    {'Gender': 0, 'Purchased': 0},\n",
    "    {'Gender': 0, 'Purchased': 1},\n",
    "    {'Gender': 0, 'Purchased': 0},\n",
    "    {'Gender': 1, 'Purchased': 0},\n",
    "    {'Gender': 0, 'Purchased': 1},\n",
    "    {'Gender': 1, 'Purchased': 1},\n",
    "]\n",
    "\n",
    "# Separate the data based on the feature (Gender)\n",
    "parent = [row['Purchased'] for row in data]\n",
    "left_child = [row['Purchased'] for row in data if row['Gender'] == 0]  # Female\n",
    "right_child = [row['Purchased'] for row in data if row['Gender'] == 1]  # Male\n",
    "\n",
    "# Calculate Gini Index for the parent and children\n",
    "parent_gini = gini_index(parent)\n",
    "left_child_gini = gini_index(left_child)\n",
    "right_child_gini = gini_index(right_child)\n",
    "\n",
    "# Weighted Gini Index for the split\n",
    "n = len(parent)\n",
    "n_left = len(left_child)\n",
    "n_right = len(right_child)\n",
    "weighted_gini = (n_left / n) * left_child_gini + (n_right / n) * right_child_gini\n",
    "\n",
    "# Print the results\n",
    "print(f\"Gini Index of the parent: {parent_gini:.4f}\")\n",
    "print(f\"Gini Index of the left child (Female): {left_child_gini:.4f}\")\n",
    "print(f\"Gini Index of the right child (Male): {right_child_gini:.4f}\")\n",
    "print(f\"Weighted Gini Index after the split: {weighted_gini:.4f}\")"
   ]
  },
  {
   "cell_type": "code",
   "execution_count": null,
   "id": "4d666124-dcd5-4bb7-b5f0-4cd0ca456d7d",
   "metadata": {},
   "outputs": [],
   "source": []
  }
 ],
 "metadata": {
  "kernelspec": {
   "display_name": "Python 3 (ipykernel)",
   "language": "python",
   "name": "python3"
  },
  "language_info": {
   "codemirror_mode": {
    "name": "ipython",
    "version": 3
   },
   "file_extension": ".py",
   "mimetype": "text/x-python",
   "name": "python",
   "nbconvert_exporter": "python",
   "pygments_lexer": "ipython3",
   "version": "3.11.7"
  }
 },
 "nbformat": 4,
 "nbformat_minor": 5
}
