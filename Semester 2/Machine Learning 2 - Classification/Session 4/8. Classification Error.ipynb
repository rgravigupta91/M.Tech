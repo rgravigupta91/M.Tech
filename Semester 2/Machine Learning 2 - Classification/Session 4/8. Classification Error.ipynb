{
 "cells": [
  {
   "cell_type": "code",
   "execution_count": 1,
   "id": "fdf205a5-746c-4703-a37c-2cad270b15aa",
   "metadata": {},
   "outputs": [
    {
     "name": "stdout",
     "output_type": "stream",
     "text": [
      "Number of incorrect predictions: 3\n",
      "Total number of instances: 10\n",
      "Classification Error: 0.3000\n"
     ]
    }
   ],
   "source": [
    "# Import necessary libraries\n",
    "import numpy as np\n",
    "\n",
    "# Actual and predicted labels\n",
    "actual_labels = np.array([1, 0, 1, 1, 0, 1, 0, 0, 1, 0])\n",
    "predicted_labels = np.array([1, 0, 0, 1, 0, 1, 1, 0, 0, 0])\n",
    "\n",
    "# Calculate the number of incorrect predictions\n",
    "incorrect_predictions = np.sum(actual_labels != predicted_labels)\n",
    "\n",
    "# Calculate the total number of instances\n",
    "total_instances = len(actual_labels)\n",
    "\n",
    "# Calculate the classification error\n",
    "classification_error = incorrect_predictions / total_instances\n",
    "\n",
    "# Print the results\n",
    "print(f\"Number of incorrect predictions: {incorrect_predictions}\")\n",
    "print(f\"Total number of instances: {total_instances}\")\n",
    "print(f\"Classification Error: {classification_error:.4f}\")"
   ]
  },
  {
   "cell_type": "code",
   "execution_count": null,
   "id": "ace5a2df-e8ed-4d60-a790-01cbbd3efeeb",
   "metadata": {},
   "outputs": [],
   "source": []
  }
 ],
 "metadata": {
  "kernelspec": {
   "display_name": "Python 3 (ipykernel)",
   "language": "python",
   "name": "python3"
  },
  "language_info": {
   "codemirror_mode": {
    "name": "ipython",
    "version": 3
   },
   "file_extension": ".py",
   "mimetype": "text/x-python",
   "name": "python",
   "nbconvert_exporter": "python",
   "pygments_lexer": "ipython3",
   "version": "3.11.7"
  }
 },
 "nbformat": 4,
 "nbformat_minor": 5
}
