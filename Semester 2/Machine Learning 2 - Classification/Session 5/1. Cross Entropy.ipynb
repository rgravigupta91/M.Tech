{
 "cells": [
  {
   "cell_type": "code",
   "execution_count": 1,
   "id": "148849d5-cbdb-4dfb-8947-2b207bd72cae",
   "metadata": {},
   "outputs": [],
   "source": [
    "# Import necessary libraries\n",
    "import numpy as np"
   ]
  },
  {
   "cell_type": "code",
   "execution_count": 2,
   "id": "d8787cbf-eced-4ccd-a341-786b42af3d05",
   "metadata": {},
   "outputs": [
    {
     "name": "stdout",
     "output_type": "stream",
     "text": [
      "Binary Cross-Entropy Loss: 0.2228\n"
     ]
    }
   ],
   "source": [
    "# Function to compute binary cross-entropy\n",
    "def binary_cross_entropy(y_true, y_pred):\n",
    "    \"\"\"\n",
    "    Compute the binary cross-entropy loss between true labels and predicted probabilities.\n",
    "\n",
    "    Parameters:\n",
    "    y_true (array): Actual class labels (0 or 1).\n",
    "    y_pred (array): Predicted probabilities (between 0 and 1).\n",
    "\n",
    "    Returns:\n",
    "    float: Cross-entropy loss.\n",
    "    \"\"\"\n",
    "    # Ensure y_pred is in the range (0, 1) to avoid log(0)\n",
    "    y_pred = np.clip(y_pred, 1e-10, 1 - 1e-10)\n",
    "    \n",
    "    # Cross-entropy calculation\n",
    "    loss = - np.mean(y_true * np.log(y_pred) + (1 - y_true) * np.log(1 - y_pred))\n",
    "    return loss\n",
    "\n",
    "# Example data\n",
    "y_true = np.array([1, 0, 1, 0, 1])  # Actual labels (binary: 0 or 1)\n",
    "y_pred = np.array([0.9, 0.2, 0.8, 0.4, 0.95])  # Predicted probabilities\n",
    "\n",
    "# Calculate binary cross-entropy\n",
    "loss = binary_cross_entropy(y_true, y_pred)\n",
    "\n",
    "# Print the result\n",
    "print(f\"Binary Cross-Entropy Loss: {loss:.4f}\")\n"
   ]
  },
  {
   "cell_type": "code",
   "execution_count": null,
   "id": "12564c09-2190-4d60-ad6c-3bd9f44ba7c8",
   "metadata": {},
   "outputs": [],
   "source": []
  }
 ],
 "metadata": {
  "kernelspec": {
   "display_name": "Python 3 (ipykernel)",
   "language": "python",
   "name": "python3"
  },
  "language_info": {
   "codemirror_mode": {
    "name": "ipython",
    "version": 3
   },
   "file_extension": ".py",
   "mimetype": "text/x-python",
   "name": "python",
   "nbconvert_exporter": "python",
   "pygments_lexer": "ipython3",
   "version": "3.11.7"
  }
 },
 "nbformat": 4,
 "nbformat_minor": 5
}
