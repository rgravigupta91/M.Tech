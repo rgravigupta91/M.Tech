{
 "cells": [
  {
   "cell_type": "markdown",
   "metadata": {
    "id": "9sFPPSRZ2Uun"
   },
   "source": [
    "### March 2024: END SEMESTER ASSESSMENT (ESA)\n",
    "## M TECH DATA SCIENCE AND MACHINE LEARNING_ SEMESTER II\n",
    "\n",
    "### UE20CS932 - MACHINE LEARNING - III\n"
   ]
  },
  {
   "cell_type": "code",
   "execution_count": 1,
   "metadata": {
    "id": "aUD7Zgj6vpkH"
   },
   "outputs": [],
   "source": [
    "import pandas as pd\n",
    "import numpy as np\n",
    "import matplotlib.pyplot as plt\n",
    "import seaborn as sns\n",
    "from sklearn.preprocessing import StandardScaler\n",
    "from sklearn.decomposition import PCA\n",
    "from sklearn.cluster import KMeans,AgglomerativeClustering,DBSCAN\n",
    "from sklearn.metrics import silhouette_score\n",
    "from scipy.cluster.hierarchy import linkage , dendrogram, fcluster,cophenet\n",
    "#from sklearn.model_selection import train_test_split\n",
    "from sklearn.ensemble import RandomForestClassifier\n",
    "from sklearn.metrics import classification_report\n",
    "from sklearn.decomposition import TruncatedSVD\n",
    "from sklearn.discriminant_analysis import LinearDiscriminantAnalysis\n",
    "from surprise import KNNWithMeans,SVDpp\n",
    "from surprise import Dataset\n",
    "from surprise import accuracy\n",
    "from surprise import Reader\n",
    "from surprise.model_selection import train_test_split,cross_validate\n",
    "from mlxtend.frequent_patterns import apriori\n",
    "from mlxtend.frequent_patterns import association_rules\n",
    "from surprise import KNNBasic\n",
    "import warnings\n",
    "warnings.filterwarnings(\"ignore\")"
   ]
  },
  {
   "cell_type": "markdown",
   "metadata": {
    "id": "1r9etSfQvpkP"
   },
   "source": [
    "Note:\n",
    "\n",
    "Use Credit-Card-Dataset-for-Clustering.csv for all the clustering and dimensionality reduction questions.\n",
    "\n",
    "Use Book_ratings.csv for popularity-driven recommendation system questions and collaborative recommendation engine.\n",
    "\n",
    "Use Online Retail.csv for association rule mining using, apriori algorithm questions.  "
   ]
  },
  {
   "cell_type": "raw",
   "metadata": {
    "id": "sqUvigG72Wzk"
   },
   "source": [
    "### problem statement:\n",
    "\n",
    "This case requires to develop a customer segmentation to define marketing strategy. The sample Dataset summarizes the usage behavior of about 8950 active credit card holders during the last 6 months. The file is at a customer level with 18 behavioral variables.\n",
    "\n",
    "### Data Description\n",
    "-CUSTID : Identification of Credit Card holder (Categorical)\n",
    "-BALANCE : Balance amount left in their account to make purchases\n",
    "-BALANCEFREQUENCY : How frequently the Balance is updated, score between 0 and 1 (1 = frequently updated, 0 = not frequently updated)\n",
    "-PURCHASES : Amount of purchases made from account\n",
    "-ONEOFFPURCHASES : Maximum purchase amount done in one-go\n",
    "-INSTALLMENTSPURCHASES : Amount of purchase done in installment\n",
    "-CASHADVANCE : Cash in advance given by the user\n",
    "-PURCHASESFREQUENCY : How frequently the Purchases are being made, score between 0 and 1 (1 = frequently purchased, 0 = not frequently purchased)\n",
    "-ONEOFFPURCHASESFREQUENCY : How frequently Purchases are happening in one-go (1 = frequently purchased, 0 = not frequently purchased)\n",
    "-PURCHASESINSTALLMENTSFREQUENCY : How frequently purchases in installments are being done (1 = frequently done, 0 = not frequently done)\n",
    "-CASHADVANCEFREQUENCY : How frequently the cash in advance being paid\n",
    "-CASHADVANCETRX : Number of Transactions made with \"Cash in Advanced\"\n",
    "-PURCHASESTRX : Numbe of purchase transactions made\n",
    "-CREDITLIMIT : Limit of Credit Card for user\n",
    "-PAYMENTS : Amount of Payment done by user\n",
    "-MINIMUM_PAYMENTS : Minimum amount of payments made by user\n",
    "-PRCFULLPAYMENT : Percent of full payment paid by user\n",
    "-TENURE : Tenure of credit card service for user\n",
    "\n"
   ]
  },
  {
   "cell_type": "markdown",
   "metadata": {
    "id": "Pt7_ezKg2Wzk"
   },
   "source": [
    "## Section B(40 marks)"
   ]
  },
  {
   "cell_type": "markdown",
   "metadata": {
    "id": "RDPXJL9h74UH"
   },
   "source": [
    "#### 2. (a). Perform EDAand  pre-processing techniques (remove unnecessary variables, check the defects in the data) required for PCA and clustering. (10 marks) <br>   <br> Print the top 5 Eigenvalues and Eigenvectors. (4 marks)\n"
   ]
  },
  {
   "cell_type": "code",
   "execution_count": 2,
   "metadata": {},
   "outputs": [],
   "source": [
    "credit_card_df = pd.read_csv('Credit-Card-Dataset-for-Clustering.csv')"
   ]
  },
  {
   "cell_type": "code",
   "execution_count": 3,
   "metadata": {
    "id": "XaOiNp99j3B9"
   },
   "outputs": [
    {
     "data": {
      "text/html": [
       "<div>\n",
       "<style scoped>\n",
       "    .dataframe tbody tr th:only-of-type {\n",
       "        vertical-align: middle;\n",
       "    }\n",
       "\n",
       "    .dataframe tbody tr th {\n",
       "        vertical-align: top;\n",
       "    }\n",
       "\n",
       "    .dataframe thead th {\n",
       "        text-align: right;\n",
       "    }\n",
       "</style>\n",
       "<table border=\"1\" class=\"dataframe\">\n",
       "  <thead>\n",
       "    <tr style=\"text-align: right;\">\n",
       "      <th></th>\n",
       "      <th>CUST_ID</th>\n",
       "      <th>BALANCE</th>\n",
       "      <th>BALANCE_FREQUENCY</th>\n",
       "      <th>PURCHASES</th>\n",
       "      <th>ONEOFF_PURCHASES</th>\n",
       "      <th>INSTALLMENTS_PURCHASES</th>\n",
       "      <th>CASH_ADVANCE</th>\n",
       "      <th>PURCHASES_FREQUENCY</th>\n",
       "      <th>ONEOFF_PURCHASES_FREQUENCY</th>\n",
       "      <th>PURCHASES_INSTALLMENTS_FREQUENCY</th>\n",
       "      <th>CASH_ADVANCE_FREQUENCY</th>\n",
       "      <th>CASH_ADVANCE_TRX</th>\n",
       "      <th>PURCHASES_TRX</th>\n",
       "      <th>CREDIT_LIMIT</th>\n",
       "      <th>PAYMENTS</th>\n",
       "      <th>MINIMUM_PAYMENTS</th>\n",
       "      <th>PRC_FULL_PAYMENT</th>\n",
       "      <th>TENURE</th>\n",
       "    </tr>\n",
       "  </thead>\n",
       "  <tbody>\n",
       "    <tr>\n",
       "      <th>0</th>\n",
       "      <td>C10001</td>\n",
       "      <td>40.900749</td>\n",
       "      <td>0.818182</td>\n",
       "      <td>95.40</td>\n",
       "      <td>0.00</td>\n",
       "      <td>95.4</td>\n",
       "      <td>0.000000</td>\n",
       "      <td>0.166667</td>\n",
       "      <td>0.000000</td>\n",
       "      <td>0.083333</td>\n",
       "      <td>0.000000</td>\n",
       "      <td>0</td>\n",
       "      <td>2</td>\n",
       "      <td>1000.0</td>\n",
       "      <td>201.802084</td>\n",
       "      <td>139.50978700000002</td>\n",
       "      <td>0.000000</td>\n",
       "      <td>12</td>\n",
       "    </tr>\n",
       "    <tr>\n",
       "      <th>1</th>\n",
       "      <td>C10002</td>\n",
       "      <td>3202.467416</td>\n",
       "      <td>0.909091</td>\n",
       "      <td>0.00</td>\n",
       "      <td>0.00</td>\n",
       "      <td>0.0</td>\n",
       "      <td>6442.945483</td>\n",
       "      <td>0.000000</td>\n",
       "      <td>0.000000</td>\n",
       "      <td>0.000000</td>\n",
       "      <td>0.250000</td>\n",
       "      <td>4</td>\n",
       "      <td>0</td>\n",
       "      <td>7000.0</td>\n",
       "      <td>4103.032597</td>\n",
       "      <td>1072.340217</td>\n",
       "      <td>0.222222</td>\n",
       "      <td>12</td>\n",
       "    </tr>\n",
       "    <tr>\n",
       "      <th>2</th>\n",
       "      <td>C10003</td>\n",
       "      <td>2495.148862</td>\n",
       "      <td>1.000000</td>\n",
       "      <td>773.17</td>\n",
       "      <td>773.17</td>\n",
       "      <td>0.0</td>\n",
       "      <td>0.000000</td>\n",
       "      <td>1.000000</td>\n",
       "      <td>1.000000</td>\n",
       "      <td>0.000000</td>\n",
       "      <td>0.000000</td>\n",
       "      <td>0</td>\n",
       "      <td>12</td>\n",
       "      <td>7500.0</td>\n",
       "      <td>622.066742</td>\n",
       "      <td>627.284787</td>\n",
       "      <td>0.000000</td>\n",
       "      <td>12</td>\n",
       "    </tr>\n",
       "    <tr>\n",
       "      <th>3</th>\n",
       "      <td>C10004</td>\n",
       "      <td>1666.670542</td>\n",
       "      <td>0.636364</td>\n",
       "      <td>1499.00</td>\n",
       "      <td>1499.00</td>\n",
       "      <td>0.0</td>\n",
       "      <td>205.788017</td>\n",
       "      <td>0.083333</td>\n",
       "      <td>0.083333</td>\n",
       "      <td>0.000000</td>\n",
       "      <td>0.083333</td>\n",
       "      <td>1</td>\n",
       "      <td>1</td>\n",
       "      <td>7500.0</td>\n",
       "      <td>0.000000</td>\n",
       "      <td>?</td>\n",
       "      <td>0.000000</td>\n",
       "      <td>12</td>\n",
       "    </tr>\n",
       "    <tr>\n",
       "      <th>4</th>\n",
       "      <td>C10005</td>\n",
       "      <td>817.714335</td>\n",
       "      <td>1.000000</td>\n",
       "      <td>16.00</td>\n",
       "      <td>16.00</td>\n",
       "      <td>0.0</td>\n",
       "      <td>0.000000</td>\n",
       "      <td>0.083333</td>\n",
       "      <td>0.083333</td>\n",
       "      <td>0.000000</td>\n",
       "      <td>0.000000</td>\n",
       "      <td>0</td>\n",
       "      <td>1</td>\n",
       "      <td>1200.0</td>\n",
       "      <td>678.334763</td>\n",
       "      <td>244.79123700000002</td>\n",
       "      <td>0.000000</td>\n",
       "      <td>12</td>\n",
       "    </tr>\n",
       "  </tbody>\n",
       "</table>\n",
       "</div>"
      ],
      "text/plain": [
       "  CUST_ID      BALANCE  BALANCE_FREQUENCY  PURCHASES  ONEOFF_PURCHASES  \\\n",
       "0  C10001    40.900749           0.818182      95.40              0.00   \n",
       "1  C10002  3202.467416           0.909091       0.00              0.00   \n",
       "2  C10003  2495.148862           1.000000     773.17            773.17   \n",
       "3  C10004  1666.670542           0.636364    1499.00           1499.00   \n",
       "4  C10005   817.714335           1.000000      16.00             16.00   \n",
       "\n",
       "   INSTALLMENTS_PURCHASES  CASH_ADVANCE  PURCHASES_FREQUENCY  \\\n",
       "0                    95.4      0.000000             0.166667   \n",
       "1                     0.0   6442.945483             0.000000   \n",
       "2                     0.0      0.000000             1.000000   \n",
       "3                     0.0    205.788017             0.083333   \n",
       "4                     0.0      0.000000             0.083333   \n",
       "\n",
       "   ONEOFF_PURCHASES_FREQUENCY  PURCHASES_INSTALLMENTS_FREQUENCY  \\\n",
       "0                    0.000000                          0.083333   \n",
       "1                    0.000000                          0.000000   \n",
       "2                    1.000000                          0.000000   \n",
       "3                    0.083333                          0.000000   \n",
       "4                    0.083333                          0.000000   \n",
       "\n",
       "   CASH_ADVANCE_FREQUENCY  CASH_ADVANCE_TRX  PURCHASES_TRX CREDIT_LIMIT  \\\n",
       "0                0.000000                 0              2       1000.0   \n",
       "1                0.250000                 4              0       7000.0   \n",
       "2                0.000000                 0             12       7500.0   \n",
       "3                0.083333                 1              1       7500.0   \n",
       "4                0.000000                 0              1       1200.0   \n",
       "\n",
       "      PAYMENTS    MINIMUM_PAYMENTS  PRC_FULL_PAYMENT  TENURE  \n",
       "0   201.802084  139.50978700000002          0.000000      12  \n",
       "1  4103.032597         1072.340217          0.222222      12  \n",
       "2   622.066742          627.284787          0.000000      12  \n",
       "3     0.000000                   ?          0.000000      12  \n",
       "4   678.334763  244.79123700000002          0.000000      12  "
      ]
     },
     "execution_count": 3,
     "metadata": {},
     "output_type": "execute_result"
    }
   ],
   "source": [
    "credit_card_df.head()"
   ]
  },
  {
   "cell_type": "code",
   "execution_count": 4,
   "metadata": {
    "id": "OcCKZ5xi2Wzl"
   },
   "outputs": [
    {
     "data": {
      "text/plain": [
       "(8950, 18)"
      ]
     },
     "execution_count": 4,
     "metadata": {},
     "output_type": "execute_result"
    }
   ],
   "source": [
    "credit_card_df.shape"
   ]
  },
  {
   "cell_type": "code",
   "execution_count": 5,
   "metadata": {},
   "outputs": [
    {
     "name": "stdout",
     "output_type": "stream",
     "text": [
      "<class 'pandas.core.frame.DataFrame'>\n",
      "RangeIndex: 8950 entries, 0 to 8949\n",
      "Data columns (total 18 columns):\n",
      " #   Column                            Non-Null Count  Dtype  \n",
      "---  ------                            --------------  -----  \n",
      " 0   CUST_ID                           8950 non-null   object \n",
      " 1   BALANCE                           8950 non-null   float64\n",
      " 2   BALANCE_FREQUENCY                 8950 non-null   float64\n",
      " 3   PURCHASES                         8950 non-null   float64\n",
      " 4   ONEOFF_PURCHASES                  8950 non-null   float64\n",
      " 5   INSTALLMENTS_PURCHASES            8950 non-null   float64\n",
      " 6   CASH_ADVANCE                      8950 non-null   float64\n",
      " 7   PURCHASES_FREQUENCY               8950 non-null   float64\n",
      " 8   ONEOFF_PURCHASES_FREQUENCY        8950 non-null   float64\n",
      " 9   PURCHASES_INSTALLMENTS_FREQUENCY  8950 non-null   float64\n",
      " 10  CASH_ADVANCE_FREQUENCY            8950 non-null   float64\n",
      " 11  CASH_ADVANCE_TRX                  8950 non-null   int64  \n",
      " 12  PURCHASES_TRX                     8950 non-null   int64  \n",
      " 13  CREDIT_LIMIT                      8950 non-null   object \n",
      " 14  PAYMENTS                          8950 non-null   float64\n",
      " 15  MINIMUM_PAYMENTS                  8950 non-null   object \n",
      " 16  PRC_FULL_PAYMENT                  8950 non-null   float64\n",
      " 17  TENURE                            8950 non-null   int64  \n",
      "dtypes: float64(12), int64(3), object(3)\n",
      "memory usage: 1.2+ MB\n"
     ]
    }
   ],
   "source": [
    "credit_card_df.info()"
   ]
  },
  {
   "cell_type": "code",
   "execution_count": 6,
   "metadata": {},
   "outputs": [
    {
     "data": {
      "text/plain": [
       "CREDIT_LIMIT\n",
       "3000.0                784\n",
       "1500.0                722\n",
       "1200.0                621\n",
       "1000.0                614\n",
       "2500.0                612\n",
       "                     ... \n",
       "9200.0                  1\n",
       "13550.0                 1\n",
       "7227.272727             1\n",
       "10450.0                 1\n",
       "1833.3333329999998      1\n",
       "Name: count, Length: 206, dtype: int64"
      ]
     },
     "execution_count": 6,
     "metadata": {},
     "output_type": "execute_result"
    }
   ],
   "source": [
    "credit_card_df['CREDIT_LIMIT'].value_counts()"
   ]
  },
  {
   "cell_type": "code",
   "execution_count": 7,
   "metadata": {},
   "outputs": [
    {
     "data": {
      "text/plain": [
       "MINIMUM_PAYMENTS\n",
       "?                    313\n",
       "299.351881             2\n",
       "150.317143             1\n",
       "271.528169             1\n",
       "6404.855484000001      1\n",
       "                    ... \n",
       "181.773223             1\n",
       "711.894455             1\n",
       "256.522546             1\n",
       "127.799107             1\n",
       "88.288956              1\n",
       "Name: count, Length: 8637, dtype: int64"
      ]
     },
     "execution_count": 7,
     "metadata": {},
     "output_type": "execute_result"
    }
   ],
   "source": [
    "credit_card_df['MINIMUM_PAYMENTS'].value_counts()"
   ]
  },
  {
   "cell_type": "code",
   "execution_count": 8,
   "metadata": {},
   "outputs": [],
   "source": [
    "credit_card_df['MINIMUM_PAYMENTS'].replace('?',np.nan,inplace=True)"
   ]
  },
  {
   "cell_type": "code",
   "execution_count": 9,
   "metadata": {},
   "outputs": [
    {
     "data": {
      "text/plain": [
       "CUST_ID                               0\n",
       "BALANCE                               0\n",
       "BALANCE_FREQUENCY                     0\n",
       "PURCHASES                             0\n",
       "ONEOFF_PURCHASES                      0\n",
       "INSTALLMENTS_PURCHASES                0\n",
       "CASH_ADVANCE                          0\n",
       "PURCHASES_FREQUENCY                   0\n",
       "ONEOFF_PURCHASES_FREQUENCY            0\n",
       "PURCHASES_INSTALLMENTS_FREQUENCY      0\n",
       "CASH_ADVANCE_FREQUENCY                0\n",
       "CASH_ADVANCE_TRX                      0\n",
       "PURCHASES_TRX                         0\n",
       "CREDIT_LIMIT                          0\n",
       "PAYMENTS                              0\n",
       "MINIMUM_PAYMENTS                    313\n",
       "PRC_FULL_PAYMENT                      0\n",
       "TENURE                                0\n",
       "dtype: int64"
      ]
     },
     "execution_count": 9,
     "metadata": {},
     "output_type": "execute_result"
    }
   ],
   "source": [
    "credit_card_df.isna().sum()"
   ]
  },
  {
   "cell_type": "code",
   "execution_count": 13,
   "metadata": {},
   "outputs": [],
   "source": [
    "credit_card_df['MINIMUM_PAYMENTS'] = credit_card_df['MINIMUM_PAYMENTS'].astype('float64')\n"
   ]
  },
  {
   "cell_type": "code",
   "execution_count": 14,
   "metadata": {},
   "outputs": [],
   "source": [
    "credit_card_df['CREDIT_LIMIT'].replace('?',np.nan,inplace=True)\n",
    "credit_card_df['CREDIT_LIMIT'] = credit_card_df['CREDIT_LIMIT'].astype('float64')"
   ]
  },
  {
   "cell_type": "code",
   "execution_count": 16,
   "metadata": {},
   "outputs": [],
   "source": [
    "credit_card_df['MINIMUM_PAYMENTS'].fillna(credit_card_df['MINIMUM_PAYMENTS'].mean(),inplace=True)\n",
    "credit_card_df['CREDIT_LIMIT'].fillna(credit_card_df['CREDIT_LIMIT'].mean(),inplace=True)"
   ]
  },
  {
   "cell_type": "code",
   "execution_count": 17,
   "metadata": {},
   "outputs": [
    {
     "data": {
      "text/plain": [
       "CUST_ID                             0\n",
       "BALANCE                             0\n",
       "BALANCE_FREQUENCY                   0\n",
       "PURCHASES                           0\n",
       "ONEOFF_PURCHASES                    0\n",
       "INSTALLMENTS_PURCHASES              0\n",
       "CASH_ADVANCE                        0\n",
       "PURCHASES_FREQUENCY                 0\n",
       "ONEOFF_PURCHASES_FREQUENCY          0\n",
       "PURCHASES_INSTALLMENTS_FREQUENCY    0\n",
       "CASH_ADVANCE_FREQUENCY              0\n",
       "CASH_ADVANCE_TRX                    0\n",
       "PURCHASES_TRX                       0\n",
       "CREDIT_LIMIT                        0\n",
       "PAYMENTS                            0\n",
       "MINIMUM_PAYMENTS                    0\n",
       "PRC_FULL_PAYMENT                    0\n",
       "TENURE                              0\n",
       "dtype: int64"
      ]
     },
     "execution_count": 17,
     "metadata": {},
     "output_type": "execute_result"
    }
   ],
   "source": [
    "credit_card_df.isna().sum()"
   ]
  },
  {
   "cell_type": "code",
   "execution_count": 18,
   "metadata": {},
   "outputs": [],
   "source": [
    "credit_card_df.drop('CUST_ID',axis=1,inplace=True)"
   ]
  },
  {
   "cell_type": "code",
   "execution_count": 19,
   "metadata": {},
   "outputs": [
    {
     "data": {
      "text/plain": [
       "(8950, 17)"
      ]
     },
     "execution_count": 19,
     "metadata": {},
     "output_type": "execute_result"
    }
   ],
   "source": [
    "credit_card_df.shape"
   ]
  },
  {
   "cell_type": "code",
   "execution_count": 20,
   "metadata": {},
   "outputs": [],
   "source": [
    "scaler = StandardScaler()\n",
    "scaled_data = scaler.fit_transform(credit_card_df)"
   ]
  },
  {
   "cell_type": "code",
   "execution_count": 21,
   "metadata": {},
   "outputs": [
    {
     "data": {
      "text/html": [
       "<style>#sk-container-id-1 {color: black;background-color: white;}#sk-container-id-1 pre{padding: 0;}#sk-container-id-1 div.sk-toggleable {background-color: white;}#sk-container-id-1 label.sk-toggleable__label {cursor: pointer;display: block;width: 100%;margin-bottom: 0;padding: 0.3em;box-sizing: border-box;text-align: center;}#sk-container-id-1 label.sk-toggleable__label-arrow:before {content: \"▸\";float: left;margin-right: 0.25em;color: #696969;}#sk-container-id-1 label.sk-toggleable__label-arrow:hover:before {color: black;}#sk-container-id-1 div.sk-estimator:hover label.sk-toggleable__label-arrow:before {color: black;}#sk-container-id-1 div.sk-toggleable__content {max-height: 0;max-width: 0;overflow: hidden;text-align: left;background-color: #f0f8ff;}#sk-container-id-1 div.sk-toggleable__content pre {margin: 0.2em;color: black;border-radius: 0.25em;background-color: #f0f8ff;}#sk-container-id-1 input.sk-toggleable__control:checked~div.sk-toggleable__content {max-height: 200px;max-width: 100%;overflow: auto;}#sk-container-id-1 input.sk-toggleable__control:checked~label.sk-toggleable__label-arrow:before {content: \"▾\";}#sk-container-id-1 div.sk-estimator input.sk-toggleable__control:checked~label.sk-toggleable__label {background-color: #d4ebff;}#sk-container-id-1 div.sk-label input.sk-toggleable__control:checked~label.sk-toggleable__label {background-color: #d4ebff;}#sk-container-id-1 input.sk-hidden--visually {border: 0;clip: rect(1px 1px 1px 1px);clip: rect(1px, 1px, 1px, 1px);height: 1px;margin: -1px;overflow: hidden;padding: 0;position: absolute;width: 1px;}#sk-container-id-1 div.sk-estimator {font-family: monospace;background-color: #f0f8ff;border: 1px dotted black;border-radius: 0.25em;box-sizing: border-box;margin-bottom: 0.5em;}#sk-container-id-1 div.sk-estimator:hover {background-color: #d4ebff;}#sk-container-id-1 div.sk-parallel-item::after {content: \"\";width: 100%;border-bottom: 1px solid gray;flex-grow: 1;}#sk-container-id-1 div.sk-label:hover label.sk-toggleable__label {background-color: #d4ebff;}#sk-container-id-1 div.sk-serial::before {content: \"\";position: absolute;border-left: 1px solid gray;box-sizing: border-box;top: 0;bottom: 0;left: 50%;z-index: 0;}#sk-container-id-1 div.sk-serial {display: flex;flex-direction: column;align-items: center;background-color: white;padding-right: 0.2em;padding-left: 0.2em;position: relative;}#sk-container-id-1 div.sk-item {position: relative;z-index: 1;}#sk-container-id-1 div.sk-parallel {display: flex;align-items: stretch;justify-content: center;background-color: white;position: relative;}#sk-container-id-1 div.sk-item::before, #sk-container-id-1 div.sk-parallel-item::before {content: \"\";position: absolute;border-left: 1px solid gray;box-sizing: border-box;top: 0;bottom: 0;left: 50%;z-index: -1;}#sk-container-id-1 div.sk-parallel-item {display: flex;flex-direction: column;z-index: 1;position: relative;background-color: white;}#sk-container-id-1 div.sk-parallel-item:first-child::after {align-self: flex-end;width: 50%;}#sk-container-id-1 div.sk-parallel-item:last-child::after {align-self: flex-start;width: 50%;}#sk-container-id-1 div.sk-parallel-item:only-child::after {width: 0;}#sk-container-id-1 div.sk-dashed-wrapped {border: 1px dashed gray;margin: 0 0.4em 0.5em 0.4em;box-sizing: border-box;padding-bottom: 0.4em;background-color: white;}#sk-container-id-1 div.sk-label label {font-family: monospace;font-weight: bold;display: inline-block;line-height: 1.2em;}#sk-container-id-1 div.sk-label-container {text-align: center;}#sk-container-id-1 div.sk-container {/* jupyter's `normalize.less` sets `[hidden] { display: none; }` but bootstrap.min.css set `[hidden] { display: none !important; }` so we also need the `!important` here to be able to override the default hidden behavior on the sphinx rendered scikit-learn.org. See: https://github.com/scikit-learn/scikit-learn/issues/21755 */display: inline-block !important;position: relative;}#sk-container-id-1 div.sk-text-repr-fallback {display: none;}</style><div id=\"sk-container-id-1\" class=\"sk-top-container\"><div class=\"sk-text-repr-fallback\"><pre>PCA()</pre><b>In a Jupyter environment, please rerun this cell to show the HTML representation or trust the notebook. <br />On GitHub, the HTML representation is unable to render, please try loading this page with nbviewer.org.</b></div><div class=\"sk-container\" hidden><div class=\"sk-item\"><div class=\"sk-estimator sk-toggleable\"><input class=\"sk-toggleable__control sk-hidden--visually\" id=\"sk-estimator-id-1\" type=\"checkbox\" checked><label for=\"sk-estimator-id-1\" class=\"sk-toggleable__label sk-toggleable__label-arrow\">PCA</label><div class=\"sk-toggleable__content\"><pre>PCA()</pre></div></div></div></div></div>"
      ],
      "text/plain": [
       "PCA()"
      ]
     },
     "execution_count": 21,
     "metadata": {},
     "output_type": "execute_result"
    }
   ],
   "source": [
    "pca = PCA()\n",
    "pca.fit(scaled_data)"
   ]
  },
  {
   "cell_type": "code",
   "execution_count": 22,
   "metadata": {},
   "outputs": [],
   "source": [
    "eigenvalues = pca.explained_variance_[:5]\n",
    "eigenvectors = pca.components_[:5]"
   ]
  },
  {
   "cell_type": "code",
   "execution_count": 23,
   "metadata": {},
   "outputs": [
    {
     "name": "stdout",
     "output_type": "stream",
     "text": [
      "Eigen Values : \n",
      " [4.63982474 3.45172419 1.49480352 1.27173785 1.06479362]\n",
      "Eigen Vectors : \n",
      " [[ 0.1010775   0.12004342  0.41164155  0.34640703  0.33681432 -0.02334324\n",
      "   0.32149284  0.2946332   0.27470974 -0.08913903 -0.04865394  0.39069524\n",
      "   0.21166292  0.26624897  0.06035128  0.13211231  0.0810205 ]\n",
      " [ 0.40395722  0.13053705  0.04103786  0.06287187 -0.0185328   0.43924153\n",
      "  -0.19078025 -0.01792382 -0.17860091  0.43408232  0.41973386 -0.01939408\n",
      "   0.23867794  0.25747607  0.16696952 -0.19002551 -0.00432648]\n",
      " [-0.16007504 -0.42062987  0.25790273  0.39211489 -0.11048839 -0.0273454\n",
      "  -0.37469147  0.11513072 -0.47340919 -0.10907217 -0.1155405  -0.07733064\n",
      "   0.10048344  0.27623652 -0.22163462  0.12477356 -0.06432602]\n",
      " [ 0.28345358  0.14974216  0.03911137  0.07815467 -0.05113028 -0.25458577\n",
      "  -0.18897486  0.02746458 -0.21500183 -0.26422752 -0.32692378 -0.01810917\n",
      "   0.13165127 -0.11476706  0.40290911 -0.42442633  0.43528543]\n",
      " [ 0.04760344 -0.48456281  0.03128671 -0.15584608  0.36026626  0.09667699\n",
      "  -0.09243539 -0.53155291  0.18020269 -0.13740513 -0.07830977 -0.03027851\n",
      "   0.0733036   0.19376807  0.43134249  0.1361737  -0.03890281]]\n"
     ]
    }
   ],
   "source": [
    "print('Eigen Values : \\n',eigenvalues)\n",
    "print('Eigen Vectors : \\n',eigenvectors)"
   ]
  },
  {
   "cell_type": "code",
   "execution_count": null,
   "metadata": {},
   "outputs": [],
   "source": []
  },
  {
   "cell_type": "code",
   "execution_count": null,
   "metadata": {},
   "outputs": [],
   "source": []
  },
  {
   "cell_type": "code",
   "execution_count": null,
   "metadata": {},
   "outputs": [],
   "source": []
  },
  {
   "cell_type": "markdown",
   "metadata": {
    "id": "Iam2Z23e93EL"
   },
   "source": [
    "##### 2. (b).Find the optimal number of clusters for the K-means clustering model [Note: Use the PCs, which are explaining the 90% variance].  (6 marks)"
   ]
  },
  {
   "cell_type": "code",
   "execution_count": 24,
   "metadata": {
    "id": "cjGdVqY52Wzl"
   },
   "outputs": [],
   "source": [
    "cumulative_variance = np.cumsum(pca.explained_variance_ratio_)"
   ]
  },
  {
   "cell_type": "code",
   "execution_count": 25,
   "metadata": {
    "id": "eCH0uTGz2Wzl"
   },
   "outputs": [
    {
     "data": {
      "text/plain": [
       "array([0.27290037, 0.47592029, 0.56384008, 0.63863983, 0.70126775,\n",
       "       0.75876986, 0.80764221, 0.85021707, 0.88850511, 0.91930517,\n",
       "       0.94302415, 0.96076047, 0.97502539, 0.98719908, 0.99732898,\n",
       "       0.99999931, 1.        ])"
      ]
     },
     "execution_count": 25,
     "metadata": {},
     "output_type": "execute_result"
    }
   ],
   "source": [
    "cumulative_variance"
   ]
  },
  {
   "cell_type": "code",
   "execution_count": 41,
   "metadata": {},
   "outputs": [],
   "source": [
    "num_pcs = np.argmax(cumulative_variance > 0.9 ) + 1"
   ]
  },
  {
   "cell_type": "code",
   "execution_count": 42,
   "metadata": {},
   "outputs": [
    {
     "data": {
      "text/plain": [
       "10"
      ]
     },
     "execution_count": 42,
     "metadata": {},
     "output_type": "execute_result"
    }
   ],
   "source": [
    "num_pcs"
   ]
  },
  {
   "cell_type": "code",
   "execution_count": 43,
   "metadata": {},
   "outputs": [
    {
     "data": {
      "text/plain": [
       "array([False, False, False, False, False, False, False, False, False,\n",
       "        True,  True,  True,  True,  True,  True,  True,  True])"
      ]
     },
     "execution_count": 43,
     "metadata": {},
     "output_type": "execute_result"
    }
   ],
   "source": [
    "cumulative_variance > 0.9"
   ]
  },
  {
   "cell_type": "code",
   "execution_count": 44,
   "metadata": {},
   "outputs": [],
   "source": [
    "pca_transformed_data = pca.transform(scaled_data)[:, :num_pcs]"
   ]
  },
  {
   "cell_type": "code",
   "execution_count": 45,
   "metadata": {},
   "outputs": [],
   "source": [
    "wcss = []\n",
    "k_values = range(1,11)"
   ]
  },
  {
   "cell_type": "code",
   "execution_count": 46,
   "metadata": {},
   "outputs": [],
   "source": [
    "for k in k_values:\n",
    "    kmeans = KMeans(n_clusters=k, random_state=42)\n",
    "    kmeans.fit(pca_transformed_data)\n",
    "    wcss.append(kmeans.inertia_)"
   ]
  },
  {
   "cell_type": "code",
   "execution_count": 47,
   "metadata": {},
   "outputs": [
    {
     "data": {
      "image/png": "[encoded data removed]",
      "text/plain": [
       "<Figure size 800x600 with 1 Axes>"
      ]
     },
     "metadata": {},
     "output_type": "display_data"
    }
   ],
   "source": [
    "plt.figure(figsize=(8,6))\n",
    "plt.plot(k_values, wcss,marker='o',linestyle='-')\n",
    "plt.xlabel('Number of clusters (K)')\n",
    "plt.ylabel('With in Clusters Sum of Squares (WCSS)')\n",
    "plt.title('Elbow Method for optimal K')\n",
    "plt.show()"
   ]
  },
  {
   "cell_type": "code",
   "execution_count": 48,
   "metadata": {},
   "outputs": [
    {
     "name": "stdout",
     "output_type": "stream",
     "text": [
      "Number of Principal Components :  10\n"
     ]
    }
   ],
   "source": [
    "print('Number of Principal Components : ', num_pcs)"
   ]
  },
  {
   "cell_type": "markdown",
   "metadata": {
    "id": "tqCGCDUC-mW-"
   },
   "source": [
    "#### 2. (c). Plot the dendrograms using 4 linkage methods for the PCA transformed data and identify which one is the best. [Note: Use the PCs, which are explaining the 90% variance] (6 marks)"
   ]
  },
  {
   "cell_type": "code",
   "execution_count": null,
   "metadata": {
    "id": "KhazH91vkF_3"
   },
   "outputs": [],
   "source": [
    "#Hint:Use the following functions and create the dendrograms for 100 nodes only\n",
    "# linkage(pca_df, method='single',metric='euclidean')\n",
    "# dendrogram(mergings,truncate_mode='lastp',p=100)"
   ]
  },
  {
   "cell_type": "code",
   "execution_count": 49,
   "metadata": {
    "id": "UQimFVaz2Wzm"
   },
   "outputs": [],
   "source": [
    "sample_size = 1000\n",
    "pca_sample = pca_transformed_data[:sample_size,:]\n",
    "\n",
    "linkage_methods = ['single','complete','average','ward']\n",
    "\n"
   ]
  },
  {
   "cell_type": "code",
   "execution_count": 50,
   "metadata": {},
   "outputs": [],
   "source": [
    "import scipy.cluster.hierarchy as sch"
   ]
  },
  {
   "cell_type": "code",
   "execution_count": 52,
   "metadata": {},
   "outputs": [
    {
     "data": {
      "image/png": "[encoded data removed]",
      "text/plain": [
       "<Figure size 1600x1200 with 4 Axes>"
      ]
     },
     "metadata": {},
     "output_type": "display_data"
    }
   ],
   "source": [
    "plt.figure(figsize=(16,12))\n",
    "for i, method in enumerate(linkage_methods, 1):\n",
    "    plt.subplot(2,2,i)\n",
    "    mergings = sch.linkage(pca_sample, method=method, metric='euclidean')\n",
    "    sch.dendrogram(mergings, truncate_mode='lastp',p=100)\n",
    "    plt.title(f'Dendogram ({method}) linkage')\n",
    "\n",
    "plt.show()"
   ]
  },
  {
   "cell_type": "code",
   "execution_count": null,
   "metadata": {},
   "outputs": [],
   "source": []
  },
  {
   "cell_type": "code",
   "execution_count": null,
   "metadata": {},
   "outputs": [],
   "source": []
  },
  {
   "cell_type": "code",
   "execution_count": null,
   "metadata": {},
   "outputs": [],
   "source": []
  },
  {
   "cell_type": "code",
   "execution_count": null,
   "metadata": {},
   "outputs": [],
   "source": []
  },
  {
   "cell_type": "markdown",
   "metadata": {
    "id": "buUKOxi9vpke"
   },
   "source": [
    "#### 2 (d)Cluster the data into 4 groups and order the cluster quality in terms of the inertia (WCSS) of each cluster. [Use ward linkage metric] (6 marks)"
   ]
  },
  {
   "cell_type": "code",
   "execution_count": 53,
   "metadata": {
    "id": "Me2LP5_vvpke"
   },
   "outputs": [
    {
     "name": "stdout",
     "output_type": "stream",
     "text": [
      "Sorted Cluster: [(2, 544.1939128327091), (3, 1416.2884593898232), (1, 2256.4129075914843), (0, 9746.465017429775)]\n"
     ]
    }
   ],
   "source": [
    "sample_size = 1000  # Using a smaller subset for hierarchical clustering\n",
    "pca_sample = pca_transformed_data[:sample_size, :]\n",
    "\n",
    "# Perform hierarchical clustering with Ward's linkage and 4 clusters\n",
    "hierarchical_cluster = AgglomerativeClustering(n_clusters=4, linkage='ward')\n",
    "cluster_labels = hierarchical_cluster.fit_predict(pca_sample)\n",
    "\n",
    "# Compute Within-Cluster Sum of Squares (WCSS) for quality ranking\n",
    "wcss_per_cluster = []\n",
    "for cluster in range(4):\n",
    "    cluster_points = pca_sample[cluster_labels == cluster]\n",
    "    centroid = cluster_points.mean(axis=0)\n",
    "    wcss = np.sum((cluster_points - centroid) ** 2)\n",
    "    wcss_per_cluster.append((cluster, wcss))\n",
    "\n",
    "# Sort clusters by increasing WCSS (lower WCSS is better)\n",
    "sorted_clusters = sorted(wcss_per_cluster, key=lambda x: x[1])\n",
    "\n",
    "# Return the sorted cluster quality ranking\n",
    "print(\"Sorted Cluster:\",sorted_clusters)"
   ]
  },
  {
   "cell_type": "markdown",
   "metadata": {},
   "source": [
    "- Cluster 2 (Best) - WCSS = 543.77\n",
    "- Cluster 3 - WCSS = 1416.18\n",
    "- Cluster 1 - WCSS = 2513.89\n",
    "- Cluster 0 (Worst) - WCSS = 9446.77"
   ]
  },
  {
   "cell_type": "code",
   "execution_count": null,
   "metadata": {},
   "outputs": [],
   "source": []
  },
  {
   "cell_type": "code",
   "execution_count": null,
   "metadata": {},
   "outputs": [],
   "source": []
  },
  {
   "cell_type": "code",
   "execution_count": null,
   "metadata": {},
   "outputs": [],
   "source": []
  },
  {
   "cell_type": "code",
   "execution_count": null,
   "metadata": {
    "id": "0r03Qk1_vpke"
   },
   "outputs": [],
   "source": []
  },
  {
   "cell_type": "markdown",
   "metadata": {
    "id": "s7n3MC9C2Wzm"
   },
   "source": [
    "#### 2 (e)Compare the quality of clusters for K-means clustering algorithm on original data and PCA transformed data. (8 marks)\n"
   ]
  },
  {
   "cell_type": "code",
   "execution_count": 54,
   "metadata": {
    "id": "cZS4kISR2Wzm"
   },
   "outputs": [
    {
     "name": "stdout",
     "output_type": "stream",
     "text": [
      "Silhouette Original 0.19760744927206977\n",
      "Silhouette PCA 0.21696932438329947\n"
     ]
    }
   ],
   "source": [
    "from sklearn.metrics import silhouette_score\n",
    "\n",
    "# Perform K-Means on original data\n",
    "kmeans_original = KMeans(n_clusters=4, random_state=42, n_init=10)\n",
    "labels_original = kmeans_original.fit_predict(scaled_data)\n",
    "silhouette_original = silhouette_score(scaled_data, labels_original)\n",
    "\n",
    "# Perform K-Means on PCA transformed data\n",
    "kmeans_pca = KMeans(n_clusters=4, random_state=42, n_init=10)\n",
    "labels_pca = kmeans_pca.fit_predict(pca_transformed_data)\n",
    "silhouette_pca = silhouette_score(pca_transformed_data, labels_pca)\n",
    "\n",
    "# Return Silhouette Scores for comparison\n",
    "print(\"Silhouette Original\",silhouette_original)\n",
    "print(\"Silhouette PCA\",silhouette_pca)"
   ]
  },
  {
   "cell_type": "markdown",
   "metadata": {
    "id": "27Gh988m2Wzn"
   },
   "source": [
    "As silhouette PCA > silhouette Original, PCA has improved clustering quality\n",
    "\n",
    "##### Notes:\n",
    "- If silhouette_pca > silhouette_original --> PCA has improved clustering quality\n",
    "- If silhouette_pca < silhouette_original --> PCA removed useful information\n",
    "- If silhouette_pca ≈ silhouette_original --> PCA did not significantly affect clustering quality"
   ]
  },
  {
   "cell_type": "markdown",
   "metadata": {
    "id": "3v4cgQO32Wzn"
   },
   "source": [
    "## Section C (40 marks)"
   ]
  },
  {
   "cell_type": "markdown",
   "metadata": {
    "id": "60foq9YKvpkj"
   },
   "source": [
    "\n",
    "#### 3 (a) Develop a popularity-driven recommendation system, print Total no of ratings,Total No of Users,Total No of products  and recommend the top 5 items. (10 marks )\n",
    "\n",
    "Use the dataset: Book_ratings.csv\n",
    "Variables:\n",
    "book_id - ID of the book.\n",
    "user_id - ID of the user rated\n",
    "ratings - ratings of the book by the user."
   ]
  },
  {
   "cell_type": "code",
   "execution_count": 57,
   "metadata": {
    "id": "IXWiJC6XugCa"
   },
   "outputs": [
    {
     "data": {
      "text/plain": [
       "Index(['Unnamed: 0.1', 'Unnamed: 0', 'book_id', 'user_id', 'rating'], dtype='object')"
      ]
     },
     "execution_count": 57,
     "metadata": {},
     "output_type": "execute_result"
    }
   ],
   "source": [
    "book_ratings_df = pd.read_csv(\"Book_ratings.csv\")\n",
    "book_ratings_df.columns"
   ]
  },
  {
   "cell_type": "code",
   "execution_count": 58,
   "metadata": {
    "id": "PsjO9jQW5R5n"
   },
   "outputs": [
    {
     "name": "stdout",
     "output_type": "stream",
     "text": [
      "Total Ratings:  120000\n",
      "Total Users:  7956\n",
      "Total Books:  1201\n",
      "Top 5 Books: \n",
      "  book_id  rating\n",
      "       1     100\n",
      "     805     100\n",
      "     803     100\n",
      "     802     100\n",
      "     801     100\n"
     ]
    }
   ],
   "source": [
    "# Compute total number of ratings, total users, and total books\n",
    "total_ratings = book_ratings_df.shape[0]\n",
    "total_users = book_ratings_df['user_id'].nunique()\n",
    "total_books = book_ratings_df['book_id'].nunique()\n",
    "\n",
    "# Aggregate ratings per book to find the most popular books\n",
    "top_books = book_ratings_df.groupby(\"book_id\")[\"rating\"].count().reset_index()\n",
    "\n",
    "# Sort in descending order to get the most popular books\n",
    "top_books = top_books.sort_values(by=\"rating\", ascending=False)\n",
    "\n",
    "# Select the top 5 most rated books\n",
    "top_5_books = top_books.head(5)\n",
    "\n",
    "# Return computed values and recommended books\n",
    "print(\"Total Ratings: \",total_ratings)\n",
    "print(\"Total Users: \",total_users)\n",
    "print(\"Total Books: \",total_books)\n",
    "print(\"Top 5 Books: \\n\",top_5_books.to_string(index=False))"
   ]
  },
  {
   "cell_type": "markdown",
   "metadata": {
    "id": "6tkwINg-vpkm"
   },
   "source": [
    "\n",
    "#### 3 (b) Build collaborative recommendation engine. Use KNNBasic library with cosine similarity and measure the model quality by performing cross validation in terms of RMSE.\n",
    "Use the dataset: Book_ratings.csv (20 Marks)"
   ]
  },
  {
   "cell_type": "code",
   "execution_count": null,
   "metadata": {
    "id": "nXPTe7-c2Wzn"
   },
   "outputs": [],
   "source": [
    "# Load the dataset\n",
    "# Create a Reader object\n",
    "# Load the dataset into Surprise's Dataset format (Hint: Dataset.load_from_df(df[['user_id', 'book_id', 'rating']], reader))"
   ]
  },
  {
   "cell_type": "code",
   "execution_count": null,
   "metadata": {
    "id": "p5DAl9Fw2Wzn"
   },
   "outputs": [],
   "source": [
    "# Split the data into training and testing sets\n",
    "# Build the collaborative filtering model (user-based in this case)\n",
    "#Hint: sim_options = {'name': 'cosine', 'user_based': True}\n",
    "#model = KNNBasic(sim_options=sim_options)\n",
    "# Train the model\n",
    "# Make predictions on the test set\n",
    "# Calculate RMSE"
   ]
  },
  {
   "cell_type": "code",
   "execution_count": null,
   "metadata": {
    "id": "g2fas-jF2Wzn"
   },
   "outputs": [],
   "source": [
    "# Perform cross-validation\n",
    "\n",
    "\n",
    "# Print the average RMSE across folds\n"
   ]
  },
  {
   "cell_type": "code",
   "execution_count": 55,
   "metadata": {
    "id": "y1Y74oE22Wzo"
   },
   "outputs": [
    {
     "data": {
      "text/plain": [
       "Index(['Unnamed: 0.1', 'Unnamed: 0', 'book_id', 'user_id', 'rating'], dtype='object')"
      ]
     },
     "execution_count": 55,
     "metadata": {},
     "output_type": "execute_result"
    }
   ],
   "source": []
  },
  {
   "cell_type": "code",
   "execution_count": 56,
   "metadata": {
    "id": "S_lXSrZL2Wzo"
   },
   "outputs": [
    {
     "name": "stdout",
     "output_type": "stream",
     "text": [
      "Total Ratings:  120000\n",
      "Total Users:  7956\n",
      "Total Books:  1201\n",
      "Top 5 Books: \n",
      "  book_id  rating\n",
      "       1     100\n",
      "     805     100\n",
      "     803     100\n",
      "     802     100\n",
      "     801     100\n"
     ]
    }
   ],
   "source": []
  },
  {
   "cell_type": "markdown",
   "metadata": {
    "id": "jg6Ab6Rt2Wzo"
   },
   "source": [
    "#### 3 (c) Create association rule mining using apriori algorithm.Perform basic pre-processing operations required by algorithm ( drop missing values, drop unnecessary columns). (7 marks) </br>  </br> Create the basket only for France. Run algorithm with minimum support 0.07, tune with lift. (3 marks)\n",
    "\n",
    "Use Dataset:Online Retail.csv"
   ]
  },
  {
   "cell_type": "code",
   "execution_count": null,
   "metadata": {
    "id": "YBcgb2SH2Wzo"
   },
   "outputs": [],
   "source": [
    "#Read the data\n",
    "#Check missing values\n"
   ]
  },
  {
   "cell_type": "code",
   "execution_count": null,
   "metadata": {
    "id": "pO84QZkv2Wzo"
   },
   "outputs": [],
   "source": [
    "#Hint : use the function to get frequesnt Itemsets\n",
    "#apriori(basket for France, min_support, use_colnames=True)\n",
    "#rules = association_rules(frequent_itemsets, metric=\"lift\")"
   ]
  }
 ],
 "metadata": {
  "colab": {
   "provenance": []
  },
  "kernelspec": {
   "display_name": "Python 3 (ipykernel)",
   "language": "python",
   "name": "python3"
  },
  "language_info": {
   "codemirror_mode": {
    "name": "ipython",
    "version": 3
   },
   "file_extension": ".py",
   "mimetype": "text/x-python",
   "name": "python",
   "nbconvert_exporter": "python",
   "pygments_lexer": "ipython3",
   "version": "3.11.7"
  }
 },
 "nbformat": 4,
 "nbformat_minor": 4
}
