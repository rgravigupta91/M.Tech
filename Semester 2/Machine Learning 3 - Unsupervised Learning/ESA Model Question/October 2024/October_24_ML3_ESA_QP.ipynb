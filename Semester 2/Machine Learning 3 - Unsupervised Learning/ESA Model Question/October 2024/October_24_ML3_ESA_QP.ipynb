{
 "cells": [
  {
   "cell_type": "markdown",
   "metadata": {
    "id": "9sFPPSRZ2Uun"
   },
   "source": [
    "### October 2024: END SEMESTER ASSESSMENT (ESA)\n",
    "## M TECH DATA SCIENCE AND MACHINE LEARNING_ SEMESTER II\n",
    "\n",
    "### UE20CS932 - MACHINE LEARNING - III\n"
   ]
  },
  {
   "cell_type": "code",
   "execution_count": 1,
   "metadata": {
    "id": "Fl1px9MOObRX"
   },
   "outputs": [],
   "source": [
    "#!pip install surprise\n",
    "#!pip install yellowbrick"
   ]
  },
  {
   "cell_type": "code",
   "execution_count": 2,
   "metadata": {
    "id": "aUD7Zgj6vpkH"
   },
   "outputs": [],
   "source": [
    "import pandas as pd\n",
    "import numpy as np\n",
    "import matplotlib.pyplot as plt\n",
    "import seaborn as sns\n",
    "from sklearn.preprocessing import StandardScaler\n",
    "from sklearn.decomposition import PCA\n",
    "from sklearn.cluster import KMeans,AgglomerativeClustering,DBSCAN\n",
    "from sklearn.metrics import silhouette_score\n",
    "from scipy.cluster.hierarchy import linkage , dendrogram, fcluster,cophenet\n",
    "from sklearn.model_selection import train_test_split\n",
    "from sklearn.ensemble import RandomForestClassifier\n",
    "from sklearn.metrics import classification_report\n",
    "from sklearn.decomposition import TruncatedSVD\n",
    "from surprise import KNNWithMeans,SVDpp\n",
    "from surprise import Dataset\n",
    "from surprise import accuracy\n",
    "from surprise.model_selection import train_test_split,cross_validate\n",
    "from mlxtend.frequent_patterns import apriori\n",
    "from mlxtend.frequent_patterns import association_rules\n",
    "from surprise import KNNBasic\n",
    "from sklearn.metrics import silhouette_score\n",
    "from yellowbrick.cluster import SilhouetteVisualizer\n",
    "from csv import reader\n",
    "import warnings\n",
    "warnings.filterwarnings(\"ignore\")"
   ]
  },
  {
   "cell_type": "markdown",
   "metadata": {
    "id": "1r9etSfQvpkP"
   },
   "source": [
    "Note:\n",
    "\n",
    "- Use penguins.csv for all the clustering and dimensionality reduction questions.\n",
    "    \n",
    "- Use store_data.csv for Association rule mining questions.\n",
    "\n",
    "- Use Hotel_Recommender.csv for recommendation system questions."
   ]
  },
  {
   "cell_type": "raw",
   "metadata": {
    "id": "Uco1VVCrOKyZ"
   },
   "source": [
    "### problem statement:\n",
    "\n",
    "This project aims to cluster penguins into different groups based on their physical characteristics using unsupervised learning algorithms. \n",
    "\n",
    "### Data Description\n",
    "culmen_length_mm: culmen length (mm)\n",
    "culmen_depth_mm: culmen depth (mm)\n",
    "flipper_length_mm: flipper length (mm)\n",
    "body_mass_g: body mass (g)\n",
    "Sex: penguin sex"
   ]
  },
  {
   "cell_type": "markdown",
   "metadata": {
    "id": "PEOflm3FOKya"
   },
   "source": [
    "## Section B(40 marks)"
   ]
  },
  {
   "cell_type": "markdown",
   "metadata": {
    "id": "RDPXJL9h74UH"
   },
   "source": [
    "#### 2. (a) Perform EDA and  pre-processing techniques required for PCA and clustering. (10 marks) <br>   <br>  Print the top 5 Eigenvalues and Eigenvectors. (4 marks)\n"
   ]
  },
  {
   "cell_type": "code",
   "execution_count": null,
   "metadata": {},
   "outputs": [],
   "source": []
  },
  {
   "cell_type": "code",
   "execution_count": null,
   "metadata": {},
   "outputs": [],
   "source": []
  },
  {
   "cell_type": "markdown",
   "metadata": {
    "id": "Iam2Z23e93EL"
   },
   "source": [
    "##### 2. (b) Calculate the optimal number of clusters for K-means, using the principal components that represent 90% of the explained variance.(use SilhouetteVisualizer)  (6 marks)"
   ]
  },
  {
   "cell_type": "code",
   "execution_count": null,
   "metadata": {},
   "outputs": [],
   "source": []
  },
  {
   "cell_type": "code",
   "execution_count": null,
   "metadata": {},
   "outputs": [],
   "source": []
  },
  {
   "cell_type": "markdown",
   "metadata": {
    "id": "tqCGCDUC-mW-"
   },
   "source": [
    "#### 2. (c) Create dendrograms (top 100 cluster) using five different linkage methods and compare their performance, utilizing the principal components that explain 90% of the variance and calculate the cophenetic correlation coefficient for each linkage, display the results.  (6 marks)"
   ]
  },
  {
   "cell_type": "code",
   "execution_count": null,
   "metadata": {},
   "outputs": [],
   "source": []
  },
  {
   "cell_type": "code",
   "execution_count": null,
   "metadata": {},
   "outputs": [],
   "source": []
  },
  {
   "cell_type": "markdown",
   "metadata": {
    "id": "buUKOxi9vpke"
   },
   "source": [
    "#### 2 (d)Group the data into the optimal number of clusters and rank the clusters based on their quality, using the within-cluster sum of squares (WCSS) for each cluster.  (6 marks)"
   ]
  },
  {
   "cell_type": "code",
   "execution_count": null,
   "metadata": {},
   "outputs": [],
   "source": []
  },
  {
   "cell_type": "code",
   "execution_count": null,
   "metadata": {},
   "outputs": [],
   "source": []
  },
  {
   "cell_type": "markdown",
   "metadata": {
    "id": "Z7I2SWuHOKym"
   },
   "source": [
    "#### 2 (e)Cluster the data using both K-Means and Agglomerative methods without applying PCA, and analyze the differences in their performance. (8 marks)\n"
   ]
  },
  {
   "cell_type": "code",
   "execution_count": null,
   "metadata": {},
   "outputs": [],
   "source": []
  },
  {
   "cell_type": "code",
   "execution_count": null,
   "metadata": {},
   "outputs": [],
   "source": []
  },
  {
   "cell_type": "markdown",
   "metadata": {
    "id": "syDI7D3MOKyo"
   },
   "source": [
    "## Section C (40 marks)"
   ]
  },
  {
   "cell_type": "markdown",
   "metadata": {
    "id": "60foq9YKvpkj"
   },
   "source": [
    "\n",
    "#### 3 (a) Read the 'store_data.csv' file, perform required pre-processing, Build the Apriori ML model with minimum support 10% and print values of Lift greater than 2.                                   (20 marks)"
   ]
  },
  {
   "cell_type": "code",
   "execution_count": null,
   "metadata": {},
   "outputs": [],
   "source": []
  },
  {
   "cell_type": "code",
   "execution_count": null,
   "metadata": {},
   "outputs": [],
   "source": []
  },
  {
   "cell_type": "markdown",
   "metadata": {
    "colab": {
     "base_uri": "https://localhost:8080/",
     "height": 110
    },
    "id": "cLXLM1Cm0Rrb",
    "outputId": "50672a91-a9f9-4e6e-97b5-8f0a731d63dc"
   },
   "source": [
    "#### 3 (b)Build collaborative recommendation engine using SVD to recommend a top hotel to the specific user. Measure the model quality in terms of RMSE. Use the dataset: Hotel_Recommender.csv (20 marks)"
   ]
  },
  {
   "cell_type": "code",
   "execution_count": null,
   "metadata": {},
   "outputs": [],
   "source": []
  },
  {
   "cell_type": "code",
   "execution_count": null,
   "metadata": {},
   "outputs": [],
   "source": []
  }
 ],
 "metadata": {
  "colab": {
   "provenance": []
  },
  "kernelspec": {
   "display_name": "Python 3 (ipykernel)",
   "language": "python",
   "name": "python3"
  },
  "language_info": {
   "codemirror_mode": {
    "name": "ipython",
    "version": 3
   },
   "file_extension": ".py",
   "mimetype": "text/x-python",
   "name": "python",
   "nbconvert_exporter": "python",
   "pygments_lexer": "ipython3",
   "version": "3.10.12"
  }
 },
 "nbformat": 4,
 "nbformat_minor": 1
}
