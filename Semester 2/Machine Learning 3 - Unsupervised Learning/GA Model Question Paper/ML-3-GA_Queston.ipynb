{
 "cells": [
  {
   "cell_type": "markdown",
   "metadata": {},
   "source": [
    "<h1 class=\"list-group-item list-group-item-action active\" data-toggle=\"list\"  role=\"tab\" aria-controls=\"home\">ML-3 Mid_ExamPaper_40 Marks </h1> "
   ]
  },
  {
   "cell_type": "markdown",
   "metadata": {
    "colab_type": "text",
    "id": "33QN6mLMgPjk"
   },
   "source": [
    "### We combined two datasets in single CSV file. Use the below script to seperate the data.\n",
    "#### Use data_clust for dimensionality reduction and clustering\n",
    "#### Use data_recom for recommendation system.\n",
    "\n",
    "\n",
    "import pandas as pd\n",
    "\n",
    "data=pd.read_csv('dataset.csv')\n",
    "\n",
    "data_clust=data.iloc[0:897,0:15]\n",
    "\n",
    "data_recom=data.iloc[:,15:]\n",
    "\n",
    "The column 'M3' talks about the relay postion, which is the target column. Don't use this while doing clustering and dimensionality reduction. "
   ]
  },
  {
   "cell_type": "code",
   "execution_count": 2,
   "metadata": {},
   "outputs": [],
   "source": [
    "import pandas as pd\n",
    "import numpy as np\n",
    "from sklearn.preprocessing import StandardScaler\n",
    "import seaborn as sb\n",
    "from matplotlib import pyplot as plt\n",
    "from sklearn.cluster import KMeans\n",
    "from sklearn.metrics import silhouette_score\n",
    "from sklearn.decomposition import PCA \n",
    "from sklearn.model_selection import train_test_split\n",
    "from sklearn.ensemble import RandomForestClassifier\n",
    "from sklearn.metrics import classification_report"
   ]
  },
  {
   "cell_type": "markdown",
   "metadata": {},
   "source": [
    "<h1 class=\"list-group-item list-group-item-action active\" data-toggle=\"list\"  role=\"tab\" aria-controls=\"home\">Section A - 5 Marks </h1> "
   ]
  },
  {
   "cell_type": "markdown",
   "metadata": {
    "colab_type": "text",
    "id": "LalRSDxV4vhC"
   },
   "source": [
    "### 1. Data Preprocessing "
   ]
  },
  {
   "cell_type": "markdown",
   "metadata": {},
   "source": [
    "1a. Read the dataset and perform required cleaning and preprocessing prior to model building. Justify the pre-processing approaches used.(3 Marks)\n",
    "\n",
    "1b. Perform atleast one univariate and bivariate analysis for the data_clust (2 Marks)\n",
    "\n",
    "1c. Keep the input features of data_clust (independent variables) in the variable \"inp_data_dime: and output feature (M3) in te variable out.  "
   ]
  },
  {
   "cell_type": "code",
   "execution_count": 3,
   "metadata": {},
   "outputs": [],
   "source": [
    "\n",
    "data=pd.read_csv('dataset.csv')\n",
    "\n",
    "data_clust=data.iloc[0:897,0:15]\n",
    "\n",
    "data_recom=data.iloc[:,15:]"
   ]
  },
  {
   "cell_type": "code",
   "execution_count": null,
   "metadata": {},
   "outputs": [],
   "source": []
  },
  {
   "cell_type": "markdown",
   "metadata": {},
   "source": [
    "<h1 class=\"list-group-item list-group-item-action active\" data-toggle=\"list\"  role=\"tab\" aria-controls=\"home\">Section B - 10 Marks </h1> "
   ]
  },
  {
   "cell_type": "markdown",
   "metadata": {},
   "source": [
    "### 2. Apply K means clustering and identify the ideal value of K using elbow and silhoutee method"
   ]
  },
  {
   "cell_type": "code",
   "execution_count": null,
   "metadata": {},
   "outputs": [],
   "source": []
  },
  {
   "cell_type": "markdown",
   "metadata": {},
   "source": [
    "<h1 class=\"list-group-item list-group-item-action active\" data-toggle=\"list\"  role=\"tab\" aria-controls=\"home\">Section C - 10 Marks </h1> "
   ]
  },
  {
   "cell_type": "markdown",
   "metadata": {
    "colab_type": "text",
    "id": "rsO5AATt42Cl"
   },
   "source": [
    "### 3. Apply PCA on the data. How many PCs are required to reproduce the 95% charecteristics of original data. What is the top 5 features contributing in PC1 ?(5 marks)\n",
    "\n",
    "\n",
    "### 4. Build the following ML model and compare its performace: (5 Marks)\n",
    "    a. ML model with original inp_data_dime and out\n",
    "    b. ML model with inp_data_dime_pca and out\n",
    "\n",
    "    (Note: the pca components (inp_data_dime_pca) must capture the 95 percent varaince in the data) "
   ]
  },
  {
   "cell_type": "code",
   "execution_count": null,
   "metadata": {},
   "outputs": [],
   "source": []
  },
  {
   "cell_type": "markdown",
   "metadata": {},
   "source": [
    "<h1 class=\"list-group-item list-group-item-action active\" data-toggle=\"list\"  role=\"tab\" aria-controls=\"home\">Section D - 15 Marks </h1> "
   ]
  },
  {
   "cell_type": "markdown",
   "metadata": {},
   "source": [
    "### 5. Recommondation Systems\n",
    "### Build collaborative recommendation engine to predict a rating for an specific item by the specific user. Measure the model quality in terms of RMSE\n",
    "\n",
    "#### use data_recom"
   ]
  },
  {
   "cell_type": "code",
   "execution_count": 4,
   "metadata": {},
   "outputs": [],
   "source": [
    "from surprise import KNNWithMeans,SVDpp\n",
    "from surprise import Dataset\n",
    "from surprise import accuracy\n",
    "from surprise import Reader\n",
    "from surprise.model_selection import train_test_split,cross_validate"
   ]
  },
  {
   "cell_type": "code",
   "execution_count": null,
   "metadata": {},
   "outputs": [],
   "source": []
  },
  {
   "cell_type": "code",
   "execution_count": null,
   "metadata": {},
   "outputs": [],
   "source": []
  }
 ],
 "metadata": {
  "kernelspec": {
   "display_name": "Python 3 (ipykernel)",
   "language": "python",
   "name": "python3"
  },
  "language_info": {
   "codemirror_mode": {
    "name": "ipython",
    "version": 3
   },
   "file_extension": ".py",
   "mimetype": "text/x-python",
   "name": "python",
   "nbconvert_exporter": "python",
   "pygments_lexer": "ipython3",
   "version": "3.11.7"
  }
 },
 "nbformat": 4,
 "nbformat_minor": 4
}
