{
 "cells": [
  {
   "cell_type": "markdown",
   "metadata": {},
   "source": [
    "<h1 class=\"list-group-item list-group-item-action active\" data-toggle=\"list\"  role=\"tab\" aria-controls=\"home\">ML-3 Mid_ExamPaper_40 Marks </h1> "
   ]
  },
  {
   "cell_type": "markdown",
   "metadata": {
    "colab_type": "text",
    "id": "33QN6mLMgPjk"
   },
   "source": [
    "### We combined two datasets in single CSV file. Use the below script to seperate the data.\n",
    "#### Use data_clust for dimensionality reduction and clustering\n",
    "#### Use data_recom for recommendation system.\n",
    "\n",
    "\n",
    "import pandas as pd\n",
    "\n",
    "data=pd.read_csv('dataset.csv')\n",
    "\n",
    "data_clust=data.iloc[0:897,0:15]\n",
    "\n",
    "data_recom=data.iloc[:,15:]\n",
    "\n",
    "The column 'M3' talks about the relay postion, which is the target column. Don't use this while doing clustering and dimensionality reduction. "
   ]
  },
  {
   "cell_type": "markdown",
   "metadata": {},
   "source": [
    "<h1 class=\"list-group-item list-group-item-action active\" data-toggle=\"list\"  role=\"tab\" aria-controls=\"home\">Section A - 5 Marks </h1> "
   ]
  },
  {
   "cell_type": "markdown",
   "metadata": {
    "colab_type": "text",
    "id": "LalRSDxV4vhC"
   },
   "source": [
    "### 1. Data Preprocessing "
   ]
  },
  {
   "cell_type": "markdown",
   "metadata": {},
   "source": [
    "1a. Read the dataset and perform required cleaning and preprocessing prior to model building. Justify the pre-processing approaches used.(3 Marks)\n",
    "\n",
    "1b. Perform atleast one univariate and bivariate analysis for the data_clust (2 Marks)\n",
    "\n",
    "1c. Keep the input features of data_clust (independent variables) in the variable \"inp_data_dime: and output feature (M3) in te variable out.  "
   ]
  },
  {
   "cell_type": "code",
   "execution_count": 14,
   "metadata": {},
   "outputs": [],
   "source": [
    "#1a. Read the dataset and perform required cleaning and preprocessing prior to model building. \n",
    "#    Justify the pre-processing approaches used. (3 Marks)\n",
    "import pandas as pd\n",
    "import numpy as np\n",
    "\n",
    "\n",
    "data=pd.read_csv('dataset.csv')\n",
    "\n",
    "data_clust=data.iloc[0:897,0:15]\n",
    "\n",
    "data_recom=data.iloc[:,15:]"
   ]
  },
  {
   "cell_type": "code",
   "execution_count": 15,
   "metadata": {},
   "outputs": [
    {
     "data": {
      "text/html": [
       "<div>\n",
       "<style scoped>\n",
       "    .dataframe tbody tr th:only-of-type {\n",
       "        vertical-align: middle;\n",
       "    }\n",
       "\n",
       "    .dataframe tbody tr th {\n",
       "        vertical-align: top;\n",
       "    }\n",
       "\n",
       "    .dataframe thead th {\n",
       "        text-align: right;\n",
       "    }\n",
       "</style>\n",
       "<table border=\"1\" class=\"dataframe\">\n",
       "  <thead>\n",
       "    <tr style=\"text-align: right;\">\n",
       "      <th></th>\n",
       "      <th>N1</th>\n",
       "      <th>N2</th>\n",
       "      <th>N3</th>\n",
       "      <th>N4</th>\n",
       "      <th>N5</th>\n",
       "      <th>N6</th>\n",
       "      <th>N7</th>\n",
       "      <th>N8</th>\n",
       "      <th>N9</th>\n",
       "      <th>N10</th>\n",
       "      <th>N11</th>\n",
       "      <th>N12</th>\n",
       "      <th>N13</th>\n",
       "      <th>N14</th>\n",
       "      <th>M3</th>\n",
       "    </tr>\n",
       "  </thead>\n",
       "  <tbody>\n",
       "    <tr>\n",
       "      <th>0</th>\n",
       "      <td>0.0001</td>\n",
       "      <td>0.0001</td>\n",
       "      <td>0.000100</td>\n",
       "      <td>0.000100</td>\n",
       "      <td>10.533904</td>\n",
       "      <td>0.02</td>\n",
       "      <td>0.0001</td>\n",
       "      <td>0.0010</td>\n",
       "      <td>0.000100</td>\n",
       "      <td>0.000055</td>\n",
       "      <td>0.020028</td>\n",
       "      <td>0.004033</td>\n",
       "      <td>0.000120</td>\n",
       "      <td>0.020175</td>\n",
       "      <td>STOP</td>\n",
       "    </tr>\n",
       "    <tr>\n",
       "      <th>1</th>\n",
       "      <td>0.0001</td>\n",
       "      <td>0.0001</td>\n",
       "      <td>0.649088</td>\n",
       "      <td>10.533804</td>\n",
       "      <td>10.533904</td>\n",
       "      <td>0.20</td>\n",
       "      <td>0.0001</td>\n",
       "      <td>0.0001</td>\n",
       "      <td>0.000009</td>\n",
       "      <td>3.686851</td>\n",
       "      <td>2.043426</td>\n",
       "      <td>2.252111</td>\n",
       "      <td>2.755849</td>\n",
       "      <td>6.642700</td>\n",
       "      <td>RAISE</td>\n",
       "    </tr>\n",
       "  </tbody>\n",
       "</table>\n",
       "</div>"
      ],
      "text/plain": [
       "       N1      N2        N3         N4         N5    N6      N7      N8  \\\n",
       "0  0.0001  0.0001  0.000100   0.000100  10.533904  0.02  0.0001  0.0010   \n",
       "1  0.0001  0.0001  0.649088  10.533804  10.533904  0.20  0.0001  0.0001   \n",
       "\n",
       "         N9       N10       N11       N12       N13       N14     M3  \n",
       "0  0.000100  0.000055  0.020028  0.004033  0.000120  0.020175   STOP  \n",
       "1  0.000009  3.686851  2.043426  2.252111  2.755849  6.642700  RAISE  "
      ]
     },
     "execution_count": 15,
     "metadata": {},
     "output_type": "execute_result"
    }
   ],
   "source": [
    "data_clust.head(2)"
   ]
  },
  {
   "cell_type": "code",
   "execution_count": 12,
   "metadata": {},
   "outputs": [],
   "source": [
    "#data.columns=data.columns.str.strip()"
   ]
  },
  {
   "cell_type": "code",
   "execution_count": 16,
   "metadata": {},
   "outputs": [],
   "source": [
    "#data.to_csv('dataset.csv',index=False)"
   ]
  },
  {
   "cell_type": "code",
   "execution_count": 17,
   "metadata": {},
   "outputs": [
    {
     "data": {
      "text/plain": [
       "0"
      ]
     },
     "execution_count": 17,
     "metadata": {},
     "output_type": "execute_result"
    }
   ],
   "source": [
    "data_clust.isnull().sum().sum()\n",
    "# No missing values exist in this dataset"
   ]
  },
  {
   "cell_type": "code",
   "execution_count": 18,
   "metadata": {},
   "outputs": [],
   "source": [
    "#Keep the input and output column seperate\n",
    "inp_data_dime=data_clust.drop('M3',axis=1)\n",
    "out=data_clust['M3']"
   ]
  },
  {
   "cell_type": "markdown",
   "metadata": {},
   "source": [
    "For dimensionality reduction scaling is the must do pre-processing step. Students must perform scaling prior to dimensionality reduction. (Students may also performed outlier treatment, which is good to consider for awarding more marks). If they have not performed scaling, then mark must be reduced drastically."
   ]
  },
  {
   "cell_type": "code",
   "execution_count": 21,
   "metadata": {},
   "outputs": [],
   "source": [
    "from sklearn.preprocessing import StandardScaler\n",
    "scaler = StandardScaler()\n",
    "data_sc = scaler.fit_transform(inp_data_dime)\n",
    "data_sc=pd.DataFrame(data_sc,columns=inp_data_dime.columns)"
   ]
  },
  {
   "cell_type": "code",
   "execution_count": 22,
   "metadata": {},
   "outputs": [
    {
     "data": {
      "text/html": [
       "<div>\n",
       "<style scoped>\n",
       "    .dataframe tbody tr th:only-of-type {\n",
       "        vertical-align: middle;\n",
       "    }\n",
       "\n",
       "    .dataframe tbody tr th {\n",
       "        vertical-align: top;\n",
       "    }\n",
       "\n",
       "    .dataframe thead th {\n",
       "        text-align: right;\n",
       "    }\n",
       "</style>\n",
       "<table border=\"1\" class=\"dataframe\">\n",
       "  <thead>\n",
       "    <tr style=\"text-align: right;\">\n",
       "      <th></th>\n",
       "      <th>N1</th>\n",
       "      <th>N2</th>\n",
       "      <th>N3</th>\n",
       "      <th>N4</th>\n",
       "      <th>N5</th>\n",
       "      <th>N6</th>\n",
       "      <th>N7</th>\n",
       "      <th>N8</th>\n",
       "      <th>N9</th>\n",
       "      <th>N10</th>\n",
       "      <th>N11</th>\n",
       "      <th>N12</th>\n",
       "      <th>N13</th>\n",
       "      <th>N14</th>\n",
       "    </tr>\n",
       "  </thead>\n",
       "  <tbody>\n",
       "    <tr>\n",
       "      <th>0</th>\n",
       "      <td>-2.473613</td>\n",
       "      <td>-1.31814</td>\n",
       "      <td>-2.525802</td>\n",
       "      <td>-1.432362</td>\n",
       "      <td>0.0</td>\n",
       "      <td>-0.099540</td>\n",
       "      <td>-1.219368</td>\n",
       "      <td>-1.219272</td>\n",
       "      <td>-2.513870</td>\n",
       "      <td>-1.454856</td>\n",
       "      <td>-0.219083</td>\n",
       "      <td>-0.763659</td>\n",
       "      <td>-3.274864</td>\n",
       "      <td>-1.569459</td>\n",
       "    </tr>\n",
       "    <tr>\n",
       "      <th>1</th>\n",
       "      <td>-2.473613</td>\n",
       "      <td>-1.31814</td>\n",
       "      <td>-2.281730</td>\n",
       "      <td>2.524661</td>\n",
       "      <td>0.0</td>\n",
       "      <td>-0.068158</td>\n",
       "      <td>-1.219368</td>\n",
       "      <td>-1.219369</td>\n",
       "      <td>-2.514227</td>\n",
       "      <td>2.503527</td>\n",
       "      <td>0.135991</td>\n",
       "      <td>1.087882</td>\n",
       "      <td>-2.068152</td>\n",
       "      <td>-0.464287</td>\n",
       "    </tr>\n",
       "  </tbody>\n",
       "</table>\n",
       "</div>"
      ],
      "text/plain": [
       "         N1       N2        N3        N4   N5        N6        N7        N8  \\\n",
       "0 -2.473613 -1.31814 -2.525802 -1.432362  0.0 -0.099540 -1.219368 -1.219272   \n",
       "1 -2.473613 -1.31814 -2.281730  2.524661  0.0 -0.068158 -1.219368 -1.219369   \n",
       "\n",
       "         N9       N10       N11       N12       N13       N14  \n",
       "0 -2.513870 -1.454856 -0.219083 -0.763659 -3.274864 -1.569459  \n",
       "1 -2.514227  2.503527  0.135991  1.087882 -2.068152 -0.464287  "
      ]
     },
     "execution_count": 22,
     "metadata": {},
     "output_type": "execute_result"
    }
   ],
   "source": [
    "data_sc.head(2)"
   ]
  },
  {
   "cell_type": "code",
   "execution_count": 30,
   "metadata": {},
   "outputs": [
    {
     "data": {
      "text/html": [
       "<div>\n",
       "<style scoped>\n",
       "    .dataframe tbody tr th:only-of-type {\n",
       "        vertical-align: middle;\n",
       "    }\n",
       "\n",
       "    .dataframe tbody tr th {\n",
       "        vertical-align: top;\n",
       "    }\n",
       "\n",
       "    .dataframe thead th {\n",
       "        text-align: right;\n",
       "    }\n",
       "</style>\n",
       "<table border=\"1\" class=\"dataframe\">\n",
       "  <thead>\n",
       "    <tr style=\"text-align: right;\">\n",
       "      <th></th>\n",
       "      <th>N1</th>\n",
       "      <th>N2</th>\n",
       "      <th>N3</th>\n",
       "      <th>N4</th>\n",
       "      <th>N5</th>\n",
       "      <th>N6</th>\n",
       "      <th>N7</th>\n",
       "      <th>N8</th>\n",
       "      <th>N9</th>\n",
       "      <th>N10</th>\n",
       "      <th>N11</th>\n",
       "      <th>N12</th>\n",
       "      <th>N13</th>\n",
       "      <th>N14</th>\n",
       "    </tr>\n",
       "  </thead>\n",
       "  <tbody>\n",
       "    <tr>\n",
       "      <th>count</th>\n",
       "      <td>897.000000</td>\n",
       "      <td>897.000000</td>\n",
       "      <td>897.000000</td>\n",
       "      <td>897.000000</td>\n",
       "      <td>8.970000e+02</td>\n",
       "      <td>897.000000</td>\n",
       "      <td>897.000000</td>\n",
       "      <td>897.000000</td>\n",
       "      <td>897.000000</td>\n",
       "      <td>897.000000</td>\n",
       "      <td>897.000000</td>\n",
       "      <td>897.000000</td>\n",
       "      <td>897.000000</td>\n",
       "      <td>897.000000</td>\n",
       "    </tr>\n",
       "    <tr>\n",
       "      <th>mean</th>\n",
       "      <td>0.102562</td>\n",
       "      <td>0.046943</td>\n",
       "      <td>6.716206</td>\n",
       "      <td>3.813087</td>\n",
       "      <td>1.053390e+01</td>\n",
       "      <td>0.590930</td>\n",
       "      <td>15.174203</td>\n",
       "      <td>11.380670</td>\n",
       "      <td>0.636903</td>\n",
       "      <td>1.355093</td>\n",
       "      <td>1.268476</td>\n",
       "      <td>0.931242</td>\n",
       "      <td>7.478824</td>\n",
       "      <td>9.424846</td>\n",
       "    </tr>\n",
       "    <tr>\n",
       "      <th>std</th>\n",
       "      <td>0.041445</td>\n",
       "      <td>0.035557</td>\n",
       "      <td>2.660483</td>\n",
       "      <td>2.663513</td>\n",
       "      <td>1.084182e-13</td>\n",
       "      <td>5.738883</td>\n",
       "      <td>12.451183</td>\n",
       "      <td>9.338373</td>\n",
       "      <td>0.253457</td>\n",
       "      <td>0.931909</td>\n",
       "      <td>5.701704</td>\n",
       "      <td>1.214843</td>\n",
       "      <td>2.284943</td>\n",
       "      <td>5.995644</td>\n",
       "    </tr>\n",
       "    <tr>\n",
       "      <th>min</th>\n",
       "      <td>-0.000900</td>\n",
       "      <td>0.000100</td>\n",
       "      <td>0.000100</td>\n",
       "      <td>-0.807817</td>\n",
       "      <td>1.053390e+01</td>\n",
       "      <td>-130.236576</td>\n",
       "      <td>0.000100</td>\n",
       "      <td>0.000100</td>\n",
       "      <td>0.000009</td>\n",
       "      <td>-0.262316</td>\n",
       "      <td>-129.986635</td>\n",
       "      <td>-25.747386</td>\n",
       "      <td>0.000120</td>\n",
       "      <td>-119.725790</td>\n",
       "    </tr>\n",
       "    <tr>\n",
       "      <th>25%</th>\n",
       "      <td>0.075100</td>\n",
       "      <td>0.016100</td>\n",
       "      <td>4.794128</td>\n",
       "      <td>1.523688</td>\n",
       "      <td>1.053390e+01</td>\n",
       "      <td>0.165759</td>\n",
       "      <td>4.800100</td>\n",
       "      <td>3.600100</td>\n",
       "      <td>0.455020</td>\n",
       "      <td>0.553417</td>\n",
       "      <td>1.016933</td>\n",
       "      <td>0.568474</td>\n",
       "      <td>5.953814</td>\n",
       "      <td>8.326474</td>\n",
       "    </tr>\n",
       "    <tr>\n",
       "      <th>50%</th>\n",
       "      <td>0.102100</td>\n",
       "      <td>0.039100</td>\n",
       "      <td>7.110902</td>\n",
       "      <td>3.411969</td>\n",
       "      <td>1.053390e+01</td>\n",
       "      <td>0.398919</td>\n",
       "      <td>12.000100</td>\n",
       "      <td>9.000100</td>\n",
       "      <td>0.675049</td>\n",
       "      <td>1.214296</td>\n",
       "      <td>1.168410</td>\n",
       "      <td>0.838998</td>\n",
       "      <td>7.857244</td>\n",
       "      <td>9.666531</td>\n",
       "    </tr>\n",
       "    <tr>\n",
       "      <th>75%</th>\n",
       "      <td>0.132100</td>\n",
       "      <td>0.072100</td>\n",
       "      <td>9.008911</td>\n",
       "      <td>5.739776</td>\n",
       "      <td>1.053390e+01</td>\n",
       "      <td>1.013910</td>\n",
       "      <td>22.800100</td>\n",
       "      <td>17.100100</td>\n",
       "      <td>0.855230</td>\n",
       "      <td>2.024717</td>\n",
       "      <td>1.529315</td>\n",
       "      <td>1.292233</td>\n",
       "      <td>9.395223</td>\n",
       "      <td>10.964555</td>\n",
       "    </tr>\n",
       "    <tr>\n",
       "      <th>max</th>\n",
       "      <td>0.218100</td>\n",
       "      <td>0.149100</td>\n",
       "      <td>11.341721</td>\n",
       "      <td>10.533804</td>\n",
       "      <td>1.053390e+01</td>\n",
       "      <td>33.864220</td>\n",
       "      <td>51.200100</td>\n",
       "      <td>38.400100</td>\n",
       "      <td>1.076687</td>\n",
       "      <td>3.686851</td>\n",
       "      <td>34.116849</td>\n",
       "      <td>7.075999</td>\n",
       "      <td>11.376482</td>\n",
       "      <td>44.173466</td>\n",
       "    </tr>\n",
       "  </tbody>\n",
       "</table>\n",
       "</div>"
      ],
      "text/plain": [
       "               N1          N2          N3          N4            N5  \\\n",
       "count  897.000000  897.000000  897.000000  897.000000  8.970000e+02   \n",
       "mean     0.102562    0.046943    6.716206    3.813087  1.053390e+01   \n",
       "std      0.041445    0.035557    2.660483    2.663513  1.084182e-13   \n",
       "min     -0.000900    0.000100    0.000100   -0.807817  1.053390e+01   \n",
       "25%      0.075100    0.016100    4.794128    1.523688  1.053390e+01   \n",
       "50%      0.102100    0.039100    7.110902    3.411969  1.053390e+01   \n",
       "75%      0.132100    0.072100    9.008911    5.739776  1.053390e+01   \n",
       "max      0.218100    0.149100   11.341721   10.533804  1.053390e+01   \n",
       "\n",
       "               N6          N7          N8          N9         N10         N11  \\\n",
       "count  897.000000  897.000000  897.000000  897.000000  897.000000  897.000000   \n",
       "mean     0.590930   15.174203   11.380670    0.636903    1.355093    1.268476   \n",
       "std      5.738883   12.451183    9.338373    0.253457    0.931909    5.701704   \n",
       "min   -130.236576    0.000100    0.000100    0.000009   -0.262316 -129.986635   \n",
       "25%      0.165759    4.800100    3.600100    0.455020    0.553417    1.016933   \n",
       "50%      0.398919   12.000100    9.000100    0.675049    1.214296    1.168410   \n",
       "75%      1.013910   22.800100   17.100100    0.855230    2.024717    1.529315   \n",
       "max     33.864220   51.200100   38.400100    1.076687    3.686851   34.116849   \n",
       "\n",
       "              N12         N13         N14  \n",
       "count  897.000000  897.000000  897.000000  \n",
       "mean     0.931242    7.478824    9.424846  \n",
       "std      1.214843    2.284943    5.995644  \n",
       "min    -25.747386    0.000120 -119.725790  \n",
       "25%      0.568474    5.953814    8.326474  \n",
       "50%      0.838998    7.857244    9.666531  \n",
       "75%      1.292233    9.395223   10.964555  \n",
       "max      7.075999   11.376482   44.173466  "
      ]
     },
     "execution_count": 30,
     "metadata": {},
     "output_type": "execute_result"
    }
   ],
   "source": [
    "#1.b Perform univariate and bivariate analysis and remove any variable which is absolutely \n",
    "#    insignificant. (2 Marks)\n",
    "inp_data_dime.describe()"
   ]
  },
  {
   "cell_type": "code",
   "execution_count": 31,
   "metadata": {},
   "outputs": [
    {
     "data": {
      "text/plain": [
       "<matplotlib.axes._subplots.AxesSubplot at 0x2188f047358>"
      ]
     },
     "execution_count": 31,
     "metadata": {},
     "output_type": "execute_result"
    },
    {
     "data": {
      "image/png": "[encoded data removed]",
      "text/plain": [
       "<Figure size 432x288 with 1 Axes>"
      ]
     },
     "metadata": {
      "needs_background": "light"
     },
     "output_type": "display_data"
    }
   ],
   "source": [
    "out.value_counts().plot(kind='bar')\n",
    "#Imabalanced data"
   ]
  },
  {
   "cell_type": "code",
   "execution_count": 32,
   "metadata": {},
   "outputs": [
    {
     "data": {
      "text/plain": [
       "<matplotlib.axes._subplots.AxesSubplot at 0x2188f06a278>"
      ]
     },
     "execution_count": 32,
     "metadata": {},
     "output_type": "execute_result"
    },
    {
     "data": {
      "image/png": "[encoded data removed]",
      "text/plain": [
       "<Figure size 1296x576 with 2 Axes>"
      ]
     },
     "metadata": {
      "needs_background": "light"
     },
     "output_type": "display_data"
    }
   ],
   "source": [
    "import seaborn as sb\n",
    "from matplotlib import pyplot as plt\n",
    "plt.figure(figsize=(18,8))\n",
    "sb.heatmap(inp_data_dime.corr(),annot=True)\n"
   ]
  },
  {
   "cell_type": "code",
   "execution_count": 33,
   "metadata": {},
   "outputs": [
    {
     "data": {
      "image/png": "[encoded data removed]",
      "text/plain": [
       "<Figure size 432x288 with 1 Axes>"
      ]
     },
     "metadata": {
      "needs_background": "light"
     },
     "output_type": "display_data"
    },
    {
     "data": {
      "image/png": "[encoded data removed]",
      "text/plain": [
       "<Figure size 432x288 with 1 Axes>"
      ]
     },
     "metadata": {
      "needs_background": "light"
     },
     "output_type": "display_data"
    },
    {
     "data": {
      "image/png": "[encoded data removed]",
      "text/plain": [
       "<Figure size 432x288 with 1 Axes>"
      ]
     },
     "metadata": {
      "needs_background": "light"
     },
     "output_type": "display_data"
    },
    {
     "data": {
      "image/png": "[encoded data removed]",
      "text/plain": [
       "<Figure size 432x288 with 1 Axes>"
      ]
     },
     "metadata": {
      "needs_background": "light"
     },
     "output_type": "display_data"
    },
    {
     "data": {
      "image/png": "[encoded data removed]",
      "text/plain": [
       "<Figure size 432x288 with 1 Axes>"
      ]
     },
     "metadata": {
      "needs_background": "light"
     },
     "output_type": "display_data"
    },
    {
     "data": {
      "image/png": "[encoded data removed]",
      "text/plain": [
       "<Figure size 432x288 with 1 Axes>"
      ]
     },
     "metadata": {
      "needs_background": "light"
     },
     "output_type": "display_data"
    },
    {
     "data": {
      "image/png": "[encoded data removed]",
      "text/plain": [
       "<Figure size 432x288 with 1 Axes>"
      ]
     },
     "metadata": {
      "needs_background": "light"
     },
     "output_type": "display_data"
    },
    {
     "data": {
      "image/png": "[encoded data removed]",
      "text/plain": [
       "<Figure size 432x288 with 1 Axes>"
      ]
     },
     "metadata": {
      "needs_background": "light"
     },
     "output_type": "display_data"
    },
    {
     "data": {
      "image/png": "[encoded data removed]",
      "text/plain": [
       "<Figure size 432x288 with 1 Axes>"
      ]
     },
     "metadata": {
      "needs_background": "light"
     },
     "output_type": "display_data"
    },
    {
     "data": {
      "image/png": "[encoded data removed]",
      "text/plain": [
       "<Figure size 432x288 with 1 Axes>"
      ]
     },
     "metadata": {
      "needs_background": "light"
     },
     "output_type": "display_data"
    },
    {
     "data": {
      "image/png": "[encoded data removed]",
      "text/plain": [
       "<Figure size 432x288 with 1 Axes>"
      ]
     },
     "metadata": {
      "needs_background": "light"
     },
     "output_type": "display_data"
    },
    {
     "data": {
      "image/png": "[encoded data removed]",
      "text/plain": [
       "<Figure size 432x288 with 1 Axes>"
      ]
     },
     "metadata": {
      "needs_background": "light"
     },
     "output_type": "display_data"
    },
    {
     "data": {
      "image/png": "[encoded data removed]",
      "text/plain": [
       "<Figure size 432x288 with 1 Axes>"
      ]
     },
     "metadata": {
      "needs_background": "light"
     },
     "output_type": "display_data"
    },
    {
     "data": {
      "image/png": "[encoded data removed]",
      "text/plain": [
       "<Figure size 432x288 with 1 Axes>"
      ]
     },
     "metadata": {
      "needs_background": "light"
     },
     "output_type": "display_data"
    }
   ],
   "source": [
    "for i in inp_data_dime.columns:\n",
    "    sb.boxplot(data_clust['M3'],data_clust[i])\n",
    "    plt.show()"
   ]
  },
  {
   "cell_type": "markdown",
   "metadata": {},
   "source": [
    "<h1 class=\"list-group-item list-group-item-action active\" data-toggle=\"list\"  role=\"tab\" aria-controls=\"home\">Section B - 10 Marks </h1> "
   ]
  },
  {
   "cell_type": "markdown",
   "metadata": {},
   "source": [
    "### 2. Apply K means clustering and identify the ideal value of K using elbow and silhoutee method"
   ]
  },
  {
   "cell_type": "code",
   "execution_count": 95,
   "metadata": {},
   "outputs": [
    {
     "name": "stdout",
     "output_type": "stream",
     "text": [
      "11661.000000000002\n",
      "8755.920186339426\n",
      "6209.027839799276\n",
      "5023.080205344631\n",
      "4481.727308859516\n",
      "3984.056317021498\n",
      "3570.962234315231\n",
      "3345.839858803203\n"
     ]
    },
    {
     "data": {
      "text/plain": [
       "[<matplotlib.lines.Line2D at 0x21891942f98>]"
      ]
     },
     "execution_count": 95,
     "metadata": {},
     "output_type": "execute_result"
    },
    {
     "data": {
      "image/png": "[encoded data removed]",
      "text/plain": [
       "<Figure size 432x288 with 1 Axes>"
      ]
     },
     "metadata": {
      "needs_background": "light"
     },
     "output_type": "display_data"
    }
   ],
   "source": [
    "from sklearn.cluster import KMeans\n",
    "wcss=[]\n",
    "cl=[1,2,3,4,5,6,7,8]\n",
    "for i in cl:\n",
    "    mod=KMeans(n_clusters=i,random_state=10)\n",
    "    mod.fit(data_sc)\n",
    "    print(mod.inertia_)\n",
    "    wcss.append(mod.inertia_)\n",
    "plt.plot(cl,wcss)    "
   ]
  },
  {
   "cell_type": "code",
   "execution_count": null,
   "metadata": {},
   "outputs": [],
   "source": [
    "# at k =3, elbow point is visible. 3 groups can be well extracted from this dataset"
   ]
  },
  {
   "cell_type": "code",
   "execution_count": 96,
   "metadata": {},
   "outputs": [
    {
     "data": {
      "text/html": [
       "<div>\n",
       "<style scoped>\n",
       "    .dataframe tbody tr th:only-of-type {\n",
       "        vertical-align: middle;\n",
       "    }\n",
       "\n",
       "    .dataframe tbody tr th {\n",
       "        vertical-align: top;\n",
       "    }\n",
       "\n",
       "    .dataframe thead th {\n",
       "        text-align: right;\n",
       "    }\n",
       "</style>\n",
       "<table border=\"1\" class=\"dataframe\">\n",
       "  <thead>\n",
       "    <tr style=\"text-align: right;\">\n",
       "      <th></th>\n",
       "      <th>k</th>\n",
       "      <th>silhoutee</th>\n",
       "    </tr>\n",
       "  </thead>\n",
       "  <tbody>\n",
       "    <tr>\n",
       "      <th>0</th>\n",
       "      <td>2</td>\n",
       "      <td>0.312920</td>\n",
       "    </tr>\n",
       "    <tr>\n",
       "      <th>1</th>\n",
       "      <td>3</td>\n",
       "      <td>0.318097</td>\n",
       "    </tr>\n",
       "    <tr>\n",
       "      <th>2</th>\n",
       "      <td>4</td>\n",
       "      <td>0.303855</td>\n",
       "    </tr>\n",
       "    <tr>\n",
       "      <th>3</th>\n",
       "      <td>5</td>\n",
       "      <td>0.237326</td>\n",
       "    </tr>\n",
       "    <tr>\n",
       "      <th>4</th>\n",
       "      <td>6</td>\n",
       "      <td>0.255788</td>\n",
       "    </tr>\n",
       "    <tr>\n",
       "      <th>5</th>\n",
       "      <td>7</td>\n",
       "      <td>0.257910</td>\n",
       "    </tr>\n",
       "    <tr>\n",
       "      <th>6</th>\n",
       "      <td>8</td>\n",
       "      <td>0.259965</td>\n",
       "    </tr>\n",
       "  </tbody>\n",
       "</table>\n",
       "</div>"
      ],
      "text/plain": [
       "   k  silhoutee\n",
       "0  2   0.312920\n",
       "1  3   0.318097\n",
       "2  4   0.303855\n",
       "3  5   0.237326\n",
       "4  6   0.255788\n",
       "5  7   0.257910\n",
       "6  8   0.259965"
      ]
     },
     "execution_count": 96,
     "metadata": {},
     "output_type": "execute_result"
    }
   ],
   "source": [
    "sil=[]\n",
    "from sklearn.metrics import silhouette_score\n",
    "cl=[2,3,4,5,6,7,8]\n",
    "for i in cl:\n",
    "    mod=KMeans(n_clusters=i)\n",
    "    mod.fit(data_sc)\n",
    "    sil.append(silhouette_score(data_sc,mod.labels_))\n",
    "res=pd.DataFrame({'k':cl,'silhoutee':sil})\n",
    "res"
   ]
  },
  {
   "cell_type": "code",
   "execution_count": 97,
   "metadata": {},
   "outputs": [],
   "source": [
    "# at k =3, silhoutee score is high. 3 groups can be well extracted from this dataset\n",
    "# students can also try the silhoutee plot for each cluster"
   ]
  },
  {
   "cell_type": "markdown",
   "metadata": {},
   "source": [
    "<h1 class=\"list-group-item list-group-item-action active\" data-toggle=\"list\"  role=\"tab\" aria-controls=\"home\">Section C - 10 Marks </h1> "
   ]
  },
  {
   "cell_type": "markdown",
   "metadata": {
    "colab_type": "text",
    "id": "rsO5AATt42Cl"
   },
   "source": [
    "### 3. Apply PCA on the data. How many PCs are required to reproduce the 95% charecteristics of original data. What is the top 5 features contributing in PC1 ?(5 marks)\n",
    "\n",
    "\n",
    "### 4. Build the following ML model and compare its performace: (5 Marks)\n",
    "    a. ML model with original inp_data_dime and out\n",
    "    b. ML model with inp_data_dime_pca and out\n",
    "\n",
    "    (Note: the pca components (inp_data_dime_pca) must capture the 95 percent varaince in the data) "
   ]
  },
  {
   "cell_type": "code",
   "execution_count": 98,
   "metadata": {},
   "outputs": [
    {
     "name": "stdout",
     "output_type": "stream",
     "text": [
      "The number of principle components capturing 95 percent varaition is data is :  5  Varaince explained is  0.9634375924950878\n"
     ]
    }
   ],
   "source": [
    "from sklearn.decomposition import PCA \n",
    "pca = PCA(n_components = data_sc.shape[1])\n",
    "pca_data = pca.fit_transform(data_sc)\n",
    "exp_var_ratio= pca.explained_variance_ratio_\n",
    "exp_var_ratio.round(3)\n",
    "\n",
    "cum_var=exp_var_ratio[0]\n",
    "itr=2 # defined as two as first pc1 variance defined outside the loop\n",
    "for j in exp_var_ratio[1:]:\n",
    "    cum_var=cum_var+j\n",
    "    if cum_var >= 0.95:\n",
    "        break\n",
    "    itr=itr+1\n",
    "\n",
    "print('The number of principle components capturing 95 percent varaition is data is : ',itr,' Varaince explained is ', cum_var)"
   ]
  },
  {
   "cell_type": "code",
   "execution_count": 99,
   "metadata": {},
   "outputs": [
    {
     "data": {
      "text/plain": [
       "Text(0, 0.5, 'Variance Ratio')"
      ]
     },
     "execution_count": 99,
     "metadata": {},
     "output_type": "execute_result"
    },
    {
     "data": {
      "image/png": "[encoded data removed]",
      "text/plain": [
       "<Figure size 432x288 with 1 Axes>"
      ]
     },
     "metadata": {
      "needs_background": "light"
     },
     "output_type": "display_data"
    }
   ],
   "source": [
    "# Variance Ratio bar plot for each PCA components.\n",
    "ax = plt.bar(range(1,len(pca.explained_variance_ratio_)+1), pca.explained_variance_ratio_)\n",
    "plt.xlabel(\"PCA Components\",fontweight = 'bold')\n",
    "plt.ylabel(\"Variance Ratio\",fontweight = 'bold')"
   ]
  },
  {
   "cell_type": "code",
   "execution_count": 66,
   "metadata": {},
   "outputs": [
    {
     "data": {
      "text/html": [
       "<div>\n",
       "<style scoped>\n",
       "    .dataframe tbody tr th:only-of-type {\n",
       "        vertical-align: middle;\n",
       "    }\n",
       "\n",
       "    .dataframe tbody tr th {\n",
       "        vertical-align: top;\n",
       "    }\n",
       "\n",
       "    .dataframe thead th {\n",
       "        text-align: right;\n",
       "    }\n",
       "</style>\n",
       "<table border=\"1\" class=\"dataframe\">\n",
       "  <thead>\n",
       "    <tr style=\"text-align: right;\">\n",
       "      <th></th>\n",
       "      <th>0</th>\n",
       "    </tr>\n",
       "  </thead>\n",
       "  <tbody>\n",
       "    <tr>\n",
       "      <th>N9</th>\n",
       "      <td>0.447960</td>\n",
       "    </tr>\n",
       "    <tr>\n",
       "      <th>N4</th>\n",
       "      <td>0.446419</td>\n",
       "    </tr>\n",
       "    <tr>\n",
       "      <th>N10</th>\n",
       "      <td>0.446194</td>\n",
       "    </tr>\n",
       "    <tr>\n",
       "      <th>N3</th>\n",
       "      <td>0.429434</td>\n",
       "    </tr>\n",
       "    <tr>\n",
       "      <th>N13</th>\n",
       "      <td>0.395936</td>\n",
       "    </tr>\n",
       "  </tbody>\n",
       "</table>\n",
       "</div>"
      ],
      "text/plain": [
       "            0\n",
       "N9   0.447960\n",
       "N4   0.446419\n",
       "N10  0.446194\n",
       "N3   0.429434\n",
       "N13  0.395936"
      ]
     },
     "execution_count": 66,
     "metadata": {},
     "output_type": "execute_result"
    }
   ],
   "source": [
    "# PC1 is derived from first eigen vector\n",
    "e1=pd.DataFrame(pca.components_[0,:]) # first eigen vector\n",
    "e1.index=data_sc.columns\n",
    "e11=np.abs(e1)\n",
    "e11.sort_values(0,ascending=False).head(5) # Top 5 features contributing in PC1"
   ]
  },
  {
   "cell_type": "code",
   "execution_count": 85,
   "metadata": {},
   "outputs": [
    {
     "name": "stdout",
     "output_type": "stream",
     "text": [
      "The number of input feature  14\n",
      "              precision    recall  f1-score   support\n",
      "\n",
      "        HOLD       1.00      0.80      0.89        10\n",
      "       RAISE       0.99      1.00      1.00       166\n",
      "        STOP       0.60      0.75      0.67         4\n",
      "\n",
      "    accuracy                           0.98       180\n",
      "   macro avg       0.86      0.85      0.85       180\n",
      "weighted avg       0.99      0.98      0.98       180\n",
      "\n"
     ]
    },
    {
     "name": "stderr",
     "output_type": "stream",
     "text": [
      "C:\\Users\\tksen\\Anaconda3\\lib\\site-packages\\sklearn\\ensemble\\forest.py:245: FutureWarning: The default value of n_estimators will change from 10 in version 0.20 to 100 in 0.22.\n",
      "  \"10 in version 0.20 to 100 in 0.22.\", FutureWarning)\n",
      "C:\\Users\\tksen\\Anaconda3\\lib\\site-packages\\sklearn\\utils\\fixes.py:223: DeprecationWarning: distutils Version classes are deprecated. Use packaging.version instead.\n",
      "  if _joblib.__version__ >= LooseVersion('0.12'):\n",
      "C:\\Users\\tksen\\Anaconda3\\lib\\site-packages\\sklearn\\utils\\fixes.py:223: DeprecationWarning: distutils Version classes are deprecated. Use packaging.version instead.\n",
      "  if _joblib.__version__ >= LooseVersion('0.12'):\n"
     ]
    }
   ],
   "source": [
    "### 5. Build the following ML model and compare its performace: (5 Marks)\n",
    "    #a. ML model with original inp_data_dime and out\n",
    "    #b. ML model with inp_data_dime_pca and out\n",
    "    #(Note: For pca and svd use the number of components which captures the 95 percent of variance) \n",
    "    \n",
    "from sklearn.model_selection import train_test_split\n",
    "from sklearn.ensemble import RandomForestClassifier\n",
    "from sklearn.metrics import classification_report\n",
    "\n",
    "xtrain,xtest,ytrain,ytest=train_test_split(data_sc,out,test_size=0.2,random_state=48)\n",
    "rf=RandomForestClassifier(random_state=48)\n",
    "rf.fit(xtrain,ytrain)\n",
    "ypred=rf.predict(xtest)\n",
    "print('The number of input feature ',xtrain.shape[1])\n",
    "print(classification_report(ytest,ypred))"
   ]
  },
  {
   "cell_type": "code",
   "execution_count": 90,
   "metadata": {},
   "outputs": [
    {
     "name": "stdout",
     "output_type": "stream",
     "text": [
      "The number of PCA components  5\n",
      "              precision    recall  f1-score   support\n",
      "\n",
      "        HOLD       0.80      0.40      0.53        10\n",
      "       RAISE       0.95      1.00      0.97       166\n",
      "        STOP       0.00      0.00      0.00         4\n",
      "\n",
      "    accuracy                           0.94       180\n",
      "   macro avg       0.58      0.47      0.50       180\n",
      "weighted avg       0.92      0.94      0.93       180\n",
      "\n"
     ]
    },
    {
     "name": "stderr",
     "output_type": "stream",
     "text": [
      "C:\\Users\\tksen\\Anaconda3\\lib\\site-packages\\sklearn\\ensemble\\forest.py:245: FutureWarning: The default value of n_estimators will change from 10 in version 0.20 to 100 in 0.22.\n",
      "  \"10 in version 0.20 to 100 in 0.22.\", FutureWarning)\n",
      "C:\\Users\\tksen\\Anaconda3\\lib\\site-packages\\sklearn\\utils\\fixes.py:223: DeprecationWarning: distutils Version classes are deprecated. Use packaging.version instead.\n",
      "  if _joblib.__version__ >= LooseVersion('0.12'):\n",
      "C:\\Users\\tksen\\Anaconda3\\lib\\site-packages\\sklearn\\utils\\fixes.py:223: DeprecationWarning: distutils Version classes are deprecated. Use packaging.version instead.\n",
      "  if _joblib.__version__ >= LooseVersion('0.12'):\n",
      "C:\\Users\\tksen\\Anaconda3\\lib\\site-packages\\sklearn\\metrics\\classification.py:1437: UndefinedMetricWarning: Precision and F-score are ill-defined and being set to 0.0 in labels with no predicted samples.\n",
      "  'precision', 'predicted', average, warn_for)\n"
     ]
    }
   ],
   "source": [
    "xtrain,xtest,ytrain,ytest=train_test_split(pca_data[:,:5],out,test_size=0.2,random_state=48)\n",
    "rf=RandomForestClassifier(random_state=48)\n",
    "rf.fit(xtrain,ytrain)\n",
    "ypred=rf.predict(xtest)\n",
    "print('The number of PCA components ',xtrain.shape[1])\n",
    "print(classification_report(ytest,ypred))"
   ]
  },
  {
   "cell_type": "code",
   "execution_count": 100,
   "metadata": {},
   "outputs": [],
   "source": [
    "# PCA is producing reasonable performance with only 5 components(transformed features)\n",
    "# representation for two levels (STOP and Hold) in the output column is very low."
   ]
  },
  {
   "cell_type": "markdown",
   "metadata": {},
   "source": [
    "<h1 class=\"list-group-item list-group-item-action active\" data-toggle=\"list\"  role=\"tab\" aria-controls=\"home\">Section D - 15 Marks </h1> "
   ]
  },
  {
   "cell_type": "markdown",
   "metadata": {},
   "source": [
    "### 5. Recommondation Systems\n",
    "### Build collaborative recommendation engine to predict a rating for an specific item by the specific user. Measure the model quality in terms of RMSE"
   ]
  },
  {
   "cell_type": "code",
   "execution_count": 128,
   "metadata": {},
   "outputs": [],
   "source": [
    "#!pip install scikit-surprise"
   ]
  },
  {
   "cell_type": "code",
   "execution_count": 101,
   "metadata": {},
   "outputs": [
    {
     "data": {
      "text/html": [
       "<div>\n",
       "<style scoped>\n",
       "    .dataframe tbody tr th:only-of-type {\n",
       "        vertical-align: middle;\n",
       "    }\n",
       "\n",
       "    .dataframe tbody tr th {\n",
       "        vertical-align: top;\n",
       "    }\n",
       "\n",
       "    .dataframe thead th {\n",
       "        text-align: right;\n",
       "    }\n",
       "</style>\n",
       "<table border=\"1\" class=\"dataframe\">\n",
       "  <thead>\n",
       "    <tr style=\"text-align: right;\">\n",
       "      <th></th>\n",
       "      <th>userId</th>\n",
       "      <th>productId</th>\n",
       "      <th>Rating</th>\n",
       "    </tr>\n",
       "  </thead>\n",
       "  <tbody>\n",
       "    <tr>\n",
       "      <th>0</th>\n",
       "      <td>A2CX7LUOHB2NDG</td>\n",
       "      <td>321732944</td>\n",
       "      <td>5</td>\n",
       "    </tr>\n",
       "    <tr>\n",
       "      <th>1</th>\n",
       "      <td>A2NWSAGRHCP8N5</td>\n",
       "      <td>439886341</td>\n",
       "      <td>1</td>\n",
       "    </tr>\n",
       "  </tbody>\n",
       "</table>\n",
       "</div>"
      ],
      "text/plain": [
       "           userId  productId  Rating\n",
       "0  A2CX7LUOHB2NDG  321732944       5\n",
       "1  A2NWSAGRHCP8N5  439886341       1"
      ]
     },
     "execution_count": 101,
     "metadata": {},
     "output_type": "execute_result"
    }
   ],
   "source": [
    "data_recom.head(2)"
   ]
  },
  {
   "cell_type": "code",
   "execution_count": 105,
   "metadata": {},
   "outputs": [],
   "source": [
    "from surprise import KNNWithMeans,SVDpp\n",
    "from surprise import Dataset\n",
    "from surprise import accuracy\n",
    "from surprise import Reader\n",
    "from surprise.model_selection import train_test_split,cross_validate\n",
    "#data_recom=pd.read_csv('recommendation_mini.csv')\n",
    "ratings = data_recom\n",
    "reader = Reader(rating_scale=(1, 5))"
   ]
  },
  {
   "cell_type": "code",
   "execution_count": 108,
   "metadata": {},
   "outputs": [],
   "source": [
    "rating_data = Dataset.load_from_df(ratings[['userId','productId','Rating']],reader)\n",
    "[trainset, testset] = train_test_split(rating_data, test_size=.15,shuffle=True)"
   ]
  },
  {
   "cell_type": "code",
   "execution_count": 109,
   "metadata": {},
   "outputs": [
    {
     "name": "stdout",
     "output_type": "stream",
     "text": [
      "Number of users:  1988 \n",
      "\n",
      "Number of items:  59 \n",
      "\n"
     ]
    }
   ],
   "source": [
    "trainsetfull = rating_data.build_full_trainset()\n",
    "print('Number of users: ', trainsetfull.n_users, '\\n')\n",
    "print('Number of items: ', trainsetfull.n_items, '\\n')"
   ]
  },
  {
   "cell_type": "code",
   "execution_count": 110,
   "metadata": {},
   "outputs": [
    {
     "data": {
      "text/plain": [
       "<surprise.prediction_algorithms.matrix_factorization.SVDpp at 0x2188a792b70>"
      ]
     },
     "execution_count": 110,
     "metadata": {},
     "output_type": "execute_result"
    }
   ],
   "source": [
    "alg=SVDpp()\n",
    "alg.fit(trainsetfull)  # Student can use any other algo "
   ]
  },
  {
   "cell_type": "code",
   "execution_count": 127,
   "metadata": {},
   "outputs": [
    {
     "data": {
      "text/plain": [
       "Prediction(uid='A2CX7LUOHB2NDG', iid='059400232X', r_ui=None, est=4.367620677870198, details={'was_impossible': False})"
      ]
     },
     "execution_count": 127,
     "metadata": {},
     "output_type": "execute_result"
    }
   ],
   "source": [
    "#Predict the rating for an Item 059400232X by the user A2CX7LUOHB2NDG\n",
    "alg.predict(uid = 'A2CX7LUOHB2NDG', iid ='059400232X')"
   ]
  },
  {
   "cell_type": "code",
   "execution_count": 126,
   "metadata": {},
   "outputs": [
    {
     "data": {
      "text/plain": [
       "1.2585196552579956"
      ]
     },
     "execution_count": 126,
     "metadata": {},
     "output_type": "execute_result"
    }
   ],
   "source": [
    "results = cross_validate(\n",
    "    algo = alg, data = rating_data, measures=['RMSE'], \n",
    "    cv=3)\n",
    "results['test_rmse'].mean()"
   ]
  },
  {
   "cell_type": "code",
   "execution_count": null,
   "metadata": {},
   "outputs": [],
   "source": [
    "# Model's RMSE is 1.2585"
   ]
  },
  {
   "cell_type": "code",
   "execution_count": null,
   "metadata": {},
   "outputs": [],
   "source": []
  }
 ],
 "metadata": {
  "kernelspec": {
   "display_name": "Python 3 (ipykernel)",
   "language": "python",
   "name": "python3"
  },
  "language_info": {
   "codemirror_mode": {
    "name": "ipython",
    "version": 3
   },
   "file_extension": ".py",
   "mimetype": "text/x-python",
   "name": "python",
   "nbconvert_exporter": "python",
   "pygments_lexer": "ipython3",
   "version": "3.11.7"
  }
 },
 "nbformat": 4,
 "nbformat_minor": 4
}
