{
 "cells": [
  {
   "cell_type": "code",
   "execution_count": null,
   "id": "6e63811b",
   "metadata": {
    "id": "6e63811b"
   },
   "outputs": [],
   "source": [
    "# Required Libraries\n",
    "import re\n",
    "import unicodedata\n",
    "import nltk\n",
    "import string\n",
    "from nltk.corpus import stopwords\n",
    "from collections import Counter\n",
    "from gensim.models import Word2Vec\n",
    "from sklearn.feature_extraction.text import CountVectorizer, TfidfVectorizer\n",
    "from tensorflow.keras.models import Sequential\n",
    "from tensorflow.keras.layers import LSTM, Dense, Embedding, SpatialDropout1D\n",
    "from tensorflow.keras.preprocessing.sequence import pad_sequences\n",
    "from tensorflow.keras.preprocessing.text import Tokenizer\n",
    "import numpy as np\n",
    "import pandas as pd\n",
    "from sklearn.metrics import confusion_matrix, accuracy_score\n",
    "import matplotlib.pyplot as plt\n",
    "import seaborn as sns\n",
    "from keras.utils import to_categorical\n",
    "\n",
    "# # Download NLTK stopwords\n",
    "nltk.download('stopwords')\n",
    "nltk.download('punkt')"
   ]
  },
  {
   "cell_type": "markdown",
   "id": "_ZGA3Q42XP_1",
   "metadata": {
    "id": "_ZGA3Q42XP_1"
   },
   "source": [
    "## 2. Use the data.csv dataset as provided as pandas DataFrame and  process the text feature as questioned below."
   ]
  },
  {
   "cell_type": "code",
   "execution_count": null,
   "id": "8e4cb9dc",
   "metadata": {
    "colab": {
     "base_uri": "https://localhost:8080/",
     "height": 241
    },
    "executionInfo": {
     "elapsed": 1364,
     "status": "ok",
     "timestamp": 1720536349563,
     "user": {
      "displayName": "Pruthiv Rajan",
      "userId": "11796182793945765211"
     },
     "user_tz": -330
    },
    "id": "8e4cb9dc",
    "outputId": "48f9f27a-b8d9-4bba-c408-078f0ba9f564"
   },
   "outputs": [
    {
     "name": "stdout",
     "output_type": "stream",
     "text": [
      "Dataset dimension is :  (179, 4)\n",
      "Dataset Smaple \n"
     ]
    },
    {
     "data": {
      "application/vnd.google.colaboratory.intrinsic+json": {
       "summary": "{\n  \"name\": \"df\",\n  \"rows\": 179,\n  \"fields\": [\n    {\n      \"column\": \"Unnamed: 0\",\n      \"properties\": {\n        \"dtype\": \"number\",\n        \"std\": 51,\n        \"min\": 0,\n        \"max\": 178,\n        \"num_unique_values\": 179,\n        \"samples\": [\n          78,\n          16,\n          65\n        ],\n        \"semantic_type\": \"\",\n        \"description\": \"\"\n      }\n    },\n    {\n      \"column\": \"Id\",\n      \"properties\": {\n        \"dtype\": \"number\",\n        \"std\": 163432,\n        \"min\": 3306,\n        \"max\": 568004,\n        \"num_unique_values\": 179,\n        \"samples\": [\n          256860,\n          55543,\n          207660\n        ],\n        \"semantic_type\": \"\",\n        \"description\": \"\"\n      }\n    },\n    {\n      \"column\": \"Text\",\n      \"properties\": {\n        \"dtype\": \"string\",\n        \"num_unique_values\": 179,\n        \"samples\": [\n          \"It says that you will receive two 8oz packages of these.<br />I only recieved a box with one 8oz bag. They're good quality :), but they lie and don't tell the truth about what your getting.\",\n          \"This product was not bad, but was disappointing.  The box promises \\\"roasted nut and honey.\\\"  While I could detect the \\\"honey\\\" flavor, rendered as a glaze more reminiscent of sugar than honey, there is little to no nut flavor.  In deed the product image shows each \\\"O\\\" covered in nuts and promises, \\\"nuts in every bite,\\\" the actual appearance is much different with no visible nuts on the cereal.<br /><br />The texture is fine.  The crunch holds up in milk.  It is more of an airy texture than say a dense Cheerio.  More the texture of Honeycomb brand cereal.<br /><br />Nutritionally this product is mediocre.  Again not bad, but could be better.  Sugars rack in at 10g, less than many sugar sweetened cereal but still high.  Fiber is 2g which is something, but a bit low.  1g of fat is gaood and none of it saturated or trans fat.<br /><br />I will finish the box, but will not by more of these again.\",\n          \"I usually don't write reviews much but I really felt that I need to for this particular tea. I absolutely dislike it and it smells quite bad. I thought I'd try to finish the package anyway but now that it's sitting in my office, I realize that I cannot stand the smell of this tea AT ALL. So the rest of the box (almost full) will have to go into the trash.\"\n        ],\n        \"semantic_type\": \"\",\n        \"description\": \"\"\n      }\n    },\n    {\n      \"column\": \"Score\",\n      \"properties\": {\n        \"dtype\": \"number\",\n        \"std\": 1,\n        \"min\": 1,\n        \"max\": 5,\n        \"num_unique_values\": 5,\n        \"samples\": [\n          5,\n          4,\n          1\n        ],\n        \"semantic_type\": \"\",\n        \"description\": \"\"\n      }\n    }\n  ]\n}",
       "type": "dataframe",
       "variable_name": "df"
      },
      "text/html": [
       "\n",
       "  <div id=\"df-3bd6b832-3e7e-44f5-8b93-c2738001ae79\" class=\"colab-df-container\">\n",
       "    <div>\n",
       "<style scoped>\n",
       "    .dataframe tbody tr th:only-of-type {\n",
       "        vertical-align: middle;\n",
       "    }\n",
       "\n",
       "    .dataframe tbody tr th {\n",
       "        vertical-align: top;\n",
       "    }\n",
       "\n",
       "    .dataframe thead th {\n",
       "        text-align: right;\n",
       "    }\n",
       "</style>\n",
       "<table border=\"1\" class=\"dataframe\">\n",
       "  <thead>\n",
       "    <tr style=\"text-align: right;\">\n",
       "      <th></th>\n",
       "      <th>Unnamed: 0</th>\n",
       "      <th>Id</th>\n",
       "      <th>Text</th>\n",
       "      <th>Score</th>\n",
       "    </tr>\n",
       "  </thead>\n",
       "  <tbody>\n",
       "    <tr>\n",
       "      <th>0</th>\n",
       "      <td>0</td>\n",
       "      <td>3306</td>\n",
       "      <td>I HATE SUCRALOSE.&lt;br /&gt;&lt;br /&gt;Honestly, I don't...</td>\n",
       "      <td>3</td>\n",
       "    </tr>\n",
       "    <tr>\n",
       "      <th>1</th>\n",
       "      <td>1</td>\n",
       "      <td>7851</td>\n",
       "      <td>I love rice and this was good with all kinds o...</td>\n",
       "      <td>5</td>\n",
       "    </tr>\n",
       "    <tr>\n",
       "      <th>2</th>\n",
       "      <td>2</td>\n",
       "      <td>17227</td>\n",
       "      <td>I would like to tell this company that the who...</td>\n",
       "      <td>1</td>\n",
       "    </tr>\n",
       "    <tr>\n",
       "      <th>3</th>\n",
       "      <td>3</td>\n",
       "      <td>18152</td>\n",
       "      <td>The label says that this product is made by re...</td>\n",
       "      <td>2</td>\n",
       "    </tr>\n",
       "    <tr>\n",
       "      <th>4</th>\n",
       "      <td>4</td>\n",
       "      <td>21017</td>\n",
       "      <td>I ordered the GREENIES 'PETITE' size for my do...</td>\n",
       "      <td>3</td>\n",
       "    </tr>\n",
       "  </tbody>\n",
       "</table>\n",
       "</div>\n",
       "    <div class=\"colab-df-buttons\">\n",
       "\n",
       "  <div class=\"colab-df-container\">\n",
       "    <button class=\"colab-df-convert\" onclick=\"convertToInteractive('df-3bd6b832-3e7e-44f5-8b93-c2738001ae79')\"\n",
       "            title=\"Convert this dataframe to an interactive table.\"\n",
       "            style=\"display:none;\">\n",
       "\n",
       "  <svg xmlns=\"http://www.w3.org/2000/svg\" height=\"24px\" viewBox=\"0 -960 960 960\">\n",
       "    <path d=\"M120-120v-720h720v720H120Zm60-500h600v-160H180v160Zm220 220h160v-160H400v160Zm0 220h160v-160H400v160ZM180-400h160v-160H180v160Zm440 0h160v-160H620v160ZM180-180h160v-160H180v160Zm440 0h160v-160H620v160Z\"/>\n",
       "  </svg>\n",
       "    </button>\n",
       "\n",
       "  <style>\n",
       "    .colab-df-container {\n",
       "      display:flex;\n",
       "      gap: 12px;\n",
       "    }\n",
       "\n",
       "    .colab-df-convert {\n",
       "      background-color: #E8F0FE;\n",
       "      border: none;\n",
       "      border-radius: 50%;\n",
       "      cursor: pointer;\n",
       "      display: none;\n",
       "      fill: #1967D2;\n",
       "      height: 32px;\n",
       "      padding: 0 0 0 0;\n",
       "      width: 32px;\n",
       "    }\n",
       "\n",
       "    .colab-df-convert:hover {\n",
       "      background-color: #E2EBFA;\n",
       "      box-shadow: 0px 1px 2px rgba(60, 64, 67, 0.3), 0px 1px 3px 1px rgba(60, 64, 67, 0.15);\n",
       "      fill: #174EA6;\n",
       "    }\n",
       "\n",
       "    .colab-df-buttons div {\n",
       "      margin-bottom: 4px;\n",
       "    }\n",
       "\n",
       "    [theme=dark] .colab-df-convert {\n",
       "      background-color: #3B4455;\n",
       "      fill: #D2E3FC;\n",
       "    }\n",
       "\n",
       "    [theme=dark] .colab-df-convert:hover {\n",
       "      background-color: #434B5C;\n",
       "      box-shadow: 0px 1px 3px 1px rgba(0, 0, 0, 0.15);\n",
       "      filter: drop-shadow(0px 1px 2px rgba(0, 0, 0, 0.3));\n",
       "      fill: #FFFFFF;\n",
       "    }\n",
       "  </style>\n",
       "\n",
       "    <script>\n",
       "      const buttonEl =\n",
       "        document.querySelector('#df-3bd6b832-3e7e-44f5-8b93-c2738001ae79 button.colab-df-convert');\n",
       "      buttonEl.style.display =\n",
       "        google.colab.kernel.accessAllowed ? 'block' : 'none';\n",
       "\n",
       "      async function convertToInteractive(key) {\n",
       "        const element = document.querySelector('#df-3bd6b832-3e7e-44f5-8b93-c2738001ae79');\n",
       "        const dataTable =\n",
       "          await google.colab.kernel.invokeFunction('convertToInteractive',\n",
       "                                                    [key], {});\n",
       "        if (!dataTable) return;\n",
       "\n",
       "        const docLinkHtml = 'Like what you see? Visit the ' +\n",
       "          '<a target=\"_blank\" href=https://colab.research.google.com/notebooks/data_table.ipynb>data table notebook</a>'\n",
       "          + ' to learn more about interactive tables.';\n",
       "        element.innerHTML = '';\n",
       "        dataTable['output_type'] = 'display_data';\n",
       "        await google.colab.output.renderOutput(dataTable, element);\n",
       "        const docLink = document.createElement('div');\n",
       "        docLink.innerHTML = docLinkHtml;\n",
       "        element.appendChild(docLink);\n",
       "      }\n",
       "    </script>\n",
       "  </div>\n",
       "\n",
       "\n",
       "<div id=\"df-cf1322b0-f387-4dce-b335-f47c2d4e250e\">\n",
       "  <button class=\"colab-df-quickchart\" onclick=\"quickchart('df-cf1322b0-f387-4dce-b335-f47c2d4e250e')\"\n",
       "            title=\"Suggest charts\"\n",
       "            style=\"display:none;\">\n",
       "\n",
       "<svg xmlns=\"http://www.w3.org/2000/svg\" height=\"24px\"viewBox=\"0 0 24 24\"\n",
       "     width=\"24px\">\n",
       "    <g>\n",
       "        <path d=\"M19 3H5c-1.1 0-2 .9-2 2v14c0 1.1.9 2 2 2h14c1.1 0 2-.9 2-2V5c0-1.1-.9-2-2-2zM9 17H7v-7h2v7zm4 0h-2V7h2v10zm4 0h-2v-4h2v4z\"/>\n",
       "    </g>\n",
       "</svg>\n",
       "  </button>\n",
       "\n",
       "<style>\n",
       "  .colab-df-quickchart {\n",
       "      --bg-color: #E8F0FE;\n",
       "      --fill-color: #1967D2;\n",
       "      --hover-bg-color: #E2EBFA;\n",
       "      --hover-fill-color: #174EA6;\n",
       "      --disabled-fill-color: #AAA;\n",
       "      --disabled-bg-color: #DDD;\n",
       "  }\n",
       "\n",
       "  [theme=dark] .colab-df-quickchart {\n",
       "      --bg-color: #3B4455;\n",
       "      --fill-color: #D2E3FC;\n",
       "      --hover-bg-color: #434B5C;\n",
       "      --hover-fill-color: #FFFFFF;\n",
       "      --disabled-bg-color: #3B4455;\n",
       "      --disabled-fill-color: #666;\n",
       "  }\n",
       "\n",
       "  .colab-df-quickchart {\n",
       "    background-color: var(--bg-color);\n",
       "    border: none;\n",
       "    border-radius: 50%;\n",
       "    cursor: pointer;\n",
       "    display: none;\n",
       "    fill: var(--fill-color);\n",
       "    height: 32px;\n",
       "    padding: 0;\n",
       "    width: 32px;\n",
       "  }\n",
       "\n",
       "  .colab-df-quickchart:hover {\n",
       "    background-color: var(--hover-bg-color);\n",
       "    box-shadow: 0 1px 2px rgba(60, 64, 67, 0.3), 0 1px 3px 1px rgba(60, 64, 67, 0.15);\n",
       "    fill: var(--button-hover-fill-color);\n",
       "  }\n",
       "\n",
       "  .colab-df-quickchart-complete:disabled,\n",
       "  .colab-df-quickchart-complete:disabled:hover {\n",
       "    background-color: var(--disabled-bg-color);\n",
       "    fill: var(--disabled-fill-color);\n",
       "    box-shadow: none;\n",
       "  }\n",
       "\n",
       "  .colab-df-spinner {\n",
       "    border: 2px solid var(--fill-color);\n",
       "    border-color: transparent;\n",
       "    border-bottom-color: var(--fill-color);\n",
       "    animation:\n",
       "      spin 1s steps(1) infinite;\n",
       "  }\n",
       "\n",
       "  @keyframes spin {\n",
       "    0% {\n",
       "      border-color: transparent;\n",
       "      border-bottom-color: var(--fill-color);\n",
       "      border-left-color: var(--fill-color);\n",
       "    }\n",
       "    20% {\n",
       "      border-color: transparent;\n",
       "      border-left-color: var(--fill-color);\n",
       "      border-top-color: var(--fill-color);\n",
       "    }\n",
       "    30% {\n",
       "      border-color: transparent;\n",
       "      border-left-color: var(--fill-color);\n",
       "      border-top-color: var(--fill-color);\n",
       "      border-right-color: var(--fill-color);\n",
       "    }\n",
       "    40% {\n",
       "      border-color: transparent;\n",
       "      border-right-color: var(--fill-color);\n",
       "      border-top-color: var(--fill-color);\n",
       "    }\n",
       "    60% {\n",
       "      border-color: transparent;\n",
       "      border-right-color: var(--fill-color);\n",
       "    }\n",
       "    80% {\n",
       "      border-color: transparent;\n",
       "      border-right-color: var(--fill-color);\n",
       "      border-bottom-color: var(--fill-color);\n",
       "    }\n",
       "    90% {\n",
       "      border-color: transparent;\n",
       "      border-bottom-color: var(--fill-color);\n",
       "    }\n",
       "  }\n",
       "</style>\n",
       "\n",
       "  <script>\n",
       "    async function quickchart(key) {\n",
       "      const quickchartButtonEl =\n",
       "        document.querySelector('#' + key + ' button');\n",
       "      quickchartButtonEl.disabled = true;  // To prevent multiple clicks.\n",
       "      quickchartButtonEl.classList.add('colab-df-spinner');\n",
       "      try {\n",
       "        const charts = await google.colab.kernel.invokeFunction(\n",
       "            'suggestCharts', [key], {});\n",
       "      } catch (error) {\n",
       "        console.error('Error during call to suggestCharts:', error);\n",
       "      }\n",
       "      quickchartButtonEl.classList.remove('colab-df-spinner');\n",
       "      quickchartButtonEl.classList.add('colab-df-quickchart-complete');\n",
       "    }\n",
       "    (() => {\n",
       "      let quickchartButtonEl =\n",
       "        document.querySelector('#df-cf1322b0-f387-4dce-b335-f47c2d4e250e button');\n",
       "      quickchartButtonEl.style.display =\n",
       "        google.colab.kernel.accessAllowed ? 'block' : 'none';\n",
       "    })();\n",
       "  </script>\n",
       "</div>\n",
       "\n",
       "    </div>\n",
       "  </div>\n"
      ],
      "text/plain": [
       "   Unnamed: 0     Id                                               Text  Score\n",
       "0           0   3306  I HATE SUCRALOSE.<br /><br />Honestly, I don't...      3\n",
       "1           1   7851  I love rice and this was good with all kinds o...      5\n",
       "2           2  17227  I would like to tell this company that the who...      1\n",
       "3           3  18152  The label says that this product is made by re...      2\n",
       "4           4  21017  I ordered the GREENIES 'PETITE' size for my do...      3"
      ]
     },
     "execution_count": 6,
     "metadata": {},
     "output_type": "execute_result"
    }
   ],
   "source": [
    "df = pd.read_csv('data_set.csv')\n",
    "print(\"Dataset dimension is : \", df.shape)\n",
    "print(\"Dataset Smaple \", )\n",
    "df.head()"
   ]
  },
  {
   "cell_type": "markdown",
   "id": "wi80noxwXTwg",
   "metadata": {
    "id": "wi80noxwXTwg"
   },
   "source": [
    "2 a) Pre-Process the text feature as questioned below. (in the same sequence)\n"
   ]
  },
  {
   "cell_type": "markdown",
   "id": "ip-7CJ35XwpD",
   "metadata": {
    "id": "ip-7CJ35XwpD"
   },
   "source": [
    "2 a) 1.\tRemove the accented characters from text feature. (3 marks)\n"
   ]
  },
  {
   "cell_type": "code",
   "execution_count": null,
   "id": "0e28a2a9",
   "metadata": {
    "id": "0e28a2a9"
   },
   "outputs": [],
   "source": []
  },
  {
   "cell_type": "markdown",
   "id": "_PMil3cKYphM",
   "metadata": {
    "id": "_PMil3cKYphM"
   },
   "source": [
    "2) a) 2)\tRemove digits from text feature. (3)"
   ]
  },
  {
   "cell_type": "code",
   "execution_count": null,
   "id": "872d91d4",
   "metadata": {
    "id": "872d91d4"
   },
   "outputs": [],
   "source": []
  },
  {
   "cell_type": "markdown",
   "id": "jj4mwyvTZ4V8",
   "metadata": {
    "id": "jj4mwyvTZ4V8"
   },
   "source": [
    "2) a) 3)\tRemove punctuations from text feature. (3)"
   ]
  },
  {
   "cell_type": "code",
   "execution_count": null,
   "id": "b6a8ff10",
   "metadata": {
    "id": "b6a8ff10"
   },
   "outputs": [],
   "source": []
  },
  {
   "cell_type": "markdown",
   "id": "yTwNdNwZX4T1",
   "metadata": {
    "id": "yTwNdNwZX4T1"
   },
   "source": [
    "2.a) 4)\tRemove stopwords from text feature.  (3)"
   ]
  },
  {
   "cell_type": "code",
   "execution_count": null,
   "id": "011ee566",
   "metadata": {
    "id": "011ee566"
   },
   "outputs": [],
   "source": []
  },
  {
   "cell_type": "markdown",
   "id": "BBVq0HmjZ9H8",
   "metadata": {
    "id": "BBVq0HmjZ9H8"
   },
   "source": [
    "2) a) 5)\tEliminate multiple spaces from text feature. (3)"
   ]
  },
  {
   "cell_type": "code",
   "execution_count": null,
   "id": "9152ada3",
   "metadata": {
    "id": "9152ada3"
   },
   "outputs": [],
   "source": []
  },
  {
   "cell_type": "markdown",
   "id": "58vihEz-aJbS",
   "metadata": {
    "id": "58vihEz-aJbS"
   },
   "source": [
    "2) b) Find out the 5 most frequent words in the text corpus ((from the preprocessed output of previous question ) (8 Marks)"
   ]
  },
  {
   "cell_type": "code",
   "execution_count": null,
   "id": "851edd76",
   "metadata": {
    "id": "851edd76"
   },
   "outputs": [],
   "source": []
  },
  {
   "cell_type": "markdown",
   "id": "kM2QeouOaXv2",
   "metadata": {
    "id": "kM2QeouOaXv2"
   },
   "source": [
    "2) c) Vectorize the pre-processed text feature by building/training a Skip-Gram Word2Vec model. Use this Skip-Gram Word2Vec model to fetch the top 5 most similar word for the word 'food'.  (marks 3+5 =8)"
   ]
  },
  {
   "cell_type": "code",
   "execution_count": null,
   "id": "245f8661",
   "metadata": {
    "collapsed": true,
    "id": "245f8661",
    "jupyter": {
     "outputs_hidden": true
    }
   },
   "outputs": [],
   "source": []
  },
  {
   "cell_type": "markdown",
   "id": "MR0W1d6taqTE",
   "metadata": {
    "id": "MR0W1d6taqTE"
   },
   "source": [
    "2) d) Vectorize the pre-processed text feature by building a CBOW Word2Vec model. Use the trained CBOW Word2Vec model to fetch the top 5 most similar word for the word 'food'. Is the output different than Skip-Gram’s output? ( marks 5+3+1)"
   ]
  },
  {
   "cell_type": "code",
   "execution_count": null,
   "id": "be431df2",
   "metadata": {
    "id": "be431df2"
   },
   "outputs": [],
   "source": []
  },
  {
   "cell_type": "markdown",
   "id": "3fFFYIOma33I",
   "metadata": {
    "id": "3fFFYIOma33I"
   },
   "source": [
    "## 3. Model Building"
   ]
  },
  {
   "cell_type": "markdown",
   "id": "JRJg5qybbN-E",
   "metadata": {
    "id": "JRJg5qybbN-E"
   },
   "source": [
    "3) a)  Convert Textual output ( of question 2. a) into numerical using countvectorizer  (marks 8)"
   ]
  },
  {
   "cell_type": "code",
   "execution_count": null,
   "id": "yKl-bKbQ1H7X",
   "metadata": {
    "id": "yKl-bKbQ1H7X"
   },
   "outputs": [],
   "source": []
  },
  {
   "cell_type": "markdown",
   "id": "8XqntedGrC-Y",
   "metadata": {
    "id": "8XqntedGrC-Y"
   },
   "source": [
    "3) b) Convert Textual output ( of question 2. a) into numerical using  TfidfVectorizer (marks 8)"
   ]
  },
  {
   "cell_type": "code",
   "execution_count": null,
   "id": "601bd7a1",
   "metadata": {
    "id": "601bd7a1"
   },
   "outputs": [],
   "source": []
  },
  {
   "cell_type": "markdown",
   "id": "PtsWQa2Brrtq",
   "metadata": {
    "id": "PtsWQa2Brrtq"
   },
   "source": [
    "3) c) Build LSTM multiclass text classification model on the cleaned dataset (output of question 2. a) using Keras libraries.  (marks 20)\n"
   ]
  },
  {
   "cell_type": "code",
   "execution_count": null,
   "id": "9hnTQVM5iRsD",
   "metadata": {
    "id": "9hnTQVM5iRsD"
   },
   "outputs": [],
   "source": []
  },
  {
   "cell_type": "markdown",
   "id": "nQZn9KneoUl7",
   "metadata": {
    "id": "nQZn9KneoUl7"
   },
   "source": [
    "3) D) show the confusion matrix and compute accuracy from the model and interpret it.  (marks 4)"
   ]
  },
  {
   "cell_type": "code",
   "execution_count": null,
   "id": "mXZoYZRsko9N",
   "metadata": {
    "id": "mXZoYZRsko9N"
   },
   "outputs": [],
   "source": []
  },
  {
   "cell_type": "code",
   "execution_count": null,
   "id": "fAnFcjg1lsNZ",
   "metadata": {
    "id": "fAnFcjg1lsNZ"
   },
   "outputs": [],
   "source": []
  }
 ],
 "metadata": {
  "colab": {
   "provenance": []
  },
  "kernelspec": {
   "display_name": "Python 3 (ipykernel)",
   "language": "python",
   "name": "python3"
  },
  "language_info": {
   "codemirror_mode": {
    "name": "ipython",
    "version": 3
   },
   "file_extension": ".py",
   "mimetype": "text/x-python",
   "name": "python",
   "nbconvert_exporter": "python",
   "pygments_lexer": "ipython3",
   "version": "3.11.7"
  }
 },
 "nbformat": 4,
 "nbformat_minor": 5
}
