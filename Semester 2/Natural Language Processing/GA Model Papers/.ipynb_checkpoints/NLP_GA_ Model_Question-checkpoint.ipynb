{
 "cells": [
  {
   "cell_type": "markdown",
   "metadata": {
    "id": "cx-WySk9j73X"
   },
   "source": [
    "## NLP GA Model set\n",
    "### Total Marks 40 \n",
    "### Note:  This is  Model GA paper is for learners reference.  The Question type,  topics, order, marking and specification may diifer in actual  GA exam."
   ]
  },
  {
   "cell_type": "code",
   "execution_count": 1,
   "metadata": {
    "id": "tTrsUAMlj73a",
    "outputId": "f35e3955-56f7-43f9-a65e-1470b3242a05"
   },
   "outputs": [
    {
     "name": "stderr",
     "output_type": "stream",
     "text": [
      "[nltk_data] Downloading package wordnet to\n",
      "[nltk_data]     /Users/kaustuvkunal/nltk_data...\n",
      "[nltk_data]   Package wordnet is already up-to-date!\n",
      "[nltk_data] Downloading package punkt to\n",
      "[nltk_data]     /Users/kaustuvkunal/nltk_data...\n",
      "[nltk_data]   Unzipping tokenizers/punkt.zip.\n",
      "[nltk_data] Downloading package stopwords to\n",
      "[nltk_data]     /Users/kaustuvkunal/nltk_data...\n",
      "[nltk_data]   Package stopwords is already up-to-date!\n"
     ]
    }
   ],
   "source": [
    "from six import string_types\n",
    "import pandas as pd\n",
    "import numpy as np\n",
    "from nltk.tokenize import RegexpTokenizer\n",
    "import nltk\n",
    "import pandas as pd \n",
    "import string\n",
    "from nltk.corpus import stopwords\n",
    "from nltk.tokenize import word_tokenize \n",
    "from nltk.stem import LancasterStemmer\n",
    " \n",
    "lancaster=LancasterStemmer()\n",
    "nltk.download('wordnet')\n",
    "nltk.download('punkt')\n",
    "nltk.download('stopwords')\n",
    "\n",
    "from nltk.stem.wordnet import WordNetLemmatizer\n",
    "from textblob import TextBlob\n",
    "import matplotlib.pyplot as plt\n",
    "\n",
    "from sklearn.feature_extraction.text import TfidfVectorizer\n",
    "\n",
    "import requests\n",
    "from bs4 import BeautifulSoup\n",
    "import pandas as pd\n",
    "lmtzr = WordNetLemmatizer()"
   ]
  },
  {
   "cell_type": "markdown",
   "metadata": {
    "id": "k9gz7wbcj73c"
   },
   "source": [
    "## Question  1. ( Marks 5)\n",
    "### 1.What is a Document Term Matrix (CountVectorizer)? Explain with an example.Write a drawbacks of Document Term Matrix?(Marks 1 + 2 + 1)"
   ]
  },
  {
   "cell_type": "code",
   "execution_count": null,
   "metadata": {
    "id": "wmWZEk6yj73d"
   },
   "outputs": [],
   "source": []
  },
  {
   "cell_type": "markdown",
   "metadata": {
    "id": "zixRAJCdj73d"
   },
   "source": [
    " "
   ]
  },
  {
   "cell_type": "markdown",
   "metadata": {
    "id": "-7vbyrk0mDUD"
   },
   "source": [
    "## Question 2.  (Marks : 10)\n",
    "### Use the data_set.csv data. The dataset contains review of a product from an online-shopping platform. Consider the data and perform the following tasks"
   ]
  },
  {
   "cell_type": "code",
   "execution_count": null,
   "metadata": {
    "id": "qUj2OuxmrQ3a",
    "outputId": "0a1d6130-617d-4d5d-ee30-bd5b5e5f0c60",
    "scrolled": true
   },
   "outputs": [
    {
     "data": {
      "text/html": [
       "<div>\n",
       "<style scoped>\n",
       "    .dataframe tbody tr th:only-of-type {\n",
       "        vertical-align: middle;\n",
       "    }\n",
       "\n",
       "    .dataframe tbody tr th {\n",
       "        vertical-align: top;\n",
       "    }\n",
       "\n",
       "    .dataframe thead th {\n",
       "        text-align: right;\n",
       "    }\n",
       "</style>\n",
       "<table border=\"1\" class=\"dataframe\">\n",
       "  <thead>\n",
       "    <tr style=\"text-align: right;\">\n",
       "      <th></th>\n",
       "      <th>review_text</th>\n",
       "    </tr>\n",
       "  </thead>\n",
       "  <tbody>\n",
       "    <tr>\n",
       "      <th>0</th>\n",
       "      <td>This is my 1st ever Echo 🥺 I'm amazed by its c...</td>\n",
       "    </tr>\n",
       "    <tr>\n",
       "      <th>1</th>\n",
       "      <td>Excellent product, super quality. It capable t...</td>\n",
       "    </tr>\n",
       "    <tr>\n",
       "      <th>2</th>\n",
       "      <td>So it is my first Echo Dot.It definitely looks...</td>\n",
       "    </tr>\n",
       "    <tr>\n",
       "      <th>3</th>\n",
       "      <td>I was expecting more as it's 4th gen... But di...</td>\n",
       "    </tr>\n",
       "    <tr>\n",
       "      <th>4</th>\n",
       "      <td>Love the new revamped version of Alexa.  All y...</td>\n",
       "    </tr>\n",
       "  </tbody>\n",
       "</table>\n",
       "</div>"
      ],
      "text/plain": [
       "                                         review_text\n",
       "0  This is my 1st ever Echo 🥺 I'm amazed by its c...\n",
       "1  Excellent product, super quality. It capable t...\n",
       "2  So it is my first Echo Dot.It definitely looks...\n",
       "3  I was expecting more as it's 4th gen... But di...\n",
       "4  Love the new revamped version of Alexa.  All y..."
      ]
     },
     "execution_count": 2,
     "metadata": {},
     "output_type": "execute_result"
    }
   ],
   "source": [
    "data = pd.read_csv('data_set.csv')\n",
    "data.head()"
   ]
  },
  {
   "cell_type": "markdown",
   "metadata": {
    "id": "xOanzHPo19Od"
   },
   "source": [
    "## 2.1  Clean and Pre-process the data.  \n",
    "\n",
    "Steps: \n",
    "- Tokenize\n",
    "- Case conversion to Lower Case\n",
    "- Removing Punctuation & Stopwords\n",
    "- Stemming & Lemitization\n"
   ]
  },
  {
   "cell_type": "code",
   "execution_count": null,
   "metadata": {
    "id": "AtiPiBZwrQ3c"
   },
   "outputs": [],
   "source": [
    " "
   ]
  },
  {
   "cell_type": "markdown",
   "metadata": {
    "id": "VE7EMm5GVrMI"
   },
   "source": [
    "## Question : 3 (Marks  15)\n",
    "\n",
    "### 3.1 On the cleaned text data, perform a Sentiment analysis to understand the emotion of the individual reviews as well as the  overall review. (using textblob)\n",
    "\n",
    "Steps:\n",
    "- Assign the subjetivity response to the content\n",
    "- Assign the polarity response to the content\n",
    "- Assign sentiment to the content\n",
    "- Visualize the frequency distribution of the sentiment on each content\n"
   ]
  },
  {
   "cell_type": "code",
   "execution_count": null,
   "metadata": {
    "id": "KlhMgRLNj73f"
   },
   "outputs": [],
   "source": [
    " "
   ]
  },
  {
   "cell_type": "code",
   "execution_count": null,
   "metadata": {
    "id": "vXtd-l-aj73f"
   },
   "outputs": [],
   "source": [
    "# Assign the subjetivity response to the content\n",
    " "
   ]
  },
  {
   "cell_type": "code",
   "execution_count": null,
   "metadata": {
    "id": "ikP7xpjOj73g"
   },
   "outputs": [],
   "source": [
    "# Assign the polarity response to the content\n",
    " "
   ]
  },
  {
   "cell_type": "code",
   "execution_count": null,
   "metadata": {
    "id": "rpsfzKjGj73g"
   },
   "outputs": [],
   "source": [
    "# Assing sentiment to the content using polity \n",
    " "
   ]
  },
  {
   "cell_type": "code",
   "execution_count": null,
   "metadata": {
    "id": "cOPYWU3_j73g"
   },
   "outputs": [],
   "source": []
  },
  {
   "cell_type": "code",
   "execution_count": null,
   "metadata": {
    "id": "R18U7g2Oj73g"
   },
   "outputs": [],
   "source": [
    "# Visualize the frequency distribution of the sentiment on each content\n",
    " "
   ]
  },
  {
   "cell_type": "markdown",
   "metadata": {
    "id": "Kl42t4HzKUgV"
   },
   "source": [
    "## Question 4.  (Marks 10)\n",
    "## Find the TF-IDF   values of the words 'smart' and 'clear' in the first record  of the given dataset  "
   ]
  },
  {
   "cell_type": "code",
   "execution_count": null,
   "metadata": {
    "id": "BSSSOKOmrQ3e"
   },
   "outputs": [],
   "source": [
    "#vectorizer = TfidfVectorizer()"
   ]
  },
  {
   "cell_type": "code",
   "execution_count": null,
   "metadata": {
    "id": "Ge8iWSX8rQ3e"
   },
   "outputs": [],
   "source": [
    " "
   ]
  },
  {
   "cell_type": "code",
   "execution_count": null,
   "metadata": {
    "id": "nIdzBXMEj73h"
   },
   "outputs": [],
   "source": [
    " "
   ]
  },
  {
   "cell_type": "code",
   "execution_count": null,
   "metadata": {
    "id": "tCwUONe_j73h"
   },
   "outputs": [],
   "source": [
    " "
   ]
  },
  {
   "cell_type": "code",
   "execution_count": null,
   "metadata": {
    "id": "BRWBmcC9rQ3e"
   },
   "outputs": [],
   "source": [
    " "
   ]
  }
 ],
 "metadata": {
  "colab": {
   "collapsed_sections": [],
   "provenance": []
  },
  "kernelspec": {
   "display_name": "Python 3 (ipykernel)",
   "language": "python",
   "name": "python3"
  },
  "language_info": {
   "codemirror_mode": {
    "name": "ipython",
    "version": 3
   },
   "file_extension": ".py",
   "mimetype": "text/x-python",
   "name": "python",
   "nbconvert_exporter": "python",
   "pygments_lexer": "ipython3",
   "version": "3.11.4"
  }
 },
 "nbformat": 4,
 "nbformat_minor": 4
}
