{
 "cells": [
  {
   "cell_type": "markdown",
   "metadata": {},
   "source": [
    "## NLP GA Model set\n",
    "### Total Marks 40 \n",
    "### Note:  This GA paper is just for the reference.  The Question type,  topics, order, marking and specification may diifer in actual  GA exam.  "
   ]
  },
  {
   "cell_type": "code",
   "execution_count": 1,
   "metadata": {},
   "outputs": [
    {
     "name": "stderr",
     "output_type": "stream",
     "text": [
      "[nltk_data] Downloading package wordnet to\n",
      "[nltk_data]     /Users/kaustuvkunal/nltk_data...\n",
      "[nltk_data]   Package wordnet is already up-to-date!\n",
      "[nltk_data] Downloading package punkt to\n",
      "[nltk_data]     /Users/kaustuvkunal/nltk_data...\n",
      "[nltk_data]   Package punkt is already up-to-date!\n",
      "[nltk_data] Downloading package stopwords to\n",
      "[nltk_data]     /Users/kaustuvkunal/nltk_data...\n",
      "[nltk_data]   Package stopwords is already up-to-date!\n",
      "[nltk_data] Downloading package omw-1.4 to\n",
      "[nltk_data]     /Users/kaustuvkunal/nltk_data...\n",
      "[nltk_data]   Package omw-1.4 is already up-to-date!\n"
     ]
    }
   ],
   "source": [
    "from six import string_types\n",
    "import pandas as pd\n",
    "import numpy as np\n",
    "from nltk.tokenize import RegexpTokenizer\n",
    "import nltk\n",
    "import pandas as pd \n",
    "import string\n",
    "from nltk.corpus import stopwords\n",
    "from nltk.tokenize import word_tokenize \n",
    "from nltk.stem import LancasterStemmer\n",
    "from nltk.stem.wordnet import WordNetLemmatizer\n",
    "lancaster=LancasterStemmer()\n",
    "nltk.download('wordnet')\n",
    "nltk.download('punkt')\n",
    "nltk.download('stopwords')\n",
    "nltk.download('omw-1.4')\n",
    "\n",
    " \n",
    "from textblob import TextBlob\n",
    "import matplotlib.pyplot as plt\n",
    "import pandas as pd\n",
    "from sklearn.feature_extraction.text import TfidfVectorizer\n",
    "import requests\n",
    "from bs4 import BeautifulSoup\n",
    "import pandas as pd\n",
    "lmtzr = WordNetLemmatizer()"
   ]
  },
  {
   "cell_type": "markdown",
   "metadata": {},
   "source": [
    "## Question  1. ( Marks 5)\n",
    "### 1.1What is a Document Term Matrix(CountVectorizer)? Explain with an example.Write a drawbacks of Document Term Matrix?(Marks 1 + 2 + 1)"
   ]
  },
  {
   "cell_type": "markdown",
   "metadata": {},
   "source": [
    "#####   document-term matrix \n",
    " - A document-term matrix is a mathematical matrix that describes the frequency of terms that occur in a collection of documents. In a document-term matrix, rows correspond to documents in the collection and columns correspond to terms. This matrix is a specific instance of a document-feature matrix where \"features\" may refer to other properties of a document besides terms.[1] It is also common to encounter the transpose, or term-document matrix where documents are the columns and terms are the rows.\n",
    "\n",
    "##### Example \n",
    "\n",
    "For instance if one has the following two (short) documents: \n",
    " - • D1 = \"I like databases\" \n",
    " - • D2 = \"I dislike databases\", then the document-term matrix would be:\n",
    "\n",
    " \t       I   \tlike\tdislike\tdatabases\n",
    "           \n",
    "- D1  \t    \n",
    "           1\t   1\t     0      \t1\n",
    "- D2\t   \n",
    "           1\t   0\t     1      \t1\n",
    "\n",
    "Which shows which documents contain which terms and how many times they appear.\n",
    "\n",
    "#### Drawback\n",
    "\n",
    "- DTM contains most of the values as 0 i.e DTM is a highly sparse matrix.It consumes a lot of memory."
   ]
  },
  {
   "cell_type": "markdown",
   "metadata": {
    "id": "-7vbyrk0mDUD"
   },
   "source": [
    "## Question 2.  (Marks : 10)\n",
    "### Use the data_set.csv data. The dataset contains review of a product from an online-shopping platform. Consider the data and perform the following tasks"
   ]
  },
  {
   "cell_type": "code",
   "execution_count": 2,
   "metadata": {
    "id": "qUj2OuxmrQ3a",
    "outputId": "0a1d6130-617d-4d5d-ee30-bd5b5e5f0c60",
    "scrolled": true
   },
   "outputs": [
    {
     "data": {
      "text/html": [
       "<div>\n",
       "<style scoped>\n",
       "    .dataframe tbody tr th:only-of-type {\n",
       "        vertical-align: middle;\n",
       "    }\n",
       "\n",
       "    .dataframe tbody tr th {\n",
       "        vertical-align: top;\n",
       "    }\n",
       "\n",
       "    .dataframe thead th {\n",
       "        text-align: right;\n",
       "    }\n",
       "</style>\n",
       "<table border=\"1\" class=\"dataframe\">\n",
       "  <thead>\n",
       "    <tr style=\"text-align: right;\">\n",
       "      <th></th>\n",
       "      <th>review_text</th>\n",
       "    </tr>\n",
       "  </thead>\n",
       "  <tbody>\n",
       "    <tr>\n",
       "      <th>0</th>\n",
       "      <td>This is my 1st ever Echo 🥺 I'm amazed by its c...</td>\n",
       "    </tr>\n",
       "    <tr>\n",
       "      <th>1</th>\n",
       "      <td>Excellent product, super quality. It capable t...</td>\n",
       "    </tr>\n",
       "    <tr>\n",
       "      <th>2</th>\n",
       "      <td>So it is my first Echo Dot.It definitely looks...</td>\n",
       "    </tr>\n",
       "    <tr>\n",
       "      <th>3</th>\n",
       "      <td>I was expecting more as it's 4th gen... But di...</td>\n",
       "    </tr>\n",
       "    <tr>\n",
       "      <th>4</th>\n",
       "      <td>Love the new revamped version of Alexa.  All y...</td>\n",
       "    </tr>\n",
       "  </tbody>\n",
       "</table>\n",
       "</div>"
      ],
      "text/plain": [
       "                                         review_text\n",
       "0  This is my 1st ever Echo 🥺 I'm amazed by its c...\n",
       "1  Excellent product, super quality. It capable t...\n",
       "2  So it is my first Echo Dot.It definitely looks...\n",
       "3  I was expecting more as it's 4th gen... But di...\n",
       "4  Love the new revamped version of Alexa.  All y..."
      ]
     },
     "execution_count": 2,
     "metadata": {},
     "output_type": "execute_result"
    }
   ],
   "source": [
    "data = pd.read_csv('data_set.csv')\n",
    "data.head()"
   ]
  },
  {
   "cell_type": "markdown",
   "metadata": {
    "id": "xOanzHPo19Od"
   },
   "source": [
    "## 2.1  Clean and Pre-process the data.  \n",
    "\n",
    "Steps: \n",
    "- Tokenize\n",
    "- Case conversion to Lower Case\n",
    "- Removing Punctuation & Stopwords\n",
    "- Stemming & Lemitization\n"
   ]
  },
  {
   "cell_type": "code",
   "execution_count": 3,
   "metadata": {
    "id": "AtiPiBZwrQ3c"
   },
   "outputs": [
    {
     "name": "stdout",
     "output_type": "stream",
     "text": [
      "[['This', 'is', 'my', '1st', 'ever', 'Echo', 'I', 'm', 'amazed', 'by', 'its', 'capabilities', 'however', 'I', 'still', 'do', 'not', 'feel', 'any', 'necessities', 'of', 'it', 'The', 'more', 'you', 'want', 'to', 'be', 'dependent', 'you', 'become', 'dependent', 'It', 's', 'really', 'an', 'impulsive', 'purchase', 'But', 'still', 'you', 'should', 'experience', 'echo', 'devices', 'at', 'least', 'once', 'Just', 'to', 'experience', 'the', 'technology', 'In', 'many', 'things', 'it', 'is', 'useful', 'like', 'asking', 'questions', 'weather', 'alarm', 'news', 'etc', 'Now', 'its', 'pros', '1', 'Love', 'the', 'design', '2', 'Has', 'a', 'good', 'weight', '3', 'Sturdy', 'built', '4', 'Good', 'bass', 'for', 'such', 'a', '1', '6', 'driver', '5', 'Highs', 'with', 'just', '0', '8', 'tweeter', 'is', 'adding', 'unbelievable', 'clarity', 'to', 'the', 'sound', '6', 'Can', 'easily', 'pair', 'to', 'the', 'Alexa', 'app', '7', 'Priced', 'moderately', '8', 'You', 'can', 'make', 'connections', 'to', 'smart', 'plug', 'and', 'smart', 'bulbs', 'easily', '9', 'Can', 'play', 'apple', 'music', 'if', 'u', 'hv', 'subscription', '10', 'Auto', 'pairing', 'after', 'light', 'cuts', '11', 'Excellent', 'sound', 'quality', 'for', 'its', 'wize', '12', '5', 'feet', 'power', 'adaptor', 'cable13', 'Has', 'Line', 'out', '3', '5mm', 'for', 'connecting', 'external', 'speakers', 'or', 'ht', 'Cons', '1', 'Need', 'a', 'continuous', 'power', '2', 'Need', 'a', 'continuous', 'wifi', 'connection', 'Colors', 'black', 'white', 'and', 'blue', 'Black', 'one', 'gives', 'you', 'more', 'contrast', 'against', 'its', 'bottom', 'lighting', 'ring', 'Black', 'doesn', 't', 'get', 'dirty', 'easily', 'Gives', 'a', 'distinct', 'look', 'That', 's', 'about', 'it', 'friends', 'Ask', 'me', 'if', 'you', 'have', 'any', 'questions'], ['Excellent', 'product', 'super', 'quality', 'It', 'capable', 'to', 'play', 'audible', 'audio', 'books', 'and', 'it', 'reads', 'kindle', 'e', 'books', 'also', 'I', 'am', 'wandering', 'about', 'reading', 'capable', 'of', 'reading', 'kindle', 'books', 'I', 'am', 'enjoying'], ['So', 'it', 'is', 'my', 'first', 'Echo', 'Dot', 'It', 'definitely', 'looks', 'good', 'I', 'like', 'its', 'spherical', 'shape', 'as', 'compared', 'to', 'Ice', 'hockey', 'shape', 'of', 'last', 'gen', 'Setting', 'up', 'hardly', 'takes', 'a', 'minute', 'Sound', 'quality', 'is', 'nothing', 'impressive', 'Loudness', 'is', 'good', 'enough', 'but', 'bass', 'response', 'is', 'too', 'low', 'Even', 'lower', 'than', 'my', '5watt', 'JBL', 'speaker', 'which', 'is', 'definitely', 'a', 'let', 'down', 'However', 'bass', 'can', 'be', 'increased', 'but', 'make', 'sure', 'with', 'bass', 'you', 'also', 'increase', 'mids', 'n', 'high', 'a', 'bit', 'so', 'that', 'the', 'bass', 'doesn', 't', 'overpower', 'the', 'vocals', 'n', 'instruments', 'It', 'is', 'quite', 'responsive', 'in', 'taking', 'commands', 'but', 'at', 'times', 'it', 'does', 'not', 'respond', 'even', 'if', 'I', 'shout', 'and', 'that', 'too', 'when', 'the', 'speaker', 'is', 'the', 'same', 'room', 'as', 'I', 'am', 'It', 'appears', 'that', 'it', 'goes', 'on', 'sleep', 'mode', 'when', 'not', 'in', 'use', 'for', 'quite', 'a', 'while', 'Not', 'a', 'deal', 'breaker', 'but', 'it', 'can', 'be', 'a', 'nuisance', 'clicking', 'the', 'mute', 'or', 'voice', 'recognition', 'button', 'just', 'to', 'wake', 'it', 'up', 'Overall', 'I', 'am', 'fine', 'the', 'product', 'As', 'a', 'new', 'user', 'I', 'do', 'not', 'mind', 'it', 'however', 'I', 'feel', 'like', 'bigger', 'echo', 'will', 'definitely', 'be', 'the', 'best', 'if', 'money', 'is', 'not', 'an', 'issue', 'But', 'yes', 'for', 'an', 'entry', 'level', 'smart', 'speaker', 'it', 'is', 'amazing', 'n', 'definitely', 'worth', 'the', 'price'], ['I', 'was', 'expecting', 'more', 'as', 'it', 's', '4th', 'gen', 'But', 'disappointed', 'as', 'nothing', 'new', 'as', 'all', 'things', 'r', 'same', 'as', '3rd', 'gen', 'Even', 'AUX', 'IN', 'Not', 'supported', 'Light', 'ring', 'also', 'not', 'much', 'visible', 'at', 'lower', 'level', 'Lots', 'of', 'design', 'fault', 'one', 'can', 'experience', 'when', 'use', 'Buttons', 'also', 'feels', 'like', 'cheap', 'Bluetooth', 'speakers', 'Audio', 'quality', 'seems', 'same', 'as', '3rd', 'gen', 'I', 'was', 'expecting', 'better', 'sound', 'quality', 'as', 'size', 'increased', 'At', 'least', 'more', 'Bass', 'can', 'added', 'Very', 'disappointed', 'AUX', 'IN', 'is', 'much', 'needed', 'n', 'expected', 'I', 'm', 'keeing', 'it', 'as', 'got', 'in', 'deal', 'price'], ['Love', 'the', 'new', 'revamped', 'version', 'of', 'Alexa', 'All', 'you', 'need', 'to', 'do', 'is', 'configure', 'the', 'devices', 'via', 'Alexa', 'app', 'and', 'your', 'good', 'to', 'go', 'Sound', 'is', 'definitely', 'better', 'than', '3rd', 'gen', 'echo', 'dot', 'Bass', 'is', 'better', 'than', 'previous', 'gen', 'Increase', 'bass', 'to', 'full', 'via', 'Alexa', 'app', 'to', 'enjoy', 'Easy', 'to', 'connect', 'other', 'smart', 'home', 'appliances', 'Pro', 'Good', 'sound', 'quality', 'and', 'bass', 'Mic', 'sound', 'reception', 'is', 'goodCon', 'Feels', 'little', 'bulkyNot', 'so', 'portable', 'as', 'it', 'needs', 'continues', 'powersupply'], ['The', 'sound', 'quality', 'is', 'not', 'that', 'good', 'Especially', 'the', 'bass', 'quality', 'is', 'very', 'low', 'In', 'the', 'discription', 'of', 'the', 'product', 'it', 'was', 'mentioned', 'that', 'the', 'bass', 'quality', 'has', 'been', 'improved', 'compaired', 'to', 'older', 'generations', 'but', 'it', 'is', 'not', 'true', 'Paid', 'more', 'money', 'for', 'nothing'], ['Love', 'the', 'new', 'revamped', 'version', 'of', 'Alexa', 'Connected', 'all', 'my', 'smart', 'devices', 'like', 'Bulb', 'TV', 'Playstation', 'etc', 'Everything', 'is', 'working', 'seamlessly', 'All', 'you', 'need', 'to', 'do', 'is', 'configure', 'the', 'devices', 'via', 'Alexa', 'app', 'and', 'your', 'good', 'to', 'go', 'Sound', 'is', 'slightly', 'better', 'than', 'previous', 'version', 'but', 'if', 'your', 'coming', 'from', '3rd', 'Gen', 'you', 'won', 't', 'notice', 'that', 'much', 'For', 'more', 'deeper', 'and', 'rich', 'experience', 'i', 'would', 'say', 'go', 'for', 'higher', 'model', 'and', 'also', 'at', 'this', 'point', 'since', 'it', 'is', 'a', 'very', 'new', 'devices', 'i', 'can', 'see', 'sometimes', 'the', 'device', 'didn', 't', 'respond', 'but', 'i', 'believe', 'that', 'will', 'be', 'fixed', 'with', 'software', 'updates'], ['Prebooked', 'it', 'haven', 't', 'received', 'it', 'yet', 'whereas', 'other', 's', 'who', 'have', 'booked', 'after', 'launch', 'received', 'one', 'airway', 'I', 'see', 'now', 'there', 'are', 'many', 'other', 'frustrated', 'customers', 'who', 'have', 'left', 'similar', 'comments', 'I', 'was', 'expecting', 'by', 'Friday', 'but', 'now', 'delivery', 'date', 'says', 'Monday', 'Regarding', 'the', 'product', 'itself', 'you', 'can', 'also', 'read', 'watch', 'other', 'reviews', 'this', 'is', 'basically', 'a', 'redesign', 'of', '3rd', 'gen', 'echo', 'dot', 'looks', 'better', 'in', 'my', 'opinion', 'and', 'sounds', 'slightly', 'clearer', 'If', 'you', 'want', 'better', 'sound', 'go', 'for', 'the', 'larger', 'echo', 'or', 'invest', 'in', 'a', 'good', 'Bluetooth', 'speaker', 'and', 'use', 'this', 'only', 'for', 'Alexa', 'capabilities', 'The', 'Alexa', 'app', 'couldn', 't', 'detect', 'the', 'Wipro', 'smart', 'bulb', 'that', 's', 'sold', 'as', 'a', 'combo', 'in', 'the', 'first', 'attempt', 'it', 'takes', 'a', 'to', 'couple', 'of', 'steps', 'if', 'you', 'know', 'what', 'you', 'are', 'doing'], ['It', 'has', 'sleep', 'mode', 'or', 'listening', 'problem', 'Sometimes', 'it', 'doesn', 't', 'listen', 'even', 'if', 'you', 'kerp', 'shouting', 'its', 'name', 'Maybe', 'it', 'enters', 'sleep', 'mode', 'or', 'something', 'It', 's', 'a', 'problem', 'with', 'get', '4', 'only', 'i', 'believe', 'as', 'the', 'old', 'echo', 'in', 'my', 'other', 'room', 'listen', 'my', 'voice', 'when', 'i', 'am', 'shouting', 'in', 'fron', 'of', 'this', 'one', 'I', 'believe', 'an', 'update', 'might', 'resolve', 'it', 'but', 'i', 'have', 'chosen', 'to', 'return', 'When', 'it', 'stops', 'responding', 'press', 'its', 'button', 'and', 'it', 'starts', 'responding', 'fine', 'maybe', 'that', 'button', 'press', 'brings', 'it', 'out', 'of', 'sleep', 'but', 'that', 'shouldn', 't', 'be', 'the', 'caee', 'the', 'word', 'Alexa', 'should', 'be', 'able', 'to', 'bring', 'it', 'iut', 'of', 'sleep', 'Otherwise', 'sound', 'is', 'ok', 'looks', 'are', 'good', 'looks', 'durable', 'can', 'control', 'smart', 'lights', 'Aux', 'out', 'is', 'good', 'you', 'can', 'attach', 'to', 'other', 'bluetooth', 'speakers', 'in', 'that', 'case', 'the', 'sound', 'will', 'come', 'from', 'that', 'soeaker', 'i', 'connected', 'it', 'to', 'Marshall', 'It', 'came', 'already', 'attached', 'to', 'my', 'account', 'so', 'no', 'installation', 'hastle', 'but', 'uts', 'easy', 'to', 'manage', 'from', 'your', 'alexa', 'app', 'in', 'mobile', 'phone', 'It', 's', 'a', 'good', 'thing', 'to', 'have', 'st', 'home', 'other', 'than', 'the', 'sleep', 'issue', 'many', 'of', 'us', 'are', 'facing', 'wirh', 'this', 'gen', 'Read', 'somewhere', 'that', 'enabling', 'Spotify', 'can', 'disable', 'that', 'power', 'save', 'sleep', 'mode', 'if', 'successful', 'then', 'its', 's', 'good', 'buy', 'Sound', 'is', 'ok', 'for', 'one', 'room', 'its', 'clear', 'with', 'dome', 'ok', 'beat', 'and', 'treble', 'you', 'can', 'change', 'equilizer', 'settings', 'in', 'app', 'or', 'by', 'voice', 'command', 'also', 'And', 'when', 'it', 's', 'not', 'in', 'sleep', 'power', 'save', 'mode', 'the', 'mic', 'is', 'good', 'even', 'in', 'loud', 'musice', 'the', 'mic', 'is', 'responsive', 'when', 'not', 'in', 'power', 'save', 'sleep', 'mode'], ['This', 'review', 'is', 'going', 'to', 'be', 'different', 'As', 'most', 'of', 'you', 'by', 'now', 'would', 'know', 'it', 'is', 'a', 'great', 'device', 'and', 'so', 'forth', 'However', 'I', 'had', 'to', 'return', 'the', 'device', 'due', 'to', 'its', 'software', 'glitch', 'It', 'becomes', 'unresponsive', 'Most', 'of', 'you', 'might', 'not', 'experience', 'this', 'Here', 'is', 'why', 'Most', 'of', 'the', 'people', 'will', 'be', 'happy', 'with', 'its', 'decent', 'speaker', 'output', 'and', 'these', 'group', 'of', 'people', 'are', 'not', 'going', 'to', 'face', 'this', 'issue', 'But', 'for', 'the', 'folks', 'who', 'would', 'look', 'for', 'extra', 'base', 'and', 'sound', 'quality', 'are', 'going', 'to', 'suffer', 'because', 'they', 'are', 'going', 'to', 'connect', 'this', 'with', 'external', 'bluetooth', 'speaker', 'This', 'is', 'my', 'second', 'Echo', 'Dot', '4th', 'Gen', 'and', 'it', 'still', 'has', 'the', 'issue', 'So', 'after', 'spending', 'sometime', 'with', 'the', 'second', 'device', 'I', 'finally', 'found', 'the', 'cause', 'and', 'the', 'solution', 'It', 'happens', 'when', 'I', 'pair', 'with', 'external', 'bluetooth', 'speaker', 'It', 'becomes', 'unresponsive', 'while', 'it', 'is', 'disconnected', 'from', 'bluetooth', 'speaker', 'To', 'make', 'it', 'work', 'you', 'have', 'to', 'switch', 'to', 'the', 'paired', 'bluetooth', 'speaker', 'or', 'press', 'the', 'mute', 'button', 'and', 'unmute', 'again', 'from', 'the', 'deviceNow', 'you', 'might', 'be', 'thinking', 'why', 'do', 'we', 'have', 'to', 'do', 'all', 'that', 'it', 'might', 'work', 'by', 'simply', 'unpairing', 'the', 'device', 'I', 'am', 'sorry', 'it', 'doesn', 't', 'work', 'even', 'if', 'you', 'unpair', 'delete', 'the', 'device', 'Currently', 'the', 'only', 'solution', 'is', 'to', 'factory', 'reset', 'by', 'pressing', 'and', 'holding', 'the', 'action', 'button', 'for', '25', 'sec', 'and', 'do', 'a', 'fresh', 'setup', 'PLEASE', 'DO', 'NOT', 'PAIR', 'WITH', 'ANY', 'BLUETOOTH', 'speaker', 'I', 'used', 'this', 'without', 'pairing', 'with', 'BT', 'speaker', 'for', 'two', 'days', 'and', 'it', 'works', 'great', 'without', 'any', 'issues', 'I', 'am', 'going', 'to', 'return', 'this', 'device', 'I', 'hope', 'Echo', 'team', 'knows', 'this', 'issue', 'and', 'they', 'fix', 'it', 'by', 'releasing', 'a', 'software', 'update'], ['Your', 'browser', 'does', 'not', 'support', 'HTML5', 'video', 'Not', 'responding', 'after', 'few', 'minutes', 'Even', 'if', 'I', 'speak', 'within', '30cm', 'range', 'I', 'have', 'to', 'press', 'mute', 'and', 'unmute', 'again', 'to', 'make', 'it', 'work', 'Have', 'to', 'return'], ['Sound', 'is', 'Okay', 'not', 'WowAI', 'needs', 'a', 'lot', 'of', 'improvementI', 'would', 'say', 'not', 'worth', 'at', 'this', 'price', 'point'], ['It', 's', 'just', 'awesome', 'I', 'thought', 'dot', 'is', 'bit', 'small', 'so', 'the', 'sound', 'quality', 'may', 'affect', 'due', 'to', 'size', 'but', 'really', 'it', 's', 'really', 'a', 'beast', 'The', 'sound', 'system', 'is', 'just', 'beyond', 'my', 'expectations', 'in', 'one', 'room', 'the', 'sound', 'to', 'the', 'full', 'volume', 'is', 'very', 'loud'], ['Sound', 'output', 'comes', 'as', 'if', 'ur', 'listening', 'from', 'JBL', '320watt', 'speakers', 'with', 'woofer', 'Loud', 'enough', 'for', '15', 'feet', 'roomEasy', 'to', 'setup', 'via', 'alexa', 'App', 'on', 'ur', 'smaet', 'phoneBest', 'part', 'is', 'it', 'recognises', 'and', 'responds', 'much', 'faster', 'than', 'human', 'now', 'It', 'can', 'respond', 'from', '8', 'to', '10feet', 'as', 'wellExcellent', 'build', 'quality', 'My', 'kids', 'use', 'this', 'a', 'Teacher', 'asking', 'questions', 'related', 'GK', 'Math', 'Science', 'to', 'know', 'more', 'about', 'the', 'subject', 'andI', 'use', 'it', 'to', 'play', 'fm', 'and', 'music', 'etcOverall', 'a', 'great', 'product', 'with', 'xcellent', 'features', 'It', 'would', 'have', 'been', 'good', 'if', 'they', 'added', 'a', 'battery', 'back', 'up', 'option', 'as', 'it', 'powers', 'down', 'during', 'electricity', 'failure', 'Dont', 'hesitate', 'just', 'buy', 'and', 'see', 'the', 'fun', 'This', 'has', 'become', 'a', 'new', 'family', 'member', 'and', 'needs', 'respect', '24', '7'], ['I', 'initially', 'ordered', 'the', 'puck', 'ball', 'Alexa', 'the', 'third', 'generation', 'one', 'I', 'was', 'not', 'sure', 'like', 'my', 'kindle', 'or', 'JBL', 'flip', 'etc', 'if', 'I', 'had', 'a', 'proper', 'use', 'case', 'for', 'it', 'It', 'came', 'though', 'the', 'sound', 'was', 'feebler', 'than', 'this', 'Alexa', 'I', 'found', 'it', 'to', 'be', 'useful', 'it', 'can', 'keep', 'reminder', 'for', 'me', 'set', 'up', 'alarms', 'can', 'play', 'songs', 'while', 'i', 'work', 'and', 'can', 'crack', 'occasional', 'bad', 'jokes', 'to', 'laugh', 'at', 'My', 'wife', 'uses', 'it', 'to', 'find', 'out', 'recipes', 'and', 'news', 'is', 'another', 'good', 'thing', 'For', 'the', 'sake', 'of', 'nostalgia', 'i', 'also', 'listen', 'to', 'Vividh', 'Bharati', 'All', 'India', 'Radio', 'on', 'it', 'It', 'is', 'an', 'absolute', 'treat', 'a', 'darling', 'Since', 'I', 'have', 'a', 'variety', 'of', 'speakers', 'and', 'headphones', 'I', 'can', 'compare', 'the', 'latest', '4th', 'generation', 'Alexa', 'Sound', 'quality', 'It', 's', 'a', 'mono', 'speaker', 'so', 'do', 'not', 'expect', 'the', 'quality', 'of', 'Herman', 'Kardon', 'Bose', 'B', 'O', 'etc', 'However', 'in', 'the', 'Alexa', 'dot', 'sub', 'family', 'it', 'has', 'a', 'better', 'sound', 'than', 'previous', 'Alexa', 's', 'The', 'advantage', 'here', 'is', 'that', 'the', 'speakers', 'are', 'upward', 'firing', 'and', 'are', '1', '6', 'inches', 'in', 'diameter', 'instead', 'of', '1', '1', 'inches', 'in', '3rd', 'generation', 'where', 'they', 'were', 'downwards', 'Volume', 'wise', 'it', 'has', 'a', 'better', 'volume', 'than', 'the', '3rd', 'generation', 'one', 'Compared', 'to', 'JBL', 'Flip', 'its', 'max', 'volume', 'stands', 'lesser', 'though', 'But', 'this', 'is', 'good', 'to', 'fill', 'a', 'room', '30', 'feet', 'by', '30', 'feet', 'is', 'my', 'observation', 'Ease', 'of', 'use', 'Alexa', 'now', 'has', 'a', 'neural', 'chip', 'What', 'this', 'means', 'in', 'lay', 'terms', 'is', 'that', 'some', 'preprocessing', 'of', 'your', 'voice', 'will', 'happen', 'here', 'itself', 'on', 'Alexa', 'and', 'will', 'be', 'sent', 'to', 'server', 'as', 'a', 'simpler', 'request', 'to', 'resolve', 'into', 'action', 'The', 'server', 'will', 'find', 'simpler', 'instruction', 'easier', 'to', 'solve', 'and', 'hence', 'saves', 'time', 'In', 'reality', 'the', 'neural', 'chip', 'takes', 'some', 'time', 'to', 'get', 'accustomed', 'to', 'your', 'voice', 'pronunciation', 'and', 'accent', 'After', 'initial', 'few', 'days', 'about', '2', '3', 'days', 'so', 'keep', 'patience', 'it', 'begins', 'to', 'understand', 'your', 'utterances', 'better', 'than', 'Alexa', '3rd', 'gen', 'The', 'bass', 'treble', 'and', 'middle', 'can', 'be', 'adjusted', 'though', 'the', 'app', 'an', 'equalizer', 'is', 'given', 'in', 'the', 'settings', 'of', 'Alexa', 'app', 'There', 'are', 'a', 'lot', 'of', 'apps', 'for', 'music', 'news', 'and', 'other', 'things', 'and', 'the', 'sound', 'is', 'crystal', 'clear', 'Build', 'This', 'one', 'has', 'internal', 'chassis', 'made', 'up', 'of', 'aluminum', 'so', 'it', 'is', 'sturdier', 'than', 'its', 'predecessors', 'Alexa', '3rd', 'gen', 'As', 'a', 'cost', 'of', 'being', 'stronger', 'it', 'is', 'a', 'bit', 'heavy', 'but', 'by', '200', 'grams', 'so', 'I', 'will', 'not', 'whine', 'about', 'it', 'Design', 'The', 'hockey', 'puck', 'shape', 'was', 'beautiful', 'in', 'my', 'opinion', 'but', 'even', 'this', 'shape', 'is', 'good', 'too', 'However', 'the', 'light', 'is', 'at', 'the', 'base', 'so', 'it', 'can', 'not', 'be', 'seen', 'while', 'lying', 'on', 'bed', 'and', 'if', 'the', 'alexa', 'is', 'at', 'a', 'higher', 'altitude', 'than', 'you', 'I', 'felt', 'that', 'if', 'they', 'put', 'the', 'light', 'slanted', 'along', 'the', 'edge', 'of', 'cloth', 'and', 'plastic', 'it', 'would', 'be', 'visible', 'form', 'all', 'angles', 'and', 'it', 'would', 'look', 'eccentrically', 'beautiful', 'but', 'to', 'each', 'his', 'own', 'No', 'complaints', 'here', 'too', 'Smart', 'home', 'It', 'can', 'integrate', 'wide', 'varieties', 'of', 'smart', 'bulbs', 'switches', 'etc', 'seamlessly', 'This', 'has', 'caused', 'me', 'to', 'buy', '3', 'bulbs', 'and', '1', 'switch', 'to', 'integrate', 'with', 'it', 'Using', 'the', 'routines', 'section', 'in', 'setting', 'allows', 'me', 'to', 'set', 'up', 'the', 'lights', 'volume', 'of', 'alexa', 'etc', 'according', 'to', 'the', 'time', 'of', 'the', 'day', 'this', 'has', 'cause', 'a', 'sort', 'of', 'automatic', 'switching', 'in', 'my', 'home', 'I', 'found', 'philips', 'bulbs', 'far', 'better', 'than', 'Wipro', 'bulb', 'which', 'came', 'with', 'this', 'Alexa', 'Online', 'shopping', 'Amazon', 'encourages', 'the', 'buying', 'through', 'Alexa', 'but', 'I', 'find', 'it', 'too', 'much', 'of', 'a', 'risque', 'I', 'don', 't', 'want', 'to', 'order', 'things', 'in', 'a', 'jiffy', 'instead', 'i', 'plan', 'research', 'and', 'then', 'buy', 'So', 'I', 'will', 'not', 'comment', 'anything', 'there', 'Cons', 'of', 'Alexa', '1', 'No', 'battery', 'it', 'would', 'be', 'good', 'if', 'we', 'could', 'carry', 'this', 'geodesic', 'piece', 'of', 'beauty', 'along', 'from', 'room', 'to', 'room', 'Only', 'if', 'we', 'could', '2', 'Wire', 'colour', 'Wire', 'is', 'only', 'colored', 'white', 'which', 'does', 'not', 'match', 'with', 'other', 'colours', 'of', 'Alexa', 'like', 'Black', 'and', 'Blue', 'This', 'is', 'more', 'about', 'aesthetics', 'than', 'function', 'of', 'it', '3', 'No', 'Micro', 'USB', 'The', 'charger', 'has', 'a', 'proprietary', 'pin', 'hence', 'regular', 'chargers', 'do', 'not', 'fit', '4', 'It', 'should', 'buffer', 'the', 'song', 'it', 'is', 'playing', 'so', 'that', 'the', 'whole', 'song', 'is', 'free', 'from', 'internet', 'disruption', 'Hence', 'repeating', 'the', 'song', 'will', 'also', 'be', 'independent', 'of', 'internet', '5', 'Sound', 'quality', 'just', 'ok', 'but', 'it', 'can', 'be', 'compensated', 'by', 'attaching', 'it', 'to', 'a', 'good', 'speaker', 'like', 'JBL', 'Flip', 'Bose', 'etc', 'Summary', 'I', 'am', 'finding', 'it', 'as', 'a', 'handy', 'instrument', 'to', 'set', 'up', 'timers', 'alarms', 'reminders', 'I', 'am', 'usually', 'busy', 'at', 'work', 'songs', 'etc', 'So', 'there', 'are', 'uses', 'which', 'I', 'am', 'cool', 'about', 'It', 'has', 'somehow', 'replaced', 'the', 'use', 'of', 'tablet', 'and', 'JBL', 'to', 'play', 'the', 'songs'], ['Disappointed', 'by', 'the', 'pre', 'booking', 'I', 'was', 'under', 'the', 'impression', 'that', 'priority', 'will', 'given', 'to', 'them', 'on', 'delivery', 'but', 'that', 's', 'not', 'how', 'it', 's', 'happening', 'For', 'the', 'same', 'location', 'delivery', 'is', 'available', 'for', 'the', 'next', 'day', 'for', 'the', 'same', 'price', 'and', 'offer', 'Even', 'after', 'assurances', 'from', 'customer', 'care', 'the', 'date', 'of', 'delivery', 'has', 'been', 'further', 'shifted', 'to', '1st', 'November', 'This', 'is', 'totally', 'ridiculous', 'never', 'expected', 'this', 'from', 'Amazon', 'Would', 'definitely', 'never', 'do', 'a', 'pre', 'order'], ['It', 's', 'just', 'wonderful', 'please', 'go', 'through', 'my', 'YouTube', 'channel', 'SuAni', 'Tech', 'for', 'the', 'unboxing', 'of', 'this', 'latest', 'gadget', 'All', 'new', 'Alexa', 'Echo', 'For', 'thanks', 'Amazon', 'for', 'good', 'service'], ['Love', 'the', 'design', 'of', 'the', 'new', 'echo', 'dot', 'my', 'primary', 'reason', 'for', 'buying', 'it', 'As', 'of', 'now', 'I', 'don', 't', 'see', 'a', 'huge', 'difference', 'between', '2nd', 'generation', 'and', 'this', 'one'], ['Thanks', 'to', 'google', 'that', 'I', 'reviewed', 'the', 'products', 'well', 'and', 'did', 'not', 'go', 'for', '3rd', 'gen', 'This', '4th', 'gen', 'product', 'has', 'a', 'better', 'chip', 'for', 'voice', 'processing', 'It', 'is', 'faster', 'correct', 'and', 'also', 'clear', 'I', 'have', 'tested', 'it', 'from', '10', 'feet', 'once', 'and', 'Alexa', 'correctly', 'understood', 'the', 'command', 'Once', 'we', 'checked', 'from', 'another', 'room', 'note', 'that', 'there', 'was', 'a', 'solid', 'wall', 'between', 'me', 'and', 'Alexa', 'then', 'also', 'she', 'played', 'songs', 'So', '5', 'for', 'the', 'mic', 'and', '5', 'for', 'processing', 'the', 'commands', 'I', 'also', 'connected', 'it', 'with', 'smart', 'devices', 'like', 'bulb', 'and', 'switches', 'Alexa', 'processes', 'every', 'command', 'clearly'], ['I', 'have', 'learned', 'from', 'this', 'purchase', 'that', 'never', 'prebook', 'anything', 'on', 'Amazon', 'I', 'ordered', 'it', 'on', '19th', 'October', 'and', 'it', 'stated', 'estimated', 'delivery', 'date', 'of', '23rd', 'to', '31st', 'October', 'So', 'i', 'thought', 'it', 'shal', 'get', 'delivered', 'by', '24th', 'or', '25th', 'October', 'max', 'but', 'now', 'it', 'is', 'showing', '31st', 'October', 'Whereas', 'people', 'who', 'bought', 'it', 'after', 'the', 'launch', 'date', 'got', 'it', 'delivered', 'in', 'one', 'day', 'And', 'if', 'i', 'am', 'looking', 'to', 'order', 'now', 'it', 'is', 'showing', 'max', '2', 'days', 'of', 'delivery', 'time', 'Pathetic', 'service', 'from', 'Amazon', 'Never', 'ever', 'prebook', 'anything', 'from', 'Amazon'], ['Good', 'device', 'but', 'in', 'build', 'skills', 'are', 'quite', 'limited', 'and', 'skill', 'available', 'on', 'alexa', 'app', 'are', 'majorly', 'for', 'US', 'customer', 'Amazon', 'should', 'bring', 'more', 'skills', 'helpful', 'for', 'Indian', 'users', 'They', 'should', 'also', 'consider', 'making', 'the', 'product', 'in', 'India', 'rather', 'than', 'China', 'as', 'it', 'will', 'make', 'customer', 'feels', 'more', 'secure', 'about', 'their', 'data', 'Preorder', 'policy', 'is', 'not', 'good', 'as', 'preorder', 'product', 'takes', 'week', 'to', 'deliver', 'and', 'non', 'preorder', 'delivers', 'next', 'day'], ['My', 'review', 'comment', '1', 'It', 's', 'doesn', 't', 'turn', 'on', 'the', 'normal', 'FM', '2', 'IF', 'you', 'are', 'listening', 'to', 'high', 'volume', 'song', 'and', 'you', 'want', 'to', 'stop', 'by', 'saying', 'Alexa', 'it', 'doesnt', 'listen', 'you', 'have', 'to', 'keep', 'on', 'shouting', 'loud', '3', 'Sound', 'is', 'not', 'that', 'Great'], ['Friends', 'got', 'this', 'Alexa', 'model', 'from', 'Amazon', 'online', 'and', 'started', 'using', 'since', 'yesterday', 'evening', 'Very', 'awesome', 'and', 'amazing', 'experience', 'Superb', 'performance', 'and', 'I', 'felt', 'missing', 'Alexa', 'all', 'these', 'years', 'Anyhow', 'better', 'late', 'than', 'never', 'Most', 'of', 'you', 'may', 'be', 'already', 'using', 'but', 'as', 'I', 'do', 'not', 'know', 'till', 'date', 'I', 'felt', 'I', 'missed', 'a', 'lot', 'In', 'fact', 'it', 'is', 'a', 'true', 'companion', 'for', 'all', 'age', 'groups', 'Those', 'who', 'want', 'to', 'try', 'I', 'recommend', '1000'], ['There', 'is', 'no', 'battery', 'in', 'this', 'device', 'How', 'can', 'I', 'carry', 'it', 'What', 'made', 'the', 'product', 'designers', 'to', 'not', 'give', 'battery'], ['This', 'is', 'amazing', 'product', 'of', 'amazon', 'The', 'sound', 'quality', 'is', 'the', 'best', 'Also', 'it', 's', 'super', 'smart', 'if', 'you', 'asked', 'her', 'perfect', 'question', 'This', 'new', 'echo', 'dot', '4th', 'generation', 'arrived', 'on', 'dusshera', 'so', 'it', 's', 'so', 'special', 'for', 'us', 'all', 'We', 'are', 'super', 'satisfied', 'and', 'happy', 'Also', 'the', 'shape', 'is', 'so', 'cute', 'She', 'is', 'most', 'obedient', 'kid', 'of', 'our', 'house', 'listens', 'to', 'everything', 'and', 'everyone', 'If', 'you', 'are', 'thinking', 'to', 'buy', 'it', 'then', 'please', 'go', 'for', 'it', 'amazon', 'won', 't', 'Dissapoint', 'anyone', 'and', 'personally', 'trust', 'amazon', 'for', 'each', 'and', 'every', 'product'], ['I', 'searched', 'for', 'some', 'telugu', 'songs', 'and', 'English', 'music', 'on', 'this', 'device', 'It', 'searched', '50', 'correct', 'item', 'but', 'most', 'of', 'the', 'times', 'it', 'says', 'this', 'song', 'not', 'available', 'in', 'music', 'library', 'after', 'that', 'I', 'searched', 'same', 'song', 'or', 'album', 'in', 'gaana', 'hangama', 'jio', 'sa', 'van', 'amazon', 'music', 'Etc', 'Which', 'is', 'alaa', 'searching', 'libraries', 'that', 'song', 'or', 'album', 'avaible', 'in', 'all', 'above', 'music', 'library', 'which', 'are', 'the', 'search', 'engines', 'for', 'alaxa', 'divice', 'Second', 'one', 'is', 'you', 'control', 'with', 'alaxa', 'in', 'your', 'home', 'devices', 'if', 'that', 'all', 'devices', 'must', 'be', 'smart', 'devices', 'The', 'third', 'one', 'is', 'the', 'alaxa', 'divide', 'not', 'built', 'in', 'battery', 'Forth', 'one', 'is', 'google', 'have', 'better', 'search', 'engine', 'It', 's', 'ok'], ['This', 'is', 'just', 'a', 'life', 'changing', 'thing', 'Being', 'an', 'audiophile', 'it', 'is', 'very', 'rare', 'for', 'me', 'to', 'overlook', 'sound', 'quality', 'for', 'an', 'audio', 'device', 'but', 'damn', 'is', 'this', 'one', 'good', 'exception', 'This', 'device', 'just', 'plays', 'music', 'in', 'the', 'most', 'accessible', 'way', 'I', 've', 'ever', 'experienced', 'The', 'first', 'experience', 'of', 'just', 'giving', 'a', 'voice', 'command', 'to', 'play', 'the', 'song', 'you', 'want', 'to', 'hear', 'while', 'you', 'are', 'engaged', 'with', 'something', 'else', 'is', 'just', 'life', 'changing', 'No', 'longer', 'do', 'I', 'have', 'to', 'interact', 'with', 'my', 'phone', 'connect', 'my', 'headphones', 'and', 'then', 'listen', 'to', 'the', 'song', 'after', 'searching', 'for', 'it', 'This', 'device', 'just', 'takes', 'out', 'the', 'friction', 'of', 'the', 'music', 'listening', 'experience', 'which', 'is', 'present', 'on', 'traditional', 'devices', 'The', 'smart', 'features', 'are', 'pretty', 'amazing', 'too', 'Well', 'that', 's', 'the', 'bread', 'and', 'butter', 'of', 'this', 'device', 'so', 'that', 'was', 'pretty', 'much', 'expected', 'and', 'this', 'device', 'did', 'deliver', 'The', 'Skills', 'and', 'Routines', 'in', 'particular', 'are', 'very', 'good', 'features', 'and', 'just', 'expand', 'this', 'device', 's', 'capabilities', 'as', 'a', 'smart', 'home', 'hub', 'exponentially', 'Coming', 'the', 'the', 'sound', 'quality', 'I', 'would', 'say', 'it', 'is', 'okay', 'at', 'best', 'The', 'highs', 'are', 'decent', 'and', 'the', 'mids', 'are', 'very', 'clear', 'but', 'the', 'low', 'end', 'is', 'sub', 'par', 'The', 'maximum', 'volume', 'level', 'is', 'acceptable', 'and', 'the', 'audio', 'does', 'not', 'distort', 'much', 'at', 'the', 'highest', 'volume', 'Also', 'the', 'mics', 'on', 'this', 'thing', 'are', 'amazing', 'Overall', 'I', 'would', 'say', 'that', 'the', 'sound', 'quality', 'is', 'acceptable', 'at', 'least', 'The', 'sound', 'is', 'not', 'very', 'tiny', 'and', 'is', 'apt', 'for', 'casual', 'music', 'listening', 'sessions', 'or', 'just', 'having', 'some', 'background', 'music', 'on', 'On', 'top', 'of', 'it', 'all', 'it', 'is', 'also', 'a', 'very', 'good', 'toy', 'for', 'the', 'elders', 'and', 'kids', 'alike', 'I', 'find', 'my', 'parents', 'asking', 'random', 'and', 'hilarious', 'questions', 'to', 'Alexa', 'and', 'it', 'is', 'just', 'a', 'great', 'side', 'benefit', 'So', 'to', 'sum', 'this', 'review', 'up', 'the', 'Echo', 'Dot', 'is', 'one', 'hell', 'of', 'a', 'device', 'and', 'is', 'a', 'great', 'buy', 'regardless', 'of', 'your', 'intended', 'use', 'This', 'is', 'just', 'great'], ['I', 'have', 'been', 'using', 'Alexa', 'for', 'past', 'few', 'days', 'and', 'here', 'is', 'my', 'reviewPositives', 'Sound', 'quality', 'Mind', 'blowing', 'and', 'good', 'quality', 'toocan', 'act', 'as', 'Bluetooth', 'speaker', 'if', 'you', 'connect', 'from', 'other', 'devices', 'I', 'connect', 'it', 'for', 'calls', 'from', 'PC', 'Mic', 'Call', 'quality', 'fire', 'fire', 'fireAlexa', 's', 'understanding', 'even', 'at', 'full', 'volumeRelly', 'good', 'for', 'basic', 'tasks', 'news', 'reading', 'etc', 'Negatives', 'No', 'Spotify', 'supportPoor', 'Regional', 'support', 'not', 'up', 'to', 'the', 'mark', 'for', 'the', 'south', 'Indian', 'music', 'carnatic', 'film', 'etcs', 'Not', 'as', 'friendly', 'as', 'Google', 'assist', 'Siri', 'w', 'r', 't', 'to', 'regional', 'trends'], ['I', 'have', 'purchased', '4th', 'Generation', 'Eco', 'launched', 'on', '22', 'October', 'and', 'nice', 'that', 'I', 'received', 'it', 'same', 'day', 'Has', 'used', 'older', 'version', 'as', 'well', 'but', 'can', 't', 'locate', 'the', 'difference', 'between', '3rd', 'and', '4th', 'Generation', 'other', 'than', 'hardware', 'design', 'Overall', 'a', 'nice', 'product'], ['SoundIt', 'is', 'a', 'bit', 'louder', 'than', 'previous', 'echo', 'dots', 'But', 'loses', 'out', 'on', 'sound', 'clarity', 'Sound', 'seems', 'muffled', 'and', 'distant', 'with', 'no', 'treble', 'and', 'mid', 'range', 'ResponsivenessSomehow', 'I', 'feel', 'this', 'generation', 'is', 'flawed', 'It', 'just', 'does', 'not', 'respond', 'to', 'the', 'wake', 'up', 'word', 'I', 'bought', 'an', 'Echo', 'Dot', 'Then', 'had', 'it', 'exchanged', 'because', 'it', 'just', 'stopped', 'responding', 'to', 'the', 'wake', 'up', 'word', 'Alexa', 'The', 'new', 'one', 'seems', 'just', 'as', 'bad', 'The', 'first', 'generation', 'could', 'hear', 'the', 'word', 'even', 'when', 'music', 'was', 'playing', 'loudly', 'on', 'auxiliary', 'speakers', 'This', 'generation', 'is', 'pathetic', 'in', 'comparison', 'Not', 'worth', 'the', 'money'], ['I', 'bought', 'this', 'echo', 'dot', 'to', 'use', 'it', 'as', 'a', 'voice', 'monitor', 'fot', 'my', '7months', 'old', 'babyThe', 'dropin', 'feature', 'in', 'acho', 'dot', 'helps', 'to', 'hear', 'the', 'sounds', 'in', 'the', 'baby', 'room', 'via', 'mobile', 'phone', 'This', 'product', 'is', 'conveniet', 'to', 'play', 'music', 'alarms', 'and', 'switchon', 'or', 'off', 'the', 'lights', 'with', 'just', 'a', 'voice', 'comandSound', 'quality', 'is', 'clear', 'and', 'loud', 'enough', 'to', 'fill', 'the', 'roomI', 'like', 'it'], ['Small', 'but', 'powerful', 'speaker', 'Nice', 'to', 'listen', 'to', 'your', 'favorite', 'Bollywood', 'retro', 'songs', 'or', 'a', 'web', 'radio', 'while', 'cooking', 'in', 'the', 'kitchen', 'You', 'can', 'even', 'ask', 'Alexa', 'for', 'recipes', 'and', 'set', 'a', 'timer', 'to', 'remind', 'you', 'when', 'to', 'stop', 'the', 'microwave', 'She', 'can', 'tell', 'you', 'the', 'time', 'date', 'news', 'headlines', 'or', 'even', 'switch', 'on', 'the', 'oven', 'using', 'an', 'IoT', 'plug', 'Alexa', 'is', 'also', 'ideal', 'for', 'remembering', 'your', 'shopping', 'list', 'you', 'can', 'add', 'items', 'to', 'the', 'list', 'as', 'and', 'when', 'you', 'notice', 'you', 'are', 'running', 'out', 'of', 'some', 'grocery', 'item'], ['This', 'particular', 'model', 'have', 'some', 'defects', 'it', 'will', 'not', 'recognize', 'your', 'voice', 'after', 'some', 'time', 'you', 'will', 'keep', 'on', 'shouting', 'alexa', 'alexa', 'echo', 'whatever', 'you', 'have', 'seleceted', 'as', 'a', 'wake', 'word', 'it', 'will', 'simply', 'not', 'respond', 'then', 'you', 'have', 'to', 'press', 'the', 'mic', 'enbale', 'disable', 'button', 'on', 'the', 'alexa', 'physically', 'then', 'you', 'will', 'be', 'able', 'to', 'give', 'voice', 'commands', 'sound', 'quality', 'is', 'too', 'poor', 'for', 'this', 'product', 'bass', 'is', 'decent', 'upto', '60', '70', 'volume', 'bit', 'after', 'that', 'all', 'you', 'get', 'is', 'sound', 'like', 'a', 'cheap', 'spekar', 'you', 'can', 'get', 'under', '500', 'bucks', 'overall', 'design', 'is', 'good', 'but', 'not', 'worthy', 'at', 'this', 'price', 'point', 'Recommend', 'you', 'to', 'purchase', 'eco', 'dot', '3rd', 'gen', 'instead'], ['This', 'is', 'my', '1st', 'smart', 'speaker', 'I', 'settled', 'down', 'with', 'alexa', 'rather', 'than', 'google', 'assistant', 'basically', 'because', 'alexa', 'is', 'more', 'updated', 'with', 'indian', 'content', 'and', 'google', 'assistant', 'not', 'But', 'if', 'you', 'have', 'android', 'tv', 'n', 'all', 'go', 'for', 'google', 'nest', 'because', 'of', 'compatibility', 'Product', 'quality', 'is', 'good', 'looks', 'are', 'decent', 'but', 'sound', 'quality', 'is', 'not', 'good', 'In', 'loud', 'volume', 'base', 'is', 'completely', 'lacking', 'and', 'the', 'audio', 'sounds', 'very', 'weird', 'The', 'ring', 'ling', 'looks', 'way', 'cooler', 'though', 'than', 'the', 'google', 'nest', 'mini', 'Alexa', 'app', 'is', 'good', 'I', 'found', 'it', 'at', 'par', 'with', 'google', 'assistant', 'app', 'Its', 'just', 'that', 'google', 'is', 'everywhere', 'therefore', 'its', 'assistant', 'is', 'much', 'more', 'integrated', 'everywhere', 'in', 'day', 'to', 'day', 'tasks', 'But', 'amazon', 'alexa', 'instead', 'is', 'much', 'more', 'accurate', 'in', 'terms', 'of', 'its', 'personality', 'and', 'the', 'response'], ['I', 'have', 'been', 'using', 'this', 'for', 'only', 'a', 'week', 'so', 'its', 'my', 'initial', 'impression', 'Ordered', 'the', 'combo', 'of', '4th', 'gen', 'echo', 'dot', 'firetv', 'stick', 'lite', 'and', 'wipro', '9W', 'smart', 'bulb', 'at', '4900', 'with', 'SBI', 'credit', 'card', 'offer', 'First', 'of', 'all', 'those', 'features', 'which', 'are', 'not', 'mentioned', 'anywhere', 'FireTv', 'has', 'its', 'inbuilt', 'bluetooth', 'through', 'which', 'u', 'can', 'connect', 'your', 'echo', 'dot', 'and', 'use', 'it', 'as', 'an', 'external', 'speaker', 'for', 'your', 'TV', 'Monitor', 'whichever', 'you', 'are', 'have', 'connected', 'your', 'FireTv', 'stick', 'to', 'I', 'bought', 'Lite', 'version', 'coz', 'I', 'am', 'using', 'a', 'monitor', 'power', 'and', 'volume', 'buttons', 'doesn', 't', 'work', 'on', 'a', 'monitor', 'so', 'no', 'point', 'buying', 'normal', 'FireTv', 'stick', 'You', 'can', 'control', 'echo', 'dot', 's', 'volume', 'with', 'Alexa', 'voice', 'vommands', 'even', 'when', 'its', 'connected', 'through', 'bluetooth', 'with', 'fireTv', 'Bluetooth', 'connection', 'process', 'is', 'very', 'easy', 'just', 'to', 'to', 'settings', 'in', 'FireTv', 'remote', 'and', 'bluetooth', 'devices', 'search', 'for', 'other', 'bluetooth', 'devices', 'and', 'it', 'will', 'show', 'you', 'Echo', 'dot', 'option', 'Coming', 'to', 'smart', 'bulb', '9W', 'is', 'ok', 'for', 'a', 'small', 'room', 'definitely', 'not', 'worth', 'its', 'listed', 'price', 'of', '599', 'but', 'given', 'the', 'price', 'of', 'combo', 'its', 'really', 'a', 'steal', 'U', 'can', 'control', 'it', 'with', 'echo', 'dot', 'and', 'Wipro', 'app', 'You', 'can', 'connect', 'google', 'next', 'mini', 'also', 'as', 'bluetooh', 'speaker', 'with', 'FireTv', 'stick', 'but', 'the', 'ecosystem', 'will', 'not', 'be', 'compatible', 'and', 'u', 'won', 't', 'be', 'able', 'to', 'give', 'commands', 'to', 'your', 'TV', 'or', 'Monitor', 'If', 'u', 'have', 'prime', 'life', 'would', 'be', 'easier', 'as', 'Amazon', 'Music', 'is', 'default', 'search', 'for', 'playing', 'music', 'by', 'voice', 'command', 'you', 'can', 'select', 'spotify', 'also', 'Overall', 'good', 'combo', 'pricing', 'Any', 'bluetooth', 'speaker', 'also', 'would', 'cost', 'around', '2', 'to', '3k', 'and', 'I', 'dont', 'need', 'battery', 'backup', 'for', 'home', 'use', 'and', 'also', 'speakers', 'with', 'battery', 'builtin', 'last', 'less', 'than', 'normal', 'ones', 'Overall', 'Its', 'good', 'for', 'Tech', 'enthusiasts', 'who', 'want', 'to', 'taste', 'some', 'nextgen', 'flavour', 'where', 'IOT', 'devices', 'would', 'be', 'all', 'around', 'us'], ['Excellent', 'Product', 'Absolutely', 'loved', 'it', 'very', 'responsive', 'and', 'much', 'upgraded', 'than', 'older', 'version'], ['I', 'received', 'the', '4th', 'gen', 'echo', 'dot', 'as', 'a', 'gift', 'in', 'February', 'I', 'am', 'not', 'an', 'extensive', 'user', 'so', 'it', 'was', 'rarely', 'used', 'However', 'just', 'after', '2', 'months', 'in', 'April', 'it', 'started', 'giving', 'trouble', 'It', 'would', 'Stop', 'after', '10', 'minutes', 'automatically', 'the', 'mic', 'switch', 'would', 'function', 'and', 'glow', 'when', 'clicked', 'which', 'means', 'power', 'supply', 'working', 'fine', 'It', 'would', 'only', 'work', 'if', 'I', 'plug', 'it', 'off', 'and', 'then', 'switch', 'it', 'on', 'after', 'sometime', 'I', 'tried', 'reaching', 'out', 'to', 'Amazon', 'echo', 'customer', 'support', 'who', 'tried', 'troubleshooting', 'but', 'then', 'informed', 'me', 'it', 's', 'hardware', 'support', 'and', 'they', 'would', 'replace', 'it', 'However', 'the', 'process', 'they', 'asked', 'me', 'to', 'go', 'through', 'is', 'weird', 'in', 'the', 'least', 'They', 'asked', 'me', 'to', 'place', 'order', 'for', 'a', 'new', 'one', 'and', 'once', 'its', 'delivered', 'to', 'return', 'the', 'old', 'one', 'in', 'the', 'new', 'one', 's', 'packaging', 'and', 'I', 'would', 'get', 'the', 'money', 'back', 'once', 'the', 'old', 'one', 'reach', 'them', 'I', 'did', 'that', 'and', 'currently', 'waiting', 'for', 'my', 'refund', 'as', 'well', 'as', 'hoping', 'that', 'this', 'one', 'would', 'last', 'a', 'little', 'bit', 'more', 'than', 'last', '4th', 'Gen', 'I', 'would', 'like', 'to', 'add', 'here', 'I', 'have', 'gifted', 'echo', '3rd', 'gen', 'to', 'my', 'friends', 'who', 'has', 'been', 'using', 'it', 'regularly', 'for', 'more', 'than', 'a', 'year', 'without', 'any', 'issue', 'of', 'any', 'sort'], ['When', 'ever', 'I', 'try', 'to', 'play', 'a', 'Tamil', 'song', 'the', 'sound', 'recognition', 'and', 'play', 'was', 'very', 'pathetic', 'Even', 'when', 'it', 'has', 'to', 'play', 'from', 'my', 'Amazon', 'music', 'playlist', 'it', 'was', 'not', 'upto', 'satisfaction', 'It', 'has', 'some', 'predefined', 'stations', 'from', 'which', 'it', 'is', 'getting', 'playedIn', 'Amazon', 'Music', 'app', 'the', 'same', 'voice', 'recognition', 'works', 'awesome', 'But', 'in', 'Alexa', 'I', 'don', 't', 'know', 'it', 'was', 'very', 'bad', 'and', 'it', 'used', 'to', 'play', 'a', 'very', 'different', 'song', 'which', 'became', 'a', 'playful', 'thing', 'for', 'us', 'and', 'it', 'was', 'comical', 'Also', 'for', 'some', 'reason', 'there', 'was', 'wifi', 'connectivity', 'issue', 'I', 'think', 'where', 'the', 'song', 'was', 'getting', 'stopped', 'and', 'resumed', 'May', 'be', 'a', 'software', 'glitch', 'May', 'be', 'I', 'will', 'give', 'it', 'a', 'try', 'at', 'some', 'point', 'later', 'when', 'I', 'get', 'some', 'good', 'deals', 'Overall', 'it', 'was', 'not', 'to', 'my', 'satisfaction', 'Sound', 'was', 'good', 'enough'], ['the', 'device', 'works', 'as', 'expected', 'very', 'good', 'sound', 'quality', 'since', 'the', 'speakers', 'are', 'forward', 'firing', 'u', 'may', 'experience', 'a', 'bit', 'drop', 'in', 'volume', 'when', 'hearing', 'from', 'side', 'angle', 'vocals', 'are', 'very', 'clear', 'enjoying', 'podcasts', 'during', 'set', 'up', 'faced', 'issue', 'with', 'selecting', 'region', 'my', 'account', 'was', 'somehow', 'linked', 'to', 'Amazon', 'US', 'called', 'up', 'CC', 'and', 'they', 'were', 'able', 'to', 'reset', 'it', 'to', 'India', 'and', 'now', 'regarding', 'the', 'shipping', 'absolutely', 'pathetic', 'from', 'Amazon', 'first', 'thing', 'my', 'order', 'was', 'delayed', 'even', 'after', 'reaching', 'final', 'delivery', 'center', 'and', 'it', 'was', 'very', 'poorly', 'packed', 'no', 'kind', 'of', 'cushion', 'given', 'the', 'device', 'box', 'was', 'fiddling', 'around', 'like', 'crazy', 'very', 'poor', 'from', 'Amazon', 'to', 'my', 'luck', 'the', 'product', 'was', 'not', 'damaged', 'but', 'really', 'Amazon', 'needs', 'to', 'pack', 'things', 'properly'], ['Delayed', 'delivery', 'for', 'pre', 'booked', 'and', 'next', 'day', 'delivery', 'for', 'ordering', 'now', 'This', 'is', 'complete', 'foolishness', 'from', 'amazon', 'y', 'friend', 'already', 'got', 'it', 'and', 'he', 'placed', 'order', 'just', 'yesterday'], ['Booked', 'on', '19th', 'October', 'with', 'delivery', 'date', 'of', '23rd', 'October', 'and', 'now', 'it', 'shows', '31st', 'october', 'While', 'many', 'of', 'my', 'friends', 'booked', 'on', '22nd', 'October', 'and', 'received', 'within', '24hrs', 'My', 'question', 'is', 'to', 'Amazon', 'management', 'that', 'How', 'did', 'they', 'deliver', 'the', 'products', 'and', 'everyday', 'delivery', 'date', 'are', 'getting', 'changed', 'Please', 'explain', 'it', 'What', 'is', 'the', 'benefits', 'of', 'pre', 'order', 'of', 'product', 'Not', 'happy', 'with', 'amazon', 'Stop', 'making', 'fool', 'to', 'customers', 'please', 'Do', 'not', 'forget', 'that', 'your', 'business', 'platform', 'is', 'customer', 'based', 'only', 'So', 'don', 't', 'try', 'to', 'manipulate', 'with', 'customers'], ['Had', 'some', 'issues', 'with', 'the', 'initial', 'setup', 'but', 'overall', 'a', 'very', 'well', 'made', 'product', 'Great', 'speakers', 'with', 'balanced', 'bass', 'given', 'the', 'size', 'Alexa', 'response', 'time', 'is', 'also', 'pretty', 'quick', 'The', 'ring', 'light', 'is', 'quite', 'hard', 'to', 'see', 'from', 'certain', 'lower', 'angles', 'but', 'that', 'shouldn', 't', 'be', 'a', 'big', 'issue', 'for', 'most', 'people', 'depending', 'on', 'where', 'they', 'place', 'the', 'echo', 'dot', 'Also', 'I', 'pre', 'ordered', 'it', 'but', 'received', 'it', 'two', 'days', 'after', 'release', 'day', 'so', 'that', 'didn', 't', 'feel', 'right', 'on', 'the', 'seller', 's', 'part'], ['It', 's', 'not', 'that', 'responsive', 'compare', 'to', 'other', 'Eco', 'Dot', 'Most', 'of', 'the', 'time', 'she', 'is', 'sleeping', 'or', 'else', 'does', 'something', 'else', 'as', 'per', 'her', 'wish', 'I', 'think', 'the', 'mic', 'is', 'not', 'as', 'required', 'the', 'problem', 'is', 'still', 'after', 'it', 'was', 'replaced', 'by', 'the', 'Amazon', 'Its', 'still', 'in', 'warranty', 'but', 'I', 'don', 't', 'think', 'replacing', 'will', 'solve', 'the', 'issue', 'This', 'is', 'my', 'experience', 'can', 'check', 'some', 'other', 'reviews', 'too'], ['Product', 'is', 'wonderful', 'at', 'least', 'it', 'must', 'be', 'mentioned', 'otherwise', 'amazon', 'will', 'not', 'post', 'your', 'review', 'I', 'pre', 'book', 'it', 'on', '16', 'after', 'paying', 'extra', 'for', 'prime', 'membership', 'But', 'product', 'not', 'shipped', 'yet'], ['The', 'audio', 'is', 'just', 'bass', 'heavy', 'and', 'the', 'lows', 'are', 'not', 'that', 'great', 'Alexa', 'is', 'good', 'but', 'definitely', 'lagging', 'behind', 'google', 'assistant', 'in', 'terms', 'of', 'responding', 'to', 'unique', 'voices', 'Too', 'many', 'skills', 'in', 'the', 'Alexa', 'app', 'unfortunately', 'most', 'of', 'them', 'don', 't', 'work', 'as', 'expected', 'Needs', 'amazon', 's', 'effort', 'to', 'consolidate', 'and', 'test', 'these', 'skills', 'then', 'make', 'it', 'available', 'to', 'the', 'public', 'Falls', 'under', 'the', 'category', 'of', 'Skippable'], ['I', 'have', 'ordered', '4th', 'Generation', 'but', 'received', '3rd', 'Generation', 'Very', 'disappointed'], ['You', 'may', 'confused', 'about', 'looks', 'Yes', 'it', 's', 'looks', 'is', 'subject', 'but', 'That', 'big', 'it', 'look', 'in', 'the', 'picture', 'it', 's', 'not', 'actually', 'that', 'big', 'and', 'bottom', 'light', 'is', 'stunning', 'I', 'placed', 'it', 'on', 'my', 'study', 'table', 'over', 'the', 'glass', 'it', 'show', 'cool', 'effect', 'In', 'can', 'say', 'in', 'terms', 'of', 'LED', 'light', 'it', 'is', 'far', 'better', 'than', 'echo', 'dot', '3', 'Sound', 'quality', 'is', 'not', 'that', 'much', 'rich', 'but', 'it', 'is', 'balanced', 'which', 'you', 'can', 'listen', 'in', 'long', 'hours', 'It', 'not', 'necessary', 'but', 'if', 'you', 'can', 'offorrd', 'definitely', 'try', 'it', 'like', 'whenever', 'you', 'fell', 'bore', 'just', 'play', 'with', 'it'], ['This', 'is', 'my', '1st', 'ever', 'Smart', 'Device', 'Got', 'it', 'with', 'the', 'SMART', 'Bulb', 'and', 'Fire', 'TV', 'stickAlexa', 'was', 'already', 'there', 'in', 'one', 'of', 'my', 'Bluetooth', 'headphones', 'which', 'i', 'got', 'to', 'know', 'post', 'installing', 'Alexa', 'in', 'my', 'phone', 'to', 'pair', 'this', 'ECHOYou', 'can', 'find', 'plenty', 'of', 'SMART', 'devices', 'in', 'the', 'market', 'and', 'SMART', 'devices', 'is', 'a', 'growing', 'market', 'and', 'ALEXA', 'and', 'GOOGLE', 'Assistant', 'are', 'the', 'leaders', 'in', 'the', 'Voice', 'Assistant', 'for', 'the', 'SMART', 'DevicesYou', 'can', 'controlLights', 'with', 'voiceMusic', 'with', 'voiceSet', 'AlarmsSet', 'RemindersOrder', 'FoodBook', 'a', 'Caband', 'things', 'are', 'getting', 'added', 'so', 'quickly', 'in', 'this', 'platformPros', '1', 'Design', 'is', 'awesome', 'and', 'when', 'you', 'speak', 'the', 'Ring', 'light', 'glows', 'gives', 'good', 'looks2', 'Nice', 'Bass3', 'Sturdy', 'quality', '4', 'Easily', 'pairs', 'with', 'other', 'SMART', 'Devices5', 'Has', 'buttons', 'to', 'Reduce', 'volume', 'or', 'increase', 'in', 'it', 'as', 'well6', 'Nominal', 'price7', 'ALEXA', 'can', 'understand', 'only', 'English', 'and', 'HINDI', 'more', 'languages', 'will', 'be', 'added', 'in', 'the', 'futureCons', '1', 'Need', 'a', 'continuous', 'power', '2', 'Need', 'a', 'continuous', 'wifi', 'connection', 'Suggestions', 'There', 'is', 'no', 'Basic', 'need', 'for', 'this', 'deviceHowever', 'if', 'you', 'want', 'to', 'make', 'your', 'home', 'a', 'smart', 'home', 'this', 'is', 'a', 'must', 'to', 'have', 'device'], ['In', 'pictutes', 'it', 'looks', 'a', 'bit', 'bulky', 'but', 'I', 'found', 'a', 'very', 'cute', 'and', 'compact', 'product', 'after', 'unboxing', 'Voice', 'recognition', 'is', 'very', 'good', 'and', 'it', 'can', 'recognise', 'me', 'from', 'the', 'other', 'end', 'of', 'the', 'room', 'even', 'with', 'music', 'playing', 'Sound', 'quality', 'is', 'average', 'nothing', 'too', 'good', 'However', 'you', 'can', 'change', 'the', 'bass', 'trebble', 'etc', 'from', 'your', 'Alexa', 'app', 'I', 'mainly', 'use', 'it', 'for', 'smart', 'home', 'automation', 'setting', 'timers', 'reminders', 'and', 'playing', 'music', 'My', 'music', 'streaming', 'service', 'if', 'choice', 'is', 'Spotify', 'and', 'one', 'needs', 'a', 'premium', 'subscription', 'of', 'it', 'to', 'play', 'music', 'from', 'voice', 'For', 'other', 'services', 'like', 'gaana', 'and', 'Saavn', 'it', 'may', 'work', 'without', 'subscription', 'Overall', 'a', 'good', 'purchase', 'If', 'you', 'have', 'never', 'owned', 'an', 'echo', 'device', 'before', 'you', 'can', 'certainly', 'go', 'for', 'this', 'one'], ['The', '4th', 'generation', 'echo', 'dot', 'is', 'surely', 'a', 'worthy', 'upgrade', 'from', 'previous', 'ones', 'because', 'of', 'the', 'following', 'reasons', '1', 'Improved', 'Sound', 'Quality2', 'Deeper', 'Bass3', 'Enhanced', 'voice', 'response4', 'Great', 'Build', 'Quality5', 'Appealing', 'looks', 'If', 'you', 'are', 'considering', 'to', 'buy', 'a', 'smart', 'speaker', 'then', 'definitely', 'go', 'for', 'it', 'without', 'any', 'doubt', 'Trust', 'me', 'it', 's', 'far', 'ahead', 'than', 'competitors'], ['Biggest', 'disappointment', 'is', 'that', 'it', 'needs', 'to', 'be', 'connected', 'to', 'wallcharger', 'for', 'all', 'the', 'time', 'It', 'doesn', 't', 'have', 'battery', 'inside', 'to', 'store', 'the', 'power', 'How', 'come', 'Amazon', 'couldn', 't', 'figure', 'out', 'the', 'way', 'to', 'provide', 'charging', 'option', 'here', 'I', 'also', 'experienced', 'long', 'delays', 'from', 'Alexa', 'and', 'it', 'didn', 't', 'replied', 'to', 'my', 'voice', 'for', 'most', 'of', 'the', 'time'], ['I', 'found', 'this', 'one', 'is', 'way', 'more', 'beautiful', 'than', 'that', 'of', 'previous', 'hockey', 'puck', 'shape', 'Its', 'underneath', 'light', 'ring', 'reflects', 'on', 'surface', 'beautifully', 'Though', 'looks', 'vary', 'from', 'man', 'to', 'man', 'Sound', 'quality', 'is', 'okay', 'Vocal', 'is', 'clearer', 'than', 'previous', 'one', 'but', 'bass', 'is', 'noticeably', 'lower', 'Now', 'I', 'have', 'doubt', 'on', 'my', 'decision', 'of', 'upgrading', 'If', 'this', 'one', 'is', 'your', 'first', 'one', 'go', 'for', 'it'], ['Your', 'browser', 'does', 'not', 'support', 'HTML5', 'video', 'Pros', '1', 'Best', 'in', 'class', 'sound', 'quality', 'with', 'nice', 'bass2', 'Mic', 'is', 'good', 'and', 'can', 'listen', 'clearly', 'even', 'we', 'are', 'talking', 'in', 'low', 'voice', 'pitch3', 'New', 'shape', 'of', 'echo', 'dot', 'is', 'beautiful4', 'It', 'can', 'understand', 'Hindi', 'language', 'and', 'response', 'is', 'very', 'good', 'and', 'accurate', 'Cons', '1', 'It', 'does', 'not', 'have', 'connectivity', 'with', 'YouTube', 'music', 'or', 'YouTube', 'however', 'we', 'can', 'use', 'that', 'from', 'mobile', 'by', 'connecting', 'via', 'Bluetooth', 'to', 'echo', 'dot', '2', 'Does', 'not', 'have', 'inbuilt', 'battery3', 'Does', 'not', 'capture', 'current', 'location', 'automatically', 'We', 'need', 'to', 'save', 'it', 'from', 'Amazon', 'alexa', 'app', 'I', 'will', 'update', 'above', 'list', 'Pros', 'and', 'cons', 'after', 'using', 'it', 'for', 'more', 'months'], ['One', 'of', 'the', 'worst', 'variants', 'of', 'their', 'Alexa', 'enabled', 'devices', 'I', 'used', 'the', '2nd', 'gen', 'and', '3rd', 'gen', 'as', 'well', 'After', 'having', 'used', 'the', 'lastest', 'one', 'for', 'over', 'a', 'month', 'I', 'am', 'disappointed', 'to', 'say', 'it', 'sucks', 'The', 'device', 'fails', 'to', 'hear', 'the', 'wake', 'up', '4', '10', 'times', 'And', 'suddenly', 'it', 'struck', 'me', 'that', 'the', 'AI', 'remains', 'as', 'dumb', 'as', 'ever', 'so', 'the', 'upgrade', 'is', 'not', 'worth', 'it', 'at', 'all', 'If', 'you', 'still', 'need', 'one', 'I', 'would', 'advise', 'you', 'to', 'go', 'for', 'the', 'previous', 'generation', '3rd', 'gen', 'it', 's', 'way', 'more', 'responsive', 'and', 'has', 'a', 'decent', 'audio', 'too', 'I', 'couldn', 't', 'return', 'my', 'device', 'because', 'it', 'was', 'a', 'gift', 'else', 'such', 'a', 'pathetic', 'AI', 'device', 'shouldn', 't', 'have', 'a', 'place', 'in', 'anyone', 's', 'household'], ['Your', 'browser', 'does', 'not', 'support', 'HTML5', 'video', 'Pros', '1', 'Superb', 'sound', 'quality2', 'Precise', 'voice', 'recognition3', 'Works', 'flawlessly', 'with', 'other', 'smart', 'devices4', 'Can', 'use', 'in', 'innovate', 'and', 'unique', 'ways5', 'Alexa', 'can', 'identify', 'différent', 'person', 'in', 'home6', 'Reminders', 'task', 'to', 'do', 'etc', 'are', 'life', 'changing7', 'Black', 'color', 'looks', 'slick', 'and', 'the', 'device', 'feels', 'premium', 'I', 'love', 'the', 'white', 'minimal', 'adapter', 'with', 'no', 'logoCons', '1', 'Has', 'a', 'very', 'low', 'volume', 'shaky', 'clicking', 'noises', 'while', 'playing', 'old', 'songs', 'with', 'full', 'bass', 'It', 's', 'due', 'to', 'movement', 'of', 'the', 'inner', 'parts', 'as', 'the', 'noise', 'levels', 'of', 'some', 'songs', 'mostly', 'old', 'songs', 'are', 'very', 'high', 'But', 'modern', 'high', 'bass', 'songs', 'work', 'flawlessly', 'as', 'noise', 'is', 'already', 'corrected', 'by', 'music', 'publisher'], ['I', 'use', 'it', 'a', 'lot', 'for', 'reminders', 'and', 'alarms', 'for', 'work', 'toBe', 'done', 'by', 'kids', 'their', 'class', 'schedules', 'etcMy', 'kids', 'use', 'it', 'for', 'playing', 'musicMy', 'maid', 'uses', 'it', 'for', 'swatting', 'reminder', 'to', 'switch', 'of', 'motor', 'So', 'all', 'in', 'all', 'it', 's', 'become', 'a', 'very', 'useful', 'tool', 'in', 'the', 'houseBut', 'Amazon', 'should', 'expand', 'its', 'music', 'library', 'lot', 'of', 'songs', 'still', 'not', 'played', 'by', 'Alexa', 'as', 'it', 's', 'not', 'there', 'in', 'the', 'music', 'library', 'of', 'amazon', 'music'], ['Got', 'delivery', 'within', '24', 'hours', 'very', 'fast', 'delivery', 'by', 'Amazon', 'To', 'Setup', 'echo', 'dot', 'is', 'very', 'easy', 'after', 'reading', 'manual', 'within', '5', 'minutes', 'echo', 'dot', 'set', 'I', 'purchased', 'a', 'combo', 'of', 'echo', 'dot', 'with', 'smart', 'led', 'bulb', 'so', 'after', 'setup', 'echo', 'I', 'setup', 'Wipro', 'smart', 'bulb', 'but', 'bulb', 'takes', '10', '15', 'minutes', 'to', 'setup', 'I', 'don', 't', 'know', 'why', 'But', 'after', 'setup', 'within', 'a', 'few', 'seconds', 'Alexa', 'automatically', 'detects', 'my', 'smart', 'bulb', 'wow', 'very', 'fastThenafter', 'I', 'purchased', 'few', 'smart', 'plugs', 'and', 'Alexa', 'detects', 'automatically', 'all', 'the', 'plugs', 'and', 'here', 'we', 'go', 'Alexa', 'works', 'fabulously', 'just', 'say', 'Alexa', 'and', 'work', 'startsListen', 'Audibles', 'Jokes', 'Songs', 'controlling', 'appliance', 'making', 'shopping', 'list', 'reminders', 'etc', 'Alexa', 'does', 'it', 'allI', 'am', 'very', 'happy', 'with', 'the', 'purchase', 'and', 'thanks', 'Amazon', 'for', 'giving', 'me', 'extra', 'discount', 'as', 'prime', 'member'], ['Amazon', 'means', 'quality', 'I', 'have', 'many', 'Amazon', 'devices', 'like', 'fire', 'stock', 'kindle', 'and', 'eco', 'All', 'of', 'them', 'are', 'fabulous', 'if', 'I', 'talk', 'about', 'eco', 'dot', '4', 'gen', 'without', 'a', 'clock', 'which', 'I', 'have', 'I', 'would', 'personally', 'say', 'that', 'it', 's', 'just', 'awesome', 'it', 'has', 'all', 'the', 'feature', 'as', 'it', 'can', 'control', 'my', 'firestick', '2019', 'HD', 'my', 'Wipro', 'smart', 'bulb', 'also', 'it', 'has', 'a', 'tap', 'to', 'snooze', 'featureI', 'think', 'you', 'should', 'go', 'with', 'eco', 'dot', 'without', 'clock', 'as', 'it', 'has', 'all', 'the', 'feature', 'of', 'the', 'eco', 'dot', 'with', 'clockLike', 'tap', 'to', 'snooze', 'etc', 'I', 'think', 'spending', '1000rs', 'extra', 'just', 'for', 'the', 'clock', 'doesn', 't', 'make', 'sense', 'and', 'the', 'clock', 'only', 'works', 'when', 'eco', 'is', 'plugged', 'in', 'so', 'I', 'would', 'suggest', 'that', 'if', 'a', 'clock', 'is', 'very', 'very', 'very', 'important', 'than', 'in', '400', '500rs', 'you', 'can', 'get', 'very', 'good', 'bedside', 'portable', 'digital', 'clock', 'on', 'Amazon', 'so', 'it', 's', 'better', 'to', 'go', 'for', 'without', 'clock', 'and', 'purchase', 'a', 'potable', 'clock', 'in', 'without', 'clock', 'you', 'can', 'give', 'a', 'command', 'like', 'Alexa', 'what', 's', 'the', 'time', 'so', 'Alexa', 'will', 'tell', 'you', 'the', 'time', 'Also', 'I', 'would', 'suggest', 'Amazon', 'release', 'an', 'echo', 'dot', '4', 'the', 'gen', 'portable', 'with', 'a', 'battery', 'of', 'around', '4500', '5000rsThank', 'for', 'reading', 'and', 'don', 't', 'think', 'too', 'must', 'just', 'go', 'for', 'eco', 'dot', 'without', 'a', 'clock'], ['What', 's', 'that', 'lead', 'like', 'ashy', 'smell', 'in', 'the', 'package', 'nowadays', 'with', 'electronics', 'Other', 'than', 'that', 'the', 'mic', 'has', 'quite', 'improved', 'but', 'noticed', 'that', 'while', 'playing', 'songs', 'with', 'Bluetooth', 'there', 's', 'quite', 'a', 'difference', 'in', 'the', 'sound', 'than', 'the', 'sole', 'output', 'from', 'the', 'smart', 'speaker', 'Wish', 'they', 'can', 'add', 'the', 'ring', 'light', 'as', 'a', 'music', 'visualiserThe', 'forward', 'facing', 'design', 'seems', 'to', 'impact', 'the', 'user', 'if', 'he', 's', 'sitting', 'directly', 'in', 'front', 'or', 'kept', 'in', 'a', 'corner', 'of', 'room'], ['Good', 'start', 'in', 'home', 'automation', 'I', 'have', 'attached', 'it', 'with', 'Fire', 'stick', '4K', 'Wipro', 'smart', 'bulb', '12V', 'It', 'has', 'to', 'setup', 'from', 'app', 'n', 'then', 'it', 'works', 'wonders', 'Bit', 'time', 'consuming', 'ar', 'start', 'but', 'all', 'worth', 'the', 'efforts', 'at', 'end', 'U', 'can', 'use', 'it', 'as', 'external', 'bluetooth', 'speaker', 'to', 'fire', 'stick', 'by', 'changing', 'audio', 'setting', 'to', 'home', 'theatre', 'in', 'app', 'only', 'Nice', 'sound', 'for', 'medium', 'sized', 'room', 'Large', 'rooms', 'will', 'need', 'external', 'speakers', 'Loved', 'it'], ['The', 'seal', 'of', 'the', 'box', 'was', 'not', 'there', 'and', 'also', 'the', 'cardboard', 'was', 'torn', 'from', 'the', 'sides', 'I', 'wanted', 'to', 'gift', 'this', 'to', 'my', 'senior', 'PatheticReview', '2', 'after', 'the', 'above', 'rating', 'I', 'immediately', 'got', 'a', 'call', 'from', 'Amazon', 'They', 'heard', 'my', 'problem', 'and', 'without', 'any', 'fuss', 'immediately', 'agreed', 'to', 'either', 'refund', 'my', 'money', 'or', 'replace', 'the', 'product', 'I', 'wanted', 'to', 'gift', 'it', 'to', 'someone', 'and', 'needed', 'it', 'the', 'next', 'day', 'itself', 'hence', 'they', 'themselves', 'advised', 'me', 'to', 'purchase', 'from', 'Brick', 'and', 'motar', 'shop', 'and', 'refunded', 'my', 'money', '5', 'star', 'rating', 'to', 'the', 'person', 'who', 'had', 'handled', 'the', 'issue', 'Though', 'I', 'have', 'been', 'using', '2nd', 'generation', 'echo', 'and', 'iam', 'very', 'happy', 'with', 'it'], ['I', 'm', 'loving', 'it', 's', 'performance', 'when', 'compared', 'to', 'Google', 'nest', 'mini', 'both', 'have', 'advantages', 'and', 'disadvantages', 'but', 'I', 'like', 'Alexa', 'more', 'due', 'to', 'its', 'natural', 'voice', 'drop', 'in', 'feature', 'Amazon', 'music', 'prime', 'required', 'simple', 'set', 'up', 'design', 'physical', 'buttons', 'and', 'many', 'more', 'In', 'nest', 'mini', 'i', 'like', 'duo', 'calling'], ['I', 'now', 'have', 'both', 'new', 'and', 'prev', 'gen', 'dots', 'Well', 'both', 'are', 'equally', 'good', 'with', 'newer', 'one', 'slightly', 'improved', 'in', 'responsiveness', 'Obvious', 'change', 'is', 'appearance', 'which', 'is', 'good', 'but', 'its', 'subjective', 'again', 'I', 'like', 'both', 'wrt', 'appearances', 'If', 'u', 'are', 'going', 'for', 'newer', 'one', 'dont', 'go', 'for', 'black', 'color', 'rather', 'go', 'for', 'some', 'other', 'color', 'which', 'is', 'distinctively', 'noticable', 'BASS', 'IS', 'THE', 'SAME', 'SO', 'PPL', 'WHO', 'ARE', 'LOOKING', 'FOR', 'BETTER', 'BASS', 'WILL', 'GET', 'DISAPPOINTED'], ['The', 'only', 'positive', 'I', 'found', 'is', 'the', 'sound', 'quality', 'and', 'microphone', 's', 'ability', 'to', 'identify', 'sounds', 'accurately', 'I', 'need', 'lot', 'more', 'improvements', 'It', 'is', 'power', 'cord', 'operated', 'and', 'doesn', 't', 'have', 'a', 'battery', 'inside', 'I', 'feel', 'like', 'a', 'Bluetooth', 'speaker', 'will', 'be', 'better', 'if', 'Alexa', 'is', 'installed', 'in', 'it', 'Google', 'assistant', 'is', 'way', 'ahead', 'than', 'alexa', 'It', 'can', 'speak', 'regional', 'languages', 'with', 'a', 'very', 'better', 'eco', 'system', 'Alexa', 's', 'search', 'results', 'are', 'very', 'poor', 'and', 'has', 'a', 'very', 'limited', 'access', 'over', 'the', 'internet', 'Echo', 'dot', 'couldn', 't', 'recognise', 'my', 'smart', 'TV', 'connected', 'on', 'the', 'same', 'network', 'I', 'was', 'manually', 'connecting', 'TV', 'to', 'echodot', 'using', 'bluetooth', 'I', 'trained', 'my', 'voice', 'to', 'alexa', 'and', 'It', 'recognises', 'all', 'other', 'voices', 'of', 'my', 'family', 'members', 'to', 'be', 'my', 'voice', 'Alexa', 'gives', 'its', 'good', 'performance', 'on', 'Amazon', 'eco', 'system', 'but', 'has', 'limited', 'oppurtunities', 'to', 'explore', 'cross', 'platforms'], ['I', 'bought', 'the', 'echo', 'dot', '4th', 'gen', 'around', '3', '4', 'days', 'back', 'So', 'far', 'it', 's', 'working', 'great', 'and', 'has', 'provided', 'me', 'a', 'great', 'experience', 'Pros', '1', 'Nice', 'look', 'and', 'aesthetics2', 'A', 'central', 'hub', 'to', 'all', 'of', 'your', 'smart', 'devices3', 'Very', 'loud', 'and', 'clear', 'voice4', 'Alexa', 'works', 'very', 'well', 'even', 'in', 'hindi', 'Cons', '1', 'Bass', 'could', 've', 'been', 'better', 'So', 'in', 'this', 'price', 'range', 'I', 'think', 'it', 's', 'a', 'choice', 'b', 'w', 'a', 'low', 'bass', 'smart', 'speaker', 'or', 'a', 'high', 'bass', 'not', 'smart', 'speaker', '2', 'Alexa', 'sometimes', 'doesn', 't', 'get', 'awake', 'when', 'the', 'sound', 'is', 'above', '80', 'But', 'I', 'think', 'it', 's', 'reasonable', 'as', 'well', '3', 'If', 'it', 'were', 'operated', 'on', 'battery', 'it', 'would', 've', 'made', 'it', 'more', 'portable', 'but', 'again', 'this', 'is', 'understandable', 'So', 'to', 'conclude', 'I', 'would', 'say', 'it', 's', 'a', 'good', 'speaker', 'to', 'have', 'if', 'you', 'are', 'not', 'soo', 'much', 'into', 'music', 'and', 'want', 'to', 'have', 'a', 'smart', 'central', 'controller', 'to', 'have', 'fun', 'with', 'which', 'I', 'wanted', 'If', 'you', 'want', 'to', 'have', 'a', 'more', 'bass', 'heavy', 'sound', 'then', 'you', 'could', 'consider', 'the', 'Echo', 'that', 'would', 'make', 'more', 'sense'], ['All', 'good', 'connects', 'bluetooth', 'devices', 'faster', 'thn', 'mobile', 'phone', 'sound', 'quality', 'is', 'good', 'but', 'sometimes', 'I', 'hv', 'to', 'raise', 'my', 'voice', 'to', 'get', 'control', 'on', 'Alexa', 'not', 'able', 'to', 'use', 'youtube', 'Spotify', 'directly', 'but', 'I', 'think', 'I', 'need', 'to', 'experiment', 'with', 'thisMy', 'kids', 'enjoy', 'this', 'a', 'lot', 'helpfull', 'for', 'kids', 'who', 'are', 'learning', 'to', 'speak', 'better', 'thn', 'watching', 'YT', 'kids', 'and', 'damaging', 'eyes'], ['The', 'new', 'speaker', 'comes', 'with', 'a', 'slightly', 'better', 'speaker', 'and', 'a', 'very', 'slight', 'almost', 'negligible', 'change', 'in', 'voice', 'recognition', 'but', 'the', 'design', 'personal', 'opinion', 'was', 'not', 'on', 'par', 'with', 'the', '3rd', 'gen', 'speaker', 'I', 'ordered', 'this', 'as', 'a', 'gift', 'for', 'my', 'cousin', 'and', 'they', 'had', 'no', 'issues', 'with', 'the', 'speaker', 'except', 'that', 'it', 'was', 'pretty', 'wobbly', 'at', 'times', 'To', 'be', 'fair', 'though', 'they', 'had', 'a', 'child', 'in', 'the', 'house', 'I', 've', 'heard', 'google', 'home', 'is', 'better', 'than', 'Alexa', 'in', 'terms', 'of', 'software', 'and', 'answering', 'skills', 'and', 'other', 'features', 'If', 'you', 'do', 'plan', 'on', 'getting', 'Alexa', 'I', 'd', 'still', 'recommend', '3rd', 'gen', 'echo', 'dots', 'over', '4th', 'gen', 'ones', 'any', 'day'], ['This', 'is', 'a', 'awsome', 'device', 'just', 'so', 'needy', 'in', 'daily', 'life', 'can', 't', 'even', 'think', 'voice', 'recognition', 'is', 'awsome', 'just', 'whisper', 'it', 'will', 'listen', 'to', 'u', 'Only', 'disadvantage', 'I', 'feel', 'is', 'price', 'it', 'should', 'be', 'little', 'lower', 'Also', 'speaker', 'should', 'be', 'more', 'watt', 'so', 'that', 'at', 'high', 'volume', 'there', 'is', 'anough', 'clarity', 'Thanks', 'Amazon', 'for', 'trying', 'me', 'this', 'I', 'would', 'like', 'to', 'use', 'this', 'forever'], ['Sound', 'recognization', 'is', 'good', 'I', 'found', 'a', 'problem', 'with', 'Bluetooth', 'connectivity', 'I', 'have', 'tried', 'to', 'play', 'some', 'videos', 'over', 'the', 'VLC', 'which', 'gives', 'good', 'quality', 'of', 'connectivity', '1', 'Then', 'I', 'tried', 'to', 'play', 'Some', 'youtube', 'videos', 'while', 'playing', 'the', 'video', 'it', 'stops', 'and', 'then', 'continues', 'sometimes', 'Even', 'my', 'Internet', 'speed', 'is', 'good', 'and', 'connectivity', 'is', 'good', 'I', 'suspect', 'Alexa', 'cant', 'detect', 'where', 'to', 'send', 'data', 'over', 'Wifi', 'Bluetooth', 'when', 'the', 'primary', 'setting', 'is', 'on', '2', 'If', 'I', 'have', 'connected', 'to', 'multiple', 'Bluetooth', 'sources', 'I', 'can', 'use', 'one', 'source', 'at', 'a', 'time', 'Alexa', 'cant', 'decide', 'as', 'to', 'which', 'source', 'to', 'be', 'used', 'as', 'connectivity', 'media', 'This', 'has', 'to', 'be', 'selected', 'manually', 'But', 'It', 'could', 'get', 'connect', 'automatically', 'it', 'would', 'be', 'a', 'value', 'added', 'feature', 'I', 'have', 'Bluetooth', 'earphones', 'and', 'headphones', 'which', 'can', 'automatically', 'take', 'a', 'decision', 'here'], ['Received', 'the', 'item', 'today', 'Connected', 'the', 'Echo', 'Dot', 'as', 'per', 'instructions', 'and', 'got', 'it', 'working', 'Everything', 'seems', 'fine', 'Will', 'give', 'a', 'detailed', 'review', 'after', 'few', 'days', 'of', 'using', 'it', 'I', 'have', 'one', 'complaint', 'to', 'make', 'though', 'I', 'ordered', 'the', 'item', 'as', 'gift', 'pack', 'but', 'it', 'came', 'without', 'any', 'gift', 'wrap', 'Not', 'happy', 'with', 'Amazon', 'service'], ['Spotify', 'service', 'stopped', 'working', 'after', 'the', 'update', 'Unable', 'to', 'play', 'any', 'music', 'Though', 'convenient', 'for', 'voice', 'commands', 'but', 'have', 'to', 'setup', 'again', 'the', 'echo', 'device', 'atleast', 'once', 'in', 'a', 'month', 'Sometimes', 'don', 't', 'respond', 'properly', 'sometimes', 'doesn', 't', 'take', 'commands', 'music', 'service', 'is', 'not', 'great', 'to', 'hear', 'now', 'A', 'great', 'way', 'has', 'to', 'be', 'laid', 'for', 'good', 'optimised', 'and', 'hassle', 'free', 'experience'], ['Awesome', 'productLoved', 'it', 'butThe', 'new', 'Echo', 'came', 'with', 'improvements', 'across', 'the', 'board', 'in', 'terms', 'of', 'sound', 'quality', 'features', 'and', 'design', 'the', 'Echo', 'Dot', 's', 'improvements', 'are', 'smaller', 'And', 'in', 'some', 'cases', 'it', 's', 'a', 'regression', 'from', 'the', 'prior', 'model', 'Still', 'the', '4th', 'Gen', 'Echo', 'Dot', 'remains', 'an', 'excellent', 'budget', 'smart', 'speaker', 'even', 'at', 'its', 'full', 'price', 'And', 'with', 'Amazon', 's', 'near', 'constant', 'sales', 'you', 'll', 'likely', 'be', 'able', 'to', 'get', 'one', 'for', 'even', 'less'], ['Your', 'browser', 'does', 'not', 'support', 'HTML5', 'video', 'Getting', 'a', 'refund', 'on', 'the', 'device', 'will', 'miss', 'the', 'good', 'times', 'of', 'Alexa', 'definitely'], ['Sound', 'quality', 'isn', 't', 'that', 'great', 'Other', 'than', 'that', 'the', 'physical', 'quality', 'and', 'the', 'appearance', 'is', 'nice', 'I', 'am', 'not', 'sure', 'about', 'the', 'pricing', 'as', 'I', 'never', 'compared', 'it', 'with', 'anything', 'else', 'All', 'in', 'all', 'good', 'product', 'would', 'have', 'been', 'great', 'had', 'the', 'sound', 'quality', 'been', 'different', 'better', 'Though', 'my', 'kids', 'are', 'enjoying', 'the', 'product'], ['The', 'sound', 'system', 'works', 'well', 'and', 'the', 'quality', 'of', 'audio', 'is', 'good', 'for', 'music', 'in', 'a', 'small', '3m', 'x', '3m', 'room', 'The', 'downside', 'is', 'the', 'device', 'doesn', 't', 'pick', 'audio', 'well', 'Many', 'a', 'time', 'I', 've', 'had', 'to', 'repeat', 'the', 'wake', 'word', 'for', 'it', 'to', 'pick', 'my', 'voice', 'command', 'If', 'I', 'have', 'to', 'stop', 'whatever', 'I', 'm', 'doing', 'turn', 'towards', 'the', 'device', 'and', 'repeat', 'my', 'voice', 'command', 'that', 'defeats', 'the', 'purpose', 'of', 'the', 'device'], ['Very', 'good', 'Product', 'Sound', 'Quality', 'is', 'just', 'Amazing', 'this', 'is', 'a', 'perfect', 'echo', 'dot', 'as', 'a', 'Speaker', 'i', 'have', 'also', 'purchased', 'wipro', 'smart', 'tubelight', 'and', 'Amazon', 'Smart', 'plug', 'and', 'I', 've', 'attached', 'it', 'to', 'TV', 'and', 'now', 'my', 'living', 'room', 'is', 'totally', 'Smart', 'to', 'amaze', 'my', 'friends', 'Must', 'buy', 'product', 'Loved', 'it'], ['Not', 'a', 'great', 'product', 'specially', 'when', 'it', 'is', 'created', 'by', 'Amazon', '6', 'years', 'ago', 'While', 'every', 'small', 'equipment', 'has', 'rechargeable', 'feature', 'how', 'can', 'this', 'has', 'to', 'be', 'always', 'plugged', 'in', 'Sound', 'quality', 'is', 'really', 'pathetic', 'Made', 'it', 'for', 'listening', 'to', 'news', 'and', 'Alexa', 'and', 'not', 'music', 'Returning', 'it', 'to', 'purchase', 'better', 'Bluetooth', 'speaker', 'which', 'doesn', 't', 'have', 'AI', 'but', 'I', 'can', 'make', 'it', 'work', 'better', 'than', 'a', 'robot'], ['It', 'good', 'but', 'if', 'it', 'is', 'have', 'a', 'batery', 'than', 'it', 'is', 'world', 'best', 'speaker', 'and', 'sound', 'quality', 'of', 'echo', 'dot', 'is', 'very', 'low', 'as', 'compared', 'to', 'its', 'size', 'like', 'many', 'other', 'speaker', 'like', 'UE', 'WONDERBOOM', 'have', 'same', 'size', 'and', 'sound', 'quality', 'is', 'so', 'good', 'but', 'echo', 'dot', 'dont', 'have', 'loud', 'sound', 'quality'], ['I', 'have', 'using', 'eco', 'dot', '3rd', 'generation', 'and', 'it', 'is', 'best', 'quality', 'product', 'rather', 'then', 'this', 'one', 'Charger', 'quality', 'is', 'very', 'low', 'and', 'no', 'branding', 'over', 'charger', 'Eco', 'dot', '3', 'charger', 'have', 'branding', 'and', 'log', 'length', 'wireSound', 'not', 'good', 'as', 'advertised', 'as', 'equal', 'to', '3rd', 'generation'], ['I', 'love', 'the', 'way', 'Alexa', 'converses', 'and', 'you', 'can', 'literally', 'talk', 'to', 'Alexa', 'as', 'if', 'you', 'are', 'speaking', 'to', 'a', 'person', 'There', 'are', 'some', 'limitations', 'though', 'but', 'it', 'is', 'expected', 'as', 'this', 'is', 'a', 'technological', 'device', 'Overall', 'I', 'would', 'recommend', 'everyone', 'to', 'have', 'atleast', '1', 'Amazon', 'Echo', 'any', 'generation', 'in', 'your', 'house', 'The', 'sound', 'quality', 'could', 'have', 'been', 'a', 'little', 'better', 'but', 'this', 'works', 'too'], ['worthless', 'product', 'since', 'it', 'is', 'extremely', 'unresponsive', 'in', 'fact', 'it', 'is', 'a', 'headache', 'it', 'being', 'unresponsive', 'when', 'you', 'need', 'to', 'power', 'on', 'switch', 'on', 'some', 'thing', 'and', 'thus', 'finally', 'you', 'need', 'to', 'get', 'up', 'yourself', 'to', 'do', 'that', 'job', 'for', 'which', 'you', 'bought', 'this', 'nonsense', 'of', 'a', 'product', 'sheer', 'waste', 'of', 'your', 'hard', 'earned', 'money'], ['i', 'have', 'my', 'first', 'smart', 'speaker', 'in', 'the', 'form', 'of', 'Eco', 'Dot', '4th', 'Gen', 'it', 'has', 'good', 'looks', 'sound', 'quality', 'and', 'easy', 'to', 'use', 'featers', 'It', 'would', 'have', 'been', 'a', 'fantastic', 'instrument', 'if', 'it', 'had', 'USB', 'charging', 'port', 'like', 'smart', 'phones', 'that', 'would', 'have', 'facilitated', 'use', 'of', 'Power', 'Bank'], ['I', 'was', 'using', 'google', 'home', 'since', 'it', 'was', 'launched', 'couple', 'years', 'ago', 'yes', 'I', 'm', 'new', 'to', 'echo', 'devices', 'and', 'never', 'experienced', 'previous', 'generations', 'but', 'this', '4th', 'gen', 'is', 'better', 'than', 'my', 'Google', 'home', 'in', 'every', 'factors', 'delivered', 'in', '3', 'days', 'and', 'alexa', 'app', 'is', 'so', 'much', 'useful'], ['The', 'bass', 'is', 'pretty', 'low', 'when', 'in', 'default', 'settings', 'but', 'increases', 'when', 'you', 'go', 'to', 'alexa', 'app', 'and', 'increase', 'the', 'bass', 'all', 'the', 'way', 'to', '5', 'and', 'it', 'gives', 'it', 'a', 'good', 'bass', 'thus', 'it', 'is', 'configurable', 'you', 'can', 'even', 'change', 'midrange', 'and', 'treble', 'in', 'the', 'alexa', 'app', 'go', 'to', 'you', 'devices', 'choose', 'the', 'device', 'select', 'audio', 'settings', 'and', 'you', 'can', 'find', 'it'], ['Has', 'a', 'good', 'sound', 'for', 'such', 'a', 'small', 'speaker', 'I', 'already', 'have', 'an', 'Echo', 'and', 'wanted', 'this', 'to', 'supplement', 'music', 'in', 'another', 'room', 'Its', 'a', 'fantastic', 'buy', 'and', 'the', 'offer', 'was', 'too', 'good', 'to', 'refuse'], ['I', 'am', 'really', 'happy', 'for', 'the', 'product', 'even', 'my', 'family', 'too', 'It', 'covers', 'everything', 'you', 'need', 'in', 'your', 'day', 'to', 'day', 'life', 'I', 'hav', 'been', 'using', 'bow', 'for', 'one', 'week', 'The', 'things', 'like', 'speech', 'recognition', 'in', 'this', 'technology', 'Alexa', '4th', 'Generation', 'is', 'highly', 'appreciated', 'You', 'must', 'buy', 'this', 'Only', 'one', 'thing', 'which', 'bothers', 'is', 'you', 'need', 'a', 'really', 'good', 'internet', 'wi', 'fi', 'connection', 'or', 'else', 'it', 'buffers', 'a', 'lot', 'Now', 'this', 'is', 'a', 'honest', 'review', 'of', 'one', 'week', 'Enjoy', 'and', 'relax', 'with', 'Alexa', '4th', 'Generation'], ['Sound', 'Quality', 'Thickness', 'and', 'Sheerness', 'are', 'all', 'good', 'and', 'crisp', 'Wanted', 'to', 'have', 'The', 'Echo', 'since', 'a', 'long', 'time', 'and', 'finally', 'bought', 'this', '4th', 'Generation', 'Echo', 'as', 'a', 'gift', 'for', 'my', 'daughter', 'for', 'her', 'birthday', 'and', 'she', 's', 'very', 'elated', 'and', 'happy', 'with', 'Alexa', 'Thank', 'you', 'Amazon', 'but', 'can', 'you', 'please', 'manufacture', 'these', 'products', 'in', 'India', 'itself'], ['I', 'have', 'been', 'using', 'these', 'speakers', 'for', 'over', 'a', 'month', 'now', 'and', 'I', 'found', 'these', 'to', 'be', 'really', 'good', 'to', 'enjoy', 'music', 'automate', 'my', 'house', 'and', 'get', 'some', 'quick', 'answers', 'to', 'simple', 'daily', 'questions', 'Sound', 'quality', 'Really', 'good', 'speakers', 'which', 'is', 'capable', 'of', 'filling', 'a', 'room', 'with', 'music', 'Smart', 'It', 's', 'helping', 'my', 'grand', 'mother', 'to', 'turn', 'on', 'the', 'lights', 'at', 'night', 'by', 'just', 'calling', 'out', 'to', 'Alexa', 'and', 'listen', 'to', 'music', 'It', 's', 'also', 'capable', 'of', 'giving', 'answers', 'to', 'general', 'questions', 'just', 'by', 'asking', 'it', 'like', 'how', 's', 'the', 'weather', 'like', 'how', 'much', 'is', '30', 'inches', 'in', 'centimetres', 'etc', 'Thank', 'you', 'Amazon'], ['I', 'preordered', 'the', 'echo', 'dot', 'in', 'Great', 'Indian', 'Festival', 'and', 'received', 'it', 'on', '23rd', 'October', 'the', 'next', 'day', 'after', 'the', 'release', 'I', 'have', 'been', 'using', 'this', 'product', 'since', 'then', 'and', 'I', 'have', 'not', 'faced', 'any', 'issues', 'till', 'now', 'Echo', 'dot', 'is', 'very', 'easy', 'to', 'setup', 'and', 'control', 'I', 'love', 'this', 'product', 'from', 'Amazon', 'Pros', '1', 'Very', 'good', 'bass', 'that', 'improves', 'the', 'overall', 'sound', 'quality', '2', 'The', 'spherical', 'shape', 'gives', 'it', 'a', 'very', 'good', 'look', '3', 'It', 's', 'fun', 'to', 'talk', 'to', 'Alexa', 'in', 'whisper', 'mode', 'Cons', '1', 'All', 'time', 'power', 'connectivity', 'is', 'a', 'drawback', 'It', 'can', 'be', 'portable'], ['Sound', 'sucks', 'feels', 'built', 'to', 'a', 'cost', 'bad', 'design', 'the', 'power', 'input', 'is', 'badly', 'placed', 'the', 'buttons', 'are', 'closer', 'to', 'the', 'power', 'input', 'Wouldn', 't', 'spend', '5K', 'on', 'this', 'much', 'less', 'buy', 'two', 'for', 'stereo', 'The', 'older', 'version', 'of', 'the', 'product', 'is', 'much', 'better'], ['My', 'use', 'Mainly', 'Listen', 'to', 'songs', 'nursery', 'rhymes', 'It', 'lacks', 'conversational', 'features', 'Every', 'time', 'the', 'sentence', 'has', 'to', 'start', 'with', 'Alexa', 'I', 'read', 'google', 'mini', 'has', 'this', 'feature', 'and', 'was', 'hoping', 'echo', 'would', 'have', 'fixed', 'it', 'Many', 'of', 'the', 'questions', 'are', 'not', 'answered', 'properly', 'It', 'will', 'either', 'say', 'I', 'do', 'not', 'understand', 'OR', 'it', 'just', 'reads', 'out', 'something', 'from', 'Wikipedia', 'I', 'believe', 'I', 'have', 'the', 'latest', 'RealMe', 'smart', 'TV', 'which', 'does', 'not', 'support', 'Alexa', 'I', 'have', 'to', 'try', 'other', 'things', 'which', 'Alexa', 'says', 'can', 'do', 'like', 'creating', 'routine', 'or', 'checking', 'on', 'an', 'order'], ['So', 'i', 'have', 'had', 'this', 'for', 'about', 'a', 'month', 'now', 'and', 'can', 'say', 'it', 'truly', 'is', 'a', 'great', 'device', 'to', 'have', 'at', 'home', 'can', 'connect', 'to', 'various', 'devices', 'and', 'surely', 'a', 'good', 'companion', 'I', 'mainly', 'use', 'it', 'to', 'listen', 'to', 'music', 'have', 'a', 'great', 'voice', 'recognition', 'and', 'sound', 'quality', 'is', 'also', 'nice', 'I', 'have', 'used', 'it', 'for', 'calling', 'and', 'it', 'connects', 'easily', 'to', 'other', 'alexa', 'driven', 'devices', 'and', 'is', 'of', 'nice', 'quality', 'Can', 'operate', 'from', 'anywhere', 'with', 'the', 'app', 'And', 'one', 'of', 'the', 'fun', 'features', 'is', 'the', 'alarm', 'I', 'have', 'customized', 'the', 'tone', 'to', 'a', 'Mirzapur', 'dialogue', 'available', 'in', 'device', 'setting', 'in', 'app', 'and', 'now', 'i', 'wake', 'up', 'with', 'a', 'laugh', 'everyday'], ['Loved', 'everything', 'about', 'this', 'simple', 'AI', 'performing', 'simple', 'yet', 'efficient', 'tasks', 'It', 'is', 'a', 'smart', 'speaker', 'if', 'it', 'falls', 'with', 'a', 'smart', 'human', 'it', 'will', 'perform', 'better', 'The', 'smart', 'bulb', 'is', 'a', 'bonus', 'all', 'that', 'I', 'needed', 'to', 'spend', 'my', 'time', 'alone', 'in', 'the', 'Lockdown', 'Thanks', 'amazon'], ['The', 'sound', 'quality', 'and', 'voice', 'recognition', 'are', 'good', 'however', 'the', 'music', 'playback', 'is', 'awful', 'I', 'have', 'linked', 'my', 'Spotify', 'account', 'with', 'Alexa', 'but', 'it', 'doesn', 't', 'play', 'the', 'music', 'that', 'I', 'ask', 'for', 'For', 'example', 'when', 'I', 'ask', 'to', 'play', 'songs', 'by', 'Badsha', 'it', 'plays', 'songs', 'by', 'some', 'other', 'artist', 'I', 'brought', 'Alexa', 'to', 'connect', 'with', 'my', 'Samsung', 'smart', 'TV', 'but', 'even', 'this', 'function', 'is', 'not', 'available', 'though', 'the', 'TV', 'is', 'connected', 'with', 'Alexa', 'with', 'a', 'bluetooth', 'but', 'I', 'can', 't', 'use', 'Alexa', 'to', 'switch', 'on', 'the', 'TV', 'I', 'have', 'tried', 'connecting', 'fire', 'TV', 'with', 'Alexa', 'and', 'here', 'also', 'it', 'has', 'failed', 'Overall', 'a', 'disappoint'], ['Your', 'browser', 'does', 'not', 'support', 'HTML5', 'video', 'Everything', 'is', 'bad', 'but', 'delivery', 'time', 'is', 'too', 'slow', 'Very', 'bad', 'experience', 'for', 'me', 'I', 'ordered', '21st', 'of', 'oct', 'But', 'till', 'now', 'not', 'received', 'Please', 'improve', 'your', 'delivery', 'partners', 'for', 'better', 'feedback', 'Over', 'all', 'product', 'is', 'bad', 'Voice', 'quality', 'is', 'too', 'bad', 'I', 'dont', 'like', 'And', 'suggest', 'to', 'all', 'don', 't', 'buy', 'this', 'product'], ['I', 'expected', 'Echo', 'to', 'play', 'Youtube', 'only', 'audio', 'but', 'unfortunately', 'it', 'doesn', 't', 'Only', 'if', 'you', 'have', 'subscription', 'to', 'Amazon', 'music', 'and', 'JioSavan', 'it', 'is', 'useful', 'else', 'the', 'mobile', 'phone', 'is', 'sufficient', 'to', 'get', 'all', 'the', 'information', 'through', 'Google'], ['dumb', 'product', 'it', 'cannot', 'answer', 'when', 'is', 'gudi', 'padwa', 'the', 'same', 'is', 'answered', 'by', 'google', 'assistant', 'The', 'worst', 'part', 'is', 'it', 'uses', 'bing', 'as', 'search', 'engine', 'maximum', 'time', 'she', 'says', 'i', 'don', 't', 'know', 'that', 'Then', 'what', 'purpose', 'it', 'is', 'for', 'just', 'switch', 'on', 'off', 'bulb', 'that', 'i', 'was', 'doing', 'from', 'my', 'mobile', 'i', 'will', 'prefer', 'people', 'not', 'to', 'buy', 'until', 'amazon', 'solve', 'lots', 'of', 'issues', 'from', 'it', 'It', 'says', 'when', 'is', 'Easter', 'but', 'does', 'not', 'know', 'what', 'is', 'gudi', 'padwa', 'its', 'only', 'one', 'example', 'i', 'am', 'describing', 'there', 'are', 'many', 'more', 'issue', 'technical', 'wise', 'not', 'a', 'buy', 'product'], ['I', 'was', 'so', 'excited', 'to', 'receive', 'this', 'product', 'but', 'the', 'biggest', 'failiour', 'of', 'this', 'product', 'is', 'its', 'sound', 'quality', 'Full', 'volume', 'irretating', 'me', 'as', 'it', 'looks', 'like', 'someone', 'is', 'shouting', 'No', 'bass', 'yes', 'no', 'bass', 'i', 'would', 'say', 'No', 'doubt', 'voice', 'recognition', 'is', 'good', 'but', 'sound', 'quality', 'is', 'overriding', 'everything'], ['I', 'don', 't', 'know', 'about', '3rd', 'Gen', 'but', 'i', 'had', '2nd', 'gen', 'echo', 'dot', 'but', 'after', 'getting', '4th', 'Gen', 'i', 'was', 'actually', 'shocked', 'it', 'sounded', 'almost', 'same', 'if', 'not', 'better', 'than', 'my', 'jbl', 'flip', '3', 'processing', 'is', 'fast', 'also', 'in', 'this', 'one', 'and', 'base', 'is', 'next', 'level'], ['Sound', 'quality', 'is', 'great', 'Loud', 'and', 'clear', 'Alexa', 'does', 'do', 'all', 'the', 'job', 'perfectly', '90', 'of', 'the', 'time', 'Sometimes', 'she', 'doesn', 't', 'hear', 'the', 'commands', 'but', 'if', 'we', 'are', 'a', 'bit', 'louder', 'it', 'does', 'help', 'Can', 't', 'club', 'two', 'commands', 'we', 'need', 'to', 'give', 'one', 'action', 'item', 'other', 'other', 'so', 'recommend', 'setting', 'routines', 'if', 'any', 'tasks', 'need', 'to', 'be', 'combined', 'regularly'], ['Your', 'browser', 'does', 'not', 'support', 'HTML5', 'video', 'Alexa', 'made', 'my', 'life', 'so', 'easier', 'i', 'don', 't', 'have', 'to', 'turn', 'off', 'and', 'on', 'lights', 'and', 'fans', 'with', 'my', 'own', 'hand', 'she', 'take', 'cares', 'of', 'those', 'silly', 'things', 'She', 'know', 'what', 'songs', 'i', 'like', 'plays', 'it', 'for', 'me', 'She', 'knows', 'i', 'like', 'to', 'listen', 'news', 'every', 'morning', 'when', 'i', 'wake', 'up', 'i', 'just', 'say', 'alexa', 'good', 'morning', 'She', 'take', 'cares', 'of', 'all', 'my', 'payments', 'pending', 'all', 'my', 'ola', 'bookings', 'and', 'remind', 'me', 'to', 'drink', 'water', 'every', '1', 'hours', 'later', 'Also', 'some', 'times', 'when', 'i', 'cooking', 'i', 'forget', 'recipes', 'I', 'just', 'ask', 'her', 'She', 'knows', 'every', 'thing', 'I', 'love', 'my', 'alexa'], ['Good', 'product', 'from', 'Amazon', 'I', 'like', 'the', 'sound', 'quality', 'but', 'sometimes', 'Alexa', 'didn', 't', 'respond', 'to', 'my', 'calling', 'I', 'need', 'to', 'call', 'again', 'loudly', 'It', 'is', 'fun', 'for', 'my', 'daughter', 'as', 'she', 'keep', 'asking', 'different', 'questions'], ['Genuine', 'review', 'i', 'purchased', 'just', 'week', 'ago', 'Awesome', 'sound', 'quality', 'bass', 'looking', 'nice', 'voice', 'recognition', 'good', 'You', 'can', 'use', 'it', 'from', 'your', 'mobile', 'data', 'no', 'need', 'to', 'wifi', 'connection', 'The', 'price', 'seemed', 'high', 'it', 's', '4500', 'i', 'think', 'it', 's', 'high', 'Otherwise', 'if', 'u', 'want', 'u', 'can', 'go', 'for', 'purchase', 'After', 'all', 'features', 'are', 'good'], ['Horrible', 'service', 'by', 'both', 'Amazon', 'Cloudtail', 'I', 'have', 'prebooked', 'on', '16th', 'Oct', 'but', 'my', 'estimated', 'delivery', 'date', 'is', 'showing', '23', '31st', 'Oct', 'Now', 'i', 'am', 'seeing', 'who', 'all', 'are', 'ordered', 'yesterday', 'they', 'are', 'getting', 'next', 'delivery', 'Then', 'what', 'is', 'the', 'use', 'of', 'prebooking', 'Not', 'at', 'all', 'satisfy', 'with', 'Amazon'], ['Your', 'browser', 'does', 'not', 'support', 'HTML5', 'video', 'It', 's', 'an', 'awesome', 'product', 'and', 'a', 'family', 'member', 'too', 'who', 'listens', 'everyone', 'Very', 'useful', 'for', 'kids', 'Outstanding', 'love', 'it', 'Got', 'it', 'in', 'a', 'very', 'good', 'deal', 'Thanks', 'Amazon'], ['It', 'is', 'a', 'very', 'excellent', 'peoduct', 'as', 'a', 'smart', 'speaker', 'Other', 'small', 'normal', 'speaker', 's', 'Sound', 'quality', 'bass', 'etc', 'is', 'slightly', 'better', 'than', 'this', 'But', 'it', 's', 'fair', 'because', 'this', 'is', 'a', 'smart', 'spraker', 'sound', 'quality', 'is', 'excellent', 'Sound', 'has', 'really', 'improved', 'than', 'previous', 'version', 'echo', 'dot', '3rd', 'gen', 'And', 'I', 'would', 'recommend', 'this', 'if', 'you', 'want', 'to', 'buy', 'smart', 'speaker', 'under', 'this', 'budget', 'I', 'had', 'a', 'pre', 'order', 'delivery', 'problem', 'and', 'got', '2', 'of', 'them', 'Then', 'I', 'had', 'to', 'return', 'it', 'and', 'had', 'to', 'order', 'again', 'Bit', 'the', 'product', 'is', 'very', 'good'], ['If', 'you', 'compare', 'this', '4th', 'gen', 'echo', 'dot', 'with', 'its', 'predecessor', '3rd', 'gen', 'you', 'will', 'be', 'highly', 'disappointed', 'The', '4th', 'gen', 'is', 'a', 'disaster', 'when', 'it', 'comes', 'to', 'bass', 'handling', 'Even', 'at', 'bass', 'level', 'full', 'it', 'is', 'completely', 'missing', 'at', 'high', 'volumes', 'Even', 'at', 'lower', 'volumes', '3rd', 'gen', 'does', 'better', 'job', 'I', 'faced', 'problems', 'while', 'conversing', 'with', 'Alexa', '3rd', 'gen', 'has', 'better', 'voice', 'recognition', 'capability', 'Don', 't', 'spend', '1k', 'extra', 'for', 'low', 'bass', 'not', 'that', 'great', 'voice', 'recognition', 'and', 'lack', 'of', 'LED', 'clock', 'you', 'can', 'get', 'all', 'these', 'in', '3rd', 'gen', 'echo', 'dot', 'at', 'lesser', 'price'], ['Your', 'browser', 'does', 'not', 'support', 'HTML5', 'video', 'Alexa', 'is', 'the', 'best', 'product', 'I', 'have', 'received', 'It', 'gives', 'us', 'information', 'about', 'each', 'and', 'every', 'thing', 'She', 'gives', 'responses', 'to', 'all', 'the', 'questions', 'we', 'have', 'asked', 'till', 'now', 'I', 'would', 'suggest', 'everyone', 'to', 'buy', 'this', 'product', 'It', 'has', 'a', 'good', 'sound', 'quality', 'also'], ['Good', 'sound', 'quality', 'with', 'powerful', 'bass', 'support', 'but', 'I', 'need', 'a', 'black', 'charger', 'for', 'a', 'black', 'Alexa', 'Not', 'a', 'white', 'charger', 'Welcome', 'to', 'the', 'smart', 'world'], ['Sound', 'quality', 'is', 'very', 'poor', 'for', 'music', 'lovers', 'Bass', 'is', 'zero', 'Trible', 'is', 'noisy', 'Voice', 'recognition', 'is', 'pathetic', 'Most', 'of', 'the', 'time', 'Alexa', 'doesn', 't', 'recognize', 'simple', 'words', 'Waste', 'of', 'money'], ['Excellent', 'piece', 'of', 'technology', 'with', 'use', 'of', 'this', 'I', 'have', 'made', 'my', 'entire', 'living', 'and', 'dining', 'room', 'voice', 'activated', 'My', '2', '3', 'year', 'old', 'kid', 'listens', 'to', 'nursery', 'rhymes', 'and', 'my', 'mom', 'enjoys', 'old', 'classic', 'songs', 'and', 'instrumental', 'music', 'There', 's', 'no', 'lag', 'in', 'giving', 'commands', 'to', 'the', 'device', 'Elevate', 'your', 'lifestyle'], ['If', 'you', 'want', 'to', 'experience', 'use', 'Alexa', 'completely', 'buy', 'smart', 'bulb', 'and', 'socket', 'also', 'Voice', 'recognition', 'and', 'sound', 'quality', 'of', 'echo', 'dot', 'is', 'nice', 'I', 'ask', 'to', 'play', 'my', 'favourite', 'song', 'Turn', 'lights', 'ON', 'OFF', 'turn', 'on', 'off', 'devices', 'connected', 'to', 'smart', 'plug', 'It', 'works', 'like', 'charm', 'So', 'satisfied', 'with', 'this', 'purchase'], ['I', 'bought', 'this', 'product', 'quite', 'unsatisfied', 'with', 'delivery', 'time', 'as', 'this', 'being', 'a', 'amazon', 'product', 'dot', 'was', 'perfect', 'except', 'it', 'got', 'stuck', 'while', 'playing', 'music', 'or', 'movie', 'from', 'computer', 'by', 'bluetooth', 'i', 'find', 'it', 'disturbing', 'to', 'hear', 'a', 'buzz', 'sound', 'ever', '15', 'sec', 'other', 'that', 'it', 'is', 'gud', 'only', 'bluetooth', 'connectivity', 'issue'], ['It', 'is', 'unbelievable', 'experience', 'after', 'using', 'it', 'so', 'many', 'features', 'has', 'on', 'this', 'small', 'speaker', 'You', 'can', 'connect', 'your', 'phone', 'fire', 'tv', 'and', 'so', 'many', 'things', 'with', 'this', 'little', 'one', 'and', 'just', 'give', 'command', 'and', 'it', 's', 'working', 'bass', 'is', 'ok', 'Overall', 'nice', 'product', 'Thanks', 'Amazon'], ['It', 'works', 'well', 'The', 'only', 'thing', 'I', 'was', 'unhappy', 'about', 'was', 'that', 'the', 'box', 'seal', 'was', 'open', 'and', 'was', 'torn', 'I', 'bought', 'this', 'as', 'a', 'gift', 'for', 'my', 'brother', 'and', 'had', 'no', 'time', 'to', 'exchange', 'since', 'he', 'was', 'traveling'], ['Man', 'o', 'man', 'I', 'knew', 'it', 'was', 'an', 'amazing', 'product', 'but', 'never', 'expected', 'this', 'Alexa', 'is', 'shit', 'smart', 'The', 'volume', 'is', 'good', 'base', 'is', 'great', 'and', 'mic', 'is', 'damn', 'responsive', 'Bought', 'this', 'for', 'my', 'mother', 'to', 'play', 'old', 'and', 'religious', 'songs', 'and', 'she', 'loved', 'it', 'P', 's', 'I', 'had', 'to', 'wake', 'up', 'with', 'the', 'Om', 'Jai', 'Jagdish', 'Hare', 'playing', 'Overall', 'a', 'great', 'purchase'], ['In', 'starting', 'it', 'was', 'working', 'perfectly', 'the', 'sound', 'was', 'also', 'good', 'but', 'after', 'some', 'days', 'it', 'didn', 't', 'respond', 'to', 'a', 'certain', 'number', 'of', 'things', 'and', 'just', 'switch', 'off', 'I', 'think', 'there', 'is', 'some', 'problem', 'with', 'its', 'software', 'which', 'might', 'be', 'caused', 'because', 'of', 'the', 'fault', 'of', 'the', 'delivery', 'person', 'Actually', 'I', 'live', 'on', '2nd', 'floor', 'and', 'instead', 'of', 'waiting', 'for', 'me', 'to', 'pick', 'up', 'the', 'order', 'he', 'threw', 'the', 'box', 'directly', 'to', 'the', 'second', 'floor', 'which', 'might', 'have', 'caused', 'some', 'issue', 'in', 'it'], ['I', 'was', 'using', 'this', 'product', 'for', 'more', 'than', 'two', 'months', 'Its', 'really', 'amazing', 'and', 'i', 'spent', 'most', 'of', 'my', 'free', 'times', 'with', 'echo', 'dot', 'Its', 'worth', 'for', 'money', 'now', 'this', 'device', 'is', 'kind', 'of', 'my', 'friend', 'and', 'i', 'm', 'enjoying', 'a', 'lot', 'by', 'hearing', 'songs', 'jokes', 'daily', 'updates', 'Please', 'go', 'for', 'it', 'if', 'you', 'spend', 'most', 'of', 'the', 'times', 'in', 'home', 'like', 'WFH'], ['Product', 'is', 'awesome', 'but', 'in', 'real', 'life', 'no', 'usage', 'your', 'smartphone', 'will', 'do', 'all', 'the', 'thing', 'better', 'than', 'this', 'device', 'Buy', 'it', 'for', 'a', 'showoff', 'buy', 'always', 'with', 'a', 'light', 'or', 'plug', 'so', 'you', 'can', 'see', 'someones', 'kids', 'excitement', 'while', 'the', 'light', 'works'], ['Sound', 'quality', 'is', 'not', 'at', 'par', 'with', 'Gen', '3', 'echo', 'dot', 'for', 'some', 'reason', 'only', 'known', 'to', 'their', 'Engineering', 'team', 'since', 'I', 'have', 'both', '3rd', 'as', 'well', 'as', '4th', 'Gen', 'to', 'compare'], ['After', 'the', '3rd', 'generation', 'issue', 'and', 'I', 'got', 'the', '04th', 'generation', 'and', 'the', 'voice', 'and', 'sound', 'quality', 'is', 'very', 'good', 'I', 'm', 'happy', 'with', 'product', 'but', 'not', 'with', 'the', 'Amazon', 'services', 'these', 'days'], ['Its', 'only', 'good', 'to', 'turn', 'on', 'and', 'off', 'the', 'light', 'Else', 'completely', 'useless', 'not', 'works', 'well', 'with', 'skills', 'my', 'case', 'gaana', 'as', 'you', 'cannot', 'use', 'your', 'own', 'playlist', 'always', 'play', 'same', 'songs', 'does', 'not', 'understand', 'what', 'song', 'I', 'want', 'Automatically', 'starts', 'speaking', 'disturbing', 'my', 'sleep', 'sometimes', 'does', 'not', 'listen', 'need', 'to', 'repeat', 'few', 'times', 'the', 'wake', 'word', 'bad', 'experience', 'Only', 'good', 'for', 'controlling', 'lights', 'and', 'work', 'purpose'], ['Your', 'browser', 'does', 'not', 'support', 'HTML5', 'video', 'Great', 'Speakers', 'The', 'voice', 'recognition', 'works', 'very', 'well', 'Although', 'some', 'tweaking', 'can', 'be', 'done', 'on', 'the', 'sound', 'front', 'But', 'overall', 'a', 'great', 'buy'], ['An', 'amazing', 'product', 'with', 'a', 'lot', 'of', 'audio', 'settings', 'that', 'can', 'be', 'changed', 'The', 'sound', 'quality', 'is', 'just', 'amazing', 'and', 'so', 'is', 'the', 'voice', 'recognition', 'A', 'major', 'improvement', 'compared', 'to', 'my', 'Second', 'gen', 'version', 'I', 'use', 'it', 'as', 'a', 'Bluetooth', 'speaker', 'as', 'well', 'as', 'Alexa', 's', 'skills', 'Must', 'buy'], ['Firstly', 'I', 'thought', 'that', 'it', 's', 'a', 'bit', 'small', 'but', 'its', 'sound', 'quality', 'is', 'like', 'very', 'good', 'and', 'amazing', 'Secondly', 'build', 'quality', 'is', 'superb', 'becouse', 'it', 'was', 'fallen', 'by', 'me', '2', 'times', 'and', 'then', 'also', 'woring', 'proper', 'and', 'amazingThirdly', 'speaks', 'hindi', 'like', 'a', 'real', 'person', 'in', 'india', 'you', 'will', 'don', 't', 'feel', 'it', 's', 'alexaFourthly', 'the', 'delivery', 'is', 'amazing', 'even', 'not', 'aScratch', 'of', 'box', 'I', 'will', 'put', 'photo', 'see'], ['I', 'use', 'this', 'in', 'my', 'mom', 's', 'room', 'and', 'operates', 'it', 'with', 'Alexa', 'The', 'smart', 'feature', 'makes', 'life', 'so', 'sorted', 'Must', 'recommended'], ['Your', 'browser', 'does', 'not', 'support', 'HTML5', 'video', 'I', 'really', 'like', 'the', 'echo', 'dot', '4', 'it', 'has', 'made', 'my', 'life', 'so', 'easy', 'I', 'set', 'up', 'all', 'my', 'alarms', 'on', 'this', 'it', 'reads', 'out', 'my', 'notifications', 'I', 'can', 'play', 'different', 'songs', 'new', 'stories', 'with', 'a', 'voice', 'command', 'The', 'voice', 'quality', 'and', 'response', 'is', 'also', 'very', 'good'], ['Loving', 'the', 'Device', 'Excellent', 'Sound', 'Quality', 'better', 'response', 'a', 'smooth', 'experience', 'I', 've', 'upgraded', 'from', 'Gen', '1', 'to', 'Directly', 'Gen', '4', 'can', 'note', 'the', 'difference', 'in', 'device', 'performance']]\n",
      "216\n",
      "216\n",
      "216\n",
      "135\n",
      "135\n",
      "135\n"
     ]
    },
    {
     "name": "stdout",
     "output_type": "stream",
     "text": [
      "135\n",
      "135\n"
     ]
    }
   ],
   "source": [
    "### Tokenize\n",
    "review =  data.review_text\n",
    "data_list = list()\n",
    "for comp in review:\n",
    "    data_list.append(RegexpTokenizer('\\w+').tokenize(comp))\n",
    "\n",
    "print(data_list)\n",
    "## print Example\n",
    "##print(data_list[:3])\n",
    "\n",
    "### Case conversion to Lower Case\n",
    "low=[]\n",
    "for line in data_list:\n",
    "    lines = list(map(lambda x : x.lower(),line))\n",
    "    low.append(lines) \n",
    "#print(low[:3])\n",
    "\n",
    "### Removing Punctuation & Stopwords\n",
    "#### Punctuation\n",
    "\n",
    "# Remove Punctuation\n",
    "  \n",
    "puncList = [\";\",\":\",\"!\",\"?\",\"/\",\"\\\\\",\",\",\"#\",\"@\",\"$\",\"&\",\")\",\"(\",\"\\\"\"]\n",
    "Punc_filtered_sentence = [] \n",
    "for lines in low:\n",
    "    punc = []\n",
    "    for w in lines: \n",
    "        if w not in puncList: \n",
    "            punc.append(w) \n",
    "    Punc_filtered_sentence.append(punc)\n",
    "\n",
    "print(len(low[0])) \n",
    "print(len(Punc_filtered_sentence[0])) \n",
    "\n",
    "# Remove stop_words \n",
    "\n",
    "stop_words = set(stopwords.words('english')) \n",
    "filtered_sentence = [] \n",
    "\n",
    "for lines in Punc_filtered_sentence:\n",
    "    word = []\n",
    "    for w in lines: \n",
    "        if w not in stop_words: \n",
    "            word.append(w) \n",
    "    filtered_sentence.append(word)\n",
    "\n",
    "print(len(Punc_filtered_sentence[0])) \n",
    "print(len(filtered_sentence[0])) \n",
    "\n",
    "\n",
    "# Stemming & Lemitization\n",
    "# any one among Stemming & Lemitization is fine\n",
    "\n",
    "\n",
    "lancaster=LancasterStemmer()\n",
    "\n",
    "# Stemming\n",
    "\n",
    "stemmed=[]\n",
    "for line in filtered_sentence:\n",
    "    lines = list(map(lambda x : lancaster.stem(x),line))\n",
    "    stemmed.append(lines) \n",
    "print(len(filtered_sentence[0])) \n",
    "print(len(stemmed[0])) \n",
    "\n",
    "\n",
    "# Lemitization\n",
    "\n",
    "lmtzr = WordNetLemmatizer()\n",
    "lemmitized=[]\n",
    "for line in stemmed:\n",
    "    lines = list(map(lambda x : lmtzr.lemmatize(x),line))\n",
    "    lemmitized.append(lines) \n",
    "print(len(stemmed[0])) \n",
    "print(len(lemmitized[0])) "
   ]
  },
  {
   "cell_type": "markdown",
   "metadata": {
    "id": "VE7EMm5GVrMI"
   },
   "source": [
    "## Question : 3 (Marks  15)\n",
    "\n",
    "### 3.1 On the cleaned text data, perform a Sentiment analysis to understand the emotion of the individual reviews as well as the  overall review. \n",
    "\n",
    "Steps:\n",
    "- Assign the subjetivity response to the content\n",
    "- Assign the polarity response to the content\n",
    "- Assign sentiment to the content\n",
    "- Assign Polarity to the entire content\n",
    "- Visualize the frequency distribution of the sentiment on each content\n"
   ]
  },
  {
   "cell_type": "code",
   "execution_count": 4,
   "metadata": {},
   "outputs": [
    {
     "data": {
      "text/html": [
       "<div>\n",
       "<style scoped>\n",
       "    .dataframe tbody tr th:only-of-type {\n",
       "        vertical-align: middle;\n",
       "    }\n",
       "\n",
       "    .dataframe tbody tr th {\n",
       "        vertical-align: top;\n",
       "    }\n",
       "\n",
       "    .dataframe thead th {\n",
       "        text-align: right;\n",
       "    }\n",
       "</style>\n",
       "<table border=\"1\" class=\"dataframe\">\n",
       "  <thead>\n",
       "    <tr style=\"text-align: right;\">\n",
       "      <th></th>\n",
       "      <th>Review</th>\n",
       "    </tr>\n",
       "  </thead>\n",
       "  <tbody>\n",
       "    <tr>\n",
       "      <th>0</th>\n",
       "      <td>[1st, ev, echo, amaz, cap, howev, stil, feel, ...</td>\n",
       "    </tr>\n",
       "    <tr>\n",
       "      <th>1</th>\n",
       "      <td>[excel, produc, sup, qual, cap, play, aud, aud...</td>\n",
       "    </tr>\n",
       "    <tr>\n",
       "      <th>2</th>\n",
       "      <td>[first, echo, dot, definit, look, good, lik, s...</td>\n",
       "    </tr>\n",
       "    <tr>\n",
       "      <th>3</th>\n",
       "      <td>[expect, 4th, gen, disappoint, noth, new, thin...</td>\n",
       "    </tr>\n",
       "    <tr>\n",
       "      <th>4</th>\n",
       "      <td>[lov, new, revamp, vert, alex, nee, config, de...</td>\n",
       "    </tr>\n",
       "  </tbody>\n",
       "</table>\n",
       "</div>"
      ],
      "text/plain": [
       "                                              Review\n",
       "0  [1st, ev, echo, amaz, cap, howev, stil, feel, ...\n",
       "1  [excel, produc, sup, qual, cap, play, aud, aud...\n",
       "2  [first, echo, dot, definit, look, good, lik, s...\n",
       "3  [expect, 4th, gen, disappoint, noth, new, thin...\n",
       "4  [lov, new, revamp, vert, alex, nee, config, de..."
      ]
     },
     "execution_count": 4,
     "metadata": {},
     "output_type": "execute_result"
    }
   ],
   "source": [
    "review_df = pd.DataFrame()\n",
    "review_df['Review'] = lemmitized\n",
    "review_df.head()"
   ]
  },
  {
   "cell_type": "code",
   "execution_count": 5,
   "metadata": {},
   "outputs": [
    {
     "data": {
      "text/plain": [
       "0      0.551316\n",
       "1      0.500000\n",
       "2      0.422813\n",
       "3      0.365455\n",
       "4      0.486980\n",
       "         ...   \n",
       "123    0.200000\n",
       "124    0.438889\n",
       "125    0.642857\n",
       "126    0.637576\n",
       "127    0.400000\n",
       "Name: Subjectivity, Length: 128, dtype: float64"
      ]
     },
     "execution_count": 5,
     "metadata": {},
     "output_type": "execute_result"
    }
   ],
   "source": [
    "# Assign the subjetivity response to the content\n",
    "from textblob import TextBlob\n",
    "def getTextSubjectivity(txt):\n",
    "    return TextBlob(txt).sentiment.subjectivity\n",
    " \n",
    "\n",
    "review_df['Subjectivity'] = review_df['Review'].transform(lambda x: getTextSubjectivity(str(x)))\n",
    "review_df['Subjectivity'] \n"
   ]
  },
  {
   "cell_type": "code",
   "execution_count": 6,
   "metadata": {},
   "outputs": [
    {
     "data": {
      "text/plain": [
       "0      0.203258\n",
       "1      0.400000\n",
       "2      0.141380\n",
       "3      0.108636\n",
       "4      0.256460\n",
       "         ...   \n",
       "123    0.200000\n",
       "124    0.425000\n",
       "125    0.214286\n",
       "126    0.168939\n",
       "127    0.250000\n",
       "Name: Polarity, Length: 128, dtype: float64"
      ]
     },
     "execution_count": 6,
     "metadata": {},
     "output_type": "execute_result"
    }
   ],
   "source": [
    "# Assign the polarity response to the content\n",
    "def getTextPolarity(txt):\n",
    "    return TextBlob(txt).sentiment.polarity\n",
    "\n",
    "review_df['Polarity'] = review_df['Review'].transform(lambda x: getTextPolarity(str(x)))\n",
    "review_df['Polarity'] "
   ]
  },
  {
   "cell_type": "code",
   "execution_count": 7,
   "metadata": {},
   "outputs": [
    {
     "name": "stdout",
     "output_type": "stream",
     "text": [
      "82.8125 % of positive Review\n"
     ]
    }
   ],
   "source": [
    "# Assing sentiment to the content using polity \n",
    "# same can be done using subjetivity its reange would be [0,1]\n",
    "def getTextAnalysis(a):\n",
    "    if a < 0:\n",
    "        return \"Negative\"\n",
    "    elif a == 0:\n",
    "        return \"Neutral\"\n",
    "    else:\n",
    "        return \"Positive\" \n",
    "\n",
    "review_df['Sentiment'] = review_df['Polarity'].apply(getTextAnalysis)\n",
    "\n",
    "positive = review_df[review_df['Sentiment'] == 'Positive']\n",
    "\n",
    "print(str(positive.shape[0]/(review_df.shape[0])*100) + \" % of positive Review\")"
   ]
  },
  {
   "cell_type": "code",
   "execution_count": 8,
   "metadata": {},
   "outputs": [
    {
     "data": {
      "text/plain": [
       "<BarContainer object of 3 artists>"
      ]
     },
     "execution_count": 8,
     "metadata": {},
     "output_type": "execute_result"
    },
    {
     "data": {
      "image/png": "[encoded data removed]",
      "text/plain": [
       "<Figure size 1000x500 with 1 Axes>"
      ]
     },
     "metadata": {},
     "output_type": "display_data"
    }
   ],
   "source": [
    "# Visualize the frequency distribution of the sentiment on each content\n",
    "\n",
    "plt.figure(figsize = (10,5))\n",
    "labels = review_df.groupby('Sentiment').count().index.values\n",
    "\n",
    "values = review_df.groupby('Sentiment').size().values\n",
    "\n",
    "plt.bar(labels, values)"
   ]
  },
  {
   "cell_type": "markdown",
   "metadata": {
    "id": "Kl42t4HzKUgV"
   },
   "source": [
    "## Question 4.  (Marks 10)\n",
    "## Find the TF-IDF   values of the words 'smart' and 'clear' in the first record  of the given dataset  "
   ]
  },
  {
   "cell_type": "code",
   "execution_count": 9,
   "metadata": {},
   "outputs": [],
   "source": [
    "# conver list of words into sentence\n",
    "\n",
    "def list_to_text(list):\n",
    "    return ' '.join([str(elem) for elem in list])\n",
    "\n",
    "review_df['Review_sentences'] = review_df['Review'].apply(list_to_text)\n"
   ]
  },
  {
   "cell_type": "code",
   "execution_count": 10,
   "metadata": {
    "scrolled": true
   },
   "outputs": [
    {
     "name": "stdout",
     "output_type": "stream",
     "text": [
      "[[0.         0.08728296 0.         ... 0.         0.         0.        ]\n",
      " [0.         0.         0.         ... 0.         0.         0.        ]\n",
      " [0.         0.         0.         ... 0.         0.         0.        ]\n",
      " ...\n",
      " [0.         0.         0.         ... 0.         0.         0.        ]\n",
      " [0.         0.         0.         ... 0.         0.         0.        ]\n",
      " [0.         0.         0.         ... 0.         0.         0.        ]]\n",
      "[0.         0.08728296 0.         ... 0.         0.         0.        ]\n"
     ]
    }
   ],
   "source": [
    "vectorizer = TfidfVectorizer()\n",
    "corpus = review_df['Review_sentences']\n",
    "vectorizer.fit(corpus)\n",
    "skl_tf_idf_vectorized = vectorizer.transform(corpus)\n",
    "print(skl_tf_idf_vectorized.toarray())\n",
    "skl_tfdf_output = (skl_tf_idf_vectorized.toarray())[0]\n",
    "print(skl_tfdf_output)"
   ]
  },
  {
   "cell_type": "code",
   "execution_count": 11,
   "metadata": {
    "scrolled": true
   },
   "outputs": [
    {
     "name": "stderr",
     "output_type": "stream",
     "text": [
      "/Users/kaustuvkunal/Library/Python/3.9/lib/python/site-packages/sklearn/utils/deprecation.py:87: FutureWarning: Function get_feature_names is deprecated; get_feature_names is deprecated in 1.0 and will be removed in 1.2. Please use get_feature_names_out instead.\n",
      "  warnings.warn(msg, category=FutureWarning)\n"
     ]
    },
    {
     "data": {
      "text/html": [
       "<div>\n",
       "<style scoped>\n",
       "    .dataframe tbody tr th:only-of-type {\n",
       "        vertical-align: middle;\n",
       "    }\n",
       "\n",
       "    .dataframe tbody tr th {\n",
       "        vertical-align: top;\n",
       "    }\n",
       "\n",
       "    .dataframe thead th {\n",
       "        text-align: right;\n",
       "    }\n",
       "</style>\n",
       "<table border=\"1\" class=\"dataframe\">\n",
       "  <thead>\n",
       "    <tr style=\"text-align: right;\">\n",
       "      <th></th>\n",
       "      <th>tf-idf</th>\n",
       "    </tr>\n",
       "  </thead>\n",
       "  <tbody>\n",
       "    <tr>\n",
       "      <th>04th</th>\n",
       "      <td>0.000000</td>\n",
       "    </tr>\n",
       "    <tr>\n",
       "      <th>10</th>\n",
       "      <td>0.087283</td>\n",
       "    </tr>\n",
       "    <tr>\n",
       "      <th>1000</th>\n",
       "      <td>0.000000</td>\n",
       "    </tr>\n",
       "    <tr>\n",
       "      <th>1000rs</th>\n",
       "      <td>0.000000</td>\n",
       "    </tr>\n",
       "    <tr>\n",
       "      <th>10feet</th>\n",
       "      <td>0.000000</td>\n",
       "    </tr>\n",
       "  </tbody>\n",
       "</table>\n",
       "</div>"
      ],
      "text/plain": [
       "          tf-idf\n",
       "04th    0.000000\n",
       "10      0.087283\n",
       "1000    0.000000\n",
       "1000rs  0.000000\n",
       "10feet  0.000000"
      ]
     },
     "execution_count": 11,
     "metadata": {},
     "output_type": "execute_result"
    }
   ],
   "source": [
    "df_tfdf_sklearn = pd.DataFrame(skl_tfdf_output, index = vectorizer.get_feature_names(), columns=['tf-idf'])\n",
    "df_tfdf_sklearn.head()"
   ]
  },
  {
   "cell_type": "code",
   "execution_count": 12,
   "metadata": {},
   "outputs": [
    {
     "data": {
      "text/plain": [
       "tf-idf    0.097679\n",
       "Name: smart, dtype: float64"
      ]
     },
     "execution_count": 12,
     "metadata": {},
     "output_type": "execute_result"
    }
   ],
   "source": [
    "# tfidf value of word smart\n",
    "df_tfdf_sklearn.loc['smart']"
   ]
  },
  {
   "cell_type": "code",
   "execution_count": 13,
   "metadata": {},
   "outputs": [
    {
     "data": {
      "text/plain": [
       "tf-idf    0.0\n",
       "Name: clear, dtype: float64"
      ]
     },
     "execution_count": 13,
     "metadata": {},
     "output_type": "execute_result"
    }
   ],
   "source": [
    "# tfidf value of word clear\n",
    "df_tfdf_sklearn.loc['clear']"
   ]
  }
 ],
 "metadata": {
  "colab": {
   "collapsed_sections": [],
   "name": "NLP_GA_ Model_QP.ipynb",
   "provenance": []
  },
  "kernelspec": {
   "display_name": "Python 3 (ipykernel)",
   "language": "python",
   "name": "python3"
  },
  "language_info": {
   "codemirror_mode": {
    "name": "ipython",
    "version": 3
   },
   "file_extension": ".py",
   "mimetype": "text/x-python",
   "name": "python",
   "nbconvert_exporter": "python",
   "pygments_lexer": "ipython3",
   "version": "3.11.4"
  }
 },
 "nbformat": 4,
 "nbformat_minor": 4
}
