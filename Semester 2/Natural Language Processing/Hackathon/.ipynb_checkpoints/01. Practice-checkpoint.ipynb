{
 "cells": [
  {
   "cell_type": "code",
   "execution_count": 1,
   "id": "8cf80da8-6156-40aa-9954-a9eb031cb030",
   "metadata": {},
   "outputs": [
    {
     "name": "stdout",
     "output_type": "stream",
     "text": [
      "Requirement already satisfied: nltk in c:\\python\\python312\\lib\\site-packages (3.8.1)\n",
      "Requirement already satisfied: click in c:\\python\\python312\\lib\\site-packages (from nltk) (8.1.7)\n",
      "Requirement already satisfied: joblib in c:\\python\\python312\\lib\\site-packages (from nltk) (1.3.2)\n",
      "Requirement already satisfied: regex>=2021.8.3 in c:\\python\\python312\\lib\\site-packages (from nltk) (2024.5.15)\n",
      "Requirement already satisfied: tqdm in c:\\python\\python312\\lib\\site-packages (from nltk) (4.66.4)\n",
      "Requirement already satisfied: colorama in c:\\python\\python312\\lib\\site-packages (from click->nltk) (0.4.6)\n",
      "Note: you may need to restart the kernel to use updated packages.\n"
     ]
    }
   ],
   "source": [
    "# pip install nltk"
   ]
  },
  {
   "cell_type": "code",
   "execution_count": 2,
   "id": "36750316-a03f-48f7-8897-b6359474bef0",
   "metadata": {},
   "outputs": [
    {
     "name": "stderr",
     "output_type": "stream",
     "text": [
      "[nltk_data] Downloading package twitter_samples to\n",
      "[nltk_data]     C:\\Users\\I522400\\AppData\\Roaming\\nltk_data...\n",
      "[nltk_data]   Unzipping corpora\\twitter_samples.zip.\n",
      "[nltk_data] Downloading package stopwords to\n",
      "[nltk_data]     C:\\Users\\I522400\\AppData\\Roaming\\nltk_data...\n",
      "[nltk_data]   Unzipping corpora\\stopwords.zip.\n",
      "[nltk_data] Downloading package punkt to\n",
      "[nltk_data]     C:\\Users\\I522400\\AppData\\Roaming\\nltk_data...\n",
      "[nltk_data]   Unzipping tokenizers\\punkt.zip.\n",
      "[nltk_data] Downloading package wordnet to\n",
      "[nltk_data]     C:\\Users\\I522400\\AppData\\Roaming\\nltk_data...\n"
     ]
    },
    {
     "data": {
      "text/plain": [
       "True"
      ]
     },
     "execution_count": 2,
     "metadata": {},
     "output_type": "execute_result"
    }
   ],
   "source": [
    "import nltk\n",
    "nltk.download('twitter_samples')\n",
    "nltk.download('stopwords')\n",
    "nltk.download('punkt')\n",
    "nltk.download('wordnet')\n",
    "nltk.download('vader_lexicon')"
   ]
  },
  {
   "cell_type": "code",
   "execution_count": 3,
   "id": "17414c3c-1ef6-428a-918a-9bac12cc64a6",
   "metadata": {},
   "outputs": [],
   "source": [
    "from nltk.corpus import twitter_samples\n",
    "import random\n",
    "\n",
    "# Load twitter samples dataset\n",
    "positive_tweets = twitter_samples.strings('positive_tweets.json')\n",
    "negative_tweets = twitter_samples.strings('negative_tweets.json')\n",
    "\n",
    "# Combine the datasets and create labels\n",
    "tweets = positive_tweets + negative_tweets\n",
    "labels = ['Positive'] * len(positive_tweets) + ['Negative'] * len(negative_tweets)\n",
    "\n",
    "# Shuffle the dataset\n",
    "combined = list(zip(tweets, labels))\n",
    "random.shuffle(combined)\n",
    "tweets, labels = zip(*combined)"
   ]
  },
  {
   "cell_type": "code",
   "execution_count": 4,
   "id": "eb3fd8dc-6603-4c55-a307-97787e0a268a",
   "metadata": {},
   "outputs": [
    {
     "name": "stdout",
     "output_type": "stream",
     "text": [
      "['NLTK', 'is', 'a', 'powerful', 'library', 'for', 'NLP', '.']\n"
     ]
    }
   ],
   "source": [
    "from nltk.tokenize import word_tokenize\n",
    "\n",
    "sample_text = \"NLTK is a powerful library for NLP.\"\n",
    "tokens = word_tokenize(sample_text)\n",
    "print(tokens)"
   ]
  },
  {
   "cell_type": "code",
   "execution_count": 5,
   "id": "8f89e463-dbd7-4220-af0e-0a41fcef2915",
   "metadata": {},
   "outputs": [
    {
     "name": "stdout",
     "output_type": "stream",
     "text": [
      "['NLTK', 'powerful', 'library', 'NLP', '.']\n"
     ]
    }
   ],
   "source": [
    "from nltk.corpus import stopwords\n",
    "\n",
    "stop_words = set(stopwords.words('english'))\n",
    "\n",
    "def remove_stopwords(tokens):\n",
    "    return [word for word in tokens if word.lower() not in stop_words]\n",
    "\n",
    "filtered_tokens = remove_stopwords(tokens)\n",
    "print(filtered_tokens)"
   ]
  },
  {
   "cell_type": "code",
   "execution_count": 6,
   "id": "5527bf34-b341-4193-b181-59a6c7f894cb",
   "metadata": {},
   "outputs": [
    {
     "name": "stdout",
     "output_type": "stream",
     "text": [
      "['nltk', 'power', 'librari', 'nlp', '.']\n",
      "['NLTK', 'powerful', 'library', 'NLP', '.']\n"
     ]
    }
   ],
   "source": [
    "from nltk.stem import PorterStemmer\n",
    "from nltk.stem import WordNetLemmatizer\n",
    "\n",
    "stemmer = PorterStemmer()\n",
    "lemmatizer = WordNetLemmatizer()\n",
    "\n",
    "stemmed_tokens = [stemmer.stem(word) for word in filtered_tokens]\n",
    "lemmatized_tokens = [lemmatizer.lemmatize(word) for word in filtered_tokens]\n",
    "print(stemmed_tokens)\n",
    "print(lemmatized_tokens)"
   ]
  },
  {
   "cell_type": "code",
   "execution_count": 7,
   "id": "19a740c8-215f-4471-a075-54511d46b5f6",
   "metadata": {},
   "outputs": [],
   "source": [
    "from nltk.probability import FreqDist\n",
    "\n",
    "all_words = [word.lower() for tweet in tweets for word in word_tokenize(tweet)]\n",
    "all_words_freq = FreqDist(all_words)\n",
    "\n",
    "# Select the top 2000 words as features\n",
    "word_features = list(all_words_freq.keys())[:2000]\n",
    "\n",
    "def document_features(document):\n",
    "    document_words = set(document)\n",
    "    features = {}\n",
    "    for word in word_features:\n",
    "        features['contains({})'.format(word)] = (word in document_words)\n",
    "    return features\n",
    "\n",
    "# Create feature sets for training and testing\n",
    "feature_sets = [(document_features(word_tokenize(tweet)), label) for (tweet, label) in zip(tweets, labels)]\n",
    "train_set, test_set = feature_sets[1000:], feature_sets[:1000]"
   ]
  },
  {
   "cell_type": "code",
   "execution_count": 8,
   "id": "37a7243b-78d2-4617-be31-14b1840b5fa8",
   "metadata": {},
   "outputs": [],
   "source": [
    "from nltk.classify import NaiveBayesClassifier\n",
    "\n",
    "classifier = NaiveBayesClassifier.train(train_set)"
   ]
  },
  {
   "cell_type": "code",
   "execution_count": 9,
   "id": "5bd16bbd-071f-4219-90d6-d5f608f87670",
   "metadata": {},
   "outputs": [
    {
     "name": "stdout",
     "output_type": "stream",
     "text": [
      "Accuracy: 99.30%\n"
     ]
    }
   ],
   "source": [
    "import nltk.classify.util\n",
    "\n",
    "accuracy = nltk.classify.util.accuracy(classifier, test_set)\n",
    "print(f'Accuracy: {accuracy * 100:.2f}%')"
   ]
  },
  {
   "cell_type": "code",
   "execution_count": 10,
   "id": "89ba0ac5-11c7-41b8-a3da-cc4e74d54d74",
   "metadata": {},
   "outputs": [
    {
     "name": "stdout",
     "output_type": "stream",
     "text": [
      "Most Informative Features\n",
      "             contains()) = True           Positi : Negati =     68.0 : 1.0\n",
      "             contains(() = True           Negati : Positi =     64.8 : 1.0\n",
      "           contains(sad) = True           Negati : Positi =     27.1 : 1.0\n",
      "          contains(miss) = True           Negati : Positi =     20.4 : 1.0\n",
      "         contains(loves) = True           Positi : Negati =     18.2 : 1.0\n",
      "     contains(community) = True           Positi : Negati =     17.6 : 1.0\n",
      "       contains(arrived) = True           Positi : Negati =     17.0 : 1.0\n",
      "          contains(blog) = True           Positi : Negati =     15.6 : 1.0\n",
      "          contains(glad) = True           Positi : Negati =     15.6 : 1.0\n",
      "        contains(thanks) = True           Positi : Negati =     12.7 : 1.0\n"
     ]
    }
   ],
   "source": [
    "classifier.show_most_informative_features(10)"
   ]
  },
  {
   "cell_type": "code",
   "execution_count": 13,
   "id": "4e5ae91a-4e0c-43c3-ba8a-6de75c68b594",
   "metadata": {},
   "outputs": [
    {
     "name": "stdout",
     "output_type": "stream",
     "text": [
      "{'neg': 0.0, 'neu': 0.577, 'pos': 0.423, 'compound': 0.6588}\n"
     ]
    }
   ],
   "source": [
    "from nltk.sentiment.vader import SentimentIntensityAnalyzer\n",
    "\n",
    "sid = SentimentIntensityAnalyzer()\n",
    "text = \"NLTK is a great library for text processing!\"\n",
    "sentiment_scores = sid.polarity_scores(text)\n",
    "print(sentiment_scores)"
   ]
  },
  {
   "cell_type": "code",
   "execution_count": 14,
   "id": "d067dc65-0976-4eb6-9cd4-af0ff02465cd",
   "metadata": {},
   "outputs": [
    {
     "name": "stdout",
     "output_type": "stream",
     "text": [
      "Positive\n"
     ]
    }
   ],
   "source": [
    "# Classifying a new sentence using the trained classifier\n",
    "test_sentence = \"This is an amazing movie!\"\n",
    "test_features = document_features(word_tokenize(test_sentence))\n",
    "classification = classifier.classify(test_features)\n",
    "print(classification)"
   ]
  },
  {
   "cell_type": "code",
   "execution_count": null,
   "id": "6ad7fd6d-0bb7-4165-98c5-c9cfefc531b4",
   "metadata": {},
   "outputs": [],
   "source": []
  }
 ],
 "metadata": {
  "kernelspec": {
   "display_name": "Python 3 (ipykernel)",
   "language": "python",
   "name": "python3"
  },
  "language_info": {
   "codemirror_mode": {
    "name": "ipython",
    "version": 3
   },
   "file_extension": ".py",
   "mimetype": "text/x-python",
   "name": "python",
   "nbconvert_exporter": "python",
   "pygments_lexer": "ipython3",
   "version": "3.12.0"
  }
 },
 "nbformat": 4,
 "nbformat_minor": 5
}
