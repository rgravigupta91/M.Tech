{
 "cells": [
  {
   "cell_type": "code",
   "execution_count": 33,
   "id": "73daf4b6",
   "metadata": {},
   "outputs": [],
   "source": [
    "import warnings\n",
    "\n",
    "import re\n",
    "import pandas as pd\n",
    "\n",
    "from nltk.corpus import stopwords\n",
    "from nltk.stem import WordNetLemmatizer\n",
    "from sklearn.feature_extraction.text import TfidfVectorizer\n",
    "from sklearn.ensemble import AdaBoostClassifier\n",
    "from sklearn.model_selection import train_test_split, RandomizedSearchCV, StratifiedKFold\n",
    "from sklearn.metrics import classification_report, confusion_matrix\n",
    "from sklearn.metrics import f1_score, ConfusionMatrixDisplay\n",
    "\n",
    "warnings.filterwarnings('ignore')"
   ]
  },
  {
   "cell_type": "code",
   "execution_count": 2,
   "id": "0e1f66b4",
   "metadata": {},
   "outputs": [],
   "source": [
    "train_data = pd.read_csv('Train Data.csv')\n",
    "test_data = pd.read_csv('Test Data.csv')"
   ]
  },
  {
   "cell_type": "code",
   "execution_count": 3,
   "id": "5af8f6c5",
   "metadata": {},
   "outputs": [],
   "source": [
    "# Initialisations\n",
    "stop_words = set(stopwords.words('english'))\n",
    "lemmatizer = WordNetLemmatizer()\n",
    "\n",
    "def preprocess_text(text):\n",
    "    \"\"\"\n",
    "    Function to clean and preprocess text data.\n",
    "    \"\"\"\n",
    "    # Convert to lowercase\n",
    "    text = text.lower()\n",
    "\n",
    "    # Remove special characters, numbers, and punctuation\n",
    "    text = re.sub(r'[^a-z\\s]', '', text)\n",
    "\n",
    "    # Remove extra whitespace\n",
    "    text = re.sub(r'\\s+', ' ', text).strip()\n",
    "\n",
    "    # Remove stopwords and lemmatise\n",
    "    tokens = [lemmatizer.lemmatize(word) for word in text.split() if word not in stop_words]\n",
    "\n",
    "    # Join tokens back to text\n",
    "    return \" \".join(tokens)\n",
    "\n",
    "# Apply pre-processing to training and test data\n",
    "train_data['Cleaned_Review'] = train_data['Review'].apply(preprocess_text)\n",
    "test_data['Cleaned_Review'] = test_data['Review'].apply(preprocess_text)"
   ]
  },
  {
   "cell_type": "code",
   "execution_count": 4,
   "id": "f7377fe6",
   "metadata": {},
   "outputs": [],
   "source": [
    "train_data.drop(labels='Review', axis=1, inplace=True)\n",
    "test_data.drop(labels='Review', axis=1, inplace=True)"
   ]
  },
  {
   "cell_type": "code",
   "execution_count": null,
   "id": "18370d38",
   "metadata": {},
   "outputs": [],
   "source": [
    "display(train_data.head(2))\n",
    "display(train_data.tail(2))\n",
    "display(test_data.head(2))\n",
    "display(test_data.tail(2))"
   ]
  },
  {
   "cell_type": "code",
   "execution_count": 9,
   "id": "2b5f6b55",
   "metadata": {},
   "outputs": [],
   "source": [
    "X = train_data[['Cleaned_Review', 'Review_Title']]\n",
    "y = train_data['Rating']"
   ]
  },
  {
   "cell_type": "code",
   "execution_count": 10,
   "id": "210819b9",
   "metadata": {},
   "outputs": [],
   "source": [
    "# Split the dataset into training and test sets (80% train, 20% test)\n",
    "X_train, X_test, y_train, y_test = train_test_split(X, y, shuffle=True, test_size=0.2, random_state=0)"
   ]
  },
  {
   "cell_type": "code",
   "execution_count": null,
   "id": "b0c6f760",
   "metadata": {},
   "outputs": [],
   "source": [
    "X_train.isna().sum()"
   ]
  },
  {
   "cell_type": "code",
   "execution_count": 12,
   "id": "0e279b15",
   "metadata": {},
   "outputs": [],
   "source": [
    "# Combine 'Cleaned_Review' and 'Review_Title' into a single text column\n",
    "X_train = X_train['Review_Title'] + \" \" + X_train['Cleaned_Review']\n",
    "X_test = X_test['Review_Title'] + \" \" + X_test['Review_Title']"
   ]
  },
  {
   "cell_type": "code",
   "execution_count": null,
   "id": "9db8c862",
   "metadata": {},
   "outputs": [],
   "source": [
    "X_train.head(2)"
   ]
  },
  {
   "cell_type": "code",
   "execution_count": 14,
   "id": "f5d603dd",
   "metadata": {},
   "outputs": [],
   "source": [
    "# Convert the reviews (text data) into numerical vectors using TF-IDF\n",
    "vectorizer = TfidfVectorizer(stop_words='english', max_features=5000, ngram_range=(1, 2))\n",
    "X_train_tfidf = vectorizer.fit_transform(X_train)\n",
    "X_test_tfidf = vectorizer.transform(X_test)"
   ]
  },
  {
   "cell_type": "code",
   "execution_count": null,
   "id": "140c9afd",
   "metadata": {},
   "outputs": [],
   "source": [
    "X_train.shape, X_test_tfidf.shape"
   ]
  },
  {
   "cell_type": "code",
   "execution_count": 16,
   "id": "45904c1b",
   "metadata": {},
   "outputs": [],
   "source": [
    "test_X = test_data['Review_Title'] + \" \" + test_data['Cleaned_Review']\n",
    "test_data_tfidf = vectorizer.transform(test_X)"
   ]
  },
  {
   "cell_type": "code",
   "execution_count": null,
   "id": "7c682ad3",
   "metadata": {},
   "outputs": [],
   "source": [
    "test_data.shape, test_data_tfidf.shape"
   ]
  },
  {
   "cell_type": "code",
   "execution_count": null,
   "id": "f1e2d5c4",
   "metadata": {},
   "outputs": [],
   "source": [
    "stratified_k_fold_cv = StratifiedKFold(n_splits=5, shuffle=True, random_state=0)"
   ]
  },
  {
   "cell_type": "code",
   "execution_count": null,
   "id": "05cfae3d",
   "metadata": {},
   "outputs": [],
   "source": [
    "# Define the objective function for Optuna\n",
    "def objective(trial):\n",
    "    # Define hyperparameter search space\n",
    "    n_estimators = trial.suggest_int('n_estimators', 100, 1000, step=100)\n",
    "    learning_rate = trial.suggest_categorical('learning_rate', [0.5, 1.0, 1.1, 1.2, 1.5, 2.0, 3.0])\n",
    "    algorithm = trial.suggest_categorical('algorithm', ['SAMME', 'SAMME.R'])\n",
    "\n",
    "    # Create the model\n",
    "    model = AdaBoostClassifier(\n",
    "        n_estimators=n_estimators,\n",
    "        learning_rate=learning_rate,\n",
    "        algorithm=algorithm\n",
    "    )\n",
    "\n",
    "    # Evaluate the model using cross-validation\n",
    "    scores = cross_val_score(model, X_train_tfidf, y_train, cv=stratified_k_fold_cv, scoring='f1')\n",
    "    return scores.mean()\n",
    "\n",
    "# Run the optimisation\n",
    "study = optuna.create_study(direction='maximize')\n",
    "study.optimize(objective, n_trials=20)\n",
    "\n",
    "# Train and evaluate the best model\n",
    "best_params = study.best_params\n",
    "best_adaboost_model = AdaBoostClassifier(**best_params)\n",
    "best_adaboost_model.fit(X_train_tfidf, y_train)"
   ]
  },
  {
   "cell_type": "code",
   "execution_count": null,
   "id": "d2a96e76",
   "metadata": {},
   "outputs": [],
   "source": [
    "# Define the AdaBoost model\n",
    "adaboost_model = AdaBoostClassifier()\n",
    "\n",
    "# Parameter grid for AdaBoost\n",
    "param_grid_adaboost = {\n",
    "    'n_estimators': range(100, 1000, 100),  # Number of estimators\n",
    "    'learning_rate': [0.01, 0.1, 0.5, 1.0],  # Learning rate\n",
    "    'algorithm': ['SAMME', 'SAMME.R']  # Algorithm variants\n",
    "}\n",
    "\n",
    "# RandomizedSearchCV for AdaBoost\n",
    "adaboost_random_search = RandomizedSearchCV(\n",
    "    estimator=adaboost_model,\n",
    "    param_distributions=param_grid_adaboost,\n",
    "    n_iter=20,                         # Number of parameter settings to try\n",
    "    scoring='f1',                      # Use F1 score for binary classification\n",
    "    cv=stratified_k_fold_cv,           # Stratified K-Fold\n",
    "    random_state=0,\n",
    "    n_jobs=-1                          # Use all available processors\n",
    ")\n",
    "\n",
    "# Fit the model\n",
    "adaboost_random_search.fit(X_train_tfidf, y_train)\n",
    "best_adaboost_model = adaboost_random_search.best_estimator_"
   ]
  },
  {
   "cell_type": "code",
   "execution_count": null,
   "id": "28645b57",
   "metadata": {},
   "outputs": [],
   "source": [
    "# Best parameters and score\n",
    "print(\"Best Parameters:\", adaboost_random_search.best_params_)\n",
    "print(\"Best F1 Score:\", adaboost_random_search.best_score_)\n",
    "\n",
    "y_pred_adaboost = best_adaboost_model.predict(X_test_tfidf)\n",
    "print(classification_report(y_test, y_pred_adaboost))\n",
    "print(\"Confusion Matrix\", ConfusionMatrixDisplay(confusion_matrix(y_test, y_pred_adaboost)).plot())\n",
    "print(\"F1 Score:\", f1_score(y_test, y_pred_adaboost))"
   ]
  },
  {
   "cell_type": "code",
   "execution_count": null,
   "id": "e79c1f48",
   "metadata": {},
   "outputs": [],
   "source": [
    "test_pred_custom = best_adaboost_model.predict(test_data_tfidf)"
   ]
  },
  {
   "cell_type": "code",
   "execution_count": null,
   "id": "ed8cd983",
   "metadata": {},
   "outputs": [],
   "source": [
    "df = pd.DataFrame({\n",
    "    'ID': test_data['ID'],\n",
    "    'Rating': test_pred_custom\n",
    "    })\n",
    "\n",
    "display(df.head(2))\n",
    "display(df.tail(2))"
   ]
  },
  {
   "cell_type": "code",
   "execution_count": 28,
   "id": "d25d18dd",
   "metadata": {},
   "outputs": [],
   "source": [
    "df.to_csv('NLP_Hackathon_JN_.csv', index=False)"
   ]
  },
  {
   "cell_type": "code",
   "execution_count": null,
   "id": "af6db2b4",
   "metadata": {},
   "outputs": [],
   "source": []
  }
 ],
 "metadata": {
  "kernelspec": {
   "display_name": "Python 3 (ipykernel)",
   "language": "python",
   "name": "python3"
  },
  "language_info": {
   "codemirror_mode": {
    "name": "ipython",
    "version": 3
   },
   "file_extension": ".py",
   "mimetype": "text/x-python",
   "name": "python",
   "nbconvert_exporter": "python",
   "pygments_lexer": "ipython3",
   "version": "3.11.7"
  }
 },
 "nbformat": 4,
 "nbformat_minor": 5
}
