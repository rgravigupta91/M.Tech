{
 "cells": [
  {
   "cell_type": "markdown",
   "metadata": {
    "id": "GcNtr5NJfNQ8"
   },
   "source": [
    "# Objective\n",
    "\n",
    "- Tokenizers - Under the hood\n",
    "- Embedding models for classical NLP tasks"
   ]
  },
  {
   "cell_type": "markdown",
   "metadata": {
    "id": "IjWzIu-mfK2B"
   },
   "source": [
    "# Setup"
   ]
  },
  {
   "cell_type": "code",
   "execution_count": 1,
   "metadata": {
    "colab": {
     "base_uri": "https://localhost:8080/"
    },
    "execution": {
     "iopub.execute_input": "2024-08-26T05:19:06.940008Z",
     "iopub.status.busy": "2024-08-26T05:19:06.938608Z",
     "iopub.status.idle": "2024-08-26T05:19:13.421425Z",
     "shell.execute_reply": "2024-08-26T05:19:13.420531Z",
     "shell.execute_reply.started": "2024-08-26T05:19:06.939956Z"
    },
    "executionInfo": {
     "elapsed": 4820,
     "status": "ok",
     "timestamp": 1724383811857,
     "user": {
      "displayName": "Pavankumar Gurazada",
      "userId": "00731344791027474971"
     },
     "user_tz": -330
    },
    "id": "no0dMivhfkbW",
    "outputId": "aa0faeee-a2a8-479a-f03f-ad89523c9550",
    "tags": []
   },
   "outputs": [],
   "source": [
    "! pip install -q gensim==4.3.3 tiktoken==0.7.0"
   ]
  },
  {
   "cell_type": "code",
   "execution_count": 2,
   "metadata": {
    "execution": {
     "iopub.execute_input": "2024-08-26T05:19:15.374918Z",
     "iopub.status.busy": "2024-08-26T05:19:15.374252Z",
     "iopub.status.idle": "2024-08-26T05:19:19.165642Z",
     "shell.execute_reply": "2024-08-26T05:19:19.164649Z",
     "shell.execute_reply.started": "2024-08-26T05:19:15.374883Z"
    },
    "executionInfo": {
     "elapsed": 8189,
     "status": "ok",
     "timestamp": 1724383878437,
     "user": {
      "displayName": "Pavankumar Gurazada",
      "userId": "00731344791027474971"
     },
     "user_tz": -330
    },
    "id": "x4CjPpkmfC_V",
    "tags": []
   },
   "outputs": [
    {
     "name": "stderr",
     "output_type": "stream",
     "text": [
      "2024-08-26 05:19:17.092131: I tensorflow/core/platform/cpu_feature_guard.cc:182] This TensorFlow binary is optimized to use available CPU instructions in performance-critical operations.\n",
      "To enable the following instructions: SSE4.1 SSE4.2 AVX AVX2 AVX512F FMA, in other operations, rebuild TensorFlow with the appropriate compiler flags.\n"
     ]
    }
   ],
   "source": [
    "import string\n",
    "import nltk\n",
    "import re\n",
    "import tiktoken\n",
    "import gensim\n",
    "\n",
    "import numpy as np\n",
    "import pandas as pd\n",
    "\n",
    "import tensorflow as tf\n",
    "\n",
    "from nltk.corpus import stopwords\n",
    "from nltk.corpus import wordnet\n",
    "from nltk.stem import WordNetLemmatizer\n",
    "from nltk.tokenize import RegexpTokenizer\n",
    "\n",
    "from gensim.models.keyedvectors import load_word2vec_format\n",
    "\n",
    "from sklearn.feature_extraction.text import CountVectorizer, TfidfVectorizer"
   ]
  },
  {
   "cell_type": "code",
   "execution_count": 3,
   "metadata": {
    "colab": {
     "base_uri": "https://localhost:8080/"
    },
    "execution": {
     "iopub.execute_input": "2024-08-26T05:19:20.084687Z",
     "iopub.status.busy": "2024-08-26T05:19:20.083806Z",
     "iopub.status.idle": "2024-08-26T05:19:20.192561Z",
     "shell.execute_reply": "2024-08-26T05:19:20.191644Z",
     "shell.execute_reply.started": "2024-08-26T05:19:20.084651Z"
    },
    "executionInfo": {
     "elapsed": 23,
     "status": "ok",
     "timestamp": 1724383878437,
     "user": {
      "displayName": "Pavankumar Gurazada",
      "userId": "00731344791027474971"
     },
     "user_tz": -330
    },
    "id": "FGj0DEenlkcO",
    "outputId": "6be5b0a8-2adc-4898-bcf0-edc581d641bd",
    "tags": []
   },
   "outputs": [
    {
     "name": "stderr",
     "output_type": "stream",
     "text": [
      "[nltk_data] Downloading package wordnet to /home/studio-lab-\n",
      "[nltk_data]     user/nltk_data...\n",
      "[nltk_data]   Package wordnet is already up-to-date!\n"
     ]
    },
    {
     "data": {
      "text/plain": [
       "True"
      ]
     },
     "execution_count": 3,
     "metadata": {},
     "output_type": "execute_result"
    }
   ],
   "source": [
    "nltk.download('wordnet')"
   ]
  },
  {
   "cell_type": "code",
   "execution_count": 4,
   "metadata": {
    "colab": {
     "base_uri": "https://localhost:8080/"
    },
    "execution": {
     "iopub.execute_input": "2024-08-26T05:19:20.250793Z",
     "iopub.status.busy": "2024-08-26T05:19:20.249971Z",
     "iopub.status.idle": "2024-08-26T05:19:20.276150Z",
     "shell.execute_reply": "2024-08-26T05:19:20.275172Z",
     "shell.execute_reply.started": "2024-08-26T05:19:20.250754Z"
    },
    "executionInfo": {
     "elapsed": 1454,
     "status": "ok",
     "timestamp": 1724383879870,
     "user": {
      "displayName": "Pavankumar Gurazada",
      "userId": "00731344791027474971"
     },
     "user_tz": -330
    },
    "id": "QwiRW99jl65X",
    "outputId": "23089ad9-7816-476c-9523-c07f410f7dae",
    "tags": []
   },
   "outputs": [
    {
     "name": "stderr",
     "output_type": "stream",
     "text": [
      "[nltk_data] Downloading package averaged_perceptron_tagger to\n",
      "[nltk_data]     /home/studio-lab-user/nltk_data...\n",
      "[nltk_data]   Package averaged_perceptron_tagger is already up-to-\n",
      "[nltk_data]       date!\n"
     ]
    },
    {
     "data": {
      "text/plain": [
       "True"
      ]
     },
     "execution_count": 4,
     "metadata": {},
     "output_type": "execute_result"
    }
   ],
   "source": [
    "nltk.download('averaged_perceptron_tagger')"
   ]
  },
  {
   "cell_type": "markdown",
   "metadata": {},
   "source": [
    "# The Fundamental Problem of NLP"
   ]
  },
  {
   "cell_type": "markdown",
   "metadata": {},
   "source": [
    "Given an input sequence $s_1$, learn a mapping $f: s_1 \\rightarrow s_2$ to an output sequence $s_2$.\n",
    "\n",
    "Examples:\n",
    "1. $s_1$: Product Review, $s_2$: Sentiment\n",
    "2. $s_1$: Meeting Transcript, $s_2$: Summary\n",
    "3. $s_1$: Context + Question, $s_2$: Answer\n",
    "4. $s_1$: Sentence in English, $s_2$: Translated sentence in French"
   ]
  },
  {
   "cell_type": "markdown",
   "metadata": {},
   "source": [
    "Over the next few sessions,we will build increasingly sophisticated models to tackle this fundamental problem of NLP."
   ]
  },
  {
   "cell_type": "markdown",
   "metadata": {
    "id": "HzphkVjShTmi"
   },
   "source": [
    "# Data"
   ]
  },
  {
   "cell_type": "markdown",
   "metadata": {},
   "source": [
    "As we build models to illustrate how NLP tasks could be tackled, we need one dataset that we use to compare across methods. For this we use a movie review dataset."
   ]
  },
  {
   "cell_type": "code",
   "execution_count": 5,
   "metadata": {
    "execution": {
     "iopub.execute_input": "2024-08-26T05:19:24.964793Z",
     "iopub.status.busy": "2024-08-26T05:19:24.964134Z",
     "iopub.status.idle": "2024-08-26T05:19:24.968599Z",
     "shell.execute_reply": "2024-08-26T05:19:24.967693Z",
     "shell.execute_reply.started": "2024-08-26T05:19:24.964757Z"
    },
    "executionInfo": {
     "elapsed": 405,
     "status": "ok",
     "timestamp": 1724384002946,
     "user": {
      "displayName": "Pavankumar Gurazada",
      "userId": "00731344791027474971"
     },
     "user_tz": -330
    },
    "id": "jjtF3ga9jBng",
    "tags": []
   },
   "outputs": [],
   "source": [
    "dataset_path = 'labeled_sentiments_data.tsv'"
   ]
  },
  {
   "cell_type": "code",
   "execution_count": 6,
   "metadata": {
    "execution": {
     "iopub.execute_input": "2024-08-26T05:19:28.315720Z",
     "iopub.status.busy": "2024-08-26T05:19:28.314887Z",
     "iopub.status.idle": "2024-08-26T05:19:28.842140Z",
     "shell.execute_reply": "2024-08-26T05:19:28.841427Z",
     "shell.execute_reply.started": "2024-08-26T05:19:28.315684Z"
    },
    "executionInfo": {
     "elapsed": 4037,
     "status": "ok",
     "timestamp": 1724384009728,
     "user": {
      "displayName": "Pavankumar Gurazada",
      "userId": "00731344791027474971"
     },
     "user_tz": -330
    },
    "id": "Wvqn75TDhUXI",
    "tags": []
   },
   "outputs": [],
   "source": [
    "dataset = pd.read_csv(dataset_path, sep='\\t')"
   ]
  },
  {
   "cell_type": "code",
   "execution_count": 7,
   "metadata": {
    "colab": {
     "base_uri": "https://localhost:8080/",
     "height": 206
    },
    "execution": {
     "iopub.execute_input": "2024-08-26T05:19:29.723277Z",
     "iopub.status.busy": "2024-08-26T05:19:29.722735Z",
     "iopub.status.idle": "2024-08-26T05:19:29.738467Z",
     "shell.execute_reply": "2024-08-26T05:19:29.737499Z",
     "shell.execute_reply.started": "2024-08-26T05:19:29.723246Z"
    },
    "executionInfo": {
     "elapsed": 5,
     "status": "ok",
     "timestamp": 1724384010343,
     "user": {
      "displayName": "Pavankumar Gurazada",
      "userId": "00731344791027474971"
     },
     "user_tz": -330
    },
    "id": "vmtHuUZ5hiz6",
    "outputId": "6c1df9c6-c295-4ffb-eae0-a8d849a39204",
    "tags": []
   },
   "outputs": [
    {
     "data": {
      "text/html": [
       "<div>\n",
       "<style scoped>\n",
       "    .dataframe tbody tr th:only-of-type {\n",
       "        vertical-align: middle;\n",
       "    }\n",
       "\n",
       "    .dataframe tbody tr th {\n",
       "        vertical-align: top;\n",
       "    }\n",
       "\n",
       "    .dataframe thead th {\n",
       "        text-align: right;\n",
       "    }\n",
       "</style>\n",
       "<table border=\"1\" class=\"dataframe\">\n",
       "  <thead>\n",
       "    <tr style=\"text-align: right;\">\n",
       "      <th></th>\n",
       "      <th>id</th>\n",
       "      <th>sentiment</th>\n",
       "      <th>review</th>\n",
       "    </tr>\n",
       "  </thead>\n",
       "  <tbody>\n",
       "    <tr>\n",
       "      <th>22244</th>\n",
       "      <td>8654_9</td>\n",
       "      <td>1</td>\n",
       "      <td>it's amazing that so many people that i know h...</td>\n",
       "    </tr>\n",
       "    <tr>\n",
       "      <th>14231</th>\n",
       "      <td>10102_1</td>\n",
       "      <td>0</td>\n",
       "      <td>If ever there was a film that deserved a big f...</td>\n",
       "    </tr>\n",
       "    <tr>\n",
       "      <th>14734</th>\n",
       "      <td>4102_4</td>\n",
       "      <td>0</td>\n",
       "      <td>'Dead Letter Office' is a low-budget film abou...</td>\n",
       "    </tr>\n",
       "    <tr>\n",
       "      <th>9705</th>\n",
       "      <td>2050_2</td>\n",
       "      <td>0</td>\n",
       "      <td>Not that \\a film by Ulli Lommel\\\" filled me wi...</td>\n",
       "    </tr>\n",
       "    <tr>\n",
       "      <th>4058</th>\n",
       "      <td>6197_10</td>\n",
       "      <td>1</td>\n",
       "      <td>Fay Grim is a true example of what I call a co...</td>\n",
       "    </tr>\n",
       "  </tbody>\n",
       "</table>\n",
       "</div>"
      ],
      "text/plain": [
       "            id  sentiment                                             review\n",
       "22244   8654_9          1  it's amazing that so many people that i know h...\n",
       "14231  10102_1          0  If ever there was a film that deserved a big f...\n",
       "14734   4102_4          0  'Dead Letter Office' is a low-budget film abou...\n",
       "9705    2050_2          0  Not that \\a film by Ulli Lommel\\\" filled me wi...\n",
       "4058   6197_10          1  Fay Grim is a true example of what I call a co..."
      ]
     },
     "execution_count": 7,
     "metadata": {},
     "output_type": "execute_result"
    }
   ],
   "source": [
    "dataset.sample(5)"
   ]
  },
  {
   "cell_type": "code",
   "execution_count": 8,
   "metadata": {
    "colab": {
     "base_uri": "https://localhost:8080/",
     "height": 178
    },
    "execution": {
     "iopub.execute_input": "2024-08-26T05:19:31.598258Z",
     "iopub.status.busy": "2024-08-26T05:19:31.597452Z",
     "iopub.status.idle": "2024-08-26T05:19:31.605887Z",
     "shell.execute_reply": "2024-08-26T05:19:31.604930Z",
     "shell.execute_reply.started": "2024-08-26T05:19:31.598221Z"
    },
    "executionInfo": {
     "elapsed": 14,
     "status": "ok",
     "timestamp": 1724384012839,
     "user": {
      "displayName": "Pavankumar Gurazada",
      "userId": "00731344791027474971"
     },
     "user_tz": -330
    },
    "id": "wy7DvIHVhxAB",
    "outputId": "6c5c2f42-84b6-4bd7-afa8-32a803fd5c88",
    "tags": []
   },
   "outputs": [
    {
     "data": {
      "text/plain": [
       "sentiment\n",
       "1    12500\n",
       "0    12500\n",
       "Name: count, dtype: int64"
      ]
     },
     "execution_count": 8,
     "metadata": {},
     "output_type": "execute_result"
    }
   ],
   "source": [
    "dataset.sentiment.value_counts()"
   ]
  },
  {
   "cell_type": "markdown",
   "metadata": {
    "id": "4PiqlAJLkGv0"
   },
   "source": [
    "# Clean Corpus"
   ]
  },
  {
   "cell_type": "markdown",
   "metadata": {},
   "source": [
    "Document: A sample piece of text that is used as the input sequence.\n",
    "\n",
    "Corpus: A collection of all the documents in the dataset. "
   ]
  },
  {
   "cell_type": "markdown",
   "metadata": {},
   "source": [
    "One aspect of data preparation for NLP is to clean specific nuances in the corpus that are not relevant to the task. One such example is lemmatization, where the objective is to clean the words in the reviews reducing variations of the word (for e.g., its plurals to the root word)."
   ]
  },
  {
   "cell_type": "code",
   "execution_count": 9,
   "metadata": {
    "execution": {
     "iopub.execute_input": "2024-08-26T05:22:02.425660Z",
     "iopub.status.busy": "2024-08-26T05:22:02.424962Z",
     "iopub.status.idle": "2024-08-26T05:22:02.429462Z",
     "shell.execute_reply": "2024-08-26T05:22:02.428520Z",
     "shell.execute_reply.started": "2024-08-26T05:22:02.425626Z"
    },
    "executionInfo": {
     "elapsed": 423,
     "status": "ok",
     "timestamp": 1724384404644,
     "user": {
      "displayName": "Pavankumar Gurazada",
      "userId": "00731344791027474971"
     },
     "user_tz": -330
    },
    "id": "A93ovufmlNUI",
    "tags": []
   },
   "outputs": [],
   "source": [
    "lemmatizer = WordNetLemmatizer()"
   ]
  },
  {
   "cell_type": "code",
   "execution_count": 10,
   "metadata": {
    "execution": {
     "iopub.execute_input": "2024-08-26T05:22:02.772449Z",
     "iopub.status.busy": "2024-08-26T05:22:02.771932Z",
     "iopub.status.idle": "2024-08-26T05:22:04.289420Z",
     "shell.execute_reply": "2024-08-26T05:22:04.288749Z",
     "shell.execute_reply.started": "2024-08-26T05:22:02.772417Z"
    },
    "executionInfo": {
     "elapsed": 2438,
     "status": "ok",
     "timestamp": 1724384407550,
     "user": {
      "displayName": "Pavankumar Gurazada",
      "userId": "00731344791027474971"
     },
     "user_tz": -330
    },
    "id": "jBQU0Ql_lNxF",
    "tags": []
   },
   "outputs": [],
   "source": [
    "wordnet_map = {\n",
    "    \"N\": wordnet.NOUN,\n",
    "    \"V\": wordnet.VERB,\n",
    "    \"J\": wordnet.ADJ,\n",
    "    \"R\": wordnet.ADV\n",
    "}"
   ]
  },
  {
   "cell_type": "code",
   "execution_count": 11,
   "metadata": {
    "execution": {
     "iopub.execute_input": "2024-08-26T05:22:05.580193Z",
     "iopub.status.busy": "2024-08-26T05:22:05.579773Z",
     "iopub.status.idle": "2024-08-26T05:22:05.590094Z",
     "shell.execute_reply": "2024-08-26T05:22:05.588316Z",
     "shell.execute_reply.started": "2024-08-26T05:22:05.580163Z"
    },
    "executionInfo": {
     "elapsed": 2,
     "status": "ok",
     "timestamp": 1724384407550,
     "user": {
      "displayName": "Pavankumar Gurazada",
      "userId": "00731344791027474971"
     },
     "user_tz": -330
    },
    "id": "twHZOafoknpf",
    "tags": []
   },
   "outputs": [],
   "source": [
    "def clean_text(text):\n",
    "    # Lowercase text\n",
    "    text = text.lower()\n",
    "    # Remove html tags\n",
    "    text = re.sub('<[^<]+?>', '', text)\n",
    "    # Remove punctuation\n",
    "    text = text.translate(str.maketrans('', '', string.punctuation))\n",
    "    # Remove urls\n",
    "    text = re.sub(r\"https?://\\S+|www\\.\\S+\", \"\", text )\n",
    "    # Remove digits\n",
    "    text = re.sub(r'[0-9]', ' ', text)\n",
    "    # Lemmatize text\n",
    "    pos_tagged_text = nltk.pos_tag(text.split())\n",
    "    text = \" \".join([lemmatizer.lemmatize(word, wordnet_map.get(pos[0], wordnet.NOUN)) for word, pos in pos_tagged_text])\n",
    "    # Remove every thing other than space, word and hash\n",
    "    text = re.sub(r'[^\\w\\s]',' ',text)\n",
    "    # Replace symbols by space in text\n",
    "    text = re.sub(' +', ' ', text)\n",
    "\n",
    "    return text"
   ]
  },
  {
   "cell_type": "code",
   "execution_count": 12,
   "metadata": {
    "colab": {
     "base_uri": "https://localhost:8080/",
     "height": 140
    },
    "execution": {
     "iopub.execute_input": "2024-08-26T05:22:14.311192Z",
     "iopub.status.busy": "2024-08-26T05:22:14.310315Z",
     "iopub.status.idle": "2024-08-26T05:22:14.319632Z",
     "shell.execute_reply": "2024-08-26T05:22:14.316171Z",
     "shell.execute_reply.started": "2024-08-26T05:22:14.311161Z"
    },
    "executionInfo": {
     "elapsed": 5,
     "status": "ok",
     "timestamp": 1724384414601,
     "user": {
      "displayName": "Pavankumar Gurazada",
      "userId": "00731344791027474971"
     },
     "user_tz": -330
    },
    "id": "ntILwkOPmCoO",
    "outputId": "ea0aeb63-9111-4b2a-dc9e-dc8331d9ffde",
    "tags": []
   },
   "outputs": [
    {
     "data": {
      "text/plain": [
       "\"With all this stuff going down at the moment with MJ i've started listening to his music, watching the odd documentary here and there, watched The Wiz and watched Moonwalker again. Maybe i just want to get a certain insight into this guy who i thought was really cool in the eighties just to maybe make up my mind whether he is guilty or innocent. Moonwalker is part biography, part feature film which i remember going to see at the cinema when it was originally released. Some of it has subtle messages about MJ's feeling towards the press and also the obvious message of drugs are bad m'kay.<br /><br />Visually impressive but of course this is all about Michael Jackson so unless you remotely like MJ in anyway then you are going to hate this and find it boring. Some may call MJ an egotist for consenting to the making of this movie BUT MJ and most of his fans would say that he made it for the fans which if true is really nice of him.<br /><br />The actual feature film bit when it finally starts is only on for 20 minutes or so excluding the Smooth Criminal sequence and Joe Pesci is convincing as a psychopathic all powerful drug lord. Why he wants MJ dead so bad is beyond me. Because MJ overheard his plans? Nah, Joe Pesci's character ranted that he wanted people to know it is he who is supplying drugs etc so i dunno, maybe he just hates MJ's music.<br /><br />Lots of cool things in this like MJ turning into a car and a robot and the whole Speed Demon sequence. Also, the director must have had the patience of a saint when it came to filming the kiddy Bad sequence as usually directors hate working with one kid let alone a whole bunch of them performing a complex dance scene.<br /><br />Bottom line, this movie is for people who like MJ on one level or another (which i think is most people). If not, then stay away. It does try and give off a wholesome message and ironically MJ's bestest buddy in this movie is a girl! Michael Jackson is truly one of the most talented people ever to grace this planet but is he guilty? Well, with all the attention i've gave this subject....hmmm well i don't know because people can be different behind closed doors, i know this for a fact. He is either an extremely nice but stupid guy or one of the most sickest liars. I hope he is not the latter.\""
      ]
     },
     "execution_count": 12,
     "metadata": {},
     "output_type": "execute_result"
    }
   ],
   "source": [
    "dataset.review[0]"
   ]
  },
  {
   "cell_type": "code",
   "execution_count": 13,
   "metadata": {
    "colab": {
     "base_uri": "https://localhost:8080/",
     "height": 140
    },
    "execution": {
     "iopub.execute_input": "2024-08-26T05:22:16.680423Z",
     "iopub.status.busy": "2024-08-26T05:22:16.679770Z",
     "iopub.status.idle": "2024-08-26T05:22:16.806948Z",
     "shell.execute_reply": "2024-08-26T05:22:16.806113Z",
     "shell.execute_reply.started": "2024-08-26T05:22:16.680386Z"
    },
    "executionInfo": {
     "elapsed": 1088,
     "status": "ok",
     "timestamp": 1724384416128,
     "user": {
      "displayName": "Pavankumar Gurazada",
      "userId": "00731344791027474971"
     },
     "user_tz": -330
    },
    "id": "MWl2HilIpsT1",
    "outputId": "dfd78849-d37a-4f08-99cb-56532ff4eb71",
    "tags": []
   },
   "outputs": [
    {
     "data": {
      "text/plain": [
       "'with all this stuff go down at the moment with mj ive start listen to his music watch the odd documentary here and there watch the wiz and watch moonwalker again maybe i just want to get a certain insight into this guy who i think be really cool in the eighty just to maybe make up my mind whether he be guilty or innocent moonwalker be part biography part feature film which i remember go to see at the cinema when it be originally release some of it have subtle message about mjs feeling towards the press and also the obvious message of drug be bad mkayvisually impressive but of course this be all about michael jackson so unless you remotely like mj in anyway then you be go to hate this and find it bore some may call mj an egotist for consent to the making of this movie but mj and most of his fan would say that he make it for the fan which if true be really nice of himthe actual feature film bit when it finally start be only on for minute or so exclude the smooth criminal sequence and joe pesci be convince a a psychopathic all powerful drug lord why he want mj dead so bad be beyond me because mj overheard his plan nah joe pescis character rant that he want people to know it be he who be supply drug etc so i dunno maybe he just hat mjs musiclots of cool thing in this like mj turn into a car and a robot and the whole speed demon sequence also the director must have have the patience of a saint when it come to film the kiddy bad sequence a usually director hate work with one kid let alone a whole bunch of them perform a complex dance scenebottom line this movie be for people who like mj on one level or another which i think be most people if not then stay away it do try and give off a wholesome message and ironically mjs best buddy in this movie be a girl michael jackson be truly one of the most talented people ever to grace this planet but be he guilty well with all the attention ive give this subjecthmmm well i dont know because people can be different behind closed door i know this for a fact he be either an extremely nice but stupid guy or one of the most sick liar i hope he be not the latter'"
      ]
     },
     "execution_count": 13,
     "metadata": {},
     "output_type": "execute_result"
    }
   ],
   "source": [
    "clean_text(dataset.review[0])"
   ]
  },
  {
   "cell_type": "markdown",
   "metadata": {},
   "source": [
    "Let us take a deeper look at how the lemmatizer is working. To illustrate, let us look at the first 10 words of the first review. "
   ]
  },
  {
   "cell_type": "code",
   "execution_count": 16,
   "metadata": {
    "colab": {
     "base_uri": "https://localhost:8080/"
    },
    "execution": {
     "iopub.execute_input": "2024-08-24T09:10:36.358616Z",
     "iopub.status.busy": "2024-08-24T09:10:36.358212Z",
     "iopub.status.idle": "2024-08-24T09:10:36.366607Z",
     "shell.execute_reply": "2024-08-24T09:10:36.365523Z",
     "shell.execute_reply.started": "2024-08-24T09:10:36.358591Z"
    },
    "executionInfo": {
     "elapsed": 909,
     "status": "ok",
     "timestamp": 1724384662025,
     "user": {
      "displayName": "Pavankumar Gurazada",
      "userId": "00731344791027474971"
     },
     "user_tz": -330
    },
    "id": "mgkdc3sBloFa",
    "outputId": "777ee321-3833-4eff-9b28-c88a40dc0f49",
    "tags": []
   },
   "outputs": [
    {
     "data": {
      "text/plain": [
       "[('With', 'IN'),\n",
       " ('all', 'PDT'),\n",
       " ('this', 'DT'),\n",
       " ('stuff', 'NN'),\n",
       " ('going', 'VBG'),\n",
       " ('down', 'RP'),\n",
       " ('at', 'IN'),\n",
       " ('the', 'DT'),\n",
       " ('moment', 'NN'),\n",
       " ('with', 'IN')]"
      ]
     },
     "execution_count": 16,
     "metadata": {},
     "output_type": "execute_result"
    }
   ],
   "source": [
    "nltk.pos_tag(dataset.review[0].split()[0:10])"
   ]
  },
  {
   "cell_type": "markdown",
   "metadata": {},
   "source": [
    "In the code snippet below, we are running through each word and if the Parts-of-Speech tag of the word is in the wordnet map dictionary above (noun, adverb, adjective or adverb) then it is lemmatized according the grammatical rules of these word types. Else, the word is lemmatized assuming it is a noun."
   ]
  },
  {
   "cell_type": "code",
   "execution_count": 17,
   "metadata": {
    "colab": {
     "base_uri": "https://localhost:8080/",
     "height": 35
    },
    "execution": {
     "iopub.execute_input": "2024-08-24T09:10:36.695956Z",
     "iopub.status.busy": "2024-08-24T09:10:36.695243Z",
     "iopub.status.idle": "2024-08-24T09:10:36.704871Z",
     "shell.execute_reply": "2024-08-24T09:10:36.703797Z",
     "shell.execute_reply.started": "2024-08-24T09:10:36.695921Z"
    },
    "executionInfo": {
     "elapsed": 15,
     "status": "ok",
     "timestamp": 1724384662026,
     "user": {
      "displayName": "Pavankumar Gurazada",
      "userId": "00731344791027474971"
     },
     "user_tz": -330
    },
    "id": "Yre8j-pzlws3",
    "outputId": "52d7f520-b9b3-4414-e719-8414bbb37aa6",
    "tags": []
   },
   "outputs": [
    {
     "data": {
      "text/plain": [
       "'With all this stuff go down at the moment with'"
      ]
     },
     "execution_count": 17,
     "metadata": {},
     "output_type": "execute_result"
    }
   ],
   "source": [
    "pos_tagged_text = nltk.pos_tag(dataset.review[0].split()[0:10])\n",
    "\" \".join([lemmatizer.lemmatize(word, wordnet_map.get(pos[0], wordnet.NOUN)) for word, pos in pos_tagged_text])"
   ]
  },
  {
   "cell_type": "markdown",
   "metadata": {},
   "source": [
    "We can apply the clean text function defined above to the entire selection of rows like so."
   ]
  },
  {
   "cell_type": "code",
   "execution_count": 14,
   "metadata": {
    "execution": {
     "iopub.execute_input": "2024-08-26T05:25:12.879791Z",
     "iopub.status.busy": "2024-08-26T05:25:12.878261Z",
     "iopub.status.idle": "2024-08-26T05:25:24.171856Z",
     "shell.execute_reply": "2024-08-26T05:25:24.170994Z",
     "shell.execute_reply.started": "2024-08-26T05:25:12.879752Z"
    },
    "executionInfo": {
     "elapsed": 13501,
     "status": "ok",
     "timestamp": 1724384675517,
     "user": {
      "displayName": "Pavankumar Gurazada",
      "userId": "00731344791027474971"
     },
     "user_tz": -330
    },
    "id": "xZ7hWJXMqByE",
    "tags": []
   },
   "outputs": [],
   "source": [
    "sample_cleaned_corpus = dataset.sample(1000).review.apply(clean_text)"
   ]
  },
  {
   "cell_type": "code",
   "execution_count": 15,
   "metadata": {
    "colab": {
     "base_uri": "https://localhost:8080/",
     "height": 147
    },
    "execution": {
     "iopub.execute_input": "2024-08-26T05:25:24.174061Z",
     "iopub.status.busy": "2024-08-26T05:25:24.173715Z",
     "iopub.status.idle": "2024-08-26T05:25:24.181598Z",
     "shell.execute_reply": "2024-08-26T05:25:24.180714Z",
     "shell.execute_reply.started": "2024-08-26T05:25:24.174024Z"
    },
    "executionInfo": {
     "elapsed": 24,
     "status": "ok",
     "timestamp": 1724384675517,
     "user": {
      "displayName": "Pavankumar Gurazada",
      "userId": "00731344791027474971"
     },
     "user_tz": -330
    },
    "id": "zChcKPkUsSld",
    "outputId": "a6354bd9-597a-45d6-ecdf-477411f52625",
    "tags": []
   },
   "outputs": [
    {
     "data": {
      "text/plain": [
       "14123    walter matthau and george burn just work so we...\n",
       "7985     have to be one of the bad waste of mm movie fi...\n",
       "Name: review, dtype: object"
      ]
     },
     "execution_count": 15,
     "metadata": {},
     "output_type": "execute_result"
    }
   ],
   "source": [
    "sample_cleaned_corpus.sample(2)"
   ]
  },
  {
   "cell_type": "markdown",
   "metadata": {},
   "source": [
    "To keep execution times low, we consider 1000 reviews for the rest of the notebook."
   ]
  },
  {
   "cell_type": "markdown",
   "metadata": {
    "id": "2JRhSh6Fssqz"
   },
   "source": [
    "# Tokenize"
   ]
  },
  {
   "cell_type": "markdown",
   "metadata": {},
   "source": [
    "Once a review is cleaned, it needs to be tokenized (i.e., split into atomic units of information). One method to do this is to use a word level tokenizer."
   ]
  },
  {
   "cell_type": "code",
   "execution_count": 18,
   "metadata": {
    "execution": {
     "iopub.execute_input": "2024-08-26T05:26:39.553970Z",
     "iopub.status.busy": "2024-08-26T05:26:39.553348Z",
     "iopub.status.idle": "2024-08-26T05:26:39.559762Z",
     "shell.execute_reply": "2024-08-26T05:26:39.557095Z",
     "shell.execute_reply.started": "2024-08-26T05:26:39.553936Z"
    },
    "executionInfo": {
     "elapsed": 487,
     "status": "ok",
     "timestamp": 1724384800559,
     "user": {
      "displayName": "Pavankumar Gurazada",
      "userId": "00731344791027474971"
     },
     "user_tz": -330
    },
    "id": "S4x8VHSzt8No",
    "tags": []
   },
   "outputs": [],
   "source": [
    "sample_sentence = \"this movie be so badly write direct and act\""
   ]
  },
  {
   "cell_type": "code",
   "execution_count": 19,
   "metadata": {
    "execution": {
     "iopub.execute_input": "2024-08-26T05:26:39.806466Z",
     "iopub.status.busy": "2024-08-26T05:26:39.805664Z",
     "iopub.status.idle": "2024-08-26T05:26:39.810144Z",
     "shell.execute_reply": "2024-08-26T05:26:39.809148Z",
     "shell.execute_reply.started": "2024-08-26T05:26:39.806432Z"
    },
    "executionInfo": {
     "elapsed": 25,
     "status": "ok",
     "timestamp": 1724384807727,
     "user": {
      "displayName": "Pavankumar Gurazada",
      "userId": "00731344791027474971"
     },
     "user_tz": -330
    },
    "id": "aizLc552skdD",
    "tags": []
   },
   "outputs": [],
   "source": [
    "word_tokenizer = RegexpTokenizer(r'\\w+')"
   ]
  },
  {
   "cell_type": "code",
   "execution_count": 20,
   "metadata": {
    "colab": {
     "base_uri": "https://localhost:8080/"
    },
    "execution": {
     "iopub.execute_input": "2024-08-26T05:26:40.041474Z",
     "iopub.status.busy": "2024-08-26T05:26:40.040610Z",
     "iopub.status.idle": "2024-08-26T05:26:40.047487Z",
     "shell.execute_reply": "2024-08-26T05:26:40.046422Z",
     "shell.execute_reply.started": "2024-08-26T05:26:40.041436Z"
    },
    "executionInfo": {
     "elapsed": 24,
     "status": "ok",
     "timestamp": 1724384807728,
     "user": {
      "displayName": "Pavankumar Gurazada",
      "userId": "00731344791027474971"
     },
     "user_tz": -330
    },
    "id": "GPDKAq1ps1jt",
    "outputId": "08b50954-49db-45c5-f5eb-76d85de78d91",
    "tags": []
   },
   "outputs": [
    {
     "data": {
      "text/plain": [
       "['this', 'movie', 'be', 'so', 'badly', 'write', 'direct', 'and', 'act']"
      ]
     },
     "execution_count": 20,
     "metadata": {},
     "output_type": "execute_result"
    }
   ],
   "source": [
    "word_tokenizer.tokenize(sample_sentence)"
   ]
  },
  {
   "cell_type": "markdown",
   "metadata": {},
   "source": [
    "Word-level tokenization is not the only method to tokenize text. For example, modern LLMs tokenize input text using an algorithm called byte-pair encoding (BPE). Cleaning text before tokenization reduces the size of the vocabulary that we have to deal with."
   ]
  },
  {
   "cell_type": "code",
   "execution_count": 22,
   "metadata": {
    "colab": {
     "base_uri": "https://localhost:8080/"
    },
    "execution": {
     "iopub.execute_input": "2024-08-26T05:35:13.739799Z",
     "iopub.status.busy": "2024-08-26T05:35:13.739103Z",
     "iopub.status.idle": "2024-08-26T05:35:13.745870Z",
     "shell.execute_reply": "2024-08-26T05:35:13.745139Z",
     "shell.execute_reply.started": "2024-08-26T05:35:13.739762Z"
    },
    "executionInfo": {
     "elapsed": 648,
     "status": "ok",
     "timestamp": 1724384808353,
     "user": {
      "displayName": "Pavankumar Gurazada",
      "userId": "00731344791027474971"
     },
     "user_tz": -330
    },
    "id": "ikeeVWamtM0i",
    "outputId": "3bea6391-607d-4a15-a65c-642bb96d46fe",
    "tags": []
   },
   "outputs": [
    {
     "data": {
      "text/plain": [
       "['this', ' movie', ' be', ' so', ' badly', ' write', ' direct', ' and', ' act']"
      ]
     },
     "execution_count": 22,
     "metadata": {},
     "output_type": "execute_result"
    }
   ],
   "source": [
    "gpt4_tokenizer = tiktoken.encoding_for_model(\"gpt-4\")\n",
    "[gpt4_tokenizer.decode([token]) for token in gpt4_tokenizer.encode(sample_sentence)]"
   ]
  },
  {
   "cell_type": "code",
   "execution_count": 23,
   "metadata": {
    "execution": {
     "iopub.execute_input": "2024-08-26T05:35:14.051801Z",
     "iopub.status.busy": "2024-08-26T05:35:14.051289Z",
     "iopub.status.idle": "2024-08-26T05:35:14.125637Z",
     "shell.execute_reply": "2024-08-26T05:35:14.124471Z",
     "shell.execute_reply.started": "2024-08-26T05:35:14.051771Z"
    },
    "executionInfo": {
     "elapsed": 528,
     "status": "ok",
     "timestamp": 1724384990009,
     "user": {
      "displayName": "Pavankumar Gurazada",
      "userId": "00731344791027474971"
     },
     "user_tz": -330
    },
    "id": "n0EjL8ipui62",
    "tags": []
   },
   "outputs": [],
   "source": [
    "token_list = [word_tokenizer.tokenize(cleaned_review) for cleaned_review in sample_cleaned_corpus]"
   ]
  },
  {
   "cell_type": "code",
   "execution_count": 24,
   "metadata": {
    "colab": {
     "base_uri": "https://localhost:8080/"
    },
    "execution": {
     "iopub.execute_input": "2024-08-26T05:35:14.449973Z",
     "iopub.status.busy": "2024-08-26T05:35:14.449525Z",
     "iopub.status.idle": "2024-08-26T05:35:14.457236Z",
     "shell.execute_reply": "2024-08-26T05:35:14.454963Z",
     "shell.execute_reply.started": "2024-08-26T05:35:14.449940Z"
    },
    "executionInfo": {
     "elapsed": 4,
     "status": "ok",
     "timestamp": 1724384990600,
     "user": {
      "displayName": "Pavankumar Gurazada",
      "userId": "00731344791027474971"
     },
     "user_tz": -330
    },
    "id": "RA6GBgeivLhx",
    "outputId": "aaf2aa6f-cd03-4d98-806b-be2851d091f6",
    "tags": []
   },
   "outputs": [
    {
     "data": {
      "text/plain": [
       "1000"
      ]
     },
     "execution_count": 24,
     "metadata": {},
     "output_type": "execute_result"
    }
   ],
   "source": [
    "len(token_list)"
   ]
  },
  {
   "cell_type": "code",
   "execution_count": 25,
   "metadata": {
    "execution": {
     "iopub.execute_input": "2024-08-26T05:35:16.623719Z",
     "iopub.status.busy": "2024-08-26T05:35:16.622853Z",
     "iopub.status.idle": "2024-08-26T05:35:16.657410Z",
     "shell.execute_reply": "2024-08-26T05:35:16.656399Z",
     "shell.execute_reply.started": "2024-08-26T05:35:16.623668Z"
    },
    "executionInfo": {
     "elapsed": 599,
     "status": "ok",
     "timestamp": 1724385032493,
     "user": {
      "displayName": "Pavankumar Gurazada",
      "userId": "00731344791027474971"
     },
     "user_tz": -330
    },
    "id": "yql6pEkQvPwx",
    "tags": []
   },
   "outputs": [],
   "source": [
    "# unnest the lists and remove duplicates\n",
    "vocabulary = set(x for lst in token_list for x in lst)"
   ]
  },
  {
   "cell_type": "code",
   "execution_count": 26,
   "metadata": {
    "colab": {
     "base_uri": "https://localhost:8080/"
    },
    "execution": {
     "iopub.execute_input": "2024-08-26T05:35:17.740593Z",
     "iopub.status.busy": "2024-08-26T05:35:17.739805Z",
     "iopub.status.idle": "2024-08-26T05:35:17.746193Z",
     "shell.execute_reply": "2024-08-26T05:35:17.745336Z",
     "shell.execute_reply.started": "2024-08-26T05:35:17.740561Z"
    },
    "executionInfo": {
     "elapsed": 11,
     "status": "ok",
     "timestamp": 1724385032936,
     "user": {
      "displayName": "Pavankumar Gurazada",
      "userId": "00731344791027474971"
     },
     "user_tz": -330
    },
    "id": "sdDODeGtvdSW",
    "outputId": "07a985d2-cc2a-4637-e1c8-daae247048d5",
    "tags": []
   },
   "outputs": [
    {
     "data": {
      "text/plain": [
       "17577"
      ]
     },
     "execution_count": 26,
     "metadata": {},
     "output_type": "execute_result"
    }
   ],
   "source": [
    "len(vocabulary)"
   ]
  },
  {
   "cell_type": "markdown",
   "metadata": {},
   "source": [
    "As indicated in the above output, we have a vocabulary of 17,577 words in the reviews corpus. In order to map these reviews to a sentiment, we need to create a rich feature representation that can then be used by classification models (e.g., logistic regression, SVM) for sentiment assignment. \n",
    "\n",
    "Let us look at some naive methods to create features from the reviews."
   ]
  },
  {
   "cell_type": "markdown",
   "metadata": {
    "id": "kzciLo7bv3Ma"
   },
   "source": [
    "# Featurization & Embeddings"
   ]
  },
  {
   "cell_type": "markdown",
   "metadata": {
    "id": "6jxL5wMpUIql"
   },
   "source": [
    "## Sparse Embeddings (Bag-of-Words)"
   ]
  },
  {
   "cell_type": "markdown",
   "metadata": {},
   "source": [
    "One method to describe the review content is to simply use all the words in the vocabulary as the features and use a one-hot flag to indicate whether a word was present or absent in the corpus. This ensures that the content of each review is accurately captured as counts. A count vectorizer accomplishes exactly this. It creates columns = number of words in the vocabulary and for a given document, if a word exists in the document, a flag of 1 is assigned, else 0 is assigned. This approach is called a bag of words approach since we are essentially taking all the words together but not necessarily considering their context or their order. We simply throw all the words in the vocabulary bag and flag whether a specific word is present in the document or not.  "
   ]
  },
  {
   "cell_type": "markdown",
   "metadata": {
    "id": "OYvmJ26GxQ9Q"
   },
   "source": [
    "**Count Vectorizer**"
   ]
  },
  {
   "cell_type": "markdown",
   "metadata": {},
   "source": [
    "Count vectorizers count the number of times each word in vocabulary appears in each document."
   ]
  },
  {
   "cell_type": "code",
   "execution_count": 27,
   "metadata": {
    "execution": {
     "iopub.execute_input": "2024-08-26T05:42:33.422088Z",
     "iopub.status.busy": "2024-08-26T05:42:33.421662Z",
     "iopub.status.idle": "2024-08-26T05:42:33.426375Z",
     "shell.execute_reply": "2024-08-26T05:42:33.425348Z",
     "shell.execute_reply.started": "2024-08-26T05:42:33.422059Z"
    },
    "executionInfo": {
     "elapsed": 2236,
     "status": "ok",
     "timestamp": 1724385110762,
     "user": {
      "displayName": "Pavankumar Gurazada",
      "userId": "00731344791027474971"
     },
     "user_tz": -330
    },
    "id": "XKvNbmKuverA",
    "tags": []
   },
   "outputs": [],
   "source": [
    "count_vectorizer = CountVectorizer()"
   ]
  },
  {
   "cell_type": "code",
   "execution_count": 28,
   "metadata": {
    "colab": {
     "base_uri": "https://localhost:8080/"
    },
    "execution": {
     "iopub.execute_input": "2024-08-26T05:42:33.569110Z",
     "iopub.status.busy": "2024-08-26T05:42:33.568259Z",
     "iopub.status.idle": "2024-08-26T05:42:33.583868Z",
     "shell.execute_reply": "2024-08-26T05:42:33.582269Z",
     "shell.execute_reply.started": "2024-08-26T05:42:33.569073Z"
    },
    "executionInfo": {
     "elapsed": 14,
     "status": "ok",
     "timestamp": 1724385111267,
     "user": {
      "displayName": "Pavankumar Gurazada",
      "userId": "00731344791027474971"
     },
     "user_tz": -330
    },
    "id": "dtEru0-8PIAu",
    "outputId": "0fb2b553-b84c-4020-9afb-14fabaf26bec",
    "tags": []
   },
   "outputs": [
    {
     "data": {
      "text/plain": [
       "(1000,)"
      ]
     },
     "execution_count": 28,
     "metadata": {},
     "output_type": "execute_result"
    }
   ],
   "source": [
    "sample_cleaned_corpus.shape"
   ]
  },
  {
   "cell_type": "markdown",
   "metadata": {},
   "source": [
    "We start with 1000 reviews (hence the shape (1000, ) indicating 1000 strings."
   ]
  },
  {
   "cell_type": "code",
   "execution_count": 29,
   "metadata": {
    "execution": {
     "iopub.execute_input": "2024-08-26T05:42:59.412144Z",
     "iopub.status.busy": "2024-08-26T05:42:59.411377Z",
     "iopub.status.idle": "2024-08-26T05:42:59.594279Z",
     "shell.execute_reply": "2024-08-26T05:42:59.593325Z",
     "shell.execute_reply.started": "2024-08-26T05:42:59.412108Z"
    },
    "executionInfo": {
     "elapsed": 13,
     "status": "ok",
     "timestamp": 1724385111267,
     "user": {
      "displayName": "Pavankumar Gurazada",
      "userId": "00731344791027474971"
     },
     "user_tz": -330
    },
    "id": "EKlqRZSRPwut",
    "tags": []
   },
   "outputs": [],
   "source": [
    "feature_vectors = count_vectorizer.fit_transform(sample_cleaned_corpus)"
   ]
  },
  {
   "cell_type": "code",
   "execution_count": 30,
   "metadata": {
    "colab": {
     "base_uri": "https://localhost:8080/"
    },
    "execution": {
     "iopub.execute_input": "2024-08-26T05:42:59.677283Z",
     "iopub.status.busy": "2024-08-26T05:42:59.676554Z",
     "iopub.status.idle": "2024-08-26T05:42:59.683070Z",
     "shell.execute_reply": "2024-08-26T05:42:59.681994Z",
     "shell.execute_reply.started": "2024-08-26T05:42:59.677254Z"
    },
    "executionInfo": {
     "elapsed": 12,
     "status": "ok",
     "timestamp": 1724385111267,
     "user": {
      "displayName": "Pavankumar Gurazada",
      "userId": "00731344791027474971"
     },
     "user_tz": -330
    },
    "id": "8uzbtzmgP5J_",
    "outputId": "523539f4-53b4-401e-b123-58db0ea28025",
    "tags": []
   },
   "outputs": [
    {
     "data": {
      "text/plain": [
       "(1000, 17551)"
      ]
     },
     "execution_count": 30,
     "metadata": {},
     "output_type": "execute_result"
    }
   ],
   "source": [
    "feature_vectors.shape"
   ]
  },
  {
   "cell_type": "markdown",
   "metadata": {},
   "source": [
    "Once the reviews pass through the vectorized, with the `fit_transform` method, we get an output shape of `(1000, 17551)`. This can be thought of as representing each of the 1000 documents in a 17551 dimensional vocabulary space.\n",
    "\n",
    "The problem however is that this is a very sparse representation that mostly contains 0's (as indicated by the below output)."
   ]
  },
  {
   "cell_type": "code",
   "execution_count": 31,
   "metadata": {
    "colab": {
     "base_uri": "https://localhost:8080/"
    },
    "execution": {
     "iopub.execute_input": "2024-08-24T06:02:40.876346Z",
     "iopub.status.busy": "2024-08-24T06:02:40.876084Z",
     "iopub.status.idle": "2024-08-24T06:02:40.882678Z",
     "shell.execute_reply": "2024-08-24T06:02:40.881747Z",
     "shell.execute_reply.started": "2024-08-24T06:02:40.876323Z"
    },
    "executionInfo": {
     "elapsed": 10,
     "status": "ok",
     "timestamp": 1724385111267,
     "user": {
      "displayName": "Pavankumar Gurazada",
      "userId": "00731344791027474971"
     },
     "user_tz": -330
    },
    "id": "BuSQ_MzTQOsI",
    "outputId": "b5a03432-c512-4035-e309-476057245499"
   },
   "outputs": [
    {
     "data": {
      "text/plain": [
       "array([[0, 0, 0, ..., 0, 0, 0],\n",
       "       [0, 0, 0, ..., 0, 0, 0]])"
      ]
     },
     "execution_count": 31,
     "metadata": {},
     "output_type": "execute_result"
    }
   ],
   "source": [
    "feature_vectors[0:2].toarray()"
   ]
  },
  {
   "cell_type": "code",
   "execution_count": 32,
   "metadata": {
    "colab": {
     "base_uri": "https://localhost:8080/"
    },
    "execution": {
     "iopub.execute_input": "2024-08-24T06:02:40.884466Z",
     "iopub.status.busy": "2024-08-24T06:02:40.884156Z",
     "iopub.status.idle": "2024-08-24T06:02:40.891123Z",
     "shell.execute_reply": "2024-08-24T06:02:40.890095Z",
     "shell.execute_reply.started": "2024-08-24T06:02:40.884440Z"
    },
    "executionInfo": {
     "elapsed": 7,
     "status": "ok",
     "timestamp": 1724385111268,
     "user": {
      "displayName": "Pavankumar Gurazada",
      "userId": "00731344791027474971"
     },
     "user_tz": -330
    },
    "id": "426rQZ9MSO54",
    "outputId": "afa52182-88c8-4fc9-b39f-8277b2f440dd"
   },
   "outputs": [
    {
     "data": {
      "text/plain": [
       "array([[0, 0, 0, 0, 0, 0, 0, 0, 0, 0, 0, 0, 0, 0, 0, 0, 0, 0, 0, 0, 0, 0,\n",
       "        0, 0, 0, 0, 0, 0, 0, 0, 0, 0, 0, 0, 0, 0, 0, 0, 0, 0, 0, 0, 0, 0,\n",
       "        0, 0, 0, 0, 0, 0],\n",
       "       [0, 0, 0, 0, 0, 0, 0, 0, 0, 0, 0, 0, 0, 0, 0, 0, 0, 0, 0, 0, 0, 0,\n",
       "        0, 0, 0, 0, 0, 0, 1, 0, 0, 0, 0, 0, 0, 0, 0, 0, 0, 0, 0, 0, 0, 0,\n",
       "        0, 0, 0, 0, 0, 0],\n",
       "       [0, 0, 0, 0, 0, 0, 0, 0, 0, 0, 0, 0, 0, 0, 0, 0, 0, 0, 0, 0, 0, 0,\n",
       "        0, 0, 0, 0, 0, 0, 0, 0, 0, 0, 0, 0, 0, 0, 0, 0, 0, 0, 0, 0, 0, 0,\n",
       "        0, 0, 0, 0, 0, 0],\n",
       "       [0, 0, 0, 0, 0, 0, 0, 0, 0, 0, 0, 0, 0, 0, 0, 0, 0, 0, 0, 0, 0, 0,\n",
       "        0, 0, 0, 0, 0, 0, 0, 0, 0, 0, 0, 0, 0, 0, 0, 0, 0, 0, 0, 0, 0, 0,\n",
       "        0, 0, 0, 0, 0, 0],\n",
       "       [0, 0, 0, 0, 0, 0, 0, 0, 0, 0, 0, 0, 0, 0, 0, 0, 0, 0, 0, 0, 0, 0,\n",
       "        0, 0, 0, 0, 0, 0, 1, 0, 0, 0, 0, 0, 0, 0, 0, 0, 0, 0, 0, 0, 0, 0,\n",
       "        0, 0, 0, 0, 0, 0]])"
      ]
     },
     "execution_count": 32,
     "metadata": {},
     "output_type": "execute_result"
    }
   ],
   "source": [
    "feature_vectors[0:5].toarray()[:, 0:50]"
   ]
  },
  {
   "cell_type": "markdown",
   "metadata": {},
   "source": [
    "We can inspect the column names of the output matrix by using the `get_feature_names_out` method of the count vectorizer like so:"
   ]
  },
  {
   "cell_type": "code",
   "execution_count": 31,
   "metadata": {
    "colab": {
     "base_uri": "https://localhost:8080/"
    },
    "execution": {
     "iopub.execute_input": "2024-08-26T05:45:45.886276Z",
     "iopub.status.busy": "2024-08-26T05:45:45.885693Z",
     "iopub.status.idle": "2024-08-26T05:45:45.907880Z",
     "shell.execute_reply": "2024-08-26T05:45:45.906785Z",
     "shell.execute_reply.started": "2024-08-26T05:45:45.886247Z"
    },
    "executionInfo": {
     "elapsed": 524,
     "status": "ok",
     "timestamp": 1724385173321,
     "user": {
      "displayName": "Pavankumar Gurazada",
      "userId": "00731344791027474971"
     },
     "user_tz": -330
    },
    "id": "wh5wT7-3RbvT",
    "outputId": "3be73475-0bf9-484b-fa58-8f4230099375",
    "tags": []
   },
   "outputs": [
    {
     "data": {
      "text/plain": [
       "array(['aaaugh', 'aag', 'aames', ..., 'zunz', 'åmål', 'émigré'],\n",
       "      dtype=object)"
      ]
     },
     "execution_count": 31,
     "metadata": {},
     "output_type": "execute_result"
    }
   ],
   "source": [
    "count_vectorizer.get_feature_names_out()"
   ]
  },
  {
   "cell_type": "markdown",
   "metadata": {},
   "source": [
    "Why is the number of columns in the output not matching the vocabulary size we observed in the last section? This is because of the difference in the tokenizer used. We can pass in our choice of tokenizers as in the following code snippet."
   ]
  },
  {
   "cell_type": "code",
   "execution_count": 32,
   "metadata": {
    "colab": {
     "base_uri": "https://localhost:8080/"
    },
    "execution": {
     "iopub.execute_input": "2024-08-26T05:47:23.807215Z",
     "iopub.status.busy": "2024-08-26T05:47:23.806442Z",
     "iopub.status.idle": "2024-08-26T05:47:23.990579Z",
     "shell.execute_reply": "2024-08-26T05:47:23.989596Z",
     "shell.execute_reply.started": "2024-08-26T05:47:23.807175Z"
    },
    "executionInfo": {
     "elapsed": 4,
     "status": "ok",
     "timestamp": 1724385173825,
     "user": {
      "displayName": "Pavankumar Gurazada",
      "userId": "00731344791027474971"
     },
     "user_tz": -330
    },
    "id": "wdDMrgMMQIoI",
    "outputId": "228836d0-f871-470d-fcef-d1e35980d0d4",
    "tags": []
   },
   "outputs": [
    {
     "name": "stderr",
     "output_type": "stream",
     "text": [
      "/opt/conda/envs/sagemaker-distribution/lib/python3.10/site-packages/sklearn/feature_extraction/text.py:525: UserWarning: The parameter 'token_pattern' will not be used since 'tokenizer' is not None'\n",
      "  warnings.warn(\n"
     ]
    },
    {
     "data": {
      "text/plain": [
       "(1000, 17577)"
      ]
     },
     "execution_count": 32,
     "metadata": {},
     "output_type": "execute_result"
    }
   ],
   "source": [
    "count_vectorizer = CountVectorizer(tokenizer=word_tokenizer.tokenize)\n",
    "feature_vectors = count_vectorizer.fit_transform(sample_cleaned_corpus)\n",
    "feature_vectors.shape"
   ]
  },
  {
   "cell_type": "markdown",
   "metadata": {
    "id": "Tx9VVPzKywwE"
   },
   "source": [
    "**TF-IDF Vectorizer**"
   ]
  },
  {
   "cell_type": "markdown",
   "metadata": {},
   "source": [
    "An improvement over the count vectorizer is the TF-IDF vectorizer that accounts not only for the count of a specific word in the document (i.e., its term frequency, TF) but also its broader occurence in the corpus using an IDF score."
   ]
  },
  {
   "cell_type": "markdown",
   "metadata": {
    "id": "sCDb1aeASjzR"
   },
   "source": [
    "$\\text{tf-idf}(t, d) = \\text{tf}(t, d) \\times \\text{idf}(t)$, and the idf is computed as $\\text{idf}(t) = \\log\\big(\\dfrac{n}{\\text{df}(t)}\\big) + 1$. Where $n$ is the total number of documents in the document set and df$(t)$ is the document frequency of $t$."
   ]
  },
  {
   "cell_type": "markdown",
   "metadata": {},
   "source": [
    "The idea of an IDF score is that terms that appear frequently in all documents (e.g., a, an, the) have little to offer beyond their grammatical contribution to the NLP task and hence should be given lesser weight compared to rare words. From the formula above, we note that idf$(t)$ is exactly 1 when the df$(t) = n$, that is when a term appears in all the $n$ documents. In contrast if a word appears only once in the entire corpus, then its idf score would be $log(n) + 1$."
   ]
  },
  {
   "cell_type": "code",
   "execution_count": 33,
   "metadata": {
    "execution": {
     "iopub.execute_input": "2024-08-26T05:51:06.741325Z",
     "iopub.status.busy": "2024-08-26T05:51:06.740054Z",
     "iopub.status.idle": "2024-08-26T05:51:06.745928Z",
     "shell.execute_reply": "2024-08-26T05:51:06.745162Z",
     "shell.execute_reply.started": "2024-08-26T05:51:06.740663Z"
    },
    "executionInfo": {
     "elapsed": 555,
     "status": "ok",
     "timestamp": 1724385709980,
     "user": {
      "displayName": "Pavankumar Gurazada",
      "userId": "00731344791027474971"
     },
     "user_tz": -330
    },
    "id": "akrIyJ2Ly2p5",
    "tags": []
   },
   "outputs": [],
   "source": [
    "tfidf_vectorizer = TfidfVectorizer()"
   ]
  },
  {
   "cell_type": "code",
   "execution_count": 34,
   "metadata": {
    "execution": {
     "iopub.execute_input": "2024-08-26T05:51:07.478924Z",
     "iopub.status.busy": "2024-08-26T05:51:07.478047Z",
     "iopub.status.idle": "2024-08-26T05:51:07.728897Z",
     "shell.execute_reply": "2024-08-26T05:51:07.727227Z",
     "shell.execute_reply.started": "2024-08-26T05:51:07.478886Z"
    },
    "executionInfo": {
     "elapsed": 8,
     "status": "ok",
     "timestamp": 1724385710399,
     "user": {
      "displayName": "Pavankumar Gurazada",
      "userId": "00731344791027474971"
     },
     "user_tz": -330
    },
    "id": "0hxdhfJqRwXA",
    "tags": []
   },
   "outputs": [],
   "source": [
    "feature_vectors = tfidf_vectorizer.fit_transform(sample_cleaned_corpus)"
   ]
  },
  {
   "cell_type": "code",
   "execution_count": 35,
   "metadata": {
    "colab": {
     "base_uri": "https://localhost:8080/"
    },
    "execution": {
     "iopub.execute_input": "2024-08-26T05:51:07.731624Z",
     "iopub.status.busy": "2024-08-26T05:51:07.730921Z",
     "iopub.status.idle": "2024-08-26T05:51:07.741473Z",
     "shell.execute_reply": "2024-08-26T05:51:07.740373Z",
     "shell.execute_reply.started": "2024-08-26T05:51:07.731556Z"
    },
    "executionInfo": {
     "elapsed": 7,
     "status": "ok",
     "timestamp": 1724385710399,
     "user": {
      "displayName": "Pavankumar Gurazada",
      "userId": "00731344791027474971"
     },
     "user_tz": -330
    },
    "id": "CZf--dbDRyuV",
    "outputId": "3b63afb1-570e-45c1-8269-e1e31ecb5496",
    "tags": []
   },
   "outputs": [
    {
     "data": {
      "text/plain": [
       "(1000, 17551)"
      ]
     },
     "execution_count": 35,
     "metadata": {},
     "output_type": "execute_result"
    }
   ],
   "source": [
    "feature_vectors.shape"
   ]
  },
  {
   "cell_type": "code",
   "execution_count": 36,
   "metadata": {
    "colab": {
     "base_uri": "https://localhost:8080/"
    },
    "execution": {
     "iopub.execute_input": "2024-08-26T05:51:08.828682Z",
     "iopub.status.busy": "2024-08-26T05:51:08.827792Z",
     "iopub.status.idle": "2024-08-26T05:51:08.840280Z",
     "shell.execute_reply": "2024-08-26T05:51:08.838480Z",
     "shell.execute_reply.started": "2024-08-26T05:51:08.828641Z"
    },
    "executionInfo": {
     "elapsed": 5,
     "status": "ok",
     "timestamp": 1724385710399,
     "user": {
      "displayName": "Pavankumar Gurazada",
      "userId": "00731344791027474971"
     },
     "user_tz": -330
    },
    "id": "DbjwKADgR0ts",
    "outputId": "062f6880-45d2-4309-b923-8ee685feedbe",
    "tags": []
   },
   "outputs": [
    {
     "data": {
      "text/plain": [
       "array([[0.        , 0.        , 0.        , 0.        , 0.        ,\n",
       "        0.12796657, 0.        , 0.        , 0.        , 0.        ,\n",
       "        0.        , 0.        , 0.        , 0.        , 0.        ,\n",
       "        0.        , 0.        , 0.        , 0.        , 0.        ,\n",
       "        0.        , 0.        , 0.        , 0.        , 0.        ,\n",
       "        0.        , 0.        , 0.        , 0.        , 0.        ,\n",
       "        0.03352143, 0.        , 0.        , 0.        , 0.        ,\n",
       "        0.        , 0.        , 0.        , 0.        , 0.        ,\n",
       "        0.        , 0.        , 0.        , 0.        , 0.        ,\n",
       "        0.        , 0.        , 0.        , 0.        , 0.        ],\n",
       "       [0.        , 0.        , 0.        , 0.        , 0.        ,\n",
       "        0.        , 0.        , 0.        , 0.        , 0.        ,\n",
       "        0.        , 0.        , 0.        , 0.        , 0.        ,\n",
       "        0.        , 0.        , 0.        , 0.        , 0.        ,\n",
       "        0.        , 0.        , 0.        , 0.        , 0.        ,\n",
       "        0.        , 0.        , 0.        , 0.        , 0.        ,\n",
       "        0.        , 0.        , 0.        , 0.        , 0.        ,\n",
       "        0.        , 0.        , 0.        , 0.        , 0.        ,\n",
       "        0.        , 0.        , 0.        , 0.        , 0.        ,\n",
       "        0.        , 0.        , 0.        , 0.        , 0.        ],\n",
       "       [0.        , 0.        , 0.        , 0.        , 0.        ,\n",
       "        0.        , 0.        , 0.        , 0.        , 0.        ,\n",
       "        0.        , 0.        , 0.        , 0.        , 0.        ,\n",
       "        0.        , 0.        , 0.        , 0.        , 0.        ,\n",
       "        0.        , 0.        , 0.        , 0.        , 0.        ,\n",
       "        0.        , 0.        , 0.        , 0.        , 0.        ,\n",
       "        0.        , 0.        , 0.        , 0.        , 0.        ,\n",
       "        0.        , 0.        , 0.        , 0.        , 0.        ,\n",
       "        0.        , 0.        , 0.        , 0.        , 0.        ,\n",
       "        0.        , 0.        , 0.        , 0.        , 0.        ],\n",
       "       [0.        , 0.        , 0.        , 0.        , 0.        ,\n",
       "        0.        , 0.        , 0.        , 0.        , 0.        ,\n",
       "        0.        , 0.        , 0.        , 0.        , 0.        ,\n",
       "        0.        , 0.        , 0.        , 0.        , 0.        ,\n",
       "        0.        , 0.        , 0.        , 0.        , 0.        ,\n",
       "        0.        , 0.        , 0.        , 0.        , 0.        ,\n",
       "        0.        , 0.        , 0.        , 0.        , 0.        ,\n",
       "        0.        , 0.        , 0.        , 0.        , 0.        ,\n",
       "        0.        , 0.        , 0.        , 0.        , 0.        ,\n",
       "        0.        , 0.        , 0.        , 0.        , 0.        ],\n",
       "       [0.        , 0.        , 0.        , 0.        , 0.        ,\n",
       "        0.        , 0.        , 0.        , 0.        , 0.        ,\n",
       "        0.        , 0.        , 0.        , 0.        , 0.        ,\n",
       "        0.        , 0.        , 0.        , 0.        , 0.        ,\n",
       "        0.        , 0.        , 0.        , 0.        , 0.        ,\n",
       "        0.        , 0.        , 0.        , 0.        , 0.        ,\n",
       "        0.        , 0.        , 0.        , 0.        , 0.        ,\n",
       "        0.        , 0.        , 0.        , 0.        , 0.        ,\n",
       "        0.        , 0.        , 0.        , 0.        , 0.        ,\n",
       "        0.        , 0.        , 0.        , 0.        , 0.        ]])"
      ]
     },
     "execution_count": 36,
     "metadata": {},
     "output_type": "execute_result"
    }
   ],
   "source": [
    "feature_vectors[0:5].toarray()[:, 0:50]"
   ]
  },
  {
   "cell_type": "markdown",
   "metadata": {
    "id": "aeJE2Iy-VJiP"
   },
   "source": [
    "One issue with these vectorizers is that they cannot handle out of vocabulary documents."
   ]
  },
  {
   "cell_type": "code",
   "execution_count": 38,
   "metadata": {
    "colab": {
     "base_uri": "https://localhost:8080/"
    },
    "execution": {
     "iopub.execute_input": "2024-08-26T06:14:16.364285Z",
     "iopub.status.busy": "2024-08-26T06:14:16.363688Z",
     "iopub.status.idle": "2024-08-26T06:14:16.372981Z",
     "shell.execute_reply": "2024-08-26T06:14:16.372156Z",
     "shell.execute_reply.started": "2024-08-26T06:14:16.364253Z"
    },
    "executionInfo": {
     "elapsed": 4,
     "status": "ok",
     "timestamp": 1724385711343,
     "user": {
      "displayName": "Pavankumar Gurazada",
      "userId": "00731344791027474971"
     },
     "user_tz": -330
    },
    "id": "pgRlJOrvU3Ls",
    "outputId": "91fefd02-0027-4abc-92c9-572833476c06",
    "tags": []
   },
   "outputs": [
    {
     "data": {
      "text/plain": [
       "0.0"
      ]
     },
     "execution_count": 38,
     "metadata": {},
     "output_type": "execute_result"
    }
   ],
   "source": [
    "tfidf_vectorizer.transform(['Tesla']).toarray().sum()"
   ]
  },
  {
   "cell_type": "markdown",
   "metadata": {
    "id": "uq17ANKrUTH5"
   },
   "source": [
    "## Dense Embeddings"
   ]
  },
  {
   "cell_type": "markdown",
   "metadata": {},
   "source": [
    "A better approach than sparse representations is to create dense embeddings that capture the meaning of the words in the documents in a space that allows for such meaning to be learnt. An *embedding* is a vector of numbers associated with each word in a sample that captures both the semantics of the word as well as its linguistic information. In the embedding space, words of similar meaning are close to each other. We treat the dimension of these embeddings as a hyperparameter that we tune according to a downstream task (e.g., sentiment analysis)."
   ]
  },
  {
   "cell_type": "markdown",
   "metadata": {},
   "source": [
    "The word2vec method of learning word embeddings starts by defining a sliding context window size $w$ and a hidden layer dimension ($d_h$) to which the words in the window would be projected to (see figures below).\n",
    "\n",
    "In order to learn the embeddings of each word, we define two objectives:\n",
    "- SkipGram where given the center word in the window, we predict the rest of the context words. \n",
    "- Continuous Bag of Words (CBOW) where given the context words in the window, we predict the center word.\n",
    "\n",
    "For both variations of word2vec (skipgram and cbow), we use a one hidden layer (of dimension $d_h$) neural network to make these predictions.\n",
    "\n",
    "Empirically, skipgram is observed to create better embeddings. "
   ]
  },
  {
   "cell_type": "markdown",
   "metadata": {
    "id": "4CXfrtuSy7rE"
   },
   "source": [
    "**Word2Vec - SkipGram**"
   ]
  },
  {
   "cell_type": "markdown",
   "metadata": {
    "id": "6WA4h5zUZNgv"
   },
   "source": [
    "![image.png](data:image/png;base64,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)"
   ]
  },
  {
   "cell_type": "markdown",
   "metadata": {
    "id": "6zqT6Dn-ZQeF"
   },
   "source": [
    "(Source: https://arxiv.org/pdf/1310.4546)"
   ]
  },
  {
   "cell_type": "markdown",
   "metadata": {
    "id": "Osl88WnTjWuD"
   },
   "source": [
    "![image.png](data:image/png;base64,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)"
   ]
  },
  {
   "cell_type": "markdown",
   "metadata": {
    "id": "TdV6n74hjXzn"
   },
   "source": [
    "(Source: https://arxiv.org/pdf/1411.2738)"
   ]
  },
  {
   "cell_type": "markdown",
   "metadata": {},
   "source": [
    "As indicated in the above figure, for skipgram, we essentially learn two matrices - $W_{V \\times d_h}$ and $W^\\prime_{d_h \\times V}$. $W_{V \\times d_h}$ projects the input word (center word) that is a one-hot encoded word in the vocabulary space into an embedding dimension ($d_h$) space. $W^\\prime_{d_h \\times V}$ then projects this representation back to the vocabulary space where a pairwise comparision can be made with the context words as ground truth. We compute the average log loss for the entire corpus, sliding the context window and backpropogate to learn the weights in the two matrices -  $W_{V \\times d_h}$ and $W^\\prime_{d_h \\times V}$. $W_{V \\times d_h}$. "
   ]
  },
  {
   "cell_type": "code",
   "execution_count": 39,
   "metadata": {
    "execution": {
     "iopub.execute_input": "2024-08-26T06:38:55.018824Z",
     "iopub.status.busy": "2024-08-26T06:38:55.017882Z",
     "iopub.status.idle": "2024-08-26T06:38:57.502961Z",
     "shell.execute_reply": "2024-08-26T06:38:57.502154Z",
     "shell.execute_reply.started": "2024-08-26T06:38:55.018772Z"
    },
    "executionInfo": {
     "elapsed": 6351,
     "status": "ok",
     "timestamp": 1724387604884,
     "user": {
      "displayName": "Pavankumar Gurazada",
      "userId": "00731344791027474971"
     },
     "user_tz": -330
    },
    "id": "_K1DeO8Gy-Bd",
    "tags": []
   },
   "outputs": [],
   "source": [
    "skipgram_embedding_model = gensim.models.Word2Vec(\n",
    "    sentences=token_list, vector_size=9, window=5, min_count=1, sg=1,\n",
    "    epochs=5\n",
    ")"
   ]
  },
  {
   "cell_type": "code",
   "execution_count": 40,
   "metadata": {
    "colab": {
     "base_uri": "https://localhost:8080/"
    },
    "execution": {
     "iopub.execute_input": "2024-08-26T06:38:57.504787Z",
     "iopub.status.busy": "2024-08-26T06:38:57.504518Z",
     "iopub.status.idle": "2024-08-26T06:38:57.511047Z",
     "shell.execute_reply": "2024-08-26T06:38:57.510161Z",
     "shell.execute_reply.started": "2024-08-26T06:38:57.504761Z"
    },
    "executionInfo": {
     "elapsed": 437,
     "status": "ok",
     "timestamp": 1724387608356,
     "user": {
      "displayName": "Pavankumar Gurazada",
      "userId": "00731344791027474971"
     },
     "user_tz": -330
    },
    "id": "e881OA3tYWm2",
    "outputId": "f2b9fa65-39e0-4c84-89c4-9c7f8e19399e",
    "tags": []
   },
   "outputs": [
    {
     "data": {
      "text/plain": [
       "array([-0.8233581 ,  0.05817042,  2.2201815 , -0.6912606 ,  0.4290824 ,\n",
       "        0.903944  , -0.21755564, -0.28484672,  0.9153383 ], dtype=float32)"
      ]
     },
     "execution_count": 40,
     "metadata": {},
     "output_type": "execute_result"
    }
   ],
   "source": [
    "skipgram_embedding_model.wv['movie']"
   ]
  },
  {
   "cell_type": "markdown",
   "metadata": {
    "id": "huCkbN5fhlpX"
   },
   "source": [
    "As discussed before, these vectors are called embeddings because they *embed* a word in a high dimensional space."
   ]
  },
  {
   "cell_type": "markdown",
   "metadata": {},
   "source": [
    "This method of creating embeddings scales even when we receive new documents in the corpus or when we want to train the model further. To resume training from a specific saved checkpoint, we update the vocabulary accounting for any new words that were generated and resume training."
   ]
  },
  {
   "cell_type": "code",
   "execution_count": 44,
   "metadata": {
    "execution": {
     "iopub.execute_input": "2024-08-26T06:40:40.692222Z",
     "iopub.status.busy": "2024-08-26T06:40:40.691764Z",
     "iopub.status.idle": "2024-08-26T06:40:41.047752Z",
     "shell.execute_reply": "2024-08-26T06:40:41.046822Z",
     "shell.execute_reply.started": "2024-08-26T06:40:40.692189Z"
    },
    "executionInfo": {
     "elapsed": 735,
     "status": "ok",
     "timestamp": 1724387635633,
     "user": {
      "displayName": "Pavankumar Gurazada",
      "userId": "00731344791027474971"
     },
     "user_tz": -330
    },
    "id": "fSdJI0OVml2j",
    "tags": []
   },
   "outputs": [],
   "source": [
    "skipgram_embedding_model.build_vocab(token_list, update=True)"
   ]
  },
  {
   "cell_type": "code",
   "execution_count": 45,
   "metadata": {
    "colab": {
     "base_uri": "https://localhost:8080/"
    },
    "execution": {
     "iopub.execute_input": "2024-08-26T06:40:41.049460Z",
     "iopub.status.busy": "2024-08-26T06:40:41.049169Z",
     "iopub.status.idle": "2024-08-26T06:40:45.367281Z",
     "shell.execute_reply": "2024-08-26T06:40:45.365416Z",
     "shell.execute_reply.started": "2024-08-26T06:40:41.049434Z"
    },
    "executionInfo": {
     "elapsed": 11896,
     "status": "ok",
     "timestamp": 1724387647520,
     "user": {
      "displayName": "Pavankumar Gurazada",
      "userId": "00731344791027474971"
     },
     "user_tz": -330
    },
    "id": "tuot9brLZgsa",
    "outputId": "cee7b150-e763-464c-e0c6-0f5b6f16bc25",
    "tags": []
   },
   "outputs": [
    {
     "data": {
      "text/plain": [
       "(1622079, 2224450)"
      ]
     },
     "execution_count": 45,
     "metadata": {},
     "output_type": "execute_result"
    }
   ],
   "source": [
    "skipgram_embedding_model.train(\n",
    "    token_list,\n",
    "    total_examples=len(token_list),\n",
    "    epochs=10\n",
    ")"
   ]
  },
  {
   "cell_type": "code",
   "execution_count": 46,
   "metadata": {
    "colab": {
     "base_uri": "https://localhost:8080/"
    },
    "execution": {
     "iopub.execute_input": "2024-08-26T06:40:45.369250Z",
     "iopub.status.busy": "2024-08-26T06:40:45.368872Z",
     "iopub.status.idle": "2024-08-26T06:40:45.376489Z",
     "shell.execute_reply": "2024-08-26T06:40:45.374654Z",
     "shell.execute_reply.started": "2024-08-26T06:40:45.369223Z"
    },
    "executionInfo": {
     "elapsed": 4,
     "status": "ok",
     "timestamp": 1724387648835,
     "user": {
      "displayName": "Pavankumar Gurazada",
      "userId": "00731344791027474971"
     },
     "user_tz": -330
    },
    "id": "qqiteadDZs6j",
    "outputId": "98418115-61b0-439b-c33f-75e2fe226b85",
    "tags": []
   },
   "outputs": [
    {
     "data": {
      "text/plain": [
       "array([-0.60605925,  0.34402364,  1.5479271 , -0.50289786,  0.25543222,\n",
       "        0.8022247 , -0.01810802, -0.38225806,  0.71381915], dtype=float32)"
      ]
     },
     "execution_count": 46,
     "metadata": {},
     "output_type": "execute_result"
    }
   ],
   "source": [
    "skipgram_embedding_model.wv['movie']"
   ]
  },
  {
   "cell_type": "markdown",
   "metadata": {
    "id": "CZWraslmzEBg"
   },
   "source": [
    "**Word2Vec - CBOW**"
   ]
  },
  {
   "cell_type": "markdown",
   "metadata": {
    "id": "wLMnilayjPb5"
   },
   "source": [
    "![image.png](data:image/png;base64,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)"
   ]
  },
  {
   "cell_type": "markdown",
   "metadata": {
    "id": "1Gt-F1JUiEeo"
   },
   "source": [
    "(Source: https://arxiv.org/pdf/1411.2738)"
   ]
  },
  {
   "cell_type": "markdown",
   "metadata": {},
   "source": [
    "In CBOW we average the embeddings that come from projections of the context words with $W_{V \\times d_h}$ and project this averaged embedding back to the vocabulary space using $W^\\prime_{d_h \\times V}$. $W_{V \\times d_h}$ to compare it with the ground truth (i.e., the center word). This comparison yields a log loss for the samples created through the sliding context window that we can backpropogate to learn the weights of the matrices - $W_{V \\times d_h}$ and $W^\\prime_{d_h \\times V}$. $W_{V \\times d_h}$."
   ]
  },
  {
   "cell_type": "code",
   "execution_count": 47,
   "metadata": {
    "execution": {
     "iopub.execute_input": "2024-08-26T06:43:05.487880Z",
     "iopub.status.busy": "2024-08-26T06:43:05.486931Z",
     "iopub.status.idle": "2024-08-26T06:43:06.836128Z",
     "shell.execute_reply": "2024-08-26T06:43:06.835227Z",
     "shell.execute_reply.started": "2024-08-26T06:43:05.487846Z"
    },
    "executionInfo": {
     "elapsed": 2063,
     "status": "ok",
     "timestamp": 1724387898530,
     "user": {
      "displayName": "Pavankumar Gurazada",
      "userId": "00731344791027474971"
     },
     "user_tz": -330
    },
    "id": "jIADj-iXzFvT",
    "tags": []
   },
   "outputs": [],
   "source": [
    "cbow_embedding_model = gensim.models.Word2Vec(\n",
    "    sentences=token_list, vector_size=100, window=5, min_count=1, sg=0,\n",
    "    epochs=5\n",
    ")"
   ]
  },
  {
   "cell_type": "code",
   "execution_count": 48,
   "metadata": {
    "colab": {
     "base_uri": "https://localhost:8080/"
    },
    "execution": {
     "iopub.execute_input": "2024-08-26T06:43:06.837982Z",
     "iopub.status.busy": "2024-08-26T06:43:06.837561Z",
     "iopub.status.idle": "2024-08-26T06:43:06.846405Z",
     "shell.execute_reply": "2024-08-26T06:43:06.845416Z",
     "shell.execute_reply.started": "2024-08-26T06:43:06.837953Z"
    },
    "executionInfo": {
     "elapsed": 9,
     "status": "ok",
     "timestamp": 1724387898530,
     "user": {
      "displayName": "Pavankumar Gurazada",
      "userId": "00731344791027474971"
     },
     "user_tz": -330
    },
    "id": "5cVzVFJzz90o",
    "outputId": "9f41adbe-88ce-4f9d-ad79-b1414de15869",
    "tags": []
   },
   "outputs": [
    {
     "data": {
      "text/plain": [
       "array([ 1.2802266e-01,  6.0893571e-01,  8.4170952e-02, -7.0108950e-01,\n",
       "        5.6387782e-01, -1.5861182e+00,  6.3405222e-01,  2.0781817e+00,\n",
       "       -1.3132923e+00, -1.1735042e+00, -4.9052256e-01, -1.6053953e+00,\n",
       "       -3.0559969e-01,  5.9676409e-01,  5.8030373e-01, -6.3259590e-01,\n",
       "        9.6227634e-01, -2.4768810e-01, -7.8392351e-01, -2.7901874e+00,\n",
       "        1.0175228e+00, -7.0876554e-02,  1.2303958e+00, -1.1834338e+00,\n",
       "       -2.6092625e-01,  4.9365494e-02, -1.2552574e+00, -1.9066414e-02,\n",
       "       -1.0468507e+00,  4.8032004e-01,  1.4856871e+00,  1.7768839e-01,\n",
       "        4.8776412e-01, -1.1446513e+00, -3.3797771e-01,  2.6524806e-01,\n",
       "       -9.5793389e-02, -6.5865612e-01, -1.5454781e-01, -8.1191748e-01,\n",
       "        4.6230704e-01, -8.7472063e-01, -7.0023429e-01, -3.6295649e-02,\n",
       "        1.3788532e-01, -5.0065666e-01, -4.0545133e-01, -4.7784680e-01,\n",
       "        3.6202797e-01,  3.1791174e-01,  4.4650894e-01, -1.4612560e+00,\n",
       "        1.3663855e-02,  1.3402948e-02,  1.5838066e-01,  2.5964394e-01,\n",
       "        4.2644584e-01, -2.7154410e-01, -1.9774154e-01,  6.5381473e-01,\n",
       "        5.2384317e-01, -2.7897453e-01,  9.1140777e-01,  1.9186535e-01,\n",
       "       -7.1722549e-01,  1.6172442e+00,  5.2750181e-02,  9.8711550e-02,\n",
       "       -1.6013396e+00,  8.9653301e-01, -5.0896055e-01,  1.0992419e+00,\n",
       "        1.1543226e+00,  5.3243376e-02,  8.3438665e-01,  1.2155561e-01,\n",
       "        7.9189695e-02,  3.3278659e-01, -6.1526555e-01, -2.8192658e-02,\n",
       "       -9.9518675e-01,  6.5870114e-02, -9.4639885e-01,  1.2319610e+00,\n",
       "       -2.2570378e-01, -3.1140575e-01,  1.3868511e+00,  1.5940645e-01,\n",
       "        7.9731321e-01, -2.6636955e-03,  8.5990298e-01,  5.1605844e-01,\n",
       "        5.0995499e-01, -1.8012039e-01,  1.2419820e+00,  4.7281328e-01,\n",
       "        8.7155288e-01, -6.0901511e-01,  3.3414081e-01,  2.0648518e-01],\n",
       "      dtype=float32)"
      ]
     },
     "execution_count": 48,
     "metadata": {},
     "output_type": "execute_result"
    }
   ],
   "source": [
    "cbow_embedding_model.wv['movie']"
   ]
  },
  {
   "cell_type": "code",
   "execution_count": 49,
   "metadata": {
    "execution": {
     "iopub.execute_input": "2024-08-26T06:43:06.848259Z",
     "iopub.status.busy": "2024-08-26T06:43:06.847855Z",
     "iopub.status.idle": "2024-08-26T06:43:07.161803Z",
     "shell.execute_reply": "2024-08-26T06:43:07.160957Z",
     "shell.execute_reply.started": "2024-08-26T06:43:06.848218Z"
    },
    "executionInfo": {
     "elapsed": 683,
     "status": "ok",
     "timestamp": 1724387900183,
     "user": {
      "displayName": "Pavankumar Gurazada",
      "userId": "00731344791027474971"
     },
     "user_tz": -330
    },
    "id": "Yb_WdTMk0DdW",
    "tags": []
   },
   "outputs": [],
   "source": [
    "cbow_embedding_model.build_vocab(token_list, update=True)"
   ]
  },
  {
   "cell_type": "code",
   "execution_count": 50,
   "metadata": {
    "colab": {
     "base_uri": "https://localhost:8080/"
    },
    "execution": {
     "iopub.execute_input": "2024-08-26T06:43:07.164248Z",
     "iopub.status.busy": "2024-08-26T06:43:07.163702Z",
     "iopub.status.idle": "2024-08-26T06:43:09.104516Z",
     "shell.execute_reply": "2024-08-26T06:43:09.103695Z",
     "shell.execute_reply.started": "2024-08-26T06:43:07.164208Z"
    },
    "executionInfo": {
     "elapsed": 4483,
     "status": "ok",
     "timestamp": 1724387904664,
     "user": {
      "displayName": "Pavankumar Gurazada",
      "userId": "00731344791027474971"
     },
     "user_tz": -330
    },
    "id": "Bw5w37mn0Hyt",
    "outputId": "c569cba6-b551-42cf-c0bd-0ceda5278a96",
    "tags": []
   },
   "outputs": [
    {
     "data": {
      "text/plain": [
       "(1622258, 2224450)"
      ]
     },
     "execution_count": 50,
     "metadata": {},
     "output_type": "execute_result"
    }
   ],
   "source": [
    "cbow_embedding_model.train(\n",
    "    token_list,\n",
    "    total_examples=len(token_list),\n",
    "    epochs=10\n",
    ")"
   ]
  },
  {
   "cell_type": "code",
   "execution_count": 51,
   "metadata": {
    "colab": {
     "base_uri": "https://localhost:8080/"
    },
    "execution": {
     "iopub.execute_input": "2024-08-26T06:43:09.105813Z",
     "iopub.status.busy": "2024-08-26T06:43:09.105550Z",
     "iopub.status.idle": "2024-08-26T06:43:09.112679Z",
     "shell.execute_reply": "2024-08-26T06:43:09.111745Z",
     "shell.execute_reply.started": "2024-08-26T06:43:09.105787Z"
    },
    "executionInfo": {
     "elapsed": 10,
     "status": "ok",
     "timestamp": 1724387904664,
     "user": {
      "displayName": "Pavankumar Gurazada",
      "userId": "00731344791027474971"
     },
     "user_tz": -330
    },
    "id": "7NIe9ne40Mq-",
    "outputId": "bde13290-5037-4f34-8b37-6aabe01266a0",
    "tags": []
   },
   "outputs": [
    {
     "data": {
      "text/plain": [
       "array([ 0.6727748 ,  0.7333034 , -0.24530864, -1.8078464 ,  0.829908  ,\n",
       "       -0.58721477, -0.05159629,  0.5683911 , -1.131056  , -0.796506  ,\n",
       "       -1.0403662 , -0.9011249 , -0.7866047 ,  0.20961775,  1.7724894 ,\n",
       "       -0.3143995 ,  2.157093  ,  0.93506   , -0.6778236 , -3.134461  ,\n",
       "        0.74071246, -0.15579444,  1.7402021 , -0.7899464 , -0.6282925 ,\n",
       "        0.892389  , -1.7323362 ,  0.4673604 , -1.7155195 ,  1.8582187 ,\n",
       "        1.158554  ,  0.86587214,  1.2435253 , -1.2241385 , -1.0524439 ,\n",
       "       -0.76186067, -0.9940873 ,  0.19056436,  0.18179782, -0.72083026,\n",
       "        0.9875254 ,  0.22167411,  0.16142325, -0.3613827 , -1.3866886 ,\n",
       "       -1.3657883 ,  0.9004116 , -0.72237986, -0.69862366, -0.19593164,\n",
       "        0.86558795, -1.6536385 , -0.09321816, -0.28001016,  0.55810523,\n",
       "       -0.14911138,  0.46357495, -0.38736236,  0.5167068 ,  1.3495276 ,\n",
       "        0.4685498 , -0.08728583,  1.4640362 ,  0.89638454, -0.24724348,\n",
       "        1.6646208 ,  0.46919948,  0.15557408, -2.013515  ,  1.158609  ,\n",
       "        0.39646652,  1.1830772 ,  0.05757991,  1.0053581 ,  0.848276  ,\n",
       "        1.0093662 ,  0.38372684,  0.46526018, -0.42571077,  0.0213438 ,\n",
       "       -1.0734857 , -0.31397367,  0.08116978,  2.012379  ,  0.48551336,\n",
       "        0.13591427,  2.8274605 , -0.20628698,  0.2085427 , -0.45499673,\n",
       "        1.2348455 ,  0.6303936 ,  0.11870404, -1.1987231 ,  0.15945584,\n",
       "       -0.28091365,  1.0896143 , -0.8267062 ,  1.0156338 ,  0.93501765],\n",
       "      dtype=float32)"
      ]
     },
     "execution_count": 51,
     "metadata": {},
     "output_type": "execute_result"
    }
   ],
   "source": [
    "cbow_embedding_model.wv['movie']"
   ]
  },
  {
   "cell_type": "markdown",
   "metadata": {},
   "source": [
    "A fundamental limitation of the word2vec method we describe here is that we do not learn the embeddings of out of vocabulary words. For example:"
   ]
  },
  {
   "cell_type": "code",
   "execution_count": 52,
   "metadata": {
    "execution": {
     "iopub.execute_input": "2024-08-26T06:43:41.361065Z",
     "iopub.status.busy": "2024-08-26T06:43:41.360540Z",
     "iopub.status.idle": "2024-08-26T06:43:42.112093Z",
     "shell.execute_reply": "2024-08-26T06:43:42.110701Z",
     "shell.execute_reply.started": "2024-08-26T06:43:41.361030Z"
    },
    "tags": []
   },
   "outputs": [
    {
     "ename": "KeyError",
     "evalue": "\"Key 'movieewwwww' not present\"",
     "output_type": "error",
     "traceback": [
      "\u001b[0;31m---------------------------------------------------------------------------\u001b[0m",
      "\u001b[0;31mKeyError\u001b[0m                                  Traceback (most recent call last)",
      "Cell \u001b[0;32mIn[52], line 1\u001b[0m\n\u001b[0;32m----> 1\u001b[0m \u001b[43mcbow_embedding_model\u001b[49m\u001b[38;5;241;43m.\u001b[39;49m\u001b[43mwv\u001b[49m\u001b[43m[\u001b[49m\u001b[38;5;124;43m'\u001b[39;49m\u001b[38;5;124;43mmovieewwwww\u001b[39;49m\u001b[38;5;124;43m'\u001b[39;49m\u001b[43m]\u001b[49m\n",
      "File \u001b[0;32m/opt/conda/envs/sagemaker-distribution/lib/python3.10/site-packages/gensim/models/keyedvectors.py:403\u001b[0m, in \u001b[0;36mKeyedVectors.__getitem__\u001b[0;34m(self, key_or_keys)\u001b[0m\n\u001b[1;32m    389\u001b[0m \u001b[38;5;250m\u001b[39m\u001b[38;5;124;03m\"\"\"Get vector representation of `key_or_keys`.\u001b[39;00m\n\u001b[1;32m    390\u001b[0m \n\u001b[1;32m    391\u001b[0m \u001b[38;5;124;03mParameters\u001b[39;00m\n\u001b[0;32m   (...)\u001b[0m\n\u001b[1;32m    400\u001b[0m \n\u001b[1;32m    401\u001b[0m \u001b[38;5;124;03m\"\"\"\u001b[39;00m\n\u001b[1;32m    402\u001b[0m \u001b[38;5;28;01mif\u001b[39;00m \u001b[38;5;28misinstance\u001b[39m(key_or_keys, _KEY_TYPES):\n\u001b[0;32m--> 403\u001b[0m     \u001b[38;5;28;01mreturn\u001b[39;00m \u001b[38;5;28;43mself\u001b[39;49m\u001b[38;5;241;43m.\u001b[39;49m\u001b[43mget_vector\u001b[49m\u001b[43m(\u001b[49m\u001b[43mkey_or_keys\u001b[49m\u001b[43m)\u001b[49m\n\u001b[1;32m    405\u001b[0m \u001b[38;5;28;01mreturn\u001b[39;00m vstack([\u001b[38;5;28mself\u001b[39m\u001b[38;5;241m.\u001b[39mget_vector(key) \u001b[38;5;28;01mfor\u001b[39;00m key \u001b[38;5;129;01min\u001b[39;00m key_or_keys])\n",
      "File \u001b[0;32m/opt/conda/envs/sagemaker-distribution/lib/python3.10/site-packages/gensim/models/keyedvectors.py:446\u001b[0m, in \u001b[0;36mKeyedVectors.get_vector\u001b[0;34m(self, key, norm)\u001b[0m\n\u001b[1;32m    422\u001b[0m \u001b[38;5;28;01mdef\u001b[39;00m \u001b[38;5;21mget_vector\u001b[39m(\u001b[38;5;28mself\u001b[39m, key, norm\u001b[38;5;241m=\u001b[39m\u001b[38;5;28;01mFalse\u001b[39;00m):\n\u001b[1;32m    423\u001b[0m \u001b[38;5;250m    \u001b[39m\u001b[38;5;124;03m\"\"\"Get the key's vector, as a 1D numpy array.\u001b[39;00m\n\u001b[1;32m    424\u001b[0m \n\u001b[1;32m    425\u001b[0m \u001b[38;5;124;03m    Parameters\u001b[39;00m\n\u001b[0;32m   (...)\u001b[0m\n\u001b[1;32m    444\u001b[0m \n\u001b[1;32m    445\u001b[0m \u001b[38;5;124;03m    \"\"\"\u001b[39;00m\n\u001b[0;32m--> 446\u001b[0m     index \u001b[38;5;241m=\u001b[39m \u001b[38;5;28;43mself\u001b[39;49m\u001b[38;5;241;43m.\u001b[39;49m\u001b[43mget_index\u001b[49m\u001b[43m(\u001b[49m\u001b[43mkey\u001b[49m\u001b[43m)\u001b[49m\n\u001b[1;32m    447\u001b[0m     \u001b[38;5;28;01mif\u001b[39;00m norm:\n\u001b[1;32m    448\u001b[0m         \u001b[38;5;28mself\u001b[39m\u001b[38;5;241m.\u001b[39mfill_norms()\n",
      "File \u001b[0;32m/opt/conda/envs/sagemaker-distribution/lib/python3.10/site-packages/gensim/models/keyedvectors.py:420\u001b[0m, in \u001b[0;36mKeyedVectors.get_index\u001b[0;34m(self, key, default)\u001b[0m\n\u001b[1;32m    418\u001b[0m     \u001b[38;5;28;01mreturn\u001b[39;00m default\n\u001b[1;32m    419\u001b[0m \u001b[38;5;28;01melse\u001b[39;00m:\n\u001b[0;32m--> 420\u001b[0m     \u001b[38;5;28;01mraise\u001b[39;00m \u001b[38;5;167;01mKeyError\u001b[39;00m(\u001b[38;5;124mf\u001b[39m\u001b[38;5;124m\"\u001b[39m\u001b[38;5;124mKey \u001b[39m\u001b[38;5;124m'\u001b[39m\u001b[38;5;132;01m{\u001b[39;00mkey\u001b[38;5;132;01m}\u001b[39;00m\u001b[38;5;124m'\u001b[39m\u001b[38;5;124m not present\u001b[39m\u001b[38;5;124m\"\u001b[39m)\n",
      "\u001b[0;31mKeyError\u001b[0m: \"Key 'movieewwwww' not present\""
     ]
    }
   ],
   "source": [
    "cbow_embedding_model.wv['movieewwwww']"
   ]
  },
  {
   "cell_type": "markdown",
   "metadata": {},
   "source": [
    "In this case the error shows that since the input word is not in the vocabulary, its embedding cannot be returned."
   ]
  },
  {
   "cell_type": "markdown",
   "metadata": {
    "id": "7TfXYmmuzM1G"
   },
   "source": [
    "**FastText**"
   ]
  },
  {
   "cell_type": "markdown",
   "metadata": {},
   "source": [
    "Fasttext improves on vanilla word2vec by solve for out of vocabulary embeddings through subword embeddings and more efficient training optimizations.\n",
    "\n",
    "With Fasttext, for each word, we create character level n-grams of certain sizes along with the original words and learn these embeddings using skipgram or cbow.\n",
    "\n",
    "For example, with a minimum characters of 2 and maximum characters of 3, the word `movie` is expanded into the set - {mo, ov, vi, ie, ..., mov, ovi, vie, ...}. This allows the composition of unknown word embeddings to be recovered from the subword embeddings."
   ]
  },
  {
   "cell_type": "code",
   "execution_count": 54,
   "metadata": {
    "execution": {
     "iopub.execute_input": "2024-08-26T06:47:47.453131Z",
     "iopub.status.busy": "2024-08-26T06:47:47.452600Z",
     "iopub.status.idle": "2024-08-26T06:47:47.458204Z",
     "shell.execute_reply": "2024-08-26T06:47:47.457009Z",
     "shell.execute_reply.started": "2024-08-26T06:47:47.453099Z"
    },
    "executionInfo": {
     "elapsed": 497,
     "status": "ok",
     "timestamp": 1724388106983,
     "user": {
      "displayName": "Pavankumar Gurazada",
      "userId": "00731344791027474971"
     },
     "user_tz": -330
    },
    "id": "VmjnAa1EzN_G",
    "tags": []
   },
   "outputs": [],
   "source": [
    "fasttext_embedding_model = gensim.models.FastText(\n",
    "    vector_size=100,\n",
    "    window=5,\n",
    "    min_count=1\n",
    ")"
   ]
  },
  {
   "cell_type": "code",
   "execution_count": 55,
   "metadata": {
    "execution": {
     "iopub.execute_input": "2024-08-26T06:47:47.633103Z",
     "iopub.status.busy": "2024-08-26T06:47:47.632666Z",
     "iopub.status.idle": "2024-08-26T06:47:49.802574Z",
     "shell.execute_reply": "2024-08-26T06:47:49.801749Z",
     "shell.execute_reply.started": "2024-08-26T06:47:47.633070Z"
    },
    "executionInfo": {
     "elapsed": 3182,
     "status": "ok",
     "timestamp": 1724388110568,
     "user": {
      "displayName": "Pavankumar Gurazada",
      "userId": "00731344791027474971"
     },
     "user_tz": -330
    },
    "id": "iH0gITBC3BeW",
    "tags": []
   },
   "outputs": [],
   "source": [
    "fasttext_embedding_model.build_vocab(token_list)"
   ]
  },
  {
   "cell_type": "code",
   "execution_count": 56,
   "metadata": {
    "colab": {
     "base_uri": "https://localhost:8080/"
    },
    "execution": {
     "iopub.execute_input": "2024-08-26T06:47:49.804368Z",
     "iopub.status.busy": "2024-08-26T06:47:49.804099Z",
     "iopub.status.idle": "2024-08-26T06:47:49.811722Z",
     "shell.execute_reply": "2024-08-26T06:47:49.810712Z",
     "shell.execute_reply.started": "2024-08-26T06:47:49.804342Z"
    },
    "executionInfo": {
     "elapsed": 17,
     "status": "ok",
     "timestamp": 1724388110569,
     "user": {
      "displayName": "Pavankumar Gurazada",
      "userId": "00731344791027474971"
     },
     "user_tz": -330
    },
    "id": "OqPlTTB33Jtc",
    "outputId": "bbaa91bc-a145-43ae-d25f-0974022bae1d",
    "tags": []
   },
   "outputs": [
    {
     "data": {
      "text/plain": [
       "array([-3.9527561e-03, -1.5946920e-03, -2.6372257e-03, -1.6989685e-03,\n",
       "        2.8121208e-03,  5.6125497e-04, -1.6123129e-03,  2.5310488e-03,\n",
       "        1.5890196e-03, -2.3437650e-03, -5.5439264e-04, -8.6650660e-04,\n",
       "       -5.8444963e-05,  4.9268722e-04, -1.8073010e-03,  2.8560523e-04,\n",
       "       -1.1098641e-03,  9.5442671e-04,  3.9012978e-04,  9.3619434e-05,\n",
       "       -3.9204489e-03, -1.4308967e-03, -3.7809447e-03,  1.0707037e-03,\n",
       "       -4.9742975e-04,  2.8876972e-03,  4.4412605e-04, -7.8528770e-04,\n",
       "        1.2103088e-03,  7.7345240e-04, -2.1838218e-03, -1.4174153e-03,\n",
       "       -1.8811280e-04, -2.0129725e-03, -5.1440392e-04, -1.0306876e-03,\n",
       "       -7.7087933e-04, -2.0531195e-03,  5.5576456e-05,  1.0889552e-04,\n",
       "       -7.7192724e-04,  1.6093942e-03, -1.6503321e-03, -6.6798081e-04,\n",
       "       -2.5693860e-04,  1.3978366e-03,  2.2695160e-03,  6.5249368e-04,\n",
       "        7.6072308e-04,  1.1027729e-04,  2.8690184e-03, -1.7651344e-04,\n",
       "        4.7270179e-04, -7.5190008e-04, -5.6632856e-05,  1.5900008e-03,\n",
       "        3.0985757e-04,  1.1675988e-03, -3.6816316e-04,  2.7582303e-03,\n",
       "       -2.8000125e-03, -2.3906620e-03,  1.0783386e-03,  2.5761320e-04,\n",
       "        3.2583749e-04,  7.6120620e-04, -8.1713893e-04, -4.8912026e-04,\n",
       "        9.2194852e-05, -1.4093146e-03, -9.3380855e-05,  3.2795416e-03,\n",
       "        1.2533083e-03, -5.3931982e-03,  1.1736762e-03,  2.6270584e-03,\n",
       "       -3.1742893e-04, -2.0103585e-03,  3.3600593e-03,  7.0289086e-04,\n",
       "        8.9478272e-04,  1.0813361e-03,  1.4336534e-03, -3.0203647e-04,\n",
       "        2.3189488e-04, -2.6889227e-04,  4.9739942e-04,  1.2346579e-03,\n",
       "       -1.8532966e-03, -7.5381325e-04,  9.9257089e-04, -8.8479469e-04,\n",
       "       -1.4090143e-03,  9.1157231e-04, -5.1883864e-04,  1.0345544e-03,\n",
       "        2.3501692e-03,  1.1514714e-04,  7.0954167e-04,  6.9864473e-04],\n",
       "      dtype=float32)"
      ]
     },
     "execution_count": 56,
     "metadata": {},
     "output_type": "execute_result"
    }
   ],
   "source": [
    "fasttext_embedding_model.wv['movie']"
   ]
  },
  {
   "cell_type": "code",
   "execution_count": 57,
   "metadata": {
    "colab": {
     "base_uri": "https://localhost:8080/"
    },
    "execution": {
     "iopub.execute_input": "2024-08-26T06:47:49.812987Z",
     "iopub.status.busy": "2024-08-26T06:47:49.812715Z",
     "iopub.status.idle": "2024-08-26T06:47:57.258272Z",
     "shell.execute_reply": "2024-08-26T06:47:57.257519Z",
     "shell.execute_reply.started": "2024-08-26T06:47:49.812963Z"
    },
    "executionInfo": {
     "elapsed": 18798,
     "status": "ok",
     "timestamp": 1724388134220,
     "user": {
      "displayName": "Pavankumar Gurazada",
      "userId": "00731344791027474971"
     },
     "user_tz": -330
    },
    "id": "7fVK57Ue3OOy",
    "outputId": "4b96b292-5236-410b-eb66-9a16b86f9ee5",
    "tags": []
   },
   "outputs": [
    {
     "data": {
      "text/plain": [
       "(1622670, 2224450)"
      ]
     },
     "execution_count": 57,
     "metadata": {},
     "output_type": "execute_result"
    }
   ],
   "source": [
    "fasttext_embedding_model.train(\n",
    "    token_list,\n",
    "    total_examples=len(token_list),\n",
    "    epochs=10\n",
    ")"
   ]
  },
  {
   "cell_type": "code",
   "execution_count": 58,
   "metadata": {
    "colab": {
     "base_uri": "https://localhost:8080/"
    },
    "execution": {
     "iopub.execute_input": "2024-08-26T06:47:57.260244Z",
     "iopub.status.busy": "2024-08-26T06:47:57.259857Z",
     "iopub.status.idle": "2024-08-26T06:47:57.267068Z",
     "shell.execute_reply": "2024-08-26T06:47:57.266350Z",
     "shell.execute_reply.started": "2024-08-26T06:47:57.260206Z"
    },
    "executionInfo": {
     "elapsed": 650,
     "status": "ok",
     "timestamp": 1724388161626,
     "user": {
      "displayName": "Pavankumar Gurazada",
      "userId": "00731344791027474971"
     },
     "user_tz": -330
    },
    "id": "I6KAGSc53jCP",
    "outputId": "483cd5e1-dcdc-4e99-abc0-0f9303777831",
    "tags": []
   },
   "outputs": [
    {
     "data": {
      "text/plain": [
       "array([-0.16114035, -0.95156926, -0.7457381 , -0.8315766 ,  0.54539996,\n",
       "        1.3549557 , -1.3175948 ,  1.2528304 ,  0.47164682, -0.29831994,\n",
       "       -0.04387514, -0.17091595, -0.5957832 ,  0.57778573,  0.4328722 ,\n",
       "       -0.8017698 ,  0.4013737 , -0.01756684,  0.09072692,  0.21305455,\n",
       "       -2.187186  ,  0.04739381, -1.3425794 , -0.3009555 , -0.88352484,\n",
       "        0.42237437, -0.8154429 , -0.43167847,  0.03424749,  1.1421655 ,\n",
       "       -1.3037957 ,  0.4484121 ,  0.94690984, -1.3588773 ,  0.6363191 ,\n",
       "       -0.4551009 , -0.18963794,  0.0769052 , -0.35764897, -1.3182465 ,\n",
       "        0.8362455 , -0.23755231,  0.15295836, -1.0582484 , -0.24473082,\n",
       "       -0.47861072,  0.357893  ,  0.33108395,  0.5215883 , -0.7977008 ,\n",
       "        0.22756816, -0.42908654,  1.0090964 , -1.3472018 , -0.11049722,\n",
       "        0.13538812, -1.2211878 , -0.5007631 , -0.49351642,  0.86871296,\n",
       "       -1.4376833 , -0.84011525,  0.15924565,  2.3276076 , -0.1424584 ,\n",
       "        0.99113864, -0.41609526, -0.41242367,  0.08051474,  0.15069552,\n",
       "       -0.48956168,  1.8421266 ,  1.8894464 , -2.2939177 ,  0.8358261 ,\n",
       "        0.8716869 ,  0.24227731,  1.1600074 ,  1.0695487 ,  0.8933738 ,\n",
       "       -0.1808707 ,  0.4428887 , -0.45630988, -0.24064977,  0.092834  ,\n",
       "       -0.5920792 ,  1.311498  , -0.338099  , -0.43486828, -0.726602  ,\n",
       "        0.01307358, -0.17971759, -1.0168779 ,  1.0191919 , -0.52193266,\n",
       "        0.4446424 ,  0.40981284, -0.06609558, -0.27517372, -0.28275374],\n",
       "      dtype=float32)"
      ]
     },
     "execution_count": 58,
     "metadata": {},
     "output_type": "execute_result"
    }
   ],
   "source": [
    "fasttext_embedding_model.wv['movie']"
   ]
  },
  {
   "cell_type": "markdown",
   "metadata": {
    "id": "IW_zAIGi4zOu"
   },
   "source": [
    "Once trained, embeddings can be saved for later use."
   ]
  },
  {
   "cell_type": "markdown",
   "metadata": {
    "id": "-aHsGnsyrlmI"
   },
   "source": [
    "Since fasttext estimated subword embeddings, it handles out of vocabulary terms gracefully."
   ]
  },
  {
   "cell_type": "code",
   "execution_count": 59,
   "metadata": {
    "colab": {
     "base_uri": "https://localhost:8080/"
    },
    "execution": {
     "iopub.execute_input": "2024-08-26T06:48:11.548346Z",
     "iopub.status.busy": "2024-08-26T06:48:11.547720Z",
     "iopub.status.idle": "2024-08-26T06:48:11.568040Z",
     "shell.execute_reply": "2024-08-26T06:48:11.566804Z",
     "shell.execute_reply.started": "2024-08-26T06:48:11.548313Z"
    },
    "executionInfo": {
     "elapsed": 2,
     "status": "ok",
     "timestamp": 1724388163326,
     "user": {
      "displayName": "Pavankumar Gurazada",
      "userId": "00731344791027474971"
     },
     "user_tz": -330
    },
    "id": "bBQS8o6jreLf",
    "outputId": "5e6885be-bbb2-4597-8bd1-218e660e1155",
    "tags": []
   },
   "outputs": [
    {
     "data": {
      "text/plain": [
       "array([-0.07886052, -0.40223974, -0.39455172, -0.3367253 ,  0.24757527,\n",
       "        0.6348494 , -0.5940135 ,  0.59722155,  0.20305458, -0.1531894 ,\n",
       "        0.01556139, -0.12236705, -0.24686892,  0.3977632 ,  0.1765353 ,\n",
       "       -0.3432228 ,  0.1364422 ,  0.00480963, -0.04475847,  0.02031515,\n",
       "       -1.0294023 ,  0.07045389, -0.6559209 , -0.16050473, -0.4659105 ,\n",
       "        0.16108307, -0.41415533, -0.17275523,  0.03031386,  0.5506397 ,\n",
       "       -0.6539336 ,  0.2306454 ,  0.5263423 , -0.5679214 ,  0.3162367 ,\n",
       "       -0.13171227, -0.10915054,  0.08919402, -0.21941218, -0.6130936 ,\n",
       "        0.39149445, -0.14205915,  0.08456976, -0.48787153, -0.1489029 ,\n",
       "       -0.25359222,  0.10038821,  0.1094728 ,  0.23932025, -0.37153605,\n",
       "        0.14300579, -0.22334191,  0.4528351 , -0.6369413 , -0.06047469,\n",
       "        0.03221615, -0.5584811 , -0.21674564, -0.2522526 ,  0.35462192,\n",
       "       -0.6419878 , -0.39215153,  0.04517225,  1.1483965 , -0.076865  ,\n",
       "        0.5045383 , -0.19445205, -0.21037517,  0.06500327,  0.09328571,\n",
       "       -0.23218995,  0.8313185 ,  0.91116744, -1.0511676 ,  0.4619331 ,\n",
       "        0.37411764,  0.1146611 ,  0.6000372 ,  0.41892067,  0.3928089 ,\n",
       "       -0.11242656,  0.12452872, -0.25877663, -0.15227334,  0.00676747,\n",
       "       -0.27236775,  0.60494334, -0.11116771, -0.19198823, -0.3380847 ,\n",
       "       -0.06820864, -0.13217486, -0.43960708,  0.49074227, -0.25783867,\n",
       "        0.2289141 ,  0.14983433, -0.08763797, -0.08641532, -0.03009655],\n",
       "      dtype=float32)"
      ]
     },
     "execution_count": 59,
     "metadata": {},
     "output_type": "execute_result"
    }
   ],
   "source": [
    "fasttext_embedding_model.wv['movieeee']"
   ]
  },
  {
   "cell_type": "markdown",
   "metadata": {},
   "source": [
    "In this case the above embedding is a combination of embeddings of `movie` + `eee` that were learning during training. "
   ]
  },
  {
   "cell_type": "markdown",
   "metadata": {
    "id": "4w9evgEfBYCu"
   },
   "source": [
    "# Featurization - Sentence Embeddings"
   ]
  },
  {
   "cell_type": "markdown",
   "metadata": {},
   "source": [
    "So far we have dealt with word level embeddings and we need to, in some sense, average these word lebel embeddings to create one embedding for the entire document. There are two popular approaches to do so."
   ]
  },
  {
   "cell_type": "markdown",
   "metadata": {
    "id": "axICWq9sBr4E"
   },
   "source": [
    "**Averaging with Doc2Vec**"
   ]
  },
  {
   "cell_type": "markdown",
   "metadata": {},
   "source": [
    "In Doc2vec, we embed a unique numeric token for each of the documents and include this in every context window. This forces the model to learn the embeddings of this numeric token and this embedding acts as a proxy of the entire document. "
   ]
  },
  {
   "cell_type": "code",
   "execution_count": 60,
   "metadata": {
    "execution": {
     "iopub.execute_input": "2024-08-26T06:51:31.041669Z",
     "iopub.status.busy": "2024-08-26T06:51:31.040862Z",
     "iopub.status.idle": "2024-08-26T06:51:31.047834Z",
     "shell.execute_reply": "2024-08-26T06:51:31.046992Z",
     "shell.execute_reply.started": "2024-08-26T06:51:31.041633Z"
    },
    "executionInfo": {
     "elapsed": 720,
     "status": "ok",
     "timestamp": 1724388239302,
     "user": {
      "displayName": "Pavankumar Gurazada",
      "userId": "00731344791027474971"
     },
     "user_tz": -330
    },
    "id": "Iv9aju9Z5ZOv",
    "tags": []
   },
   "outputs": [],
   "source": [
    "training_corpus = [\n",
    "    gensim.models.doc2vec.TaggedDocument(tokens, [i]) for i, tokens in enumerate(token_list)\n",
    "]"
   ]
  },
  {
   "cell_type": "code",
   "execution_count": 61,
   "metadata": {
    "execution": {
     "iopub.execute_input": "2024-08-26T06:51:31.334042Z",
     "iopub.status.busy": "2024-08-26T06:51:31.333575Z",
     "iopub.status.idle": "2024-08-26T06:51:31.338969Z",
     "shell.execute_reply": "2024-08-26T06:51:31.338054Z",
     "shell.execute_reply.started": "2024-08-26T06:51:31.334011Z"
    },
    "executionInfo": {
     "elapsed": 6,
     "status": "ok",
     "timestamp": 1724388239957,
     "user": {
      "displayName": "Pavankumar Gurazada",
      "userId": "00731344791027474971"
     },
     "user_tz": -330
    },
    "id": "GcktoF7LBaZC",
    "tags": []
   },
   "outputs": [],
   "source": [
    "doc2vec_model = gensim.models.doc2vec.Doc2Vec(\n",
    "    vector_size=100,\n",
    "    min_count=2,\n",
    "    window=5,\n",
    "    epochs=40\n",
    ")"
   ]
  },
  {
   "cell_type": "code",
   "execution_count": 62,
   "metadata": {
    "execution": {
     "iopub.execute_input": "2024-08-26T06:51:31.520961Z",
     "iopub.status.busy": "2024-08-26T06:51:31.520457Z",
     "iopub.status.idle": "2024-08-26T06:51:31.692312Z",
     "shell.execute_reply": "2024-08-26T06:51:31.691462Z",
     "shell.execute_reply.started": "2024-08-26T06:51:31.520929Z"
    },
    "executionInfo": {
     "elapsed": 5,
     "status": "ok",
     "timestamp": 1724388239957,
     "user": {
      "displayName": "Pavankumar Gurazada",
      "userId": "00731344791027474971"
     },
     "user_tz": -330
    },
    "id": "x9WMtp-S5ABS",
    "tags": []
   },
   "outputs": [],
   "source": [
    "doc2vec_model.build_vocab(training_corpus)"
   ]
  },
  {
   "cell_type": "code",
   "execution_count": 63,
   "metadata": {
    "execution": {
     "iopub.execute_input": "2024-08-26T06:51:33.236667Z",
     "iopub.status.busy": "2024-08-26T06:51:33.236073Z",
     "iopub.status.idle": "2024-08-26T06:51:44.588417Z",
     "shell.execute_reply": "2024-08-26T06:51:44.587046Z",
     "shell.execute_reply.started": "2024-08-26T06:51:33.236636Z"
    },
    "executionInfo": {
     "elapsed": 18348,
     "status": "ok",
     "timestamp": 1724388258301,
     "user": {
      "displayName": "Pavankumar Gurazada",
      "userId": "00731344791027474971"
     },
     "user_tz": -330
    },
    "id": "-V9AzJ4H5qvZ",
    "tags": []
   },
   "outputs": [],
   "source": [
    "doc2vec_model.train(\n",
    "    training_corpus,\n",
    "    total_examples=doc2vec_model.corpus_count,\n",
    "    epochs=40\n",
    ")"
   ]
  },
  {
   "cell_type": "code",
   "execution_count": 64,
   "metadata": {
    "colab": {
     "base_uri": "https://localhost:8080/"
    },
    "execution": {
     "iopub.execute_input": "2024-08-26T06:51:44.592302Z",
     "iopub.status.busy": "2024-08-26T06:51:44.590338Z",
     "iopub.status.idle": "2024-08-26T06:51:44.610171Z",
     "shell.execute_reply": "2024-08-26T06:51:44.609316Z",
     "shell.execute_reply.started": "2024-08-26T06:51:44.592261Z"
    },
    "executionInfo": {
     "elapsed": 20,
     "status": "ok",
     "timestamp": 1724388258302,
     "user": {
      "displayName": "Pavankumar Gurazada",
      "userId": "00731344791027474971"
     },
     "user_tz": -330
    },
    "id": "vjfCZfaP6CNI",
    "outputId": "223942fd-28c8-4bea-b791-854240f82fc7",
    "tags": []
   },
   "outputs": [
    {
     "data": {
      "text/plain": [
       "array([-0.21112414, -0.06513611, -0.3626342 , -0.64367056, -0.38252443,\n",
       "       -1.6170716 ,  0.76572526, -0.7690212 , -0.20194165, -0.5579156 ,\n",
       "        0.7553618 ,  0.6329942 ,  0.9725573 ,  0.13136   , -1.2521995 ,\n",
       "       -0.05734616, -0.97415686,  0.34496447, -1.0967871 , -0.56553507,\n",
       "        1.1664346 ,  0.07741212,  0.5581083 ,  0.05729212, -0.23063582,\n",
       "       -0.4337293 , -0.4877543 ,  0.10684856, -0.6378038 , -0.7544049 ,\n",
       "       -0.25461018, -0.39006034, -0.9732623 , -0.9646251 , -0.43260533,\n",
       "       -0.6697715 ,  0.24604703, -1.9966949 , -1.0826685 ,  1.7210302 ,\n",
       "        0.69648075,  0.10882588,  0.43793675, -0.92315906,  1.6278666 ,\n",
       "       -0.35528263, -0.44083756, -0.6388778 , -0.35440093, -0.30504164,\n",
       "       -1.5262531 ,  0.56846434,  2.6389246 , -0.45662063, -0.3771771 ,\n",
       "        1.0689669 ,  0.17257085,  0.94010884, -1.4268129 , -0.06649916,\n",
       "        1.3044775 , -0.74715894,  0.65332156, -1.2308494 , -0.78719014,\n",
       "        0.3650172 , -0.96678776,  0.83456063, -0.81092143, -0.37248904,\n",
       "        0.06761441, -1.4490919 , -0.65101093,  0.20508447,  0.41910037,\n",
       "        0.9237093 ,  0.39106414, -0.22073066, -0.5333429 , -0.58403575,\n",
       "       -1.1193815 ,  0.24760619, -0.49502525, -0.14922565, -0.9924869 ,\n",
       "       -0.74304146, -0.8335597 ,  0.16676421, -1.2608876 ,  0.21000798,\n",
       "        0.570363  ,  0.9780512 ,  0.51972556,  0.184236  ,  1.339731  ,\n",
       "       -0.37395906, -0.13392974, -0.45254567, -0.8754694 , -0.3168931 ],\n",
       "      dtype=float32)"
      ]
     },
     "execution_count": 64,
     "metadata": {},
     "output_type": "execute_result"
    }
   ],
   "source": [
    "doc2vec_model.infer_vector(token_list[0])"
   ]
  },
  {
   "cell_type": "markdown",
   "metadata": {},
   "source": [
    "When we infer the vector of the document above, we are extracting the representation of the tag associated with each documeent. We can then collect all these representations for all the documents in the corpus like so:"
   ]
  },
  {
   "cell_type": "code",
   "execution_count": 65,
   "metadata": {
    "execution": {
     "iopub.execute_input": "2024-08-26T06:52:47.560434Z",
     "iopub.status.busy": "2024-08-26T06:52:47.560103Z",
     "iopub.status.idle": "2024-08-26T06:53:01.897791Z",
     "shell.execute_reply": "2024-08-26T06:53:01.896290Z",
     "shell.execute_reply.started": "2024-08-26T06:52:47.560409Z"
    },
    "executionInfo": {
     "elapsed": 16656,
     "status": "ok",
     "timestamp": 1724388276919,
     "user": {
      "displayName": "Pavankumar Gurazada",
      "userId": "00731344791027474971"
     },
     "user_tz": -330
    },
    "id": "oC1kIGnV6tJv",
    "tags": []
   },
   "outputs": [],
   "source": [
    "features = [doc2vec_model.infer_vector(tokens) for tokens in token_list]\n",
    "features = np.array(features)"
   ]
  },
  {
   "cell_type": "code",
   "execution_count": 66,
   "metadata": {
    "colab": {
     "base_uri": "https://localhost:8080/"
    },
    "execution": {
     "iopub.execute_input": "2024-08-26T06:53:01.902664Z",
     "iopub.status.busy": "2024-08-26T06:53:01.901642Z",
     "iopub.status.idle": "2024-08-26T06:53:01.911285Z",
     "shell.execute_reply": "2024-08-26T06:53:01.909281Z",
     "shell.execute_reply.started": "2024-08-26T06:53:01.902616Z"
    },
    "executionInfo": {
     "elapsed": 18,
     "status": "ok",
     "timestamp": 1724388276919,
     "user": {
      "displayName": "Pavankumar Gurazada",
      "userId": "00731344791027474971"
     },
     "user_tz": -330
    },
    "id": "viu8imkC7J0j",
    "outputId": "767e415b-a639-4e1d-d08b-f4fdedf4e4b6",
    "tags": []
   },
   "outputs": [
    {
     "data": {
      "text/plain": [
       "(1000, 100)"
      ]
     },
     "execution_count": 66,
     "metadata": {},
     "output_type": "execute_result"
    }
   ],
   "source": [
    "features.shape"
   ]
  },
  {
   "cell_type": "markdown",
   "metadata": {},
   "source": [
    "Here, we began with a corpus of 1000 documents and ended up with a feature matrix of shapre (1000, 100) where each document is embedded in a 100 dimensional space. These embeddings are learnt using the skipgram method. "
   ]
  },
  {
   "cell_type": "markdown",
   "metadata": {
    "id": "zpjMIpLYBtQH"
   },
   "source": [
    "**Embedding Layers**"
   ]
  },
  {
   "cell_type": "markdown",
   "metadata": {},
   "source": [
    "Instead of treating creation of word and document embeddings as a standalone task, it is also common to treat this as a part of model building and use an embedding layer to compute these embeddings while solving for a task (e.g. sentiment analysis)."
   ]
  },
  {
   "cell_type": "markdown",
   "metadata": {},
   "source": [
    "Let us look at how this could be done."
   ]
  },
  {
   "cell_type": "code",
   "execution_count": 69,
   "metadata": {
    "execution": {
     "iopub.execute_input": "2024-08-26T06:57:28.518060Z",
     "iopub.status.busy": "2024-08-26T06:57:28.516979Z",
     "iopub.status.idle": "2024-08-26T06:57:28.560830Z",
     "shell.execute_reply": "2024-08-26T06:57:28.559777Z",
     "shell.execute_reply.started": "2024-08-26T06:57:28.518024Z"
    },
    "executionInfo": {
     "elapsed": 5,
     "status": "ok",
     "timestamp": 1724389722688,
     "user": {
      "displayName": "Pavankumar Gurazada",
      "userId": "00731344791027474971"
     },
     "user_tz": -330
    },
    "id": "qWYzLJqu9Hk1",
    "tags": []
   },
   "outputs": [],
   "source": [
    "vectorizer = tf.keras.layers.TextVectorization(\n",
    "    max_tokens=20000,\n",
    "    output_sequence_length=200\n",
    ")"
   ]
  },
  {
   "cell_type": "markdown",
   "metadata": {},
   "source": [
    "In the above code snippet, we are creating a text vectorizer that can hold a maximum vocabulary of 20000 words and trims or pads input documents to a maximum sequence length of 200."
   ]
  },
  {
   "cell_type": "code",
   "execution_count": 70,
   "metadata": {
    "colab": {
     "base_uri": "https://localhost:8080/",
     "height": 147
    },
    "execution": {
     "iopub.execute_input": "2024-08-26T06:57:28.845495Z",
     "iopub.status.busy": "2024-08-26T06:57:28.844858Z",
     "iopub.status.idle": "2024-08-26T06:57:28.853652Z",
     "shell.execute_reply": "2024-08-26T06:57:28.852407Z",
     "shell.execute_reply.started": "2024-08-26T06:57:28.845448Z"
    },
    "executionInfo": {
     "elapsed": 5,
     "status": "ok",
     "timestamp": 1724389722689,
     "user": {
      "displayName": "Pavankumar Gurazada",
      "userId": "00731344791027474971"
     },
     "user_tz": -330
    },
    "id": "ThVnBH5GB8jE",
    "outputId": "518560f6-b4ca-4dc5-c57c-6ffdd93cebd9",
    "tags": []
   },
   "outputs": [
    {
     "data": {
      "text/plain": [
       "8086     not one of the good pokemon moviestwo legendar...\n",
       "24745    wrack with guilt after a lot of thing felt apa...\n",
       "Name: review, dtype: object"
      ]
     },
     "execution_count": 70,
     "metadata": {},
     "output_type": "execute_result"
    }
   ],
   "source": [
    "sample_cleaned_corpus.sample(2)"
   ]
  },
  {
   "cell_type": "markdown",
   "metadata": {},
   "source": [
    "At this point our cleaned corpus of 1000 reviews is a pandas series and needs to be morphed into a tensorflow dataset."
   ]
  },
  {
   "cell_type": "code",
   "execution_count": 71,
   "metadata": {
    "execution": {
     "iopub.execute_input": "2024-08-26T06:57:29.479812Z",
     "iopub.status.busy": "2024-08-26T06:57:29.479132Z",
     "iopub.status.idle": "2024-08-26T06:57:29.488075Z",
     "shell.execute_reply": "2024-08-26T06:57:29.487208Z",
     "shell.execute_reply.started": "2024-08-26T06:57:29.479780Z"
    },
    "executionInfo": {
     "elapsed": 6,
     "status": "ok",
     "timestamp": 1724389723134,
     "user": {
      "displayName": "Pavankumar Gurazada",
      "userId": "00731344791027474971"
     },
     "user_tz": -330
    },
    "id": "h1Yk_0ft9zed",
    "tags": []
   },
   "outputs": [],
   "source": [
    "text_ds = tf.data.Dataset.from_tensor_slices(sample_cleaned_corpus).batch(128)"
   ]
  },
  {
   "cell_type": "markdown",
   "metadata": {},
   "source": [
    "The above code creates a text dataset from the sample cleaned corpus, batching them into 128 sample minibatches."
   ]
  },
  {
   "cell_type": "code",
   "execution_count": 72,
   "metadata": {
    "execution": {
     "iopub.execute_input": "2024-08-26T06:57:30.368637Z",
     "iopub.status.busy": "2024-08-26T06:57:30.367899Z",
     "iopub.status.idle": "2024-08-26T06:57:30.533113Z",
     "shell.execute_reply": "2024-08-26T06:57:30.532305Z",
     "shell.execute_reply.started": "2024-08-26T06:57:30.368600Z"
    },
    "executionInfo": {
     "elapsed": 477,
     "status": "ok",
     "timestamp": 1724389723606,
     "user": {
      "displayName": "Pavankumar Gurazada",
      "userId": "00731344791027474971"
     },
     "user_tz": -330
    },
    "id": "mzquksLuBRXO",
    "tags": []
   },
   "outputs": [],
   "source": [
    "vectorizer.adapt(text_ds)"
   ]
  },
  {
   "cell_type": "markdown",
   "metadata": {},
   "source": [
    "By adapting the vectorizer, we build the vocabulary of the vectorizer accounting for unique words obtained after trimming documents to 200 words."
   ]
  },
  {
   "cell_type": "code",
   "execution_count": 73,
   "metadata": {
    "colab": {
     "base_uri": "https://localhost:8080/"
    },
    "execution": {
     "iopub.execute_input": "2024-08-26T06:58:32.851734Z",
     "iopub.status.busy": "2024-08-26T06:58:32.851015Z",
     "iopub.status.idle": "2024-08-26T06:58:32.893219Z",
     "shell.execute_reply": "2024-08-26T06:58:32.892322Z",
     "shell.execute_reply.started": "2024-08-26T06:58:32.851697Z"
    },
    "executionInfo": {
     "elapsed": 16,
     "status": "ok",
     "timestamp": 1724389723606,
     "user": {
      "displayName": "Pavankumar Gurazada",
      "userId": "00731344791027474971"
     },
     "user_tz": -330
    },
    "id": "7kc0FLfXBuZb",
    "outputId": "db48d598-039c-474e-81a3-6e6382671628",
    "tags": []
   },
   "outputs": [
    {
     "data": {
      "text/plain": [
       "['', '[UNK]', 'the', 'be', 'a']"
      ]
     },
     "execution_count": 73,
     "metadata": {},
     "output_type": "execute_result"
    }
   ],
   "source": [
    "vectorizer.get_vocabulary()[:5]"
   ]
  },
  {
   "cell_type": "markdown",
   "metadata": {},
   "source": [
    "By looking at the vocabulary above, we note that the padding token is '', while for words that might be in the test data we reserve a special token [UNK]."
   ]
  },
  {
   "cell_type": "code",
   "execution_count": 74,
   "metadata": {
    "colab": {
     "base_uri": "https://localhost:8080/"
    },
    "execution": {
     "iopub.execute_input": "2024-08-26T06:59:12.440341Z",
     "iopub.status.busy": "2024-08-26T06:59:12.439054Z",
     "iopub.status.idle": "2024-08-26T06:59:12.474785Z",
     "shell.execute_reply": "2024-08-26T06:59:12.474032Z",
     "shell.execute_reply.started": "2024-08-26T06:59:12.440300Z"
    },
    "executionInfo": {
     "elapsed": 13,
     "status": "ok",
     "timestamp": 1724389723606,
     "user": {
      "displayName": "Pavankumar Gurazada",
      "userId": "00731344791027474971"
     },
     "user_tz": -330
    },
    "id": "66dPU3PcGAAD",
    "outputId": "4615e427-936a-4ced-a21c-70d8257900cb",
    "tags": []
   },
   "outputs": [
    {
     "data": {
      "text/plain": [
       "17579"
      ]
     },
     "execution_count": 74,
     "metadata": {},
     "output_type": "execute_result"
    }
   ],
   "source": [
    "len(vectorizer.get_vocabulary())"
   ]
  },
  {
   "cell_type": "markdown",
   "metadata": {},
   "source": [
    "Let us trace one review sample through the text vectorizer to see what it does."
   ]
  },
  {
   "cell_type": "code",
   "execution_count": 78,
   "metadata": {
    "execution": {
     "iopub.execute_input": "2024-08-26T07:00:12.726956Z",
     "iopub.status.busy": "2024-08-26T07:00:12.726397Z",
     "iopub.status.idle": "2024-08-26T07:00:12.732679Z",
     "shell.execute_reply": "2024-08-26T07:00:12.731535Z",
     "shell.execute_reply.started": "2024-08-26T07:00:12.726922Z"
    },
    "tags": []
   },
   "outputs": [],
   "source": [
    "sentence_sample = [sample_cleaned_corpus[sample_cleaned_corpus.index[1]]]"
   ]
  },
  {
   "cell_type": "code",
   "execution_count": 79,
   "metadata": {
    "execution": {
     "iopub.execute_input": "2024-08-26T07:00:13.387558Z",
     "iopub.status.busy": "2024-08-26T07:00:13.386423Z",
     "iopub.status.idle": "2024-08-26T07:00:13.392417Z",
     "shell.execute_reply": "2024-08-26T07:00:13.391632Z",
     "shell.execute_reply.started": "2024-08-26T07:00:13.387523Z"
    },
    "tags": []
   },
   "outputs": [
    {
     "data": {
      "text/plain": [
       "['the thirty horror film that be best remember be always the like of dracula and frankenstein and theres a very good reason for that but there be a number of small but nevertheless excellent production and the invisible ray be certainly one of them the plot be not particularly original and similar plot have be see many time before even way back in but the way that everything be put together be certainly very imaginative and director lambert hillyer have create a very nifty little original horror film the plot focus on the good hearted dr janos rukh a man who have discover a way to recreate the history of the earth his discovery lead him to believe that there may be an unknown radioactive element somewhere in africa and so he set off along with a team of esteemed colleague to find it however tragedy strike while on the expedition and the good doctor end up become expose to the element which make him glow in the dark and also send him madthe big draw of the film be undoubtedly the fact that it star the two big horror star of it day boris karloff and bela lugosi and both give excellent performance karloff really show what a good actor he be and his character have plenty of meat for karloff to impress with bela lugosi have a role which be extremely different from what be use to see him in and it a great performance from him also it nice to see a bit of versatility from lugosi the film do get off to a rather slow start but thing soon start to pick up the second half of the film be the best and thats really when the film get excite and karloff get a chance to shine literally the film do not put it focus on big special effect and largely relies on the action of the central character to keep thing interest and it do work very well the film remain interest throughout and boil down to a very decent climax that wrap everything up nicely overall the invisible ray may not be one of the very best horror film of the thirty but it a very good one and come recommend']"
      ]
     },
     "execution_count": 79,
     "metadata": {},
     "output_type": "execute_result"
    }
   ],
   "source": [
    "sentence_sample"
   ]
  },
  {
   "cell_type": "markdown",
   "metadata": {},
   "source": [
    "This long review when passed through the text vectorizer morphs into a vetor of shape of (1, 200) that contais the unique numeric indices corresponding to the first 200 words in the review."
   ]
  },
  {
   "cell_type": "code",
   "execution_count": 80,
   "metadata": {
    "colab": {
     "base_uri": "https://localhost:8080/"
    },
    "execution": {
     "iopub.execute_input": "2024-08-26T07:00:13.744081Z",
     "iopub.status.busy": "2024-08-26T07:00:13.743573Z",
     "iopub.status.idle": "2024-08-26T07:00:13.776396Z",
     "shell.execute_reply": "2024-08-26T07:00:13.775498Z",
     "shell.execute_reply.started": "2024-08-26T07:00:13.744039Z"
    },
    "executionInfo": {
     "elapsed": 9,
     "status": "ok",
     "timestamp": 1724389723606,
     "user": {
      "displayName": "Pavankumar Gurazada",
      "userId": "00731344791027474971"
     },
     "user_tz": -330
    },
    "id": "v30pZy5PBs9O",
    "outputId": "ab9b5777-96af-442f-98e5-6c61044ceb89",
    "tags": []
   },
   "outputs": [
    {
     "data": {
      "text/plain": [
       "<tf.Tensor: shape=(1, 200), dtype=int64, numpy=\n",
       "array([[    2,  2641,   219,    15,    11,     3,   119,   315,     3,\n",
       "          188,     2,    30,     6,  3942,     5,  3883,     5,   365,\n",
       "            4,    49,    37,   209,    17,    11,    18,    44,     3,\n",
       "            4,   568,     6,   366,    18,  1996,   282,   338,     5,\n",
       "            2,  2789,  1149,     3,   399,    25,     6,   100,     2,\n",
       "          109,     3,    21,   851,   189,     5,   674,   109,    13,\n",
       "            3,    32,   113,    48,   168,    51,    91,   136,     9,\n",
       "           18,     2,    91,    11,   311,     3,   239,   259,     3,\n",
       "          399,    49,  2477,     5,   131,  6636, 13591,    13,   488,\n",
       "            4,    49,  6364,   123,   189,   219,    15,     2,   109,\n",
       "          647,    19,     2,    37,  3852,  1090,  6711,  4438,     4,\n",
       "          108,    33,    13,   739,     4,    91,     7, 10553,     2,\n",
       "          515,     6,     2,   551,    22,  2857,   206,    99,     7,\n",
       "          202,    11,    44,   190,     3,    28,  1354,  6119,   701,\n",
       "         1143,     9,  2315,     5,    36,    23,   196,   128,   301,\n",
       "           16,     4,   770,     6, 14792,  2547,     7,   107,     8,\n",
       "          204,   767,  1301,   132,    19,     2,  4996,     5,     2,\n",
       "           37,   832,    80,    63,   181,  2241,     7,     2,   701,\n",
       "           55,    31,    99,  2818,     9,     2,   600,     5,    82,\n",
       "          694,    99, 12402,   159,   702,     6,     2,    15,     3,\n",
       "         2623,     2,   165,    11,     8,   224,     2,   104,   159,\n",
       "          219,   224,     6,     8,   179,  5250,  1485,     5,  2579,\n",
       "         1482,     5]])>"
      ]
     },
     "execution_count": 80,
     "metadata": {},
     "output_type": "execute_result"
    }
   ],
   "source": [
    "vectorizer(sentence_sample)"
   ]
  },
  {
   "cell_type": "markdown",
   "metadata": {},
   "source": [
    "With this vector in place, we now need to learn an embedding for all the 200 words in the sample. We do that by using a special `Embedding` layer of dimension `len(vocabulary)` $\\times e$ where $e$ is the hyperparameter embedding dimension that can be estimated during training. "
   ]
  },
  {
   "cell_type": "code",
   "execution_count": 81,
   "metadata": {
    "execution": {
     "iopub.execute_input": "2024-08-26T07:04:04.619452Z",
     "iopub.status.busy": "2024-08-26T07:04:04.618965Z",
     "iopub.status.idle": "2024-08-26T07:04:04.658855Z",
     "shell.execute_reply": "2024-08-26T07:04:04.658058Z",
     "shell.execute_reply.started": "2024-08-26T07:04:04.619418Z"
    },
    "executionInfo": {
     "elapsed": 411,
     "status": "ok",
     "timestamp": 1724389791884,
     "user": {
      "displayName": "Pavankumar Gurazada",
      "userId": "00731344791027474971"
     },
     "user_tz": -330
    },
    "id": "NIJUXQhvF3NJ",
    "tags": []
   },
   "outputs": [],
   "source": [
    "embedding_layer = tf.keras.layers.Embedding(\n",
    "    len(vectorizer.get_vocabulary()),\n",
    "    100,\n",
    "    trainable=False\n",
    ")"
   ]
  },
  {
   "cell_type": "markdown",
   "metadata": {
    "id": "DOFN4L7-IgTL"
   },
   "source": [
    "Let us now construct a mini-model that embeds each word in the input in the embedding space, without pooling for a document (i.e., word2vec)."
   ]
  },
  {
   "cell_type": "code",
   "execution_count": 82,
   "metadata": {
    "execution": {
     "iopub.execute_input": "2024-08-26T07:04:35.540731Z",
     "iopub.status.busy": "2024-08-26T07:04:35.540050Z",
     "iopub.status.idle": "2024-08-26T07:04:35.574515Z",
     "shell.execute_reply": "2024-08-26T07:04:35.573770Z",
     "shell.execute_reply.started": "2024-08-26T07:04:35.540698Z"
    },
    "executionInfo": {
     "elapsed": 529,
     "status": "ok",
     "timestamp": 1724390025872,
     "user": {
      "displayName": "Pavankumar Gurazada",
      "userId": "00731344791027474971"
     },
     "user_tz": -330
    },
    "id": "R51629ZHHhjV",
    "tags": []
   },
   "outputs": [],
   "source": [
    "int_sequences_input = tf.keras.Input(shape=(None,), dtype=\"int32\")\n",
    "embedded_sequences = embedding_layer(int_sequences_input)\n",
    "model = tf.keras.Model(int_sequences_input, embedded_sequences)"
   ]
  },
  {
   "cell_type": "code",
   "execution_count": 83,
   "metadata": {
    "colab": {
     "base_uri": "https://localhost:8080/",
     "height": 193
    },
    "execution": {
     "iopub.execute_input": "2024-08-26T07:04:36.028735Z",
     "iopub.status.busy": "2024-08-26T07:04:36.028075Z",
     "iopub.status.idle": "2024-08-26T07:04:36.046964Z",
     "shell.execute_reply": "2024-08-26T07:04:36.045707Z",
     "shell.execute_reply.started": "2024-08-26T07:04:36.028699Z"
    },
    "executionInfo": {
     "elapsed": 7,
     "status": "ok",
     "timestamp": 1724390026382,
     "user": {
      "displayName": "Pavankumar Gurazada",
      "userId": "00731344791027474971"
     },
     "user_tz": -330
    },
    "id": "53B1XxRfHxsx",
    "outputId": "0803fd8e-e043-447f-ba41-51c85be2550e",
    "tags": []
   },
   "outputs": [
    {
     "name": "stdout",
     "output_type": "stream",
     "text": [
      "Model: \"model\"\n",
      "_________________________________________________________________\n",
      " Layer (type)                Output Shape              Param #   \n",
      "=================================================================\n",
      " input_1 (InputLayer)        [(None, None)]            0         \n",
      "                                                                 \n",
      " embedding (Embedding)       (None, None, 100)         1757900   \n",
      "                                                                 \n",
      "=================================================================\n",
      "Total params: 1757900 (6.71 MB)\n",
      "Trainable params: 0 (0.00 Byte)\n",
      "Non-trainable params: 1757900 (6.71 MB)\n",
      "_________________________________________________________________\n"
     ]
    }
   ],
   "source": [
    "model.summary()"
   ]
  },
  {
   "cell_type": "markdown",
   "metadata": {},
   "source": [
    "When we pass in the 1000 samples of reviews after text vectorization through this model, we get a 100 dimensional embedding that is attached to each of the 200 words in each sample. "
   ]
  },
  {
   "cell_type": "code",
   "execution_count": 84,
   "metadata": {
    "execution": {
     "iopub.execute_input": "2024-08-26T07:05:49.340776Z",
     "iopub.status.busy": "2024-08-26T07:05:49.340193Z",
     "iopub.status.idle": "2024-08-26T07:05:49.475482Z",
     "shell.execute_reply": "2024-08-26T07:05:49.474268Z",
     "shell.execute_reply.started": "2024-08-26T07:05:49.340739Z"
    },
    "executionInfo": {
     "elapsed": 633,
     "status": "ok",
     "timestamp": 1724390037765,
     "user": {
      "displayName": "Pavankumar Gurazada",
      "userId": "00731344791027474971"
     },
     "user_tz": -330
    },
    "id": "Roq0K-GeHyuc",
    "tags": []
   },
   "outputs": [],
   "source": [
    "x_train = vectorizer(np.array([[s] for s in sample_cleaned_corpus])).numpy()"
   ]
  },
  {
   "cell_type": "code",
   "execution_count": 85,
   "metadata": {
    "colab": {
     "base_uri": "https://localhost:8080/"
    },
    "execution": {
     "iopub.execute_input": "2024-08-26T07:05:49.911069Z",
     "iopub.status.busy": "2024-08-26T07:05:49.910245Z",
     "iopub.status.idle": "2024-08-26T07:05:49.916908Z",
     "shell.execute_reply": "2024-08-26T07:05:49.915903Z",
     "shell.execute_reply.started": "2024-08-26T07:05:49.911030Z"
    },
    "executionInfo": {
     "elapsed": 5,
     "status": "ok",
     "timestamp": 1724390037765,
     "user": {
      "displayName": "Pavankumar Gurazada",
      "userId": "00731344791027474971"
     },
     "user_tz": -330
    },
    "id": "xGm9W2WyH_Tz",
    "outputId": "16d8e9e0-0c9f-4aff-bef0-b319adedab52",
    "tags": []
   },
   "outputs": [
    {
     "data": {
      "text/plain": [
       "(1000, 200)"
      ]
     },
     "execution_count": 85,
     "metadata": {},
     "output_type": "execute_result"
    }
   ],
   "source": [
    "x_train.shape"
   ]
  },
  {
   "cell_type": "code",
   "execution_count": 86,
   "metadata": {
    "colab": {
     "base_uri": "https://localhost:8080/"
    },
    "execution": {
     "iopub.execute_input": "2024-08-26T07:05:51.405215Z",
     "iopub.status.busy": "2024-08-26T07:05:51.404439Z",
     "iopub.status.idle": "2024-08-26T07:05:51.663373Z",
     "shell.execute_reply": "2024-08-26T07:05:51.662615Z",
     "shell.execute_reply.started": "2024-08-26T07:05:51.405179Z"
    },
    "executionInfo": {
     "elapsed": 1090,
     "status": "ok",
     "timestamp": 1724390043017,
     "user": {
      "displayName": "Pavankumar Gurazada",
      "userId": "00731344791027474971"
     },
     "user_tz": -330
    },
    "id": "R8tOmmgDIAWQ",
    "outputId": "0ccdd645-2a90-48be-c4a1-2692a7cbdbdc",
    "tags": []
   },
   "outputs": [
    {
     "name": "stdout",
     "output_type": "stream",
     "text": [
      "32/32 [==============================] - 0s 2ms/step\n"
     ]
    }
   ],
   "source": [
    "predicted_embeddings = model.predict(x_train)"
   ]
  },
  {
   "cell_type": "code",
   "execution_count": 87,
   "metadata": {
    "colab": {
     "base_uri": "https://localhost:8080/"
    },
    "execution": {
     "iopub.execute_input": "2024-08-26T07:05:51.665245Z",
     "iopub.status.busy": "2024-08-26T07:05:51.664966Z",
     "iopub.status.idle": "2024-08-26T07:05:51.670207Z",
     "shell.execute_reply": "2024-08-26T07:05:51.669474Z",
     "shell.execute_reply.started": "2024-08-26T07:05:51.665220Z"
    },
    "executionInfo": {
     "elapsed": 4,
     "status": "ok",
     "timestamp": 1724390043017,
     "user": {
      "displayName": "Pavankumar Gurazada",
      "userId": "00731344791027474971"
     },
     "user_tz": -330
    },
    "id": "UrFf3q9tIIhr",
    "outputId": "806653af-543e-4fe6-d9dd-8d7420f1d000",
    "tags": []
   },
   "outputs": [
    {
     "data": {
      "text/plain": [
       "(1000, 200, 100)"
      ]
     },
     "execution_count": 87,
     "metadata": {},
     "output_type": "execute_result"
    }
   ],
   "source": [
    "predicted_embeddings.shape"
   ]
  },
  {
   "cell_type": "markdown",
   "metadata": {},
   "source": [
    "We could inspect the embeddings of the first word in the first review like so:"
   ]
  },
  {
   "cell_type": "code",
   "execution_count": 88,
   "metadata": {
    "colab": {
     "base_uri": "https://localhost:8080/"
    },
    "execution": {
     "iopub.execute_input": "2024-08-26T07:06:16.256412Z",
     "iopub.status.busy": "2024-08-26T07:06:16.255631Z",
     "iopub.status.idle": "2024-08-26T07:06:16.263183Z",
     "shell.execute_reply": "2024-08-26T07:06:16.262068Z",
     "shell.execute_reply.started": "2024-08-26T07:06:16.256379Z"
    },
    "executionInfo": {
     "elapsed": 13,
     "status": "ok",
     "timestamp": 1724390046253,
     "user": {
      "displayName": "Pavankumar Gurazada",
      "userId": "00731344791027474971"
     },
     "user_tz": -330
    },
    "id": "NW4KBbbCIUbM",
    "outputId": "19e1beda-622f-4a4b-f952-47d6ae2ab7f7",
    "tags": []
   },
   "outputs": [
    {
     "data": {
      "text/plain": [
       "array([-0.00440379,  0.04614526, -0.04746726,  0.01758952,  0.0127877 ,\n",
       "       -0.02360174,  0.01343897,  0.00978266, -0.04116191,  0.00746714,\n",
       "       -0.02895546, -0.04327306, -0.03405513,  0.0024495 ,  0.01998241,\n",
       "        0.01209426,  0.02477447,  0.03085104, -0.00327448, -0.0240087 ,\n",
       "        0.02922786, -0.04349458,  0.0095469 , -0.00534204,  0.00417603,\n",
       "       -0.02052238,  0.00756828,  0.02887528, -0.01506054,  0.01062034,\n",
       "        0.0352533 ,  0.04942112, -0.03700913,  0.01077507, -0.01526742,\n",
       "       -0.03583883, -0.03559043,  0.01229655, -0.03270098,  0.01370832,\n",
       "        0.03679209,  0.0089818 , -0.04025918, -0.04124198,  0.00080253,\n",
       "        0.03506054, -0.03321069, -0.04513252,  0.00902725,  0.02555815,\n",
       "        0.02260617, -0.03920756,  0.02858159,  0.01878244,  0.02025614,\n",
       "        0.0473139 ,  0.00579496,  0.0289931 , -0.03315724,  0.02768121,\n",
       "        0.04427562,  0.03540489,  0.02976232,  0.02561921,  0.03856688,\n",
       "        0.00382208,  0.00577865,  0.01209027, -0.03541367, -0.0083652 ,\n",
       "        0.03651594, -0.02268374, -0.01042359, -0.00051657, -0.03519488,\n",
       "       -0.00841903,  0.02091724,  0.02647506,  0.00216158, -0.00470717,\n",
       "       -0.02878125, -0.01162161, -0.04871977, -0.01048788, -0.03066561,\n",
       "       -0.04934489,  0.04755906,  0.00907876,  0.02829123, -0.00731496,\n",
       "       -0.00723207, -0.01202382,  0.01384744, -0.04397188,  0.0332741 ,\n",
       "        0.01847149, -0.0155723 , -0.02584933,  0.03867057,  0.01502251],\n",
       "      dtype=float32)"
      ]
     },
     "execution_count": 88,
     "metadata": {},
     "output_type": "execute_result"
    }
   ],
   "source": [
    "predicted_embeddings[0][0]"
   ]
  },
  {
   "cell_type": "markdown",
   "metadata": {
    "id": "5acjfMF8IrIN"
   },
   "source": [
    "To replicate an average doc2vec sort of a setup, we could introduce a pooling layer to the model that walks through the embedding dimension and averages the 200 numbers across the sample length dimension."
   ]
  },
  {
   "cell_type": "code",
   "execution_count": 89,
   "metadata": {
    "execution": {
     "iopub.execute_input": "2024-08-26T07:09:46.019682Z",
     "iopub.status.busy": "2024-08-26T07:09:46.019053Z",
     "iopub.status.idle": "2024-08-26T07:09:46.038629Z",
     "shell.execute_reply": "2024-08-26T07:09:46.037754Z",
     "shell.execute_reply.started": "2024-08-26T07:09:46.019646Z"
    },
    "executionInfo": {
     "elapsed": 507,
     "status": "ok",
     "timestamp": 1724390059556,
     "user": {
      "displayName": "Pavankumar Gurazada",
      "userId": "00731344791027474971"
     },
     "user_tz": -330
    },
    "id": "wIlByytfIrIW",
    "tags": []
   },
   "outputs": [],
   "source": [
    "int_sequences_input = tf.keras.Input(shape=(None,), dtype=\"int32\")\n",
    "embedded_sequences = embedding_layer(int_sequences_input)\n",
    "pooling_layer = tf.keras.layers.GlobalAveragePooling1D()\n",
    "pooled_embeddings = pooling_layer(embedded_sequences)\n",
    "model = tf.keras.Model(int_sequences_input, pooled_embeddings)"
   ]
  },
  {
   "cell_type": "code",
   "execution_count": 90,
   "metadata": {
    "colab": {
     "base_uri": "https://localhost:8080/",
     "height": 241
    },
    "execution": {
     "iopub.execute_input": "2024-08-26T07:09:46.237770Z",
     "iopub.status.busy": "2024-08-26T07:09:46.237116Z",
     "iopub.status.idle": "2024-08-26T07:09:46.255482Z",
     "shell.execute_reply": "2024-08-26T07:09:46.254671Z",
     "shell.execute_reply.started": "2024-08-26T07:09:46.237734Z"
    },
    "executionInfo": {
     "elapsed": 6,
     "status": "ok",
     "timestamp": 1724390060068,
     "user": {
      "displayName": "Pavankumar Gurazada",
      "userId": "00731344791027474971"
     },
     "user_tz": -330
    },
    "id": "edbfV-1zIrIX",
    "outputId": "3a7ede8b-4294-465d-d0bc-c00755f400d6",
    "tags": []
   },
   "outputs": [
    {
     "name": "stdout",
     "output_type": "stream",
     "text": [
      "Model: \"model_1\"\n",
      "_________________________________________________________________\n",
      " Layer (type)                Output Shape              Param #   \n",
      "=================================================================\n",
      " input_2 (InputLayer)        [(None, None)]            0         \n",
      "                                                                 \n",
      " embedding (Embedding)       (None, None, 100)         1757900   \n",
      "                                                                 \n",
      " global_average_pooling1d (  (None, 100)               0         \n",
      " GlobalAveragePooling1D)                                         \n",
      "                                                                 \n",
      "=================================================================\n",
      "Total params: 1757900 (6.71 MB)\n",
      "Trainable params: 0 (0.00 Byte)\n",
      "Non-trainable params: 1757900 (6.71 MB)\n",
      "_________________________________________________________________\n"
     ]
    }
   ],
   "source": [
    "model.summary()"
   ]
  },
  {
   "cell_type": "code",
   "execution_count": 91,
   "metadata": {
    "execution": {
     "iopub.execute_input": "2024-08-26T07:09:47.944288Z",
     "iopub.status.busy": "2024-08-26T07:09:47.943855Z",
     "iopub.status.idle": "2024-08-26T07:09:48.040552Z",
     "shell.execute_reply": "2024-08-26T07:09:48.039062Z",
     "shell.execute_reply.started": "2024-08-26T07:09:47.944259Z"
    },
    "executionInfo": {
     "elapsed": 489,
     "status": "ok",
     "timestamp": 1724390062724,
     "user": {
      "displayName": "Pavankumar Gurazada",
      "userId": "00731344791027474971"
     },
     "user_tz": -330
    },
    "id": "aNUOnSJcIrIX",
    "tags": []
   },
   "outputs": [],
   "source": [
    "x_train = vectorizer(np.array([[s] for s in sample_cleaned_corpus])).numpy()"
   ]
  },
  {
   "cell_type": "code",
   "execution_count": 92,
   "metadata": {
    "colab": {
     "base_uri": "https://localhost:8080/"
    },
    "execution": {
     "iopub.execute_input": "2024-08-26T07:09:48.149937Z",
     "iopub.status.busy": "2024-08-26T07:09:48.149492Z",
     "iopub.status.idle": "2024-08-26T07:09:48.156127Z",
     "shell.execute_reply": "2024-08-26T07:09:48.155149Z",
     "shell.execute_reply.started": "2024-08-26T07:09:48.149908Z"
    },
    "executionInfo": {
     "elapsed": 7,
     "status": "ok",
     "timestamp": 1724390064338,
     "user": {
      "displayName": "Pavankumar Gurazada",
      "userId": "00731344791027474971"
     },
     "user_tz": -330
    },
    "id": "3_xMQ1hIIrIX",
    "outputId": "bd474e09-df4f-44eb-a949-137cde052dfa",
    "tags": []
   },
   "outputs": [
    {
     "data": {
      "text/plain": [
       "(1000, 200)"
      ]
     },
     "execution_count": 92,
     "metadata": {},
     "output_type": "execute_result"
    }
   ],
   "source": [
    "x_train.shape"
   ]
  },
  {
   "cell_type": "code",
   "execution_count": 93,
   "metadata": {
    "colab": {
     "base_uri": "https://localhost:8080/"
    },
    "execution": {
     "iopub.execute_input": "2024-08-26T07:09:48.313586Z",
     "iopub.status.busy": "2024-08-26T07:09:48.312623Z",
     "iopub.status.idle": "2024-08-26T07:09:48.525849Z",
     "shell.execute_reply": "2024-08-26T07:09:48.525051Z",
     "shell.execute_reply.started": "2024-08-26T07:09:48.313549Z"
    },
    "executionInfo": {
     "elapsed": 631,
     "status": "ok",
     "timestamp": 1724390064965,
     "user": {
      "displayName": "Pavankumar Gurazada",
      "userId": "00731344791027474971"
     },
     "user_tz": -330
    },
    "id": "VYBJglYmIrIY",
    "outputId": "e6f845b8-74bd-495c-fbc1-abce7923cf2f",
    "tags": []
   },
   "outputs": [
    {
     "name": "stdout",
     "output_type": "stream",
     "text": [
      "32/32 [==============================] - 0s 2ms/step\n"
     ]
    }
   ],
   "source": [
    "predicted_embeddings = model.predict(x_train)"
   ]
  },
  {
   "cell_type": "code",
   "execution_count": 94,
   "metadata": {
    "colab": {
     "base_uri": "https://localhost:8080/"
    },
    "execution": {
     "iopub.execute_input": "2024-08-26T07:09:49.621614Z",
     "iopub.status.busy": "2024-08-26T07:09:49.621200Z",
     "iopub.status.idle": "2024-08-26T07:09:49.628450Z",
     "shell.execute_reply": "2024-08-26T07:09:49.627363Z",
     "shell.execute_reply.started": "2024-08-26T07:09:49.621583Z"
    },
    "executionInfo": {
     "elapsed": 654,
     "status": "ok",
     "timestamp": 1724390067673,
     "user": {
      "displayName": "Pavankumar Gurazada",
      "userId": "00731344791027474971"
     },
     "user_tz": -330
    },
    "id": "S2998jGoIrIY",
    "outputId": "f6cc2d24-6b0b-4d54-c30b-5977a9b92481",
    "tags": []
   },
   "outputs": [
    {
     "data": {
      "text/plain": [
       "(1000, 100)"
      ]
     },
     "execution_count": 94,
     "metadata": {},
     "output_type": "execute_result"
    }
   ],
   "source": [
    "predicted_embeddings.shape"
   ]
  },
  {
   "cell_type": "markdown",
   "metadata": {},
   "source": [
    "We can now look at the embeddings of the first document like so:"
   ]
  },
  {
   "cell_type": "code",
   "execution_count": 95,
   "metadata": {
    "colab": {
     "base_uri": "https://localhost:8080/"
    },
    "execution": {
     "iopub.execute_input": "2024-08-26T07:10:03.725379Z",
     "iopub.status.busy": "2024-08-26T07:10:03.724396Z",
     "iopub.status.idle": "2024-08-26T07:10:03.732001Z",
     "shell.execute_reply": "2024-08-26T07:10:03.731169Z",
     "shell.execute_reply.started": "2024-08-26T07:10:03.725342Z"
    },
    "executionInfo": {
     "elapsed": 5,
     "status": "ok",
     "timestamp": 1724390067673,
     "user": {
      "displayName": "Pavankumar Gurazada",
      "userId": "00731344791027474971"
     },
     "user_tz": -330
    },
    "id": "KaM1mXVwIrIY",
    "outputId": "525a97a7-be1f-487b-be43-35d3fc1dd8ad",
    "tags": []
   },
   "outputs": [
    {
     "data": {
      "text/plain": [
       "array([ 9.2279091e-03,  6.0721384e-03,  3.5226110e-03,  9.3726935e-03,\n",
       "        9.5275389e-03,  8.4165009e-03,  5.1179850e-03,  1.5624169e-03,\n",
       "        5.5128148e-06, -4.0150364e-03,  1.8073943e-03, -7.7713011e-03,\n",
       "       -1.4994448e-03, -4.5465156e-03, -4.7068386e-03, -6.8372739e-03,\n",
       "        6.2073786e-03,  3.2005478e-03, -1.1257784e-03,  1.9389570e-03,\n",
       "        7.7485521e-03,  3.0430811e-03,  3.2255118e-04, -2.6500626e-03,\n",
       "        1.4443343e-03, -1.2889478e-03,  3.5950560e-03, -4.0712296e-03,\n",
       "        1.8331192e-03,  5.5864360e-03,  9.0644285e-03, -3.8655442e-03,\n",
       "        1.1172192e-02, -2.0832194e-03,  1.5425166e-03,  1.6280552e-03,\n",
       "       -2.4033331e-03,  3.4822867e-04, -8.9801280e-03, -3.3912822e-04,\n",
       "        8.3312094e-03,  8.1064086e-03,  1.2248515e-02, -4.3050791e-03,\n",
       "        1.0151423e-03,  1.7270687e-03, -5.9510348e-03,  1.4370168e-03,\n",
       "       -3.6782927e-03, -1.9671663e-03,  9.7583717e-04, -1.4498677e-03,\n",
       "       -2.8268832e-03,  3.1522489e-03,  5.8491142e-03,  3.7998646e-03,\n",
       "        2.2212203e-04, -1.1470474e-03, -1.2760464e-03, -2.9657381e-03,\n",
       "        7.6981126e-03,  3.5718023e-03,  6.0117856e-04,  2.7003763e-03,\n",
       "        1.0728588e-02,  3.5053159e-03, -6.6064061e-03,  2.8344679e-03,\n",
       "       -2.4689437e-04, -2.7818116e-04,  4.1064941e-03, -6.3614417e-03,\n",
       "        6.4080465e-03,  3.6088577e-03,  6.8846461e-04, -8.8680979e-05,\n",
       "       -9.3494682e-03,  4.9738507e-03,  1.5240810e-03, -3.9598737e-03,\n",
       "       -9.7140967e-04, -7.6051103e-04,  1.9042715e-04,  1.8160578e-03,\n",
       "        1.4578587e-03,  4.4974121e-03,  5.2089582e-04,  2.4198520e-03,\n",
       "       -2.7817050e-03,  3.8861313e-03, -4.8422539e-03,  6.3382124e-04,\n",
       "        2.5752762e-03, -2.5311317e-03, -3.7930871e-03, -2.7795252e-03,\n",
       "       -6.3255196e-04, -1.3966112e-03, -7.4632447e-03, -3.1102914e-03],\n",
       "      dtype=float32)"
      ]
     },
     "execution_count": 95,
     "metadata": {},
     "output_type": "execute_result"
    }
   ],
   "source": [
    "predicted_embeddings[0]"
   ]
  },
  {
   "cell_type": "markdown",
   "metadata": {
    "id": "J1muIgtAJv9o"
   },
   "source": [
    "# Case Study: Training for Embeddings"
   ]
  },
  {
   "cell_type": "markdown",
   "metadata": {},
   "source": [
    "Now that we have seen how to create models for embeddings, let us see how we can train such models. In this case study, we take the movie review corpus and learn the word embeddings for each word in each sample, by training a sentiment classifer that operates on top of the embedding model.  "
   ]
  },
  {
   "cell_type": "code",
   "execution_count": 96,
   "metadata": {
    "execution": {
     "iopub.execute_input": "2024-08-26T07:11:56.638485Z",
     "iopub.status.busy": "2024-08-26T07:11:56.637876Z",
     "iopub.status.idle": "2024-08-26T07:11:56.648556Z",
     "shell.execute_reply": "2024-08-26T07:11:56.647418Z",
     "shell.execute_reply.started": "2024-08-26T07:11:56.638448Z"
    },
    "executionInfo": {
     "elapsed": 1113,
     "status": "ok",
     "timestamp": 1724390152365,
     "user": {
      "displayName": "Pavankumar Gurazada",
      "userId": "00731344791027474971"
     },
     "user_tz": -330
    },
    "id": "en3kFFabL7DS",
    "tags": []
   },
   "outputs": [],
   "source": [
    "tf.keras.backend.clear_session()"
   ]
  },
  {
   "cell_type": "code",
   "execution_count": 97,
   "metadata": {
    "execution": {
     "iopub.execute_input": "2024-08-26T07:11:56.847415Z",
     "iopub.status.busy": "2024-08-26T07:11:56.846775Z",
     "iopub.status.idle": "2024-08-26T07:11:56.852537Z",
     "shell.execute_reply": "2024-08-26T07:11:56.850954Z",
     "shell.execute_reply.started": "2024-08-26T07:11:56.847377Z"
    },
    "executionInfo": {
     "elapsed": 503,
     "status": "ok",
     "timestamp": 1724390176320,
     "user": {
      "displayName": "Pavankumar Gurazada",
      "userId": "00731344791027474971"
     },
     "user_tz": -330
    },
    "id": "4YVW1B4SJ4iS",
    "tags": []
   },
   "outputs": [],
   "source": [
    "dataset_path = 'labeled_sentiments_data.tsv'"
   ]
  },
  {
   "cell_type": "code",
   "execution_count": 98,
   "metadata": {
    "execution": {
     "iopub.execute_input": "2024-08-26T07:11:57.056176Z",
     "iopub.status.busy": "2024-08-26T07:11:57.055269Z",
     "iopub.status.idle": "2024-08-26T07:11:57.526831Z",
     "shell.execute_reply": "2024-08-26T07:11:57.526124Z",
     "shell.execute_reply.started": "2024-08-26T07:11:57.056143Z"
    },
    "executionInfo": {
     "elapsed": 898,
     "status": "ok",
     "timestamp": 1724390177646,
     "user": {
      "displayName": "Pavankumar Gurazada",
      "userId": "00731344791027474971"
     },
     "user_tz": -330
    },
    "id": "DKvyIXk6J4ib",
    "tags": []
   },
   "outputs": [],
   "source": [
    "dataset = pd.read_csv(dataset_path, sep='\\t')"
   ]
  },
  {
   "cell_type": "markdown",
   "metadata": {},
   "source": [
    "To keep training times low, we use 1000 samples of the dataset."
   ]
  },
  {
   "cell_type": "code",
   "execution_count": 101,
   "metadata": {
    "execution": {
     "iopub.execute_input": "2024-08-26T07:12:14.894022Z",
     "iopub.status.busy": "2024-08-26T07:12:14.893552Z",
     "iopub.status.idle": "2024-08-26T07:12:14.900549Z",
     "shell.execute_reply": "2024-08-26T07:12:14.899497Z",
     "shell.execute_reply.started": "2024-08-26T07:12:14.893971Z"
    },
    "executionInfo": {
     "elapsed": 5,
     "status": "ok",
     "timestamp": 1724390179198,
     "user": {
      "displayName": "Pavankumar Gurazada",
      "userId": "00731344791027474971"
     },
     "user_tz": -330
    },
    "id": "z48BjBIBJybR",
    "tags": []
   },
   "outputs": [],
   "source": [
    "sample_dataset = dataset.sample(1000)"
   ]
  },
  {
   "cell_type": "code",
   "execution_count": 102,
   "metadata": {
    "execution": {
     "iopub.execute_input": "2024-08-26T07:12:15.066043Z",
     "iopub.status.busy": "2024-08-26T07:12:15.065376Z",
     "iopub.status.idle": "2024-08-26T07:12:15.079051Z",
     "shell.execute_reply": "2024-08-26T07:12:15.078157Z",
     "shell.execute_reply.started": "2024-08-26T07:12:15.066005Z"
    },
    "tags": []
   },
   "outputs": [
    {
     "data": {
      "text/html": [
       "<div>\n",
       "<style scoped>\n",
       "    .dataframe tbody tr th:only-of-type {\n",
       "        vertical-align: middle;\n",
       "    }\n",
       "\n",
       "    .dataframe tbody tr th {\n",
       "        vertical-align: top;\n",
       "    }\n",
       "\n",
       "    .dataframe thead th {\n",
       "        text-align: right;\n",
       "    }\n",
       "</style>\n",
       "<table border=\"1\" class=\"dataframe\">\n",
       "  <thead>\n",
       "    <tr style=\"text-align: right;\">\n",
       "      <th></th>\n",
       "      <th>id</th>\n",
       "      <th>sentiment</th>\n",
       "      <th>review</th>\n",
       "    </tr>\n",
       "  </thead>\n",
       "  <tbody>\n",
       "    <tr>\n",
       "      <th>23882</th>\n",
       "      <td>4993_10</td>\n",
       "      <td>1</td>\n",
       "      <td>Unfortunately, this film has long been unavail...</td>\n",
       "    </tr>\n",
       "    <tr>\n",
       "      <th>11963</th>\n",
       "      <td>2227_1</td>\n",
       "      <td>0</td>\n",
       "      <td>Every once in a while , someone out of the blu...</td>\n",
       "    </tr>\n",
       "    <tr>\n",
       "      <th>10343</th>\n",
       "      <td>10257_1</td>\n",
       "      <td>0</td>\n",
       "      <td>This film had a great cast going for it: Chris...</td>\n",
       "    </tr>\n",
       "    <tr>\n",
       "      <th>494</th>\n",
       "      <td>9907_4</td>\n",
       "      <td>0</td>\n",
       "      <td>DVD has become the equivalent of the old late ...</td>\n",
       "    </tr>\n",
       "    <tr>\n",
       "      <th>3172</th>\n",
       "      <td>11887_8</td>\n",
       "      <td>1</td>\n",
       "      <td>It is projected that between 2000 and 2020, 68...</td>\n",
       "    </tr>\n",
       "  </tbody>\n",
       "</table>\n",
       "</div>"
      ],
      "text/plain": [
       "            id  sentiment                                             review\n",
       "23882  4993_10          1  Unfortunately, this film has long been unavail...\n",
       "11963   2227_1          0  Every once in a while , someone out of the blu...\n",
       "10343  10257_1          0  This film had a great cast going for it: Chris...\n",
       "494     9907_4          0  DVD has become the equivalent of the old late ...\n",
       "3172   11887_8          1  It is projected that between 2000 and 2020, 68..."
      ]
     },
     "execution_count": 102,
     "metadata": {},
     "output_type": "execute_result"
    }
   ],
   "source": [
    "sample_dataset.head(5)"
   ]
  },
  {
   "cell_type": "markdown",
   "metadata": {},
   "source": [
    "We isolate the features and the target like so:"
   ]
  },
  {
   "cell_type": "code",
   "execution_count": 105,
   "metadata": {
    "execution": {
     "iopub.execute_input": "2024-08-26T07:12:33.649568Z",
     "iopub.status.busy": "2024-08-26T07:12:33.648679Z",
     "iopub.status.idle": "2024-08-26T07:12:33.653220Z",
     "shell.execute_reply": "2024-08-26T07:12:33.652366Z",
     "shell.execute_reply.started": "2024-08-26T07:12:33.649533Z"
    },
    "executionInfo": {
     "elapsed": 7,
     "status": "ok",
     "timestamp": 1724390179640,
     "user": {
      "displayName": "Pavankumar Gurazada",
      "userId": "00731344791027474971"
     },
     "user_tz": -330
    },
    "id": "FwQKpYq0KASI",
    "tags": []
   },
   "outputs": [],
   "source": [
    "reviews = sample_dataset.review\n",
    "targets = sample_dataset.sentiment"
   ]
  },
  {
   "cell_type": "markdown",
   "metadata": {},
   "source": [
    "These input reviews are passed first through a vectorizer and then through the embedding layer to collect the embeddings of each word in each review.  "
   ]
  },
  {
   "cell_type": "code",
   "execution_count": 108,
   "metadata": {
    "execution": {
     "iopub.execute_input": "2024-08-26T07:13:18.961242Z",
     "iopub.status.busy": "2024-08-26T07:13:18.959954Z",
     "iopub.status.idle": "2024-08-26T07:13:18.978799Z",
     "shell.execute_reply": "2024-08-26T07:13:18.977451Z",
     "shell.execute_reply.started": "2024-08-26T07:13:18.961200Z"
    },
    "executionInfo": {
     "elapsed": 6,
     "status": "ok",
     "timestamp": 1724390179640,
     "user": {
      "displayName": "Pavankumar Gurazada",
      "userId": "00731344791027474971"
     },
     "user_tz": -330
    },
    "id": "HqtKCgRMKYlZ",
    "tags": []
   },
   "outputs": [],
   "source": [
    "vectorizer = tf.keras.layers.TextVectorization(\n",
    "    max_tokens=20000,\n",
    "    output_sequence_length=200\n",
    ")"
   ]
  },
  {
   "cell_type": "code",
   "execution_count": 109,
   "metadata": {
    "execution": {
     "iopub.execute_input": "2024-08-26T07:13:19.253571Z",
     "iopub.status.busy": "2024-08-26T07:13:19.252776Z",
     "iopub.status.idle": "2024-08-26T07:13:19.267840Z",
     "shell.execute_reply": "2024-08-26T07:13:19.266868Z",
     "shell.execute_reply.started": "2024-08-26T07:13:19.253534Z"
    },
    "executionInfo": {
     "elapsed": 6,
     "status": "ok",
     "timestamp": 1724390179641,
     "user": {
      "displayName": "Pavankumar Gurazada",
      "userId": "00731344791027474971"
     },
     "user_tz": -330
    },
    "id": "t5UOkcaaKsAb",
    "tags": []
   },
   "outputs": [],
   "source": [
    "text_ds = tf.data.Dataset.from_tensor_slices(reviews).batch(128)"
   ]
  },
  {
   "cell_type": "code",
   "execution_count": 110,
   "metadata": {
    "execution": {
     "iopub.execute_input": "2024-08-26T07:13:20.048209Z",
     "iopub.status.busy": "2024-08-26T07:13:20.047170Z",
     "iopub.status.idle": "2024-08-26T07:13:20.225974Z",
     "shell.execute_reply": "2024-08-26T07:13:20.225225Z",
     "shell.execute_reply.started": "2024-08-26T07:13:20.048172Z"
    },
    "executionInfo": {
     "elapsed": 657,
     "status": "ok",
     "timestamp": 1724390181772,
     "user": {
      "displayName": "Pavankumar Gurazada",
      "userId": "00731344791027474971"
     },
     "user_tz": -330
    },
    "id": "lYoIp4oYKu3S",
    "tags": []
   },
   "outputs": [],
   "source": [
    "vectorizer.adapt(text_ds)"
   ]
  },
  {
   "cell_type": "code",
   "execution_count": 111,
   "metadata": {
    "execution": {
     "iopub.execute_input": "2024-08-26T07:13:20.228922Z",
     "iopub.status.busy": "2024-08-26T07:13:20.228348Z",
     "iopub.status.idle": "2024-08-26T07:13:20.278497Z",
     "shell.execute_reply": "2024-08-26T07:13:20.277410Z",
     "shell.execute_reply.started": "2024-08-26T07:13:20.228882Z"
    },
    "tags": []
   },
   "outputs": [
    {
     "data": {
      "text/plain": [
       "['', '[UNK]', 'the', 'and', 'a', 'of', 'to', 'is', 'in', 'it']"
      ]
     },
     "execution_count": 111,
     "metadata": {},
     "output_type": "execute_result"
    }
   ],
   "source": [
    "vectorizer.get_vocabulary()[0:10]"
   ]
  },
  {
   "cell_type": "code",
   "execution_count": 112,
   "metadata": {
    "execution": {
     "iopub.execute_input": "2024-08-26T07:13:20.279831Z",
     "iopub.status.busy": "2024-08-26T07:13:20.279530Z",
     "iopub.status.idle": "2024-08-26T07:13:20.784224Z",
     "shell.execute_reply": "2024-08-26T07:13:20.782786Z",
     "shell.execute_reply.started": "2024-08-26T07:13:20.279799Z"
    },
    "executionInfo": {
     "elapsed": 523,
     "status": "ok",
     "timestamp": 1724390182287,
     "user": {
      "displayName": "Pavankumar Gurazada",
      "userId": "00731344791027474971"
     },
     "user_tz": -330
    },
    "id": "mOtrbhLmKIvu",
    "tags": []
   },
   "outputs": [],
   "source": [
    "x_train = vectorizer(np.array([[s] for s in reviews])).numpy()\n",
    "y_train = np.array(targets)"
   ]
  },
  {
   "cell_type": "code",
   "execution_count": 113,
   "metadata": {
    "execution": {
     "iopub.execute_input": "2024-08-26T07:13:20.786468Z",
     "iopub.status.busy": "2024-08-26T07:13:20.786171Z",
     "iopub.status.idle": "2024-08-26T07:13:20.793316Z",
     "shell.execute_reply": "2024-08-26T07:13:20.792602Z",
     "shell.execute_reply.started": "2024-08-26T07:13:20.786441Z"
    },
    "tags": []
   },
   "outputs": [
    {
     "data": {
      "text/plain": [
       "(1000, 200)"
      ]
     },
     "execution_count": 113,
     "metadata": {},
     "output_type": "execute_result"
    }
   ],
   "source": [
    "x_train.shape"
   ]
  },
  {
   "cell_type": "code",
   "execution_count": 114,
   "metadata": {
    "execution": {
     "iopub.execute_input": "2024-08-26T07:13:20.795208Z",
     "iopub.status.busy": "2024-08-26T07:13:20.794833Z",
     "iopub.status.idle": "2024-08-26T07:13:20.853407Z",
     "shell.execute_reply": "2024-08-26T07:13:20.851742Z",
     "shell.execute_reply.started": "2024-08-26T07:13:20.795169Z"
    },
    "executionInfo": {
     "elapsed": 5,
     "status": "ok",
     "timestamp": 1724390182287,
     "user": {
      "displayName": "Pavankumar Gurazada",
      "userId": "00731344791027474971"
     },
     "user_tz": -330
    },
    "id": "m1XmHewGKSlQ",
    "tags": []
   },
   "outputs": [],
   "source": [
    "embedding_layer = tf.keras.layers.Embedding(\n",
    "    len(vectorizer.get_vocabulary()),\n",
    "    100,\n",
    "    trainable=True\n",
    ")"
   ]
  },
  {
   "cell_type": "markdown",
   "metadata": {},
   "source": [
    "We now create a sentiment model by pooling the embeddings to the embedding features dimension as before and latching on a Dense layer that brings these 100 dimensions down to 2 since we want to classify for positive or negative sentiment. "
   ]
  },
  {
   "cell_type": "code",
   "execution_count": 134,
   "metadata": {
    "execution": {
     "iopub.execute_input": "2024-08-26T07:18:39.775735Z",
     "iopub.status.busy": "2024-08-26T07:18:39.775095Z",
     "iopub.status.idle": "2024-08-26T07:18:39.806269Z",
     "shell.execute_reply": "2024-08-26T07:18:39.805219Z",
     "shell.execute_reply.started": "2024-08-26T07:18:39.775703Z"
    },
    "executionInfo": {
     "elapsed": 653,
     "status": "ok",
     "timestamp": 1724390186786,
     "user": {
      "displayName": "Pavankumar Gurazada",
      "userId": "00731344791027474971"
     },
     "user_tz": -330
    },
    "id": "J222xqRhK-oo",
    "tags": []
   },
   "outputs": [],
   "source": [
    "int_sequences_input = tf.keras.Input(shape=(None,), dtype=\"int32\")\n",
    "embedded_sequences = embedding_layer(int_sequences_input)\n",
    "pooling_layer = tf.keras.layers.GlobalAveragePooling1D()\n",
    "pooled_embeddings = pooling_layer(embedded_sequences)\n",
    "preds = tf.keras.layers.Dense(1, activation=\"sigmoid\")(pooled_embeddings)\n",
    "model = tf.keras.Model(int_sequences_input, preds)"
   ]
  },
  {
   "cell_type": "code",
   "execution_count": 135,
   "metadata": {
    "colab": {
     "base_uri": "https://localhost:8080/",
     "height": 273
    },
    "execution": {
     "iopub.execute_input": "2024-08-26T07:18:39.974136Z",
     "iopub.status.busy": "2024-08-26T07:18:39.973416Z",
     "iopub.status.idle": "2024-08-26T07:18:39.990088Z",
     "shell.execute_reply": "2024-08-26T07:18:39.989188Z",
     "shell.execute_reply.started": "2024-08-26T07:18:39.974099Z"
    },
    "executionInfo": {
     "elapsed": 642,
     "status": "ok",
     "timestamp": 1724390188100,
     "user": {
      "displayName": "Pavankumar Gurazada",
      "userId": "00731344791027474971"
     },
     "user_tz": -330
    },
    "id": "6PHjU1fwLNJC",
    "outputId": "9d307b92-3fc0-4665-f28c-a6a317370179",
    "tags": []
   },
   "outputs": [
    {
     "name": "stdout",
     "output_type": "stream",
     "text": [
      "Model: \"model_4\"\n",
      "_________________________________________________________________\n",
      " Layer (type)                Output Shape              Param #   \n",
      "=================================================================\n",
      " input_5 (InputLayer)        [(None, None)]            0         \n",
      "                                                                 \n",
      " embedding (Embedding)       (None, None, 100)         2000000   \n",
      "                                                                 \n",
      " global_average_pooling1d_4  (None, 100)               0         \n",
      "  (GlobalAveragePooling1D)                                       \n",
      "                                                                 \n",
      " dense_4 (Dense)             (None, 1)                 101       \n",
      "                                                                 \n",
      "=================================================================\n",
      "Total params: 2000101 (7.63 MB)\n",
      "Trainable params: 2000101 (7.63 MB)\n",
      "Non-trainable params: 0 (0.00 Byte)\n",
      "_________________________________________________________________\n"
     ]
    }
   ],
   "source": [
    "model.summary()"
   ]
  },
  {
   "cell_type": "markdown",
   "metadata": {},
   "source": [
    "The parameter matrices here are: $W_{20000 \\times 100}$ for the embedding matrix and $W_{100 \\times 2}$ + 2 bias terms for the dense classification head. "
   ]
  },
  {
   "cell_type": "markdown",
   "metadata": {},
   "source": [
    "We compile the full model and train for a few epochs with a validation split of 0.2."
   ]
  },
  {
   "cell_type": "code",
   "execution_count": 136,
   "metadata": {
    "execution": {
     "iopub.execute_input": "2024-08-26T07:18:41.107279Z",
     "iopub.status.busy": "2024-08-26T07:18:41.106828Z",
     "iopub.status.idle": "2024-08-26T07:18:41.118968Z",
     "shell.execute_reply": "2024-08-26T07:18:41.118140Z",
     "shell.execute_reply.started": "2024-08-26T07:18:41.107248Z"
    },
    "executionInfo": {
     "elapsed": 3,
     "status": "ok",
     "timestamp": 1724390191060,
     "user": {
      "displayName": "Pavankumar Gurazada",
      "userId": "00731344791027474971"
     },
     "user_tz": -330
    },
    "id": "-EwVXqkDLQJG",
    "tags": []
   },
   "outputs": [],
   "source": [
    "model.compile(\n",
    "    loss=\"binary_crossentropy\", optimizer=\"rmsprop\", metrics=[\"acc\"]\n",
    ")"
   ]
  },
  {
   "cell_type": "code",
   "execution_count": 137,
   "metadata": {
    "colab": {
     "base_uri": "https://localhost:8080/"
    },
    "execution": {
     "iopub.execute_input": "2024-08-26T07:18:41.754406Z",
     "iopub.status.busy": "2024-08-26T07:18:41.753953Z",
     "iopub.status.idle": "2024-08-26T07:18:43.674030Z",
     "shell.execute_reply": "2024-08-26T07:18:43.673238Z",
     "shell.execute_reply.started": "2024-08-26T07:18:41.754377Z"
    },
    "executionInfo": {
     "elapsed": 2503,
     "status": "ok",
     "timestamp": 1724390194001,
     "user": {
      "displayName": "Pavankumar Gurazada",
      "userId": "00731344791027474971"
     },
     "user_tz": -330
    },
    "id": "wlX9HZ4zLbVS",
    "outputId": "8e3b1cd5-5fc8-4fbf-9094-cdf48fefd084",
    "tags": []
   },
   "outputs": [
    {
     "name": "stdout",
     "output_type": "stream",
     "text": [
      "Epoch 1/10\n",
      "7/7 [==============================] - 1s 38ms/step - loss: 0.6960 - acc: 0.4288 - val_loss: 0.6933 - val_acc: 0.5150\n",
      "Epoch 2/10\n",
      "7/7 [==============================] - 0s 19ms/step - loss: 0.6943 - acc: 0.5125 - val_loss: 0.6910 - val_acc: 0.5550\n",
      "Epoch 3/10\n",
      "7/7 [==============================] - 0s 17ms/step - loss: 0.6931 - acc: 0.5188 - val_loss: 0.6903 - val_acc: 0.5550\n",
      "Epoch 4/10\n",
      "7/7 [==============================] - 0s 20ms/step - loss: 0.6921 - acc: 0.5188 - val_loss: 0.6889 - val_acc: 0.5550\n",
      "Epoch 5/10\n",
      "7/7 [==============================] - 0s 20ms/step - loss: 0.6911 - acc: 0.5188 - val_loss: 0.6880 - val_acc: 0.5550\n",
      "Epoch 6/10\n",
      "7/7 [==============================] - 0s 27ms/step - loss: 0.6903 - acc: 0.5188 - val_loss: 0.6880 - val_acc: 0.5550\n",
      "Epoch 7/10\n",
      "7/7 [==============================] - 0s 19ms/step - loss: 0.6896 - acc: 0.5200 - val_loss: 0.6877 - val_acc: 0.5750\n",
      "Epoch 8/10\n",
      "7/7 [==============================] - 0s 19ms/step - loss: 0.6890 - acc: 0.5362 - val_loss: 0.6876 - val_acc: 0.5750\n",
      "Epoch 9/10\n",
      "7/7 [==============================] - 0s 18ms/step - loss: 0.6883 - acc: 0.5875 - val_loss: 0.6874 - val_acc: 0.5750\n",
      "Epoch 10/10\n",
      "7/7 [==============================] - 0s 18ms/step - loss: 0.6877 - acc: 0.6037 - val_loss: 0.6872 - val_acc: 0.5750\n"
     ]
    },
    {
     "data": {
      "text/plain": [
       "<keras.src.callbacks.History at 0x7fd2cf739d20>"
      ]
     },
     "execution_count": 137,
     "metadata": {},
     "output_type": "execute_result"
    }
   ],
   "source": [
    "model.fit(\n",
    "    x_train, y_train,\n",
    "    batch_size=128,\n",
    "    epochs=10,\n",
    "    validation_split=0.2\n",
    ")"
   ]
  },
  {
   "cell_type": "markdown",
   "metadata": {},
   "source": [
    "Once trained, this model can be used to make predictions like so (these predictions are on the first review of the training data):"
   ]
  },
  {
   "cell_type": "code",
   "execution_count": 138,
   "metadata": {
    "colab": {
     "base_uri": "https://localhost:8080/"
    },
    "execution": {
     "iopub.execute_input": "2024-08-26T07:18:47.818317Z",
     "iopub.status.busy": "2024-08-26T07:18:47.817843Z",
     "iopub.status.idle": "2024-08-26T07:18:47.916929Z",
     "shell.execute_reply": "2024-08-26T07:18:47.915954Z",
     "shell.execute_reply.started": "2024-08-26T07:18:47.818285Z"
    },
    "executionInfo": {
     "elapsed": 412,
     "status": "ok",
     "timestamp": 1724390197382,
     "user": {
      "displayName": "Pavankumar Gurazada",
      "userId": "00731344791027474971"
     },
     "user_tz": -330
    },
    "id": "wqUA6L0lLlQ0",
    "outputId": "cbe32482-dc8c-4a74-9387-cefb0c4b4b75",
    "tags": []
   },
   "outputs": [
    {
     "name": "stdout",
     "output_type": "stream",
     "text": [
      "1/1 [==============================] - 0s 44ms/step\n"
     ]
    },
    {
     "data": {
      "text/plain": [
       "array([[0.53383917]], dtype=float32)"
      ]
     },
     "execution_count": 138,
     "metadata": {},
     "output_type": "execute_result"
    }
   ],
   "source": [
    "model.predict(x_train[0:1])"
   ]
  },
  {
   "cell_type": "markdown",
   "metadata": {},
   "source": [
    "As we can see, the model makes a probability prediction and we can convert it into a label by predicting 1 if the probability from the model is more than 0.5."
   ]
  },
  {
   "cell_type": "code",
   "execution_count": 142,
   "metadata": {
    "execution": {
     "iopub.execute_input": "2024-08-26T07:19:54.085691Z",
     "iopub.status.busy": "2024-08-26T07:19:54.084929Z",
     "iopub.status.idle": "2024-08-26T07:19:54.092236Z",
     "shell.execute_reply": "2024-08-26T07:19:54.091260Z",
     "shell.execute_reply.started": "2024-08-26T07:19:54.085655Z"
    },
    "tags": []
   },
   "outputs": [
    {
     "data": {
      "text/plain": [
       "1"
      ]
     },
     "execution_count": 142,
     "metadata": {},
     "output_type": "execute_result"
    }
   ],
   "source": [
    "y_train[0]"
   ]
  },
  {
   "cell_type": "markdown",
   "metadata": {
    "id": "eEN7pXGAsip3"
   },
   "source": [
    "One interesting side effect of this exercise is that we can chop off the prediction layer from our model after training and use it as a trained embedding model like so:"
   ]
  },
  {
   "cell_type": "code",
   "execution_count": 143,
   "metadata": {
    "execution": {
     "iopub.execute_input": "2024-08-26T07:20:56.554693Z",
     "iopub.status.busy": "2024-08-26T07:20:56.554251Z",
     "iopub.status.idle": "2024-08-26T07:20:56.566800Z",
     "shell.execute_reply": "2024-08-26T07:20:56.566038Z",
     "shell.execute_reply.started": "2024-08-26T07:20:56.554664Z"
    },
    "executionInfo": {
     "elapsed": 693,
     "status": "ok",
     "timestamp": 1724390200950,
     "user": {
      "displayName": "Pavankumar Gurazada",
      "userId": "00731344791027474971"
     },
     "user_tz": -330
    },
    "id": "nwoBtX-YLytv",
    "tags": []
   },
   "outputs": [],
   "source": [
    "trained_embedding_model = tf.keras.Model(\n",
    "    int_sequences_input,\n",
    "    embedding_layer(int_sequences_input)\n",
    ")"
   ]
  },
  {
   "cell_type": "code",
   "execution_count": 144,
   "metadata": {
    "colab": {
     "base_uri": "https://localhost:8080/"
    },
    "execution": {
     "iopub.execute_input": "2024-08-26T07:20:56.733054Z",
     "iopub.status.busy": "2024-08-26T07:20:56.732250Z",
     "iopub.status.idle": "2024-08-26T07:20:56.854938Z",
     "shell.execute_reply": "2024-08-26T07:20:56.853950Z",
     "shell.execute_reply.started": "2024-08-26T07:20:56.733016Z"
    },
    "executionInfo": {
     "elapsed": 659,
     "status": "ok",
     "timestamp": 1724390201601,
     "user": {
      "displayName": "Pavankumar Gurazada",
      "userId": "00731344791027474971"
     },
     "user_tz": -330
    },
    "id": "xHPOFWN_MxkZ",
    "outputId": "8a488fb9-8b87-4b71-8369-3b93fcedb746",
    "tags": []
   },
   "outputs": [
    {
     "name": "stdout",
     "output_type": "stream",
     "text": [
      "1/1 [==============================] - 0s 54ms/step\n"
     ]
    },
    {
     "data": {
      "text/plain": [
       "array([[[-0.00927621,  0.03076891, -0.02121628, ..., -0.042582  ,\n",
       "         -0.04326485,  0.0476965 ],\n",
       "        [ 0.04221155, -0.171682  ,  0.02383663, ...,  0.05266424,\n",
       "          0.07435248,  0.07155867],\n",
       "        [ 0.03652366,  0.01428909,  0.04371807, ...,  0.06621461,\n",
       "          0.08100796,  0.04334091],\n",
       "        ...,\n",
       "        [ 0.0407298 , -0.008634  ,  0.10766616, ...,  0.10147089,\n",
       "          0.06665692,  0.10062222],\n",
       "        [ 0.0407298 , -0.008634  ,  0.10766616, ...,  0.10147089,\n",
       "          0.06665692,  0.10062222],\n",
       "        [ 0.0407298 , -0.008634  ,  0.10766616, ...,  0.10147089,\n",
       "          0.06665692,  0.10062222]]], dtype=float32)"
      ]
     },
     "execution_count": 144,
     "metadata": {},
     "output_type": "execute_result"
    }
   ],
   "source": [
    "trained_embedding_model.predict(x_train[0:1])"
   ]
  },
  {
   "cell_type": "code",
   "execution_count": 145,
   "metadata": {
    "execution": {
     "iopub.execute_input": "2024-08-26T07:21:08.182743Z",
     "iopub.status.busy": "2024-08-26T07:21:08.182361Z",
     "iopub.status.idle": "2024-08-26T07:21:08.265578Z",
     "shell.execute_reply": "2024-08-26T07:21:08.264853Z",
     "shell.execute_reply.started": "2024-08-26T07:21:08.182705Z"
    }
   },
   "outputs": [
    {
     "name": "stdout",
     "output_type": "stream",
     "text": [
      "1/1 [==============================] - 0s 31ms/step\n"
     ]
    },
    {
     "data": {
      "text/plain": [
       "(1, 200, 100)"
      ]
     },
     "execution_count": 145,
     "metadata": {},
     "output_type": "execute_result"
    }
   ],
   "source": [
    "trained_embedding_model.predict(x_train[0:1]).shape"
   ]
  },
  {
   "cell_type": "markdown",
   "metadata": {},
   "source": [
    "As we can see above, the first review in the training data is of length 200 words and each word is associated with a learned embedding of 100 dimensions."
   ]
  },
  {
   "cell_type": "markdown",
   "metadata": {},
   "source": [
    "As an excercise, the following code increases the embedding dimension to 256 to see if the accuracy of the model imprives."
   ]
  },
  {
   "cell_type": "code",
   "execution_count": 147,
   "metadata": {
    "execution": {
     "iopub.execute_input": "2024-08-26T07:25:03.992845Z",
     "iopub.status.busy": "2024-08-26T07:25:03.991923Z",
     "iopub.status.idle": "2024-08-26T07:25:07.537892Z",
     "shell.execute_reply": "2024-08-26T07:25:07.536911Z",
     "shell.execute_reply.started": "2024-08-26T07:25:03.992807Z"
    },
    "executionInfo": {
     "elapsed": 653,
     "status": "ok",
     "timestamp": 1724390186786,
     "user": {
      "displayName": "Pavankumar Gurazada",
      "userId": "00731344791027474971"
     },
     "user_tz": -330
    },
    "id": "J222xqRhK-oo",
    "tags": []
   },
   "outputs": [
    {
     "name": "stdout",
     "output_type": "stream",
     "text": [
      "Epoch 1/10\n",
      "7/7 [==============================] - 1s 70ms/step - loss: 0.6921 - acc: 0.5188 - val_loss: 0.6900 - val_acc: 0.5600\n",
      "Epoch 2/10\n",
      "7/7 [==============================] - 0s 38ms/step - loss: 0.6909 - acc: 0.5238 - val_loss: 0.6889 - val_acc: 0.5700\n",
      "Epoch 3/10\n",
      "7/7 [==============================] - 0s 36ms/step - loss: 0.6901 - acc: 0.5350 - val_loss: 0.6886 - val_acc: 0.6000\n",
      "Epoch 4/10\n",
      "7/7 [==============================] - 0s 39ms/step - loss: 0.6898 - acc: 0.5650 - val_loss: 0.6884 - val_acc: 0.6050\n",
      "Epoch 5/10\n",
      "7/7 [==============================] - 0s 37ms/step - loss: 0.6896 - acc: 0.5738 - val_loss: 0.6885 - val_acc: 0.5800\n",
      "Epoch 6/10\n",
      "7/7 [==============================] - 0s 40ms/step - loss: 0.6893 - acc: 0.5913 - val_loss: 0.6876 - val_acc: 0.5950\n",
      "Epoch 7/10\n",
      "7/7 [==============================] - 0s 44ms/step - loss: 0.6886 - acc: 0.5913 - val_loss: 0.6874 - val_acc: 0.5900\n",
      "Epoch 8/10\n",
      "7/7 [==============================] - 0s 45ms/step - loss: 0.6882 - acc: 0.5962 - val_loss: 0.6873 - val_acc: 0.5800\n",
      "Epoch 9/10\n",
      "7/7 [==============================] - 0s 40ms/step - loss: 0.6878 - acc: 0.5900 - val_loss: 0.6870 - val_acc: 0.5750\n",
      "Epoch 10/10\n",
      "7/7 [==============================] - 0s 42ms/step - loss: 0.6875 - acc: 0.5838 - val_loss: 0.6865 - val_acc: 0.5850\n"
     ]
    },
    {
     "data": {
      "text/plain": [
       "<keras.src.callbacks.History at 0x7fd2804a2fb0>"
      ]
     },
     "execution_count": 147,
     "metadata": {},
     "output_type": "execute_result"
    }
   ],
   "source": [
    "# Build the model\n",
    "int_sequences_input = tf.keras.Input(shape=(None,), dtype=\"int32\")\n",
    "\n",
    "embedding_layer = tf.keras.layers.Embedding(\n",
    "    len(vectorizer.get_vocabulary()),\n",
    "    256,\n",
    "    trainable=True\n",
    ")\n",
    "embedded_sequences = embedding_layer(int_sequences_input)\n",
    "\n",
    "pooling_layer = tf.keras.layers.GlobalAveragePooling1D()\n",
    "pooled_embeddings = pooling_layer(embedded_sequences)\n",
    "\n",
    "preds = tf.keras.layers.Dense(1, activation=\"sigmoid\")(pooled_embeddings)\n",
    "\n",
    "model = tf.keras.Model(int_sequences_input, preds)\n",
    "\n",
    "# Compile\n",
    "\n",
    "model.compile(\n",
    "    loss=\"binary_crossentropy\", optimizer=\"rmsprop\", metrics=[\"acc\"]\n",
    ")\n",
    "\n",
    "# Fit to observe accuracy on validation data\n",
    "\n",
    "model.fit(\n",
    "    x_train, y_train,\n",
    "    batch_size=128,\n",
    "    epochs=10,\n",
    "    validation_split=0.2\n",
    ")"
   ]
  }
 ],
 "metadata": {
  "colab": {
   "authorship_tag": "ABX9TyOjyewhgiihL8u9Z2M+OEy/",
   "mount_file_id": "1vaK2d_Y4yj6iBxnqQmlRkNUDNfX5Edtp",
   "provenance": []
  },
  "kernelspec": {
   "display_name": "sagemaker-distribution:Python",
   "language": "python",
   "name": "conda-env-sagemaker-distribution-py"
  },
  "language_info": {
   "codemirror_mode": {
    "name": "ipython",
    "version": 3
   },
   "file_extension": ".py",
   "mimetype": "text/x-python",
   "name": "python",
   "nbconvert_exporter": "python",
   "pygments_lexer": "ipython3",
   "version": "3.10.14"
  }
 },
 "nbformat": 4,
 "nbformat_minor": 4
}
