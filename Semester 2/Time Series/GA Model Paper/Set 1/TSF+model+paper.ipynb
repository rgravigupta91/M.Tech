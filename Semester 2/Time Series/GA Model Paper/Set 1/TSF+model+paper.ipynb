{
 "cells": [
  {
   "cell_type": "markdown",
   "metadata": {
    "id": "tDpRBgr392kE"
   },
   "source": [
    "# Time Series "
   ]
  },
  {
   "cell_type": "markdown",
   "metadata": {
    "id": "Wb4GhWle92kL"
   },
   "source": [
    "### DATA_SET:"
   ]
  },
  {
   "cell_type": "markdown",
   "metadata": {},
   "source": [
    "Analytics firm wants to forecast the Price of Mindtree Ltd. stock for the month of Dec 2021. For this, firm has gathered a Closing Stock Price data for the period of Dec 2020 to Nov 2021."
   ]
  },
  {
   "cell_type": "markdown",
   "metadata": {
    "id": "2LED0-S192kT"
   },
   "source": [
    "* date ==\t\t\tdate field\t\n",
    "* Closing == \t    Daily Closing Price of Stock (numeric)"
   ]
  },
  {
   "cell_type": "markdown",
   "metadata": {},
   "source": [
    "#### Kindly change the below cells from markdown to code and execute it "
   ]
  },
  {
   "cell_type": "markdown",
   "metadata": {},
   "source": [
    "import pandas                             as      pd\n",
    "df=pd.read_csv(\"data.csv\")\n",
    "df.head()"
   ]
  },
  {
   "cell_type": "markdown",
   "metadata": {
    "id": "wVAVAxL_92k5"
   },
   "source": [
    "#### 1.\tData preparation (5 marks)\n",
    "\n",
    "\n",
    "a.\tRead the dataset (tab, csv, xls, txt, inbuilt dataset). What are the number of rows and no. of cols & types of variables? (1 MARK)\n",
    "\n",
    "b. convert the data into time series (2 MARK)\n",
    "\n",
    "\n",
    "c. Check for defects in the data such as missing values, null, etc. (1 MARK)\n",
    "\n",
    "d. Visualize the time series using relevant plots. (1 MARK)\n"
   ]
  },
  {
   "cell_type": "markdown",
   "metadata": {
    "id": "Evqx7ksA92lT"
   },
   "source": [
    "#### 2.\tData understanding (15 marks)\n",
    "\n",
    "a.\tDecompose the time series and check for time series components. (4 marks)\n",
    "\n",
    "b.\tPerform dicky fuller test to check the stationarity? What other actions will you take if series is non-stationary?(3+1 marks)\n",
    "\n",
    "c.\tPlot AutoCorrelation and Partial AutoCorrelation function? What is your inference from these plots? (2+2 marks)\n",
    "\n",
    "d.\tSplit dataset into train and test sets. Use last two month data for testing. (3 marks)\n",
    "\n"
   ]
  },
  {
   "cell_type": "markdown",
   "metadata": {
    "id": "hAVdTKBS92ls"
   },
   "source": [
    "\n",
    "### 3.\tModel Building (20 marks)\n",
    "\n",
    "a.\tFit a base model and observe the residuals, RMSE and MAPE values of the model. Please comment on whether it is good or not.  (5 marks)\n",
    "\n",
    "c.\tHow would you improve the model? What changes you will make in the base model. Fit the final model.   (10 marks)\n",
    "\n",
    "d.\tAnalyze the residuals of final model. Feel free to use charts or graphs to explain. (2 marks) \n",
    "\n",
    "e.\tForecast the Close price for next 1 months using the final model? (3 marks)\n"
   ]
  },
  {
   "cell_type": "markdown",
   "metadata": {},
   "source": [
    "#### END"
   ]
  }
 ],
 "metadata": {
  "colab": {
   "collapsed_sections": [],
   "name": "ML_1_40_MARKS_SET_2_EXAM_Paper.ipynb",
   "provenance": [],
   "toc_visible": true
  },
  "kernelspec": {
   "display_name": "Python 3",
   "language": "python",
   "name": "python3"
  },
  "language_info": {
   "codemirror_mode": {
    "name": "ipython",
    "version": 3
   },
   "file_extension": ".py",
   "mimetype": "text/x-python",
   "name": "python",
   "nbconvert_exporter": "python",
   "pygments_lexer": "ipython3",
   "version": "3.8.8"
  }
 },
 "nbformat": 4,
 "nbformat_minor": 1
}
