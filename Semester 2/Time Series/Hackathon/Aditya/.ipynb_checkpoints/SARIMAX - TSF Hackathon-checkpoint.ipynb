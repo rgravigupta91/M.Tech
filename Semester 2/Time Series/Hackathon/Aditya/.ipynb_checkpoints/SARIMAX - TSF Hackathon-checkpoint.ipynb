{
 "cells": [
  {
   "cell_type": "code",
   "execution_count": 46,
   "id": "ab6f2b81-8b0a-4fa1-9774-52545885b982",
   "metadata": {},
   "outputs": [],
   "source": [
    "import pandas                             as      pd\n",
    "import numpy                              as      np\n",
    "import matplotlib.pyplot                  as      plt\n",
    "import seaborn                            as      sns\n",
    "from   IPython.display                    import  display\n",
    "from   pylab                              import  rcParams \n",
    "from   datetime                           import  datetime, timedelta\n",
    "from statsmodels.tsa.stattools            import  adfuller\n",
    "from statsmodels.tsa.stattools            import  pacf\n",
    "from statsmodels.tsa.stattools            import  acf\n",
    "from statsmodels.graphics.tsaplots        import  plot_pacf\n",
    "from statsmodels.graphics.tsaplots        import  plot_acf\n",
    "from statsmodels.graphics.gofplots        import  qqplot\n",
    "from statsmodels.tsa.seasonal             import  seasonal_decompose\n",
    "#from statsmodels.tsa.arima_model          import  ARIMA\n",
    "from statsmodels.tsa.arima.model import ARIMA\n",
    "from statsmodels.tsa.statespace.sarimax   import  SARIMAX\n",
    "import warnings\n",
    "warnings.filterwarnings('ignore')"
   ]
  },
  {
   "cell_type": "code",
   "execution_count": 47,
   "id": "f5f53507-baee-422d-b31c-d5e6c49d93e8",
   "metadata": {},
   "outputs": [],
   "source": [
    "train_data = pd.read_csv(\"Sunspots.csv\", parse_dates=True,index_col = 'Month')"
   ]
  },
  {
   "cell_type": "code",
   "execution_count": null,
   "id": "c7a55037-1449-411d-8aed-92aa67f66b43",
   "metadata": {},
   "outputs": [],
   "source": [
    "plt.figure(figsize=(25,8))\n",
    "plt.plot(train_data)\n",
    "plt.grid()\n",
    "plt.show()"
   ]
  },
  {
   "cell_type": "code",
   "execution_count": null,
   "id": "8d7394d2-17a6-49c5-9fa3-82971b8a752c",
   "metadata": {},
   "outputs": [],
   "source": [
    "plot_acf(train_data,lags=30);"
   ]
  },
  {
   "cell_type": "code",
   "execution_count": null,
   "id": "c23706c3-069e-43e0-a357-c37b3eeac806",
   "metadata": {},
   "outputs": [],
   "source": [
    "plot_pacf(train_data,lags=30);"
   ]
  },
  {
   "cell_type": "code",
   "execution_count": 33,
   "id": "4b60c068-b025-4a43-8a0f-738a362fa366",
   "metadata": {},
   "outputs": [],
   "source": [
    "train = train_data[ : (train_data.size - 120)]\n",
    "test = train_data[(train_data.size - 120) : ]"
   ]
  },
  {
   "cell_type": "code",
   "execution_count": null,
   "id": "6b0e0c06-d844-4009-a8fc-dde4d3de3959",
   "metadata": {},
   "outputs": [],
   "source": [
    "train.tail(2)"
   ]
  },
  {
   "cell_type": "code",
   "execution_count": null,
   "id": "bfdb2e94-9c0f-40ff-898d-27deaefccfb7",
   "metadata": {},
   "outputs": [],
   "source": [
    "test.head(2)"
   ]
  },
  {
   "cell_type": "code",
   "execution_count": null,
   "id": "52eb20b0-419e-42bf-9e7f-18e7b963a918",
   "metadata": {},
   "outputs": [],
   "source": [
    "train.size, test.size"
   ]
  },
  {
   "cell_type": "code",
   "execution_count": 52,
   "id": "892c26be-12b0-42ee-b447-ac1747f7c9c3",
   "metadata": {},
   "outputs": [],
   "source": [
    "import itertools\n",
    "\n",
    "p = q = range(0, 3)\n",
    "d = 0\n",
    "\n",
    "pdq = list(itertools.product(p, [d], q))\n",
    "model_pdq = [(x[0], x[1], x[2], 120) for x in pdq]"
   ]
  },
  {
   "cell_type": "code",
   "execution_count": null,
   "id": "a64f07df-6761-4aaa-ace2-274e00b9dce8",
   "metadata": {},
   "outputs": [],
   "source": [
    "dfObj1 = pd.DataFrame(columns=['param','seasonal', 'AIC'])\n",
    "dfObj1"
   ]
  },
  {
   "cell_type": "code",
   "execution_count": null,
   "id": "642a60d2-b4ba-4548-8d62-ece851e1fbec",
   "metadata": {},
   "outputs": [],
   "source": [
    "results_list = []\n",
    "\n",
    "import statsmodels.api as sm\n",
    "for param in pdq:\n",
    "    for param_seasonal in model_pdq:\n",
    "        mod = sm.tsa.statespace.SARIMAX(train,\n",
    "                                        order=param,\n",
    "                                        seasonal_order=param_seasonal,\n",
    "                                        enforce_stationarity=False,\n",
    "                                        enforce_invertibility=False)\n",
    "            \n",
    "        results_SARIMA = mod.fit()\n",
    "        print('SARIMA{}x{}120 - AIC:{}'.format(param, param_seasonal, results_SARIMA.aic))\n",
    "        results_list.append({'param':param,'seasonal':param_seasonal ,'AIC': results_SARIMA.aic})\n",
    "\n",
    "dfObj1 = pd.DataFrame(results_list)"
   ]
  },
  {
   "cell_type": "code",
   "execution_count": null,
   "id": "6de9f786-568d-4454-9a6d-fb9f08633b66",
   "metadata": {},
   "outputs": [],
   "source": [
    "new = dfObj1.sort_values(by=['AIC']).reset_index()\n",
    "new"
   ]
  },
  {
   "cell_type": "code",
   "execution_count": null,
   "id": "71ba113d-bc94-474e-bee3-3df3192f5e24",
   "metadata": {},
   "outputs": [],
   "source": [
    "model = sm.tsa.statespace.SARIMAX(train, order=new['param'][0], seasonal_order=new['seasonal'][0])\n",
    "model_Sarima = model.fit()\n",
    "print(model_Sarima.summary())"
   ]
  },
  {
   "cell_type": "code",
   "execution_count": 42,
   "id": "5fd878c8-8cc5-40f5-8c50-f96ef865c033",
   "metadata": {},
   "outputs": [],
   "source": [
    "pred_start=test.index[0]\n",
    "pred_end=test.index[-1]"
   ]
  },
  {
   "cell_type": "code",
   "execution_count": 43,
   "id": "8bc4626c-648d-43b1-83ed-6db622ba5437",
   "metadata": {},
   "outputs": [],
   "source": [
    "SARIMA_predictions=model_Sarima.predict(start=pred_start, end=pred_end)"
   ]
  },
  {
   "cell_type": "code",
   "execution_count": null,
   "id": "219e3971-4abd-4851-9758-760256c15215",
   "metadata": {},
   "outputs": [],
   "source": [
    "plt.figure(figsize=(15, 10))\n",
    "plt.plot(train,label='Training Data')\n",
    "plt.plot(test,label='Test Data')\n",
    "plt.plot(test.index,SARIMA_predictions,label='Predicted Data - SARIMA')\n",
    "plt.legend(loc='best')\n",
    "plt.grid()\n",
    "plt.show()"
   ]
  },
  {
   "cell_type": "code",
   "execution_count": null,
   "id": "d75448ef-2ced-4a97-9229-7ef086551edc",
   "metadata": {},
   "outputs": [],
   "source": [
    "from sklearn.metrics import  mean_squared_error\n",
    "rmse = mean_squared_error(test['Avg_sunspot_count'],SARIMA_predictions, squared=False)\n",
    "print(rmse)"
   ]
  },
  {
   "cell_type": "code",
   "execution_count": null,
   "id": "a90fb066-eaae-4102-9dd1-975efeed6826",
   "metadata": {},
   "outputs": [],
   "source": []
  }
 ],
 "metadata": {
  "kernelspec": {
   "display_name": "Python 3 (ipykernel)",
   "language": "python",
   "name": "python3"
  },
  "language_info": {
   "codemirror_mode": {
    "name": "ipython",
    "version": 3
   },
   "file_extension": ".py",
   "mimetype": "text/x-python",
   "name": "python",
   "nbconvert_exporter": "python",
   "pygments_lexer": "ipython3",
   "version": "3.11.7"
  }
 },
 "nbformat": 4,
 "nbformat_minor": 5
}
