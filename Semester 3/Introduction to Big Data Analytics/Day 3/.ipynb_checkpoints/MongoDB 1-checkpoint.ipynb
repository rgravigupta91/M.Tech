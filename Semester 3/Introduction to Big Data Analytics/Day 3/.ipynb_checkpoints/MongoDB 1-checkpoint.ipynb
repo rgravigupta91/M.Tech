{
 "cells": [
  {
   "cell_type": "code",
   "execution_count": 1,
   "id": "dd194561-0046-43b6-b515-76098b310132",
   "metadata": {},
   "outputs": [
    {
     "name": "stdout",
     "output_type": "stream",
     "text": [
      "Collecting pymongo\n",
      "  Downloading pymongo-4.12.0-cp312-cp312-win_amd64.whl.metadata (22 kB)\n",
      "Collecting dnspython<3.0.0,>=1.16.0 (from pymongo)\n",
      "  Downloading dnspython-2.7.0-py3-none-any.whl.metadata (5.8 kB)\n",
      "Downloading pymongo-4.12.0-cp312-cp312-win_amd64.whl (896 kB)\n",
      "   ---------------------------------------- 0.0/896.7 kB ? eta -:--:--\n",
      "   ----------------------------------- ---- 786.4/896.7 kB 4.8 MB/s eta 0:00:01\n",
      "   ---------------------------------------- 896.7/896.7 kB 2.9 MB/s eta 0:00:00\n",
      "Downloading dnspython-2.7.0-py3-none-any.whl (313 kB)\n",
      "Installing collected packages: dnspython, pymongo\n",
      "Successfully installed dnspython-2.7.0 pymongo-4.12.0\n"
     ]
    }
   ],
   "source": [
    "!pip install pymongo"
   ]
  },
  {
   "cell_type": "code",
   "execution_count": 2,
   "id": "ecbf6ca9-14eb-4102-ac57-c0863161d1e4",
   "metadata": {},
   "outputs": [],
   "source": [
    "from pymongo import MongoClient\n",
    "from pprint import pprint\n",
    "from random import randint"
   ]
  },
  {
   "cell_type": "code",
   "execution_count": 4,
   "id": "0046dd04-4e60-4482-b268-c24b9fb01acf",
   "metadata": {},
   "outputs": [
    {
     "data": {
      "text/plain": [
       "MongoClient(host=['localhost:27017'], document_class=dict, tz_aware=False, connect=True)"
      ]
     },
     "execution_count": 4,
     "metadata": {},
     "output_type": "execute_result"
    }
   ],
   "source": [
    "# Create mongo client ( make sure mongo server is started )\n",
    "client = MongoClient(\"localhost:27017\")\n",
    "client"
   ]
  },
  {
   "cell_type": "code",
   "execution_count": 5,
   "id": "f10efa6f-267b-4593-9ecc-b8921e05bfc1",
   "metadata": {},
   "outputs": [],
   "source": [
    "# client.list_database_names() # To list all the database names"
   ]
  },
  {
   "cell_type": "code",
   "execution_count": 6,
   "id": "830172a1-38e9-47a4-9ffa-55d1536f9fc6",
   "metadata": {},
   "outputs": [],
   "source": [
    "db=client['pes'] # To create a new database or open the existing database"
   ]
  },
  {
   "cell_type": "code",
   "execution_count": 8,
   "id": "5c01449d-093b-472a-9dae-4f20f115156a",
   "metadata": {},
   "outputs": [
    {
     "data": {
      "text/plain": [
       "['admin', 'config', 'local']"
      ]
     },
     "execution_count": 8,
     "metadata": {},
     "output_type": "execute_result"
    }
   ],
   "source": [
    "client.list_database_names()\n",
    "# Database will get listed only after the records are entered unitl then this is an declaration"
   ]
  },
  {
   "cell_type": "markdown",
   "id": "5568f93e-baf5-4622-89e3-3b94e9d4f3e0",
   "metadata": {},
   "source": [
    "## Insert"
   ]
  },
  {
   "cell_type": "code",
   "execution_count": 9,
   "id": "dfb299f1-9a5d-45d0-a44a-9ab7641eccbb",
   "metadata": {},
   "outputs": [
    {
     "data": {
      "text/plain": [
       "InsertOneResult(ObjectId('680c83c0eabfaf925c05fc8e'), acknowledged=True)"
      ]
     },
     "execution_count": 9,
     "metadata": {},
     "output_type": "execute_result"
    }
   ],
   "source": [
    "student_collection = db[\"student_data\"]\n",
    "\n",
    "student_record = {\n",
    "    \"Name\" : \"Ravi Kumar Gupta\",\n",
    "    \"Age\": 35,\n",
    "    \"Sex\" : \"M\",\n",
    "    \"Batch\": \"Oct 20\"\n",
    "}\n",
    "\n",
    "student_collection.insert_one(student_record)"
   ]
  },
  {
   "cell_type": "code",
   "execution_count": 10,
   "id": "b0d1a397-82bf-475d-863d-2f7215e2a850",
   "metadata": {},
   "outputs": [
    {
     "data": {
      "text/plain": [
       "['admin', 'config', 'local', 'pes']"
      ]
     },
     "execution_count": 10,
     "metadata": {},
     "output_type": "execute_result"
    }
   ],
   "source": [
    "client.list_database_names()"
   ]
  },
  {
   "cell_type": "code",
   "execution_count": 12,
   "id": "2e57f6ef-e02d-4cbc-b67f-a69a0170b3e4",
   "metadata": {},
   "outputs": [
    {
     "name": "stdout",
     "output_type": "stream",
     "text": [
      "{'_id': ObjectId('680c83c0eabfaf925c05fc8e'), 'Name': 'Ravi Kumar Gupta', 'Age': 35, 'Sex': 'F', 'Batch': 'Oct 20'}\n"
     ]
    }
   ],
   "source": [
    "for item in student_collection.find():\n",
    "    print(item)"
   ]
  },
  {
   "cell_type": "code",
   "execution_count": 14,
   "id": "d661d2ff-42a4-4a0e-b815-e7749d8014e7",
   "metadata": {},
   "outputs": [
    {
     "name": "stdout",
     "output_type": "stream",
     "text": [
      "{'_id': ObjectId('680c83c0eabfaf925c05fc8e'), 'Name': 'Ravi Kumar Gupta', 'Age': 35, 'Sex': 'F', 'Batch': 'Oct 20'}\n"
     ]
    }
   ],
   "source": [
    "record = student_collection.find_one()\n",
    "print(record)"
   ]
  },
  {
   "cell_type": "code",
   "execution_count": 15,
   "id": "6b00076f-0f24-4e37-96ce-041ea5fcb615",
   "metadata": {},
   "outputs": [
    {
     "name": "stdout",
     "output_type": "stream",
     "text": [
      "{'_id': ObjectId('680c83c0eabfaf925c05fc8e'), 'Name': 'Ravi Kumar Gupta', 'Age': 35, 'Sex': 'F', 'Batch': 'Oct 20'}\n"
     ]
    }
   ],
   "source": [
    "record = student_collection.find_one({\"Age\":35})\n",
    "print(record)"
   ]
  },
  {
   "cell_type": "code",
   "execution_count": 16,
   "id": "25e6b265-7a43-45d8-8aa8-ad37b1faba43",
   "metadata": {},
   "outputs": [
    {
     "name": "stdout",
     "output_type": "stream",
     "text": [
      "{'Age': 35,\n",
      " 'Batch': 'Oct 20',\n",
      " 'Name': 'Ravi Kumar Gupta',\n",
      " 'Sex': 'F',\n",
      " '_id': ObjectId('680c83c0eabfaf925c05fc8e')}\n"
     ]
    }
   ],
   "source": [
    "record = student_collection.find_one()\n",
    "pprint(record)"
   ]
  },
  {
   "cell_type": "code",
   "execution_count": 17,
   "id": "4eb9f3d6-d637-47b1-bcab-716b99221f8b",
   "metadata": {},
   "outputs": [
    {
     "data": {
      "text/plain": [
       "InsertOneResult(ObjectId('680c85afeabfaf925c05fc8f'), acknowledged=True)"
      ]
     },
     "execution_count": 17,
     "metadata": {},
     "output_type": "execute_result"
    }
   ],
   "source": [
    "student_record = {\n",
    "    \"Name\" : \"Digvijay Kewal\",\n",
    "    \"Age\": 35,\n",
    "    \"Sex\" : \"M\",\n",
    "    \"Batch\": \"Oct 20\"\n",
    "}\n",
    "\n",
    "student_collection.insert_one(student_record)"
   ]
  },
  {
   "cell_type": "code",
   "execution_count": 20,
   "id": "0d1c358e-e495-432a-97d2-c051cdad6ab7",
   "metadata": {},
   "outputs": [
    {
     "name": "stdout",
     "output_type": "stream",
     "text": [
      "{'Age': 35,\n",
      " 'Batch': 'Oct 20',\n",
      " 'Name': 'Ravi Kumar Gupta',\n",
      " 'Sex': 'F',\n",
      " '_id': ObjectId('680c83c0eabfaf925c05fc8e')}\n",
      "{'Age': 35,\n",
      " 'Batch': 'Oct 20',\n",
      " 'Name': 'Digvijay Kewal',\n",
      " 'Sex': 'M',\n",
      " '_id': ObjectId('680c85afeabfaf925c05fc8f')}\n"
     ]
    }
   ],
   "source": [
    "for item in student_collection.find():\n",
    "    pprint(item)"
   ]
  },
  {
   "cell_type": "code",
   "execution_count": null,
   "id": "bdcd705c-3d92-49fc-a759-7ae579ff7c38",
   "metadata": {},
   "outputs": [],
   "source": []
  }
 ],
 "metadata": {
  "kernelspec": {
   "display_name": "Python 3 (ipykernel)",
   "language": "python",
   "name": "python3"
  },
  "language_info": {
   "codemirror_mode": {
    "name": "ipython",
    "version": 3
   },
   "file_extension": ".py",
   "mimetype": "text/x-python",
   "name": "python",
   "nbconvert_exporter": "python",
   "pygments_lexer": "ipython3",
   "version": "3.12.0"
  }
 },
 "nbformat": 4,
 "nbformat_minor": 5
}
