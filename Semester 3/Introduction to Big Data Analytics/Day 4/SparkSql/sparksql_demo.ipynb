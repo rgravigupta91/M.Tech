{
 "cells": [
  {
   "cell_type": "code",
   "execution_count": 0,
   "metadata": {
    "application/vnd.databricks.v1+cell": {
     "cellMetadata": {
      "byteLimit": 2048000,
      "rowLimit": 10000
     },
     "inputWidgets": {},
     "nuid": "94308657-8849-47ea-b5ef-6d05d6aac73d",
     "showTitle": false,
     "tableResultSettingsMap": {},
     "title": ""
    }
   },
   "outputs": [],
   "source": [
    "# Load the CSV file\n",
    "file_path = \"/FileStore/tables/customers.csv\"  # Update this path as needed"
   ]
  },
  {
   "cell_type": "code",
   "execution_count": 0,
   "metadata": {
    "application/vnd.databricks.v1+cell": {
     "cellMetadata": {
      "byteLimit": 2048000,
      "rowLimit": 10000
     },
     "inputWidgets": {},
     "nuid": "3967ead8-5e0a-4fbb-b1a8-c397e955a561",
     "showTitle": false,
     "tableResultSettingsMap": {},
     "title": ""
    }
   },
   "outputs": [
    {
     "output_type": "stream",
     "name": "stdout",
     "output_type": "stream",
     "text": [
      "+-----------+----------+---------+--------+------------+----------+-------+-------+--------------+----------+-------------+\n|employee_id|first_name|last_name|   email|phone_number| hire_date| job_id| salary|commission_pct|manager_id|department_id|\n+-----------+----------+---------+--------+------------+----------+-------+-------+--------------+----------+-------------+\n|        100|    Steven|     King|   SKING|515.123.4567|1987-06-17|AD_PRES|24000.0|          NULL|      NULL|           90|\n|        101|     Neena|  Kochhar|NKOCHHAR|515.123.4568|1989-09-21|  AD_VP|17000.0|          NULL|       100|           90|\n|        102|       Lex|  De Haan| LDEHAAN|515.123.4569|1993-01-13|  AD_VP|17000.0|          NULL|       100|           90|\n|        103| Alexander|   Hunold| AHUNOLD|590.423.4567|1990-01-03|IT_PROG| 9000.0|          NULL|       102|           60|\n|        104|     Bruce|    Ernst|  BERNST|590.423.4568|1991-05-21|IT_PROG| 6000.0|          NULL|       103|           60|\n+-----------+----------+---------+--------+------------+----------+-------+-------+--------------+----------+-------------+\nonly showing top 5 rows\n\n"
     ]
    }
   ],
   "source": [
    "# Load the CSV file into a DataFrame\n",
    "customersDF = spark.read.csv(file_path, header=True, inferSchema=True)\n",
    "\n",
    "# Show the first few rows\n",
    "customersDF.show(5)"
   ]
  },
  {
   "cell_type": "code",
   "execution_count": 0,
   "metadata": {
    "application/vnd.databricks.v1+cell": {
     "cellMetadata": {
      "byteLimit": 2048000,
      "rowLimit": 10000
     },
     "inputWidgets": {},
     "nuid": "fb9792e1-98ab-4cbf-9309-9946b7b096af",
     "showTitle": false,
     "tableResultSettingsMap": {},
     "title": ""
    }
   },
   "outputs": [],
   "source": [
    "# Register as a SQL table\n",
    "customersDF.createOrReplaceTempView(\"customers\")"
   ]
  },
  {
   "cell_type": "code",
   "execution_count": 0,
   "metadata": {
    "application/vnd.databricks.v1+cell": {
     "cellMetadata": {},
     "inputWidgets": {},
     "nuid": "61a9285b-a956-4f19-bb0b-a80bb2703a39",
     "showTitle": false,
     "tableResultSettingsMap": {},
     "title": ""
    }
   },
   "outputs": [],
   "source": [
    "# %sql is a notebook magic command that enables you to execute SQL queries on tables directly in a cell."
   ]
  },
  {
   "cell_type": "code",
   "execution_count": 0,
   "metadata": {
    "application/vnd.databricks.v1+cell": {
     "cellMetadata": {
      "byteLimit": 2048000,
      "implicitDf": true,
      "rowLimit": 10000
     },
     "inputWidgets": {},
     "nuid": "be5d18fa-ccf5-4bb7-8cdd-f751f334507f",
     "showTitle": false,
     "tableResultSettingsMap": {},
     "title": ""
    }
   },
   "outputs": [
    {
     "output_type": "display_data",
     "data": {
      "text/html": [
       "<style scoped>\n",
       "  .table-result-container {\n",
       "    max-height: 300px;\n",
       "    overflow: auto;\n",
       "  }\n",
       "  table, th, td {\n",
       "    border: 1px solid black;\n",
       "    border-collapse: collapse;\n",
       "  }\n",
       "  th, td {\n",
       "    padding: 5px;\n",
       "  }\n",
       "  th {\n",
       "    text-align: left;\n",
       "  }\n",
       "</style><div class='table-result-container'><table class='table-result'><thead style='background-color: white'><tr><th>employee_id</th><th>first_name</th><th>last_name</th><th>salary</th></tr></thead><tbody><tr><td>100</td><td>Steven</td><td>King</td><td>24000.0</td></tr><tr><td>101</td><td>Neena</td><td>Kochhar</td><td>17000.0</td></tr><tr><td>102</td><td>Lex</td><td>De Haan</td><td>17000.0</td></tr><tr><td>108</td><td>Nancy</td><td>Greenberg</td><td>12000.0</td></tr><tr><td>114</td><td>Den</td><td>Raphaely</td><td>11000.0</td></tr><tr><td>145</td><td>John</td><td>Russell</td><td>14000.0</td></tr><tr><td>146</td><td>Karen</td><td>Partners</td><td>13500.0</td></tr><tr><td>147</td><td>Alberto</td><td>Errazuriz</td><td>12000.0</td></tr><tr><td>148</td><td>Gerald</td><td>Cambrault</td><td>11000.0</td></tr><tr><td>149</td><td>Eleni</td><td>Zlotkey</td><td>10500.0</td></tr><tr><td>162</td><td>Clara</td><td>Vishney</td><td>10500.0</td></tr><tr><td>168</td><td>Lisa</td><td>Ozer</td><td>11500.0</td></tr><tr><td>174</td><td>Ellen</td><td>Abel</td><td>11000.0</td></tr><tr><td>201</td><td>Michael</td><td>Hartstein</td><td>13000.0</td></tr><tr><td>205</td><td>Shelley</td><td>Higgins</td><td>12000.0</td></tr></tbody></table></div>"
      ]
     },
     "metadata": {
      "application/vnd.databricks.v1+output": {
       "addedWidgets": {},
       "aggData": [],
       "aggError": "",
       "aggOverflow": false,
       "aggSchema": [],
       "aggSeriesLimitReached": false,
       "aggType": "",
       "arguments": {},
       "columnCustomDisplayInfos": {},
       "data": [
        [
         100,
         "Steven",
         "King",
         24000.0
        ],
        [
         101,
         "Neena",
         "Kochhar",
         17000.0
        ],
        [
         102,
         "Lex",
         "De Haan",
         17000.0
        ],
        [
         108,
         "Nancy",
         "Greenberg",
         12000.0
        ],
        [
         114,
         "Den",
         "Raphaely",
         11000.0
        ],
        [
         145,
         "John",
         "Russell",
         14000.0
        ],
        [
         146,
         "Karen",
         "Partners",
         13500.0
        ],
        [
         147,
         "Alberto",
         "Errazuriz",
         12000.0
        ],
        [
         148,
         "Gerald",
         "Cambrault",
         11000.0
        ],
        [
         149,
         "Eleni",
         "Zlotkey",
         10500.0
        ],
        [
         162,
         "Clara",
         "Vishney",
         10500.0
        ],
        [
         168,
         "Lisa",
         "Ozer",
         11500.0
        ],
        [
         174,
         "Ellen",
         "Abel",
         11000.0
        ],
        [
         201,
         "Michael",
         "Hartstein",
         13000.0
        ],
        [
         205,
         "Shelley",
         "Higgins",
         12000.0
        ]
       ],
       "datasetInfos": [],
       "dbfsResultPath": null,
       "isJsonSchema": true,
       "metadata": {},
       "overflow": false,
       "plotOptions": {
        "customPlotOptions": {},
        "displayType": "table",
        "pivotAggregation": null,
        "pivotColumns": null,
        "xColumns": null,
        "yColumns": null
       },
       "removedWidgets": [],
       "schema": [
        {
         "metadata": "{}",
         "name": "employee_id",
         "type": "\"integer\""
        },
        {
         "metadata": "{}",
         "name": "first_name",
         "type": "\"string\""
        },
        {
         "metadata": "{}",
         "name": "last_name",
         "type": "\"string\""
        },
        {
         "metadata": "{}",
         "name": "salary",
         "type": "\"double\""
        }
       ],
       "type": "table"
      }
     },
     "output_type": "display_data"
    }
   ],
   "source": [
    "\n",
    "\n",
    "%sql\n",
    "SELECT employee_id, first_name, last_name, salary \n",
    "FROM customers \n",
    "WHERE salary > 10000;"
   ]
  },
  {
   "cell_type": "code",
   "execution_count": 0,
   "metadata": {
    "application/vnd.databricks.v1+cell": {
     "cellMetadata": {
      "byteLimit": 2048000,
      "rowLimit": 10000
     },
     "inputWidgets": {},
     "nuid": "c8d8e114-83a8-414d-b1bd-9448cb32ddaf",
     "showTitle": false,
     "tableResultSettingsMap": {},
     "title": ""
    }
   },
   "outputs": [
    {
     "output_type": "stream",
     "name": "stdout",
     "output_type": "stream",
     "text": [
      "+-----------+----------+---------+-------+\n|employee_id|first_name|last_name| salary|\n+-----------+----------+---------+-------+\n|        100|    Steven|     King|24000.0|\n|        101|     Neena|  Kochhar|17000.0|\n|        102|       Lex|  De Haan|17000.0|\n|        108|     Nancy|Greenberg|12000.0|\n|        114|       Den| Raphaely|11000.0|\n|        145|      John|  Russell|14000.0|\n|        146|     Karen| Partners|13500.0|\n|        147|   Alberto|Errazuriz|12000.0|\n|        148|    Gerald|Cambrault|11000.0|\n|        149|     Eleni|  Zlotkey|10500.0|\n|        162|     Clara|  Vishney|10500.0|\n|        168|      Lisa|     Ozer|11500.0|\n|        174|     Ellen|     Abel|11000.0|\n|        201|   Michael|Hartstein|13000.0|\n|        205|   Shelley|  Higgins|12000.0|\n+-----------+----------+---------+-------+\n\n"
     ]
    }
   ],
   "source": [
    "query1 = spark.sql(\"SELECT employee_id, first_name, last_name, salary FROM customers WHERE salary > 10000\")\n",
    "query1.show()"
   ]
  },
  {
   "cell_type": "code",
   "execution_count": 0,
   "metadata": {
    "application/vnd.databricks.v1+cell": {
     "cellMetadata": {
      "byteLimit": 2048000,
      "implicitDf": true,
      "rowLimit": 10000
     },
     "inputWidgets": {},
     "nuid": "6d11e85c-881a-43f2-b1a2-c7631e0316d4",
     "showTitle": false,
     "tableResultSettingsMap": {},
     "title": ""
    }
   },
   "outputs": [
    {
     "output_type": "display_data",
     "data": {
      "text/html": [
       "<style scoped>\n",
       "  .table-result-container {\n",
       "    max-height: 300px;\n",
       "    overflow: auto;\n",
       "  }\n",
       "  table, th, td {\n",
       "    border: 1px solid black;\n",
       "    border-collapse: collapse;\n",
       "  }\n",
       "  th, td {\n",
       "    padding: 5px;\n",
       "  }\n",
       "  th {\n",
       "    text-align: left;\n",
       "  }\n",
       "</style><div class='table-result-container'><table class='table-result'><thead style='background-color: white'><tr><th>department_id</th><th>employee_count</th></tr></thead><tbody><tr><td>30</td><td>6</td></tr><tr><td>110</td><td>2</td></tr><tr><td>100</td><td>7</td></tr><tr><td>70</td><td>1</td></tr><tr><td>90</td><td>4</td></tr><tr><td>60</td><td>5</td></tr><tr><td>40</td><td>1</td></tr><tr><td>20</td><td>2</td></tr><tr><td>10</td><td>1</td></tr><tr><td>80</td><td>32</td></tr><tr><td>NULL</td><td>1</td></tr><tr><td>50</td><td>45</td></tr></tbody></table></div>"
      ]
     },
     "metadata": {
      "application/vnd.databricks.v1+output": {
       "addedWidgets": {},
       "aggData": [],
       "aggError": "",
       "aggOverflow": false,
       "aggSchema": [],
       "aggSeriesLimitReached": false,
       "aggType": "",
       "arguments": {},
       "columnCustomDisplayInfos": {},
       "data": [
        [
         "30",
         6
        ],
        [
         "110",
         2
        ],
        [
         "100",
         7
        ],
        [
         "70",
         1
        ],
        [
         "90",
         4
        ],
        [
         "60",
         5
        ],
        [
         "40",
         1
        ],
        [
         "20",
         2
        ],
        [
         "10",
         1
        ],
        [
         "80",
         32
        ],
        [
         "NULL",
         1
        ],
        [
         "50",
         45
        ]
       ],
       "datasetInfos": [],
       "dbfsResultPath": null,
       "isJsonSchema": true,
       "metadata": {},
       "overflow": false,
       "plotOptions": {
        "customPlotOptions": {},
        "displayType": "table",
        "pivotAggregation": null,
        "pivotColumns": null,
        "xColumns": null,
        "yColumns": null
       },
       "removedWidgets": [],
       "schema": [
        {
         "metadata": "{}",
         "name": "department_id",
         "type": "\"string\""
        },
        {
         "metadata": "{}",
         "name": "employee_count",
         "type": "\"long\""
        }
       ],
       "type": "table"
      }
     },
     "output_type": "display_data"
    }
   ],
   "source": [
    "%sql\n",
    "SELECT department_id, COUNT(*) AS employee_count \n",
    "FROM customers \n",
    "GROUP BY department_id;"
   ]
  },
  {
   "cell_type": "code",
   "execution_count": 0,
   "metadata": {
    "application/vnd.databricks.v1+cell": {
     "cellMetadata": {
      "byteLimit": 2048000,
      "rowLimit": 10000
     },
     "inputWidgets": {},
     "nuid": "b3c0b2b1-d49f-43f2-8786-831ae6ca49e3",
     "showTitle": false,
     "tableResultSettingsMap": {},
     "title": ""
    }
   },
   "outputs": [
    {
     "output_type": "stream",
     "name": "stdout",
     "output_type": "stream",
     "text": [
      "+-------------+--------------+\n|department_id|employee_count|\n+-------------+--------------+\n|           30|             6|\n|          110|             2|\n|          100|             7|\n|           70|             1|\n|           90|             4|\n|           60|             5|\n|           40|             1|\n|           20|             2|\n|           10|             1|\n|           80|            32|\n|         NULL|             1|\n|           50|            45|\n+-------------+--------------+\n\n"
     ]
    }
   ],
   "source": [
    "query2 = spark.sql(\"SELECT department_id, COUNT(*) AS employee_count FROM customers GROUP BY department_id\")\n",
    "query2.show()"
   ]
  },
  {
   "cell_type": "code",
   "execution_count": 0,
   "metadata": {
    "application/vnd.databricks.v1+cell": {
     "cellMetadata": {
      "byteLimit": 2048000,
      "implicitDf": true,
      "rowLimit": 10000
     },
     "inputWidgets": {},
     "nuid": "7149c9e9-1967-4b61-975e-b7fbc77b4fec",
     "showTitle": false,
     "tableResultSettingsMap": {},
     "title": ""
    }
   },
   "outputs": [
    {
     "output_type": "display_data",
     "data": {
      "text/html": [
       "<style scoped>\n",
       "  .table-result-container {\n",
       "    max-height: 300px;\n",
       "    overflow: auto;\n",
       "  }\n",
       "  table, th, td {\n",
       "    border: 1px solid black;\n",
       "    border-collapse: collapse;\n",
       "  }\n",
       "  th, td {\n",
       "    padding: 5px;\n",
       "  }\n",
       "  th {\n",
       "    text-align: left;\n",
       "  }\n",
       "</style><div class='table-result-container'><table class='table-result'><thead style='background-color: white'><tr><th>employee_id</th><th>first_name</th><th>last_name</th><th>salary</th></tr></thead><tbody><tr><td>100</td><td>Steven</td><td>King</td><td>24000.0</td></tr><tr><td>101</td><td>Neena</td><td>Kochhar</td><td>17000.0</td></tr><tr><td>102</td><td>Lex</td><td>De Haan</td><td>17000.0</td></tr><tr><td>145</td><td>John</td><td>Russell</td><td>14000.0</td></tr><tr><td>146</td><td>Karen</td><td>Partners</td><td>13500.0</td></tr></tbody></table></div>"
      ]
     },
     "metadata": {
      "application/vnd.databricks.v1+output": {
       "addedWidgets": {},
       "aggData": [],
       "aggError": "",
       "aggOverflow": false,
       "aggSchema": [],
       "aggSeriesLimitReached": false,
       "aggType": "",
       "arguments": {},
       "columnCustomDisplayInfos": {},
       "data": [
        [
         100,
         "Steven",
         "King",
         24000.0
        ],
        [
         101,
         "Neena",
         "Kochhar",
         17000.0
        ],
        [
         102,
         "Lex",
         "De Haan",
         17000.0
        ],
        [
         145,
         "John",
         "Russell",
         14000.0
        ],
        [
         146,
         "Karen",
         "Partners",
         13500.0
        ]
       ],
       "datasetInfos": [],
       "dbfsResultPath": null,
       "isJsonSchema": true,
       "metadata": {},
       "overflow": false,
       "plotOptions": {
        "customPlotOptions": {},
        "displayType": "table",
        "pivotAggregation": null,
        "pivotColumns": null,
        "xColumns": null,
        "yColumns": null
       },
       "removedWidgets": [],
       "schema": [
        {
         "metadata": "{}",
         "name": "employee_id",
         "type": "\"integer\""
        },
        {
         "metadata": "{}",
         "name": "first_name",
         "type": "\"string\""
        },
        {
         "metadata": "{}",
         "name": "last_name",
         "type": "\"string\""
        },
        {
         "metadata": "{}",
         "name": "salary",
         "type": "\"double\""
        }
       ],
       "type": "table"
      }
     },
     "output_type": "display_data"
    }
   ],
   "source": [
    "%sql\n",
    "SELECT employee_id, first_name, last_name, salary \n",
    "FROM customers \n",
    "ORDER BY salary DESC \n",
    "LIMIT 5;\n"
   ]
  },
  {
   "cell_type": "code",
   "execution_count": 0,
   "metadata": {
    "application/vnd.databricks.v1+cell": {
     "cellMetadata": {},
     "inputWidgets": {},
     "nuid": "38b75bec-f40d-4ac5-83bd-9eaff5219dcd",
     "showTitle": false,
     "tableResultSettingsMap": {},
     "title": ""
    }
   },
   "outputs": [],
   "source": []
  },
  {
   "cell_type": "code",
   "execution_count": 0,
   "metadata": {
    "application/vnd.databricks.v1+cell": {
     "cellMetadata": {},
     "inputWidgets": {},
     "nuid": "8032d64a-ab66-460a-8c68-032e8f7bb2e9",
     "showTitle": false,
     "tableResultSettingsMap": {},
     "title": ""
    }
   },
   "outputs": [],
   "source": [
    "# Count the number of employees hired in each year."
   ]
  },
  {
   "cell_type": "code",
   "execution_count": 0,
   "metadata": {
    "application/vnd.databricks.v1+cell": {
     "cellMetadata": {
      "byteLimit": 2048000,
      "implicitDf": true,
      "rowLimit": 10000
     },
     "inputWidgets": {},
     "nuid": "15479bb5-4d23-466a-8f16-12c6681bb16f",
     "showTitle": false,
     "tableResultSettingsMap": {},
     "title": ""
    }
   },
   "outputs": [
    {
     "output_type": "display_data",
     "data": {
      "text/html": [
       "<style scoped>\n",
       "  .table-result-container {\n",
       "    max-height: 300px;\n",
       "    overflow: auto;\n",
       "  }\n",
       "  table, th, td {\n",
       "    border: 1px solid black;\n",
       "    border-collapse: collapse;\n",
       "  }\n",
       "  th, td {\n",
       "    padding: 5px;\n",
       "  }\n",
       "  th {\n",
       "    text-align: left;\n",
       "  }\n",
       "</style><div class='table-result-container'><table class='table-result'><thead style='background-color: white'><tr><th>hire_year</th><th>employee_count</th></tr></thead><tbody><tr><td>1987</td><td>2</td></tr><tr><td>1989</td><td>1</td></tr><tr><td>1990</td><td>1</td></tr><tr><td>1991</td><td>1</td></tr><tr><td>1993</td><td>1</td></tr><tr><td>1994</td><td>7</td></tr><tr><td>1995</td><td>4</td></tr><tr><td>1996</td><td>10</td></tr><tr><td>1997</td><td>28</td></tr><tr><td>1998</td><td>23</td></tr><tr><td>1999</td><td>18</td></tr><tr><td>2000</td><td>11</td></tr></tbody></table></div>"
      ]
     },
     "metadata": {
      "application/vnd.databricks.v1+output": {
       "addedWidgets": {},
       "aggData": [],
       "aggError": "",
       "aggOverflow": false,
       "aggSchema": [],
       "aggSeriesLimitReached": false,
       "aggType": "",
       "arguments": {},
       "columnCustomDisplayInfos": {},
       "data": [
        [
         1987,
         2
        ],
        [
         1989,
         1
        ],
        [
         1990,
         1
        ],
        [
         1991,
         1
        ],
        [
         1993,
         1
        ],
        [
         1994,
         7
        ],
        [
         1995,
         4
        ],
        [
         1996,
         10
        ],
        [
         1997,
         28
        ],
        [
         1998,
         23
        ],
        [
         1999,
         18
        ],
        [
         2000,
         11
        ]
       ],
       "datasetInfos": [],
       "dbfsResultPath": null,
       "isJsonSchema": true,
       "metadata": {},
       "overflow": false,
       "plotOptions": {
        "customPlotOptions": {},
        "displayType": "table",
        "pivotAggregation": null,
        "pivotColumns": null,
        "xColumns": null,
        "yColumns": null
       },
       "removedWidgets": [],
       "schema": [
        {
         "metadata": "{}",
         "name": "hire_year",
         "type": "\"integer\""
        },
        {
         "metadata": "{}",
         "name": "employee_count",
         "type": "\"long\""
        }
       ],
       "type": "table"
      }
     },
     "output_type": "display_data"
    }
   ],
   "source": [
    "%sql\n",
    "SELECT YEAR(hire_date) AS hire_year, COUNT(*) AS employee_count \n",
    "FROM customers \n",
    "GROUP BY YEAR(hire_date) \n",
    "ORDER BY hire_year;"
   ]
  }
 ],
 "metadata": {
  "application/vnd.databricks.v1+notebook": {
   "dashboards": [],
   "environmentMetadata": null,
   "language": "python",
   "notebookMetadata": {
    "mostRecentlyExecutedCommandWithImplicitDF": {
     "commandId": 1492648612610121,
     "dataframes": [
      "_sqldf"
     ]
    },
    "pythonIndentUnit": 4
   },
   "notebookName": "Untitled Notebook 2024-12-05 23:43:17",
   "widgets": {}
  }
 },
 "nbformat": 4,
 "nbformat_minor": 0
}
