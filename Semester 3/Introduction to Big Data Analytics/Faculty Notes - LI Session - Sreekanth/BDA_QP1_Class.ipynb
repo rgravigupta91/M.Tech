{
 "cells": [
  {
   "cell_type": "code",
   "execution_count": 1,
   "id": "b55151aa",
   "metadata": {},
   "outputs": [],
   "source": [
    "# import statements\n",
    "#!pip install pyspark\n",
    "from pyspark.context import SparkContext\n",
    "from pyspark.sql.session import SparkSession\n",
    "from pyspark.ml.feature import StringIndexer\n",
    "from pyspark.ml.feature import VectorAssembler\n",
    "from pyspark.sql.functions import isnull, when, count, col\n",
    "from pyspark.ml.evaluation import BinaryClassificationEvaluator\n",
    "from pyspark.ml.classification import LogisticRegression\n",
    "from pyspark.mllib.evaluation import MulticlassMetrics\n",
    "\n",
    "sc = SparkContext.getOrCreate()\n",
    "#spark = SparkSession(sc) \n",
    "spark = SparkSession.builder.appName(\"LogisticRegression\").getOrCreate()"
   ]
  },
  {
   "cell_type": "code",
   "execution_count": 2,
   "id": "9cda0cbe-11fc-4b7c-bb1f-24d87005bab4",
   "metadata": {},
   "outputs": [
    {
     "data": {
      "text/html": [
       "\n",
       "            <div>\n",
       "                <p><b>SparkSession - in-memory</b></p>\n",
       "                \n",
       "        <div>\n",
       "            <p><b>SparkContext</b></p>\n",
       "\n",
       "            <p><a href=\"http://DESKTOP-SMQPMN9:4040\">Spark UI</a></p>\n",
       "\n",
       "            <dl>\n",
       "              <dt>Version</dt>\n",
       "                <dd><code>v3.5.5</code></dd>\n",
       "              <dt>Master</dt>\n",
       "                <dd><code>local[*]</code></dd>\n",
       "              <dt>AppName</dt>\n",
       "                <dd><code>pyspark-shell</code></dd>\n",
       "            </dl>\n",
       "        </div>\n",
       "        \n",
       "            </div>\n",
       "        "
      ],
      "text/plain": [
       "<pyspark.sql.session.SparkSession at 0x286d103dac0>"
      ]
     },
     "execution_count": 2,
     "metadata": {},
     "output_type": "execute_result"
    }
   ],
   "source": [
    "spark"
   ]
  },
  {
   "cell_type": "markdown",
   "id": "b5cd7a6a",
   "metadata": {},
   "source": [
    "#### Q1.  Print Spark version  (1 mark)\n",
    "\n"
   ]
  },
  {
   "cell_type": "code",
   "execution_count": 3,
   "id": "c265d9e4-d57e-43a9-8d9a-1f212e405d1f",
   "metadata": {},
   "outputs": [
    {
     "data": {
      "text/plain": [
       "'3.5.5'"
      ]
     },
     "execution_count": 3,
     "metadata": {},
     "output_type": "execute_result"
    }
   ],
   "source": [
    "spark.version"
   ]
  },
  {
   "cell_type": "markdown",
   "id": "97a91eee",
   "metadata": {},
   "source": [
    "#### Q2. Read adult_data into a Spark-dataframe , databricks_datasets path is - 'dbfs:/databricks-datasets/adult/adult.data'  (1 mark)"
   ]
  },
  {
   "cell_type": "code",
   "execution_count": 4,
   "id": "525e9268-3139-4a9b-ac2b-371e20743c61",
   "metadata": {},
   "outputs": [],
   "source": [
    "df = spark.read.format(\"csv\").option(\"header\",\"false\").option(\"inferschema\",\"True\").load(\"adult.data\")"
   ]
  },
  {
   "cell_type": "code",
   "execution_count": 5,
   "id": "11b78b9d-aed4-404e-b389-03614e29fedb",
   "metadata": {},
   "outputs": [
    {
     "name": "stdout",
     "output_type": "stream",
     "text": [
      "root\n",
      " |-- _c0: integer (nullable = true)\n",
      " |-- _c1: string (nullable = true)\n",
      " |-- _c2: double (nullable = true)\n",
      " |-- _c3: string (nullable = true)\n",
      " |-- _c4: double (nullable = true)\n",
      " |-- _c5: string (nullable = true)\n",
      " |-- _c6: string (nullable = true)\n",
      " |-- _c7: string (nullable = true)\n",
      " |-- _c8: string (nullable = true)\n",
      " |-- _c9: string (nullable = true)\n",
      " |-- _c10: double (nullable = true)\n",
      " |-- _c11: double (nullable = true)\n",
      " |-- _c12: double (nullable = true)\n",
      " |-- _c13: string (nullable = true)\n",
      " |-- _c14: string (nullable = true)\n",
      "\n"
     ]
    }
   ],
   "source": [
    "df.printSchema()"
   ]
  },
  {
   "cell_type": "code",
   "execution_count": 7,
   "id": "36d04f2c-432d-4277-aeae-c00fcba4882c",
   "metadata": {},
   "outputs": [
    {
     "data": {
      "text/plain": [
       "DataFrame[_c0: int, _c1: string, _c2: double, _c3: string, _c4: double, _c5: string, _c6: string, _c7: string, _c8: string, _c9: string, _c10: double, _c11: double, _c12: double, _c13: string, _c14: string]"
      ]
     },
     "metadata": {},
     "output_type": "display_data"
    }
   ],
   "source": [
    "display(df)"
   ]
  },
  {
   "cell_type": "code",
   "execution_count": 8,
   "id": "17d4beb7-089f-4e2c-88f3-2f0db120f9aa",
   "metadata": {},
   "outputs": [
    {
     "name": "stdout",
     "output_type": "stream",
     "text": [
      "+---+-----------------+--------+----------+----+-------------------+------------------+--------------+------+-------+------+----+----+--------------+------+\n",
      "|_c0|_c1              |_c2     |_c3       |_c4 |_c5                |_c6               |_c7           |_c8   |_c9    |_c10  |_c11|_c12|_c13          |_c14  |\n",
      "+---+-----------------+--------+----------+----+-------------------+------------------+--------------+------+-------+------+----+----+--------------+------+\n",
      "|39 | State-gov       |77516.0 | Bachelors|13.0| Never-married     | Adm-clerical     | Not-in-family| White| Male  |2174.0|0.0 |40.0| United-States| <=50K|\n",
      "|50 | Self-emp-not-inc|83311.0 | Bachelors|13.0| Married-civ-spouse| Exec-managerial  | Husband      | White| Male  |0.0   |0.0 |13.0| United-States| <=50K|\n",
      "|38 | Private         |215646.0| HS-grad  |9.0 | Divorced          | Handlers-cleaners| Not-in-family| White| Male  |0.0   |0.0 |40.0| United-States| <=50K|\n",
      "|53 | Private         |234721.0| 11th     |7.0 | Married-civ-spouse| Handlers-cleaners| Husband      | Black| Male  |0.0   |0.0 |40.0| United-States| <=50K|\n",
      "|28 | Private         |338409.0| Bachelors|13.0| Married-civ-spouse| Prof-specialty   | Wife         | Black| Female|0.0   |0.0 |40.0| Cuba         | <=50K|\n",
      "+---+-----------------+--------+----------+----+-------------------+------------------+--------------+------+-------+------+----+----+--------------+------+\n",
      "only showing top 5 rows\n",
      "\n"
     ]
    }
   ],
   "source": [
    "df.show(5,truncate=False)"
   ]
  },
  {
   "cell_type": "code",
   "execution_count": 9,
   "id": "dad261cd-f348-49fd-96ed-bf6915162546",
   "metadata": {},
   "outputs": [
    {
     "data": {
      "text/plain": [
       "[Row(_c0=39, _c1=' State-gov', _c2=77516.0, _c3=' Bachelors', _c4=13.0, _c5=' Never-married', _c6=' Adm-clerical', _c7=' Not-in-family', _c8=' White', _c9=' Male', _c10=2174.0, _c11=0.0, _c12=40.0, _c13=' United-States', _c14=' <=50K'),\n",
       " Row(_c0=50, _c1=' Self-emp-not-inc', _c2=83311.0, _c3=' Bachelors', _c4=13.0, _c5=' Married-civ-spouse', _c6=' Exec-managerial', _c7=' Husband', _c8=' White', _c9=' Male', _c10=0.0, _c11=0.0, _c12=13.0, _c13=' United-States', _c14=' <=50K'),\n",
       " Row(_c0=38, _c1=' Private', _c2=215646.0, _c3=' HS-grad', _c4=9.0, _c5=' Divorced', _c6=' Handlers-cleaners', _c7=' Not-in-family', _c8=' White', _c9=' Male', _c10=0.0, _c11=0.0, _c12=40.0, _c13=' United-States', _c14=' <=50K'),\n",
       " Row(_c0=53, _c1=' Private', _c2=234721.0, _c3=' 11th', _c4=7.0, _c5=' Married-civ-spouse', _c6=' Handlers-cleaners', _c7=' Husband', _c8=' Black', _c9=' Male', _c10=0.0, _c11=0.0, _c12=40.0, _c13=' United-States', _c14=' <=50K'),\n",
       " Row(_c0=28, _c1=' Private', _c2=338409.0, _c3=' Bachelors', _c4=13.0, _c5=' Married-civ-spouse', _c6=' Prof-specialty', _c7=' Wife', _c8=' Black', _c9=' Female', _c10=0.0, _c11=0.0, _c12=40.0, _c13=' Cuba', _c14=' <=50K')]"
      ]
     },
     "execution_count": 9,
     "metadata": {},
     "output_type": "execute_result"
    }
   ],
   "source": [
    "df.take(5)"
   ]
  },
  {
   "cell_type": "code",
   "execution_count": 10,
   "id": "1d87fe24-18a3-44ab-abe3-980dc6974de7",
   "metadata": {},
   "outputs": [
    {
     "data": {
      "text/plain": [
       "['_c0',\n",
       " '_c1',\n",
       " '_c2',\n",
       " '_c3',\n",
       " '_c4',\n",
       " '_c5',\n",
       " '_c6',\n",
       " '_c7',\n",
       " '_c8',\n",
       " '_c9',\n",
       " '_c10',\n",
       " '_c11',\n",
       " '_c12',\n",
       " '_c13',\n",
       " '_c14']"
      ]
     },
     "execution_count": 10,
     "metadata": {},
     "output_type": "execute_result"
    }
   ],
   "source": [
    "df.columns"
   ]
  },
  {
   "cell_type": "markdown",
   "id": "7776a8e8",
   "metadata": {},
   "source": [
    "#### Q3. Rename columns of spark dataframe same as given below list  ( 1 mark)\n",
    "column_names = [\n",
    "     \"age\",\n",
    "     \"workclass\",\n",
    "     \"final_weight\",\n",
    "     \"education\",\n",
    "     \"education_num\",\n",
    "     \"marital_status\",\n",
    "     \"occupation\",\n",
    "     \"relationship\",\n",
    "     \"race\",\n",
    "     \"sex\",\n",
    "     \"capital_gain\",\n",
    "     \"capital_loss\",\n",
    "     \"hours_per_week\",\n",
    "     \"native_country\",\n",
    "     \"income_class\"\n",
    " ]"
   ]
  },
  {
   "cell_type": "code",
   "execution_count": 11,
   "id": "3a703faf-99f6-40c9-b681-8778cb66b8fb",
   "metadata": {},
   "outputs": [],
   "source": [
    "column_names = [ \"age\", \"workclass\", \"final_weight\", \"education\", \"education_num\", \"marital_status\",\n",
    "                \"occupation\", \"relationship\", \"race\", \"sex\", \n",
    "                \"capital_gain\", \"capital_loss\", \"hours_per_week\", \"native_country\", \"income_class\" ]"
   ]
  },
  {
   "cell_type": "code",
   "execution_count": 15,
   "id": "16833653-1c9a-41c9-867c-de4c150cdfaa",
   "metadata": {},
   "outputs": [],
   "source": [
    "for new_col,old_col in zip(column_names,df.columns):\n",
    "    df = df.withColumnRenamed(old_col,new_col)"
   ]
  },
  {
   "cell_type": "code",
   "execution_count": 16,
   "id": "0c607db4-dc54-47d2-92de-d3a2e743c25b",
   "metadata": {},
   "outputs": [
    {
     "data": {
      "text/plain": [
       "['age',\n",
       " 'workclass',\n",
       " 'final_weight',\n",
       " 'education',\n",
       " 'education_num',\n",
       " 'marital_status',\n",
       " 'occupation',\n",
       " 'relationship',\n",
       " 'race',\n",
       " 'sex',\n",
       " 'capital_gain',\n",
       " 'capital_loss',\n",
       " 'hours_per_week',\n",
       " 'native_country',\n",
       " 'income_class']"
      ]
     },
     "execution_count": 16,
     "metadata": {},
     "output_type": "execute_result"
    }
   ],
   "source": [
    "df.columns"
   ]
  },
  {
   "cell_type": "code",
   "execution_count": 17,
   "id": "76525c65-5261-4922-9436-c7ffade86a3d",
   "metadata": {},
   "outputs": [
    {
     "name": "stdout",
     "output_type": "stream",
     "text": [
      "+---+-----------------+------------+----------+-------------+-------------------+------------------+--------------+------+-------+------------+------------+--------------+--------------+------------+\n",
      "|age|        workclass|final_weight| education|education_num|     marital_status|        occupation|  relationship|  race|    sex|capital_gain|capital_loss|hours_per_week|native_country|income_class|\n",
      "+---+-----------------+------------+----------+-------------+-------------------+------------------+--------------+------+-------+------------+------------+--------------+--------------+------------+\n",
      "| 39|        State-gov|     77516.0| Bachelors|         13.0|      Never-married|      Adm-clerical| Not-in-family| White|   Male|      2174.0|         0.0|          40.0| United-States|       <=50K|\n",
      "| 50| Self-emp-not-inc|     83311.0| Bachelors|         13.0| Married-civ-spouse|   Exec-managerial|       Husband| White|   Male|         0.0|         0.0|          13.0| United-States|       <=50K|\n",
      "| 38|          Private|    215646.0|   HS-grad|          9.0|           Divorced| Handlers-cleaners| Not-in-family| White|   Male|         0.0|         0.0|          40.0| United-States|       <=50K|\n",
      "| 53|          Private|    234721.0|      11th|          7.0| Married-civ-spouse| Handlers-cleaners|       Husband| Black|   Male|         0.0|         0.0|          40.0| United-States|       <=50K|\n",
      "| 28|          Private|    338409.0| Bachelors|         13.0| Married-civ-spouse|    Prof-specialty|          Wife| Black| Female|         0.0|         0.0|          40.0|          Cuba|       <=50K|\n",
      "+---+-----------------+------------+----------+-------------+-------------------+------------------+--------------+------+-------+------------+------------+--------------+--------------+------------+\n",
      "only showing top 5 rows\n",
      "\n"
     ]
    }
   ],
   "source": [
    "df.show(5)"
   ]
  },
  {
   "cell_type": "markdown",
   "id": "3d70a70a",
   "metadata": {},
   "source": [
    "#### Q4. Check if spark-dataframe has any columns with missing/null values and drop such columns  (1 mark)"
   ]
  },
  {
   "cell_type": "code",
   "execution_count": 18,
   "id": "3994a23b-a353-411c-99f6-524d9d83bd06",
   "metadata": {},
   "outputs": [],
   "source": [
    "from pyspark.sql.functions import isnull,when,count,col"
   ]
  },
  {
   "cell_type": "code",
   "execution_count": null,
   "id": "015a53a7-db37-4362-ba56-6cdcd15983ce",
   "metadata": {},
   "outputs": [],
   "source": [
    "SELECT count(CASE WHEN age is null the age end) age,\n",
    "       "
   ]
  },
  {
   "cell_type": "code",
   "execution_count": 28,
   "id": "78f8dff8-43af-4be6-b464-3f3ff4ba52f1",
   "metadata": {},
   "outputs": [
    {
     "data": {
      "text/plain": [
       "[Column<'count(CASE WHEN (age IS NULL) THEN age END) AS age'>,\n",
       " Column<'count(CASE WHEN (workclass IS NULL) THEN workclass END) AS workclass'>,\n",
       " Column<'count(CASE WHEN (final_weight IS NULL) THEN final_weight END) AS final_weight'>,\n",
       " Column<'count(CASE WHEN (education IS NULL) THEN education END) AS education'>,\n",
       " Column<'count(CASE WHEN (education_num IS NULL) THEN education_num END) AS education_num'>,\n",
       " Column<'count(CASE WHEN (marital_status IS NULL) THEN marital_status END) AS marital_status'>,\n",
       " Column<'count(CASE WHEN (occupation IS NULL) THEN occupation END) AS occupation'>,\n",
       " Column<'count(CASE WHEN (relationship IS NULL) THEN relationship END) AS relationship'>,\n",
       " Column<'count(CASE WHEN (race IS NULL) THEN race END) AS race'>,\n",
       " Column<'count(CASE WHEN (sex IS NULL) THEN sex END) AS sex'>,\n",
       " Column<'count(CASE WHEN (capital_gain IS NULL) THEN capital_gain END) AS capital_gain'>,\n",
       " Column<'count(CASE WHEN (capital_loss IS NULL) THEN capital_loss END) AS capital_loss'>,\n",
       " Column<'count(CASE WHEN (hours_per_week IS NULL) THEN hours_per_week END) AS hours_per_week'>,\n",
       " Column<'count(CASE WHEN (native_country IS NULL) THEN native_country END) AS native_country'>,\n",
       " Column<'count(CASE WHEN (income_class IS NULL) THEN income_class END) AS income_class'>]"
      ]
     },
     "execution_count": 28,
     "metadata": {},
     "output_type": "execute_result"
    }
   ],
   "source": [
    "[count(when(isnull(c),c)).alias(c) for c in df.columns]"
   ]
  },
  {
   "cell_type": "code",
   "execution_count": 20,
   "id": "bc13f680-e9e1-4ea7-b5c4-b6e95727d0ed",
   "metadata": {},
   "outputs": [
    {
     "name": "stdout",
     "output_type": "stream",
     "text": [
      "+---+---------+------------+---------+-------------+--------------+----------+------------+----+---+------------+------------+--------------+--------------+------------+\n",
      "|age|workclass|final_weight|education|education_num|marital_status|occupation|relationship|race|sex|capital_gain|capital_loss|hours_per_week|native_country|income_class|\n",
      "+---+---------+------------+---------+-------------+--------------+----------+------------+----+---+------------+------------+--------------+--------------+------------+\n",
      "|  0|        0|           0|        0|            0|             0|         0|           0|   0|  0|           0|           0|             0|             0|           0|\n",
      "+---+---------+------------+---------+-------------+--------------+----------+------------+----+---+------------+------------+--------------+--------------+------------+\n",
      "\n"
     ]
    }
   ],
   "source": [
    "df.select([count(when(isnull(c),c)).alias(c) for c in df.columns]).show()"
   ]
  },
  {
   "cell_type": "code",
   "execution_count": 23,
   "id": "661c54aa-b28c-4cb2-8c9b-4d3a636be0e2",
   "metadata": {},
   "outputs": [
    {
     "name": "stdout",
     "output_type": "stream",
     "text": [
      "+----------------------+-----+\n",
      "|marital_status        |count|\n",
      "+----------------------+-----+\n",
      "| Widowed              |993  |\n",
      "| Married-spouse-absent|418  |\n",
      "| Married-AF-spouse    |23   |\n",
      "| Married-civ-spouse   |14976|\n",
      "| Divorced             |4443 |\n",
      "| Never-married        |10683|\n",
      "| Separated            |1025 |\n",
      "+----------------------+-----+\n",
      "\n"
     ]
    }
   ],
   "source": [
    "df.groupBy(\"marital_status\").count().show(truncate=False)"
   ]
  },
  {
   "cell_type": "code",
   "execution_count": 27,
   "id": "34c75872-9cc7-416f-82f6-9422dcd81afa",
   "metadata": {},
   "outputs": [
    {
     "data": {
      "text/plain": [
       "32561"
      ]
     },
     "execution_count": 27,
     "metadata": {},
     "output_type": "execute_result"
    }
   ],
   "source": [
    "df.count()"
   ]
  },
  {
   "cell_type": "code",
   "execution_count": 30,
   "id": "e0bbe5b3-3533-4736-aaa8-97964a2842b5",
   "metadata": {},
   "outputs": [
    {
     "name": "stdout",
     "output_type": "stream",
     "text": [
      "+-------+------------------+------------+------------------+-------------+-----------------+--------------+-----------------+------------+-------------------+-------+------------------+----------------+------------------+--------------+------------+\n",
      "|summary|               age|   workclass|      final_weight|    education|    education_num|marital_status|       occupation|relationship|               race|    sex|      capital_gain|    capital_loss|    hours_per_week|native_country|income_class|\n",
      "+-------+------------------+------------+------------------+-------------+-----------------+--------------+-----------------+------------+-------------------+-------+------------------+----------------+------------------+--------------+------------+\n",
      "|  count|             32561|       32561|             32561|        32561|            32561|         32561|            32561|       32561|              32561|  32561|             32561|           32561|             32561|         32561|       32561|\n",
      "|   mean| 38.58164675532078|        NULL|189778.36651208502|         NULL| 10.0806793403151|          NULL|             NULL|        NULL|               NULL|   NULL|1077.6488437087312| 87.303829734959|40.437455852092995|          NULL|        NULL|\n",
      "| stddev|13.640432553581356|        NULL|105549.97769702227|         NULL|2.572720332067397|          NULL|             NULL|        NULL|               NULL|   NULL| 7385.292084840354|402.960218649002|12.347428681731838|          NULL|        NULL|\n",
      "|    min|                17|           ?|           12285.0|         10th|              1.0|      Divorced|                ?|     Husband| Amer-Indian-Eskimo| Female|               0.0|             0.0|               1.0|             ?|       <=50K|\n",
      "|    max|                90| Without-pay|         1484705.0| Some-college|             16.0|       Widowed| Transport-moving|        Wife|              White|   Male|           99999.0|          4356.0|              99.0|    Yugoslavia|        >50K|\n",
      "+-------+------------------+------------+------------------+-------------+-----------------+--------------+-----------------+------------+-------------------+-------+------------------+----------------+------------------+--------------+------------+\n",
      "\n"
     ]
    }
   ],
   "source": [
    "df.describe().show()"
   ]
  },
  {
   "cell_type": "markdown",
   "id": "ec8a6077",
   "metadata": {},
   "source": [
    "#### Q5. Show the datatypes(schema) of each Spark-dataframe columns without using any for loop (1 mark)"
   ]
  },
  {
   "cell_type": "code",
   "execution_count": 31,
   "id": "65238588-be5d-4eb2-85f5-9651e1cc083a",
   "metadata": {},
   "outputs": [
    {
     "name": "stdout",
     "output_type": "stream",
     "text": [
      "root\n",
      " |-- age: integer (nullable = true)\n",
      " |-- workclass: string (nullable = true)\n",
      " |-- final_weight: double (nullable = true)\n",
      " |-- education: string (nullable = true)\n",
      " |-- education_num: double (nullable = true)\n",
      " |-- marital_status: string (nullable = true)\n",
      " |-- occupation: string (nullable = true)\n",
      " |-- relationship: string (nullable = true)\n",
      " |-- race: string (nullable = true)\n",
      " |-- sex: string (nullable = true)\n",
      " |-- capital_gain: double (nullable = true)\n",
      " |-- capital_loss: double (nullable = true)\n",
      " |-- hours_per_week: double (nullable = true)\n",
      " |-- native_country: string (nullable = true)\n",
      " |-- income_class: string (nullable = true)\n",
      "\n"
     ]
    }
   ],
   "source": [
    "df.printSchema()"
   ]
  },
  {
   "cell_type": "markdown",
   "id": "3b17699c",
   "metadata": {},
   "source": [
    "#### Q6. Convert all string columns of Spark-dataframe into indexes using  StringIndexer transformer.( reomove  string columns from data-frame and name the target indexed column as label). (3 marks)"
   ]
  },
  {
   "cell_type": "code",
   "execution_count": 32,
   "id": "e6743bdd-96c8-421d-857e-35a822bf4da3",
   "metadata": {},
   "outputs": [],
   "source": [
    "indexers = StringIndexer(inputCols = ['workclass','education',\"marital_status\",\"occupation\",\n",
    "                                     \"relationship\",\"race\",\"sex\" , \"native_country\", 'income_class'],\n",
    "                         \n",
    "                         outputCols =['workclass_indexed', 'education_indexed', \n",
    "                                     \"marital_status_indexed\",\"occupation_indexed\",\"relationship_indexed\",\n",
    "                                     \"race_indexed\",\"sex_indexed\" ,'native_country_indexed' ,\"label\"]).fit(df)\n",
    "df = indexers.transform(df)"
   ]
  },
  {
   "cell_type": "code",
   "execution_count": 34,
   "id": "d8117010-7f38-41a1-8a44-62f2d6f1e144",
   "metadata": {},
   "outputs": [
    {
     "name": "stdout",
     "output_type": "stream",
     "text": [
      "+---+-----------------+------------+----------+-------------+-------------------+------------------+--------------+------+-------+------------+------------+--------------+--------------+------------+-----------------+-----------------+----------------------+------------------+--------------------+------------+-----------+----------------------+-----+\n",
      "|age|        workclass|final_weight| education|education_num|     marital_status|        occupation|  relationship|  race|    sex|capital_gain|capital_loss|hours_per_week|native_country|income_class|workclass_indexed|education_indexed|marital_status_indexed|occupation_indexed|relationship_indexed|race_indexed|sex_indexed|native_country_indexed|label|\n",
      "+---+-----------------+------------+----------+-------------+-------------------+------------------+--------------+------+-------+------------+------------+--------------+--------------+------------+-----------------+-----------------+----------------------+------------------+--------------------+------------+-----------+----------------------+-----+\n",
      "| 39|        State-gov|     77516.0| Bachelors|         13.0|      Never-married|      Adm-clerical| Not-in-family| White|   Male|      2174.0|         0.0|          40.0| United-States|       <=50K|              4.0|              2.0|                   1.0|               3.0|                 1.0|         0.0|        0.0|                   0.0|  0.0|\n",
      "| 50| Self-emp-not-inc|     83311.0| Bachelors|         13.0| Married-civ-spouse|   Exec-managerial|       Husband| White|   Male|         0.0|         0.0|          13.0| United-States|       <=50K|              1.0|              2.0|                   0.0|               2.0|                 0.0|         0.0|        0.0|                   0.0|  0.0|\n",
      "| 38|          Private|    215646.0|   HS-grad|          9.0|           Divorced| Handlers-cleaners| Not-in-family| White|   Male|         0.0|         0.0|          40.0| United-States|       <=50K|              0.0|              0.0|                   2.0|               9.0|                 1.0|         0.0|        0.0|                   0.0|  0.0|\n",
      "| 53|          Private|    234721.0|      11th|          7.0| Married-civ-spouse| Handlers-cleaners|       Husband| Black|   Male|         0.0|         0.0|          40.0| United-States|       <=50K|              0.0|              5.0|                   0.0|               9.0|                 0.0|         1.0|        0.0|                   0.0|  0.0|\n",
      "| 28|          Private|    338409.0| Bachelors|         13.0| Married-civ-spouse|    Prof-specialty|          Wife| Black| Female|         0.0|         0.0|          40.0|          Cuba|       <=50K|              0.0|              2.0|                   0.0|               0.0|                 4.0|         1.0|        1.0|                   9.0|  0.0|\n",
      "+---+-----------------+------------+----------+-------------+-------------------+------------------+--------------+------+-------+------------+------------+--------------+--------------+------------+-----------------+-----------------+----------------------+------------------+--------------------+------------+-----------+----------------------+-----+\n",
      "only showing top 5 rows\n",
      "\n"
     ]
    }
   ],
   "source": [
    "df.show(5)"
   ]
  },
  {
   "cell_type": "code",
   "execution_count": 35,
   "id": "08e27b55-6c92-411e-ba7c-d39920ddfffa",
   "metadata": {},
   "outputs": [
    {
     "name": "stdout",
     "output_type": "stream",
     "text": [
      "+---+------------+-------------+------------+------------+--------------+-----------------+-----------------+----------------------+------------------+--------------------+------------+-----------+----------------------+-----+\n",
      "|age|final_weight|education_num|capital_gain|capital_loss|hours_per_week|workclass_indexed|education_indexed|marital_status_indexed|occupation_indexed|relationship_indexed|race_indexed|sex_indexed|native_country_indexed|label|\n",
      "+---+------------+-------------+------------+------------+--------------+-----------------+-----------------+----------------------+------------------+--------------------+------------+-----------+----------------------+-----+\n",
      "|39 |77516.0     |13.0         |2174.0      |0.0         |40.0          |4.0              |2.0              |1.0                   |3.0               |1.0                 |0.0         |0.0        |0.0                   |0.0  |\n",
      "|50 |83311.0     |13.0         |0.0         |0.0         |13.0          |1.0              |2.0              |0.0                   |2.0               |0.0                 |0.0         |0.0        |0.0                   |0.0  |\n",
      "|38 |215646.0    |9.0          |0.0         |0.0         |40.0          |0.0              |0.0              |2.0                   |9.0               |1.0                 |0.0         |0.0        |0.0                   |0.0  |\n",
      "|53 |234721.0    |7.0          |0.0         |0.0         |40.0          |0.0              |5.0              |0.0                   |9.0               |0.0                 |1.0         |0.0        |0.0                   |0.0  |\n",
      "|28 |338409.0    |13.0         |0.0         |0.0         |40.0          |0.0              |2.0              |0.0                   |0.0               |4.0                 |1.0         |1.0        |9.0                   |0.0  |\n",
      "+---+------------+-------------+------------+------------+--------------+-----------------+-----------------+----------------------+------------------+--------------------+------------+-----------+----------------------+-----+\n",
      "only showing top 5 rows\n",
      "\n"
     ]
    }
   ],
   "source": [
    "cols = ('workclass','education',\"marital_status\",\"occupation\",\"relationship\",\"race\",\"sex\" , \"native_country\", 'income_class')\n",
    "df =df.drop(*cols)\n",
    "df.show(5, False)"
   ]
  },
  {
   "cell_type": "code",
   "execution_count": 36,
   "id": "63bd4e1e-663a-45a1-bb07-391fd53b1a9f",
   "metadata": {},
   "outputs": [
    {
     "name": "stdout",
     "output_type": "stream",
     "text": [
      "root\n",
      " |-- age: integer (nullable = true)\n",
      " |-- final_weight: double (nullable = true)\n",
      " |-- education_num: double (nullable = true)\n",
      " |-- capital_gain: double (nullable = true)\n",
      " |-- capital_loss: double (nullable = true)\n",
      " |-- hours_per_week: double (nullable = true)\n",
      " |-- workclass_indexed: double (nullable = false)\n",
      " |-- education_indexed: double (nullable = false)\n",
      " |-- marital_status_indexed: double (nullable = false)\n",
      " |-- occupation_indexed: double (nullable = false)\n",
      " |-- relationship_indexed: double (nullable = false)\n",
      " |-- race_indexed: double (nullable = false)\n",
      " |-- sex_indexed: double (nullable = false)\n",
      " |-- native_country_indexed: double (nullable = false)\n",
      " |-- label: double (nullable = false)\n",
      "\n"
     ]
    }
   ],
   "source": [
    "df.printSchema()"
   ]
  },
  {
   "cell_type": "markdown",
   "id": "1fb08cc0",
   "metadata": {},
   "source": [
    "#### Q7. Using vectorAssembler combines all columns (except  label)  of Sparkdataframe into single column named features (3 marks)"
   ]
  },
  {
   "cell_type": "code",
   "execution_count": 37,
   "id": "563cc842-160b-404b-b4ff-33ea4bffe7a7",
   "metadata": {},
   "outputs": [
    {
     "name": "stdout",
     "output_type": "stream",
     "text": [
      "+---+------------+-------------+------------+------------+--------------+-----------------+-----------------+----------------------+------------------+--------------------+------------+-----------+----------------------+-----+-------------------------------------------------------------------+\n",
      "|age|final_weight|education_num|capital_gain|capital_loss|hours_per_week|workclass_indexed|education_indexed|marital_status_indexed|occupation_indexed|relationship_indexed|race_indexed|sex_indexed|native_country_indexed|label|features                                                           |\n",
      "+---+------------+-------------+------------+------------+--------------+-----------------+-----------------+----------------------+------------------+--------------------+------------+-----------+----------------------+-----+-------------------------------------------------------------------+\n",
      "|39 |77516.0     |13.0         |2174.0      |0.0         |40.0          |4.0              |2.0              |1.0                   |3.0               |1.0                 |0.0         |0.0        |0.0                   |0.0  |[39.0,77516.0,13.0,2174.0,0.0,40.0,2.0,0.0,0.0,4.0,3.0,1.0,1.0,0.0]|\n",
      "|50 |83311.0     |13.0         |0.0         |0.0         |13.0          |1.0              |2.0              |0.0                   |2.0               |0.0                 |0.0         |0.0        |0.0                   |0.0  |(14,[0,1,2,5,6,9,10],[50.0,83311.0,13.0,13.0,2.0,1.0,2.0])         |\n",
      "|38 |215646.0    |9.0          |0.0         |0.0         |40.0          |0.0              |0.0              |2.0                   |9.0               |1.0                 |0.0         |0.0        |0.0                   |0.0  |(14,[0,1,2,5,10,11,12],[38.0,215646.0,9.0,40.0,9.0,2.0,1.0])       |\n",
      "|53 |234721.0    |7.0          |0.0         |0.0         |40.0          |0.0              |5.0              |0.0                   |9.0               |0.0                 |1.0         |0.0        |0.0                   |0.0  |(14,[0,1,2,5,6,7,10],[53.0,234721.0,7.0,40.0,5.0,1.0,9.0])         |\n",
      "|28 |338409.0    |13.0         |0.0         |0.0         |40.0          |0.0              |2.0              |0.0                   |0.0               |4.0                 |1.0         |1.0        |9.0                   |0.0  |[28.0,338409.0,13.0,0.0,0.0,40.0,2.0,1.0,1.0,0.0,0.0,0.0,4.0,9.0]  |\n",
      "+---+------------+-------------+------------+------------+--------------+-----------------+-----------------+----------------------+------------------+--------------------+------------+-----------+----------------------+-----+-------------------------------------------------------------------+\n",
      "only showing top 5 rows\n",
      "\n"
     ]
    }
   ],
   "source": [
    "features_col = ['age',\n",
    " 'final_weight',\n",
    " 'education_num',\n",
    " 'capital_gain',\n",
    " 'capital_loss',\n",
    " 'hours_per_week',\n",
    " 'education_indexed',\n",
    " 'race_indexed',\n",
    " 'sex_indexed',\n",
    " 'workclass_indexed',\n",
    " 'occupation_indexed',\n",
    " 'marital_status_indexed',\n",
    " 'relationship_indexed',\n",
    " 'native_country_indexed']\n",
    "\n",
    "assembler = VectorAssembler(inputCols= features_col, outputCol= \"features\")\n",
    "df_assembled = assembler.transform(df)\n",
    "df_assembled.show(5, False)\n"
   ]
  },
  {
   "cell_type": "markdown",
   "id": "63e9abdb",
   "metadata": {},
   "source": [
    "#### Q8.  Split the vectorised spark dataframe into training and test sets  (with one third being held for  testing) ( 3 marks)"
   ]
  },
  {
   "cell_type": "code",
   "execution_count": 39,
   "id": "8d5bb069-280f-46a2-930c-ac0d2d213758",
   "metadata": {},
   "outputs": [],
   "source": [
    "df_train,df_test = df_assembled.randomSplit([0.8,0.2],seed=123)"
   ]
  },
  {
   "cell_type": "code",
   "execution_count": 40,
   "id": "a0c36915-97f0-4aed-878b-b726749199f9",
   "metadata": {},
   "outputs": [
    {
     "data": {
      "text/plain": [
       "25997"
      ]
     },
     "execution_count": 40,
     "metadata": {},
     "output_type": "execute_result"
    }
   ],
   "source": [
    "df_train.count()"
   ]
  },
  {
   "cell_type": "code",
   "execution_count": 41,
   "id": "63577268-5305-4c3c-b48f-4318b0769ef7",
   "metadata": {},
   "outputs": [
    {
     "data": {
      "text/plain": [
       "6564"
      ]
     },
     "execution_count": 41,
     "metadata": {},
     "output_type": "execute_result"
    }
   ],
   "source": [
    "df_test.count()"
   ]
  },
  {
   "cell_type": "markdown",
   "id": "abeaf758",
   "metadata": {},
   "source": [
    "#### Q9. Train default logistic regression  model with   'featuresCol' as  features and  features as ' label'  (3 marks)"
   ]
  },
  {
   "cell_type": "code",
   "execution_count": 42,
   "id": "ee3af014-d3ac-4544-be82-b9a66c5c0aad",
   "metadata": {},
   "outputs": [],
   "source": [
    "lr = LogisticRegression(featuresCol=\"features\",labelCol=\"label\")\n",
    "lr_model = lr.fit(df_train)"
   ]
  },
  {
   "cell_type": "code",
   "execution_count": 44,
   "id": "82a16c86-840b-4e54-a57e-bfddc6c18ea1",
   "metadata": {},
   "outputs": [
    {
     "data": {
      "text/plain": [
       "DenseVector([0.0416, 0.0, 0.3151, 0.0003, 0.0006, 0.0339, -0.0106, -0.1576, -0.4481, 0.0256, -0.0678, -1.0492, 0.0546, -0.0063])"
      ]
     },
     "execution_count": 44,
     "metadata": {},
     "output_type": "execute_result"
    }
   ],
   "source": [
    "lr_model.coefficients"
   ]
  },
  {
   "cell_type": "code",
   "execution_count": 45,
   "id": "d69ab544-ea47-4054-b685-7a0982c4af11",
   "metadata": {},
   "outputs": [
    {
     "data": {
      "text/plain": [
       "DenseMatrix(1, 14, [0.0416, 0.0, 0.3151, 0.0003, 0.0006, 0.0339, -0.0106, -0.1576, -0.4481, 0.0256, -0.0678, -1.0492, 0.0546, -0.0063], 1)"
      ]
     },
     "execution_count": 45,
     "metadata": {},
     "output_type": "execute_result"
    }
   ],
   "source": [
    "lr_model.coefficientMatrix"
   ]
  },
  {
   "cell_type": "code",
   "execution_count": 46,
   "id": "f3bb2966-d19d-4401-8261-b65c16dac9b1",
   "metadata": {},
   "outputs": [
    {
     "data": {
      "text/plain": [
       "-7.041949498330972"
      ]
     },
     "execution_count": 46,
     "metadata": {},
     "output_type": "execute_result"
    }
   ],
   "source": [
    "lr_model.intercept"
   ]
  },
  {
   "cell_type": "markdown",
   "id": "dfe2f28d",
   "metadata": {},
   "source": [
    "#### Q10. Find accuracy of   logistic regression model  on test set ( 3 marks)"
   ]
  },
  {
   "cell_type": "code",
   "execution_count": 48,
   "id": "eabc69c8-9e52-472f-8a4b-fc3d841c9c0b",
   "metadata": {},
   "outputs": [],
   "source": [
    "#This LogisticRegressionModel can be used as a transformer to \n",
    "#perform prediction on the testing data\n",
    "predictonDF = lr_model.transform(df_test)\n",
    "evaluator = BinaryClassificationEvaluator()"
   ]
  },
  {
   "cell_type": "code",
   "execution_count": 49,
   "id": "f9e7d7bb-3a95-4edf-93b7-9da46653eb96",
   "metadata": {},
   "outputs": [
    {
     "data": {
      "text/plain": [
       "0.8816411591987768"
      ]
     },
     "execution_count": 49,
     "metadata": {},
     "output_type": "execute_result"
    }
   ],
   "source": [
    "evaluator.evaluate(predictonDF)"
   ]
  },
  {
   "cell_type": "code",
   "execution_count": 50,
   "id": "805fe1d0-4326-4ee8-ba31-2e50cb6fa2c5",
   "metadata": {},
   "outputs": [],
   "source": [
    "evaluator = BinaryClassificationEvaluator(metricName=\"areaUnderPR\")"
   ]
  },
  {
   "cell_type": "code",
   "execution_count": 51,
   "id": "6e7edb0b-d066-4647-8ab5-af4f127da450",
   "metadata": {},
   "outputs": [
    {
     "data": {
      "text/plain": [
       "0.7301761997367064"
      ]
     },
     "execution_count": 51,
     "metadata": {},
     "output_type": "execute_result"
    }
   ],
   "source": [
    "evaluator.evaluate(predictonDF)"
   ]
  },
  {
   "cell_type": "code",
   "execution_count": 52,
   "id": "e72b4706-ba6d-478d-91ea-b3d8146bc838",
   "metadata": {},
   "outputs": [
    {
     "name": "stdout",
     "output_type": "stream",
     "text": [
      "Accuracy =  0.8362279098110909\n"
     ]
    }
   ],
   "source": [
    "accuracy = predictonDF.filter(predictonDF.label == predictonDF.prediction).count()/float(predictonDF.count())\n",
    "print(\"Accuracy = \", accuracy)\n",
    " "
   ]
  },
  {
   "cell_type": "code",
   "execution_count": 53,
   "id": "5838c622-37d8-435e-8723-c8da4e99cb65",
   "metadata": {},
   "outputs": [],
   "source": [
    "selected_predictonDF = predictonDF.select(\"label\", \"prediction\")\n",
    "df = selected_predictonDF.toPandas()"
   ]
  },
  {
   "cell_type": "code",
   "execution_count": 54,
   "id": "97f6ae8e-2c23-4c75-9314-529c23a860f0",
   "metadata": {},
   "outputs": [
    {
     "data": {
      "text/html": [
       "<div>\n",
       "<style scoped>\n",
       "    .dataframe tbody tr th:only-of-type {\n",
       "        vertical-align: middle;\n",
       "    }\n",
       "\n",
       "    .dataframe tbody tr th {\n",
       "        vertical-align: top;\n",
       "    }\n",
       "\n",
       "    .dataframe thead th {\n",
       "        text-align: right;\n",
       "    }\n",
       "</style>\n",
       "<table border=\"1\" class=\"dataframe\">\n",
       "  <thead>\n",
       "    <tr style=\"text-align: right;\">\n",
       "      <th></th>\n",
       "      <th>label</th>\n",
       "      <th>prediction</th>\n",
       "    </tr>\n",
       "  </thead>\n",
       "  <tbody>\n",
       "    <tr>\n",
       "      <th>0</th>\n",
       "      <td>0.0</td>\n",
       "      <td>0.0</td>\n",
       "    </tr>\n",
       "    <tr>\n",
       "      <th>1</th>\n",
       "      <td>0.0</td>\n",
       "      <td>0.0</td>\n",
       "    </tr>\n",
       "    <tr>\n",
       "      <th>2</th>\n",
       "      <td>0.0</td>\n",
       "      <td>0.0</td>\n",
       "    </tr>\n",
       "    <tr>\n",
       "      <th>3</th>\n",
       "      <td>0.0</td>\n",
       "      <td>0.0</td>\n",
       "    </tr>\n",
       "    <tr>\n",
       "      <th>4</th>\n",
       "      <td>0.0</td>\n",
       "      <td>0.0</td>\n",
       "    </tr>\n",
       "  </tbody>\n",
       "</table>\n",
       "</div>"
      ],
      "text/plain": [
       "   label  prediction\n",
       "0    0.0         0.0\n",
       "1    0.0         0.0\n",
       "2    0.0         0.0\n",
       "3    0.0         0.0\n",
       "4    0.0         0.0"
      ]
     },
     "execution_count": 54,
     "metadata": {},
     "output_type": "execute_result"
    }
   ],
   "source": [
    "df.head()"
   ]
  },
  {
   "cell_type": "code",
   "execution_count": 55,
   "id": "3a81ecc9-3729-405e-9249-d1071e0ad36b",
   "metadata": {},
   "outputs": [],
   "source": [
    "from sklearn.metrics import confusion_matrix"
   ]
  },
  {
   "cell_type": "code",
   "execution_count": 56,
   "id": "787faa98-86c8-4773-b657-1009d0439475",
   "metadata": {},
   "outputs": [
    {
     "data": {
      "text/plain": [
       "array([[4678,  282],\n",
       "       [ 793,  811]], dtype=int64)"
      ]
     },
     "execution_count": 56,
     "metadata": {},
     "output_type": "execute_result"
    }
   ],
   "source": [
    "confusion_matrix(df[\"label\"],df[\"prediction\"])"
   ]
  },
  {
   "cell_type": "code",
   "execution_count": null,
   "id": "9fd23ded-a04d-4b37-9a37-eef220fe40be",
   "metadata": {},
   "outputs": [],
   "source": []
  }
 ],
 "metadata": {
  "kernelspec": {
   "display_name": "Python 3 (ipykernel)",
   "language": "python",
   "name": "python3"
  },
  "language_info": {
   "codemirror_mode": {
    "name": "ipython",
    "version": 3
   },
   "file_extension": ".py",
   "mimetype": "text/x-python",
   "name": "python",
   "nbconvert_exporter": "python",
   "pygments_lexer": "ipython3",
   "version": "3.12.7"
  }
 },
 "nbformat": 4,
 "nbformat_minor": 5
}
