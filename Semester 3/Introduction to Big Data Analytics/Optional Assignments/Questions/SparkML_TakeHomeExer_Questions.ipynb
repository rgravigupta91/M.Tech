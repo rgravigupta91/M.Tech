{
 "cells": [
  {
   "cell_type": "markdown",
   "metadata": {
    "application/vnd.databricks.v1+cell": {
     "inputWidgets": {},
     "nuid": "5bf4f474-b602-4220-b769-9fd385720f00",
     "showTitle": false,
     "title": ""
    }
   },
   "source": [
    "# Customer Purchase Prediction"
   ]
  },
  {
   "cell_type": "markdown",
   "metadata": {
    "application/vnd.databricks.v1+cell": {
     "inputWidgets": {},
     "nuid": "f7f778fd-97c3-45d8-87b2-3c4616feb958",
     "showTitle": false,
     "title": ""
    }
   },
   "source": [
    "## Data Definition:\n",
    "The dataset stores some of the information of a customer's visit on the e-commerce website.\n",
    "\n",
    "- **productstatus**: Product Status\n",
    "            - View\n",
    "            - Cart\n",
    "            - Purchase\n",
    "- **brand**: Brand associated with the product\n",
    "- **price**: Price of the product (in INR)\n",
    "- **product_category**: Category of the product\n",
    "- **product**: Type of product\n",
    "- **clicktime**: Date and time of user accessing the website\n",
    "- **uid**: Customer's Unique\n",
    "- **pid**: Unique Product Identification Number\n",
    "- **categorycode**: Category code of the product"
   ]
  },
  {
   "cell_type": "markdown",
   "metadata": {},
   "source": [
    "Read the given data and answer the following question to predict whether a product will be purchased by a customer or not"
   ]
  },
  {
   "cell_type": "markdown",
   "metadata": {
    "application/vnd.databricks.v1+cell": {
     "inputWidgets": {},
     "nuid": "24e0bfef-18ce-4088-b343-7d25392b8a1b",
     "showTitle": false,
     "title": ""
    }
   },
   "source": [
    "#### Q. Read the data and print total number of observations and total number of columns"
   ]
  },
  {
   "cell_type": "code",
   "execution_count": null,
   "metadata": {},
   "outputs": [],
   "source": []
  },
  {
   "cell_type": "markdown",
   "metadata": {
    "application/vnd.databricks.v1+cell": {
     "inputWidgets": {},
     "nuid": "e6ee167e-0b1b-44ab-a833-3a72d4784d97",
     "showTitle": false,
     "title": ""
    }
   },
   "source": [
    "#### Q. Treat missing values and remove unnecessary columns"
   ]
  },
  {
   "cell_type": "code",
   "execution_count": null,
   "metadata": {},
   "outputs": [],
   "source": []
  },
  {
   "cell_type": "markdown",
   "metadata": {
    "application/vnd.databricks.v1+cell": {
     "inputWidgets": {},
     "nuid": "ab081d65-e0d7-416d-8c28-5fbb40066a66",
     "showTitle": false,
     "title": ""
    }
   },
   "source": [
    "#### Q. Check column data types and change the column data type if required"
   ]
  },
  {
   "cell_type": "code",
   "execution_count": null,
   "metadata": {},
   "outputs": [],
   "source": []
  },
  {
   "cell_type": "markdown",
   "metadata": {
    "application/vnd.databricks.v1+cell": {
     "inputWidgets": {},
     "nuid": "d635eb74-74c3-415a-8e13-57fee4d703a2",
     "showTitle": false,
     "title": ""
    }
   },
   "source": [
    "### Exploratory Data Analysis"
   ]
  },
  {
   "cell_type": "markdown",
   "metadata": {
    "application/vnd.databricks.v1+cell": {
     "inputWidgets": {},
     "nuid": "d5448b67-4cb4-40db-a403-2a97a20d730e",
     "showTitle": false,
     "title": ""
    }
   },
   "source": [
    "#### Q. Find the top 10 products that the company sold in the month of May"
   ]
  },
  {
   "cell_type": "code",
   "execution_count": null,
   "metadata": {},
   "outputs": [],
   "source": []
  },
  {
   "cell_type": "markdown",
   "metadata": {
    "application/vnd.databricks.v1+cell": {
     "inputWidgets": {},
     "nuid": "a3c020ea-ddd9-4ea8-aa9c-2d4d9f35099d",
     "showTitle": false,
     "title": ""
    }
   },
   "source": [
    "#### Q.List down five least sold products that the company sold in the month of May"
   ]
  },
  {
   "cell_type": "code",
   "execution_count": null,
   "metadata": {},
   "outputs": [],
   "source": []
  },
  {
   "cell_type": "markdown",
   "metadata": {
    "application/vnd.databricks.v1+cell": {
     "inputWidgets": {},
     "nuid": "0f1fc7b6-7e92-4134-bdc7-e258757adfa6",
     "showTitle": false,
     "title": ""
    }
   },
   "source": [
    "#### Q. List down the most popular brand"
   ]
  },
  {
   "cell_type": "code",
   "execution_count": null,
   "metadata": {},
   "outputs": [],
   "source": []
  },
  {
   "cell_type": "markdown",
   "metadata": {
    "application/vnd.databricks.v1+cell": {
     "inputWidgets": {},
     "nuid": "99d2016f-773d-47d5-ab22-e3020e421e87",
     "showTitle": false,
     "title": ""
    }
   },
   "source": [
    "#### Q. What is the average amount spend on smartphones"
   ]
  },
  {
   "cell_type": "code",
   "execution_count": null,
   "metadata": {},
   "outputs": [],
   "source": []
  },
  {
   "cell_type": "markdown",
   "metadata": {
    "application/vnd.databricks.v1+cell": {
     "inputWidgets": {},
     "nuid": "a951530f-4fde-40e7-83cd-ea0c30f1233a",
     "showTitle": false,
     "title": ""
    }
   },
   "source": [
    "#### Q. Find the user's website activities on each day of the week and plot bar chart showing the number of user activities on each day of the week"
   ]
  },
  {
   "cell_type": "code",
   "execution_count": null,
   "metadata": {},
   "outputs": [],
   "source": []
  },
  {
   "cell_type": "markdown",
   "metadata": {
    "application/vnd.databricks.v1+cell": {
     "inputWidgets": {},
     "nuid": "5f0442f0-2fb7-4f42-b5c8-1c24cee8bfbe",
     "showTitle": false,
     "title": ""
    }
   },
   "source": [
    "#### Q. Divide the data in train and test set"
   ]
  },
  {
   "cell_type": "code",
   "execution_count": null,
   "metadata": {},
   "outputs": [],
   "source": []
  },
  {
   "cell_type": "markdown",
   "metadata": {
    "application/vnd.databricks.v1+cell": {
     "inputWidgets": {},
     "nuid": "28e376e0-d19c-4925-ab1b-893639cf847f",
     "showTitle": false,
     "title": ""
    }
   },
   "source": [
    "#### Q. Apply necessary transformation required to preapre data for machine learning"
   ]
  },
  {
   "cell_type": "markdown",
   "metadata": {
    "application/vnd.databricks.v1+cell": {
     "inputWidgets": {},
     "nuid": "98da9f56-8002-4724-930b-39ddbe2c3a11",
     "showTitle": false,
     "title": ""
    }
   },
   "source": [
    "### Building pipeline model\n",
    "We will build multiple models to predict if the product is purchased or just viewed. We start with Logistic Regression model"
   ]
  },
  {
   "cell_type": "markdown",
   "metadata": {
    "application/vnd.databricks.v1+cell": {
     "inputWidgets": {},
     "nuid": "5ba0dcf2-b586-478f-9be9-f5500f0815ed",
     "showTitle": false,
     "title": ""
    }
   },
   "source": [
    "#### Q. Build a logistic regression pipeline model"
   ]
  },
  {
   "cell_type": "code",
   "execution_count": null,
   "metadata": {
    "application/vnd.databricks.v1+cell": {
     "inputWidgets": {},
     "nuid": "acc268aa-0485-4560-8470-c4c8ac670c7f",
     "showTitle": false,
     "title": ""
    }
   },
   "outputs": [],
   "source": [
    " "
   ]
  },
  {
   "cell_type": "code",
   "execution_count": null,
   "metadata": {
    "application/vnd.databricks.v1+cell": {
     "inputWidgets": {},
     "nuid": "d2148dd3-8229-4b96-ad15-a9f1039af28b",
     "showTitle": false,
     "title": ""
    }
   },
   "outputs": [],
   "source": [
    " "
   ]
  },
  {
   "cell_type": "code",
   "execution_count": null,
   "metadata": {
    "application/vnd.databricks.v1+cell": {
     "inputWidgets": {},
     "nuid": "61fb66da-429a-4b34-b3ae-5e5aeaebb9d1",
     "showTitle": false,
     "title": ""
    }
   },
   "outputs": [],
   "source": [
    " "
   ]
  },
  {
   "cell_type": "code",
   "execution_count": null,
   "metadata": {
    "application/vnd.databricks.v1+cell": {
     "inputWidgets": {},
     "nuid": "e1a04d5e-2cd1-4b1b-8a2c-3bf26c45d6b3",
     "showTitle": false,
     "title": ""
    }
   },
   "outputs": [],
   "source": [
    " "
   ]
  },
  {
   "cell_type": "markdown",
   "metadata": {
    "application/vnd.databricks.v1+cell": {
     "inputWidgets": {},
     "nuid": "ac059f82-88fe-4f77-a6c4-e57ced2980ca",
     "showTitle": false,
     "title": ""
    }
   },
   "source": [
    "#### Q. Evaluate the logistic regression pipeline model"
   ]
  },
  {
   "cell_type": "code",
   "execution_count": null,
   "metadata": {
    "application/vnd.databricks.v1+cell": {
     "inputWidgets": {},
     "nuid": "3f6d15db-3df9-4184-a43c-77c681452eaa",
     "showTitle": false,
     "title": ""
    }
   },
   "outputs": [],
   "source": []
  },
  {
   "cell_type": "markdown",
   "metadata": {
    "application/vnd.databricks.v1+cell": {
     "inputWidgets": {},
     "nuid": "6f5e1516-6c36-4280-ba20-042fbe63a103",
     "showTitle": false,
     "title": ""
    }
   },
   "source": [
    "Or you can also try...."
   ]
  },
  {
   "cell_type": "code",
   "execution_count": null,
   "metadata": {
    "application/vnd.databricks.v1+cell": {
     "inputWidgets": {},
     "nuid": "50f0d6f0-608f-47c2-9aa8-472076325467",
     "showTitle": false,
     "title": ""
    }
   },
   "outputs": [],
   "source": [
    " "
   ]
  },
  {
   "cell_type": "markdown",
   "metadata": {
    "application/vnd.databricks.v1+cell": {
     "inputWidgets": {},
     "nuid": "2a3dc052-113b-4f71-9518-bd0d92ab8c0a",
     "showTitle": false,
     "title": ""
    }
   },
   "source": [
    "#### Q. Build a decision tree pipeline model"
   ]
  },
  {
   "cell_type": "code",
   "execution_count": null,
   "metadata": {
    "application/vnd.databricks.v1+cell": {
     "inputWidgets": {},
     "nuid": "8691568e-4b0e-45f6-bced-6008b8ba29e8",
     "showTitle": false,
     "title": ""
    }
   },
   "outputs": [],
   "source": [
    " "
   ]
  },
  {
   "cell_type": "code",
   "execution_count": null,
   "metadata": {
    "application/vnd.databricks.v1+cell": {
     "inputWidgets": {},
     "nuid": "5eafa102-6a08-446b-9703-6f346f2b4482",
     "showTitle": false,
     "title": ""
    }
   },
   "outputs": [],
   "source": [
    " "
   ]
  },
  {
   "cell_type": "code",
   "execution_count": null,
   "metadata": {
    "application/vnd.databricks.v1+cell": {
     "inputWidgets": {},
     "nuid": "684a5f11-105a-4d4d-9573-5e88f546fc16",
     "showTitle": false,
     "title": ""
    }
   },
   "outputs": [],
   "source": [
    " "
   ]
  },
  {
   "cell_type": "code",
   "execution_count": null,
   "metadata": {
    "application/vnd.databricks.v1+cell": {
     "inputWidgets": {},
     "nuid": "129a5154-cd87-49ac-aa81-dc1a440e9a31",
     "showTitle": false,
     "title": ""
    }
   },
   "outputs": [],
   "source": [
    " "
   ]
  },
  {
   "cell_type": "code",
   "execution_count": null,
   "metadata": {
    "application/vnd.databricks.v1+cell": {
     "inputWidgets": {},
     "nuid": "56dcf558-cda1-4421-86f0-f59f626fcad4",
     "showTitle": false,
     "title": ""
    }
   },
   "outputs": [],
   "source": [
    " "
   ]
  },
  {
   "cell_type": "code",
   "execution_count": null,
   "metadata": {
    "application/vnd.databricks.v1+cell": {
     "inputWidgets": {},
     "nuid": "de673117-4191-448a-ba00-e5f8a60285b2",
     "showTitle": false,
     "title": ""
    }
   },
   "outputs": [],
   "source": [
    " "
   ]
  },
  {
   "cell_type": "markdown",
   "metadata": {
    "application/vnd.databricks.v1+cell": {
     "inputWidgets": {},
     "nuid": "c75dc96b-592d-4430-a4c4-9a058f25280a",
     "showTitle": false,
     "title": ""
    }
   },
   "source": [
    "#### Q. Evaluate the decision tree pipeline model"
   ]
  },
  {
   "cell_type": "code",
   "execution_count": null,
   "metadata": {
    "application/vnd.databricks.v1+cell": {
     "inputWidgets": {},
     "nuid": "c134097a-701a-41fb-8ef6-3581a838314b",
     "showTitle": false,
     "title": ""
    }
   },
   "outputs": [],
   "source": [
    " "
   ]
  },
  {
   "cell_type": "markdown",
   "metadata": {
    "application/vnd.databricks.v1+cell": {
     "inputWidgets": {},
     "nuid": "f0fe4dc0-fcfa-4a8c-a2ed-ad687e31f7c4",
     "showTitle": false,
     "title": ""
    }
   },
   "source": [
    " "
   ]
  },
  {
   "cell_type": "code",
   "execution_count": null,
   "metadata": {},
   "outputs": [],
   "source": []
  }
 ],
 "metadata": {
  "application/vnd.databricks.v1+notebook": {
   "dashboards": [],
   "language": "python",
   "notebookMetadata": {
    "pythonIndentUnit": 2
   },
   "notebookName": "Take Home Exercise",
   "notebookOrigID": 2821539365580583,
   "widgets": {}
  },
  "kernelspec": {
   "display_name": "Python 3 (ipykernel)",
   "language": "python",
   "name": "python3"
  },
  "language_info": {
   "codemirror_mode": {
    "name": "ipython",
    "version": 3
   },
   "file_extension": ".py",
   "mimetype": "text/x-python",
   "name": "python",
   "nbconvert_exporter": "python",
   "pygments_lexer": "ipython3",
   "version": "3.8.9"
  }
 },
 "nbformat": 4,
 "nbformat_minor": 1
}
