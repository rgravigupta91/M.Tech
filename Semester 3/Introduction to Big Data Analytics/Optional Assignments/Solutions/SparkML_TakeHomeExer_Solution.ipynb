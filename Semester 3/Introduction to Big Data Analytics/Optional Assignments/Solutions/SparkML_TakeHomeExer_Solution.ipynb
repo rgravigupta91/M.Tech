{
 "cells": [
  {
   "cell_type": "markdown",
   "metadata": {
    "application/vnd.databricks.v1+cell": {
     "inputWidgets": {},
     "nuid": "5bf4f474-b602-4220-b769-9fd385720f00",
     "showTitle": false,
     "title": ""
    }
   },
   "source": [
    "# Customer Purchase Prediction"
   ]
  },
  {
   "cell_type": "markdown",
   "metadata": {
    "application/vnd.databricks.v1+cell": {
     "inputWidgets": {},
     "nuid": "f7f778fd-97c3-45d8-87b2-3c4616feb958",
     "showTitle": false,
     "title": ""
    }
   },
   "source": [
    "## Data Definition:\n",
    "The dataset stores some of the information of a customer's visit on the e-commerce website.\n",
    "\n",
    "- **productstatus**: Product Status\n",
    "            - View\n",
    "            - Cart\n",
    "            - Purchase\n",
    "- **brand**: Brand associated with the product\n",
    "- **price**: Price of the product (in INR)\n",
    "- **product_category**: Category of the product\n",
    "- **product**: Type of product\n",
    "- **clicktime**: Date and time of user accessing the website\n",
    "- **uid**: Customer's Unique\n",
    "- **pid**: Unique Product Identification Number\n",
    "- **categorycode**: Category code of the product"
   ]
  },
  {
   "cell_type": "markdown",
   "metadata": {},
   "source": [
    "Read the given data and answer the following question to predict whether a product will be purchased by a customer or not"
   ]
  },
  {
   "cell_type": "markdown",
   "metadata": {
    "application/vnd.databricks.v1+cell": {
     "inputWidgets": {},
     "nuid": "24e0bfef-18ce-4088-b343-7d25392b8a1b",
     "showTitle": false,
     "title": ""
    }
   },
   "source": [
    "### Q. Read the data and print total number of observations and total number of columns"
   ]
  },
  {
   "cell_type": "code",
   "execution_count": 1,
   "metadata": {
    "application/vnd.databricks.v1+cell": {
     "inputWidgets": {},
     "nuid": "945f3752-d3d5-44b3-868a-087846f6afcd",
     "showTitle": false,
     "title": ""
    }
   },
   "outputs": [
    {
     "name": "stderr",
     "output_type": "stream",
     "text": [
      "Setting default log level to \"WARN\".\n",
      "To adjust logging level use sc.setLogLevel(newLevel). For SparkR, use setLogLevel(newLevel).\n"
     ]
    },
    {
     "name": "stdout",
     "output_type": "stream",
     "text": [
      "22/08/07 19:35:01 WARN NativeCodeLoader: Unable to load native-hadoop library for your platform... using builtin-java classes where applicable\n",
      "22/08/07 19:35:03 WARN Utils: Service 'SparkUI' could not bind on port 4040. Attempting port 4041.\n",
      "22/08/07 19:35:03 WARN Utils: Service 'SparkUI' could not bind on port 4041. Attempting port 4042.\n",
      "22/08/07 19:35:03 WARN Utils: Service 'SparkUI' could not bind on port 4042. Attempting port 4043.\n",
      "22/08/07 19:35:03 WARN Utils: Service 'SparkUI' could not bind on port 4043. Attempting port 4044.\n",
      "22/08/07 19:35:03 WARN Utils: Service 'SparkUI' could not bind on port 4044. Attempting port 4045.\n",
      "22/08/07 19:35:03 WARN Utils: Service 'SparkUI' could not bind on port 4045. Attempting port 4046.\n",
      "22/08/07 19:35:03 WARN Utils: Service 'SparkUI' could not bind on port 4046. Attempting port 4047.\n",
      "22/08/07 19:35:03 WARN Utils: Service 'SparkUI' could not bind on port 4047. Attempting port 4048.\n",
      "22/08/07 19:35:03 WARN Utils: Service 'SparkUI' could not bind on port 4048. Attempting port 4049.\n"
     ]
    },
    {
     "name": "stderr",
     "output_type": "stream",
     "text": [
      "                                                                                \r"
     ]
    }
   ],
   "source": [
    "# save file location and type\n",
    "from pyspark.context import SparkContext\n",
    "from pyspark.sql.session import SparkSession\n",
    "from pyspark.sql.functions import isnull, when, count, col,avg\n",
    "from pyspark.ml.feature import StringIndexer\n",
    "from pyspark.ml.feature import VectorAssembler\n",
    "from pyspark.ml.regression import LinearRegression\n",
    "from pyspark.ml.evaluation import RegressionEvaluator\n",
    " \n",
    "sc = SparkContext.getOrCreate()\n",
    "spark = SparkSession(sc) \n",
    "file_location = \"pluskart.csv\"\n",
    "file_type = \"csv\"\n",
    "\n",
    "# CSV options\n",
    "infer_schema = True\n",
    "first_row_is_header = True\n",
    "delimiter = \",\"\n",
    "\n",
    "# the applied options are for CSV files. For other file types, these will be ignored.\n",
    "rawDF = spark.read.format(file_type) \\\n",
    "  .option(\"inferSchema\", infer_schema) \\\n",
    "  .option(\"header\", first_row_is_header) \\\n",
    "  .option(\"sep\", delimiter) \\\n",
    "  .load(file_location)"
   ]
  },
  {
   "cell_type": "code",
   "execution_count": 2,
   "metadata": {
    "application/vnd.databricks.v1+cell": {
     "inputWidgets": {},
     "nuid": "0a8f87df-3dd5-4b0c-acff-baf2cab46e4f",
     "showTitle": false,
     "title": ""
    }
   },
   "outputs": [
    {
     "name": "stdout",
     "output_type": "stream",
     "text": [
      "22/08/07 19:35:34 WARN CSVHeaderChecker: CSV header does not conform to the schema.\n",
      " Header: , productstatus, brand, price, product_category, product, clicktime, uid, pid, categorycode\n",
      " Schema: _c0, productstatus, brand, price, product_category, product, clicktime, uid, pid, categorycode\n",
      "Expected: _c0 but found: \n",
      "CSV file: file:///Users/kaustuvkunal/Downloads/Session%206_PySparkML/Take%20Home%20Exercise/pluskart.csv\n",
      "+---+-------------+--------+------------------+----------------+----------+-------------------+--------+------+------------------+\n",
      "|_c0|productstatus|brand   |price             |product_category|product   |clicktime          |uid     |pid   |categorycode      |\n",
      "+---+-------------+--------+------------------+----------------+----------+-------------------+--------+------+------------------+\n",
      "|0  |view         |pandora |16300.079999999998|auto            |alarm     |2021-05-30 11:37:41|74574724|857172|293287651543950584|\n",
      "|1  |view         |moulinex|5001.84           |null            |null      |2021-05-04 08:20:04|76103843|471475|293287650765008367|\n",
      "|2  |cart         |philips |22237.92          |appliances      |vacuum    |2021-05-04 09:52:54|75325121|528715|293287652283346502|\n",
      "|3  |view         |oneplus |15363.36          |electronics     |smartphone|2021-05-28 14:29:19|75910037|143594|293287650804554665|\n",
      "|4  |view         |vitek   |1869.84           |appliances      |iron      |2021-05-05 08:36:51|73346332|542961|293287652310909073|\n",
      "+---+-------------+--------+------------------+----------------+----------+-------------------+--------+------+------------------+\n",
      "only showing top 5 rows\n",
      "\n"
     ]
    }
   ],
   "source": [
    "# check if the dataset is read as rawDF\n",
    "rawDF.show(5, False)"
   ]
  },
  {
   "cell_type": "code",
   "execution_count": 3,
   "metadata": {
    "application/vnd.databricks.v1+cell": {
     "inputWidgets": {},
     "nuid": "679ff832-8ee5-4d70-beec-7404e418da10",
     "showTitle": false,
     "title": ""
    }
   },
   "outputs": [
    {
     "name": "stderr",
     "output_type": "stream",
     "text": [
      "[Stage 3:====================================================>     (9 + 1) / 10]\r"
     ]
    },
    {
     "name": "stdout",
     "output_type": "stream",
     "text": [
      "Number of Rows:  12734629\n",
      "Number of Columns:  10\n"
     ]
    },
    {
     "name": "stderr",
     "output_type": "stream",
     "text": [
      "\r",
      "                                                                                \r"
     ]
    }
   ],
   "source": [
    "# number of rows and columns in the dataset\n",
    "print(\"Number of Rows: \", rawDF.count())\n",
    "print(\"Number of Columns: \",len(rawDF.columns))"
   ]
  },
  {
   "cell_type": "markdown",
   "metadata": {
    "application/vnd.databricks.v1+cell": {
     "inputWidgets": {},
     "nuid": "ffe155df-00b7-474f-a073-4fd7f9a9efaa",
     "showTitle": false,
     "title": ""
    }
   },
   "source": [
    "There are more than 12 million records in the dataset with 10 columns"
   ]
  },
  {
   "cell_type": "markdown",
   "metadata": {
    "application/vnd.databricks.v1+cell": {
     "inputWidgets": {},
     "nuid": "e6ee167e-0b1b-44ab-a833-3a72d4784d97",
     "showTitle": false,
     "title": ""
    }
   },
   "source": [
    "#### Q. Treat missing values and remove unnecessary columns"
   ]
  },
  {
   "cell_type": "code",
   "execution_count": 4,
   "metadata": {
    "application/vnd.databricks.v1+cell": {
     "inputWidgets": {},
     "nuid": "a7512608-7be8-404b-8e46-9c7b7fbc2944",
     "showTitle": false,
     "title": ""
    }
   },
   "outputs": [
    {
     "name": "stdout",
     "output_type": "stream",
     "text": [
      "22/08/07 19:35:39 WARN CSVHeaderChecker: CSV header does not conform to the schema.\n",
      " Header: , productstatus, brand, price, product_category, product, clicktime, uid, pid, categorycode\n",
      " Schema: _c0, productstatus, brand, price, product_category, product, clicktime, uid, pid, categorycode\n",
      "Expected: _c0 but found: \n",
      "CSV file: file:///Users/kaustuvkunal/Downloads/Session%206_PySparkML/Take%20Home%20Exercise/pluskart.csv\n"
     ]
    },
    {
     "name": "stderr",
     "output_type": "stream",
     "text": [
      "[Stage 6:====================================================>     (9 + 1) / 10]\r"
     ]
    },
    {
     "name": "stdout",
     "output_type": "stream",
     "text": [
      "+---+-------------+-------+-----+----------------+-------+---------+---+---+------------+\n",
      "|_c0|productstatus|  brand|price|product_category|product|clicktime|uid|pid|categorycode|\n",
      "+---+-------------+-------+-----+----------------+-------+---------+---+---+------------+\n",
      "|  0|            0|1835694|    0|         4054470|4054470|        0|  0|  0|           0|\n",
      "+---+-------------+-------+-----+----------------+-------+---------+---+---+------------+\n",
      "\n"
     ]
    },
    {
     "name": "stderr",
     "output_type": "stream",
     "text": [
      "\r",
      "                                                                                \r"
     ]
    }
   ],
   "source": [
    "from pyspark.sql.functions import isnull, when, count, col\n",
    "# count the number of missing values for each column\n",
    "rawDF.select([count(when(isnull(c), c)).alias(c) for c in rawDF.columns]).show()"
   ]
  },
  {
   "cell_type": "code",
   "execution_count": 5,
   "metadata": {
    "application/vnd.databricks.v1+cell": {
     "inputWidgets": {},
     "nuid": "ca6a7be2-9e5e-4d01-a2b8-741c1a34ce8c",
     "showTitle": false,
     "title": ""
    }
   },
   "outputs": [],
   "source": [
    "# Use df_name.na.drop() to drop all the null values from the dataframe\n",
    "rawDF = rawDF.na.drop()"
   ]
  },
  {
   "cell_type": "code",
   "execution_count": 6,
   "metadata": {
    "application/vnd.databricks.v1+cell": {
     "inputWidgets": {},
     "nuid": "5a6f860b-6364-4dad-98a6-4d1c68bd5c20",
     "showTitle": false,
     "title": ""
    }
   },
   "outputs": [
    {
     "name": "stdout",
     "output_type": "stream",
     "text": [
      "22/08/07 19:35:58 WARN CSVHeaderChecker: CSV header does not conform to the schema.\n",
      " Header: , productstatus, brand, price, product_category, product, clicktime, uid, pid, categorycode\n",
      " Schema: _c0, productstatus, brand, price, product_category, product, clicktime, uid, pid, categorycode\n",
      "Expected: _c0 but found: \n",
      "CSV file: file:///Users/kaustuvkunal/Downloads/Session%206_PySparkML/Take%20Home%20Exercise/pluskart.csv\n"
     ]
    },
    {
     "name": "stderr",
     "output_type": "stream",
     "text": [
      "[Stage 9:====================================================>     (9 + 1) / 10]\r"
     ]
    },
    {
     "name": "stdout",
     "output_type": "stream",
     "text": [
      "+---+-------------+-----+-----+----------------+-------+---------+---+---+------------+\n",
      "|_c0|productstatus|brand|price|product_category|product|clicktime|uid|pid|categorycode|\n",
      "+---+-------------+-----+-----+----------------+-------+---------+---+---+------------+\n",
      "|  0|            0|    0|    0|               0|      0|        0|  0|  0|           0|\n",
      "+---+-------------+-----+-----+----------------+-------+---------+---+---+------------+\n",
      "\n"
     ]
    },
    {
     "name": "stderr",
     "output_type": "stream",
     "text": [
      "\r",
      "                                                                                \r"
     ]
    }
   ],
   "source": [
    "rawDF.select([count(when(isnull(c), c)).alias(c) for c in rawDF.columns]).show()"
   ]
  },
  {
   "cell_type": "markdown",
   "metadata": {
    "application/vnd.databricks.v1+cell": {
     "inputWidgets": {},
     "nuid": "0cbacced-9c46-4807-82e4-69c71755f9cf",
     "showTitle": false,
     "title": ""
    }
   },
   "source": [
    "from the above results we can see that the dataframe does not contain any missing value"
   ]
  },
  {
   "cell_type": "code",
   "execution_count": 7,
   "metadata": {
    "application/vnd.databricks.v1+cell": {
     "inputWidgets": {},
     "nuid": "4e20d66d-c1f2-4d51-a3cd-83d923be9df1",
     "showTitle": false,
     "title": ""
    }
   },
   "outputs": [
    {
     "name": "stdout",
     "output_type": "stream",
     "text": [
      "22/08/07 19:36:15 WARN CSVHeaderChecker: CSV header does not conform to the schema.\n",
      " Header: , productstatus, brand, price, product_category, product, clicktime, uid, pid, categorycode\n",
      " Schema: _c0, productstatus, brand, price, product_category, product, clicktime, uid, pid, categorycode\n",
      "Expected: _c0 but found: \n",
      "CSV file: file:///Users/kaustuvkunal/Downloads/Session%206_PySparkML/Take%20Home%20Exercise/pluskart.csv\n"
     ]
    },
    {
     "name": "stderr",
     "output_type": "stream",
     "text": [
      "[Stage 12:===================================================>     (9 + 1) / 10]\r"
     ]
    },
    {
     "name": "stdout",
     "output_type": "stream",
     "text": [
      "Number of Rows:  7967322\n",
      "Number of Columns:  10\n"
     ]
    },
    {
     "name": "stderr",
     "output_type": "stream",
     "text": [
      "\r",
      "                                                                                \r"
     ]
    }
   ],
   "source": [
    "# number of rows and columns in the dataset\n",
    "print(\"Number of Rows: \", rawDF.count())\n",
    "print(\"Number of Columns: \",len(rawDF.columns))"
   ]
  },
  {
   "cell_type": "markdown",
   "metadata": {
    "application/vnd.databricks.v1+cell": {
     "inputWidgets": {},
     "nuid": "2a526ebe-1465-4357-bc2a-2a52fe79fde2",
     "showTitle": false,
     "title": ""
    }
   },
   "source": [
    "After dropping all the missing values we now have almost 8 million records with 10 columns"
   ]
  },
  {
   "cell_type": "markdown",
   "metadata": {
    "application/vnd.databricks.v1+cell": {
     "inputWidgets": {},
     "nuid": "22f69745-bf04-4e7e-9d46-3c17b3589c29",
     "showTitle": false,
     "title": ""
    }
   },
   "source": [
    "We now drop the column '_c0' as it is not required for our analysis"
   ]
  },
  {
   "cell_type": "code",
   "execution_count": 8,
   "metadata": {
    "application/vnd.databricks.v1+cell": {
     "inputWidgets": {},
     "nuid": "8874587a-248b-45cc-9568-bd0fcf79552a",
     "showTitle": false,
     "title": ""
    }
   },
   "outputs": [],
   "source": [
    "# use the drop() transformer to drop the selected column \"_c0\"\n",
    "rawDF = rawDF.drop('_c0')"
   ]
  },
  {
   "cell_type": "code",
   "execution_count": 9,
   "metadata": {
    "application/vnd.databricks.v1+cell": {
     "inputWidgets": {},
     "nuid": "60848597-2766-47aa-afde-7a8b1bcffb48",
     "showTitle": false,
     "title": ""
    }
   },
   "outputs": [
    {
     "name": "stdout",
     "output_type": "stream",
     "text": [
      "22/08/07 19:36:31 WARN CSVHeaderChecker: CSV header does not conform to the schema.\n",
      " Header: , productstatus, brand, price, product_category, product, clicktime, uid, pid, categorycode\n",
      " Schema: _c0, productstatus, brand, price, product_category, product, clicktime, uid, pid, categorycode\n",
      "Expected: _c0 but found: \n",
      "CSV file: file:///Users/kaustuvkunal/Downloads/Session%206_PySparkML/Take%20Home%20Exercise/pluskart.csv\n",
      "+-------------+-------+------------------+----------------+----------+-------------------+--------+------+------------------+\n",
      "|productstatus|brand  |price             |product_category|product   |clicktime          |uid     |pid   |categorycode      |\n",
      "+-------------+-------+------------------+----------------+----------+-------------------+--------+------+------------------+\n",
      "|view         |pandora|16300.079999999998|auto            |alarm     |2021-05-30 11:37:41|74574724|857172|293287651543950584|\n",
      "|cart         |philips|22237.92          |appliances      |vacuum    |2021-05-04 09:52:54|75325121|528715|293287652283346502|\n",
      "|view         |oneplus|15363.36          |electronics     |smartphone|2021-05-28 14:29:19|75910037|143594|293287650804554665|\n",
      "|view         |vitek  |1869.84           |appliances      |iron      |2021-05-05 08:36:51|73346332|542961|293287652310909073|\n",
      "|view         |apple  |67088.88          |electronics     |smartphone|2021-05-11 17:25:56|75456781|143330|293287650804554665|\n",
      "+-------------+-------+------------------+----------------+----------+-------------------+--------+------+------------------+\n",
      "only showing top 5 rows\n",
      "\n"
     ]
    }
   ],
   "source": [
    "# check if the column has been dropped\n",
    "rawDF.show(5, False)"
   ]
  },
  {
   "cell_type": "code",
   "execution_count": 10,
   "metadata": {
    "application/vnd.databricks.v1+cell": {
     "inputWidgets": {},
     "nuid": "194647ad-65cd-4b6e-afa4-9c621bacccab",
     "showTitle": false,
     "title": ""
    }
   },
   "outputs": [],
   "source": [
    "# we will cache the dataset at this stage since the dataset is huge\n",
    "kartDF = rawDF.cache()"
   ]
  },
  {
   "cell_type": "markdown",
   "metadata": {
    "application/vnd.databricks.v1+cell": {
     "inputWidgets": {},
     "nuid": "ab081d65-e0d7-416d-8c28-5fbb40066a66",
     "showTitle": false,
     "title": ""
    }
   },
   "source": [
    "#### Q. Check column data types and change the column data type if required"
   ]
  },
  {
   "cell_type": "code",
   "execution_count": 11,
   "metadata": {
    "application/vnd.databricks.v1+cell": {
     "inputWidgets": {},
     "nuid": "da1192e8-a565-4b49-9f43-508a4f124f25",
     "showTitle": false,
     "title": ""
    }
   },
   "outputs": [
    {
     "name": "stdout",
     "output_type": "stream",
     "text": [
      "root\n",
      " |-- productstatus: string (nullable = true)\n",
      " |-- brand: string (nullable = true)\n",
      " |-- price: double (nullable = true)\n",
      " |-- product_category: string (nullable = true)\n",
      " |-- product: string (nullable = true)\n",
      " |-- clicktime: timestamp (nullable = true)\n",
      " |-- uid: integer (nullable = true)\n",
      " |-- pid: integer (nullable = true)\n",
      " |-- categorycode: long (nullable = true)\n",
      "\n"
     ]
    }
   ],
   "source": [
    "# check the data types of the columns\n",
    "kartDF.printSchema()"
   ]
  },
  {
   "cell_type": "code",
   "execution_count": 12,
   "metadata": {
    "application/vnd.databricks.v1+cell": {
     "inputWidgets": {},
     "nuid": "bc69bc21-3a74-4ed2-8ee7-abc15abe4dc9",
     "showTitle": false,
     "title": ""
    }
   },
   "outputs": [],
   "source": [
    "# change the type of column clicktime to timestamp and drop it \n",
    "from pyspark.sql.functions import to_timestamp\n",
    "kartDF = kartDF.withColumn('clickeventtime', to_timestamp('clicktime', 'yyyy-MM-dd HH:mm:ss')).drop(\"clicktime\")"
   ]
  },
  {
   "cell_type": "code",
   "execution_count": 13,
   "metadata": {
    "application/vnd.databricks.v1+cell": {
     "inputWidgets": {},
     "nuid": "d33c5082-d40e-4dd2-a459-5495594b1d5b",
     "showTitle": false,
     "title": ""
    }
   },
   "outputs": [
    {
     "name": "stdout",
     "output_type": "stream",
     "text": [
      "22/08/07 19:36:31 WARN CSVHeaderChecker: CSV header does not conform to the schema.\n",
      " Header: , productstatus, brand, price, product_category, product, clicktime, uid, pid, categorycode\n",
      " Schema: _c0, productstatus, brand, price, product_category, product, clicktime, uid, pid, categorycode\n",
      "Expected: _c0 but found: \n",
      "CSV file: file:///Users/kaustuvkunal/Downloads/Session%206_PySparkML/Take%20Home%20Exercise/pluskart.csv\n"
     ]
    },
    {
     "name": "stderr",
     "output_type": "stream",
     "text": [
      "\r",
      "[Stage 16:>                                                         (0 + 1) / 1]\r"
     ]
    },
    {
     "name": "stdout",
     "output_type": "stream",
     "text": [
      "+-------------+-------+------------------+----------------+----------+--------+------+------------------+-------------------+\n",
      "|productstatus|  brand|             price|product_category|   product|     uid|   pid|      categorycode|     clickeventtime|\n",
      "+-------------+-------+------------------+----------------+----------+--------+------+------------------+-------------------+\n",
      "|         view|pandora|16300.079999999998|            auto|     alarm|74574724|857172|293287651543950584|2021-05-30 11:37:41|\n",
      "|         cart|philips|          22237.92|      appliances|    vacuum|75325121|528715|293287652283346502|2021-05-04 09:52:54|\n",
      "|         view|oneplus|          15363.36|     electronics|smartphone|75910037|143594|293287650804554665|2021-05-28 14:29:19|\n",
      "|         view|  vitek|           1869.84|      appliances|      iron|73346332|542961|293287652310909073|2021-05-05 08:36:51|\n",
      "|         view|  apple|          67088.88|     electronics|smartphone|75456781|143330|293287650804554665|2021-05-11 17:25:56|\n",
      "+-------------+-------+------------------+----------------+----------+--------+------+------------------+-------------------+\n",
      "only showing top 5 rows\n",
      "\n"
     ]
    },
    {
     "name": "stderr",
     "output_type": "stream",
     "text": [
      "\r",
      "                                                                                \r"
     ]
    }
   ],
   "source": [
    "kartDF.show(5)"
   ]
  },
  {
   "cell_type": "code",
   "execution_count": 14,
   "metadata": {
    "application/vnd.databricks.v1+cell": {
     "inputWidgets": {},
     "nuid": "711e95f9-f901-4688-9c52-9dff015cc4b7",
     "showTitle": false,
     "title": ""
    }
   },
   "outputs": [
    {
     "name": "stdout",
     "output_type": "stream",
     "text": [
      "root\n",
      " |-- productstatus: string (nullable = true)\n",
      " |-- brand: string (nullable = true)\n",
      " |-- price: double (nullable = true)\n",
      " |-- product_category: string (nullable = true)\n",
      " |-- product: string (nullable = true)\n",
      " |-- uid: integer (nullable = true)\n",
      " |-- pid: integer (nullable = true)\n",
      " |-- categorycode: long (nullable = true)\n",
      " |-- clickeventtime: timestamp (nullable = true)\n",
      "\n"
     ]
    }
   ],
   "source": [
    "kartDF.printSchema()"
   ]
  },
  {
   "cell_type": "markdown",
   "metadata": {
    "application/vnd.databricks.v1+cell": {
     "inputWidgets": {},
     "nuid": "08b7e647-67ac-45a9-93bc-cbdbfa606118",
     "showTitle": false,
     "title": ""
    }
   },
   "source": [
    "We can see that the \"clickeventtime\" is of type 'timestamp'"
   ]
  },
  {
   "cell_type": "markdown",
   "metadata": {
    "application/vnd.databricks.v1+cell": {
     "inputWidgets": {},
     "nuid": "d635eb74-74c3-415a-8e13-57fee4d703a2",
     "showTitle": false,
     "title": ""
    }
   },
   "source": [
    "### Exploratory Data Analysis"
   ]
  },
  {
   "cell_type": "markdown",
   "metadata": {
    "application/vnd.databricks.v1+cell": {
     "inputWidgets": {},
     "nuid": "d5448b67-4cb4-40db-a403-2a97a20d730e",
     "showTitle": false,
     "title": ""
    }
   },
   "source": [
    "#### Q. Find the top 10 products that the company sold in the month of May"
   ]
  },
  {
   "cell_type": "code",
   "execution_count": 15,
   "metadata": {
    "application/vnd.databricks.v1+cell": {
     "inputWidgets": {},
     "nuid": "6e93f315-75de-449d-a5bb-a5f5390fd7e8",
     "showTitle": false,
     "title": ""
    }
   },
   "outputs": [
    {
     "name": "stderr",
     "output_type": "stream",
     "text": [
      "[Stage 17:===================================================>     (9 + 1) / 10]\r"
     ]
    },
    {
     "name": "stdout",
     "output_type": "stream",
     "text": [
      "+-------------+-------+\n",
      "|      product|  count|\n",
      "+-------------+-------+\n",
      "|   smartphone|3444673|\n",
      "|       clocks| 339168|\n",
      "|     notebook| 338629|\n",
      "|           tv| 334202|\n",
      "|    headphone| 327452|\n",
      "|       washer| 257943|\n",
      "|       vacuum| 233632|\n",
      "|refrigerators| 213575|\n",
      "|        shoes| 181373|\n",
      "|      desktop| 121287|\n",
      "+-------------+-------+\n",
      "only showing top 10 rows\n",
      "\n"
     ]
    },
    {
     "name": "stderr",
     "output_type": "stream",
     "text": [
      "\r",
      "                                                                                \r"
     ]
    }
   ],
   "source": [
    "# most popular products sold\n",
    "kartDF.select('product').groupBy('product').count().orderBy('count', ascending = False).show(10)"
   ]
  },
  {
   "cell_type": "markdown",
   "metadata": {
    "application/vnd.databricks.v1+cell": {
     "inputWidgets": {},
     "nuid": "fe874751-5089-488d-9376-a1c8d9b78001",
     "showTitle": false,
     "title": ""
    }
   },
   "source": [
    "From the above result, we can observe that Smartphones and other electronic products are ordered a lot from this ecommerce website. Lets confirm this by list the most popular product category."
   ]
  },
  {
   "cell_type": "code",
   "execution_count": 16,
   "metadata": {
    "application/vnd.databricks.v1+cell": {
     "inputWidgets": {},
     "nuid": "fe6a64bf-f88b-4f43-b1bb-7de3e3dac3f7",
     "showTitle": false,
     "title": ""
    }
   },
   "outputs": [
    {
     "name": "stdout",
     "output_type": "stream",
     "text": [
      "+----------------+-------+\n",
      "|product_category|  count|\n",
      "+----------------+-------+\n",
      "|     electronics|4750428|\n",
      "|      appliances|1398255|\n",
      "|       computers| 675376|\n",
      "|         apparel| 340107|\n",
      "|            auto| 230090|\n",
      "|    construction| 164909|\n",
      "|       furniture| 162142|\n",
      "|            kids| 127557|\n",
      "|     accessories|  62480|\n",
      "|           sport|  45975|\n",
      "+----------------+-------+\n",
      "only showing top 10 rows\n",
      "\n"
     ]
    }
   ],
   "source": [
    "# most popular product categories\n",
    "kartDF.select('product_category').groupBy('product_category').count().orderBy('count', ascending = False).show(10)"
   ]
  },
  {
   "cell_type": "markdown",
   "metadata": {
    "application/vnd.databricks.v1+cell": {
     "inputWidgets": {},
     "nuid": "f3bf32f0-ddb9-4fe4-a9a8-c48ba58245c4",
     "showTitle": false,
     "title": ""
    }
   },
   "source": [
    "From the above result, we can confirm that electronic items are most ordered product category"
   ]
  },
  {
   "cell_type": "markdown",
   "metadata": {
    "application/vnd.databricks.v1+cell": {
     "inputWidgets": {},
     "nuid": "a3c020ea-ddd9-4ea8-aa9c-2d4d9f35099d",
     "showTitle": false,
     "title": ""
    }
   },
   "source": [
    "#### Q.List down five least sold products that the company sold in the month of May"
   ]
  },
  {
   "cell_type": "code",
   "execution_count": 17,
   "metadata": {
    "application/vnd.databricks.v1+cell": {
     "inputWidgets": {},
     "nuid": "70da3013-643b-4bd5-a964-1cc00229477d",
     "showTitle": false,
     "title": ""
    }
   },
   "outputs": [
    {
     "name": "stdout",
     "output_type": "stream",
     "text": [
      "+-----------+-----+\n",
      "|    product|count|\n",
      "+-----------+-----+\n",
      "|      bench|   65|\n",
      "|  soldering|   67|\n",
      "|anti_freeze|   89|\n",
      "|       belt|  112|\n",
      "|     shorts|  136|\n",
      "+-----------+-----+\n",
      "only showing top 5 rows\n",
      "\n"
     ]
    },
    {
     "name": "stderr",
     "output_type": "stream",
     "text": [
      "\r",
      "[Stage 23:===================================================>     (9 + 1) / 10]\r",
      "\r",
      "                                                                                \r"
     ]
    }
   ],
   "source": [
    "# least popular products sold\n",
    "kartDF.select('product').groupBy('product').count().orderBy('count', ascending = True).show(5)"
   ]
  },
  {
   "cell_type": "markdown",
   "metadata": {
    "application/vnd.databricks.v1+cell": {
     "inputWidgets": {},
     "nuid": "0f1fc7b6-7e92-4134-bdc7-e258757adfa6",
     "showTitle": false,
     "title": ""
    }
   },
   "source": [
    "#### Q. List down the most popular brand"
   ]
  },
  {
   "cell_type": "code",
   "execution_count": 18,
   "metadata": {
    "application/vnd.databricks.v1+cell": {
     "inputWidgets": {},
     "nuid": "c1210867-adaf-4144-8b12-154c09e0cdda",
     "showTitle": false,
     "title": ""
    }
   },
   "outputs": [
    {
     "name": "stderr",
     "output_type": "stream",
     "text": [
      "[Stage 26:=============================================>           (8 + 2) / 10]\r"
     ]
    },
    {
     "name": "stdout",
     "output_type": "stream",
     "text": [
      "+-------+-------+\n",
      "|  brand|  count|\n",
      "+-------+-------+\n",
      "|samsung|1548147|\n",
      "|  apple|1227764|\n",
      "|oneplus| 827165|\n",
      "| lenovo| 429497|\n",
      "|     lg| 152919|\n",
      "|   oppo| 144716|\n",
      "|   acer| 128539|\n",
      "|  bosch|  99201|\n",
      "|     hp|  88548|\n",
      "|indesit|  86810|\n",
      "+-------+-------+\n",
      "only showing top 10 rows\n",
      "\n"
     ]
    },
    {
     "name": "stderr",
     "output_type": "stream",
     "text": [
      "\r",
      "                                                                                \r"
     ]
    }
   ],
   "source": [
    "# most popular brands\n",
    "kartDF.select('brand').groupBy('brand').count().orderBy('count', ascending = False).show(10)"
   ]
  },
  {
   "cell_type": "markdown",
   "metadata": {
    "application/vnd.databricks.v1+cell": {
     "inputWidgets": {},
     "nuid": "35368a4a-8a54-4370-afee-39c9774ca647",
     "showTitle": false,
     "title": ""
    }
   },
   "source": [
    "We can see that Samsung, Apple, OnePlus are some of the highest ordered smartphones"
   ]
  },
  {
   "cell_type": "markdown",
   "metadata": {
    "application/vnd.databricks.v1+cell": {
     "inputWidgets": {},
     "nuid": "99d2016f-773d-47d5-ab22-e3020e421e87",
     "showTitle": false,
     "title": ""
    }
   },
   "source": [
    "#### Q. What is the average amount spend on smartphones"
   ]
  },
  {
   "cell_type": "code",
   "execution_count": 19,
   "metadata": {
    "application/vnd.databricks.v1+cell": {
     "inputWidgets": {},
     "nuid": "8dd7d744-1b2c-47f3-ab51-8ccbc1f33fa7",
     "showTitle": false,
     "title": ""
    }
   },
   "outputs": [
    {
     "name": "stderr",
     "output_type": "stream",
     "text": [
      "                                                                                \r"
     ]
    },
    {
     "name": "stdout",
     "output_type": "stream",
     "text": [
      "+-------+------------------+\n",
      "|summary|             price|\n",
      "+-------+------------------+\n",
      "|  count|           3444673|\n",
      "|   mean|34000.587350681766|\n",
      "| stddev|29023.131712024166|\n",
      "|    min|            1000.8|\n",
      "|    max|          151952.4|\n",
      "+-------+------------------+\n",
      "\n"
     ]
    }
   ],
   "source": [
    "# average amount spent on smartphones by the customers\n",
    "kartDF.select('price').filter(\"product == 'smartphone'\").describe().show()"
   ]
  },
  {
   "cell_type": "markdown",
   "metadata": {
    "application/vnd.databricks.v1+cell": {
     "inputWidgets": {},
     "nuid": "974e53a3-9f6a-4969-9535-9e9ccfd09f16",
     "showTitle": false,
     "title": ""
    }
   },
   "source": [
    "The average amount spent by a customer on smartphone is nearly 34000 INR"
   ]
  },
  {
   "cell_type": "markdown",
   "metadata": {
    "application/vnd.databricks.v1+cell": {
     "inputWidgets": {},
     "nuid": "a951530f-4fde-40e7-83cd-ea0c30f1233a",
     "showTitle": false,
     "title": ""
    }
   },
   "source": [
    "#### Q. Find the user's website activities on each day of the week and plot bar chart showing the number of user activities on each day of the week"
   ]
  },
  {
   "cell_type": "code",
   "execution_count": 20,
   "metadata": {
    "application/vnd.databricks.v1+cell": {
     "inputWidgets": {},
     "nuid": "4ad7b7fb-b882-480a-8874-0b2aa5e7fe0e",
     "showTitle": false,
     "title": ""
    }
   },
   "outputs": [],
   "source": [
    "neDF = kartDF"
   ]
  },
  {
   "cell_type": "code",
   "execution_count": 21,
   "metadata": {
    "application/vnd.databricks.v1+cell": {
     "inputWidgets": {},
     "nuid": "4c534b53-dae6-4775-9fbd-1e8b81acdc38",
     "showTitle": false,
     "title": ""
    }
   },
   "outputs": [],
   "source": [
    "from pyspark.sql.functions import date_format\n",
    "kartDF=neDF.withColumn('dayofweek', date_format('clickeventtime', 'E'))"
   ]
  },
  {
   "cell_type": "code",
   "execution_count": 22,
   "metadata": {
    "application/vnd.databricks.v1+cell": {
     "inputWidgets": {},
     "nuid": "e1c11a02-4cc2-42dd-80fb-6b3478369791",
     "showTitle": false,
     "title": ""
    }
   },
   "outputs": [
    {
     "name": "stdout",
     "output_type": "stream",
     "text": [
      "+-------------+-------+------------------+----------------+----------+--------+------+------------------+-------------------+---------+\n",
      "|productstatus|  brand|             price|product_category|   product|     uid|   pid|      categorycode|     clickeventtime|dayofweek|\n",
      "+-------------+-------+------------------+----------------+----------+--------+------+------------------+-------------------+---------+\n",
      "|         view|pandora|16300.079999999998|            auto|     alarm|74574724|857172|293287651543950584|2021-05-30 11:37:41|      Sun|\n",
      "|         cart|philips|          22237.92|      appliances|    vacuum|75325121|528715|293287652283346502|2021-05-04 09:52:54|      Tue|\n",
      "|         view|oneplus|          15363.36|     electronics|smartphone|75910037|143594|293287650804554665|2021-05-28 14:29:19|      Fri|\n",
      "|         view|  vitek|           1869.84|      appliances|      iron|73346332|542961|293287652310909073|2021-05-05 08:36:51|      Wed|\n",
      "|         view|  apple|          67088.88|     electronics|smartphone|75456781|143330|293287650804554665|2021-05-11 17:25:56|      Tue|\n",
      "+-------------+-------+------------------+----------------+----------+--------+------+------------------+-------------------+---------+\n",
      "only showing top 5 rows\n",
      "\n"
     ]
    }
   ],
   "source": [
    "kartDF.show(5)"
   ]
  },
  {
   "cell_type": "code",
   "execution_count": 23,
   "metadata": {
    "application/vnd.databricks.v1+cell": {
     "inputWidgets": {},
     "nuid": "81521c05-ca61-4909-a089-5a989b306a12",
     "showTitle": false,
     "title": ""
    }
   },
   "outputs": [
    {
     "name": "stderr",
     "output_type": "stream",
     "text": [
      "                                                                                \r"
     ]
    }
   ],
   "source": [
    "actDF = kartDF.select(\"dayofweek\").groupBy(\"dayofweek\").count().orderBy(\"dayofweek\").toPandas()"
   ]
  },
  {
   "cell_type": "code",
   "execution_count": 24,
   "metadata": {
    "application/vnd.databricks.v1+cell": {
     "inputWidgets": {},
     "nuid": "6b5a56c7-1fe4-46b8-b1a5-3287adba0238",
     "showTitle": false,
     "title": ""
    }
   },
   "outputs": [
    {
     "data": {
      "text/html": [
       "<div>\n",
       "<style scoped>\n",
       "    .dataframe tbody tr th:only-of-type {\n",
       "        vertical-align: middle;\n",
       "    }\n",
       "\n",
       "    .dataframe tbody tr th {\n",
       "        vertical-align: top;\n",
       "    }\n",
       "\n",
       "    .dataframe thead th {\n",
       "        text-align: right;\n",
       "    }\n",
       "</style>\n",
       "<table border=\"1\" class=\"dataframe\">\n",
       "  <thead>\n",
       "    <tr style=\"text-align: right;\">\n",
       "      <th></th>\n",
       "      <th>dayofweek</th>\n",
       "      <th>count</th>\n",
       "    </tr>\n",
       "  </thead>\n",
       "  <tbody>\n",
       "    <tr>\n",
       "      <th>0</th>\n",
       "      <td>Fri</td>\n",
       "      <td>1000972</td>\n",
       "    </tr>\n",
       "    <tr>\n",
       "      <th>1</th>\n",
       "      <td>Mon</td>\n",
       "      <td>1206509</td>\n",
       "    </tr>\n",
       "    <tr>\n",
       "      <th>2</th>\n",
       "      <td>Sat</td>\n",
       "      <td>1262487</td>\n",
       "    </tr>\n",
       "    <tr>\n",
       "      <th>3</th>\n",
       "      <td>Sun</td>\n",
       "      <td>1243631</td>\n",
       "    </tr>\n",
       "    <tr>\n",
       "      <th>4</th>\n",
       "      <td>Thu</td>\n",
       "      <td>1101009</td>\n",
       "    </tr>\n",
       "    <tr>\n",
       "      <th>5</th>\n",
       "      <td>Tue</td>\n",
       "      <td>1095500</td>\n",
       "    </tr>\n",
       "    <tr>\n",
       "      <th>6</th>\n",
       "      <td>Wed</td>\n",
       "      <td>1057214</td>\n",
       "    </tr>\n",
       "  </tbody>\n",
       "</table>\n",
       "</div>"
      ],
      "text/plain": [
       "  dayofweek    count\n",
       "0       Fri  1000972\n",
       "1       Mon  1206509\n",
       "2       Sat  1262487\n",
       "3       Sun  1243631\n",
       "4       Thu  1101009\n",
       "5       Tue  1095500\n",
       "6       Wed  1057214"
      ]
     },
     "execution_count": 24,
     "metadata": {},
     "output_type": "execute_result"
    }
   ],
   "source": [
    "actDF.head(7)"
   ]
  },
  {
   "cell_type": "code",
   "execution_count": 25,
   "metadata": {
    "application/vnd.databricks.v1+cell": {
     "inputWidgets": {},
     "nuid": "c0687058-2264-4617-83b2-e0fd0e366399",
     "showTitle": false,
     "title": ""
    }
   },
   "outputs": [
    {
     "data": {
      "image/png": "[encoded data removed]",
      "text/plain": [
       "<Figure size 432x288 with 1 Axes>"
      ]
     },
     "metadata": {
      "needs_background": "light"
     },
     "output_type": "display_data"
    }
   ],
   "source": [
    "# create the plot\n",
    "import matplotlib.pyplot as plt\n",
    "plt.rcParams[\"figure.figsize\"] = (15,10)\n",
    "actDF.plot(x = 'dayofweek', kind='bar')\n",
    "plt.title('Day-wise Activities')\n",
    "plt.ylabel('Number of Activities')\n",
    "plt.xlabel('Day')\n",
    "plt.show()"
   ]
  },
  {
   "cell_type": "markdown",
   "metadata": {
    "application/vnd.databricks.v1+cell": {
     "inputWidgets": {},
     "nuid": "2594851e-1e41-42f5-b9f0-16b9c0f21872",
     "showTitle": false,
     "title": ""
    }
   },
   "source": [
    "From the above plot, we can observe that there is a peak on Saturday, Sunday and Monday. We can say that most of the activities on website takes place on weekends"
   ]
  },
  {
   "cell_type": "code",
   "execution_count": 26,
   "metadata": {
    "application/vnd.databricks.v1+cell": {
     "inputWidgets": {},
     "nuid": "884b174f-ec4d-4338-999e-ee3c14925982",
     "showTitle": false,
     "title": ""
    }
   },
   "outputs": [
    {
     "name": "stdout",
     "output_type": "stream",
     "text": [
      "+-------------+-------+------------------+----------------+----------+--------+------+------------------+-------------------+---------+\n",
      "|productstatus|  brand|             price|product_category|   product|     uid|   pid|      categorycode|     clickeventtime|dayofweek|\n",
      "+-------------+-------+------------------+----------------+----------+--------+------+------------------+-------------------+---------+\n",
      "|         view|pandora|16300.079999999998|            auto|     alarm|74574724|857172|293287651543950584|2021-05-30 11:37:41|      Sun|\n",
      "|         cart|philips|          22237.92|      appliances|    vacuum|75325121|528715|293287652283346502|2021-05-04 09:52:54|      Tue|\n",
      "|         view|oneplus|          15363.36|     electronics|smartphone|75910037|143594|293287650804554665|2021-05-28 14:29:19|      Fri|\n",
      "|         view|  vitek|           1869.84|      appliances|      iron|73346332|542961|293287652310909073|2021-05-05 08:36:51|      Wed|\n",
      "|         view|  apple|          67088.88|     electronics|smartphone|75456781|143330|293287650804554665|2021-05-11 17:25:56|      Tue|\n",
      "+-------------+-------+------------------+----------------+----------+--------+------+------------------+-------------------+---------+\n",
      "only showing top 5 rows\n",
      "\n"
     ]
    }
   ],
   "source": [
    "kartDF.show(5)"
   ]
  },
  {
   "cell_type": "markdown",
   "metadata": {
    "application/vnd.databricks.v1+cell": {
     "inputWidgets": {},
     "nuid": "33f6a7ae-4a1c-4beb-9af2-226e53aad9bd",
     "showTitle": false,
     "title": ""
    }
   },
   "source": [
    "#### Preparing data for model building"
   ]
  },
  {
   "cell_type": "code",
   "execution_count": 27,
   "metadata": {
    "application/vnd.databricks.v1+cell": {
     "inputWidgets": {},
     "nuid": "8d336f10-ac6e-4566-8656-c4ea953df49b",
     "showTitle": false,
     "title": ""
    }
   },
   "outputs": [],
   "source": [
    "import pyspark.sql.functions as f\n",
    "df = kartDF.withColumn('label', f.when(kartDF['productstatus']=='purchase',1).otherwise(0))"
   ]
  },
  {
   "cell_type": "code",
   "execution_count": 28,
   "metadata": {
    "application/vnd.databricks.v1+cell": {
     "inputWidgets": {},
     "nuid": "5cb2def1-1151-426e-8109-dc0bb0ad456d",
     "showTitle": false,
     "title": ""
    }
   },
   "outputs": [
    {
     "name": "stdout",
     "output_type": "stream",
     "text": [
      "+-----+-------+\n",
      "|label|  count|\n",
      "+-----+-------+\n",
      "|    1| 165012|\n",
      "|    0|7802310|\n",
      "+-----+-------+\n",
      "\n"
     ]
    }
   ],
   "source": [
    "# Printing the count of each label\n",
    "df.groupBy('label').count().show()"
   ]
  },
  {
   "cell_type": "markdown",
   "metadata": {
    "application/vnd.databricks.v1+cell": {
     "inputWidgets": {},
     "nuid": "5f0442f0-2fb7-4f42-b5c8-1c24cee8bfbe",
     "showTitle": false,
     "title": ""
    }
   },
   "source": [
    "#### Q. Divide the data in train and test set"
   ]
  },
  {
   "cell_type": "code",
   "execution_count": 29,
   "metadata": {
    "application/vnd.databricks.v1+cell": {
     "inputWidgets": {},
     "nuid": "8958e905-f50a-4053-ad53-5f768d65a373",
     "showTitle": false,
     "title": ""
    }
   },
   "outputs": [
    {
     "name": "stderr",
     "output_type": "stream",
     "text": [
      "                                                                                \r"
     ]
    },
    {
     "name": "stdout",
     "output_type": "stream",
     "text": [
      "Observations in training set =  5577362\n"
     ]
    },
    {
     "name": "stderr",
     "output_type": "stream",
     "text": [
      "[Stage 48:===================================================>     (9 + 1) / 10]\r"
     ]
    },
    {
     "name": "stdout",
     "output_type": "stream",
     "text": [
      "Observations in testing set =  2389960\n"
     ]
    },
    {
     "name": "stderr",
     "output_type": "stream",
     "text": [
      "\r",
      "                                                                                \r"
     ]
    }
   ],
   "source": [
    "# We spilt the data into 70-30 set\n",
    "# Training Set - 70% obesevations\n",
    "# Testing Set - 30% observations\n",
    "trainDF, testDF =  df.randomSplit([0.7,0.3], seed = 2020)\n",
    "\n",
    "# print the count of observations in each set\n",
    "print(\"Observations in training set = \", trainDF.count())\n",
    "print(\"Observations in testing set = \", testDF.count())"
   ]
  },
  {
   "cell_type": "markdown",
   "metadata": {
    "application/vnd.databricks.v1+cell": {
     "inputWidgets": {},
     "nuid": "28e376e0-d19c-4925-ab1b-893639cf847f",
     "showTitle": false,
     "title": ""
    }
   },
   "source": [
    "#### Q. Apply necessary transformation required to preapre data for machine learning"
   ]
  },
  {
   "cell_type": "code",
   "execution_count": 30,
   "metadata": {
    "application/vnd.databricks.v1+cell": {
     "inputWidgets": {},
     "nuid": "edc95157-1bb9-4339-a890-bfa0e35e989a",
     "showTitle": false,
     "title": ""
    }
   },
   "outputs": [],
   "source": [
    "# Categorising the attributes into its type\n",
    "cat_features=['brand','product_category', 'product', 'dayofweek']\n",
    "cont_features=['price']"
   ]
  },
  {
   "cell_type": "code",
   "execution_count": 31,
   "metadata": {
    "application/vnd.databricks.v1+cell": {
     "inputWidgets": {},
     "nuid": "ad22a14b-8298-4c3c-98b2-808506795a0e",
     "showTitle": false,
     "title": ""
    }
   },
   "outputs": [],
   "source": [
    "# importing all the required libraries for feature transformation\n",
    "from pyspark.ml.feature import OneHotEncoder,StringIndexer,VectorAssembler\n",
    "\n",
    "# defining an empty list to hold transforming stages\n",
    "# to prepare pipelines\n",
    "stages=[]\n",
    "\n",
    "\n",
    "# Encoding categorical features\n",
    "for catcol in cat_features:\n",
    "    indexer=StringIndexer(inputCol=catcol,outputCol=catcol+'_index').setHandleInvalid(\"keep\")\n",
    "    encoder=OneHotEncoder(inputCols=[indexer.getOutputCol()],outputCols=[catcol+\"_enc\"])\n",
    "    stages+=[indexer,encoder]"
   ]
  },
  {
   "cell_type": "code",
   "execution_count": 32,
   "metadata": {
    "application/vnd.databricks.v1+cell": {
     "inputWidgets": {},
     "nuid": "5b3f7e74-de24-44c9-bc13-c52f4110921d",
     "showTitle": false,
     "title": ""
    }
   },
   "outputs": [],
   "source": [
    "assemblerInputs=[col+\"_enc\" for col in cat_features]+cont_features\n",
    "assembler=VectorAssembler(inputCols=assemblerInputs,outputCol=\"features\")\n",
    "stages+=[assembler]"
   ]
  },
  {
   "cell_type": "code",
   "execution_count": 33,
   "metadata": {
    "application/vnd.databricks.v1+cell": {
     "inputWidgets": {},
     "nuid": "e50d28b7-0790-4ef1-84e3-c4a797aec069",
     "showTitle": false,
     "title": ""
    }
   },
   "outputs": [],
   "source": [
    "# Scaling the features vector\n",
    "from pyspark.ml.feature import MinMaxScaler\n",
    "scaler = MinMaxScaler().setInputCol(\"features\").setOutputCol(\"scaled_features\")\n",
    "stages+=[scaler]"
   ]
  },
  {
   "cell_type": "markdown",
   "metadata": {
    "application/vnd.databricks.v1+cell": {
     "inputWidgets": {},
     "nuid": "98da9f56-8002-4724-930b-39ddbe2c3a11",
     "showTitle": false,
     "title": ""
    }
   },
   "source": [
    "### Building pipeline model\n",
    "We will build multiple models to predict if the product is purchased or just viewed. We start with Logistic Regression model"
   ]
  },
  {
   "cell_type": "markdown",
   "metadata": {
    "application/vnd.databricks.v1+cell": {
     "inputWidgets": {},
     "nuid": "5ba0dcf2-b586-478f-9be9-f5500f0815ed",
     "showTitle": false,
     "title": ""
    }
   },
   "source": [
    "#### Q. Build a logistic regression pipeline model"
   ]
  },
  {
   "cell_type": "code",
   "execution_count": 34,
   "metadata": {
    "application/vnd.databricks.v1+cell": {
     "inputWidgets": {},
     "nuid": "acc268aa-0485-4560-8470-c4c8ac670c7f",
     "showTitle": false,
     "title": ""
    }
   },
   "outputs": [],
   "source": [
    "# Importing the library for Logistic regression\n",
    "from pyspark.ml.classification import LogisticRegression\n",
    "\n",
    "# create the logistic model and store this estimator in pipeline stages \n",
    "lr = LogisticRegression(featuresCol='scaled_features', labelCol='label')\n",
    "\n",
    "stages += [lr] "
   ]
  },
  {
   "cell_type": "code",
   "execution_count": null,
   "metadata": {
    "application/vnd.databricks.v1+cell": {
     "inputWidgets": {},
     "nuid": "d2148dd3-8229-4b96-ad15-a9f1039af28b",
     "showTitle": false,
     "title": ""
    }
   },
   "outputs": [
    {
     "name": "stderr",
     "output_type": "stream",
     "text": [
      "\r",
      "[Stage 51:>                                                        (0 + 8) / 10]\r"
     ]
    }
   ],
   "source": [
    "# Building a spark ml pipeline to transform the data\n",
    "from pyspark.ml import Pipeline\n",
    "pipeline = Pipeline(stages=stages)\n",
    "\n",
    "# Fit the pipeline to training documents.\n",
    "model = pipeline.fit(trainDF)"
   ]
  },
  {
   "cell_type": "code",
   "execution_count": null,
   "metadata": {
    "application/vnd.databricks.v1+cell": {
     "inputWidgets": {},
     "nuid": "61fb66da-429a-4b34-b3ae-5e5aeaebb9d1",
     "showTitle": false,
     "title": ""
    }
   },
   "outputs": [],
   "source": [
    "# Make predictions on test documents and print columns of interest.\n",
    "predictionDF = model.transform(testDF)"
   ]
  },
  {
   "cell_type": "code",
   "execution_count": null,
   "metadata": {
    "application/vnd.databricks.v1+cell": {
     "inputWidgets": {},
     "nuid": "e1a04d5e-2cd1-4b1b-8a2c-3bf26c45d6b3",
     "showTitle": false,
     "title": ""
    }
   },
   "outputs": [],
   "source": [
    "predictionDF.select(\"rawPrediction\", \"probability\", \"prediction\", \"label\").show(10,False)"
   ]
  },
  {
   "cell_type": "markdown",
   "metadata": {
    "application/vnd.databricks.v1+cell": {
     "inputWidgets": {},
     "nuid": "ac059f82-88fe-4f77-a6c4-e57ced2980ca",
     "showTitle": false,
     "title": ""
    }
   },
   "source": [
    "#### Q. Evaluate the logistic regression pipeline model"
   ]
  },
  {
   "cell_type": "code",
   "execution_count": null,
   "metadata": {
    "application/vnd.databricks.v1+cell": {
     "inputWidgets": {},
     "nuid": "3f6d15db-3df9-4184-a43c-77c681452eaa",
     "showTitle": false,
     "title": ""
    }
   },
   "outputs": [],
   "source": [
    "# import BinaryClassificationEvaluator from the pyspark.ml.evaluation package\n",
    "from pyspark.ml.evaluation import BinaryClassificationEvaluator\n",
    "\n",
    "# Build the BinaryClassificationEvaluator object 'evaluator'\n",
    "evaluator = BinaryClassificationEvaluator()\n",
    "\n",
    "# Calculate the accracy and print its value\n",
    "accuracy = predictionDF.filter(predictionDF.label == predictionDF.prediction).count()/float(predictionDF.count())\n",
    "print(\"Accuracy = \", accuracy)\n",
    "\n",
    "# evaluate(predictiondataframe) gets area under the ROC curve\n",
    "print('Area under the ROC curve = ', evaluator.evaluate(predictionDF))"
   ]
  },
  {
   "cell_type": "markdown",
   "metadata": {
    "application/vnd.databricks.v1+cell": {
     "inputWidgets": {},
     "nuid": "6f5e1516-6c36-4280-ba20-042fbe63a103",
     "showTitle": false,
     "title": ""
    }
   },
   "source": [
    "Or you can also try...."
   ]
  },
  {
   "cell_type": "code",
   "execution_count": null,
   "metadata": {
    "application/vnd.databricks.v1+cell": {
     "inputWidgets": {},
     "nuid": "50f0d6f0-608f-47c2-9aa8-472076325467",
     "showTitle": false,
     "title": ""
    }
   },
   "outputs": [],
   "source": [
    "# import MulticlassClassificationEvaluator from the pyspark.ml.evaluation package\n",
    "from pyspark.ml.evaluation import MulticlassClassificationEvaluator\n",
    "\n",
    "# Build the MulticlassClassificationEvaluator object 'evaluator'\n",
    "multievaluator = MulticlassClassificationEvaluator(labelCol=\"label\", predictionCol=\"prediction\")\n",
    "\n",
    "# 1. Accuracy\n",
    "print(\"Accuracy: \", multievaluator.evaluate(predictionDF, {evaluator.metricName: \"accuracy\"})) \n",
    "# 2. Area under the ROC curve\n",
    "print('Area under the ROC curve = ', evaluator.evaluate(predictionDF))\n",
    "# 3. Precision (Positive Predictive Value)\n",
    "print(\"Precision = \", multievaluator.evaluate(predictionDF, {evaluator.metricName: \"weightedPrecision\"}))\n",
    "# 4. Recall (True Positive Rate)\n",
    "print(\"Recall = \", multievaluator.evaluate(predictionDF, {evaluator.metricName: \"weightedRecall\"}))\n",
    "# 5. F1 Score (F-measure)\n",
    "print(\"F1 Score = \", multievaluator.evaluate(predictionDF, {evaluator.metricName: \"f1\"}))"
   ]
  },
  {
   "cell_type": "markdown",
   "metadata": {
    "application/vnd.databricks.v1+cell": {
     "inputWidgets": {},
     "nuid": "2a3dc052-113b-4f71-9518-bd0d92ab8c0a",
     "showTitle": false,
     "title": ""
    }
   },
   "source": [
    "#### Q. Build a decision tree pipeline model"
   ]
  },
  {
   "cell_type": "code",
   "execution_count": null,
   "metadata": {
    "application/vnd.databricks.v1+cell": {
     "inputWidgets": {},
     "nuid": "8691568e-4b0e-45f6-bced-6008b8ba29e8",
     "showTitle": false,
     "title": ""
    }
   },
   "outputs": [],
   "source": [
    "# Importing the library for Decision Tree\n",
    "from pyspark.ml.classification import DecisionTreeClassifier\n",
    "\n",
    "# create the logistic model and store this estimator in pipeline stages \n",
    "dt = DecisionTreeClassifier(featuresCol=\"features\", labelCol=\"label\")"
   ]
  },
  {
   "cell_type": "code",
   "execution_count": null,
   "metadata": {
    "application/vnd.databricks.v1+cell": {
     "inputWidgets": {},
     "nuid": "5eafa102-6a08-446b-9703-6f346f2b4482",
     "showTitle": false,
     "title": ""
    }
   },
   "outputs": [],
   "source": [
    "dtstages = []\n",
    "for catcol in cat_features:\n",
    "    indexer=StringIndexer(inputCol=catcol,outputCol=catcol+'_index').setHandleInvalid(\"keep\")\n",
    "    encoder=OneHotEncoder(inputCols=[indexer.getOutputCol()],outputCols=[catcol+\"_enc\"])\n",
    "    dtstages+=[indexer,encoder]"
   ]
  },
  {
   "cell_type": "code",
   "execution_count": null,
   "metadata": {
    "application/vnd.databricks.v1+cell": {
     "inputWidgets": {},
     "nuid": "684a5f11-105a-4d4d-9573-5e88f546fc16",
     "showTitle": false,
     "title": ""
    }
   },
   "outputs": [],
   "source": [
    "dtstages+=[assembler, dt]"
   ]
  },
  {
   "cell_type": "code",
   "execution_count": null,
   "metadata": {
    "application/vnd.databricks.v1+cell": {
     "inputWidgets": {},
     "nuid": "129a5154-cd87-49ac-aa81-dc1a440e9a31",
     "showTitle": false,
     "title": ""
    }
   },
   "outputs": [],
   "source": [
    "dtstages"
   ]
  },
  {
   "cell_type": "code",
   "execution_count": null,
   "metadata": {
    "application/vnd.databricks.v1+cell": {
     "inputWidgets": {},
     "nuid": "56dcf558-cda1-4421-86f0-f59f626fcad4",
     "showTitle": false,
     "title": ""
    }
   },
   "outputs": [],
   "source": [
    "dtpipeline = Pipeline(stages=dtstages)\n",
    "\n",
    "# Fit the pipeline to training documents.\n",
    "dtmodel = dtpipeline.fit(trainDF)"
   ]
  },
  {
   "cell_type": "code",
   "execution_count": null,
   "metadata": {
    "application/vnd.databricks.v1+cell": {
     "inputWidgets": {},
     "nuid": "de673117-4191-448a-ba00-e5f8a60285b2",
     "showTitle": false,
     "title": ""
    }
   },
   "outputs": [],
   "source": [
    "# Make predictions on test documents and print columns of interest.\n",
    "dtpredictionDF = dtmodel.transform(testDF)"
   ]
  },
  {
   "cell_type": "markdown",
   "metadata": {
    "application/vnd.databricks.v1+cell": {
     "inputWidgets": {},
     "nuid": "c75dc96b-592d-4430-a4c4-9a058f25280a",
     "showTitle": false,
     "title": ""
    }
   },
   "source": [
    "#### Q. Evaluate the decision tree pipeline model"
   ]
  },
  {
   "cell_type": "code",
   "execution_count": null,
   "metadata": {
    "application/vnd.databricks.v1+cell": {
     "inputWidgets": {},
     "nuid": "c134097a-701a-41fb-8ef6-3581a838314b",
     "showTitle": false,
     "title": ""
    }
   },
   "outputs": [],
   "source": [
    "# 1. Accuracy\n",
    "print(\"Accuracy: \", multievaluator.evaluate(dtpredictionDF, {evaluator.metricName: \"accuracy\"})) \n",
    "# 2. Area under the ROC curve\n",
    "print('Area under the ROC curve = ', evaluator.evaluate(dtpredictionDF))\n",
    "# 3. Precision (Positive Predictive Value)\n",
    "print(\"Precision = \", multievaluator.evaluate(dtpredictionDF, {evaluator.metricName: \"weightedPrecision\"}))\n",
    "# 4. Recall (True Positive Rate)\n",
    "print(\"Recall = \", multievaluator.evaluate(dtpredictionDF, {evaluator.metricName: \"weightedRecall\"}))\n",
    "# 5. F1 Score (F-measure)\n",
    "print(\"F1 Score = \", multievaluator.evaluate(dtpredictionDF, {evaluator.metricName: \"f1\"}))"
   ]
  },
  {
   "cell_type": "markdown",
   "metadata": {
    "application/vnd.databricks.v1+cell": {
     "inputWidgets": {},
     "nuid": "f0fe4dc0-fcfa-4a8c-a2ed-ad687e31f7c4",
     "showTitle": false,
     "title": ""
    }
   },
   "source": [
    "Conclusion:\n",
    "From the above output we can conclude that the logistic regression model has a better performance in prediciting whether the customer will purchase the product or not"
   ]
  },
  {
   "cell_type": "code",
   "execution_count": null,
   "metadata": {},
   "outputs": [],
   "source": []
  }
 ],
 "metadata": {
  "application/vnd.databricks.v1+notebook": {
   "dashboards": [],
   "language": "python",
   "notebookMetadata": {
    "pythonIndentUnit": 2
   },
   "notebookName": "Take Home Exercise",
   "notebookOrigID": 2821539365580583,
   "widgets": {}
  },
  "kernelspec": {
   "display_name": "Python 3 (ipykernel)",
   "language": "python",
   "name": "python3"
  },
  "language_info": {
   "codemirror_mode": {
    "name": "ipython",
    "version": 3
   },
   "file_extension": ".py",
   "mimetype": "text/x-python",
   "name": "python",
   "nbconvert_exporter": "python",
   "pygments_lexer": "ipython3",
   "version": "3.8.9"
  }
 },
 "nbformat": 4,
 "nbformat_minor": 1
}
