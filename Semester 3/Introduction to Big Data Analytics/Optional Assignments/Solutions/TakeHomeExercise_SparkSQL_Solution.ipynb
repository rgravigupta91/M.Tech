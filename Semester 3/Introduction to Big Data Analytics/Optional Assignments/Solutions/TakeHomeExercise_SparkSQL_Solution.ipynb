{
 "cells": [
  {
   "cell_type": "markdown",
   "metadata": {
    "application/vnd.databricks.v1+cell": {
     "inputWidgets": {},
     "nuid": "48b4297a-230a-4d69-8862-353c90acc85e",
     "showTitle": false,
     "title": ""
    },
    "id": "5K9n-8c8UyZP"
   },
   "source": [
    "## Take-Home Exercise"
   ]
  },
  {
   "cell_type": "markdown",
   "metadata": {
    "application/vnd.databricks.v1+cell": {
     "inputWidgets": {},
     "nuid": "10bcf524-01cf-4235-8929-292f7ac6b4b8",
     "showTitle": false,
     "title": ""
    },
    "id": "QjQh6SJFUyZZ"
   },
   "source": [
    "The given dataset is about a well-known community-based online platform for listing and renting local homes connects hosts and travelers and facilitates the process of renting without owning any rooms itself. Moreover it cultivates a sharing-economy by allowing property owners to rent out private flats. The company does not own any of the real estate listings, nor does it host events; it acts as a broker, receiving commissions from each booking.\n",
    "This data file includes all needed information to find out more about hosts, geographical availability, necessary metrics to make predictions and draw conclusions."
   ]
  },
  {
   "cell_type": "markdown",
   "metadata": {
    "id": "QesCzeMhXoYE"
   },
   "source": [
    "### Data Definition\n",
    "<br>**id** : Host identification number\n",
    "<br>**name** :\tHost property name\n",
    "<br>**host_id**\t: Host owner id\n",
    "<br>**host_name** : Host owner name\n",
    "<br>**neighbourhood_group** : Borough name\n",
    "<br>**neighbourhood** : Area name within a borough\n",
    "<br>**latitude** : Geographic coordinate\n",
    "<br>**longitude** :\tGeographic coordinate\n",
    "<br>**room_type** : Accomodation room type\n",
    "<br>**price** : Accomodation price\n",
    "<br>**minimum_nights** :the minimum number of nights that a guest can book a short-term vacation rental\n",
    "<br>**number_of_reviews** :\tNumber of reviews available\n",
    "<br>**last_review**\t: Last Posted review date\n",
    "<br>**reviews_per_month** : Reviews per month\n",
    "<br>**calculated_host_listings_count** : Number of times a particular host has used online platform in that dataset(if calculated_host_listings_count is 6 then u can see that host_name has exactly 6 rows in that dataset) \n",
    "<br>**availability_365** : Indicator of the total number of days the listing is available for during the year"
   ]
  },
  {
   "cell_type": "code",
   "execution_count": null,
   "metadata": {},
   "outputs": [],
   "source": []
  },
  {
   "cell_type": "markdown",
   "metadata": {
    "id": "ir2U4XlJUyZc"
   },
   "source": [
    "Read the data and solve the following questions to get meaningful insights"
   ]
  },
  {
   "cell_type": "code",
   "execution_count": 1,
   "metadata": {},
   "outputs": [
    {
     "name": "stderr",
     "output_type": "stream",
     "text": [
      "Setting default log level to \"WARN\".\n",
      "To adjust logging level use sc.setLogLevel(newLevel). For SparkR, use setLogLevel(newLevel).\n"
     ]
    },
    {
     "name": "stdout",
     "output_type": "stream",
     "text": [
      "22/08/07 16:10:46 WARN NativeCodeLoader: Unable to load native-hadoop library for your platform... using builtin-java classes where applicable\n",
      "22/08/07 16:10:46 WARN Utils: Service 'SparkUI' could not bind on port 4040. Attempting port 4041.\n",
      "22/08/07 16:10:46 WARN Utils: Service 'SparkUI' could not bind on port 4041. Attempting port 4042.\n",
      "22/08/07 16:10:46 WARN Utils: Service 'SparkUI' could not bind on port 4042. Attempting port 4043.\n"
     ]
    }
   ],
   "source": [
    "import numpy as np # linear algebra\n",
    "import matplotlib.pyplot as plt \n",
    "import seaborn as sns\n",
    "import pandas as pd\n",
    "\n",
    "from pyspark.context import SparkContext\n",
    "from pyspark.sql.session import SparkSession\n",
    " \n",
    " \n",
    "sc = SparkContext.getOrCreate()\n",
    "spark = SparkSession(sc)"
   ]
  },
  {
   "cell_type": "code",
   "execution_count": 2,
   "metadata": {
    "application/vnd.databricks.v1+cell": {
     "inputWidgets": {},
     "nuid": "2209a6bc-7b56-439e-b3e8-6e68b39baa0d",
     "showTitle": false,
     "title": ""
    },
    "id": "M1mBH975UyZf",
    "outputId": "380a40a7-650a-4c84-acaa-d16060928159"
   },
   "outputs": [
    {
     "name": "stdout",
     "output_type": "stream",
     "text": [
      "22/08/07 16:10:50 WARN CSVHeaderChecker: CSV header does not conform to the schema.\n",
      " Header: , id, name, host_id, host_name, neighbourhood_group, neighbourhood, latitude, longitude, room_type, price, minimum_nights, number_of_reviews, last_review, reviews_per_month, calculated_host_listings_count, availability_365\n",
      " Schema: _c0, id, name, host_id, host_name, neighbourhood_group, neighbourhood, latitude, longitude, room_type, price, minimum_nights, number_of_reviews, last_review, reviews_per_month, calculated_host_listings_count, availability_365\n",
      "Expected: _c0 but found: \n",
      "CSV file: file:///Users/kaustuvkunal/Downloads/Session%205_Spark%20_%20SparkSQL/Take-Home%20Exercise/NYhost.csv\n",
      "+---+----+--------------------+-------+----------------+-------------------+------------------+--------+---------+---------------+-----+--------------+-----------------+-----------+-----------------+------------------------------+----------------+\n",
      "|_c0|  id|                name|host_id|       host_name|neighbourhood_group|     neighbourhood|latitude|longitude|      room_type|price|minimum_nights|number_of_reviews|last_review|reviews_per_month|calculated_host_listings_count|availability_365|\n",
      "+---+----+--------------------+-------+----------------+-------------------+------------------+--------+---------+---------------+-----+--------------+-----------------+-----------+-----------------+------------------------------+----------------+\n",
      "|  0|2539|Clean & quiet apt...|   2787|            John|           Brooklyn|        Kensington|40.64749|-73.97237|   Private room|  149|             1|              9.0| 19-10-2018|             0.21|                             6|           365.0|\n",
      "|  1|2595|Skylit Midtown Ca...|   2845|        Jennifer|          Manhattan|           Midtown|40.75362|-73.98377|Entire home/apt|  225|             1|             45.0| 21-05-2019|             0.38|                             2|           355.0|\n",
      "|  2|3831|Cozy Entire Floor...|   4869|     LisaRoxanne|           Brooklyn|      Clinton Hill|40.68514|-73.95976|Entire home/apt|   89|             1|            270.0| 05-07-2019|             4.64|                             1|           194.0|\n",
      "|  3|5022|Entire Apt: Spaci...|   7192|           Laura|          Manhattan|       East Harlem|40.79851|-73.94399|Entire home/apt|   80|            10|              9.0| 19-11-2018|              0.1|                             1|             0.0|\n",
      "|  4|5099|Large Cozy 1 BR A...|   7322|           Chris|          Manhattan|       Murray Hill|40.74767|  -73.975|Entire home/apt|  200|             3|             74.0| 22-06-2019|             0.59|                             1|           129.0|\n",
      "|  5|5121|     BlissArtsSpace!|   7356|           Garon|           Brooklyn|Bedford-Stuyvesant|40.68688|-73.95596|   Private room|   60|            45|             49.0| 05-10-2017|              0.4|                             1|             0.0|\n",
      "|  6|5178|Large Furnished R...|   8967|        Shunichi|          Manhattan|    Hell's Kitchen|40.76489|-73.98493|   Private room|   79|             2|            430.0| 24-06-2019|             3.47|                             1|           220.0|\n",
      "|  7|5203|Cozy Clean Guest ...|   7490|       MaryEllen|          Manhattan|   Upper West Side|40.80178|-73.96723|   Private room|   79|             2|            118.0| 21-07-2017|             0.99|                             1|             0.0|\n",
      "|  8|5238|Cute & Cozy Lower...|   7549|             Ben|          Manhattan|         Chinatown|40.71344|-73.99037|Entire home/apt|  150|             1|            160.0| 09-06-2019|             1.33|                             4|           188.0|\n",
      "|  9|5295|Beautiful 1br on ...|   7702|            Lena|          Manhattan|   Upper West Side|40.80316|-73.96545|Entire home/apt|  135|             5|             53.0| 22-06-2019|             0.43|                             1|             6.0|\n",
      "| 10|5441|Central Manhattan...|   7989|            Kate|          Manhattan|    Hell's Kitchen|40.76076|-73.98867|   Private room|   85|             2|            188.0| 23-06-2019|              1.5|                             1|            39.0|\n",
      "| 11|5803|Lovely Room 1, Ga...|   9744|          Laurie|           Brooklyn|       South Slope|40.66829|-73.98779|   Private room|   89|             4|            167.0| 24-06-2019|             1.34|                             3|           314.0|\n",
      "| 12|6021|Wonderful Guest B...|  11528|         Claudio|          Manhattan|   Upper West Side|40.79826|-73.96113|   Private room|   85|             2|            113.0| 05-07-2019|             0.91|                             1|           333.0|\n",
      "| 13|6090|West Village Nest...|  11975|           Alina|          Manhattan|      West Village| 40.7353|-74.00525|Entire home/apt|  120|            90|             27.0| 31-10-2018|             0.22|                             1|             0.0|\n",
      "| 14|6848|Only 2 stops to M...|  15991|   Allen & Irina|           Brooklyn|      Williamsburg|40.70837|-73.95352|Entire home/apt|  140|             2|            148.0| 29-06-2019|              1.2|                             1|            46.0|\n",
      "| 15|7097|Perfect for Your ...|  17571|            Jane|           Brooklyn|       Fort Greene|40.69169|-73.97185|Entire home/apt|  215|             2|            198.0| 28-06-2019|             1.72|                             1|           321.0|\n",
      "| 16|7322|     Chelsea Perfect|  18946|            Doti|          Manhattan|           Chelsea|40.74192|-73.99501|   Private room|  140|             1|            260.0| 01-07-2019|             2.12|                             1|            12.0|\n",
      "| 17|7726|Hip Historic Brow...|  20950|Adam And Charity|           Brooklyn|     Crown Heights|40.67592|-73.94694|Entire home/apt|   99|             3|             53.0| 22-06-2019|             4.44|                             1|            21.0|\n",
      "| 18|7801|Sweet and Spaciou...|  21207|           Chaya|           Brooklyn|      Williamsburg|40.71842|-73.95718|Entire home/apt|  299|             3|              9.0| 28-12-2011|             0.07|                             1|             0.0|\n",
      "| 19|8024|CBG CtyBGd HelpsH...|  22486|           Lisel|           Brooklyn|        Park Slope|40.68069|-73.97706|   Private room|  130|             2|            130.0| 01-07-2019|             1.09|                             6|           347.0|\n",
      "+---+----+--------------------+-------+----------------+-------------------+------------------+--------+---------+---------------+-----+--------------+-----------------+-----------+-----------------+------------------------------+----------------+\n",
      "only showing top 20 rows\n",
      "\n"
     ]
    }
   ],
   "source": [
    "# File location and type\n",
    "file_location = \"NYhost.csv\"\n",
    "file_type = \"csv\"\n",
    "\n",
    "# CSV options\n",
    "infer_schema = \"true\"\n",
    "first_row_is_header = \"true\"\n",
    "delimiter = \",\"\n",
    "\n",
    "# The applied options are for CSV files. For other file types, these will be ignored.\n",
    "rawDF = spark.read.format(file_type) \\\n",
    "  .option(\"inferSchema\", infer_schema) \\\n",
    "  .option(\"header\", first_row_is_header) \\\n",
    "  .option(\"sep\", delimiter) \\\n",
    "  .load(file_location)\n",
    "\n",
    "rawDF.show()"
   ]
  },
  {
   "cell_type": "code",
   "execution_count": 3,
   "metadata": {
    "application/vnd.databricks.v1+cell": {
     "inputWidgets": {},
     "nuid": "311fb0f6-c966-42c4-85d9-59561048277c",
     "showTitle": false,
     "title": ""
    },
    "id": "j0KZHUGoUyZl",
    "outputId": "7f257c81-f6dd-4f66-9a9a-7700f01da1a6"
   },
   "outputs": [
    {
     "name": "stdout",
     "output_type": "stream",
     "text": [
      "22/08/07 16:10:50 WARN CSVHeaderChecker: CSV header does not conform to the schema.\n",
      " Header: , id, name, host_id, host_name, neighbourhood_group, neighbourhood, latitude, longitude, room_type, price, minimum_nights, number_of_reviews, last_review, reviews_per_month, calculated_host_listings_count, availability_365\n",
      " Schema: _c0, id, name, host_id, host_name, neighbourhood_group, neighbourhood, latitude, longitude, room_type, price, minimum_nights, number_of_reviews, last_review, reviews_per_month, calculated_host_listings_count, availability_365\n",
      "Expected: _c0 but found: \n",
      "CSV file: file:///Users/kaustuvkunal/Downloads/Session%205_Spark%20_%20SparkSQL/Take-Home%20Exercise/NYhost.csv\n"
     ]
    },
    {
     "data": {
      "text/html": [
       "<div>\n",
       "<style scoped>\n",
       "    .dataframe tbody tr th:only-of-type {\n",
       "        vertical-align: middle;\n",
       "    }\n",
       "\n",
       "    .dataframe tbody tr th {\n",
       "        vertical-align: top;\n",
       "    }\n",
       "\n",
       "    .dataframe thead th {\n",
       "        text-align: right;\n",
       "    }\n",
       "</style>\n",
       "<table border=\"1\" class=\"dataframe\">\n",
       "  <thead>\n",
       "    <tr style=\"text-align: right;\">\n",
       "      <th></th>\n",
       "      <th>_c0</th>\n",
       "      <th>id</th>\n",
       "      <th>name</th>\n",
       "      <th>host_id</th>\n",
       "      <th>host_name</th>\n",
       "      <th>neighbourhood_group</th>\n",
       "      <th>neighbourhood</th>\n",
       "      <th>latitude</th>\n",
       "      <th>longitude</th>\n",
       "      <th>room_type</th>\n",
       "      <th>price</th>\n",
       "      <th>minimum_nights</th>\n",
       "      <th>number_of_reviews</th>\n",
       "      <th>last_review</th>\n",
       "      <th>reviews_per_month</th>\n",
       "      <th>calculated_host_listings_count</th>\n",
       "      <th>availability_365</th>\n",
       "    </tr>\n",
       "  </thead>\n",
       "  <tbody>\n",
       "    <tr>\n",
       "      <th>0</th>\n",
       "      <td>0</td>\n",
       "      <td>2539</td>\n",
       "      <td>Clean &amp; quiet apt home by the park</td>\n",
       "      <td>2787</td>\n",
       "      <td>John</td>\n",
       "      <td>Brooklyn</td>\n",
       "      <td>Kensington</td>\n",
       "      <td>40.64749</td>\n",
       "      <td>-73.97237</td>\n",
       "      <td>Private room</td>\n",
       "      <td>149</td>\n",
       "      <td>1</td>\n",
       "      <td>9.0</td>\n",
       "      <td>19-10-2018</td>\n",
       "      <td>0.21</td>\n",
       "      <td>6</td>\n",
       "      <td>365.0</td>\n",
       "    </tr>\n",
       "    <tr>\n",
       "      <th>1</th>\n",
       "      <td>1</td>\n",
       "      <td>2595</td>\n",
       "      <td>Skylit Midtown Castle</td>\n",
       "      <td>2845</td>\n",
       "      <td>Jennifer</td>\n",
       "      <td>Manhattan</td>\n",
       "      <td>Midtown</td>\n",
       "      <td>40.75362</td>\n",
       "      <td>-73.98377</td>\n",
       "      <td>Entire home/apt</td>\n",
       "      <td>225</td>\n",
       "      <td>1</td>\n",
       "      <td>45.0</td>\n",
       "      <td>21-05-2019</td>\n",
       "      <td>0.38</td>\n",
       "      <td>2</td>\n",
       "      <td>355.0</td>\n",
       "    </tr>\n",
       "    <tr>\n",
       "      <th>2</th>\n",
       "      <td>2</td>\n",
       "      <td>3831</td>\n",
       "      <td>Cozy Entire Floor of Brownstone</td>\n",
       "      <td>4869</td>\n",
       "      <td>LisaRoxanne</td>\n",
       "      <td>Brooklyn</td>\n",
       "      <td>Clinton Hill</td>\n",
       "      <td>40.68514</td>\n",
       "      <td>-73.95976</td>\n",
       "      <td>Entire home/apt</td>\n",
       "      <td>89</td>\n",
       "      <td>1</td>\n",
       "      <td>270.0</td>\n",
       "      <td>05-07-2019</td>\n",
       "      <td>4.64</td>\n",
       "      <td>1</td>\n",
       "      <td>194.0</td>\n",
       "    </tr>\n",
       "    <tr>\n",
       "      <th>3</th>\n",
       "      <td>3</td>\n",
       "      <td>5022</td>\n",
       "      <td>Entire Apt: Spacious Studio/Loft by central park</td>\n",
       "      <td>7192</td>\n",
       "      <td>Laura</td>\n",
       "      <td>Manhattan</td>\n",
       "      <td>East Harlem</td>\n",
       "      <td>40.79851</td>\n",
       "      <td>-73.94399</td>\n",
       "      <td>Entire home/apt</td>\n",
       "      <td>80</td>\n",
       "      <td>10</td>\n",
       "      <td>9.0</td>\n",
       "      <td>19-11-2018</td>\n",
       "      <td>0.1</td>\n",
       "      <td>1</td>\n",
       "      <td>0.0</td>\n",
       "    </tr>\n",
       "    <tr>\n",
       "      <th>4</th>\n",
       "      <td>4</td>\n",
       "      <td>5099</td>\n",
       "      <td>Large Cozy 1 BR Apartment In Midtown East</td>\n",
       "      <td>7322</td>\n",
       "      <td>Chris</td>\n",
       "      <td>Manhattan</td>\n",
       "      <td>Murray Hill</td>\n",
       "      <td>40.74767</td>\n",
       "      <td>-73.975</td>\n",
       "      <td>Entire home/apt</td>\n",
       "      <td>200</td>\n",
       "      <td>3</td>\n",
       "      <td>74.0</td>\n",
       "      <td>22-06-2019</td>\n",
       "      <td>0.59</td>\n",
       "      <td>1</td>\n",
       "      <td>129.0</td>\n",
       "    </tr>\n",
       "    <tr>\n",
       "      <th>5</th>\n",
       "      <td>5</td>\n",
       "      <td>5121</td>\n",
       "      <td>BlissArtsSpace!</td>\n",
       "      <td>7356</td>\n",
       "      <td>Garon</td>\n",
       "      <td>Brooklyn</td>\n",
       "      <td>Bedford-Stuyvesant</td>\n",
       "      <td>40.68688</td>\n",
       "      <td>-73.95596</td>\n",
       "      <td>Private room</td>\n",
       "      <td>60</td>\n",
       "      <td>45</td>\n",
       "      <td>49.0</td>\n",
       "      <td>05-10-2017</td>\n",
       "      <td>0.4</td>\n",
       "      <td>1</td>\n",
       "      <td>0.0</td>\n",
       "    </tr>\n",
       "    <tr>\n",
       "      <th>6</th>\n",
       "      <td>6</td>\n",
       "      <td>5178</td>\n",
       "      <td>Large Furnished Room Near B'way</td>\n",
       "      <td>8967</td>\n",
       "      <td>Shunichi</td>\n",
       "      <td>Manhattan</td>\n",
       "      <td>Hell's Kitchen</td>\n",
       "      <td>40.76489</td>\n",
       "      <td>-73.98493</td>\n",
       "      <td>Private room</td>\n",
       "      <td>79</td>\n",
       "      <td>2</td>\n",
       "      <td>430.0</td>\n",
       "      <td>24-06-2019</td>\n",
       "      <td>3.47</td>\n",
       "      <td>1</td>\n",
       "      <td>220.0</td>\n",
       "    </tr>\n",
       "    <tr>\n",
       "      <th>7</th>\n",
       "      <td>7</td>\n",
       "      <td>5203</td>\n",
       "      <td>Cozy Clean Guest Room - Family Apt</td>\n",
       "      <td>7490</td>\n",
       "      <td>MaryEllen</td>\n",
       "      <td>Manhattan</td>\n",
       "      <td>Upper West Side</td>\n",
       "      <td>40.80178</td>\n",
       "      <td>-73.96723</td>\n",
       "      <td>Private room</td>\n",
       "      <td>79</td>\n",
       "      <td>2</td>\n",
       "      <td>118.0</td>\n",
       "      <td>21-07-2017</td>\n",
       "      <td>0.99</td>\n",
       "      <td>1</td>\n",
       "      <td>0.0</td>\n",
       "    </tr>\n",
       "    <tr>\n",
       "      <th>8</th>\n",
       "      <td>8</td>\n",
       "      <td>5238</td>\n",
       "      <td>Cute &amp; Cozy Lower East Side 1 bdrm</td>\n",
       "      <td>7549</td>\n",
       "      <td>Ben</td>\n",
       "      <td>Manhattan</td>\n",
       "      <td>Chinatown</td>\n",
       "      <td>40.71344</td>\n",
       "      <td>-73.99037</td>\n",
       "      <td>Entire home/apt</td>\n",
       "      <td>150</td>\n",
       "      <td>1</td>\n",
       "      <td>160.0</td>\n",
       "      <td>09-06-2019</td>\n",
       "      <td>1.33</td>\n",
       "      <td>4</td>\n",
       "      <td>188.0</td>\n",
       "    </tr>\n",
       "    <tr>\n",
       "      <th>9</th>\n",
       "      <td>9</td>\n",
       "      <td>5295</td>\n",
       "      <td>Beautiful 1br on Upper West Side</td>\n",
       "      <td>7702</td>\n",
       "      <td>Lena</td>\n",
       "      <td>Manhattan</td>\n",
       "      <td>Upper West Side</td>\n",
       "      <td>40.80316</td>\n",
       "      <td>-73.96545</td>\n",
       "      <td>Entire home/apt</td>\n",
       "      <td>135</td>\n",
       "      <td>5</td>\n",
       "      <td>53.0</td>\n",
       "      <td>22-06-2019</td>\n",
       "      <td>0.43</td>\n",
       "      <td>1</td>\n",
       "      <td>6.0</td>\n",
       "    </tr>\n",
       "  </tbody>\n",
       "</table>\n",
       "</div>"
      ],
      "text/plain": [
       "   _c0    id                                              name host_id  \\\n",
       "0    0  2539                Clean & quiet apt home by the park    2787   \n",
       "1    1  2595                             Skylit Midtown Castle    2845   \n",
       "2    2  3831                   Cozy Entire Floor of Brownstone    4869   \n",
       "3    3  5022  Entire Apt: Spacious Studio/Loft by central park    7192   \n",
       "4    4  5099         Large Cozy 1 BR Apartment In Midtown East    7322   \n",
       "5    5  5121                                   BlissArtsSpace!    7356   \n",
       "6    6  5178                  Large Furnished Room Near B'way     8967   \n",
       "7    7  5203                Cozy Clean Guest Room - Family Apt    7490   \n",
       "8    8  5238                Cute & Cozy Lower East Side 1 bdrm    7549   \n",
       "9    9  5295                  Beautiful 1br on Upper West Side    7702   \n",
       "\n",
       "     host_name neighbourhood_group       neighbourhood  latitude  longitude  \\\n",
       "0         John            Brooklyn          Kensington  40.64749  -73.97237   \n",
       "1     Jennifer           Manhattan             Midtown  40.75362  -73.98377   \n",
       "2  LisaRoxanne            Brooklyn        Clinton Hill  40.68514  -73.95976   \n",
       "3        Laura           Manhattan         East Harlem  40.79851  -73.94399   \n",
       "4        Chris           Manhattan         Murray Hill  40.74767    -73.975   \n",
       "5        Garon            Brooklyn  Bedford-Stuyvesant  40.68688  -73.95596   \n",
       "6     Shunichi           Manhattan      Hell's Kitchen  40.76489  -73.98493   \n",
       "7    MaryEllen           Manhattan     Upper West Side  40.80178  -73.96723   \n",
       "8          Ben           Manhattan           Chinatown  40.71344  -73.99037   \n",
       "9         Lena           Manhattan     Upper West Side  40.80316  -73.96545   \n",
       "\n",
       "         room_type price minimum_nights  number_of_reviews last_review  \\\n",
       "0     Private room   149              1                9.0  19-10-2018   \n",
       "1  Entire home/apt   225              1               45.0  21-05-2019   \n",
       "2  Entire home/apt    89              1              270.0  05-07-2019   \n",
       "3  Entire home/apt    80             10                9.0  19-11-2018   \n",
       "4  Entire home/apt   200              3               74.0  22-06-2019   \n",
       "5     Private room    60             45               49.0  05-10-2017   \n",
       "6     Private room    79              2              430.0  24-06-2019   \n",
       "7     Private room    79              2              118.0  21-07-2017   \n",
       "8  Entire home/apt   150              1              160.0  09-06-2019   \n",
       "9  Entire home/apt   135              5               53.0  22-06-2019   \n",
       "\n",
       "  reviews_per_month calculated_host_listings_count  availability_365  \n",
       "0              0.21                              6             365.0  \n",
       "1              0.38                              2             355.0  \n",
       "2              4.64                              1             194.0  \n",
       "3               0.1                              1               0.0  \n",
       "4              0.59                              1             129.0  \n",
       "5               0.4                              1               0.0  \n",
       "6              3.47                              1             220.0  \n",
       "7              0.99                              1               0.0  \n",
       "8              1.33                              4             188.0  \n",
       "9              0.43                              1               6.0  "
      ]
     },
     "execution_count": 3,
     "metadata": {},
     "output_type": "execute_result"
    }
   ],
   "source": [
    "rawDF.toPandas().head(10)"
   ]
  },
  {
   "cell_type": "code",
   "execution_count": 4,
   "metadata": {
    "application/vnd.databricks.v1+cell": {
     "inputWidgets": {},
     "nuid": "3ad55bac-7158-4dd8-be92-ad0ae61210f2",
     "showTitle": false,
     "title": ""
    },
    "id": "pnwXlqOGUyZm",
    "outputId": "3ccaed61-3383-4e6c-acfd-6061ff390663"
   },
   "outputs": [
    {
     "name": "stdout",
     "output_type": "stream",
     "text": [
      "root\n",
      " |-- _c0: integer (nullable = true)\n",
      " |-- id: string (nullable = true)\n",
      " |-- name: string (nullable = true)\n",
      " |-- host_id: string (nullable = true)\n",
      " |-- host_name: string (nullable = true)\n",
      " |-- neighbourhood_group: string (nullable = true)\n",
      " |-- neighbourhood: string (nullable = true)\n",
      " |-- latitude: string (nullable = true)\n",
      " |-- longitude: string (nullable = true)\n",
      " |-- room_type: string (nullable = true)\n",
      " |-- price: string (nullable = true)\n",
      " |-- minimum_nights: string (nullable = true)\n",
      " |-- number_of_reviews: double (nullable = true)\n",
      " |-- last_review: string (nullable = true)\n",
      " |-- reviews_per_month: string (nullable = true)\n",
      " |-- calculated_host_listings_count: string (nullable = true)\n",
      " |-- availability_365: double (nullable = true)\n",
      "\n"
     ]
    }
   ],
   "source": [
    "rawDF.printSchema()"
   ]
  },
  {
   "cell_type": "markdown",
   "metadata": {
    "application/vnd.databricks.v1+cell": {
     "inputWidgets": {},
     "nuid": "856f8cd7-e1f6-44d6-bacc-11049f911a6b",
     "showTitle": false,
     "title": ""
    },
    "id": "zLJzhjZeUyZn"
   },
   "source": [
    "### Q. Get the number of rows and columns"
   ]
  },
  {
   "cell_type": "code",
   "execution_count": 5,
   "metadata": {
    "application/vnd.databricks.v1+cell": {
     "inputWidgets": {},
     "nuid": "72012e80-8ce8-4e29-9e6e-d19c3e7ee002",
     "showTitle": false,
     "title": ""
    },
    "id": "8inx1sSdUyZo",
    "outputId": "aaa54d56-000a-4ec0-e4f4-581c5fcf4b45"
   },
   "outputs": [
    {
     "name": "stdout",
     "output_type": "stream",
     "text": [
      "Number of Rows:  38685\n",
      "Number of Columns 17\n"
     ]
    }
   ],
   "source": [
    "# number of rows and columns in the dataset\n",
    "print(\"Number of Rows: \", rawDF.count())\n",
    "print(\"Number of Columns\", len(rawDF.columns))"
   ]
  },
  {
   "cell_type": "markdown",
   "metadata": {
    "application/vnd.databricks.v1+cell": {
     "inputWidgets": {},
     "nuid": "f9cc4b8c-363f-4314-8f33-3b71812ed3ba",
     "showTitle": false,
     "title": ""
    },
    "id": "VF3HsBAjUyZq"
   },
   "source": [
    "### Q. Find the top 10 host properties (hotel names) in New York City"
   ]
  },
  {
   "cell_type": "code",
   "execution_count": 6,
   "metadata": {
    "application/vnd.databricks.v1+cell": {
     "inputWidgets": {},
     "nuid": "9e1bff11-61b6-42cf-bd19-f61135fe6668",
     "showTitle": false,
     "title": ""
    },
    "id": "Rv0EUdjwUyZs",
    "outputId": "628bc105-524d-46f1-e5df-44c4a15b53b7"
   },
   "outputs": [
    {
     "name": "stdout",
     "output_type": "stream",
     "text": [
      "+--------------------------------+-----+\n",
      "|name                            |count|\n",
      "+--------------------------------+-----+\n",
      "|Home away from home             |18   |\n",
      "|Loft Suite @ The Box House Hotel|11   |\n",
      "|#NAME?                          |10   |\n",
      "|Private Room                    |10   |\n",
      "|Brooklyn Apartment              |9    |\n",
      "|Private room                    |8    |\n",
      "|Cozy Brooklyn Apartment         |8    |\n",
      "|New york Multi-unit building    |8    |\n",
      "|Hillside Hotel                  |7    |\n",
      "|Harlem Gem                      |7    |\n",
      "+--------------------------------+-----+\n",
      "only showing top 10 rows\n",
      "\n"
     ]
    }
   ],
   "source": [
    "# apply groupby function on the 'name' column to get the count of each category present in the column\n",
    "# arrange the count in descending order\n",
    "rawDF.groupBy('name').count().sort(\"Count\",ascending=False).show(10,False)"
   ]
  },
  {
   "cell_type": "markdown",
   "metadata": {
    "application/vnd.databricks.v1+cell": {
     "inputWidgets": {},
     "nuid": "ae2d6b3e-0b98-4896-95a5-1dfbedf2a6b5",
     "showTitle": false,
     "title": ""
    },
    "id": "kFimOs_mUyZt"
   },
   "source": [
    "\"Home away from home\" is the highest listed host"
   ]
  },
  {
   "cell_type": "markdown",
   "metadata": {
    "application/vnd.databricks.v1+cell": {
     "inputWidgets": {},
     "nuid": "cb331989-67c6-4f5d-91db-7a43e285e392",
     "showTitle": false,
     "title": ""
    },
    "id": "IMRZwgxfUyZu"
   },
   "source": [
    "### Q. What can you tell about the hosts and their properties (hotels)"
   ]
  },
  {
   "cell_type": "code",
   "execution_count": 7,
   "metadata": {
    "application/vnd.databricks.v1+cell": {
     "inputWidgets": {},
     "nuid": "36c31978-79ba-4c33-ba56-a5e9fd68bf39",
     "showTitle": false,
     "title": ""
    },
    "id": "l8BdUt_vUyZv",
    "outputId": "215b19a7-1ab8-4280-f0f2-07ea175a5b66"
   },
   "outputs": [
    {
     "name": "stdout",
     "output_type": "stream",
     "text": [
      "+---------+-----+\n",
      "|host_id  |count|\n",
      "+---------+-----+\n",
      "|219517861|207  |\n",
      "|61391963 |79   |\n",
      "|16098958 |61   |\n",
      "|137358866|51   |\n",
      "|7503643  |49   |\n",
      "+---------+-----+\n",
      "only showing top 5 rows\n",
      "\n"
     ]
    }
   ],
   "source": [
    "# apply groupby function on the 'host_id' column to get the count of each category present in the column\n",
    "# arrange the count in descending order\n",
    "rawDF.groupBy('host_id').count().sort(\"Count\",ascending=False).show(5,False)"
   ]
  },
  {
   "cell_type": "markdown",
   "metadata": {
    "application/vnd.databricks.v1+cell": {
     "inputWidgets": {},
     "nuid": "8d10ed90-c6c3-443e-b2c2-e2e4db2a6fac",
     "showTitle": false,
     "title": ""
    },
    "id": "j3eEqtrMUyZw"
   },
   "source": [
    "From the above results, we can observe that the count of hosts is greater than count of host names, Therefore, we can conclude that a host can have multiple properties in a neighbourhood group with same host id's but with different property name"
   ]
  },
  {
   "cell_type": "markdown",
   "metadata": {
    "application/vnd.databricks.v1+cell": {
     "inputWidgets": {},
     "nuid": "86421a21-7866-4910-8172-d94727639211",
     "showTitle": false,
     "title": ""
    },
    "id": "JApEraqqUyZw"
   },
   "source": [
    "### Q. Get the total number of hosts and number of properties (hotels) listed"
   ]
  },
  {
   "cell_type": "code",
   "execution_count": 8,
   "metadata": {
    "application/vnd.databricks.v1+cell": {
     "inputWidgets": {},
     "nuid": "c747ea7d-5c60-401b-93ce-9335432b3bee",
     "showTitle": false,
     "title": ""
    },
    "id": "jbXBbqmPUyZx",
    "outputId": "e8ad3979-2368-4d8c-b992-410b0960f185"
   },
   "outputs": [
    {
     "name": "stdout",
     "output_type": "stream",
     "text": [
      "Number of hosts in New York  city:  9849\n",
      "Number of properties listed:  38082\n"
     ]
    }
   ],
   "source": [
    "# import countDistinct from the pyspark.sql library\n",
    "from pyspark.sql.functions import countDistinct\n",
    "\n",
    "# apply countDistinct on host_name and name respectively\n",
    "# collect() returns Array of Row type\n",
    "# collect[0][0] returns the value of the first row & first column.\n",
    "print(\"Number of hosts in New York  city: \", rawDF.select(countDistinct(\"host_name\")).collect()[0][0])\n",
    "print(\"Number of properties listed: \", rawDF.select(countDistinct(\"name\")).collect()[0][0])"
   ]
  },
  {
   "cell_type": "markdown",
   "metadata": {
    "application/vnd.databricks.v1+cell": {
     "inputWidgets": {},
     "nuid": "3d7a6c4d-fa09-4175-91c8-a69e639c18f3",
     "showTitle": false,
     "title": ""
    },
    "id": "IdBE8ZlzUyZx"
   },
   "source": [
    "### Q. Which neighbourhood group has the highest number of properties (hotels) listed. Plot a bar chart to display the results"
   ]
  },
  {
   "cell_type": "code",
   "execution_count": 9,
   "metadata": {
    "application/vnd.databricks.v1+cell": {
     "inputWidgets": {},
     "nuid": "3e604117-74a9-43fe-a2c0-4045793b1c76",
     "showTitle": false,
     "title": ""
    },
    "id": "7yaG85tVUyZy",
    "outputId": "9098269a-df28-4493-e239-904688c58313"
   },
   "outputs": [
    {
     "data": {
      "text/plain": [
       "<BarContainer object of 5 artists>"
      ]
     },
     "execution_count": 9,
     "metadata": {},
     "output_type": "execute_result"
    },
    {
     "data": {
      "image/png": "[encoded data removed]",
      "text/plain": [
       "<Figure size 1800x720 with 1 Axes>"
      ]
     },
     "metadata": {
      "needs_background": "light"
     },
     "output_type": "display_data"
    }
   ],
   "source": [
    "# import matplotlib\n",
    "import matplotlib.pyplot as plt\n",
    "fig = plt.figure(figsize =(25, 10))\n",
    "\n",
    "# apply groupby function on the 'neighbourhood_group' column to get the count of each category present in the column\n",
    "# arrange the count in descending order\n",
    "neighDF = rawDF.groupBy('neighbourhood_group').count().sort(\"Count\",ascending=False).toPandas().head(5)\n",
    "plt.bar(neighDF[\"neighbourhood_group\"], neighDF[\"count\"])"
   ]
  },
  {
   "cell_type": "markdown",
   "metadata": {
    "application/vnd.databricks.v1+cell": {
     "inputWidgets": {},
     "nuid": "8226b9a0-e022-4e83-af05-1a80f87a8a70",
     "showTitle": false,
     "title": ""
    },
    "id": "ZqOBkE9kUyZz"
   },
   "source": [
    "Manhattan has the highest number of properties (hotels), followed by Brooklyn"
   ]
  },
  {
   "cell_type": "markdown",
   "metadata": {
    "application/vnd.databricks.v1+cell": {
     "inputWidgets": {},
     "nuid": "53d83b7f-b584-436a-867c-56d7752286d2",
     "showTitle": false,
     "title": ""
    },
    "id": "HO839VnEUyZz"
   },
   "source": [
    "### Q. Get the top 10 neighbourhoods in New York city"
   ]
  },
  {
   "cell_type": "code",
   "execution_count": 10,
   "metadata": {
    "application/vnd.databricks.v1+cell": {
     "inputWidgets": {},
     "nuid": "ebf73984-b119-4ea0-aacd-460d131ba713",
     "showTitle": false,
     "title": ""
    },
    "id": "3AEtnJFFUyZz",
    "outputId": "fa603955-c390-4898-d215-d7bb54e28c27"
   },
   "outputs": [
    {
     "data": {
      "text/plain": [
       "<BarContainer object of 10 artists>"
      ]
     },
     "execution_count": 10,
     "metadata": {},
     "output_type": "execute_result"
    },
    {
     "data": {
      "image/png": "[encoded data removed]",
      "text/plain": [
       "<Figure size 1440x576 with 1 Axes>"
      ]
     },
     "metadata": {
      "needs_background": "light"
     },
     "output_type": "display_data"
    }
   ],
   "source": [
    "fig = plt.figure(figsize =(20, 8))\n",
    "\n",
    "# apply groupby function on the 'neighbourhood' column to get the count of each category present in the column\n",
    "# arrange the count in descending order\n",
    "neighDF = rawDF.groupBy('neighbourhood').count().sort(\"Count\",ascending=False).toPandas().head(10)\n",
    "plt.bar(neighDF[\"neighbourhood\"], neighDF[\"count\"])"
   ]
  },
  {
   "cell_type": "markdown",
   "metadata": {
    "id": "D_vQZHzKYiU-"
   },
   "source": [
    "The top 10 neighbourhoods in New York city are as follows:\n",
    "1. Williamsburg\n",
    "2. Bedford-Stuyvesant\n",
    "3. Harlem\n",
    "4. Bushwick\n",
    "5. Hell's Kitchen\n",
    "6. East Village\n",
    "7. Upper West Side\n",
    "8. Upper East Side\n",
    "9. Crown Heights\n",
    "10. Midtown"
   ]
  },
  {
   "cell_type": "markdown",
   "metadata": {
    "application/vnd.databricks.v1+cell": {
     "inputWidgets": {},
     "nuid": "74da5f14-51e0-4986-aff5-cd26fba76aa2",
     "showTitle": false,
     "title": ""
    },
    "id": "pBO-tSYlUyZ0"
   },
   "source": [
    "### Q. Number of nights stayed in shared rooms"
   ]
  },
  {
   "cell_type": "code",
   "execution_count": 11,
   "metadata": {
    "application/vnd.databricks.v1+cell": {
     "inputWidgets": {},
     "nuid": "27a6136a-b20f-46e0-a5f8-68be5ca10515",
     "showTitle": false,
     "title": ""
    },
    "id": "o5zSEtlMUyZ0",
    "outputId": "9f9c7f3c-6551-48b5-e960-8a09387c97a7"
   },
   "outputs": [
    {
     "name": "stderr",
     "output_type": "stream",
     "text": [
      "/Users/kaustuvkunal/Library/Python/3.8/lib/python/site-packages/seaborn/categorical.py:1296: UserWarning: 79.3% of the points cannot be placed; you may want to decrease the size of the markers or use stripplot.\n",
      "  warnings.warn(msg, UserWarning)\n",
      "/Users/kaustuvkunal/Library/Python/3.8/lib/python/site-packages/seaborn/categorical.py:1296: UserWarning: 33.3% of the points cannot be placed; you may want to decrease the size of the markers or use stripplot.\n",
      "  warnings.warn(msg, UserWarning)\n",
      "/Users/kaustuvkunal/Library/Python/3.8/lib/python/site-packages/seaborn/categorical.py:1296: UserWarning: 30.6% of the points cannot be placed; you may want to decrease the size of the markers or use stripplot.\n",
      "  warnings.warn(msg, UserWarning)\n",
      "/Users/kaustuvkunal/Library/Python/3.8/lib/python/site-packages/seaborn/categorical.py:1296: UserWarning: 50.6% of the points cannot be placed; you may want to decrease the size of the markers or use stripplot.\n",
      "  warnings.warn(msg, UserWarning)\n",
      "/Users/kaustuvkunal/Library/Python/3.8/lib/python/site-packages/seaborn/categorical.py:1296: UserWarning: 10.0% of the points cannot be placed; you may want to decrease the size of the markers or use stripplot.\n",
      "  warnings.warn(msg, UserWarning)\n",
      "/Users/kaustuvkunal/Library/Python/3.8/lib/python/site-packages/seaborn/categorical.py:1296: UserWarning: 8.3% of the points cannot be placed; you may want to decrease the size of the markers or use stripplot.\n",
      "  warnings.warn(msg, UserWarning)\n"
     ]
    },
    {
     "data": {
      "image/png": "[encoded data removed]",
      "text/plain": [
       "<Figure size 432x288 with 1 Axes>"
      ]
     },
     "metadata": {
      "needs_background": "light"
     },
     "output_type": "display_data"
    }
   ],
   "source": [
    "import seaborn as sns\n",
    "roomDF = rawDF.filter(rawDF.room_type == \"Shared room\").select(\"minimum_nights\").toPandas()\n",
    "#df.filter(df.state == \"OH\")\n",
    "\n",
    "ax = sns.swarmplot(y= roomDF.index,x= roomDF.minimum_nights)\n",
    "plt.xlabel(\"minimum_nights\")\n",
    "plt.show()"
   ]
  },
  {
   "cell_type": "markdown",
   "metadata": {
    "application/vnd.databricks.v1+cell": {
     "inputWidgets": {},
     "nuid": "b5145a04-c2ff-4d25-9d12-8329ba2fe0e5",
     "showTitle": false,
     "title": ""
    },
    "id": "TM1rK39UUyZ1"
   },
   "source": [
    "From the above results you can observe that people on low budget ( mostly travellers and backpackers) like to stay in the shared rooms. They live on an average of 1-2 days as they keep on moving from one place to another."
   ]
  },
  {
   "cell_type": "markdown",
   "metadata": {
    "application/vnd.databricks.v1+cell": {
     "inputWidgets": {},
     "nuid": "4e11bff2-f782-487f-ae36-d5bc6a93feb6",
     "showTitle": false,
     "title": ""
    },
    "id": "XaIoZPRKUyZ1"
   },
   "source": [
    "### Q. How many neighbourhood groups are present in the New York city?"
   ]
  },
  {
   "cell_type": "code",
   "execution_count": 12,
   "metadata": {
    "application/vnd.databricks.v1+cell": {
     "inputWidgets": {},
     "nuid": "010b2932-1fc1-4bfa-9b4e-e08794a69cca",
     "showTitle": false,
     "title": ""
    },
    "id": "s4bTVa82UyZ2",
    "outputId": "d8d81c8b-3362-4e3a-c62c-8558223778ed"
   },
   "outputs": [
    {
     "name": "stdout",
     "output_type": "stream",
     "text": [
      "+-----------------------------------+\n",
      "|count(DISTINCT neighbourhood_group)|\n",
      "+-----------------------------------+\n",
      "|                                 20|\n",
      "+-----------------------------------+\n",
      "\n"
     ]
    }
   ],
   "source": [
    "rawDF.select(countDistinct(\"neighbourhood_group\")).show()"
   ]
  },
  {
   "cell_type": "markdown",
   "metadata": {
    "application/vnd.databricks.v1+cell": {
     "inputWidgets": {},
     "nuid": "02e9ddc8-937d-45aa-aa0e-8a37f7b5b020",
     "showTitle": false,
     "title": ""
    },
    "id": "dqXoFW8lUyZ2"
   },
   "source": [
    "There are 20 neighbourhood groups present in the New York City"
   ]
  }
 ],
 "metadata": {
  "application/vnd.databricks.v1+notebook": {
   "dashboards": [],
   "language": "python",
   "notebookMetadata": {
    "pythonIndentUnit": 2
   },
   "notebookName": "Take-Home Exercise(Spark SQL)",
   "notebookOrigID": 562916291342294,
   "widgets": {}
  },
  "colab": {
   "collapsed_sections": [],
   "name": "Take-Home Exercise(Spark SQL) (v2).ipynb",
   "provenance": []
  },
  "kernelspec": {
   "display_name": "Python 3 (ipykernel)",
   "language": "python",
   "name": "python3"
  },
  "language_info": {
   "codemirror_mode": {
    "name": "ipython",
    "version": 3
   },
   "file_extension": ".py",
   "mimetype": "text/x-python",
   "name": "python",
   "nbconvert_exporter": "python",
   "pygments_lexer": "ipython3",
   "version": "3.8.9"
  }
 },
 "nbformat": 4,
 "nbformat_minor": 1
}
