{
 "cells": [
  {
   "cell_type": "markdown",
   "id": "3e425a6b",
   "metadata": {},
   "source": [
    "# Object Oriented Programming"
   ]
  },
  {
   "cell_type": "raw",
   "id": "a485ed22",
   "metadata": {},
   "source": [
    "Meta Class - responsible for generating all the classses. it's like k factory class"
   ]
  },
  {
   "cell_type": "code",
   "execution_count": 2,
   "id": "9194e7c7",
   "metadata": {},
   "outputs": [
    {
     "name": "stdout",
     "output_type": "stream",
     "text": [
      "Employee\n",
      "Employee\n"
     ]
    }
   ],
   "source": [
    "class MyEmployee:\n",
    "    def __init__(self, designation='Employee'):\n",
    "        self.e = designation\n",
    "    \n",
    "    def getE(self):\n",
    "        return self.e\n",
    "\n",
    "e1 = MyEmployee()\n",
    "print(e1.e)\n",
    "print(e1.getE())"
   ]
  },
  {
   "cell_type": "code",
   "execution_count": 3,
   "id": "d986da68",
   "metadata": {},
   "outputs": [
    {
     "name": "stdout",
     "output_type": "stream",
     "text": [
      "Manager\n"
     ]
    }
   ],
   "source": [
    "e2 = MyEmployee('Manager')\n",
    "print(e2.getE())"
   ]
  },
  {
   "cell_type": "code",
   "execution_count": 4,
   "id": "091f0dd5",
   "metadata": {},
   "outputs": [
    {
     "data": {
      "text/plain": [
       "{'e': 'Manager'}"
      ]
     },
     "execution_count": 4,
     "metadata": {},
     "output_type": "execute_result"
    }
   ],
   "source": [
    "e2.__dict__"
   ]
  },
  {
   "cell_type": "code",
   "execution_count": 5,
   "id": "a6c743c2",
   "metadata": {},
   "outputs": [
    {
     "data": {
      "text/plain": [
       "__main__.MyEmployee"
      ]
     },
     "execution_count": 5,
     "metadata": {},
     "output_type": "execute_result"
    }
   ],
   "source": [
    "e1.__class__"
   ]
  },
  {
   "cell_type": "code",
   "execution_count": 6,
   "id": "05d68cf2",
   "metadata": {},
   "outputs": [
    {
     "name": "stdout",
     "output_type": "stream",
     "text": [
      "['__class__', '__delattr__', '__dict__', '__dir__', '__doc__', '__eq__', '__format__', '__ge__', '__getattribute__', '__getstate__', '__gt__', '__hash__', '__init__', '__init_subclass__', '__le__', '__lt__', '__module__', '__ne__', '__new__', '__reduce__', '__reduce_ex__', '__repr__', '__setattr__', '__sizeof__', '__str__', '__subclasshook__', '__weakref__', 'e', 'getE']\n"
     ]
    }
   ],
   "source": [
    "print(dir(e2))"
   ]
  },
  {
   "cell_type": "code",
   "execution_count": 7,
   "id": "9c0e2db6",
   "metadata": {},
   "outputs": [
    {
     "data": {
      "text/plain": [
       "str"
      ]
     },
     "execution_count": 7,
     "metadata": {},
     "output_type": "execute_result"
    }
   ],
   "source": [
    "e2.e.__class__"
   ]
  },
  {
   "cell_type": "code",
   "execution_count": 8,
   "id": "54ef3eed",
   "metadata": {},
   "outputs": [
    {
     "name": "stdout",
     "output_type": "stream",
     "text": [
      "<class 'str'>\n"
     ]
    }
   ],
   "source": [
    "print(type(e2.e))"
   ]
  },
  {
   "cell_type": "code",
   "execution_count": 9,
   "id": "2f0f39f7",
   "metadata": {},
   "outputs": [
    {
     "name": "stdout",
     "output_type": "stream",
     "text": [
      "<class 'method'>\n"
     ]
    }
   ],
   "source": [
    "print(type(e2.getE))"
   ]
  },
  {
   "cell_type": "code",
   "execution_count": 15,
   "id": "0b4520df",
   "metadata": {},
   "outputs": [],
   "source": [
    "class point:\n",
    "    def __init__(self, ux=0, uy=0 ):\n",
    "        self.x = ux\n",
    "        self.y = uy\n",
    "    \n",
    "    def __str__(self):\n",
    "        ns = \"({}:{})\".format(self.x,self.y)\n",
    "        return ns\n",
    "    \n",
    "    def __add__(left,right):\n",
    "        nx = left.x + right.x\n",
    "        ny = left.y + right.y\n",
    "        \n",
    "        np = point(nx,ny)\n",
    "        return np"
   ]
  },
  {
   "cell_type": "code",
   "execution_count": 21,
   "id": "e18e4c0d",
   "metadata": {},
   "outputs": [],
   "source": [
    "n1 = point(10,20)"
   ]
  },
  {
   "cell_type": "code",
   "execution_count": 22,
   "id": "b1b51f05",
   "metadata": {},
   "outputs": [
    {
     "name": "stdout",
     "output_type": "stream",
     "text": [
      "(10:20)\n"
     ]
    }
   ],
   "source": [
    "print(n1)"
   ]
  },
  {
   "cell_type": "code",
   "execution_count": 20,
   "id": "72251c00",
   "metadata": {},
   "outputs": [
    {
     "name": "stdout",
     "output_type": "stream",
     "text": [
      "(50:60)\n"
     ]
    }
   ],
   "source": [
    "n2 = point(50,60)\n",
    "print(n2)"
   ]
  },
  {
   "cell_type": "code",
   "execution_count": 23,
   "id": "d5eeb59d",
   "metadata": {},
   "outputs": [
    {
     "name": "stdout",
     "output_type": "stream",
     "text": [
      "(60:80)\n"
     ]
    }
   ],
   "source": [
    "n3 = n1 + n2\n",
    "print(n3)"
   ]
  },
  {
   "cell_type": "code",
   "execution_count": null,
   "id": "f6826c14",
   "metadata": {},
   "outputs": [],
   "source": []
  }
 ],
 "metadata": {
  "kernelspec": {
   "display_name": "Python 3 (ipykernel)",
   "language": "python",
   "name": "python3"
  },
  "language_info": {
   "codemirror_mode": {
    "name": "ipython",
    "version": 3
   },
   "file_extension": ".py",
   "mimetype": "text/x-python",
   "name": "python",
   "nbconvert_exporter": "python",
   "pygments_lexer": "ipython3",
   "version": "3.11.5"
  }
 },
 "nbformat": 4,
 "nbformat_minor": 5
}
