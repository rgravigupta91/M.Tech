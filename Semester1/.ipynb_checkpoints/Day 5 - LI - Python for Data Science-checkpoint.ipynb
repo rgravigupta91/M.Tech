{
 "cells": [
  {
   "cell_type": "code",
   "execution_count": 1,
   "id": "a6cfcb64",
   "metadata": {},
   "outputs": [
    {
     "data": {
      "text/plain": [
       "2"
      ]
     },
     "execution_count": 1,
     "metadata": {},
     "output_type": "execute_result"
    }
   ],
   "source": [
    "2 & 3"
   ]
  },
  {
   "cell_type": "code",
   "execution_count": 2,
   "id": "f5caa51a",
   "metadata": {},
   "outputs": [
    {
     "data": {
      "text/plain": [
       "0"
      ]
     },
     "execution_count": 2,
     "metadata": {},
     "output_type": "execute_result"
    }
   ],
   "source": [
    "4 & 3"
   ]
  },
  {
   "cell_type": "code",
   "execution_count": 3,
   "id": "8901a5ee",
   "metadata": {},
   "outputs": [
    {
     "ename": "SyntaxError",
     "evalue": "invalid syntax (1518041777.py, line 1)",
     "output_type": "error",
     "traceback": [
      "\u001b[1;36m  Cell \u001b[1;32mIn[3], line 1\u001b[1;36m\u001b[0m\n\u001b[1;33m    2 || 3\u001b[0m\n\u001b[1;37m       ^\u001b[0m\n\u001b[1;31mSyntaxError\u001b[0m\u001b[1;31m:\u001b[0m invalid syntax\n"
     ]
    }
   ],
   "source": [
    "2 || 3"
   ]
  },
  {
   "cell_type": "code",
   "execution_count": 4,
   "id": "0fc9c1b5",
   "metadata": {},
   "outputs": [
    {
     "data": {
      "text/plain": [
       "3"
      ]
     },
     "execution_count": 4,
     "metadata": {},
     "output_type": "execute_result"
    }
   ],
   "source": [
    "2 | 3"
   ]
  },
  {
   "cell_type": "code",
   "execution_count": 5,
   "id": "c46502a8",
   "metadata": {},
   "outputs": [
    {
     "data": {
      "text/plain": [
       "7"
      ]
     },
     "execution_count": 5,
     "metadata": {},
     "output_type": "execute_result"
    }
   ],
   "source": [
    "4 | 3"
   ]
  },
  {
   "cell_type": "code",
   "execution_count": 6,
   "id": "5e95313a",
   "metadata": {},
   "outputs": [
    {
     "ename": "NameError",
     "evalue": "name 'a' is not defined",
     "output_type": "error",
     "traceback": [
      "\u001b[1;31m---------------------------------------------------------------------------\u001b[0m",
      "\u001b[1;31mNameError\u001b[0m                                 Traceback (most recent call last)",
      "Cell \u001b[1;32mIn[6], line 1\u001b[0m\n\u001b[1;32m----> 1\u001b[0m \u001b[38;5;241m1\u001b[39m \u001b[38;5;241m|\u001b[39m a\n",
      "\u001b[1;31mNameError\u001b[0m: name 'a' is not defined"
     ]
    }
   ],
   "source": [
    "1 | a"
   ]
  },
  {
   "cell_type": "code",
   "execution_count": 7,
   "id": "7e9c6567",
   "metadata": {},
   "outputs": [
    {
     "ename": "TypeError",
     "evalue": "unsupported operand type(s) for |: 'int' and 'str'",
     "output_type": "error",
     "traceback": [
      "\u001b[1;31m---------------------------------------------------------------------------\u001b[0m",
      "\u001b[1;31mTypeError\u001b[0m                                 Traceback (most recent call last)",
      "Cell \u001b[1;32mIn[7], line 1\u001b[0m\n\u001b[1;32m----> 1\u001b[0m \u001b[38;5;241m1\u001b[39m \u001b[38;5;241m|\u001b[39m \u001b[38;5;124m'\u001b[39m\u001b[38;5;124ma\u001b[39m\u001b[38;5;124m'\u001b[39m\n",
      "\u001b[1;31mTypeError\u001b[0m: unsupported operand type(s) for |: 'int' and 'str'"
     ]
    }
   ],
   "source": [
    "1 | 'a'"
   ]
  },
  {
   "cell_type": "code",
   "execution_count": 8,
   "id": "bb61a1bd",
   "metadata": {},
   "outputs": [],
   "source": [
    "import math"
   ]
  },
  {
   "cell_type": "code",
   "execution_count": 9,
   "id": "f042f666",
   "metadata": {},
   "outputs": [
    {
     "name": "stdout",
     "output_type": "stream",
     "text": [
      "Enter the Prob : .6\n",
      "Odds of this probability is :  -0.5108256237659907\n"
     ]
    }
   ],
   "source": [
    "p = float(input('Enter the Prob : '))\n",
    "odds = p/(1-p)\n",
    "print('Odds of this probability is : ',math.log(p))"
   ]
  },
  {
   "cell_type": "code",
   "execution_count": 10,
   "id": "b17c1c4d",
   "metadata": {},
   "outputs": [],
   "source": [
    "import random"
   ]
  },
  {
   "cell_type": "code",
   "execution_count": 16,
   "id": "81cdf6dc",
   "metadata": {},
   "outputs": [
    {
     "name": "stdout",
     "output_type": "stream",
     "text": [
      "Numner Generated is : DL-7CU-757\n",
      "Odd\n"
     ]
    }
   ],
   "source": [
    "number = random.randint(1,10000)\n",
    "print('Numner Generated is : DL-7CU-',number,sep='')\n",
    "if number % 2 == 0:\n",
    "    print('Even')\n",
    "else:\n",
    "    print('Odd')\n"
   ]
  },
  {
   "cell_type": "code",
   "execution_count": null,
   "id": "ef90a6a0",
   "metadata": {},
   "outputs": [],
   "source": [
    "number = random.randint(1,10000)\n",
    "if number % 2 == 0:\n",
    "    print(f'Number DL-7CU-{num} is Even')\n",
    "else:\n",
    "    print(f'Number DL-7CU-{num} is Odd')"
   ]
  },
  {
   "cell_type": "code",
   "execution_count": 17,
   "id": "32bc96e6",
   "metadata": {},
   "outputs": [
    {
     "ename": "NameError",
     "evalue": "name 'dir_global' is not defined",
     "output_type": "error",
     "traceback": [
      "\u001b[1;31m---------------------------------------------------------------------------\u001b[0m",
      "\u001b[1;31mNameError\u001b[0m                                 Traceback (most recent call last)",
      "Cell \u001b[1;32mIn[17], line 1\u001b[0m\n\u001b[1;32m----> 1\u001b[0m dir_global\n",
      "\u001b[1;31mNameError\u001b[0m: name 'dir_global' is not defined"
     ]
    }
   ],
   "source": [
    "dir_global"
   ]
  },
  {
   "cell_type": "code",
   "execution_count": 18,
   "id": "9b77637b",
   "metadata": {},
   "outputs": [
    {
     "ename": "SyntaxError",
     "evalue": "invalid syntax (3080381167.py, line 1)",
     "output_type": "error",
     "traceback": [
      "\u001b[1;36m  Cell \u001b[1;32mIn[18], line 1\u001b[1;36m\u001b[0m\n\u001b[1;33m    dir(global)\u001b[0m\n\u001b[1;37m        ^\u001b[0m\n\u001b[1;31mSyntaxError\u001b[0m\u001b[1;31m:\u001b[0m invalid syntax\n"
     ]
    }
   ],
   "source": [
    "dir(global)"
   ]
  },
  {
   "cell_type": "code",
   "execution_count": 25,
   "id": "51ab227f",
   "metadata": {},
   "outputs": [
    {
     "data": {
      "text/plain": [
       "'Kzf19'"
      ]
     },
     "execution_count": 25,
     "metadata": {},
     "output_type": "execute_result"
    }
   ],
   "source": [
    "chr(random.randint(65,90))+chr(random.randint(97,122))+chr(random.randint(97,122))+str(random.randint(10,99))"
   ]
  },
  {
   "cell_type": "code",
   "execution_count": 29,
   "id": "dac74c4e",
   "metadata": {},
   "outputs": [
    {
     "name": "stdout",
     "output_type": "stream",
     "text": [
      "Enter the amount : 2945\n",
      "500 x 5\n",
      "200 x 2\n",
      "20 x 2\n",
      "5 x 1\n"
     ]
    }
   ],
   "source": [
    "amount = int(input(\"Enter the amount : \"))\n",
    "\n",
    "list1 = [500,200,100,50,20,10,5,2,1]\n",
    "\n",
    "for i in list1:\n",
    "    no = amount // i\n",
    "    rem = amount % i\n",
    "    if no > 0:\n",
    "        print(f'{i} x {no}')\n",
    "    amount = rem"
   ]
  },
  {
   "cell_type": "code",
   "execution_count": 22,
   "id": "3d5f5467",
   "metadata": {},
   "outputs": [
    {
     "data": {
      "text/plain": [
       "2"
      ]
     },
     "execution_count": 22,
     "metadata": {},
     "output_type": "execute_result"
    }
   ],
   "source": [
    "2 & 3"
   ]
  },
  {
   "cell_type": "code",
   "execution_count": 1,
   "id": "cf1d2e0a",
   "metadata": {},
   "outputs": [
    {
     "name": "stdout",
     "output_type": "stream",
     "text": [
      "Enter your speed : 50\n",
      "Slow Down\n",
      "Enter your speed : 30\n"
     ]
    }
   ],
   "source": [
    "speed = int(input('Enter your speed : '))\n",
    "\n",
    "while speed > 40:\n",
    "    print('Slow Down')\n",
    "    speed = int(input('Enter your speed : '))"
   ]
  },
  {
   "cell_type": "code",
   "execution_count": 2,
   "id": "8964aeb6",
   "metadata": {},
   "outputs": [],
   "source": [
    "def add_num(a,b):\n",
    "    c = a + b\n",
    "    return c"
   ]
  },
  {
   "cell_type": "code",
   "execution_count": 3,
   "id": "81a552fb",
   "metadata": {},
   "outputs": [
    {
     "data": {
      "text/plain": [
       "['__annotations__',\n",
       " '__builtins__',\n",
       " '__call__',\n",
       " '__class__',\n",
       " '__closure__',\n",
       " '__code__',\n",
       " '__defaults__',\n",
       " '__delattr__',\n",
       " '__dict__',\n",
       " '__dir__',\n",
       " '__doc__',\n",
       " '__eq__',\n",
       " '__format__',\n",
       " '__ge__',\n",
       " '__get__',\n",
       " '__getattribute__',\n",
       " '__getstate__',\n",
       " '__globals__',\n",
       " '__gt__',\n",
       " '__hash__',\n",
       " '__init__',\n",
       " '__init_subclass__',\n",
       " '__kwdefaults__',\n",
       " '__le__',\n",
       " '__lt__',\n",
       " '__module__',\n",
       " '__name__',\n",
       " '__ne__',\n",
       " '__new__',\n",
       " '__qualname__',\n",
       " '__reduce__',\n",
       " '__reduce_ex__',\n",
       " '__repr__',\n",
       " '__setattr__',\n",
       " '__sizeof__',\n",
       " '__str__',\n",
       " '__subclasshook__']"
      ]
     },
     "execution_count": 3,
     "metadata": {},
     "output_type": "execute_result"
    }
   ],
   "source": [
    "dir(add_num)"
   ]
  },
  {
   "cell_type": "code",
   "execution_count": 4,
   "id": "7fc2c1c3",
   "metadata": {},
   "outputs": [
    {
     "ename": "SyntaxError",
     "evalue": "invalid syntax (663806757.py, line 1)",
     "output_type": "error",
     "traceback": [
      "\u001b[1;36m  Cell \u001b[1;32mIn[4], line 1\u001b[1;36m\u001b[0m\n\u001b[1;33m    def(add_num)\u001b[0m\n\u001b[1;37m       ^\u001b[0m\n\u001b[1;31mSyntaxError\u001b[0m\u001b[1;31m:\u001b[0m invalid syntax\n"
     ]
    }
   ],
   "source": [
    "def(add_num)"
   ]
  },
  {
   "cell_type": "code",
   "execution_count": 8,
   "id": "22936667",
   "metadata": {},
   "outputs": [
    {
     "name": "stdout",
     "output_type": "stream",
     "text": [
      "Enter MRP : 100\n",
      "Enter the discount : 10\n",
      "MRP :  100 After Discount :  90.0\n",
      "Enter MRP : 500\n",
      "Enter the discount : 2\n",
      "MRP :  500 After Discount :  490.0\n",
      "Enter MRP : 1200\n",
      "Enter the discount : 10\n",
      "MRP :  1200 After Discount :  1080.0\n",
      "Enter MRP : 0\n",
      "Total Amount :  1660.0\n"
     ]
    }
   ],
   "source": [
    "price = 0\n",
    "amount = 0\n",
    "while True:\n",
    "    \n",
    "    mrp = int(input('Enter MRP : '))\n",
    "    if mrp > 0:\n",
    "        disc = int(input('Enter the discount : '))\n",
    "        price = mrp * ( 1 - disc / 100 )\n",
    "        print('MRP : ',mrp,'After Discount : ', price )\n",
    "        amount += price\n",
    "        \n",
    "    else:\n",
    "        break\n",
    "print('Total Amount : ',amount)"
   ]
  },
  {
   "cell_type": "code",
   "execution_count": 11,
   "id": "c4755e2b",
   "metadata": {},
   "outputs": [
    {
     "name": "stdout",
     "output_type": "stream",
     "text": [
      "0 1 1 2 3 5 8 13 21 34 55 89 "
     ]
    }
   ],
   "source": [
    "a = 0\n",
    "b = 1\n",
    "\n",
    "print(a, b, end=' ')\n",
    "for i in range(10):\n",
    "    c= a + b\n",
    "    a = b\n",
    "    b = c\n",
    "    print(c, end=' ')\n",
    "    \n",
    "    "
   ]
  },
  {
   "cell_type": "code",
   "execution_count": 12,
   "id": "1315693b",
   "metadata": {},
   "outputs": [
    {
     "data": {
      "text/plain": [
       "['In',\n",
       " 'Out',\n",
       " '_',\n",
       " '_3',\n",
       " '__',\n",
       " '___',\n",
       " '__builtin__',\n",
       " '__builtins__',\n",
       " '__doc__',\n",
       " '__loader__',\n",
       " '__name__',\n",
       " '__package__',\n",
       " '__spec__',\n",
       " '_dh',\n",
       " '_i',\n",
       " '_i1',\n",
       " '_i10',\n",
       " '_i11',\n",
       " '_i12',\n",
       " '_i2',\n",
       " '_i3',\n",
       " '_i4',\n",
       " '_i5',\n",
       " '_i6',\n",
       " '_i7',\n",
       " '_i8',\n",
       " '_i9',\n",
       " '_ih',\n",
       " '_ii',\n",
       " '_iii',\n",
       " '_oh',\n",
       " 'a',\n",
       " 'add_num',\n",
       " 'amount',\n",
       " 'b',\n",
       " 'c',\n",
       " 'disc',\n",
       " 'exit',\n",
       " 'get_ipython',\n",
       " 'i',\n",
       " 'mrp',\n",
       " 'open',\n",
       " 'price',\n",
       " 'quit',\n",
       " 'speed']"
      ]
     },
     "execution_count": 12,
     "metadata": {},
     "output_type": "execute_result"
    }
   ],
   "source": [
    "dir()"
   ]
  },
  {
   "cell_type": "code",
   "execution_count": 14,
   "id": "68857d31",
   "metadata": {},
   "outputs": [
    {
     "ename": "NameError",
     "evalue": "name 'init' is not defined",
     "output_type": "error",
     "traceback": [
      "\u001b[1;31m---------------------------------------------------------------------------\u001b[0m",
      "\u001b[1;31mNameError\u001b[0m                                 Traceback (most recent call last)",
      "Cell \u001b[1;32mIn[14], line 1\u001b[0m\n\u001b[1;32m----> 1\u001b[0m init(add_num)\n",
      "\u001b[1;31mNameError\u001b[0m: name 'init' is not defined"
     ]
    }
   ],
   "source": [
    "init(add_num)"
   ]
  },
  {
   "cell_type": "code",
   "execution_count": 16,
   "id": "207cb424",
   "metadata": {},
   "outputs": [
    {
     "data": {
      "text/plain": [
       "list"
      ]
     },
     "execution_count": 16,
     "metadata": {},
     "output_type": "execute_result"
    }
   ],
   "source": [
    "list1 = [[23,12,56],56,89,[33,44],59]\n",
    "type(list1)"
   ]
  },
  {
   "cell_type": "code",
   "execution_count": 41,
   "id": "361ea802",
   "metadata": {},
   "outputs": [],
   "source": [
    "def sum_of_list(list1):\n",
    "    sum1 = 0\n",
    "    for i in list1:\n",
    "        if type(list1) == list:\n",
    "           \"\"\" sum1 += sum_of_list(i)  \"\"\"\n",
    "        else:\n",
    "            print(i)\n",
    "            print(type(i))\n",
    "            sum1 += i\n",
    "    return sum1"
   ]
  },
  {
   "cell_type": "code",
   "execution_count": 42,
   "id": "80556198",
   "metadata": {},
   "outputs": [
    {
     "data": {
      "text/plain": [
       "0"
      ]
     },
     "execution_count": 42,
     "metadata": {},
     "output_type": "execute_result"
    }
   ],
   "source": [
    "sum_of_list(list1)"
   ]
  },
  {
   "cell_type": "code",
   "execution_count": 33,
   "id": "e80f8440",
   "metadata": {},
   "outputs": [
    {
     "data": {
      "text/plain": [
       "\"<class 'list'>\""
      ]
     },
     "execution_count": 33,
     "metadata": {},
     "output_type": "execute_result"
    }
   ],
   "source": [
    "str(type(list1))"
   ]
  },
  {
   "cell_type": "code",
   "execution_count": 43,
   "id": "efa10031",
   "metadata": {},
   "outputs": [],
   "source": [
    "from itertools import accumulate\n",
    "from functools import reduce"
   ]
  },
  {
   "cell_type": "code",
   "execution_count": 46,
   "id": "92ec7028",
   "metadata": {},
   "outputs": [],
   "source": [
    "list2 = [56,84,27,98,78,56,34]"
   ]
  },
  {
   "cell_type": "code",
   "execution_count": 51,
   "id": "5a2e162a",
   "metadata": {},
   "outputs": [],
   "source": [
    "maximum = reduce(lambda x,y: x if x > y else y, list2)"
   ]
  },
  {
   "cell_type": "code",
   "execution_count": 52,
   "id": "d0ded6b7",
   "metadata": {},
   "outputs": [],
   "source": [
    "minimum = reduce(lambda x,y: x if x < y else y, list2)"
   ]
  },
  {
   "cell_type": "code",
   "execution_count": 53,
   "id": "2dd8806d",
   "metadata": {},
   "outputs": [
    {
     "data": {
      "text/plain": [
       "98"
      ]
     },
     "execution_count": 53,
     "metadata": {},
     "output_type": "execute_result"
    }
   ],
   "source": [
    "maximum"
   ]
  },
  {
   "cell_type": "code",
   "execution_count": 54,
   "id": "6ae59364",
   "metadata": {},
   "outputs": [
    {
     "data": {
      "text/plain": [
       "27"
      ]
     },
     "execution_count": 54,
     "metadata": {},
     "output_type": "execute_result"
    }
   ],
   "source": [
    "minimum"
   ]
  },
  {
   "cell_type": "code",
   "execution_count": 58,
   "id": "78ad5924",
   "metadata": {},
   "outputs": [
    {
     "data": {
      "text/plain": [
       "[56, 140, 167, 265, 343, 399, 433]"
      ]
     },
     "execution_count": 58,
     "metadata": {},
     "output_type": "execute_result"
    }
   ],
   "source": [
    "a = accumulate(list2,lambda x,y: x+y)\n",
    "list(a)"
   ]
  },
  {
   "cell_type": "code",
   "execution_count": 59,
   "id": "84df2475",
   "metadata": {},
   "outputs": [
    {
     "data": {
      "text/plain": [
       "<itertools.accumulate at 0x2810a8d31c0>"
      ]
     },
     "execution_count": 59,
     "metadata": {},
     "output_type": "execute_result"
    }
   ],
   "source": [
    "a"
   ]
  },
  {
   "cell_type": "code",
   "execution_count": 60,
   "id": "ba8620c7",
   "metadata": {},
   "outputs": [
    {
     "data": {
      "text/plain": [
       "[]"
      ]
     },
     "execution_count": 60,
     "metadata": {},
     "output_type": "execute_result"
    }
   ],
   "source": [
    "list(a)"
   ]
  },
  {
   "cell_type": "code",
   "execution_count": 61,
   "id": "59bfbacd",
   "metadata": {},
   "outputs": [
    {
     "data": {
      "text/plain": [
       "2753251062208"
      ]
     },
     "execution_count": 61,
     "metadata": {},
     "output_type": "execute_result"
    }
   ],
   "source": [
    "id(a)"
   ]
  },
  {
   "cell_type": "code",
   "execution_count": 62,
   "id": "5269c40c",
   "metadata": {},
   "outputs": [
    {
     "data": {
      "text/plain": [
       "2753251062208"
      ]
     },
     "execution_count": 62,
     "metadata": {},
     "output_type": "execute_result"
    }
   ],
   "source": [
    "2753251062208"
   ]
  },
  {
   "cell_type": "code",
   "execution_count": null,
   "id": "2956cb22",
   "metadata": {},
   "outputs": [],
   "source": []
  }
 ],
 "metadata": {
  "kernelspec": {
   "display_name": "Python 3 (ipykernel)",
   "language": "python",
   "name": "python3"
  },
  "language_info": {
   "codemirror_mode": {
    "name": "ipython",
    "version": 3
   },
   "file_extension": ".py",
   "mimetype": "text/x-python",
   "name": "python",
   "nbconvert_exporter": "python",
   "pygments_lexer": "ipython3",
   "version": "3.11.5"
  }
 },
 "nbformat": 4,
 "nbformat_minor": 5
}
