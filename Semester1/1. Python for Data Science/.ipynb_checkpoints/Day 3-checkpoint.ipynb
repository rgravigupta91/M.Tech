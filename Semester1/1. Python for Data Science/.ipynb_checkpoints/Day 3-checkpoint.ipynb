{
 "cells": [
  {
   "cell_type": "code",
   "execution_count": 1,
   "id": "95d7d7fa",
   "metadata": {},
   "outputs": [
    {
     "data": {
      "text/plain": [
       "array([[97, 60, 86, 40, 71, 16, 76, 72, 55, 27, 19, 90],\n",
       "       [64, 32, 72, 18, 58, 95, 54, 95, 46, 61, 30, 23],\n",
       "       [85, 40, 18, 11, 15, 17, 25, 66, 27, 75, 72, 65],\n",
       "       [71, 62, 60, 75, 74, 59, 59, 44, 55, 18, 85, 60],\n",
       "       [51, 53, 10, 21, 69, 54, 78, 10, 89, 38, 13, 39],\n",
       "       [40, 41, 94, 52, 73, 85, 36, 65, 47, 66, 22, 36],\n",
       "       [62, 38, 79, 59, 33, 60, 98, 21, 64, 22, 28, 32],\n",
       "       [75, 33, 44, 54, 29, 86, 55, 12, 57, 69, 43, 90]])"
      ]
     },
     "execution_count": 1,
     "metadata": {},
     "output_type": "execute_result"
    }
   ],
   "source": [
    "import numpy as np\n",
    "n812 = np.random.randint(low=10, high=100, size=(8,12))\n",
    "n812"
   ]
  },
  {
   "cell_type": "code",
   "execution_count": 2,
   "id": "c4a0efd8",
   "metadata": {},
   "outputs": [
    {
     "name": "stdout",
     "output_type": "stream",
     "text": [
      "PYTHONPATH: C:\\Python\\Python312;C:\\Python\\Python312\\Scripts;C:\\Python\\Python312\\Lib\\site-packages;\n",
      "PATH: C:\\Python\\Python312\\Scripts\\;C:\\Python\\Python312\\;C:\\Program Files\\Intel\\iCLS Client\\;C:\\WINDOWS\\system32;C:\\WINDOWS;C:\\WINDOWS\\System32\\Wbem;C:\\WINDOWS\\System32\\WindowsPowerShell\\v1.0\\;C:\\Android;C:\\Windows\\System32;C:\\WINDOWS\\System32\\OpenSSH\\;C:\\Users\\Ravi\\AppData\\Local\\Programs\\Python\\Python312\\python.exe;C:\\Users\\Ravi\\AppData\\Local\\Programs\\Python\\Python312\\Scripts;C:\\Program Files\\Intel\\WiFi\\bin\\;C:\\Program Files\\Common Files\\Intel\\WirelessCommon\\;C:\\Program Files (x86)\\Intel\\Intel(R) Management Engine Components\\DAL;C:\\Program Files\\Intel\\Intel(R) Management Engine Components\\DAL;C:\\Program Files\\nodejs\\;C:\\msys64\\mingw64\\bin;C:\\Python\\anaconda3;C:\\Python\\anaconda3\\Scripts;C:\\Users\\Ravi\\AppData\\Local\\Microsoft\\WindowsApps;C:\\Program Files\\Java\\jdk1.7.0\\bin;C:\\Users\\Ravi\\AppData\\Local\\Programs\\Python\\Python312;C:\\Program Files\\JetBrains\\PyCharm 2020.1\\bin;;C:\\Users\\Ravi\\AppData\\Local\\Programs\\Microsoft VS Code\\bin;C:\\Program Files\\JetBrains\\PyCharm Community Edition 2022.1.2\\bin;;C:\\Users\\Ravi\\AppData\\Roaming\\npm;C:\\Python\\anaconda3;C:\\Python\\anaconda3\\Scripts;\n"
     ]
    }
   ],
   "source": [
    "import os\n",
    "print(\"PYTHONPATH:\", os.environ.get('PYTHONPATH'))\n",
    "print(\"PATH:\", os.environ.get('PATH'))"
   ]
  },
  {
   "cell_type": "code",
   "execution_count": null,
   "id": "a6313dcc",
   "metadata": {},
   "outputs": [],
   "source": [
    "r = np.vsplit(n812, 2)\n",
    "r"
   ]
  },
  {
   "cell_type": "code",
   "execution_count": null,
   "id": "a94f62cb",
   "metadata": {},
   "outputs": [],
   "source": [
    "np.vsplit(n812, [3,5])"
   ]
  },
  {
   "cell_type": "code",
   "execution_count": null,
   "id": "4774dae2",
   "metadata": {},
   "outputs": [],
   "source": [
    "np.vsplit(n812, [3,5])"
   ]
  },
  {
   "cell_type": "code",
   "execution_count": null,
   "id": "885f3f06",
   "metadata": {},
   "outputs": [],
   "source": [
    "np.vsplit(n812, [1,6,9,11,12])"
   ]
  },
  {
   "cell_type": "code",
   "execution_count": null,
   "id": "9519acc9",
   "metadata": {},
   "outputs": [],
   "source": [
    "np.vsplit(n812, [2,3,6,7])"
   ]
  },
  {
   "cell_type": "code",
   "execution_count": null,
   "id": "acf33647",
   "metadata": {},
   "outputs": [],
   "source": [
    "np.hsplit(n812,2)"
   ]
  },
  {
   "cell_type": "code",
   "execution_count": null,
   "id": "30cf85e0",
   "metadata": {},
   "outputs": [],
   "source": [
    "np.hsplit(n812,[2,5])"
   ]
  },
  {
   "cell_type": "markdown",
   "id": "8c64872b",
   "metadata": {},
   "source": [
    "# Stacking"
   ]
  },
  {
   "cell_type": "code",
   "execution_count": null,
   "id": "838edbda",
   "metadata": {},
   "outputs": [],
   "source": [
    "A = np.array([[1,2,3],[4,5,6]])\n",
    "B = np.array([[7,8,9],[10,11,12]])\n",
    "\n",
    "np.vstack([A,B])"
   ]
  },
  {
   "cell_type": "code",
   "execution_count": null,
   "id": "e8c471e2",
   "metadata": {},
   "outputs": [],
   "source": [
    "n34 = np.arange(12).reshape(3,4)\n",
    "n34"
   ]
  },
  {
   "cell_type": "code",
   "execution_count": null,
   "id": "d30b3db3",
   "metadata": {},
   "outputs": [],
   "source": [
    "n64 = np.arange(100,124).reshape(6,4)\n",
    "n64"
   ]
  },
  {
   "cell_type": "code",
   "execution_count": null,
   "id": "b1a2a559",
   "metadata": {},
   "outputs": [],
   "source": [
    "np.vstack( [n34, n64])"
   ]
  },
  {
   "cell_type": "markdown",
   "id": "6e935697",
   "metadata": {},
   "source": [
    "# Linspace"
   ]
  },
  {
   "cell_type": "code",
   "execution_count": null,
   "id": "aa084596",
   "metadata": {},
   "outputs": [],
   "source": [
    "np.linspace(start=3, stop=5, num = 9)"
   ]
  },
  {
   "cell_type": "code",
   "execution_count": null,
   "id": "a0a94b1a",
   "metadata": {},
   "outputs": [],
   "source": [
    "np.linspace(start=3, stop=5, num = 9, retstep=True)"
   ]
  },
  {
   "cell_type": "code",
   "execution_count": null,
   "id": "9ceff71b",
   "metadata": {},
   "outputs": [],
   "source": [
    "np.linspace(start=3, stop=7, num = 5, retstep=True)"
   ]
  },
  {
   "cell_type": "code",
   "execution_count": null,
   "id": "94633cf2",
   "metadata": {},
   "outputs": [],
   "source": [
    "np.linspace(start=3, stop=7, num = 5, endpoint=False, retstep=True)"
   ]
  },
  {
   "cell_type": "code",
   "execution_count": null,
   "id": "6bd7041e",
   "metadata": {},
   "outputs": [],
   "source": [
    "C = np.array([[2,2,2],[2,2,2]])\n",
    "np.power(A,C)"
   ]
  },
  {
   "cell_type": "code",
   "execution_count": null,
   "id": "d62740c1",
   "metadata": {},
   "outputs": [],
   "source": [
    "np.power(A,2)"
   ]
  },
  {
   "cell_type": "code",
   "execution_count": null,
   "id": "f217beb3",
   "metadata": {},
   "outputs": [],
   "source": [
    "np.power(A,2,dtype=float)"
   ]
  },
  {
   "cell_type": "code",
   "execution_count": null,
   "id": "fd1a6898",
   "metadata": {},
   "outputs": [],
   "source": [
    "np.power(A,5,dtype=float)"
   ]
  },
  {
   "cell_type": "code",
   "execution_count": null,
   "id": "24bd51ee",
   "metadata": {},
   "outputs": [],
   "source": [
    "np.power(A,2,dtype=np.float32)"
   ]
  },
  {
   "cell_type": "code",
   "execution_count": null,
   "id": "f47130fc",
   "metadata": {},
   "outputs": [],
   "source": [
    "np.power(A,5,dtype=np.float32)"
   ]
  },
  {
   "cell_type": "code",
   "execution_count": null,
   "id": "8fbfcd3e",
   "metadata": {},
   "outputs": [],
   "source": [
    "np.identity(5)"
   ]
  },
  {
   "cell_type": "code",
   "execution_count": null,
   "id": "765fbd65",
   "metadata": {},
   "outputs": [],
   "source": [
    "np.zeros([3,4])"
   ]
  },
  {
   "cell_type": "code",
   "execution_count": null,
   "id": "148616a1",
   "metadata": {},
   "outputs": [],
   "source": [
    "np.full(shape=(3,4), fill_value=43)"
   ]
  },
  {
   "cell_type": "code",
   "execution_count": null,
   "id": "7b7fa3c9",
   "metadata": {},
   "outputs": [],
   "source": [
    "n23 = np.array([[1,2,3],[4,5,6]])"
   ]
  },
  {
   "cell_type": "code",
   "execution_count": null,
   "id": "b0b57c12",
   "metadata": {},
   "outputs": [],
   "source": [
    "np.block([[n23,n23],[n23,n23]])"
   ]
  },
  {
   "cell_type": "code",
   "execution_count": null,
   "id": "14d273dc",
   "metadata": {},
   "outputs": [],
   "source": [
    "n36 = np.arange(100,118).reshape(3,6)"
   ]
  },
  {
   "cell_type": "code",
   "execution_count": null,
   "id": "09afd7b2",
   "metadata": {},
   "outputs": [],
   "source": [
    "np34 = np.arange(200,212).reshape(3,4)"
   ]
  },
  {
   "cell_type": "code",
   "execution_count": null,
   "id": "aaf957ae",
   "metadata": {},
   "outputs": [],
   "source": [
    "np34"
   ]
  },
  {
   "cell_type": "code",
   "execution_count": null,
   "id": "a6026b14",
   "metadata": {},
   "outputs": [],
   "source": [
    "print(np.sum(np34))\n",
    "print(np.sum(np34, axis=0))\n",
    "print(np.sum(np34, axis=1))\n",
    "print(np.sum(np34, axis=2))"
   ]
  },
  {
   "cell_type": "code",
   "execution_count": null,
   "id": "6ca9d027",
   "metadata": {},
   "outputs": [],
   "source": [
    "np34[0,1]"
   ]
  },
  {
   "cell_type": "code",
   "execution_count": null,
   "id": "fda8db6e",
   "metadata": {},
   "outputs": [],
   "source": [
    "id(np34)"
   ]
  },
  {
   "cell_type": "code",
   "execution_count": null,
   "id": "a1c74d15",
   "metadata": {},
   "outputs": [],
   "source": [
    "id(np34[0,0])"
   ]
  },
  {
   "cell_type": "code",
   "execution_count": null,
   "id": "1baebd84",
   "metadata": {},
   "outputs": [],
   "source": [
    "id(np34[2,3])"
   ]
  },
  {
   "cell_type": "code",
   "execution_count": null,
   "id": "6bc2a98e",
   "metadata": {},
   "outputs": [],
   "source": [
    "90000*3.3"
   ]
  },
  {
   "cell_type": "code",
   "execution_count": null,
   "id": "d8406038",
   "metadata": {},
   "outputs": [],
   "source": [
    "90000*.55"
   ]
  },
  {
   "cell_type": "code",
   "execution_count": null,
   "id": "bb8cdb74",
   "metadata": {},
   "outputs": [],
   "source": [
    "90000*.35"
   ]
  },
  {
   "cell_type": "code",
   "execution_count": null,
   "id": "2bd70520",
   "metadata": {},
   "outputs": [],
   "source": [
    "206000/67500"
   ]
  },
  {
   "cell_type": "code",
   "execution_count": null,
   "id": "1edc8b96",
   "metadata": {},
   "outputs": [],
   "source": [
    "3.05+2.25"
   ]
  },
  {
   "cell_type": "markdown",
   "id": "6c2d073b",
   "metadata": {},
   "source": [
    "# Pandas"
   ]
  },
  {
   "cell_type": "code",
   "execution_count": null,
   "id": "90b98ae8",
   "metadata": {},
   "outputs": [],
   "source": [
    "TATA      100\n",
    "BIRLA     200\n",
    "WIPRO     300\n",
    "INFOSYS   400\n",
    "ITC       500"
   ]
  },
  {
   "cell_type": "code",
   "execution_count": null,
   "id": "55bbda72",
   "metadata": {},
   "outputs": [],
   "source": [
    "import pandas as pd"
   ]
  },
  {
   "cell_type": "code",
   "execution_count": null,
   "id": "ae8af643",
   "metadata": {},
   "outputs": [],
   "source": [
    "import os\n",
    "os.getcwd()"
   ]
  },
  {
   "cell_type": "code",
   "execution_count": null,
   "id": "310c0eb8",
   "metadata": {},
   "outputs": [],
   "source": [
    "mylist1 = [100,200,300,400,500]\n",
    "ps1 = pd.Series(mylist1)\n",
    "print(type(ps1))\n",
    "print(ps1.shape)\n",
    "print(ps1.dtype)"
   ]
  },
  {
   "cell_type": "code",
   "execution_count": null,
   "id": "bed1da06",
   "metadata": {},
   "outputs": [],
   "source": [
    "ps1"
   ]
  },
  {
   "cell_type": "code",
   "execution_count": null,
   "id": "bb517a39",
   "metadata": {},
   "outputs": [],
   "source": [
    "ps1.index"
   ]
  },
  {
   "cell_type": "code",
   "execution_count": null,
   "id": "b6afa9a4",
   "metadata": {},
   "outputs": [],
   "source": [
    "labels = ['Tata', 'Birla', 'Wipro', 'ITC', 'Reliance']\n",
    "ps2 = pd.Series(mylist1, index=labels)\n",
    "print(type(ps2))\n",
    "print(ps2.shape)\n",
    "print(ps2.dtype)\n",
    "print(ps2)"
   ]
  },
  {
   "cell_type": "code",
   "execution_count": null,
   "id": "52985bc9",
   "metadata": {},
   "outputs": [],
   "source": [
    "ps2.count"
   ]
  },
  {
   "cell_type": "code",
   "execution_count": null,
   "id": "5c04eb78",
   "metadata": {},
   "outputs": [],
   "source": [
    "ps2.count()"
   ]
  },
  {
   "cell_type": "code",
   "execution_count": null,
   "id": "000c8f10",
   "metadata": {},
   "outputs": [],
   "source": [
    "ps2.value_counts()"
   ]
  },
  {
   "cell_type": "code",
   "execution_count": null,
   "id": "261476c7",
   "metadata": {},
   "outputs": [],
   "source": [
    "ps2['Reliance'] = 100"
   ]
  },
  {
   "cell_type": "code",
   "execution_count": null,
   "id": "4929b766",
   "metadata": {},
   "outputs": [],
   "source": [
    "ps2.value_counts()"
   ]
  },
  {
   "cell_type": "code",
   "execution_count": null,
   "id": "2ec63405",
   "metadata": {},
   "outputs": [],
   "source": [
    "md1 = {'Tata':100,'Birla':200,'Wipro':300}"
   ]
  },
  {
   "cell_type": "code",
   "execution_count": null,
   "id": "c21b20b7",
   "metadata": {},
   "outputs": [],
   "source": [
    "ps3 = pd.Series(md1)"
   ]
  },
  {
   "cell_type": "code",
   "execution_count": null,
   "id": "759c6cb4",
   "metadata": {},
   "outputs": [],
   "source": [
    "ps3"
   ]
  },
  {
   "cell_type": "code",
   "execution_count": null,
   "id": "b1cd4f04",
   "metadata": {},
   "outputs": [],
   "source": [
    "ps3.index"
   ]
  },
  {
   "cell_type": "code",
   "execution_count": null,
   "id": "aeda6a50",
   "metadata": {},
   "outputs": [],
   "source": [
    "ps3.values"
   ]
  },
  {
   "cell_type": "markdown",
   "id": "173566a9",
   "metadata": {},
   "source": [
    "# Data Frames"
   ]
  },
  {
   "cell_type": "code",
   "execution_count": null,
   "id": "752cd998",
   "metadata": {},
   "outputs": [],
   "source": [
    "              Revenue      Exp   HQ\n",
    "    TATA      100           95   'Mumbai'\n",
    "    Birla     200          195   'Kolkata'\n",
    "    Wipro     300          295   'Bangalore'\n",
    "    ITC       400          395   'Kolkata'\n",
    "    MRF       500          495   'Chennai'"
   ]
  },
  {
   "cell_type": "code",
   "execution_count": null,
   "id": "a64b3b6d",
   "metadata": {},
   "outputs": [],
   "source": [
    "mylist53 = [\n",
    "    [100, 95,'Mumbai'],\n",
    "    [200,195,'Kolkata'],\n",
    "    [300,295,'Bangalore'],\n",
    "    [400,395,'Kolkata'],\n",
    "    [500,495,'Chennai']\n",
    "]"
   ]
  },
  {
   "cell_type": "code",
   "execution_count": null,
   "id": "7f2759fa",
   "metadata": {},
   "outputs": [],
   "source": [
    "df1 = pd.DataFrame(mylist53)\n",
    "df1"
   ]
  },
  {
   "cell_type": "code",
   "execution_count": null,
   "id": "e6dd44c7",
   "metadata": {},
   "outputs": [],
   "source": [
    "row_labels = ['Tata','Birla','Wipro','ITC','MRF']\n",
    "col_labels = ['Revenue','Exp', 'HQ']"
   ]
  },
  {
   "cell_type": "code",
   "execution_count": null,
   "id": "45aab080",
   "metadata": {},
   "outputs": [],
   "source": [
    "df2 = pd.DataFrame(mylist53, index=row_labels, columns=col_labels)\n",
    "df2"
   ]
  },
  {
   "cell_type": "code",
   "execution_count": null,
   "id": "03697fb9",
   "metadata": {},
   "outputs": [],
   "source": [
    "df2.index"
   ]
  },
  {
   "cell_type": "code",
   "execution_count": null,
   "id": "8feb6daa",
   "metadata": {},
   "outputs": [],
   "source": [
    "df2.columns"
   ]
  },
  {
   "cell_type": "code",
   "execution_count": null,
   "id": "d6915b6a",
   "metadata": {},
   "outputs": [],
   "source": [
    "df2.values"
   ]
  },
  {
   "cell_type": "code",
   "execution_count": null,
   "id": "11d6030d",
   "metadata": {},
   "outputs": [],
   "source": [
    "md2 = {\n",
    "    'Revenue' : [100,200,300,400,500],\n",
    "    'Exp': [95,195,295,395,495],\n",
    "    'HQ': ['Mumbai','Kolkata','Bangalore','Kolkata','Chennai']\n",
    "}\n",
    "\n",
    "df3 = pd.DataFrame(md2)\n",
    "df3"
   ]
  },
  {
   "cell_type": "code",
   "execution_count": null,
   "id": "21489e4b",
   "metadata": {},
   "outputs": [],
   "source": [
    "df3 = pd.DataFrame(md2, index = row_labels)\n",
    "df3"
   ]
  },
  {
   "cell_type": "code",
   "execution_count": null,
   "id": "6f092338",
   "metadata": {},
   "outputs": [],
   "source": [
    "df4 = pd.read_csv(\"C:/Users/Ravi/Python Sessions/lds1.csv\")"
   ]
  },
  {
   "cell_type": "code",
   "execution_count": null,
   "id": "972dfc2b",
   "metadata": {},
   "outputs": [],
   "source": [
    "df4"
   ]
  },
  {
   "cell_type": "code",
   "execution_count": null,
   "id": "d2b0e56c",
   "metadata": {},
   "outputs": [],
   "source": [
    "df4.shape"
   ]
  },
  {
   "cell_type": "code",
   "execution_count": null,
   "id": "863a8c64",
   "metadata": {},
   "outputs": [],
   "source": [
    "df4.head()"
   ]
  },
  {
   "cell_type": "code",
   "execution_count": null,
   "id": "104651a2",
   "metadata": {},
   "outputs": [],
   "source": [
    "df4.tail(3)"
   ]
  },
  {
   "cell_type": "code",
   "execution_count": null,
   "id": "9fcf6fa7",
   "metadata": {},
   "outputs": [],
   "source": [
    "df4.info()"
   ]
  },
  {
   "cell_type": "code",
   "execution_count": null,
   "id": "d6fe7154",
   "metadata": {},
   "outputs": [],
   "source": [
    "a = df4.info()"
   ]
  },
  {
   "cell_type": "code",
   "execution_count": null,
   "id": "d520fdde",
   "metadata": {},
   "outputs": [],
   "source": [
    "type(a)"
   ]
  },
  {
   "cell_type": "code",
   "execution_count": null,
   "id": "b0d49866",
   "metadata": {},
   "outputs": [],
   "source": [
    "print(dir(df4))           # existing columns are added as object attributes"
   ]
  },
  {
   "cell_type": "code",
   "execution_count": null,
   "id": "dda1e0b4",
   "metadata": {},
   "outputs": [],
   "source": [
    "df4.Vol"
   ]
  },
  {
   "cell_type": "code",
   "execution_count": null,
   "id": "1dc63818",
   "metadata": {},
   "outputs": [],
   "source": [
    "df4.describe()"
   ]
  },
  {
   "cell_type": "code",
   "execution_count": null,
   "id": "e6bf09e6",
   "metadata": {},
   "outputs": [],
   "source": [
    "d = df4.describe()\n",
    "print(type(d))"
   ]
  },
  {
   "cell_type": "code",
   "execution_count": null,
   "id": "ee1f5e15",
   "metadata": {},
   "outputs": [],
   "source": [
    "d1 = df4.describe(include='all')\n",
    "d1"
   ]
  },
  {
   "cell_type": "code",
   "execution_count": null,
   "id": "c1166fda",
   "metadata": {},
   "outputs": [],
   "source": [
    "d1.info()"
   ]
  },
  {
   "cell_type": "code",
   "execution_count": null,
   "id": "ebb24136",
   "metadata": {},
   "outputs": [],
   "source": [
    "df4.describe(include='object')"
   ]
  },
  {
   "cell_type": "code",
   "execution_count": null,
   "id": "1443d479",
   "metadata": {},
   "outputs": [],
   "source": [
    "df4.to_json('File.json')"
   ]
  },
  {
   "cell_type": "code",
   "execution_count": null,
   "id": "91999b04",
   "metadata": {},
   "outputs": [],
   "source": [
    "df4.to_excel('File.xlsx')"
   ]
  },
  {
   "cell_type": "code",
   "execution_count": null,
   "id": "52443b74",
   "metadata": {},
   "outputs": [],
   "source": [
    "df4.to_csv('File.csv')"
   ]
  },
  {
   "cell_type": "code",
   "execution_count": null,
   "id": "4fe3c980",
   "metadata": {},
   "outputs": [],
   "source": [
    "df4.to_html('File.html')"
   ]
  },
  {
   "cell_type": "code",
   "execution_count": null,
   "id": "0df86cc2",
   "metadata": {},
   "outputs": [],
   "source": [
    "df5 = pd.read_csv('File.csv')\n",
    "df5"
   ]
  },
  {
   "cell_type": "code",
   "execution_count": null,
   "id": "e0f40ead",
   "metadata": {},
   "outputs": [],
   "source": [
    "df5 = pd.read_csv('File.csv', index_col=0)\n",
    "df5"
   ]
  },
  {
   "cell_type": "code",
   "execution_count": null,
   "id": "549ab73a",
   "metadata": {},
   "outputs": [],
   "source": [
    "df6 = pd.read_html('File.html')\n",
    "df6"
   ]
  },
  {
   "cell_type": "code",
   "execution_count": null,
   "id": "4e896dec",
   "metadata": {},
   "outputs": [],
   "source": [
    "df6 = pd.read_html('File.html', index_col=0)\n",
    "df6[0]"
   ]
  },
  {
   "cell_type": "markdown",
   "id": "0805d625",
   "metadata": {},
   "source": [
    "# Access"
   ]
  },
  {
   "cell_type": "code",
   "execution_count": null,
   "id": "07e0236b",
   "metadata": {},
   "outputs": [],
   "source": [
    "Grammer for Access\n",
    "    1. Direct Access\n",
    "    2. integer location based access\n",
    "    3. label based access\n",
    "    \n",
    "Direct Access\n",
    "    df1['col_label_only']  OR df1.col_label_only\n",
    "    df1[[list of col_labels_only]]\n",
    "    df1[ slice of row labels only] with endpoint = True\n",
    "    df1[ slice of row_n_indices_only] with endpoint = False\n",
    "Integer Location based Access\n",
    "    df1.iloc[ row_n_index ]\n",
    "    df1.iloc[ row_n_indices, col_n_index ]\n",
    "    df1.iloc[ row_n_slice ]\n",
    "    df1.iloc[ row_n_slice, col_n_slice ]\n",
    "    \n",
    "Label based Access"
   ]
  },
  {
   "cell_type": "code",
   "execution_count": null,
   "id": "723a7fc7",
   "metadata": {},
   "outputs": [],
   "source": [
    "df4.iloc[[1,2,-2,-1], [1,2,3]]"
   ]
  },
  {
   "cell_type": "code",
   "execution_count": null,
   "id": "b25b04ea",
   "metadata": {},
   "outputs": [],
   "source": [
    "df4.iloc[:5,2:8]"
   ]
  },
  {
   "cell_type": "code",
   "execution_count": null,
   "id": "0d4612df",
   "metadata": {},
   "outputs": [],
   "source": [
    "df4.loc['NCR_Leagles']"
   ]
  },
  {
   "cell_type": "code",
   "execution_count": null,
   "id": "f72609ae",
   "metadata": {},
   "outputs": [],
   "source": [
    "df4.loc['NCR_Leagles']['Exp']"
   ]
  },
  {
   "cell_type": "code",
   "execution_count": null,
   "id": "34c364de",
   "metadata": {},
   "outputs": [],
   "source": [
    "df4.loc['NCR_Leagles':'Indi_Services']['Exp']"
   ]
  },
  {
   "cell_type": "code",
   "execution_count": null,
   "id": "27a4fde4",
   "metadata": {},
   "outputs": [],
   "source": [
    "df4.loc[['NCR_Leagles','Bangalore_Systems','Chennai_Chemicals','Indi_Services','Bangalore_Breweries','Bombay_Finance'],['HQ']]"
   ]
  },
  {
   "cell_type": "code",
   "execution_count": null,
   "id": "bf67064f",
   "metadata": {},
   "outputs": [],
   "source": [
    "df4.columns.str.startswith('S')"
   ]
  },
  {
   "cell_type": "code",
   "execution_count": null,
   "id": "b6c00eea",
   "metadata": {},
   "outputs": [],
   "source": [
    "df4.loc[:,df4.columns[df4.columns.str.startswith('S')]]"
   ]
  },
  {
   "cell_type": "code",
   "execution_count": null,
   "id": "423d5cde",
   "metadata": {},
   "outputs": [],
   "source": [
    "series_mask = df4.Vol > df4.Vol.mean()\n",
    "series_mask"
   ]
  },
  {
   "cell_type": "code",
   "execution_count": null,
   "id": "f4c37140",
   "metadata": {},
   "outputs": [],
   "source": [
    "df4[ df4.Vol > df4.Vol.mean() ]"
   ]
  },
  {
   "cell_type": "code",
   "execution_count": null,
   "id": "3d1a570c",
   "metadata": {},
   "outputs": [],
   "source": [
    "df4.loc[ ( df4.Vol > df4.Vol.mean() ) & ( df4.GST == 'Goods' ) ]"
   ]
  },
  {
   "cell_type": "code",
   "execution_count": null,
   "id": "dad53618",
   "metadata": {},
   "outputs": [],
   "source": [
    "df4.loc[df4.Vol > df4.Vol.mean(),['EmpCnt','StockID']]"
   ]
  },
  {
   "cell_type": "code",
   "execution_count": null,
   "id": "a277de6a",
   "metadata": {},
   "outputs": [],
   "source": [
    "df4.loc[df4.Vol > df4.Vol.mean(),'Sector':'StockID']"
   ]
  },
  {
   "cell_type": "code",
   "execution_count": null,
   "id": "42be00a7",
   "metadata": {},
   "outputs": [],
   "source": [
    "df4['profit'] = df4.Rev - df4.Exp\n",
    "df4"
   ]
  },
  {
   "cell_type": "code",
   "execution_count": null,
   "id": "103a0480",
   "metadata": {},
   "outputs": [],
   "source": [
    "df4[df4.Rev > df4.Rev.mean() ]"
   ]
  },
  {
   "cell_type": "code",
   "execution_count": null,
   "id": "0a09f2e4",
   "metadata": {},
   "outputs": [],
   "source": [
    "df4.loc[df4.Rev > df4.Rev.mean(),'Rev'] = 999"
   ]
  },
  {
   "cell_type": "code",
   "execution_count": null,
   "id": "5aefc23e",
   "metadata": {},
   "outputs": [],
   "source": [
    "df4[df4.Rev > df4.Rev.mean() ]"
   ]
  },
  {
   "cell_type": "markdown",
   "id": "ada781d9",
   "metadata": {},
   "source": [
    "# Insert"
   ]
  },
  {
   "cell_type": "code",
   "execution_count": null,
   "id": "e973db92",
   "metadata": {},
   "outputs": [],
   "source": [
    "profit = df4.Rev - df4.Exp"
   ]
  },
  {
   "cell_type": "code",
   "execution_count": null,
   "id": "eb7e3ffd",
   "metadata": {},
   "outputs": [],
   "source": [
    "profit"
   ]
  },
  {
   "cell_type": "code",
   "execution_count": null,
   "id": "09244afd",
   "metadata": {},
   "outputs": [],
   "source": [
    "df4.insert(3,column='Profit',value=profit)"
   ]
  },
  {
   "cell_type": "code",
   "execution_count": null,
   "id": "75e18db5",
   "metadata": {},
   "outputs": [],
   "source": [
    "df4.drop(labels=['profit'])"
   ]
  },
  {
   "cell_type": "markdown",
   "id": "99f1147a",
   "metadata": {},
   "source": [
    "# Map"
   ]
  },
  {
   "cell_type": "code",
   "execution_count": null,
   "id": "bcc1be8a",
   "metadata": {},
   "outputs": [],
   "source": [
    "md1 = {'Hyd':'South','Kol':'East','NCR':'North','Blr':'South','Che':'South','Mum':'West'}"
   ]
  },
  {
   "cell_type": "code",
   "execution_count": null,
   "id": "cc151227",
   "metadata": {},
   "outputs": [],
   "source": [
    "df4['Zone'] = df4.HQ.map(md1)"
   ]
  },
  {
   "cell_type": "code",
   "execution_count": null,
   "id": "af84ac5c",
   "metadata": {},
   "outputs": [],
   "source": [
    "df4"
   ]
  },
  {
   "cell_type": "code",
   "execution_count": null,
   "id": "5b5d8f63",
   "metadata": {},
   "outputs": [],
   "source": [
    "df4.drop('Profit',axis=1)"
   ]
  },
  {
   "cell_type": "code",
   "execution_count": null,
   "id": "17921cec",
   "metadata": {},
   "outputs": [],
   "source": [
    "df4"
   ]
  },
  {
   "cell_type": "code",
   "execution_count": null,
   "id": "8883847a",
   "metadata": {},
   "outputs": [],
   "source": [
    "def sales_performance(vol_sales):\n",
    "    if vol_sales < 930:\n",
    "        return 'Average'\n",
    "    elif vol_sales > 960:\n",
    "        return 'Excellent'\n",
    "    else:\n",
    "        return 'Good'"
   ]
  },
  {
   "cell_type": "code",
   "execution_count": null,
   "id": "9431230d",
   "metadata": {},
   "outputs": [],
   "source": [
    "df4['Sales_performance'] = df4.Vol.map(sales_performance)\n",
    "df4"
   ]
  },
  {
   "cell_type": "code",
   "execution_count": null,
   "id": "389bd7a7",
   "metadata": {},
   "outputs": [],
   "source": [
    "df4['SP1'] = df4.Vol.map(lambda s: 'E' if s > 960 else 'A' if s < 930 else 'G')\n",
    "df4"
   ]
  },
  {
   "cell_type": "markdown",
   "id": "bb1ee01d",
   "metadata": {},
   "source": [
    "# Drop"
   ]
  },
  {
   "cell_type": "code",
   "execution_count": null,
   "id": "06ce058e",
   "metadata": {},
   "outputs": [],
   "source": [
    "df4.drop(index=['Indi_Services','Eastern_Estates'],columns=['Vol','Rev','GST'])    # Doesnot change the original Data Frame"
   ]
  },
  {
   "cell_type": "code",
   "execution_count": null,
   "id": "24b21095",
   "metadata": {},
   "outputs": [],
   "source": [
    "df4"
   ]
  },
  {
   "cell_type": "code",
   "execution_count": null,
   "id": "0394103f",
   "metadata": {},
   "outputs": [],
   "source": [
    "df4.drop(index=['Indi_Services','Eastern_Estates'],columns=['Vol','Rev','GST'], inplace=True) # Changes the actual Data Frame"
   ]
  },
  {
   "cell_type": "code",
   "execution_count": null,
   "id": "3cfd188f",
   "metadata": {},
   "outputs": [],
   "source": [
    "df4"
   ]
  },
  {
   "cell_type": "markdown",
   "id": "37764080",
   "metadata": {},
   "source": [
    "# Rename"
   ]
  },
  {
   "cell_type": "code",
   "execution_count": null,
   "id": "640c29fe",
   "metadata": {},
   "outputs": [],
   "source": [
    "df4.rename(index={'Bangalore_Breweries':'UB'})"
   ]
  },
  {
   "cell_type": "code",
   "execution_count": null,
   "id": "a2be5273",
   "metadata": {},
   "outputs": [],
   "source": [
    "df4.rename(index={'Bangalore_Breweries':'UB'},columns={'SP1':'Sales_Performance1'})"
   ]
  },
  {
   "cell_type": "markdown",
   "id": "f382edbf",
   "metadata": {},
   "source": [
    "# Replace"
   ]
  },
  {
   "cell_type": "code",
   "execution_count": null,
   "id": "11c5aba9",
   "metadata": {},
   "outputs": [],
   "source": [
    "df4.Sector.replace('Pub','Public',inplace=True)"
   ]
  },
  {
   "cell_type": "code",
   "execution_count": null,
   "id": "c4d73509",
   "metadata": {},
   "outputs": [],
   "source": [
    "df4"
   ]
  },
  {
   "cell_type": "code",
   "execution_count": null,
   "id": "64bc77f0",
   "metadata": {},
   "outputs": [],
   "source": [
    "df4.sort_index()"
   ]
  },
  {
   "cell_type": "code",
   "execution_count": null,
   "id": "c67a9ced",
   "metadata": {},
   "outputs": [],
   "source": [
    "df4.sort_index(ascending=False)"
   ]
  },
  {
   "cell_type": "code",
   "execution_count": null,
   "id": "70eafcae",
   "metadata": {},
   "outputs": [],
   "source": [
    "df4.sort_index(axis=1)"
   ]
  },
  {
   "cell_type": "code",
   "execution_count": null,
   "id": "36638303",
   "metadata": {},
   "outputs": [],
   "source": [
    "df4.sort_index(ascending=False).sort_index(axis=1)"
   ]
  },
  {
   "cell_type": "code",
   "execution_count": null,
   "id": "5e256c39",
   "metadata": {},
   "outputs": [],
   "source": [
    "print(dir(__builtins__))"
   ]
  },
  {
   "cell_type": "code",
   "execution_count": null,
   "id": "43ed9172",
   "metadata": {},
   "outputs": [],
   "source": [
    "df4 = pd.read_csv('lds1.csv')\n",
    "df4.sort_values(by='Vol')"
   ]
  },
  {
   "cell_type": "code",
   "execution_count": null,
   "id": "a0a04b31",
   "metadata": {},
   "outputs": [],
   "source": [
    "df4.sort_values(by=['Vol','Rev'],ascending=True)"
   ]
  },
  {
   "cell_type": "code",
   "execution_count": null,
   "id": "fb7ea90e",
   "metadata": {},
   "outputs": [],
   "source": [
    "df4.sort_values(by=['Vol','Rev'],ascending=[True,False])"
   ]
  },
  {
   "cell_type": "code",
   "execution_count": null,
   "id": "ee6cf456",
   "metadata": {},
   "outputs": [],
   "source": [
    "df4.sort_values(by='Bombay_Finance', axis = 1)"
   ]
  },
  {
   "cell_type": "code",
   "execution_count": null,
   "id": "5af718a1",
   "metadata": {},
   "outputs": [],
   "source": [
    "df4.select_dtypes(include='number').sort_values(by='Bombay_Finance', axis = 1)"
   ]
  },
  {
   "cell_type": "code",
   "execution_count": null,
   "id": "0676a106",
   "metadata": {},
   "outputs": [],
   "source": [
    "df4 = pd.read_csv('lds1.csv')\n",
    "dfp = pd.pivot_table(df4, index=['Sector','GST'], values='Vol',aggfunc=['mean','count'])"
   ]
  },
  {
   "cell_type": "code",
   "execution_count": null,
   "id": "dc6ee1d2",
   "metadata": {},
   "outputs": [],
   "source": [
    "dfp"
   ]
  },
  {
   "cell_type": "code",
   "execution_count": null,
   "id": "117e2996",
   "metadata": {},
   "outputs": [],
   "source": [
    "dfp.index"
   ]
  },
  {
   "cell_type": "code",
   "execution_count": null,
   "id": "af7a7940",
   "metadata": {},
   "outputs": [],
   "source": [
    "dfp.columns"
   ]
  },
  {
   "cell_type": "code",
   "execution_count": null,
   "id": "d5993acc",
   "metadata": {},
   "outputs": [],
   "source": [
    "dfp1 = pd.pivot_table(df4, index='Sector', columns='GST',values='Vol',aggfunc='mean')"
   ]
  },
  {
   "cell_type": "code",
   "execution_count": null,
   "id": "25f02af9",
   "metadata": {},
   "outputs": [],
   "source": [
    "dfp1"
   ]
  },
  {
   "cell_type": "code",
   "execution_count": null,
   "id": "9ce9f724",
   "metadata": {},
   "outputs": [],
   "source": [
    "dfp1 = pd.pivot_table(df4, index='Sector', columns='GST',values=['Rev','Vol'],aggfunc='mean')\n",
    "dfp1"
   ]
  },
  {
   "cell_type": "code",
   "execution_count": null,
   "id": "4c16bec0",
   "metadata": {},
   "outputs": [],
   "source": [
    "dfp1.loc['Pub',('Rev','Services')]"
   ]
  },
  {
   "cell_type": "code",
   "execution_count": null,
   "id": "b58b5fed",
   "metadata": {},
   "outputs": [],
   "source": [
    "dfp2 = pd.pivot_table(df4, index='Sector',values='Vol',aggfunc=[min,max])"
   ]
  },
  {
   "cell_type": "code",
   "execution_count": null,
   "id": "cbb64717",
   "metadata": {},
   "outputs": [],
   "source": [
    "dfp2"
   ]
  },
  {
   "cell_type": "code",
   "execution_count": null,
   "id": "445805a9",
   "metadata": {},
   "outputs": [],
   "source": [
    "def minmaxdiff(series):\n",
    "    return series.max() - series.min()"
   ]
  },
  {
   "cell_type": "code",
   "execution_count": null,
   "id": "bb95758f",
   "metadata": {},
   "outputs": [],
   "source": [
    "minmaxdiff(df4.Vol)"
   ]
  },
  {
   "cell_type": "code",
   "execution_count": null,
   "id": "1ea19667",
   "metadata": {},
   "outputs": [],
   "source": [
    "dfp3 = pd.pivot_table(df4, index='Sector', values='Vol',aggfunc=['min','max',minmaxdiff])\n",
    "dfp3"
   ]
  },
  {
   "cell_type": "code",
   "execution_count": null,
   "id": "58a2d2f3",
   "metadata": {},
   "outputs": [],
   "source": [
    "dfp3 = pd.pivot_table(df4, index='Sector', values='Vol',aggfunc=['min','max',minmaxdiff])\n",
    "dfp3"
   ]
  },
  {
   "cell_type": "markdown",
   "id": "727a657e",
   "metadata": {},
   "source": [
    "# Groupby"
   ]
  },
  {
   "cell_type": "code",
   "execution_count": null,
   "id": "a6e7d52b",
   "metadata": {},
   "outputs": [],
   "source": [
    "df4 = pd.read_csv('lds1.csv')\n",
    "dfg1 = df4.groupby(by='Sector')\n",
    "dfg1"
   ]
  },
  {
   "cell_type": "code",
   "execution_count": null,
   "id": "fe9cee96",
   "metadata": {},
   "outputs": [],
   "source": [
    "for value in dfg1:\n",
    "    print(value)\n",
    "    print()"
   ]
  },
  {
   "cell_type": "code",
   "execution_count": null,
   "id": "3b6dd716",
   "metadata": {},
   "outputs": [],
   "source": [
    "for value in dfg1:\n",
    "    print(value[0])\n",
    "    print(value[1])\n",
    "    print()\n",
    "    "
   ]
  },
  {
   "cell_type": "code",
   "execution_count": null,
   "id": "80763c08",
   "metadata": {},
   "outputs": [],
   "source": [
    "dfg1.Sector.count()"
   ]
  },
  {
   "cell_type": "code",
   "execution_count": null,
   "id": "7edbf506",
   "metadata": {},
   "outputs": [],
   "source": [
    "dfg1.Sector.value_counts()"
   ]
  },
  {
   "cell_type": "code",
   "execution_count": null,
   "id": "7aab8b47",
   "metadata": {},
   "outputs": [],
   "source": [
    "df4.groupby(by='Sector')['Vol'].mean()"
   ]
  },
  {
   "cell_type": "code",
   "execution_count": null,
   "id": "8585e397",
   "metadata": {},
   "outputs": [],
   "source": [
    "df4.groupby(by='Sector')['Vol'].agg(['mean','sum'])"
   ]
  },
  {
   "cell_type": "code",
   "execution_count": null,
   "id": "6bac1b95",
   "metadata": {},
   "outputs": [],
   "source": [
    "df4.groupby(by='Sector')[['Vol','Rev']].agg(['mean','sum'])"
   ]
  },
  {
   "cell_type": "code",
   "execution_count": null,
   "id": "6c81b7f8",
   "metadata": {},
   "outputs": [],
   "source": []
  }
 ],
 "metadata": {
  "kernelspec": {
   "display_name": "Python 3 (ipykernel)",
   "language": "python",
   "name": "python3"
  },
  "language_info": {
   "codemirror_mode": {
    "name": "ipython",
    "version": 3
   },
   "file_extension": ".py",
   "mimetype": "text/x-python",
   "name": "python",
   "nbconvert_exporter": "python",
   "pygments_lexer": "ipython3",
   "version": "3.11.7"
  }
 },
 "nbformat": 4,
 "nbformat_minor": 5
}
