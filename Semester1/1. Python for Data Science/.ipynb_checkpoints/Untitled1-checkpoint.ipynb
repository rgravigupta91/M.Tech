{
 "cells": [
  {
   "cell_type": "code",
   "execution_count": 1,
   "id": "f38771d8",
   "metadata": {},
   "outputs": [],
   "source": [
    "array = [[5] * 2 for _ in range(3)]"
   ]
  },
  {
   "cell_type": "code",
   "execution_count": 2,
   "id": "0150008d",
   "metadata": {},
   "outputs": [
    {
     "data": {
      "text/plain": [
       "[[5, 5], [5, 5], [5, 5]]"
      ]
     },
     "execution_count": 2,
     "metadata": {},
     "output_type": "execute_result"
    }
   ],
   "source": [
    "array"
   ]
  },
  {
   "cell_type": "code",
   "execution_count": 4,
   "id": "61853e3a",
   "metadata": {},
   "outputs": [
    {
     "name": "stdout",
     "output_type": "stream",
     "text": [
      "5\n",
      "[[5, 5], [5, 5], [5, 5]]\n"
     ]
    }
   ],
   "source": [
    "constant = int(input())\n",
    "\n",
    "# Write your code below\n",
    "\n",
    "array = [[constant] * 2 for _ in range(3)]\n",
    "print(array)"
   ]
  },
  {
   "cell_type": "code",
   "execution_count": 10,
   "id": "28892972",
   "metadata": {},
   "outputs": [
    {
     "name": "stdout",
     "output_type": "stream",
     "text": [
      "5, 10, 15, 20, 25, 30, 20, 40, 20, 50\n"
     ]
    }
   ],
   "source": [
    "import sys\n",
    "\n",
    "# write your answer here\n",
    "list1 = list(map(int,input().strip().split(',')))[:] = [i for i in list1 if i != 20] "
   ]
  },
  {
   "cell_type": "code",
   "execution_count": 11,
   "id": "3cb0bcf9",
   "metadata": {},
   "outputs": [
    {
     "data": {
      "text/plain": [
       "[5, 10, 15, 25, 30, 40, 50]"
      ]
     },
     "execution_count": 11,
     "metadata": {},
     "output_type": "execute_result"
    }
   ],
   "source": [
    "list1"
   ]
  },
  {
   "cell_type": "code",
   "execution_count": 12,
   "id": "b9f2baa8",
   "metadata": {},
   "outputs": [
    {
     "name": "stdout",
     "output_type": "stream",
     "text": [
      "[['Hello', 'World'], ['Python', 'is', 'fun'], ['I', 'love', 'coding']]\n",
      "['is', 'fun', 'I', 'love']\n"
     ]
    }
   ],
   "source": [
    "words = eval(input())\n",
    "\n",
    "list1 = []\n",
    "for l1 in words:\n",
    "    for word in l1:\n",
    "        if len(word) < 5:\n",
    "            list1.append(word)\n",
    "            \n",
    "            \n",
    "print(list1)            "
   ]
  },
  {
   "cell_type": "code",
   "execution_count": 13,
   "id": "136713c6",
   "metadata": {},
   "outputs": [
    {
     "ename": "NameError",
     "evalue": "name 'my_string' is not defined",
     "output_type": "error",
     "traceback": [
      "\u001b[1;31m---------------------------------------------------------------------------\u001b[0m",
      "\u001b[1;31mNameError\u001b[0m                                 Traceback (most recent call last)",
      "Cell \u001b[1;32mIn[13], line 1\u001b[0m\n\u001b[1;32m----> 1\u001b[0m my_string\n",
      "\u001b[1;31mNameError\u001b[0m: name 'my_string' is not defined"
     ]
    }
   ],
   "source": [
    "my_string"
   ]
  },
  {
   "cell_type": "code",
   "execution_count": 14,
   "id": "00043485",
   "metadata": {},
   "outputs": [],
   "source": [
    "my_string = \"Hello World\""
   ]
  },
  {
   "cell_type": "code",
   "execution_count": 15,
   "id": "d4c1e442",
   "metadata": {},
   "outputs": [
    {
     "data": {
      "text/plain": [
       "'Hello World'"
      ]
     },
     "execution_count": 15,
     "metadata": {},
     "output_type": "execute_result"
    }
   ],
   "source": [
    "my_string"
   ]
  },
  {
   "cell_type": "code",
   "execution_count": 16,
   "id": "db335e2a",
   "metadata": {},
   "outputs": [
    {
     "data": {
      "text/plain": [
       "'dlroW olleH'"
      ]
     },
     "execution_count": 16,
     "metadata": {},
     "output_type": "execute_result"
    }
   ],
   "source": [
    "my_string[::-1]"
   ]
  },
  {
   "cell_type": "code",
   "execution_count": 19,
   "id": "1997e4c4",
   "metadata": {},
   "outputs": [
    {
     "name": "stdout",
     "output_type": "stream",
     "text": [
      "This is a Normal Satring Statement\n"
     ]
    },
    {
     "data": {
      "text/plain": [
       "['this', 'is', 'a', 'normal', 'satring', 'statement']"
      ]
     },
     "execution_count": 19,
     "metadata": {},
     "output_type": "execute_result"
    }
   ],
   "source": [
    "text = input()\n",
    "text = text.lower()\n",
    "\n",
    "list1 = text.split()\n",
    "dict1 = {}\n",
    "for w in text:\n",
    "    dict1.update"
   ]
  },
  {
   "cell_type": "code",
   "execution_count": null,
   "id": "796a4724",
   "metadata": {},
   "outputs": [],
   "source": []
  }
 ],
 "metadata": {
  "kernelspec": {
   "display_name": "Python 3 (ipykernel)",
   "language": "python",
   "name": "python3"
  },
  "language_info": {
   "codemirror_mode": {
    "name": "ipython",
    "version": 3
   },
   "file_extension": ".py",
   "mimetype": "text/x-python",
   "name": "python",
   "nbconvert_exporter": "python",
   "pygments_lexer": "ipython3",
   "version": "3.11.5"
  }
 },
 "nbformat": 4,
 "nbformat_minor": 5
}
