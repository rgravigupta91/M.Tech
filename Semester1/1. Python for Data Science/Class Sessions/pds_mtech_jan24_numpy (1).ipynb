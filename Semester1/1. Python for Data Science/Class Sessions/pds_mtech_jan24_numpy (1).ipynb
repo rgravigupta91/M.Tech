{
 "cells": [
  {
   "cell_type": "markdown",
   "id": "31c27995",
   "metadata": {},
   "source": [
    "# NUMPY"
   ]
  },
  {
   "cell_type": "markdown",
   "id": "1749c846",
   "metadata": {},
   "source": [
    "# 7/Jan/2024"
   ]
  },
  {
   "cell_type": "code",
   "execution_count": null,
   "id": "b009d587",
   "metadata": {},
   "outputs": [],
   "source": [
    "import numpy as np"
   ]
  },
  {
   "cell_type": "markdown",
   "id": "c7efdab1",
   "metadata": {},
   "source": [
    "# Array Creation"
   ]
  },
  {
   "cell_type": "code",
   "execution_count": null,
   "id": "4003550d",
   "metadata": {},
   "outputs": [],
   "source": [
    "mylist1 = [11,22,33,44.78,55]\n",
    "\n",
    "n5 = np.array(mylist1)\n",
    "print(type(n5))\n",
    "print('ndim',n5.ndim)\n",
    "print('shape',n5.shape)\n",
    "print('size',n5.size)\n",
    "print('itemsize',n5.itemsize)\n",
    "print('dtype',n5.dtype)\n",
    "print(n5)"
   ]
  },
  {
   "cell_type": "code",
   "execution_count": null,
   "id": "ee2bcd3b",
   "metadata": {},
   "outputs": [],
   "source": [
    "n5"
   ]
  },
  {
   "cell_type": "code",
   "execution_count": null,
   "id": "49c61129",
   "metadata": {},
   "outputs": [],
   "source": [
    "mylist1 = [11,22,33,260,55]\n",
    "\n",
    "n5 = np.array(mylist1, dtype=np.int16)\n",
    "print(type(n5))\n",
    "print('ndim',n5.ndim)\n",
    "print('shape',n5.shape)\n",
    "print('size',n5.size)\n",
    "print('itemsize',n5.itemsize)\n",
    "print('dtype',n5.dtype)\n",
    "print(n5)"
   ]
  },
  {
   "cell_type": "code",
   "execution_count": null,
   "id": "77a0cafb",
   "metadata": {},
   "outputs": [],
   "source": [
    "mylist1 = [65,75,85,66,76]\n",
    "\n",
    "n5 = np.array(mylist1)\n",
    "print(n5)\n",
    "print(n5+10)"
   ]
  },
  {
   "cell_type": "code",
   "execution_count": null,
   "id": "6dd881df",
   "metadata": {},
   "outputs": [],
   "source": [
    "high = [470,460,450,480,430]\n",
    "low = [430,420,445,475,425]\n",
    "\n",
    "nhigh = np.array(high)\n",
    "nlow = np.array(low)\n",
    "nvolatile = nhigh-nlow\n",
    "nvolatile"
   ]
  },
  {
   "cell_type": "code",
   "execution_count": null,
   "id": "6d5059cf",
   "metadata": {},
   "outputs": [],
   "source": [
    "print(nvolatile)"
   ]
  },
  {
   "cell_type": "markdown",
   "id": "6e13620d",
   "metadata": {},
   "source": [
    "# Create 2 dim matrix"
   ]
  },
  {
   "cell_type": "raw",
   "id": "641ef9e4",
   "metadata": {},
   "source": [
    "111 222 333\n",
    "444 555 666"
   ]
  },
  {
   "cell_type": "code",
   "execution_count": null,
   "id": "c7a40d7e",
   "metadata": {},
   "outputs": [],
   "source": [
    "mylist1 = [\n",
    "    [111,222,333],\n",
    "    [444,555,666]\n",
    "]"
   ]
  },
  {
   "cell_type": "code",
   "execution_count": null,
   "id": "e1bb7427",
   "metadata": {},
   "outputs": [],
   "source": [
    "n23 = np.array(mylist1)\n",
    "print(type(n23))\n",
    "print('ndim',n23.ndim)\n",
    "print('shape',n23.shape)\n",
    "print('size',n23.size)\n",
    "print('itemsize',n23.itemsize)\n",
    "print('dtype',n23.dtype)\n",
    "print(n23)\n",
    "n23"
   ]
  },
  {
   "cell_type": "code",
   "execution_count": null,
   "id": "2f87cdd2",
   "metadata": {},
   "outputs": [],
   "source": [
    "np.random.seed(23)\n",
    "n64 = np.random.randint(low=10, high=100, size=(6,4))##, dtype=np.int32)\n",
    "n64"
   ]
  },
  {
   "cell_type": "code",
   "execution_count": null,
   "id": "a56da9f2",
   "metadata": {},
   "outputs": [],
   "source": [
    "n1 = np.arange(10)\n",
    "n1"
   ]
  },
  {
   "cell_type": "code",
   "execution_count": null,
   "id": "4ba82a4e",
   "metadata": {},
   "outputs": [],
   "source": [
    "np.arange(10)"
   ]
  },
  {
   "cell_type": "code",
   "execution_count": null,
   "id": "f80e9d84",
   "metadata": {},
   "outputs": [],
   "source": [
    "np.arange(10,20)"
   ]
  },
  {
   "cell_type": "code",
   "execution_count": null,
   "id": "bf737fe0",
   "metadata": {},
   "outputs": [],
   "source": [
    "np.arange(10,30,2)"
   ]
  },
  {
   "cell_type": "code",
   "execution_count": null,
   "id": "523e5bdd",
   "metadata": {},
   "outputs": [],
   "source": [
    "np.arange(10.1, 99.99, 23.45)"
   ]
  },
  {
   "cell_type": "code",
   "execution_count": null,
   "id": "03ab5cc3",
   "metadata": {},
   "outputs": [],
   "source": [
    "np.arange(10,1,-2)"
   ]
  },
  {
   "cell_type": "code",
   "execution_count": null,
   "id": "9105a5d4",
   "metadata": {},
   "outputs": [],
   "source": [
    "n = np.arange(10.1, 20.1, 0.1)\n",
    "n"
   ]
  },
  {
   "cell_type": "code",
   "execution_count": null,
   "id": "5047a019",
   "metadata": {},
   "outputs": [],
   "source": [
    "n[-2]"
   ]
  },
  {
   "cell_type": "code",
   "execution_count": null,
   "id": "6f9fdb95",
   "metadata": {},
   "outputs": [],
   "source": [
    "n64 = np.arange(24)\n",
    "print(n64.ndim)\n",
    "n64"
   ]
  },
  {
   "cell_type": "code",
   "execution_count": null,
   "id": "45590497",
   "metadata": {},
   "outputs": [],
   "source": [
    "n64.reshape(6,4)"
   ]
  },
  {
   "cell_type": "code",
   "execution_count": null,
   "id": "f32b98fc",
   "metadata": {},
   "outputs": [],
   "source": [
    "n64 = np.arange(24).reshape(6,4)\n",
    "n64"
   ]
  },
  {
   "cell_type": "code",
   "execution_count": null,
   "id": "5385524f",
   "metadata": {},
   "outputs": [],
   "source": [
    "n64.reshape(4,6)"
   ]
  },
  {
   "cell_type": "code",
   "execution_count": null,
   "id": "b875dae0",
   "metadata": {},
   "outputs": [],
   "source": [
    "n64.reshape(2,12)"
   ]
  },
  {
   "cell_type": "code",
   "execution_count": null,
   "id": "e7887128",
   "metadata": {},
   "outputs": [],
   "source": [
    "n234 = n64.reshape(2,3,4)\n",
    "print(n234.shape)\n",
    "n234"
   ]
  },
  {
   "cell_type": "markdown",
   "id": "e0d91be3",
   "metadata": {},
   "source": [
    "# Operations"
   ]
  },
  {
   "cell_type": "code",
   "execution_count": null,
   "id": "e24cf166",
   "metadata": {},
   "outputs": [],
   "source": [
    "n34a = np.arange(1,13).reshape(3,4)\n",
    "n34a"
   ]
  },
  {
   "cell_type": "code",
   "execution_count": null,
   "id": "0a20f527",
   "metadata": {},
   "outputs": [],
   "source": [
    "n34b = np.arange(101,113).reshape(3,4)\n",
    "n34b"
   ]
  },
  {
   "cell_type": "code",
   "execution_count": null,
   "id": "5f284ed0",
   "metadata": {},
   "outputs": [],
   "source": [
    "n34a+n34b"
   ]
  },
  {
   "cell_type": "code",
   "execution_count": null,
   "id": "1e2ff1e3",
   "metadata": {},
   "outputs": [],
   "source": [
    "n34a*n34b"
   ]
  },
  {
   "cell_type": "code",
   "execution_count": null,
   "id": "ee9fd25a",
   "metadata": {},
   "outputs": [],
   "source": [
    "n34a-n34b"
   ]
  },
  {
   "cell_type": "code",
   "execution_count": null,
   "id": "d4b52061",
   "metadata": {},
   "outputs": [],
   "source": [
    "n34a@n34b  ##  Matrix Multiplication"
   ]
  },
  {
   "cell_type": "code",
   "execution_count": null,
   "id": "0aeaa408",
   "metadata": {},
   "outputs": [],
   "source": [
    "# MxN  NxK  =  MxK"
   ]
  },
  {
   "cell_type": "code",
   "execution_count": null,
   "id": "4c5afcd4",
   "metadata": {},
   "outputs": [],
   "source": [
    "n43 = n34b.T    ##  transpose\n",
    "n43"
   ]
  },
  {
   "cell_type": "code",
   "execution_count": null,
   "id": "85788583",
   "metadata": {},
   "outputs": [],
   "source": [
    "n34a@n43  ##  typical matrix multiplication"
   ]
  },
  {
   "cell_type": "markdown",
   "id": "20054c9e",
   "metadata": {},
   "source": [
    "# Matrix Access"
   ]
  },
  {
   "cell_type": "code",
   "execution_count": null,
   "id": "ac7fb685",
   "metadata": {},
   "outputs": [],
   "source": [
    "np.random.seed(23)\n",
    "n89 = np.random.randint(low=10, high=100, size=(8,9))\n",
    "n89"
   ]
  },
  {
   "cell_type": "code",
   "execution_count": null,
   "id": "cead122f",
   "metadata": {},
   "outputs": [],
   "source": [
    "n89[0]"
   ]
  },
  {
   "cell_type": "code",
   "execution_count": null,
   "id": "b60688e5",
   "metadata": {},
   "outputs": [],
   "source": [
    "n89[0,0]"
   ]
  },
  {
   "cell_type": "code",
   "execution_count": null,
   "id": "63e7a1e4",
   "metadata": {},
   "outputs": [],
   "source": [
    "n89[-1]"
   ]
  },
  {
   "cell_type": "code",
   "execution_count": null,
   "id": "c9d79935",
   "metadata": {},
   "outputs": [],
   "source": [
    "n89[-1,-1]"
   ]
  },
  {
   "cell_type": "code",
   "execution_count": null,
   "id": "0e97a067",
   "metadata": {},
   "outputs": [],
   "source": [
    "n89[0][0]"
   ]
  },
  {
   "cell_type": "code",
   "execution_count": null,
   "id": "50b30ed9",
   "metadata": {},
   "outputs": [],
   "source": [
    "n89[0,0]"
   ]
  },
  {
   "cell_type": "code",
   "execution_count": null,
   "id": "d2b706ba",
   "metadata": {},
   "outputs": [],
   "source": [
    "n89"
   ]
  },
  {
   "cell_type": "code",
   "execution_count": null,
   "id": "3e94f939",
   "metadata": {},
   "outputs": [],
   "source": [
    "n89[1:5]"
   ]
  },
  {
   "cell_type": "code",
   "execution_count": null,
   "id": "775c4372",
   "metadata": {},
   "outputs": [],
   "source": [
    "n89[2:6, 2:8]"
   ]
  },
  {
   "cell_type": "code",
   "execution_count": null,
   "id": "45d18914",
   "metadata": {},
   "outputs": [],
   "source": [
    "n89[1:6:2,  3:7]"
   ]
  },
  {
   "cell_type": "code",
   "execution_count": null,
   "id": "3a7e685b",
   "metadata": {},
   "outputs": [],
   "source": [
    "n89[:, 3:6]"
   ]
  },
  {
   "cell_type": "code",
   "execution_count": null,
   "id": "c82549d3",
   "metadata": {},
   "outputs": [],
   "source": [
    "n89[3, 3:7]"
   ]
  },
  {
   "cell_type": "code",
   "execution_count": null,
   "id": "ce85b3be",
   "metadata": {},
   "outputs": [],
   "source": [
    "n89[  [1,3,-1,-2]  ]"
   ]
  },
  {
   "cell_type": "code",
   "execution_count": null,
   "id": "25b1787f",
   "metadata": {},
   "outputs": [],
   "source": [
    "n89[  [1,3,-1,-2] , 3:6 ]"
   ]
  },
  {
   "cell_type": "code",
   "execution_count": null,
   "id": "c54e8c9b",
   "metadata": {},
   "outputs": [],
   "source": [
    "n89"
   ]
  },
  {
   "cell_type": "code",
   "execution_count": null,
   "id": "f5796751",
   "metadata": {},
   "outputs": [],
   "source": [
    "n89[ [0,2,3,4] , [0,2,3,-1]  ]"
   ]
  },
  {
   "cell_type": "code",
   "execution_count": null,
   "id": "5710ccdb",
   "metadata": {},
   "outputs": [],
   "source": [
    "list(zip([0,2,3,4] , [0,2,3,-1]))"
   ]
  },
  {
   "cell_type": "raw",
   "id": "c76c516e",
   "metadata": {},
   "source": [
    "Access Grammer\n",
    "\n",
    "n89[row_index]\n",
    "n89[row_index, col_index]\n",
    "\n",
    "n89[row_slice]\n",
    "n89[row_slice, col_slice]\n",
    "\n",
    "n89[ [list of row indices] ]\n",
    "\n",
    "\n",
    "n89[ [list of row indices] , [list of col indices]] # values based on zip\n",
    "\n",
    "combo of all of above\n",
    "\n",
    "n89[boolean matrix of same shape as n89]"
   ]
  },
  {
   "cell_type": "code",
   "execution_count": null,
   "id": "0f9d58d2",
   "metadata": {},
   "outputs": [],
   "source": [
    "n89"
   ]
  },
  {
   "cell_type": "code",
   "execution_count": null,
   "id": "0303b1af",
   "metadata": {},
   "outputs": [],
   "source": [
    "mask1 = n89 % 2 == 0\n",
    "mask1"
   ]
  },
  {
   "cell_type": "code",
   "execution_count": null,
   "id": "44341340",
   "metadata": {},
   "outputs": [],
   "source": [
    "n89[mask1]"
   ]
  },
  {
   "cell_type": "code",
   "execution_count": null,
   "id": "9c654f22",
   "metadata": {},
   "outputs": [],
   "source": [
    "n89[n89%2 ==0]"
   ]
  },
  {
   "cell_type": "code",
   "execution_count": null,
   "id": "9826d029",
   "metadata": {},
   "outputs": [],
   "source": [
    "n89[n89%2!=0]"
   ]
  },
  {
   "cell_type": "code",
   "execution_count": null,
   "id": "479c925e",
   "metadata": {},
   "outputs": [],
   "source": [
    "n89"
   ]
  },
  {
   "cell_type": "code",
   "execution_count": null,
   "id": "962e31c5",
   "metadata": {},
   "outputs": [],
   "source": [
    "n89[n89*2]"
   ]
  },
  {
   "cell_type": "code",
   "execution_count": null,
   "id": "bae1ca11",
   "metadata": {},
   "outputs": [],
   "source": [
    "n89*2"
   ]
  },
  {
   "cell_type": "code",
   "execution_count": null,
   "id": "3839d9d0",
   "metadata": {},
   "outputs": [],
   "source": [
    "n89mask = np.random.randint(low=0, high=2, size=(8,9))\n",
    "n89mask"
   ]
  },
  {
   "cell_type": "code",
   "execution_count": null,
   "id": "16e49522",
   "metadata": {},
   "outputs": [],
   "source": [
    "n89[n89mask]"
   ]
  },
  {
   "cell_type": "code",
   "execution_count": null,
   "id": "6b17539c",
   "metadata": {},
   "outputs": [],
   "source": [
    "n89"
   ]
  },
  {
   "cell_type": "code",
   "execution_count": null,
   "id": "5d4a98a7",
   "metadata": {},
   "outputs": [],
   "source": [
    "n89"
   ]
  },
  {
   "cell_type": "code",
   "execution_count": null,
   "id": "341f1861",
   "metadata": {},
   "outputs": [],
   "source": [
    "n89[n89%2==0]"
   ]
  },
  {
   "cell_type": "code",
   "execution_count": null,
   "id": "6eaaad6e",
   "metadata": {},
   "outputs": [],
   "source": [
    "mask1 = n89%2 == 0\n",
    "mask1"
   ]
  },
  {
   "cell_type": "code",
   "execution_count": null,
   "id": "e4efbcc2",
   "metadata": {},
   "outputs": [],
   "source": [
    "mask2 = n89 > 50\n",
    "mask2"
   ]
  },
  {
   "cell_type": "code",
   "execution_count": null,
   "id": "0b863d69",
   "metadata": {},
   "outputs": [],
   "source": [
    "final_mask = mask1 & mask2\n",
    "final_mask"
   ]
  },
  {
   "cell_type": "code",
   "execution_count": null,
   "id": "130463b1",
   "metadata": {},
   "outputs": [],
   "source": [
    "n89[final_mask]"
   ]
  },
  {
   "cell_type": "code",
   "execution_count": null,
   "id": "f25e435c",
   "metadata": {},
   "outputs": [],
   "source": [
    "n89[ (n89%2==0) & (n89>50)]"
   ]
  },
  {
   "cell_type": "code",
   "execution_count": null,
   "id": "6d997396",
   "metadata": {},
   "outputs": [],
   "source": [
    "n89"
   ]
  },
  {
   "cell_type": "code",
   "execution_count": null,
   "id": "67b51474",
   "metadata": {},
   "outputs": [],
   "source": [
    "n89[  ((n89<25) | (n89>75))  & (n89%2==0) ]"
   ]
  },
  {
   "cell_type": "code",
   "execution_count": null,
   "id": "b7e964c7",
   "metadata": {},
   "outputs": [],
   "source": [
    "n89"
   ]
  },
  {
   "cell_type": "code",
   "execution_count": null,
   "id": "afd4df45",
   "metadata": {},
   "outputs": [],
   "source": [
    "n89[0,0] = 999\n",
    "n89"
   ]
  },
  {
   "cell_type": "code",
   "execution_count": null,
   "id": "7a736541",
   "metadata": {},
   "outputs": [],
   "source": [
    "n89[2:5] = 999\n",
    "n89"
   ]
  },
  {
   "cell_type": "code",
   "execution_count": null,
   "id": "68c8a5a0",
   "metadata": {},
   "outputs": [],
   "source": [
    "n89[n89<50] "
   ]
  },
  {
   "cell_type": "code",
   "execution_count": null,
   "id": "d867b56c",
   "metadata": {},
   "outputs": [],
   "source": [
    "n89[n89<50]  = 0"
   ]
  },
  {
   "cell_type": "code",
   "execution_count": null,
   "id": "2d5264ff",
   "metadata": {},
   "outputs": [],
   "source": [
    "n89"
   ]
  },
  {
   "cell_type": "code",
   "execution_count": null,
   "id": "8e1c6f02",
   "metadata": {},
   "outputs": [],
   "source": [
    "np.random.seed(23)\n",
    "n89 = np.random.randint(low=10, high=100, size=(8,9))\n",
    "n89"
   ]
  },
  {
   "cell_type": "code",
   "execution_count": null,
   "id": "d930bf40",
   "metadata": {},
   "outputs": [],
   "source": [
    "n89[n89<50] = 0\n",
    "n89"
   ]
  },
  {
   "cell_type": "code",
   "execution_count": null,
   "id": "0a352a91",
   "metadata": {},
   "outputs": [],
   "source": [
    "np.random.seed(23)\n",
    "n89 = np.random.randint(low=10, high=100, size=(8,9))\n",
    "n89"
   ]
  },
  {
   "cell_type": "code",
   "execution_count": null,
   "id": "66a65b9e",
   "metadata": {},
   "outputs": [],
   "source": [
    "n89[2:5] = np.arange(27).reshape(3,9)\n",
    "n89"
   ]
  },
  {
   "cell_type": "markdown",
   "id": "63827540",
   "metadata": {},
   "source": [
    "# Array Iterations"
   ]
  },
  {
   "cell_type": "code",
   "execution_count": null,
   "id": "ae22dd33",
   "metadata": {},
   "outputs": [],
   "source": [
    "for i in n89:\n",
    "    print(i)"
   ]
  },
  {
   "cell_type": "code",
   "execution_count": null,
   "id": "b73347c4",
   "metadata": {},
   "outputs": [],
   "source": [
    "for i in np.ndenumerate(n89):\n",
    "    print(i)"
   ]
  },
  {
   "cell_type": "code",
   "execution_count": null,
   "id": "97ad4beb",
   "metadata": {},
   "outputs": [],
   "source": [
    "for index, value in np.ndenumerate(n89):\n",
    "    print(index, value)"
   ]
  },
  {
   "cell_type": "code",
   "execution_count": null,
   "id": "712e21ab",
   "metadata": {},
   "outputs": [],
   "source": [
    "for element in np.nditer(n89):\n",
    "    print(element)"
   ]
  },
  {
   "cell_type": "markdown",
   "id": "34f6b332",
   "metadata": {},
   "source": [
    "# Random values from Uniform-Dist and Std-Normal-Dist"
   ]
  },
  {
   "cell_type": "code",
   "execution_count": null,
   "id": "723eeaa2",
   "metadata": {},
   "outputs": [],
   "source": [
    "import matplotlib.pyplot as plt"
   ]
  },
  {
   "cell_type": "code",
   "execution_count": null,
   "id": "15b53ca1",
   "metadata": {},
   "outputs": [],
   "source": [
    "n1 = np.random.rand(100,100)  ##  uniform dist\n",
    "print(n1.shape)\n",
    "print(n1.min())\n",
    "print(n1.max())\n",
    "print(n1.mean())\n",
    "#plt.scatter(n1, n1.T)\n",
    "plt.hist(n1)\n",
    "plt.show()"
   ]
  },
  {
   "cell_type": "code",
   "execution_count": null,
   "id": "e766f968",
   "metadata": {},
   "outputs": [],
   "source": [
    "n2 = np.random.randn(100,100)  ##  norm dist\n",
    "print(n2.shape)\n",
    "print(n2.min())\n",
    "print(n2.max())\n",
    "print(n2.mean())\n",
    "plt.hist(n2)\n",
    "plt.show()"
   ]
  },
  {
   "cell_type": "markdown",
   "id": "412db1e2",
   "metadata": {},
   "source": [
    "# 20/Jan/2024"
   ]
  },
  {
   "cell_type": "markdown",
   "id": "9a923c81",
   "metadata": {},
   "source": [
    "# Array Split"
   ]
  },
  {
   "cell_type": "code",
   "execution_count": null,
   "id": "ff48b9ac",
   "metadata": {},
   "outputs": [],
   "source": [
    "np.random.seed(23)\n",
    "n812 = np.random.randint(low=10, high=100, size=(8,12))\n",
    "n812"
   ]
  },
  {
   "cell_type": "code",
   "execution_count": null,
   "id": "79554f50",
   "metadata": {},
   "outputs": [],
   "source": [
    "r = np.vsplit(n812, 2)\n",
    "print(type(r))"
   ]
  },
  {
   "cell_type": "code",
   "execution_count": null,
   "id": "7714f70e",
   "metadata": {},
   "outputs": [],
   "source": [
    "list(r)"
   ]
  },
  {
   "cell_type": "code",
   "execution_count": null,
   "id": "36783bc7",
   "metadata": {},
   "outputs": [],
   "source": [
    "for n in r:\n",
    "    print(n)"
   ]
  },
  {
   "cell_type": "code",
   "execution_count": null,
   "id": "f4432384",
   "metadata": {},
   "outputs": [],
   "source": [
    "np.vsplit(n812, 4)"
   ]
  },
  {
   "cell_type": "code",
   "execution_count": null,
   "id": "3cdd201c",
   "metadata": {},
   "outputs": [],
   "source": [
    "np.vsplit(n812, 3)  ##Error"
   ]
  },
  {
   "cell_type": "code",
   "execution_count": null,
   "id": "e22c0c2c",
   "metadata": {},
   "outputs": [],
   "source": [
    "np.vsplit(n812, [3,5]  )   ##   :3:5:"
   ]
  },
  {
   "cell_type": "code",
   "execution_count": null,
   "id": "84aa0502",
   "metadata": {},
   "outputs": [],
   "source": [
    "np.vsplit(n812, [2,3,6,7]  )    ##   :2:3:6:7:"
   ]
  },
  {
   "cell_type": "code",
   "execution_count": null,
   "id": "663a4887",
   "metadata": {},
   "outputs": [],
   "source": [
    "np.hsplit(n812, 4)"
   ]
  },
  {
   "cell_type": "code",
   "execution_count": null,
   "id": "f172991f",
   "metadata": {},
   "outputs": [],
   "source": [
    "np.hsplit(n812, 5)  ##  Error"
   ]
  },
  {
   "cell_type": "code",
   "execution_count": null,
   "id": "7722b35f",
   "metadata": {},
   "outputs": [],
   "source": [
    "np.hsplit(n812, [2,5,6,8] )"
   ]
  },
  {
   "cell_type": "code",
   "execution_count": null,
   "id": "4a7ba647",
   "metadata": {},
   "outputs": [],
   "source": [
    "np.hsplit(n812, [2,2,6,8] )  ##   :2 :2 :6 :8:"
   ]
  },
  {
   "cell_type": "markdown",
   "id": "70c857b7",
   "metadata": {},
   "source": [
    "# Stacking"
   ]
  },
  {
   "cell_type": "code",
   "execution_count": null,
   "id": "5408da1d",
   "metadata": {},
   "outputs": [],
   "source": [
    "n34 = np.arange(12).reshape(3,4)\n",
    "n34"
   ]
  },
  {
   "cell_type": "code",
   "execution_count": null,
   "id": "6668852b",
   "metadata": {},
   "outputs": [],
   "source": [
    "n64 = np.arange(100,124).reshape(6,4)\n",
    "n64"
   ]
  },
  {
   "cell_type": "code",
   "execution_count": null,
   "id": "ccd59eed",
   "metadata": {},
   "outputs": [],
   "source": [
    "n36 = np.arange(200,218).reshape(3,6)\n",
    "n36"
   ]
  },
  {
   "cell_type": "code",
   "execution_count": null,
   "id": "a1c7a497",
   "metadata": {},
   "outputs": [],
   "source": [
    "n94 = np.vstack( (n34,n64)  )\n",
    "n94"
   ]
  },
  {
   "cell_type": "code",
   "execution_count": null,
   "id": "c6f4fcd9",
   "metadata": {},
   "outputs": [],
   "source": [
    "np.vstack( (n34,n36)  )  ##  error"
   ]
  },
  {
   "cell_type": "code",
   "execution_count": null,
   "id": "c2d94348",
   "metadata": {},
   "outputs": [],
   "source": [
    "np.vstack( (n34,n34,n64,n34)  )#.shape"
   ]
  },
  {
   "cell_type": "markdown",
   "id": "b5f5d618",
   "metadata": {},
   "source": [
    "# Linspace"
   ]
  },
  {
   "cell_type": "code",
   "execution_count": null,
   "id": "85975388",
   "metadata": {},
   "outputs": [],
   "source": [
    "np.linspace(start=3, stop=5,num=9)"
   ]
  },
  {
   "cell_type": "code",
   "execution_count": null,
   "id": "b86cdd0f",
   "metadata": {},
   "outputs": [],
   "source": [
    "t = np.linspace(start=3, stop=5,num=9, retstep=True)\n",
    "print(t[0])\n",
    "print(t[1])"
   ]
  },
  {
   "cell_type": "code",
   "execution_count": null,
   "id": "7b432f4b",
   "metadata": {},
   "outputs": [],
   "source": [
    "np.round(t[0],1)"
   ]
  },
  {
   "cell_type": "code",
   "execution_count": null,
   "id": "59b3d97d",
   "metadata": {},
   "outputs": [],
   "source": [
    "np.linspace(start=3, stop=7,num=5, endpoint=True,retstep=True)"
   ]
  },
  {
   "cell_type": "code",
   "execution_count": null,
   "id": "72bbb1b5",
   "metadata": {},
   "outputs": [],
   "source": [
    "np.linspace(start=3, stop=7,num=6,endpoint=True, retstep=True)"
   ]
  },
  {
   "cell_type": "code",
   "execution_count": null,
   "id": "43356f2a",
   "metadata": {},
   "outputs": [],
   "source": [
    "t = np.linspace(start=3, stop=7,num=5,endpoint=False, retstep=True, dtype=np.float64)\n",
    "print(t)\n",
    "print(t[0].dtype)"
   ]
  },
  {
   "cell_type": "code",
   "execution_count": null,
   "id": "aecfb0f2",
   "metadata": {},
   "outputs": [],
   "source": [
    "print(n34)\n",
    "np.power(n34,2)"
   ]
  },
  {
   "cell_type": "code",
   "execution_count": null,
   "id": "1846902b",
   "metadata": {},
   "outputs": [],
   "source": [
    "print(n34)\n",
    "np.power(n34,n34, dtype=np.int64)"
   ]
  },
  {
   "cell_type": "code",
   "execution_count": null,
   "id": "6dfff4f2",
   "metadata": {},
   "outputs": [],
   "source": [
    "11**11"
   ]
  },
  {
   "cell_type": "code",
   "execution_count": null,
   "id": "0842b7b7",
   "metadata": {},
   "outputs": [],
   "source": [
    "8**8"
   ]
  },
  {
   "cell_type": "code",
   "execution_count": null,
   "id": "dcc2ba0b",
   "metadata": {},
   "outputs": [],
   "source": [
    "10**10"
   ]
  },
  {
   "cell_type": "code",
   "execution_count": null,
   "id": "e24a21ea",
   "metadata": {},
   "outputs": [],
   "source": [
    "9**9"
   ]
  },
  {
   "cell_type": "code",
   "execution_count": null,
   "id": "07e7eaca",
   "metadata": {},
   "outputs": [],
   "source": [
    "2**31"
   ]
  },
  {
   "cell_type": "code",
   "execution_count": null,
   "id": "99967058",
   "metadata": {},
   "outputs": [],
   "source": [
    "np.ones(shape=(3,4))"
   ]
  },
  {
   "cell_type": "code",
   "execution_count": null,
   "id": "105b1eb2",
   "metadata": {},
   "outputs": [],
   "source": [
    "np.zeros(shape=(3,4))"
   ]
  },
  {
   "cell_type": "code",
   "execution_count": null,
   "id": "4c3e48dc",
   "metadata": {},
   "outputs": [],
   "source": [
    "np.full(shape=(3,4), fill_value=43)"
   ]
  },
  {
   "cell_type": "code",
   "execution_count": null,
   "id": "c44b9be0",
   "metadata": {},
   "outputs": [],
   "source": [
    "np.identity(6)"
   ]
  },
  {
   "cell_type": "code",
   "execution_count": null,
   "id": "507af703",
   "metadata": {},
   "outputs": [],
   "source": [
    "n812"
   ]
  },
  {
   "cell_type": "code",
   "execution_count": null,
   "id": "e7f71a5e",
   "metadata": {},
   "outputs": [],
   "source": [
    "mask1 = n812 %2 == 0\n",
    "mask1"
   ]
  },
  {
   "cell_type": "code",
   "execution_count": null,
   "id": "650a8171",
   "metadata": {},
   "outputs": [],
   "source": [
    "mask1 & 1"
   ]
  },
  {
   "cell_type": "code",
   "execution_count": null,
   "id": "e4a84294",
   "metadata": {},
   "outputs": [],
   "source": [
    "n23 = np.arange(6).reshape(2,3)\n",
    "n23"
   ]
  },
  {
   "cell_type": "code",
   "execution_count": null,
   "id": "ada4b1a3",
   "metadata": {},
   "outputs": [],
   "source": [
    "n26 = np.block([n23,n23])\n",
    "n26"
   ]
  },
  {
   "cell_type": "code",
   "execution_count": null,
   "id": "96b7fc66",
   "metadata": {},
   "outputs": [],
   "source": [
    "n46 = np.block([[n23,n23],[n23,n23]])\n",
    "n46"
   ]
  },
  {
   "cell_type": "code",
   "execution_count": null,
   "id": "3c524d6c",
   "metadata": {},
   "outputs": [],
   "source": [
    "n46 = np.block([[n26],[n23,n23]])\n",
    "n46"
   ]
  },
  {
   "cell_type": "code",
   "execution_count": null,
   "id": "87ecc87d",
   "metadata": {},
   "outputs": [],
   "source": [
    "n34"
   ]
  },
  {
   "cell_type": "code",
   "execution_count": null,
   "id": "1151a3ce",
   "metadata": {},
   "outputs": [],
   "source": [
    "n36"
   ]
  },
  {
   "cell_type": "raw",
   "id": "8e933c3e",
   "metadata": {},
   "source": [
    "n34 n36\n",
    "n36 n34 "
   ]
  },
  {
   "cell_type": "code",
   "execution_count": null,
   "id": "a7e8ea88",
   "metadata": {},
   "outputs": [],
   "source": [
    "n610 = np.block([[n34,n36], [n36,n34] ])\n",
    "n610"
   ]
  },
  {
   "cell_type": "code",
   "execution_count": null,
   "id": "b9b24b0c",
   "metadata": {},
   "outputs": [],
   "source": [
    "n33 = np.arange(300,309).reshape(3,3)\n",
    "n33"
   ]
  },
  {
   "cell_type": "code",
   "execution_count": null,
   "id": "e5ab8c5e",
   "metadata": {},
   "outputs": [],
   "source": [
    "n37 = np.arange(400,421).reshape(3,7)\n",
    "n37"
   ]
  },
  {
   "cell_type": "code",
   "execution_count": null,
   "id": "e8a380fb",
   "metadata": {},
   "outputs": [],
   "source": [
    "n910 = np.block([[n34,n36], [n36,n34] , [n33,n37]])\n",
    "n910"
   ]
  },
  {
   "cell_type": "code",
   "execution_count": null,
   "id": "3db29dc3",
   "metadata": {},
   "outputs": [],
   "source": [
    "np.random.seed(23)\n",
    "n34 = np.random.randint(low=1, high=10, size=(3,4))\n",
    "n34"
   ]
  },
  {
   "cell_type": "code",
   "execution_count": null,
   "id": "ecd0e4ee",
   "metadata": {},
   "outputs": [],
   "source": [
    "print(n34)\n",
    "print(np.sum(n34))\n",
    "print(np.sum(n34, axis=0)) # find sum along axis=0. top to bottom\n",
    "print(np.sum(n34, axis=1)) "
   ]
  },
  {
   "cell_type": "code",
   "execution_count": null,
   "id": "f08edfd3",
   "metadata": {},
   "outputs": [],
   "source": [
    "print(n34)\n",
    "print(np.min(n34))\n",
    "print(np.min(n34, axis=0)) \n",
    "print(np.min(n34, axis=1)) "
   ]
  },
  {
   "cell_type": "code",
   "execution_count": null,
   "id": "63903568",
   "metadata": {},
   "outputs": [],
   "source": [
    "print(n34)\n",
    "print(np.max(n34))\n",
    "print(np.max(n34, axis=0)) \n",
    "print(np.max(n34, axis=1)) "
   ]
  },
  {
   "cell_type": "code",
   "execution_count": null,
   "id": "97932748",
   "metadata": {},
   "outputs": [],
   "source": [
    "print(n34)\n",
    "print(np.mean(n34))\n",
    "print(np.mean(n34, axis=0)) \n",
    "print(np.mean(n34, axis=1)) "
   ]
  },
  {
   "cell_type": "code",
   "execution_count": null,
   "id": "2fab48a9",
   "metadata": {},
   "outputs": [],
   "source": [
    "print(n34)\n",
    "print(np.median(n34))\n",
    "print(np.median(n34, axis=0)) \n",
    "print(np.median(n34, axis=1)) "
   ]
  },
  {
   "cell_type": "code",
   "execution_count": null,
   "id": "ce78beb8",
   "metadata": {},
   "outputs": [],
   "source": [
    "print(n34)\n",
    "print(np.std(n34))\n",
    "print(np.std(n34, axis=0)) \n",
    "print(np.std(n34, axis=1)) "
   ]
  },
  {
   "cell_type": "code",
   "execution_count": null,
   "id": "1396d92a",
   "metadata": {},
   "outputs": [],
   "source": []
  }
 ],
 "metadata": {
  "kernelspec": {
   "display_name": "Python 3 (ipykernel)",
   "language": "python",
   "name": "python3"
  },
  "language_info": {
   "codemirror_mode": {
    "name": "ipython",
    "version": 3
   },
   "file_extension": ".py",
   "mimetype": "text/x-python",
   "name": "python",
   "nbconvert_exporter": "python",
   "pygments_lexer": "ipython3",
   "version": "3.11.5"
  }
 },
 "nbformat": 4,
 "nbformat_minor": 5
}
