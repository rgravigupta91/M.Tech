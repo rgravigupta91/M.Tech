{
 "cells": [
  {
   "cell_type": "code",
   "execution_count": 1,
   "id": "40d9d204",
   "metadata": {},
   "outputs": [],
   "source": [
    "import numpy as np\n",
    "import pandas as pd"
   ]
  },
  {
   "cell_type": "markdown",
   "id": "57376c06",
   "metadata": {},
   "source": [
    "Series and DataFrames"
   ]
  },
  {
   "cell_type": "code",
   "execution_count": 3,
   "id": "24c11de7",
   "metadata": {},
   "outputs": [
    {
     "name": "stdout",
     "output_type": "stream",
     "text": [
      "0    55\n",
      "1    25\n",
      "2    75\n",
      "3    40\n",
      "4    90\n",
      "dtype: int64\n",
      "0    55\n",
      "1    25\n",
      "2    75\n",
      "3    40\n",
      "4    90\n",
      "dtype: int32\n"
     ]
    }
   ],
   "source": [
    "# creating a list of prices of different medicines\n",
    "med_price_list = [55, 25, 75, 40, 90]\n",
    "\n",
    "# converting the med_price_list to an array\n",
    "med_price_arr = np.array(med_price_list)\n",
    "\n",
    "# converting the list and array into a Pandas Series object\n",
    "series_list = pd.Series(med_price_list)\n",
    "series_arr  = pd.Series(med_price_arr)\n",
    "\n",
    "# printing the converted series object\n",
    "print(series_list)\n",
    "print(series_arr)"
   ]
  },
  {
   "cell_type": "code",
   "execution_count": 4,
   "id": "a2731b92",
   "metadata": {},
   "outputs": [
    {
     "name": "stdout",
     "output_type": "stream",
     "text": [
      "<class 'pandas.core.series.Series'>\n",
      "<class 'pandas.core.series.Series'>\n"
     ]
    }
   ],
   "source": [
    "# printing the converted series object\n",
    "print(type(series_list))\n",
    "print(type(series_arr))"
   ]
  },
  {
   "cell_type": "code",
   "execution_count": 5,
   "id": "8d2e9063",
   "metadata": {},
   "outputs": [
    {
     "name": "stdout",
     "output_type": "stream",
     "text": [
      "Omeprazole      55\n",
      "Azithromycin    25\n",
      "Metformin       75\n",
      "Ibuprofen       40\n",
      "Cetirizine      90\n",
      "dtype: int64\n"
     ]
    }
   ],
   "source": [
    "# changing the index of a series\n",
    "med_price_list_labeled = pd.Series(\n",
    "    med_price_list,\n",
    "    index=[\"Omeprazole\", \"Azithromycin\", \"Metformin\", \"Ibuprofen\", \"Cetirizine\"])\n",
    "\n",
    "print(med_price_list_labeled)"
   ]
  },
  {
   "cell_type": "code",
   "execution_count": 6,
   "id": "a1197046",
   "metadata": {},
   "outputs": [
    {
     "name": "stdout",
     "output_type": "stream",
     "text": [
      "Omeprazole      55\n",
      "Azithromycin    25\n",
      "Metformin       75\n",
      "Ibuprofen       40\n",
      "Cetirizine      90\n",
      "dtype: int32\n"
     ]
    }
   ],
   "source": [
    "# changing the index of a series\n",
    "med_price_list_labeled = pd.Series(\n",
    "    med_price_arr,\n",
    "    index=[\"Omeprazole\", \"Azithromycin\", \"Metformin\", \"Ibuprofen\", \"Cetirizine\"])\n",
    "\n",
    "print(med_price_list_labeled)"
   ]
  },
  {
   "cell_type": "code",
   "execution_count": null,
   "id": "bf08296f",
   "metadata": {},
   "outputs": [],
   "source": []
  }
 ],
 "metadata": {
  "kernelspec": {
   "display_name": "Python 3 (ipykernel)",
   "language": "python",
   "name": "python3"
  },
  "language_info": {
   "codemirror_mode": {
    "name": "ipython",
    "version": 3
   },
   "file_extension": ".py",
   "mimetype": "text/x-python",
   "name": "python",
   "nbconvert_exporter": "python",
   "pygments_lexer": "ipython3",
   "version": "3.11.5"
  }
 },
 "nbformat": 4,
 "nbformat_minor": 5
}
