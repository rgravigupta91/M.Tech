{
 "cells": [
  {
   "cell_type": "code",
   "execution_count": 1,
   "id": "c4e08181",
   "metadata": {},
   "outputs": [],
   "source": [
    "import numpy as np"
   ]
  },
  {
   "cell_type": "markdown",
   "id": "aa5d309f",
   "metadata": {},
   "source": [
    "# Numpy Arrays"
   ]
  },
  {
   "cell_type": "code",
   "execution_count": 2,
   "id": "9b792ae2",
   "metadata": {},
   "outputs": [],
   "source": [
    "arr_str = [\"Mercedes\", \"BMW\", \"Audi\", \"Ferrari\", \"Tesla\"]\n",
    "arr_num = [5, 4, 6, 7, 3]"
   ]
  },
  {
   "cell_type": "code",
   "execution_count": 3,
   "id": "760f72aa",
   "metadata": {},
   "outputs": [],
   "source": [
    "np_arr_str = np.array(arr_str)\n",
    "np_arr_num = np.array(arr_num)"
   ]
  },
  {
   "cell_type": "code",
   "execution_count": 4,
   "id": "505b61c3",
   "metadata": {},
   "outputs": [
    {
     "name": "stdout",
     "output_type": "stream",
     "text": [
      "Numpy Array (arr_str) ['Mercedes' 'BMW' 'Audi' 'Ferrari' 'Tesla']\n",
      "Numpy Array (arr_num) [5 4 6 7 3]\n"
     ]
    }
   ],
   "source": [
    "print(\"Numpy Array (arr_str)\", np_arr_str)\n",
    "print(\"Numpy Array (arr_num)\", np_arr_num)"
   ]
  },
  {
   "cell_type": "code",
   "execution_count": 5,
   "id": "3705db1a",
   "metadata": {},
   "outputs": [
    {
     "name": "stdout",
     "output_type": "stream",
     "text": [
      "Data type of arr_str :  <class 'list'>\n",
      "Data type of arr_num :  <class 'list'>\n",
      "Data type of np_arr_str :  <class 'numpy.ndarray'>\n",
      "Data type of np_arr_num :  <class 'numpy.ndarray'>\n"
     ]
    }
   ],
   "source": [
    "# printing the data type of lists\n",
    "print(\"Data type of arr_str : \", type(arr_str))\n",
    "print(\"Data type of arr_num : \", type(arr_num))\n",
    "\n",
    "# printing the data type after conversion of lists to array\n",
    "print(\"Data type of np_arr_str : \", type(np_arr_str))\n",
    "print(\"Data type of np_arr_num : \", type(np_arr_num))"
   ]
  },
  {
   "cell_type": "code",
   "execution_count": 6,
   "id": "23a0def5",
   "metadata": {},
   "outputs": [],
   "source": [
    "# Creating a numpy array from tuple\n",
    "tuple_a = (1, 2, 3, 5, 4)\n",
    "\n",
    "np_arr_tup = np.array(tuple_a)"
   ]
  },
  {
   "cell_type": "code",
   "execution_count": 7,
   "id": "eb884f14",
   "metadata": {},
   "outputs": [
    {
     "name": "stdout",
     "output_type": "stream",
     "text": [
      "Data type of tuple_a :  <class 'tuple'>\n",
      "Data type of np_arr_tup :  <class 'numpy.ndarray'>\n"
     ]
    }
   ],
   "source": [
    "# print the types of numpy array and tuples\n",
    "print(\"Data type of tuple_a : \", type(tuple_a))\n",
    "print(\"Data type of np_arr_tup : \", type(np_arr_tup))"
   ]
  },
  {
   "cell_type": "code",
   "execution_count": 9,
   "id": "2b978677",
   "metadata": {},
   "outputs": [
    {
     "data": {
      "text/plain": [
       "array([[1, 2, 3],\n",
       "       [4, 5, 6],\n",
       "       [7, 8, 9]])"
      ]
     },
     "execution_count": 9,
     "metadata": {},
     "output_type": "execute_result"
    }
   ],
   "source": [
    "matrix = np.array([[1, 2, 3], [4, 5, 6], [7, 8, 9]])\n",
    "matrix"
   ]
  },
  {
   "cell_type": "code",
   "execution_count": 10,
   "id": "410ae5c7",
   "metadata": {},
   "outputs": [
    {
     "name": "stdout",
     "output_type": "stream",
     "text": [
      "Data type of matrix :  <class 'numpy.ndarray'>\n"
     ]
    }
   ],
   "source": [
    "print(\"Data type of matrix : \", type(matrix))"
   ]
  },
  {
   "cell_type": "markdown",
   "id": "dadf0c81",
   "metadata": {},
   "source": [
    "# NUmpy Functions"
   ]
  },
  {
   "cell_type": "code",
   "execution_count": 11,
   "id": "f27efae8",
   "metadata": {},
   "outputs": [
    {
     "data": {
      "text/plain": [
       "[0, 1, 2, 3, 4, 5, 6, 7, 8, 9]"
      ]
     },
     "execution_count": 11,
     "metadata": {},
     "output_type": "execute_result"
    }
   ],
   "source": [
    "list(range(0, 10))       # Conventional python list from range. It excludes last number. 10 in this case"
   ]
  },
  {
   "cell_type": "code",
   "execution_count": 12,
   "id": "c019efff",
   "metadata": {},
   "outputs": [
    {
     "data": {
      "text/plain": [
       "array([0, 1, 2, 3, 4, 5, 6, 7, 8, 9])"
      ]
     },
     "execution_count": 12,
     "metadata": {},
     "output_type": "execute_result"
    }
   ],
   "source": [
    "arr1 = np.arange(start = 0, stop = 10) # similar to lists from range in numpy. It also excludes last number\n",
    "arr1"
   ]
  },
  {
   "cell_type": "code",
   "execution_count": 13,
   "id": "35ff99ed",
   "metadata": {},
   "outputs": [
    {
     "data": {
      "text/plain": [
       "array([0, 1, 2, 3, 4, 5, 6, 7, 8, 9])"
      ]
     },
     "execution_count": 13,
     "metadata": {},
     "output_type": "execute_result"
    }
   ],
   "source": [
    "arr2 = np.arange(0, 10)               # numpy range can be written in shorter form as\n",
    "arr2"
   ]
  },
  {
   "cell_type": "code",
   "execution_count": 14,
   "id": "ec0504ba",
   "metadata": {},
   "outputs": [
    {
     "data": {
      "text/plain": [
       "array([ 0,  5, 10, 15])"
      ]
     },
     "execution_count": 14,
     "metadata": {},
     "output_type": "execute_result"
    }
   ],
   "source": [
    "arr3 = np.arange(start = 0, stop = 20, step = 5)\n",
    "arr3"
   ]
  },
  {
   "cell_type": "markdown",
   "id": "7ebb88ff",
   "metadata": {},
   "source": [
    "Using np.linspace() function\n",
    "    - The np.linspace() function returns numbers which are evenly distributed with respect to interval. Here the start and stop both are included.\n",
    "    - It has the following parameters:\n",
    "        1. start : start of interval range. By default start = 0\n",
    "        2. stop  : end of interval range\n",
    "        3. num   : No. of samples to generate. By default num = 50"
   ]
  },
  {
   "cell_type": "code",
   "execution_count": 15,
   "id": "9119b4c9",
   "metadata": {},
   "outputs": [
    {
     "data": {
      "text/plain": [
       "array([0.        , 0.10204082, 0.20408163, 0.30612245, 0.40816327,\n",
       "       0.51020408, 0.6122449 , 0.71428571, 0.81632653, 0.91836735,\n",
       "       1.02040816, 1.12244898, 1.2244898 , 1.32653061, 1.42857143,\n",
       "       1.53061224, 1.63265306, 1.73469388, 1.83673469, 1.93877551,\n",
       "       2.04081633, 2.14285714, 2.24489796, 2.34693878, 2.44897959,\n",
       "       2.55102041, 2.65306122, 2.75510204, 2.85714286, 2.95918367,\n",
       "       3.06122449, 3.16326531, 3.26530612, 3.36734694, 3.46938776,\n",
       "       3.57142857, 3.67346939, 3.7755102 , 3.87755102, 3.97959184,\n",
       "       4.08163265, 4.18367347, 4.28571429, 4.3877551 , 4.48979592,\n",
       "       4.59183673, 4.69387755, 4.79591837, 4.89795918, 5.        ])"
      ]
     },
     "execution_count": 15,
     "metadata": {},
     "output_type": "execute_result"
    }
   ],
   "source": [
    "matrix2 = np.linspace(\n",
    "    0, 5\n",
    ")   # by default 50 evenly spaced values will be generated between 0 and 5\n",
    "\n",
    "matrix2"
   ]
  },
  {
   "cell_type": "code",
   "execution_count": 17,
   "id": "b749071a",
   "metadata": {},
   "outputs": [
    {
     "data": {
      "text/plain": [
       "array([10.        , 11.11111111, 12.22222222, 13.33333333, 14.44444444,\n",
       "       15.55555556, 16.66666667, 17.77777778, 18.88888889, 20.        ])"
      ]
     },
     "execution_count": 17,
     "metadata": {},
     "output_type": "execute_result"
    }
   ],
   "source": [
    "matrix3 = np.linspace(10, 20, 10)\n",
    "matrix3"
   ]
  },
  {
   "cell_type": "code",
   "execution_count": 18,
   "id": "fd9040f8",
   "metadata": {},
   "outputs": [
    {
     "name": "stdout",
     "output_type": "stream",
     "text": [
      "<class 'numpy.ndarray'>\n"
     ]
    }
   ],
   "source": [
    "print(type(matrix3))"
   ]
  },
  {
   "cell_type": "markdown",
   "id": "2e50c3f2",
   "metadata": {},
   "source": [
    "Using np.zeros()\n",
    "- The np.zeros() is a function for creating a matrix and performimg matrix operations in NumPy\n",
    "- It returns a matrix filled with zeros of the given shape\n",
    "- It has the following parameters:\n",
    "    1. shape : Number of rows and columns in the output matrix\n",
    "    2. dtype: data type of the elements in the matrix, by default the value is set to float"
   ]
  },
  {
   "cell_type": "code",
   "execution_count": 20,
   "id": "b13e7602",
   "metadata": {},
   "outputs": [
    {
     "data": {
      "text/plain": [
       "array([[0., 0., 0., 0., 0.],\n",
       "       [0., 0., 0., 0., 0.],\n",
       "       [0., 0., 0., 0., 0.]])"
      ]
     },
     "execution_count": 20,
     "metadata": {},
     "output_type": "execute_result"
    }
   ],
   "source": [
    "matrix4 = np.zeros([3,5])\n",
    "matrix4"
   ]
  },
  {
   "cell_type": "code",
   "execution_count": 24,
   "id": "d3d21fae",
   "metadata": {},
   "outputs": [
    {
     "data": {
      "text/plain": [
       "array([[0, 0, 0, 0, 0],\n",
       "       [0, 0, 0, 0, 0],\n",
       "       [0, 0, 0, 0, 0],\n",
       "       [0, 0, 0, 0, 0]])"
      ]
     },
     "execution_count": 24,
     "metadata": {},
     "output_type": "execute_result"
    }
   ],
   "source": [
    "matrix5 = np.zeros([4,5], dtype='int')\n",
    "matrix5"
   ]
  },
  {
   "cell_type": "markdown",
   "id": "251a485f",
   "metadata": {},
   "source": [
    "Using np.ones()\n",
    "- The np.ones() is another function for creating a matrix and performimg matrix operations in NumPy\n",
    "- It returns a matrix of given shape and type, filled with ones\n",
    "- It has the following parameters:\n",
    "    1. shape : Number of rows and columns in the output matrix\n",
    "    2. dtype: data type of the elements in the matrix, by default the value is set to float"
   ]
  },
  {
   "cell_type": "code",
   "execution_count": 25,
   "id": "e8c4f51d",
   "metadata": {},
   "outputs": [
    {
     "data": {
      "text/plain": [
       "array([[1, 1, 1, 1, 1],\n",
       "       [1, 1, 1, 1, 1],\n",
       "       [1, 1, 1, 1, 1]])"
      ]
     },
     "execution_count": 25,
     "metadata": {},
     "output_type": "execute_result"
    }
   ],
   "source": [
    "matrix6 = np.ones([3,5],'int')\n",
    "matrix6"
   ]
  },
  {
   "cell_type": "code",
   "execution_count": 26,
   "id": "89b9caab",
   "metadata": {},
   "outputs": [
    {
     "data": {
      "text/plain": [
       "array([[1, 1, 1, 1, 1],\n",
       "       [1, 1, 1, 1, 1],\n",
       "       [1, 1, 1, 1, 1]])"
      ]
     },
     "execution_count": 26,
     "metadata": {},
     "output_type": "execute_result"
    }
   ],
   "source": [
    "matrix7 = np.ones([3,5],'int','F')\n",
    "matrix7"
   ]
  },
  {
   "cell_type": "code",
   "execution_count": 29,
   "id": "e514d1e4",
   "metadata": {},
   "outputs": [],
   "source": [
    "matrix6[1,3] = 7\n",
    "matrix7[1,3] = 7"
   ]
  },
  {
   "cell_type": "code",
   "execution_count": 30,
   "id": "e4249576",
   "metadata": {},
   "outputs": [
    {
     "data": {
      "text/plain": [
       "array([[1, 1, 1, 1, 1],\n",
       "       [1, 1, 1, 7, 1],\n",
       "       [1, 1, 1, 1, 1]])"
      ]
     },
     "execution_count": 30,
     "metadata": {},
     "output_type": "execute_result"
    }
   ],
   "source": [
    "matrix6"
   ]
  },
  {
   "cell_type": "code",
   "execution_count": 31,
   "id": "9ba47448",
   "metadata": {},
   "outputs": [
    {
     "data": {
      "text/plain": [
       "array([[1, 1, 1, 1, 1],\n",
       "       [1, 1, 1, 7, 1],\n",
       "       [1, 1, 1, 1, 1]])"
      ]
     },
     "execution_count": 31,
     "metadata": {},
     "output_type": "execute_result"
    }
   ],
   "source": [
    "matrix7"
   ]
  },
  {
   "cell_type": "code",
   "execution_count": 32,
   "id": "17acd54d",
   "metadata": {},
   "outputs": [
    {
     "data": {
      "text/plain": [
       "array([[[1., 1., 1., 1., 1.],\n",
       "        [1., 1., 1., 1., 1.],\n",
       "        [1., 1., 1., 1., 1.],\n",
       "        [1., 1., 1., 1., 1.]],\n",
       "\n",
       "       [[1., 1., 1., 1., 1.],\n",
       "        [1., 1., 1., 1., 1.],\n",
       "        [1., 1., 1., 1., 1.],\n",
       "        [1., 1., 1., 1., 1.]],\n",
       "\n",
       "       [[1., 1., 1., 1., 1.],\n",
       "        [1., 1., 1., 1., 1.],\n",
       "        [1., 1., 1., 1., 1.],\n",
       "        [1., 1., 1., 1., 1.]]])"
      ]
     },
     "execution_count": 32,
     "metadata": {},
     "output_type": "execute_result"
    }
   ],
   "source": [
    "matrix8 = np.ones([3,4,5])\n",
    "matrix8"
   ]
  },
  {
   "cell_type": "code",
   "execution_count": 35,
   "id": "eee4d6de",
   "metadata": {},
   "outputs": [
    {
     "data": {
      "text/plain": [
       "array([[1, 0, 0, 0, 0],\n",
       "       [0, 1, 0, 0, 0],\n",
       "       [0, 0, 1, 0, 0],\n",
       "       [0, 0, 0, 1, 0],\n",
       "       [0, 0, 0, 0, 1]])"
      ]
     },
     "execution_count": 35,
     "metadata": {},
     "output_type": "execute_result"
    }
   ],
   "source": [
    "matrix9 = np.eye(5, dtype= 'int')\n",
    "matrix9"
   ]
  },
  {
   "cell_type": "code",
   "execution_count": 36,
   "id": "e6632057",
   "metadata": {},
   "outputs": [
    {
     "data": {
      "text/plain": [
       "array([ 1.38180363,  0.84267012,  0.52920002,  0.09943938,  0.74565158,\n",
       "        0.41012692,  0.56176159,  0.62765829, -0.21942752, -0.90133633])"
      ]
     },
     "execution_count": 36,
     "metadata": {},
     "output_type": "execute_result"
    }
   ],
   "source": [
    "rand_arr = np.random.randn(10)\n",
    "rand_arr"
   ]
  },
  {
   "cell_type": "code",
   "execution_count": 37,
   "id": "16cb1a27",
   "metadata": {},
   "outputs": [
    {
     "data": {
      "text/plain": [
       "array([ True,  True,  True,  True,  True,  True,  True,  True, False,\n",
       "       False])"
      ]
     },
     "execution_count": 37,
     "metadata": {},
     "output_type": "execute_result"
    }
   ],
   "source": [
    "rand_arr > 0"
   ]
  },
  {
   "cell_type": "code",
   "execution_count": 39,
   "id": "ba8f3880",
   "metadata": {},
   "outputs": [
    {
     "data": {
      "text/plain": [
       "array([1.38180363, 0.84267012, 0.52920002, 0.09943938, 0.74565158,\n",
       "       0.41012692, 0.56176159, 0.62765829])"
      ]
     },
     "execution_count": 39,
     "metadata": {},
     "output_type": "execute_result"
    }
   ],
   "source": [
    "rand_arr[rand_arr > 0]"
   ]
  },
  {
   "cell_type": "markdown",
   "id": "cb724135",
   "metadata": {},
   "source": [
    "Reshape"
   ]
  },
  {
   "cell_type": "code",
   "execution_count": 42,
   "id": "9bf09627",
   "metadata": {},
   "outputs": [
    {
     "data": {
      "text/plain": [
       "array([[4, 5, 5, 6, 3],\n",
       "       [5, 8, 2, 4, 9]])"
      ]
     },
     "execution_count": 42,
     "metadata": {},
     "output_type": "execute_result"
    }
   ],
   "source": [
    "randint_matrix1 = np.random.randint(1,10,10).reshape(2,5)\n",
    "\n",
    "randint_matrix1"
   ]
  },
  {
   "cell_type": "code",
   "execution_count": 43,
   "id": "d284f815",
   "metadata": {},
   "outputs": [
    {
     "data": {
      "text/plain": [
       "array([[17, 13, 14, 19, 13],\n",
       "       [17, 14, 10, 11, 16]])"
      ]
     },
     "execution_count": 43,
     "metadata": {},
     "output_type": "execute_result"
    }
   ],
   "source": [
    "randint_matrix2 = np.random.randint(10,20,10).reshape(2,5)\n",
    "\n",
    "randint_matrix2"
   ]
  },
  {
   "cell_type": "code",
   "execution_count": null,
   "id": "da42ab47",
   "metadata": {},
   "outputs": [],
   "source": []
  }
 ],
 "metadata": {
  "kernelspec": {
   "display_name": "Python 3 (ipykernel)",
   "language": "python",
   "name": "python3"
  },
  "language_info": {
   "codemirror_mode": {
    "name": "ipython",
    "version": 3
   },
   "file_extension": ".py",
   "mimetype": "text/x-python",
   "name": "python",
   "nbconvert_exporter": "python",
   "pygments_lexer": "ipython3",
   "version": "3.11.5"
  }
 },
 "nbformat": 4,
 "nbformat_minor": 5
}
