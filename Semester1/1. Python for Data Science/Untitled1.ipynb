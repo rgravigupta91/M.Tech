{
 "cells": [
  {
   "cell_type": "code",
   "execution_count": 1,
   "id": "9ed78096",
   "metadata": {},
   "outputs": [],
   "source": [
    "array = [[5] * 2 for _ in range(3)]"
   ]
  },
  {
   "cell_type": "code",
   "execution_count": 2,
   "id": "d8c01533",
   "metadata": {},
   "outputs": [
    {
     "data": {
      "text/plain": [
       "[[5, 5], [5, 5], [5, 5]]"
      ]
     },
     "execution_count": 2,
     "metadata": {},
     "output_type": "execute_result"
    }
   ],
   "source": [
    "array"
   ]
  },
  {
   "cell_type": "code",
   "execution_count": 4,
   "id": "fc5b1dd7",
   "metadata": {},
   "outputs": [
    {
     "name": "stdout",
     "output_type": "stream",
     "text": [
      "5\n",
      "[[5, 5], [5, 5], [5, 5]]\n"
     ]
    }
   ],
   "source": [
    "constant = int(input())\n",
    "\n",
    "# Write your code below\n",
    "\n",
    "array = [[constant] * 2 for _ in range(3)]\n",
    "print(array)"
   ]
  },
  {
   "cell_type": "code",
   "execution_count": 10,
   "id": "1e7e5abd",
   "metadata": {},
   "outputs": [
    {
     "name": "stdout",
     "output_type": "stream",
     "text": [
      "5, 10, 15, 20, 25, 30, 20, 40, 20, 50\n"
     ]
    }
   ],
   "source": [
    "import sys\n",
    "\n",
    "# write your answer here\n",
    "list1 = list(map(int,input().strip().split(',')))[:] = [i for i in list1 if i != 20] "
   ]
  },
  {
   "cell_type": "code",
   "execution_count": 11,
   "id": "625a22c8",
   "metadata": {},
   "outputs": [
    {
     "data": {
      "text/plain": [
       "[5, 10, 15, 25, 30, 40, 50]"
      ]
     },
     "execution_count": 11,
     "metadata": {},
     "output_type": "execute_result"
    }
   ],
   "source": [
    "list1"
   ]
  },
  {
   "cell_type": "code",
   "execution_count": 12,
   "id": "bd40e6a8",
   "metadata": {},
   "outputs": [
    {
     "name": "stdout",
     "output_type": "stream",
     "text": [
      "[['Hello', 'World'], ['Python', 'is', 'fun'], ['I', 'love', 'coding']]\n",
      "['is', 'fun', 'I', 'love']\n"
     ]
    }
   ],
   "source": [
    "words = eval(input())\n",
    "\n",
    "list1 = []\n",
    "for l1 in words:\n",
    "    for word in l1:\n",
    "        if len(word) < 5:\n",
    "            list1.append(word)\n",
    "            \n",
    "            \n",
    "print(list1)            "
   ]
  },
  {
   "cell_type": "code",
   "execution_count": 13,
   "id": "0d846fcc",
   "metadata": {},
   "outputs": [
    {
     "ename": "NameError",
     "evalue": "name 'my_string' is not defined",
     "output_type": "error",
     "traceback": [
      "\u001b[1;31m---------------------------------------------------------------------------\u001b[0m",
      "\u001b[1;31mNameError\u001b[0m                                 Traceback (most recent call last)",
      "Cell \u001b[1;32mIn[13], line 1\u001b[0m\n\u001b[1;32m----> 1\u001b[0m my_string\n",
      "\u001b[1;31mNameError\u001b[0m: name 'my_string' is not defined"
     ]
    }
   ],
   "source": [
    "my_string"
   ]
  },
  {
   "cell_type": "code",
   "execution_count": 14,
   "id": "1c272e3b",
   "metadata": {},
   "outputs": [],
   "source": [
    "my_string = \"Hello World\""
   ]
  },
  {
   "cell_type": "code",
   "execution_count": 15,
   "id": "ea6203e3",
   "metadata": {},
   "outputs": [
    {
     "data": {
      "text/plain": [
       "'Hello World'"
      ]
     },
     "execution_count": 15,
     "metadata": {},
     "output_type": "execute_result"
    }
   ],
   "source": [
    "my_string"
   ]
  },
  {
   "cell_type": "code",
   "execution_count": 16,
   "id": "ab54d704",
   "metadata": {},
   "outputs": [
    {
     "data": {
      "text/plain": [
       "'dlroW olleH'"
      ]
     },
     "execution_count": 16,
     "metadata": {},
     "output_type": "execute_result"
    }
   ],
   "source": [
    "my_string[::-1]"
   ]
  },
  {
   "cell_type": "code",
   "execution_count": 22,
   "id": "d22a1e59",
   "metadata": {},
   "outputs": [
    {
     "name": "stdout",
     "output_type": "stream",
     "text": [
      "This is a sample satement and this is a repeated statement\n",
      "{'this': 2, 'is': 2, 'a': 2, 'sample': 1, 'satement': 1, 'and': 1, 'repeated': 1, 'statement': 1}\n"
     ]
    }
   ],
   "source": [
    "text = input()\n",
    "text = text.lower()\n",
    "\n",
    "list1 = text.split()\n",
    "dict1 = {}\n",
    "for w in list1:\n",
    "    if w in dict1.keys():\n",
    "        dict1[w] = dict1[w] + 1\n",
    "    else:\n",
    "        dict1.update({w:1})\n",
    "       \n",
    "\n",
    "print(dict1)\n"
   ]
  },
  {
   "cell_type": "code",
   "execution_count": 3,
   "id": "3f054788",
   "metadata": {},
   "outputs": [],
   "source": [
    "import pandas as pd"
   ]
  },
  {
   "cell_type": "code",
   "execution_count": 2,
   "id": "5d7c6577",
   "metadata": {},
   "outputs": [],
   "source": [
    "mylist5 = [100, 95, 'Mum']"
   ]
  },
  {
   "cell_type": "code",
   "execution_count": 3,
   "id": "cf6dc523",
   "metadata": {},
   "outputs": [],
   "source": [
    "mylist6 = [200 ,195, 'Kol']"
   ]
  },
  {
   "cell_type": "code",
   "execution_count": 29,
   "id": "23e28117",
   "metadata": {},
   "outputs": [],
   "source": [
    "pd1 = pd.DataFrame(mylist5)"
   ]
  },
  {
   "cell_type": "code",
   "execution_count": 5,
   "id": "723a408b",
   "metadata": {},
   "outputs": [],
   "source": [
    "pd2 = pd.DataFrame(mylist6)"
   ]
  },
  {
   "cell_type": "code",
   "execution_count": 6,
   "id": "9f4b39f9",
   "metadata": {},
   "outputs": [
    {
     "data": {
      "text/html": [
       "<div>\n",
       "<style scoped>\n",
       "    .dataframe tbody tr th:only-of-type {\n",
       "        vertical-align: middle;\n",
       "    }\n",
       "\n",
       "    .dataframe tbody tr th {\n",
       "        vertical-align: top;\n",
       "    }\n",
       "\n",
       "    .dataframe thead th {\n",
       "        text-align: right;\n",
       "    }\n",
       "</style>\n",
       "<table border=\"1\" class=\"dataframe\">\n",
       "  <thead>\n",
       "    <tr style=\"text-align: right;\">\n",
       "      <th></th>\n",
       "      <th>0</th>\n",
       "    </tr>\n",
       "  </thead>\n",
       "  <tbody>\n",
       "    <tr>\n",
       "      <th>0</th>\n",
       "      <td>100</td>\n",
       "    </tr>\n",
       "    <tr>\n",
       "      <th>1</th>\n",
       "      <td>95</td>\n",
       "    </tr>\n",
       "    <tr>\n",
       "      <th>2</th>\n",
       "      <td>Mum</td>\n",
       "    </tr>\n",
       "  </tbody>\n",
       "</table>\n",
       "</div>"
      ],
      "text/plain": [
       "     0\n",
       "0  100\n",
       "1   95\n",
       "2  Mum"
      ]
     },
     "execution_count": 6,
     "metadata": {},
     "output_type": "execute_result"
    }
   ],
   "source": [
    "pd1"
   ]
  },
  {
   "cell_type": "code",
   "execution_count": 7,
   "id": "ddf41b9b",
   "metadata": {},
   "outputs": [],
   "source": [
    "s1 = pd.Series(mylist5)"
   ]
  },
  {
   "cell_type": "code",
   "execution_count": 8,
   "id": "ecabdd15",
   "metadata": {},
   "outputs": [
    {
     "data": {
      "text/plain": [
       "0    100\n",
       "1     95\n",
       "2    Mum\n",
       "dtype: object"
      ]
     },
     "execution_count": 8,
     "metadata": {},
     "output_type": "execute_result"
    }
   ],
   "source": [
    "s1"
   ]
  },
  {
   "cell_type": "code",
   "execution_count": 4,
   "id": "bfbf463a",
   "metadata": {},
   "outputs": [],
   "source": [
    "import numpy as np"
   ]
  },
  {
   "cell_type": "code",
   "execution_count": 11,
   "id": "2e701f50",
   "metadata": {},
   "outputs": [
    {
     "name": "stdout",
     "output_type": "stream",
     "text": [
      "[[ 5 10]\n",
      " [50 15]]\n"
     ]
    }
   ],
   "source": [
    "a = np.array(([50,200,5,10],[10,35,50,15],[25,100,145,120],[105,25,65,80]))\n",
    "\n",
    "b = a[:2,2:]\n",
    "\n",
    "print(b)"
   ]
  },
  {
   "cell_type": "code",
   "execution_count": 12,
   "id": "779e56ee",
   "metadata": {},
   "outputs": [
    {
     "data": {
      "text/html": [
       "<div>\n",
       "<style scoped>\n",
       "    .dataframe tbody tr th:only-of-type {\n",
       "        vertical-align: middle;\n",
       "    }\n",
       "\n",
       "    .dataframe tbody tr th {\n",
       "        vertical-align: top;\n",
       "    }\n",
       "\n",
       "    .dataframe thead th {\n",
       "        text-align: right;\n",
       "    }\n",
       "</style>\n",
       "<table border=\"1\" class=\"dataframe\">\n",
       "  <thead>\n",
       "    <tr style=\"text-align: right;\">\n",
       "      <th></th>\n",
       "      <th>0</th>\n",
       "    </tr>\n",
       "  </thead>\n",
       "  <tbody>\n",
       "    <tr>\n",
       "      <th>0</th>\n",
       "      <td>False</td>\n",
       "    </tr>\n",
       "    <tr>\n",
       "      <th>1</th>\n",
       "      <td>False</td>\n",
       "    </tr>\n",
       "    <tr>\n",
       "      <th>2</th>\n",
       "      <td>False</td>\n",
       "    </tr>\n",
       "  </tbody>\n",
       "</table>\n",
       "</div>"
      ],
      "text/plain": [
       "       0\n",
       "0  False\n",
       "1  False\n",
       "2  False"
      ]
     },
     "execution_count": 12,
     "metadata": {},
     "output_type": "execute_result"
    }
   ],
   "source": [
    "pd1.isnull()"
   ]
  },
  {
   "cell_type": "code",
   "execution_count": 13,
   "id": "b50eb3e3",
   "metadata": {},
   "outputs": [
    {
     "data": {
      "text/plain": [
       "0    0\n",
       "dtype: int64"
      ]
     },
     "execution_count": 13,
     "metadata": {},
     "output_type": "execute_result"
    }
   ],
   "source": [
    "pd1.isnull().sum()"
   ]
  },
  {
   "cell_type": "code",
   "execution_count": 14,
   "id": "d0dd6188",
   "metadata": {},
   "outputs": [
    {
     "ename": "TypeError",
     "evalue": "DataFrame.isnull() got an unexpected keyword argument 'axis'",
     "output_type": "error",
     "traceback": [
      "\u001b[1;31m---------------------------------------------------------------------------\u001b[0m",
      "\u001b[1;31mTypeError\u001b[0m                                 Traceback (most recent call last)",
      "Cell \u001b[1;32mIn[14], line 1\u001b[0m\n\u001b[1;32m----> 1\u001b[0m pd1\u001b[38;5;241m.\u001b[39misnull(axis\u001b[38;5;241m=\u001b[39m\u001b[38;5;241m0\u001b[39m)\u001b[38;5;241m.\u001b[39msum()\n",
      "\u001b[1;31mTypeError\u001b[0m: DataFrame.isnull() got an unexpected keyword argument 'axis'"
     ]
    }
   ],
   "source": [
    "pd1.isnull(axis=0).sum()"
   ]
  },
  {
   "cell_type": "code",
   "execution_count": 15,
   "id": "b0fcfc92",
   "metadata": {},
   "outputs": [
    {
     "data": {
      "text/plain": [
       "0    0\n",
       "dtype: int64"
      ]
     },
     "execution_count": 15,
     "metadata": {},
     "output_type": "execute_result"
    }
   ],
   "source": [
    "pd1.isnull().sum(axis=0)"
   ]
  },
  {
   "cell_type": "code",
   "execution_count": 16,
   "id": "bdb9b25e",
   "metadata": {},
   "outputs": [
    {
     "data": {
      "text/plain": [
       "0    0\n",
       "1    0\n",
       "2    0\n",
       "dtype: int64"
      ]
     },
     "execution_count": 16,
     "metadata": {},
     "output_type": "execute_result"
    }
   ],
   "source": [
    "pd1.isnull().sum(axis=1)"
   ]
  },
  {
   "cell_type": "code",
   "execution_count": 17,
   "id": "71c656c2",
   "metadata": {},
   "outputs": [
    {
     "data": {
      "text/plain": [
       "0"
      ]
     },
     "execution_count": 17,
     "metadata": {},
     "output_type": "execute_result"
    }
   ],
   "source": [
    "l = []\n",
    "np.size(l)"
   ]
  },
  {
   "cell_type": "code",
   "execution_count": 18,
   "id": "644aa7d4",
   "metadata": {},
   "outputs": [
    {
     "ename": "SyntaxError",
     "evalue": "invalid character '‘' (U+2018) (1576016982.py, line 1)",
     "output_type": "error",
     "traceback": [
      "\u001b[1;36m  Cell \u001b[1;32mIn[18], line 1\u001b[1;36m\u001b[0m\n\u001b[1;33m    Series_1 = pd.Series([10,20,30,40,50],index=[‘one’,’four’,’two’,’three’,’five’])\u001b[0m\n\u001b[1;37m                                                 ^\u001b[0m\n\u001b[1;31mSyntaxError\u001b[0m\u001b[1;31m:\u001b[0m invalid character '‘' (U+2018)\n"
     ]
    }
   ],
   "source": [
    "Series_1 = pd.Series([10,20,30,40,50],index=[‘one’,’four’,’two’,’three’,’five’])\n",
    "\n",
    "Series_1[‘two’]"
   ]
  },
  {
   "cell_type": "code",
   "execution_count": 19,
   "id": "1c7e4aeb",
   "metadata": {},
   "outputs": [
    {
     "ename": "SyntaxError",
     "evalue": "invalid character '‘' (U+2018) (2038464725.py, line 1)",
     "output_type": "error",
     "traceback": [
      "\u001b[1;36m  Cell \u001b[1;32mIn[19], line 1\u001b[1;36m\u001b[0m\n\u001b[1;33m    Series_1 = pd.Series([10,20,30,40,50],index=[‘one’,’four’,’two’,’three’,’five’])\u001b[0m\n\u001b[1;37m                                                 ^\u001b[0m\n\u001b[1;31mSyntaxError\u001b[0m\u001b[1;31m:\u001b[0m invalid character '‘' (U+2018)\n"
     ]
    }
   ],
   "source": [
    "Series_1 = pd.Series([10,20,30,40,50],index=[‘one’,’four’,’two’,’three’,’five’])"
   ]
  },
  {
   "cell_type": "code",
   "execution_count": 20,
   "id": "33681877",
   "metadata": {},
   "outputs": [],
   "source": [
    "Series_1 = pd.Series([10,20,30,40,50],index=['one','four','two','three','five'])"
   ]
  },
  {
   "cell_type": "code",
   "execution_count": 21,
   "id": "f15c1461",
   "metadata": {},
   "outputs": [
    {
     "data": {
      "text/plain": [
       "30"
      ]
     },
     "execution_count": 21,
     "metadata": {},
     "output_type": "execute_result"
    }
   ],
   "source": [
    "Series_1['two']"
   ]
  },
  {
   "cell_type": "code",
   "execution_count": 23,
   "id": "45823056",
   "metadata": {},
   "outputs": [
    {
     "name": "stdout",
     "output_type": "stream",
     "text": [
      "[[200   5]\n",
      " [ 35  50]\n",
      " [100 145]\n",
      " [ 25  65]\n",
      " [200 350]]\n"
     ]
    }
   ],
   "source": [
    "a = np.array(([50,200,5,10],[10,35,50,15],[25,100,145,120],[105,25,65,80],[100,200,350,400]))\n",
    "\n",
    "b = a[:,(1,2)]\n",
    "\n",
    "print(b)"
   ]
  },
  {
   "cell_type": "code",
   "execution_count": 5,
   "id": "056a86e2",
   "metadata": {},
   "outputs": [
    {
     "data": {
      "text/html": [
       "<div>\n",
       "<style scoped>\n",
       "    .dataframe tbody tr th:only-of-type {\n",
       "        vertical-align: middle;\n",
       "    }\n",
       "\n",
       "    .dataframe tbody tr th {\n",
       "        vertical-align: top;\n",
       "    }\n",
       "\n",
       "    .dataframe thead th {\n",
       "        text-align: right;\n",
       "    }\n",
       "</style>\n",
       "<table border=\"1\" class=\"dataframe\">\n",
       "  <thead>\n",
       "    <tr style=\"text-align: right;\">\n",
       "      <th></th>\n",
       "      <th>price</th>\n",
       "      <th>ticker</th>\n",
       "      <th>company</th>\n",
       "    </tr>\n",
       "  </thead>\n",
       "  <tbody>\n",
       "    <tr>\n",
       "      <th>0</th>\n",
       "      <td>95</td>\n",
       "      <td>AXP</td>\n",
       "      <td>American Express</td>\n",
       "    </tr>\n",
       "    <tr>\n",
       "      <th>1</th>\n",
       "      <td>25</td>\n",
       "      <td>CSCO</td>\n",
       "      <td>Cisco</td>\n",
       "    </tr>\n",
       "    <tr>\n",
       "      <th>2</th>\n",
       "      <td>85</td>\n",
       "      <td>DIS</td>\n",
       "      <td>Walt Disney</td>\n",
       "    </tr>\n",
       "    <tr>\n",
       "      <th>3</th>\n",
       "      <td>41</td>\n",
       "      <td>MSFT</td>\n",
       "      <td>Microsoft</td>\n",
       "    </tr>\n",
       "    <tr>\n",
       "      <th>4</th>\n",
       "      <td>78</td>\n",
       "      <td>WMT</td>\n",
       "      <td>Walmart</td>\n",
       "    </tr>\n",
       "  </tbody>\n",
       "</table>\n",
       "</div>"
      ],
      "text/plain": [
       "   price ticker           company\n",
       "0     95    AXP  American Express\n",
       "1     25   CSCO             Cisco\n",
       "2     85    DIS       Walt Disney\n",
       "3     41   MSFT         Microsoft\n",
       "4     78    WMT           Walmart"
      ]
     },
     "execution_count": 5,
     "metadata": {},
     "output_type": "execute_result"
    }
   ],
   "source": [
    "Data = pd.DataFrame({'price':[95, 25, 85, 41, 78],\n",
    "\n",
    "                     'ticker':['AXP', 'CSCO', 'DIS', 'MSFT', 'WMT'],\n",
    "\n",
    "                     'company':['American Express', 'Cisco', 'Walt Disney','Microsoft', 'Walmart']})\n",
    "\n",
    "Data"
   ]
  },
  {
   "cell_type": "code",
   "execution_count": 25,
   "id": "2ca0d7b8",
   "metadata": {},
   "outputs": [
    {
     "name": "stdout",
     "output_type": "stream",
     "text": [
      "On\n"
     ]
    }
   ],
   "source": [
    "print('On')"
   ]
  },
  {
   "cell_type": "code",
   "execution_count": 26,
   "id": "6a4e8e99",
   "metadata": {},
   "outputs": [],
   "source": [
    "import seaborn as sns"
   ]
  },
  {
   "cell_type": "code",
   "execution_count": 1,
   "id": "4a622aad",
   "metadata": {},
   "outputs": [],
   "source": [
    "m = [[1, 2], [3, 4], [5, 6]]"
   ]
  },
  {
   "cell_type": "code",
   "execution_count": 2,
   "id": "adab5b8a",
   "metadata": {},
   "outputs": [
    {
     "data": {
      "text/plain": [
       "3"
      ]
     },
     "execution_count": 2,
     "metadata": {},
     "output_type": "execute_result"
    }
   ],
   "source": [
    "len(m)"
   ]
  },
  {
   "cell_type": "code",
   "execution_count": 6,
   "id": "f145260f",
   "metadata": {},
   "outputs": [],
   "source": [
    "mt = [[m[i][j] for i in range(len(m))] for j in range(len(m[0]))]"
   ]
  },
  {
   "cell_type": "markdown",
   "id": "11827842",
   "metadata": {},
   "source": [
    "mt|"
   ]
  },
  {
   "cell_type": "code",
   "execution_count": 7,
   "id": "3269907c",
   "metadata": {},
   "outputs": [
    {
     "data": {
      "text/plain": [
       "[[1, 3, 5], [2, 4, 6]]"
      ]
     },
     "execution_count": 7,
     "metadata": {},
     "output_type": "execute_result"
    }
   ],
   "source": [
    "mt"
   ]
  },
  {
   "cell_type": "code",
   "execution_count": 8,
   "id": "bed90a5a",
   "metadata": {},
   "outputs": [
    {
     "ename": "TypeError",
     "evalue": "list indices must be integers or slices, not tuple",
     "output_type": "error",
     "traceback": [
      "\u001b[1;31m---------------------------------------------------------------------------\u001b[0m",
      "\u001b[1;31mTypeError\u001b[0m                                 Traceback (most recent call last)",
      "Cell \u001b[1;32mIn[8], line 1\u001b[0m\n\u001b[1;32m----> 1\u001b[0m m[\u001b[38;5;241m0\u001b[39m,\u001b[38;5;241m1\u001b[39m]\n",
      "\u001b[1;31mTypeError\u001b[0m: list indices must be integers or slices, not tuple"
     ]
    }
   ],
   "source": [
    "m[0,1]"
   ]
  },
  {
   "cell_type": "code",
   "execution_count": 9,
   "id": "a7e3357b",
   "metadata": {},
   "outputs": [
    {
     "data": {
      "text/plain": [
       "2"
      ]
     },
     "execution_count": 9,
     "metadata": {},
     "output_type": "execute_result"
    }
   ],
   "source": [
    "m[0][1]"
   ]
  },
  {
   "cell_type": "code",
   "execution_count": 10,
   "id": "60813556",
   "metadata": {},
   "outputs": [
    {
     "data": {
      "text/plain": [
       "[[1, 2], [3, 4], [5, 6]]"
      ]
     },
     "execution_count": 10,
     "metadata": {},
     "output_type": "execute_result"
    }
   ],
   "source": [
    "m"
   ]
  },
  {
   "cell_type": "code",
   "execution_count": 11,
   "id": "c4febdc0",
   "metadata": {},
   "outputs": [
    {
     "data": {
      "text/plain": [
       "3"
      ]
     },
     "execution_count": 11,
     "metadata": {},
     "output_type": "execute_result"
    }
   ],
   "source": [
    "mt[0][1]"
   ]
  },
  {
   "cell_type": "code",
   "execution_count": 12,
   "id": "727ee0e2",
   "metadata": {},
   "outputs": [],
   "source": [
    "ai = [[i for i in range(len(m))] for j in range(len(m[0]))]"
   ]
  },
  {
   "cell_type": "code",
   "execution_count": 13,
   "id": "b9a2274b",
   "metadata": {},
   "outputs": [],
   "source": [
    "aj = mt = [[j for i in range(len(m))] for j in range(len(m[0]))]"
   ]
  },
  {
   "cell_type": "code",
   "execution_count": 14,
   "id": "f5b43bac",
   "metadata": {},
   "outputs": [
    {
     "data": {
      "text/plain": [
       "[[0, 1, 2], [0, 1, 2]]"
      ]
     },
     "execution_count": 14,
     "metadata": {},
     "output_type": "execute_result"
    }
   ],
   "source": [
    "ai"
   ]
  },
  {
   "cell_type": "code",
   "execution_count": 15,
   "id": "8f60d640",
   "metadata": {},
   "outputs": [
    {
     "data": {
      "text/plain": [
       "[[0, 0, 0], [1, 1, 1]]"
      ]
     },
     "execution_count": 15,
     "metadata": {},
     "output_type": "execute_result"
    }
   ],
   "source": [
    "aj"
   ]
  },
  {
   "cell_type": "code",
   "execution_count": 16,
   "id": "f114bb3d",
   "metadata": {},
   "outputs": [
    {
     "data": {
      "text/plain": [
       "3"
      ]
     },
     "execution_count": 16,
     "metadata": {},
     "output_type": "execute_result"
    }
   ],
   "source": [
    "len(m)"
   ]
  },
  {
   "cell_type": "code",
   "execution_count": 17,
   "id": "94316abf",
   "metadata": {},
   "outputs": [
    {
     "data": {
      "text/plain": [
       "2"
      ]
     },
     "execution_count": 17,
     "metadata": {},
     "output_type": "execute_result"
    }
   ],
   "source": [
    "len(m[0])"
   ]
  },
  {
   "cell_type": "code",
   "execution_count": 38,
   "id": "d62820fc",
   "metadata": {},
   "outputs": [],
   "source": [
    "import math"
   ]
  },
  {
   "cell_type": "code",
   "execution_count": 39,
   "id": "3835965a",
   "metadata": {},
   "outputs": [],
   "source": [
    "func = {\n",
    "    \"Mul2\"    : lambda x : x * 2,\n",
    "    \"Square\"  : lambda x : x ** 2,\n",
    "    \"Cube\"    : lambda x : x ** 3,\n",
    "    \"SQRT\"    : lambda x : math.sqrt(x)\n",
    "}"
   ]
  },
  {
   "cell_type": "code",
   "execution_count": 22,
   "id": "89270e59",
   "metadata": {},
   "outputs": [
    {
     "data": {
      "text/plain": [
       "{'Mul2': 'lambda x : x * 2', 'Square': '', 'Cube': '', 'SQRT': ''}"
      ]
     },
     "execution_count": 22,
     "metadata": {},
     "output_type": "execute_result"
    }
   ],
   "source": [
    "func"
   ]
  },
  {
   "cell_type": "code",
   "execution_count": 30,
   "id": "bac287bf",
   "metadata": {},
   "outputs": [
    {
     "data": {
      "text/plain": [
       "8"
      ]
     },
     "execution_count": 30,
     "metadata": {},
     "output_type": "execute_result"
    }
   ],
   "source": [
    "func[\"Mul2\"](4)"
   ]
  },
  {
   "cell_type": "code",
   "execution_count": 33,
   "id": "8f4e38f3",
   "metadata": {},
   "outputs": [
    {
     "data": {
      "text/plain": [
       "16"
      ]
     },
     "execution_count": 33,
     "metadata": {},
     "output_type": "execute_result"
    }
   ],
   "source": [
    "func[\"Square\"](4)"
   ]
  },
  {
   "cell_type": "code",
   "execution_count": 34,
   "id": "ce7f5b20",
   "metadata": {},
   "outputs": [
    {
     "data": {
      "text/plain": [
       "64"
      ]
     },
     "execution_count": 34,
     "metadata": {},
     "output_type": "execute_result"
    }
   ],
   "source": [
    "func[\"Cube\"](4)"
   ]
  },
  {
   "cell_type": "code",
   "execution_count": 40,
   "id": "cf58765a",
   "metadata": {},
   "outputs": [
    {
     "data": {
      "text/plain": [
       "2.0"
      ]
     },
     "execution_count": 40,
     "metadata": {},
     "output_type": "execute_result"
    }
   ],
   "source": [
    "func[\"SQRT\"](4)"
   ]
  },
  {
   "cell_type": "code",
   "execution_count": 42,
   "id": "971e95ea",
   "metadata": {},
   "outputs": [],
   "source": [
    "from itertools import accumulate"
   ]
  },
  {
   "cell_type": "code",
   "execution_count": 43,
   "id": "ad676714",
   "metadata": {},
   "outputs": [],
   "source": [
    "li = [1, 2, 3, 4, 5]"
   ]
  },
  {
   "cell_type": "code",
   "execution_count": 44,
   "id": "f0f3ad0e",
   "metadata": {},
   "outputs": [
    {
     "data": {
      "text/plain": [
       "<itertools.accumulate at 0x1969ac32ec0>"
      ]
     },
     "execution_count": 44,
     "metadata": {},
     "output_type": "execute_result"
    }
   ],
   "source": [
    "accumulate(li)"
   ]
  },
  {
   "cell_type": "code",
   "execution_count": 54,
   "id": "35ab9479",
   "metadata": {},
   "outputs": [
    {
     "name": "stdout",
     "output_type": "stream",
     "text": [
      "[1.0, 1.5, 2.0, 2.5, 3.0]\n"
     ]
    }
   ],
   "source": [
    "avg = lambda i, index : i / ( index + 1)\n",
    "l1 = [ avg(i, index) for index, i in enumerate(accumulate(li))]\n",
    "print(l1)"
   ]
  },
  {
   "cell_type": "code",
   "execution_count": 55,
   "id": "34699150",
   "metadata": {},
   "outputs": [
    {
     "data": {
      "text/plain": [
       "'MAP'"
      ]
     },
     "execution_count": 55,
     "metadata": {},
     "output_type": "execute_result"
    }
   ],
   "source": [
    "\"map\".upper()"
   ]
  },
  {
   "cell_type": "code",
   "execution_count": 64,
   "id": "4a57cc8c",
   "metadata": {},
   "outputs": [],
   "source": [
    "a = lambda a : a.upper()"
   ]
  },
  {
   "cell_type": "code",
   "execution_count": 65,
   "id": "762e9395",
   "metadata": {},
   "outputs": [
    {
     "name": "stdout",
     "output_type": "stream",
     "text": [
      "['RAVI', 'MANYATA', 'MAANVI']\n"
     ]
    }
   ],
   "source": [
    "Names = ['Ravi', 'Manyata', 'Maanvi']\n",
    "NAMES = list(map(a, Names))\n",
    "print(NAMES)"
   ]
  },
  {
   "cell_type": "code",
   "execution_count": 68,
   "id": "9cd733e7",
   "metadata": {},
   "outputs": [],
   "source": [
    "def xo(s):\n",
    "    a = {'x': 0, 'o': 0}\n",
    "    for i in s:\n",
    "        if i == 'X' or i == 'x':\n",
    "            a['x'] = a['x'] + 1\n",
    "        elif i == 'O' or i == 'o':\n",
    "            a['o'] = a['o'] + 1\n",
    "    if a['x'] == a['o']:\n",
    "        return True\n",
    "    else:\n",
    "        return False"
   ]
  },
  {
   "cell_type": "code",
   "execution_count": 156,
   "id": "335c92ec",
   "metadata": {},
   "outputs": [],
   "source": [
    "def majorityElement(arr):\n",
    "  a = {}\n",
    "  for i in arr:\n",
    "    if i in a.keys():\n",
    "      a[i] = a[i] + 1\n",
    "    else:\n",
    "      a.update({i: 1})\n",
    "  \n",
    "#  return max(((value, index) for index, value in a.items()))[1]\n",
    "  r_max = max(((value, index) for index, value in a.items()))[1]\n",
    "  return r_max if r_max > math.floor(len(arr) / 2) else None"
   ]
  },
  {
   "cell_type": "code",
   "execution_count": 159,
   "id": "3b062d46",
   "metadata": {},
   "outputs": [],
   "source": [
    "t = majorityElement([1, 4, 4, 4, 3, 4, 5, 4])\n",
    "t"
   ]
  },
  {
   "cell_type": "code",
   "execution_count": 1,
   "id": "bdc03eb9",
   "metadata": {},
   "outputs": [
    {
     "data": {
      "text/plain": [
       "['A', 'B', 'C', 'D']"
      ]
     },
     "execution_count": 1,
     "metadata": {},
     "output_type": "execute_result"
    }
   ],
   "source": [
    "list(\"ABCD\")"
   ]
  },
  {
   "cell_type": "code",
   "execution_count": 6,
   "id": "b801e058",
   "metadata": {},
   "outputs": [],
   "source": [
    "import seaborn as sns"
   ]
  },
  {
   "cell_type": "code",
   "execution_count": 7,
   "id": "8a1f3cfc",
   "metadata": {},
   "outputs": [
    {
     "data": {
      "text/html": [
       "<div>\n",
       "<style scoped>\n",
       "    .dataframe tbody tr th:only-of-type {\n",
       "        vertical-align: middle;\n",
       "    }\n",
       "\n",
       "    .dataframe tbody tr th {\n",
       "        vertical-align: top;\n",
       "    }\n",
       "\n",
       "    .dataframe thead tr th {\n",
       "        text-align: left;\n",
       "    }\n",
       "\n",
       "    .dataframe thead tr:last-of-type th {\n",
       "        text-align: right;\n",
       "    }\n",
       "</style>\n",
       "<table border=\"1\" class=\"dataframe\">\n",
       "  <thead>\n",
       "    <tr>\n",
       "      <th>b</th>\n",
       "      <th colspan=\"2\" halign=\"left\">one</th>\n",
       "      <th colspan=\"2\" halign=\"left\">two</th>\n",
       "    </tr>\n",
       "    <tr>\n",
       "      <th>c</th>\n",
       "      <th>dull</th>\n",
       "      <th>shiny</th>\n",
       "      <th>dull</th>\n",
       "      <th>shiny</th>\n",
       "    </tr>\n",
       "    <tr>\n",
       "      <th>a</th>\n",
       "      <th></th>\n",
       "      <th></th>\n",
       "      <th></th>\n",
       "      <th></th>\n",
       "    </tr>\n",
       "  </thead>\n",
       "  <tbody>\n",
       "    <tr>\n",
       "      <th>bar</th>\n",
       "      <td>1</td>\n",
       "      <td>2</td>\n",
       "      <td>1</td>\n",
       "      <td>0</td>\n",
       "    </tr>\n",
       "    <tr>\n",
       "      <th>foo</th>\n",
       "      <td>2</td>\n",
       "      <td>2</td>\n",
       "      <td>1</td>\n",
       "      <td>2</td>\n",
       "    </tr>\n",
       "  </tbody>\n",
       "</table>\n",
       "</div>"
      ],
      "text/plain": [
       "b    one        two      \n",
       "c   dull shiny dull shiny\n",
       "a                        \n",
       "bar    1     2    1     0\n",
       "foo    2     2    1     2"
      ]
     },
     "execution_count": 7,
     "metadata": {},
     "output_type": "execute_result"
    }
   ],
   "source": [
    "a = np.array([\"foo\", \"foo\", \"foo\", \"foo\", \n",
    "                 \"bar\", \"bar\", \"bar\", \"bar\", \n",
    "                 \"foo\", \"foo\", \"foo\"], \n",
    "                dtype=object) \n",
    "  \n",
    "b = np.array([\"one\", \"one\", \"one\", \"two\", \n",
    "                 \"one\", \"one\", \"one\", \"two\", \n",
    "                 \"two\", \"two\", \"one\"], \n",
    "                dtype=object) \n",
    "  \n",
    "c = np.array([\"dull\", \"dull\", \"shiny\", \n",
    "                 \"dull\", \"dull\", \"shiny\", \n",
    "                 \"shiny\", \"dull\", \"shiny\", \n",
    "                 \"shiny\", \"shiny\"], \n",
    "                dtype=object) \n",
    "  \n",
    "# form the cross tab \n",
    "pd.crosstab(a, [b, c], rownames=['a'], colnames=['b', 'c']) "
   ]
  },
  {
   "cell_type": "code",
   "execution_count": null,
   "id": "aeae1858",
   "metadata": {},
   "outputs": [],
   "source": []
  }
 ],
 "metadata": {
  "kernelspec": {
   "display_name": "Python 3 (ipykernel)",
   "language": "python",
   "name": "python3"
  },
  "language_info": {
   "codemirror_mode": {
    "name": "ipython",
    "version": 3
   },
   "file_extension": ".py",
   "mimetype": "text/x-python",
   "name": "python",
   "nbconvert_exporter": "python",
   "pygments_lexer": "ipython3",
   "version": "3.11.5"
  }
 },
 "nbformat": 4,
 "nbformat_minor": 5
}
