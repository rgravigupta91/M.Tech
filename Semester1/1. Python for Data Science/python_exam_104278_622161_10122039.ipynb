{
 "cells": [
  {
   "cell_type": "markdown",
   "metadata": {
    "id": "7bFX4eN0o9Ma"
   },
   "source": [
    "<span style=\"font-family: Arial; font-weight:bold;font-size:1em;color:#f0f0f0;\">           \n",
    "    <span style=\"font-family: Arial; font-weight:bold;font-size:3em;color:#0a7a78;\">             Python for Data Science \n",
    "       -- Graded Assessment "
   ]
  },
  {
   "cell_type": "markdown",
   "metadata": {
    "id": "hEaO0m08o9Mh"
   },
   "source": [
    "   <span style=\"font-family: Arial; font-weight:bold;font-size:1.5em;color:#0a7a78;\">Time:3hrs                                                                                            &emsp;$\\;\\;\\;\\;\\;\\;$$\\;\\;\\;\\;\\;\\;$$\\;\\;\\;\\;\\;\\;$$\\;\\;\\;\\;\\;\\;$$\\;\\;\\;\\;\\;\\;$$\\;\\;\\;\\;\\;\\;$$\\;\\;\\;\\;\\;\\;$$\\;\\;\\;\\;\\;\\;$$\\;\\;\\;\\;\\;\\;$$\\;\\;\\;\\;\\;\\;$$\\;\\;\\;\\;\\;\\;$ $\\;\\;\\;\\;\\;\\;$$\\;\\;\\;\\;\\;\\;$$\\;\\;\\;\\;\\;\\;$Total Marks:  40 "
   ]
  },
  {
   "cell_type": "markdown",
   "metadata": {
    "id": "tbVOYseII9dY"
   },
   "source": [
    "<span style=\"font-family: Arial; font-weight:bold;font-size:1.5em;color:#0a7a78;\"> Section -A"
   ]
  },
  {
   "cell_type": "markdown",
   "metadata": {
    "id": "Y8qJbCgpI9dZ"
   },
   "source": [
    "<span style=\"font-family: Arial; font-weight:bold;font-size:1.5em;color:#0a7a78;\">1. (A) Write python program to reverse a given string using slicing.(1 mark)"
   ]
  },
  {
   "cell_type": "markdown",
   "metadata": {
    "id": "REFkXvh_I9da"
   },
   "source": [
    "**Sample:**     \n",
    "\n",
    "             INPUT:'Welcome'\n",
    "\n",
    "             OUTPUT:'emocleW'"
   ]
  },
  {
   "cell_type": "code",
   "execution_count": 1,
   "metadata": {},
   "outputs": [
    {
     "name": "stdout",
     "output_type": "stream",
     "text": [
      "Enter the stringWelcome\n",
      "Reverse of the string is :  emocleW\n"
     ]
    }
   ],
   "source": [
    "str1 = input(\"Enter the string\")\n",
    "print(\"Reverse of the string is : \",str1[::-1])"
   ]
  },
  {
   "cell_type": "markdown",
   "metadata": {
    "id": "EMIYohXhI9di"
   },
   "source": [
    "<span style=\"font-family: Arial; font-weight:bold;font-size:1.5em;color:#0a7a78;\">1. B) Write a python program to find the sum of the Series: 1 + 1/2 + 1/3 + ….. + 1/N.          (2 marks)"
   ]
  },
  {
   "cell_type": "markdown",
   "metadata": {
    "id": "0iYrPCoHI9dk"
   },
   "source": [
    "#### Python Code:\n"
   ]
  },
  {
   "cell_type": "code",
   "execution_count": 3,
   "metadata": {
    "id": "EwqXRPP3I9dk",
    "outputId": "98b375aa-fa5f-4b4a-fa12-b96e35bf5f06"
   },
   "outputs": [
    {
     "name": "stdout",
     "output_type": "stream",
     "text": [
      "Please Enter Number of Elements : 3\n",
      "Sum is :  1.8333333333333333\n"
     ]
    }
   ],
   "source": [
    "n = int(input(\"Please Enter Number of Elements : \"))\n",
    "\n",
    "sum = 0\n",
    "\n",
    "for i in range(n):\n",
    "    sum += 1 / (1+i)\n",
    "\n",
    "print(\"Sum is : \", sum)"
   ]
  },
  {
   "cell_type": "markdown",
   "metadata": {
    "id": "MlSk-3uaI9dn"
   },
   "source": [
    "<span style=\"font-family: Arial; font-weight:bold;font-size:1.5em;color:#0a7a78;\">1. C)Write a program to divide 5 by 2 so that the output is \t\t(2 mark)\n",
    "\n",
    "\ta) 2\n",
    "\n",
    "\tb) 2.5\n"
   ]
  },
  {
   "cell_type": "code",
   "execution_count": 6,
   "metadata": {
    "id": "kFc4bY9TI9dn",
    "outputId": "b372056e-b32b-4cd9-8482-55332e3be0f8"
   },
   "outputs": [
    {
     "name": "stdout",
     "output_type": "stream",
     "text": [
      "a :  2\n",
      "b :  2.5\n"
     ]
    }
   ],
   "source": [
    "a = 5//2\n",
    "b = 5/2\n",
    "print(\"a : \", a)\n",
    "print(\"b : \", b)"
   ]
  },
  {
   "cell_type": "markdown",
   "metadata": {
    "id": "TFZhLpFjI9dq"
   },
   "source": [
    "<span style=\"font-family: Arial; font-weight:bold;font-size:1.5em;color:#0a7a78;\">2. A) Write a program to print the following number pattern.( 3 marks)\n",
    "  ##  1 \n",
    "  ##  1 2 \n",
    "  ##  1 2 3 \n",
    "  ##  1 2 3 4 \n",
    "  ##  1 2 3 4 5\n"
   ]
  },
  {
   "cell_type": "code",
   "execution_count": 9,
   "metadata": {
    "id": "zWLgMZmCI9dq",
    "outputId": "9170223c-e5b6-4bd6-e1f1-cdbbac45db16"
   },
   "outputs": [
    {
     "name": "stdout",
     "output_type": "stream",
     "text": [
      "\n",
      "\n",
      "1 \n",
      "1 2 \n",
      "1 2 3 \n",
      "1 2 3 4 \n",
      "1 2 3 4 5 "
     ]
    }
   ],
   "source": [
    "for i in range(6):\n",
    "    print()\n",
    "    for j in range(i):\n",
    "        print(j+1, end=\" \")\n",
    "        \n",
    "        \n",
    "        str1 = \"greatlearning\"\n",
    "counter = 0\n",
    "while len(str1) < counter:\n",
    "    print(str1, end=\"\")\n",
    "    counter += 1"
   ]
  },
  {
   "cell_type": "markdown",
   "metadata": {
    "id": "J4f2bBJrI9dv"
   },
   "source": [
    "<span style=\"font-family: Arial; font-weight:bold;font-size:1.5em;color:#0a7a78;\"> 2. B) Write a python program to print all letters except 'e' and 'l' in the string 'greatlearning' using while loop. (2 marks)"
   ]
  },
  {
   "cell_type": "code",
   "execution_count": 24,
   "metadata": {
    "id": "Rh2bA7m0I9dw",
    "outputId": "e0b4517d-b362-4d6f-cbdf-fa74edc37c7f"
   },
   "outputs": [
    {
     "name": "stdout",
     "output_type": "stream",
     "text": [
      "gratarning"
     ]
    }
   ],
   "source": [
    "str1 = \"greatlearning\"\n",
    "counter = 0\n",
    "while len(str1) > counter:\n",
    "    if not ( str1[counter] == 'e' or str1[counter] == 'l' ):\n",
    "        print(str1[counter], end=\"\")\n",
    "    counter += 1"
   ]
  },
  {
   "cell_type": "markdown",
   "metadata": {
    "id": "sK7fBj9lI9d0"
   },
   "source": [
    "<span style=\"font-family: Arial; font-weight:bold;font-size:1.5em;color:#0a7a78;\"> 3. (A) Given two lists of integers, create a third list by user defined function such that it should contain only odd numbers from the first list and even numbers from the second list? \t\t\t\t\t\t\t\t(3 marks)\n",
    "\n",
    "\t* list1 = [10, 20, 23, 11, 17]\n",
    "\t* list2 = [13, 43, 24, 36, 12]\n",
    "    \n",
    "Sample Output:\n",
    "\n",
    "Merged List :\n",
    "[23, 11, 17, 24, 36, 12]\n",
    "\n"
   ]
  },
  {
   "cell_type": "code",
   "execution_count": 32,
   "metadata": {
    "id": "xrVw2oXzI9d1",
    "outputId": "4d86b42f-36bc-49e8-e6b4-9004e7a68ca1"
   },
   "outputs": [
    {
     "name": "stdout",
     "output_type": "stream",
     "text": [
      "[23, 11, 17, 24, 36, 12]\n"
     ]
    }
   ],
   "source": [
    "list1 = [10, 20, 23, 11, 17]\n",
    "list2 = [13, 43, 24, 36, 12]\n",
    "\n",
    "def odd_even(list1, list2):\n",
    "    list3 = []\n",
    "    list3 = [i for i in list1 if ( i % 2 ) == 1 ] + [i for i in list2 if ( i % 2 ) == 0 ]\n",
    "    return list3\n",
    "    \n",
    "print(odd_even(list1, list2))"
   ]
  },
  {
   "cell_type": "markdown",
   "metadata": {
    "id": "ecmvzWp-o9NH"
   },
   "source": [
    "<span style=\"font-family: Arial; font-weight:bold;font-size:1.5em;color:#0a7a78;\">3. B) Create a dictionary with the keys 1,2 and 3 with values 'Learning', 'For' and {A: Life, B:To , C: Great} respectively and update the value of 2 to 'Great Learning'. (2 marks)\n"
   ]
  },
  {
   "cell_type": "code",
   "execution_count": 41,
   "metadata": {
    "id": "8OwGbJM_I9d7",
    "outputId": "8e52e0c2-ca1e-4c66-e1f1-9371c09686b3"
   },
   "outputs": [],
   "source": [
    "dict1 = {\n",
    "    1 : 'Learning',\n",
    "    2: 'For',\n",
    "    3: { 'A': 'Life',\n",
    "         'B': 'To',\n",
    "         'C': 'Great'\n",
    "       }\n",
    "}"
   ]
  },
  {
   "cell_type": "code",
   "execution_count": 43,
   "metadata": {
    "id": "w0qimsYCI9eB",
    "outputId": "ee3ff90c-64f8-4c5a-b262-03a94cb7f669"
   },
   "outputs": [],
   "source": [
    "dict1.update({2:'Great Learning'})"
   ]
  },
  {
   "cell_type": "code",
   "execution_count": 44,
   "metadata": {
    "id": "loZoKWHaJgna"
   },
   "outputs": [
    {
     "data": {
      "text/plain": [
       "{1: 'Learning', 2: 'Great Learning', 3: {'A': 'Life', 'B': 'To', 'C': 'Great'}}"
      ]
     },
     "execution_count": 44,
     "metadata": {},
     "output_type": "execute_result"
    }
   ],
   "source": [
    "dict1"
   ]
  },
  {
   "cell_type": "markdown",
   "metadata": {
    "id": "QRqXT1rAI9eH"
   },
   "source": [
    "<span style=\"font-family: Arial; font-weight:bold;font-size:1.5em;color:#0a7a78;\">4. (A) Create a scientific calculator using user defined function in python. The calculator should give a menu to the user asking the type of mathematical operation to be performed (1. Addition  2. Subtraction 3. Mulitiplication and 4. Division.  According to the choice of the user, operations are performed on the numbers entered. Any innovation in this basic calculator model will be given marks. \t\t(3 marks)\n",
    "\n",
    "SAMPLE INPUT:\n",
    "SCIENTIFIC CALCULATOR\n",
    "1.\tADDITION \t2. SUBTRATION\t3. MULTIPLICATION\t4. DIVISION\n",
    "Please select an option of your choice4\n",
    "Enter the first number23\n",
    "Enter the second number56\n",
    "SAMPLE OUTPUT:\n",
    "The division of the first number with the second number is 0.4107142857142857\n"
   ]
  },
  {
   "cell_type": "code",
   "execution_count": 3,
   "metadata": {
    "id": "4f3VC4brI9eI",
    "outputId": "16403b9e-7b51-4035-bfad-f9494d1c6966"
   },
   "outputs": [
    {
     "name": "stdout",
     "output_type": "stream",
     "text": [
      "Operation Menu : \n",
      "1. Addition\n",
      "2. Subtraction\n",
      "3. Multiplication\n",
      "4. Division\n",
      "5. Exit\n",
      "Coose your option : 4\n",
      "Enter First number : 6\n",
      "Enter Second number : 3\n",
      "Result :  2.0\n",
      "Operation Menu : \n",
      "1. Addition\n",
      "2. Subtraction\n",
      "3. Multiplication\n",
      "4. Division\n",
      "5. Exit\n",
      "Coose your option : 5\n"
     ]
    }
   ],
   "source": [
    "def read_number(n):\n",
    "    str1 = \"Enter \" + n + \" number : \"\n",
    "    return int(input(str1))\n",
    "def add(i,j):\n",
    "    return i+j\n",
    "\n",
    "def sub(i,j):\n",
    "    return i-j\n",
    "\n",
    "def mul(i,j):\n",
    "    return i*j\n",
    "\n",
    "def div(i,j):\n",
    "    return i/j\n",
    "\n",
    "option = 0\n",
    "while not (option == 5):\n",
    "    print(\"Operation Menu : \")\n",
    "    print(\"1. Addition\")\n",
    "    print(\"2. Subtraction\")   \n",
    "    print(\"3. Multiplication\")   \n",
    "    print(\"4. Division\")\n",
    "    print(\"5. Exit\")\n",
    "    option = int(input(\"Coose your option : \"))\n",
    "    \n",
    "    if option == 1:\n",
    "        print(\"Result : \", add(read_number('First'),read_number('Second')))\n",
    "    elif option == 2:    \n",
    "        print(\"Result : \", sub(read_number('First'),read_number('Second')))\n",
    "    elif option == 3:    \n",
    "        print(\"Result : \", mul(read_number('First'),read_number('Second')))\n",
    "    elif option == 4:    \n",
    "        print(\"Result : \", div(read_number('First'),read_number('Second')))"
   ]
  },
  {
   "cell_type": "code",
   "execution_count": null,
   "metadata": {},
   "outputs": [],
   "source": []
  },
  {
   "cell_type": "markdown",
   "metadata": {
    "id": "RzwOCKspI9eE"
   },
   "source": [
    "<span style=\"font-family: Arial; font-weight:bold;font-size:1.5em;color:#0a7a78;\">4. B) Write a program to print the sum of squares of first 10 natural numbers using lambda, map and reduce.(2 marks)\n",
    "\n"
   ]
  },
  {
   "cell_type": "code",
   "execution_count": 1,
   "metadata": {
    "id": "8_ggZtm0I9eE",
    "outputId": "644ae855-7252-47d3-acc1-296ccb24b0ae"
   },
   "outputs": [
    {
     "data": {
      "text/plain": [
       "[1, 4, 9, 16, 25, 36, 49, 64, 81, 100]"
      ]
     },
     "execution_count": 1,
     "metadata": {},
     "output_type": "execute_result"
    }
   ],
   "source": [
    "natural_numbers = range(1,11)\n",
    "a = lambda n: n ** 2\n",
    "sq = list(map(a, natural_numbers))\n",
    "sq"
   ]
  },
  {
   "cell_type": "code",
   "execution_count": 2,
   "metadata": {},
   "outputs": [],
   "source": [
    "import functools"
   ]
  },
  {
   "cell_type": "code",
   "execution_count": 3,
   "metadata": {},
   "outputs": [
    {
     "data": {
      "text/plain": [
       "385"
      ]
     },
     "execution_count": 3,
     "metadata": {},
     "output_type": "execute_result"
    }
   ],
   "source": [
    "natural_numbers = range(1,11)\n",
    "a = lambda n: n ** 2\n",
    "sq = functools.reduce(lambda a,b : a+b, list(map(a, natural_numbers)))\n",
    "sq"
   ]
  },
  {
   "cell_type": "markdown",
   "metadata": {
    "id": "7lvi7llrI9eK"
   },
   "source": [
    "<span style=\"font-family: Arial; font-weight:bold;font-size:1.5em;color:#0a7a78;\"> Section -B"
   ]
  },
  {
   "cell_type": "code",
   "execution_count": 4,
   "metadata": {
    "id": "8gPGpCv-3Nzs"
   },
   "outputs": [],
   "source": [
    "import numpy as np \n",
    "import pandas as pd\n",
    "%matplotlib inline\n",
    "import matplotlib.pyplot as plt\n",
    "import math\n",
    "import seaborn as sns"
   ]
  },
  {
   "cell_type": "markdown",
   "metadata": {
    "id": "UNkViNblI9eN"
   },
   "source": [
    "###     5.   Do the following:  (5 Marks)\n",
    "        (i)  Create an array of 12 random integers using step size of 1.\n",
    "        (ii) Use the array created above to increase all the elements in the array by 1.\n",
    "        (iii)Sort the elements in the array using in-built function.\n",
    "        (iv) Reshape the array to 3 rows and 4 columns.\n",
    "        (v)  Display the element in the 2nd row 3rd column."
   ]
  },
  {
   "cell_type": "code",
   "execution_count": 8,
   "metadata": {
    "id": "UX6Gz085I9eO",
    "outputId": "0d4b4f7f-58b9-480f-9dfc-f1133a9bfa15"
   },
   "outputs": [
    {
     "data": {
      "text/plain": [
       "array([ 5,  1, 17, 78, 41, 17, 65, 46, 36, 20,  8, 48])"
      ]
     },
     "execution_count": 8,
     "metadata": {},
     "output_type": "execute_result"
    }
   ],
   "source": [
    "arr1 = np.random.randint(low=100,size=12)\n",
    "arr1"
   ]
  },
  {
   "cell_type": "code",
   "execution_count": 9,
   "metadata": {
    "id": "1jCAcSt6I9eR"
   },
   "outputs": [
    {
     "data": {
      "text/plain": [
       "array([ 6,  2, 18, 79, 42, 18, 66, 47, 37, 21,  9, 49])"
      ]
     },
     "execution_count": 9,
     "metadata": {},
     "output_type": "execute_result"
    }
   ],
   "source": [
    "arr1 += 1\n",
    "arr1"
   ]
  },
  {
   "cell_type": "code",
   "execution_count": 11,
   "metadata": {},
   "outputs": [
    {
     "data": {
      "text/plain": [
       "array([ 2,  6,  9, 18, 18, 21, 37, 42, 47, 49, 66, 79])"
      ]
     },
     "execution_count": 11,
     "metadata": {},
     "output_type": "execute_result"
    }
   ],
   "source": [
    "arr1.sort()\n",
    "arr1"
   ]
  },
  {
   "cell_type": "code",
   "execution_count": 13,
   "metadata": {},
   "outputs": [
    {
     "data": {
      "text/plain": [
       "array([[ 2,  6,  9, 18],\n",
       "       [18, 21, 37, 42],\n",
       "       [47, 49, 66, 79]])"
      ]
     },
     "execution_count": 13,
     "metadata": {},
     "output_type": "execute_result"
    }
   ],
   "source": [
    "arr34 = arr1.reshape(3,4)\n",
    "arr34"
   ]
  },
  {
   "cell_type": "code",
   "execution_count": 14,
   "metadata": {},
   "outputs": [
    {
     "data": {
      "text/plain": [
       "37"
      ]
     },
     "execution_count": 14,
     "metadata": {},
     "output_type": "execute_result"
    }
   ],
   "source": [
    "arr34[1][2]"
   ]
  },
  {
   "cell_type": "code",
   "execution_count": null,
   "metadata": {
    "id": "06Sqw46YI9eU",
    "outputId": "3a83d24e-cb15-4f54-8afe-acb5dd69418d"
   },
   "outputs": [],
   "source": []
  },
  {
   "cell_type": "markdown",
   "metadata": {
    "id": "MOuJBVKpI9eZ"
   },
   "source": [
    "###     6.   Do the following:  (15 Marks)\n",
    " (i)  Drop the Patient id column (2 marks)<br>\n",
    " (ii) Plot an appropriate diagram to visualise the Age distribution over different blood_group type.Comment on your        observation.(3 Marks)<br>\n",
    " (iii)Display the unique values in addiction column, How many different addiction types are mentioned in dataset (3 Marks)<br>\n",
    " (iv) Display a cross table with Diabetes type and survived status. (2 marks)<br>\n",
    " (v)  Calculate average Hemoglobin level for male and female separately. Count the number of male and female with Hemoglobin less than 10 (5 Marks)<br>"
   ]
  },
  {
   "cell_type": "markdown",
   "metadata": {
    "id": "k1soii0ekIb9"
   },
   "source": [
    "###     6.   \n",
    " (i)  Drop the Patient id column (2 marks)<br>\n"
   ]
  },
  {
   "cell_type": "code",
   "execution_count": 5,
   "metadata": {},
   "outputs": [
    {
     "ename": "FileNotFoundError",
     "evalue": "[Errno 2] No such file or directory: 'data_set.csv'",
     "output_type": "error",
     "traceback": [
      "\u001b[1;31m---------------------------------------------------------------------------\u001b[0m",
      "\u001b[1;31mFileNotFoundError\u001b[0m                         Traceback (most recent call last)",
      "Cell \u001b[1;32mIn[5], line 1\u001b[0m\n\u001b[1;32m----> 1\u001b[0m dataset1 \u001b[38;5;241m=\u001b[39m pd\u001b[38;5;241m.\u001b[39mread_csv(\u001b[38;5;124m'\u001b[39m\u001b[38;5;124mdata_set.csv\u001b[39m\u001b[38;5;124m'\u001b[39m)\n",
      "File \u001b[1;32mC:\\Python\\anaconda3\\Lib\\site-packages\\pandas\\io\\parsers\\readers.py:912\u001b[0m, in \u001b[0;36mread_csv\u001b[1;34m(filepath_or_buffer, sep, delimiter, header, names, index_col, usecols, dtype, engine, converters, true_values, false_values, skipinitialspace, skiprows, skipfooter, nrows, na_values, keep_default_na, na_filter, verbose, skip_blank_lines, parse_dates, infer_datetime_format, keep_date_col, date_parser, date_format, dayfirst, cache_dates, iterator, chunksize, compression, thousands, decimal, lineterminator, quotechar, quoting, doublequote, escapechar, comment, encoding, encoding_errors, dialect, on_bad_lines, delim_whitespace, low_memory, memory_map, float_precision, storage_options, dtype_backend)\u001b[0m\n\u001b[0;32m    899\u001b[0m kwds_defaults \u001b[38;5;241m=\u001b[39m _refine_defaults_read(\n\u001b[0;32m    900\u001b[0m     dialect,\n\u001b[0;32m    901\u001b[0m     delimiter,\n\u001b[1;32m   (...)\u001b[0m\n\u001b[0;32m    908\u001b[0m     dtype_backend\u001b[38;5;241m=\u001b[39mdtype_backend,\n\u001b[0;32m    909\u001b[0m )\n\u001b[0;32m    910\u001b[0m kwds\u001b[38;5;241m.\u001b[39mupdate(kwds_defaults)\n\u001b[1;32m--> 912\u001b[0m \u001b[38;5;28;01mreturn\u001b[39;00m _read(filepath_or_buffer, kwds)\n",
      "File \u001b[1;32mC:\\Python\\anaconda3\\Lib\\site-packages\\pandas\\io\\parsers\\readers.py:577\u001b[0m, in \u001b[0;36m_read\u001b[1;34m(filepath_or_buffer, kwds)\u001b[0m\n\u001b[0;32m    574\u001b[0m _validate_names(kwds\u001b[38;5;241m.\u001b[39mget(\u001b[38;5;124m\"\u001b[39m\u001b[38;5;124mnames\u001b[39m\u001b[38;5;124m\"\u001b[39m, \u001b[38;5;28;01mNone\u001b[39;00m))\n\u001b[0;32m    576\u001b[0m \u001b[38;5;66;03m# Create the parser.\u001b[39;00m\n\u001b[1;32m--> 577\u001b[0m parser \u001b[38;5;241m=\u001b[39m TextFileReader(filepath_or_buffer, \u001b[38;5;241m*\u001b[39m\u001b[38;5;241m*\u001b[39mkwds)\n\u001b[0;32m    579\u001b[0m \u001b[38;5;28;01mif\u001b[39;00m chunksize \u001b[38;5;129;01mor\u001b[39;00m iterator:\n\u001b[0;32m    580\u001b[0m     \u001b[38;5;28;01mreturn\u001b[39;00m parser\n",
      "File \u001b[1;32mC:\\Python\\anaconda3\\Lib\\site-packages\\pandas\\io\\parsers\\readers.py:1407\u001b[0m, in \u001b[0;36mTextFileReader.__init__\u001b[1;34m(self, f, engine, **kwds)\u001b[0m\n\u001b[0;32m   1404\u001b[0m     \u001b[38;5;28mself\u001b[39m\u001b[38;5;241m.\u001b[39moptions[\u001b[38;5;124m\"\u001b[39m\u001b[38;5;124mhas_index_names\u001b[39m\u001b[38;5;124m\"\u001b[39m] \u001b[38;5;241m=\u001b[39m kwds[\u001b[38;5;124m\"\u001b[39m\u001b[38;5;124mhas_index_names\u001b[39m\u001b[38;5;124m\"\u001b[39m]\n\u001b[0;32m   1406\u001b[0m \u001b[38;5;28mself\u001b[39m\u001b[38;5;241m.\u001b[39mhandles: IOHandles \u001b[38;5;241m|\u001b[39m \u001b[38;5;28;01mNone\u001b[39;00m \u001b[38;5;241m=\u001b[39m \u001b[38;5;28;01mNone\u001b[39;00m\n\u001b[1;32m-> 1407\u001b[0m \u001b[38;5;28mself\u001b[39m\u001b[38;5;241m.\u001b[39m_engine \u001b[38;5;241m=\u001b[39m \u001b[38;5;28mself\u001b[39m\u001b[38;5;241m.\u001b[39m_make_engine(f, \u001b[38;5;28mself\u001b[39m\u001b[38;5;241m.\u001b[39mengine)\n",
      "File \u001b[1;32mC:\\Python\\anaconda3\\Lib\\site-packages\\pandas\\io\\parsers\\readers.py:1661\u001b[0m, in \u001b[0;36mTextFileReader._make_engine\u001b[1;34m(self, f, engine)\u001b[0m\n\u001b[0;32m   1659\u001b[0m     \u001b[38;5;28;01mif\u001b[39;00m \u001b[38;5;124m\"\u001b[39m\u001b[38;5;124mb\u001b[39m\u001b[38;5;124m\"\u001b[39m \u001b[38;5;129;01mnot\u001b[39;00m \u001b[38;5;129;01min\u001b[39;00m mode:\n\u001b[0;32m   1660\u001b[0m         mode \u001b[38;5;241m+\u001b[39m\u001b[38;5;241m=\u001b[39m \u001b[38;5;124m\"\u001b[39m\u001b[38;5;124mb\u001b[39m\u001b[38;5;124m\"\u001b[39m\n\u001b[1;32m-> 1661\u001b[0m \u001b[38;5;28mself\u001b[39m\u001b[38;5;241m.\u001b[39mhandles \u001b[38;5;241m=\u001b[39m get_handle(\n\u001b[0;32m   1662\u001b[0m     f,\n\u001b[0;32m   1663\u001b[0m     mode,\n\u001b[0;32m   1664\u001b[0m     encoding\u001b[38;5;241m=\u001b[39m\u001b[38;5;28mself\u001b[39m\u001b[38;5;241m.\u001b[39moptions\u001b[38;5;241m.\u001b[39mget(\u001b[38;5;124m\"\u001b[39m\u001b[38;5;124mencoding\u001b[39m\u001b[38;5;124m\"\u001b[39m, \u001b[38;5;28;01mNone\u001b[39;00m),\n\u001b[0;32m   1665\u001b[0m     compression\u001b[38;5;241m=\u001b[39m\u001b[38;5;28mself\u001b[39m\u001b[38;5;241m.\u001b[39moptions\u001b[38;5;241m.\u001b[39mget(\u001b[38;5;124m\"\u001b[39m\u001b[38;5;124mcompression\u001b[39m\u001b[38;5;124m\"\u001b[39m, \u001b[38;5;28;01mNone\u001b[39;00m),\n\u001b[0;32m   1666\u001b[0m     memory_map\u001b[38;5;241m=\u001b[39m\u001b[38;5;28mself\u001b[39m\u001b[38;5;241m.\u001b[39moptions\u001b[38;5;241m.\u001b[39mget(\u001b[38;5;124m\"\u001b[39m\u001b[38;5;124mmemory_map\u001b[39m\u001b[38;5;124m\"\u001b[39m, \u001b[38;5;28;01mFalse\u001b[39;00m),\n\u001b[0;32m   1667\u001b[0m     is_text\u001b[38;5;241m=\u001b[39mis_text,\n\u001b[0;32m   1668\u001b[0m     errors\u001b[38;5;241m=\u001b[39m\u001b[38;5;28mself\u001b[39m\u001b[38;5;241m.\u001b[39moptions\u001b[38;5;241m.\u001b[39mget(\u001b[38;5;124m\"\u001b[39m\u001b[38;5;124mencoding_errors\u001b[39m\u001b[38;5;124m\"\u001b[39m, \u001b[38;5;124m\"\u001b[39m\u001b[38;5;124mstrict\u001b[39m\u001b[38;5;124m\"\u001b[39m),\n\u001b[0;32m   1669\u001b[0m     storage_options\u001b[38;5;241m=\u001b[39m\u001b[38;5;28mself\u001b[39m\u001b[38;5;241m.\u001b[39moptions\u001b[38;5;241m.\u001b[39mget(\u001b[38;5;124m\"\u001b[39m\u001b[38;5;124mstorage_options\u001b[39m\u001b[38;5;124m\"\u001b[39m, \u001b[38;5;28;01mNone\u001b[39;00m),\n\u001b[0;32m   1670\u001b[0m )\n\u001b[0;32m   1671\u001b[0m \u001b[38;5;28;01massert\u001b[39;00m \u001b[38;5;28mself\u001b[39m\u001b[38;5;241m.\u001b[39mhandles \u001b[38;5;129;01mis\u001b[39;00m \u001b[38;5;129;01mnot\u001b[39;00m \u001b[38;5;28;01mNone\u001b[39;00m\n\u001b[0;32m   1672\u001b[0m f \u001b[38;5;241m=\u001b[39m \u001b[38;5;28mself\u001b[39m\u001b[38;5;241m.\u001b[39mhandles\u001b[38;5;241m.\u001b[39mhandle\n",
      "File \u001b[1;32mC:\\Python\\anaconda3\\Lib\\site-packages\\pandas\\io\\common.py:859\u001b[0m, in \u001b[0;36mget_handle\u001b[1;34m(path_or_buf, mode, encoding, compression, memory_map, is_text, errors, storage_options)\u001b[0m\n\u001b[0;32m    854\u001b[0m \u001b[38;5;28;01melif\u001b[39;00m \u001b[38;5;28misinstance\u001b[39m(handle, \u001b[38;5;28mstr\u001b[39m):\n\u001b[0;32m    855\u001b[0m     \u001b[38;5;66;03m# Check whether the filename is to be opened in binary mode.\u001b[39;00m\n\u001b[0;32m    856\u001b[0m     \u001b[38;5;66;03m# Binary mode does not support 'encoding' and 'newline'.\u001b[39;00m\n\u001b[0;32m    857\u001b[0m     \u001b[38;5;28;01mif\u001b[39;00m ioargs\u001b[38;5;241m.\u001b[39mencoding \u001b[38;5;129;01mand\u001b[39;00m \u001b[38;5;124m\"\u001b[39m\u001b[38;5;124mb\u001b[39m\u001b[38;5;124m\"\u001b[39m \u001b[38;5;129;01mnot\u001b[39;00m \u001b[38;5;129;01min\u001b[39;00m ioargs\u001b[38;5;241m.\u001b[39mmode:\n\u001b[0;32m    858\u001b[0m         \u001b[38;5;66;03m# Encoding\u001b[39;00m\n\u001b[1;32m--> 859\u001b[0m         handle \u001b[38;5;241m=\u001b[39m \u001b[38;5;28mopen\u001b[39m(\n\u001b[0;32m    860\u001b[0m             handle,\n\u001b[0;32m    861\u001b[0m             ioargs\u001b[38;5;241m.\u001b[39mmode,\n\u001b[0;32m    862\u001b[0m             encoding\u001b[38;5;241m=\u001b[39mioargs\u001b[38;5;241m.\u001b[39mencoding,\n\u001b[0;32m    863\u001b[0m             errors\u001b[38;5;241m=\u001b[39merrors,\n\u001b[0;32m    864\u001b[0m             newline\u001b[38;5;241m=\u001b[39m\u001b[38;5;124m\"\u001b[39m\u001b[38;5;124m\"\u001b[39m,\n\u001b[0;32m    865\u001b[0m         )\n\u001b[0;32m    866\u001b[0m     \u001b[38;5;28;01melse\u001b[39;00m:\n\u001b[0;32m    867\u001b[0m         \u001b[38;5;66;03m# Binary mode\u001b[39;00m\n\u001b[0;32m    868\u001b[0m         handle \u001b[38;5;241m=\u001b[39m \u001b[38;5;28mopen\u001b[39m(handle, ioargs\u001b[38;5;241m.\u001b[39mmode)\n",
      "\u001b[1;31mFileNotFoundError\u001b[0m: [Errno 2] No such file or directory: 'data_set.csv'"
     ]
    }
   ],
   "source": [
    "dataset1 = pd.read_csv('data_set.csv')"
   ]
  },
  {
   "cell_type": "code",
   "execution_count": null,
   "metadata": {},
   "outputs": [],
   "source": [
    "dataset1.drop(columns='pid')"
   ]
  },
  {
   "cell_type": "markdown",
   "metadata": {
    "id": "7lf8ZeXakIb-"
   },
   "source": [
    "###     6.  \n",
    " (ii) Plot an appropriate diagram to visualise the Age distribution over different blood_group type.Comment on your        observation.(3 Marks)<br>"
   ]
  },
  {
   "cell_type": "code",
   "execution_count": 113,
   "metadata": {
    "id": "vZE-qSz73N1A",
    "outputId": "8ba23838-2d72-4446-b79d-8eaf2f5affdd",
    "scrolled": true
   },
   "outputs": [
    {
     "data": {
      "text/plain": [
       "<matplotlib.axes._subplots.AxesSubplot at 0x7f30c4c7ec50>"
      ]
     },
     "execution_count": 113,
     "metadata": {},
     "output_type": "execute_result"
    },
    {
     "data": {
      "image/png": "[encoded data removed]",
      "text/plain": [
       "<Figure size 432x288 with 1 Axes>"
      ]
     },
     "metadata": {
      "needs_background": "light"
     },
     "output_type": "display_data"
    }
   ],
   "source": [
    "#dataset1.boxplot(column=['Age'])\n",
    "sns.barplot(data=dataset1,x='blood_grp',y='Age')"
   ]
  },
  {
   "cell_type": "code",
   "execution_count": null,
   "metadata": {},
   "outputs": [],
   "source": []
  },
  {
   "cell_type": "markdown",
   "metadata": {
    "id": "IxOqXmRCkIb-"
   },
   "source": [
    "###     6.   \n",
    " (iii)Display the unique values in addiction column, How many different addiction types are mentioned in dataset (3 Marks)<br>\n"
   ]
  },
  {
   "cell_type": "code",
   "execution_count": 34,
   "metadata": {
    "id": "XZT9QHHbI9fF"
   },
   "outputs": [
    {
     "name": "stdout",
     "output_type": "stream",
     "text": [
      "Number of Unique Addictions :  6\n"
     ]
    }
   ],
   "source": [
    "print(\"Number of Unique Addictions : \", dataset1['Addiction'].value_counts().count())"
   ]
  },
  {
   "cell_type": "code",
   "execution_count": null,
   "metadata": {},
   "outputs": [],
   "source": []
  },
  {
   "cell_type": "markdown",
   "metadata": {},
   "source": [
    "###     6.   \n",
    " (iv) Display a cross table with Diabetes type and survived status. (2 marks)<br>"
   ]
  },
  {
   "cell_type": "code",
   "execution_count": 120,
   "metadata": {},
   "outputs": [
    {
     "data": {
      "text/plain": [
       "<seaborn.axisgrid.FacetGrid at 0x7f30c4b6ba58>"
      ]
     },
     "execution_count": 120,
     "metadata": {},
     "output_type": "execute_result"
    },
    {
     "data": {
      "image/png": "[encoded data removed]",
      "text/plain": [
       "<Figure size 1440x720 with 1 Axes>"
      ]
     },
     "metadata": {
      "needs_background": "light"
     },
     "output_type": "display_data"
    }
   ],
   "source": [
    "#sns.swarmplot(data=dataset1,x='Survive_status',y='Diabetestype')\n",
    "sns.catplot(data=dataset1,x='Survive_status',y='Diabetestype', height=10, aspect=2)\n"
   ]
  },
  {
   "cell_type": "code",
   "execution_count": null,
   "metadata": {},
   "outputs": [],
   "source": []
  },
  {
   "cell_type": "markdown",
   "metadata": {
    "id": "SBYTh90rkIb_"
   },
   "source": [
    "###     6.   \n",
    " (v)  Calculate average Hemoglobin level for male and female separately. Count the number of male and female with Hemoglobin less than 10 (5 Marks)<br>    "
   ]
  },
  {
   "cell_type": "code",
   "execution_count": 50,
   "metadata": {},
   "outputs": [
    {
     "name": "stdout",
     "output_type": "stream",
     "text": [
      "Average Hemoglobin level for Male :  9.601694915254237\n",
      "Average Hemoglobin level for Feale :  9.653846153846153\n"
     ]
    }
   ],
   "source": [
    "print(\"Average Hemoglobin level for Male : \",dataset1[ dataset1['Sex'] == 'Male']['Hemoglobin'].mean())\n",
    "print(\"Average Hemoglobin level for Feale : \",dataset1[ dataset1['Sex'] == 'Female']['Hemoglobin'].mean())"
   ]
  },
  {
   "cell_type": "code",
   "execution_count": 76,
   "metadata": {},
   "outputs": [
    {
     "name": "stdout",
     "output_type": "stream",
     "text": [
      "Male patients with Hemoglobin < 10 :  52\n",
      "Female patients with Hemoglobin < 10 :  27\n"
     ]
    }
   ],
   "source": [
    "dataset2 = dataset1[ dataset1['Hemoglobin'] < 10 ]\n",
    "print('Male patients with Hemoglobin < 10 : ',dataset2[dataset2['Sex'] == 'Male' ]['pid'].count())\n",
    "print('Female patients with Hemoglobin < 10 : ',dataset2[dataset2['Sex'] == 'Female' ]['pid'].count())"
   ]
  },
  {
   "cell_type": "code",
   "execution_count": null,
   "metadata": {},
   "outputs": [],
   "source": []
  }
 ],
 "metadata": {
  "colab": {
   "collapsed_sections": [],
   "name": "Solutions_Python for Data Science - Assessment 1_FT Feb 20 (1).ipynb",
   "provenance": []
  },
  "kernelspec": {
   "display_name": "Python 3 (ipykernel)",
   "language": "python",
   "name": "python3"
  },
  "language_info": {
   "codemirror_mode": {
    "name": "ipython",
    "version": 3
   },
   "file_extension": ".py",
   "mimetype": "text/x-python",
   "name": "python",
   "nbconvert_exporter": "python",
   "pygments_lexer": "ipython3",
   "version": "3.11.5"
  }
 },
 "nbformat": 4,
 "nbformat_minor": 1
}
