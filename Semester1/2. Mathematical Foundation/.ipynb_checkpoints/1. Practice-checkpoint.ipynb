{
 "cells": [
  {
   "cell_type": "code",
   "execution_count": 1,
   "id": "271bbf6c",
   "metadata": {},
   "outputs": [],
   "source": [
    "from scipy import stats"
   ]
  },
  {
   "cell_type": "markdown",
   "id": "cf35c4a1",
   "metadata": {},
   "source": [
    "# Linear Regrassion Model"
   ]
  },
  {
   "cell_type": "code",
   "execution_count": 2,
   "id": "f6e99835",
   "metadata": {},
   "outputs": [],
   "source": [
    "years = [0,5,10,15, 20, 25, 30, 35]"
   ]
  },
  {
   "cell_type": "code",
   "execution_count": 3,
   "id": "5dee21ac",
   "metadata": {},
   "outputs": [],
   "source": [
    "salary = [8.4, 9.1, 10.8, 12.3, 15.6, 18.2, 24.7, 25.4]"
   ]
  },
  {
   "cell_type": "code",
   "execution_count": 5,
   "id": "30d103ca",
   "metadata": {},
   "outputs": [
    {
     "data": {
      "text/plain": [
       "LinregressResult(slope=0.5297619047619048, intercept=6.291666666666666, rvalue=0.9693360501716467, pvalue=7.043401672175042e-05, stderr=0.05482828964528311, intercept_stderr=1.1468159567360137)"
      ]
     },
     "execution_count": 5,
     "metadata": {},
     "output_type": "execute_result"
    }
   ],
   "source": [
    "stats.linregress(years, salary)"
   ]
  },
  {
   "cell_type": "code",
   "execution_count": 6,
   "id": "bc719121",
   "metadata": {},
   "outputs": [
    {
     "ename": "ValueError",
     "evalue": "not enough values to unpack (expected 6, got 5)",
     "output_type": "error",
     "traceback": [
      "\u001b[1;31m---------------------------------------------------------------------------\u001b[0m",
      "\u001b[1;31mValueError\u001b[0m                                Traceback (most recent call last)",
      "Cell \u001b[1;32mIn[6], line 1\u001b[0m\n\u001b[1;32m----> 1\u001b[0m slope, intercept, r_value, p_value, std_error, intercept \u001b[38;5;241m=\u001b[39m stats\u001b[38;5;241m.\u001b[39mlinregress(years, salary)\n",
      "\u001b[1;31mValueError\u001b[0m: not enough values to unpack (expected 6, got 5)"
     ]
    }
   ],
   "source": [
    "slope, intercept, r_value, p_value, std_error, intercept = stats.linregress(years, salary)"
   ]
  },
  {
   "cell_type": "code",
   "execution_count": 7,
   "id": "03f4123c",
   "metadata": {},
   "outputs": [],
   "source": [
    "slope, intercept, r_value, p_value, std_error= stats.linregress(years, salary)"
   ]
  },
  {
   "cell_type": "code",
   "execution_count": 8,
   "id": "7b843fe5",
   "metadata": {},
   "outputs": [
    {
     "name": "stdout",
     "output_type": "stream",
     "text": [
      "0.5297619047619048\n",
      "6.291666666666666\n",
      "0.9693360501716467\n",
      "7.043401672175042e-05\n",
      "0.05482828964528311\n"
     ]
    }
   ],
   "source": [
    "print(slope)\n",
    "print(intercept)\n",
    "print(r_value)\n",
    "print(p_value)\n",
    "print(std_error)"
   ]
  },
  {
   "cell_type": "code",
   "execution_count": 10,
   "id": "1903aed5",
   "metadata": {},
   "outputs": [],
   "source": [
    "year = 45"
   ]
  },
  {
   "cell_type": "code",
   "execution_count": 11,
   "id": "22070b5b",
   "metadata": {},
   "outputs": [
    {
     "data": {
      "text/plain": [
       "30.13095238095238"
      ]
     },
     "execution_count": 11,
     "metadata": {},
     "output_type": "execute_result"
    }
   ],
   "source": [
    "slope*year + intercept"
   ]
  },
  {
   "cell_type": "code",
   "execution_count": null,
   "id": "679760ac",
   "metadata": {},
   "outputs": [],
   "source": []
  }
 ],
 "metadata": {
  "kernelspec": {
   "display_name": "Python 3 (ipykernel)",
   "language": "python",
   "name": "python3"
  },
  "language_info": {
   "codemirror_mode": {
    "name": "ipython",
    "version": 3
   },
   "file_extension": ".py",
   "mimetype": "text/x-python",
   "name": "python",
   "nbconvert_exporter": "python",
   "pygments_lexer": "ipython3",
   "version": "3.11.5"
  }
 },
 "nbformat": 4,
 "nbformat_minor": 5
}
