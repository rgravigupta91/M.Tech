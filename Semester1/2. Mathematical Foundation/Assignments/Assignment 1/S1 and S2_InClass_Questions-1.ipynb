{
 "cells": [
  {
   "cell_type": "code",
   "execution_count": 83,
   "metadata": {},
   "outputs": [
    {
     "name": "stdout",
     "output_type": "stream",
     "text": [
      "Collecting session-info\n",
      "  Using cached session_info-1.0.0.tar.gz (24 kB)\n",
      "  Preparing metadata (setup.py): started\n",
      "  Preparing metadata (setup.py): finished with status 'done'\n",
      "Collecting stdlib_list (from session-info)\n",
      "  Using cached stdlib_list-0.10.0-py3-none-any.whl.metadata (3.3 kB)\n",
      "Downloading stdlib_list-0.10.0-py3-none-any.whl (79 kB)\n",
      "   ---------------------------------------- 0.0/79.8 kB ? eta -:--:--\n",
      "   ----- ---------------------------------- 10.2/79.8 kB ? eta -:--:--\n",
      "   ----- ---------------------------------- 10.2/79.8 kB ? eta -:--:--\n",
      "   ----- ---------------------------------- 10.2/79.8 kB ? eta -:--:--\n",
      "   ----- ---------------------------------- 10.2/79.8 kB ? eta -:--:--\n",
      "   ----- ---------------------------------- 10.2/79.8 kB ? eta -:--:--\n",
      "   ----- ---------------------------------- 10.2/79.8 kB ? eta -:--:--\n",
      "   ----- ---------------------------------- 10.2/79.8 kB ? eta -:--:--\n",
      "   ----- ---------------------------------- 10.2/79.8 kB ? eta -:--:--\n",
      "   ----- ---------------------------------- 10.2/79.8 kB ? eta -:--:--\n",
      "   ----- ---------------------------------- 10.2/79.8 kB ? eta -:--:--\n",
      "   -------------------- ------------------- 41.0/79.8 kB 59.5 kB/s eta 0:00:01\n",
      "   -------------------- ------------------- 41.0/79.8 kB 59.5 kB/s eta 0:00:01\n",
      "   -------------------- ------------------- 41.0/79.8 kB 59.5 kB/s eta 0:00:01\n",
      "   -------------------- ------------------- 41.0/79.8 kB 59.5 kB/s eta 0:00:01\n",
      "   -------------------- ------------------- 41.0/79.8 kB 59.5 kB/s eta 0:00:01\n",
      "   -------------------- ------------------- 41.0/79.8 kB 59.5 kB/s eta 0:00:01\n",
      "   -------------------- ------------------- 41.0/79.8 kB 59.5 kB/s eta 0:00:01\n",
      "   -------------------- ------------------- 41.0/79.8 kB 59.5 kB/s eta 0:00:01\n",
      "   -------------------- ------------------- 41.0/79.8 kB 59.5 kB/s eta 0:00:01\n",
      "   -------------------- ------------------- 41.0/79.8 kB 59.5 kB/s eta 0:00:01\n",
      "   -------------------- ------------------- 41.0/79.8 kB 59.5 kB/s eta 0:00:01\n",
      "   -------------------- ------------------- 41.0/79.8 kB 59.5 kB/s eta 0:00:01\n",
      "   -------------------- ------------------- 41.0/79.8 kB 59.5 kB/s eta 0:00:01\n",
      "   -------------------- ------------------- 41.0/79.8 kB 59.5 kB/s eta 0:00:01\n",
      "   -------------------- ------------------- 41.0/79.8 kB 59.5 kB/s eta 0:00:01\n",
      "   -------------------- ------------------- 41.0/79.8 kB 59.5 kB/s eta 0:00:01\n",
      "   -------------------- ------------------- 41.0/79.8 kB 59.5 kB/s eta 0:00:01\n",
      "   -------------------- ------------------- 41.0/79.8 kB 59.5 kB/s eta 0:00:01\n",
      "   -------------------- ------------------- 41.0/79.8 kB 59.5 kB/s eta 0:00:01\n",
      "   -------------------- ------------------- 41.0/79.8 kB 59.5 kB/s eta 0:00:01\n",
      "   -------------------- ------------------- 41.0/79.8 kB 59.5 kB/s eta 0:00:01\n",
      "   -------------------- ------------------- 41.0/79.8 kB 59.5 kB/s eta 0:00:01\n",
      "   -------------------- ------------------- 41.0/79.8 kB 59.5 kB/s eta 0:00:01\n",
      "   -------------------- ------------------- 41.0/79.8 kB 59.5 kB/s eta 0:00:01\n",
      "   -------------------- ------------------- 41.0/79.8 kB 59.5 kB/s eta 0:00:01\n",
      "   -------------------- ------------------- 41.0/79.8 kB 59.5 kB/s eta 0:00:01\n",
      "   -------------------- ------------------- 41.0/79.8 kB 59.5 kB/s eta 0:00:01\n",
      "   -------------------- ------------------- 41.0/79.8 kB 59.5 kB/s eta 0:00:01\n",
      "   -------------------- ------------------- 41.0/79.8 kB 59.5 kB/s eta 0:00:01\n",
      "   -------------------- ------------------- 41.0/79.8 kB 59.5 kB/s eta 0:00:01\n",
      "   -------------------- ------------------- 41.0/79.8 kB 59.5 kB/s eta 0:00:01\n",
      "   -------------------- ------------------- 41.0/79.8 kB 59.5 kB/s eta 0:00:01\n",
      "   -------------------- ------------------- 41.0/79.8 kB 59.5 kB/s eta 0:00:01\n",
      "   -------------------- ------------------- 41.0/79.8 kB 59.5 kB/s eta 0:00:01\n",
      "   -------------------- ------------------- 41.0/79.8 kB 59.5 kB/s eta 0:00:01\n",
      "   -------------------- ------------------- 41.0/79.8 kB 59.5 kB/s eta 0:00:01\n",
      "   -------------------- ------------------- 41.0/79.8 kB 59.5 kB/s eta 0:00:01\n",
      "   ------------------------------ --------- 61.4/79.8 kB 21.4 kB/s eta 0:00:01\n",
      "   ------------------------------ --------- 61.4/79.8 kB 21.4 kB/s eta 0:00:01\n",
      "   ------------------------------ --------- 61.4/79.8 kB 21.4 kB/s eta 0:00:01\n",
      "   ------------------------------ --------- 61.4/79.8 kB 21.4 kB/s eta 0:00:01\n",
      "   ------------------------------ --------- 61.4/79.8 kB 21.4 kB/s eta 0:00:01\n",
      "   ------------------------------ --------- 61.4/79.8 kB 21.4 kB/s eta 0:00:01\n",
      "   ------------------------------ --------- 61.4/79.8 kB 21.4 kB/s eta 0:00:01\n",
      "   ------------------------------ --------- 61.4/79.8 kB 21.4 kB/s eta 0:00:01\n",
      "   ------------------------------ --------- 61.4/79.8 kB 21.4 kB/s eta 0:00:01\n",
      "   ------------------------------ --------- 61.4/79.8 kB 21.4 kB/s eta 0:00:01\n",
      "   ------------------------------ --------- 61.4/79.8 kB 21.4 kB/s eta 0:00:01\n",
      "   ------------------------------ --------- 61.4/79.8 kB 21.4 kB/s eta 0:00:01\n",
      "   ------------------------------ --------- 61.4/79.8 kB 21.4 kB/s eta 0:00:01\n",
      "   ------------------------------ --------- 61.4/79.8 kB 21.4 kB/s eta 0:00:01\n",
      "   ------------------------------ --------- 61.4/79.8 kB 21.4 kB/s eta 0:00:01\n",
      "   ------------------------------ --------- 61.4/79.8 kB 21.4 kB/s eta 0:00:01\n",
      "   ------------------------------ --------- 61.4/79.8 kB 21.4 kB/s eta 0:00:01\n",
      "   ------------------------------ --------- 61.4/79.8 kB 21.4 kB/s eta 0:00:01\n",
      "   ------------------------------ --------- 61.4/79.8 kB 21.4 kB/s eta 0:00:01\n",
      "   ------------------------------ --------- 61.4/79.8 kB 21.4 kB/s eta 0:00:01\n",
      "   ------------------------------ --------- 61.4/79.8 kB 21.4 kB/s eta 0:00:01\n",
      "   ------------------------------ --------- 61.4/79.8 kB 21.4 kB/s eta 0:00:01\n",
      "   ------------------------------ --------- 61.4/79.8 kB 21.4 kB/s eta 0:00:01\n",
      "   ------------------------------ --------- 61.4/79.8 kB 21.4 kB/s eta 0:00:01\n",
      "   ------------------------------ --------- 61.4/79.8 kB 21.4 kB/s eta 0:00:01\n",
      "   ------------------------------ --------- 61.4/79.8 kB 21.4 kB/s eta 0:00:01\n",
      "   ------------------------------ --------- 61.4/79.8 kB 21.4 kB/s eta 0:00:01\n",
      "   ------------------------------ --------- 61.4/79.8 kB 21.4 kB/s eta 0:00:01\n",
      "   ------------------------------ --------- 61.4/79.8 kB 21.4 kB/s eta 0:00:01\n",
      "   ------------------------------ --------- 61.4/79.8 kB 21.4 kB/s eta 0:00:01\n",
      "   ------------------------------ --------- 61.4/79.8 kB 21.4 kB/s eta 0:00:01\n",
      "   ------------------------------ --------- 61.4/79.8 kB 21.4 kB/s eta 0:00:01\n",
      "   ------------------------------ --------- 61.4/79.8 kB 21.4 kB/s eta 0:00:01\n",
      "   ------------------------------ --------- 61.4/79.8 kB 21.4 kB/s eta 0:00:01\n",
      "   ------------------------------ --------- 61.4/79.8 kB 21.4 kB/s eta 0:00:01\n",
      "   ------------------------------ --------- 61.4/79.8 kB 21.4 kB/s eta 0:00:01\n",
      "   ------------------------------ --------- 61.4/79.8 kB 21.4 kB/s eta 0:00:01\n",
      "   ------------------------------ --------- 61.4/79.8 kB 21.4 kB/s eta 0:00:01\n",
      "   ------------------------------ --------- 61.4/79.8 kB 21.4 kB/s eta 0:00:01\n",
      "   ------------------------------ --------- 61.4/79.8 kB 21.4 kB/s eta 0:00:01\n",
      "   ------------------------------ --------- 61.4/79.8 kB 21.4 kB/s eta 0:00:01\n",
      "   ------------------------------ --------- 61.4/79.8 kB 21.4 kB/s eta 0:00:01\n",
      "   ------------------------------ --------- 61.4/79.8 kB 21.4 kB/s eta 0:00:01\n",
      "   ------------------------------ --------- 61.4/79.8 kB 21.4 kB/s eta 0:00:01\n",
      "   ------------------------------ --------- 61.4/79.8 kB 21.4 kB/s eta 0:00:01\n",
      "   ------------------------------ --------- 61.4/79.8 kB 21.4 kB/s eta 0:00:01\n",
      "   ------------------------------ --------- 61.4/79.8 kB 21.4 kB/s eta 0:00:01\n",
      "   ------------------------------ --------- 61.4/79.8 kB 21.4 kB/s eta 0:00:01\n",
      "   ------------------------------ --------- 61.4/79.8 kB 21.4 kB/s eta 0:00:01\n",
      "   ------------------------------ --------- 61.4/79.8 kB 21.4 kB/s eta 0:00:01\n",
      "   ------------------------------ --------- 61.4/79.8 kB 21.4 kB/s eta 0:00:01\n",
      "   ------------------------------ --------- 61.4/79.8 kB 21.4 kB/s eta 0:00:01\n",
      "   ------------------------------ --------- 61.4/79.8 kB 21.4 kB/s eta 0:00:01\n",
      "   ------------------------------ --------- 61.4/79.8 kB 21.4 kB/s eta 0:00:01\n",
      "   ------------------------------ --------- 61.4/79.8 kB 21.4 kB/s eta 0:00:01\n",
      "   ------------------------------ --------- 61.4/79.8 kB 21.4 kB/s eta 0:00:01\n",
      "   ------------------------------ --------- 61.4/79.8 kB 21.4 kB/s eta 0:00:01\n",
      "   ------------------------------ --------- 61.4/79.8 kB 21.4 kB/s eta 0:00:01\n",
      "   ------------------------------ --------- 61.4/79.8 kB 21.4 kB/s eta 0:00:01\n",
      "   ------------------------------ --------- 61.4/79.8 kB 21.4 kB/s eta 0:00:01\n",
      "   ------------------------------ --------- 61.4/79.8 kB 21.4 kB/s eta 0:00:01\n",
      "   ------------------------------ --------- 61.4/79.8 kB 21.4 kB/s eta 0:00:01\n",
      "   ------------------------------ --------- 61.4/79.8 kB 21.4 kB/s eta 0:00:01\n",
      "   ------------------------------ --------- 61.4/79.8 kB 21.4 kB/s eta 0:00:01\n",
      "   ------------------------------ --------- 61.4/79.8 kB 21.4 kB/s eta 0:00:01\n",
      "   ------------------------------ --------- 61.4/79.8 kB 21.4 kB/s eta 0:00:01\n",
      "   ------------------------------ --------- 61.4/79.8 kB 21.4 kB/s eta 0:00:01\n",
      "   ------------------------------ --------- 61.4/79.8 kB 21.4 kB/s eta 0:00:01\n",
      "   ------------------------------ --------- 61.4/79.8 kB 21.4 kB/s eta 0:00:01\n",
      "   ------------------------------ --------- 61.4/79.8 kB 21.4 kB/s eta 0:00:01\n",
      "   ------------------------------ --------- 61.4/79.8 kB 21.4 kB/s eta 0:00:01\n",
      "   ------------------------------ --------- 61.4/79.8 kB 21.4 kB/s eta 0:00:01\n",
      "   ------------------------------ --------- 61.4/79.8 kB 21.4 kB/s eta 0:00:01\n",
      "   ------------------------------ --------- 61.4/79.8 kB 21.4 kB/s eta 0:00:01\n",
      "   ------------------------------ --------- 61.4/79.8 kB 21.4 kB/s eta 0:00:01\n",
      "   ------------------------------ --------- 61.4/79.8 kB 21.4 kB/s eta 0:00:01\n",
      "   ------------------------------ --------- 61.4/79.8 kB 21.4 kB/s eta 0:00:01\n",
      "   ------------------------------ --------- 61.4/79.8 kB 21.4 kB/s eta 0:00:01\n",
      "   ------------------------------ --------- 61.4/79.8 kB 21.4 kB/s eta 0:00:01\n",
      "   ------------------------------ --------- 61.4/79.8 kB 21.4 kB/s eta 0:00:01\n",
      "   ------------------------------ --------- 61.4/79.8 kB 21.4 kB/s eta 0:00:01\n",
      "   ------------------------------ --------- 61.4/79.8 kB 21.4 kB/s eta 0:00:01\n",
      "   ------------------------------ --------- 61.4/79.8 kB 21.4 kB/s eta 0:00:01\n",
      "   ------------------------------ --------- 61.4/79.8 kB 21.4 kB/s eta 0:00:01\n",
      "   ------------------------------ --------- 61.4/79.8 kB 21.4 kB/s eta 0:00:01\n",
      "   ------------------------------ --------- 61.4/79.8 kB 21.4 kB/s eta 0:00:01\n",
      "   ------------------------------ --------- 61.4/79.8 kB 21.4 kB/s eta 0:00:01\n",
      "   ------------------------------ --------- 61.4/79.8 kB 21.4 kB/s eta 0:00:01\n",
      "   ------------------------------ --------- 61.4/79.8 kB 21.4 kB/s eta 0:00:01\n",
      "   ------------------------------ --------- 61.4/79.8 kB 21.4 kB/s eta 0:00:01\n",
      "   ------------------------------ --------- 61.4/79.8 kB 21.4 kB/s eta 0:00:01\n",
      "   ------------------------------ --------- 61.4/79.8 kB 21.4 kB/s eta 0:00:01\n",
      "   ------------------------------ --------- 61.4/79.8 kB 21.4 kB/s eta 0:00:01\n",
      "   ------------------------------ --------- 61.4/79.8 kB 21.4 kB/s eta 0:00:01\n",
      "   ------------------------------ --------- 61.4/79.8 kB 21.4 kB/s eta 0:00:01\n",
      "   ------------------------------ --------- 61.4/79.8 kB 21.4 kB/s eta 0:00:01\n",
      "   ------------------------------ --------- 61.4/79.8 kB 21.4 kB/s eta 0:00:01\n",
      "   ------------------------------ --------- 61.4/79.8 kB 21.4 kB/s eta 0:00:01\n",
      "   ------------------------------ --------- 61.4/79.8 kB 21.4 kB/s eta 0:00:01\n",
      "   ------------------------------ --------- 61.4/79.8 kB 21.4 kB/s eta 0:00:01\n",
      "   ------------------------------ --------- 61.4/79.8 kB 21.4 kB/s eta 0:00:01\n",
      "   ------------------------------ --------- 61.4/79.8 kB 21.4 kB/s eta 0:00:01\n",
      "   ------------------------------ --------- 61.4/79.8 kB 21.4 kB/s eta 0:00:01\n",
      "   ------------------------------ --------- 61.4/79.8 kB 21.4 kB/s eta 0:00:01\n",
      "   ------------------------------ --------- 61.4/79.8 kB 21.4 kB/s eta 0:00:01\n",
      "   ------------------------------ --------- 61.4/79.8 kB 21.4 kB/s eta 0:00:01\n",
      "   ------------------------------ --------- 61.4/79.8 kB 21.4 kB/s eta 0:00:01\n",
      "   ------------------------------ --------- 61.4/79.8 kB 21.4 kB/s eta 0:00:01\n",
      "   ------------------------------ --------- 61.4/79.8 kB 21.4 kB/s eta 0:00:01\n",
      "   ------------------------------ --------- 61.4/79.8 kB 21.4 kB/s eta 0:00:01\n",
      "   ------------------------------ --------- 61.4/79.8 kB 21.4 kB/s eta 0:00:01\n",
      "   ------------------------------ --------- 61.4/79.8 kB 21.4 kB/s eta 0:00:01\n",
      "   ------------------------------ --------- 61.4/79.8 kB 21.4 kB/s eta 0:00:01\n",
      "   ------------------------------ --------- 61.4/79.8 kB 21.4 kB/s eta 0:00:01\n",
      "   ------------------------------ --------- 61.4/79.8 kB 21.4 kB/s eta 0:00:01\n",
      "   ------------------------------ --------- 61.4/79.8 kB 21.4 kB/s eta 0:00:01\n",
      "   ------------------------------ --------- 61.4/79.8 kB 21.4 kB/s eta 0:00:01\n",
      "   ------------------------------ --------- 61.4/79.8 kB 21.4 kB/s eta 0:00:01\n",
      "   ------------------------------ --------- 61.4/79.8 kB 21.4 kB/s eta 0:00:01\n",
      "   ------------------------------ --------- 61.4/79.8 kB 21.4 kB/s eta 0:00:01\n",
      "   ------------------------------ --------- 61.4/79.8 kB 21.4 kB/s eta 0:00:01\n",
      "   ------------------------------ --------- 61.4/79.8 kB 21.4 kB/s eta 0:00:01\n",
      "   ------------------------------ --------- 61.4/79.8 kB 21.4 kB/s eta 0:00:01\n",
      "   ------------------------------ --------- 61.4/79.8 kB 21.4 kB/s eta 0:00:01\n",
      "   ------------------------------ --------- 61.4/79.8 kB 21.4 kB/s eta 0:00:01\n",
      "   ------------------------------ --------- 61.4/79.8 kB 21.4 kB/s eta 0:00:01\n",
      "   ------------------------------ --------- 61.4/79.8 kB 21.4 kB/s eta 0:00:01\n",
      "   ------------------------------ --------- 61.4/79.8 kB 21.4 kB/s eta 0:00:01\n",
      "   ------------------------------ --------- 61.4/79.8 kB 21.4 kB/s eta 0:00:01\n",
      "   ------------------------------ --------- 61.4/79.8 kB 21.4 kB/s eta 0:00:01\n",
      "   ------------------------------ --------- 61.4/79.8 kB 21.4 kB/s eta 0:00:01\n",
      "   ------------------------------ --------- 61.4/79.8 kB 21.4 kB/s eta 0:00:01\n",
      "   ------------------------------ --------- 61.4/79.8 kB 21.4 kB/s eta 0:00:01\n",
      "   ------------------------------ --------- 61.4/79.8 kB 21.4 kB/s eta 0:00:01\n",
      "   ------------------------------ --------- 61.4/79.8 kB 21.4 kB/s eta 0:00:01\n",
      "   ------------------------------ --------- 61.4/79.8 kB 21.4 kB/s eta 0:00:01\n",
      "   ------------------------------ --------- 61.4/79.8 kB 21.4 kB/s eta 0:00:01\n",
      "   ------------------------------ --------- 61.4/79.8 kB 21.4 kB/s eta 0:00:01\n",
      "   ------------------------------ --------- 61.4/79.8 kB 21.4 kB/s eta 0:00:01\n",
      "   ------------------------------ --------- 61.4/79.8 kB 21.4 kB/s eta 0:00:01\n",
      "   ------------------------------ --------- 61.4/79.8 kB 21.4 kB/s eta 0:00:01\n",
      "   ------------------------------ --------- 61.4/79.8 kB 21.4 kB/s eta 0:00:01\n",
      "   ------------------------------ --------- 61.4/79.8 kB 21.4 kB/s eta 0:00:01\n",
      "   ------------------------------ --------- 61.4/79.8 kB 21.4 kB/s eta 0:00:01\n",
      "   ------------------------------ --------- 61.4/79.8 kB 21.4 kB/s eta 0:00:01\n",
      "   ------------------------------ --------- 61.4/79.8 kB 21.4 kB/s eta 0:00:01\n",
      "   ------------------------------ --------- 61.4/79.8 kB 21.4 kB/s eta 0:00:01\n",
      "   ------------------------------ --------- 61.4/79.8 kB 21.4 kB/s eta 0:00:01\n",
      "   ------------------------------ --------- 61.4/79.8 kB 21.4 kB/s eta 0:00:01\n",
      "   ----------------------------------- ---- 71.7/79.8 kB 5.9 kB/s eta 0:00:02\n",
      "   ----------------------------------- ---- 71.7/79.8 kB 5.9 kB/s eta 0:00:02\n",
      "   ---------------------------------------- 79.8/79.8 kB 6.6 kB/s eta 0:00:00\n",
      "Building wheels for collected packages: session-info\n",
      "  Building wheel for session-info (setup.py): started\n",
      "  Building wheel for session-info (setup.py): finished with status 'done'\n",
      "  Created wheel for session-info: filename=session_info-1.0.0-py3-none-any.whl size=8074 sha256=1e791effd60850ee80a62aa57040d93fc6c9a376027f0a91c4a43f886b8d6cc2\n",
      "  Stored in directory: c:\\users\\ravi\\appdata\\local\\pip\\cache\\wheels\\4e\\56\\35\\a748fc57279a4b84d0b332879445fed1ad8478e7257986b015\n",
      "Successfully built session-info\n",
      "Installing collected packages: stdlib_list, session-info\n",
      "Successfully installed session-info-1.0.0 stdlib_list-0.10.0\n",
      "Note: you may need to restart the kernel to use updated packages.\n"
     ]
    }
   ],
   "source": [
    "pip install session-info"
   ]
  },
  {
   "cell_type": "code",
   "execution_count": 85,
   "metadata": {
    "colab": {},
    "colab_type": "code",
    "id": "iakMxQQ1ZZQK"
   },
   "outputs": [
    {
     "data": {
      "text/html": [
       "<details>\n",
       "<summary>Click to view session information</summary>\n",
       "<pre>\n",
       "-----\n",
       "numpy               1.26.4\n",
       "scipy               1.11.4\n",
       "session_info        1.0.0\n",
       "-----\n",
       "</pre>\n",
       "<details>\n",
       "<summary>Click to view modules imported as dependencies</summary>\n",
       "<pre>\n",
       "anyio                       NA\n",
       "asttokens                   NA\n",
       "attr                        23.1.0\n",
       "attrs                       23.1.0\n",
       "babel                       2.11.0\n",
       "brotli                      1.0.9\n",
       "certifi                     2024.02.02\n",
       "chardet                     4.0.0\n",
       "charset_normalizer          2.0.4\n",
       "colorama                    0.4.6\n",
       "comm                        0.1.2\n",
       "cython_runtime              NA\n",
       "dateutil                    2.8.2\n",
       "debugpy                     1.6.7\n",
       "decorator                   5.1.1\n",
       "executing                   0.8.3\n",
       "fastjsonschema              NA\n",
       "google                      NA\n",
       "idna                        3.4\n",
       "ipykernel                   6.28.0\n",
       "jedi                        0.18.1\n",
       "jinja2                      3.1.3\n",
       "json5                       NA\n",
       "jsonpointer                 2.1\n",
       "jsonschema                  4.19.2\n",
       "jsonschema_specifications   NA\n",
       "jupyter_events              0.8.0\n",
       "jupyter_server              2.10.0\n",
       "jupyterlab_server           2.25.1\n",
       "markupsafe                  2.1.3\n",
       "mkl                         2.4.0\n",
       "nbformat                    5.9.2\n",
       "numpydoc                    1.5.0\n",
       "overrides                   NA\n",
       "packaging                   23.1\n",
       "parso                       0.8.3\n",
       "pickleshare                 0.7.5\n",
       "pkg_resources               NA\n",
       "platformdirs                3.10.0\n",
       "prometheus_client           NA\n",
       "prompt_toolkit              3.0.43\n",
       "psutil                      5.9.0\n",
       "pure_eval                   0.2.2\n",
       "pydev_ipython               NA\n",
       "pydevconsole                NA\n",
       "pydevd                      2.9.5\n",
       "pydevd_file_utils           NA\n",
       "pydevd_plugins              NA\n",
       "pydevd_tracing              NA\n",
       "pygments                    2.15.1\n",
       "pythoncom                   NA\n",
       "pythonjsonlogger            NA\n",
       "pywin32_system32            NA\n",
       "pywintypes                  NA\n",
       "referencing                 NA\n",
       "requests                    2.31.0\n",
       "rfc3339_validator           0.1.4\n",
       "rfc3986_validator           0.1.1\n",
       "rpds                        NA\n",
       "ruamel                      NA\n",
       "send2trash                  NA\n",
       "six                         1.16.0\n",
       "sniffio                     1.3.0\n",
       "socks                       1.7.1\n",
       "sphinxcontrib               NA\n",
       "stack_data                  0.2.0\n",
       "tornado                     6.3.3\n",
       "traitlets                   5.7.1\n",
       "urllib3                     2.0.7\n",
       "wcwidth                     0.2.5\n",
       "websocket                   0.58.0\n",
       "win32api                    NA\n",
       "win32com                    NA\n",
       "win32con                    NA\n",
       "win32trace                  NA\n",
       "winerror                    NA\n",
       "yaml                        6.0.1\n",
       "zmq                         25.1.2\n",
       "zope                        NA\n",
       "zstandard                   0.19.0\n",
       "</pre>\n",
       "</details> <!-- seems like this ends pre, so might as well be explicit -->\n",
       "<pre>\n",
       "-----\n",
       "IPython             8.20.0\n",
       "jupyter_client      8.6.0\n",
       "jupyter_core        5.5.0\n",
       "jupyterlab          4.0.11\n",
       "notebook            7.0.8\n",
       "-----\n",
       "Python 3.11.7 | packaged by Anaconda, Inc. | (main, Dec 15 2023, 18:05:47) [MSC v.1916 64 bit (AMD64)]\n",
       "Windows-10-10.0.19045-SP0\n",
       "-----\n",
       "Session information updated at 2024-05-22 23:57\n",
       "</pre>\n",
       "</details>"
      ],
      "text/plain": [
       "<IPython.core.display.HTML object>"
      ]
     },
     "execution_count": 85,
     "metadata": {},
     "output_type": "execute_result"
    }
   ],
   "source": [
    "import numpy as np\n",
    "import scipy.linalg as la\n",
    "import math\n",
    "\n",
    "import session_info\n",
    "session_info.show()\n"
   ]
  },
  {
   "cell_type": "markdown",
   "metadata": {},
   "source": [
    "## Session 1 "
   ]
  },
  {
   "cell_type": "markdown",
   "metadata": {
    "colab_type": "text",
    "id": "4oIzWeCArwS3"
   },
   "source": [
    "### Creation of Vectors and Matrices"
   ]
  },
  {
   "cell_type": "markdown",
   "metadata": {
    "colab_type": "text",
    "id": "vgzUew69ZZQR"
   },
   "source": [
    "1. Create a row vector of natural numbers of size 4."
   ]
  },
  {
   "cell_type": "code",
   "execution_count": 20,
   "metadata": {},
   "outputs": [
    {
     "data": {
      "text/plain": [
       "array([6, 4, 8, 0])"
      ]
     },
     "execution_count": 20,
     "metadata": {},
     "output_type": "execute_result"
    }
   ],
   "source": [
    "row_vector = np.random.randint(10, size=(4))\n",
    "row_vector"
   ]
  },
  {
   "cell_type": "markdown",
   "metadata": {
    "colab_type": "text",
    "id": "vYcnCH-6KXcW"
   },
   "source": [
    "2. Create a 2 x 2 matrix of all zeros, all ones, all with a value of 4 and all with random values."
   ]
  },
  {
   "cell_type": "code",
   "execution_count": 25,
   "metadata": {},
   "outputs": [
    {
     "data": {
      "text/plain": [
       "array([[0, 0],\n",
       "       [0, 0]])"
      ]
     },
     "execution_count": 25,
     "metadata": {},
     "output_type": "execute_result"
    }
   ],
   "source": [
    "mat_0 = np.zeros((2,2),int)\n",
    "mat_0"
   ]
  },
  {
   "cell_type": "code",
   "execution_count": 26,
   "metadata": {},
   "outputs": [
    {
     "data": {
      "text/plain": [
       "array([[1, 1],\n",
       "       [1, 1]])"
      ]
     },
     "execution_count": 26,
     "metadata": {},
     "output_type": "execute_result"
    }
   ],
   "source": [
    "mat_1 = np.ones((2,2),int)\n",
    "mat_1"
   ]
  },
  {
   "cell_type": "code",
   "execution_count": 32,
   "metadata": {},
   "outputs": [
    {
     "data": {
      "text/plain": [
       "array([[4, 4],\n",
       "       [4, 4]])"
      ]
     },
     "execution_count": 32,
     "metadata": {},
     "output_type": "execute_result"
    }
   ],
   "source": [
    "mat_4 = np.ones((2,2),int) * 4\n",
    "mat_4"
   ]
  },
  {
   "cell_type": "code",
   "execution_count": 35,
   "metadata": {},
   "outputs": [
    {
     "data": {
      "text/plain": [
       "array([[0, 3],\n",
       "       [9, 3]])"
      ]
     },
     "execution_count": 35,
     "metadata": {},
     "output_type": "execute_result"
    }
   ],
   "source": [
    "mat_r = np.random.randint(10, size=(4)).reshape((2,2))\n",
    "mat_r"
   ]
  },
  {
   "cell_type": "markdown",
   "metadata": {
    "colab_type": "text",
    "id": "-G6Iz7NcZZQ-"
   },
   "source": [
    "### Vector and Matrix Operations \n"
   ]
  },
  {
   "cell_type": "markdown",
   "metadata": {
    "colab_type": "text",
    "id": "_XuNsCzL8yl6"
   },
   "source": [
    "3. Find the magnitude/ L1 and L2 norm of the vector [4,6] and state which has a highest value.\n"
   ]
  },
  {
   "cell_type": "code",
   "execution_count": 39,
   "metadata": {},
   "outputs": [
    {
     "name": "stdout",
     "output_type": "stream",
     "text": [
      "L1 Norm :  10.0\n",
      "L2 Norm :  7.211102550927978\n"
     ]
    }
   ],
   "source": [
    "a = [4,6]\n",
    "L1 = np.linalg.norm(a,1)\n",
    "L2 = np.linalg.norm(a)\n",
    "\n",
    "print(\"L1 Norm : \",L1)\n",
    "print(\"L2 Norm : \",L2)\n"
   ]
  },
  {
   "cell_type": "markdown",
   "metadata": {
    "colab_type": "text",
    "id": "u_PcuU0lFJfG"
   },
   "source": [
    "### Scalar and Vector Projections\n",
    "5. Find the scalar and vector projections of the vector  u = 8i + 6j on vector v = i - 7j\n"
   ]
  },
  {
   "cell_type": "code",
   "execution_count": 42,
   "metadata": {},
   "outputs": [
    {
     "name": "stdout",
     "output_type": "stream",
     "text": [
      "Scalar Projection :  -4.808326112068523\n",
      "Vector Projection :  [-0.68  4.76]\n"
     ]
    }
   ],
   "source": [
    "u = np.array([8,6])\n",
    "v = np.array([1,-7])\n",
    "\n",
    "v_norm = np.sqrt(sum(v**2))\n",
    "\n",
    "scalar_projection = (np.dot(u,v)) / v_norm\n",
    "\n",
    "vector_projection = (np.dot(u,v) * v ) / sum(v**2)\n",
    "\n",
    "print(\"Scalar Projection : \", scalar_projection)\n",
    "\n",
    "print(\"Vector Projection : \", vector_projection)"
   ]
  },
  {
   "cell_type": "markdown",
   "metadata": {
    "colab": {},
    "colab_type": "code",
    "id": "Rtuwo6PV7TVv"
   },
   "source": [
    "### Session 2\n",
    "\n"
   ]
  },
  {
   "cell_type": "code",
   "execution_count": null,
   "metadata": {},
   "outputs": [],
   "source": [
    "import numpy as np\n",
    "import pandas as pd\n",
    "import matplotlib.pyplot as plt\n",
    "from PIL  import Image\n",
    "import scipy\n",
    "from skimage import data\n",
    "from numpy import *\n"
   ]
  },
  {
   "cell_type": "markdown",
   "metadata": {},
   "source": [
    "#### Q5. Find the Determinant for the following matrix. If B is a scaled matrix computed by scaling the matrix A, find the scale factor associated."
   ]
  },
  {
   "cell_type": "code",
   "execution_count": 52,
   "metadata": {},
   "outputs": [],
   "source": [
    "A = np.array([\n",
    "[10, 12, 13],\n",
    "[14, 15, 16],\n",
    "[17, 18, 19]])"
   ]
  },
  {
   "cell_type": "code",
   "execution_count": 53,
   "metadata": {},
   "outputs": [],
   "source": [
    "B=np.array([\n",
    "[30, 36, 39],\n",
    "[42, 45, 48],\n",
    "[51, 54, 57]])"
   ]
  },
  {
   "cell_type": "code",
   "execution_count": 80,
   "metadata": {},
   "outputs": [],
   "source": [
    "def checkScalingFactor(A, B):\n",
    "    \"\"\"\n",
    "        This function will check if Matrix B is a scaled version of Matrix A\n",
    "        If yes, it will print the scaling factorr\n",
    "    \"\"\"\n",
    "    #check shape of both of the matrices and if they are equivalent\n",
    "    \n",
    "    # Find determinant for both of the matrices\n",
    "    A_det = np.number.round(np.linalg.det(A))\n",
    "    B_det = np.number.round(np.linalg.det(B))\n",
    "\n",
    "    # size  of the square matrix\n",
    "    degree = A.shape[0]\n",
    "\n",
    "    #Enclosed Space in A is A_det units power degree where as in B it is B_det power degree\n",
    "    #divide B_det / A_det, and it should provide, howmuch is the enclosed space stretched.\n",
    "    # also, degreeth root needs to be calculated for single line scaling or stretching\n",
    "    scaling_Factor = math.pow((B_det / A_det),( 1 / degree) )\n",
    "\n",
    "    # if the resultant matrix does not disturb the figure(stretched and not transformed), then it must be a scalar multiplication of initial matrix\n",
    "    if np.all( B == (scaling_Factor * A)):\n",
    "        print(\"Matrix B is scaled by : \", scaling_Factor)\n",
    "    else:\n",
    "        print(\"it is not scaled\")"
   ]
  },
  {
   "cell_type": "code",
   "execution_count": 81,
   "metadata": {},
   "outputs": [
    {
     "name": "stdout",
     "output_type": "stream",
     "text": [
      "Matrix B is scaled by :  3.0\n"
     ]
    }
   ],
   "source": [
    "checkScalingFactor(A,B)"
   ]
  },
  {
   "cell_type": "markdown",
   "metadata": {},
   "source": [
    "#### Q6: If Matrix A and B are given, then find the matrix X from AX=B. "
   ]
  },
  {
   "cell_type": "code",
   "execution_count": 86,
   "metadata": {},
   "outputs": [],
   "source": [
    "A = np.array([\n",
    "[11, 12, 13],\n",
    "[11, 15, 14],\n",
    "[17, 11, 19]])\n",
    "\n",
    "B = np.array([[1, -1 , 1],[1, -1 , 1],[1, -1 , 1]])"
   ]
  },
  {
   "cell_type": "code",
   "execution_count": 87,
   "metadata": {},
   "outputs": [
    {
     "data": {
      "text/plain": [
       "array([[ 0.40425532, -0.40425532,  0.40425532],\n",
       "       [ 0.12765957, -0.12765957,  0.12765957],\n",
       "       [-0.38297872,  0.38297872, -0.38297872]])"
      ]
     },
     "execution_count": 87,
     "metadata": {},
     "output_type": "execute_result"
    }
   ],
   "source": [
    "X=np.linalg.solve(A,B)\n",
    "X"
   ]
  },
  {
   "cell_type": "markdown",
   "metadata": {},
   "source": [
    "### System of Linear equations"
   ]
  },
  {
   "cell_type": "markdown",
   "metadata": {},
   "source": [
    "#### Q7. Solve the following system and find x and y $$\\begin{pmatrix}\n",
    "1&2\\\\\n",
    "3&4\n",
    "\\end{pmatrix} \\begin{pmatrix}\n",
    "x\\\\\n",
    "y\n",
    "\\end{pmatrix} =\\begin{pmatrix}\n",
    "-1\\\\\n",
    "1\n",
    "\\end{pmatrix}$$"
   ]
  },
  {
   "cell_type": "code",
   "execution_count": 96,
   "metadata": {},
   "outputs": [
    {
     "name": "stdout",
     "output_type": "stream",
     "text": [
      "x :  3.0  y :  -2.0\n"
     ]
    }
   ],
   "source": [
    "A = [[1,2],[3,4]]\n",
    "B = [[-1],[1]]\n",
    "X=np.linalg.solve(A,B)\n",
    "print(\"x : \",X[0][0],\" y : \",np.number.round(X[1][0]))"
   ]
  },
  {
   "cell_type": "markdown",
   "metadata": {},
   "source": [
    "### Gram-Schmidt Process"
   ]
  },
  {
   "cell_type": "markdown",
   "metadata": {},
   "source": [
    "#### Q8.Convert the following matrix to an orthogonal matrix using Gram Schmidt Process?\n",
    "\\begin{align}\n",
    "B = \\begin{bmatrix}\n",
    "12 & 13 & 14\\\\\n",
    "13 & 14 & 15\\\\\n",
    "15 & 16 & 13\n",
    "\\end{bmatrix}\n",
    "\\end{align}"
   ]
  },
  {
   "cell_type": "code",
   "execution_count": 118,
   "metadata": {},
   "outputs": [
    {
     "name": "stdout",
     "output_type": "stream",
     "text": [
      "Q : is a Orthogonal Matrix\n",
      " [[-0.51735674  0.66830212  0.53452248]\n",
      " [-0.5604698   0.20740411 -0.80178373]\n",
      " [-0.64669592 -0.71439192  0.26726124]]\n"
     ]
    }
   ],
   "source": [
    "B = np.array([[12,13,14],[13,14,15],[15,16,13]])\n",
    "\n",
    "\n",
    "def gram_smit(B):\n",
    "    Q,R = np.linalg.qr(B)\n",
    "    return Q, R\n",
    "Q, R = gram_smit(B)\n",
    "\n",
    "if np.allclose(np.dot(Q,Q.T),np.eye(3)):\n",
    "    print(\"Q : is a Orthogonal Matrix\\n\",Q)\n"
   ]
  },
  {
   "cell_type": "code",
   "execution_count": 15,
   "metadata": {},
   "outputs": [],
   "source": [
    "#hint: To check if a given matrix is orthogonal, first find the transpose of that matrix. Then, multiply the given matrix with the transpose. \n",
    "#Now, if the product is an identity matrix, the given matrix is orthogonal, otherwise, not."
   ]
  },
  {
   "cell_type": "markdown",
   "metadata": {},
   "source": [
    "### Eigen values "
   ]
  },
  {
   "cell_type": "markdown",
   "metadata": {},
   "source": [
    "#### Q9.Find eigen values and eigen vectors for \n",
    "\n",
    "\\begin{align}\n",
    "A = \\begin{bmatrix}\n",
    "2 & -1 & 0\\\\\n",
    "-1 & 2 & -1\\\\\n",
    "0 & -1 & 2\n",
    "\\end{bmatrix}\n",
    "\\end{align}"
   ]
  },
  {
   "cell_type": "code",
   "execution_count": 51,
   "metadata": {},
   "outputs": [
    {
     "name": "stdout",
     "output_type": "stream",
     "text": [
      "Eigen Value for Matrix A is : \n",
      " [3.41421356 2.         0.58578644]\n",
      "\n",
      "Eigen Vector for Matrix A is : \n",
      " [[-5.00000000e-01 -7.07106781e-01  5.00000000e-01]\n",
      " [ 7.07106781e-01  5.09486455e-16  7.07106781e-01]\n",
      " [-5.00000000e-01  7.07106781e-01  5.00000000e-01]]\n"
     ]
    }
   ],
   "source": [
    "A = np.array([\n",
    "[2, -1, 0],\n",
    "[-1, 2, -1],\n",
    "[0, -1, 2]])\n",
    "\n",
    "w, v = np.linalg.eig(A)\n",
    "print(\"Eigen Value for Matrix A is : \\n\", w)\n",
    "print()\n",
    "print(\"Eigen Vector for Matrix A is : \\n\", v)\n"
   ]
  },
  {
   "cell_type": "code",
   "execution_count": null,
   "metadata": {},
   "outputs": [],
   "source": []
  }
 ],
 "metadata": {
  "anaconda-cloud": {},
  "colab": {
   "collapsed_sections": [],
   "name": "Inclass_Introduction_to_Linear_Algebra_Questions.ipynb",
   "provenance": []
  },
  "kernelspec": {
   "display_name": "Python 3 (ipykernel)",
   "language": "python",
   "name": "python3"
  },
  "language_info": {
   "codemirror_mode": {
    "name": "ipython",
    "version": 3
   },
   "file_extension": ".py",
   "mimetype": "text/x-python",
   "name": "python",
   "nbconvert_exporter": "python",
   "pygments_lexer": "ipython3",
   "version": "3.12.0"
  }
 },
 "nbformat": 4,
 "nbformat_minor": 4
}
