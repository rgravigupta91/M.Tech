{
 "cells": [
  {
   "cell_type": "code",
   "execution_count": 1,
   "id": "f06daf80-2b3e-4926-a52b-ded043475006",
   "metadata": {},
   "outputs": [],
   "source": [
    "import numpy as np"
   ]
  },
  {
   "cell_type": "code",
   "execution_count": 10,
   "id": "b4a9eaca-6aa0-4f81-adc9-728631a2e2dc",
   "metadata": {},
   "outputs": [],
   "source": [
    "A = np.array([5,6,2,4,7,19,0,3,12]).reshape(3,3)"
   ]
  },
  {
   "cell_type": "code",
   "execution_count": 11,
   "id": "e3ea7a10-18a6-4ee1-acea-7dbf82759ffc",
   "metadata": {},
   "outputs": [
    {
     "data": {
      "text/plain": [
       "array([[14],\n",
       "       [ 4],\n",
       "       [ 5]])"
      ]
     },
     "execution_count": 11,
     "metadata": {},
     "output_type": "execute_result"
    }
   ],
   "source": [
    "B = np.array([14,4,5]).reshape(3,1)"
   ]
  },
  {
   "cell_type": "code",
   "execution_count": 12,
   "id": "878c5bfe-1043-46cd-9361-7ef7c116c40c",
   "metadata": {},
   "outputs": [
    {
     "data": {
      "text/plain": [
       "array([[1, 2, 3]])"
      ]
     },
     "execution_count": 12,
     "metadata": {},
     "output_type": "execute_result"
    }
   ],
   "source": [
    "C = np.array([1,2,3]).reshape(1,3)\n",
    "C"
   ]
  },
  {
   "cell_type": "code",
   "execution_count": 13,
   "id": "c24e0859-7207-4573-82c9-09776be8c347",
   "metadata": {},
   "outputs": [
    {
     "data": {
      "text/plain": [
       "array([[1, 2],\n",
       "       [3, 4]])"
      ]
     },
     "execution_count": 13,
     "metadata": {},
     "output_type": "execute_result"
    }
   ],
   "source": [
    "D = np.array([1,2,3,4]).reshape(2,2)\n",
    "D"
   ]
  },
  {
   "cell_type": "code",
   "execution_count": 18,
   "id": "05387e52-1184-4338-986f-01e387daa120",
   "metadata": {},
   "outputs": [],
   "source": [
    "I3 = np.identity(3)"
   ]
  },
  {
   "cell_type": "code",
   "execution_count": 19,
   "id": "2031379c-9b2d-4e19-bb79-47c3f4f24efd",
   "metadata": {},
   "outputs": [
    {
     "name": "stdout",
     "output_type": "stream",
     "text": [
      "-5.999999999999998\n"
     ]
    }
   ],
   "source": [
    "print(np.linalg.det(A+I3))"
   ]
  },
  {
   "cell_type": "code",
   "execution_count": 20,
   "id": "4b14a467-3003-4fa7-80f5-8b3c3e2331ed",
   "metadata": {},
   "outputs": [
    {
     "name": "stdout",
     "output_type": "stream",
     "text": [
      "[[14 28 42]\n",
      " [ 4  8 12]\n",
      " [ 5 10 15]]\n"
     ]
    }
   ],
   "source": [
    "print(np.dot(B,C))"
   ]
  },
  {
   "cell_type": "code",
   "execution_count": 21,
   "id": "0071f690-a168-4f6b-8096-28cb32574bc8",
   "metadata": {},
   "outputs": [
    {
     "name": "stdout",
     "output_type": "stream",
     "text": [
      "[[104]\n",
      " [179]\n",
      " [ 72]]\n"
     ]
    }
   ],
   "source": [
    "print(np.dot(A,B))"
   ]
  },
  {
   "cell_type": "code",
   "execution_count": 22,
   "id": "2d0104fc-ac67-4d96-83d1-d9ee02c8e871",
   "metadata": {},
   "outputs": [
    {
     "name": "stdout",
     "output_type": "stream",
     "text": [
      "[[ 49  78 148]\n",
      " [ 48 130 369]\n",
      " [ 12  57 201]]\n"
     ]
    }
   ],
   "source": [
    "print(np.dot(A,A))"
   ]
  },
  {
   "cell_type": "code",
   "execution_count": 24,
   "id": "c375c887-52d2-4538-af6b-5feed1abdd10",
   "metadata": {},
   "outputs": [],
   "source": [
    "I2 = np.identity(2)"
   ]
  },
  {
   "cell_type": "code",
   "execution_count": 25,
   "id": "70ba3848-529d-4470-8868-8f0bd6bf0185",
   "metadata": {},
   "outputs": [
    {
     "name": "stdout",
     "output_type": "stream",
     "text": [
      "[[0. 0.]\n",
      " [0. 0.]]\n"
     ]
    }
   ],
   "source": [
    "print(np.dot(D,D)-5*D-2*I2)"
   ]
  },
  {
   "cell_type": "code",
   "execution_count": null,
   "id": "2f194851-184b-42b2-82e6-58e43f26e142",
   "metadata": {},
   "outputs": [],
   "source": []
  },
  {
   "cell_type": "code",
   "execution_count": 27,
   "id": "b07a67a1-e65f-42d5-870d-f849154e08ba",
   "metadata": {},
   "outputs": [],
   "source": [
    "###2"
   ]
  },
  {
   "cell_type": "code",
   "execution_count": 32,
   "id": "bc0f1692-d0ae-4c75-a91e-712b9b294beb",
   "metadata": {},
   "outputs": [
    {
     "data": {
      "text/plain": [
       "array([0.08737041, 0.61159284, 0.78633365])"
      ]
     },
     "execution_count": 32,
     "metadata": {},
     "output_type": "execute_result"
    }
   ],
   "source": [
    "u1= np.array([1,7,9])\n",
    "u2= np.array([3,4,5])\n",
    "u3= np.array([1,2,1])\n",
    "v1=np.copy(u1)\n",
    "\n",
    "v1 / np.linalg.norm(v1)"
   ]
  },
  {
   "cell_type": "code",
   "execution_count": 29,
   "id": "4cba787a-01d8-4fd7-a9fa-71e4642662e1",
   "metadata": {},
   "outputs": [
    {
     "data": {
      "text/plain": [
       "131"
      ]
     },
     "execution_count": 29,
     "metadata": {},
     "output_type": "execute_result"
    }
   ],
   "source": [
    "v2= u2-      (         np.dot(u2,v1) / (np.linalg.norm(v1)       )          **2)*v1"
   ]
  },
  {
   "cell_type": "code",
   "execution_count": 33,
   "id": "7091230b-0d45-43cf-adb2-43494b48d3af",
   "metadata": {},
   "outputs": [],
   "source": [
    "Z = np.array([[0.08737041, 0.61159284, 0.78633365],\n",
    "[ 0.99552721, -0.02512372, -0.09107347],\n",
    "[-0.03594426,  0.79077367, -0.61105238]])"
   ]
  },
  {
   "cell_type": "code",
   "execution_count": 41,
   "id": "5eacaa2f-7c48-4233-b04c-86bf468188e4",
   "metadata": {},
   "outputs": [
    {
     "name": "stdout",
     "output_type": "stream",
     "text": [
      "Orthogonal\n"
     ]
    }
   ],
   "source": [
    "if np.allclose(np.dot(Z,Z.T),np.eye(3)):\n",
    "    print(\"Orthogonal\")"
   ]
  },
  {
   "cell_type": "code",
   "execution_count": 35,
   "id": "dfd31655-adbd-40aa-bc1a-85db83ce2e6c",
   "metadata": {},
   "outputs": [],
   "source": [
    "E = np.array([[1,7,9],[3,4,5],[1,2,1]])"
   ]
  },
  {
   "cell_type": "code",
   "execution_count": 36,
   "id": "072efb2f-4db6-42c3-95cf-ad1f00b6d2b0",
   "metadata": {},
   "outputs": [],
   "source": [
    "Q, R = np.linalg.qr(E)"
   ]
  },
  {
   "cell_type": "code",
   "execution_count": 37,
   "id": "dec71ad3-702b-476e-b551-b8db1ba832ea",
   "metadata": {},
   "outputs": [
    {
     "data": {
      "text/plain": [
       "array([[-0.30151134,  0.94684333, -0.11215443],\n",
       "       [-0.90453403, -0.32125042, -0.28038608],\n",
       "       [-0.30151134,  0.01690792,  0.95331266]])"
      ]
     },
     "execution_count": 37,
     "metadata": {},
     "output_type": "execute_result"
    }
   ],
   "source": [
    "Q"
   ]
  },
  {
   "cell_type": "code",
   "execution_count": 40,
   "id": "677f51fa-3262-46cf-b83e-7f70ac61aa0e",
   "metadata": {},
   "outputs": [
    {
     "name": "stdout",
     "output_type": "stream",
     "text": [
      "Orthogonal\n"
     ]
    }
   ],
   "source": [
    "if np.allclose(np.dot(Q,Q.T),np.eye(3)):\n",
    "    print(\"Orthogonal\")"
   ]
  },
  {
   "cell_type": "code",
   "execution_count": 42,
   "id": "9d722748-c8ec-46c0-913d-4ca6d1d6680a",
   "metadata": {},
   "outputs": [
    {
     "data": {
      "text/plain": [
       "array([[ 0.08737041,  0.61159284,  0.78633365],\n",
       "       [ 0.99552721, -0.02512372, -0.09107347],\n",
       "       [-0.03594426,  0.79077367, -0.61105238]])"
      ]
     },
     "execution_count": 42,
     "metadata": {},
     "output_type": "execute_result"
    }
   ],
   "source": [
    "Z"
   ]
  },
  {
   "cell_type": "code",
   "execution_count": 43,
   "id": "b53d57cf-63a8-4f28-9444-d0321d285d14",
   "metadata": {},
   "outputs": [
    {
     "data": {
      "text/plain": [
       "array([[-0.30151134,  0.94684333, -0.11215443],\n",
       "       [-0.90453403, -0.32125042, -0.28038608],\n",
       "       [-0.30151134,  0.01690792,  0.95331266]])"
      ]
     },
     "execution_count": 43,
     "metadata": {},
     "output_type": "execute_result"
    }
   ],
   "source": [
    "Q"
   ]
  },
  {
   "cell_type": "code",
   "execution_count": 46,
   "id": "a4e5454c-f43d-4fee-b434-adb0ae770d09",
   "metadata": {},
   "outputs": [],
   "source": [
    "u1 = np.array([ 0.08737041,  0.61159284,  0.78633365])\n",
    "u2 = np.array([ 0.99552721, -0.02512372, -0.09107347])\n",
    "u3 = np.array([-0.03594426,  0.79077367, -0.61105238])"
   ]
  },
  {
   "cell_type": "code",
   "execution_count": 47,
   "id": "f567dd5f-7527-4709-83c7-3fc4ab32475e",
   "metadata": {},
   "outputs": [
    {
     "data": {
      "text/plain": [
       "-8.455742086892062e-10"
      ]
     },
     "execution_count": 47,
     "metadata": {},
     "output_type": "execute_result"
    }
   ],
   "source": [
    "np.dot(u1,u2)"
   ]
  },
  {
   "cell_type": "code",
   "execution_count": 48,
   "id": "a7f33715-f8fc-473d-a992-d54112d508ca",
   "metadata": {},
   "outputs": [
    {
     "data": {
      "text/plain": [
       "1.5925892787168297e-09"
      ]
     },
     "execution_count": 48,
     "metadata": {},
     "output_type": "execute_result"
    }
   ],
   "source": [
    "np.dot(u1,u3)"
   ]
  },
  {
   "cell_type": "code",
   "execution_count": 49,
   "id": "aaaea254-84cc-4fcd-9d97-38e7bfc7acb2",
   "metadata": {},
   "outputs": [
    {
     "data": {
      "text/plain": [
       "-4.543408398222307e-09"
      ]
     },
     "execution_count": 49,
     "metadata": {},
     "output_type": "execute_result"
    }
   ],
   "source": [
    "np.dot(u2,u3)"
   ]
  },
  {
   "cell_type": "code",
   "execution_count": null,
   "id": "97bb765b-663f-4476-9097-8d765c284ef6",
   "metadata": {},
   "outputs": [],
   "source": []
  },
  {
   "cell_type": "code",
   "execution_count": null,
   "id": "8570ebf7-ad83-49d4-94e4-86001239fc02",
   "metadata": {},
   "outputs": [],
   "source": []
  }
 ],
 "metadata": {
  "kernelspec": {
   "display_name": "Python 3 (ipykernel)",
   "language": "python",
   "name": "python3"
  },
  "language_info": {
   "codemirror_mode": {
    "name": "ipython",
    "version": 3
   },
   "file_extension": ".py",
   "mimetype": "text/x-python",
   "name": "python",
   "nbconvert_exporter": "python",
   "pygments_lexer": "ipython3",
   "version": "3.12.0"
  }
 },
 "nbformat": 4,
 "nbformat_minor": 5
}
