{
 "cells": [
  {
   "cell_type": "markdown",
   "id": "1034d2c6",
   "metadata": {},
   "source": [
    "### Q 1 solution"
   ]
  },
  {
   "cell_type": "markdown",
   "id": "adceae94",
   "metadata": {},
   "source": [
    "Calculate the following for the matrix A,B and C where I is 3 by 3 Identity matrix\n",
    "- $|A+I|$;\n",
    "- $BC$;\n",
    "- $AB$;\n",
    "- $A^{2}$\n",
    "- Value of $D^{2}-5D-2I$\n",
    "\n",
    "\n",
    "\n",
    "\\begin{align}\n",
    "A = \\begin{bmatrix}\n",
    "5 & 6 & 2\\\\\n",
    "4 & 7 & 19\\\\\n",
    "0 & 3 & 12\n",
    "\\end{bmatrix}\n",
    "\\end{align}\n",
    "\n",
    "\\begin{align}\n",
    "B = \\begin{bmatrix}\n",
    "14 \\\\\n",
    "4 \\\\\n",
    "5 \n",
    "\\end{bmatrix}\n",
    "\\end{align}\n",
    "\n",
    "\\begin{align}\n",
    "C = \\begin{bmatrix}\n",
    "1 & 2 & 3\\\\\n",
    "\\end{bmatrix}\n",
    "\\end{align}\n",
    "\n",
    "\\begin{align}\n",
    "D = \\begin{bmatrix}\n",
    "1 & 2\\\\\n",
    "3 & 4 \\\\\n",
    "\\end{bmatrix}\n",
    "\\end{align}\n",
    "\n"
   ]
  },
  {
   "cell_type": "code",
   "execution_count": 24,
   "id": "4c0f7922",
   "metadata": {},
   "outputs": [
    {
     "name": "stdout",
     "output_type": "stream",
     "text": [
      "|A+I|= : -6.0000000000000195\n",
      "BC is : 37\n",
      "The Multiplication of  A and B is : [104 179  72]\n",
      "The A square is : [[ 49  78 148]\n",
      " [ 48 130 369]\n",
      " [ 12  57 201]]\n",
      "D^2-5D-2I= [[0. 0.]\n",
      " [0. 0.]]\n"
     ]
    }
   ],
   "source": [
    "import numpy as np\n",
    "\n",
    "A = np.array([[5, 6, 2], [4, 7, 19],[0, 3, 12]])\n",
    "B = np.array([14, 4, 5])\n",
    "C= np.array([1,2,3])\n",
    "D=np.array([[1,2],[3,4]])\n",
    "I= np.identity(3)\n",
    "I2= np.identity(2)\n",
    "det= np.linalg.det(A+I)     \n",
    "print(\"|A+I|= :\" , det)\n",
    "\n",
    "BC= np.dot(B,C)\n",
    "print(\"BC is :\" , BC)\n",
    "M= np.dot(A,B)\n",
    "print(\"The Multiplication of  A and B is :\" , M)\n",
    "P= np.dot(A,A)\n",
    "print(\"The A square is :\" , P)\n",
    "print('D^2-5D-2I=',np.dot(D,D)-5*D-2*I2)\n"
   ]
  },
  {
   "cell_type": "markdown",
   "id": "d966bed9",
   "metadata": {},
   "source": [
    "### Q 2 Solution"
   ]
  },
  {
   "cell_type": "markdown",
   "id": "1da8fecd",
   "metadata": {},
   "source": [
    "Convert the following matrix to an orthogonal matrix using Gram Schmidt Process?\n",
    "\\begin{align}\n",
    "B = \\begin{bmatrix}\n",
    "1 & 7 & 9\\\\\n",
    "3 & 4 & 5\\\\\n",
    "1 & 2 & 1\n",
    "\\end{bmatrix}\n",
    "\\end{align}"
   ]
  },
  {
   "cell_type": "code",
   "execution_count": 2,
   "id": "ab99fb08",
   "metadata": {},
   "outputs": [
    {
     "name": "stdout",
     "output_type": "stream",
     "text": [
      "[0.08737041 0.61159284 0.78633365]\n",
      "[ 0.99552721 -0.02512372 -0.09107347]\n",
      "[-0.03594426  0.79077367 -0.61105238]\n"
     ]
    }
   ],
   "source": [
    "\n",
    "import numpy as np\n",
    "u1= np.array([1,7,9])\n",
    "u2= np.array([3,4,5])\n",
    "u3= np.array([1,2,1])\n",
    "v1=np.copy(u1)\n",
    "#v1=np.array(v1.append(u1))\n",
    "print(v1/(np.linalg.norm(v1)))\n",
    "v2= u2-(np.dot(u2,v1)/(np.linalg.norm(v1))**2)*v1\n",
    "print(v2/(np.linalg.norm(v2)))\n",
    "v3=u3-(np.dot(u3,v1)/(np.linalg.norm(v1))**2)*v1 -(np.dot(u3,v2)/(np.linalg.norm(v2))**2)*v2\n",
    "print(v3/(np.linalg.norm(v3)))\n"
   ]
  },
  {
   "cell_type": "code",
   "execution_count": null,
   "id": "d3209322",
   "metadata": {},
   "outputs": [],
   "source": []
  },
  {
   "cell_type": "markdown",
   "id": "0655fc80",
   "metadata": {},
   "source": [
    "# Q 3 Solution"
   ]
  },
  {
   "cell_type": "markdown",
   "id": "08533771",
   "metadata": {},
   "source": [
    "- Find Scalar and Vector Projection of u on v\n",
    "u = [6,7,8]\n",
    "v= [2,3,-1]\n",
    "\n",
    "\n",
    "- Verify Q is orthogonal \n",
    "\n",
    "\\begin{align}\n",
    "Q =\\frac{1}{3} \\begin{bmatrix}\n",
    "2 & -2 & 1\\\\\n",
    "1 & 2 & 2\\\\\n",
    "2 & -1 & -2\n",
    "\\end{bmatrix}\n",
    "\\end{align}"
   ]
  },
  {
   "cell_type": "code",
   "execution_count": 25,
   "id": "2dc2b9e1",
   "metadata": {},
   "outputs": [
    {
     "data": {
      "text/plain": [
       "6.681531047810609"
      ]
     },
     "execution_count": 25,
     "metadata": {},
     "output_type": "execute_result"
    }
   ],
   "source": [
    "# Scalar Projection of u on v\n",
    "u = np.array([6,7,8])\n",
    "v = np.array([2,3,-1])\n",
    "sc_proj = np.dot(u, v) / np.linalg.norm(v)   # u.v/||v||\n",
    "sc_proj"
   ]
  },
  {
   "cell_type": "code",
   "execution_count": 26,
   "id": "1c18c1fa",
   "metadata": {},
   "outputs": [
    {
     "data": {
      "text/plain": [
       "array([ 3.57142857,  5.35714286, -1.78571429])"
      ]
     },
     "execution_count": 26,
     "metadata": {},
     "output_type": "execute_result"
    }
   ],
   "source": [
    "# Vector projection of u on v\n",
    "vec_proj = (v * sc_proj)/ np.linalg.norm(v)   # (v * (np.dot(u,v)/np.linalg.norm(v)) / np.linalg.norm(v)  \n",
    "vec_proj"
   ]
  },
  {
   "cell_type": "code",
   "execution_count": 29,
   "id": "d95ea70c",
   "metadata": {},
   "outputs": [
    {
     "name": "stdout",
     "output_type": "stream",
     "text": [
      "[[ 0.66666667 -0.66666667  0.33333333]\n",
      " [ 0.33333333  0.66666667  0.66666667]\n",
      " [ 0.66666667 -0.33333333 -0.66666667]]\n",
      "[[ 0.28571429  0.71428571  0.85714286]\n",
      " [-0.85714286  0.85714286  0.42857143]\n",
      " [ 0.71428571  0.28571429 -0.85714286]]\n"
     ]
    }
   ],
   "source": [
    "from numpy import array\n",
    "from numpy.linalg import inv\n",
    "# define orthogonal matrix\n",
    "Q =1/3* array([ \n",
    "[2,-2, 1],\n",
    "[1, 2, 2],\n",
    "[2,-1, -2]])\n",
    "print(Q)\n",
    "# inverse equivalence\n",
    "V = inv(Q)\n",
    "#print(Q.T)\n",
    "print(V)"
   ]
  },
  {
   "cell_type": "code",
   "execution_count": 30,
   "id": "bdf27873",
   "metadata": {},
   "outputs": [
    {
     "name": "stdout",
     "output_type": "stream",
     "text": [
      "[[ 1.00000000e+00  1.54197642e-17  4.44444444e-01]\n",
      " [ 1.54197642e-17  1.00000000e+00 -4.44444444e-01]\n",
      " [ 4.44444444e-01 -4.44444444e-01  1.00000000e+00]]\n"
     ]
    }
   ],
   "source": [
    "# identity equivalence\n",
    "I = Q.dot(Q.T)\n",
    "print(I)"
   ]
  },
  {
   "cell_type": "markdown",
   "id": "0d7df801",
   "metadata": {},
   "source": [
    "# Q 4 solution"
   ]
  },
  {
   "cell_type": "markdown",
   "id": "6b2a33be",
   "metadata": {},
   "source": [
    "The Following table lists the weight and heights of 5 boys Find the covariance matrix for the data.\n",
    "\n",
    "![11.PNG](data:image/png;base64,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)"
   ]
  },
  {
   "cell_type": "code",
   "execution_count": 13,
   "id": "53b91fbb",
   "metadata": {},
   "outputs": [
    {
     "data": {
      "text/plain": [
       "array([[100. ,  47.5],\n",
       "       [ 47.5,  25. ]])"
      ]
     },
     "execution_count": 13,
     "metadata": {},
     "output_type": "execute_result"
    }
   ],
   "source": [
    "x = [120,125,125,135,145]\n",
    "y = [61,60,64,68,72]\n",
    "X = np.stack((x, y), axis=0)\n",
    "np.cov(X)"
   ]
  },
  {
   "cell_type": "markdown",
   "id": "afa51696",
   "metadata": {},
   "source": [
    "# Question 5 solution"
   ]
  },
  {
   "cell_type": "markdown",
   "id": "0bb839ed",
   "metadata": {},
   "source": [
    "Find eigen values and eigen vectors for \n",
    "\n",
    "\\begin{align}\n",
    "A = \\begin{bmatrix}\n",
    "5 & 6 & 2\\\\\n",
    "4 & 7 & 19\\\\\n",
    "0 & 3 & 12\n",
    "\\end{bmatrix}\n",
    "\\end{align}"
   ]
  },
  {
   "cell_type": "code",
   "execution_count": 3,
   "id": "d28d6df1",
   "metadata": {},
   "outputs": [
    {
     "name": "stdout",
     "output_type": "stream",
     "text": [
      "[-1.03997841  6.80080283 18.23917558]\n",
      "[[ 0.6664281   0.91899137  0.42824655]\n",
      " [-0.72658863  0.34150445  0.81440731]\n",
      " [ 0.16716024 -0.19705222  0.39159371]]\n"
     ]
    }
   ],
   "source": [
    "from numpy import linalg as LA\n",
    "import numpy as np\n",
    "\n",
    "a = np.array([[5, 6, 2],[4,7,19],[0,3,12]])\n",
    "w, v = np.linalg.eig(a)\n",
    "\n",
    "print(w)\n",
    "print(v)"
   ]
  },
  {
   "cell_type": "markdown",
   "id": "db9bca8a",
   "metadata": {},
   "source": [
    "# Question 6"
   ]
  },
  {
   "cell_type": "markdown",
   "id": "ce34c17f",
   "metadata": {},
   "source": [
    "Find singular value decomposition of \n",
    "\\begin{align}\n",
    "A = \\begin{bmatrix}\n",
    "1 & 2\\\\ \n",
    "3 & 4\\\\ \n",
    "5 & 6\n",
    "\\end{bmatrix}\n",
    "\\end{align}"
   ]
  },
  {
   "cell_type": "code",
   "execution_count": 16,
   "id": "cf316f20",
   "metadata": {},
   "outputs": [
    {
     "name": "stdout",
     "output_type": "stream",
     "text": [
      "[[1 2]\n",
      " [3 4]\n",
      " [5 6]]\n",
      "[[-0.2298477   0.88346102  0.40824829]\n",
      " [-0.52474482  0.24078249 -0.81649658]\n",
      " [-0.81964194 -0.40189603  0.40824829]]\n",
      "[9.52551809 0.51430058]\n",
      "[[-0.61962948 -0.78489445]\n",
      " [-0.78489445  0.61962948]]\n"
     ]
    }
   ],
   "source": [
    "# singular-value decomposition\n",
    "from numpy import array\n",
    "from scipy.linalg import svd\n",
    "# define a matrix\n",
    "A = array([\n",
    "[1, 2],\n",
    "[3, 4],\n",
    "[5, 6]])\n",
    "print(A)\n",
    "# factorize\n",
    "U, s, V = svd(A)\n",
    "print(U)\n",
    "print(s)\n",
    "print(V)\n"
   ]
  },
  {
   "cell_type": "markdown",
   "id": "430e3bf9",
   "metadata": {},
   "source": [
    "# Question 7 (8 Marks)"
   ]
  },
  {
   "cell_type": "markdown",
   "id": "02e6169f",
   "metadata": {},
   "source": [
    "1. From sklearn.dataset import iris data\n",
    "2. Preprocess the data Preprocess the data by subtracting the mean and dividing by the standard deviation of each attribute value. The resulting data should be zero-mean with variance 1.\n",
    "3. Compute the covriance matrix \n",
    "4. Factorize the covariance matrix using singular value decomposition (SVD) and obtain the eigenvalues and eigenvectors.\n",
    "5. Find principle components."
   ]
  },
  {
   "cell_type": "code",
   "execution_count": 39,
   "id": "8f5ce53c",
   "metadata": {},
   "outputs": [],
   "source": [
    "# mean Centering the data  \n",
    "X_meaned = X - np.mean(X , axis = 0)"
   ]
  },
  {
   "cell_type": "code",
   "execution_count": 40,
   "id": "ac0f746d",
   "metadata": {},
   "outputs": [],
   "source": [
    "# calculating the covariance matrix of the mean-centered data.\n",
    "cov_mat = np.cov(X_meaned , rowvar = False)"
   ]
  },
  {
   "cell_type": "code",
   "execution_count": 41,
   "id": "da45d93d",
   "metadata": {},
   "outputs": [],
   "source": [
    "#Calculating Eigenvalues and Eigenvectors of the covariance matrix\n",
    "eigen_values , eigen_vectors = np.linalg.eigh(cov_mat)\n"
   ]
  },
  {
   "cell_type": "code",
   "execution_count": 42,
   "id": "dd3bf818",
   "metadata": {},
   "outputs": [],
   "source": [
    "#sort the eigenvalues in descending order\n",
    "sorted_index = np.argsort(eigen_values)[::-1]\n",
    " \n",
    "sorted_eigenvalue = eigen_values[sorted_index]\n",
    "#similarly sort the eigenvectors \n",
    "sorted_eigenvectors = eigen_vectors[:,sorted_index]\n"
   ]
  },
  {
   "cell_type": "code",
   "execution_count": 43,
   "id": "f6bc138c",
   "metadata": {},
   "outputs": [],
   "source": [
    "# select the first n eigenvectors, n is desired dimension\n",
    "# of our final reduced data.\n",
    " \n",
    "n_components = 2 #you can select any number of components.\n",
    "eigenvector_subset = sorted_eigenvectors[:,0:n_components]\n"
   ]
  },
  {
   "cell_type": "code",
   "execution_count": 44,
   "id": "0ee2e533",
   "metadata": {},
   "outputs": [],
   "source": [
    "#Transform the data \n",
    "X_reduced = np.dot(eigenvector_subset.transpose(),X_meaned.transpose()).transpose()\n"
   ]
  },
  {
   "cell_type": "code",
   "execution_count": 46,
   "id": "1976e47d",
   "metadata": {},
   "outputs": [],
   "source": [
    "#sort the eigenvalues in descending order\n",
    "sorted_index = np.argsort(eigen_values)[::-1]\n",
    " \n",
    "sorted_eigenvalue = eigen_values[sorted_index]\n",
    "#similarly sort the eigenvectors \n",
    "sorted_eigenvectors = eigen_vectors[:,sorted_index]"
   ]
  },
  {
   "cell_type": "code",
   "execution_count": 47,
   "id": "70334c8d",
   "metadata": {},
   "outputs": [],
   "source": [
    "def PCA(X , num_components):\n",
    "     \n",
    "    #Step-1\n",
    "    X_meaned = X - np.mean(X , axis = 0)\n",
    "     \n",
    "    #Step-2\n",
    "    cov_mat = np.cov(X_meaned , rowvar = False)\n",
    "     \n",
    "    #Step-3\n",
    "    eigen_values , eigen_vectors = np.linalg.eigh(cov_mat)\n",
    "     \n",
    "    #Step-4\n",
    "    sorted_index = np.argsort(eigen_values)[::-1]\n",
    "    sorted_eigenvalue = eigen_values[sorted_index]\n",
    "    sorted_eigenvectors = eigen_vectors[:,sorted_index]\n",
    "     \n",
    "    #Step-5\n",
    "    eigenvector_subset = sorted_eigenvectors[:,0:num_components]\n",
    "     \n",
    "    #Step-6\n",
    "    X_reduced = np.dot(eigenvector_subset.transpose() , X_meaned.transpose() ).transpose()\n",
    "     \n",
    "    return X_reduced"
   ]
  },
  {
   "cell_type": "code",
   "execution_count": 48,
   "id": "6d2334a4",
   "metadata": {},
   "outputs": [],
   "source": [
    "import pandas as pd\n",
    " \n",
    "#Get the IRIS dataset\n",
    "url = \"https://archive.ics.uci.edu/ml/machine-learning-databases/iris/iris.data\"\n",
    "data = pd.read_csv(url, names=['sepal length','sepal width','petal length','petal width','target'])\n",
    " \n",
    "#prepare the data\n",
    "x = data.iloc[:,0:4]\n",
    " \n",
    "#prepare the target\n",
    "target = data.iloc[:,4]\n",
    " \n",
    "#Applying it to PCA function\n",
    "mat_reduced = PCA(x , 2)\n",
    " \n",
    "#Creating a Pandas DataFrame of reduced Dataset\n",
    "principal_df = pd.DataFrame(mat_reduced , columns = ['PC1','PC2'])\n",
    " \n",
    "#Concat it with target variable to create a complete Dataset\n",
    "principal_df = pd.concat([principal_df , pd.DataFrame(target)] , axis = 1)"
   ]
  },
  {
   "cell_type": "markdown",
   "id": "cd0d9295",
   "metadata": {},
   "source": [
    "# Question 8 "
   ]
  },
  {
   "cell_type": "markdown",
   "id": "b3eef655",
   "metadata": {},
   "source": [
    "Solve the following system $$\\begin{pmatrix}\n",
    "1 &-1 & 1\\\\\n",
    "2 & 1 &-3\\\\\n",
    "1 & 1 & 1\n",
    "\\end{pmatrix}\\begin{pmatrix}\n",
    "x\\\\\n",
    "y\\\\\n",
    "z\n",
    "\\end{pmatrix} =\\begin{pmatrix}\n",
    "4\\\\\n",
    "0\\\\\n",
    "2\\\\\n",
    "\\end{pmatrix}$$"
   ]
  },
  {
   "cell_type": "code",
   "execution_count": 20,
   "id": "8e4fcbb4",
   "metadata": {},
   "outputs": [
    {
     "name": "stdout",
     "output_type": "stream",
     "text": [
      "[ 2. -1.  1.]\n"
     ]
    }
   ],
   "source": [
    "import numpy as np\n",
    "\n",
    "a = np.array([[1,-1,1], [2,1,-3],[1,1,1]])\n",
    "b = np.array([4,0,2])\n",
    "x = np.linalg.solve(a, b)\n",
    "\n",
    "print(x)"
   ]
  },
  {
   "cell_type": "code",
   "execution_count": null,
   "id": "f4b1f65a",
   "metadata": {},
   "outputs": [],
   "source": []
  }
 ],
 "metadata": {
  "kernelspec": {
   "display_name": "Python 3 (ipykernel)",
   "language": "python",
   "name": "python3"
  },
  "language_info": {
   "codemirror_mode": {
    "name": "ipython",
    "version": 3
   },
   "file_extension": ".py",
   "mimetype": "text/x-python",
   "name": "python",
   "nbconvert_exporter": "python",
   "pygments_lexer": "ipython3",
   "version": "3.10.6"
  }
 },
 "nbformat": 4,
 "nbformat_minor": 5
}
