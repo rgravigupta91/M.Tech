{
 "cells": [
  {
   "cell_type": "code",
   "execution_count": 6,
   "id": "97ea6325-8588-4c77-b903-410f2c52bda0",
   "metadata": {},
   "outputs": [],
   "source": [
    "import numpy as np\n",
    "import scipy.linalg as la"
   ]
  },
  {
   "cell_type": "markdown",
   "id": "3760044f-ac86-438f-b066-5a669becac63",
   "metadata": {},
   "source": [
    "# 1. Introduction to Linear Algebra"
   ]
  },
  {
   "cell_type": "markdown",
   "id": "c9c266de-4a79-43ca-b54d-4eccab2c8892",
   "metadata": {},
   "source": [
    "## Creation of Vectors"
   ]
  },
  {
   "cell_type": "markdown",
   "id": "3efd9efd-9ca4-4957-89c0-44a103b32390",
   "metadata": {},
   "source": [
    "1. Create a row vector and a column vector of natural numbers of size 6."
   ]
  },
  {
   "cell_type": "code",
   "execution_count": 7,
   "id": "e1977327-6ed3-4ec6-a3ef-be274410b9e8",
   "metadata": {},
   "outputs": [
    {
     "data": {
      "text/plain": [
       "array([1, 2, 3, 4, 5, 6])"
      ]
     },
     "execution_count": 7,
     "metadata": {},
     "output_type": "execute_result"
    }
   ],
   "source": [
    "x = np.array([1,2,3,4,5,6]) \n",
    "x"
   ]
  },
  {
   "cell_type": "markdown",
   "id": "80b1851d-9d8a-4664-8fe6-9a4e06087189",
   "metadata": {},
   "source": [
    "### Row Vector"
   ]
  },
  {
   "cell_type": "markdown",
   "id": "b99ff648-515a-4f16-9a9b-f48f3a787561",
   "metadata": {},
   "source": [
    "The shape and type of the vectors can be checked using array_name.shape and type(array_name)"
   ]
  },
  {
   "cell_type": "code",
   "execution_count": 8,
   "id": "12ec19ef-041f-47ac-ae7e-ea8e9c9d9e5c",
   "metadata": {},
   "outputs": [
    {
     "data": {
      "text/plain": [
       "(6,)"
      ]
     },
     "execution_count": 8,
     "metadata": {},
     "output_type": "execute_result"
    }
   ],
   "source": [
    "x.shape"
   ]
  },
  {
   "cell_type": "code",
   "execution_count": 9,
   "id": "9d4156c8-91df-4560-afd9-a4c837d21f83",
   "metadata": {},
   "outputs": [
    {
     "data": {
      "text/plain": [
       "numpy.ndarray"
      ]
     },
     "execution_count": 9,
     "metadata": {},
     "output_type": "execute_result"
    }
   ],
   "source": [
    "type(x)"
   ]
  },
  {
   "cell_type": "markdown",
   "id": "9e629f26-44e3-4e22-b27f-88f3908d55f2",
   "metadata": {},
   "source": [
    "### Column Vector"
   ]
  },
  {
   "cell_type": "markdown",
   "id": "4e9d5b1b-5c97-4fd4-82ce-3a2c9508ffc5",
   "metadata": {},
   "source": [
    "2. Create a 3 x 3 matrix of all zeros, all ones, all with a value of 5 and all with random values."
   ]
  },
  {
   "cell_type": "code",
   "execution_count": 10,
   "id": "8e94add9-e8da-49e5-9ff4-5379cf641379",
   "metadata": {},
   "outputs": [
    {
     "data": {
      "text/plain": [
       "array([[0., 0., 0.],\n",
       "       [0., 0., 0.],\n",
       "       [0., 0., 0.]])"
      ]
     },
     "execution_count": 10,
     "metadata": {},
     "output_type": "execute_result"
    }
   ],
   "source": [
    "# Zero Matrix\n",
    "M0 = np.zeros((3,3))\n",
    "M0"
   ]
  },
  {
   "cell_type": "code",
   "execution_count": 11,
   "id": "9db494e6-1c51-4169-b880-5a2893b91213",
   "metadata": {},
   "outputs": [
    {
     "data": {
      "text/plain": [
       "array([[1., 1., 1.],\n",
       "       [1., 1., 1.],\n",
       "       [1., 1., 1.]])"
      ]
     },
     "execution_count": 11,
     "metadata": {},
     "output_type": "execute_result"
    }
   ],
   "source": [
    "# Ones Matrix\n",
    "M1 = np.ones((3,3))\n",
    "M1"
   ]
  },
  {
   "cell_type": "code",
   "execution_count": 12,
   "id": "3175a9b5-0568-48d5-8547-a2b26a781696",
   "metadata": {},
   "outputs": [
    {
     "data": {
      "text/plain": [
       "array([[5, 5, 5],\n",
       "       [5, 5, 5],\n",
       "       [5, 5, 5]])"
      ]
     },
     "execution_count": 12,
     "metadata": {},
     "output_type": "execute_result"
    }
   ],
   "source": [
    "# Fives Matrix\n",
    "M5 = np.full((3,3),5)\n",
    "M5"
   ]
  },
  {
   "cell_type": "code",
   "execution_count": 15,
   "id": "9369f879-88a1-4a0d-9132-291b83f706a4",
   "metadata": {},
   "outputs": [
    {
     "data": {
      "text/plain": [
       "array([[0.33088307, 0.05966282, 0.57637287],\n",
       "       [0.40958344, 0.46544437, 0.8348561 ],\n",
       "       [0.46059383, 0.28925882, 0.28509114]])"
      ]
     },
     "execution_count": 15,
     "metadata": {},
     "output_type": "execute_result"
    }
   ],
   "source": [
    "#Random Matrix\n",
    "Random = np.random.rand(3,3)\n",
    "Random"
   ]
  },
  {
   "cell_type": "markdown",
   "id": "746cd170-6c79-41f0-a4ee-e98851a26a7f",
   "metadata": {},
   "source": [
    "3. a. Create a 3 x 2 matrix using an array of lists and print the type of the array.\n",
    "\n",
    "   b. Create a 2 x 5 matrix using an array of lists and print the type of the array."
   ]
  },
  {
   "cell_type": "code",
   "execution_count": 16,
   "id": "d0a8347c-8395-4374-b414-42f6f7c60610",
   "metadata": {},
   "outputs": [
    {
     "name": "stdout",
     "output_type": "stream",
     "text": [
      "[[1 2]\n",
      " [3 4]\n",
      " [5 6]]\n"
     ]
    },
    {
     "data": {
      "text/plain": [
       "numpy.ndarray"
      ]
     },
     "execution_count": 16,
     "metadata": {},
     "output_type": "execute_result"
    }
   ],
   "source": [
    "# 3x2 Matrix\n",
    "l1 = [[1,2],[3,4],[5,6]]\n",
    "mat_1 = np.array(l1)\n",
    "print(mat_1)\n",
    "type(mat_1)"
   ]
  },
  {
   "cell_type": "code",
   "execution_count": 17,
   "id": "54697cd2-f1e5-4ce7-aca8-5afbe40c59c4",
   "metadata": {},
   "outputs": [
    {
     "name": "stdout",
     "output_type": "stream",
     "text": [
      "[[1 2 3 4 5]\n",
      " [6 7 8 9 0]]\n"
     ]
    },
    {
     "data": {
      "text/plain": [
       "numpy.ndarray"
      ]
     },
     "execution_count": 17,
     "metadata": {},
     "output_type": "execute_result"
    }
   ],
   "source": [
    "l2 = [[1,2,3,4,5],[6,7,8,9,0]]\n",
    "mat_2 = np.array(l2)\n",
    "print(mat_2)\n",
    "type(mat_2)"
   ]
  },
  {
   "cell_type": "markdown",
   "id": "9ba8d54b-a711-4a14-9f50-63632f7f2e86",
   "metadata": {},
   "source": [
    "### Vector and Matrix Operations"
   ]
  },
  {
   "cell_type": "markdown",
   "id": "81830896-9e4f-4d4e-bebb-988cc875e77f",
   "metadata": {},
   "source": [
    "5. Perform addition, subtraction, multiplication and division of two matrices of size (3 x 3)"
   ]
  },
  {
   "cell_type": "code",
   "execution_count": 18,
   "id": "c596eba2-cb00-4b36-82f1-5d442aedb80d",
   "metadata": {},
   "outputs": [
    {
     "name": "stdout",
     "output_type": "stream",
     "text": [
      "[[138 152 100]\n",
      " [181 109 189]\n",
      " [110 150 152]]\n",
      "\n",
      "[[54 62 90]\n",
      " [57 64 89]\n",
      " [50 94 73]]\n"
     ]
    }
   ],
   "source": [
    "A = np.random.randint(100,200,size=(3,3))\n",
    "B = np.random.randint(50,100,size=(3,3))\n",
    "print(A)\n",
    "print()\n",
    "print(B)"
   ]
  },
  {
   "cell_type": "code",
   "execution_count": 19,
   "id": "ebb5afa0-fa96-461a-bcb2-9073c394a329",
   "metadata": {},
   "outputs": [
    {
     "data": {
      "text/plain": [
       "array([[192, 214, 190],\n",
       "       [238, 173, 278],\n",
       "       [160, 244, 225]])"
      ]
     },
     "execution_count": 19,
     "metadata": {},
     "output_type": "execute_result"
    }
   ],
   "source": [
    "# Addition\n",
    "A+B"
   ]
  },
  {
   "cell_type": "code",
   "execution_count": 20,
   "id": "f725811b-4020-4be4-a650-41ecd69b4ceb",
   "metadata": {},
   "outputs": [
    {
     "data": {
      "text/plain": [
       "array([[ 84,  90,  10],\n",
       "       [124,  45, 100],\n",
       "       [ 60,  56,  79]])"
      ]
     },
     "execution_count": 20,
     "metadata": {},
     "output_type": "execute_result"
    }
   ],
   "source": [
    "# Subtraction\n",
    "A-B"
   ]
  },
  {
   "cell_type": "code",
   "execution_count": 21,
   "id": "4d15bd96-e612-432a-a845-ce37c2673a02",
   "metadata": {},
   "outputs": [
    {
     "data": {
      "text/plain": [
       "array([[ 7452,  9424,  9000],\n",
       "       [10317,  6976, 16821],\n",
       "       [ 5500, 14100, 11096]])"
      ]
     },
     "execution_count": 21,
     "metadata": {},
     "output_type": "execute_result"
    }
   ],
   "source": [
    "#Multiplication\n",
    "A*B"
   ]
  },
  {
   "cell_type": "code",
   "execution_count": 22,
   "id": "7f96b82c-2a7a-4484-9945-1bbb03420bcc",
   "metadata": {},
   "outputs": [
    {
     "data": {
      "text/plain": [
       "array([[2.55555556, 2.4516129 , 1.11111111],\n",
       "       [3.1754386 , 1.703125  , 2.12359551],\n",
       "       [2.2       , 1.59574468, 2.08219178]])"
      ]
     },
     "execution_count": 22,
     "metadata": {},
     "output_type": "execute_result"
    }
   ],
   "source": [
    "# Division\n",
    "A/B"
   ]
  },
  {
   "cell_type": "markdown",
   "id": "f521e4ca-38fa-49b7-b353-709541b78842",
   "metadata": {},
   "source": [
    "### Dot Product"
   ]
  },
  {
   "cell_type": "markdown",
   "id": "6c72d202-025e-40d7-852f-2094e00bd451",
   "metadata": {},
   "source": [
    "6. Find the dot product of the matrices created above."
   ]
  },
  {
   "cell_type": "code",
   "execution_count": 23,
   "id": "1f811231-41c5-4b9e-8a29-d14fa2925639",
   "metadata": {},
   "outputs": [
    {
     "data": {
      "text/plain": [
       "array([[21116, 27684, 33248],\n",
       "       [25437, 35964, 39788],\n",
       "       [22090, 30708, 34346]])"
      ]
     },
     "execution_count": 23,
     "metadata": {},
     "output_type": "execute_result"
    }
   ],
   "source": [
    "np.dot(A,B)"
   ]
  },
  {
   "cell_type": "markdown",
   "id": "8d8c1240-9dd7-45f9-8812-a19a780f35e2",
   "metadata": {},
   "source": [
    "### Scalar and Vector Projections"
   ]
  },
  {
   "cell_type": "code",
   "execution_count": 25,
   "id": "b403af6b-d5ba-4ef7-aa19-3c992fcbc62e",
   "metadata": {},
   "outputs": [
    {
     "name": "stdout",
     "output_type": "stream",
     "text": [
      "[8 6] [ 1 -7]\n"
     ]
    }
   ],
   "source": [
    "u = np.array([8,6])\n",
    "v = np.array([1,-7])\n",
    "print(u,v)"
   ]
  },
  {
   "cell_type": "code",
   "execution_count": 26,
   "id": "45943a63-0970-45ac-baa5-ea1365381b15",
   "metadata": {},
   "outputs": [
    {
     "name": "stdout",
     "output_type": "stream",
     "text": [
      "Scalar projection of vector 8i+6j on vector i-7j is -4.808326112068523\n"
     ]
    }
   ],
   "source": [
    "Scalar = np.dot(u,v)/np.linalg.norm(v)\n",
    "print('Scalar projection of vector 8i+6j on vector i-7j is', Scalar)"
   ]
  },
  {
   "cell_type": "code",
   "execution_count": 27,
   "id": "75eb96c2-5921-4e7e-8461-4e92df94666d",
   "metadata": {},
   "outputs": [
    {
     "name": "stdout",
     "output_type": "stream",
     "text": [
      "Vector projection of vector 8i+6j on vector i-7j is [-0.68  4.76]\n"
     ]
    }
   ],
   "source": [
    "Vector = (v*Scalar)/np.linalg.norm(v)\n",
    "print('Vector projection of vector 8i+6j on vector i-7j is', Vector)"
   ]
  },
  {
   "cell_type": "markdown",
   "id": "12480b70-4f0e-41bd-a8a2-613415f252cd",
   "metadata": {},
   "source": [
    "### Transpose of a matrix"
   ]
  },
  {
   "cell_type": "markdown",
   "id": "2a99efce-0cd1-4a18-8046-687cb60578e2",
   "metadata": {},
   "source": [
    "8. Create the traspose of the 3*3 matrix created above"
   ]
  },
  {
   "cell_type": "code",
   "execution_count": 29,
   "id": "a3184975-e342-4ed4-a0e1-a9d423799517",
   "metadata": {},
   "outputs": [
    {
     "name": "stdout",
     "output_type": "stream",
     "text": [
      "[[138 152 100]\n",
      " [181 109 189]\n",
      " [110 150 152]]\n"
     ]
    },
    {
     "data": {
      "text/plain": [
       "array([[138, 181, 110],\n",
       "       [152, 109, 150],\n",
       "       [100, 189, 152]])"
      ]
     },
     "execution_count": 29,
     "metadata": {},
     "output_type": "execute_result"
    }
   ],
   "source": [
    "print(A)\n",
    "np.transpose(A)"
   ]
  },
  {
   "cell_type": "markdown",
   "id": "b6179c0c-ebf4-4466-bf6a-54b1523357e8",
   "metadata": {},
   "source": [
    "### Identity Matrix"
   ]
  },
  {
   "cell_type": "markdown",
   "id": "45173a0e-0479-4e97-844f-cf34b65c09aa",
   "metadata": {},
   "source": [
    "9. create a 3*3 identity matrix"
   ]
  },
  {
   "cell_type": "code",
   "execution_count": 30,
   "id": "fb11086e-8362-4cc0-a0de-cc5a71333472",
   "metadata": {},
   "outputs": [
    {
     "data": {
      "text/plain": [
       "array([[1., 0., 0.],\n",
       "       [0., 1., 0.],\n",
       "       [0., 0., 1.]])"
      ]
     },
     "execution_count": 30,
     "metadata": {},
     "output_type": "execute_result"
    }
   ],
   "source": [
    "np.identity(3)"
   ]
  },
  {
   "cell_type": "markdown",
   "id": "24ff4dd4-83d1-4636-ab85-764c8ab7ea75",
   "metadata": {},
   "source": [
    "### Types of matrices"
   ]
  },
  {
   "cell_type": "markdown",
   "id": "c16dc918-9c91-4e36-a2a4-de81b787252e",
   "metadata": {},
   "source": [
    "10. Create a square matrix of sixe 3x3 and print\n",
    "    \n",
    "    a. upper triangular matrix\n",
    "    \n",
    "    b. lower triangular matrix\n",
    "    \n",
    "    c. diagonal matrix"
   ]
  },
  {
   "cell_type": "code",
   "execution_count": 31,
   "id": "080efc1c-2f25-404a-8d2b-005e7e4c99bb",
   "metadata": {},
   "outputs": [
    {
     "name": "stdout",
     "output_type": "stream",
     "text": [
      "[[138 152 100]\n",
      " [181 109 189]\n",
      " [110 150 152]]\n"
     ]
    },
    {
     "data": {
      "text/plain": [
       "array([[138,   0,   0],\n",
       "       [181, 109,   0],\n",
       "       [110, 150, 152]])"
      ]
     },
     "execution_count": 31,
     "metadata": {},
     "output_type": "execute_result"
    }
   ],
   "source": [
    "print(A)\n",
    "lower = np.tril(A)\n",
    "lower"
   ]
  },
  {
   "cell_type": "code",
   "execution_count": 32,
   "id": "1a514b26-20dd-4053-bb00-8171b55c0031",
   "metadata": {},
   "outputs": [
    {
     "name": "stdout",
     "output_type": "stream",
     "text": [
      "[[138 152 100]\n",
      " [181 109 189]\n",
      " [110 150 152]]\n"
     ]
    },
    {
     "data": {
      "text/plain": [
       "array([[138, 152, 100],\n",
       "       [  0, 109, 189],\n",
       "       [  0,   0, 152]])"
      ]
     },
     "execution_count": 32,
     "metadata": {},
     "output_type": "execute_result"
    }
   ],
   "source": [
    "print(A)\n",
    "upper = np.triu(A)\n",
    "upper"
   ]
  },
  {
   "cell_type": "code",
   "execution_count": 33,
   "id": "08b1823b-f8bc-43d5-8b3f-f2a542a75715",
   "metadata": {},
   "outputs": [
    {
     "name": "stdout",
     "output_type": "stream",
     "text": [
      "[[138 152 100]\n",
      " [181 109 189]\n",
      " [110 150 152]]\n"
     ]
    },
    {
     "data": {
      "text/plain": [
       "array([138, 109, 152])"
      ]
     },
     "execution_count": 33,
     "metadata": {},
     "output_type": "execute_result"
    }
   ],
   "source": [
    "print(A)\n",
    "diag = np.diag(A)\n",
    "diag"
   ]
  },
  {
   "cell_type": "markdown",
   "id": "7c94998b-21c6-4331-bade-c73ecbd47c95",
   "metadata": {},
   "source": [
    "### 2. Linear Transformations"
   ]
  },
  {
   "cell_type": "code",
   "execution_count": 34,
   "id": "18e649f8-c5b6-4e96-a2bd-371c3ad2234a",
   "metadata": {},
   "outputs": [],
   "source": [
    "import matplotlib.pyplot as plt"
   ]
  },
  {
   "cell_type": "code",
   "execution_count": 44,
   "id": "9b72b3bf-58c2-4297-95f6-9d38279f0ace",
   "metadata": {},
   "outputs": [],
   "source": [
    "def get_grid(x, y, homogenous=False):\n",
    "    coords = np.indices((x, y)).reshape(2, -1)\n",
    "    return np.vstack((coords, np.ones(coords.shape[1]))).astype(int) if homogenous else coords\n",
    "\n",
    "def grid_plotter(points, labels):\n",
    "    markers = ['o', 'x', 's', '^', 'p', 'v']\n",
    "    fig, ax = plt.subplots(figsize=(8,6))\n",
    "    for i, p in enumerate(points):\n",
    "        x, y = p[0], p[1]\n",
    "        ax.scatter(x, y, label=labels[i], marker=markers[i], alpha=0.8, s=100)\n",
    "    ax.legend(loc='lower right')\n",
    "    ax.set_xlim(-5, 5)\n",
    "    ax.set_ylim(-5, 5)\n",
    "\n",
    "    ax.grid(True)\n",
    "    plt.show()\n",
    "\n",
    "def get_rotation(angle):\n",
    "    angle = np.radians(angle)\n",
    "    return np.array([\n",
    "        [np.cos(angle), -np.sin(angle), 0],\n",
    "        [np.sin(angle),  np.cos(angle), 0],\n",
    "        [0, 0, 1]\n",
    "    ])\n",
    "\n",
    "\n",
    "def get_scale(s):\n",
    "    return np.array([\n",
    "        [s, 0, 0],\n",
    "        [0, s, 0],\n",
    "        [0, 0, 1]\n",
    "    ])"
   ]
  },
  {
   "cell_type": "code",
   "execution_count": 45,
   "id": "65e7a324-05cd-4bb5-96ae-3ebe9840b0e5",
   "metadata": {},
   "outputs": [],
   "source": [
    "R1 = get_rotation(50)\n",
    "S1 = get_scale(2)"
   ]
  },
  {
   "cell_type": "code",
   "execution_count": 46,
   "id": "9ea5e9be-ffe7-4fd6-ba4a-ce336b666bfc",
   "metadata": {},
   "outputs": [
    {
     "data": {
      "image/png": "[encoded data removed]",
      "text/plain": [
       "<Figure size 800x600 with 1 Axes>"
      ]
     },
     "metadata": {},
     "output_type": "display_data"
    }
   ],
   "source": [
    "# Get sample coordinates\n",
    "coords = get_grid(2, 2, homogenous=True)\n",
    "\n",
    "# Apply transformation\n",
    "coords_rot = R1 @ coords\n",
    "coords_scale = S1 @ coords\n",
    "\n",
    "coords_composite1 = R1 @ S1 @ coords\n",
    "\n",
    "grid_plotter([coords, coords_rot, coords_scale, coords_composite1],\n",
    "             labels=['original', 'rotate135', 'scale(2)', 'rotate(50), scale(4)'])"
   ]
  },
  {
   "cell_type": "markdown",
   "id": "68b864c7-1d22-4c99-b190-77b2519ed0f7",
   "metadata": {},
   "source": [
    "### Matrix Operations"
   ]
  },
  {
   "cell_type": "markdown",
   "id": "914e1766-3726-4912-9c05-e064d5a21b81",
   "metadata": {},
   "source": [
    "2. For the given matrix A, find\n",
    "    - Determinant\n",
    "    - Rank\n",
    "    - inverse\n",
    "    - Eigen value"
   ]
  },
  {
   "cell_type": "code",
   "execution_count": 48,
   "id": "176a4681-2e6b-4fc5-bc44-5d347e09a410",
   "metadata": {},
   "outputs": [
    {
     "name": "stdout",
     "output_type": "stream",
     "text": [
      "[[22 32 13]\n",
      " [14  5 16]\n",
      " [19 18 15]]\n"
     ]
    }
   ],
   "source": [
    "# define matrix\n",
    "A = np.array([\n",
    "[22, 32, 13],\n",
    "[14, 5, 16],\n",
    "[19, 18, 15]])\n",
    "\n",
    "print(A)"
   ]
  },
  {
   "cell_type": "code",
   "execution_count": 51,
   "id": "f8389c29-d25c-4747-9a93-fc87bcb521d3",
   "metadata": {},
   "outputs": [
    {
     "data": {
      "text/plain": [
       "363.0000000000002"
      ]
     },
     "execution_count": 51,
     "metadata": {},
     "output_type": "execute_result"
    }
   ],
   "source": [
    "#Determinant\n",
    "np.linalg.det(A)"
   ]
  },
  {
   "cell_type": "code",
   "execution_count": 52,
   "id": "32d6e791-356a-40e8-a565-2e07ad223c25",
   "metadata": {},
   "outputs": [
    {
     "name": "stdout",
     "output_type": "stream",
     "text": [
      "3\n"
     ]
    }
   ],
   "source": [
    "#Rank\n",
    "print(np.linalg.matrix_rank(A))"
   ]
  },
  {
   "cell_type": "code",
   "execution_count": 53,
   "id": "50cc061c-2a50-49c1-8308-db2f2955d8ce",
   "metadata": {},
   "outputs": [
    {
     "data": {
      "text/plain": [
       "array([[-0.58677686, -0.67768595,  1.23140496],\n",
       "       [ 0.25895317,  0.22865014, -0.46831956],\n",
       "       [ 0.43250689,  0.58402204, -0.93112948]])"
      ]
     },
     "execution_count": 53,
     "metadata": {},
     "output_type": "execute_result"
    }
   ],
   "source": [
    "#Inverse\n",
    "np.linalg.inv(A)"
   ]
  },
  {
   "cell_type": "code",
   "execution_count": 54,
   "id": "8ed5ca4d-5c7c-47ac-a7bb-21bcad206fbc",
   "metadata": {},
   "outputs": [
    {
     "data": {
      "text/plain": [
       "array([51.26682346+0.j, -0.84027296+0.j, -8.4265505 +0.j])"
      ]
     },
     "execution_count": 54,
     "metadata": {},
     "output_type": "execute_result"
    }
   ],
   "source": [
    "# Eigen_value, Eigen_vector\n",
    "eigen_value,eigen_vector = la.eig(A)\n",
    "eigen_value"
   ]
  },
  {
   "cell_type": "code",
   "execution_count": 56,
   "id": "919fd934-1a82-4f31-a572-9a878d9b951b",
   "metadata": {},
   "outputs": [
    {
     "data": {
      "text/plain": [
       "array([[-0.70653376, -0.76754065,  0.73929283],\n",
       "       [-0.4126179 ,  0.32288148, -0.66780726],\n",
       "       [-0.57494045,  0.55374082, -0.08648448]])"
      ]
     },
     "execution_count": 56,
     "metadata": {},
     "output_type": "execute_result"
    }
   ],
   "source": [
    "eigen_vector"
   ]
  },
  {
   "cell_type": "markdown",
   "id": "4ac2f8b5-319f-4d28-bf76-edfa288f4ad3",
   "metadata": {},
   "source": [
    "3. Convert the following matrix to an orthogonal matrix using Gram Schmidt Process."
   ]
  },
  {
   "cell_type": "code",
   "execution_count": 57,
   "id": "f0af3301-8be9-4369-b5bb-300fddec0f3d",
   "metadata": {},
   "outputs": [
    {
     "data": {
      "text/plain": [
       "array([[9, 8, 7],\n",
       "       [6, 5, 4],\n",
       "       [3, 2, 1]])"
      ]
     },
     "execution_count": 57,
     "metadata": {},
     "output_type": "execute_result"
    }
   ],
   "source": [
    "A = np.array([[9,8,7], [6,5,4], [3,2,1]])\n",
    "A"
   ]
  },
  {
   "cell_type": "code",
   "execution_count": 58,
   "id": "b3c5e120-7008-440f-b60d-a3d7c93f201e",
   "metadata": {},
   "outputs": [
    {
     "data": {
      "text/plain": [
       "array([[-0.80178373,  0.43643578,  0.40824829],\n",
       "       [-0.53452248, -0.21821789, -0.81649658],\n",
       "       [-0.26726124, -0.87287156,  0.40824829]])"
      ]
     },
     "execution_count": 58,
     "metadata": {},
     "output_type": "execute_result"
    }
   ],
   "source": [
    "Q, R = np.linalg.qr(A)\n",
    "Q"
   ]
  },
  {
   "cell_type": "code",
   "execution_count": 59,
   "id": "e0f297ed-e7a7-4b15-bde0-e3ec5d3ebf7e",
   "metadata": {},
   "outputs": [
    {
     "data": {
      "text/plain": [
       "1.0000000000000004"
      ]
     },
     "execution_count": 59,
     "metadata": {},
     "output_type": "execute_result"
    }
   ],
   "source": [
    "np.linalg.det(Q)"
   ]
  },
  {
   "cell_type": "code",
   "execution_count": 63,
   "id": "7cf0f0e8-c756-427c-9863-4bd73531aef2",
   "metadata": {},
   "outputs": [
    {
     "name": "stdout",
     "output_type": "stream",
     "text": [
      "Orthogonal\n"
     ]
    }
   ],
   "source": [
    "if np.allclose(np.dot(Q,Q.T), np.identity(3)):\n",
    "    print(\"Orthogonal\")"
   ]
  },
  {
   "cell_type": "markdown",
   "id": "fc42aa5e-02ef-451b-9ab3-a720804bcb1f",
   "metadata": {},
   "source": [
    "### 3. Linear Algebra for ML Linear Regression & Image Processing"
   ]
  },
  {
   "cell_type": "code",
   "execution_count": null,
   "id": "25c72c8f-e99e-4bf7-bea6-b11536723d38",
   "metadata": {},
   "outputs": [],
   "source": []
  },
  {
   "cell_type": "code",
   "execution_count": null,
   "id": "50ef8594-06b1-4531-9161-d2d235eb99c7",
   "metadata": {},
   "outputs": [],
   "source": []
  },
  {
   "cell_type": "code",
   "execution_count": null,
   "id": "d3072534-bd7b-49f9-abe4-615fd94f3207",
   "metadata": {},
   "outputs": [],
   "source": []
  },
  {
   "cell_type": "code",
   "execution_count": null,
   "id": "2824a482-38d1-4bc9-a37a-507a7a31c865",
   "metadata": {},
   "outputs": [],
   "source": []
  },
  {
   "cell_type": "code",
   "execution_count": null,
   "id": "8e80fe95-248b-41a9-943e-771c5740fa4f",
   "metadata": {},
   "outputs": [],
   "source": []
  },
  {
   "cell_type": "markdown",
   "id": "d9da6770-6ec9-43e0-8563-9c5b258f87a2",
   "metadata": {},
   "source": [
    "### 4. Linear Algebra Applications"
   ]
  },
  {
   "cell_type": "code",
   "execution_count": null,
   "id": "b5de3776-18ee-4b1d-acff-c7eade372990",
   "metadata": {},
   "outputs": [],
   "source": []
  },
  {
   "cell_type": "code",
   "execution_count": null,
   "id": "23e68177-e2c8-407f-b32e-03f008b80142",
   "metadata": {},
   "outputs": [],
   "source": []
  },
  {
   "cell_type": "code",
   "execution_count": null,
   "id": "623507e7-a028-4194-913e-9e75b79fd2b6",
   "metadata": {},
   "outputs": [],
   "source": []
  },
  {
   "cell_type": "code",
   "execution_count": null,
   "id": "0713a666-c418-43a1-80ac-f68d1fafdb54",
   "metadata": {},
   "outputs": [],
   "source": []
  },
  {
   "cell_type": "code",
   "execution_count": null,
   "id": "dcae86b1-62d8-405e-8b1e-08c81ce3c46a",
   "metadata": {},
   "outputs": [],
   "source": []
  },
  {
   "cell_type": "markdown",
   "id": "d6d538e5-3fae-4372-9758-dbd14c8e390e",
   "metadata": {},
   "source": [
    "### 5. Functions and its Derivatives"
   ]
  },
  {
   "cell_type": "code",
   "execution_count": null,
   "id": "a62b7cb2-cf86-49e2-a112-a3e5bda6f4b9",
   "metadata": {},
   "outputs": [],
   "source": []
  },
  {
   "cell_type": "code",
   "execution_count": null,
   "id": "94eac4b6-c467-4068-89a7-79862508e5bc",
   "metadata": {},
   "outputs": [],
   "source": []
  },
  {
   "cell_type": "code",
   "execution_count": null,
   "id": "eaab7dc0-dd58-4291-bd0c-d8f1da4f264e",
   "metadata": {},
   "outputs": [],
   "source": []
  },
  {
   "cell_type": "code",
   "execution_count": null,
   "id": "c62cbfb5-2ae3-42bd-97f8-144410d26956",
   "metadata": {},
   "outputs": [],
   "source": []
  },
  {
   "cell_type": "code",
   "execution_count": null,
   "id": "84dd16e3-6c2f-42b2-aaf6-891080284f4d",
   "metadata": {},
   "outputs": [],
   "source": []
  },
  {
   "cell_type": "markdown",
   "id": "dc9116c5-eee0-4fd2-8038-d0b3ee3616c8",
   "metadata": {},
   "source": [
    "### 6. Function Optimizations"
   ]
  },
  {
   "cell_type": "code",
   "execution_count": null,
   "id": "9816e8fb-77f0-4f41-942f-23ab2a262940",
   "metadata": {},
   "outputs": [],
   "source": []
  },
  {
   "cell_type": "code",
   "execution_count": null,
   "id": "c7868869-bac6-4d0f-b3fc-bd41fe187254",
   "metadata": {},
   "outputs": [],
   "source": []
  },
  {
   "cell_type": "code",
   "execution_count": null,
   "id": "5fcfb306-76da-4c84-9ea7-06dc71c23827",
   "metadata": {},
   "outputs": [],
   "source": []
  },
  {
   "cell_type": "code",
   "execution_count": null,
   "id": "f0186e7b-182f-4f9c-a74a-16c822573777",
   "metadata": {},
   "outputs": [],
   "source": []
  },
  {
   "cell_type": "code",
   "execution_count": null,
   "id": "97b0ea01-fb39-46c6-a32a-e97faf920cf2",
   "metadata": {},
   "outputs": [],
   "source": []
  }
 ],
 "metadata": {
  "kernelspec": {
   "display_name": "Python 3 (ipykernel)",
   "language": "python",
   "name": "python3"
  },
  "language_info": {
   "codemirror_mode": {
    "name": "ipython",
    "version": 3
   },
   "file_extension": ".py",
   "mimetype": "text/x-python",
   "name": "python",
   "nbconvert_exporter": "python",
   "pygments_lexer": "ipython3",
   "version": "3.11.7"
  }
 },
 "nbformat": 4,
 "nbformat_minor": 5
}
