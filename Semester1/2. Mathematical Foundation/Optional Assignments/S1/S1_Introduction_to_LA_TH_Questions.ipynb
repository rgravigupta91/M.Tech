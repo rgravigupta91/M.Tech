{
 "cells": [
  {
   "cell_type": "code",
   "execution_count": null,
   "metadata": {
    "colab": {},
    "colab_type": "code",
    "id": "iakMxQQ1ZZQK"
   },
   "outputs": [],
   "source": [
    "import numpy as np\n",
    "import scipy.linalg as la\n",
    "\n"
   ]
  },
  {
   "cell_type": "markdown",
   "metadata": {
    "colab_type": "text",
    "id": "4oIzWeCArwS3"
   },
   "source": [
    "### Creation of Vectors and Matrices"
   ]
  },
  {
   "cell_type": "markdown",
   "metadata": {
    "colab_type": "text",
    "id": "vgzUew69ZZQR"
   },
   "source": [
    "1. Create a row vector and a column vector of natural numbers of size 6."
   ]
  },
  {
   "cell_type": "markdown",
   "metadata": {
    "colab_type": "text",
    "id": "cj4vNeROGlvJ"
   },
   "source": [
    "### Row Vector"
   ]
  },
  {
   "cell_type": "markdown",
   "metadata": {
    "colab_type": "text",
    "id": "KZIbNObwHAw1"
   },
   "source": [
    "The shape and type of the vectors can be checked using array_name.shape and type(array_name)"
   ]
  },
  {
   "cell_type": "markdown",
   "metadata": {
    "colab_type": "text",
    "id": "osTUfbw6GrTX"
   },
   "source": [
    "### Column Vector"
   ]
  },
  {
   "cell_type": "markdown",
   "metadata": {
    "colab_type": "text",
    "id": "vYcnCH-6KXcW"
   },
   "source": [
    "2. Create a 3 x 3 matrix of all zeros, all ones, all with a value of 5 and all with random values."
   ]
  },
  {
   "cell_type": "markdown",
   "metadata": {
    "colab_type": "text",
    "id": "qN8tKoP7sm04"
   },
   "source": [
    "3. a. Create a 3 x 2 matrix using an array of lists and print the type of the array.\n",
    "\n",
    "   b. Create a 2 x 5 matrix using an array of lists and print the type of the array."
   ]
  },
  {
   "cell_type": "markdown",
   "metadata": {
    "colab_type": "text",
    "id": "-G6Iz7NcZZQ-"
   },
   "source": [
    "# Vector and Matrix Operations \n"
   ]
  },
  {
   "cell_type": "markdown",
   "metadata": {
    "colab_type": "text",
    "id": "_XuNsCzL8yl6"
   },
   "source": [
    "4. Find the magnitude/ L1 and L2 norm of the vector [2,3] and state which has has a highest value.\n"
   ]
  },
  {
   "cell_type": "markdown",
   "metadata": {
    "colab_type": "text",
    "id": "1rcWih_Qhiv4"
   },
   "source": [
    "## Vector and Matrix Arithmetic \n",
    "\n",
    "5. Perform addition, subtraction, multiplication and division of two matrices of size (3 x 3)"
   ]
  },
  {
   "cell_type": "markdown",
   "metadata": {
    "colab_type": "text",
    "id": "7594kF6JhheC"
   },
   "source": [
    "## Dot product\n",
    "\n",
    "6. Find the dot product of the matrices created above."
   ]
  },
  {
   "cell_type": "markdown",
   "metadata": {
    "colab_type": "text",
    "id": "u_PcuU0lFJfG"
   },
   "source": [
    "### Scalar and Vector Projections\n",
    "7. Find the scalar and vector projections of the vector  u = 8i + 6j on vector v = i - 7j\n"
   ]
  },
  {
   "cell_type": "markdown",
   "metadata": {
    "colab_type": "text",
    "id": "Lk_VxyBbMabM"
   },
   "source": [
    "#### Transpose of a matrix"
   ]
  },
  {
   "cell_type": "markdown",
   "metadata": {
    "colab_type": "text",
    "id": "zW_L-w_XCv29"
   },
   "source": [
    "8. Create the transpose of the 3*3 matrix created above. "
   ]
  },
  {
   "cell_type": "markdown",
   "metadata": {
    "colab_type": "text",
    "id": "2JO_pPhndZVx"
   },
   "source": [
    "The matrix changes shape such that the rows become columns and columns become rows."
   ]
  },
  {
   "cell_type": "markdown",
   "metadata": {
    "colab_type": "text",
    "id": "eArOydbNls78"
   },
   "source": [
    "### Identity Matrix"
   ]
  },
  {
   "cell_type": "markdown",
   "metadata": {
    "colab_type": "text",
    "id": "5bTt_mWdCv2_"
   },
   "source": [
    "9. Create a 3*3 identity matrix."
   ]
  },
  {
   "cell_type": "code",
   "execution_count": null,
   "metadata": {
    "colab": {},
    "colab_type": "code",
    "id": "RPvay0XK7Mpy"
   },
   "outputs": [],
   "source": []
  },
  {
   "cell_type": "markdown",
   "metadata": {
    "colab_type": "text",
    "id": "ScrG-NpCwL-5"
   },
   "source": [
    "## Types of Matrices"
   ]
  },
  {
   "cell_type": "markdown",
   "metadata": {
    "colab_type": "text",
    "id": "KoF-vbqHCv3D"
   },
   "source": [
    "10. Create a square matrix of size 3x3 and print \n",
    "a. upper triangular matrix\n",
    "b. lower triangular matrix\n",
    "c. diagonal matrix\n",
    "\n"
   ]
  },
  {
   "cell_type": "code",
   "execution_count": null,
   "metadata": {
    "colab": {},
    "colab_type": "code",
    "id": "Rtuwo6PV7TVv"
   },
   "outputs": [],
   "source": []
  }
 ],
 "metadata": {
  "anaconda-cloud": {},
  "colab": {
   "collapsed_sections": [],
   "name": "S0_Introduction_to_Linear_Algebra_TH_Questions1 (1)-1.ipynb",
   "provenance": []
  },
  "kernelspec": {
   "display_name": "Python 3 (ipykernel)",
   "language": "python",
   "name": "python3"
  },
  "language_info": {
   "codemirror_mode": {
    "name": "ipython",
    "version": 3
   },
   "file_extension": ".py",
   "mimetype": "text/x-python",
   "name": "python",
   "nbconvert_exporter": "python",
   "pygments_lexer": "ipython3",
   "version": "3.12.0"
  }
 },
 "nbformat": 4,
 "nbformat_minor": 4
}
