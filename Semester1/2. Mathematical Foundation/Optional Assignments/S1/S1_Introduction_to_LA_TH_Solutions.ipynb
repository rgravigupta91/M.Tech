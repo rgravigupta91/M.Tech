{
 "cells": [
  {
   "cell_type": "code",
   "execution_count": null,
   "metadata": {
    "colab": {},
    "colab_type": "code",
    "id": "iakMxQQ1ZZQK"
   },
   "outputs": [],
   "source": [
    "import numpy as np\n",
    "import scipy.linalg as la\n",
    "\n"
   ]
  },
  {
   "cell_type": "markdown",
   "metadata": {
    "colab_type": "text",
    "id": "4oIzWeCArwS3"
   },
   "source": [
    "### Creation of Vectors and Matrices"
   ]
  },
  {
   "cell_type": "markdown",
   "metadata": {
    "colab_type": "text",
    "id": "vgzUew69ZZQR"
   },
   "source": [
    "1. Create a row vector and a column vector of natural numbers of size 6."
   ]
  },
  {
   "cell_type": "code",
   "execution_count": null,
   "metadata": {
    "colab": {},
    "colab_type": "code",
    "id": "7P1yMuCGDddU",
    "outputId": "47ba8df9-f0d0-4bc4-a429-52cf01bebdc8"
   },
   "outputs": [
    {
     "data": {
      "text/plain": [
       "array([1, 2, 3, 4, 5, 6])"
      ]
     },
     "execution_count": 3,
     "metadata": {
      "tags": []
     },
     "output_type": "execute_result"
    }
   ],
   "source": [
    "x = np.array([1,2,3,4,5,6])\n",
    "x"
   ]
  },
  {
   "cell_type": "markdown",
   "metadata": {
    "colab_type": "text",
    "id": "cj4vNeROGlvJ"
   },
   "source": [
    "### Row Vector"
   ]
  },
  {
   "cell_type": "markdown",
   "metadata": {
    "colab_type": "text",
    "id": "KZIbNObwHAw1"
   },
   "source": [
    "The shape and type of the vectors can be checked using array_name.shape and type(array_name)"
   ]
  },
  {
   "cell_type": "code",
   "execution_count": null,
   "metadata": {
    "colab": {},
    "colab_type": "code",
    "id": "Lpw8qmaPDddZ",
    "outputId": "a3acf042-1ee4-4ab8-de74-0723197345d6"
   },
   "outputs": [
    {
     "data": {
      "text/plain": [
       "(6,)"
      ]
     },
     "execution_count": 4,
     "metadata": {
      "tags": []
     },
     "output_type": "execute_result"
    }
   ],
   "source": [
    "x.shape"
   ]
  },
  {
   "cell_type": "code",
   "execution_count": null,
   "metadata": {
    "colab": {},
    "colab_type": "code",
    "id": "jssyJqEhDddb",
    "outputId": "b43bf748-a0da-448e-aa9b-1802c4a414b2"
   },
   "outputs": [
    {
     "data": {
      "text/plain": [
       "numpy.ndarray"
      ]
     },
     "execution_count": 8,
     "metadata": {
      "tags": []
     },
     "output_type": "execute_result"
    }
   ],
   "source": [
    "type(x)"
   ]
  },
  {
   "cell_type": "markdown",
   "metadata": {
    "colab_type": "text",
    "id": "osTUfbw6GrTX"
   },
   "source": [
    "### Column Vector"
   ]
  },
  {
   "cell_type": "markdown",
   "metadata": {
    "colab_type": "text",
    "id": "vYcnCH-6KXcW"
   },
   "source": [
    "2. Create a 3 x 3 matrix of all zeros, all ones, all with a value of 5 and all with random values."
   ]
  },
  {
   "cell_type": "code",
   "execution_count": null,
   "metadata": {
    "colab": {},
    "colab_type": "code",
    "id": "CNpA2eIQDddg",
    "outputId": "d9e2d85c-f86b-459c-d075-94fc97884268"
   },
   "outputs": [
    {
     "data": {
      "text/plain": [
       "array([[0., 0., 0.],\n",
       "       [0., 0., 0.],\n",
       "       [0., 0., 0.]])"
      ]
     },
     "execution_count": 10,
     "metadata": {
      "tags": []
     },
     "output_type": "execute_result"
    }
   ],
   "source": [
    "#Zero_matrix\n",
    "zero = np.zeros((3,3))\n",
    "zero"
   ]
  },
  {
   "cell_type": "code",
   "execution_count": null,
   "metadata": {
    "colab": {},
    "colab_type": "code",
    "id": "ahS55wwmDddj",
    "outputId": "f41b2c28-9128-486e-fc8d-b92a8628276f"
   },
   "outputs": [
    {
     "data": {
      "text/plain": [
       "array([[1., 1., 1.],\n",
       "       [1., 1., 1.],\n",
       "       [1., 1., 1.]])"
      ]
     },
     "execution_count": 12,
     "metadata": {
      "tags": []
     },
     "output_type": "execute_result"
    }
   ],
   "source": [
    "#Ones_matrix\n",
    "ones = np.ones((3,3))\n",
    "ones"
   ]
  },
  {
   "cell_type": "code",
   "execution_count": null,
   "metadata": {
    "colab": {},
    "colab_type": "code",
    "id": "hyDoHBjIDddm",
    "outputId": "5a0a1388-38ef-4278-b7df-9d5ea62a882e"
   },
   "outputs": [
    {
     "data": {
      "text/plain": [
       "array([[5, 5, 5],\n",
       "       [5, 5, 5],\n",
       "       [5, 5, 5]])"
      ]
     },
     "execution_count": 13,
     "metadata": {
      "tags": []
     },
     "output_type": "execute_result"
    }
   ],
   "source": [
    "#Matrix_with_value_5\n",
    "fives = np.full((3,3),5)\n",
    "fives"
   ]
  },
  {
   "cell_type": "code",
   "execution_count": null,
   "metadata": {
    "colab": {},
    "colab_type": "code",
    "id": "UklRyKvUDddp",
    "outputId": "4e062dd3-f286-42d0-8785-d474a7cc8fca"
   },
   "outputs": [
    {
     "data": {
      "text/plain": [
       "array([[0.81505652, 0.3641909 , 0.43925054],\n",
       "       [0.01587142, 0.53554234, 0.06034028],\n",
       "       [0.51258157, 0.10525168, 0.40412741]])"
      ]
     },
     "execution_count": 18,
     "metadata": {
      "tags": []
     },
     "output_type": "execute_result"
    }
   ],
   "source": [
    "#Random_matrix\n",
    "random = np.random.rand(3,3)\n",
    "random"
   ]
  },
  {
   "cell_type": "markdown",
   "metadata": {
    "colab_type": "text",
    "id": "qN8tKoP7sm04"
   },
   "source": [
    "3. a. Create a 3 x 2 matrix using an array of lists and print the type of the array.\n",
    "\n",
    "   b. Create a 2 x 5 matrix using an array of lists and print the type of the array."
   ]
  },
  {
   "cell_type": "code",
   "execution_count": null,
   "metadata": {
    "colab": {},
    "colab_type": "code",
    "id": "PBuejvX4Ddds",
    "outputId": "04ed796d-ce4b-4bed-8129-de91e693ed3c"
   },
   "outputs": [
    {
     "name": "stdout",
     "output_type": "stream",
     "text": [
      "[[1 2]\n",
      " [3 4]\n",
      " [5 6]]\n"
     ]
    },
    {
     "data": {
      "text/plain": [
       "numpy.ndarray"
      ]
     },
     "execution_count": 22,
     "metadata": {
      "tags": []
     },
     "output_type": "execute_result"
    }
   ],
   "source": [
    "#3x2_matrix\n",
    "l1 = [[1,2],[3,4],[5,6]]\n",
    "mat_1 = np.array(l1)\n",
    "print(mat_1)\n",
    "type(mat_1)"
   ]
  },
  {
   "cell_type": "code",
   "execution_count": null,
   "metadata": {
    "colab": {},
    "colab_type": "code",
    "id": "DweViZHfDddu",
    "outputId": "4fc9e92b-9501-4ec2-a271-fdc47c208c70"
   },
   "outputs": [
    {
     "name": "stdout",
     "output_type": "stream",
     "text": [
      "[[1 2 3 4 5]\n",
      " [6 7 8 9 0]]\n"
     ]
    },
    {
     "data": {
      "text/plain": [
       "numpy.ndarray"
      ]
     },
     "execution_count": 24,
     "metadata": {
      "tags": []
     },
     "output_type": "execute_result"
    }
   ],
   "source": [
    "#2x5_matrix\n",
    "l2 = [[1,2,3,4,5],[6,7,8,9,0]]\n",
    "mat_2 = np.array(l2)\n",
    "print(mat_2)\n",
    "type(mat_2)"
   ]
  },
  {
   "cell_type": "markdown",
   "metadata": {
    "colab_type": "text",
    "id": "-G6Iz7NcZZQ-"
   },
   "source": [
    "# Vector and Matrix Operations \n"
   ]
  },
  {
   "cell_type": "markdown",
   "metadata": {
    "colab_type": "text",
    "id": "_XuNsCzL8yl6"
   },
   "source": [
    "4. Find the magnitude/ L1 and L2 norm of the vector [2,3] and state which has has a highest value.\n"
   ]
  },
  {
   "cell_type": "code",
   "execution_count": null,
   "metadata": {
    "colab": {},
    "colab_type": "code",
    "id": "INZCiKbsDddz",
    "outputId": "c7a9d9f8-ffd4-4254-92e8-a1e55c1c3d04"
   },
   "outputs": [
    {
     "data": {
      "text/plain": [
       "array([2, 3])"
      ]
     },
     "execution_count": 25,
     "metadata": {
      "tags": []
     },
     "output_type": "execute_result"
    }
   ],
   "source": [
    "u = np.array([2,3])\n",
    "u"
   ]
  },
  {
   "cell_type": "code",
   "execution_count": null,
   "metadata": {
    "colab": {},
    "colab_type": "code",
    "id": "27FZbeKoDdd1",
    "outputId": "7f7f7c91-e1cf-4d33-b1f9-3ad5f5c1c2a1"
   },
   "outputs": [
    {
     "data": {
      "text/plain": [
       "5.0"
      ]
     },
     "execution_count": 26,
     "metadata": {
      "tags": []
     },
     "output_type": "execute_result"
    }
   ],
   "source": [
    "L1 = np.linalg.norm(u,ord=1)          #Manhattan_distance\n",
    "L1"
   ]
  },
  {
   "cell_type": "code",
   "execution_count": null,
   "metadata": {
    "colab": {},
    "colab_type": "code",
    "id": "8WPHnNA2Ddd4",
    "outputId": "6e9f25bc-9e34-4a4c-f197-30c1ad48e2b2"
   },
   "outputs": [
    {
     "data": {
      "text/plain": [
       "3.605551275463989"
      ]
     },
     "execution_count": 27,
     "metadata": {
      "tags": []
     },
     "output_type": "execute_result"
    }
   ],
   "source": [
    "L2 = np.linalg.norm(u,ord=2)         #Euclidean_distance\n",
    "L2"
   ]
  },
  {
   "cell_type": "code",
   "execution_count": null,
   "metadata": {
    "colab": {},
    "colab_type": "code",
    "id": "G0mtqZFMDdd6"
   },
   "outputs": [],
   "source": [
    "## The Manhattan distance as the highest value"
   ]
  },
  {
   "cell_type": "markdown",
   "metadata": {
    "colab_type": "text",
    "id": "1rcWih_Qhiv4"
   },
   "source": [
    "## Vector and Matrix Arithmetic \n",
    "\n",
    "5. Perform addition, subtraction, multiplication and division of two matrices of size (3 x 3)"
   ]
  },
  {
   "cell_type": "code",
   "execution_count": null,
   "metadata": {
    "colab": {},
    "colab_type": "code",
    "id": "FXxVjC7BDdd9",
    "outputId": "d9c0fc61-6dfe-40ce-92bb-a77b7b21bee7"
   },
   "outputs": [
    {
     "name": "stdout",
     "output_type": "stream",
     "text": [
      "[[156 158 198]\n",
      " [183 141 153]\n",
      " [142 184 169]] [[54 56 95]\n",
      " [64 66 82]\n",
      " [65 95 82]]\n"
     ]
    }
   ],
   "source": [
    "A = np.random.randint(100,200,size=(3,3))\n",
    "B = np.random.randint(50,100,size=(3,3))\n",
    "print(A,B)"
   ]
  },
  {
   "cell_type": "code",
   "execution_count": null,
   "metadata": {
    "colab": {},
    "colab_type": "code",
    "id": "ml20OVvuDdeC",
    "outputId": "33da1a61-27aa-4749-cc7e-318491c18ca9"
   },
   "outputs": [
    {
     "data": {
      "text/plain": [
       "array([[210, 214, 293],\n",
       "       [247, 207, 235],\n",
       "       [207, 279, 251]])"
      ]
     },
     "execution_count": 32,
     "metadata": {
      "tags": []
     },
     "output_type": "execute_result"
    }
   ],
   "source": [
    "#Addition\n",
    "A+B"
   ]
  },
  {
   "cell_type": "code",
   "execution_count": null,
   "metadata": {
    "colab": {},
    "colab_type": "code",
    "id": "uybDLi8bDdeF",
    "outputId": "abffd3b8-6915-4644-f38f-b98a3d5af292"
   },
   "outputs": [
    {
     "data": {
      "text/plain": [
       "array([[102, 102, 103],\n",
       "       [119,  75,  71],\n",
       "       [ 77,  89,  87]])"
      ]
     },
     "execution_count": 33,
     "metadata": {
      "tags": []
     },
     "output_type": "execute_result"
    }
   ],
   "source": [
    "#Subtraction\n",
    "A-B"
   ]
  },
  {
   "cell_type": "code",
   "execution_count": null,
   "metadata": {
    "colab": {},
    "colab_type": "code",
    "id": "IuPoHuOZDdeH",
    "outputId": "ae82daa5-3c12-4076-e62e-5a8a16526d0e"
   },
   "outputs": [
    {
     "data": {
      "text/plain": [
       "array([[ 8424,  8848, 18810],\n",
       "       [11712,  9306, 12546],\n",
       "       [ 9230, 17480, 13858]])"
      ]
     },
     "execution_count": 36,
     "metadata": {
      "tags": []
     },
     "output_type": "execute_result"
    }
   ],
   "source": [
    "#Multiplication\n",
    "A*B"
   ]
  },
  {
   "cell_type": "code",
   "execution_count": null,
   "metadata": {
    "colab": {},
    "colab_type": "code",
    "id": "btNaee4VDdeJ",
    "outputId": "dde175dd-fad2-4441-a358-d0e5a856a30c"
   },
   "outputs": [
    {
     "data": {
      "text/plain": [
       "array([[2.88888889, 2.82142857, 2.08421053],\n",
       "       [2.859375  , 2.13636364, 1.86585366],\n",
       "       [2.18461538, 1.93684211, 2.06097561]])"
      ]
     },
     "execution_count": 42,
     "metadata": {
      "tags": []
     },
     "output_type": "execute_result"
    }
   ],
   "source": [
    "#Division\n",
    "A/B"
   ]
  },
  {
   "cell_type": "markdown",
   "metadata": {
    "colab_type": "text",
    "id": "7594kF6JhheC"
   },
   "source": [
    "## Dot product\n",
    "\n",
    "6. Find the dot product of the matrices created above."
   ]
  },
  {
   "cell_type": "code",
   "execution_count": null,
   "metadata": {
    "colab": {},
    "colab_type": "code",
    "id": "jULH81NvDdeL",
    "outputId": "7bfa9bd5-4f50-4844-9dbc-4d8cb5ca930a"
   },
   "outputs": [
    {
     "data": {
      "text/plain": [
       "array([[31406, 37974, 44012],\n",
       "       [28851, 34089, 41493],\n",
       "       [30429, 36151, 42436]])"
      ]
     },
     "execution_count": 43,
     "metadata": {
      "tags": []
     },
     "output_type": "execute_result"
    }
   ],
   "source": [
    "np.dot(A,B)"
   ]
  },
  {
   "cell_type": "markdown",
   "metadata": {
    "colab_type": "text",
    "id": "u_PcuU0lFJfG"
   },
   "source": [
    "### Scalar and Vector Projections\n",
    "7. Find the scalar and vector projections of the vector  u = 8i + 6j on vector v = i - 7j\n"
   ]
  },
  {
   "cell_type": "code",
   "execution_count": null,
   "metadata": {
    "colab": {},
    "colab_type": "code",
    "id": "G3WFXaqyDdeO",
    "outputId": "1908e114-c91f-4c1c-dceb-7faaae320162"
   },
   "outputs": [
    {
     "name": "stdout",
     "output_type": "stream",
     "text": [
      "[8 6] [ 1 -7]\n"
     ]
    }
   ],
   "source": [
    "u = np.array([8,6])\n",
    "v = np.array([1,-7])\n",
    "print(u,v)"
   ]
  },
  {
   "cell_type": "code",
   "execution_count": null,
   "metadata": {
    "colab": {},
    "colab_type": "code",
    "id": "O3R4u5cmDdeQ",
    "outputId": "037dbc70-554c-4b66-96b1-3cf49405ecfb"
   },
   "outputs": [
    {
     "name": "stdout",
     "output_type": "stream",
     "text": [
      "Scalar projection of vector 8i+6j on vector i-7j is -4.808326112068523\n"
     ]
    }
   ],
   "source": [
    "Scalar = np.dot(u,v)/np.linalg.norm(v)\n",
    "print('Scalar projection of vector 8i+6j on vector i-7j is', Scalar)"
   ]
  },
  {
   "cell_type": "code",
   "execution_count": null,
   "metadata": {
    "colab": {},
    "colab_type": "code",
    "id": "eGw60dqmDdeS",
    "outputId": "6b595483-e9a0-4fc5-95d7-0032cedef96f"
   },
   "outputs": [
    {
     "name": "stdout",
     "output_type": "stream",
     "text": [
      "Vector projection of vector 8i+6j on vector i-7j is [-0.68  4.76]\n"
     ]
    }
   ],
   "source": [
    "Vector = (v*Scalar)/np.linalg.norm(v)\n",
    "print('Vector projection of vector 8i+6j on vector i-7j is', Vector)"
   ]
  },
  {
   "cell_type": "markdown",
   "metadata": {
    "colab_type": "text",
    "id": "Lk_VxyBbMabM"
   },
   "source": [
    "#### Transpose of a matrix"
   ]
  },
  {
   "cell_type": "markdown",
   "metadata": {
    "colab_type": "text",
    "id": "RzPJs9u7DdeW"
   },
   "source": [
    "8. Create the transpose of the 3*3 matrix created above. "
   ]
  },
  {
   "cell_type": "markdown",
   "metadata": {
    "colab_type": "text",
    "id": "2JO_pPhndZVx"
   },
   "source": [
    "The matrix changes shape such that the rows become columns and columns become rows."
   ]
  },
  {
   "cell_type": "code",
   "execution_count": null,
   "metadata": {
    "colab": {},
    "colab_type": "code",
    "id": "AAmzxYLPDdeX",
    "outputId": "f68d4d15-635f-4aa4-c196-8c55ac4854dc"
   },
   "outputs": [
    {
     "name": "stdout",
     "output_type": "stream",
     "text": [
      "[[156 158 198]\n",
      " [183 141 153]\n",
      " [142 184 169]]\n"
     ]
    },
    {
     "data": {
      "text/plain": [
       "array([[156, 183, 142],\n",
       "       [158, 141, 184],\n",
       "       [198, 153, 169]])"
      ]
     },
     "execution_count": 53,
     "metadata": {
      "tags": []
     },
     "output_type": "execute_result"
    }
   ],
   "source": [
    "print(A)\n",
    "np.transpose(A)"
   ]
  },
  {
   "cell_type": "markdown",
   "metadata": {
    "colab_type": "text",
    "id": "eArOydbNls78"
   },
   "source": [
    "### Identity Matrix"
   ]
  },
  {
   "cell_type": "markdown",
   "metadata": {
    "colab_type": "text",
    "id": "CupCf0z4Ddea"
   },
   "source": [
    "9. Create a 3*3 identity matrix."
   ]
  },
  {
   "cell_type": "code",
   "execution_count": null,
   "metadata": {
    "colab": {},
    "colab_type": "code",
    "id": "RPvay0XK7Mpy",
    "outputId": "87eeedcf-dce5-4964-d648-388026e74f9e"
   },
   "outputs": [
    {
     "data": {
      "text/plain": [
       "array([[1., 0., 0.],\n",
       "       [0., 1., 0.],\n",
       "       [0., 0., 1.]])"
      ]
     },
     "execution_count": 54,
     "metadata": {
      "tags": []
     },
     "output_type": "execute_result"
    }
   ],
   "source": [
    "np.eye(3,3)"
   ]
  },
  {
   "cell_type": "markdown",
   "metadata": {
    "colab_type": "text",
    "id": "ScrG-NpCwL-5"
   },
   "source": [
    "## Types of Matrices"
   ]
  },
  {
   "cell_type": "markdown",
   "metadata": {
    "colab_type": "text",
    "id": "TTRHokTyDded"
   },
   "source": [
    "10. Create a square matrix of size 3x3 and print \n",
    "a. upper triangular matrix\n",
    "b. lower triangular matrix\n",
    "c. diagonal matrix\n",
    "\n"
   ]
  },
  {
   "cell_type": "code",
   "execution_count": null,
   "metadata": {
    "colab": {},
    "colab_type": "code",
    "id": "Rtuwo6PV7TVv",
    "outputId": "32075867-6674-41d9-99c9-4b93999c7c0a"
   },
   "outputs": [
    {
     "name": "stdout",
     "output_type": "stream",
     "text": [
      "[[156 158 198]\n",
      " [183 141 153]\n",
      " [142 184 169]]\n"
     ]
    },
    {
     "data": {
      "text/plain": [
       "array([[156,   0,   0],\n",
       "       [183, 141,   0],\n",
       "       [142, 184, 169]])"
      ]
     },
     "execution_count": 55,
     "metadata": {
      "tags": []
     },
     "output_type": "execute_result"
    }
   ],
   "source": [
    "print(A)\n",
    "lower = np.tril(A)\n",
    "lower"
   ]
  },
  {
   "cell_type": "code",
   "execution_count": null,
   "metadata": {
    "colab": {},
    "colab_type": "code",
    "id": "Cv1yao37Ddeg",
    "outputId": "9bc9f61f-c7fe-4d1b-c3b6-c2636b016638"
   },
   "outputs": [
    {
     "name": "stdout",
     "output_type": "stream",
     "text": [
      "[[156 158 198]\n",
      " [183 141 153]\n",
      " [142 184 169]]\n"
     ]
    },
    {
     "data": {
      "text/plain": [
       "array([[156, 158, 198],\n",
       "       [  0, 141, 153],\n",
       "       [  0,   0, 169]])"
      ]
     },
     "execution_count": 56,
     "metadata": {
      "tags": []
     },
     "output_type": "execute_result"
    }
   ],
   "source": [
    "print(A)\n",
    "upper = np.triu(A)\n",
    "upper"
   ]
  },
  {
   "cell_type": "code",
   "execution_count": null,
   "metadata": {
    "colab": {},
    "colab_type": "code",
    "id": "s6JGCZLEDdel",
    "outputId": "847c1740-3dd7-4db0-9838-401ed6547a0b"
   },
   "outputs": [
    {
     "name": "stdout",
     "output_type": "stream",
     "text": [
      "[[156 158 198]\n",
      " [183 141 153]\n",
      " [142 184 169]]\n"
     ]
    },
    {
     "data": {
      "text/plain": [
       "array([156, 141, 169])"
      ]
     },
     "execution_count": 57,
     "metadata": {
      "tags": []
     },
     "output_type": "execute_result"
    }
   ],
   "source": [
    "print(A)\n",
    "diag = np.diag(A)\n",
    "diag"
   ]
  }
 ],
 "metadata": {
  "anaconda-cloud": {},
  "colab": {
   "collapsed_sections": [],
   "name": "Introduction_to_LA_TH_Solutions.ipynb",
   "provenance": []
  },
  "kernelspec": {
   "display_name": "Python 3 (ipykernel)",
   "language": "python",
   "name": "python3"
  },
  "language_info": {
   "codemirror_mode": {
    "name": "ipython",
    "version": 3
   },
   "file_extension": ".py",
   "mimetype": "text/x-python",
   "name": "python",
   "nbconvert_exporter": "python",
   "pygments_lexer": "ipython3",
   "version": "3.9.12"
  }
 },
 "nbformat": 4,
 "nbformat_minor": 1
}
