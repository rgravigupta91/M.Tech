{
 "cells": [
  {
   "cell_type": "markdown",
   "metadata": {},
   "source": [
    "# Question 1 : Optimizing function with one variable"
   ]
  },
  {
   "cell_type": "markdown",
   "metadata": {},
   "source": [
    "A particle travels in a particular path.The function of the path could be written as (3 * cos(1/(5 + t))) + (1/((1 + t) ** 2)) + (7 * (t ** 5))\n",
    "where t reffers the time in second.(110 sec)\n",
    "\n",
    "1. Draw the path of the partical\n",
    "\n",
    "2. Find out the velocity of the partical\n",
    "\n",
    "3. Draw the velocity of the partical\n",
    "\n",
    "4. Find out the time(in sec) where the partical moves the fastest\n",
    "\n",
    "5.  Find out the time(in sec) where the partical moves the slowest\n",
    "\n",
    "6. Find out if there is any time point where the partical does not move"
   ]
  },
  {
   "cell_type": "markdown",
   "metadata": {},
   "source": [
    "### 1.1. Draw the path of the partical"
   ]
  },
  {
   "cell_type": "code",
   "execution_count": null,
   "metadata": {},
   "outputs": [],
   "source": []
  },
  {
   "cell_type": "code",
   "execution_count": null,
   "metadata": {},
   "outputs": [],
   "source": []
  },
  {
   "cell_type": "markdown",
   "metadata": {},
   "source": [
    "### 1.2. Find out the velocity of the partical"
   ]
  },
  {
   "cell_type": "code",
   "execution_count": null,
   "metadata": {},
   "outputs": [],
   "source": []
  },
  {
   "cell_type": "code",
   "execution_count": null,
   "metadata": {},
   "outputs": [],
   "source": []
  },
  {
   "cell_type": "markdown",
   "metadata": {},
   "source": [
    "### 1.3. Draw the velocity of the partical"
   ]
  },
  {
   "cell_type": "code",
   "execution_count": null,
   "metadata": {},
   "outputs": [],
   "source": []
  },
  {
   "cell_type": "code",
   "execution_count": null,
   "metadata": {},
   "outputs": [],
   "source": []
  },
  {
   "cell_type": "markdown",
   "metadata": {},
   "source": [
    "### 1.4. Find out the time(in sec) where the partical moves the fastest"
   ]
  },
  {
   "cell_type": "code",
   "execution_count": null,
   "metadata": {},
   "outputs": [],
   "source": []
  },
  {
   "cell_type": "code",
   "execution_count": null,
   "metadata": {},
   "outputs": [],
   "source": []
  },
  {
   "cell_type": "markdown",
   "metadata": {},
   "source": [
    "### 1.5.  Find out the time(in sec) where the partical moves the slowest"
   ]
  },
  {
   "cell_type": "code",
   "execution_count": null,
   "metadata": {},
   "outputs": [],
   "source": []
  },
  {
   "cell_type": "code",
   "execution_count": null,
   "metadata": {},
   "outputs": [],
   "source": []
  },
  {
   "cell_type": "markdown",
   "metadata": {},
   "source": [
    "### 1.6. Find out if there is any time point where the partical does not move"
   ]
  },
  {
   "cell_type": "code",
   "execution_count": null,
   "metadata": {},
   "outputs": [],
   "source": []
  },
  {
   "cell_type": "code",
   "execution_count": null,
   "metadata": {},
   "outputs": [],
   "source": []
  },
  {
   "cell_type": "markdown",
   "metadata": {},
   "source": [
    "# Question 2 : Minimizing function with multiple variables"
   ]
  },
  {
   "cell_type": "markdown",
   "metadata": {},
   "source": [
    "A company has a capital of  total of Rs 5000\n",
    "The company wants to invest in production ofg two different type of product, Product-1 & Product-2\n",
    "\n",
    "The Cost of production of an unit of Product-1 is 50\n",
    "Depending of market demand the sales price of an unit of Product-1 follows a function 48 - (1 / (5 + (day ** 2))) + 10 * cos(np.pi * day / 180)\n",
    "The Cost of production of an unit of Product-2 is 50\n",
    "Depending of market demand the sales price of an unit of Product-2 follows a function 52 - day + ( 10 * tan(pi * day / 180))\n",
    "where t represents the time in day.\n",
    "\n",
    "Company is going to invest his entire capital for a maximum of 900 days.\n",
    "\n",
    "1. Draw a graph of the total revenue if the company invests all its capital on Product-1\n",
    "2. Draw a graph of the total revenue if the company invests all its capital on Product-2\n",
    "3. Constract a revenue function  with parameters as number of units of product the company produces of each Product-1 and Product-2 and time\n",
    "4. Constact a profit function with the previous function\n",
    "5. Find out the optimum split of number of unit produced of Product-1 & Product-2 and the best time point\n",
    "6. Find out the optimum revenue earned"
   ]
  },
  {
   "cell_type": "markdown",
   "metadata": {},
   "source": [
    "### 2.1. Draw a graph of the total revenue if the company invests all its capital on Product-1"
   ]
  },
  {
   "cell_type": "code",
   "execution_count": null,
   "metadata": {},
   "outputs": [],
   "source": []
  },
  {
   "cell_type": "code",
   "execution_count": null,
   "metadata": {},
   "outputs": [],
   "source": []
  },
  {
   "cell_type": "markdown",
   "metadata": {},
   "source": [
    "### 2.2. Draw a graph of the total revenue if the company invests all its capital on Product-2"
   ]
  },
  {
   "cell_type": "code",
   "execution_count": null,
   "metadata": {},
   "outputs": [],
   "source": []
  },
  {
   "cell_type": "code",
   "execution_count": null,
   "metadata": {},
   "outputs": [],
   "source": []
  },
  {
   "cell_type": "markdown",
   "metadata": {},
   "source": [
    "### 2.3. Constract a revenue function  with parameters as number of units of product the company produces of each Product-1 and Product-2 and time"
   ]
  },
  {
   "cell_type": "code",
   "execution_count": null,
   "metadata": {},
   "outputs": [],
   "source": []
  },
  {
   "cell_type": "code",
   "execution_count": null,
   "metadata": {},
   "outputs": [],
   "source": []
  },
  {
   "cell_type": "markdown",
   "metadata": {},
   "source": [
    "### 2.4. Constact a profit function with the previous function"
   ]
  },
  {
   "cell_type": "code",
   "execution_count": null,
   "metadata": {},
   "outputs": [],
   "source": []
  },
  {
   "cell_type": "code",
   "execution_count": null,
   "metadata": {},
   "outputs": [],
   "source": []
  },
  {
   "cell_type": "markdown",
   "metadata": {},
   "source": [
    "### 2.5. Find out the optimum split of number of unit produced of Product-1 & Product-2 and the best time point"
   ]
  },
  {
   "cell_type": "code",
   "execution_count": null,
   "metadata": {},
   "outputs": [],
   "source": []
  },
  {
   "cell_type": "code",
   "execution_count": null,
   "metadata": {},
   "outputs": [],
   "source": []
  },
  {
   "cell_type": "markdown",
   "metadata": {},
   "source": [
    "### 2.6. Find out the optimum revenue earned"
   ]
  },
  {
   "cell_type": "code",
   "execution_count": null,
   "metadata": {},
   "outputs": [],
   "source": []
  },
  {
   "cell_type": "code",
   "execution_count": null,
   "metadata": {},
   "outputs": [],
   "source": []
  },
  {
   "cell_type": "markdown",
   "metadata": {},
   "source": [
    "# Question 3 : Find root"
   ]
  },
  {
   "cell_type": "markdown",
   "metadata": {},
   "source": [
    "### 3.1 Find the root of the funtion f.\n",
    "\n",
    "f = (85 * np.tan((1/x)*0.01745)) - (1 * np.sin((x-1)*0.01745)) - (.06 * x)"
   ]
  },
  {
   "cell_type": "code",
   "execution_count": null,
   "metadata": {},
   "outputs": [],
   "source": []
  },
  {
   "cell_type": "code",
   "execution_count": null,
   "metadata": {},
   "outputs": [],
   "source": []
  },
  {
   "cell_type": "markdown",
   "metadata": {},
   "source": [
    "# Question 4 : Gradient Descent Step by step"
   ]
  },
  {
   "cell_type": "markdown",
   "metadata": {},
   "source": [
    "We have recorded the conversion rate of Dolar and pound over 200 days.Y shows the conversion rate and x shows the number of the day.\n",
    "Try to fit the best possible function 'f' to stablis the relationship between the number of the day and conversion rate.(Applying Gradient descent)\n",
    "  where f(x) = y = a + b * x\n",
    "\n",
    "4.1 Fix the initial values of the parameters, learninng rate and error rate\n",
    "\n",
    "4.2 Initiate two list with intial values of the parameters\n",
    "\n",
    "4.3 Find the length of x\n",
    "\n",
    "4.4 Prepare the cost function\n",
    "\n",
    "4.5 Find the derivative of cost with respect to 'a'.\n",
    "\n",
    "4.6 Find the value of the derivative in 4.5 with the initial values of 'a' & 'b' and store it in a variable A\n",
    "\n",
    "4.7 Find the derivative of cost with respect to 'b'.\n",
    "\n",
    "\n",
    "4.8 Find the value of the derivative in 4.7 with the initial values of 'a' & 'b' and store it in a variable B\n",
    "\n",
    "4.9 Update the values of 'a' & 'b'\n",
    "\n",
    "4.10 Store the new values of the parametters in the listcreated in step 4.2\n",
    "\n",
    "4.11 Find the diference in the value of parameter from the initial values.\n",
    "\n",
    "4.12 if the difference in smaller than error rate stop otherwise recalculate the value of 4.6 & 4.8 with the new pair of parameter values\n",
    "\n",
    "4.13 Run a loop to repeat 4.9,4.10,4.11,4.12 until we reach to the stopping condition.\n",
    "\n",
    "4.14 Combine all the steps and prepare the final version"
   ]
  },
  {
   "cell_type": "code",
   "execution_count": null,
   "metadata": {},
   "outputs": [],
   "source": [
    "Y = np.array([4.2,\n",
    " -52.86,\n",
    " 89.71,\n",
    " 52.25,\n",
    " -19.04,\n",
    " 75.2,\n",
    " 36.03,\n",
    " 128.66,\n",
    " 122.89,\n",
    " 115.76,\n",
    " 84.18,\n",
    " 176.01,\n",
    " 184.74,\n",
    " 165.92,\n",
    " 211.11,\n",
    " 212.29,\n",
    " 189.84,\n",
    " 222.79,\n",
    " 248.54,\n",
    " 246.33,\n",
    " 331.77,\n",
    " 276.04,\n",
    " 237.73,\n",
    " 317.64,\n",
    " 343.82,\n",
    " 333.61,\n",
    " 315.79,\n",
    " 347.39,\n",
    " 381.17,\n",
    " 367.95,\n",
    " 303.92,\n",
    " 416.18,\n",
    " 373.86,\n",
    " 447.79,\n",
    " 435.79,\n",
    " 393.89,\n",
    " 481.61,\n",
    " 500.01,\n",
    " 471.2,\n",
    " 460.66,\n",
    " 456.13,\n",
    " 517.82,\n",
    " 489.81,\n",
    " 551.21,\n",
    " 533.52,\n",
    " 579.75,\n",
    " 556.04,\n",
    " 583.79,\n",
    " 554.66,\n",
    " 535.43,\n",
    " 606.82,\n",
    " 670.97,\n",
    " 671.83,\n",
    " 639.64,\n",
    " 659.24,\n",
    " 667.14,\n",
    " 667.67,\n",
    " 703.27,\n",
    " 712.4,\n",
    " 711.08,\n",
    " 713.96,\n",
    " 693.08,\n",
    " 830.35,\n",
    " 734.12,\n",
    " 755.38,\n",
    " 800.67,\n",
    " 759.19,\n",
    " 817.31,\n",
    " 830.7,\n",
    " 845.19,\n",
    " 908.25,\n",
    " 890.9,\n",
    " 900.53,\n",
    " 858.63,\n",
    " 904.49,\n",
    " 905.11,\n",
    " 919.18,\n",
    " 960.62,\n",
    " 912.42,\n",
    " 965.67,\n",
    " 943.68,\n",
    " 989.65,\n",
    " 1039.74,\n",
    " 1072.6,\n",
    " 996.25,\n",
    " 1037.19,\n",
    " 1001.1,\n",
    " 1108.83,\n",
    " 992.79,\n",
    " 1074.13,\n",
    " 1120.29,\n",
    " 1116.86,\n",
    " 1097.75,\n",
    " 1194.25,\n",
    " 1140.49,\n",
    " 1146.77,\n",
    " 1149.16,\n",
    " 1143.92,\n",
    " 1181.16,\n",
    " 1214.01,\n",
    " 1250.72,\n",
    " 1293.29,\n",
    " 1264.68,\n",
    " 1229.63,\n",
    " 1303.58,\n",
    " 1282.18,\n",
    " 1270.28,\n",
    " 1325.04,\n",
    " 1403.23,\n",
    " 1288.93,\n",
    " 1282.06,\n",
    " 1258.89,\n",
    " 1419.65,\n",
    " 1341.37,\n",
    " 1315.31,\n",
    " 1344.08,\n",
    " 1471.7,\n",
    " 1406.28,\n",
    " 1449.51,\n",
    " 1468.52,\n",
    " 1416.64,\n",
    " 1458.49,\n",
    " 1527.15,\n",
    " 1466.57,\n",
    " 1518.11,\n",
    " 1464.56,\n",
    " 1602.88,\n",
    " 1541.27,\n",
    " 1494.67,\n",
    " 1597.98,\n",
    " 1566.57,\n",
    " 1575.75,\n",
    " 1610.58,\n",
    " 1639.22,\n",
    " 1673.84,\n",
    " 1631.74,\n",
    " 1675.59,\n",
    " 1653.11,\n",
    " 1676.71,\n",
    " 1731.56,\n",
    " 1708.22,\n",
    " 1757.47,\n",
    " 1705.13,\n",
    " 1730.79,\n",
    " 1770.55,\n",
    " 1777.33,\n",
    " 1834.88,\n",
    " 1833.19,\n",
    " 1816.34,\n",
    " 1788.26,\n",
    " 1889.12,\n",
    " 1909.05,\n",
    " 1876.26,\n",
    " 1904.58,\n",
    " 1884.65,\n",
    " 1879.1,\n",
    " 1878.35,\n",
    " 1951.53,\n",
    " 1924.62,\n",
    " 1917.51,\n",
    " 1982.77,\n",
    " 1920.43,\n",
    " 1963.51,\n",
    " 1987.83,\n",
    " 1978.16,\n",
    " 2042.02,\n",
    " 2046.17,\n",
    " 2064.76,\n",
    " 2058.0,\n",
    " 2065.38,\n",
    " 2060.99,\n",
    " 2069.57,\n",
    " 2083.22,\n",
    " 2092.65,\n",
    " 2123.85,\n",
    " 2193.61,\n",
    " 2148.34,\n",
    " 2126.02,\n",
    " 2082.28,\n",
    " 2165.54,\n",
    " 2205.03,\n",
    " 2182.84,\n",
    " 2171.67,\n",
    " 2192.41,\n",
    " 2254.81,\n",
    " 2222.82,\n",
    " 2234.07,\n",
    " 2271.22,\n",
    " 2239.89,\n",
    " 2279.62,\n",
    " 2343.82,\n",
    " 2311.27,\n",
    " 2271.85,\n",
    " 2317.66,\n",
    " 2362.8,\n",
    " 2307.59,\n",
    " 2401.73,\n",
    " 2405.88,\n",
    " 2414.91,\n",
    " 2356.79])\n",
    "\n",
    "\n",
    "x = np.array([  1,   6,  11,  16,  21,  26,  31,  36,  41,  46,  51,  56,  61,\n",
    "         66,  71,  76,  81,  86,  91,  96, 101, 106, 111, 116, 121, 126,\n",
    "        131, 136, 141, 146, 151, 156, 161, 166, 171, 176, 181, 186, 191,\n",
    "        196, 201, 206, 211, 216, 221, 226, 231, 236, 241, 246, 251, 256,\n",
    "        261, 266, 271, 276, 281, 286, 291, 296, 301, 306, 311, 316, 321,\n",
    "        326, 331, 336, 341, 346, 351, 356, 361, 366, 371, 376, 381, 386,\n",
    "        391, 396, 401, 406, 411, 416, 421, 426, 431, 436, 441, 446, 451,\n",
    "        456, 461, 466, 471, 476, 481, 486, 491, 496, 501, 506, 511, 516,\n",
    "        521, 526, 531, 536, 541, 546, 551, 556, 561, 566, 571, 576, 581,\n",
    "        586, 591, 596, 601, 606, 611, 616, 621, 626, 631, 636, 641, 646,\n",
    "        651, 656, 661, 666, 671, 676, 681, 686, 691, 696, 701, 706, 711,\n",
    "        716, 721, 726, 731, 736, 741, 746, 751, 756, 761, 766, 771, 776,\n",
    "        781, 786, 791, 796, 801, 806, 811, 816, 821, 826, 831, 836, 841,\n",
    "        846, 851, 856, 861, 866, 871, 876, 881, 886, 891, 896, 901, 906,\n",
    "        911, 916, 921, 926, 931, 936, 941, 946, 951, 956, 961, 966, 971,\n",
    "        976, 981, 986, 991, 996])"
   ]
  },
  {
   "cell_type": "markdown",
   "metadata": {},
   "source": [
    "### 4.1 Fix the initial values of the parameters, learninng rate and error rate"
   ]
  },
  {
   "cell_type": "code",
   "execution_count": null,
   "metadata": {},
   "outputs": [],
   "source": []
  },
  {
   "cell_type": "code",
   "execution_count": null,
   "metadata": {},
   "outputs": [],
   "source": []
  },
  {
   "cell_type": "markdown",
   "metadata": {},
   "source": [
    "### 4.2 Initiate two list with intial values of the parameters"
   ]
  },
  {
   "cell_type": "code",
   "execution_count": null,
   "metadata": {},
   "outputs": [],
   "source": []
  },
  {
   "cell_type": "code",
   "execution_count": null,
   "metadata": {},
   "outputs": [],
   "source": []
  },
  {
   "cell_type": "markdown",
   "metadata": {},
   "source": [
    "### 4.3 Find the length of X"
   ]
  },
  {
   "cell_type": "code",
   "execution_count": null,
   "metadata": {},
   "outputs": [],
   "source": []
  },
  {
   "cell_type": "code",
   "execution_count": null,
   "metadata": {},
   "outputs": [],
   "source": []
  },
  {
   "cell_type": "markdown",
   "metadata": {},
   "source": [
    "### 4.4 Prepare the cost function"
   ]
  },
  {
   "cell_type": "code",
   "execution_count": null,
   "metadata": {},
   "outputs": [],
   "source": []
  },
  {
   "cell_type": "code",
   "execution_count": null,
   "metadata": {},
   "outputs": [],
   "source": []
  },
  {
   "cell_type": "markdown",
   "metadata": {},
   "source": [
    "### 4.5 Find the derivative of cost with respect to 'a'."
   ]
  },
  {
   "cell_type": "code",
   "execution_count": null,
   "metadata": {},
   "outputs": [],
   "source": []
  },
  {
   "cell_type": "code",
   "execution_count": null,
   "metadata": {},
   "outputs": [],
   "source": []
  },
  {
   "cell_type": "markdown",
   "metadata": {},
   "source": [
    "### 4.6 Find the value of the derivative in 4.5 with the initial values of 'a' & 'b' and store it in a variable A"
   ]
  },
  {
   "cell_type": "code",
   "execution_count": null,
   "metadata": {},
   "outputs": [],
   "source": []
  },
  {
   "cell_type": "code",
   "execution_count": null,
   "metadata": {},
   "outputs": [],
   "source": []
  },
  {
   "cell_type": "markdown",
   "metadata": {},
   "source": [
    "### 4.7 Find the derivative of cost with respect to 'b'."
   ]
  },
  {
   "cell_type": "code",
   "execution_count": null,
   "metadata": {},
   "outputs": [],
   "source": []
  },
  {
   "cell_type": "code",
   "execution_count": null,
   "metadata": {},
   "outputs": [],
   "source": []
  },
  {
   "cell_type": "markdown",
   "metadata": {},
   "source": [
    "### 4.8 Find the value of the derivative in 4.7 with the initial values of 'a' & 'b' and store it in a variable B"
   ]
  },
  {
   "cell_type": "code",
   "execution_count": null,
   "metadata": {},
   "outputs": [],
   "source": []
  },
  {
   "cell_type": "code",
   "execution_count": null,
   "metadata": {},
   "outputs": [],
   "source": []
  },
  {
   "cell_type": "markdown",
   "metadata": {},
   "source": [
    "### 4.9 Update the values of 'a' & 'b'"
   ]
  },
  {
   "cell_type": "code",
   "execution_count": null,
   "metadata": {},
   "outputs": [],
   "source": []
  },
  {
   "cell_type": "code",
   "execution_count": null,
   "metadata": {},
   "outputs": [],
   "source": []
  },
  {
   "cell_type": "markdown",
   "metadata": {},
   "source": [
    "### 4.10 Store the new values of the parametters in the listcreated in step 4.2"
   ]
  },
  {
   "cell_type": "code",
   "execution_count": null,
   "metadata": {},
   "outputs": [],
   "source": []
  },
  {
   "cell_type": "code",
   "execution_count": null,
   "metadata": {},
   "outputs": [],
   "source": []
  },
  {
   "cell_type": "markdown",
   "metadata": {},
   "source": [
    "### 4.11 Find the diference in the value of parameter from the initial values."
   ]
  },
  {
   "cell_type": "code",
   "execution_count": null,
   "metadata": {},
   "outputs": [],
   "source": []
  },
  {
   "cell_type": "code",
   "execution_count": null,
   "metadata": {},
   "outputs": [],
   "source": []
  },
  {
   "cell_type": "markdown",
   "metadata": {},
   "source": [
    "### 4.12 if the difference in smaller than error rate stop otherwise recalculate the value of 4.6 & 4.8 with the new pair of parameter values"
   ]
  },
  {
   "cell_type": "code",
   "execution_count": null,
   "metadata": {},
   "outputs": [],
   "source": []
  },
  {
   "cell_type": "code",
   "execution_count": null,
   "metadata": {},
   "outputs": [],
   "source": []
  },
  {
   "cell_type": "markdown",
   "metadata": {},
   "source": [
    "### 4.13 Run a loop to repeat 4.9, 4.10, 4.11, 4.12 until we reach to the stopping condition."
   ]
  },
  {
   "cell_type": "code",
   "execution_count": null,
   "metadata": {},
   "outputs": [],
   "source": []
  },
  {
   "cell_type": "code",
   "execution_count": null,
   "metadata": {},
   "outputs": [],
   "source": []
  },
  {
   "cell_type": "markdown",
   "metadata": {},
   "source": [
    "### 4.14 Combine all the steps and prepare the final version"
   ]
  },
  {
   "cell_type": "code",
   "execution_count": null,
   "metadata": {},
   "outputs": [],
   "source": []
  },
  {
   "cell_type": "code",
   "execution_count": null,
   "metadata": {},
   "outputs": [],
   "source": []
  },
  {
   "cell_type": "markdown",
   "metadata": {},
   "source": [
    "### --------------------------------------------------------------HAPPY LEARNING ! !-----------------------------------------------------------------"
   ]
  }
 ],
 "metadata": {
  "kernelspec": {
   "display_name": "Python 3",
   "language": "python",
   "name": "python3"
  },
  "language_info": {
   "codemirror_mode": {
    "name": "ipython",
    "version": 3
   },
   "file_extension": ".py",
   "mimetype": "text/x-python",
   "name": "python",
   "nbconvert_exporter": "python",
   "pygments_lexer": "ipython3",
   "version": "3.7.4"
  }
 },
 "nbformat": 4,
 "nbformat_minor": 2
}
