{
 "cells": [
  {
   "cell_type": "markdown",
   "metadata": {
    "id": "y1epJTgZu3UJ"
   },
   "source": [
    "## **Matrix Transformations**"
   ]
  },
  {
   "cell_type": "code",
   "execution_count": 1,
   "metadata": {
    "id": "i1-mF-oouqi-"
   },
   "outputs": [],
   "source": [
    "import numpy as np\n",
    "import pandas as pd\n",
    "import matplotlib.pyplot as plt\n",
    "from PIL import Image \n",
    "import scipy\n",
    "from skimage import data\n",
    "from numpy import *"
   ]
  },
  {
   "cell_type": "code",
   "execution_count": 2,
   "metadata": {
    "id": "p9zL1k4pWd4A"
   },
   "outputs": [],
   "source": [
    "# Function to create square of side x\n",
    "def plot_points(matrix, ls=':', lw=6):\n",
    "    x_points, y_points = matrix\n",
    "    size = len(x_points)\n",
    "    colors = ['red', 'green', 'blue', 'black'] if not None else colors\n",
    "    for i in range(size):\n",
    "        plt.plot(x_points[i], y_points[i], color=colors[i], marker='*')\n",
    "        plt.plot([x_points[i], x_points[(i+1) % size]], \n",
    "             [y_points[i], y_points[(i+1) % size]], \n",
    "             linestyle=ls, linewidth=lw)"
   ]
  },
  {
   "cell_type": "code",
   "execution_count": 3,
   "metadata": {
    "colab": {
     "base_uri": "https://localhost:8080/",
     "height": 320
    },
    "executionInfo": {
     "elapsed": 1376,
     "status": "ok",
     "timestamp": 1598432205770,
     "user": {
      "displayName": "Rushikesh Dudhat",
      "photoUrl": "",
      "userId": "03317664964159877481"
     },
     "user_tz": -330
    },
    "id": "2Ss7hjJlWd4C",
    "outputId": "707896e2-4af9-4013-84ee-74e4ba8b5071"
   },
   "outputs": [
    {
     "data": {
      "image/png": "[encoded data removed]",
      "text/plain": [
       "<Figure size 640x480 with 1 Axes>"
      ]
     },
     "metadata": {},
     "output_type": "display_data"
    }
   ],
   "source": [
    "# Using above function to create a square of side 20\n",
    "x_points = np.array([0, 0, 20, 20])\n",
    "y_points = np.array([0, 20, 20, 0])\n",
    "matrix = np.array([x_points, y_points])\n",
    "colors = ['red', 'green', 'blue', 'black']\n",
    "size = len(x_points)\n",
    "plot_points(matrix)\n",
    "plt.ylim([-25,45])\n",
    "plt.xlim([-25,45])\n",
    "#plt.axes().set_aspect('equal')\n",
    "plt.show()"
   ]
  },
  {
   "cell_type": "code",
   "execution_count": 4,
   "metadata": {
    "colab": {
     "base_uri": "https://localhost:8080/",
     "height": 69
    },
    "executionInfo": {
     "elapsed": 1416,
     "status": "ok",
     "timestamp": 1598434517137,
     "user": {
      "displayName": "Rushikesh Dudhat",
      "photoUrl": "",
      "userId": "03317664964159877481"
     },
     "user_tz": -330
    },
    "id": "OWtZXQvxWd4F",
    "outputId": "e062e902-c097-4afa-b836-c5df1ce19361"
   },
   "outputs": [
    {
     "name": "stdout",
     "output_type": "stream",
     "text": [
      "[[ 0  0 20 20]\n",
      " [ 0 20 20  0]\n",
      " [ 1  1  1  1]]\n"
     ]
    }
   ],
   "source": [
    "# Points generator\n",
    "#def get_grid(x, y, homogenous=False):\n",
    "#    coords = np.indices((x, y)).reshape(2, -1) \n",
    "#    return np.vstack((coords, np.ones(coords.shape[1]))) if homogenous else coords\n",
    "\n",
    "x = np.array([0, 0, 20, 20])\n",
    "y = np.array([0, 20, 20, 0])\n",
    "matrix = np.array([x, y])\n",
    "matrix\n",
    "matrix_grid=np.vstack([matrix,[1, 1, 1, 1]])\n",
    "print(matrix_grid)\n",
    "#get_grid(x,y,homogenous=False)"
   ]
  },
  {
   "cell_type": "code",
   "execution_count": 5,
   "metadata": {
    "id": "vkiE-8VxWd4H"
   },
   "outputs": [
    {
     "data": {
      "text/plain": [
       "array([[ 6.123234e-17, -1.000000e+00,  0.000000e+00],\n",
       "       [ 1.000000e+00,  6.123234e-17,  0.000000e+00],\n",
       "       [ 0.000000e+00,  0.000000e+00,  1.000000e+00]])"
      ]
     },
     "execution_count": 5,
     "metadata": {},
     "output_type": "execute_result"
    }
   ],
   "source": [
    "# Define Transformations\n",
    "def get_rotation(angle):\n",
    "    angle = np.radians(angle)\n",
    "    return np.array([\n",
    "\n",
    "[np.cos(angle), -np.sin(angle), 0],\n",
    "[np.sin(angle), np.cos(angle), 0],\n",
    "[0, 0, 1]\n",
    "])\n",
    "\n",
    "get_rotation(90)"
   ]
  },
  {
   "cell_type": "code",
   "execution_count": 6,
   "metadata": {
    "id": "7AE0144AWd4K"
   },
   "outputs": [],
   "source": [
    "def get_translation(tx, ty):\n",
    "    return np.array([\n",
    "                        [1, 0, tx],  \n",
    "                        [0, 1, ty], \n",
    "                        [0, 0, 1]\n",
    "                    ])\n"
   ]
  },
  {
   "cell_type": "code",
   "execution_count": 7,
   "metadata": {
    "id": "ErlnRc07Wd4M"
   },
   "outputs": [],
   "source": [
    "def get_scale(s):\n",
    "    return np.array([\n",
    "        [s, 0, 0],\n",
    "        [0, s, 0],\n",
    "        [0, 0, 1]\n",
    "])\n",
    "\n",
    "R1 = get_rotation(45)\n",
    "T1 = get_translation(20, 20)\n",
    "S1 = get_scale(2)"
   ]
  },
  {
   "cell_type": "code",
   "execution_count": 8,
   "metadata": {
    "colab": {
     "base_uri": "https://localhost:8080/",
     "height": 69
    },
    "executionInfo": {
     "elapsed": 1265,
     "status": "ok",
     "timestamp": 1598439250197,
     "user": {
      "displayName": "Rushikesh Dudhat",
      "photoUrl": "",
      "userId": "03317664964159877481"
     },
     "user_tz": -330
    },
    "id": "-cUT9CDqZzTf",
    "outputId": "965db556-5b5a-4737-ceaa-cc385c4e721c"
   },
   "outputs": [
    {
     "name": "stdout",
     "output_type": "stream",
     "text": [
      "[[ 0.70710678 -0.70710678  0.        ]\n",
      " [ 0.70710678  0.70710678  0.        ]\n",
      " [ 0.          0.          1.        ]]\n"
     ]
    }
   ],
   "source": [
    "print(R1)"
   ]
  },
  {
   "cell_type": "code",
   "execution_count": 38,
   "metadata": {
    "colab": {
     "base_uri": "https://localhost:8080/",
     "height": 253
    },
    "executionInfo": {
     "elapsed": 2435,
     "status": "error",
     "timestamp": 1598446724200,
     "user": {
      "displayName": "Rushikesh Dudhat",
      "photoUrl": "",
      "userId": "03317664964159877481"
     },
     "user_tz": -330
    },
    "id": "GCC5-HsPWd4N",
    "outputId": "3bb90c72-2fef-468d-d539-675664364c24"
   },
   "outputs": [
    {
     "name": "stdout",
     "output_type": "stream",
     "text": [
      "[[ 0.00000000e+00 -1.41421356e+01 -4.44089210e-16  1.41421356e+01]\n",
      " [ 0.00000000e+00  1.41421356e+01  2.82842712e+01  1.41421356e+01]\n",
      " [ 1.00000000e+00  1.00000000e+00  1.00000000e+00  1.00000000e+00]]\n"
     ]
    }
   ],
   "source": [
    "# Apply transformation x' = Ax\n",
    "coords_rot = R1 @ matrix_grid    #Rotation Transformation\n",
    "print(coords_rot)\n"
   ]
  },
  {
   "cell_type": "code",
   "execution_count": 39,
   "metadata": {},
   "outputs": [
    {
     "data": {
      "text/plain": [
       "array([[ 0,  0, 20, 20],\n",
       "       [ 0, 20, 20,  0],\n",
       "       [ 1,  1,  1,  1]])"
      ]
     },
     "execution_count": 39,
     "metadata": {},
     "output_type": "execute_result"
    }
   ],
   "source": [
    "matrix_grid"
   ]
  },
  {
   "cell_type": "code",
   "execution_count": 40,
   "metadata": {},
   "outputs": [
    {
     "data": {
      "text/plain": [
       "array([[20, 20, 40, 40],\n",
       "       [20, 40, 40, 20],\n",
       "       [ 1,  1,  1,  1]])"
      ]
     },
     "execution_count": 40,
     "metadata": {},
     "output_type": "execute_result"
    }
   ],
   "source": [
    "coords_trans = T1 @ matrix_grid  #Translation Transformation\n",
    "coords_trans"
   ]
  },
  {
   "cell_type": "code",
   "execution_count": 41,
   "metadata": {},
   "outputs": [
    {
     "data": {
      "text/plain": [
       "array([[ 0,  0, 40, 40],\n",
       "       [ 0, 40, 40,  0],\n",
       "       [ 1,  1,  1,  1]])"
      ]
     },
     "execution_count": 41,
     "metadata": {},
     "output_type": "execute_result"
    }
   ],
   "source": [
    "coords_scale = S1 @ matrix_grid  #Scale Transformation\n",
    "coords_scale"
   ]
  },
  {
   "cell_type": "code",
   "execution_count": 42,
   "metadata": {},
   "outputs": [
    {
     "data": {
      "text/plain": [
       "array([[-4.44089210e-16, -1.41421356e+01, -8.88178420e-16,\n",
       "         1.41421356e+01],\n",
       "       [ 2.82842712e+01,  4.24264069e+01,  5.65685425e+01,\n",
       "         4.24264069e+01],\n",
       "       [ 1.00000000e+00,  1.00000000e+00,  1.00000000e+00,\n",
       "         1.00000000e+00]])"
      ]
     },
     "execution_count": 42,
     "metadata": {},
     "output_type": "execute_result"
    }
   ],
   "source": [
    "coords_composite1 = R1 @ T1 @ matrix_grid\n",
    "coords_composite1"
   ]
  },
  {
   "cell_type": "code",
   "execution_count": 43,
   "metadata": {},
   "outputs": [
    {
     "data": {
      "text/plain": [
       "array([[20.        ,  5.85786438, 20.        , 34.14213562],\n",
       "       [20.        , 34.14213562, 48.28427125, 34.14213562],\n",
       "       [ 1.        ,  1.        ,  1.        ,  1.        ]])"
      ]
     },
     "execution_count": 43,
     "metadata": {},
     "output_type": "execute_result"
    }
   ],
   "source": [
    "coords_composite2 = T1 @ R1 @ matrix_grid\n",
    "coords_composite2"
   ]
  },
  {
   "cell_type": "code",
   "execution_count": 44,
   "metadata": {},
   "outputs": [],
   "source": [
    "coords_trans = T1 @ matrix_grid  #Translation Transformation\n",
    "coords_scale = S1 @ matrix_grid  #Scale Transformation\n",
    "coords_composite1 = R1 @ T1 @ matrix_grid\n",
    "coords_composite2 = T1 @ R1 @ matrix_grid"
   ]
  },
  {
   "cell_type": "markdown",
   "metadata": {
    "id": "aZyKEtM3vFzb"
   },
   "source": [
    "## Rotation "
   ]
  },
  {
   "cell_type": "code",
   "execution_count": 45,
   "metadata": {
    "colab": {
     "base_uri": "https://localhost:8080/",
     "height": 320
    },
    "executionInfo": {
     "elapsed": 1294,
     "status": "ok",
     "timestamp": 1598432243457,
     "user": {
      "displayName": "Rushikesh Dudhat",
      "photoUrl": "",
      "userId": "03317664964159877481"
     },
     "user_tz": -330
    },
    "id": "xReKmHaKWd4Q",
    "outputId": "5a0a3a00-21df-4169-91c9-2513c8eadc42"
   },
   "outputs": [
    {
     "data": {
      "image/png": "[encoded data removed]",
      "text/plain": [
       "<Figure size 432x288 with 1 Axes>"
      ]
     },
     "metadata": {
      "needs_background": "light"
     },
     "output_type": "display_data"
    }
   ],
   "source": [
    "coords_rot_corrected = np.delete(coords_rot, 2, 0)\n",
    "plot_points(coords_rot_corrected)\n",
    "plt.ylim([-25,45])\n",
    "plt.xlim([-25,45])\n",
    "#plt.axes().set_aspect('equal')\n",
    "plt.show()"
   ]
  },
  {
   "cell_type": "markdown",
   "metadata": {
    "id": "U7fR6o6xvKNA"
   },
   "source": [
    "## Translation"
   ]
  },
  {
   "cell_type": "code",
   "execution_count": 46,
   "metadata": {
    "colab": {
     "base_uri": "https://localhost:8080/",
     "height": 320
    },
    "executionInfo": {
     "elapsed": 1288,
     "status": "ok",
     "timestamp": 1598432247853,
     "user": {
      "displayName": "Rushikesh Dudhat",
      "photoUrl": "",
      "userId": "03317664964159877481"
     },
     "user_tz": -330
    },
    "id": "dQrs7X6rWd4S",
    "outputId": "86d7f121-936d-488e-d61f-9e63abfc2d7d"
   },
   "outputs": [
    {
     "data": {
      "image/png": "[encoded data removed]",
      "text/plain": [
       "<Figure size 432x288 with 1 Axes>"
      ]
     },
     "metadata": {
      "needs_background": "light"
     },
     "output_type": "display_data"
    }
   ],
   "source": [
    "coords_trans_corrected = np.delete(coords_trans, 2, 0)\n",
    "plot_points(coords_trans_corrected)\n",
    "plt.ylim([-25,45])\n",
    "plt.xlim([-25,45])\n",
    "#plt.axes().set_aspect('equal')\n",
    "plt.show()"
   ]
  },
  {
   "cell_type": "code",
   "execution_count": 47,
   "metadata": {
    "colab": {
     "base_uri": "https://localhost:8080/",
     "height": 320
    },
    "executionInfo": {
     "elapsed": 1397,
     "status": "ok",
     "timestamp": 1598432252474,
     "user": {
      "displayName": "Rushikesh Dudhat",
      "photoUrl": "",
      "userId": "03317664964159877481"
     },
     "user_tz": -330
    },
    "id": "xELNWmm5vTUr",
    "outputId": "77bed3dd-166f-43c5-e093-7b720485f663"
   },
   "outputs": [
    {
     "data": {
      "image/png": "[encoded data removed]",
      "text/plain": [
       "<Figure size 432x288 with 1 Axes>"
      ]
     },
     "metadata": {
      "needs_background": "light"
     },
     "output_type": "display_data"
    }
   ],
   "source": [
    "coords_rot_corrected = np.delete(coords_scale, 2, 0)\n",
    "plot_points(coords_rot_corrected)\n",
    "plt.ylim([-25,45])\n",
    "plt.xlim([-25,45])\n",
    "#plt.axes().set_aspect('equal')\n",
    "plt.show()"
   ]
  },
  {
   "cell_type": "markdown",
   "metadata": {
    "id": "dC5Ent9bwL_K"
   },
   "source": [
    "## Matrix operations\n",
    "\n",
    "\n"
   ]
  },
  {
   "cell_type": "markdown",
   "metadata": {
    "id": "GoupAnFCY5iy"
   },
   "source": [
    "### Determinant"
   ]
  },
  {
   "cell_type": "code",
   "execution_count": 86,
   "metadata": {
    "colab": {
     "base_uri": "https://localhost:8080/",
     "height": 69
    },
    "executionInfo": {
     "elapsed": 1249,
     "status": "ok",
     "timestamp": 1598439353759,
     "user": {
      "displayName": "Rushikesh Dudhat",
      "photoUrl": "",
      "userId": "03317664964159877481"
     },
     "user_tz": -330
    },
    "id": "TZlFwhWFwL_N",
    "outputId": "5390bd5f-dd13-4ccd-bb6e-7f8b9fcdb759"
   },
   "outputs": [
    {
     "name": "stdout",
     "output_type": "stream",
     "text": [
      "[[8 2 1]\n",
      " [4 7 6]\n",
      " [5 8 4]]\n"
     ]
    }
   ],
   "source": [
    "# matrix determinant\n",
    "from numpy import array\n",
    "from numpy.linalg import det\n",
    "# define matrix\n",
    "A = array([\n",
    "[8, 2, 1],\n",
    "[4, 7, 6],\n",
    "[5, 8, 4]])\n",
    "print(A)"
   ]
  },
  {
   "cell_type": "code",
   "execution_count": 87,
   "metadata": {
    "colab": {
     "base_uri": "https://localhost:8080/",
     "height": 35
    },
    "executionInfo": {
     "elapsed": 1471,
     "status": "ok",
     "timestamp": 1598439358341,
     "user": {
      "displayName": "Rushikesh Dudhat",
      "photoUrl": "",
      "userId": "03317664964159877481"
     },
     "user_tz": -330
    },
    "id": "t91OvAUK-yVr",
    "outputId": "d53cb441-766d-41e2-a5b0-287a98b4b772"
   },
   "outputs": [
    {
     "name": "stdout",
     "output_type": "stream",
     "text": [
      "-135.00000000000003\n"
     ]
    }
   ],
   "source": [
    "# calculate determinant\n",
    "B = det(A)\n",
    "print(B)"
   ]
  },
  {
   "cell_type": "code",
   "execution_count": 92,
   "metadata": {},
   "outputs": [
    {
     "name": "stdout",
     "output_type": "stream",
     "text": [
      "-0.007407407407407413\n",
      "-0.007407407407407406\n"
     ]
    }
   ],
   "source": [
    "# det(inv(A))=1/det(A)\n",
    "print(det(inv(A)))\n",
    "print(1/det(A))"
   ]
  },
  {
   "cell_type": "markdown",
   "metadata": {
    "id": "DcR73O_J1Zkz"
   },
   "source": [
    "### Rank"
   ]
  },
  {
   "cell_type": "code",
   "execution_count": 50,
   "metadata": {
    "colab": {
     "base_uri": "https://localhost:8080/",
     "height": 52
    },
    "executionInfo": {
     "elapsed": 1902,
     "status": "ok",
     "timestamp": 1598432402132,
     "user": {
      "displayName": "Rushikesh Dudhat",
      "photoUrl": "",
      "userId": "03317664964159877481"
     },
     "user_tz": -330
    },
    "id": "5-sN80nGwL_P",
    "outputId": "a84b7ac5-3634-4ae6-b198-d9411b2a2029"
   },
   "outputs": [
    {
     "name": "stdout",
     "output_type": "stream",
     "text": [
      "[1 2 3]\n",
      "Rank =  1\n"
     ]
    }
   ],
   "source": [
    "# vector rank\n",
    "from numpy import array\n",
    "from numpy.linalg import matrix_rank\n",
    "# rank\n",
    "v1 = array([1,2,3])\n",
    "print(v1)\n",
    "vr1 = matrix_rank(v1)\n",
    "print('Rank = ',vr1)"
   ]
  },
  {
   "cell_type": "code",
   "execution_count": 51,
   "metadata": {
    "colab": {
     "base_uri": "https://localhost:8080/",
     "height": 52
    },
    "executionInfo": {
     "elapsed": 1324,
     "status": "ok",
     "timestamp": 1598432425277,
     "user": {
      "displayName": "Rushikesh Dudhat",
      "photoUrl": "",
      "userId": "03317664964159877481"
     },
     "user_tz": -330
    },
    "id": "7Jo8P-6R-VEU",
    "outputId": "57917470-649c-49ab-adf0-320d9a52f887"
   },
   "outputs": [
    {
     "name": "stdout",
     "output_type": "stream",
     "text": [
      "[0 0 0 0 0]\n",
      "Rank =  0\n"
     ]
    }
   ],
   "source": [
    "# zero rank vector\n",
    "v2 = array([0,0,0,0,0])\n",
    "print(v2)\n",
    "vr2 = matrix_rank(v2)\n",
    "print('Rank = ',vr2)"
   ]
  },
  {
   "cell_type": "code",
   "execution_count": 52,
   "metadata": {
    "colab": {
     "base_uri": "https://localhost:8080/",
     "height": 121
    },
    "executionInfo": {
     "elapsed": 1364,
     "status": "ok",
     "timestamp": 1598432485619,
     "user": {
      "displayName": "Rushikesh Dudhat",
      "photoUrl": "",
      "userId": "03317664964159877481"
     },
     "user_tz": -330
    },
    "id": "IDNbkSNFwL_S",
    "outputId": "59bdef8c-ce71-47a0-a46a-434af427f841"
   },
   "outputs": [
    {
     "name": "stdout",
     "output_type": "stream",
     "text": [
      "[[0 0]\n",
      " [0 0]]\n",
      "Rank =  0\n",
      "[[1 2]\n",
      " [1 2]]\n",
      "Rank =  1\n"
     ]
    }
   ],
   "source": [
    "# matrix rank\n",
    "from numpy import array\n",
    "from numpy.linalg import matrix_rank\n",
    "# Matrix rank 0\n",
    "M0 = array([\n",
    "[0,0],\n",
    "[0,0]])\n",
    "print(M0)\n",
    "mr0 = matrix_rank(M0)\n",
    "print('Rank = ',mr0)\n",
    "# Matrix rank 1 \n",
    "M1 = array([\n",
    "[1,2],\n",
    "[1,2]])\n",
    "print(M1)\n",
    "mr1 = matrix_rank(M1)\n",
    "print('Rank = ',mr1)"
   ]
  },
  {
   "cell_type": "code",
   "execution_count": 53,
   "metadata": {
    "colab": {
     "base_uri": "https://localhost:8080/",
     "height": 69
    },
    "executionInfo": {
     "elapsed": 1407,
     "status": "ok",
     "timestamp": 1598432500557,
     "user": {
      "displayName": "Rushikesh Dudhat",
      "photoUrl": "",
      "userId": "03317664964159877481"
     },
     "user_tz": -330
    },
    "id": "-rqJsZF--aAY",
    "outputId": "14359222-4046-49eb-dab9-5fd3db182bcf"
   },
   "outputs": [
    {
     "name": "stdout",
     "output_type": "stream",
     "text": [
      "[[1 2]\n",
      " [3 4]]\n",
      "Rank =  2\n"
     ]
    }
   ],
   "source": [
    "# Matrix rank 2\n",
    "M2 = array([\n",
    "[1,2],\n",
    "[3,4]])\n",
    "print(M2)\n",
    "mr2 = matrix_rank(M2)\n",
    "print('Rank = ',mr2)"
   ]
  },
  {
   "cell_type": "markdown",
   "metadata": {
    "id": "tUrIWNcr00rp"
   },
   "source": [
    "### Matrix Inverse"
   ]
  },
  {
   "cell_type": "code",
   "execution_count": 54,
   "metadata": {
    "colab": {
     "base_uri": "https://localhost:8080/",
     "height": 69
    },
    "executionInfo": {
     "elapsed": 1255,
     "status": "ok",
     "timestamp": 1598432553288,
     "user": {
      "displayName": "Rushikesh Dudhat",
      "photoUrl": "",
      "userId": "03317664964159877481"
     },
     "user_tz": -330
    },
    "id": "WGQZuHjewL-q",
    "outputId": "e6de7a81-e694-414e-9ad7-2830dca20c59"
   },
   "outputs": [
    {
     "data": {
      "text/plain": [
       "array([-2.13043478, -1.30434783,  1.91304348])"
      ]
     },
     "execution_count": 54,
     "metadata": {},
     "output_type": "execute_result"
    }
   ],
   "source": [
    "from numpy.linalg import inv\n",
    "import numpy as np\n",
    "\n",
    "A = np.array([\n",
    "[1, 2, 3],\n",
    "[1, 5, 4],\n",
    "[7, 1, 9]])\n",
    "\n",
    "B = np.array([1, -1 , 1])\n",
    "x=inv(A).dot(B.T)\n",
    "#\n",
    "x"
   ]
  },
  {
   "cell_type": "code",
   "execution_count": 55,
   "metadata": {
    "colab": {
     "base_uri": "https://localhost:8080/",
     "height": 69
    },
    "executionInfo": {
     "elapsed": 1518,
     "status": "ok",
     "timestamp": 1598432558990,
     "user": {
      "displayName": "Rushikesh Dudhat",
      "photoUrl": "",
      "userId": "03317664964159877481"
     },
     "user_tz": -330
    },
    "id": "bAjsEpia-mKQ",
    "outputId": "21aa035f-fd21-4639-b6fa-12c51a5cdc19"
   },
   "outputs": [
    {
     "name": "stdout",
     "output_type": "stream",
     "text": [
      "[[-1.7826087   0.65217391  0.30434783]\n",
      " [-0.82608696  0.52173913  0.04347826]\n",
      " [ 1.47826087 -0.56521739 -0.13043478]]\n"
     ]
    }
   ],
   "source": [
    "print(inv(A))"
   ]
  },
  {
   "cell_type": "code",
   "execution_count": 56,
   "metadata": {
    "colab": {
     "base_uri": "https://localhost:8080/",
     "height": 69
    },
    "executionInfo": {
     "elapsed": 1333,
     "status": "ok",
     "timestamp": 1598432564047,
     "user": {
      "displayName": "Rushikesh Dudhat",
      "photoUrl": "",
      "userId": "03317664964159877481"
     },
     "user_tz": -330
    },
    "id": "j_qZRk-m-ogQ",
    "outputId": "5bf8991a-c44f-4043-8c3b-e9fc930d7656"
   },
   "outputs": [
    {
     "name": "stdout",
     "output_type": "stream",
     "text": [
      "[[ 1.00000000e+00  1.11022302e-16  5.55111512e-17]\n",
      " [ 0.00000000e+00  1.00000000e+00  0.00000000e+00]\n",
      " [ 4.44089210e-16 -1.11022302e-16  1.00000000e+00]]\n"
     ]
    }
   ],
   "source": [
    "print(A.dot(inv(A)))  "
   ]
  },
  {
   "cell_type": "markdown",
   "metadata": {
    "id": "s8XuSF5tz9Th"
   },
   "source": [
    "## System of linear equations\n",
    "\n",
    "Matrix Inverse"
   ]
  },
  {
   "cell_type": "markdown",
   "metadata": {
    "id": "C1RUPFFDwL-t"
   },
   "source": [
    "*Solve* Ax=b using 'solve'"
   ]
  },
  {
   "cell_type": "code",
   "execution_count": 57,
   "metadata": {
    "colab": {
     "base_uri": "https://localhost:8080/",
     "height": 69
    },
    "executionInfo": {
     "elapsed": 2430,
     "status": "ok",
     "timestamp": 1598432570461,
     "user": {
      "displayName": "Rushikesh Dudhat",
      "photoUrl": "",
      "userId": "03317664964159877481"
     },
     "user_tz": -330
    },
    "id": "AX1H6lTAwL-u",
    "outputId": "dc1f4cc9-2e94-4454-fe6d-aa29f041d8ce"
   },
   "outputs": [
    {
     "name": "stdout",
     "output_type": "stream",
     "text": [
      "[-2.13043478 -1.30434783  1.91304348]\n"
     ]
    }
   ],
   "source": [
    "from numpy.linalg import solve\n",
    "x = solve(A,B.T)\n",
    "print(x)"
   ]
  },
  {
   "cell_type": "markdown",
   "metadata": {
    "id": "OOxasv0QwL-x"
   },
   "source": [
    "Solve the $$\\begin{pmatrix}\n",
    "1&2\\\\\n",
    "3&4\n",
    "\\end{pmatrix} \\begin{pmatrix}\n",
    "x\\\\\n",
    "y\n",
    "\\end{pmatrix} =\\begin{pmatrix}\n",
    "-1\\\\\n",
    "1\n",
    "\\end{pmatrix}$$"
   ]
  },
  {
   "cell_type": "markdown",
   "metadata": {
    "id": "pzVJxgKbwL-x"
   },
   "source": [
    "$x=\\frac{4\\cdot -1-2\\cdot 1}{1\\cdot 4-2\\cdot 3}=\\frac{-6}{-2}=3$\n",
    "\n",
    "$y=\\frac{1\\cdot 1-3\\cdot -1}{1\\cdot 4-2\\cdot 3}=\\frac{4}{-2}=-2$\n"
   ]
  },
  {
   "cell_type": "code",
   "execution_count": 58,
   "metadata": {
    "colab": {
     "base_uri": "https://localhost:8080/",
     "height": 69
    },
    "executionInfo": {
     "elapsed": 1492,
     "status": "ok",
     "timestamp": 1598432581137,
     "user": {
      "displayName": "Rushikesh Dudhat",
      "photoUrl": "",
      "userId": "03317664964159877481"
     },
     "user_tz": -330
    },
    "id": "zJkHzcbmwL-y",
    "outputId": "7acc5b12-c264-4916-ca39-7c16913742d0"
   },
   "outputs": [
    {
     "name": "stdout",
     "output_type": "stream",
     "text": [
      "[[1 2]\n",
      " [3 4]]\n",
      "[[-1  1]]\n"
     ]
    }
   ],
   "source": [
    "from numpy import array\n",
    "A=array([[1,2],[3,4]])\n",
    "b=array([[-1,1]])\n",
    "print(A)\n",
    "print(b)"
   ]
  },
  {
   "cell_type": "code",
   "execution_count": 59,
   "metadata": {
    "colab": {
     "base_uri": "https://localhost:8080/",
     "height": 52
    },
    "executionInfo": {
     "elapsed": 1411,
     "status": "ok",
     "timestamp": 1598432585502,
     "user": {
      "displayName": "Rushikesh Dudhat",
      "photoUrl": "",
      "userId": "03317664964159877481"
     },
     "user_tz": -330
    },
    "id": "Si4ftfPxwL-0",
    "outputId": "ebc1fd2f-f97f-47df-fe6d-d9922d292590"
   },
   "outputs": [
    {
     "name": "stdout",
     "output_type": "stream",
     "text": [
      "[[ 3.]\n",
      " [-2.]]\n"
     ]
    }
   ],
   "source": [
    "from numpy.linalg import inv\n",
    "x=inv(A).dot(b.T)\n",
    "print(x)"
   ]
  },
  {
   "cell_type": "markdown",
   "metadata": {
    "collapsed": true,
    "id": "8lTpW-_IwL_k"
   },
   "source": [
    "## Gram-Schmidt Process\n",
    "\n",
    "- Given any set of vectors lets say U= $\\{u_1,u_2,u_3\\}$ \n",
    "- Goal: Convert U into set of orthonomal vectors V= $\\{\\textbf v_1,\\textbf v_2,\\textbf v_3\\}$\n",
    "- Such that $\\textbf v_1.\\textbf v_2 = \\textbf v_1.\\textbf v_3 = \\textbf v_2.\\textbf v_3 = 0 $ and $||\\textbf v_1||=||\\textbf v_2||=||\\textbf v_3||=1$\n",
    "\n",
    "- Sol:- We define the following $ w_1 = u_1 $ and $\\textbf v_1 = \\frac{w_1}{||w_1||} $\n",
    "\n",
    "- $ w_2 = u_2 - proj_{\\textbf v_1 }{(u_2)} = u_2 - (u_2.v_1).v_1 $ Hence $\\textbf  v_2 = \\frac{w_2}{||w_2||}$\n",
    "\n",
    "- $ w_3 = u_3 - proj_{\\textbf v_1 }{(u_3)}- proj_{\\textbf v_2 }{(u_3)}$\n",
    "\n",
    "- $ w_3 = u_3  - (u_3.v_1).v_1 - (u_3.v_2).v_2 $ Hence $\\textbf  v_3 = \\frac{w_3}{||w_3||}$\n",
    "\n",
    "\n",
    "- In genreal $ w_k = u_k - \\sum_{j = 1}^{k-1} proj_{\\textbf v_j }{(u_k)} $\n",
    "\n",
    "- Therefore $ v_k = \\frac{w_k}{||w_k||}$\n",
    "   "
   ]
  },
  {
   "cell_type": "code",
   "execution_count": 60,
   "metadata": {
    "id": "-oIyd4Q32mUz"
   },
   "outputs": [],
   "source": [
    "import numpy as np\n",
    "A= np.array(((2,3,4),(3,4,5),(5,6,3)))"
   ]
  },
  {
   "cell_type": "code",
   "execution_count": 61,
   "metadata": {
    "colab": {
     "base_uri": "https://localhost:8080/",
     "height": 70
    },
    "executionInfo": {
     "elapsed": 1340,
     "status": "ok",
     "timestamp": 1594276334365,
     "user": {
      "displayName": "Sudha B G",
      "photoUrl": "",
      "userId": "11454725486752146023"
     },
     "user_tz": -330
    },
    "id": "s4CBEcmxsBkI",
    "outputId": "b234b166-f21e-42c6-fc82-c1eafa30931d"
   },
   "outputs": [
    {
     "data": {
      "text/plain": [
       "array([[2, 3, 4],\n",
       "       [3, 4, 5],\n",
       "       [5, 6, 3]])"
      ]
     },
     "execution_count": 61,
     "metadata": {},
     "output_type": "execute_result"
    }
   ],
   "source": [
    "A"
   ]
  },
  {
   "cell_type": "code",
   "execution_count": 62,
   "metadata": {
    "id": "6WJERT-OsdtG"
   },
   "outputs": [],
   "source": [
    "u1,u2,u3=A[:,0],A[:,1],A[:,2] # Splitted the Matrix column wise"
   ]
  },
  {
   "cell_type": "code",
   "execution_count": null,
   "metadata": {},
   "outputs": [],
   "source": [
    "w1 = u1"
   ]
  },
  {
   "cell_type": "code",
   "execution_count": 63,
   "metadata": {
    "id": "_llzg76aso71"
   },
   "outputs": [],
   "source": [
    "mag_w1=np.linalg.norm(w1) #Magnitude of u1"
   ]
  },
  {
   "cell_type": "code",
   "execution_count": 64,
   "metadata": {
    "id": "67Yjnn6Fsr6B"
   },
   "outputs": [],
   "source": [
    "v1=w1/mag_w1 #Normalization"
   ]
  },
  {
   "cell_type": "code",
   "execution_count": 65,
   "metadata": {
    "colab": {
     "base_uri": "https://localhost:8080/",
     "height": 34
    },
    "id": "aOvhatnjvS3x",
    "outputId": "35e9f3ad-d742-4411-fc23-cb3f23b99158"
   },
   "outputs": [
    {
     "data": {
      "text/plain": [
       "array([3, 4, 6])"
      ]
     },
     "execution_count": 65,
     "metadata": {},
     "output_type": "execute_result"
    }
   ],
   "source": [
    "u2"
   ]
  },
  {
   "cell_type": "code",
   "execution_count": 66,
   "metadata": {
    "colab": {
     "base_uri": "https://localhost:8080/",
     "height": 34
    },
    "id": "ckM0JzAvxWs4",
    "outputId": "dc4c4da1-b8b3-4a59-e9f0-8d280c079365"
   },
   "outputs": [
    {
     "data": {
      "text/plain": [
       "1.0"
      ]
     },
     "execution_count": 66,
     "metadata": {},
     "output_type": "execute_result"
    }
   ],
   "source": [
    "#check the magnitude of v1 is 1\n",
    "v1.dot(v1)"
   ]
  },
  {
   "cell_type": "code",
   "execution_count": 67,
   "metadata": {
    "id": "HAgrtOdCvX1l"
   },
   "outputs": [],
   "source": [
    "w2=u2-(u2.dot(v1))*v1  #Removing the vector projection of u2 in v1 from u2"
   ]
  },
  {
   "cell_type": "code",
   "execution_count": 68,
   "metadata": {
    "id": "00iiUIsVwFPO"
   },
   "outputs": [],
   "source": [
    "mag_w2=np.linalg.norm(w2) #Magnitude of w2"
   ]
  },
  {
   "cell_type": "code",
   "execution_count": 69,
   "metadata": {
    "id": "MuufuqUHwGoS"
   },
   "outputs": [],
   "source": [
    "v2=w2/mag_w2 #normalizing"
   ]
  },
  {
   "cell_type": "code",
   "execution_count": 70,
   "metadata": {
    "colab": {
     "base_uri": "https://localhost:8080/",
     "height": 34
    },
    "id": "CH9e_TSTxvPL",
    "outputId": "495f8645-66e2-4290-a0d7-38f921539b08"
   },
   "outputs": [
    {
     "data": {
      "text/plain": [
       "1.0"
      ]
     },
     "execution_count": 70,
     "metadata": {},
     "output_type": "execute_result"
    }
   ],
   "source": [
    "#check the magnitude of v2 is 1\n",
    "v2.dot(v2)"
   ]
  },
  {
   "cell_type": "code",
   "execution_count": 71,
   "metadata": {
    "colab": {
     "base_uri": "https://localhost:8080/",
     "height": 34
    },
    "id": "1B8nK5J6x0Bm",
    "outputId": "0186e3e2-8523-4504-e966-3f6ad770a734"
   },
   "outputs": [
    {
     "data": {
      "text/plain": [
       "-4.440892098500626e-16"
      ]
     },
     "execution_count": 71,
     "metadata": {},
     "output_type": "execute_result"
    }
   ],
   "source": [
    "#check if v1 and v2 are orthogonal\n",
    "v1.dot(v2) "
   ]
  },
  {
   "cell_type": "code",
   "execution_count": 72,
   "metadata": {
    "id": "IvH_tIL1x62s"
   },
   "outputs": [],
   "source": [
    "w3=u3-(u3.dot(v1))*v1-(u3.dot(v2))*v2 # Removing the vector projection of u3 in v1 and v2 from u3"
   ]
  },
  {
   "cell_type": "code",
   "execution_count": 73,
   "metadata": {
    "colab": {
     "base_uri": "https://localhost:8080/",
     "height": 166
    },
    "executionInfo": {
     "elapsed": 989,
     "status": "error",
     "timestamp": 1616671650694,
     "user": {
      "displayName": "Sudha B G",
      "photoUrl": "https://lh3.googleusercontent.com/a-/AOh14GhlQTgtbIyY5WGHUlbWkOwvQCZHf7kALTNEVAhkbw=s64",
      "userId": "11454725486752146023"
     },
     "user_tz": -330
    },
    "id": "8fSlRz6Uzi6c",
    "outputId": "5aba3f23-fc6d-4770-fe71-af339a8c0f89"
   },
   "outputs": [],
   "source": [
    "mag_w3=np.linalg.norm(w3) #Magnitude of w3"
   ]
  },
  {
   "cell_type": "code",
   "execution_count": 74,
   "metadata": {
    "id": "3o9TJXQxz7U9"
   },
   "outputs": [],
   "source": [
    "v3=w3/mag_w3 # Normalizing"
   ]
  },
  {
   "cell_type": "code",
   "execution_count": 75,
   "metadata": {
    "colab": {
     "base_uri": "https://localhost:8080/",
     "height": 34
    },
    "id": "XwJRlCPoz_1W",
    "outputId": "ec43371a-6365-4fbf-83dd-a1a77d0a1a25"
   },
   "outputs": [
    {
     "data": {
      "text/plain": [
       "1.0000000000000002"
      ]
     },
     "execution_count": 75,
     "metadata": {},
     "output_type": "execute_result"
    }
   ],
   "source": [
    "v3.dot(v3)"
   ]
  },
  {
   "cell_type": "code",
   "execution_count": 76,
   "metadata": {
    "id": "reKPTDnj55hh"
   },
   "outputs": [],
   "source": [
    "y=np.column_stack((v1,v2,v3))"
   ]
  },
  {
   "cell_type": "code",
   "execution_count": 77,
   "metadata": {
    "colab": {
     "base_uri": "https://localhost:8080/",
     "height": 68
    },
    "id": "wHTtCb1Q59dp",
    "outputId": "337946d9-f500-499d-8393-2735ab12b6e4"
   },
   "outputs": [
    {
     "data": {
      "text/plain": [
       "array([[ 0.32444284,  0.78039897, -0.53452248],\n",
       "       [ 0.48666426,  0.34684399,  0.80178373],\n",
       "       [ 0.81110711, -0.52026598, -0.26726124]])"
      ]
     },
     "execution_count": 77,
     "metadata": {},
     "output_type": "execute_result"
    }
   ],
   "source": [
    "y"
   ]
  },
  {
   "cell_type": "code",
   "execution_count": 78,
   "metadata": {
    "id": "EuNw7Vru6MkE"
   },
   "outputs": [
    {
     "data": {
      "text/plain": [
       "<function ndarray.dot>"
      ]
     },
     "execution_count": 78,
     "metadata": {},
     "output_type": "execute_result"
    }
   ],
   "source": [
    "y.dot"
   ]
  },
  {
   "cell_type": "markdown",
   "metadata": {
    "id": "_heV-A1oxKcQ"
   },
   "source": [
    "## Eigen Values and Vectors\n"
   ]
  },
  {
   "cell_type": "code",
   "execution_count": 5,
   "metadata": {
    "colab": {
     "base_uri": "https://localhost:8080/"
    },
    "executionInfo": {
     "elapsed": 841,
     "status": "ok",
     "timestamp": 1617587457497,
     "user": {
      "displayName": "Mallikarjuna Doddamane",
      "photoUrl": "https://lh3.googleusercontent.com/a-/AOh14GjOdnL6KUzzQMPHfk6as2xRMsOSbJoBMF9oJSaK=s64",
      "userId": "11697854241316775674"
     },
     "user_tz": -330
    },
    "id": "csymNc2E0YIy",
    "outputId": "00d36fd8-94ca-466a-c4a4-840b33fd62b9"
   },
   "outputs": [
    {
     "data": {
      "text/plain": [
       "array([2.61803399+0.j, 0.38196601+0.j])"
      ]
     },
     "execution_count": 5,
     "metadata": {},
     "output_type": "execute_result"
    }
   ],
   "source": [
    "import numpy as np\n",
    "import scipy.linalg as la\n",
    "T= np.array(((2,1),(1,1)))\n",
    "eigvals, eigvecs=la.eig(T)\n",
    "eigvals"
   ]
  },
  {
   "cell_type": "code",
   "execution_count": 80,
   "metadata": {
    "colab": {
     "base_uri": "https://localhost:8080/",
     "height": 34
    },
    "executionInfo": {
     "elapsed": 1279,
     "status": "ok",
     "timestamp": 1588053488220,
     "user": {
      "displayName": "Sudha B G",
      "photoUrl": "",
      "userId": "11454725486752146023"
     },
     "user_tz": -330
    },
    "id": "w2TRp9bduLDf",
    "outputId": "0cb57714-7e67-4f12-cdf4-84705cec2daf"
   },
   "outputs": [
    {
     "data": {
      "text/plain": [
       "array([2.61803399+0.j, 0.38196601+0.j])"
      ]
     },
     "execution_count": 80,
     "metadata": {},
     "output_type": "execute_result"
    }
   ],
   "source": [
    "eigvals"
   ]
  },
  {
   "cell_type": "code",
   "execution_count": null,
   "metadata": {
    "id": "n1T1nwlyuqwr"
   },
   "outputs": [],
   "source": []
  },
  {
   "cell_type": "markdown",
   "metadata": {
    "id": "CyqH1z3JYOds"
   },
   "source": [
    "## Eigen basis and Transformations/ Diagonalization\n",
    "\n",
    "#####  Matrix diagonalization is the process of performing a similarity transformation on a matrix in order to recover a similar matrix that is diagonal (i.e., all its non-diagonal entries are zero).\n",
    "\n",
    "##### Once a matrix is diagonalized it becomes very easy to raise it to integer powers.\n",
    "\n",
    "##### Not all matrices are diagonalizable. The diagonalizable matrices are those that have no defective eigenvalues (i.e., eigenvalues whose geometric multiplicity is less than their algebraic multiplicity).\n",
    "\n",
    "\n",
    "## Similarity transformations\n",
    "- Remember that two square matrices $A$ and $B$ are said to be similar if there exists an invertible \n",
    "-  $ k \\times k $ Matrix   $ P $ such that $ B = P^{-1}AP $\n",
    "- If two matrices are similar, then they have the same rank, trace, determinant and eigenvalues.\n",
    "- Not only two similar matrices have the same eigenvalues, but their eigenvalues have the same algebraic and geometric multiplicities.\n",
    "\n",
    "\n",
    "## Diagonalizable matrix\n",
    "- We can now provide a definition of diagonalizable matrix.\n",
    "\n",
    "- Definition Let A be a $ k \\times k $ matrix. We say that A is diagonalizable if and only if it is similar to a diagonal matrix.\n",
    "\n",
    "- In other words, when A is diagonalizable, then there exists an invertible matrix $P$ such that\n",
    "  $ D = P^{-1}AP $\n",
    "  \n",
    "  \n",
    "- Consider the matrix \n",
    "$ A = \\bigl(\\begin{smallmatrix}\n",
    " -1 & 2 \\\\ \n",
    " 0 &  3\n",
    "\\end{smallmatrix}\\bigr)$"
   ]
  },
  {
   "cell_type": "code",
   "execution_count": 7,
   "metadata": {},
   "outputs": [
    {
     "name": "stdout",
     "output_type": "stream",
     "text": [
      "[[-1  2]\n",
      " [ 0  3]]\n"
     ]
    }
   ],
   "source": [
    "A = np.array([[-1,2],[0,3]])\n",
    "print(A)"
   ]
  },
  {
   "cell_type": "markdown",
   "metadata": {},
   "source": [
    "- Can we find P such that $ D = P^{-1}AP $ and $D$ is diagonal Matrix\n",
    "- $P$ is a matrix of Eigen vectors of $A$ and $D$ is a matrix of eigen values of $A$"
   ]
  },
  {
   "cell_type": "code",
   "execution_count": 8,
   "metadata": {},
   "outputs": [
    {
     "data": {
      "text/plain": [
       "array([-1.+0.j,  3.+0.j])"
      ]
     },
     "execution_count": 8,
     "metadata": {},
     "output_type": "execute_result"
    }
   ],
   "source": [
    "# Eigen Values of A \n",
    "eigvals, eigvecs=la.eig(A)\n",
    "eigvals"
   ]
  },
  {
   "cell_type": "code",
   "execution_count": 9,
   "metadata": {
    "colab": {
     "base_uri": "https://localhost:8080/"
    },
    "executionInfo": {
     "elapsed": 870,
     "status": "ok",
     "timestamp": 1617587498488,
     "user": {
      "displayName": "Mallikarjuna Doddamane",
      "photoUrl": "https://lh3.googleusercontent.com/a-/AOh14GjOdnL6KUzzQMPHfk6as2xRMsOSbJoBMF9oJSaK=s64",
      "userId": "11697854241316775674"
     },
     "user_tz": -330
    },
    "id": "FTMItsdcXvkV",
    "outputId": "2f458721-c253-4810-b780-eeadd03cb1b7"
   },
   "outputs": [
    {
     "data": {
      "text/plain": [
       "array([[-1.+0.j,  0.+0.j],\n",
       "       [-0.+0.j,  3.+0.j]])"
      ]
     },
     "execution_count": 9,
     "metadata": {},
     "output_type": "execute_result"
    }
   ],
   "source": [
    "# Lets Create D out of eigenavlues of A\n",
    "D = np.array(((1,0),(0,1)))*eigvals\n",
    "D"
   ]
  },
  {
   "cell_type": "code",
   "execution_count": 11,
   "metadata": {},
   "outputs": [
    {
     "data": {
      "text/plain": [
       "array([[1.        , 0.4472136 ],\n",
       "       [0.        , 0.89442719]])"
      ]
     },
     "execution_count": 11,
     "metadata": {},
     "output_type": "execute_result"
    }
   ],
   "source": [
    "\n",
    "P=eigvecs\n",
    "\n",
    "P"
   ]
  },
  {
   "cell_type": "code",
   "execution_count": 13,
   "metadata": {
    "colab": {
     "base_uri": "https://localhost:8080/"
    },
    "executionInfo": {
     "elapsed": 795,
     "status": "ok",
     "timestamp": 1617587503568,
     "user": {
      "displayName": "Mallikarjuna Doddamane",
      "photoUrl": "https://lh3.googleusercontent.com/a-/AOh14GjOdnL6KUzzQMPHfk6as2xRMsOSbJoBMF9oJSaK=s64",
      "userId": "11697854241316775674"
     },
     "user_tz": -330
    },
    "id": "ZVgEpE19Ye6_",
    "outputId": "9de9ae70-46b5-4133-ee43-622bd26108b2"
   },
   "outputs": [
    {
     "data": {
      "text/plain": [
       "array([[ 1.        , -0.5       ],\n",
       "       [ 0.        ,  1.11803399]])"
      ]
     },
     "execution_count": 13,
     "metadata": {},
     "output_type": "execute_result"
    }
   ],
   "source": [
    "inv_P=np.linalg.inv(P)\n",
    "inv_P"
   ]
  },
  {
   "cell_type": "markdown",
   "metadata": {},
   "source": [
    "Now consider $ P^{-1}AP$"
   ]
  },
  {
   "cell_type": "code",
   "execution_count": 16,
   "metadata": {},
   "outputs": [
    {
     "data": {
      "text/plain": [
       "array([[-1.,  0.],\n",
       "       [ 0.,  3.]])"
      ]
     },
     "execution_count": 16,
     "metadata": {},
     "output_type": "execute_result"
    }
   ],
   "source": [
    "inv_P@A@P"
   ]
  },
  {
   "cell_type": "code",
   "execution_count": 17,
   "metadata": {},
   "outputs": [
    {
     "data": {
      "text/plain": [
       "array([[ True,  True],\n",
       "       [ True,  True]])"
      ]
     },
     "execution_count": 17,
     "metadata": {},
     "output_type": "execute_result"
    }
   ],
   "source": [
    "D==inv_P@A@P  # Shows that D = P^{-1}AP"
   ]
  },
  {
   "cell_type": "markdown",
   "metadata": {},
   "source": [
    "### Most Important Application\n",
    "- We can find power of any given matrix\n",
    "- $ D = P^{-1}AP $  hence \n",
    "- $ A = PDP^{-1}$\n",
    "- $ A^{n}$ = $\\underbrace{P^{-1}DP\\times P^{-1}DP \\times...\\times P^{-1}DP}_{n-times} $\n",
    "- $ A^{n} = P^{-1}D^{n}P$"
   ]
  },
  {
   "cell_type": "markdown",
   "metadata": {},
   "source": [
    "### In the above problem \n",
    "$ A^{2}= P^{-1}D^2P $\n"
   ]
  },
  {
   "cell_type": "code",
   "execution_count": 37,
   "metadata": {},
   "outputs": [
    {
     "data": {
      "text/plain": [
       "array([[1.+0.j, 0.+0.j],\n",
       "       [0.+0.j, 9.+0.j]])"
      ]
     },
     "execution_count": 37,
     "metadata": {},
     "output_type": "execute_result"
    }
   ],
   "source": [
    "D_sq=D@D\n",
    "D_sq"
   ]
  },
  {
   "cell_type": "code",
   "execution_count": 38,
   "metadata": {},
   "outputs": [
    {
     "data": {
      "text/plain": [
       "array([[1, 4],\n",
       "       [0, 9]])"
      ]
     },
     "execution_count": 38,
     "metadata": {},
     "output_type": "execute_result"
    }
   ],
   "source": [
    "A_sq=A@A\n",
    "A_sq"
   ]
  },
  {
   "cell_type": "code",
   "execution_count": 33,
   "metadata": {},
   "outputs": [
    {
     "data": {
      "text/plain": [
       "array([[ 1.        , -0.5       ],\n",
       "       [ 0.        ,  1.11803399]])"
      ]
     },
     "execution_count": 33,
     "metadata": {},
     "output_type": "execute_result"
    }
   ],
   "source": [
    "inv_P"
   ]
  },
  {
   "cell_type": "code",
   "execution_count": 34,
   "metadata": {},
   "outputs": [
    {
     "data": {
      "text/plain": [
       "array([[1.        , 0.4472136 ],\n",
       "       [0.        , 0.89442719]])"
      ]
     },
     "execution_count": 34,
     "metadata": {},
     "output_type": "execute_result"
    }
   ],
   "source": [
    "P"
   ]
  },
  {
   "cell_type": "code",
   "execution_count": 39,
   "metadata": {},
   "outputs": [
    {
     "data": {
      "text/plain": [
       "array([[ 1.        +0.j, -3.57770876+0.j],\n",
       "       [ 0.        +0.j,  9.        +0.j]])"
      ]
     },
     "execution_count": 39,
     "metadata": {},
     "output_type": "execute_result"
    }
   ],
   "source": [
    "final=inv_P@D_sq@P\n",
    "final"
   ]
  },
  {
   "cell_type": "code",
   "execution_count": 36,
   "metadata": {},
   "outputs": [
    {
     "data": {
      "text/plain": [
       "array([[ True, False],\n",
       "       [ True,  True]])"
      ]
     },
     "execution_count": 36,
     "metadata": {},
     "output_type": "execute_result"
    }
   ],
   "source": [
    "A_sq == final"
   ]
  },
  {
   "cell_type": "code",
   "execution_count": null,
   "metadata": {},
   "outputs": [],
   "source": []
  }
 ],
 "metadata": {
  "colab": {
   "collapsed_sections": [],
   "name": "S1_Linear_Transformations.ipynb",
   "provenance": []
  },
  "kernelspec": {
   "display_name": "Python 3 (ipykernel)",
   "language": "python",
   "name": "python3"
  },
  "language_info": {
   "codemirror_mode": {
    "name": "ipython",
    "version": 3
   },
   "file_extension": ".py",
   "mimetype": "text/x-python",
   "name": "python",
   "nbconvert_exporter": "python",
   "pygments_lexer": "ipython3",
   "version": "3.11.5"
  }
 },
 "nbformat": 4,
 "nbformat_minor": 1
}
