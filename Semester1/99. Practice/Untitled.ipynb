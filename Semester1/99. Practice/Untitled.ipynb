{
 "cells": [
  {
   "cell_type": "code",
   "execution_count": 1,
   "id": "6d57f3dd",
   "metadata": {},
   "outputs": [
    {
     "ename": "ImportError",
     "evalue": "Unable to import required dependencies:\nnumpy: Error importing numpy: you should not try to import numpy from\n        its source directory; please exit the numpy source tree, and relaunch\n        your python interpreter from there.",
     "output_type": "error",
     "traceback": [
      "\u001b[1;31m---------------------------------------------------------------------------\u001b[0m",
      "\u001b[1;31mImportError\u001b[0m                               Traceback (most recent call last)",
      "Cell \u001b[1;32mIn[1], line 1\u001b[0m\n\u001b[1;32m----> 1\u001b[0m \u001b[38;5;28;01mimport\u001b[39;00m \u001b[38;5;21;01mpandas\u001b[39;00m \u001b[38;5;28;01mas\u001b[39;00m \u001b[38;5;21;01mpd\u001b[39;00m\n\u001b[0;32m      2\u001b[0m \u001b[38;5;28;01mimport\u001b[39;00m \u001b[38;5;21;01mnumpy\u001b[39;00m \u001b[38;5;28;01mas\u001b[39;00m \u001b[38;5;21;01mnp\u001b[39;00m\n",
      "File \u001b[1;32mC:\\Python\\Python312\\Lib\\site-packages\\pandas\\__init__.py:32\u001b[0m\n\u001b[0;32m     29\u001b[0m         _missing_dependencies\u001b[38;5;241m.\u001b[39mappend(\u001b[38;5;124mf\u001b[39m\u001b[38;5;124m\"\u001b[39m\u001b[38;5;132;01m{\u001b[39;00m_dependency\u001b[38;5;132;01m}\u001b[39;00m\u001b[38;5;124m: \u001b[39m\u001b[38;5;132;01m{\u001b[39;00m_e\u001b[38;5;132;01m}\u001b[39;00m\u001b[38;5;124m\"\u001b[39m)\n\u001b[0;32m     31\u001b[0m \u001b[38;5;28;01mif\u001b[39;00m _missing_dependencies:  \u001b[38;5;66;03m# pragma: no cover\u001b[39;00m\n\u001b[1;32m---> 32\u001b[0m     \u001b[38;5;28;01mraise\u001b[39;00m \u001b[38;5;167;01mImportError\u001b[39;00m(\n\u001b[0;32m     33\u001b[0m         \u001b[38;5;124m\"\u001b[39m\u001b[38;5;124mUnable to import required dependencies:\u001b[39m\u001b[38;5;130;01m\\n\u001b[39;00m\u001b[38;5;124m\"\u001b[39m \u001b[38;5;241m+\u001b[39m \u001b[38;5;124m\"\u001b[39m\u001b[38;5;130;01m\\n\u001b[39;00m\u001b[38;5;124m\"\u001b[39m\u001b[38;5;241m.\u001b[39mjoin(_missing_dependencies)\n\u001b[0;32m     34\u001b[0m     )\n\u001b[0;32m     35\u001b[0m \u001b[38;5;28;01mdel\u001b[39;00m _hard_dependencies, _dependency, _missing_dependencies\n\u001b[0;32m     37\u001b[0m \u001b[38;5;28;01mtry\u001b[39;00m:\n\u001b[0;32m     38\u001b[0m     \u001b[38;5;66;03m# numpy compat\u001b[39;00m\n",
      "\u001b[1;31mImportError\u001b[0m: Unable to import required dependencies:\nnumpy: Error importing numpy: you should not try to import numpy from\n        its source directory; please exit the numpy source tree, and relaunch\n        your python interpreter from there."
     ]
    }
   ],
   "source": [
    "import pandas as pd\n",
    "import numpy as np"
   ]
  },
  {
   "cell_type": "code",
   "execution_count": 2,
   "id": "cae30e33",
   "metadata": {},
   "outputs": [],
   "source": [
    "df = pd.read_csv('employees.csv')"
   ]
  },
  {
   "cell_type": "code",
   "execution_count": 3,
   "id": "b413cfe1",
   "metadata": {},
   "outputs": [
    {
     "data": {
      "text/html": [
       "<div>\n",
       "<style scoped>\n",
       "    .dataframe tbody tr th:only-of-type {\n",
       "        vertical-align: middle;\n",
       "    }\n",
       "\n",
       "    .dataframe tbody tr th {\n",
       "        vertical-align: top;\n",
       "    }\n",
       "\n",
       "    .dataframe thead th {\n",
       "        text-align: right;\n",
       "    }\n",
       "</style>\n",
       "<table border=\"1\" class=\"dataframe\">\n",
       "  <thead>\n",
       "    <tr style=\"text-align: right;\">\n",
       "      <th></th>\n",
       "      <th>First Name</th>\n",
       "      <th>Gender</th>\n",
       "      <th>Start Date</th>\n",
       "      <th>Last Login Time</th>\n",
       "      <th>Salary</th>\n",
       "      <th>Bonus %</th>\n",
       "      <th>Senior Management</th>\n",
       "      <th>Team</th>\n",
       "    </tr>\n",
       "  </thead>\n",
       "  <tbody>\n",
       "    <tr>\n",
       "      <th>0</th>\n",
       "      <td>Douglas</td>\n",
       "      <td>Male</td>\n",
       "      <td>8/6/1993</td>\n",
       "      <td>12:42 PM</td>\n",
       "      <td>97308</td>\n",
       "      <td>6.945</td>\n",
       "      <td>True</td>\n",
       "      <td>Marketing</td>\n",
       "    </tr>\n",
       "    <tr>\n",
       "      <th>1</th>\n",
       "      <td>Thomas</td>\n",
       "      <td>Male</td>\n",
       "      <td>3/31/1996</td>\n",
       "      <td>6:53 AM</td>\n",
       "      <td>61933</td>\n",
       "      <td>4.170</td>\n",
       "      <td>True</td>\n",
       "      <td>NaN</td>\n",
       "    </tr>\n",
       "    <tr>\n",
       "      <th>2</th>\n",
       "      <td>Maria</td>\n",
       "      <td>Female</td>\n",
       "      <td>4/23/1993</td>\n",
       "      <td>11:17 AM</td>\n",
       "      <td>130590</td>\n",
       "      <td>11.858</td>\n",
       "      <td>False</td>\n",
       "      <td>Finance</td>\n",
       "    </tr>\n",
       "    <tr>\n",
       "      <th>3</th>\n",
       "      <td>Jerry</td>\n",
       "      <td>Male</td>\n",
       "      <td>3/4/2005</td>\n",
       "      <td>1:00 PM</td>\n",
       "      <td>138705</td>\n",
       "      <td>9.340</td>\n",
       "      <td>True</td>\n",
       "      <td>Finance</td>\n",
       "    </tr>\n",
       "    <tr>\n",
       "      <th>4</th>\n",
       "      <td>Larry</td>\n",
       "      <td>Male</td>\n",
       "      <td>1/24/1998</td>\n",
       "      <td>4:47 PM</td>\n",
       "      <td>101004</td>\n",
       "      <td>1.389</td>\n",
       "      <td>True</td>\n",
       "      <td>Client Services</td>\n",
       "    </tr>\n",
       "  </tbody>\n",
       "</table>\n",
       "</div>"
      ],
      "text/plain": [
       "  First Name  Gender Start Date Last Login Time  Salary  Bonus %  \\\n",
       "0    Douglas    Male   8/6/1993        12:42 PM   97308    6.945   \n",
       "1     Thomas    Male  3/31/1996         6:53 AM   61933    4.170   \n",
       "2      Maria  Female  4/23/1993        11:17 AM  130590   11.858   \n",
       "3      Jerry    Male   3/4/2005         1:00 PM  138705    9.340   \n",
       "4      Larry    Male  1/24/1998         4:47 PM  101004    1.389   \n",
       "\n",
       "  Senior Management             Team  \n",
       "0              True        Marketing  \n",
       "1              True              NaN  \n",
       "2             False          Finance  \n",
       "3              True          Finance  \n",
       "4              True  Client Services  "
      ]
     },
     "execution_count": 3,
     "metadata": {},
     "output_type": "execute_result"
    }
   ],
   "source": [
    "df.head()"
   ]
  },
  {
   "cell_type": "code",
   "execution_count": 4,
   "id": "e7b18867",
   "metadata": {},
   "outputs": [
    {
     "data": {
      "text/plain": [
       "(1000, 8)"
      ]
     },
     "execution_count": 4,
     "metadata": {},
     "output_type": "execute_result"
    }
   ],
   "source": [
    "df.shape"
   ]
  },
  {
   "cell_type": "code",
   "execution_count": 8,
   "id": "b6409d78",
   "metadata": {},
   "outputs": [
    {
     "data": {
      "text/html": [
       "<div>\n",
       "<style scoped>\n",
       "    .dataframe tbody tr th:only-of-type {\n",
       "        vertical-align: middle;\n",
       "    }\n",
       "\n",
       "    .dataframe tbody tr th {\n",
       "        vertical-align: top;\n",
       "    }\n",
       "\n",
       "    .dataframe thead th {\n",
       "        text-align: right;\n",
       "    }\n",
       "</style>\n",
       "<table border=\"1\" class=\"dataframe\">\n",
       "  <thead>\n",
       "    <tr style=\"text-align: right;\">\n",
       "      <th></th>\n",
       "      <th>Salary</th>\n",
       "      <th>Bonus %</th>\n",
       "    </tr>\n",
       "  </thead>\n",
       "  <tbody>\n",
       "    <tr>\n",
       "      <th>count</th>\n",
       "      <td>1000.000000</td>\n",
       "      <td>1000.000000</td>\n",
       "    </tr>\n",
       "    <tr>\n",
       "      <th>mean</th>\n",
       "      <td>90662.181000</td>\n",
       "      <td>10.207555</td>\n",
       "    </tr>\n",
       "    <tr>\n",
       "      <th>std</th>\n",
       "      <td>32923.693342</td>\n",
       "      <td>5.528481</td>\n",
       "    </tr>\n",
       "    <tr>\n",
       "      <th>min</th>\n",
       "      <td>35013.000000</td>\n",
       "      <td>1.015000</td>\n",
       "    </tr>\n",
       "    <tr>\n",
       "      <th>25%</th>\n",
       "      <td>62613.000000</td>\n",
       "      <td>5.401750</td>\n",
       "    </tr>\n",
       "    <tr>\n",
       "      <th>50%</th>\n",
       "      <td>90428.000000</td>\n",
       "      <td>9.838500</td>\n",
       "    </tr>\n",
       "    <tr>\n",
       "      <th>75%</th>\n",
       "      <td>118740.250000</td>\n",
       "      <td>14.838000</td>\n",
       "    </tr>\n",
       "    <tr>\n",
       "      <th>max</th>\n",
       "      <td>149908.000000</td>\n",
       "      <td>19.944000</td>\n",
       "    </tr>\n",
       "  </tbody>\n",
       "</table>\n",
       "</div>"
      ],
      "text/plain": [
       "              Salary      Bonus %\n",
       "count    1000.000000  1000.000000\n",
       "mean    90662.181000    10.207555\n",
       "std     32923.693342     5.528481\n",
       "min     35013.000000     1.015000\n",
       "25%     62613.000000     5.401750\n",
       "50%     90428.000000     9.838500\n",
       "75%    118740.250000    14.838000\n",
       "max    149908.000000    19.944000"
      ]
     },
     "execution_count": 8,
     "metadata": {},
     "output_type": "execute_result"
    }
   ],
   "source": [
    "df.describe()"
   ]
  },
  {
   "cell_type": "code",
   "execution_count": 13,
   "id": "6cb8ff30",
   "metadata": {},
   "outputs": [],
   "source": [
    "salary = df['Salary']"
   ]
  },
  {
   "cell_type": "code",
   "execution_count": 15,
   "id": "d52aaab1",
   "metadata": {},
   "outputs": [
    {
     "data": {
      "text/plain": [
       "0       97308\n",
       "1       61933\n",
       "2      130590\n",
       "3      138705\n",
       "4      101004\n",
       "        ...  \n",
       "995    132483\n",
       "996     42392\n",
       "997     96914\n",
       "998     60500\n",
       "999    129949\n",
       "Name: Salary, Length: 1000, dtype: int64"
      ]
     },
     "execution_count": 15,
     "metadata": {},
     "output_type": "execute_result"
    }
   ],
   "source": [
    "salary"
   ]
  },
  {
   "cell_type": "code",
   "execution_count": 16,
   "id": "d98c8d04",
   "metadata": {},
   "outputs": [
    {
     "data": {
      "text/plain": [
       "101004"
      ]
     },
     "execution_count": 16,
     "metadata": {},
     "output_type": "execute_result"
    }
   ],
   "source": [
    "salary[4]"
   ]
  },
  {
   "cell_type": "code",
   "execution_count": 20,
   "id": "0f718ea9",
   "metadata": {},
   "outputs": [],
   "source": [
    "salary = salary.sort_values()"
   ]
  },
  {
   "cell_type": "code",
   "execution_count": 23,
   "id": "9e3ca1b4",
   "metadata": {},
   "outputs": [],
   "source": [
    "salary = salary.s"
   ]
  },
  {
   "cell_type": "code",
   "execution_count": 24,
   "id": "21c92fa0",
   "metadata": {},
   "outputs": [
    {
     "data": {
      "text/plain": [
       "0       97308\n",
       "1       61933\n",
       "2      130590\n",
       "3      138705\n",
       "4      101004\n",
       "        ...  \n",
       "995    132483\n",
       "996     42392\n",
       "997     96914\n",
       "998     60500\n",
       "999    129949\n",
       "Name: Salary, Length: 1000, dtype: int64"
      ]
     },
     "execution_count": 24,
     "metadata": {},
     "output_type": "execute_result"
    }
   ],
   "source": [
    "salary"
   ]
  },
  {
   "cell_type": "code",
   "execution_count": 26,
   "id": "0e2d2ce4",
   "metadata": {},
   "outputs": [],
   "source": [
    "salary_array = np.array(salary)"
   ]
  },
  {
   "cell_type": "code",
   "execution_count": 28,
   "id": "49145294",
   "metadata": {},
   "outputs": [],
   "source": [
    "salary_array.sort()"
   ]
  },
  {
   "cell_type": "code",
   "execution_count": 29,
   "id": "a16b9b27",
   "metadata": {},
   "outputs": [
    {
     "data": {
      "text/plain": [
       "array([ 35013,  35061,  35095,  35203,  35381,  35477,  35575,  35633,\n",
       "        35802,  35884,  36067,  36403,  36643,  36697,  36711,  36749,\n",
       "        36759,  36837,  36844,  36927,  36946,  37005,  37076,  37259,\n",
       "        37385,  37598,  37748,  37812,  37888,  37916,  37919,  37984,\n",
       "        38041,  38078,  38092,  38275,  38344,  38375,  38712,  38872,\n",
       "        38989,  39335,  39371,  39833,  40119,  40121,  40297,  40341,\n",
       "        40451,  40837,  41054,  41126,  41190,  41230,  41238,  41334,\n",
       "        41426,  41427,  41428,  41449,  41453,  41549,  41643,  41808,\n",
       "        41831,  41928,  42025,  42087,  42090,  42146,  42153,  42214,\n",
       "        42296,  42341,  42392,  42424,  42553,  42676,  42748,  43026,\n",
       "        43050,  43252,  43312,  43354,  43414,  43455,  43542,  43586,\n",
       "        43694,  44021,  44486,  44537,  44639,  44836,  44857,  45094,\n",
       "        45150,  45181,  45223,  45267,  45418,  45682,  45724,  45906,\n",
       "        46007,  46080,  46233,  46240,  46378,  46478,  46602,  46665,\n",
       "        46666,  46750,  46829,  46875,  46905,  46930,  46953,  47079,\n",
       "        47176,  47232,  47266,  47322,  47369,  47529,  47605,  47638,\n",
       "        47647,  47885,  48046,  48109,  48141,  48354,  48668,  48696,\n",
       "        48866,  49101,  49325,  49339,  49368,  49473,  49501,  49538,\n",
       "        49542,  49665,  50141,  50167,  50366,  50369,  50426,  50455,\n",
       "        50529,  50645,  50701,  50905,  51065,  51070,  51082,  51178,\n",
       "        51395,  51430,  51431,  51525,  51613,  51633,  51667,  51685,\n",
       "        51821,  51923,  52080,  52119,  52226,  52620,  52730,  52875,\n",
       "        52970,  53061,  53335,  53692,  53754,  53954,  54033,  54043,\n",
       "        54058,  54585,  54941,  55038,  55044,  55281,  55394,  56450,\n",
       "        56526,  56580,  56926,  56961,  56993,  57266,  57286,  57292,\n",
       "        57300,  57325,  57427,  57531,  57783,  57811,  57871,  58047,\n",
       "        58112,  58129,  58248,  58295,  58327,  58357,  58423,  58478,\n",
       "        58520,  58563,  58698,  58755,  58789,  59070,  59148,  59277,\n",
       "        59414,  59678,  59680,  59728,  59862,  59937,  59943,  59969,\n",
       "        59970,  60003,  60263,  60361,  60388,  60411,  60500,  60866,\n",
       "        61117,  61181,  61310,  61602,  61933,  61999,  62096,  62161,\n",
       "        62371,  62454,  62666,  62719,  62913,  62960,  63046,  63103,\n",
       "        63126,  63241,  63395,  63494,  63549,  63571,  63888,  64084,\n",
       "        64088,  64164,  64172,  64207,  64363,  64579,  64714,  64715,\n",
       "        65078,  65168,  65251,  65362,  65476,  65482,  65673,  65931,\n",
       "        66029,  66047,  66067,  66077,  66146,  66224,  66521,  66582,\n",
       "        66604,  66757,  66775,  66819,  66820,  66851,  67150,  67165,\n",
       "        67471,  67656,  67780,  67789,  67811,  67827,  68028,  68164,\n",
       "        68230,  68501,  68680,  68759,  69111,  69112,  69134,  69244,\n",
       "        69267,  69268,  69297,  69579,  69740,  69906,  69989,  70248,\n",
       "        70367,  70492,  70635,  70817,  70990,  71276,  71383,  71430,\n",
       "        71520,  71642,  71715,  71749,  71751,  71853,  71896,  71930,\n",
       "        71945,  71958,  71975,  72002,  72145,  72257,  72613,  72670,\n",
       "        72893,  72979,  73105,  73354,  73437,  73524,  73587,  73706,\n",
       "        73749,  73789,  73935,  74086,  74104,  74129,  74287,  74640,\n",
       "        74669,  74911,  75145,  75147,  75150,  75181,  75415,  75423,\n",
       "        75484,  75498,  75598,  75607,  75661,  75825,  76076,  76078,\n",
       "        76189,  76381,  76394,  76409,  76485,  76707,  77287,  77327,\n",
       "        77544,  77834,  77933,  78226,  78351,  78417,  78883,  78891,\n",
       "        79047,  79123,  79145,  79443,  79459,  79529,  79536,  79582,\n",
       "        79796,  79906,  80399,  80633,  80688,  80740,  80803,  80838,\n",
       "        81014,  81077,  81183,  81206,  81215,  81308,  81444,  81673,\n",
       "        81800,  81839,  81919,  82401,  82408,  82439,  82726,  82744,\n",
       "        82782,  82871,  82873,  82884,  83072,  83112,  83159,  83341,\n",
       "        83658,  83677,  83706,  83809,  83895,  84232,  84546,  84672,\n",
       "        84692,  84693,  84746,  84810,  84834,  84885,  85074,  85182,\n",
       "        85213,  85215,  85446,  85550,  85668,  85700,  85718,  85730,\n",
       "        85789,  85799,  85858,  85871,  86150,  86230,  86318,  86326,\n",
       "        86386,  86439,  86564,  86615,  86676,  86676,  86723,  86818,\n",
       "        86883,  87103,  87145,  87298,  87575,  87713,  87715,  87721,\n",
       "        87760,  88010,  88086,  88276,  88657,  88733,  89227,  89258,\n",
       "        89434,  89443,  89661,  89700,  89780,  89786,  89831,  89854,\n",
       "        90187,  90285,  90370,  90427,  90429,  90556,  90582,  90719,\n",
       "        90730,  90816,  90829,  90998,  91109,  91124,  91133,  91344,\n",
       "        91406,  91411,  91462,  91462,  91522,  91712,  91719,  91996,\n",
       "        92242,  92430,  92436,  92544,  92587,  92799,  93022,  93201,\n",
       "        93302,  93368,  93581,  93712,  93753,  93847,  93901,  93997,\n",
       "        94088,  94231,  94345,  94393,  94493,  94963,  94976,  95003,\n",
       "        95198,  95296,  95322,  95327,  95389,  95570,  95728,  95734,\n",
       "        95866,  96111,  96250,  96329,  96511,  96610,  96633,  96649,\n",
       "        96795,  96914,  96941,  96978,  97058,  97308,  97364,  97370,\n",
       "        97443,  97480,  97490,  97566,  97635,  97691,  97915,  97950,\n",
       "        98233,  98295,  98385,  98393,  98406,  98753,  98811,  98841,\n",
       "        98858,  98865,  98874,  99150,  99283,  99326,  99747, 100238,\n",
       "       100308, 100341, 100612, 100705, 100765, 100863, 100888, 100949,\n",
       "       101004, 101036, 101262, 101457, 101914, 101941, 102081, 102488,\n",
       "       102508, 102555, 102577, 102589, 102626, 102652, 102697, 102839,\n",
       "       102841, 103050, 103235, 103386, 103405, 103495, 103521, 103557,\n",
       "       103684, 103854, 103877, 103902, 104014, 104058, 104250, 104496,\n",
       "       104749, 104815, 104840, 104896, 104897, 105062, 105066, 105573,\n",
       "       105681, 105689, 105946, 106115, 106249, 106310, 106317, 106362,\n",
       "       106406, 106428, 106472, 106562, 106862, 106947, 106995, 107024,\n",
       "       107050, 107111, 107163, 107281, 107351, 107391, 107816, 108127,\n",
       "       108581, 108946, 109095, 109259, 109260, 109290, 109324, 109411,\n",
       "       109510, 109517, 109564, 109588, 109831, 109980, 110061, 110169,\n",
       "       110194, 110306, 110485, 110924, 110967, 111043, 111163, 111249,\n",
       "       111371, 111376, 111468, 111580, 111737, 111786, 111858, 112117,\n",
       "       112238, 112467, 112548, 112769, 112807, 112975, 113060, 113129,\n",
       "       113425, 113506, 113554, 113590, 113592, 113732, 113760, 113850,\n",
       "       114079, 114244, 114334, 114356, 114360, 114412, 114767, 114796,\n",
       "       114797, 114896, 115057, 115118, 115145, 115149, 115163, 115194,\n",
       "       115280, 115387, 115436, 115566, 115582, 115658, 115711, 115814,\n",
       "       115913, 116236, 116693, 116931, 117055, 117293, 117787, 118037,\n",
       "       118043, 118172, 118369, 118431, 118733, 118736, 118753, 118780,\n",
       "       118840, 118906, 119009, 119082, 119266, 119667, 119735, 120204,\n",
       "       120444, 120672, 120675, 120941, 121006, 121068, 121160, 121160,\n",
       "       121232, 121250, 121333, 121357, 121477, 121508, 121604, 121723,\n",
       "       121797, 121816, 121918, 122121, 122173, 122319, 122340, 122367,\n",
       "       122717, 122762, 122897, 122920, 122971, 123144, 123294, 123409,\n",
       "       123591, 123621, 123649, 123711, 123811, 123876, 123940, 123963,\n",
       "       124008, 124365, 124441, 124486, 124488, 124566, 124655, 124889,\n",
       "       125018, 125033, 125104, 125220, 125250, 125298, 125382, 125418,\n",
       "       125556, 125574, 125792, 125881, 126010, 126120, 126232, 126310,\n",
       "       126924, 126956, 127118, 127297, 127654, 127813, 128031, 128036,\n",
       "       128042, 128175, 128305, 128540, 128771, 129148, 129297, 129460,\n",
       "       129663, 129712, 129949, 129968, 130276, 130577, 130581, 130590,\n",
       "       130620, 131038, 131045, 131131, 131423, 131513, 131604, 131755,\n",
       "       131943, 131952, 132084, 132156, 132175, 132327, 132373, 132381,\n",
       "       132483, 132505, 132839, 132940, 133033, 133366, 133472, 133772,\n",
       "       133943, 133980, 134048, 134120, 134148, 134408, 134505, 134598,\n",
       "       134610, 134645, 134673, 134988, 135118, 135119, 135352, 135369,\n",
       "       135490, 135758, 135882, 135990, 136032, 136602, 136604, 136655,\n",
       "       136681, 136709, 136984, 137126, 137144, 137171, 137314, 137359,\n",
       "       137386, 137661, 137840, 137954, 137979, 138598, 138705, 138807,\n",
       "       138925, 139284, 139570, 139754, 139791, 139852, 139917, 139959,\n",
       "       140002, 140013, 140136, 140303, 140347, 140371, 140444, 140502,\n",
       "       140558, 140810, 140850, 140885, 141069, 141305, 141311, 141335,\n",
       "       141439, 141498, 141521, 141932, 141958, 142032, 142178, 142208,\n",
       "       142321, 142373, 142410, 142415, 142561, 142868, 142935, 143499,\n",
       "       143541, 143638, 144001, 144082, 144187, 144474, 144677, 144701,\n",
       "       144709, 144887, 145001, 145146, 145274, 145316, 145329, 145357,\n",
       "       145988, 145988, 146129, 146141, 146589, 146651, 146670, 146812,\n",
       "       146907, 147113, 147183, 147183, 147309, 147362, 147417, 147635,\n",
       "       147663, 147842, 148115, 148225, 148291, 148339, 148857, 148941,\n",
       "       148985, 149105, 149456, 149563, 149654, 149684, 149903, 149908],\n",
       "      dtype=int64)"
      ]
     },
     "execution_count": 29,
     "metadata": {},
     "output_type": "execute_result"
    }
   ],
   "source": [
    "salary_array"
   ]
  },
  {
   "cell_type": "code",
   "execution_count": 37,
   "id": "9bb81271",
   "metadata": {},
   "outputs": [
    {
     "data": {
      "text/plain": [
       "92460.5"
      ]
     },
     "execution_count": 37,
     "metadata": {},
     "output_type": "execute_result"
    }
   ],
   "source": [
    "( salary_array[0] + salary_array[999] ) / 2"
   ]
  },
  {
   "cell_type": "code",
   "execution_count": 39,
   "id": "7e175e2f",
   "metadata": {},
   "outputs": [
    {
     "data": {
      "text/plain": [
       "90427"
      ]
     },
     "execution_count": 39,
     "metadata": {},
     "output_type": "execute_result"
    }
   ],
   "source": [
    "salary_array[499]"
   ]
  },
  {
   "cell_type": "code",
   "execution_count": 46,
   "id": "92a27159",
   "metadata": {},
   "outputs": [
    {
     "data": {
      "text/plain": [
       "92436"
      ]
     },
     "execution_count": 46,
     "metadata": {},
     "output_type": "execute_result"
    }
   ],
   "source": [
    "salary_array[522]"
   ]
  },
  {
   "cell_type": "code",
   "execution_count": 47,
   "id": "bc3cdca5",
   "metadata": {},
   "outputs": [
    {
     "data": {
      "text/plain": [
       "92544"
      ]
     },
     "execution_count": 47,
     "metadata": {},
     "output_type": "execute_result"
    }
   ],
   "source": [
    "salary_array[523]"
   ]
  },
  {
   "cell_type": "code",
   "execution_count": 48,
   "id": "5ba4d750",
   "metadata": {},
   "outputs": [
    {
     "data": {
      "text/plain": [
       "92490.0"
      ]
     },
     "execution_count": 48,
     "metadata": {},
     "output_type": "execute_result"
    }
   ],
   "source": [
    "( salary_array[522] + salary_array[523]) / 2"
   ]
  },
  {
   "cell_type": "code",
   "execution_count": 50,
   "id": "735c5402",
   "metadata": {},
   "outputs": [
    {
     "name": "stdout",
     "output_type": "stream",
     "text": [
      "<class 'pandas.core.frame.DataFrame'>\n",
      "RangeIndex: 1000 entries, 0 to 999\n",
      "Data columns (total 8 columns):\n",
      " #   Column             Non-Null Count  Dtype  \n",
      "---  ------             --------------  -----  \n",
      " 0   First Name         933 non-null    object \n",
      " 1   Gender             855 non-null    object \n",
      " 2   Start Date         1000 non-null   object \n",
      " 3   Last Login Time    1000 non-null   object \n",
      " 4   Salary             1000 non-null   int64  \n",
      " 5   Bonus %            1000 non-null   float64\n",
      " 6   Senior Management  933 non-null    object \n",
      " 7   Team               957 non-null    object \n",
      "dtypes: float64(1), int64(1), object(6)\n",
      "memory usage: 62.6+ KB\n"
     ]
    }
   ],
   "source": [
    "df.info()"
   ]
  },
  {
   "cell_type": "code",
   "execution_count": 56,
   "id": "2d573423",
   "metadata": {},
   "outputs": [
    {
     "data": {
      "text/plain": [
       "First Name            67\n",
       "Gender               145\n",
       "Start Date             0\n",
       "Last Login Time        0\n",
       "Salary                 0\n",
       "Bonus %                0\n",
       "Senior Management     67\n",
       "Team                  43\n",
       "dtype: int64"
      ]
     },
     "execution_count": 56,
     "metadata": {},
     "output_type": "execute_result"
    }
   ],
   "source": [
    "df.isna().sum()"
   ]
  },
  {
   "cell_type": "code",
   "execution_count": 58,
   "id": "cf75dab8",
   "metadata": {},
   "outputs": [],
   "source": [
    "df['Start Date'] = pd.to_datetime(df['Start Date'])"
   ]
  },
  {
   "cell_type": "code",
   "execution_count": 59,
   "id": "6a8698c9",
   "metadata": {},
   "outputs": [
    {
     "data": {
      "text/html": [
       "<div>\n",
       "<style scoped>\n",
       "    .dataframe tbody tr th:only-of-type {\n",
       "        vertical-align: middle;\n",
       "    }\n",
       "\n",
       "    .dataframe tbody tr th {\n",
       "        vertical-align: top;\n",
       "    }\n",
       "\n",
       "    .dataframe thead th {\n",
       "        text-align: right;\n",
       "    }\n",
       "</style>\n",
       "<table border=\"1\" class=\"dataframe\">\n",
       "  <thead>\n",
       "    <tr style=\"text-align: right;\">\n",
       "      <th></th>\n",
       "      <th>First Name</th>\n",
       "      <th>Gender</th>\n",
       "      <th>Start Date</th>\n",
       "      <th>Last Login Time</th>\n",
       "      <th>Salary</th>\n",
       "      <th>Bonus %</th>\n",
       "      <th>Senior Management</th>\n",
       "      <th>Team</th>\n",
       "    </tr>\n",
       "  </thead>\n",
       "  <tbody>\n",
       "    <tr>\n",
       "      <th>0</th>\n",
       "      <td>Douglas</td>\n",
       "      <td>Male</td>\n",
       "      <td>1993-08-06</td>\n",
       "      <td>12:42 PM</td>\n",
       "      <td>97308</td>\n",
       "      <td>6.945</td>\n",
       "      <td>True</td>\n",
       "      <td>Marketing</td>\n",
       "    </tr>\n",
       "    <tr>\n",
       "      <th>1</th>\n",
       "      <td>Thomas</td>\n",
       "      <td>Male</td>\n",
       "      <td>1996-03-31</td>\n",
       "      <td>6:53 AM</td>\n",
       "      <td>61933</td>\n",
       "      <td>4.170</td>\n",
       "      <td>True</td>\n",
       "      <td>NaN</td>\n",
       "    </tr>\n",
       "    <tr>\n",
       "      <th>2</th>\n",
       "      <td>Maria</td>\n",
       "      <td>Female</td>\n",
       "      <td>1993-04-23</td>\n",
       "      <td>11:17 AM</td>\n",
       "      <td>130590</td>\n",
       "      <td>11.858</td>\n",
       "      <td>False</td>\n",
       "      <td>Finance</td>\n",
       "    </tr>\n",
       "    <tr>\n",
       "      <th>3</th>\n",
       "      <td>Jerry</td>\n",
       "      <td>Male</td>\n",
       "      <td>2005-03-04</td>\n",
       "      <td>1:00 PM</td>\n",
       "      <td>138705</td>\n",
       "      <td>9.340</td>\n",
       "      <td>True</td>\n",
       "      <td>Finance</td>\n",
       "    </tr>\n",
       "    <tr>\n",
       "      <th>4</th>\n",
       "      <td>Larry</td>\n",
       "      <td>Male</td>\n",
       "      <td>1998-01-24</td>\n",
       "      <td>4:47 PM</td>\n",
       "      <td>101004</td>\n",
       "      <td>1.389</td>\n",
       "      <td>True</td>\n",
       "      <td>Client Services</td>\n",
       "    </tr>\n",
       "  </tbody>\n",
       "</table>\n",
       "</div>"
      ],
      "text/plain": [
       "  First Name  Gender Start Date Last Login Time  Salary  Bonus %  \\\n",
       "0    Douglas    Male 1993-08-06        12:42 PM   97308    6.945   \n",
       "1     Thomas    Male 1996-03-31         6:53 AM   61933    4.170   \n",
       "2      Maria  Female 1993-04-23        11:17 AM  130590   11.858   \n",
       "3      Jerry    Male 2005-03-04         1:00 PM  138705    9.340   \n",
       "4      Larry    Male 1998-01-24         4:47 PM  101004    1.389   \n",
       "\n",
       "  Senior Management             Team  \n",
       "0              True        Marketing  \n",
       "1              True              NaN  \n",
       "2             False          Finance  \n",
       "3              True          Finance  \n",
       "4              True  Client Services  "
      ]
     },
     "execution_count": 59,
     "metadata": {},
     "output_type": "execute_result"
    }
   ],
   "source": [
    "df.head()"
   ]
  },
  {
   "cell_type": "code",
   "execution_count": 60,
   "id": "2bc20d74",
   "metadata": {},
   "outputs": [
    {
     "data": {
      "text/plain": [
       "First Name           200\n",
       "Gender                 2\n",
       "Start Date           972\n",
       "Last Login Time      720\n",
       "Salary               995\n",
       "Bonus %              971\n",
       "Senior Management      2\n",
       "Team                  10\n",
       "dtype: int64"
      ]
     },
     "execution_count": 60,
     "metadata": {},
     "output_type": "execute_result"
    }
   ],
   "source": [
    "df.nunique()"
   ]
  },
  {
   "cell_type": "code",
   "execution_count": 62,
   "id": "ad9cfd98",
   "metadata": {},
   "outputs": [
    {
     "data": {
      "text/plain": [
       "First Name            933\n",
       "Gender                855\n",
       "Start Date           1000\n",
       "Last Login Time      1000\n",
       "Salary               1000\n",
       "Bonus %              1000\n",
       "Senior Management     933\n",
       "Team                  957\n",
       "dtype: int64"
      ]
     },
     "execution_count": 62,
     "metadata": {},
     "output_type": "execute_result"
    }
   ],
   "source": [
    "df.notnull().sum()"
   ]
  },
  {
   "cell_type": "code",
   "execution_count": 64,
   "id": "993a98ae",
   "metadata": {},
   "outputs": [
    {
     "data": {
      "text/plain": [
       "2"
      ]
     },
     "execution_count": 64,
     "metadata": {},
     "output_type": "execute_result"
    }
   ],
   "source": [
    "df.ndim"
   ]
  },
  {
   "cell_type": "code",
   "execution_count": 73,
   "id": "c99c5b66",
   "metadata": {},
   "outputs": [
    {
     "data": {
      "text/html": [
       "<div>\n",
       "<style scoped>\n",
       "    .dataframe tbody tr th:only-of-type {\n",
       "        vertical-align: middle;\n",
       "    }\n",
       "\n",
       "    .dataframe tbody tr th {\n",
       "        vertical-align: top;\n",
       "    }\n",
       "\n",
       "    .dataframe thead th {\n",
       "        text-align: right;\n",
       "    }\n",
       "</style>\n",
       "<table border=\"1\" class=\"dataframe\">\n",
       "  <thead>\n",
       "    <tr style=\"text-align: right;\">\n",
       "      <th></th>\n",
       "      <th>First Name</th>\n",
       "      <th>Gender</th>\n",
       "      <th>Start Date</th>\n",
       "      <th>Last Login Time</th>\n",
       "      <th>Salary</th>\n",
       "      <th>Bonus %</th>\n",
       "      <th>Senior Management</th>\n",
       "      <th>Team</th>\n",
       "    </tr>\n",
       "  </thead>\n",
       "  <tbody>\n",
       "    <tr>\n",
       "      <th>576</th>\n",
       "      <td>Michael</td>\n",
       "      <td>Male</td>\n",
       "      <td>1993-07-30</td>\n",
       "      <td>5:35 PM</td>\n",
       "      <td>35013</td>\n",
       "      <td>14.879</td>\n",
       "      <td>False</td>\n",
       "      <td>Product</td>\n",
       "    </tr>\n",
       "    <tr>\n",
       "      <th>238</th>\n",
       "      <td>Kevin</td>\n",
       "      <td>Male</td>\n",
       "      <td>1982-03-25</td>\n",
       "      <td>7:31 AM</td>\n",
       "      <td>35061</td>\n",
       "      <td>5.128</td>\n",
       "      <td>False</td>\n",
       "      <td>Legal</td>\n",
       "    </tr>\n",
       "    <tr>\n",
       "      <th>82</th>\n",
       "      <td>Steven</td>\n",
       "      <td>Male</td>\n",
       "      <td>1980-03-30</td>\n",
       "      <td>9:20 PM</td>\n",
       "      <td>35095</td>\n",
       "      <td>8.379</td>\n",
       "      <td>True</td>\n",
       "      <td>Client Services</td>\n",
       "    </tr>\n",
       "    <tr>\n",
       "      <th>63</th>\n",
       "      <td>Matthew</td>\n",
       "      <td>Male</td>\n",
       "      <td>2013-01-02</td>\n",
       "      <td>10:33 PM</td>\n",
       "      <td>35203</td>\n",
       "      <td>18.040</td>\n",
       "      <td>False</td>\n",
       "      <td>Human Resources</td>\n",
       "    </tr>\n",
       "    <tr>\n",
       "      <th>650</th>\n",
       "      <td>Cynthia</td>\n",
       "      <td>Female</td>\n",
       "      <td>1986-07-05</td>\n",
       "      <td>1:24 AM</td>\n",
       "      <td>35381</td>\n",
       "      <td>11.749</td>\n",
       "      <td>False</td>\n",
       "      <td>Finance</td>\n",
       "    </tr>\n",
       "  </tbody>\n",
       "</table>\n",
       "</div>"
      ],
      "text/plain": [
       "    First Name  Gender Start Date Last Login Time  Salary  Bonus %  \\\n",
       "576    Michael    Male 1993-07-30         5:35 PM   35013   14.879   \n",
       "238      Kevin    Male 1982-03-25         7:31 AM   35061    5.128   \n",
       "82      Steven    Male 1980-03-30         9:20 PM   35095    8.379   \n",
       "63     Matthew    Male 2013-01-02        10:33 PM   35203   18.040   \n",
       "650    Cynthia  Female 1986-07-05         1:24 AM   35381   11.749   \n",
       "\n",
       "    Senior Management             Team  \n",
       "576             False          Product  \n",
       "238             False            Legal  \n",
       "82               True  Client Services  \n",
       "63              False  Human Resources  \n",
       "650             False          Finance  "
      ]
     },
     "execution_count": 73,
     "metadata": {},
     "output_type": "execute_result"
    }
   ],
   "source": [
    "df.nsmallest(5, 'Salary')"
   ]
  },
  {
   "cell_type": "code",
   "execution_count": 82,
   "id": "b84ba51b",
   "metadata": {},
   "outputs": [
    {
     "data": {
      "text/html": [
       "<div>\n",
       "<style scoped>\n",
       "    .dataframe tbody tr th:only-of-type {\n",
       "        vertical-align: middle;\n",
       "    }\n",
       "\n",
       "    .dataframe tbody tr th {\n",
       "        vertical-align: top;\n",
       "    }\n",
       "\n",
       "    .dataframe thead th {\n",
       "        text-align: right;\n",
       "    }\n",
       "</style>\n",
       "<table border=\"1\" class=\"dataframe\">\n",
       "  <thead>\n",
       "    <tr style=\"text-align: right;\">\n",
       "      <th></th>\n",
       "      <th>First Name</th>\n",
       "      <th>Gender</th>\n",
       "      <th>Start Date</th>\n",
       "      <th>Last Login Time</th>\n",
       "      <th>Salary</th>\n",
       "      <th>Bonus %</th>\n",
       "      <th>Senior Management</th>\n",
       "      <th>Team</th>\n",
       "    </tr>\n",
       "  </thead>\n",
       "  <tbody>\n",
       "    <tr>\n",
       "      <th>20</th>\n",
       "      <td>Lois</td>\n",
       "      <td>NaN</td>\n",
       "      <td>1995-04-22</td>\n",
       "      <td>7:18 PM</td>\n",
       "      <td>64714</td>\n",
       "      <td>4.934</td>\n",
       "      <td>True</td>\n",
       "      <td>Legal</td>\n",
       "    </tr>\n",
       "    <tr>\n",
       "      <th>22</th>\n",
       "      <td>Joshua</td>\n",
       "      <td>NaN</td>\n",
       "      <td>2012-03-08</td>\n",
       "      <td>1:58 AM</td>\n",
       "      <td>90816</td>\n",
       "      <td>18.816</td>\n",
       "      <td>True</td>\n",
       "      <td>Client Services</td>\n",
       "    </tr>\n",
       "    <tr>\n",
       "      <th>27</th>\n",
       "      <td>Scott</td>\n",
       "      <td>NaN</td>\n",
       "      <td>1991-07-11</td>\n",
       "      <td>6:58 PM</td>\n",
       "      <td>122367</td>\n",
       "      <td>5.218</td>\n",
       "      <td>False</td>\n",
       "      <td>Legal</td>\n",
       "    </tr>\n",
       "    <tr>\n",
       "      <th>31</th>\n",
       "      <td>Joyce</td>\n",
       "      <td>NaN</td>\n",
       "      <td>2005-02-20</td>\n",
       "      <td>2:40 PM</td>\n",
       "      <td>88657</td>\n",
       "      <td>12.752</td>\n",
       "      <td>False</td>\n",
       "      <td>Product</td>\n",
       "    </tr>\n",
       "    <tr>\n",
       "      <th>41</th>\n",
       "      <td>Christine</td>\n",
       "      <td>NaN</td>\n",
       "      <td>2015-06-28</td>\n",
       "      <td>1:08 AM</td>\n",
       "      <td>66582</td>\n",
       "      <td>11.308</td>\n",
       "      <td>True</td>\n",
       "      <td>Business Development</td>\n",
       "    </tr>\n",
       "    <tr>\n",
       "      <th>...</th>\n",
       "      <td>...</td>\n",
       "      <td>...</td>\n",
       "      <td>...</td>\n",
       "      <td>...</td>\n",
       "      <td>...</td>\n",
       "      <td>...</td>\n",
       "      <td>...</td>\n",
       "      <td>...</td>\n",
       "    </tr>\n",
       "    <tr>\n",
       "      <th>961</th>\n",
       "      <td>Antonio</td>\n",
       "      <td>NaN</td>\n",
       "      <td>1989-06-18</td>\n",
       "      <td>9:37 PM</td>\n",
       "      <td>103050</td>\n",
       "      <td>3.050</td>\n",
       "      <td>False</td>\n",
       "      <td>Legal</td>\n",
       "    </tr>\n",
       "    <tr>\n",
       "      <th>972</th>\n",
       "      <td>Victor</td>\n",
       "      <td>NaN</td>\n",
       "      <td>2006-07-28</td>\n",
       "      <td>2:49 PM</td>\n",
       "      <td>76381</td>\n",
       "      <td>11.159</td>\n",
       "      <td>True</td>\n",
       "      <td>Sales</td>\n",
       "    </tr>\n",
       "    <tr>\n",
       "      <th>985</th>\n",
       "      <td>Stephen</td>\n",
       "      <td>NaN</td>\n",
       "      <td>1983-07-10</td>\n",
       "      <td>8:10 PM</td>\n",
       "      <td>85668</td>\n",
       "      <td>1.909</td>\n",
       "      <td>False</td>\n",
       "      <td>Legal</td>\n",
       "    </tr>\n",
       "    <tr>\n",
       "      <th>989</th>\n",
       "      <td>Justin</td>\n",
       "      <td>NaN</td>\n",
       "      <td>1991-02-10</td>\n",
       "      <td>4:58 PM</td>\n",
       "      <td>38344</td>\n",
       "      <td>3.794</td>\n",
       "      <td>False</td>\n",
       "      <td>Legal</td>\n",
       "    </tr>\n",
       "    <tr>\n",
       "      <th>995</th>\n",
       "      <td>Henry</td>\n",
       "      <td>NaN</td>\n",
       "      <td>2014-11-23</td>\n",
       "      <td>6:09 AM</td>\n",
       "      <td>132483</td>\n",
       "      <td>16.655</td>\n",
       "      <td>False</td>\n",
       "      <td>Distribution</td>\n",
       "    </tr>\n",
       "  </tbody>\n",
       "</table>\n",
       "<p>145 rows × 8 columns</p>\n",
       "</div>"
      ],
      "text/plain": [
       "    First Name Gender Start Date Last Login Time  Salary  Bonus %  \\\n",
       "20        Lois    NaN 1995-04-22         7:18 PM   64714    4.934   \n",
       "22      Joshua    NaN 2012-03-08         1:58 AM   90816   18.816   \n",
       "27       Scott    NaN 1991-07-11         6:58 PM  122367    5.218   \n",
       "31       Joyce    NaN 2005-02-20         2:40 PM   88657   12.752   \n",
       "41   Christine    NaN 2015-06-28         1:08 AM   66582   11.308   \n",
       "..         ...    ...        ...             ...     ...      ...   \n",
       "961    Antonio    NaN 1989-06-18         9:37 PM  103050    3.050   \n",
       "972     Victor    NaN 2006-07-28         2:49 PM   76381   11.159   \n",
       "985    Stephen    NaN 1983-07-10         8:10 PM   85668    1.909   \n",
       "989     Justin    NaN 1991-02-10         4:58 PM   38344    3.794   \n",
       "995      Henry    NaN 2014-11-23         6:09 AM  132483   16.655   \n",
       "\n",
       "    Senior Management                  Team  \n",
       "20               True                 Legal  \n",
       "22               True       Client Services  \n",
       "27              False                 Legal  \n",
       "31              False               Product  \n",
       "41               True  Business Development  \n",
       "..                ...                   ...  \n",
       "961             False                 Legal  \n",
       "972              True                 Sales  \n",
       "985             False                 Legal  \n",
       "989             False                 Legal  \n",
       "995             False          Distribution  \n",
       "\n",
       "[145 rows x 8 columns]"
      ]
     },
     "execution_count": 82,
     "metadata": {},
     "output_type": "execute_result"
    }
   ],
   "source": [
    "df[df['Gender'].isnull()]"
   ]
  },
  {
   "cell_type": "code",
   "execution_count": 83,
   "id": "d65b22ab",
   "metadata": {},
   "outputs": [],
   "source": [
    "df['Gender'].fillna(\"No Gender\", inplace=True )"
   ]
  },
  {
   "cell_type": "code",
   "execution_count": 87,
   "id": "3141c680",
   "metadata": {},
   "outputs": [
    {
     "name": "stdout",
     "output_type": "stream",
     "text": [
      "<class 'pandas.core.frame.DataFrame'>\n",
      "RangeIndex: 1000 entries, 0 to 999\n",
      "Data columns (total 8 columns):\n",
      " #   Column             Non-Null Count  Dtype         \n",
      "---  ------             --------------  -----         \n",
      " 0   First Name         933 non-null    object        \n",
      " 1   Gender             1000 non-null   object        \n",
      " 2   Start Date         1000 non-null   datetime64[ns]\n",
      " 3   Last Login Time    1000 non-null   object        \n",
      " 4   Salary             1000 non-null   int64         \n",
      " 5   Bonus %            1000 non-null   float64       \n",
      " 6   Senior Management  933 non-null    object        \n",
      " 7   Team               957 non-null    object        \n",
      "dtypes: datetime64[ns](1), float64(1), int64(1), object(5)\n",
      "memory usage: 62.6+ KB\n"
     ]
    }
   ],
   "source": [
    "df.info()"
   ]
  },
  {
   "cell_type": "code",
   "execution_count": 88,
   "id": "dda86895",
   "metadata": {},
   "outputs": [
    {
     "data": {
      "text/plain": [
       "First Name           67\n",
       "Gender                0\n",
       "Start Date            0\n",
       "Last Login Time       0\n",
       "Salary                0\n",
       "Bonus %               0\n",
       "Senior Management    67\n",
       "Team                 43\n",
       "dtype: int64"
      ]
     },
     "execution_count": 88,
     "metadata": {},
     "output_type": "execute_result"
    }
   ],
   "source": [
    "df.isna().sum()"
   ]
  },
  {
   "cell_type": "code",
   "execution_count": 89,
   "id": "6510c2e2",
   "metadata": {},
   "outputs": [
    {
     "ename": "KeyError",
     "evalue": "0",
     "output_type": "error",
     "traceback": [
      "\u001b[1;31m---------------------------------------------------------------------------\u001b[0m",
      "\u001b[1;31mKeyError\u001b[0m                                  Traceback (most recent call last)",
      "File \u001b[1;32mC:\\Python\\anaconda3\\Lib\\site-packages\\pandas\\core\\indexes\\base.py:3653\u001b[0m, in \u001b[0;36mIndex.get_loc\u001b[1;34m(self, key)\u001b[0m\n\u001b[0;32m   3652\u001b[0m \u001b[38;5;28;01mtry\u001b[39;00m:\n\u001b[1;32m-> 3653\u001b[0m     \u001b[38;5;28;01mreturn\u001b[39;00m \u001b[38;5;28mself\u001b[39m\u001b[38;5;241m.\u001b[39m_engine\u001b[38;5;241m.\u001b[39mget_loc(casted_key)\n\u001b[0;32m   3654\u001b[0m \u001b[38;5;28;01mexcept\u001b[39;00m \u001b[38;5;167;01mKeyError\u001b[39;00m \u001b[38;5;28;01mas\u001b[39;00m err:\n",
      "File \u001b[1;32mC:\\Python\\anaconda3\\Lib\\site-packages\\pandas\\_libs\\index.pyx:147\u001b[0m, in \u001b[0;36mpandas._libs.index.IndexEngine.get_loc\u001b[1;34m()\u001b[0m\n",
      "File \u001b[1;32mC:\\Python\\anaconda3\\Lib\\site-packages\\pandas\\_libs\\index.pyx:176\u001b[0m, in \u001b[0;36mpandas._libs.index.IndexEngine.get_loc\u001b[1;34m()\u001b[0m\n",
      "File \u001b[1;32mpandas\\_libs\\hashtable_class_helper.pxi:7080\u001b[0m, in \u001b[0;36mpandas._libs.hashtable.PyObjectHashTable.get_item\u001b[1;34m()\u001b[0m\n",
      "File \u001b[1;32mpandas\\_libs\\hashtable_class_helper.pxi:7088\u001b[0m, in \u001b[0;36mpandas._libs.hashtable.PyObjectHashTable.get_item\u001b[1;34m()\u001b[0m\n",
      "\u001b[1;31mKeyError\u001b[0m: 0",
      "\nThe above exception was the direct cause of the following exception:\n",
      "\u001b[1;31mKeyError\u001b[0m                                  Traceback (most recent call last)",
      "Cell \u001b[1;32mIn[89], line 1\u001b[0m\n\u001b[1;32m----> 1\u001b[0m df[\u001b[38;5;241m0\u001b[39m]\n",
      "File \u001b[1;32mC:\\Python\\anaconda3\\Lib\\site-packages\\pandas\\core\\frame.py:3761\u001b[0m, in \u001b[0;36mDataFrame.__getitem__\u001b[1;34m(self, key)\u001b[0m\n\u001b[0;32m   3759\u001b[0m \u001b[38;5;28;01mif\u001b[39;00m \u001b[38;5;28mself\u001b[39m\u001b[38;5;241m.\u001b[39mcolumns\u001b[38;5;241m.\u001b[39mnlevels \u001b[38;5;241m>\u001b[39m \u001b[38;5;241m1\u001b[39m:\n\u001b[0;32m   3760\u001b[0m     \u001b[38;5;28;01mreturn\u001b[39;00m \u001b[38;5;28mself\u001b[39m\u001b[38;5;241m.\u001b[39m_getitem_multilevel(key)\n\u001b[1;32m-> 3761\u001b[0m indexer \u001b[38;5;241m=\u001b[39m \u001b[38;5;28mself\u001b[39m\u001b[38;5;241m.\u001b[39mcolumns\u001b[38;5;241m.\u001b[39mget_loc(key)\n\u001b[0;32m   3762\u001b[0m \u001b[38;5;28;01mif\u001b[39;00m is_integer(indexer):\n\u001b[0;32m   3763\u001b[0m     indexer \u001b[38;5;241m=\u001b[39m [indexer]\n",
      "File \u001b[1;32mC:\\Python\\anaconda3\\Lib\\site-packages\\pandas\\core\\indexes\\base.py:3655\u001b[0m, in \u001b[0;36mIndex.get_loc\u001b[1;34m(self, key)\u001b[0m\n\u001b[0;32m   3653\u001b[0m     \u001b[38;5;28;01mreturn\u001b[39;00m \u001b[38;5;28mself\u001b[39m\u001b[38;5;241m.\u001b[39m_engine\u001b[38;5;241m.\u001b[39mget_loc(casted_key)\n\u001b[0;32m   3654\u001b[0m \u001b[38;5;28;01mexcept\u001b[39;00m \u001b[38;5;167;01mKeyError\u001b[39;00m \u001b[38;5;28;01mas\u001b[39;00m err:\n\u001b[1;32m-> 3655\u001b[0m     \u001b[38;5;28;01mraise\u001b[39;00m \u001b[38;5;167;01mKeyError\u001b[39;00m(key) \u001b[38;5;28;01mfrom\u001b[39;00m \u001b[38;5;21;01merr\u001b[39;00m\n\u001b[0;32m   3656\u001b[0m \u001b[38;5;28;01mexcept\u001b[39;00m \u001b[38;5;167;01mTypeError\u001b[39;00m:\n\u001b[0;32m   3657\u001b[0m     \u001b[38;5;66;03m# If we have a listlike key, _check_indexing_error will raise\u001b[39;00m\n\u001b[0;32m   3658\u001b[0m     \u001b[38;5;66;03m#  InvalidIndexError. Otherwise we fall through and re-raise\u001b[39;00m\n\u001b[0;32m   3659\u001b[0m     \u001b[38;5;66;03m#  the TypeError.\u001b[39;00m\n\u001b[0;32m   3660\u001b[0m     \u001b[38;5;28mself\u001b[39m\u001b[38;5;241m.\u001b[39m_check_indexing_error(key)\n",
      "\u001b[1;31mKeyError\u001b[0m: 0"
     ]
    }
   ],
   "source": [
    "df()"
   ]
  },
  {
   "cell_type": "code",
   "execution_count": 1,
   "id": "05295908",
   "metadata": {},
   "outputs": [
    {
     "ename": "ModuleNotFoundError",
     "evalue": "No module named 'textblob'",
     "output_type": "error",
     "traceback": [
      "\u001b[1;31m---------------------------------------------------------------------------\u001b[0m",
      "\u001b[1;31mModuleNotFoundError\u001b[0m                       Traceback (most recent call last)",
      "Cell \u001b[1;32mIn[1], line 1\u001b[0m\n\u001b[1;32m----> 1\u001b[0m \u001b[38;5;28;01mfrom\u001b[39;00m \u001b[38;5;21;01mtextblob\u001b[39;00m \u001b[38;5;28;01mimport\u001b[39;00m TextBlob\n",
      "\u001b[1;31mModuleNotFoundError\u001b[0m: No module named 'textblob'"
     ]
    }
   ],
   "source": [
    "from textblob import TextBlob"
   ]
  },
  {
   "cell_type": "code",
   "execution_count": 2,
   "id": "fd6eb1d3-889c-49d0-b428-3edd885b7d81",
   "metadata": {},
   "outputs": [
    {
     "name": "stdout",
     "output_type": "stream",
     "text": [
      "Collecting textblob\n",
      "  Downloading textblob-0.18.0.post0-py3-none-any.whl.metadata (4.5 kB)\n",
      "Collecting nltk>=3.8 (from textblob)\n",
      "  Downloading nltk-3.8.1-py3-none-any.whl.metadata (2.8 kB)\n",
      "Collecting click (from nltk>=3.8->textblob)\n",
      "  Downloading click-8.1.7-py3-none-any.whl.metadata (3.0 kB)\n",
      "Requirement already satisfied: joblib in c:\\python\\python312\\lib\\site-packages (from nltk>=3.8->textblob) (1.3.2)\n",
      "Collecting regex>=2021.8.3 (from nltk>=3.8->textblob)\n",
      "  Downloading regex-2024.5.15-cp312-cp312-win_amd64.whl.metadata (41 kB)\n",
      "     ---------------------------------------- 0.0/42.0 kB ? eta -:--:--\n",
      "     ---------------------------------------- 0.0/42.0 kB ? eta -:--:--\n",
      "     ---------------------------------------- 0.0/42.0 kB ? eta -:--:--\n",
      "     ----------------------------- ---------- 30.7/42.0 kB 1.4 MB/s eta 0:00:01\n",
      "     ----------------------------- ---------- 30.7/42.0 kB 1.4 MB/s eta 0:00:01\n",
      "     -------------------------------------- 42.0/42.0 kB 337.6 kB/s eta 0:00:00\n",
      "Requirement already satisfied: tqdm in c:\\python\\python312\\lib\\site-packages (from nltk>=3.8->textblob) (4.66.4)\n",
      "Requirement already satisfied: colorama in c:\\python\\python312\\lib\\site-packages (from click->nltk>=3.8->textblob) (0.4.6)\n",
      "Downloading textblob-0.18.0.post0-py3-none-any.whl (626 kB)\n",
      "   ---------------------------------------- 0.0/626.3 kB ? eta -:--:--\n",
      "   - -------------------------------------- 30.7/626.3 kB 1.4 MB/s eta 0:00:01\n",
      "   ----- ---------------------------------- 81.9/626.3 kB 1.2 MB/s eta 0:00:01\n",
      "   -------- ------------------------------- 133.1/626.3 kB 1.6 MB/s eta 0:00:01\n",
      "   -------- ------------------------------- 133.1/626.3 kB 1.6 MB/s eta 0:00:01\n",
      "   -------- ------------------------------- 133.1/626.3 kB 1.6 MB/s eta 0:00:01\n",
      "   -------------------- ------------------- 327.7/626.3 kB 1.4 MB/s eta 0:00:01\n",
      "   ------------------------------- -------- 491.5/626.3 kB 1.7 MB/s eta 0:00:01\n",
      "   ---------------------------------- ----- 542.7/626.3 kB 1.9 MB/s eta 0:00:01\n",
      "   ---------------------------------- ----- 542.7/626.3 kB 1.9 MB/s eta 0:00:01\n",
      "   ---------------------------------------  624.6/626.3 kB 1.5 MB/s eta 0:00:01\n",
      "   ---------------------------------------- 626.3/626.3 kB 1.5 MB/s eta 0:00:00\n",
      "Downloading nltk-3.8.1-py3-none-any.whl (1.5 MB)\n",
      "   ---------------------------------------- 0.0/1.5 MB ? eta -:--:--\n",
      "   ----- ---------------------------------- 0.2/1.5 MB ? eta -:--:--\n",
      "   ------------------- -------------------- 0.7/1.5 MB 9.5 MB/s eta 0:00:01\n",
      "   ---------------------------------- ----- 1.3/1.5 MB 9.3 MB/s eta 0:00:01\n",
      "   ---------------------------------------- 1.5/1.5 MB 9.6 MB/s eta 0:00:00\n",
      "Downloading regex-2024.5.15-cp312-cp312-win_amd64.whl (268 kB)\n",
      "   ---------------------------------------- 0.0/268.5 kB ? eta -:--:--\n",
      "   --------------------------------------- 268.5/268.5 kB 16.1 MB/s eta 0:00:00\n",
      "Downloading click-8.1.7-py3-none-any.whl (97 kB)\n",
      "   ---------------------------------------- 0.0/97.9 kB ? eta -:--:--\n",
      "   ---------------------------------------- 97.9/97.9 kB 5.5 MB/s eta 0:00:00\n",
      "Installing collected packages: regex, click, nltk, textblob\n",
      "Successfully installed click-8.1.7 nltk-3.8.1 regex-2024.5.15 textblob-0.18.0.post0\n",
      "Note: you may need to restart the kernel to use updated packages.\n"
     ]
    }
   ],
   "source": [
    "pip install textblob"
   ]
  },
  {
   "cell_type": "code",
   "execution_count": 1,
   "id": "ffeaf5ba-f2cd-4289-95ef-9136690baf14",
   "metadata": {},
   "outputs": [],
   "source": [
    "from textblob import TextBlob"
   ]
  },
  {
   "cell_type": "code",
   "execution_count": 2,
   "id": "2a2c14f9-da06-4c1c-bcdb-8800d78f1942",
   "metadata": {},
   "outputs": [
    {
     "name": "stdout",
     "output_type": "stream",
     "text": [
      "Original Text :  I havv a guud ideea\n",
      "Corrected Text :  I have a good idea\n"
     ]
    }
   ],
   "source": [
    "#misspelled words\n",
    "blob = TextBlob(\"I havv a guud ideea\")\n",
    "\n",
    "# Perform spelling correction\n",
    "corrected_blob = blob.correct()\n",
    "\n",
    "# Print the corrected Text\n",
    "print(\"Original Text : \", blob)\n",
    "print(\"Corrected Text : \", corrected_blob)"
   ]
  },
  {
   "cell_type": "code",
   "execution_count": null,
   "id": "da06775f-8c19-42e2-8972-cc31c1bc0e06",
   "metadata": {},
   "outputs": [],
   "source": []
  }
 ],
 "metadata": {
  "kernelspec": {
   "display_name": "Python 3 (ipykernel)",
   "language": "python",
   "name": "python3"
  },
  "language_info": {
   "codemirror_mode": {
    "name": "ipython",
    "version": 3
   },
   "file_extension": ".py",
   "mimetype": "text/x-python",
   "name": "python",
   "nbconvert_exporter": "python",
   "pygments_lexer": "ipython3",
   "version": "3.12.0"
  }
 },
 "nbformat": 4,
 "nbformat_minor": 5
}
